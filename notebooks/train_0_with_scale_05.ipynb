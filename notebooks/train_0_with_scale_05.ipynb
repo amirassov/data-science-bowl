{
 "cells": [
  {
   "cell_type": "code",
   "execution_count": 1,
   "metadata": {},
   "outputs": [
    {
     "data": {
      "text/html": [
       "<style>.container { width:95% !important; }</style>"
      ],
      "text/plain": [
       "<IPython.core.display.HTML object>"
      ]
     },
     "metadata": {},
     "output_type": "display_data"
    }
   ],
   "source": [
    "from IPython.core.display import display, HTML\n",
    "display(HTML(\"<style>.container { width:95% !important; }</style>\"))"
   ]
  },
  {
   "cell_type": "code",
   "execution_count": 2,
   "metadata": {},
   "outputs": [],
   "source": [
    "import warnings\n",
    "warnings.simplefilter(\"ignore\", UserWarning)\n",
    "warnings.simplefilter(\"ignore\", FutureWarning)\n",
    "warnings.simplefilter(\"ignore\", RuntimeWarning)\n",
    "\n",
    "import sys\n",
    "sys.path.append('../../dstorch/')\n",
    "\n",
    "import matplotlib.pyplot as plt\n",
    "%matplotlib inline\n",
    "%reload_ext autoreload\n",
    "%autoreload 2"
   ]
  },
  {
   "cell_type": "code",
   "execution_count": 3,
   "metadata": {},
   "outputs": [],
   "source": [
    "import os\n",
    "import pandas as pd\n",
    "from dstorch import transforms\n",
    "from dstorch.train import train\n",
    "import torch.backends.cudnn as cudnn"
   ]
  },
  {
   "cell_type": "code",
   "execution_count": 4,
   "metadata": {},
   "outputs": [],
   "source": [
    "ids = list([x.split('.')[0] for x in list(next(os.walk(\"../output_data/with_scale_05/images/\"))[2])])\n",
    "classes = pd.read_csv(\"../data/classes.csv\")\n",
    "val_ids = list(classes.loc[classes['type'] == 'val', 'id'])\n",
    "train_ids = list(set(ids) - set(val_ids))"
   ]
  },
  {
   "cell_type": "code",
   "execution_count": 5,
   "metadata": {},
   "outputs": [],
   "source": [
    "train_transforms = transforms.DualCompose(\n",
    "    [\n",
    "        transforms.RandomCrop((256, 256)),\n",
    "        transforms.VerticalFlip(),\n",
    "        transforms.HorizontalFlip(),\n",
    "        transforms.Transpose(),\n",
    "        transforms.ShiftScaleRotate(scale_limit=0.3, shift_limit=0.2),\n",
    "        transforms.Distort1(0.4, 0.4),\n",
    "        transforms.ImageOnly(transforms.RandomBrightness(0.5)),\n",
    "        transforms.ImageOnly(transforms.RandomContrast(0.5)),\n",
    "        transforms.ImageOnly(transforms.RandomSaturation(0.5)),\n",
    "        transforms.ImageOnly(transforms.Normalize(\n",
    "            mean=[0.485, 0.456, 0.406],\n",
    "            std=[0.229, 0.224, 0.225]\n",
    "        ))\n",
    "    ]\n",
    ")\n",
    "\n",
    "val_transforms = transforms.DualCompose(\n",
    "    [\n",
    "        transforms.ImageOnly(transforms.Normalize(\n",
    "            mean=[0.485, 0.456, 0.406],\n",
    "            std=[0.229, 0.224, 0.225]\n",
    "        ))\n",
    "    ]\n",
    ")"
   ]
  },
  {
   "cell_type": "code",
   "execution_count": 6,
   "metadata": {},
   "outputs": [],
   "source": [
    "cudnn.benchmark = True"
   ]
  },
  {
   "cell_type": "code",
   "execution_count": null,
   "metadata": {},
   "outputs": [
    {
     "name": "stderr",
     "output_type": "stream",
     "text": [
      "Epoch 0, lr 0.0003: 100% 43/43 [00:15<00:00,  2.73it/s, 0 cls=1.26483, 1 cls=1.70370, 2 cls=1.77598, bce=0.40089, dice=0.38925, loss=1.54261]\n"
     ]
    },
    {
     "name": "stdout",
     "output_type": "stream",
     "text": [
      "loss: 0.49001 | bce: 0.13424 | dice: 0.66831 | 0 cls: 0.30054 | 1 cls: 0.36263 | 2 cls: 1.06285\n"
     ]
    },
    {
     "name": "stderr",
     "output_type": "stream",
     "text": [
      "Epoch 1, lr 0.0003: 100% 43/43 [00:12<00:00,  3.52it/s, 0 cls=0.40058, 1 cls=0.60206, 2 cls=0.91173, bce=0.18896, dice=0.66408, loss=0.58340]\n"
     ]
    },
    {
     "name": "stdout",
     "output_type": "stream",
     "text": [
      "loss: 0.34950 | bce: 0.09042 | dice: 0.74525 | 0 cls: 0.18969 | 1 cls: 0.29637 | 2 cls: 0.73707\n"
     ]
    },
    {
     "name": "stderr",
     "output_type": "stream",
     "text": [
      "Epoch 2, lr 0.0003: 100% 43/43 [00:12<00:00,  3.51it/s, 0 cls=0.36880, 1 cls=0.53766, 2 cls=0.79099, bce=0.16628, dice=0.69366, loss=0.52078]\n"
     ]
    },
    {
     "name": "stdout",
     "output_type": "stream",
     "text": [
      "loss: 0.35037 | bce: 0.08027 | dice: 0.74236 | 0 cls: 0.21949 | 1 cls: 0.31531 | 2 cls: 0.65105\n"
     ]
    },
    {
     "name": "stderr",
     "output_type": "stream",
     "text": [
      "Epoch 3, lr 0.0003: 100% 43/43 [00:12<00:00,  3.51it/s, 0 cls=0.32009, 1 cls=0.45770, 2 cls=0.65075, bce=0.13077, dice=0.72999, loss=0.44127]\n"
     ]
    },
    {
     "name": "stdout",
     "output_type": "stream",
     "text": [
      "loss: 0.29252 | bce: 0.06177 | dice: 0.78665 | 0 cls: 0.20997 | 1 cls: 0.25641 | 2 cls: 0.49381\n"
     ]
    },
    {
     "name": "stderr",
     "output_type": "stream",
     "text": [
      "Epoch 4, lr 0.0003: 100% 43/43 [00:12<00:00,  3.50it/s, 0 cls=0.34454, 1 cls=0.45418, 2 cls=0.63290, bce=0.13872, dice=0.73394, loss=0.44607]\n"
     ]
    },
    {
     "name": "stdout",
     "output_type": "stream",
     "text": [
      "loss: 0.24276 | bce: 0.05493 | dice: 0.82563 | 0 cls: 0.16138 | 1 cls: 0.22663 | 2 cls: 0.40927\n"
     ]
    },
    {
     "name": "stderr",
     "output_type": "stream",
     "text": [
      "Epoch 5, lr 0.0003: 100% 43/43 [00:12<00:00,  3.49it/s, 0 cls=0.30405, 1 cls=0.41990, 2 cls=0.58045, bce=0.12716, dice=0.75674, loss=0.40567]\n"
     ]
    },
    {
     "name": "stdout",
     "output_type": "stream",
     "text": [
      "loss: 0.26693 | bce: 0.06870 | dice: 0.80719 | 0 cls: 0.19492 | 1 cls: 0.21920 | 2 cls: 0.46310\n"
     ]
    },
    {
     "name": "stderr",
     "output_type": "stream",
     "text": [
      "Epoch 6, lr 0.0003: 100% 43/43 [00:12<00:00,  3.49it/s, 0 cls=0.27864, 1 cls=0.38397, 2 cls=0.53426, bce=0.11456, dice=0.77225, loss=0.37190]\n"
     ]
    },
    {
     "name": "stdout",
     "output_type": "stream",
     "text": [
      "loss: 0.22725 | bce: 0.04841 | dice: 0.83749 | 0 cls: 0.14317 | 1 cls: 0.22152 | 2 cls: 0.37359\n"
     ]
    },
    {
     "name": "stderr",
     "output_type": "stream",
     "text": [
      "Epoch 7, lr 0.0003: 100% 43/43 [00:12<00:00,  3.49it/s, 0 cls=0.27556, 1 cls=0.37838, 2 cls=0.52861, bce=0.11444, dice=0.77546, loss=0.36729]\n"
     ]
    },
    {
     "name": "stdout",
     "output_type": "stream",
     "text": [
      "loss: 0.22787 | bce: 0.04893 | dice: 0.83061 | 0 cls: 0.15357 | 1 cls: 0.20871 | 2 cls: 0.38823\n"
     ]
    },
    {
     "name": "stderr",
     "output_type": "stream",
     "text": [
      "Epoch 8, lr 0.0003: 100% 43/43 [00:12<00:00,  3.42it/s, 0 cls=0.26687, 1 cls=0.37410, 2 cls=0.51896, bce=0.11002, dice=0.77828, loss=0.36018]\n"
     ]
    },
    {
     "name": "stdout",
     "output_type": "stream",
     "text": [
      "loss: 0.28368 | bce: 0.07062 | dice: 0.79998 | 0 cls: 0.22935 | 1 cls: 0.23304 | 2 cls: 0.45732\n"
     ]
    },
    {
     "name": "stderr",
     "output_type": "stream",
     "text": [
      "Epoch 9, lr 0.0003: 100% 43/43 [00:12<00:00,  3.42it/s, 0 cls=0.28254, 1 cls=0.38290, 2 cls=0.53032, bce=0.11590, dice=0.77364, loss=0.37224]\n"
     ]
    },
    {
     "name": "stdout",
     "output_type": "stream",
     "text": [
      "loss: 0.22577 | bce: 0.05795 | dice: 0.83732 | 0 cls: 0.14060 | 1 cls: 0.21166 | 2 cls: 0.39479\n"
     ]
    },
    {
     "name": "stderr",
     "output_type": "stream",
     "text": [
      "Epoch 10, lr 0.0003: 100% 43/43 [00:12<00:00,  3.40it/s, 0 cls=0.25981, 1 cls=0.36202, 2 cls=0.50096, bce=0.11090, dice=0.78782, loss=0.34893]\n"
     ]
    },
    {
     "name": "stdout",
     "output_type": "stream",
     "text": [
      "loss: 0.22818 | bce: 0.05425 | dice: 0.83872 | 0 cls: 0.15166 | 1 cls: 0.21884 | 2 cls: 0.37340\n"
     ]
    },
    {
     "name": "stderr",
     "output_type": "stream",
     "text": [
      "Epoch 11, lr 0.0003: 100% 43/43 [00:12<00:00,  3.40it/s, 0 cls=0.27332, 1 cls=0.36945, 2 cls=0.51527, bce=0.11310, dice=0.78033, loss=0.36016]\n"
     ]
    },
    {
     "name": "stdout",
     "output_type": "stream",
     "text": [
      "loss: 0.19863 | bce: 0.04400 | dice: 0.85409 | 0 cls: 0.12735 | 1 cls: 0.19159 | 2 cls: 0.33320\n"
     ]
    },
    {
     "name": "stderr",
     "output_type": "stream",
     "text": [
      "Epoch 12, lr 0.0003: 100% 43/43 [00:12<00:00,  3.41it/s, 0 cls=0.25475, 1 cls=0.36076, 2 cls=0.49256, bce=0.10903, dice=0.79087, loss=0.34472]\n"
     ]
    },
    {
     "name": "stdout",
     "output_type": "stream",
     "text": [
      "loss: 0.21062 | bce: 0.04528 | dice: 0.84478 | 0 cls: 0.13610 | 1 cls: 0.20421 | 2 cls: 0.35190\n"
     ]
    },
    {
     "name": "stderr",
     "output_type": "stream",
     "text": [
      "Epoch 13, lr 0.0003: 100% 43/43 [00:12<00:00,  3.39it/s, 0 cls=0.26967, 1 cls=0.37043, 2 cls=0.51474, bce=0.11184, dice=0.78047, loss=0.35899]\n"
     ]
    },
    {
     "name": "stdout",
     "output_type": "stream",
     "text": [
      "loss: 0.21193 | bce: 0.04794 | dice: 0.84452 | 0 cls: 0.13494 | 1 cls: 0.20639 | 2 cls: 0.35541\n"
     ]
    },
    {
     "name": "stderr",
     "output_type": "stream",
     "text": [
      "Epoch 14, lr 0.0003: 100% 43/43 [00:12<00:00,  3.40it/s, 0 cls=0.25042, 1 cls=0.35031, 2 cls=0.48730, bce=0.10628, dice=0.79248, loss=0.33775]\n"
     ]
    },
    {
     "name": "stdout",
     "output_type": "stream",
     "text": [
      "loss: 0.19716 | bce: 0.04540 | dice: 0.85568 | 0 cls: 0.13037 | 1 cls: 0.18648 | 2 cls: 0.32996\n"
     ]
    },
    {
     "name": "stderr",
     "output_type": "stream",
     "text": [
      "Epoch 15, lr 0.0003: 100% 43/43 [00:12<00:00,  3.38it/s, 0 cls=0.24299, 1 cls=0.34350, 2 cls=0.47912, bce=0.10348, dice=0.79647, loss=0.33042]\n"
     ]
    },
    {
     "name": "stdout",
     "output_type": "stream",
     "text": [
      "loss: 0.20002 | bce: 0.04525 | dice: 0.85323 | 0 cls: 0.13138 | 1 cls: 0.19134 | 2 cls: 0.33486\n"
     ]
    },
    {
     "name": "stderr",
     "output_type": "stream",
     "text": [
      "Epoch 16, lr 0.0003: 100% 43/43 [00:12<00:00,  3.39it/s, 0 cls=0.23074, 1 cls=0.33500, 2 cls=0.46347, bce=0.09920, dice=0.80229, loss=0.31899]\n"
     ]
    },
    {
     "name": "stdout",
     "output_type": "stream",
     "text": [
      "loss: 0.23390 | bce: 0.05330 | dice: 0.83221 | 0 cls: 0.14589 | 1 cls: 0.23943 | 2 cls: 0.38250\n"
     ]
    },
    {
     "name": "stderr",
     "output_type": "stream",
     "text": [
      "Epoch 17, lr 0.0003: 100% 43/43 [00:12<00:00,  3.41it/s, 0 cls=0.23084, 1 cls=0.32991, 2 cls=0.45574, bce=0.09891, dice=0.80491, loss=0.31545]\n"
     ]
    },
    {
     "name": "stdout",
     "output_type": "stream",
     "text": [
      "loss: 0.19857 | bce: 0.04406 | dice: 0.85187 | 0 cls: 0.13652 | 1 cls: 0.18346 | 2 cls: 0.33380\n"
     ]
    },
    {
     "name": "stderr",
     "output_type": "stream",
     "text": [
      "Epoch 18, lr 0.0003: 100% 43/43 [00:12<00:00,  3.38it/s, 0 cls=0.24103, 1 cls=0.33771, 2 cls=0.47094, bce=0.10109, dice=0.79824, loss=0.32569]\n"
     ]
    },
    {
     "name": "stdout",
     "output_type": "stream",
     "text": [
      "loss: 0.20845 | bce: 0.04582 | dice: 0.84433 | 0 cls: 0.14540 | 1 cls: 0.19020 | 2 cls: 0.35385\n"
     ]
    },
    {
     "name": "stderr",
     "output_type": "stream",
     "text": [
      "Epoch 19, lr 0.0003: 100% 43/43 [00:12<00:00,  3.39it/s, 0 cls=0.23286, 1 cls=0.33610, 2 cls=0.46323, bce=0.09948, dice=0.80190, loss=0.32023]\n"
     ]
    },
    {
     "name": "stdout",
     "output_type": "stream",
     "text": [
      "loss: 0.21706 | bce: 0.04954 | dice: 0.83918 | 0 cls: 0.14832 | 1 cls: 0.20408 | 2 cls: 0.36980\n"
     ]
    },
    {
     "name": "stderr",
     "output_type": "stream",
     "text": [
      "Epoch 20, lr 0.0003: 100% 43/43 [00:12<00:00,  3.40it/s, 0 cls=0.22842, 1 cls=0.32631, 2 cls=0.45501, bce=0.09776, dice=0.80585, loss=0.31289]\n"
     ]
    },
    {
     "name": "stdout",
     "output_type": "stream",
     "text": [
      "loss: 0.20471 | bce: 0.04191 | dice: 0.84777 | 0 cls: 0.13129 | 1 cls: 0.19875 | 2 cls: 0.34816\n"
     ]
    },
    {
     "name": "stderr",
     "output_type": "stream",
     "text": [
      "Epoch 21, lr 0.0003: 100% 43/43 [00:12<00:00,  3.39it/s, 0 cls=0.23795, 1 cls=0.33828, 2 cls=0.46304, bce=0.10172, dice=0.80136, loss=0.32310]\n"
     ]
    },
    {
     "name": "stdout",
     "output_type": "stream",
     "text": [
      "loss: 0.21299 | bce: 0.04794 | dice: 0.84420 | 0 cls: 0.14274 | 1 cls: 0.20672 | 2 cls: 0.35286\n"
     ]
    },
    {
     "name": "stderr",
     "output_type": "stream",
     "text": [
      "Epoch 22, lr 0.0003: 100% 43/43 [00:12<00:00,  3.40it/s, 0 cls=0.23444, 1 cls=0.32866, 2 cls=0.45926, bce=0.09993, dice=0.80384, loss=0.31709]\n"
     ]
    },
    {
     "name": "stdout",
     "output_type": "stream",
     "text": [
      "loss: 0.19355 | bce: 0.04041 | dice: 0.85455 | 0 cls: 0.12864 | 1 cls: 0.18424 | 2 cls: 0.32545\n"
     ]
    },
    {
     "name": "stderr",
     "output_type": "stream",
     "text": [
      "Epoch 23, lr 0.0003: 100% 43/43 [00:12<00:00,  3.40it/s, 0 cls=0.22625, 1 cls=0.32466, 2 cls=0.44736, bce=0.09577, dice=0.80741, loss=0.30984]\n"
     ]
    },
    {
     "name": "stdout",
     "output_type": "stream",
     "text": [
      "loss: 0.20663 | bce: 0.05197 | dice: 0.85315 | 0 cls: 0.12902 | 1 cls: 0.20833 | 2 cls: 0.34508\n"
     ]
    },
    {
     "name": "stderr",
     "output_type": "stream",
     "text": [
      "Epoch 24, lr 0.0003: 100% 43/43 [00:12<00:00,  3.39it/s, 0 cls=0.22923, 1 cls=0.32461, 2 cls=0.45407, bce=0.09733, dice=0.80536, loss=0.31235]\n"
     ]
    },
    {
     "name": "stdout",
     "output_type": "stream",
     "text": [
      "loss: 0.20323 | bce: 0.04650 | dice: 0.85131 | 0 cls: 0.13154 | 1 cls: 0.19873 | 2 cls: 0.33921\n"
     ]
    },
    {
     "name": "stderr",
     "output_type": "stream",
     "text": [
      "Epoch 25, lr 0.0003: 100% 43/43 [00:12<00:00,  3.38it/s, 0 cls=0.23291, 1 cls=0.31950, 2 cls=0.44798, bce=0.09923, dice=0.80823, loss=0.31056]\n"
     ]
    },
    {
     "name": "stdout",
     "output_type": "stream",
     "text": [
      "loss: 0.19058 | bce: 0.04492 | dice: 0.86112 | 0 cls: 0.12436 | 1 cls: 0.18583 | 2 cls: 0.31829\n"
     ]
    },
    {
     "name": "stderr",
     "output_type": "stream",
     "text": [
      "Epoch 26, lr 0.0003: 100% 43/43 [00:12<00:00,  3.41it/s, 0 cls=0.23437, 1 cls=0.32821, 2 cls=0.45665, bce=0.09938, dice=0.80442, loss=0.31636]\n"
     ]
    },
    {
     "name": "stdout",
     "output_type": "stream",
     "text": [
      "loss: 0.20554 | bce: 0.04970 | dice: 0.84898 | 0 cls: 0.13777 | 1 cls: 0.19545 | 2 cls: 0.34861\n"
     ]
    },
    {
     "name": "stderr",
     "output_type": "stream",
     "text": [
      "Epoch 27, lr 0.0003: 100% 43/43 [00:12<00:00,  3.38it/s, 0 cls=0.22672, 1 cls=0.31511, 2 cls=0.43955, bce=0.09562, dice=0.81040, loss=0.30464]\n"
     ]
    },
    {
     "name": "stdout",
     "output_type": "stream",
     "text": [
      "loss: 0.19063 | bce: 0.04204 | dice: 0.85789 | 0 cls: 0.12623 | 1 cls: 0.18359 | 2 cls: 0.32000\n"
     ]
    },
    {
     "name": "stderr",
     "output_type": "stream",
     "text": [
      "Epoch 28, lr 0.0003: 100% 43/43 [00:12<00:00,  3.41it/s, 0 cls=0.21802, 1 cls=0.31002, 2 cls=0.43409, bce=0.09395, dice=0.81427, loss=0.29804]\n"
     ]
    },
    {
     "name": "stdout",
     "output_type": "stream",
     "text": [
      "loss: 0.19433 | bce: 0.04305 | dice: 0.85632 | 0 cls: 0.12538 | 1 cls: 0.19110 | 2 cls: 0.32306\n"
     ]
    },
    {
     "name": "stderr",
     "output_type": "stream",
     "text": [
      "Epoch 29, lr 0.0003: 100% 43/43 [00:12<00:00,  3.40it/s, 0 cls=0.20780, 1 cls=0.30231, 2 cls=0.42011, bce=0.09119, dice=0.82082, loss=0.28807]\n"
     ]
    },
    {
     "name": "stdout",
     "output_type": "stream",
     "text": [
      "loss: 0.18972 | bce: 0.04264 | dice: 0.85914 | 0 cls: 0.12563 | 1 cls: 0.18053 | 2 cls: 0.31797\n"
     ]
    },
    {
     "name": "stderr",
     "output_type": "stream",
     "text": [
      "Epoch 30, lr 0.0003: 100% 43/43 [00:12<00:00,  3.41it/s, 0 cls=0.22202, 1 cls=0.31418, 2 cls=0.43846, bce=0.09541, dice=0.81235, loss=0.30217]\n"
     ]
    },
    {
     "name": "stdout",
     "output_type": "stream",
     "text": [
      "loss: 0.19756 | bce: 0.04635 | dice: 0.85544 | 0 cls: 0.13040 | 1 cls: 0.19135 | 2 cls: 0.32815\n"
     ]
    },
    {
     "name": "stderr",
     "output_type": "stream",
     "text": [
      "Epoch 31, lr 0.0003: 100% 43/43 [00:12<00:00,  3.40it/s, 0 cls=0.21989, 1 cls=0.31118, 2 cls=0.43301, bce=0.09439, dice=0.81414, loss=0.29903]\n"
     ]
    },
    {
     "name": "stdout",
     "output_type": "stream",
     "text": [
      "loss: 0.18524 | bce: 0.04278 | dice: 0.86414 | 0 cls: 0.12028 | 1 cls: 0.18140 | 2 cls: 0.30971\n"
     ]
    },
    {
     "name": "stderr",
     "output_type": "stream",
     "text": [
      "Epoch 32, lr 0.0003: 100% 43/43 [00:12<00:00,  3.41it/s, 0 cls=0.21372, 1 cls=0.30913, 2 cls=0.43097, bce=0.09331, dice=0.81636, loss=0.29533]\n"
     ]
    },
    {
     "name": "stdout",
     "output_type": "stream",
     "text": [
      "loss: 0.19610 | bce: 0.04453 | dice: 0.85270 | 0 cls: 0.14019 | 1 cls: 0.17878 | 2 cls: 0.32984\n"
     ]
    },
    {
     "name": "stderr",
     "output_type": "stream",
     "text": [
      "Epoch 33, lr 0.0003: 100% 43/43 [00:12<00:00,  3.39it/s, 0 cls=0.21879, 1 cls=0.30707, 2 cls=0.42946, bce=0.09269, dice=0.81482, loss=0.29624]\n"
     ]
    },
    {
     "name": "stdout",
     "output_type": "stream",
     "text": [
      "loss: 0.20097 | bce: 0.05245 | dice: 0.85907 | 0 cls: 0.12606 | 1 cls: 0.20121 | 2 cls: 0.33323\n"
     ]
    },
    {
     "name": "stderr",
     "output_type": "stream",
     "text": [
      "Epoch 34, lr 0.0003: 100% 43/43 [00:12<00:00,  3.41it/s, 0 cls=0.21951, 1 cls=0.31232, 2 cls=0.43324, bce=0.09412, dice=0.81388, loss=0.29938]\n"
     ]
    },
    {
     "name": "stdout",
     "output_type": "stream",
     "text": [
      "loss: 0.18968 | bce: 0.04336 | dice: 0.86033 | 0 cls: 0.12338 | 1 cls: 0.18506 | 2 cls: 0.31844\n"
     ]
    },
    {
     "name": "stderr",
     "output_type": "stream",
     "text": [
      "Epoch 35, lr 0.0003: 100% 43/43 [00:12<00:00,  3.39it/s, 0 cls=0.21060, 1 cls=0.30217, 2 cls=0.42167, bce=0.09080, dice=0.81894, loss=0.28945]\n"
     ]
    },
    {
     "name": "stdout",
     "output_type": "stream",
     "text": [
      "loss: 0.20612 | bce: 0.05079 | dice: 0.85113 | 0 cls: 0.14073 | 1 cls: 0.19405 | 2 cls: 0.34645\n"
     ]
    },
    {
     "name": "stderr",
     "output_type": "stream",
     "text": [
      "Epoch 36, lr 0.0003: 100% 43/43 [00:12<00:00,  3.39it/s, 0 cls=0.22157, 1 cls=0.30820, 2 cls=0.42946, bce=0.09445, dice=0.81513, loss=0.29780]\n"
     ]
    },
    {
     "name": "stdout",
     "output_type": "stream",
     "text": [
      "loss: 0.20979 | bce: 0.05049 | dice: 0.84886 | 0 cls: 0.13440 | 1 cls: 0.20956 | 2 cls: 0.34821\n"
     ]
    },
    {
     "name": "stderr",
     "output_type": "stream",
     "text": [
      "Epoch 37, lr 0.0003: 100% 43/43 [00:12<00:00,  3.42it/s, 0 cls=0.21594, 1 cls=0.30863, 2 cls=0.42840, bce=0.09387, dice=0.81686, loss=0.29551]\n"
     ]
    },
    {
     "name": "stdout",
     "output_type": "stream",
     "text": [
      "loss: 0.19539 | bce: 0.04411 | dice: 0.85581 | 0 cls: 0.12412 | 1 cls: 0.19500 | 2 cls: 0.32442\n"
     ]
    },
    {
     "name": "stderr",
     "output_type": "stream",
     "text": [
      "Epoch 38, lr 0.0003: 100% 43/43 [00:12<00:00,  3.42it/s, 0 cls=0.21585, 1 cls=0.30672, 2 cls=0.42451, bce=0.09221, dice=0.81662, loss=0.29393]\n"
     ]
    },
    {
     "name": "stdout",
     "output_type": "stream",
     "text": [
      "loss: 0.19267 | bce: 0.04375 | dice: 0.85735 | 0 cls: 0.12692 | 1 cls: 0.18601 | 2 cls: 0.32539\n"
     ]
    },
    {
     "name": "stderr",
     "output_type": "stream",
     "text": [
      "Epoch 39, lr 0.0003: 100% 43/43 [00:12<00:00,  3.38it/s, 0 cls=0.20565, 1 cls=0.29838, 2 cls=0.41385, bce=0.08990, dice=0.82269, loss=0.28438]\n"
     ]
    },
    {
     "name": "stdout",
     "output_type": "stream",
     "text": [
      "loss: 0.19698 | bce: 0.04398 | dice: 0.85292 | 0 cls: 0.13517 | 1 cls: 0.18432 | 2 cls: 0.33294\n"
     ]
    },
    {
     "name": "stderr",
     "output_type": "stream",
     "text": [
      "Epoch 40, lr 0.0003: 100% 43/43 [00:12<00:00,  3.39it/s, 0 cls=0.21830, 1 cls=0.30323, 2 cls=0.42632, bce=0.09459, dice=0.81820, loss=0.29387]\n"
     ]
    },
    {
     "name": "stdout",
     "output_type": "stream",
     "text": [
      "loss: 0.18451 | bce: 0.04422 | dice: 0.86536 | 0 cls: 0.12109 | 1 cls: 0.17932 | 2 cls: 0.30876\n"
     ]
    },
    {
     "name": "stderr",
     "output_type": "stream",
     "text": [
      "Epoch 41, lr 0.0003: 100% 43/43 [00:12<00:00,  3.40it/s, 0 cls=0.21138, 1 cls=0.30434, 2 cls=0.41785, bce=0.09122, dice=0.81962, loss=0.28986]\n"
     ]
    },
    {
     "name": "stdout",
     "output_type": "stream",
     "text": [
      "loss: 0.18377 | bce: 0.04207 | dice: 0.86391 | 0 cls: 0.12352 | 1 cls: 0.17553 | 2 cls: 0.30748\n"
     ]
    },
    {
     "name": "stderr",
     "output_type": "stream",
     "text": [
      "Epoch 42, lr 0.0003: 100% 43/43 [00:12<00:00,  3.39it/s, 0 cls=0.20619, 1 cls=0.29476, 2 cls=0.41198, bce=0.08982, dice=0.82357, loss=0.28278]\n"
     ]
    },
    {
     "name": "stdout",
     "output_type": "stream",
     "text": [
      "loss: 0.18361 | bce: 0.04186 | dice: 0.86357 | 0 cls: 0.12304 | 1 cls: 0.17603 | 2 cls: 0.30786\n"
     ]
    },
    {
     "name": "stderr",
     "output_type": "stream",
     "text": [
      "Epoch 43, lr 0.0003: 100% 43/43 [00:12<00:00,  3.38it/s, 0 cls=0.21106, 1 cls=0.29958, 2 cls=0.41996, bce=0.09113, dice=0.82025, loss=0.28825]\n"
     ]
    },
    {
     "name": "stdout",
     "output_type": "stream",
     "text": [
      "loss: 0.23476 | bce: 0.05626 | dice: 0.82210 | 0 cls: 0.18782 | 1 cls: 0.18974 | 2 cls: 0.40925\n"
     ]
    },
    {
     "name": "stderr",
     "output_type": "stream",
     "text": [
      "Epoch 44, lr 0.0003: 100% 43/43 [00:12<00:00,  3.40it/s, 0 cls=0.20733, 1 cls=0.29925, 2 cls=0.41247, bce=0.09036, dice=0.82260, loss=0.28513]\n"
     ]
    },
    {
     "name": "stdout",
     "output_type": "stream",
     "text": [
      "loss: 0.18685 | bce: 0.04467 | dice: 0.86340 | 0 cls: 0.12226 | 1 cls: 0.18243 | 2 cls: 0.31221\n"
     ]
    },
    {
     "name": "stderr",
     "output_type": "stream",
     "text": [
      "Epoch 45, lr 0.0003: 100% 43/43 [00:12<00:00,  3.39it/s, 0 cls=0.20607, 1 cls=0.29899, 2 cls=0.41697, bce=0.08997, dice=0.82180, loss=0.28542]\n"
     ]
    },
    {
     "name": "stdout",
     "output_type": "stream",
     "text": [
      "loss: 0.19196 | bce: 0.04330 | dice: 0.85555 | 0 cls: 0.13087 | 1 cls: 0.18088 | 2 cls: 0.32569\n"
     ]
    },
    {
     "name": "stderr",
     "output_type": "stream",
     "text": [
      "Epoch 46, lr 0.0003: 100% 43/43 [00:12<00:00,  3.41it/s, 0 cls=0.20242, 1 cls=0.29590, 2 cls=0.41105, bce=0.08878, dice=0.82402, loss=0.28154]\n"
     ]
    },
    {
     "name": "stdout",
     "output_type": "stream",
     "text": [
      "loss: 0.19848 | bce: 0.04232 | dice: 0.85070 | 0 cls: 0.13787 | 1 cls: 0.18604 | 2 cls: 0.33248\n"
     ]
    },
    {
     "name": "stderr",
     "output_type": "stream",
     "text": [
      "Epoch 47, lr 0.0003: 100% 43/43 [00:12<00:00,  3.42it/s, 0 cls=0.21012, 1 cls=0.30170, 2 cls=0.41590, bce=0.08958, dice=0.81981, loss=0.28791]\n"
     ]
    },
    {
     "name": "stdout",
     "output_type": "stream",
     "text": [
      "loss: 0.20373 | bce: 0.04545 | dice: 0.84808 | 0 cls: 0.14143 | 1 cls: 0.18526 | 2 cls: 0.35245\n"
     ]
    },
    {
     "name": "stderr",
     "output_type": "stream",
     "text": [
      "Epoch 48, lr 0.0003: 100% 43/43 [00:12<00:00,  3.40it/s, 0 cls=0.20513, 1 cls=0.29713, 2 cls=0.41629, bce=0.09118, dice=0.82366, loss=0.28416]\n"
     ]
    },
    {
     "name": "stdout",
     "output_type": "stream",
     "text": [
      "loss: 0.18368 | bce: 0.04224 | dice: 0.86449 | 0 cls: 0.12179 | 1 cls: 0.17643 | 2 cls: 0.30991\n"
     ]
    },
    {
     "name": "stderr",
     "output_type": "stream",
     "text": [
      "Epoch 49, lr 0.0003: 100% 43/43 [00:12<00:00,  3.38it/s, 0 cls=0.20395, 1 cls=0.29974, 2 cls=0.41417, bce=0.08901, dice=0.82242, loss=0.28431]\n"
     ]
    },
    {
     "name": "stdout",
     "output_type": "stream",
     "text": [
      "loss: 0.18339 | bce: 0.04053 | dice: 0.86192 | 0 cls: 0.12336 | 1 cls: 0.17488 | 2 cls: 0.30978\n"
     ]
    },
    {
     "name": "stderr",
     "output_type": "stream",
     "text": [
      "Epoch 50, lr 0.0003: 100% 43/43 [00:12<00:00,  3.41it/s, 0 cls=0.20589, 1 cls=0.28881, 2 cls=0.40641, bce=0.08831, dice=0.82473, loss=0.27916]\n"
     ]
    },
    {
     "name": "stdout",
     "output_type": "stream",
     "text": [
      "loss: 0.18199 | bce: 0.04403 | dice: 0.86750 | 0 cls: 0.11987 | 1 cls: 0.17669 | 2 cls: 0.30537\n"
     ]
    },
    {
     "name": "stderr",
     "output_type": "stream",
     "text": [
      "Epoch 51, lr 0.0003: 100% 43/43 [00:12<00:00,  3.40it/s, 0 cls=0.21183, 1 cls=0.30181, 2 cls=0.42007, bce=0.09107, dice=0.81912, loss=0.28947]\n"
     ]
    },
    {
     "name": "stdout",
     "output_type": "stream",
     "text": [
      "loss: 0.18968 | bce: 0.04400 | dice: 0.86006 | 0 cls: 0.12686 | 1 cls: 0.18046 | 2 cls: 0.31950\n"
     ]
    },
    {
     "name": "stderr",
     "output_type": "stream",
     "text": [
      "Epoch 52, lr 0.0003: 100% 43/43 [00:12<00:00,  3.41it/s, 0 cls=0.19716, 1 cls=0.28871, 2 cls=0.39806, bce=0.08672, dice=0.82893, loss=0.27396]\n"
     ]
    },
    {
     "name": "stdout",
     "output_type": "stream",
     "text": [
      "loss: 0.18688 | bce: 0.04769 | dice: 0.86478 | 0 cls: 0.12735 | 1 cls: 0.17860 | 2 cls: 0.31226\n"
     ]
    },
    {
     "name": "stderr",
     "output_type": "stream",
     "text": [
      "Epoch 53, lr 0.0003: 100% 43/43 [00:12<00:00,  3.41it/s, 0 cls=0.21351, 1 cls=0.29688, 2 cls=0.41396, bce=0.09075, dice=0.82097, loss=0.28695]\n"
     ]
    },
    {
     "name": "stdout",
     "output_type": "stream",
     "text": [
      "loss: 0.21380 | bce: 0.05989 | dice: 0.84670 | 0 cls: 0.16120 | 1 cls: 0.18615 | 2 cls: 0.36670\n"
     ]
    },
    {
     "name": "stderr",
     "output_type": "stream",
     "text": [
      "Epoch 54, lr 0.0003: 100% 43/43 [00:12<00:00,  3.41it/s, 0 cls=0.21494, 1 cls=0.30502, 2 cls=0.42085, bce=0.09243, dice=0.81881, loss=0.29216]\n"
     ]
    },
    {
     "name": "stdout",
     "output_type": "stream",
     "text": [
      "loss: 0.18879 | bce: 0.04036 | dice: 0.85740 | 0 cls: 0.12449 | 1 cls: 0.18295 | 2 cls: 0.31764\n"
     ]
    },
    {
     "name": "stderr",
     "output_type": "stream",
     "text": [
      "Epoch 55, lr 0.0003: 100% 43/43 [00:12<00:00,  3.42it/s, 0 cls=0.20438, 1 cls=0.29496, 2 cls=0.40960, bce=0.09021, dice=0.82533, loss=0.28166]\n"
     ]
    },
    {
     "name": "stdout",
     "output_type": "stream",
     "text": [
      "loss: 0.18363 | bce: 0.04442 | dice: 0.86577 | 0 cls: 0.12063 | 1 cls: 0.17939 | 2 cls: 0.30800\n"
     ]
    },
    {
     "name": "stderr",
     "output_type": "stream",
     "text": [
      "Epoch 56, lr 0.0003: 100% 43/43 [00:12<00:00,  3.40it/s, 0 cls=0.20592, 1 cls=0.29751, 2 cls=0.40978, bce=0.08963, dice=0.82366, loss=0.28333]\n"
     ]
    },
    {
     "name": "stdout",
     "output_type": "stream",
     "text": [
      "loss: 0.18743 | bce: 0.04256 | dice: 0.85993 | 0 cls: 0.12592 | 1 cls: 0.17855 | 2 cls: 0.31631\n"
     ]
    },
    {
     "name": "stderr",
     "output_type": "stream",
     "text": [
      "Epoch 57, lr 0.0003: 100% 43/43 [00:12<00:00,  3.40it/s, 0 cls=0.20058, 1 cls=0.28956, 2 cls=0.40221, bce=0.08722, dice=0.82691, loss=0.27650]\n"
     ]
    },
    {
     "name": "stdout",
     "output_type": "stream",
     "text": [
      "loss: 0.19460 | bce: 0.04538 | dice: 0.85763 | 0 cls: 0.12648 | 1 cls: 0.19108 | 2 cls: 0.32530\n"
     ]
    },
    {
     "name": "stderr",
     "output_type": "stream",
     "text": [
      "Epoch 58, lr 0.0003: 100% 43/43 [00:12<00:00,  3.40it/s, 0 cls=0.20490, 1 cls=0.29444, 2 cls=0.40960, bce=0.08922, dice=0.82436, loss=0.28166]\n"
     ]
    },
    {
     "name": "stdout",
     "output_type": "stream",
     "text": [
      "loss: 0.18506 | bce: 0.04378 | dice: 0.86393 | 0 cls: 0.12103 | 1 cls: 0.18102 | 2 cls: 0.30932\n"
     ]
    },
    {
     "name": "stderr",
     "output_type": "stream",
     "text": [
      "Epoch 59, lr 0.0003: 100% 43/43 [00:12<00:00,  3.38it/s, 0 cls=0.20480, 1 cls=0.29020, 2 cls=0.40665, bce=0.08859, dice=0.82528, loss=0.27933]\n"
     ]
    },
    {
     "name": "stdout",
     "output_type": "stream",
     "text": [
      "loss: 0.19034 | bce: 0.04376 | dice: 0.85761 | 0 cls: 0.12997 | 1 cls: 0.18039 | 2 cls: 0.32001\n"
     ]
    },
    {
     "name": "stderr",
     "output_type": "stream",
     "text": [
      "Epoch 60, lr 0.0003: 100% 43/43 [00:12<00:00,  3.41it/s, 0 cls=0.19601, 1 cls=0.28454, 2 cls=0.39551, bce=0.08521, dice=0.82955, loss=0.27132]\n"
     ]
    },
    {
     "name": "stdout",
     "output_type": "stream",
     "text": [
      "loss: 0.19677 | bce: 0.04833 | dice: 0.85860 | 0 cls: 0.12735 | 1 cls: 0.19361 | 2 cls: 0.32814\n"
     ]
    },
    {
     "name": "stderr",
     "output_type": "stream",
     "text": [
      "Epoch 61, lr 0.0003: 100% 43/43 [00:12<00:00,  3.42it/s, 0 cls=0.19768, 1 cls=0.28650, 2 cls=0.39716, bce=0.08733, dice=0.83007, loss=0.27310]\n"
     ]
    },
    {
     "name": "stdout",
     "output_type": "stream",
     "text": [
      "loss: 0.18710 | bce: 0.04736 | dice: 0.86571 | 0 cls: 0.12215 | 1 cls: 0.18453 | 2 cls: 0.31143\n"
     ]
    },
    {
     "name": "stderr",
     "output_type": "stream",
     "text": [
      "Epoch 62, lr 0.0003: 100% 43/43 [00:12<00:00,  3.42it/s, 0 cls=0.20024, 1 cls=0.28750, 2 cls=0.40330, bce=0.08721, dice=0.82714, loss=0.27576]\n"
     ]
    },
    {
     "name": "stdout",
     "output_type": "stream",
     "text": [
      "loss: 0.20948 | bce: 0.04835 | dice: 0.84768 | 0 cls: 0.13979 | 1 cls: 0.20493 | 2 cls: 0.34771\n"
     ]
    },
    {
     "name": "stderr",
     "output_type": "stream",
     "text": [
      "Epoch 63, lr 0.0003: 100% 43/43 [00:12<00:00,  3.42it/s, 0 cls=0.20145, 1 cls=0.29042, 2 cls=0.40051, bce=0.08840, dice=0.82799, loss=0.27685]\n"
     ]
    },
    {
     "name": "stdout",
     "output_type": "stream",
     "text": [
      "loss: 0.18533 | bce: 0.04304 | dice: 0.86247 | 0 cls: 0.12293 | 1 cls: 0.17823 | 2 cls: 0.31333\n"
     ]
    },
    {
     "name": "stderr",
     "output_type": "stream",
     "text": [
      "Epoch 64, lr 0.0003: 100% 43/43 [00:12<00:00,  3.40it/s, 0 cls=0.20900, 1 cls=0.29094, 2 cls=0.40611, bce=0.09034, dice=0.82541, loss=0.28120]\n"
     ]
    },
    {
     "name": "stdout",
     "output_type": "stream",
     "text": [
      "loss: 0.18931 | bce: 0.04382 | dice: 0.85885 | 0 cls: 0.12785 | 1 cls: 0.18062 | 2 cls: 0.32023\n"
     ]
    },
    {
     "name": "stderr",
     "output_type": "stream",
     "text": [
      "Epoch 65, lr 0.0003: 100% 43/43 [00:12<00:00,  3.40it/s, 0 cls=0.19978, 1 cls=0.28787, 2 cls=0.40055, bce=0.08716, dice=0.82799, loss=0.27517]\n"
     ]
    },
    {
     "name": "stdout",
     "output_type": "stream",
     "text": [
      "loss: 0.18025 | bce: 0.04191 | dice: 0.86583 | 0 cls: 0.12265 | 1 cls: 0.17113 | 2 cls: 0.30281\n"
     ]
    },
    {
     "name": "stderr",
     "output_type": "stream",
     "text": [
      "Epoch 66, lr 0.0003: 100% 43/43 [00:12<00:00,  3.43it/s, 0 cls=0.20900, 1 cls=0.29592, 2 cls=0.40918, bce=0.08971, dice=0.82331, loss=0.28381]\n"
     ]
    },
    {
     "name": "stdout",
     "output_type": "stream",
     "text": [
      "loss: 0.18404 | bce: 0.04070 | dice: 0.86155 | 0 cls: 0.12413 | 1 cls: 0.17580 | 2 cls: 0.31095\n"
     ]
    },
    {
     "name": "stderr",
     "output_type": "stream",
     "text": [
      "Epoch 67, lr 0.0003: 100% 43/43 [00:12<00:00,  3.41it/s, 0 cls=0.19901, 1 cls=0.28426, 2 cls=0.40141, bce=0.08652, dice=0.82814, loss=0.27359]\n"
     ]
    },
    {
     "name": "stdout",
     "output_type": "stream",
     "text": [
      "loss: 0.19120 | bce: 0.04830 | dice: 0.85957 | 0 cls: 0.13156 | 1 cls: 0.17921 | 2 cls: 0.32524\n"
     ]
    },
    {
     "name": "stderr",
     "output_type": "stream",
     "text": [
      "Epoch 68, lr 0.0003: 100% 43/43 [00:12<00:00,  3.43it/s, 0 cls=0.19910, 1 cls=0.28807, 2 cls=0.39941, bce=0.08674, dice=0.82805, loss=0.27475]\n"
     ]
    },
    {
     "name": "stdout",
     "output_type": "stream",
     "text": [
      "loss: 0.18505 | bce: 0.04211 | dice: 0.86198 | 0 cls: 0.12148 | 1 cls: 0.18056 | 2 cls: 0.31121\n"
     ]
    },
    {
     "name": "stderr",
     "output_type": "stream",
     "text": [
      "Epoch 69, lr 0.0003: 100% 43/43 [00:12<00:00,  3.41it/s, 0 cls=0.19973, 1 cls=0.28241, 2 cls=0.39640, bce=0.08560, dice=0.82878, loss=0.27214]\n"
     ]
    },
    {
     "name": "stdout",
     "output_type": "stream",
     "text": [
      "loss: 0.19056 | bce: 0.04483 | dice: 0.85599 | 0 cls: 0.13317 | 1 cls: 0.17327 | 2 cls: 0.32876\n"
     ]
    },
    {
     "name": "stderr",
     "output_type": "stream",
     "text": [
      "Epoch 70, lr 0.0003: 100% 43/43 [00:12<00:00,  3.42it/s, 0 cls=0.19546, 1 cls=0.28446, 2 cls=0.39505, bce=0.08574, dice=0.83030, loss=0.27098]\n"
     ]
    },
    {
     "name": "stdout",
     "output_type": "stream",
     "text": [
      "loss: 0.18122 | bce: 0.04528 | dice: 0.86873 | 0 cls: 0.11911 | 1 cls: 0.17656 | 2 cls: 0.30340\n"
     ]
    },
    {
     "name": "stderr",
     "output_type": "stream",
     "text": [
      "Epoch 71, lr 0.0003: 100% 43/43 [00:12<00:00,  3.41it/s, 0 cls=0.20342, 1 cls=0.28560, 2 cls=0.40058, bce=0.08851, dice=0.82804, loss=0.27572]\n"
     ]
    },
    {
     "name": "stdout",
     "output_type": "stream",
     "text": [
      "loss: 0.18244 | bce: 0.04215 | dice: 0.86381 | 0 cls: 0.12219 | 1 cls: 0.17469 | 2 cls: 0.30763\n"
     ]
    },
    {
     "name": "stderr",
     "output_type": "stream",
     "text": [
      "Epoch 72, lr 0.0003: 100% 43/43 [00:12<00:00,  3.40it/s, 0 cls=0.19821, 1 cls=0.28344, 2 cls=0.39512, bce=0.08664, dice=0.83032, loss=0.27168]\n"
     ]
    },
    {
     "name": "stdout",
     "output_type": "stream",
     "text": [
      "loss: 0.18925 | bce: 0.04687 | dice: 0.86460 | 0 cls: 0.12029 | 1 cls: 0.19036 | 2 cls: 0.31177\n"
     ]
    },
    {
     "name": "stderr",
     "output_type": "stream",
     "text": [
      "Epoch 73, lr 0.0003: 100% 43/43 [00:12<00:00,  3.40it/s, 0 cls=0.20184, 1 cls=0.28798, 2 cls=0.40138, bce=0.08698, dice=0.82676, loss=0.27620]\n"
     ]
    },
    {
     "name": "stdout",
     "output_type": "stream",
     "text": [
      "loss: 0.19561 | bce: 0.04560 | dice: 0.85719 | 0 cls: 0.12443 | 1 cls: 0.19603 | 2 cls: 0.32406\n"
     ]
    },
    {
     "name": "stderr",
     "output_type": "stream",
     "text": [
      "Epoch 74, lr 0.0003: 100% 43/43 [00:12<00:00,  3.41it/s, 0 cls=0.19610, 1 cls=0.28498, 2 cls=0.39541, bce=0.08581, dice=0.83009, loss=0.27151]\n"
     ]
    },
    {
     "name": "stdout",
     "output_type": "stream",
     "text": [
      "loss: 0.18944 | bce: 0.04552 | dice: 0.86130 | 0 cls: 0.12413 | 1 cls: 0.18488 | 2 cls: 0.31758\n"
     ]
    },
    {
     "name": "stderr",
     "output_type": "stream",
     "text": [
      "Epoch 75, lr 0.0003: 100% 43/43 [00:12<00:00,  3.42it/s, 0 cls=0.19930, 1 cls=0.28519, 2 cls=0.39783, bce=0.08695, dice=0.82922, loss=0.27336]\n"
     ]
    },
    {
     "name": "stdout",
     "output_type": "stream",
     "text": [
      "loss: 0.19281 | bce: 0.04670 | dice: 0.85973 | 0 cls: 0.12726 | 1 cls: 0.18766 | 2 cls: 0.32403\n"
     ]
    },
    {
     "name": "stderr",
     "output_type": "stream",
     "text": [
      "Epoch 76, lr 0.0003: 100% 43/43 [00:12<00:00,  3.40it/s, 0 cls=0.19197, 1 cls=0.27808, 2 cls=0.38816, bce=0.08435, dice=0.83317, loss=0.26565]\n"
     ]
    },
    {
     "name": "stdout",
     "output_type": "stream",
     "text": [
      "loss: 0.19022 | bce: 0.04566 | dice: 0.86040 | 0 cls: 0.12783 | 1 cls: 0.18353 | 2 cls: 0.32012\n"
     ]
    },
    {
     "name": "stderr",
     "output_type": "stream",
     "text": [
      "Epoch 77, lr 0.0003: 100% 43/43 [00:12<00:00,  3.43it/s, 0 cls=0.20426, 1 cls=0.29418, 2 cls=0.40348, bce=0.08860, dice=0.82587, loss=0.28007]\n"
     ]
    },
    {
     "name": "stdout",
     "output_type": "stream",
     "text": [
      "loss: 0.18353 | bce: 0.04205 | dice: 0.86449 | 0 cls: 0.12040 | 1 cls: 0.17883 | 2 cls: 0.30724\n"
     ]
    },
    {
     "name": "stderr",
     "output_type": "stream",
     "text": [
      "Epoch 78, lr 0.0003: 100% 43/43 [00:12<00:00,  3.42it/s, 0 cls=0.20967, 1 cls=0.29012, 2 cls=0.40763, bce=0.09031, dice=0.82513, loss=0.28144]\n"
     ]
    },
    {
     "name": "stdout",
     "output_type": "stream",
     "text": [
      "loss: 0.19883 | bce: 0.04828 | dice: 0.85429 | 0 cls: 0.13051 | 1 cls: 0.19440 | 2 cls: 0.33356\n"
     ]
    },
    {
     "name": "stderr",
     "output_type": "stream",
     "text": [
      "Epoch 79, lr 0.0003: 100% 43/43 [00:12<00:00,  3.41it/s, 0 cls=0.19728, 1 cls=0.28417, 2 cls=0.39469, bce=0.08713, dice=0.83090, loss=0.27152]\n"
     ]
    },
    {
     "name": "stdout",
     "output_type": "stream",
     "text": [
      "loss: 0.18149 | bce: 0.04341 | dice: 0.86576 | 0 cls: 0.12070 | 1 cls: 0.17448 | 2 cls: 0.30737\n"
     ]
    },
    {
     "name": "stderr",
     "output_type": "stream",
     "text": [
      "Epoch 80, lr 0.0003: 100% 43/43 [00:12<00:00,  3.42it/s, 0 cls=0.19755, 1 cls=0.27858, 2 cls=0.38954, bce=0.08544, dice=0.83171, loss=0.26836]\n"
     ]
    },
    {
     "name": "stdout",
     "output_type": "stream",
     "text": [
      "loss: 0.18554 | bce: 0.04570 | dice: 0.86485 | 0 cls: 0.12307 | 1 cls: 0.18075 | 2 cls: 0.31156\n"
     ]
    },
    {
     "name": "stderr",
     "output_type": "stream",
     "text": [
      "Epoch 81, lr 0.0003: 100% 43/43 [00:12<00:00,  3.43it/s, 0 cls=0.19349, 1 cls=0.28197, 2 cls=0.38909, bce=0.08485, dice=0.83237, loss=0.26800]\n"
     ]
    },
    {
     "name": "stdout",
     "output_type": "stream",
     "text": [
      "loss: 0.19408 | bce: 0.04723 | dice: 0.85425 | 0 cls: 0.13806 | 1 cls: 0.17684 | 2 cls: 0.33340\n"
     ]
    },
    {
     "name": "stderr",
     "output_type": "stream",
     "text": [
      "Epoch 82, lr 0.0003: 100% 43/43 [00:12<00:00,  3.42it/s, 0 cls=0.19562, 1 cls=0.28377, 2 cls=0.39559, bce=0.08584, dice=0.83030, loss=0.27087]\n"
     ]
    },
    {
     "name": "stdout",
     "output_type": "stream",
     "text": [
      "loss: 0.18507 | bce: 0.04725 | dice: 0.86709 | 0 cls: 0.12168 | 1 cls: 0.18211 | 2 cls: 0.30942\n"
     ]
    },
    {
     "name": "stderr",
     "output_type": "stream",
     "text": [
      "Epoch 83, lr 0.0003: 100% 43/43 [00:12<00:00,  3.40it/s, 0 cls=0.19179, 1 cls=0.27644, 2 cls=0.38653, bce=0.08382, dice=0.83370, loss=0.26460]\n"
     ]
    },
    {
     "name": "stdout",
     "output_type": "stream",
     "text": [
      "loss: 0.18779 | bce: 0.04391 | dice: 0.86208 | 0 cls: 0.12339 | 1 cls: 0.18342 | 2 cls: 0.31487\n"
     ]
    },
    {
     "name": "stderr",
     "output_type": "stream",
     "text": [
      "Epoch 84, lr 0.0003: 100% 43/43 [00:12<00:00,  3.41it/s, 0 cls=0.18868, 1 cls=0.27331, 2 cls=0.38293, bce=0.08360, dice=0.83618, loss=0.26138]\n"
     ]
    },
    {
     "name": "stdout",
     "output_type": "stream",
     "text": [
      "loss: 0.21274 | bce: 0.05053 | dice: 0.84539 | 0 cls: 0.16017 | 1 cls: 0.19789 | 2 cls: 0.33728\n"
     ]
    },
    {
     "name": "stderr",
     "output_type": "stream",
     "text": [
      "Epoch 85, lr 0.0003: 100% 43/43 [00:12<00:00,  3.41it/s, 0 cls=0.20250, 1 cls=0.28913, 2 cls=0.40139, bce=0.08831, dice=0.82763, loss=0.27693]\n"
     ]
    },
    {
     "name": "stdout",
     "output_type": "stream",
     "text": [
      "loss: 0.18819 | bce: 0.04331 | dice: 0.86015 | 0 cls: 0.12451 | 1 cls: 0.18143 | 2 cls: 0.31946\n"
     ]
    },
    {
     "name": "stderr",
     "output_type": "stream",
     "text": [
      "Epoch 86, lr 0.0003: 100% 43/43 [00:12<00:00,  3.41it/s, 0 cls=0.20498, 1 cls=0.29275, 2 cls=0.40060, bce=0.08808, dice=0.82605, loss=0.27921]\n"
     ]
    },
    {
     "name": "stdout",
     "output_type": "stream",
     "text": [
      "loss: 0.18567 | bce: 0.04269 | dice: 0.86271 | 0 cls: 0.12196 | 1 cls: 0.18241 | 2 cls: 0.31229\n"
     ]
    },
    {
     "name": "stderr",
     "output_type": "stream",
     "text": [
      "Epoch 87, lr 0.0003: 100% 43/43 [00:12<00:00,  3.42it/s, 0 cls=0.18949, 1 cls=0.27853, 2 cls=0.38522, bce=0.08331, dice=0.83385, loss=0.26425]\n"
     ]
    },
    {
     "name": "stdout",
     "output_type": "stream",
     "text": [
      "loss: 0.18469 | bce: 0.04584 | dice: 0.86588 | 0 cls: 0.12268 | 1 cls: 0.18087 | 2 cls: 0.30911\n"
     ]
    },
    {
     "name": "stderr",
     "output_type": "stream",
     "text": [
      "Epoch 88, lr 0.0003: 100% 43/43 [00:12<00:00,  3.41it/s, 0 cls=0.19455, 1 cls=0.27802, 2 cls=0.38997, bce=0.08498, dice=0.83237, loss=0.26702]\n"
     ]
    },
    {
     "name": "stdout",
     "output_type": "stream",
     "text": [
      "loss: 0.18116 | bce: 0.04535 | dice: 0.86805 | 0 cls: 0.11913 | 1 cls: 0.17685 | 2 cls: 0.30478\n"
     ]
    },
    {
     "name": "stderr",
     "output_type": "stream",
     "text": [
      "Epoch 89, lr 0.0003: 100% 43/43 [00:12<00:00,  3.36it/s, 0 cls=0.19337, 1 cls=0.27943, 2 cls=0.38944, bce=0.08443, dice=0.83245, loss=0.26701]\n"
     ]
    },
    {
     "name": "stdout",
     "output_type": "stream",
     "text": [
      "loss: 0.18616 | bce: 0.04763 | dice: 0.86372 | 0 cls: 0.12937 | 1 cls: 0.17303 | 2 cls: 0.31607\n"
     ]
    },
    {
     "name": "stderr",
     "output_type": "stream",
     "text": [
      "Epoch 90, lr 0.001: 100% 43/43 [00:12<00:00,  3.41it/s, 0 cls=0.21285, 1 cls=0.30342, 2 cls=0.42238, bce=0.09229, dice=0.81927, loss=0.29098]\n"
     ]
    },
    {
     "name": "stdout",
     "output_type": "stream",
     "text": [
      "loss: 0.20095 | bce: 0.05419 | dice: 0.85718 | 0 cls: 0.13427 | 1 cls: 0.19340 | 2 cls: 0.33698\n"
     ]
    },
    {
     "name": "stderr",
     "output_type": "stream",
     "text": [
      "Epoch 91, lr 0.001: 100% 43/43 [00:12<00:00,  3.42it/s, 0 cls=0.22780, 1 cls=0.31493, 2 cls=0.44162, bce=0.09864, dice=0.81157, loss=0.30542]\n"
     ]
    },
    {
     "name": "stdout",
     "output_type": "stream",
     "text": [
      "loss: 0.19275 | bce: 0.04404 | dice: 0.85552 | 0 cls: 0.12725 | 1 cls: 0.18385 | 2 cls: 0.32888\n"
     ]
    },
    {
     "name": "stderr",
     "output_type": "stream",
     "text": [
      "Epoch 92, lr 0.0003: 100% 43/43 [00:12<00:00,  3.42it/s, 0 cls=0.20556, 1 cls=0.28834, 2 cls=0.40296, bce=0.08757, dice=0.82546, loss=0.27815]\n"
     ]
    },
    {
     "name": "stdout",
     "output_type": "stream",
     "text": [
      "loss: 0.19094 | bce: 0.04720 | dice: 0.86207 | 0 cls: 0.12860 | 1 cls: 0.18445 | 2 cls: 0.31668\n"
     ]
    },
    {
     "name": "stderr",
     "output_type": "stream",
     "text": [
      "Epoch 93, lr 0.0003: 100% 43/43 [00:13<00:00,  3.09it/s, 0 cls=0.20809, 1 cls=0.29149, 2 cls=0.40394, bce=0.08950, dice=0.82544, loss=0.28062]\n"
     ]
    },
    {
     "name": "stdout",
     "output_type": "stream",
     "text": [
      "loss: 0.18437 | bce: 0.04130 | dice: 0.86256 | 0 cls: 0.12213 | 1 cls: 0.17875 | 2 cls: 0.30937\n"
     ]
    },
    {
     "name": "stderr",
     "output_type": "stream",
     "text": [
      "Epoch 94, lr 8.999999999999999e-05: 100% 43/43 [00:18<00:00,  2.34it/s, 0 cls=0.19826, 1 cls=0.28315, 2 cls=0.39382, bce=0.08576, dice=0.83005, loss=0.27133]\n"
     ]
    },
    {
     "name": "stdout",
     "output_type": "stream",
     "text": [
      "loss: 0.17981 | bce: 0.04376 | dice: 0.86829 | 0 cls: 0.12016 | 1 cls: 0.17340 | 2 cls: 0.30157\n"
     ]
    },
    {
     "name": "stderr",
     "output_type": "stream",
     "text": [
      "Epoch 95, lr 0.001: 100% 43/43 [00:12<00:00,  3.41it/s, 0 cls=0.22090, 1 cls=0.30515, 2 cls=0.42388, bce=0.09398, dice=0.81712, loss=0.29520]\n"
     ]
    },
    {
     "name": "stdout",
     "output_type": "stream",
     "text": [
      "loss: 0.19490 | bce: 0.04450 | dice: 0.85617 | 0 cls: 0.13048 | 1 cls: 0.18798 | 2 cls: 0.32748\n"
     ]
    },
    {
     "name": "stderr",
     "output_type": "stream",
     "text": [
      "Epoch 96, lr 0.001: 100% 43/43 [00:12<00:00,  3.43it/s, 0 cls=0.23117, 1 cls=0.31665, 2 cls=0.44100, bce=0.09794, dice=0.81012, loss=0.30733]\n"
     ]
    },
    {
     "name": "stdout",
     "output_type": "stream",
     "text": [
      "loss: 0.19925 | bce: 0.05273 | dice: 0.85977 | 0 cls: 0.12944 | 1 cls: 0.19706 | 2 cls: 0.33147\n"
     ]
    },
    {
     "name": "stderr",
     "output_type": "stream",
     "text": [
      "Epoch 97, lr 0.0003: 100% 43/43 [00:12<00:00,  3.42it/s, 0 cls=0.19930, 1 cls=0.29033, 2 cls=0.40261, bce=0.08750, dice=0.82734, loss=0.27638]\n"
     ]
    },
    {
     "name": "stdout",
     "output_type": "stream",
     "text": [
      "loss: 0.18509 | bce: 0.04412 | dice: 0.86357 | 0 cls: 0.12160 | 1 cls: 0.17964 | 2 cls: 0.31232\n"
     ]
    },
    {
     "name": "stderr",
     "output_type": "stream",
     "text": [
      "Epoch 98, lr 0.0003: 100% 43/43 [00:12<00:00,  3.41it/s, 0 cls=0.19780, 1 cls=0.28723, 2 cls=0.39629, bce=0.08634, dice=0.82896, loss=0.27327]\n"
     ]
    },
    {
     "name": "stdout",
     "output_type": "stream",
     "text": [
      "loss: 0.20007 | bce: 0.04796 | dice: 0.85465 | 0 cls: 0.13302 | 1 cls: 0.19398 | 2 cls: 0.33480\n"
     ]
    },
    {
     "name": "stderr",
     "output_type": "stream",
     "text": [
      "Epoch 99, lr 8.999999999999999e-05: 100% 43/43 [00:12<00:00,  3.42it/s, 0 cls=0.20945, 1 cls=0.28405, 2 cls=0.39910, bce=0.08851, dice=0.82669, loss=0.27722]\n"
     ]
    },
    {
     "name": "stdout",
     "output_type": "stream",
     "text": [
      "loss: 0.18313 | bce: 0.04295 | dice: 0.86476 | 0 cls: 0.12089 | 1 cls: 0.17838 | 2 cls: 0.30696\n"
     ]
    },
    {
     "name": "stderr",
     "output_type": "stream",
     "text": [
      "Epoch 100, lr 0.00015: 100% 43/43 [00:12<00:00,  3.42it/s, 0 cls=0.20244, 1 cls=0.28554, 2 cls=0.39646, bce=0.08774, dice=0.82900, loss=0.27448]\n"
     ]
    },
    {
     "name": "stdout",
     "output_type": "stream",
     "text": [
      "loss: 0.18617 | bce: 0.04538 | dice: 0.86310 | 0 cls: 0.12597 | 1 cls: 0.17797 | 2 cls: 0.31398\n"
     ]
    },
    {
     "name": "stderr",
     "output_type": "stream",
     "text": [
      "Epoch 101, lr 0.00015: 100% 43/43 [00:12<00:00,  3.44it/s, 0 cls=0.19428, 1 cls=0.28037, 2 cls=0.38694, bce=0.08587, dice=0.83373, loss=0.26725]\n"
     ]
    },
    {
     "name": "stdout",
     "output_type": "stream",
     "text": [
      "loss: 0.18177 | bce: 0.04244 | dice: 0.86581 | 0 cls: 0.12034 | 1 cls: 0.17712 | 2 cls: 0.30341\n"
     ]
    },
    {
     "name": "stderr",
     "output_type": "stream",
     "text": [
      "Epoch 102, lr 0.00015: 100% 43/43 [00:12<00:00,  3.44it/s, 0 cls=0.19748, 1 cls=0.28388, 2 cls=0.39162, bce=0.08538, dice=0.83043, loss=0.27087]\n"
     ]
    },
    {
     "name": "stdout",
     "output_type": "stream",
     "text": [
      "loss: 0.18149 | bce: 0.04364 | dice: 0.86750 | 0 cls: 0.11940 | 1 cls: 0.17705 | 2 cls: 0.30409\n"
     ]
    },
    {
     "name": "stderr",
     "output_type": "stream",
     "text": [
      "Epoch 103, lr 0.00015: 100% 43/43 [00:12<00:00,  3.42it/s, 0 cls=0.19284, 1 cls=0.27828, 2 cls=0.38546, bce=0.08504, dice=0.83430, loss=0.26554]\n"
     ]
    },
    {
     "name": "stdout",
     "output_type": "stream",
     "text": [
      "loss: 0.18421 | bce: 0.04290 | dice: 0.86411 | 0 cls: 0.12169 | 1 cls: 0.17907 | 2 cls: 0.30944\n"
     ]
    },
    {
     "name": "stderr",
     "output_type": "stream",
     "text": [
      "Epoch 104, lr 0.00015: 100% 43/43 [00:12<00:00,  3.41it/s, 0 cls=0.19733, 1 cls=0.28310, 2 cls=0.39220, bce=0.08517, dice=0.83032, loss=0.27061]\n"
     ]
    },
    {
     "name": "stdout",
     "output_type": "stream",
     "text": [
      "loss: 0.18301 | bce: 0.04295 | dice: 0.86519 | 0 cls: 0.11965 | 1 cls: 0.17948 | 2 cls: 0.30647\n"
     ]
    },
    {
     "name": "stderr",
     "output_type": "stream",
     "text": [
      "Epoch 105, lr 0.00015: 100% 43/43 [00:12<00:00,  3.42it/s, 0 cls=0.19693, 1 cls=0.28368, 2 cls=0.38656, bce=0.08443, dice=0.83116, loss=0.26956]\n"
     ]
    },
    {
     "name": "stdout",
     "output_type": "stream",
     "text": [
      "loss: 0.17973 | bce: 0.04213 | dice: 0.86735 | 0 cls: 0.11875 | 1 cls: 0.17476 | 2 cls: 0.30181\n"
     ]
    },
    {
     "name": "stderr",
     "output_type": "stream",
     "text": [
      "Epoch 106, lr 0.00015: 100% 43/43 [00:12<00:00,  3.42it/s, 0 cls=0.19000, 1 cls=0.27402, 2 cls=0.37870, bce=0.08311, dice=0.83630, loss=0.26135]\n"
     ]
    },
    {
     "name": "stdout",
     "output_type": "stream",
     "text": [
      "loss: 0.18196 | bce: 0.04272 | dice: 0.86630 | 0 cls: 0.12099 | 1 cls: 0.17728 | 2 cls: 0.30371\n"
     ]
    },
    {
     "name": "stderr",
     "output_type": "stream",
     "text": [
      "Epoch 107, lr 0.00015: 100% 43/43 [00:12<00:00,  3.41it/s, 0 cls=0.18995, 1 cls=0.28022, 2 cls=0.38408, bce=0.08407, dice=0.83453, loss=0.26488]\n"
     ]
    },
    {
     "name": "stdout",
     "output_type": "stream",
     "text": [
      "loss: 0.18219 | bce: 0.04300 | dice: 0.86604 | 0 cls: 0.12095 | 1 cls: 0.17685 | 2 cls: 0.30562\n"
     ]
    },
    {
     "name": "stderr",
     "output_type": "stream",
     "text": [
      "Epoch 108, lr 0.00015: 100% 43/43 [00:12<00:00,  3.42it/s, 0 cls=0.18923, 1 cls=0.27393, 2 cls=0.38301, bce=0.08321, dice=0.83544, loss=0.26186]\n"
     ]
    },
    {
     "name": "stdout",
     "output_type": "stream",
     "text": [
      "loss: 0.17979 | bce: 0.04207 | dice: 0.86720 | 0 cls: 0.11927 | 1 cls: 0.17429 | 2 cls: 0.30132\n"
     ]
    },
    {
     "name": "stderr",
     "output_type": "stream",
     "text": [
      "Epoch 109, lr 0.00015: 100% 43/43 [00:12<00:00,  3.42it/s, 0 cls=0.18002, 1 cls=0.26438, 2 cls=0.37131, bce=0.08046, dice=0.84132, loss=0.25202]\n"
     ]
    },
    {
     "name": "stdout",
     "output_type": "stream",
     "text": [
      "loss: 0.18105 | bce: 0.04331 | dice: 0.86750 | 0 cls: 0.11977 | 1 cls: 0.17623 | 2 cls: 0.30285\n"
     ]
    },
    {
     "name": "stderr",
     "output_type": "stream",
     "text": [
      "Epoch 110, lr 0.00015: 100% 43/43 [00:12<00:00,  3.41it/s, 0 cls=0.18254, 1 cls=0.26836, 2 cls=0.37443, bce=0.08119, dice=0.83935, loss=0.25525]\n"
     ]
    },
    {
     "name": "stdout",
     "output_type": "stream",
     "text": [
      "loss: 0.18054 | bce: 0.04445 | dice: 0.86797 | 0 cls: 0.12056 | 1 cls: 0.17447 | 2 cls: 0.30334\n"
     ]
    },
    {
     "name": "stderr",
     "output_type": "stream",
     "text": [
      "Epoch 111, lr 0.00015: 100% 43/43 [00:12<00:00,  3.41it/s, 0 cls=0.18143, 1 cls=0.26502, 2 cls=0.37019, bce=0.08057, dice=0.84121, loss=0.25262]\n"
     ]
    },
    {
     "name": "stdout",
     "output_type": "stream",
     "text": [
      "loss: 0.18088 | bce: 0.04366 | dice: 0.86710 | 0 cls: 0.12116 | 1 cls: 0.17433 | 2 cls: 0.30348\n"
     ]
    },
    {
     "name": "stderr",
     "output_type": "stream",
     "text": [
      "Epoch 112, lr 0.00015: 100% 43/43 [00:12<00:00,  3.42it/s, 0 cls=0.19077, 1 cls=0.27704, 2 cls=0.38317, bce=0.08361, dice=0.83487, loss=0.26376]\n"
     ]
    },
    {
     "name": "stdout",
     "output_type": "stream",
     "text": [
      "loss: 0.18062 | bce: 0.04426 | dice: 0.86829 | 0 cls: 0.11993 | 1 cls: 0.17488 | 2 cls: 0.30298\n"
     ]
    },
    {
     "name": "stderr",
     "output_type": "stream",
     "text": [
      "Epoch 113, lr 0.00015: 100% 43/43 [00:12<00:00,  3.40it/s, 0 cls=0.18145, 1 cls=0.26670, 2 cls=0.37229, bce=0.08099, dice=0.84071, loss=0.25372]\n"
     ]
    },
    {
     "name": "stdout",
     "output_type": "stream",
     "text": [
      "loss: 0.17784 | bce: 0.04248 | dice: 0.86881 | 0 cls: 0.11896 | 1 cls: 0.17140 | 2 cls: 0.29850\n"
     ]
    },
    {
     "name": "stderr",
     "output_type": "stream",
     "text": [
      "Epoch 114, lr 0.00015: 100% 43/43 [00:12<00:00,  3.43it/s, 0 cls=0.18699, 1 cls=0.27204, 2 cls=0.37988, bce=0.08178, dice=0.83632, loss=0.25958]\n"
     ]
    },
    {
     "name": "stdout",
     "output_type": "stream",
     "text": [
      "loss: 0.17872 | bce: 0.04448 | dice: 0.87048 | 0 cls: 0.11822 | 1 cls: 0.17414 | 2 cls: 0.29906\n"
     ]
    },
    {
     "name": "stderr",
     "output_type": "stream",
     "text": [
      "Epoch 115, lr 0.00015: 100% 43/43 [00:12<00:00,  3.41it/s, 0 cls=0.18304, 1 cls=0.26810, 2 cls=0.37287, bce=0.08203, dice=0.84057, loss=0.25503]\n"
     ]
    },
    {
     "name": "stdout",
     "output_type": "stream",
     "text": [
      "loss: 0.18189 | bce: 0.04127 | dice: 0.86451 | 0 cls: 0.12151 | 1 cls: 0.17535 | 2 cls: 0.30591\n"
     ]
    },
    {
     "name": "stderr",
     "output_type": "stream",
     "text": [
      "Epoch 116, lr 0.00015: 100% 43/43 [00:12<00:00,  3.42it/s, 0 cls=0.18402, 1 cls=0.26799, 2 cls=0.37522, bce=0.08202, dice=0.83951, loss=0.25585]\n"
     ]
    },
    {
     "name": "stdout",
     "output_type": "stream",
     "text": [
      "loss: 0.17696 | bce: 0.04188 | dice: 0.86950 | 0 cls: 0.11775 | 1 cls: 0.17100 | 2 cls: 0.29725\n"
     ]
    },
    {
     "name": "stderr",
     "output_type": "stream",
     "text": [
      "Epoch 117, lr 0.00015: 100% 43/43 [00:12<00:00,  3.42it/s, 0 cls=0.18339, 1 cls=0.26702, 2 cls=0.37293, bce=0.08076, dice=0.83946, loss=0.25475]\n"
     ]
    },
    {
     "name": "stdout",
     "output_type": "stream",
     "text": [
      "loss: 0.17949 | bce: 0.04409 | dice: 0.86915 | 0 cls: 0.11876 | 1 cls: 0.17493 | 2 cls: 0.30001\n"
     ]
    },
    {
     "name": "stderr",
     "output_type": "stream",
     "text": [
      "Epoch 118, lr 0.00015: 100% 43/43 [00:12<00:00,  3.39it/s, 0 cls=0.18570, 1 cls=0.26937, 2 cls=0.37511, bce=0.08136, dice=0.83811, loss=0.25705]\n"
     ]
    },
    {
     "name": "stdout",
     "output_type": "stream",
     "text": [
      "loss: 0.18010 | bce: 0.04184 | dice: 0.86671 | 0 cls: 0.11988 | 1 cls: 0.17418 | 2 cls: 0.30307\n"
     ]
    },
    {
     "name": "stderr",
     "output_type": "stream",
     "text": [
      "Epoch 119, lr 0.00015: 100% 43/43 [00:12<00:00,  3.41it/s, 0 cls=0.18631, 1 cls=0.27346, 2 cls=0.38037, bce=0.08298, dice=0.83717, loss=0.25998]\n"
     ]
    },
    {
     "name": "stdout",
     "output_type": "stream",
     "text": [
      "loss: 0.18939 | bce: 0.04446 | dice: 0.85899 | 0 cls: 0.13133 | 1 cls: 0.17745 | 2 cls: 0.32028\n"
     ]
    },
    {
     "name": "stderr",
     "output_type": "stream",
     "text": [
      "Epoch 120, lr 0.00015: 100% 43/43 [00:12<00:00,  3.41it/s, 0 cls=0.18997, 1 cls=0.27003, 2 cls=0.37913, bce=0.08370, dice=0.83761, loss=0.25983]\n"
     ]
    },
    {
     "name": "stdout",
     "output_type": "stream",
     "text": [
      "loss: 0.18220 | bce: 0.04550 | dice: 0.86793 | 0 cls: 0.12242 | 1 cls: 0.17612 | 2 cls: 0.30490\n"
     ]
    },
    {
     "name": "stderr",
     "output_type": "stream",
     "text": [
      "Epoch 121, lr 0.00015: 100% 43/43 [00:12<00:00,  3.43it/s, 0 cls=0.18101, 1 cls=0.26585, 2 cls=0.37082, bce=0.08037, dice=0.84082, loss=0.25291]\n"
     ]
    },
    {
     "name": "stdout",
     "output_type": "stream",
     "text": [
      "loss: 0.18211 | bce: 0.04517 | dice: 0.86771 | 0 cls: 0.11994 | 1 cls: 0.17934 | 2 cls: 0.30399\n"
     ]
    },
    {
     "name": "stderr",
     "output_type": "stream",
     "text": [
      "Epoch 122, lr 0.00015: 100% 43/43 [00:12<00:00,  3.43it/s, 0 cls=0.18094, 1 cls=0.26758, 2 cls=0.37212, bce=0.08037, dice=0.84004, loss=0.25383]\n"
     ]
    },
    {
     "name": "stdout",
     "output_type": "stream",
     "text": [
      "loss: 0.17818 | bce: 0.04258 | dice: 0.86846 | 0 cls: 0.11985 | 1 cls: 0.17083 | 2 cls: 0.29972\n"
     ]
    },
    {
     "name": "stderr",
     "output_type": "stream",
     "text": [
      "Epoch 123, lr 0.00015: 100% 43/43 [00:12<00:00,  3.42it/s, 0 cls=0.19203, 1 cls=0.27478, 2 cls=0.38113, bce=0.08258, dice=0.83468, loss=0.26295]\n"
     ]
    },
    {
     "name": "stdout",
     "output_type": "stream",
     "text": [
      "loss: 0.17962 | bce: 0.04436 | dice: 0.86949 | 0 cls: 0.11863 | 1 cls: 0.17547 | 2 cls: 0.30108\n"
     ]
    },
    {
     "name": "stderr",
     "output_type": "stream",
     "text": [
      "Epoch 124, lr 0.00015: 100% 43/43 [00:12<00:00,  3.42it/s, 0 cls=0.18216, 1 cls=0.26967, 2 cls=0.37164, bce=0.08113, dice=0.84023, loss=0.25506]\n"
     ]
    },
    {
     "name": "stdout",
     "output_type": "stream",
     "text": [
      "loss: 0.17819 | bce: 0.04318 | dice: 0.86935 | 0 cls: 0.11829 | 1 cls: 0.17307 | 2 cls: 0.29857\n"
     ]
    },
    {
     "name": "stderr",
     "output_type": "stream",
     "text": [
      "Epoch 125, lr 0.00015:  40% 17/43 [00:05<00:07,  3.36it/s, 0 cls=0.17319, 1 cls=0.25362, 2 cls=0.35761, bce=0.07816, dice=0.84733, loss=0.24224]"
     ]
    }
   ],
   "source": [
    "train_args = {\n",
    "    'model_name': 'TernausNet34_with_scale_05_epoch_600',\n",
    "    'network': 'TernausNet34',\n",
    "    'nb_epoch': 600,\n",
    "    'loss': 'BCEDiceLossMulti',\n",
    "    'lr_args': {\n",
    "        'adjust_init_lr': 0.0003,\n",
    "        'adjust_lr_decay_factor': 0.6,\n",
    "        'cycle_epochs_decay': 2,\n",
    "        'cycle_init_lr': 0.001,\n",
    "        'cycle_lr_decay_factor': 0.3,\n",
    "        'global_cycle_lr_decay_factor': 0.8,\n",
    "        'global_num_epochs_per_cycle': 100,\n",
    "        'num_epochs_per_cycle': 5,\n",
    "        'num_epochs_per_decay': 100\n",
    "    }, \n",
    "    'model_dir': 'models', \n",
    "    'log_dir': 'logs', \n",
    "    'network_args': {\n",
    "        'num_classes': 3, \n",
    "        'num_filters': 16, \n",
    "        'pretrained': True\n",
    "    }, \n",
    "    'loss_args': {\n",
    "        'weights': [0.4, 0.4, 0.2],\n",
    "        'num_classes': 3\n",
    "    },       \n",
    "    'cycle_start_epoch': 5\n",
    "}\n",
    "\n",
    "train(\n",
    "    train_args, train_ids + val_ids, val_ids[:1], \n",
    "    \"../output_data/with_scale_05/scaled_images/{}.png\", \"../output_data/with_scale_05/scaled_masks/{}.png\", \n",
    "    16, 1, train_transforms, val_transforms, period=64\n",
    ")"
   ]
  },
  {
   "cell_type": "code",
   "execution_count": null,
   "metadata": {},
   "outputs": [],
   "source": []
  }
 ],
 "metadata": {
  "kernelspec": {
   "display_name": "Python 3",
   "language": "python",
   "name": "python3"
  },
  "language_info": {
   "codemirror_mode": {
    "name": "ipython",
    "version": 3
   },
   "file_extension": ".py",
   "mimetype": "text/x-python",
   "name": "python",
   "nbconvert_exporter": "python",
   "pygments_lexer": "ipython3",
   "version": "3.6.3"
  }
 },
 "nbformat": 4,
 "nbformat_minor": 2
}
