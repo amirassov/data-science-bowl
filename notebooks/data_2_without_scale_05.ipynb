{
 "cells": [
  {
   "cell_type": "code",
   "execution_count": null,
   "metadata": {},
   "outputs": [],
   "source": [
    "from IPython.core.display import display, HTML\n",
    "display(HTML(\"<style>.container { width:95% !important; }</style>\"))"
   ]
  },
  {
   "cell_type": "code",
   "execution_count": null,
   "metadata": {},
   "outputs": [],
   "source": [
    "import warnings\n",
    "warnings.simplefilter(\"ignore\", UserWarning)\n",
    "warnings.simplefilter(\"ignore\", FutureWarning)\n",
    "warnings.simplefilter(\"ignore\", RuntimeWarning)\n",
    "\n",
    "import sys\n",
    "sys.path.append('../../dstorch/')\n",
    "\n",
    "import matplotlib.pyplot as plt\n",
    "%matplotlib inline\n",
    "%reload_ext autoreload\n",
    "%autoreload 2"
   ]
  },
  {
   "cell_type": "code",
   "execution_count": null,
   "metadata": {},
   "outputs": [],
   "source": [
    "from dstorch import preprocessing, draw\n",
    "import cv2\n",
    "import os\n",
    "import numpy as np"
   ]
  },
  {
   "cell_type": "code",
   "execution_count": null,
   "metadata": {},
   "outputs": [],
   "source": [
    "preprocessing_args = {\n",
    "    'train_path': '../data/kaggle-dsbowl-2018-dataset-fixes/stage1_train/', \n",
    "    'extra_path': '../data/extra_data/extra_data/', \n",
    "    'output_path': '../output_data/without_scale_05/',\n",
    "    'distance_path': None,\n",
    "    'invert': True,\n",
    "    'center_thresholds': [0.5], \n",
    "    'contour_thresholds': [0.5], \n",
    "    'scale': False, \n",
    "    'labels_file': None, \n",
    "    'size': None \n",
    "}\n",
    "\n",
    "preprocessing.prepare_train_data(**preprocessing_args)"
   ]
  },
  {
   "cell_type": "code",
   "execution_count": null,
   "metadata": {},
   "outputs": [],
   "source": [
    "name = '40b00d701695d8ea5d59f95ac39e18004040c96d17fbc1a539317c674eca084b.png'\n",
    "\n",
    "draw.plots([\n",
    "    cv2.imread('../output_data/without_scale_05/images/{}'.format(name)),\n",
    "    cv2.imread('../output_data/without_scale_05/masks/{}'.format(name))[..., 0],\n",
    "    cv2.imread('../output_data/without_scale_05/masks/{}'.format(name))[..., 1],\n",
    "    cv2.imread('../output_data/without_scale_05/masks/{}'.format(name))[..., 2],\n",
    "    cv2.imread('../output_data/without_scale_05/distances/{}'.format(name)),\n",
    "], col_number=5, scale=3)"
   ]
  },
  {
   "cell_type": "code",
   "execution_count": null,
   "metadata": {},
   "outputs": [],
   "source": []
  }
 ],
 "metadata": {
  "kernelspec": {
   "display_name": "Environment (conda_pytorch_p36)",
   "language": "python",
   "name": "conda_pytorch_p36"
  },
  "language_info": {
   "codemirror_mode": {
    "name": "ipython",
    "version": 3
   },
   "file_extension": ".py",
   "mimetype": "text/x-python",
   "name": "python",
   "nbconvert_exporter": "python",
   "pygments_lexer": "ipython3",
   "version": "3.6.4"
  }
 },
 "nbformat": 4,
 "nbformat_minor": 2
}
