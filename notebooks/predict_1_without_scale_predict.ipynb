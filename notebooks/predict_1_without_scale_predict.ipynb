{
 "cells": [
  {
   "cell_type": "code",
   "execution_count": 1,
   "metadata": {
    "scrolled": true
   },
   "outputs": [
    {
     "data": {
      "text/html": [
       "<style>.container { width:95% !important; }</style>"
      ],
      "text/plain": [
       "<IPython.core.display.HTML object>"
      ]
     },
     "metadata": {},
     "output_type": "display_data"
    }
   ],
   "source": [
    "from IPython.core.display import display, HTML\n",
    "display(HTML(\"<style>.container { width:95% !important; }</style>\"))"
   ]
  },
  {
   "cell_type": "code",
   "execution_count": 2,
   "metadata": {},
   "outputs": [],
   "source": [
    "import warnings\n",
    "warnings.simplefilter(\"ignore\", UserWarning)\n",
    "warnings.simplefilter(\"ignore\", FutureWarning)\n",
    "warnings.simplefilter(\"ignore\", RuntimeWarning)\n",
    "\n",
    "import sys\n",
    "sys.path.append('../../dstorch/')\n",
    "\n",
    "import matplotlib.pyplot as plt\n",
    "%matplotlib inline\n",
    "%reload_ext autoreload\n",
    "%autoreload 2"
   ]
  },
  {
   "cell_type": "code",
   "execution_count": 3,
   "metadata": {},
   "outputs": [],
   "source": [
    "from dstorch import preprocessing, draw, transforms, predict, postprocessing, metrics, utils, io\n",
    "import cv2\n",
    "import os\n",
    "import torch\n",
    "import numpy as np\n",
    "import pandas as pd\n",
    "from tqdm import tqdm"
   ]
  },
  {
   "cell_type": "code",
   "execution_count": 4,
   "metadata": {},
   "outputs": [
    {
     "name": "stderr",
     "output_type": "stream",
     "text": [
      "Reading test data..: 100%|██████████| 65/65 [00:00<00:00, 222.94it/s]\n",
      "Save test data: 100%|██████████| 65/65 [00:00<00:00, 108.40it/s]\n"
     ]
    }
   ],
   "source": [
    "preprocessing_args = {\n",
    "    'test_path': '../data/stage1_test/', \n",
    "    'output_path': '../output_data/without_scale_05/',\n",
    "    'invert': True, \n",
    "    'scale': False, \n",
    "    'test_labels_file': None, \n",
    "    'size': None \n",
    "}\n",
    "\n",
    "preprocessing.prepare_test_data(**preprocessing_args)"
   ]
  },
  {
   "cell_type": "code",
   "execution_count": 5,
   "metadata": {
    "scrolled": true
   },
   "outputs": [
    {
     "name": "stderr",
     "output_type": "stream",
     "text": [
      "Reading test data..: 100%|██████████| 65/65 [00:00<00:00, 223.57it/s]\n",
      "100%|██████████| 65/65 [00:00<00:00, 204.55it/s]\n"
     ]
    }
   ],
   "source": [
    "TEST_PATH = '../data/stage1_test/'\n",
    "test_ids, _ = io.read_test_data(TEST_PATH, d=3)\n",
    "\n",
    "test_images = []\n",
    "for _id in tqdm(test_ids):\n",
    "    test_images.append(cv2.imread(\"../output_data/without_scale_05/test/{}.png\".format(_id)))"
   ]
  },
  {
   "cell_type": "code",
   "execution_count": 6,
   "metadata": {},
   "outputs": [],
   "source": [
    "def get_predictions(model_path, ids, images, path_images, resize):\n",
    "    transform = transforms.DualCompose(\n",
    "        [\n",
    "            transforms.ImageOnly(transforms.Normalize(\n",
    "                mean=[0.485, 0.456, 0.406],\n",
    "                std=[0.229, 0.224, 0.225]))\n",
    "        ]\n",
    "    )\n",
    "    model = torch.load(model_path)\n",
    "    predictions = predict.predict(model, ids, path_images, transform, 64, 2, 1)\n",
    "\n",
    "    if resize:\n",
    "        predictions = [cv2.resize(x, (y.shape[1], y.shape[0])) for x, y in zip(predictions, images)]\n",
    "\n",
    "    return predictions"
   ]
  },
  {
   "cell_type": "code",
   "execution_count": 7,
   "metadata": {
    "scrolled": true
   },
   "outputs": [
    {
     "name": "stderr",
     "output_type": "stream",
     "text": [
      "Predict: 100%|██████████| 65/65 [00:09<00:00,  6.92it/s]\n"
     ]
    }
   ],
   "source": [
    "without_scale_05_489_predictions = get_predictions(\n",
    "    'models/TernausNet34_without_scale_05_epoch_500/local_489.pth', test_ids, \n",
    "    test_images, '../output_data/without_scale_05/test/{}.png', True\n",
    ")"
   ]
  },
  {
   "cell_type": "code",
   "execution_count": 8,
   "metadata": {},
   "outputs": [],
   "source": [
    "test_predictions = without_scale_05_489_predictions"
   ]
  },
  {
   "cell_type": "code",
   "execution_count": 9,
   "metadata": {
    "scrolled": true
   },
   "outputs": [
    {
     "name": "stderr",
     "output_type": "stream",
     "text": [
      "100%|██████████| 65/65 [00:03<00:00, 20.30it/s]\n"
     ]
    }
   ],
   "source": [
    "new_ids, rles = utils.mask2rle(test_predictions, test_ids, lambda x: postprocessing.watershed(\n",
    "        x, mask_threshold=0.5, center_threshold=0.5, padding_size=5, min_size=25)\n",
    ")"
   ]
  },
  {
   "cell_type": "code",
   "execution_count": 10,
   "metadata": {},
   "outputs": [],
   "source": [
    "from datetime import datetime\n",
    "sub = utils.make_submission(\n",
    "    '../output_data/test_predict_labels.csv'.format(datetime.now()), new_ids, rles\n",
    ")"
   ]
  },
  {
   "cell_type": "code",
   "execution_count": null,
   "metadata": {},
   "outputs": [],
   "source": []
  }
 ],
 "metadata": {
  "kernelspec": {
   "display_name": "Environment (conda_pytorch_p36)",
   "language": "python",
   "name": "conda_pytorch_p36"
  },
  "language_info": {
   "codemirror_mode": {
    "name": "ipython",
    "version": 3
   },
   "file_extension": ".py",
   "mimetype": "text/x-python",
   "name": "python",
   "nbconvert_exporter": "python",
   "pygments_lexer": "ipython3",
   "version": "3.6.4"
  }
 },
 "nbformat": 4,
 "nbformat_minor": 2
}
