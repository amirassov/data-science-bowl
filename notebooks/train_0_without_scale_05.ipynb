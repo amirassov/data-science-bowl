{
 "cells": [
  {
   "cell_type": "code",
   "execution_count": 1,
   "metadata": {},
   "outputs": [
    {
     "data": {
      "text/html": [
       "<style>.container { width:95% !important; }</style>"
      ],
      "text/plain": [
       "<IPython.core.display.HTML object>"
      ]
     },
     "metadata": {},
     "output_type": "display_data"
    }
   ],
   "source": [
    "from IPython.core.display import display, HTML\n",
    "display(HTML(\"<style>.container { width:95% !important; }</style>\"))"
   ]
  },
  {
   "cell_type": "code",
   "execution_count": 1,
   "metadata": {},
   "outputs": [],
   "source": [
    "import warnings\n",
    "warnings.simplefilter(\"ignore\", UserWarning)\n",
    "warnings.simplefilter(\"ignore\", FutureWarning)\n",
    "warnings.simplefilter(\"ignore\", RuntimeWarning)\n",
    "\n",
    "import sys\n",
    "sys.path.append('../../dstorch/')\n",
    "\n",
    "import matplotlib.pyplot as plt\n",
    "%matplotlib inline\n",
    "%reload_ext autoreload\n",
    "%autoreload 2"
   ]
  },
  {
   "cell_type": "code",
   "execution_count": 2,
   "metadata": {},
   "outputs": [],
   "source": [
    "import os\n",
    "import pandas as pd\n",
    "from dstorch import transforms\n",
    "from dstorch.train import train\n",
    "import torch.backends.cudnn as cudnn"
   ]
  },
  {
   "cell_type": "code",
   "execution_count": 3,
   "metadata": {},
   "outputs": [],
   "source": [
    "ids = list([x.split('.')[0] for x in list(next(os.walk(\"../output_data/without_scale_05/images/\"))[2])])\n",
    "classes = pd.read_csv(\"../data/classes.csv\")\n",
    "val_ids = list(classes.loc[classes['type'] == 'val', 'id'])\n",
    "train_ids = list(set(ids) - set(val_ids))"
   ]
  },
  {
   "cell_type": "code",
   "execution_count": 4,
   "metadata": {},
   "outputs": [],
   "source": [
    "train_transforms = transforms.DualCompose(\n",
    "    [\n",
    "        transforms.RandomCrop((256, 256)),\n",
    "        transforms.VerticalFlip(),\n",
    "        transforms.HorizontalFlip(),\n",
    "        transforms.Transpose(),\n",
    "        transforms.ShiftScaleRotate(scale_limit=0.75, shift_limit=0.1),\n",
    "        transforms.Distort1(0.5, 0.5),\n",
    "        transforms.ImageOnly(transforms.RandomBrightness(0.5)),\n",
    "        transforms.ImageOnly(transforms.RandomContrast(0.5)),\n",
    "        transforms.ImageOnly(transforms.RandomSaturation(0.5)),\n",
    "        transforms.ImageOnly(transforms.Normalize(\n",
    "            mean=[0.485, 0.456, 0.406],\n",
    "            std=[0.229, 0.224, 0.225]\n",
    "        ))\n",
    "    ]\n",
    ")\n",
    "\n",
    "val_transforms = transforms.DualCompose(\n",
    "    [\n",
    "        transforms.ImageOnly(transforms.Normalize(\n",
    "            mean=[0.485, 0.456, 0.406],\n",
    "            std=[0.229, 0.224, 0.225]\n",
    "        ))\n",
    "    ]\n",
    ")"
   ]
  },
  {
   "cell_type": "code",
   "execution_count": 5,
   "metadata": {},
   "outputs": [],
   "source": [
    "cudnn.benchmark = True"
   ]
  },
  {
   "cell_type": "code",
   "execution_count": 6,
   "metadata": {},
   "outputs": [
    {
     "name": "stderr",
     "output_type": "stream",
     "text": [
      "Epoch 0, lr 0.0003: 100% 39/39 [00:15<00:00,  2.58it/s, 0 cls=1.56444, 1 cls=2.31210, 2 cls=2.00175, bce=0.53767, dice=0.29677, loss=1.86068]\n"
     ]
    },
    {
     "name": "stdout",
     "output_type": "stream",
     "text": [
      "loss: 1.38506 | bce: 0.21848 | dice: 0.38274 | 0 cls: 1.00892 | 1 cls: 2.28376 | 2 cls: 1.33854\n"
     ]
    },
    {
     "name": "stderr",
     "output_type": "stream",
     "text": [
      "Epoch 1, lr 0.0003: 100% 39/39 [00:11<00:00,  3.51it/s, 0 cls=0.59589, 1 cls=0.96521, 2 cls=1.01865, bce=0.23192, dice=0.57881, loss=0.79391]\n"
     ]
    },
    {
     "name": "stdout",
     "output_type": "stream",
     "text": [
      "loss: 0.71729 | bce: 0.13435 | dice: 0.58131 | 0 cls: 0.50882 | 1 cls: 0.79660 | 2 cls: 1.01288\n"
     ]
    },
    {
     "name": "stderr",
     "output_type": "stream",
     "text": [
      "Epoch 2, lr 0.0003: 100% 39/39 [00:11<00:00,  3.49it/s, 0 cls=0.43037, 1 cls=0.72784, 2 cls=0.87118, bce=0.18700, dice=0.64753, loss=0.61494]\n"
     ]
    },
    {
     "name": "stdout",
     "output_type": "stream",
     "text": [
      "loss: 0.63764 | bce: 0.12221 | dice: 0.62310 | 0 cls: 0.46953 | 1 cls: 0.62534 | 2 cls: 0.96954\n"
     ]
    },
    {
     "name": "stderr",
     "output_type": "stream",
     "text": [
      "Epoch 3, lr 0.0003: 100% 39/39 [00:11<00:00,  3.48it/s, 0 cls=0.38318, 1 cls=0.60985, 2 cls=0.76325, bce=0.16288, dice=0.68573, loss=0.53487]\n"
     ]
    },
    {
     "name": "stdout",
     "output_type": "stream",
     "text": [
      "loss: 0.58531 | bce: 0.10976 | dice: 0.66170 | 0 cls: 0.41957 | 1 cls: 0.62762 | 2 cls: 0.85296\n"
     ]
    },
    {
     "name": "stderr",
     "output_type": "stream",
     "text": [
      "Epoch 4, lr 0.0003: 100% 39/39 [00:11<00:00,  3.49it/s, 0 cls=0.36101, 1 cls=0.56073, 2 cls=0.71372, bce=0.15305, dice=0.70365, loss=0.49912]\n"
     ]
    },
    {
     "name": "stdout",
     "output_type": "stream",
     "text": [
      "loss: 0.50305 | bce: 0.11254 | dice: 0.69498 | 0 cls: 0.36956 | 1 cls: 0.48941 | 2 cls: 0.74892\n"
     ]
    },
    {
     "name": "stderr",
     "output_type": "stream",
     "text": [
      "Epoch 5, lr 0.0003: 100% 39/39 [00:11<00:00,  3.48it/s, 0 cls=0.37088, 1 cls=0.55410, 2 cls=0.68963, bce=0.15799, dice=0.71256, loss=0.49637]\n"
     ]
    },
    {
     "name": "stdout",
     "output_type": "stream",
     "text": [
      "loss: 0.46215 | bce: 0.08801 | dice: 0.70248 | 0 cls: 0.35555 | 1 cls: 0.41565 | 2 cls: 0.70148\n"
     ]
    },
    {
     "name": "stderr",
     "output_type": "stream",
     "text": [
      "Epoch 6, lr 0.0003: 100% 39/39 [00:11<00:00,  3.48it/s, 0 cls=0.35004, 1 cls=0.50860, 2 cls=0.64731, bce=0.14227, dice=0.72441, loss=0.46400]\n"
     ]
    },
    {
     "name": "stdout",
     "output_type": "stream",
     "text": [
      "loss: 0.45894 | bce: 0.07917 | dice: 0.70398 | 0 cls: 0.34745 | 1 cls: 0.46256 | 2 cls: 0.66742\n"
     ]
    },
    {
     "name": "stderr",
     "output_type": "stream",
     "text": [
      "Epoch 7, lr 0.0003: 100% 39/39 [00:11<00:00,  3.49it/s, 0 cls=0.33093, 1 cls=0.47928, 2 cls=0.61266, bce=0.13808, dice=0.74025, loss=0.43845]\n"
     ]
    },
    {
     "name": "stdout",
     "output_type": "stream",
     "text": [
      "loss: 0.46621 | bce: 0.09215 | dice: 0.70990 | 0 cls: 0.36776 | 1 cls: 0.42514 | 2 cls: 0.69329\n"
     ]
    },
    {
     "name": "stderr",
     "output_type": "stream",
     "text": [
      "Epoch 8, lr 0.0003: 100% 39/39 [00:11<00:00,  3.46it/s, 0 cls=0.31314, 1 cls=0.46873, 2 cls=0.60161, bce=0.13009, dice=0.74354, loss=0.42415]\n"
     ]
    },
    {
     "name": "stdout",
     "output_type": "stream",
     "text": [
      "loss: 0.43157 | bce: 0.08224 | dice: 0.73327 | 0 cls: 0.34060 | 1 cls: 0.39838 | 2 cls: 0.63550\n"
     ]
    },
    {
     "name": "stderr",
     "output_type": "stream",
     "text": [
      "Epoch 9, lr 0.0003: 100% 39/39 [00:11<00:00,  3.43it/s, 0 cls=0.31103, 1 cls=0.47831, 2 cls=0.59257, bce=0.13246, dice=0.74731, loss=0.42324]\n"
     ]
    },
    {
     "name": "stdout",
     "output_type": "stream",
     "text": [
      "loss: 1.29687 | bce: 0.26698 | dice: 0.42334 | 0 cls: 1.34254 | 1 cls: 0.49371 | 2 cls: 1.94169\n"
     ]
    },
    {
     "name": "stderr",
     "output_type": "stream",
     "text": [
      "Epoch 10, lr 0.0003: 100% 39/39 [00:11<00:00,  3.30it/s, 0 cls=0.30577, 1 cls=0.44533, 2 cls=0.57955, bce=0.12799, dice=0.75364, loss=0.40911]\n"
     ]
    },
    {
     "name": "stdout",
     "output_type": "stream",
     "text": [
      "loss: 0.46247 | bce: 0.09441 | dice: 0.72965 | 0 cls: 0.38053 | 1 cls: 0.39886 | 2 cls: 0.67866\n"
     ]
    },
    {
     "name": "stderr",
     "output_type": "stream",
     "text": [
      "Epoch 11, lr 0.0003: 100% 39/39 [00:11<00:00,  3.43it/s, 0 cls=0.28986, 1 cls=0.43290, 2 cls=0.55390, bce=0.12367, dice=0.76372, loss=0.39163]\n"
     ]
    },
    {
     "name": "stdout",
     "output_type": "stream",
     "text": [
      "loss: 0.37028 | bce: 0.07795 | dice: 0.75276 | 0 cls: 0.27911 | 1 cls: 0.32991 | 2 cls: 0.58208\n"
     ]
    },
    {
     "name": "stderr",
     "output_type": "stream",
     "text": [
      "Epoch 12, lr 0.0003: 100% 39/39 [00:11<00:00,  3.43it/s, 0 cls=0.28580, 1 cls=0.41401, 2 cls=0.53899, bce=0.12006, dice=0.76852, loss=0.38115]\n"
     ]
    },
    {
     "name": "stdout",
     "output_type": "stream",
     "text": [
      "loss: 0.36720 | bce: 0.07582 | dice: 0.75884 | 0 cls: 0.27685 | 1 cls: 0.35887 | 2 cls: 0.54230\n"
     ]
    },
    {
     "name": "stderr",
     "output_type": "stream",
     "text": [
      "Epoch 13, lr 0.0003: 100% 39/39 [00:11<00:00,  3.42it/s, 0 cls=0.27205, 1 cls=0.40696, 2 cls=0.52261, bce=0.11605, dice=0.77566, loss=0.36842]\n"
     ]
    },
    {
     "name": "stdout",
     "output_type": "stream",
     "text": [
      "loss: 0.30406 | bce: 0.06966 | dice: 0.79484 | 0 cls: 0.22386 | 1 cls: 0.29085 | 2 cls: 0.46940\n"
     ]
    },
    {
     "name": "stderr",
     "output_type": "stream",
     "text": [
      "Epoch 14, lr 0.0003: 100% 39/39 [00:11<00:00,  3.43it/s, 0 cls=0.27506, 1 cls=0.40701, 2 cls=0.52506, bce=0.11631, dice=0.77455, loss=0.37055]\n"
     ]
    },
    {
     "name": "stdout",
     "output_type": "stream",
     "text": [
      "loss: 0.33032 | bce: 0.06882 | dice: 0.77470 | 0 cls: 0.24421 | 1 cls: 0.29613 | 2 cls: 0.52525\n"
     ]
    },
    {
     "name": "stderr",
     "output_type": "stream",
     "text": [
      "Epoch 15, lr 0.0003: 100% 39/39 [00:11<00:00,  3.40it/s, 0 cls=0.27445, 1 cls=0.39171, 2 cls=0.51268, bce=0.11398, dice=0.77784, loss=0.36332]\n"
     ]
    },
    {
     "name": "stdout",
     "output_type": "stream",
     "text": [
      "loss: 0.30673 | bce: 0.07017 | dice: 0.79227 | 0 cls: 0.22585 | 1 cls: 0.30288 | 2 cls: 0.45679\n"
     ]
    },
    {
     "name": "stderr",
     "output_type": "stream",
     "text": [
      "Epoch 16, lr 0.0003: 100% 39/39 [00:11<00:00,  3.42it/s, 0 cls=0.26983, 1 cls=0.38663, 2 cls=0.51260, bce=0.11746, dice=0.78333, loss=0.35972]\n"
     ]
    },
    {
     "name": "stdout",
     "output_type": "stream",
     "text": [
      "loss: 0.33151 | bce: 0.06759 | dice: 0.77540 | 0 cls: 0.25374 | 1 cls: 0.31466 | 2 cls: 0.49378\n"
     ]
    },
    {
     "name": "stderr",
     "output_type": "stream",
     "text": [
      "Epoch 17, lr 0.0003: 100% 39/39 [00:11<00:00,  3.40it/s, 0 cls=0.25590, 1 cls=0.38354, 2 cls=0.49759, bce=0.10904, dice=0.78565, loss=0.34823]\n"
     ]
    },
    {
     "name": "stdout",
     "output_type": "stream",
     "text": [
      "loss: 0.28655 | bce: 0.07047 | dice: 0.80570 | 0 cls: 0.21060 | 1 cls: 0.27273 | 2 cls: 0.44491\n"
     ]
    },
    {
     "name": "stderr",
     "output_type": "stream",
     "text": [
      "Epoch 18, lr 0.0003: 100% 39/39 [00:11<00:00,  3.42it/s, 0 cls=0.27419, 1 cls=0.39581, 2 cls=0.51275, bce=0.11573, dice=0.77881, loss=0.36423]\n"
     ]
    },
    {
     "name": "stdout",
     "output_type": "stream",
     "text": [
      "loss: 0.34014 | bce: 0.07431 | dice: 0.77666 | 0 cls: 0.26256 | 1 cls: 0.32233 | 2 cls: 0.50330\n"
     ]
    },
    {
     "name": "stderr",
     "output_type": "stream",
     "text": [
      "Epoch 19, lr 0.0003: 100% 39/39 [00:11<00:00,  3.41it/s, 0 cls=0.26677, 1 cls=0.38989, 2 cls=0.50342, bce=0.11425, dice=0.78326, loss=0.35671]\n"
     ]
    },
    {
     "name": "stdout",
     "output_type": "stream",
     "text": [
      "loss: 0.29607 | bce: 0.06760 | dice: 0.79481 | 0 cls: 0.21920 | 1 cls: 0.28359 | 2 cls: 0.45490\n"
     ]
    },
    {
     "name": "stderr",
     "output_type": "stream",
     "text": [
      "Epoch 20, lr 0.0003: 100% 39/39 [00:11<00:00,  3.41it/s, 0 cls=0.26469, 1 cls=0.37646, 2 cls=0.49743, bce=0.11458, dice=0.78876, loss=0.35082]\n"
     ]
    },
    {
     "name": "stdout",
     "output_type": "stream",
     "text": [
      "loss: 0.29796 | bce: 0.06330 | dice: 0.79604 | 0 cls: 0.22072 | 1 cls: 0.26565 | 2 cls: 0.47754\n"
     ]
    },
    {
     "name": "stderr",
     "output_type": "stream",
     "text": [
      "Epoch 21, lr 0.0003: 100% 39/39 [00:11<00:00,  3.38it/s, 0 cls=0.26916, 1 cls=0.38156, 2 cls=0.49733, bce=0.11084, dice=0.78390, loss=0.35430]\n"
     ]
    },
    {
     "name": "stdout",
     "output_type": "stream",
     "text": [
      "loss: 0.27786 | bce: 0.06343 | dice: 0.80682 | 0 cls: 0.21095 | 1 cls: 0.26259 | 2 cls: 0.41917\n"
     ]
    },
    {
     "name": "stderr",
     "output_type": "stream",
     "text": [
      "Epoch 22, lr 0.0003: 100% 39/39 [00:11<00:00,  3.40it/s, 0 cls=0.26536, 1 cls=0.36888, 2 cls=0.49479, bce=0.10924, dice=0.78582, loss=0.34860]\n"
     ]
    },
    {
     "name": "stdout",
     "output_type": "stream",
     "text": [
      "loss: 0.26203 | bce: 0.06147 | dice: 0.82005 | 0 cls: 0.19044 | 1 cls: 0.25798 | 2 cls: 0.40074\n"
     ]
    },
    {
     "name": "stderr",
     "output_type": "stream",
     "text": [
      "Epoch 23, lr 0.0003: 100% 39/39 [00:11<00:00,  3.42it/s, 0 cls=0.25412, 1 cls=0.36145, 2 cls=0.47792, bce=0.10629, dice=0.79265, loss=0.33690]\n"
     ]
    },
    {
     "name": "stdout",
     "output_type": "stream",
     "text": [
      "loss: 0.26106 | bce: 0.05756 | dice: 0.81757 | 0 cls: 0.19072 | 1 cls: 0.25269 | 2 cls: 0.39975\n"
     ]
    },
    {
     "name": "stderr",
     "output_type": "stream",
     "text": [
      "Epoch 24, lr 0.0003: 100% 39/39 [00:11<00:00,  3.43it/s, 0 cls=0.24248, 1 cls=0.35546, 2 cls=0.46157, bce=0.10443, dice=0.79974, loss=0.32550]\n"
     ]
    },
    {
     "name": "stdout",
     "output_type": "stream",
     "text": [
      "loss: 0.25515 | bce: 0.05757 | dice: 0.82178 | 0 cls: 0.18418 | 1 cls: 0.25761 | 2 cls: 0.38586\n"
     ]
    },
    {
     "name": "stderr",
     "output_type": "stream",
     "text": [
      "Epoch 25, lr 0.0003: 100% 39/39 [00:11<00:00,  3.39it/s, 0 cls=0.25481, 1 cls=0.36142, 2 cls=0.48066, bce=0.10707, dice=0.79203, loss=0.33792]\n"
     ]
    },
    {
     "name": "stdout",
     "output_type": "stream",
     "text": [
      "loss: 0.26468 | bce: 0.05976 | dice: 0.81404 | 0 cls: 0.19603 | 1 cls: 0.24864 | 2 cls: 0.41023\n"
     ]
    },
    {
     "name": "stderr",
     "output_type": "stream",
     "text": [
      "Epoch 26, lr 0.0003: 100% 39/39 [00:11<00:00,  3.40it/s, 0 cls=0.25487, 1 cls=0.35885, 2 cls=0.47651, bce=0.10746, dice=0.79351, loss=0.33628]\n"
     ]
    },
    {
     "name": "stdout",
     "output_type": "stream",
     "text": [
      "loss: 0.29483 | bce: 0.07046 | dice: 0.80116 | 0 cls: 0.21643 | 1 cls: 0.29555 | 2 cls: 0.44394\n"
     ]
    },
    {
     "name": "stderr",
     "output_type": "stream",
     "text": [
      "Epoch 27, lr 0.0003: 100% 39/39 [00:11<00:00,  3.42it/s, 0 cls=0.23866, 1 cls=0.34318, 2 cls=0.45727, bce=0.10434, dice=0.80451, loss=0.31944]\n"
     ]
    },
    {
     "name": "stdout",
     "output_type": "stream",
     "text": [
      "loss: 0.24132 | bce: 0.05802 | dice: 0.83199 | 0 cls: 0.17298 | 1 cls: 0.24511 | 2 cls: 0.36731\n"
     ]
    },
    {
     "name": "stderr",
     "output_type": "stream",
     "text": [
      "Epoch 28, lr 0.0003: 100% 39/39 [00:11<00:00,  3.43it/s, 0 cls=0.23376, 1 cls=0.34745, 2 cls=0.45925, bce=0.10309, dice=0.80394, loss=0.31855]\n"
     ]
    },
    {
     "name": "stdout",
     "output_type": "stream",
     "text": [
      "loss: 0.24469 | bce: 0.05808 | dice: 0.82986 | 0 cls: 0.17756 | 1 cls: 0.24162 | 2 cls: 0.37342\n"
     ]
    },
    {
     "name": "stderr",
     "output_type": "stream",
     "text": [
      "Epoch 29, lr 0.0003: 100% 39/39 [00:11<00:00,  3.41it/s, 0 cls=0.25256, 1 cls=0.37000, 2 cls=0.47863, bce=0.10571, dice=0.79121, loss=0.33844]\n"
     ]
    },
    {
     "name": "stdout",
     "output_type": "stream",
     "text": [
      "loss: 0.26340 | bce: 0.06584 | dice: 0.81968 | 0 cls: 0.18140 | 1 cls: 0.27356 | 2 cls: 0.41046\n"
     ]
    },
    {
     "name": "stderr",
     "output_type": "stream",
     "text": [
      "Epoch 30, lr 0.0003: 100% 39/39 [00:11<00:00,  3.42it/s, 0 cls=0.24424, 1 cls=0.34914, 2 cls=0.45655, bce=0.10459, dice=0.80184, loss=0.32354]\n"
     ]
    },
    {
     "name": "stdout",
     "output_type": "stream",
     "text": [
      "loss: 0.33075 | bce: 0.08477 | dice: 0.78607 | 0 cls: 0.26176 | 1 cls: 0.27360 | 2 cls: 0.51676\n"
     ]
    },
    {
     "name": "stderr",
     "output_type": "stream",
     "text": [
      "Epoch 31, lr 0.0003: 100% 39/39 [00:11<00:00,  3.28it/s, 0 cls=0.25975, 1 cls=0.36093, 2 cls=0.48152, bce=0.11024, dice=0.79310, loss=0.34049]\n"
     ]
    },
    {
     "name": "stdout",
     "output_type": "stream",
     "text": [
      "loss: 0.26114 | bce: 0.06327 | dice: 0.82023 | 0 cls: 0.19410 | 1 cls: 0.25413 | 2 cls: 0.39317\n"
     ]
    },
    {
     "name": "stderr",
     "output_type": "stream",
     "text": [
      "Epoch 32, lr 0.0003: 100% 39/39 [00:11<00:00,  3.40it/s, 0 cls=0.24009, 1 cls=0.34251, 2 cls=0.45534, bce=0.10190, dice=0.80262, loss=0.31951]\n"
     ]
    },
    {
     "name": "stdout",
     "output_type": "stream",
     "text": [
      "loss: 0.25678 | bce: 0.05872 | dice: 0.82022 | 0 cls: 0.19566 | 1 cls: 0.24371 | 2 cls: 0.38512\n"
     ]
    },
    {
     "name": "stderr",
     "output_type": "stream",
     "text": [
      "Epoch 33, lr 0.0003: 100% 39/39 [00:11<00:00,  3.42it/s, 0 cls=0.23640, 1 cls=0.34121, 2 cls=0.45483, bce=0.10118, dice=0.80342, loss=0.31721]\n"
     ]
    },
    {
     "name": "stdout",
     "output_type": "stream",
     "text": [
      "loss: 0.23715 | bce: 0.06059 | dice: 0.83777 | 0 cls: 0.17397 | 1 cls: 0.23162 | 2 cls: 0.36259\n"
     ]
    },
    {
     "name": "stderr",
     "output_type": "stream",
     "text": [
      "Epoch 34, lr 0.0003: 100% 39/39 [00:11<00:00,  3.41it/s, 0 cls=0.23064, 1 cls=0.33259, 2 cls=0.44082, bce=0.09761, dice=0.80781, loss=0.30867]\n"
     ]
    },
    {
     "name": "stdout",
     "output_type": "stream",
     "text": [
      "loss: 0.23102 | bce: 0.05485 | dice: 0.83755 | 0 cls: 0.16820 | 1 cls: 0.22884 | 2 cls: 0.35190\n"
     ]
    },
    {
     "name": "stderr",
     "output_type": "stream",
     "text": [
      "Epoch 35, lr 0.0003: 100% 39/39 [00:11<00:00,  3.40it/s, 0 cls=0.23556, 1 cls=0.34038, 2 cls=0.44882, bce=0.10070, dice=0.80481, loss=0.31508]\n"
     ]
    },
    {
     "name": "stdout",
     "output_type": "stream",
     "text": [
      "loss: 0.23701 | bce: 0.05406 | dice: 0.83255 | 0 cls: 0.17229 | 1 cls: 0.23304 | 2 cls: 0.36299\n"
     ]
    },
    {
     "name": "stderr",
     "output_type": "stream",
     "text": [
      "Epoch 36, lr 0.0003: 100% 39/39 [00:11<00:00,  3.40it/s, 0 cls=0.22107, 1 cls=0.32858, 2 cls=0.43143, bce=0.09682, dice=0.81365, loss=0.30054]\n"
     ]
    },
    {
     "name": "stdout",
     "output_type": "stream",
     "text": [
      "loss: 0.25017 | bce: 0.05728 | dice: 0.82740 | 0 cls: 0.18349 | 1 cls: 0.24420 | 2 cls: 0.38131\n"
     ]
    },
    {
     "name": "stderr",
     "output_type": "stream",
     "text": [
      "Epoch 37, lr 0.0003: 100% 39/39 [00:11<00:00,  3.42it/s, 0 cls=0.24745, 1 cls=0.34826, 2 cls=0.46283, bce=0.10618, dice=0.80040, loss=0.32650]\n"
     ]
    },
    {
     "name": "stdout",
     "output_type": "stream",
     "text": [
      "loss: 0.25284 | bce: 0.05808 | dice: 0.82514 | 0 cls: 0.17666 | 1 cls: 0.26972 | 2 cls: 0.38099\n"
     ]
    },
    {
     "name": "stderr",
     "output_type": "stream",
     "text": [
      "Epoch 38, lr 0.0003: 100% 39/39 [00:11<00:00,  3.40it/s, 0 cls=0.22568, 1 cls=0.34024, 2 cls=0.44409, bce=0.09865, dice=0.80780, loss=0.30892]\n"
     ]
    },
    {
     "name": "stdout",
     "output_type": "stream",
     "text": [
      "loss: 0.23145 | bce: 0.05470 | dice: 0.83727 | 0 cls: 0.16527 | 1 cls: 0.22937 | 2 cls: 0.35805\n"
     ]
    },
    {
     "name": "stderr",
     "output_type": "stream",
     "text": [
      "Epoch 39, lr 0.0003: 100% 39/39 [00:11<00:00,  3.40it/s, 0 cls=0.23201, 1 cls=0.33202, 2 cls=0.44897, bce=0.09932, dice=0.80665, loss=0.31125]\n"
     ]
    },
    {
     "name": "stdout",
     "output_type": "stream",
     "text": [
      "loss: 0.25514 | bce: 0.06021 | dice: 0.82394 | 0 cls: 0.18682 | 1 cls: 0.25400 | 2 cls: 0.38570\n"
     ]
    },
    {
     "name": "stderr",
     "output_type": "stream",
     "text": [
      "Epoch 40, lr 0.0003: 100% 39/39 [00:11<00:00,  3.40it/s, 0 cls=0.22269, 1 cls=0.32501, 2 cls=0.43294, bce=0.09617, dice=0.81275, loss=0.30083]\n"
     ]
    },
    {
     "name": "stdout",
     "output_type": "stream",
     "text": [
      "loss: 0.23400 | bce: 0.05741 | dice: 0.83755 | 0 cls: 0.16760 | 1 cls: 0.23165 | 2 cls: 0.36193\n"
     ]
    },
    {
     "name": "stderr",
     "output_type": "stream",
     "text": [
      "Epoch 41, lr 0.0003: 100% 39/39 [00:11<00:00,  3.41it/s, 0 cls=0.23276, 1 cls=0.32598, 2 cls=0.43732, bce=0.10019, dice=0.81145, loss=0.30720]\n"
     ]
    },
    {
     "name": "stdout",
     "output_type": "stream",
     "text": [
      "loss: 0.25448 | bce: 0.06320 | dice: 0.82792 | 0 cls: 0.18270 | 1 cls: 0.25980 | 2 cls: 0.38140\n"
     ]
    },
    {
     "name": "stderr",
     "output_type": "stream",
     "text": [
      "Epoch 42, lr 0.0003: 100% 39/39 [00:11<00:00,  3.39it/s, 0 cls=0.22937, 1 cls=0.31927, 2 cls=0.43867, bce=0.09630, dice=0.80988, loss=0.30417]\n"
     ]
    },
    {
     "name": "stdout",
     "output_type": "stream",
     "text": [
      "loss: 0.23901 | bce: 0.05829 | dice: 0.83449 | 0 cls: 0.17171 | 1 cls: 0.23897 | 2 cls: 0.36593\n"
     ]
    },
    {
     "name": "stderr",
     "output_type": "stream",
     "text": [
      "Epoch 43, lr 0.0003: 100% 39/39 [00:11<00:00,  3.41it/s, 0 cls=0.21492, 1 cls=0.31496, 2 cls=0.42228, bce=0.09274, dice=0.81700, loss=0.29177]\n"
     ]
    },
    {
     "name": "stdout",
     "output_type": "stream",
     "text": [
      "loss: 0.24668 | bce: 0.05698 | dice: 0.82803 | 0 cls: 0.18175 | 1 cls: 0.23808 | 2 cls: 0.37878\n"
     ]
    },
    {
     "name": "stderr",
     "output_type": "stream",
     "text": [
      "Epoch 44, lr 0.0003: 100% 39/39 [00:11<00:00,  3.41it/s, 0 cls=0.23044, 1 cls=0.33129, 2 cls=0.44163, bce=0.09956, dice=0.80968, loss=0.30845]\n"
     ]
    },
    {
     "name": "stdout",
     "output_type": "stream",
     "text": [
      "loss: 0.26585 | bce: 0.05953 | dice: 0.81500 | 0 cls: 0.20546 | 1 cls: 0.25245 | 2 cls: 0.39144\n"
     ]
    },
    {
     "name": "stderr",
     "output_type": "stream",
     "text": [
      "Epoch 45, lr 0.0003: 100% 39/39 [00:11<00:00,  3.41it/s, 0 cls=0.22308, 1 cls=0.32234, 2 cls=0.42803, bce=0.09459, dice=0.81302, loss=0.29913]\n"
     ]
    },
    {
     "name": "stdout",
     "output_type": "stream",
     "text": [
      "loss: 0.23244 | bce: 0.05856 | dice: 0.83970 | 0 cls: 0.16503 | 1 cls: 0.23572 | 2 cls: 0.35793\n"
     ]
    },
    {
     "name": "stderr",
     "output_type": "stream",
     "text": [
      "Epoch 46, lr 0.0003: 100% 39/39 [00:11<00:00,  3.42it/s, 0 cls=0.21442, 1 cls=0.31476, 2 cls=0.42640, bce=0.09426, dice=0.81746, loss=0.29250]\n"
     ]
    },
    {
     "name": "stdout",
     "output_type": "stream",
     "text": [
      "loss: 0.27902 | bce: 0.06050 | dice: 0.80272 | 0 cls: 0.22422 | 1 cls: 0.24566 | 2 cls: 0.41197\n"
     ]
    },
    {
     "name": "stderr",
     "output_type": "stream",
     "text": [
      "Epoch 47, lr 0.0003: 100% 39/39 [00:11<00:00,  3.39it/s, 0 cls=0.21983, 1 cls=0.31277, 2 cls=0.42500, bce=0.09527, dice=0.81695, loss=0.29436]\n"
     ]
    },
    {
     "name": "stdout",
     "output_type": "stream",
     "text": [
      "loss: 0.22896 | bce: 0.06184 | dice: 0.84508 | 0 cls: 0.16283 | 1 cls: 0.22920 | 2 cls: 0.35493\n"
     ]
    },
    {
     "name": "stderr",
     "output_type": "stream",
     "text": [
      "Epoch 48, lr 0.0003: 100% 39/39 [00:11<00:00,  3.40it/s, 0 cls=0.21919, 1 cls=0.31922, 2 cls=0.42539, bce=0.09607, dice=0.81672, loss=0.29575]\n"
     ]
    },
    {
     "name": "stdout",
     "output_type": "stream",
     "text": [
      "loss: 0.22579 | bce: 0.05243 | dice: 0.84147 | 0 cls: 0.16773 | 1 cls: 0.22386 | 2 cls: 0.33678\n"
     ]
    },
    {
     "name": "stderr",
     "output_type": "stream",
     "text": [
      "Epoch 49, lr 0.0003: 100% 39/39 [00:11<00:00,  3.40it/s, 0 cls=0.21553, 1 cls=0.31170, 2 cls=0.42171, bce=0.09413, dice=0.81860, loss=0.29112]\n"
     ]
    },
    {
     "name": "stdout",
     "output_type": "stream",
     "text": [
      "loss: 0.23677 | bce: 0.05659 | dice: 0.83574 | 0 cls: 0.17924 | 1 cls: 0.22253 | 2 cls: 0.36036\n"
     ]
    },
    {
     "name": "stderr",
     "output_type": "stream",
     "text": [
      "Epoch 50, lr 0.0003: 100% 39/39 [00:11<00:00,  3.42it/s, 0 cls=0.22650, 1 cls=0.31618, 2 cls=0.43346, bce=0.09531, dice=0.81196, loss=0.30066]\n"
     ]
    },
    {
     "name": "stdout",
     "output_type": "stream",
     "text": [
      "loss: 0.22881 | bce: 0.05497 | dice: 0.84025 | 0 cls: 0.16628 | 1 cls: 0.22543 | 2 cls: 0.35106\n"
     ]
    },
    {
     "name": "stderr",
     "output_type": "stream",
     "text": [
      "Epoch 51, lr 0.0003: 100% 39/39 [00:11<00:00,  3.38it/s, 0 cls=0.22320, 1 cls=0.31899, 2 cls=0.43103, bce=0.09705, dice=0.81449, loss=0.29910]\n"
     ]
    },
    {
     "name": "stdout",
     "output_type": "stream",
     "text": [
      "loss: 0.25231 | bce: 0.06059 | dice: 0.82633 | 0 cls: 0.18747 | 1 cls: 0.24526 | 2 cls: 0.38251\n"
     ]
    },
    {
     "name": "stderr",
     "output_type": "stream",
     "text": [
      "Epoch 52, lr 0.0003: 100% 39/39 [00:11<00:00,  3.31it/s, 0 cls=0.21943, 1 cls=0.31475, 2 cls=0.42605, bce=0.09565, dice=0.81728, loss=0.29491]\n"
     ]
    },
    {
     "name": "stdout",
     "output_type": "stream",
     "text": [
      "loss: 0.27438 | bce: 0.05661 | dice: 0.80942 | 0 cls: 0.20718 | 1 cls: 0.26334 | 2 cls: 0.41350\n"
     ]
    },
    {
     "name": "stderr",
     "output_type": "stream",
     "text": [
      "Epoch 53, lr 0.0003: 100% 39/39 [00:11<00:00,  3.40it/s, 0 cls=0.22345, 1 cls=0.32046, 2 cls=0.42816, bce=0.09637, dice=0.81452, loss=0.29888]\n"
     ]
    },
    {
     "name": "stdout",
     "output_type": "stream",
     "text": [
      "loss: 0.23924 | bce: 0.05797 | dice: 0.83587 | 0 cls: 0.17420 | 1 cls: 0.25201 | 2 cls: 0.35021\n"
     ]
    },
    {
     "name": "stderr",
     "output_type": "stream",
     "text": [
      "Epoch 54, lr 0.0003: 100% 39/39 [00:11<00:00,  3.38it/s, 0 cls=0.21939, 1 cls=0.31769, 2 cls=0.42189, bce=0.09639, dice=0.81803, loss=0.29459]\n"
     ]
    },
    {
     "name": "stdout",
     "output_type": "stream",
     "text": [
      "loss: 0.24599 | bce: 0.05668 | dice: 0.82914 | 0 cls: 0.18886 | 1 cls: 0.23491 | 2 cls: 0.36433\n"
     ]
    },
    {
     "name": "stderr",
     "output_type": "stream",
     "text": [
      "Epoch 55, lr 0.0003: 100% 39/39 [00:11<00:00,  3.41it/s, 0 cls=0.21571, 1 cls=0.31386, 2 cls=0.42135, bce=0.09458, dice=0.81880, loss=0.29166]\n"
     ]
    },
    {
     "name": "stdout",
     "output_type": "stream",
     "text": [
      "loss: 0.23688 | bce: 0.05271 | dice: 0.83104 | 0 cls: 0.17906 | 1 cls: 0.22737 | 2 cls: 0.35632\n"
     ]
    },
    {
     "name": "stderr",
     "output_type": "stream",
     "text": [
      "Epoch 56, lr 0.0003: 100% 39/39 [00:11<00:00,  3.40it/s, 0 cls=0.22374, 1 cls=0.32591, 2 cls=0.43190, bce=0.09706, dice=0.81312, loss=0.30132]\n"
     ]
    },
    {
     "name": "stdout",
     "output_type": "stream",
     "text": [
      "loss: 0.23026 | bce: 0.05578 | dice: 0.83842 | 0 cls: 0.16910 | 1 cls: 0.22274 | 2 cls: 0.35336\n"
     ]
    },
    {
     "name": "stderr",
     "output_type": "stream",
     "text": [
      "Epoch 57, lr 0.0003: 100% 39/39 [00:11<00:00,  3.39it/s, 0 cls=0.22483, 1 cls=0.31188, 2 cls=0.43064, bce=0.09610, dice=0.81485, loss=0.29804]\n"
     ]
    },
    {
     "name": "stdout",
     "output_type": "stream",
     "text": [
      "loss: 0.24037 | bce: 0.05853 | dice: 0.83439 | 0 cls: 0.18418 | 1 cls: 0.22236 | 2 cls: 0.36431\n"
     ]
    },
    {
     "name": "stderr",
     "output_type": "stream",
     "text": [
      "Epoch 58, lr 0.0003: 100% 39/39 [00:11<00:00,  3.39it/s, 0 cls=0.22344, 1 cls=0.31467, 2 cls=0.42702, bce=0.09614, dice=0.81559, loss=0.29714]\n"
     ]
    },
    {
     "name": "stdout",
     "output_type": "stream",
     "text": [
      "loss: 0.24209 | bce: 0.06678 | dice: 0.83914 | 0 cls: 0.17676 | 1 cls: 0.24027 | 2 cls: 0.36917\n"
     ]
    },
    {
     "name": "stderr",
     "output_type": "stream",
     "text": [
      "Epoch 59, lr 0.0003: 100% 39/39 [00:11<00:00,  3.39it/s, 0 cls=0.20621, 1 cls=0.30341, 2 cls=0.40633, bce=0.09116, dice=0.82508, loss=0.28054]\n"
     ]
    },
    {
     "name": "stdout",
     "output_type": "stream",
     "text": [
      "loss: 0.21774 | bce: 0.05491 | dice: 0.84927 | 0 cls: 0.15624 | 1 cls: 0.21706 | 2 cls: 0.33475\n"
     ]
    },
    {
     "name": "stderr",
     "output_type": "stream",
     "text": [
      "Epoch 60, lr 0.0003: 100% 39/39 [00:11<00:00,  3.41it/s, 0 cls=0.21895, 1 cls=0.31565, 2 cls=0.42615, bce=0.09585, dice=0.81726, loss=0.29493]\n"
     ]
    },
    {
     "name": "stdout",
     "output_type": "stream",
     "text": [
      "loss: 0.21887 | bce: 0.05671 | dice: 0.84978 | 0 cls: 0.16058 | 1 cls: 0.21508 | 2 cls: 0.33299\n"
     ]
    },
    {
     "name": "stderr",
     "output_type": "stream",
     "text": [
      "Epoch 61, lr 0.0003: 100% 39/39 [00:11<00:00,  3.41it/s, 0 cls=0.21427, 1 cls=0.31348, 2 cls=0.41507, bce=0.09380, dice=0.82020, loss=0.28927]\n"
     ]
    },
    {
     "name": "stdout",
     "output_type": "stream",
     "text": [
      "loss: 0.23053 | bce: 0.05393 | dice: 0.83877 | 0 cls: 0.16913 | 1 cls: 0.22513 | 2 cls: 0.35360\n"
     ]
    },
    {
     "name": "stderr",
     "output_type": "stream",
     "text": [
      "Epoch 62, lr 0.0003: 100% 39/39 [00:11<00:00,  3.26it/s, 0 cls=0.21956, 1 cls=0.31325, 2 cls=0.42014, bce=0.09314, dice=0.81681, loss=0.29313]\n"
     ]
    },
    {
     "name": "stdout",
     "output_type": "stream",
     "text": [
      "loss: 0.27039 | bce: 0.06339 | dice: 0.81579 | 0 cls: 0.20996 | 1 cls: 0.23513 | 2 cls: 0.42099\n"
     ]
    },
    {
     "name": "stderr",
     "output_type": "stream",
     "text": [
      "Epoch 63, lr 0.0003: 100% 39/39 [00:11<00:00,  3.40it/s, 0 cls=0.21323, 1 cls=0.31293, 2 cls=0.41860, bce=0.09270, dice=0.81868, loss=0.28950]\n"
     ]
    },
    {
     "name": "stdout",
     "output_type": "stream",
     "text": [
      "loss: 0.22874 | bce: 0.05363 | dice: 0.83903 | 0 cls: 0.16402 | 1 cls: 0.23012 | 2 cls: 0.34876\n"
     ]
    },
    {
     "name": "stderr",
     "output_type": "stream",
     "text": [
      "Epoch 64, lr 0.0003: 100% 39/39 [00:11<00:00,  3.42it/s, 0 cls=0.21920, 1 cls=0.31403, 2 cls=0.41661, bce=0.09596, dice=0.81968, loss=0.29226]\n"
     ]
    },
    {
     "name": "stdout",
     "output_type": "stream",
     "text": [
      "loss: 0.23289 | bce: 0.05730 | dice: 0.83955 | 0 cls: 0.17066 | 1 cls: 0.22610 | 2 cls: 0.35732\n"
     ]
    },
    {
     "name": "stderr",
     "output_type": "stream",
     "text": [
      "Epoch 65, lr 0.0003: 100% 39/39 [00:11<00:00,  3.39it/s, 0 cls=0.21941, 1 cls=0.30954, 2 cls=0.42098, bce=0.09515, dice=0.81890, loss=0.29233]\n"
     ]
    },
    {
     "name": "stdout",
     "output_type": "stream",
     "text": [
      "loss: 0.24140 | bce: 0.05706 | dice: 0.83224 | 0 cls: 0.17654 | 1 cls: 0.23845 | 2 cls: 0.36823\n"
     ]
    },
    {
     "name": "stderr",
     "output_type": "stream",
     "text": [
      "Epoch 66, lr 0.0003: 100% 39/39 [00:11<00:00,  3.41it/s, 0 cls=0.21471, 1 cls=0.31156, 2 cls=0.41551, bce=0.09346, dice=0.81990, loss=0.28912]\n"
     ]
    },
    {
     "name": "stdout",
     "output_type": "stream",
     "text": [
      "loss: 0.22474 | bce: 0.05889 | dice: 0.84840 | 0 cls: 0.16595 | 1 cls: 0.22154 | 2 cls: 0.33875\n"
     ]
    },
    {
     "name": "stderr",
     "output_type": "stream",
     "text": [
      "Epoch 67, lr 0.0003: 100% 39/39 [00:11<00:00,  3.41it/s, 0 cls=0.21781, 1 cls=0.30576, 2 cls=0.41877, bce=0.09405, dice=0.81969, loss=0.29003]\n"
     ]
    },
    {
     "name": "stdout",
     "output_type": "stream",
     "text": [
      "loss: 0.24841 | bce: 0.06068 | dice: 0.83136 | 0 cls: 0.19018 | 1 cls: 0.22729 | 2 cls: 0.38005\n"
     ]
    },
    {
     "name": "stderr",
     "output_type": "stream",
     "text": [
      "Epoch 68, lr 0.0003: 100% 39/39 [00:11<00:00,  3.43it/s, 0 cls=0.21128, 1 cls=0.31050, 2 cls=0.41395, bce=0.09311, dice=0.82137, loss=0.28675]\n"
     ]
    },
    {
     "name": "stdout",
     "output_type": "stream",
     "text": [
      "loss: 0.22586 | bce: 0.05344 | dice: 0.84224 | 0 cls: 0.16258 | 1 cls: 0.22784 | 2 cls: 0.34470\n"
     ]
    },
    {
     "name": "stderr",
     "output_type": "stream",
     "text": [
      "Epoch 69, lr 0.0003: 100% 39/39 [00:11<00:00,  3.41it/s, 0 cls=0.20560, 1 cls=0.30315, 2 cls=0.40404, bce=0.09049, dice=0.82526, loss=0.27960]\n"
     ]
    },
    {
     "name": "stdout",
     "output_type": "stream",
     "text": [
      "loss: 0.21550 | bce: 0.05493 | dice: 0.85090 | 0 cls: 0.15471 | 1 cls: 0.21688 | 2 cls: 0.33078\n"
     ]
    },
    {
     "name": "stderr",
     "output_type": "stream",
     "text": [
      "Epoch 70, lr 0.0003: 100% 39/39 [00:11<00:00,  3.39it/s, 0 cls=0.20571, 1 cls=0.29689, 2 cls=0.40413, bce=0.08995, dice=0.82582, loss=0.27811]\n"
     ]
    },
    {
     "name": "stdout",
     "output_type": "stream",
     "text": [
      "loss: 0.24341 | bce: 0.06543 | dice: 0.83693 | 0 cls: 0.17711 | 1 cls: 0.24247 | 2 cls: 0.37123\n"
     ]
    },
    {
     "name": "stderr",
     "output_type": "stream",
     "text": [
      "Epoch 71, lr 0.0003: 100% 39/39 [00:11<00:00,  3.41it/s, 0 cls=0.21659, 1 cls=0.31383, 2 cls=0.42031, bce=0.09328, dice=0.81788, loss=0.29183]\n"
     ]
    },
    {
     "name": "stdout",
     "output_type": "stream",
     "text": [
      "loss: 0.21962 | bce: 0.05453 | dice: 0.84780 | 0 cls: 0.15394 | 1 cls: 0.22640 | 2 cls: 0.33869\n"
     ]
    },
    {
     "name": "stderr",
     "output_type": "stream",
     "text": [
      "Epoch 72, lr 0.0003: 100% 39/39 [00:11<00:00,  3.40it/s, 0 cls=0.20413, 1 cls=0.29694, 2 cls=0.40228, bce=0.09054, dice=0.82720, loss=0.27687]\n"
     ]
    },
    {
     "name": "stdout",
     "output_type": "stream",
     "text": [
      "loss: 0.22366 | bce: 0.05324 | dice: 0.84334 | 0 cls: 0.15980 | 1 cls: 0.22803 | 2 cls: 0.34140\n"
     ]
    },
    {
     "name": "stderr",
     "output_type": "stream",
     "text": [
      "Epoch 73, lr 0.0003: 100% 39/39 [00:12<00:00,  3.25it/s, 0 cls=0.20479, 1 cls=0.29918, 2 cls=0.40138, bce=0.08872, dice=0.82574, loss=0.27753]\n"
     ]
    },
    {
     "name": "stdout",
     "output_type": "stream",
     "text": [
      "loss: 0.23345 | bce: 0.05840 | dice: 0.83991 | 0 cls: 0.17272 | 1 cls: 0.22192 | 2 cls: 0.36065\n"
     ]
    },
    {
     "name": "stderr",
     "output_type": "stream",
     "text": [
      "Epoch 74, lr 0.0003: 100% 39/39 [00:11<00:00,  3.42it/s, 0 cls=0.20711, 1 cls=0.29288, 2 cls=0.40110, bce=0.08918, dice=0.82597, loss=0.27705]\n"
     ]
    },
    {
     "name": "stdout",
     "output_type": "stream",
     "text": [
      "loss: 0.20960 | bce: 0.05305 | dice: 0.85397 | 0 cls: 0.14840 | 1 cls: 0.21351 | 2 cls: 0.32277\n"
     ]
    },
    {
     "name": "stderr",
     "output_type": "stream",
     "text": [
      "Epoch 75, lr 0.0003: 100% 39/39 [00:11<00:00,  3.39it/s, 0 cls=0.21976, 1 cls=0.30091, 2 cls=0.41608, bce=0.09372, dice=0.82002, loss=0.28913]\n"
     ]
    },
    {
     "name": "stdout",
     "output_type": "stream",
     "text": [
      "loss: 0.21344 | bce: 0.05236 | dice: 0.84962 | 0 cls: 0.15551 | 1 cls: 0.20989 | 2 cls: 0.32783\n"
     ]
    },
    {
     "name": "stderr",
     "output_type": "stream",
     "text": [
      "Epoch 76, lr 0.0003: 100% 39/39 [00:11<00:00,  3.42it/s, 0 cls=0.20956, 1 cls=0.29665, 2 cls=0.40498, bce=0.09169, dice=0.82556, loss=0.28019]\n"
     ]
    },
    {
     "name": "stdout",
     "output_type": "stream",
     "text": [
      "loss: 0.21804 | bce: 0.05476 | dice: 0.84962 | 0 cls: 0.15786 | 1 cls: 0.21699 | 2 cls: 0.33438\n"
     ]
    },
    {
     "name": "stderr",
     "output_type": "stream",
     "text": [
      "Epoch 77, lr 0.0003: 100% 39/39 [00:11<00:00,  3.37it/s, 0 cls=0.21275, 1 cls=0.31325, 2 cls=0.41386, bce=0.09194, dice=0.82032, loss=0.28815]\n"
     ]
    },
    {
     "name": "stdout",
     "output_type": "stream",
     "text": [
      "loss: 0.21984 | bce: 0.05274 | dice: 0.84554 | 0 cls: 0.15781 | 1 cls: 0.22160 | 2 cls: 0.33682\n"
     ]
    },
    {
     "name": "stderr",
     "output_type": "stream",
     "text": [
      "Epoch 78, lr 0.0003: 100% 39/39 [00:11<00:00,  3.41it/s, 0 cls=0.20520, 1 cls=0.29625, 2 cls=0.40201, bce=0.08858, dice=0.82547, loss=0.27716]\n"
     ]
    },
    {
     "name": "stdout",
     "output_type": "stream",
     "text": [
      "loss: 0.30278 | bce: 0.06584 | dice: 0.78925 | 0 cls: 0.26033 | 1 cls: 0.24518 | 2 cls: 0.43737\n"
     ]
    },
    {
     "name": "stderr",
     "output_type": "stream",
     "text": [
      "Epoch 79, lr 0.0003: 100% 39/39 [00:11<00:00,  3.39it/s, 0 cls=0.21972, 1 cls=0.31199, 2 cls=0.42049, bce=0.09411, dice=0.81787, loss=0.29298]\n"
     ]
    },
    {
     "name": "stdout",
     "output_type": "stream",
     "text": [
      "loss: 0.21957 | bce: 0.05320 | dice: 0.84683 | 0 cls: 0.15775 | 1 cls: 0.22089 | 2 cls: 0.33603\n"
     ]
    },
    {
     "name": "stderr",
     "output_type": "stream",
     "text": [
      "Epoch 80, lr 0.0003: 100% 39/39 [00:11<00:00,  3.42it/s, 0 cls=0.21616, 1 cls=0.30821, 2 cls=0.41114, bce=0.09430, dice=0.82233, loss=0.28792]\n"
     ]
    },
    {
     "name": "stdout",
     "output_type": "stream",
     "text": [
      "loss: 0.23464 | bce: 0.05772 | dice: 0.83937 | 0 cls: 0.17167 | 1 cls: 0.23005 | 2 cls: 0.35920\n"
     ]
    },
    {
     "name": "stderr",
     "output_type": "stream",
     "text": [
      "Epoch 81, lr 0.0003: 100% 39/39 [00:11<00:00,  3.40it/s, 0 cls=0.21018, 1 cls=0.29950, 2 cls=0.40657, bce=0.09068, dice=0.82369, loss=0.28161]\n"
     ]
    },
    {
     "name": "stdout",
     "output_type": "stream",
     "text": [
      "loss: 0.21670 | bce: 0.05582 | dice: 0.85074 | 0 cls: 0.15589 | 1 cls: 0.21624 | 2 cls: 0.33307\n"
     ]
    },
    {
     "name": "stderr",
     "output_type": "stream",
     "text": [
      "Epoch 82, lr 0.0003: 100% 39/39 [00:11<00:00,  3.41it/s, 0 cls=0.20942, 1 cls=0.29441, 2 cls=0.40470, bce=0.09003, dice=0.82484, loss=0.27949]\n"
     ]
    },
    {
     "name": "stdout",
     "output_type": "stream",
     "text": [
      "loss: 0.23639 | bce: 0.06347 | dice: 0.84237 | 0 cls: 0.17624 | 1 cls: 0.23073 | 2 cls: 0.35541\n"
     ]
    },
    {
     "name": "stderr",
     "output_type": "stream",
     "text": [
      "Epoch 83, lr 0.0003: 100% 39/39 [00:11<00:00,  3.40it/s, 0 cls=0.20870, 1 cls=0.29470, 2 cls=0.40107, bce=0.09211, dice=0.82774, loss=0.27829]\n"
     ]
    },
    {
     "name": "stdout",
     "output_type": "stream",
     "text": [
      "loss: 0.21779 | bce: 0.05122 | dice: 0.84599 | 0 cls: 0.15741 | 1 cls: 0.21602 | 2 cls: 0.33442\n"
     ]
    },
    {
     "name": "stderr",
     "output_type": "stream",
     "text": [
      "Epoch 84, lr 0.0003: 100% 39/39 [00:11<00:00,  3.41it/s, 0 cls=0.19477, 1 cls=0.29084, 2 cls=0.39313, bce=0.08675, dice=0.83088, loss=0.26838]\n"
     ]
    },
    {
     "name": "stdout",
     "output_type": "stream",
     "text": [
      "loss: 0.21203 | bce: 0.05016 | dice: 0.85078 | 0 cls: 0.15221 | 1 cls: 0.21152 | 2 cls: 0.32576\n"
     ]
    },
    {
     "name": "stderr",
     "output_type": "stream",
     "text": [
      "Epoch 85, lr 0.0003: 100% 39/39 [00:11<00:00,  3.40it/s, 0 cls=0.20571, 1 cls=0.29725, 2 cls=0.40414, bce=0.08955, dice=0.82554, loss=0.27820]\n"
     ]
    },
    {
     "name": "stdout",
     "output_type": "stream",
     "text": [
      "loss: 0.21041 | bce: 0.05181 | dice: 0.85298 | 0 cls: 0.15130 | 1 cls: 0.21118 | 2 cls: 0.32209\n"
     ]
    },
    {
     "name": "stderr",
     "output_type": "stream",
     "text": [
      "Epoch 86, lr 0.0003: 100% 39/39 [00:11<00:00,  3.42it/s, 0 cls=0.20670, 1 cls=0.29114, 2 cls=0.40003, bce=0.08894, dice=0.82658, loss=0.27614]\n"
     ]
    },
    {
     "name": "stdout",
     "output_type": "stream",
     "text": [
      "loss: 0.22836 | bce: 0.06066 | dice: 0.84682 | 0 cls: 0.17294 | 1 cls: 0.22184 | 2 cls: 0.34050\n"
     ]
    },
    {
     "name": "stderr",
     "output_type": "stream",
     "text": [
      "Epoch 87, lr 0.0003: 100% 39/39 [00:11<00:00,  3.38it/s, 0 cls=0.21816, 1 cls=0.30100, 2 cls=0.41351, bce=0.09413, dice=0.82174, loss=0.28771]\n"
     ]
    },
    {
     "name": "stdout",
     "output_type": "stream",
     "text": [
      "loss: 0.21587 | bce: 0.05971 | dice: 0.85546 | 0 cls: 0.15706 | 1 cls: 0.21650 | 2 cls: 0.32811\n"
     ]
    },
    {
     "name": "stderr",
     "output_type": "stream",
     "text": [
      "Epoch 88, lr 0.0003: 100% 39/39 [00:11<00:00,  3.41it/s, 0 cls=0.20110, 1 cls=0.29052, 2 cls=0.39746, bce=0.08685, dice=0.82784, loss=0.27255]\n"
     ]
    },
    {
     "name": "stdout",
     "output_type": "stream",
     "text": [
      "loss: 0.21710 | bce: 0.05522 | dice: 0.85089 | 0 cls: 0.15698 | 1 cls: 0.21705 | 2 cls: 0.33229\n"
     ]
    },
    {
     "name": "stderr",
     "output_type": "stream",
     "text": [
      "Epoch 89, lr 0.0003: 100% 39/39 [00:11<00:00,  3.40it/s, 0 cls=0.20281, 1 cls=0.28706, 2 cls=0.39807, bce=0.08905, dice=0.82976, loss=0.27269]\n"
     ]
    },
    {
     "name": "stdout",
     "output_type": "stream",
     "text": [
      "loss: 0.21834 | bce: 0.05394 | dice: 0.84847 | 0 cls: 0.15741 | 1 cls: 0.21873 | 2 cls: 0.33382\n"
     ]
    },
    {
     "name": "stderr",
     "output_type": "stream",
     "text": [
      "Epoch 90, lr 0.001: 100% 39/39 [00:11<00:00,  3.42it/s, 0 cls=0.23160, 1 cls=0.33386, 2 cls=0.44365, bce=0.09976, dice=0.80798, loss=0.31018]\n"
     ]
    },
    {
     "name": "stdout",
     "output_type": "stream",
     "text": [
      "loss: 0.44355 | bce: 0.07728 | dice: 0.71038 | 0 cls: 0.39955 | 1 cls: 0.37410 | 2 cls: 0.56827\n"
     ]
    },
    {
     "name": "stderr",
     "output_type": "stream",
     "text": [
      "Epoch 91, lr 0.001: 100% 39/39 [00:11<00:00,  3.41it/s, 0 cls=0.23980, 1 cls=0.33953, 2 cls=0.45785, bce=0.10540, dice=0.80483, loss=0.31924]\n"
     ]
    },
    {
     "name": "stdout",
     "output_type": "stream",
     "text": [
      "loss: 0.28799 | bce: 0.06538 | dice: 0.80954 | 0 cls: 0.22650 | 1 cls: 0.28336 | 2 cls: 0.39998\n"
     ]
    },
    {
     "name": "stderr",
     "output_type": "stream",
     "text": [
      "Epoch 92, lr 0.0003: 100% 39/39 [00:11<00:00,  3.39it/s, 0 cls=0.21323, 1 cls=0.30818, 2 cls=0.41593, bce=0.09345, dice=0.82075, loss=0.28764]\n"
     ]
    },
    {
     "name": "stdout",
     "output_type": "stream",
     "text": [
      "loss: 0.22825 | bce: 0.05779 | dice: 0.84358 | 0 cls: 0.16826 | 1 cls: 0.22488 | 2 cls: 0.34557\n"
     ]
    },
    {
     "name": "stderr",
     "output_type": "stream",
     "text": [
      "Epoch 93, lr 0.0003: 100% 39/39 [00:11<00:00,  3.41it/s, 0 cls=0.21435, 1 cls=0.30686, 2 cls=0.41205, bce=0.09408, dice=0.82229, loss=0.28690]\n"
     ]
    },
    {
     "name": "stdout",
     "output_type": "stream",
     "text": [
      "loss: 0.22637 | bce: 0.05114 | dice: 0.83885 | 0 cls: 0.16695 | 1 cls: 0.22046 | 2 cls: 0.34560\n"
     ]
    },
    {
     "name": "stderr",
     "output_type": "stream",
     "text": [
      "Epoch 94, lr 8.999999999999999e-05: 100% 39/39 [00:11<00:00,  3.41it/s, 0 cls=0.20693, 1 cls=0.29269, 2 cls=0.39955, bce=0.08937, dice=0.82665, loss=0.27652]\n"
     ]
    },
    {
     "name": "stdout",
     "output_type": "stream",
     "text": [
      "loss: 0.21216 | bce: 0.05279 | dice: 0.85239 | 0 cls: 0.15233 | 1 cls: 0.21395 | 2 cls: 0.32529\n"
     ]
    },
    {
     "name": "stderr",
     "output_type": "stream",
     "text": [
      "Epoch 95, lr 0.001: 100% 39/39 [00:11<00:00,  3.41it/s, 0 cls=0.22354, 1 cls=0.32196, 2 cls=0.43642, bce=0.09827, dice=0.81366, loss=0.30136]\n"
     ]
    },
    {
     "name": "stdout",
     "output_type": "stream",
     "text": [
      "loss: 0.29387 | bce: 0.05811 | dice: 0.79626 | 0 cls: 0.22952 | 1 cls: 0.28497 | 2 cls: 0.42173\n"
     ]
    },
    {
     "name": "stderr",
     "output_type": "stream",
     "text": [
      "Epoch 96, lr 0.001: 100% 39/39 [00:11<00:00,  3.42it/s, 0 cls=0.25013, 1 cls=0.35630, 2 cls=0.46498, bce=0.10902, dice=0.80047, loss=0.33039]\n"
     ]
    },
    {
     "name": "stdout",
     "output_type": "stream",
     "text": [
      "loss: 0.28532 | bce: 0.07018 | dice: 0.81180 | 0 cls: 0.21236 | 1 cls: 0.28958 | 2 cls: 0.41933\n"
     ]
    },
    {
     "name": "stderr",
     "output_type": "stream",
     "text": [
      "Epoch 97, lr 0.0003: 100% 39/39 [00:11<00:00,  3.42it/s, 0 cls=0.23184, 1 cls=0.33102, 2 cls=0.44423, bce=0.10054, dice=0.80947, loss=0.30974]\n"
     ]
    },
    {
     "name": "stdout",
     "output_type": "stream",
     "text": [
      "loss: 0.22772 | bce: 0.05206 | dice: 0.83962 | 0 cls: 0.16921 | 1 cls: 0.22355 | 2 cls: 0.34175\n"
     ]
    },
    {
     "name": "stderr",
     "output_type": "stream",
     "text": [
      "Epoch 98, lr 0.0003: 100% 39/39 [00:11<00:00,  3.41it/s, 0 cls=0.20981, 1 cls=0.30068, 2 cls=0.40887, bce=0.09244, dice=0.82481, loss=0.28229]\n"
     ]
    },
    {
     "name": "stdout",
     "output_type": "stream",
     "text": [
      "loss: 0.23959 | bce: 0.05705 | dice: 0.83360 | 0 cls: 0.17752 | 1 cls: 0.23406 | 2 cls: 0.36290\n"
     ]
    },
    {
     "name": "stderr",
     "output_type": "stream",
     "text": [
      "Epoch 99, lr 8.999999999999999e-05: 100% 39/39 [00:11<00:00,  3.42it/s, 0 cls=0.20562, 1 cls=0.29831, 2 cls=0.40165, bce=0.09063, dice=0.82678, loss=0.27780]\n"
     ]
    },
    {
     "name": "stdout",
     "output_type": "stream",
     "text": [
      "loss: 0.22132 | bce: 0.05430 | dice: 0.84676 | 0 cls: 0.16096 | 1 cls: 0.21719 | 2 cls: 0.34105\n"
     ]
    },
    {
     "name": "stderr",
     "output_type": "stream",
     "text": [
      "Epoch 100, lr 0.00015: 100% 39/39 [00:11<00:00,  3.41it/s, 0 cls=0.20257, 1 cls=0.28873, 2 cls=0.39656, bce=0.08902, dice=0.82938, loss=0.27261]\n"
     ]
    },
    {
     "name": "stdout",
     "output_type": "stream",
     "text": [
      "loss: 0.21532 | bce: 0.05257 | dice: 0.84959 | 0 cls: 0.15423 | 1 cls: 0.21747 | 2 cls: 0.32980\n"
     ]
    },
    {
     "name": "stderr",
     "output_type": "stream",
     "text": [
      "Epoch 101, lr 0.00015: 100% 39/39 [00:11<00:00,  3.41it/s, 0 cls=0.21003, 1 cls=0.29664, 2 cls=0.40202, bce=0.09079, dice=0.82580, loss=0.27968]\n"
     ]
    },
    {
     "name": "stdout",
     "output_type": "stream",
     "text": [
      "loss: 0.21485 | bce: 0.05488 | dice: 0.85269 | 0 cls: 0.15547 | 1 cls: 0.21379 | 2 cls: 0.32919\n"
     ]
    },
    {
     "name": "stderr",
     "output_type": "stream",
     "text": [
      "Epoch 102, lr 0.00015: 100% 39/39 [00:11<00:00,  3.42it/s, 0 cls=0.20256, 1 cls=0.29041, 2 cls=0.39470, bce=0.08909, dice=0.82962, loss=0.27256]\n"
     ]
    },
    {
     "name": "stdout",
     "output_type": "stream",
     "text": [
      "loss: 0.20831 | bce: 0.05335 | dice: 0.85588 | 0 cls: 0.14914 | 1 cls: 0.21040 | 2 cls: 0.31912\n"
     ]
    },
    {
     "name": "stderr",
     "output_type": "stream",
     "text": [
      "Epoch 103, lr 0.00015: 100% 39/39 [00:11<00:00,  3.41it/s, 0 cls=0.20240, 1 cls=0.28990, 2 cls=0.39618, bce=0.08870, dice=0.82914, loss=0.27272]\n"
     ]
    },
    {
     "name": "stdout",
     "output_type": "stream",
     "text": [
      "loss: 0.21316 | bce: 0.05181 | dice: 0.85055 | 0 cls: 0.15345 | 1 cls: 0.21252 | 2 cls: 0.32778\n"
     ]
    },
    {
     "name": "stderr",
     "output_type": "stream",
     "text": [
      "Epoch 104, lr 0.00015: 100% 39/39 [00:11<00:00,  3.42it/s, 0 cls=0.20357, 1 cls=0.29734, 2 cls=0.40127, bce=0.09018, dice=0.82737, loss=0.27644]\n"
     ]
    },
    {
     "name": "stdout",
     "output_type": "stream",
     "text": [
      "loss: 0.20597 | bce: 0.05063 | dice: 0.85573 | 0 cls: 0.14806 | 1 cls: 0.20611 | 2 cls: 0.31605\n"
     ]
    },
    {
     "name": "stderr",
     "output_type": "stream",
     "text": [
      "Epoch 105, lr 0.00015: 100% 39/39 [00:11<00:00,  3.41it/s, 0 cls=0.19895, 1 cls=0.28980, 2 cls=0.39266, bce=0.08701, dice=0.83002, loss=0.27009]\n"
     ]
    },
    {
     "name": "stdout",
     "output_type": "stream",
     "text": [
      "loss: 0.20859 | bce: 0.05303 | dice: 0.85577 | 0 cls: 0.14952 | 1 cls: 0.20825 | 2 cls: 0.32106\n"
     ]
    },
    {
     "name": "stderr",
     "output_type": "stream",
     "text": [
      "Epoch 106, lr 0.00015: 100% 39/39 [00:11<00:00,  3.42it/s, 0 cls=0.20009, 1 cls=0.29396, 2 cls=0.39502, bce=0.08931, dice=0.83024, loss=0.27229]\n"
     ]
    },
    {
     "name": "stdout",
     "output_type": "stream",
     "text": [
      "loss: 0.20503 | bce: 0.05096 | dice: 0.85675 | 0 cls: 0.14555 | 1 cls: 0.20975 | 2 cls: 0.31391\n"
     ]
    },
    {
     "name": "stderr",
     "output_type": "stream",
     "text": [
      "Epoch 107, lr 0.00015: 100% 39/39 [00:11<00:00,  3.43it/s, 0 cls=0.21400, 1 cls=0.29754, 2 cls=0.40401, bce=0.09053, dice=0.82361, loss=0.28238]\n"
     ]
    },
    {
     "name": "stdout",
     "output_type": "stream",
     "text": [
      "loss: 0.20990 | bce: 0.05412 | dice: 0.85425 | 0 cls: 0.14956 | 1 cls: 0.21196 | 2 cls: 0.32335\n"
     ]
    },
    {
     "name": "stderr",
     "output_type": "stream",
     "text": [
      "Epoch 108, lr 0.00015: 100% 39/39 [00:11<00:00,  3.42it/s, 0 cls=0.19008, 1 cls=0.27594, 2 cls=0.37980, bce=0.08489, dice=0.83724, loss=0.25898]\n"
     ]
    },
    {
     "name": "stdout",
     "output_type": "stream",
     "text": [
      "loss: 0.20838 | bce: 0.05308 | dice: 0.85562 | 0 cls: 0.14893 | 1 cls: 0.21178 | 2 cls: 0.31840\n"
     ]
    },
    {
     "name": "stderr",
     "output_type": "stream",
     "text": [
      "Epoch 109, lr 0.00015: 100% 39/39 [00:11<00:00,  3.40it/s, 0 cls=0.19637, 1 cls=0.28593, 2 cls=0.39024, bce=0.08682, dice=0.83222, loss=0.26723]\n"
     ]
    },
    {
     "name": "stdout",
     "output_type": "stream",
     "text": [
      "loss: 0.21161 | bce: 0.05564 | dice: 0.85523 | 0 cls: 0.15112 | 1 cls: 0.21517 | 2 cls: 0.32432\n"
     ]
    },
    {
     "name": "stderr",
     "output_type": "stream",
     "text": [
      "Epoch 110, lr 0.00015: 100% 39/39 [00:11<00:00,  3.41it/s, 0 cls=0.20169, 1 cls=0.28903, 2 cls=0.39568, bce=0.08771, dice=0.82923, loss=0.27202]\n"
     ]
    },
    {
     "name": "stdout",
     "output_type": "stream",
     "text": [
      "loss: 0.20803 | bce: 0.05160 | dice: 0.85501 | 0 cls: 0.14733 | 1 cls: 0.21225 | 2 cls: 0.32009\n"
     ]
    },
    {
     "name": "stderr",
     "output_type": "stream",
     "text": [
      "Epoch 111, lr 0.00015: 100% 39/39 [00:11<00:00,  3.41it/s, 0 cls=0.19778, 1 cls=0.28557, 2 cls=0.38825, bce=0.08515, dice=0.83081, loss=0.26734]\n"
     ]
    },
    {
     "name": "stdout",
     "output_type": "stream",
     "text": [
      "loss: 0.22645 | bce: 0.05515 | dice: 0.84294 | 0 cls: 0.16784 | 1 cls: 0.21587 | 2 cls: 0.34903\n"
     ]
    },
    {
     "name": "stderr",
     "output_type": "stream",
     "text": [
      "Epoch 112, lr 0.00015: 100% 39/39 [00:11<00:00,  3.42it/s, 0 cls=0.19232, 1 cls=0.27768, 2 cls=0.38275, bce=0.08474, dice=0.83507, loss=0.26127]\n"
     ]
    },
    {
     "name": "stdout",
     "output_type": "stream",
     "text": [
      "loss: 0.20955 | bce: 0.05457 | dice: 0.85660 | 0 cls: 0.15075 | 1 cls: 0.21100 | 2 cls: 0.32089\n"
     ]
    },
    {
     "name": "stderr",
     "output_type": "stream",
     "text": [
      "Epoch 113, lr 0.00015: 100% 39/39 [00:11<00:00,  3.41it/s, 0 cls=0.20906, 1 cls=0.29429, 2 cls=0.40018, bce=0.09048, dice=0.82656, loss=0.27815]\n"
     ]
    },
    {
     "name": "stdout",
     "output_type": "stream",
     "text": [
      "loss: 0.20934 | bce: 0.05339 | dice: 0.85485 | 0 cls: 0.14918 | 1 cls: 0.21185 | 2 cls: 0.32187\n"
     ]
    },
    {
     "name": "stderr",
     "output_type": "stream",
     "text": [
      "Epoch 114, lr 0.00015: 100% 39/39 [00:11<00:00,  3.41it/s, 0 cls=0.19901, 1 cls=0.28482, 2 cls=0.38805, bce=0.08542, dice=0.83088, loss=0.26772]\n"
     ]
    },
    {
     "name": "stdout",
     "output_type": "stream",
     "text": [
      "loss: 0.21188 | bce: 0.05651 | dice: 0.85492 | 0 cls: 0.15015 | 1 cls: 0.21451 | 2 cls: 0.32790\n"
     ]
    },
    {
     "name": "stderr",
     "output_type": "stream",
     "text": [
      "Epoch 115, lr 0.00015: 100% 39/39 [00:11<00:00,  3.40it/s, 0 cls=0.20158, 1 cls=0.28602, 2 cls=0.39125, bce=0.08806, dice=0.83111, loss=0.27011]\n"
     ]
    },
    {
     "name": "stdout",
     "output_type": "stream",
     "text": [
      "loss: 0.20680 | bce: 0.05372 | dice: 0.85697 | 0 cls: 0.14759 | 1 cls: 0.20906 | 2 cls: 0.31798\n"
     ]
    },
    {
     "name": "stderr",
     "output_type": "stream",
     "text": [
      "Epoch 116, lr 0.00015: 100% 39/39 [00:11<00:00,  3.40it/s, 0 cls=0.20316, 1 cls=0.28781, 2 cls=0.39263, bce=0.08680, dice=0.82883, loss=0.27169]\n"
     ]
    },
    {
     "name": "stdout",
     "output_type": "stream",
     "text": [
      "loss: 0.21785 | bce: 0.05272 | dice: 0.84872 | 0 cls: 0.15700 | 1 cls: 0.22041 | 2 cls: 0.33169\n"
     ]
    },
    {
     "name": "stderr",
     "output_type": "stream",
     "text": [
      "Epoch 117, lr 0.00015: 100% 39/39 [00:11<00:00,  3.41it/s, 0 cls=0.19450, 1 cls=0.28429, 2 cls=0.38663, bce=0.08560, dice=0.83293, loss=0.26498]\n"
     ]
    },
    {
     "name": "stdout",
     "output_type": "stream",
     "text": [
      "loss: 0.22210 | bce: 0.05371 | dice: 0.84596 | 0 cls: 0.16189 | 1 cls: 0.22325 | 2 cls: 0.33715\n"
     ]
    },
    {
     "name": "stderr",
     "output_type": "stream",
     "text": [
      "Epoch 118, lr 0.00015: 100% 39/39 [00:11<00:00,  3.42it/s, 0 cls=0.19259, 1 cls=0.28036, 2 cls=0.38096, bce=0.08501, dice=0.83531, loss=0.26162]\n"
     ]
    },
    {
     "name": "stdout",
     "output_type": "stream",
     "text": [
      "loss: 0.20638 | bce: 0.05257 | dice: 0.85700 | 0 cls: 0.14785 | 1 cls: 0.20594 | 2 cls: 0.31905\n"
     ]
    },
    {
     "name": "stderr",
     "output_type": "stream",
     "text": [
      "Epoch 119, lr 0.00015: 100% 39/39 [00:11<00:00,  3.42it/s, 0 cls=0.18867, 1 cls=0.27456, 2 cls=0.37760, bce=0.08382, dice=0.83778, loss=0.25738]\n"
     ]
    },
    {
     "name": "stdout",
     "output_type": "stream",
     "text": [
      "loss: 0.20413 | bce: 0.05306 | dice: 0.85915 | 0 cls: 0.14532 | 1 cls: 0.20742 | 2 cls: 0.31343\n"
     ]
    },
    {
     "name": "stderr",
     "output_type": "stream",
     "text": [
      "Epoch 120, lr 0.00015: 100% 39/39 [00:11<00:00,  3.42it/s, 0 cls=0.20674, 1 cls=0.29607, 2 cls=0.39832, bce=0.08901, dice=0.82648, loss=0.27697]\n"
     ]
    },
    {
     "name": "stdout",
     "output_type": "stream",
     "text": [
      "loss: 0.21127 | bce: 0.05189 | dice: 0.85201 | 0 cls: 0.15105 | 1 cls: 0.21319 | 2 cls: 0.32496\n"
     ]
    },
    {
     "name": "stderr",
     "output_type": "stream",
     "text": [
      "Epoch 121, lr 0.00015: 100% 39/39 [00:11<00:00,  3.43it/s, 0 cls=0.19007, 1 cls=0.27501, 2 cls=0.38074, bce=0.08386, dice=0.83627, loss=0.25897]\n"
     ]
    },
    {
     "name": "stdout",
     "output_type": "stream",
     "text": [
      "loss: 0.21135 | bce: 0.05316 | dice: 0.85392 | 0 cls: 0.15182 | 1 cls: 0.21287 | 2 cls: 0.32418\n"
     ]
    },
    {
     "name": "stderr",
     "output_type": "stream",
     "text": [
      "Epoch 122, lr 0.00015: 100% 39/39 [00:11<00:00,  3.41it/s, 0 cls=0.18881, 1 cls=0.27856, 2 cls=0.37698, bce=0.08474, dice=0.83789, loss=0.25829]\n"
     ]
    },
    {
     "name": "stdout",
     "output_type": "stream",
     "text": [
      "loss: 0.20566 | bce: 0.05249 | dice: 0.85773 | 0 cls: 0.14642 | 1 cls: 0.21015 | 2 cls: 0.31400\n"
     ]
    },
    {
     "name": "stderr",
     "output_type": "stream",
     "text": [
      "Epoch 123, lr 0.00015: 100% 39/39 [00:11<00:00,  3.40it/s, 0 cls=0.18621, 1 cls=0.27227, 2 cls=0.37339, bce=0.08250, dice=0.83891, loss=0.25452]\n"
     ]
    },
    {
     "name": "stdout",
     "output_type": "stream",
     "text": [
      "loss: 0.20829 | bce: 0.05221 | dice: 0.85506 | 0 cls: 0.14810 | 1 cls: 0.21186 | 2 cls: 0.31997\n"
     ]
    },
    {
     "name": "stderr",
     "output_type": "stream",
     "text": [
      "Epoch 124, lr 0.00015: 100% 39/39 [00:11<00:00,  3.41it/s, 0 cls=0.18467, 1 cls=0.26964, 2 cls=0.37295, bce=0.08297, dice=0.84083, loss=0.25298]\n"
     ]
    },
    {
     "name": "stdout",
     "output_type": "stream",
     "text": [
      "loss: 0.20100 | bce: 0.05044 | dice: 0.85961 | 0 cls: 0.14311 | 1 cls: 0.20418 | 2 cls: 0.30857\n"
     ]
    },
    {
     "name": "stderr",
     "output_type": "stream",
     "text": [
      "Epoch 125, lr 0.00015: 100% 39/39 [00:11<00:00,  3.41it/s, 0 cls=0.19144, 1 cls=0.27971, 2 cls=0.38028, bce=0.08366, dice=0.83537, loss=0.26072]\n"
     ]
    },
    {
     "name": "stdout",
     "output_type": "stream",
     "text": [
      "loss: 0.20763 | bce: 0.05063 | dice: 0.85486 | 0 cls: 0.14808 | 1 cls: 0.21147 | 2 cls: 0.31736\n"
     ]
    },
    {
     "name": "stderr",
     "output_type": "stream",
     "text": [
      "Epoch 126, lr 0.00015: 100% 39/39 [00:11<00:00,  3.41it/s, 0 cls=0.19288, 1 cls=0.28013, 2 cls=0.38208, bce=0.08493, dice=0.83478, loss=0.26199]\n"
     ]
    },
    {
     "name": "stdout",
     "output_type": "stream",
     "text": [
      "loss: 0.20658 | bce: 0.05281 | dice: 0.85661 | 0 cls: 0.14672 | 1 cls: 0.20976 | 2 cls: 0.31812\n"
     ]
    },
    {
     "name": "stderr",
     "output_type": "stream",
     "text": [
      "Epoch 127, lr 0.00015: 100% 39/39 [00:11<00:00,  3.42it/s, 0 cls=0.19462, 1 cls=0.27753, 2 cls=0.38099, bce=0.08447, dice=0.83472, loss=0.26194]\n"
     ]
    },
    {
     "name": "stdout",
     "output_type": "stream",
     "text": [
      "loss: 0.20797 | bce: 0.05292 | dice: 0.85577 | 0 cls: 0.14962 | 1 cls: 0.20714 | 2 cls: 0.32090\n"
     ]
    },
    {
     "name": "stderr",
     "output_type": "stream",
     "text": [
      "Epoch 128, lr 0.00015: 100% 39/39 [00:11<00:00,  3.40it/s, 0 cls=0.19319, 1 cls=0.27990, 2 cls=0.38041, bce=0.08449, dice=0.83519, loss=0.26167]\n"
     ]
    },
    {
     "name": "stdout",
     "output_type": "stream",
     "text": [
      "loss: 0.20415 | bce: 0.05295 | dice: 0.85934 | 0 cls: 0.14591 | 1 cls: 0.20632 | 2 cls: 0.31364\n"
     ]
    },
    {
     "name": "stderr",
     "output_type": "stream",
     "text": [
      "Epoch 129, lr 0.00015: 100% 39/39 [00:11<00:00,  3.42it/s, 0 cls=0.18866, 1 cls=0.27106, 2 cls=0.37458, bce=0.08381, dice=0.83884, loss=0.25574]\n"
     ]
    },
    {
     "name": "stdout",
     "output_type": "stream",
     "text": [
      "loss: 0.20724 | bce: 0.05144 | dice: 0.85590 | 0 cls: 0.14787 | 1 cls: 0.21151 | 2 cls: 0.31664\n"
     ]
    },
    {
     "name": "stderr",
     "output_type": "stream",
     "text": [
      "Epoch 130, lr 0.00015: 100% 39/39 [00:11<00:00,  3.42it/s, 0 cls=0.18939, 1 cls=0.28325, 2 cls=0.38242, bce=0.08455, dice=0.83527, loss=0.26111]\n"
     ]
    },
    {
     "name": "stdout",
     "output_type": "stream",
     "text": [
      "loss: 0.20693 | bce: 0.05287 | dice: 0.85659 | 0 cls: 0.14736 | 1 cls: 0.21110 | 2 cls: 0.31740\n"
     ]
    },
    {
     "name": "stderr",
     "output_type": "stream",
     "text": [
      "Epoch 131, lr 0.00015: 100% 39/39 [00:11<00:00,  3.40it/s, 0 cls=0.19395, 1 cls=0.27532, 2 cls=0.37787, bce=0.08473, dice=0.83670, loss=0.26027]\n"
     ]
    },
    {
     "name": "stdout",
     "output_type": "stream",
     "text": [
      "loss: 0.21229 | bce: 0.05294 | dice: 0.85202 | 0 cls: 0.15166 | 1 cls: 0.21394 | 2 cls: 0.32608\n"
     ]
    },
    {
     "name": "stderr",
     "output_type": "stream",
     "text": [
      "Epoch 132, lr 0.00015: 100% 39/39 [00:11<00:00,  3.41it/s, 0 cls=0.18703, 1 cls=0.26763, 2 cls=0.36904, bce=0.08197, dice=0.84001, loss=0.25268]\n"
     ]
    },
    {
     "name": "stdout",
     "output_type": "stream",
     "text": [
      "loss: 0.20598 | bce: 0.05424 | dice: 0.85864 | 0 cls: 0.14695 | 1 cls: 0.20961 | 2 cls: 0.31608\n"
     ]
    },
    {
     "name": "stderr",
     "output_type": "stream",
     "text": [
      "Epoch 133, lr 0.00015: 100% 39/39 [00:11<00:00,  3.42it/s, 0 cls=0.20153, 1 cls=0.29103, 2 cls=0.38845, bce=0.08891, dice=0.83163, loss=0.27063]\n"
     ]
    },
    {
     "name": "stdout",
     "output_type": "stream",
     "text": [
      "loss: 0.21340 | bce: 0.05538 | dice: 0.85381 | 0 cls: 0.15190 | 1 cls: 0.21831 | 2 cls: 0.32639\n"
     ]
    },
    {
     "name": "stderr",
     "output_type": "stream",
     "text": [
      "Epoch 134, lr 0.00015: 100% 39/39 [00:11<00:00,  3.40it/s, 0 cls=0.19898, 1 cls=0.28753, 2 cls=0.39004, bce=0.08628, dice=0.83057, loss=0.26888]\n"
     ]
    },
    {
     "name": "stdout",
     "output_type": "stream",
     "text": [
      "loss: 0.20450 | bce: 0.05130 | dice: 0.85724 | 0 cls: 0.14596 | 1 cls: 0.20795 | 2 cls: 0.31331\n"
     ]
    },
    {
     "name": "stderr",
     "output_type": "stream",
     "text": [
      "Epoch 135, lr 0.00015: 100% 39/39 [00:11<00:00,  3.40it/s, 0 cls=0.18820, 1 cls=0.27321, 2 cls=0.37864, bce=0.08306, dice=0.83706, loss=0.25706]\n"
     ]
    },
    {
     "name": "stdout",
     "output_type": "stream",
     "text": [
      "loss: 0.22100 | bce: 0.05447 | dice: 0.84675 | 0 cls: 0.16112 | 1 cls: 0.21984 | 2 cls: 0.33737\n"
     ]
    },
    {
     "name": "stderr",
     "output_type": "stream",
     "text": [
      "Epoch 136, lr 0.00015: 100% 39/39 [00:11<00:00,  3.41it/s, 0 cls=0.18725, 1 cls=0.27171, 2 cls=0.37464, bce=0.08376, dice=0.83930, loss=0.25521]\n"
     ]
    },
    {
     "name": "stdout",
     "output_type": "stream",
     "text": [
      "loss: 0.22505 | bce: 0.05252 | dice: 0.84282 | 0 cls: 0.16407 | 1 cls: 0.22296 | 2 cls: 0.34384\n"
     ]
    },
    {
     "name": "stderr",
     "output_type": "stream",
     "text": [
      "Epoch 137, lr 0.00015: 100% 39/39 [00:11<00:00,  3.40it/s, 0 cls=0.19439, 1 cls=0.28171, 2 cls=0.38283, bce=0.08516, dice=0.83451, loss=0.26333]\n"
     ]
    },
    {
     "name": "stdout",
     "output_type": "stream",
     "text": [
      "loss: 0.20349 | bce: 0.05274 | dice: 0.85981 | 0 cls: 0.14578 | 1 cls: 0.20568 | 2 cls: 0.31243\n"
     ]
    },
    {
     "name": "stderr",
     "output_type": "stream",
     "text": [
      "Epoch 138, lr 0.00015: 100% 39/39 [00:11<00:00,  3.41it/s, 0 cls=0.19408, 1 cls=0.28314, 2 cls=0.38099, bce=0.08514, dice=0.83465, loss=0.26307]\n"
     ]
    },
    {
     "name": "stdout",
     "output_type": "stream",
     "text": [
      "loss: 0.21055 | bce: 0.05196 | dice: 0.85259 | 0 cls: 0.14777 | 1 cls: 0.21927 | 2 cls: 0.32267\n"
     ]
    },
    {
     "name": "stderr",
     "output_type": "stream",
     "text": [
      "Epoch 139, lr 0.00015: 100% 39/39 [00:11<00:00,  3.41it/s, 0 cls=0.19400, 1 cls=0.28044, 2 cls=0.37987, bce=0.08490, dice=0.83502, loss=0.26208]\n"
     ]
    },
    {
     "name": "stdout",
     "output_type": "stream",
     "text": [
      "loss: 0.20197 | bce: 0.05033 | dice: 0.85902 | 0 cls: 0.14367 | 1 cls: 0.20567 | 2 cls: 0.31006\n"
     ]
    },
    {
     "name": "stderr",
     "output_type": "stream",
     "text": [
      "Epoch 140, lr 0.00015: 100% 39/39 [00:11<00:00,  3.42it/s, 0 cls=0.19350, 1 cls=0.27795, 2 cls=0.38145, bce=0.08429, dice=0.83477, loss=0.26160]\n"
     ]
    },
    {
     "name": "stdout",
     "output_type": "stream",
     "text": [
      "loss: 0.20670 | bce: 0.05157 | dice: 0.85540 | 0 cls: 0.14637 | 1 cls: 0.21177 | 2 cls: 0.31723\n"
     ]
    },
    {
     "name": "stderr",
     "output_type": "stream",
     "text": [
      "Epoch 141, lr 0.00015: 100% 39/39 [00:11<00:00,  3.40it/s, 0 cls=0.18579, 1 cls=0.27478, 2 cls=0.37596, bce=0.08339, dice=0.83901, loss=0.25558]\n"
     ]
    },
    {
     "name": "stdout",
     "output_type": "stream",
     "text": [
      "loss: 0.20194 | bce: 0.05036 | dice: 0.85912 | 0 cls: 0.14384 | 1 cls: 0.20482 | 2 cls: 0.31028\n"
     ]
    },
    {
     "name": "stderr",
     "output_type": "stream",
     "text": [
      "Epoch 142, lr 0.00015: 100% 39/39 [00:11<00:00,  3.39it/s, 0 cls=0.18529, 1 cls=0.26948, 2 cls=0.36903, bce=0.08235, dice=0.84113, loss=0.25227]\n"
     ]
    },
    {
     "name": "stdout",
     "output_type": "stream",
     "text": [
      "loss: 0.21438 | bce: 0.05858 | dice: 0.85619 | 0 cls: 0.15627 | 1 cls: 0.21244 | 2 cls: 0.32813\n"
     ]
    },
    {
     "name": "stderr",
     "output_type": "stream",
     "text": [
      "Epoch 143, lr 0.00015: 100% 39/39 [00:11<00:00,  3.41it/s, 0 cls=0.18907, 1 cls=0.27333, 2 cls=0.37775, bce=0.08324, dice=0.83730, loss=0.25731]\n"
     ]
    },
    {
     "name": "stdout",
     "output_type": "stream",
     "text": [
      "loss: 0.21161 | bce: 0.05584 | dice: 0.85594 | 0 cls: 0.15186 | 1 cls: 0.21449 | 2 cls: 0.32396\n"
     ]
    },
    {
     "name": "stderr",
     "output_type": "stream",
     "text": [
      "Epoch 144, lr 0.00015: 100% 39/39 [00:11<00:00,  3.40it/s, 0 cls=0.18813, 1 cls=0.27475, 2 cls=0.37246, bce=0.08255, dice=0.83818, loss=0.25587]\n"
     ]
    },
    {
     "name": "stdout",
     "output_type": "stream",
     "text": [
      "loss: 0.20701 | bce: 0.05341 | dice: 0.85705 | 0 cls: 0.14733 | 1 cls: 0.21133 | 2 cls: 0.31789\n"
     ]
    },
    {
     "name": "stderr",
     "output_type": "stream",
     "text": [
      "Epoch 145, lr 0.00015: 100% 39/39 [00:11<00:00,  3.39it/s, 0 cls=0.18312, 1 cls=0.27051, 2 cls=0.36874, bce=0.08141, dice=0.84080, loss=0.25137]\n"
     ]
    },
    {
     "name": "stdout",
     "output_type": "stream",
     "text": [
      "loss: 0.20112 | bce: 0.05133 | dice: 0.86041 | 0 cls: 0.14232 | 1 cls: 0.20639 | 2 cls: 0.30918\n"
     ]
    },
    {
     "name": "stderr",
     "output_type": "stream",
     "text": [
      "Epoch 146, lr 0.00015: 100% 39/39 [00:11<00:00,  3.42it/s, 0 cls=0.18625, 1 cls=0.26889, 2 cls=0.36750, bce=0.08228, dice=0.84085, loss=0.25222]\n"
     ]
    },
    {
     "name": "stdout",
     "output_type": "stream",
     "text": [
      "loss: 0.20031 | bce: 0.05313 | dice: 0.86263 | 0 cls: 0.14097 | 1 cls: 0.20606 | 2 cls: 0.30917\n"
     ]
    },
    {
     "name": "stderr",
     "output_type": "stream",
     "text": [
      "Epoch 147, lr 0.00015: 100% 39/39 [00:11<00:00,  3.41it/s, 0 cls=0.18412, 1 cls=0.27044, 2 cls=0.37163, bce=0.08227, dice=0.84050, loss=0.25258]\n"
     ]
    },
    {
     "name": "stdout",
     "output_type": "stream",
     "text": [
      "loss: 0.20754 | bce: 0.05094 | dice: 0.85497 | 0 cls: 0.14784 | 1 cls: 0.20944 | 2 cls: 0.32036\n"
     ]
    },
    {
     "name": "stderr",
     "output_type": "stream",
     "text": [
      "Epoch 148, lr 0.00015: 100% 39/39 [00:11<00:00,  3.41it/s, 0 cls=0.19141, 1 cls=0.28048, 2 cls=0.37916, bce=0.08412, dice=0.83571, loss=0.26062]\n"
     ]
    },
    {
     "name": "stdout",
     "output_type": "stream",
     "text": [
      "loss: 0.20242 | bce: 0.05225 | dice: 0.85970 | 0 cls: 0.14288 | 1 cls: 0.20795 | 2 cls: 0.31182\n"
     ]
    },
    {
     "name": "stderr",
     "output_type": "stream",
     "text": [
      "Epoch 149, lr 0.00015: 100% 39/39 [00:11<00:00,  3.40it/s, 0 cls=0.19496, 1 cls=0.27886, 2 cls=0.37750, bce=0.08628, dice=0.83691, loss=0.26157]\n"
     ]
    },
    {
     "name": "stdout",
     "output_type": "stream",
     "text": [
      "loss: 0.20436 | bce: 0.05419 | dice: 0.86012 | 0 cls: 0.14663 | 1 cls: 0.20583 | 2 cls: 0.31427\n"
     ]
    },
    {
     "name": "stderr",
     "output_type": "stream",
     "text": [
      "Epoch 150, lr 0.00015: 100% 39/39 [00:11<00:00,  3.42it/s, 0 cls=0.18209, 1 cls=0.26745, 2 cls=0.36721, bce=0.08105, dice=0.84201, loss=0.24971]\n"
     ]
    },
    {
     "name": "stdout",
     "output_type": "stream",
     "text": [
      "loss: 0.20164 | bce: 0.05163 | dice: 0.86057 | 0 cls: 0.14258 | 1 cls: 0.20776 | 2 cls: 0.30874\n"
     ]
    },
    {
     "name": "stderr",
     "output_type": "stream",
     "text": [
      "Epoch 151, lr 0.00015: 100% 39/39 [00:11<00:00,  3.42it/s, 0 cls=0.18735, 1 cls=0.27824, 2 cls=0.37675, bce=0.08307, dice=0.83745, loss=0.25742]\n"
     ]
    },
    {
     "name": "stdout",
     "output_type": "stream",
     "text": [
      "loss: 0.21044 | bce: 0.05485 | dice: 0.85608 | 0 cls: 0.15144 | 1 cls: 0.21213 | 2 cls: 0.32220\n"
     ]
    },
    {
     "name": "stderr",
     "output_type": "stream",
     "text": [
      "Epoch 152, lr 0.00015: 100% 39/39 [00:11<00:00,  3.38it/s, 0 cls=0.18497, 1 cls=0.26637, 2 cls=0.37011, bce=0.08242, dice=0.84142, loss=0.25161]\n"
     ]
    },
    {
     "name": "stdout",
     "output_type": "stream",
     "text": [
      "loss: 0.20347 | bce: 0.05246 | dice: 0.85939 | 0 cls: 0.14560 | 1 cls: 0.20615 | 2 cls: 0.31161\n"
     ]
    },
    {
     "name": "stderr",
     "output_type": "stream",
     "text": [
      "Epoch 153, lr 0.00015: 100% 39/39 [00:11<00:00,  3.41it/s, 0 cls=0.18360, 1 cls=0.27157, 2 cls=0.37125, bce=0.08258, dice=0.84080, loss=0.25251]\n"
     ]
    },
    {
     "name": "stdout",
     "output_type": "stream",
     "text": [
      "loss: 0.19898 | bce: 0.05097 | dice: 0.86168 | 0 cls: 0.14066 | 1 cls: 0.20396 | 2 cls: 0.30601\n"
     ]
    },
    {
     "name": "stderr",
     "output_type": "stream",
     "text": [
      "Epoch 154, lr 0.00015: 100% 39/39 [00:11<00:00,  3.41it/s, 0 cls=0.19222, 1 cls=0.27351, 2 cls=0.38009, bce=0.08412, dice=0.83659, loss=0.25951]\n"
     ]
    },
    {
     "name": "stdout",
     "output_type": "stream",
     "text": [
      "loss: 0.19826 | bce: 0.05149 | dice: 0.86248 | 0 cls: 0.14013 | 1 cls: 0.20216 | 2 cls: 0.30583\n"
     ]
    },
    {
     "name": "stderr",
     "output_type": "stream",
     "text": [
      "Epoch 155, lr 0.00015: 100% 39/39 [00:11<00:00,  3.40it/s, 0 cls=0.17678, 1 cls=0.26100, 2 cls=0.36136, bce=0.08004, dice=0.84544, loss=0.24398]\n"
     ]
    },
    {
     "name": "stdout",
     "output_type": "stream",
     "text": [
      "loss: 0.19562 | bce: 0.05185 | dice: 0.86502 | 0 cls: 0.13835 | 1 cls: 0.20119 | 2 cls: 0.30064\n"
     ]
    },
    {
     "name": "stderr",
     "output_type": "stream",
     "text": [
      "Epoch 156, lr 0.00015: 100% 39/39 [00:11<00:00,  3.42it/s, 0 cls=0.17930, 1 cls=0.26801, 2 cls=0.36466, bce=0.08007, dice=0.84267, loss=0.24782]\n"
     ]
    },
    {
     "name": "stdout",
     "output_type": "stream",
     "text": [
      "loss: 0.20275 | bce: 0.04891 | dice: 0.85720 | 0 cls: 0.14475 | 1 cls: 0.20721 | 2 cls: 0.30952\n"
     ]
    },
    {
     "name": "stderr",
     "output_type": "stream",
     "text": [
      "Epoch 157, lr 0.00015: 100% 39/39 [00:11<00:00,  3.40it/s, 0 cls=0.18910, 1 cls=0.27585, 2 cls=0.37756, bce=0.08426, dice=0.83775, loss=0.25790]\n"
     ]
    },
    {
     "name": "stdout",
     "output_type": "stream",
     "text": [
      "loss: 0.20054 | bce: 0.05394 | dice: 0.86261 | 0 cls: 0.14128 | 1 cls: 0.20573 | 2 cls: 0.30950\n"
     ]
    },
    {
     "name": "stderr",
     "output_type": "stream",
     "text": [
      "Epoch 158, lr 0.00015: 100% 39/39 [00:11<00:00,  3.39it/s, 0 cls=0.18457, 1 cls=0.27255, 2 cls=0.37290, bce=0.08266, dice=0.83987, loss=0.25365]\n"
     ]
    },
    {
     "name": "stdout",
     "output_type": "stream",
     "text": [
      "loss: 0.20517 | bce: 0.05260 | dice: 0.85805 | 0 cls: 0.14777 | 1 cls: 0.20514 | 2 cls: 0.31565\n"
     ]
    },
    {
     "name": "stderr",
     "output_type": "stream",
     "text": [
      "Epoch 159, lr 0.00015: 100% 39/39 [00:11<00:00,  3.40it/s, 0 cls=0.18440, 1 cls=0.26869, 2 cls=0.37182, bce=0.08191, dice=0.84010, loss=0.25233]\n"
     ]
    },
    {
     "name": "stdout",
     "output_type": "stream",
     "text": [
      "loss: 0.19993 | bce: 0.05140 | dice: 0.86129 | 0 cls: 0.14223 | 1 cls: 0.20301 | 2 cls: 0.30798\n"
     ]
    },
    {
     "name": "stderr",
     "output_type": "stream",
     "text": [
      "Epoch 160, lr 0.00015: 100% 39/39 [00:11<00:00,  3.41it/s, 0 cls=0.18151, 1 cls=0.26535, 2 cls=0.36881, bce=0.08157, dice=0.84236, loss=0.24930]\n"
     ]
    },
    {
     "name": "stdout",
     "output_type": "stream",
     "text": [
      "loss: 0.20913 | bce: 0.05662 | dice: 0.85855 | 0 cls: 0.15132 | 1 cls: 0.20908 | 2 cls: 0.32026\n"
     ]
    },
    {
     "name": "stderr",
     "output_type": "stream",
     "text": [
      "Epoch 161, lr 0.00015: 100% 39/39 [00:11<00:00,  3.40it/s, 0 cls=0.17795, 1 cls=0.26515, 2 cls=0.36180, bce=0.08011, dice=0.84436, loss=0.24571]\n"
     ]
    },
    {
     "name": "stdout",
     "output_type": "stream",
     "text": [
      "loss: 0.20433 | bce: 0.05099 | dice: 0.85764 | 0 cls: 0.14578 | 1 cls: 0.20914 | 2 cls: 0.31209\n"
     ]
    },
    {
     "name": "stderr",
     "output_type": "stream",
     "text": [
      "Epoch 162, lr 0.00015: 100% 39/39 [00:11<00:00,  3.40it/s, 0 cls=0.18994, 1 cls=0.27837, 2 cls=0.37653, bce=0.08517, dice=0.83794, loss=0.25870]\n"
     ]
    },
    {
     "name": "stdout",
     "output_type": "stream",
     "text": [
      "loss: 0.20678 | bce: 0.05335 | dice: 0.85729 | 0 cls: 0.14759 | 1 cls: 0.21126 | 2 cls: 0.31617\n"
     ]
    },
    {
     "name": "stderr",
     "output_type": "stream",
     "text": [
      "Epoch 163, lr 0.00015: 100% 39/39 [00:11<00:00,  3.42it/s, 0 cls=0.17870, 1 cls=0.25734, 2 cls=0.35926, bce=0.07920, dice=0.84505, loss=0.24350]\n"
     ]
    },
    {
     "name": "stdout",
     "output_type": "stream",
     "text": [
      "loss: 0.20825 | bce: 0.05334 | dice: 0.85590 | 0 cls: 0.14995 | 1 cls: 0.20701 | 2 cls: 0.32176\n"
     ]
    },
    {
     "name": "stderr",
     "output_type": "stream",
     "text": [
      "Epoch 164, lr 0.00015: 100% 39/39 [00:11<00:00,  3.41it/s, 0 cls=0.18257, 1 cls=0.26742, 2 cls=0.36735, bce=0.08146, dice=0.84201, loss=0.24998]\n"
     ]
    },
    {
     "name": "stdout",
     "output_type": "stream",
     "text": [
      "loss: 0.20247 | bce: 0.05440 | dice: 0.86199 | 0 cls: 0.14498 | 1 cls: 0.20341 | 2 cls: 0.31230\n"
     ]
    },
    {
     "name": "stderr",
     "output_type": "stream",
     "text": [
      "Epoch 165, lr 0.00015: 100% 39/39 [00:11<00:00,  3.42it/s, 0 cls=0.19002, 1 cls=0.27395, 2 cls=0.37223, bce=0.08329, dice=0.83859, loss=0.25656]\n"
     ]
    },
    {
     "name": "stdout",
     "output_type": "stream",
     "text": [
      "loss: 0.20930 | bce: 0.05436 | dice: 0.85681 | 0 cls: 0.15118 | 1 cls: 0.21044 | 2 cls: 0.31931\n"
     ]
    },
    {
     "name": "stderr",
     "output_type": "stream",
     "text": [
      "Epoch 166, lr 0.00015: 100% 39/39 [00:11<00:00,  3.41it/s, 0 cls=0.18915, 1 cls=0.28024, 2 cls=0.37720, bce=0.08398, dice=0.83683, loss=0.25894]\n"
     ]
    },
    {
     "name": "stdout",
     "output_type": "stream",
     "text": [
      "loss: 0.20834 | bce: 0.05527 | dice: 0.85748 | 0 cls: 0.14619 | 1 cls: 0.21748 | 2 cls: 0.31901\n"
     ]
    },
    {
     "name": "stderr",
     "output_type": "stream",
     "text": [
      "Epoch 167, lr 0.00015: 100% 39/39 [00:11<00:00,  3.40it/s, 0 cls=0.18279, 1 cls=0.26990, 2 cls=0.36775, bce=0.08164, dice=0.84140, loss=0.25081]\n"
     ]
    },
    {
     "name": "stdout",
     "output_type": "stream",
     "text": [
      "loss: 0.19845 | bce: 0.05168 | dice: 0.86283 | 0 cls: 0.14087 | 1 cls: 0.20247 | 2 cls: 0.30535\n"
     ]
    },
    {
     "name": "stderr",
     "output_type": "stream",
     "text": [
      "Epoch 168, lr 0.00015: 100% 39/39 [00:11<00:00,  3.40it/s, 0 cls=0.17920, 1 cls=0.26667, 2 cls=0.36179, bce=0.07934, dice=0.84285, loss=0.24672]\n"
     ]
    },
    {
     "name": "stdout",
     "output_type": "stream",
     "text": [
      "loss: 0.20587 | bce: 0.05312 | dice: 0.85804 | 0 cls: 0.14729 | 1 cls: 0.21021 | 2 cls: 0.31443\n"
     ]
    },
    {
     "name": "stderr",
     "output_type": "stream",
     "text": [
      "Epoch 169, lr 0.00015: 100% 39/39 [00:11<00:00,  3.40it/s, 0 cls=0.18968, 1 cls=0.27135, 2 cls=0.37284, bce=0.08221, dice=0.83790, loss=0.25589]\n"
     ]
    },
    {
     "name": "stdout",
     "output_type": "stream",
     "text": [
      "loss: 0.20162 | bce: 0.05299 | dice: 0.86065 | 0 cls: 0.14295 | 1 cls: 0.20645 | 2 cls: 0.30930\n"
     ]
    },
    {
     "name": "stderr",
     "output_type": "stream",
     "text": [
      "Epoch 170, lr 0.00015: 100% 39/39 [00:11<00:00,  3.41it/s, 0 cls=0.18754, 1 cls=0.27477, 2 cls=0.37219, bce=0.08262, dice=0.83875, loss=0.25551]\n"
     ]
    },
    {
     "name": "stdout",
     "output_type": "stream",
     "text": [
      "loss: 0.20720 | bce: 0.05303 | dice: 0.85683 | 0 cls: 0.15098 | 1 cls: 0.20588 | 2 cls: 0.31708\n"
     ]
    },
    {
     "name": "stderr",
     "output_type": "stream",
     "text": [
      "Epoch 171, lr 0.00015: 100% 39/39 [00:11<00:00,  3.39it/s, 0 cls=0.18101, 1 cls=0.26786, 2 cls=0.36672, bce=0.08209, dice=0.84312, loss=0.24915]\n"
     ]
    },
    {
     "name": "stdout",
     "output_type": "stream",
     "text": [
      "loss: 0.20997 | bce: 0.05266 | dice: 0.85429 | 0 cls: 0.15213 | 1 cls: 0.20927 | 2 cls: 0.32095\n"
     ]
    },
    {
     "name": "stderr",
     "output_type": "stream",
     "text": [
      "Epoch 172, lr 0.00015: 100% 39/39 [00:11<00:00,  3.42it/s, 0 cls=0.17548, 1 cls=0.26369, 2 cls=0.36014, bce=0.07940, dice=0.84525, loss=0.24370]\n"
     ]
    },
    {
     "name": "stdout",
     "output_type": "stream",
     "text": [
      "loss: 0.20069 | bce: 0.05354 | dice: 0.86245 | 0 cls: 0.14212 | 1 cls: 0.20551 | 2 cls: 0.30901\n"
     ]
    },
    {
     "name": "stderr",
     "output_type": "stream",
     "text": [
      "Epoch 173, lr 0.00015: 100% 39/39 [00:11<00:00,  3.40it/s, 0 cls=0.18255, 1 cls=0.26613, 2 cls=0.36567, bce=0.08008, dice=0.84170, loss=0.24922]\n"
     ]
    },
    {
     "name": "stdout",
     "output_type": "stream",
     "text": [
      "loss: 0.20566 | bce: 0.05248 | dice: 0.85803 | 0 cls: 0.14733 | 1 cls: 0.20835 | 2 cls: 0.31499\n"
     ]
    },
    {
     "name": "stderr",
     "output_type": "stream",
     "text": [
      "Epoch 174, lr 0.00015: 100% 39/39 [00:11<00:00,  3.42it/s, 0 cls=0.18568, 1 cls=0.26761, 2 cls=0.36790, bce=0.08185, dice=0.84092, loss=0.25172]\n"
     ]
    },
    {
     "name": "stdout",
     "output_type": "stream",
     "text": [
      "loss: 0.20790 | bce: 0.05298 | dice: 0.85648 | 0 cls: 0.15043 | 1 cls: 0.20676 | 2 cls: 0.31932\n"
     ]
    },
    {
     "name": "stderr",
     "output_type": "stream",
     "text": [
      "Epoch 175, lr 0.00015: 100% 39/39 [00:11<00:00,  3.42it/s, 0 cls=0.19237, 1 cls=0.27172, 2 cls=0.37574, bce=0.08365, dice=0.83734, loss=0.25805]\n"
     ]
    },
    {
     "name": "stdout",
     "output_type": "stream",
     "text": [
      "loss: 0.20471 | bce: 0.05348 | dice: 0.85936 | 0 cls: 0.14556 | 1 cls: 0.20953 | 2 cls: 0.31360\n"
     ]
    },
    {
     "name": "stderr",
     "output_type": "stream",
     "text": [
      "Epoch 176, lr 0.00015: 100% 39/39 [00:11<00:00,  3.40it/s, 0 cls=0.18792, 1 cls=0.26936, 2 cls=0.37202, bce=0.08265, dice=0.83942, loss=0.25430]\n"
     ]
    },
    {
     "name": "stdout",
     "output_type": "stream",
     "text": [
      "loss: 0.21466 | bce: 0.05246 | dice: 0.85091 | 0 cls: 0.15413 | 1 cls: 0.22105 | 2 cls: 0.32484\n"
     ]
    },
    {
     "name": "stderr",
     "output_type": "stream",
     "text": [
      "Epoch 177, lr 0.00015: 100% 39/39 [00:11<00:00,  3.42it/s, 0 cls=0.18807, 1 cls=0.27025, 2 cls=0.37809, bce=0.08233, dice=0.83754, loss=0.25612]\n"
     ]
    },
    {
     "name": "stdout",
     "output_type": "stream",
     "text": [
      "loss: 0.21481 | bce: 0.05393 | dice: 0.85171 | 0 cls: 0.15358 | 1 cls: 0.22211 | 2 cls: 0.32569\n"
     ]
    },
    {
     "name": "stderr",
     "output_type": "stream",
     "text": [
      "Epoch 178, lr 0.00015: 100% 39/39 [00:11<00:00,  3.42it/s, 0 cls=0.18017, 1 cls=0.26501, 2 cls=0.36382, bce=0.08008, dice=0.84292, loss=0.24729]\n"
     ]
    },
    {
     "name": "stdout",
     "output_type": "stream",
     "text": [
      "loss: 0.21194 | bce: 0.05541 | dice: 0.85491 | 0 cls: 0.14964 | 1 cls: 0.22148 | 2 cls: 0.32223\n"
     ]
    },
    {
     "name": "stderr",
     "output_type": "stream",
     "text": [
      "Epoch 179, lr 0.00015: 100% 39/39 [00:11<00:00,  3.40it/s, 0 cls=0.17695, 1 cls=0.26156, 2 cls=0.36033, bce=0.08049, dice=0.84589, loss=0.24395]\n"
     ]
    },
    {
     "name": "stdout",
     "output_type": "stream",
     "text": [
      "loss: 0.20526 | bce: 0.05157 | dice: 0.85758 | 0 cls: 0.14724 | 1 cls: 0.20921 | 2 cls: 0.31352\n"
     ]
    },
    {
     "name": "stderr",
     "output_type": "stream",
     "text": [
      "Epoch 180, lr 0.00015: 100% 39/39 [00:11<00:00,  3.41it/s, 0 cls=0.17830, 1 cls=0.26122, 2 cls=0.35934, bce=0.07909, dice=0.84467, loss=0.24429]\n"
     ]
    },
    {
     "name": "stdout",
     "output_type": "stream",
     "text": [
      "loss: 0.20202 | bce: 0.05289 | dice: 0.86050 | 0 cls: 0.14440 | 1 cls: 0.20458 | 2 cls: 0.31005\n"
     ]
    },
    {
     "name": "stderr",
     "output_type": "stream",
     "text": [
      "Epoch 181, lr 0.00015: 100% 39/39 [00:11<00:00,  3.40it/s, 0 cls=0.18244, 1 cls=0.26559, 2 cls=0.36419, bce=0.08001, dice=0.84174, loss=0.24867]\n"
     ]
    },
    {
     "name": "stdout",
     "output_type": "stream",
     "text": [
      "loss: 0.19880 | bce: 0.05129 | dice: 0.86195 | 0 cls: 0.14092 | 1 cls: 0.20378 | 2 cls: 0.30559\n"
     ]
    },
    {
     "name": "stderr",
     "output_type": "stream",
     "text": [
      "Epoch 182, lr 0.00015: 100% 39/39 [00:11<00:00,  3.40it/s, 0 cls=0.18163, 1 cls=0.27187, 2 cls=0.37007, bce=0.08165, dice=0.84121, loss=0.25130]\n"
     ]
    },
    {
     "name": "stdout",
     "output_type": "stream",
     "text": [
      "loss: 0.20464 | bce: 0.05632 | dice: 0.86186 | 0 cls: 0.14634 | 1 cls: 0.20743 | 2 cls: 0.31418\n"
     ]
    },
    {
     "name": "stderr",
     "output_type": "stream",
     "text": [
      "Epoch 183, lr 0.00015: 100% 39/39 [00:11<00:00,  3.43it/s, 0 cls=0.18584, 1 cls=0.26629, 2 cls=0.36959, bce=0.08190, dice=0.84075, loss=0.25189]\n"
     ]
    },
    {
     "name": "stdout",
     "output_type": "stream",
     "text": [
      "loss: 0.20078 | bce: 0.05362 | dice: 0.86219 | 0 cls: 0.14285 | 1 cls: 0.20457 | 2 cls: 0.30839\n"
     ]
    },
    {
     "name": "stderr",
     "output_type": "stream",
     "text": [
      "Epoch 184, lr 0.00015: 100% 39/39 [00:11<00:00,  3.40it/s, 0 cls=0.18493, 1 cls=0.27098, 2 cls=0.36864, bce=0.08164, dice=0.84020, loss=0.25237]\n"
     ]
    },
    {
     "name": "stdout",
     "output_type": "stream",
     "text": [
      "loss: 0.20409 | bce: 0.05502 | dice: 0.86067 | 0 cls: 0.14516 | 1 cls: 0.20825 | 2 cls: 0.31316\n"
     ]
    },
    {
     "name": "stderr",
     "output_type": "stream",
     "text": [
      "Epoch 185, lr 0.00015: 100% 39/39 [00:11<00:00,  3.40it/s, 0 cls=0.18190, 1 cls=0.26383, 2 cls=0.36085, bce=0.08107, dice=0.84429, loss=0.24712]\n"
     ]
    },
    {
     "name": "stdout",
     "output_type": "stream",
     "text": [
      "loss: 0.20109 | bce: 0.05334 | dice: 0.86187 | 0 cls: 0.14252 | 1 cls: 0.20515 | 2 cls: 0.30921\n"
     ]
    },
    {
     "name": "stderr",
     "output_type": "stream",
     "text": [
      "Epoch 186, lr 0.00015: 100% 39/39 [00:11<00:00,  3.41it/s, 0 cls=0.18776, 1 cls=0.27047, 2 cls=0.37289, bce=0.08207, dice=0.83850, loss=0.25472]\n"
     ]
    },
    {
     "name": "stdout",
     "output_type": "stream",
     "text": [
      "loss: 0.20139 | bce: 0.05292 | dice: 0.86131 | 0 cls: 0.14290 | 1 cls: 0.20519 | 2 cls: 0.31028\n"
     ]
    },
    {
     "name": "stderr",
     "output_type": "stream",
     "text": [
      "Epoch 187, lr 0.00015: 100% 39/39 [00:11<00:00,  3.43it/s, 0 cls=0.17630, 1 cls=0.26229, 2 cls=0.35901, bce=0.07924, dice=0.84532, loss=0.24347]\n"
     ]
    },
    {
     "name": "stdout",
     "output_type": "stream",
     "text": [
      "loss: 0.19769 | bce: 0.05370 | dice: 0.86521 | 0 cls: 0.13986 | 1 cls: 0.20248 | 2 cls: 0.30371\n"
     ]
    },
    {
     "name": "stderr",
     "output_type": "stream",
     "text": [
      "Epoch 188, lr 0.00015: 100% 39/39 [00:11<00:00,  3.40it/s, 0 cls=0.18988, 1 cls=0.27746, 2 cls=0.37383, bce=0.08342, dice=0.83756, loss=0.25776]\n"
     ]
    },
    {
     "name": "stdout",
     "output_type": "stream",
     "text": [
      "loss: 0.20712 | bce: 0.05317 | dice: 0.85756 | 0 cls: 0.14842 | 1 cls: 0.20888 | 2 cls: 0.31710\n"
     ]
    },
    {
     "name": "stderr",
     "output_type": "stream",
     "text": [
      "Epoch 189, lr 0.00015: 100% 39/39 [00:11<00:00,  3.40it/s, 0 cls=0.17994, 1 cls=0.26418, 2 cls=0.36166, bce=0.08021, dice=0.84384, loss=0.24643]\n"
     ]
    },
    {
     "name": "stdout",
     "output_type": "stream",
     "text": [
      "loss: 0.21255 | bce: 0.05453 | dice: 0.85505 | 0 cls: 0.15434 | 1 cls: 0.21661 | 2 cls: 0.32093\n"
     ]
    },
    {
     "name": "stderr",
     "output_type": "stream",
     "text": [
      "Epoch 190, lr 0.0007: 100% 39/39 [00:11<00:00,  3.41it/s, 0 cls=0.21623, 1 cls=0.30852, 2 cls=0.42254, bce=0.09507, dice=0.81957, loss=0.29088]\n"
     ]
    },
    {
     "name": "stdout",
     "output_type": "stream",
     "text": [
      "loss: 0.23294 | bce: 0.05730 | dice: 0.83987 | 0 cls: 0.17111 | 1 cls: 0.23665 | 2 cls: 0.34706\n"
     ]
    },
    {
     "name": "stderr",
     "output_type": "stream",
     "text": [
      "Epoch 191, lr 0.0007: 100% 39/39 [00:11<00:00,  3.41it/s, 0 cls=0.22504, 1 cls=0.31209, 2 cls=0.42174, bce=0.09814, dice=0.81823, loss=0.29598]\n"
     ]
    },
    {
     "name": "stdout",
     "output_type": "stream",
     "text": [
      "loss: 0.52481 | bce: 0.09619 | dice: 0.69711 | 0 cls: 0.50052 | 1 cls: 0.41451 | 2 cls: 0.67205\n"
     ]
    },
    {
     "name": "stderr",
     "output_type": "stream",
     "text": [
      "Epoch 192, lr 0.00020999999999999998: 100% 39/39 [00:11<00:00,  3.40it/s, 0 cls=0.21614, 1 cls=0.30040, 2 cls=0.40950, bce=0.09373, dice=0.82315, loss=0.28555]\n"
     ]
    },
    {
     "name": "stdout",
     "output_type": "stream",
     "text": [
      "loss: 0.21683 | bce: 0.05315 | dice: 0.84932 | 0 cls: 0.15929 | 1 cls: 0.21522 | 2 cls: 0.32808\n"
     ]
    },
    {
     "name": "stderr",
     "output_type": "stream",
     "text": [
      "Epoch 193, lr 0.00020999999999999998: 100% 39/39 [00:11<00:00,  3.40it/s, 0 cls=0.19758, 1 cls=0.28566, 2 cls=0.38560, bce=0.08666, dice=0.83288, loss=0.26661]\n"
     ]
    },
    {
     "name": "stdout",
     "output_type": "stream",
     "text": [
      "loss: 0.20218 | bce: 0.05221 | dice: 0.86046 | 0 cls: 0.14416 | 1 cls: 0.20699 | 2 cls: 0.30855\n"
     ]
    },
    {
     "name": "stderr",
     "output_type": "stream",
     "text": [
      "Epoch 194, lr 6.3e-05: 100% 39/39 [00:11<00:00,  3.40it/s, 0 cls=0.19623, 1 cls=0.27915, 2 cls=0.37846, bce=0.08594, dice=0.83615, loss=0.26252]\n"
     ]
    },
    {
     "name": "stdout",
     "output_type": "stream",
     "text": [
      "loss: 0.20664 | bce: 0.05290 | dice: 0.85727 | 0 cls: 0.14771 | 1 cls: 0.21236 | 2 cls: 0.31448\n"
     ]
    },
    {
     "name": "stderr",
     "output_type": "stream",
     "text": [
      "Epoch 195, lr 0.0007: 100% 39/39 [00:11<00:00,  3.42it/s, 0 cls=0.20969, 1 cls=0.29784, 2 cls=0.40712, bce=0.09082, dice=0.82406, loss=0.28108]\n"
     ]
    },
    {
     "name": "stdout",
     "output_type": "stream",
     "text": [
      "loss: 0.26874 | bce: 0.06115 | dice: 0.81158 | 0 cls: 0.21321 | 1 cls: 0.24965 | 2 cls: 0.39386\n"
     ]
    },
    {
     "name": "stderr",
     "output_type": "stream",
     "text": [
      "Epoch 196, lr 0.0007: 100% 39/39 [00:11<00:00,  3.42it/s, 0 cls=0.21921, 1 cls=0.31172, 2 cls=0.41920, bce=0.09576, dice=0.81906, loss=0.29234]\n"
     ]
    },
    {
     "name": "stdout",
     "output_type": "stream",
     "text": [
      "loss: 0.22929 | bce: 0.05798 | dice: 0.84204 | 0 cls: 0.16754 | 1 cls: 0.22815 | 2 cls: 0.34610\n"
     ]
    },
    {
     "name": "stderr",
     "output_type": "stream",
     "text": [
      "Epoch 197, lr 0.00020999999999999998: 100% 39/39 [00:11<00:00,  3.41it/s, 0 cls=0.20431, 1 cls=0.29106, 2 cls=0.39395, bce=0.09035, dice=0.83078, loss=0.27341]\n"
     ]
    },
    {
     "name": "stdout",
     "output_type": "stream",
     "text": [
      "loss: 0.20363 | bce: 0.05368 | dice: 0.85970 | 0 cls: 0.14566 | 1 cls: 0.20566 | 2 cls: 0.31270\n"
     ]
    },
    {
     "name": "stderr",
     "output_type": "stream",
     "text": [
      "Epoch 198, lr 0.00020999999999999998: 100% 39/39 [00:11<00:00,  3.40it/s, 0 cls=0.18849, 1 cls=0.27791, 2 cls=0.37878, bce=0.08498, dice=0.83784, loss=0.25842]\n"
     ]
    },
    {
     "name": "stdout",
     "output_type": "stream",
     "text": [
      "loss: 0.20249 | bce: 0.05097 | dice: 0.85927 | 0 cls: 0.14156 | 1 cls: 0.21152 | 2 cls: 0.31059\n"
     ]
    },
    {
     "name": "stderr",
     "output_type": "stream",
     "text": [
      "Epoch 199, lr 6.3e-05: 100% 39/39 [00:11<00:00,  3.41it/s, 0 cls=0.18825, 1 cls=0.27218, 2 cls=0.37252, bce=0.08274, dice=0.83869, loss=0.25530]\n"
     ]
    },
    {
     "name": "stdout",
     "output_type": "stream",
     "text": [
      "loss: 0.20522 | bce: 0.05196 | dice: 0.85745 | 0 cls: 0.14658 | 1 cls: 0.20879 | 2 cls: 0.31445\n"
     ]
    },
    {
     "name": "stderr",
     "output_type": "stream",
     "text": [
      "Epoch 200, lr 7.5e-05: 100% 39/39 [00:11<00:00,  3.40it/s, 0 cls=0.18449, 1 cls=0.26789, 2 cls=0.36830, bce=0.08107, dice=0.84060, loss=0.25129]\n"
     ]
    },
    {
     "name": "stdout",
     "output_type": "stream",
     "text": [
      "loss: 0.20420 | bce: 0.05324 | dice: 0.85959 | 0 cls: 0.14635 | 1 cls: 0.20807 | 2 cls: 0.31185\n"
     ]
    },
    {
     "name": "stderr",
     "output_type": "stream",
     "text": [
      "Epoch 201, lr 7.5e-05: 100% 39/39 [00:11<00:00,  3.41it/s, 0 cls=0.19215, 1 cls=0.27756, 2 cls=0.37817, bce=0.08358, dice=0.83574, loss=0.26001]\n"
     ]
    },
    {
     "name": "stdout",
     "output_type": "stream",
     "text": [
      "loss: 0.20306 | bce: 0.05311 | dice: 0.86059 | 0 cls: 0.14524 | 1 cls: 0.20733 | 2 cls: 0.31046\n"
     ]
    },
    {
     "name": "stderr",
     "output_type": "stream",
     "text": [
      "Epoch 202, lr 7.5e-05: 100% 39/39 [00:11<00:00,  3.41it/s, 0 cls=0.19001, 1 cls=0.27494, 2 cls=0.37603, bce=0.08457, dice=0.83813, loss=0.25775]\n"
     ]
    },
    {
     "name": "stdout",
     "output_type": "stream",
     "text": [
      "loss: 0.20801 | bce: 0.05183 | dice: 0.85519 | 0 cls: 0.14892 | 1 cls: 0.21166 | 2 cls: 0.31830\n"
     ]
    },
    {
     "name": "stderr",
     "output_type": "stream",
     "text": [
      "Epoch 203, lr 7.5e-05: 100% 39/39 [00:11<00:00,  3.41it/s, 0 cls=0.18191, 1 cls=0.26208, 2 cls=0.36407, bce=0.08084, dice=0.84334, loss=0.24749]\n"
     ]
    },
    {
     "name": "stdout",
     "output_type": "stream",
     "text": [
      "loss: 0.20021 | bce: 0.05132 | dice: 0.86118 | 0 cls: 0.14181 | 1 cls: 0.20594 | 2 cls: 0.30710\n"
     ]
    },
    {
     "name": "stderr",
     "output_type": "stream",
     "text": [
      "Epoch 204, lr 7.5e-05: 100% 39/39 [00:11<00:00,  3.40it/s, 0 cls=0.17976, 1 cls=0.26418, 2 cls=0.36010, bce=0.07973, dice=0.84406, loss=0.24595]\n"
     ]
    },
    {
     "name": "stdout",
     "output_type": "stream",
     "text": [
      "loss: 0.20042 | bce: 0.05323 | dice: 0.86249 | 0 cls: 0.14192 | 1 cls: 0.20712 | 2 cls: 0.30692\n"
     ]
    },
    {
     "name": "stderr",
     "output_type": "stream",
     "text": [
      "Epoch 205, lr 7.5e-05: 100% 39/39 [00:11<00:00,  3.41it/s, 0 cls=0.18577, 1 cls=0.26954, 2 cls=0.36808, bce=0.08173, dice=0.84020, loss=0.25229]\n"
     ]
    },
    {
     "name": "stdout",
     "output_type": "stream",
     "text": [
      "loss: 0.19876 | bce: 0.05164 | dice: 0.86249 | 0 cls: 0.14129 | 1 cls: 0.20322 | 2 cls: 0.30530\n"
     ]
    },
    {
     "name": "stderr",
     "output_type": "stream",
     "text": [
      "Epoch 206, lr 7.5e-05: 100% 39/39 [00:11<00:00,  3.41it/s, 0 cls=0.18417, 1 cls=0.26698, 2 cls=0.36586, bce=0.08173, dice=0.84197, loss=0.25030]\n"
     ]
    },
    {
     "name": "stdout",
     "output_type": "stream",
     "text": [
      "loss: 0.19799 | bce: 0.05056 | dice: 0.86229 | 0 cls: 0.14074 | 1 cls: 0.20244 | 2 cls: 0.30408\n"
     ]
    },
    {
     "name": "stderr",
     "output_type": "stream",
     "text": [
      "Epoch 207, lr 7.5e-05: 100% 39/39 [00:11<00:00,  3.38it/s, 0 cls=0.18695, 1 cls=0.27105, 2 cls=0.36813, bce=0.08166, dice=0.83959, loss=0.25327]\n"
     ]
    },
    {
     "name": "stdout",
     "output_type": "stream",
     "text": [
      "loss: 0.19666 | bce: 0.05234 | dice: 0.86488 | 0 cls: 0.13934 | 1 cls: 0.20219 | 2 cls: 0.30202\n"
     ]
    },
    {
     "name": "stderr",
     "output_type": "stream",
     "text": [
      "Epoch 208, lr 7.5e-05: 100% 39/39 [00:11<00:00,  3.40it/s, 0 cls=0.17842, 1 cls=0.26206, 2 cls=0.36227, bce=0.08090, dice=0.84513, loss=0.24529]\n"
     ]
    },
    {
     "name": "stdout",
     "output_type": "stream",
     "text": [
      "loss: 0.19571 | bce: 0.05073 | dice: 0.86423 | 0 cls: 0.13897 | 1 cls: 0.20063 | 2 cls: 0.30021\n"
     ]
    },
    {
     "name": "stderr",
     "output_type": "stream",
     "text": [
      "Epoch 209, lr 7.5e-05: 100% 39/39 [00:11<00:00,  3.40it/s, 0 cls=0.18987, 1 cls=0.26811, 2 cls=0.36811, bce=0.08312, dice=0.84029, loss=0.25399]\n"
     ]
    },
    {
     "name": "stdout",
     "output_type": "stream",
     "text": [
      "loss: 0.19903 | bce: 0.05229 | dice: 0.86249 | 0 cls: 0.14195 | 1 cls: 0.20254 | 2 cls: 0.30589\n"
     ]
    },
    {
     "name": "stderr",
     "output_type": "stream",
     "text": [
      "Epoch 210, lr 7.5e-05: 100% 39/39 [00:11<00:00,  3.40it/s, 0 cls=0.17938, 1 cls=0.26302, 2 cls=0.36028, bce=0.08020, dice=0.84474, loss=0.24551]\n"
     ]
    },
    {
     "name": "stdout",
     "output_type": "stream",
     "text": [
      "loss: 0.19747 | bce: 0.05311 | dice: 0.86505 | 0 cls: 0.13993 | 1 cls: 0.20241 | 2 cls: 0.30355\n"
     ]
    },
    {
     "name": "stderr",
     "output_type": "stream",
     "text": [
      "Epoch 211, lr 7.5e-05: 100% 39/39 [00:11<00:00,  3.41it/s, 0 cls=0.18528, 1 cls=0.26983, 2 cls=0.36959, bce=0.08191, dice=0.84066, loss=0.25249]\n"
     ]
    },
    {
     "name": "stdout",
     "output_type": "stream",
     "text": [
      "loss: 0.19791 | bce: 0.05052 | dice: 0.86230 | 0 cls: 0.14035 | 1 cls: 0.20311 | 2 cls: 0.30387\n"
     ]
    },
    {
     "name": "stderr",
     "output_type": "stream",
     "text": [
      "Epoch 212, lr 7.5e-05: 100% 39/39 [00:11<00:00,  3.42it/s, 0 cls=0.18824, 1 cls=0.27594, 2 cls=0.37413, bce=0.08243, dice=0.83766, loss=0.25664]\n"
     ]
    },
    {
     "name": "stdout",
     "output_type": "stream",
     "text": [
      "loss: 0.19943 | bce: 0.05164 | dice: 0.86206 | 0 cls: 0.14204 | 1 cls: 0.20319 | 2 cls: 0.30647\n"
     ]
    },
    {
     "name": "stderr",
     "output_type": "stream",
     "text": [
      "Epoch 213, lr 7.5e-05: 100% 39/39 [00:11<00:00,  3.38it/s, 0 cls=0.17618, 1 cls=0.26103, 2 cls=0.35702, bce=0.07816, dice=0.84534, loss=0.24260]\n"
     ]
    },
    {
     "name": "stdout",
     "output_type": "stream",
     "text": [
      "loss: 0.20016 | bce: 0.05275 | dice: 0.86256 | 0 cls: 0.14211 | 1 cls: 0.20526 | 2 cls: 0.30742\n"
     ]
    },
    {
     "name": "stderr",
     "output_type": "stream",
     "text": [
      "Epoch 214, lr 7.5e-05: 100% 39/39 [00:11<00:00,  3.40it/s, 0 cls=0.17949, 1 cls=0.26380, 2 cls=0.36094, bce=0.07987, dice=0.84390, loss=0.24593]\n"
     ]
    },
    {
     "name": "stdout",
     "output_type": "stream",
     "text": [
      "loss: 0.20319 | bce: 0.05026 | dice: 0.85818 | 0 cls: 0.14512 | 1 cls: 0.20758 | 2 cls: 0.31086\n"
     ]
    },
    {
     "name": "stderr",
     "output_type": "stream",
     "text": [
      "Epoch 215, lr 7.5e-05: 100% 39/39 [00:11<00:00,  3.42it/s, 0 cls=0.18314, 1 cls=0.26837, 2 cls=0.36553, bce=0.08000, dice=0.84068, loss=0.25005]\n"
     ]
    },
    {
     "name": "stdout",
     "output_type": "stream",
     "text": [
      "loss: 0.19915 | bce: 0.05107 | dice: 0.86209 | 0 cls: 0.14168 | 1 cls: 0.20361 | 2 cls: 0.30550\n"
     ]
    },
    {
     "name": "stderr",
     "output_type": "stream",
     "text": [
      "Epoch 216, lr 7.5e-05: 100% 39/39 [00:11<00:00,  3.40it/s, 0 cls=0.18233, 1 cls=0.26555, 2 cls=0.36419, bce=0.08207, dice=0.84372, loss=0.24860]\n"
     ]
    },
    {
     "name": "stdout",
     "output_type": "stream",
     "text": [
      "loss: 0.20025 | bce: 0.05172 | dice: 0.86146 | 0 cls: 0.14226 | 1 cls: 0.20589 | 2 cls: 0.30644\n"
     ]
    },
    {
     "name": "stderr",
     "output_type": "stream",
     "text": [
      "Epoch 217, lr 7.5e-05: 100% 39/39 [00:11<00:00,  3.39it/s, 0 cls=0.17945, 1 cls=0.25899, 2 cls=0.35873, bce=0.07992, dice=0.84527, loss=0.24416]\n"
     ]
    },
    {
     "name": "stdout",
     "output_type": "stream",
     "text": [
      "loss: 0.19799 | bce: 0.05158 | dice: 0.86303 | 0 cls: 0.14030 | 1 cls: 0.20363 | 2 cls: 0.30395\n"
     ]
    },
    {
     "name": "stderr",
     "output_type": "stream",
     "text": [
      "Epoch 218, lr 7.5e-05: 100% 39/39 [00:11<00:00,  3.41it/s, 0 cls=0.17601, 1 cls=0.25612, 2 cls=0.35492, bce=0.07816, dice=0.84664, loss=0.24076]\n"
     ]
    },
    {
     "name": "stdout",
     "output_type": "stream",
     "text": [
      "loss: 0.19898 | bce: 0.05156 | dice: 0.86260 | 0 cls: 0.14133 | 1 cls: 0.20467 | 2 cls: 0.30486\n"
     ]
    },
    {
     "name": "stderr",
     "output_type": "stream",
     "text": [
      "Epoch 219, lr 7.5e-05: 100% 39/39 [00:11<00:00,  3.41it/s, 0 cls=0.17941, 1 cls=0.25836, 2 cls=0.35586, bce=0.07930, dice=0.84605, loss=0.24326]\n"
     ]
    },
    {
     "name": "stdout",
     "output_type": "stream",
     "text": [
      "loss: 0.20130 | bce: 0.05198 | dice: 0.86084 | 0 cls: 0.14314 | 1 cls: 0.20622 | 2 cls: 0.30927\n"
     ]
    },
    {
     "name": "stderr",
     "output_type": "stream",
     "text": [
      "Epoch 220, lr 7.5e-05: 100% 39/39 [00:11<00:00,  3.40it/s, 0 cls=0.17391, 1 cls=0.25431, 2 cls=0.35324, bce=0.07925, dice=0.84928, loss=0.23884]\n"
     ]
    },
    {
     "name": "stdout",
     "output_type": "stream",
     "text": [
      "loss: 0.19767 | bce: 0.05019 | dice: 0.86244 | 0 cls: 0.14023 | 1 cls: 0.20339 | 2 cls: 0.30305\n"
     ]
    },
    {
     "name": "stderr",
     "output_type": "stream",
     "text": [
      "Epoch 221, lr 7.5e-05: 100% 39/39 [00:11<00:00,  3.42it/s, 0 cls=0.17821, 1 cls=0.26195, 2 cls=0.36194, bce=0.07929, dice=0.84393, loss=0.24508]\n"
     ]
    },
    {
     "name": "stdout",
     "output_type": "stream",
     "text": [
      "loss: 0.20054 | bce: 0.05280 | dice: 0.86243 | 0 cls: 0.14348 | 1 cls: 0.20527 | 2 cls: 0.30627\n"
     ]
    },
    {
     "name": "stderr",
     "output_type": "stream",
     "text": [
      "Epoch 222, lr 7.5e-05: 100% 39/39 [00:11<00:00,  3.40it/s, 0 cls=0.17248, 1 cls=0.25688, 2 cls=0.35479, bce=0.07827, dice=0.84807, loss=0.23916]\n"
     ]
    },
    {
     "name": "stdout",
     "output_type": "stream",
     "text": [
      "loss: 0.19717 | bce: 0.05224 | dice: 0.86420 | 0 cls: 0.13976 | 1 cls: 0.20300 | 2 cls: 0.30260\n"
     ]
    },
    {
     "name": "stderr",
     "output_type": "stream",
     "text": [
      "Epoch 223, lr 7.5e-05: 100% 39/39 [00:11<00:00,  3.40it/s, 0 cls=0.17925, 1 cls=0.25969, 2 cls=0.35917, bce=0.08012, dice=0.84562, loss=0.24434]\n"
     ]
    },
    {
     "name": "stdout",
     "output_type": "stream",
     "text": [
      "loss: 0.19995 | bce: 0.05215 | dice: 0.86208 | 0 cls: 0.14233 | 1 cls: 0.20518 | 2 cls: 0.30611\n"
     ]
    },
    {
     "name": "stderr",
     "output_type": "stream",
     "text": [
      "Epoch 224, lr 7.5e-05: 100% 39/39 [00:11<00:00,  3.40it/s, 0 cls=0.17733, 1 cls=0.26038, 2 cls=0.35793, bce=0.07858, dice=0.84523, loss=0.24324]\n"
     ]
    },
    {
     "name": "stdout",
     "output_type": "stream",
     "text": [
      "loss: 0.20114 | bce: 0.05216 | dice: 0.86119 | 0 cls: 0.14364 | 1 cls: 0.20499 | 2 cls: 0.30836\n"
     ]
    },
    {
     "name": "stderr",
     "output_type": "stream",
     "text": [
      "Epoch 225, lr 7.5e-05: 100% 39/39 [00:11<00:00,  3.41it/s, 0 cls=0.17187, 1 cls=0.25446, 2 cls=0.35114, bce=0.07775, dice=0.84945, loss=0.23733]\n"
     ]
    },
    {
     "name": "stdout",
     "output_type": "stream",
     "text": [
      "loss: 0.20089 | bce: 0.05127 | dice: 0.86078 | 0 cls: 0.14324 | 1 cls: 0.20587 | 2 cls: 0.30755\n"
     ]
    },
    {
     "name": "stderr",
     "output_type": "stream",
     "text": [
      "Epoch 226, lr 7.5e-05: 100% 39/39 [00:11<00:00,  3.38it/s, 0 cls=0.18749, 1 cls=0.27364, 2 cls=0.37098, bce=0.08165, dice=0.83873, loss=0.25490]\n"
     ]
    },
    {
     "name": "stdout",
     "output_type": "stream",
     "text": [
      "loss: 0.19764 | bce: 0.05183 | dice: 0.86356 | 0 cls: 0.14020 | 1 cls: 0.20345 | 2 cls: 0.30313\n"
     ]
    },
    {
     "name": "stderr",
     "output_type": "stream",
     "text": [
      "Epoch 227, lr 7.5e-05: 100% 39/39 [00:11<00:00,  3.42it/s, 0 cls=0.17864, 1 cls=0.25999, 2 cls=0.35780, bce=0.07912, dice=0.84506, loss=0.24377]\n"
     ]
    },
    {
     "name": "stdout",
     "output_type": "stream",
     "text": [
      "loss: 0.19791 | bce: 0.05151 | dice: 0.86314 | 0 cls: 0.14040 | 1 cls: 0.20375 | 2 cls: 0.30325\n"
     ]
    },
    {
     "name": "stderr",
     "output_type": "stream",
     "text": [
      "Epoch 228, lr 7.5e-05: 100% 39/39 [00:11<00:00,  3.42it/s, 0 cls=0.18045, 1 cls=0.26639, 2 cls=0.36487, bce=0.08052, dice=0.84263, loss=0.24804]\n"
     ]
    },
    {
     "name": "stdout",
     "output_type": "stream",
     "text": [
      "loss: 0.19686 | bce: 0.05173 | dice: 0.86411 | 0 cls: 0.13947 | 1 cls: 0.20202 | 2 cls: 0.30239\n"
     ]
    },
    {
     "name": "stderr",
     "output_type": "stream",
     "text": [
      "Epoch 229, lr 7.5e-05: 100% 39/39 [00:11<00:00,  3.41it/s, 0 cls=0.17973, 1 cls=0.26086, 2 cls=0.35889, bce=0.07960, dice=0.84485, loss=0.24480]\n"
     ]
    },
    {
     "name": "stdout",
     "output_type": "stream",
     "text": [
      "loss: 0.19770 | bce: 0.05372 | dice: 0.86510 | 0 cls: 0.14050 | 1 cls: 0.20292 | 2 cls: 0.30313\n"
     ]
    },
    {
     "name": "stderr",
     "output_type": "stream",
     "text": [
      "Epoch 230, lr 7.5e-05: 100% 39/39 [00:11<00:00,  3.40it/s, 0 cls=0.17561, 1 cls=0.25602, 2 cls=0.35405, bce=0.07880, dice=0.84763, loss=0.24032]\n"
     ]
    },
    {
     "name": "stdout",
     "output_type": "stream",
     "text": [
      "loss: 0.20385 | bce: 0.05381 | dice: 0.86083 | 0 cls: 0.14681 | 1 cls: 0.20763 | 2 cls: 0.31027\n"
     ]
    },
    {
     "name": "stderr",
     "output_type": "stream",
     "text": [
      "Epoch 231, lr 7.5e-05: 100% 39/39 [00:11<00:00,  3.40it/s, 0 cls=0.18010, 1 cls=0.27012, 2 cls=0.36356, bce=0.08146, dice=0.84349, loss=0.24847]\n"
     ]
    },
    {
     "name": "stdout",
     "output_type": "stream",
     "text": [
      "loss: 0.19765 | bce: 0.05057 | dice: 0.86278 | 0 cls: 0.13988 | 1 cls: 0.20393 | 2 cls: 0.30304\n"
     ]
    },
    {
     "name": "stderr",
     "output_type": "stream",
     "text": [
      "Epoch 232, lr 7.5e-05: 100% 39/39 [00:11<00:00,  3.41it/s, 0 cls=0.17580, 1 cls=0.25723, 2 cls=0.35271, bce=0.07829, dice=0.84730, loss=0.24038]\n"
     ]
    },
    {
     "name": "stdout",
     "output_type": "stream",
     "text": [
      "loss: 0.20194 | bce: 0.05194 | dice: 0.86054 | 0 cls: 0.14496 | 1 cls: 0.20512 | 2 cls: 0.30878\n"
     ]
    },
    {
     "name": "stderr",
     "output_type": "stream",
     "text": [
      "Epoch 233, lr 7.5e-05: 100% 39/39 [00:11<00:00,  3.40it/s, 0 cls=0.18160, 1 cls=0.26220, 2 cls=0.36276, bce=0.07899, dice=0.84237, loss=0.24704]\n"
     ]
    },
    {
     "name": "stdout",
     "output_type": "stream",
     "text": [
      "loss: 0.20659 | bce: 0.05341 | dice: 0.85789 | 0 cls: 0.14803 | 1 cls: 0.21179 | 2 cls: 0.31464\n"
     ]
    },
    {
     "name": "stderr",
     "output_type": "stream",
     "text": [
      "Epoch 234, lr 7.5e-05: 100% 39/39 [00:11<00:00,  3.43it/s, 0 cls=0.17461, 1 cls=0.25821, 2 cls=0.35511, bce=0.07853, dice=0.84726, loss=0.24064]\n"
     ]
    },
    {
     "name": "stdout",
     "output_type": "stream",
     "text": [
      "loss: 0.20585 | bce: 0.05264 | dice: 0.85828 | 0 cls: 0.14841 | 1 cls: 0.20899 | 2 cls: 0.31350\n"
     ]
    },
    {
     "name": "stderr",
     "output_type": "stream",
     "text": [
      "Epoch 235, lr 7.5e-05: 100% 39/39 [00:11<00:00,  3.41it/s, 0 cls=0.17414, 1 cls=0.25699, 2 cls=0.35388, bce=0.07808, dice=0.84745, loss=0.23979]\n"
     ]
    },
    {
     "name": "stdout",
     "output_type": "stream",
     "text": [
      "loss: 0.20253 | bce: 0.05231 | dice: 0.86045 | 0 cls: 0.14520 | 1 cls: 0.20739 | 2 cls: 0.30824\n"
     ]
    },
    {
     "name": "stderr",
     "output_type": "stream",
     "text": [
      "Epoch 236, lr 7.5e-05: 100% 39/39 [00:11<00:00,  3.40it/s, 0 cls=0.17582, 1 cls=0.25908, 2 cls=0.35433, bce=0.07855, dice=0.84693, loss=0.24126]\n"
     ]
    },
    {
     "name": "stdout",
     "output_type": "stream",
     "text": [
      "loss: 0.20859 | bce: 0.05102 | dice: 0.85496 | 0 cls: 0.15062 | 1 cls: 0.21323 | 2 cls: 0.31563\n"
     ]
    },
    {
     "name": "stderr",
     "output_type": "stream",
     "text": [
      "Epoch 237, lr 7.5e-05: 100% 39/39 [00:11<00:00,  3.42it/s, 0 cls=0.17833, 1 cls=0.26145, 2 cls=0.35702, bce=0.07936, dice=0.84539, loss=0.24378]\n"
     ]
    },
    {
     "name": "stdout",
     "output_type": "stream",
     "text": [
      "loss: 0.20383 | bce: 0.05148 | dice: 0.85889 | 0 cls: 0.14624 | 1 cls: 0.20849 | 2 cls: 0.31026\n"
     ]
    },
    {
     "name": "stderr",
     "output_type": "stream",
     "text": [
      "Epoch 238, lr 7.5e-05: 100% 39/39 [00:11<00:00,  3.42it/s, 0 cls=0.17693, 1 cls=0.25992, 2 cls=0.35846, bce=0.07915, dice=0.84575, loss=0.24306]\n"
     ]
    },
    {
     "name": "stdout",
     "output_type": "stream",
     "text": [
      "loss: 0.20420 | bce: 0.05280 | dice: 0.85955 | 0 cls: 0.14704 | 1 cls: 0.20700 | 2 cls: 0.31163\n"
     ]
    },
    {
     "name": "stderr",
     "output_type": "stream",
     "text": [
      "Epoch 239, lr 7.5e-05: 100% 39/39 [00:11<00:00,  3.41it/s, 0 cls=0.17917, 1 cls=0.25973, 2 cls=0.35465, bce=0.07924, dice=0.84609, loss=0.24318]\n"
     ]
    },
    {
     "name": "stdout",
     "output_type": "stream",
     "text": [
      "loss: 0.19982 | bce: 0.05213 | dice: 0.86242 | 0 cls: 0.14208 | 1 cls: 0.20452 | 2 cls: 0.30622\n"
     ]
    },
    {
     "name": "stderr",
     "output_type": "stream",
     "text": [
      "Epoch 240, lr 7.5e-05: 100% 39/39 [00:11<00:00,  3.41it/s, 0 cls=0.17656, 1 cls=0.25262, 2 cls=0.35136, bce=0.07850, dice=0.84857, loss=0.23928]\n"
     ]
    },
    {
     "name": "stdout",
     "output_type": "stream",
     "text": [
      "loss: 0.20508 | bce: 0.05375 | dice: 0.85908 | 0 cls: 0.14733 | 1 cls: 0.20859 | 2 cls: 0.31256\n"
     ]
    },
    {
     "name": "stderr",
     "output_type": "stream",
     "text": [
      "Epoch 241, lr 7.5e-05: 100% 39/39 [00:11<00:00,  3.42it/s, 0 cls=0.18265, 1 cls=0.27031, 2 cls=0.36758, bce=0.08060, dice=0.84056, loss=0.25080]\n"
     ]
    },
    {
     "name": "stdout",
     "output_type": "stream",
     "text": [
      "loss: 0.20122 | bce: 0.05219 | dice: 0.86140 | 0 cls: 0.14315 | 1 cls: 0.20720 | 2 cls: 0.30731\n"
     ]
    },
    {
     "name": "stderr",
     "output_type": "stream",
     "text": [
      "Epoch 242, lr 7.5e-05: 100% 39/39 [00:11<00:00,  3.41it/s, 0 cls=0.18587, 1 cls=0.26583, 2 cls=0.36322, bce=0.08267, dice=0.84348, loss=0.25020]\n"
     ]
    },
    {
     "name": "stdout",
     "output_type": "stream",
     "text": [
      "loss: 0.20341 | bce: 0.05290 | dice: 0.86048 | 0 cls: 0.14539 | 1 cls: 0.20792 | 2 cls: 0.31070\n"
     ]
    },
    {
     "name": "stderr",
     "output_type": "stream",
     "text": [
      "Epoch 243, lr 7.5e-05: 100% 39/39 [00:11<00:00,  3.43it/s, 0 cls=0.17821, 1 cls=0.25973, 2 cls=0.35705, bce=0.07934, dice=0.84615, loss=0.24330]\n"
     ]
    },
    {
     "name": "stdout",
     "output_type": "stream",
     "text": [
      "loss: 0.20521 | bce: 0.05506 | dice: 0.86073 | 0 cls: 0.14731 | 1 cls: 0.20934 | 2 cls: 0.31253\n"
     ]
    },
    {
     "name": "stderr",
     "output_type": "stream",
     "text": [
      "Epoch 244, lr 7.5e-05: 100% 39/39 [00:11<00:00,  3.41it/s, 0 cls=0.17446, 1 cls=0.25812, 2 cls=0.35273, bce=0.07906, dice=0.84842, loss=0.23994]\n"
     ]
    },
    {
     "name": "stdout",
     "output_type": "stream",
     "text": [
      "loss: 0.20353 | bce: 0.05194 | dice: 0.85919 | 0 cls: 0.14558 | 1 cls: 0.20922 | 2 cls: 0.30985\n"
     ]
    },
    {
     "name": "stderr",
     "output_type": "stream",
     "text": [
      "Epoch 245, lr 7.5e-05: 100% 39/39 [00:11<00:00,  3.41it/s, 0 cls=0.17400, 1 cls=0.25217, 2 cls=0.34870, bce=0.07710, dice=0.84894, loss=0.23722]\n"
     ]
    },
    {
     "name": "stdout",
     "output_type": "stream",
     "text": [
      "loss: 0.20242 | bce: 0.05245 | dice: 0.86053 | 0 cls: 0.14555 | 1 cls: 0.20614 | 2 cls: 0.30880\n"
     ]
    },
    {
     "name": "stderr",
     "output_type": "stream",
     "text": [
      "Epoch 246, lr 7.5e-05: 100% 39/39 [00:11<00:00,  3.41it/s, 0 cls=0.17385, 1 cls=0.25391, 2 cls=0.35041, bce=0.07716, dice=0.84836, loss=0.23801]\n"
     ]
    },
    {
     "name": "stdout",
     "output_type": "stream",
     "text": [
      "loss: 0.19880 | bce: 0.05131 | dice: 0.86262 | 0 cls: 0.14130 | 1 cls: 0.20542 | 2 cls: 0.30356\n"
     ]
    },
    {
     "name": "stderr",
     "output_type": "stream",
     "text": [
      "Epoch 247, lr 7.5e-05: 100% 39/39 [00:11<00:00,  3.39it/s, 0 cls=0.17562, 1 cls=0.25679, 2 cls=0.35358, bce=0.07844, dice=0.84745, loss=0.24040]\n"
     ]
    },
    {
     "name": "stdout",
     "output_type": "stream",
     "text": [
      "loss: 0.20405 | bce: 0.05305 | dice: 0.85985 | 0 cls: 0.14758 | 1 cls: 0.20661 | 2 cls: 0.31080\n"
     ]
    },
    {
     "name": "stderr",
     "output_type": "stream",
     "text": [
      "Epoch 248, lr 7.5e-05: 100% 39/39 [00:11<00:00,  3.42it/s, 0 cls=0.17853, 1 cls=0.25780, 2 cls=0.35379, bce=0.07859, dice=0.84652, loss=0.24216]\n"
     ]
    },
    {
     "name": "stdout",
     "output_type": "stream",
     "text": [
      "loss: 0.20163 | bce: 0.05190 | dice: 0.86081 | 0 cls: 0.14438 | 1 cls: 0.20670 | 2 cls: 0.30706\n"
     ]
    },
    {
     "name": "stderr",
     "output_type": "stream",
     "text": [
      "Epoch 249, lr 7.5e-05: 100% 39/39 [00:11<00:00,  3.42it/s, 0 cls=0.17415, 1 cls=0.25769, 2 cls=0.35217, bce=0.07947, dice=0.84892, loss=0.23954]\n"
     ]
    },
    {
     "name": "stdout",
     "output_type": "stream",
     "text": [
      "loss: 0.20775 | bce: 0.05274 | dice: 0.85680 | 0 cls: 0.15063 | 1 cls: 0.21035 | 2 cls: 0.31520\n"
     ]
    },
    {
     "name": "stderr",
     "output_type": "stream",
     "text": [
      "Epoch 250, lr 7.5e-05: 100% 39/39 [00:11<00:00,  3.39it/s, 0 cls=0.18162, 1 cls=0.26213, 2 cls=0.36017, bce=0.07974, dice=0.84356, loss=0.24639]\n"
     ]
    },
    {
     "name": "stdout",
     "output_type": "stream",
     "text": [
      "loss: 0.20350 | bce: 0.05144 | dice: 0.85950 | 0 cls: 0.14647 | 1 cls: 0.20827 | 2 cls: 0.30842\n"
     ]
    },
    {
     "name": "stderr",
     "output_type": "stream",
     "text": [
      "Epoch 251, lr 7.5e-05: 100% 39/39 [00:11<00:00,  3.41it/s, 0 cls=0.18048, 1 cls=0.26408, 2 cls=0.36072, bce=0.07979, dice=0.84354, loss=0.24644]\n"
     ]
    },
    {
     "name": "stdout",
     "output_type": "stream",
     "text": [
      "loss: 0.20494 | bce: 0.05189 | dice: 0.85841 | 0 cls: 0.14732 | 1 cls: 0.20990 | 2 cls: 0.31099\n"
     ]
    },
    {
     "name": "stderr",
     "output_type": "stream",
     "text": [
      "Epoch 252, lr 7.5e-05: 100% 39/39 [00:11<00:00,  3.40it/s, 0 cls=0.17469, 1 cls=0.25657, 2 cls=0.35400, bce=0.07719, dice=0.84678, loss=0.23999]\n"
     ]
    },
    {
     "name": "stdout",
     "output_type": "stream",
     "text": [
      "loss: 0.20459 | bce: 0.05150 | dice: 0.85840 | 0 cls: 0.14793 | 1 cls: 0.20640 | 2 cls: 0.31198\n"
     ]
    },
    {
     "name": "stderr",
     "output_type": "stream",
     "text": [
      "Epoch 253, lr 7.5e-05: 100% 39/39 [00:11<00:00,  3.39it/s, 0 cls=0.17259, 1 cls=0.25922, 2 cls=0.35365, bce=0.07844, dice=0.84836, loss=0.23951]\n"
     ]
    },
    {
     "name": "stdout",
     "output_type": "stream",
     "text": [
      "loss: 0.20021 | bce: 0.05029 | dice: 0.86069 | 0 cls: 0.14335 | 1 cls: 0.20478 | 2 cls: 0.30552\n"
     ]
    },
    {
     "name": "stderr",
     "output_type": "stream",
     "text": [
      "Epoch 254, lr 7.5e-05: 100% 39/39 [00:11<00:00,  3.41it/s, 0 cls=0.17453, 1 cls=0.25739, 2 cls=0.35318, bce=0.07775, dice=0.84702, loss=0.23991]\n"
     ]
    },
    {
     "name": "stdout",
     "output_type": "stream",
     "text": [
      "loss: 0.19725 | bce: 0.05185 | dice: 0.86421 | 0 cls: 0.14013 | 1 cls: 0.20265 | 2 cls: 0.30208\n"
     ]
    },
    {
     "name": "stderr",
     "output_type": "stream",
     "text": [
      "Epoch 255, lr 7.5e-05: 100% 39/39 [00:11<00:00,  3.40it/s, 0 cls=0.17708, 1 cls=0.26320, 2 cls=0.35861, bce=0.07979, dice=0.84563, loss=0.24399]\n"
     ]
    },
    {
     "name": "stdout",
     "output_type": "stream",
     "text": [
      "loss: 0.19842 | bce: 0.05154 | dice: 0.86288 | 0 cls: 0.14098 | 1 cls: 0.20358 | 2 cls: 0.30441\n"
     ]
    },
    {
     "name": "stderr",
     "output_type": "stream",
     "text": [
      "Epoch 256, lr 7.5e-05: 100% 39/39 [00:11<00:00,  3.40it/s, 0 cls=0.17379, 1 cls=0.25954, 2 cls=0.35522, bce=0.07817, dice=0.84698, loss=0.24058]\n"
     ]
    },
    {
     "name": "stdout",
     "output_type": "stream",
     "text": [
      "loss: 0.20055 | bce: 0.05357 | dice: 0.86306 | 0 cls: 0.14347 | 1 cls: 0.20456 | 2 cls: 0.30686\n"
     ]
    },
    {
     "name": "stderr",
     "output_type": "stream",
     "text": [
      "Epoch 257, lr 7.5e-05: 100% 39/39 [00:11<00:00,  3.37it/s, 0 cls=0.17667, 1 cls=0.25803, 2 cls=0.35233, bce=0.07906, dice=0.84780, loss=0.24092]\n"
     ]
    },
    {
     "name": "stdout",
     "output_type": "stream",
     "text": [
      "loss: 0.20213 | bce: 0.05035 | dice: 0.85890 | 0 cls: 0.14465 | 1 cls: 0.20530 | 2 cls: 0.30964\n"
     ]
    },
    {
     "name": "stderr",
     "output_type": "stream",
     "text": [
      "Epoch 258, lr 7.5e-05: 100% 39/39 [00:11<00:00,  3.43it/s, 0 cls=0.17225, 1 cls=0.25152, 2 cls=0.35112, bce=0.07741, dice=0.84936, loss=0.23678]\n"
     ]
    },
    {
     "name": "stdout",
     "output_type": "stream",
     "text": [
      "loss: 0.20337 | bce: 0.05390 | dice: 0.86125 | 0 cls: 0.14591 | 1 cls: 0.20884 | 2 cls: 0.30898\n"
     ]
    },
    {
     "name": "stderr",
     "output_type": "stream",
     "text": [
      "Epoch 259, lr 7.5e-05: 100% 39/39 [00:11<00:00,  3.41it/s, 0 cls=0.16741, 1 cls=0.24722, 2 cls=0.34135, bce=0.07600, dice=0.85332, loss=0.23085]\n"
     ]
    },
    {
     "name": "stdout",
     "output_type": "stream",
     "text": [
      "loss: 0.20147 | bce: 0.05133 | dice: 0.86054 | 0 cls: 0.14420 | 1 cls: 0.20528 | 2 cls: 0.30824\n"
     ]
    },
    {
     "name": "stderr",
     "output_type": "stream",
     "text": [
      "Epoch 260, lr 7.5e-05: 100% 39/39 [00:11<00:00,  3.41it/s, 0 cls=0.18112, 1 cls=0.26209, 2 cls=0.36049, bce=0.08045, dice=0.84461, loss=0.24621]\n"
     ]
    },
    {
     "name": "stdout",
     "output_type": "stream",
     "text": [
      "loss: 0.19871 | bce: 0.05039 | dice: 0.86187 | 0 cls: 0.14256 | 1 cls: 0.20265 | 2 cls: 0.30300\n"
     ]
    },
    {
     "name": "stderr",
     "output_type": "stream",
     "text": [
      "Epoch 261, lr 7.5e-05: 100% 39/39 [00:11<00:00,  3.42it/s, 0 cls=0.17357, 1 cls=0.25738, 2 cls=0.35348, bce=0.07819, dice=0.84767, loss=0.23950]\n"
     ]
    },
    {
     "name": "stdout",
     "output_type": "stream",
     "text": [
      "loss: 0.20041 | bce: 0.05256 | dice: 0.86261 | 0 cls: 0.14316 | 1 cls: 0.20522 | 2 cls: 0.30603\n"
     ]
    },
    {
     "name": "stderr",
     "output_type": "stream",
     "text": [
      "Epoch 262, lr 7.5e-05: 100% 39/39 [00:11<00:00,  3.41it/s, 0 cls=0.17635, 1 cls=0.25697, 2 cls=0.35406, bce=0.07832, dice=0.84701, loss=0.24093]\n"
     ]
    },
    {
     "name": "stdout",
     "output_type": "stream",
     "text": [
      "loss: 0.20000 | bce: 0.05171 | dice: 0.86210 | 0 cls: 0.14340 | 1 cls: 0.20388 | 2 cls: 0.30538\n"
     ]
    },
    {
     "name": "stderr",
     "output_type": "stream",
     "text": [
      "Epoch 263, lr 7.5e-05: 100% 39/39 [00:11<00:00,  3.42it/s, 0 cls=0.17076, 1 cls=0.25500, 2 cls=0.35098, bce=0.07771, dice=0.84966, loss=0.23687]\n"
     ]
    },
    {
     "name": "stdout",
     "output_type": "stream",
     "text": [
      "loss: 0.19753 | bce: 0.05110 | dice: 0.86328 | 0 cls: 0.14089 | 1 cls: 0.20162 | 2 cls: 0.30275\n"
     ]
    },
    {
     "name": "stderr",
     "output_type": "stream",
     "text": [
      "Epoch 264, lr 7.5e-05: 100% 39/39 [00:11<00:00,  3.41it/s, 0 cls=0.17085, 1 cls=0.25186, 2 cls=0.34556, bce=0.07675, dice=0.85069, loss=0.23478]\n"
     ]
    },
    {
     "name": "stdout",
     "output_type": "stream",
     "text": [
      "loss: 0.20180 | bce: 0.05109 | dice: 0.86011 | 0 cls: 0.14496 | 1 cls: 0.20651 | 2 cls: 0.30691\n"
     ]
    },
    {
     "name": "stderr",
     "output_type": "stream",
     "text": [
      "Epoch 265, lr 7.5e-05: 100% 39/39 [00:11<00:00,  3.41it/s, 0 cls=0.17710, 1 cls=0.25577, 2 cls=0.35268, bce=0.07748, dice=0.84642, loss=0.24066]\n"
     ]
    },
    {
     "name": "stdout",
     "output_type": "stream",
     "text": [
      "loss: 0.19845 | bce: 0.05215 | dice: 0.86343 | 0 cls: 0.14109 | 1 cls: 0.20425 | 2 cls: 0.30345\n"
     ]
    },
    {
     "name": "stderr",
     "output_type": "stream",
     "text": [
      "Epoch 266, lr 7.5e-05: 100% 39/39 [00:11<00:00,  3.40it/s, 0 cls=0.17230, 1 cls=0.25637, 2 cls=0.35062, bce=0.07722, dice=0.84867, loss=0.23790]\n"
     ]
    },
    {
     "name": "stdout",
     "output_type": "stream",
     "text": [
      "loss: 0.19648 | bce: 0.05275 | dice: 0.86530 | 0 cls: 0.13897 | 1 cls: 0.20202 | 2 cls: 0.30188\n"
     ]
    },
    {
     "name": "stderr",
     "output_type": "stream",
     "text": [
      "Epoch 267, lr 7.5e-05: 100% 39/39 [00:11<00:00,  3.43it/s, 0 cls=0.17800, 1 cls=0.26463, 2 cls=0.35916, bce=0.07808, dice=0.84383, loss=0.24495]\n"
     ]
    },
    {
     "name": "stdout",
     "output_type": "stream",
     "text": [
      "loss: 0.19817 | bce: 0.05260 | dice: 0.86414 | 0 cls: 0.14104 | 1 cls: 0.20417 | 2 cls: 0.30269\n"
     ]
    },
    {
     "name": "stderr",
     "output_type": "stream",
     "text": [
      "Epoch 268, lr 7.5e-05: 100% 39/39 [00:11<00:00,  3.39it/s, 0 cls=0.17861, 1 cls=0.25943, 2 cls=0.35535, bce=0.08033, dice=0.84720, loss=0.24300]\n"
     ]
    },
    {
     "name": "stdout",
     "output_type": "stream",
     "text": [
      "loss: 0.19863 | bce: 0.05028 | dice: 0.86181 | 0 cls: 0.14188 | 1 cls: 0.20337 | 2 cls: 0.30290\n"
     ]
    },
    {
     "name": "stderr",
     "output_type": "stream",
     "text": [
      "Epoch 269, lr 7.5e-05: 100% 39/39 [00:11<00:00,  3.41it/s, 0 cls=0.17562, 1 cls=0.25557, 2 cls=0.35568, bce=0.07888, dice=0.84738, loss=0.24063]\n"
     ]
    },
    {
     "name": "stdout",
     "output_type": "stream",
     "text": [
      "loss: 0.19794 | bce: 0.05172 | dice: 0.86341 | 0 cls: 0.14035 | 1 cls: 0.20380 | 2 cls: 0.30360\n"
     ]
    },
    {
     "name": "stderr",
     "output_type": "stream",
     "text": [
      "Epoch 270, lr 7.5e-05: 100% 39/39 [00:11<00:00,  3.39it/s, 0 cls=0.16649, 1 cls=0.24624, 2 cls=0.34261, bce=0.07508, dice=0.85281, loss=0.23046]\n"
     ]
    },
    {
     "name": "stdout",
     "output_type": "stream",
     "text": [
      "loss: 0.19632 | bce: 0.05380 | dice: 0.86637 | 0 cls: 0.13941 | 1 cls: 0.20131 | 2 cls: 0.30150\n"
     ]
    },
    {
     "name": "stderr",
     "output_type": "stream",
     "text": [
      "Epoch 271, lr 7.5e-05: 100% 39/39 [00:11<00:00,  3.41it/s, 0 cls=0.16811, 1 cls=0.24822, 2 cls=0.34629, bce=0.07687, dice=0.85224, loss=0.23268]\n"
     ]
    },
    {
     "name": "stdout",
     "output_type": "stream",
     "text": [
      "loss: 0.19816 | bce: 0.05145 | dice: 0.86325 | 0 cls: 0.14100 | 1 cls: 0.20214 | 2 cls: 0.30429\n"
     ]
    },
    {
     "name": "stderr",
     "output_type": "stream",
     "text": [
      "Epoch 272, lr 7.5e-05: 100% 39/39 [00:11<00:00,  3.41it/s, 0 cls=0.18033, 1 cls=0.26385, 2 cls=0.36031, bce=0.08029, dice=0.84430, loss=0.24621]\n"
     ]
    },
    {
     "name": "stdout",
     "output_type": "stream",
     "text": [
      "loss: 0.19497 | bce: 0.05133 | dice: 0.86551 | 0 cls: 0.13832 | 1 cls: 0.19973 | 2 cls: 0.29937\n"
     ]
    },
    {
     "name": "stderr",
     "output_type": "stream",
     "text": [
      "Epoch 273, lr 7.5e-05: 100% 39/39 [00:11<00:00,  3.42it/s, 0 cls=0.17352, 1 cls=0.25890, 2 cls=0.35452, bce=0.07831, dice=0.84748, loss=0.24011]\n"
     ]
    },
    {
     "name": "stdout",
     "output_type": "stream",
     "text": [
      "loss: 0.19683 | bce: 0.05175 | dice: 0.86462 | 0 cls: 0.13934 | 1 cls: 0.20312 | 2 cls: 0.30158\n"
     ]
    },
    {
     "name": "stderr",
     "output_type": "stream",
     "text": [
      "Epoch 274, lr 7.5e-05: 100% 39/39 [00:11<00:00,  3.40it/s, 0 cls=0.19287, 1 cls=0.26952, 2 cls=0.36992, bce=0.08154, dice=0.83755, loss=0.25629]\n"
     ]
    },
    {
     "name": "stdout",
     "output_type": "stream",
     "text": [
      "loss: 0.20554 | bce: 0.05388 | dice: 0.85966 | 0 cls: 0.14789 | 1 cls: 0.21012 | 2 cls: 0.31225\n"
     ]
    },
    {
     "name": "stderr",
     "output_type": "stream",
     "text": [
      "Epoch 275, lr 7.5e-05: 100% 39/39 [00:11<00:00,  3.39it/s, 0 cls=0.17349, 1 cls=0.25435, 2 cls=0.35137, bce=0.07762, dice=0.84830, loss=0.23817]\n"
     ]
    },
    {
     "name": "stdout",
     "output_type": "stream",
     "text": [
      "loss: 0.20158 | bce: 0.05279 | dice: 0.86178 | 0 cls: 0.14422 | 1 cls: 0.20521 | 2 cls: 0.30837\n"
     ]
    },
    {
     "name": "stderr",
     "output_type": "stream",
     "text": [
      "Epoch 276, lr 7.5e-05: 100% 39/39 [00:11<00:00,  3.42it/s, 0 cls=0.18032, 1 cls=0.26184, 2 cls=0.36137, bce=0.08055, dice=0.84475, loss=0.24596]\n"
     ]
    },
    {
     "name": "stdout",
     "output_type": "stream",
     "text": [
      "loss: 0.19660 | bce: 0.05059 | dice: 0.86375 | 0 cls: 0.13973 | 1 cls: 0.20208 | 2 cls: 0.30098\n"
     ]
    },
    {
     "name": "stderr",
     "output_type": "stream",
     "text": [
      "Epoch 277, lr 7.5e-05: 100% 39/39 [00:11<00:00,  3.41it/s, 0 cls=0.17696, 1 cls=0.26365, 2 cls=0.35957, bce=0.07840, dice=0.84401, loss=0.24429]\n"
     ]
    },
    {
     "name": "stdout",
     "output_type": "stream",
     "text": [
      "loss: 0.20162 | bce: 0.05336 | dice: 0.86162 | 0 cls: 0.14381 | 1 cls: 0.20607 | 2 cls: 0.30841\n"
     ]
    },
    {
     "name": "stderr",
     "output_type": "stream",
     "text": [
      "Epoch 278, lr 7.5e-05: 100% 39/39 [00:11<00:00,  3.40it/s, 0 cls=0.17935, 1 cls=0.26023, 2 cls=0.35645, bce=0.07887, dice=0.84496, loss=0.24385]\n"
     ]
    },
    {
     "name": "stdout",
     "output_type": "stream",
     "text": [
      "loss: 0.20443 | bce: 0.05425 | dice: 0.86060 | 0 cls: 0.14672 | 1 cls: 0.20761 | 2 cls: 0.31233\n"
     ]
    },
    {
     "name": "stderr",
     "output_type": "stream",
     "text": [
      "Epoch 279, lr 7.5e-05: 100% 39/39 [00:11<00:00,  3.42it/s, 0 cls=0.17513, 1 cls=0.25528, 2 cls=0.35236, bce=0.07834, dice=0.84809, loss=0.23948]\n"
     ]
    },
    {
     "name": "stdout",
     "output_type": "stream",
     "text": [
      "loss: 0.20304 | bce: 0.05288 | dice: 0.86061 | 0 cls: 0.14637 | 1 cls: 0.20619 | 2 cls: 0.30881\n"
     ]
    },
    {
     "name": "stderr",
     "output_type": "stream",
     "text": [
      "Epoch 280, lr 7.5e-05: 100% 39/39 [00:11<00:00,  3.41it/s, 0 cls=0.17562, 1 cls=0.25954, 2 cls=0.35496, bce=0.07836, dice=0.84628, loss=0.24144]\n"
     ]
    },
    {
     "name": "stdout",
     "output_type": "stream",
     "text": [
      "loss: 0.19779 | bce: 0.05223 | dice: 0.86412 | 0 cls: 0.14114 | 1 cls: 0.20191 | 2 cls: 0.30317\n"
     ]
    },
    {
     "name": "stderr",
     "output_type": "stream",
     "text": [
      "Epoch 281, lr 7.5e-05: 100% 39/39 [00:11<00:00,  3.41it/s, 0 cls=0.17629, 1 cls=0.25764, 2 cls=0.35389, bce=0.07823, dice=0.84711, loss=0.24103]\n"
     ]
    },
    {
     "name": "stdout",
     "output_type": "stream",
     "text": [
      "loss: 0.20357 | bce: 0.05208 | dice: 0.85970 | 0 cls: 0.14640 | 1 cls: 0.20706 | 2 cls: 0.31057\n"
     ]
    },
    {
     "name": "stderr",
     "output_type": "stream",
     "text": [
      "Epoch 282, lr 7.5e-05: 100% 39/39 [00:11<00:00,  3.40it/s, 0 cls=0.16638, 1 cls=0.24884, 2 cls=0.34261, bce=0.07638, dice=0.85343, loss=0.23105]\n"
     ]
    },
    {
     "name": "stdout",
     "output_type": "stream",
     "text": [
      "loss: 0.20198 | bce: 0.05297 | dice: 0.86135 | 0 cls: 0.14507 | 1 cls: 0.20541 | 2 cls: 0.30813\n"
     ]
    },
    {
     "name": "stderr",
     "output_type": "stream",
     "text": [
      "Epoch 283, lr 7.5e-05: 100% 39/39 [00:11<00:00,  3.42it/s, 0 cls=0.17867, 1 cls=0.26001, 2 cls=0.35341, bce=0.07814, dice=0.84569, loss=0.24269]\n"
     ]
    },
    {
     "name": "stdout",
     "output_type": "stream",
     "text": [
      "loss: 0.19933 | bce: 0.05368 | dice: 0.86407 | 0 cls: 0.14180 | 1 cls: 0.20396 | 2 cls: 0.30593\n"
     ]
    },
    {
     "name": "stderr",
     "output_type": "stream",
     "text": [
      "Epoch 284, lr 7.5e-05: 100% 39/39 [00:11<00:00,  3.43it/s, 0 cls=0.17483, 1 cls=0.25773, 2 cls=0.35278, bce=0.07758, dice=0.84710, loss=0.24004]\n"
     ]
    },
    {
     "name": "stdout",
     "output_type": "stream",
     "text": [
      "loss: 0.19953 | bce: 0.05356 | dice: 0.86415 | 0 cls: 0.14229 | 1 cls: 0.20472 | 2 cls: 0.30491\n"
     ]
    },
    {
     "name": "stderr",
     "output_type": "stream",
     "text": [
      "Epoch 285, lr 7.5e-05: 100% 39/39 [00:11<00:00,  3.40it/s, 0 cls=0.17004, 1 cls=0.24793, 2 cls=0.34498, bce=0.07608, dice=0.85123, loss=0.23325]\n"
     ]
    },
    {
     "name": "stdout",
     "output_type": "stream",
     "text": [
      "loss: 0.19715 | bce: 0.05177 | dice: 0.86416 | 0 cls: 0.14062 | 1 cls: 0.20045 | 2 cls: 0.30249\n"
     ]
    },
    {
     "name": "stderr",
     "output_type": "stream",
     "text": [
      "Epoch 286, lr 7.5e-05: 100% 39/39 [00:11<00:00,  3.40it/s, 0 cls=0.17316, 1 cls=0.25576, 2 cls=0.35270, bce=0.07762, dice=0.84810, loss=0.23869]\n"
     ]
    },
    {
     "name": "stdout",
     "output_type": "stream",
     "text": [
      "loss: 0.20171 | bce: 0.05227 | dice: 0.86128 | 0 cls: 0.14441 | 1 cls: 0.20426 | 2 cls: 0.30922\n"
     ]
    },
    {
     "name": "stderr",
     "output_type": "stream",
     "text": [
      "Epoch 287, lr 7.5e-05: 100% 39/39 [00:11<00:00,  3.41it/s, 0 cls=0.17852, 1 cls=0.25990, 2 cls=0.35792, bce=0.07912, dice=0.84526, loss=0.24371]\n"
     ]
    },
    {
     "name": "stdout",
     "output_type": "stream",
     "text": [
      "loss: 0.20101 | bce: 0.05167 | dice: 0.86133 | 0 cls: 0.14443 | 1 cls: 0.20387 | 2 cls: 0.30679\n"
     ]
    },
    {
     "name": "stderr",
     "output_type": "stream",
     "text": [
      "Epoch 288, lr 7.5e-05: 100% 39/39 [00:11<00:00,  3.41it/s, 0 cls=0.17346, 1 cls=0.25829, 2 cls=0.35423, bce=0.07877, dice=0.84806, loss=0.23986]\n"
     ]
    },
    {
     "name": "stdout",
     "output_type": "stream",
     "text": [
      "loss: 0.20020 | bce: 0.05142 | dice: 0.86198 | 0 cls: 0.14327 | 1 cls: 0.20449 | 2 cls: 0.30538\n"
     ]
    },
    {
     "name": "stderr",
     "output_type": "stream",
     "text": [
      "Epoch 289, lr 7.5e-05: 100% 39/39 [00:11<00:00,  3.42it/s, 0 cls=0.18071, 1 cls=0.26190, 2 cls=0.35607, bce=0.07924, dice=0.84469, loss=0.24485]\n"
     ]
    },
    {
     "name": "stdout",
     "output_type": "stream",
     "text": [
      "loss: 0.20611 | bce: 0.05333 | dice: 0.85890 | 0 cls: 0.14974 | 1 cls: 0.20806 | 2 cls: 0.31285\n"
     ]
    },
    {
     "name": "stderr",
     "output_type": "stream",
     "text": [
      "Epoch 290, lr 0.00049: 100% 39/39 [00:11<00:00,  3.41it/s, 0 cls=0.18889, 1 cls=0.27787, 2 cls=0.38033, bce=0.08538, dice=0.83740, loss=0.25900]\n"
     ]
    },
    {
     "name": "stdout",
     "output_type": "stream",
     "text": [
      "loss: 0.21522 | bce: 0.06018 | dice: 0.85611 | 0 cls: 0.15813 | 1 cls: 0.20871 | 2 cls: 0.32980\n"
     ]
    },
    {
     "name": "stderr",
     "output_type": "stream",
     "text": [
      "Epoch 291, lr 0.00049: 100% 39/39 [00:11<00:00,  3.42it/s, 0 cls=0.20261, 1 cls=0.28859, 2 cls=0.39133, bce=0.08989, dice=0.83168, loss=0.27128]\n"
     ]
    },
    {
     "name": "stdout",
     "output_type": "stream",
     "text": [
      "loss: 0.26196 | bce: 0.06090 | dice: 0.82139 | 0 cls: 0.20069 | 1 cls: 0.24934 | 2 cls: 0.38976\n"
     ]
    },
    {
     "name": "stderr",
     "output_type": "stream",
     "text": [
      "Epoch 292, lr 0.000147: 100% 39/39 [00:11<00:00,  3.41it/s, 0 cls=0.19470, 1 cls=0.27777, 2 cls=0.37873, bce=0.08551, dice=0.83609, loss=0.26148]\n"
     ]
    },
    {
     "name": "stdout",
     "output_type": "stream",
     "text": [
      "loss: 0.20646 | bce: 0.05168 | dice: 0.85667 | 0 cls: 0.14851 | 1 cls: 0.20905 | 2 cls: 0.31528\n"
     ]
    },
    {
     "name": "stderr",
     "output_type": "stream",
     "text": [
      "Epoch 293, lr 0.000147: 100% 39/39 [00:11<00:00,  3.41it/s, 0 cls=0.18748, 1 cls=0.26960, 2 cls=0.36851, bce=0.08259, dice=0.84052, loss=0.25327]\n"
     ]
    },
    {
     "name": "stdout",
     "output_type": "stream",
     "text": [
      "loss: 0.20281 | bce: 0.05236 | dice: 0.85984 | 0 cls: 0.14542 | 1 cls: 0.20579 | 2 cls: 0.31065\n"
     ]
    },
    {
     "name": "stderr",
     "output_type": "stream",
     "text": [
      "Epoch 294, lr 4.4099999999999995e-05: 100% 39/39 [00:11<00:00,  3.41it/s, 0 cls=0.17939, 1 cls=0.26072, 2 cls=0.35986, bce=0.08017, dice=0.84502, loss=0.24484]\n"
     ]
    },
    {
     "name": "stdout",
     "output_type": "stream",
     "text": [
      "loss: 0.19751 | bce: 0.05142 | dice: 0.86354 | 0 cls: 0.14092 | 1 cls: 0.20083 | 2 cls: 0.30314\n"
     ]
    },
    {
     "name": "stderr",
     "output_type": "stream",
     "text": [
      "Epoch 295, lr 0.00049: 100% 39/39 [00:11<00:00,  3.39it/s, 0 cls=0.19836, 1 cls=0.28633, 2 cls=0.39060, bce=0.08736, dice=0.83177, loss=0.26841]\n"
     ]
    },
    {
     "name": "stdout",
     "output_type": "stream",
     "text": [
      "loss: 0.24869 | bce: 0.05784 | dice: 0.83224 | 0 cls: 0.18724 | 1 cls: 0.24890 | 2 cls: 0.36603\n"
     ]
    },
    {
     "name": "stderr",
     "output_type": "stream",
     "text": [
      "Epoch 296, lr 0.00049: 100% 39/39 [00:11<00:00,  3.41it/s, 0 cls=0.19550, 1 cls=0.28032, 2 cls=0.38743, bce=0.08592, dice=0.83351, loss=0.26469]\n"
     ]
    },
    {
     "name": "stdout",
     "output_type": "stream",
     "text": [
      "loss: 0.27263 | bce: 0.05746 | dice: 0.80610 | 0 cls: 0.21823 | 1 cls: 0.24673 | 2 cls: 0.39990\n"
     ]
    },
    {
     "name": "stderr",
     "output_type": "stream",
     "text": [
      "Epoch 297, lr 0.000147: 100% 39/39 [00:11<00:00,  3.41it/s, 0 cls=0.18545, 1 cls=0.26589, 2 cls=0.36564, bce=0.08269, dice=0.84246, loss=0.25061]\n"
     ]
    },
    {
     "name": "stdout",
     "output_type": "stream",
     "text": [
      "loss: 0.20701 | bce: 0.05348 | dice: 0.85731 | 0 cls: 0.14675 | 1 cls: 0.21317 | 2 cls: 0.31683\n"
     ]
    },
    {
     "name": "stderr",
     "output_type": "stream",
     "text": [
      "Epoch 298, lr 0.000147: 100% 39/39 [00:11<00:00,  3.40it/s, 0 cls=0.17785, 1 cls=0.26312, 2 cls=0.36207, bce=0.07965, dice=0.84422, loss=0.24522]\n"
     ]
    },
    {
     "name": "stdout",
     "output_type": "stream",
     "text": [
      "loss: 0.20384 | bce: 0.05037 | dice: 0.85740 | 0 cls: 0.14538 | 1 cls: 0.20886 | 2 cls: 0.31114\n"
     ]
    },
    {
     "name": "stderr",
     "output_type": "stream",
     "text": [
      "Epoch 299, lr 4.4099999999999995e-05: 100% 39/39 [00:11<00:00,  3.38it/s, 0 cls=0.17178, 1 cls=0.25315, 2 cls=0.34743, bce=0.07679, dice=0.84971, loss=0.23604]\n"
     ]
    },
    {
     "name": "stdout",
     "output_type": "stream",
     "text": [
      "loss: 0.20157 | bce: 0.05153 | dice: 0.86084 | 0 cls: 0.14455 | 1 cls: 0.20522 | 2 cls: 0.30754\n"
     ]
    },
    {
     "name": "stderr",
     "output_type": "stream",
     "text": [
      "Epoch 300, lr 3.75e-05: 100% 39/39 [00:11<00:00,  3.42it/s, 0 cls=0.17843, 1 cls=0.26165, 2 cls=0.36063, bce=0.07917, dice=0.84449, loss=0.24479]\n"
     ]
    },
    {
     "name": "stdout",
     "output_type": "stream",
     "text": [
      "loss: 0.20432 | bce: 0.05175 | dice: 0.85879 | 0 cls: 0.14756 | 1 cls: 0.20738 | 2 cls: 0.31063\n"
     ]
    },
    {
     "name": "stderr",
     "output_type": "stream",
     "text": [
      "Epoch 301, lr 3.75e-05: 100% 39/39 [00:11<00:00,  3.42it/s, 0 cls=0.17514, 1 cls=0.26326, 2 cls=0.35728, bce=0.07926, dice=0.84616, loss=0.24271]\n"
     ]
    },
    {
     "name": "stdout",
     "output_type": "stream",
     "text": [
      "loss: 0.20225 | bce: 0.05192 | dice: 0.86071 | 0 cls: 0.14524 | 1 cls: 0.20627 | 2 cls: 0.30800\n"
     ]
    },
    {
     "name": "stderr",
     "output_type": "stream",
     "text": [
      "Epoch 302, lr 3.75e-05: 100% 39/39 [00:11<00:00,  3.41it/s, 0 cls=0.17570, 1 cls=0.25878, 2 cls=0.35527, bce=0.07858, dice=0.84679, loss=0.24136]\n"
     ]
    },
    {
     "name": "stdout",
     "output_type": "stream",
     "text": [
      "loss: 0.20160 | bce: 0.05235 | dice: 0.86142 | 0 cls: 0.14430 | 1 cls: 0.20600 | 2 cls: 0.30763\n"
     ]
    },
    {
     "name": "stderr",
     "output_type": "stream",
     "text": [
      "Epoch 303, lr 3.75e-05: 100% 39/39 [00:11<00:00,  3.40it/s, 0 cls=0.16885, 1 cls=0.25205, 2 cls=0.34635, bce=0.07720, dice=0.85154, loss=0.23403]\n"
     ]
    },
    {
     "name": "stdout",
     "output_type": "stream",
     "text": [
      "loss: 0.19812 | bce: 0.05150 | dice: 0.86343 | 0 cls: 0.14136 | 1 cls: 0.20233 | 2 cls: 0.30325\n"
     ]
    },
    {
     "name": "stderr",
     "output_type": "stream",
     "text": [
      "Epoch 304, lr 3.75e-05: 100% 39/39 [00:11<00:00,  3.43it/s, 0 cls=0.17213, 1 cls=0.25322, 2 cls=0.34816, bce=0.07739, dice=0.84987, loss=0.23641]\n"
     ]
    },
    {
     "name": "stdout",
     "output_type": "stream",
     "text": [
      "loss: 0.20078 | bce: 0.05124 | dice: 0.86112 | 0 cls: 0.14366 | 1 cls: 0.20536 | 2 cls: 0.30625\n"
     ]
    },
    {
     "name": "stderr",
     "output_type": "stream",
     "text": [
      "Epoch 305, lr 3.75e-05: 100% 39/39 [00:11<00:00,  3.41it/s, 0 cls=0.18195, 1 cls=0.26469, 2 cls=0.36169, bce=0.07965, dice=0.84252, loss=0.24757]\n"
     ]
    },
    {
     "name": "stdout",
     "output_type": "stream",
     "text": [
      "loss: 0.19890 | bce: 0.05158 | dice: 0.86291 | 0 cls: 0.14213 | 1 cls: 0.20347 | 2 cls: 0.30375\n"
     ]
    },
    {
     "name": "stderr",
     "output_type": "stream",
     "text": [
      "Epoch 306, lr 3.75e-05: 100% 39/39 [00:11<00:00,  3.41it/s, 0 cls=0.17078, 1 cls=0.25220, 2 cls=0.35027, bce=0.07693, dice=0.84954, loss=0.23601]\n"
     ]
    },
    {
     "name": "stdout",
     "output_type": "stream",
     "text": [
      "loss: 0.19911 | bce: 0.05148 | dice: 0.86272 | 0 cls: 0.14182 | 1 cls: 0.20456 | 2 cls: 0.30396\n"
     ]
    },
    {
     "name": "stderr",
     "output_type": "stream",
     "text": [
      "Epoch 307, lr 3.75e-05: 100% 39/39 [00:11<00:00,  3.41it/s, 0 cls=0.18123, 1 cls=0.26263, 2 cls=0.36102, bce=0.07966, dice=0.84340, loss=0.24653]\n"
     ]
    },
    {
     "name": "stdout",
     "output_type": "stream",
     "text": [
      "loss: 0.19960 | bce: 0.05206 | dice: 0.86259 | 0 cls: 0.14239 | 1 cls: 0.20415 | 2 cls: 0.30527\n"
     ]
    },
    {
     "name": "stderr",
     "output_type": "stream",
     "text": [
      "Epoch 308, lr 3.75e-05: 100% 39/39 [00:11<00:00,  3.39it/s, 0 cls=0.17629, 1 cls=0.25706, 2 cls=0.35360, bce=0.07865, dice=0.84738, loss=0.24081]\n"
     ]
    },
    {
     "name": "stdout",
     "output_type": "stream",
     "text": [
      "loss: 0.19888 | bce: 0.05283 | dice: 0.86398 | 0 cls: 0.14208 | 1 cls: 0.20316 | 2 cls: 0.30402\n"
     ]
    },
    {
     "name": "stderr",
     "output_type": "stream",
     "text": [
      "Epoch 309, lr 3.75e-05: 100% 39/39 [00:11<00:00,  3.40it/s, 0 cls=0.17152, 1 cls=0.25098, 2 cls=0.34463, bce=0.07599, dice=0.85015, loss=0.23467]\n"
     ]
    },
    {
     "name": "stdout",
     "output_type": "stream",
     "text": [
      "loss: 0.19582 | bce: 0.05220 | dice: 0.86595 | 0 cls: 0.13901 | 1 cls: 0.20025 | 2 cls: 0.30059\n"
     ]
    },
    {
     "name": "stderr",
     "output_type": "stream",
     "text": [
      "Epoch 310, lr 3.75e-05: 100% 39/39 [00:11<00:00,  3.41it/s, 0 cls=0.17849, 1 cls=0.25866, 2 cls=0.35638, bce=0.08055, dice=0.84713, loss=0.24301]\n"
     ]
    },
    {
     "name": "stdout",
     "output_type": "stream",
     "text": [
      "loss: 0.19615 | bce: 0.05085 | dice: 0.86435 | 0 cls: 0.13931 | 1 cls: 0.20072 | 2 cls: 0.30099\n"
     ]
    },
    {
     "name": "stderr",
     "output_type": "stream",
     "text": [
      "Epoch 311, lr 3.75e-05: 100% 39/39 [00:11<00:00,  3.40it/s, 0 cls=0.17338, 1 cls=0.24978, 2 cls=0.34799, bce=0.07714, dice=0.84997, loss=0.23614]\n"
     ]
    },
    {
     "name": "stdout",
     "output_type": "stream",
     "text": [
      "loss: 0.19656 | bce: 0.05128 | dice: 0.86465 | 0 cls: 0.13989 | 1 cls: 0.20124 | 2 cls: 0.30106\n"
     ]
    },
    {
     "name": "stderr",
     "output_type": "stream",
     "text": [
      "Epoch 312, lr 3.75e-05: 100% 39/39 [00:11<00:00,  3.41it/s, 0 cls=0.17682, 1 cls=0.25997, 2 cls=0.35788, bce=0.07885, dice=0.84567, loss=0.24287]\n"
     ]
    },
    {
     "name": "stdout",
     "output_type": "stream",
     "text": [
      "loss: 0.19777 | bce: 0.05188 | dice: 0.86404 | 0 cls: 0.14111 | 1 cls: 0.20227 | 2 cls: 0.30256\n"
     ]
    },
    {
     "name": "stderr",
     "output_type": "stream",
     "text": [
      "Epoch 313, lr 3.75e-05: 100% 39/39 [00:11<00:00,  3.41it/s, 0 cls=0.17972, 1 cls=0.25767, 2 cls=0.35539, bce=0.07898, dice=0.84594, loss=0.24312]\n"
     ]
    },
    {
     "name": "stdout",
     "output_type": "stream",
     "text": [
      "loss: 0.19746 | bce: 0.05196 | dice: 0.86411 | 0 cls: 0.14045 | 1 cls: 0.20213 | 2 cls: 0.30280\n"
     ]
    },
    {
     "name": "stderr",
     "output_type": "stream",
     "text": [
      "Epoch 314, lr 3.75e-05: 100% 39/39 [00:11<00:00,  3.41it/s, 0 cls=0.17300, 1 cls=0.25068, 2 cls=0.34618, bce=0.07638, dice=0.84985, loss=0.23572]\n"
     ]
    },
    {
     "name": "stdout",
     "output_type": "stream",
     "text": [
      "loss: 0.19781 | bce: 0.05127 | dice: 0.86347 | 0 cls: 0.14081 | 1 cls: 0.20324 | 2 cls: 0.30212\n"
     ]
    },
    {
     "name": "stderr",
     "output_type": "stream",
     "text": [
      "Epoch 315, lr 3.75e-05: 100% 39/39 [00:11<00:00,  3.41it/s, 0 cls=0.17309, 1 cls=0.25528, 2 cls=0.35125, bce=0.07745, dice=0.84832, loss=0.23818]\n"
     ]
    },
    {
     "name": "stdout",
     "output_type": "stream",
     "text": [
      "loss: 0.19726 | bce: 0.05204 | dice: 0.86455 | 0 cls: 0.14068 | 1 cls: 0.20097 | 2 cls: 0.30233\n"
     ]
    },
    {
     "name": "stderr",
     "output_type": "stream",
     "text": [
      "Epoch 316, lr 3.75e-05: 100% 39/39 [00:11<00:00,  3.42it/s, 0 cls=0.17885, 1 cls=0.25960, 2 cls=0.35613, bce=0.08009, dice=0.84664, loss=0.24336]\n"
     ]
    },
    {
     "name": "stdout",
     "output_type": "stream",
     "text": [
      "loss: 0.19671 | bce: 0.05168 | dice: 0.86474 | 0 cls: 0.13994 | 1 cls: 0.20145 | 2 cls: 0.30136\n"
     ]
    },
    {
     "name": "stderr",
     "output_type": "stream",
     "text": [
      "Epoch 317, lr 3.75e-05: 100% 39/39 [00:11<00:00,  3.42it/s, 0 cls=0.17439, 1 cls=0.25511, 2 cls=0.35075, bce=0.07816, dice=0.84846, loss=0.23866]\n"
     ]
    },
    {
     "name": "stdout",
     "output_type": "stream",
     "text": [
      "loss: 0.19725 | bce: 0.05244 | dice: 0.86480 | 0 cls: 0.14004 | 1 cls: 0.20238 | 2 cls: 0.30233\n"
     ]
    },
    {
     "name": "stderr",
     "output_type": "stream",
     "text": [
      "Epoch 318, lr 3.75e-05: 100% 39/39 [00:11<00:00,  3.40it/s, 0 cls=0.17359, 1 cls=0.25566, 2 cls=0.35125, bce=0.07734, dice=0.84790, loss=0.23852]\n"
     ]
    },
    {
     "name": "stdout",
     "output_type": "stream",
     "text": [
      "loss: 0.19964 | bce: 0.05258 | dice: 0.86331 | 0 cls: 0.14246 | 1 cls: 0.20482 | 2 cls: 0.30449\n"
     ]
    },
    {
     "name": "stderr",
     "output_type": "stream",
     "text": [
      "Epoch 319, lr 3.75e-05: 100% 39/39 [00:11<00:00,  3.43it/s, 0 cls=0.17118, 1 cls=0.25181, 2 cls=0.34761, bce=0.07736, dice=0.85079, loss=0.23544]\n"
     ]
    },
    {
     "name": "stdout",
     "output_type": "stream",
     "text": [
      "loss: 0.19743 | bce: 0.05132 | dice: 0.86391 | 0 cls: 0.14054 | 1 cls: 0.20195 | 2 cls: 0.30208\n"
     ]
    },
    {
     "name": "stderr",
     "output_type": "stream",
     "text": [
      "Epoch 320, lr 3.75e-05: 100% 39/39 [00:11<00:00,  3.41it/s, 0 cls=0.17648, 1 cls=0.25905, 2 cls=0.35420, bce=0.07860, dice=0.84667, loss=0.24155]\n"
     ]
    },
    {
     "name": "stdout",
     "output_type": "stream",
     "text": [
      "loss: 0.19666 | bce: 0.05206 | dice: 0.86495 | 0 cls: 0.13976 | 1 cls: 0.20188 | 2 cls: 0.30112\n"
     ]
    },
    {
     "name": "stderr",
     "output_type": "stream",
     "text": [
      "Epoch 321, lr 3.75e-05: 100% 39/39 [00:11<00:00,  3.39it/s, 0 cls=0.17149, 1 cls=0.25174, 2 cls=0.34920, bce=0.07680, dice=0.84970, loss=0.23598]\n"
     ]
    },
    {
     "name": "stdout",
     "output_type": "stream",
     "text": [
      "loss: 0.19811 | bce: 0.05253 | dice: 0.86424 | 0 cls: 0.14086 | 1 cls: 0.20380 | 2 cls: 0.30282\n"
     ]
    },
    {
     "name": "stderr",
     "output_type": "stream",
     "text": [
      "Epoch 322, lr 3.75e-05: 100% 39/39 [00:11<00:00,  3.40it/s, 0 cls=0.17498, 1 cls=0.25373, 2 cls=0.35045, bce=0.07775, dice=0.84839, loss=0.23854]\n"
     ]
    },
    {
     "name": "stdout",
     "output_type": "stream",
     "text": [
      "loss: 0.19893 | bce: 0.05190 | dice: 0.86327 | 0 cls: 0.14192 | 1 cls: 0.20403 | 2 cls: 0.30372\n"
     ]
    },
    {
     "name": "stderr",
     "output_type": "stream",
     "text": [
      "Epoch 323, lr 3.75e-05: 100% 39/39 [00:11<00:00,  3.41it/s, 0 cls=0.17744, 1 cls=0.25791, 2 cls=0.35286, bce=0.07947, dice=0.84767, loss=0.24141]\n"
     ]
    },
    {
     "name": "stdout",
     "output_type": "stream",
     "text": [
      "loss: 0.19766 | bce: 0.05110 | dice: 0.86348 | 0 cls: 0.14087 | 1 cls: 0.20284 | 2 cls: 0.30187\n"
     ]
    },
    {
     "name": "stderr",
     "output_type": "stream",
     "text": [
      "Epoch 324, lr 3.75e-05: 100% 39/39 [00:11<00:00,  3.41it/s, 0 cls=0.17480, 1 cls=0.25773, 2 cls=0.35283, bce=0.07776, dice=0.84716, loss=0.24004]\n"
     ]
    },
    {
     "name": "stdout",
     "output_type": "stream",
     "text": [
      "loss: 0.19994 | bce: 0.05255 | dice: 0.86280 | 0 cls: 0.14290 | 1 cls: 0.20294 | 2 cls: 0.30677\n"
     ]
    },
    {
     "name": "stderr",
     "output_type": "stream",
     "text": [
      "Epoch 325, lr 3.75e-05: 100% 39/39 [00:11<00:00,  3.42it/s, 0 cls=0.17505, 1 cls=0.25504, 2 cls=0.35129, bce=0.07871, dice=0.84893, loss=0.23910]\n"
     ]
    },
    {
     "name": "stdout",
     "output_type": "stream",
     "text": [
      "loss: 0.19544 | bce: 0.05181 | dice: 0.86585 | 0 cls: 0.13892 | 1 cls: 0.20032 | 2 cls: 0.29945\n"
     ]
    },
    {
     "name": "stderr",
     "output_type": "stream",
     "text": [
      "Epoch 326, lr 3.75e-05: 100% 39/39 [00:11<00:00,  3.41it/s, 0 cls=0.16898, 1 cls=0.24673, 2 cls=0.34296, bce=0.07566, dice=0.85193, loss=0.23191]\n"
     ]
    },
    {
     "name": "stdout",
     "output_type": "stream",
     "text": [
      "loss: 0.19548 | bce: 0.05257 | dice: 0.86640 | 0 cls: 0.13928 | 1 cls: 0.19931 | 2 cls: 0.30002\n"
     ]
    },
    {
     "name": "stderr",
     "output_type": "stream",
     "text": [
      "Epoch 327, lr 3.75e-05: 100% 39/39 [00:11<00:00,  3.41it/s, 0 cls=0.17631, 1 cls=0.25606, 2 cls=0.35444, bce=0.07948, dice=0.84784, loss=0.24078]\n"
     ]
    },
    {
     "name": "stdout",
     "output_type": "stream",
     "text": [
      "loss: 0.19672 | bce: 0.05227 | dice: 0.86522 | 0 cls: 0.14031 | 1 cls: 0.20086 | 2 cls: 0.30137\n"
     ]
    },
    {
     "name": "stderr",
     "output_type": "stream",
     "text": [
      "Epoch 328, lr 3.75e-05: 100% 39/39 [00:11<00:00,  3.42it/s, 0 cls=0.16959, 1 cls=0.25014, 2 cls=0.34610, bce=0.07638, dice=0.85107, loss=0.23385]\n"
     ]
    },
    {
     "name": "stdout",
     "output_type": "stream",
     "text": [
      "loss: 0.19882 | bce: 0.05171 | dice: 0.86316 | 0 cls: 0.14169 | 1 cls: 0.20366 | 2 cls: 0.30408\n"
     ]
    },
    {
     "name": "stderr",
     "output_type": "stream",
     "text": [
      "Epoch 329, lr 3.75e-05: 100% 39/39 [00:11<00:00,  3.40it/s, 0 cls=0.16877, 1 cls=0.24892, 2 cls=0.34162, bce=0.07538, dice=0.85197, loss=0.23202]\n"
     ]
    },
    {
     "name": "stdout",
     "output_type": "stream",
     "text": [
      "loss: 0.19793 | bce: 0.05275 | dice: 0.86461 | 0 cls: 0.14126 | 1 cls: 0.20210 | 2 cls: 0.30285\n"
     ]
    },
    {
     "name": "stderr",
     "output_type": "stream",
     "text": [
      "Epoch 330, lr 3.75e-05: 100% 39/39 [00:11<00:00,  3.39it/s, 0 cls=0.17798, 1 cls=0.25838, 2 cls=0.35328, bce=0.07862, dice=0.84639, loss=0.24190]\n"
     ]
    },
    {
     "name": "stdout",
     "output_type": "stream",
     "text": [
      "loss: 0.19926 | bce: 0.05125 | dice: 0.86243 | 0 cls: 0.14213 | 1 cls: 0.20360 | 2 cls: 0.30492\n"
     ]
    },
    {
     "name": "stderr",
     "output_type": "stream",
     "text": [
      "Epoch 331, lr 3.75e-05: 100% 39/39 [00:11<00:00,  3.42it/s, 0 cls=0.17740, 1 cls=0.25601, 2 cls=0.35661, bce=0.07926, dice=0.84674, loss=0.24186]\n"
     ]
    },
    {
     "name": "stdout",
     "output_type": "stream",
     "text": [
      "loss: 0.19690 | bce: 0.05105 | dice: 0.86407 | 0 cls: 0.14045 | 1 cls: 0.20109 | 2 cls: 0.30133\n"
     ]
    },
    {
     "name": "stderr",
     "output_type": "stream",
     "text": [
      "Epoch 332, lr 3.75e-05: 100% 39/39 [00:11<00:00,  3.42it/s, 0 cls=0.17830, 1 cls=0.25829, 2 cls=0.35337, bce=0.07861, dice=0.84649, loss=0.24206]\n"
     ]
    },
    {
     "name": "stdout",
     "output_type": "stream",
     "text": [
      "loss: 0.19848 | bce: 0.05338 | dice: 0.86463 | 0 cls: 0.14178 | 1 cls: 0.20251 | 2 cls: 0.30365\n"
     ]
    },
    {
     "name": "stderr",
     "output_type": "stream",
     "text": [
      "Epoch 333, lr 3.75e-05: 100% 39/39 [00:11<00:00,  3.42it/s, 0 cls=0.17620, 1 cls=0.25541, 2 cls=0.35208, bce=0.07805, dice=0.84766, loss=0.23997]\n"
     ]
    },
    {
     "name": "stdout",
     "output_type": "stream",
     "text": [
      "loss: 0.20252 | bce: 0.05215 | dice: 0.86072 | 0 cls: 0.14571 | 1 cls: 0.20642 | 2 cls: 0.30801\n"
     ]
    },
    {
     "name": "stderr",
     "output_type": "stream",
     "text": [
      "Epoch 334, lr 3.75e-05: 100% 39/39 [00:11<00:00,  3.41it/s, 0 cls=0.17744, 1 cls=0.25853, 2 cls=0.35614, bce=0.07867, dice=0.84586, loss=0.24239]\n"
     ]
    },
    {
     "name": "stdout",
     "output_type": "stream",
     "text": [
      "loss: 0.19824 | bce: 0.05172 | dice: 0.86379 | 0 cls: 0.14216 | 1 cls: 0.20189 | 2 cls: 0.30261\n"
     ]
    },
    {
     "name": "stderr",
     "output_type": "stream",
     "text": [
      "Epoch 335, lr 3.75e-05: 100% 39/39 [00:11<00:00,  3.42it/s, 0 cls=0.16845, 1 cls=0.25160, 2 cls=0.34175, bce=0.07622, dice=0.85256, loss=0.23256]\n"
     ]
    },
    {
     "name": "stdout",
     "output_type": "stream",
     "text": [
      "loss: 0.19872 | bce: 0.05172 | dice: 0.86326 | 0 cls: 0.14215 | 1 cls: 0.20298 | 2 cls: 0.30340\n"
     ]
    },
    {
     "name": "stderr",
     "output_type": "stream",
     "text": [
      "Epoch 336, lr 3.75e-05: 100% 39/39 [00:11<00:00,  3.40it/s, 0 cls=0.17594, 1 cls=0.25462, 2 cls=0.34995, bce=0.07707, dice=0.84764, loss=0.23911]\n"
     ]
    },
    {
     "name": "stdout",
     "output_type": "stream",
     "text": [
      "loss: 0.20142 | bce: 0.05388 | dice: 0.86311 | 0 cls: 0.14452 | 1 cls: 0.20529 | 2 cls: 0.30688\n"
     ]
    },
    {
     "name": "stderr",
     "output_type": "stream",
     "text": [
      "Epoch 337, lr 3.75e-05: 100% 39/39 [00:11<00:00,  3.41it/s, 0 cls=0.17464, 1 cls=0.25614, 2 cls=0.34991, bce=0.07758, dice=0.84820, loss=0.23883]\n"
     ]
    },
    {
     "name": "stdout",
     "output_type": "stream",
     "text": [
      "loss: 0.20389 | bce: 0.05229 | dice: 0.86007 | 0 cls: 0.14736 | 1 cls: 0.20749 | 2 cls: 0.30888\n"
     ]
    },
    {
     "name": "stderr",
     "output_type": "stream",
     "text": [
      "Epoch 338, lr 3.75e-05: 100% 39/39 [00:11<00:00,  3.42it/s, 0 cls=0.17573, 1 cls=0.25597, 2 cls=0.35333, bce=0.07728, dice=0.84687, loss=0.24019]\n"
     ]
    },
    {
     "name": "stdout",
     "output_type": "stream",
     "text": [
      "loss: 0.20459 | bce: 0.05418 | dice: 0.86077 | 0 cls: 0.14770 | 1 cls: 0.20831 | 2 cls: 0.31026\n"
     ]
    },
    {
     "name": "stderr",
     "output_type": "stream",
     "text": [
      "Epoch 339, lr 3.75e-05: 100% 39/39 [00:11<00:00,  3.43it/s, 0 cls=0.17021, 1 cls=0.24870, 2 cls=0.34574, bce=0.07692, dice=0.85164, loss=0.23372]\n"
     ]
    },
    {
     "name": "stdout",
     "output_type": "stream",
     "text": [
      "loss: 0.20318 | bce: 0.05315 | dice: 0.86100 | 0 cls: 0.14658 | 1 cls: 0.20600 | 2 cls: 0.30927\n"
     ]
    },
    {
     "name": "stderr",
     "output_type": "stream",
     "text": [
      "Epoch 340, lr 3.75e-05: 100% 39/39 [00:11<00:00,  3.40it/s, 0 cls=0.17497, 1 cls=0.26065, 2 cls=0.35374, bce=0.07754, dice=0.84653, loss=0.24109]\n"
     ]
    },
    {
     "name": "stdout",
     "output_type": "stream",
     "text": [
      "loss: 0.19939 | bce: 0.05217 | dice: 0.86300 | 0 cls: 0.14300 | 1 cls: 0.20346 | 2 cls: 0.30396\n"
     ]
    },
    {
     "name": "stderr",
     "output_type": "stream",
     "text": [
      "Epoch 341, lr 3.75e-05: 100% 39/39 [00:11<00:00,  3.41it/s, 0 cls=0.16533, 1 cls=0.24623, 2 cls=0.34080, bce=0.07507, dice=0.85386, loss=0.22942]\n"
     ]
    },
    {
     "name": "stdout",
     "output_type": "stream",
     "text": [
      "loss: 0.19942 | bce: 0.05200 | dice: 0.86305 | 0 cls: 0.14300 | 1 cls: 0.20353 | 2 cls: 0.30391\n"
     ]
    },
    {
     "name": "stderr",
     "output_type": "stream",
     "text": [
      "Epoch 342, lr 3.75e-05: 100% 39/39 [00:11<00:00,  3.40it/s, 0 cls=0.17550, 1 cls=0.25829, 2 cls=0.35358, bce=0.07792, dice=0.84687, loss=0.24072]\n"
     ]
    },
    {
     "name": "stdout",
     "output_type": "stream",
     "text": [
      "loss: 0.19909 | bce: 0.05265 | dice: 0.86382 | 0 cls: 0.14270 | 1 cls: 0.20259 | 2 cls: 0.30409\n"
     ]
    },
    {
     "name": "stderr",
     "output_type": "stream",
     "text": [
      "Epoch 343, lr 3.75e-05: 100% 39/39 [00:11<00:00,  3.39it/s, 0 cls=0.16495, 1 cls=0.24274, 2 cls=0.33785, bce=0.07503, dice=0.85501, loss=0.22763]\n"
     ]
    },
    {
     "name": "stdout",
     "output_type": "stream",
     "text": [
      "loss: 0.19894 | bce: 0.05216 | dice: 0.86353 | 0 cls: 0.14241 | 1 cls: 0.20297 | 2 cls: 0.30391\n"
     ]
    },
    {
     "name": "stderr",
     "output_type": "stream",
     "text": [
      "Epoch 344, lr 3.75e-05: 100% 39/39 [00:11<00:00,  3.42it/s, 0 cls=0.17158, 1 cls=0.25047, 2 cls=0.34583, bce=0.07733, dice=0.85123, loss=0.23486]\n"
     ]
    },
    {
     "name": "stdout",
     "output_type": "stream",
     "text": [
      "loss: 0.19826 | bce: 0.05258 | dice: 0.86424 | 0 cls: 0.14165 | 1 cls: 0.20210 | 2 cls: 0.30332\n"
     ]
    },
    {
     "name": "stderr",
     "output_type": "stream",
     "text": [
      "Epoch 345, lr 3.75e-05: 100% 39/39 [00:11<00:00,  3.42it/s, 0 cls=0.17719, 1 cls=0.26114, 2 cls=0.35555, bce=0.07797, dice=0.84526, loss=0.24277]\n"
     ]
    },
    {
     "name": "stdout",
     "output_type": "stream",
     "text": [
      "loss: 0.20151 | bce: 0.05327 | dice: 0.86225 | 0 cls: 0.14448 | 1 cls: 0.20534 | 2 cls: 0.30750\n"
     ]
    },
    {
     "name": "stderr",
     "output_type": "stream",
     "text": [
      "Epoch 346, lr 3.75e-05: 100% 39/39 [00:11<00:00,  3.40it/s, 0 cls=0.18060, 1 cls=0.26276, 2 cls=0.35979, bce=0.07942, dice=0.84399, loss=0.24594]\n"
     ]
    },
    {
     "name": "stdout",
     "output_type": "stream",
     "text": [
      "loss: 0.19832 | bce: 0.05189 | dice: 0.86340 | 0 cls: 0.14117 | 1 cls: 0.20335 | 2 cls: 0.30346\n"
     ]
    },
    {
     "name": "stderr",
     "output_type": "stream",
     "text": [
      "Epoch 347, lr 3.75e-05: 100% 39/39 [00:11<00:00,  3.42it/s, 0 cls=0.16764, 1 cls=0.24545, 2 cls=0.33979, bce=0.07534, dice=0.85345, loss=0.23013]\n"
     ]
    },
    {
     "name": "stdout",
     "output_type": "stream",
     "text": [
      "loss: 0.19702 | bce: 0.05256 | dice: 0.86520 | 0 cls: 0.14012 | 1 cls: 0.20175 | 2 cls: 0.30190\n"
     ]
    },
    {
     "name": "stderr",
     "output_type": "stream",
     "text": [
      "Epoch 348, lr 3.75e-05: 100% 39/39 [00:11<00:00,  3.41it/s, 0 cls=0.17182, 1 cls=0.25207, 2 cls=0.34831, bce=0.07647, dice=0.84949, loss=0.23601]\n"
     ]
    },
    {
     "name": "stdout",
     "output_type": "stream",
     "text": [
      "loss: 0.19829 | bce: 0.05201 | dice: 0.86374 | 0 cls: 0.14184 | 1 cls: 0.20260 | 2 cls: 0.30279\n"
     ]
    },
    {
     "name": "stderr",
     "output_type": "stream",
     "text": [
      "Epoch 349, lr 3.75e-05: 100% 39/39 [00:11<00:00,  3.40it/s, 0 cls=0.16743, 1 cls=0.25349, 2 cls=0.34542, bce=0.07633, dice=0.85150, loss=0.23344]\n"
     ]
    },
    {
     "name": "stdout",
     "output_type": "stream",
     "text": [
      "loss: 0.20120 | bce: 0.05288 | dice: 0.86244 | 0 cls: 0.14450 | 1 cls: 0.20408 | 2 cls: 0.30759\n"
     ]
    },
    {
     "name": "stderr",
     "output_type": "stream",
     "text": [
      "Epoch 350, lr 3.75e-05: 100% 39/39 [00:11<00:00,  3.43it/s, 0 cls=0.16829, 1 cls=0.24957, 2 cls=0.34282, bce=0.07580, dice=0.85213, loss=0.23224]\n"
     ]
    },
    {
     "name": "stdout",
     "output_type": "stream",
     "text": [
      "loss: 0.19984 | bce: 0.05211 | dice: 0.86298 | 0 cls: 0.14337 | 1 cls: 0.20372 | 2 cls: 0.30460\n"
     ]
    },
    {
     "name": "stderr",
     "output_type": "stream",
     "text": [
      "Epoch 351, lr 3.75e-05: 100% 39/39 [00:11<00:00,  3.40it/s, 0 cls=0.16549, 1 cls=0.24660, 2 cls=0.33625, bce=0.07444, dice=0.85424, loss=0.22846]\n"
     ]
    },
    {
     "name": "stdout",
     "output_type": "stream",
     "text": [
      "loss: 0.20014 | bce: 0.05259 | dice: 0.86302 | 0 cls: 0.14333 | 1 cls: 0.20434 | 2 cls: 0.30507\n"
     ]
    },
    {
     "name": "stderr",
     "output_type": "stream",
     "text": [
      "Epoch 352, lr 3.75e-05: 100% 39/39 [00:11<00:00,  3.42it/s, 0 cls=0.17077, 1 cls=0.25232, 2 cls=0.34686, bce=0.07731, dice=0.85086, loss=0.23518]\n"
     ]
    },
    {
     "name": "stdout",
     "output_type": "stream",
     "text": [
      "loss: 0.19784 | bce: 0.05204 | dice: 0.86404 | 0 cls: 0.14122 | 1 cls: 0.20258 | 2 cls: 0.30202\n"
     ]
    },
    {
     "name": "stderr",
     "output_type": "stream",
     "text": [
      "Epoch 353, lr 3.75e-05: 100% 39/39 [00:11<00:00,  3.42it/s, 0 cls=0.16670, 1 cls=0.25378, 2 cls=0.34562, bce=0.07608, dice=0.85144, loss=0.23320]\n"
     ]
    },
    {
     "name": "stdout",
     "output_type": "stream",
     "text": [
      "loss: 0.20199 | bce: 0.05204 | dice: 0.86130 | 0 cls: 0.14480 | 1 cls: 0.20674 | 2 cls: 0.30724\n"
     ]
    },
    {
     "name": "stderr",
     "output_type": "stream",
     "text": [
      "Epoch 354, lr 3.75e-05: 100% 39/39 [00:11<00:00,  3.42it/s, 0 cls=0.17767, 1 cls=0.25826, 2 cls=0.35310, bce=0.07851, dice=0.84660, loss=0.24168]\n"
     ]
    },
    {
     "name": "stdout",
     "output_type": "stream",
     "text": [
      "loss: 0.19851 | bce: 0.05269 | dice: 0.86416 | 0 cls: 0.14203 | 1 cls: 0.20277 | 2 cls: 0.30299\n"
     ]
    },
    {
     "name": "stderr",
     "output_type": "stream",
     "text": [
      "Epoch 355, lr 3.75e-05: 100% 39/39 [00:11<00:00,  3.42it/s, 0 cls=0.16699, 1 cls=0.24546, 2 cls=0.34200, bce=0.07646, dice=0.85414, loss=0.23036]\n"
     ]
    },
    {
     "name": "stdout",
     "output_type": "stream",
     "text": [
      "loss: 0.20227 | bce: 0.05221 | dice: 0.86116 | 0 cls: 0.14624 | 1 cls: 0.20536 | 2 cls: 0.30695\n"
     ]
    },
    {
     "name": "stderr",
     "output_type": "stream",
     "text": [
      "Epoch 356, lr 3.75e-05: 100% 39/39 [00:11<00:00,  3.42it/s, 0 cls=0.17071, 1 cls=0.25001, 2 cls=0.34399, bce=0.07615, dice=0.85116, loss=0.23386]\n"
     ]
    },
    {
     "name": "stdout",
     "output_type": "stream",
     "text": [
      "loss: 0.20152 | bce: 0.05327 | dice: 0.86251 | 0 cls: 0.14521 | 1 cls: 0.20434 | 2 cls: 0.30707\n"
     ]
    },
    {
     "name": "stderr",
     "output_type": "stream",
     "text": [
      "Epoch 357, lr 3.75e-05: 100% 39/39 [00:11<00:00,  3.41it/s, 0 cls=0.16611, 1 cls=0.24673, 2 cls=0.33895, bce=0.07546, dice=0.85424, loss=0.22947]\n"
     ]
    },
    {
     "name": "stdout",
     "output_type": "stream",
     "text": [
      "loss: 0.20018 | bce: 0.05254 | dice: 0.86285 | 0 cls: 0.14318 | 1 cls: 0.20471 | 2 cls: 0.30520\n"
     ]
    },
    {
     "name": "stderr",
     "output_type": "stream",
     "text": [
      "Epoch 358, lr 3.75e-05: 100% 39/39 [00:11<00:00,  3.40it/s, 0 cls=0.16835, 1 cls=0.24823, 2 cls=0.33894, bce=0.07607, dice=0.85351, loss=0.23097]\n"
     ]
    },
    {
     "name": "stdout",
     "output_type": "stream",
     "text": [
      "loss: 0.19905 | bce: 0.05234 | dice: 0.86349 | 0 cls: 0.14244 | 1 cls: 0.20234 | 2 cls: 0.30466\n"
     ]
    },
    {
     "name": "stderr",
     "output_type": "stream",
     "text": [
      "Epoch 359, lr 3.75e-05: 100% 39/39 [00:11<00:00,  3.41it/s, 0 cls=0.17222, 1 cls=0.24879, 2 cls=0.34394, bce=0.07695, dice=0.85136, loss=0.23429]\n"
     ]
    },
    {
     "name": "stdout",
     "output_type": "stream",
     "text": [
      "loss: 0.19831 | bce: 0.05271 | dice: 0.86415 | 0 cls: 0.14150 | 1 cls: 0.20242 | 2 cls: 0.30360\n"
     ]
    },
    {
     "name": "stderr",
     "output_type": "stream",
     "text": [
      "Epoch 360, lr 3.75e-05: 100% 39/39 [00:11<00:00,  3.41it/s, 0 cls=0.17195, 1 cls=0.24899, 2 cls=0.34648, bce=0.07562, dice=0.84968, loss=0.23484]\n"
     ]
    },
    {
     "name": "stdout",
     "output_type": "stream",
     "text": [
      "loss: 0.19727 | bce: 0.05223 | dice: 0.86483 | 0 cls: 0.14064 | 1 cls: 0.20208 | 2 cls: 0.30140\n"
     ]
    },
    {
     "name": "stderr",
     "output_type": "stream",
     "text": [
      "Epoch 361, lr 3.75e-05: 100% 39/39 [00:11<00:00,  3.40it/s, 0 cls=0.17062, 1 cls=0.24795, 2 cls=0.34378, bce=0.07724, dice=0.85257, loss=0.23324]\n"
     ]
    },
    {
     "name": "stdout",
     "output_type": "stream",
     "text": [
      "loss: 0.19851 | bce: 0.05164 | dice: 0.86323 | 0 cls: 0.14188 | 1 cls: 0.20214 | 2 cls: 0.30390\n"
     ]
    },
    {
     "name": "stderr",
     "output_type": "stream",
     "text": [
      "Epoch 362, lr 3.75e-05: 100% 39/39 [00:11<00:00,  3.41it/s, 0 cls=0.17145, 1 cls=0.24508, 2 cls=0.34229, bce=0.07626, dice=0.85225, loss=0.23257]\n"
     ]
    },
    {
     "name": "stdout",
     "output_type": "stream",
     "text": [
      "loss: 0.19972 | bce: 0.05205 | dice: 0.86279 | 0 cls: 0.14305 | 1 cls: 0.20363 | 2 cls: 0.30472\n"
     ]
    },
    {
     "name": "stderr",
     "output_type": "stream",
     "text": [
      "Epoch 363, lr 3.75e-05: 100% 39/39 [00:11<00:00,  3.40it/s, 0 cls=0.17437, 1 cls=0.25319, 2 cls=0.34748, bce=0.07728, dice=0.84947, loss=0.23735]\n"
     ]
    },
    {
     "name": "stdout",
     "output_type": "stream",
     "text": [
      "loss: 0.19909 | bce: 0.05191 | dice: 0.86329 | 0 cls: 0.14317 | 1 cls: 0.20189 | 2 cls: 0.30375\n"
     ]
    },
    {
     "name": "stderr",
     "output_type": "stream",
     "text": [
      "Epoch 364, lr 3.75e-05: 100% 39/39 [00:11<00:00,  3.41it/s, 0 cls=0.16926, 1 cls=0.24734, 2 cls=0.34192, bce=0.07596, dice=0.85227, loss=0.23195]\n"
     ]
    },
    {
     "name": "stdout",
     "output_type": "stream",
     "text": [
      "loss: 0.19815 | bce: 0.05143 | dice: 0.86354 | 0 cls: 0.14186 | 1 cls: 0.20191 | 2 cls: 0.30266\n"
     ]
    },
    {
     "name": "stderr",
     "output_type": "stream",
     "text": [
      "Epoch 365, lr 3.75e-05: 100% 39/39 [00:11<00:00,  3.42it/s, 0 cls=0.17227, 1 cls=0.25304, 2 cls=0.34752, bce=0.07650, dice=0.84932, loss=0.23628]\n"
     ]
    },
    {
     "name": "stdout",
     "output_type": "stream",
     "text": [
      "loss: 0.19946 | bce: 0.05301 | dice: 0.86374 | 0 cls: 0.14304 | 1 cls: 0.20312 | 2 cls: 0.30433\n"
     ]
    },
    {
     "name": "stderr",
     "output_type": "stream",
     "text": [
      "Epoch 366, lr 3.75e-05: 100% 39/39 [00:11<00:00,  3.43it/s, 0 cls=0.17284, 1 cls=0.25678, 2 cls=0.35148, bce=0.07740, dice=0.84807, loss=0.23848]\n"
     ]
    },
    {
     "name": "stdout",
     "output_type": "stream",
     "text": [
      "loss: 0.19829 | bce: 0.05198 | dice: 0.86363 | 0 cls: 0.14189 | 1 cls: 0.20177 | 2 cls: 0.30325\n"
     ]
    },
    {
     "name": "stderr",
     "output_type": "stream",
     "text": [
      "Epoch 367, lr 3.75e-05: 100% 39/39 [00:11<00:00,  3.42it/s, 0 cls=0.17200, 1 cls=0.25603, 2 cls=0.34989, bce=0.07602, dice=0.84807, loss=0.23748]\n"
     ]
    },
    {
     "name": "stdout",
     "output_type": "stream",
     "text": [
      "loss: 0.19725 | bce: 0.05253 | dice: 0.86511 | 0 cls: 0.14116 | 1 cls: 0.20114 | 2 cls: 0.30141\n"
     ]
    },
    {
     "name": "stderr",
     "output_type": "stream",
     "text": [
      "Epoch 368, lr 3.75e-05: 100% 39/39 [00:11<00:00,  3.40it/s, 0 cls=0.18268, 1 cls=0.26559, 2 cls=0.36155, bce=0.08030, dice=0.84315, loss=0.24812]\n"
     ]
    },
    {
     "name": "stdout",
     "output_type": "stream",
     "text": [
      "loss: 0.19805 | bce: 0.05184 | dice: 0.86375 | 0 cls: 0.14193 | 1 cls: 0.20078 | 2 cls: 0.30331\n"
     ]
    },
    {
     "name": "stderr",
     "output_type": "stream",
     "text": [
      "Epoch 369, lr 3.75e-05: 100% 39/39 [00:11<00:00,  3.43it/s, 0 cls=0.16998, 1 cls=0.25364, 2 cls=0.34516, bce=0.07684, dice=0.85104, loss=0.23469]\n"
     ]
    },
    {
     "name": "stdout",
     "output_type": "stream",
     "text": [
      "loss: 0.20046 | bce: 0.05272 | dice: 0.86266 | 0 cls: 0.14364 | 1 cls: 0.20431 | 2 cls: 0.30591\n"
     ]
    },
    {
     "name": "stderr",
     "output_type": "stream",
     "text": [
      "Epoch 370, lr 3.75e-05: 100% 39/39 [00:11<00:00,  3.41it/s, 0 cls=0.17443, 1 cls=0.25853, 2 cls=0.35275, bce=0.07829, dice=0.84808, loss=0.24004]\n"
     ]
    },
    {
     "name": "stdout",
     "output_type": "stream",
     "text": [
      "loss: 0.19797 | bce: 0.05234 | dice: 0.86430 | 0 cls: 0.14164 | 1 cls: 0.20178 | 2 cls: 0.30240\n"
     ]
    },
    {
     "name": "stderr",
     "output_type": "stream",
     "text": [
      "Epoch 371, lr 3.75e-05: 100% 39/39 [00:11<00:00,  3.39it/s, 0 cls=0.16412, 1 cls=0.24445, 2 cls=0.33762, bce=0.07427, dice=0.85449, loss=0.22758]\n"
     ]
    },
    {
     "name": "stdout",
     "output_type": "stream",
     "text": [
      "loss: 0.19881 | bce: 0.05302 | dice: 0.86411 | 0 cls: 0.14204 | 1 cls: 0.20302 | 2 cls: 0.30383\n"
     ]
    },
    {
     "name": "stderr",
     "output_type": "stream",
     "text": [
      "Epoch 372, lr 3.75e-05: 100% 39/39 [00:11<00:00,  3.42it/s, 0 cls=0.17002, 1 cls=0.24772, 2 cls=0.34023, bce=0.07575, dice=0.85231, loss=0.23199]\n"
     ]
    },
    {
     "name": "stdout",
     "output_type": "stream",
     "text": [
      "loss: 0.19989 | bce: 0.05226 | dice: 0.86271 | 0 cls: 0.14355 | 1 cls: 0.20397 | 2 cls: 0.30430\n"
     ]
    },
    {
     "name": "stderr",
     "output_type": "stream",
     "text": [
      "Epoch 373, lr 3.75e-05: 100% 39/39 [00:11<00:00,  3.41it/s, 0 cls=0.16880, 1 cls=0.24667, 2 cls=0.34021, bce=0.07562, dice=0.85285, loss=0.23112]\n"
     ]
    },
    {
     "name": "stdout",
     "output_type": "stream",
     "text": [
      "loss: 0.19675 | bce: 0.05208 | dice: 0.86500 | 0 cls: 0.14044 | 1 cls: 0.20069 | 2 cls: 0.30113\n"
     ]
    },
    {
     "name": "stderr",
     "output_type": "stream",
     "text": [
      "Epoch 374, lr 3.75e-05: 100% 39/39 [00:11<00:00,  3.40it/s, 0 cls=0.17326, 1 cls=0.25533, 2 cls=0.34676, bce=0.07637, dice=0.84888, loss=0.23715]\n"
     ]
    },
    {
     "name": "stdout",
     "output_type": "stream",
     "text": [
      "loss: 0.19700 | bce: 0.05270 | dice: 0.86518 | 0 cls: 0.14098 | 1 cls: 0.19991 | 2 cls: 0.30174\n"
     ]
    },
    {
     "name": "stderr",
     "output_type": "stream",
     "text": [
      "Epoch 375, lr 3.75e-05: 100% 39/39 [00:11<00:00,  3.40it/s, 0 cls=0.17139, 1 cls=0.25627, 2 cls=0.34666, bce=0.07722, dice=0.84996, loss=0.23643]\n"
     ]
    },
    {
     "name": "stdout",
     "output_type": "stream",
     "text": [
      "loss: 0.19928 | bce: 0.05301 | dice: 0.86398 | 0 cls: 0.14306 | 1 cls: 0.20260 | 2 cls: 0.30401\n"
     ]
    },
    {
     "name": "stderr",
     "output_type": "stream",
     "text": [
      "Epoch 376, lr 3.75e-05: 100% 39/39 [00:11<00:00,  3.44it/s, 0 cls=0.16853, 1 cls=0.25163, 2 cls=0.34337, bce=0.07603, dice=0.85168, loss=0.23302]\n"
     ]
    },
    {
     "name": "stdout",
     "output_type": "stream",
     "text": [
      "loss: 0.20145 | bce: 0.05318 | dice: 0.86221 | 0 cls: 0.14485 | 1 cls: 0.20455 | 2 cls: 0.30729\n"
     ]
    },
    {
     "name": "stderr",
     "output_type": "stream",
     "text": [
      "Epoch 377, lr 3.75e-05: 100% 39/39 [00:11<00:00,  3.41it/s, 0 cls=0.16986, 1 cls=0.25306, 2 cls=0.34729, bce=0.07649, dice=0.85044, loss=0.23502]\n"
     ]
    },
    {
     "name": "stdout",
     "output_type": "stream",
     "text": [
      "loss: 0.19856 | bce: 0.05262 | dice: 0.86412 | 0 cls: 0.14258 | 1 cls: 0.20063 | 2 cls: 0.30421\n"
     ]
    },
    {
     "name": "stderr",
     "output_type": "stream",
     "text": [
      "Epoch 378, lr 3.75e-05: 100% 39/39 [00:11<00:00,  3.40it/s, 0 cls=0.17315, 1 cls=0.25536, 2 cls=0.34939, bce=0.07756, dice=0.84897, loss=0.23776]\n"
     ]
    },
    {
     "name": "stdout",
     "output_type": "stream",
     "text": [
      "loss: 0.19863 | bce: 0.05216 | dice: 0.86371 | 0 cls: 0.14227 | 1 cls: 0.20248 | 2 cls: 0.30317\n"
     ]
    },
    {
     "name": "stderr",
     "output_type": "stream",
     "text": [
      "Epoch 379, lr 3.75e-05: 100% 39/39 [00:11<00:00,  3.41it/s, 0 cls=0.17451, 1 cls=0.25827, 2 cls=0.35169, bce=0.07748, dice=0.84766, loss=0.23974]\n"
     ]
    },
    {
     "name": "stdout",
     "output_type": "stream",
     "text": [
      "loss: 0.19759 | bce: 0.05175 | dice: 0.86407 | 0 cls: 0.14118 | 1 cls: 0.20175 | 2 cls: 0.30194\n"
     ]
    },
    {
     "name": "stderr",
     "output_type": "stream",
     "text": [
      "Epoch 380, lr 3.75e-05: 100% 39/39 [00:11<00:00,  3.39it/s, 0 cls=0.17442, 1 cls=0.25455, 2 cls=0.34955, bce=0.07700, dice=0.84795, loss=0.23823]\n"
     ]
    },
    {
     "name": "stdout",
     "output_type": "stream",
     "text": [
      "loss: 0.19571 | bce: 0.05200 | dice: 0.86583 | 0 cls: 0.13930 | 1 cls: 0.20039 | 2 cls: 0.29948\n"
     ]
    },
    {
     "name": "stderr",
     "output_type": "stream",
     "text": [
      "Epoch 381, lr 3.75e-05: 100% 39/39 [00:11<00:00,  3.41it/s, 0 cls=0.16564, 1 cls=0.24802, 2 cls=0.33937, bce=0.07504, dice=0.85381, loss=0.22967]\n"
     ]
    },
    {
     "name": "stdout",
     "output_type": "stream",
     "text": [
      "loss: 0.19481 | bce: 0.05230 | dice: 0.86695 | 0 cls: 0.13862 | 1 cls: 0.19917 | 2 cls: 0.29845\n"
     ]
    },
    {
     "name": "stderr",
     "output_type": "stream",
     "text": [
      "Epoch 382, lr 3.75e-05: 100% 39/39 [00:11<00:00,  3.42it/s, 0 cls=0.16851, 1 cls=0.24716, 2 cls=0.33930, bce=0.07479, dice=0.85239, loss=0.23087]\n"
     ]
    },
    {
     "name": "stdout",
     "output_type": "stream",
     "text": [
      "loss: 0.19679 | bce: 0.05314 | dice: 0.86598 | 0 cls: 0.14052 | 1 cls: 0.20094 | 2 cls: 0.30074\n"
     ]
    },
    {
     "name": "stderr",
     "output_type": "stream",
     "text": [
      "Epoch 383, lr 3.75e-05: 100% 39/39 [00:11<00:00,  3.41it/s, 0 cls=0.16494, 1 cls=0.24759, 2 cls=0.33917, bce=0.07445, dice=0.85346, loss=0.22916]\n"
     ]
    },
    {
     "name": "stdout",
     "output_type": "stream",
     "text": [
      "loss: 0.20143 | bce: 0.05442 | dice: 0.86350 | 0 cls: 0.14505 | 1 cls: 0.20503 | 2 cls: 0.30628\n"
     ]
    },
    {
     "name": "stderr",
     "output_type": "stream",
     "text": [
      "Epoch 384, lr 3.75e-05: 100% 39/39 [00:11<00:00,  3.39it/s, 0 cls=0.16662, 1 cls=0.24953, 2 cls=0.34409, bce=0.07562, dice=0.85230, loss=0.23172]\n"
     ]
    },
    {
     "name": "stdout",
     "output_type": "stream",
     "text": [
      "loss: 0.19762 | bce: 0.05120 | dice: 0.86390 | 0 cls: 0.14145 | 1 cls: 0.20155 | 2 cls: 0.30166\n"
     ]
    },
    {
     "name": "stderr",
     "output_type": "stream",
     "text": [
      "Epoch 385, lr 3.75e-05: 100% 39/39 [00:11<00:00,  3.40it/s, 0 cls=0.17165, 1 cls=0.25132, 2 cls=0.34516, bce=0.07749, dice=0.85142, loss=0.23494]\n"
     ]
    },
    {
     "name": "stdout",
     "output_type": "stream",
     "text": [
      "loss: 0.19600 | bce: 0.05119 | dice: 0.86508 | 0 cls: 0.13928 | 1 cls: 0.20135 | 2 cls: 0.29954\n"
     ]
    },
    {
     "name": "stderr",
     "output_type": "stream",
     "text": [
      "Epoch 386, lr 3.75e-05: 100% 39/39 [00:11<00:00,  3.41it/s, 0 cls=0.16675, 1 cls=0.24615, 2 cls=0.33864, bce=0.07533, dice=0.85395, loss=0.22957]\n"
     ]
    },
    {
     "name": "stdout",
     "output_type": "stream",
     "text": [
      "loss: 0.19958 | bce: 0.05224 | dice: 0.86295 | 0 cls: 0.14336 | 1 cls: 0.20303 | 2 cls: 0.30434\n"
     ]
    },
    {
     "name": "stderr",
     "output_type": "stream",
     "text": [
      "Epoch 387, lr 3.75e-05: 100% 39/39 [00:11<00:00,  3.42it/s, 0 cls=0.17227, 1 cls=0.25489, 2 cls=0.34718, bce=0.07580, dice=0.84872, loss=0.23665]\n"
     ]
    },
    {
     "name": "stdout",
     "output_type": "stream",
     "text": [
      "loss: 0.19935 | bce: 0.05307 | dice: 0.86398 | 0 cls: 0.14294 | 1 cls: 0.20322 | 2 cls: 0.30377\n"
     ]
    },
    {
     "name": "stderr",
     "output_type": "stream",
     "text": [
      "Epoch 388, lr 3.75e-05: 100% 39/39 [00:11<00:00,  3.39it/s, 0 cls=0.17105, 1 cls=0.25155, 2 cls=0.34597, bce=0.07662, dice=0.85046, loss=0.23491]\n"
     ]
    },
    {
     "name": "stdout",
     "output_type": "stream",
     "text": [
      "loss: 0.19989 | bce: 0.05251 | dice: 0.86313 | 0 cls: 0.14384 | 1 cls: 0.20305 | 2 cls: 0.30467\n"
     ]
    },
    {
     "name": "stderr",
     "output_type": "stream",
     "text": [
      "Epoch 389, lr 3.75e-05: 100% 39/39 [00:11<00:00,  3.42it/s, 0 cls=0.16160, 1 cls=0.23881, 2 cls=0.33130, bce=0.07283, dice=0.85696, loss=0.22333]\n"
     ]
    },
    {
     "name": "stdout",
     "output_type": "stream",
     "text": [
      "loss: 0.19883 | bce: 0.05275 | dice: 0.86391 | 0 cls: 0.14213 | 1 cls: 0.20397 | 2 cls: 0.30289\n"
     ]
    },
    {
     "name": "stderr",
     "output_type": "stream",
     "text": [
      "Epoch 390, lr 0.00034299999999999993: 100% 39/39 [00:11<00:00,  3.40it/s, 0 cls=0.18185, 1 cls=0.25616, 2 cls=0.36438, bce=0.07980, dice=0.84343, loss=0.24606]\n"
     ]
    },
    {
     "name": "stdout",
     "output_type": "stream",
     "text": [
      "loss: 0.20681 | bce: 0.05273 | dice: 0.85638 | 0 cls: 0.14531 | 1 cls: 0.21536 | 2 cls: 0.31640\n"
     ]
    },
    {
     "name": "stderr",
     "output_type": "stream",
     "text": [
      "Epoch 391, lr 0.00034299999999999993: 100% 39/39 [00:11<00:00,  3.41it/s, 0 cls=0.18049, 1 cls=0.26137, 2 cls=0.36065, bce=0.08035, dice=0.84455, loss=0.24575]\n"
     ]
    },
    {
     "name": "stdout",
     "output_type": "stream",
     "text": [
      "loss: 0.20778 | bce: 0.05333 | dice: 0.85685 | 0 cls: 0.15010 | 1 cls: 0.20734 | 2 cls: 0.31829\n"
     ]
    },
    {
     "name": "stderr",
     "output_type": "stream",
     "text": [
      "Epoch 392, lr 0.00010289999999999998: 100% 39/39 [00:11<00:00,  3.41it/s, 0 cls=0.18052, 1 cls=0.26760, 2 cls=0.36394, bce=0.08016, dice=0.84235, loss=0.24815]\n"
     ]
    },
    {
     "name": "stdout",
     "output_type": "stream",
     "text": [
      "loss: 0.19915 | bce: 0.05281 | dice: 0.86343 | 0 cls: 0.14190 | 1 cls: 0.20388 | 2 cls: 0.30418\n"
     ]
    },
    {
     "name": "stderr",
     "output_type": "stream",
     "text": [
      "Epoch 393, lr 0.00010289999999999998: 100% 39/39 [00:11<00:00,  3.41it/s, 0 cls=0.17081, 1 cls=0.25524, 2 cls=0.35099, bce=0.07782, dice=0.84971, loss=0.23696]\n"
     ]
    },
    {
     "name": "stdout",
     "output_type": "stream",
     "text": [
      "loss: 0.20007 | bce: 0.05298 | dice: 0.86287 | 0 cls: 0.14313 | 1 cls: 0.20401 | 2 cls: 0.30566\n"
     ]
    },
    {
     "name": "stderr",
     "output_type": "stream",
     "text": [
      "Epoch 394, lr 3.0869999999999994e-05: 100% 39/39 [00:11<00:00,  3.42it/s, 0 cls=0.17186, 1 cls=0.25857, 2 cls=0.35260, bce=0.07658, dice=0.84752, loss=0.23872]\n"
     ]
    },
    {
     "name": "stdout",
     "output_type": "stream",
     "text": [
      "loss: 0.19810 | bce: 0.05299 | dice: 0.86473 | 0 cls: 0.14136 | 1 cls: 0.20177 | 2 cls: 0.30333\n"
     ]
    },
    {
     "name": "stderr",
     "output_type": "stream",
     "text": [
      "Epoch 395, lr 0.00034299999999999993: 100% 39/39 [00:11<00:00,  3.42it/s, 0 cls=0.17726, 1 cls=0.25919, 2 cls=0.35639, bce=0.07933, dice=0.84643, loss=0.24253]\n"
     ]
    },
    {
     "name": "stdout",
     "output_type": "stream",
     "text": [
      "loss: 0.21118 | bce: 0.05527 | dice: 0.85455 | 0 cls: 0.15372 | 1 cls: 0.20951 | 2 cls: 0.32303\n"
     ]
    },
    {
     "name": "stderr",
     "output_type": "stream",
     "text": [
      "Epoch 396, lr 0.00034299999999999993: 100% 39/39 [00:11<00:00,  3.42it/s, 0 cls=0.18095, 1 cls=0.26402, 2 cls=0.36330, bce=0.07978, dice=0.84290, loss=0.24730]\n"
     ]
    },
    {
     "name": "stdout",
     "output_type": "stream",
     "text": [
      "loss: 0.21528 | bce: 0.05774 | dice: 0.85357 | 0 cls: 0.15554 | 1 cls: 0.21456 | 2 cls: 0.33023\n"
     ]
    },
    {
     "name": "stderr",
     "output_type": "stream",
     "text": [
      "Epoch 397, lr 0.00010289999999999998: 100% 39/39 [00:11<00:00,  3.41it/s, 0 cls=0.17299, 1 cls=0.25289, 2 cls=0.35246, bce=0.07814, dice=0.84895, loss=0.23783]\n"
     ]
    },
    {
     "name": "stdout",
     "output_type": "stream",
     "text": [
      "loss: 0.20571 | bce: 0.05269 | dice: 0.85850 | 0 cls: 0.14823 | 1 cls: 0.21095 | 2 cls: 0.31132\n"
     ]
    },
    {
     "name": "stderr",
     "output_type": "stream",
     "text": [
      "Epoch 398, lr 0.00010289999999999998: 100% 39/39 [00:11<00:00,  3.40it/s, 0 cls=0.17260, 1 cls=0.25400, 2 cls=0.35180, bce=0.07726, dice=0.84853, loss=0.23775]\n"
     ]
    },
    {
     "name": "stdout",
     "output_type": "stream",
     "text": [
      "loss: 0.20309 | bce: 0.04936 | dice: 0.85817 | 0 cls: 0.14524 | 1 cls: 0.20819 | 2 cls: 0.30911\n"
     ]
    },
    {
     "name": "stderr",
     "output_type": "stream",
     "text": [
      "Epoch 399, lr 3.0869999999999994e-05: 100% 39/39 [00:11<00:00,  3.42it/s, 0 cls=0.16715, 1 cls=0.24303, 2 cls=0.33976, bce=0.07475, dice=0.85364, loss=0.22928]\n"
     ]
    },
    {
     "name": "stdout",
     "output_type": "stream",
     "text": [
      "loss: 0.19765 | bce: 0.05152 | dice: 0.86386 | 0 cls: 0.14073 | 1 cls: 0.20302 | 2 cls: 0.30187\n"
     ]
    },
    {
     "name": "stderr",
     "output_type": "stream",
     "text": [
      "Epoch 400, lr 1.875e-05: 100% 39/39 [00:11<00:00,  3.41it/s, 0 cls=0.17926, 1 cls=0.25848, 2 cls=0.35977, bce=0.08025, dice=0.84575, loss=0.24419]\n"
     ]
    },
    {
     "name": "stdout",
     "output_type": "stream",
     "text": [
      "loss: 0.19712 | bce: 0.05115 | dice: 0.86378 | 0 cls: 0.14063 | 1 cls: 0.20149 | 2 cls: 0.30149\n"
     ]
    },
    {
     "name": "stderr",
     "output_type": "stream",
     "text": [
      "Epoch 401, lr 1.875e-05: 100% 39/39 [00:11<00:00,  3.40it/s, 0 cls=0.17467, 1 cls=0.25331, 2 cls=0.34679, bce=0.07872, dice=0.85059, loss=0.23736]\n"
     ]
    },
    {
     "name": "stdout",
     "output_type": "stream",
     "text": [
      "loss: 0.19844 | bce: 0.05128 | dice: 0.86311 | 0 cls: 0.14173 | 1 cls: 0.20265 | 2 cls: 0.30338\n"
     ]
    },
    {
     "name": "stderr",
     "output_type": "stream",
     "text": [
      "Epoch 402, lr 1.875e-05: 100% 39/39 [00:11<00:00,  3.41it/s, 0 cls=0.16959, 1 cls=0.24992, 2 cls=0.34307, bce=0.07578, dice=0.85159, loss=0.23304]\n"
     ]
    },
    {
     "name": "stdout",
     "output_type": "stream",
     "text": [
      "loss: 0.19825 | bce: 0.05167 | dice: 0.86351 | 0 cls: 0.14168 | 1 cls: 0.20231 | 2 cls: 0.30318\n"
     ]
    },
    {
     "name": "stderr",
     "output_type": "stream",
     "text": [
      "Epoch 403, lr 1.875e-05: 100% 39/39 [00:11<00:00,  3.41it/s, 0 cls=0.16847, 1 cls=0.25170, 2 cls=0.34507, bce=0.07521, dice=0.85059, loss=0.23343]\n"
     ]
    },
    {
     "name": "stdout",
     "output_type": "stream",
     "text": [
      "loss: 0.19724 | bce: 0.05157 | dice: 0.86425 | 0 cls: 0.14078 | 1 cls: 0.20120 | 2 cls: 0.30202\n"
     ]
    },
    {
     "name": "stderr",
     "output_type": "stream",
     "text": [
      "Epoch 404, lr 1.875e-05: 100% 39/39 [00:11<00:00,  3.42it/s, 0 cls=0.17981, 1 cls=0.26076, 2 cls=0.35555, bce=0.07768, dice=0.84419, loss=0.24398]\n"
     ]
    },
    {
     "name": "stdout",
     "output_type": "stream",
     "text": [
      "loss: 0.19647 | bce: 0.05131 | dice: 0.86466 | 0 cls: 0.13991 | 1 cls: 0.20116 | 2 cls: 0.30070\n"
     ]
    },
    {
     "name": "stderr",
     "output_type": "stream",
     "text": [
      "Epoch 405, lr 1.875e-05: 100% 39/39 [00:11<00:00,  3.43it/s, 0 cls=0.16713, 1 cls=0.24661, 2 cls=0.34087, bce=0.07599, dice=0.85371, loss=0.23043]\n"
     ]
    },
    {
     "name": "stdout",
     "output_type": "stream",
     "text": [
      "loss: 0.19838 | bce: 0.05150 | dice: 0.86336 | 0 cls: 0.14199 | 1 cls: 0.20195 | 2 cls: 0.30334\n"
     ]
    },
    {
     "name": "stderr",
     "output_type": "stream",
     "text": [
      "Epoch 406, lr 1.875e-05: 100% 39/39 [00:11<00:00,  3.41it/s, 0 cls=0.16541, 1 cls=0.24826, 2 cls=0.34119, bce=0.07524, dice=0.85344, loss=0.23007]\n"
     ]
    },
    {
     "name": "stdout",
     "output_type": "stream",
     "text": [
      "loss: 0.19744 | bce: 0.05145 | dice: 0.86411 | 0 cls: 0.14114 | 1 cls: 0.20115 | 2 cls: 0.30195\n"
     ]
    },
    {
     "name": "stderr",
     "output_type": "stream",
     "text": [
      "Epoch 407, lr 1.875e-05: 100% 39/39 [00:11<00:00,  3.41it/s, 0 cls=0.16825, 1 cls=0.25292, 2 cls=0.34323, bce=0.07584, dice=0.85163, loss=0.23316]\n"
     ]
    },
    {
     "name": "stdout",
     "output_type": "stream",
     "text": [
      "loss: 0.19847 | bce: 0.05190 | dice: 0.86357 | 0 cls: 0.14205 | 1 cls: 0.20207 | 2 cls: 0.30350\n"
     ]
    },
    {
     "name": "stderr",
     "output_type": "stream",
     "text": [
      "Epoch 408, lr 1.875e-05: 100% 39/39 [00:11<00:00,  3.41it/s, 0 cls=0.16854, 1 cls=0.25010, 2 cls=0.34368, bce=0.07590, dice=0.85189, loss=0.23272]\n"
     ]
    },
    {
     "name": "stdout",
     "output_type": "stream",
     "text": [
      "loss: 0.20047 | bce: 0.05282 | dice: 0.86282 | 0 cls: 0.14392 | 1 cls: 0.20363 | 2 cls: 0.30606\n"
     ]
    },
    {
     "name": "stderr",
     "output_type": "stream",
     "text": [
      "Epoch 409, lr 1.875e-05: 100% 39/39 [00:11<00:00,  3.42it/s, 0 cls=0.17019, 1 cls=0.25267, 2 cls=0.34605, bce=0.07681, dice=0.85090, loss=0.23478]\n"
     ]
    },
    {
     "name": "stdout",
     "output_type": "stream",
     "text": [
      "loss: 0.19827 | bce: 0.05170 | dice: 0.86358 | 0 cls: 0.14184 | 1 cls: 0.20218 | 2 cls: 0.30309\n"
     ]
    },
    {
     "name": "stderr",
     "output_type": "stream",
     "text": [
      "Epoch 410, lr 1.875e-05: 100% 39/39 [00:11<00:00,  3.41it/s, 0 cls=0.16596, 1 cls=0.24782, 2 cls=0.34046, bce=0.07506, dice=0.85304, loss=0.23005]\n"
     ]
    },
    {
     "name": "stdout",
     "output_type": "stream",
     "text": [
      "loss: 0.19974 | bce: 0.05204 | dice: 0.86272 | 0 cls: 0.14315 | 1 cls: 0.20301 | 2 cls: 0.30544\n"
     ]
    },
    {
     "name": "stderr",
     "output_type": "stream",
     "text": [
      "Epoch 411, lr 1.875e-05: 100% 39/39 [00:11<00:00,  3.41it/s, 0 cls=0.16940, 1 cls=0.25358, 2 cls=0.34828, bce=0.07698, dice=0.85059, loss=0.23516]\n"
     ]
    },
    {
     "name": "stdout",
     "output_type": "stream",
     "text": [
      "loss: 0.19627 | bce: 0.05241 | dice: 0.86559 | 0 cls: 0.14017 | 1 cls: 0.19981 | 2 cls: 0.30085\n"
     ]
    },
    {
     "name": "stderr",
     "output_type": "stream",
     "text": [
      "Epoch 412, lr 1.875e-05: 100% 39/39 [00:11<00:00,  3.41it/s, 0 cls=0.17124, 1 cls=0.25062, 2 cls=0.34652, bce=0.07660, dice=0.85063, loss=0.23491]\n"
     ]
    },
    {
     "name": "stdout",
     "output_type": "stream",
     "text": [
      "loss: 0.19844 | bce: 0.05202 | dice: 0.86365 | 0 cls: 0.14218 | 1 cls: 0.20196 | 2 cls: 0.30318\n"
     ]
    },
    {
     "name": "stderr",
     "output_type": "stream",
     "text": [
      "Epoch 413, lr 1.875e-05: 100% 39/39 [00:11<00:00,  3.42it/s, 0 cls=0.17252, 1 cls=0.25677, 2 cls=0.34911, bce=0.07799, dice=0.84940, loss=0.23773]\n"
     ]
    },
    {
     "name": "stdout",
     "output_type": "stream",
     "text": [
      "loss: 0.19569 | bce: 0.05142 | dice: 0.86528 | 0 cls: 0.13954 | 1 cls: 0.19990 | 2 cls: 0.29957\n"
     ]
    },
    {
     "name": "stderr",
     "output_type": "stream",
     "text": [
      "Epoch 414, lr 1.875e-05: 100% 39/39 [00:11<00:00,  3.42it/s, 0 cls=0.16539, 1 cls=0.24290, 2 cls=0.33599, bce=0.07387, dice=0.85429, loss=0.22742]\n"
     ]
    },
    {
     "name": "stdout",
     "output_type": "stream",
     "text": [
      "loss: 0.19510 | bce: 0.05096 | dice: 0.86559 | 0 cls: 0.13874 | 1 cls: 0.19953 | 2 cls: 0.29927\n"
     ]
    },
    {
     "name": "stderr",
     "output_type": "stream",
     "text": [
      "Epoch 415, lr 1.875e-05: 100% 39/39 [00:11<00:00,  3.42it/s, 0 cls=0.16929, 1 cls=0.25099, 2 cls=0.34265, bce=0.07578, dice=0.85156, loss=0.23306]\n"
     ]
    },
    {
     "name": "stdout",
     "output_type": "stream",
     "text": [
      "loss: 0.19764 | bce: 0.05140 | dice: 0.86387 | 0 cls: 0.14146 | 1 cls: 0.20158 | 2 cls: 0.30183\n"
     ]
    },
    {
     "name": "stderr",
     "output_type": "stream",
     "text": [
      "Epoch 416, lr 1.875e-05: 100% 39/39 [00:11<00:00,  3.42it/s, 0 cls=0.17298, 1 cls=0.25379, 2 cls=0.34968, bce=0.07667, dice=0.84852, loss=0.23736]\n"
     ]
    },
    {
     "name": "stdout",
     "output_type": "stream",
     "text": [
      "loss: 0.19728 | bce: 0.05137 | dice: 0.86412 | 0 cls: 0.14070 | 1 cls: 0.20129 | 2 cls: 0.30210\n"
     ]
    },
    {
     "name": "stderr",
     "output_type": "stream",
     "text": [
      "Epoch 417, lr 1.875e-05: 100% 39/39 [00:11<00:00,  3.39it/s, 0 cls=0.17189, 1 cls=0.25108, 2 cls=0.34590, bce=0.07631, dice=0.84985, loss=0.23519]\n"
     ]
    },
    {
     "name": "stdout",
     "output_type": "stream",
     "text": [
      "loss: 0.19956 | bce: 0.05244 | dice: 0.86306 | 0 cls: 0.14302 | 1 cls: 0.20300 | 2 cls: 0.30503\n"
     ]
    },
    {
     "name": "stderr",
     "output_type": "stream",
     "text": [
      "Epoch 418, lr 1.875e-05: 100% 39/39 [00:11<00:00,  3.41it/s, 0 cls=0.16951, 1 cls=0.25302, 2 cls=0.34292, bce=0.07671, dice=0.85164, loss=0.23374]\n"
     ]
    },
    {
     "name": "stdout",
     "output_type": "stream",
     "text": [
      "loss: 0.19618 | bce: 0.05214 | dice: 0.86554 | 0 cls: 0.13983 | 1 cls: 0.20035 | 2 cls: 0.30046\n"
     ]
    },
    {
     "name": "stderr",
     "output_type": "stream",
     "text": [
      "Epoch 419, lr 1.875e-05: 100% 39/39 [00:11<00:00,  3.40it/s, 0 cls=0.16605, 1 cls=0.24785, 2 cls=0.33893, bce=0.07424, dice=0.85275, loss=0.22972]\n"
     ]
    },
    {
     "name": "stdout",
     "output_type": "stream",
     "text": [
      "loss: 0.19735 | bce: 0.05248 | dice: 0.86491 | 0 cls: 0.14094 | 1 cls: 0.20093 | 2 cls: 0.30239\n"
     ]
    },
    {
     "name": "stderr",
     "output_type": "stream",
     "text": [
      "Epoch 420, lr 1.875e-05: 100% 39/39 [00:11<00:00,  3.41it/s, 0 cls=0.16335, 1 cls=0.24242, 2 cls=0.33543, bce=0.07444, dice=0.85630, loss=0.22614]\n"
     ]
    },
    {
     "name": "stdout",
     "output_type": "stream",
     "text": [
      "loss: 0.19684 | bce: 0.05177 | dice: 0.86478 | 0 cls: 0.14053 | 1 cls: 0.20054 | 2 cls: 0.30145\n"
     ]
    },
    {
     "name": "stderr",
     "output_type": "stream",
     "text": [
      "Epoch 421, lr 1.875e-05: 100% 39/39 [00:11<00:00,  3.41it/s, 0 cls=0.17002, 1 cls=0.24945, 2 cls=0.34437, bce=0.07566, dice=0.85087, loss=0.23346]\n"
     ]
    },
    {
     "name": "stdout",
     "output_type": "stream",
     "text": [
      "loss: 0.19523 | bce: 0.05107 | dice: 0.86550 | 0 cls: 0.13868 | 1 cls: 0.19985 | 2 cls: 0.29944\n"
     ]
    },
    {
     "name": "stderr",
     "output_type": "stream",
     "text": [
      "Epoch 422, lr 1.875e-05: 100% 39/39 [00:11<00:00,  3.42it/s, 0 cls=0.17729, 1 cls=0.25664, 2 cls=0.35144, bce=0.07732, dice=0.84666, loss=0.24067]\n"
     ]
    },
    {
     "name": "stdout",
     "output_type": "stream",
     "text": [
      "loss: 0.19462 | bce: 0.05146 | dice: 0.86618 | 0 cls: 0.13825 | 1 cls: 0.19907 | 2 cls: 0.29886\n"
     ]
    },
    {
     "name": "stderr",
     "output_type": "stream",
     "text": [
      "Epoch 423, lr 1.875e-05: 100% 39/39 [00:11<00:00,  3.42it/s, 0 cls=0.16634, 1 cls=0.24622, 2 cls=0.33936, bce=0.07526, dice=0.85381, loss=0.22957]\n"
     ]
    },
    {
     "name": "stdout",
     "output_type": "stream",
     "text": [
      "loss: 0.19611 | bce: 0.05113 | dice: 0.86479 | 0 cls: 0.13951 | 1 cls: 0.20033 | 2 cls: 0.30090\n"
     ]
    },
    {
     "name": "stderr",
     "output_type": "stream",
     "text": [
      "Epoch 424, lr 1.875e-05: 100% 39/39 [00:11<00:00,  3.40it/s, 0 cls=0.17493, 1 cls=0.25410, 2 cls=0.34863, bce=0.07645, dice=0.84787, loss=0.23815]\n"
     ]
    },
    {
     "name": "stdout",
     "output_type": "stream",
     "text": [
      "loss: 0.19649 | bce: 0.05128 | dice: 0.86453 | 0 cls: 0.14035 | 1 cls: 0.20028 | 2 cls: 0.30073\n"
     ]
    },
    {
     "name": "stderr",
     "output_type": "stream",
     "text": [
      "Epoch 425, lr 1.875e-05: 100% 39/39 [00:11<00:00,  3.41it/s, 0 cls=0.16667, 1 cls=0.24969, 2 cls=0.33949, bce=0.07575, dice=0.85344, loss=0.23063]\n"
     ]
    },
    {
     "name": "stdout",
     "output_type": "stream",
     "text": [
      "loss: 0.19615 | bce: 0.05219 | dice: 0.86565 | 0 cls: 0.13973 | 1 cls: 0.20023 | 2 cls: 0.30072\n"
     ]
    },
    {
     "name": "stderr",
     "output_type": "stream",
     "text": [
      "Epoch 426, lr 1.875e-05: 100% 39/39 [00:11<00:00,  3.42it/s, 0 cls=0.16971, 1 cls=0.25307, 2 cls=0.34487, bce=0.07550, dice=0.85054, loss=0.23434]\n"
     ]
    },
    {
     "name": "stdout",
     "output_type": "stream",
     "text": [
      "loss: 0.19619 | bce: 0.05220 | dice: 0.86560 | 0 cls: 0.13967 | 1 cls: 0.20065 | 2 cls: 0.30064\n"
     ]
    },
    {
     "name": "stderr",
     "output_type": "stream",
     "text": [
      "Epoch 427, lr 1.875e-05: 100% 39/39 [00:11<00:00,  3.42it/s, 0 cls=0.17157, 1 cls=0.25470, 2 cls=0.34701, bce=0.07730, dice=0.85011, loss=0.23621]\n"
     ]
    },
    {
     "name": "stdout",
     "output_type": "stream",
     "text": [
      "loss: 0.19771 | bce: 0.05197 | dice: 0.86415 | 0 cls: 0.14146 | 1 cls: 0.20152 | 2 cls: 0.30232\n"
     ]
    },
    {
     "name": "stderr",
     "output_type": "stream",
     "text": [
      "Epoch 428, lr 1.875e-05: 100% 39/39 [00:11<00:00,  3.41it/s, 0 cls=0.17178, 1 cls=0.25040, 2 cls=0.34599, bce=0.07846, dice=0.85190, loss=0.23499]\n"
     ]
    },
    {
     "name": "stdout",
     "output_type": "stream",
     "text": [
      "loss: 0.19722 | bce: 0.05173 | dice: 0.86435 | 0 cls: 0.14091 | 1 cls: 0.20086 | 2 cls: 0.30196\n"
     ]
    },
    {
     "name": "stderr",
     "output_type": "stream",
     "text": [
      "Epoch 429, lr 1.875e-05: 100% 39/39 [00:11<00:00,  3.41it/s, 0 cls=0.16929, 1 cls=0.24928, 2 cls=0.34287, bce=0.07587, dice=0.85173, loss=0.23268]\n"
     ]
    },
    {
     "name": "stdout",
     "output_type": "stream",
     "text": [
      "loss: 0.19868 | bce: 0.05143 | dice: 0.86316 | 0 cls: 0.14257 | 1 cls: 0.20219 | 2 cls: 0.30310\n"
     ]
    },
    {
     "name": "stderr",
     "output_type": "stream",
     "text": [
      "Epoch 430, lr 1.875e-05: 100% 39/39 [00:11<00:00,  3.42it/s, 0 cls=0.16798, 1 cls=0.24950, 2 cls=0.34259, bce=0.07627, dice=0.85286, loss=0.23201]\n"
     ]
    },
    {
     "name": "stdout",
     "output_type": "stream",
     "text": [
      "loss: 0.19825 | bce: 0.05181 | dice: 0.86380 | 0 cls: 0.14208 | 1 cls: 0.20158 | 2 cls: 0.30293\n"
     ]
    },
    {
     "name": "stderr",
     "output_type": "stream",
     "text": [
      "Epoch 431, lr 1.875e-05: 100% 39/39 [00:11<00:00,  3.41it/s, 0 cls=0.17566, 1 cls=0.25588, 2 cls=0.35044, bce=0.07721, dice=0.84761, loss=0.23941]\n"
     ]
    },
    {
     "name": "stdout",
     "output_type": "stream",
     "text": [
      "loss: 0.19642 | bce: 0.05181 | dice: 0.86507 | 0 cls: 0.14028 | 1 cls: 0.20053 | 2 cls: 0.30032\n"
     ]
    },
    {
     "name": "stderr",
     "output_type": "stream",
     "text": [
      "Epoch 432, lr 1.875e-05: 100% 39/39 [00:11<00:00,  3.40it/s, 0 cls=0.15741, 1 cls=0.23806, 2 cls=0.32788, bce=0.07195, dice=0.85873, loss=0.22019]\n"
     ]
    },
    {
     "name": "stdout",
     "output_type": "stream",
     "text": [
      "loss: 0.19696 | bce: 0.05213 | dice: 0.86504 | 0 cls: 0.14063 | 1 cls: 0.20088 | 2 cls: 0.30155\n"
     ]
    },
    {
     "name": "stderr",
     "output_type": "stream",
     "text": [
      "Epoch 433, lr 1.875e-05: 100% 39/39 [00:11<00:00,  3.42it/s, 0 cls=0.16860, 1 cls=0.24864, 2 cls=0.34535, bce=0.07507, dice=0.85083, loss=0.23280]\n"
     ]
    },
    {
     "name": "stdout",
     "output_type": "stream",
     "text": [
      "loss: 0.19783 | bce: 0.05180 | dice: 0.86399 | 0 cls: 0.14175 | 1 cls: 0.20097 | 2 cls: 0.30286\n"
     ]
    },
    {
     "name": "stderr",
     "output_type": "stream",
     "text": [
      "Epoch 434, lr 1.875e-05: 100% 39/39 [00:11<00:00,  3.41it/s, 0 cls=0.16520, 1 cls=0.24489, 2 cls=0.33818, bce=0.07505, dice=0.85478, loss=0.22837]\n"
     ]
    },
    {
     "name": "stdout",
     "output_type": "stream",
     "text": [
      "loss: 0.19760 | bce: 0.05222 | dice: 0.86455 | 0 cls: 0.14176 | 1 cls: 0.20016 | 2 cls: 0.30259\n"
     ]
    },
    {
     "name": "stderr",
     "output_type": "stream",
     "text": [
      "Epoch 435, lr 1.875e-05: 100% 39/39 [00:11<00:00,  3.42it/s, 0 cls=0.16798, 1 cls=0.24475, 2 cls=0.34127, bce=0.07588, dice=0.85367, loss=0.23050]\n"
     ]
    },
    {
     "name": "stdout",
     "output_type": "stream",
     "text": [
      "loss: 0.19771 | bce: 0.05127 | dice: 0.86363 | 0 cls: 0.14130 | 1 cls: 0.20148 | 2 cls: 0.30248\n"
     ]
    },
    {
     "name": "stderr",
     "output_type": "stream",
     "text": [
      "Epoch 436, lr 1.875e-05: 100% 39/39 [00:11<00:00,  3.39it/s, 0 cls=0.18095, 1 cls=0.26188, 2 cls=0.35560, bce=0.07924, dice=0.84477, loss=0.24484]\n"
     ]
    },
    {
     "name": "stdout",
     "output_type": "stream",
     "text": [
      "loss: 0.19547 | bce: 0.05133 | dice: 0.86547 | 0 cls: 0.13950 | 1 cls: 0.19901 | 2 cls: 0.29957\n"
     ]
    },
    {
     "name": "stderr",
     "output_type": "stream",
     "text": [
      "Epoch 437, lr 1.875e-05: 100% 39/39 [00:11<00:00,  3.41it/s, 0 cls=0.16513, 1 cls=0.24400, 2 cls=0.33554, bce=0.07387, dice=0.85461, loss=0.22745]\n"
     ]
    },
    {
     "name": "stdout",
     "output_type": "stream",
     "text": [
      "loss: 0.19798 | bce: 0.05206 | dice: 0.86422 | 0 cls: 0.14141 | 1 cls: 0.20166 | 2 cls: 0.30302\n"
     ]
    },
    {
     "name": "stderr",
     "output_type": "stream",
     "text": [
      "Epoch 438, lr 1.875e-05: 100% 39/39 [00:11<00:00,  3.43it/s, 0 cls=0.17308, 1 cls=0.25591, 2 cls=0.34743, bce=0.07719, dice=0.84924, loss=0.23738]\n"
     ]
    },
    {
     "name": "stdout",
     "output_type": "stream",
     "text": [
      "loss: 0.19812 | bce: 0.05184 | dice: 0.86392 | 0 cls: 0.14173 | 1 cls: 0.20177 | 2 cls: 0.30306\n"
     ]
    },
    {
     "name": "stderr",
     "output_type": "stream",
     "text": [
      "Epoch 439, lr 1.875e-05: 100% 39/39 [00:11<00:00,  3.42it/s, 0 cls=0.17318, 1 cls=0.25061, 2 cls=0.34450, bce=0.07638, dice=0.85040, loss=0.23537]\n"
     ]
    },
    {
     "name": "stdout",
     "output_type": "stream",
     "text": [
      "loss: 0.19867 | bce: 0.05242 | dice: 0.86392 | 0 cls: 0.14190 | 1 cls: 0.20318 | 2 cls: 0.30335\n"
     ]
    },
    {
     "name": "stderr",
     "output_type": "stream",
     "text": [
      "Epoch 440, lr 1.875e-05: 100% 39/39 [00:11<00:00,  3.42it/s, 0 cls=0.17214, 1 cls=0.25329, 2 cls=0.34807, bce=0.07759, dice=0.85026, loss=0.23641]\n"
     ]
    },
    {
     "name": "stdout",
     "output_type": "stream",
     "text": [
      "loss: 0.19669 | bce: 0.05115 | dice: 0.86455 | 0 cls: 0.14055 | 1 cls: 0.20028 | 2 cls: 0.30117\n"
     ]
    },
    {
     "name": "stderr",
     "output_type": "stream",
     "text": [
      "Epoch 441, lr 1.875e-05: 100% 39/39 [00:11<00:00,  3.40it/s, 0 cls=0.17145, 1 cls=0.24952, 2 cls=0.34550, bce=0.07682, dice=0.85101, loss=0.23448]\n"
     ]
    },
    {
     "name": "stdout",
     "output_type": "stream",
     "text": [
      "loss: 0.19695 | bce: 0.05215 | dice: 0.86495 | 0 cls: 0.14086 | 1 cls: 0.20049 | 2 cls: 0.30136\n"
     ]
    },
    {
     "name": "stderr",
     "output_type": "stream",
     "text": [
      "Epoch 442, lr 1.875e-05: 100% 39/39 [00:11<00:00,  3.42it/s, 0 cls=0.16396, 1 cls=0.24288, 2 cls=0.33536, bce=0.07450, dice=0.85561, loss=0.22654]\n"
     ]
    },
    {
     "name": "stdout",
     "output_type": "stream",
     "text": [
      "loss: 0.19705 | bce: 0.05162 | dice: 0.86450 | 0 cls: 0.14067 | 1 cls: 0.20075 | 2 cls: 0.30189\n"
     ]
    },
    {
     "name": "stderr",
     "output_type": "stream",
     "text": [
      "Epoch 443, lr 1.875e-05: 100% 39/39 [00:11<00:00,  3.40it/s, 0 cls=0.16587, 1 cls=0.24755, 2 cls=0.33979, bce=0.07439, dice=0.85298, loss=0.22977]\n"
     ]
    },
    {
     "name": "stdout",
     "output_type": "stream",
     "text": [
      "loss: 0.19739 | bce: 0.05265 | dice: 0.86508 | 0 cls: 0.14119 | 1 cls: 0.20086 | 2 cls: 0.30224\n"
     ]
    },
    {
     "name": "stderr",
     "output_type": "stream",
     "text": [
      "Epoch 444, lr 1.875e-05: 100% 39/39 [00:11<00:00,  3.41it/s, 0 cls=0.16433, 1 cls=0.24113, 2 cls=0.33386, bce=0.07408, dice=0.85604, loss=0.22591]\n"
     ]
    },
    {
     "name": "stdout",
     "output_type": "stream",
     "text": [
      "loss: 0.19846 | bce: 0.05282 | dice: 0.86449 | 0 cls: 0.14214 | 1 cls: 0.20249 | 2 cls: 0.30281\n"
     ]
    },
    {
     "name": "stderr",
     "output_type": "stream",
     "text": [
      "Epoch 445, lr 1.875e-05: 100% 39/39 [00:11<00:00,  3.42it/s, 0 cls=0.16745, 1 cls=0.24686, 2 cls=0.33993, bce=0.07645, dice=0.85410, loss=0.23043]\n"
     ]
    },
    {
     "name": "stdout",
     "output_type": "stream",
     "text": [
      "loss: 0.19906 | bce: 0.05295 | dice: 0.86397 | 0 cls: 0.14256 | 1 cls: 0.20228 | 2 cls: 0.30459\n"
     ]
    },
    {
     "name": "stderr",
     "output_type": "stream",
     "text": [
      "Epoch 446, lr 1.875e-05: 100% 39/39 [00:11<00:00,  3.41it/s, 0 cls=0.17045, 1 cls=0.25237, 2 cls=0.34390, bce=0.07551, dice=0.85025, loss=0.23429]\n"
     ]
    },
    {
     "name": "stdout",
     "output_type": "stream",
     "text": [
      "loss: 0.19833 | bce: 0.05286 | dice: 0.86458 | 0 cls: 0.14218 | 1 cls: 0.20159 | 2 cls: 0.30317\n"
     ]
    },
    {
     "name": "stderr",
     "output_type": "stream",
     "text": [
      "Epoch 447, lr 1.875e-05: 100% 39/39 [00:11<00:00,  3.40it/s, 0 cls=0.17025, 1 cls=0.25347, 2 cls=0.34556, bce=0.07684, dice=0.85101, loss=0.23488]\n"
     ]
    },
    {
     "name": "stdout",
     "output_type": "stream",
     "text": [
      "loss: 0.19480 | bce: 0.05185 | dice: 0.86658 | 0 cls: 0.13837 | 1 cls: 0.19923 | 2 cls: 0.29896\n"
     ]
    },
    {
     "name": "stderr",
     "output_type": "stream",
     "text": [
      "Epoch 448, lr 1.875e-05: 100% 39/39 [00:11<00:00,  3.42it/s, 0 cls=0.16445, 1 cls=0.24692, 2 cls=0.33764, bce=0.07509, dice=0.85470, loss=0.22836]\n"
     ]
    },
    {
     "name": "stdout",
     "output_type": "stream",
     "text": [
      "loss: 0.19589 | bce: 0.05222 | dice: 0.86597 | 0 cls: 0.13946 | 1 cls: 0.20008 | 2 cls: 0.30027\n"
     ]
    },
    {
     "name": "stderr",
     "output_type": "stream",
     "text": [
      "Epoch 449, lr 1.875e-05: 100% 39/39 [00:11<00:00,  3.43it/s, 0 cls=0.16649, 1 cls=0.24859, 2 cls=0.34131, bce=0.07527, dice=0.85316, loss=0.23072]\n"
     ]
    },
    {
     "name": "stdout",
     "output_type": "stream",
     "text": [
      "loss: 0.19525 | bce: 0.05127 | dice: 0.86563 | 0 cls: 0.13903 | 1 cls: 0.19976 | 2 cls: 0.29906\n"
     ]
    },
    {
     "name": "stderr",
     "output_type": "stream",
     "text": [
      "Epoch 450, lr 1.875e-05: 100% 39/39 [00:11<00:00,  3.40it/s, 0 cls=0.16758, 1 cls=0.24646, 2 cls=0.33792, bce=0.07435, dice=0.85311, loss=0.22988]\n"
     ]
    },
    {
     "name": "stdout",
     "output_type": "stream",
     "text": [
      "loss: 0.19567 | bce: 0.05249 | dice: 0.86621 | 0 cls: 0.13947 | 1 cls: 0.20007 | 2 cls: 0.29954\n"
     ]
    },
    {
     "name": "stderr",
     "output_type": "stream",
     "text": [
      "Epoch 451, lr 1.875e-05: 100% 39/39 [00:11<00:00,  3.42it/s, 0 cls=0.16643, 1 cls=0.24405, 2 cls=0.33913, bce=0.07545, dice=0.85454, loss=0.22901]\n"
     ]
    },
    {
     "name": "stdout",
     "output_type": "stream",
     "text": [
      "loss: 0.19921 | bce: 0.05212 | dice: 0.86342 | 0 cls: 0.14298 | 1 cls: 0.20252 | 2 cls: 0.30415\n"
     ]
    },
    {
     "name": "stderr",
     "output_type": "stream",
     "text": [
      "Epoch 452, lr 1.875e-05: 100% 39/39 [00:11<00:00,  3.40it/s, 0 cls=0.18203, 1 cls=0.26641, 2 cls=0.36056, bce=0.07986, dice=0.84306, loss=0.24776]\n"
     ]
    },
    {
     "name": "stdout",
     "output_type": "stream",
     "text": [
      "loss: 0.19828 | bce: 0.05244 | dice: 0.86419 | 0 cls: 0.14218 | 1 cls: 0.20181 | 2 cls: 0.30295\n"
     ]
    },
    {
     "name": "stderr",
     "output_type": "stream",
     "text": [
      "Epoch 453, lr 1.875e-05: 100% 39/39 [00:11<00:00,  3.40it/s, 0 cls=0.16426, 1 cls=0.24307, 2 cls=0.33393, bce=0.07354, dice=0.85512, loss=0.22638]\n"
     ]
    },
    {
     "name": "stdout",
     "output_type": "stream",
     "text": [
      "loss: 0.19744 | bce: 0.05230 | dice: 0.86483 | 0 cls: 0.14100 | 1 cls: 0.20103 | 2 cls: 0.30249\n"
     ]
    },
    {
     "name": "stderr",
     "output_type": "stream",
     "text": [
      "Epoch 454, lr 1.875e-05: 100% 39/39 [00:11<00:00,  3.42it/s, 0 cls=0.16564, 1 cls=0.24604, 2 cls=0.33561, bce=0.07487, dice=0.85488, loss=0.22823]\n"
     ]
    },
    {
     "name": "stdout",
     "output_type": "stream",
     "text": [
      "loss: 0.19587 | bce: 0.05238 | dice: 0.86616 | 0 cls: 0.13992 | 1 cls: 0.19922 | 2 cls: 0.30022\n"
     ]
    },
    {
     "name": "stderr",
     "output_type": "stream",
     "text": [
      "Epoch 455, lr 1.875e-05: 100% 39/39 [00:11<00:00,  3.39it/s, 0 cls=0.16899, 1 cls=0.25078, 2 cls=0.34486, bce=0.07630, dice=0.85153, loss=0.23341]\n"
     ]
    },
    {
     "name": "stdout",
     "output_type": "stream",
     "text": [
      "loss: 0.19580 | bce: 0.05174 | dice: 0.86564 | 0 cls: 0.13955 | 1 cls: 0.19969 | 2 cls: 0.30029\n"
     ]
    },
    {
     "name": "stderr",
     "output_type": "stream",
     "text": [
      "Epoch 456, lr 1.875e-05: 100% 39/39 [00:11<00:00,  3.40it/s, 0 cls=0.16197, 1 cls=0.24293, 2 cls=0.33556, bce=0.07411, dice=0.85589, loss=0.22561]\n"
     ]
    },
    {
     "name": "stdout",
     "output_type": "stream",
     "text": [
      "loss: 0.19532 | bce: 0.05217 | dice: 0.86633 | 0 cls: 0.13925 | 1 cls: 0.19903 | 2 cls: 0.29952\n"
     ]
    },
    {
     "name": "stderr",
     "output_type": "stream",
     "text": [
      "Epoch 457, lr 1.875e-05: 100% 39/39 [00:11<00:00,  3.41it/s, 0 cls=0.16850, 1 cls=0.25115, 2 cls=0.34265, bce=0.07679, dice=0.85248, loss=0.23270]\n"
     ]
    },
    {
     "name": "stdout",
     "output_type": "stream",
     "text": [
      "loss: 0.19740 | bce: 0.05225 | dice: 0.86478 | 0 cls: 0.14128 | 1 cls: 0.20070 | 2 cls: 0.30208\n"
     ]
    },
    {
     "name": "stderr",
     "output_type": "stream",
     "text": [
      "Epoch 458, lr 1.875e-05: 100% 39/39 [00:11<00:00,  3.42it/s, 0 cls=0.16477, 1 cls=0.24795, 2 cls=0.33966, bce=0.07521, dice=0.85383, loss=0.22929]\n"
     ]
    },
    {
     "name": "stdout",
     "output_type": "stream",
     "text": [
      "loss: 0.19721 | bce: 0.05275 | dice: 0.86522 | 0 cls: 0.14085 | 1 cls: 0.20052 | 2 cls: 0.30233\n"
     ]
    },
    {
     "name": "stderr",
     "output_type": "stream",
     "text": [
      "Epoch 459, lr 1.875e-05: 100% 39/39 [00:11<00:00,  3.41it/s, 0 cls=0.16256, 1 cls=0.24322, 2 cls=0.33424, bce=0.07425, dice=0.85624, loss=0.22564]\n"
     ]
    },
    {
     "name": "stdout",
     "output_type": "stream",
     "text": [
      "loss: 0.19725 | bce: 0.05269 | dice: 0.86527 | 0 cls: 0.14134 | 1 cls: 0.20010 | 2 cls: 0.30196\n"
     ]
    },
    {
     "name": "stderr",
     "output_type": "stream",
     "text": [
      "Epoch 460, lr 1.875e-05: 100% 39/39 [00:11<00:00,  3.40it/s, 0 cls=0.16558, 1 cls=0.24669, 2 cls=0.34123, bce=0.07591, dice=0.85423, loss=0.22977]\n"
     ]
    },
    {
     "name": "stdout",
     "output_type": "stream",
     "text": [
      "loss: 0.19689 | bce: 0.05287 | dice: 0.86571 | 0 cls: 0.14097 | 1 cls: 0.20017 | 2 cls: 0.30103\n"
     ]
    },
    {
     "name": "stderr",
     "output_type": "stream",
     "text": [
      "Epoch 461, lr 1.875e-05: 100% 39/39 [00:11<00:00,  3.42it/s, 0 cls=0.16470, 1 cls=0.24210, 2 cls=0.33654, bce=0.07460, dice=0.85534, loss=0.22701]\n"
     ]
    },
    {
     "name": "stdout",
     "output_type": "stream",
     "text": [
      "loss: 0.19578 | bce: 0.05203 | dice: 0.86580 | 0 cls: 0.13969 | 1 cls: 0.19945 | 2 cls: 0.29998\n"
     ]
    },
    {
     "name": "stderr",
     "output_type": "stream",
     "text": [
      "Epoch 462, lr 1.875e-05: 100% 39/39 [00:11<00:00,  3.41it/s, 0 cls=0.16539, 1 cls=0.24506, 2 cls=0.33681, bce=0.07455, dice=0.85440, loss=0.22817]\n"
     ]
    },
    {
     "name": "stdout",
     "output_type": "stream",
     "text": [
      "loss: 0.19569 | bce: 0.05195 | dice: 0.86590 | 0 cls: 0.13963 | 1 cls: 0.19932 | 2 cls: 0.29989\n"
     ]
    },
    {
     "name": "stderr",
     "output_type": "stream",
     "text": [
      "Epoch 463, lr 1.875e-05: 100% 39/39 [00:11<00:00,  3.42it/s, 0 cls=0.16328, 1 cls=0.24786, 2 cls=0.33794, bce=0.07313, dice=0.85331, loss=0.22809]\n"
     ]
    },
    {
     "name": "stdout",
     "output_type": "stream",
     "text": [
      "loss: 0.19794 | bce: 0.05236 | dice: 0.86458 | 0 cls: 0.14199 | 1 cls: 0.20055 | 2 cls: 0.30303\n"
     ]
    },
    {
     "name": "stderr",
     "output_type": "stream",
     "text": [
      "Epoch 464, lr 1.875e-05: 100% 39/39 [00:11<00:00,  3.41it/s, 0 cls=0.16571, 1 cls=0.24845, 2 cls=0.33810, bce=0.07479, dice=0.85378, loss=0.22950]\n"
     ]
    },
    {
     "name": "stdout",
     "output_type": "stream",
     "text": [
      "loss: 0.19805 | bce: 0.05376 | dice: 0.86544 | 0 cls: 0.14204 | 1 cls: 0.20070 | 2 cls: 0.30303\n"
     ]
    },
    {
     "name": "stderr",
     "output_type": "stream",
     "text": [
      "Epoch 465, lr 1.875e-05: 100% 39/39 [00:11<00:00,  3.41it/s, 0 cls=0.16533, 1 cls=0.24659, 2 cls=0.33750, bce=0.07491, dice=0.85422, loss=0.22869]\n"
     ]
    },
    {
     "name": "stdout",
     "output_type": "stream",
     "text": [
      "loss: 0.19738 | bce: 0.05205 | dice: 0.86467 | 0 cls: 0.14118 | 1 cls: 0.20110 | 2 cls: 0.30182\n"
     ]
    },
    {
     "name": "stderr",
     "output_type": "stream",
     "text": [
      "Epoch 466, lr 1.875e-05: 100% 39/39 [00:11<00:00,  3.41it/s, 0 cls=0.16645, 1 cls=0.24533, 2 cls=0.33892, bce=0.07515, dice=0.85409, loss=0.22929]\n"
     ]
    },
    {
     "name": "stdout",
     "output_type": "stream",
     "text": [
      "loss: 0.19711 | bce: 0.05235 | dice: 0.86507 | 0 cls: 0.14102 | 1 cls: 0.20037 | 2 cls: 0.30167\n"
     ]
    },
    {
     "name": "stderr",
     "output_type": "stream",
     "text": [
      "Epoch 467, lr 1.875e-05: 100% 39/39 [00:11<00:00,  3.41it/s, 0 cls=0.16274, 1 cls=0.24246, 2 cls=0.33395, bce=0.07398, dice=0.85623, loss=0.22547]\n"
     ]
    },
    {
     "name": "stdout",
     "output_type": "stream",
     "text": [
      "loss: 0.19687 | bce: 0.05247 | dice: 0.86538 | 0 cls: 0.14101 | 1 cls: 0.20009 | 2 cls: 0.30109\n"
     ]
    },
    {
     "name": "stderr",
     "output_type": "stream",
     "text": [
      "Epoch 468, lr 1.875e-05: 100% 39/39 [00:11<00:00,  3.43it/s, 0 cls=0.16806, 1 cls=0.24997, 2 cls=0.33983, bce=0.07498, dice=0.85228, loss=0.23148]\n"
     ]
    },
    {
     "name": "stdout",
     "output_type": "stream",
     "text": [
      "loss: 0.19659 | bce: 0.05229 | dice: 0.86545 | 0 cls: 0.14046 | 1 cls: 0.19969 | 2 cls: 0.30139\n"
     ]
    },
    {
     "name": "stderr",
     "output_type": "stream",
     "text": [
      "Epoch 469, lr 1.875e-05: 100% 39/39 [00:11<00:00,  3.41it/s, 0 cls=0.16590, 1 cls=0.25019, 2 cls=0.34134, bce=0.07414, dice=0.85202, loss=0.23084]\n"
     ]
    },
    {
     "name": "stdout",
     "output_type": "stream",
     "text": [
      "loss: 0.19806 | bce: 0.05428 | dice: 0.86586 | 0 cls: 0.14228 | 1 cls: 0.20055 | 2 cls: 0.30282\n"
     ]
    },
    {
     "name": "stderr",
     "output_type": "stream",
     "text": [
      "Epoch 470, lr 1.875e-05: 100% 39/39 [00:11<00:00,  3.38it/s, 0 cls=0.16480, 1 cls=0.24424, 2 cls=0.33604, bce=0.07483, dice=0.85544, loss=0.22747]\n"
     ]
    },
    {
     "name": "stdout",
     "output_type": "stream",
     "text": [
      "loss: 0.19805 | bce: 0.05308 | dice: 0.86495 | 0 cls: 0.14189 | 1 cls: 0.20089 | 2 cls: 0.30320\n"
     ]
    },
    {
     "name": "stderr",
     "output_type": "stream",
     "text": [
      "Epoch 471, lr 1.875e-05: 100% 39/39 [00:11<00:00,  3.41it/s, 0 cls=0.16867, 1 cls=0.24887, 2 cls=0.33985, bce=0.07543, dice=0.85264, loss=0.23152]\n"
     ]
    },
    {
     "name": "stdout",
     "output_type": "stream",
     "text": [
      "loss: 0.19709 | bce: 0.05280 | dice: 0.86544 | 0 cls: 0.14118 | 1 cls: 0.19970 | 2 cls: 0.30201\n"
     ]
    },
    {
     "name": "stderr",
     "output_type": "stream",
     "text": [
      "Epoch 472, lr 1.875e-05: 100% 39/39 [00:11<00:00,  3.40it/s, 0 cls=0.16588, 1 cls=0.24498, 2 cls=0.33657, bce=0.07461, dice=0.85480, loss=0.22832]\n"
     ]
    },
    {
     "name": "stdout",
     "output_type": "stream",
     "text": [
      "loss: 0.19602 | bce: 0.05234 | dice: 0.86589 | 0 cls: 0.14010 | 1 cls: 0.19916 | 2 cls: 0.30037\n"
     ]
    },
    {
     "name": "stderr",
     "output_type": "stream",
     "text": [
      "Epoch 473, lr 1.875e-05: 100% 39/39 [00:11<00:00,  3.42it/s, 0 cls=0.16967, 1 cls=0.24907, 2 cls=0.34052, bce=0.07468, dice=0.85135, loss=0.23223]\n"
     ]
    },
    {
     "name": "stdout",
     "output_type": "stream",
     "text": [
      "loss: 0.19664 | bce: 0.05287 | dice: 0.86582 | 0 cls: 0.14042 | 1 cls: 0.20003 | 2 cls: 0.30135\n"
     ]
    },
    {
     "name": "stderr",
     "output_type": "stream",
     "text": [
      "Epoch 474, lr 1.875e-05: 100% 39/39 [00:11<00:00,  3.41it/s, 0 cls=0.16608, 1 cls=0.24444, 2 cls=0.33951, bce=0.07424, dice=0.85346, loss=0.22903]\n"
     ]
    },
    {
     "name": "stdout",
     "output_type": "stream",
     "text": [
      "loss: 0.19565 | bce: 0.05343 | dice: 0.86706 | 0 cls: 0.13967 | 1 cls: 0.19892 | 2 cls: 0.30012\n"
     ]
    },
    {
     "name": "stderr",
     "output_type": "stream",
     "text": [
      "Epoch 475, lr 1.875e-05: 100% 39/39 [00:11<00:00,  3.41it/s, 0 cls=0.16504, 1 cls=0.24570, 2 cls=0.33850, bce=0.07537, dice=0.85492, loss=0.22857]\n"
     ]
    },
    {
     "name": "stdout",
     "output_type": "stream",
     "text": [
      "loss: 0.19547 | bce: 0.05143 | dice: 0.86562 | 0 cls: 0.13922 | 1 cls: 0.19951 | 2 cls: 0.29968\n"
     ]
    },
    {
     "name": "stderr",
     "output_type": "stream",
     "text": [
      "Epoch 476, lr 1.875e-05: 100% 39/39 [00:11<00:00,  3.43it/s, 0 cls=0.16594, 1 cls=0.25230, 2 cls=0.34306, bce=0.07581, dice=0.85254, loss=0.23181]\n"
     ]
    },
    {
     "name": "stdout",
     "output_type": "stream",
     "text": [
      "loss: 0.19543 | bce: 0.05140 | dice: 0.86573 | 0 cls: 0.13918 | 1 cls: 0.19950 | 2 cls: 0.29946\n"
     ]
    },
    {
     "name": "stderr",
     "output_type": "stream",
     "text": [
      "Epoch 477, lr 1.875e-05: 100% 39/39 [00:11<00:00,  3.40it/s, 0 cls=0.16750, 1 cls=0.24426, 2 cls=0.33899, bce=0.07446, dice=0.85322, loss=0.22956]\n"
     ]
    },
    {
     "name": "stdout",
     "output_type": "stream",
     "text": [
      "loss: 0.19570 | bce: 0.05251 | dice: 0.86618 | 0 cls: 0.13932 | 1 cls: 0.19954 | 2 cls: 0.30031\n"
     ]
    },
    {
     "name": "stderr",
     "output_type": "stream",
     "text": [
      "Epoch 478, lr 1.875e-05: 100% 39/39 [00:11<00:00,  3.41it/s, 0 cls=0.16822, 1 cls=0.24728, 2 cls=0.34085, bce=0.07637, dice=0.85350, loss=0.23114]\n"
     ]
    },
    {
     "name": "stdout",
     "output_type": "stream",
     "text": [
      "loss: 0.19537 | bce: 0.05215 | dice: 0.86626 | 0 cls: 0.13944 | 1 cls: 0.19846 | 2 cls: 0.29991\n"
     ]
    },
    {
     "name": "stderr",
     "output_type": "stream",
     "text": [
      "Epoch 479, lr 1.875e-05: 100% 39/39 [00:11<00:00,  3.43it/s, 0 cls=0.17249, 1 cls=0.25092, 2 cls=0.34670, bce=0.07723, dice=0.85047, loss=0.23565]\n"
     ]
    },
    {
     "name": "stdout",
     "output_type": "stream",
     "text": [
      "loss: 0.19653 | bce: 0.05235 | dice: 0.86550 | 0 cls: 0.14083 | 1 cls: 0.19942 | 2 cls: 0.30085\n"
     ]
    },
    {
     "name": "stderr",
     "output_type": "stream",
     "text": [
      "Epoch 480, lr 1.875e-05: 100% 39/39 [00:11<00:00,  3.41it/s, 0 cls=0.17361, 1 cls=0.25396, 2 cls=0.34515, bce=0.07707, dice=0.84989, loss=0.23658]\n"
     ]
    },
    {
     "name": "stdout",
     "output_type": "stream",
     "text": [
      "loss: 0.19635 | bce: 0.05246 | dice: 0.86574 | 0 cls: 0.14030 | 1 cls: 0.19943 | 2 cls: 0.30116\n"
     ]
    },
    {
     "name": "stderr",
     "output_type": "stream",
     "text": [
      "Epoch 481, lr 1.875e-05: 100% 39/39 [00:11<00:00,  3.42it/s, 0 cls=0.16573, 1 cls=0.24150, 2 cls=0.33734, bce=0.07377, dice=0.85420, loss=0.22758]\n"
     ]
    },
    {
     "name": "stdout",
     "output_type": "stream",
     "text": [
      "loss: 0.19625 | bce: 0.05287 | dice: 0.86619 | 0 cls: 0.14036 | 1 cls: 0.19896 | 2 cls: 0.30099\n"
     ]
    },
    {
     "name": "stderr",
     "output_type": "stream",
     "text": [
      "Epoch 482, lr 1.875e-05: 100% 39/39 [00:11<00:00,  3.41it/s, 0 cls=0.16244, 1 cls=0.24012, 2 cls=0.33270, bce=0.07367, dice=0.85685, loss=0.22442]\n"
     ]
    },
    {
     "name": "stdout",
     "output_type": "stream",
     "text": [
      "loss: 0.19803 | bce: 0.05324 | dice: 0.86506 | 0 cls: 0.14193 | 1 cls: 0.20066 | 2 cls: 0.30331\n"
     ]
    },
    {
     "name": "stderr",
     "output_type": "stream",
     "text": [
      "Epoch 483, lr 1.875e-05: 100% 39/39 [00:11<00:00,  3.41it/s, 0 cls=0.16467, 1 cls=0.24638, 2 cls=0.33769, bce=0.07536, dice=0.85481, loss=0.22835]\n"
     ]
    },
    {
     "name": "stdout",
     "output_type": "stream",
     "text": [
      "loss: 0.19693 | bce: 0.05248 | dice: 0.86531 | 0 cls: 0.14077 | 1 cls: 0.20071 | 2 cls: 0.30123\n"
     ]
    },
    {
     "name": "stderr",
     "output_type": "stream",
     "text": [
      "Epoch 484, lr 1.875e-05: 100% 39/39 [00:11<00:00,  3.42it/s, 0 cls=0.16530, 1 cls=0.24723, 2 cls=0.33363, bce=0.07452, dice=0.85502, loss=0.22787]\n"
     ]
    },
    {
     "name": "stdout",
     "output_type": "stream",
     "text": [
      "loss: 0.19699 | bce: 0.05413 | dice: 0.86657 | 0 cls: 0.14088 | 1 cls: 0.19996 | 2 cls: 0.30205\n"
     ]
    },
    {
     "name": "stderr",
     "output_type": "stream",
     "text": [
      "Epoch 485, lr 1.875e-05: 100% 39/39 [00:11<00:00,  3.41it/s, 0 cls=0.16228, 1 cls=0.24157, 2 cls=0.33392, bce=0.07327, dice=0.85596, loss=0.22501]\n"
     ]
    },
    {
     "name": "stdout",
     "output_type": "stream",
     "text": [
      "loss: 0.19779 | bce: 0.05316 | dice: 0.86532 | 0 cls: 0.14180 | 1 cls: 0.20070 | 2 cls: 0.30249\n"
     ]
    },
    {
     "name": "stderr",
     "output_type": "stream",
     "text": [
      "Epoch 486, lr 1.875e-05: 100% 39/39 [00:11<00:00,  3.43it/s, 0 cls=0.15968, 1 cls=0.23863, 2 cls=0.32897, bce=0.07273, dice=0.85827, loss=0.22174]\n"
     ]
    },
    {
     "name": "stdout",
     "output_type": "stream",
     "text": [
      "loss: 0.19797 | bce: 0.05350 | dice: 0.86540 | 0 cls: 0.14177 | 1 cls: 0.20072 | 2 cls: 0.30343\n"
     ]
    },
    {
     "name": "stderr",
     "output_type": "stream",
     "text": [
      "Epoch 487, lr 1.875e-05: 100% 39/39 [00:11<00:00,  3.40it/s, 0 cls=0.16713, 1 cls=0.24398, 2 cls=0.33594, bce=0.07515, dice=0.85484, loss=0.22854]\n"
     ]
    },
    {
     "name": "stdout",
     "output_type": "stream",
     "text": [
      "loss: 0.19638 | bce: 0.05212 | dice: 0.86551 | 0 cls: 0.14032 | 1 cls: 0.19987 | 2 cls: 0.30086\n"
     ]
    },
    {
     "name": "stderr",
     "output_type": "stream",
     "text": [
      "Epoch 488, lr 1.875e-05: 100% 39/39 [00:11<00:00,  3.42it/s, 0 cls=0.16262, 1 cls=0.24486, 2 cls=0.33427, bce=0.07461, dice=0.85634, loss=0.22609]\n"
     ]
    },
    {
     "name": "stdout",
     "output_type": "stream",
     "text": [
      "loss: 0.19797 | bce: 0.05271 | dice: 0.86460 | 0 cls: 0.14183 | 1 cls: 0.20098 | 2 cls: 0.30325\n"
     ]
    },
    {
     "name": "stderr",
     "output_type": "stream",
     "text": [
      "Epoch 489, lr 1.875e-05: 100% 39/39 [00:11<00:00,  3.41it/s, 0 cls=0.17018, 1 cls=0.25389, 2 cls=0.34502, bce=0.07686, dice=0.85098, loss=0.23482]\n"
     ]
    },
    {
     "name": "stdout",
     "output_type": "stream",
     "text": [
      "loss: 0.19856 | bce: 0.05300 | dice: 0.86448 | 0 cls: 0.14241 | 1 cls: 0.20113 | 2 cls: 0.30402\n"
     ]
    },
    {
     "name": "stderr",
     "output_type": "stream",
     "text": [
      "Epoch 490, lr 0.00024009999999999995: 100% 39/39 [00:11<00:00,  3.41it/s, 0 cls=0.17358, 1 cls=0.25433, 2 cls=0.35204, bce=0.07825, dice=0.84892, loss=0.23838]\n"
     ]
    },
    {
     "name": "stdout",
     "output_type": "stream",
     "text": [
      "loss: 0.19861 | bce: 0.05509 | dice: 0.86577 | 0 cls: 0.14145 | 1 cls: 0.20106 | 2 cls: 0.30520\n"
     ]
    },
    {
     "name": "stderr",
     "output_type": "stream",
     "text": [
      "Epoch 491, lr 0.00024009999999999995: 100% 39/39 [00:11<00:00,  3.43it/s, 0 cls=0.18019, 1 cls=0.26010, 2 cls=0.36007, bce=0.07942, dice=0.84452, loss=0.24514]\n"
     ]
    },
    {
     "name": "stdout",
     "output_type": "stream",
     "text": [
      "loss: 0.19857 | bce: 0.04965 | dice: 0.86088 | 0 cls: 0.14104 | 1 cls: 0.20259 | 2 cls: 0.30503\n"
     ]
    },
    {
     "name": "stderr",
     "output_type": "stream",
     "text": [
      "Epoch 492, lr 7.202999999999999e-05: 100% 39/39 [00:11<00:00,  3.40it/s, 0 cls=0.17085, 1 cls=0.24868, 2 cls=0.34405, bce=0.07550, dice=0.85065, loss=0.23361]\n"
     ]
    },
    {
     "name": "stdout",
     "output_type": "stream",
     "text": [
      "loss: 0.19691 | bce: 0.05186 | dice: 0.86439 | 0 cls: 0.14016 | 1 cls: 0.20064 | 2 cls: 0.30248\n"
     ]
    },
    {
     "name": "stderr",
     "output_type": "stream",
     "text": [
      "Epoch 493, lr 7.202999999999999e-05: 100% 39/39 [00:11<00:00,  3.40it/s, 0 cls=0.17473, 1 cls=0.25307, 2 cls=0.34781, bce=0.07654, dice=0.84841, loss=0.23759]\n"
     ]
    },
    {
     "name": "stdout",
     "output_type": "stream",
     "text": [
      "loss: 0.20117 | bce: 0.05200 | dice: 0.86107 | 0 cls: 0.14409 | 1 cls: 0.20564 | 2 cls: 0.30681\n"
     ]
    },
    {
     "name": "stderr",
     "output_type": "stream",
     "text": [
      "Epoch 494, lr 2.1608999999999996e-05: 100% 39/39 [00:11<00:00,  3.42it/s, 0 cls=0.17044, 1 cls=0.25329, 2 cls=0.34567, bce=0.07740, dice=0.85121, loss=0.23496]\n"
     ]
    },
    {
     "name": "stdout",
     "output_type": "stream",
     "text": [
      "loss: 0.19677 | bce: 0.05120 | dice: 0.86434 | 0 cls: 0.14093 | 1 cls: 0.20036 | 2 cls: 0.30062\n"
     ]
    },
    {
     "name": "stderr",
     "output_type": "stream",
     "text": [
      "Epoch 495, lr 0.00024009999999999995: 100% 39/39 [00:11<00:00,  3.42it/s, 0 cls=0.17402, 1 cls=0.25468, 2 cls=0.35075, bce=0.07716, dice=0.84812, loss=0.23837]\n"
     ]
    },
    {
     "name": "stdout",
     "output_type": "stream",
     "text": [
      "loss: 0.20638 | bce: 0.05952 | dice: 0.86304 | 0 cls: 0.14951 | 1 cls: 0.20653 | 2 cls: 0.31561\n"
     ]
    },
    {
     "name": "stderr",
     "output_type": "stream",
     "text": [
      "Epoch 496, lr 0.00024009999999999995: 100% 39/39 [00:11<00:00,  3.43it/s, 0 cls=0.17707, 1 cls=0.25632, 2 cls=0.35616, bce=0.07893, dice=0.84679, loss=0.24165]\n"
     ]
    },
    {
     "name": "stdout",
     "output_type": "stream",
     "text": [
      "loss: 0.20183 | bce: 0.05157 | dice: 0.86033 | 0 cls: 0.14573 | 1 cls: 0.20283 | 2 cls: 0.30886\n"
     ]
    },
    {
     "name": "stderr",
     "output_type": "stream",
     "text": [
      "Epoch 497, lr 7.202999999999999e-05: 100% 39/39 [00:11<00:00,  3.42it/s, 0 cls=0.17508, 1 cls=0.25633, 2 cls=0.35167, bce=0.07808, dice=0.84800, loss=0.23954]\n"
     ]
    },
    {
     "name": "stdout",
     "output_type": "stream",
     "text": [
      "loss: 0.19502 | bce: 0.05245 | dice: 0.86656 | 0 cls: 0.13937 | 1 cls: 0.19821 | 2 cls: 0.29882\n"
     ]
    },
    {
     "name": "stderr",
     "output_type": "stream",
     "text": [
      "Epoch 498, lr 7.202999999999999e-05: 100% 39/39 [00:11<00:00,  3.41it/s, 0 cls=0.17669, 1 cls=0.25572, 2 cls=0.35361, bce=0.07774, dice=0.84678, loss=0.24068]\n"
     ]
    },
    {
     "name": "stdout",
     "output_type": "stream",
     "text": [
      "loss: 0.19854 | bce: 0.05240 | dice: 0.86360 | 0 cls: 0.14277 | 1 cls: 0.20004 | 2 cls: 0.30424\n"
     ]
    },
    {
     "name": "stderr",
     "output_type": "stream",
     "text": [
      "Epoch 499, lr 2.1608999999999996e-05: 100% 39/39 [00:11<00:00,  3.40it/s, 0 cls=0.16374, 1 cls=0.24403, 2 cls=0.33560, bce=0.07382, dice=0.85487, loss=0.22678]\n"
     ]
    },
    {
     "name": "stdout",
     "output_type": "stream",
     "text": [
      "loss: 0.19812 | bce: 0.05275 | dice: 0.86454 | 0 cls: 0.14230 | 1 cls: 0.20059 | 2 cls: 0.30301\n",
      "Finished: best loss 0.19462 on epoch 422\n"
     ]
    }
   ],
   "source": [
    "train_args = {\n",
    "    'model_name': 'TernausNet34_without_scale_05_epoch_500',\n",
    "    'network': 'TernausNet34',\n",
    "    'nb_epoch': 500,\n",
    "    'loss': 'BCEDiceLossMulti',\n",
    "    'lr_args': {\n",
    "        'adjust_init_lr': 0.0003,\n",
    "        'adjust_lr_decay_factor': 0.5,\n",
    "        'cycle_epochs_decay': 2,\n",
    "        'cycle_init_lr': 0.001,\n",
    "        'cycle_lr_decay_factor': 0.3,\n",
    "        'global_cycle_lr_decay_factor': 0.7,\n",
    "        'global_num_epochs_per_cycle': 100,\n",
    "        'num_epochs_per_cycle': 5,\n",
    "        'num_epochs_per_decay': 100\n",
    "    }, \n",
    "    'model_dir': 'models', \n",
    "    'log_dir': 'logs', \n",
    "    'network_args': {\n",
    "        'num_classes': 3, \n",
    "        'num_filters': 16, \n",
    "        'pretrained': True\n",
    "    }, \n",
    "    'loss_args': {\n",
    "        'weights': [0.5, 0.25, 0.25],\n",
    "        'num_classes': 3\n",
    "    },       \n",
    "    'cycle_start_epoch': 5\n",
    "}\n",
    "\n",
    "train(\n",
    "    train_args, train_ids, val_ids, \n",
    "    \"../output_data/without_scale_05/images/{}.png\", \"../output_data/without_scale_05/masks/{}.png\", \n",
    "    16, 1, train_transforms, val_transforms, period=64\n",
    ")"
   ]
  }
 ],
 "metadata": {
  "kernelspec": {
   "display_name": "Python 3",
   "language": "python",
   "name": "python3"
  },
  "language_info": {
   "codemirror_mode": {
    "name": "ipython",
    "version": 3
   },
   "file_extension": ".py",
   "mimetype": "text/x-python",
   "name": "python",
   "nbconvert_exporter": "python",
   "pygments_lexer": "ipython3",
   "version": "3.6.3"
  }
 },
 "nbformat": 4,
 "nbformat_minor": 2
}
