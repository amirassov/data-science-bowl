{
 "cells": [
  {
   "cell_type": "code",
   "execution_count": 2,
   "metadata": {},
   "outputs": [],
   "source": [
    "import warnings\n",
    "warnings.simplefilter(\"ignore\", UserWarning)\n",
    "warnings.simplefilter(\"ignore\", FutureWarning)\n",
    "warnings.simplefilter(\"ignore\", RuntimeWarning)\n",
    "\n",
    "import sys\n",
    "sys.path.append('../../dstorch/')\n",
    "\n",
    "import pandas as pd\n",
    "import seaborn\n",
    "import matplotlib.pyplot as plt\n",
    "%matplotlib inline\n",
    "%reload_ext autoreload\n",
    "%autoreload 2"
   ]
  },
  {
   "cell_type": "code",
   "execution_count": 15,
   "metadata": {},
   "outputs": [],
   "source": [
    "from dstorch import io, dataset, transforms, losses, models, predict, draw, utils\n",
    "from dstorch.train import train\n",
    "from dstorch.utils import variable\n",
    "import torch.backends.cudnn as cudnn\n",
    "import torch\n",
    "import torch.nn as nn\n",
    "from torch.optim import Adam\n",
    "from tqdm import tqdm_notebook, tqdm\n",
    "import numpy as np\n",
    "import cv2\n",
    "import skimage\n",
    "from skimage import img_as_ubyte\n",
    "import scipy.ndimage as nd"
   ]
  },
  {
   "cell_type": "code",
   "execution_count": 4,
   "metadata": {
    "scrolled": false
   },
   "outputs": [
    {
     "name": "stderr",
     "output_type": "stream",
     "text": [
      "Reading train data..: 100%|██████████| 664/664 [00:27<00:00, 23.90it/s]\n",
      "Reading test data..: 100%|██████████| 65/65 [00:00<00:00, 270.07it/s]\n"
     ]
    }
   ],
   "source": [
    "TRAIN_PATH = '../../kaggle-dsbowl-2018-dataset-fixes/stage1_train/'\n",
    "TEST_PATH = '../../stage1_test/'\n",
    "\n",
    "ids, images, masks = io.read_train_data(TRAIN_PATH, d=3)\n",
    "test_ids, test_images = io.read_test_data(TEST_PATH, d=3)"
   ]
  },
  {
   "cell_type": "code",
   "execution_count": 5,
   "metadata": {},
   "outputs": [],
   "source": [
    "classes = pd.read_csv(\"../../classes.csv\")\n",
    "\n",
    "images = utils.invert_images(classes, images, ids)\n",
    "test_images = utils.invert_images(classes, test_images, test_ids)"
   ]
  },
  {
   "cell_type": "code",
   "execution_count": 6,
   "metadata": {},
   "outputs": [
    {
     "name": "stderr",
     "output_type": "stream",
     "text": [
      "100%|██████████| 664/664 [00:10<00:00, 63.87it/s]\n"
     ]
    }
   ],
   "source": [
    "rles = pd.read_csv(\"../../stage1_train_labels.csv\")\n",
    "labels = utils.rles2labels(rles, [x.shape for x in masks], ids)"
   ]
  },
  {
   "cell_type": "code",
   "execution_count": 7,
   "metadata": {},
   "outputs": [],
   "source": [
    "def label2distance(label):\n",
    "    distance = np.zeros_like(label, dtype=float)\n",
    "    for i in np.unique(label):\n",
    "        if i:\n",
    "            instance = label == i\n",
    "            dt = nd.distance_transform_edt(instance)\n",
    "            dt /= dt.max()\n",
    "            distance += dt\n",
    "    return distance\n",
    "\n",
    "def get_distances(labels):\n",
    "    distances = []\n",
    "    for label in tqdm(labels):\n",
    "        distance = label2distance(label)\n",
    "        distances.append(distance)\n",
    "    return distances"
   ]
  },
  {
   "cell_type": "code",
   "execution_count": 8,
   "metadata": {
    "scrolled": true
   },
   "outputs": [
    {
     "name": "stderr",
     "output_type": "stream",
     "text": [
      "100%|██████████| 664/664 [06:34<00:00,  1.68it/s]\n"
     ]
    }
   ],
   "source": [
    "distances = get_distances(labels)"
   ]
  },
  {
   "cell_type": "code",
   "execution_count": 24,
   "metadata": {},
   "outputs": [],
   "source": [
    "centers = [d >= 0.4 for d in distances]\n",
    "centers_1 = [d >= 0.6 for d in distances]"
   ]
  },
  {
   "cell_type": "code",
   "execution_count": 26,
   "metadata": {
    "scrolled": true
   },
   "outputs": [
    {
     "name": "stdout",
     "output_type": "stream",
     "text": [
      "Границы значений: images [4, 44], masks [0.0, 1.0], labels [0, 22]\n"
     ]
    },
    {
     "data": {
      "image/png": "[encoded data removed]",
      "text/plain": [
       "<matplotlib.figure.Figure at 0x7f43bc80f7b8>"
      ]
     },
     "metadata": {},
     "output_type": "display_data"
    }
   ],
   "source": [
    "print('Границы значений: images [{}, {}], masks [{}, {}], labels [{}, {}]'.format(\n",
    "    images[1].min(),\n",
    "    images[1].max(),\n",
    "    masks[1].min(),\n",
    "    masks[1].max(),\n",
    "    labels[1].min(),\n",
    "    labels[1].max()\n",
    "))\n",
    "\n",
    "\n",
    "draw.plots([\n",
    "    images[0], masks[0], labels[0], centers[0], centers_1[0]\n",
    "], col_number=5, scale=3)"
   ]
  },
  {
   "cell_type": "code",
   "execution_count": 27,
   "metadata": {},
   "outputs": [],
   "source": [
    "!rm -rf ../../data\n",
    "!rm -rf ../../data/images \n",
    "!rm -rf ../../data/masks \n",
    "!rm -rf ../../data/centers \n",
    "!rm -rf ../../data/distances \n",
    "!rm -rf ../../data/test"
   ]
  },
  {
   "cell_type": "code",
   "execution_count": 28,
   "metadata": {
    "scrolled": true
   },
   "outputs": [],
   "source": [
    "!mkdir ../../data\n",
    "!mkdir ../../data/images \n",
    "!mkdir ../../data/masks\n",
    "!mkdir ../../data/test"
   ]
  },
  {
   "cell_type": "code",
   "execution_count": 29,
   "metadata": {},
   "outputs": [],
   "source": [
    "answers = [np.stack([x, y, z], axis=-1) for x, y, z in zip(masks, centers, centers_1)]"
   ]
  },
  {
   "cell_type": "code",
   "execution_count": 30,
   "metadata": {
    "scrolled": true
   },
   "outputs": [
    {
     "name": "stderr",
     "output_type": "stream",
     "text": [
      "100%|██████████| 664/664 [00:03<00:00, 195.01it/s]\n"
     ]
    }
   ],
   "source": [
    "for image, mask, _id in tqdm(zip(images, answers, ids), total=len(ids)):\n",
    "    cv2.imwrite(\"../../data/images/{}.png\".format(_id), image)\n",
    "    cv2.imwrite(\"../../data/masks/{}.png\".format(_id), mask)"
   ]
  },
  {
   "cell_type": "code",
   "execution_count": 31,
   "metadata": {},
   "outputs": [
    {
     "name": "stderr",
     "output_type": "stream",
     "text": [
      "100%|██████████| 65/65 [00:00<00:00, 217.86it/s]\n"
     ]
    }
   ],
   "source": [
    "for image, _id in tqdm(zip(test_images, test_ids), total=len(test_ids)):\n",
    "    cv2.imwrite(\"../../data/test/{}.png\".format(_id), image)"
   ]
  }
 ],
 "metadata": {
  "kernelspec": {
   "display_name": "Python 3",
   "language": "python",
   "name": "python3"
  },
  "language_info": {
   "codemirror_mode": {
    "name": "ipython",
    "version": 3
   },
   "file_extension": ".py",
   "mimetype": "text/x-python",
   "name": "python",
   "nbconvert_exporter": "python",
   "pygments_lexer": "ipython3",
   "version": "3.6.3"
  }
 },
 "nbformat": 4,
 "nbformat_minor": 2
}
