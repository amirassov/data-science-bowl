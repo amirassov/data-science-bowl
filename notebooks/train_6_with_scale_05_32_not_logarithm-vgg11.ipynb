{
 "cells": [
  {
   "cell_type": "code",
   "execution_count": 1,
   "metadata": {},
   "outputs": [
    {
     "data": {
      "text/html": [
       "<style>.container { width:95% !important; }</style>"
      ],
      "text/plain": [
       "<IPython.core.display.HTML object>"
      ]
     },
     "metadata": {},
     "output_type": "display_data"
    }
   ],
   "source": [
    "from IPython.core.display import display, HTML\n",
    "display(HTML(\"<style>.container { width:95% !important; }</style>\"))"
   ]
  },
  {
   "cell_type": "code",
   "execution_count": 2,
   "metadata": {},
   "outputs": [],
   "source": [
    "import warnings\n",
    "warnings.simplefilter(\"ignore\", UserWarning)\n",
    "warnings.simplefilter(\"ignore\", FutureWarning)\n",
    "warnings.simplefilter(\"ignore\", RuntimeWarning)\n",
    "\n",
    "import sys\n",
    "sys.path.append('../../dstorch/')\n",
    "\n",
    "import matplotlib.pyplot as plt\n",
    "%matplotlib inline\n",
    "%reload_ext autoreload\n",
    "%autoreload 2"
   ]
  },
  {
   "cell_type": "code",
   "execution_count": 3,
   "metadata": {},
   "outputs": [],
   "source": [
    "import os\n",
    "import pandas as pd\n",
    "from dstorch import transforms\n",
    "from dstorch.train import train\n",
    "import torch.backends.cudnn as cudnn"
   ]
  },
  {
   "cell_type": "code",
   "execution_count": 4,
   "metadata": {},
   "outputs": [],
   "source": [
    "ids = list([x.split('.')[0] for x in list(next(os.walk(\"../output_data/with_scale_05/images/\"))[2])])\n",
    "classes = pd.read_csv(\"../data/classes.csv\")\n",
    "val_ids = list(classes.loc[classes['type'] == 'val', 'id'])\n",
    "train_ids = list(set(ids) - set(val_ids))"
   ]
  },
  {
   "cell_type": "code",
   "execution_count": 5,
   "metadata": {},
   "outputs": [],
   "source": [
    "train_transforms = transforms.DualCompose(\n",
    "    [\n",
    "        transforms.RandomCrop((256, 256)),\n",
    "        transforms.VerticalFlip(),\n",
    "        transforms.HorizontalFlip(),\n",
    "        transforms.Transpose(),\n",
    "        transforms.ShiftScaleRotate(scale_limit=0.3, shift_limit=0.2),\n",
    "        transforms.Distort1(0.4, 0.4),\n",
    "        transforms.ImageOnly(transforms.RandomBrightness(0.5)),\n",
    "        transforms.ImageOnly(transforms.RandomContrast(0.5)),\n",
    "        transforms.ImageOnly(transforms.RandomSaturation(0.5)),\n",
    "        transforms.ImageOnly(transforms.Normalize(\n",
    "            mean=[0.485, 0.456, 0.406],\n",
    "            std=[0.229, 0.224, 0.225]\n",
    "        ))\n",
    "    ]\n",
    ")\n",
    "\n",
    "val_transforms = transforms.DualCompose(\n",
    "    [\n",
    "        transforms.ImageOnly(transforms.Normalize(\n",
    "            mean=[0.485, 0.456, 0.406],\n",
    "            std=[0.229, 0.224, 0.225]\n",
    "        ))\n",
    "    ]\n",
    ")"
   ]
  },
  {
   "cell_type": "code",
   "execution_count": 6,
   "metadata": {},
   "outputs": [],
   "source": [
    "cudnn.benchmark = True"
   ]
  },
  {
   "cell_type": "code",
   "execution_count": 7,
   "metadata": {
    "scrolled": true
   },
   "outputs": [
    {
     "name": "stderr",
     "output_type": "stream",
     "text": [
      "Downloading: \"https://download.pytorch.org/models/vgg11-bbd30ac9.pth\" to /home/ubuntu/.torch/models/vgg11-bbd30ac9.pth\n",
      "100%|██████████| 531456000/531456000 [00:43<00:00, 12244637.51it/s]\n",
      "Epoch 0, lr 0.0008: 100% 21/21 [00:15<00:00,  1.35it/s, 0 cls=1.24680, 1 cls=1.89601, 2 cls=1.74617, bce=0.29809, dice=0.35202, loss=-0.05833]\n"
     ]
    },
    {
     "name": "stdout",
     "output_type": "stream",
     "text": [
      "loss: -0.63623 | bce: 0.08062 | dice: 0.68015 | 0 cls: 0.23790 | 1 cls: 0.75043 | 2 cls: 0.75138\n"
     ]
    },
    {
     "name": "stderr",
     "output_type": "stream",
     "text": [
      "Epoch 1, lr 0.0008: 100% 21/21 [00:11<00:00,  1.89it/s, 0 cls=0.41322, 1 cls=0.65698, 2 cls=0.96222, bce=0.19440, dice=0.65097, loss=-0.53129]\n"
     ]
    },
    {
     "name": "stdout",
     "output_type": "stream",
     "text": [
      "loss: -0.76263 | bce: 0.07735 | dice: 0.74307 | 0 cls: 0.16771 | 1 cls: 0.26989 | 2 cls: 0.78574\n"
     ]
    },
    {
     "name": "stderr",
     "output_type": "stream",
     "text": [
      "Epoch 2, lr 0.0008: 100% 21/21 [00:10<00:00,  1.92it/s, 0 cls=0.31081, 1 cls=0.46772, 2 cls=0.74712, bce=0.12592, dice=0.70933, loss=-0.64213]\n"
     ]
    },
    {
     "name": "stdout",
     "output_type": "stream",
     "text": [
      "loss: -0.74381 | bce: 0.06277 | dice: 0.76448 | 0 cls: 0.25328 | 1 cls: 0.22560 | 2 cls: 0.54601\n"
     ]
    },
    {
     "name": "stderr",
     "output_type": "stream",
     "text": [
      "Epoch 3, lr 0.0008: 100% 21/21 [00:10<00:00,  1.91it/s, 0 cls=0.29517, 1 cls=0.39404, 2 cls=0.58305, bce=0.11157, dice=0.75178, loss=-0.67784]\n"
     ]
    },
    {
     "name": "stdout",
     "output_type": "stream",
     "text": [
      "loss: -0.80928 | bce: 0.05402 | dice: 0.83212 | 0 cls: 0.15587 | 1 cls: 0.22107 | 2 cls: 0.38518\n"
     ]
    },
    {
     "name": "stderr",
     "output_type": "stream",
     "text": [
      "Epoch 4, lr 0.0008: 100% 21/21 [00:11<00:00,  1.87it/s, 0 cls=0.27780, 1 cls=0.37714, 2 cls=0.52234, bce=0.10485, dice=0.76965, loss=-0.69571]\n"
     ]
    },
    {
     "name": "stdout",
     "output_type": "stream",
     "text": [
      "loss: -0.77369 | bce: 0.06506 | dice: 0.80927 | 0 cls: 0.21356 | 1 cls: 0.21936 | 2 cls: 0.42769\n"
     ]
    },
    {
     "name": "stderr",
     "output_type": "stream",
     "text": [
      "Epoch 5, lr 0.0008: 100% 21/21 [00:10<00:00,  1.91it/s, 0 cls=0.28928, 1 cls=0.37048, 2 cls=0.53374, bce=0.11056, dice=0.76857, loss=-0.68974]\n"
     ]
    },
    {
     "name": "stdout",
     "output_type": "stream",
     "text": [
      "loss: -0.78957 | bce: 0.05975 | dice: 0.80661 | 0 cls: 0.17572 | 1 cls: 0.23633 | 2 cls: 0.45313\n"
     ]
    },
    {
     "name": "stderr",
     "output_type": "stream",
     "text": [
      "Epoch 6, lr 0.0008: 100% 21/21 [00:11<00:00,  1.89it/s, 0 cls=0.26854, 1 cls=0.36970, 2 cls=0.51293, bce=0.10524, dice=0.77613, loss=-0.70292]\n"
     ]
    },
    {
     "name": "stdout",
     "output_type": "stream",
     "text": [
      "loss: -0.81784 | bce: 0.04789 | dice: 0.83298 | 0 cls: 0.15400 | 1 cls: 0.20141 | 2 cls: 0.37682\n"
     ]
    },
    {
     "name": "stderr",
     "output_type": "stream",
     "text": [
      "Epoch 7, lr 0.0008: 100% 21/21 [00:11<00:00,  1.89it/s, 0 cls=0.26267, 1 cls=0.34730, 2 cls=0.48614, bce=0.10286, dice=0.78679, loss=-0.71292]\n"
     ]
    },
    {
     "name": "stdout",
     "output_type": "stream",
     "text": [
      "loss: -0.78890 | bce: 0.05676 | dice: 0.82015 | 0 cls: 0.19260 | 1 cls: 0.22153 | 2 cls: 0.38975\n"
     ]
    },
    {
     "name": "stderr",
     "output_type": "stream",
     "text": [
      "Epoch 8, lr 0.0008: 100% 21/21 [00:10<00:00,  1.91it/s, 0 cls=0.24616, 1 cls=0.33221, 2 cls=0.46320, bce=0.09635, dice=0.79587, loss=-0.72795]\n"
     ]
    },
    {
     "name": "stdout",
     "output_type": "stream",
     "text": [
      "loss: -0.82234 | bce: 0.04246 | dice: 0.83563 | 0 cls: 0.15250 | 1 cls: 0.19712 | 2 cls: 0.35946\n"
     ]
    },
    {
     "name": "stderr",
     "output_type": "stream",
     "text": [
      "Epoch 9, lr 0.0008: 100% 21/21 [00:10<00:00,  1.93it/s, 0 cls=0.24763, 1 cls=0.33369, 2 cls=0.46862, bce=0.09709, dice=0.79391, loss=-0.72619]\n"
     ]
    },
    {
     "name": "stdout",
     "output_type": "stream",
     "text": [
      "loss: -0.80143 | bce: 0.05162 | dice: 0.82361 | 0 cls: 0.17491 | 1 cls: 0.22049 | 2 cls: 0.38308\n"
     ]
    },
    {
     "name": "stderr",
     "output_type": "stream",
     "text": [
      "Epoch 10, lr 0.0008: 100% 21/21 [00:10<00:00,  1.91it/s, 0 cls=0.24478, 1 cls=0.33227, 2 cls=0.46425, bce=0.09618, dice=0.79598, loss=-0.72863]\n"
     ]
    },
    {
     "name": "stdout",
     "output_type": "stream",
     "text": [
      "loss: -0.83110 | bce: 0.04150 | dice: 0.84310 | 0 cls: 0.13829 | 1 cls: 0.19813 | 2 cls: 0.34694\n"
     ]
    },
    {
     "name": "stderr",
     "output_type": "stream",
     "text": [
      "Epoch 11, lr 0.0008: 100% 21/21 [00:11<00:00,  1.86it/s, 0 cls=0.23161, 1 cls=0.31948, 2 cls=0.44376, bce=0.09334, dice=0.80531, loss=-0.74044]\n"
     ]
    },
    {
     "name": "stdout",
     "output_type": "stream",
     "text": [
      "loss: -0.83964 | bce: 0.04168 | dice: 0.85342 | 0 cls: 0.13070 | 1 cls: 0.18806 | 2 cls: 0.32761\n"
     ]
    },
    {
     "name": "stderr",
     "output_type": "stream",
     "text": [
      "Epoch 12, lr 0.0008: 100% 21/21 [00:11<00:00,  1.90it/s, 0 cls=0.21861, 1 cls=0.30492, 2 cls=0.42769, bce=0.08986, dice=0.81383, loss=-0.75228]\n"
     ]
    },
    {
     "name": "stdout",
     "output_type": "stream",
     "text": [
      "loss: -0.78068 | bce: 0.05941 | dice: 0.80967 | 0 cls: 0.21004 | 1 cls: 0.21494 | 2 cls: 0.41581\n"
     ]
    },
    {
     "name": "stderr",
     "output_type": "stream",
     "text": [
      "Epoch 13, lr 0.0008: 100% 21/21 [00:11<00:00,  1.89it/s, 0 cls=0.24353, 1 cls=0.33393, 2 cls=0.47098, bce=0.09929, dice=0.79646, loss=-0.72791]\n"
     ]
    },
    {
     "name": "stdout",
     "output_type": "stream",
     "text": [
      "loss: -0.81505 | bce: 0.04665 | dice: 0.83175 | 0 cls: 0.16273 | 1 cls: 0.19867 | 2 cls: 0.36913\n"
     ]
    },
    {
     "name": "stderr",
     "output_type": "stream",
     "text": [
      "Epoch 14, lr 0.0008: 100% 21/21 [00:10<00:00,  1.95it/s, 0 cls=0.23202, 1 cls=0.31119, 2 cls=0.43889, bce=0.09379, dice=0.80824, loss=-0.74236]\n"
     ]
    },
    {
     "name": "stdout",
     "output_type": "stream",
     "text": [
      "loss: -0.81954 | bce: 0.05132 | dice: 0.84338 | 0 cls: 0.15705 | 1 cls: 0.19905 | 2 cls: 0.34799\n"
     ]
    },
    {
     "name": "stderr",
     "output_type": "stream",
     "text": [
      "Epoch 15, lr 0.0008: 100% 21/21 [00:10<00:00,  1.93it/s, 0 cls=0.23059, 1 cls=0.32138, 2 cls=0.44814, bce=0.09341, dice=0.80463, loss=-0.74017]\n"
     ]
    },
    {
     "name": "stdout",
     "output_type": "stream",
     "text": [
      "loss: -0.84210 | bce: 0.03875 | dice: 0.85167 | 0 cls: 0.13093 | 1 cls: 0.18317 | 2 cls: 0.33095\n"
     ]
    },
    {
     "name": "stderr",
     "output_type": "stream",
     "text": [
      "Epoch 16, lr 0.0008: 100% 21/21 [00:11<00:00,  1.87it/s, 0 cls=0.21356, 1 cls=0.31253, 2 cls=0.42754, bce=0.08895, dice=0.81355, loss=-0.75331]\n"
     ]
    },
    {
     "name": "stdout",
     "output_type": "stream",
     "text": [
      "loss: -0.82862 | bce: 0.04278 | dice: 0.84564 | 0 cls: 0.14806 | 1 cls: 0.18778 | 2 cls: 0.33510\n"
     ]
    },
    {
     "name": "stderr",
     "output_type": "stream",
     "text": [
      "Epoch 17, lr 0.0008: 100% 21/21 [00:11<00:00,  1.91it/s, 0 cls=0.21571, 1 cls=0.30318, 2 cls=0.42259, bce=0.08862, dice=0.81558, loss=-0.75496]\n"
     ]
    },
    {
     "name": "stdout",
     "output_type": "stream",
     "text": [
      "loss: -0.82257 | bce: 0.04863 | dice: 0.84460 | 0 cls: 0.15165 | 1 cls: 0.19888 | 2 cls: 0.34351\n"
     ]
    },
    {
     "name": "stderr",
     "output_type": "stream",
     "text": [
      "Epoch 18, lr 0.0008: 100% 21/21 [00:11<00:00,  1.83it/s, 0 cls=0.21639, 1 cls=0.30072, 2 cls=0.41690, bce=0.08955, dice=0.81771, loss=-0.75532]\n"
     ]
    },
    {
     "name": "stdout",
     "output_type": "stream",
     "text": [
      "loss: -0.82148 | bce: 0.04477 | dice: 0.83700 | 0 cls: 0.15090 | 1 cls: 0.20835 | 2 cls: 0.35175\n"
     ]
    },
    {
     "name": "stderr",
     "output_type": "stream",
     "text": [
      "Epoch 19, lr 0.0008: 100% 21/21 [00:10<00:00,  1.94it/s, 0 cls=0.21884, 1 cls=0.30257, 2 cls=0.41966, bce=0.08923, dice=0.81552, loss=-0.75339]\n"
     ]
    },
    {
     "name": "stdout",
     "output_type": "stream",
     "text": [
      "loss: -0.84653 | bce: 0.04151 | dice: 0.86071 | 0 cls: 0.12346 | 1 cls: 0.18295 | 2 cls: 0.31191\n"
     ]
    },
    {
     "name": "stderr",
     "output_type": "stream",
     "text": [
      "Epoch 20, lr 0.0008: 100% 21/21 [00:10<00:00,  1.92it/s, 0 cls=0.21319, 1 cls=0.30550, 2 cls=0.41606, bce=0.08886, dice=0.81771, loss=-0.75602]\n"
     ]
    },
    {
     "name": "stdout",
     "output_type": "stream",
     "text": [
      "loss: -0.83590 | bce: 0.04466 | dice: 0.85202 | 0 cls: 0.14085 | 1 cls: 0.18163 | 2 cls: 0.32822\n"
     ]
    },
    {
     "name": "stderr",
     "output_type": "stream",
     "text": [
      "Epoch 21, lr 0.0008: 100% 21/21 [00:10<00:00,  1.92it/s, 0 cls=0.21385, 1 cls=0.30222, 2 cls=0.42157, bce=0.08862, dice=0.81650, loss=-0.75613]\n"
     ]
    },
    {
     "name": "stdout",
     "output_type": "stream",
     "text": [
      "loss: -0.84524 | bce: 0.04023 | dice: 0.85815 | 0 cls: 0.12874 | 1 cls: 0.17784 | 2 cls: 0.31422\n"
     ]
    },
    {
     "name": "stderr",
     "output_type": "stream",
     "text": [
      "Epoch 22, lr 0.0008: 100% 21/21 [00:10<00:00,  1.92it/s, 0 cls=0.21005, 1 cls=0.29320, 2 cls=0.41268, bce=0.08712, dice=0.82038, loss=-0.76103]\n"
     ]
    },
    {
     "name": "stdout",
     "output_type": "stream",
     "text": [
      "loss: -0.83752 | bce: 0.04527 | dice: 0.85327 | 0 cls: 0.13546 | 1 cls: 0.18520 | 2 cls: 0.32898\n"
     ]
    },
    {
     "name": "stderr",
     "output_type": "stream",
     "text": [
      "Epoch 23, lr 0.0008: 100% 21/21 [00:10<00:00,  1.91it/s, 0 cls=0.20390, 1 cls=0.29799, 2 cls=0.40820, bce=0.08565, dice=0.82164, loss=-0.76370]\n"
     ]
    },
    {
     "name": "stdout",
     "output_type": "stream",
     "text": [
      "loss: -0.84464 | bce: 0.04035 | dice: 0.85666 | 0 cls: 0.12998 | 1 cls: 0.17991 | 2 cls: 0.31591\n"
     ]
    },
    {
     "name": "stderr",
     "output_type": "stream",
     "text": [
      "Epoch 24, lr 0.0008: 100% 21/21 [00:10<00:00,  1.94it/s, 0 cls=0.19734, 1 cls=0.28889, 2 cls=0.40066, bce=0.08343, dice=0.82582, loss=-0.77044]\n"
     ]
    },
    {
     "name": "stdout",
     "output_type": "stream",
     "text": [
      "loss: -0.84904 | bce: 0.03990 | dice: 0.86084 | 0 cls: 0.12255 | 1 cls: 0.17896 | 2 cls: 0.31027\n"
     ]
    },
    {
     "name": "stderr",
     "output_type": "stream",
     "text": [
      "Epoch 25, lr 0.0008: 100% 21/21 [00:11<00:00,  1.88it/s, 0 cls=0.20466, 1 cls=0.29097, 2 cls=0.40163, bce=0.08430, dice=0.82307, loss=-0.76571]\n"
     ]
    },
    {
     "name": "stdout",
     "output_type": "stream",
     "text": [
      "loss: -0.84828 | bce: 0.03936 | dice: 0.85963 | 0 cls: 0.12587 | 1 cls: 0.17560 | 2 cls: 0.30930\n"
     ]
    },
    {
     "name": "stderr",
     "output_type": "stream",
     "text": [
      "Epoch 26, lr 0.0008: 100% 21/21 [00:10<00:00,  1.94it/s, 0 cls=0.20599, 1 cls=0.29395, 2 cls=0.40799, bce=0.08590, dice=0.82218, loss=-0.76380]\n"
     ]
    },
    {
     "name": "stdout",
     "output_type": "stream",
     "text": [
      "loss: -0.84441 | bce: 0.04135 | dice: 0.85654 | 0 cls: 0.12831 | 1 cls: 0.18152 | 2 cls: 0.31949\n"
     ]
    },
    {
     "name": "stderr",
     "output_type": "stream",
     "text": [
      "Epoch 27, lr 0.0008: 100% 21/21 [00:10<00:00,  1.93it/s, 0 cls=0.20457, 1 cls=0.29273, 2 cls=0.40399, bce=0.08518, dice=0.82300, loss=-0.76507]\n"
     ]
    },
    {
     "name": "stdout",
     "output_type": "stream",
     "text": [
      "loss: -0.84162 | bce: 0.04186 | dice: 0.85555 | 0 cls: 0.13381 | 1 cls: 0.17928 | 2 cls: 0.31865\n"
     ]
    },
    {
     "name": "stderr",
     "output_type": "stream",
     "text": [
      "Epoch 28, lr 0.0008: 100% 21/21 [00:10<00:00,  1.91it/s, 0 cls=0.19807, 1 cls=0.28509, 2 cls=0.39592, bce=0.08305, dice=0.82701, loss=-0.77117]\n"
     ]
    },
    {
     "name": "stdout",
     "output_type": "stream",
     "text": [
      "loss: -0.84840 | bce: 0.03833 | dice: 0.85906 | 0 cls: 0.12427 | 1 cls: 0.17780 | 2 cls: 0.31240\n"
     ]
    },
    {
     "name": "stderr",
     "output_type": "stream",
     "text": [
      "Epoch 29, lr 0.0008: 100% 21/21 [00:11<00:00,  1.89it/s, 0 cls=0.20437, 1 cls=0.29461, 2 cls=0.40250, bce=0.08333, dice=0.82191, loss=-0.76528]\n"
     ]
    },
    {
     "name": "stdout",
     "output_type": "stream",
     "text": [
      "loss: -0.84568 | bce: 0.04219 | dice: 0.85990 | 0 cls: 0.12719 | 1 cls: 0.17976 | 2 cls: 0.31540\n"
     ]
    },
    {
     "name": "stderr",
     "output_type": "stream",
     "text": [
      "Epoch 30, lr 0.0008: 100% 21/21 [00:10<00:00,  1.92it/s, 0 cls=0.19559, 1 cls=0.27955, 2 cls=0.38961, bce=0.08182, dice=0.82944, loss=-0.77451]\n"
     ]
    },
    {
     "name": "stdout",
     "output_type": "stream",
     "text": [
      "loss: -0.85041 | bce: 0.03787 | dice: 0.86042 | 0 cls: 0.12214 | 1 cls: 0.17500 | 2 cls: 0.31016\n"
     ]
    },
    {
     "name": "stderr",
     "output_type": "stream",
     "text": [
      "Epoch 31, lr 0.0008: 100% 21/21 [00:11<00:00,  1.90it/s, 0 cls=0.19479, 1 cls=0.28430, 2 cls=0.39292, bce=0.08184, dice=0.82832, loss=-0.77361]\n"
     ]
    },
    {
     "name": "stdout",
     "output_type": "stream",
     "text": [
      "loss: -0.85173 | bce: 0.03868 | dice: 0.86280 | 0 cls: 0.12035 | 1 cls: 0.17581 | 2 cls: 0.30517\n"
     ]
    },
    {
     "name": "stderr",
     "output_type": "stream",
     "text": [
      "Epoch 32, lr 0.0008: 100% 21/21 [00:10<00:00,  1.92it/s, 0 cls=0.18536, 1 cls=0.27551, 2 cls=0.37893, bce=0.07869, dice=0.83414, loss=-0.78222]\n"
     ]
    },
    {
     "name": "stdout",
     "output_type": "stream",
     "text": [
      "loss: -0.84691 | bce: 0.04213 | dice: 0.85999 | 0 cls: 0.12459 | 1 cls: 0.18250 | 2 cls: 0.31621\n"
     ]
    },
    {
     "name": "stderr",
     "output_type": "stream",
     "text": [
      "Epoch 33, lr 0.0008: 100% 21/21 [00:10<00:00,  1.93it/s, 0 cls=0.20819, 1 cls=0.28649, 2 cls=0.40180, bce=0.08647, dice=0.82434, loss=-0.76450]\n"
     ]
    },
    {
     "name": "stdout",
     "output_type": "stream",
     "text": [
      "loss: -0.82932 | bce: 0.04591 | dice: 0.84414 | 0 cls: 0.15077 | 1 cls: 0.18087 | 2 cls: 0.34515\n"
     ]
    },
    {
     "name": "stderr",
     "output_type": "stream",
     "text": [
      "Epoch 34, lr 0.0008: 100% 21/21 [00:10<00:00,  1.91it/s, 0 cls=0.20543, 1 cls=0.29123, 2 cls=0.40941, bce=0.08513, dice=0.82134, loss=-0.76451]\n"
     ]
    },
    {
     "name": "stdout",
     "output_type": "stream",
     "text": [
      "loss: -0.85012 | bce: 0.03908 | dice: 0.86191 | 0 cls: 0.12001 | 1 cls: 0.18136 | 2 cls: 0.31020\n"
     ]
    },
    {
     "name": "stderr",
     "output_type": "stream",
     "text": [
      "Epoch 35, lr 0.0008: 100% 21/21 [00:10<00:00,  1.92it/s, 0 cls=0.20308, 1 cls=0.29144, 2 cls=0.40441, bce=0.08358, dice=0.82261, loss=-0.76648]\n"
     ]
    },
    {
     "name": "stdout",
     "output_type": "stream",
     "text": [
      "loss: -0.83828 | bce: 0.04343 | dice: 0.85358 | 0 cls: 0.13440 | 1 cls: 0.18678 | 2 cls: 0.32644\n"
     ]
    },
    {
     "name": "stderr",
     "output_type": "stream",
     "text": [
      "Epoch 36, lr 0.0008: 100% 21/21 [00:11<00:00,  1.87it/s, 0 cls=0.19245, 1 cls=0.28174, 2 cls=0.39088, bce=0.08291, dice=0.83097, loss=-0.77546]\n"
     ]
    },
    {
     "name": "stdout",
     "output_type": "stream",
     "text": [
      "loss: -0.84516 | bce: 0.04238 | dice: 0.85909 | 0 cls: 0.12780 | 1 cls: 0.17729 | 2 cls: 0.31560\n"
     ]
    },
    {
     "name": "stderr",
     "output_type": "stream",
     "text": [
      "Epoch 37, lr 0.0008: 100% 21/21 [00:10<00:00,  1.92it/s, 0 cls=0.19725, 1 cls=0.28140, 2 cls=0.38987, bce=0.08204, dice=0.82848, loss=-0.77311]\n"
     ]
    },
    {
     "name": "stdout",
     "output_type": "stream",
     "text": [
      "loss: -0.84830 | bce: 0.03825 | dice: 0.85837 | 0 cls: 0.12455 | 1 cls: 0.17726 | 2 cls: 0.31512\n"
     ]
    },
    {
     "name": "stderr",
     "output_type": "stream",
     "text": [
      "Epoch 38, lr 0.0008: 100% 21/21 [00:10<00:00,  1.92it/s, 0 cls=0.19507, 1 cls=0.28192, 2 cls=0.39169, bce=0.08204, dice=0.82893, loss=-0.77401]\n"
     ]
    },
    {
     "name": "stdout",
     "output_type": "stream",
     "text": [
      "loss: -0.85009 | bce: 0.03898 | dice: 0.86144 | 0 cls: 0.12055 | 1 cls: 0.18008 | 2 cls: 0.30970\n"
     ]
    },
    {
     "name": "stderr",
     "output_type": "stream",
     "text": [
      "Epoch 39, lr 0.0008: 100% 21/21 [00:10<00:00,  1.93it/s, 0 cls=0.20146, 1 cls=0.28249, 2 cls=0.39411, bce=0.08571, dice=0.82912, loss=-0.76983]\n"
     ]
    },
    {
     "name": "stdout",
     "output_type": "stream",
     "text": [
      "loss: -0.84247 | bce: 0.03878 | dice: 0.85324 | 0 cls: 0.13129 | 1 cls: 0.18342 | 2 cls: 0.31888\n"
     ]
    },
    {
     "name": "stderr",
     "output_type": "stream",
     "text": [
      "Epoch 40, lr 0.0008: 100% 21/21 [00:11<00:00,  1.90it/s, 0 cls=0.19650, 1 cls=0.27818, 2 cls=0.38610, bce=0.08254, dice=0.83097, loss=-0.77460]\n"
     ]
    },
    {
     "name": "stdout",
     "output_type": "stream",
     "text": [
      "loss: -0.83707 | bce: 0.04485 | dice: 0.85221 | 0 cls: 0.13430 | 1 cls: 0.19124 | 2 cls: 0.33543\n"
     ]
    },
    {
     "name": "stderr",
     "output_type": "stream",
     "text": [
      "Epoch 41, lr 0.0008: 100% 21/21 [00:10<00:00,  1.94it/s, 0 cls=0.19107, 1 cls=0.27720, 2 cls=0.38209, bce=0.07957, dice=0.83180, loss=-0.77842]\n"
     ]
    },
    {
     "name": "stdout",
     "output_type": "stream",
     "text": [
      "loss: -0.84623 | bce: 0.04297 | dice: 0.85982 | 0 cls: 0.12388 | 1 cls: 0.18607 | 2 cls: 0.31449\n"
     ]
    },
    {
     "name": "stderr",
     "output_type": "stream",
     "text": [
      "Epoch 42, lr 0.0008: 100% 21/21 [00:10<00:00,  1.97it/s, 0 cls=0.20006, 1 cls=0.28423, 2 cls=0.38993, bce=0.08460, dice=0.82931, loss=-0.77059]\n"
     ]
    },
    {
     "name": "stdout",
     "output_type": "stream",
     "text": [
      "loss: -0.85359 | bce: 0.03769 | dice: 0.86371 | 0 cls: 0.11942 | 1 cls: 0.17131 | 2 cls: 0.30326\n"
     ]
    },
    {
     "name": "stderr",
     "output_type": "stream",
     "text": [
      "Epoch 43, lr 0.0008: 100% 21/21 [00:10<00:00,  1.93it/s, 0 cls=0.19462, 1 cls=0.27652, 2 cls=0.38460, bce=0.08028, dice=0.83037, loss=-0.77634]\n"
     ]
    },
    {
     "name": "stdout",
     "output_type": "stream",
     "text": [
      "loss: -0.84923 | bce: 0.04213 | dice: 0.86205 | 0 cls: 0.12152 | 1 cls: 0.17928 | 2 cls: 0.30988\n"
     ]
    },
    {
     "name": "stderr",
     "output_type": "stream",
     "text": [
      "Epoch 44, lr 0.0008: 100% 21/21 [00:11<00:00,  1.84it/s, 0 cls=0.19821, 1 cls=0.28101, 2 cls=0.38962, bce=0.08430, dice=0.83044, loss=-0.77237]\n"
     ]
    },
    {
     "name": "stdout",
     "output_type": "stream",
     "text": [
      "loss: -0.84605 | bce: 0.03767 | dice: 0.85602 | 0 cls: 0.12794 | 1 cls: 0.17661 | 2 cls: 0.31558\n"
     ]
    },
    {
     "name": "stderr",
     "output_type": "stream",
     "text": [
      "Epoch 45, lr 0.0008: 100% 21/21 [00:11<00:00,  1.89it/s, 0 cls=0.19871, 1 cls=0.27778, 2 cls=0.38805, bce=0.08269, dice=0.82968, loss=-0.77324]\n"
     ]
    },
    {
     "name": "stdout",
     "output_type": "stream",
     "text": [
      "loss: -0.84576 | bce: 0.04087 | dice: 0.85843 | 0 cls: 0.12898 | 1 cls: 0.17696 | 2 cls: 0.31637\n"
     ]
    },
    {
     "name": "stderr",
     "output_type": "stream",
     "text": [
      "Epoch 46, lr 0.0008: 100% 21/21 [00:10<00:00,  1.94it/s, 0 cls=0.19520, 1 cls=0.28460, 2 cls=0.39002, bce=0.08305, dice=0.82968, loss=-0.77326]\n"
     ]
    },
    {
     "name": "stdout",
     "output_type": "stream",
     "text": [
      "loss: -0.84696 | bce: 0.04067 | dice: 0.85879 | 0 cls: 0.12277 | 1 cls: 0.18563 | 2 cls: 0.31555\n"
     ]
    },
    {
     "name": "stderr",
     "output_type": "stream",
     "text": [
      "Epoch 47, lr 0.0008: 100% 21/21 [00:10<00:00,  1.91it/s, 0 cls=0.18933, 1 cls=0.27327, 2 cls=0.38025, bce=0.08045, dice=0.83413, loss=-0.78027]\n"
     ]
    },
    {
     "name": "stdout",
     "output_type": "stream",
     "text": [
      "loss: -0.85067 | bce: 0.03758 | dice: 0.86074 | 0 cls: 0.12276 | 1 cls: 0.17449 | 2 cls: 0.30612\n"
     ]
    },
    {
     "name": "stderr",
     "output_type": "stream",
     "text": [
      "Epoch 48, lr 0.0008: 100% 21/21 [00:10<00:00,  1.95it/s, 0 cls=0.18608, 1 cls=0.26871, 2 cls=0.37710, bce=0.07947, dice=0.83610, loss=-0.78339]\n"
     ]
    },
    {
     "name": "stdout",
     "output_type": "stream",
     "text": [
      "loss: -0.85143 | bce: 0.04293 | dice: 0.86616 | 0 cls: 0.11721 | 1 cls: 0.18081 | 2 cls: 0.30482\n"
     ]
    },
    {
     "name": "stderr",
     "output_type": "stream",
     "text": [
      "Epoch 49, lr 0.0008: 100% 21/21 [00:11<00:00,  1.91it/s, 0 cls=0.18871, 1 cls=0.27304, 2 cls=0.38132, bce=0.08140, dice=0.83492, loss=-0.78046]\n"
     ]
    },
    {
     "name": "stdout",
     "output_type": "stream",
     "text": [
      "loss: -0.85259 | bce: 0.03846 | dice: 0.86358 | 0 cls: 0.11961 | 1 cls: 0.17352 | 2 cls: 0.30382\n"
     ]
    },
    {
     "name": "stderr",
     "output_type": "stream",
     "text": [
      "Epoch 50, lr 0.0008: 100% 21/21 [00:10<00:00,  1.95it/s, 0 cls=0.18677, 1 cls=0.26845, 2 cls=0.37358, bce=0.07806, dice=0.83590, loss=-0.78369]\n"
     ]
    },
    {
     "name": "stdout",
     "output_type": "stream",
     "text": [
      "loss: -0.85354 | bce: 0.03902 | dice: 0.86532 | 0 cls: 0.11929 | 1 cls: 0.17266 | 2 cls: 0.30015\n"
     ]
    },
    {
     "name": "stderr",
     "output_type": "stream",
     "text": [
      "Epoch 51, lr 0.0008: 100% 21/21 [00:11<00:00,  1.89it/s, 0 cls=0.18571, 1 cls=0.26696, 2 cls=0.37282, bce=0.07887, dice=0.83713, loss=-0.78451]\n"
     ]
    },
    {
     "name": "stdout",
     "output_type": "stream",
     "text": [
      "loss: -0.85416 | bce: 0.03980 | dice: 0.86637 | 0 cls: 0.11742 | 1 cls: 0.17413 | 2 cls: 0.29994\n"
     ]
    },
    {
     "name": "stderr",
     "output_type": "stream",
     "text": [
      "Epoch 52, lr 0.0008: 100% 21/21 [00:11<00:00,  1.85it/s, 0 cls=0.18970, 1 cls=0.27340, 2 cls=0.37384, bce=0.08016, dice=0.83559, loss=-0.78051]\n"
     ]
    },
    {
     "name": "stdout",
     "output_type": "stream",
     "text": [
      "loss: -0.84518 | bce: 0.03988 | dice: 0.85758 | 0 cls: 0.12702 | 1 cls: 0.18216 | 2 cls: 0.31599\n"
     ]
    },
    {
     "name": "stderr",
     "output_type": "stream",
     "text": [
      "Epoch 53, lr 0.0008: 100% 21/21 [00:11<00:00,  1.86it/s, 0 cls=0.19173, 1 cls=0.27291, 2 cls=0.37977, bce=0.07981, dice=0.83300, loss=-0.77926]\n"
     ]
    },
    {
     "name": "stdout",
     "output_type": "stream",
     "text": [
      "loss: -0.85353 | bce: 0.03759 | dice: 0.86402 | 0 cls: 0.11768 | 1 cls: 0.17534 | 2 cls: 0.30240\n"
     ]
    },
    {
     "name": "stderr",
     "output_type": "stream",
     "text": [
      "Epoch 54, lr 0.0008: 100% 21/21 [00:10<00:00,  1.94it/s, 0 cls=0.19685, 1 cls=0.27594, 2 cls=0.38494, bce=0.08115, dice=0.83034, loss=-0.77521]\n"
     ]
    },
    {
     "name": "stdout",
     "output_type": "stream",
     "text": [
      "loss: -0.85456 | bce: 0.03833 | dice: 0.86541 | 0 cls: 0.11652 | 1 cls: 0.17445 | 2 cls: 0.30237\n"
     ]
    },
    {
     "name": "stderr",
     "output_type": "stream",
     "text": [
      "Epoch 55, lr 0.0008: 100% 21/21 [00:10<00:00,  1.93it/s, 0 cls=0.18284, 1 cls=0.27040, 2 cls=0.37378, bce=0.07841, dice=0.83725, loss=-0.78524]\n"
     ]
    },
    {
     "name": "stdout",
     "output_type": "stream",
     "text": [
      "loss: -0.85021 | bce: 0.03978 | dice: 0.86228 | 0 cls: 0.12090 | 1 cls: 0.17941 | 2 cls: 0.30603\n"
     ]
    },
    {
     "name": "stderr",
     "output_type": "stream",
     "text": [
      "Epoch 56, lr 0.0008: 100% 21/21 [00:10<00:00,  1.93it/s, 0 cls=0.17893, 1 cls=0.26299, 2 cls=0.36501, bce=0.07708, dice=0.84087, loss=-0.78993]\n"
     ]
    },
    {
     "name": "stdout",
     "output_type": "stream",
     "text": [
      "loss: -0.85605 | bce: 0.03915 | dice: 0.86805 | 0 cls: 0.11598 | 1 cls: 0.17110 | 2 cls: 0.29650\n"
     ]
    },
    {
     "name": "stderr",
     "output_type": "stream",
     "text": [
      "Epoch 57, lr 0.0008: 100% 21/21 [00:10<00:00,  1.92it/s, 0 cls=0.19831, 1 cls=0.27909, 2 cls=0.38851, bce=0.08422, dice=0.83088, loss=-0.77289]\n"
     ]
    },
    {
     "name": "stdout",
     "output_type": "stream",
     "text": [
      "loss: -0.84737 | bce: 0.03947 | dice: 0.85936 | 0 cls: 0.12348 | 1 cls: 0.18143 | 2 cls: 0.31180\n"
     ]
    },
    {
     "name": "stderr",
     "output_type": "stream",
     "text": [
      "Epoch 58, lr 0.0008: 100% 21/21 [00:10<00:00,  1.93it/s, 0 cls=0.18677, 1 cls=0.26906, 2 cls=0.37443, bce=0.07946, dice=0.83650, loss=-0.78325]\n"
     ]
    },
    {
     "name": "stdout",
     "output_type": "stream",
     "text": [
      "loss: -0.85399 | bce: 0.04200 | dice: 0.86842 | 0 cls: 0.11701 | 1 cls: 0.17338 | 2 cls: 0.30141\n"
     ]
    },
    {
     "name": "stderr",
     "output_type": "stream",
     "text": [
      "Epoch 59, lr 0.0008: 100% 21/21 [00:11<00:00,  1.90it/s, 0 cls=0.18699, 1 cls=0.27043, 2 cls=0.37421, bce=0.07857, dice=0.83574, loss=-0.78295]\n"
     ]
    },
    {
     "name": "stdout",
     "output_type": "stream",
     "text": [
      "loss: -0.85328 | bce: 0.03734 | dice: 0.86305 | 0 cls: 0.12038 | 1 cls: 0.17079 | 2 cls: 0.30269\n"
     ]
    },
    {
     "name": "stderr",
     "output_type": "stream",
     "text": [
      "Epoch 60, lr 0.0008: 100% 21/21 [00:10<00:00,  1.91it/s, 0 cls=0.18719, 1 cls=0.26935, 2 cls=0.37368, bce=0.07876, dice=0.83583, loss=-0.78305]\n"
     ]
    },
    {
     "name": "stdout",
     "output_type": "stream",
     "text": [
      "loss: -0.85478 | bce: 0.03781 | dice: 0.86511 | 0 cls: 0.11772 | 1 cls: 0.17137 | 2 cls: 0.30050\n"
     ]
    },
    {
     "name": "stderr",
     "output_type": "stream",
     "text": [
      "Epoch 61, lr 0.0008: 100% 21/21 [00:10<00:00,  1.92it/s, 0 cls=0.19092, 1 cls=0.27334, 2 cls=0.37766, bce=0.08001, dice=0.83386, loss=-0.77962]\n"
     ]
    },
    {
     "name": "stdout",
     "output_type": "stream",
     "text": [
      "loss: -0.85264 | bce: 0.04063 | dice: 0.86699 | 0 cls: 0.12004 | 1 cls: 0.17287 | 2 cls: 0.29868\n"
     ]
    },
    {
     "name": "stderr",
     "output_type": "stream",
     "text": [
      "Epoch 62, lr 0.0008: 100% 21/21 [00:10<00:00,  1.93it/s, 0 cls=0.18802, 1 cls=0.27380, 2 cls=0.37446, bce=0.07973, dice=0.83549, loss=-0.78142]\n"
     ]
    },
    {
     "name": "stdout",
     "output_type": "stream",
     "text": [
      "loss: -0.85088 | bce: 0.03808 | dice: 0.86168 | 0 cls: 0.12158 | 1 cls: 0.17516 | 2 cls: 0.31065\n"
     ]
    },
    {
     "name": "stderr",
     "output_type": "stream",
     "text": [
      "Epoch 63, lr 0.0008: 100% 21/21 [00:11<00:00,  1.88it/s, 0 cls=0.18285, 1 cls=0.26802, 2 cls=0.37013, bce=0.07818, dice=0.83801, loss=-0.78597]\n"
     ]
    },
    {
     "name": "stdout",
     "output_type": "stream",
     "text": [
      "loss: -0.85514 | bce: 0.03879 | dice: 0.86690 | 0 cls: 0.11651 | 1 cls: 0.17233 | 2 cls: 0.30201\n"
     ]
    },
    {
     "name": "stderr",
     "output_type": "stream",
     "text": [
      "Epoch 64, lr 0.0008: 100% 21/21 [00:10<00:00,  1.95it/s, 0 cls=0.18774, 1 cls=0.26995, 2 cls=0.37536, bce=0.07900, dice=0.83546, loss=-0.78247]\n"
     ]
    },
    {
     "name": "stdout",
     "output_type": "stream",
     "text": [
      "loss: -0.85381 | bce: 0.03784 | dice: 0.86441 | 0 cls: 0.11865 | 1 cls: 0.17269 | 2 cls: 0.30164\n"
     ]
    },
    {
     "name": "stderr",
     "output_type": "stream",
     "text": [
      "Epoch 65, lr 0.0008: 100% 21/21 [00:10<00:00,  1.91it/s, 0 cls=0.17922, 1 cls=0.26222, 2 cls=0.36376, bce=0.07627, dice=0.84072, loss=-0.79024]\n"
     ]
    },
    {
     "name": "stdout",
     "output_type": "stream",
     "text": [
      "loss: -0.85552 | bce: 0.03815 | dice: 0.86669 | 0 cls: 0.11646 | 1 cls: 0.17181 | 2 cls: 0.29818\n"
     ]
    },
    {
     "name": "stderr",
     "output_type": "stream",
     "text": [
      "Epoch 66, lr 0.0008: 100% 21/21 [00:11<00:00,  1.88it/s, 0 cls=0.18605, 1 cls=0.26577, 2 cls=0.37051, bce=0.07818, dice=0.83747, loss=-0.78492]\n"
     ]
    },
    {
     "name": "stdout",
     "output_type": "stream",
     "text": [
      "loss: -0.85479 | bce: 0.03905 | dice: 0.86670 | 0 cls: 0.11741 | 1 cls: 0.17217 | 2 cls: 0.29980\n"
     ]
    },
    {
     "name": "stderr",
     "output_type": "stream",
     "text": [
      "Epoch 67, lr 0.0008: 100% 21/21 [00:10<00:00,  1.91it/s, 0 cls=0.19165, 1 cls=0.27053, 2 cls=0.37788, bce=0.07962, dice=0.83372, loss=-0.78010]\n"
     ]
    },
    {
     "name": "stdout",
     "output_type": "stream",
     "text": [
      "loss: -0.85551 | bce: 0.03909 | dice: 0.86772 | 0 cls: 0.11688 | 1 cls: 0.17056 | 2 cls: 0.29888\n"
     ]
    },
    {
     "name": "stderr",
     "output_type": "stream",
     "text": [
      "Epoch 68, lr 0.0008: 100% 21/21 [00:10<00:00,  1.92it/s, 0 cls=0.18381, 1 cls=0.26618, 2 cls=0.36656, bce=0.07839, dice=0.83924, loss=-0.78632]\n"
     ]
    },
    {
     "name": "stdout",
     "output_type": "stream",
     "text": [
      "loss: -0.84977 | bce: 0.04166 | dice: 0.86278 | 0 cls: 0.12011 | 1 cls: 0.18161 | 2 cls: 0.30857\n"
     ]
    },
    {
     "name": "stderr",
     "output_type": "stream",
     "text": [
      "Epoch 69, lr 0.0008: 100% 21/21 [00:10<00:00,  1.95it/s, 0 cls=0.18340, 1 cls=0.26485, 2 cls=0.36837, bce=0.07696, dice=0.83803, loss=-0.78686]\n"
     ]
    },
    {
     "name": "stdout",
     "output_type": "stream",
     "text": [
      "loss: -0.85232 | bce: 0.03798 | dice: 0.86182 | 0 cls: 0.11890 | 1 cls: 0.17586 | 2 cls: 0.30677\n"
     ]
    },
    {
     "name": "stderr",
     "output_type": "stream",
     "text": [
      "Epoch 70, lr 0.0008: 100% 21/21 [00:11<00:00,  1.88it/s, 0 cls=0.17835, 1 cls=0.26023, 2 cls=0.36247, bce=0.07653, dice=0.84179, loss=-0.79113]\n"
     ]
    },
    {
     "name": "stdout",
     "output_type": "stream",
     "text": [
      "loss: -0.85547 | bce: 0.04101 | dice: 0.86957 | 0 cls: 0.11548 | 1 cls: 0.17357 | 2 cls: 0.29630\n"
     ]
    },
    {
     "name": "stderr",
     "output_type": "stream",
     "text": [
      "Epoch 71, lr 0.0008: 100% 21/21 [00:11<00:00,  1.89it/s, 0 cls=0.18505, 1 cls=0.27317, 2 cls=0.37200, bce=0.07728, dice=0.83552, loss=-0.78388]\n"
     ]
    },
    {
     "name": "stdout",
     "output_type": "stream",
     "text": [
      "loss: -0.85348 | bce: 0.04046 | dice: 0.86577 | 0 cls: 0.11759 | 1 cls: 0.17488 | 2 cls: 0.30506\n"
     ]
    },
    {
     "name": "stderr",
     "output_type": "stream",
     "text": [
      "Epoch 72, lr 0.0008: 100% 21/21 [00:11<00:00,  1.87it/s, 0 cls=0.17781, 1 cls=0.26369, 2 cls=0.36479, bce=0.07729, dice=0.84148, loss=-0.79036]\n"
     ]
    },
    {
     "name": "stdout",
     "output_type": "stream",
     "text": [
      "loss: -0.85568 | bce: 0.04010 | dice: 0.86849 | 0 cls: 0.11551 | 1 cls: 0.17342 | 2 cls: 0.29598\n"
     ]
    },
    {
     "name": "stderr",
     "output_type": "stream",
     "text": [
      "Epoch 73, lr 0.0008: 100% 21/21 [00:10<00:00,  1.92it/s, 0 cls=0.17779, 1 cls=0.25988, 2 cls=0.36371, bce=0.07615, dice=0.84153, loss=-0.79159]\n"
     ]
    },
    {
     "name": "stdout",
     "output_type": "stream",
     "text": [
      "loss: -0.85517 | bce: 0.03913 | dice: 0.86742 | 0 cls: 0.11753 | 1 cls: 0.17059 | 2 cls: 0.29678\n"
     ]
    },
    {
     "name": "stderr",
     "output_type": "stream",
     "text": [
      "Epoch 74, lr 0.0008: 100% 21/21 [00:11<00:00,  1.91it/s, 0 cls=0.17883, 1 cls=0.26076, 2 cls=0.36314, bce=0.07616, dice=0.84115, loss=-0.79083]\n"
     ]
    },
    {
     "name": "stdout",
     "output_type": "stream",
     "text": [
      "loss: -0.85472 | bce: 0.03865 | dice: 0.86627 | 0 cls: 0.11774 | 1 cls: 0.17154 | 2 cls: 0.29848\n"
     ]
    },
    {
     "name": "stderr",
     "output_type": "stream",
     "text": [
      "Epoch 75, lr 0.0008: 100% 21/21 [00:10<00:00,  1.92it/s, 0 cls=0.19504, 1 cls=0.27018, 2 cls=0.37890, bce=0.08198, dice=0.83422, loss=-0.77793]\n"
     ]
    },
    {
     "name": "stdout",
     "output_type": "stream",
     "text": [
      "loss: -0.85428 | bce: 0.04156 | dice: 0.86819 | 0 cls: 0.11857 | 1 cls: 0.17149 | 2 cls: 0.30065\n"
     ]
    },
    {
     "name": "stderr",
     "output_type": "stream",
     "text": [
      "Epoch 76, lr 0.0008: 100% 21/21 [00:11<00:00,  1.90it/s, 0 cls=0.18345, 1 cls=0.26572, 2 cls=0.36982, bce=0.07884, dice=0.83900, loss=-0.78620]\n"
     ]
    },
    {
     "name": "stdout",
     "output_type": "stream",
     "text": [
      "loss: -0.85530 | bce: 0.03672 | dice: 0.86519 | 0 cls: 0.11663 | 1 cls: 0.17197 | 2 cls: 0.30112\n"
     ]
    },
    {
     "name": "stderr",
     "output_type": "stream",
     "text": [
      "Epoch 77, lr 0.0008: 100% 21/21 [00:11<00:00,  1.90it/s, 0 cls=0.18647, 1 cls=0.26634, 2 cls=0.37255, bce=0.07857, dice=0.83691, loss=-0.78434]\n"
     ]
    },
    {
     "name": "stdout",
     "output_type": "stream",
     "text": [
      "loss: -0.85251 | bce: 0.03662 | dice: 0.86153 | 0 cls: 0.12256 | 1 cls: 0.16989 | 2 cls: 0.30395\n"
     ]
    },
    {
     "name": "stderr",
     "output_type": "stream",
     "text": [
      "Epoch 78, lr 0.0008: 100% 21/21 [00:10<00:00,  1.92it/s, 0 cls=0.17880, 1 cls=0.26097, 2 cls=0.36435, bce=0.07615, dice=0.84093, loss=-0.79073]\n"
     ]
    },
    {
     "name": "stdout",
     "output_type": "stream",
     "text": [
      "loss: -0.85238 | bce: 0.04133 | dice: 0.86602 | 0 cls: 0.11910 | 1 cls: 0.17714 | 2 cls: 0.30286\n"
     ]
    },
    {
     "name": "stderr",
     "output_type": "stream",
     "text": [
      "Epoch 79, lr 0.0008: 100% 21/21 [00:10<00:00,  1.92it/s, 0 cls=0.19745, 1 cls=0.27445, 2 cls=0.38111, bce=0.08416, dice=0.83391, loss=-0.77505]\n"
     ]
    },
    {
     "name": "stdout",
     "output_type": "stream",
     "text": [
      "loss: -0.85674 | bce: 0.03743 | dice: 0.86767 | 0 cls: 0.11562 | 1 cls: 0.17005 | 2 cls: 0.29513\n"
     ]
    },
    {
     "name": "stderr",
     "output_type": "stream",
     "text": [
      "Epoch 80, lr 0.0008: 100% 21/21 [00:11<00:00,  1.88it/s, 0 cls=0.18008, 1 cls=0.26000, 2 cls=0.36337, bce=0.07704, dice=0.84145, loss=-0.79014]\n"
     ]
    },
    {
     "name": "stdout",
     "output_type": "stream",
     "text": [
      "loss: -0.85115 | bce: 0.04245 | dice: 0.86550 | 0 cls: 0.12353 | 1 cls: 0.17009 | 2 cls: 0.30430\n"
     ]
    },
    {
     "name": "stderr",
     "output_type": "stream",
     "text": [
      "Epoch 81, lr 0.0008: 100% 21/21 [00:11<00:00,  1.90it/s, 0 cls=0.19201, 1 cls=0.27272, 2 cls=0.37789, bce=0.07972, dice=0.83322, loss=-0.77933]\n"
     ]
    },
    {
     "name": "stdout",
     "output_type": "stream",
     "text": [
      "loss: -0.85586 | bce: 0.03788 | dice: 0.86689 | 0 cls: 0.11599 | 1 cls: 0.17168 | 2 cls: 0.30031\n"
     ]
    },
    {
     "name": "stderr",
     "output_type": "stream",
     "text": [
      "Epoch 82, lr 0.0008: 100% 21/21 [00:11<00:00,  1.90it/s, 0 cls=0.18073, 1 cls=0.26186, 2 cls=0.36526, bce=0.07694, dice=0.84027, loss=-0.78918]\n"
     ]
    },
    {
     "name": "stdout",
     "output_type": "stream",
     "text": [
      "loss: -0.84938 | bce: 0.04216 | dice: 0.86276 | 0 cls: 0.12029 | 1 cls: 0.18228 | 2 cls: 0.31204\n"
     ]
    },
    {
     "name": "stderr",
     "output_type": "stream",
     "text": [
      "Epoch 83, lr 0.0008: 100% 21/21 [00:11<00:00,  1.89it/s, 0 cls=0.18337, 1 cls=0.26196, 2 cls=0.36590, bce=0.07844, dice=0.84039, loss=-0.78753]\n"
     ]
    },
    {
     "name": "stdout",
     "output_type": "stream",
     "text": [
      "loss: -0.85686 | bce: 0.03890 | dice: 0.86917 | 0 cls: 0.11593 | 1 cls: 0.16892 | 2 cls: 0.29481\n"
     ]
    },
    {
     "name": "stderr",
     "output_type": "stream",
     "text": [
      "Epoch 84, lr 0.0008: 100% 21/21 [00:11<00:00,  1.89it/s, 0 cls=0.18522, 1 cls=0.26861, 2 cls=0.37257, bce=0.07917, dice=0.83743, loss=-0.78437]\n"
     ]
    },
    {
     "name": "stdout",
     "output_type": "stream",
     "text": [
      "loss: -0.85252 | bce: 0.03710 | dice: 0.86217 | 0 cls: 0.11941 | 1 cls: 0.17510 | 2 cls: 0.30551\n"
     ]
    },
    {
     "name": "stderr",
     "output_type": "stream",
     "text": [
      "Epoch 85, lr 0.0008: 100% 21/21 [00:11<00:00,  1.90it/s, 0 cls=0.18396, 1 cls=0.26367, 2 cls=0.36793, bce=0.07840, dice=0.83908, loss=-0.78663]\n"
     ]
    },
    {
     "name": "stdout",
     "output_type": "stream",
     "text": [
      "loss: -0.85617 | bce: 0.03725 | dice: 0.86697 | 0 cls: 0.11568 | 1 cls: 0.17156 | 2 cls: 0.29806\n"
     ]
    },
    {
     "name": "stderr",
     "output_type": "stream",
     "text": [
      "Epoch 86, lr 0.0008: 100% 21/21 [00:10<00:00,  1.92it/s, 0 cls=0.18520, 1 cls=0.26647, 2 cls=0.37074, bce=0.07817, dice=0.83735, loss=-0.78508]\n"
     ]
    },
    {
     "name": "stdout",
     "output_type": "stream",
     "text": [
      "loss: -0.85489 | bce: 0.03777 | dice: 0.86515 | 0 cls: 0.11745 | 1 cls: 0.17254 | 2 cls: 0.30049\n"
     ]
    },
    {
     "name": "stderr",
     "output_type": "stream",
     "text": [
      "Epoch 87, lr 0.0008: 100% 21/21 [00:10<00:00,  1.93it/s, 0 cls=0.17095, 1 cls=0.25418, 2 cls=0.35384, bce=0.07521, dice=0.84699, loss=-0.79756]\n"
     ]
    },
    {
     "name": "stdout",
     "output_type": "stream",
     "text": [
      "loss: -0.85401 | bce: 0.03689 | dice: 0.86263 | 0 cls: 0.11946 | 1 cls: 0.17157 | 2 cls: 0.30292\n"
     ]
    },
    {
     "name": "stderr",
     "output_type": "stream",
     "text": [
      "Epoch 88, lr 0.0008: 100% 21/21 [00:10<00:00,  1.92it/s, 0 cls=0.17388, 1 cls=0.25714, 2 cls=0.35861, bce=0.07506, dice=0.84366, loss=-0.79482]\n"
     ]
    },
    {
     "name": "stdout",
     "output_type": "stream",
     "text": [
      "loss: -0.85948 | bce: 0.03907 | dice: 0.87193 | 0 cls: 0.11281 | 1 cls: 0.16715 | 2 cls: 0.29045\n"
     ]
    },
    {
     "name": "stderr",
     "output_type": "stream",
     "text": [
      "Epoch 89, lr 0.0008: 100% 21/21 [00:11<00:00,  1.89it/s, 0 cls=0.17563, 1 cls=0.25816, 2 cls=0.35982, bce=0.07643, dice=0.84388, loss=-0.79344]\n"
     ]
    },
    {
     "name": "stdout",
     "output_type": "stream",
     "text": [
      "loss: -0.85621 | bce: 0.03711 | dice: 0.86621 | 0 cls: 0.11657 | 1 cls: 0.16901 | 2 cls: 0.29763\n"
     ]
    },
    {
     "name": "stderr",
     "output_type": "stream",
     "text": [
      "Epoch 90, lr 0.002: 100% 21/21 [00:11<00:00,  1.91it/s, 0 cls=0.19107, 1 cls=0.27612, 2 cls=0.38013, bce=0.08050, dice=0.83317, loss=-0.77869]\n"
     ]
    },
    {
     "name": "stdout",
     "output_type": "stream",
     "text": [
      "loss: -0.84913 | bce: 0.03971 | dice: 0.86123 | 0 cls: 0.12547 | 1 cls: 0.17478 | 2 cls: 0.30722\n"
     ]
    },
    {
     "name": "stderr",
     "output_type": "stream",
     "text": [
      "Epoch 91, lr 0.002: 100% 21/21 [00:10<00:00,  1.91it/s, 0 cls=0.19776, 1 cls=0.28704, 2 cls=0.39058, bce=0.08438, dice=0.82912, loss=-0.77105]\n"
     ]
    },
    {
     "name": "stdout",
     "output_type": "stream",
     "text": [
      "loss: -0.85197 | bce: 0.04133 | dice: 0.86604 | 0 cls: 0.12052 | 1 cls: 0.17241 | 2 cls: 0.30407\n"
     ]
    },
    {
     "name": "stderr",
     "output_type": "stream",
     "text": [
      "Epoch 92, lr 0.0006: 100% 21/21 [00:10<00:00,  1.93it/s, 0 cls=0.19138, 1 cls=0.28004, 2 cls=0.38556, bce=0.08159, dice=0.83191, loss=-0.77693]\n"
     ]
    },
    {
     "name": "stdout",
     "output_type": "stream",
     "text": [
      "loss: -0.85392 | bce: 0.03918 | dice: 0.86601 | 0 cls: 0.11973 | 1 cls: 0.16988 | 2 cls: 0.29928\n"
     ]
    },
    {
     "name": "stderr",
     "output_type": "stream",
     "text": [
      "Epoch 93, lr 0.0006: 100% 21/21 [00:10<00:00,  1.94it/s, 0 cls=0.18264, 1 cls=0.26572, 2 cls=0.36610, bce=0.07794, dice=0.83950, loss=-0.78704]\n"
     ]
    },
    {
     "name": "stdout",
     "output_type": "stream",
     "text": [
      "loss: -0.85331 | bce: 0.03900 | dice: 0.86564 | 0 cls: 0.12013 | 1 cls: 0.16952 | 2 cls: 0.29980\n"
     ]
    },
    {
     "name": "stderr",
     "output_type": "stream",
     "text": [
      "Epoch 94, lr 0.00017999999999999998: 100% 21/21 [00:11<00:00,  1.90it/s, 0 cls=0.18568, 1 cls=0.26701, 2 cls=0.36909, bce=0.07803, dice=0.83729, loss=-0.78492]\n"
     ]
    },
    {
     "name": "stdout",
     "output_type": "stream",
     "text": [
      "loss: -0.85594 | bce: 0.03807 | dice: 0.86696 | 0 cls: 0.11616 | 1 cls: 0.16996 | 2 cls: 0.29806\n"
     ]
    },
    {
     "name": "stderr",
     "output_type": "stream",
     "text": [
      "Epoch 95, lr 0.002: 100% 21/21 [00:10<00:00,  1.92it/s, 0 cls=0.21733, 1 cls=0.28937, 2 cls=0.40073, bce=0.08959, dice=0.82334, loss=-0.75860]\n"
     ]
    },
    {
     "name": "stdout",
     "output_type": "stream",
     "text": [
      "loss: -0.80269 | bce: 0.05982 | dice: 0.82688 | 0 cls: 0.18578 | 1 cls: 0.18564 | 2 cls: 0.40055\n"
     ]
    },
    {
     "name": "stderr",
     "output_type": "stream",
     "text": [
      "Epoch 96, lr 0.002: 100% 21/21 [00:11<00:00,  1.86it/s, 0 cls=0.28157, 1 cls=0.37857, 2 cls=0.47861, bce=0.11139, dice=0.78415, loss=-0.69652]\n"
     ]
    },
    {
     "name": "stdout",
     "output_type": "stream",
     "text": [
      "loss: -0.82674 | bce: 0.04709 | dice: 0.84465 | 0 cls: 0.14519 | 1 cls: 0.19905 | 2 cls: 0.34149\n"
     ]
    },
    {
     "name": "stderr",
     "output_type": "stream",
     "text": [
      "Epoch 97, lr 0.0006: 100% 21/21 [00:11<00:00,  1.91it/s, 0 cls=0.21444, 1 cls=0.30007, 2 cls=0.40865, bce=0.08960, dice=0.82036, loss=-0.75700]\n"
     ]
    },
    {
     "name": "stdout",
     "output_type": "stream",
     "text": [
      "loss: -0.85004 | bce: 0.04194 | dice: 0.86490 | 0 cls: 0.12132 | 1 cls: 0.17765 | 2 cls: 0.30475\n"
     ]
    },
    {
     "name": "stderr",
     "output_type": "stream",
     "text": [
      "Epoch 98, lr 0.0006: 100% 21/21 [00:18<00:00,  1.16it/s, 0 cls=0.20533, 1 cls=0.28303, 2 cls=0.39356, bce=0.08429, dice=0.82644, loss=-0.76786]\n"
     ]
    },
    {
     "name": "stdout",
     "output_type": "stream",
     "text": [
      "loss: -0.85058 | bce: 0.04124 | dice: 0.86474 | 0 cls: 0.12017 | 1 cls: 0.17774 | 2 cls: 0.30582\n"
     ]
    },
    {
     "name": "stderr",
     "output_type": "stream",
     "text": [
      "Epoch 99, lr 0.00017999999999999998: 100% 21/21 [00:10<00:00,  1.94it/s, 0 cls=0.19200, 1 cls=0.27919, 2 cls=0.38173, bce=0.08104, dice=0.83232, loss=-0.77721]\n"
     ]
    },
    {
     "name": "stdout",
     "output_type": "stream",
     "text": [
      "loss: -0.85198 | bce: 0.03820 | dice: 0.86323 | 0 cls: 0.12032 | 1 cls: 0.17361 | 2 cls: 0.30443\n"
     ]
    },
    {
     "name": "stderr",
     "output_type": "stream",
     "text": [
      "Epoch 100, lr 0.00048: 100% 21/21 [00:11<00:00,  1.88it/s, 0 cls=0.17746, 1 cls=0.26100, 2 cls=0.36315, bce=0.07710, dice=0.84227, loss=-0.79135]\n"
     ]
    },
    {
     "name": "stdout",
     "output_type": "stream",
     "text": [
      "loss: -0.85151 | bce: 0.03782 | dice: 0.86249 | 0 cls: 0.12166 | 1 cls: 0.17249 | 2 cls: 0.30562\n"
     ]
    },
    {
     "name": "stderr",
     "output_type": "stream",
     "text": [
      "Epoch 101, lr 0.00048: 100% 21/21 [00:11<00:00,  1.90it/s, 0 cls=0.17845, 1 cls=0.25821, 2 cls=0.36274, bce=0.07640, dice=0.84195, loss=-0.79161]\n"
     ]
    },
    {
     "name": "stdout",
     "output_type": "stream",
     "text": [
      "loss: -0.85481 | bce: 0.03916 | dice: 0.86728 | 0 cls: 0.11691 | 1 cls: 0.17253 | 2 cls: 0.29874\n"
     ]
    },
    {
     "name": "stderr",
     "output_type": "stream",
     "text": [
      "Epoch 102, lr 0.00048: 100% 21/21 [00:11<00:00,  1.89it/s, 0 cls=0.18265, 1 cls=0.26235, 2 cls=0.36557, bce=0.07720, dice=0.83970, loss=-0.78806]\n"
     ]
    },
    {
     "name": "stdout",
     "output_type": "stream",
     "text": [
      "loss: -0.85314 | bce: 0.03972 | dice: 0.86499 | 0 cls: 0.11771 | 1 cls: 0.17586 | 2 cls: 0.30272\n"
     ]
    },
    {
     "name": "stderr",
     "output_type": "stream",
     "text": [
      "Epoch 103, lr 0.00048: 100% 21/21 [00:10<00:00,  1.93it/s, 0 cls=0.18226, 1 cls=0.26370, 2 cls=0.36721, bce=0.07763, dice=0.83938, loss=-0.78769]\n"
     ]
    },
    {
     "name": "stdout",
     "output_type": "stream",
     "text": [
      "loss: -0.85560 | bce: 0.03873 | dice: 0.86737 | 0 cls: 0.11596 | 1 cls: 0.17215 | 2 cls: 0.29744\n"
     ]
    },
    {
     "name": "stderr",
     "output_type": "stream",
     "text": [
      "Epoch 104, lr 0.00048: 100% 21/21 [00:10<00:00,  1.92it/s, 0 cls=0.17697, 1 cls=0.25816, 2 cls=0.35965, bce=0.07698, dice=0.84395, loss=-0.79265]\n"
     ]
    },
    {
     "name": "stdout",
     "output_type": "stream",
     "text": [
      "loss: -0.85395 | bce: 0.03749 | dice: 0.86459 | 0 cls: 0.11796 | 1 cls: 0.17348 | 2 cls: 0.30127\n"
     ]
    },
    {
     "name": "stderr",
     "output_type": "stream",
     "text": [
      "Epoch 105, lr 0.00048: 100% 21/21 [00:11<00:00,  1.79it/s, 0 cls=0.18099, 1 cls=0.26775, 2 cls=0.36919, bce=0.07748, dice=0.83855, loss=-0.78740]\n"
     ]
    },
    {
     "name": "stdout",
     "output_type": "stream",
     "text": [
      "loss: -0.85749 | bce: 0.03737 | dice: 0.86870 | 0 cls: 0.11462 | 1 cls: 0.16851 | 2 cls: 0.29395\n"
     ]
    },
    {
     "name": "stderr",
     "output_type": "stream",
     "text": [
      "Epoch 106, lr 0.00048: 100% 21/21 [00:18<00:00,  1.16it/s, 0 cls=0.17952, 1 cls=0.26204, 2 cls=0.36396, bce=0.07629, dice=0.84055, loss=-0.79009]\n"
     ]
    },
    {
     "name": "stdout",
     "output_type": "stream",
     "text": [
      "loss: -0.85629 | bce: 0.03790 | dice: 0.86743 | 0 cls: 0.11686 | 1 cls: 0.16838 | 2 cls: 0.29571\n"
     ]
    },
    {
     "name": "stderr",
     "output_type": "stream",
     "text": [
      "Epoch 107, lr 0.00048: 100% 21/21 [00:12<00:00,  1.66it/s, 0 cls=0.18351, 1 cls=0.26341, 2 cls=0.37036, bce=0.07744, dice=0.83812, loss=-0.78703]\n"
     ]
    },
    {
     "name": "stdout",
     "output_type": "stream",
     "text": [
      "loss: -0.85463 | bce: 0.03948 | dice: 0.86725 | 0 cls: 0.11722 | 1 cls: 0.17224 | 2 cls: 0.29976\n"
     ]
    },
    {
     "name": "stderr",
     "output_type": "stream",
     "text": [
      "Epoch 108, lr 0.00048: 100% 21/21 [00:18<00:00,  1.14it/s, 0 cls=0.17710, 1 cls=0.25980, 2 cls=0.36160, bce=0.07636, dice=0.84249, loss=-0.79207]\n"
     ]
    },
    {
     "name": "stdout",
     "output_type": "stream",
     "text": [
      "loss: -0.85634 | bce: 0.03815 | dice: 0.86802 | 0 cls: 0.11629 | 1 cls: 0.16908 | 2 cls: 0.29485\n"
     ]
    },
    {
     "name": "stderr",
     "output_type": "stream",
     "text": [
      "Epoch 109, lr 0.00048: 100% 21/21 [00:18<00:00,  1.14it/s, 0 cls=0.17404, 1 cls=0.25862, 2 cls=0.35865, bce=0.07576, dice=0.84400, loss=-0.79430]\n"
     ]
    },
    {
     "name": "stdout",
     "output_type": "stream",
     "text": [
      "loss: -0.85686 | bce: 0.03827 | dice: 0.86849 | 0 cls: 0.11487 | 1 cls: 0.16964 | 2 cls: 0.29476\n"
     ]
    },
    {
     "name": "stderr",
     "output_type": "stream",
     "text": [
      "Epoch 110, lr 0.00048: 100% 21/21 [00:11<00:00,  1.83it/s, 0 cls=0.17586, 1 cls=0.25757, 2 cls=0.35864, bce=0.07532, dice=0.84313, loss=-0.79359]\n"
     ]
    },
    {
     "name": "stdout",
     "output_type": "stream",
     "text": [
      "loss: -0.85580 | bce: 0.03885 | dice: 0.86761 | 0 cls: 0.11477 | 1 cls: 0.17307 | 2 cls: 0.29822\n"
     ]
    },
    {
     "name": "stderr",
     "output_type": "stream",
     "text": [
      "Epoch 111, lr 0.00048: 100% 21/21 [00:10<00:00,  1.92it/s, 0 cls=0.17463, 1 cls=0.25390, 2 cls=0.35718, bce=0.07507, dice=0.84456, loss=-0.79541]\n"
     ]
    },
    {
     "name": "stdout",
     "output_type": "stream",
     "text": [
      "loss: -0.85512 | bce: 0.03661 | dice: 0.86497 | 0 cls: 0.11721 | 1 cls: 0.17088 | 2 cls: 0.29914\n"
     ]
    },
    {
     "name": "stderr",
     "output_type": "stream",
     "text": [
      "Epoch 112, lr 0.00048: 100% 21/21 [00:11<00:00,  1.90it/s, 0 cls=0.17547, 1 cls=0.25396, 2 cls=0.35485, bce=0.07585, dice=0.84535, loss=-0.79494]\n"
     ]
    },
    {
     "name": "stdout",
     "output_type": "stream",
     "text": [
      "loss: -0.85402 | bce: 0.03920 | dice: 0.86622 | 0 cls: 0.11816 | 1 cls: 0.17275 | 2 cls: 0.29881\n"
     ]
    },
    {
     "name": "stderr",
     "output_type": "stream",
     "text": [
      "Epoch 113, lr 0.00048: 100% 21/21 [00:11<00:00,  1.87it/s, 0 cls=0.18254, 1 cls=0.26833, 2 cls=0.36764, bce=0.07778, dice=0.83871, loss=-0.78641]\n"
     ]
    },
    {
     "name": "stdout",
     "output_type": "stream",
     "text": [
      "loss: -0.85756 | bce: 0.04055 | dice: 0.87089 | 0 cls: 0.11425 | 1 cls: 0.16815 | 2 cls: 0.29337\n"
     ]
    },
    {
     "name": "stderr",
     "output_type": "stream",
     "text": [
      "Epoch 114, lr 0.00048: 100% 21/21 [00:11<00:00,  1.86it/s, 0 cls=0.17064, 1 cls=0.25179, 2 cls=0.34833, bce=0.07396, dice=0.84768, loss=-0.79875]\n"
     ]
    },
    {
     "name": "stdout",
     "output_type": "stream",
     "text": [
      "loss: -0.85677 | bce: 0.03735 | dice: 0.86767 | 0 cls: 0.11617 | 1 cls: 0.16821 | 2 cls: 0.29529\n"
     ]
    },
    {
     "name": "stderr",
     "output_type": "stream",
     "text": [
      "Epoch 115, lr 0.00048: 100% 21/21 [00:10<00:00,  1.95it/s, 0 cls=0.17601, 1 cls=0.25180, 2 cls=0.35464, bce=0.07575, dice=0.84549, loss=-0.79522]\n"
     ]
    },
    {
     "name": "stdout",
     "output_type": "stream",
     "text": [
      "loss: -0.85800 | bce: 0.03823 | dice: 0.86994 | 0 cls: 0.11429 | 1 cls: 0.16847 | 2 cls: 0.29296\n"
     ]
    },
    {
     "name": "stderr",
     "output_type": "stream",
     "text": [
      "Epoch 116, lr 0.00048: 100% 21/21 [00:11<00:00,  1.90it/s, 0 cls=0.16953, 1 cls=0.25322, 2 cls=0.34939, bce=0.07312, dice=0.84684, loss=-0.79909]\n"
     ]
    },
    {
     "name": "stdout",
     "output_type": "stream",
     "text": [
      "loss: -0.85379 | bce: 0.03821 | dice: 0.86512 | 0 cls: 0.11853 | 1 cls: 0.17168 | 2 cls: 0.30233\n"
     ]
    },
    {
     "name": "stderr",
     "output_type": "stream",
     "text": [
      "Epoch 117, lr 0.00048: 100% 21/21 [00:10<00:00,  1.95it/s, 0 cls=0.17191, 1 cls=0.25244, 2 cls=0.35290, bce=0.07362, dice=0.84577, loss=-0.79774]\n"
     ]
    },
    {
     "name": "stdout",
     "output_type": "stream",
     "text": [
      "loss: -0.85319 | bce: 0.03818 | dice: 0.86531 | 0 cls: 0.12093 | 1 cls: 0.16996 | 2 cls: 0.29765\n"
     ]
    },
    {
     "name": "stderr",
     "output_type": "stream",
     "text": [
      "Epoch 118, lr 0.00048: 100% 21/21 [00:10<00:00,  1.93it/s, 0 cls=0.17654, 1 cls=0.25899, 2 cls=0.35771, bce=0.07697, dice=0.84440, loss=-0.79279]\n"
     ]
    },
    {
     "name": "stdout",
     "output_type": "stream",
     "text": [
      "loss: -0.85493 | bce: 0.03769 | dice: 0.86582 | 0 cls: 0.11717 | 1 cls: 0.17105 | 2 cls: 0.29943\n"
     ]
    },
    {
     "name": "stderr",
     "output_type": "stream",
     "text": [
      "Epoch 119, lr 0.00048: 100% 21/21 [00:11<00:00,  1.83it/s, 0 cls=0.17589, 1 cls=0.25884, 2 cls=0.35952, bce=0.07598, dice=0.84331, loss=-0.79324]\n"
     ]
    },
    {
     "name": "stdout",
     "output_type": "stream",
     "text": [
      "loss: -0.85749 | bce: 0.03843 | dice: 0.86926 | 0 cls: 0.11472 | 1 cls: 0.16757 | 2 cls: 0.29427\n"
     ]
    },
    {
     "name": "stderr",
     "output_type": "stream",
     "text": [
      "Epoch 120, lr 0.00048: 100% 21/21 [00:11<00:00,  1.90it/s, 0 cls=0.17577, 1 cls=0.25830, 2 cls=0.35763, bce=0.07516, dice=0.84336, loss=-0.79370]\n"
     ]
    },
    {
     "name": "stdout",
     "output_type": "stream",
     "text": [
      "loss: -0.85581 | bce: 0.03872 | dice: 0.86782 | 0 cls: 0.11542 | 1 cls: 0.17159 | 2 cls: 0.29694\n"
     ]
    },
    {
     "name": "stderr",
     "output_type": "stream",
     "text": [
      "Epoch 121, lr 0.00048: 100% 21/21 [00:11<00:00,  1.90it/s, 0 cls=0.17461, 1 cls=0.26030, 2 cls=0.35575, bce=0.07478, dice=0.84346, loss=-0.79395]\n"
     ]
    },
    {
     "name": "stdout",
     "output_type": "stream",
     "text": [
      "loss: -0.85358 | bce: 0.03952 | dice: 0.86526 | 0 cls: 0.11472 | 1 cls: 0.18042 | 2 cls: 0.30188\n"
     ]
    },
    {
     "name": "stderr",
     "output_type": "stream",
     "text": [
      "Epoch 122, lr 0.00048: 100% 21/21 [00:10<00:00,  1.93it/s, 0 cls=0.17452, 1 cls=0.25651, 2 cls=0.35569, bce=0.07592, dice=0.84509, loss=-0.79474]\n"
     ]
    },
    {
     "name": "stdout",
     "output_type": "stream",
     "text": [
      "loss: -0.85631 | bce: 0.03759 | dice: 0.86764 | 0 cls: 0.11670 | 1 cls: 0.16781 | 2 cls: 0.29458\n"
     ]
    },
    {
     "name": "stderr",
     "output_type": "stream",
     "text": [
      "Epoch 123, lr 0.00048: 100% 21/21 [00:11<00:00,  1.90it/s, 0 cls=0.17817, 1 cls=0.25925, 2 cls=0.36100, bce=0.07658, dice=0.84248, loss=-0.79170]\n"
     ]
    },
    {
     "name": "stdout",
     "output_type": "stream",
     "text": [
      "loss: -0.85534 | bce: 0.03796 | dice: 0.86624 | 0 cls: 0.11670 | 1 cls: 0.17105 | 2 cls: 0.29816\n"
     ]
    },
    {
     "name": "stderr",
     "output_type": "stream",
     "text": [
      "Epoch 124, lr 0.00048: 100% 21/21 [00:10<00:00,  1.91it/s, 0 cls=0.17695, 1 cls=0.25770, 2 cls=0.36034, bce=0.07604, dice=0.84295, loss=-0.79286]\n"
     ]
    },
    {
     "name": "stdout",
     "output_type": "stream",
     "text": [
      "loss: -0.85258 | bce: 0.03827 | dice: 0.86352 | 0 cls: 0.12214 | 1 cls: 0.16800 | 2 cls: 0.30265\n"
     ]
    },
    {
     "name": "stderr",
     "output_type": "stream",
     "text": [
      "Epoch 125, lr 0.00048: 100% 21/21 [00:10<00:00,  1.92it/s, 0 cls=0.17446, 1 cls=0.25760, 2 cls=0.35964, bce=0.07427, dice=0.84269, loss=-0.79456]\n"
     ]
    },
    {
     "name": "stdout",
     "output_type": "stream",
     "text": [
      "loss: -0.85591 | bce: 0.03899 | dice: 0.86797 | 0 cls: 0.11619 | 1 cls: 0.17039 | 2 cls: 0.29562\n"
     ]
    },
    {
     "name": "stderr",
     "output_type": "stream",
     "text": [
      "Epoch 126, lr 0.00048: 100% 21/21 [00:10<00:00,  1.94it/s, 0 cls=0.17252, 1 cls=0.25134, 2 cls=0.35362, bce=0.07388, dice=0.84557, loss=-0.79751]\n"
     ]
    },
    {
     "name": "stdout",
     "output_type": "stream",
     "text": [
      "loss: -0.85725 | bce: 0.03761 | dice: 0.86831 | 0 cls: 0.11571 | 1 cls: 0.16803 | 2 cls: 0.29380\n"
     ]
    },
    {
     "name": "stderr",
     "output_type": "stream",
     "text": [
      "Epoch 127, lr 0.00048: 100% 21/21 [00:10<00:00,  1.91it/s, 0 cls=0.17371, 1 cls=0.25325, 2 cls=0.35366, bce=0.07466, dice=0.84549, loss=-0.79629]\n"
     ]
    },
    {
     "name": "stdout",
     "output_type": "stream",
     "text": [
      "loss: -0.85712 | bce: 0.03767 | dice: 0.86859 | 0 cls: 0.11656 | 1 cls: 0.16576 | 2 cls: 0.29276\n"
     ]
    },
    {
     "name": "stderr",
     "output_type": "stream",
     "text": [
      "Epoch 128, lr 0.00048: 100% 21/21 [00:11<00:00,  1.89it/s, 0 cls=0.17276, 1 cls=0.25304, 2 cls=0.35467, bce=0.07411, dice=0.84517, loss=-0.79692]\n"
     ]
    },
    {
     "name": "stdout",
     "output_type": "stream",
     "text": [
      "loss: -0.85761 | bce: 0.03815 | dice: 0.86986 | 0 cls: 0.11553 | 1 cls: 0.16643 | 2 cls: 0.29218\n"
     ]
    },
    {
     "name": "stderr",
     "output_type": "stream",
     "text": [
      "Epoch 129, lr 0.00048: 100% 21/21 [00:10<00:00,  1.91it/s, 0 cls=0.17312, 1 cls=0.25645, 2 cls=0.35418, bce=0.07407, dice=0.84464, loss=-0.79595]\n"
     ]
    },
    {
     "name": "stdout",
     "output_type": "stream",
     "text": [
      "loss: -0.85606 | bce: 0.03706 | dice: 0.86679 | 0 cls: 0.11594 | 1 cls: 0.17091 | 2 cls: 0.29697\n"
     ]
    },
    {
     "name": "stderr",
     "output_type": "stream",
     "text": [
      "Epoch 130, lr 0.00048: 100% 21/21 [00:11<00:00,  1.90it/s, 0 cls=0.17324, 1 cls=0.25568, 2 cls=0.35406, bce=0.07405, dice=0.84471, loss=-0.79617]\n"
     ]
    },
    {
     "name": "stdout",
     "output_type": "stream",
     "text": [
      "loss: -0.85842 | bce: 0.03910 | dice: 0.87169 | 0 cls: 0.11350 | 1 cls: 0.16722 | 2 cls: 0.29134\n"
     ]
    },
    {
     "name": "stderr",
     "output_type": "stream",
     "text": [
      "Epoch 131, lr 0.00048: 100% 21/21 [00:10<00:00,  1.91it/s, 0 cls=0.17244, 1 cls=0.25643, 2 cls=0.35501, bce=0.07469, dice=0.84528, loss=-0.79625]\n"
     ]
    },
    {
     "name": "stdout",
     "output_type": "stream",
     "text": [
      "loss: -0.85855 | bce: 0.03853 | dice: 0.87045 | 0 cls: 0.11322 | 1 cls: 0.16788 | 2 cls: 0.29233\n"
     ]
    },
    {
     "name": "stderr",
     "output_type": "stream",
     "text": [
      "Epoch 132, lr 0.00048: 100% 21/21 [00:10<00:00,  1.93it/s, 0 cls=0.17113, 1 cls=0.25192, 2 cls=0.34968, bce=0.07360, dice=0.84693, loss=-0.79849]\n"
     ]
    },
    {
     "name": "stdout",
     "output_type": "stream",
     "text": [
      "loss: -0.85605 | bce: 0.03911 | dice: 0.86853 | 0 cls: 0.11464 | 1 cls: 0.17235 | 2 cls: 0.29564\n"
     ]
    },
    {
     "name": "stderr",
     "output_type": "stream",
     "text": [
      "Epoch 133, lr 0.00048: 100% 21/21 [00:11<00:00,  1.90it/s, 0 cls=0.17189, 1 cls=0.25384, 2 cls=0.35399, bce=0.07479, dice=0.84603, loss=-0.79713]\n"
     ]
    },
    {
     "name": "stdout",
     "output_type": "stream",
     "text": [
      "loss: -0.85665 | bce: 0.03826 | dice: 0.86819 | 0 cls: 0.11434 | 1 cls: 0.17163 | 2 cls: 0.29525\n"
     ]
    },
    {
     "name": "stderr",
     "output_type": "stream",
     "text": [
      "Epoch 134, lr 0.00048: 100% 21/21 [00:11<00:00,  1.90it/s, 0 cls=0.16910, 1 cls=0.25005, 2 cls=0.34904, bce=0.07274, dice=0.84741, loss=-0.80028]\n"
     ]
    },
    {
     "name": "stdout",
     "output_type": "stream",
     "text": [
      "loss: -0.85711 | bce: 0.03745 | dice: 0.86776 | 0 cls: 0.11465 | 1 cls: 0.16871 | 2 cls: 0.29692\n"
     ]
    },
    {
     "name": "stderr",
     "output_type": "stream",
     "text": [
      "Epoch 135, lr 0.00048: 100% 21/21 [00:11<00:00,  1.91it/s, 0 cls=0.16896, 1 cls=0.24864, 2 cls=0.34824, bce=0.07316, dice=0.84830, loss=-0.80061]\n"
     ]
    },
    {
     "name": "stdout",
     "output_type": "stream",
     "text": [
      "loss: -0.85700 | bce: 0.03696 | dice: 0.86748 | 0 cls: 0.11500 | 1 cls: 0.16887 | 2 cls: 0.29520\n"
     ]
    },
    {
     "name": "stderr",
     "output_type": "stream",
     "text": [
      "Epoch 136, lr 0.00048: 100% 21/21 [00:10<00:00,  1.94it/s, 0 cls=0.17351, 1 cls=0.25652, 2 cls=0.35413, bce=0.07437, dice=0.84454, loss=-0.79559]\n"
     ]
    },
    {
     "name": "stdout",
     "output_type": "stream",
     "text": [
      "loss: -0.85604 | bce: 0.04099 | dice: 0.87030 | 0 cls: 0.11454 | 1 cls: 0.17202 | 2 cls: 0.29440\n"
     ]
    },
    {
     "name": "stderr",
     "output_type": "stream",
     "text": [
      "Epoch 137, lr 0.00048: 100% 21/21 [00:11<00:00,  1.87it/s, 0 cls=0.17321, 1 cls=0.25630, 2 cls=0.35455, bce=0.07480, dice=0.84509, loss=-0.79583]\n"
     ]
    },
    {
     "name": "stdout",
     "output_type": "stream",
     "text": [
      "loss: -0.85702 | bce: 0.03699 | dice: 0.86744 | 0 cls: 0.11556 | 1 cls: 0.16750 | 2 cls: 0.29556\n"
     ]
    },
    {
     "name": "stderr",
     "output_type": "stream",
     "text": [
      "Epoch 138, lr 0.00048: 100% 21/21 [00:11<00:00,  1.90it/s, 0 cls=0.16932, 1 cls=0.24945, 2 cls=0.34936, bce=0.07381, dice=0.84826, loss=-0.80008]\n"
     ]
    },
    {
     "name": "stdout",
     "output_type": "stream",
     "text": [
      "loss: -0.85552 | bce: 0.03838 | dice: 0.86702 | 0 cls: 0.11536 | 1 cls: 0.17291 | 2 cls: 0.29788\n"
     ]
    },
    {
     "name": "stderr",
     "output_type": "stream",
     "text": [
      "Epoch 139, lr 0.00048: 100% 21/21 [00:10<00:00,  1.91it/s, 0 cls=0.16302, 1 cls=0.24455, 2 cls=0.34041, bce=0.07114, dice=0.85152, loss=-0.80577]\n"
     ]
    },
    {
     "name": "stdout",
     "output_type": "stream",
     "text": [
      "loss: -0.85691 | bce: 0.03769 | dice: 0.86781 | 0 cls: 0.11537 | 1 cls: 0.16897 | 2 cls: 0.29489\n"
     ]
    },
    {
     "name": "stderr",
     "output_type": "stream",
     "text": [
      "Epoch 140, lr 0.00048: 100% 21/21 [00:10<00:00,  1.92it/s, 0 cls=0.17232, 1 cls=0.25104, 2 cls=0.35103, bce=0.07391, dice=0.84650, loss=-0.79794]\n"
     ]
    },
    {
     "name": "stdout",
     "output_type": "stream",
     "text": [
      "loss: -0.85682 | bce: 0.03631 | dice: 0.86627 | 0 cls: 0.11713 | 1 cls: 0.16604 | 2 cls: 0.29814\n"
     ]
    },
    {
     "name": "stderr",
     "output_type": "stream",
     "text": [
      "Epoch 141, lr 0.00048: 100% 21/21 [00:10<00:00,  1.91it/s, 0 cls=0.17640, 1 cls=0.26200, 2 cls=0.36166, bce=0.07592, dice=0.84202, loss=-0.79200]\n"
     ]
    },
    {
     "name": "stdout",
     "output_type": "stream",
     "text": [
      "loss: -0.85579 | bce: 0.04120 | dice: 0.87010 | 0 cls: 0.11642 | 1 cls: 0.16999 | 2 cls: 0.29643\n"
     ]
    },
    {
     "name": "stderr",
     "output_type": "stream",
     "text": [
      "Epoch 142, lr 0.00048: 100% 21/21 [00:11<00:00,  1.91it/s, 0 cls=0.17939, 1 cls=0.25917, 2 cls=0.35863, bce=0.07658, dice=0.84242, loss=-0.79113]\n"
     ]
    },
    {
     "name": "stdout",
     "output_type": "stream",
     "text": [
      "loss: -0.85976 | bce: 0.03902 | dice: 0.87293 | 0 cls: 0.11285 | 1 cls: 0.16396 | 2 cls: 0.28814\n"
     ]
    },
    {
     "name": "stderr",
     "output_type": "stream",
     "text": [
      "Epoch 143, lr 0.00048: 100% 21/21 [00:11<00:00,  1.90it/s, 0 cls=0.17306, 1 cls=0.25179, 2 cls=0.35342, bce=0.07525, dice=0.84655, loss=-0.79701]\n"
     ]
    },
    {
     "name": "stdout",
     "output_type": "stream",
     "text": [
      "loss: -0.85473 | bce: 0.03796 | dice: 0.86590 | 0 cls: 0.11792 | 1 cls: 0.17060 | 2 cls: 0.29842\n"
     ]
    },
    {
     "name": "stderr",
     "output_type": "stream",
     "text": [
      "Epoch 144, lr 0.00048: 100% 21/21 [00:11<00:00,  1.89it/s, 0 cls=0.17212, 1 cls=0.25473, 2 cls=0.35447, bce=0.07473, dice=0.84556, loss=-0.79671]\n"
     ]
    },
    {
     "name": "stdout",
     "output_type": "stream",
     "text": [
      "loss: -0.85696 | bce: 0.03805 | dice: 0.86882 | 0 cls: 0.11554 | 1 cls: 0.16763 | 2 cls: 0.29399\n"
     ]
    },
    {
     "name": "stderr",
     "output_type": "stream",
     "text": [
      "Epoch 145, lr 0.00048: 100% 21/21 [00:11<00:00,  1.86it/s, 0 cls=0.17607, 1 cls=0.25444, 2 cls=0.35535, bce=0.07474, dice=0.84400, loss=-0.79465]\n"
     ]
    },
    {
     "name": "stdout",
     "output_type": "stream",
     "text": [
      "loss: -0.85610 | bce: 0.03942 | dice: 0.86843 | 0 cls: 0.11585 | 1 cls: 0.16954 | 2 cls: 0.29814\n"
     ]
    },
    {
     "name": "stderr",
     "output_type": "stream",
     "text": [
      "Epoch 146, lr 0.00048: 100% 21/21 [00:10<00:00,  1.93it/s, 0 cls=0.16812, 1 cls=0.25022, 2 cls=0.34808, bce=0.07325, dice=0.84857, loss=-0.80078]\n"
     ]
    },
    {
     "name": "stdout",
     "output_type": "stream",
     "text": [
      "loss: -0.85577 | bce: 0.04147 | dice: 0.87112 | 0 cls: 0.11614 | 1 cls: 0.16979 | 2 cls: 0.29293\n"
     ]
    },
    {
     "name": "stderr",
     "output_type": "stream",
     "text": [
      "Epoch 147, lr 0.00048: 100% 21/21 [00:10<00:00,  1.96it/s, 0 cls=0.17382, 1 cls=0.25020, 2 cls=0.34854, bce=0.07345, dice=0.84630, loss=-0.79762]\n"
     ]
    },
    {
     "name": "stdout",
     "output_type": "stream",
     "text": [
      "loss: -0.85660 | bce: 0.03881 | dice: 0.86958 | 0 cls: 0.11602 | 1 cls: 0.16784 | 2 cls: 0.29411\n"
     ]
    },
    {
     "name": "stderr",
     "output_type": "stream",
     "text": [
      "Epoch 148, lr 0.00048: 100% 21/21 [00:11<00:00,  1.90it/s, 0 cls=0.16850, 1 cls=0.24843, 2 cls=0.34945, bce=0.07310, dice=0.84811, loss=-0.80090]\n"
     ]
    },
    {
     "name": "stdout",
     "output_type": "stream",
     "text": [
      "loss: -0.85554 | bce: 0.03996 | dice: 0.86890 | 0 cls: 0.11605 | 1 cls: 0.17080 | 2 cls: 0.29829\n"
     ]
    },
    {
     "name": "stderr",
     "output_type": "stream",
     "text": [
      "Epoch 149, lr 0.00048: 100% 21/21 [00:11<00:00,  1.86it/s, 0 cls=0.17056, 1 cls=0.25312, 2 cls=0.34925, bce=0.07309, dice=0.84662, loss=-0.79866]\n"
     ]
    },
    {
     "name": "stdout",
     "output_type": "stream",
     "text": [
      "loss: -0.85714 | bce: 0.03700 | dice: 0.86786 | 0 cls: 0.11526 | 1 cls: 0.16794 | 2 cls: 0.29737\n"
     ]
    },
    {
     "name": "stderr",
     "output_type": "stream",
     "text": [
      "Epoch 150, lr 0.00048: 100% 21/21 [00:10<00:00,  1.92it/s, 0 cls=0.16711, 1 cls=0.24560, 2 cls=0.34430, bce=0.07243, dice=0.84993, loss=-0.80281]\n"
     ]
    },
    {
     "name": "stdout",
     "output_type": "stream",
     "text": [
      "loss: -0.85659 | bce: 0.03786 | dice: 0.86786 | 0 cls: 0.11543 | 1 cls: 0.16938 | 2 cls: 0.29547\n"
     ]
    },
    {
     "name": "stderr",
     "output_type": "stream",
     "text": [
      "Epoch 151, lr 0.00048: 100% 21/21 [00:10<00:00,  1.92it/s, 0 cls=0.16885, 1 cls=0.25033, 2 cls=0.34888, bce=0.07381, dice=0.84834, loss=-0.80010]\n"
     ]
    },
    {
     "name": "stdout",
     "output_type": "stream",
     "text": [
      "loss: -0.85597 | bce: 0.03868 | dice: 0.86780 | 0 cls: 0.11476 | 1 cls: 0.17181 | 2 cls: 0.29836\n"
     ]
    },
    {
     "name": "stderr",
     "output_type": "stream",
     "text": [
      "Epoch 152, lr 0.00048: 100% 21/21 [00:10<00:00,  1.94it/s, 0 cls=0.16393, 1 cls=0.24296, 2 cls=0.34017, bce=0.07131, dice=0.85178, loss=-0.80566]\n"
     ]
    },
    {
     "name": "stdout",
     "output_type": "stream",
     "text": [
      "loss: -0.85573 | bce: 0.03819 | dice: 0.86716 | 0 cls: 0.11552 | 1 cls: 0.17085 | 2 cls: 0.29831\n"
     ]
    },
    {
     "name": "stderr",
     "output_type": "stream",
     "text": [
      "Epoch 153, lr 0.00048: 100% 21/21 [00:10<00:00,  1.93it/s, 0 cls=0.16958, 1 cls=0.25091, 2 cls=0.34967, bce=0.07327, dice=0.84734, loss=-0.79961]\n"
     ]
    },
    {
     "name": "stdout",
     "output_type": "stream",
     "text": [
      "loss: -0.85462 | bce: 0.04004 | dice: 0.86756 | 0 cls: 0.11620 | 1 cls: 0.17367 | 2 cls: 0.29982\n"
     ]
    },
    {
     "name": "stderr",
     "output_type": "stream",
     "text": [
      "Epoch 154, lr 0.00048: 100% 21/21 [00:10<00:00,  1.92it/s, 0 cls=0.17342, 1 cls=0.25326, 2 cls=0.35051, bce=0.07419, dice=0.84605, loss=-0.79691]\n"
     ]
    },
    {
     "name": "stdout",
     "output_type": "stream",
     "text": [
      "loss: -0.85767 | bce: 0.03969 | dice: 0.87070 | 0 cls: 0.11455 | 1 cls: 0.16787 | 2 cls: 0.29233\n"
     ]
    },
    {
     "name": "stderr",
     "output_type": "stream",
     "text": [
      "Epoch 155, lr 0.00048: 100% 21/21 [00:11<00:00,  1.91it/s, 0 cls=0.17359, 1 cls=0.25314, 2 cls=0.35314, bce=0.07502, dice=0.84595, loss=-0.79642]\n"
     ]
    },
    {
     "name": "stdout",
     "output_type": "stream",
     "text": [
      "loss: -0.85802 | bce: 0.03692 | dice: 0.86868 | 0 cls: 0.11483 | 1 cls: 0.16609 | 2 cls: 0.29376\n"
     ]
    },
    {
     "name": "stderr",
     "output_type": "stream",
     "text": [
      "Epoch 156, lr 0.00048: 100% 21/21 [00:11<00:00,  1.90it/s, 0 cls=0.16512, 1 cls=0.24651, 2 cls=0.34327, bce=0.07104, dice=0.84959, loss=-0.80387]\n"
     ]
    },
    {
     "name": "stdout",
     "output_type": "stream",
     "text": [
      "loss: -0.85502 | bce: 0.03757 | dice: 0.86550 | 0 cls: 0.11643 | 1 cls: 0.17276 | 2 cls: 0.29971\n"
     ]
    },
    {
     "name": "stderr",
     "output_type": "stream",
     "text": [
      "Epoch 157, lr 0.00048: 100% 21/21 [00:10<00:00,  1.94it/s, 0 cls=0.16418, 1 cls=0.24242, 2 cls=0.34039, bce=0.07138, dice=0.85171, loss=-0.80556]\n"
     ]
    },
    {
     "name": "stdout",
     "output_type": "stream",
     "text": [
      "loss: -0.85740 | bce: 0.03675 | dice: 0.86789 | 0 cls: 0.11494 | 1 cls: 0.16824 | 2 cls: 0.29498\n"
     ]
    },
    {
     "name": "stderr",
     "output_type": "stream",
     "text": [
      "Epoch 158, lr 0.00048: 100% 21/21 [00:10<00:00,  1.94it/s, 0 cls=0.16628, 1 cls=0.24912, 2 cls=0.34560, bce=0.07334, dice=0.85005, loss=-0.80217]\n"
     ]
    },
    {
     "name": "stdout",
     "output_type": "stream",
     "text": [
      "loss: -0.85745 | bce: 0.03884 | dice: 0.87000 | 0 cls: 0.11372 | 1 cls: 0.16973 | 2 cls: 0.29536\n"
     ]
    },
    {
     "name": "stderr",
     "output_type": "stream",
     "text": [
      "Epoch 159, lr 0.00048: 100% 21/21 [00:11<00:00,  1.89it/s, 0 cls=0.17021, 1 cls=0.25017, 2 cls=0.34860, bce=0.07253, dice=0.84692, loss=-0.79968]\n"
     ]
    },
    {
     "name": "stdout",
     "output_type": "stream",
     "text": [
      "loss: -0.85727 | bce: 0.03979 | dice: 0.87039 | 0 cls: 0.11436 | 1 cls: 0.16928 | 2 cls: 0.29338\n"
     ]
    },
    {
     "name": "stderr",
     "output_type": "stream",
     "text": [
      "Epoch 160, lr 0.00048: 100% 21/21 [00:10<00:00,  1.94it/s, 0 cls=0.16709, 1 cls=0.24719, 2 cls=0.34659, bce=0.07231, dice=0.84904, loss=-0.80225]\n"
     ]
    },
    {
     "name": "stdout",
     "output_type": "stream",
     "text": [
      "loss: -0.85581 | bce: 0.03841 | dice: 0.86761 | 0 cls: 0.11527 | 1 cls: 0.17270 | 2 cls: 0.29671\n"
     ]
    },
    {
     "name": "stderr",
     "output_type": "stream",
     "text": [
      "Epoch 161, lr 0.00048: 100% 21/21 [00:10<00:00,  1.91it/s, 0 cls=0.16967, 1 cls=0.24634, 2 cls=0.34531, bce=0.07328, dice=0.84921, loss=-0.80098]\n"
     ]
    },
    {
     "name": "stdout",
     "output_type": "stream",
     "text": [
      "loss: -0.85796 | bce: 0.03856 | dice: 0.87037 | 0 cls: 0.11384 | 1 cls: 0.16848 | 2 cls: 0.29192\n"
     ]
    },
    {
     "name": "stderr",
     "output_type": "stream",
     "text": [
      "Epoch 162, lr 0.00048: 100% 21/21 [00:10<00:00,  1.95it/s, 0 cls=0.16974, 1 cls=0.24889, 2 cls=0.34747, bce=0.07342, dice=0.84812, loss=-0.80011]\n"
     ]
    },
    {
     "name": "stdout",
     "output_type": "stream",
     "text": [
      "loss: -0.85617 | bce: 0.03827 | dice: 0.86819 | 0 cls: 0.11592 | 1 cls: 0.16980 | 2 cls: 0.29649\n"
     ]
    },
    {
     "name": "stderr",
     "output_type": "stream",
     "text": [
      "Epoch 163, lr 0.00048: 100% 21/21 [00:10<00:00,  1.92it/s, 0 cls=0.16947, 1 cls=0.24864, 2 cls=0.34874, bce=0.07261, dice=0.84749, loss=-0.80043]\n"
     ]
    },
    {
     "name": "stdout",
     "output_type": "stream",
     "text": [
      "loss: -0.85655 | bce: 0.03737 | dice: 0.86795 | 0 cls: 0.11591 | 1 cls: 0.16828 | 2 cls: 0.29622\n"
     ]
    },
    {
     "name": "stderr",
     "output_type": "stream",
     "text": [
      "Epoch 164, lr 0.00048: 100% 21/21 [00:10<00:00,  1.94it/s, 0 cls=0.16795, 1 cls=0.24576, 2 cls=0.34417, bce=0.07239, dice=0.84970, loss=-0.80242]\n"
     ]
    },
    {
     "name": "stdout",
     "output_type": "stream",
     "text": [
      "loss: -0.85897 | bce: 0.03853 | dice: 0.87178 | 0 cls: 0.11259 | 1 cls: 0.16803 | 2 cls: 0.28935\n"
     ]
    },
    {
     "name": "stderr",
     "output_type": "stream",
     "text": [
      "Epoch 165, lr 0.00048: 100% 21/21 [00:10<00:00,  1.93it/s, 0 cls=0.16865, 1 cls=0.24334, 2 cls=0.34366, bce=0.07277, dice=0.85024, loss=-0.80259]\n"
     ]
    },
    {
     "name": "stdout",
     "output_type": "stream",
     "text": [
      "loss: -0.85478 | bce: 0.04014 | dice: 0.86818 | 0 cls: 0.11578 | 1 cls: 0.17455 | 2 cls: 0.29780\n"
     ]
    },
    {
     "name": "stderr",
     "output_type": "stream",
     "text": [
      "Epoch 166, lr 0.00048: 100% 21/21 [00:10<00:00,  1.94it/s, 0 cls=0.17255, 1 cls=0.25231, 2 cls=0.35291, bce=0.07373, dice=0.84559, loss=-0.79741]\n"
     ]
    },
    {
     "name": "stdout",
     "output_type": "stream",
     "text": [
      "loss: -0.85340 | bce: 0.04089 | dice: 0.86709 | 0 cls: 0.12025 | 1 cls: 0.16842 | 2 cls: 0.30152\n"
     ]
    },
    {
     "name": "stderr",
     "output_type": "stream",
     "text": [
      "Epoch 167, lr 0.00048: 100% 21/21 [00:11<00:00,  1.87it/s, 0 cls=0.16663, 1 cls=0.24671, 2 cls=0.34412, bce=0.07273, dice=0.85015, loss=-0.80272]\n"
     ]
    },
    {
     "name": "stdout",
     "output_type": "stream",
     "text": [
      "loss: -0.85417 | bce: 0.03938 | dice: 0.86671 | 0 cls: 0.11579 | 1 cls: 0.17518 | 2 cls: 0.30037\n"
     ]
    },
    {
     "name": "stderr",
     "output_type": "stream",
     "text": [
      "Epoch 168, lr 0.00048: 100% 21/21 [00:10<00:00,  1.95it/s, 0 cls=0.17001, 1 cls=0.24777, 2 cls=0.34902, bce=0.07342, dice=0.84809, loss=-0.80027]\n"
     ]
    },
    {
     "name": "stdout",
     "output_type": "stream",
     "text": [
      "loss: -0.85605 | bce: 0.03876 | dice: 0.86859 | 0 cls: 0.11692 | 1 cls: 0.16744 | 2 cls: 0.29449\n"
     ]
    },
    {
     "name": "stderr",
     "output_type": "stream",
     "text": [
      "Epoch 169, lr 0.00048: 100% 21/21 [00:11<00:00,  1.87it/s, 0 cls=0.17295, 1 cls=0.25046, 2 cls=0.35165, bce=0.07409, dice=0.84627, loss=-0.79778]\n"
     ]
    },
    {
     "name": "stdout",
     "output_type": "stream",
     "text": [
      "loss: -0.85202 | bce: 0.03831 | dice: 0.86285 | 0 cls: 0.11938 | 1 cls: 0.17462 | 2 cls: 0.31125\n"
     ]
    },
    {
     "name": "stderr",
     "output_type": "stream",
     "text": [
      "Epoch 170, lr 0.00048: 100% 21/21 [00:11<00:00,  1.90it/s, 0 cls=0.17252, 1 cls=0.25313, 2 cls=0.35134, bce=0.07411, dice=0.84612, loss=-0.79725]\n"
     ]
    },
    {
     "name": "stdout",
     "output_type": "stream",
     "text": [
      "loss: -0.85269 | bce: 0.03712 | dice: 0.86269 | 0 cls: 0.12028 | 1 cls: 0.17163 | 2 cls: 0.30592\n"
     ]
    },
    {
     "name": "stderr",
     "output_type": "stream",
     "text": [
      "Epoch 171, lr 0.00048: 100% 21/21 [00:11<00:00,  1.87it/s, 0 cls=0.16838, 1 cls=0.24772, 2 cls=0.34523, bce=0.07210, dice=0.84864, loss=-0.80163]\n"
     ]
    },
    {
     "name": "stdout",
     "output_type": "stream",
     "text": [
      "loss: -0.85565 | bce: 0.03870 | dice: 0.86800 | 0 cls: 0.11638 | 1 cls: 0.16951 | 2 cls: 0.29652\n"
     ]
    },
    {
     "name": "stderr",
     "output_type": "stream",
     "text": [
      "Epoch 172, lr 0.00048: 100% 21/21 [00:10<00:00,  1.91it/s, 0 cls=0.16809, 1 cls=0.24864, 2 cls=0.34747, bce=0.07274, dice=0.84854, loss=-0.80124]\n"
     ]
    },
    {
     "name": "stdout",
     "output_type": "stream",
     "text": [
      "loss: -0.85533 | bce: 0.03823 | dice: 0.86686 | 0 cls: 0.11703 | 1 cls: 0.17015 | 2 cls: 0.29763\n"
     ]
    },
    {
     "name": "stderr",
     "output_type": "stream",
     "text": [
      "Epoch 173, lr 0.00048: 100% 21/21 [00:11<00:00,  1.91it/s, 0 cls=0.16893, 1 cls=0.24492, 2 cls=0.34552, bce=0.07340, dice=0.84983, loss=-0.80185]\n"
     ]
    },
    {
     "name": "stdout",
     "output_type": "stream",
     "text": [
      "loss: -0.85657 | bce: 0.03785 | dice: 0.86834 | 0 cls: 0.11613 | 1 cls: 0.16811 | 2 cls: 0.29595\n"
     ]
    },
    {
     "name": "stderr",
     "output_type": "stream",
     "text": [
      "Epoch 174, lr 0.00048: 100% 21/21 [00:11<00:00,  1.82it/s, 0 cls=0.17501, 1 cls=0.25717, 2 cls=0.35720, bce=0.07402, dice=0.84295, loss=-0.79461]\n"
     ]
    },
    {
     "name": "stdout",
     "output_type": "stream",
     "text": [
      "loss: -0.85459 | bce: 0.03951 | dice: 0.86755 | 0 cls: 0.11643 | 1 cls: 0.17247 | 2 cls: 0.29925\n"
     ]
    },
    {
     "name": "stderr",
     "output_type": "stream",
     "text": [
      "Epoch 175, lr 0.00048: 100% 21/21 [00:11<00:00,  1.90it/s, 0 cls=0.16784, 1 cls=0.24380, 2 cls=0.34584, bce=0.07193, dice=0.84917, loss=-0.80287]\n"
     ]
    },
    {
     "name": "stdout",
     "output_type": "stream",
     "text": [
      "loss: -0.85527 | bce: 0.03847 | dice: 0.86713 | 0 cls: 0.11640 | 1 cls: 0.17135 | 2 cls: 0.29874\n"
     ]
    },
    {
     "name": "stderr",
     "output_type": "stream",
     "text": [
      "Epoch 176, lr 0.00048: 100% 21/21 [00:11<00:00,  1.90it/s, 0 cls=0.16953, 1 cls=0.24950, 2 cls=0.34626, bce=0.07309, dice=0.84828, loss=-0.80026]\n"
     ]
    },
    {
     "name": "stdout",
     "output_type": "stream",
     "text": [
      "loss: -0.85604 | bce: 0.03808 | dice: 0.86800 | 0 cls: 0.11621 | 1 cls: 0.16985 | 2 cls: 0.29624\n"
     ]
    },
    {
     "name": "stderr",
     "output_type": "stream",
     "text": [
      "Epoch 177, lr 0.00048: 100% 21/21 [00:10<00:00,  1.91it/s, 0 cls=0.16634, 1 cls=0.24687, 2 cls=0.34599, bce=0.07284, dice=0.84987, loss=-0.80271]\n"
     ]
    },
    {
     "name": "stdout",
     "output_type": "stream",
     "text": [
      "loss: -0.85603 | bce: 0.03881 | dice: 0.86821 | 0 cls: 0.11591 | 1 cls: 0.17036 | 2 cls: 0.29786\n"
     ]
    },
    {
     "name": "stderr",
     "output_type": "stream",
     "text": [
      "Epoch 178, lr 0.00048: 100% 21/21 [00:10<00:00,  1.95it/s, 0 cls=0.16663, 1 cls=0.24505, 2 cls=0.34317, bce=0.07149, dice=0.84976, loss=-0.80342]\n"
     ]
    },
    {
     "name": "stdout",
     "output_type": "stream",
     "text": [
      "loss: -0.85515 | bce: 0.04211 | dice: 0.87022 | 0 cls: 0.11743 | 1 cls: 0.16962 | 2 cls: 0.29562\n"
     ]
    },
    {
     "name": "stderr",
     "output_type": "stream",
     "text": [
      "Epoch 179, lr 0.00048: 100% 21/21 [00:11<00:00,  1.89it/s, 0 cls=0.16553, 1 cls=0.24777, 2 cls=0.34557, bce=0.07238, dice=0.84968, loss=-0.80301]\n"
     ]
    },
    {
     "name": "stdout",
     "output_type": "stream",
     "text": [
      "loss: -0.85615 | bce: 0.03864 | dice: 0.86847 | 0 cls: 0.11545 | 1 cls: 0.17016 | 2 cls: 0.29682\n"
     ]
    },
    {
     "name": "stderr",
     "output_type": "stream",
     "text": [
      "Epoch 180, lr 0.00048: 100% 21/21 [00:10<00:00,  1.91it/s, 0 cls=0.15992, 1 cls=0.24078, 2 cls=0.33633, bce=0.06978, dice=0.85328, loss=-0.80882]\n"
     ]
    },
    {
     "name": "stdout",
     "output_type": "stream",
     "text": [
      "loss: -0.85654 | bce: 0.04072 | dice: 0.87064 | 0 cls: 0.11396 | 1 cls: 0.17135 | 2 cls: 0.29531\n"
     ]
    },
    {
     "name": "stderr",
     "output_type": "stream",
     "text": [
      "Epoch 181, lr 0.00048: 100% 21/21 [00:10<00:00,  1.91it/s, 0 cls=0.16979, 1 cls=0.24682, 2 cls=0.34644, bce=0.07398, dice=0.84948, loss=-0.80069]\n"
     ]
    },
    {
     "name": "stdout",
     "output_type": "stream",
     "text": [
      "loss: -0.84890 | bce: 0.03649 | dice: 0.85805 | 0 cls: 0.12461 | 1 cls: 0.17593 | 2 cls: 0.31011\n"
     ]
    },
    {
     "name": "stderr",
     "output_type": "stream",
     "text": [
      "Epoch 182, lr 0.00048: 100% 21/21 [00:10<00:00,  1.91it/s, 0 cls=0.16839, 1 cls=0.24720, 2 cls=0.34679, bce=0.07288, dice=0.84875, loss=-0.80146]\n"
     ]
    },
    {
     "name": "stdout",
     "output_type": "stream",
     "text": [
      "loss: -0.85656 | bce: 0.03833 | dice: 0.86827 | 0 cls: 0.11613 | 1 cls: 0.16764 | 2 cls: 0.29730\n"
     ]
    },
    {
     "name": "stderr",
     "output_type": "stream",
     "text": [
      "Epoch 183, lr 0.00048: 100% 21/21 [00:11<00:00,  1.91it/s, 0 cls=0.16790, 1 cls=0.24434, 2 cls=0.34348, bce=0.07205, dice=0.84967, loss=-0.80280]\n"
     ]
    },
    {
     "name": "stdout",
     "output_type": "stream",
     "text": [
      "loss: -0.85784 | bce: 0.03788 | dice: 0.86940 | 0 cls: 0.11456 | 1 cls: 0.16693 | 2 cls: 0.29313\n"
     ]
    },
    {
     "name": "stderr",
     "output_type": "stream",
     "text": [
      "Epoch 184, lr 0.00048: 100% 21/21 [00:10<00:00,  1.95it/s, 0 cls=0.16383, 1 cls=0.24003, 2 cls=0.33921, bce=0.07038, dice=0.85176, loss=-0.80665]\n"
     ]
    },
    {
     "name": "stdout",
     "output_type": "stream",
     "text": [
      "loss: -0.85527 | bce: 0.04137 | dice: 0.86983 | 0 cls: 0.11473 | 1 cls: 0.17466 | 2 cls: 0.29590\n"
     ]
    },
    {
     "name": "stderr",
     "output_type": "stream",
     "text": [
      "Epoch 185, lr 0.00048: 100% 21/21 [00:10<00:00,  1.92it/s, 0 cls=0.16666, 1 cls=0.24491, 2 cls=0.34308, bce=0.07273, dice=0.85091, loss=-0.80333]\n"
     ]
    },
    {
     "name": "stdout",
     "output_type": "stream",
     "text": [
      "loss: -0.85682 | bce: 0.03831 | dice: 0.86949 | 0 cls: 0.11585 | 1 cls: 0.16773 | 2 cls: 0.29234\n"
     ]
    },
    {
     "name": "stderr",
     "output_type": "stream",
     "text": [
      "Epoch 186, lr 0.00048: 100% 21/21 [00:10<00:00,  1.93it/s, 0 cls=0.16494, 1 cls=0.24625, 2 cls=0.34267, bce=0.07231, dice=0.85089, loss=-0.80395]\n"
     ]
    },
    {
     "name": "stdout",
     "output_type": "stream",
     "text": [
      "loss: -0.85555 | bce: 0.03714 | dice: 0.86598 | 0 cls: 0.11681 | 1 cls: 0.17014 | 2 cls: 0.29840\n"
     ]
    },
    {
     "name": "stderr",
     "output_type": "stream",
     "text": [
      "Epoch 187, lr 0.00048: 100% 21/21 [00:10<00:00,  1.92it/s, 0 cls=0.16231, 1 cls=0.24492, 2 cls=0.33895, bce=0.07024, dice=0.85140, loss=-0.80622]\n"
     ]
    },
    {
     "name": "stdout",
     "output_type": "stream",
     "text": [
      "loss: -0.85367 | bce: 0.03841 | dice: 0.86494 | 0 cls: 0.11603 | 1 cls: 0.17727 | 2 cls: 0.30126\n"
     ]
    },
    {
     "name": "stderr",
     "output_type": "stream",
     "text": [
      "Epoch 188, lr 0.00048: 100% 21/21 [00:10<00:00,  1.94it/s, 0 cls=0.16402, 1 cls=0.24049, 2 cls=0.33658, bce=0.07083, dice=0.85261, loss=-0.80660]\n"
     ]
    },
    {
     "name": "stdout",
     "output_type": "stream",
     "text": [
      "loss: -0.85839 | bce: 0.03849 | dice: 0.87124 | 0 cls: 0.11346 | 1 cls: 0.16730 | 2 cls: 0.29020\n"
     ]
    },
    {
     "name": "stderr",
     "output_type": "stream",
     "text": [
      "Epoch 189, lr 0.00048: 100% 21/21 [00:10<00:00,  1.93it/s, 0 cls=0.16753, 1 cls=0.24537, 2 cls=0.34267, bce=0.07215, dice=0.85014, loss=-0.80287]\n"
     ]
    },
    {
     "name": "stdout",
     "output_type": "stream",
     "text": [
      "loss: -0.85817 | bce: 0.03738 | dice: 0.86988 | 0 cls: 0.11423 | 1 cls: 0.16691 | 2 cls: 0.29115\n"
     ]
    },
    {
     "name": "stderr",
     "output_type": "stream",
     "text": [
      "Epoch 190, lr 0.0018000000000000002: 100% 21/21 [00:10<00:00,  1.96it/s, 0 cls=0.18195, 1 cls=0.26866, 2 cls=0.36886, bce=0.07846, dice=0.83897, loss=-0.78647]\n"
     ]
    },
    {
     "name": "stdout",
     "output_type": "stream",
     "text": [
      "loss: -0.85562 | bce: 0.03882 | dice: 0.86724 | 0 cls: 0.11745 | 1 cls: 0.16777 | 2 cls: 0.30062\n"
     ]
    },
    {
     "name": "stderr",
     "output_type": "stream",
     "text": [
      "Epoch 191, lr 0.0018000000000000002: 100% 21/21 [00:11<00:00,  1.90it/s, 0 cls=0.19135, 1 cls=0.27102, 2 cls=0.37731, bce=0.08067, dice=0.83470, loss=-0.77994]\n"
     ]
    },
    {
     "name": "stdout",
     "output_type": "stream",
     "text": [
      "loss: -0.84639 | bce: 0.03781 | dice: 0.85701 | 0 cls: 0.12688 | 1 cls: 0.17976 | 2 cls: 0.31173\n"
     ]
    },
    {
     "name": "stderr",
     "output_type": "stream",
     "text": [
      "Epoch 192, lr 0.00054: 100% 21/21 [00:10<00:00,  1.92it/s, 0 cls=0.18105, 1 cls=0.26054, 2 cls=0.36276, bce=0.07733, dice=0.84142, loss=-0.78960]\n"
     ]
    },
    {
     "name": "stdout",
     "output_type": "stream",
     "text": [
      "loss: -0.85401 | bce: 0.03833 | dice: 0.86619 | 0 cls: 0.11904 | 1 cls: 0.16883 | 2 cls: 0.30063\n"
     ]
    },
    {
     "name": "stderr",
     "output_type": "stream",
     "text": [
      "Epoch 193, lr 0.00054: 100% 21/21 [00:11<00:00,  1.89it/s, 0 cls=0.17149, 1 cls=0.25100, 2 cls=0.35019, bce=0.07310, dice=0.84631, loss=-0.79853]\n"
     ]
    },
    {
     "name": "stdout",
     "output_type": "stream",
     "text": [
      "loss: -0.85640 | bce: 0.03858 | dice: 0.86913 | 0 cls: 0.11655 | 1 cls: 0.16674 | 2 cls: 0.29317\n"
     ]
    },
    {
     "name": "stderr",
     "output_type": "stream",
     "text": [
      "Epoch 194, lr 0.000162: 100% 21/21 [00:10<00:00,  1.91it/s, 0 cls=0.16616, 1 cls=0.24695, 2 cls=0.34604, bce=0.07208, dice=0.84919, loss=-0.80285]\n"
     ]
    },
    {
     "name": "stdout",
     "output_type": "stream",
     "text": [
      "loss: -0.85693 | bce: 0.03754 | dice: 0.86825 | 0 cls: 0.11574 | 1 cls: 0.16730 | 2 cls: 0.29530\n"
     ]
    },
    {
     "name": "stderr",
     "output_type": "stream",
     "text": [
      "Epoch 195, lr 0.0018000000000000002: 100% 21/21 [00:10<00:00,  1.92it/s, 0 cls=0.18065, 1 cls=0.26011, 2 cls=0.36109, bce=0.07731, dice=0.84193, loss=-0.79000]\n"
     ]
    },
    {
     "name": "stdout",
     "output_type": "stream",
     "text": [
      "loss: -0.85297 | bce: 0.04435 | dice: 0.86982 | 0 cls: 0.11618 | 1 cls: 0.17677 | 2 cls: 0.30166\n"
     ]
    },
    {
     "name": "stderr",
     "output_type": "stream",
     "text": [
      "Epoch 196, lr 0.0018000000000000002: 100% 21/21 [00:11<00:00,  1.90it/s, 0 cls=0.17801, 1 cls=0.25731, 2 cls=0.36023, bce=0.07650, dice=0.84298, loss=-0.79226]\n"
     ]
    },
    {
     "name": "stdout",
     "output_type": "stream",
     "text": [
      "loss: -0.85533 | bce: 0.03744 | dice: 0.86557 | 0 cls: 0.11904 | 1 cls: 0.16810 | 2 cls: 0.29721\n"
     ]
    },
    {
     "name": "stderr",
     "output_type": "stream",
     "text": [
      "Epoch 197, lr 0.00054: 100% 21/21 [00:10<00:00,  1.92it/s, 0 cls=0.16960, 1 cls=0.25051, 2 cls=0.35127, bce=0.07361, dice=0.84733, loss=-0.79953]\n"
     ]
    },
    {
     "name": "stdout",
     "output_type": "stream",
     "text": [
      "loss: -0.85621 | bce: 0.03935 | dice: 0.86836 | 0 cls: 0.11547 | 1 cls: 0.17078 | 2 cls: 0.29778\n"
     ]
    },
    {
     "name": "stderr",
     "output_type": "stream",
     "text": [
      "Epoch 198, lr 0.00054: 100% 21/21 [00:10<00:00,  1.92it/s, 0 cls=0.17183, 1 cls=0.25196, 2 cls=0.35266, bce=0.07399, dice=0.84604, loss=-0.79782]\n"
     ]
    },
    {
     "name": "stdout",
     "output_type": "stream",
     "text": [
      "loss: -0.85571 | bce: 0.03769 | dice: 0.86614 | 0 cls: 0.11680 | 1 cls: 0.17028 | 2 cls: 0.29876\n"
     ]
    },
    {
     "name": "stderr",
     "output_type": "stream",
     "text": [
      "Epoch 199, lr 0.000162: 100% 21/21 [00:11<00:00,  1.86it/s, 0 cls=0.17329, 1 cls=0.25007, 2 cls=0.35012, bce=0.07315, dice=0.84591, loss=-0.79789]\n"
     ]
    },
    {
     "name": "stdout",
     "output_type": "stream",
     "text": [
      "loss: -0.85521 | bce: 0.04020 | dice: 0.86870 | 0 cls: 0.11694 | 1 cls: 0.17100 | 2 cls: 0.29574\n"
     ]
    },
    {
     "name": "stderr",
     "output_type": "stream",
     "text": [
      "Epoch 200, lr 0.000288: 100% 21/21 [00:11<00:00,  1.90it/s, 0 cls=0.16400, 1 cls=0.24230, 2 cls=0.33910, bce=0.07165, dice=0.85231, loss=-0.80579]\n"
     ]
    },
    {
     "name": "stdout",
     "output_type": "stream",
     "text": [
      "loss: -0.85733 | bce: 0.03852 | dice: 0.86955 | 0 cls: 0.11515 | 1 cls: 0.16771 | 2 cls: 0.29452\n"
     ]
    },
    {
     "name": "stderr",
     "output_type": "stream",
     "text": [
      "Epoch 201, lr 0.000288: 100% 21/21 [00:10<00:00,  1.94it/s, 0 cls=0.16563, 1 cls=0.24223, 2 cls=0.34201, bce=0.07127, dice=0.85075, loss=-0.80482]\n"
     ]
    },
    {
     "name": "stdout",
     "output_type": "stream",
     "text": [
      "loss: -0.85784 | bce: 0.03756 | dice: 0.86917 | 0 cls: 0.11485 | 1 cls: 0.16704 | 2 cls: 0.29344\n"
     ]
    },
    {
     "name": "stderr",
     "output_type": "stream",
     "text": [
      "Epoch 202, lr 0.000288: 100% 21/21 [00:11<00:00,  1.90it/s, 0 cls=0.16502, 1 cls=0.24528, 2 cls=0.34173, bce=0.07218, dice=0.85115, loss=-0.80420]\n"
     ]
    },
    {
     "name": "stdout",
     "output_type": "stream",
     "text": [
      "loss: -0.85782 | bce: 0.03816 | dice: 0.86945 | 0 cls: 0.11431 | 1 cls: 0.16782 | 2 cls: 0.29304\n"
     ]
    },
    {
     "name": "stderr",
     "output_type": "stream",
     "text": [
      "Epoch 203, lr 0.000288: 100% 21/21 [00:10<00:00,  1.92it/s, 0 cls=0.16310, 1 cls=0.23942, 2 cls=0.33811, bce=0.07062, dice=0.85265, loss=-0.80722]\n"
     ]
    },
    {
     "name": "stdout",
     "output_type": "stream",
     "text": [
      "loss: -0.85691 | bce: 0.03777 | dice: 0.86818 | 0 cls: 0.11501 | 1 cls: 0.16924 | 2 cls: 0.29571\n"
     ]
    },
    {
     "name": "stderr",
     "output_type": "stream",
     "text": [
      "Epoch 204, lr 0.000288: 100% 21/21 [00:11<00:00,  1.88it/s, 0 cls=0.16561, 1 cls=0.24487, 2 cls=0.34246, bce=0.07252, dice=0.85108, loss=-0.80391]\n"
     ]
    },
    {
     "name": "stdout",
     "output_type": "stream",
     "text": [
      "loss: -0.85622 | bce: 0.03725 | dice: 0.86696 | 0 cls: 0.11613 | 1 cls: 0.16897 | 2 cls: 0.29779\n"
     ]
    },
    {
     "name": "stderr",
     "output_type": "stream",
     "text": [
      "Epoch 205, lr 0.000288: 100% 21/21 [00:10<00:00,  1.91it/s, 0 cls=0.16009, 1 cls=0.24007, 2 cls=0.33587, bce=0.06945, dice=0.85326, loss=-0.80899]\n"
     ]
    },
    {
     "name": "stdout",
     "output_type": "stream",
     "text": [
      "loss: -0.85637 | bce: 0.03780 | dice: 0.86755 | 0 cls: 0.11648 | 1 cls: 0.16798 | 2 cls: 0.29654\n"
     ]
    },
    {
     "name": "stderr",
     "output_type": "stream",
     "text": [
      "Epoch 206, lr 0.000288: 100% 21/21 [00:10<00:00,  1.93it/s, 0 cls=0.16540, 1 cls=0.24305, 2 cls=0.34077, bce=0.07139, dice=0.85093, loss=-0.80477]\n"
     ]
    },
    {
     "name": "stdout",
     "output_type": "stream",
     "text": [
      "loss: -0.85773 | bce: 0.03802 | dice: 0.86950 | 0 cls: 0.11463 | 1 cls: 0.16749 | 2 cls: 0.29286\n"
     ]
    },
    {
     "name": "stderr",
     "output_type": "stream",
     "text": [
      "Epoch 207, lr 0.000288: 100% 21/21 [00:11<00:00,  1.89it/s, 0 cls=0.15946, 1 cls=0.23514, 2 cls=0.33231, bce=0.06901, dice=0.85496, loss=-0.81088]\n"
     ]
    },
    {
     "name": "stdout",
     "output_type": "stream",
     "text": [
      "loss: -0.85810 | bce: 0.03945 | dice: 0.87104 | 0 cls: 0.11343 | 1 cls: 0.16846 | 2 cls: 0.29201\n"
     ]
    },
    {
     "name": "stderr",
     "output_type": "stream",
     "text": [
      "Epoch 208, lr 0.000288: 100% 21/21 [00:10<00:00,  1.91it/s, 0 cls=0.17167, 1 cls=0.24944, 2 cls=0.34662, bce=0.07405, dice=0.84809, loss=-0.79898]\n"
     ]
    },
    {
     "name": "stdout",
     "output_type": "stream",
     "text": [
      "loss: -0.85773 | bce: 0.03723 | dice: 0.86869 | 0 cls: 0.11496 | 1 cls: 0.16728 | 2 cls: 0.29403\n"
     ]
    },
    {
     "name": "stderr",
     "output_type": "stream",
     "text": [
      "Epoch 209, lr 0.000288: 100% 21/21 [00:10<00:00,  1.93it/s, 0 cls=0.15993, 1 cls=0.23755, 2 cls=0.33486, bce=0.07031, dice=0.85478, loss=-0.80972]\n"
     ]
    },
    {
     "name": "stdout",
     "output_type": "stream",
     "text": [
      "loss: -0.85751 | bce: 0.03742 | dice: 0.86881 | 0 cls: 0.11561 | 1 cls: 0.16626 | 2 cls: 0.29368\n"
     ]
    },
    {
     "name": "stderr",
     "output_type": "stream",
     "text": [
      "Epoch 210, lr 0.000288: 100% 21/21 [00:10<00:00,  1.91it/s, 0 cls=0.16197, 1 cls=0.23836, 2 cls=0.33761, bce=0.07094, dice=0.85354, loss=-0.80810]\n"
     ]
    },
    {
     "name": "stdout",
     "output_type": "stream",
     "text": [
      "loss: -0.85764 | bce: 0.03792 | dice: 0.86955 | 0 cls: 0.11515 | 1 cls: 0.16700 | 2 cls: 0.29230\n"
     ]
    },
    {
     "name": "stderr",
     "output_type": "stream",
     "text": [
      "Epoch 211, lr 0.000288: 100% 21/21 [00:11<00:00,  1.90it/s, 0 cls=0.16516, 1 cls=0.24252, 2 cls=0.34057, bce=0.07085, dice=0.85087, loss=-0.80519]\n"
     ]
    },
    {
     "name": "stdout",
     "output_type": "stream",
     "text": [
      "loss: -0.85554 | bce: 0.04030 | dice: 0.86936 | 0 cls: 0.11667 | 1 cls: 0.16979 | 2 cls: 0.29726\n"
     ]
    },
    {
     "name": "stderr",
     "output_type": "stream",
     "text": [
      "Epoch 212, lr 0.000288: 100% 21/21 [00:11<00:00,  1.90it/s, 0 cls=0.16420, 1 cls=0.24049, 2 cls=0.33933, bce=0.07129, dice=0.85224, loss=-0.80616]\n"
     ]
    },
    {
     "name": "stdout",
     "output_type": "stream",
     "text": [
      "loss: -0.85905 | bce: 0.03820 | dice: 0.87131 | 0 cls: 0.11335 | 1 cls: 0.16633 | 2 cls: 0.29038\n"
     ]
    },
    {
     "name": "stderr",
     "output_type": "stream",
     "text": [
      "Epoch 213, lr 0.000288: 100% 21/21 [00:11<00:00,  1.89it/s, 0 cls=0.15916, 1 cls=0.23687, 2 cls=0.33322, bce=0.06955, dice=0.85517, loss=-0.81060]\n"
     ]
    },
    {
     "name": "stdout",
     "output_type": "stream",
     "text": [
      "loss: -0.85726 | bce: 0.03787 | dice: 0.86853 | 0 cls: 0.11542 | 1 cls: 0.16760 | 2 cls: 0.29418\n"
     ]
    },
    {
     "name": "stderr",
     "output_type": "stream",
     "text": [
      "Epoch 214, lr 0.000288: 100% 21/21 [00:11<00:00,  1.90it/s, 0 cls=0.15992, 1 cls=0.23854, 2 cls=0.33459, bce=0.07038, dice=0.85456, loss=-0.80944]\n"
     ]
    },
    {
     "name": "stdout",
     "output_type": "stream",
     "text": [
      "loss: -0.85804 | bce: 0.03702 | dice: 0.86886 | 0 cls: 0.11542 | 1 cls: 0.16538 | 2 cls: 0.29395\n"
     ]
    },
    {
     "name": "stderr",
     "output_type": "stream",
     "text": [
      "Epoch 215, lr 0.000288: 100% 21/21 [00:11<00:00,  1.90it/s, 0 cls=0.16234, 1 cls=0.24108, 2 cls=0.33772, bce=0.07027, dice=0.85234, loss=-0.80728]\n"
     ]
    },
    {
     "name": "stdout",
     "output_type": "stream",
     "text": [
      "loss: -0.85695 | bce: 0.03897 | dice: 0.86936 | 0 cls: 0.11416 | 1 cls: 0.17112 | 2 cls: 0.29350\n"
     ]
    },
    {
     "name": "stderr",
     "output_type": "stream",
     "text": [
      "Epoch 216, lr 0.000288: 100% 21/21 [00:10<00:00,  1.92it/s, 0 cls=0.16507, 1 cls=0.24460, 2 cls=0.34119, bce=0.07206, dice=0.85133, loss=-0.80446]\n"
     ]
    },
    {
     "name": "stdout",
     "output_type": "stream",
     "text": [
      "loss: -0.85894 | bce: 0.03758 | dice: 0.87056 | 0 cls: 0.11459 | 1 cls: 0.16389 | 2 cls: 0.29211\n"
     ]
    },
    {
     "name": "stderr",
     "output_type": "stream",
     "text": [
      "Epoch 217, lr 0.000288: 100% 21/21 [00:11<00:00,  1.90it/s, 0 cls=0.16268, 1 cls=0.23818, 2 cls=0.33407, bce=0.07021, dice=0.85371, loss=-0.80810]\n"
     ]
    },
    {
     "name": "stdout",
     "output_type": "stream",
     "text": [
      "loss: -0.85689 | bce: 0.03689 | dice: 0.86757 | 0 cls: 0.11685 | 1 cls: 0.16597 | 2 cls: 0.29526\n"
     ]
    },
    {
     "name": "stderr",
     "output_type": "stream",
     "text": [
      "Epoch 218, lr 0.000288: 100% 21/21 [00:10<00:00,  1.92it/s, 0 cls=0.16123, 1 cls=0.24054, 2 cls=0.33689, bce=0.07115, dice=0.85383, loss=-0.80799]\n"
     ]
    },
    {
     "name": "stdout",
     "output_type": "stream",
     "text": [
      "loss: -0.85789 | bce: 0.03768 | dice: 0.86930 | 0 cls: 0.11475 | 1 cls: 0.16652 | 2 cls: 0.29431\n"
     ]
    },
    {
     "name": "stderr",
     "output_type": "stream",
     "text": [
      "Epoch 219, lr 0.000288: 100% 21/21 [00:11<00:00,  1.90it/s, 0 cls=0.16197, 1 cls=0.24102, 2 cls=0.33803, bce=0.07107, dice=0.85322, loss=-0.80748]\n"
     ]
    },
    {
     "name": "stdout",
     "output_type": "stream",
     "text": [
      "loss: -0.85875 | bce: 0.03730 | dice: 0.87027 | 0 cls: 0.11404 | 1 cls: 0.16513 | 2 cls: 0.29108\n"
     ]
    },
    {
     "name": "stderr",
     "output_type": "stream",
     "text": [
      "Epoch 220, lr 0.000288: 100% 21/21 [00:11<00:00,  1.88it/s, 0 cls=0.16260, 1 cls=0.23977, 2 cls=0.33684, bce=0.07107, dice=0.85345, loss=-0.80743]\n"
     ]
    },
    {
     "name": "stdout",
     "output_type": "stream",
     "text": [
      "loss: -0.85883 | bce: 0.03774 | dice: 0.87042 | 0 cls: 0.11397 | 1 cls: 0.16547 | 2 cls: 0.29093\n"
     ]
    },
    {
     "name": "stderr",
     "output_type": "stream",
     "text": [
      "Epoch 221, lr 0.000288: 100% 21/21 [00:10<00:00,  1.95it/s, 0 cls=0.16108, 1 cls=0.23968, 2 cls=0.33603, bce=0.07038, dice=0.85368, loss=-0.80842]\n"
     ]
    },
    {
     "name": "stdout",
     "output_type": "stream",
     "text": [
      "loss: -0.85826 | bce: 0.03719 | dice: 0.86916 | 0 cls: 0.11393 | 1 cls: 0.16744 | 2 cls: 0.29344\n"
     ]
    },
    {
     "name": "stderr",
     "output_type": "stream",
     "text": [
      "Epoch 222, lr 0.000288: 100% 21/21 [00:10<00:00,  1.94it/s, 0 cls=0.16641, 1 cls=0.24445, 2 cls=0.34203, bce=0.07193, dice=0.85070, loss=-0.80391]\n"
     ]
    },
    {
     "name": "stdout",
     "output_type": "stream",
     "text": [
      "loss: -0.85709 | bce: 0.03765 | dice: 0.86828 | 0 cls: 0.11561 | 1 cls: 0.16751 | 2 cls: 0.29518\n"
     ]
    },
    {
     "name": "stderr",
     "output_type": "stream",
     "text": [
      "Epoch 223, lr 0.000288: 100% 21/21 [00:11<00:00,  1.89it/s, 0 cls=0.16226, 1 cls=0.23827, 2 cls=0.33654, bce=0.06985, dice=0.85283, loss=-0.80809]\n"
     ]
    },
    {
     "name": "stdout",
     "output_type": "stream",
     "text": [
      "loss: -0.85736 | bce: 0.03851 | dice: 0.86967 | 0 cls: 0.11539 | 1 cls: 0.16694 | 2 cls: 0.29358\n"
     ]
    },
    {
     "name": "stderr",
     "output_type": "stream",
     "text": [
      "Epoch 224, lr 0.000288: 100% 21/21 [00:11<00:00,  1.90it/s, 0 cls=0.16138, 1 cls=0.23870, 2 cls=0.33481, bce=0.07038, dice=0.85409, loss=-0.80865]\n"
     ]
    },
    {
     "name": "stdout",
     "output_type": "stream",
     "text": [
      "loss: -0.85630 | bce: 0.03810 | dice: 0.86778 | 0 cls: 0.11660 | 1 cls: 0.16780 | 2 cls: 0.29802\n"
     ]
    },
    {
     "name": "stderr",
     "output_type": "stream",
     "text": [
      "Epoch 225, lr 0.000288: 100% 21/21 [00:10<00:00,  1.94it/s, 0 cls=0.16123, 1 cls=0.23804, 2 cls=0.33501, bce=0.06987, dice=0.85373, loss=-0.80890]\n"
     ]
    },
    {
     "name": "stdout",
     "output_type": "stream",
     "text": [
      "loss: -0.85715 | bce: 0.03866 | dice: 0.86947 | 0 cls: 0.11523 | 1 cls: 0.16736 | 2 cls: 0.29521\n"
     ]
    },
    {
     "name": "stderr",
     "output_type": "stream",
     "text": [
      "Epoch 226, lr 0.000288: 100% 21/21 [00:10<00:00,  1.92it/s, 0 cls=0.16307, 1 cls=0.24021, 2 cls=0.33658, bce=0.07029, dice=0.85249, loss=-0.80715]\n"
     ]
    },
    {
     "name": "stdout",
     "output_type": "stream",
     "text": [
      "loss: -0.85546 | bce: 0.03838 | dice: 0.86704 | 0 cls: 0.11703 | 1 cls: 0.16947 | 2 cls: 0.29757\n"
     ]
    },
    {
     "name": "stderr",
     "output_type": "stream",
     "text": [
      "Epoch 227, lr 0.000288: 100% 21/21 [00:10<00:00,  1.92it/s, 0 cls=0.16815, 1 cls=0.24638, 2 cls=0.34455, bce=0.07256, dice=0.84927, loss=-0.80203]\n"
     ]
    },
    {
     "name": "stdout",
     "output_type": "stream",
     "text": [
      "loss: -0.85783 | bce: 0.03785 | dice: 0.86937 | 0 cls: 0.11486 | 1 cls: 0.16688 | 2 cls: 0.29459\n"
     ]
    },
    {
     "name": "stderr",
     "output_type": "stream",
     "text": [
      "Epoch 228, lr 0.000288: 100% 21/21 [00:10<00:00,  1.95it/s, 0 cls=0.15739, 1 cls=0.23608, 2 cls=0.32975, bce=0.06944, dice=0.85648, loss=-0.81191]\n"
     ]
    },
    {
     "name": "stdout",
     "output_type": "stream",
     "text": [
      "loss: -0.85713 | bce: 0.03747 | dice: 0.86827 | 0 cls: 0.11521 | 1 cls: 0.16788 | 2 cls: 0.29629\n"
     ]
    },
    {
     "name": "stderr",
     "output_type": "stream",
     "text": [
      "Epoch 229, lr 0.000288: 100% 21/21 [00:11<00:00,  1.91it/s, 0 cls=0.16542, 1 cls=0.24700, 2 cls=0.34326, bce=0.07222, dice=0.85045, loss=-0.80353]\n"
     ]
    },
    {
     "name": "stdout",
     "output_type": "stream",
     "text": [
      "loss: -0.85700 | bce: 0.03749 | dice: 0.86802 | 0 cls: 0.11551 | 1 cls: 0.16773 | 2 cls: 0.29543\n"
     ]
    },
    {
     "name": "stderr",
     "output_type": "stream",
     "text": [
      "Epoch 230, lr 0.000288: 100% 21/21 [00:11<00:00,  1.90it/s, 0 cls=0.16611, 1 cls=0.23889, 2 cls=0.33742, bce=0.07163, dice=0.85255, loss=-0.80563]\n"
     ]
    },
    {
     "name": "stdout",
     "output_type": "stream",
     "text": [
      "loss: -0.85833 | bce: 0.03749 | dice: 0.86997 | 0 cls: 0.11444 | 1 cls: 0.16563 | 2 cls: 0.29256\n"
     ]
    },
    {
     "name": "stderr",
     "output_type": "stream",
     "text": [
      "Epoch 231, lr 0.000288: 100% 21/21 [00:11<00:00,  1.85it/s, 0 cls=0.16332, 1 cls=0.23944, 2 cls=0.33846, bce=0.07120, dice=0.85290, loss=-0.80707]\n"
     ]
    },
    {
     "name": "stdout",
     "output_type": "stream",
     "text": [
      "loss: -0.85850 | bce: 0.03827 | dice: 0.87078 | 0 cls: 0.11441 | 1 cls: 0.16574 | 2 cls: 0.29101\n"
     ]
    },
    {
     "name": "stderr",
     "output_type": "stream",
     "text": [
      "Epoch 232, lr 0.000288: 100% 21/21 [00:10<00:00,  1.97it/s, 0 cls=0.16003, 1 cls=0.23640, 2 cls=0.33388, bce=0.07045, dice=0.85520, loss=-0.80996]\n"
     ]
    },
    {
     "name": "stdout",
     "output_type": "stream",
     "text": [
      "loss: -0.85724 | bce: 0.03767 | dice: 0.86841 | 0 cls: 0.11551 | 1 cls: 0.16767 | 2 cls: 0.29542\n"
     ]
    },
    {
     "name": "stderr",
     "output_type": "stream",
     "text": [
      "Epoch 233, lr 0.000288: 100% 21/21 [00:10<00:00,  1.91it/s, 0 cls=0.16558, 1 cls=0.24372, 2 cls=0.34064, bce=0.07185, dice=0.85113, loss=-0.80444]\n"
     ]
    },
    {
     "name": "stdout",
     "output_type": "stream",
     "text": [
      "loss: -0.85809 | bce: 0.03696 | dice: 0.86893 | 0 cls: 0.11459 | 1 cls: 0.16658 | 2 cls: 0.29388\n"
     ]
    },
    {
     "name": "stderr",
     "output_type": "stream",
     "text": [
      "Epoch 234, lr 0.000288: 100% 21/21 [00:11<00:00,  1.89it/s, 0 cls=0.16749, 1 cls=0.24373, 2 cls=0.34149, bce=0.07223, dice=0.85083, loss=-0.80324]\n"
     ]
    },
    {
     "name": "stdout",
     "output_type": "stream",
     "text": [
      "loss: -0.85798 | bce: 0.03844 | dice: 0.87012 | 0 cls: 0.11509 | 1 cls: 0.16599 | 2 cls: 0.29367\n"
     ]
    },
    {
     "name": "stderr",
     "output_type": "stream",
     "text": [
      "Epoch 235, lr 0.000288: 100% 21/21 [00:10<00:00,  1.92it/s, 0 cls=0.16120, 1 cls=0.24176, 2 cls=0.33849, bce=0.07143, dice=0.85353, loss=-0.80753]\n"
     ]
    },
    {
     "name": "stdout",
     "output_type": "stream",
     "text": [
      "loss: -0.85872 | bce: 0.03825 | dice: 0.87089 | 0 cls: 0.11332 | 1 cls: 0.16731 | 2 cls: 0.29091\n"
     ]
    },
    {
     "name": "stderr",
     "output_type": "stream",
     "text": [
      "Epoch 236, lr 0.000288: 100% 21/21 [00:11<00:00,  1.89it/s, 0 cls=0.16845, 1 cls=0.24742, 2 cls=0.34634, bce=0.07295, dice=0.84893, loss=-0.80143]\n"
     ]
    },
    {
     "name": "stdout",
     "output_type": "stream",
     "text": [
      "loss: -0.85803 | bce: 0.03815 | dice: 0.86995 | 0 cls: 0.11457 | 1 cls: 0.16639 | 2 cls: 0.29397\n"
     ]
    },
    {
     "name": "stderr",
     "output_type": "stream",
     "text": [
      "Epoch 237, lr 0.000288: 100% 21/21 [00:11<00:00,  1.88it/s, 0 cls=0.16040, 1 cls=0.23913, 2 cls=0.33538, bce=0.07019, dice=0.85414, loss=-0.80905]\n"
     ]
    },
    {
     "name": "stdout",
     "output_type": "stream",
     "text": [
      "loss: -0.85848 | bce: 0.03705 | dice: 0.86942 | 0 cls: 0.11459 | 1 cls: 0.16525 | 2 cls: 0.29283\n"
     ]
    },
    {
     "name": "stderr",
     "output_type": "stream",
     "text": [
      "Epoch 238, lr 0.000288: 100% 21/21 [00:10<00:00,  1.92it/s, 0 cls=0.15909, 1 cls=0.23552, 2 cls=0.33225, bce=0.06965, dice=0.85551, loss=-0.81095]\n"
     ]
    },
    {
     "name": "stdout",
     "output_type": "stream",
     "text": [
      "loss: -0.85916 | bce: 0.03768 | dice: 0.87086 | 0 cls: 0.11378 | 1 cls: 0.16458 | 2 cls: 0.29036\n"
     ]
    },
    {
     "name": "stderr",
     "output_type": "stream",
     "text": [
      "Epoch 239, lr 0.000288: 100% 21/21 [00:10<00:00,  1.92it/s, 0 cls=0.15853, 1 cls=0.23552, 2 cls=0.33267, bce=0.06968, dice=0.85571, loss=-0.81122]\n"
     ]
    },
    {
     "name": "stdout",
     "output_type": "stream",
     "text": [
      "loss: -0.85897 | bce: 0.03834 | dice: 0.87152 | 0 cls: 0.11391 | 1 cls: 0.16513 | 2 cls: 0.29041\n"
     ]
    },
    {
     "name": "stderr",
     "output_type": "stream",
     "text": [
      "Epoch 240, lr 0.000288: 100% 21/21 [00:10<00:00,  1.91it/s, 0 cls=0.16343, 1 cls=0.24055, 2 cls=0.33904, bce=0.07197, dice=0.85323, loss=-0.80656]\n"
     ]
    },
    {
     "name": "stdout",
     "output_type": "stream",
     "text": [
      "loss: -0.85683 | bce: 0.03806 | dice: 0.86837 | 0 cls: 0.11638 | 1 cls: 0.16661 | 2 cls: 0.29641\n"
     ]
    },
    {
     "name": "stderr",
     "output_type": "stream",
     "text": [
      "Epoch 241, lr 0.000288: 100% 21/21 [00:11<00:00,  1.90it/s, 0 cls=0.16021, 1 cls=0.23627, 2 cls=0.33430, bce=0.07011, dice=0.85483, loss=-0.80993]\n"
     ]
    },
    {
     "name": "stdout",
     "output_type": "stream",
     "text": [
      "loss: -0.85790 | bce: 0.03863 | dice: 0.87032 | 0 cls: 0.11408 | 1 cls: 0.16807 | 2 cls: 0.29239\n"
     ]
    },
    {
     "name": "stderr",
     "output_type": "stream",
     "text": [
      "Epoch 242, lr 0.000288: 100% 21/21 [00:10<00:00,  1.91it/s, 0 cls=0.16158, 1 cls=0.23615, 2 cls=0.33263, bce=0.06922, dice=0.85409, loss=-0.80959]\n"
     ]
    },
    {
     "name": "stdout",
     "output_type": "stream",
     "text": [
      "loss: -0.85702 | bce: 0.03889 | dice: 0.87018 | 0 cls: 0.11514 | 1 cls: 0.16854 | 2 cls: 0.29124\n"
     ]
    },
    {
     "name": "stderr",
     "output_type": "stream",
     "text": [
      "Epoch 243, lr 0.000288: 100% 21/21 [00:11<00:00,  1.89it/s, 0 cls=0.15667, 1 cls=0.23365, 2 cls=0.32847, bce=0.06916, dice=0.85735, loss=-0.81309]\n"
     ]
    },
    {
     "name": "stdout",
     "output_type": "stream",
     "text": [
      "loss: -0.85644 | bce: 0.03899 | dice: 0.86891 | 0 cls: 0.11516 | 1 cls: 0.17012 | 2 cls: 0.29545\n"
     ]
    },
    {
     "name": "stderr",
     "output_type": "stream",
     "text": [
      "Epoch 244, lr 0.000288: 100% 21/21 [00:11<00:00,  1.89it/s, 0 cls=0.15988, 1 cls=0.23663, 2 cls=0.33433, bce=0.06993, dice=0.85487, loss=-0.81010]\n"
     ]
    },
    {
     "name": "stdout",
     "output_type": "stream",
     "text": [
      "loss: -0.85759 | bce: 0.03751 | dice: 0.86885 | 0 cls: 0.11541 | 1 cls: 0.16656 | 2 cls: 0.29298\n"
     ]
    },
    {
     "name": "stderr",
     "output_type": "stream",
     "text": [
      "Epoch 245, lr 0.000288: 100% 21/21 [00:10<00:00,  1.91it/s, 0 cls=0.16350, 1 cls=0.24089, 2 cls=0.33757, bce=0.07075, dice=0.85227, loss=-0.80662]\n"
     ]
    },
    {
     "name": "stdout",
     "output_type": "stream",
     "text": [
      "loss: -0.85854 | bce: 0.03831 | dice: 0.87083 | 0 cls: 0.11436 | 1 cls: 0.16527 | 2 cls: 0.29268\n"
     ]
    },
    {
     "name": "stderr",
     "output_type": "stream",
     "text": [
      "Epoch 246, lr 0.000288: 100% 21/21 [00:11<00:00,  1.87it/s, 0 cls=0.17208, 1 cls=0.24550, 2 cls=0.34378, bce=0.07573, dice=0.85114, loss=-0.79979]\n"
     ]
    },
    {
     "name": "stdout",
     "output_type": "stream",
     "text": [
      "loss: -0.85826 | bce: 0.03898 | dice: 0.87152 | 0 cls: 0.11423 | 1 cls: 0.16712 | 2 cls: 0.28940\n"
     ]
    },
    {
     "name": "stderr",
     "output_type": "stream",
     "text": [
      "Epoch 247, lr 0.000288: 100% 21/21 [00:10<00:00,  1.91it/s, 0 cls=0.16789, 1 cls=0.24273, 2 cls=0.34343, bce=0.07224, dice=0.85031, loss=-0.80331]\n"
     ]
    },
    {
     "name": "stdout",
     "output_type": "stream",
     "text": [
      "loss: -0.85694 | bce: 0.03844 | dice: 0.86923 | 0 cls: 0.11513 | 1 cls: 0.16888 | 2 cls: 0.29395\n"
     ]
    },
    {
     "name": "stderr",
     "output_type": "stream",
     "text": [
      "Epoch 248, lr 0.000288: 100% 21/21 [00:11<00:00,  1.88it/s, 0 cls=0.16432, 1 cls=0.24003, 2 cls=0.33977, bce=0.07146, dice=0.85238, loss=-0.80626]\n"
     ]
    },
    {
     "name": "stdout",
     "output_type": "stream",
     "text": [
      "loss: -0.85610 | bce: 0.03965 | dice: 0.86906 | 0 cls: 0.11574 | 1 cls: 0.16978 | 2 cls: 0.29730\n"
     ]
    },
    {
     "name": "stderr",
     "output_type": "stream",
     "text": [
      "Epoch 249, lr 0.000288: 100% 21/21 [00:10<00:00,  1.92it/s, 0 cls=0.15764, 1 cls=0.23427, 2 cls=0.32999, bce=0.06890, dice=0.85627, loss=-0.81230]\n"
     ]
    },
    {
     "name": "stdout",
     "output_type": "stream",
     "text": [
      "loss: -0.85656 | bce: 0.03856 | dice: 0.86892 | 0 cls: 0.11516 | 1 cls: 0.17006 | 2 cls: 0.29411\n"
     ]
    },
    {
     "name": "stderr",
     "output_type": "stream",
     "text": [
      "Epoch 250, lr 0.000288: 100% 21/21 [00:11<00:00,  1.90it/s, 0 cls=0.16113, 1 cls=0.23815, 2 cls=0.33491, bce=0.06962, dice=0.85351, loss=-0.80896]\n"
     ]
    },
    {
     "name": "stdout",
     "output_type": "stream",
     "text": [
      "loss: -0.85669 | bce: 0.04087 | dice: 0.87123 | 0 cls: 0.11507 | 1 cls: 0.16896 | 2 cls: 0.29551\n"
     ]
    },
    {
     "name": "stderr",
     "output_type": "stream",
     "text": [
      "Epoch 251, lr 0.000288: 100% 21/21 [00:10<00:00,  1.92it/s, 0 cls=0.16217, 1 cls=0.24107, 2 cls=0.33714, bce=0.07202, dice=0.85405, loss=-0.80717]\n"
     ]
    },
    {
     "name": "stdout",
     "output_type": "stream",
     "text": [
      "loss: -0.85628 | bce: 0.03966 | dice: 0.86908 | 0 cls: 0.11530 | 1 cls: 0.17104 | 2 cls: 0.29464\n"
     ]
    },
    {
     "name": "stderr",
     "output_type": "stream",
     "text": [
      "Epoch 252, lr 0.000288: 100% 21/21 [00:11<00:00,  1.91it/s, 0 cls=0.16018, 1 cls=0.23865, 2 cls=0.33473, bce=0.07116, dice=0.85517, loss=-0.80916]\n"
     ]
    },
    {
     "name": "stdout",
     "output_type": "stream",
     "text": [
      "loss: -0.85822 | bce: 0.03769 | dice: 0.87000 | 0 cls: 0.11418 | 1 cls: 0.16710 | 2 cls: 0.29216\n"
     ]
    },
    {
     "name": "stderr",
     "output_type": "stream",
     "text": [
      "Epoch 253, lr 0.000288: 100% 21/21 [00:11<00:00,  1.91it/s, 0 cls=0.15958, 1 cls=0.23595, 2 cls=0.33426, bce=0.06924, dice=0.85439, loss=-0.81045]\n"
     ]
    },
    {
     "name": "stdout",
     "output_type": "stream",
     "text": [
      "loss: -0.85794 | bce: 0.03734 | dice: 0.86906 | 0 cls: 0.11544 | 1 cls: 0.16528 | 2 cls: 0.29433\n"
     ]
    },
    {
     "name": "stderr",
     "output_type": "stream",
     "text": [
      "Epoch 254, lr 0.000288: 100% 21/21 [00:11<00:00,  1.88it/s, 0 cls=0.16091, 1 cls=0.23829, 2 cls=0.33396, bce=0.07008, dice=0.85409, loss=-0.80905]\n"
     ]
    },
    {
     "name": "stdout",
     "output_type": "stream",
     "text": [
      "loss: -0.85564 | bce: 0.03908 | dice: 0.86798 | 0 cls: 0.11611 | 1 cls: 0.17051 | 2 cls: 0.29845\n"
     ]
    },
    {
     "name": "stderr",
     "output_type": "stream",
     "text": [
      "Epoch 255, lr 0.000288: 100% 21/21 [00:10<00:00,  1.92it/s, 0 cls=0.16302, 1 cls=0.24136, 2 cls=0.33875, bce=0.07114, dice=0.85253, loss=-0.80663]\n"
     ]
    },
    {
     "name": "stdout",
     "output_type": "stream",
     "text": [
      "loss: -0.85571 | bce: 0.03789 | dice: 0.86720 | 0 cls: 0.11620 | 1 cls: 0.17016 | 2 cls: 0.29805\n"
     ]
    },
    {
     "name": "stderr",
     "output_type": "stream",
     "text": [
      "Epoch 256, lr 0.000288: 100% 21/21 [00:11<00:00,  1.90it/s, 0 cls=0.16134, 1 cls=0.23789, 2 cls=0.33595, bce=0.06998, dice=0.85358, loss=-0.80882]\n"
     ]
    },
    {
     "name": "stdout",
     "output_type": "stream",
     "text": [
      "loss: -0.85822 | bce: 0.03860 | dice: 0.87068 | 0 cls: 0.11408 | 1 cls: 0.16749 | 2 cls: 0.29159\n"
     ]
    },
    {
     "name": "stderr",
     "output_type": "stream",
     "text": [
      "Epoch 257, lr 0.000288: 100% 21/21 [00:10<00:00,  1.92it/s, 0 cls=0.16233, 1 cls=0.23656, 2 cls=0.33173, bce=0.07072, dice=0.85524, loss=-0.80888]\n"
     ]
    },
    {
     "name": "stdout",
     "output_type": "stream",
     "text": [
      "loss: -0.85541 | bce: 0.03846 | dice: 0.86689 | 0 cls: 0.11631 | 1 cls: 0.17181 | 2 cls: 0.30008\n"
     ]
    },
    {
     "name": "stderr",
     "output_type": "stream",
     "text": [
      "Epoch 258, lr 0.000288: 100% 21/21 [00:10<00:00,  1.91it/s, 0 cls=0.16038, 1 cls=0.23850, 2 cls=0.33507, bce=0.07050, dice=0.85437, loss=-0.80915]\n"
     ]
    },
    {
     "name": "stdout",
     "output_type": "stream",
     "text": [
      "loss: -0.85507 | bce: 0.03869 | dice: 0.86666 | 0 cls: 0.11625 | 1 cls: 0.17244 | 2 cls: 0.30072\n"
     ]
    },
    {
     "name": "stderr",
     "output_type": "stream",
     "text": [
      "Epoch 259, lr 0.000288: 100% 21/21 [00:11<00:00,  1.89it/s, 0 cls=0.15983, 1 cls=0.23626, 2 cls=0.33312, bce=0.06991, dice=0.85513, loss=-0.81025]\n"
     ]
    },
    {
     "name": "stdout",
     "output_type": "stream",
     "text": [
      "loss: -0.85463 | bce: 0.03846 | dice: 0.86646 | 0 cls: 0.11781 | 1 cls: 0.17073 | 2 cls: 0.29983\n"
     ]
    },
    {
     "name": "stderr",
     "output_type": "stream",
     "text": [
      "Epoch 260, lr 0.000288: 100% 21/21 [00:10<00:00,  1.92it/s, 0 cls=0.15991, 1 cls=0.23516, 2 cls=0.32976, bce=0.06962, dice=0.85594, loss=-0.81072]\n"
     ]
    },
    {
     "name": "stdout",
     "output_type": "stream",
     "text": [
      "loss: -0.85688 | bce: 0.03813 | dice: 0.86909 | 0 cls: 0.11675 | 1 cls: 0.16629 | 2 cls: 0.29268\n"
     ]
    },
    {
     "name": "stderr",
     "output_type": "stream",
     "text": [
      "Epoch 261, lr 0.000288: 100% 21/21 [00:10<00:00,  1.92it/s, 0 cls=0.15978, 1 cls=0.23958, 2 cls=0.33479, bce=0.07064, dice=0.85466, loss=-0.80926]\n"
     ]
    },
    {
     "name": "stdout",
     "output_type": "stream",
     "text": [
      "loss: -0.85565 | bce: 0.03795 | dice: 0.86711 | 0 cls: 0.11645 | 1 cls: 0.17024 | 2 cls: 0.29864\n"
     ]
    },
    {
     "name": "stderr",
     "output_type": "stream",
     "text": [
      "Epoch 262, lr 0.000288: 100% 21/21 [00:10<00:00,  1.92it/s, 0 cls=0.16171, 1 cls=0.23684, 2 cls=0.33530, bce=0.06924, dice=0.85314, loss=-0.80901]\n"
     ]
    },
    {
     "name": "stdout",
     "output_type": "stream",
     "text": [
      "loss: -0.85456 | bce: 0.03842 | dice: 0.86623 | 0 cls: 0.11789 | 1 cls: 0.17038 | 2 cls: 0.30102\n"
     ]
    },
    {
     "name": "stderr",
     "output_type": "stream",
     "text": [
      "Epoch 263, lr 0.000288: 100% 21/21 [00:11<00:00,  1.89it/s, 0 cls=0.16075, 1 cls=0.24005, 2 cls=0.33644, bce=0.07080, dice=0.85409, loss=-0.80852]\n"
     ]
    },
    {
     "name": "stdout",
     "output_type": "stream",
     "text": [
      "loss: -0.85663 | bce: 0.03775 | dice: 0.86823 | 0 cls: 0.11575 | 1 cls: 0.16854 | 2 cls: 0.29561\n"
     ]
    },
    {
     "name": "stderr",
     "output_type": "stream",
     "text": [
      "Epoch 264, lr 0.000288: 100% 21/21 [00:10<00:00,  1.94it/s, 0 cls=0.15845, 1 cls=0.23814, 2 cls=0.33398, bce=0.07010, dice=0.85508, loss=-0.81038]\n"
     ]
    },
    {
     "name": "stdout",
     "output_type": "stream",
     "text": [
      "loss: -0.85562 | bce: 0.03730 | dice: 0.86631 | 0 cls: 0.11767 | 1 cls: 0.16824 | 2 cls: 0.29834\n"
     ]
    },
    {
     "name": "stderr",
     "output_type": "stream",
     "text": [
      "Epoch 265, lr 0.000288: 100% 21/21 [00:10<00:00,  1.94it/s, 0 cls=0.15597, 1 cls=0.23454, 2 cls=0.32996, bce=0.06834, dice=0.85645, loss=-0.81320]\n"
     ]
    },
    {
     "name": "stdout",
     "output_type": "stream",
     "text": [
      "loss: -0.85682 | bce: 0.03874 | dice: 0.86963 | 0 cls: 0.11630 | 1 cls: 0.16731 | 2 cls: 0.29291\n"
     ]
    },
    {
     "name": "stderr",
     "output_type": "stream",
     "text": [
      "Epoch 266, lr 0.000288: 100% 21/21 [00:11<00:00,  1.84it/s, 0 cls=0.16032, 1 cls=0.23954, 2 cls=0.33656, bce=0.07052, dice=0.85399, loss=-0.80886]\n"
     ]
    },
    {
     "name": "stdout",
     "output_type": "stream",
     "text": [
      "loss: -0.85596 | bce: 0.03739 | dice: 0.86698 | 0 cls: 0.11748 | 1 cls: 0.16789 | 2 cls: 0.29676\n"
     ]
    },
    {
     "name": "stderr",
     "output_type": "stream",
     "text": [
      "Epoch 267, lr 0.000288: 100% 21/21 [00:11<00:00,  1.79it/s, 0 cls=0.16854, 1 cls=0.24334, 2 cls=0.34119, bce=0.07192, dice=0.85025, loss=-0.80312]\n"
     ]
    },
    {
     "name": "stdout",
     "output_type": "stream",
     "text": [
      "loss: -0.85898 | bce: 0.03929 | dice: 0.87269 | 0 cls: 0.11330 | 1 cls: 0.16624 | 2 cls: 0.28949\n"
     ]
    },
    {
     "name": "stderr",
     "output_type": "stream",
     "text": [
      "Epoch 268, lr 0.000288: 100% 21/21 [00:11<00:00,  1.81it/s, 0 cls=0.15770, 1 cls=0.23218, 2 cls=0.32836, bce=0.06863, dice=0.85694, loss=-0.81299]\n"
     ]
    },
    {
     "name": "stdout",
     "output_type": "stream",
     "text": [
      "loss: -0.85804 | bce: 0.03773 | dice: 0.86954 | 0 cls: 0.11506 | 1 cls: 0.16555 | 2 cls: 0.29304\n"
     ]
    },
    {
     "name": "stderr",
     "output_type": "stream",
     "text": [
      "Epoch 269, lr 0.000288: 100% 21/21 [00:10<00:00,  1.91it/s, 0 cls=0.15921, 1 cls=0.23409, 2 cls=0.33310, bce=0.06933, dice=0.85510, loss=-0.81117]\n"
     ]
    },
    {
     "name": "stdout",
     "output_type": "stream",
     "text": [
      "loss: -0.85733 | bce: 0.03902 | dice: 0.87061 | 0 cls: 0.11528 | 1 cls: 0.16685 | 2 cls: 0.29172\n"
     ]
    },
    {
     "name": "stderr",
     "output_type": "stream",
     "text": [
      "Epoch 270, lr 0.000288: 100% 21/21 [00:11<00:00,  1.85it/s, 0 cls=0.15940, 1 cls=0.23711, 2 cls=0.33211, bce=0.06938, dice=0.85494, loss=-0.81048]\n"
     ]
    },
    {
     "name": "stdout",
     "output_type": "stream",
     "text": [
      "loss: -0.85808 | bce: 0.03801 | dice: 0.87013 | 0 cls: 0.11513 | 1 cls: 0.16508 | 2 cls: 0.29253\n"
     ]
    },
    {
     "name": "stderr",
     "output_type": "stream",
     "text": [
      "Epoch 271, lr 0.000288: 100% 21/21 [00:11<00:00,  1.89it/s, 0 cls=0.15571, 1 cls=0.23546, 2 cls=0.32857, bce=0.06856, dice=0.85700, loss=-0.81323]\n"
     ]
    },
    {
     "name": "stdout",
     "output_type": "stream",
     "text": [
      "loss: -0.85526 | bce: 0.03698 | dice: 0.86643 | 0 cls: 0.11837 | 1 cls: 0.16756 | 2 cls: 0.29566\n"
     ]
    },
    {
     "name": "stderr",
     "output_type": "stream",
     "text": [
      "Epoch 272, lr 0.000288: 100% 21/21 [00:11<00:00,  1.91it/s, 0 cls=0.15630, 1 cls=0.23382, 2 cls=0.32936, bce=0.06980, dice=0.85770, loss=-0.81308]\n"
     ]
    },
    {
     "name": "stdout",
     "output_type": "stream",
     "text": [
      "loss: -0.85690 | bce: 0.03722 | dice: 0.86819 | 0 cls: 0.11620 | 1 cls: 0.16676 | 2 cls: 0.29495\n"
     ]
    },
    {
     "name": "stderr",
     "output_type": "stream",
     "text": [
      "Epoch 273, lr 0.000288: 100% 21/21 [00:10<00:00,  1.92it/s, 0 cls=0.16138, 1 cls=0.23689, 2 cls=0.33298, bce=0.07059, dice=0.85513, loss=-0.80927]\n"
     ]
    },
    {
     "name": "stdout",
     "output_type": "stream",
     "text": [
      "loss: -0.85534 | bce: 0.03821 | dice: 0.86739 | 0 cls: 0.11768 | 1 cls: 0.16853 | 2 cls: 0.29616\n"
     ]
    },
    {
     "name": "stderr",
     "output_type": "stream",
     "text": [
      "Epoch 274, lr 0.000288: 100% 21/21 [00:11<00:00,  1.89it/s, 0 cls=0.16392, 1 cls=0.24045, 2 cls=0.33757, bce=0.07055, dice=0.85214, loss=-0.80658]\n"
     ]
    },
    {
     "name": "stdout",
     "output_type": "stream",
     "text": [
      "loss: -0.85610 | bce: 0.03852 | dice: 0.86861 | 0 cls: 0.11718 | 1 cls: 0.16754 | 2 cls: 0.29435\n"
     ]
    },
    {
     "name": "stderr",
     "output_type": "stream",
     "text": [
      "Epoch 275, lr 0.000288: 100% 21/21 [00:10<00:00,  1.91it/s, 0 cls=0.16182, 1 cls=0.23778, 2 cls=0.33502, bce=0.07020, dice=0.85378, loss=-0.80859]\n"
     ]
    },
    {
     "name": "stdout",
     "output_type": "stream",
     "text": [
      "loss: -0.85614 | bce: 0.03695 | dice: 0.86709 | 0 cls: 0.11673 | 1 cls: 0.16842 | 2 cls: 0.29784\n"
     ]
    },
    {
     "name": "stderr",
     "output_type": "stream",
     "text": [
      "Epoch 276, lr 0.000288: 100% 21/21 [00:11<00:00,  1.90it/s, 0 cls=0.15962, 1 cls=0.23725, 2 cls=0.33446, bce=0.07074, dice=0.85534, loss=-0.80989]\n"
     ]
    },
    {
     "name": "stdout",
     "output_type": "stream",
     "text": [
      "loss: -0.85862 | bce: 0.03961 | dice: 0.87200 | 0 cls: 0.11317 | 1 cls: 0.16723 | 2 cls: 0.29084\n"
     ]
    },
    {
     "name": "stderr",
     "output_type": "stream",
     "text": [
      "Epoch 277, lr 0.000288: 100% 21/21 [00:10<00:00,  1.93it/s, 0 cls=0.16253, 1 cls=0.24042, 2 cls=0.33716, bce=0.07076, dice=0.85299, loss=-0.80740]\n"
     ]
    },
    {
     "name": "stdout",
     "output_type": "stream",
     "text": [
      "loss: -0.85958 | bce: 0.03931 | dice: 0.87369 | 0 cls: 0.11353 | 1 cls: 0.16307 | 2 cls: 0.28616\n"
     ]
    },
    {
     "name": "stderr",
     "output_type": "stream",
     "text": [
      "Epoch 278, lr 0.000288: 100% 21/21 [00:11<00:00,  1.90it/s, 0 cls=0.15808, 1 cls=0.23720, 2 cls=0.33215, bce=0.06923, dice=0.85539, loss=-0.81114]\n"
     ]
    },
    {
     "name": "stdout",
     "output_type": "stream",
     "text": [
      "loss: -0.85786 | bce: 0.03856 | dice: 0.87028 | 0 cls: 0.11498 | 1 cls: 0.16608 | 2 cls: 0.29233\n"
     ]
    },
    {
     "name": "stderr",
     "output_type": "stream",
     "text": [
      "Epoch 279, lr 0.000288: 100% 21/21 [00:10<00:00,  1.92it/s, 0 cls=0.15827, 1 cls=0.23481, 2 cls=0.33360, bce=0.06924, dice=0.85532, loss=-0.81155]\n"
     ]
    },
    {
     "name": "stdout",
     "output_type": "stream",
     "text": [
      "loss: -0.85719 | bce: 0.03710 | dice: 0.86800 | 0 cls: 0.11584 | 1 cls: 0.16625 | 2 cls: 0.29596\n"
     ]
    },
    {
     "name": "stderr",
     "output_type": "stream",
     "text": [
      "Epoch 280, lr 0.000288: 100% 21/21 [00:11<00:00,  1.90it/s, 0 cls=0.15375, 1 cls=0.23131, 2 cls=0.32524, bce=0.06815, dice=0.85901, loss=-0.81568]\n"
     ]
    },
    {
     "name": "stdout",
     "output_type": "stream",
     "text": [
      "loss: -0.85397 | bce: 0.03843 | dice: 0.86575 | 0 cls: 0.11777 | 1 cls: 0.17285 | 2 cls: 0.29993\n"
     ]
    },
    {
     "name": "stderr",
     "output_type": "stream",
     "text": [
      "Epoch 281, lr 0.000288: 100% 21/21 [00:11<00:00,  1.89it/s, 0 cls=0.15752, 1 cls=0.23087, 2 cls=0.32737, bce=0.06848, dice=0.85718, loss=-0.81350]\n"
     ]
    },
    {
     "name": "stdout",
     "output_type": "stream",
     "text": [
      "loss: -0.85797 | bce: 0.03731 | dice: 0.86970 | 0 cls: 0.11466 | 1 cls: 0.16673 | 2 cls: 0.29254\n"
     ]
    },
    {
     "name": "stderr",
     "output_type": "stream",
     "text": [
      "Epoch 282, lr 0.000288: 100% 21/21 [00:11<00:00,  1.90it/s, 0 cls=0.15646, 1 cls=0.23368, 2 cls=0.32912, bce=0.06909, dice=0.85734, loss=-0.81321]\n"
     ]
    },
    {
     "name": "stdout",
     "output_type": "stream",
     "text": [
      "loss: -0.85669 | bce: 0.03771 | dice: 0.86796 | 0 cls: 0.11711 | 1 cls: 0.16539 | 2 cls: 0.29781\n"
     ]
    },
    {
     "name": "stderr",
     "output_type": "stream",
     "text": [
      "Epoch 283, lr 0.000288: 100% 21/21 [00:11<00:00,  1.88it/s, 0 cls=0.15815, 1 cls=0.23425, 2 cls=0.33101, bce=0.06880, dice=0.85561, loss=-0.81195]\n"
     ]
    },
    {
     "name": "stdout",
     "output_type": "stream",
     "text": [
      "loss: -0.85797 | bce: 0.03810 | dice: 0.87037 | 0 cls: 0.11508 | 1 cls: 0.16513 | 2 cls: 0.29074\n"
     ]
    },
    {
     "name": "stderr",
     "output_type": "stream",
     "text": [
      "Epoch 284, lr 0.000288: 100% 21/21 [00:10<00:00,  1.96it/s, 0 cls=0.15768, 1 cls=0.23652, 2 cls=0.33094, bce=0.06947, dice=0.85611, loss=-0.81158]\n"
     ]
    },
    {
     "name": "stdout",
     "output_type": "stream",
     "text": [
      "loss: -0.85775 | bce: 0.03922 | dice: 0.87083 | 0 cls: 0.11370 | 1 cls: 0.16843 | 2 cls: 0.29222\n"
     ]
    },
    {
     "name": "stderr",
     "output_type": "stream",
     "text": [
      "Epoch 285, lr 0.000288: 100% 21/21 [00:10<00:00,  1.92it/s, 0 cls=0.16417, 1 cls=0.24421, 2 cls=0.34218, bce=0.07190, dice=0.85138, loss=-0.80507]\n"
     ]
    },
    {
     "name": "stdout",
     "output_type": "stream",
     "text": [
      "loss: -0.85691 | bce: 0.03829 | dice: 0.86925 | 0 cls: 0.11589 | 1 cls: 0.16726 | 2 cls: 0.29408\n"
     ]
    },
    {
     "name": "stderr",
     "output_type": "stream",
     "text": [
      "Epoch 286, lr 0.000288: 100% 21/21 [00:11<00:00,  1.90it/s, 0 cls=0.15445, 1 cls=0.23096, 2 cls=0.32339, bce=0.06764, dice=0.85884, loss=-0.81552]\n"
     ]
    },
    {
     "name": "stdout",
     "output_type": "stream",
     "text": [
      "loss: -0.85950 | bce: 0.03840 | dice: 0.87251 | 0 cls: 0.11381 | 1 cls: 0.16379 | 2 cls: 0.28756\n"
     ]
    },
    {
     "name": "stderr",
     "output_type": "stream",
     "text": [
      "Epoch 287, lr 0.000288: 100% 21/21 [00:11<00:00,  1.89it/s, 0 cls=0.15736, 1 cls=0.23618, 2 cls=0.33213, bce=0.06954, dice=0.85594, loss=-0.81172]\n"
     ]
    },
    {
     "name": "stdout",
     "output_type": "stream",
     "text": [
      "loss: -0.85592 | bce: 0.03917 | dice: 0.86898 | 0 cls: 0.11583 | 1 cls: 0.17068 | 2 cls: 0.29508\n"
     ]
    },
    {
     "name": "stderr",
     "output_type": "stream",
     "text": [
      "Epoch 288, lr 0.000288: 100% 21/21 [00:10<00:00,  1.92it/s, 0 cls=0.15982, 1 cls=0.23255, 2 cls=0.33162, bce=0.06899, dice=0.85528, loss=-0.81137]\n"
     ]
    },
    {
     "name": "stdout",
     "output_type": "stream",
     "text": [
      "loss: -0.85719 | bce: 0.03812 | dice: 0.86937 | 0 cls: 0.11552 | 1 cls: 0.16710 | 2 cls: 0.29262\n"
     ]
    },
    {
     "name": "stderr",
     "output_type": "stream",
     "text": [
      "Epoch 289, lr 0.000288: 100% 21/21 [00:10<00:00,  1.92it/s, 0 cls=0.16305, 1 cls=0.23920, 2 cls=0.33633, bce=0.07177, dice=0.85416, loss=-0.80740]\n"
     ]
    },
    {
     "name": "stdout",
     "output_type": "stream",
     "text": [
      "loss: -0.85825 | bce: 0.03761 | dice: 0.87038 | 0 cls: 0.11519 | 1 cls: 0.16432 | 2 cls: 0.29151\n"
     ]
    },
    {
     "name": "stderr",
     "output_type": "stream",
     "text": [
      "Epoch 290, lr 0.0016200000000000001: 100% 21/21 [00:10<00:00,  1.92it/s, 0 cls=0.16765, 1 cls=0.24669, 2 cls=0.34433, bce=0.07377, dice=0.85057, loss=-0.80206]\n"
     ]
    },
    {
     "name": "stdout",
     "output_type": "stream",
     "text": [
      "loss: -0.84693 | bce: 0.03853 | dice: 0.85896 | 0 cls: 0.13123 | 1 cls: 0.16816 | 2 cls: 0.30762\n"
     ]
    },
    {
     "name": "stderr",
     "output_type": "stream",
     "text": [
      "Epoch 291, lr 0.0016200000000000001: 100% 21/21 [00:10<00:00,  1.92it/s, 0 cls=0.19953, 1 cls=0.27765, 2 cls=0.38725, bce=0.08440, dice=0.83119, loss=-0.77269]\n"
     ]
    },
    {
     "name": "stdout",
     "output_type": "stream",
     "text": [
      "loss: -0.84575 | bce: 0.03983 | dice: 0.85783 | 0 cls: 0.12347 | 1 cls: 0.18580 | 2 cls: 0.31807\n"
     ]
    },
    {
     "name": "stderr",
     "output_type": "stream",
     "text": [
      "Epoch 292, lr 0.000486: 100% 21/21 [00:10<00:00,  1.91it/s, 0 cls=0.18154, 1 cls=0.26173, 2 cls=0.36648, bce=0.07800, dice=0.84041, loss=-0.78865]\n"
     ]
    },
    {
     "name": "stdout",
     "output_type": "stream",
     "text": [
      "loss: -0.85650 | bce: 0.03833 | dice: 0.86845 | 0 cls: 0.11557 | 1 cls: 0.16854 | 2 cls: 0.29540\n"
     ]
    },
    {
     "name": "stderr",
     "output_type": "stream",
     "text": [
      "Epoch 293, lr 0.000486: 100% 21/21 [00:10<00:00,  1.92it/s, 0 cls=0.16950, 1 cls=0.24831, 2 cls=0.34919, bce=0.07398, dice=0.84846, loss=-0.80024]\n"
     ]
    },
    {
     "name": "stdout",
     "output_type": "stream",
     "text": [
      "loss: -0.85475 | bce: 0.03995 | dice: 0.86737 | 0 cls: 0.11734 | 1 cls: 0.16982 | 2 cls: 0.29984\n"
     ]
    },
    {
     "name": "stderr",
     "output_type": "stream",
     "text": [
      "Epoch 294, lr 0.0001458: 100% 21/21 [00:10<00:00,  1.92it/s, 0 cls=0.17025, 1 cls=0.24652, 2 cls=0.34733, bce=0.07317, dice=0.84828, loss=-0.80060]\n"
     ]
    },
    {
     "name": "stdout",
     "output_type": "stream",
     "text": [
      "loss: -0.85722 | bce: 0.03794 | dice: 0.86910 | 0 cls: 0.11596 | 1 cls: 0.16581 | 2 cls: 0.29385\n"
     ]
    },
    {
     "name": "stderr",
     "output_type": "stream",
     "text": [
      "Epoch 295, lr 0.0016200000000000001: 100% 21/21 [00:10<00:00,  1.92it/s, 0 cls=0.17450, 1 cls=0.25446, 2 cls=0.35760, bce=0.07586, dice=0.84517, loss=-0.79525]\n"
     ]
    },
    {
     "name": "stdout",
     "output_type": "stream",
     "text": [
      "loss: -0.84482 | bce: 0.04222 | dice: 0.85820 | 0 cls: 0.12620 | 1 cls: 0.18309 | 2 cls: 0.31987\n"
     ]
    },
    {
     "name": "stderr",
     "output_type": "stream",
     "text": [
      "Epoch 296, lr 0.0016200000000000001: 100% 21/21 [00:10<00:00,  1.93it/s, 0 cls=0.18758, 1 cls=0.27111, 2 cls=0.37442, bce=0.08131, dice=0.83706, loss=-0.78199]\n"
     ]
    },
    {
     "name": "stdout",
     "output_type": "stream",
     "text": [
      "loss: -0.85416 | bce: 0.03976 | dice: 0.86717 | 0 cls: 0.11904 | 1 cls: 0.16904 | 2 cls: 0.30200\n"
     ]
    },
    {
     "name": "stderr",
     "output_type": "stream",
     "text": [
      "Epoch 297, lr 0.000486: 100% 21/21 [00:10<00:00,  1.94it/s, 0 cls=0.18139, 1 cls=0.26156, 2 cls=0.36244, bce=0.07685, dice=0.84087, loss=-0.78925]\n"
     ]
    },
    {
     "name": "stdout",
     "output_type": "stream",
     "text": [
      "loss: -0.85534 | bce: 0.03808 | dice: 0.86677 | 0 cls: 0.11628 | 1 cls: 0.17110 | 2 cls: 0.29794\n"
     ]
    },
    {
     "name": "stderr",
     "output_type": "stream",
     "text": [
      "Epoch 298, lr 0.000486: 100% 21/21 [00:10<00:00,  1.91it/s, 0 cls=0.17106, 1 cls=0.24890, 2 cls=0.34912, bce=0.07425, dice=0.84809, loss=-0.79926]\n"
     ]
    },
    {
     "name": "stdout",
     "output_type": "stream",
     "text": [
      "loss: -0.85619 | bce: 0.04010 | dice: 0.86994 | 0 cls: 0.11698 | 1 cls: 0.16722 | 2 cls: 0.29373\n"
     ]
    },
    {
     "name": "stderr",
     "output_type": "stream",
     "text": [
      "Epoch 299, lr 0.0001458: 100% 21/21 [00:11<00:00,  1.90it/s, 0 cls=0.16271, 1 cls=0.24209, 2 cls=0.33683, bce=0.07036, dice=0.85241, loss=-0.80689]\n"
     ]
    },
    {
     "name": "stdout",
     "output_type": "stream",
     "text": [
      "loss: -0.85766 | bce: 0.03881 | dice: 0.87035 | 0 cls: 0.11526 | 1 cls: 0.16655 | 2 cls: 0.29205\n"
     ]
    },
    {
     "name": "stderr",
     "output_type": "stream",
     "text": [
      "Epoch 300, lr 0.00017279999999999997: 100% 21/21 [00:10<00:00,  1.91it/s, 0 cls=0.16406, 1 cls=0.23983, 2 cls=0.33917, bce=0.07097, dice=0.85218, loss=-0.80645]\n"
     ]
    },
    {
     "name": "stdout",
     "output_type": "stream",
     "text": [
      "loss: -0.85783 | bce: 0.03830 | dice: 0.86981 | 0 cls: 0.11461 | 1 cls: 0.16726 | 2 cls: 0.29277\n"
     ]
    },
    {
     "name": "stderr",
     "output_type": "stream",
     "text": [
      "Epoch 301, lr 0.00017279999999999997: 100% 21/21 [00:10<00:00,  1.95it/s, 0 cls=0.16409, 1 cls=0.24088, 2 cls=0.33901, bce=0.07077, dice=0.85183, loss=-0.80623]\n"
     ]
    },
    {
     "name": "stdout",
     "output_type": "stream",
     "text": [
      "loss: -0.85799 | bce: 0.03817 | dice: 0.87005 | 0 cls: 0.11444 | 1 cls: 0.16687 | 2 cls: 0.29282\n"
     ]
    },
    {
     "name": "stderr",
     "output_type": "stream",
     "text": [
      "Epoch 302, lr 0.00017279999999999997: 100% 21/21 [00:10<00:00,  1.92it/s, 0 cls=0.16438, 1 cls=0.23971, 2 cls=0.33827, bce=0.07134, dice=0.85260, loss=-0.80639]\n"
     ]
    },
    {
     "name": "stdout",
     "output_type": "stream",
     "text": [
      "loss: -0.85781 | bce: 0.03836 | dice: 0.86979 | 0 cls: 0.11433 | 1 cls: 0.16805 | 2 cls: 0.29342\n"
     ]
    },
    {
     "name": "stderr",
     "output_type": "stream",
     "text": [
      "Epoch 303, lr 0.00017279999999999997: 100% 21/21 [00:11<00:00,  1.87it/s, 0 cls=0.16262, 1 cls=0.24107, 2 cls=0.33582, bce=0.07126, dice=0.85363, loss=-0.80723]\n"
     ]
    },
    {
     "name": "stdout",
     "output_type": "stream",
     "text": [
      "loss: -0.85830 | bce: 0.03769 | dice: 0.86996 | 0 cls: 0.11396 | 1 cls: 0.16734 | 2 cls: 0.29246\n"
     ]
    },
    {
     "name": "stderr",
     "output_type": "stream",
     "text": [
      "Epoch 304, lr 0.00017279999999999997: 100% 21/21 [00:10<00:00,  1.96it/s, 0 cls=0.15830, 1 cls=0.23644, 2 cls=0.33377, bce=0.06924, dice=0.85488, loss=-0.81107]\n"
     ]
    },
    {
     "name": "stdout",
     "output_type": "stream",
     "text": [
      "loss: -0.85870 | bce: 0.03776 | dice: 0.87023 | 0 cls: 0.11404 | 1 cls: 0.16592 | 2 cls: 0.29258\n"
     ]
    },
    {
     "name": "stderr",
     "output_type": "stream",
     "text": [
      "Epoch 305, lr 0.00017279999999999997: 100% 21/21 [00:11<00:00,  1.91it/s, 0 cls=0.16531, 1 cls=0.24047, 2 cls=0.33905, bce=0.07168, dice=0.85223, loss=-0.80555]\n"
     ]
    },
    {
     "name": "stdout",
     "output_type": "stream",
     "text": [
      "loss: -0.85780 | bce: 0.03781 | dice: 0.86948 | 0 cls: 0.11475 | 1 cls: 0.16735 | 2 cls: 0.29321\n"
     ]
    },
    {
     "name": "stderr",
     "output_type": "stream",
     "text": [
      "Epoch 306, lr 0.00017279999999999997: 100% 21/21 [00:10<00:00,  1.94it/s, 0 cls=0.15852, 1 cls=0.23324, 2 cls=0.33108, bce=0.06973, dice=0.85641, loss=-0.81188]\n"
     ]
    },
    {
     "name": "stdout",
     "output_type": "stream",
     "text": [
      "loss: -0.85774 | bce: 0.03848 | dice: 0.86980 | 0 cls: 0.11430 | 1 cls: 0.16805 | 2 cls: 0.29392\n"
     ]
    },
    {
     "name": "stderr",
     "output_type": "stream",
     "text": [
      "Epoch 307, lr 0.00017279999999999997: 100% 21/21 [00:10<00:00,  1.91it/s, 0 cls=0.16006, 1 cls=0.23964, 2 cls=0.33511, bce=0.07021, dice=0.85416, loss=-0.80905]\n"
     ]
    },
    {
     "name": "stdout",
     "output_type": "stream",
     "text": [
      "loss: -0.85880 | bce: 0.03837 | dice: 0.87106 | 0 cls: 0.11372 | 1 cls: 0.16600 | 2 cls: 0.29136\n"
     ]
    },
    {
     "name": "stderr",
     "output_type": "stream",
     "text": [
      "Epoch 308, lr 0.00017279999999999997: 100% 21/21 [00:10<00:00,  1.91it/s, 0 cls=0.16282, 1 cls=0.24131, 2 cls=0.33646, bce=0.07066, dice=0.85287, loss=-0.80702]\n"
     ]
    },
    {
     "name": "stdout",
     "output_type": "stream",
     "text": [
      "loss: -0.85799 | bce: 0.03871 | dice: 0.87040 | 0 cls: 0.11464 | 1 cls: 0.16665 | 2 cls: 0.29221\n"
     ]
    },
    {
     "name": "stderr",
     "output_type": "stream",
     "text": [
      "Epoch 309, lr 0.00017279999999999997: 100% 21/21 [00:10<00:00,  1.93it/s, 0 cls=0.15832, 1 cls=0.23496, 2 cls=0.33142, bce=0.06949, dice=0.85606, loss=-0.81163]\n"
     ]
    },
    {
     "name": "stdout",
     "output_type": "stream",
     "text": [
      "loss: -0.85959 | bce: 0.03955 | dice: 0.87317 | 0 cls: 0.11272 | 1 cls: 0.16560 | 2 cls: 0.28837\n"
     ]
    },
    {
     "name": "stderr",
     "output_type": "stream",
     "text": [
      "Epoch 310, lr 0.00017279999999999997: 100% 21/21 [00:10<00:00,  1.94it/s, 0 cls=0.16019, 1 cls=0.23481, 2 cls=0.33060, bce=0.06926, dice=0.85534, loss=-0.81068]\n"
     ]
    },
    {
     "name": "stdout",
     "output_type": "stream",
     "text": [
      "loss: -0.85876 | bce: 0.03819 | dice: 0.87077 | 0 cls: 0.11432 | 1 cls: 0.16493 | 2 cls: 0.29068\n"
     ]
    },
    {
     "name": "stderr",
     "output_type": "stream",
     "text": [
      "Epoch 311, lr 0.00017279999999999997: 100% 21/21 [00:10<00:00,  1.92it/s, 0 cls=0.15826, 1 cls=0.23512, 2 cls=0.32953, bce=0.06981, dice=0.85673, loss=-0.81168]\n"
     ]
    },
    {
     "name": "stdout",
     "output_type": "stream",
     "text": [
      "loss: -0.85880 | bce: 0.03892 | dice: 0.87153 | 0 cls: 0.11360 | 1 cls: 0.16624 | 2 cls: 0.29039\n"
     ]
    },
    {
     "name": "stderr",
     "output_type": "stream",
     "text": [
      "Epoch 312, lr 0.00017279999999999997: 100% 21/21 [00:11<00:00,  1.89it/s, 0 cls=0.15770, 1 cls=0.23671, 2 cls=0.33147, bce=0.07002, dice=0.85646, loss=-0.81147]\n"
     ]
    },
    {
     "name": "stdout",
     "output_type": "stream",
     "text": [
      "loss: -0.85872 | bce: 0.03826 | dice: 0.87101 | 0 cls: 0.11366 | 1 cls: 0.16639 | 2 cls: 0.29082\n"
     ]
    },
    {
     "name": "stderr",
     "output_type": "stream",
     "text": [
      "Epoch 313, lr 0.00017279999999999997: 100% 21/21 [00:11<00:00,  1.91it/s, 0 cls=0.15911, 1 cls=0.23774, 2 cls=0.33378, bce=0.07001, dice=0.85508, loss=-0.81024]\n"
     ]
    },
    {
     "name": "stdout",
     "output_type": "stream",
     "text": [
      "loss: -0.85866 | bce: 0.03778 | dice: 0.87016 | 0 cls: 0.11408 | 1 cls: 0.16594 | 2 cls: 0.29266\n"
     ]
    },
    {
     "name": "stderr",
     "output_type": "stream",
     "text": [
      "Epoch 314, lr 0.00017279999999999997: 100% 21/21 [00:10<00:00,  1.94it/s, 0 cls=0.15637, 1 cls=0.23252, 2 cls=0.32866, bce=0.06909, dice=0.85749, loss=-0.81351]\n"
     ]
    },
    {
     "name": "stdout",
     "output_type": "stream",
     "text": [
      "loss: -0.85906 | bce: 0.03849 | dice: 0.87148 | 0 cls: 0.11314 | 1 cls: 0.16636 | 2 cls: 0.29037\n"
     ]
    },
    {
     "name": "stderr",
     "output_type": "stream",
     "text": [
      "Epoch 315, lr 0.00017279999999999997: 100% 21/21 [00:11<00:00,  1.83it/s, 0 cls=0.16471, 1 cls=0.24114, 2 cls=0.33950, bce=0.07129, dice=0.85207, loss=-0.80578]\n"
     ]
    },
    {
     "name": "stdout",
     "output_type": "stream",
     "text": [
      "loss: -0.85743 | bce: 0.03819 | dice: 0.86886 | 0 cls: 0.11475 | 1 cls: 0.16862 | 2 cls: 0.29560\n"
     ]
    },
    {
     "name": "stderr",
     "output_type": "stream",
     "text": [
      "Epoch 316, lr 0.00017279999999999997: 100% 21/21 [00:11<00:00,  1.87it/s, 0 cls=0.16171, 1 cls=0.24103, 2 cls=0.33698, bce=0.07007, dice=0.85282, loss=-0.80789]\n"
     ]
    },
    {
     "name": "stdout",
     "output_type": "stream",
     "text": [
      "loss: -0.85862 | bce: 0.03793 | dice: 0.87014 | 0 cls: 0.11419 | 1 cls: 0.16592 | 2 cls: 0.29196\n"
     ]
    },
    {
     "name": "stderr",
     "output_type": "stream",
     "text": [
      "Epoch 317, lr 0.00017279999999999997: 100% 21/21 [00:10<00:00,  1.94it/s, 0 cls=0.15960, 1 cls=0.23712, 2 cls=0.33322, bce=0.06970, dice=0.85478, loss=-0.81018]\n"
     ]
    },
    {
     "name": "stdout",
     "output_type": "stream",
     "text": [
      "loss: -0.85987 | bce: 0.03959 | dice: 0.87341 | 0 cls: 0.11245 | 1 cls: 0.16504 | 2 cls: 0.28851\n"
     ]
    },
    {
     "name": "stderr",
     "output_type": "stream",
     "text": [
      "Epoch 318, lr 0.00017279999999999997: 100% 21/21 [00:11<00:00,  1.89it/s, 0 cls=0.16025, 1 cls=0.23651, 2 cls=0.33373, bce=0.07061, dice=0.85535, loss=-0.80987]\n"
     ]
    },
    {
     "name": "stdout",
     "output_type": "stream",
     "text": [
      "loss: -0.85866 | bce: 0.03720 | dice: 0.86972 | 0 cls: 0.11428 | 1 cls: 0.16579 | 2 cls: 0.29239\n"
     ]
    },
    {
     "name": "stderr",
     "output_type": "stream",
     "text": [
      "Epoch 319, lr 0.00017279999999999997: 100% 21/21 [00:10<00:00,  1.94it/s, 0 cls=0.15937, 1 cls=0.23784, 2 cls=0.33383, bce=0.06915, dice=0.85426, loss=-0.81019]\n"
     ]
    },
    {
     "name": "stdout",
     "output_type": "stream",
     "text": [
      "loss: -0.86017 | bce: 0.03864 | dice: 0.87297 | 0 cls: 0.11271 | 1 cls: 0.16364 | 2 cls: 0.28839\n"
     ]
    },
    {
     "name": "stderr",
     "output_type": "stream",
     "text": [
      "Epoch 320, lr 0.00017279999999999997: 100% 21/21 [00:10<00:00,  1.94it/s, 0 cls=0.16004, 1 cls=0.23560, 2 cls=0.33280, bce=0.07039, dice=0.85570, loss=-0.81031]\n"
     ]
    },
    {
     "name": "stdout",
     "output_type": "stream",
     "text": [
      "loss: -0.85793 | bce: 0.03833 | dice: 0.87000 | 0 cls: 0.11456 | 1 cls: 0.16705 | 2 cls: 0.29330\n"
     ]
    },
    {
     "name": "stderr",
     "output_type": "stream",
     "text": [
      "Epoch 321, lr 0.00017279999999999997: 100% 21/21 [00:10<00:00,  1.92it/s, 0 cls=0.16270, 1 cls=0.23882, 2 cls=0.33712, bce=0.07092, dice=0.85336, loss=-0.80765]\n"
     ]
    },
    {
     "name": "stdout",
     "output_type": "stream",
     "text": [
      "loss: -0.85777 | bce: 0.03696 | dice: 0.86823 | 0 cls: 0.11501 | 1 cls: 0.16690 | 2 cls: 0.29564\n"
     ]
    },
    {
     "name": "stderr",
     "output_type": "stream",
     "text": [
      "Epoch 322, lr 0.00017279999999999997: 100% 21/21 [00:11<00:00,  1.86it/s, 0 cls=0.15739, 1 cls=0.23299, 2 cls=0.32964, bce=0.06895, dice=0.85658, loss=-0.81273]\n"
     ]
    },
    {
     "name": "stdout",
     "output_type": "stream",
     "text": [
      "loss: -0.85885 | bce: 0.03773 | dice: 0.87041 | 0 cls: 0.11375 | 1 cls: 0.16596 | 2 cls: 0.29223\n"
     ]
    },
    {
     "name": "stderr",
     "output_type": "stream",
     "text": [
      "Epoch 323, lr 0.00017279999999999997: 100% 21/21 [00:10<00:00,  1.94it/s, 0 cls=0.16311, 1 cls=0.23884, 2 cls=0.33641, bce=0.07010, dice=0.85263, loss=-0.80753]\n"
     ]
    },
    {
     "name": "stdout",
     "output_type": "stream",
     "text": [
      "loss: -0.85895 | bce: 0.03764 | dice: 0.87034 | 0 cls: 0.11370 | 1 cls: 0.16585 | 2 cls: 0.29227\n"
     ]
    },
    {
     "name": "stderr",
     "output_type": "stream",
     "text": [
      "Epoch 324, lr 0.00017279999999999997: 100% 21/21 [00:10<00:00,  1.93it/s, 0 cls=0.16162, 1 cls=0.23550, 2 cls=0.33389, bce=0.06994, dice=0.85444, loss=-0.80950]\n"
     ]
    },
    {
     "name": "stdout",
     "output_type": "stream",
     "text": [
      "loss: -0.85962 | bce: 0.03730 | dice: 0.87116 | 0 cls: 0.11335 | 1 cls: 0.16460 | 2 cls: 0.29014\n"
     ]
    },
    {
     "name": "stderr",
     "output_type": "stream",
     "text": [
      "Epoch 325, lr 0.00017279999999999997: 100% 21/21 [00:11<00:00,  1.84it/s, 0 cls=0.15845, 1 cls=0.23973, 2 cls=0.33213, bce=0.06982, dice=0.85531, loss=-0.81026]\n"
     ]
    },
    {
     "name": "stdout",
     "output_type": "stream",
     "text": [
      "loss: -0.85977 | bce: 0.03908 | dice: 0.87287 | 0 cls: 0.11282 | 1 cls: 0.16491 | 2 cls: 0.28877\n"
     ]
    },
    {
     "name": "stderr",
     "output_type": "stream",
     "text": [
      "Epoch 326, lr 0.00017279999999999997: 100% 21/21 [00:10<00:00,  1.91it/s, 0 cls=0.16218, 1 cls=0.24002, 2 cls=0.33581, bce=0.07083, dice=0.85364, loss=-0.80773]\n"
     ]
    },
    {
     "name": "stdout",
     "output_type": "stream",
     "text": [
      "loss: -0.85973 | bce: 0.03864 | dice: 0.87222 | 0 cls: 0.11301 | 1 cls: 0.16459 | 2 cls: 0.28988\n"
     ]
    },
    {
     "name": "stderr",
     "output_type": "stream",
     "text": [
      "Epoch 327, lr 0.00017279999999999997: 100% 21/21 [00:10<00:00,  1.93it/s, 0 cls=0.15949, 1 cls=0.23335, 2 cls=0.33133, bce=0.06984, dice=0.85616, loss=-0.81128]\n"
     ]
    },
    {
     "name": "stdout",
     "output_type": "stream",
     "text": [
      "loss: -0.86006 | bce: 0.03795 | dice: 0.87190 | 0 cls: 0.11297 | 1 cls: 0.16422 | 2 cls: 0.28934\n"
     ]
    },
    {
     "name": "stderr",
     "output_type": "stream",
     "text": [
      "Epoch 328, lr 0.00017279999999999997: 100% 21/21 [00:10<00:00,  1.96it/s, 0 cls=0.15645, 1 cls=0.23257, 2 cls=0.32959, bce=0.06908, dice=0.85721, loss=-0.81339]\n"
     ]
    },
    {
     "name": "stdout",
     "output_type": "stream",
     "text": [
      "loss: -0.85976 | bce: 0.03850 | dice: 0.87202 | 0 cls: 0.11293 | 1 cls: 0.16478 | 2 cls: 0.29013\n"
     ]
    },
    {
     "name": "stderr",
     "output_type": "stream",
     "text": [
      "Epoch 329, lr 0.00017279999999999997: 100% 21/21 [00:10<00:00,  1.92it/s, 0 cls=0.15565, 1 cls=0.23179, 2 cls=0.32727, bce=0.06879, dice=0.85800, loss=-0.81419]\n"
     ]
    },
    {
     "name": "stdout",
     "output_type": "stream",
     "text": [
      "loss: -0.85809 | bce: 0.03820 | dice: 0.86990 | 0 cls: 0.11397 | 1 cls: 0.16796 | 2 cls: 0.29272\n"
     ]
    },
    {
     "name": "stderr",
     "output_type": "stream",
     "text": [
      "Epoch 330, lr 0.00017279999999999997: 100% 21/21 [00:11<00:00,  1.88it/s, 0 cls=0.16066, 1 cls=0.23800, 2 cls=0.33467, bce=0.06981, dice=0.85387, loss=-0.80924]\n"
     ]
    },
    {
     "name": "stdout",
     "output_type": "stream",
     "text": [
      "loss: -0.85884 | bce: 0.03744 | dice: 0.87016 | 0 cls: 0.11427 | 1 cls: 0.16518 | 2 cls: 0.29157\n"
     ]
    },
    {
     "name": "stderr",
     "output_type": "stream",
     "text": [
      "Epoch 331, lr 0.00017279999999999997: 100% 21/21 [00:10<00:00,  1.94it/s, 0 cls=0.15439, 1 cls=0.22982, 2 cls=0.32340, bce=0.06748, dice=0.85881, loss=-0.81588]\n"
     ]
    },
    {
     "name": "stdout",
     "output_type": "stream",
     "text": [
      "loss: -0.85838 | bce: 0.03920 | dice: 0.87138 | 0 cls: 0.11374 | 1 cls: 0.16729 | 2 cls: 0.29225\n"
     ]
    },
    {
     "name": "stderr",
     "output_type": "stream",
     "text": [
      "Epoch 332, lr 0.00017279999999999997: 100% 21/21 [00:10<00:00,  1.93it/s, 0 cls=0.15534, 1 cls=0.22941, 2 cls=0.32535, bce=0.06764, dice=0.85821, loss=-0.81529]\n"
     ]
    },
    {
     "name": "stdout",
     "output_type": "stream",
     "text": [
      "loss: -0.85820 | bce: 0.03849 | dice: 0.87042 | 0 cls: 0.11452 | 1 cls: 0.16629 | 2 cls: 0.29289\n"
     ]
    },
    {
     "name": "stderr",
     "output_type": "stream",
     "text": [
      "Epoch 333, lr 0.00017279999999999997: 100% 21/21 [00:11<00:00,  1.89it/s, 0 cls=0.15286, 1 cls=0.22664, 2 cls=0.32269, bce=0.06752, dice=0.86016, loss=-0.81757]\n"
     ]
    },
    {
     "name": "stdout",
     "output_type": "stream",
     "text": [
      "loss: -0.85841 | bce: 0.03852 | dice: 0.87080 | 0 cls: 0.11356 | 1 cls: 0.16749 | 2 cls: 0.29216\n"
     ]
    },
    {
     "name": "stderr",
     "output_type": "stream",
     "text": [
      "Epoch 334, lr 0.00017279999999999997: 100% 21/21 [00:10<00:00,  1.94it/s, 0 cls=0.15637, 1 cls=0.23179, 2 cls=0.32913, bce=0.06909, dice=0.85767, loss=-0.81371]\n"
     ]
    },
    {
     "name": "stdout",
     "output_type": "stream",
     "text": [
      "loss: -0.85872 | bce: 0.03718 | dice: 0.86991 | 0 cls: 0.11450 | 1 cls: 0.16496 | 2 cls: 0.29143\n"
     ]
    },
    {
     "name": "stderr",
     "output_type": "stream",
     "text": [
      "Epoch 335, lr 0.00017279999999999997: 100% 21/21 [00:10<00:00,  1.92it/s, 0 cls=0.15973, 1 cls=0.23856, 2 cls=0.33443, bce=0.07027, dice=0.85456, loss=-0.80958]\n"
     ]
    },
    {
     "name": "stdout",
     "output_type": "stream",
     "text": [
      "loss: -0.85894 | bce: 0.03833 | dice: 0.87117 | 0 cls: 0.11347 | 1 cls: 0.16615 | 2 cls: 0.29099\n"
     ]
    },
    {
     "name": "stderr",
     "output_type": "stream",
     "text": [
      "Epoch 336, lr 0.00017279999999999997: 100% 21/21 [00:10<00:00,  1.92it/s, 0 cls=0.15810, 1 cls=0.23492, 2 cls=0.33026, bce=0.06877, dice=0.85597, loss=-0.81196]\n"
     ]
    },
    {
     "name": "stdout",
     "output_type": "stream",
     "text": [
      "loss: -0.85820 | bce: 0.03824 | dice: 0.87010 | 0 cls: 0.11452 | 1 cls: 0.16646 | 2 cls: 0.29349\n"
     ]
    },
    {
     "name": "stderr",
     "output_type": "stream",
     "text": [
      "Epoch 337, lr 0.00017279999999999997: 100% 21/21 [00:11<00:00,  1.91it/s, 0 cls=0.16340, 1 cls=0.24073, 2 cls=0.33730, bce=0.07147, dice=0.85313, loss=-0.80669]\n"
     ]
    },
    {
     "name": "stdout",
     "output_type": "stream",
     "text": [
      "loss: -0.85751 | bce: 0.03861 | dice: 0.86943 | 0 cls: 0.11419 | 1 cls: 0.16928 | 2 cls: 0.29429\n"
     ]
    },
    {
     "name": "stderr",
     "output_type": "stream",
     "text": [
      "Epoch 338, lr 0.00017279999999999997: 100% 21/21 [00:10<00:00,  1.93it/s, 0 cls=0.16465, 1 cls=0.23918, 2 cls=0.33895, bce=0.07219, dice=0.85309, loss=-0.80621]\n"
     ]
    },
    {
     "name": "stdout",
     "output_type": "stream",
     "text": [
      "loss: -0.85955 | bce: 0.03837 | dice: 0.87203 | 0 cls: 0.11308 | 1 cls: 0.16520 | 2 cls: 0.28909\n"
     ]
    },
    {
     "name": "stderr",
     "output_type": "stream",
     "text": [
      "Epoch 339, lr 0.00017279999999999997: 100% 21/21 [00:11<00:00,  1.88it/s, 0 cls=0.16105, 1 cls=0.23788, 2 cls=0.33452, bce=0.07088, dice=0.85490, loss=-0.80897]\n"
     ]
    },
    {
     "name": "stdout",
     "output_type": "stream",
     "text": [
      "loss: -0.85885 | bce: 0.03798 | dice: 0.87074 | 0 cls: 0.11413 | 1 cls: 0.16506 | 2 cls: 0.29122\n"
     ]
    },
    {
     "name": "stderr",
     "output_type": "stream",
     "text": [
      "Epoch 340, lr 0.00017279999999999997: 100% 21/21 [00:11<00:00,  1.90it/s, 0 cls=0.15816, 1 cls=0.23402, 2 cls=0.32911, bce=0.06897, dice=0.85632, loss=-0.81215]\n"
     ]
    },
    {
     "name": "stdout",
     "output_type": "stream",
     "text": [
      "loss: -0.85751 | bce: 0.03871 | dice: 0.87009 | 0 cls: 0.11518 | 1 cls: 0.16711 | 2 cls: 0.29258\n"
     ]
    },
    {
     "name": "stderr",
     "output_type": "stream",
     "text": [
      "Epoch 341, lr 0.00017279999999999997: 100% 21/21 [00:10<00:00,  1.96it/s, 0 cls=0.15455, 1 cls=0.22975, 2 cls=0.32435, bce=0.06796, dice=0.85904, loss=-0.81574]\n"
     ]
    },
    {
     "name": "stdout",
     "output_type": "stream",
     "text": [
      "loss: -0.85813 | bce: 0.03831 | dice: 0.87033 | 0 cls: 0.11431 | 1 cls: 0.16695 | 2 cls: 0.29303\n"
     ]
    },
    {
     "name": "stderr",
     "output_type": "stream",
     "text": [
      "Epoch 342, lr 0.00017279999999999997: 100% 21/21 [00:10<00:00,  1.94it/s, 0 cls=0.15851, 1 cls=0.23692, 2 cls=0.33112, bce=0.06956, dice=0.85577, loss=-0.81106]\n"
     ]
    },
    {
     "name": "stdout",
     "output_type": "stream",
     "text": [
      "loss: -0.85755 | bce: 0.03775 | dice: 0.86902 | 0 cls: 0.11546 | 1 cls: 0.16642 | 2 cls: 0.29461\n"
     ]
    },
    {
     "name": "stderr",
     "output_type": "stream",
     "text": [
      "Epoch 343, lr 0.00017279999999999997: 100% 21/21 [00:11<00:00,  1.90it/s, 0 cls=0.15603, 1 cls=0.23359, 2 cls=0.33008, bce=0.06850, dice=0.85667, loss=-0.81341]\n"
     ]
    },
    {
     "name": "stdout",
     "output_type": "stream",
     "text": [
      "loss: -0.85820 | bce: 0.03769 | dice: 0.86979 | 0 cls: 0.11449 | 1 cls: 0.16625 | 2 cls: 0.29393\n"
     ]
    },
    {
     "name": "stderr",
     "output_type": "stream",
     "text": [
      "Epoch 344, lr 0.00017279999999999997: 100% 21/21 [00:11<00:00,  1.85it/s, 0 cls=0.15735, 1 cls=0.23307, 2 cls=0.32865, bce=0.06896, dice=0.85696, loss=-0.81288]\n"
     ]
    },
    {
     "name": "stdout",
     "output_type": "stream",
     "text": [
      "loss: -0.85761 | bce: 0.03859 | dice: 0.87008 | 0 cls: 0.11509 | 1 cls: 0.16703 | 2 cls: 0.29329\n"
     ]
    },
    {
     "name": "stderr",
     "output_type": "stream",
     "text": [
      "Epoch 345, lr 0.00017279999999999997: 100% 21/21 [00:11<00:00,  1.91it/s, 0 cls=0.15602, 1 cls=0.23200, 2 cls=0.32831, bce=0.06823, dice=0.85727, loss=-0.81402]\n"
     ]
    },
    {
     "name": "stdout",
     "output_type": "stream",
     "text": [
      "loss: -0.85685 | bce: 0.03784 | dice: 0.86842 | 0 cls: 0.11596 | 1 cls: 0.16740 | 2 cls: 0.29497\n"
     ]
    },
    {
     "name": "stderr",
     "output_type": "stream",
     "text": [
      "Epoch 346, lr 0.00017279999999999997: 100% 21/21 [00:11<00:00,  1.83it/s, 0 cls=0.15873, 1 cls=0.23745, 2 cls=0.33322, bce=0.07053, dice=0.85573, loss=-0.81049]\n"
     ]
    },
    {
     "name": "stdout",
     "output_type": "stream",
     "text": [
      "loss: -0.85477 | bce: 0.03790 | dice: 0.86587 | 0 cls: 0.11752 | 1 cls: 0.17132 | 2 cls: 0.30027\n"
     ]
    },
    {
     "name": "stderr",
     "output_type": "stream",
     "text": [
      "Epoch 347, lr 0.00017279999999999997: 100% 21/21 [00:10<00:00,  1.91it/s, 0 cls=0.15408, 1 cls=0.23226, 2 cls=0.32656, bce=0.06810, dice=0.85818, loss=-0.81510]\n"
     ]
    },
    {
     "name": "stdout",
     "output_type": "stream",
     "text": [
      "loss: -0.85825 | bce: 0.03867 | dice: 0.87077 | 0 cls: 0.11426 | 1 cls: 0.16632 | 2 cls: 0.29321\n"
     ]
    },
    {
     "name": "stderr",
     "output_type": "stream",
     "text": [
      "Epoch 348, lr 0.00017279999999999997: 100% 21/21 [00:11<00:00,  1.88it/s, 0 cls=0.15405, 1 cls=0.22957, 2 cls=0.32552, bce=0.06825, dice=0.85915, loss=-0.81584]\n"
     ]
    },
    {
     "name": "stdout",
     "output_type": "stream",
     "text": [
      "loss: -0.85780 | bce: 0.03840 | dice: 0.86982 | 0 cls: 0.11485 | 1 cls: 0.16684 | 2 cls: 0.29379\n"
     ]
    },
    {
     "name": "stderr",
     "output_type": "stream",
     "text": [
      "Epoch 349, lr 0.00017279999999999997: 100% 21/21 [00:11<00:00,  1.91it/s, 0 cls=0.15914, 1 cls=0.23535, 2 cls=0.33085, bce=0.06949, dice=0.85570, loss=-0.81115]\n"
     ]
    },
    {
     "name": "stdout",
     "output_type": "stream",
     "text": [
      "loss: -0.85765 | bce: 0.04000 | dice: 0.87142 | 0 cls: 0.11403 | 1 cls: 0.16861 | 2 cls: 0.29290\n"
     ]
    },
    {
     "name": "stderr",
     "output_type": "stream",
     "text": [
      "Epoch 350, lr 0.00017279999999999997: 100% 21/21 [00:10<00:00,  1.92it/s, 0 cls=0.15496, 1 cls=0.23049, 2 cls=0.32492, bce=0.06851, dice=0.85909, loss=-0.81517]\n"
     ]
    },
    {
     "name": "stdout",
     "output_type": "stream",
     "text": [
      "loss: -0.85810 | bce: 0.03802 | dice: 0.87000 | 0 cls: 0.11462 | 1 cls: 0.16650 | 2 cls: 0.29327\n"
     ]
    },
    {
     "name": "stderr",
     "output_type": "stream",
     "text": [
      "Epoch 351, lr 0.00017279999999999997: 100% 21/21 [00:10<00:00,  1.94it/s, 0 cls=0.15829, 1 cls=0.23443, 2 cls=0.33060, bce=0.06967, dice=0.85641, loss=-0.81177]\n"
     ]
    },
    {
     "name": "stdout",
     "output_type": "stream",
     "text": [
      "loss: -0.85803 | bce: 0.03831 | dice: 0.86998 | 0 cls: 0.11463 | 1 cls: 0.16686 | 2 cls: 0.29343\n"
     ]
    },
    {
     "name": "stderr",
     "output_type": "stream",
     "text": [
      "Epoch 352, lr 0.00017279999999999997: 100% 21/21 [00:10<00:00,  1.91it/s, 0 cls=0.15429, 1 cls=0.22946, 2 cls=0.32467, bce=0.06813, dice=0.85912, loss=-0.81581]\n"
     ]
    },
    {
     "name": "stdout",
     "output_type": "stream",
     "text": [
      "loss: -0.85807 | bce: 0.03843 | dice: 0.87014 | 0 cls: 0.11478 | 1 cls: 0.16620 | 2 cls: 0.29364\n"
     ]
    },
    {
     "name": "stderr",
     "output_type": "stream",
     "text": [
      "Epoch 353, lr 0.00017279999999999997: 100% 21/21 [00:11<00:00,  1.89it/s, 0 cls=0.15526, 1 cls=0.23098, 2 cls=0.32496, bce=0.06758, dice=0.85795, loss=-0.81494]\n"
     ]
    },
    {
     "name": "stdout",
     "output_type": "stream",
     "text": [
      "loss: -0.85669 | bce: 0.03799 | dice: 0.86794 | 0 cls: 0.11511 | 1 cls: 0.17004 | 2 cls: 0.29591\n"
     ]
    },
    {
     "name": "stderr",
     "output_type": "stream",
     "text": [
      "Epoch 354, lr 0.00017279999999999997: 100% 21/21 [00:11<00:00,  1.90it/s, 0 cls=0.15559, 1 cls=0.23174, 2 cls=0.32477, bce=0.06811, dice=0.85830, loss=-0.81464]\n"
     ]
    },
    {
     "name": "stdout",
     "output_type": "stream",
     "text": [
      "loss: -0.85732 | bce: 0.03810 | dice: 0.86950 | 0 cls: 0.11570 | 1 cls: 0.16640 | 2 cls: 0.29318\n"
     ]
    },
    {
     "name": "stderr",
     "output_type": "stream",
     "text": [
      "Epoch 355, lr 0.00017279999999999997: 100% 21/21 [00:10<00:00,  1.95it/s, 0 cls=0.15503, 1 cls=0.23064, 2 cls=0.32620, bce=0.06817, dice=0.85826, loss=-0.81507]\n"
     ]
    },
    {
     "name": "stdout",
     "output_type": "stream",
     "text": [
      "loss: -0.85846 | bce: 0.03892 | dice: 0.87143 | 0 cls: 0.11441 | 1 cls: 0.16553 | 2 cls: 0.29090\n"
     ]
    },
    {
     "name": "stderr",
     "output_type": "stream",
     "text": [
      "Epoch 356, lr 0.00017279999999999997: 100% 21/21 [00:11<00:00,  1.88it/s, 0 cls=0.16081, 1 cls=0.23706, 2 cls=0.33175, bce=0.06974, dice=0.85481, loss=-0.80966]\n"
     ]
    },
    {
     "name": "stdout",
     "output_type": "stream",
     "text": [
      "loss: -0.85714 | bce: 0.03834 | dice: 0.86955 | 0 cls: 0.11573 | 1 cls: 0.16705 | 2 cls: 0.29275\n"
     ]
    },
    {
     "name": "stderr",
     "output_type": "stream",
     "text": [
      "Epoch 357, lr 0.00017279999999999997: 100% 21/21 [00:10<00:00,  1.94it/s, 0 cls=0.16211, 1 cls=0.23998, 2 cls=0.33488, bce=0.07060, dice=0.85355, loss=-0.80785]\n"
     ]
    },
    {
     "name": "stdout",
     "output_type": "stream",
     "text": [
      "loss: -0.85709 | bce: 0.03802 | dice: 0.86865 | 0 cls: 0.11566 | 1 cls: 0.16757 | 2 cls: 0.29536\n"
     ]
    },
    {
     "name": "stderr",
     "output_type": "stream",
     "text": [
      "Epoch 358, lr 0.00017279999999999997: 100% 21/21 [00:11<00:00,  1.91it/s, 0 cls=0.15718, 1 cls=0.23248, 2 cls=0.32789, bce=0.06861, dice=0.85698, loss=-0.81319]\n"
     ]
    },
    {
     "name": "stdout",
     "output_type": "stream",
     "text": [
      "loss: -0.85730 | bce: 0.03757 | dice: 0.86834 | 0 cls: 0.11565 | 1 cls: 0.16689 | 2 cls: 0.29600\n"
     ]
    },
    {
     "name": "stderr",
     "output_type": "stream",
     "text": [
      "Epoch 359, lr 0.00017279999999999997: 100% 21/21 [00:10<00:00,  1.97it/s, 0 cls=0.15773, 1 cls=0.23235, 2 cls=0.32904, bce=0.06856, dice=0.85647, loss=-0.81285]\n"
     ]
    },
    {
     "name": "stdout",
     "output_type": "stream",
     "text": [
      "loss: -0.85781 | bce: 0.03759 | dice: 0.86930 | 0 cls: 0.11538 | 1 cls: 0.16610 | 2 cls: 0.29291\n"
     ]
    },
    {
     "name": "stderr",
     "output_type": "stream",
     "text": [
      "Epoch 360, lr 0.00017279999999999997: 100% 21/21 [00:11<00:00,  1.83it/s, 0 cls=0.15889, 1 cls=0.23401, 2 cls=0.33102, bce=0.06944, dice=0.85611, loss=-0.81164]\n"
     ]
    },
    {
     "name": "stdout",
     "output_type": "stream",
     "text": [
      "loss: -0.85696 | bce: 0.03780 | dice: 0.86827 | 0 cls: 0.11605 | 1 cls: 0.16705 | 2 cls: 0.29592\n"
     ]
    },
    {
     "name": "stderr",
     "output_type": "stream",
     "text": [
      "Epoch 361, lr 0.00017279999999999997: 100% 21/21 [00:10<00:00,  1.94it/s, 0 cls=0.15693, 1 cls=0.23460, 2 cls=0.32898, bce=0.06881, dice=0.85667, loss=-0.81272]\n"
     ]
    },
    {
     "name": "stdout",
     "output_type": "stream",
     "text": [
      "loss: -0.85655 | bce: 0.03793 | dice: 0.86783 | 0 cls: 0.11643 | 1 cls: 0.16787 | 2 cls: 0.29666\n"
     ]
    },
    {
     "name": "stderr",
     "output_type": "stream",
     "text": [
      "Epoch 362, lr 0.00017279999999999997: 100% 21/21 [00:10<00:00,  1.92it/s, 0 cls=0.16019, 1 cls=0.23401, 2 cls=0.33014, bce=0.06994, dice=0.85606, loss=-0.81085]\n"
     ]
    },
    {
     "name": "stdout",
     "output_type": "stream",
     "text": [
      "loss: -0.85550 | bce: 0.03680 | dice: 0.86566 | 0 cls: 0.11809 | 1 cls: 0.16828 | 2 cls: 0.29907\n"
     ]
    },
    {
     "name": "stderr",
     "output_type": "stream",
     "text": [
      "Epoch 363, lr 0.00017279999999999997: 100% 21/21 [00:10<00:00,  1.91it/s, 0 cls=0.15304, 1 cls=0.22812, 2 cls=0.32146, bce=0.06693, dice=0.85963, loss=-0.81723]\n"
     ]
    },
    {
     "name": "stdout",
     "output_type": "stream",
     "text": [
      "loss: -0.85831 | bce: 0.03806 | dice: 0.87012 | 0 cls: 0.11455 | 1 cls: 0.16588 | 2 cls: 0.29317\n"
     ]
    },
    {
     "name": "stderr",
     "output_type": "stream",
     "text": [
      "Epoch 364, lr 0.00017279999999999997: 100% 21/21 [00:10<00:00,  1.92it/s, 0 cls=0.15270, 1 cls=0.22924, 2 cls=0.32380, bce=0.06790, dice=0.86002, loss=-0.81692]\n"
     ]
    },
    {
     "name": "stdout",
     "output_type": "stream",
     "text": [
      "loss: -0.85760 | bce: 0.03792 | dice: 0.86927 | 0 cls: 0.11530 | 1 cls: 0.16665 | 2 cls: 0.29367\n"
     ]
    },
    {
     "name": "stderr",
     "output_type": "stream",
     "text": [
      "Epoch 365, lr 0.00017279999999999997: 100% 21/21 [00:10<00:00,  1.92it/s, 0 cls=0.15503, 1 cls=0.22945, 2 cls=0.32541, bce=0.06831, dice=0.85872, loss=-0.81535]\n"
     ]
    },
    {
     "name": "stdout",
     "output_type": "stream",
     "text": [
      "loss: -0.85709 | bce: 0.03872 | dice: 0.86942 | 0 cls: 0.11510 | 1 cls: 0.16816 | 2 cls: 0.29440\n"
     ]
    },
    {
     "name": "stderr",
     "output_type": "stream",
     "text": [
      "Epoch 366, lr 0.00017279999999999997: 100% 21/21 [00:11<00:00,  1.91it/s, 0 cls=0.15415, 1 cls=0.22880, 2 cls=0.32476, bce=0.06819, dice=0.85931, loss=-0.81611]\n"
     ]
    },
    {
     "name": "stdout",
     "output_type": "stream",
     "text": [
      "loss: -0.85850 | bce: 0.03824 | dice: 0.87089 | 0 cls: 0.11485 | 1 cls: 0.16423 | 2 cls: 0.29240\n"
     ]
    },
    {
     "name": "stderr",
     "output_type": "stream",
     "text": [
      "Epoch 367, lr 0.00017279999999999997: 100% 21/21 [00:11<00:00,  1.91it/s, 0 cls=0.15502, 1 cls=0.22944, 2 cls=0.32728, bce=0.06816, dice=0.85821, loss=-0.81525]\n"
     ]
    },
    {
     "name": "stdout",
     "output_type": "stream",
     "text": [
      "loss: -0.85792 | bce: 0.03762 | dice: 0.86930 | 0 cls: 0.11548 | 1 cls: 0.16514 | 2 cls: 0.29450\n"
     ]
    },
    {
     "name": "stderr",
     "output_type": "stream",
     "text": [
      "Epoch 368, lr 0.00017279999999999997: 100% 21/21 [00:10<00:00,  1.92it/s, 0 cls=0.15343, 1 cls=0.22805, 2 cls=0.32464, bce=0.06813, dice=0.85974, loss=-0.81669]\n"
     ]
    },
    {
     "name": "stdout",
     "output_type": "stream",
     "text": [
      "loss: -0.85823 | bce: 0.03798 | dice: 0.87013 | 0 cls: 0.11491 | 1 cls: 0.16548 | 2 cls: 0.29179\n"
     ]
    },
    {
     "name": "stderr",
     "output_type": "stream",
     "text": [
      "Epoch 369, lr 0.00017279999999999997: 100% 21/21 [00:10<00:00,  1.92it/s, 0 cls=0.15720, 1 cls=0.22982, 2 cls=0.32743, bce=0.06833, dice=0.85741, loss=-0.81391]\n"
     ]
    },
    {
     "name": "stdout",
     "output_type": "stream",
     "text": [
      "loss: -0.85611 | bce: 0.03886 | dice: 0.86840 | 0 cls: 0.11574 | 1 cls: 0.17028 | 2 cls: 0.29561\n"
     ]
    },
    {
     "name": "stderr",
     "output_type": "stream",
     "text": [
      "Epoch 370, lr 0.00017279999999999997: 100% 21/21 [00:11<00:00,  1.91it/s, 0 cls=0.16055, 1 cls=0.23668, 2 cls=0.33203, bce=0.07042, dice=0.85562, loss=-0.80990]\n"
     ]
    },
    {
     "name": "stdout",
     "output_type": "stream",
     "text": [
      "loss: -0.85698 | bce: 0.03840 | dice: 0.86909 | 0 cls: 0.11611 | 1 cls: 0.16665 | 2 cls: 0.29482\n"
     ]
    },
    {
     "name": "stderr",
     "output_type": "stream",
     "text": [
      "Epoch 371, lr 0.00017279999999999997: 100% 21/21 [00:10<00:00,  1.91it/s, 0 cls=0.15265, 1 cls=0.22883, 2 cls=0.32355, bce=0.06821, dice=0.86026, loss=-0.81697]\n"
     ]
    },
    {
     "name": "stdout",
     "output_type": "stream",
     "text": [
      "loss: -0.85674 | bce: 0.03816 | dice: 0.86858 | 0 cls: 0.11596 | 1 cls: 0.16783 | 2 cls: 0.29570\n"
     ]
    },
    {
     "name": "stderr",
     "output_type": "stream",
     "text": [
      "Epoch 372, lr 0.00017279999999999997: 100% 21/21 [00:10<00:00,  1.98it/s, 0 cls=0.15474, 1 cls=0.23000, 2 cls=0.32532, bce=0.06749, dice=0.85815, loss=-0.81550]\n"
     ]
    },
    {
     "name": "stdout",
     "output_type": "stream",
     "text": [
      "loss: -0.85740 | bce: 0.03848 | dice: 0.86938 | 0 cls: 0.11569 | 1 cls: 0.16601 | 2 cls: 0.29562\n"
     ]
    },
    {
     "name": "stderr",
     "output_type": "stream",
     "text": [
      "Epoch 373, lr 0.00017279999999999997: 100% 21/21 [00:10<00:00,  1.91it/s, 0 cls=0.16025, 1 cls=0.23507, 2 cls=0.33207, bce=0.06959, dice=0.85509, loss=-0.81043]\n"
     ]
    },
    {
     "name": "stdout",
     "output_type": "stream",
     "text": [
      "loss: -0.85783 | bce: 0.03825 | dice: 0.86971 | 0 cls: 0.11511 | 1 cls: 0.16617 | 2 cls: 0.29479\n"
     ]
    },
    {
     "name": "stderr",
     "output_type": "stream",
     "text": [
      "Epoch 374, lr 0.00017279999999999997: 100% 21/21 [00:10<00:00,  1.92it/s, 0 cls=0.15574, 1 cls=0.23257, 2 cls=0.32712, bce=0.06809, dice=0.85733, loss=-0.81406]\n"
     ]
    },
    {
     "name": "stdout",
     "output_type": "stream",
     "text": [
      "loss: -0.85792 | bce: 0.03830 | dice: 0.86970 | 0 cls: 0.11517 | 1 cls: 0.16543 | 2 cls: 0.29446\n"
     ]
    },
    {
     "name": "stderr",
     "output_type": "stream",
     "text": [
      "Epoch 375, lr 0.00017279999999999997: 100% 21/21 [00:10<00:00,  1.92it/s, 0 cls=0.15373, 1 cls=0.23020, 2 cls=0.32403, bce=0.06842, dice=0.85973, loss=-0.81600]\n"
     ]
    },
    {
     "name": "stdout",
     "output_type": "stream",
     "text": [
      "loss: -0.85731 | bce: 0.03788 | dice: 0.86892 | 0 cls: 0.11592 | 1 cls: 0.16678 | 2 cls: 0.29404\n"
     ]
    },
    {
     "name": "stderr",
     "output_type": "stream",
     "text": [
      "Epoch 376, lr 0.00017279999999999997: 100% 21/21 [00:10<00:00,  1.92it/s, 0 cls=0.15519, 1 cls=0.23100, 2 cls=0.32426, bce=0.06749, dice=0.85810, loss=-0.81507]\n"
     ]
    },
    {
     "name": "stdout",
     "output_type": "stream",
     "text": [
      "loss: -0.85735 | bce: 0.03890 | dice: 0.87015 | 0 cls: 0.11530 | 1 cls: 0.16748 | 2 cls: 0.29296\n"
     ]
    },
    {
     "name": "stderr",
     "output_type": "stream",
     "text": [
      "Epoch 377, lr 0.00017279999999999997: 100% 21/21 [00:10<00:00,  1.96it/s, 0 cls=0.14853, 1 cls=0.22350, 2 cls=0.31587, bce=0.06600, dice=0.86296, loss=-0.82145]\n"
     ]
    },
    {
     "name": "stdout",
     "output_type": "stream",
     "text": [
      "loss: -0.85866 | bce: 0.03899 | dice: 0.87145 | 0 cls: 0.11438 | 1 cls: 0.16534 | 2 cls: 0.29176\n"
     ]
    },
    {
     "name": "stderr",
     "output_type": "stream",
     "text": [
      "Epoch 378, lr 0.00017279999999999997: 100% 21/21 [00:11<00:00,  1.91it/s, 0 cls=0.16448, 1 cls=0.24192, 2 cls=0.33881, bce=0.07185, dice=0.85244, loss=-0.80568]\n"
     ]
    },
    {
     "name": "stdout",
     "output_type": "stream",
     "text": [
      "loss: -0.85573 | bce: 0.03797 | dice: 0.86677 | 0 cls: 0.11726 | 1 cls: 0.16830 | 2 cls: 0.30025\n"
     ]
    },
    {
     "name": "stderr",
     "output_type": "stream",
     "text": [
      "Epoch 379, lr 0.00017279999999999997: 100% 21/21 [00:11<00:00,  1.87it/s, 0 cls=0.16346, 1 cls=0.23753, 2 cls=0.33301, bce=0.07069, dice=0.85416, loss=-0.80792]\n"
     ]
    },
    {
     "name": "stdout",
     "output_type": "stream",
     "text": [
      "loss: -0.85629 | bce: 0.03844 | dice: 0.86819 | 0 cls: 0.11664 | 1 cls: 0.16837 | 2 cls: 0.29556\n"
     ]
    },
    {
     "name": "stderr",
     "output_type": "stream",
     "text": [
      "Epoch 380, lr 0.00017279999999999997: 100% 21/21 [00:11<00:00,  1.90it/s, 0 cls=0.15212, 1 cls=0.22837, 2 cls=0.32136, bce=0.06697, dice=0.86005, loss=-0.81770]\n"
     ]
    },
    {
     "name": "stdout",
     "output_type": "stream",
     "text": [
      "loss: -0.85739 | bce: 0.03950 | dice: 0.87030 | 0 cls: 0.11491 | 1 cls: 0.16751 | 2 cls: 0.29452\n"
     ]
    },
    {
     "name": "stderr",
     "output_type": "stream",
     "text": [
      "Epoch 381, lr 0.00017279999999999997: 100% 21/21 [00:10<00:00,  1.92it/s, 0 cls=0.15408, 1 cls=0.22766, 2 cls=0.32416, bce=0.06827, dice=0.85977, loss=-0.81641]\n"
     ]
    },
    {
     "name": "stdout",
     "output_type": "stream",
     "text": [
      "loss: -0.85825 | bce: 0.03779 | dice: 0.86987 | 0 cls: 0.11531 | 1 cls: 0.16458 | 2 cls: 0.29310\n"
     ]
    },
    {
     "name": "stderr",
     "output_type": "stream",
     "text": [
      "Epoch 382, lr 0.00017279999999999997: 100% 21/21 [00:10<00:00,  1.94it/s, 0 cls=0.15646, 1 cls=0.23205, 2 cls=0.32597, bce=0.06933, dice=0.85852, loss=-0.81379]\n"
     ]
    },
    {
     "name": "stdout",
     "output_type": "stream",
     "text": [
      "loss: -0.85653 | bce: 0.03752 | dice: 0.86771 | 0 cls: 0.11588 | 1 cls: 0.16885 | 2 cls: 0.29666\n"
     ]
    },
    {
     "name": "stderr",
     "output_type": "stream",
     "text": [
      "Epoch 383, lr 0.00017279999999999997: 100% 21/21 [00:10<00:00,  1.93it/s, 0 cls=0.15497, 1 cls=0.23007, 2 cls=0.32436, bce=0.06809, dice=0.85879, loss=-0.81531]\n"
     ]
    },
    {
     "name": "stdout",
     "output_type": "stream",
     "text": [
      "loss: -0.85703 | bce: 0.03711 | dice: 0.86774 | 0 cls: 0.11637 | 1 cls: 0.16647 | 2 cls: 0.29661\n"
     ]
    },
    {
     "name": "stderr",
     "output_type": "stream",
     "text": [
      "Epoch 384, lr 0.00017279999999999997: 100% 21/21 [00:10<00:00,  1.92it/s, 0 cls=0.15389, 1 cls=0.22984, 2 cls=0.32398, bce=0.06871, dice=0.85994, loss=-0.81597]\n"
     ]
    },
    {
     "name": "stdout",
     "output_type": "stream",
     "text": [
      "loss: -0.85712 | bce: 0.03846 | dice: 0.86913 | 0 cls: 0.11526 | 1 cls: 0.16851 | 2 cls: 0.29419\n"
     ]
    },
    {
     "name": "stderr",
     "output_type": "stream",
     "text": [
      "Epoch 385, lr 0.00017279999999999997: 100% 21/21 [00:10<00:00,  1.93it/s, 0 cls=0.15367, 1 cls=0.22909, 2 cls=0.32157, bce=0.06700, dice=0.85920, loss=-0.81665]\n"
     ]
    },
    {
     "name": "stdout",
     "output_type": "stream",
     "text": [
      "loss: -0.85801 | bce: 0.03795 | dice: 0.86988 | 0 cls: 0.11503 | 1 cls: 0.16598 | 2 cls: 0.29253\n"
     ]
    },
    {
     "name": "stderr",
     "output_type": "stream",
     "text": [
      "Epoch 386, lr 0.00017279999999999997: 100% 21/21 [00:11<00:00,  1.90it/s, 0 cls=0.15537, 1 cls=0.22989, 2 cls=0.32702, bce=0.06823, dice=0.85815, loss=-0.81497]\n"
     ]
    },
    {
     "name": "stdout",
     "output_type": "stream",
     "text": [
      "loss: -0.85629 | bce: 0.03843 | dice: 0.86790 | 0 cls: 0.11707 | 1 cls: 0.16729 | 2 cls: 0.29776\n"
     ]
    },
    {
     "name": "stderr",
     "output_type": "stream",
     "text": [
      "Epoch 387, lr 0.00017279999999999997: 100% 21/21 [00:10<00:00,  1.93it/s, 0 cls=0.15219, 1 cls=0.22771, 2 cls=0.32245, bce=0.06775, dice=0.86059, loss=-0.81776]\n"
     ]
    },
    {
     "name": "stdout",
     "output_type": "stream",
     "text": [
      "loss: -0.85598 | bce: 0.03728 | dice: 0.86682 | 0 cls: 0.11669 | 1 cls: 0.16931 | 2 cls: 0.29720\n"
     ]
    },
    {
     "name": "stderr",
     "output_type": "stream",
     "text": [
      "Epoch 388, lr 0.00017279999999999997: 100% 21/21 [00:11<00:00,  1.91it/s, 0 cls=0.15003, 1 cls=0.22357, 2 cls=0.31795, bce=0.06577, dice=0.86166, loss=-0.82046]\n"
     ]
    },
    {
     "name": "stdout",
     "output_type": "stream",
     "text": [
      "loss: -0.85845 | bce: 0.03856 | dice: 0.87079 | 0 cls: 0.11482 | 1 cls: 0.16521 | 2 cls: 0.29204\n"
     ]
    },
    {
     "name": "stderr",
     "output_type": "stream",
     "text": [
      "Epoch 389, lr 0.00017279999999999997: 100% 21/21 [00:10<00:00,  1.91it/s, 0 cls=0.15590, 1 cls=0.23222, 2 cls=0.32692, bce=0.06872, dice=0.85782, loss=-0.81403]\n"
     ]
    },
    {
     "name": "stdout",
     "output_type": "stream",
     "text": [
      "loss: -0.85712 | bce: 0.03845 | dice: 0.86918 | 0 cls: 0.11520 | 1 cls: 0.16860 | 2 cls: 0.29406\n"
     ]
    },
    {
     "name": "stderr",
     "output_type": "stream",
     "text": [
      "Epoch 390, lr 0.0014580000000000003: 100% 21/21 [00:11<00:00,  1.91it/s, 0 cls=0.17898, 1 cls=0.25569, 2 cls=0.35728, bce=0.07753, dice=0.84461, loss=-0.79228]\n"
     ]
    },
    {
     "name": "stdout",
     "output_type": "stream",
     "text": [
      "loss: -0.83892 | bce: 0.04672 | dice: 0.85811 | 0 cls: 0.13348 | 1 cls: 0.18443 | 2 cls: 0.31828\n"
     ]
    },
    {
     "name": "stderr",
     "output_type": "stream",
     "text": [
      "Epoch 391, lr 0.0014580000000000003: 100% 21/21 [00:11<00:00,  1.88it/s, 0 cls=0.19490, 1 cls=0.27690, 2 cls=0.38222, bce=0.08262, dice=0.83259, loss=-0.77591]\n"
     ]
    },
    {
     "name": "stdout",
     "output_type": "stream",
     "text": [
      "loss: -0.84728 | bce: 0.04247 | dice: 0.86374 | 0 cls: 0.12734 | 1 cls: 0.17268 | 2 cls: 0.30695\n"
     ]
    },
    {
     "name": "stderr",
     "output_type": "stream",
     "text": [
      "Epoch 392, lr 0.00043740000000000006: 100% 21/21 [00:11<00:00,  1.90it/s, 0 cls=0.18314, 1 cls=0.26673, 2 cls=0.36901, bce=0.07841, dice=0.83867, loss=-0.78625]\n"
     ]
    },
    {
     "name": "stdout",
     "output_type": "stream",
     "text": [
      "loss: -0.85328 | bce: 0.04191 | dice: 0.86869 | 0 cls: 0.11866 | 1 cls: 0.17234 | 2 cls: 0.29881\n"
     ]
    },
    {
     "name": "stderr",
     "output_type": "stream",
     "text": [
      "Epoch 393, lr 0.00043740000000000006: 100% 21/21 [00:11<00:00,  1.89it/s, 0 cls=0.16882, 1 cls=0.25043, 2 cls=0.34654, bce=0.07335, dice=0.84866, loss=-0.80042]\n"
     ]
    },
    {
     "name": "stdout",
     "output_type": "stream",
     "text": [
      "loss: -0.85407 | bce: 0.03684 | dice: 0.86465 | 0 cls: 0.11894 | 1 cls: 0.16974 | 2 cls: 0.30034\n"
     ]
    },
    {
     "name": "stderr",
     "output_type": "stream",
     "text": [
      "Epoch 394, lr 0.00013122000000000003: 100% 21/21 [00:10<00:00,  1.93it/s, 0 cls=0.16687, 1 cls=0.24505, 2 cls=0.34313, bce=0.07114, dice=0.84916, loss=-0.80329]\n"
     ]
    },
    {
     "name": "stdout",
     "output_type": "stream",
     "text": [
      "loss: -0.85779 | bce: 0.03885 | dice: 0.87037 | 0 cls: 0.11468 | 1 cls: 0.16633 | 2 cls: 0.29259\n"
     ]
    },
    {
     "name": "stderr",
     "output_type": "stream",
     "text": [
      "Epoch 395, lr 0.0014580000000000003: 100% 21/21 [00:11<00:00,  1.88it/s, 0 cls=0.17442, 1 cls=0.25384, 2 cls=0.35375, bce=0.07560, dice=0.84576, loss=-0.79563]\n"
     ]
    },
    {
     "name": "stdout",
     "output_type": "stream",
     "text": [
      "loss: -0.85885 | bce: 0.03941 | dice: 0.87280 | 0 cls: 0.11319 | 1 cls: 0.16691 | 2 cls: 0.28860\n"
     ]
    },
    {
     "name": "stderr",
     "output_type": "stream",
     "text": [
      "Epoch 396, lr 0.0014580000000000003: 100% 21/21 [00:10<00:00,  1.91it/s, 0 cls=0.17507, 1 cls=0.25485, 2 cls=0.35377, bce=0.07425, dice=0.84462, loss=-0.79532]\n"
     ]
    },
    {
     "name": "stdout",
     "output_type": "stream",
     "text": [
      "loss: -0.85674 | bce: 0.04218 | dice: 0.87224 | 0 cls: 0.11312 | 1 cls: 0.17193 | 2 cls: 0.29364\n"
     ]
    },
    {
     "name": "stderr",
     "output_type": "stream",
     "text": [
      "Epoch 397, lr 0.00043740000000000006: 100% 21/21 [00:11<00:00,  1.89it/s, 0 cls=0.17232, 1 cls=0.25163, 2 cls=0.34945, bce=0.07534, dice=0.84779, loss=-0.79775]\n"
     ]
    },
    {
     "name": "stdout",
     "output_type": "stream",
     "text": [
      "loss: -0.85569 | bce: 0.03975 | dice: 0.86893 | 0 cls: 0.11675 | 1 cls: 0.16821 | 2 cls: 0.29958\n"
     ]
    },
    {
     "name": "stderr",
     "output_type": "stream",
     "text": [
      "Epoch 398, lr 0.00043740000000000006: 100% 21/21 [00:11<00:00,  1.90it/s, 0 cls=0.16195, 1 cls=0.23687, 2 cls=0.33586, bce=0.07090, dice=0.85423, loss=-0.80856]\n"
     ]
    },
    {
     "name": "stdout",
     "output_type": "stream",
     "text": [
      "loss: -0.85918 | bce: 0.04010 | dice: 0.87318 | 0 cls: 0.11158 | 1 cls: 0.16878 | 2 cls: 0.28900\n"
     ]
    },
    {
     "name": "stderr",
     "output_type": "stream",
     "text": [
      "Epoch 399, lr 0.00013122000000000003: 100% 21/21 [00:10<00:00,  1.91it/s, 0 cls=0.16489, 1 cls=0.24213, 2 cls=0.33914, bce=0.07249, dice=0.85276, loss=-0.80526]\n"
     ]
    },
    {
     "name": "stdout",
     "output_type": "stream",
     "text": [
      "loss: -0.85866 | bce: 0.03804 | dice: 0.87077 | 0 cls: 0.11333 | 1 cls: 0.16679 | 2 cls: 0.29096\n"
     ]
    },
    {
     "name": "stderr",
     "output_type": "stream",
     "text": [
      "Epoch 400, lr 0.00010368: 100% 21/21 [00:10<00:00,  1.94it/s, 0 cls=0.16357, 1 cls=0.23999, 2 cls=0.33560, bce=0.07035, dice=0.85279, loss=-0.80704]\n"
     ]
    },
    {
     "name": "stdout",
     "output_type": "stream",
     "text": [
      "loss: -0.85906 | bce: 0.03922 | dice: 0.87221 | 0 cls: 0.11248 | 1 cls: 0.16706 | 2 cls: 0.29037\n"
     ]
    },
    {
     "name": "stderr",
     "output_type": "stream",
     "text": [
      "Epoch 401, lr 0.00010368: 100% 21/21 [00:10<00:00,  1.94it/s, 0 cls=0.16591, 1 cls=0.24292, 2 cls=0.33987, bce=0.07209, dice=0.85158, loss=-0.80452]\n"
     ]
    },
    {
     "name": "stdout",
     "output_type": "stream",
     "text": [
      "loss: -0.85866 | bce: 0.03817 | dice: 0.87065 | 0 cls: 0.11341 | 1 cls: 0.16654 | 2 cls: 0.29268\n"
     ]
    },
    {
     "name": "stderr",
     "output_type": "stream",
     "text": [
      "Epoch 402, lr 0.00010368: 100% 21/21 [00:10<00:00,  1.92it/s, 0 cls=0.16145, 1 cls=0.23794, 2 cls=0.33272, bce=0.07067, dice=0.85502, loss=-0.80888]\n"
     ]
    },
    {
     "name": "stdout",
     "output_type": "stream",
     "text": [
      "loss: -0.85831 | bce: 0.03772 | dice: 0.86986 | 0 cls: 0.11367 | 1 cls: 0.16734 | 2 cls: 0.29308\n"
     ]
    },
    {
     "name": "stderr",
     "output_type": "stream",
     "text": [
      "Epoch 403, lr 0.00010368: 100% 21/21 [00:10<00:00,  1.95it/s, 0 cls=0.15545, 1 cls=0.23092, 2 cls=0.32674, bce=0.06816, dice=0.85790, loss=-0.81471]\n"
     ]
    },
    {
     "name": "stdout",
     "output_type": "stream",
     "text": [
      "loss: -0.85911 | bce: 0.03905 | dice: 0.87205 | 0 cls: 0.11250 | 1 cls: 0.16691 | 2 cls: 0.29069\n"
     ]
    },
    {
     "name": "stderr",
     "output_type": "stream",
     "text": [
      "Epoch 404, lr 0.00010368: 100% 21/21 [00:11<00:00,  1.90it/s, 0 cls=0.16177, 1 cls=0.24031, 2 cls=0.33677, bce=0.07091, dice=0.85358, loss=-0.80775]\n"
     ]
    },
    {
     "name": "stdout",
     "output_type": "stream",
     "text": [
      "loss: -0.85819 | bce: 0.03789 | dice: 0.86983 | 0 cls: 0.11382 | 1 cls: 0.16749 | 2 cls: 0.29310\n"
     ]
    },
    {
     "name": "stderr",
     "output_type": "stream",
     "text": [
      "Epoch 405, lr 0.00010368: 100% 21/21 [00:11<00:00,  1.90it/s, 0 cls=0.16152, 1 cls=0.23912, 2 cls=0.33645, bce=0.07075, dice=0.85360, loss=-0.80826]\n"
     ]
    },
    {
     "name": "stdout",
     "output_type": "stream",
     "text": [
      "loss: -0.85866 | bce: 0.03801 | dice: 0.87048 | 0 cls: 0.11328 | 1 cls: 0.16695 | 2 cls: 0.29259\n"
     ]
    },
    {
     "name": "stderr",
     "output_type": "stream",
     "text": [
      "Epoch 406, lr 0.00010368: 100% 21/21 [00:11<00:00,  1.89it/s, 0 cls=0.15779, 1 cls=0.23317, 2 cls=0.33032, bce=0.06972, dice=0.85704, loss=-0.81240]\n"
     ]
    },
    {
     "name": "stdout",
     "output_type": "stream",
     "text": [
      "loss: -0.85765 | bce: 0.03823 | dice: 0.86957 | 0 cls: 0.11369 | 1 cls: 0.16926 | 2 cls: 0.29458\n"
     ]
    },
    {
     "name": "stderr",
     "output_type": "stream",
     "text": [
      "Epoch 407, lr 0.00010368: 100% 21/21 [00:10<00:00,  1.93it/s, 0 cls=0.15911, 1 cls=0.23476, 2 cls=0.32942, bce=0.06928, dice=0.85608, loss=-0.81142]\n"
     ]
    },
    {
     "name": "stdout",
     "output_type": "stream",
     "text": [
      "loss: -0.85797 | bce: 0.03818 | dice: 0.86981 | 0 cls: 0.11387 | 1 cls: 0.16804 | 2 cls: 0.29370\n"
     ]
    },
    {
     "name": "stderr",
     "output_type": "stream",
     "text": [
      "Epoch 408, lr 0.00010368: 100% 21/21 [00:10<00:00,  1.96it/s, 0 cls=0.15894, 1 cls=0.23529, 2 cls=0.33063, bce=0.06985, dice=0.85630, loss=-0.81123]\n"
     ]
    },
    {
     "name": "stdout",
     "output_type": "stream",
     "text": [
      "loss: -0.85806 | bce: 0.03817 | dice: 0.86992 | 0 cls: 0.11344 | 1 cls: 0.16866 | 2 cls: 0.29347\n"
     ]
    },
    {
     "name": "stderr",
     "output_type": "stream",
     "text": [
      "Epoch 409, lr 0.00010368: 100% 21/21 [00:10<00:00,  1.94it/s, 0 cls=0.15487, 1 cls=0.23482, 2 cls=0.32690, bce=0.06839, dice=0.85756, loss=-0.81394]\n"
     ]
    },
    {
     "name": "stdout",
     "output_type": "stream",
     "text": [
      "loss: -0.85860 | bce: 0.03799 | dice: 0.87047 | 0 cls: 0.11294 | 1 cls: 0.16775 | 2 cls: 0.29210\n"
     ]
    },
    {
     "name": "stderr",
     "output_type": "stream",
     "text": [
      "Epoch 410, lr 0.00010368: 100% 21/21 [00:11<00:00,  1.90it/s, 0 cls=0.15865, 1 cls=0.23801, 2 cls=0.33301, bce=0.06971, dice=0.85504, loss=-0.81041]\n"
     ]
    },
    {
     "name": "stdout",
     "output_type": "stream",
     "text": [
      "loss: -0.85862 | bce: 0.03822 | dice: 0.87062 | 0 cls: 0.11317 | 1 cls: 0.16728 | 2 cls: 0.29194\n"
     ]
    },
    {
     "name": "stderr",
     "output_type": "stream",
     "text": [
      "Epoch 411, lr 0.00010368: 100% 21/21 [00:10<00:00,  1.93it/s, 0 cls=0.15787, 1 cls=0.23366, 2 cls=0.33071, bce=0.06912, dice=0.85627, loss=-0.81231]\n"
     ]
    },
    {
     "name": "stdout",
     "output_type": "stream",
     "text": [
      "loss: -0.85893 | bce: 0.03740 | dice: 0.87030 | 0 cls: 0.11318 | 1 cls: 0.16640 | 2 cls: 0.29182\n"
     ]
    },
    {
     "name": "stderr",
     "output_type": "stream",
     "text": [
      "Epoch 412, lr 0.00010368: 100% 21/21 [00:10<00:00,  1.91it/s, 0 cls=0.15972, 1 cls=0.23599, 2 cls=0.33157, bce=0.06987, dice=0.85559, loss=-0.81049]\n"
     ]
    },
    {
     "name": "stdout",
     "output_type": "stream",
     "text": [
      "loss: -0.85834 | bce: 0.03768 | dice: 0.86974 | 0 cls: 0.11374 | 1 cls: 0.16738 | 2 cls: 0.29343\n"
     ]
    },
    {
     "name": "stderr",
     "output_type": "stream",
     "text": [
      "Epoch 413, lr 0.00010368: 100% 21/21 [00:11<00:00,  1.91it/s, 0 cls=0.15793, 1 cls=0.23178, 2 cls=0.32926, bce=0.06989, dice=0.85755, loss=-0.81270]\n"
     ]
    },
    {
     "name": "stdout",
     "output_type": "stream",
     "text": [
      "loss: -0.85853 | bce: 0.03750 | dice: 0.86989 | 0 cls: 0.11389 | 1 cls: 0.16632 | 2 cls: 0.29272\n"
     ]
    },
    {
     "name": "stderr",
     "output_type": "stream",
     "text": [
      "Epoch 414, lr 0.00010368: 100% 21/21 [00:11<00:00,  1.90it/s, 0 cls=0.16125, 1 cls=0.23866, 2 cls=0.33472, bce=0.07055, dice=0.85432, loss=-0.80873]\n"
     ]
    },
    {
     "name": "stdout",
     "output_type": "stream",
     "text": [
      "loss: -0.85802 | bce: 0.03749 | dice: 0.86923 | 0 cls: 0.11454 | 1 cls: 0.16673 | 2 cls: 0.29335\n"
     ]
    },
    {
     "name": "stderr",
     "output_type": "stream",
     "text": [
      "Epoch 415, lr 0.00010368: 100% 21/21 [00:10<00:00,  1.93it/s, 0 cls=0.16658, 1 cls=0.24191, 2 cls=0.34069, bce=0.07259, dice=0.85175, loss=-0.80426]\n"
     ]
    },
    {
     "name": "stdout",
     "output_type": "stream",
     "text": [
      "loss: -0.85802 | bce: 0.03727 | dice: 0.86908 | 0 cls: 0.11415 | 1 cls: 0.16747 | 2 cls: 0.29374\n"
     ]
    },
    {
     "name": "stderr",
     "output_type": "stream",
     "text": [
      "Epoch 416, lr 0.00010368: 100% 21/21 [00:10<00:00,  1.96it/s, 0 cls=0.15653, 1 cls=0.23121, 2 cls=0.32545, bce=0.06758, dice=0.85742, loss=-0.81424]\n"
     ]
    },
    {
     "name": "stdout",
     "output_type": "stream",
     "text": [
      "loss: -0.85898 | bce: 0.03826 | dice: 0.87112 | 0 cls: 0.11298 | 1 cls: 0.16658 | 2 cls: 0.29113\n"
     ]
    },
    {
     "name": "stderr",
     "output_type": "stream",
     "text": [
      "Epoch 417, lr 0.00010368: 100% 21/21 [00:10<00:00,  1.91it/s, 0 cls=0.15751, 1 cls=0.23452, 2 cls=0.32942, bce=0.06960, dice=0.85696, loss=-0.81228]\n"
     ]
    },
    {
     "name": "stdout",
     "output_type": "stream",
     "text": [
      "loss: -0.85800 | bce: 0.03755 | dice: 0.86920 | 0 cls: 0.11414 | 1 cls: 0.16753 | 2 cls: 0.29405\n"
     ]
    },
    {
     "name": "stderr",
     "output_type": "stream",
     "text": [
      "Epoch 418, lr 0.00010368: 100% 21/21 [00:11<00:00,  1.89it/s, 0 cls=0.15484, 1 cls=0.22998, 2 cls=0.32520, bce=0.06785, dice=0.85849, loss=-0.81544]\n"
     ]
    },
    {
     "name": "stdout",
     "output_type": "stream",
     "text": [
      "loss: -0.85866 | bce: 0.03769 | dice: 0.87038 | 0 cls: 0.11332 | 1 cls: 0.16674 | 2 cls: 0.29219\n"
     ]
    },
    {
     "name": "stderr",
     "output_type": "stream",
     "text": [
      "Epoch 419, lr 0.00010368: 100% 21/21 [00:11<00:00,  1.90it/s, 0 cls=0.16386, 1 cls=0.23987, 2 cls=0.33651, bce=0.07102, dice=0.85291, loss=-0.80672]\n"
     ]
    },
    {
     "name": "stdout",
     "output_type": "stream",
     "text": [
      "loss: -0.85873 | bce: 0.03741 | dice: 0.87010 | 0 cls: 0.11352 | 1 cls: 0.16620 | 2 cls: 0.29170\n"
     ]
    },
    {
     "name": "stderr",
     "output_type": "stream",
     "text": [
      "Epoch 420, lr 0.00010368: 100% 21/21 [00:10<00:00,  1.92it/s, 0 cls=0.15537, 1 cls=0.23420, 2 cls=0.32768, bce=0.06899, dice=0.85779, loss=-0.81373]\n"
     ]
    },
    {
     "name": "stdout",
     "output_type": "stream",
     "text": [
      "loss: -0.85782 | bce: 0.03787 | dice: 0.86956 | 0 cls: 0.11393 | 1 cls: 0.16821 | 2 cls: 0.29322\n"
     ]
    },
    {
     "name": "stderr",
     "output_type": "stream",
     "text": [
      "Epoch 421, lr 0.00010368: 100% 21/21 [00:10<00:00,  1.93it/s, 0 cls=0.16205, 1 cls=0.23918, 2 cls=0.33502, bce=0.07085, dice=0.85400, loss=-0.80811]\n"
     ]
    },
    {
     "name": "stdout",
     "output_type": "stream",
     "text": [
      "loss: -0.85743 | bce: 0.03779 | dice: 0.86910 | 0 cls: 0.11423 | 1 cls: 0.16873 | 2 cls: 0.29375\n"
     ]
    },
    {
     "name": "stderr",
     "output_type": "stream",
     "text": [
      "Epoch 422, lr 0.00010368: 100% 21/21 [00:10<00:00,  1.93it/s, 0 cls=0.15292, 1 cls=0.22772, 2 cls=0.32323, bce=0.06693, dice=0.85944, loss=-0.81730]\n"
     ]
    },
    {
     "name": "stdout",
     "output_type": "stream",
     "text": [
      "loss: -0.85721 | bce: 0.03819 | dice: 0.86901 | 0 cls: 0.11448 | 1 cls: 0.16911 | 2 cls: 0.29442\n"
     ]
    },
    {
     "name": "stderr",
     "output_type": "stream",
     "text": [
      "Epoch 423, lr 0.00010368: 100% 21/21 [00:10<00:00,  1.95it/s, 0 cls=0.15747, 1 cls=0.23251, 2 cls=0.32804, bce=0.06963, dice=0.85775, loss=-0.81298]\n"
     ]
    },
    {
     "name": "stdout",
     "output_type": "stream",
     "text": [
      "loss: -0.85657 | bce: 0.03843 | dice: 0.86845 | 0 cls: 0.11452 | 1 cls: 0.17103 | 2 cls: 0.29610\n"
     ]
    },
    {
     "name": "stderr",
     "output_type": "stream",
     "text": [
      "Epoch 424, lr 0.00010368: 100% 21/21 [00:10<00:00,  1.95it/s, 0 cls=0.15514, 1 cls=0.22944, 2 cls=0.32394, bce=0.06782, dice=0.85871, loss=-0.81543]\n"
     ]
    },
    {
     "name": "stdout",
     "output_type": "stream",
     "text": [
      "loss: -0.85841 | bce: 0.03788 | dice: 0.87024 | 0 cls: 0.11354 | 1 cls: 0.16720 | 2 cls: 0.29226\n"
     ]
    },
    {
     "name": "stderr",
     "output_type": "stream",
     "text": [
      "Epoch 425, lr 0.00010368: 100% 21/21 [00:10<00:00,  1.92it/s, 0 cls=0.15645, 1 cls=0.23210, 2 cls=0.32765, bce=0.06903, dice=0.85791, loss=-0.81375]\n"
     ]
    },
    {
     "name": "stdout",
     "output_type": "stream",
     "text": [
      "loss: -0.85783 | bce: 0.03830 | dice: 0.86985 | 0 cls: 0.11444 | 1 cls: 0.16750 | 2 cls: 0.29298\n"
     ]
    },
    {
     "name": "stderr",
     "output_type": "stream",
     "text": [
      "Epoch 426, lr 0.00010368: 100% 21/21 [00:10<00:00,  1.91it/s, 0 cls=0.16185, 1 cls=0.24099, 2 cls=0.33631, bce=0.07091, dice=0.85343, loss=-0.80763]\n"
     ]
    },
    {
     "name": "stdout",
     "output_type": "stream",
     "text": [
      "loss: -0.85860 | bce: 0.03776 | dice: 0.87042 | 0 cls: 0.11376 | 1 cls: 0.16617 | 2 cls: 0.29139\n"
     ]
    },
    {
     "name": "stderr",
     "output_type": "stream",
     "text": [
      "Epoch 427, lr 0.00010368: 100% 21/21 [00:10<00:00,  1.94it/s, 0 cls=0.15764, 1 cls=0.23377, 2 cls=0.32761, bce=0.06849, dice=0.85665, loss=-0.81268]\n"
     ]
    },
    {
     "name": "stdout",
     "output_type": "stream",
     "text": [
      "loss: -0.85814 | bce: 0.03814 | dice: 0.87015 | 0 cls: 0.11398 | 1 cls: 0.16710 | 2 cls: 0.29264\n"
     ]
    },
    {
     "name": "stderr",
     "output_type": "stream",
     "text": [
      "Epoch 428, lr 0.00010368: 100% 21/21 [00:10<00:00,  1.91it/s, 0 cls=0.15472, 1 cls=0.23204, 2 cls=0.32619, bce=0.06925, dice=0.85903, loss=-0.81474]\n"
     ]
    },
    {
     "name": "stdout",
     "output_type": "stream",
     "text": [
      "loss: -0.85732 | bce: 0.03851 | dice: 0.86967 | 0 cls: 0.11423 | 1 cls: 0.16888 | 2 cls: 0.29454\n"
     ]
    },
    {
     "name": "stderr",
     "output_type": "stream",
     "text": [
      "Epoch 429, lr 0.00010368: 100% 21/21 [00:11<00:00,  1.89it/s, 0 cls=0.15460, 1 cls=0.23152, 2 cls=0.32588, bce=0.06834, dice=0.85857, loss=-0.81505]\n"
     ]
    },
    {
     "name": "stdout",
     "output_type": "stream",
     "text": [
      "loss: -0.85773 | bce: 0.03832 | dice: 0.86994 | 0 cls: 0.11369 | 1 cls: 0.16888 | 2 cls: 0.29289\n"
     ]
    },
    {
     "name": "stderr",
     "output_type": "stream",
     "text": [
      "Epoch 430, lr 0.00010368: 100% 21/21 [00:11<00:00,  1.90it/s, 0 cls=0.15384, 1 cls=0.22982, 2 cls=0.32453, bce=0.06815, dice=0.85932, loss=-0.81601]\n"
     ]
    },
    {
     "name": "stdout",
     "output_type": "stream",
     "text": [
      "loss: -0.85668 | bce: 0.03815 | dice: 0.86836 | 0 cls: 0.11498 | 1 cls: 0.16963 | 2 cls: 0.29616\n"
     ]
    },
    {
     "name": "stderr",
     "output_type": "stream",
     "text": [
      "Epoch 431, lr 0.00010368: 100% 21/21 [00:10<00:00,  1.93it/s, 0 cls=0.15567, 1 cls=0.23161, 2 cls=0.32490, bce=0.06716, dice=0.85736, loss=-0.81465]\n"
     ]
    },
    {
     "name": "stdout",
     "output_type": "stream",
     "text": [
      "loss: -0.85786 | bce: 0.03836 | dice: 0.87005 | 0 cls: 0.11430 | 1 cls: 0.16731 | 2 cls: 0.29320\n"
     ]
    },
    {
     "name": "stderr",
     "output_type": "stream",
     "text": [
      "Epoch 432, lr 0.00010368: 100% 21/21 [00:11<00:00,  1.90it/s, 0 cls=0.15850, 1 cls=0.23374, 2 cls=0.33090, bce=0.06928, dice=0.85616, loss=-0.81192]\n"
     ]
    },
    {
     "name": "stdout",
     "output_type": "stream",
     "text": [
      "loss: -0.85838 | bce: 0.03799 | dice: 0.87031 | 0 cls: 0.11377 | 1 cls: 0.16676 | 2 cls: 0.29264\n"
     ]
    },
    {
     "name": "stderr",
     "output_type": "stream",
     "text": [
      "Epoch 433, lr 0.00010368: 100% 21/21 [00:10<00:00,  1.92it/s, 0 cls=0.15909, 1 cls=0.23337, 2 cls=0.32918, bce=0.06909, dice=0.85626, loss=-0.81183]\n"
     ]
    },
    {
     "name": "stdout",
     "output_type": "stream",
     "text": [
      "loss: -0.85786 | bce: 0.03815 | dice: 0.86985 | 0 cls: 0.11476 | 1 cls: 0.16661 | 2 cls: 0.29282\n"
     ]
    },
    {
     "name": "stderr",
     "output_type": "stream",
     "text": [
      "Epoch 434, lr 0.00010368: 100% 21/21 [00:11<00:00,  1.88it/s, 0 cls=0.15480, 1 cls=0.23035, 2 cls=0.32669, bce=0.06804, dice=0.85810, loss=-0.81520]\n"
     ]
    },
    {
     "name": "stdout",
     "output_type": "stream",
     "text": [
      "loss: -0.85761 | bce: 0.03830 | dice: 0.86950 | 0 cls: 0.11446 | 1 cls: 0.16789 | 2 cls: 0.29433\n"
     ]
    },
    {
     "name": "stderr",
     "output_type": "stream",
     "text": [
      "Epoch 435, lr 0.00010368: 100% 21/21 [00:11<00:00,  1.88it/s, 0 cls=0.15609, 1 cls=0.23352, 2 cls=0.32775, bce=0.06873, dice=0.85749, loss=-0.81357]\n"
     ]
    },
    {
     "name": "stdout",
     "output_type": "stream",
     "text": [
      "loss: -0.85797 | bce: 0.03767 | dice: 0.86934 | 0 cls: 0.11454 | 1 cls: 0.16678 | 2 cls: 0.29389\n"
     ]
    },
    {
     "name": "stderr",
     "output_type": "stream",
     "text": [
      "Epoch 436, lr 0.00010368: 100% 21/21 [00:11<00:00,  1.91it/s, 0 cls=0.15176, 1 cls=0.22939, 2 cls=0.32170, bce=0.06705, dice=0.85998, loss=-0.81761]\n"
     ]
    },
    {
     "name": "stdout",
     "output_type": "stream",
     "text": [
      "loss: -0.85859 | bce: 0.03801 | dice: 0.87049 | 0 cls: 0.11393 | 1 cls: 0.16587 | 2 cls: 0.29245\n"
     ]
    },
    {
     "name": "stderr",
     "output_type": "stream",
     "text": [
      "Epoch 437, lr 0.00010368: 100% 21/21 [00:11<00:00,  1.87it/s, 0 cls=0.15590, 1 cls=0.23067, 2 cls=0.32433, bce=0.06762, dice=0.85806, loss=-0.81477]\n"
     ]
    },
    {
     "name": "stdout",
     "output_type": "stream",
     "text": [
      "loss: -0.85786 | bce: 0.03773 | dice: 0.86921 | 0 cls: 0.11472 | 1 cls: 0.16679 | 2 cls: 0.29425\n"
     ]
    },
    {
     "name": "stderr",
     "output_type": "stream",
     "text": [
      "Epoch 438, lr 0.00010368: 100% 21/21 [00:10<00:00,  1.92it/s, 0 cls=0.15376, 1 cls=0.22914, 2 cls=0.32448, bce=0.06801, dice=0.85925, loss=-0.81621]\n"
     ]
    },
    {
     "name": "stdout",
     "output_type": "stream",
     "text": [
      "loss: -0.85749 | bce: 0.03785 | dice: 0.86920 | 0 cls: 0.11493 | 1 cls: 0.16743 | 2 cls: 0.29364\n"
     ]
    },
    {
     "name": "stderr",
     "output_type": "stream",
     "text": [
      "Epoch 439, lr 0.00010368: 100% 21/21 [00:11<00:00,  1.88it/s, 0 cls=0.15760, 1 cls=0.23344, 2 cls=0.32970, bce=0.06963, dice=0.85716, loss=-0.81254]\n"
     ]
    },
    {
     "name": "stdout",
     "output_type": "stream",
     "text": [
      "loss: -0.85714 | bce: 0.03831 | dice: 0.86911 | 0 cls: 0.11518 | 1 cls: 0.16797 | 2 cls: 0.29485\n"
     ]
    },
    {
     "name": "stderr",
     "output_type": "stream",
     "text": [
      "Epoch 440, lr 0.00010368: 100% 21/21 [00:10<00:00,  1.93it/s, 0 cls=0.15734, 1 cls=0.23264, 2 cls=0.32885, bce=0.06872, dice=0.85678, loss=-0.81299]\n"
     ]
    },
    {
     "name": "stdout",
     "output_type": "stream",
     "text": [
      "loss: -0.85758 | bce: 0.03828 | dice: 0.86944 | 0 cls: 0.11436 | 1 cls: 0.16838 | 2 cls: 0.29366\n"
     ]
    },
    {
     "name": "stderr",
     "output_type": "stream",
     "text": [
      "Epoch 441, lr 0.00010368: 100% 21/21 [00:10<00:00,  1.95it/s, 0 cls=0.15907, 1 cls=0.23567, 2 cls=0.32811, bce=0.06895, dice=0.85597, loss=-0.81136]\n"
     ]
    },
    {
     "name": "stdout",
     "output_type": "stream",
     "text": [
      "loss: -0.85777 | bce: 0.03831 | dice: 0.86971 | 0 cls: 0.11441 | 1 cls: 0.16724 | 2 cls: 0.29409\n"
     ]
    },
    {
     "name": "stderr",
     "output_type": "stream",
     "text": [
      "Epoch 442, lr 0.00010368: 100% 21/21 [00:11<00:00,  1.90it/s, 0 cls=0.15532, 1 cls=0.23060, 2 cls=0.32747, bce=0.06816, dice=0.85786, loss=-0.81481]\n"
     ]
    },
    {
     "name": "stdout",
     "output_type": "stream",
     "text": [
      "loss: -0.85785 | bce: 0.03811 | dice: 0.86964 | 0 cls: 0.11466 | 1 cls: 0.16678 | 2 cls: 0.29414\n"
     ]
    },
    {
     "name": "stderr",
     "output_type": "stream",
     "text": [
      "Epoch 443, lr 0.00010368: 100% 21/21 [00:10<00:00,  1.93it/s, 0 cls=0.15613, 1 cls=0.23249, 2 cls=0.32610, bce=0.06858, dice=0.85788, loss=-0.81392]\n"
     ]
    },
    {
     "name": "stdout",
     "output_type": "stream",
     "text": [
      "loss: -0.85781 | bce: 0.03797 | dice: 0.86958 | 0 cls: 0.11439 | 1 cls: 0.16738 | 2 cls: 0.29393\n"
     ]
    },
    {
     "name": "stderr",
     "output_type": "stream",
     "text": [
      "Epoch 444, lr 0.00010368: 100% 21/21 [00:10<00:00,  1.95it/s, 0 cls=0.15357, 1 cls=0.22821, 2 cls=0.32393, bce=0.06823, dice=0.85990, loss=-0.81657]\n"
     ]
    },
    {
     "name": "stdout",
     "output_type": "stream",
     "text": [
      "loss: -0.85785 | bce: 0.03803 | dice: 0.86974 | 0 cls: 0.11422 | 1 cls: 0.16771 | 2 cls: 0.29369\n"
     ]
    },
    {
     "name": "stderr",
     "output_type": "stream",
     "text": [
      "Epoch 445, lr 0.00010368: 100% 21/21 [00:10<00:00,  1.93it/s, 0 cls=0.15535, 1 cls=0.23187, 2 cls=0.32797, bce=0.06834, dice=0.85773, loss=-0.81444]\n"
     ]
    },
    {
     "name": "stdout",
     "output_type": "stream",
     "text": [
      "loss: -0.85691 | bce: 0.03811 | dice: 0.86852 | 0 cls: 0.11510 | 1 cls: 0.16905 | 2 cls: 0.29552\n"
     ]
    },
    {
     "name": "stderr",
     "output_type": "stream",
     "text": [
      "Epoch 446, lr 0.00010368: 100% 21/21 [00:10<00:00,  1.92it/s, 0 cls=0.15072, 1 cls=0.22739, 2 cls=0.32136, bce=0.06654, dice=0.86033, loss=-0.81874]\n"
     ]
    },
    {
     "name": "stdout",
     "output_type": "stream",
     "text": [
      "loss: -0.85674 | bce: 0.03841 | dice: 0.86860 | 0 cls: 0.11514 | 1 cls: 0.16944 | 2 cls: 0.29578\n"
     ]
    },
    {
     "name": "stderr",
     "output_type": "stream",
     "text": [
      "Epoch 447, lr 0.00010368: 100% 21/21 [00:10<00:00,  1.95it/s, 0 cls=0.15614, 1 cls=0.23149, 2 cls=0.32414, bce=0.06789, dice=0.85802, loss=-0.81448]\n"
     ]
    },
    {
     "name": "stdout",
     "output_type": "stream",
     "text": [
      "loss: -0.85765 | bce: 0.03872 | dice: 0.87007 | 0 cls: 0.11416 | 1 cls: 0.16832 | 2 cls: 0.29371\n"
     ]
    },
    {
     "name": "stderr",
     "output_type": "stream",
     "text": [
      "Epoch 448, lr 0.00010368: 100% 21/21 [00:11<00:00,  1.87it/s, 0 cls=0.15075, 1 cls=0.22640, 2 cls=0.32011, bce=0.06676, dice=0.86113, loss=-0.81904]\n"
     ]
    },
    {
     "name": "stdout",
     "output_type": "stream",
     "text": [
      "loss: -0.85777 | bce: 0.03843 | dice: 0.87002 | 0 cls: 0.11413 | 1 cls: 0.16810 | 2 cls: 0.29324\n"
     ]
    },
    {
     "name": "stderr",
     "output_type": "stream",
     "text": [
      "Epoch 449, lr 0.00010368: 100% 21/21 [00:11<00:00,  1.90it/s, 0 cls=0.15292, 1 cls=0.22726, 2 cls=0.32019, bce=0.06678, dice=0.86009, loss=-0.81765]\n"
     ]
    },
    {
     "name": "stdout",
     "output_type": "stream",
     "text": [
      "loss: -0.85835 | bce: 0.03819 | dice: 0.87037 | 0 cls: 0.11422 | 1 cls: 0.16631 | 2 cls: 0.29271\n"
     ]
    },
    {
     "name": "stderr",
     "output_type": "stream",
     "text": [
      "Epoch 450, lr 0.00010368: 100% 21/21 [00:11<00:00,  1.88it/s, 0 cls=0.15305, 1 cls=0.22886, 2 cls=0.32185, bce=0.06788, dice=0.86032, loss=-0.81694]\n"
     ]
    },
    {
     "name": "stdout",
     "output_type": "stream",
     "text": [
      "loss: -0.85800 | bce: 0.03789 | dice: 0.86964 | 0 cls: 0.11456 | 1 cls: 0.16680 | 2 cls: 0.29385\n"
     ]
    },
    {
     "name": "stderr",
     "output_type": "stream",
     "text": [
      "Epoch 451, lr 0.00010368: 100% 21/21 [00:11<00:00,  1.90it/s, 0 cls=0.15869, 1 cls=0.23417, 2 cls=0.33146, bce=0.06900, dice=0.85565, loss=-0.81172]\n"
     ]
    },
    {
     "name": "stdout",
     "output_type": "stream",
     "text": [
      "loss: -0.85712 | bce: 0.03839 | dice: 0.86897 | 0 cls: 0.11509 | 1 cls: 0.16838 | 2 cls: 0.29549\n"
     ]
    },
    {
     "name": "stderr",
     "output_type": "stream",
     "text": [
      "Epoch 452, lr 0.00010368: 100% 21/21 [00:10<00:00,  1.91it/s, 0 cls=0.15460, 1 cls=0.22778, 2 cls=0.32192, bce=0.06781, dice=0.85971, loss=-0.81639]\n"
     ]
    },
    {
     "name": "stdout",
     "output_type": "stream",
     "text": [
      "loss: -0.85795 | bce: 0.03792 | dice: 0.86957 | 0 cls: 0.11467 | 1 cls: 0.16654 | 2 cls: 0.29410\n"
     ]
    },
    {
     "name": "stderr",
     "output_type": "stream",
     "text": [
      "Epoch 453, lr 0.00010368: 100% 21/21 [00:11<00:00,  1.87it/s, 0 cls=0.16113, 1 cls=0.23761, 2 cls=0.33097, bce=0.07010, dice=0.85521, loss=-0.80942]\n"
     ]
    },
    {
     "name": "stdout",
     "output_type": "stream",
     "text": [
      "loss: -0.85707 | bce: 0.03816 | dice: 0.86887 | 0 cls: 0.11518 | 1 cls: 0.16847 | 2 cls: 0.29517\n"
     ]
    },
    {
     "name": "stderr",
     "output_type": "stream",
     "text": [
      "Epoch 454, lr 0.00010368: 100% 21/21 [00:10<00:00,  1.93it/s, 0 cls=0.15410, 1 cls=0.23116, 2 cls=0.32631, bce=0.06878, dice=0.85896, loss=-0.81534]\n"
     ]
    },
    {
     "name": "stdout",
     "output_type": "stream",
     "text": [
      "loss: -0.85737 | bce: 0.03820 | dice: 0.86903 | 0 cls: 0.11475 | 1 cls: 0.16833 | 2 cls: 0.29538\n"
     ]
    },
    {
     "name": "stderr",
     "output_type": "stream",
     "text": [
      "Epoch 455, lr 0.00010368: 100% 21/21 [00:11<00:00,  1.89it/s, 0 cls=0.15917, 1 cls=0.23343, 2 cls=0.32992, bce=0.06983, dice=0.85666, loss=-0.81159]\n"
     ]
    },
    {
     "name": "stdout",
     "output_type": "stream",
     "text": [
      "loss: -0.85775 | bce: 0.03759 | dice: 0.86916 | 0 cls: 0.11485 | 1 cls: 0.16671 | 2 cls: 0.29439\n"
     ]
    },
    {
     "name": "stderr",
     "output_type": "stream",
     "text": [
      "Epoch 456, lr 0.00010368: 100% 21/21 [00:10<00:00,  1.92it/s, 0 cls=0.15612, 1 cls=0.23064, 2 cls=0.32489, bce=0.06840, dice=0.85840, loss=-0.81460]\n"
     ]
    },
    {
     "name": "stdout",
     "output_type": "stream",
     "text": [
      "loss: -0.85784 | bce: 0.03810 | dice: 0.86960 | 0 cls: 0.11448 | 1 cls: 0.16712 | 2 cls: 0.29395\n"
     ]
    },
    {
     "name": "stderr",
     "output_type": "stream",
     "text": [
      "Epoch 457, lr 0.00010368: 100% 21/21 [00:11<00:00,  1.76it/s, 0 cls=0.14916, 1 cls=0.22588, 2 cls=0.31808, bce=0.06606, dice=0.86177, loss=-0.82032]\n"
     ]
    },
    {
     "name": "stdout",
     "output_type": "stream",
     "text": [
      "loss: -0.85724 | bce: 0.03833 | dice: 0.86927 | 0 cls: 0.11486 | 1 cls: 0.16801 | 2 cls: 0.29514\n"
     ]
    },
    {
     "name": "stderr",
     "output_type": "stream",
     "text": [
      "Epoch 458, lr 0.00010368: 100% 21/21 [00:10<00:00,  1.93it/s, 0 cls=0.15738, 1 cls=0.23149, 2 cls=0.32529, bce=0.06889, dice=0.85812, loss=-0.81346]\n"
     ]
    },
    {
     "name": "stdout",
     "output_type": "stream",
     "text": [
      "loss: -0.85566 | bce: 0.03814 | dice: 0.86713 | 0 cls: 0.11639 | 1 cls: 0.17010 | 2 cls: 0.29879\n"
     ]
    },
    {
     "name": "stderr",
     "output_type": "stream",
     "text": [
      "Epoch 459, lr 0.00010368: 100% 21/21 [00:10<00:00,  1.93it/s, 0 cls=0.15486, 1 cls=0.22986, 2 cls=0.32645, bce=0.06787, dice=0.85818, loss=-0.81534]\n"
     ]
    },
    {
     "name": "stdout",
     "output_type": "stream",
     "text": [
      "loss: -0.85778 | bce: 0.03854 | dice: 0.87005 | 0 cls: 0.11411 | 1 cls: 0.16779 | 2 cls: 0.29381\n"
     ]
    },
    {
     "name": "stderr",
     "output_type": "stream",
     "text": [
      "Epoch 460, lr 0.00010368: 100% 21/21 [00:11<00:00,  1.88it/s, 0 cls=0.15168, 1 cls=0.22602, 2 cls=0.31885, bce=0.06692, dice=0.86140, loss=-0.81882]\n"
     ]
    },
    {
     "name": "stdout",
     "output_type": "stream",
     "text": [
      "loss: -0.85757 | bce: 0.03806 | dice: 0.86925 | 0 cls: 0.11471 | 1 cls: 0.16757 | 2 cls: 0.29499\n"
     ]
    },
    {
     "name": "stderr",
     "output_type": "stream",
     "text": [
      "Epoch 461, lr 0.00010368: 100% 21/21 [00:11<00:00,  1.90it/s, 0 cls=0.15452, 1 cls=0.22900, 2 cls=0.32259, bce=0.06769, dice=0.85927, loss=-0.81607]\n"
     ]
    },
    {
     "name": "stdout",
     "output_type": "stream",
     "text": [
      "loss: -0.85790 | bce: 0.03781 | dice: 0.86951 | 0 cls: 0.11449 | 1 cls: 0.16685 | 2 cls: 0.29418\n"
     ]
    },
    {
     "name": "stderr",
     "output_type": "stream",
     "text": [
      "Epoch 462, lr 0.00010368: 100% 21/21 [00:10<00:00,  1.94it/s, 0 cls=0.15380, 1 cls=0.23030, 2 cls=0.32498, bce=0.06822, dice=0.85917, loss=-0.81589]\n"
     ]
    },
    {
     "name": "stdout",
     "output_type": "stream",
     "text": [
      "loss: -0.85761 | bce: 0.03780 | dice: 0.86921 | 0 cls: 0.11497 | 1 cls: 0.16660 | 2 cls: 0.29542\n"
     ]
    },
    {
     "name": "stderr",
     "output_type": "stream",
     "text": [
      "Epoch 463, lr 0.00010368: 100% 21/21 [00:10<00:00,  1.93it/s, 0 cls=0.15362, 1 cls=0.23008, 2 cls=0.32376, bce=0.06837, dice=0.85976, loss=-0.81609]\n"
     ]
    },
    {
     "name": "stdout",
     "output_type": "stream",
     "text": [
      "loss: -0.85810 | bce: 0.03816 | dice: 0.87007 | 0 cls: 0.11429 | 1 cls: 0.16670 | 2 cls: 0.29327\n"
     ]
    },
    {
     "name": "stderr",
     "output_type": "stream",
     "text": [
      "Epoch 464, lr 0.00010368: 100% 21/21 [00:10<00:00,  1.91it/s, 0 cls=0.15572, 1 cls=0.23123, 2 cls=0.32595, bce=0.06849, dice=0.85830, loss=-0.81454]\n"
     ]
    },
    {
     "name": "stdout",
     "output_type": "stream",
     "text": [
      "loss: -0.85818 | bce: 0.03828 | dice: 0.87018 | 0 cls: 0.11427 | 1 cls: 0.16666 | 2 cls: 0.29256\n"
     ]
    },
    {
     "name": "stderr",
     "output_type": "stream",
     "text": [
      "Epoch 465, lr 0.00010368: 100% 21/21 [00:11<00:00,  1.86it/s, 0 cls=0.15739, 1 cls=0.23105, 2 cls=0.32547, bce=0.06832, dice=0.85767, loss=-0.81371]\n"
     ]
    },
    {
     "name": "stdout",
     "output_type": "stream",
     "text": [
      "loss: -0.85726 | bce: 0.03736 | dice: 0.86809 | 0 cls: 0.11554 | 1 cls: 0.16709 | 2 cls: 0.29653\n"
     ]
    },
    {
     "name": "stderr",
     "output_type": "stream",
     "text": [
      "Epoch 466, lr 0.00010368: 100% 21/21 [00:10<00:00,  1.92it/s, 0 cls=0.15233, 1 cls=0.22678, 2 cls=0.32121, bce=0.06760, dice=0.86084, loss=-0.81795]\n"
     ]
    },
    {
     "name": "stdout",
     "output_type": "stream",
     "text": [
      "loss: -0.85764 | bce: 0.03745 | dice: 0.86884 | 0 cls: 0.11522 | 1 cls: 0.16662 | 2 cls: 0.29416\n"
     ]
    },
    {
     "name": "stderr",
     "output_type": "stream",
     "text": [
      "Epoch 467, lr 0.00010368: 100% 21/21 [00:10<00:00,  1.92it/s, 0 cls=0.15689, 1 cls=0.23332, 2 cls=0.32553, bce=0.06846, dice=0.85749, loss=-0.81335]\n"
     ]
    },
    {
     "name": "stdout",
     "output_type": "stream",
     "text": [
      "loss: -0.85781 | bce: 0.03838 | dice: 0.86974 | 0 cls: 0.11421 | 1 cls: 0.16792 | 2 cls: 0.29407\n"
     ]
    },
    {
     "name": "stderr",
     "output_type": "stream",
     "text": [
      "Epoch 468, lr 0.00010368: 100% 21/21 [00:10<00:00,  1.93it/s, 0 cls=0.15346, 1 cls=0.22949, 2 cls=0.32483, bce=0.06824, dice=0.85953, loss=-0.81625]\n"
     ]
    },
    {
     "name": "stdout",
     "output_type": "stream",
     "text": [
      "loss: -0.85694 | bce: 0.03812 | dice: 0.86858 | 0 cls: 0.11545 | 1 cls: 0.16822 | 2 cls: 0.29588\n"
     ]
    },
    {
     "name": "stderr",
     "output_type": "stream",
     "text": [
      "Epoch 469, lr 0.00010368: 100% 21/21 [00:10<00:00,  1.94it/s, 0 cls=0.15335, 1 cls=0.22960, 2 cls=0.32406, bce=0.06860, dice=0.86003, loss=-0.81634]\n"
     ]
    },
    {
     "name": "stdout",
     "output_type": "stream",
     "text": [
      "loss: -0.85731 | bce: 0.03821 | dice: 0.86905 | 0 cls: 0.11497 | 1 cls: 0.16789 | 2 cls: 0.29536\n"
     ]
    },
    {
     "name": "stderr",
     "output_type": "stream",
     "text": [
      "Epoch 470, lr 0.00010368: 100% 21/21 [00:10<00:00,  1.93it/s, 0 cls=0.15502, 1 cls=0.23133, 2 cls=0.32618, bce=0.06948, dice=0.85930, loss=-0.81474]\n"
     ]
    },
    {
     "name": "stdout",
     "output_type": "stream",
     "text": [
      "loss: -0.85677 | bce: 0.03762 | dice: 0.86798 | 0 cls: 0.11561 | 1 cls: 0.16842 | 2 cls: 0.29637\n"
     ]
    },
    {
     "name": "stderr",
     "output_type": "stream",
     "text": [
      "Epoch 471, lr 0.00010368: 100% 21/21 [00:10<00:00,  1.93it/s, 0 cls=0.15653, 1 cls=0.23399, 2 cls=0.32717, bce=0.06768, dice=0.85643, loss=-0.81335]\n"
     ]
    },
    {
     "name": "stdout",
     "output_type": "stream",
     "text": [
      "loss: -0.85853 | bce: 0.03833 | dice: 0.87055 | 0 cls: 0.11440 | 1 cls: 0.16530 | 2 cls: 0.29207\n"
     ]
    },
    {
     "name": "stderr",
     "output_type": "stream",
     "text": [
      "Epoch 472, lr 0.00010368: 100% 21/21 [00:11<00:00,  1.91it/s, 0 cls=0.15624, 1 cls=0.23386, 2 cls=0.32971, bce=0.07068, dice=0.85848, loss=-0.81301]\n"
     ]
    },
    {
     "name": "stdout",
     "output_type": "stream",
     "text": [
      "loss: -0.85734 | bce: 0.03719 | dice: 0.86816 | 0 cls: 0.11527 | 1 cls: 0.16735 | 2 cls: 0.29582\n"
     ]
    },
    {
     "name": "stderr",
     "output_type": "stream",
     "text": [
      "Epoch 473, lr 0.00010368: 100% 21/21 [00:10<00:00,  1.92it/s, 0 cls=0.15270, 1 cls=0.23370, 2 cls=0.32483, bce=0.06816, dice=0.85895, loss=-0.81564]\n"
     ]
    },
    {
     "name": "stdout",
     "output_type": "stream",
     "text": [
      "loss: -0.85829 | bce: 0.03863 | dice: 0.87079 | 0 cls: 0.11410 | 1 cls: 0.16655 | 2 cls: 0.29209\n"
     ]
    },
    {
     "name": "stderr",
     "output_type": "stream",
     "text": [
      "Epoch 474, lr 0.00010368: 100% 21/21 [00:10<00:00,  1.93it/s, 0 cls=0.15105, 1 cls=0.22619, 2 cls=0.32043, bce=0.06693, dice=0.86119, loss=-0.81895]\n"
     ]
    },
    {
     "name": "stdout",
     "output_type": "stream",
     "text": [
      "loss: -0.85682 | bce: 0.03800 | dice: 0.86828 | 0 cls: 0.11532 | 1 cls: 0.16898 | 2 cls: 0.29574\n"
     ]
    },
    {
     "name": "stderr",
     "output_type": "stream",
     "text": [
      "Epoch 475, lr 0.00010368: 100% 21/21 [00:10<00:00,  1.92it/s, 0 cls=0.15276, 1 cls=0.22647, 2 cls=0.32163, bce=0.06736, dice=0.86048, loss=-0.81782]\n"
     ]
    },
    {
     "name": "stdout",
     "output_type": "stream",
     "text": [
      "loss: -0.85640 | bce: 0.03866 | dice: 0.86837 | 0 cls: 0.11628 | 1 cls: 0.16813 | 2 cls: 0.29703\n"
     ]
    },
    {
     "name": "stderr",
     "output_type": "stream",
     "text": [
      "Epoch 476, lr 0.00010368: 100% 21/21 [00:10<00:00,  1.91it/s, 0 cls=0.15278, 1 cls=0.22808, 2 cls=0.32252, bce=0.06719, dice=0.85970, loss=-0.81728]\n"
     ]
    },
    {
     "name": "stdout",
     "output_type": "stream",
     "text": [
      "loss: -0.85833 | bce: 0.03808 | dice: 0.87009 | 0 cls: 0.11432 | 1 cls: 0.16626 | 2 cls: 0.29322\n"
     ]
    },
    {
     "name": "stderr",
     "output_type": "stream",
     "text": [
      "Epoch 477, lr 0.00010368: 100% 21/21 [00:10<00:00,  1.93it/s, 0 cls=0.15103, 1 cls=0.22760, 2 cls=0.32099, bce=0.06769, dice=0.86131, loss=-0.81844]\n"
     ]
    },
    {
     "name": "stdout",
     "output_type": "stream",
     "text": [
      "loss: -0.85754 | bce: 0.03754 | dice: 0.86880 | 0 cls: 0.11548 | 1 cls: 0.16632 | 2 cls: 0.29504\n"
     ]
    },
    {
     "name": "stderr",
     "output_type": "stream",
     "text": [
      "Epoch 478, lr 0.00010368: 100% 21/21 [00:10<00:00,  1.91it/s, 0 cls=0.15337, 1 cls=0.22865, 2 cls=0.32107, bce=0.06767, dice=0.86029, loss=-0.81694]\n"
     ]
    },
    {
     "name": "stdout",
     "output_type": "stream",
     "text": [
      "loss: -0.85669 | bce: 0.03825 | dice: 0.86861 | 0 cls: 0.11578 | 1 cls: 0.16844 | 2 cls: 0.29513\n"
     ]
    },
    {
     "name": "stderr",
     "output_type": "stream",
     "text": [
      "Epoch 479, lr 0.00010368: 100% 21/21 [00:10<00:00,  1.96it/s, 0 cls=0.15494, 1 cls=0.22746, 2 cls=0.32556, bce=0.06849, dice=0.85920, loss=-0.81585]\n"
     ]
    },
    {
     "name": "stdout",
     "output_type": "stream",
     "text": [
      "loss: -0.85757 | bce: 0.03804 | dice: 0.86911 | 0 cls: 0.11530 | 1 cls: 0.16670 | 2 cls: 0.29511\n"
     ]
    },
    {
     "name": "stderr",
     "output_type": "stream",
     "text": [
      "Epoch 480, lr 0.00010368: 100% 21/21 [00:10<00:00,  1.92it/s, 0 cls=0.15096, 1 cls=0.22683, 2 cls=0.32019, bce=0.06716, dice=0.86128, loss=-0.81882]\n"
     ]
    },
    {
     "name": "stdout",
     "output_type": "stream",
     "text": [
      "loss: -0.85671 | bce: 0.03851 | dice: 0.86886 | 0 cls: 0.11602 | 1 cls: 0.16758 | 2 cls: 0.29647\n"
     ]
    },
    {
     "name": "stderr",
     "output_type": "stream",
     "text": [
      "Epoch 481, lr 0.00010368: 100% 21/21 [00:10<00:00,  1.92it/s, 0 cls=0.15417, 1 cls=0.22849, 2 cls=0.32460, bce=0.06736, dice=0.85876, loss=-0.81635]\n"
     ]
    },
    {
     "name": "stdout",
     "output_type": "stream",
     "text": [
      "loss: -0.85696 | bce: 0.03844 | dice: 0.86885 | 0 cls: 0.11591 | 1 cls: 0.16722 | 2 cls: 0.29638\n"
     ]
    },
    {
     "name": "stderr",
     "output_type": "stream",
     "text": [
      "Epoch 482, lr 0.00010368: 100% 21/21 [00:10<00:00,  1.92it/s, 0 cls=0.15260, 1 cls=0.22474, 2 cls=0.31941, bce=0.06695, dice=0.86103, loss=-0.81849]\n"
     ]
    },
    {
     "name": "stdout",
     "output_type": "stream",
     "text": [
      "loss: -0.85641 | bce: 0.03867 | dice: 0.86815 | 0 cls: 0.11611 | 1 cls: 0.16847 | 2 cls: 0.29802\n"
     ]
    },
    {
     "name": "stderr",
     "output_type": "stream",
     "text": [
      "Epoch 483, lr 0.00010368: 100% 21/21 [00:10<00:00,  1.92it/s, 0 cls=0.15749, 1 cls=0.23175, 2 cls=0.32953, bce=0.06895, dice=0.85702, loss=-0.81314]\n"
     ]
    },
    {
     "name": "stdout",
     "output_type": "stream",
     "text": [
      "loss: -0.85641 | bce: 0.03831 | dice: 0.86802 | 0 cls: 0.11604 | 1 cls: 0.16881 | 2 cls: 0.29715\n"
     ]
    },
    {
     "name": "stderr",
     "output_type": "stream",
     "text": [
      "Epoch 484, lr 0.00010368: 100% 21/21 [00:11<00:00,  1.91it/s, 0 cls=0.15657, 1 cls=0.23069, 2 cls=0.32545, bce=0.06878, dice=0.85833, loss=-0.81417]\n"
     ]
    },
    {
     "name": "stdout",
     "output_type": "stream",
     "text": [
      "loss: -0.85633 | bce: 0.03841 | dice: 0.86814 | 0 cls: 0.11609 | 1 cls: 0.16886 | 2 cls: 0.29706\n"
     ]
    },
    {
     "name": "stderr",
     "output_type": "stream",
     "text": [
      "Epoch 485, lr 0.00010368: 100% 21/21 [00:11<00:00,  1.90it/s, 0 cls=0.15614, 1 cls=0.22907, 2 cls=0.32564, bce=0.06793, dice=0.85803, loss=-0.81488]\n"
     ]
    },
    {
     "name": "stdout",
     "output_type": "stream",
     "text": [
      "loss: -0.85759 | bce: 0.03814 | dice: 0.86930 | 0 cls: 0.11490 | 1 cls: 0.16724 | 2 cls: 0.29505\n"
     ]
    },
    {
     "name": "stderr",
     "output_type": "stream",
     "text": [
      "Epoch 486, lr 0.00010368: 100% 21/21 [00:10<00:00,  1.92it/s, 0 cls=0.15363, 1 cls=0.22946, 2 cls=0.32351, bce=0.06800, dice=0.85960, loss=-0.81627]\n"
     ]
    },
    {
     "name": "stdout",
     "output_type": "stream",
     "text": [
      "loss: -0.85715 | bce: 0.03876 | dice: 0.86951 | 0 cls: 0.11487 | 1 cls: 0.16865 | 2 cls: 0.29468\n"
     ]
    },
    {
     "name": "stderr",
     "output_type": "stream",
     "text": [
      "Epoch 487, lr 0.00010368: 100% 21/21 [00:10<00:00,  1.92it/s, 0 cls=0.14922, 1 cls=0.22288, 2 cls=0.31529, bce=0.06508, dice=0.86212, loss=-0.82136]\n"
     ]
    },
    {
     "name": "stdout",
     "output_type": "stream",
     "text": [
      "loss: -0.85679 | bce: 0.03903 | dice: 0.86940 | 0 cls: 0.11516 | 1 cls: 0.16919 | 2 cls: 0.29514\n"
     ]
    },
    {
     "name": "stderr",
     "output_type": "stream",
     "text": [
      "Epoch 488, lr 0.00010368: 100% 21/21 [00:11<00:00,  1.87it/s, 0 cls=0.15246, 1 cls=0.22591, 2 cls=0.32024, bce=0.06752, dice=0.86122, loss=-0.81822]\n"
     ]
    },
    {
     "name": "stdout",
     "output_type": "stream",
     "text": [
      "loss: -0.85708 | bce: 0.03811 | dice: 0.86886 | 0 cls: 0.11541 | 1 cls: 0.16785 | 2 cls: 0.29520\n"
     ]
    },
    {
     "name": "stderr",
     "output_type": "stream",
     "text": [
      "Epoch 489, lr 0.00010368: 100% 21/21 [00:11<00:00,  1.90it/s, 0 cls=0.15352, 1 cls=0.23058, 2 cls=0.32295, bce=0.06846, dice=0.85996, loss=-0.81609]\n"
     ]
    },
    {
     "name": "stdout",
     "output_type": "stream",
     "text": [
      "loss: -0.85624 | bce: 0.03830 | dice: 0.86786 | 0 cls: 0.11603 | 1 cls: 0.16939 | 2 cls: 0.29662\n"
     ]
    },
    {
     "name": "stderr",
     "output_type": "stream",
     "text": [
      "Epoch 490, lr 0.0013122000000000001: 100% 21/21 [00:10<00:00,  1.93it/s, 0 cls=0.16683, 1 cls=0.24408, 2 cls=0.34037, bce=0.07365, dice=0.85234, loss=-0.80347]\n"
     ]
    },
    {
     "name": "stdout",
     "output_type": "stream",
     "text": [
      "loss: -0.85290 | bce: 0.03920 | dice: 0.86501 | 0 cls: 0.11864 | 1 cls: 0.17337 | 2 cls: 0.30240\n"
     ]
    },
    {
     "name": "stderr",
     "output_type": "stream",
     "text": [
      "Epoch 491, lr 0.0013122000000000001: 100% 21/21 [00:10<00:00,  1.92it/s, 0 cls=0.17627, 1 cls=0.25674, 2 cls=0.35636, bce=0.07558, dice=0.84394, loss=-0.79380]\n"
     ]
    },
    {
     "name": "stdout",
     "output_type": "stream",
     "text": [
      "loss: -0.85546 | bce: 0.03883 | dice: 0.86848 | 0 cls: 0.11479 | 1 cls: 0.17326 | 2 cls: 0.29667\n"
     ]
    },
    {
     "name": "stderr",
     "output_type": "stream",
     "text": [
      "Epoch 492, lr 0.00039366000000000005: 100% 21/21 [00:11<00:00,  1.87it/s, 0 cls=0.17849, 1 cls=0.25129, 2 cls=0.35266, bce=0.07684, dice=0.84612, loss=-0.79403]\n"
     ]
    },
    {
     "name": "stdout",
     "output_type": "stream",
     "text": [
      "loss: -0.85250 | bce: 0.03947 | dice: 0.86548 | 0 cls: 0.11763 | 1 cls: 0.17725 | 2 cls: 0.30091\n"
     ]
    },
    {
     "name": "stderr",
     "output_type": "stream",
     "text": [
      "Epoch 493, lr 0.00039366000000000005: 100% 21/21 [00:10<00:00,  1.93it/s, 0 cls=0.16588, 1 cls=0.24002, 2 cls=0.33740, bce=0.07185, dice=0.85276, loss=-0.80551]\n"
     ]
    },
    {
     "name": "stdout",
     "output_type": "stream",
     "text": [
      "loss: -0.85782 | bce: 0.03759 | dice: 0.87018 | 0 cls: 0.11381 | 1 cls: 0.16804 | 2 cls: 0.29114\n"
     ]
    },
    {
     "name": "stderr",
     "output_type": "stream",
     "text": [
      "Epoch 494, lr 0.000118098: 100% 21/21 [00:10<00:00,  1.94it/s, 0 cls=0.16675, 1 cls=0.24230, 2 cls=0.34056, bce=0.07171, dice=0.85088, loss=-0.80424]\n"
     ]
    },
    {
     "name": "stdout",
     "output_type": "stream",
     "text": [
      "loss: -0.85870 | bce: 0.03752 | dice: 0.87101 | 0 cls: 0.11358 | 1 cls: 0.16614 | 2 cls: 0.28890\n"
     ]
    },
    {
     "name": "stderr",
     "output_type": "stream",
     "text": [
      "Epoch 495, lr 0.0013122000000000001: 100% 21/21 [00:10<00:00,  1.92it/s, 0 cls=0.17534, 1 cls=0.25138, 2 cls=0.35641, bce=0.07578, dice=0.84534, loss=-0.79559]\n"
     ]
    },
    {
     "name": "stdout",
     "output_type": "stream",
     "text": [
      "loss: -0.84855 | bce: 0.04329 | dice: 0.86340 | 0 cls: 0.11731 | 1 cls: 0.18881 | 2 cls: 0.30959\n"
     ]
    },
    {
     "name": "stderr",
     "output_type": "stream",
     "text": [
      "Epoch 496, lr 0.0013122000000000001: 100% 21/21 [00:10<00:00,  1.92it/s, 0 cls=0.17732, 1 cls=0.25484, 2 cls=0.35566, bce=0.07641, dice=0.84467, loss=-0.79358]\n"
     ]
    },
    {
     "name": "stdout",
     "output_type": "stream",
     "text": [
      "loss: -0.84840 | bce: 0.04019 | dice: 0.86163 | 0 cls: 0.12712 | 1 cls: 0.17223 | 2 cls: 0.30704\n"
     ]
    },
    {
     "name": "stderr",
     "output_type": "stream",
     "text": [
      "Epoch 497, lr 0.00039366000000000005: 100% 21/21 [00:10<00:00,  1.91it/s, 0 cls=0.17208, 1 cls=0.24882, 2 cls=0.34991, bce=0.07371, dice=0.84706, loss=-0.79877]\n"
     ]
    },
    {
     "name": "stdout",
     "output_type": "stream",
     "text": [
      "loss: -0.85470 | bce: 0.03756 | dice: 0.86559 | 0 cls: 0.11839 | 1 cls: 0.16911 | 2 cls: 0.30044\n"
     ]
    },
    {
     "name": "stderr",
     "output_type": "stream",
     "text": [
      "Epoch 498, lr 0.00039366000000000005: 100% 21/21 [00:10<00:00,  1.92it/s, 0 cls=0.16791, 1 cls=0.24316, 2 cls=0.34085, bce=0.07236, dice=0.85071, loss=-0.80331]\n"
     ]
    },
    {
     "name": "stdout",
     "output_type": "stream",
     "text": [
      "loss: -0.85716 | bce: 0.03622 | dice: 0.86782 | 0 cls: 0.11486 | 1 cls: 0.16796 | 2 cls: 0.29473\n"
     ]
    },
    {
     "name": "stderr",
     "output_type": "stream",
     "text": [
      "Epoch 499, lr 0.000118098: 100% 21/21 [00:10<00:00,  1.94it/s, 0 cls=0.16105, 1 cls=0.23557, 2 cls=0.33385, bce=0.06873, dice=0.85353, loss=-0.80983]\n"
     ]
    },
    {
     "name": "stdout",
     "output_type": "stream",
     "text": [
      "loss: -0.85861 | bce: 0.03849 | dice: 0.87140 | 0 cls: 0.11372 | 1 cls: 0.16582 | 2 cls: 0.29004\n"
     ]
    },
    {
     "name": "stderr",
     "output_type": "stream",
     "text": [
      "Epoch 500, lr 6.220799999999998e-05: 100% 21/21 [00:11<00:00,  1.91it/s, 0 cls=0.16466, 1 cls=0.23610, 2 cls=0.33638, bce=0.07184, dice=0.85402, loss=-0.80725]\n"
     ]
    },
    {
     "name": "stdout",
     "output_type": "stream",
     "text": [
      "loss: -0.85833 | bce: 0.03798 | dice: 0.87048 | 0 cls: 0.11365 | 1 cls: 0.16691 | 2 cls: 0.29145\n"
     ]
    },
    {
     "name": "stderr",
     "output_type": "stream",
     "text": [
      "Epoch 501, lr 6.220799999999998e-05: 100% 21/21 [00:11<00:00,  1.90it/s, 0 cls=0.16187, 1 cls=0.23548, 2 cls=0.33221, bce=0.07025, dice=0.85506, loss=-0.80943]\n"
     ]
    },
    {
     "name": "stdout",
     "output_type": "stream",
     "text": [
      "loss: -0.85782 | bce: 0.03794 | dice: 0.86989 | 0 cls: 0.11432 | 1 cls: 0.16709 | 2 cls: 0.29273\n"
     ]
    },
    {
     "name": "stderr",
     "output_type": "stream",
     "text": [
      "Epoch 502, lr 6.220799999999998e-05: 100% 21/21 [00:10<00:00,  1.93it/s, 0 cls=0.16067, 1 cls=0.23521, 2 cls=0.33432, bce=0.07052, dice=0.85517, loss=-0.80998]\n"
     ]
    },
    {
     "name": "stdout",
     "output_type": "stream",
     "text": [
      "loss: -0.85815 | bce: 0.03792 | dice: 0.87019 | 0 cls: 0.11426 | 1 cls: 0.16621 | 2 cls: 0.29259\n"
     ]
    },
    {
     "name": "stderr",
     "output_type": "stream",
     "text": [
      "Epoch 503, lr 6.220799999999998e-05: 100% 21/21 [00:10<00:00,  1.93it/s, 0 cls=0.16103, 1 cls=0.23928, 2 cls=0.33555, bce=0.07047, dice=0.85393, loss=-0.80866]\n"
     ]
    },
    {
     "name": "stdout",
     "output_type": "stream",
     "text": [
      "loss: -0.85820 | bce: 0.03818 | dice: 0.87042 | 0 cls: 0.11391 | 1 cls: 0.16677 | 2 cls: 0.29240\n"
     ]
    },
    {
     "name": "stderr",
     "output_type": "stream",
     "text": [
      "Epoch 504, lr 6.220799999999998e-05: 100% 21/21 [00:10<00:00,  1.95it/s, 0 cls=0.16028, 1 cls=0.23675, 2 cls=0.33546, bce=0.07054, dice=0.85497, loss=-0.80978]\n"
     ]
    },
    {
     "name": "stdout",
     "output_type": "stream",
     "text": [
      "loss: -0.85806 | bce: 0.03805 | dice: 0.87018 | 0 cls: 0.11392 | 1 cls: 0.16737 | 2 cls: 0.29235\n"
     ]
    },
    {
     "name": "stderr",
     "output_type": "stream",
     "text": [
      "Epoch 505, lr 6.220799999999998e-05: 100% 21/21 [00:10<00:00,  1.92it/s, 0 cls=0.15717, 1 cls=0.22941, 2 cls=0.32727, bce=0.06842, dice=0.85759, loss=-0.81404]\n"
     ]
    },
    {
     "name": "stdout",
     "output_type": "stream",
     "text": [
      "loss: -0.85891 | bce: 0.03776 | dice: 0.87094 | 0 cls: 0.11337 | 1 cls: 0.16601 | 2 cls: 0.29039\n"
     ]
    },
    {
     "name": "stderr",
     "output_type": "stream",
     "text": [
      "Epoch 506, lr 6.220799999999998e-05: 100% 21/21 [00:11<00:00,  1.90it/s, 0 cls=0.15894, 1 cls=0.23567, 2 cls=0.33055, bce=0.06992, dice=0.85609, loss=-0.81101]\n"
     ]
    },
    {
     "name": "stdout",
     "output_type": "stream",
     "text": [
      "loss: -0.85883 | bce: 0.03802 | dice: 0.87109 | 0 cls: 0.11354 | 1 cls: 0.16620 | 2 cls: 0.28990\n"
     ]
    },
    {
     "name": "stderr",
     "output_type": "stream",
     "text": [
      "Epoch 507, lr 6.220799999999998e-05: 100% 21/21 [00:10<00:00,  1.93it/s, 0 cls=0.16047, 1 cls=0.23536, 2 cls=0.33126, bce=0.06990, dice=0.85551, loss=-0.81033]\n"
     ]
    },
    {
     "name": "stdout",
     "output_type": "stream",
     "text": [
      "loss: -0.85801 | bce: 0.03812 | dice: 0.87018 | 0 cls: 0.11403 | 1 cls: 0.16733 | 2 cls: 0.29240\n"
     ]
    },
    {
     "name": "stderr",
     "output_type": "stream",
     "text": [
      "Epoch 508, lr 6.220799999999998e-05: 100% 21/21 [00:11<00:00,  1.86it/s, 0 cls=0.15723, 1 cls=0.23291, 2 cls=0.32660, bce=0.06892, dice=0.85765, loss=-0.81313]\n"
     ]
    },
    {
     "name": "stdout",
     "output_type": "stream",
     "text": [
      "loss: -0.85866 | bce: 0.03810 | dice: 0.87077 | 0 cls: 0.11350 | 1 cls: 0.16651 | 2 cls: 0.29119\n"
     ]
    },
    {
     "name": "stderr",
     "output_type": "stream",
     "text": [
      "Epoch 509, lr 6.220799999999998e-05: 100% 21/21 [00:10<00:00,  1.96it/s, 0 cls=0.15448, 1 cls=0.23065, 2 cls=0.32407, bce=0.06719, dice=0.85820, loss=-0.81557]\n"
     ]
    },
    {
     "name": "stdout",
     "output_type": "stream",
     "text": [
      "loss: -0.85883 | bce: 0.03804 | dice: 0.87100 | 0 cls: 0.11352 | 1 cls: 0.16575 | 2 cls: 0.29128\n"
     ]
    },
    {
     "name": "stderr",
     "output_type": "stream",
     "text": [
      "Epoch 510, lr 6.220799999999998e-05: 100% 21/21 [00:10<00:00,  1.95it/s, 0 cls=0.16054, 1 cls=0.23172, 2 cls=0.32932, bce=0.07048, dice=0.85701, loss=-0.81124]\n"
     ]
    },
    {
     "name": "stdout",
     "output_type": "stream",
     "text": [
      "loss: -0.85883 | bce: 0.03784 | dice: 0.87081 | 0 cls: 0.11364 | 1 cls: 0.16571 | 2 cls: 0.29099\n"
     ]
    },
    {
     "name": "stderr",
     "output_type": "stream",
     "text": [
      "Epoch 511, lr 6.220799999999998e-05: 100% 21/21 [00:10<00:00,  1.93it/s, 0 cls=0.15783, 1 cls=0.23206, 2 cls=0.32770, bce=0.06951, dice=0.85756, loss=-0.81282]\n"
     ]
    },
    {
     "name": "stdout",
     "output_type": "stream",
     "text": [
      "loss: -0.85858 | bce: 0.03812 | dice: 0.87080 | 0 cls: 0.11372 | 1 cls: 0.16627 | 2 cls: 0.29165\n"
     ]
    },
    {
     "name": "stderr",
     "output_type": "stream",
     "text": [
      "Epoch 512, lr 6.220799999999998e-05: 100% 21/21 [00:10<00:00,  1.91it/s, 0 cls=0.15608, 1 cls=0.22938, 2 cls=0.32561, bce=0.06820, dice=0.85839, loss=-0.81485]\n"
     ]
    },
    {
     "name": "stdout",
     "output_type": "stream",
     "text": [
      "loss: -0.85887 | bce: 0.03804 | dice: 0.87107 | 0 cls: 0.11345 | 1 cls: 0.16606 | 2 cls: 0.29069\n"
     ]
    },
    {
     "name": "stderr",
     "output_type": "stream",
     "text": [
      "Epoch 513, lr 6.220799999999998e-05: 100% 21/21 [00:10<00:00,  1.92it/s, 0 cls=0.15858, 1 cls=0.23503, 2 cls=0.33191, bce=0.07016, dice=0.85630, loss=-0.81133]\n"
     ]
    },
    {
     "name": "stdout",
     "output_type": "stream",
     "text": [
      "loss: -0.85862 | bce: 0.03829 | dice: 0.87095 | 0 cls: 0.11344 | 1 cls: 0.16658 | 2 cls: 0.29144\n"
     ]
    },
    {
     "name": "stderr",
     "output_type": "stream",
     "text": [
      "Epoch 514, lr 6.220799999999998e-05: 100% 21/21 [00:10<00:00,  1.96it/s, 0 cls=0.15495, 1 cls=0.22957, 2 cls=0.32411, bce=0.06795, dice=0.85888, loss=-0.81553]\n"
     ]
    },
    {
     "name": "stdout",
     "output_type": "stream",
     "text": [
      "loss: -0.85875 | bce: 0.03803 | dice: 0.87094 | 0 cls: 0.11343 | 1 cls: 0.16625 | 2 cls: 0.29142\n"
     ]
    },
    {
     "name": "stderr",
     "output_type": "stream",
     "text": [
      "Epoch 515, lr 6.220799999999998e-05: 100% 21/21 [00:11<00:00,  1.89it/s, 0 cls=0.15708, 1 cls=0.23456, 2 cls=0.33028, bce=0.06923, dice=0.85659, loss=-0.81243]\n"
     ]
    },
    {
     "name": "stdout",
     "output_type": "stream",
     "text": [
      "loss: -0.85914 | bce: 0.03785 | dice: 0.87114 | 0 cls: 0.11332 | 1 cls: 0.16562 | 2 cls: 0.29031\n"
     ]
    },
    {
     "name": "stderr",
     "output_type": "stream",
     "text": [
      "Epoch 516, lr 6.220799999999998e-05: 100% 21/21 [00:11<00:00,  1.88it/s, 0 cls=0.15744, 1 cls=0.23211, 2 cls=0.32850, bce=0.06924, dice=0.85732, loss=-0.81305]\n"
     ]
    },
    {
     "name": "stdout",
     "output_type": "stream",
     "text": [
      "loss: -0.85928 | bce: 0.03774 | dice: 0.87128 | 0 cls: 0.11326 | 1 cls: 0.16529 | 2 cls: 0.28990\n"
     ]
    },
    {
     "name": "stderr",
     "output_type": "stream",
     "text": [
      "Epoch 517, lr 6.220799999999998e-05: 100% 21/21 [00:10<00:00,  1.94it/s, 0 cls=0.15772, 1 cls=0.23165, 2 cls=0.32723, bce=0.06891, dice=0.85750, loss=-0.81316]\n"
     ]
    },
    {
     "name": "stdout",
     "output_type": "stream",
     "text": [
      "loss: -0.85948 | bce: 0.03787 | dice: 0.87163 | 0 cls: 0.11308 | 1 cls: 0.16505 | 2 cls: 0.28963\n"
     ]
    },
    {
     "name": "stderr",
     "output_type": "stream",
     "text": [
      "Epoch 518, lr 6.220799999999998e-05: 100% 21/21 [00:10<00:00,  1.93it/s, 0 cls=0.16526, 1 cls=0.23768, 2 cls=0.33471, bce=0.07294, dice=0.85500, loss=-0.80651]\n"
     ]
    },
    {
     "name": "stdout",
     "output_type": "stream",
     "text": [
      "loss: -0.85805 | bce: 0.03786 | dice: 0.86980 | 0 cls: 0.11403 | 1 cls: 0.16762 | 2 cls: 0.29264\n"
     ]
    },
    {
     "name": "stderr",
     "output_type": "stream",
     "text": [
      "Epoch 519, lr 6.220799999999998e-05: 100% 21/21 [00:11<00:00,  1.88it/s, 0 cls=0.15450, 1 cls=0.22724, 2 cls=0.32275, bce=0.06730, dice=0.85920, loss=-0.81656]\n"
     ]
    },
    {
     "name": "stdout",
     "output_type": "stream",
     "text": [
      "loss: -0.85854 | bce: 0.03829 | dice: 0.87084 | 0 cls: 0.11334 | 1 cls: 0.16732 | 2 cls: 0.29120\n"
     ]
    },
    {
     "name": "stderr",
     "output_type": "stream",
     "text": [
      "Epoch 520, lr 6.220799999999998e-05: 100% 21/21 [00:10<00:00,  1.92it/s, 0 cls=0.15956, 1 cls=0.23388, 2 cls=0.32881, bce=0.06958, dice=0.85660, loss=-0.81145]\n"
     ]
    },
    {
     "name": "stdout",
     "output_type": "stream",
     "text": [
      "loss: -0.85856 | bce: 0.03792 | dice: 0.87048 | 0 cls: 0.11372 | 1 cls: 0.16650 | 2 cls: 0.29187\n"
     ]
    },
    {
     "name": "stderr",
     "output_type": "stream",
     "text": [
      "Epoch 521, lr 6.220799999999998e-05: 100% 21/21 [00:10<00:00,  1.94it/s, 0 cls=0.15651, 1 cls=0.23057, 2 cls=0.32595, bce=0.06849, dice=0.85808, loss=-0.81424]\n"
     ]
    },
    {
     "name": "stdout",
     "output_type": "stream",
     "text": [
      "loss: -0.85874 | bce: 0.03775 | dice: 0.87065 | 0 cls: 0.11388 | 1 cls: 0.16579 | 2 cls: 0.29075\n"
     ]
    },
    {
     "name": "stderr",
     "output_type": "stream",
     "text": [
      "Epoch 522, lr 6.220799999999998e-05: 100% 21/21 [00:11<00:00,  1.89it/s, 0 cls=0.15671, 1 cls=0.23242, 2 cls=0.32617, bce=0.06953, dice=0.85840, loss=-0.81352]\n"
     ]
    },
    {
     "name": "stdout",
     "output_type": "stream",
     "text": [
      "loss: -0.85925 | bce: 0.03781 | dice: 0.87130 | 0 cls: 0.11332 | 1 cls: 0.16529 | 2 cls: 0.28961\n"
     ]
    },
    {
     "name": "stderr",
     "output_type": "stream",
     "text": [
      "Epoch 523, lr 6.220799999999998e-05: 100% 21/21 [00:10<00:00,  1.93it/s, 0 cls=0.15684, 1 cls=0.22960, 2 cls=0.32466, bce=0.06826, dice=0.85831, loss=-0.81447]\n"
     ]
    },
    {
     "name": "stdout",
     "output_type": "stream",
     "text": [
      "loss: -0.85898 | bce: 0.03809 | dice: 0.87118 | 0 cls: 0.11332 | 1 cls: 0.16590 | 2 cls: 0.29083\n"
     ]
    },
    {
     "name": "stderr",
     "output_type": "stream",
     "text": [
      "Epoch 524, lr 6.220799999999998e-05: 100% 21/21 [00:10<00:00,  1.95it/s, 0 cls=0.15355, 1 cls=0.22623, 2 cls=0.32152, bce=0.06808, dice=0.86073, loss=-0.81733]\n"
     ]
    },
    {
     "name": "stdout",
     "output_type": "stream",
     "text": [
      "loss: -0.85878 | bce: 0.03815 | dice: 0.87118 | 0 cls: 0.11372 | 1 cls: 0.16592 | 2 cls: 0.28999\n"
     ]
    },
    {
     "name": "stderr",
     "output_type": "stream",
     "text": [
      "Epoch 525, lr 6.220799999999998e-05: 100% 21/21 [00:10<00:00,  1.93it/s, 0 cls=0.15559, 1 cls=0.23119, 2 cls=0.32573, bce=0.06843, dice=0.85832, loss=-0.81456]\n"
     ]
    },
    {
     "name": "stdout",
     "output_type": "stream",
     "text": [
      "loss: -0.85793 | bce: 0.03777 | dice: 0.86980 | 0 cls: 0.11444 | 1 cls: 0.16666 | 2 cls: 0.29338\n"
     ]
    },
    {
     "name": "stderr",
     "output_type": "stream",
     "text": [
      "Epoch 526, lr 6.220799999999998e-05: 100% 21/21 [00:10<00:00,  1.93it/s, 0 cls=0.15316, 1 cls=0.22981, 2 cls=0.32286, bce=0.06764, dice=0.85966, loss=-0.81662]\n"
     ]
    },
    {
     "name": "stdout",
     "output_type": "stream",
     "text": [
      "loss: -0.85873 | bce: 0.03814 | dice: 0.87094 | 0 cls: 0.11343 | 1 cls: 0.16647 | 2 cls: 0.29058\n"
     ]
    },
    {
     "name": "stderr",
     "output_type": "stream",
     "text": [
      "Epoch 527, lr 6.220799999999998e-05: 100% 21/21 [00:10<00:00,  1.92it/s, 0 cls=0.15064, 1 cls=0.22523, 2 cls=0.31963, bce=0.06607, dice=0.86084, loss=-0.81951]\n"
     ]
    },
    {
     "name": "stdout",
     "output_type": "stream",
     "text": [
      "loss: -0.85918 | bce: 0.03791 | dice: 0.87128 | 0 cls: 0.11338 | 1 cls: 0.16521 | 2 cls: 0.29007\n"
     ]
    },
    {
     "name": "stderr",
     "output_type": "stream",
     "text": [
      "Epoch 528, lr 6.220799999999998e-05: 100% 21/21 [00:10<00:00,  1.94it/s, 0 cls=0.15299, 1 cls=0.22893, 2 cls=0.32279, bce=0.06747, dice=0.85977, loss=-0.81698]\n"
     ]
    },
    {
     "name": "stdout",
     "output_type": "stream",
     "text": [
      "loss: -0.85850 | bce: 0.03786 | dice: 0.87047 | 0 cls: 0.11391 | 1 cls: 0.16606 | 2 cls: 0.29204\n"
     ]
    },
    {
     "name": "stderr",
     "output_type": "stream",
     "text": [
      "Epoch 529, lr 6.220799999999998e-05: 100% 21/21 [00:10<00:00,  1.93it/s, 0 cls=0.15518, 1 cls=0.23335, 2 cls=0.32712, bce=0.06957, dice=0.85870, loss=-0.81406]\n"
     ]
    },
    {
     "name": "stdout",
     "output_type": "stream",
     "text": [
      "loss: -0.85891 | bce: 0.03773 | dice: 0.87079 | 0 cls: 0.11355 | 1 cls: 0.16568 | 2 cls: 0.29089\n"
     ]
    },
    {
     "name": "stderr",
     "output_type": "stream",
     "text": [
      "Epoch 530, lr 6.220799999999998e-05: 100% 21/21 [00:10<00:00,  1.94it/s, 0 cls=0.15005, 1 cls=0.22436, 2 cls=0.31765, bce=0.06652, dice=0.86223, loss=-0.82021]\n"
     ]
    },
    {
     "name": "stdout",
     "output_type": "stream",
     "text": [
      "loss: -0.85858 | bce: 0.03817 | dice: 0.87078 | 0 cls: 0.11385 | 1 cls: 0.16600 | 2 cls: 0.29167\n"
     ]
    },
    {
     "name": "stderr",
     "output_type": "stream",
     "text": [
      "Epoch 531, lr 6.220799999999998e-05: 100% 21/21 [00:10<00:00,  1.94it/s, 0 cls=0.15524, 1 cls=0.23302, 2 cls=0.32559, bce=0.06918, dice=0.85871, loss=-0.81425]\n"
     ]
    },
    {
     "name": "stdout",
     "output_type": "stream",
     "text": [
      "loss: -0.85892 | bce: 0.03777 | dice: 0.87092 | 0 cls: 0.11393 | 1 cls: 0.16515 | 2 cls: 0.29031\n"
     ]
    },
    {
     "name": "stderr",
     "output_type": "stream",
     "text": [
      "Epoch 532, lr 6.220799999999998e-05: 100% 21/21 [00:10<00:00,  1.95it/s, 0 cls=0.15386, 1 cls=0.22991, 2 cls=0.32364, bce=0.06783, dice=0.85932, loss=-0.81612]\n"
     ]
    },
    {
     "name": "stdout",
     "output_type": "stream",
     "text": [
      "loss: -0.85915 | bce: 0.03750 | dice: 0.87091 | 0 cls: 0.11378 | 1 cls: 0.16468 | 2 cls: 0.29050\n"
     ]
    },
    {
     "name": "stderr",
     "output_type": "stream",
     "text": [
      "Epoch 533, lr 6.220799999999998e-05: 100% 21/21 [00:10<00:00,  1.95it/s, 0 cls=0.15163, 1 cls=0.22536, 2 cls=0.31940, bce=0.06626, dice=0.86075, loss=-0.81902]\n"
     ]
    },
    {
     "name": "stdout",
     "output_type": "stream",
     "text": [
      "loss: -0.85902 | bce: 0.03746 | dice: 0.87059 | 0 cls: 0.11381 | 1 cls: 0.16482 | 2 cls: 0.29129\n"
     ]
    },
    {
     "name": "stderr",
     "output_type": "stream",
     "text": [
      "Epoch 534, lr 6.220799999999998e-05: 100% 21/21 [00:11<00:00,  1.88it/s, 0 cls=0.15552, 1 cls=0.22951, 2 cls=0.32630, bce=0.06833, dice=0.85846, loss=-0.81506]\n"
     ]
    },
    {
     "name": "stdout",
     "output_type": "stream",
     "text": [
      "loss: -0.85862 | bce: 0.03755 | dice: 0.87024 | 0 cls: 0.11425 | 1 cls: 0.16530 | 2 cls: 0.29179\n"
     ]
    },
    {
     "name": "stderr",
     "output_type": "stream",
     "text": [
      "Epoch 535, lr 6.220799999999998e-05: 100% 21/21 [00:10<00:00,  1.94it/s, 0 cls=0.15904, 1 cls=0.23388, 2 cls=0.33105, bce=0.06954, dice=0.85604, loss=-0.81152]\n"
     ]
    },
    {
     "name": "stdout",
     "output_type": "stream",
     "text": [
      "loss: -0.85860 | bce: 0.03765 | dice: 0.87039 | 0 cls: 0.11412 | 1 cls: 0.16565 | 2 cls: 0.29104\n"
     ]
    },
    {
     "name": "stderr",
     "output_type": "stream",
     "text": [
      "Epoch 536, lr 6.220799999999998e-05: 100% 21/21 [00:10<00:00,  1.93it/s, 0 cls=0.15495, 1 cls=0.23198, 2 cls=0.32690, bce=0.06864, dice=0.85829, loss=-0.81463]\n"
     ]
    },
    {
     "name": "stdout",
     "output_type": "stream",
     "text": [
      "loss: -0.85789 | bce: 0.03807 | dice: 0.86994 | 0 cls: 0.11468 | 1 cls: 0.16649 | 2 cls: 0.29306\n"
     ]
    },
    {
     "name": "stderr",
     "output_type": "stream",
     "text": [
      "Epoch 537, lr 6.220799999999998e-05: 100% 21/21 [00:10<00:00,  1.95it/s, 0 cls=0.15362, 1 cls=0.23231, 2 cls=0.32418, bce=0.06814, dice=0.85901, loss=-0.81553]\n"
     ]
    },
    {
     "name": "stdout",
     "output_type": "stream",
     "text": [
      "loss: -0.85866 | bce: 0.03824 | dice: 0.87100 | 0 cls: 0.11366 | 1 cls: 0.16614 | 2 cls: 0.29109\n"
     ]
    },
    {
     "name": "stderr",
     "output_type": "stream",
     "text": [
      "Epoch 538, lr 6.220799999999998e-05: 100% 21/21 [00:10<00:00,  1.94it/s, 0 cls=0.15058, 1 cls=0.22411, 2 cls=0.31797, bce=0.06679, dice=0.86219, loss=-0.81991]\n"
     ]
    },
    {
     "name": "stdout",
     "output_type": "stream",
     "text": [
      "loss: -0.85836 | bce: 0.03811 | dice: 0.87044 | 0 cls: 0.11421 | 1 cls: 0.16600 | 2 cls: 0.29268\n"
     ]
    },
    {
     "name": "stderr",
     "output_type": "stream",
     "text": [
      "Epoch 539, lr 6.220799999999998e-05: 100% 21/21 [00:10<00:00,  1.93it/s, 0 cls=0.15689, 1 cls=0.23268, 2 cls=0.32839, bce=0.06909, dice=0.85738, loss=-0.81322]\n"
     ]
    },
    {
     "name": "stdout",
     "output_type": "stream",
     "text": [
      "loss: -0.85896 | bce: 0.03746 | dice: 0.87058 | 0 cls: 0.11375 | 1 cls: 0.16529 | 2 cls: 0.29093\n"
     ]
    },
    {
     "name": "stderr",
     "output_type": "stream",
     "text": [
      "Epoch 540, lr 6.220799999999998e-05: 100% 21/21 [00:11<00:00,  1.90it/s, 0 cls=0.15175, 1 cls=0.22863, 2 cls=0.32288, bce=0.06740, dice=0.86015, loss=-0.81769]\n"
     ]
    },
    {
     "name": "stdout",
     "output_type": "stream",
     "text": [
      "loss: -0.85873 | bce: 0.03777 | dice: 0.87054 | 0 cls: 0.11384 | 1 cls: 0.16578 | 2 cls: 0.29142\n"
     ]
    },
    {
     "name": "stderr",
     "output_type": "stream",
     "text": [
      "Epoch 541, lr 6.220799999999998e-05: 100% 21/21 [00:11<00:00,  1.91it/s, 0 cls=0.15309, 1 cls=0.22781, 2 cls=0.32310, bce=0.06791, dice=0.86006, loss=-0.81703]\n"
     ]
    },
    {
     "name": "stdout",
     "output_type": "stream",
     "text": [
      "loss: -0.85839 | bce: 0.03805 | dice: 0.87046 | 0 cls: 0.11405 | 1 cls: 0.16651 | 2 cls: 0.29150\n"
     ]
    },
    {
     "name": "stderr",
     "output_type": "stream",
     "text": [
      "Epoch 542, lr 6.220799999999998e-05: 100% 21/21 [00:10<00:00,  1.93it/s, 0 cls=0.15213, 1 cls=0.22656, 2 cls=0.31961, bce=0.06695, dice=0.86079, loss=-0.81828]\n"
     ]
    },
    {
     "name": "stdout",
     "output_type": "stream",
     "text": [
      "loss: -0.85834 | bce: 0.03796 | dice: 0.87039 | 0 cls: 0.11425 | 1 cls: 0.16626 | 2 cls: 0.29162\n"
     ]
    },
    {
     "name": "stderr",
     "output_type": "stream",
     "text": [
      "Epoch 543, lr 6.220799999999998e-05: 100% 21/21 [00:11<00:00,  1.84it/s, 0 cls=0.14900, 1 cls=0.22630, 2 cls=0.31873, bce=0.06598, dice=0.86149, loss=-0.82025]\n"
     ]
    },
    {
     "name": "stdout",
     "output_type": "stream",
     "text": [
      "loss: -0.85796 | bce: 0.03790 | dice: 0.86977 | 0 cls: 0.11412 | 1 cls: 0.16762 | 2 cls: 0.29273\n"
     ]
    },
    {
     "name": "stderr",
     "output_type": "stream",
     "text": [
      "Epoch 544, lr 6.220799999999998e-05: 100% 21/21 [00:10<00:00,  1.91it/s, 0 cls=0.15516, 1 cls=0.22957, 2 cls=0.32523, bce=0.06886, dice=0.85924, loss=-0.81517]\n"
     ]
    },
    {
     "name": "stdout",
     "output_type": "stream",
     "text": [
      "loss: -0.85793 | bce: 0.03783 | dice: 0.86962 | 0 cls: 0.11426 | 1 cls: 0.16755 | 2 cls: 0.29246\n"
     ]
    },
    {
     "name": "stderr",
     "output_type": "stream",
     "text": [
      "Epoch 545, lr 6.220799999999998e-05: 100% 21/21 [00:11<00:00,  1.85it/s, 0 cls=0.15547, 1 cls=0.22997, 2 cls=0.32626, bce=0.06796, dice=0.85801, loss=-0.81500]\n"
     ]
    },
    {
     "name": "stdout",
     "output_type": "stream",
     "text": [
      "loss: -0.85846 | bce: 0.03761 | dice: 0.87012 | 0 cls: 0.11413 | 1 cls: 0.16630 | 2 cls: 0.29178\n"
     ]
    },
    {
     "name": "stderr",
     "output_type": "stream",
     "text": [
      "Epoch 546, lr 6.220799999999998e-05: 100% 21/21 [00:10<00:00,  1.96it/s, 0 cls=0.14868, 1 cls=0.22361, 2 cls=0.31549, bce=0.06638, dice=0.86332, loss=-0.82134]\n"
     ]
    },
    {
     "name": "stdout",
     "output_type": "stream",
     "text": [
      "loss: -0.85906 | bce: 0.03767 | dice: 0.87094 | 0 cls: 0.11373 | 1 cls: 0.16505 | 2 cls: 0.29042\n"
     ]
    },
    {
     "name": "stderr",
     "output_type": "stream",
     "text": [
      "Epoch 547, lr 6.220799999999998e-05: 100% 21/21 [00:10<00:00,  1.93it/s, 0 cls=0.15532, 1 cls=0.22763, 2 cls=0.32336, bce=0.06849, dice=0.85988, loss=-0.81587]\n"
     ]
    },
    {
     "name": "stdout",
     "output_type": "stream",
     "text": [
      "loss: -0.85828 | bce: 0.03762 | dice: 0.86989 | 0 cls: 0.11432 | 1 cls: 0.16645 | 2 cls: 0.29204\n"
     ]
    },
    {
     "name": "stderr",
     "output_type": "stream",
     "text": [
      "Epoch 548, lr 6.220799999999998e-05: 100% 21/21 [00:10<00:00,  1.93it/s, 0 cls=0.15463, 1 cls=0.22699, 2 cls=0.32180, bce=0.06734, dice=0.85960, loss=-0.81667]\n"
     ]
    },
    {
     "name": "stdout",
     "output_type": "stream",
     "text": [
      "loss: -0.85851 | bce: 0.03755 | dice: 0.87014 | 0 cls: 0.11409 | 1 cls: 0.16609 | 2 cls: 0.29152\n"
     ]
    },
    {
     "name": "stderr",
     "output_type": "stream",
     "text": [
      "Epoch 549, lr 6.220799999999998e-05: 100% 21/21 [00:11<00:00,  1.90it/s, 0 cls=0.15507, 1 cls=0.22927, 2 cls=0.32276, bce=0.06815, dice=0.85928, loss=-0.81557]\n"
     ]
    },
    {
     "name": "stdout",
     "output_type": "stream",
     "text": [
      "loss: -0.85770 | bce: 0.03785 | dice: 0.86948 | 0 cls: 0.11461 | 1 cls: 0.16760 | 2 cls: 0.29319\n"
     ]
    },
    {
     "name": "stderr",
     "output_type": "stream",
     "text": [
      "Epoch 550, lr 6.220799999999998e-05: 100% 21/21 [00:10<00:00,  1.93it/s, 0 cls=0.15224, 1 cls=0.22914, 2 cls=0.32300, bce=0.06802, dice=0.86022, loss=-0.81714]\n"
     ]
    },
    {
     "name": "stdout",
     "output_type": "stream",
     "text": [
      "loss: -0.85855 | bce: 0.03804 | dice: 0.87063 | 0 cls: 0.11423 | 1 cls: 0.16576 | 2 cls: 0.29134\n"
     ]
    },
    {
     "name": "stderr",
     "output_type": "stream",
     "text": [
      "Epoch 551, lr 6.220799999999998e-05: 100% 21/21 [00:11<00:00,  1.89it/s, 0 cls=0.15273, 1 cls=0.22811, 2 cls=0.32188, bce=0.06804, dice=0.86071, loss=-0.81731]\n"
     ]
    },
    {
     "name": "stdout",
     "output_type": "stream",
     "text": [
      "loss: -0.85786 | bce: 0.03765 | dice: 0.86942 | 0 cls: 0.11468 | 1 cls: 0.16697 | 2 cls: 0.29305\n"
     ]
    },
    {
     "name": "stderr",
     "output_type": "stream",
     "text": [
      "Epoch 552, lr 6.220799999999998e-05: 100% 21/21 [00:11<00:00,  1.89it/s, 0 cls=0.15290, 1 cls=0.22934, 2 cls=0.32394, bce=0.06827, dice=0.85987, loss=-0.81661]\n"
     ]
    },
    {
     "name": "stdout",
     "output_type": "stream",
     "text": [
      "loss: -0.85807 | bce: 0.03809 | dice: 0.87009 | 0 cls: 0.11434 | 1 cls: 0.16693 | 2 cls: 0.29235\n"
     ]
    },
    {
     "name": "stderr",
     "output_type": "stream",
     "text": [
      "Epoch 553, lr 6.220799999999998e-05: 100% 21/21 [00:10<00:00,  1.91it/s, 0 cls=0.14939, 1 cls=0.22411, 2 cls=0.31635, bce=0.06578, dice=0.86223, loss=-0.82082]\n"
     ]
    },
    {
     "name": "stdout",
     "output_type": "stream",
     "text": [
      "loss: -0.85832 | bce: 0.03812 | dice: 0.87047 | 0 cls: 0.11406 | 1 cls: 0.16647 | 2 cls: 0.29210\n"
     ]
    },
    {
     "name": "stderr",
     "output_type": "stream",
     "text": [
      "Epoch 554, lr 6.220799999999998e-05: 100% 21/21 [00:10<00:00,  1.91it/s, 0 cls=0.15014, 1 cls=0.22583, 2 cls=0.31695, bce=0.06709, dice=0.86265, loss=-0.81979]\n"
     ]
    },
    {
     "name": "stdout",
     "output_type": "stream",
     "text": [
      "loss: -0.85876 | bce: 0.03784 | dice: 0.87082 | 0 cls: 0.11362 | 1 cls: 0.16601 | 2 cls: 0.29099\n"
     ]
    },
    {
     "name": "stderr",
     "output_type": "stream",
     "text": [
      "Epoch 555, lr 6.220799999999998e-05: 100% 21/21 [00:10<00:00,  1.93it/s, 0 cls=0.15167, 1 cls=0.22600, 2 cls=0.32027, bce=0.06687, dice=0.86093, loss=-0.81870]\n"
     ]
    },
    {
     "name": "stdout",
     "output_type": "stream",
     "text": [
      "loss: -0.85815 | bce: 0.03797 | dice: 0.87001 | 0 cls: 0.11422 | 1 cls: 0.16663 | 2 cls: 0.29297\n"
     ]
    },
    {
     "name": "stderr",
     "output_type": "stream",
     "text": [
      "Epoch 556, lr 6.220799999999998e-05: 100% 21/21 [00:10<00:00,  1.91it/s, 0 cls=0.14878, 1 cls=0.22269, 2 cls=0.31568, bce=0.06614, dice=0.86306, loss=-0.82144]\n"
     ]
    },
    {
     "name": "stdout",
     "output_type": "stream",
     "text": [
      "loss: -0.85793 | bce: 0.03832 | dice: 0.87003 | 0 cls: 0.11450 | 1 cls: 0.16659 | 2 cls: 0.29366\n"
     ]
    },
    {
     "name": "stderr",
     "output_type": "stream",
     "text": [
      "Epoch 557, lr 6.220799999999998e-05: 100% 21/21 [00:10<00:00,  1.91it/s, 0 cls=0.15103, 1 cls=0.22643, 2 cls=0.31921, bce=0.06694, dice=0.86142, loss=-0.81897]\n"
     ]
    },
    {
     "name": "stdout",
     "output_type": "stream",
     "text": [
      "loss: -0.85839 | bce: 0.03785 | dice: 0.87020 | 0 cls: 0.11414 | 1 cls: 0.16605 | 2 cls: 0.29255\n"
     ]
    },
    {
     "name": "stderr",
     "output_type": "stream",
     "text": [
      "Epoch 558, lr 6.220799999999998e-05: 100% 21/21 [00:10<00:00,  1.92it/s, 0 cls=0.15791, 1 cls=0.23526, 2 cls=0.33042, bce=0.07061, dice=0.85740, loss=-0.81176]\n"
     ]
    },
    {
     "name": "stdout",
     "output_type": "stream",
     "text": [
      "loss: -0.85790 | bce: 0.03710 | dice: 0.86895 | 0 cls: 0.11495 | 1 cls: 0.16609 | 2 cls: 0.29375\n"
     ]
    },
    {
     "name": "stderr",
     "output_type": "stream",
     "text": [
      "Epoch 559, lr 6.220799999999998e-05: 100% 21/21 [00:10<00:00,  1.91it/s, 0 cls=0.15155, 1 cls=0.22684, 2 cls=0.32046, bce=0.06662, dice=0.86048, loss=-0.81852]\n"
     ]
    },
    {
     "name": "stdout",
     "output_type": "stream",
     "text": [
      "loss: -0.85870 | bce: 0.03794 | dice: 0.87070 | 0 cls: 0.11399 | 1 cls: 0.16512 | 2 cls: 0.29188\n"
     ]
    },
    {
     "name": "stderr",
     "output_type": "stream",
     "text": [
      "Epoch 560, lr 6.220799999999998e-05: 100% 21/21 [00:11<00:00,  1.88it/s, 0 cls=0.15451, 1 cls=0.23118, 2 cls=0.32549, bce=0.06866, dice=0.85905, loss=-0.81525]\n"
     ]
    },
    {
     "name": "stdout",
     "output_type": "stream",
     "text": [
      "loss: -0.85813 | bce: 0.03788 | dice: 0.87000 | 0 cls: 0.11429 | 1 cls: 0.16663 | 2 cls: 0.29267\n"
     ]
    },
    {
     "name": "stderr",
     "output_type": "stream",
     "text": [
      "Epoch 561, lr 6.220799999999998e-05: 100% 21/21 [00:10<00:00,  1.94it/s, 0 cls=0.14738, 1 cls=0.22062, 2 cls=0.31403, bce=0.06503, dice=0.86358, loss=-0.82301]\n"
     ]
    },
    {
     "name": "stdout",
     "output_type": "stream",
     "text": [
      "loss: -0.85809 | bce: 0.03823 | dice: 0.87023 | 0 cls: 0.11436 | 1 cls: 0.16655 | 2 cls: 0.29261\n"
     ]
    },
    {
     "name": "stderr",
     "output_type": "stream",
     "text": [
      "Epoch 562, lr 6.220799999999998e-05: 100% 21/21 [00:11<00:00,  1.87it/s, 0 cls=0.15437, 1 cls=0.22791, 2 cls=0.32131, bce=0.06761, dice=0.85985, loss=-0.81656]\n"
     ]
    },
    {
     "name": "stdout",
     "output_type": "stream",
     "text": [
      "loss: -0.85833 | bce: 0.03771 | dice: 0.86998 | 0 cls: 0.11459 | 1 cls: 0.16570 | 2 cls: 0.29223\n"
     ]
    },
    {
     "name": "stderr",
     "output_type": "stream",
     "text": [
      "Epoch 563, lr 6.220799999999998e-05: 100% 21/21 [00:10<00:00,  1.94it/s, 0 cls=0.15328, 1 cls=0.23103, 2 cls=0.32439, bce=0.06808, dice=0.85929, loss=-0.81607]\n"
     ]
    },
    {
     "name": "stdout",
     "output_type": "stream",
     "text": [
      "loss: -0.85856 | bce: 0.03767 | dice: 0.87027 | 0 cls: 0.11439 | 1 cls: 0.16541 | 2 cls: 0.29167\n"
     ]
    },
    {
     "name": "stderr",
     "output_type": "stream",
     "text": [
      "Epoch 564, lr 6.220799999999998e-05: 100% 21/21 [00:10<00:00,  1.95it/s, 0 cls=0.15195, 1 cls=0.22712, 2 cls=0.32076, bce=0.06776, dice=0.86122, loss=-0.81809]\n"
     ]
    },
    {
     "name": "stdout",
     "output_type": "stream",
     "text": [
      "loss: -0.85760 | bce: 0.03754 | dice: 0.86914 | 0 cls: 0.11528 | 1 cls: 0.16661 | 2 cls: 0.29366\n"
     ]
    },
    {
     "name": "stderr",
     "output_type": "stream",
     "text": [
      "Epoch 565, lr 6.220799999999998e-05: 100% 21/21 [00:10<00:00,  1.92it/s, 0 cls=0.15219, 1 cls=0.22936, 2 cls=0.32351, bce=0.06761, dice=0.85985, loss=-0.81719]\n"
     ]
    },
    {
     "name": "stdout",
     "output_type": "stream",
     "text": [
      "loss: -0.85753 | bce: 0.03794 | dice: 0.86933 | 0 cls: 0.11508 | 1 cls: 0.16721 | 2 cls: 0.29329\n"
     ]
    },
    {
     "name": "stderr",
     "output_type": "stream",
     "text": [
      "Epoch 566, lr 6.220799999999998e-05: 100% 21/21 [00:10<00:00,  1.92it/s, 0 cls=0.15412, 1 cls=0.23018, 2 cls=0.32393, bce=0.06820, dice=0.85940, loss=-0.81589]\n"
     ]
    },
    {
     "name": "stdout",
     "output_type": "stream",
     "text": [
      "loss: -0.85713 | bce: 0.03754 | dice: 0.86859 | 0 cls: 0.11568 | 1 cls: 0.16738 | 2 cls: 0.29418\n"
     ]
    },
    {
     "name": "stderr",
     "output_type": "stream",
     "text": [
      "Epoch 567, lr 6.220799999999998e-05: 100% 21/21 [00:10<00:00,  1.91it/s, 0 cls=0.15216, 1 cls=0.22476, 2 cls=0.31798, bce=0.06669, dice=0.86138, loss=-0.81888]\n"
     ]
    },
    {
     "name": "stdout",
     "output_type": "stream",
     "text": [
      "loss: -0.85756 | bce: 0.03779 | dice: 0.86938 | 0 cls: 0.11506 | 1 cls: 0.16700 | 2 cls: 0.29330\n"
     ]
    },
    {
     "name": "stderr",
     "output_type": "stream",
     "text": [
      "Epoch 568, lr 6.220799999999998e-05: 100% 21/21 [00:11<00:00,  1.90it/s, 0 cls=0.15302, 1 cls=0.22749, 2 cls=0.32112, bce=0.06758, dice=0.86048, loss=-0.81742]\n"
     ]
    },
    {
     "name": "stdout",
     "output_type": "stream",
     "text": [
      "loss: -0.85784 | bce: 0.03786 | dice: 0.86971 | 0 cls: 0.11481 | 1 cls: 0.16660 | 2 cls: 0.29249\n"
     ]
    },
    {
     "name": "stderr",
     "output_type": "stream",
     "text": [
      "Epoch 569, lr 6.220799999999998e-05: 100% 21/21 [00:11<00:00,  1.85it/s, 0 cls=0.15790, 1 cls=0.23489, 2 cls=0.33100, bce=0.06923, dice=0.85612, loss=-0.81191]\n"
     ]
    },
    {
     "name": "stdout",
     "output_type": "stream",
     "text": [
      "loss: -0.85796 | bce: 0.03730 | dice: 0.86935 | 0 cls: 0.11499 | 1 cls: 0.16611 | 2 cls: 0.29277\n"
     ]
    },
    {
     "name": "stderr",
     "output_type": "stream",
     "text": [
      "Epoch 570, lr 6.220799999999998e-05: 100% 21/21 [00:10<00:00,  1.91it/s, 0 cls=0.15386, 1 cls=0.22807, 2 cls=0.32317, bce=0.06924, dice=0.86094, loss=-0.81645]\n"
     ]
    },
    {
     "name": "stdout",
     "output_type": "stream",
     "text": [
      "loss: -0.85754 | bce: 0.03702 | dice: 0.86851 | 0 cls: 0.11560 | 1 cls: 0.16628 | 2 cls: 0.29415\n"
     ]
    },
    {
     "name": "stderr",
     "output_type": "stream",
     "text": [
      "Epoch 571, lr 6.220799999999998e-05: 100% 21/21 [00:10<00:00,  1.91it/s, 0 cls=0.15729, 1 cls=0.23176, 2 cls=0.32702, bce=0.06827, dice=0.85718, loss=-0.81355]\n"
     ]
    },
    {
     "name": "stdout",
     "output_type": "stream",
     "text": [
      "loss: -0.85724 | bce: 0.03775 | dice: 0.86873 | 0 cls: 0.11554 | 1 cls: 0.16727 | 2 cls: 0.29478\n"
     ]
    },
    {
     "name": "stderr",
     "output_type": "stream",
     "text": [
      "Epoch 572, lr 6.220799999999998e-05: 100% 21/21 [00:10<00:00,  1.93it/s, 0 cls=0.15271, 1 cls=0.22979, 2 cls=0.32245, bce=0.06783, dice=0.86001, loss=-0.81686]\n"
     ]
    },
    {
     "name": "stdout",
     "output_type": "stream",
     "text": [
      "loss: -0.85794 | bce: 0.03750 | dice: 0.86940 | 0 cls: 0.11516 | 1 cls: 0.16605 | 2 cls: 0.29260\n"
     ]
    },
    {
     "name": "stderr",
     "output_type": "stream",
     "text": [
      "Epoch 573, lr 6.220799999999998e-05: 100% 21/21 [00:10<00:00,  1.92it/s, 0 cls=0.15191, 1 cls=0.22742, 2 cls=0.31970, bce=0.06745, dice=0.86110, loss=-0.81810]\n"
     ]
    },
    {
     "name": "stdout",
     "output_type": "stream",
     "text": [
      "loss: -0.85852 | bce: 0.03802 | dice: 0.87066 | 0 cls: 0.11414 | 1 cls: 0.16568 | 2 cls: 0.29172\n"
     ]
    },
    {
     "name": "stderr",
     "output_type": "stream",
     "text": [
      "Epoch 574, lr 6.220799999999998e-05: 100% 21/21 [00:10<00:00,  1.93it/s, 0 cls=0.15166, 1 cls=0.22565, 2 cls=0.32191, bce=0.06798, dice=0.86151, loss=-0.81851]\n"
     ]
    },
    {
     "name": "stdout",
     "output_type": "stream",
     "text": [
      "loss: -0.85821 | bce: 0.03752 | dice: 0.86971 | 0 cls: 0.11455 | 1 cls: 0.16642 | 2 cls: 0.29230\n"
     ]
    },
    {
     "name": "stderr",
     "output_type": "stream",
     "text": [
      "Epoch 575, lr 6.220799999999998e-05: 100% 21/21 [00:10<00:00,  1.93it/s, 0 cls=0.15352, 1 cls=0.23007, 2 cls=0.32357, bce=0.06823, dice=0.85972, loss=-0.81621]\n"
     ]
    },
    {
     "name": "stdout",
     "output_type": "stream",
     "text": [
      "loss: -0.85892 | bce: 0.03785 | dice: 0.87088 | 0 cls: 0.11410 | 1 cls: 0.16492 | 2 cls: 0.29065\n"
     ]
    },
    {
     "name": "stderr",
     "output_type": "stream",
     "text": [
      "Epoch 576, lr 6.220799999999998e-05: 100% 21/21 [00:11<00:00,  1.90it/s, 0 cls=0.15179, 1 cls=0.22623, 2 cls=0.32144, bce=0.06760, dice=0.86105, loss=-0.81832]\n"
     ]
    },
    {
     "name": "stdout",
     "output_type": "stream",
     "text": [
      "loss: -0.85771 | bce: 0.03827 | dice: 0.86964 | 0 cls: 0.11480 | 1 cls: 0.16709 | 2 cls: 0.29399\n"
     ]
    },
    {
     "name": "stderr",
     "output_type": "stream",
     "text": [
      "Epoch 577, lr 6.220799999999998e-05: 100% 21/21 [00:11<00:00,  1.89it/s, 0 cls=0.15475, 1 cls=0.23090, 2 cls=0.32516, bce=0.06791, dice=0.85842, loss=-0.81527]\n"
     ]
    },
    {
     "name": "stdout",
     "output_type": "stream",
     "text": [
      "loss: -0.85818 | bce: 0.03814 | dice: 0.87028 | 0 cls: 0.11441 | 1 cls: 0.16666 | 2 cls: 0.29185\n"
     ]
    },
    {
     "name": "stderr",
     "output_type": "stream",
     "text": [
      "Epoch 578, lr 6.220799999999998e-05: 100% 21/21 [00:11<00:00,  1.90it/s, 0 cls=0.15289, 1 cls=0.22911, 2 cls=0.32231, bce=0.06828, dice=0.86058, loss=-0.81695]\n"
     ]
    },
    {
     "name": "stdout",
     "output_type": "stream",
     "text": [
      "loss: -0.85789 | bce: 0.03769 | dice: 0.86947 | 0 cls: 0.11484 | 1 cls: 0.16682 | 2 cls: 0.29289\n"
     ]
    },
    {
     "name": "stderr",
     "output_type": "stream",
     "text": [
      "Epoch 579, lr 6.220799999999998e-05: 100% 21/21 [00:11<00:00,  1.89it/s, 0 cls=0.14888, 1 cls=0.22254, 2 cls=0.31571, bce=0.06583, dice=0.86292, loss=-0.82155]\n"
     ]
    },
    {
     "name": "stdout",
     "output_type": "stream",
     "text": [
      "loss: -0.85866 | bce: 0.03758 | dice: 0.87037 | 0 cls: 0.11442 | 1 cls: 0.16493 | 2 cls: 0.29161\n"
     ]
    },
    {
     "name": "stderr",
     "output_type": "stream",
     "text": [
      "Epoch 580, lr 6.220799999999998e-05: 100% 21/21 [00:10<00:00,  1.94it/s, 0 cls=0.15185, 1 cls=0.22933, 2 cls=0.32182, bce=0.06847, dice=0.86104, loss=-0.81738]\n"
     ]
    },
    {
     "name": "stdout",
     "output_type": "stream",
     "text": [
      "loss: -0.85759 | bce: 0.03772 | dice: 0.86948 | 0 cls: 0.11530 | 1 cls: 0.16658 | 2 cls: 0.29280\n"
     ]
    },
    {
     "name": "stderr",
     "output_type": "stream",
     "text": [
      "Epoch 581, lr 6.220799999999998e-05: 100% 21/21 [00:10<00:00,  1.92it/s, 0 cls=0.15102, 1 cls=0.22387, 2 cls=0.31727, bce=0.06623, dice=0.86179, loss=-0.81984]\n"
     ]
    },
    {
     "name": "stdout",
     "output_type": "stream",
     "text": [
      "loss: -0.85813 | bce: 0.03737 | dice: 0.86949 | 0 cls: 0.11482 | 1 cls: 0.16575 | 2 cls: 0.29276\n"
     ]
    },
    {
     "name": "stderr",
     "output_type": "stream",
     "text": [
      "Epoch 582, lr 6.220799999999998e-05: 100% 21/21 [00:10<00:00,  1.92it/s, 0 cls=0.15428, 1 cls=0.22922, 2 cls=0.32289, bce=0.06786, dice=0.85951, loss=-0.81617]\n"
     ]
    },
    {
     "name": "stdout",
     "output_type": "stream",
     "text": [
      "loss: -0.85849 | bce: 0.03767 | dice: 0.87038 | 0 cls: 0.11439 | 1 cls: 0.16572 | 2 cls: 0.29076\n"
     ]
    },
    {
     "name": "stderr",
     "output_type": "stream",
     "text": [
      "Epoch 583, lr 6.220799999999998e-05: 100% 21/21 [00:10<00:00,  1.91it/s, 0 cls=0.14965, 1 cls=0.22398, 2 cls=0.31710, bce=0.06672, dice=0.86265, loss=-0.82052]\n"
     ]
    },
    {
     "name": "stdout",
     "output_type": "stream",
     "text": [
      "loss: -0.85812 | bce: 0.03734 | dice: 0.86957 | 0 cls: 0.11493 | 1 cls: 0.16564 | 2 cls: 0.29279\n"
     ]
    },
    {
     "name": "stderr",
     "output_type": "stream",
     "text": [
      "Epoch 584, lr 6.220799999999998e-05: 100% 21/21 [00:11<00:00,  1.89it/s, 0 cls=0.15262, 1 cls=0.22680, 2 cls=0.32254, bce=0.06719, dice=0.86010, loss=-0.81772]\n"
     ]
    },
    {
     "name": "stdout",
     "output_type": "stream",
     "text": [
      "loss: -0.85796 | bce: 0.03780 | dice: 0.86966 | 0 cls: 0.11481 | 1 cls: 0.16630 | 2 cls: 0.29308\n"
     ]
    },
    {
     "name": "stderr",
     "output_type": "stream",
     "text": [
      "Epoch 585, lr 6.220799999999998e-05: 100% 21/21 [00:11<00:00,  1.90it/s, 0 cls=0.14986, 1 cls=0.22623, 2 cls=0.31827, bce=0.06744, dice=0.86250, loss=-0.81965]\n"
     ]
    },
    {
     "name": "stdout",
     "output_type": "stream",
     "text": [
      "loss: -0.85802 | bce: 0.03774 | dice: 0.86977 | 0 cls: 0.11465 | 1 cls: 0.16667 | 2 cls: 0.29215\n"
     ]
    },
    {
     "name": "stderr",
     "output_type": "stream",
     "text": [
      "Epoch 586, lr 6.220799999999998e-05: 100% 21/21 [00:10<00:00,  1.92it/s, 0 cls=0.15209, 1 cls=0.22591, 2 cls=0.31975, bce=0.06688, dice=0.86094, loss=-0.81850]\n"
     ]
    },
    {
     "name": "stdout",
     "output_type": "stream",
     "text": [
      "loss: -0.85769 | bce: 0.03767 | dice: 0.86930 | 0 cls: 0.11489 | 1 cls: 0.16707 | 2 cls: 0.29347\n"
     ]
    },
    {
     "name": "stderr",
     "output_type": "stream",
     "text": [
      "Epoch 587, lr 6.220799999999998e-05: 100% 21/21 [00:10<00:00,  1.95it/s, 0 cls=0.15303, 1 cls=0.22785, 2 cls=0.32292, bce=0.06780, dice=0.86012, loss=-0.81712]\n"
     ]
    },
    {
     "name": "stdout",
     "output_type": "stream",
     "text": [
      "loss: -0.85789 | bce: 0.03766 | dice: 0.86948 | 0 cls: 0.11482 | 1 cls: 0.16658 | 2 cls: 0.29308\n"
     ]
    },
    {
     "name": "stderr",
     "output_type": "stream",
     "text": [
      "Epoch 588, lr 6.220799999999998e-05: 100% 21/21 [00:11<00:00,  1.91it/s, 0 cls=0.15433, 1 cls=0.23171, 2 cls=0.32489, bce=0.06835, dice=0.85885, loss=-0.81527]\n"
     ]
    },
    {
     "name": "stdout",
     "output_type": "stream",
     "text": [
      "loss: -0.85814 | bce: 0.03732 | dice: 0.86957 | 0 cls: 0.11500 | 1 cls: 0.16559 | 2 cls: 0.29194\n"
     ]
    },
    {
     "name": "stderr",
     "output_type": "stream",
     "text": [
      "Epoch 589, lr 6.220799999999998e-05: 100% 21/21 [00:10<00:00,  1.96it/s, 0 cls=0.15258, 1 cls=0.22918, 2 cls=0.32222, bce=0.06771, dice=0.86014, loss=-0.81711]\n"
     ]
    },
    {
     "name": "stdout",
     "output_type": "stream",
     "text": [
      "loss: -0.85809 | bce: 0.03747 | dice: 0.86964 | 0 cls: 0.11486 | 1 cls: 0.16594 | 2 cls: 0.29242\n"
     ]
    },
    {
     "name": "stderr",
     "output_type": "stream",
     "text": [
      "Epoch 590, lr 0.00118098: 100% 21/21 [00:11<00:00,  1.88it/s, 0 cls=0.16507, 1 cls=0.24094, 2 cls=0.33937, bce=0.07226, dice=0.85260, loss=-0.80546]\n"
     ]
    },
    {
     "name": "stdout",
     "output_type": "stream",
     "text": [
      "loss: -0.84410 | bce: 0.04967 | dice: 0.86469 | 0 cls: 0.11863 | 1 cls: 0.20082 | 2 cls: 0.31367\n"
     ]
    },
    {
     "name": "stderr",
     "output_type": "stream",
     "text": [
      "Epoch 591, lr 0.00118098: 100% 21/21 [00:10<00:00,  1.93it/s, 0 cls=0.18437, 1 cls=0.26166, 2 cls=0.36271, bce=0.07997, dice=0.84190, loss=-0.78715]\n"
     ]
    },
    {
     "name": "stdout",
     "output_type": "stream",
     "text": [
      "loss: -0.85062 | bce: 0.03683 | dice: 0.86200 | 0 cls: 0.12240 | 1 cls: 0.17536 | 2 cls: 0.30285\n"
     ]
    },
    {
     "name": "stderr",
     "output_type": "stream",
     "text": [
      "Epoch 592, lr 0.000354294: 100% 21/21 [00:10<00:00,  1.91it/s, 0 cls=0.17932, 1 cls=0.26115, 2 cls=0.35990, bce=0.07603, dice=0.84134, loss=-0.79066]\n"
     ]
    },
    {
     "name": "stdout",
     "output_type": "stream",
     "text": [
      "loss: -0.85824 | bce: 0.04190 | dice: 0.87420 | 0 cls: 0.11376 | 1 cls: 0.16679 | 2 cls: 0.28815\n"
     ]
    },
    {
     "name": "stderr",
     "output_type": "stream",
     "text": [
      "Epoch 593, lr 0.000354294: 100% 21/21 [00:10<00:00,  1.92it/s, 0 cls=0.16389, 1 cls=0.24316, 2 cls=0.33822, bce=0.07204, dice=0.85282, loss=-0.80574]\n"
     ]
    },
    {
     "name": "stdout",
     "output_type": "stream",
     "text": [
      "loss: -0.85888 | bce: 0.03903 | dice: 0.87211 | 0 cls: 0.11231 | 1 cls: 0.16791 | 2 cls: 0.28961\n"
     ]
    },
    {
     "name": "stderr",
     "output_type": "stream",
     "text": [
      "Epoch 594, lr 0.00010628820000000001: 100% 21/21 [00:10<00:00,  1.92it/s, 0 cls=0.16043, 1 cls=0.23771, 2 cls=0.33470, bce=0.07001, dice=0.85436, loss=-0.80952]\n"
     ]
    },
    {
     "name": "stdout",
     "output_type": "stream",
     "text": [
      "loss: -0.85857 | bce: 0.03871 | dice: 0.87124 | 0 cls: 0.11338 | 1 cls: 0.16707 | 2 cls: 0.29093\n"
     ]
    },
    {
     "name": "stderr",
     "output_type": "stream",
     "text": [
      "Epoch 595, lr 0.00118098: 100% 21/21 [00:11<00:00,  1.88it/s, 0 cls=0.16972, 1 cls=0.24650, 2 cls=0.34503, bce=0.07312, dice=0.84916, loss=-0.80103]\n"
     ]
    },
    {
     "name": "stdout",
     "output_type": "stream",
     "text": [
      "loss: -0.85066 | bce: 0.04328 | dice: 0.86583 | 0 cls: 0.11440 | 1 cls: 0.18773 | 2 cls: 0.30711\n"
     ]
    },
    {
     "name": "stderr",
     "output_type": "stream",
     "text": [
      "Epoch 596, lr 0.00118098: 100% 21/21 [00:10<00:00,  1.92it/s, 0 cls=0.18251, 1 cls=0.26248, 2 cls=0.36327, bce=0.07837, dice=0.84126, loss=-0.78828]\n"
     ]
    },
    {
     "name": "stdout",
     "output_type": "stream",
     "text": [
      "loss: -0.85578 | bce: 0.04127 | dice: 0.86999 | 0 cls: 0.11593 | 1 cls: 0.17050 | 2 cls: 0.29815\n"
     ]
    },
    {
     "name": "stderr",
     "output_type": "stream",
     "text": [
      "Epoch 597, lr 0.000354294: 100% 21/21 [00:11<00:00,  1.89it/s, 0 cls=0.17238, 1 cls=0.25366, 2 cls=0.35156, bce=0.07525, dice=0.84688, loss=-0.79709]\n"
     ]
    },
    {
     "name": "stdout",
     "output_type": "stream",
     "text": [
      "loss: -0.85828 | bce: 0.03879 | dice: 0.87010 | 0 cls: 0.11273 | 1 cls: 0.16948 | 2 cls: 0.29362\n"
     ]
    },
    {
     "name": "stderr",
     "output_type": "stream",
     "text": [
      "Epoch 598, lr 0.000354294: 100% 21/21 [00:11<00:00,  1.90it/s, 0 cls=0.16488, 1 cls=0.24237, 2 cls=0.34084, bce=0.07195, dice=0.85178, loss=-0.80519]\n"
     ]
    },
    {
     "name": "stdout",
     "output_type": "stream",
     "text": [
      "loss: -0.85953 | bce: 0.03783 | dice: 0.87085 | 0 cls: 0.11318 | 1 cls: 0.16537 | 2 cls: 0.29023\n"
     ]
    },
    {
     "name": "stderr",
     "output_type": "stream",
     "text": [
      "Epoch 599, lr 0.00010628820000000001: 100% 21/21 [00:10<00:00,  1.93it/s, 0 cls=0.16049, 1 cls=0.23712, 2 cls=0.33338, bce=0.07100, dice=0.85554, loss=-0.80954]\n"
     ]
    },
    {
     "name": "stdout",
     "output_type": "stream",
     "text": [
      "loss: -0.85914 | bce: 0.03768 | dice: 0.87064 | 0 cls: 0.11322 | 1 cls: 0.16612 | 2 cls: 0.29181\n"
     ]
    },
    {
     "name": "stderr",
     "output_type": "stream",
     "text": [
      "Epoch 600, lr 3.732479999999999e-05: 100% 21/21 [00:10<00:00,  1.93it/s, 0 cls=0.16764, 1 cls=0.24098, 2 cls=0.33732, bce=0.07176, dice=0.85206, loss=-0.80450]\n"
     ]
    },
    {
     "name": "stdout",
     "output_type": "stream",
     "text": [
      "loss: -0.85883 | bce: 0.03791 | dice: 0.87038 | 0 cls: 0.11339 | 1 cls: 0.16681 | 2 cls: 0.29202\n"
     ]
    },
    {
     "name": "stderr",
     "output_type": "stream",
     "text": [
      "Epoch 601, lr 3.732479999999999e-05: 100% 21/21 [00:10<00:00,  1.94it/s, 0 cls=0.15909, 1 cls=0.23418, 2 cls=0.33019, bce=0.06918, dice=0.85588, loss=-0.81158]\n"
     ]
    },
    {
     "name": "stdout",
     "output_type": "stream",
     "text": [
      "loss: -0.85870 | bce: 0.03786 | dice: 0.87011 | 0 cls: 0.11375 | 1 cls: 0.16660 | 2 cls: 0.29256\n"
     ]
    },
    {
     "name": "stderr",
     "output_type": "stream",
     "text": [
      "Epoch 602, lr 3.732479999999999e-05: 100% 21/21 [00:11<00:00,  1.89it/s, 0 cls=0.16143, 1 cls=0.23879, 2 cls=0.33502, bce=0.07013, dice=0.85372, loss=-0.80862]\n"
     ]
    },
    {
     "name": "stdout",
     "output_type": "stream",
     "text": [
      "loss: -0.85885 | bce: 0.03807 | dice: 0.87046 | 0 cls: 0.11362 | 1 cls: 0.16643 | 2 cls: 0.29203\n"
     ]
    },
    {
     "name": "stderr",
     "output_type": "stream",
     "text": [
      "Epoch 603, lr 3.732479999999999e-05: 100% 21/21 [00:10<00:00,  1.92it/s, 0 cls=0.15907, 1 cls=0.23588, 2 cls=0.33057, bce=0.06976, dice=0.85596, loss=-0.81093]\n"
     ]
    },
    {
     "name": "stdout",
     "output_type": "stream",
     "text": [
      "loss: -0.85872 | bce: 0.03804 | dice: 0.87027 | 0 cls: 0.11365 | 1 cls: 0.16675 | 2 cls: 0.29237\n"
     ]
    },
    {
     "name": "stderr",
     "output_type": "stream",
     "text": [
      "Epoch 604, lr 3.732479999999999e-05: 100% 21/21 [00:11<00:00,  1.88it/s, 0 cls=0.15945, 1 cls=0.23293, 2 cls=0.32799, bce=0.06973, dice=0.85700, loss=-0.81173]\n"
     ]
    },
    {
     "name": "stdout",
     "output_type": "stream",
     "text": [
      "loss: -0.85880 | bce: 0.03801 | dice: 0.87043 | 0 cls: 0.11369 | 1 cls: 0.16631 | 2 cls: 0.29216\n"
     ]
    },
    {
     "name": "stderr",
     "output_type": "stream",
     "text": [
      "Epoch 605, lr 3.732479999999999e-05: 100% 21/21 [00:11<00:00,  1.87it/s, 0 cls=0.15482, 1 cls=0.23037, 2 cls=0.32508, bce=0.06842, dice=0.85885, loss=-0.81524]\n"
     ]
    },
    {
     "name": "stdout",
     "output_type": "stream",
     "text": [
      "loss: -0.85876 | bce: 0.03784 | dice: 0.87020 | 0 cls: 0.11365 | 1 cls: 0.16648 | 2 cls: 0.29263\n"
     ]
    },
    {
     "name": "stderr",
     "output_type": "stream",
     "text": [
      "Epoch 606, lr 3.732479999999999e-05: 100% 21/21 [00:10<00:00,  1.94it/s, 0 cls=0.15454, 1 cls=0.23085, 2 cls=0.32496, bce=0.06867, dice=0.85921, loss=-0.81530]\n"
     ]
    },
    {
     "name": "stdout",
     "output_type": "stream",
     "text": [
      "loss: -0.85897 | bce: 0.03776 | dice: 0.87031 | 0 cls: 0.11347 | 1 cls: 0.16629 | 2 cls: 0.29234\n"
     ]
    },
    {
     "name": "stderr",
     "output_type": "stream",
     "text": [
      "Epoch 607, lr 3.732479999999999e-05: 100% 21/21 [00:11<00:00,  1.91it/s, 0 cls=0.15807, 1 cls=0.23439, 2 cls=0.32890, bce=0.06878, dice=0.85621, loss=-0.81210]\n"
     ]
    },
    {
     "name": "stdout",
     "output_type": "stream",
     "text": [
      "loss: -0.85906 | bce: 0.03771 | dice: 0.87040 | 0 cls: 0.11339 | 1 cls: 0.16612 | 2 cls: 0.29202\n"
     ]
    },
    {
     "name": "stderr",
     "output_type": "stream",
     "text": [
      "Epoch 608, lr 3.732479999999999e-05: 100% 21/21 [00:11<00:00,  1.90it/s, 0 cls=0.15622, 1 cls=0.23027, 2 cls=0.32690, bce=0.06807, dice=0.85763, loss=-0.81443]\n"
     ]
    },
    {
     "name": "stdout",
     "output_type": "stream",
     "text": [
      "loss: -0.85897 | bce: 0.03810 | dice: 0.87062 | 0 cls: 0.11320 | 1 cls: 0.16680 | 2 cls: 0.29194\n"
     ]
    },
    {
     "name": "stderr",
     "output_type": "stream",
     "text": [
      "Epoch 609, lr 3.732479999999999e-05: 100% 21/21 [00:10<00:00,  1.93it/s, 0 cls=0.15986, 1 cls=0.23343, 2 cls=0.33001, bce=0.06983, dice=0.85637, loss=-0.81129]\n"
     ]
    },
    {
     "name": "stdout",
     "output_type": "stream",
     "text": [
      "loss: -0.85925 | bce: 0.03761 | dice: 0.87054 | 0 cls: 0.11322 | 1 cls: 0.16598 | 2 cls: 0.29166\n"
     ]
    },
    {
     "name": "stderr",
     "output_type": "stream",
     "text": [
      "Epoch 610, lr 3.732479999999999e-05: 100% 21/21 [00:10<00:00,  1.94it/s, 0 cls=0.15424, 1 cls=0.23015, 2 cls=0.32433, bce=0.06816, dice=0.85911, loss=-0.81573]\n"
     ]
    },
    {
     "name": "stdout",
     "output_type": "stream",
     "text": [
      "loss: -0.85900 | bce: 0.03773 | dice: 0.87032 | 0 cls: 0.11327 | 1 cls: 0.16668 | 2 cls: 0.29189\n"
     ]
    },
    {
     "name": "stderr",
     "output_type": "stream",
     "text": [
      "Epoch 611, lr 3.732479999999999e-05: 100% 21/21 [00:10<00:00,  1.92it/s, 0 cls=0.15593, 1 cls=0.23163, 2 cls=0.32638, bce=0.06928, dice=0.85862, loss=-0.81413]\n"
     ]
    },
    {
     "name": "stdout",
     "output_type": "stream",
     "text": [
      "loss: -0.85911 | bce: 0.03757 | dice: 0.87028 | 0 cls: 0.11352 | 1 cls: 0.16592 | 2 cls: 0.29219\n"
     ]
    },
    {
     "name": "stderr",
     "output_type": "stream",
     "text": [
      "Epoch 612, lr 3.732479999999999e-05: 100% 21/21 [00:10<00:00,  1.95it/s, 0 cls=0.16013, 1 cls=0.23330, 2 cls=0.32894, bce=0.06940, dice=0.85616, loss=-0.81125]\n"
     ]
    },
    {
     "name": "stdout",
     "output_type": "stream",
     "text": [
      "loss: -0.85913 | bce: 0.03760 | dice: 0.87038 | 0 cls: 0.11340 | 1 cls: 0.16602 | 2 cls: 0.29186\n"
     ]
    },
    {
     "name": "stderr",
     "output_type": "stream",
     "text": [
      "Epoch 613, lr 3.732479999999999e-05: 100% 21/21 [00:10<00:00,  1.93it/s, 0 cls=0.15779, 1 cls=0.23349, 2 cls=0.32755, bce=0.06916, dice=0.85724, loss=-0.81261]\n"
     ]
    },
    {
     "name": "stdout",
     "output_type": "stream",
     "text": [
      "loss: -0.85886 | bce: 0.03758 | dice: 0.87011 | 0 cls: 0.11353 | 1 cls: 0.16664 | 2 cls: 0.29201\n"
     ]
    },
    {
     "name": "stderr",
     "output_type": "stream",
     "text": [
      "Epoch 614, lr 3.732479999999999e-05: 100% 21/21 [00:11<00:00,  1.90it/s, 0 cls=0.15896, 1 cls=0.23202, 2 cls=0.32741, bce=0.06910, dice=0.85706, loss=-0.81241]\n"
     ]
    },
    {
     "name": "stdout",
     "output_type": "stream",
     "text": [
      "loss: -0.85927 | bce: 0.03750 | dice: 0.87054 | 0 cls: 0.11328 | 1 cls: 0.16591 | 2 cls: 0.29117\n"
     ]
    },
    {
     "name": "stderr",
     "output_type": "stream",
     "text": [
      "Epoch 615, lr 3.732479999999999e-05: 100% 21/21 [00:10<00:00,  1.93it/s, 0 cls=0.15480, 1 cls=0.22951, 2 cls=0.32411, bce=0.06775, dice=0.85879, loss=-0.81568]\n"
     ]
    },
    {
     "name": "stdout",
     "output_type": "stream",
     "text": [
      "loss: -0.85898 | bce: 0.03759 | dice: 0.87028 | 0 cls: 0.11331 | 1 cls: 0.16669 | 2 cls: 0.29181\n"
     ]
    },
    {
     "name": "stderr",
     "output_type": "stream",
     "text": [
      "Epoch 616, lr 3.732479999999999e-05: 100% 21/21 [00:11<00:00,  1.88it/s, 0 cls=0.16169, 1 cls=0.23741, 2 cls=0.33426, bce=0.07002, dice=0.85394, loss=-0.80888]\n"
     ]
    },
    {
     "name": "stdout",
     "output_type": "stream",
     "text": [
      "loss: -0.85898 | bce: 0.03729 | dice: 0.86994 | 0 cls: 0.11349 | 1 cls: 0.16643 | 2 cls: 0.29217\n"
     ]
    },
    {
     "name": "stderr",
     "output_type": "stream",
     "text": [
      "Epoch 617, lr 3.732479999999999e-05: 100% 21/21 [00:10<00:00,  1.93it/s, 0 cls=0.15508, 1 cls=0.22986, 2 cls=0.32493, bce=0.06797, dice=0.85856, loss=-0.81529]\n"
     ]
    },
    {
     "name": "stdout",
     "output_type": "stream",
     "text": [
      "loss: -0.85923 | bce: 0.03761 | dice: 0.87050 | 0 cls: 0.11314 | 1 cls: 0.16617 | 2 cls: 0.29147\n"
     ]
    },
    {
     "name": "stderr",
     "output_type": "stream",
     "text": [
      "Epoch 618, lr 3.732479999999999e-05: 100% 21/21 [00:11<00:00,  1.87it/s, 0 cls=0.15821, 1 cls=0.23132, 2 cls=0.32596, bce=0.06870, dice=0.85754, loss=-0.81321]\n"
     ]
    },
    {
     "name": "stdout",
     "output_type": "stream",
     "text": [
      "loss: -0.85958 | bce: 0.03757 | dice: 0.87094 | 0 cls: 0.11294 | 1 cls: 0.16557 | 2 cls: 0.29045\n"
     ]
    },
    {
     "name": "stderr",
     "output_type": "stream",
     "text": [
      "Epoch 619, lr 3.732479999999999e-05: 100% 21/21 [00:11<00:00,  1.89it/s, 0 cls=0.15783, 1 cls=0.23397, 2 cls=0.32736, bce=0.06854, dice=0.85665, loss=-0.81261]\n"
     ]
    },
    {
     "name": "stdout",
     "output_type": "stream",
     "text": [
      "loss: -0.85933 | bce: 0.03764 | dice: 0.87070 | 0 cls: 0.11311 | 1 cls: 0.16594 | 2 cls: 0.29106\n"
     ]
    },
    {
     "name": "stderr",
     "output_type": "stream",
     "text": [
      "Epoch 620, lr 3.732479999999999e-05: 100% 21/21 [00:11<00:00,  1.90it/s, 0 cls=0.16026, 1 cls=0.23660, 2 cls=0.33083, bce=0.07021, dice=0.85581, loss=-0.81018]\n"
     ]
    },
    {
     "name": "stdout",
     "output_type": "stream",
     "text": [
      "loss: -0.85917 | bce: 0.03770 | dice: 0.87055 | 0 cls: 0.11316 | 1 cls: 0.16633 | 2 cls: 0.29158\n"
     ]
    },
    {
     "name": "stderr",
     "output_type": "stream",
     "text": [
      "Epoch 621, lr 3.732479999999999e-05: 100% 21/21 [00:10<00:00,  1.91it/s, 0 cls=0.16091, 1 cls=0.23796, 2 cls=0.33186, bce=0.07027, dice=0.85502, loss=-0.80932]\n"
     ]
    },
    {
     "name": "stdout",
     "output_type": "stream",
     "text": [
      "loss: -0.85872 | bce: 0.03767 | dice: 0.86991 | 0 cls: 0.11358 | 1 cls: 0.16684 | 2 cls: 0.29286\n"
     ]
    },
    {
     "name": "stderr",
     "output_type": "stream",
     "text": [
      "Epoch 622, lr 3.732479999999999e-05: 100% 21/21 [00:10<00:00,  1.92it/s, 0 cls=0.16577, 1 cls=0.24052, 2 cls=0.33561, bce=0.07065, dice=0.85209, loss=-0.80584]\n"
     ]
    },
    {
     "name": "stdout",
     "output_type": "stream",
     "text": [
      "loss: -0.85935 | bce: 0.03757 | dice: 0.87062 | 0 cls: 0.11315 | 1 cls: 0.16576 | 2 cls: 0.29145\n"
     ]
    },
    {
     "name": "stderr",
     "output_type": "stream",
     "text": [
      "Epoch 623, lr 3.732479999999999e-05: 100% 21/21 [00:10<00:00,  1.91it/s, 0 cls=0.15466, 1 cls=0.23068, 2 cls=0.32487, bce=0.06802, dice=0.85857, loss=-0.81529]\n"
     ]
    },
    {
     "name": "stdout",
     "output_type": "stream",
     "text": [
      "loss: -0.85903 | bce: 0.03787 | dice: 0.87052 | 0 cls: 0.11323 | 1 cls: 0.16652 | 2 cls: 0.29212\n"
     ]
    },
    {
     "name": "stderr",
     "output_type": "stream",
     "text": [
      "Epoch 624, lr 3.732479999999999e-05: 100% 21/21 [00:10<00:00,  1.93it/s, 0 cls=0.15912, 1 cls=0.23302, 2 cls=0.32883, bce=0.06989, dice=0.85710, loss=-0.81185]\n"
     ]
    },
    {
     "name": "stdout",
     "output_type": "stream",
     "text": [
      "loss: -0.85886 | bce: 0.03797 | dice: 0.87053 | 0 cls: 0.11358 | 1 cls: 0.16653 | 2 cls: 0.29150\n"
     ]
    },
    {
     "name": "stderr",
     "output_type": "stream",
     "text": [
      "Epoch 625, lr 3.732479999999999e-05: 100% 21/21 [00:10<00:00,  1.93it/s, 0 cls=0.15027, 1 cls=0.22497, 2 cls=0.31875, bce=0.06664, dice=0.86174, loss=-0.81977]\n"
     ]
    },
    {
     "name": "stdout",
     "output_type": "stream",
     "text": [
      "loss: -0.85937 | bce: 0.03777 | dice: 0.87102 | 0 cls: 0.11304 | 1 cls: 0.16589 | 2 cls: 0.29050\n"
     ]
    },
    {
     "name": "stderr",
     "output_type": "stream",
     "text": [
      "Epoch 626, lr 3.732479999999999e-05: 100% 21/21 [00:10<00:00,  1.92it/s, 0 cls=0.15834, 1 cls=0.23371, 2 cls=0.32891, bce=0.06882, dice=0.85626, loss=-0.81220]\n"
     ]
    },
    {
     "name": "stdout",
     "output_type": "stream",
     "text": [
      "loss: -0.85897 | bce: 0.03765 | dice: 0.87034 | 0 cls: 0.11342 | 1 cls: 0.16637 | 2 cls: 0.29176\n"
     ]
    },
    {
     "name": "stderr",
     "output_type": "stream",
     "text": [
      "Epoch 627, lr 3.732479999999999e-05: 100% 21/21 [00:10<00:00,  1.93it/s, 0 cls=0.16066, 1 cls=0.23377, 2 cls=0.33096, bce=0.06944, dice=0.85544, loss=-0.81071]\n"
     ]
    },
    {
     "name": "stdout",
     "output_type": "stream",
     "text": [
      "loss: -0.85920 | bce: 0.03769 | dice: 0.87061 | 0 cls: 0.11337 | 1 cls: 0.16569 | 2 cls: 0.29128\n"
     ]
    },
    {
     "name": "stderr",
     "output_type": "stream",
     "text": [
      "Epoch 628, lr 3.732479999999999e-05: 100% 21/21 [00:11<00:00,  1.88it/s, 0 cls=0.15568, 1 cls=0.22829, 2 cls=0.32404, bce=0.06819, dice=0.85893, loss=-0.81543]\n"
     ]
    },
    {
     "name": "stdout",
     "output_type": "stream",
     "text": [
      "loss: -0.85887 | bce: 0.03793 | dice: 0.87044 | 0 cls: 0.11344 | 1 cls: 0.16666 | 2 cls: 0.29190\n"
     ]
    },
    {
     "name": "stderr",
     "output_type": "stream",
     "text": [
      "Epoch 629, lr 3.732479999999999e-05: 100% 21/21 [00:10<00:00,  1.92it/s, 0 cls=0.15528, 1 cls=0.23099, 2 cls=0.32435, bce=0.06818, dice=0.85858, loss=-0.81495]\n"
     ]
    },
    {
     "name": "stdout",
     "output_type": "stream",
     "text": [
      "loss: -0.85923 | bce: 0.03772 | dice: 0.87066 | 0 cls: 0.11320 | 1 cls: 0.16607 | 2 cls: 0.29155\n"
     ]
    },
    {
     "name": "stderr",
     "output_type": "stream",
     "text": [
      "Epoch 630, lr 3.732479999999999e-05: 100% 21/21 [00:11<00:00,  1.90it/s, 0 cls=0.15450, 1 cls=0.22901, 2 cls=0.32202, bce=0.06781, dice=0.85949, loss=-0.81606]\n"
     ]
    },
    {
     "name": "stdout",
     "output_type": "stream",
     "text": [
      "loss: -0.85948 | bce: 0.03805 | dice: 0.87124 | 0 cls: 0.11266 | 1 cls: 0.16633 | 2 cls: 0.29057\n"
     ]
    },
    {
     "name": "stderr",
     "output_type": "stream",
     "text": [
      "Epoch 631, lr 3.732479999999999e-05: 100% 21/21 [00:10<00:00,  1.94it/s, 0 cls=0.15603, 1 cls=0.23197, 2 cls=0.32317, bce=0.06790, dice=0.85813, loss=-0.81441]\n"
     ]
    },
    {
     "name": "stdout",
     "output_type": "stream",
     "text": [
      "loss: -0.85955 | bce: 0.03796 | dice: 0.87125 | 0 cls: 0.11270 | 1 cls: 0.16610 | 2 cls: 0.29072\n"
     ]
    },
    {
     "name": "stderr",
     "output_type": "stream",
     "text": [
      "Epoch 632, lr 3.732479999999999e-05: 100% 21/21 [00:10<00:00,  1.95it/s, 0 cls=0.15481, 1 cls=0.22897, 2 cls=0.32231, bce=0.06809, dice=0.85962, loss=-0.81590]\n"
     ]
    },
    {
     "name": "stdout",
     "output_type": "stream",
     "text": [
      "loss: -0.85959 | bce: 0.03780 | dice: 0.87116 | 0 cls: 0.11279 | 1 cls: 0.16580 | 2 cls: 0.29054\n"
     ]
    },
    {
     "name": "stderr",
     "output_type": "stream",
     "text": [
      "Epoch 633, lr 3.732479999999999e-05: 100% 21/21 [00:11<00:00,  1.88it/s, 0 cls=0.15820, 1 cls=0.23273, 2 cls=0.32626, bce=0.06917, dice=0.85745, loss=-0.81267]\n"
     ]
    },
    {
     "name": "stdout",
     "output_type": "stream",
     "text": [
      "loss: -0.85919 | bce: 0.03765 | dice: 0.87063 | 0 cls: 0.11325 | 1 cls: 0.16609 | 2 cls: 0.29119\n"
     ]
    },
    {
     "name": "stderr",
     "output_type": "stream",
     "text": [
      "Epoch 634, lr 3.732479999999999e-05: 100% 21/21 [00:11<00:00,  1.89it/s, 0 cls=0.15388, 1 cls=0.22859, 2 cls=0.32404, bce=0.06832, dice=0.85990, loss=-0.81640]\n"
     ]
    },
    {
     "name": "stdout",
     "output_type": "stream",
     "text": [
      "loss: -0.85959 | bce: 0.03773 | dice: 0.87119 | 0 cls: 0.11298 | 1 cls: 0.16532 | 2 cls: 0.29035\n"
     ]
    },
    {
     "name": "stderr",
     "output_type": "stream",
     "text": [
      "Epoch 635, lr 3.732479999999999e-05: 100% 21/21 [00:10<00:00,  1.91it/s, 0 cls=0.15183, 1 cls=0.22429, 2 cls=0.31793, bce=0.06627, dice=0.86129, loss=-0.81927]\n"
     ]
    },
    {
     "name": "stdout",
     "output_type": "stream",
     "text": [
      "loss: -0.85957 | bce: 0.03787 | dice: 0.87130 | 0 cls: 0.11272 | 1 cls: 0.16570 | 2 cls: 0.29033\n"
     ]
    },
    {
     "name": "stderr",
     "output_type": "stream",
     "text": [
      "Epoch 636, lr 3.732479999999999e-05: 100% 21/21 [00:10<00:00,  1.91it/s, 0 cls=0.15363, 1 cls=0.22731, 2 cls=0.32035, bce=0.06851, dice=0.86124, loss=-0.81701]\n"
     ]
    },
    {
     "name": "stdout",
     "output_type": "stream",
     "text": [
      "loss: -0.85990 | bce: 0.03752 | dice: 0.87141 | 0 cls: 0.11297 | 1 cls: 0.16436 | 2 cls: 0.28979\n"
     ]
    },
    {
     "name": "stderr",
     "output_type": "stream",
     "text": [
      "Epoch 637, lr 3.732479999999999e-05: 100% 21/21 [00:11<00:00,  1.90it/s, 0 cls=0.15301, 1 cls=0.22794, 2 cls=0.32170, bce=0.06760, dice=0.86030, loss=-0.81723]\n"
     ]
    },
    {
     "name": "stdout",
     "output_type": "stream",
     "text": [
      "loss: -0.85944 | bce: 0.03758 | dice: 0.87085 | 0 cls: 0.11313 | 1 cls: 0.16557 | 2 cls: 0.29055\n"
     ]
    },
    {
     "name": "stderr",
     "output_type": "stream",
     "text": [
      "Epoch 638, lr 3.732479999999999e-05: 100% 21/21 [00:11<00:00,  1.91it/s, 0 cls=0.15718, 1 cls=0.23542, 2 cls=0.33080, bce=0.06977, dice=0.85684, loss=-0.81215]\n"
     ]
    },
    {
     "name": "stdout",
     "output_type": "stream",
     "text": [
      "loss: -0.85901 | bce: 0.03750 | dice: 0.87023 | 0 cls: 0.11342 | 1 cls: 0.16633 | 2 cls: 0.29164\n"
     ]
    },
    {
     "name": "stderr",
     "output_type": "stream",
     "text": [
      "Epoch 639, lr 3.732479999999999e-05: 100% 21/21 [00:11<00:00,  1.91it/s, 0 cls=0.15360, 1 cls=0.22935, 2 cls=0.32405, bce=0.06702, dice=0.85864, loss=-0.81642]\n"
     ]
    },
    {
     "name": "stdout",
     "output_type": "stream",
     "text": [
      "loss: -0.85955 | bce: 0.03753 | dice: 0.87083 | 0 cls: 0.11300 | 1 cls: 0.16550 | 2 cls: 0.29074\n"
     ]
    },
    {
     "name": "stderr",
     "output_type": "stream",
     "text": [
      "Epoch 640, lr 3.732479999999999e-05: 100% 21/21 [00:11<00:00,  1.91it/s, 0 cls=0.15734, 1 cls=0.23152, 2 cls=0.32685, bce=0.06853, dice=0.85736, loss=-0.81353]\n"
     ]
    },
    {
     "name": "stdout",
     "output_type": "stream",
     "text": [
      "loss: -0.85952 | bce: 0.03792 | dice: 0.87125 | 0 cls: 0.11289 | 1 cls: 0.16565 | 2 cls: 0.29054\n"
     ]
    },
    {
     "name": "stderr",
     "output_type": "stream",
     "text": [
      "Epoch 641, lr 3.732479999999999e-05: 100% 21/21 [00:10<00:00,  1.92it/s, 0 cls=0.15382, 1 cls=0.23013, 2 cls=0.32387, bce=0.06862, dice=0.85985, loss=-0.81592]\n"
     ]
    },
    {
     "name": "stdout",
     "output_type": "stream",
     "text": [
      "loss: -0.85954 | bce: 0.03717 | dice: 0.87053 | 0 cls: 0.11326 | 1 cls: 0.16501 | 2 cls: 0.29092\n"
     ]
    },
    {
     "name": "stderr",
     "output_type": "stream",
     "text": [
      "Epoch 642, lr 3.732479999999999e-05: 100% 21/21 [00:10<00:00,  1.94it/s, 0 cls=0.15599, 1 cls=0.22957, 2 cls=0.32403, bce=0.06779, dice=0.85843, loss=-0.81508]\n"
     ]
    },
    {
     "name": "stdout",
     "output_type": "stream",
     "text": [
      "loss: -0.85950 | bce: 0.03747 | dice: 0.87081 | 0 cls: 0.11303 | 1 cls: 0.16550 | 2 cls: 0.29041\n"
     ]
    },
    {
     "name": "stderr",
     "output_type": "stream",
     "text": [
      "Epoch 643, lr 3.732479999999999e-05: 100% 21/21 [00:11<00:00,  1.90it/s, 0 cls=0.15347, 1 cls=0.22664, 2 cls=0.32281, bce=0.06799, dice=0.86028, loss=-0.81719]\n"
     ]
    },
    {
     "name": "stdout",
     "output_type": "stream",
     "text": [
      "loss: -0.85929 | bce: 0.03761 | dice: 0.87069 | 0 cls: 0.11314 | 1 cls: 0.16581 | 2 cls: 0.29124\n"
     ]
    },
    {
     "name": "stderr",
     "output_type": "stream",
     "text": [
      "Epoch 644, lr 3.732479999999999e-05: 100% 21/21 [00:10<00:00,  1.94it/s, 0 cls=0.15236, 1 cls=0.22635, 2 cls=0.31888, bce=0.06735, dice=0.86126, loss=-0.81823]\n"
     ]
    },
    {
     "name": "stdout",
     "output_type": "stream",
     "text": [
      "loss: -0.85943 | bce: 0.03771 | dice: 0.87097 | 0 cls: 0.11297 | 1 cls: 0.16566 | 2 cls: 0.29073\n"
     ]
    },
    {
     "name": "stderr",
     "output_type": "stream",
     "text": [
      "Epoch 645, lr 3.732479999999999e-05: 100% 21/21 [00:10<00:00,  1.93it/s, 0 cls=0.15691, 1 cls=0.23271, 2 cls=0.32654, bce=0.06888, dice=0.85786, loss=-0.81346]\n"
     ]
    },
    {
     "name": "stdout",
     "output_type": "stream",
     "text": [
      "loss: -0.85881 | bce: 0.03771 | dice: 0.87023 | 0 cls: 0.11347 | 1 cls: 0.16660 | 2 cls: 0.29234\n"
     ]
    },
    {
     "name": "stderr",
     "output_type": "stream",
     "text": [
      "Epoch 646, lr 3.732479999999999e-05: 100% 21/21 [00:10<00:00,  1.91it/s, 0 cls=0.15206, 1 cls=0.22751, 2 cls=0.31877, bce=0.06799, dice=0.86180, loss=-0.81803]\n"
     ]
    },
    {
     "name": "stdout",
     "output_type": "stream",
     "text": [
      "loss: -0.85918 | bce: 0.03774 | dice: 0.87072 | 0 cls: 0.11325 | 1 cls: 0.16594 | 2 cls: 0.29108\n"
     ]
    },
    {
     "name": "stderr",
     "output_type": "stream",
     "text": [
      "Epoch 647, lr 3.732479999999999e-05: 100% 21/21 [00:10<00:00,  1.93it/s, 0 cls=0.15553, 1 cls=0.22818, 2 cls=0.32500, bce=0.06856, dice=0.85928, loss=-0.81551]\n"
     ]
    },
    {
     "name": "stdout",
     "output_type": "stream",
     "text": [
      "loss: -0.85873 | bce: 0.03740 | dice: 0.86985 | 0 cls: 0.11377 | 1 cls: 0.16629 | 2 cls: 0.29258\n"
     ]
    },
    {
     "name": "stderr",
     "output_type": "stream",
     "text": [
      "Epoch 648, lr 3.732479999999999e-05: 100% 21/21 [00:10<00:00,  1.94it/s, 0 cls=0.14993, 1 cls=0.22453, 2 cls=0.31799, bce=0.06603, dice=0.86180, loss=-0.82033]\n"
     ]
    },
    {
     "name": "stdout",
     "output_type": "stream",
     "text": [
      "loss: -0.85904 | bce: 0.03771 | dice: 0.87040 | 0 cls: 0.11344 | 1 cls: 0.16605 | 2 cls: 0.29166\n"
     ]
    },
    {
     "name": "stderr",
     "output_type": "stream",
     "text": [
      "Epoch 649, lr 3.732479999999999e-05: 100% 21/21 [00:10<00:00,  1.95it/s, 0 cls=0.15075, 1 cls=0.22617, 2 cls=0.31819, bce=0.06730, dice=0.86208, loss=-0.81925]\n"
     ]
    },
    {
     "name": "stdout",
     "output_type": "stream",
     "text": [
      "loss: -0.85898 | bce: 0.03796 | dice: 0.87067 | 0 cls: 0.11352 | 1 cls: 0.16595 | 2 cls: 0.29176\n"
     ]
    },
    {
     "name": "stderr",
     "output_type": "stream",
     "text": [
      "Epoch 650, lr 3.732479999999999e-05: 100% 21/21 [00:10<00:00,  1.94it/s, 0 cls=0.15741, 1 cls=0.23252, 2 cls=0.32778, bce=0.06896, dice=0.85734, loss=-0.81304]\n"
     ]
    },
    {
     "name": "stdout",
     "output_type": "stream",
     "text": [
      "loss: -0.85913 | bce: 0.03744 | dice: 0.87041 | 0 cls: 0.11339 | 1 cls: 0.16589 | 2 cls: 0.29132\n"
     ]
    },
    {
     "name": "stderr",
     "output_type": "stream",
     "text": [
      "Epoch 651, lr 3.732479999999999e-05: 100% 21/21 [00:10<00:00,  1.95it/s, 0 cls=0.15483, 1 cls=0.22713, 2 cls=0.32352, bce=0.06749, dice=0.85906, loss=-0.81629]\n"
     ]
    },
    {
     "name": "stdout",
     "output_type": "stream",
     "text": [
      "loss: -0.85916 | bce: 0.03773 | dice: 0.87068 | 0 cls: 0.11336 | 1 cls: 0.16575 | 2 cls: 0.29115\n"
     ]
    },
    {
     "name": "stderr",
     "output_type": "stream",
     "text": [
      "Epoch 652, lr 3.732479999999999e-05: 100% 21/21 [00:10<00:00,  1.93it/s, 0 cls=0.15179, 1 cls=0.22563, 2 cls=0.31983, bce=0.06773, dice=0.86169, loss=-0.81858]\n"
     ]
    },
    {
     "name": "stdout",
     "output_type": "stream",
     "text": [
      "loss: -0.85901 | bce: 0.03775 | dice: 0.87048 | 0 cls: 0.11350 | 1 cls: 0.16599 | 2 cls: 0.29155\n"
     ]
    },
    {
     "name": "stderr",
     "output_type": "stream",
     "text": [
      "Epoch 653, lr 3.732479999999999e-05: 100% 21/21 [00:11<00:00,  1.91it/s, 0 cls=0.15442, 1 cls=0.22913, 2 cls=0.32308, bce=0.06772, dice=0.85919, loss=-0.81603]\n"
     ]
    },
    {
     "name": "stdout",
     "output_type": "stream",
     "text": [
      "loss: -0.85935 | bce: 0.03772 | dice: 0.87087 | 0 cls: 0.11329 | 1 cls: 0.16541 | 2 cls: 0.29072\n"
     ]
    },
    {
     "name": "stderr",
     "output_type": "stream",
     "text": [
      "Epoch 654, lr 3.732479999999999e-05: 100% 21/21 [00:11<00:00,  1.89it/s, 0 cls=0.15824, 1 cls=0.23150, 2 cls=0.32716, bce=0.06967, dice=0.85791, loss=-0.81287]\n"
     ]
    },
    {
     "name": "stdout",
     "output_type": "stream",
     "text": [
      "loss: -0.85899 | bce: 0.03759 | dice: 0.87030 | 0 cls: 0.11383 | 1 cls: 0.16560 | 2 cls: 0.29169\n"
     ]
    },
    {
     "name": "stderr",
     "output_type": "stream",
     "text": [
      "Epoch 655, lr 3.732479999999999e-05: 100% 21/21 [00:10<00:00,  1.92it/s, 0 cls=0.15840, 1 cls=0.23179, 2 cls=0.32774, bce=0.06832, dice=0.85641, loss=-0.81278]\n"
     ]
    },
    {
     "name": "stdout",
     "output_type": "stream",
     "text": [
      "loss: -0.85966 | bce: 0.03798 | dice: 0.87155 | 0 cls: 0.11309 | 1 cls: 0.16481 | 2 cls: 0.28985\n"
     ]
    },
    {
     "name": "stderr",
     "output_type": "stream",
     "text": [
      "Epoch 656, lr 3.732479999999999e-05: 100% 21/21 [00:10<00:00,  1.93it/s, 0 cls=0.15399, 1 cls=0.22804, 2 cls=0.32207, bce=0.06851, dice=0.86053, loss=-0.81654]\n"
     ]
    },
    {
     "name": "stdout",
     "output_type": "stream",
     "text": [
      "loss: -0.85900 | bce: 0.03776 | dice: 0.87057 | 0 cls: 0.11352 | 1 cls: 0.16595 | 2 cls: 0.29152\n"
     ]
    },
    {
     "name": "stderr",
     "output_type": "stream",
     "text": [
      "Epoch 657, lr 3.732479999999999e-05: 100% 21/21 [00:10<00:00,  1.93it/s, 0 cls=0.15327, 1 cls=0.22892, 2 cls=0.32273, bce=0.06798, dice=0.86015, loss=-0.81680]\n"
     ]
    },
    {
     "name": "stdout",
     "output_type": "stream",
     "text": [
      "loss: -0.85930 | bce: 0.03761 | dice: 0.87079 | 0 cls: 0.11340 | 1 cls: 0.16537 | 2 cls: 0.29076\n"
     ]
    },
    {
     "name": "stderr",
     "output_type": "stream",
     "text": [
      "Epoch 658, lr 3.732479999999999e-05: 100% 21/21 [00:11<00:00,  1.90it/s, 0 cls=0.15896, 1 cls=0.23209, 2 cls=0.32635, bce=0.06951, dice=0.85761, loss=-0.81231]\n"
     ]
    },
    {
     "name": "stdout",
     "output_type": "stream",
     "text": [
      "loss: -0.85876 | bce: 0.03690 | dice: 0.86947 | 0 cls: 0.11406 | 1 cls: 0.16585 | 2 cls: 0.29246\n"
     ]
    },
    {
     "name": "stderr",
     "output_type": "stream",
     "text": [
      "Epoch 659, lr 3.732479999999999e-05: 100% 21/21 [00:11<00:00,  1.88it/s, 0 cls=0.15586, 1 cls=0.23079, 2 cls=0.32540, bce=0.06767, dice=0.85772, loss=-0.81460]\n"
     ]
    },
    {
     "name": "stdout",
     "output_type": "stream",
     "text": [
      "loss: -0.85884 | bce: 0.03728 | dice: 0.86994 | 0 cls: 0.11384 | 1 cls: 0.16594 | 2 cls: 0.29176\n"
     ]
    },
    {
     "name": "stderr",
     "output_type": "stream",
     "text": [
      "Epoch 660, lr 3.732479999999999e-05: 100% 21/21 [00:10<00:00,  1.91it/s, 0 cls=0.14818, 1 cls=0.21882, 2 cls=0.31392, bce=0.06583, dice=0.86428, loss=-0.82305]\n"
     ]
    },
    {
     "name": "stdout",
     "output_type": "stream",
     "text": [
      "loss: -0.85943 | bce: 0.03765 | dice: 0.87101 | 0 cls: 0.11322 | 1 cls: 0.16527 | 2 cls: 0.29053\n"
     ]
    },
    {
     "name": "stderr",
     "output_type": "stream",
     "text": [
      "Epoch 661, lr 3.732479999999999e-05: 100% 21/21 [00:10<00:00,  1.91it/s, 0 cls=0.15723, 1 cls=0.23205, 2 cls=0.32504, bce=0.06794, dice=0.85724, loss=-0.81359]\n"
     ]
    },
    {
     "name": "stdout",
     "output_type": "stream",
     "text": [
      "loss: -0.85896 | bce: 0.03763 | dice: 0.87041 | 0 cls: 0.11351 | 1 cls: 0.16610 | 2 cls: 0.29187\n"
     ]
    },
    {
     "name": "stderr",
     "output_type": "stream",
     "text": [
      "Epoch 662, lr 3.732479999999999e-05: 100% 21/21 [00:11<00:00,  1.89it/s, 0 cls=0.15120, 1 cls=0.22796, 2 cls=0.32030, bce=0.06765, dice=0.86133, loss=-0.81829]\n"
     ]
    },
    {
     "name": "stdout",
     "output_type": "stream",
     "text": [
      "loss: -0.85915 | bce: 0.03761 | dice: 0.87066 | 0 cls: 0.11339 | 1 cls: 0.16576 | 2 cls: 0.29096\n"
     ]
    },
    {
     "name": "stderr",
     "output_type": "stream",
     "text": [
      "Epoch 663, lr 3.732479999999999e-05: 100% 21/21 [00:10<00:00,  1.92it/s, 0 cls=0.15461, 1 cls=0.22998, 2 cls=0.32543, bce=0.06790, dice=0.85852, loss=-0.81550]\n"
     ]
    },
    {
     "name": "stdout",
     "output_type": "stream",
     "text": [
      "loss: -0.85935 | bce: 0.03755 | dice: 0.87079 | 0 cls: 0.11320 | 1 cls: 0.16557 | 2 cls: 0.29086\n"
     ]
    },
    {
     "name": "stderr",
     "output_type": "stream",
     "text": [
      "Epoch 664, lr 3.732479999999999e-05: 100% 21/21 [00:10<00:00,  1.92it/s, 0 cls=0.15427, 1 cls=0.22913, 2 cls=0.32172, bce=0.06822, dice=0.86002, loss=-0.81615]\n"
     ]
    },
    {
     "name": "stdout",
     "output_type": "stream",
     "text": [
      "loss: -0.85883 | bce: 0.03767 | dice: 0.87035 | 0 cls: 0.11362 | 1 cls: 0.16615 | 2 cls: 0.29204\n"
     ]
    },
    {
     "name": "stderr",
     "output_type": "stream",
     "text": [
      "Epoch 665, lr 3.732479999999999e-05: 100% 21/21 [00:10<00:00,  1.94it/s, 0 cls=0.15245, 1 cls=0.23023, 2 cls=0.32257, bce=0.06813, dice=0.86029, loss=-0.81681]\n"
     ]
    },
    {
     "name": "stdout",
     "output_type": "stream",
     "text": [
      "loss: -0.85888 | bce: 0.03749 | dice: 0.87029 | 0 cls: 0.11366 | 1 cls: 0.16604 | 2 cls: 0.29128\n"
     ]
    },
    {
     "name": "stderr",
     "output_type": "stream",
     "text": [
      "Epoch 666, lr 3.732479999999999e-05: 100% 21/21 [00:11<00:00,  1.90it/s, 0 cls=0.15066, 1 cls=0.22666, 2 cls=0.31782, bce=0.06602, dice=0.86096, loss=-0.81929]\n"
     ]
    },
    {
     "name": "stdout",
     "output_type": "stream",
     "text": [
      "loss: -0.85940 | bce: 0.03770 | dice: 0.87109 | 0 cls: 0.11314 | 1 cls: 0.16546 | 2 cls: 0.29026\n"
     ]
    },
    {
     "name": "stderr",
     "output_type": "stream",
     "text": [
      "Epoch 667, lr 3.732479999999999e-05: 100% 21/21 [00:10<00:00,  1.91it/s, 0 cls=0.15439, 1 cls=0.23260, 2 cls=0.32559, bce=0.06810, dice=0.85839, loss=-0.81505]\n"
     ]
    },
    {
     "name": "stdout",
     "output_type": "stream",
     "text": [
      "loss: -0.85862 | bce: 0.03793 | dice: 0.87032 | 0 cls: 0.11373 | 1 cls: 0.16652 | 2 cls: 0.29253\n"
     ]
    },
    {
     "name": "stderr",
     "output_type": "stream",
     "text": [
      "Epoch 668, lr 3.732479999999999e-05: 100% 21/21 [00:10<00:00,  1.94it/s, 0 cls=0.15189, 1 cls=0.22688, 2 cls=0.32150, bce=0.06797, dice=0.86125, loss=-0.81808]\n"
     ]
    },
    {
     "name": "stdout",
     "output_type": "stream",
     "text": [
      "loss: -0.85906 | bce: 0.03782 | dice: 0.87072 | 0 cls: 0.11324 | 1 cls: 0.16632 | 2 cls: 0.29095\n"
     ]
    },
    {
     "name": "stderr",
     "output_type": "stream",
     "text": [
      "Epoch 669, lr 3.732479999999999e-05: 100% 21/21 [00:11<00:00,  1.89it/s, 0 cls=0.15796, 1 cls=0.23128, 2 cls=0.32813, bce=0.06962, dice=0.85783, loss=-0.81295]\n"
     ]
    },
    {
     "name": "stdout",
     "output_type": "stream",
     "text": [
      "loss: -0.85828 | bce: 0.03743 | dice: 0.86944 | 0 cls: 0.11420 | 1 cls: 0.16690 | 2 cls: 0.29316\n"
     ]
    },
    {
     "name": "stderr",
     "output_type": "stream",
     "text": [
      "Epoch 670, lr 3.732479999999999e-05: 100% 21/21 [00:11<00:00,  1.91it/s, 0 cls=0.15246, 1 cls=0.22713, 2 cls=0.31885, bce=0.06679, dice=0.86082, loss=-0.81817]\n"
     ]
    },
    {
     "name": "stdout",
     "output_type": "stream",
     "text": [
      "loss: -0.85934 | bce: 0.03783 | dice: 0.87113 | 0 cls: 0.11308 | 1 cls: 0.16567 | 2 cls: 0.29035\n"
     ]
    },
    {
     "name": "stderr",
     "output_type": "stream",
     "text": [
      "Epoch 671, lr 3.732479999999999e-05: 100% 21/21 [00:10<00:00,  1.92it/s, 0 cls=0.15165, 1 cls=0.22771, 2 cls=0.31885, bce=0.06738, dice=0.86133, loss=-0.81824]\n"
     ]
    },
    {
     "name": "stdout",
     "output_type": "stream",
     "text": [
      "loss: -0.85904 | bce: 0.03779 | dice: 0.87074 | 0 cls: 0.11335 | 1 cls: 0.16610 | 2 cls: 0.29083\n"
     ]
    },
    {
     "name": "stderr",
     "output_type": "stream",
     "text": [
      "Epoch 672, lr 3.732479999999999e-05: 100% 21/21 [00:11<00:00,  1.86it/s, 0 cls=0.15055, 1 cls=0.22401, 2 cls=0.31656, bce=0.06646, dice=0.86230, loss=-0.82008]\n"
     ]
    },
    {
     "name": "stdout",
     "output_type": "stream",
     "text": [
      "loss: -0.85879 | bce: 0.03795 | dice: 0.87063 | 0 cls: 0.11361 | 1 cls: 0.16609 | 2 cls: 0.29208\n"
     ]
    },
    {
     "name": "stderr",
     "output_type": "stream",
     "text": [
      "Epoch 673, lr 3.732479999999999e-05: 100% 21/21 [00:10<00:00,  1.96it/s, 0 cls=0.14862, 1 cls=0.22405, 2 cls=0.31697, bce=0.06658, dice=0.86297, loss=-0.82106]\n"
     ]
    },
    {
     "name": "stdout",
     "output_type": "stream",
     "text": [
      "loss: -0.85895 | bce: 0.03786 | dice: 0.87064 | 0 cls: 0.11318 | 1 cls: 0.16679 | 2 cls: 0.29116\n"
     ]
    },
    {
     "name": "stderr",
     "output_type": "stream",
     "text": [
      "Epoch 674, lr 3.732479999999999e-05: 100% 21/21 [00:11<00:00,  1.88it/s, 0 cls=0.15515, 1 cls=0.22990, 2 cls=0.32558, bce=0.06858, dice=0.85890, loss=-0.81515]\n"
     ]
    },
    {
     "name": "stdout",
     "output_type": "stream",
     "text": [
      "loss: -0.85953 | bce: 0.03740 | dice: 0.87090 | 0 cls: 0.11317 | 1 cls: 0.16513 | 2 cls: 0.29027\n"
     ]
    },
    {
     "name": "stderr",
     "output_type": "stream",
     "text": [
      "Epoch 675, lr 3.732479999999999e-05: 100% 21/21 [00:10<00:00,  1.92it/s, 0 cls=0.15127, 1 cls=0.22482, 2 cls=0.31805, bce=0.06669, dice=0.86179, loss=-0.81947]\n"
     ]
    },
    {
     "name": "stdout",
     "output_type": "stream",
     "text": [
      "loss: -0.85902 | bce: 0.03793 | dice: 0.87081 | 0 cls: 0.11350 | 1 cls: 0.16592 | 2 cls: 0.29089\n"
     ]
    },
    {
     "name": "stderr",
     "output_type": "stream",
     "text": [
      "Epoch 676, lr 3.732479999999999e-05: 100% 21/21 [00:10<00:00,  1.93it/s, 0 cls=0.15276, 1 cls=0.22681, 2 cls=0.32039, bce=0.06772, dice=0.86087, loss=-0.81769]\n"
     ]
    },
    {
     "name": "stdout",
     "output_type": "stream",
     "text": [
      "loss: -0.85918 | bce: 0.03782 | dice: 0.87093 | 0 cls: 0.11348 | 1 cls: 0.16547 | 2 cls: 0.29079\n"
     ]
    },
    {
     "name": "stderr",
     "output_type": "stream",
     "text": [
      "Epoch 677, lr 3.732479999999999e-05: 100% 21/21 [00:10<00:00,  1.92it/s, 0 cls=0.15055, 1 cls=0.22440, 2 cls=0.31685, bce=0.06638, dice=0.86209, loss=-0.81996]\n"
     ]
    },
    {
     "name": "stdout",
     "output_type": "stream",
     "text": [
      "loss: -0.85902 | bce: 0.03775 | dice: 0.87061 | 0 cls: 0.11344 | 1 cls: 0.16618 | 2 cls: 0.29115\n"
     ]
    },
    {
     "name": "stderr",
     "output_type": "stream",
     "text": [
      "Epoch 678, lr 3.732479999999999e-05: 100% 21/21 [00:10<00:00,  1.92it/s, 0 cls=0.15647, 1 cls=0.23162, 2 cls=0.32698, bce=0.06865, dice=0.85773, loss=-0.81386]\n"
     ]
    },
    {
     "name": "stdout",
     "output_type": "stream",
     "text": [
      "loss: -0.85921 | bce: 0.03755 | dice: 0.87070 | 0 cls: 0.11361 | 1 cls: 0.16522 | 2 cls: 0.29093\n"
     ]
    },
    {
     "name": "stderr",
     "output_type": "stream",
     "text": [
      "Epoch 679, lr 3.732479999999999e-05: 100% 21/21 [00:10<00:00,  1.93it/s, 0 cls=0.15388, 1 cls=0.22865, 2 cls=0.32002, bce=0.06807, dice=0.86074, loss=-0.81669]\n"
     ]
    },
    {
     "name": "stdout",
     "output_type": "stream",
     "text": [
      "loss: -0.85877 | bce: 0.03760 | dice: 0.87020 | 0 cls: 0.11399 | 1 cls: 0.16587 | 2 cls: 0.29172\n"
     ]
    },
    {
     "name": "stderr",
     "output_type": "stream",
     "text": [
      "Epoch 680, lr 3.732479999999999e-05: 100% 21/21 [00:11<00:00,  1.91it/s, 0 cls=0.15321, 1 cls=0.22888, 2 cls=0.32202, bce=0.06656, dice=0.85910, loss=-0.81702]\n"
     ]
    },
    {
     "name": "stdout",
     "output_type": "stream",
     "text": [
      "loss: -0.85904 | bce: 0.03751 | dice: 0.87053 | 0 cls: 0.11391 | 1 cls: 0.16525 | 2 cls: 0.29089\n"
     ]
    },
    {
     "name": "stderr",
     "output_type": "stream",
     "text": [
      "Epoch 681, lr 3.732479999999999e-05: 100% 21/21 [00:10<00:00,  1.92it/s, 0 cls=0.15568, 1 cls=0.23069, 2 cls=0.32468, bce=0.06868, dice=0.85888, loss=-0.81480]\n"
     ]
    },
    {
     "name": "stdout",
     "output_type": "stream",
     "text": [
      "loss: -0.85907 | bce: 0.03772 | dice: 0.87070 | 0 cls: 0.11382 | 1 cls: 0.16522 | 2 cls: 0.29105\n"
     ]
    },
    {
     "name": "stderr",
     "output_type": "stream",
     "text": [
      "Epoch 682, lr 3.732479999999999e-05: 100% 21/21 [00:10<00:00,  1.92it/s, 0 cls=0.14801, 1 cls=0.22152, 2 cls=0.31356, bce=0.06594, dice=0.86405, loss=-0.82244]\n"
     ]
    },
    {
     "name": "stdout",
     "output_type": "stream",
     "text": [
      "loss: -0.85868 | bce: 0.03769 | dice: 0.87014 | 0 cls: 0.11405 | 1 cls: 0.16583 | 2 cls: 0.29232\n"
     ]
    },
    {
     "name": "stderr",
     "output_type": "stream",
     "text": [
      "Epoch 683, lr 3.732479999999999e-05: 100% 21/21 [00:10<00:00,  1.93it/s, 0 cls=0.15060, 1 cls=0.22405, 2 cls=0.31761, bce=0.06718, dice=0.86257, loss=-0.81985]\n"
     ]
    },
    {
     "name": "stdout",
     "output_type": "stream",
     "text": [
      "loss: -0.85861 | bce: 0.03782 | dice: 0.87027 | 0 cls: 0.11406 | 1 cls: 0.16602 | 2 cls: 0.29219\n"
     ]
    },
    {
     "name": "stderr",
     "output_type": "stream",
     "text": [
      "Epoch 684, lr 3.732479999999999e-05: 100% 21/21 [00:11<00:00,  1.87it/s, 0 cls=0.15488, 1 cls=0.22732, 2 cls=0.32088, bce=0.06711, dice=0.85940, loss=-0.81650]\n"
     ]
    },
    {
     "name": "stdout",
     "output_type": "stream",
     "text": [
      "loss: -0.85919 | bce: 0.03782 | dice: 0.87103 | 0 cls: 0.11362 | 1 cls: 0.16514 | 2 cls: 0.29037\n"
     ]
    },
    {
     "name": "stderr",
     "output_type": "stream",
     "text": [
      "Epoch 685, lr 3.732479999999999e-05: 100% 21/21 [00:10<00:00,  1.93it/s, 0 cls=0.15339, 1 cls=0.23128, 2 cls=0.32284, bce=0.06808, dice=0.85954, loss=-0.81602]\n"
     ]
    },
    {
     "name": "stdout",
     "output_type": "stream",
     "text": [
      "loss: -0.85876 | bce: 0.03828 | dice: 0.87096 | 0 cls: 0.11371 | 1 cls: 0.16609 | 2 cls: 0.29146\n"
     ]
    },
    {
     "name": "stderr",
     "output_type": "stream",
     "text": [
      "Epoch 686, lr 3.732479999999999e-05: 100% 21/21 [00:10<00:00,  1.95it/s, 0 cls=0.15085, 1 cls=0.22606, 2 cls=0.32046, bce=0.06765, dice=0.86185, loss=-0.81898]\n"
     ]
    },
    {
     "name": "stdout",
     "output_type": "stream",
     "text": [
      "loss: -0.85915 | bce: 0.03791 | dice: 0.87101 | 0 cls: 0.11349 | 1 cls: 0.16556 | 2 cls: 0.29065\n"
     ]
    },
    {
     "name": "stderr",
     "output_type": "stream",
     "text": [
      "Epoch 687, lr 3.732479999999999e-05: 100% 21/21 [00:10<00:00,  1.93it/s, 0 cls=0.15622, 1 cls=0.23098, 2 cls=0.32506, bce=0.06868, dice=0.85859, loss=-0.81435]\n"
     ]
    },
    {
     "name": "stdout",
     "output_type": "stream",
     "text": [
      "loss: -0.85819 | bce: 0.03800 | dice: 0.86995 | 0 cls: 0.11424 | 1 cls: 0.16703 | 2 cls: 0.29245\n"
     ]
    },
    {
     "name": "stderr",
     "output_type": "stream",
     "text": [
      "Epoch 688, lr 3.732479999999999e-05: 100% 21/21 [00:11<00:00,  1.89it/s, 0 cls=0.15194, 1 cls=0.22664, 2 cls=0.31883, bce=0.06688, dice=0.86102, loss=-0.81845]\n"
     ]
    },
    {
     "name": "stdout",
     "output_type": "stream",
     "text": [
      "loss: -0.85895 | bce: 0.03785 | dice: 0.87073 | 0 cls: 0.11365 | 1 cls: 0.16571 | 2 cls: 0.29115\n"
     ]
    },
    {
     "name": "stderr",
     "output_type": "stream",
     "text": [
      "Epoch 689, lr 3.732479999999999e-05: 100% 21/21 [00:10<00:00,  1.92it/s, 0 cls=0.15737, 1 cls=0.23277, 2 cls=0.32607, bce=0.06878, dice=0.85763, loss=-0.81322]\n"
     ]
    },
    {
     "name": "stdout",
     "output_type": "stream",
     "text": [
      "loss: -0.85917 | bce: 0.03759 | dice: 0.87068 | 0 cls: 0.11368 | 1 cls: 0.16519 | 2 cls: 0.29086\n"
     ]
    },
    {
     "name": "stderr",
     "output_type": "stream",
     "text": [
      "Epoch 690, lr 0.001062882: 100% 21/21 [00:10<00:00,  1.93it/s, 0 cls=0.16103, 1 cls=0.23534, 2 cls=0.33385, bce=0.07119, dice=0.85561, loss=-0.80966]\n"
     ]
    },
    {
     "name": "stdout",
     "output_type": "stream",
     "text": [
      "loss: -0.86021 | bce: 0.04031 | dice: 0.87488 | 0 cls: 0.11178 | 1 cls: 0.16445 | 2 cls: 0.28679\n"
     ]
    },
    {
     "name": "stderr",
     "output_type": "stream",
     "text": [
      "Epoch 691, lr 0.001062882: 100% 21/21 [00:11<00:00,  1.90it/s, 0 cls=0.16658, 1 cls=0.24897, 2 cls=0.34568, bce=0.07390, dice=0.85031, loss=-0.80196]\n"
     ]
    },
    {
     "name": "stdout",
     "output_type": "stream",
     "text": [
      "loss: -0.85849 | bce: 0.03883 | dice: 0.87124 | 0 cls: 0.11455 | 1 cls: 0.16472 | 2 cls: 0.29087\n"
     ]
    },
    {
     "name": "stderr",
     "output_type": "stream",
     "text": [
      "Epoch 692, lr 0.0003188646: 100% 21/21 [00:10<00:00,  1.92it/s, 0 cls=0.16313, 1 cls=0.23980, 2 cls=0.33692, bce=0.07067, dice=0.85305, loss=-0.80728]\n"
     ]
    },
    {
     "name": "stdout",
     "output_type": "stream",
     "text": [
      "loss: -0.85646 | bce: 0.03688 | dice: 0.86663 | 0 cls: 0.11655 | 1 cls: 0.16751 | 2 cls: 0.29882\n"
     ]
    },
    {
     "name": "stderr",
     "output_type": "stream",
     "text": [
      "Epoch 693, lr 0.0003188646: 100% 21/21 [00:10<00:00,  1.92it/s, 0 cls=0.15880, 1 cls=0.23474, 2 cls=0.33237, bce=0.06990, dice=0.85584, loss=-0.81121]\n"
     ]
    },
    {
     "name": "stdout",
     "output_type": "stream",
     "text": [
      "loss: -0.85677 | bce: 0.03770 | dice: 0.86781 | 0 cls: 0.11439 | 1 cls: 0.17074 | 2 cls: 0.29608\n"
     ]
    },
    {
     "name": "stderr",
     "output_type": "stream",
     "text": [
      "Epoch 694, lr 9.565938e-05: 100% 21/21 [00:10<00:00,  1.92it/s, 0 cls=0.15413, 1 cls=0.23185, 2 cls=0.32566, bce=0.06709, dice=0.85775, loss=-0.81535]\n"
     ]
    },
    {
     "name": "stdout",
     "output_type": "stream",
     "text": [
      "loss: -0.85926 | bce: 0.03819 | dice: 0.87112 | 0 cls: 0.11280 | 1 cls: 0.16610 | 2 cls: 0.29159\n"
     ]
    },
    {
     "name": "stderr",
     "output_type": "stream",
     "text": [
      "Epoch 695, lr 0.001062882: 100% 21/21 [00:10<00:00,  1.93it/s, 0 cls=0.16743, 1 cls=0.24352, 2 cls=0.34068, bce=0.07322, dice=0.85179, loss=-0.80334]\n"
     ]
    },
    {
     "name": "stdout",
     "output_type": "stream",
     "text": [
      "loss: -0.85158 | bce: 0.03658 | dice: 0.86169 | 0 cls: 0.12224 | 1 cls: 0.17188 | 2 cls: 0.30529\n"
     ]
    },
    {
     "name": "stderr",
     "output_type": "stream",
     "text": [
      "Epoch 696, lr 0.001062882: 100% 21/21 [00:10<00:00,  1.96it/s, 0 cls=0.16801, 1 cls=0.24940, 2 cls=0.34659, bce=0.07432, dice=0.84978, loss=-0.80098]\n"
     ]
    },
    {
     "name": "stdout",
     "output_type": "stream",
     "text": [
      "loss: -0.85374 | bce: 0.03927 | dice: 0.86678 | 0 cls: 0.11784 | 1 cls: 0.17430 | 2 cls: 0.29902\n"
     ]
    },
    {
     "name": "stderr",
     "output_type": "stream",
     "text": [
      "Epoch 697, lr 0.0003188646: 100% 21/21 [00:11<00:00,  1.90it/s, 0 cls=0.16495, 1 cls=0.24092, 2 cls=0.33945, bce=0.07141, dice=0.85182, loss=-0.80577]\n"
     ]
    },
    {
     "name": "stdout",
     "output_type": "stream",
     "text": [
      "loss: -0.85736 | bce: 0.04030 | dice: 0.87111 | 0 cls: 0.11453 | 1 cls: 0.16730 | 2 cls: 0.29514\n"
     ]
    },
    {
     "name": "stderr",
     "output_type": "stream",
     "text": [
      "Epoch 698, lr 0.0003188646: 100% 21/21 [00:10<00:00,  1.92it/s, 0 cls=0.15841, 1 cls=0.23480, 2 cls=0.32844, bce=0.06967, dice=0.85700, loss=-0.81174]\n"
     ]
    },
    {
     "name": "stdout",
     "output_type": "stream",
     "text": [
      "loss: -0.85619 | bce: 0.03776 | dice: 0.86722 | 0 cls: 0.11670 | 1 cls: 0.16827 | 2 cls: 0.29698\n"
     ]
    },
    {
     "name": "stderr",
     "output_type": "stream",
     "text": [
      "Epoch 699, lr 9.565938e-05: 100% 21/21 [00:10<00:00,  1.95it/s, 0 cls=0.15820, 1 cls=0.23560, 2 cls=0.33071, bce=0.06910, dice=0.85577, loss=-0.81166]\n"
     ]
    },
    {
     "name": "stdout",
     "output_type": "stream",
     "text": [
      "loss: -0.85821 | bce: 0.03808 | dice: 0.86973 | 0 cls: 0.11472 | 1 cls: 0.16543 | 2 cls: 0.29412\n"
     ]
    },
    {
     "name": "stderr",
     "output_type": "stream",
     "text": [
      "Epoch 700, lr 2.2394879999999997e-05: 100% 21/21 [00:10<00:00,  1.92it/s, 0 cls=0.15609, 1 cls=0.23142, 2 cls=0.32706, bce=0.06919, dice=0.85830, loss=-0.81400]\n"
     ]
    },
    {
     "name": "stdout",
     "output_type": "stream",
     "text": [
      "loss: -0.85831 | bce: 0.03803 | dice: 0.86991 | 0 cls: 0.11451 | 1 cls: 0.16560 | 2 cls: 0.29371\n"
     ]
    },
    {
     "name": "stderr",
     "output_type": "stream",
     "text": [
      "Epoch 701, lr 2.2394879999999997e-05: 100% 21/21 [00:11<00:00,  1.84it/s, 0 cls=0.15614, 1 cls=0.23339, 2 cls=0.32681, bce=0.06842, dice=0.85739, loss=-0.81364]\n"
     ]
    },
    {
     "name": "stdout",
     "output_type": "stream",
     "text": [
      "loss: -0.85820 | bce: 0.03801 | dice: 0.86980 | 0 cls: 0.11441 | 1 cls: 0.16616 | 2 cls: 0.29382\n"
     ]
    },
    {
     "name": "stderr",
     "output_type": "stream",
     "text": [
      "Epoch 702, lr 2.2394879999999997e-05: 100% 21/21 [00:10<00:00,  1.93it/s, 0 cls=0.15406, 1 cls=0.22547, 2 cls=0.32322, bce=0.06790, dice=0.86012, loss=-0.81713]\n"
     ]
    },
    {
     "name": "stdout",
     "output_type": "stream",
     "text": [
      "loss: -0.85804 | bce: 0.03809 | dice: 0.86969 | 0 cls: 0.11442 | 1 cls: 0.16669 | 2 cls: 0.29393\n"
     ]
    },
    {
     "name": "stderr",
     "output_type": "stream",
     "text": [
      "Epoch 703, lr 2.2394879999999997e-05: 100% 21/21 [00:10<00:00,  1.93it/s, 0 cls=0.15339, 1 cls=0.22966, 2 cls=0.32193, bce=0.06746, dice=0.85970, loss=-0.81664]\n"
     ]
    },
    {
     "name": "stdout",
     "output_type": "stream",
     "text": [
      "loss: -0.85805 | bce: 0.03808 | dice: 0.86968 | 0 cls: 0.11445 | 1 cls: 0.16650 | 2 cls: 0.29426\n"
     ]
    },
    {
     "name": "stderr",
     "output_type": "stream",
     "text": [
      "Epoch 704, lr 2.2394879999999997e-05: 100% 21/21 [00:11<00:00,  1.90it/s, 0 cls=0.15832, 1 cls=0.23405, 2 cls=0.32746, bce=0.06948, dice=0.85723, loss=-0.81215]\n"
     ]
    },
    {
     "name": "stdout",
     "output_type": "stream",
     "text": [
      "loss: -0.85818 | bce: 0.03802 | dice: 0.86977 | 0 cls: 0.11436 | 1 cls: 0.16627 | 2 cls: 0.29392\n"
     ]
    },
    {
     "name": "stderr",
     "output_type": "stream",
     "text": [
      "Epoch 705, lr 2.2394879999999997e-05: 100% 21/21 [00:11<00:00,  1.89it/s, 0 cls=0.15847, 1 cls=0.23319, 2 cls=0.32955, bce=0.06956, dice=0.85672, loss=-0.81205]\n"
     ]
    },
    {
     "name": "stdout",
     "output_type": "stream",
     "text": [
      "loss: -0.85815 | bce: 0.03807 | dice: 0.86977 | 0 cls: 0.11441 | 1 cls: 0.16632 | 2 cls: 0.29380\n"
     ]
    },
    {
     "name": "stderr",
     "output_type": "stream",
     "text": [
      "Epoch 706, lr 2.2394879999999997e-05: 100% 21/21 [00:10<00:00,  1.93it/s, 0 cls=0.15490, 1 cls=0.23169, 2 cls=0.32615, bce=0.06870, dice=0.85853, loss=-0.81475]\n"
     ]
    },
    {
     "name": "stdout",
     "output_type": "stream",
     "text": [
      "loss: -0.85806 | bce: 0.03802 | dice: 0.86961 | 0 cls: 0.11448 | 1 cls: 0.16639 | 2 cls: 0.29430\n"
     ]
    },
    {
     "name": "stderr",
     "output_type": "stream",
     "text": [
      "Epoch 707, lr 2.2394879999999997e-05: 100% 21/21 [00:10<00:00,  1.93it/s, 0 cls=0.15088, 1 cls=0.22587, 2 cls=0.31899, bce=0.06660, dice=0.86132, loss=-0.81930]\n"
     ]
    },
    {
     "name": "stdout",
     "output_type": "stream",
     "text": [
      "loss: -0.85843 | bce: 0.03797 | dice: 0.87001 | 0 cls: 0.11413 | 1 cls: 0.16601 | 2 cls: 0.29342\n"
     ]
    },
    {
     "name": "stderr",
     "output_type": "stream",
     "text": [
      "Epoch 708, lr 2.2394879999999997e-05: 100% 21/21 [00:10<00:00,  1.92it/s, 0 cls=0.15391, 1 cls=0.23179, 2 cls=0.32379, bce=0.06809, dice=0.85902, loss=-0.81550]\n"
     ]
    },
    {
     "name": "stdout",
     "output_type": "stream",
     "text": [
      "loss: -0.85864 | bce: 0.03801 | dice: 0.87028 | 0 cls: 0.11407 | 1 cls: 0.16542 | 2 cls: 0.29313\n"
     ]
    },
    {
     "name": "stderr",
     "output_type": "stream",
     "text": [
      "Epoch 709, lr 2.2394879999999997e-05: 100% 21/21 [00:11<00:00,  1.85it/s, 0 cls=0.15693, 1 cls=0.23152, 2 cls=0.32737, bce=0.06938, dice=0.85806, loss=-0.81350]\n"
     ]
    },
    {
     "name": "stdout",
     "output_type": "stream",
     "text": [
      "loss: -0.85856 | bce: 0.03809 | dice: 0.87029 | 0 cls: 0.11415 | 1 cls: 0.16544 | 2 cls: 0.29326\n"
     ]
    },
    {
     "name": "stderr",
     "output_type": "stream",
     "text": [
      "Epoch 710, lr 2.2394879999999997e-05: 100% 21/21 [00:10<00:00,  1.94it/s, 0 cls=0.16113, 1 cls=0.23554, 2 cls=0.33015, bce=0.07078, dice=0.85626, loss=-0.80986]\n"
     ]
    },
    {
     "name": "stdout",
     "output_type": "stream",
     "text": [
      "loss: -0.85860 | bce: 0.03788 | dice: 0.87018 | 0 cls: 0.11417 | 1 cls: 0.16543 | 2 cls: 0.29271\n"
     ]
    },
    {
     "name": "stderr",
     "output_type": "stream",
     "text": [
      "Epoch 711, lr 2.2394879999999997e-05: 100% 21/21 [00:11<00:00,  1.89it/s, 0 cls=0.15516, 1 cls=0.22923, 2 cls=0.32162, bce=0.06813, dice=0.85971, loss=-0.81574]\n"
     ]
    },
    {
     "name": "stdout",
     "output_type": "stream",
     "text": [
      "loss: -0.85844 | bce: 0.03794 | dice: 0.86999 | 0 cls: 0.11431 | 1 cls: 0.16569 | 2 cls: 0.29329\n"
     ]
    },
    {
     "name": "stderr",
     "output_type": "stream",
     "text": [
      "Epoch 712, lr 2.2394879999999997e-05: 100% 21/21 [00:11<00:00,  1.90it/s, 0 cls=0.15578, 1 cls=0.23123, 2 cls=0.32680, bce=0.06823, dice=0.85781, loss=-0.81446]\n"
     ]
    },
    {
     "name": "stdout",
     "output_type": "stream",
     "text": [
      "loss: -0.85828 | bce: 0.03784 | dice: 0.86971 | 0 cls: 0.11455 | 1 cls: 0.16569 | 2 cls: 0.29377\n"
     ]
    },
    {
     "name": "stderr",
     "output_type": "stream",
     "text": [
      "Epoch 713, lr 2.2394879999999997e-05: 100% 21/21 [00:11<00:00,  1.86it/s, 0 cls=0.15631, 1 cls=0.23499, 2 cls=0.32825, bce=0.06963, dice=0.85767, loss=-0.81295]\n"
     ]
    },
    {
     "name": "stdout",
     "output_type": "stream",
     "text": [
      "loss: -0.85848 | bce: 0.03774 | dice: 0.86990 | 0 cls: 0.11446 | 1 cls: 0.16541 | 2 cls: 0.29289\n"
     ]
    },
    {
     "name": "stderr",
     "output_type": "stream",
     "text": [
      "Epoch 714, lr 2.2394879999999997e-05: 100% 21/21 [00:10<00:00,  1.92it/s, 0 cls=0.15226, 1 cls=0.22797, 2 cls=0.32202, bce=0.06701, dice=0.85991, loss=-0.81766]\n"
     ]
    },
    {
     "name": "stdout",
     "output_type": "stream",
     "text": [
      "loss: -0.85810 | bce: 0.03782 | dice: 0.86944 | 0 cls: 0.11457 | 1 cls: 0.16627 | 2 cls: 0.29422\n"
     ]
    },
    {
     "name": "stderr",
     "output_type": "stream",
     "text": [
      "Epoch 715, lr 2.2394879999999997e-05: 100% 21/21 [00:10<00:00,  1.93it/s, 0 cls=0.15225, 1 cls=0.22594, 2 cls=0.32092, bce=0.06727, dice=0.86069, loss=-0.81818]\n"
     ]
    },
    {
     "name": "stdout",
     "output_type": "stream",
     "text": [
      "loss: -0.85847 | bce: 0.03796 | dice: 0.87006 | 0 cls: 0.11431 | 1 cls: 0.16562 | 2 cls: 0.29319\n"
     ]
    },
    {
     "name": "stderr",
     "output_type": "stream",
     "text": [
      "Epoch 716, lr 2.2394879999999997e-05: 100% 21/21 [00:11<00:00,  1.90it/s, 0 cls=0.15707, 1 cls=0.23141, 2 cls=0.32754, bce=0.06921, dice=0.85789, loss=-0.81346]\n"
     ]
    },
    {
     "name": "stdout",
     "output_type": "stream",
     "text": [
      "loss: -0.85841 | bce: 0.03784 | dice: 0.86989 | 0 cls: 0.11445 | 1 cls: 0.16554 | 2 cls: 0.29325\n"
     ]
    },
    {
     "name": "stderr",
     "output_type": "stream",
     "text": [
      "Epoch 717, lr 2.2394879999999997e-05: 100% 21/21 [00:11<00:00,  1.87it/s, 0 cls=0.15707, 1 cls=0.23268, 2 cls=0.32665, bce=0.06808, dice=0.85692, loss=-0.81341]\n"
     ]
    },
    {
     "name": "stdout",
     "output_type": "stream",
     "text": [
      "loss: -0.85830 | bce: 0.03792 | dice: 0.86984 | 0 cls: 0.11451 | 1 cls: 0.16578 | 2 cls: 0.29349\n"
     ]
    },
    {
     "name": "stderr",
     "output_type": "stream",
     "text": [
      "Epoch 718, lr 2.2394879999999997e-05: 100% 21/21 [00:10<00:00,  1.92it/s, 0 cls=0.15664, 1 cls=0.23504, 2 cls=0.32883, bce=0.06928, dice=0.85712, loss=-0.81273]\n"
     ]
    },
    {
     "name": "stdout",
     "output_type": "stream",
     "text": [
      "loss: -0.85796 | bce: 0.03816 | dice: 0.86966 | 0 cls: 0.11465 | 1 cls: 0.16646 | 2 cls: 0.29423\n"
     ]
    },
    {
     "name": "stderr",
     "output_type": "stream",
     "text": [
      "Epoch 719, lr 2.2394879999999997e-05: 100% 21/21 [00:10<00:00,  1.94it/s, 0 cls=0.15769, 1 cls=0.23214, 2 cls=0.32977, bce=0.06876, dice=0.85660, loss=-0.81288]\n"
     ]
    },
    {
     "name": "stdout",
     "output_type": "stream",
     "text": [
      "loss: -0.85811 | bce: 0.03806 | dice: 0.86973 | 0 cls: 0.11456 | 1 cls: 0.16622 | 2 cls: 0.29394\n"
     ]
    },
    {
     "name": "stderr",
     "output_type": "stream",
     "text": [
      "Epoch 720, lr 2.2394879999999997e-05: 100% 21/21 [00:10<00:00,  1.92it/s, 0 cls=0.15312, 1 cls=0.22839, 2 cls=0.32101, bce=0.06717, dice=0.85989, loss=-0.81712]\n"
     ]
    },
    {
     "name": "stdout",
     "output_type": "stream",
     "text": [
      "loss: -0.85850 | bce: 0.03819 | dice: 0.87032 | 0 cls: 0.11419 | 1 cls: 0.16571 | 2 cls: 0.29297\n"
     ]
    },
    {
     "name": "stderr",
     "output_type": "stream",
     "text": [
      "Epoch 721, lr 2.2394879999999997e-05: 100% 21/21 [00:10<00:00,  1.95it/s, 0 cls=0.15791, 1 cls=0.23170, 2 cls=0.32550, bce=0.06958, dice=0.85837, loss=-0.81311]\n"
     ]
    },
    {
     "name": "stdout",
     "output_type": "stream",
     "text": [
      "loss: -0.85849 | bce: 0.03797 | dice: 0.87011 | 0 cls: 0.11432 | 1 cls: 0.16557 | 2 cls: 0.29310\n"
     ]
    },
    {
     "name": "stderr",
     "output_type": "stream",
     "text": [
      "Epoch 722, lr 2.2394879999999997e-05: 100% 21/21 [00:10<00:00,  1.95it/s, 0 cls=0.15214, 1 cls=0.22459, 2 cls=0.31817, bce=0.06722, dice=0.86184, loss=-0.81885]\n"
     ]
    },
    {
     "name": "stdout",
     "output_type": "stream",
     "text": [
      "loss: -0.85828 | bce: 0.03805 | dice: 0.86998 | 0 cls: 0.11434 | 1 cls: 0.16611 | 2 cls: 0.29333\n"
     ]
    },
    {
     "name": "stderr",
     "output_type": "stream",
     "text": [
      "Epoch 723, lr 2.2394879999999997e-05: 100% 21/21 [00:11<00:00,  1.87it/s, 0 cls=0.15635, 1 cls=0.23197, 2 cls=0.32607, bce=0.06815, dice=0.85749, loss=-0.81395]\n"
     ]
    },
    {
     "name": "stdout",
     "output_type": "stream",
     "text": [
      "loss: -0.85838 | bce: 0.03797 | dice: 0.87003 | 0 cls: 0.11431 | 1 cls: 0.16597 | 2 cls: 0.29319\n"
     ]
    },
    {
     "name": "stderr",
     "output_type": "stream",
     "text": [
      "Epoch 724, lr 2.2394879999999997e-05: 100% 21/21 [00:10<00:00,  1.91it/s, 0 cls=0.15553, 1 cls=0.23256, 2 cls=0.32579, bce=0.06925, dice=0.85878, loss=-0.81417]\n"
     ]
    },
    {
     "name": "stdout",
     "output_type": "stream",
     "text": [
      "loss: -0.85842 | bce: 0.03806 | dice: 0.87018 | 0 cls: 0.11424 | 1 cls: 0.16602 | 2 cls: 0.29282\n"
     ]
    },
    {
     "name": "stderr",
     "output_type": "stream",
     "text": [
      "Epoch 725, lr 2.2394879999999997e-05: 100% 21/21 [00:11<00:00,  1.90it/s, 0 cls=0.15428, 1 cls=0.23059, 2 cls=0.32375, bce=0.06754, dice=0.85874, loss=-0.81573]\n"
     ]
    },
    {
     "name": "stdout",
     "output_type": "stream",
     "text": [
      "loss: -0.85845 | bce: 0.03804 | dice: 0.87017 | 0 cls: 0.11424 | 1 cls: 0.16595 | 2 cls: 0.29290\n"
     ]
    },
    {
     "name": "stderr",
     "output_type": "stream",
     "text": [
      "Epoch 726, lr 2.2394879999999997e-05: 100% 21/21 [00:10<00:00,  1.92it/s, 0 cls=0.15239, 1 cls=0.23093, 2 cls=0.32188, bce=0.06721, dice=0.85956, loss=-0.81685]\n"
     ]
    },
    {
     "name": "stdout",
     "output_type": "stream",
     "text": [
      "loss: -0.85848 | bce: 0.03825 | dice: 0.87043 | 0 cls: 0.11415 | 1 cls: 0.16600 | 2 cls: 0.29255\n"
     ]
    },
    {
     "name": "stderr",
     "output_type": "stream",
     "text": [
      "Epoch 727, lr 2.2394879999999997e-05: 100% 21/21 [00:11<00:00,  1.88it/s, 0 cls=0.15710, 1 cls=0.23046, 2 cls=0.32567, bce=0.06876, dice=0.85810, loss=-0.81392]\n"
     ]
    },
    {
     "name": "stdout",
     "output_type": "stream",
     "text": [
      "loss: -0.85847 | bce: 0.03810 | dice: 0.87029 | 0 cls: 0.11420 | 1 cls: 0.16596 | 2 cls: 0.29268\n"
     ]
    },
    {
     "name": "stderr",
     "output_type": "stream",
     "text": [
      "Epoch 728, lr 2.2394879999999997e-05: 100% 21/21 [00:11<00:00,  1.88it/s, 0 cls=0.15929, 1 cls=0.23324, 2 cls=0.32767, bce=0.06976, dice=0.85744, loss=-0.81195]\n"
     ]
    },
    {
     "name": "stdout",
     "output_type": "stream",
     "text": [
      "loss: -0.85822 | bce: 0.03789 | dice: 0.86973 | 0 cls: 0.11456 | 1 cls: 0.16604 | 2 cls: 0.29348\n"
     ]
    },
    {
     "name": "stderr",
     "output_type": "stream",
     "text": [
      "Epoch 729, lr 2.2394879999999997e-05: 100% 21/21 [00:11<00:00,  1.90it/s, 0 cls=0.15191, 1 cls=0.22671, 2 cls=0.32082, bce=0.06621, dice=0.85989, loss=-0.81835]\n"
     ]
    },
    {
     "name": "stdout",
     "output_type": "stream",
     "text": [
      "loss: -0.85841 | bce: 0.03779 | dice: 0.86990 | 0 cls: 0.11440 | 1 cls: 0.16574 | 2 cls: 0.29321\n"
     ]
    },
    {
     "name": "stderr",
     "output_type": "stream",
     "text": [
      "Epoch 730, lr 2.2394879999999997e-05: 100% 21/21 [00:11<00:00,  1.86it/s, 0 cls=0.15263, 1 cls=0.22959, 2 cls=0.32096, bce=0.06785, dice=0.86045, loss=-0.81701]\n"
     ]
    },
    {
     "name": "stdout",
     "output_type": "stream",
     "text": [
      "loss: -0.85831 | bce: 0.03810 | dice: 0.87005 | 0 cls: 0.11434 | 1 cls: 0.16617 | 2 cls: 0.29328\n"
     ]
    },
    {
     "name": "stderr",
     "output_type": "stream",
     "text": [
      "Epoch 731, lr 2.2394879999999997e-05: 100% 21/21 [00:10<00:00,  1.92it/s, 0 cls=0.15331, 1 cls=0.22752, 2 cls=0.32338, bce=0.06810, dice=0.86020, loss=-0.81703]\n"
     ]
    },
    {
     "name": "stdout",
     "output_type": "stream",
     "text": [
      "loss: -0.85847 | bce: 0.03808 | dice: 0.87023 | 0 cls: 0.11421 | 1 cls: 0.16602 | 2 cls: 0.29274\n"
     ]
    },
    {
     "name": "stderr",
     "output_type": "stream",
     "text": [
      "Epoch 732, lr 2.2394879999999997e-05: 100% 21/21 [00:10<00:00,  1.91it/s, 0 cls=0.15740, 1 cls=0.23379, 2 cls=0.32801, bce=0.06927, dice=0.85729, loss=-0.81269]\n"
     ]
    },
    {
     "name": "stdout",
     "output_type": "stream",
     "text": [
      "loss: -0.85858 | bce: 0.03802 | dice: 0.87028 | 0 cls: 0.11422 | 1 cls: 0.16577 | 2 cls: 0.29238\n"
     ]
    },
    {
     "name": "stderr",
     "output_type": "stream",
     "text": [
      "Epoch 733, lr 2.2394879999999997e-05: 100% 21/21 [00:11<00:00,  1.87it/s, 0 cls=0.15465, 1 cls=0.22924, 2 cls=0.32329, bce=0.06803, dice=0.85928, loss=-0.81580]\n"
     ]
    },
    {
     "name": "stdout",
     "output_type": "stream",
     "text": [
      "loss: -0.85825 | bce: 0.03792 | dice: 0.86980 | 0 cls: 0.11441 | 1 cls: 0.16642 | 2 cls: 0.29340\n"
     ]
    },
    {
     "name": "stderr",
     "output_type": "stream",
     "text": [
      "Epoch 734, lr 2.2394879999999997e-05: 100% 21/21 [00:10<00:00,  1.91it/s, 0 cls=0.15124, 1 cls=0.22046, 2 cls=0.31713, bce=0.06612, dice=0.86226, loss=-0.82062]\n"
     ]
    },
    {
     "name": "stdout",
     "output_type": "stream",
     "text": [
      "loss: -0.85852 | bce: 0.03797 | dice: 0.87012 | 0 cls: 0.11422 | 1 cls: 0.16599 | 2 cls: 0.29272\n"
     ]
    },
    {
     "name": "stderr",
     "output_type": "stream",
     "text": [
      "Epoch 735, lr 2.2394879999999997e-05: 100% 21/21 [00:10<00:00,  1.95it/s, 0 cls=0.15932, 1 cls=0.23362, 2 cls=0.32894, bce=0.06908, dice=0.85614, loss=-0.81161]\n"
     ]
    },
    {
     "name": "stdout",
     "output_type": "stream",
     "text": [
      "loss: -0.85847 | bce: 0.03787 | dice: 0.86992 | 0 cls: 0.11438 | 1 cls: 0.16583 | 2 cls: 0.29310\n"
     ]
    },
    {
     "name": "stderr",
     "output_type": "stream",
     "text": [
      "Epoch 736, lr 2.2394879999999997e-05: 100% 21/21 [00:10<00:00,  1.97it/s, 0 cls=0.16090, 1 cls=0.23551, 2 cls=0.33009, bce=0.07052, dice=0.85611, loss=-0.81000]\n"
     ]
    },
    {
     "name": "stdout",
     "output_type": "stream",
     "text": [
      "loss: -0.85835 | bce: 0.03764 | dice: 0.86956 | 0 cls: 0.11461 | 1 cls: 0.16580 | 2 cls: 0.29355\n"
     ]
    },
    {
     "name": "stderr",
     "output_type": "stream",
     "text": [
      "Epoch 737, lr 2.2394879999999997e-05: 100% 21/21 [00:10<00:00,  1.93it/s, 0 cls=0.15263, 1 cls=0.23013, 2 cls=0.32266, bce=0.06720, dice=0.85929, loss=-0.81680]\n"
     ]
    },
    {
     "name": "stdout",
     "output_type": "stream",
     "text": [
      "loss: -0.85854 | bce: 0.03794 | dice: 0.87011 | 0 cls: 0.11430 | 1 cls: 0.16573 | 2 cls: 0.29302\n"
     ]
    },
    {
     "name": "stderr",
     "output_type": "stream",
     "text": [
      "Epoch 738, lr 2.2394879999999997e-05: 100% 21/21 [00:10<00:00,  1.94it/s, 0 cls=0.15644, 1 cls=0.23119, 2 cls=0.32595, bce=0.06889, dice=0.85827, loss=-0.81401]\n"
     ]
    },
    {
     "name": "stdout",
     "output_type": "stream",
     "text": [
      "loss: -0.85870 | bce: 0.03797 | dice: 0.87037 | 0 cls: 0.11414 | 1 cls: 0.16559 | 2 cls: 0.29225\n"
     ]
    },
    {
     "name": "stderr",
     "output_type": "stream",
     "text": [
      "Epoch 739, lr 2.2394879999999997e-05: 100% 21/21 [00:11<00:00,  1.87it/s, 0 cls=0.15340, 1 cls=0.22670, 2 cls=0.32009, bce=0.06689, dice=0.86022, loss=-0.81764]\n"
     ]
    },
    {
     "name": "stdout",
     "output_type": "stream",
     "text": [
      "loss: -0.85849 | bce: 0.03791 | dice: 0.87010 | 0 cls: 0.11425 | 1 cls: 0.16613 | 2 cls: 0.29245\n"
     ]
    },
    {
     "name": "stderr",
     "output_type": "stream",
     "text": [
      "Epoch 740, lr 2.2394879999999997e-05: 100% 21/21 [00:10<00:00,  1.92it/s, 0 cls=0.15716, 1 cls=0.23260, 2 cls=0.32752, bce=0.06922, dice=0.85761, loss=-0.81310]\n"
     ]
    },
    {
     "name": "stdout",
     "output_type": "stream",
     "text": [
      "loss: -0.85802 | bce: 0.03795 | dice: 0.86955 | 0 cls: 0.11464 | 1 cls: 0.16670 | 2 cls: 0.29377\n"
     ]
    },
    {
     "name": "stderr",
     "output_type": "stream",
     "text": [
      "Epoch 741, lr 2.2394879999999997e-05: 100% 21/21 [00:10<00:00,  1.92it/s, 0 cls=0.15356, 1 cls=0.22804, 2 cls=0.32278, bce=0.06762, dice=0.85969, loss=-0.81677]\n"
     ]
    },
    {
     "name": "stdout",
     "output_type": "stream",
     "text": [
      "loss: -0.85814 | bce: 0.03807 | dice: 0.86981 | 0 cls: 0.11459 | 1 cls: 0.16639 | 2 cls: 0.29363\n"
     ]
    },
    {
     "name": "stderr",
     "output_type": "stream",
     "text": [
      "Epoch 742, lr 2.2394879999999997e-05: 100% 21/21 [00:10<00:00,  1.91it/s, 0 cls=0.15548, 1 cls=0.23011, 2 cls=0.32345, bce=0.06767, dice=0.85850, loss=-0.81525]\n"
     ]
    },
    {
     "name": "stdout",
     "output_type": "stream",
     "text": [
      "loss: -0.85846 | bce: 0.03820 | dice: 0.87031 | 0 cls: 0.11418 | 1 cls: 0.16620 | 2 cls: 0.29275\n"
     ]
    },
    {
     "name": "stderr",
     "output_type": "stream",
     "text": [
      "Epoch 743, lr 2.2394879999999997e-05: 100% 21/21 [00:10<00:00,  1.93it/s, 0 cls=0.15355, 1 cls=0.23004, 2 cls=0.32209, bce=0.06883, dice=0.86071, loss=-0.81628]\n"
     ]
    },
    {
     "name": "stdout",
     "output_type": "stream",
     "text": [
      "loss: -0.85828 | bce: 0.03791 | dice: 0.86987 | 0 cls: 0.11429 | 1 cls: 0.16662 | 2 cls: 0.29312\n"
     ]
    },
    {
     "name": "stderr",
     "output_type": "stream",
     "text": [
      "Epoch 744, lr 2.2394879999999997e-05: 100% 21/21 [00:10<00:00,  1.91it/s, 0 cls=0.15364, 1 cls=0.22610, 2 cls=0.32094, bce=0.06724, dice=0.86023, loss=-0.81745]\n"
     ]
    },
    {
     "name": "stdout",
     "output_type": "stream",
     "text": [
      "loss: -0.85799 | bce: 0.03775 | dice: 0.86932 | 0 cls: 0.11473 | 1 cls: 0.16657 | 2 cls: 0.29428\n"
     ]
    },
    {
     "name": "stderr",
     "output_type": "stream",
     "text": [
      "Epoch 745, lr 2.2394879999999997e-05: 100% 21/21 [00:10<00:00,  1.94it/s, 0 cls=0.15387, 1 cls=0.22858, 2 cls=0.32090, bce=0.06767, dice=0.86013, loss=-0.81667]\n"
     ]
    },
    {
     "name": "stdout",
     "output_type": "stream",
     "text": [
      "loss: -0.85826 | bce: 0.03777 | dice: 0.86964 | 0 cls: 0.11443 | 1 cls: 0.16639 | 2 cls: 0.29356\n"
     ]
    },
    {
     "name": "stderr",
     "output_type": "stream",
     "text": [
      "Epoch 746, lr 2.2394879999999997e-05: 100% 21/21 [00:11<00:00,  1.90it/s, 0 cls=0.15602, 1 cls=0.23100, 2 cls=0.32493, bce=0.06858, dice=0.85852, loss=-0.81445]\n"
     ]
    },
    {
     "name": "stdout",
     "output_type": "stream",
     "text": [
      "loss: -0.85829 | bce: 0.03784 | dice: 0.86971 | 0 cls: 0.11434 | 1 cls: 0.16650 | 2 cls: 0.29352\n"
     ]
    },
    {
     "name": "stderr",
     "output_type": "stream",
     "text": [
      "Epoch 747, lr 2.2394879999999997e-05: 100% 21/21 [00:10<00:00,  1.94it/s, 0 cls=0.15586, 1 cls=0.23347, 2 cls=0.32796, bce=0.06909, dice=0.85788, loss=-0.81370]\n"
     ]
    },
    {
     "name": "stdout",
     "output_type": "stream",
     "text": [
      "loss: -0.85828 | bce: 0.03762 | dice: 0.86951 | 0 cls: 0.11448 | 1 cls: 0.16629 | 2 cls: 0.29353\n"
     ]
    },
    {
     "name": "stderr",
     "output_type": "stream",
     "text": [
      "Epoch 748, lr 2.2394879999999997e-05: 100% 21/21 [00:10<00:00,  1.91it/s, 0 cls=0.15794, 1 cls=0.23510, 2 cls=0.32690, bce=0.06891, dice=0.85684, loss=-0.81222]\n"
     ]
    },
    {
     "name": "stdout",
     "output_type": "stream",
     "text": [
      "loss: -0.85827 | bce: 0.03768 | dice: 0.86959 | 0 cls: 0.11445 | 1 cls: 0.16633 | 2 cls: 0.29338\n"
     ]
    },
    {
     "name": "stderr",
     "output_type": "stream",
     "text": [
      "Epoch 749, lr 2.2394879999999997e-05: 100% 21/21 [00:11<00:00,  1.88it/s, 0 cls=0.15780, 1 cls=0.23391, 2 cls=0.32801, bce=0.06915, dice=0.85714, loss=-0.81256]\n"
     ]
    },
    {
     "name": "stdout",
     "output_type": "stream",
     "text": [
      "loss: -0.85821 | bce: 0.03762 | dice: 0.86947 | 0 cls: 0.11468 | 1 cls: 0.16605 | 2 cls: 0.29369\n"
     ]
    },
    {
     "name": "stderr",
     "output_type": "stream",
     "text": [
      "Epoch 750, lr 2.2394879999999997e-05: 100% 21/21 [00:10<00:00,  1.95it/s, 0 cls=0.15038, 1 cls=0.22566, 2 cls=0.31857, bce=0.06654, dice=0.86158, loss=-0.81959]\n"
     ]
    },
    {
     "name": "stdout",
     "output_type": "stream",
     "text": [
      "loss: -0.85818 | bce: 0.03763 | dice: 0.86941 | 0 cls: 0.11467 | 1 cls: 0.16619 | 2 cls: 0.29374\n"
     ]
    },
    {
     "name": "stderr",
     "output_type": "stream",
     "text": [
      "Epoch 751, lr 2.2394879999999997e-05: 100% 21/21 [00:11<00:00,  1.90it/s, 0 cls=0.15203, 1 cls=0.22739, 2 cls=0.32115, bce=0.06734, dice=0.86060, loss=-0.81794]\n"
     ]
    },
    {
     "name": "stdout",
     "output_type": "stream",
     "text": [
      "loss: -0.85814 | bce: 0.03779 | dice: 0.86951 | 0 cls: 0.11471 | 1 cls: 0.16624 | 2 cls: 0.29379\n"
     ]
    },
    {
     "name": "stderr",
     "output_type": "stream",
     "text": [
      "Epoch 752, lr 2.2394879999999997e-05: 100% 21/21 [00:10<00:00,  1.94it/s, 0 cls=0.14845, 1 cls=0.22025, 2 cls=0.31374, bce=0.06531, dice=0.86351, loss=-0.82253]\n"
     ]
    },
    {
     "name": "stdout",
     "output_type": "stream",
     "text": [
      "loss: -0.85815 | bce: 0.03782 | dice: 0.86956 | 0 cls: 0.11465 | 1 cls: 0.16631 | 2 cls: 0.29376\n"
     ]
    },
    {
     "name": "stderr",
     "output_type": "stream",
     "text": [
      "Epoch 753, lr 2.2394879999999997e-05: 100% 21/21 [00:11<00:00,  1.86it/s, 0 cls=0.15926, 1 cls=0.23261, 2 cls=0.32898, bce=0.07044, dice=0.85750, loss=-0.81176]\n"
     ]
    },
    {
     "name": "stdout",
     "output_type": "stream",
     "text": [
      "loss: -0.85831 | bce: 0.03779 | dice: 0.86975 | 0 cls: 0.11450 | 1 cls: 0.16610 | 2 cls: 0.29326\n"
     ]
    },
    {
     "name": "stderr",
     "output_type": "stream",
     "text": [
      "Epoch 754, lr 2.2394879999999997e-05: 100% 21/21 [00:10<00:00,  1.91it/s, 0 cls=0.15339, 1 cls=0.22886, 2 cls=0.32173, bce=0.06780, dice=0.86003, loss=-0.81678]\n"
     ]
    },
    {
     "name": "stdout",
     "output_type": "stream",
     "text": [
      "loss: -0.85837 | bce: 0.03764 | dice: 0.86967 | 0 cls: 0.11442 | 1 cls: 0.16610 | 2 cls: 0.29301\n"
     ]
    },
    {
     "name": "stderr",
     "output_type": "stream",
     "text": [
      "Epoch 755, lr 2.2394879999999997e-05: 100% 21/21 [00:10<00:00,  1.92it/s, 0 cls=0.15263, 1 cls=0.23059, 2 cls=0.32214, bce=0.06731, dice=0.85958, loss=-0.81677]\n"
     ]
    },
    {
     "name": "stdout",
     "output_type": "stream",
     "text": [
      "loss: -0.85844 | bce: 0.03761 | dice: 0.86974 | 0 cls: 0.11433 | 1 cls: 0.16598 | 2 cls: 0.29309\n"
     ]
    },
    {
     "name": "stderr",
     "output_type": "stream",
     "text": [
      "Epoch 756, lr 2.2394879999999997e-05: 100% 21/21 [00:11<00:00,  1.83it/s, 0 cls=0.15154, 1 cls=0.22618, 2 cls=0.31926, bce=0.06701, dice=0.86129, loss=-0.81871]\n"
     ]
    },
    {
     "name": "stdout",
     "output_type": "stream",
     "text": [
      "loss: -0.85848 | bce: 0.03792 | dice: 0.87012 | 0 cls: 0.11420 | 1 cls: 0.16606 | 2 cls: 0.29270\n"
     ]
    },
    {
     "name": "stderr",
     "output_type": "stream",
     "text": [
      "Epoch 757, lr 2.2394879999999997e-05: 100% 21/21 [00:10<00:00,  1.92it/s, 0 cls=0.15823, 1 cls=0.22804, 2 cls=0.32397, bce=0.06985, dice=0.85969, loss=-0.81398]\n"
     ]
    },
    {
     "name": "stdout",
     "output_type": "stream",
     "text": [
      "loss: -0.85826 | bce: 0.03782 | dice: 0.86980 | 0 cls: 0.11438 | 1 cls: 0.16654 | 2 cls: 0.29274\n"
     ]
    },
    {
     "name": "stderr",
     "output_type": "stream",
     "text": [
      "Epoch 758, lr 2.2394879999999997e-05: 100% 21/21 [00:10<00:00,  1.93it/s, 0 cls=0.15315, 1 cls=0.22847, 2 cls=0.32184, bce=0.06762, dice=0.86005, loss=-0.81700]\n"
     ]
    },
    {
     "name": "stdout",
     "output_type": "stream",
     "text": [
      "loss: -0.85814 | bce: 0.03772 | dice: 0.86957 | 0 cls: 0.11459 | 1 cls: 0.16640 | 2 cls: 0.29317\n"
     ]
    },
    {
     "name": "stderr",
     "output_type": "stream",
     "text": [
      "Epoch 759, lr 2.2394879999999997e-05: 100% 21/21 [00:11<00:00,  1.91it/s, 0 cls=0.15492, 1 cls=0.22932, 2 cls=0.32225, bce=0.06840, dice=0.85993, loss=-0.81582]\n"
     ]
    },
    {
     "name": "stdout",
     "output_type": "stream",
     "text": [
      "loss: -0.85855 | bce: 0.03751 | dice: 0.86982 | 0 cls: 0.11444 | 1 cls: 0.16557 | 2 cls: 0.29260\n"
     ]
    },
    {
     "name": "stderr",
     "output_type": "stream",
     "text": [
      "Epoch 760, lr 2.2394879999999997e-05: 100% 21/21 [00:10<00:00,  1.92it/s, 0 cls=0.15187, 1 cls=0.22633, 2 cls=0.31856, bce=0.06663, dice=0.86102, loss=-0.81861]\n"
     ]
    },
    {
     "name": "stdout",
     "output_type": "stream",
     "text": [
      "loss: -0.85779 | bce: 0.03771 | dice: 0.86907 | 0 cls: 0.11506 | 1 cls: 0.16651 | 2 cls: 0.29465\n"
     ]
    },
    {
     "name": "stderr",
     "output_type": "stream",
     "text": [
      "Epoch 761, lr 2.2394879999999997e-05: 100% 21/21 [00:10<00:00,  1.98it/s, 0 cls=0.15425, 1 cls=0.22685, 2 cls=0.32148, bce=0.06707, dice=0.85963, loss=-0.81696]\n"
     ]
    },
    {
     "name": "stdout",
     "output_type": "stream",
     "text": [
      "loss: -0.85797 | bce: 0.03769 | dice: 0.86925 | 0 cls: 0.11510 | 1 cls: 0.16598 | 2 cls: 0.29427\n"
     ]
    },
    {
     "name": "stderr",
     "output_type": "stream",
     "text": [
      "Epoch 762, lr 2.2394879999999997e-05: 100% 21/21 [00:11<00:00,  1.87it/s, 0 cls=0.15017, 1 cls=0.22087, 2 cls=0.31400, bce=0.06542, dice=0.86285, loss=-0.82149]\n"
     ]
    },
    {
     "name": "stdout",
     "output_type": "stream",
     "text": [
      "loss: -0.85812 | bce: 0.03781 | dice: 0.86957 | 0 cls: 0.11478 | 1 cls: 0.16623 | 2 cls: 0.29344\n"
     ]
    },
    {
     "name": "stderr",
     "output_type": "stream",
     "text": [
      "Epoch 763, lr 2.2394879999999997e-05: 100% 21/21 [00:11<00:00,  1.88it/s, 0 cls=0.15096, 1 cls=0.22881, 2 cls=0.32032, bce=0.06731, dice=0.86098, loss=-0.81827]\n"
     ]
    },
    {
     "name": "stdout",
     "output_type": "stream",
     "text": [
      "loss: -0.85822 | bce: 0.03754 | dice: 0.86946 | 0 cls: 0.11479 | 1 cls: 0.16591 | 2 cls: 0.29338\n"
     ]
    },
    {
     "name": "stderr",
     "output_type": "stream",
     "text": [
      "Epoch 764, lr 2.2394879999999997e-05: 100% 21/21 [00:10<00:00,  1.92it/s, 0 cls=0.15180, 1 cls=0.22727, 2 cls=0.32040, bce=0.06737, dice=0.86099, loss=-0.81817]\n"
     ]
    },
    {
     "name": "stdout",
     "output_type": "stream",
     "text": [
      "loss: -0.85803 | bce: 0.03785 | dice: 0.86952 | 0 cls: 0.11480 | 1 cls: 0.16627 | 2 cls: 0.29400\n"
     ]
    },
    {
     "name": "stderr",
     "output_type": "stream",
     "text": [
      "Epoch 765, lr 2.2394879999999997e-05: 100% 21/21 [00:11<00:00,  1.90it/s, 0 cls=0.14901, 1 cls=0.22259, 2 cls=0.31559, bce=0.06655, dice=0.86343, loss=-0.82133]\n"
     ]
    },
    {
     "name": "stdout",
     "output_type": "stream",
     "text": [
      "loss: -0.85798 | bce: 0.03790 | dice: 0.86950 | 0 cls: 0.11481 | 1 cls: 0.16649 | 2 cls: 0.29380\n"
     ]
    },
    {
     "name": "stderr",
     "output_type": "stream",
     "text": [
      "Epoch 766, lr 2.2394879999999997e-05: 100% 21/21 [00:10<00:00,  1.92it/s, 0 cls=0.15336, 1 cls=0.22849, 2 cls=0.32257, bce=0.06818, dice=0.86026, loss=-0.81674]\n"
     ]
    },
    {
     "name": "stdout",
     "output_type": "stream",
     "text": [
      "loss: -0.85805 | bce: 0.03783 | dice: 0.86950 | 0 cls: 0.11488 | 1 cls: 0.16604 | 2 cls: 0.29398\n"
     ]
    },
    {
     "name": "stderr",
     "output_type": "stream",
     "text": [
      "Epoch 767, lr 2.2394879999999997e-05: 100% 21/21 [00:11<00:00,  1.85it/s, 0 cls=0.15608, 1 cls=0.22960, 2 cls=0.32369, bce=0.06914, dice=0.85957, loss=-0.81478]\n"
     ]
    },
    {
     "name": "stdout",
     "output_type": "stream",
     "text": [
      "loss: -0.85823 | bce: 0.03774 | dice: 0.86968 | 0 cls: 0.11468 | 1 cls: 0.16595 | 2 cls: 0.29329\n"
     ]
    },
    {
     "name": "stderr",
     "output_type": "stream",
     "text": [
      "Epoch 768, lr 2.2394879999999997e-05: 100% 21/21 [00:10<00:00,  1.93it/s, 0 cls=0.15524, 1 cls=0.22868, 2 cls=0.32310, bce=0.06865, dice=0.85984, loss=-0.81563]\n"
     ]
    },
    {
     "name": "stdout",
     "output_type": "stream",
     "text": [
      "loss: -0.85790 | bce: 0.03786 | dice: 0.86941 | 0 cls: 0.11482 | 1 cls: 0.16672 | 2 cls: 0.29377\n"
     ]
    },
    {
     "name": "stderr",
     "output_type": "stream",
     "text": [
      "Epoch 769, lr 2.2394879999999997e-05: 100% 21/21 [00:10<00:00,  1.93it/s, 0 cls=0.15500, 1 cls=0.23072, 2 cls=0.32472, bce=0.06796, dice=0.85848, loss=-0.81520]\n"
     ]
    },
    {
     "name": "stdout",
     "output_type": "stream",
     "text": [
      "loss: -0.85813 | bce: 0.03772 | dice: 0.86954 | 0 cls: 0.11479 | 1 cls: 0.16615 | 2 cls: 0.29343\n"
     ]
    },
    {
     "name": "stderr",
     "output_type": "stream",
     "text": [
      "Epoch 770, lr 2.2394879999999997e-05: 100% 21/21 [00:10<00:00,  1.92it/s, 0 cls=0.15246, 1 cls=0.22825, 2 cls=0.32209, bce=0.06794, dice=0.86059, loss=-0.81742]\n"
     ]
    },
    {
     "name": "stdout",
     "output_type": "stream",
     "text": [
      "loss: -0.85803 | bce: 0.03769 | dice: 0.86941 | 0 cls: 0.11482 | 1 cls: 0.16653 | 2 cls: 0.29332\n"
     ]
    },
    {
     "name": "stderr",
     "output_type": "stream",
     "text": [
      "Epoch 771, lr 2.2394879999999997e-05: 100% 21/21 [00:11<00:00,  1.87it/s, 0 cls=0.15308, 1 cls=0.22800, 2 cls=0.32246, bce=0.06797, dice=0.86033, loss=-0.81706]\n"
     ]
    },
    {
     "name": "stdout",
     "output_type": "stream",
     "text": [
      "loss: -0.85771 | bce: 0.03755 | dice: 0.86886 | 0 cls: 0.11521 | 1 cls: 0.16667 | 2 cls: 0.29450\n"
     ]
    },
    {
     "name": "stderr",
     "output_type": "stream",
     "text": [
      "Epoch 772, lr 2.2394879999999997e-05: 100% 21/21 [00:10<00:00,  1.91it/s, 0 cls=0.15362, 1 cls=0.23052, 2 cls=0.32292, bce=0.06805, dice=0.85961, loss=-0.81607]\n"
     ]
    },
    {
     "name": "stdout",
     "output_type": "stream",
     "text": [
      "loss: -0.85771 | bce: 0.03774 | dice: 0.86897 | 0 cls: 0.11519 | 1 cls: 0.16661 | 2 cls: 0.29471\n"
     ]
    },
    {
     "name": "stderr",
     "output_type": "stream",
     "text": [
      "Epoch 773, lr 2.2394879999999997e-05: 100% 21/21 [00:10<00:00,  1.95it/s, 0 cls=0.15861, 1 cls=0.23091, 2 cls=0.32519, bce=0.06906, dice=0.85798, loss=-0.81302]\n"
     ]
    },
    {
     "name": "stdout",
     "output_type": "stream",
     "text": [
      "loss: -0.85760 | bce: 0.03771 | dice: 0.86881 | 0 cls: 0.11538 | 1 cls: 0.16654 | 2 cls: 0.29511\n"
     ]
    },
    {
     "name": "stderr",
     "output_type": "stream",
     "text": [
      "Epoch 774, lr 2.2394879999999997e-05: 100% 21/21 [00:10<00:00,  1.91it/s, 0 cls=0.15395, 1 cls=0.22706, 2 cls=0.32103, bce=0.06778, dice=0.86045, loss=-0.81707]\n"
     ]
    },
    {
     "name": "stdout",
     "output_type": "stream",
     "text": [
      "loss: -0.85729 | bce: 0.03781 | dice: 0.86854 | 0 cls: 0.11564 | 1 cls: 0.16687 | 2 cls: 0.29585\n"
     ]
    },
    {
     "name": "stderr",
     "output_type": "stream",
     "text": [
      "Epoch 775, lr 2.2394879999999997e-05: 100% 21/21 [00:10<00:00,  1.93it/s, 0 cls=0.16143, 1 cls=0.23405, 2 cls=0.33099, bce=0.07112, dice=0.85659, loss=-0.81009]\n"
     ]
    },
    {
     "name": "stdout",
     "output_type": "stream",
     "text": [
      "loss: -0.85733 | bce: 0.03793 | dice: 0.86875 | 0 cls: 0.11542 | 1 cls: 0.16725 | 2 cls: 0.29526\n"
     ]
    },
    {
     "name": "stderr",
     "output_type": "stream",
     "text": [
      "Epoch 776, lr 2.2394879999999997e-05: 100% 21/21 [00:10<00:00,  1.93it/s, 0 cls=0.14961, 1 cls=0.22718, 2 cls=0.31813, bce=0.06701, dice=0.86219, loss=-0.81970]\n"
     ]
    },
    {
     "name": "stdout",
     "output_type": "stream",
     "text": [
      "loss: -0.85777 | bce: 0.03794 | dice: 0.86931 | 0 cls: 0.11500 | 1 cls: 0.16670 | 2 cls: 0.29416\n"
     ]
    },
    {
     "name": "stderr",
     "output_type": "stream",
     "text": [
      "Epoch 777, lr 2.2394879999999997e-05: 100% 21/21 [00:11<00:00,  1.90it/s, 0 cls=0.15322, 1 cls=0.23159, 2 cls=0.32317, bce=0.06824, dice=0.85963, loss=-0.81601]\n"
     ]
    },
    {
     "name": "stdout",
     "output_type": "stream",
     "text": [
      "loss: -0.85772 | bce: 0.03786 | dice: 0.86917 | 0 cls: 0.11500 | 1 cls: 0.16686 | 2 cls: 0.29441\n"
     ]
    },
    {
     "name": "stderr",
     "output_type": "stream",
     "text": [
      "Epoch 778, lr 2.2394879999999997e-05: 100% 21/21 [00:10<00:00,  1.95it/s, 0 cls=0.15662, 1 cls=0.23234, 2 cls=0.32473, bce=0.06847, dice=0.85804, loss=-0.81387]\n"
     ]
    },
    {
     "name": "stdout",
     "output_type": "stream",
     "text": [
      "loss: -0.85758 | bce: 0.03774 | dice: 0.86889 | 0 cls: 0.11517 | 1 cls: 0.16699 | 2 cls: 0.29480\n"
     ]
    },
    {
     "name": "stderr",
     "output_type": "stream",
     "text": [
      "Epoch 779, lr 2.2394879999999997e-05: 100% 21/21 [00:10<00:00,  1.93it/s, 0 cls=0.15455, 1 cls=0.22965, 2 cls=0.32394, bce=0.06802, dice=0.85914, loss=-0.81581]\n"
     ]
    },
    {
     "name": "stdout",
     "output_type": "stream",
     "text": [
      "loss: -0.85805 | bce: 0.03786 | dice: 0.86954 | 0 cls: 0.11474 | 1 cls: 0.16626 | 2 cls: 0.29393\n"
     ]
    },
    {
     "name": "stderr",
     "output_type": "stream",
     "text": [
      "Epoch 780, lr 2.2394879999999997e-05: 100% 21/21 [00:11<00:00,  1.91it/s, 0 cls=0.15093, 1 cls=0.22709, 2 cls=0.31841, bce=0.06685, dice=0.86145, loss=-0.81895]\n"
     ]
    },
    {
     "name": "stdout",
     "output_type": "stream",
     "text": [
      "loss: -0.85827 | bce: 0.03784 | dice: 0.86979 | 0 cls: 0.11443 | 1 cls: 0.16630 | 2 cls: 0.29308\n"
     ]
    },
    {
     "name": "stderr",
     "output_type": "stream",
     "text": [
      "Epoch 781, lr 2.2394879999999997e-05: 100% 21/21 [00:11<00:00,  1.90it/s, 0 cls=0.15525, 1 cls=0.23291, 2 cls=0.32515, bce=0.06846, dice=0.85817, loss=-0.81431]\n"
     ]
    },
    {
     "name": "stdout",
     "output_type": "stream",
     "text": [
      "loss: -0.85849 | bce: 0.03773 | dice: 0.87000 | 0 cls: 0.11422 | 1 cls: 0.16604 | 2 cls: 0.29262\n"
     ]
    },
    {
     "name": "stderr",
     "output_type": "stream",
     "text": [
      "Epoch 782, lr 2.2394879999999997e-05: 100% 21/21 [00:11<00:00,  1.88it/s, 0 cls=0.15019, 1 cls=0.22279, 2 cls=0.31550, bce=0.06696, dice=0.86333, loss=-0.82064]\n"
     ]
    },
    {
     "name": "stdout",
     "output_type": "stream",
     "text": [
      "loss: -0.85802 | bce: 0.03775 | dice: 0.86947 | 0 cls: 0.11463 | 1 cls: 0.16656 | 2 cls: 0.29382\n"
     ]
    },
    {
     "name": "stderr",
     "output_type": "stream",
     "text": [
      "Epoch 783, lr 2.2394879999999997e-05: 100% 21/21 [00:10<00:00,  1.96it/s, 0 cls=0.15662, 1 cls=0.22907, 2 cls=0.32559, bce=0.06843, dice=0.85824, loss=-0.81450]\n"
     ]
    },
    {
     "name": "stdout",
     "output_type": "stream",
     "text": [
      "loss: -0.85784 | bce: 0.03767 | dice: 0.86913 | 0 cls: 0.11502 | 1 cls: 0.16647 | 2 cls: 0.29443\n"
     ]
    },
    {
     "name": "stderr",
     "output_type": "stream",
     "text": [
      "Epoch 784, lr 2.2394879999999997e-05: 100% 21/21 [00:10<00:00,  1.92it/s, 0 cls=0.15097, 1 cls=0.22746, 2 cls=0.32015, bce=0.06611, dice=0.86029, loss=-0.81882]\n"
     ]
    },
    {
     "name": "stdout",
     "output_type": "stream",
     "text": [
      "loss: -0.85804 | bce: 0.03779 | dice: 0.86949 | 0 cls: 0.11476 | 1 cls: 0.16636 | 2 cls: 0.29357\n"
     ]
    },
    {
     "name": "stderr",
     "output_type": "stream",
     "text": [
      "Epoch 785, lr 2.2394879999999997e-05: 100% 21/21 [00:11<00:00,  1.85it/s, 0 cls=0.15967, 1 cls=0.23403, 2 cls=0.32868, bce=0.07002, dice=0.85674, loss=-0.81127]\n"
     ]
    },
    {
     "name": "stdout",
     "output_type": "stream",
     "text": [
      "loss: -0.85806 | bce: 0.03795 | dice: 0.86972 | 0 cls: 0.11476 | 1 cls: 0.16637 | 2 cls: 0.29316\n"
     ]
    },
    {
     "name": "stderr",
     "output_type": "stream",
     "text": [
      "Epoch 786, lr 2.2394879999999997e-05: 100% 21/21 [00:10<00:00,  1.93it/s, 0 cls=0.15872, 1 cls=0.23066, 2 cls=0.32600, bce=0.06827, dice=0.85701, loss=-0.81306]\n"
     ]
    },
    {
     "name": "stdout",
     "output_type": "stream",
     "text": [
      "loss: -0.85779 | bce: 0.03777 | dice: 0.86921 | 0 cls: 0.11512 | 1 cls: 0.16644 | 2 cls: 0.29427\n"
     ]
    },
    {
     "name": "stderr",
     "output_type": "stream",
     "text": [
      "Epoch 787, lr 2.2394879999999997e-05: 100% 21/21 [00:11<00:00,  1.87it/s, 0 cls=0.14983, 1 cls=0.22650, 2 cls=0.31730, bce=0.06641, dice=0.86186, loss=-0.81982]\n"
     ]
    },
    {
     "name": "stdout",
     "output_type": "stream",
     "text": [
      "loss: -0.85767 | bce: 0.03793 | dice: 0.86922 | 0 cls: 0.11509 | 1 cls: 0.16684 | 2 cls: 0.29429\n"
     ]
    },
    {
     "name": "stderr",
     "output_type": "stream",
     "text": [
      "Epoch 788, lr 2.2394879999999997e-05: 100% 21/21 [00:10<00:00,  1.93it/s, 0 cls=0.14826, 1 cls=0.22235, 2 cls=0.31538, bce=0.06683, dice=0.86407, loss=-0.82181]\n"
     ]
    },
    {
     "name": "stdout",
     "output_type": "stream",
     "text": [
      "loss: -0.85814 | bce: 0.03761 | dice: 0.86950 | 0 cls: 0.11493 | 1 cls: 0.16578 | 2 cls: 0.29350\n"
     ]
    },
    {
     "name": "stderr",
     "output_type": "stream",
     "text": [
      "Epoch 789, lr 2.2394879999999997e-05: 100% 21/21 [00:11<00:00,  1.91it/s, 0 cls=0.15376, 1 cls=0.23034, 2 cls=0.32514, bce=0.06843, dice=0.85936, loss=-0.81587]\n"
     ]
    },
    {
     "name": "stdout",
     "output_type": "stream",
     "text": [
      "loss: -0.85747 | bce: 0.03775 | dice: 0.86876 | 0 cls: 0.11534 | 1 cls: 0.16696 | 2 cls: 0.29506\n"
     ]
    },
    {
     "name": "stderr",
     "output_type": "stream",
     "text": [
      "Epoch 790, lr 0.0009565938000000002: 100% 21/21 [00:10<00:00,  1.95it/s, 0 cls=0.16696, 1 cls=0.24428, 2 cls=0.34576, bce=0.07326, dice=0.85038, loss=-0.80298]\n"
     ]
    },
    {
     "name": "stdout",
     "output_type": "stream",
     "text": [
      "loss: -0.85459 | bce: 0.04212 | dice: 0.86948 | 0 cls: 0.11536 | 1 cls: 0.17418 | 2 cls: 0.29827\n"
     ]
    },
    {
     "name": "stderr",
     "output_type": "stream",
     "text": [
      "Epoch 791, lr 0.0009565938000000002: 100% 21/21 [00:11<00:00,  1.91it/s, 0 cls=0.16916, 1 cls=0.24671, 2 cls=0.34378, bce=0.07320, dice=0.84960, loss=-0.80142]\n"
     ]
    },
    {
     "name": "stdout",
     "output_type": "stream",
     "text": [
      "loss: -0.85102 | bce: 0.03849 | dice: 0.86347 | 0 cls: 0.12288 | 1 cls: 0.17154 | 2 cls: 0.30185\n"
     ]
    },
    {
     "name": "stderr",
     "output_type": "stream",
     "text": [
      "Epoch 792, lr 0.00028697814000000005: 100% 21/21 [00:11<00:00,  1.89it/s, 0 cls=0.16356, 1 cls=0.23755, 2 cls=0.33596, bce=0.07103, dice=0.85355, loss=-0.80758]\n"
     ]
    },
    {
     "name": "stdout",
     "output_type": "stream",
     "text": [
      "loss: -0.85851 | bce: 0.04003 | dice: 0.87212 | 0 cls: 0.11260 | 1 cls: 0.16896 | 2 cls: 0.29193\n"
     ]
    },
    {
     "name": "stderr",
     "output_type": "stream",
     "text": [
      "Epoch 793, lr 0.00028697814000000005: 100% 21/21 [00:11<00:00,  1.89it/s, 0 cls=0.15423, 1 cls=0.22650, 2 cls=0.32153, bce=0.06830, dice=0.86077, loss=-0.81683]\n"
     ]
    },
    {
     "name": "stdout",
     "output_type": "stream",
     "text": [
      "loss: -0.85821 | bce: 0.03831 | dice: 0.87021 | 0 cls: 0.11348 | 1 cls: 0.16818 | 2 cls: 0.29387\n"
     ]
    },
    {
     "name": "stderr",
     "output_type": "stream",
     "text": [
      "Epoch 794, lr 8.609344200000001e-05: 100% 21/21 [00:10<00:00,  1.94it/s, 0 cls=0.15545, 1 cls=0.23078, 2 cls=0.32637, bce=0.06883, dice=0.85863, loss=-0.81470]\n"
     ]
    },
    {
     "name": "stdout",
     "output_type": "stream",
     "text": [
      "loss: -0.85826 | bce: 0.03769 | dice: 0.86967 | 0 cls: 0.11443 | 1 cls: 0.16632 | 2 cls: 0.29291\n"
     ]
    },
    {
     "name": "stderr",
     "output_type": "stream",
     "text": [
      "Epoch 795, lr 0.0009565938000000002: 100% 21/21 [00:10<00:00,  1.92it/s, 0 cls=0.16113, 1 cls=0.23679, 2 cls=0.33576, bce=0.07094, dice=0.85465, loss=-0.80909]\n"
     ]
    },
    {
     "name": "stdout",
     "output_type": "stream",
     "text": [
      "loss: -0.85579 | bce: 0.03839 | dice: 0.86764 | 0 cls: 0.11777 | 1 cls: 0.16715 | 2 cls: 0.29588\n"
     ]
    },
    {
     "name": "stderr",
     "output_type": "stream",
     "text": [
      "Epoch 796, lr 0.0009565938000000002: 100% 21/21 [00:10<00:00,  1.92it/s, 0 cls=0.16160, 1 cls=0.23706, 2 cls=0.33593, bce=0.07070, dice=0.85413, loss=-0.80877]\n"
     ]
    },
    {
     "name": "stdout",
     "output_type": "stream",
     "text": [
      "loss: -0.85629 | bce: 0.03939 | dice: 0.86910 | 0 cls: 0.11635 | 1 cls: 0.16866 | 2 cls: 0.29458\n"
     ]
    },
    {
     "name": "stderr",
     "output_type": "stream",
     "text": [
      "Epoch 797, lr 0.00028697814000000005: 100% 21/21 [00:10<00:00,  1.92it/s, 0 cls=0.15859, 1 cls=0.23662, 2 cls=0.33264, bce=0.06996, dice=0.85568, loss=-0.81087]\n"
     ]
    },
    {
     "name": "stdout",
     "output_type": "stream",
     "text": [
      "loss: -0.85742 | bce: 0.03883 | dice: 0.86964 | 0 cls: 0.11559 | 1 cls: 0.16646 | 2 cls: 0.29492\n"
     ]
    },
    {
     "name": "stderr",
     "output_type": "stream",
     "text": [
      "Epoch 798, lr 0.00028697814000000005: 100% 21/21 [00:10<00:00,  1.92it/s, 0 cls=0.15622, 1 cls=0.23128, 2 cls=0.32477, bce=0.06906, dice=0.85876, loss=-0.81419]\n"
     ]
    },
    {
     "name": "stdout",
     "output_type": "stream",
     "text": [
      "loss: -0.85769 | bce: 0.03898 | dice: 0.87064 | 0 cls: 0.11478 | 1 cls: 0.16804 | 2 cls: 0.29161\n"
     ]
    },
    {
     "name": "stderr",
     "output_type": "stream",
     "text": [
      "Epoch 799, lr 8.609344200000001e-05: 100% 21/21 [00:10<00:00,  1.91it/s, 0 cls=0.15498, 1 cls=0.22989, 2 cls=0.32560, bce=0.06967, dice=0.85983, loss=-0.81510]\n"
     ]
    },
    {
     "name": "stdout",
     "output_type": "stream",
     "text": [
      "loss: -0.85668 | bce: 0.03831 | dice: 0.86866 | 0 cls: 0.11609 | 1 cls: 0.16864 | 2 cls: 0.29543\n",
      "Finished: best loss -0.86021 on epoch 690\n"
     ]
    }
   ],
   "source": [
    "train_args = {\n",
    "    'model_name': 'TernausNet34_with_scale_05_vgg11_800',\n",
    "    'network': 'UNet11',\n",
    "    'nb_epoch': 800,\n",
    "    'loss': 'BCEDiceLossMultiWithoutLog',\n",
    "    'lr_args': {\n",
    "        'adjust_init_lr': 0.0008,\n",
    "        'adjust_lr_decay_factor': 0.6,\n",
    "        'cycle_epochs_decay': 2,\n",
    "        'cycle_init_lr': 0.002,\n",
    "        'cycle_lr_decay_factor': 0.3,\n",
    "        'global_cycle_lr_decay_factor': 0.9,\n",
    "        'global_num_epochs_per_cycle': 100,\n",
    "        'num_epochs_per_cycle': 5,\n",
    "        'num_epochs_per_decay': 100\n",
    "    }, \n",
    "    'model_dir': 'models', \n",
    "    'log_dir': 'logs', \n",
    "    'network_args': {\n",
    "        'num_classes': 3, \n",
    "        'num_filters': 32, \n",
    "        'pretrained': True\n",
    "    }, \n",
    "    'loss_args': {\n",
    "        'weights': [0.6, 0.3, 0.1],\n",
    "        'num_classes': 3\n",
    "    },       \n",
    "    'optimizer': 'Adam'\n",
    "}\n",
    "\n",
    "train(\n",
    "    train_args, train_ids + val_ids, val_ids[:1], \n",
    "    \"../output_data/with_scale_05/scaled_images/{}.png\", \"../output_data/with_scale_05/scaled_masks/{}.png\", \n",
    "    32, 1, train_transforms, val_transforms, period=64\n",
    ")"
   ]
  },
  {
   "cell_type": "code",
   "execution_count": 8,
   "metadata": {},
   "outputs": [
    {
     "name": "stderr",
     "output_type": "stream",
     "text": [
      "Epoch 0, lr 0.0008: 100% 21/21 [00:10<00:00,  1.94it/s, 0 cls=1.21741, 1 cls=1.78296, 2 cls=1.97881, bce=0.39623, dice=0.37438, loss=-0.01548]\n"
     ]
    },
    {
     "name": "stdout",
     "output_type": "stream",
     "text": [
      "loss: -0.68692 | bce: 0.06954 | dice: 0.70104 | 0 cls: 0.18289 | 1 cls: 0.52090 | 2 cls: 1.19458\n"
     ]
    },
    {
     "name": "stderr",
     "output_type": "stream",
     "text": [
      "Epoch 1, lr 0.0008: 100% 21/21 [00:11<00:00,  1.89it/s, 0 cls=0.42642, 1 cls=0.65110, 2 cls=0.74392, bce=0.14966, dice=0.68420, loss=-0.54725]\n"
     ]
    },
    {
     "name": "stdout",
     "output_type": "stream",
     "text": [
      "loss: -0.75418 | bce: 0.04621 | dice: 0.83790 | 0 cls: 0.16192 | 1 cls: 0.52048 | 2 cls: 0.19436\n"
     ]
    },
    {
     "name": "stderr",
     "output_type": "stream",
     "text": [
      "Epoch 2, lr 0.0008: 100% 21/21 [00:11<00:00,  1.87it/s, 0 cls=0.33063, 1 cls=0.50408, 2 cls=0.36030, bce=0.10664, dice=0.77625, loss=-0.65374]\n"
     ]
    },
    {
     "name": "stdout",
     "output_type": "stream",
     "text": [
      "loss: -0.80623 | bce: 0.04115 | dice: 0.85919 | 0 cls: 0.19135 | 1 cls: 0.22440 | 2 cls: 0.18840\n"
     ]
    },
    {
     "name": "stderr",
     "output_type": "stream",
     "text": [
      "Epoch 3, lr 0.0008: 100% 21/21 [00:11<00:00,  1.89it/s, 0 cls=0.29517, 1 cls=0.40809, 2 cls=0.33844, bce=0.09595, dice=0.79840, loss=-0.69368]\n"
     ]
    },
    {
     "name": "stdout",
     "output_type": "stream",
     "text": [
      "loss: -0.81896 | bce: 0.04040 | dice: 0.86819 | 0 cls: 0.16523 | 1 cls: 0.22688 | 2 cls: 0.18736\n"
     ]
    },
    {
     "name": "stderr",
     "output_type": "stream",
     "text": [
      "Epoch 4, lr 0.0008: 100% 21/21 [00:10<00:00,  1.91it/s, 0 cls=0.28906, 1 cls=0.40173, 2 cls=0.33644, bce=0.09592, dice=0.80162, loss=-0.69836]\n"
     ]
    },
    {
     "name": "stdout",
     "output_type": "stream",
     "text": [
      "loss: -0.77860 | bce: 0.04755 | dice: 0.84378 | 0 cls: 0.24172 | 1 cls: 0.21886 | 2 cls: 0.19781\n"
     ]
    },
    {
     "name": "stderr",
     "output_type": "stream",
     "text": [
      "Epoch 5, lr 0.0008: 100% 21/21 [00:10<00:00,  1.92it/s, 0 cls=0.28542, 1 cls=0.36761, 2 cls=0.31527, bce=0.09050, dice=0.81028, loss=-0.71027]\n"
     ]
    },
    {
     "name": "stdout",
     "output_type": "stream",
     "text": [
      "loss: -0.77944 | bce: 0.05265 | dice: 0.84937 | 0 cls: 0.22743 | 1 cls: 0.23949 | 2 cls: 0.19786\n"
     ]
    },
    {
     "name": "stderr",
     "output_type": "stream",
     "text": [
      "Epoch 6, lr 0.0008: 100% 21/21 [00:10<00:00,  1.94it/s, 0 cls=0.26870, 1 cls=0.36607, 2 cls=0.30707, bce=0.08691, dice=0.81537, loss=-0.72041]\n"
     ]
    },
    {
     "name": "stdout",
     "output_type": "stream",
     "text": [
      "loss: -0.84332 | bce: 0.03220 | dice: 0.88198 | 0 cls: 0.14197 | 1 cls: 0.19673 | 2 cls: 0.16485\n"
     ]
    },
    {
     "name": "stderr",
     "output_type": "stream",
     "text": [
      "Epoch 7, lr 0.0008: 100% 21/21 [00:10<00:00,  1.95it/s, 0 cls=0.27227, 1 cls=0.35713, 2 cls=0.30329, bce=0.08797, dice=0.81722, loss=-0.72067]\n"
     ]
    },
    {
     "name": "stdout",
     "output_type": "stream",
     "text": [
      "loss: -0.85414 | bce: 0.03419 | dice: 0.89301 | 0 cls: 0.12646 | 1 cls: 0.19417 | 2 cls: 0.15377\n"
     ]
    },
    {
     "name": "stderr",
     "output_type": "stream",
     "text": [
      "Epoch 8, lr 0.0008: 100% 21/21 [00:10<00:00,  1.92it/s, 0 cls=0.25038, 1 cls=0.34638, 2 cls=0.29306, bce=0.08389, dice=0.82642, loss=-0.73621]\n"
     ]
    },
    {
     "name": "stdout",
     "output_type": "stream",
     "text": [
      "loss: -0.83065 | bce: 0.03667 | dice: 0.87054 | 0 cls: 0.15044 | 1 cls: 0.21921 | 2 cls: 0.19496\n"
     ]
    },
    {
     "name": "stderr",
     "output_type": "stream",
     "text": [
      "Epoch 9, lr 0.0008: 100% 21/21 [00:10<00:00,  1.91it/s, 0 cls=0.24877, 1 cls=0.33566, 2 cls=0.29016, bce=0.08538, dice=0.83065, loss=-0.73934]\n"
     ]
    },
    {
     "name": "stdout",
     "output_type": "stream",
     "text": [
      "loss: -0.81526 | bce: 0.03735 | dice: 0.85783 | 0 cls: 0.17612 | 1 cls: 0.22307 | 2 cls: 0.20240\n"
     ]
    },
    {
     "name": "stderr",
     "output_type": "stream",
     "text": [
      "Epoch 10, lr 0.0008: 100% 21/21 [00:10<00:00,  1.92it/s, 0 cls=0.24375, 1 cls=0.32828, 2 cls=0.28157, bce=0.07890, dice=0.83079, loss=-0.74525]\n"
     ]
    },
    {
     "name": "stdout",
     "output_type": "stream",
     "text": [
      "loss: -0.83565 | bce: 0.03214 | dice: 0.87289 | 0 cls: 0.15652 | 1 cls: 0.19625 | 2 cls: 0.17523\n"
     ]
    },
    {
     "name": "stderr",
     "output_type": "stream",
     "text": [
      "Epoch 11, lr 0.0008: 100% 21/21 [00:10<00:00,  1.94it/s, 0 cls=0.23823, 1 cls=0.33151, 2 cls=0.27700, bce=0.07843, dice=0.83260, loss=-0.74805]\n"
     ]
    },
    {
     "name": "stdout",
     "output_type": "stream",
     "text": [
      "loss: -0.83724 | bce: 0.03698 | dice: 0.87869 | 0 cls: 0.14358 | 1 cls: 0.21325 | 2 cls: 0.17952\n"
     ]
    },
    {
     "name": "stderr",
     "output_type": "stream",
     "text": [
      "Epoch 12, lr 0.0008: 100% 21/21 [00:10<00:00,  1.94it/s, 0 cls=0.22424, 1 cls=0.32170, 2 cls=0.26785, bce=0.07672, dice=0.84099, loss=-0.75842]\n"
     ]
    },
    {
     "name": "stdout",
     "output_type": "stream",
     "text": [
      "loss: -0.86015 | bce: 0.03139 | dice: 0.89579 | 0 cls: 0.12414 | 1 cls: 0.18346 | 2 cls: 0.14582\n"
     ]
    },
    {
     "name": "stderr",
     "output_type": "stream",
     "text": [
      "Epoch 13, lr 0.0008: 100% 21/21 [00:10<00:00,  1.94it/s, 0 cls=0.22657, 1 cls=0.31573, 2 cls=0.26674, bce=0.07659, dice=0.84099, loss=-0.75883]\n"
     ]
    },
    {
     "name": "stdout",
     "output_type": "stream",
     "text": [
      "loss: -0.83636 | bce: 0.03390 | dice: 0.87818 | 0 cls: 0.15812 | 1 cls: 0.19048 | 2 cls: 0.16399\n"
     ]
    },
    {
     "name": "stderr",
     "output_type": "stream",
     "text": [
      "Epoch 14, lr 0.0008: 100% 21/21 [00:10<00:00,  1.94it/s, 0 cls=0.21563, 1 cls=0.31169, 2 cls=0.25910, bce=0.07223, dice=0.84434, loss=-0.76682]\n"
     ]
    },
    {
     "name": "stdout",
     "output_type": "stream",
     "text": [
      "loss: -0.84734 | bce: 0.03506 | dice: 0.88452 | 0 cls: 0.12931 | 1 cls: 0.20797 | 2 cls: 0.17675\n"
     ]
    },
    {
     "name": "stderr",
     "output_type": "stream",
     "text": [
      "Epoch 15, lr 0.0008: 100% 21/21 [00:10<00:00,  1.93it/s, 0 cls=0.20943, 1 cls=0.30148, 2 cls=0.25258, bce=0.07044, dice=0.84847, loss=-0.77318]\n"
     ]
    },
    {
     "name": "stdout",
     "output_type": "stream",
     "text": [
      "loss: -0.85276 | bce: 0.03319 | dice: 0.89067 | 0 cls: 0.13486 | 1 cls: 0.18485 | 2 cls: 0.15414\n"
     ]
    },
    {
     "name": "stderr",
     "output_type": "stream",
     "text": [
      "Epoch 16, lr 0.0008: 100% 21/21 [00:10<00:00,  1.93it/s, 0 cls=0.23214, 1 cls=0.31935, 2 cls=0.27196, bce=0.07852, dice=0.83865, loss=-0.75434]\n"
     ]
    },
    {
     "name": "stdout",
     "output_type": "stream",
     "text": [
      "loss: -0.84873 | bce: 0.02883 | dice: 0.87980 | 0 cls: 0.13885 | 1 cls: 0.19399 | 2 cls: 0.16643\n"
     ]
    },
    {
     "name": "stderr",
     "output_type": "stream",
     "text": [
      "Epoch 17, lr 0.0008: 100% 21/21 [00:11<00:00,  1.90it/s, 0 cls=0.22096, 1 cls=0.31308, 2 cls=0.26457, bce=0.07555, dice=0.84342, loss=-0.76267]\n"
     ]
    },
    {
     "name": "stdout",
     "output_type": "stream",
     "text": [
      "loss: -0.84569 | bce: 0.03376 | dice: 0.88444 | 0 cls: 0.14615 | 1 cls: 0.18928 | 2 cls: 0.15692\n"
     ]
    },
    {
     "name": "stderr",
     "output_type": "stream",
     "text": [
      "Epoch 18, lr 0.0008: 100% 21/21 [00:10<00:00,  1.93it/s, 0 cls=0.22844, 1 cls=0.31509, 2 cls=0.26711, bce=0.07874, dice=0.84212, loss=-0.75766]\n"
     ]
    },
    {
     "name": "stdout",
     "output_type": "stream",
     "text": [
      "loss: -0.83636 | bce: 0.03642 | dice: 0.87911 | 0 cls: 0.15540 | 1 cls: 0.19486 | 2 cls: 0.16858\n"
     ]
    },
    {
     "name": "stderr",
     "output_type": "stream",
     "text": [
      "Epoch 19, lr 0.0008: 100% 21/21 [00:10<00:00,  1.96it/s, 0 cls=0.21871, 1 cls=0.30276, 2 cls=0.25697, bce=0.07289, dice=0.84581, loss=-0.76743]\n"
     ]
    },
    {
     "name": "stdout",
     "output_type": "stream",
     "text": [
      "loss: -0.85253 | bce: 0.03436 | dice: 0.89091 | 0 cls: 0.13224 | 1 cls: 0.18774 | 2 cls: 0.15708\n"
     ]
    },
    {
     "name": "stderr",
     "output_type": "stream",
     "text": [
      "Epoch 20, lr 0.0008: 100% 21/21 [00:10<00:00,  1.94it/s, 0 cls=0.21388, 1 cls=0.30310, 2 cls=0.25188, bce=0.07384, dice=0.84947, loss=-0.77017]\n"
     ]
    },
    {
     "name": "stdout",
     "output_type": "stream",
     "text": [
      "loss: -0.84967 | bce: 0.03220 | dice: 0.88533 | 0 cls: 0.13789 | 1 cls: 0.18955 | 2 cls: 0.16242\n"
     ]
    },
    {
     "name": "stderr",
     "output_type": "stream",
     "text": [
      "Epoch 21, lr 0.0008: 100% 21/21 [00:10<00:00,  1.94it/s, 0 cls=0.21117, 1 cls=0.30175, 2 cls=0.25420, bce=0.07180, dice=0.84836, loss=-0.77201]\n"
     ]
    },
    {
     "name": "stdout",
     "output_type": "stream",
     "text": [
      "loss: -0.85609 | bce: 0.03319 | dice: 0.89075 | 0 cls: 0.12503 | 1 cls: 0.19385 | 2 cls: 0.16173\n"
     ]
    },
    {
     "name": "stderr",
     "output_type": "stream",
     "text": [
      "Epoch 22, lr 0.0008: 100% 21/21 [00:10<00:00,  1.92it/s, 0 cls=0.20415, 1 cls=0.29135, 2 cls=0.24509, bce=0.07003, dice=0.85386, loss=-0.77912]\n"
     ]
    },
    {
     "name": "stdout",
     "output_type": "stream",
     "text": [
      "loss: -0.86200 | bce: 0.02920 | dice: 0.89331 | 0 cls: 0.12251 | 1 cls: 0.18157 | 2 cls: 0.15191\n"
     ]
    },
    {
     "name": "stderr",
     "output_type": "stream",
     "text": [
      "Epoch 23, lr 0.0008: 100% 21/21 [00:11<00:00,  1.90it/s, 0 cls=0.22126, 1 cls=0.30624, 2 cls=0.25897, bce=0.07452, dice=0.84478, loss=-0.76473]\n"
     ]
    },
    {
     "name": "stdout",
     "output_type": "stream",
     "text": [
      "loss: -0.85272 | bce: 0.03165 | dice: 0.89056 | 0 cls: 0.13763 | 1 cls: 0.18223 | 2 cls: 0.14571\n"
     ]
    },
    {
     "name": "stderr",
     "output_type": "stream",
     "text": [
      "Epoch 24, lr 0.0008: 100% 21/21 [00:10<00:00,  1.92it/s, 0 cls=0.20753, 1 cls=0.30057, 2 cls=0.25103, bce=0.07167, dice=0.85074, loss=-0.77436]\n"
     ]
    },
    {
     "name": "stdout",
     "output_type": "stream",
     "text": [
      "loss: -0.85045 | bce: 0.03264 | dice: 0.88823 | 0 cls: 0.14180 | 1 cls: 0.18461 | 2 cls: 0.14888\n"
     ]
    },
    {
     "name": "stderr",
     "output_type": "stream",
     "text": [
      "Epoch 25, lr 0.0008: 100% 21/21 [00:11<00:00,  1.88it/s, 0 cls=0.21551, 1 cls=0.29760, 2 cls=0.25271, bce=0.07272, dice=0.84894, loss=-0.77079]\n"
     ]
    },
    {
     "name": "stdout",
     "output_type": "stream",
     "text": [
      "loss: -0.85850 | bce: 0.02966 | dice: 0.89172 | 0 cls: 0.12876 | 1 cls: 0.18401 | 2 cls: 0.14732\n"
     ]
    },
    {
     "name": "stderr",
     "output_type": "stream",
     "text": [
      "Epoch 26, lr 0.0008: 100% 21/21 [00:10<00:00,  1.91it/s, 0 cls=0.20942, 1 cls=0.29949, 2 cls=0.25092, bce=0.07050, dice=0.84930, loss=-0.77388]\n"
     ]
    },
    {
     "name": "stdout",
     "output_type": "stream",
     "text": [
      "loss: -0.85446 | bce: 0.03388 | dice: 0.88981 | 0 cls: 0.12531 | 1 cls: 0.20039 | 2 cls: 0.16311\n"
     ]
    },
    {
     "name": "stderr",
     "output_type": "stream",
     "text": [
      "Epoch 27, lr 0.0008: 100% 21/21 [00:11<00:00,  1.90it/s, 0 cls=0.20614, 1 cls=0.29676, 2 cls=0.24721, bce=0.07193, dice=0.85304, loss=-0.77640]\n"
     ]
    },
    {
     "name": "stdout",
     "output_type": "stream",
     "text": [
      "loss: -0.86033 | bce: 0.02892 | dice: 0.89243 | 0 cls: 0.12726 | 1 cls: 0.18211 | 2 cls: 0.14583\n"
     ]
    },
    {
     "name": "stderr",
     "output_type": "stream",
     "text": [
      "Epoch 28, lr 0.0008: 100% 21/21 [00:11<00:00,  1.90it/s, 0 cls=0.20366, 1 cls=0.28908, 2 cls=0.24240, bce=0.07004, dice=0.85523, loss=-0.78015]\n"
     ]
    },
    {
     "name": "stdout",
     "output_type": "stream",
     "text": [
      "loss: -0.85567 | bce: 0.03300 | dice: 0.89125 | 0 cls: 0.13113 | 1 cls: 0.18711 | 2 cls: 0.15457\n"
     ]
    },
    {
     "name": "stderr",
     "output_type": "stream",
     "text": [
      "Epoch 29, lr 0.0008: 100% 21/21 [00:10<00:00,  1.95it/s, 0 cls=0.20998, 1 cls=0.29390, 2 cls=0.24716, bce=0.07111, dice=0.85146, loss=-0.77508]\n"
     ]
    },
    {
     "name": "stdout",
     "output_type": "stream",
     "text": [
      "loss: -0.85264 | bce: 0.03388 | dice: 0.88755 | 0 cls: 0.12749 | 1 cls: 0.20178 | 2 cls: 0.16692\n"
     ]
    },
    {
     "name": "stderr",
     "output_type": "stream",
     "text": [
      "Epoch 30, lr 0.0008: 100% 21/21 [00:11<00:00,  1.87it/s, 0 cls=0.20849, 1 cls=0.29962, 2 cls=0.25000, bce=0.07174, dice=0.85105, loss=-0.77421]\n"
     ]
    },
    {
     "name": "stdout",
     "output_type": "stream",
     "text": [
      "loss: -0.85785 | bce: 0.03002 | dice: 0.89163 | 0 cls: 0.13130 | 1 cls: 0.18095 | 2 cls: 0.14602\n"
     ]
    },
    {
     "name": "stderr",
     "output_type": "stream",
     "text": [
      "Epoch 31, lr 0.0008: 100% 21/21 [00:10<00:00,  1.91it/s, 0 cls=0.20204, 1 cls=0.29074, 2 cls=0.24289, bce=0.06956, dice=0.85500, loss=-0.78080]\n"
     ]
    },
    {
     "name": "stdout",
     "output_type": "stream",
     "text": [
      "loss: -0.86561 | bce: 0.02869 | dice: 0.89708 | 0 cls: 0.11988 | 1 cls: 0.17778 | 2 cls: 0.14222\n"
     ]
    },
    {
     "name": "stderr",
     "output_type": "stream",
     "text": [
      "Epoch 32, lr 0.0008: 100% 21/21 [00:10<00:00,  1.95it/s, 0 cls=0.19008, 1 cls=0.28055, 2 cls=0.23308, bce=0.06623, dice=0.86107, loss=-0.79073]\n"
     ]
    },
    {
     "name": "stdout",
     "output_type": "stream",
     "text": [
      "loss: -0.86519 | bce: 0.03007 | dice: 0.89779 | 0 cls: 0.11973 | 1 cls: 0.17878 | 2 cls: 0.14294\n"
     ]
    },
    {
     "name": "stderr",
     "output_type": "stream",
     "text": [
      "Epoch 33, lr 0.0008: 100% 21/21 [00:10<00:00,  1.91it/s, 0 cls=0.19701, 1 cls=0.28300, 2 cls=0.23620, bce=0.06871, dice=0.85901, loss=-0.78572]\n"
     ]
    },
    {
     "name": "stdout",
     "output_type": "stream",
     "text": [
      "loss: -0.85799 | bce: 0.03059 | dice: 0.89272 | 0 cls: 0.13033 | 1 cls: 0.18208 | 2 cls: 0.14668\n"
     ]
    },
    {
     "name": "stderr",
     "output_type": "stream",
     "text": [
      "Epoch 34, lr 0.0008: 100% 21/21 [00:10<00:00,  1.93it/s, 0 cls=0.19231, 1 cls=0.28252, 2 cls=0.23265, bce=0.06604, dice=0.86003, loss=-0.78912]\n"
     ]
    },
    {
     "name": "stdout",
     "output_type": "stream",
     "text": [
      "loss: -0.86004 | bce: 0.03149 | dice: 0.89446 | 0 cls: 0.12458 | 1 cls: 0.18537 | 2 cls: 0.14752\n"
     ]
    },
    {
     "name": "stderr",
     "output_type": "stream",
     "text": [
      "Epoch 35, lr 0.0008: 100% 21/21 [00:10<00:00,  1.95it/s, 0 cls=0.19866, 1 cls=0.28421, 2 cls=0.23885, bce=0.06830, dice=0.85727, loss=-0.78454]\n"
     ]
    },
    {
     "name": "stdout",
     "output_type": "stream",
     "text": [
      "loss: -0.85909 | bce: 0.03151 | dice: 0.89400 | 0 cls: 0.12880 | 1 cls: 0.18079 | 2 cls: 0.14712\n"
     ]
    },
    {
     "name": "stderr",
     "output_type": "stream",
     "text": [
      "Epoch 36, lr 0.0008: 100% 21/21 [00:10<00:00,  1.95it/s, 0 cls=0.19056, 1 cls=0.27584, 2 cls=0.23080, bce=0.06680, dice=0.86280, loss=-0.79172]\n"
     ]
    },
    {
     "name": "stdout",
     "output_type": "stream",
     "text": [
      "loss: -0.86477 | bce: 0.03033 | dice: 0.89846 | 0 cls: 0.12139 | 1 cls: 0.17684 | 2 cls: 0.14073\n"
     ]
    },
    {
     "name": "stderr",
     "output_type": "stream",
     "text": [
      "Epoch 37, lr 0.0008: 100% 21/21 [00:10<00:00,  1.95it/s, 0 cls=0.19921, 1 cls=0.28959, 2 cls=0.24075, bce=0.06873, dice=0.85605, loss=-0.78271]\n"
     ]
    },
    {
     "name": "stdout",
     "output_type": "stream",
     "text": [
      "loss: -0.86289 | bce: 0.02994 | dice: 0.89472 | 0 cls: 0.11971 | 1 cls: 0.18687 | 2 cls: 0.14964\n"
     ]
    },
    {
     "name": "stderr",
     "output_type": "stream",
     "text": [
      "Epoch 38, lr 0.0008: 100% 21/21 [00:10<00:00,  1.96it/s, 0 cls=0.19927, 1 cls=0.27928, 2 cls=0.23459, bce=0.06796, dice=0.85886, loss=-0.78571]\n"
     ]
    },
    {
     "name": "stdout",
     "output_type": "stream",
     "text": [
      "loss: -0.86296 | bce: 0.02913 | dice: 0.89486 | 0 cls: 0.12274 | 1 cls: 0.18005 | 2 cls: 0.14521\n"
     ]
    },
    {
     "name": "stderr",
     "output_type": "stream",
     "text": [
      "Epoch 39, lr 0.0008: 100% 21/21 [00:10<00:00,  1.93it/s, 0 cls=0.19453, 1 cls=0.27898, 2 cls=0.23311, bce=0.06675, dice=0.85994, loss=-0.78855]\n"
     ]
    },
    {
     "name": "stdout",
     "output_type": "stream",
     "text": [
      "loss: -0.86422 | bce: 0.02992 | dice: 0.89682 | 0 cls: 0.12132 | 1 cls: 0.17866 | 2 cls: 0.14411\n"
     ]
    },
    {
     "name": "stderr",
     "output_type": "stream",
     "text": [
      "Epoch 40, lr 0.0008: 100% 21/21 [00:10<00:00,  1.95it/s, 0 cls=0.20584, 1 cls=0.28528, 2 cls=0.24250, bce=0.06993, dice=0.85486, loss=-0.78004]\n"
     ]
    },
    {
     "name": "stdout",
     "output_type": "stream",
     "text": [
      "loss: -0.86011 | bce: 0.03254 | dice: 0.89423 | 0 cls: 0.11986 | 1 cls: 0.19420 | 2 cls: 0.15500\n"
     ]
    },
    {
     "name": "stderr",
     "output_type": "stream",
     "text": [
      "Epoch 41, lr 0.0008: 100% 21/21 [00:11<00:00,  1.91it/s, 0 cls=0.19641, 1 cls=0.28535, 2 cls=0.23711, bce=0.06824, dice=0.85844, loss=-0.78577]\n"
     ]
    },
    {
     "name": "stdout",
     "output_type": "stream",
     "text": [
      "loss: -0.86329 | bce: 0.02974 | dice: 0.89548 | 0 cls: 0.11998 | 1 cls: 0.18357 | 2 cls: 0.14804\n"
     ]
    },
    {
     "name": "stderr",
     "output_type": "stream",
     "text": [
      "Epoch 42, lr 0.0008: 100% 21/21 [00:10<00:00,  1.92it/s, 0 cls=0.19144, 1 cls=0.27620, 2 cls=0.23117, bce=0.06556, dice=0.86130, loss=-0.79126]\n"
     ]
    },
    {
     "name": "stdout",
     "output_type": "stream",
     "text": [
      "loss: -0.86283 | bce: 0.03012 | dice: 0.89653 | 0 cls: 0.12503 | 1 cls: 0.17626 | 2 cls: 0.14217\n"
     ]
    },
    {
     "name": "stderr",
     "output_type": "stream",
     "text": [
      "Epoch 43, lr 0.0008: 100% 21/21 [00:10<00:00,  1.94it/s, 0 cls=0.19285, 1 cls=0.27536, 2 cls=0.23147, bce=0.06702, dice=0.86181, loss=-0.79059]\n"
     ]
    },
    {
     "name": "stdout",
     "output_type": "stream",
     "text": [
      "loss: -0.86165 | bce: 0.03177 | dice: 0.89735 | 0 cls: 0.12315 | 1 cls: 0.18302 | 2 cls: 0.14382\n"
     ]
    },
    {
     "name": "stderr",
     "output_type": "stream",
     "text": [
      "Epoch 44, lr 0.0008: 100% 21/21 [00:10<00:00,  1.94it/s, 0 cls=0.19503, 1 cls=0.27853, 2 cls=0.23263, bce=0.06684, dice=0.86014, loss=-0.78850]\n"
     ]
    },
    {
     "name": "stdout",
     "output_type": "stream",
     "text": [
      "loss: -0.85506 | bce: 0.03062 | dice: 0.88914 | 0 cls: 0.13188 | 1 cls: 0.18755 | 2 cls: 0.15197\n"
     ]
    },
    {
     "name": "stderr",
     "output_type": "stream",
     "text": [
      "Epoch 45, lr 0.0008: 100% 21/21 [00:10<00:00,  1.95it/s, 0 cls=0.19108, 1 cls=0.27743, 2 cls=0.23019, bce=0.06592, dice=0.86166, loss=-0.79125]\n"
     ]
    },
    {
     "name": "stdout",
     "output_type": "stream",
     "text": [
      "loss: -0.86328 | bce: 0.03150 | dice: 0.89801 | 0 cls: 0.11908 | 1 cls: 0.18544 | 2 cls: 0.14423\n"
     ]
    },
    {
     "name": "stderr",
     "output_type": "stream",
     "text": [
      "Epoch 46, lr 0.0008: 100% 21/21 [00:11<00:00,  1.89it/s, 0 cls=0.17920, 1 cls=0.26267, 2 cls=0.21848, bce=0.06257, dice=0.86931, loss=-0.80262]\n"
     ]
    },
    {
     "name": "stdout",
     "output_type": "stream",
     "text": [
      "loss: -0.86470 | bce: 0.02824 | dice: 0.89577 | 0 cls: 0.12140 | 1 cls: 0.17758 | 2 cls: 0.14268\n"
     ]
    },
    {
     "name": "stderr",
     "output_type": "stream",
     "text": [
      "Epoch 47, lr 0.0008: 100% 21/21 [00:10<00:00,  1.93it/s, 0 cls=0.19346, 1 cls=0.27920, 2 cls=0.23342, bce=0.06861, dice=0.86178, loss=-0.78891]\n"
     ]
    },
    {
     "name": "stdout",
     "output_type": "stream",
     "text": [
      "loss: -0.86329 | bce: 0.02939 | dice: 0.89602 | 0 cls: 0.12307 | 1 cls: 0.17955 | 2 cls: 0.14275\n"
     ]
    },
    {
     "name": "stderr",
     "output_type": "stream",
     "text": [
      "Epoch 48, lr 0.0008: 100% 21/21 [00:10<00:00,  1.93it/s, 0 cls=0.19146, 1 cls=0.27948, 2 cls=0.23314, bce=0.06714, dice=0.86152, loss=-0.79007]\n"
     ]
    },
    {
     "name": "stdout",
     "output_type": "stream",
     "text": [
      "loss: -0.86575 | bce: 0.03053 | dice: 0.89905 | 0 cls: 0.11741 | 1 cls: 0.18250 | 2 cls: 0.14235\n"
     ]
    },
    {
     "name": "stderr",
     "output_type": "stream",
     "text": [
      "Epoch 49, lr 0.0008: 100% 21/21 [00:10<00:00,  1.94it/s, 0 cls=0.18347, 1 cls=0.26819, 2 cls=0.22295, bce=0.06342, dice=0.86603, loss=-0.79849]\n"
     ]
    },
    {
     "name": "stdout",
     "output_type": "stream",
     "text": [
      "loss: -0.86455 | bce: 0.02911 | dice: 0.89687 | 0 cls: 0.12218 | 1 cls: 0.17699 | 2 cls: 0.14108\n"
     ]
    },
    {
     "name": "stderr",
     "output_type": "stream",
     "text": [
      "Epoch 50, lr 0.0008: 100% 21/21 [00:10<00:00,  1.94it/s, 0 cls=0.18741, 1 cls=0.27295, 2 cls=0.22681, bce=0.06518, dice=0.86425, loss=-0.79476]\n"
     ]
    },
    {
     "name": "stdout",
     "output_type": "stream",
     "text": [
      "loss: -0.86275 | bce: 0.03012 | dice: 0.89668 | 0 cls: 0.12438 | 1 cls: 0.17846 | 2 cls: 0.14174\n"
     ]
    },
    {
     "name": "stderr",
     "output_type": "stream",
     "text": [
      "Epoch 51, lr 0.0008: 100% 21/21 [00:10<00:00,  1.95it/s, 0 cls=0.19075, 1 cls=0.27440, 2 cls=0.23083, bce=0.06620, dice=0.86228, loss=-0.79211]\n"
     ]
    },
    {
     "name": "stdout",
     "output_type": "stream",
     "text": [
      "loss: -0.86725 | bce: 0.02977 | dice: 0.89953 | 0 cls: 0.11691 | 1 cls: 0.17765 | 2 cls: 0.14055\n"
     ]
    },
    {
     "name": "stderr",
     "output_type": "stream",
     "text": [
      "Epoch 52, lr 0.0008: 100% 21/21 [00:11<00:00,  1.85it/s, 0 cls=0.18707, 1 cls=0.27311, 2 cls=0.22790, bce=0.06465, dice=0.86375, loss=-0.79509]\n"
     ]
    },
    {
     "name": "stdout",
     "output_type": "stream",
     "text": [
      "loss: -0.86735 | bce: 0.02995 | dice: 0.90030 | 0 cls: 0.11856 | 1 cls: 0.17390 | 2 cls: 0.13899\n"
     ]
    },
    {
     "name": "stderr",
     "output_type": "stream",
     "text": [
      "Epoch 53, lr 0.0008: 100% 21/21 [00:10<00:00,  1.93it/s, 0 cls=0.18406, 1 cls=0.26897, 2 cls=0.22331, bce=0.06468, dice=0.86667, loss=-0.79781]\n"
     ]
    },
    {
     "name": "stdout",
     "output_type": "stream",
     "text": [
      "loss: -0.86031 | bce: 0.03434 | dice: 0.89611 | 0 cls: 0.11937 | 1 cls: 0.19378 | 2 cls: 0.15372\n"
     ]
    },
    {
     "name": "stderr",
     "output_type": "stream",
     "text": [
      "Epoch 54, lr 0.0008: 100% 21/21 [00:11<00:00,  1.91it/s, 0 cls=0.18589, 1 cls=0.27275, 2 cls=0.22670, bce=0.06568, dice=0.86513, loss=-0.79547]\n"
     ]
    },
    {
     "name": "stdout",
     "output_type": "stream",
     "text": [
      "loss: -0.86767 | bce: 0.03020 | dice: 0.90030 | 0 cls: 0.11724 | 1 cls: 0.17538 | 2 cls: 0.14068\n"
     ]
    },
    {
     "name": "stderr",
     "output_type": "stream",
     "text": [
      "Epoch 55, lr 0.0008: 100% 21/21 [00:10<00:00,  1.93it/s, 0 cls=0.19083, 1 cls=0.27104, 2 cls=0.22929, bce=0.06741, dice=0.86472, loss=-0.79290]\n"
     ]
    },
    {
     "name": "stdout",
     "output_type": "stream",
     "text": [
      "loss: -0.86582 | bce: 0.03017 | dice: 0.89794 | 0 cls: 0.11983 | 1 cls: 0.17607 | 2 cls: 0.14512\n"
     ]
    },
    {
     "name": "stderr",
     "output_type": "stream",
     "text": [
      "Epoch 56, lr 0.0008: 100% 21/21 [00:11<00:00,  1.88it/s, 0 cls=0.18718, 1 cls=0.27003, 2 cls=0.22624, bce=0.06563, dice=0.86540, loss=-0.79554]\n"
     ]
    },
    {
     "name": "stdout",
     "output_type": "stream",
     "text": [
      "loss: -0.86469 | bce: 0.03036 | dice: 0.89704 | 0 cls: 0.11930 | 1 cls: 0.18172 | 2 cls: 0.14656\n"
     ]
    },
    {
     "name": "stderr",
     "output_type": "stream",
     "text": [
      "Epoch 57, lr 0.0008: 100% 21/21 [00:11<00:00,  1.91it/s, 0 cls=0.18957, 1 cls=0.27421, 2 cls=0.22862, bce=0.06568, dice=0.86297, loss=-0.79300]\n"
     ]
    },
    {
     "name": "stdout",
     "output_type": "stream",
     "text": [
      "loss: -0.86724 | bce: 0.03055 | dice: 0.90012 | 0 cls: 0.11841 | 1 cls: 0.17548 | 2 cls: 0.14094\n"
     ]
    },
    {
     "name": "stderr",
     "output_type": "stream",
     "text": [
      "Epoch 58, lr 0.0008: 100% 21/21 [00:11<00:00,  1.87it/s, 0 cls=0.18605, 1 cls=0.26591, 2 cls=0.22329, bce=0.06420, dice=0.86598, loss=-0.79752]\n"
     ]
    },
    {
     "name": "stdout",
     "output_type": "stream",
     "text": [
      "loss: -0.86405 | bce: 0.03076 | dice: 0.89795 | 0 cls: 0.12103 | 1 cls: 0.18094 | 2 cls: 0.14077\n"
     ]
    },
    {
     "name": "stderr",
     "output_type": "stream",
     "text": [
      "Epoch 59, lr 0.0008: 100% 21/21 [00:11<00:00,  1.90it/s, 0 cls=0.19303, 1 cls=0.27165, 2 cls=0.22816, bce=0.06564, dice=0.86217, loss=-0.79177]\n"
     ]
    },
    {
     "name": "stdout",
     "output_type": "stream",
     "text": [
      "loss: -0.86325 | bce: 0.02962 | dice: 0.89672 | 0 cls: 0.12379 | 1 cls: 0.17743 | 2 cls: 0.14176\n"
     ]
    },
    {
     "name": "stderr",
     "output_type": "stream",
     "text": [
      "Epoch 60, lr 0.0008: 100% 21/21 [00:10<00:00,  1.95it/s, 0 cls=0.18470, 1 cls=0.27018, 2 cls=0.22383, bce=0.06395, dice=0.86540, loss=-0.79724]\n"
     ]
    },
    {
     "name": "stdout",
     "output_type": "stream",
     "text": [
      "loss: -0.87018 | bce: 0.03045 | dice: 0.90340 | 0 cls: 0.11509 | 1 cls: 0.17170 | 2 cls: 0.13647\n"
     ]
    },
    {
     "name": "stderr",
     "output_type": "stream",
     "text": [
      "Epoch 61, lr 0.0008: 100% 21/21 [00:11<00:00,  1.90it/s, 0 cls=0.19089, 1 cls=0.27384, 2 cls=0.23017, bce=0.06764, dice=0.86396, loss=-0.79216]\n"
     ]
    },
    {
     "name": "stdout",
     "output_type": "stream",
     "text": [
      "loss: -0.86372 | bce: 0.02938 | dice: 0.89529 | 0 cls: 0.12290 | 1 cls: 0.17940 | 2 cls: 0.14349\n"
     ]
    },
    {
     "name": "stderr",
     "output_type": "stream",
     "text": [
      "Epoch 62, lr 0.0008: 100% 21/21 [00:10<00:00,  1.93it/s, 0 cls=0.18622, 1 cls=0.27030, 2 cls=0.22540, bce=0.06520, dice=0.86542, loss=-0.79608]\n"
     ]
    },
    {
     "name": "stdout",
     "output_type": "stream",
     "text": [
      "loss: -0.86919 | bce: 0.03129 | dice: 0.90278 | 0 cls: 0.11593 | 1 cls: 0.17328 | 2 cls: 0.13804\n"
     ]
    },
    {
     "name": "stderr",
     "output_type": "stream",
     "text": [
      "Epoch 63, lr 0.0008: 100% 21/21 [00:10<00:00,  1.94it/s, 0 cls=0.19672, 1 cls=0.27345, 2 cls=0.23145, bce=0.06785, dice=0.86143, loss=-0.78878]\n"
     ]
    },
    {
     "name": "stdout",
     "output_type": "stream",
     "text": [
      "loss: -0.85132 | bce: 0.02987 | dice: 0.88664 | 0 cls: 0.14117 | 1 cls: 0.18048 | 2 cls: 0.15039\n"
     ]
    },
    {
     "name": "stderr",
     "output_type": "stream",
     "text": [
      "Epoch 64, lr 0.0008: 100% 21/21 [00:10<00:00,  1.92it/s, 0 cls=0.18660, 1 cls=0.27249, 2 cls=0.22430, bce=0.06445, dice=0.86467, loss=-0.79549]\n"
     ]
    },
    {
     "name": "stdout",
     "output_type": "stream",
     "text": [
      "loss: -0.86795 | bce: 0.02881 | dice: 0.89940 | 0 cls: 0.11727 | 1 cls: 0.17551 | 2 cls: 0.13926\n"
     ]
    },
    {
     "name": "stderr",
     "output_type": "stream",
     "text": [
      "Epoch 65, lr 0.0008: 100% 21/21 [00:10<00:00,  1.95it/s, 0 cls=0.18425, 1 cls=0.26907, 2 cls=0.22312, bce=0.06379, dice=0.86607, loss=-0.79804]\n"
     ]
    },
    {
     "name": "stdout",
     "output_type": "stream",
     "text": [
      "loss: -0.86775 | bce: 0.03027 | dice: 0.90085 | 0 cls: 0.11798 | 1 cls: 0.17500 | 2 cls: 0.13758\n"
     ]
    },
    {
     "name": "stderr",
     "output_type": "stream",
     "text": [
      "Epoch 66, lr 0.0008: 100% 21/21 [00:11<00:00,  1.89it/s, 0 cls=0.18401, 1 cls=0.26773, 2 cls=0.22343, bce=0.06686, dice=0.86873, loss=-0.79787]\n"
     ]
    },
    {
     "name": "stdout",
     "output_type": "stream",
     "text": [
      "loss: -0.86714 | bce: 0.03041 | dice: 0.90036 | 0 cls: 0.11768 | 1 cls: 0.17585 | 2 cls: 0.14131\n"
     ]
    },
    {
     "name": "stderr",
     "output_type": "stream",
     "text": [
      "Epoch 67, lr 0.0008: 100% 21/21 [00:10<00:00,  1.93it/s, 0 cls=0.18111, 1 cls=0.26349, 2 cls=0.22018, bce=0.06378, dice=0.86892, loss=-0.80106]\n"
     ]
    },
    {
     "name": "stdout",
     "output_type": "stream",
     "text": [
      "loss: -0.86516 | bce: 0.03209 | dice: 0.89971 | 0 cls: 0.11981 | 1 cls: 0.17660 | 2 cls: 0.14252\n"
     ]
    },
    {
     "name": "stderr",
     "output_type": "stream",
     "text": [
      "Epoch 68, lr 0.0008: 100% 21/21 [00:11<00:00,  1.90it/s, 0 cls=0.18774, 1 cls=0.27093, 2 cls=0.22682, bce=0.06522, dice=0.86428, loss=-0.79500]\n"
     ]
    },
    {
     "name": "stdout",
     "output_type": "stream",
     "text": [
      "loss: -0.85434 | bce: 0.03129 | dice: 0.88849 | 0 cls: 0.12495 | 1 cls: 0.20437 | 2 cls: 0.15726\n"
     ]
    },
    {
     "name": "stderr",
     "output_type": "stream",
     "text": [
      "Epoch 69, lr 0.0008: 100% 21/21 [00:10<00:00,  1.91it/s, 0 cls=0.18785, 1 cls=0.27125, 2 cls=0.22583, bce=0.06533, dice=0.86478, loss=-0.79489]\n"
     ]
    },
    {
     "name": "stdout",
     "output_type": "stream",
     "text": [
      "loss: -0.86579 | bce: 0.03100 | dice: 0.90059 | 0 cls: 0.11949 | 1 cls: 0.17500 | 2 cls: 0.13853\n"
     ]
    },
    {
     "name": "stderr",
     "output_type": "stream",
     "text": [
      "Epoch 70, lr 0.0008: 100% 21/21 [00:11<00:00,  1.90it/s, 0 cls=0.18757, 1 cls=0.26998, 2 cls=0.22636, bce=0.06451, dice=0.86428, loss=-0.79550]\n"
     ]
    },
    {
     "name": "stdout",
     "output_type": "stream",
     "text": [
      "loss: -0.86011 | bce: 0.03397 | dice: 0.89753 | 0 cls: 0.12347 | 1 cls: 0.18719 | 2 cls: 0.14589\n"
     ]
    },
    {
     "name": "stderr",
     "output_type": "stream",
     "text": [
      "Epoch 71, lr 0.0008: 100% 21/21 [00:11<00:00,  1.90it/s, 0 cls=0.18213, 1 cls=0.26562, 2 cls=0.22049, bce=0.06350, dice=0.86759, loss=-0.80002]\n"
     ]
    },
    {
     "name": "stdout",
     "output_type": "stream",
     "text": [
      "loss: -0.86437 | bce: 0.03131 | dice: 0.89820 | 0 cls: 0.12013 | 1 cls: 0.18091 | 2 cls: 0.14413\n"
     ]
    },
    {
     "name": "stderr",
     "output_type": "stream",
     "text": [
      "Epoch 72, lr 0.0008: 100% 21/21 [00:10<00:00,  1.91it/s, 0 cls=0.18436, 1 cls=0.26643, 2 cls=0.22259, bce=0.06405, dice=0.86660, loss=-0.79842]\n"
     ]
    },
    {
     "name": "stdout",
     "output_type": "stream",
     "text": [
      "loss: -0.86812 | bce: 0.03097 | dice: 0.90231 | 0 cls: 0.11455 | 1 cls: 0.17673 | 2 cls: 0.13961\n"
     ]
    },
    {
     "name": "stderr",
     "output_type": "stream",
     "text": [
      "Epoch 73, lr 0.0008: 100% 21/21 [00:10<00:00,  1.94it/s, 0 cls=0.18306, 1 cls=0.26353, 2 cls=0.22078, bce=0.06384, dice=0.86794, loss=-0.80001]\n"
     ]
    },
    {
     "name": "stdout",
     "output_type": "stream",
     "text": [
      "loss: -0.87007 | bce: 0.03022 | dice: 0.90338 | 0 cls: 0.11473 | 1 cls: 0.17203 | 2 cls: 0.13600\n"
     ]
    },
    {
     "name": "stderr",
     "output_type": "stream",
     "text": [
      "Epoch 74, lr 0.0008: 100% 21/21 [00:10<00:00,  1.92it/s, 0 cls=0.17734, 1 cls=0.26017, 2 cls=0.21641, bce=0.06217, dice=0.87049, loss=-0.80452]\n"
     ]
    },
    {
     "name": "stdout",
     "output_type": "stream",
     "text": [
      "loss: -0.86659 | bce: 0.03031 | dice: 0.89957 | 0 cls: 0.11905 | 1 cls: 0.17458 | 2 cls: 0.14110\n"
     ]
    },
    {
     "name": "stderr",
     "output_type": "stream",
     "text": [
      "Epoch 75, lr 0.0008: 100% 21/21 [00:10<00:00,  1.92it/s, 0 cls=0.17391, 1 cls=0.26023, 2 cls=0.21589, bce=0.06232, dice=0.87210, loss=-0.80637]\n"
     ]
    },
    {
     "name": "stdout",
     "output_type": "stream",
     "text": [
      "loss: -0.86619 | bce: 0.03113 | dice: 0.90060 | 0 cls: 0.11848 | 1 cls: 0.17757 | 2 cls: 0.13994\n"
     ]
    },
    {
     "name": "stderr",
     "output_type": "stream",
     "text": [
      "Epoch 76, lr 0.0008: 100% 21/21 [00:10<00:00,  1.92it/s, 0 cls=0.18035, 1 cls=0.26424, 2 cls=0.21988, bce=0.06268, dice=0.86806, loss=-0.80159]\n"
     ]
    },
    {
     "name": "stdout",
     "output_type": "stream",
     "text": [
      "loss: -0.86815 | bce: 0.03144 | dice: 0.90284 | 0 cls: 0.11764 | 1 cls: 0.17200 | 2 cls: 0.13793\n"
     ]
    },
    {
     "name": "stderr",
     "output_type": "stream",
     "text": [
      "Epoch 77, lr 0.0008: 100% 21/21 [00:10<00:00,  1.94it/s, 0 cls=0.19115, 1 cls=0.26902, 2 cls=0.22728, bce=0.06556, dice=0.86371, loss=-0.79358]\n"
     ]
    },
    {
     "name": "stdout",
     "output_type": "stream",
     "text": [
      "loss: -0.85876 | bce: 0.03042 | dice: 0.89335 | 0 cls: 0.12724 | 1 cls: 0.18449 | 2 cls: 0.14630\n"
     ]
    },
    {
     "name": "stderr",
     "output_type": "stream",
     "text": [
      "Epoch 78, lr 0.0008: 100% 21/21 [00:10<00:00,  1.92it/s, 0 cls=0.17831, 1 cls=0.26208, 2 cls=0.21856, bce=0.06437, dice=0.87119, loss=-0.80304]\n"
     ]
    },
    {
     "name": "stdout",
     "output_type": "stream",
     "text": [
      "loss: -0.86747 | bce: 0.03172 | dice: 0.90186 | 0 cls: 0.11656 | 1 cls: 0.17677 | 2 cls: 0.14060\n"
     ]
    },
    {
     "name": "stderr",
     "output_type": "stream",
     "text": [
      "Epoch 79, lr 0.0008: 100% 21/21 [00:10<00:00,  1.94it/s, 0 cls=0.18145, 1 cls=0.26292, 2 cls=0.21920, bce=0.06289, dice=0.86838, loss=-0.80128]\n"
     ]
    },
    {
     "name": "stdout",
     "output_type": "stream",
     "text": [
      "loss: -0.86924 | bce: 0.02939 | dice: 0.90150 | 0 cls: 0.11585 | 1 cls: 0.17430 | 2 cls: 0.13715\n"
     ]
    },
    {
     "name": "stderr",
     "output_type": "stream",
     "text": [
      "Epoch 80, lr 0.0008: 100% 21/21 [00:10<00:00,  1.92it/s, 0 cls=0.18304, 1 cls=0.26670, 2 cls=0.22192, bce=0.06478, dice=0.86790, loss=-0.79903]\n"
     ]
    },
    {
     "name": "stdout",
     "output_type": "stream",
     "text": [
      "loss: -0.86565 | bce: 0.03146 | dice: 0.90011 | 0 cls: 0.11945 | 1 cls: 0.17696 | 2 cls: 0.14124\n"
     ]
    },
    {
     "name": "stderr",
     "output_type": "stream",
     "text": [
      "Epoch 81, lr 0.0008: 100% 21/21 [00:10<00:00,  1.94it/s, 0 cls=0.18310, 1 cls=0.26400, 2 cls=0.22146, bce=0.06499, dice=0.86869, loss=-0.79960]\n"
     ]
    },
    {
     "name": "stdout",
     "output_type": "stream",
     "text": [
      "loss: -0.86131 | bce: 0.02965 | dice: 0.89394 | 0 cls: 0.12871 | 1 cls: 0.17483 | 2 cls: 0.14519\n"
     ]
    },
    {
     "name": "stderr",
     "output_type": "stream",
     "text": [
      "Epoch 82, lr 0.0008: 100% 21/21 [00:10<00:00,  1.92it/s, 0 cls=0.18490, 1 cls=0.26643, 2 cls=0.22213, bce=0.06400, dice=0.86649, loss=-0.79817]\n"
     ]
    },
    {
     "name": "stdout",
     "output_type": "stream",
     "text": [
      "loss: -0.86237 | bce: 0.03011 | dice: 0.89454 | 0 cls: 0.12296 | 1 cls: 0.18320 | 2 cls: 0.14769\n"
     ]
    },
    {
     "name": "stderr",
     "output_type": "stream",
     "text": [
      "Epoch 83, lr 0.0008: 100% 21/21 [00:11<00:00,  1.90it/s, 0 cls=0.18232, 1 cls=0.26410, 2 cls=0.22038, bce=0.06342, dice=0.86779, loss=-0.80030]\n"
     ]
    },
    {
     "name": "stdout",
     "output_type": "stream",
     "text": [
      "loss: -0.86940 | bce: 0.03030 | dice: 0.90217 | 0 cls: 0.11543 | 1 cls: 0.17505 | 2 cls: 0.13641\n"
     ]
    },
    {
     "name": "stderr",
     "output_type": "stream",
     "text": [
      "Epoch 84, lr 0.0008: 100% 21/21 [00:10<00:00,  1.92it/s, 0 cls=0.18458, 1 cls=0.26377, 2 cls=0.22120, bce=0.06426, dice=0.86746, loss=-0.79900]\n"
     ]
    },
    {
     "name": "stdout",
     "output_type": "stream",
     "text": [
      "loss: -0.86489 | bce: 0.02938 | dice: 0.89753 | 0 cls: 0.12161 | 1 cls: 0.17723 | 2 cls: 0.14075\n"
     ]
    },
    {
     "name": "stderr",
     "output_type": "stream",
     "text": [
      "Epoch 85, lr 0.0008: 100% 21/21 [00:10<00:00,  1.94it/s, 0 cls=0.17680, 1 cls=0.26026, 2 cls=0.21631, bce=0.06177, dice=0.87036, loss=-0.80478]\n"
     ]
    },
    {
     "name": "stdout",
     "output_type": "stream",
     "text": [
      "loss: -0.86456 | bce: 0.03304 | dice: 0.90136 | 0 cls: 0.12166 | 1 cls: 0.17469 | 2 cls: 0.13961\n"
     ]
    },
    {
     "name": "stderr",
     "output_type": "stream",
     "text": [
      "Epoch 86, lr 0.0008: 100% 21/21 [00:10<00:00,  1.98it/s, 0 cls=0.17912, 1 cls=0.26395, 2 cls=0.21915, bce=0.06241, dice=0.86865, loss=-0.80248]\n"
     ]
    },
    {
     "name": "stdout",
     "output_type": "stream",
     "text": [
      "loss: -0.86816 | bce: 0.03093 | dice: 0.90232 | 0 cls: 0.11686 | 1 cls: 0.17290 | 2 cls: 0.13854\n"
     ]
    },
    {
     "name": "stderr",
     "output_type": "stream",
     "text": [
      "Epoch 87, lr 0.0008: 100% 21/21 [00:11<00:00,  1.91it/s, 0 cls=0.17450, 1 cls=0.25427, 2 cls=0.21249, bce=0.06212, dice=0.87371, loss=-0.80781]\n"
     ]
    },
    {
     "name": "stdout",
     "output_type": "stream",
     "text": [
      "loss: -0.86638 | bce: 0.02837 | dice: 0.89843 | 0 cls: 0.12098 | 1 cls: 0.17382 | 2 cls: 0.13807\n"
     ]
    },
    {
     "name": "stderr",
     "output_type": "stream",
     "text": [
      "Epoch 88, lr 0.0008: 100% 21/21 [00:10<00:00,  1.94it/s, 0 cls=0.17365, 1 cls=0.25657, 2 cls=0.21206, bce=0.06057, dice=0.87235, loss=-0.80792]\n"
     ]
    },
    {
     "name": "stdout",
     "output_type": "stream",
     "text": [
      "loss: -0.87121 | bce: 0.02908 | dice: 0.90291 | 0 cls: 0.11365 | 1 cls: 0.17137 | 2 cls: 0.13641\n"
     ]
    },
    {
     "name": "stderr",
     "output_type": "stream",
     "text": [
      "Epoch 89, lr 0.0008: 100% 21/21 [00:10<00:00,  1.93it/s, 0 cls=0.17590, 1 cls=0.25869, 2 cls=0.21603, bce=0.06247, dice=0.87152, loss=-0.80566]\n"
     ]
    },
    {
     "name": "stdout",
     "output_type": "stream",
     "text": [
      "loss: -0.86776 | bce: 0.02853 | dice: 0.89936 | 0 cls: 0.11778 | 1 cls: 0.17576 | 2 cls: 0.13839\n"
     ]
    },
    {
     "name": "stderr",
     "output_type": "stream",
     "text": [
      "Epoch 90, lr 0.002: 100% 21/21 [00:11<00:00,  1.91it/s, 0 cls=0.18910, 1 cls=0.26945, 2 cls=0.22649, bce=0.06622, dice=0.86500, loss=-0.79460]\n"
     ]
    },
    {
     "name": "stdout",
     "output_type": "stream",
     "text": [
      "loss: -0.85513 | bce: 0.03197 | dice: 0.89254 | 0 cls: 0.13499 | 1 cls: 0.18203 | 2 cls: 0.14512\n"
     ]
    },
    {
     "name": "stderr",
     "output_type": "stream",
     "text": [
      "Epoch 91, lr 0.002: 100% 21/21 [00:10<00:00,  1.94it/s, 0 cls=0.21275, 1 cls=0.29234, 2 cls=0.24715, bce=0.07303, dice=0.85235, loss=-0.77365]\n"
     ]
    },
    {
     "name": "stdout",
     "output_type": "stream",
     "text": [
      "loss: -0.85705 | bce: 0.03354 | dice: 0.89354 | 0 cls: 0.13056 | 1 cls: 0.17883 | 2 cls: 0.15204\n"
     ]
    },
    {
     "name": "stderr",
     "output_type": "stream",
     "text": [
      "Epoch 92, lr 0.0006: 100% 21/21 [00:11<00:00,  1.91it/s, 0 cls=0.20598, 1 cls=0.28711, 2 cls=0.24282, bce=0.07278, dice=0.85641, loss=-0.77891]\n"
     ]
    },
    {
     "name": "stdout",
     "output_type": "stream",
     "text": [
      "loss: -0.86510 | bce: 0.02989 | dice: 0.89790 | 0 cls: 0.11945 | 1 cls: 0.17968 | 2 cls: 0.14225\n"
     ]
    },
    {
     "name": "stderr",
     "output_type": "stream",
     "text": [
      "Epoch 93, lr 0.0006: 100% 21/21 [00:10<00:00,  1.96it/s, 0 cls=0.18795, 1 cls=0.26887, 2 cls=0.22517, bce=0.06556, dice=0.86560, loss=-0.79546]\n"
     ]
    },
    {
     "name": "stdout",
     "output_type": "stream",
     "text": [
      "loss: -0.85911 | bce: 0.03130 | dice: 0.89472 | 0 cls: 0.13111 | 1 cls: 0.17527 | 2 cls: 0.14366\n"
     ]
    },
    {
     "name": "stderr",
     "output_type": "stream",
     "text": [
      "Epoch 94, lr 0.00017999999999999998: 100% 21/21 [00:10<00:00,  1.91it/s, 0 cls=0.18723, 1 cls=0.27012, 2 cls=0.22556, bce=0.06450, dice=0.86415, loss=-0.79561]\n"
     ]
    },
    {
     "name": "stdout",
     "output_type": "stream",
     "text": [
      "loss: -0.86484 | bce: 0.03035 | dice: 0.89935 | 0 cls: 0.12100 | 1 cls: 0.17599 | 2 cls: 0.13884\n"
     ]
    },
    {
     "name": "stderr",
     "output_type": "stream",
     "text": [
      "Epoch 95, lr 0.002: 100% 21/21 [00:10<00:00,  1.93it/s, 0 cls=0.19988, 1 cls=0.29386, 2 cls=0.24166, bce=0.07104, dice=0.85706, loss=-0.78101]\n"
     ]
    },
    {
     "name": "stdout",
     "output_type": "stream",
     "text": [
      "loss: -0.86176 | bce: 0.03014 | dice: 0.89607 | 0 cls: 0.12401 | 1 cls: 0.18099 | 2 cls: 0.14156\n"
     ]
    },
    {
     "name": "stderr",
     "output_type": "stream",
     "text": [
      "Epoch 96, lr 0.002: 100% 21/21 [00:11<00:00,  1.88it/s, 0 cls=0.19707, 1 cls=0.27868, 2 cls=0.23543, bce=0.06870, dice=0.86012, loss=-0.78700]\n"
     ]
    },
    {
     "name": "stdout",
     "output_type": "stream",
     "text": [
      "loss: -0.84723 | bce: 0.03490 | dice: 0.88781 | 0 cls: 0.14574 | 1 cls: 0.18717 | 2 cls: 0.15085\n"
     ]
    },
    {
     "name": "stderr",
     "output_type": "stream",
     "text": [
      "Epoch 97, lr 0.0006: 100% 21/21 [00:10<00:00,  1.92it/s, 0 cls=0.20377, 1 cls=0.28159, 2 cls=0.23863, bce=0.06953, dice=0.85677, loss=-0.78219]\n"
     ]
    },
    {
     "name": "stdout",
     "output_type": "stream",
     "text": [
      "loss: -0.86112 | bce: 0.03415 | dice: 0.89924 | 0 cls: 0.12405 | 1 cls: 0.18135 | 2 cls: 0.14305\n"
     ]
    },
    {
     "name": "stderr",
     "output_type": "stream",
     "text": [
      "Epoch 98, lr 0.0006: 100% 21/21 [00:10<00:00,  1.94it/s, 0 cls=0.18259, 1 cls=0.26608, 2 cls=0.22259, bce=0.06526, dice=0.86835, loss=-0.79929]\n"
     ]
    },
    {
     "name": "stdout",
     "output_type": "stream",
     "text": [
      "loss: -0.86843 | bce: 0.03168 | dice: 0.90324 | 0 cls: 0.11698 | 1 cls: 0.17267 | 2 cls: 0.13659\n"
     ]
    },
    {
     "name": "stderr",
     "output_type": "stream",
     "text": [
      "Epoch 99, lr 0.00017999999999999998: 100% 21/21 [00:10<00:00,  1.92it/s, 0 cls=0.18413, 1 cls=0.26348, 2 cls=0.22234, bce=0.06406, dice=0.86735, loss=-0.79941]\n"
     ]
    },
    {
     "name": "stdout",
     "output_type": "stream",
     "text": [
      "loss: -0.86878 | bce: 0.03195 | dice: 0.90396 | 0 cls: 0.11624 | 1 cls: 0.17241 | 2 cls: 0.13652\n"
     ]
    },
    {
     "name": "stderr",
     "output_type": "stream",
     "text": [
      "Epoch 100, lr 0.00048: 100% 21/21 [00:11<00:00,  1.88it/s, 0 cls=0.18668, 1 cls=0.26744, 2 cls=0.22489, bce=0.06494, dice=0.86562, loss=-0.79663]\n"
     ]
    },
    {
     "name": "stdout",
     "output_type": "stream",
     "text": [
      "loss: -0.86567 | bce: 0.03045 | dice: 0.89984 | 0 cls: 0.12067 | 1 cls: 0.17351 | 2 cls: 0.13909\n"
     ]
    },
    {
     "name": "stderr",
     "output_type": "stream",
     "text": [
      "Epoch 101, lr 0.00048: 100% 21/21 [00:11<00:00,  1.90it/s, 0 cls=0.18421, 1 cls=0.26124, 2 cls=0.21996, bce=0.06487, dice=0.86908, loss=-0.79994]\n"
     ]
    },
    {
     "name": "stdout",
     "output_type": "stream",
     "text": [
      "loss: -0.86540 | bce: 0.03041 | dice: 0.89923 | 0 cls: 0.12032 | 1 cls: 0.17647 | 2 cls: 0.13962\n"
     ]
    },
    {
     "name": "stderr",
     "output_type": "stream",
     "text": [
      "Epoch 102, lr 0.00048: 100% 21/21 [00:10<00:00,  1.93it/s, 0 cls=0.18556, 1 cls=0.26409, 2 cls=0.22218, bce=0.06358, dice=0.86618, loss=-0.79847]\n"
     ]
    },
    {
     "name": "stdout",
     "output_type": "stream",
     "text": [
      "loss: -0.86687 | bce: 0.02995 | dice: 0.90017 | 0 cls: 0.11990 | 1 cls: 0.17249 | 2 cls: 0.13844\n"
     ]
    },
    {
     "name": "stderr",
     "output_type": "stream",
     "text": [
      "Epoch 103, lr 0.00048: 100% 21/21 [00:10<00:00,  1.93it/s, 0 cls=0.17956, 1 cls=0.26263, 2 cls=0.21942, bce=0.06370, dice=0.86984, loss=-0.80240]\n"
     ]
    },
    {
     "name": "stdout",
     "output_type": "stream",
     "text": [
      "loss: -0.86608 | bce: 0.03058 | dice: 0.89967 | 0 cls: 0.11962 | 1 cls: 0.17444 | 2 cls: 0.14112\n"
     ]
    },
    {
     "name": "stderr",
     "output_type": "stream",
     "text": [
      "Epoch 104, lr 0.00048: 100% 21/21 [00:10<00:00,  1.94it/s, 0 cls=0.17618, 1 cls=0.25809, 2 cls=0.21490, bce=0.06149, dice=0.87108, loss=-0.80583]\n"
     ]
    },
    {
     "name": "stdout",
     "output_type": "stream",
     "text": [
      "loss: -0.86997 | bce: 0.03085 | dice: 0.90373 | 0 cls: 0.11511 | 1 cls: 0.17121 | 2 cls: 0.13652\n"
     ]
    },
    {
     "name": "stderr",
     "output_type": "stream",
     "text": [
      "Epoch 105, lr 0.00048: 100% 21/21 [00:10<00:00,  1.93it/s, 0 cls=0.17547, 1 cls=0.25484, 2 cls=0.21327, bce=0.06137, dice=0.87213, loss=-0.80723]\n"
     ]
    },
    {
     "name": "stdout",
     "output_type": "stream",
     "text": [
      "loss: -0.86777 | bce: 0.02999 | dice: 0.90082 | 0 cls: 0.11825 | 1 cls: 0.17258 | 2 cls: 0.13858\n"
     ]
    },
    {
     "name": "stderr",
     "output_type": "stream",
     "text": [
      "Epoch 106, lr 0.00048: 100% 21/21 [00:11<00:00,  1.90it/s, 0 cls=0.18057, 1 cls=0.26071, 2 cls=0.21869, bce=0.06356, dice=0.86967, loss=-0.80232]\n"
     ]
    },
    {
     "name": "stdout",
     "output_type": "stream",
     "text": [
      "loss: -0.86854 | bce: 0.02917 | dice: 0.90034 | 0 cls: 0.11726 | 1 cls: 0.17367 | 2 cls: 0.13786\n"
     ]
    },
    {
     "name": "stderr",
     "output_type": "stream",
     "text": [
      "Epoch 107, lr 0.00048: 100% 21/21 [00:10<00:00,  1.94it/s, 0 cls=0.17204, 1 cls=0.25212, 2 cls=0.20952, bce=0.06037, dice=0.87434, loss=-0.81014]\n"
     ]
    },
    {
     "name": "stdout",
     "output_type": "stream",
     "text": [
      "loss: -0.86949 | bce: 0.02999 | dice: 0.90250 | 0 cls: 0.11635 | 1 cls: 0.17017 | 2 cls: 0.13719\n"
     ]
    },
    {
     "name": "stderr",
     "output_type": "stream",
     "text": [
      "Epoch 108, lr 0.00048: 100% 21/21 [00:11<00:00,  1.90it/s, 0 cls=0.17594, 1 cls=0.25470, 2 cls=0.21310, bce=0.06244, dice=0.87313, loss=-0.80687]\n"
     ]
    },
    {
     "name": "stdout",
     "output_type": "stream",
     "text": [
      "loss: -0.86657 | bce: 0.02943 | dice: 0.90018 | 0 cls: 0.11800 | 1 cls: 0.17759 | 2 cls: 0.13726\n"
     ]
    },
    {
     "name": "stderr",
     "output_type": "stream",
     "text": [
      "Epoch 109, lr 0.00048: 100% 21/21 [00:10<00:00,  1.96it/s, 0 cls=0.17404, 1 cls=0.25621, 2 cls=0.21392, bce=0.06149, dice=0.87257, loss=-0.80759]\n"
     ]
    },
    {
     "name": "stdout",
     "output_type": "stream",
     "text": [
      "loss: -0.87005 | bce: 0.02925 | dice: 0.90219 | 0 cls: 0.11615 | 1 cls: 0.17015 | 2 cls: 0.13619\n"
     ]
    },
    {
     "name": "stderr",
     "output_type": "stream",
     "text": [
      "Epoch 110, lr 0.00048: 100% 21/21 [00:11<00:00,  1.90it/s, 0 cls=0.17260, 1 cls=0.25467, 2 cls=0.21223, bce=0.06015, dice=0.87270, loss=-0.80900]\n"
     ]
    },
    {
     "name": "stdout",
     "output_type": "stream",
     "text": [
      "loss: -0.86992 | bce: 0.03018 | dice: 0.90307 | 0 cls: 0.11572 | 1 cls: 0.17039 | 2 cls: 0.13669\n"
     ]
    },
    {
     "name": "stderr",
     "output_type": "stream",
     "text": [
      "Epoch 111, lr 0.00048: 100% 21/21 [00:11<00:00,  1.87it/s, 0 cls=0.17002, 1 cls=0.25354, 2 cls=0.20991, bce=0.06070, dice=0.87494, loss=-0.81088]\n"
     ]
    },
    {
     "name": "stdout",
     "output_type": "stream",
     "text": [
      "loss: -0.87127 | bce: 0.03013 | dice: 0.90415 | 0 cls: 0.11426 | 1 cls: 0.16942 | 2 cls: 0.13526\n"
     ]
    },
    {
     "name": "stderr",
     "output_type": "stream",
     "text": [
      "Epoch 112, lr 0.00048: 100% 21/21 [00:10<00:00,  1.91it/s, 0 cls=0.17208, 1 cls=0.25535, 2 cls=0.21231, bce=0.06100, dice=0.87351, loss=-0.80899]\n"
     ]
    },
    {
     "name": "stdout",
     "output_type": "stream",
     "text": [
      "loss: -0.87036 | bce: 0.02849 | dice: 0.90236 | 0 cls: 0.11601 | 1 cls: 0.16804 | 2 cls: 0.13507\n"
     ]
    },
    {
     "name": "stderr",
     "output_type": "stream",
     "text": [
      "Epoch 113, lr 0.00048: 100% 21/21 [00:10<00:00,  1.96it/s, 0 cls=0.17017, 1 cls=0.24638, 2 cls=0.20687, bce=0.05918, dice=0.87570, loss=-0.81291]\n"
     ]
    },
    {
     "name": "stdout",
     "output_type": "stream",
     "text": [
      "loss: -0.87137 | bce: 0.02973 | dice: 0.90403 | 0 cls: 0.11529 | 1 cls: 0.16696 | 2 cls: 0.13472\n"
     ]
    },
    {
     "name": "stderr",
     "output_type": "stream",
     "text": [
      "Epoch 114, lr 0.00048: 100% 21/21 [00:10<00:00,  1.91it/s, 0 cls=0.17966, 1 cls=0.25758, 2 cls=0.21711, bce=0.06319, dice=0.87076, loss=-0.80378]\n"
     ]
    },
    {
     "name": "stdout",
     "output_type": "stream",
     "text": [
      "loss: -0.86754 | bce: 0.03146 | dice: 0.90229 | 0 cls: 0.11617 | 1 cls: 0.17570 | 2 cls: 0.13964\n"
     ]
    },
    {
     "name": "stderr",
     "output_type": "stream",
     "text": [
      "Epoch 115, lr 0.00048: 100% 21/21 [00:11<00:00,  1.91it/s, 0 cls=0.17274, 1 cls=0.25430, 2 cls=0.21228, bce=0.06091, dice=0.87321, loss=-0.80893]\n"
     ]
    },
    {
     "name": "stdout",
     "output_type": "stream",
     "text": [
      "loss: -0.86927 | bce: 0.02966 | dice: 0.90233 | 0 cls: 0.11665 | 1 cls: 0.17078 | 2 cls: 0.13613\n"
     ]
    },
    {
     "name": "stderr",
     "output_type": "stream",
     "text": [
      "Epoch 116, lr 0.00048: 100% 21/21 [00:10<00:00,  1.94it/s, 0 cls=0.17354, 1 cls=0.25276, 2 cls=0.21122, bce=0.06105, dice=0.87377, loss=-0.80905]\n"
     ]
    },
    {
     "name": "stdout",
     "output_type": "stream",
     "text": [
      "loss: -0.86878 | bce: 0.02887 | dice: 0.90118 | 0 cls: 0.11721 | 1 cls: 0.17065 | 2 cls: 0.13733\n"
     ]
    },
    {
     "name": "stderr",
     "output_type": "stream",
     "text": [
      "Epoch 117, lr 0.00048: 100% 21/21 [00:10<00:00,  1.92it/s, 0 cls=0.18048, 1 cls=0.25857, 2 cls=0.21793, bce=0.06377, dice=0.87048, loss=-0.80287]\n"
     ]
    },
    {
     "name": "stdout",
     "output_type": "stream",
     "text": [
      "loss: -0.86691 | bce: 0.03032 | dice: 0.90119 | 0 cls: 0.11696 | 1 cls: 0.17592 | 2 cls: 0.13902\n"
     ]
    },
    {
     "name": "stderr",
     "output_type": "stream",
     "text": [
      "Epoch 118, lr 0.00048: 100% 21/21 [00:10<00:00,  1.93it/s, 0 cls=0.17219, 1 cls=0.25436, 2 cls=0.21208, bce=0.06089, dice=0.87348, loss=-0.80921]\n"
     ]
    },
    {
     "name": "stdout",
     "output_type": "stream",
     "text": [
      "loss: -0.86813 | bce: 0.02994 | dice: 0.90099 | 0 cls: 0.11673 | 1 cls: 0.17384 | 2 cls: 0.13988\n"
     ]
    },
    {
     "name": "stderr",
     "output_type": "stream",
     "text": [
      "Epoch 119, lr 0.00048: 100% 21/21 [00:10<00:00,  1.94it/s, 0 cls=0.17063, 1 cls=0.25197, 2 cls=0.21002, bce=0.06103, dice=0.87541, loss=-0.81092]\n"
     ]
    },
    {
     "name": "stdout",
     "output_type": "stream",
     "text": [
      "loss: -0.86968 | bce: 0.02887 | dice: 0.90213 | 0 cls: 0.11606 | 1 cls: 0.17119 | 2 cls: 0.13546\n"
     ]
    },
    {
     "name": "stderr",
     "output_type": "stream",
     "text": [
      "Epoch 120, lr 0.00048: 100% 21/21 [00:10<00:00,  1.93it/s, 0 cls=0.16876, 1 cls=0.25028, 2 cls=0.20810, bce=0.05957, dice=0.87553, loss=-0.81262]\n"
     ]
    },
    {
     "name": "stdout",
     "output_type": "stream",
     "text": [
      "loss: -0.87216 | bce: 0.02982 | dice: 0.90561 | 0 cls: 0.11345 | 1 cls: 0.16704 | 2 cls: 0.13241\n"
     ]
    },
    {
     "name": "stderr",
     "output_type": "stream",
     "text": [
      "Epoch 121, lr 0.00048: 100% 21/21 [00:10<00:00,  1.92it/s, 0 cls=0.17425, 1 cls=0.25101, 2 cls=0.21062, bce=0.06028, dice=0.87326, loss=-0.80917]\n"
     ]
    },
    {
     "name": "stdout",
     "output_type": "stream",
     "text": [
      "loss: -0.86883 | bce: 0.03066 | dice: 0.90265 | 0 cls: 0.11735 | 1 cls: 0.17086 | 2 cls: 0.13702\n"
     ]
    },
    {
     "name": "stderr",
     "output_type": "stream",
     "text": [
      "Epoch 122, lr 0.00048: 100% 21/21 [00:11<00:00,  1.89it/s, 0 cls=0.17631, 1 cls=0.25766, 2 cls=0.21527, bce=0.06319, dice=0.87255, loss=-0.80577]\n"
     ]
    },
    {
     "name": "stdout",
     "output_type": "stream",
     "text": [
      "loss: -0.86978 | bce: 0.02936 | dice: 0.90184 | 0 cls: 0.11655 | 1 cls: 0.16940 | 2 cls: 0.13776\n"
     ]
    },
    {
     "name": "stderr",
     "output_type": "stream",
     "text": [
      "Epoch 123, lr 0.00048: 100% 21/21 [00:10<00:00,  1.94it/s, 0 cls=0.16811, 1 cls=0.24580, 2 cls=0.20634, bce=0.05996, dice=0.87751, loss=-0.81417]\n"
     ]
    },
    {
     "name": "stdout",
     "output_type": "stream",
     "text": [
      "loss: -0.87059 | bce: 0.02958 | dice: 0.90298 | 0 cls: 0.11546 | 1 cls: 0.16928 | 2 cls: 0.13601\n"
     ]
    },
    {
     "name": "stderr",
     "output_type": "stream",
     "text": [
      "Epoch 124, lr 0.00048: 100% 21/21 [00:10<00:00,  1.93it/s, 0 cls=0.16990, 1 cls=0.25098, 2 cls=0.20916, bce=0.06049, dice=0.87545, loss=-0.81156]\n"
     ]
    },
    {
     "name": "stdout",
     "output_type": "stream",
     "text": [
      "loss: -0.87158 | bce: 0.03037 | dice: 0.90488 | 0 cls: 0.11355 | 1 cls: 0.16936 | 2 cls: 0.13491\n"
     ]
    },
    {
     "name": "stderr",
     "output_type": "stream",
     "text": [
      "Epoch 125, lr 0.00048: 100% 21/21 [00:10<00:00,  1.97it/s, 0 cls=0.16763, 1 cls=0.24369, 2 cls=0.20438, bce=0.05866, dice=0.87748, loss=-0.81525]\n"
     ]
    },
    {
     "name": "stdout",
     "output_type": "stream",
     "text": [
      "loss: -0.87009 | bce: 0.02833 | dice: 0.90191 | 0 cls: 0.11659 | 1 cls: 0.16861 | 2 cls: 0.13471\n"
     ]
    },
    {
     "name": "stderr",
     "output_type": "stream",
     "text": [
      "Epoch 126, lr 0.00048: 100% 21/21 [00:10<00:00,  1.94it/s, 0 cls=0.16812, 1 cls=0.24419, 2 cls=0.20520, bce=0.05894, dice=0.87714, loss=-0.81476]\n"
     ]
    },
    {
     "name": "stdout",
     "output_type": "stream",
     "text": [
      "loss: -0.86965 | bce: 0.02921 | dice: 0.90181 | 0 cls: 0.11627 | 1 cls: 0.17063 | 2 cls: 0.13701\n"
     ]
    },
    {
     "name": "stderr",
     "output_type": "stream",
     "text": [
      "Epoch 127, lr 0.00048: 100% 21/21 [00:10<00:00,  1.93it/s, 0 cls=0.17139, 1 cls=0.25317, 2 cls=0.21082, bce=0.06084, dice=0.87440, loss=-0.81006]\n"
     ]
    },
    {
     "name": "stdout",
     "output_type": "stream",
     "text": [
      "loss: -0.86863 | bce: 0.02903 | dice: 0.90088 | 0 cls: 0.11743 | 1 cls: 0.17126 | 2 cls: 0.13750\n"
     ]
    },
    {
     "name": "stderr",
     "output_type": "stream",
     "text": [
      "Epoch 128, lr 0.00048: 100% 21/21 [00:11<00:00,  1.91it/s, 0 cls=0.17519, 1 cls=0.25870, 2 cls=0.21529, bce=0.06218, dice=0.87190, loss=-0.80616]\n"
     ]
    },
    {
     "name": "stdout",
     "output_type": "stream",
     "text": [
      "loss: -0.87028 | bce: 0.02931 | dice: 0.90281 | 0 cls: 0.11529 | 1 cls: 0.17066 | 2 cls: 0.13474\n"
     ]
    },
    {
     "name": "stderr",
     "output_type": "stream",
     "text": [
      "Epoch 129, lr 0.00048: 100% 21/21 [00:10<00:00,  1.92it/s, 0 cls=0.17207, 1 cls=0.24961, 2 cls=0.20869, bce=0.06016, dice=0.87488, loss=-0.81098]\n"
     ]
    },
    {
     "name": "stdout",
     "output_type": "stream",
     "text": [
      "loss: -0.86917 | bce: 0.02845 | dice: 0.90038 | 0 cls: 0.11667 | 1 cls: 0.17182 | 2 cls: 0.13855\n"
     ]
    },
    {
     "name": "stderr",
     "output_type": "stream",
     "text": [
      "Epoch 130, lr 0.00048: 100% 21/21 [00:11<00:00,  1.90it/s, 0 cls=0.16883, 1 cls=0.24873, 2 cls=0.20734, bce=0.06017, dice=0.87657, loss=-0.81295]\n"
     ]
    },
    {
     "name": "stdout",
     "output_type": "stream",
     "text": [
      "loss: -0.86974 | bce: 0.02893 | dice: 0.90247 | 0 cls: 0.11590 | 1 cls: 0.16970 | 2 cls: 0.13570\n"
     ]
    },
    {
     "name": "stderr",
     "output_type": "stream",
     "text": [
      "Epoch 131, lr 0.00048: 100% 21/21 [00:10<00:00,  1.94it/s, 0 cls=0.16719, 1 cls=0.24636, 2 cls=0.20489, bce=0.05963, dice=0.87782, loss=-0.81461]\n"
     ]
    },
    {
     "name": "stdout",
     "output_type": "stream",
     "text": [
      "loss: -0.87060 | bce: 0.02990 | dice: 0.90370 | 0 cls: 0.11374 | 1 cls: 0.17202 | 2 cls: 0.13608\n"
     ]
    },
    {
     "name": "stderr",
     "output_type": "stream",
     "text": [
      "Epoch 132, lr 0.00048: 100% 21/21 [00:11<00:00,  1.91it/s, 0 cls=0.16711, 1 cls=0.24746, 2 cls=0.20525, bce=0.05946, dice=0.87739, loss=-0.81446]\n"
     ]
    },
    {
     "name": "stdout",
     "output_type": "stream",
     "text": [
      "loss: -0.86892 | bce: 0.02927 | dice: 0.90124 | 0 cls: 0.11613 | 1 cls: 0.17298 | 2 cls: 0.13785\n"
     ]
    },
    {
     "name": "stderr",
     "output_type": "stream",
     "text": [
      "Epoch 133, lr 0.00048: 100% 21/21 [00:10<00:00,  1.92it/s, 0 cls=0.17494, 1 cls=0.25647, 2 cls=0.21412, bce=0.06184, dice=0.87229, loss=-0.80693]\n"
     ]
    },
    {
     "name": "stdout",
     "output_type": "stream",
     "text": [
      "loss: -0.86926 | bce: 0.02887 | dice: 0.90171 | 0 cls: 0.11700 | 1 cls: 0.17107 | 2 cls: 0.13523\n"
     ]
    },
    {
     "name": "stderr",
     "output_type": "stream",
     "text": [
      "Epoch 134, lr 0.00048: 100% 21/21 [00:11<00:00,  1.88it/s, 0 cls=0.17067, 1 cls=0.25353, 2 cls=0.20957, bce=0.06046, dice=0.87474, loss=-0.81056]\n"
     ]
    },
    {
     "name": "stdout",
     "output_type": "stream",
     "text": [
      "loss: -0.87061 | bce: 0.02919 | dice: 0.90291 | 0 cls: 0.11482 | 1 cls: 0.17015 | 2 cls: 0.13571\n"
     ]
    },
    {
     "name": "stderr",
     "output_type": "stream",
     "text": [
      "Epoch 135, lr 0.00048: 100% 21/21 [00:10<00:00,  1.93it/s, 0 cls=0.17284, 1 cls=0.25207, 2 cls=0.21124, bce=0.06124, dice=0.87438, loss=-0.80953]\n"
     ]
    },
    {
     "name": "stdout",
     "output_type": "stream",
     "text": [
      "loss: -0.86861 | bce: 0.02914 | dice: 0.90137 | 0 cls: 0.11768 | 1 cls: 0.16932 | 2 cls: 0.13700\n"
     ]
    },
    {
     "name": "stderr",
     "output_type": "stream",
     "text": [
      "Epoch 136, lr 0.00048: 100% 21/21 [00:10<00:00,  1.92it/s, 0 cls=0.16677, 1 cls=0.24361, 2 cls=0.20422, bce=0.05837, dice=0.87763, loss=-0.81582]\n"
     ]
    },
    {
     "name": "stdout",
     "output_type": "stream",
     "text": [
      "loss: -0.87046 | bce: 0.02932 | dice: 0.90293 | 0 cls: 0.11528 | 1 cls: 0.16976 | 2 cls: 0.13568\n"
     ]
    },
    {
     "name": "stderr",
     "output_type": "stream",
     "text": [
      "Epoch 137, lr 0.00048: 100% 21/21 [00:11<00:00,  1.88it/s, 0 cls=0.16602, 1 cls=0.24575, 2 cls=0.20468, bce=0.05870, dice=0.87757, loss=-0.81558]\n"
     ]
    },
    {
     "name": "stdout",
     "output_type": "stream",
     "text": [
      "loss: -0.86919 | bce: 0.03054 | dice: 0.90301 | 0 cls: 0.11532 | 1 cls: 0.17445 | 2 cls: 0.13674\n"
     ]
    },
    {
     "name": "stderr",
     "output_type": "stream",
     "text": [
      "Epoch 138, lr 0.00048: 100% 21/21 [00:10<00:00,  1.94it/s, 0 cls=0.16560, 1 cls=0.24801, 2 cls=0.20634, bce=0.05914, dice=0.87735, loss=-0.81513]\n"
     ]
    },
    {
     "name": "stdout",
     "output_type": "stream",
     "text": [
      "loss: -0.86753 | bce: 0.03034 | dice: 0.90082 | 0 cls: 0.11595 | 1 cls: 0.17799 | 2 cls: 0.14063\n"
     ]
    },
    {
     "name": "stderr",
     "output_type": "stream",
     "text": [
      "Epoch 139, lr 0.00048: 100% 21/21 [00:11<00:00,  1.89it/s, 0 cls=0.16767, 1 cls=0.25041, 2 cls=0.20746, bce=0.05961, dice=0.87616, loss=-0.81316]\n"
     ]
    },
    {
     "name": "stdout",
     "output_type": "stream",
     "text": [
      "loss: -0.86909 | bce: 0.02938 | dice: 0.90183 | 0 cls: 0.11676 | 1 cls: 0.17060 | 2 cls: 0.13727\n"
     ]
    },
    {
     "name": "stderr",
     "output_type": "stream",
     "text": [
      "Epoch 140, lr 0.00048: 100% 21/21 [00:10<00:00,  1.91it/s, 0 cls=0.16161, 1 cls=0.24082, 2 cls=0.19996, bce=0.05780, dice=0.88085, loss=-0.81978]\n"
     ]
    },
    {
     "name": "stdout",
     "output_type": "stream",
     "text": [
      "loss: -0.86886 | bce: 0.02908 | dice: 0.90130 | 0 cls: 0.11650 | 1 cls: 0.17236 | 2 cls: 0.13751\n"
     ]
    },
    {
     "name": "stderr",
     "output_type": "stream",
     "text": [
      "Epoch 141, lr 0.00048: 100% 21/21 [00:10<00:00,  1.94it/s, 0 cls=0.16570, 1 cls=0.24570, 2 cls=0.20433, bce=0.05833, dice=0.87754, loss=-0.81584]\n"
     ]
    },
    {
     "name": "stdout",
     "output_type": "stream",
     "text": [
      "loss: -0.87005 | bce: 0.03099 | dice: 0.90414 | 0 cls: 0.11431 | 1 cls: 0.17311 | 2 cls: 0.13621\n"
     ]
    },
    {
     "name": "stderr",
     "output_type": "stream",
     "text": [
      "Epoch 142, lr 0.00048: 100% 21/21 [00:11<00:00,  1.90it/s, 0 cls=0.16715, 1 cls=0.24769, 2 cls=0.20632, bce=0.05944, dice=0.87699, loss=-0.81425]\n"
     ]
    },
    {
     "name": "stdout",
     "output_type": "stream",
     "text": [
      "loss: -0.86957 | bce: 0.02828 | dice: 0.90110 | 0 cls: 0.11699 | 1 cls: 0.16976 | 2 cls: 0.13661\n"
     ]
    },
    {
     "name": "stderr",
     "output_type": "stream",
     "text": [
      "Epoch 143, lr 0.00048: 100% 21/21 [00:10<00:00,  1.93it/s, 0 cls=0.16729, 1 cls=0.24515, 2 cls=0.20542, bce=0.05858, dice=0.87695, loss=-0.81505]\n"
     ]
    },
    {
     "name": "stdout",
     "output_type": "stream",
     "text": [
      "loss: -0.87103 | bce: 0.02884 | dice: 0.90314 | 0 cls: 0.11487 | 1 cls: 0.16889 | 2 cls: 0.13446\n"
     ]
    },
    {
     "name": "stderr",
     "output_type": "stream",
     "text": [
      "Epoch 144, lr 0.00048: 100% 21/21 [00:11<00:00,  1.86it/s, 0 cls=0.16582, 1 cls=0.24704, 2 cls=0.20551, bce=0.05939, dice=0.87784, loss=-0.81520]\n"
     ]
    },
    {
     "name": "stdout",
     "output_type": "stream",
     "text": [
      "loss: -0.87044 | bce: 0.02861 | dice: 0.90237 | 0 cls: 0.11540 | 1 cls: 0.16914 | 2 cls: 0.13566\n"
     ]
    },
    {
     "name": "stderr",
     "output_type": "stream",
     "text": [
      "Epoch 145, lr 0.00048: 100% 21/21 [00:10<00:00,  1.93it/s, 0 cls=0.16702, 1 cls=0.24378, 2 cls=0.20449, bce=0.05827, dice=0.87727, loss=-0.81562]\n"
     ]
    },
    {
     "name": "stdout",
     "output_type": "stream",
     "text": [
      "loss: -0.87161 | bce: 0.02895 | dice: 0.90336 | 0 cls: 0.11447 | 1 cls: 0.16791 | 2 cls: 0.13496\n"
     ]
    },
    {
     "name": "stderr",
     "output_type": "stream",
     "text": [
      "Epoch 146, lr 0.00048: 100% 21/21 [00:10<00:00,  1.91it/s, 0 cls=0.16552, 1 cls=0.24383, 2 cls=0.20366, bce=0.05795, dice=0.87781, loss=-0.81657]\n"
     ]
    },
    {
     "name": "stdout",
     "output_type": "stream",
     "text": [
      "loss: -0.87124 | bce: 0.02885 | dice: 0.90310 | 0 cls: 0.11504 | 1 cls: 0.16755 | 2 cls: 0.13525\n"
     ]
    },
    {
     "name": "stderr",
     "output_type": "stream",
     "text": [
      "Epoch 147, lr 0.00048: 100% 21/21 [00:10<00:00,  1.91it/s, 0 cls=0.16593, 1 cls=0.24815, 2 cls=0.20522, bce=0.05928, dice=0.87757, loss=-0.81495]\n"
     ]
    },
    {
     "name": "stdout",
     "output_type": "stream",
     "text": [
      "loss: -0.87080 | bce: 0.02901 | dice: 0.90292 | 0 cls: 0.11527 | 1 cls: 0.16908 | 2 cls: 0.13528\n"
     ]
    },
    {
     "name": "stderr",
     "output_type": "stream",
     "text": [
      "Epoch 148, lr 0.00048: 100% 21/21 [00:10<00:00,  1.93it/s, 0 cls=0.16519, 1 cls=0.24397, 2 cls=0.20351, bce=0.05932, dice=0.87912, loss=-0.81652]\n"
     ]
    },
    {
     "name": "stdout",
     "output_type": "stream",
     "text": [
      "loss: -0.86970 | bce: 0.02893 | dice: 0.90209 | 0 cls: 0.11602 | 1 cls: 0.17165 | 2 cls: 0.13521\n"
     ]
    },
    {
     "name": "stderr",
     "output_type": "stream",
     "text": [
      "Epoch 149, lr 0.00048: 100% 21/21 [00:11<00:00,  1.91it/s, 0 cls=0.16569, 1 cls=0.24791, 2 cls=0.20590, bce=0.05906, dice=0.87741, loss=-0.81506]\n"
     ]
    },
    {
     "name": "stdout",
     "output_type": "stream",
     "text": [
      "loss: -0.86587 | bce: 0.02948 | dice: 0.89855 | 0 cls: 0.12000 | 1 cls: 0.17495 | 2 cls: 0.14147\n"
     ]
    },
    {
     "name": "stderr",
     "output_type": "stream",
     "text": [
      "Epoch 150, lr 0.00048: 100% 21/21 [00:10<00:00,  1.93it/s, 0 cls=0.16977, 1 cls=0.24964, 2 cls=0.20882, bce=0.06039, dice=0.87584, loss=-0.81202]\n"
     ]
    },
    {
     "name": "stdout",
     "output_type": "stream",
     "text": [
      "loss: -0.86871 | bce: 0.02849 | dice: 0.90010 | 0 cls: 0.11803 | 1 cls: 0.17075 | 2 cls: 0.13824\n"
     ]
    },
    {
     "name": "stderr",
     "output_type": "stream",
     "text": [
      "Epoch 151, lr 0.00048: 100% 21/21 [00:10<00:00,  1.94it/s, 0 cls=0.16793, 1 cls=0.24880, 2 cls=0.20662, bce=0.05886, dice=0.87593, loss=-0.81362]\n"
     ]
    },
    {
     "name": "stdout",
     "output_type": "stream",
     "text": [
      "loss: -0.87150 | bce: 0.02835 | dice: 0.90287 | 0 cls: 0.11507 | 1 cls: 0.16754 | 2 cls: 0.13470\n"
     ]
    },
    {
     "name": "stderr",
     "output_type": "stream",
     "text": [
      "Epoch 152, lr 0.00048: 100% 21/21 [00:10<00:00,  1.93it/s, 0 cls=0.17127, 1 cls=0.25059, 2 cls=0.21001, bce=0.06126, dice=0.87556, loss=-0.81102]\n"
     ]
    },
    {
     "name": "stdout",
     "output_type": "stream",
     "text": [
      "loss: -0.86520 | bce: 0.03020 | dice: 0.89813 | 0 cls: 0.11893 | 1 cls: 0.17831 | 2 cls: 0.14510\n"
     ]
    },
    {
     "name": "stderr",
     "output_type": "stream",
     "text": [
      "Epoch 153, lr 0.00048: 100% 21/21 [00:10<00:00,  1.95it/s, 0 cls=0.17245, 1 cls=0.24866, 2 cls=0.20941, bce=0.05948, dice=0.87382, loss=-0.81095]\n"
     ]
    },
    {
     "name": "stdout",
     "output_type": "stream",
     "text": [
      "loss: -0.87098 | bce: 0.02951 | dice: 0.90377 | 0 cls: 0.11510 | 1 cls: 0.16772 | 2 cls: 0.13464\n"
     ]
    },
    {
     "name": "stderr",
     "output_type": "stream",
     "text": [
      "Epoch 154, lr 0.00048: 100% 21/21 [00:10<00:00,  1.93it/s, 0 cls=0.16619, 1 cls=0.24538, 2 cls=0.20467, bce=0.05964, dice=0.87852, loss=-0.81554]\n"
     ]
    },
    {
     "name": "stdout",
     "output_type": "stream",
     "text": [
      "loss: -0.87130 | bce: 0.02985 | dice: 0.90402 | 0 cls: 0.11428 | 1 cls: 0.16902 | 2 cls: 0.13480\n"
     ]
    },
    {
     "name": "stderr",
     "output_type": "stream",
     "text": [
      "Epoch 155, lr 0.00048: 100% 21/21 [00:10<00:00,  1.93it/s, 0 cls=0.16863, 1 cls=0.25030, 2 cls=0.20829, bce=0.05951, dice=0.87548, loss=-0.81268]\n"
     ]
    },
    {
     "name": "stdout",
     "output_type": "stream",
     "text": [
      "loss: -0.86797 | bce: 0.02968 | dice: 0.90120 | 0 cls: 0.11859 | 1 cls: 0.17025 | 2 cls: 0.13844\n"
     ]
    },
    {
     "name": "stderr",
     "output_type": "stream",
     "text": [
      "Epoch 156, lr 0.00048: 100% 21/21 [00:11<00:00,  1.89it/s, 0 cls=0.16984, 1 cls=0.24917, 2 cls=0.20864, bce=0.06007, dice=0.87568, loss=-0.81221]\n"
     ]
    },
    {
     "name": "stdout",
     "output_type": "stream",
     "text": [
      "loss: -0.86892 | bce: 0.03101 | dice: 0.90297 | 0 cls: 0.11526 | 1 cls: 0.17453 | 2 cls: 0.13814\n"
     ]
    },
    {
     "name": "stderr",
     "output_type": "stream",
     "text": [
      "Epoch 157, lr 0.00048: 100% 21/21 [00:10<00:00,  1.96it/s, 0 cls=0.17230, 1 cls=0.25236, 2 cls=0.21069, bce=0.06151, dice=0.87491, loss=-0.80974]\n"
     ]
    },
    {
     "name": "stdout",
     "output_type": "stream",
     "text": [
      "loss: -0.86721 | bce: 0.02856 | dice: 0.89896 | 0 cls: 0.12091 | 1 cls: 0.16974 | 2 cls: 0.13850\n"
     ]
    },
    {
     "name": "stderr",
     "output_type": "stream",
     "text": [
      "Epoch 158, lr 0.00048: 100% 21/21 [00:10<00:00,  1.94it/s, 0 cls=0.16728, 1 cls=0.24631, 2 cls=0.20531, bce=0.05895, dice=0.87690, loss=-0.81466]\n"
     ]
    },
    {
     "name": "stdout",
     "output_type": "stream",
     "text": [
      "loss: -0.86947 | bce: 0.02948 | dice: 0.90211 | 0 cls: 0.11589 | 1 cls: 0.17149 | 2 cls: 0.13674\n"
     ]
    },
    {
     "name": "stderr",
     "output_type": "stream",
     "text": [
      "Epoch 159, lr 0.00048: 100% 21/21 [00:10<00:00,  1.94it/s, 0 cls=0.16476, 1 cls=0.24290, 2 cls=0.20262, bce=0.05789, dice=0.87849, loss=-0.81729]\n"
     ]
    },
    {
     "name": "stdout",
     "output_type": "stream",
     "text": [
      "loss: -0.87150 | bce: 0.03013 | dice: 0.90477 | 0 cls: 0.11433 | 1 cls: 0.16733 | 2 cls: 0.13481\n"
     ]
    },
    {
     "name": "stderr",
     "output_type": "stream",
     "text": [
      "Epoch 160, lr 0.00048: 100% 21/21 [00:11<00:00,  1.84it/s, 0 cls=0.16345, 1 cls=0.24212, 2 cls=0.20220, bce=0.05792, dice=0.87923, loss=-0.81823]\n"
     ]
    },
    {
     "name": "stdout",
     "output_type": "stream",
     "text": [
      "loss: -0.87041 | bce: 0.03001 | dice: 0.90347 | 0 cls: 0.11463 | 1 cls: 0.17040 | 2 cls: 0.13707\n"
     ]
    },
    {
     "name": "stderr",
     "output_type": "stream",
     "text": [
      "Epoch 161, lr 0.00048: 100% 21/21 [00:10<00:00,  1.92it/s, 0 cls=0.16734, 1 cls=0.24461, 2 cls=0.20434, bce=0.05898, dice=0.87761, loss=-0.81509]\n"
     ]
    },
    {
     "name": "stdout",
     "output_type": "stream",
     "text": [
      "loss: -0.87000 | bce: 0.02939 | dice: 0.90261 | 0 cls: 0.11533 | 1 cls: 0.17090 | 2 cls: 0.13654\n"
     ]
    },
    {
     "name": "stderr",
     "output_type": "stream",
     "text": [
      "Epoch 162, lr 0.00048: 100% 21/21 [00:10<00:00,  1.93it/s, 0 cls=0.16405, 1 cls=0.23936, 2 cls=0.19985, bce=0.05819, dice=0.88028, loss=-0.81865]\n"
     ]
    },
    {
     "name": "stdout",
     "output_type": "stream",
     "text": [
      "loss: -0.86974 | bce: 0.02925 | dice: 0.90188 | 0 cls: 0.11657 | 1 cls: 0.16942 | 2 cls: 0.13761\n"
     ]
    },
    {
     "name": "stderr",
     "output_type": "stream",
     "text": [
      "Epoch 163, lr 0.00048: 100% 21/21 [00:11<00:00,  1.89it/s, 0 cls=0.16835, 1 cls=0.24582, 2 cls=0.20552, bce=0.05885, dice=0.87657, loss=-0.81416]\n"
     ]
    },
    {
     "name": "stdout",
     "output_type": "stream",
     "text": [
      "loss: -0.86930 | bce: 0.02910 | dice: 0.90125 | 0 cls: 0.11763 | 1 cls: 0.16965 | 2 cls: 0.13754\n"
     ]
    },
    {
     "name": "stderr",
     "output_type": "stream",
     "text": [
      "Epoch 164, lr 0.00048: 100% 21/21 [00:11<00:00,  1.88it/s, 0 cls=0.16570, 1 cls=0.24154, 2 cls=0.20199, bce=0.05897, dice=0.87955, loss=-0.81705]\n"
     ]
    },
    {
     "name": "stdout",
     "output_type": "stream",
     "text": [
      "loss: -0.87115 | bce: 0.02965 | dice: 0.90376 | 0 cls: 0.11446 | 1 cls: 0.16887 | 2 cls: 0.13592\n"
     ]
    },
    {
     "name": "stderr",
     "output_type": "stream",
     "text": [
      "Epoch 165, lr 0.00048: 100% 21/21 [00:10<00:00,  1.94it/s, 0 cls=0.16349, 1 cls=0.23808, 2 cls=0.19956, bce=0.05768, dice=0.88055, loss=-0.81945]\n"
     ]
    },
    {
     "name": "stdout",
     "output_type": "stream",
     "text": [
      "loss: -0.86777 | bce: 0.02792 | dice: 0.89843 | 0 cls: 0.11812 | 1 cls: 0.17363 | 2 cls: 0.14096\n"
     ]
    },
    {
     "name": "stderr",
     "output_type": "stream",
     "text": [
      "Epoch 166, lr 0.00048: 100% 21/21 [00:10<00:00,  1.94it/s, 0 cls=0.16433, 1 cls=0.24289, 2 cls=0.20233, bce=0.05765, dice=0.87852, loss=-0.81750]\n"
     ]
    },
    {
     "name": "stdout",
     "output_type": "stream",
     "text": [
      "loss: -0.87031 | bce: 0.02998 | dice: 0.90317 | 0 cls: 0.11494 | 1 cls: 0.16987 | 2 cls: 0.13740\n"
     ]
    },
    {
     "name": "stderr",
     "output_type": "stream",
     "text": [
      "Epoch 167, lr 0.00048: 100% 21/21 [00:10<00:00,  1.91it/s, 0 cls=0.16163, 1 cls=0.24046, 2 cls=0.19959, bce=0.05777, dice=0.88079, loss=-0.81983]\n"
     ]
    },
    {
     "name": "stdout",
     "output_type": "stream",
     "text": [
      "loss: -0.87163 | bce: 0.02907 | dice: 0.90357 | 0 cls: 0.11447 | 1 cls: 0.16759 | 2 cls: 0.13547\n"
     ]
    },
    {
     "name": "stderr",
     "output_type": "stream",
     "text": [
      "Epoch 168, lr 0.00048: 100% 21/21 [00:10<00:00,  1.93it/s, 0 cls=0.16704, 1 cls=0.24561, 2 cls=0.20516, bce=0.05929, dice=0.87769, loss=-0.81499]\n"
     ]
    },
    {
     "name": "stdout",
     "output_type": "stream",
     "text": [
      "loss: -0.87121 | bce: 0.03019 | dice: 0.90432 | 0 cls: 0.11375 | 1 cls: 0.16972 | 2 cls: 0.13607\n"
     ]
    },
    {
     "name": "stderr",
     "output_type": "stream",
     "text": [
      "Epoch 169, lr 0.00048: 100% 21/21 [00:11<00:00,  1.85it/s, 0 cls=0.17375, 1 cls=0.25239, 2 cls=0.21160, bce=0.06125, dice=0.87379, loss=-0.80896]\n"
     ]
    },
    {
     "name": "stdout",
     "output_type": "stream",
     "text": [
      "loss: -0.86972 | bce: 0.02884 | dice: 0.90140 | 0 cls: 0.11625 | 1 cls: 0.17024 | 2 cls: 0.13773\n"
     ]
    },
    {
     "name": "stderr",
     "output_type": "stream",
     "text": [
      "Epoch 170, lr 0.00048: 100% 21/21 [00:10<00:00,  1.91it/s, 0 cls=0.17442, 1 cls=0.25292, 2 cls=0.21235, bce=0.06278, dice=0.87459, loss=-0.80810]\n"
     ]
    },
    {
     "name": "stdout",
     "output_type": "stream",
     "text": [
      "loss: -0.86760 | bce: 0.02876 | dice: 0.89897 | 0 cls: 0.12008 | 1 cls: 0.16990 | 2 cls: 0.13986\n"
     ]
    },
    {
     "name": "stderr",
     "output_type": "stream",
     "text": [
      "Epoch 171, lr 0.00048: 100% 21/21 [00:10<00:00,  1.91it/s, 0 cls=0.16961, 1 cls=0.24653, 2 cls=0.20701, bce=0.06012, dice=0.87662, loss=-0.81313]\n"
     ]
    },
    {
     "name": "stdout",
     "output_type": "stream",
     "text": [
      "loss: -0.87041 | bce: 0.03083 | dice: 0.90407 | 0 cls: 0.11461 | 1 cls: 0.17027 | 2 cls: 0.13737\n"
     ]
    },
    {
     "name": "stderr",
     "output_type": "stream",
     "text": [
      "Epoch 172, lr 0.00048: 100% 21/21 [00:10<00:00,  1.92it/s, 0 cls=0.17272, 1 cls=0.25012, 2 cls=0.21007, bce=0.06034, dice=0.87420, loss=-0.81023]\n"
     ]
    },
    {
     "name": "stdout",
     "output_type": "stream",
     "text": [
      "loss: -0.87127 | bce: 0.02915 | dice: 0.90415 | 0 cls: 0.11522 | 1 cls: 0.16783 | 2 cls: 0.13237\n"
     ]
    },
    {
     "name": "stderr",
     "output_type": "stream",
     "text": [
      "Epoch 173, lr 0.00048: 100% 21/21 [00:10<00:00,  1.97it/s, 0 cls=0.16926, 1 cls=0.24729, 2 cls=0.20618, bce=0.06013, dice=0.87692, loss=-0.81320]\n"
     ]
    },
    {
     "name": "stdout",
     "output_type": "stream",
     "text": [
      "loss: -0.86849 | bce: 0.02917 | dice: 0.90136 | 0 cls: 0.11836 | 1 cls: 0.16938 | 2 cls: 0.13661\n"
     ]
    },
    {
     "name": "stderr",
     "output_type": "stream",
     "text": [
      "Epoch 174, lr 0.00048: 100% 21/21 [00:10<00:00,  1.92it/s, 0 cls=0.17023, 1 cls=0.24967, 2 cls=0.20849, bce=0.05965, dice=0.87524, loss=-0.81203]\n"
     ]
    },
    {
     "name": "stdout",
     "output_type": "stream",
     "text": [
      "loss: -0.86990 | bce: 0.02999 | dice: 0.90305 | 0 cls: 0.11590 | 1 cls: 0.16868 | 2 cls: 0.13671\n"
     ]
    },
    {
     "name": "stderr",
     "output_type": "stream",
     "text": [
      "Epoch 175, lr 0.00048: 100% 21/21 [00:10<00:00,  1.92it/s, 0 cls=0.16871, 1 cls=0.24558, 2 cls=0.20620, bce=0.05919, dice=0.87661, loss=-0.81413]\n"
     ]
    },
    {
     "name": "stdout",
     "output_type": "stream",
     "text": [
      "loss: -0.87093 | bce: 0.03011 | dice: 0.90419 | 0 cls: 0.11432 | 1 cls: 0.16937 | 2 cls: 0.13547\n"
     ]
    },
    {
     "name": "stderr",
     "output_type": "stream",
     "text": [
      "Epoch 176, lr 0.00048: 100% 21/21 [00:10<00:00,  1.92it/s, 0 cls=0.17010, 1 cls=0.24874, 2 cls=0.20754, bce=0.06014, dice=0.87599, loss=-0.81222]\n"
     ]
    },
    {
     "name": "stdout",
     "output_type": "stream",
     "text": [
      "loss: -0.86622 | bce: 0.02940 | dice: 0.89854 | 0 cls: 0.12030 | 1 cls: 0.17356 | 2 cls: 0.14146\n"
     ]
    },
    {
     "name": "stderr",
     "output_type": "stream",
     "text": [
      "Epoch 177, lr 0.00048: 100% 21/21 [00:10<00:00,  1.95it/s, 0 cls=0.16377, 1 cls=0.24040, 2 cls=0.20125, bce=0.05845, dice=0.88015, loss=-0.81851]\n"
     ]
    },
    {
     "name": "stdout",
     "output_type": "stream",
     "text": [
      "loss: -0.86976 | bce: 0.02856 | dice: 0.90087 | 0 cls: 0.11670 | 1 cls: 0.16988 | 2 cls: 0.13724\n"
     ]
    },
    {
     "name": "stderr",
     "output_type": "stream",
     "text": [
      "Epoch 178, lr 0.00048: 100% 21/21 [00:10<00:00,  1.92it/s, 0 cls=0.16999, 1 cls=0.24677, 2 cls=0.20729, bce=0.05988, dice=0.87607, loss=-0.81289]\n"
     ]
    },
    {
     "name": "stdout",
     "output_type": "stream",
     "text": [
      "loss: -0.86690 | bce: 0.02950 | dice: 0.89934 | 0 cls: 0.12102 | 1 cls: 0.17026 | 2 cls: 0.13948\n"
     ]
    },
    {
     "name": "stderr",
     "output_type": "stream",
     "text": [
      "Epoch 179, lr 0.00048: 100% 21/21 [00:10<00:00,  1.92it/s, 0 cls=0.16995, 1 cls=0.24998, 2 cls=0.20874, bce=0.06008, dice=0.87550, loss=-0.81200]\n"
     ]
    },
    {
     "name": "stdout",
     "output_type": "stream",
     "text": [
      "loss: -0.87079 | bce: 0.02921 | dice: 0.90310 | 0 cls: 0.11489 | 1 cls: 0.16845 | 2 cls: 0.13603\n"
     ]
    },
    {
     "name": "stderr",
     "output_type": "stream",
     "text": [
      "Epoch 180, lr 0.00048: 100% 21/21 [00:11<00:00,  1.90it/s, 0 cls=0.17078, 1 cls=0.24884, 2 cls=0.20856, bce=0.05940, dice=0.87473, loss=-0.81196]\n"
     ]
    },
    {
     "name": "stdout",
     "output_type": "stream",
     "text": [
      "loss: -0.87022 | bce: 0.02923 | dice: 0.90221 | 0 cls: 0.11575 | 1 cls: 0.16942 | 2 cls: 0.13744\n"
     ]
    },
    {
     "name": "stderr",
     "output_type": "stream",
     "text": [
      "Epoch 181, lr 0.00048: 100% 21/21 [00:10<00:00,  1.91it/s, 0 cls=0.16417, 1 cls=0.24295, 2 cls=0.20321, bce=0.05859, dice=0.87913, loss=-0.81752]\n"
     ]
    },
    {
     "name": "stdout",
     "output_type": "stream",
     "text": [
      "loss: -0.86644 | bce: 0.02848 | dice: 0.89902 | 0 cls: 0.11802 | 1 cls: 0.17591 | 2 cls: 0.13938\n"
     ]
    },
    {
     "name": "stderr",
     "output_type": "stream",
     "text": [
      "Epoch 182, lr 0.00048: 100% 21/21 [00:10<00:00,  1.95it/s, 0 cls=0.16209, 1 cls=0.23747, 2 cls=0.19859, bce=0.05667, dice=0.88054, loss=-0.82053]\n"
     ]
    },
    {
     "name": "stdout",
     "output_type": "stream",
     "text": [
      "loss: -0.87233 | bce: 0.03025 | dice: 0.90603 | 0 cls: 0.11320 | 1 cls: 0.16712 | 2 cls: 0.13259\n"
     ]
    },
    {
     "name": "stderr",
     "output_type": "stream",
     "text": [
      "Epoch 183, lr 0.00048: 100% 21/21 [00:11<00:00,  1.89it/s, 0 cls=0.16842, 1 cls=0.24532, 2 cls=0.20585, bce=0.05905, dice=0.87677, loss=-0.81435]\n"
     ]
    },
    {
     "name": "stdout",
     "output_type": "stream",
     "text": [
      "loss: -0.86885 | bce: 0.03068 | dice: 0.90245 | 0 cls: 0.11545 | 1 cls: 0.17361 | 2 cls: 0.13916\n"
     ]
    },
    {
     "name": "stderr",
     "output_type": "stream",
     "text": [
      "Epoch 184, lr 0.00048: 100% 21/21 [00:10<00:00,  1.94it/s, 0 cls=0.16251, 1 cls=0.24022, 2 cls=0.20060, bce=0.05743, dice=0.87996, loss=-0.81935]\n"
     ]
    },
    {
     "name": "stdout",
     "output_type": "stream",
     "text": [
      "loss: -0.86767 | bce: 0.03069 | dice: 0.90156 | 0 cls: 0.11684 | 1 cls: 0.17359 | 2 cls: 0.14046\n"
     ]
    },
    {
     "name": "stderr",
     "output_type": "stream",
     "text": [
      "Epoch 185, lr 0.00048: 100% 21/21 [00:10<00:00,  1.93it/s, 0 cls=0.16489, 1 cls=0.24373, 2 cls=0.20311, bce=0.05909, dice=0.87917, loss=-0.81679]\n"
     ]
    },
    {
     "name": "stdout",
     "output_type": "stream",
     "text": [
      "loss: -0.86991 | bce: 0.02994 | dice: 0.90318 | 0 cls: 0.11557 | 1 cls: 0.16953 | 2 cls: 0.13627\n"
     ]
    },
    {
     "name": "stderr",
     "output_type": "stream",
     "text": [
      "Epoch 186, lr 0.00048: 100% 21/21 [00:11<00:00,  1.89it/s, 0 cls=0.16851, 1 cls=0.24602, 2 cls=0.20559, bce=0.05867, dice=0.87628, loss=-0.81412]\n"
     ]
    },
    {
     "name": "stdout",
     "output_type": "stream",
     "text": [
      "loss: -0.86840 | bce: 0.02986 | dice: 0.90265 | 0 cls: 0.11745 | 1 cls: 0.16740 | 2 cls: 0.13631\n"
     ]
    },
    {
     "name": "stderr",
     "output_type": "stream",
     "text": [
      "Epoch 187, lr 0.00048: 100% 21/21 [00:10<00:00,  1.92it/s, 0 cls=0.16993, 1 cls=0.24821, 2 cls=0.20814, bce=0.06018, dice=0.87588, loss=-0.81242]\n"
     ]
    },
    {
     "name": "stdout",
     "output_type": "stream",
     "text": [
      "loss: -0.86848 | bce: 0.02840 | dice: 0.90047 | 0 cls: 0.11829 | 1 cls: 0.16962 | 2 cls: 0.13674\n"
     ]
    },
    {
     "name": "stderr",
     "output_type": "stream",
     "text": [
      "Epoch 188, lr 0.00048: 100% 21/21 [00:11<00:00,  1.89it/s, 0 cls=0.16638, 1 cls=0.24403, 2 cls=0.20406, bce=0.05843, dice=0.87783, loss=-0.81602]\n"
     ]
    },
    {
     "name": "stdout",
     "output_type": "stream",
     "text": [
      "loss: -0.86962 | bce: 0.03004 | dice: 0.90368 | 0 cls: 0.11559 | 1 cls: 0.16887 | 2 cls: 0.13506\n"
     ]
    },
    {
     "name": "stderr",
     "output_type": "stream",
     "text": [
      "Epoch 189, lr 0.00048: 100% 21/21 [00:10<00:00,  1.92it/s, 0 cls=0.16991, 1 cls=0.24687, 2 cls=0.20644, bce=0.05954, dice=0.87611, loss=-0.81293]\n"
     ]
    },
    {
     "name": "stdout",
     "output_type": "stream",
     "text": [
      "loss: -0.86906 | bce: 0.02926 | dice: 0.90123 | 0 cls: 0.11764 | 1 cls: 0.16986 | 2 cls: 0.13723\n"
     ]
    },
    {
     "name": "stderr",
     "output_type": "stream",
     "text": [
      "Epoch 190, lr 0.0018000000000000002: 100% 21/21 [00:10<00:00,  1.94it/s, 0 cls=0.17449, 1 cls=0.25121, 2 cls=0.21101, bce=0.06158, dice=0.87412, loss=-0.80879]\n"
     ]
    },
    {
     "name": "stdout",
     "output_type": "stream",
     "text": [
      "loss: -0.85192 | bce: 0.03487 | dice: 0.88814 | 0 cls: 0.12767 | 1 cls: 0.20083 | 2 cls: 0.16401\n"
     ]
    },
    {
     "name": "stderr",
     "output_type": "stream",
     "text": [
      "Epoch 191, lr 0.0018000000000000002: 100% 21/21 [00:10<00:00,  1.92it/s, 0 cls=0.18585, 1 cls=0.26200, 2 cls=0.22153, bce=0.06441, dice=0.86727, loss=-0.79872]\n"
     ]
    },
    {
     "name": "stdout",
     "output_type": "stream",
     "text": [
      "loss: -0.86411 | bce: 0.03107 | dice: 0.89842 | 0 cls: 0.12190 | 1 cls: 0.17743 | 2 cls: 0.14167\n"
     ]
    },
    {
     "name": "stderr",
     "output_type": "stream",
     "text": [
      "Epoch 192, lr 0.00054: 100% 21/21 [00:10<00:00,  1.93it/s, 0 cls=0.18306, 1 cls=0.26020, 2 cls=0.21920, bce=0.06357, dice=0.86879, loss=-0.80109]\n"
     ]
    },
    {
     "name": "stdout",
     "output_type": "stream",
     "text": [
      "loss: -0.87144 | bce: 0.02987 | dice: 0.90407 | 0 cls: 0.11480 | 1 cls: 0.16767 | 2 cls: 0.13433\n"
     ]
    },
    {
     "name": "stderr",
     "output_type": "stream",
     "text": [
      "Epoch 193, lr 0.00054: 100% 21/21 [00:10<00:00,  1.93it/s, 0 cls=0.18401, 1 cls=0.26126, 2 cls=0.22357, bce=0.06279, dice=0.86674, loss=-0.80019]\n"
     ]
    },
    {
     "name": "stdout",
     "output_type": "stream",
     "text": [
      "loss: -0.86940 | bce: 0.02897 | dice: 0.90083 | 0 cls: 0.11613 | 1 cls: 0.17233 | 2 cls: 0.13778\n"
     ]
    },
    {
     "name": "stderr",
     "output_type": "stream",
     "text": [
      "Epoch 194, lr 0.000162: 100% 21/21 [00:10<00:00,  1.92it/s, 0 cls=0.17097, 1 cls=0.25012, 2 cls=0.20857, bce=0.06159, dice=0.87621, loss=-0.81112]\n"
     ]
    },
    {
     "name": "stdout",
     "output_type": "stream",
     "text": [
      "loss: -0.86935 | bce: 0.02787 | dice: 0.89991 | 0 cls: 0.11667 | 1 cls: 0.17141 | 2 cls: 0.13789\n"
     ]
    },
    {
     "name": "stderr",
     "output_type": "stream",
     "text": [
      "Epoch 195, lr 0.0018000000000000002: 100% 21/21 [00:10<00:00,  1.93it/s, 0 cls=0.18958, 1 cls=0.26787, 2 cls=0.22448, bce=0.06629, dice=0.86590, loss=-0.79488]\n"
     ]
    },
    {
     "name": "stdout",
     "output_type": "stream",
     "text": [
      "loss: -0.86970 | bce: 0.03193 | dice: 0.90462 | 0 cls: 0.11411 | 1 cls: 0.17038 | 2 cls: 0.13936\n"
     ]
    },
    {
     "name": "stderr",
     "output_type": "stream",
     "text": [
      "Epoch 196, lr 0.0018000000000000002: 100% 21/21 [00:11<00:00,  1.91it/s, 0 cls=0.22482, 1 cls=0.29857, 2 cls=0.25664, bce=0.07808, dice=0.84877, loss=-0.76451]\n"
     ]
    },
    {
     "name": "stdout",
     "output_type": "stream",
     "text": [
      "loss: -0.85820 | bce: 0.02931 | dice: 0.89202 | 0 cls: 0.12944 | 1 cls: 0.18227 | 2 cls: 0.14421\n"
     ]
    },
    {
     "name": "stderr",
     "output_type": "stream",
     "text": [
      "Epoch 197, lr 0.00054: 100% 21/21 [00:11<00:00,  1.90it/s, 0 cls=0.19923, 1 cls=0.28019, 2 cls=0.23651, bce=0.07024, dice=0.86004, loss=-0.78532]\n"
     ]
    },
    {
     "name": "stdout",
     "output_type": "stream",
     "text": [
      "loss: -0.86064 | bce: 0.03195 | dice: 0.89607 | 0 cls: 0.12765 | 1 cls: 0.17597 | 2 cls: 0.14551\n"
     ]
    },
    {
     "name": "stderr",
     "output_type": "stream",
     "text": [
      "Epoch 198, lr 0.00054: 100% 21/21 [00:10<00:00,  1.92it/s, 0 cls=0.18382, 1 cls=0.26726, 2 cls=0.22289, bce=0.06516, dice=0.86756, loss=-0.79837]\n"
     ]
    },
    {
     "name": "stdout",
     "output_type": "stream",
     "text": [
      "loss: -0.86575 | bce: 0.03007 | dice: 0.89958 | 0 cls: 0.12128 | 1 cls: 0.17031 | 2 cls: 0.14066\n"
     ]
    },
    {
     "name": "stderr",
     "output_type": "stream",
     "text": [
      "Epoch 199, lr 0.000162: 100% 21/21 [00:10<00:00,  1.94it/s, 0 cls=0.18282, 1 cls=0.26231, 2 cls=0.22099, bce=0.06358, dice=0.86815, loss=-0.80057]\n"
     ]
    },
    {
     "name": "stdout",
     "output_type": "stream",
     "text": [
      "loss: -0.86825 | bce: 0.02905 | dice: 0.90026 | 0 cls: 0.11897 | 1 cls: 0.16880 | 2 cls: 0.13931\n"
     ]
    },
    {
     "name": "stderr",
     "output_type": "stream",
     "text": [
      "Epoch 200, lr 0.000288: 100% 21/21 [00:11<00:00,  1.88it/s, 0 cls=0.17728, 1 cls=0.25601, 2 cls=0.21515, bce=0.06228, dice=0.87154, loss=-0.80566]\n"
     ]
    },
    {
     "name": "stdout",
     "output_type": "stream",
     "text": [
      "loss: -0.87004 | bce: 0.02955 | dice: 0.90250 | 0 cls: 0.11586 | 1 cls: 0.16867 | 2 cls: 0.13739\n"
     ]
    },
    {
     "name": "stderr",
     "output_type": "stream",
     "text": [
      "Epoch 201, lr 0.000288: 100% 21/21 [00:10<00:00,  1.94it/s, 0 cls=0.17019, 1 cls=0.25059, 2 cls=0.20882, bce=0.06066, dice=0.87575, loss=-0.81154]\n"
     ]
    },
    {
     "name": "stdout",
     "output_type": "stream",
     "text": [
      "loss: -0.87049 | bce: 0.02971 | dice: 0.90306 | 0 cls: 0.11546 | 1 cls: 0.16783 | 2 cls: 0.13689\n"
     ]
    },
    {
     "name": "stderr",
     "output_type": "stream",
     "text": [
      "Epoch 202, lr 0.000288: 100% 21/21 [00:10<00:00,  1.94it/s, 0 cls=0.17634, 1 cls=0.25871, 2 cls=0.21607, bce=0.06243, dice=0.87138, loss=-0.80538]\n"
     ]
    },
    {
     "name": "stdout",
     "output_type": "stream",
     "text": [
      "loss: -0.86978 | bce: 0.02873 | dice: 0.90154 | 0 cls: 0.11496 | 1 cls: 0.17157 | 2 cls: 0.13837\n"
     ]
    },
    {
     "name": "stderr",
     "output_type": "stream",
     "text": [
      "Epoch 203, lr 0.000288: 100% 21/21 [00:10<00:00,  1.94it/s, 0 cls=0.16965, 1 cls=0.24871, 2 cls=0.20798, bce=0.05997, dice=0.87597, loss=-0.81259]\n"
     ]
    },
    {
     "name": "stdout",
     "output_type": "stream",
     "text": [
      "loss: -0.87060 | bce: 0.02947 | dice: 0.90307 | 0 cls: 0.11572 | 1 cls: 0.16739 | 2 cls: 0.13615\n"
     ]
    },
    {
     "name": "stderr",
     "output_type": "stream",
     "text": [
      "Epoch 204, lr 0.000288: 100% 21/21 [00:11<00:00,  1.88it/s, 0 cls=0.17533, 1 cls=0.25270, 2 cls=0.21271, bce=0.06145, dice=0.87294, loss=-0.80789]\n"
     ]
    },
    {
     "name": "stdout",
     "output_type": "stream",
     "text": [
      "loss: -0.87115 | bce: 0.03065 | dice: 0.90487 | 0 cls: 0.11386 | 1 cls: 0.16895 | 2 cls: 0.13550\n"
     ]
    },
    {
     "name": "stderr",
     "output_type": "stream",
     "text": [
      "Epoch 205, lr 0.000288: 100% 21/21 [00:10<00:00,  1.92it/s, 0 cls=0.16897, 1 cls=0.24416, 2 cls=0.20499, bce=0.05892, dice=0.87680, loss=-0.81436]\n"
     ]
    },
    {
     "name": "stdout",
     "output_type": "stream",
     "text": [
      "loss: -0.86964 | bce: 0.02885 | dice: 0.90165 | 0 cls: 0.11655 | 1 cls: 0.16897 | 2 cls: 0.13712\n"
     ]
    },
    {
     "name": "stderr",
     "output_type": "stream",
     "text": [
      "Epoch 206, lr 0.000288: 100% 21/21 [00:10<00:00,  1.95it/s, 0 cls=0.16712, 1 cls=0.24692, 2 cls=0.20558, bce=0.05926, dice=0.87717, loss=-0.81455]\n"
     ]
    },
    {
     "name": "stdout",
     "output_type": "stream",
     "text": [
      "loss: -0.87126 | bce: 0.02966 | dice: 0.90382 | 0 cls: 0.11410 | 1 cls: 0.16802 | 2 cls: 0.13636\n"
     ]
    },
    {
     "name": "stderr",
     "output_type": "stream",
     "text": [
      "Epoch 207, lr 0.000288: 100% 21/21 [00:11<00:00,  1.90it/s, 0 cls=0.17151, 1 cls=0.25002, 2 cls=0.21007, bce=0.06001, dice=0.87414, loss=-0.81099]\n"
     ]
    },
    {
     "name": "stdout",
     "output_type": "stream",
     "text": [
      "loss: -0.87056 | bce: 0.02860 | dice: 0.90227 | 0 cls: 0.11545 | 1 cls: 0.16840 | 2 cls: 0.13567\n"
     ]
    },
    {
     "name": "stderr",
     "output_type": "stream",
     "text": [
      "Epoch 208, lr 0.000288: 100% 21/21 [00:11<00:00,  1.88it/s, 0 cls=0.16932, 1 cls=0.24664, 2 cls=0.20595, bce=0.05906, dice=0.87601, loss=-0.81347]\n"
     ]
    },
    {
     "name": "stdout",
     "output_type": "stream",
     "text": [
      "loss: -0.87018 | bce: 0.02993 | dice: 0.90336 | 0 cls: 0.11516 | 1 cls: 0.16962 | 2 cls: 0.13640\n"
     ]
    },
    {
     "name": "stderr",
     "output_type": "stream",
     "text": [
      "Epoch 209, lr 0.000288: 100% 21/21 [00:10<00:00,  1.92it/s, 0 cls=0.16926, 1 cls=0.24592, 2 cls=0.20596, bce=0.05977, dice=0.87698, loss=-0.81364]\n"
     ]
    },
    {
     "name": "stdout",
     "output_type": "stream",
     "text": [
      "loss: -0.86951 | bce: 0.02927 | dice: 0.90172 | 0 cls: 0.11588 | 1 cls: 0.17098 | 2 cls: 0.13796\n"
     ]
    },
    {
     "name": "stderr",
     "output_type": "stream",
     "text": [
      "Epoch 210, lr 0.000288: 100% 21/21 [00:10<00:00,  1.94it/s, 0 cls=0.16608, 1 cls=0.24289, 2 cls=0.20228, bce=0.05934, dice=0.87930, loss=-0.81640]\n"
     ]
    },
    {
     "name": "stdout",
     "output_type": "stream",
     "text": [
      "loss: -0.86881 | bce: 0.02860 | dice: 0.90039 | 0 cls: 0.11764 | 1 cls: 0.16984 | 2 cls: 0.13867\n"
     ]
    },
    {
     "name": "stderr",
     "output_type": "stream",
     "text": [
      "Epoch 211, lr 0.000288: 100% 21/21 [00:10<00:00,  1.93it/s, 0 cls=0.16575, 1 cls=0.24313, 2 cls=0.20313, bce=0.05770, dice=0.87765, loss=-0.81659]\n"
     ]
    },
    {
     "name": "stdout",
     "output_type": "stream",
     "text": [
      "loss: -0.87035 | bce: 0.02951 | dice: 0.90268 | 0 cls: 0.11474 | 1 cls: 0.17024 | 2 cls: 0.13734\n"
     ]
    },
    {
     "name": "stderr",
     "output_type": "stream",
     "text": [
      "Epoch 212, lr 0.000288: 100% 21/21 [00:10<00:00,  1.94it/s, 0 cls=0.17635, 1 cls=0.25196, 2 cls=0.21362, bce=0.06280, dice=0.87348, loss=-0.80736]\n"
     ]
    },
    {
     "name": "stdout",
     "output_type": "stream",
     "text": [
      "loss: -0.87023 | bce: 0.02819 | dice: 0.90146 | 0 cls: 0.11678 | 1 cls: 0.16728 | 2 cls: 0.13617\n"
     ]
    },
    {
     "name": "stderr",
     "output_type": "stream",
     "text": [
      "Epoch 213, lr 0.000288: 100% 21/21 [00:11<00:00,  1.89it/s, 0 cls=0.16585, 1 cls=0.24323, 2 cls=0.20290, bce=0.05795, dice=0.87803, loss=-0.81660]\n"
     ]
    },
    {
     "name": "stdout",
     "output_type": "stream",
     "text": [
      "loss: -0.87035 | bce: 0.02956 | dice: 0.90289 | 0 cls: 0.11464 | 1 cls: 0.17016 | 2 cls: 0.13721\n"
     ]
    },
    {
     "name": "stderr",
     "output_type": "stream",
     "text": [
      "Epoch 214, lr 0.000288: 100% 21/21 [00:10<00:00,  1.92it/s, 0 cls=0.16229, 1 cls=0.24167, 2 cls=0.20096, bce=0.05754, dice=0.87968, loss=-0.81909]\n"
     ]
    },
    {
     "name": "stdout",
     "output_type": "stream",
     "text": [
      "loss: -0.87049 | bce: 0.03036 | dice: 0.90402 | 0 cls: 0.11420 | 1 cls: 0.17033 | 2 cls: 0.13636\n"
     ]
    },
    {
     "name": "stderr",
     "output_type": "stream",
     "text": [
      "Epoch 215, lr 0.000288: 100% 21/21 [00:10<00:00,  1.99it/s, 0 cls=0.16203, 1 cls=0.24016, 2 cls=0.20011, bce=0.05748, dice=0.88042, loss=-0.81972]\n"
     ]
    },
    {
     "name": "stdout",
     "output_type": "stream",
     "text": [
      "loss: -0.87004 | bce: 0.02975 | dice: 0.90299 | 0 cls: 0.11483 | 1 cls: 0.17073 | 2 cls: 0.13686\n"
     ]
    },
    {
     "name": "stderr",
     "output_type": "stream",
     "text": [
      "Epoch 216, lr 0.000288: 100% 21/21 [00:10<00:00,  1.91it/s, 0 cls=0.16424, 1 cls=0.24011, 2 cls=0.20107, bce=0.05808, dice=0.87975, loss=-0.81843]\n"
     ]
    },
    {
     "name": "stdout",
     "output_type": "stream",
     "text": [
      "loss: -0.86892 | bce: 0.02868 | dice: 0.90086 | 0 cls: 0.11760 | 1 cls: 0.16932 | 2 cls: 0.13777\n"
     ]
    },
    {
     "name": "stderr",
     "output_type": "stream",
     "text": [
      "Epoch 217, lr 0.000288: 100% 21/21 [00:10<00:00,  1.94it/s, 0 cls=0.16825, 1 cls=0.24487, 2 cls=0.20521, bce=0.05874, dice=0.87686, loss=-0.81459]\n"
     ]
    },
    {
     "name": "stdout",
     "output_type": "stream",
     "text": [
      "loss: -0.86919 | bce: 0.02894 | dice: 0.90125 | 0 cls: 0.11698 | 1 cls: 0.16995 | 2 cls: 0.13778\n"
     ]
    },
    {
     "name": "stderr",
     "output_type": "stream",
     "text": [
      "Epoch 218, lr 0.000288: 100% 21/21 [00:10<00:00,  1.94it/s, 0 cls=0.17323, 1 cls=0.24799, 2 cls=0.20936, bce=0.05983, dice=0.87427, loss=-0.81076]\n"
     ]
    },
    {
     "name": "stdout",
     "output_type": "stream",
     "text": [
      "loss: -0.87025 | bce: 0.02901 | dice: 0.90221 | 0 cls: 0.11582 | 1 cls: 0.16929 | 2 cls: 0.13622\n"
     ]
    },
    {
     "name": "stderr",
     "output_type": "stream",
     "text": [
      "Epoch 219, lr 0.000288: 100% 21/21 [00:10<00:00,  1.95it/s, 0 cls=0.17121, 1 cls=0.24606, 2 cls=0.20724, bce=0.06031, dice=0.87607, loss=-0.81234]\n"
     ]
    },
    {
     "name": "stdout",
     "output_type": "stream",
     "text": [
      "loss: -0.87034 | bce: 0.02907 | dice: 0.90231 | 0 cls: 0.11574 | 1 cls: 0.16860 | 2 cls: 0.13702\n"
     ]
    },
    {
     "name": "stderr",
     "output_type": "stream",
     "text": [
      "Epoch 220, lr 0.000288: 100% 21/21 [00:10<00:00,  1.93it/s, 0 cls=0.16615, 1 cls=0.24205, 2 cls=0.20281, bce=0.05912, dice=0.87902, loss=-0.81652]\n"
     ]
    },
    {
     "name": "stdout",
     "output_type": "stream",
     "text": [
      "loss: -0.87103 | bce: 0.02919 | dice: 0.90317 | 0 cls: 0.11600 | 1 cls: 0.16637 | 2 cls: 0.13498\n"
     ]
    },
    {
     "name": "stderr",
     "output_type": "stream",
     "text": [
      "Epoch 221, lr 0.000288: 100% 21/21 [00:11<00:00,  1.89it/s, 0 cls=0.16522, 1 cls=0.24347, 2 cls=0.20297, bce=0.05880, dice=0.87881, loss=-0.81670]\n"
     ]
    },
    {
     "name": "stdout",
     "output_type": "stream",
     "text": [
      "loss: -0.87046 | bce: 0.02940 | dice: 0.90303 | 0 cls: 0.11518 | 1 cls: 0.16909 | 2 cls: 0.13645\n"
     ]
    },
    {
     "name": "stderr",
     "output_type": "stream",
     "text": [
      "Epoch 222, lr 0.000288: 100% 21/21 [00:10<00:00,  1.91it/s, 0 cls=0.17358, 1 cls=0.24984, 2 cls=0.21134, bce=0.06065, dice=0.87374, loss=-0.80971]\n"
     ]
    },
    {
     "name": "stdout",
     "output_type": "stream",
     "text": [
      "loss: -0.87039 | bce: 0.02942 | dice: 0.90294 | 0 cls: 0.11483 | 1 cls: 0.16945 | 2 cls: 0.13710\n"
     ]
    },
    {
     "name": "stderr",
     "output_type": "stream",
     "text": [
      "Epoch 223, lr 0.000288: 100% 21/21 [00:11<00:00,  1.89it/s, 0 cls=0.16867, 1 cls=0.24862, 2 cls=0.20702, bce=0.05926, dice=0.87579, loss=-0.81321]\n"
     ]
    },
    {
     "name": "stdout",
     "output_type": "stream",
     "text": [
      "loss: -0.87049 | bce: 0.02922 | dice: 0.90277 | 0 cls: 0.11656 | 1 cls: 0.16683 | 2 cls: 0.13594\n"
     ]
    },
    {
     "name": "stderr",
     "output_type": "stream",
     "text": [
      "Epoch 224, lr 0.000288: 100% 21/21 [00:10<00:00,  1.93it/s, 0 cls=0.16666, 1 cls=0.24388, 2 cls=0.20397, bce=0.05830, dice=0.87753, loss=-0.81587]\n"
     ]
    },
    {
     "name": "stdout",
     "output_type": "stream",
     "text": [
      "loss: -0.87144 | bce: 0.02888 | dice: 0.90336 | 0 cls: 0.11413 | 1 cls: 0.16843 | 2 cls: 0.13550\n"
     ]
    },
    {
     "name": "stderr",
     "output_type": "stream",
     "text": [
      "Epoch 225, lr 0.000288: 100% 21/21 [00:11<00:00,  1.87it/s, 0 cls=0.16529, 1 cls=0.24123, 2 cls=0.20298, bce=0.05848, dice=0.87905, loss=-0.81736]\n"
     ]
    },
    {
     "name": "stdout",
     "output_type": "stream",
     "text": [
      "loss: -0.87011 | bce: 0.02878 | dice: 0.90193 | 0 cls: 0.11618 | 1 cls: 0.16851 | 2 cls: 0.13685\n"
     ]
    },
    {
     "name": "stderr",
     "output_type": "stream",
     "text": [
      "Epoch 226, lr 0.000288: 100% 21/21 [00:10<00:00,  1.95it/s, 0 cls=0.16589, 1 cls=0.24158, 2 cls=0.20245, bce=0.05911, dice=0.87937, loss=-0.81688]\n"
     ]
    },
    {
     "name": "stdout",
     "output_type": "stream",
     "text": [
      "loss: -0.86726 | bce: 0.02838 | dice: 0.89853 | 0 cls: 0.11897 | 1 cls: 0.17317 | 2 cls: 0.14056\n"
     ]
    },
    {
     "name": "stderr",
     "output_type": "stream",
     "text": [
      "Epoch 227, lr 0.000288: 100% 21/21 [00:10<00:00,  1.92it/s, 0 cls=0.16723, 1 cls=0.24566, 2 cls=0.20532, bce=0.05848, dice=0.87687, loss=-0.81511]\n"
     ]
    },
    {
     "name": "stdout",
     "output_type": "stream",
     "text": [
      "loss: -0.87014 | bce: 0.02832 | dice: 0.90151 | 0 cls: 0.11614 | 1 cls: 0.16891 | 2 cls: 0.13671\n"
     ]
    },
    {
     "name": "stderr",
     "output_type": "stream",
     "text": [
      "Epoch 228, lr 0.000288: 100% 21/21 [00:10<00:00,  1.93it/s, 0 cls=0.16506, 1 cls=0.24097, 2 cls=0.20226, bce=0.05861, dice=0.87923, loss=-0.81753]\n"
     ]
    },
    {
     "name": "stdout",
     "output_type": "stream",
     "text": [
      "loss: -0.87207 | bce: 0.02998 | dice: 0.90501 | 0 cls: 0.11308 | 1 cls: 0.16778 | 2 cls: 0.13500\n"
     ]
    },
    {
     "name": "stderr",
     "output_type": "stream",
     "text": [
      "Epoch 229, lr 0.000288: 100% 21/21 [00:10<00:00,  1.92it/s, 0 cls=0.15923, 1 cls=0.23822, 2 cls=0.19823, bce=0.05695, dice=0.88194, loss=-0.82198]\n"
     ]
    },
    {
     "name": "stdout",
     "output_type": "stream",
     "text": [
      "loss: -0.87151 | bce: 0.02978 | dice: 0.90432 | 0 cls: 0.11486 | 1 cls: 0.16653 | 2 cls: 0.13513\n"
     ]
    },
    {
     "name": "stderr",
     "output_type": "stream",
     "text": [
      "Epoch 230, lr 0.000288: 100% 21/21 [00:10<00:00,  1.91it/s, 0 cls=0.16078, 1 cls=0.23820, 2 cls=0.19853, bce=0.05729, dice=0.88149, loss=-0.82106]\n"
     ]
    },
    {
     "name": "stdout",
     "output_type": "stream",
     "text": [
      "loss: -0.87036 | bce: 0.02842 | dice: 0.90166 | 0 cls: 0.11669 | 1 cls: 0.16801 | 2 cls: 0.13617\n"
     ]
    },
    {
     "name": "stderr",
     "output_type": "stream",
     "text": [
      "Epoch 231, lr 0.000288: 100% 21/21 [00:10<00:00,  1.95it/s, 0 cls=0.15875, 1 cls=0.23684, 2 cls=0.19677, bce=0.05672, dice=0.88240, loss=-0.82265]\n"
     ]
    },
    {
     "name": "stdout",
     "output_type": "stream",
     "text": [
      "loss: -0.87078 | bce: 0.02908 | dice: 0.90279 | 0 cls: 0.11552 | 1 cls: 0.16820 | 2 cls: 0.13615\n"
     ]
    },
    {
     "name": "stderr",
     "output_type": "stream",
     "text": [
      "Epoch 232, lr 0.000288: 100% 21/21 [00:10<00:00,  1.94it/s, 0 cls=0.16209, 1 cls=0.24094, 2 cls=0.20082, bce=0.05791, dice=0.88045, loss=-0.81940]\n"
     ]
    },
    {
     "name": "stdout",
     "output_type": "stream",
     "text": [
      "loss: -0.87082 | bce: 0.02865 | dice: 0.90221 | 0 cls: 0.11620 | 1 cls: 0.16708 | 2 cls: 0.13620\n"
     ]
    },
    {
     "name": "stderr",
     "output_type": "stream",
     "text": [
      "Epoch 233, lr 0.000288: 100% 21/21 [00:10<00:00,  1.92it/s, 0 cls=0.16446, 1 cls=0.24270, 2 cls=0.20248, bce=0.05809, dice=0.87875, loss=-0.81747]\n"
     ]
    },
    {
     "name": "stdout",
     "output_type": "stream",
     "text": [
      "loss: -0.87084 | bce: 0.02830 | dice: 0.90204 | 0 cls: 0.11470 | 1 cls: 0.16978 | 2 cls: 0.13653\n"
     ]
    },
    {
     "name": "stderr",
     "output_type": "stream",
     "text": [
      "Epoch 234, lr 0.000288: 100% 21/21 [00:10<00:00,  1.91it/s, 0 cls=0.16159, 1 cls=0.24032, 2 cls=0.20007, bce=0.05719, dice=0.88034, loss=-0.81995]\n"
     ]
    },
    {
     "name": "stdout",
     "output_type": "stream",
     "text": [
      "loss: -0.87019 | bce: 0.02911 | dice: 0.90211 | 0 cls: 0.11632 | 1 cls: 0.16876 | 2 cls: 0.13681\n"
     ]
    },
    {
     "name": "stderr",
     "output_type": "stream",
     "text": [
      "Epoch 235, lr 0.000288: 100% 21/21 [00:11<00:00,  1.86it/s, 0 cls=0.16293, 1 cls=0.23913, 2 cls=0.20031, bce=0.05810, dice=0.88067, loss=-0.81935]\n"
     ]
    },
    {
     "name": "stdout",
     "output_type": "stream",
     "text": [
      "loss: -0.87085 | bce: 0.02936 | dice: 0.90275 | 0 cls: 0.11531 | 1 cls: 0.16851 | 2 cls: 0.13708\n"
     ]
    },
    {
     "name": "stderr",
     "output_type": "stream",
     "text": [
      "Epoch 236, lr 0.000288: 100% 21/21 [00:10<00:00,  1.93it/s, 0 cls=0.16345, 1 cls=0.24204, 2 cls=0.20195, bce=0.05699, dice=0.87863, loss=-0.81837]\n"
     ]
    },
    {
     "name": "stdout",
     "output_type": "stream",
     "text": [
      "loss: -0.87196 | bce: 0.02945 | dice: 0.90411 | 0 cls: 0.11396 | 1 cls: 0.16723 | 2 cls: 0.13528\n"
     ]
    },
    {
     "name": "stderr",
     "output_type": "stream",
     "text": [
      "Epoch 237, lr 0.000288: 100% 21/21 [00:11<00:00,  1.90it/s, 0 cls=0.16009, 1 cls=0.23649, 2 cls=0.19755, bce=0.05723, dice=0.88214, loss=-0.82187]\n"
     ]
    },
    {
     "name": "stdout",
     "output_type": "stream",
     "text": [
      "loss: -0.87159 | bce: 0.02895 | dice: 0.90333 | 0 cls: 0.11408 | 1 cls: 0.16802 | 2 cls: 0.13609\n"
     ]
    },
    {
     "name": "stderr",
     "output_type": "stream",
     "text": [
      "Epoch 238, lr 0.000288: 100% 21/21 [00:10<00:00,  1.92it/s, 0 cls=0.16562, 1 cls=0.24224, 2 cls=0.20306, bce=0.05853, dice=0.87878, loss=-0.81695]\n"
     ]
    },
    {
     "name": "stdout",
     "output_type": "stream",
     "text": [
      "loss: -0.87106 | bce: 0.02784 | dice: 0.90167 | 0 cls: 0.11578 | 1 cls: 0.16722 | 2 cls: 0.13591\n"
     ]
    },
    {
     "name": "stderr",
     "output_type": "stream",
     "text": [
      "Epoch 239, lr 0.000288: 100% 21/21 [00:11<00:00,  1.91it/s, 0 cls=0.16124, 1 cls=0.23814, 2 cls=0.19917, bce=0.05706, dice=0.88087, loss=-0.82081]\n"
     ]
    },
    {
     "name": "stdout",
     "output_type": "stream",
     "text": [
      "loss: -0.87153 | bce: 0.02921 | dice: 0.90381 | 0 cls: 0.11412 | 1 cls: 0.16868 | 2 cls: 0.13488\n"
     ]
    },
    {
     "name": "stderr",
     "output_type": "stream",
     "text": [
      "Epoch 240, lr 0.000288: 100% 21/21 [00:10<00:00,  1.91it/s, 0 cls=0.16549, 1 cls=0.24224, 2 cls=0.20248, bce=0.05947, dice=0.87983, loss=-0.81688]\n"
     ]
    },
    {
     "name": "stdout",
     "output_type": "stream",
     "text": [
      "loss: -0.87058 | bce: 0.02807 | dice: 0.90158 | 0 cls: 0.11652 | 1 cls: 0.16688 | 2 cls: 0.13636\n"
     ]
    },
    {
     "name": "stderr",
     "output_type": "stream",
     "text": [
      "Epoch 241, lr 0.000288: 100% 21/21 [00:11<00:00,  1.90it/s, 0 cls=0.17015, 1 cls=0.24356, 2 cls=0.20628, bce=0.05950, dice=0.87654, loss=-0.81372]\n"
     ]
    },
    {
     "name": "stdout",
     "output_type": "stream",
     "text": [
      "loss: -0.87142 | bce: 0.02990 | dice: 0.90429 | 0 cls: 0.11340 | 1 cls: 0.17059 | 2 cls: 0.13524\n"
     ]
    },
    {
     "name": "stderr",
     "output_type": "stream",
     "text": [
      "Epoch 242, lr 0.000288: 100% 21/21 [00:11<00:00,  1.88it/s, 0 cls=0.16336, 1 cls=0.23922, 2 cls=0.19962, bce=0.05824, dice=0.88078, loss=-0.81913]\n"
     ]
    },
    {
     "name": "stdout",
     "output_type": "stream",
     "text": [
      "loss: -0.87103 | bce: 0.02851 | dice: 0.90229 | 0 cls: 0.11546 | 1 cls: 0.16787 | 2 cls: 0.13558\n"
     ]
    },
    {
     "name": "stderr",
     "output_type": "stream",
     "text": [
      "Epoch 243, lr 0.000288: 100% 21/21 [00:11<00:00,  1.88it/s, 0 cls=0.16136, 1 cls=0.23770, 2 cls=0.19859, bce=0.05707, dice=0.88108, loss=-0.82087]\n"
     ]
    },
    {
     "name": "stdout",
     "output_type": "stream",
     "text": [
      "loss: -0.87105 | bce: 0.02909 | dice: 0.90290 | 0 cls: 0.11496 | 1 cls: 0.16800 | 2 cls: 0.13605\n"
     ]
    },
    {
     "name": "stderr",
     "output_type": "stream",
     "text": [
      "Epoch 244, lr 0.000288: 100% 21/21 [00:10<00:00,  1.93it/s, 0 cls=0.16178, 1 cls=0.23863, 2 cls=0.19896, bce=0.05645, dice=0.88001, loss=-0.82040]\n"
     ]
    },
    {
     "name": "stdout",
     "output_type": "stream",
     "text": [
      "loss: -0.86950 | bce: 0.02924 | dice: 0.90207 | 0 cls: 0.11664 | 1 cls: 0.17027 | 2 cls: 0.13631\n"
     ]
    },
    {
     "name": "stderr",
     "output_type": "stream",
     "text": [
      "Epoch 245, lr 0.000288: 100% 21/21 [00:11<00:00,  1.90it/s, 0 cls=0.16073, 1 cls=0.23810, 2 cls=0.19841, bce=0.05756, dice=0.88179, loss=-0.82109]\n"
     ]
    },
    {
     "name": "stdout",
     "output_type": "stream",
     "text": [
      "loss: -0.87068 | bce: 0.02911 | dice: 0.90261 | 0 cls: 0.11543 | 1 cls: 0.16875 | 2 cls: 0.13615\n"
     ]
    },
    {
     "name": "stderr",
     "output_type": "stream",
     "text": [
      "Epoch 246, lr 0.000288: 100% 21/21 [00:10<00:00,  1.93it/s, 0 cls=0.16063, 1 cls=0.23656, 2 cls=0.19770, bce=0.05726, dice=0.88201, loss=-0.82155]\n"
     ]
    },
    {
     "name": "stdout",
     "output_type": "stream",
     "text": [
      "loss: -0.87148 | bce: 0.02945 | dice: 0.90385 | 0 cls: 0.11422 | 1 cls: 0.16768 | 2 cls: 0.13562\n"
     ]
    },
    {
     "name": "stderr",
     "output_type": "stream",
     "text": [
      "Epoch 247, lr 0.000288: 100% 21/21 [00:10<00:00,  1.91it/s, 0 cls=0.15897, 1 cls=0.23522, 2 cls=0.19561, bce=0.05608, dice=0.88238, loss=-0.82311]\n"
     ]
    },
    {
     "name": "stdout",
     "output_type": "stream",
     "text": [
      "loss: -0.87077 | bce: 0.02941 | dice: 0.90322 | 0 cls: 0.11467 | 1 cls: 0.16936 | 2 cls: 0.13601\n"
     ]
    },
    {
     "name": "stderr",
     "output_type": "stream",
     "text": [
      "Epoch 248, lr 0.000288: 100% 21/21 [00:11<00:00,  1.88it/s, 0 cls=0.16044, 1 cls=0.23400, 2 cls=0.19550, bce=0.05636, dice=0.88228, loss=-0.82260]\n"
     ]
    },
    {
     "name": "stdout",
     "output_type": "stream",
     "text": [
      "loss: -0.87074 | bce: 0.02985 | dice: 0.90370 | 0 cls: 0.11437 | 1 cls: 0.17016 | 2 cls: 0.13603\n"
     ]
    },
    {
     "name": "stderr",
     "output_type": "stream",
     "text": [
      "Epoch 249, lr 0.000288: 100% 21/21 [00:10<00:00,  1.92it/s, 0 cls=0.16306, 1 cls=0.24098, 2 cls=0.20097, bce=0.05771, dice=0.87991, loss=-0.81888]\n"
     ]
    },
    {
     "name": "stdout",
     "output_type": "stream",
     "text": [
      "loss: -0.87123 | bce: 0.02867 | dice: 0.90290 | 0 cls: 0.11472 | 1 cls: 0.16821 | 2 cls: 0.13520\n"
     ]
    },
    {
     "name": "stderr",
     "output_type": "stream",
     "text": [
      "Epoch 250, lr 0.000288: 100% 21/21 [00:11<00:00,  1.91it/s, 0 cls=0.16045, 1 cls=0.23644, 2 cls=0.19717, bce=0.05771, dice=0.88264, loss=-0.82168]\n"
     ]
    },
    {
     "name": "stdout",
     "output_type": "stream",
     "text": [
      "loss: -0.86810 | bce: 0.02864 | dice: 0.90018 | 0 cls: 0.11899 | 1 cls: 0.16979 | 2 cls: 0.13785\n"
     ]
    },
    {
     "name": "stderr",
     "output_type": "stream",
     "text": [
      "Epoch 251, lr 0.000288: 100% 21/21 [00:11<00:00,  1.88it/s, 0 cls=0.15768, 1 cls=0.23172, 2 cls=0.19391, bce=0.05621, dice=0.88412, loss=-0.82484]\n"
     ]
    },
    {
     "name": "stdout",
     "output_type": "stream",
     "text": [
      "loss: -0.86998 | bce: 0.02828 | dice: 0.90133 | 0 cls: 0.11640 | 1 cls: 0.16886 | 2 cls: 0.13695\n"
     ]
    },
    {
     "name": "stderr",
     "output_type": "stream",
     "text": [
      "Epoch 252, lr 0.000288: 100% 21/21 [00:10<00:00,  1.93it/s, 0 cls=0.16052, 1 cls=0.23862, 2 cls=0.19859, bce=0.05671, dice=0.88086, loss=-0.82112]\n"
     ]
    },
    {
     "name": "stdout",
     "output_type": "stream",
     "text": [
      "loss: -0.87034 | bce: 0.02907 | dice: 0.90263 | 0 cls: 0.11429 | 1 cls: 0.17175 | 2 cls: 0.13683\n"
     ]
    },
    {
     "name": "stderr",
     "output_type": "stream",
     "text": [
      "Epoch 253, lr 0.000288: 100% 21/21 [00:10<00:00,  1.94it/s, 0 cls=0.16247, 1 cls=0.23791, 2 cls=0.19919, bce=0.05730, dice=0.88075, loss=-0.82014]\n"
     ]
    },
    {
     "name": "stdout",
     "output_type": "stream",
     "text": [
      "loss: -0.87136 | bce: 0.02924 | dice: 0.90374 | 0 cls: 0.11401 | 1 cls: 0.16846 | 2 cls: 0.13509\n"
     ]
    },
    {
     "name": "stderr",
     "output_type": "stream",
     "text": [
      "Epoch 254, lr 0.000288: 100% 21/21 [00:10<00:00,  1.95it/s, 0 cls=0.15912, 1 cls=0.23740, 2 cls=0.19762, bce=0.05640, dice=0.88163, loss=-0.82226]\n"
     ]
    },
    {
     "name": "stdout",
     "output_type": "stream",
     "text": [
      "loss: -0.86866 | bce: 0.02961 | dice: 0.90171 | 0 cls: 0.11780 | 1 cls: 0.16965 | 2 cls: 0.13739\n"
     ]
    },
    {
     "name": "stderr",
     "output_type": "stream",
     "text": [
      "Epoch 255, lr 0.000288: 100% 21/21 [00:10<00:00,  2.00it/s, 0 cls=0.16044, 1 cls=0.23540, 2 cls=0.19724, bce=0.05669, dice=0.88191, loss=-0.82208]\n"
     ]
    },
    {
     "name": "stdout",
     "output_type": "stream",
     "text": [
      "loss: -0.87141 | bce: 0.02930 | dice: 0.90364 | 0 cls: 0.11433 | 1 cls: 0.16819 | 2 cls: 0.13524\n"
     ]
    },
    {
     "name": "stderr",
     "output_type": "stream",
     "text": [
      "Epoch 256, lr 0.000288: 100% 21/21 [00:10<00:00,  1.94it/s, 0 cls=0.16148, 1 cls=0.23698, 2 cls=0.19797, bce=0.05684, dice=0.88115, loss=-0.82106]\n"
     ]
    },
    {
     "name": "stdout",
     "output_type": "stream",
     "text": [
      "loss: -0.87114 | bce: 0.02947 | dice: 0.90367 | 0 cls: 0.11454 | 1 cls: 0.16799 | 2 cls: 0.13594\n"
     ]
    },
    {
     "name": "stderr",
     "output_type": "stream",
     "text": [
      "Epoch 257, lr 0.000288: 100% 21/21 [00:11<00:00,  1.91it/s, 0 cls=0.16446, 1 cls=0.23668, 2 cls=0.19979, bce=0.05758, dice=0.88009, loss=-0.81924]\n"
     ]
    },
    {
     "name": "stdout",
     "output_type": "stream",
     "text": [
      "loss: -0.87104 | bce: 0.02959 | dice: 0.90385 | 0 cls: 0.11525 | 1 cls: 0.16738 | 2 cls: 0.13468\n"
     ]
    },
    {
     "name": "stderr",
     "output_type": "stream",
     "text": [
      "Epoch 258, lr 0.000288: 100% 21/21 [00:10<00:00,  1.92it/s, 0 cls=0.16052, 1 cls=0.23392, 2 cls=0.19595, bce=0.05689, dice=0.88260, loss=-0.82251]\n"
     ]
    },
    {
     "name": "stdout",
     "output_type": "stream",
     "text": [
      "loss: -0.86787 | bce: 0.02933 | dice: 0.90004 | 0 cls: 0.11701 | 1 cls: 0.17414 | 2 cls: 0.14093\n"
     ]
    },
    {
     "name": "stderr",
     "output_type": "stream",
     "text": [
      "Epoch 259, lr 0.000288: 100% 21/21 [00:10<00:00,  1.96it/s, 0 cls=0.16554, 1 cls=0.24096, 2 cls=0.20266, bce=0.05913, dice=0.87949, loss=-0.81718]\n"
     ]
    },
    {
     "name": "stdout",
     "output_type": "stream",
     "text": [
      "loss: -0.87073 | bce: 0.02843 | dice: 0.90210 | 0 cls: 0.11594 | 1 cls: 0.16694 | 2 cls: 0.13654\n"
     ]
    },
    {
     "name": "stderr",
     "output_type": "stream",
     "text": [
      "Epoch 260, lr 0.000288: 100% 21/21 [00:10<00:00,  1.94it/s, 0 cls=0.16158, 1 cls=0.23991, 2 cls=0.20026, bce=0.05787, dice=0.88090, loss=-0.82002]\n"
     ]
    },
    {
     "name": "stdout",
     "output_type": "stream",
     "text": [
      "loss: -0.87113 | bce: 0.02895 | dice: 0.90283 | 0 cls: 0.11486 | 1 cls: 0.16815 | 2 cls: 0.13645\n"
     ]
    },
    {
     "name": "stderr",
     "output_type": "stream",
     "text": [
      "Epoch 261, lr 0.000288: 100% 21/21 [00:10<00:00,  1.93it/s, 0 cls=0.16547, 1 cls=0.23929, 2 cls=0.20094, bce=0.05708, dice=0.87868, loss=-0.81815]\n"
     ]
    },
    {
     "name": "stdout",
     "output_type": "stream",
     "text": [
      "loss: -0.87158 | bce: 0.02894 | dice: 0.90325 | 0 cls: 0.11466 | 1 cls: 0.16675 | 2 cls: 0.13625\n"
     ]
    },
    {
     "name": "stderr",
     "output_type": "stream",
     "text": [
      "Epoch 262, lr 0.000288: 100% 21/21 [00:11<00:00,  1.91it/s, 0 cls=0.16007, 1 cls=0.23717, 2 cls=0.19794, bce=0.05680, dice=0.88145, loss=-0.82174]\n"
     ]
    },
    {
     "name": "stdout",
     "output_type": "stream",
     "text": [
      "loss: -0.87168 | bce: 0.02899 | dice: 0.90377 | 0 cls: 0.11420 | 1 cls: 0.16723 | 2 cls: 0.13523\n"
     ]
    },
    {
     "name": "stderr",
     "output_type": "stream",
     "text": [
      "Epoch 263, lr 0.000288: 100% 21/21 [00:10<00:00,  1.93it/s, 0 cls=0.15863, 1 cls=0.23422, 2 cls=0.19560, bce=0.05649, dice=0.88314, loss=-0.82350]\n"
     ]
    },
    {
     "name": "stdout",
     "output_type": "stream",
     "text": [
      "loss: -0.87188 | bce: 0.02878 | dice: 0.90354 | 0 cls: 0.11497 | 1 cls: 0.16558 | 2 cls: 0.13458\n"
     ]
    },
    {
     "name": "stderr",
     "output_type": "stream",
     "text": [
      "Epoch 264, lr 0.000288: 100% 21/21 [00:10<00:00,  1.94it/s, 0 cls=0.15832, 1 cls=0.23326, 2 cls=0.19543, bce=0.05648, dice=0.88340, loss=-0.82397]\n"
     ]
    },
    {
     "name": "stdout",
     "output_type": "stream",
     "text": [
      "loss: -0.87178 | bce: 0.02929 | dice: 0.90421 | 0 cls: 0.11434 | 1 cls: 0.16651 | 2 cls: 0.13448\n"
     ]
    },
    {
     "name": "stderr",
     "output_type": "stream",
     "text": [
      "Epoch 265, lr 0.000288: 100% 21/21 [00:10<00:00,  1.92it/s, 0 cls=0.15968, 1 cls=0.23457, 2 cls=0.19624, bce=0.05616, dice=0.88223, loss=-0.82293]\n"
     ]
    },
    {
     "name": "stdout",
     "output_type": "stream",
     "text": [
      "loss: -0.87164 | bce: 0.02909 | dice: 0.90353 | 0 cls: 0.11422 | 1 cls: 0.16747 | 2 cls: 0.13591\n"
     ]
    },
    {
     "name": "stderr",
     "output_type": "stream",
     "text": [
      "Epoch 266, lr 0.000288: 100% 21/21 [00:10<00:00,  1.91it/s, 0 cls=0.15878, 1 cls=0.23125, 2 cls=0.19391, bce=0.05567, dice=0.88332, loss=-0.82441]\n"
     ]
    },
    {
     "name": "stdout",
     "output_type": "stream",
     "text": [
      "loss: -0.87055 | bce: 0.03017 | dice: 0.90362 | 0 cls: 0.11401 | 1 cls: 0.17056 | 2 cls: 0.13782\n"
     ]
    },
    {
     "name": "stderr",
     "output_type": "stream",
     "text": [
      "Epoch 267, lr 0.000288: 100% 21/21 [00:10<00:00,  1.93it/s, 0 cls=0.15944, 1 cls=0.23640, 2 cls=0.19641, bce=0.05691, dice=0.88250, loss=-0.82241]\n"
     ]
    },
    {
     "name": "stdout",
     "output_type": "stream",
     "text": [
      "loss: -0.87210 | bce: 0.02954 | dice: 0.90451 | 0 cls: 0.11355 | 1 cls: 0.16697 | 2 cls: 0.13502\n"
     ]
    },
    {
     "name": "stderr",
     "output_type": "stream",
     "text": [
      "Epoch 268, lr 0.000288: 100% 21/21 [00:11<00:00,  1.91it/s, 0 cls=0.16091, 1 cls=0.23705, 2 cls=0.19800, bce=0.05682, dice=0.88139, loss=-0.82131]\n"
     ]
    },
    {
     "name": "stdout",
     "output_type": "stream",
     "text": [
      "loss: -0.87133 | bce: 0.02858 | dice: 0.90282 | 0 cls: 0.11530 | 1 cls: 0.16667 | 2 cls: 0.13534\n"
     ]
    },
    {
     "name": "stderr",
     "output_type": "stream",
     "text": [
      "Epoch 269, lr 0.000288: 100% 21/21 [00:10<00:00,  1.95it/s, 0 cls=0.15685, 1 cls=0.23236, 2 cls=0.19358, bce=0.05534, dice=0.88364, loss=-0.82525]\n"
     ]
    },
    {
     "name": "stdout",
     "output_type": "stream",
     "text": [
      "loss: -0.87162 | bce: 0.02837 | dice: 0.90275 | 0 cls: 0.11462 | 1 cls: 0.16747 | 2 cls: 0.13571\n"
     ]
    },
    {
     "name": "stderr",
     "output_type": "stream",
     "text": [
      "Epoch 270, lr 0.000288: 100% 21/21 [00:10<00:00,  1.96it/s, 0 cls=0.16619, 1 cls=0.24266, 2 cls=0.20373, bce=0.05826, dice=0.87793, loss=-0.81642]\n"
     ]
    },
    {
     "name": "stdout",
     "output_type": "stream",
     "text": [
      "loss: -0.87050 | bce: 0.02838 | dice: 0.90170 | 0 cls: 0.11531 | 1 cls: 0.16923 | 2 cls: 0.13746\n"
     ]
    },
    {
     "name": "stderr",
     "output_type": "stream",
     "text": [
      "Epoch 271, lr 0.000288: 100% 21/21 [00:10<00:00,  1.91it/s, 0 cls=0.15530, 1 cls=0.23027, 2 cls=0.19150, bce=0.05539, dice=0.88528, loss=-0.82681]\n"
     ]
    },
    {
     "name": "stdout",
     "output_type": "stream",
     "text": [
      "loss: -0.87121 | bce: 0.02868 | dice: 0.90295 | 0 cls: 0.11529 | 1 cls: 0.16699 | 2 cls: 0.13540\n"
     ]
    },
    {
     "name": "stderr",
     "output_type": "stream",
     "text": [
      "Epoch 272, lr 0.000288: 100% 21/21 [00:10<00:00,  1.95it/s, 0 cls=0.15812, 1 cls=0.23509, 2 cls=0.19547, bce=0.05651, dice=0.88331, loss=-0.82361]\n"
     ]
    },
    {
     "name": "stdout",
     "output_type": "stream",
     "text": [
      "loss: -0.87137 | bce: 0.02862 | dice: 0.90280 | 0 cls: 0.11389 | 1 cls: 0.16958 | 2 cls: 0.13607\n"
     ]
    },
    {
     "name": "stderr",
     "output_type": "stream",
     "text": [
      "Epoch 273, lr 0.000288: 100% 21/21 [00:11<00:00,  1.88it/s, 0 cls=0.15668, 1 cls=0.23188, 2 cls=0.19361, bce=0.05566, dice=0.88412, loss=-0.82548]\n"
     ]
    },
    {
     "name": "stdout",
     "output_type": "stream",
     "text": [
      "loss: -0.86968 | bce: 0.02898 | dice: 0.90160 | 0 cls: 0.11535 | 1 cls: 0.17181 | 2 cls: 0.13814\n"
     ]
    },
    {
     "name": "stderr",
     "output_type": "stream",
     "text": [
      "Epoch 274, lr 0.000288: 100% 21/21 [00:11<00:00,  1.90it/s, 0 cls=0.16026, 1 cls=0.23370, 2 cls=0.19641, bce=0.05716, dice=0.88300, loss=-0.82273]\n"
     ]
    },
    {
     "name": "stdout",
     "output_type": "stream",
     "text": [
      "loss: -0.87027 | bce: 0.02819 | dice: 0.90155 | 0 cls: 0.11532 | 1 cls: 0.17015 | 2 cls: 0.13667\n"
     ]
    },
    {
     "name": "stderr",
     "output_type": "stream",
     "text": [
      "Epoch 275, lr 0.000288: 100% 21/21 [00:11<00:00,  1.90it/s, 0 cls=0.16172, 1 cls=0.23736, 2 cls=0.19862, bce=0.05665, dice=0.88067, loss=-0.82078]\n"
     ]
    },
    {
     "name": "stdout",
     "output_type": "stream",
     "text": [
      "loss: -0.87156 | bce: 0.02882 | dice: 0.90320 | 0 cls: 0.11478 | 1 cls: 0.16736 | 2 cls: 0.13528\n"
     ]
    },
    {
     "name": "stderr",
     "output_type": "stream",
     "text": [
      "Epoch 276, lr 0.000288: 100% 21/21 [00:11<00:00,  1.89it/s, 0 cls=0.15726, 1 cls=0.23215, 2 cls=0.19396, bce=0.05586, dice=0.88393, loss=-0.82503]\n"
     ]
    },
    {
     "name": "stdout",
     "output_type": "stream",
     "text": [
      "loss: -0.87019 | bce: 0.02857 | dice: 0.90168 | 0 cls: 0.11695 | 1 cls: 0.16770 | 2 cls: 0.13626\n"
     ]
    },
    {
     "name": "stderr",
     "output_type": "stream",
     "text": [
      "Epoch 277, lr 0.000288: 100% 21/21 [00:10<00:00,  1.96it/s, 0 cls=0.16459, 1 cls=0.23578, 2 cls=0.19918, bce=0.05792, dice=0.88087, loss=-0.81947]\n"
     ]
    },
    {
     "name": "stdout",
     "output_type": "stream",
     "text": [
      "loss: -0.86967 | bce: 0.02748 | dice: 0.90026 | 0 cls: 0.11722 | 1 cls: 0.16872 | 2 cls: 0.13696\n"
     ]
    },
    {
     "name": "stderr",
     "output_type": "stream",
     "text": [
      "Epoch 278, lr 0.000288: 100% 21/21 [00:10<00:00,  1.94it/s, 0 cls=0.15728, 1 cls=0.23187, 2 cls=0.19336, bce=0.05541, dice=0.88360, loss=-0.82512]\n"
     ]
    },
    {
     "name": "stdout",
     "output_type": "stream",
     "text": [
      "loss: -0.87131 | bce: 0.02966 | dice: 0.90400 | 0 cls: 0.11416 | 1 cls: 0.16893 | 2 cls: 0.13506\n"
     ]
    },
    {
     "name": "stderr",
     "output_type": "stream",
     "text": [
      "Epoch 279, lr 0.000288: 100% 21/21 [00:11<00:00,  1.91it/s, 0 cls=0.16245, 1 cls=0.23493, 2 cls=0.19712, bce=0.05645, dice=0.88114, loss=-0.82114]\n"
     ]
    },
    {
     "name": "stdout",
     "output_type": "stream",
     "text": [
      "loss: -0.86917 | bce: 0.02879 | dice: 0.90060 | 0 cls: 0.11769 | 1 cls: 0.16913 | 2 cls: 0.13890\n"
     ]
    },
    {
     "name": "stderr",
     "output_type": "stream",
     "text": [
      "Epoch 280, lr 0.000288: 100% 21/21 [00:10<00:00,  1.92it/s, 0 cls=0.16152, 1 cls=0.23432, 2 cls=0.19767, bce=0.05700, dice=0.88169, loss=-0.82169]\n"
     ]
    },
    {
     "name": "stdout",
     "output_type": "stream",
     "text": [
      "loss: -0.86933 | bce: 0.02927 | dice: 0.90209 | 0 cls: 0.11746 | 1 cls: 0.16876 | 2 cls: 0.13634\n"
     ]
    },
    {
     "name": "stderr",
     "output_type": "stream",
     "text": [
      "Epoch 281, lr 0.000288: 100% 21/21 [00:10<00:00,  1.92it/s, 0 cls=0.16133, 1 cls=0.23709, 2 cls=0.19782, bce=0.05748, dice=0.88180, loss=-0.82097]\n"
     ]
    },
    {
     "name": "stdout",
     "output_type": "stream",
     "text": [
      "loss: -0.87044 | bce: 0.03020 | dice: 0.90371 | 0 cls: 0.11460 | 1 cls: 0.17115 | 2 cls: 0.13616\n"
     ]
    },
    {
     "name": "stderr",
     "output_type": "stream",
     "text": [
      "Epoch 282, lr 0.000288: 100% 21/21 [00:10<00:00,  1.93it/s, 0 cls=0.16178, 1 cls=0.23432, 2 cls=0.19673, bce=0.05747, dice=0.88253, loss=-0.82157]\n"
     ]
    },
    {
     "name": "stdout",
     "output_type": "stream",
     "text": [
      "loss: -0.86926 | bce: 0.02928 | dice: 0.90140 | 0 cls: 0.11697 | 1 cls: 0.17033 | 2 cls: 0.13817\n"
     ]
    },
    {
     "name": "stderr",
     "output_type": "stream",
     "text": [
      "Epoch 283, lr 0.000288: 100% 21/21 [00:11<00:00,  1.87it/s, 0 cls=0.15732, 1 cls=0.23658, 2 cls=0.19569, bce=0.05646, dice=0.88312, loss=-0.82372]\n"
     ]
    },
    {
     "name": "stdout",
     "output_type": "stream",
     "text": [
      "loss: -0.86785 | bce: 0.03000 | dice: 0.90078 | 0 cls: 0.11542 | 1 cls: 0.17799 | 2 cls: 0.14066\n"
     ]
    },
    {
     "name": "stderr",
     "output_type": "stream",
     "text": [
      "Epoch 284, lr 0.000288: 100% 21/21 [00:10<00:00,  1.93it/s, 0 cls=0.16368, 1 cls=0.24126, 2 cls=0.20063, bce=0.05732, dice=0.87919, loss=-0.81855]\n"
     ]
    },
    {
     "name": "stdout",
     "output_type": "stream",
     "text": [
      "loss: -0.87069 | bce: 0.02957 | dice: 0.90311 | 0 cls: 0.11531 | 1 cls: 0.16906 | 2 cls: 0.13653\n"
     ]
    },
    {
     "name": "stderr",
     "output_type": "stream",
     "text": [
      "Epoch 285, lr 0.000288: 100% 21/21 [00:10<00:00,  1.95it/s, 0 cls=0.15386, 1 cls=0.22858, 2 cls=0.18979, bce=0.05468, dice=0.88608, loss=-0.82824]\n"
     ]
    },
    {
     "name": "stdout",
     "output_type": "stream",
     "text": [
      "loss: -0.87137 | bce: 0.02925 | dice: 0.90372 | 0 cls: 0.11511 | 1 cls: 0.16735 | 2 cls: 0.13478\n"
     ]
    },
    {
     "name": "stderr",
     "output_type": "stream",
     "text": [
      "Epoch 286, lr 0.000288: 100% 21/21 [00:10<00:00,  1.94it/s, 0 cls=0.15856, 1 cls=0.23242, 2 cls=0.19449, bce=0.05682, dice=0.88406, loss=-0.82405]\n"
     ]
    },
    {
     "name": "stdout",
     "output_type": "stream",
     "text": [
      "loss: -0.87111 | bce: 0.02881 | dice: 0.90291 | 0 cls: 0.11549 | 1 cls: 0.16735 | 2 cls: 0.13508\n"
     ]
    },
    {
     "name": "stderr",
     "output_type": "stream",
     "text": [
      "Epoch 287, lr 0.000288: 100% 21/21 [00:11<00:00,  1.91it/s, 0 cls=0.15822, 1 cls=0.23437, 2 cls=0.19543, bce=0.05675, dice=0.88355, loss=-0.82370]\n"
     ]
    },
    {
     "name": "stdout",
     "output_type": "stream",
     "text": [
      "loss: -0.87009 | bce: 0.02832 | dice: 0.90143 | 0 cls: 0.11630 | 1 cls: 0.16945 | 2 cls: 0.13680\n"
     ]
    },
    {
     "name": "stderr",
     "output_type": "stream",
     "text": [
      "Epoch 288, lr 0.000288: 100% 21/21 [00:11<00:00,  1.86it/s, 0 cls=0.15745, 1 cls=0.23306, 2 cls=0.19444, bce=0.05546, dice=0.88322, loss=-0.82468]\n"
     ]
    },
    {
     "name": "stdout",
     "output_type": "stream",
     "text": [
      "loss: -0.87069 | bce: 0.02965 | dice: 0.90317 | 0 cls: 0.11621 | 1 cls: 0.16677 | 2 cls: 0.13618\n"
     ]
    },
    {
     "name": "stderr",
     "output_type": "stream",
     "text": [
      "Epoch 289, lr 0.000288: 100% 21/21 [00:10<00:00,  1.92it/s, 0 cls=0.16288, 1 cls=0.24022, 2 cls=0.20109, bce=0.05835, dice=0.88042, loss=-0.81904]\n"
     ]
    },
    {
     "name": "stdout",
     "output_type": "stream",
     "text": [
      "loss: -0.87104 | bce: 0.02906 | dice: 0.90304 | 0 cls: 0.11350 | 1 cls: 0.17035 | 2 cls: 0.13740\n"
     ]
    },
    {
     "name": "stderr",
     "output_type": "stream",
     "text": [
      "Epoch 290, lr 0.0016200000000000001: 100% 21/21 [00:10<00:00,  1.93it/s, 0 cls=0.17109, 1 cls=0.25689, 2 cls=0.21206, bce=0.06123, dice=0.87371, loss=-0.80916]\n"
     ]
    },
    {
     "name": "stdout",
     "output_type": "stream",
     "text": [
      "loss: -0.85826 | bce: 0.03184 | dice: 0.89431 | 0 cls: 0.13046 | 1 cls: 0.17810 | 2 cls: 0.14695\n"
     ]
    },
    {
     "name": "stderr",
     "output_type": "stream",
     "text": [
      "Epoch 291, lr 0.0016200000000000001: 100% 21/21 [00:11<00:00,  1.89it/s, 0 cls=0.18324, 1 cls=0.26508, 2 cls=0.22203, bce=0.06518, dice=0.86842, loss=-0.79921]\n"
     ]
    },
    {
     "name": "stdout",
     "output_type": "stream",
     "text": [
      "loss: -0.86301 | bce: 0.03322 | dice: 0.90008 | 0 cls: 0.12242 | 1 cls: 0.17760 | 2 cls: 0.14106\n"
     ]
    },
    {
     "name": "stderr",
     "output_type": "stream",
     "text": [
      "Epoch 292, lr 0.000486: 100% 21/21 [00:11<00:00,  1.90it/s, 0 cls=0.18587, 1 cls=0.26088, 2 cls=0.22102, bce=0.06457, dice=0.86802, loss=-0.79913]\n"
     ]
    },
    {
     "name": "stdout",
     "output_type": "stream",
     "text": [
      "loss: -0.86866 | bce: 0.03010 | dice: 0.90155 | 0 cls: 0.11711 | 1 cls: 0.17167 | 2 cls: 0.13746\n"
     ]
    },
    {
     "name": "stderr",
     "output_type": "stream",
     "text": [
      "Epoch 293, lr 0.000486: 100% 21/21 [00:10<00:00,  1.91it/s, 0 cls=0.16921, 1 cls=0.24714, 2 cls=0.20638, bce=0.06057, dice=0.87722, loss=-0.81319]\n"
     ]
    },
    {
     "name": "stdout",
     "output_type": "stream",
     "text": [
      "loss: -0.86807 | bce: 0.02901 | dice: 0.90001 | 0 cls: 0.11754 | 1 cls: 0.17270 | 2 cls: 0.13950\n"
     ]
    },
    {
     "name": "stderr",
     "output_type": "stream",
     "text": [
      "Epoch 294, lr 0.0001458: 100% 21/21 [00:10<00:00,  1.92it/s, 0 cls=0.16917, 1 cls=0.24532, 2 cls=0.20682, bce=0.05978, dice=0.87682, loss=-0.81374]\n"
     ]
    },
    {
     "name": "stdout",
     "output_type": "stream",
     "text": [
      "loss: -0.87024 | bce: 0.02949 | dice: 0.90280 | 0 cls: 0.11504 | 1 cls: 0.17027 | 2 cls: 0.13622\n"
     ]
    },
    {
     "name": "stderr",
     "output_type": "stream",
     "text": [
      "Epoch 295, lr 0.0016200000000000001: 100% 21/21 [00:11<00:00,  1.90it/s, 0 cls=0.17367, 1 cls=0.24967, 2 cls=0.20914, bce=0.06133, dice=0.87493, loss=-0.80976]\n"
     ]
    },
    {
     "name": "stdout",
     "output_type": "stream",
     "text": [
      "loss: -0.85633 | bce: 0.03257 | dice: 0.89205 | 0 cls: 0.13188 | 1 cls: 0.18154 | 2 cls: 0.15192\n"
     ]
    },
    {
     "name": "stderr",
     "output_type": "stream",
     "text": [
      "Epoch 296, lr 0.0016200000000000001: 100% 21/21 [00:10<00:00,  1.95it/s, 0 cls=0.23048, 1 cls=0.30155, 2 cls=0.26179, bce=0.08025, dice=0.84621, loss=-0.75998]\n"
     ]
    },
    {
     "name": "stdout",
     "output_type": "stream",
     "text": [
      "loss: -0.85583 | bce: 0.03201 | dice: 0.89188 | 0 cls: 0.13420 | 1 cls: 0.18022 | 2 cls: 0.14765\n"
     ]
    },
    {
     "name": "stderr",
     "output_type": "stream",
     "text": [
      "Epoch 297, lr 0.000486: 100% 21/21 [00:10<00:00,  1.93it/s, 0 cls=0.19448, 1 cls=0.27188, 2 cls=0.23003, bce=0.06601, dice=0.86136, loss=-0.79080]\n"
     ]
    },
    {
     "name": "stdout",
     "output_type": "stream",
     "text": [
      "loss: -0.86665 | bce: 0.03106 | dice: 0.90094 | 0 cls: 0.11753 | 1 cls: 0.17799 | 2 cls: 0.14022\n"
     ]
    },
    {
     "name": "stderr",
     "output_type": "stream",
     "text": [
      "Epoch 298, lr 0.000486: 100% 21/21 [00:11<00:00,  1.90it/s, 0 cls=0.18160, 1 cls=0.25860, 2 cls=0.21759, bce=0.06352, dice=0.87023, loss=-0.80232]\n"
     ]
    },
    {
     "name": "stdout",
     "output_type": "stream",
     "text": [
      "loss: -0.86811 | bce: 0.02961 | dice: 0.89940 | 0 cls: 0.11895 | 1 cls: 0.17064 | 2 cls: 0.14261\n"
     ]
    },
    {
     "name": "stderr",
     "output_type": "stream",
     "text": [
      "Epoch 299, lr 0.0001458: 100% 21/21 [00:10<00:00,  1.92it/s, 0 cls=0.17970, 1 cls=0.25655, 2 cls=0.21625, bce=0.06252, dice=0.87027, loss=-0.80418]\n"
     ]
    },
    {
     "name": "stdout",
     "output_type": "stream",
     "text": [
      "loss: -0.86940 | bce: 0.02926 | dice: 0.90101 | 0 cls: 0.11635 | 1 cls: 0.17179 | 2 cls: 0.13918\n"
     ]
    },
    {
     "name": "stderr",
     "output_type": "stream",
     "text": [
      "Epoch 300, lr 0.00017279999999999997: 100% 21/21 [00:10<00:00,  1.93it/s, 0 cls=0.17328, 1 cls=0.25105, 2 cls=0.20989, bce=0.06107, dice=0.87450, loss=-0.80965]\n"
     ]
    },
    {
     "name": "stdout",
     "output_type": "stream",
     "text": [
      "loss: -0.87194 | bce: 0.02901 | dice: 0.90336 | 0 cls: 0.11431 | 1 cls: 0.16767 | 2 cls: 0.13587\n"
     ]
    },
    {
     "name": "stderr",
     "output_type": "stream",
     "text": [
      "Epoch 301, lr 0.00017279999999999997: 100% 21/21 [00:10<00:00,  1.94it/s, 0 cls=0.17243, 1 cls=0.25057, 2 cls=0.20918, bce=0.06057, dice=0.87459, loss=-0.81031]\n"
     ]
    },
    {
     "name": "stdout",
     "output_type": "stream",
     "text": [
      "loss: -0.87056 | bce: 0.02998 | dice: 0.90287 | 0 cls: 0.11549 | 1 cls: 0.16949 | 2 cls: 0.13759\n"
     ]
    },
    {
     "name": "stderr",
     "output_type": "stream",
     "text": [
      "Epoch 302, lr 0.00017279999999999997: 100% 21/21 [00:10<00:00,  1.91it/s, 0 cls=0.16642, 1 cls=0.24430, 2 cls=0.20382, bce=0.05903, dice=0.87822, loss=-0.81578]\n"
     ]
    },
    {
     "name": "stdout",
     "output_type": "stream",
     "text": [
      "loss: -0.87059 | bce: 0.02934 | dice: 0.90267 | 0 cls: 0.11544 | 1 cls: 0.16967 | 2 cls: 0.13646\n"
     ]
    },
    {
     "name": "stderr",
     "output_type": "stream",
     "text": [
      "Epoch 303, lr 0.00017279999999999997: 100% 21/21 [00:10<00:00,  1.91it/s, 0 cls=0.16832, 1 cls=0.24837, 2 cls=0.20704, bce=0.05984, dice=0.87667, loss=-0.81343]\n"
     ]
    },
    {
     "name": "stdout",
     "output_type": "stream",
     "text": [
      "loss: -0.87006 | bce: 0.02958 | dice: 0.90220 | 0 cls: 0.11555 | 1 cls: 0.17049 | 2 cls: 0.13793\n"
     ]
    },
    {
     "name": "stderr",
     "output_type": "stream",
     "text": [
      "Epoch 304, lr 0.00017279999999999997: 100% 21/21 [00:10<00:00,  1.91it/s, 0 cls=0.17014, 1 cls=0.24757, 2 cls=0.20692, bce=0.05991, dice=0.87605, loss=-0.81259]\n"
     ]
    },
    {
     "name": "stdout",
     "output_type": "stream",
     "text": [
      "loss: -0.87000 | bce: 0.02876 | dice: 0.90150 | 0 cls: 0.11621 | 1 cls: 0.16978 | 2 cls: 0.13726\n"
     ]
    },
    {
     "name": "stderr",
     "output_type": "stream",
     "text": [
      "Epoch 305, lr 0.00017279999999999997: 100% 21/21 [00:11<00:00,  1.89it/s, 0 cls=0.16344, 1 cls=0.24010, 2 cls=0.20037, bce=0.05800, dice=0.88018, loss=-0.81886]\n"
     ]
    },
    {
     "name": "stdout",
     "output_type": "stream",
     "text": [
      "loss: -0.87158 | bce: 0.03001 | dice: 0.90437 | 0 cls: 0.11383 | 1 cls: 0.16857 | 2 cls: 0.13549\n"
     ]
    },
    {
     "name": "stderr",
     "output_type": "stream",
     "text": [
      "Epoch 306, lr 0.00017279999999999997: 100% 21/21 [00:10<00:00,  1.92it/s, 0 cls=0.16547, 1 cls=0.24246, 2 cls=0.20241, bce=0.05930, dice=0.87956, loss=-0.81685]\n"
     ]
    },
    {
     "name": "stdout",
     "output_type": "stream",
     "text": [
      "loss: -0.86988 | bce: 0.02940 | dice: 0.90195 | 0 cls: 0.11601 | 1 cls: 0.17052 | 2 cls: 0.13747\n"
     ]
    },
    {
     "name": "stderr",
     "output_type": "stream",
     "text": [
      "Epoch 307, lr 0.00017279999999999997: 100% 21/21 [00:11<00:00,  1.88it/s, 0 cls=0.16474, 1 cls=0.24287, 2 cls=0.20266, bce=0.05834, dice=0.87881, loss=-0.81723]\n"
     ]
    },
    {
     "name": "stdout",
     "output_type": "stream",
     "text": [
      "loss: -0.86995 | bce: 0.02984 | dice: 0.90256 | 0 cls: 0.11613 | 1 cls: 0.16938 | 2 cls: 0.13711\n"
     ]
    },
    {
     "name": "stderr",
     "output_type": "stream",
     "text": [
      "Epoch 308, lr 0.00017279999999999997: 100% 21/21 [00:11<00:00,  1.87it/s, 0 cls=0.17015, 1 cls=0.24913, 2 cls=0.20838, bce=0.05996, dice=0.87545, loss=-0.81220]\n"
     ]
    },
    {
     "name": "stdout",
     "output_type": "stream",
     "text": [
      "loss: -0.87028 | bce: 0.02973 | dice: 0.90283 | 0 cls: 0.11575 | 1 cls: 0.16904 | 2 cls: 0.13688\n"
     ]
    },
    {
     "name": "stderr",
     "output_type": "stream",
     "text": [
      "Epoch 309, lr 0.00017279999999999997: 100% 21/21 [00:10<00:00,  1.92it/s, 0 cls=0.16603, 1 cls=0.24218, 2 cls=0.20245, bce=0.05884, dice=0.87898, loss=-0.81661]\n"
     ]
    },
    {
     "name": "stdout",
     "output_type": "stream",
     "text": [
      "loss: -0.86956 | bce: 0.02966 | dice: 0.90206 | 0 cls: 0.11616 | 1 cls: 0.17020 | 2 cls: 0.13784\n"
     ]
    },
    {
     "name": "stderr",
     "output_type": "stream",
     "text": [
      "Epoch 310, lr 0.00017279999999999997: 100% 21/21 [00:11<00:00,  1.90it/s, 0 cls=0.16352, 1 cls=0.24140, 2 cls=0.20125, bce=0.05821, dice=0.87972, loss=-0.81838]\n"
     ]
    },
    {
     "name": "stdout",
     "output_type": "stream",
     "text": [
      "loss: -0.87062 | bce: 0.02976 | dice: 0.90328 | 0 cls: 0.11520 | 1 cls: 0.16877 | 2 cls: 0.13632\n"
     ]
    },
    {
     "name": "stderr",
     "output_type": "stream",
     "text": [
      "Epoch 311, lr 0.00017279999999999997: 100% 21/21 [00:10<00:00,  1.93it/s, 0 cls=0.16451, 1 cls=0.24098, 2 cls=0.20132, bce=0.05862, dice=0.87982, loss=-0.81787]\n"
     ]
    },
    {
     "name": "stdout",
     "output_type": "stream",
     "text": [
      "loss: -0.86976 | bce: 0.02927 | dice: 0.90224 | 0 cls: 0.11563 | 1 cls: 0.17042 | 2 cls: 0.13692\n"
     ]
    },
    {
     "name": "stderr",
     "output_type": "stream",
     "text": [
      "Epoch 312, lr 0.00017279999999999997: 100% 21/21 [00:10<00:00,  1.93it/s, 0 cls=0.16225, 1 cls=0.23641, 2 cls=0.19805, bce=0.05752, dice=0.88167, loss=-0.82077]\n"
     ]
    },
    {
     "name": "stdout",
     "output_type": "stream",
     "text": [
      "loss: -0.86975 | bce: 0.02961 | dice: 0.90248 | 0 cls: 0.11528 | 1 cls: 0.17129 | 2 cls: 0.13725\n"
     ]
    },
    {
     "name": "stderr",
     "output_type": "stream",
     "text": [
      "Epoch 313, lr 0.00017279999999999997: 100% 21/21 [00:11<00:00,  1.85it/s, 0 cls=0.16690, 1 cls=0.24236, 2 cls=0.20318, bce=0.05930, dice=0.87878, loss=-0.81596]\n"
     ]
    },
    {
     "name": "stdout",
     "output_type": "stream",
     "text": [
      "loss: -0.87037 | bce: 0.02921 | dice: 0.90266 | 0 cls: 0.11545 | 1 cls: 0.16864 | 2 cls: 0.13648\n"
     ]
    },
    {
     "name": "stderr",
     "output_type": "stream",
     "text": [
      "Epoch 314, lr 0.00017279999999999997: 100% 21/21 [00:11<00:00,  1.90it/s, 0 cls=0.16479, 1 cls=0.24080, 2 cls=0.20182, bce=0.05811, dice=0.87929, loss=-0.81791]\n"
     ]
    },
    {
     "name": "stdout",
     "output_type": "stream",
     "text": [
      "loss: -0.87107 | bce: 0.02957 | dice: 0.90394 | 0 cls: 0.11421 | 1 cls: 0.16883 | 2 cls: 0.13513\n"
     ]
    },
    {
     "name": "stderr",
     "output_type": "stream",
     "text": [
      "Epoch 315, lr 0.00017279999999999997: 100% 21/21 [00:10<00:00,  1.93it/s, 0 cls=0.16288, 1 cls=0.23965, 2 cls=0.20073, bce=0.05846, dice=0.88079, loss=-0.81922]\n"
     ]
    },
    {
     "name": "stdout",
     "output_type": "stream",
     "text": [
      "loss: -0.86954 | bce: 0.02882 | dice: 0.90141 | 0 cls: 0.11669 | 1 cls: 0.16926 | 2 cls: 0.13749\n"
     ]
    },
    {
     "name": "stderr",
     "output_type": "stream",
     "text": [
      "Epoch 316, lr 0.00017279999999999997: 100% 21/21 [00:11<00:00,  1.85it/s, 0 cls=0.16248, 1 cls=0.23901, 2 cls=0.19864, bce=0.05697, dice=0.88033, loss=-0.81988]\n"
     ]
    },
    {
     "name": "stdout",
     "output_type": "stream",
     "text": [
      "loss: -0.87061 | bce: 0.02915 | dice: 0.90267 | 0 cls: 0.11498 | 1 cls: 0.16904 | 2 cls: 0.13683\n"
     ]
    },
    {
     "name": "stderr",
     "output_type": "stream",
     "text": [
      "Epoch 317, lr 0.00017279999999999997: 100% 21/21 [00:10<00:00,  1.95it/s, 0 cls=0.16461, 1 cls=0.23708, 2 cls=0.19935, bce=0.05817, dice=0.88074, loss=-0.81905]\n"
     ]
    },
    {
     "name": "stdout",
     "output_type": "stream",
     "text": [
      "loss: -0.86912 | bce: 0.02968 | dice: 0.90160 | 0 cls: 0.11635 | 1 cls: 0.17109 | 2 cls: 0.13892\n"
     ]
    },
    {
     "name": "stderr",
     "output_type": "stream",
     "text": [
      "Epoch 318, lr 0.00017279999999999997: 100% 21/21 [00:11<00:00,  1.90it/s, 0 cls=0.15980, 1 cls=0.23726, 2 cls=0.19712, bce=0.05687, dice=0.88206, loss=-0.82197]\n"
     ]
    },
    {
     "name": "stdout",
     "output_type": "stream",
     "text": [
      "loss: -0.87079 | bce: 0.02866 | dice: 0.90247 | 0 cls: 0.11502 | 1 cls: 0.16822 | 2 cls: 0.13649\n"
     ]
    },
    {
     "name": "stderr",
     "output_type": "stream",
     "text": [
      "Epoch 319, lr 0.00017279999999999997: 100% 21/21 [00:10<00:00,  1.92it/s, 0 cls=0.16725, 1 cls=0.24143, 2 cls=0.20401, bce=0.06060, dice=0.87974, loss=-0.81589]\n"
     ]
    },
    {
     "name": "stdout",
     "output_type": "stream",
     "text": [
      "loss: -0.86957 | bce: 0.02933 | dice: 0.90230 | 0 cls: 0.11628 | 1 cls: 0.16960 | 2 cls: 0.13658\n"
     ]
    },
    {
     "name": "stderr",
     "output_type": "stream",
     "text": [
      "Epoch 320, lr 0.00017279999999999997: 100% 21/21 [00:11<00:00,  1.91it/s, 0 cls=0.16177, 1 cls=0.23800, 2 cls=0.19837, bce=0.05675, dice=0.88063, loss=-0.82062]\n"
     ]
    },
    {
     "name": "stdout",
     "output_type": "stream",
     "text": [
      "loss: -0.87117 | bce: 0.02975 | dice: 0.90412 | 0 cls: 0.11401 | 1 cls: 0.16836 | 2 cls: 0.13572\n"
     ]
    },
    {
     "name": "stderr",
     "output_type": "stream",
     "text": [
      "Epoch 321, lr 0.00017279999999999997: 100% 21/21 [00:10<00:00,  1.92it/s, 0 cls=0.16412, 1 cls=0.24131, 2 cls=0.20150, bce=0.05909, dice=0.88055, loss=-0.81799]\n"
     ]
    },
    {
     "name": "stdout",
     "output_type": "stream",
     "text": [
      "loss: -0.87003 | bce: 0.02908 | dice: 0.90209 | 0 cls: 0.11538 | 1 cls: 0.16985 | 2 cls: 0.13788\n"
     ]
    },
    {
     "name": "stderr",
     "output_type": "stream",
     "text": [
      "Epoch 322, lr 0.00017279999999999997: 100% 21/21 [00:11<00:00,  1.86it/s, 0 cls=0.15900, 1 cls=0.23297, 2 cls=0.19458, bce=0.05572, dice=0.88276, loss=-0.82381]\n"
     ]
    },
    {
     "name": "stdout",
     "output_type": "stream",
     "text": [
      "loss: -0.87052 | bce: 0.02957 | dice: 0.90297 | 0 cls: 0.11504 | 1 cls: 0.16888 | 2 cls: 0.13726\n"
     ]
    },
    {
     "name": "stderr",
     "output_type": "stream",
     "text": [
      "Epoch 323, lr 0.00017279999999999997: 100% 21/21 [00:10<00:00,  1.91it/s, 0 cls=0.15657, 1 cls=0.23381, 2 cls=0.19432, bce=0.05645, dice=0.88431, loss=-0.82487]\n"
     ]
    },
    {
     "name": "stdout",
     "output_type": "stream",
     "text": [
      "loss: -0.87140 | bce: 0.02973 | dice: 0.90424 | 0 cls: 0.11415 | 1 cls: 0.16757 | 2 cls: 0.13553\n"
     ]
    },
    {
     "name": "stderr",
     "output_type": "stream",
     "text": [
      "Epoch 324, lr 0.00017279999999999997: 100% 21/21 [00:11<00:00,  1.90it/s, 0 cls=0.15834, 1 cls=0.23533, 2 cls=0.19606, bce=0.05670, dice=0.88322, loss=-0.82342]\n"
     ]
    },
    {
     "name": "stdout",
     "output_type": "stream",
     "text": [
      "loss: -0.87049 | bce: 0.02907 | dice: 0.90267 | 0 cls: 0.11516 | 1 cls: 0.16858 | 2 cls: 0.13679\n"
     ]
    },
    {
     "name": "stderr",
     "output_type": "stream",
     "text": [
      "Epoch 325, lr 0.00017279999999999997: 100% 21/21 [00:11<00:00,  1.91it/s, 0 cls=0.15836, 1 cls=0.23221, 2 cls=0.19462, bce=0.05610, dice=0.88343, loss=-0.82426]\n"
     ]
    },
    {
     "name": "stdout",
     "output_type": "stream",
     "text": [
      "loss: -0.87111 | bce: 0.02930 | dice: 0.90354 | 0 cls: 0.11474 | 1 cls: 0.16791 | 2 cls: 0.13552\n"
     ]
    },
    {
     "name": "stderr",
     "output_type": "stream",
     "text": [
      "Epoch 326, lr 0.00017279999999999997: 100% 21/21 [00:11<00:00,  1.89it/s, 0 cls=0.15728, 1 cls=0.23266, 2 cls=0.19381, bce=0.05591, dice=0.88385, loss=-0.82485]\n"
     ]
    },
    {
     "name": "stdout",
     "output_type": "stream",
     "text": [
      "loss: -0.87024 | bce: 0.02868 | dice: 0.90211 | 0 cls: 0.11618 | 1 cls: 0.16790 | 2 cls: 0.13655\n"
     ]
    },
    {
     "name": "stderr",
     "output_type": "stream",
     "text": [
      "Epoch 327, lr 0.00017279999999999997: 100% 21/21 [00:10<00:00,  1.91it/s, 0 cls=0.15697, 1 cls=0.23203, 2 cls=0.19366, bce=0.05542, dice=0.88392, loss=-0.82530]\n"
     ]
    },
    {
     "name": "stdout",
     "output_type": "stream",
     "text": [
      "loss: -0.87035 | bce: 0.02970 | dice: 0.90315 | 0 cls: 0.11474 | 1 cls: 0.16950 | 2 cls: 0.13736\n"
     ]
    },
    {
     "name": "stderr",
     "output_type": "stream",
     "text": [
      "Epoch 328, lr 0.00017279999999999997: 100% 21/21 [00:10<00:00,  1.93it/s, 0 cls=0.16649, 1 cls=0.24040, 2 cls=0.20341, bce=0.05743, dice=0.87749, loss=-0.81704]\n"
     ]
    },
    {
     "name": "stdout",
     "output_type": "stream",
     "text": [
      "loss: -0.86928 | bce: 0.02931 | dice: 0.90170 | 0 cls: 0.11560 | 1 cls: 0.17237 | 2 cls: 0.13823\n"
     ]
    },
    {
     "name": "stderr",
     "output_type": "stream",
     "text": [
      "Epoch 329, lr 0.00017279999999999997: 100% 21/21 [00:10<00:00,  1.94it/s, 0 cls=0.15899, 1 cls=0.23650, 2 cls=0.19701, bce=0.05767, dice=0.88327, loss=-0.82247]\n"
     ]
    },
    {
     "name": "stdout",
     "output_type": "stream",
     "text": [
      "loss: -0.87084 | bce: 0.02861 | dice: 0.90251 | 0 cls: 0.11480 | 1 cls: 0.16872 | 2 cls: 0.13638\n"
     ]
    },
    {
     "name": "stderr",
     "output_type": "stream",
     "text": [
      "Epoch 330, lr 0.00017279999999999997: 100% 21/21 [00:10<00:00,  1.94it/s, 0 cls=0.15955, 1 cls=0.23670, 2 cls=0.19695, bce=0.05602, dice=0.88152, loss=-0.82234]\n"
     ]
    },
    {
     "name": "stdout",
     "output_type": "stream",
     "text": [
      "loss: -0.87071 | bce: 0.02911 | dice: 0.90286 | 0 cls: 0.11484 | 1 cls: 0.16936 | 2 cls: 0.13611\n"
     ]
    },
    {
     "name": "stderr",
     "output_type": "stream",
     "text": [
      "Epoch 331, lr 0.00017279999999999997: 100% 21/21 [00:10<00:00,  1.93it/s, 0 cls=0.16019, 1 cls=0.23823, 2 cls=0.19840, bce=0.05747, dice=0.88182, loss=-0.82134]\n"
     ]
    },
    {
     "name": "stdout",
     "output_type": "stream",
     "text": [
      "loss: -0.87105 | bce: 0.02936 | dice: 0.90349 | 0 cls: 0.11409 | 1 cls: 0.16974 | 2 cls: 0.13576\n"
     ]
    },
    {
     "name": "stderr",
     "output_type": "stream",
     "text": [
      "Epoch 332, lr 0.00017279999999999997: 100% 21/21 [00:11<00:00,  1.90it/s, 0 cls=0.15901, 1 cls=0.23397, 2 cls=0.19593, bce=0.05721, dice=0.88364, loss=-0.82330]\n"
     ]
    },
    {
     "name": "stdout",
     "output_type": "stream",
     "text": [
      "loss: -0.86967 | bce: 0.02939 | dice: 0.90187 | 0 cls: 0.11516 | 1 cls: 0.17187 | 2 cls: 0.13849\n"
     ]
    },
    {
     "name": "stderr",
     "output_type": "stream",
     "text": [
      "Epoch 333, lr 0.00017279999999999997: 100% 21/21 [00:11<00:00,  1.86it/s, 0 cls=0.15640, 1 cls=0.23263, 2 cls=0.19321, bce=0.05567, dice=0.88420, loss=-0.82545]\n"
     ]
    },
    {
     "name": "stdout",
     "output_type": "stream",
     "text": [
      "loss: -0.86977 | bce: 0.02921 | dice: 0.90187 | 0 cls: 0.11542 | 1 cls: 0.17120 | 2 cls: 0.13805\n"
     ]
    },
    {
     "name": "stderr",
     "output_type": "stream",
     "text": [
      "Epoch 334, lr 0.00017279999999999997: 100% 21/21 [00:10<00:00,  1.93it/s, 0 cls=0.16044, 1 cls=0.23467, 2 cls=0.19570, bce=0.05648, dice=0.88234, loss=-0.82240]\n"
     ]
    },
    {
     "name": "stdout",
     "output_type": "stream",
     "text": [
      "loss: -0.87048 | bce: 0.02967 | dice: 0.90322 | 0 cls: 0.11422 | 1 cls: 0.17057 | 2 cls: 0.13702\n"
     ]
    },
    {
     "name": "stderr",
     "output_type": "stream",
     "text": [
      "Epoch 335, lr 0.00017279999999999997: 100% 21/21 [00:10<00:00,  1.94it/s, 0 cls=0.16016, 1 cls=0.23522, 2 cls=0.19660, bce=0.05718, dice=0.88271, loss=-0.82228]\n"
     ]
    },
    {
     "name": "stdout",
     "output_type": "stream",
     "text": [
      "loss: -0.86980 | bce: 0.02891 | dice: 0.90137 | 0 cls: 0.11639 | 1 cls: 0.16946 | 2 cls: 0.13817\n"
     ]
    },
    {
     "name": "stderr",
     "output_type": "stream",
     "text": [
      "Epoch 336, lr 0.00017279999999999997: 100% 21/21 [00:11<00:00,  1.86it/s, 0 cls=0.15767, 1 cls=0.23026, 2 cls=0.19310, bce=0.05602, dice=0.88439, loss=-0.82531]\n"
     ]
    },
    {
     "name": "stdout",
     "output_type": "stream",
     "text": [
      "loss: -0.87050 | bce: 0.02952 | dice: 0.90301 | 0 cls: 0.11480 | 1 cls: 0.16994 | 2 cls: 0.13671\n"
     ]
    },
    {
     "name": "stderr",
     "output_type": "stream",
     "text": [
      "Epoch 337, lr 0.00017279999999999997: 100% 21/21 [00:11<00:00,  1.90it/s, 0 cls=0.15973, 1 cls=0.23722, 2 cls=0.19772, bce=0.05726, dice=0.88213, loss=-0.82190]\n"
     ]
    },
    {
     "name": "stdout",
     "output_type": "stream",
     "text": [
      "loss: -0.86969 | bce: 0.02888 | dice: 0.90199 | 0 cls: 0.11651 | 1 cls: 0.16952 | 2 cls: 0.13628\n"
     ]
    },
    {
     "name": "stderr",
     "output_type": "stream",
     "text": [
      "Epoch 338, lr 0.00017279999999999997: 100% 21/21 [00:11<00:00,  1.90it/s, 0 cls=0.16225, 1 cls=0.23631, 2 cls=0.19828, bce=0.05846, dice=0.88252, loss=-0.82070]\n"
     ]
    },
    {
     "name": "stdout",
     "output_type": "stream",
     "text": [
      "loss: -0.87096 | bce: 0.02918 | dice: 0.90312 | 0 cls: 0.11399 | 1 cls: 0.16997 | 2 cls: 0.13666\n"
     ]
    },
    {
     "name": "stderr",
     "output_type": "stream",
     "text": [
      "Epoch 339, lr 0.00017279999999999997: 100% 21/21 [00:10<00:00,  1.91it/s, 0 cls=0.16488, 1 cls=0.23856, 2 cls=0.20085, bce=0.05711, dice=0.87903, loss=-0.81858]\n"
     ]
    },
    {
     "name": "stdout",
     "output_type": "stream",
     "text": [
      "loss: -0.86954 | bce: 0.02890 | dice: 0.90132 | 0 cls: 0.11626 | 1 cls: 0.17019 | 2 cls: 0.13822\n"
     ]
    },
    {
     "name": "stderr",
     "output_type": "stream",
     "text": [
      "Epoch 340, lr 0.00017279999999999997: 100% 21/21 [00:11<00:00,  1.83it/s, 0 cls=0.15808, 1 cls=0.23340, 2 cls=0.19472, bce=0.05637, dice=0.88360, loss=-0.82413]\n"
     ]
    },
    {
     "name": "stdout",
     "output_type": "stream",
     "text": [
      "loss: -0.87124 | bce: 0.02886 | dice: 0.90309 | 0 cls: 0.11494 | 1 cls: 0.16739 | 2 cls: 0.13562\n"
     ]
    },
    {
     "name": "stderr",
     "output_type": "stream",
     "text": [
      "Epoch 341, lr 0.00017279999999999997: 100% 21/21 [00:10<00:00,  1.92it/s, 0 cls=0.16035, 1 cls=0.23646, 2 cls=0.19743, bce=0.05706, dice=0.88210, loss=-0.82191]\n"
     ]
    },
    {
     "name": "stdout",
     "output_type": "stream",
     "text": [
      "loss: -0.87126 | bce: 0.02942 | dice: 0.90382 | 0 cls: 0.11465 | 1 cls: 0.16788 | 2 cls: 0.13503\n"
     ]
    },
    {
     "name": "stderr",
     "output_type": "stream",
     "text": [
      "Epoch 342, lr 0.00017279999999999997: 100% 21/21 [00:10<00:00,  1.92it/s, 0 cls=0.15539, 1 cls=0.23304, 2 cls=0.19298, bce=0.05540, dice=0.88441, loss=-0.82593]\n"
     ]
    },
    {
     "name": "stdout",
     "output_type": "stream",
     "text": [
      "loss: -0.87100 | bce: 0.02913 | dice: 0.90301 | 0 cls: 0.11427 | 1 cls: 0.16950 | 2 cls: 0.13677\n"
     ]
    },
    {
     "name": "stderr",
     "output_type": "stream",
     "text": [
      "Epoch 343, lr 0.00017279999999999997: 100% 21/21 [00:11<00:00,  1.90it/s, 0 cls=0.16137, 1 cls=0.23317, 2 cls=0.19670, bce=0.05651, dice=0.88196, loss=-0.82226]\n"
     ]
    },
    {
     "name": "stdout",
     "output_type": "stream",
     "text": [
      "loss: -0.87121 | bce: 0.02906 | dice: 0.90315 | 0 cls: 0.11485 | 1 cls: 0.16764 | 2 cls: 0.13598\n"
     ]
    },
    {
     "name": "stderr",
     "output_type": "stream",
     "text": [
      "Epoch 344, lr 0.00017279999999999997: 100% 21/21 [00:10<00:00,  1.91it/s, 0 cls=0.15755, 1 cls=0.23287, 2 cls=0.19421, bce=0.05604, dice=0.88368, loss=-0.82461]\n"
     ]
    },
    {
     "name": "stdout",
     "output_type": "stream",
     "text": [
      "loss: -0.87178 | bce: 0.02910 | dice: 0.90391 | 0 cls: 0.11337 | 1 cls: 0.16839 | 2 cls: 0.13546\n"
     ]
    },
    {
     "name": "stderr",
     "output_type": "stream",
     "text": [
      "Epoch 345, lr 0.00017279999999999997: 100% 21/21 [00:10<00:00,  1.93it/s, 0 cls=0.15745, 1 cls=0.23509, 2 cls=0.19510, bce=0.05640, dice=0.88349, loss=-0.82405]\n"
     ]
    },
    {
     "name": "stdout",
     "output_type": "stream",
     "text": [
      "loss: -0.87096 | bce: 0.02894 | dice: 0.90265 | 0 cls: 0.11501 | 1 cls: 0.16798 | 2 cls: 0.13692\n"
     ]
    },
    {
     "name": "stderr",
     "output_type": "stream",
     "text": [
      "Epoch 346, lr 0.00017279999999999997: 100% 21/21 [00:10<00:00,  1.91it/s, 0 cls=0.15837, 1 cls=0.23211, 2 cls=0.19441, bce=0.05611, dice=0.88362, loss=-0.82434]\n"
     ]
    },
    {
     "name": "stdout",
     "output_type": "stream",
     "text": [
      "loss: -0.87182 | bce: 0.02866 | dice: 0.90343 | 0 cls: 0.11402 | 1 cls: 0.16742 | 2 cls: 0.13521\n"
     ]
    },
    {
     "name": "stderr",
     "output_type": "stream",
     "text": [
      "Epoch 347, lr 0.00017279999999999997: 100% 21/21 [00:10<00:00,  1.93it/s, 0 cls=0.15617, 1 cls=0.23451, 2 cls=0.19443, bce=0.05631, dice=0.88418, loss=-0.82491]\n"
     ]
    },
    {
     "name": "stdout",
     "output_type": "stream",
     "text": [
      "loss: -0.87183 | bce: 0.02891 | dice: 0.90374 | 0 cls: 0.11355 | 1 cls: 0.16781 | 2 cls: 0.13555\n"
     ]
    },
    {
     "name": "stderr",
     "output_type": "stream",
     "text": [
      "Epoch 348, lr 0.00017279999999999997: 100% 21/21 [00:11<00:00,  1.89it/s, 0 cls=0.15546, 1 cls=0.22973, 2 cls=0.19229, bce=0.05545, dice=0.88518, loss=-0.82681]\n"
     ]
    },
    {
     "name": "stdout",
     "output_type": "stream",
     "text": [
      "loss: -0.87180 | bce: 0.02856 | dice: 0.90336 | 0 cls: 0.11402 | 1 cls: 0.16749 | 2 cls: 0.13508\n"
     ]
    },
    {
     "name": "stderr",
     "output_type": "stream",
     "text": [
      "Epoch 349, lr 0.00017279999999999997: 100% 21/21 [00:11<00:00,  1.89it/s, 0 cls=0.15852, 1 cls=0.23485, 2 cls=0.19590, bce=0.05637, dice=0.88280, loss=-0.82344]\n"
     ]
    },
    {
     "name": "stdout",
     "output_type": "stream",
     "text": [
      "loss: -0.87202 | bce: 0.02859 | dice: 0.90356 | 0 cls: 0.11401 | 1 cls: 0.16709 | 2 cls: 0.13444\n"
     ]
    },
    {
     "name": "stderr",
     "output_type": "stream",
     "text": [
      "Epoch 350, lr 0.00017279999999999997: 100% 21/21 [00:10<00:00,  1.92it/s, 0 cls=0.15941, 1 cls=0.23456, 2 cls=0.19580, bce=0.05619, dice=0.88246, loss=-0.82304]\n"
     ]
    },
    {
     "name": "stdout",
     "output_type": "stream",
     "text": [
      "loss: -0.87135 | bce: 0.02896 | dice: 0.90346 | 0 cls: 0.11440 | 1 cls: 0.16749 | 2 cls: 0.13547\n"
     ]
    },
    {
     "name": "stderr",
     "output_type": "stream",
     "text": [
      "Epoch 351, lr 0.00017279999999999997: 100% 21/21 [00:10<00:00,  1.91it/s, 0 cls=0.16044, 1 cls=0.23665, 2 cls=0.19809, bce=0.05713, dice=0.88184, loss=-0.82161]\n"
     ]
    },
    {
     "name": "stdout",
     "output_type": "stream",
     "text": [
      "loss: -0.87101 | bce: 0.02853 | dice: 0.90248 | 0 cls: 0.11476 | 1 cls: 0.16854 | 2 cls: 0.13645\n"
     ]
    },
    {
     "name": "stderr",
     "output_type": "stream",
     "text": [
      "Epoch 352, lr 0.00017279999999999997: 100% 21/21 [00:11<00:00,  1.87it/s, 0 cls=0.15839, 1 cls=0.23605, 2 cls=0.19624, bce=0.05653, dice=0.88282, loss=-0.82315]\n"
     ]
    },
    {
     "name": "stdout",
     "output_type": "stream",
     "text": [
      "loss: -0.87164 | bce: 0.02854 | dice: 0.90321 | 0 cls: 0.11420 | 1 cls: 0.16780 | 2 cls: 0.13496\n"
     ]
    },
    {
     "name": "stderr",
     "output_type": "stream",
     "text": [
      "Epoch 353, lr 0.00017279999999999997: 100% 21/21 [00:10<00:00,  1.93it/s, 0 cls=0.16136, 1 cls=0.23498, 2 cls=0.19735, bce=0.05710, dice=0.88183, loss=-0.82162]\n"
     ]
    },
    {
     "name": "stdout",
     "output_type": "stream",
     "text": [
      "loss: -0.87034 | bce: 0.02916 | dice: 0.90256 | 0 cls: 0.11489 | 1 cls: 0.17011 | 2 cls: 0.13691\n"
     ]
    },
    {
     "name": "stderr",
     "output_type": "stream",
     "text": [
      "Epoch 354, lr 0.00017279999999999997: 100% 21/21 [00:10<00:00,  1.95it/s, 0 cls=0.16106, 1 cls=0.23676, 2 cls=0.19732, bce=0.05683, dice=0.88153, loss=-0.82138]\n"
     ]
    },
    {
     "name": "stdout",
     "output_type": "stream",
     "text": [
      "loss: -0.87145 | bce: 0.02854 | dice: 0.90294 | 0 cls: 0.11446 | 1 cls: 0.16786 | 2 cls: 0.13539\n"
     ]
    },
    {
     "name": "stderr",
     "output_type": "stream",
     "text": [
      "Epoch 355, lr 0.00017279999999999997: 100% 21/21 [00:10<00:00,  1.93it/s, 0 cls=0.15554, 1 cls=0.22872, 2 cls=0.19118, bce=0.05500, dice=0.88516, loss=-0.82710]\n"
     ]
    },
    {
     "name": "stdout",
     "output_type": "stream",
     "text": [
      "loss: -0.87142 | bce: 0.02899 | dice: 0.90334 | 0 cls: 0.11399 | 1 cls: 0.16850 | 2 cls: 0.13601\n"
     ]
    },
    {
     "name": "stderr",
     "output_type": "stream",
     "text": [
      "Epoch 356, lr 0.00017279999999999997: 100% 21/21 [00:11<00:00,  1.89it/s, 0 cls=0.15765, 1 cls=0.23280, 2 cls=0.19402, bce=0.05527, dice=0.88313, loss=-0.82467]\n"
     ]
    },
    {
     "name": "stdout",
     "output_type": "stream",
     "text": [
      "loss: -0.87126 | bce: 0.02899 | dice: 0.90340 | 0 cls: 0.11351 | 1 cls: 0.16948 | 2 cls: 0.13623\n"
     ]
    },
    {
     "name": "stderr",
     "output_type": "stream",
     "text": [
      "Epoch 357, lr 0.00017279999999999997: 100% 21/21 [00:11<00:00,  1.87it/s, 0 cls=0.16415, 1 cls=0.23632, 2 cls=0.19911, bce=0.05802, dice=0.88096, loss=-0.81954]\n"
     ]
    },
    {
     "name": "stdout",
     "output_type": "stream",
     "text": [
      "loss: -0.87155 | bce: 0.02842 | dice: 0.90293 | 0 cls: 0.11440 | 1 cls: 0.16737 | 2 cls: 0.13560\n"
     ]
    },
    {
     "name": "stderr",
     "output_type": "stream",
     "text": [
      "Epoch 358, lr 0.00017279999999999997: 100% 21/21 [00:10<00:00,  1.93it/s, 0 cls=0.16119, 1 cls=0.23676, 2 cls=0.19765, bce=0.05706, dice=0.88151, loss=-0.82124]\n"
     ]
    },
    {
     "name": "stdout",
     "output_type": "stream",
     "text": [
      "loss: -0.87064 | bce: 0.02762 | dice: 0.90129 | 0 cls: 0.11565 | 1 cls: 0.16847 | 2 cls: 0.13639\n"
     ]
    },
    {
     "name": "stderr",
     "output_type": "stream",
     "text": [
      "Epoch 359, lr 0.00017279999999999997: 100% 21/21 [00:10<00:00,  1.92it/s, 0 cls=0.15659, 1 cls=0.22955, 2 cls=0.19263, bce=0.05550, dice=0.88465, loss=-0.82617]\n"
     ]
    },
    {
     "name": "stdout",
     "output_type": "stream",
     "text": [
      "loss: -0.87093 | bce: 0.02860 | dice: 0.90265 | 0 cls: 0.11446 | 1 cls: 0.16916 | 2 cls: 0.13602\n"
     ]
    },
    {
     "name": "stderr",
     "output_type": "stream",
     "text": [
      "Epoch 360, lr 0.00017279999999999997: 100% 21/21 [00:10<00:00,  1.93it/s, 0 cls=0.15807, 1 cls=0.23035, 2 cls=0.19324, bce=0.05579, dice=0.88405, loss=-0.82515]\n"
     ]
    },
    {
     "name": "stdout",
     "output_type": "stream",
     "text": [
      "loss: -0.87150 | bce: 0.02882 | dice: 0.90325 | 0 cls: 0.11472 | 1 cls: 0.16668 | 2 cls: 0.13567\n"
     ]
    },
    {
     "name": "stderr",
     "output_type": "stream",
     "text": [
      "Epoch 361, lr 0.00017279999999999997: 100% 21/21 [00:10<00:00,  1.94it/s, 0 cls=0.15770, 1 cls=0.23160, 2 cls=0.19361, bce=0.05580, dice=0.88393, loss=-0.82501]\n"
     ]
    },
    {
     "name": "stdout",
     "output_type": "stream",
     "text": [
      "loss: -0.87127 | bce: 0.02878 | dice: 0.90307 | 0 cls: 0.11439 | 1 cls: 0.16814 | 2 cls: 0.13600\n"
     ]
    },
    {
     "name": "stderr",
     "output_type": "stream",
     "text": [
      "Epoch 362, lr 0.00017279999999999997: 100% 21/21 [00:11<00:00,  1.88it/s, 0 cls=0.16142, 1 cls=0.23741, 2 cls=0.19824, bce=0.05721, dice=0.88138, loss=-0.82091]\n"
     ]
    },
    {
     "name": "stdout",
     "output_type": "stream",
     "text": [
      "loss: -0.87024 | bce: 0.02819 | dice: 0.90133 | 0 cls: 0.11606 | 1 cls: 0.16835 | 2 cls: 0.13767\n"
     ]
    },
    {
     "name": "stderr",
     "output_type": "stream",
     "text": [
      "Epoch 363, lr 0.00017279999999999997: 100% 21/21 [00:10<00:00,  1.95it/s, 0 cls=0.15343, 1 cls=0.23031, 2 cls=0.19128, bce=0.05543, dice=0.88612, loss=-0.82785]\n"
     ]
    },
    {
     "name": "stdout",
     "output_type": "stream",
     "text": [
      "loss: -0.87176 | bce: 0.02916 | dice: 0.90383 | 0 cls: 0.11374 | 1 cls: 0.16767 | 2 cls: 0.13595\n"
     ]
    },
    {
     "name": "stderr",
     "output_type": "stream",
     "text": [
      "Epoch 364, lr 0.00017279999999999997: 100% 21/21 [00:10<00:00,  1.93it/s, 0 cls=0.15962, 1 cls=0.23499, 2 cls=0.19656, bce=0.05649, dice=0.88237, loss=-0.82282]\n"
     ]
    },
    {
     "name": "stdout",
     "output_type": "stream",
     "text": [
      "loss: -0.87123 | bce: 0.02842 | dice: 0.90238 | 0 cls: 0.11505 | 1 cls: 0.16711 | 2 cls: 0.13675\n"
     ]
    },
    {
     "name": "stderr",
     "output_type": "stream",
     "text": [
      "Epoch 365, lr 0.00017279999999999997: 100% 21/21 [00:10<00:00,  1.92it/s, 0 cls=0.16115, 1 cls=0.23645, 2 cls=0.19767, bce=0.05690, dice=0.88144, loss=-0.82139]\n"
     ]
    },
    {
     "name": "stdout",
     "output_type": "stream",
     "text": [
      "loss: -0.87175 | bce: 0.02905 | dice: 0.90361 | 0 cls: 0.11429 | 1 cls: 0.16699 | 2 cls: 0.13553\n"
     ]
    },
    {
     "name": "stderr",
     "output_type": "stream",
     "text": [
      "Epoch 366, lr 0.00017279999999999997: 100% 21/21 [00:10<00:00,  1.96it/s, 0 cls=0.16005, 1 cls=0.23544, 2 cls=0.19720, bce=0.05704, dice=0.88252, loss=-0.82240]\n"
     ]
    },
    {
     "name": "stdout",
     "output_type": "stream",
     "text": [
      "loss: -0.87069 | bce: 0.02855 | dice: 0.90212 | 0 cls: 0.11509 | 1 cls: 0.16891 | 2 cls: 0.13688\n"
     ]
    },
    {
     "name": "stderr",
     "output_type": "stream",
     "text": [
      "Epoch 367, lr 0.00017279999999999997: 100% 21/21 [00:10<00:00,  1.92it/s, 0 cls=0.15776, 1 cls=0.23560, 2 cls=0.19558, bce=0.05613, dice=0.88283, loss=-0.82372]\n"
     ]
    },
    {
     "name": "stdout",
     "output_type": "stream",
     "text": [
      "loss: -0.87167 | bce: 0.02921 | dice: 0.90393 | 0 cls: 0.11406 | 1 cls: 0.16755 | 2 cls: 0.13521\n"
     ]
    },
    {
     "name": "stderr",
     "output_type": "stream",
     "text": [
      "Epoch 368, lr 0.00017279999999999997: 100% 21/21 [00:10<00:00,  1.91it/s, 0 cls=0.15644, 1 cls=0.22913, 2 cls=0.19234, bce=0.05510, dice=0.88464, loss=-0.82645]\n"
     ]
    },
    {
     "name": "stdout",
     "output_type": "stream",
     "text": [
      "loss: -0.87184 | bce: 0.02896 | dice: 0.90353 | 0 cls: 0.11399 | 1 cls: 0.16706 | 2 cls: 0.13600\n"
     ]
    },
    {
     "name": "stderr",
     "output_type": "stream",
     "text": [
      "Epoch 369, lr 0.00017279999999999997: 100% 21/21 [00:11<00:00,  1.90it/s, 0 cls=0.15465, 1 cls=0.22919, 2 cls=0.19153, bce=0.05500, dice=0.88537, loss=-0.82749]\n"
     ]
    },
    {
     "name": "stdout",
     "output_type": "stream",
     "text": [
      "loss: -0.87269 | bce: 0.02954 | dice: 0.90528 | 0 cls: 0.11286 | 1 cls: 0.16624 | 2 cls: 0.13415\n"
     ]
    },
    {
     "name": "stderr",
     "output_type": "stream",
     "text": [
      "Epoch 370, lr 0.00017279999999999997: 100% 21/21 [00:10<00:00,  1.93it/s, 0 cls=0.15670, 1 cls=0.23208, 2 cls=0.19315, bce=0.05577, dice=0.88439, loss=-0.82545]\n"
     ]
    },
    {
     "name": "stdout",
     "output_type": "stream",
     "text": [
      "loss: -0.87098 | bce: 0.02917 | dice: 0.90306 | 0 cls: 0.11397 | 1 cls: 0.17008 | 2 cls: 0.13682\n"
     ]
    },
    {
     "name": "stderr",
     "output_type": "stream",
     "text": [
      "Epoch 371, lr 0.00017279999999999997: 100% 21/21 [00:11<00:00,  1.90it/s, 0 cls=0.16056, 1 cls=0.23185, 2 cls=0.19449, bce=0.05635, dice=0.88297, loss=-0.82316]\n"
     ]
    },
    {
     "name": "stdout",
     "output_type": "stream",
     "text": [
      "loss: -0.87110 | bce: 0.02842 | dice: 0.90237 | 0 cls: 0.11551 | 1 cls: 0.16708 | 2 cls: 0.13605\n"
     ]
    },
    {
     "name": "stderr",
     "output_type": "stream",
     "text": [
      "Epoch 372, lr 0.00017279999999999997: 100% 21/21 [00:10<00:00,  1.92it/s, 0 cls=0.15782, 1 cls=0.23311, 2 cls=0.19467, bce=0.05675, dice=0.88392, loss=-0.82428]\n"
     ]
    },
    {
     "name": "stdout",
     "output_type": "stream",
     "text": [
      "loss: -0.87167 | bce: 0.02874 | dice: 0.90341 | 0 cls: 0.11461 | 1 cls: 0.16693 | 2 cls: 0.13501\n"
     ]
    },
    {
     "name": "stderr",
     "output_type": "stream",
     "text": [
      "Epoch 373, lr 0.00017279999999999997: 100% 21/21 [00:10<00:00,  1.93it/s, 0 cls=0.16205, 1 cls=0.23621, 2 cls=0.19818, bce=0.05703, dice=0.88132, loss=-0.82097]\n"
     ]
    },
    {
     "name": "stdout",
     "output_type": "stream",
     "text": [
      "loss: -0.87169 | bce: 0.02852 | dice: 0.90316 | 0 cls: 0.11442 | 1 cls: 0.16692 | 2 cls: 0.13551\n"
     ]
    },
    {
     "name": "stderr",
     "output_type": "stream",
     "text": [
      "Epoch 374, lr 0.00017279999999999997: 100% 21/21 [00:11<00:00,  1.88it/s, 0 cls=0.15881, 1 cls=0.23056, 2 cls=0.19370, bce=0.05573, dice=0.88338, loss=-0.82461]\n"
     ]
    },
    {
     "name": "stdout",
     "output_type": "stream",
     "text": [
      "loss: -0.87135 | bce: 0.02905 | dice: 0.90347 | 0 cls: 0.11466 | 1 cls: 0.16731 | 2 cls: 0.13543\n"
     ]
    },
    {
     "name": "stderr",
     "output_type": "stream",
     "text": [
      "Epoch 375, lr 0.00017279999999999997: 100% 21/21 [00:10<00:00,  1.93it/s, 0 cls=0.15482, 1 cls=0.22876, 2 cls=0.19141, bce=0.05536, dice=0.88577, loss=-0.82752]\n"
     ]
    },
    {
     "name": "stdout",
     "output_type": "stream",
     "text": [
      "loss: -0.87228 | bce: 0.02860 | dice: 0.90386 | 0 cls: 0.11337 | 1 cls: 0.16698 | 2 cls: 0.13491\n"
     ]
    },
    {
     "name": "stderr",
     "output_type": "stream",
     "text": [
      "Epoch 376, lr 0.00017279999999999997: 100% 21/21 [00:10<00:00,  1.91it/s, 0 cls=0.15854, 1 cls=0.23309, 2 cls=0.19486, bce=0.05620, dice=0.88326, loss=-0.82395]\n"
     ]
    },
    {
     "name": "stdout",
     "output_type": "stream",
     "text": [
      "loss: -0.87070 | bce: 0.02843 | dice: 0.90202 | 0 cls: 0.11527 | 1 cls: 0.16832 | 2 cls: 0.13702\n"
     ]
    },
    {
     "name": "stderr",
     "output_type": "stream",
     "text": [
      "Epoch 377, lr 0.00017279999999999997: 100% 21/21 [00:10<00:00,  1.94it/s, 0 cls=0.15424, 1 cls=0.22933, 2 cls=0.19063, bce=0.05493, dice=0.88572, loss=-0.82780]\n"
     ]
    },
    {
     "name": "stdout",
     "output_type": "stream",
     "text": [
      "loss: -0.87097 | bce: 0.02888 | dice: 0.90281 | 0 cls: 0.11433 | 1 cls: 0.16908 | 2 cls: 0.13679\n"
     ]
    },
    {
     "name": "stderr",
     "output_type": "stream",
     "text": [
      "Epoch 378, lr 0.00017279999999999997: 100% 21/21 [00:10<00:00,  1.93it/s, 0 cls=0.16045, 1 cls=0.23131, 2 cls=0.19527, bce=0.05661, dice=0.88311, loss=-0.82333]\n"
     ]
    },
    {
     "name": "stdout",
     "output_type": "stream",
     "text": [
      "loss: -0.87089 | bce: 0.02885 | dice: 0.90273 | 0 cls: 0.11464 | 1 cls: 0.16884 | 2 cls: 0.13643\n"
     ]
    },
    {
     "name": "stderr",
     "output_type": "stream",
     "text": [
      "Epoch 379, lr 0.00017279999999999997: 100% 21/21 [00:10<00:00,  1.95it/s, 0 cls=0.16043, 1 cls=0.23271, 2 cls=0.19593, bce=0.05601, dice=0.88208, loss=-0.82302]\n"
     ]
    },
    {
     "name": "stdout",
     "output_type": "stream",
     "text": [
      "loss: -0.87086 | bce: 0.02861 | dice: 0.90221 | 0 cls: 0.11525 | 1 cls: 0.16826 | 2 cls: 0.13656\n"
     ]
    },
    {
     "name": "stderr",
     "output_type": "stream",
     "text": [
      "Epoch 380, lr 0.00017279999999999997: 100% 21/21 [00:10<00:00,  1.93it/s, 0 cls=0.15457, 1 cls=0.22936, 2 cls=0.19146, bce=0.05567, dice=0.88590, loss=-0.82739]\n"
     ]
    },
    {
     "name": "stdout",
     "output_type": "stream",
     "text": [
      "loss: -0.86728 | bce: 0.02965 | dice: 0.89977 | 0 cls: 0.11732 | 1 cls: 0.17516 | 2 cls: 0.14179\n"
     ]
    },
    {
     "name": "stderr",
     "output_type": "stream",
     "text": [
      "Epoch 381, lr 0.00017279999999999997: 100% 21/21 [00:11<00:00,  1.88it/s, 0 cls=0.15583, 1 cls=0.22882, 2 cls=0.19148, bce=0.05522, dice=0.88527, loss=-0.82688]\n"
     ]
    },
    {
     "name": "stdout",
     "output_type": "stream",
     "text": [
      "loss: -0.86979 | bce: 0.02832 | dice: 0.90095 | 0 cls: 0.11637 | 1 cls: 0.16965 | 2 cls: 0.13767\n"
     ]
    },
    {
     "name": "stderr",
     "output_type": "stream",
     "text": [
      "Epoch 382, lr 0.00017279999999999997: 100% 21/21 [00:11<00:00,  1.91it/s, 0 cls=0.15799, 1 cls=0.23107, 2 cls=0.19430, bce=0.05663, dice=0.88441, loss=-0.82483]\n"
     ]
    },
    {
     "name": "stdout",
     "output_type": "stream",
     "text": [
      "loss: -0.86950 | bce: 0.02897 | dice: 0.90146 | 0 cls: 0.11523 | 1 cls: 0.17248 | 2 cls: 0.13826\n"
     ]
    },
    {
     "name": "stderr",
     "output_type": "stream",
     "text": [
      "Epoch 383, lr 0.00017279999999999997: 100% 21/21 [00:10<00:00,  1.96it/s, 0 cls=0.15495, 1 cls=0.23095, 2 cls=0.19182, bce=0.05542, dice=0.88525, loss=-0.82686]\n"
     ]
    },
    {
     "name": "stdout",
     "output_type": "stream",
     "text": [
      "loss: -0.87163 | bce: 0.02894 | dice: 0.90355 | 0 cls: 0.11415 | 1 cls: 0.16773 | 2 cls: 0.13504\n"
     ]
    },
    {
     "name": "stderr",
     "output_type": "stream",
     "text": [
      "Epoch 384, lr 0.00017279999999999997: 100% 21/21 [00:10<00:00,  1.93it/s, 0 cls=0.15288, 1 cls=0.22671, 2 cls=0.18909, bce=0.05466, dice=0.88691, loss=-0.82928]\n"
     ]
    },
    {
     "name": "stdout",
     "output_type": "stream",
     "text": [
      "loss: -0.87144 | bce: 0.02860 | dice: 0.90287 | 0 cls: 0.11436 | 1 cls: 0.16792 | 2 cls: 0.13625\n"
     ]
    },
    {
     "name": "stderr",
     "output_type": "stream",
     "text": [
      "Epoch 385, lr 0.00017279999999999997: 100% 21/21 [00:10<00:00,  1.92it/s, 0 cls=0.15027, 1 cls=0.22499, 2 cls=0.18716, bce=0.05409, dice=0.88834, loss=-0.83140]\n"
     ]
    },
    {
     "name": "stdout",
     "output_type": "stream",
     "text": [
      "loss: -0.87074 | bce: 0.02807 | dice: 0.90175 | 0 cls: 0.11562 | 1 cls: 0.16776 | 2 cls: 0.13670\n"
     ]
    },
    {
     "name": "stderr",
     "output_type": "stream",
     "text": [
      "Epoch 386, lr 0.00017279999999999997: 100% 21/21 [00:11<00:00,  1.87it/s, 0 cls=0.15471, 1 cls=0.22715, 2 cls=0.18993, bce=0.05431, dice=0.88553, loss=-0.82819]\n"
     ]
    },
    {
     "name": "stdout",
     "output_type": "stream",
     "text": [
      "loss: -0.86986 | bce: 0.02925 | dice: 0.90206 | 0 cls: 0.11533 | 1 cls: 0.17045 | 2 cls: 0.13816\n"
     ]
    },
    {
     "name": "stderr",
     "output_type": "stream",
     "text": [
      "Epoch 387, lr 0.00017279999999999997: 100% 21/21 [00:10<00:00,  1.92it/s, 0 cls=0.15833, 1 cls=0.23419, 2 cls=0.19552, bce=0.05714, dice=0.88387, loss=-0.82368]\n"
     ]
    },
    {
     "name": "stdout",
     "output_type": "stream",
     "text": [
      "loss: -0.87006 | bce: 0.02874 | dice: 0.90159 | 0 cls: 0.11576 | 1 cls: 0.16914 | 2 cls: 0.13840\n"
     ]
    },
    {
     "name": "stderr",
     "output_type": "stream",
     "text": [
      "Epoch 388, lr 0.00017279999999999997: 100% 21/21 [00:11<00:00,  1.91it/s, 0 cls=0.15670, 1 cls=0.22741, 2 cls=0.19099, bce=0.05496, dice=0.88502, loss=-0.82687]\n"
     ]
    },
    {
     "name": "stdout",
     "output_type": "stream",
     "text": [
      "loss: -0.87125 | bce: 0.02939 | dice: 0.90332 | 0 cls: 0.11390 | 1 cls: 0.16886 | 2 cls: 0.13704\n"
     ]
    },
    {
     "name": "stderr",
     "output_type": "stream",
     "text": [
      "Epoch 389, lr 0.00017279999999999997: 100% 21/21 [00:11<00:00,  1.86it/s, 0 cls=0.15524, 1 cls=0.22663, 2 cls=0.19017, bce=0.05475, dice=0.88578, loss=-0.82795]\n"
     ]
    },
    {
     "name": "stdout",
     "output_type": "stream",
     "text": [
      "loss: -0.87145 | bce: 0.02915 | dice: 0.90318 | 0 cls: 0.11388 | 1 cls: 0.16818 | 2 cls: 0.13707\n"
     ]
    },
    {
     "name": "stderr",
     "output_type": "stream",
     "text": [
      "Epoch 390, lr 0.0014580000000000003: 100% 21/21 [00:11<00:00,  1.89it/s, 0 cls=0.17242, 1 cls=0.24552, 2 cls=0.20618, bce=0.06118, dice=0.87676, loss=-0.81176]\n"
     ]
    },
    {
     "name": "stdout",
     "output_type": "stream",
     "text": [
      "loss: -0.86687 | bce: 0.03370 | dice: 0.90349 | 0 cls: 0.11787 | 1 cls: 0.17347 | 2 cls: 0.14144\n"
     ]
    },
    {
     "name": "stderr",
     "output_type": "stream",
     "text": [
      "Epoch 391, lr 0.0014580000000000003: 100% 21/21 [00:11<00:00,  1.89it/s, 0 cls=0.18737, 1 cls=0.27577, 2 cls=0.22610, bce=0.06639, dice=0.86504, loss=-0.79394]\n"
     ]
    },
    {
     "name": "stdout",
     "output_type": "stream",
     "text": [
      "loss: -0.86779 | bce: 0.03481 | dice: 0.90586 | 0 cls: 0.11268 | 1 cls: 0.17978 | 2 cls: 0.13938\n"
     ]
    },
    {
     "name": "stderr",
     "output_type": "stream",
     "text": [
      "Epoch 392, lr 0.00043740000000000006: 100% 21/21 [00:10<00:00,  1.93it/s, 0 cls=0.19515, 1 cls=0.27558, 2 cls=0.23244, bce=0.06910, dice=0.86232, loss=-0.78897]\n"
     ]
    },
    {
     "name": "stdout",
     "output_type": "stream",
     "text": [
      "loss: -0.86383 | bce: 0.03055 | dice: 0.89712 | 0 cls: 0.12167 | 1 cls: 0.17819 | 2 cls: 0.14443\n"
     ]
    },
    {
     "name": "stderr",
     "output_type": "stream",
     "text": [
      "Epoch 393, lr 0.00043740000000000006: 100% 21/21 [00:11<00:00,  1.89it/s, 0 cls=0.17501, 1 cls=0.25208, 2 cls=0.21178, bce=0.06115, dice=0.87302, loss=-0.80823]\n"
     ]
    },
    {
     "name": "stdout",
     "output_type": "stream",
     "text": [
      "loss: -0.87071 | bce: 0.03015 | dice: 0.90390 | 0 cls: 0.11529 | 1 cls: 0.16937 | 2 cls: 0.13474\n"
     ]
    },
    {
     "name": "stderr",
     "output_type": "stream",
     "text": [
      "Epoch 394, lr 0.00013122000000000003: 100% 21/21 [00:10<00:00,  1.94it/s, 0 cls=0.17142, 1 cls=0.24690, 2 cls=0.20691, bce=0.06021, dice=0.87603, loss=-0.81206]\n"
     ]
    },
    {
     "name": "stdout",
     "output_type": "stream",
     "text": [
      "loss: -0.86981 | bce: 0.02951 | dice: 0.90247 | 0 cls: 0.11639 | 1 cls: 0.16993 | 2 cls: 0.13600\n"
     ]
    },
    {
     "name": "stderr",
     "output_type": "stream",
     "text": [
      "Epoch 395, lr 0.0014580000000000003: 100% 21/21 [00:11<00:00,  1.90it/s, 0 cls=0.18977, 1 cls=0.26188, 2 cls=0.22300, bce=0.06811, dice=0.86871, loss=-0.79610]\n"
     ]
    },
    {
     "name": "stdout",
     "output_type": "stream",
     "text": [
      "loss: -0.86103 | bce: 0.02961 | dice: 0.89549 | 0 cls: 0.12249 | 1 cls: 0.18714 | 2 cls: 0.14287\n"
     ]
    },
    {
     "name": "stderr",
     "output_type": "stream",
     "text": [
      "Epoch 396, lr 0.0014580000000000003: 100% 21/21 [00:11<00:00,  1.88it/s, 0 cls=0.24616, 1 cls=0.30882, 2 cls=0.27357, bce=0.09649, dice=0.85058, loss=-0.74656]\n"
     ]
    },
    {
     "name": "stdout",
     "output_type": "stream",
     "text": [
      "loss: -0.84476 | bce: 0.02978 | dice: 0.88006 | 0 cls: 0.14668 | 1 cls: 0.19393 | 2 cls: 0.15821\n"
     ]
    },
    {
     "name": "stderr",
     "output_type": "stream",
     "text": [
      "Epoch 397, lr 0.00043740000000000006: 100% 21/21 [00:10<00:00,  1.92it/s, 0 cls=0.20804, 1 cls=0.27764, 2 cls=0.23679, bce=0.07268, dice=0.85943, loss=-0.78081]\n"
     ]
    },
    {
     "name": "stdout",
     "output_type": "stream",
     "text": [
      "loss: -0.86972 | bce: 0.03163 | dice: 0.90501 | 0 cls: 0.11619 | 1 cls: 0.16823 | 2 cls: 0.13490\n"
     ]
    },
    {
     "name": "stderr",
     "output_type": "stream",
     "text": [
      "Epoch 398, lr 0.00043740000000000006: 100% 21/21 [00:11<00:00,  1.90it/s, 0 cls=0.18011, 1 cls=0.25733, 2 cls=0.21722, bce=0.06452, dice=0.87163, loss=-0.80335]\n"
     ]
    },
    {
     "name": "stdout",
     "output_type": "stream",
     "text": [
      "loss: -0.86912 | bce: 0.03052 | dice: 0.90310 | 0 cls: 0.11588 | 1 cls: 0.17080 | 2 cls: 0.13707\n"
     ]
    },
    {
     "name": "stderr",
     "output_type": "stream",
     "text": [
      "Epoch 399, lr 0.00013122000000000003: 100% 21/21 [00:10<00:00,  1.94it/s, 0 cls=0.17500, 1 cls=0.25050, 2 cls=0.21034, bce=0.06080, dice=0.87341, loss=-0.80878]\n"
     ]
    },
    {
     "name": "stdout",
     "output_type": "stream",
     "text": [
      "loss: -0.86965 | bce: 0.02934 | dice: 0.90246 | 0 cls: 0.11700 | 1 cls: 0.16757 | 2 cls: 0.13587\n"
     ]
    },
    {
     "name": "stderr",
     "output_type": "stream",
     "text": [
      "Epoch 400, lr 0.00010368: 100% 21/21 [00:11<00:00,  1.89it/s, 0 cls=0.17073, 1 cls=0.24412, 2 cls=0.20537, bce=0.06004, dice=0.87699, loss=-0.81336]\n"
     ]
    },
    {
     "name": "stdout",
     "output_type": "stream",
     "text": [
      "loss: -0.87070 | bce: 0.02905 | dice: 0.90294 | 0 cls: 0.11585 | 1 cls: 0.16646 | 2 cls: 0.13563\n"
     ]
    },
    {
     "name": "stderr",
     "output_type": "stream",
     "text": [
      "Epoch 401, lr 0.00010368: 100% 21/21 [00:11<00:00,  1.88it/s, 0 cls=0.17133, 1 cls=0.24790, 2 cls=0.20780, bce=0.06009, dice=0.87535, loss=-0.81179]\n"
     ]
    },
    {
     "name": "stdout",
     "output_type": "stream",
     "text": [
      "loss: -0.87010 | bce: 0.02970 | dice: 0.90298 | 0 cls: 0.11573 | 1 cls: 0.16862 | 2 cls: 0.13661\n"
     ]
    },
    {
     "name": "stderr",
     "output_type": "stream",
     "text": [
      "Epoch 402, lr 0.00010368: 100% 21/21 [00:10<00:00,  1.92it/s, 0 cls=0.16715, 1 cls=0.24177, 2 cls=0.20275, bce=0.05924, dice=0.87879, loss=-0.81603]\n"
     ]
    },
    {
     "name": "stdout",
     "output_type": "stream",
     "text": [
      "loss: -0.87148 | bce: 0.02903 | dice: 0.90378 | 0 cls: 0.11444 | 1 cls: 0.16689 | 2 cls: 0.13480\n"
     ]
    },
    {
     "name": "stderr",
     "output_type": "stream",
     "text": [
      "Epoch 403, lr 0.00010368: 100% 21/21 [00:11<00:00,  1.90it/s, 0 cls=0.16934, 1 cls=0.24617, 2 cls=0.20658, bce=0.06008, dice=0.87674, loss=-0.81337]\n"
     ]
    },
    {
     "name": "stdout",
     "output_type": "stream",
     "text": [
      "loss: -0.87111 | bce: 0.02927 | dice: 0.90353 | 0 cls: 0.11483 | 1 cls: 0.16741 | 2 cls: 0.13549\n"
     ]
    },
    {
     "name": "stderr",
     "output_type": "stream",
     "text": [
      "Epoch 404, lr 0.00010368: 100% 21/21 [00:10<00:00,  1.93it/s, 0 cls=0.16951, 1 cls=0.24338, 2 cls=0.20434, bce=0.06023, dice=0.87800, loss=-0.81417]\n"
     ]
    },
    {
     "name": "stdout",
     "output_type": "stream",
     "text": [
      "loss: -0.87203 | bce: 0.02933 | dice: 0.90445 | 0 cls: 0.11468 | 1 cls: 0.16499 | 2 cls: 0.13405\n"
     ]
    },
    {
     "name": "stderr",
     "output_type": "stream",
     "text": [
      "Epoch 405, lr 0.00010368: 100% 21/21 [00:10<00:00,  1.95it/s, 0 cls=0.16337, 1 cls=0.23992, 2 cls=0.20040, bce=0.05733, dice=0.87959, loss=-0.81901]\n"
     ]
    },
    {
     "name": "stdout",
     "output_type": "stream",
     "text": [
      "loss: -0.87268 | bce: 0.02909 | dice: 0.90475 | 0 cls: 0.11347 | 1 cls: 0.16518 | 2 cls: 0.13390\n"
     ]
    },
    {
     "name": "stderr",
     "output_type": "stream",
     "text": [
      "Epoch 406, lr 0.00010368: 100% 21/21 [00:10<00:00,  1.92it/s, 0 cls=0.16604, 1 cls=0.24033, 2 cls=0.20179, bce=0.05932, dice=0.87990, loss=-0.81713]\n"
     ]
    },
    {
     "name": "stdout",
     "output_type": "stream",
     "text": [
      "loss: -0.87229 | bce: 0.02905 | dice: 0.90431 | 0 cls: 0.11409 | 1 cls: 0.16532 | 2 cls: 0.13431\n"
     ]
    },
    {
     "name": "stderr",
     "output_type": "stream",
     "text": [
      "Epoch 407, lr 0.00010368: 100% 21/21 [00:11<00:00,  1.88it/s, 0 cls=0.16761, 1 cls=0.24682, 2 cls=0.20593, bce=0.05926, dice=0.87688, loss=-0.81427]\n"
     ]
    },
    {
     "name": "stdout",
     "output_type": "stream",
     "text": [
      "loss: -0.87183 | bce: 0.02908 | dice: 0.90374 | 0 cls: 0.11446 | 1 cls: 0.16612 | 2 cls: 0.13535\n"
     ]
    },
    {
     "name": "stderr",
     "output_type": "stream",
     "text": [
      "Epoch 408, lr 0.00010368: 100% 21/21 [00:11<00:00,  1.86it/s, 0 cls=0.17192, 1 cls=0.24926, 2 cls=0.20971, bce=0.06104, dice=0.87538, loss=-0.81106]\n"
     ]
    },
    {
     "name": "stdout",
     "output_type": "stream",
     "text": [
      "loss: -0.87247 | bce: 0.02896 | dice: 0.90435 | 0 cls: 0.11350 | 1 cls: 0.16582 | 2 cls: 0.13473\n"
     ]
    },
    {
     "name": "stderr",
     "output_type": "stream",
     "text": [
      "Epoch 409, lr 0.00010368: 100% 21/21 [00:10<00:00,  1.93it/s, 0 cls=0.16117, 1 cls=0.23829, 2 cls=0.19837, bce=0.05694, dice=0.88104, loss=-0.82083]\n"
     ]
    },
    {
     "name": "stdout",
     "output_type": "stream",
     "text": [
      "loss: -0.87279 | bce: 0.02945 | dice: 0.90508 | 0 cls: 0.11330 | 1 cls: 0.16501 | 2 cls: 0.13436\n"
     ]
    },
    {
     "name": "stderr",
     "output_type": "stream",
     "text": [
      "Epoch 410, lr 0.00010368: 100% 21/21 [00:11<00:00,  1.89it/s, 0 cls=0.16415, 1 cls=0.23747, 2 cls=0.19972, bce=0.05770, dice=0.88028, loss=-0.81928]\n"
     ]
    },
    {
     "name": "stdout",
     "output_type": "stream",
     "text": [
      "loss: -0.87240 | bce: 0.02927 | dice: 0.90453 | 0 cls: 0.11362 | 1 cls: 0.16585 | 2 cls: 0.13476\n"
     ]
    },
    {
     "name": "stderr",
     "output_type": "stream",
     "text": [
      "Epoch 411, lr 0.00010368: 100% 21/21 [00:10<00:00,  1.91it/s, 0 cls=0.16467, 1 cls=0.23881, 2 cls=0.20020, bce=0.05873, dice=0.88058, loss=-0.81849]\n"
     ]
    },
    {
     "name": "stdout",
     "output_type": "stream",
     "text": [
      "loss: -0.87218 | bce: 0.02891 | dice: 0.90405 | 0 cls: 0.11385 | 1 cls: 0.16617 | 2 cls: 0.13492\n"
     ]
    },
    {
     "name": "stderr",
     "output_type": "stream",
     "text": [
      "Epoch 412, lr 0.00010368: 100% 21/21 [00:10<00:00,  1.94it/s, 0 cls=0.16547, 1 cls=0.24260, 2 cls=0.20267, bce=0.05785, dice=0.87820, loss=-0.81695]\n"
     ]
    },
    {
     "name": "stdout",
     "output_type": "stream",
     "text": [
      "loss: -0.87208 | bce: 0.02899 | dice: 0.90397 | 0 cls: 0.11413 | 1 cls: 0.16600 | 2 cls: 0.13515\n"
     ]
    },
    {
     "name": "stderr",
     "output_type": "stream",
     "text": [
      "Epoch 413, lr 0.00010368: 100% 21/21 [00:11<00:00,  1.91it/s, 0 cls=0.16127, 1 cls=0.23446, 2 cls=0.19702, bce=0.05780, dice=0.88272, loss=-0.82182]\n"
     ]
    },
    {
     "name": "stdout",
     "output_type": "stream",
     "text": [
      "loss: -0.87240 | bce: 0.02927 | dice: 0.90461 | 0 cls: 0.11392 | 1 cls: 0.16523 | 2 cls: 0.13423\n"
     ]
    },
    {
     "name": "stderr",
     "output_type": "stream",
     "text": [
      "Epoch 414, lr 0.00010368: 100% 21/21 [00:10<00:00,  1.93it/s, 0 cls=0.15991, 1 cls=0.23393, 2 cls=0.19557, bce=0.05640, dice=0.88259, loss=-0.82290]\n"
     ]
    },
    {
     "name": "stdout",
     "output_type": "stream",
     "text": [
      "loss: -0.87278 | bce: 0.02885 | dice: 0.90448 | 0 cls: 0.11371 | 1 cls: 0.16464 | 2 cls: 0.13413\n"
     ]
    },
    {
     "name": "stderr",
     "output_type": "stream",
     "text": [
      "Epoch 415, lr 0.00010368: 100% 21/21 [00:10<00:00,  1.94it/s, 0 cls=0.16006, 1 cls=0.23548, 2 cls=0.19600, bce=0.05741, dice=0.88313, loss=-0.82235]\n"
     ]
    },
    {
     "name": "stdout",
     "output_type": "stream",
     "text": [
      "loss: -0.87188 | bce: 0.02926 | dice: 0.90401 | 0 cls: 0.11439 | 1 cls: 0.16622 | 2 cls: 0.13520\n"
     ]
    },
    {
     "name": "stderr",
     "output_type": "stream",
     "text": [
      "Epoch 416, lr 0.00010368: 100% 21/21 [00:10<00:00,  1.94it/s, 0 cls=0.15653, 1 cls=0.23174, 2 cls=0.19299, bce=0.05568, dice=0.88430, loss=-0.82560]\n"
     ]
    },
    {
     "name": "stdout",
     "output_type": "stream",
     "text": [
      "loss: -0.87166 | bce: 0.02927 | dice: 0.90375 | 0 cls: 0.11448 | 1 cls: 0.16663 | 2 cls: 0.13572\n"
     ]
    },
    {
     "name": "stderr",
     "output_type": "stream",
     "text": [
      "Epoch 417, lr 0.00010368: 100% 21/21 [00:10<00:00,  1.93it/s, 0 cls=0.16160, 1 cls=0.23742, 2 cls=0.19875, bce=0.05742, dice=0.88129, loss=-0.82069]\n"
     ]
    },
    {
     "name": "stdout",
     "output_type": "stream",
     "text": [
      "loss: -0.87245 | bce: 0.02889 | dice: 0.90432 | 0 cls: 0.11431 | 1 cls: 0.16468 | 2 cls: 0.13400\n"
     ]
    },
    {
     "name": "stderr",
     "output_type": "stream",
     "text": [
      "Epoch 418, lr 0.00010368: 100% 21/21 [00:10<00:00,  1.91it/s, 0 cls=0.16065, 1 cls=0.23582, 2 cls=0.19738, bce=0.05683, dice=0.88184, loss=-0.82185]\n"
     ]
    },
    {
     "name": "stdout",
     "output_type": "stream",
     "text": [
      "loss: -0.87327 | bce: 0.02901 | dice: 0.90528 | 0 cls: 0.11333 | 1 cls: 0.16369 | 2 cls: 0.13297\n"
     ]
    },
    {
     "name": "stderr",
     "output_type": "stream",
     "text": [
      "Epoch 419, lr 0.00010368: 100% 21/21 [00:10<00:00,  1.92it/s, 0 cls=0.15759, 1 cls=0.23294, 2 cls=0.19399, bce=0.05706, dice=0.88474, loss=-0.82452]\n"
     ]
    },
    {
     "name": "stdout",
     "output_type": "stream",
     "text": [
      "loss: -0.87219 | bce: 0.02864 | dice: 0.90369 | 0 cls: 0.11463 | 1 cls: 0.16489 | 2 cls: 0.13464\n"
     ]
    },
    {
     "name": "stderr",
     "output_type": "stream",
     "text": [
      "Epoch 420, lr 0.00010368: 100% 21/21 [00:11<00:00,  1.88it/s, 0 cls=0.15661, 1 cls=0.23256, 2 cls=0.19360, bce=0.05536, dice=0.88375, loss=-0.82535]\n"
     ]
    },
    {
     "name": "stdout",
     "output_type": "stream",
     "text": [
      "loss: -0.87281 | bce: 0.02910 | dice: 0.90467 | 0 cls: 0.11345 | 1 cls: 0.16496 | 2 cls: 0.13459\n"
     ]
    },
    {
     "name": "stderr",
     "output_type": "stream",
     "text": [
      "Epoch 421, lr 0.00010368: 100% 21/21 [00:10<00:00,  1.91it/s, 0 cls=0.16426, 1 cls=0.23858, 2 cls=0.19965, bce=0.05916, dice=0.88131, loss=-0.81873]\n"
     ]
    },
    {
     "name": "stdout",
     "output_type": "stream",
     "text": [
      "loss: -0.87279 | bce: 0.02890 | dice: 0.90451 | 0 cls: 0.11385 | 1 cls: 0.16453 | 2 cls: 0.13419\n"
     ]
    },
    {
     "name": "stderr",
     "output_type": "stream",
     "text": [
      "Epoch 422, lr 0.00010368: 100% 21/21 [00:10<00:00,  1.94it/s, 0 cls=0.16050, 1 cls=0.23552, 2 cls=0.19734, bce=0.05632, dice=0.88156, loss=-0.82209]\n"
     ]
    },
    {
     "name": "stdout",
     "output_type": "stream",
     "text": [
      "loss: -0.87287 | bce: 0.02887 | dice: 0.90462 | 0 cls: 0.11357 | 1 cls: 0.16457 | 2 cls: 0.13410\n"
     ]
    },
    {
     "name": "stderr",
     "output_type": "stream",
     "text": [
      "Epoch 423, lr 0.00010368: 100% 21/21 [00:11<00:00,  1.83it/s, 0 cls=0.15966, 1 cls=0.23696, 2 cls=0.19738, bce=0.05762, dice=0.88266, loss=-0.82198]\n"
     ]
    },
    {
     "name": "stdout",
     "output_type": "stream",
     "text": [
      "loss: -0.87217 | bce: 0.02870 | dice: 0.90373 | 0 cls: 0.11416 | 1 cls: 0.16563 | 2 cls: 0.13524\n"
     ]
    },
    {
     "name": "stderr",
     "output_type": "stream",
     "text": [
      "Epoch 424, lr 0.00010368: 100% 21/21 [00:11<00:00,  1.89it/s, 0 cls=0.16081, 1 cls=0.23917, 2 cls=0.19833, bce=0.05763, dice=0.88166, loss=-0.82077]\n"
     ]
    },
    {
     "name": "stdout",
     "output_type": "stream",
     "text": [
      "loss: -0.87270 | bce: 0.02877 | dice: 0.90456 | 0 cls: 0.11351 | 1 cls: 0.16513 | 2 cls: 0.13395\n"
     ]
    },
    {
     "name": "stderr",
     "output_type": "stream",
     "text": [
      "Epoch 425, lr 0.00010368: 100% 21/21 [00:11<00:00,  1.86it/s, 0 cls=0.16277, 1 cls=0.23915, 2 cls=0.20056, bce=0.05819, dice=0.88072, loss=-0.81942]\n"
     ]
    },
    {
     "name": "stdout",
     "output_type": "stream",
     "text": [
      "loss: -0.87235 | bce: 0.02859 | dice: 0.90390 | 0 cls: 0.11456 | 1 cls: 0.16418 | 2 cls: 0.13439\n"
     ]
    },
    {
     "name": "stderr",
     "output_type": "stream",
     "text": [
      "Epoch 426, lr 0.00010368: 100% 21/21 [00:11<00:00,  1.90it/s, 0 cls=0.16211, 1 cls=0.23533, 2 cls=0.19818, bce=0.05751, dice=0.88165, loss=-0.82099]\n"
     ]
    },
    {
     "name": "stdout",
     "output_type": "stream",
     "text": [
      "loss: -0.87217 | bce: 0.02876 | dice: 0.90385 | 0 cls: 0.11455 | 1 cls: 0.16491 | 2 cls: 0.13470\n"
     ]
    },
    {
     "name": "stderr",
     "output_type": "stream",
     "text": [
      "Epoch 427, lr 0.00010368: 100% 21/21 [00:10<00:00,  1.91it/s, 0 cls=0.16235, 1 cls=0.23863, 2 cls=0.19989, bce=0.05692, dice=0.88003, loss=-0.82014]\n"
     ]
    },
    {
     "name": "stdout",
     "output_type": "stream",
     "text": [
      "loss: -0.87242 | bce: 0.02932 | dice: 0.90458 | 0 cls: 0.11380 | 1 cls: 0.16548 | 2 cls: 0.13477\n"
     ]
    },
    {
     "name": "stderr",
     "output_type": "stream",
     "text": [
      "Epoch 428, lr 0.00010368: 100% 21/21 [00:11<00:00,  1.90it/s, 0 cls=0.16007, 1 cls=0.23554, 2 cls=0.19679, bce=0.05681, dice=0.88229, loss=-0.82232]\n"
     ]
    },
    {
     "name": "stdout",
     "output_type": "stream",
     "text": [
      "loss: -0.87267 | bce: 0.02899 | dice: 0.90455 | 0 cls: 0.11336 | 1 cls: 0.16554 | 2 cls: 0.13444\n"
     ]
    },
    {
     "name": "stderr",
     "output_type": "stream",
     "text": [
      "Epoch 429, lr 0.00010368: 100% 21/21 [00:10<00:00,  1.91it/s, 0 cls=0.16362, 1 cls=0.24050, 2 cls=0.20126, bce=0.05840, dice=0.88024, loss=-0.81859]\n"
     ]
    },
    {
     "name": "stdout",
     "output_type": "stream",
     "text": [
      "loss: -0.87234 | bce: 0.02869 | dice: 0.90391 | 0 cls: 0.11399 | 1 cls: 0.16557 | 2 cls: 0.13471\n"
     ]
    },
    {
     "name": "stderr",
     "output_type": "stream",
     "text": [
      "Epoch 430, lr 0.00010368: 100% 21/21 [00:10<00:00,  1.91it/s, 0 cls=0.15706, 1 cls=0.23229, 2 cls=0.19384, bce=0.05626, dice=0.88438, loss=-0.82506]\n"
     ]
    },
    {
     "name": "stdout",
     "output_type": "stream",
     "text": [
      "loss: -0.87152 | bce: 0.02958 | dice: 0.90397 | 0 cls: 0.11391 | 1 cls: 0.16806 | 2 cls: 0.13610\n"
     ]
    },
    {
     "name": "stderr",
     "output_type": "stream",
     "text": [
      "Epoch 431, lr 0.00010368: 100% 21/21 [00:11<00:00,  1.88it/s, 0 cls=0.16233, 1 cls=0.23805, 2 cls=0.19992, bce=0.05797, dice=0.88102, loss=-0.82010]\n"
     ]
    },
    {
     "name": "stdout",
     "output_type": "stream",
     "text": [
      "loss: -0.87128 | bce: 0.02933 | dice: 0.90351 | 0 cls: 0.11444 | 1 cls: 0.16769 | 2 cls: 0.13653\n"
     ]
    },
    {
     "name": "stderr",
     "output_type": "stream",
     "text": [
      "Epoch 432, lr 0.00010368: 100% 21/21 [00:10<00:00,  1.91it/s, 0 cls=0.16040, 1 cls=0.23652, 2 cls=0.19756, bce=0.05694, dice=0.88191, loss=-0.82174]\n"
     ]
    },
    {
     "name": "stdout",
     "output_type": "stream",
     "text": [
      "loss: -0.87236 | bce: 0.02910 | dice: 0.90437 | 0 cls: 0.11347 | 1 cls: 0.16620 | 2 cls: 0.13507\n"
     ]
    },
    {
     "name": "stderr",
     "output_type": "stream",
     "text": [
      "Epoch 433, lr 0.00010368: 100% 21/21 [00:10<00:00,  1.94it/s, 0 cls=0.15841, 1 cls=0.23180, 2 cls=0.19450, bce=0.05589, dice=0.88337, loss=-0.82438]\n"
     ]
    },
    {
     "name": "stdout",
     "output_type": "stream",
     "text": [
      "loss: -0.87209 | bce: 0.02940 | dice: 0.90445 | 0 cls: 0.11356 | 1 cls: 0.16703 | 2 cls: 0.13503\n"
     ]
    },
    {
     "name": "stderr",
     "output_type": "stream",
     "text": [
      "Epoch 434, lr 0.00010368: 100% 21/21 [00:10<00:00,  1.91it/s, 0 cls=0.15896, 1 cls=0.23550, 2 cls=0.19596, bce=0.05757, dice=0.88360, loss=-0.82292]\n"
     ]
    },
    {
     "name": "stdout",
     "output_type": "stream",
     "text": [
      "loss: -0.87150 | bce: 0.02896 | dice: 0.90331 | 0 cls: 0.11476 | 1 cls: 0.16674 | 2 cls: 0.13597\n"
     ]
    },
    {
     "name": "stderr",
     "output_type": "stream",
     "text": [
      "Epoch 435, lr 0.00010368: 100% 21/21 [00:11<00:00,  1.91it/s, 0 cls=0.15794, 1 cls=0.23290, 2 cls=0.19429, bce=0.05578, dice=0.88324, loss=-0.82441]\n"
     ]
    },
    {
     "name": "stdout",
     "output_type": "stream",
     "text": [
      "loss: -0.87224 | bce: 0.02890 | dice: 0.90407 | 0 cls: 0.11391 | 1 cls: 0.16609 | 2 cls: 0.13477\n"
     ]
    },
    {
     "name": "stderr",
     "output_type": "stream",
     "text": [
      "Epoch 436, lr 0.00010368: 100% 21/21 [00:11<00:00,  1.89it/s, 0 cls=0.15647, 1 cls=0.23236, 2 cls=0.19338, bce=0.05557, dice=0.88405, loss=-0.82544]\n"
     ]
    },
    {
     "name": "stdout",
     "output_type": "stream",
     "text": [
      "loss: -0.87266 | bce: 0.02889 | dice: 0.90448 | 0 cls: 0.11338 | 1 cls: 0.16546 | 2 cls: 0.13451\n"
     ]
    },
    {
     "name": "stderr",
     "output_type": "stream",
     "text": [
      "Epoch 437, lr 0.00010368: 100% 21/21 [00:10<00:00,  1.92it/s, 0 cls=0.15792, 1 cls=0.23288, 2 cls=0.19490, bce=0.05673, dice=0.88405, loss=-0.82431]\n"
     ]
    },
    {
     "name": "stdout",
     "output_type": "stream",
     "text": [
      "loss: -0.87261 | bce: 0.02854 | dice: 0.90399 | 0 cls: 0.11348 | 1 cls: 0.16552 | 2 cls: 0.13494\n"
     ]
    },
    {
     "name": "stderr",
     "output_type": "stream",
     "text": [
      "Epoch 438, lr 0.00010368: 100% 21/21 [00:10<00:00,  1.93it/s, 0 cls=0.15645, 1 cls=0.23083, 2 cls=0.19222, bce=0.05597, dice=0.88493, loss=-0.82588]\n"
     ]
    },
    {
     "name": "stdout",
     "output_type": "stream",
     "text": [
      "loss: -0.87278 | bce: 0.02882 | dice: 0.90453 | 0 cls: 0.11312 | 1 cls: 0.16568 | 2 cls: 0.13445\n"
     ]
    },
    {
     "name": "stderr",
     "output_type": "stream",
     "text": [
      "Epoch 439, lr 0.00010368: 100% 21/21 [00:11<00:00,  1.90it/s, 0 cls=0.16461, 1 cls=0.23716, 2 cls=0.20036, bce=0.05800, dice=0.88015, loss=-0.81901]\n"
     ]
    },
    {
     "name": "stdout",
     "output_type": "stream",
     "text": [
      "loss: -0.87197 | bce: 0.02854 | dice: 0.90334 | 0 cls: 0.11415 | 1 cls: 0.16659 | 2 cls: 0.13564\n"
     ]
    },
    {
     "name": "stderr",
     "output_type": "stream",
     "text": [
      "Epoch 440, lr 0.00010368: 100% 21/21 [00:11<00:00,  1.91it/s, 0 cls=0.15958, 1 cls=0.23649, 2 cls=0.19708, bce=0.05711, dice=0.88246, loss=-0.82229]\n"
     ]
    },
    {
     "name": "stdout",
     "output_type": "stream",
     "text": [
      "loss: -0.87144 | bce: 0.02912 | dice: 0.90324 | 0 cls: 0.11455 | 1 cls: 0.16726 | 2 cls: 0.13689\n"
     ]
    },
    {
     "name": "stderr",
     "output_type": "stream",
     "text": [
      "Epoch 441, lr 0.00010368: 100% 21/21 [00:10<00:00,  1.92it/s, 0 cls=0.15522, 1 cls=0.22901, 2 cls=0.19135, bce=0.05554, dice=0.88569, loss=-0.82718]\n"
     ]
    },
    {
     "name": "stdout",
     "output_type": "stream",
     "text": [
      "loss: -0.87179 | bce: 0.02918 | dice: 0.90374 | 0 cls: 0.11376 | 1 cls: 0.16765 | 2 cls: 0.13626\n"
     ]
    },
    {
     "name": "stderr",
     "output_type": "stream",
     "text": [
      "Epoch 442, lr 0.00010368: 100% 21/21 [00:10<00:00,  1.91it/s, 0 cls=0.15640, 1 cls=0.22993, 2 cls=0.19191, bce=0.05554, dice=0.88495, loss=-0.82621]\n"
     ]
    },
    {
     "name": "stdout",
     "output_type": "stream",
     "text": [
      "loss: -0.87252 | bce: 0.02872 | dice: 0.90405 | 0 cls: 0.11346 | 1 cls: 0.16591 | 2 cls: 0.13514\n"
     ]
    },
    {
     "name": "stderr",
     "output_type": "stream",
     "text": [
      "Epoch 443, lr 0.00010368: 100% 21/21 [00:11<00:00,  1.86it/s, 0 cls=0.15724, 1 cls=0.23350, 2 cls=0.19565, bce=0.05576, dice=0.88314, loss=-0.82454]\n"
     ]
    },
    {
     "name": "stdout",
     "output_type": "stream",
     "text": [
      "loss: -0.87220 | bce: 0.02849 | dice: 0.90364 | 0 cls: 0.11390 | 1 cls: 0.16616 | 2 cls: 0.13497\n"
     ]
    },
    {
     "name": "stderr",
     "output_type": "stream",
     "text": [
      "Epoch 444, lr 0.00010368: 100% 21/21 [00:11<00:00,  1.90it/s, 0 cls=0.15518, 1 cls=0.23023, 2 cls=0.19175, bce=0.05537, dice=0.88523, loss=-0.82686]\n"
     ]
    },
    {
     "name": "stdout",
     "output_type": "stream",
     "text": [
      "loss: -0.87209 | bce: 0.02900 | dice: 0.90403 | 0 cls: 0.11392 | 1 cls: 0.16631 | 2 cls: 0.13508\n"
     ]
    },
    {
     "name": "stderr",
     "output_type": "stream",
     "text": [
      "Epoch 445, lr 0.00010368: 100% 21/21 [00:10<00:00,  1.95it/s, 0 cls=0.16455, 1 cls=0.23887, 2 cls=0.20118, bce=0.05819, dice=0.87996, loss=-0.81857]\n"
     ]
    },
    {
     "name": "stdout",
     "output_type": "stream",
     "text": [
      "loss: -0.87271 | bce: 0.02848 | dice: 0.90411 | 0 cls: 0.11342 | 1 cls: 0.16551 | 2 cls: 0.13445\n"
     ]
    },
    {
     "name": "stderr",
     "output_type": "stream",
     "text": [
      "Epoch 446, lr 0.00010368: 100% 21/21 [00:10<00:00,  1.93it/s, 0 cls=0.16167, 1 cls=0.23405, 2 cls=0.19638, bce=0.05744, dice=0.88251, loss=-0.82181]\n"
     ]
    },
    {
     "name": "stdout",
     "output_type": "stream",
     "text": [
      "loss: -0.87328 | bce: 0.02853 | dice: 0.90475 | 0 cls: 0.11308 | 1 cls: 0.16419 | 2 cls: 0.13358\n"
     ]
    },
    {
     "name": "stderr",
     "output_type": "stream",
     "text": [
      "Epoch 447, lr 0.00010368: 100% 21/21 [00:11<00:00,  1.90it/s, 0 cls=0.15747, 1 cls=0.23061, 2 cls=0.19278, bce=0.05561, dice=0.88429, loss=-0.82548]\n"
     ]
    },
    {
     "name": "stdout",
     "output_type": "stream",
     "text": [
      "loss: -0.87231 | bce: 0.02879 | dice: 0.90393 | 0 cls: 0.11394 | 1 cls: 0.16571 | 2 cls: 0.13510\n"
     ]
    },
    {
     "name": "stderr",
     "output_type": "stream",
     "text": [
      "Epoch 448, lr 0.00010368: 100% 21/21 [00:11<00:00,  1.90it/s, 0 cls=0.15522, 1 cls=0.23028, 2 cls=0.19193, bce=0.05560, dice=0.88541, loss=-0.82679]\n"
     ]
    },
    {
     "name": "stdout",
     "output_type": "stream",
     "text": [
      "loss: -0.87214 | bce: 0.02867 | dice: 0.90356 | 0 cls: 0.11404 | 1 cls: 0.16603 | 2 cls: 0.13565\n"
     ]
    },
    {
     "name": "stderr",
     "output_type": "stream",
     "text": [
      "Epoch 449, lr 0.00010368: 100% 21/21 [00:10<00:00,  1.94it/s, 0 cls=0.15872, 1 cls=0.23271, 2 cls=0.19494, bce=0.05689, dice=0.88380, loss=-0.82386]\n"
     ]
    },
    {
     "name": "stdout",
     "output_type": "stream",
     "text": [
      "loss: -0.87186 | bce: 0.02872 | dice: 0.90333 | 0 cls: 0.11405 | 1 cls: 0.16708 | 2 cls: 0.13588\n"
     ]
    },
    {
     "name": "stderr",
     "output_type": "stream",
     "text": [
      "Epoch 450, lr 0.00010368: 100% 21/21 [00:11<00:00,  1.89it/s, 0 cls=0.16297, 1 cls=0.24059, 2 cls=0.20060, bce=0.05746, dice=0.87967, loss=-0.81908]\n"
     ]
    },
    {
     "name": "stdout",
     "output_type": "stream",
     "text": [
      "loss: -0.87132 | bce: 0.02874 | dice: 0.90276 | 0 cls: 0.11435 | 1 cls: 0.16824 | 2 cls: 0.13685\n"
     ]
    },
    {
     "name": "stderr",
     "output_type": "stream",
     "text": [
      "Epoch 451, lr 0.00010368: 100% 21/21 [00:10<00:00,  1.91it/s, 0 cls=0.15939, 1 cls=0.23101, 2 cls=0.19441, bce=0.05594, dice=0.88316, loss=-0.82409]\n"
     ]
    },
    {
     "name": "stdout",
     "output_type": "stream",
     "text": [
      "loss: -0.87132 | bce: 0.02924 | dice: 0.90336 | 0 cls: 0.11401 | 1 cls: 0.16859 | 2 cls: 0.13680\n"
     ]
    },
    {
     "name": "stderr",
     "output_type": "stream",
     "text": [
      "Epoch 452, lr 0.00010368: 100% 21/21 [00:10<00:00,  1.92it/s, 0 cls=0.16011, 1 cls=0.23739, 2 cls=0.19823, bce=0.05704, dice=0.88177, loss=-0.82173]\n"
     ]
    },
    {
     "name": "stdout",
     "output_type": "stream",
     "text": [
      "loss: -0.87270 | bce: 0.02880 | dice: 0.90442 | 0 cls: 0.11315 | 1 cls: 0.16602 | 2 cls: 0.13459\n"
     ]
    },
    {
     "name": "stderr",
     "output_type": "stream",
     "text": [
      "Epoch 453, lr 0.00010368: 100% 21/21 [00:10<00:00,  1.93it/s, 0 cls=0.15864, 1 cls=0.23334, 2 cls=0.19526, bce=0.05740, dice=0.88411, loss=-0.82362]\n"
     ]
    },
    {
     "name": "stdout",
     "output_type": "stream",
     "text": [
      "loss: -0.87179 | bce: 0.02868 | dice: 0.90333 | 0 cls: 0.11408 | 1 cls: 0.16700 | 2 cls: 0.13591\n"
     ]
    },
    {
     "name": "stderr",
     "output_type": "stream",
     "text": [
      "Epoch 454, lr 0.00010368: 100% 21/21 [00:10<00:00,  1.92it/s, 0 cls=0.15427, 1 cls=0.22674, 2 cls=0.18967, bce=0.05483, dice=0.88629, loss=-0.82848]\n"
     ]
    },
    {
     "name": "stdout",
     "output_type": "stream",
     "text": [
      "loss: -0.87357 | bce: 0.02859 | dice: 0.90503 | 0 cls: 0.11252 | 1 cls: 0.16431 | 2 cls: 0.13360\n"
     ]
    },
    {
     "name": "stderr",
     "output_type": "stream",
     "text": [
      "Epoch 455, lr 0.00010368: 100% 21/21 [00:10<00:00,  1.91it/s, 0 cls=0.15862, 1 cls=0.23324, 2 cls=0.19547, bce=0.05638, dice=0.88318, loss=-0.82385]\n"
     ]
    },
    {
     "name": "stdout",
     "output_type": "stream",
     "text": [
      "loss: -0.87157 | bce: 0.02912 | dice: 0.90356 | 0 cls: 0.11437 | 1 cls: 0.16694 | 2 cls: 0.13614\n"
     ]
    },
    {
     "name": "stderr",
     "output_type": "stream",
     "text": [
      "Epoch 456, lr 0.00010368: 100% 21/21 [00:10<00:00,  1.96it/s, 0 cls=0.15689, 1 cls=0.22657, 2 cls=0.19147, bce=0.05556, dice=0.88544, loss=-0.82688]\n"
     ]
    },
    {
     "name": "stdout",
     "output_type": "stream",
     "text": [
      "loss: -0.87279 | bce: 0.02858 | dice: 0.90416 | 0 cls: 0.11362 | 1 cls: 0.16503 | 2 cls: 0.13425\n"
     ]
    },
    {
     "name": "stderr",
     "output_type": "stream",
     "text": [
      "Epoch 457, lr 0.00010368: 100% 21/21 [00:10<00:00,  1.93it/s, 0 cls=0.15702, 1 cls=0.23030, 2 cls=0.19264, bce=0.05602, dice=0.88490, loss=-0.82572]\n"
     ]
    },
    {
     "name": "stdout",
     "output_type": "stream",
     "text": [
      "loss: -0.87132 | bce: 0.02872 | dice: 0.90284 | 0 cls: 0.11449 | 1 cls: 0.16781 | 2 cls: 0.13664\n"
     ]
    },
    {
     "name": "stderr",
     "output_type": "stream",
     "text": [
      "Epoch 458, lr 0.00010368: 100% 21/21 [00:10<00:00,  1.94it/s, 0 cls=0.15783, 1 cls=0.23169, 2 cls=0.19399, bce=0.05602, dice=0.88392, loss=-0.82481]\n"
     ]
    },
    {
     "name": "stdout",
     "output_type": "stream",
     "text": [
      "loss: -0.87233 | bce: 0.02882 | dice: 0.90395 | 0 cls: 0.11393 | 1 cls: 0.16567 | 2 cls: 0.13512\n"
     ]
    },
    {
     "name": "stderr",
     "output_type": "stream",
     "text": [
      "Epoch 459, lr 0.00010368: 100% 21/21 [00:11<00:00,  1.89it/s, 0 cls=0.15677, 1 cls=0.23060, 2 cls=0.19278, bce=0.05517, dice=0.88406, loss=-0.82588]\n"
     ]
    },
    {
     "name": "stdout",
     "output_type": "stream",
     "text": [
      "loss: -0.87197 | bce: 0.02894 | dice: 0.90372 | 0 cls: 0.11426 | 1 cls: 0.16646 | 2 cls: 0.13527\n"
     ]
    },
    {
     "name": "stderr",
     "output_type": "stream",
     "text": [
      "Epoch 460, lr 0.00010368: 100% 21/21 [00:10<00:00,  1.92it/s, 0 cls=0.15683, 1 cls=0.23055, 2 cls=0.19328, bce=0.05576, dice=0.88453, loss=-0.82568]\n"
     ]
    },
    {
     "name": "stdout",
     "output_type": "stream",
     "text": [
      "loss: -0.87065 | bce: 0.02893 | dice: 0.90240 | 0 cls: 0.11615 | 1 cls: 0.16670 | 2 cls: 0.13704\n"
     ]
    },
    {
     "name": "stderr",
     "output_type": "stream",
     "text": [
      "Epoch 461, lr 0.00010368: 100% 21/21 [00:10<00:00,  1.93it/s, 0 cls=0.15675, 1 cls=0.23545, 2 cls=0.19521, bce=0.05682, dice=0.88395, loss=-0.82423]\n"
     ]
    },
    {
     "name": "stdout",
     "output_type": "stream",
     "text": [
      "loss: -0.87156 | bce: 0.02906 | dice: 0.90349 | 0 cls: 0.11388 | 1 cls: 0.16836 | 2 cls: 0.13614\n"
     ]
    },
    {
     "name": "stderr",
     "output_type": "stream",
     "text": [
      "Epoch 462, lr 0.00010368: 100% 21/21 [00:10<00:00,  1.93it/s, 0 cls=0.15937, 1 cls=0.23607, 2 cls=0.19698, bce=0.05721, dice=0.88254, loss=-0.82243]\n"
     ]
    },
    {
     "name": "stdout",
     "output_type": "stream",
     "text": [
      "loss: -0.87156 | bce: 0.02875 | dice: 0.90306 | 0 cls: 0.11395 | 1 cls: 0.16835 | 2 cls: 0.13658\n"
     ]
    },
    {
     "name": "stderr",
     "output_type": "stream",
     "text": [
      "Epoch 463, lr 0.00010368: 100% 21/21 [00:10<00:00,  1.94it/s, 0 cls=0.15533, 1 cls=0.22773, 2 cls=0.19087, bce=0.05443, dice=0.88511, loss=-0.82766]\n"
     ]
    },
    {
     "name": "stdout",
     "output_type": "stream",
     "text": [
      "loss: -0.87261 | bce: 0.02875 | dice: 0.90413 | 0 cls: 0.11318 | 1 cls: 0.16616 | 2 cls: 0.13518\n"
     ]
    },
    {
     "name": "stderr",
     "output_type": "stream",
     "text": [
      "Epoch 464, lr 0.00010368: 100% 21/21 [00:10<00:00,  1.92it/s, 0 cls=0.15372, 1 cls=0.22694, 2 cls=0.18898, bce=0.05479, dice=0.88680, loss=-0.82889]\n"
     ]
    },
    {
     "name": "stdout",
     "output_type": "stream",
     "text": [
      "loss: -0.87240 | bce: 0.02858 | dice: 0.90382 | 0 cls: 0.11381 | 1 cls: 0.16591 | 2 cls: 0.13490\n"
     ]
    },
    {
     "name": "stderr",
     "output_type": "stream",
     "text": [
      "Epoch 465, lr 0.00010368: 100% 21/21 [00:11<00:00,  1.88it/s, 0 cls=0.15743, 1 cls=0.23192, 2 cls=0.19390, bce=0.05614, dice=0.88425, loss=-0.82502]\n"
     ]
    },
    {
     "name": "stdout",
     "output_type": "stream",
     "text": [
      "loss: -0.87155 | bce: 0.02883 | dice: 0.90321 | 0 cls: 0.11487 | 1 cls: 0.16654 | 2 cls: 0.13583\n"
     ]
    },
    {
     "name": "stderr",
     "output_type": "stream",
     "text": [
      "Epoch 466, lr 0.00010368: 100% 21/21 [00:10<00:00,  1.95it/s, 0 cls=0.15415, 1 cls=0.22926, 2 cls=0.19104, bce=0.05560, dice=0.88619, loss=-0.82772]\n"
     ]
    },
    {
     "name": "stdout",
     "output_type": "stream",
     "text": [
      "loss: -0.87239 | bce: 0.02853 | dice: 0.90368 | 0 cls: 0.11380 | 1 cls: 0.16616 | 2 cls: 0.13479\n"
     ]
    },
    {
     "name": "stderr",
     "output_type": "stream",
     "text": [
      "Epoch 467, lr 0.00010368: 100% 21/21 [00:10<00:00,  1.91it/s, 0 cls=0.15345, 1 cls=0.22910, 2 cls=0.19057, bce=0.05483, dice=0.88603, loss=-0.82832]\n"
     ]
    },
    {
     "name": "stdout",
     "output_type": "stream",
     "text": [
      "loss: -0.87192 | bce: 0.02864 | dice: 0.90325 | 0 cls: 0.11443 | 1 cls: 0.16636 | 2 cls: 0.13581\n"
     ]
    },
    {
     "name": "stderr",
     "output_type": "stream",
     "text": [
      "Epoch 468, lr 0.00010368: 100% 21/21 [00:10<00:00,  1.92it/s, 0 cls=0.15979, 1 cls=0.23597, 2 cls=0.19726, bce=0.05657, dice=0.88196, loss=-0.82234]\n"
     ]
    },
    {
     "name": "stdout",
     "output_type": "stream",
     "text": [
      "loss: -0.87209 | bce: 0.02879 | dice: 0.90366 | 0 cls: 0.11389 | 1 cls: 0.16664 | 2 cls: 0.13537\n"
     ]
    },
    {
     "name": "stderr",
     "output_type": "stream",
     "text": [
      "Epoch 469, lr 0.00010368: 100% 21/21 [00:11<00:00,  1.91it/s, 0 cls=0.15342, 1 cls=0.23051, 2 cls=0.19162, bce=0.05536, dice=0.88591, loss=-0.82778]\n"
     ]
    },
    {
     "name": "stdout",
     "output_type": "stream",
     "text": [
      "loss: -0.87147 | bce: 0.02882 | dice: 0.90307 | 0 cls: 0.11468 | 1 cls: 0.16701 | 2 cls: 0.13639\n"
     ]
    },
    {
     "name": "stderr",
     "output_type": "stream",
     "text": [
      "Epoch 470, lr 0.00010368: 100% 21/21 [00:10<00:00,  1.96it/s, 0 cls=0.15104, 1 cls=0.22277, 2 cls=0.18613, bce=0.05394, dice=0.88860, loss=-0.83163]\n"
     ]
    },
    {
     "name": "stdout",
     "output_type": "stream",
     "text": [
      "loss: -0.87218 | bce: 0.02844 | dice: 0.90351 | 0 cls: 0.11370 | 1 cls: 0.16663 | 2 cls: 0.13531\n"
     ]
    },
    {
     "name": "stderr",
     "output_type": "stream",
     "text": [
      "Epoch 471, lr 0.00010368: 100% 21/21 [00:10<00:00,  1.93it/s, 0 cls=0.15686, 1 cls=0.22847, 2 cls=0.19168, bce=0.05573, dice=0.88516, loss=-0.82635]\n"
     ]
    },
    {
     "name": "stdout",
     "output_type": "stream",
     "text": [
      "loss: -0.87205 | bce: 0.02882 | dice: 0.90374 | 0 cls: 0.11346 | 1 cls: 0.16751 | 2 cls: 0.13561\n"
     ]
    },
    {
     "name": "stderr",
     "output_type": "stream",
     "text": [
      "Epoch 472, lr 0.00010368: 100% 21/21 [00:11<00:00,  1.89it/s, 0 cls=0.15432, 1 cls=0.22781, 2 cls=0.19041, bce=0.05548, dice=0.88667, loss=-0.82813]\n"
     ]
    },
    {
     "name": "stdout",
     "output_type": "stream",
     "text": [
      "loss: -0.87233 | bce: 0.02860 | dice: 0.90384 | 0 cls: 0.11350 | 1 cls: 0.16643 | 2 cls: 0.13518\n"
     ]
    },
    {
     "name": "stderr",
     "output_type": "stream",
     "text": [
      "Epoch 473, lr 0.00010368: 100% 21/21 [00:11<00:00,  1.90it/s, 0 cls=0.15535, 1 cls=0.23008, 2 cls=0.19206, bce=0.05541, dice=0.88514, loss=-0.82675]\n"
     ]
    },
    {
     "name": "stdout",
     "output_type": "stream",
     "text": [
      "loss: -0.87161 | bce: 0.02881 | dice: 0.90315 | 0 cls: 0.11387 | 1 cls: 0.16820 | 2 cls: 0.13660\n"
     ]
    },
    {
     "name": "stderr",
     "output_type": "stream",
     "text": [
      "Epoch 474, lr 0.00010368: 100% 21/21 [00:11<00:00,  1.91it/s, 0 cls=0.16244, 1 cls=0.23466, 2 cls=0.19776, bce=0.05743, dice=0.88159, loss=-0.82106]\n"
     ]
    },
    {
     "name": "stdout",
     "output_type": "stream",
     "text": [
      "loss: -0.87107 | bce: 0.02868 | dice: 0.90242 | 0 cls: 0.11407 | 1 cls: 0.16948 | 2 cls: 0.13783\n"
     ]
    },
    {
     "name": "stderr",
     "output_type": "stream",
     "text": [
      "Epoch 475, lr 0.00010368: 100% 21/21 [00:11<00:00,  1.89it/s, 0 cls=0.15326, 1 cls=0.22730, 2 cls=0.18953, bce=0.05366, dice=0.88562, loss=-0.82907]\n"
     ]
    },
    {
     "name": "stdout",
     "output_type": "stream",
     "text": [
      "loss: -0.87209 | bce: 0.02888 | dice: 0.90368 | 0 cls: 0.11325 | 1 cls: 0.16810 | 2 cls: 0.13594\n"
     ]
    },
    {
     "name": "stderr",
     "output_type": "stream",
     "text": [
      "Epoch 476, lr 0.00010368: 100% 21/21 [00:10<00:00,  1.95it/s, 0 cls=0.15060, 1 cls=0.22577, 2 cls=0.18839, bce=0.05510, dice=0.88852, loss=-0.83078]\n"
     ]
    },
    {
     "name": "stdout",
     "output_type": "stream",
     "text": [
      "loss: -0.87170 | bce: 0.02822 | dice: 0.90271 | 0 cls: 0.11385 | 1 cls: 0.16791 | 2 cls: 0.13656\n"
     ]
    },
    {
     "name": "stderr",
     "output_type": "stream",
     "text": [
      "Epoch 477, lr 0.00010368: 100% 21/21 [00:10<00:00,  1.93it/s, 0 cls=0.16120, 1 cls=0.23420, 2 cls=0.19699, bce=0.05669, dice=0.88199, loss=-0.82208]\n"
     ]
    },
    {
     "name": "stdout",
     "output_type": "stream",
     "text": [
      "loss: -0.87256 | bce: 0.02835 | dice: 0.90369 | 0 cls: 0.11311 | 1 cls: 0.16657 | 2 cls: 0.13521\n"
     ]
    },
    {
     "name": "stderr",
     "output_type": "stream",
     "text": [
      "Epoch 478, lr 0.00010368: 100% 21/21 [00:11<00:00,  1.87it/s, 0 cls=0.15541, 1 cls=0.22871, 2 cls=0.19124, bce=0.05503, dice=0.88532, loss=-0.82725]\n"
     ]
    },
    {
     "name": "stdout",
     "output_type": "stream",
     "text": [
      "loss: -0.87164 | bce: 0.02856 | dice: 0.90282 | 0 cls: 0.11420 | 1 cls: 0.16770 | 2 cls: 0.13658\n"
     ]
    },
    {
     "name": "stderr",
     "output_type": "stream",
     "text": [
      "Epoch 479, lr 0.00010368: 100% 21/21 [00:11<00:00,  1.91it/s, 0 cls=0.15985, 1 cls=0.23126, 2 cls=0.19478, bce=0.05654, dice=0.88343, loss=-0.82372]\n"
     ]
    },
    {
     "name": "stdout",
     "output_type": "stream",
     "text": [
      "loss: -0.87154 | bce: 0.02846 | dice: 0.90270 | 0 cls: 0.11436 | 1 cls: 0.16794 | 2 cls: 0.13645\n"
     ]
    },
    {
     "name": "stderr",
     "output_type": "stream",
     "text": [
      "Epoch 480, lr 0.00010368: 100% 21/21 [00:10<00:00,  1.93it/s, 0 cls=0.15333, 1 cls=0.22752, 2 cls=0.18895, bce=0.05461, dice=0.88649, loss=-0.82891]\n"
     ]
    },
    {
     "name": "stdout",
     "output_type": "stream",
     "text": [
      "loss: -0.87175 | bce: 0.02891 | dice: 0.90322 | 0 cls: 0.11417 | 1 cls: 0.16748 | 2 cls: 0.13658\n"
     ]
    },
    {
     "name": "stderr",
     "output_type": "stream",
     "text": [
      "Epoch 481, lr 0.00010368: 100% 21/21 [00:10<00:00,  1.94it/s, 0 cls=0.15476, 1 cls=0.22750, 2 cls=0.18980, bce=0.05449, dice=0.88567, loss=-0.82806]\n"
     ]
    },
    {
     "name": "stdout",
     "output_type": "stream",
     "text": [
      "loss: -0.87299 | bce: 0.02833 | dice: 0.90408 | 0 cls: 0.11305 | 1 cls: 0.16591 | 2 cls: 0.13429\n"
     ]
    },
    {
     "name": "stderr",
     "output_type": "stream",
     "text": [
      "Epoch 482, lr 0.00010368: 100% 21/21 [00:11<00:00,  1.89it/s, 0 cls=0.16145, 1 cls=0.23608, 2 cls=0.19804, bce=0.05756, dice=0.88193, loss=-0.82122]\n"
     ]
    },
    {
     "name": "stdout",
     "output_type": "stream",
     "text": [
      "loss: -0.87187 | bce: 0.02823 | dice: 0.90265 | 0 cls: 0.11435 | 1 cls: 0.16683 | 2 cls: 0.13630\n"
     ]
    },
    {
     "name": "stderr",
     "output_type": "stream",
     "text": [
      "Epoch 483, lr 0.00010368: 100% 21/21 [00:11<00:00,  1.89it/s, 0 cls=0.15477, 1 cls=0.22680, 2 cls=0.19004, bce=0.05434, dice=0.88547, loss=-0.82821]\n"
     ]
    },
    {
     "name": "stdout",
     "output_type": "stream",
     "text": [
      "loss: -0.87249 | bce: 0.02866 | dice: 0.90386 | 0 cls: 0.11307 | 1 cls: 0.16705 | 2 cls: 0.13537\n"
     ]
    },
    {
     "name": "stderr",
     "output_type": "stream",
     "text": [
      "Epoch 484, lr 0.00010368: 100% 21/21 [00:11<00:00,  1.90it/s, 0 cls=0.15444, 1 cls=0.22921, 2 cls=0.19120, bce=0.05538, dice=0.88581, loss=-0.82754]\n"
     ]
    },
    {
     "name": "stdout",
     "output_type": "stream",
     "text": [
      "loss: -0.87258 | bce: 0.02859 | dice: 0.90396 | 0 cls: 0.11299 | 1 cls: 0.16688 | 2 cls: 0.13502\n"
     ]
    },
    {
     "name": "stderr",
     "output_type": "stream",
     "text": [
      "Epoch 485, lr 0.00010368: 100% 21/21 [00:10<00:00,  1.92it/s, 0 cls=0.15663, 1 cls=0.22729, 2 cls=0.19096, bce=0.05546, dice=0.88544, loss=-0.82687]\n"
     ]
    },
    {
     "name": "stdout",
     "output_type": "stream",
     "text": [
      "loss: -0.87171 | bce: 0.02870 | dice: 0.90302 | 0 cls: 0.11377 | 1 cls: 0.16844 | 2 cls: 0.13651\n"
     ]
    },
    {
     "name": "stderr",
     "output_type": "stream",
     "text": [
      "Epoch 486, lr 0.00010368: 100% 21/21 [00:10<00:00,  1.93it/s, 0 cls=0.15450, 1 cls=0.22557, 2 cls=0.18938, bce=0.05516, dice=0.88677, loss=-0.82865]\n"
     ]
    },
    {
     "name": "stdout",
     "output_type": "stream",
     "text": [
      "loss: -0.87207 | bce: 0.02884 | dice: 0.90346 | 0 cls: 0.11327 | 1 cls: 0.16804 | 2 cls: 0.13654\n"
     ]
    },
    {
     "name": "stderr",
     "output_type": "stream",
     "text": [
      "Epoch 487, lr 0.00010368: 100% 21/21 [00:10<00:00,  1.91it/s, 0 cls=0.15968, 1 cls=0.23132, 2 cls=0.19461, bce=0.05654, dice=0.88363, loss=-0.82389]\n"
     ]
    },
    {
     "name": "stdout",
     "output_type": "stream",
     "text": [
      "loss: -0.87195 | bce: 0.02837 | dice: 0.90279 | 0 cls: 0.11373 | 1 cls: 0.16742 | 2 cls: 0.13697\n"
     ]
    },
    {
     "name": "stderr",
     "output_type": "stream",
     "text": [
      "Epoch 488, lr 0.00010368: 100% 21/21 [00:10<00:00,  1.97it/s, 0 cls=0.15718, 1 cls=0.23089, 2 cls=0.19336, bce=0.05541, dice=0.88386, loss=-0.82558]\n"
     ]
    },
    {
     "name": "stdout",
     "output_type": "stream",
     "text": [
      "loss: -0.87273 | bce: 0.02831 | dice: 0.90374 | 0 cls: 0.11308 | 1 cls: 0.16620 | 2 cls: 0.13534\n"
     ]
    },
    {
     "name": "stderr",
     "output_type": "stream",
     "text": [
      "Epoch 489, lr 0.00010368: 100% 21/21 [00:10<00:00,  1.93it/s, 0 cls=0.15507, 1 cls=0.22799, 2 cls=0.19056, bce=0.05565, dice=0.88621, loss=-0.82753]\n"
     ]
    },
    {
     "name": "stdout",
     "output_type": "stream",
     "text": [
      "loss: -0.87198 | bce: 0.02850 | dice: 0.90320 | 0 cls: 0.11377 | 1 cls: 0.16740 | 2 cls: 0.13596\n"
     ]
    },
    {
     "name": "stderr",
     "output_type": "stream",
     "text": [
      "Epoch 490, lr 0.0013122000000000001: 100% 21/21 [00:11<00:00,  1.89it/s, 0 cls=0.16425, 1 cls=0.24070, 2 cls=0.20019, bce=0.05805, dice=0.87972, loss=-0.81824]\n"
     ]
    },
    {
     "name": "stdout",
     "output_type": "stream",
     "text": [
      "loss: -0.86385 | bce: 0.03135 | dice: 0.89842 | 0 cls: 0.11888 | 1 cls: 0.18329 | 2 cls: 0.14392\n"
     ]
    },
    {
     "name": "stderr",
     "output_type": "stream",
     "text": [
      "Epoch 491, lr 0.0013122000000000001: 100% 21/21 [00:10<00:00,  1.91it/s, 0 cls=0.17413, 1 cls=0.24978, 2 cls=0.20908, bce=0.06096, dice=0.87445, loss=-0.80955]\n"
     ]
    },
    {
     "name": "stdout",
     "output_type": "stream",
     "text": [
      "loss: -0.86893 | bce: 0.02853 | dice: 0.89992 | 0 cls: 0.11579 | 1 cls: 0.17352 | 2 cls: 0.14133\n"
     ]
    },
    {
     "name": "stderr",
     "output_type": "stream",
     "text": [
      "Epoch 492, lr 0.00039366000000000005: 100% 21/21 [00:10<00:00,  1.92it/s, 0 cls=0.17510, 1 cls=0.24851, 2 cls=0.20992, bce=0.06099, dice=0.87422, loss=-0.80920]\n"
     ]
    },
    {
     "name": "stdout",
     "output_type": "stream",
     "text": [
      "loss: -0.87156 | bce: 0.02898 | dice: 0.90355 | 0 cls: 0.11544 | 1 cls: 0.16522 | 2 cls: 0.13490\n"
     ]
    },
    {
     "name": "stderr",
     "output_type": "stream",
     "text": [
      "Epoch 493, lr 0.00039366000000000005: 100% 21/21 [00:10<00:00,  1.93it/s, 0 cls=0.16627, 1 cls=0.24091, 2 cls=0.20215, bce=0.05837, dice=0.87861, loss=-0.81694]\n"
     ]
    },
    {
     "name": "stdout",
     "output_type": "stream",
     "text": [
      "loss: -0.87023 | bce: 0.03020 | dice: 0.90357 | 0 cls: 0.11333 | 1 cls: 0.17283 | 2 cls: 0.13817\n"
     ]
    },
    {
     "name": "stderr",
     "output_type": "stream",
     "text": [
      "Epoch 494, lr 0.000118098: 100% 21/21 [00:10<00:00,  1.94it/s, 0 cls=0.16191, 1 cls=0.23813, 2 cls=0.19901, bce=0.05807, dice=0.88157, loss=-0.82023]\n"
     ]
    },
    {
     "name": "stdout",
     "output_type": "stream",
     "text": [
      "loss: -0.87040 | bce: 0.02930 | dice: 0.90277 | 0 cls: 0.11472 | 1 cls: 0.17059 | 2 cls: 0.13687\n"
     ]
    },
    {
     "name": "stderr",
     "output_type": "stream",
     "text": [
      "Epoch 495, lr 0.0013122000000000001: 100% 21/21 [00:10<00:00,  1.91it/s, 0 cls=0.16819, 1 cls=0.24683, 2 cls=0.20595, bce=0.05932, dice=0.87678, loss=-0.81401]\n"
     ]
    },
    {
     "name": "stdout",
     "output_type": "stream",
     "text": [
      "loss: -0.86456 | bce: 0.02894 | dice: 0.89673 | 0 cls: 0.12049 | 1 cls: 0.17967 | 2 cls: 0.14173\n"
     ]
    },
    {
     "name": "stderr",
     "output_type": "stream",
     "text": [
      "Epoch 496, lr 0.0013122000000000001: 100% 21/21 [00:11<00:00,  1.89it/s, 0 cls=0.17574, 1 cls=0.24870, 2 cls=0.20951, bce=0.06158, dice=0.87440, loss=-0.80876]\n"
     ]
    },
    {
     "name": "stdout",
     "output_type": "stream",
     "text": [
      "loss: -0.86909 | bce: 0.03226 | dice: 0.90378 | 0 cls: 0.11430 | 1 cls: 0.17334 | 2 cls: 0.14029\n"
     ]
    },
    {
     "name": "stderr",
     "output_type": "stream",
     "text": [
      "Epoch 497, lr 0.00039366000000000005: 100% 21/21 [00:10<00:00,  1.92it/s, 0 cls=0.16366, 1 cls=0.23893, 2 cls=0.19903, bce=0.05815, dice=0.88065, loss=-0.81911]\n"
     ]
    },
    {
     "name": "stdout",
     "output_type": "stream",
     "text": [
      "loss: -0.86905 | bce: 0.03155 | dice: 0.90335 | 0 cls: 0.11318 | 1 cls: 0.17716 | 2 cls: 0.14027\n"
     ]
    },
    {
     "name": "stderr",
     "output_type": "stream",
     "text": [
      "Epoch 498, lr 0.00039366000000000005: 100% 21/21 [00:10<00:00,  1.92it/s, 0 cls=0.16197, 1 cls=0.23800, 2 cls=0.19927, bce=0.05781, dice=0.88117, loss=-0.82026]\n"
     ]
    },
    {
     "name": "stdout",
     "output_type": "stream",
     "text": [
      "loss: -0.87240 | bce: 0.02958 | dice: 0.90505 | 0 cls: 0.11334 | 1 cls: 0.16662 | 2 cls: 0.13389\n"
     ]
    },
    {
     "name": "stderr",
     "output_type": "stream",
     "text": [
      "Epoch 499, lr 0.000118098: 100% 21/21 [00:10<00:00,  1.91it/s, 0 cls=0.16481, 1 cls=0.23949, 2 cls=0.20114, bce=0.05899, dice=0.88044, loss=-0.81817]\n"
     ]
    },
    {
     "name": "stdout",
     "output_type": "stream",
     "text": [
      "loss: -0.87185 | bce: 0.02958 | dice: 0.90438 | 0 cls: 0.11315 | 1 cls: 0.16881 | 2 cls: 0.13515\n"
     ]
    },
    {
     "name": "stderr",
     "output_type": "stream",
     "text": [
      "Epoch 500, lr 6.220799999999998e-05: 100% 21/21 [00:11<00:00,  1.85it/s, 0 cls=0.16043, 1 cls=0.23603, 2 cls=0.19745, bce=0.05640, dice=0.88145, loss=-0.82200]\n"
     ]
    },
    {
     "name": "stdout",
     "output_type": "stream",
     "text": [
      "loss: -0.87138 | bce: 0.02978 | dice: 0.90409 | 0 cls: 0.11325 | 1 cls: 0.17012 | 2 cls: 0.13592\n"
     ]
    },
    {
     "name": "stderr",
     "output_type": "stream",
     "text": [
      "Epoch 501, lr 6.220799999999998e-05: 100% 21/21 [00:10<00:00,  1.92it/s, 0 cls=0.16145, 1 cls=0.23563, 2 cls=0.19745, bce=0.05735, dice=0.88197, loss=-0.82144]\n"
     ]
    },
    {
     "name": "stdout",
     "output_type": "stream",
     "text": [
      "loss: -0.87187 | bce: 0.02980 | dice: 0.90466 | 0 cls: 0.11278 | 1 cls: 0.16955 | 2 cls: 0.13513\n"
     ]
    },
    {
     "name": "stderr",
     "output_type": "stream",
     "text": [
      "Epoch 502, lr 6.220799999999998e-05: 100% 21/21 [00:10<00:00,  1.92it/s, 0 cls=0.15918, 1 cls=0.23396, 2 cls=0.19589, bce=0.05647, dice=0.88282, loss=-0.82328]\n"
     ]
    },
    {
     "name": "stdout",
     "output_type": "stream",
     "text": [
      "loss: -0.87147 | bce: 0.02943 | dice: 0.90378 | 0 cls: 0.11351 | 1 cls: 0.16924 | 2 cls: 0.13607\n"
     ]
    },
    {
     "name": "stderr",
     "output_type": "stream",
     "text": [
      "Epoch 503, lr 6.220799999999998e-05: 100% 21/21 [00:11<00:00,  1.87it/s, 0 cls=0.16457, 1 cls=0.23727, 2 cls=0.19947, bce=0.05737, dice=0.87992, loss=-0.81915]\n"
     ]
    },
    {
     "name": "stdout",
     "output_type": "stream",
     "text": [
      "loss: -0.87182 | bce: 0.02930 | dice: 0.90409 | 0 cls: 0.11326 | 1 cls: 0.16865 | 2 cls: 0.13530\n"
     ]
    },
    {
     "name": "stderr",
     "output_type": "stream",
     "text": [
      "Epoch 504, lr 6.220799999999998e-05: 100% 21/21 [00:10<00:00,  1.95it/s, 0 cls=0.15950, 1 cls=0.23603, 2 cls=0.19619, bce=0.05664, dice=0.88233, loss=-0.82254]\n"
     ]
    },
    {
     "name": "stdout",
     "output_type": "stream",
     "text": [
      "loss: -0.87229 | bce: 0.02920 | dice: 0.90452 | 0 cls: 0.11281 | 1 cls: 0.16803 | 2 cls: 0.13459\n"
     ]
    },
    {
     "name": "stderr",
     "output_type": "stream",
     "text": [
      "Epoch 505, lr 6.220799999999998e-05: 100% 21/21 [00:10<00:00,  1.94it/s, 0 cls=0.15830, 1 cls=0.23406, 2 cls=0.19497, bce=0.05577, dice=0.88277, loss=-0.82388]\n"
     ]
    },
    {
     "name": "stdout",
     "output_type": "stream",
     "text": [
      "loss: -0.87227 | bce: 0.02918 | dice: 0.90435 | 0 cls: 0.11290 | 1 cls: 0.16794 | 2 cls: 0.13496\n"
     ]
    },
    {
     "name": "stderr",
     "output_type": "stream",
     "text": [
      "Epoch 506, lr 6.220799999999998e-05: 100% 21/21 [00:10<00:00,  1.93it/s, 0 cls=0.15824, 1 cls=0.23507, 2 cls=0.19540, bce=0.05677, dice=0.88331, loss=-0.82350]\n"
     ]
    },
    {
     "name": "stdout",
     "output_type": "stream",
     "text": [
      "loss: -0.87224 | bce: 0.02938 | dice: 0.90462 | 0 cls: 0.11263 | 1 cls: 0.16846 | 2 cls: 0.13484\n"
     ]
    },
    {
     "name": "stderr",
     "output_type": "stream",
     "text": [
      "Epoch 507, lr 6.220799999999998e-05: 100% 21/21 [00:10<00:00,  1.95it/s, 0 cls=0.16040, 1 cls=0.23212, 2 cls=0.19529, bce=0.05664, dice=0.88302, loss=-0.82319]\n"
     ]
    },
    {
     "name": "stdout",
     "output_type": "stream",
     "text": [
      "loss: -0.87257 | bce: 0.02944 | dice: 0.90501 | 0 cls: 0.11241 | 1 cls: 0.16785 | 2 cls: 0.13437\n"
     ]
    },
    {
     "name": "stderr",
     "output_type": "stream",
     "text": [
      "Epoch 508, lr 6.220799999999998e-05: 100% 21/21 [00:10<00:00,  1.95it/s, 0 cls=0.15960, 1 cls=0.23525, 2 cls=0.19601, bce=0.05737, dice=0.88316, loss=-0.82269]\n"
     ]
    },
    {
     "name": "stdout",
     "output_type": "stream",
     "text": [
      "loss: -0.87206 | bce: 0.02939 | dice: 0.90448 | 0 cls: 0.11287 | 1 cls: 0.16862 | 2 cls: 0.13490\n"
     ]
    },
    {
     "name": "stderr",
     "output_type": "stream",
     "text": [
      "Epoch 509, lr 6.220799999999998e-05: 100% 21/21 [00:10<00:00,  1.92it/s, 0 cls=0.15498, 1 cls=0.22632, 2 cls=0.18978, bce=0.05444, dice=0.88574, loss=-0.82828]\n"
     ]
    },
    {
     "name": "stdout",
     "output_type": "stream",
     "text": [
      "loss: -0.87160 | bce: 0.02963 | dice: 0.90416 | 0 cls: 0.11307 | 1 cls: 0.16968 | 2 cls: 0.13586\n"
     ]
    },
    {
     "name": "stderr",
     "output_type": "stream",
     "text": [
      "Epoch 510, lr 6.220799999999998e-05: 100% 21/21 [00:10<00:00,  1.96it/s, 0 cls=0.15766, 1 cls=0.23339, 2 cls=0.19433, bce=0.05654, dice=0.88394, loss=-0.82434]\n"
     ]
    },
    {
     "name": "stdout",
     "output_type": "stream",
     "text": [
      "loss: -0.87206 | bce: 0.02916 | dice: 0.90422 | 0 cls: 0.11314 | 1 cls: 0.16830 | 2 cls: 0.13487\n"
     ]
    },
    {
     "name": "stderr",
     "output_type": "stream",
     "text": [
      "Epoch 511, lr 6.220799999999998e-05: 100% 21/21 [00:11<00:00,  1.90it/s, 0 cls=0.15243, 1 cls=0.22922, 2 cls=0.19060, bce=0.05450, dice=0.88613, loss=-0.82885]\n"
     ]
    },
    {
     "name": "stdout",
     "output_type": "stream",
     "text": [
      "loss: -0.87149 | bce: 0.02934 | dice: 0.90386 | 0 cls: 0.11341 | 1 cls: 0.16951 | 2 cls: 0.13564\n"
     ]
    },
    {
     "name": "stderr",
     "output_type": "stream",
     "text": [
      "Epoch 512, lr 6.220799999999998e-05: 100% 21/21 [00:10<00:00,  1.93it/s, 0 cls=0.16802, 1 cls=0.24049, 2 cls=0.20395, bce=0.05898, dice=0.87799, loss=-0.81588]\n"
     ]
    },
    {
     "name": "stdout",
     "output_type": "stream",
     "text": [
      "loss: -0.87150 | bce: 0.02938 | dice: 0.90385 | 0 cls: 0.11353 | 1 cls: 0.16918 | 2 cls: 0.13585\n"
     ]
    },
    {
     "name": "stderr",
     "output_type": "stream",
     "text": [
      "Epoch 513, lr 6.220799999999998e-05: 100% 21/21 [00:11<00:00,  1.90it/s, 0 cls=0.15492, 1 cls=0.22971, 2 cls=0.19121, bce=0.05524, dice=0.88539, loss=-0.82715]\n"
     ]
    },
    {
     "name": "stdout",
     "output_type": "stream",
     "text": [
      "loss: -0.87188 | bce: 0.02947 | dice: 0.90424 | 0 cls: 0.11315 | 1 cls: 0.16866 | 2 cls: 0.13555\n"
     ]
    },
    {
     "name": "stderr",
     "output_type": "stream",
     "text": [
      "Epoch 514, lr 6.220799999999998e-05: 100% 21/21 [00:10<00:00,  1.92it/s, 0 cls=0.15411, 1 cls=0.22828, 2 cls=0.19072, bce=0.05516, dice=0.88612, loss=-0.82803]\n"
     ]
    },
    {
     "name": "stdout",
     "output_type": "stream",
     "text": [
      "loss: -0.87162 | bce: 0.02929 | dice: 0.90380 | 0 cls: 0.11332 | 1 cls: 0.16920 | 2 cls: 0.13605\n"
     ]
    },
    {
     "name": "stderr",
     "output_type": "stream",
     "text": [
      "Epoch 515, lr 6.220799999999998e-05: 100% 21/21 [00:11<00:00,  1.89it/s, 0 cls=0.15433, 1 cls=0.22926, 2 cls=0.19060, bce=0.05548, dice=0.88617, loss=-0.82767]\n"
     ]
    },
    {
     "name": "stdout",
     "output_type": "stream",
     "text": [
      "loss: -0.87143 | bce: 0.02921 | dice: 0.90353 | 0 cls: 0.11366 | 1 cls: 0.16930 | 2 cls: 0.13610\n"
     ]
    },
    {
     "name": "stderr",
     "output_type": "stream",
     "text": [
      "Epoch 516, lr 6.220799999999998e-05: 100% 21/21 [00:10<00:00,  1.91it/s, 0 cls=0.15877, 1 cls=0.23311, 2 cls=0.19513, bce=0.05635, dice=0.88326, loss=-0.82382]\n"
     ]
    },
    {
     "name": "stdout",
     "output_type": "stream",
     "text": [
      "loss: -0.87128 | bce: 0.02946 | dice: 0.90361 | 0 cls: 0.11392 | 1 cls: 0.16931 | 2 cls: 0.13618\n"
     ]
    },
    {
     "name": "stderr",
     "output_type": "stream",
     "text": [
      "Epoch 517, lr 6.220799999999998e-05: 100% 21/21 [00:10<00:00,  1.92it/s, 0 cls=0.16120, 1 cls=0.23525, 2 cls=0.19775, bce=0.05726, dice=0.88192, loss=-0.82164]\n"
     ]
    },
    {
     "name": "stdout",
     "output_type": "stream",
     "text": [
      "loss: -0.87192 | bce: 0.02903 | dice: 0.90383 | 0 cls: 0.11374 | 1 cls: 0.16779 | 2 cls: 0.13506\n"
     ]
    },
    {
     "name": "stderr",
     "output_type": "stream",
     "text": [
      "Epoch 518, lr 6.220799999999998e-05: 100% 21/21 [00:10<00:00,  1.92it/s, 0 cls=0.16097, 1 cls=0.23315, 2 cls=0.19583, bce=0.05674, dice=0.88272, loss=-0.82263]\n"
     ]
    },
    {
     "name": "stdout",
     "output_type": "stream",
     "text": [
      "loss: -0.87138 | bce: 0.02930 | dice: 0.90355 | 0 cls: 0.11382 | 1 cls: 0.16903 | 2 cls: 0.13628\n"
     ]
    },
    {
     "name": "stderr",
     "output_type": "stream",
     "text": [
      "Epoch 519, lr 6.220799999999998e-05: 100% 21/21 [00:10<00:00,  1.91it/s, 0 cls=0.15827, 1 cls=0.23116, 2 cls=0.19381, bce=0.05652, dice=0.88435, loss=-0.82470]\n"
     ]
    },
    {
     "name": "stdout",
     "output_type": "stream",
     "text": [
      "loss: -0.87186 | bce: 0.02940 | dice: 0.90422 | 0 cls: 0.11326 | 1 cls: 0.16849 | 2 cls: 0.13551\n"
     ]
    },
    {
     "name": "stderr",
     "output_type": "stream",
     "text": [
      "Epoch 520, lr 6.220799999999998e-05: 100% 21/21 [00:11<00:00,  1.89it/s, 0 cls=0.16144, 1 cls=0.23493, 2 cls=0.19688, bce=0.05749, dice=0.88243, loss=-0.82169]\n"
     ]
    },
    {
     "name": "stdout",
     "output_type": "stream",
     "text": [
      "loss: -0.87201 | bce: 0.02903 | dice: 0.90399 | 0 cls: 0.11349 | 1 cls: 0.16795 | 2 cls: 0.13498\n"
     ]
    },
    {
     "name": "stderr",
     "output_type": "stream",
     "text": [
      "Epoch 521, lr 6.220799999999998e-05: 100% 21/21 [00:10<00:00,  1.91it/s, 0 cls=0.16072, 1 cls=0.23504, 2 cls=0.19730, bce=0.05647, dice=0.88158, loss=-0.82207]\n"
     ]
    },
    {
     "name": "stdout",
     "output_type": "stream",
     "text": [
      "loss: -0.87152 | bce: 0.02910 | dice: 0.90349 | 0 cls: 0.11388 | 1 cls: 0.16864 | 2 cls: 0.13600\n"
     ]
    },
    {
     "name": "stderr",
     "output_type": "stream",
     "text": [
      "Epoch 522, lr 6.220799999999998e-05: 100% 21/21 [00:11<00:00,  1.89it/s, 0 cls=0.15699, 1 cls=0.23029, 2 cls=0.19286, bce=0.05623, dice=0.88500, loss=-0.82570]\n"
     ]
    },
    {
     "name": "stdout",
     "output_type": "stream",
     "text": [
      "loss: -0.87165 | bce: 0.02915 | dice: 0.90367 | 0 cls: 0.11384 | 1 cls: 0.16851 | 2 cls: 0.13560\n"
     ]
    },
    {
     "name": "stderr",
     "output_type": "stream",
     "text": [
      "Epoch 523, lr 6.220799999999998e-05: 100% 21/21 [00:11<00:00,  1.89it/s, 0 cls=0.15850, 1 cls=0.23387, 2 cls=0.19524, bce=0.05670, dice=0.88358, loss=-0.82377]\n"
     ]
    },
    {
     "name": "stdout",
     "output_type": "stream",
     "text": [
      "loss: -0.87060 | bce: 0.02905 | dice: 0.90246 | 0 cls: 0.11470 | 1 cls: 0.17016 | 2 cls: 0.13725\n"
     ]
    },
    {
     "name": "stderr",
     "output_type": "stream",
     "text": [
      "Epoch 524, lr 6.220799999999998e-05: 100% 21/21 [00:10<00:00,  1.94it/s, 0 cls=0.15509, 1 cls=0.22979, 2 cls=0.19169, bce=0.05557, dice=0.88554, loss=-0.82703]\n"
     ]
    },
    {
     "name": "stdout",
     "output_type": "stream",
     "text": [
      "loss: -0.87127 | bce: 0.02915 | dice: 0.90326 | 0 cls: 0.11399 | 1 cls: 0.16951 | 2 cls: 0.13622\n"
     ]
    },
    {
     "name": "stderr",
     "output_type": "stream",
     "text": [
      "Epoch 525, lr 6.220799999999998e-05: 100% 21/21 [00:10<00:00,  1.93it/s, 0 cls=0.15569, 1 cls=0.23070, 2 cls=0.19213, bce=0.05537, dice=0.88479, loss=-0.82642]\n"
     ]
    },
    {
     "name": "stdout",
     "output_type": "stream",
     "text": [
      "loss: -0.87147 | bce: 0.02910 | dice: 0.90337 | 0 cls: 0.11402 | 1 cls: 0.16876 | 2 cls: 0.13603\n"
     ]
    },
    {
     "name": "stderr",
     "output_type": "stream",
     "text": [
      "Epoch 526, lr 6.220799999999998e-05: 100% 21/21 [00:11<00:00,  1.90it/s, 0 cls=0.15710, 1 cls=0.23132, 2 cls=0.19346, bce=0.05599, dice=0.88439, loss=-0.82535]\n"
     ]
    },
    {
     "name": "stdout",
     "output_type": "stream",
     "text": [
      "loss: -0.87243 | bce: 0.02905 | dice: 0.90437 | 0 cls: 0.11315 | 1 cls: 0.16734 | 2 cls: 0.13467\n"
     ]
    },
    {
     "name": "stderr",
     "output_type": "stream",
     "text": [
      "Epoch 527, lr 6.220799999999998e-05: 100% 21/21 [00:10<00:00,  1.92it/s, 0 cls=0.15879, 1 cls=0.23182, 2 cls=0.19425, bce=0.05617, dice=0.88360, loss=-0.82420]\n"
     ]
    },
    {
     "name": "stdout",
     "output_type": "stream",
     "text": [
      "loss: -0.87091 | bce: 0.02894 | dice: 0.90263 | 0 cls: 0.11453 | 1 cls: 0.16946 | 2 cls: 0.13699\n"
     ]
    },
    {
     "name": "stderr",
     "output_type": "stream",
     "text": [
      "Epoch 528, lr 6.220799999999998e-05: 100% 21/21 [00:10<00:00,  1.94it/s, 0 cls=0.16178, 1 cls=0.23758, 2 cls=0.19897, bce=0.05724, dice=0.88088, loss=-0.82070]\n"
     ]
    },
    {
     "name": "stdout",
     "output_type": "stream",
     "text": [
      "loss: -0.87081 | bce: 0.02916 | dice: 0.90285 | 0 cls: 0.11439 | 1 cls: 0.17002 | 2 cls: 0.13693\n"
     ]
    },
    {
     "name": "stderr",
     "output_type": "stream",
     "text": [
      "Epoch 529, lr 6.220799999999998e-05: 100% 21/21 [00:10<00:00,  1.96it/s, 0 cls=0.15636, 1 cls=0.23272, 2 cls=0.19355, bce=0.05632, dice=0.88467, loss=-0.82531]\n"
     ]
    },
    {
     "name": "stdout",
     "output_type": "stream",
     "text": [
      "loss: -0.87187 | bce: 0.02878 | dice: 0.90357 | 0 cls: 0.11387 | 1 cls: 0.16768 | 2 cls: 0.13529\n"
     ]
    },
    {
     "name": "stderr",
     "output_type": "stream",
     "text": [
      "Epoch 530, lr 6.220799999999998e-05: 100% 21/21 [00:10<00:00,  1.92it/s, 0 cls=0.15531, 1 cls=0.23037, 2 cls=0.19201, bce=0.05561, dice=0.88531, loss=-0.82668]\n"
     ]
    },
    {
     "name": "stdout",
     "output_type": "stream",
     "text": [
      "loss: -0.87117 | bce: 0.02928 | dice: 0.90327 | 0 cls: 0.11399 | 1 cls: 0.16955 | 2 cls: 0.13671\n"
     ]
    },
    {
     "name": "stderr",
     "output_type": "stream",
     "text": [
      "Epoch 531, lr 6.220799999999998e-05: 100% 21/21 [00:10<00:00,  1.92it/s, 0 cls=0.15275, 1 cls=0.22972, 2 cls=0.19044, bce=0.05498, dice=0.88621, loss=-0.82844]\n"
     ]
    },
    {
     "name": "stdout",
     "output_type": "stream",
     "text": [
      "loss: -0.87081 | bce: 0.02934 | dice: 0.90300 | 0 cls: 0.11439 | 1 cls: 0.17002 | 2 cls: 0.13703\n"
     ]
    },
    {
     "name": "stderr",
     "output_type": "stream",
     "text": [
      "Epoch 532, lr 6.220799999999998e-05: 100% 21/21 [00:11<00:00,  1.90it/s, 0 cls=0.15567, 1 cls=0.23009, 2 cls=0.19182, bce=0.05510, dice=0.88485, loss=-0.82666]\n"
     ]
    },
    {
     "name": "stdout",
     "output_type": "stream",
     "text": [
      "loss: -0.87184 | bce: 0.02907 | dice: 0.90385 | 0 cls: 0.11387 | 1 cls: 0.16785 | 2 cls: 0.13514\n"
     ]
    },
    {
     "name": "stderr",
     "output_type": "stream",
     "text": [
      "Epoch 533, lr 6.220799999999998e-05: 100% 21/21 [00:11<00:00,  1.87it/s, 0 cls=0.16191, 1 cls=0.23491, 2 cls=0.19759, bce=0.05697, dice=0.88164, loss=-0.82145]\n"
     ]
    },
    {
     "name": "stdout",
     "output_type": "stream",
     "text": [
      "loss: -0.87126 | bce: 0.02878 | dice: 0.90294 | 0 cls: 0.11448 | 1 cls: 0.16837 | 2 cls: 0.13617\n"
     ]
    },
    {
     "name": "stderr",
     "output_type": "stream",
     "text": [
      "Epoch 534, lr 6.220799999999998e-05: 100% 21/21 [00:11<00:00,  1.89it/s, 0 cls=0.15791, 1 cls=0.23072, 2 cls=0.19360, bce=0.05594, dice=0.88405, loss=-0.82506]\n"
     ]
    },
    {
     "name": "stdout",
     "output_type": "stream",
     "text": [
      "loss: -0.87113 | bce: 0.02933 | dice: 0.90335 | 0 cls: 0.11397 | 1 cls: 0.16957 | 2 cls: 0.13663\n"
     ]
    },
    {
     "name": "stderr",
     "output_type": "stream",
     "text": [
      "Epoch 535, lr 6.220799999999998e-05: 100% 21/21 [00:10<00:00,  1.92it/s, 0 cls=0.15340, 1 cls=0.22823, 2 cls=0.18989, bce=0.05495, dice=0.88642, loss=-0.82856]\n"
     ]
    },
    {
     "name": "stdout",
     "output_type": "stream",
     "text": [
      "loss: -0.87171 | bce: 0.02907 | dice: 0.90365 | 0 cls: 0.11392 | 1 cls: 0.16789 | 2 cls: 0.13574\n"
     ]
    },
    {
     "name": "stderr",
     "output_type": "stream",
     "text": [
      "Epoch 536, lr 6.220799999999998e-05: 100% 21/21 [00:11<00:00,  1.85it/s, 0 cls=0.15946, 1 cls=0.23083, 2 cls=0.19443, bce=0.05589, dice=0.88307, loss=-0.82415]\n"
     ]
    },
    {
     "name": "stdout",
     "output_type": "stream",
     "text": [
      "loss: -0.87130 | bce: 0.02923 | dice: 0.90330 | 0 cls: 0.11463 | 1 cls: 0.16786 | 2 cls: 0.13642\n"
     ]
    },
    {
     "name": "stderr",
     "output_type": "stream",
     "text": [
      "Epoch 537, lr 6.220799999999998e-05: 100% 21/21 [00:10<00:00,  1.95it/s, 0 cls=0.15406, 1 cls=0.22706, 2 cls=0.19017, bce=0.05536, dice=0.88657, loss=-0.82840]\n"
     ]
    },
    {
     "name": "stdout",
     "output_type": "stream",
     "text": [
      "loss: -0.87103 | bce: 0.02937 | dice: 0.90322 | 0 cls: 0.11444 | 1 cls: 0.16925 | 2 cls: 0.13667\n"
     ]
    },
    {
     "name": "stderr",
     "output_type": "stream",
     "text": [
      "Epoch 538, lr 6.220799999999998e-05: 100% 21/21 [00:10<00:00,  1.95it/s, 0 cls=0.15374, 1 cls=0.22559, 2 cls=0.18867, bce=0.05469, dice=0.88692, loss=-0.82916]\n"
     ]
    },
    {
     "name": "stdout",
     "output_type": "stream",
     "text": [
      "loss: -0.87081 | bce: 0.02919 | dice: 0.90290 | 0 cls: 0.11431 | 1 cls: 0.17018 | 2 cls: 0.13698\n"
     ]
    },
    {
     "name": "stderr",
     "output_type": "stream",
     "text": [
      "Epoch 539, lr 6.220799999999998e-05: 100% 21/21 [00:10<00:00,  1.96it/s, 0 cls=0.15497, 1 cls=0.22984, 2 cls=0.19152, bce=0.05528, dice=0.88541, loss=-0.82718]\n"
     ]
    },
    {
     "name": "stdout",
     "output_type": "stream",
     "text": [
      "loss: -0.87208 | bce: 0.02923 | dice: 0.90422 | 0 cls: 0.11322 | 1 cls: 0.16817 | 2 cls: 0.13528\n"
     ]
    },
    {
     "name": "stderr",
     "output_type": "stream",
     "text": [
      "Epoch 540, lr 6.220799999999998e-05: 100% 21/21 [00:10<00:00,  1.92it/s, 0 cls=0.15170, 1 cls=0.22462, 2 cls=0.18699, bce=0.05370, dice=0.88746, loss=-0.83077]\n"
     ]
    },
    {
     "name": "stdout",
     "output_type": "stream",
     "text": [
      "loss: -0.87187 | bce: 0.02911 | dice: 0.90381 | 0 cls: 0.11366 | 1 cls: 0.16820 | 2 cls: 0.13564\n"
     ]
    },
    {
     "name": "stderr",
     "output_type": "stream",
     "text": [
      "Epoch 541, lr 6.220799999999998e-05: 100% 21/21 [00:11<00:00,  1.91it/s, 0 cls=0.15674, 1 cls=0.22821, 2 cls=0.19190, bce=0.05561, dice=0.88522, loss=-0.82655]\n"
     ]
    },
    {
     "name": "stdout",
     "output_type": "stream",
     "text": [
      "loss: -0.87110 | bce: 0.02892 | dice: 0.90283 | 0 cls: 0.11457 | 1 cls: 0.16898 | 2 cls: 0.13653\n"
     ]
    },
    {
     "name": "stderr",
     "output_type": "stream",
     "text": [
      "Epoch 542, lr 6.220799999999998e-05: 100% 21/21 [00:10<00:00,  1.92it/s, 0 cls=0.15819, 1 cls=0.22965, 2 cls=0.19328, bce=0.05593, dice=0.88428, loss=-0.82524]\n"
     ]
    },
    {
     "name": "stdout",
     "output_type": "stream",
     "text": [
      "loss: -0.87102 | bce: 0.02911 | dice: 0.90296 | 0 cls: 0.11441 | 1 cls: 0.16912 | 2 cls: 0.13696\n"
     ]
    },
    {
     "name": "stderr",
     "output_type": "stream",
     "text": [
      "Epoch 543, lr 6.220799999999998e-05: 100% 21/21 [00:10<00:00,  1.93it/s, 0 cls=0.15959, 1 cls=0.23652, 2 cls=0.19741, bce=0.05730, dice=0.88237, loss=-0.82221]\n"
     ]
    },
    {
     "name": "stdout",
     "output_type": "stream",
     "text": [
      "loss: -0.87118 | bce: 0.02894 | dice: 0.90298 | 0 cls: 0.11440 | 1 cls: 0.16899 | 2 cls: 0.13653\n"
     ]
    },
    {
     "name": "stderr",
     "output_type": "stream",
     "text": [
      "Epoch 544, lr 6.220799999999998e-05: 100% 21/21 [00:11<00:00,  1.90it/s, 0 cls=0.15252, 1 cls=0.22593, 2 cls=0.18799, bce=0.05384, dice=0.88680, loss=-0.82988]\n"
     ]
    },
    {
     "name": "stdout",
     "output_type": "stream",
     "text": [
      "loss: -0.87150 | bce: 0.02925 | dice: 0.90374 | 0 cls: 0.11386 | 1 cls: 0.16879 | 2 cls: 0.13581\n"
     ]
    },
    {
     "name": "stderr",
     "output_type": "stream",
     "text": [
      "Epoch 545, lr 6.220799999999998e-05: 100% 21/21 [00:10<00:00,  1.94it/s, 0 cls=0.14870, 1 cls=0.22091, 2 cls=0.18403, bce=0.05237, dice=0.88901, loss=-0.83372]\n"
     ]
    },
    {
     "name": "stdout",
     "output_type": "stream",
     "text": [
      "loss: -0.87136 | bce: 0.02909 | dice: 0.90333 | 0 cls: 0.11422 | 1 cls: 0.16867 | 2 cls: 0.13607\n"
     ]
    },
    {
     "name": "stderr",
     "output_type": "stream",
     "text": [
      "Epoch 546, lr 6.220799999999998e-05: 100% 21/21 [00:10<00:00,  1.99it/s, 0 cls=0.15477, 1 cls=0.22771, 2 cls=0.19039, bce=0.05603, dice=0.88680, loss=-0.82778]\n"
     ]
    },
    {
     "name": "stdout",
     "output_type": "stream",
     "text": [
      "loss: -0.87128 | bce: 0.02906 | dice: 0.90324 | 0 cls: 0.11435 | 1 cls: 0.16865 | 2 cls: 0.13615\n"
     ]
    },
    {
     "name": "stderr",
     "output_type": "stream",
     "text": [
      "Epoch 547, lr 6.220799999999998e-05: 100% 21/21 [00:10<00:00,  1.93it/s, 0 cls=0.16104, 1 cls=0.23526, 2 cls=0.19716, bce=0.05774, dice=0.88269, loss=-0.82175]\n"
     ]
    },
    {
     "name": "stdout",
     "output_type": "stream",
     "text": [
      "loss: -0.87130 | bce: 0.02877 | dice: 0.90297 | 0 cls: 0.11437 | 1 cls: 0.16865 | 2 cls: 0.13619\n"
     ]
    },
    {
     "name": "stderr",
     "output_type": "stream",
     "text": [
      "Epoch 548, lr 6.220799999999998e-05: 100% 21/21 [00:10<00:00,  1.92it/s, 0 cls=0.15637, 1 cls=0.22904, 2 cls=0.19169, bce=0.05541, dice=0.88508, loss=-0.82654]\n"
     ]
    },
    {
     "name": "stdout",
     "output_type": "stream",
     "text": [
      "loss: -0.87122 | bce: 0.02876 | dice: 0.90276 | 0 cls: 0.11432 | 1 cls: 0.16895 | 2 cls: 0.13667\n"
     ]
    },
    {
     "name": "stderr",
     "output_type": "stream",
     "text": [
      "Epoch 549, lr 6.220799999999998e-05: 100% 21/21 [00:10<00:00,  1.94it/s, 0 cls=0.15343, 1 cls=0.22648, 2 cls=0.18963, bce=0.05420, dice=0.88612, loss=-0.82908]\n"
     ]
    },
    {
     "name": "stdout",
     "output_type": "stream",
     "text": [
      "loss: -0.87212 | bce: 0.02894 | dice: 0.90386 | 0 cls: 0.11341 | 1 cls: 0.16772 | 2 cls: 0.13544\n"
     ]
    },
    {
     "name": "stderr",
     "output_type": "stream",
     "text": [
      "Epoch 550, lr 6.220799999999998e-05: 100% 21/21 [00:10<00:00,  1.93it/s, 0 cls=0.15699, 1 cls=0.23215, 2 cls=0.19366, bce=0.05594, dice=0.88415, loss=-0.82517]\n"
     ]
    },
    {
     "name": "stdout",
     "output_type": "stream",
     "text": [
      "loss: -0.87144 | bce: 0.02880 | dice: 0.90312 | 0 cls: 0.11411 | 1 cls: 0.16837 | 2 cls: 0.13622\n"
     ]
    },
    {
     "name": "stderr",
     "output_type": "stream",
     "text": [
      "Epoch 551, lr 6.220799999999998e-05: 100% 21/21 [00:10<00:00,  1.93it/s, 0 cls=0.15941, 1 cls=0.23337, 2 cls=0.19566, bce=0.05615, dice=0.88271, loss=-0.82339]\n"
     ]
    },
    {
     "name": "stdout",
     "output_type": "stream",
     "text": [
      "loss: -0.87176 | bce: 0.02873 | dice: 0.90339 | 0 cls: 0.11378 | 1 cls: 0.16801 | 2 cls: 0.13575\n"
     ]
    },
    {
     "name": "stderr",
     "output_type": "stream",
     "text": [
      "Epoch 552, lr 6.220799999999998e-05: 100% 21/21 [00:10<00:00,  1.96it/s, 0 cls=0.15292, 1 cls=0.22733, 2 cls=0.18894, bce=0.05506, dice=0.88715, loss=-0.82912]\n"
     ]
    },
    {
     "name": "stdout",
     "output_type": "stream",
     "text": [
      "loss: -0.87186 | bce: 0.02863 | dice: 0.90332 | 0 cls: 0.11389 | 1 cls: 0.16769 | 2 cls: 0.13562\n"
     ]
    },
    {
     "name": "stderr",
     "output_type": "stream",
     "text": [
      "Epoch 553, lr 6.220799999999998e-05: 100% 21/21 [00:11<00:00,  1.86it/s, 0 cls=0.15434, 1 cls=0.22784, 2 cls=0.19019, bce=0.05471, dice=0.88584, loss=-0.82810]\n"
     ]
    },
    {
     "name": "stdout",
     "output_type": "stream",
     "text": [
      "loss: -0.87129 | bce: 0.02856 | dice: 0.90269 | 0 cls: 0.11427 | 1 cls: 0.16890 | 2 cls: 0.13644\n"
     ]
    },
    {
     "name": "stderr",
     "output_type": "stream",
     "text": [
      "Epoch 554, lr 6.220799999999998e-05: 100% 21/21 [00:10<00:00,  1.94it/s, 0 cls=0.15806, 1 cls=0.22956, 2 cls=0.19297, bce=0.05574, dice=0.88417, loss=-0.82541]\n"
     ]
    },
    {
     "name": "stdout",
     "output_type": "stream",
     "text": [
      "loss: -0.87201 | bce: 0.02893 | dice: 0.90361 | 0 cls: 0.11377 | 1 cls: 0.16739 | 2 cls: 0.13593\n"
     ]
    },
    {
     "name": "stderr",
     "output_type": "stream",
     "text": [
      "Epoch 555, lr 6.220799999999998e-05: 100% 21/21 [00:11<00:00,  1.89it/s, 0 cls=0.15551, 1 cls=0.22894, 2 cls=0.19121, bce=0.05549, dice=0.88560, loss=-0.82704]\n"
     ]
    },
    {
     "name": "stdout",
     "output_type": "stream",
     "text": [
      "loss: -0.87198 | bce: 0.02878 | dice: 0.90346 | 0 cls: 0.11396 | 1 cls: 0.16725 | 2 cls: 0.13583\n"
     ]
    },
    {
     "name": "stderr",
     "output_type": "stream",
     "text": [
      "Epoch 556, lr 6.220799999999998e-05: 100% 21/21 [00:10<00:00,  1.97it/s, 0 cls=0.15558, 1 cls=0.22612, 2 cls=0.18985, bce=0.05458, dice=0.88560, loss=-0.82790]\n"
     ]
    },
    {
     "name": "stdout",
     "output_type": "stream",
     "text": [
      "loss: -0.87080 | bce: 0.02877 | dice: 0.90222 | 0 cls: 0.11482 | 1 cls: 0.16904 | 2 cls: 0.13779\n"
     ]
    },
    {
     "name": "stderr",
     "output_type": "stream",
     "text": [
      "Epoch 557, lr 6.220799999999998e-05: 100% 21/21 [00:11<00:00,  1.89it/s, 0 cls=0.15370, 1 cls=0.22766, 2 cls=0.19044, bce=0.05512, dice=0.88639, loss=-0.82847]\n"
     ]
    },
    {
     "name": "stdout",
     "output_type": "stream",
     "text": [
      "loss: -0.87150 | bce: 0.02898 | dice: 0.90323 | 0 cls: 0.11381 | 1 cls: 0.16893 | 2 cls: 0.13661\n"
     ]
    },
    {
     "name": "stderr",
     "output_type": "stream",
     "text": [
      "Epoch 558, lr 6.220799999999998e-05: 100% 21/21 [00:10<00:00,  1.93it/s, 0 cls=0.15172, 1 cls=0.22480, 2 cls=0.18787, bce=0.05452, dice=0.88797, loss=-0.83055]\n"
     ]
    },
    {
     "name": "stdout",
     "output_type": "stream",
     "text": [
      "loss: -0.87200 | bce: 0.02886 | dice: 0.90354 | 0 cls: 0.11377 | 1 cls: 0.16765 | 2 cls: 0.13576\n"
     ]
    },
    {
     "name": "stderr",
     "output_type": "stream",
     "text": [
      "Epoch 559, lr 6.220799999999998e-05: 100% 21/21 [00:10<00:00,  1.92it/s, 0 cls=0.16131, 1 cls=0.23291, 2 cls=0.19660, bce=0.05706, dice=0.88250, loss=-0.82229]\n"
     ]
    },
    {
     "name": "stdout",
     "output_type": "stream",
     "text": [
      "loss: -0.87166 | bce: 0.02859 | dice: 0.90295 | 0 cls: 0.11430 | 1 cls: 0.16774 | 2 cls: 0.13617\n"
     ]
    },
    {
     "name": "stderr",
     "output_type": "stream",
     "text": [
      "Epoch 560, lr 6.220799999999998e-05: 100% 21/21 [00:10<00:00,  1.94it/s, 0 cls=0.15340, 1 cls=0.22489, 2 cls=0.18885, bce=0.05367, dice=0.88615, loss=-0.82961]\n"
     ]
    },
    {
     "name": "stdout",
     "output_type": "stream",
     "text": [
      "loss: -0.87197 | bce: 0.02879 | dice: 0.90350 | 0 cls: 0.11369 | 1 cls: 0.16761 | 2 cls: 0.13602\n"
     ]
    },
    {
     "name": "stderr",
     "output_type": "stream",
     "text": [
      "Epoch 561, lr 6.220799999999998e-05: 100% 21/21 [00:11<00:00,  1.90it/s, 0 cls=0.15859, 1 cls=0.23071, 2 cls=0.19350, bce=0.05595, dice=0.88381, loss=-0.82470]\n"
     ]
    },
    {
     "name": "stdout",
     "output_type": "stream",
     "text": [
      "loss: -0.87196 | bce: 0.02869 | dice: 0.90341 | 0 cls: 0.11376 | 1 cls: 0.16769 | 2 cls: 0.13583\n"
     ]
    },
    {
     "name": "stderr",
     "output_type": "stream",
     "text": [
      "Epoch 562, lr 6.220799999999998e-05: 100% 21/21 [00:11<00:00,  1.90it/s, 0 cls=0.15566, 1 cls=0.22818, 2 cls=0.19055, bce=0.05469, dice=0.88513, loss=-0.82730]\n"
     ]
    },
    {
     "name": "stdout",
     "output_type": "stream",
     "text": [
      "loss: -0.87223 | bce: 0.02862 | dice: 0.90361 | 0 cls: 0.11384 | 1 cls: 0.16660 | 2 cls: 0.13537\n"
     ]
    },
    {
     "name": "stderr",
     "output_type": "stream",
     "text": [
      "Epoch 563, lr 6.220799999999998e-05: 100% 21/21 [00:10<00:00,  1.93it/s, 0 cls=0.16138, 1 cls=0.23495, 2 cls=0.19785, bce=0.05695, dice=0.88157, loss=-0.82164]\n"
     ]
    },
    {
     "name": "stdout",
     "output_type": "stream",
     "text": [
      "loss: -0.87183 | bce: 0.02855 | dice: 0.90316 | 0 cls: 0.11400 | 1 cls: 0.16759 | 2 cls: 0.13575\n"
     ]
    },
    {
     "name": "stderr",
     "output_type": "stream",
     "text": [
      "Epoch 564, lr 6.220799999999998e-05: 100% 21/21 [00:11<00:00,  1.90it/s, 0 cls=0.15798, 1 cls=0.23178, 2 cls=0.19452, bce=0.05604, dice=0.88366, loss=-0.82466]\n"
     ]
    },
    {
     "name": "stdout",
     "output_type": "stream",
     "text": [
      "loss: -0.87223 | bce: 0.02865 | dice: 0.90364 | 0 cls: 0.11389 | 1 cls: 0.16656 | 2 cls: 0.13516\n"
     ]
    },
    {
     "name": "stderr",
     "output_type": "stream",
     "text": [
      "Epoch 565, lr 6.220799999999998e-05: 100% 21/21 [00:11<00:00,  1.87it/s, 0 cls=0.15624, 1 cls=0.22928, 2 cls=0.19183, bce=0.05546, dice=0.88509, loss=-0.82652]\n"
     ]
    },
    {
     "name": "stdout",
     "output_type": "stream",
     "text": [
      "loss: -0.87145 | bce: 0.02882 | dice: 0.90306 | 0 cls: 0.11434 | 1 cls: 0.16805 | 2 cls: 0.13624\n"
     ]
    },
    {
     "name": "stderr",
     "output_type": "stream",
     "text": [
      "Epoch 566, lr 6.220799999999998e-05: 100% 21/21 [00:11<00:00,  1.91it/s, 0 cls=0.15332, 1 cls=0.22662, 2 cls=0.18930, bce=0.05469, dice=0.88673, loss=-0.82908]\n"
     ]
    },
    {
     "name": "stdout",
     "output_type": "stream",
     "text": [
      "loss: -0.87240 | bce: 0.02860 | dice: 0.90378 | 0 cls: 0.11360 | 1 cls: 0.16674 | 2 cls: 0.13504\n"
     ]
    },
    {
     "name": "stderr",
     "output_type": "stream",
     "text": [
      "Epoch 567, lr 6.220799999999998e-05: 100% 21/21 [00:10<00:00,  1.92it/s, 0 cls=0.14963, 1 cls=0.22268, 2 cls=0.18543, bce=0.05365, dice=0.88899, loss=-0.83253]\n"
     ]
    },
    {
     "name": "stdout",
     "output_type": "stream",
     "text": [
      "loss: -0.87169 | bce: 0.02872 | dice: 0.90316 | 0 cls: 0.11398 | 1 cls: 0.16813 | 2 cls: 0.13625\n"
     ]
    },
    {
     "name": "stderr",
     "output_type": "stream",
     "text": [
      "Epoch 568, lr 6.220799999999998e-05: 100% 21/21 [00:10<00:00,  1.92it/s, 0 cls=0.16007, 1 cls=0.23242, 2 cls=0.19528, bce=0.05643, dice=0.88281, loss=-0.82323]\n"
     ]
    },
    {
     "name": "stdout",
     "output_type": "stream",
     "text": [
      "loss: -0.87209 | bce: 0.02844 | dice: 0.90330 | 0 cls: 0.11400 | 1 cls: 0.16687 | 2 cls: 0.13545\n"
     ]
    },
    {
     "name": "stderr",
     "output_type": "stream",
     "text": [
      "Epoch 569, lr 6.220799999999998e-05: 100% 21/21 [00:11<00:00,  1.87it/s, 0 cls=0.15568, 1 cls=0.22916, 2 cls=0.19157, bce=0.05526, dice=0.88520, loss=-0.82691]\n"
     ]
    },
    {
     "name": "stdout",
     "output_type": "stream",
     "text": [
      "loss: -0.87159 | bce: 0.02905 | dice: 0.90329 | 0 cls: 0.11394 | 1 cls: 0.16826 | 2 cls: 0.13672\n"
     ]
    },
    {
     "name": "stderr",
     "output_type": "stream",
     "text": [
      "Epoch 570, lr 6.220799999999998e-05: 100% 21/21 [00:10<00:00,  1.93it/s, 0 cls=0.15625, 1 cls=0.22745, 2 cls=0.19130, bce=0.05560, dice=0.88555, loss=-0.82696]\n"
     ]
    },
    {
     "name": "stdout",
     "output_type": "stream",
     "text": [
      "loss: -0.87179 | bce: 0.02860 | dice: 0.90316 | 0 cls: 0.11404 | 1 cls: 0.16771 | 2 cls: 0.13581\n"
     ]
    },
    {
     "name": "stderr",
     "output_type": "stream",
     "text": [
      "Epoch 571, lr 6.220799999999998e-05: 100% 21/21 [00:10<00:00,  1.94it/s, 0 cls=0.15466, 1 cls=0.22753, 2 cls=0.19028, bce=0.05474, dice=0.88578, loss=-0.82800]\n"
     ]
    },
    {
     "name": "stdout",
     "output_type": "stream",
     "text": [
      "loss: -0.87198 | bce: 0.02861 | dice: 0.90329 | 0 cls: 0.11411 | 1 cls: 0.16702 | 2 cls: 0.13567\n"
     ]
    },
    {
     "name": "stderr",
     "output_type": "stream",
     "text": [
      "Epoch 572, lr 6.220799999999998e-05: 100% 21/21 [00:11<00:00,  1.90it/s, 0 cls=0.15026, 1 cls=0.22288, 2 cls=0.18568, bce=0.05350, dice=0.88848, loss=-0.83213]\n"
     ]
    },
    {
     "name": "stdout",
     "output_type": "stream",
     "text": [
      "loss: -0.87216 | bce: 0.02880 | dice: 0.90376 | 0 cls: 0.11365 | 1 cls: 0.16706 | 2 cls: 0.13548\n"
     ]
    },
    {
     "name": "stderr",
     "output_type": "stream",
     "text": [
      "Epoch 573, lr 6.220799999999998e-05: 100% 21/21 [00:10<00:00,  1.94it/s, 0 cls=0.15679, 1 cls=0.22696, 2 cls=0.19054, bce=0.05534, dice=0.88551, loss=-0.82691]\n"
     ]
    },
    {
     "name": "stdout",
     "output_type": "stream",
     "text": [
      "loss: -0.87216 | bce: 0.02858 | dice: 0.90352 | 0 cls: 0.11367 | 1 cls: 0.16733 | 2 cls: 0.13526\n"
     ]
    },
    {
     "name": "stderr",
     "output_type": "stream",
     "text": [
      "Epoch 574, lr 6.220799999999998e-05: 100% 21/21 [00:10<00:00,  1.93it/s, 0 cls=0.15942, 1 cls=0.23003, 2 cls=0.19436, bce=0.05569, dice=0.88316, loss=-0.82445]\n"
     ]
    },
    {
     "name": "stdout",
     "output_type": "stream",
     "text": [
      "loss: -0.87199 | bce: 0.02847 | dice: 0.90312 | 0 cls: 0.11407 | 1 cls: 0.16691 | 2 cls: 0.13595\n"
     ]
    },
    {
     "name": "stderr",
     "output_type": "stream",
     "text": [
      "Epoch 575, lr 6.220799999999998e-05: 100% 21/21 [00:10<00:00,  1.94it/s, 0 cls=0.15399, 1 cls=0.22819, 2 cls=0.19052, bce=0.05502, dice=0.88605, loss=-0.82818]\n"
     ]
    },
    {
     "name": "stdout",
     "output_type": "stream",
     "text": [
      "loss: -0.87200 | bce: 0.02881 | dice: 0.90355 | 0 cls: 0.11367 | 1 cls: 0.16762 | 2 cls: 0.13590\n"
     ]
    },
    {
     "name": "stderr",
     "output_type": "stream",
     "text": [
      "Epoch 576, lr 6.220799999999998e-05: 100% 21/21 [00:10<00:00,  1.93it/s, 0 cls=0.15762, 1 cls=0.22895, 2 cls=0.19212, bce=0.05504, dice=0.88424, loss=-0.82600]\n"
     ]
    },
    {
     "name": "stdout",
     "output_type": "stream",
     "text": [
      "loss: -0.87103 | bce: 0.02905 | dice: 0.90277 | 0 cls: 0.11438 | 1 cls: 0.16902 | 2 cls: 0.13746\n"
     ]
    },
    {
     "name": "stderr",
     "output_type": "stream",
     "text": [
      "Epoch 577, lr 6.220799999999998e-05: 100% 21/21 [00:10<00:00,  1.92it/s, 0 cls=0.15173, 1 cls=0.22259, 2 cls=0.18571, bce=0.05383, dice=0.88832, loss=-0.83134]\n"
     ]
    },
    {
     "name": "stdout",
     "output_type": "stream",
     "text": [
      "loss: -0.87093 | bce: 0.02889 | dice: 0.90265 | 0 cls: 0.11452 | 1 cls: 0.16917 | 2 cls: 0.13714\n"
     ]
    },
    {
     "name": "stderr",
     "output_type": "stream",
     "text": [
      "Epoch 578, lr 6.220799999999998e-05: 100% 21/21 [00:10<00:00,  1.95it/s, 0 cls=0.15616, 1 cls=0.22861, 2 cls=0.19157, bce=0.05534, dice=0.88511, loss=-0.82679]\n"
     ]
    },
    {
     "name": "stdout",
     "output_type": "stream",
     "text": [
      "loss: -0.87163 | bce: 0.02890 | dice: 0.90326 | 0 cls: 0.11413 | 1 cls: 0.16784 | 2 cls: 0.13634\n"
     ]
    },
    {
     "name": "stderr",
     "output_type": "stream",
     "text": [
      "Epoch 579, lr 6.220799999999998e-05: 100% 21/21 [00:10<00:00,  1.91it/s, 0 cls=0.15321, 1 cls=0.23028, 2 cls=0.19104, bce=0.05563, dice=0.88649, loss=-0.82800]\n"
     ]
    },
    {
     "name": "stdout",
     "output_type": "stream",
     "text": [
      "loss: -0.87185 | bce: 0.02852 | dice: 0.90307 | 0 cls: 0.11405 | 1 cls: 0.16734 | 2 cls: 0.13632\n"
     ]
    },
    {
     "name": "stderr",
     "output_type": "stream",
     "text": [
      "Epoch 580, lr 6.220799999999998e-05: 100% 21/21 [00:11<00:00,  1.89it/s, 0 cls=0.15132, 1 cls=0.22370, 2 cls=0.18695, bce=0.05361, dice=0.88776, loss=-0.83123]\n"
     ]
    },
    {
     "name": "stdout",
     "output_type": "stream",
     "text": [
      "loss: -0.87096 | bce: 0.02876 | dice: 0.90227 | 0 cls: 0.11491 | 1 cls: 0.16839 | 2 cls: 0.13787\n"
     ]
    },
    {
     "name": "stderr",
     "output_type": "stream",
     "text": [
      "Epoch 581, lr 6.220799999999998e-05: 100% 21/21 [00:10<00:00,  1.92it/s, 0 cls=0.15478, 1 cls=0.22713, 2 cls=0.19039, bce=0.05514, dice=0.88613, loss=-0.82799]\n"
     ]
    },
    {
     "name": "stdout",
     "output_type": "stream",
     "text": [
      "loss: -0.87128 | bce: 0.02871 | dice: 0.90264 | 0 cls: 0.11443 | 1 cls: 0.16869 | 2 cls: 0.13700\n"
     ]
    },
    {
     "name": "stderr",
     "output_type": "stream",
     "text": [
      "Epoch 582, lr 6.220799999999998e-05: 100% 21/21 [00:10<00:00,  1.92it/s, 0 cls=0.15662, 1 cls=0.23025, 2 cls=0.19245, bce=0.05506, dice=0.88417, loss=-0.82604]\n"
     ]
    },
    {
     "name": "stdout",
     "output_type": "stream",
     "text": [
      "loss: -0.87147 | bce: 0.02843 | dice: 0.90258 | 0 cls: 0.11455 | 1 cls: 0.16795 | 2 cls: 0.13650\n"
     ]
    },
    {
     "name": "stderr",
     "output_type": "stream",
     "text": [
      "Epoch 583, lr 6.220799999999998e-05: 100% 21/21 [00:10<00:00,  1.93it/s, 0 cls=0.14939, 1 cls=0.22247, 2 cls=0.18539, bce=0.05331, dice=0.88885, loss=-0.83280]\n"
     ]
    },
    {
     "name": "stdout",
     "output_type": "stream",
     "text": [
      "loss: -0.87148 | bce: 0.02847 | dice: 0.90270 | 0 cls: 0.11436 | 1 cls: 0.16803 | 2 cls: 0.13652\n"
     ]
    },
    {
     "name": "stderr",
     "output_type": "stream",
     "text": [
      "Epoch 584, lr 6.220799999999998e-05: 100% 21/21 [00:10<00:00,  1.93it/s, 0 cls=0.15691, 1 cls=0.23222, 2 cls=0.19396, bce=0.05659, dice=0.88469, loss=-0.82514]\n"
     ]
    },
    {
     "name": "stdout",
     "output_type": "stream",
     "text": [
      "loss: -0.87091 | bce: 0.02884 | dice: 0.90242 | 0 cls: 0.11471 | 1 cls: 0.16907 | 2 cls: 0.13753\n"
     ]
    },
    {
     "name": "stderr",
     "output_type": "stream",
     "text": [
      "Epoch 585, lr 6.220799999999998e-05: 100% 21/21 [00:10<00:00,  1.93it/s, 0 cls=0.15026, 1 cls=0.22382, 2 cls=0.18602, bce=0.05328, dice=0.88806, loss=-0.83186]\n"
     ]
    },
    {
     "name": "stdout",
     "output_type": "stream",
     "text": [
      "loss: -0.87114 | bce: 0.02909 | dice: 0.90295 | 0 cls: 0.11433 | 1 cls: 0.16879 | 2 cls: 0.13724\n"
     ]
    },
    {
     "name": "stderr",
     "output_type": "stream",
     "text": [
      "Epoch 586, lr 6.220799999999998e-05: 100% 21/21 [00:10<00:00,  1.95it/s, 0 cls=0.15391, 1 cls=0.22854, 2 cls=0.19042, bce=0.05453, dice=0.88567, loss=-0.82828]\n"
     ]
    },
    {
     "name": "stdout",
     "output_type": "stream",
     "text": [
      "loss: -0.87165 | bce: 0.02849 | dice: 0.90285 | 0 cls: 0.11437 | 1 cls: 0.16737 | 2 cls: 0.13641\n"
     ]
    },
    {
     "name": "stderr",
     "output_type": "stream",
     "text": [
      "Epoch 587, lr 6.220799999999998e-05: 100% 21/21 [00:12<00:00,  1.73it/s, 0 cls=0.15328, 1 cls=0.22598, 2 cls=0.18984, bce=0.05520, dice=0.88708, loss=-0.82914]\n"
     ]
    },
    {
     "name": "stdout",
     "output_type": "stream",
     "text": [
      "loss: -0.87197 | bce: 0.02856 | dice: 0.90322 | 0 cls: 0.11402 | 1 cls: 0.16683 | 2 cls: 0.13610\n"
     ]
    },
    {
     "name": "stderr",
     "output_type": "stream",
     "text": [
      "Epoch 588, lr 6.220799999999998e-05: 100% 21/21 [00:10<00:00,  1.93it/s, 0 cls=0.15708, 1 cls=0.22735, 2 cls=0.19158, bce=0.05602, dice=0.88555, loss=-0.82649]\n"
     ]
    },
    {
     "name": "stdout",
     "output_type": "stream",
     "text": [
      "loss: -0.87100 | bce: 0.02868 | dice: 0.90230 | 0 cls: 0.11467 | 1 cls: 0.16877 | 2 cls: 0.13766\n"
     ]
    },
    {
     "name": "stderr",
     "output_type": "stream",
     "text": [
      "Epoch 589, lr 6.220799999999998e-05: 100% 21/21 [00:10<00:00,  1.94it/s, 0 cls=0.15689, 1 cls=0.23079, 2 cls=0.19333, bce=0.05545, dice=0.88406, loss=-0.82566]\n"
     ]
    },
    {
     "name": "stdout",
     "output_type": "stream",
     "text": [
      "loss: -0.87185 | bce: 0.02869 | dice: 0.90323 | 0 cls: 0.11402 | 1 cls: 0.16732 | 2 cls: 0.13624\n"
     ]
    },
    {
     "name": "stderr",
     "output_type": "stream",
     "text": [
      "Epoch 590, lr 0.00118098: 100% 21/21 [00:10<00:00,  1.95it/s, 0 cls=0.16066, 1 cls=0.23238, 2 cls=0.19501, bce=0.05708, dice=0.88331, loss=-0.82282]\n"
     ]
    },
    {
     "name": "stdout",
     "output_type": "stream",
     "text": [
      "loss: -0.86082 | bce: 0.02839 | dice: 0.89235 | 0 cls: 0.12727 | 1 cls: 0.17740 | 2 cls: 0.14738\n"
     ]
    },
    {
     "name": "stderr",
     "output_type": "stream",
     "text": [
      "Epoch 591, lr 0.00118098: 100% 21/21 [00:11<00:00,  1.88it/s, 0 cls=0.19392, 1 cls=0.27037, 2 cls=0.23049, bce=0.06854, dice=0.86374, loss=-0.79109]\n"
     ]
    },
    {
     "name": "stdout",
     "output_type": "stream",
     "text": [
      "loss: -0.86656 | bce: 0.03020 | dice: 0.90038 | 0 cls: 0.12063 | 1 cls: 0.17060 | 2 cls: 0.13952\n"
     ]
    },
    {
     "name": "stderr",
     "output_type": "stream",
     "text": [
      "Epoch 592, lr 0.000354294: 100% 21/21 [00:14<00:00,  1.46it/s, 0 cls=0.18044, 1 cls=0.25925, 2 cls=0.21561, bce=0.06293, dice=0.87033, loss=-0.80312]\n"
     ]
    },
    {
     "name": "stdout",
     "output_type": "stream",
     "text": [
      "loss: -0.87083 | bce: 0.03093 | dice: 0.90439 | 0 cls: 0.11480 | 1 cls: 0.16905 | 2 cls: 0.13600\n"
     ]
    },
    {
     "name": "stderr",
     "output_type": "stream",
     "text": [
      "Epoch 593, lr 0.000354294: 100% 21/21 [00:14<00:00,  1.47it/s, 0 cls=0.16784, 1 cls=0.24579, 2 cls=0.20537, bce=0.05988, dice=0.87760, loss=-0.81435]\n"
     ]
    },
    {
     "name": "stdout",
     "output_type": "stream",
     "text": [
      "loss: -0.87202 | bce: 0.02951 | dice: 0.90380 | 0 cls: 0.11260 | 1 cls: 0.16903 | 2 cls: 0.13790\n"
     ]
    },
    {
     "name": "stderr",
     "output_type": "stream",
     "text": [
      "Epoch 594, lr 0.00010628820000000001: 100% 21/21 [00:11<00:00,  1.83it/s, 0 cls=0.16159, 1 cls=0.23753, 2 cls=0.19793, bce=0.05720, dice=0.88141, loss=-0.82086]\n"
     ]
    },
    {
     "name": "stdout",
     "output_type": "stream",
     "text": [
      "loss: -0.87347 | bce: 0.02875 | dice: 0.90480 | 0 cls: 0.11228 | 1 cls: 0.16581 | 2 cls: 0.13429\n"
     ]
    },
    {
     "name": "stderr",
     "output_type": "stream",
     "text": [
      "Epoch 595, lr 0.00118098: 100% 21/21 [00:10<00:00,  1.94it/s, 0 cls=0.16890, 1 cls=0.24522, 2 cls=0.20577, bce=0.06046, dice=0.87776, loss=-0.81391]\n"
     ]
    },
    {
     "name": "stdout",
     "output_type": "stream",
     "text": [
      "loss: -0.86518 | bce: 0.03048 | dice: 0.89779 | 0 cls: 0.12120 | 1 cls: 0.17616 | 2 cls: 0.14414\n"
     ]
    },
    {
     "name": "stderr",
     "output_type": "stream",
     "text": [
      "Epoch 596, lr 0.00118098: 100% 21/21 [00:10<00:00,  1.92it/s, 0 cls=0.17903, 1 cls=0.25317, 2 cls=0.21328, bce=0.06288, dice=0.87255, loss=-0.80559]\n"
     ]
    },
    {
     "name": "stdout",
     "output_type": "stream",
     "text": [
      "loss: -0.86942 | bce: 0.03170 | dice: 0.90365 | 0 cls: 0.11505 | 1 cls: 0.17224 | 2 cls: 0.13801\n"
     ]
    },
    {
     "name": "stderr",
     "output_type": "stream",
     "text": [
      "Epoch 597, lr 0.000354294: 100% 21/21 [00:10<00:00,  1.95it/s, 0 cls=0.17595, 1 cls=0.25248, 2 cls=0.21177, bce=0.06252, dice=0.87377, loss=-0.80746]\n"
     ]
    },
    {
     "name": "stdout",
     "output_type": "stream",
     "text": [
      "loss: -0.87017 | bce: 0.02879 | dice: 0.90196 | 0 cls: 0.11443 | 1 cls: 0.17306 | 2 cls: 0.13703\n"
     ]
    },
    {
     "name": "stderr",
     "output_type": "stream",
     "text": [
      "Epoch 598, lr 0.000354294: 100% 21/21 [00:10<00:00,  1.95it/s, 0 cls=0.16122, 1 cls=0.23612, 2 cls=0.19679, bce=0.05725, dice=0.88221, loss=-0.82143]\n"
     ]
    },
    {
     "name": "stdout",
     "output_type": "stream",
     "text": [
      "loss: -0.87142 | bce: 0.02973 | dice: 0.90403 | 0 cls: 0.11386 | 1 cls: 0.16939 | 2 cls: 0.13564\n"
     ]
    },
    {
     "name": "stderr",
     "output_type": "stream",
     "text": [
      "Epoch 599, lr 0.00010628820000000001: 100% 21/21 [00:10<00:00,  1.94it/s, 0 cls=0.16128, 1 cls=0.23414, 2 cls=0.19687, bce=0.05684, dice=0.88191, loss=-0.82203]\n"
     ]
    },
    {
     "name": "stdout",
     "output_type": "stream",
     "text": [
      "loss: -0.87164 | bce: 0.02914 | dice: 0.90388 | 0 cls: 0.11365 | 1 cls: 0.16920 | 2 cls: 0.13487\n"
     ]
    },
    {
     "name": "stderr",
     "output_type": "stream",
     "text": [
      "Epoch 600, lr 3.732479999999999e-05: 100% 21/21 [00:10<00:00,  1.92it/s, 0 cls=0.15993, 1 cls=0.23529, 2 cls=0.19601, bce=0.05702, dice=0.88256, loss=-0.82241]\n"
     ]
    },
    {
     "name": "stdout",
     "output_type": "stream",
     "text": [
      "loss: -0.87147 | bce: 0.02922 | dice: 0.90370 | 0 cls: 0.11334 | 1 cls: 0.17033 | 2 cls: 0.13559\n"
     ]
    },
    {
     "name": "stderr",
     "output_type": "stream",
     "text": [
      "Epoch 601, lr 3.732479999999999e-05: 100% 21/21 [00:10<00:00,  1.93it/s, 0 cls=0.16240, 1 cls=0.23539, 2 cls=0.19755, bce=0.05745, dice=0.88170, loss=-0.82086]\n"
     ]
    },
    {
     "name": "stdout",
     "output_type": "stream",
     "text": [
      "loss: -0.87146 | bce: 0.02940 | dice: 0.90374 | 0 cls: 0.11332 | 1 cls: 0.17050 | 2 cls: 0.13588\n"
     ]
    },
    {
     "name": "stderr",
     "output_type": "stream",
     "text": [
      "Epoch 602, lr 3.732479999999999e-05: 100% 21/21 [00:11<00:00,  1.87it/s, 0 cls=0.16179, 1 cls=0.23809, 2 cls=0.19859, bce=0.05688, dice=0.88056, loss=-0.82052]\n"
     ]
    },
    {
     "name": "stdout",
     "output_type": "stream",
     "text": [
      "loss: -0.87210 | bce: 0.02934 | dice: 0.90440 | 0 cls: 0.11287 | 1 cls: 0.16933 | 2 cls: 0.13472\n"
     ]
    },
    {
     "name": "stderr",
     "output_type": "stream",
     "text": [
      "Epoch 603, lr 3.732479999999999e-05: 100% 21/21 [00:10<00:00,  1.94it/s, 0 cls=0.16200, 1 cls=0.23612, 2 cls=0.19734, bce=0.05734, dice=0.88165, loss=-0.82100]\n"
     ]
    },
    {
     "name": "stdout",
     "output_type": "stream",
     "text": [
      "loss: -0.87211 | bce: 0.02918 | dice: 0.90422 | 0 cls: 0.11285 | 1 cls: 0.16933 | 2 cls: 0.13490\n"
     ]
    },
    {
     "name": "stderr",
     "output_type": "stream",
     "text": [
      "Epoch 604, lr 3.732479999999999e-05: 100% 21/21 [00:10<00:00,  1.95it/s, 0 cls=0.16949, 1 cls=0.24645, 2 cls=0.20717, bce=0.06019, dice=0.87664, loss=-0.81318]\n"
     ]
    },
    {
     "name": "stdout",
     "output_type": "stream",
     "text": [
      "loss: -0.87195 | bce: 0.02903 | dice: 0.90387 | 0 cls: 0.11302 | 1 cls: 0.16954 | 2 cls: 0.13520\n"
     ]
    },
    {
     "name": "stderr",
     "output_type": "stream",
     "text": [
      "Epoch 605, lr 3.732479999999999e-05: 100% 21/21 [00:11<00:00,  1.88it/s, 0 cls=0.16300, 1 cls=0.23532, 2 cls=0.19694, bce=0.05676, dice=0.88096, loss=-0.82075]\n"
     ]
    },
    {
     "name": "stdout",
     "output_type": "stream",
     "text": [
      "loss: -0.87192 | bce: 0.02913 | dice: 0.90393 | 0 cls: 0.11304 | 1 cls: 0.16960 | 2 cls: 0.13520\n"
     ]
    },
    {
     "name": "stderr",
     "output_type": "stream",
     "text": [
      "Epoch 606, lr 3.732479999999999e-05: 100% 21/21 [00:10<00:00,  1.92it/s, 0 cls=0.15673, 1 cls=0.22980, 2 cls=0.19274, bce=0.05601, dice=0.88502, loss=-0.82597]\n"
     ]
    },
    {
     "name": "stdout",
     "output_type": "stream",
     "text": [
      "loss: -0.87193 | bce: 0.02929 | dice: 0.90411 | 0 cls: 0.11307 | 1 cls: 0.16947 | 2 cls: 0.13508\n"
     ]
    },
    {
     "name": "stderr",
     "output_type": "stream",
     "text": [
      "Epoch 607, lr 3.732479999999999e-05: 100% 21/21 [00:11<00:00,  1.90it/s, 0 cls=0.16046, 1 cls=0.23344, 2 cls=0.19617, bce=0.05675, dice=0.88254, loss=-0.82266]\n"
     ]
    },
    {
     "name": "stdout",
     "output_type": "stream",
     "text": [
      "loss: -0.87157 | bce: 0.02919 | dice: 0.90354 | 0 cls: 0.11330 | 1 cls: 0.17033 | 2 cls: 0.13586\n"
     ]
    },
    {
     "name": "stderr",
     "output_type": "stream",
     "text": [
      "Epoch 608, lr 3.732479999999999e-05: 100% 21/21 [00:11<00:00,  1.90it/s, 0 cls=0.15852, 1 cls=0.23187, 2 cls=0.19435, bce=0.05621, dice=0.88355, loss=-0.82428]\n"
     ]
    },
    {
     "name": "stdout",
     "output_type": "stream",
     "text": [
      "loss: -0.87170 | bce: 0.02921 | dice: 0.90362 | 0 cls: 0.11321 | 1 cls: 0.17007 | 2 cls: 0.13589\n"
     ]
    },
    {
     "name": "stderr",
     "output_type": "stream",
     "text": [
      "Epoch 609, lr 3.732479999999999e-05: 100% 21/21 [00:11<00:00,  1.91it/s, 0 cls=0.16099, 1 cls=0.23012, 2 cls=0.19416, bce=0.05555, dice=0.88243, loss=-0.82356]\n"
     ]
    },
    {
     "name": "stdout",
     "output_type": "stream",
     "text": [
      "loss: -0.87156 | bce: 0.02932 | dice: 0.90365 | 0 cls: 0.11323 | 1 cls: 0.17045 | 2 cls: 0.13598\n"
     ]
    },
    {
     "name": "stderr",
     "output_type": "stream",
     "text": [
      "Epoch 610, lr 3.732479999999999e-05: 100% 21/21 [00:11<00:00,  1.90it/s, 0 cls=0.15787, 1 cls=0.22987, 2 cls=0.19244, bce=0.05565, dice=0.88429, loss=-0.82536]\n"
     ]
    },
    {
     "name": "stdout",
     "output_type": "stream",
     "text": [
      "loss: -0.87171 | bce: 0.02927 | dice: 0.90372 | 0 cls: 0.11319 | 1 cls: 0.17016 | 2 cls: 0.13573\n"
     ]
    },
    {
     "name": "stderr",
     "output_type": "stream",
     "text": [
      "Epoch 611, lr 3.732479999999999e-05: 100% 21/21 [00:10<00:00,  1.92it/s, 0 cls=0.15590, 1 cls=0.22741, 2 cls=0.19099, bce=0.05566, dice=0.88596, loss=-0.82723]\n"
     ]
    },
    {
     "name": "stdout",
     "output_type": "stream",
     "text": [
      "loss: -0.87164 | bce: 0.02910 | dice: 0.90346 | 0 cls: 0.11336 | 1 cls: 0.17003 | 2 cls: 0.13591\n"
     ]
    },
    {
     "name": "stderr",
     "output_type": "stream",
     "text": [
      "Epoch 612, lr 3.732479999999999e-05: 100% 21/21 [00:10<00:00,  1.92it/s, 0 cls=0.15984, 1 cls=0.23576, 2 cls=0.19655, bce=0.05672, dice=0.88222, loss=-0.82241]\n"
     ]
    },
    {
     "name": "stdout",
     "output_type": "stream",
     "text": [
      "loss: -0.87188 | bce: 0.02911 | dice: 0.90378 | 0 cls: 0.11321 | 1 cls: 0.16954 | 2 cls: 0.13539\n"
     ]
    },
    {
     "name": "stderr",
     "output_type": "stream",
     "text": [
      "Epoch 613, lr 3.732479999999999e-05: 100% 21/21 [00:11<00:00,  1.90it/s, 0 cls=0.16305, 1 cls=0.23577, 2 cls=0.19864, bce=0.05712, dice=0.88078, loss=-0.82053]\n"
     ]
    },
    {
     "name": "stdout",
     "output_type": "stream",
     "text": [
      "loss: -0.87171 | bce: 0.02908 | dice: 0.90351 | 0 cls: 0.11317 | 1 cls: 0.17015 | 2 cls: 0.13592\n"
     ]
    },
    {
     "name": "stderr",
     "output_type": "stream",
     "text": [
      "Epoch 614, lr 3.732479999999999e-05: 100% 21/21 [00:11<00:00,  1.87it/s, 0 cls=0.16238, 1 cls=0.23519, 2 cls=0.19744, bce=0.05744, dice=0.88169, loss=-0.82098]\n"
     ]
    },
    {
     "name": "stdout",
     "output_type": "stream",
     "text": [
      "loss: -0.87183 | bce: 0.02891 | dice: 0.90350 | 0 cls: 0.11323 | 1 cls: 0.16981 | 2 cls: 0.13555\n"
     ]
    },
    {
     "name": "stderr",
     "output_type": "stream",
     "text": [
      "Epoch 615, lr 3.732479999999999e-05: 100% 21/21 [00:11<00:00,  1.88it/s, 0 cls=0.15512, 1 cls=0.22837, 2 cls=0.19059, bce=0.05465, dice=0.88529, loss=-0.82757]\n"
     ]
    },
    {
     "name": "stdout",
     "output_type": "stream",
     "text": [
      "loss: -0.87166 | bce: 0.02898 | dice: 0.90343 | 0 cls: 0.11331 | 1 cls: 0.17019 | 2 cls: 0.13572\n"
     ]
    },
    {
     "name": "stderr",
     "output_type": "stream",
     "text": [
      "Epoch 616, lr 3.732479999999999e-05: 100% 21/21 [00:10<00:00,  1.96it/s, 0 cls=0.15974, 1 cls=0.23132, 2 cls=0.19431, bce=0.05625, dice=0.88330, loss=-0.82377]\n"
     ]
    },
    {
     "name": "stdout",
     "output_type": "stream",
     "text": [
      "loss: -0.87157 | bce: 0.02922 | dice: 0.90348 | 0 cls: 0.11332 | 1 cls: 0.17034 | 2 cls: 0.13614\n"
     ]
    },
    {
     "name": "stderr",
     "output_type": "stream",
     "text": [
      "Epoch 617, lr 3.732479999999999e-05: 100% 21/21 [00:11<00:00,  1.89it/s, 0 cls=0.15789, 1 cls=0.23294, 2 cls=0.19439, bce=0.05699, dice=0.88434, loss=-0.82431]\n"
     ]
    },
    {
     "name": "stdout",
     "output_type": "stream",
     "text": [
      "loss: -0.87194 | bce: 0.02887 | dice: 0.90352 | 0 cls: 0.11300 | 1 cls: 0.17003 | 2 cls: 0.13554\n"
     ]
    },
    {
     "name": "stderr",
     "output_type": "stream",
     "text": [
      "Epoch 618, lr 3.732479999999999e-05: 100% 21/21 [00:10<00:00,  1.93it/s, 0 cls=0.16202, 1 cls=0.23716, 2 cls=0.19911, bce=0.05753, dice=0.88129, loss=-0.82060]\n"
     ]
    },
    {
     "name": "stdout",
     "output_type": "stream",
     "text": [
      "loss: -0.87154 | bce: 0.02866 | dice: 0.90290 | 0 cls: 0.11343 | 1 cls: 0.17044 | 2 cls: 0.13616\n"
     ]
    },
    {
     "name": "stderr",
     "output_type": "stream",
     "text": [
      "Epoch 619, lr 3.732479999999999e-05: 100% 21/21 [00:10<00:00,  1.94it/s, 0 cls=0.15693, 1 cls=0.23051, 2 cls=0.19226, bce=0.05578, dice=0.88478, loss=-0.82578]\n"
     ]
    },
    {
     "name": "stdout",
     "output_type": "stream",
     "text": [
      "loss: -0.87147 | bce: 0.02895 | dice: 0.90310 | 0 cls: 0.11340 | 1 cls: 0.17057 | 2 cls: 0.13636\n"
     ]
    },
    {
     "name": "stderr",
     "output_type": "stream",
     "text": [
      "Epoch 620, lr 3.732479999999999e-05: 100% 21/21 [00:10<00:00,  1.95it/s, 0 cls=0.16110, 1 cls=0.23198, 2 cls=0.19531, bce=0.05618, dice=0.88234, loss=-0.82293]\n"
     ]
    },
    {
     "name": "stdout",
     "output_type": "stream",
     "text": [
      "loss: -0.87177 | bce: 0.02889 | dice: 0.90337 | 0 cls: 0.11327 | 1 cls: 0.16987 | 2 cls: 0.13583\n"
     ]
    },
    {
     "name": "stderr",
     "output_type": "stream",
     "text": [
      "Epoch 621, lr 3.732479999999999e-05: 100% 21/21 [00:10<00:00,  1.96it/s, 0 cls=0.15372, 1 cls=0.22619, 2 cls=0.18916, bce=0.05518, dice=0.88707, loss=-0.82894]\n"
     ]
    },
    {
     "name": "stdout",
     "output_type": "stream",
     "text": [
      "loss: -0.87187 | bce: 0.02900 | dice: 0.90361 | 0 cls: 0.11283 | 1 cls: 0.17021 | 2 cls: 0.13590\n"
     ]
    },
    {
     "name": "stderr",
     "output_type": "stream",
     "text": [
      "Epoch 622, lr 3.732479999999999e-05: 100% 21/21 [00:10<00:00,  1.93it/s, 0 cls=0.15386, 1 cls=0.22656, 2 cls=0.18952, bce=0.05481, dice=0.88648, loss=-0.82875]\n"
     ]
    },
    {
     "name": "stdout",
     "output_type": "stream",
     "text": [
      "loss: -0.87188 | bce: 0.02904 | dice: 0.90368 | 0 cls: 0.11290 | 1 cls: 0.17006 | 2 cls: 0.13575\n"
     ]
    },
    {
     "name": "stderr",
     "output_type": "stream",
     "text": [
      "Epoch 623, lr 3.732479999999999e-05: 100% 21/21 [00:10<00:00,  1.91it/s, 0 cls=0.15632, 1 cls=0.22977, 2 cls=0.19197, bce=0.05578, dice=0.88519, loss=-0.82629]\n"
     ]
    },
    {
     "name": "stdout",
     "output_type": "stream",
     "text": [
      "loss: -0.87180 | bce: 0.02901 | dice: 0.90357 | 0 cls: 0.11305 | 1 cls: 0.17012 | 2 cls: 0.13579\n"
     ]
    },
    {
     "name": "stderr",
     "output_type": "stream",
     "text": [
      "Epoch 624, lr 3.732479999999999e-05: 100% 21/21 [00:10<00:00,  1.93it/s, 0 cls=0.15510, 1 cls=0.22720, 2 cls=0.19003, bce=0.05509, dice=0.88607, loss=-0.82789]\n"
     ]
    },
    {
     "name": "stdout",
     "output_type": "stream",
     "text": [
      "loss: -0.87150 | bce: 0.02896 | dice: 0.90318 | 0 cls: 0.11346 | 1 cls: 0.17027 | 2 cls: 0.13622\n"
     ]
    },
    {
     "name": "stderr",
     "output_type": "stream",
     "text": [
      "Epoch 625, lr 3.732479999999999e-05: 100% 21/21 [00:10<00:00,  1.94it/s, 0 cls=0.15529, 1 cls=0.22719, 2 cls=0.19034, bce=0.05515, dice=0.88593, loss=-0.82770]\n"
     ]
    },
    {
     "name": "stdout",
     "output_type": "stream",
     "text": [
      "loss: -0.87120 | bce: 0.02891 | dice: 0.90272 | 0 cls: 0.11374 | 1 cls: 0.17080 | 2 cls: 0.13687\n"
     ]
    },
    {
     "name": "stderr",
     "output_type": "stream",
     "text": [
      "Epoch 626, lr 3.732479999999999e-05: 100% 21/21 [00:10<00:00,  1.96it/s, 0 cls=0.15684, 1 cls=0.22906, 2 cls=0.19268, bce=0.05499, dice=0.88414, loss=-0.82626]\n"
     ]
    },
    {
     "name": "stdout",
     "output_type": "stream",
     "text": [
      "loss: -0.87195 | bce: 0.02900 | dice: 0.90366 | 0 cls: 0.11286 | 1 cls: 0.17007 | 2 cls: 0.13572\n"
     ]
    },
    {
     "name": "stderr",
     "output_type": "stream",
     "text": [
      "Epoch 627, lr 3.732479999999999e-05: 100% 21/21 [00:10<00:00,  1.93it/s, 0 cls=0.15605, 1 cls=0.22838, 2 cls=0.19120, bce=0.05517, dice=0.88522, loss=-0.82700]\n"
     ]
    },
    {
     "name": "stdout",
     "output_type": "stream",
     "text": [
      "loss: -0.87202 | bce: 0.02878 | dice: 0.90350 | 0 cls: 0.11301 | 1 cls: 0.16969 | 2 cls: 0.13553\n"
     ]
    },
    {
     "name": "stderr",
     "output_type": "stream",
     "text": [
      "Epoch 628, lr 3.732479999999999e-05: 100% 21/21 [00:10<00:00,  1.93it/s, 0 cls=0.15629, 1 cls=0.23041, 2 cls=0.19211, bce=0.05564, dice=0.88484, loss=-0.82618]\n"
     ]
    },
    {
     "name": "stdout",
     "output_type": "stream",
     "text": [
      "loss: -0.87198 | bce: 0.02892 | dice: 0.90357 | 0 cls: 0.11295 | 1 cls: 0.17004 | 2 cls: 0.13564\n"
     ]
    },
    {
     "name": "stderr",
     "output_type": "stream",
     "text": [
      "Epoch 629, lr 3.732479999999999e-05: 100% 21/21 [00:11<00:00,  1.87it/s, 0 cls=0.15583, 1 cls=0.23063, 2 cls=0.19281, bce=0.05556, dice=0.88473, loss=-0.82625]\n"
     ]
    },
    {
     "name": "stdout",
     "output_type": "stream",
     "text": [
      "loss: -0.87218 | bce: 0.02895 | dice: 0.90381 | 0 cls: 0.11283 | 1 cls: 0.16953 | 2 cls: 0.13540\n"
     ]
    },
    {
     "name": "stderr",
     "output_type": "stream",
     "text": [
      "Epoch 630, lr 3.732479999999999e-05: 100% 21/21 [00:10<00:00,  1.92it/s, 0 cls=0.15547, 1 cls=0.22519, 2 cls=0.18923, bce=0.05507, dice=0.88646, loss=-0.82820]\n"
     ]
    },
    {
     "name": "stdout",
     "output_type": "stream",
     "text": [
      "loss: -0.87181 | bce: 0.02880 | dice: 0.90327 | 0 cls: 0.11324 | 1 cls: 0.16991 | 2 cls: 0.13591\n"
     ]
    },
    {
     "name": "stderr",
     "output_type": "stream",
     "text": [
      "Epoch 631, lr 3.732479999999999e-05: 100% 21/21 [00:10<00:00,  1.93it/s, 0 cls=0.15628, 1 cls=0.22863, 2 cls=0.19113, bce=0.05515, dice=0.88503, loss=-0.82668]\n"
     ]
    },
    {
     "name": "stdout",
     "output_type": "stream",
     "text": [
      "loss: -0.87189 | bce: 0.02881 | dice: 0.90340 | 0 cls: 0.11320 | 1 cls: 0.16970 | 2 cls: 0.13564\n"
     ]
    },
    {
     "name": "stderr",
     "output_type": "stream",
     "text": [
      "Epoch 632, lr 3.732479999999999e-05: 100% 21/21 [00:11<00:00,  1.89it/s, 0 cls=0.15671, 1 cls=0.22644, 2 cls=0.19001, bce=0.05472, dice=0.88518, loss=-0.82721]\n"
     ]
    },
    {
     "name": "stdout",
     "output_type": "stream",
     "text": [
      "loss: -0.87191 | bce: 0.02889 | dice: 0.90346 | 0 cls: 0.11307 | 1 cls: 0.16990 | 2 cls: 0.13578\n"
     ]
    },
    {
     "name": "stderr",
     "output_type": "stream",
     "text": [
      "Epoch 633, lr 3.732479999999999e-05: 100% 21/21 [00:10<00:00,  1.91it/s, 0 cls=0.15448, 1 cls=0.23021, 2 cls=0.19074, bce=0.05559, dice=0.88598, loss=-0.82730]\n"
     ]
    },
    {
     "name": "stdout",
     "output_type": "stream",
     "text": [
      "loss: -0.87234 | bce: 0.02870 | dice: 0.90370 | 0 cls: 0.11281 | 1 cls: 0.16907 | 2 cls: 0.13527\n"
     ]
    },
    {
     "name": "stderr",
     "output_type": "stream",
     "text": [
      "Epoch 634, lr 3.732479999999999e-05: 100% 21/21 [00:11<00:00,  1.90it/s, 0 cls=0.15716, 1 cls=0.23307, 2 cls=0.19431, bce=0.05634, dice=0.88403, loss=-0.82474]\n"
     ]
    },
    {
     "name": "stdout",
     "output_type": "stream",
     "text": [
      "loss: -0.87199 | bce: 0.02878 | dice: 0.90343 | 0 cls: 0.11297 | 1 cls: 0.16984 | 2 cls: 0.13580\n"
     ]
    },
    {
     "name": "stderr",
     "output_type": "stream",
     "text": [
      "Epoch 635, lr 3.732479999999999e-05: 100% 21/21 [00:11<00:00,  1.88it/s, 0 cls=0.15856, 1 cls=0.23096, 2 cls=0.19410, bce=0.05580, dice=0.88340, loss=-0.82459]\n"
     ]
    },
    {
     "name": "stdout",
     "output_type": "stream",
     "text": [
      "loss: -0.87215 | bce: 0.02877 | dice: 0.90361 | 0 cls: 0.11297 | 1 cls: 0.16922 | 2 cls: 0.13544\n"
     ]
    },
    {
     "name": "stderr",
     "output_type": "stream",
     "text": [
      "Epoch 636, lr 3.732479999999999e-05: 100% 21/21 [00:10<00:00,  1.93it/s, 0 cls=0.15524, 1 cls=0.22993, 2 cls=0.19140, bce=0.05564, dice=0.88563, loss=-0.82700]\n"
     ]
    },
    {
     "name": "stdout",
     "output_type": "stream",
     "text": [
      "loss: -0.87218 | bce: 0.02869 | dice: 0.90361 | 0 cls: 0.11293 | 1 cls: 0.16922 | 2 cls: 0.13531\n"
     ]
    },
    {
     "name": "stderr",
     "output_type": "stream",
     "text": [
      "Epoch 637, lr 3.732479999999999e-05: 100% 21/21 [00:10<00:00,  1.92it/s, 0 cls=0.15750, 1 cls=0.23145, 2 cls=0.19326, bce=0.05632, dice=0.88457, loss=-0.82509]\n"
     ]
    },
    {
     "name": "stdout",
     "output_type": "stream",
     "text": [
      "loss: -0.87194 | bce: 0.02864 | dice: 0.90329 | 0 cls: 0.11320 | 1 cls: 0.16950 | 2 cls: 0.13565\n"
     ]
    },
    {
     "name": "stderr",
     "output_type": "stream",
     "text": [
      "Epoch 638, lr 3.732479999999999e-05: 100% 21/21 [00:11<00:00,  1.88it/s, 0 cls=0.15480, 1 cls=0.22673, 2 cls=0.18945, bce=0.05458, dice=0.88590, loss=-0.82824]\n"
     ]
    },
    {
     "name": "stdout",
     "output_type": "stream",
     "text": [
      "loss: -0.87175 | bce: 0.02897 | dice: 0.90339 | 0 cls: 0.11324 | 1 cls: 0.16996 | 2 cls: 0.13602\n"
     ]
    },
    {
     "name": "stderr",
     "output_type": "stream",
     "text": [
      "Epoch 639, lr 3.732479999999999e-05: 100% 21/21 [00:10<00:00,  1.95it/s, 0 cls=0.15180, 1 cls=0.22569, 2 cls=0.18803, bce=0.05447, dice=0.88764, loss=-0.83028]\n"
     ]
    },
    {
     "name": "stdout",
     "output_type": "stream",
     "text": [
      "loss: -0.87186 | bce: 0.02875 | dice: 0.90330 | 0 cls: 0.11313 | 1 cls: 0.16980 | 2 cls: 0.13589\n"
     ]
    },
    {
     "name": "stderr",
     "output_type": "stream",
     "text": [
      "Epoch 640, lr 3.732479999999999e-05: 100% 21/21 [00:11<00:00,  1.90it/s, 0 cls=0.15379, 1 cls=0.22755, 2 cls=0.18924, bce=0.05458, dice=0.88630, loss=-0.82867]\n"
     ]
    },
    {
     "name": "stdout",
     "output_type": "stream",
     "text": [
      "loss: -0.87188 | bce: 0.02894 | dice: 0.90348 | 0 cls: 0.11324 | 1 cls: 0.16949 | 2 cls: 0.13583\n"
     ]
    },
    {
     "name": "stderr",
     "output_type": "stream",
     "text": [
      "Epoch 641, lr 3.732479999999999e-05: 100% 21/21 [00:10<00:00,  1.93it/s, 0 cls=0.15827, 1 cls=0.22934, 2 cls=0.19240, bce=0.05550, dice=0.88411, loss=-0.82538]\n"
     ]
    },
    {
     "name": "stdout",
     "output_type": "stream",
     "text": [
      "loss: -0.87217 | bce: 0.02890 | dice: 0.90381 | 0 cls: 0.11295 | 1 cls: 0.16899 | 2 cls: 0.13538\n"
     ]
    },
    {
     "name": "stderr",
     "output_type": "stream",
     "text": [
      "Epoch 642, lr 3.732479999999999e-05: 100% 21/21 [00:11<00:00,  1.90it/s, 0 cls=0.15371, 1 cls=0.22851, 2 cls=0.19023, bce=0.05570, dice=0.88681, loss=-0.82821]\n"
     ]
    },
    {
     "name": "stdout",
     "output_type": "stream",
     "text": [
      "loss: -0.87180 | bce: 0.02889 | dice: 0.90339 | 0 cls: 0.11301 | 1 cls: 0.17002 | 2 cls: 0.13614\n"
     ]
    },
    {
     "name": "stderr",
     "output_type": "stream",
     "text": [
      "Epoch 643, lr 3.732479999999999e-05: 100% 21/21 [00:10<00:00,  1.91it/s, 0 cls=0.15667, 1 cls=0.23166, 2 cls=0.19354, bce=0.05683, dice=0.88521, loss=-0.82534]\n"
     ]
    },
    {
     "name": "stdout",
     "output_type": "stream",
     "text": [
      "loss: -0.87201 | bce: 0.02867 | dice: 0.90345 | 0 cls: 0.11298 | 1 cls: 0.16952 | 2 cls: 0.13557\n"
     ]
    },
    {
     "name": "stderr",
     "output_type": "stream",
     "text": [
      "Epoch 644, lr 3.732479999999999e-05: 100% 21/21 [00:11<00:00,  1.85it/s, 0 cls=0.15350, 1 cls=0.22499, 2 cls=0.18847, bce=0.05544, dice=0.88792, loss=-0.82938]\n"
     ]
    },
    {
     "name": "stdout",
     "output_type": "stream",
     "text": [
      "loss: -0.87171 | bce: 0.02888 | dice: 0.90324 | 0 cls: 0.11337 | 1 cls: 0.16957 | 2 cls: 0.13627\n"
     ]
    },
    {
     "name": "stderr",
     "output_type": "stream",
     "text": [
      "Epoch 645, lr 3.732479999999999e-05: 100% 21/21 [00:10<00:00,  1.94it/s, 0 cls=0.15445, 1 cls=0.22947, 2 cls=0.19126, bce=0.05590, dice=0.88624, loss=-0.82749]\n"
     ]
    },
    {
     "name": "stdout",
     "output_type": "stream",
     "text": [
      "loss: -0.87165 | bce: 0.02881 | dice: 0.90314 | 0 cls: 0.11344 | 1 cls: 0.16970 | 2 cls: 0.13626\n"
     ]
    },
    {
     "name": "stderr",
     "output_type": "stream",
     "text": [
      "Epoch 646, lr 3.732479999999999e-05: 100% 21/21 [00:11<00:00,  1.86it/s, 0 cls=0.15544, 1 cls=0.22710, 2 cls=0.19038, bce=0.05557, dice=0.88633, loss=-0.82763]\n"
     ]
    },
    {
     "name": "stdout",
     "output_type": "stream",
     "text": [
      "loss: -0.87201 | bce: 0.02862 | dice: 0.90329 | 0 cls: 0.11326 | 1 cls: 0.16906 | 2 cls: 0.13570\n"
     ]
    },
    {
     "name": "stderr",
     "output_type": "stream",
     "text": [
      "Epoch 647, lr 3.732479999999999e-05: 100% 21/21 [00:11<00:00,  1.89it/s, 0 cls=0.15645, 1 cls=0.22913, 2 cls=0.19203, bce=0.05581, dice=0.88523, loss=-0.82637]\n"
     ]
    },
    {
     "name": "stdout",
     "output_type": "stream",
     "text": [
      "loss: -0.87173 | bce: 0.02866 | dice: 0.90306 | 0 cls: 0.11341 | 1 cls: 0.16966 | 2 cls: 0.13611\n"
     ]
    },
    {
     "name": "stderr",
     "output_type": "stream",
     "text": [
      "Epoch 648, lr 3.732479999999999e-05: 100% 21/21 [00:10<00:00,  1.93it/s, 0 cls=0.15318, 1 cls=0.22592, 2 cls=0.18861, bce=0.05439, dice=0.88692, loss=-0.82943]\n"
     ]
    },
    {
     "name": "stdout",
     "output_type": "stream",
     "text": [
      "loss: -0.87175 | bce: 0.02854 | dice: 0.90292 | 0 cls: 0.11363 | 1 cls: 0.16912 | 2 cls: 0.13618\n"
     ]
    },
    {
     "name": "stderr",
     "output_type": "stream",
     "text": [
      "Epoch 649, lr 3.732479999999999e-05: 100% 21/21 [00:10<00:00,  1.93it/s, 0 cls=0.15931, 1 cls=0.23488, 2 cls=0.19595, bce=0.05647, dice=0.88250, loss=-0.82294]\n"
     ]
    },
    {
     "name": "stdout",
     "output_type": "stream",
     "text": [
      "loss: -0.87190 | bce: 0.02854 | dice: 0.90308 | 0 cls: 0.11355 | 1 cls: 0.16880 | 2 cls: 0.13599\n"
     ]
    },
    {
     "name": "stderr",
     "output_type": "stream",
     "text": [
      "Epoch 650, lr 3.732479999999999e-05: 100% 21/21 [00:10<00:00,  1.91it/s, 0 cls=0.15279, 1 cls=0.22416, 2 cls=0.18768, bce=0.05434, dice=0.88748, loss=-0.83020]\n"
     ]
    },
    {
     "name": "stdout",
     "output_type": "stream",
     "text": [
      "loss: -0.87192 | bce: 0.02861 | dice: 0.90318 | 0 cls: 0.11347 | 1 cls: 0.16889 | 2 cls: 0.13588\n"
     ]
    },
    {
     "name": "stderr",
     "output_type": "stream",
     "text": [
      "Epoch 651, lr 3.732479999999999e-05: 100% 21/21 [00:10<00:00,  1.97it/s, 0 cls=0.15716, 1 cls=0.22855, 2 cls=0.19204, bce=0.05511, dice=0.88444, loss=-0.82627]\n"
     ]
    },
    {
     "name": "stdout",
     "output_type": "stream",
     "text": [
      "loss: -0.87200 | bce: 0.02858 | dice: 0.90323 | 0 cls: 0.11347 | 1 cls: 0.16864 | 2 cls: 0.13572\n"
     ]
    },
    {
     "name": "stderr",
     "output_type": "stream",
     "text": [
      "Epoch 652, lr 3.732479999999999e-05: 100% 21/21 [00:10<00:00,  1.91it/s, 0 cls=0.15671, 1 cls=0.22910, 2 cls=0.19188, bce=0.05562, dice=0.88498, loss=-0.82630]\n"
     ]
    },
    {
     "name": "stdout",
     "output_type": "stream",
     "text": [
      "loss: -0.87198 | bce: 0.02876 | dice: 0.90346 | 0 cls: 0.11329 | 1 cls: 0.16893 | 2 cls: 0.13570\n"
     ]
    },
    {
     "name": "stderr",
     "output_type": "stream",
     "text": [
      "Epoch 653, lr 3.732479999999999e-05: 100% 21/21 [00:10<00:00,  1.96it/s, 0 cls=0.15639, 1 cls=0.22810, 2 cls=0.19189, bce=0.05630, dice=0.88594, loss=-0.82660]\n"
     ]
    },
    {
     "name": "stdout",
     "output_type": "stream",
     "text": [
      "loss: -0.87190 | bce: 0.02866 | dice: 0.90325 | 0 cls: 0.11335 | 1 cls: 0.16902 | 2 cls: 0.13588\n"
     ]
    },
    {
     "name": "stderr",
     "output_type": "stream",
     "text": [
      "Epoch 654, lr 3.732479999999999e-05: 100% 21/21 [00:10<00:00,  1.93it/s, 0 cls=0.15440, 1 cls=0.22650, 2 cls=0.18884, bce=0.05421, dice=0.88599, loss=-0.82864]\n"
     ]
    },
    {
     "name": "stdout",
     "output_type": "stream",
     "text": [
      "loss: -0.87174 | bce: 0.02879 | dice: 0.90318 | 0 cls: 0.11331 | 1 cls: 0.16958 | 2 cls: 0.13630\n"
     ]
    },
    {
     "name": "stderr",
     "output_type": "stream",
     "text": [
      "Epoch 655, lr 3.732479999999999e-05: 100% 21/21 [00:11<00:00,  1.89it/s, 0 cls=0.15417, 1 cls=0.22868, 2 cls=0.19049, bce=0.05468, dice=0.88569, loss=-0.82796]\n"
     ]
    },
    {
     "name": "stdout",
     "output_type": "stream",
     "text": [
      "loss: -0.87209 | bce: 0.02881 | dice: 0.90354 | 0 cls: 0.11312 | 1 cls: 0.16878 | 2 cls: 0.13587\n"
     ]
    },
    {
     "name": "stderr",
     "output_type": "stream",
     "text": [
      "Epoch 656, lr 3.732479999999999e-05: 100% 21/21 [00:10<00:00,  1.92it/s, 0 cls=0.15531, 1 cls=0.22884, 2 cls=0.19163, bce=0.05605, dice=0.88600, loss=-0.82705]\n"
     ]
    },
    {
     "name": "stdout",
     "output_type": "stream",
     "text": [
      "loss: -0.87156 | bce: 0.02886 | dice: 0.90302 | 0 cls: 0.11363 | 1 cls: 0.16961 | 2 cls: 0.13654\n"
     ]
    },
    {
     "name": "stderr",
     "output_type": "stream",
     "text": [
      "Epoch 657, lr 3.732479999999999e-05: 100% 21/21 [00:10<00:00,  1.92it/s, 0 cls=0.15735, 1 cls=0.23018, 2 cls=0.19257, bce=0.05531, dice=0.88410, loss=-0.82562]\n"
     ]
    },
    {
     "name": "stdout",
     "output_type": "stream",
     "text": [
      "loss: -0.87188 | bce: 0.02875 | dice: 0.90328 | 0 cls: 0.11347 | 1 cls: 0.16889 | 2 cls: 0.13596\n"
     ]
    },
    {
     "name": "stderr",
     "output_type": "stream",
     "text": [
      "Epoch 658, lr 3.732479999999999e-05: 100% 21/21 [00:10<00:00,  1.94it/s, 0 cls=0.15601, 1 cls=0.22746, 2 cls=0.19039, bce=0.05552, dice=0.88584, loss=-0.82718]\n"
     ]
    },
    {
     "name": "stdout",
     "output_type": "stream",
     "text": [
      "loss: -0.87151 | bce: 0.02873 | dice: 0.90289 | 0 cls: 0.11369 | 1 cls: 0.16959 | 2 cls: 0.13650\n"
     ]
    },
    {
     "name": "stderr",
     "output_type": "stream",
     "text": [
      "Epoch 659, lr 3.732479999999999e-05: 100% 21/21 [00:10<00:00,  1.91it/s, 0 cls=0.16223, 1 cls=0.23445, 2 cls=0.19778, bce=0.05664, dice=0.88120, loss=-0.82143]\n"
     ]
    },
    {
     "name": "stdout",
     "output_type": "stream",
     "text": [
      "loss: -0.87200 | bce: 0.02874 | dice: 0.90337 | 0 cls: 0.11346 | 1 cls: 0.16853 | 2 cls: 0.13579\n"
     ]
    },
    {
     "name": "stderr",
     "output_type": "stream",
     "text": [
      "Epoch 660, lr 3.732479999999999e-05: 100% 21/21 [00:11<00:00,  1.90it/s, 0 cls=0.15509, 1 cls=0.23092, 2 cls=0.19197, bce=0.05573, dice=0.88531, loss=-0.82669]\n"
     ]
    },
    {
     "name": "stdout",
     "output_type": "stream",
     "text": [
      "loss: -0.87222 | bce: 0.02884 | dice: 0.90368 | 0 cls: 0.11309 | 1 cls: 0.16856 | 2 cls: 0.13560\n"
     ]
    },
    {
     "name": "stderr",
     "output_type": "stream",
     "text": [
      "Epoch 661, lr 3.732479999999999e-05: 100% 21/21 [00:10<00:00,  1.95it/s, 0 cls=0.15696, 1 cls=0.22593, 2 cls=0.19112, bce=0.05563, dice=0.88566, loss=-0.82705]\n"
     ]
    },
    {
     "name": "stdout",
     "output_type": "stream",
     "text": [
      "loss: -0.87165 | bce: 0.02866 | dice: 0.90291 | 0 cls: 0.11367 | 1 cls: 0.16930 | 2 cls: 0.13645\n"
     ]
    },
    {
     "name": "stderr",
     "output_type": "stream",
     "text": [
      "Epoch 662, lr 3.732479999999999e-05: 100% 21/21 [00:10<00:00,  1.93it/s, 0 cls=0.15658, 1 cls=0.22825, 2 cls=0.19159, bce=0.05467, dice=0.88447, loss=-0.82677]\n"
     ]
    },
    {
     "name": "stdout",
     "output_type": "stream",
     "text": [
      "loss: -0.87200 | bce: 0.02880 | dice: 0.90343 | 0 cls: 0.11323 | 1 cls: 0.16880 | 2 cls: 0.13597\n"
     ]
    },
    {
     "name": "stderr",
     "output_type": "stream",
     "text": [
      "Epoch 663, lr 3.732479999999999e-05: 100% 21/21 [00:11<00:00,  1.90it/s, 0 cls=0.15334, 1 cls=0.22679, 2 cls=0.18935, bce=0.05502, dice=0.88691, loss=-0.82896]\n"
     ]
    },
    {
     "name": "stdout",
     "output_type": "stream",
     "text": [
      "loss: -0.87175 | bce: 0.02886 | dice: 0.90329 | 0 cls: 0.11334 | 1 cls: 0.16931 | 2 cls: 0.13629\n"
     ]
    },
    {
     "name": "stderr",
     "output_type": "stream",
     "text": [
      "Epoch 664, lr 3.732479999999999e-05: 100% 21/21 [00:10<00:00,  1.93it/s, 0 cls=0.15556, 1 cls=0.22703, 2 cls=0.19074, bce=0.05522, dice=0.88580, loss=-0.82755]\n"
     ]
    },
    {
     "name": "stdout",
     "output_type": "stream",
     "text": [
      "loss: -0.87169 | bce: 0.02878 | dice: 0.90311 | 0 cls: 0.11353 | 1 cls: 0.16911 | 2 cls: 0.13642\n"
     ]
    },
    {
     "name": "stderr",
     "output_type": "stream",
     "text": [
      "Epoch 665, lr 3.732479999999999e-05: 100% 21/21 [00:10<00:00,  1.92it/s, 0 cls=0.15463, 1 cls=0.22736, 2 cls=0.19029, bce=0.05459, dice=0.88565, loss=-0.82820]\n"
     ]
    },
    {
     "name": "stdout",
     "output_type": "stream",
     "text": [
      "loss: -0.87197 | bce: 0.02864 | dice: 0.90325 | 0 cls: 0.11319 | 1 cls: 0.16899 | 2 cls: 0.13606\n"
     ]
    },
    {
     "name": "stderr",
     "output_type": "stream",
     "text": [
      "Epoch 666, lr 3.732479999999999e-05: 100% 21/21 [00:11<00:00,  1.90it/s, 0 cls=0.15646, 1 cls=0.22868, 2 cls=0.19138, bce=0.05500, dice=0.88489, loss=-0.82673]\n"
     ]
    },
    {
     "name": "stdout",
     "output_type": "stream",
     "text": [
      "loss: -0.87206 | bce: 0.02881 | dice: 0.90355 | 0 cls: 0.11300 | 1 cls: 0.16902 | 2 cls: 0.13589\n"
     ]
    },
    {
     "name": "stderr",
     "output_type": "stream",
     "text": [
      "Epoch 667, lr 3.732479999999999e-05: 100% 21/21 [00:10<00:00,  1.93it/s, 0 cls=0.15305, 1 cls=0.22408, 2 cls=0.18741, bce=0.05442, dice=0.88752, loss=-0.83009]\n"
     ]
    },
    {
     "name": "stdout",
     "output_type": "stream",
     "text": [
      "loss: -0.87186 | bce: 0.02868 | dice: 0.90321 | 0 cls: 0.11339 | 1 cls: 0.16898 | 2 cls: 0.13606\n"
     ]
    },
    {
     "name": "stderr",
     "output_type": "stream",
     "text": [
      "Epoch 668, lr 3.732479999999999e-05: 100% 21/21 [00:10<00:00,  1.93it/s, 0 cls=0.14944, 1 cls=0.22396, 2 cls=0.18592, bce=0.05370, dice=0.88881, loss=-0.83234]\n"
     ]
    },
    {
     "name": "stdout",
     "output_type": "stream",
     "text": [
      "loss: -0.87176 | bce: 0.02890 | dice: 0.90336 | 0 cls: 0.11332 | 1 cls: 0.16939 | 2 cls: 0.13617\n"
     ]
    },
    {
     "name": "stderr",
     "output_type": "stream",
     "text": [
      "Epoch 669, lr 3.732479999999999e-05: 100% 21/21 [00:10<00:00,  1.92it/s, 0 cls=0.15801, 1 cls=0.23034, 2 cls=0.19362, bce=0.05670, dice=0.88471, loss=-0.82505]\n"
     ]
    },
    {
     "name": "stdout",
     "output_type": "stream",
     "text": [
      "loss: -0.87195 | bce: 0.02865 | dice: 0.90323 | 0 cls: 0.11338 | 1 cls: 0.16902 | 2 cls: 0.13587\n"
     ]
    },
    {
     "name": "stderr",
     "output_type": "stream",
     "text": [
      "Epoch 670, lr 3.732479999999999e-05: 100% 21/21 [00:10<00:00,  1.91it/s, 0 cls=0.15149, 1 cls=0.22401, 2 cls=0.18680, bce=0.05350, dice=0.88750, loss=-0.83111]\n"
     ]
    },
    {
     "name": "stdout",
     "output_type": "stream",
     "text": [
      "loss: -0.87172 | bce: 0.02868 | dice: 0.90307 | 0 cls: 0.11335 | 1 cls: 0.16951 | 2 cls: 0.13640\n"
     ]
    },
    {
     "name": "stderr",
     "output_type": "stream",
     "text": [
      "Epoch 671, lr 3.732479999999999e-05: 100% 21/21 [00:11<00:00,  1.88it/s, 0 cls=0.15104, 1 cls=0.22150, 2 cls=0.18492, bce=0.05350, dice=0.88868, loss=-0.83210]\n"
     ]
    },
    {
     "name": "stdout",
     "output_type": "stream",
     "text": [
      "loss: -0.87137 | bce: 0.02885 | dice: 0.90284 | 0 cls: 0.11368 | 1 cls: 0.17000 | 2 cls: 0.13701\n"
     ]
    },
    {
     "name": "stderr",
     "output_type": "stream",
     "text": [
      "Epoch 672, lr 3.732479999999999e-05: 100% 21/21 [00:11<00:00,  1.90it/s, 0 cls=0.15656, 1 cls=0.22575, 2 cls=0.19064, bce=0.05504, dice=0.88545, loss=-0.82735]\n"
     ]
    },
    {
     "name": "stdout",
     "output_type": "stream",
     "text": [
      "loss: -0.87193 | bce: 0.02855 | dice: 0.90307 | 0 cls: 0.11346 | 1 cls: 0.16889 | 2 cls: 0.13608\n"
     ]
    },
    {
     "name": "stderr",
     "output_type": "stream",
     "text": [
      "Epoch 673, lr 3.732479999999999e-05: 100% 21/21 [00:11<00:00,  1.88it/s, 0 cls=0.14919, 1 cls=0.22228, 2 cls=0.18475, bce=0.05349, dice=0.88931, loss=-0.83294]\n"
     ]
    },
    {
     "name": "stdout",
     "output_type": "stream",
     "text": [
      "loss: -0.87211 | bce: 0.02859 | dice: 0.90331 | 0 cls: 0.11337 | 1 cls: 0.16838 | 2 cls: 0.13581\n"
     ]
    },
    {
     "name": "stderr",
     "output_type": "stream",
     "text": [
      "Epoch 674, lr 3.732479999999999e-05: 100% 21/21 [00:10<00:00,  1.92it/s, 0 cls=0.15605, 1 cls=0.22722, 2 cls=0.19109, bce=0.05485, dice=0.88509, loss=-0.82723]\n"
     ]
    },
    {
     "name": "stdout",
     "output_type": "stream",
     "text": [
      "loss: -0.87112 | bce: 0.02893 | dice: 0.90260 | 0 cls: 0.11403 | 1 cls: 0.17007 | 2 cls: 0.13741\n"
     ]
    },
    {
     "name": "stderr",
     "output_type": "stream",
     "text": [
      "Epoch 675, lr 3.732479999999999e-05: 100% 21/21 [00:10<00:00,  1.93it/s, 0 cls=0.15519, 1 cls=0.22710, 2 cls=0.18998, bce=0.05606, dice=0.88682, loss=-0.82769]\n"
     ]
    },
    {
     "name": "stdout",
     "output_type": "stream",
     "text": [
      "loss: -0.87151 | bce: 0.02863 | dice: 0.90271 | 0 cls: 0.11398 | 1 cls: 0.16919 | 2 cls: 0.13658\n"
     ]
    },
    {
     "name": "stderr",
     "output_type": "stream",
     "text": [
      "Epoch 676, lr 3.732479999999999e-05: 100% 21/21 [00:10<00:00,  1.91it/s, 0 cls=0.15298, 1 cls=0.22478, 2 cls=0.18802, bce=0.05467, dice=0.88752, loss=-0.82982]\n"
     ]
    },
    {
     "name": "stdout",
     "output_type": "stream",
     "text": [
      "loss: -0.87118 | bce: 0.02872 | dice: 0.90243 | 0 cls: 0.11415 | 1 cls: 0.16982 | 2 cls: 0.13725\n"
     ]
    },
    {
     "name": "stderr",
     "output_type": "stream",
     "text": [
      "Epoch 677, lr 3.732479999999999e-05: 100% 21/21 [00:11<00:00,  1.88it/s, 0 cls=0.15368, 1 cls=0.22404, 2 cls=0.18794, bce=0.05453, dice=0.88722, loss=-0.82965]\n"
     ]
    },
    {
     "name": "stdout",
     "output_type": "stream",
     "text": [
      "loss: -0.87190 | bce: 0.02865 | dice: 0.90317 | 0 cls: 0.11352 | 1 cls: 0.16872 | 2 cls: 0.13602\n"
     ]
    },
    {
     "name": "stderr",
     "output_type": "stream",
     "text": [
      "Epoch 678, lr 3.732479999999999e-05: 100% 21/21 [00:10<00:00,  1.92it/s, 0 cls=0.15719, 1 cls=0.22756, 2 cls=0.19179, bce=0.05510, dice=0.88478, loss=-0.82659]\n"
     ]
    },
    {
     "name": "stdout",
     "output_type": "stream",
     "text": [
      "loss: -0.87139 | bce: 0.02868 | dice: 0.90265 | 0 cls: 0.11379 | 1 cls: 0.16979 | 2 cls: 0.13695\n"
     ]
    },
    {
     "name": "stderr",
     "output_type": "stream",
     "text": [
      "Epoch 679, lr 3.732479999999999e-05: 100% 21/21 [00:10<00:00,  1.91it/s, 0 cls=0.15970, 1 cls=0.23755, 2 cls=0.19780, bce=0.05727, dice=0.88208, loss=-0.82187]\n"
     ]
    },
    {
     "name": "stdout",
     "output_type": "stream",
     "text": [
      "loss: -0.87209 | bce: 0.02874 | dice: 0.90348 | 0 cls: 0.11316 | 1 cls: 0.16866 | 2 cls: 0.13585\n"
     ]
    },
    {
     "name": "stderr",
     "output_type": "stream",
     "text": [
      "Epoch 680, lr 3.732479999999999e-05: 100% 21/21 [00:11<00:00,  1.91it/s, 0 cls=0.15643, 1 cls=0.23100, 2 cls=0.19245, bce=0.05496, dice=0.88417, loss=-0.82604]\n"
     ]
    },
    {
     "name": "stdout",
     "output_type": "stream",
     "text": [
      "loss: -0.87190 | bce: 0.02853 | dice: 0.90307 | 0 cls: 0.11334 | 1 cls: 0.16912 | 2 cls: 0.13610\n"
     ]
    },
    {
     "name": "stderr",
     "output_type": "stream",
     "text": [
      "Epoch 681, lr 3.732479999999999e-05: 100% 21/21 [00:11<00:00,  1.86it/s, 0 cls=0.15398, 1 cls=0.22993, 2 cls=0.19135, bce=0.05508, dice=0.88575, loss=-0.82786]\n"
     ]
    },
    {
     "name": "stdout",
     "output_type": "stream",
     "text": [
      "loss: -0.87206 | bce: 0.02876 | dice: 0.90347 | 0 cls: 0.11304 | 1 cls: 0.16907 | 2 cls: 0.13587\n"
     ]
    },
    {
     "name": "stderr",
     "output_type": "stream",
     "text": [
      "Epoch 682, lr 3.732479999999999e-05: 100% 21/21 [00:11<00:00,  1.90it/s, 0 cls=0.15708, 1 cls=0.22998, 2 cls=0.19244, bce=0.05554, dice=0.88457, loss=-0.82589]\n"
     ]
    },
    {
     "name": "stdout",
     "output_type": "stream",
     "text": [
      "loss: -0.87223 | bce: 0.02874 | dice: 0.90362 | 0 cls: 0.11293 | 1 cls: 0.16889 | 2 cls: 0.13554\n"
     ]
    },
    {
     "name": "stderr",
     "output_type": "stream",
     "text": [
      "Epoch 683, lr 3.732479999999999e-05: 100% 21/21 [00:11<00:00,  1.85it/s, 0 cls=0.15080, 1 cls=0.22287, 2 cls=0.18581, bce=0.05382, dice=0.88865, loss=-0.83181]\n"
     ]
    },
    {
     "name": "stdout",
     "output_type": "stream",
     "text": [
      "loss: -0.87178 | bce: 0.02873 | dice: 0.90310 | 0 cls: 0.11358 | 1 cls: 0.16900 | 2 cls: 0.13627\n"
     ]
    },
    {
     "name": "stderr",
     "output_type": "stream",
     "text": [
      "Epoch 684, lr 3.732479999999999e-05: 100% 21/21 [00:10<00:00,  1.91it/s, 0 cls=0.15374, 1 cls=0.22490, 2 cls=0.18841, bce=0.05417, dice=0.88670, loss=-0.82947]\n"
     ]
    },
    {
     "name": "stdout",
     "output_type": "stream",
     "text": [
      "loss: -0.87161 | bce: 0.02888 | dice: 0.90303 | 0 cls: 0.11376 | 1 cls: 0.16909 | 2 cls: 0.13660\n"
     ]
    },
    {
     "name": "stderr",
     "output_type": "stream",
     "text": [
      "Epoch 685, lr 3.732479999999999e-05: 100% 21/21 [00:10<00:00,  1.93it/s, 0 cls=0.15556, 1 cls=0.22787, 2 cls=0.19100, bce=0.05576, dice=0.88599, loss=-0.82728]\n"
     ]
    },
    {
     "name": "stdout",
     "output_type": "stream",
     "text": [
      "loss: -0.87205 | bce: 0.02872 | dice: 0.90337 | 0 cls: 0.11341 | 1 cls: 0.16843 | 2 cls: 0.13584\n"
     ]
    },
    {
     "name": "stderr",
     "output_type": "stream",
     "text": [
      "Epoch 686, lr 3.732479999999999e-05: 100% 21/21 [00:10<00:00,  1.94it/s, 0 cls=0.15171, 1 cls=0.22411, 2 cls=0.18701, bce=0.05394, dice=0.88785, loss=-0.83092]\n"
     ]
    },
    {
     "name": "stdout",
     "output_type": "stream",
     "text": [
      "loss: -0.87196 | bce: 0.02880 | dice: 0.90336 | 0 cls: 0.11337 | 1 cls: 0.16867 | 2 cls: 0.13606\n"
     ]
    },
    {
     "name": "stderr",
     "output_type": "stream",
     "text": [
      "Epoch 687, lr 3.732479999999999e-05: 100% 21/21 [00:10<00:00,  1.92it/s, 0 cls=0.15190, 1 cls=0.22491, 2 cls=0.18776, bce=0.05435, dice=0.88766, loss=-0.83044]\n"
     ]
    },
    {
     "name": "stdout",
     "output_type": "stream",
     "text": [
      "loss: -0.87149 | bce: 0.02880 | dice: 0.90285 | 0 cls: 0.11368 | 1 cls: 0.16959 | 2 cls: 0.13693\n"
     ]
    },
    {
     "name": "stderr",
     "output_type": "stream",
     "text": [
      "Epoch 688, lr 3.732479999999999e-05: 100% 21/21 [00:10<00:00,  1.92it/s, 0 cls=0.15404, 1 cls=0.22847, 2 cls=0.19082, bce=0.05560, dice=0.88649, loss=-0.82805]\n"
     ]
    },
    {
     "name": "stdout",
     "output_type": "stream",
     "text": [
      "loss: -0.87173 | bce: 0.02860 | dice: 0.90294 | 0 cls: 0.11355 | 1 cls: 0.16926 | 2 cls: 0.13639\n"
     ]
    },
    {
     "name": "stderr",
     "output_type": "stream",
     "text": [
      "Epoch 689, lr 3.732479999999999e-05: 100% 21/21 [00:10<00:00,  1.94it/s, 0 cls=0.15882, 1 cls=0.22816, 2 cls=0.19295, bce=0.05499, dice=0.88351, loss=-0.82546]\n"
     ]
    },
    {
     "name": "stdout",
     "output_type": "stream",
     "text": [
      "loss: -0.87221 | bce: 0.02850 | dice: 0.90328 | 0 cls: 0.11336 | 1 cls: 0.16820 | 2 cls: 0.13570\n"
     ]
    },
    {
     "name": "stderr",
     "output_type": "stream",
     "text": [
      "Epoch 690, lr 0.001062882: 100% 21/21 [00:10<00:00,  1.93it/s, 0 cls=0.16233, 1 cls=0.23774, 2 cls=0.19792, bce=0.05773, dice=0.88145, loss=-0.82024]\n"
     ]
    },
    {
     "name": "stdout",
     "output_type": "stream",
     "text": [
      "loss: -0.87071 | bce: 0.02991 | dice: 0.90331 | 0 cls: 0.11322 | 1 cls: 0.17254 | 2 cls: 0.13753\n"
     ]
    },
    {
     "name": "stderr",
     "output_type": "stream",
     "text": [
      "Epoch 691, lr 0.001062882: 100% 21/21 [00:10<00:00,  1.95it/s, 0 cls=0.16612, 1 cls=0.24165, 2 cls=0.20201, bce=0.05911, dice=0.87923, loss=-0.81672]\n"
     ]
    },
    {
     "name": "stdout",
     "output_type": "stream",
     "text": [
      "loss: -0.86557 | bce: 0.02867 | dice: 0.89867 | 0 cls: 0.11793 | 1 cls: 0.18098 | 2 cls: 0.13893\n"
     ]
    },
    {
     "name": "stderr",
     "output_type": "stream",
     "text": [
      "Epoch 692, lr 0.0003188646: 100% 21/21 [00:10<00:00,  1.95it/s, 0 cls=0.16467, 1 cls=0.24139, 2 cls=0.20104, bce=0.05836, dice=0.87960, loss=-0.81775]\n"
     ]
    },
    {
     "name": "stdout",
     "output_type": "stream",
     "text": [
      "loss: -0.86984 | bce: 0.02935 | dice: 0.90243 | 0 cls: 0.11422 | 1 cls: 0.17414 | 2 cls: 0.13681\n"
     ]
    },
    {
     "name": "stderr",
     "output_type": "stream",
     "text": [
      "Epoch 693, lr 0.0003188646: 100% 21/21 [00:10<00:00,  1.93it/s, 0 cls=0.15856, 1 cls=0.23324, 2 cls=0.19509, bce=0.05628, dice=0.88322, loss=-0.82390]\n"
     ]
    },
    {
     "name": "stdout",
     "output_type": "stream",
     "text": [
      "loss: -0.87264 | bce: 0.02855 | dice: 0.90444 | 0 cls: 0.11281 | 1 cls: 0.16847 | 2 cls: 0.13266\n"
     ]
    },
    {
     "name": "stderr",
     "output_type": "stream",
     "text": [
      "Epoch 694, lr 9.565938e-05: 100% 21/21 [00:10<00:00,  1.95it/s, 0 cls=0.16059, 1 cls=0.23362, 2 cls=0.19620, bce=0.05685, dice=0.88267, loss=-0.82254]\n"
     ]
    },
    {
     "name": "stdout",
     "output_type": "stream",
     "text": [
      "loss: -0.87175 | bce: 0.02842 | dice: 0.90319 | 0 cls: 0.11356 | 1 cls: 0.16991 | 2 cls: 0.13447\n"
     ]
    },
    {
     "name": "stderr",
     "output_type": "stream",
     "text": [
      "Epoch 695, lr 0.001062882: 100% 21/21 [00:10<00:00,  1.96it/s, 0 cls=0.15934, 1 cls=0.22958, 2 cls=0.19270, bce=0.05553, dice=0.88361, loss=-0.82472]\n"
     ]
    },
    {
     "name": "stdout",
     "output_type": "stream",
     "text": [
      "loss: -0.86498 | bce: 0.02889 | dice: 0.89603 | 0 cls: 0.12061 | 1 cls: 0.17737 | 2 cls: 0.14601\n"
     ]
    },
    {
     "name": "stderr",
     "output_type": "stream",
     "text": [
      "Epoch 696, lr 0.001062882: 100% 21/21 [00:11<00:00,  1.91it/s, 0 cls=0.16549, 1 cls=0.23901, 2 cls=0.20048, bce=0.05864, dice=0.88009, loss=-0.81793]\n"
     ]
    },
    {
     "name": "stdout",
     "output_type": "stream",
     "text": [
      "loss: -0.86401 | bce: 0.02890 | dice: 0.89567 | 0 cls: 0.12068 | 1 cls: 0.18041 | 2 cls: 0.14516\n"
     ]
    },
    {
     "name": "stderr",
     "output_type": "stream",
     "text": [
      "Epoch 697, lr 0.0003188646: 100% 21/21 [00:10<00:00,  1.93it/s, 0 cls=0.16276, 1 cls=0.23514, 2 cls=0.19687, bce=0.05709, dice=0.88133, loss=-0.82094]\n"
     ]
    },
    {
     "name": "stdout",
     "output_type": "stream",
     "text": [
      "loss: -0.87233 | bce: 0.02911 | dice: 0.90411 | 0 cls: 0.11326 | 1 cls: 0.16834 | 2 cls: 0.13485\n"
     ]
    },
    {
     "name": "stderr",
     "output_type": "stream",
     "text": [
      "Epoch 698, lr 0.0003188646: 100% 21/21 [00:11<00:00,  1.89it/s, 0 cls=0.15783, 1 cls=0.23258, 2 cls=0.19392, bce=0.05651, dice=0.88422, loss=-0.82453]\n"
     ]
    },
    {
     "name": "stdout",
     "output_type": "stream",
     "text": [
      "loss: -0.87045 | bce: 0.02796 | dice: 0.90094 | 0 cls: 0.11628 | 1 cls: 0.16920 | 2 cls: 0.13678\n"
     ]
    },
    {
     "name": "stderr",
     "output_type": "stream",
     "text": [
      "Epoch 699, lr 9.565938e-05: 100% 21/21 [00:10<00:00,  1.92it/s, 0 cls=0.16378, 1 cls=0.23725, 2 cls=0.19942, bce=0.05795, dice=0.88073, loss=-0.81950]\n"
     ]
    },
    {
     "name": "stdout",
     "output_type": "stream",
     "text": [
      "loss: -0.87041 | bce: 0.02916 | dice: 0.90217 | 0 cls: 0.11489 | 1 cls: 0.17093 | 2 cls: 0.13757\n"
     ]
    },
    {
     "name": "stderr",
     "output_type": "stream",
     "text": [
      "Epoch 700, lr 2.2394879999999997e-05: 100% 21/21 [00:10<00:00,  1.91it/s, 0 cls=0.15161, 1 cls=0.22505, 2 cls=0.18724, bce=0.05385, dice=0.88742, loss=-0.83066]\n"
     ]
    },
    {
     "name": "stdout",
     "output_type": "stream",
     "text": [
      "loss: -0.87111 | bce: 0.02898 | dice: 0.90274 | 0 cls: 0.11412 | 1 cls: 0.17016 | 2 cls: 0.13675\n"
     ]
    },
    {
     "name": "stderr",
     "output_type": "stream",
     "text": [
      "Epoch 701, lr 2.2394879999999997e-05: 100% 21/21 [00:10<00:00,  1.92it/s, 0 cls=0.15604, 1 cls=0.22788, 2 cls=0.19097, bce=0.05550, dice=0.88572, loss=-0.82710]\n"
     ]
    },
    {
     "name": "stdout",
     "output_type": "stream",
     "text": [
      "loss: -0.87144 | bce: 0.02876 | dice: 0.90284 | 0 cls: 0.11390 | 1 cls: 0.16959 | 2 cls: 0.13640\n"
     ]
    },
    {
     "name": "stderr",
     "output_type": "stream",
     "text": [
      "Epoch 702, lr 2.2394879999999997e-05: 100% 21/21 [00:10<00:00,  1.95it/s, 0 cls=0.15393, 1 cls=0.22879, 2 cls=0.19044, bce=0.05456, dice=0.88570, loss=-0.82817]\n"
     ]
    },
    {
     "name": "stdout",
     "output_type": "stream",
     "text": [
      "loss: -0.87173 | bce: 0.02874 | dice: 0.90308 | 0 cls: 0.11362 | 1 cls: 0.16926 | 2 cls: 0.13604\n"
     ]
    },
    {
     "name": "stderr",
     "output_type": "stream",
     "text": [
      "Epoch 703, lr 2.2394879999999997e-05: 100% 21/21 [00:10<00:00,  1.96it/s, 0 cls=0.15844, 1 cls=0.23104, 2 cls=0.19374, bce=0.05639, dice=0.88415, loss=-0.82461]\n"
     ]
    },
    {
     "name": "stdout",
     "output_type": "stream",
     "text": [
      "loss: -0.87145 | bce: 0.02874 | dice: 0.90276 | 0 cls: 0.11385 | 1 cls: 0.16979 | 2 cls: 0.13650\n"
     ]
    },
    {
     "name": "stderr",
     "output_type": "stream",
     "text": [
      "Epoch 704, lr 2.2394879999999997e-05: 100% 21/21 [00:10<00:00,  1.94it/s, 0 cls=0.15419, 1 cls=0.22849, 2 cls=0.19008, bce=0.05549, dice=0.88652, loss=-0.82795]\n"
     ]
    },
    {
     "name": "stdout",
     "output_type": "stream",
     "text": [
      "loss: -0.87150 | bce: 0.02862 | dice: 0.90272 | 0 cls: 0.11387 | 1 cls: 0.16967 | 2 cls: 0.13637\n"
     ]
    },
    {
     "name": "stderr",
     "output_type": "stream",
     "text": [
      "Epoch 705, lr 2.2394879999999997e-05: 100% 21/21 [00:10<00:00,  1.94it/s, 0 cls=0.15927, 1 cls=0.23327, 2 cls=0.19496, bce=0.05678, dice=0.88345, loss=-0.82344]\n"
     ]
    },
    {
     "name": "stdout",
     "output_type": "stream",
     "text": [
      "loss: -0.87157 | bce: 0.02859 | dice: 0.90279 | 0 cls: 0.11387 | 1 cls: 0.16937 | 2 cls: 0.13619\n"
     ]
    },
    {
     "name": "stderr",
     "output_type": "stream",
     "text": [
      "Epoch 706, lr 2.2394879999999997e-05: 100% 21/21 [00:10<00:00,  1.95it/s, 0 cls=0.15498, 1 cls=0.22848, 2 cls=0.19068, bce=0.05452, dice=0.88522, loss=-0.82766]\n"
     ]
    },
    {
     "name": "stdout",
     "output_type": "stream",
     "text": [
      "loss: -0.87156 | bce: 0.02876 | dice: 0.90294 | 0 cls: 0.11384 | 1 cls: 0.16938 | 2 cls: 0.13625\n"
     ]
    },
    {
     "name": "stderr",
     "output_type": "stream",
     "text": [
      "Epoch 707, lr 2.2394879999999997e-05: 100% 21/21 [00:10<00:00,  1.97it/s, 0 cls=0.15659, 1 cls=0.22952, 2 cls=0.19186, bce=0.05614, dice=0.88537, loss=-0.82614]\n"
     ]
    },
    {
     "name": "stdout",
     "output_type": "stream",
     "text": [
      "loss: -0.87151 | bce: 0.02858 | dice: 0.90267 | 0 cls: 0.11406 | 1 cls: 0.16928 | 2 cls: 0.13628\n"
     ]
    },
    {
     "name": "stderr",
     "output_type": "stream",
     "text": [
      "Epoch 708, lr 2.2394879999999997e-05: 100% 21/21 [00:10<00:00,  1.94it/s, 0 cls=0.15285, 1 cls=0.22500, 2 cls=0.18815, bce=0.05405, dice=0.88685, loss=-0.82988]\n"
     ]
    },
    {
     "name": "stdout",
     "output_type": "stream",
     "text": [
      "loss: -0.87159 | bce: 0.02884 | dice: 0.90307 | 0 cls: 0.11373 | 1 cls: 0.16947 | 2 cls: 0.13617\n"
     ]
    },
    {
     "name": "stderr",
     "output_type": "stream",
     "text": [
      "Epoch 709, lr 2.2394879999999997e-05: 100% 21/21 [00:10<00:00,  1.91it/s, 0 cls=0.15263, 1 cls=0.22653, 2 cls=0.18857, bce=0.05521, dice=0.88764, loss=-0.82946]\n"
     ]
    },
    {
     "name": "stdout",
     "output_type": "stream",
     "text": [
      "loss: -0.87162 | bce: 0.02886 | dice: 0.90313 | 0 cls: 0.11380 | 1 cls: 0.16932 | 2 cls: 0.13598\n"
     ]
    },
    {
     "name": "stderr",
     "output_type": "stream",
     "text": [
      "Epoch 710, lr 2.2394879999999997e-05: 100% 21/21 [00:10<00:00,  1.93it/s, 0 cls=0.15493, 1 cls=0.22938, 2 cls=0.19120, bce=0.05514, dice=0.88541, loss=-0.82732]\n"
     ]
    },
    {
     "name": "stdout",
     "output_type": "stream",
     "text": [
      "loss: -0.87172 | bce: 0.02878 | dice: 0.90320 | 0 cls: 0.11366 | 1 cls: 0.16930 | 2 cls: 0.13577\n"
     ]
    },
    {
     "name": "stderr",
     "output_type": "stream",
     "text": [
      "Epoch 711, lr 2.2394879999999997e-05: 100% 21/21 [00:10<00:00,  1.92it/s, 0 cls=0.16468, 1 cls=0.23504, 2 cls=0.19869, bce=0.05807, dice=0.88107, loss=-0.81964]\n"
     ]
    },
    {
     "name": "stdout",
     "output_type": "stream",
     "text": [
      "loss: -0.87164 | bce: 0.02866 | dice: 0.90293 | 0 cls: 0.11376 | 1 cls: 0.16927 | 2 cls: 0.13616\n"
     ]
    },
    {
     "name": "stderr",
     "output_type": "stream",
     "text": [
      "Epoch 712, lr 2.2394879999999997e-05: 100% 21/21 [00:10<00:00,  1.92it/s, 0 cls=0.15401, 1 cls=0.22820, 2 cls=0.18985, bce=0.05465, dice=0.88590, loss=-0.82827]\n"
     ]
    },
    {
     "name": "stdout",
     "output_type": "stream",
     "text": [
      "loss: -0.87181 | bce: 0.02872 | dice: 0.90314 | 0 cls: 0.11357 | 1 cls: 0.16908 | 2 cls: 0.13595\n"
     ]
    },
    {
     "name": "stderr",
     "output_type": "stream",
     "text": [
      "Epoch 713, lr 2.2394879999999997e-05: 100% 21/21 [00:11<00:00,  1.89it/s, 0 cls=0.15341, 1 cls=0.22789, 2 cls=0.18914, bce=0.05477, dice=0.88656, loss=-0.82870]\n"
     ]
    },
    {
     "name": "stdout",
     "output_type": "stream",
     "text": [
      "loss: -0.87139 | bce: 0.02877 | dice: 0.90280 | 0 cls: 0.11385 | 1 cls: 0.16989 | 2 cls: 0.13649\n"
     ]
    },
    {
     "name": "stderr",
     "output_type": "stream",
     "text": [
      "Epoch 714, lr 2.2394879999999997e-05: 100% 21/21 [00:11<00:00,  1.91it/s, 0 cls=0.15183, 1 cls=0.22662, 2 cls=0.18915, bce=0.05427, dice=0.88696, loss=-0.82994]\n"
     ]
    },
    {
     "name": "stdout",
     "output_type": "stream",
     "text": [
      "loss: -0.87174 | bce: 0.02874 | dice: 0.90309 | 0 cls: 0.11369 | 1 cls: 0.16916 | 2 cls: 0.13604\n"
     ]
    },
    {
     "name": "stderr",
     "output_type": "stream",
     "text": [
      "Epoch 715, lr 2.2394879999999997e-05: 100% 21/21 [00:11<00:00,  1.87it/s, 0 cls=0.15755, 1 cls=0.23128, 2 cls=0.19336, bce=0.05617, dice=0.88431, loss=-0.82505]\n"
     ]
    },
    {
     "name": "stdout",
     "output_type": "stream",
     "text": [
      "loss: -0.87183 | bce: 0.02866 | dice: 0.90309 | 0 cls: 0.11355 | 1 cls: 0.16918 | 2 cls: 0.13596\n"
     ]
    },
    {
     "name": "stderr",
     "output_type": "stream",
     "text": [
      "Epoch 716, lr 2.2394879999999997e-05: 100% 21/21 [00:10<00:00,  1.92it/s, 0 cls=0.15484, 1 cls=0.22707, 2 cls=0.18988, bce=0.05499, dice=0.88617, loss=-0.82803]\n"
     ]
    },
    {
     "name": "stdout",
     "output_type": "stream",
     "text": [
      "loss: -0.87164 | bce: 0.02861 | dice: 0.90281 | 0 cls: 0.11383 | 1 cls: 0.16923 | 2 cls: 0.13632\n"
     ]
    },
    {
     "name": "stderr",
     "output_type": "stream",
     "text": [
      "Epoch 717, lr 2.2394879999999997e-05: 100% 21/21 [00:11<00:00,  1.91it/s, 0 cls=0.15939, 1 cls=0.23000, 2 cls=0.19366, bce=0.05678, dice=0.88442, loss=-0.82436]\n"
     ]
    },
    {
     "name": "stdout",
     "output_type": "stream",
     "text": [
      "loss: -0.87179 | bce: 0.02856 | dice: 0.90290 | 0 cls: 0.11375 | 1 cls: 0.16889 | 2 cls: 0.13614\n"
     ]
    },
    {
     "name": "stderr",
     "output_type": "stream",
     "text": [
      "Epoch 718, lr 2.2394879999999997e-05: 100% 21/21 [00:11<00:00,  1.90it/s, 0 cls=0.15383, 1 cls=0.22716, 2 cls=0.18935, bce=0.05495, dice=0.88660, loss=-0.82865]\n"
     ]
    },
    {
     "name": "stdout",
     "output_type": "stream",
     "text": [
      "loss: -0.87192 | bce: 0.02860 | dice: 0.90306 | 0 cls: 0.11361 | 1 cls: 0.16877 | 2 cls: 0.13598\n"
     ]
    },
    {
     "name": "stderr",
     "output_type": "stream",
     "text": [
      "Epoch 719, lr 2.2394879999999997e-05: 100% 21/21 [00:10<00:00,  1.96it/s, 0 cls=0.15364, 1 cls=0.22518, 2 cls=0.18847, bce=0.05437, dice=0.88679, loss=-0.82936]\n"
     ]
    },
    {
     "name": "stdout",
     "output_type": "stream",
     "text": [
      "loss: -0.87187 | bce: 0.02855 | dice: 0.90297 | 0 cls: 0.11374 | 1 cls: 0.16873 | 2 cls: 0.13599\n"
     ]
    },
    {
     "name": "stderr",
     "output_type": "stream",
     "text": [
      "Epoch 720, lr 2.2394879999999997e-05: 100% 21/21 [00:10<00:00,  1.95it/s, 0 cls=0.15647, 1 cls=0.23052, 2 cls=0.19306, bce=0.05512, dice=0.88403, loss=-0.82606]\n"
     ]
    },
    {
     "name": "stdout",
     "output_type": "stream",
     "text": [
      "loss: -0.87202 | bce: 0.02873 | dice: 0.90327 | 0 cls: 0.11363 | 1 cls: 0.16848 | 2 cls: 0.13578\n"
     ]
    },
    {
     "name": "stderr",
     "output_type": "stream",
     "text": [
      "Epoch 721, lr 2.2394879999999997e-05: 100% 21/21 [00:10<00:00,  1.91it/s, 0 cls=0.15737, 1 cls=0.23153, 2 cls=0.19389, bce=0.05656, dice=0.88461, loss=-0.82517]\n"
     ]
    },
    {
     "name": "stdout",
     "output_type": "stream",
     "text": [
      "loss: -0.87193 | bce: 0.02867 | dice: 0.90317 | 0 cls: 0.11369 | 1 cls: 0.16867 | 2 cls: 0.13587\n"
     ]
    },
    {
     "name": "stderr",
     "output_type": "stream",
     "text": [
      "Epoch 722, lr 2.2394879999999997e-05: 100% 21/21 [00:10<00:00,  1.94it/s, 0 cls=0.15631, 1 cls=0.22897, 2 cls=0.19178, bce=0.05547, dice=0.88513, loss=-0.82656]\n"
     ]
    },
    {
     "name": "stdout",
     "output_type": "stream",
     "text": [
      "loss: -0.87172 | bce: 0.02868 | dice: 0.90289 | 0 cls: 0.11386 | 1 cls: 0.16905 | 2 cls: 0.13629\n"
     ]
    },
    {
     "name": "stderr",
     "output_type": "stream",
     "text": [
      "Epoch 723, lr 2.2394879999999997e-05: 100% 21/21 [00:10<00:00,  1.93it/s, 0 cls=0.15644, 1 cls=0.22852, 2 cls=0.19185, bce=0.05552, dice=0.88510, loss=-0.82659]\n"
     ]
    },
    {
     "name": "stdout",
     "output_type": "stream",
     "text": [
      "loss: -0.87177 | bce: 0.02872 | dice: 0.90303 | 0 cls: 0.11370 | 1 cls: 0.16907 | 2 cls: 0.13622\n"
     ]
    },
    {
     "name": "stderr",
     "output_type": "stream",
     "text": [
      "Epoch 724, lr 2.2394879999999997e-05: 100% 21/21 [00:10<00:00,  1.92it/s, 0 cls=0.15207, 1 cls=0.22491, 2 cls=0.18738, bce=0.05425, dice=0.88765, loss=-0.83043]\n"
     ]
    },
    {
     "name": "stdout",
     "output_type": "stream",
     "text": [
      "loss: -0.87173 | bce: 0.02855 | dice: 0.90283 | 0 cls: 0.11385 | 1 cls: 0.16904 | 2 cls: 0.13622\n"
     ]
    },
    {
     "name": "stderr",
     "output_type": "stream",
     "text": [
      "Epoch 725, lr 2.2394879999999997e-05: 100% 21/21 [00:11<00:00,  1.89it/s, 0 cls=0.15346, 1 cls=0.22452, 2 cls=0.18832, bce=0.05537, dice=0.88790, loss=-0.82956]\n"
     ]
    },
    {
     "name": "stdout",
     "output_type": "stream",
     "text": [
      "loss: -0.87191 | bce: 0.02845 | dice: 0.90291 | 0 cls: 0.11377 | 1 cls: 0.16858 | 2 cls: 0.13601\n"
     ]
    },
    {
     "name": "stderr",
     "output_type": "stream",
     "text": [
      "Epoch 726, lr 2.2394879999999997e-05: 100% 21/21 [00:10<00:00,  1.94it/s, 0 cls=0.15960, 1 cls=0.23089, 2 cls=0.19418, bce=0.05735, dice=0.88452, loss=-0.82389]\n"
     ]
    },
    {
     "name": "stdout",
     "output_type": "stream",
     "text": [
      "loss: -0.87184 | bce: 0.02842 | dice: 0.90278 | 0 cls: 0.11390 | 1 cls: 0.16852 | 2 cls: 0.13615\n"
     ]
    },
    {
     "name": "stderr",
     "output_type": "stream",
     "text": [
      "Epoch 727, lr 2.2394879999999997e-05: 100% 21/21 [00:10<00:00,  1.93it/s, 0 cls=0.15582, 1 cls=0.22676, 2 cls=0.19029, bce=0.05513, dice=0.88577, loss=-0.82755]\n"
     ]
    },
    {
     "name": "stdout",
     "output_type": "stream",
     "text": [
      "loss: -0.87204 | bce: 0.02844 | dice: 0.90304 | 0 cls: 0.11376 | 1 cls: 0.16817 | 2 cls: 0.13574\n"
     ]
    },
    {
     "name": "stderr",
     "output_type": "stream",
     "text": [
      "Epoch 728, lr 2.2394879999999997e-05: 100% 21/21 [00:10<00:00,  1.92it/s, 0 cls=0.15497, 1 cls=0.22320, 2 cls=0.18787, bce=0.05393, dice=0.88644, loss=-0.82933]\n"
     ]
    },
    {
     "name": "stdout",
     "output_type": "stream",
     "text": [
      "loss: -0.87175 | bce: 0.02841 | dice: 0.90272 | 0 cls: 0.11408 | 1 cls: 0.16852 | 2 cls: 0.13607\n"
     ]
    },
    {
     "name": "stderr",
     "output_type": "stream",
     "text": [
      "Epoch 729, lr 2.2394879999999997e-05: 100% 21/21 [00:10<00:00,  1.95it/s, 0 cls=0.16054, 1 cls=0.23207, 2 cls=0.19600, bce=0.05690, dice=0.88295, loss=-0.82309]\n"
     ]
    },
    {
     "name": "stdout",
     "output_type": "stream",
     "text": [
      "loss: -0.87187 | bce: 0.02849 | dice: 0.90295 | 0 cls: 0.11389 | 1 cls: 0.16841 | 2 cls: 0.13590\n"
     ]
    },
    {
     "name": "stderr",
     "output_type": "stream",
     "text": [
      "Epoch 730, lr 2.2394879999999997e-05: 100% 21/21 [00:11<00:00,  1.89it/s, 0 cls=0.15605, 1 cls=0.23148, 2 cls=0.19284, bce=0.05554, dice=0.88455, loss=-0.82602]\n"
     ]
    },
    {
     "name": "stdout",
     "output_type": "stream",
     "text": [
      "loss: -0.87174 | bce: 0.02842 | dice: 0.90275 | 0 cls: 0.11403 | 1 cls: 0.16858 | 2 cls: 0.13607\n"
     ]
    },
    {
     "name": "stderr",
     "output_type": "stream",
     "text": [
      "Epoch 731, lr 2.2394879999999997e-05: 100% 21/21 [00:10<00:00,  1.94it/s, 0 cls=0.15282, 1 cls=0.22523, 2 cls=0.18822, bce=0.05325, dice=0.88611, loss=-0.83002]\n"
     ]
    },
    {
     "name": "stdout",
     "output_type": "stream",
     "text": [
      "loss: -0.87191 | bce: 0.02851 | dice: 0.90300 | 0 cls: 0.11376 | 1 cls: 0.16856 | 2 cls: 0.13591\n"
     ]
    },
    {
     "name": "stderr",
     "output_type": "stream",
     "text": [
      "Epoch 732, lr 2.2394879999999997e-05: 100% 21/21 [00:10<00:00,  1.92it/s, 0 cls=0.15954, 1 cls=0.23417, 2 cls=0.19549, bce=0.05641, dice=0.88272, loss=-0.82313]\n"
     ]
    },
    {
     "name": "stdout",
     "output_type": "stream",
     "text": [
      "loss: -0.87200 | bce: 0.02854 | dice: 0.90307 | 0 cls: 0.11379 | 1 cls: 0.16826 | 2 cls: 0.13588\n"
     ]
    },
    {
     "name": "stderr",
     "output_type": "stream",
     "text": [
      "Epoch 733, lr 2.2394879999999997e-05: 100% 21/21 [00:10<00:00,  1.93it/s, 0 cls=0.15683, 1 cls=0.22868, 2 cls=0.19121, bce=0.05583, dice=0.88545, loss=-0.82639]\n"
     ]
    },
    {
     "name": "stdout",
     "output_type": "stream",
     "text": [
      "loss: -0.87206 | bce: 0.02845 | dice: 0.90308 | 0 cls: 0.11383 | 1 cls: 0.16806 | 2 cls: 0.13564\n"
     ]
    },
    {
     "name": "stderr",
     "output_type": "stream",
     "text": [
      "Epoch 734, lr 2.2394879999999997e-05: 100% 21/21 [00:10<00:00,  1.95it/s, 0 cls=0.15406, 1 cls=0.22795, 2 cls=0.18988, bce=0.05525, dice=0.88652, loss=-0.82831]\n"
     ]
    },
    {
     "name": "stdout",
     "output_type": "stream",
     "text": [
      "loss: -0.87187 | bce: 0.02830 | dice: 0.90274 | 0 cls: 0.11401 | 1 cls: 0.16838 | 2 cls: 0.13592\n"
     ]
    },
    {
     "name": "stderr",
     "output_type": "stream",
     "text": [
      "Epoch 735, lr 2.2394879999999997e-05: 100% 21/21 [00:10<00:00,  1.93it/s, 0 cls=0.15432, 1 cls=0.22694, 2 cls=0.18979, bce=0.05452, dice=0.88595, loss=-0.82843]\n"
     ]
    },
    {
     "name": "stdout",
     "output_type": "stream",
     "text": [
      "loss: -0.87197 | bce: 0.02844 | dice: 0.90297 | 0 cls: 0.11383 | 1 cls: 0.16835 | 2 cls: 0.13584\n"
     ]
    },
    {
     "name": "stderr",
     "output_type": "stream",
     "text": [
      "Epoch 736, lr 2.2394879999999997e-05: 100% 21/21 [00:11<00:00,  1.90it/s, 0 cls=0.14975, 1 cls=0.22454, 2 cls=0.18662, bce=0.05350, dice=0.88824, loss=-0.83192]\n"
     ]
    },
    {
     "name": "stdout",
     "output_type": "stream",
     "text": [
      "loss: -0.87207 | bce: 0.02855 | dice: 0.90319 | 0 cls: 0.11356 | 1 cls: 0.16847 | 2 cls: 0.13576\n"
     ]
    },
    {
     "name": "stderr",
     "output_type": "stream",
     "text": [
      "Epoch 737, lr 2.2394879999999997e-05: 100% 21/21 [00:10<00:00,  1.93it/s, 0 cls=0.14895, 1 cls=0.22157, 2 cls=0.18441, bce=0.05301, dice=0.88924, loss=-0.83334]\n"
     ]
    },
    {
     "name": "stdout",
     "output_type": "stream",
     "text": [
      "loss: -0.87209 | bce: 0.02865 | dice: 0.90336 | 0 cls: 0.11342 | 1 cls: 0.16862 | 2 cls: 0.13569\n"
     ]
    },
    {
     "name": "stderr",
     "output_type": "stream",
     "text": [
      "Epoch 738, lr 2.2394879999999997e-05: 100% 21/21 [00:11<00:00,  1.89it/s, 0 cls=0.15183, 1 cls=0.22614, 2 cls=0.18797, bce=0.05451, dice=0.88763, loss=-0.83017]\n"
     ]
    },
    {
     "name": "stdout",
     "output_type": "stream",
     "text": [
      "loss: -0.87227 | bce: 0.02864 | dice: 0.90349 | 0 cls: 0.11337 | 1 cls: 0.16816 | 2 cls: 0.13548\n"
     ]
    },
    {
     "name": "stderr",
     "output_type": "stream",
     "text": [
      "Epoch 739, lr 2.2394879999999997e-05: 100% 21/21 [00:10<00:00,  1.93it/s, 0 cls=0.15362, 1 cls=0.22707, 2 cls=0.18923, bce=0.05530, dice=0.88712, loss=-0.82875]\n"
     ]
    },
    {
     "name": "stdout",
     "output_type": "stream",
     "text": [
      "loss: -0.87188 | bce: 0.02845 | dice: 0.90290 | 0 cls: 0.11375 | 1 cls: 0.16871 | 2 cls: 0.13610\n"
     ]
    },
    {
     "name": "stderr",
     "output_type": "stream",
     "text": [
      "Epoch 740, lr 2.2394879999999997e-05: 100% 21/21 [00:10<00:00,  1.92it/s, 0 cls=0.15560, 1 cls=0.22818, 2 cls=0.19109, bce=0.05457, dice=0.88498, loss=-0.82739]\n"
     ]
    },
    {
     "name": "stdout",
     "output_type": "stream",
     "text": [
      "loss: -0.87206 | bce: 0.02843 | dice: 0.90304 | 0 cls: 0.11366 | 1 cls: 0.16831 | 2 cls: 0.13585\n"
     ]
    },
    {
     "name": "stderr",
     "output_type": "stream",
     "text": [
      "Epoch 741, lr 2.2394879999999997e-05: 100% 21/21 [00:10<00:00,  1.93it/s, 0 cls=0.15269, 1 cls=0.22561, 2 cls=0.18809, bce=0.05394, dice=0.88677, loss=-0.82985]\n"
     ]
    },
    {
     "name": "stdout",
     "output_type": "stream",
     "text": [
      "loss: -0.87229 | bce: 0.02855 | dice: 0.90343 | 0 cls: 0.11332 | 1 cls: 0.16817 | 2 cls: 0.13554\n"
     ]
    },
    {
     "name": "stderr",
     "output_type": "stream",
     "text": [
      "Epoch 742, lr 2.2394879999999997e-05: 100% 21/21 [00:10<00:00,  1.95it/s, 0 cls=0.15771, 1 cls=0.22855, 2 cls=0.19153, bce=0.05580, dice=0.88499, loss=-0.82586]\n"
     ]
    },
    {
     "name": "stdout",
     "output_type": "stream",
     "text": [
      "loss: -0.87217 | bce: 0.02847 | dice: 0.90316 | 0 cls: 0.11353 | 1 cls: 0.16825 | 2 cls: 0.13574\n"
     ]
    },
    {
     "name": "stderr",
     "output_type": "stream",
     "text": [
      "Epoch 743, lr 2.2394879999999997e-05: 100% 21/21 [00:10<00:00,  1.94it/s, 0 cls=0.15088, 1 cls=0.22267, 2 cls=0.18601, bce=0.05354, dice=0.88824, loss=-0.83180]\n"
     ]
    },
    {
     "name": "stdout",
     "output_type": "stream",
     "text": [
      "loss: -0.87248 | bce: 0.02847 | dice: 0.90354 | 0 cls: 0.11320 | 1 cls: 0.16794 | 2 cls: 0.13512\n"
     ]
    },
    {
     "name": "stderr",
     "output_type": "stream",
     "text": [
      "Epoch 744, lr 2.2394879999999997e-05: 100% 21/21 [00:10<00:00,  1.94it/s, 0 cls=0.14985, 1 cls=0.22155, 2 cls=0.18475, bce=0.05367, dice=0.88931, loss=-0.83274]\n"
     ]
    },
    {
     "name": "stdout",
     "output_type": "stream",
     "text": [
      "loss: -0.87212 | bce: 0.02847 | dice: 0.90316 | 0 cls: 0.11350 | 1 cls: 0.16854 | 2 cls: 0.13565\n"
     ]
    },
    {
     "name": "stderr",
     "output_type": "stream",
     "text": [
      "Epoch 745, lr 2.2394879999999997e-05: 100% 21/21 [00:10<00:00,  1.92it/s, 0 cls=0.15322, 1 cls=0.22371, 2 cls=0.18698, bce=0.05373, dice=0.88708, loss=-0.83016]\n"
     ]
    },
    {
     "name": "stdout",
     "output_type": "stream",
     "text": [
      "loss: -0.87214 | bce: 0.02861 | dice: 0.90329 | 0 cls: 0.11349 | 1 cls: 0.16838 | 2 cls: 0.13572\n"
     ]
    },
    {
     "name": "stderr",
     "output_type": "stream",
     "text": [
      "Epoch 746, lr 2.2394879999999997e-05: 100% 21/21 [00:11<00:00,  1.91it/s, 0 cls=0.15828, 1 cls=0.22669, 2 cls=0.19162, bce=0.05557, dice=0.88479, loss=-0.82607]\n"
     ]
    },
    {
     "name": "stdout",
     "output_type": "stream",
     "text": [
      "loss: -0.87210 | bce: 0.02855 | dice: 0.90319 | 0 cls: 0.11361 | 1 cls: 0.16840 | 2 cls: 0.13568\n"
     ]
    },
    {
     "name": "stderr",
     "output_type": "stream",
     "text": [
      "Epoch 747, lr 2.2394879999999997e-05: 100% 21/21 [00:10<00:00,  1.93it/s, 0 cls=0.15466, 1 cls=0.22659, 2 cls=0.19014, bce=0.05428, dice=0.88544, loss=-0.82832]\n"
     ]
    },
    {
     "name": "stdout",
     "output_type": "stream",
     "text": [
      "loss: -0.87181 | bce: 0.02850 | dice: 0.90280 | 0 cls: 0.11377 | 1 cls: 0.16905 | 2 cls: 0.13630\n"
     ]
    },
    {
     "name": "stderr",
     "output_type": "stream",
     "text": [
      "Epoch 748, lr 2.2394879999999997e-05: 100% 21/21 [00:10<00:00,  1.93it/s, 0 cls=0.15279, 1 cls=0.22557, 2 cls=0.18818, bce=0.05452, dice=0.88718, loss=-0.82973]\n"
     ]
    },
    {
     "name": "stdout",
     "output_type": "stream",
     "text": [
      "loss: -0.87194 | bce: 0.02853 | dice: 0.90295 | 0 cls: 0.11379 | 1 cls: 0.16859 | 2 cls: 0.13610\n"
     ]
    },
    {
     "name": "stderr",
     "output_type": "stream",
     "text": [
      "Epoch 749, lr 2.2394879999999997e-05: 100% 21/21 [00:10<00:00,  1.93it/s, 0 cls=0.14994, 1 cls=0.22356, 2 cls=0.18593, bce=0.05420, dice=0.88908, loss=-0.83206]\n"
     ]
    },
    {
     "name": "stdout",
     "output_type": "stream",
     "text": [
      "loss: -0.87206 | bce: 0.02857 | dice: 0.90312 | 0 cls: 0.11362 | 1 cls: 0.16856 | 2 cls: 0.13596\n"
     ]
    },
    {
     "name": "stderr",
     "output_type": "stream",
     "text": [
      "Epoch 750, lr 2.2394879999999997e-05: 100% 21/21 [00:10<00:00,  1.92it/s, 0 cls=0.15064, 1 cls=0.22724, 2 cls=0.18868, bce=0.05431, dice=0.88748, loss=-0.83053]\n"
     ]
    },
    {
     "name": "stdout",
     "output_type": "stream",
     "text": [
      "loss: -0.87205 | bce: 0.02857 | dice: 0.90313 | 0 cls: 0.11357 | 1 cls: 0.16866 | 2 cls: 0.13598\n"
     ]
    },
    {
     "name": "stderr",
     "output_type": "stream",
     "text": [
      "Epoch 751, lr 2.2394879999999997e-05: 100% 21/21 [00:11<00:00,  1.90it/s, 0 cls=0.15485, 1 cls=0.22681, 2 cls=0.19041, bce=0.05484, dice=0.88587, loss=-0.82814]\n"
     ]
    },
    {
     "name": "stdout",
     "output_type": "stream",
     "text": [
      "loss: -0.87192 | bce: 0.02864 | dice: 0.90305 | 0 cls: 0.11376 | 1 cls: 0.16866 | 2 cls: 0.13618\n"
     ]
    },
    {
     "name": "stderr",
     "output_type": "stream",
     "text": [
      "Epoch 752, lr 2.2394879999999997e-05: 100% 21/21 [00:10<00:00,  1.94it/s, 0 cls=0.16063, 1 cls=0.23658, 2 cls=0.19816, bce=0.05707, dice=0.88184, loss=-0.82179]\n"
     ]
    },
    {
     "name": "stdout",
     "output_type": "stream",
     "text": [
      "loss: -0.87175 | bce: 0.02846 | dice: 0.90270 | 0 cls: 0.11401 | 1 cls: 0.16881 | 2 cls: 0.13637\n"
     ]
    },
    {
     "name": "stderr",
     "output_type": "stream",
     "text": [
      "Epoch 753, lr 2.2394879999999997e-05: 100% 21/21 [00:10<00:00,  1.93it/s, 0 cls=0.15344, 1 cls=0.22822, 2 cls=0.18988, bce=0.05497, dice=0.88649, loss=-0.82861]\n"
     ]
    },
    {
     "name": "stdout",
     "output_type": "stream",
     "text": [
      "loss: -0.87189 | bce: 0.02843 | dice: 0.90284 | 0 cls: 0.11379 | 1 cls: 0.16872 | 2 cls: 0.13619\n"
     ]
    },
    {
     "name": "stderr",
     "output_type": "stream",
     "text": [
      "Epoch 754, lr 2.2394879999999997e-05: 100% 21/21 [00:10<00:00,  1.95it/s, 0 cls=0.15533, 1 cls=0.22906, 2 cls=0.19154, bce=0.05467, dice=0.88484, loss=-0.82723]\n"
     ]
    },
    {
     "name": "stdout",
     "output_type": "stream",
     "text": [
      "loss: -0.87183 | bce: 0.02855 | dice: 0.90291 | 0 cls: 0.11377 | 1 cls: 0.16881 | 2 cls: 0.13630\n"
     ]
    },
    {
     "name": "stderr",
     "output_type": "stream",
     "text": [
      "Epoch 755, lr 2.2394879999999997e-05: 100% 21/21 [00:10<00:00,  1.92it/s, 0 cls=0.15605, 1 cls=0.22897, 2 cls=0.19162, bce=0.05507, dice=0.88490, loss=-0.82673]\n"
     ]
    },
    {
     "name": "stdout",
     "output_type": "stream",
     "text": [
      "loss: -0.87179 | bce: 0.02856 | dice: 0.90288 | 0 cls: 0.11383 | 1 cls: 0.16889 | 2 cls: 0.13626\n"
     ]
    },
    {
     "name": "stderr",
     "output_type": "stream",
     "text": [
      "Epoch 756, lr 2.2394879999999997e-05: 100% 21/21 [00:10<00:00,  1.91it/s, 0 cls=0.15498, 1 cls=0.22879, 2 cls=0.19090, bce=0.05571, dice=0.88610, loss=-0.82742]\n"
     ]
    },
    {
     "name": "stdout",
     "output_type": "stream",
     "text": [
      "loss: -0.87171 | bce: 0.02849 | dice: 0.90273 | 0 cls: 0.11394 | 1 cls: 0.16901 | 2 cls: 0.13637\n"
     ]
    },
    {
     "name": "stderr",
     "output_type": "stream",
     "text": [
      "Epoch 757, lr 2.2394879999999997e-05: 100% 21/21 [00:10<00:00,  1.93it/s, 0 cls=0.15170, 1 cls=0.22514, 2 cls=0.18731, bce=0.05418, dice=0.88774, loss=-0.83055]\n"
     ]
    },
    {
     "name": "stdout",
     "output_type": "stream",
     "text": [
      "loss: -0.87149 | bce: 0.02839 | dice: 0.90239 | 0 cls: 0.11425 | 1 cls: 0.16913 | 2 cls: 0.13669\n"
     ]
    },
    {
     "name": "stderr",
     "output_type": "stream",
     "text": [
      "Epoch 758, lr 2.2394879999999997e-05: 100% 21/21 [00:11<00:00,  1.86it/s, 0 cls=0.15460, 1 cls=0.22914, 2 cls=0.19106, bce=0.05548, dice=0.88590, loss=-0.82746]\n"
     ]
    },
    {
     "name": "stdout",
     "output_type": "stream",
     "text": [
      "loss: -0.87167 | bce: 0.02835 | dice: 0.90255 | 0 cls: 0.11411 | 1 cls: 0.16886 | 2 cls: 0.13639\n"
     ]
    },
    {
     "name": "stderr",
     "output_type": "stream",
     "text": [
      "Epoch 759, lr 2.2394879999999997e-05: 100% 21/21 [00:11<00:00,  1.89it/s, 0 cls=0.15560, 1 cls=0.22823, 2 cls=0.19108, bce=0.05525, dice=0.88549, loss=-0.82722]\n"
     ]
    },
    {
     "name": "stdout",
     "output_type": "stream",
     "text": [
      "loss: -0.87171 | bce: 0.02825 | dice: 0.90250 | 0 cls: 0.11413 | 1 cls: 0.16869 | 2 cls: 0.13626\n"
     ]
    },
    {
     "name": "stderr",
     "output_type": "stream",
     "text": [
      "Epoch 760, lr 2.2394879999999997e-05: 100% 21/21 [00:10<00:00,  1.92it/s, 0 cls=0.15379, 1 cls=0.22810, 2 cls=0.19011, bce=0.05484, dice=0.88616, loss=-0.82835]\n"
     ]
    },
    {
     "name": "stdout",
     "output_type": "stream",
     "text": [
      "loss: -0.87191 | bce: 0.02844 | dice: 0.90290 | 0 cls: 0.11385 | 1 cls: 0.16854 | 2 cls: 0.13600\n"
     ]
    },
    {
     "name": "stderr",
     "output_type": "stream",
     "text": [
      "Epoch 761, lr 2.2394879999999997e-05: 100% 21/21 [00:10<00:00,  1.93it/s, 0 cls=0.15662, 1 cls=0.22888, 2 cls=0.19206, bce=0.05563, dice=0.88509, loss=-0.82637]\n"
     ]
    },
    {
     "name": "stdout",
     "output_type": "stream",
     "text": [
      "loss: -0.87167 | bce: 0.02846 | dice: 0.90269 | 0 cls: 0.11406 | 1 cls: 0.16887 | 2 cls: 0.13629\n"
     ]
    },
    {
     "name": "stderr",
     "output_type": "stream",
     "text": [
      "Epoch 762, lr 2.2394879999999997e-05: 100% 21/21 [00:10<00:00,  1.92it/s, 0 cls=0.15370, 1 cls=0.22646, 2 cls=0.18860, bce=0.05470, dice=0.88683, loss=-0.82901]\n"
     ]
    },
    {
     "name": "stdout",
     "output_type": "stream",
     "text": [
      "loss: -0.87193 | bce: 0.02855 | dice: 0.90303 | 0 cls: 0.11366 | 1 cls: 0.16878 | 2 cls: 0.13606\n"
     ]
    },
    {
     "name": "stderr",
     "output_type": "stream",
     "text": [
      "Epoch 763, lr 2.2394879999999997e-05: 100% 21/21 [00:10<00:00,  1.94it/s, 0 cls=0.15541, 1 cls=0.22701, 2 cls=0.19001, bce=0.05514, dice=0.88607, loss=-0.82777]\n"
     ]
    },
    {
     "name": "stdout",
     "output_type": "stream",
     "text": [
      "loss: -0.87200 | bce: 0.02849 | dice: 0.90300 | 0 cls: 0.11379 | 1 cls: 0.16843 | 2 cls: 0.13592\n"
     ]
    },
    {
     "name": "stderr",
     "output_type": "stream",
     "text": [
      "Epoch 764, lr 2.2394879999999997e-05: 100% 21/21 [00:10<00:00,  1.92it/s, 0 cls=0.14942, 1 cls=0.22432, 2 cls=0.18624, bce=0.05372, dice=0.88857, loss=-0.83215]\n"
     ]
    },
    {
     "name": "stdout",
     "output_type": "stream",
     "text": [
      "loss: -0.87201 | bce: 0.02846 | dice: 0.90304 | 0 cls: 0.11375 | 1 cls: 0.16849 | 2 cls: 0.13572\n"
     ]
    },
    {
     "name": "stderr",
     "output_type": "stream",
     "text": [
      "Epoch 765, lr 2.2394879999999997e-05: 100% 21/21 [00:10<00:00,  1.93it/s, 0 cls=0.15590, 1 cls=0.22681, 2 cls=0.19066, bce=0.05547, dice=0.88592, loss=-0.82746]\n"
     ]
    },
    {
     "name": "stdout",
     "output_type": "stream",
     "text": [
      "loss: -0.87209 | bce: 0.02848 | dice: 0.90316 | 0 cls: 0.11363 | 1 cls: 0.16847 | 2 cls: 0.13558\n"
     ]
    },
    {
     "name": "stderr",
     "output_type": "stream",
     "text": [
      "Epoch 766, lr 2.2394879999999997e-05: 100% 21/21 [00:11<00:00,  1.89it/s, 0 cls=0.15011, 1 cls=0.22210, 2 cls=0.18502, bce=0.05333, dice=0.88876, loss=-0.83249]\n"
     ]
    },
    {
     "name": "stdout",
     "output_type": "stream",
     "text": [
      "loss: -0.87234 | bce: 0.02844 | dice: 0.90338 | 0 cls: 0.11328 | 1 cls: 0.16836 | 2 cls: 0.13530\n"
     ]
    },
    {
     "name": "stderr",
     "output_type": "stream",
     "text": [
      "Epoch 767, lr 2.2394879999999997e-05: 100% 21/21 [00:10<00:00,  1.91it/s, 0 cls=0.15841, 1 cls=0.23267, 2 cls=0.19497, bce=0.05674, dice=0.88381, loss=-0.82410]\n"
     ]
    },
    {
     "name": "stdout",
     "output_type": "stream",
     "text": [
      "loss: -0.87244 | bce: 0.02843 | dice: 0.90347 | 0 cls: 0.11321 | 1 cls: 0.16812 | 2 cls: 0.13523\n"
     ]
    },
    {
     "name": "stderr",
     "output_type": "stream",
     "text": [
      "Epoch 768, lr 2.2394879999999997e-05: 100% 21/21 [00:11<00:00,  1.90it/s, 0 cls=0.15198, 1 cls=0.22404, 2 cls=0.18754, bce=0.05438, dice=0.88791, loss=-0.83064]\n"
     ]
    },
    {
     "name": "stdout",
     "output_type": "stream",
     "text": [
      "loss: -0.87245 | bce: 0.02839 | dice: 0.90344 | 0 cls: 0.11323 | 1 cls: 0.16803 | 2 cls: 0.13518\n"
     ]
    },
    {
     "name": "stderr",
     "output_type": "stream",
     "text": [
      "Epoch 769, lr 2.2394879999999997e-05: 100% 21/21 [00:10<00:00,  1.92it/s, 0 cls=0.15140, 1 cls=0.22547, 2 cls=0.18797, bce=0.05400, dice=0.88740, loss=-0.83060]\n"
     ]
    },
    {
     "name": "stdout",
     "output_type": "stream",
     "text": [
      "loss: -0.87225 | bce: 0.02846 | dice: 0.90325 | 0 cls: 0.11341 | 1 cls: 0.16832 | 2 cls: 0.13559\n"
     ]
    },
    {
     "name": "stderr",
     "output_type": "stream",
     "text": [
      "Epoch 770, lr 2.2394879999999997e-05: 100% 21/21 [00:10<00:00,  1.91it/s, 0 cls=0.15507, 1 cls=0.22643, 2 cls=0.18921, bce=0.05489, dice=0.88624, loss=-0.82813]\n"
     ]
    },
    {
     "name": "stdout",
     "output_type": "stream",
     "text": [
      "loss: -0.87211 | bce: 0.02846 | dice: 0.90309 | 0 cls: 0.11357 | 1 cls: 0.16845 | 2 cls: 0.13586\n"
     ]
    },
    {
     "name": "stderr",
     "output_type": "stream",
     "text": [
      "Epoch 771, lr 2.2394879999999997e-05: 100% 21/21 [00:10<00:00,  1.92it/s, 0 cls=0.15405, 1 cls=0.22454, 2 cls=0.18870, bce=0.05532, dice=0.88764, loss=-0.82925]\n"
     ]
    },
    {
     "name": "stdout",
     "output_type": "stream",
     "text": [
      "loss: -0.87192 | bce: 0.02849 | dice: 0.90293 | 0 cls: 0.11378 | 1 cls: 0.16855 | 2 cls: 0.13611\n"
     ]
    },
    {
     "name": "stderr",
     "output_type": "stream",
     "text": [
      "Epoch 772, lr 2.2394879999999997e-05: 100% 21/21 [00:10<00:00,  1.92it/s, 0 cls=0.15469, 1 cls=0.22529, 2 cls=0.18881, bce=0.05541, dice=0.88716, loss=-0.82860]\n"
     ]
    },
    {
     "name": "stdout",
     "output_type": "stream",
     "text": [
      "loss: -0.87187 | bce: 0.02842 | dice: 0.90283 | 0 cls: 0.11389 | 1 cls: 0.16857 | 2 cls: 0.13608\n"
     ]
    },
    {
     "name": "stderr",
     "output_type": "stream",
     "text": [
      "Epoch 773, lr 2.2394879999999997e-05: 100% 21/21 [00:10<00:00,  1.92it/s, 0 cls=0.15289, 1 cls=0.22376, 2 cls=0.18766, bce=0.05454, dice=0.88767, loss=-0.83019]\n"
     ]
    },
    {
     "name": "stdout",
     "output_type": "stream",
     "text": [
      "loss: -0.87196 | bce: 0.02839 | dice: 0.90288 | 0 cls: 0.11386 | 1 cls: 0.16839 | 2 cls: 0.13595\n"
     ]
    },
    {
     "name": "stderr",
     "output_type": "stream",
     "text": [
      "Epoch 774, lr 2.2394879999999997e-05: 100% 21/21 [00:10<00:00,  1.92it/s, 0 cls=0.15647, 1 cls=0.22861, 2 cls=0.19189, bce=0.05494, dice=0.88455, loss=-0.82663]\n"
     ]
    },
    {
     "name": "stdout",
     "output_type": "stream",
     "text": [
      "loss: -0.87213 | bce: 0.02845 | dice: 0.90312 | 0 cls: 0.11362 | 1 cls: 0.16827 | 2 cls: 0.13572\n"
     ]
    },
    {
     "name": "stderr",
     "output_type": "stream",
     "text": [
      "Epoch 775, lr 2.2394879999999997e-05: 100% 21/21 [00:10<00:00,  1.94it/s, 0 cls=0.14874, 1 cls=0.22240, 2 cls=0.18502, bce=0.05376, dice=0.88961, loss=-0.83315]\n"
     ]
    },
    {
     "name": "stdout",
     "output_type": "stream",
     "text": [
      "loss: -0.87223 | bce: 0.02843 | dice: 0.90320 | 0 cls: 0.11350 | 1 cls: 0.16823 | 2 cls: 0.13561\n"
     ]
    },
    {
     "name": "stderr",
     "output_type": "stream",
     "text": [
      "Epoch 776, lr 2.2394879999999997e-05: 100% 21/21 [00:10<00:00,  1.92it/s, 0 cls=0.15313, 1 cls=0.22335, 2 cls=0.18741, bce=0.05398, dice=0.88727, loss=-0.83031]\n"
     ]
    },
    {
     "name": "stdout",
     "output_type": "stream",
     "text": [
      "loss: -0.87210 | bce: 0.02847 | dice: 0.90306 | 0 cls: 0.11361 | 1 cls: 0.16839 | 2 cls: 0.13598\n"
     ]
    },
    {
     "name": "stderr",
     "output_type": "stream",
     "text": [
      "Epoch 777, lr 2.2394879999999997e-05: 100% 21/21 [00:11<00:00,  1.88it/s, 0 cls=0.15122, 1 cls=0.22361, 2 cls=0.18644, bce=0.05387, dice=0.88811, loss=-0.83129]\n"
     ]
    },
    {
     "name": "stdout",
     "output_type": "stream",
     "text": [
      "loss: -0.87203 | bce: 0.02844 | dice: 0.90300 | 0 cls: 0.11371 | 1 cls: 0.16841 | 2 cls: 0.13597\n"
     ]
    },
    {
     "name": "stderr",
     "output_type": "stream",
     "text": [
      "Epoch 778, lr 2.2394879999999997e-05: 100% 21/21 [00:10<00:00,  1.92it/s, 0 cls=0.15903, 1 cls=0.23066, 2 cls=0.19402, bce=0.05579, dice=0.88336, loss=-0.82454]\n"
     ]
    },
    {
     "name": "stdout",
     "output_type": "stream",
     "text": [
      "loss: -0.87206 | bce: 0.02844 | dice: 0.90301 | 0 cls: 0.11369 | 1 cls: 0.16840 | 2 cls: 0.13595\n"
     ]
    },
    {
     "name": "stderr",
     "output_type": "stream",
     "text": [
      "Epoch 779, lr 2.2394879999999997e-05: 100% 21/21 [00:10<00:00,  1.94it/s, 0 cls=0.15244, 1 cls=0.22477, 2 cls=0.18858, bce=0.05404, dice=0.88700, loss=-0.83022]\n"
     ]
    },
    {
     "name": "stdout",
     "output_type": "stream",
     "text": [
      "loss: -0.87208 | bce: 0.02844 | dice: 0.90298 | 0 cls: 0.11367 | 1 cls: 0.16844 | 2 cls: 0.13601\n"
     ]
    },
    {
     "name": "stderr",
     "output_type": "stream",
     "text": [
      "Epoch 780, lr 2.2394879999999997e-05: 100% 21/21 [00:11<00:00,  1.91it/s, 0 cls=0.15136, 1 cls=0.22297, 2 cls=0.18646, bce=0.05332, dice=0.88765, loss=-0.83151]\n"
     ]
    },
    {
     "name": "stdout",
     "output_type": "stream",
     "text": [
      "loss: -0.87202 | bce: 0.02852 | dice: 0.90304 | 0 cls: 0.11369 | 1 cls: 0.16847 | 2 cls: 0.13609\n"
     ]
    },
    {
     "name": "stderr",
     "output_type": "stream",
     "text": [
      "Epoch 781, lr 2.2394879999999997e-05: 100% 21/21 [00:10<00:00,  1.93it/s, 0 cls=0.15585, 1 cls=0.22633, 2 cls=0.19066, bce=0.05527, dice=0.88584, loss=-0.82759]\n"
     ]
    },
    {
     "name": "stdout",
     "output_type": "stream",
     "text": [
      "loss: -0.87212 | bce: 0.02843 | dice: 0.90305 | 0 cls: 0.11372 | 1 cls: 0.16813 | 2 cls: 0.13588\n"
     ]
    },
    {
     "name": "stderr",
     "output_type": "stream",
     "text": [
      "Epoch 782, lr 2.2394879999999997e-05: 100% 21/21 [00:11<00:00,  1.85it/s, 0 cls=0.15317, 1 cls=0.22726, 2 cls=0.18948, bce=0.05507, dice=0.88695, loss=-0.82892]\n"
     ]
    },
    {
     "name": "stdout",
     "output_type": "stream",
     "text": [
      "loss: -0.87172 | bce: 0.02843 | dice: 0.90264 | 0 cls: 0.11404 | 1 cls: 0.16876 | 2 cls: 0.13644\n"
     ]
    },
    {
     "name": "stderr",
     "output_type": "stream",
     "text": [
      "Epoch 783, lr 2.2394879999999997e-05: 100% 21/21 [00:10<00:00,  1.94it/s, 0 cls=0.15383, 1 cls=0.22589, 2 cls=0.18958, bce=0.05459, dice=0.88656, loss=-0.82900]\n"
     ]
    },
    {
     "name": "stdout",
     "output_type": "stream",
     "text": [
      "loss: -0.87171 | bce: 0.02849 | dice: 0.90267 | 0 cls: 0.11403 | 1 cls: 0.16876 | 2 cls: 0.13650\n"
     ]
    },
    {
     "name": "stderr",
     "output_type": "stream",
     "text": [
      "Epoch 784, lr 2.2394879999999997e-05: 100% 21/21 [00:10<00:00,  1.91it/s, 0 cls=0.15544, 1 cls=0.23028, 2 cls=0.19240, bce=0.05566, dice=0.88514, loss=-0.82659]\n"
     ]
    },
    {
     "name": "stdout",
     "output_type": "stream",
     "text": [
      "loss: -0.87195 | bce: 0.02830 | dice: 0.90272 | 0 cls: 0.11396 | 1 cls: 0.16831 | 2 cls: 0.13608\n"
     ]
    },
    {
     "name": "stderr",
     "output_type": "stream",
     "text": [
      "Epoch 785, lr 2.2394879999999997e-05: 100% 21/21 [00:11<00:00,  1.86it/s, 0 cls=0.15437, 1 cls=0.22639, 2 cls=0.18948, bce=0.05474, dice=0.88632, loss=-0.82853]\n"
     ]
    },
    {
     "name": "stdout",
     "output_type": "stream",
     "text": [
      "loss: -0.87187 | bce: 0.02847 | dice: 0.90278 | 0 cls: 0.11390 | 1 cls: 0.16860 | 2 cls: 0.13631\n"
     ]
    },
    {
     "name": "stderr",
     "output_type": "stream",
     "text": [
      "Epoch 786, lr 2.2394879999999997e-05: 100% 21/21 [00:10<00:00,  1.92it/s, 0 cls=0.15083, 1 cls=0.22224, 2 cls=0.18599, bce=0.05382, dice=0.88857, loss=-0.83191]\n"
     ]
    },
    {
     "name": "stdout",
     "output_type": "stream",
     "text": [
      "loss: -0.87171 | bce: 0.02844 | dice: 0.90259 | 0 cls: 0.11404 | 1 cls: 0.16878 | 2 cls: 0.13662\n"
     ]
    },
    {
     "name": "stderr",
     "output_type": "stream",
     "text": [
      "Epoch 787, lr 2.2394879999999997e-05: 100% 21/21 [00:10<00:00,  1.91it/s, 0 cls=0.15624, 1 cls=0.22711, 2 cls=0.19171, bce=0.05514, dice=0.88514, loss=-0.82717]\n"
     ]
    },
    {
     "name": "stdout",
     "output_type": "stream",
     "text": [
      "loss: -0.87193 | bce: 0.02847 | dice: 0.90287 | 0 cls: 0.11390 | 1 cls: 0.16830 | 2 cls: 0.13626\n"
     ]
    },
    {
     "name": "stderr",
     "output_type": "stream",
     "text": [
      "Epoch 788, lr 2.2394879999999997e-05: 100% 21/21 [00:10<00:00,  1.92it/s, 0 cls=0.15139, 1 cls=0.22485, 2 cls=0.18731, bce=0.05448, dice=0.88824, loss=-0.83086]\n"
     ]
    },
    {
     "name": "stdout",
     "output_type": "stream",
     "text": [
      "loss: -0.87184 | bce: 0.02849 | dice: 0.90282 | 0 cls: 0.11388 | 1 cls: 0.16854 | 2 cls: 0.13640\n"
     ]
    },
    {
     "name": "stderr",
     "output_type": "stream",
     "text": [
      "Epoch 789, lr 2.2394879999999997e-05: 100% 21/21 [00:10<00:00,  1.91it/s, 0 cls=0.14860, 1 cls=0.22091, 2 cls=0.18385, bce=0.05272, dice=0.88944, loss=-0.83379]\n"
     ]
    },
    {
     "name": "stdout",
     "output_type": "stream",
     "text": [
      "loss: -0.87181 | bce: 0.02864 | dice: 0.90292 | 0 cls: 0.11384 | 1 cls: 0.16867 | 2 cls: 0.13652\n"
     ]
    },
    {
     "name": "stderr",
     "output_type": "stream",
     "text": [
      "Epoch 790, lr 0.0009565938000000002: 100% 21/21 [00:11<00:00,  1.90it/s, 0 cls=0.16037, 1 cls=0.23799, 2 cls=0.19707, bce=0.05781, dice=0.88244, loss=-0.82134]\n"
     ]
    },
    {
     "name": "stdout",
     "output_type": "stream",
     "text": [
      "loss: -0.87104 | bce: 0.02901 | dice: 0.90284 | 0 cls: 0.11326 | 1 cls: 0.17164 | 2 cls: 0.13744\n"
     ]
    },
    {
     "name": "stderr",
     "output_type": "stream",
     "text": [
      "Epoch 791, lr 0.0009565938000000002: 100% 21/21 [00:11<00:00,  1.90it/s, 0 cls=0.16852, 1 cls=0.24489, 2 cls=0.20516, bce=0.05918, dice=0.87711, loss=-0.81444]\n"
     ]
    },
    {
     "name": "stdout",
     "output_type": "stream",
     "text": [
      "loss: -0.87011 | bce: 0.02853 | dice: 0.90166 | 0 cls: 0.11763 | 1 cls: 0.16745 | 2 cls: 0.13544\n"
     ]
    },
    {
     "name": "stderr",
     "output_type": "stream",
     "text": [
      "Epoch 792, lr 0.00028697814000000005: 100% 21/21 [00:11<00:00,  1.91it/s, 0 cls=0.15878, 1 cls=0.23378, 2 cls=0.19425, bce=0.05642, dice=0.88328, loss=-0.82367]\n"
     ]
    },
    {
     "name": "stdout",
     "output_type": "stream",
     "text": [
      "loss: -0.87222 | bce: 0.02944 | dice: 0.90463 | 0 cls: 0.11271 | 1 cls: 0.16922 | 2 cls: 0.13478\n"
     ]
    },
    {
     "name": "stderr",
     "output_type": "stream",
     "text": [
      "Epoch 793, lr 0.00028697814000000005: 100% 21/21 [00:10<00:00,  1.91it/s, 0 cls=0.15770, 1 cls=0.23169, 2 cls=0.19329, bce=0.05573, dice=0.88399, loss=-0.82496]\n"
     ]
    },
    {
     "name": "stdout",
     "output_type": "stream",
     "text": [
      "loss: -0.87192 | bce: 0.02897 | dice: 0.90321 | 0 cls: 0.11404 | 1 cls: 0.16779 | 2 cls: 0.13598\n"
     ]
    },
    {
     "name": "stderr",
     "output_type": "stream",
     "text": [
      "Epoch 794, lr 8.609344200000001e-05: 100% 21/21 [00:11<00:00,  1.91it/s, 0 cls=0.15992, 1 cls=0.23228, 2 cls=0.19482, bce=0.05563, dice=0.88223, loss=-0.82357]\n"
     ]
    },
    {
     "name": "stdout",
     "output_type": "stream",
     "text": [
      "loss: -0.87160 | bce: 0.02881 | dice: 0.90288 | 0 cls: 0.11402 | 1 cls: 0.16890 | 2 cls: 0.13642\n"
     ]
    },
    {
     "name": "stderr",
     "output_type": "stream",
     "text": [
      "Epoch 795, lr 0.0009565938000000002: 100% 21/21 [00:10<00:00,  1.94it/s, 0 cls=0.16438, 1 cls=0.23876, 2 cls=0.20070, bce=0.05867, dice=0.88050, loss=-0.81862]\n"
     ]
    },
    {
     "name": "stdout",
     "output_type": "stream",
     "text": [
      "loss: -0.86473 | bce: 0.02901 | dice: 0.89705 | 0 cls: 0.11713 | 1 cls: 0.18556 | 2 cls: 0.14424\n"
     ]
    },
    {
     "name": "stderr",
     "output_type": "stream",
     "text": [
      "Epoch 796, lr 0.0009565938000000002: 100% 21/21 [00:10<00:00,  1.93it/s, 0 cls=0.17047, 1 cls=0.24792, 2 cls=0.20707, bce=0.05984, dice=0.87575, loss=-0.81233]\n"
     ]
    },
    {
     "name": "stdout",
     "output_type": "stream",
     "text": [
      "loss: -0.86647 | bce: 0.02900 | dice: 0.89780 | 0 cls: 0.11880 | 1 cls: 0.17628 | 2 cls: 0.14189\n"
     ]
    },
    {
     "name": "stderr",
     "output_type": "stream",
     "text": [
      "Epoch 797, lr 0.00028697814000000005: 100% 21/21 [00:11<00:00,  1.77it/s, 0 cls=0.16177, 1 cls=0.23830, 2 cls=0.19846, bce=0.05789, dice=0.88146, loss=-0.82038]\n"
     ]
    },
    {
     "name": "stdout",
     "output_type": "stream",
     "text": [
      "loss: -0.87057 | bce: 0.02987 | dice: 0.90271 | 0 cls: 0.11399 | 1 cls: 0.17193 | 2 cls: 0.13883\n"
     ]
    },
    {
     "name": "stderr",
     "output_type": "stream",
     "text": [
      "Epoch 798, lr 0.00028697814000000005: 100% 21/21 [00:10<00:00,  1.94it/s, 0 cls=0.15707, 1 cls=0.23182, 2 cls=0.19313, bce=0.05633, dice=0.88464, loss=-0.82519]\n"
     ]
    },
    {
     "name": "stdout",
     "output_type": "stream",
     "text": [
      "loss: -0.87053 | bce: 0.02866 | dice: 0.90127 | 0 cls: 0.11450 | 1 cls: 0.17060 | 2 cls: 0.14057\n"
     ]
    },
    {
     "name": "stderr",
     "output_type": "stream",
     "text": [
      "Epoch 799, lr 8.609344200000001e-05: 100% 21/21 [00:10<00:00,  1.93it/s, 0 cls=0.15997, 1 cls=0.22944, 2 cls=0.19327, bce=0.05575, dice=0.88350, loss=-0.82428]\n"
     ]
    },
    {
     "name": "stdout",
     "output_type": "stream",
     "text": [
      "loss: -0.87123 | bce: 0.02896 | dice: 0.90221 | 0 cls: 0.11466 | 1 cls: 0.16829 | 2 cls: 0.13895\n",
      "Finished: best loss -0.87357 on epoch 454\n"
     ]
    }
   ],
   "source": [
    "train_args = {\n",
    "    'model_name': 'TernausNet34_with_scale_05_vgg11_centers_800',\n",
    "    'network': 'UNet11',\n",
    "    'nb_epoch': 800,\n",
    "    'loss': 'BCEDiceLossMultiWithoutLog',\n",
    "    'lr_args': {\n",
    "        'adjust_init_lr': 0.0008,\n",
    "        'adjust_lr_decay_factor': 0.6,\n",
    "        'cycle_epochs_decay': 2,\n",
    "        'cycle_init_lr': 0.002,\n",
    "        'cycle_lr_decay_factor': 0.3,\n",
    "        'global_cycle_lr_decay_factor': 0.9,\n",
    "        'global_num_epochs_per_cycle': 100,\n",
    "        'num_epochs_per_cycle': 5,\n",
    "        'num_epochs_per_decay': 100\n",
    "    }, \n",
    "    'model_dir': 'models', \n",
    "    'log_dir': 'logs', \n",
    "    'network_args': {\n",
    "        'num_classes': 3, \n",
    "        'num_filters': 32, \n",
    "        'pretrained': True\n",
    "    }, \n",
    "    'loss_args': {\n",
    "        'weights': [0.6, 0.3, 0.1],\n",
    "        'num_classes': 3\n",
    "    },       \n",
    "    'optimizer': 'Adam'\n",
    "}\n",
    "\n",
    "train(\n",
    "    train_args, train_ids + val_ids, val_ids[:1], \n",
    "    \"../output_data/with_scale_05_03_only_centers/scaled_images/{}.png\", \"../output_data/with_scale_05_03_only_centers/scaled_masks/{}.png\", \n",
    "    32, 1, train_transforms, val_transforms, period=64\n",
    ")"
   ]
  },
  {
   "cell_type": "code",
   "execution_count": null,
   "metadata": {},
   "outputs": [],
   "source": []
  }
 ],
 "metadata": {
  "kernelspec": {
   "display_name": "Environment (conda_pytorch_p36)",
   "language": "python",
   "name": "conda_pytorch_p36"
  },
  "language_info": {
   "codemirror_mode": {
    "name": "ipython",
    "version": 3
   },
   "file_extension": ".py",
   "mimetype": "text/x-python",
   "name": "python",
   "nbconvert_exporter": "python",
   "pygments_lexer": "ipython3",
   "version": "3.6.4"
  }
 },
 "nbformat": 4,
 "nbformat_minor": 2
}
