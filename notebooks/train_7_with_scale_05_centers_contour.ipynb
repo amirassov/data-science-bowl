{
 "cells": [
  {
   "cell_type": "code",
   "execution_count": 1,
   "metadata": {},
   "outputs": [
    {
     "data": {
      "text/html": [
       "<style>.container { width:95% !important; }</style>"
      ],
      "text/plain": [
       "<IPython.core.display.HTML object>"
      ]
     },
     "metadata": {},
     "output_type": "display_data"
    }
   ],
   "source": [
    "from IPython.core.display import display, HTML\n",
    "display(HTML(\"<style>.container { width:95% !important; }</style>\"))"
   ]
  },
  {
   "cell_type": "code",
   "execution_count": 2,
   "metadata": {},
   "outputs": [],
   "source": [
    "import warnings\n",
    "warnings.simplefilter(\"ignore\", UserWarning)\n",
    "warnings.simplefilter(\"ignore\", FutureWarning)\n",
    "warnings.simplefilter(\"ignore\", RuntimeWarning)\n",
    "\n",
    "import sys\n",
    "sys.path.append('../../dstorch/')\n",
    "\n",
    "import matplotlib.pyplot as plt\n",
    "%matplotlib inline\n",
    "%reload_ext autoreload\n",
    "%autoreload 2"
   ]
  },
  {
   "cell_type": "code",
   "execution_count": 3,
   "metadata": {},
   "outputs": [],
   "source": [
    "import os\n",
    "import pandas as pd\n",
    "from dstorch import transforms\n",
    "from dstorch.train import train\n",
    "import torch.backends.cudnn as cudnn\n",
    "import cv2"
   ]
  },
  {
   "cell_type": "code",
   "execution_count": 4,
   "metadata": {},
   "outputs": [],
   "source": [
    "ids = list([x.split('.')[0] for x in list(next(os.walk(\"../output_data/with_scale_05/images/\"))[2])])\n",
    "classes = pd.read_csv(\"../data/classes.csv\")\n",
    "val_ids = list(classes.loc[classes['type'] == 'val', 'id'])\n",
    "train_ids = list(set(ids) - set(val_ids))"
   ]
  },
  {
   "cell_type": "code",
   "execution_count": 5,
   "metadata": {},
   "outputs": [],
   "source": [
    "train_transforms = transforms.DualCompose(\n",
    "    [\n",
    "        transforms.RandomCrop((256, 256)),\n",
    "        transforms.VerticalFlip(),\n",
    "        transforms.HorizontalFlip(),\n",
    "        transforms.Transpose(),\n",
    "        transforms.ShiftScaleRotate(scale_limit=0.3, shift_limit=0.3),\n",
    "        transforms.Distort1(0.4, 0.4),\n",
    "        transforms.ImageOnly(transforms.RandomBrightness(0.6)),\n",
    "        transforms.ImageOnly(transforms.RandomContrast(0.6)),\n",
    "        transforms.ImageOnly(transforms.RandomSaturation(0.6)),\n",
    "        transforms.ImageOnly(transforms.Normalize(\n",
    "            mean=[0.485, 0.456, 0.406],\n",
    "            std=[0.229, 0.224, 0.225]\n",
    "        ))\n",
    "    ]\n",
    ")\n",
    "\n",
    "val_transforms = transforms.DualCompose(\n",
    "    [\n",
    "        transforms.ImageOnly(transforms.Normalize(\n",
    "            mean=[0.485, 0.456, 0.406],\n",
    "            std=[0.229, 0.224, 0.225]\n",
    "        ))\n",
    "    ]\n",
    ")"
   ]
  },
  {
   "cell_type": "code",
   "execution_count": 6,
   "metadata": {},
   "outputs": [],
   "source": [
    "cudnn.benchmark = True"
   ]
  },
  {
   "cell_type": "code",
   "execution_count": 7,
   "metadata": {
    "scrolled": true
   },
   "outputs": [
    {
     "name": "stderr",
     "output_type": "stream",
     "text": [
      "Epoch 0, lr 0.0005: 100% 21/21 [00:17<00:00,  1.17it/s, 0 cls=1.74883, 1 cls=2.34274, 2 cls=1.98204, bce=0.33354, dice=0.21007, loss=0.13867]\n"
     ]
    },
    {
     "name": "stdout",
     "output_type": "stream",
     "text": [
      "loss: -0.18561 | bce: 0.11712 | dice: 0.30407 | 0 cls: 1.18287 | 1 cls: 1.34461 | 2 cls: 1.21581\n"
     ]
    },
    {
     "name": "stderr",
     "output_type": "stream",
     "text": [
      "Epoch 1, lr 0.0005: 100% 21/21 [00:12<00:00,  1.71it/s, 0 cls=0.77454, 1 cls=1.03613, 2 cls=0.85655, bce=0.15152, dice=0.45199, loss=-0.30850]\n"
     ]
    },
    {
     "name": "stdout",
     "output_type": "stream",
     "text": [
      "loss: -0.42189 | bce: 0.08911 | dice: 0.50958 | 0 cls: 0.51936 | 1 cls: 0.95794 | 2 cls: 0.73023\n"
     ]
    },
    {
     "name": "stderr",
     "output_type": "stream",
     "text": [
      "Epoch 2, lr 0.0005: 100% 21/21 [00:12<00:00,  1.70it/s, 0 cls=0.45923, 1 cls=0.84636, 2 cls=0.63031, bce=0.17009, dice=0.58772, loss=-0.43142]\n"
     ]
    },
    {
     "name": "stdout",
     "output_type": "stream",
     "text": [
      "loss: -0.54803 | bce: 0.09179 | dice: 0.61836 | 0 cls: 0.39930 | 1 cls: 0.57149 | 2 cls: 0.45037\n"
     ]
    },
    {
     "name": "stderr",
     "output_type": "stream",
     "text": [
      "Epoch 3, lr 0.0005: 100% 21/21 [00:12<00:00,  1.70it/s, 0 cls=0.36852, 1 cls=0.62287, 2 cls=0.43052, bce=0.13237, dice=0.66794, loss=-0.54061]\n"
     ]
    },
    {
     "name": "stdout",
     "output_type": "stream",
     "text": [
      "loss: -0.45907 | bce: 0.14153 | dice: 0.56998 | 0 cls: 0.55996 | 1 cls: 0.68359 | 2 cls: 0.39842\n"
     ]
    },
    {
     "name": "stderr",
     "output_type": "stream",
     "text": [
      "Epoch 4, lr 0.0005: 100% 21/21 [00:12<00:00,  1.67it/s, 0 cls=0.35703, 1 cls=0.54697, 2 cls=0.40973, bce=0.12737, dice=0.69164, loss=-0.57429]\n"
     ]
    },
    {
     "name": "stdout",
     "output_type": "stream",
     "text": [
      "loss: -0.58396 | bce: 0.08584 | dice: 0.65426 | 0 cls: 0.32011 | 1 cls: 0.57632 | 2 cls: 0.40924\n"
     ]
    },
    {
     "name": "stderr",
     "output_type": "stream",
     "text": [
      "Epoch 5, lr 0.0005: 100% 21/21 [00:12<00:00,  1.68it/s, 0 cls=0.31805, 1 cls=0.47765, 2 cls=0.37665, bce=0.12056, dice=0.72527, loss=-0.61525]\n"
     ]
    },
    {
     "name": "stdout",
     "output_type": "stream",
     "text": [
      "loss: -0.61265 | bce: 0.07793 | dice: 0.66985 | 0 cls: 0.32668 | 1 cls: 0.47399 | 2 cls: 0.37792\n"
     ]
    },
    {
     "name": "stderr",
     "output_type": "stream",
     "text": [
      "Epoch 6, lr 0.0005: 100% 21/21 [00:12<00:00,  1.69it/s, 0 cls=0.28384, 1 cls=0.43508, 2 cls=0.34434, bce=0.10901, dice=0.74449, loss=-0.64701]\n"
     ]
    },
    {
     "name": "stdout",
     "output_type": "stream",
     "text": [
      "loss: -0.60739 | bce: 0.07283 | dice: 0.67012 | 0 cls: 0.34366 | 1 cls: 0.46357 | 2 cls: 0.38020\n"
     ]
    },
    {
     "name": "stderr",
     "output_type": "stream",
     "text": [
      "Epoch 7, lr 0.0005: 100% 21/21 [00:12<00:00,  1.69it/s, 0 cls=0.30896, 1 cls=0.44154, 2 cls=0.35783, bce=0.11498, dice=0.73781, loss=-0.63367]\n"
     ]
    },
    {
     "name": "stdout",
     "output_type": "stream",
     "text": [
      "loss: -0.59067 | bce: 0.08889 | dice: 0.65510 | 0 cls: 0.40241 | 1 cls: 0.45221 | 2 cls: 0.36648\n"
     ]
    },
    {
     "name": "stderr",
     "output_type": "stream",
     "text": [
      "Epoch 8, lr 0.0005: 100% 21/21 [00:12<00:00,  1.70it/s, 0 cls=0.28910, 1 cls=0.41982, 2 cls=0.33849, bce=0.10788, dice=0.74818, loss=-0.65192]\n"
     ]
    },
    {
     "name": "stdout",
     "output_type": "stream",
     "text": [
      "loss: -0.63566 | bce: 0.07219 | dice: 0.69882 | 0 cls: 0.28650 | 1 cls: 0.44360 | 2 cls: 0.35455\n"
     ]
    },
    {
     "name": "stderr",
     "output_type": "stream",
     "text": [
      "Epoch 9, lr 0.0005: 100% 21/21 [00:12<00:00,  1.71it/s, 0 cls=0.27064, 1 cls=0.39245, 2 cls=0.31705, bce=0.10453, dice=0.76211, loss=-0.66952]\n"
     ]
    },
    {
     "name": "stdout",
     "output_type": "stream",
     "text": [
      "loss: -0.62962 | bce: 0.07204 | dice: 0.68623 | 0 cls: 0.32454 | 1 cls: 0.42456 | 2 cls: 0.35315\n"
     ]
    },
    {
     "name": "stderr",
     "output_type": "stream",
     "text": [
      "Epoch 10, lr 0.0005: 100% 21/21 [00:12<00:00,  1.70it/s, 0 cls=0.28706, 1 cls=0.40518, 2 cls=0.32935, bce=0.10662, dice=0.75479, loss=-0.65847]\n"
     ]
    },
    {
     "name": "stdout",
     "output_type": "stream",
     "text": [
      "loss: -0.63372 | bce: 0.06700 | dice: 0.68907 | 0 cls: 0.28777 | 1 cls: 0.45907 | 2 cls: 0.36033\n"
     ]
    },
    {
     "name": "stderr",
     "output_type": "stream",
     "text": [
      "Epoch 11, lr 0.0005: 100% 21/21 [00:12<00:00,  1.69it/s, 0 cls=0.27866, 1 cls=0.39116, 2 cls=0.31745, bce=0.10386, dice=0.76164, loss=-0.66837]\n"
     ]
    },
    {
     "name": "stdout",
     "output_type": "stream",
     "text": [
      "loss: -0.65893 | bce: 0.07942 | dice: 0.72261 | 0 cls: 0.28221 | 1 cls: 0.39439 | 2 cls: 0.30798\n"
     ]
    },
    {
     "name": "stderr",
     "output_type": "stream",
     "text": [
      "Epoch 12, lr 0.0005: 100% 21/21 [00:12<00:00,  1.72it/s, 0 cls=0.26867, 1 cls=0.37846, 2 cls=0.30881, bce=0.10585, dice=0.77193, loss=-0.67688]\n"
     ]
    },
    {
     "name": "stdout",
     "output_type": "stream",
     "text": [
      "loss: -0.67334 | bce: 0.06208 | dice: 0.71988 | 0 cls: 0.27131 | 1 cls: 0.37176 | 2 cls: 0.30307\n"
     ]
    },
    {
     "name": "stderr",
     "output_type": "stream",
     "text": [
      "Epoch 13, lr 0.0005: 100% 21/21 [00:12<00:00,  1.73it/s, 0 cls=0.24919, 1 cls=0.36499, 2 cls=0.29781, bce=0.09661, dice=0.77746, loss=-0.69164]\n"
     ]
    },
    {
     "name": "stdout",
     "output_type": "stream",
     "text": [
      "loss: -0.68058 | bce: 0.05938 | dice: 0.72711 | 0 cls: 0.26015 | 1 cls: 0.36495 | 2 cls: 0.29486\n"
     ]
    },
    {
     "name": "stderr",
     "output_type": "stream",
     "text": [
      "Epoch 14, lr 0.0005: 100% 21/21 [00:12<00:00,  1.71it/s, 0 cls=0.25415, 1 cls=0.36630, 2 cls=0.29484, bce=0.09554, dice=0.77548, loss=-0.69017]\n"
     ]
    },
    {
     "name": "stdout",
     "output_type": "stream",
     "text": [
      "loss: -0.69955 | bce: 0.06124 | dice: 0.75031 | 0 cls: 0.23638 | 1 cls: 0.33686 | 2 cls: 0.27389\n"
     ]
    },
    {
     "name": "stderr",
     "output_type": "stream",
     "text": [
      "Epoch 15, lr 0.0005: 100% 21/21 [00:12<00:00,  1.71it/s, 0 cls=0.24932, 1 cls=0.35607, 2 cls=0.29121, bce=0.09528, dice=0.77984, loss=-0.69547]\n"
     ]
    },
    {
     "name": "stdout",
     "output_type": "stream",
     "text": [
      "loss: -0.70462 | bce: 0.06201 | dice: 0.75520 | 0 cls: 0.23448 | 1 cls: 0.32604 | 2 cls: 0.27171\n"
     ]
    },
    {
     "name": "stderr",
     "output_type": "stream",
     "text": [
      "Epoch 16, lr 0.0005: 100% 21/21 [00:12<00:00,  1.70it/s, 0 cls=0.23922, 1 cls=0.35362, 2 cls=0.28665, bce=0.09344, dice=0.78460, loss=-0.70128]\n"
     ]
    },
    {
     "name": "stdout",
     "output_type": "stream",
     "text": [
      "loss: -0.72428 | bce: 0.05313 | dice: 0.76620 | 0 cls: 0.21078 | 1 cls: 0.30231 | 2 cls: 0.24499\n"
     ]
    },
    {
     "name": "stderr",
     "output_type": "stream",
     "text": [
      "Epoch 17, lr 0.0005: 100% 21/21 [00:12<00:00,  1.72it/s, 0 cls=0.24176, 1 cls=0.34162, 2 cls=0.28118, bce=0.09204, dice=0.78682, loss=-0.70553]\n"
     ]
    },
    {
     "name": "stdout",
     "output_type": "stream",
     "text": [
      "loss: -0.69713 | bce: 0.06250 | dice: 0.74617 | 0 cls: 0.22060 | 1 cls: 0.35976 | 2 cls: 0.27582\n"
     ]
    },
    {
     "name": "stderr",
     "output_type": "stream",
     "text": [
      "Epoch 18, lr 0.0005: 100% 21/21 [00:12<00:00,  1.71it/s, 0 cls=0.24114, 1 cls=0.34884, 2 cls=0.28636, bce=0.09481, dice=0.78719, loss=-0.70276]\n"
     ]
    },
    {
     "name": "stdout",
     "output_type": "stream",
     "text": [
      "loss: -0.74154 | bce: 0.05023 | dice: 0.78049 | 0 cls: 0.19541 | 1 cls: 0.27893 | 2 cls: 0.22998\n"
     ]
    },
    {
     "name": "stderr",
     "output_type": "stream",
     "text": [
      "Epoch 19, lr 0.0005: 100% 21/21 [00:12<00:00,  1.70it/s, 0 cls=0.24822, 1 cls=0.34354, 2 cls=0.28345, bce=0.09229, dice=0.78395, loss=-0.70226]\n"
     ]
    },
    {
     "name": "stdout",
     "output_type": "stream",
     "text": [
      "loss: -0.70246 | bce: 0.05755 | dice: 0.74761 | 0 cls: 0.23079 | 1 cls: 0.32396 | 2 cls: 0.26353\n"
     ]
    },
    {
     "name": "stderr",
     "output_type": "stream",
     "text": [
      "Epoch 20, lr 0.0005: 100% 21/21 [00:12<00:00,  1.71it/s, 0 cls=0.23145, 1 cls=0.33176, 2 cls=0.27018, bce=0.08979, dice=0.79264, loss=-0.71401]\n"
     ]
    },
    {
     "name": "stdout",
     "output_type": "stream",
     "text": [
      "loss: -0.70866 | bce: 0.05465 | dice: 0.74790 | 0 cls: 0.22432 | 1 cls: 0.32389 | 2 cls: 0.26406\n"
     ]
    },
    {
     "name": "stderr",
     "output_type": "stream",
     "text": [
      "Epoch 21, lr 0.0005: 100% 21/21 [00:12<00:00,  1.72it/s, 0 cls=0.22947, 1 cls=0.34191, 2 cls=0.27642, bce=0.09118, dice=0.79262, loss=-0.71115]\n"
     ]
    },
    {
     "name": "stdout",
     "output_type": "stream",
     "text": [
      "loss: -0.75222 | bce: 0.05065 | dice: 0.79147 | 0 cls: 0.18826 | 1 cls: 0.26847 | 2 cls: 0.22015\n"
     ]
    },
    {
     "name": "stderr",
     "output_type": "stream",
     "text": [
      "Epoch 22, lr 0.0005: 100% 21/21 [00:12<00:00,  1.71it/s, 0 cls=0.22858, 1 cls=0.32062, 2 cls=0.26789, bce=0.09079, dice=0.80038, loss=-0.72026]\n"
     ]
    },
    {
     "name": "stdout",
     "output_type": "stream",
     "text": [
      "loss: -0.74970 | bce: 0.04948 | dice: 0.78517 | 0 cls: 0.20146 | 1 cls: 0.26479 | 2 cls: 0.21697\n"
     ]
    },
    {
     "name": "stderr",
     "output_type": "stream",
     "text": [
      "Epoch 23, lr 0.0005: 100% 21/21 [00:12<00:00,  1.70it/s, 0 cls=0.22973, 1 cls=0.32300, 2 cls=0.26662, bce=0.08774, dice=0.79573, loss=-0.71914]\n"
     ]
    },
    {
     "name": "stdout",
     "output_type": "stream",
     "text": [
      "loss: -0.74045 | bce: 0.05110 | dice: 0.77887 | 0 cls: 0.19283 | 1 cls: 0.28638 | 2 cls: 0.22474\n"
     ]
    },
    {
     "name": "stderr",
     "output_type": "stream",
     "text": [
      "Epoch 24, lr 0.0005: 100% 21/21 [00:12<00:00,  1.69it/s, 0 cls=0.22809, 1 cls=0.31919, 2 cls=0.26325, bce=0.08904, dice=0.79954, loss=-0.72127]\n"
     ]
    },
    {
     "name": "stdout",
     "output_type": "stream",
     "text": [
      "loss: -0.72956 | bce: 0.05621 | dice: 0.77158 | 0 cls: 0.18679 | 1 cls: 0.32313 | 2 cls: 0.24380\n"
     ]
    },
    {
     "name": "stderr",
     "output_type": "stream",
     "text": [
      "Epoch 25, lr 0.0005: 100% 21/21 [00:12<00:00,  1.69it/s, 0 cls=0.22133, 1 cls=0.31952, 2 cls=0.25973, bce=0.08749, dice=0.80092, loss=-0.72405]\n"
     ]
    },
    {
     "name": "stdout",
     "output_type": "stream",
     "text": [
      "loss: -0.77574 | bce: 0.04526 | dice: 0.80633 | 0 cls: 0.17531 | 1 cls: 0.22893 | 2 cls: 0.19210\n"
     ]
    },
    {
     "name": "stderr",
     "output_type": "stream",
     "text": [
      "Epoch 26, lr 0.0005: 100% 21/21 [00:12<00:00,  1.73it/s, 0 cls=0.22383, 1 cls=0.31486, 2 cls=0.25744, bce=0.08727, dice=0.80145, loss=-0.72488]\n"
     ]
    },
    {
     "name": "stdout",
     "output_type": "stream",
     "text": [
      "loss: -0.67389 | bce: 0.07216 | dice: 0.75156 | 0 cls: 0.21002 | 1 cls: 0.41152 | 2 cls: 0.29962\n"
     ]
    },
    {
     "name": "stderr",
     "output_type": "stream",
     "text": [
      "Epoch 27, lr 0.0005: 100% 21/21 [00:12<00:00,  1.69it/s, 0 cls=0.22075, 1 cls=0.32880, 2 cls=0.26682, bce=0.08776, dice=0.79729, loss=-0.72030]\n"
     ]
    },
    {
     "name": "stdout",
     "output_type": "stream",
     "text": [
      "loss: -0.75888 | bce: 0.04432 | dice: 0.78980 | 0 cls: 0.18114 | 1 cls: 0.25552 | 2 cls: 0.20812\n"
     ]
    },
    {
     "name": "stderr",
     "output_type": "stream",
     "text": [
      "Epoch 28, lr 0.0005: 100% 21/21 [00:12<00:00,  1.67it/s, 0 cls=0.22352, 1 cls=0.31709, 2 cls=0.26350, bce=0.08750, dice=0.80079, loss=-0.72420]\n"
     ]
    },
    {
     "name": "stdout",
     "output_type": "stream",
     "text": [
      "loss: -0.77900 | bce: 0.04704 | dice: 0.81588 | 0 cls: 0.15958 | 1 cls: 0.22979 | 2 cls: 0.18622\n"
     ]
    },
    {
     "name": "stderr",
     "output_type": "stream",
     "text": [
      "Epoch 29, lr 0.0005: 100% 21/21 [00:12<00:00,  1.70it/s, 0 cls=0.23077, 1 cls=0.31782, 2 cls=0.26676, bce=0.08962, dice=0.79878, loss=-0.72039]\n"
     ]
    },
    {
     "name": "stdout",
     "output_type": "stream",
     "text": [
      "loss: -0.76798 | bce: 0.04527 | dice: 0.79962 | 0 cls: 0.17229 | 1 cls: 0.25406 | 2 cls: 0.19991\n"
     ]
    },
    {
     "name": "stderr",
     "output_type": "stream",
     "text": [
      "Epoch 30, lr 0.0005: 100% 21/21 [00:12<00:00,  1.67it/s, 0 cls=0.22311, 1 cls=0.31528, 2 cls=0.26229, bce=0.08473, dice=0.79942, loss=-0.72573]\n"
     ]
    },
    {
     "name": "stdout",
     "output_type": "stream",
     "text": [
      "loss: -0.75757 | bce: 0.04759 | dice: 0.79087 | 0 cls: 0.17276 | 1 cls: 0.27862 | 2 cls: 0.21086\n"
     ]
    },
    {
     "name": "stderr",
     "output_type": "stream",
     "text": [
      "Epoch 31, lr 0.0005: 100% 21/21 [00:12<00:00,  1.71it/s, 0 cls=0.22399, 1 cls=0.31127, 2 cls=0.25963, bce=0.08680, dice=0.80240, loss=-0.72667]\n"
     ]
    },
    {
     "name": "stdout",
     "output_type": "stream",
     "text": [
      "loss: -0.76912 | bce: 0.04473 | dice: 0.79896 | 0 cls: 0.17641 | 1 cls: 0.24379 | 2 cls: 0.20170\n"
     ]
    },
    {
     "name": "stderr",
     "output_type": "stream",
     "text": [
      "Epoch 32, lr 0.0005: 100% 21/21 [00:12<00:00,  1.71it/s, 0 cls=0.22564, 1 cls=0.30901, 2 cls=0.25876, bce=0.08769, dice=0.80337, loss=-0.72687]\n"
     ]
    },
    {
     "name": "stdout",
     "output_type": "stream",
     "text": [
      "loss: -0.74746 | bce: 0.04882 | dice: 0.78101 | 0 cls: 0.20066 | 1 cls: 0.24974 | 2 cls: 0.21409\n"
     ]
    },
    {
     "name": "stderr",
     "output_type": "stream",
     "text": [
      "Epoch 33, lr 0.0005: 100% 21/21 [00:12<00:00,  1.67it/s, 0 cls=0.22141, 1 cls=0.31323, 2 cls=0.25922, bce=0.08571, dice=0.80395, loss=-0.72790]\n"
     ]
    },
    {
     "name": "stdout",
     "output_type": "stream",
     "text": [
      "loss: -0.71828 | bce: 0.05660 | dice: 0.75788 | 0 cls: 0.22559 | 1 cls: 0.29285 | 2 cls: 0.24396\n"
     ]
    },
    {
     "name": "stderr",
     "output_type": "stream",
     "text": [
      "Epoch 34, lr 0.0005: 100% 21/21 [00:12<00:00,  1.71it/s, 0 cls=0.21862, 1 cls=0.30967, 2 cls=0.25685, bce=0.08692, dice=0.80580, loss=-0.72963]\n"
     ]
    },
    {
     "name": "stdout",
     "output_type": "stream",
     "text": [
      "loss: -0.77844 | bce: 0.04290 | dice: 0.80913 | 0 cls: 0.16716 | 1 cls: 0.22136 | 2 cls: 0.18811\n"
     ]
    },
    {
     "name": "stderr",
     "output_type": "stream",
     "text": [
      "Epoch 35, lr 0.0005: 100% 21/21 [00:12<00:00,  1.69it/s, 0 cls=0.21003, 1 cls=0.30329, 2 cls=0.25079, bce=0.08401, dice=0.80923, loss=-0.73625]\n"
     ]
    },
    {
     "name": "stdout",
     "output_type": "stream",
     "text": [
      "loss: -0.78614 | bce: 0.04369 | dice: 0.81758 | 0 cls: 0.16368 | 1 cls: 0.21870 | 2 cls: 0.18489\n"
     ]
    },
    {
     "name": "stderr",
     "output_type": "stream",
     "text": [
      "Epoch 36, lr 0.0005: 100% 21/21 [00:12<00:00,  1.71it/s, 0 cls=0.21513, 1 cls=0.30869, 2 cls=0.25438, bce=0.08305, dice=0.80541, loss=-0.73262]\n"
     ]
    },
    {
     "name": "stdout",
     "output_type": "stream",
     "text": [
      "loss: -0.74387 | bce: 0.05413 | dice: 0.78183 | 0 cls: 0.21765 | 1 cls: 0.23241 | 2 cls: 0.20578\n"
     ]
    },
    {
     "name": "stderr",
     "output_type": "stream",
     "text": [
      "Epoch 37, lr 0.0005: 100% 21/21 [00:12<00:00,  1.69it/s, 0 cls=0.21745, 1 cls=0.30184, 2 cls=0.25110, bce=0.08511, dice=0.80721, loss=-0.73345]\n"
     ]
    },
    {
     "name": "stdout",
     "output_type": "stream",
     "text": [
      "loss: -0.78467 | bce: 0.04180 | dice: 0.81516 | 0 cls: 0.15870 | 1 cls: 0.21830 | 2 cls: 0.18540\n"
     ]
    },
    {
     "name": "stderr",
     "output_type": "stream",
     "text": [
      "Epoch 38, lr 0.0005: 100% 21/21 [00:12<00:00,  1.72it/s, 0 cls=0.20557, 1 cls=0.29156, 2 cls=0.24212, bce=0.08079, dice=0.81347, loss=-0.74377]\n"
     ]
    },
    {
     "name": "stdout",
     "output_type": "stream",
     "text": [
      "loss: -0.78947 | bce: 0.04309 | dice: 0.81924 | 0 cls: 0.15664 | 1 cls: 0.21347 | 2 cls: 0.17857\n"
     ]
    },
    {
     "name": "stderr",
     "output_type": "stream",
     "text": [
      "Epoch 39, lr 0.0005: 100% 21/21 [00:12<00:00,  1.72it/s, 0 cls=0.20982, 1 cls=0.29148, 2 cls=0.24352, bce=0.08302, dice=0.81364, loss=-0.74182]\n"
     ]
    },
    {
     "name": "stdout",
     "output_type": "stream",
     "text": [
      "loss: -0.72720 | bce: 0.05384 | dice: 0.76407 | 0 cls: 0.22182 | 1 cls: 0.27186 | 2 cls: 0.23575\n"
     ]
    },
    {
     "name": "stderr",
     "output_type": "stream",
     "text": [
      "Epoch 40, lr 0.0005: 100% 21/21 [00:12<00:00,  1.69it/s, 0 cls=0.20137, 1 cls=0.29472, 2 cls=0.24203, bce=0.08041, dice=0.81331, loss=-0.74398]\n"
     ]
    },
    {
     "name": "stdout",
     "output_type": "stream",
     "text": [
      "loss: -0.79315 | bce: 0.04130 | dice: 0.82159 | 0 cls: 0.15449 | 1 cls: 0.21447 | 2 cls: 0.17590\n"
     ]
    },
    {
     "name": "stderr",
     "output_type": "stream",
     "text": [
      "Epoch 41, lr 0.0005: 100% 21/21 [00:12<00:00,  1.69it/s, 0 cls=0.19908, 1 cls=0.29117, 2 cls=0.23553, bce=0.08037, dice=0.81765, loss=-0.74704]\n"
     ]
    },
    {
     "name": "stdout",
     "output_type": "stream",
     "text": [
      "loss: -0.79760 | bce: 0.04053 | dice: 0.82249 | 0 cls: 0.15169 | 1 cls: 0.21286 | 2 cls: 0.17358\n"
     ]
    },
    {
     "name": "stderr",
     "output_type": "stream",
     "text": [
      "Epoch 42, lr 0.0005: 100% 21/21 [00:12<00:00,  1.69it/s, 0 cls=0.22093, 1 cls=0.30473, 2 cls=0.25558, bce=0.08789, dice=0.80854, loss=-0.73117]\n"
     ]
    },
    {
     "name": "stdout",
     "output_type": "stream",
     "text": [
      "loss: -0.79084 | bce: 0.04422 | dice: 0.81891 | 0 cls: 0.16418 | 1 cls: 0.21579 | 2 cls: 0.17602\n"
     ]
    },
    {
     "name": "stderr",
     "output_type": "stream",
     "text": [
      "Epoch 43, lr 0.0005: 100% 21/21 [00:12<00:00,  1.68it/s, 0 cls=0.21216, 1 cls=0.30121, 2 cls=0.24875, bce=0.08266, dice=0.80920, loss=-0.73700]\n"
     ]
    },
    {
     "name": "stdout",
     "output_type": "stream",
     "text": [
      "loss: -0.78389 | bce: 0.04481 | dice: 0.81720 | 0 cls: 0.16067 | 1 cls: 0.22681 | 2 cls: 0.19252\n"
     ]
    },
    {
     "name": "stderr",
     "output_type": "stream",
     "text": [
      "Epoch 44, lr 0.0005: 100% 21/21 [00:12<00:00,  1.72it/s, 0 cls=0.20649, 1 cls=0.29653, 2 cls=0.24587, bce=0.08190, dice=0.81237, loss=-0.74111]\n"
     ]
    },
    {
     "name": "stdout",
     "output_type": "stream",
     "text": [
      "loss: -0.80095 | bce: 0.04189 | dice: 0.82909 | 0 cls: 0.14401 | 1 cls: 0.20869 | 2 cls: 0.16914\n"
     ]
    },
    {
     "name": "stderr",
     "output_type": "stream",
     "text": [
      "Epoch 45, lr 0.0005: 100% 21/21 [00:12<00:00,  1.72it/s, 0 cls=0.20721, 1 cls=0.29450, 2 cls=0.24417, bce=0.08217, dice=0.81448, loss=-0.74228]\n"
     ]
    },
    {
     "name": "stdout",
     "output_type": "stream",
     "text": [
      "loss: -0.75388 | bce: 0.04881 | dice: 0.78616 | 0 cls: 0.19654 | 1 cls: 0.24727 | 2 cls: 0.21420\n"
     ]
    },
    {
     "name": "stderr",
     "output_type": "stream",
     "text": [
      "Epoch 46, lr 0.0005: 100% 21/21 [00:12<00:00,  1.70it/s, 0 cls=0.20076, 1 cls=0.28978, 2 cls=0.24017, bce=0.07877, dice=0.81511, loss=-0.74706]\n"
     ]
    },
    {
     "name": "stdout",
     "output_type": "stream",
     "text": [
      "loss: -0.79635 | bce: 0.04285 | dice: 0.82496 | 0 cls: 0.15547 | 1 cls: 0.20750 | 2 cls: 0.17946\n"
     ]
    },
    {
     "name": "stderr",
     "output_type": "stream",
     "text": [
      "Epoch 47, lr 0.0005: 100% 21/21 [00:12<00:00,  1.68it/s, 0 cls=0.22717, 1 cls=0.30818, 2 cls=0.26147, bce=0.08605, dice=0.80404, loss=-0.72793]\n"
     ]
    },
    {
     "name": "stdout",
     "output_type": "stream",
     "text": [
      "loss: -0.77038 | bce: 0.04862 | dice: 0.80614 | 0 cls: 0.15826 | 1 cls: 0.27129 | 2 cls: 0.19408\n"
     ]
    },
    {
     "name": "stderr",
     "output_type": "stream",
     "text": [
      "Epoch 48, lr 0.0005: 100% 21/21 [00:12<00:00,  1.70it/s, 0 cls=0.21581, 1 cls=0.30273, 2 cls=0.25301, bce=0.08463, dice=0.80929, loss=-0.73494]\n"
     ]
    },
    {
     "name": "stdout",
     "output_type": "stream",
     "text": [
      "loss: -0.77451 | bce: 0.04388 | dice: 0.80868 | 0 cls: 0.16127 | 1 cls: 0.24490 | 2 cls: 0.20657\n"
     ]
    },
    {
     "name": "stderr",
     "output_type": "stream",
     "text": [
      "Epoch 49, lr 0.0005: 100% 21/21 [00:12<00:00,  1.69it/s, 0 cls=0.19810, 1 cls=0.28196, 2 cls=0.23367, bce=0.07963, dice=0.82000, loss=-0.75131]\n"
     ]
    },
    {
     "name": "stdout",
     "output_type": "stream",
     "text": [
      "loss: -0.79326 | bce: 0.04191 | dice: 0.82640 | 0 cls: 0.15152 | 1 cls: 0.20442 | 2 cls: 0.16919\n"
     ]
    },
    {
     "name": "stderr",
     "output_type": "stream",
     "text": [
      "Epoch 50, lr 0.0005: 100% 21/21 [00:12<00:00,  1.72it/s, 0 cls=0.20232, 1 cls=0.28402, 2 cls=0.23561, bce=0.08072, dice=0.81918, loss=-0.74897]\n"
     ]
    },
    {
     "name": "stdout",
     "output_type": "stream",
     "text": [
      "loss: -0.79736 | bce: 0.04018 | dice: 0.82423 | 0 cls: 0.14698 | 1 cls: 0.21287 | 2 cls: 0.17579\n"
     ]
    },
    {
     "name": "stderr",
     "output_type": "stream",
     "text": [
      "Epoch 51, lr 0.0005: 100% 21/21 [00:12<00:00,  1.68it/s, 0 cls=0.20293, 1 cls=0.28589, 2 cls=0.23538, bce=0.08107, dice=0.81869, loss=-0.74794]\n"
     ]
    },
    {
     "name": "stdout",
     "output_type": "stream",
     "text": [
      "loss: -0.77450 | bce: 0.04456 | dice: 0.80187 | 0 cls: 0.17494 | 1 cls: 0.22828 | 2 cls: 0.19833\n"
     ]
    },
    {
     "name": "stderr",
     "output_type": "stream",
     "text": [
      "Epoch 52, lr 0.0005: 100% 21/21 [00:12<00:00,  1.69it/s, 0 cls=0.20509, 1 cls=0.28852, 2 cls=0.24260, bce=0.08070, dice=0.81616, loss=-0.74582]\n"
     ]
    },
    {
     "name": "stdout",
     "output_type": "stream",
     "text": [
      "loss: -0.79721 | bce: 0.03954 | dice: 0.82378 | 0 cls: 0.15164 | 1 cls: 0.20604 | 2 cls: 0.17346\n"
     ]
    },
    {
     "name": "stderr",
     "output_type": "stream",
     "text": [
      "Epoch 53, lr 0.0005: 100% 21/21 [00:12<00:00,  1.70it/s, 0 cls=0.19523, 1 cls=0.27698, 2 cls=0.23076, bce=0.07709, dice=0.82227, loss=-0.75546]\n"
     ]
    },
    {
     "name": "stdout",
     "output_type": "stream",
     "text": [
      "loss: -0.79965 | bce: 0.03898 | dice: 0.82639 | 0 cls: 0.15130 | 1 cls: 0.19676 | 2 cls: 0.16575\n"
     ]
    },
    {
     "name": "stderr",
     "output_type": "stream",
     "text": [
      "Epoch 54, lr 0.0005: 100% 21/21 [00:12<00:00,  1.70it/s, 0 cls=0.19545, 1 cls=0.28077, 2 cls=0.23271, bce=0.07775, dice=0.82162, loss=-0.75382]\n"
     ]
    },
    {
     "name": "stdout",
     "output_type": "stream",
     "text": [
      "loss: -0.80847 | bce: 0.04115 | dice: 0.83682 | 0 cls: 0.14191 | 1 cls: 0.19703 | 2 cls: 0.16352\n"
     ]
    },
    {
     "name": "stderr",
     "output_type": "stream",
     "text": [
      "Epoch 55, lr 0.0005: 100% 21/21 [00:12<00:00,  1.70it/s, 0 cls=0.19782, 1 cls=0.27878, 2 cls=0.23409, bce=0.07771, dice=0.82069, loss=-0.75359]\n"
     ]
    },
    {
     "name": "stdout",
     "output_type": "stream",
     "text": [
      "loss: -0.79208 | bce: 0.04131 | dice: 0.82110 | 0 cls: 0.15600 | 1 cls: 0.20448 | 2 cls: 0.17226\n"
     ]
    },
    {
     "name": "stderr",
     "output_type": "stream",
     "text": [
      "Epoch 56, lr 0.0005: 100% 21/21 [00:12<00:00,  1.69it/s, 0 cls=0.18711, 1 cls=0.26700, 2 cls=0.22221, bce=0.07520, dice=0.82811, loss=-0.76352]\n"
     ]
    },
    {
     "name": "stdout",
     "output_type": "stream",
     "text": [
      "loss: -0.81521 | bce: 0.03840 | dice: 0.84289 | 0 cls: 0.13356 | 1 cls: 0.18957 | 2 cls: 0.15536\n"
     ]
    },
    {
     "name": "stderr",
     "output_type": "stream",
     "text": [
      "Epoch 57, lr 0.0005: 100% 21/21 [00:12<00:00,  1.70it/s, 0 cls=0.19619, 1 cls=0.28284, 2 cls=0.23450, bce=0.07916, dice=0.82175, loss=-0.75243]\n"
     ]
    },
    {
     "name": "stdout",
     "output_type": "stream",
     "text": [
      "loss: -0.78963 | bce: 0.04167 | dice: 0.81509 | 0 cls: 0.15353 | 1 cls: 0.22732 | 2 cls: 0.18467\n"
     ]
    },
    {
     "name": "stderr",
     "output_type": "stream",
     "text": [
      "Epoch 58, lr 0.0005: 100% 21/21 [00:12<00:00,  1.70it/s, 0 cls=0.20063, 1 cls=0.29812, 2 cls=0.24446, bce=0.08049, dice=0.81453, loss=-0.74399]\n"
     ]
    },
    {
     "name": "stdout",
     "output_type": "stream",
     "text": [
      "loss: -0.77102 | bce: 0.05094 | dice: 0.79938 | 0 cls: 0.20433 | 1 cls: 0.21469 | 2 cls: 0.19284\n"
     ]
    },
    {
     "name": "stderr",
     "output_type": "stream",
     "text": [
      "Epoch 59, lr 0.0005: 100% 21/21 [00:12<00:00,  1.70it/s, 0 cls=0.20878, 1 cls=0.28681, 2 cls=0.24076, bce=0.08111, dice=0.81620, loss=-0.74507]\n"
     ]
    },
    {
     "name": "stdout",
     "output_type": "stream",
     "text": [
      "loss: -0.78985 | bce: 0.04523 | dice: 0.81858 | 0 cls: 0.16101 | 1 cls: 0.22696 | 2 cls: 0.17538\n"
     ]
    },
    {
     "name": "stderr",
     "output_type": "stream",
     "text": [
      "Epoch 60, lr 0.0005: 100% 21/21 [00:12<00:00,  1.70it/s, 0 cls=0.19751, 1 cls=0.28065, 2 cls=0.23355, bce=0.07824, dice=0.82104, loss=-0.75295]\n"
     ]
    },
    {
     "name": "stdout",
     "output_type": "stream",
     "text": [
      "loss: -0.77181 | bce: 0.05089 | dice: 0.80770 | 0 cls: 0.18092 | 1 cls: 0.22997 | 2 cls: 0.19345\n"
     ]
    },
    {
     "name": "stderr",
     "output_type": "stream",
     "text": [
      "Epoch 61, lr 0.0005: 100% 21/21 [00:12<00:00,  1.69it/s, 0 cls=0.19422, 1 cls=0.27644, 2 cls=0.23000, bce=0.07752, dice=0.82400, loss=-0.75627]\n"
     ]
    },
    {
     "name": "stdout",
     "output_type": "stream",
     "text": [
      "loss: -0.79652 | bce: 0.04183 | dice: 0.82455 | 0 cls: 0.15257 | 1 cls: 0.20805 | 2 cls: 0.16979\n"
     ]
    },
    {
     "name": "stderr",
     "output_type": "stream",
     "text": [
      "Epoch 62, lr 0.0005: 100% 21/21 [00:12<00:00,  1.69it/s, 0 cls=0.19721, 1 cls=0.27227, 2 cls=0.22966, bce=0.07823, dice=0.82353, loss=-0.75614]\n"
     ]
    },
    {
     "name": "stdout",
     "output_type": "stream",
     "text": [
      "loss: -0.80437 | bce: 0.03803 | dice: 0.83020 | 0 cls: 0.14411 | 1 cls: 0.20228 | 2 cls: 0.16728\n"
     ]
    },
    {
     "name": "stderr",
     "output_type": "stream",
     "text": [
      "Epoch 63, lr 0.0005: 100% 21/21 [00:12<00:00,  1.68it/s, 0 cls=0.21247, 1 cls=0.28434, 2 cls=0.24155, bce=0.08079, dice=0.81331, loss=-0.74395]\n"
     ]
    },
    {
     "name": "stdout",
     "output_type": "stream",
     "text": [
      "loss: -0.78916 | bce: 0.04282 | dice: 0.81820 | 0 cls: 0.14602 | 1 cls: 0.23970 | 2 cls: 0.18040\n"
     ]
    },
    {
     "name": "stderr",
     "output_type": "stream",
     "text": [
      "Epoch 64, lr 0.0005: 100% 21/21 [00:12<00:00,  1.71it/s, 0 cls=0.19541, 1 cls=0.28870, 2 cls=0.23782, bce=0.07905, dice=0.82005, loss=-0.75044]\n"
     ]
    },
    {
     "name": "stdout",
     "output_type": "stream",
     "text": [
      "loss: -0.81475 | bce: 0.03801 | dice: 0.83831 | 0 cls: 0.13527 | 1 cls: 0.19057 | 2 cls: 0.15863\n"
     ]
    },
    {
     "name": "stderr",
     "output_type": "stream",
     "text": [
      "Epoch 65, lr 0.0005: 100% 21/21 [00:12<00:00,  1.72it/s, 0 cls=0.19882, 1 cls=0.28165, 2 cls=0.23555, bce=0.07923, dice=0.82121, loss=-0.75207]\n"
     ]
    },
    {
     "name": "stdout",
     "output_type": "stream",
     "text": [
      "loss: -0.81184 | bce: 0.03869 | dice: 0.83523 | 0 cls: 0.14002 | 1 cls: 0.19114 | 2 cls: 0.16417\n"
     ]
    },
    {
     "name": "stderr",
     "output_type": "stream",
     "text": [
      "Epoch 66, lr 0.0005: 100% 21/21 [00:12<00:00,  1.70it/s, 0 cls=0.19756, 1 cls=0.27745, 2 cls=0.23320, bce=0.07772, dice=0.82169, loss=-0.75429]\n"
     ]
    },
    {
     "name": "stdout",
     "output_type": "stream",
     "text": [
      "loss: -0.80500 | bce: 0.03866 | dice: 0.82999 | 0 cls: 0.14868 | 1 cls: 0.19911 | 2 cls: 0.17350\n"
     ]
    },
    {
     "name": "stderr",
     "output_type": "stream",
     "text": [
      "Epoch 67, lr 0.0005: 100% 21/21 [00:12<00:00,  1.73it/s, 0 cls=0.19469, 1 cls=0.27696, 2 cls=0.23109, bce=0.07751, dice=0.82312, loss=-0.75580]\n"
     ]
    },
    {
     "name": "stdout",
     "output_type": "stream",
     "text": [
      "loss: -0.79649 | bce: 0.04246 | dice: 0.82315 | 0 cls: 0.15466 | 1 cls: 0.20641 | 2 cls: 0.17350\n"
     ]
    },
    {
     "name": "stderr",
     "output_type": "stream",
     "text": [
      "Epoch 68, lr 0.0005: 100% 21/21 [00:12<00:00,  1.72it/s, 0 cls=0.20122, 1 cls=0.27536, 2 cls=0.23309, bce=0.07923, dice=0.82222, loss=-0.75353]\n"
     ]
    },
    {
     "name": "stdout",
     "output_type": "stream",
     "text": [
      "loss: -0.81222 | bce: 0.04087 | dice: 0.83657 | 0 cls: 0.14568 | 1 cls: 0.18695 | 2 cls: 0.16068\n"
     ]
    },
    {
     "name": "stderr",
     "output_type": "stream",
     "text": [
      "Epoch 69, lr 0.0005: 100% 21/21 [00:12<00:00,  1.68it/s, 0 cls=0.20825, 1 cls=0.28349, 2 cls=0.24028, bce=0.08239, dice=0.81881, loss=-0.74679]\n"
     ]
    },
    {
     "name": "stdout",
     "output_type": "stream",
     "text": [
      "loss: -0.78651 | bce: 0.04188 | dice: 0.81487 | 0 cls: 0.17921 | 1 cls: 0.21009 | 2 cls: 0.18627\n"
     ]
    },
    {
     "name": "stderr",
     "output_type": "stream",
     "text": [
      "Epoch 70, lr 0.0005: 100% 21/21 [00:12<00:00,  1.68it/s, 0 cls=0.21293, 1 cls=0.29227, 2 cls=0.24642, bce=0.08099, dice=0.81279, loss=-0.74171]\n"
     ]
    },
    {
     "name": "stdout",
     "output_type": "stream",
     "text": [
      "loss: -0.79620 | bce: 0.04292 | dice: 0.82337 | 0 cls: 0.14879 | 1 cls: 0.21056 | 2 cls: 0.17922\n"
     ]
    },
    {
     "name": "stderr",
     "output_type": "stream",
     "text": [
      "Epoch 71, lr 0.0005: 100% 21/21 [00:12<00:00,  1.69it/s, 0 cls=0.20588, 1 cls=0.28024, 2 cls=0.23834, bce=0.08118, dice=0.81997, loss=-0.74938]\n"
     ]
    },
    {
     "name": "stdout",
     "output_type": "stream",
     "text": [
      "loss: -0.80655 | bce: 0.03484 | dice: 0.82805 | 0 cls: 0.14974 | 1 cls: 0.19304 | 2 cls: 0.16622\n"
     ]
    },
    {
     "name": "stderr",
     "output_type": "stream",
     "text": [
      "Epoch 72, lr 0.0005: 100% 21/21 [00:12<00:00,  1.70it/s, 0 cls=0.19591, 1 cls=0.26836, 2 cls=0.22676, bce=0.07651, dice=0.82409, loss=-0.75878]\n"
     ]
    },
    {
     "name": "stdout",
     "output_type": "stream",
     "text": [
      "loss: -0.82294 | bce: 0.03654 | dice: 0.84661 | 0 cls: 0.12883 | 1 cls: 0.18025 | 2 cls: 0.15217\n"
     ]
    },
    {
     "name": "stderr",
     "output_type": "stream",
     "text": [
      "Epoch 73, lr 0.0005: 100% 21/21 [00:12<00:00,  1.70it/s, 0 cls=0.20648, 1 cls=0.28284, 2 cls=0.23899, bce=0.07950, dice=0.81760, loss=-0.74819]\n"
     ]
    },
    {
     "name": "stdout",
     "output_type": "stream",
     "text": [
      "loss: -0.82544 | bce: 0.03660 | dice: 0.84825 | 0 cls: 0.12778 | 1 cls: 0.17740 | 2 cls: 0.14881\n"
     ]
    },
    {
     "name": "stderr",
     "output_type": "stream",
     "text": [
      "Epoch 74, lr 0.0005: 100% 21/21 [00:12<00:00,  1.69it/s, 0 cls=0.19156, 1 cls=0.27886, 2 cls=0.23038, bce=0.07886, dice=0.82526, loss=-0.75629]\n"
     ]
    },
    {
     "name": "stdout",
     "output_type": "stream",
     "text": [
      "loss: -0.82390 | bce: 0.03566 | dice: 0.84423 | 0 cls: 0.13037 | 1 cls: 0.17819 | 2 cls: 0.15254\n"
     ]
    },
    {
     "name": "stderr",
     "output_type": "stream",
     "text": [
      "Epoch 75, lr 0.0005: 100% 21/21 [00:12<00:00,  1.70it/s, 0 cls=0.19849, 1 cls=0.27423, 2 cls=0.23202, bce=0.07863, dice=0.82377, loss=-0.75527]\n"
     ]
    },
    {
     "name": "stdout",
     "output_type": "stream",
     "text": [
      "loss: -0.81594 | bce: 0.03789 | dice: 0.84007 | 0 cls: 0.13991 | 1 cls: 0.18437 | 2 cls: 0.15857\n"
     ]
    },
    {
     "name": "stderr",
     "output_type": "stream",
     "text": [
      "Epoch 76, lr 0.0005: 100% 21/21 [00:12<00:00,  1.68it/s, 0 cls=0.19709, 1 cls=0.27364, 2 cls=0.23074, bce=0.07949, dice=0.82441, loss=-0.75587]\n"
     ]
    },
    {
     "name": "stdout",
     "output_type": "stream",
     "text": [
      "loss: -0.81618 | bce: 0.03464 | dice: 0.83600 | 0 cls: 0.13740 | 1 cls: 0.18859 | 2 cls: 0.15917\n"
     ]
    },
    {
     "name": "stderr",
     "output_type": "stream",
     "text": [
      "Epoch 77, lr 0.0005: 100% 21/21 [00:12<00:00,  1.70it/s, 0 cls=0.18749, 1 cls=0.26641, 2 cls=0.22188, bce=0.07548, dice=0.82847, loss=-0.76354]\n"
     ]
    },
    {
     "name": "stdout",
     "output_type": "stream",
     "text": [
      "loss: -0.82119 | bce: 0.03736 | dice: 0.84473 | 0 cls: 0.13115 | 1 cls: 0.18314 | 2 cls: 0.15351\n"
     ]
    },
    {
     "name": "stderr",
     "output_type": "stream",
     "text": [
      "Epoch 78, lr 0.0005: 100% 21/21 [00:12<00:00,  1.70it/s, 0 cls=0.19587, 1 cls=0.27195, 2 cls=0.22933, bce=0.07777, dice=0.82573, loss=-0.75794]\n"
     ]
    },
    {
     "name": "stdout",
     "output_type": "stream",
     "text": [
      "loss: -0.82279 | bce: 0.03536 | dice: 0.84606 | 0 cls: 0.12754 | 1 cls: 0.18060 | 2 cls: 0.15099\n"
     ]
    },
    {
     "name": "stderr",
     "output_type": "stream",
     "text": [
      "Epoch 79, lr 0.0005: 100% 21/21 [00:12<00:00,  1.70it/s, 0 cls=0.20221, 1 cls=0.27640, 2 cls=0.23425, bce=0.07892, dice=0.82114, loss=-0.75281]\n"
     ]
    },
    {
     "name": "stdout",
     "output_type": "stream",
     "text": [
      "loss: -0.80463 | bce: 0.03998 | dice: 0.83587 | 0 cls: 0.13612 | 1 cls: 0.21543 | 2 cls: 0.17175\n"
     ]
    },
    {
     "name": "stderr",
     "output_type": "stream",
     "text": [
      "Epoch 80, lr 0.0005: 100% 21/21 [00:12<00:00,  1.71it/s, 0 cls=0.19083, 1 cls=0.27945, 2 cls=0.22903, bce=0.07700, dice=0.82317, loss=-0.75629]\n"
     ]
    },
    {
     "name": "stdout",
     "output_type": "stream",
     "text": [
      "loss: -0.76134 | bce: 0.05204 | dice: 0.80243 | 0 cls: 0.14990 | 1 cls: 0.30274 | 2 cls: 0.21057\n"
     ]
    },
    {
     "name": "stderr",
     "output_type": "stream",
     "text": [
      "Epoch 81, lr 0.0005: 100% 21/21 [00:12<00:00,  1.72it/s, 0 cls=0.18420, 1 cls=0.27300, 2 cls=0.22394, bce=0.07517, dice=0.82767, loss=-0.76248]\n"
     ]
    },
    {
     "name": "stdout",
     "output_type": "stream",
     "text": [
      "loss: -0.82233 | bce: 0.03746 | dice: 0.84711 | 0 cls: 0.13269 | 1 cls: 0.17252 | 2 cls: 0.14585\n"
     ]
    },
    {
     "name": "stderr",
     "output_type": "stream",
     "text": [
      "Epoch 82, lr 0.0005: 100% 21/21 [00:12<00:00,  1.70it/s, 0 cls=0.19251, 1 cls=0.26901, 2 cls=0.22633, bce=0.07749, dice=0.82702, loss=-0.76006]\n"
     ]
    },
    {
     "name": "stdout",
     "output_type": "stream",
     "text": [
      "loss: -0.82179 | bce: 0.03605 | dice: 0.84521 | 0 cls: 0.12922 | 1 cls: 0.18010 | 2 cls: 0.15169\n"
     ]
    },
    {
     "name": "stderr",
     "output_type": "stream",
     "text": [
      "Epoch 83, lr 0.0005: 100% 21/21 [00:12<00:00,  1.69it/s, 0 cls=0.19440, 1 cls=0.27059, 2 cls=0.22799, bce=0.07662, dice=0.82558, loss=-0.75920]\n"
     ]
    },
    {
     "name": "stdout",
     "output_type": "stream",
     "text": [
      "loss: -0.80906 | bce: 0.03807 | dice: 0.83536 | 0 cls: 0.14096 | 1 cls: 0.19712 | 2 cls: 0.16847\n"
     ]
    },
    {
     "name": "stderr",
     "output_type": "stream",
     "text": [
      "Epoch 84, lr 0.0005: 100% 21/21 [00:12<00:00,  1.69it/s, 0 cls=0.19275, 1 cls=0.26755, 2 cls=0.22561, bce=0.07642, dice=0.82702, loss=-0.76098]\n"
     ]
    },
    {
     "name": "stdout",
     "output_type": "stream",
     "text": [
      "loss: -0.79642 | bce: 0.04075 | dice: 0.82031 | 0 cls: 0.16623 | 1 cls: 0.18482 | 2 cls: 0.16532\n"
     ]
    },
    {
     "name": "stderr",
     "output_type": "stream",
     "text": [
      "Epoch 85, lr 0.0005: 100% 21/21 [00:12<00:00,  1.72it/s, 0 cls=0.19056, 1 cls=0.26512, 2 cls=0.22414, bce=0.07605, dice=0.82876, loss=-0.76303]\n"
     ]
    },
    {
     "name": "stdout",
     "output_type": "stream",
     "text": [
      "loss: -0.79380 | bce: 0.04308 | dice: 0.81777 | 0 cls: 0.17026 | 1 cls: 0.18385 | 2 cls: 0.16794\n"
     ]
    },
    {
     "name": "stderr",
     "output_type": "stream",
     "text": [
      "Epoch 86, lr 0.0005: 100% 21/21 [00:12<00:00,  1.67it/s, 0 cls=0.19406, 1 cls=0.26973, 2 cls=0.22723, bce=0.07642, dice=0.82477, loss=-0.75920]\n"
     ]
    },
    {
     "name": "stdout",
     "output_type": "stream",
     "text": [
      "loss: -0.82447 | bce: 0.03860 | dice: 0.84802 | 0 cls: 0.13013 | 1 cls: 0.17747 | 2 cls: 0.15236\n"
     ]
    },
    {
     "name": "stderr",
     "output_type": "stream",
     "text": [
      "Epoch 87, lr 0.0005: 100% 21/21 [00:12<00:00,  1.68it/s, 0 cls=0.19739, 1 cls=0.26870, 2 cls=0.22908, bce=0.07975, dice=0.82776, loss=-0.75824]\n"
     ]
    },
    {
     "name": "stdout",
     "output_type": "stream",
     "text": [
      "loss: -0.81806 | bce: 0.03800 | dice: 0.84129 | 0 cls: 0.13612 | 1 cls: 0.18572 | 2 cls: 0.15866\n"
     ]
    },
    {
     "name": "stderr",
     "output_type": "stream",
     "text": [
      "Epoch 88, lr 0.0005: 100% 21/21 [00:12<00:00,  1.70it/s, 0 cls=0.19460, 1 cls=0.26998, 2 cls=0.22643, bce=0.07738, dice=0.82562, loss=-0.75885]\n"
     ]
    },
    {
     "name": "stdout",
     "output_type": "stream",
     "text": [
      "loss: -0.82135 | bce: 0.03664 | dice: 0.84268 | 0 cls: 0.12632 | 1 cls: 0.19117 | 2 cls: 0.15345\n"
     ]
    },
    {
     "name": "stderr",
     "output_type": "stream",
     "text": [
      "Epoch 89, lr 0.0005: 100% 21/21 [00:12<00:00,  1.70it/s, 0 cls=0.20664, 1 cls=0.27381, 2 cls=0.23335, bce=0.08141, dice=0.82261, loss=-0.75174]\n"
     ]
    },
    {
     "name": "stdout",
     "output_type": "stream",
     "text": [
      "loss: -0.82291 | bce: 0.03642 | dice: 0.84864 | 0 cls: 0.12790 | 1 cls: 0.18389 | 2 cls: 0.15146\n"
     ]
    },
    {
     "name": "stderr",
     "output_type": "stream",
     "text": [
      "Epoch 90, lr 0.0005: 100% 21/21 [00:12<00:00,  1.70it/s, 0 cls=0.19514, 1 cls=0.27231, 2 cls=0.22926, bce=0.07741, dice=0.82502, loss=-0.75784]\n"
     ]
    },
    {
     "name": "stdout",
     "output_type": "stream",
     "text": [
      "loss: -0.82645 | bce: 0.03651 | dice: 0.84968 | 0 cls: 0.12632 | 1 cls: 0.17637 | 2 cls: 0.14940\n"
     ]
    },
    {
     "name": "stderr",
     "output_type": "stream",
     "text": [
      "Epoch 91, lr 0.0005: 100% 21/21 [00:12<00:00,  1.68it/s, 0 cls=0.19210, 1 cls=0.26893, 2 cls=0.22540, bce=0.07574, dice=0.82604, loss=-0.76061]\n"
     ]
    },
    {
     "name": "stdout",
     "output_type": "stream",
     "text": [
      "loss: -0.82207 | bce: 0.03749 | dice: 0.84544 | 0 cls: 0.12766 | 1 cls: 0.18488 | 2 cls: 0.15301\n"
     ]
    },
    {
     "name": "stderr",
     "output_type": "stream",
     "text": [
      "Epoch 92, lr 0.0005: 100% 21/21 [00:12<00:00,  1.71it/s, 0 cls=0.19771, 1 cls=0.27415, 2 cls=0.23088, bce=0.07760, dice=0.82304, loss=-0.75587]\n"
     ]
    },
    {
     "name": "stdout",
     "output_type": "stream",
     "text": [
      "loss: -0.82457 | bce: 0.03604 | dice: 0.84598 | 0 cls: 0.12624 | 1 cls: 0.18069 | 2 cls: 0.14894\n"
     ]
    },
    {
     "name": "stderr",
     "output_type": "stream",
     "text": [
      "Epoch 93, lr 0.0005: 100% 21/21 [00:12<00:00,  1.71it/s, 0 cls=0.19605, 1 cls=0.27275, 2 cls=0.23104, bce=0.07653, dice=0.82427, loss=-0.75765]\n"
     ]
    },
    {
     "name": "stdout",
     "output_type": "stream",
     "text": [
      "loss: -0.80783 | bce: 0.03802 | dice: 0.83572 | 0 cls: 0.14427 | 1 cls: 0.20277 | 2 cls: 0.16665\n"
     ]
    },
    {
     "name": "stderr",
     "output_type": "stream",
     "text": [
      "Epoch 94, lr 0.0005: 100% 21/21 [00:12<00:00,  1.69it/s, 0 cls=0.19352, 1 cls=0.27147, 2 cls=0.22658, bce=0.07672, dice=0.82548, loss=-0.75900]\n"
     ]
    },
    {
     "name": "stdout",
     "output_type": "stream",
     "text": [
      "loss: -0.83028 | bce: 0.03346 | dice: 0.85058 | 0 cls: 0.12516 | 1 cls: 0.17037 | 2 cls: 0.14640\n"
     ]
    },
    {
     "name": "stderr",
     "output_type": "stream",
     "text": [
      "Epoch 95, lr 0.0005: 100% 21/21 [00:12<00:00,  1.68it/s, 0 cls=0.18280, 1 cls=0.26027, 2 cls=0.21691, bce=0.07355, dice=0.83235, loss=-0.76896]\n"
     ]
    },
    {
     "name": "stdout",
     "output_type": "stream",
     "text": [
      "loss: -0.83096 | bce: 0.03507 | dice: 0.85530 | 0 cls: 0.12048 | 1 cls: 0.17434 | 2 cls: 0.14348\n"
     ]
    },
    {
     "name": "stderr",
     "output_type": "stream",
     "text": [
      "Epoch 96, lr 0.0005: 100% 21/21 [00:12<00:00,  1.70it/s, 0 cls=0.18696, 1 cls=0.26518, 2 cls=0.22197, bce=0.07600, dice=0.83018, loss=-0.76453]\n"
     ]
    },
    {
     "name": "stdout",
     "output_type": "stream",
     "text": [
      "loss: -0.82306 | bce: 0.03561 | dice: 0.84735 | 0 cls: 0.12748 | 1 cls: 0.18395 | 2 cls: 0.15097\n"
     ]
    },
    {
     "name": "stderr",
     "output_type": "stream",
     "text": [
      "Epoch 97, lr 0.0005: 100% 21/21 [00:12<00:00,  1.68it/s, 0 cls=0.20153, 1 cls=0.27721, 2 cls=0.23506, bce=0.07735, dice=0.82078, loss=-0.75340]\n"
     ]
    },
    {
     "name": "stdout",
     "output_type": "stream",
     "text": [
      "loss: -0.81004 | bce: 0.03988 | dice: 0.83487 | 0 cls: 0.13933 | 1 cls: 0.19413 | 2 cls: 0.16069\n"
     ]
    },
    {
     "name": "stderr",
     "output_type": "stream",
     "text": [
      "Epoch 98, lr 0.0005: 100% 21/21 [00:12<00:00,  1.72it/s, 0 cls=0.19009, 1 cls=0.26286, 2 cls=0.22103, bce=0.07560, dice=0.82868, loss=-0.76409]\n"
     ]
    },
    {
     "name": "stdout",
     "output_type": "stream",
     "text": [
      "loss: -0.79739 | bce: 0.04207 | dice: 0.82166 | 0 cls: 0.14931 | 1 cls: 0.20747 | 2 cls: 0.17537\n"
     ]
    },
    {
     "name": "stderr",
     "output_type": "stream",
     "text": [
      "Epoch 99, lr 0.0005: 100% 21/21 [00:12<00:00,  1.69it/s, 0 cls=0.19295, 1 cls=0.27588, 2 cls=0.22995, bce=0.07616, dice=0.82463, loss=-0.75790]\n"
     ]
    },
    {
     "name": "stdout",
     "output_type": "stream",
     "text": [
      "loss: -0.82752 | bce: 0.03427 | dice: 0.84992 | 0 cls: 0.12628 | 1 cls: 0.17755 | 2 cls: 0.14663\n"
     ]
    },
    {
     "name": "stderr",
     "output_type": "stream",
     "text": [
      "Epoch 100, lr 0.0005: 100% 21/21 [00:12<00:00,  1.68it/s, 0 cls=0.18782, 1 cls=0.26468, 2 cls=0.22145, bce=0.07606, dice=0.82886, loss=-0.76388]\n"
     ]
    },
    {
     "name": "stdout",
     "output_type": "stream",
     "text": [
      "loss: -0.83370 | bce: 0.03319 | dice: 0.85610 | 0 cls: 0.12041 | 1 cls: 0.17329 | 2 cls: 0.14290\n"
     ]
    },
    {
     "name": "stderr",
     "output_type": "stream",
     "text": [
      "Epoch 101, lr 0.0005: 100% 21/21 [00:12<00:00,  1.70it/s, 0 cls=0.19984, 1 cls=0.27069, 2 cls=0.22998, bce=0.07795, dice=0.82377, loss=-0.75643]\n"
     ]
    },
    {
     "name": "stdout",
     "output_type": "stream",
     "text": [
      "loss: -0.83011 | bce: 0.03952 | dice: 0.85556 | 0 cls: 0.12010 | 1 cls: 0.18054 | 2 cls: 0.13766\n"
     ]
    },
    {
     "name": "stderr",
     "output_type": "stream",
     "text": [
      "Epoch 102, lr 0.0005: 100% 21/21 [00:12<00:00,  1.70it/s, 0 cls=0.20346, 1 cls=0.28126, 2 cls=0.23767, bce=0.08114, dice=0.82106, loss=-0.75046]\n"
     ]
    },
    {
     "name": "stdout",
     "output_type": "stream",
     "text": [
      "loss: -0.79670 | bce: 0.04221 | dice: 0.83419 | 0 cls: 0.13435 | 1 cls: 0.23408 | 2 cls: 0.17697\n"
     ]
    },
    {
     "name": "stderr",
     "output_type": "stream",
     "text": [
      "Epoch 103, lr 0.0005: 100% 21/21 [00:12<00:00,  1.71it/s, 0 cls=0.19988, 1 cls=0.27952, 2 cls=0.23449, bce=0.07822, dice=0.82166, loss=-0.75324]\n"
     ]
    },
    {
     "name": "stdout",
     "output_type": "stream",
     "text": [
      "loss: -0.79689 | bce: 0.04174 | dice: 0.82144 | 0 cls: 0.15344 | 1 cls: 0.20505 | 2 cls: 0.17436\n"
     ]
    },
    {
     "name": "stderr",
     "output_type": "stream",
     "text": [
      "Epoch 104, lr 0.0005: 100% 21/21 [00:12<00:00,  1.69it/s, 0 cls=0.19200, 1 cls=0.26780, 2 cls=0.22516, bce=0.07671, dice=0.82620, loss=-0.76051]\n"
     ]
    },
    {
     "name": "stdout",
     "output_type": "stream",
     "text": [
      "loss: -0.82686 | bce: 0.03825 | dice: 0.84907 | 0 cls: 0.12736 | 1 cls: 0.17920 | 2 cls: 0.14431\n"
     ]
    },
    {
     "name": "stderr",
     "output_type": "stream",
     "text": [
      "Epoch 105, lr 0.0005: 100% 21/21 [00:12<00:00,  1.70it/s, 0 cls=0.19089, 1 cls=0.26388, 2 cls=0.22107, bce=0.07672, dice=0.82794, loss=-0.76264]\n"
     ]
    },
    {
     "name": "stdout",
     "output_type": "stream",
     "text": [
      "loss: -0.79781 | bce: 0.04303 | dice: 0.82387 | 0 cls: 0.14969 | 1 cls: 0.20913 | 2 cls: 0.17500\n"
     ]
    },
    {
     "name": "stderr",
     "output_type": "stream",
     "text": [
      "Epoch 106, lr 0.0005: 100% 21/21 [00:12<00:00,  1.68it/s, 0 cls=0.19596, 1 cls=0.27725, 2 cls=0.23306, bce=0.07730, dice=0.82364, loss=-0.75588]\n"
     ]
    },
    {
     "name": "stdout",
     "output_type": "stream",
     "text": [
      "loss: -0.82872 | bce: 0.03510 | dice: 0.85140 | 0 cls: 0.12382 | 1 cls: 0.17744 | 2 cls: 0.14616\n"
     ]
    },
    {
     "name": "stderr",
     "output_type": "stream",
     "text": [
      "Epoch 107, lr 0.0005: 100% 21/21 [00:12<00:00,  1.71it/s, 0 cls=0.18902, 1 cls=0.26148, 2 cls=0.22087, bce=0.07547, dice=0.83037, loss=-0.76559]\n"
     ]
    },
    {
     "name": "stdout",
     "output_type": "stream",
     "text": [
      "loss: -0.83536 | bce: 0.03403 | dice: 0.85630 | 0 cls: 0.11731 | 1 cls: 0.17286 | 2 cls: 0.13906\n"
     ]
    },
    {
     "name": "stderr",
     "output_type": "stream",
     "text": [
      "Epoch 108, lr 0.0005: 100% 21/21 [00:12<00:00,  1.69it/s, 0 cls=0.20082, 1 cls=0.27183, 2 cls=0.23046, bce=0.07839, dice=0.82433, loss=-0.75603]\n"
     ]
    },
    {
     "name": "stdout",
     "output_type": "stream",
     "text": [
      "loss: -0.82779 | bce: 0.03341 | dice: 0.84830 | 0 cls: 0.12632 | 1 cls: 0.17867 | 2 cls: 0.14891\n"
     ]
    },
    {
     "name": "stderr",
     "output_type": "stream",
     "text": [
      "Epoch 109, lr 0.0005: 100% 21/21 [00:12<00:00,  1.72it/s, 0 cls=0.19216, 1 cls=0.26726, 2 cls=0.22558, bce=0.07601, dice=0.82797, loss=-0.76204]\n"
     ]
    },
    {
     "name": "stdout",
     "output_type": "stream",
     "text": [
      "loss: -0.83401 | bce: 0.03323 | dice: 0.85351 | 0 cls: 0.12210 | 1 cls: 0.16824 | 2 cls: 0.14097\n"
     ]
    },
    {
     "name": "stderr",
     "output_type": "stream",
     "text": [
      "Epoch 110, lr 0.0005: 100% 21/21 [00:12<00:00,  1.70it/s, 0 cls=0.18236, 1 cls=0.25678, 2 cls=0.21466, bce=0.07310, dice=0.83349, loss=-0.77073]\n"
     ]
    },
    {
     "name": "stdout",
     "output_type": "stream",
     "text": [
      "loss: -0.83349 | bce: 0.03326 | dice: 0.85562 | 0 cls: 0.11840 | 1 cls: 0.16981 | 2 cls: 0.14090\n"
     ]
    },
    {
     "name": "stderr",
     "output_type": "stream",
     "text": [
      "Epoch 111, lr 0.0005: 100% 21/21 [00:12<00:00,  1.70it/s, 0 cls=0.18165, 1 cls=0.25210, 2 cls=0.21157, bce=0.07293, dice=0.83539, loss=-0.77309]\n"
     ]
    },
    {
     "name": "stdout",
     "output_type": "stream",
     "text": [
      "loss: -0.82272 | bce: 0.03619 | dice: 0.85016 | 0 cls: 0.12908 | 1 cls: 0.17571 | 2 cls: 0.14158\n"
     ]
    },
    {
     "name": "stderr",
     "output_type": "stream",
     "text": [
      "Epoch 112, lr 0.0005: 100% 21/21 [00:12<00:00,  1.68it/s, 0 cls=0.17768, 1 cls=0.25342, 2 cls=0.21045, bce=0.07216, dice=0.83610, loss=-0.77423]\n"
     ]
    },
    {
     "name": "stdout",
     "output_type": "stream",
     "text": [
      "loss: -0.83312 | bce: 0.03217 | dice: 0.85305 | 0 cls: 0.12185 | 1 cls: 0.17133 | 2 cls: 0.14413\n"
     ]
    },
    {
     "name": "stderr",
     "output_type": "stream",
     "text": [
      "Epoch 113, lr 0.0005: 100% 21/21 [00:12<00:00,  1.71it/s, 0 cls=0.18038, 1 cls=0.25389, 2 cls=0.21205, bce=0.07197, dice=0.83362, loss=-0.77263]\n"
     ]
    },
    {
     "name": "stdout",
     "output_type": "stream",
     "text": [
      "loss: -0.82724 | bce: 0.03518 | dice: 0.85369 | 0 cls: 0.12230 | 1 cls: 0.18165 | 2 cls: 0.14462\n"
     ]
    },
    {
     "name": "stderr",
     "output_type": "stream",
     "text": [
      "Epoch 114, lr 0.0005: 100% 21/21 [00:12<00:00,  1.71it/s, 0 cls=0.18620, 1 cls=0.26462, 2 cls=0.22170, bce=0.07520, dice=0.83082, loss=-0.76548]\n"
     ]
    },
    {
     "name": "stdout",
     "output_type": "stream",
     "text": [
      "loss: -0.82124 | bce: 0.03704 | dice: 0.84426 | 0 cls: 0.12809 | 1 cls: 0.18751 | 2 cls: 0.15166\n"
     ]
    },
    {
     "name": "stderr",
     "output_type": "stream",
     "text": [
      "Epoch 115, lr 0.0005: 100% 21/21 [00:12<00:00,  1.70it/s, 0 cls=0.18358, 1 cls=0.25990, 2 cls=0.21778, bce=0.07286, dice=0.83143, loss=-0.76886]\n"
     ]
    },
    {
     "name": "stdout",
     "output_type": "stream",
     "text": [
      "loss: -0.83142 | bce: 0.03543 | dice: 0.85262 | 0 cls: 0.12059 | 1 cls: 0.17406 | 2 cls: 0.14345\n"
     ]
    },
    {
     "name": "stderr",
     "output_type": "stream",
     "text": [
      "Epoch 116, lr 0.0005: 100% 21/21 [00:12<00:00,  1.71it/s, 0 cls=0.18156, 1 cls=0.25850, 2 cls=0.21739, bce=0.07300, dice=0.83253, loss=-0.77016]\n"
     ]
    },
    {
     "name": "stdout",
     "output_type": "stream",
     "text": [
      "loss: -0.83126 | bce: 0.03574 | dice: 0.85297 | 0 cls: 0.12430 | 1 cls: 0.16759 | 2 cls: 0.14063\n"
     ]
    },
    {
     "name": "stderr",
     "output_type": "stream",
     "text": [
      "Epoch 117, lr 0.0005: 100% 21/21 [00:12<00:00,  1.68it/s, 0 cls=0.18034, 1 cls=0.25284, 2 cls=0.21284, bce=0.07286, dice=0.83549, loss=-0.77323]\n"
     ]
    },
    {
     "name": "stdout",
     "output_type": "stream",
     "text": [
      "loss: -0.82219 | bce: 0.03371 | dice: 0.84119 | 0 cls: 0.13911 | 1 cls: 0.17755 | 2 cls: 0.15148\n"
     ]
    },
    {
     "name": "stderr",
     "output_type": "stream",
     "text": [
      "Epoch 118, lr 0.0005: 100% 21/21 [00:12<00:00,  1.67it/s, 0 cls=0.18612, 1 cls=0.26439, 2 cls=0.22104, bce=0.07327, dice=0.82890, loss=-0.76568]\n"
     ]
    },
    {
     "name": "stdout",
     "output_type": "stream",
     "text": [
      "loss: -0.82706 | bce: 0.03518 | dice: 0.84820 | 0 cls: 0.12652 | 1 cls: 0.17505 | 2 cls: 0.14639\n"
     ]
    },
    {
     "name": "stderr",
     "output_type": "stream",
     "text": [
      "Epoch 119, lr 0.0005: 100% 21/21 [00:12<00:00,  1.69it/s, 0 cls=0.18333, 1 cls=0.25844, 2 cls=0.21680, bce=0.07380, dice=0.83242, loss=-0.76922]\n"
     ]
    },
    {
     "name": "stdout",
     "output_type": "stream",
     "text": [
      "loss: -0.83468 | bce: 0.03355 | dice: 0.85778 | 0 cls: 0.11763 | 1 cls: 0.16946 | 2 cls: 0.13911\n"
     ]
    },
    {
     "name": "stderr",
     "output_type": "stream",
     "text": [
      "Epoch 120, lr 0.0005: 100% 21/21 [00:12<00:00,  1.68it/s, 0 cls=0.19062, 1 cls=0.26249, 2 cls=0.22157, bce=0.07479, dice=0.82910, loss=-0.76464]\n"
     ]
    },
    {
     "name": "stdout",
     "output_type": "stream",
     "text": [
      "loss: -0.83458 | bce: 0.03499 | dice: 0.86021 | 0 cls: 0.11772 | 1 cls: 0.16823 | 2 cls: 0.13697\n"
     ]
    },
    {
     "name": "stderr",
     "output_type": "stream",
     "text": [
      "Epoch 121, lr 0.0005: 100% 21/21 [00:12<00:00,  1.67it/s, 0 cls=0.17655, 1 cls=0.25275, 2 cls=0.21042, bce=0.07134, dice=0.83627, loss=-0.77520]\n"
     ]
    },
    {
     "name": "stdout",
     "output_type": "stream",
     "text": [
      "loss: -0.82546 | bce: 0.03748 | dice: 0.85179 | 0 cls: 0.12658 | 1 cls: 0.18395 | 2 cls: 0.15095\n"
     ]
    },
    {
     "name": "stderr",
     "output_type": "stream",
     "text": [
      "Epoch 122, lr 0.0005: 100% 21/21 [00:12<00:00,  1.69it/s, 0 cls=0.18383, 1 cls=0.25978, 2 cls=0.21936, bce=0.07364, dice=0.83236, loss=-0.76908]\n"
     ]
    },
    {
     "name": "stdout",
     "output_type": "stream",
     "text": [
      "loss: -0.79057 | bce: 0.04699 | dice: 0.81878 | 0 cls: 0.16370 | 1 cls: 0.20373 | 2 cls: 0.17827\n"
     ]
    },
    {
     "name": "stderr",
     "output_type": "stream",
     "text": [
      "Epoch 123, lr 0.0005: 100% 21/21 [00:12<00:00,  1.72it/s, 0 cls=0.19275, 1 cls=0.26424, 2 cls=0.22378, bce=0.07566, dice=0.82874, loss=-0.76322]\n"
     ]
    },
    {
     "name": "stdout",
     "output_type": "stream",
     "text": [
      "loss: -0.83655 | bce: 0.03314 | dice: 0.85784 | 0 cls: 0.11661 | 1 cls: 0.16790 | 2 cls: 0.14113\n"
     ]
    },
    {
     "name": "stderr",
     "output_type": "stream",
     "text": [
      "Epoch 124, lr 0.0005: 100% 21/21 [00:12<00:00,  1.70it/s, 0 cls=0.18580, 1 cls=0.25996, 2 cls=0.21859, bce=0.07296, dice=0.83065, loss=-0.76812]\n"
     ]
    },
    {
     "name": "stdout",
     "output_type": "stream",
     "text": [
      "loss: -0.83424 | bce: 0.03478 | dice: 0.85413 | 0 cls: 0.12276 | 1 cls: 0.16909 | 2 cls: 0.14072\n"
     ]
    },
    {
     "name": "stderr",
     "output_type": "stream",
     "text": [
      "Epoch 125, lr 0.0005: 100% 21/21 [00:12<00:00,  1.71it/s, 0 cls=0.17775, 1 cls=0.25242, 2 cls=0.21158, bce=0.07135, dice=0.83566, loss=-0.77472]\n"
     ]
    },
    {
     "name": "stdout",
     "output_type": "stream",
     "text": [
      "loss: -0.83480 | bce: 0.03296 | dice: 0.85429 | 0 cls: 0.11929 | 1 cls: 0.16995 | 2 cls: 0.14025\n"
     ]
    },
    {
     "name": "stderr",
     "output_type": "stream",
     "text": [
      "Epoch 126, lr 0.0005: 100% 21/21 [00:12<00:00,  1.68it/s, 0 cls=0.18598, 1 cls=0.26003, 2 cls=0.21897, bce=0.07464, dice=0.83163, loss=-0.76747]\n"
     ]
    },
    {
     "name": "stdout",
     "output_type": "stream",
     "text": [
      "loss: -0.81075 | bce: 0.03934 | dice: 0.83457 | 0 cls: 0.14117 | 1 cls: 0.19248 | 2 cls: 0.16171\n"
     ]
    },
    {
     "name": "stderr",
     "output_type": "stream",
     "text": [
      "Epoch 127, lr 0.0005: 100% 21/21 [00:12<00:00,  1.71it/s, 0 cls=0.18293, 1 cls=0.25701, 2 cls=0.21282, bce=0.07407, dice=0.83352, loss=-0.76996]\n"
     ]
    },
    {
     "name": "stdout",
     "output_type": "stream",
     "text": [
      "loss: -0.82708 | bce: 0.03480 | dice: 0.84973 | 0 cls: 0.12491 | 1 cls: 0.17992 | 2 cls: 0.15015\n"
     ]
    },
    {
     "name": "stderr",
     "output_type": "stream",
     "text": [
      "Epoch 128, lr 0.0005: 100% 21/21 [00:12<00:00,  1.69it/s, 0 cls=0.18529, 1 cls=0.26506, 2 cls=0.22282, bce=0.07626, dice=0.83024, loss=-0.76486]\n"
     ]
    },
    {
     "name": "stdout",
     "output_type": "stream",
     "text": [
      "loss: -0.76000 | bce: 0.05110 | dice: 0.79053 | 0 cls: 0.19266 | 1 cls: 0.23367 | 2 cls: 0.21233\n"
     ]
    },
    {
     "name": "stderr",
     "output_type": "stream",
     "text": [
      "Epoch 129, lr 0.0005: 100% 21/21 [00:12<00:00,  1.70it/s, 0 cls=0.18247, 1 cls=0.25684, 2 cls=0.21559, bce=0.07258, dice=0.83319, loss=-0.77084]\n"
     ]
    },
    {
     "name": "stdout",
     "output_type": "stream",
     "text": [
      "loss: -0.83651 | bce: 0.03483 | dice: 0.86195 | 0 cls: 0.11703 | 1 cls: 0.16810 | 2 cls: 0.13561\n"
     ]
    },
    {
     "name": "stderr",
     "output_type": "stream",
     "text": [
      "Epoch 130, lr 0.0005: 100% 21/21 [00:12<00:00,  1.68it/s, 0 cls=0.18289, 1 cls=0.25359, 2 cls=0.21411, bce=0.07305, dice=0.83427, loss=-0.77191]\n"
     ]
    },
    {
     "name": "stdout",
     "output_type": "stream",
     "text": [
      "loss: -0.79899 | bce: 0.04465 | dice: 0.82588 | 0 cls: 0.16736 | 1 cls: 0.17630 | 2 cls: 0.16177\n"
     ]
    },
    {
     "name": "stderr",
     "output_type": "stream",
     "text": [
      "Epoch 131, lr 0.0005: 100% 21/21 [00:12<00:00,  1.69it/s, 0 cls=0.17456, 1 cls=0.24979, 2 cls=0.20807, bce=0.07202, dice=0.83907, loss=-0.77739]\n"
     ]
    },
    {
     "name": "stdout",
     "output_type": "stream",
     "text": [
      "loss: -0.83909 | bce: 0.03324 | dice: 0.86156 | 0 cls: 0.11447 | 1 cls: 0.16497 | 2 cls: 0.13522\n"
     ]
    },
    {
     "name": "stderr",
     "output_type": "stream",
     "text": [
      "Epoch 132, lr 0.0005: 100% 21/21 [00:12<00:00,  1.72it/s, 0 cls=0.18019, 1 cls=0.25706, 2 cls=0.21440, bce=0.07263, dice=0.83360, loss=-0.77137]\n"
     ]
    },
    {
     "name": "stdout",
     "output_type": "stream",
     "text": [
      "loss: -0.83719 | bce: 0.03387 | dice: 0.85838 | 0 cls: 0.11988 | 1 cls: 0.16023 | 2 cls: 0.13703\n"
     ]
    },
    {
     "name": "stderr",
     "output_type": "stream",
     "text": [
      "Epoch 133, lr 0.0005: 100% 21/21 [00:12<00:00,  1.67it/s, 0 cls=0.17397, 1 cls=0.24995, 2 cls=0.20815, bce=0.07228, dice=0.83926, loss=-0.77732]\n"
     ]
    },
    {
     "name": "stdout",
     "output_type": "stream",
     "text": [
      "loss: -0.83521 | bce: 0.03398 | dice: 0.85685 | 0 cls: 0.12151 | 1 cls: 0.16612 | 2 cls: 0.13905\n"
     ]
    },
    {
     "name": "stderr",
     "output_type": "stream",
     "text": [
      "Epoch 134, lr 0.0005: 100% 21/21 [00:12<00:00,  1.69it/s, 0 cls=0.18124, 1 cls=0.25342, 2 cls=0.21182, bce=0.07195, dice=0.83450, loss=-0.77276]\n"
     ]
    },
    {
     "name": "stdout",
     "output_type": "stream",
     "text": [
      "loss: -0.82994 | bce: 0.03660 | dice: 0.85244 | 0 cls: 0.13154 | 1 cls: 0.16914 | 2 cls: 0.14493\n"
     ]
    },
    {
     "name": "stderr",
     "output_type": "stream",
     "text": [
      "Epoch 135, lr 0.0005: 100% 21/21 [00:12<00:00,  1.68it/s, 0 cls=0.17440, 1 cls=0.24563, 2 cls=0.20448, bce=0.07105, dice=0.83942, loss=-0.77936]\n"
     ]
    },
    {
     "name": "stdout",
     "output_type": "stream",
     "text": [
      "loss: -0.82404 | bce: 0.03741 | dice: 0.84671 | 0 cls: 0.13886 | 1 cls: 0.17252 | 2 cls: 0.15200\n"
     ]
    },
    {
     "name": "stderr",
     "output_type": "stream",
     "text": [
      "Epoch 136, lr 0.0005: 100% 21/21 [00:12<00:00,  1.69it/s, 0 cls=0.18643, 1 cls=0.25710, 2 cls=0.21847, bce=0.07322, dice=0.83129, loss=-0.76867]\n"
     ]
    },
    {
     "name": "stdout",
     "output_type": "stream",
     "text": [
      "loss: -0.82751 | bce: 0.03498 | dice: 0.84888 | 0 cls: 0.12985 | 1 cls: 0.17365 | 2 cls: 0.14955\n"
     ]
    },
    {
     "name": "stderr",
     "output_type": "stream",
     "text": [
      "Epoch 137, lr 0.0005: 100% 21/21 [00:12<00:00,  1.65it/s, 0 cls=0.18937, 1 cls=0.26104, 2 cls=0.22179, bce=0.07441, dice=0.83054, loss=-0.76640]\n"
     ]
    },
    {
     "name": "stdout",
     "output_type": "stream",
     "text": [
      "loss: -0.83450 | bce: 0.03195 | dice: 0.85378 | 0 cls: 0.11963 | 1 cls: 0.16865 | 2 cls: 0.14295\n"
     ]
    },
    {
     "name": "stderr",
     "output_type": "stream",
     "text": [
      "Epoch 138, lr 0.0005: 100% 21/21 [00:12<00:00,  1.70it/s, 0 cls=0.17970, 1 cls=0.25500, 2 cls=0.21347, bce=0.07373, dice=0.83656, loss=-0.77265]\n"
     ]
    },
    {
     "name": "stdout",
     "output_type": "stream",
     "text": [
      "loss: -0.82237 | bce: 0.03900 | dice: 0.84703 | 0 cls: 0.12838 | 1 cls: 0.18406 | 2 cls: 0.15112\n"
     ]
    },
    {
     "name": "stderr",
     "output_type": "stream",
     "text": [
      "Epoch 139, lr 0.0005: 100% 21/21 [00:12<00:00,  1.67it/s, 0 cls=0.18172, 1 cls=0.25605, 2 cls=0.21502, bce=0.07286, dice=0.83360, loss=-0.77120]\n"
     ]
    },
    {
     "name": "stdout",
     "output_type": "stream",
     "text": [
      "loss: -0.82398 | bce: 0.03605 | dice: 0.84546 | 0 cls: 0.13405 | 1 cls: 0.16975 | 2 cls: 0.14694\n"
     ]
    },
    {
     "name": "stderr",
     "output_type": "stream",
     "text": [
      "Epoch 140, lr 0.0005: 100% 21/21 [00:12<00:00,  1.70it/s, 0 cls=0.18703, 1 cls=0.26047, 2 cls=0.21884, bce=0.07369, dice=0.83135, loss=-0.76766]\n"
     ]
    },
    {
     "name": "stdout",
     "output_type": "stream",
     "text": [
      "loss: -0.84000 | bce: 0.03189 | dice: 0.86131 | 0 cls: 0.11460 | 1 cls: 0.16502 | 2 cls: 0.13504\n"
     ]
    },
    {
     "name": "stderr",
     "output_type": "stream",
     "text": [
      "Epoch 141, lr 0.0005: 100% 21/21 [00:12<00:00,  1.68it/s, 0 cls=0.17061, 1 cls=0.24997, 2 cls=0.20629, bce=0.07071, dice=0.84009, loss=-0.77945]\n"
     ]
    },
    {
     "name": "stdout",
     "output_type": "stream",
     "text": [
      "loss: -0.82591 | bce: 0.03491 | dice: 0.85118 | 0 cls: 0.13074 | 1 cls: 0.17031 | 2 cls: 0.14183\n"
     ]
    },
    {
     "name": "stderr",
     "output_type": "stream",
     "text": [
      "Epoch 142, lr 0.0005: 100% 21/21 [00:12<00:00,  1.71it/s, 0 cls=0.18073, 1 cls=0.25686, 2 cls=0.21471, bce=0.07341, dice=0.83433, loss=-0.77135]\n"
     ]
    },
    {
     "name": "stdout",
     "output_type": "stream",
     "text": [
      "loss: -0.83469 | bce: 0.03190 | dice: 0.85341 | 0 cls: 0.12385 | 1 cls: 0.16377 | 2 cls: 0.14130\n"
     ]
    },
    {
     "name": "stderr",
     "output_type": "stream",
     "text": [
      "Epoch 143, lr 0.0005: 100% 21/21 [00:12<00:00,  1.71it/s, 0 cls=0.19175, 1 cls=0.26003, 2 cls=0.22234, bce=0.07419, dice=0.82952, loss=-0.76567]\n"
     ]
    },
    {
     "name": "stdout",
     "output_type": "stream",
     "text": [
      "loss: -0.83385 | bce: 0.03800 | dice: 0.85668 | 0 cls: 0.12301 | 1 cls: 0.16790 | 2 cls: 0.14242\n"
     ]
    },
    {
     "name": "stderr",
     "output_type": "stream",
     "text": [
      "Epoch 144, lr 0.0005: 100% 21/21 [00:12<00:00,  1.69it/s, 0 cls=0.18446, 1 cls=0.25764, 2 cls=0.21745, bce=0.07370, dice=0.83270, loss=-0.76955]\n"
     ]
    },
    {
     "name": "stdout",
     "output_type": "stream",
     "text": [
      "loss: -0.84122 | bce: 0.03466 | dice: 0.86315 | 0 cls: 0.11386 | 1 cls: 0.16145 | 2 cls: 0.13545\n"
     ]
    },
    {
     "name": "stderr",
     "output_type": "stream",
     "text": [
      "Epoch 145, lr 0.0005: 100% 21/21 [00:12<00:00,  1.71it/s, 0 cls=0.17267, 1 cls=0.25071, 2 cls=0.20899, bce=0.07144, dice=0.83864, loss=-0.77768]\n"
     ]
    },
    {
     "name": "stdout",
     "output_type": "stream",
     "text": [
      "loss: -0.84047 | bce: 0.03437 | dice: 0.86476 | 0 cls: 0.11119 | 1 cls: 0.16796 | 2 cls: 0.14056\n"
     ]
    },
    {
     "name": "stderr",
     "output_type": "stream",
     "text": [
      "Epoch 146, lr 0.0005: 100% 21/21 [00:12<00:00,  1.69it/s, 0 cls=0.18224, 1 cls=0.25298, 2 cls=0.21288, bce=0.07313, dice=0.83468, loss=-0.77225]\n"
     ]
    },
    {
     "name": "stdout",
     "output_type": "stream",
     "text": [
      "loss: -0.82070 | bce: 0.03717 | dice: 0.84314 | 0 cls: 0.13358 | 1 cls: 0.18492 | 2 cls: 0.15791\n"
     ]
    },
    {
     "name": "stderr",
     "output_type": "stream",
     "text": [
      "Epoch 147, lr 0.0005: 100% 21/21 [00:12<00:00,  1.67it/s, 0 cls=0.19548, 1 cls=0.26505, 2 cls=0.22533, bce=0.07703, dice=0.82609, loss=-0.76056]\n"
     ]
    },
    {
     "name": "stdout",
     "output_type": "stream",
     "text": [
      "loss: -0.83509 | bce: 0.03455 | dice: 0.86073 | 0 cls: 0.11425 | 1 cls: 0.17540 | 2 cls: 0.13941\n"
     ]
    },
    {
     "name": "stderr",
     "output_type": "stream",
     "text": [
      "Epoch 148, lr 0.0005: 100% 21/21 [00:12<00:00,  1.69it/s, 0 cls=0.19576, 1 cls=0.27343, 2 cls=0.23110, bce=0.07891, dice=0.82577, loss=-0.75710]\n"
     ]
    },
    {
     "name": "stdout",
     "output_type": "stream",
     "text": [
      "loss: -0.82496 | bce: 0.03434 | dice: 0.84483 | 0 cls: 0.12828 | 1 cls: 0.17757 | 2 cls: 0.15281\n"
     ]
    },
    {
     "name": "stderr",
     "output_type": "stream",
     "text": [
      "Epoch 149, lr 0.0005: 100% 21/21 [00:12<00:00,  1.69it/s, 0 cls=0.17981, 1 cls=0.25574, 2 cls=0.21541, bce=0.07270, dice=0.83478, loss=-0.77251]\n"
     ]
    },
    {
     "name": "stdout",
     "output_type": "stream",
     "text": [
      "loss: -0.81788 | bce: 0.03801 | dice: 0.83959 | 0 cls: 0.13604 | 1 cls: 0.17897 | 2 cls: 0.15483\n"
     ]
    },
    {
     "name": "stderr",
     "output_type": "stream",
     "text": [
      "Epoch 150, lr 0.0005: 100% 21/21 [00:12<00:00,  1.70it/s, 0 cls=0.18449, 1 cls=0.25244, 2 cls=0.21543, bce=0.07300, dice=0.83404, loss=-0.77192]\n"
     ]
    },
    {
     "name": "stdout",
     "output_type": "stream",
     "text": [
      "loss: -0.83842 | bce: 0.03374 | dice: 0.86184 | 0 cls: 0.11586 | 1 cls: 0.16786 | 2 cls: 0.14020\n"
     ]
    },
    {
     "name": "stderr",
     "output_type": "stream",
     "text": [
      "Epoch 151, lr 0.0005: 100% 21/21 [00:12<00:00,  1.69it/s, 0 cls=0.18616, 1 cls=0.25654, 2 cls=0.21690, bce=0.07473, dice=0.83251, loss=-0.76875]\n"
     ]
    },
    {
     "name": "stdout",
     "output_type": "stream",
     "text": [
      "loss: -0.84639 | bce: 0.03303 | dice: 0.86735 | 0 cls: 0.10916 | 1 cls: 0.15911 | 2 cls: 0.12924\n"
     ]
    },
    {
     "name": "stderr",
     "output_type": "stream",
     "text": [
      "Epoch 152, lr 0.0005: 100% 21/21 [00:12<00:00,  1.72it/s, 0 cls=0.17980, 1 cls=0.25031, 2 cls=0.21212, bce=0.07323, dice=0.83659, loss=-0.77437]\n"
     ]
    },
    {
     "name": "stdout",
     "output_type": "stream",
     "text": [
      "loss: -0.82497 | bce: 0.03660 | dice: 0.84712 | 0 cls: 0.12708 | 1 cls: 0.17888 | 2 cls: 0.15179\n"
     ]
    },
    {
     "name": "stderr",
     "output_type": "stream",
     "text": [
      "Epoch 153, lr 0.0005: 100% 21/21 [00:12<00:00,  1.70it/s, 0 cls=0.18130, 1 cls=0.24946, 2 cls=0.21235, bce=0.07262, dice=0.83701, loss=-0.77502]\n"
     ]
    },
    {
     "name": "stdout",
     "output_type": "stream",
     "text": [
      "loss: -0.82952 | bce: 0.03365 | dice: 0.84907 | 0 cls: 0.12753 | 1 cls: 0.16820 | 2 cls: 0.14522\n"
     ]
    },
    {
     "name": "stderr",
     "output_type": "stream",
     "text": [
      "Epoch 154, lr 0.0005: 100% 21/21 [00:12<00:00,  1.72it/s, 0 cls=0.18460, 1 cls=0.25777, 2 cls=0.21650, bce=0.07369, dice=0.83271, loss=-0.76943]\n"
     ]
    },
    {
     "name": "stdout",
     "output_type": "stream",
     "text": [
      "loss: -0.83036 | bce: 0.03832 | dice: 0.85513 | 0 cls: 0.11781 | 1 cls: 0.17899 | 2 cls: 0.14506\n"
     ]
    },
    {
     "name": "stderr",
     "output_type": "stream",
     "text": [
      "Epoch 155, lr 0.0005: 100% 21/21 [00:12<00:00,  1.72it/s, 0 cls=0.17785, 1 cls=0.25060, 2 cls=0.20999, bce=0.07158, dice=0.83677, loss=-0.77579]\n"
     ]
    },
    {
     "name": "stdout",
     "output_type": "stream",
     "text": [
      "loss: -0.82824 | bce: 0.03641 | dice: 0.85076 | 0 cls: 0.12994 | 1 cls: 0.16603 | 2 cls: 0.14414\n"
     ]
    },
    {
     "name": "stderr",
     "output_type": "stream",
     "text": [
      "Epoch 156, lr 0.0005: 100% 21/21 [00:12<00:00,  1.70it/s, 0 cls=0.17961, 1 cls=0.25353, 2 cls=0.21303, bce=0.07221, dice=0.83688, loss=-0.77420]\n"
     ]
    },
    {
     "name": "stdout",
     "output_type": "stream",
     "text": [
      "loss: -0.85000 | bce: 0.03180 | dice: 0.87062 | 0 cls: 0.10597 | 1 cls: 0.15496 | 2 cls: 0.12673\n"
     ]
    },
    {
     "name": "stderr",
     "output_type": "stream",
     "text": [
      "Epoch 157, lr 0.0005: 100% 21/21 [00:12<00:00,  1.71it/s, 0 cls=0.17673, 1 cls=0.24755, 2 cls=0.20866, bce=0.07087, dice=0.83852, loss=-0.77788]\n"
     ]
    },
    {
     "name": "stdout",
     "output_type": "stream",
     "text": [
      "loss: -0.83767 | bce: 0.03402 | dice: 0.85883 | 0 cls: 0.11578 | 1 cls: 0.16802 | 2 cls: 0.13901\n"
     ]
    },
    {
     "name": "stderr",
     "output_type": "stream",
     "text": [
      "Epoch 158, lr 0.0005: 100% 21/21 [00:12<00:00,  1.68it/s, 0 cls=0.18928, 1 cls=0.25404, 2 cls=0.21706, bce=0.07468, dice=0.83260, loss=-0.76898]\n"
     ]
    },
    {
     "name": "stdout",
     "output_type": "stream",
     "text": [
      "loss: -0.82752 | bce: 0.03569 | dice: 0.84940 | 0 cls: 0.12457 | 1 cls: 0.17687 | 2 cls: 0.14937\n"
     ]
    },
    {
     "name": "stderr",
     "output_type": "stream",
     "text": [
      "Epoch 159, lr 0.0005: 100% 21/21 [00:12<00:00,  1.70it/s, 0 cls=0.18168, 1 cls=0.25182, 2 cls=0.21279, bce=0.07239, dice=0.83391, loss=-0.77265]\n"
     ]
    },
    {
     "name": "stdout",
     "output_type": "stream",
     "text": [
      "loss: -0.83897 | bce: 0.03270 | dice: 0.85915 | 0 cls: 0.11834 | 1 cls: 0.16295 | 2 cls: 0.13976\n"
     ]
    },
    {
     "name": "stderr",
     "output_type": "stream",
     "text": [
      "Epoch 160, lr 0.0005: 100% 21/21 [00:12<00:00,  1.67it/s, 0 cls=0.17840, 1 cls=0.25488, 2 cls=0.21170, bce=0.07192, dice=0.83553, loss=-0.77353]\n"
     ]
    },
    {
     "name": "stdout",
     "output_type": "stream",
     "text": [
      "loss: -0.84207 | bce: 0.03139 | dice: 0.86117 | 0 cls: 0.11655 | 1 cls: 0.15983 | 2 cls: 0.13567\n"
     ]
    },
    {
     "name": "stderr",
     "output_type": "stream",
     "text": [
      "Epoch 161, lr 0.0005: 100% 21/21 [00:12<00:00,  1.66it/s, 0 cls=0.17077, 1 cls=0.24570, 2 cls=0.20495, bce=0.06950, dice=0.83996, loss=-0.78107]\n"
     ]
    },
    {
     "name": "stdout",
     "output_type": "stream",
     "text": [
      "loss: -0.84421 | bce: 0.03287 | dice: 0.86353 | 0 cls: 0.11028 | 1 cls: 0.16011 | 2 cls: 0.13255\n"
     ]
    },
    {
     "name": "stderr",
     "output_type": "stream",
     "text": [
      "Epoch 162, lr 0.0005: 100% 21/21 [00:12<00:00,  1.69it/s, 0 cls=0.17391, 1 cls=0.24876, 2 cls=0.20786, bce=0.07084, dice=0.83868, loss=-0.77821]\n"
     ]
    },
    {
     "name": "stdout",
     "output_type": "stream",
     "text": [
      "loss: -0.83921 | bce: 0.03391 | dice: 0.86057 | 0 cls: 0.11732 | 1 cls: 0.16163 | 2 cls: 0.13709\n"
     ]
    },
    {
     "name": "stderr",
     "output_type": "stream",
     "text": [
      "Epoch 163, lr 0.0005: 100% 21/21 [00:12<00:00,  1.68it/s, 0 cls=0.17467, 1 cls=0.24586, 2 cls=0.20691, bce=0.07052, dice=0.83904, loss=-0.77925]\n"
     ]
    },
    {
     "name": "stdout",
     "output_type": "stream",
     "text": [
      "loss: -0.84901 | bce: 0.03426 | dice: 0.87100 | 0 cls: 0.10634 | 1 cls: 0.15567 | 2 cls: 0.12862\n"
     ]
    },
    {
     "name": "stderr",
     "output_type": "stream",
     "text": [
      "Epoch 164, lr 0.0005: 100% 21/21 [00:12<00:00,  1.72it/s, 0 cls=0.17630, 1 cls=0.25205, 2 cls=0.20990, bce=0.07106, dice=0.83663, loss=-0.77582]\n"
     ]
    },
    {
     "name": "stdout",
     "output_type": "stream",
     "text": [
      "loss: -0.83807 | bce: 0.03437 | dice: 0.85982 | 0 cls: 0.11591 | 1 cls: 0.16615 | 2 cls: 0.13943\n"
     ]
    },
    {
     "name": "stderr",
     "output_type": "stream",
     "text": [
      "Epoch 165, lr 0.0005: 100% 21/21 [00:12<00:00,  1.66it/s, 0 cls=0.18550, 1 cls=0.25261, 2 cls=0.21439, bce=0.07443, dice=0.83496, loss=-0.77121]\n"
     ]
    },
    {
     "name": "stdout",
     "output_type": "stream",
     "text": [
      "loss: -0.78725 | bce: 0.04470 | dice: 0.81380 | 0 cls: 0.16738 | 1 cls: 0.21093 | 2 cls: 0.18391\n"
     ]
    },
    {
     "name": "stderr",
     "output_type": "stream",
     "text": [
      "Epoch 166, lr 0.0005: 100% 21/21 [00:12<00:00,  1.70it/s, 0 cls=0.18034, 1 cls=0.25723, 2 cls=0.21368, bce=0.07228, dice=0.83394, loss=-0.77183]\n"
     ]
    },
    {
     "name": "stdout",
     "output_type": "stream",
     "text": [
      "loss: -0.83058 | bce: 0.03470 | dice: 0.85401 | 0 cls: 0.12458 | 1 cls: 0.17139 | 2 cls: 0.14238\n"
     ]
    },
    {
     "name": "stderr",
     "output_type": "stream",
     "text": [
      "Epoch 167, lr 0.0005: 100% 21/21 [00:12<00:00,  1.70it/s, 0 cls=0.17316, 1 cls=0.24902, 2 cls=0.20779, bce=0.07143, dice=0.83959, loss=-0.77849]\n"
     ]
    },
    {
     "name": "stdout",
     "output_type": "stream",
     "text": [
      "loss: -0.83631 | bce: 0.03454 | dice: 0.85760 | 0 cls: 0.11708 | 1 cls: 0.16985 | 2 cls: 0.14098\n"
     ]
    },
    {
     "name": "stderr",
     "output_type": "stream",
     "text": [
      "Epoch 168, lr 0.0005: 100% 21/21 [00:12<00:00,  1.70it/s, 0 cls=0.17914, 1 cls=0.25041, 2 cls=0.21114, bce=0.07131, dice=0.83632, loss=-0.77559]\n"
     ]
    },
    {
     "name": "stdout",
     "output_type": "stream",
     "text": [
      "loss: -0.84028 | bce: 0.03385 | dice: 0.86134 | 0 cls: 0.11576 | 1 cls: 0.16125 | 2 cls: 0.13563\n"
     ]
    },
    {
     "name": "stderr",
     "output_type": "stream",
     "text": [
      "Epoch 169, lr 0.0005: 100% 21/21 [00:12<00:00,  1.69it/s, 0 cls=0.18320, 1 cls=0.25490, 2 cls=0.21519, bce=0.07257, dice=0.83434, loss=-0.77181]\n"
     ]
    },
    {
     "name": "stdout",
     "output_type": "stream",
     "text": [
      "loss: -0.79819 | bce: 0.04492 | dice: 0.82419 | 0 cls: 0.15617 | 1 cls: 0.19652 | 2 cls: 0.17690\n"
     ]
    },
    {
     "name": "stderr",
     "output_type": "stream",
     "text": [
      "Epoch 170, lr 0.0005: 100% 21/21 [00:12<00:00,  1.71it/s, 0 cls=0.18156, 1 cls=0.25095, 2 cls=0.21210, bce=0.07264, dice=0.83591, loss=-0.77387]\n"
     ]
    },
    {
     "name": "stdout",
     "output_type": "stream",
     "text": [
      "loss: -0.84202 | bce: 0.03415 | dice: 0.86776 | 0 cls: 0.11007 | 1 cls: 0.16631 | 2 cls: 0.13343\n"
     ]
    },
    {
     "name": "stderr",
     "output_type": "stream",
     "text": [
      "Epoch 171, lr 0.0005: 100% 21/21 [00:12<00:00,  1.71it/s, 0 cls=0.17682, 1 cls=0.25502, 2 cls=0.21219, bce=0.07280, dice=0.83727, loss=-0.77422]\n"
     ]
    },
    {
     "name": "stdout",
     "output_type": "stream",
     "text": [
      "loss: -0.84046 | bce: 0.03348 | dice: 0.86114 | 0 cls: 0.11619 | 1 cls: 0.16029 | 2 cls: 0.13524\n"
     ]
    },
    {
     "name": "stderr",
     "output_type": "stream",
     "text": [
      "Epoch 172, lr 0.0005: 100% 21/21 [00:12<00:00,  1.71it/s, 0 cls=0.18601, 1 cls=0.25661, 2 cls=0.21813, bce=0.07291, dice=0.83207, loss=-0.76966]\n"
     ]
    },
    {
     "name": "stdout",
     "output_type": "stream",
     "text": [
      "loss: -0.83934 | bce: 0.03127 | dice: 0.86141 | 0 cls: 0.11546 | 1 cls: 0.16453 | 2 cls: 0.13422\n"
     ]
    },
    {
     "name": "stderr",
     "output_type": "stream",
     "text": [
      "Epoch 173, lr 0.0005: 100% 21/21 [00:12<00:00,  1.71it/s, 0 cls=0.18873, 1 cls=0.25954, 2 cls=0.22074, bce=0.07447, dice=0.83213, loss=-0.76760]\n"
     ]
    },
    {
     "name": "stdout",
     "output_type": "stream",
     "text": [
      "loss: -0.83205 | bce: 0.03613 | dice: 0.85458 | 0 cls: 0.13057 | 1 cls: 0.15645 | 2 cls: 0.13735\n"
     ]
    },
    {
     "name": "stderr",
     "output_type": "stream",
     "text": [
      "Epoch 174, lr 0.0005: 100% 21/21 [00:12<00:00,  1.71it/s, 0 cls=0.18625, 1 cls=0.26121, 2 cls=0.22018, bce=0.07384, dice=0.83108, loss=-0.76738]\n"
     ]
    },
    {
     "name": "stdout",
     "output_type": "stream",
     "text": [
      "loss: -0.84016 | bce: 0.03639 | dice: 0.86331 | 0 cls: 0.11161 | 1 cls: 0.16771 | 2 cls: 0.13557\n"
     ]
    },
    {
     "name": "stderr",
     "output_type": "stream",
     "text": [
      "Epoch 175, lr 0.0005: 100% 21/21 [00:12<00:00,  1.70it/s, 0 cls=0.17300, 1 cls=0.24679, 2 cls=0.20613, bce=0.07060, dice=0.83934, loss=-0.77943]\n"
     ]
    },
    {
     "name": "stdout",
     "output_type": "stream",
     "text": [
      "loss: -0.83671 | bce: 0.03521 | dice: 0.85981 | 0 cls: 0.11940 | 1 cls: 0.16465 | 2 cls: 0.13690\n"
     ]
    },
    {
     "name": "stderr",
     "output_type": "stream",
     "text": [
      "Epoch 176, lr 0.0005: 100% 21/21 [00:12<00:00,  1.70it/s, 0 cls=0.17127, 1 cls=0.24285, 2 cls=0.20310, bce=0.07078, dice=0.84176, loss=-0.78174]\n"
     ]
    },
    {
     "name": "stdout",
     "output_type": "stream",
     "text": [
      "loss: -0.83915 | bce: 0.03307 | dice: 0.86023 | 0 cls: 0.11471 | 1 cls: 0.16741 | 2 cls: 0.13880\n"
     ]
    },
    {
     "name": "stderr",
     "output_type": "stream",
     "text": [
      "Epoch 177, lr 0.0005: 100% 21/21 [00:12<00:00,  1.71it/s, 0 cls=0.18282, 1 cls=0.25378, 2 cls=0.21546, bce=0.07392, dice=0.83564, loss=-0.77212]\n"
     ]
    },
    {
     "name": "stdout",
     "output_type": "stream",
     "text": [
      "loss: -0.83017 | bce: 0.03414 | dice: 0.85237 | 0 cls: 0.12231 | 1 cls: 0.17793 | 2 cls: 0.14509\n"
     ]
    },
    {
     "name": "stderr",
     "output_type": "stream",
     "text": [
      "Epoch 178, lr 0.0005: 100% 21/21 [00:12<00:00,  1.72it/s, 0 cls=0.17325, 1 cls=0.24793, 2 cls=0.20638, bce=0.07051, dice=0.83932, loss=-0.77905]\n"
     ]
    },
    {
     "name": "stdout",
     "output_type": "stream",
     "text": [
      "loss: -0.84382 | bce: 0.03374 | dice: 0.86480 | 0 cls: 0.11181 | 1 cls: 0.15968 | 2 cls: 0.13253\n"
     ]
    },
    {
     "name": "stderr",
     "output_type": "stream",
     "text": [
      "Epoch 179, lr 0.0005: 100% 21/21 [00:12<00:00,  1.70it/s, 0 cls=0.17586, 1 cls=0.24667, 2 cls=0.20815, bce=0.07101, dice=0.83902, loss=-0.77848]\n"
     ]
    },
    {
     "name": "stdout",
     "output_type": "stream",
     "text": [
      "loss: -0.83355 | bce: 0.03437 | dice: 0.85708 | 0 cls: 0.11904 | 1 cls: 0.17221 | 2 cls: 0.14192\n"
     ]
    },
    {
     "name": "stderr",
     "output_type": "stream",
     "text": [
      "Epoch 180, lr 0.0005: 100% 21/21 [00:12<00:00,  1.69it/s, 0 cls=0.17376, 1 cls=0.24610, 2 cls=0.20564, bce=0.07056, dice=0.83963, loss=-0.77953]\n"
     ]
    },
    {
     "name": "stdout",
     "output_type": "stream",
     "text": [
      "loss: -0.81032 | bce: 0.04289 | dice: 0.83730 | 0 cls: 0.13505 | 1 cls: 0.20093 | 2 cls: 0.16454\n"
     ]
    },
    {
     "name": "stderr",
     "output_type": "stream",
     "text": [
      "Epoch 181, lr 0.0005: 100% 21/21 [00:12<00:00,  1.68it/s, 0 cls=0.18769, 1 cls=0.25853, 2 cls=0.22028, bce=0.07469, dice=0.83112, loss=-0.76740]\n"
     ]
    },
    {
     "name": "stdout",
     "output_type": "stream",
     "text": [
      "loss: -0.84047 | bce: 0.03463 | dice: 0.86332 | 0 cls: 0.11475 | 1 cls: 0.16504 | 2 cls: 0.13696\n"
     ]
    },
    {
     "name": "stderr",
     "output_type": "stream",
     "text": [
      "Epoch 182, lr 0.0005: 100% 21/21 [00:12<00:00,  1.68it/s, 0 cls=0.17924, 1 cls=0.25185, 2 cls=0.21151, bce=0.07171, dice=0.83582, loss=-0.77458]\n"
     ]
    },
    {
     "name": "stdout",
     "output_type": "stream",
     "text": [
      "loss: -0.82366 | bce: 0.03637 | dice: 0.84496 | 0 cls: 0.13230 | 1 cls: 0.17528 | 2 cls: 0.15213\n"
     ]
    },
    {
     "name": "stderr",
     "output_type": "stream",
     "text": [
      "Epoch 183, lr 0.0005: 100% 21/21 [00:12<00:00,  1.69it/s, 0 cls=0.18331, 1 cls=0.24512, 2 cls=0.20922, bce=0.07420, dice=0.83912, loss=-0.77564]\n"
     ]
    },
    {
     "name": "stdout",
     "output_type": "stream",
     "text": [
      "loss: -0.84370 | bce: 0.03207 | dice: 0.86549 | 0 cls: 0.11140 | 1 cls: 0.16279 | 2 cls: 0.13307\n"
     ]
    },
    {
     "name": "stderr",
     "output_type": "stream",
     "text": [
      "Epoch 184, lr 0.0005: 100% 21/21 [00:12<00:00,  1.70it/s, 0 cls=0.17628, 1 cls=0.25387, 2 cls=0.21094, bce=0.07223, dice=0.83798, loss=-0.77538]\n"
     ]
    },
    {
     "name": "stdout",
     "output_type": "stream",
     "text": [
      "loss: -0.82539 | bce: 0.03459 | dice: 0.84599 | 0 cls: 0.12687 | 1 cls: 0.18170 | 2 cls: 0.15014\n"
     ]
    },
    {
     "name": "stderr",
     "output_type": "stream",
     "text": [
      "Epoch 185, lr 0.0005: 100% 21/21 [00:12<00:00,  1.68it/s, 0 cls=0.18104, 1 cls=0.25438, 2 cls=0.21372, bce=0.07338, dice=0.83622, loss=-0.77279]\n"
     ]
    },
    {
     "name": "stdout",
     "output_type": "stream",
     "text": [
      "loss: -0.81419 | bce: 0.03727 | dice: 0.83667 | 0 cls: 0.14552 | 1 cls: 0.17648 | 2 cls: 0.15585\n"
     ]
    },
    {
     "name": "stderr",
     "output_type": "stream",
     "text": [
      "Epoch 186, lr 0.0005: 100% 21/21 [00:12<00:00,  1.70it/s, 0 cls=0.17600, 1 cls=0.24710, 2 cls=0.20668, bce=0.07209, dice=0.83985, loss=-0.77824]\n"
     ]
    },
    {
     "name": "stdout",
     "output_type": "stream",
     "text": [
      "loss: -0.83831 | bce: 0.03183 | dice: 0.85749 | 0 cls: 0.12211 | 1 cls: 0.15942 | 2 cls: 0.13710\n"
     ]
    },
    {
     "name": "stderr",
     "output_type": "stream",
     "text": [
      "Epoch 187, lr 0.0005: 100% 21/21 [00:12<00:00,  1.70it/s, 0 cls=0.16518, 1 cls=0.23613, 2 cls=0.19766, bce=0.06768, dice=0.84525, loss=-0.78812]\n"
     ]
    },
    {
     "name": "stdout",
     "output_type": "stream",
     "text": [
      "loss: -0.84167 | bce: 0.03238 | dice: 0.86291 | 0 cls: 0.11462 | 1 cls: 0.16326 | 2 cls: 0.13546\n"
     ]
    },
    {
     "name": "stderr",
     "output_type": "stream",
     "text": [
      "Epoch 188, lr 0.0005: 100% 21/21 [00:12<00:00,  1.69it/s, 0 cls=0.17205, 1 cls=0.24231, 2 cls=0.20297, bce=0.06983, dice=0.84156, loss=-0.78222]\n"
     ]
    },
    {
     "name": "stdout",
     "output_type": "stream",
     "text": [
      "loss: -0.84433 | bce: 0.03210 | dice: 0.86590 | 0 cls: 0.11137 | 1 cls: 0.15944 | 2 cls: 0.13122\n"
     ]
    },
    {
     "name": "stderr",
     "output_type": "stream",
     "text": [
      "Epoch 189, lr 0.0005: 100% 21/21 [00:12<00:00,  1.70it/s, 0 cls=0.18736, 1 cls=0.25699, 2 cls=0.21850, bce=0.07400, dice=0.83254, loss=-0.76871]\n"
     ]
    },
    {
     "name": "stdout",
     "output_type": "stream",
     "text": [
      "loss: -0.84826 | bce: 0.03222 | dice: 0.86887 | 0 cls: 0.10795 | 1 cls: 0.15668 | 2 cls: 0.12922\n"
     ]
    },
    {
     "name": "stderr",
     "output_type": "stream",
     "text": [
      "Epoch 190, lr 0.002: 100% 21/21 [00:12<00:00,  1.71it/s, 0 cls=0.22227, 1 cls=0.30539, 2 cls=0.25711, bce=0.08659, dice=0.80813, loss=-0.73118]\n"
     ]
    },
    {
     "name": "stdout",
     "output_type": "stream",
     "text": [
      "loss: -0.79969 | bce: 0.04600 | dice: 0.84383 | 0 cls: 0.12519 | 1 cls: 0.23250 | 2 cls: 0.17041\n"
     ]
    },
    {
     "name": "stderr",
     "output_type": "stream",
     "text": [
      "Epoch 191, lr 0.002: 100% 21/21 [00:12<00:00,  1.69it/s, 0 cls=0.25095, 1 cls=0.35146, 2 cls=0.28942, bce=0.09951, dice=0.78863, loss=-0.69789]\n"
     ]
    },
    {
     "name": "stdout",
     "output_type": "stream",
     "text": [
      "loss: -0.77394 | bce: 0.05288 | dice: 0.80860 | 0 cls: 0.16910 | 1 cls: 0.24956 | 2 cls: 0.19900\n"
     ]
    },
    {
     "name": "stderr",
     "output_type": "stream",
     "text": [
      "Epoch 192, lr 0.0006: 100% 21/21 [00:12<00:00,  1.66it/s, 0 cls=0.23335, 1 cls=0.30872, 2 cls=0.26672, bce=0.09021, dice=0.80304, loss=-0.72353]\n"
     ]
    },
    {
     "name": "stdout",
     "output_type": "stream",
     "text": [
      "loss: -0.76426 | bce: 0.04859 | dice: 0.79573 | 0 cls: 0.18761 | 1 cls: 0.25717 | 2 cls: 0.20046\n"
     ]
    },
    {
     "name": "stderr",
     "output_type": "stream",
     "text": [
      "Epoch 193, lr 0.0006: 100% 21/21 [00:12<00:00,  1.67it/s, 0 cls=0.21994, 1 cls=0.29054, 2 cls=0.24820, bce=0.08231, dice=0.81107, loss=-0.73924]\n"
     ]
    },
    {
     "name": "stdout",
     "output_type": "stream",
     "text": [
      "loss: -0.80454 | bce: 0.04041 | dice: 0.83172 | 0 cls: 0.14389 | 1 cls: 0.20286 | 2 cls: 0.16258\n"
     ]
    },
    {
     "name": "stderr",
     "output_type": "stream",
     "text": [
      "Epoch 194, lr 0.00017999999999999998: 100% 21/21 [00:12<00:00,  1.68it/s, 0 cls=0.20712, 1 cls=0.27987, 2 cls=0.23867, bce=0.08036, dice=0.81895, loss=-0.74905]\n"
     ]
    },
    {
     "name": "stdout",
     "output_type": "stream",
     "text": [
      "loss: -0.82914 | bce: 0.03690 | dice: 0.85506 | 0 cls: 0.12130 | 1 cls: 0.17857 | 2 cls: 0.14101\n"
     ]
    },
    {
     "name": "stderr",
     "output_type": "stream",
     "text": [
      "Epoch 195, lr 0.002: 100% 21/21 [00:12<00:00,  1.72it/s, 0 cls=0.23093, 1 cls=0.31146, 2 cls=0.26336, bce=0.09046, dice=0.80424, loss=-0.72396]\n"
     ]
    },
    {
     "name": "stdout",
     "output_type": "stream",
     "text": [
      "loss: -0.79981 | bce: 0.03884 | dice: 0.82739 | 0 cls: 0.15770 | 1 cls: 0.19709 | 2 cls: 0.15963\n"
     ]
    },
    {
     "name": "stderr",
     "output_type": "stream",
     "text": [
      "Epoch 196, lr 0.002: 100% 21/21 [00:12<00:00,  1.71it/s, 0 cls=0.26057, 1 cls=0.35254, 2 cls=0.29710, bce=0.10037, dice=0.78624, loss=-0.69413]\n"
     ]
    },
    {
     "name": "stdout",
     "output_type": "stream",
     "text": [
      "loss: -0.77455 | bce: 0.04798 | dice: 0.80736 | 0 cls: 0.16814 | 1 cls: 0.24487 | 2 cls: 0.19620\n"
     ]
    },
    {
     "name": "stderr",
     "output_type": "stream",
     "text": [
      "Epoch 197, lr 0.0006: 100% 21/21 [00:12<00:00,  1.72it/s, 0 cls=0.23123, 1 cls=0.31520, 2 cls=0.26522, bce=0.08881, dice=0.80345, loss=-0.72355]\n"
     ]
    },
    {
     "name": "stdout",
     "output_type": "stream",
     "text": [
      "loss: -0.82641 | bce: 0.03458 | dice: 0.84875 | 0 cls: 0.12756 | 1 cls: 0.17965 | 2 cls: 0.14363\n"
     ]
    },
    {
     "name": "stderr",
     "output_type": "stream",
     "text": [
      "Epoch 198, lr 0.0006: 100% 21/21 [00:12<00:00,  1.67it/s, 0 cls=0.19650, 1 cls=0.27932, 2 cls=0.23165, bce=0.07912, dice=0.82383, loss=-0.75438]\n"
     ]
    },
    {
     "name": "stdout",
     "output_type": "stream",
     "text": [
      "loss: -0.83652 | bce: 0.03251 | dice: 0.85805 | 0 cls: 0.11824 | 1 cls: 0.16801 | 2 cls: 0.13688\n"
     ]
    },
    {
     "name": "stderr",
     "output_type": "stream",
     "text": [
      "Epoch 199, lr 0.00017999999999999998: 100% 21/21 [00:12<00:00,  1.71it/s, 0 cls=0.20579, 1 cls=0.28027, 2 cls=0.23737, bce=0.07876, dice=0.81939, loss=-0.75017]\n"
     ]
    },
    {
     "name": "stdout",
     "output_type": "stream",
     "text": [
      "loss: -0.83782 | bce: 0.03444 | dice: 0.86011 | 0 cls: 0.11602 | 1 cls: 0.16705 | 2 cls: 0.13338\n"
     ]
    },
    {
     "name": "stderr",
     "output_type": "stream",
     "text": [
      "Epoch 200, lr 0.0003: 100% 21/21 [00:12<00:00,  1.71it/s, 0 cls=0.19880, 1 cls=0.27169, 2 cls=0.23033, bce=0.07810, dice=0.82489, loss=-0.75692]\n"
     ]
    },
    {
     "name": "stdout",
     "output_type": "stream",
     "text": [
      "loss: -0.83371 | bce: 0.03473 | dice: 0.85485 | 0 cls: 0.11921 | 1 cls: 0.17152 | 2 cls: 0.13821\n"
     ]
    },
    {
     "name": "stderr",
     "output_type": "stream",
     "text": [
      "Epoch 201, lr 0.0003: 100% 21/21 [00:12<00:00,  1.71it/s, 0 cls=0.18912, 1 cls=0.26288, 2 cls=0.22102, bce=0.07613, dice=0.83048, loss=-0.76485]\n"
     ]
    },
    {
     "name": "stdout",
     "output_type": "stream",
     "text": [
      "loss: -0.83881 | bce: 0.03364 | dice: 0.86178 | 0 cls: 0.11642 | 1 cls: 0.16378 | 2 cls: 0.13090\n"
     ]
    },
    {
     "name": "stderr",
     "output_type": "stream",
     "text": [
      "Epoch 202, lr 0.0003: 100% 21/21 [00:12<00:00,  1.74it/s, 0 cls=0.18745, 1 cls=0.26142, 2 cls=0.21960, bce=0.07481, dice=0.83104, loss=-0.76645]\n"
     ]
    },
    {
     "name": "stdout",
     "output_type": "stream",
     "text": [
      "loss: -0.83675 | bce: 0.03310 | dice: 0.85874 | 0 cls: 0.11864 | 1 cls: 0.16731 | 2 cls: 0.13742\n"
     ]
    },
    {
     "name": "stderr",
     "output_type": "stream",
     "text": [
      "Epoch 203, lr 0.0003: 100% 21/21 [00:12<00:00,  1.68it/s, 0 cls=0.19297, 1 cls=0.27132, 2 cls=0.22785, bce=0.07692, dice=0.82674, loss=-0.75976]\n"
     ]
    },
    {
     "name": "stdout",
     "output_type": "stream",
     "text": [
      "loss: -0.83743 | bce: 0.03470 | dice: 0.85966 | 0 cls: 0.11707 | 1 cls: 0.16509 | 2 cls: 0.13613\n"
     ]
    },
    {
     "name": "stderr",
     "output_type": "stream",
     "text": [
      "Epoch 204, lr 0.0003: 100% 21/21 [00:12<00:00,  1.69it/s, 0 cls=0.19031, 1 cls=0.26031, 2 cls=0.22020, bce=0.07530, dice=0.83049, loss=-0.76567]\n"
     ]
    },
    {
     "name": "stdout",
     "output_type": "stream",
     "text": [
      "loss: -0.82954 | bce: 0.03632 | dice: 0.85274 | 0 cls: 0.12793 | 1 cls: 0.16508 | 2 cls: 0.13909\n"
     ]
    },
    {
     "name": "stderr",
     "output_type": "stream",
     "text": [
      "Epoch 205, lr 0.0003: 100% 21/21 [00:12<00:00,  1.73it/s, 0 cls=0.18695, 1 cls=0.26005, 2 cls=0.21877, bce=0.07535, dice=0.83197, loss=-0.76701]\n"
     ]
    },
    {
     "name": "stdout",
     "output_type": "stream",
     "text": [
      "loss: -0.83752 | bce: 0.03348 | dice: 0.85998 | 0 cls: 0.11710 | 1 cls: 0.16794 | 2 cls: 0.13882\n"
     ]
    },
    {
     "name": "stderr",
     "output_type": "stream",
     "text": [
      "Epoch 206, lr 0.0003: 100% 21/21 [00:12<00:00,  1.73it/s, 0 cls=0.18414, 1 cls=0.26235, 2 cls=0.21932, bce=0.07430, dice=0.83238, loss=-0.76800]\n"
     ]
    },
    {
     "name": "stdout",
     "output_type": "stream",
     "text": [
      "loss: -0.84057 | bce: 0.03341 | dice: 0.86287 | 0 cls: 0.11492 | 1 cls: 0.16185 | 2 cls: 0.13262\n"
     ]
    },
    {
     "name": "stderr",
     "output_type": "stream",
     "text": [
      "Epoch 207, lr 0.0003: 100% 21/21 [00:12<00:00,  1.68it/s, 0 cls=0.18622, 1 cls=0.26005, 2 cls=0.21828, bce=0.07368, dice=0.83187, loss=-0.76802]\n"
     ]
    },
    {
     "name": "stdout",
     "output_type": "stream",
     "text": [
      "loss: -0.83275 | bce: 0.03541 | dice: 0.85511 | 0 cls: 0.12374 | 1 cls: 0.16616 | 2 cls: 0.13932\n"
     ]
    },
    {
     "name": "stderr",
     "output_type": "stream",
     "text": [
      "Epoch 208, lr 0.0003: 100% 21/21 [00:12<00:00,  1.70it/s, 0 cls=0.18127, 1 cls=0.25618, 2 cls=0.21398, bce=0.07373, dice=0.83517, loss=-0.77155]\n"
     ]
    },
    {
     "name": "stdout",
     "output_type": "stream",
     "text": [
      "loss: -0.82692 | bce: 0.03579 | dice: 0.84864 | 0 cls: 0.13237 | 1 cls: 0.16649 | 2 cls: 0.14248\n"
     ]
    },
    {
     "name": "stderr",
     "output_type": "stream",
     "text": [
      "Epoch 209, lr 0.0003: 100% 21/21 [00:12<00:00,  1.70it/s, 0 cls=0.18306, 1 cls=0.25313, 2 cls=0.21365, bce=0.07320, dice=0.83512, loss=-0.77231]\n"
     ]
    },
    {
     "name": "stdout",
     "output_type": "stream",
     "text": [
      "loss: -0.83213 | bce: 0.03404 | dice: 0.85316 | 0 cls: 0.12268 | 1 cls: 0.16943 | 2 cls: 0.14221\n"
     ]
    },
    {
     "name": "stderr",
     "output_type": "stream",
     "text": [
      "Epoch 210, lr 0.0003: 100% 21/21 [00:12<00:00,  1.68it/s, 0 cls=0.17651, 1 cls=0.25014, 2 cls=0.20900, bce=0.07123, dice=0.83802, loss=-0.77698]\n"
     ]
    },
    {
     "name": "stdout",
     "output_type": "stream",
     "text": [
      "loss: -0.84145 | bce: 0.03311 | dice: 0.86212 | 0 cls: 0.11474 | 1 cls: 0.16017 | 2 cls: 0.13350\n"
     ]
    },
    {
     "name": "stderr",
     "output_type": "stream",
     "text": [
      "Epoch 211, lr 0.0003: 100% 21/21 [00:12<00:00,  1.69it/s, 0 cls=0.18193, 1 cls=0.25158, 2 cls=0.21247, bce=0.07223, dice=0.83594, loss=-0.77392]\n"
     ]
    },
    {
     "name": "stdout",
     "output_type": "stream",
     "text": [
      "loss: -0.83599 | bce: 0.03445 | dice: 0.85783 | 0 cls: 0.12245 | 1 cls: 0.16187 | 2 cls: 0.13563\n"
     ]
    },
    {
     "name": "stderr",
     "output_type": "stream",
     "text": [
      "Epoch 212, lr 0.0003: 100% 21/21 [00:12<00:00,  1.71it/s, 0 cls=0.17631, 1 cls=0.25224, 2 cls=0.21046, bce=0.07234, dice=0.83739, loss=-0.77543]\n"
     ]
    },
    {
     "name": "stdout",
     "output_type": "stream",
     "text": [
      "loss: -0.83419 | bce: 0.03612 | dice: 0.85766 | 0 cls: 0.12424 | 1 cls: 0.16146 | 2 cls: 0.13782\n"
     ]
    },
    {
     "name": "stderr",
     "output_type": "stream",
     "text": [
      "Epoch 213, lr 0.0003: 100% 21/21 [00:12<00:00,  1.67it/s, 0 cls=0.18445, 1 cls=0.25480, 2 cls=0.21569, bce=0.07317, dice=0.83381, loss=-0.77108]\n"
     ]
    },
    {
     "name": "stdout",
     "output_type": "stream",
     "text": [
      "loss: -0.83832 | bce: 0.03380 | dice: 0.85933 | 0 cls: 0.11849 | 1 cls: 0.16230 | 2 cls: 0.13732\n"
     ]
    },
    {
     "name": "stderr",
     "output_type": "stream",
     "text": [
      "Epoch 214, lr 0.0003: 100% 21/21 [00:12<00:00,  1.70it/s, 0 cls=0.19099, 1 cls=0.26019, 2 cls=0.22246, bce=0.07666, dice=0.83217, loss=-0.76555]\n"
     ]
    },
    {
     "name": "stdout",
     "output_type": "stream",
     "text": [
      "loss: -0.83808 | bce: 0.03386 | dice: 0.85838 | 0 cls: 0.11668 | 1 cls: 0.16581 | 2 cls: 0.13775\n"
     ]
    },
    {
     "name": "stderr",
     "output_type": "stream",
     "text": [
      "Epoch 215, lr 0.0003: 100% 21/21 [00:12<00:00,  1.69it/s, 0 cls=0.18528, 1 cls=0.26077, 2 cls=0.21832, bce=0.07370, dice=0.83191, loss=-0.76809]\n"
     ]
    },
    {
     "name": "stdout",
     "output_type": "stream",
     "text": [
      "loss: -0.83394 | bce: 0.03540 | dice: 0.85717 | 0 cls: 0.12085 | 1 cls: 0.16814 | 2 cls: 0.14094\n"
     ]
    },
    {
     "name": "stderr",
     "output_type": "stream",
     "text": [
      "Epoch 216, lr 0.0003: 100% 21/21 [00:12<00:00,  1.72it/s, 0 cls=0.17386, 1 cls=0.24691, 2 cls=0.20609, bce=0.07110, dice=0.83998, loss=-0.77917]\n"
     ]
    },
    {
     "name": "stdout",
     "output_type": "stream",
     "text": [
      "loss: -0.84449 | bce: 0.03343 | dice: 0.86652 | 0 cls: 0.11172 | 1 cls: 0.15849 | 2 cls: 0.13082\n"
     ]
    },
    {
     "name": "stderr",
     "output_type": "stream",
     "text": [
      "Epoch 217, lr 0.0003: 100% 21/21 [00:12<00:00,  1.68it/s, 0 cls=0.17423, 1 cls=0.24826, 2 cls=0.20755, bce=0.07068, dice=0.83820, loss=-0.77815]\n"
     ]
    },
    {
     "name": "stdout",
     "output_type": "stream",
     "text": [
      "loss: -0.83640 | bce: 0.03536 | dice: 0.85857 | 0 cls: 0.11820 | 1 cls: 0.16725 | 2 cls: 0.13990\n"
     ]
    },
    {
     "name": "stderr",
     "output_type": "stream",
     "text": [
      "Epoch 218, lr 0.0003: 100% 21/21 [00:12<00:00,  1.71it/s, 0 cls=0.18619, 1 cls=0.25344, 2 cls=0.21573, bce=0.07422, dice=0.83427, loss=-0.77074]\n"
     ]
    },
    {
     "name": "stdout",
     "output_type": "stream",
     "text": [
      "loss: -0.84154 | bce: 0.03392 | dice: 0.86509 | 0 cls: 0.11247 | 1 cls: 0.16315 | 2 cls: 0.13301\n"
     ]
    },
    {
     "name": "stderr",
     "output_type": "stream",
     "text": [
      "Epoch 219, lr 0.0003: 100% 21/21 [00:12<00:00,  1.69it/s, 0 cls=0.17581, 1 cls=0.25252, 2 cls=0.21039, bce=0.07227, dice=0.83765, loss=-0.77562]\n"
     ]
    },
    {
     "name": "stdout",
     "output_type": "stream",
     "text": [
      "loss: -0.83493 | bce: 0.03565 | dice: 0.85647 | 0 cls: 0.11789 | 1 cls: 0.17010 | 2 cls: 0.14120\n"
     ]
    },
    {
     "name": "stderr",
     "output_type": "stream",
     "text": [
      "Epoch 220, lr 0.0003: 100% 21/21 [00:12<00:00,  1.72it/s, 0 cls=0.17656, 1 cls=0.24915, 2 cls=0.20925, bce=0.07056, dice=0.83735, loss=-0.77730]\n"
     ]
    },
    {
     "name": "stdout",
     "output_type": "stream",
     "text": [
      "loss: -0.83805 | bce: 0.03610 | dice: 0.86070 | 0 cls: 0.11698 | 1 cls: 0.16327 | 2 cls: 0.13695\n"
     ]
    },
    {
     "name": "stderr",
     "output_type": "stream",
     "text": [
      "Epoch 221, lr 0.0003: 100% 21/21 [00:12<00:00,  1.69it/s, 0 cls=0.17707, 1 cls=0.24441, 2 cls=0.20657, bce=0.07082, dice=0.83981, loss=-0.77918]\n"
     ]
    },
    {
     "name": "stdout",
     "output_type": "stream",
     "text": [
      "loss: -0.84312 | bce: 0.03477 | dice: 0.86577 | 0 cls: 0.11287 | 1 cls: 0.16003 | 2 cls: 0.13235\n"
     ]
    },
    {
     "name": "stderr",
     "output_type": "stream",
     "text": [
      "Epoch 222, lr 0.0003: 100% 21/21 [00:12<00:00,  1.70it/s, 0 cls=0.17916, 1 cls=0.24862, 2 cls=0.20941, bce=0.07215, dice=0.83800, loss=-0.77634]\n"
     ]
    },
    {
     "name": "stdout",
     "output_type": "stream",
     "text": [
      "loss: -0.82540 | bce: 0.03843 | dice: 0.84813 | 0 cls: 0.13394 | 1 cls: 0.16707 | 2 cls: 0.14730\n"
     ]
    },
    {
     "name": "stderr",
     "output_type": "stream",
     "text": [
      "Epoch 223, lr 0.0003: 100% 21/21 [00:12<00:00,  1.71it/s, 0 cls=0.17520, 1 cls=0.24546, 2 cls=0.20680, bce=0.07114, dice=0.83992, loss=-0.77931]\n"
     ]
    },
    {
     "name": "stdout",
     "output_type": "stream",
     "text": [
      "loss: -0.84019 | bce: 0.03357 | dice: 0.86002 | 0 cls: 0.11922 | 1 cls: 0.16012 | 2 cls: 0.13609\n"
     ]
    },
    {
     "name": "stderr",
     "output_type": "stream",
     "text": [
      "Epoch 224, lr 0.0003: 100% 21/21 [00:12<00:00,  1.70it/s, 0 cls=0.18494, 1 cls=0.25379, 2 cls=0.21529, bce=0.07468, dice=0.83480, loss=-0.77088]\n"
     ]
    },
    {
     "name": "stdout",
     "output_type": "stream",
     "text": [
      "loss: -0.84062 | bce: 0.03361 | dice: 0.86166 | 0 cls: 0.11540 | 1 cls: 0.16366 | 2 cls: 0.13628\n"
     ]
    },
    {
     "name": "stderr",
     "output_type": "stream",
     "text": [
      "Epoch 225, lr 0.0003: 100% 21/21 [00:12<00:00,  1.70it/s, 0 cls=0.18318, 1 cls=0.25230, 2 cls=0.21421, bce=0.07282, dice=0.83539, loss=-0.77282]\n"
     ]
    },
    {
     "name": "stdout",
     "output_type": "stream",
     "text": [
      "loss: -0.84707 | bce: 0.03304 | dice: 0.86805 | 0 cls: 0.11031 | 1 cls: 0.15570 | 2 cls: 0.13119\n"
     ]
    },
    {
     "name": "stderr",
     "output_type": "stream",
     "text": [
      "Epoch 226, lr 0.0003: 100% 21/21 [00:12<00:00,  1.71it/s, 0 cls=0.17325, 1 cls=0.24632, 2 cls=0.20615, bce=0.07094, dice=0.84050, loss=-0.77993]\n"
     ]
    },
    {
     "name": "stdout",
     "output_type": "stream",
     "text": [
      "loss: -0.83475 | bce: 0.03530 | dice: 0.85694 | 0 cls: 0.12126 | 1 cls: 0.16598 | 2 cls: 0.14042\n"
     ]
    },
    {
     "name": "stderr",
     "output_type": "stream",
     "text": [
      "Epoch 227, lr 0.0003: 100% 21/21 [00:12<00:00,  1.66it/s, 0 cls=0.17436, 1 cls=0.24528, 2 cls=0.20639, bce=0.07061, dice=0.83978, loss=-0.77977]\n"
     ]
    },
    {
     "name": "stdout",
     "output_type": "stream",
     "text": [
      "loss: -0.84205 | bce: 0.03408 | dice: 0.86320 | 0 cls: 0.11452 | 1 cls: 0.16023 | 2 cls: 0.13605\n"
     ]
    },
    {
     "name": "stderr",
     "output_type": "stream",
     "text": [
      "Epoch 228, lr 0.0003: 100% 21/21 [00:12<00:00,  1.70it/s, 0 cls=0.17132, 1 cls=0.24495, 2 cls=0.20445, bce=0.06984, dice=0.84153, loss=-0.78154]\n"
     ]
    },
    {
     "name": "stdout",
     "output_type": "stream",
     "text": [
      "loss: -0.84441 | bce: 0.03307 | dice: 0.86550 | 0 cls: 0.11175 | 1 cls: 0.15884 | 2 cls: 0.13255\n"
     ]
    },
    {
     "name": "stderr",
     "output_type": "stream",
     "text": [
      "Epoch 229, lr 0.0003: 100% 21/21 [00:12<00:00,  1.70it/s, 0 cls=0.17349, 1 cls=0.24353, 2 cls=0.20483, bce=0.07074, dice=0.84043, loss=-0.78060]\n"
     ]
    },
    {
     "name": "stdout",
     "output_type": "stream",
     "text": [
      "loss: -0.84165 | bce: 0.03287 | dice: 0.86176 | 0 cls: 0.11723 | 1 cls: 0.15654 | 2 cls: 0.13429\n"
     ]
    },
    {
     "name": "stderr",
     "output_type": "stream",
     "text": [
      "Epoch 230, lr 0.0003: 100% 21/21 [00:12<00:00,  1.68it/s, 0 cls=0.17268, 1 cls=0.24282, 2 cls=0.20502, bce=0.06958, dice=0.84096, loss=-0.78188]\n"
     ]
    },
    {
     "name": "stdout",
     "output_type": "stream",
     "text": [
      "loss: -0.84638 | bce: 0.03306 | dice: 0.86673 | 0 cls: 0.11162 | 1 cls: 0.15546 | 2 cls: 0.13199\n"
     ]
    },
    {
     "name": "stderr",
     "output_type": "stream",
     "text": [
      "Epoch 231, lr 0.0003: 100% 21/21 [00:12<00:00,  1.69it/s, 0 cls=0.18191, 1 cls=0.25103, 2 cls=0.21282, bce=0.07197, dice=0.83572, loss=-0.77400]\n"
     ]
    },
    {
     "name": "stdout",
     "output_type": "stream",
     "text": [
      "loss: -0.84546 | bce: 0.03324 | dice: 0.86899 | 0 cls: 0.10992 | 1 cls: 0.16040 | 2 cls: 0.13067\n"
     ]
    },
    {
     "name": "stderr",
     "output_type": "stream",
     "text": [
      "Epoch 232, lr 0.0003: 100% 21/21 [00:12<00:00,  1.69it/s, 0 cls=0.16997, 1 cls=0.24689, 2 cls=0.20564, bce=0.07074, dice=0.84162, loss=-0.78103]\n"
     ]
    },
    {
     "name": "stdout",
     "output_type": "stream",
     "text": [
      "loss: -0.84925 | bce: 0.03280 | dice: 0.86933 | 0 cls: 0.11047 | 1 cls: 0.15110 | 2 cls: 0.12869\n"
     ]
    },
    {
     "name": "stderr",
     "output_type": "stream",
     "text": [
      "Epoch 233, lr 0.0003: 100% 21/21 [00:12<00:00,  1.70it/s, 0 cls=0.17493, 1 cls=0.24433, 2 cls=0.20624, bce=0.06991, dice=0.83869, loss=-0.77971]\n"
     ]
    },
    {
     "name": "stdout",
     "output_type": "stream",
     "text": [
      "loss: -0.84683 | bce: 0.03242 | dice: 0.86798 | 0 cls: 0.11080 | 1 cls: 0.15391 | 2 cls: 0.12928\n"
     ]
    },
    {
     "name": "stderr",
     "output_type": "stream",
     "text": [
      "Epoch 234, lr 0.0003: 100% 21/21 [00:12<00:00,  1.70it/s, 0 cls=0.18949, 1 cls=0.25481, 2 cls=0.21887, bce=0.07382, dice=0.83272, loss=-0.76924]\n"
     ]
    },
    {
     "name": "stdout",
     "output_type": "stream",
     "text": [
      "loss: -0.84045 | bce: 0.03316 | dice: 0.86079 | 0 cls: 0.11756 | 1 cls: 0.15942 | 2 cls: 0.13602\n"
     ]
    },
    {
     "name": "stderr",
     "output_type": "stream",
     "text": [
      "Epoch 235, lr 0.0003: 100% 21/21 [00:12<00:00,  1.69it/s, 0 cls=0.17141, 1 cls=0.24351, 2 cls=0.20442, bce=0.07040, dice=0.84138, loss=-0.78165]\n"
     ]
    },
    {
     "name": "stdout",
     "output_type": "stream",
     "text": [
      "loss: -0.83812 | bce: 0.03448 | dice: 0.85890 | 0 cls: 0.11601 | 1 cls: 0.16641 | 2 cls: 0.13934\n"
     ]
    },
    {
     "name": "stderr",
     "output_type": "stream",
     "text": [
      "Epoch 236, lr 0.0003: 100% 21/21 [00:12<00:00,  1.70it/s, 0 cls=0.17535, 1 cls=0.24517, 2 cls=0.20687, bce=0.07046, dice=0.83962, loss=-0.77970]\n"
     ]
    },
    {
     "name": "stdout",
     "output_type": "stream",
     "text": [
      "loss: -0.84624 | bce: 0.03304 | dice: 0.86734 | 0 cls: 0.11131 | 1 cls: 0.15553 | 2 cls: 0.13107\n"
     ]
    },
    {
     "name": "stderr",
     "output_type": "stream",
     "text": [
      "Epoch 237, lr 0.0003: 100% 21/21 [00:12<00:00,  1.71it/s, 0 cls=0.17107, 1 cls=0.24411, 2 cls=0.20417, bce=0.07006, dice=0.84129, loss=-0.78172]\n"
     ]
    },
    {
     "name": "stdout",
     "output_type": "stream",
     "text": [
      "loss: -0.84267 | bce: 0.03285 | dice: 0.86377 | 0 cls: 0.11535 | 1 cls: 0.15904 | 2 cls: 0.13455\n"
     ]
    },
    {
     "name": "stderr",
     "output_type": "stream",
     "text": [
      "Epoch 238, lr 0.0003: 100% 21/21 [00:12<00:00,  1.68it/s, 0 cls=0.17373, 1 cls=0.24464, 2 cls=0.20524, bce=0.07033, dice=0.84050, loss=-0.78044]\n"
     ]
    },
    {
     "name": "stdout",
     "output_type": "stream",
     "text": [
      "loss: -0.84038 | bce: 0.03474 | dice: 0.86225 | 0 cls: 0.11728 | 1 cls: 0.15814 | 2 cls: 0.13445\n"
     ]
    },
    {
     "name": "stderr",
     "output_type": "stream",
     "text": [
      "Epoch 239, lr 0.0003: 100% 21/21 [00:12<00:00,  1.71it/s, 0 cls=0.17086, 1 cls=0.24511, 2 cls=0.20565, bce=0.06995, dice=0.84073, loss=-0.78128]\n"
     ]
    },
    {
     "name": "stdout",
     "output_type": "stream",
     "text": [
      "loss: -0.84441 | bce: 0.03306 | dice: 0.86363 | 0 cls: 0.11445 | 1 cls: 0.15552 | 2 cls: 0.13312\n"
     ]
    },
    {
     "name": "stderr",
     "output_type": "stream",
     "text": [
      "Epoch 240, lr 0.0003: 100% 21/21 [00:12<00:00,  1.72it/s, 0 cls=0.17402, 1 cls=0.24525, 2 cls=0.20622, bce=0.07030, dice=0.83983, loss=-0.78004]\n"
     ]
    },
    {
     "name": "stdout",
     "output_type": "stream",
     "text": [
      "loss: -0.84791 | bce: 0.03264 | dice: 0.86793 | 0 cls: 0.11080 | 1 cls: 0.15202 | 2 cls: 0.12959\n"
     ]
    },
    {
     "name": "stderr",
     "output_type": "stream",
     "text": [
      "Epoch 241, lr 0.0003: 100% 21/21 [00:12<00:00,  1.70it/s, 0 cls=0.17297, 1 cls=0.24548, 2 cls=0.20628, bce=0.06918, dice=0.84029, loss=-0.78101]\n"
     ]
    },
    {
     "name": "stdout",
     "output_type": "stream",
     "text": [
      "loss: -0.83539 | bce: 0.03388 | dice: 0.85881 | 0 cls: 0.12140 | 1 cls: 0.16409 | 2 cls: 0.13735\n"
     ]
    },
    {
     "name": "stderr",
     "output_type": "stream",
     "text": [
      "Epoch 242, lr 0.0003: 100% 21/21 [00:12<00:00,  1.68it/s, 0 cls=0.17003, 1 cls=0.24150, 2 cls=0.20271, bce=0.07013, dice=0.84232, loss=-0.78306]\n"
     ]
    },
    {
     "name": "stdout",
     "output_type": "stream",
     "text": [
      "loss: -0.83538 | bce: 0.03560 | dice: 0.85818 | 0 cls: 0.12228 | 1 cls: 0.16370 | 2 cls: 0.13975\n"
     ]
    },
    {
     "name": "stderr",
     "output_type": "stream",
     "text": [
      "Epoch 243, lr 0.0003: 100% 21/21 [00:12<00:00,  1.68it/s, 0 cls=0.17240, 1 cls=0.23958, 2 cls=0.20286, bce=0.07022, dice=0.84285, loss=-0.78324]\n"
     ]
    },
    {
     "name": "stdout",
     "output_type": "stream",
     "text": [
      "loss: -0.83960 | bce: 0.03288 | dice: 0.86208 | 0 cls: 0.11488 | 1 cls: 0.16518 | 2 cls: 0.13719\n"
     ]
    },
    {
     "name": "stderr",
     "output_type": "stream",
     "text": [
      "Epoch 244, lr 0.0003: 100% 21/21 [00:12<00:00,  1.68it/s, 0 cls=0.17490, 1 cls=0.24895, 2 cls=0.20847, bce=0.07005, dice=0.83778, loss=-0.77792]\n"
     ]
    },
    {
     "name": "stdout",
     "output_type": "stream",
     "text": [
      "loss: -0.84443 | bce: 0.03376 | dice: 0.86475 | 0 cls: 0.11368 | 1 cls: 0.15677 | 2 cls: 0.13535\n"
     ]
    },
    {
     "name": "stderr",
     "output_type": "stream",
     "text": [
      "Epoch 245, lr 0.0003: 100% 21/21 [00:12<00:00,  1.69it/s, 0 cls=0.16536, 1 cls=0.23807, 2 cls=0.19838, bce=0.06720, dice=0.84446, loss=-0.78753]\n"
     ]
    },
    {
     "name": "stdout",
     "output_type": "stream",
     "text": [
      "loss: -0.83880 | bce: 0.03501 | dice: 0.86043 | 0 cls: 0.11531 | 1 cls: 0.16430 | 2 cls: 0.13709\n"
     ]
    },
    {
     "name": "stderr",
     "output_type": "stream",
     "text": [
      "Epoch 246, lr 0.0003: 100% 21/21 [00:12<00:00,  1.68it/s, 0 cls=0.17748, 1 cls=0.24717, 2 cls=0.20973, bce=0.07225, dice=0.83794, loss=-0.77698]\n"
     ]
    },
    {
     "name": "stdout",
     "output_type": "stream",
     "text": [
      "loss: -0.83630 | bce: 0.03578 | dice: 0.85852 | 0 cls: 0.11459 | 1 cls: 0.17227 | 2 cls: 0.14059\n"
     ]
    },
    {
     "name": "stderr",
     "output_type": "stream",
     "text": [
      "Epoch 247, lr 0.0003: 100% 21/21 [00:12<00:00,  1.70it/s, 0 cls=0.17342, 1 cls=0.24376, 2 cls=0.20566, bce=0.06981, dice=0.84029, loss=-0.78099]\n"
     ]
    },
    {
     "name": "stdout",
     "output_type": "stream",
     "text": [
      "loss: -0.83776 | bce: 0.03474 | dice: 0.85891 | 0 cls: 0.11666 | 1 cls: 0.16666 | 2 cls: 0.13977\n"
     ]
    },
    {
     "name": "stderr",
     "output_type": "stream",
     "text": [
      "Epoch 248, lr 0.0003: 100% 21/21 [00:12<00:00,  1.69it/s, 0 cls=0.16951, 1 cls=0.24493, 2 cls=0.20412, bce=0.06877, dice=0.84021, loss=-0.78209]\n"
     ]
    },
    {
     "name": "stdout",
     "output_type": "stream",
     "text": [
      "loss: -0.84061 | bce: 0.03307 | dice: 0.86212 | 0 cls: 0.11583 | 1 cls: 0.16072 | 2 cls: 0.13479\n"
     ]
    },
    {
     "name": "stderr",
     "output_type": "stream",
     "text": [
      "Epoch 249, lr 0.0003: 100% 21/21 [00:12<00:00,  1.68it/s, 0 cls=0.17548, 1 cls=0.24688, 2 cls=0.20795, bce=0.07119, dice=0.83964, loss=-0.77874]\n"
     ]
    },
    {
     "name": "stdout",
     "output_type": "stream",
     "text": [
      "loss: -0.83876 | bce: 0.03376 | dice: 0.85936 | 0 cls: 0.11668 | 1 cls: 0.16346 | 2 cls: 0.13667\n"
     ]
    },
    {
     "name": "stderr",
     "output_type": "stream",
     "text": [
      "Epoch 250, lr 0.0003: 100% 21/21 [00:12<00:00,  1.68it/s, 0 cls=0.17251, 1 cls=0.24212, 2 cls=0.20345, bce=0.06900, dice=0.84088, loss=-0.78243]\n"
     ]
    },
    {
     "name": "stdout",
     "output_type": "stream",
     "text": [
      "loss: -0.83035 | bce: 0.03652 | dice: 0.85304 | 0 cls: 0.12900 | 1 cls: 0.16435 | 2 cls: 0.14248\n"
     ]
    },
    {
     "name": "stderr",
     "output_type": "stream",
     "text": [
      "Epoch 251, lr 0.0003: 100% 21/21 [00:12<00:00,  1.69it/s, 0 cls=0.16821, 1 cls=0.24232, 2 cls=0.20240, bce=0.07071, dice=0.84403, loss=-0.78366]\n"
     ]
    },
    {
     "name": "stdout",
     "output_type": "stream",
     "text": [
      "loss: -0.84378 | bce: 0.03206 | dice: 0.86338 | 0 cls: 0.11328 | 1 cls: 0.15981 | 2 cls: 0.13296\n"
     ]
    },
    {
     "name": "stderr",
     "output_type": "stream",
     "text": [
      "Epoch 252, lr 0.0003: 100% 21/21 [00:12<00:00,  1.71it/s, 0 cls=0.18113, 1 cls=0.25202, 2 cls=0.21401, bce=0.07232, dice=0.83558, loss=-0.77378]\n"
     ]
    },
    {
     "name": "stdout",
     "output_type": "stream",
     "text": [
      "loss: -0.84160 | bce: 0.03238 | dice: 0.86139 | 0 cls: 0.11786 | 1 cls: 0.15823 | 2 cls: 0.13338\n"
     ]
    },
    {
     "name": "stderr",
     "output_type": "stream",
     "text": [
      "Epoch 253, lr 0.0003: 100% 21/21 [00:12<00:00,  1.70it/s, 0 cls=0.17412, 1 cls=0.24714, 2 cls=0.20833, bce=0.07015, dice=0.83927, loss=-0.77938]\n"
     ]
    },
    {
     "name": "stdout",
     "output_type": "stream",
     "text": [
      "loss: -0.82652 | bce: 0.03777 | dice: 0.84871 | 0 cls: 0.13144 | 1 cls: 0.16857 | 2 cls: 0.14676\n"
     ]
    },
    {
     "name": "stderr",
     "output_type": "stream",
     "text": [
      "Epoch 254, lr 0.0003: 100% 21/21 [00:12<00:00,  1.71it/s, 0 cls=0.16790, 1 cls=0.24221, 2 cls=0.20215, bce=0.06952, dice=0.84382, loss=-0.78428]\n"
     ]
    },
    {
     "name": "stdout",
     "output_type": "stream",
     "text": [
      "loss: -0.84812 | bce: 0.03244 | dice: 0.86839 | 0 cls: 0.11048 | 1 cls: 0.15222 | 2 cls: 0.12933\n"
     ]
    },
    {
     "name": "stderr",
     "output_type": "stream",
     "text": [
      "Epoch 255, lr 0.0003: 100% 21/21 [00:12<00:00,  1.66it/s, 0 cls=0.17043, 1 cls=0.24291, 2 cls=0.20406, bce=0.06949, dice=0.84203, loss=-0.78294]\n"
     ]
    },
    {
     "name": "stdout",
     "output_type": "stream",
     "text": [
      "loss: -0.84288 | bce: 0.03512 | dice: 0.86474 | 0 cls: 0.11445 | 1 cls: 0.15723 | 2 cls: 0.13419\n"
     ]
    },
    {
     "name": "stderr",
     "output_type": "stream",
     "text": [
      "Epoch 256, lr 0.0003: 100% 21/21 [00:12<00:00,  1.69it/s, 0 cls=0.16902, 1 cls=0.23895, 2 cls=0.20174, bce=0.06940, dice=0.84350, loss=-0.78483]\n"
     ]
    },
    {
     "name": "stdout",
     "output_type": "stream",
     "text": [
      "loss: -0.83967 | bce: 0.03459 | dice: 0.86196 | 0 cls: 0.11469 | 1 cls: 0.16503 | 2 cls: 0.13685\n"
     ]
    },
    {
     "name": "stderr",
     "output_type": "stream",
     "text": [
      "Epoch 257, lr 0.0003: 100% 21/21 [00:12<00:00,  1.70it/s, 0 cls=0.17895, 1 cls=0.25079, 2 cls=0.21166, bce=0.07180, dice=0.83738, loss=-0.77558]\n"
     ]
    },
    {
     "name": "stdout",
     "output_type": "stream",
     "text": [
      "loss: -0.84197 | bce: 0.03360 | dice: 0.86334 | 0 cls: 0.11489 | 1 cls: 0.15976 | 2 cls: 0.13472\n"
     ]
    },
    {
     "name": "stderr",
     "output_type": "stream",
     "text": [
      "Epoch 258, lr 0.0003: 100% 21/21 [00:12<00:00,  1.70it/s, 0 cls=0.18069, 1 cls=0.24710, 2 cls=0.20993, bce=0.07293, dice=0.83842, loss=-0.77603]\n"
     ]
    },
    {
     "name": "stdout",
     "output_type": "stream",
     "text": [
      "loss: -0.83162 | bce: 0.03518 | dice: 0.85424 | 0 cls: 0.12693 | 1 cls: 0.16984 | 2 cls: 0.14757\n"
     ]
    },
    {
     "name": "stderr",
     "output_type": "stream",
     "text": [
      "Epoch 259, lr 0.0003: 100% 21/21 [00:12<00:00,  1.71it/s, 0 cls=0.17860, 1 cls=0.24760, 2 cls=0.21113, bce=0.07208, dice=0.83846, loss=-0.77697]\n"
     ]
    },
    {
     "name": "stdout",
     "output_type": "stream",
     "text": [
      "loss: -0.83787 | bce: 0.03334 | dice: 0.85803 | 0 cls: 0.11855 | 1 cls: 0.16498 | 2 cls: 0.13926\n"
     ]
    },
    {
     "name": "stderr",
     "output_type": "stream",
     "text": [
      "Epoch 260, lr 0.0003: 100% 21/21 [00:12<00:00,  1.70it/s, 0 cls=0.17145, 1 cls=0.24489, 2 cls=0.20475, bce=0.06928, dice=0.84038, loss=-0.78145]\n"
     ]
    },
    {
     "name": "stdout",
     "output_type": "stream",
     "text": [
      "loss: -0.83372 | bce: 0.03701 | dice: 0.85680 | 0 cls: 0.12199 | 1 cls: 0.16553 | 2 cls: 0.14050\n"
     ]
    },
    {
     "name": "stderr",
     "output_type": "stream",
     "text": [
      "Epoch 261, lr 0.0003: 100% 21/21 [00:12<00:00,  1.71it/s, 0 cls=0.16728, 1 cls=0.23924, 2 cls=0.20004, bce=0.06897, dice=0.84426, loss=-0.78563]\n"
     ]
    },
    {
     "name": "stdout",
     "output_type": "stream",
     "text": [
      "loss: -0.84526 | bce: 0.03283 | dice: 0.86537 | 0 cls: 0.11309 | 1 cls: 0.15765 | 2 cls: 0.13204\n"
     ]
    },
    {
     "name": "stderr",
     "output_type": "stream",
     "text": [
      "Epoch 262, lr 0.0003: 100% 21/21 [00:12<00:00,  1.66it/s, 0 cls=0.18751, 1 cls=0.25506, 2 cls=0.21723, bce=0.07386, dice=0.83318, loss=-0.76972]\n"
     ]
    },
    {
     "name": "stdout",
     "output_type": "stream",
     "text": [
      "loss: -0.84497 | bce: 0.03205 | dice: 0.86447 | 0 cls: 0.11372 | 1 cls: 0.15653 | 2 cls: 0.13225\n"
     ]
    },
    {
     "name": "stderr",
     "output_type": "stream",
     "text": [
      "Epoch 263, lr 0.0003: 100% 21/21 [00:12<00:00,  1.70it/s, 0 cls=0.16749, 1 cls=0.24159, 2 cls=0.20314, bce=0.06903, dice=0.84315, loss=-0.78461]\n"
     ]
    },
    {
     "name": "stdout",
     "output_type": "stream",
     "text": [
      "loss: -0.84519 | bce: 0.03352 | dice: 0.86509 | 0 cls: 0.11317 | 1 cls: 0.15571 | 2 cls: 0.13161\n"
     ]
    },
    {
     "name": "stderr",
     "output_type": "stream",
     "text": [
      "Epoch 264, lr 0.0003: 100% 21/21 [00:12<00:00,  1.68it/s, 0 cls=0.17906, 1 cls=0.24787, 2 cls=0.21161, bce=0.07166, dice=0.83789, loss=-0.77678]\n"
     ]
    },
    {
     "name": "stdout",
     "output_type": "stream",
     "text": [
      "loss: -0.83799 | bce: 0.03256 | dice: 0.85854 | 0 cls: 0.11977 | 1 cls: 0.16462 | 2 cls: 0.13934\n"
     ]
    },
    {
     "name": "stderr",
     "output_type": "stream",
     "text": [
      "Epoch 265, lr 0.0003: 100% 21/21 [00:12<00:00,  1.73it/s, 0 cls=0.17211, 1 cls=0.23898, 2 cls=0.20185, bce=0.06958, dice=0.84338, loss=-0.78417]\n"
     ]
    },
    {
     "name": "stdout",
     "output_type": "stream",
     "text": [
      "loss: -0.84314 | bce: 0.03302 | dice: 0.86334 | 0 cls: 0.11136 | 1 cls: 0.16264 | 2 cls: 0.13469\n"
     ]
    },
    {
     "name": "stderr",
     "output_type": "stream",
     "text": [
      "Epoch 266, lr 0.0003: 100% 21/21 [00:12<00:00,  1.69it/s, 0 cls=0.16755, 1 cls=0.24020, 2 cls=0.20104, bce=0.06881, dice=0.84313, loss=-0.78510]\n"
     ]
    },
    {
     "name": "stdout",
     "output_type": "stream",
     "text": [
      "loss: -0.83340 | bce: 0.03563 | dice: 0.85532 | 0 cls: 0.12647 | 1 cls: 0.16116 | 2 cls: 0.13975\n"
     ]
    },
    {
     "name": "stderr",
     "output_type": "stream",
     "text": [
      "Epoch 267, lr 0.0003: 100% 21/21 [00:12<00:00,  1.70it/s, 0 cls=0.16593, 1 cls=0.23792, 2 cls=0.19931, bce=0.06829, dice=0.84471, loss=-0.78699]\n"
     ]
    },
    {
     "name": "stdout",
     "output_type": "stream",
     "text": [
      "loss: -0.83952 | bce: 0.03687 | dice: 0.86283 | 0 cls: 0.11917 | 1 cls: 0.15705 | 2 cls: 0.13549\n"
     ]
    },
    {
     "name": "stderr",
     "output_type": "stream",
     "text": [
      "Epoch 268, lr 0.0003: 100% 21/21 [00:12<00:00,  1.67it/s, 0 cls=0.18192, 1 cls=0.24765, 2 cls=0.21184, bce=0.07198, dice=0.83628, loss=-0.77526]\n"
     ]
    },
    {
     "name": "stdout",
     "output_type": "stream",
     "text": [
      "loss: -0.82729 | bce: 0.03643 | dice: 0.84989 | 0 cls: 0.12522 | 1 cls: 0.17934 | 2 cls: 0.14841\n"
     ]
    },
    {
     "name": "stderr",
     "output_type": "stream",
     "text": [
      "Epoch 269, lr 0.0003: 100% 21/21 [00:12<00:00,  1.69it/s, 0 cls=0.16871, 1 cls=0.23649, 2 cls=0.19955, bce=0.06845, dice=0.84356, loss=-0.78607]\n"
     ]
    },
    {
     "name": "stdout",
     "output_type": "stream",
     "text": [
      "loss: -0.84638 | bce: 0.03360 | dice: 0.86788 | 0 cls: 0.10896 | 1 cls: 0.15846 | 2 cls: 0.12991\n"
     ]
    },
    {
     "name": "stderr",
     "output_type": "stream",
     "text": [
      "Epoch 270, lr 0.0003: 100% 21/21 [00:12<00:00,  1.69it/s, 0 cls=0.16555, 1 cls=0.23883, 2 cls=0.19994, bce=0.06909, dice=0.84528, loss=-0.78662]\n"
     ]
    },
    {
     "name": "stdout",
     "output_type": "stream",
     "text": [
      "loss: -0.84404 | bce: 0.03117 | dice: 0.86290 | 0 cls: 0.11503 | 1 cls: 0.15619 | 2 cls: 0.13349\n"
     ]
    },
    {
     "name": "stderr",
     "output_type": "stream",
     "text": [
      "Epoch 271, lr 0.0003: 100% 21/21 [00:12<00:00,  1.68it/s, 0 cls=0.17305, 1 cls=0.23838, 2 cls=0.20222, bce=0.06971, dice=0.84242, loss=-0.78363]\n"
     ]
    },
    {
     "name": "stdout",
     "output_type": "stream",
     "text": [
      "loss: -0.83063 | bce: 0.03346 | dice: 0.85225 | 0 cls: 0.12768 | 1 cls: 0.17200 | 2 cls: 0.14752\n"
     ]
    },
    {
     "name": "stderr",
     "output_type": "stream",
     "text": [
      "Epoch 272, lr 0.0003: 100% 21/21 [00:12<00:00,  1.69it/s, 0 cls=0.17135, 1 cls=0.24590, 2 cls=0.20538, bce=0.07012, dice=0.84169, loss=-0.78123]\n"
     ]
    },
    {
     "name": "stdout",
     "output_type": "stream",
     "text": [
      "loss: -0.84067 | bce: 0.03467 | dice: 0.86322 | 0 cls: 0.11516 | 1 cls: 0.16304 | 2 cls: 0.13694\n"
     ]
    },
    {
     "name": "stderr",
     "output_type": "stream",
     "text": [
      "Epoch 273, lr 0.0003: 100% 21/21 [00:12<00:00,  1.69it/s, 0 cls=0.16607, 1 cls=0.23591, 2 cls=0.19731, bce=0.06824, dice=0.84546, loss=-0.78785]\n"
     ]
    },
    {
     "name": "stdout",
     "output_type": "stream",
     "text": [
      "loss: -0.83918 | bce: 0.03400 | dice: 0.85981 | 0 cls: 0.12032 | 1 cls: 0.15792 | 2 cls: 0.13618\n"
     ]
    },
    {
     "name": "stderr",
     "output_type": "stream",
     "text": [
      "Epoch 274, lr 0.0003: 100% 21/21 [00:12<00:00,  1.70it/s, 0 cls=0.16925, 1 cls=0.23765, 2 cls=0.20027, bce=0.06854, dice=0.84421, loss=-0.78595]\n"
     ]
    },
    {
     "name": "stdout",
     "output_type": "stream",
     "text": [
      "loss: -0.84558 | bce: 0.03374 | dice: 0.86660 | 0 cls: 0.11249 | 1 cls: 0.15547 | 2 cls: 0.13331\n"
     ]
    },
    {
     "name": "stderr",
     "output_type": "stream",
     "text": [
      "Epoch 275, lr 0.0003: 100% 21/21 [00:12<00:00,  1.66it/s, 0 cls=0.17119, 1 cls=0.24683, 2 cls=0.20600, bce=0.06968, dice=0.84111, loss=-0.78099]\n"
     ]
    },
    {
     "name": "stdout",
     "output_type": "stream",
     "text": [
      "loss: -0.84290 | bce: 0.03330 | dice: 0.86433 | 0 cls: 0.11603 | 1 cls: 0.15668 | 2 cls: 0.13375\n"
     ]
    },
    {
     "name": "stderr",
     "output_type": "stream",
     "text": [
      "Epoch 276, lr 0.0003: 100% 21/21 [00:12<00:00,  1.69it/s, 0 cls=0.17393, 1 cls=0.24428, 2 cls=0.20570, bce=0.06947, dice=0.83949, loss=-0.78066]\n"
     ]
    },
    {
     "name": "stdout",
     "output_type": "stream",
     "text": [
      "loss: -0.84151 | bce: 0.03344 | dice: 0.86204 | 0 cls: 0.11829 | 1 cls: 0.15425 | 2 cls: 0.13348\n"
     ]
    },
    {
     "name": "stderr",
     "output_type": "stream",
     "text": [
      "Epoch 277, lr 0.0003: 100% 21/21 [00:12<00:00,  1.71it/s, 0 cls=0.17822, 1 cls=0.24545, 2 cls=0.20888, bce=0.07065, dice=0.83813, loss=-0.77826]\n"
     ]
    },
    {
     "name": "stdout",
     "output_type": "stream",
     "text": [
      "loss: -0.82638 | bce: 0.03827 | dice: 0.85011 | 0 cls: 0.13354 | 1 cls: 0.16552 | 2 cls: 0.14542\n"
     ]
    },
    {
     "name": "stderr",
     "output_type": "stream",
     "text": [
      "Epoch 278, lr 0.0003: 100% 21/21 [00:12<00:00,  1.70it/s, 0 cls=0.16766, 1 cls=0.24007, 2 cls=0.20039, bce=0.06985, dice=0.84421, loss=-0.78494]\n"
     ]
    },
    {
     "name": "stdout",
     "output_type": "stream",
     "text": [
      "loss: -0.84027 | bce: 0.03264 | dice: 0.86042 | 0 cls: 0.11620 | 1 cls: 0.16248 | 2 cls: 0.13780\n"
     ]
    },
    {
     "name": "stderr",
     "output_type": "stream",
     "text": [
      "Epoch 279, lr 0.0003: 100% 21/21 [00:12<00:00,  1.71it/s, 0 cls=0.16542, 1 cls=0.23508, 2 cls=0.19746, bce=0.06832, dice=0.84606, loss=-0.78831]\n"
     ]
    },
    {
     "name": "stdout",
     "output_type": "stream",
     "text": [
      "loss: -0.84872 | bce: 0.03293 | dice: 0.86902 | 0 cls: 0.10931 | 1 cls: 0.15247 | 2 cls: 0.13015\n"
     ]
    },
    {
     "name": "stderr",
     "output_type": "stream",
     "text": [
      "Epoch 280, lr 0.0003: 100% 21/21 [00:12<00:00,  1.69it/s, 0 cls=0.16910, 1 cls=0.24087, 2 cls=0.20214, bce=0.06888, dice=0.84202, loss=-0.78391]\n"
     ]
    },
    {
     "name": "stdout",
     "output_type": "stream",
     "text": [
      "loss: -0.84346 | bce: 0.03331 | dice: 0.86330 | 0 cls: 0.11662 | 1 cls: 0.15303 | 2 cls: 0.13238\n"
     ]
    },
    {
     "name": "stderr",
     "output_type": "stream",
     "text": [
      "Epoch 281, lr 0.0003: 100% 21/21 [00:12<00:00,  1.71it/s, 0 cls=0.16310, 1 cls=0.23656, 2 cls=0.19703, bce=0.06735, dice=0.84611, loss=-0.78913]\n"
     ]
    },
    {
     "name": "stdout",
     "output_type": "stream",
     "text": [
      "loss: -0.84054 | bce: 0.03401 | dice: 0.86131 | 0 cls: 0.11796 | 1 cls: 0.15757 | 2 cls: 0.13466\n"
     ]
    },
    {
     "name": "stderr",
     "output_type": "stream",
     "text": [
      "Epoch 282, lr 0.0003: 100% 21/21 [00:12<00:00,  1.71it/s, 0 cls=0.16382, 1 cls=0.23698, 2 cls=0.19813, bce=0.06827, dice=0.84686, loss=-0.78875]\n"
     ]
    },
    {
     "name": "stdout",
     "output_type": "stream",
     "text": [
      "loss: -0.84456 | bce: 0.03366 | dice: 0.86618 | 0 cls: 0.11399 | 1 cls: 0.15729 | 2 cls: 0.13506\n"
     ]
    },
    {
     "name": "stderr",
     "output_type": "stream",
     "text": [
      "Epoch 283, lr 0.0003: 100% 21/21 [00:12<00:00,  1.71it/s, 0 cls=0.17152, 1 cls=0.23836, 2 cls=0.20223, bce=0.06842, dice=0.84269, loss=-0.78481]\n"
     ]
    },
    {
     "name": "stdout",
     "output_type": "stream",
     "text": [
      "loss: -0.83438 | bce: 0.03609 | dice: 0.85622 | 0 cls: 0.12389 | 1 cls: 0.16251 | 2 cls: 0.14232\n"
     ]
    },
    {
     "name": "stderr",
     "output_type": "stream",
     "text": [
      "Epoch 284, lr 0.0003: 100% 21/21 [00:12<00:00,  1.70it/s, 0 cls=0.16616, 1 cls=0.23637, 2 cls=0.19795, bce=0.06834, dice=0.84495, loss=-0.78743]\n"
     ]
    },
    {
     "name": "stdout",
     "output_type": "stream",
     "text": [
      "loss: -0.84338 | bce: 0.03232 | dice: 0.86371 | 0 cls: 0.11320 | 1 cls: 0.16033 | 2 cls: 0.13516\n"
     ]
    },
    {
     "name": "stderr",
     "output_type": "stream",
     "text": [
      "Epoch 285, lr 0.0003: 100% 21/21 [00:12<00:00,  1.73it/s, 0 cls=0.16471, 1 cls=0.23510, 2 cls=0.19721, bce=0.06827, dice=0.84666, loss=-0.78887]\n"
     ]
    },
    {
     "name": "stdout",
     "output_type": "stream",
     "text": [
      "loss: -0.83963 | bce: 0.03227 | dice: 0.85874 | 0 cls: 0.11908 | 1 cls: 0.15943 | 2 cls: 0.13589\n"
     ]
    },
    {
     "name": "stderr",
     "output_type": "stream",
     "text": [
      "Epoch 286, lr 0.0003: 100% 21/21 [00:12<00:00,  1.71it/s, 0 cls=0.17118, 1 cls=0.24150, 2 cls=0.20329, bce=0.06866, dice=0.84182, loss=-0.78338]\n"
     ]
    },
    {
     "name": "stdout",
     "output_type": "stream",
     "text": [
      "loss: -0.84314 | bce: 0.03323 | dice: 0.86466 | 0 cls: 0.11447 | 1 cls: 0.15678 | 2 cls: 0.13262\n"
     ]
    },
    {
     "name": "stderr",
     "output_type": "stream",
     "text": [
      "Epoch 287, lr 0.0003: 100% 21/21 [00:12<00:00,  1.69it/s, 0 cls=0.16473, 1 cls=0.23601, 2 cls=0.19833, bce=0.06849, dice=0.84601, loss=-0.78817]\n"
     ]
    },
    {
     "name": "stdout",
     "output_type": "stream",
     "text": [
      "loss: -0.84191 | bce: 0.03527 | dice: 0.86429 | 0 cls: 0.11727 | 1 cls: 0.15957 | 2 cls: 0.13553\n"
     ]
    },
    {
     "name": "stderr",
     "output_type": "stream",
     "text": [
      "Epoch 288, lr 0.0003: 100% 21/21 [00:12<00:00,  1.68it/s, 0 cls=0.17015, 1 cls=0.23729, 2 cls=0.20020, bce=0.06811, dice=0.84376, loss=-0.78599]\n"
     ]
    },
    {
     "name": "stdout",
     "output_type": "stream",
     "text": [
      "loss: -0.83291 | bce: 0.03618 | dice: 0.85709 | 0 cls: 0.12850 | 1 cls: 0.15993 | 2 cls: 0.13615\n"
     ]
    },
    {
     "name": "stderr",
     "output_type": "stream",
     "text": [
      "Epoch 289, lr 0.0003: 100% 21/21 [00:12<00:00,  1.69it/s, 0 cls=0.16564, 1 cls=0.23514, 2 cls=0.19694, bce=0.06843, dice=0.84617, loss=-0.78828]\n"
     ]
    },
    {
     "name": "stdout",
     "output_type": "stream",
     "text": [
      "loss: -0.83972 | bce: 0.03446 | dice: 0.86029 | 0 cls: 0.12087 | 1 cls: 0.15991 | 2 cls: 0.13673\n"
     ]
    },
    {
     "name": "stderr",
     "output_type": "stream",
     "text": [
      "Epoch 290, lr 0.0003: 100% 21/21 [00:12<00:00,  1.68it/s, 0 cls=0.16932, 1 cls=0.23944, 2 cls=0.20159, bce=0.06948, dice=0.84340, loss=-0.78460]\n"
     ]
    },
    {
     "name": "stdout",
     "output_type": "stream",
     "text": [
      "loss: -0.83684 | bce: 0.03387 | dice: 0.85921 | 0 cls: 0.12460 | 1 cls: 0.15815 | 2 cls: 0.13283\n"
     ]
    },
    {
     "name": "stderr",
     "output_type": "stream",
     "text": [
      "Epoch 291, lr 0.0003: 100% 21/21 [00:12<00:00,  1.71it/s, 0 cls=0.16440, 1 cls=0.23630, 2 cls=0.19790, bce=0.06757, dice=0.84508, loss=-0.78824]\n"
     ]
    },
    {
     "name": "stdout",
     "output_type": "stream",
     "text": [
      "loss: -0.84547 | bce: 0.03143 | dice: 0.86592 | 0 cls: 0.11277 | 1 cls: 0.15585 | 2 cls: 0.13091\n"
     ]
    },
    {
     "name": "stderr",
     "output_type": "stream",
     "text": [
      "Epoch 292, lr 0.0003: 100% 21/21 [00:12<00:00,  1.72it/s, 0 cls=0.16208, 1 cls=0.23183, 2 cls=0.19449, bce=0.06691, dice=0.84796, loss=-0.79164]\n"
     ]
    },
    {
     "name": "stdout",
     "output_type": "stream",
     "text": [
      "loss: -0.84516 | bce: 0.03278 | dice: 0.86623 | 0 cls: 0.11392 | 1 cls: 0.15492 | 2 cls: 0.13040\n"
     ]
    },
    {
     "name": "stderr",
     "output_type": "stream",
     "text": [
      "Epoch 293, lr 0.0003: 100% 21/21 [00:12<00:00,  1.73it/s, 0 cls=0.16817, 1 cls=0.23951, 2 cls=0.20081, bce=0.06888, dice=0.84448, loss=-0.78582]\n"
     ]
    },
    {
     "name": "stdout",
     "output_type": "stream",
     "text": [
      "loss: -0.84291 | bce: 0.03225 | dice: 0.86462 | 0 cls: 0.11234 | 1 cls: 0.16192 | 2 cls: 0.13488\n"
     ]
    },
    {
     "name": "stderr",
     "output_type": "stream",
     "text": [
      "Epoch 294, lr 0.0003: 100% 21/21 [00:12<00:00,  1.68it/s, 0 cls=0.16409, 1 cls=0.23511, 2 cls=0.19759, bce=0.06756, dice=0.84610, loss=-0.78919]\n"
     ]
    },
    {
     "name": "stdout",
     "output_type": "stream",
     "text": [
      "loss: -0.84787 | bce: 0.03339 | dice: 0.86824 | 0 cls: 0.10829 | 1 cls: 0.15601 | 2 cls: 0.13072\n"
     ]
    },
    {
     "name": "stderr",
     "output_type": "stream",
     "text": [
      "Epoch 295, lr 0.0003: 100% 21/21 [00:12<00:00,  1.70it/s, 0 cls=0.16145, 1 cls=0.23375, 2 cls=0.19548, bce=0.06707, dice=0.84733, loss=-0.79086]\n"
     ]
    },
    {
     "name": "stdout",
     "output_type": "stream",
     "text": [
      "loss: -0.84641 | bce: 0.03182 | dice: 0.86633 | 0 cls: 0.11243 | 1 cls: 0.15330 | 2 cls: 0.12894\n"
     ]
    },
    {
     "name": "stderr",
     "output_type": "stream",
     "text": [
      "Epoch 296, lr 0.0003: 100% 21/21 [00:12<00:00,  1.70it/s, 0 cls=0.16622, 1 cls=0.23776, 2 cls=0.19911, bce=0.06881, dice=0.84552, loss=-0.78701]\n"
     ]
    },
    {
     "name": "stdout",
     "output_type": "stream",
     "text": [
      "loss: -0.84686 | bce: 0.03256 | dice: 0.86730 | 0 cls: 0.11083 | 1 cls: 0.15533 | 2 cls: 0.13063\n"
     ]
    },
    {
     "name": "stderr",
     "output_type": "stream",
     "text": [
      "Epoch 297, lr 0.0003: 100% 21/21 [00:12<00:00,  1.72it/s, 0 cls=0.16781, 1 cls=0.23772, 2 cls=0.20017, bce=0.06834, dice=0.84465, loss=-0.78663]\n"
     ]
    },
    {
     "name": "stdout",
     "output_type": "stream",
     "text": [
      "loss: -0.84459 | bce: 0.03335 | dice: 0.86485 | 0 cls: 0.11362 | 1 cls: 0.15469 | 2 cls: 0.13208\n"
     ]
    },
    {
     "name": "stderr",
     "output_type": "stream",
     "text": [
      "Epoch 298, lr 0.0003: 100% 21/21 [00:12<00:00,  1.69it/s, 0 cls=0.17069, 1 cls=0.23898, 2 cls=0.20146, bce=0.06851, dice=0.84308, loss=-0.78489]\n"
     ]
    },
    {
     "name": "stdout",
     "output_type": "stream",
     "text": [
      "loss: -0.84947 | bce: 0.03275 | dice: 0.86997 | 0 cls: 0.10922 | 1 cls: 0.15221 | 2 cls: 0.13028\n"
     ]
    },
    {
     "name": "stderr",
     "output_type": "stream",
     "text": [
      "Epoch 299, lr 0.0003: 100% 21/21 [00:12<00:00,  1.69it/s, 0 cls=0.17061, 1 cls=0.23722, 2 cls=0.20059, bce=0.06940, dice=0.84464, loss=-0.78566]\n"
     ]
    },
    {
     "name": "stdout",
     "output_type": "stream",
     "text": [
      "loss: -0.84399 | bce: 0.03385 | dice: 0.86580 | 0 cls: 0.11552 | 1 cls: 0.15446 | 2 cls: 0.13082\n"
     ]
    },
    {
     "name": "stderr",
     "output_type": "stream",
     "text": [
      "Epoch 300, lr 0.0003: 100% 21/21 [00:12<00:00,  1.71it/s, 0 cls=0.16228, 1 cls=0.23535, 2 cls=0.19619, bce=0.06735, dice=0.84763, loss=-0.79024]\n"
     ]
    },
    {
     "name": "stdout",
     "output_type": "stream",
     "text": [
      "loss: -0.84061 | bce: 0.03341 | dice: 0.86287 | 0 cls: 0.11638 | 1 cls: 0.16102 | 2 cls: 0.13516\n"
     ]
    },
    {
     "name": "stderr",
     "output_type": "stream",
     "text": [
      "Epoch 301, lr 0.0003: 100% 21/21 [00:12<00:00,  1.68it/s, 0 cls=0.16163, 1 cls=0.23448, 2 cls=0.19622, bce=0.06738, dice=0.84828, loss=-0.79098]\n"
     ]
    },
    {
     "name": "stdout",
     "output_type": "stream",
     "text": [
      "loss: -0.84734 | bce: 0.03228 | dice: 0.86727 | 0 cls: 0.11070 | 1 cls: 0.15470 | 2 cls: 0.13144\n"
     ]
    },
    {
     "name": "stderr",
     "output_type": "stream",
     "text": [
      "Epoch 302, lr 0.0003: 100% 21/21 [00:12<00:00,  1.69it/s, 0 cls=0.16721, 1 cls=0.23537, 2 cls=0.19845, bce=0.06828, dice=0.84518, loss=-0.78761]\n"
     ]
    },
    {
     "name": "stdout",
     "output_type": "stream",
     "text": [
      "loss: -0.84584 | bce: 0.03199 | dice: 0.86502 | 0 cls: 0.11430 | 1 cls: 0.15552 | 2 cls: 0.13133\n"
     ]
    },
    {
     "name": "stderr",
     "output_type": "stream",
     "text": [
      "Epoch 303, lr 0.0003: 100% 21/21 [00:12<00:00,  1.70it/s, 0 cls=0.16328, 1 cls=0.23294, 2 cls=0.19464, bce=0.06705, dice=0.84663, loss=-0.79036]\n"
     ]
    },
    {
     "name": "stdout",
     "output_type": "stream",
     "text": [
      "loss: -0.84471 | bce: 0.03214 | dice: 0.86482 | 0 cls: 0.11656 | 1 cls: 0.15089 | 2 cls: 0.12986\n"
     ]
    },
    {
     "name": "stderr",
     "output_type": "stream",
     "text": [
      "Epoch 304, lr 0.0003: 100% 21/21 [00:12<00:00,  1.69it/s, 0 cls=0.16377, 1 cls=0.23577, 2 cls=0.19719, bce=0.06769, dice=0.84663, loss=-0.78934]\n"
     ]
    },
    {
     "name": "stdout",
     "output_type": "stream",
     "text": [
      "loss: -0.84434 | bce: 0.03184 | dice: 0.86607 | 0 cls: 0.11100 | 1 cls: 0.15986 | 2 cls: 0.13169\n"
     ]
    },
    {
     "name": "stderr",
     "output_type": "stream",
     "text": [
      "Epoch 305, lr 0.0003: 100% 21/21 [00:12<00:00,  1.69it/s, 0 cls=0.17029, 1 cls=0.24015, 2 cls=0.20184, bce=0.06820, dice=0.84184, loss=-0.78418]\n"
     ]
    },
    {
     "name": "stdout",
     "output_type": "stream",
     "text": [
      "loss: -0.84266 | bce: 0.03116 | dice: 0.86155 | 0 cls: 0.11422 | 1 cls: 0.15975 | 2 cls: 0.13401\n"
     ]
    },
    {
     "name": "stderr",
     "output_type": "stream",
     "text": [
      "Epoch 306, lr 0.0003: 100% 21/21 [00:12<00:00,  1.71it/s, 0 cls=0.17085, 1 cls=0.23833, 2 cls=0.20256, bce=0.06976, dice=0.84354, loss=-0.78459]\n"
     ]
    },
    {
     "name": "stdout",
     "output_type": "stream",
     "text": [
      "loss: -0.83993 | bce: 0.03332 | dice: 0.85936 | 0 cls: 0.11675 | 1 cls: 0.16111 | 2 cls: 0.13840\n"
     ]
    },
    {
     "name": "stderr",
     "output_type": "stream",
     "text": [
      "Epoch 307, lr 0.0003: 100% 21/21 [00:12<00:00,  1.70it/s, 0 cls=0.16566, 1 cls=0.23439, 2 cls=0.19780, bce=0.06732, dice=0.84650, loss=-0.78941]\n"
     ]
    },
    {
     "name": "stdout",
     "output_type": "stream",
     "text": [
      "loss: -0.84220 | bce: 0.03250 | dice: 0.86218 | 0 cls: 0.11381 | 1 cls: 0.16225 | 2 cls: 0.13476\n"
     ]
    },
    {
     "name": "stderr",
     "output_type": "stream",
     "text": [
      "Epoch 308, lr 0.0003: 100% 21/21 [00:12<00:00,  1.70it/s, 0 cls=0.17751, 1 cls=0.23873, 2 cls=0.20356, bce=0.07151, dice=0.84294, loss=-0.78176]\n"
     ]
    },
    {
     "name": "stdout",
     "output_type": "stream",
     "text": [
      "loss: -0.84738 | bce: 0.03197 | dice: 0.86820 | 0 cls: 0.10938 | 1 cls: 0.15655 | 2 cls: 0.12976\n"
     ]
    },
    {
     "name": "stderr",
     "output_type": "stream",
     "text": [
      "Epoch 309, lr 0.0003: 100% 21/21 [00:12<00:00,  1.70it/s, 0 cls=0.16607, 1 cls=0.23500, 2 cls=0.19840, bce=0.06783, dice=0.84522, loss=-0.78814]\n"
     ]
    },
    {
     "name": "stdout",
     "output_type": "stream",
     "text": [
      "loss: -0.83721 | bce: 0.03410 | dice: 0.85835 | 0 cls: 0.12316 | 1 cls: 0.15766 | 2 cls: 0.13553\n"
     ]
    },
    {
     "name": "stderr",
     "output_type": "stream",
     "text": [
      "Epoch 310, lr 0.0003: 100% 21/21 [00:12<00:00,  1.72it/s, 0 cls=0.16981, 1 cls=0.23728, 2 cls=0.20075, bce=0.06952, dice=0.84544, loss=-0.78611]\n"
     ]
    },
    {
     "name": "stdout",
     "output_type": "stream",
     "text": [
      "loss: -0.82956 | bce: 0.03653 | dice: 0.85069 | 0 cls: 0.12969 | 1 cls: 0.16500 | 2 cls: 0.14608\n"
     ]
    },
    {
     "name": "stderr",
     "output_type": "stream",
     "text": [
      "Epoch 311, lr 0.0003: 100% 21/21 [00:12<00:00,  1.67it/s, 0 cls=0.16198, 1 cls=0.23163, 2 cls=0.19425, bce=0.06736, dice=0.84840, loss=-0.79161]\n"
     ]
    },
    {
     "name": "stdout",
     "output_type": "stream",
     "text": [
      "loss: -0.84424 | bce: 0.03159 | dice: 0.86233 | 0 cls: 0.11483 | 1 cls: 0.15612 | 2 cls: 0.13408\n"
     ]
    },
    {
     "name": "stderr",
     "output_type": "stream",
     "text": [
      "Epoch 312, lr 0.0003: 100% 21/21 [00:12<00:00,  1.70it/s, 0 cls=0.16044, 1 cls=0.23082, 2 cls=0.19306, bce=0.06702, dice=0.84952, loss=-0.79291]\n"
     ]
    },
    {
     "name": "stdout",
     "output_type": "stream",
     "text": [
      "loss: -0.84155 | bce: 0.03082 | dice: 0.85900 | 0 cls: 0.11886 | 1 cls: 0.15649 | 2 cls: 0.13789\n"
     ]
    },
    {
     "name": "stderr",
     "output_type": "stream",
     "text": [
      "Epoch 313, lr 0.0003: 100% 21/21 [00:12<00:00,  1.71it/s, 0 cls=0.17169, 1 cls=0.23848, 2 cls=0.20300, bce=0.06917, dice=0.84318, loss=-0.78450]\n"
     ]
    },
    {
     "name": "stdout",
     "output_type": "stream",
     "text": [
      "loss: -0.84594 | bce: 0.03381 | dice: 0.86736 | 0 cls: 0.11086 | 1 cls: 0.15794 | 2 cls: 0.13155\n"
     ]
    },
    {
     "name": "stderr",
     "output_type": "stream",
     "text": [
      "Epoch 314, lr 0.0003: 100% 21/21 [00:12<00:00,  1.71it/s, 0 cls=0.16363, 1 cls=0.23165, 2 cls=0.19435, bce=0.06737, dice=0.84755, loss=-0.79092]\n"
     ]
    },
    {
     "name": "stdout",
     "output_type": "stream",
     "text": [
      "loss: -0.84433 | bce: 0.03157 | dice: 0.86466 | 0 cls: 0.11379 | 1 cls: 0.15630 | 2 cls: 0.13274\n"
     ]
    },
    {
     "name": "stderr",
     "output_type": "stream",
     "text": [
      "Epoch 315, lr 0.0003: 100% 21/21 [00:12<00:00,  1.67it/s, 0 cls=0.16808, 1 cls=0.23556, 2 cls=0.19826, bce=0.06792, dice=0.84477, loss=-0.78742]\n"
     ]
    },
    {
     "name": "stdout",
     "output_type": "stream",
     "text": [
      "loss: -0.84101 | bce: 0.03281 | dice: 0.86159 | 0 cls: 0.11781 | 1 cls: 0.15678 | 2 cls: 0.13433\n"
     ]
    },
    {
     "name": "stderr",
     "output_type": "stream",
     "text": [
      "Epoch 316, lr 0.0003: 100% 21/21 [00:12<00:00,  1.70it/s, 0 cls=0.16389, 1 cls=0.23358, 2 cls=0.19565, bce=0.06720, dice=0.84746, loss=-0.79048]\n"
     ]
    },
    {
     "name": "stdout",
     "output_type": "stream",
     "text": [
      "loss: -0.84086 | bce: 0.03356 | dice: 0.86128 | 0 cls: 0.11539 | 1 cls: 0.16038 | 2 cls: 0.13718\n"
     ]
    },
    {
     "name": "stderr",
     "output_type": "stream",
     "text": [
      "Epoch 317, lr 0.0003: 100% 21/21 [00:12<00:00,  1.68it/s, 0 cls=0.17740, 1 cls=0.24745, 2 cls=0.20914, bce=0.07043, dice=0.83903, loss=-0.77834]\n"
     ]
    },
    {
     "name": "stdout",
     "output_type": "stream",
     "text": [
      "loss: -0.84453 | bce: 0.03259 | dice: 0.86475 | 0 cls: 0.11359 | 1 cls: 0.15736 | 2 cls: 0.13305\n"
     ]
    },
    {
     "name": "stderr",
     "output_type": "stream",
     "text": [
      "Epoch 318, lr 0.0003: 100% 21/21 [00:12<00:00,  1.72it/s, 0 cls=0.16247, 1 cls=0.23386, 2 cls=0.19554, bce=0.06759, dice=0.84743, loss=-0.79054]\n"
     ]
    },
    {
     "name": "stdout",
     "output_type": "stream",
     "text": [
      "loss: -0.84103 | bce: 0.03406 | dice: 0.86466 | 0 cls: 0.11666 | 1 cls: 0.15963 | 2 cls: 0.13209\n"
     ]
    },
    {
     "name": "stderr",
     "output_type": "stream",
     "text": [
      "Epoch 319, lr 0.0003: 100% 21/21 [00:12<00:00,  1.67it/s, 0 cls=0.17639, 1 cls=0.24247, 2 cls=0.20520, bce=0.07022, dice=0.84086, loss=-0.78088]\n"
     ]
    },
    {
     "name": "stdout",
     "output_type": "stream",
     "text": [
      "loss: -0.81799 | bce: 0.04464 | dice: 0.84551 | 0 cls: 0.14381 | 1 cls: 0.16881 | 2 cls: 0.15138\n"
     ]
    },
    {
     "name": "stderr",
     "output_type": "stream",
     "text": [
      "Epoch 320, lr 0.0003: 100% 21/21 [00:12<00:00,  1.67it/s, 0 cls=0.16712, 1 cls=0.23657, 2 cls=0.19798, bce=0.06858, dice=0.84517, loss=-0.78711]\n"
     ]
    },
    {
     "name": "stdout",
     "output_type": "stream",
     "text": [
      "loss: -0.84653 | bce: 0.03213 | dice: 0.86744 | 0 cls: 0.11041 | 1 cls: 0.15726 | 2 cls: 0.13290\n"
     ]
    },
    {
     "name": "stderr",
     "output_type": "stream",
     "text": [
      "Epoch 321, lr 0.0003: 100% 21/21 [00:12<00:00,  1.69it/s, 0 cls=0.15895, 1 cls=0.22924, 2 cls=0.19178, bce=0.06683, dice=0.85062, loss=-0.79427]\n"
     ]
    },
    {
     "name": "stdout",
     "output_type": "stream",
     "text": [
      "loss: -0.84520 | bce: 0.03196 | dice: 0.86730 | 0 cls: 0.11101 | 1 cls: 0.15905 | 2 cls: 0.13017\n"
     ]
    },
    {
     "name": "stderr",
     "output_type": "stream",
     "text": [
      "Epoch 322, lr 0.0003: 100% 21/21 [00:12<00:00,  1.68it/s, 0 cls=0.15848, 1 cls=0.22685, 2 cls=0.18953, bce=0.06559, dice=0.85059, loss=-0.79575]\n"
     ]
    },
    {
     "name": "stdout",
     "output_type": "stream",
     "text": [
      "loss: -0.84160 | bce: 0.03226 | dice: 0.86237 | 0 cls: 0.11472 | 1 cls: 0.16276 | 2 cls: 0.13592\n"
     ]
    },
    {
     "name": "stderr",
     "output_type": "stream",
     "text": [
      "Epoch 323, lr 0.0003: 100% 21/21 [00:12<00:00,  1.69it/s, 0 cls=0.16674, 1 cls=0.23700, 2 cls=0.19826, bce=0.06825, dice=0.84539, loss=-0.78740]\n"
     ]
    },
    {
     "name": "stdout",
     "output_type": "stream",
     "text": [
      "loss: -0.84637 | bce: 0.03373 | dice: 0.86769 | 0 cls: 0.10934 | 1 cls: 0.15834 | 2 cls: 0.13103\n"
     ]
    },
    {
     "name": "stderr",
     "output_type": "stream",
     "text": [
      "Epoch 324, lr 0.0003: 100% 21/21 [00:12<00:00,  1.73it/s, 0 cls=0.16911, 1 cls=0.23660, 2 cls=0.19989, bce=0.06856, dice=0.84420, loss=-0.78627]\n"
     ]
    },
    {
     "name": "stdout",
     "output_type": "stream",
     "text": [
      "loss: -0.84360 | bce: 0.03380 | dice: 0.86570 | 0 cls: 0.11239 | 1 cls: 0.16043 | 2 cls: 0.13443\n"
     ]
    },
    {
     "name": "stderr",
     "output_type": "stream",
     "text": [
      "Epoch 325, lr 0.0003: 100% 21/21 [00:12<00:00,  1.68it/s, 0 cls=0.16195, 1 cls=0.23371, 2 cls=0.19512, bce=0.06737, dice=0.84760, loss=-0.79082]\n"
     ]
    },
    {
     "name": "stdout",
     "output_type": "stream",
     "text": [
      "loss: -0.83878 | bce: 0.03123 | dice: 0.85734 | 0 cls: 0.12200 | 1 cls: 0.15710 | 2 cls: 0.13659\n"
     ]
    },
    {
     "name": "stderr",
     "output_type": "stream",
     "text": [
      "Epoch 326, lr 0.0003: 100% 21/21 [00:12<00:00,  1.67it/s, 0 cls=0.16425, 1 cls=0.23845, 2 cls=0.19843, bce=0.06762, dice=0.84508, loss=-0.78769]\n"
     ]
    },
    {
     "name": "stdout",
     "output_type": "stream",
     "text": [
      "loss: -0.83347 | bce: 0.03705 | dice: 0.85633 | 0 cls: 0.12638 | 1 cls: 0.15998 | 2 cls: 0.13876\n"
     ]
    },
    {
     "name": "stderr",
     "output_type": "stream",
     "text": [
      "Epoch 327, lr 0.0003: 100% 21/21 [00:12<00:00,  1.68it/s, 0 cls=0.17845, 1 cls=0.24365, 2 cls=0.20763, bce=0.07356, dice=0.84155, loss=-0.77855]\n"
     ]
    },
    {
     "name": "stdout",
     "output_type": "stream",
     "text": [
      "loss: -0.84429 | bce: 0.03340 | dice: 0.86457 | 0 cls: 0.11397 | 1 cls: 0.15511 | 2 cls: 0.13205\n"
     ]
    },
    {
     "name": "stderr",
     "output_type": "stream",
     "text": [
      "Epoch 328, lr 0.0003: 100% 21/21 [00:12<00:00,  1.68it/s, 0 cls=0.16341, 1 cls=0.23339, 2 cls=0.19466, bce=0.06727, dice=0.84784, loss=-0.79063]\n"
     ]
    },
    {
     "name": "stdout",
     "output_type": "stream",
     "text": [
      "loss: -0.84081 | bce: 0.03468 | dice: 0.86297 | 0 cls: 0.11457 | 1 cls: 0.16238 | 2 cls: 0.13570\n"
     ]
    },
    {
     "name": "stderr",
     "output_type": "stream",
     "text": [
      "Epoch 329, lr 0.0003: 100% 21/21 [00:12<00:00,  1.70it/s, 0 cls=0.16284, 1 cls=0.22952, 2 cls=0.19360, bce=0.06716, dice=0.84867, loss=-0.79229]\n"
     ]
    },
    {
     "name": "stdout",
     "output_type": "stream",
     "text": [
      "loss: -0.83783 | bce: 0.03556 | dice: 0.86177 | 0 cls: 0.11777 | 1 cls: 0.16531 | 2 cls: 0.13682\n"
     ]
    },
    {
     "name": "stderr",
     "output_type": "stream",
     "text": [
      "Epoch 330, lr 0.0003: 100% 21/21 [00:12<00:00,  1.71it/s, 0 cls=0.15836, 1 cls=0.22824, 2 cls=0.19151, bce=0.06569, dice=0.85027, loss=-0.79511]\n"
     ]
    },
    {
     "name": "stdout",
     "output_type": "stream",
     "text": [
      "loss: -0.85110 | bce: 0.03119 | dice: 0.87168 | 0 cls: 0.10697 | 1 cls: 0.15210 | 2 cls: 0.12598\n"
     ]
    },
    {
     "name": "stderr",
     "output_type": "stream",
     "text": [
      "Epoch 331, lr 0.0003: 100% 21/21 [00:12<00:00,  1.72it/s, 0 cls=0.15930, 1 cls=0.23225, 2 cls=0.19295, bce=0.06694, dice=0.84944, loss=-0.79274]\n"
     ]
    },
    {
     "name": "stdout",
     "output_type": "stream",
     "text": [
      "loss: -0.84448 | bce: 0.03086 | dice: 0.86321 | 0 cls: 0.11372 | 1 cls: 0.15572 | 2 cls: 0.13208\n"
     ]
    },
    {
     "name": "stderr",
     "output_type": "stream",
     "text": [
      "Epoch 332, lr 0.0003: 100% 21/21 [00:12<00:00,  1.71it/s, 0 cls=0.16105, 1 cls=0.23027, 2 cls=0.19271, bce=0.06589, dice=0.84857, loss=-0.79302]\n"
     ]
    },
    {
     "name": "stdout",
     "output_type": "stream",
     "text": [
      "loss: -0.84583 | bce: 0.03249 | dice: 0.86604 | 0 cls: 0.10890 | 1 cls: 0.16229 | 2 cls: 0.13042\n"
     ]
    },
    {
     "name": "stderr",
     "output_type": "stream",
     "text": [
      "Epoch 333, lr 0.0003: 100% 21/21 [00:12<00:00,  1.69it/s, 0 cls=0.16831, 1 cls=0.23826, 2 cls=0.19984, bce=0.06869, dice=0.84491, loss=-0.78643]\n"
     ]
    },
    {
     "name": "stdout",
     "output_type": "stream",
     "text": [
      "loss: -0.84292 | bce: 0.03434 | dice: 0.86478 | 0 cls: 0.11608 | 1 cls: 0.15468 | 2 cls: 0.13137\n"
     ]
    },
    {
     "name": "stderr",
     "output_type": "stream",
     "text": [
      "Epoch 334, lr 0.0003: 100% 21/21 [00:12<00:00,  1.68it/s, 0 cls=0.16303, 1 cls=0.23156, 2 cls=0.19445, bce=0.06718, dice=0.84837, loss=-0.79165]\n"
     ]
    },
    {
     "name": "stdout",
     "output_type": "stream",
     "text": [
      "loss: -0.84380 | bce: 0.03406 | dice: 0.86640 | 0 cls: 0.11385 | 1 cls: 0.15693 | 2 cls: 0.13060\n"
     ]
    },
    {
     "name": "stderr",
     "output_type": "stream",
     "text": [
      "Epoch 335, lr 0.0003: 100% 21/21 [00:12<00:00,  1.68it/s, 0 cls=0.16743, 1 cls=0.23564, 2 cls=0.19858, bce=0.06847, dice=0.84632, loss=-0.78798]\n"
     ]
    },
    {
     "name": "stdout",
     "output_type": "stream",
     "text": [
      "loss: -0.84719 | bce: 0.03071 | dice: 0.86681 | 0 cls: 0.10898 | 1 cls: 0.15682 | 2 cls: 0.13006\n"
     ]
    },
    {
     "name": "stderr",
     "output_type": "stream",
     "text": [
      "Epoch 336, lr 0.0003: 100% 21/21 [00:12<00:00,  1.70it/s, 0 cls=0.16613, 1 cls=0.23677, 2 cls=0.19861, bce=0.06890, dice=0.84654, loss=-0.78778]\n"
     ]
    },
    {
     "name": "stdout",
     "output_type": "stream",
     "text": [
      "loss: -0.85146 | bce: 0.03267 | dice: 0.87221 | 0 cls: 0.10679 | 1 cls: 0.15156 | 2 cls: 0.12701\n"
     ]
    },
    {
     "name": "stderr",
     "output_type": "stream",
     "text": [
      "Epoch 337, lr 0.0003: 100% 21/21 [00:12<00:00,  1.69it/s, 0 cls=0.17295, 1 cls=0.23676, 2 cls=0.20216, bce=0.06880, dice=0.84346, loss=-0.78505]\n"
     ]
    },
    {
     "name": "stdout",
     "output_type": "stream",
     "text": [
      "loss: -0.83599 | bce: 0.03342 | dice: 0.85628 | 0 cls: 0.12392 | 1 cls: 0.15884 | 2 cls: 0.13895\n"
     ]
    },
    {
     "name": "stderr",
     "output_type": "stream",
     "text": [
      "Epoch 338, lr 0.0003: 100% 21/21 [00:12<00:00,  1.72it/s, 0 cls=0.16761, 1 cls=0.23222, 2 cls=0.19636, bce=0.06763, dice=0.84596, loss=-0.78913]\n"
     ]
    },
    {
     "name": "stdout",
     "output_type": "stream",
     "text": [
      "loss: -0.84439 | bce: 0.03243 | dice: 0.86533 | 0 cls: 0.11042 | 1 cls: 0.16260 | 2 cls: 0.13299\n"
     ]
    },
    {
     "name": "stderr",
     "output_type": "stream",
     "text": [
      "Epoch 339, lr 0.0003: 100% 21/21 [00:12<00:00,  1.67it/s, 0 cls=0.16893, 1 cls=0.23869, 2 cls=0.20058, bce=0.06870, dice=0.84397, loss=-0.78551]\n"
     ]
    },
    {
     "name": "stdout",
     "output_type": "stream",
     "text": [
      "loss: -0.84699 | bce: 0.03150 | dice: 0.86573 | 0 cls: 0.11100 | 1 cls: 0.15669 | 2 cls: 0.13066\n"
     ]
    },
    {
     "name": "stderr",
     "output_type": "stream",
     "text": [
      "Epoch 340, lr 0.0003: 100% 21/21 [00:12<00:00,  1.70it/s, 0 cls=0.16199, 1 cls=0.23149, 2 cls=0.19398, bce=0.06683, dice=0.84911, loss=-0.79246]\n"
     ]
    },
    {
     "name": "stdout",
     "output_type": "stream",
     "text": [
      "loss: -0.84878 | bce: 0.03045 | dice: 0.86843 | 0 cls: 0.10901 | 1 cls: 0.15492 | 2 cls: 0.13002\n"
     ]
    },
    {
     "name": "stderr",
     "output_type": "stream",
     "text": [
      "Epoch 341, lr 0.0003: 100% 21/21 [00:12<00:00,  1.68it/s, 0 cls=0.16662, 1 cls=0.23560, 2 cls=0.19878, bce=0.06794, dice=0.84553, loss=-0.78809]\n"
     ]
    },
    {
     "name": "stdout",
     "output_type": "stream",
     "text": [
      "loss: -0.84639 | bce: 0.03151 | dice: 0.86882 | 0 cls: 0.10815 | 1 cls: 0.16125 | 2 cls: 0.13047\n"
     ]
    },
    {
     "name": "stderr",
     "output_type": "stream",
     "text": [
      "Epoch 342, lr 0.0003: 100% 21/21 [00:12<00:00,  1.70it/s, 0 cls=0.17080, 1 cls=0.23710, 2 cls=0.20045, bce=0.06857, dice=0.84486, loss=-0.78604]\n"
     ]
    },
    {
     "name": "stdout",
     "output_type": "stream",
     "text": [
      "loss: -0.84763 | bce: 0.03299 | dice: 0.86926 | 0 cls: 0.10994 | 1 cls: 0.15589 | 2 cls: 0.12812\n"
     ]
    },
    {
     "name": "stderr",
     "output_type": "stream",
     "text": [
      "Epoch 343, lr 0.0003: 100% 21/21 [00:12<00:00,  1.69it/s, 0 cls=0.16904, 1 cls=0.23849, 2 cls=0.20103, bce=0.07009, dice=0.84508, loss=-0.78551]\n"
     ]
    },
    {
     "name": "stdout",
     "output_type": "stream",
     "text": [
      "loss: -0.84975 | bce: 0.03186 | dice: 0.87112 | 0 cls: 0.10763 | 1 cls: 0.15405 | 2 cls: 0.12633\n"
     ]
    },
    {
     "name": "stderr",
     "output_type": "stream",
     "text": [
      "Epoch 344, lr 0.0003: 100% 21/21 [00:12<00:00,  1.67it/s, 0 cls=0.17504, 1 cls=0.24492, 2 cls=0.20731, bce=0.07033, dice=0.84099, loss=-0.78049]\n"
     ]
    },
    {
     "name": "stdout",
     "output_type": "stream",
     "text": [
      "loss: -0.84393 | bce: 0.03059 | dice: 0.86448 | 0 cls: 0.11119 | 1 cls: 0.16313 | 2 cls: 0.13533\n"
     ]
    },
    {
     "name": "stderr",
     "output_type": "stream",
     "text": [
      "Epoch 345, lr 0.0003: 100% 21/21 [00:12<00:00,  1.70it/s, 0 cls=0.16735, 1 cls=0.23544, 2 cls=0.19829, bce=0.06684, dice=0.84558, loss=-0.78858]\n"
     ]
    },
    {
     "name": "stdout",
     "output_type": "stream",
     "text": [
      "loss: -0.82984 | bce: 0.03497 | dice: 0.85022 | 0 cls: 0.13095 | 1 cls: 0.16284 | 2 cls: 0.14221\n"
     ]
    },
    {
     "name": "stderr",
     "output_type": "stream",
     "text": [
      "Epoch 346, lr 0.0003: 100% 21/21 [00:12<00:00,  1.68it/s, 0 cls=0.16233, 1 cls=0.23181, 2 cls=0.19376, bce=0.06758, dice=0.84932, loss=-0.79191]\n"
     ]
    },
    {
     "name": "stdout",
     "output_type": "stream",
     "text": [
      "loss: -0.83536 | bce: 0.03267 | dice: 0.85411 | 0 cls: 0.12398 | 1 cls: 0.16133 | 2 cls: 0.14028\n"
     ]
    },
    {
     "name": "stderr",
     "output_type": "stream",
     "text": [
      "Epoch 347, lr 0.0003: 100% 21/21 [00:12<00:00,  1.69it/s, 0 cls=0.17997, 1 cls=0.24548, 2 cls=0.21007, bce=0.07057, dice=0.83786, loss=-0.77779]\n"
     ]
    },
    {
     "name": "stdout",
     "output_type": "stream",
     "text": [
      "loss: -0.84725 | bce: 0.03210 | dice: 0.86782 | 0 cls: 0.11045 | 1 cls: 0.15672 | 2 cls: 0.13089\n"
     ]
    },
    {
     "name": "stderr",
     "output_type": "stream",
     "text": [
      "Epoch 348, lr 0.0003: 100% 21/21 [00:12<00:00,  1.68it/s, 0 cls=0.16554, 1 cls=0.23491, 2 cls=0.19830, bce=0.06855, dice=0.84672, loss=-0.78879]\n"
     ]
    },
    {
     "name": "stdout",
     "output_type": "stream",
     "text": [
      "loss: -0.84438 | bce: 0.03294 | dice: 0.86566 | 0 cls: 0.11257 | 1 cls: 0.15978 | 2 cls: 0.13321\n"
     ]
    },
    {
     "name": "stderr",
     "output_type": "stream",
     "text": [
      "Epoch 349, lr 0.0003: 100% 21/21 [00:12<00:00,  1.71it/s, 0 cls=0.16486, 1 cls=0.23550, 2 cls=0.19703, bce=0.06673, dice=0.84599, loss=-0.78930]\n"
     ]
    },
    {
     "name": "stdout",
     "output_type": "stream",
     "text": [
      "loss: -0.84616 | bce: 0.03082 | dice: 0.86609 | 0 cls: 0.11257 | 1 cls: 0.15522 | 2 cls: 0.12959\n"
     ]
    },
    {
     "name": "stderr",
     "output_type": "stream",
     "text": [
      "Epoch 350, lr 0.0003: 100% 21/21 [00:12<00:00,  1.68it/s, 0 cls=0.16803, 1 cls=0.23792, 2 cls=0.20072, bce=0.06796, dice=0.84480, loss=-0.78695]\n"
     ]
    },
    {
     "name": "stdout",
     "output_type": "stream",
     "text": [
      "loss: -0.84878 | bce: 0.02997 | dice: 0.86811 | 0 cls: 0.10939 | 1 cls: 0.15576 | 2 cls: 0.12789\n"
     ]
    },
    {
     "name": "stderr",
     "output_type": "stream",
     "text": [
      "Epoch 351, lr 0.0003: 100% 21/21 [00:12<00:00,  1.68it/s, 0 cls=0.16965, 1 cls=0.24106, 2 cls=0.20281, bce=0.06896, dice=0.84354, loss=-0.78453]\n"
     ]
    },
    {
     "name": "stdout",
     "output_type": "stream",
     "text": [
      "loss: -0.84628 | bce: 0.03129 | dice: 0.86673 | 0 cls: 0.11149 | 1 cls: 0.15771 | 2 cls: 0.13174\n"
     ]
    },
    {
     "name": "stderr",
     "output_type": "stream",
     "text": [
      "Epoch 352, lr 0.0003: 100% 21/21 [00:12<00:00,  1.70it/s, 0 cls=0.16367, 1 cls=0.23778, 2 cls=0.19691, bce=0.06747, dice=0.84605, loss=-0.78850]\n"
     ]
    },
    {
     "name": "stdout",
     "output_type": "stream",
     "text": [
      "loss: -0.84009 | bce: 0.03397 | dice: 0.86048 | 0 cls: 0.11550 | 1 cls: 0.16243 | 2 cls: 0.13739\n"
     ]
    },
    {
     "name": "stderr",
     "output_type": "stream",
     "text": [
      "Epoch 353, lr 0.0003: 100% 21/21 [00:12<00:00,  1.69it/s, 0 cls=0.16416, 1 cls=0.23703, 2 cls=0.19751, bce=0.06715, dice=0.84558, loss=-0.78863]\n"
     ]
    },
    {
     "name": "stdout",
     "output_type": "stream",
     "text": [
      "loss: -0.83905 | bce: 0.03434 | dice: 0.86662 | 0 cls: 0.11310 | 1 cls: 0.16988 | 2 cls: 0.12929\n"
     ]
    },
    {
     "name": "stderr",
     "output_type": "stream",
     "text": [
      "Epoch 354, lr 0.0003: 100% 21/21 [00:12<00:00,  1.69it/s, 0 cls=0.16490, 1 cls=0.23060, 2 cls=0.19415, bce=0.06801, dice=0.84780, loss=-0.79082]\n"
     ]
    },
    {
     "name": "stdout",
     "output_type": "stream",
     "text": [
      "loss: -0.83293 | bce: 0.03790 | dice: 0.85502 | 0 cls: 0.13174 | 1 cls: 0.15296 | 2 cls: 0.13773\n"
     ]
    },
    {
     "name": "stderr",
     "output_type": "stream",
     "text": [
      "Epoch 355, lr 0.0003: 100% 21/21 [00:12<00:00,  1.71it/s, 0 cls=0.17285, 1 cls=0.23728, 2 cls=0.20180, bce=0.07070, dice=0.84551, loss=-0.78474]\n"
     ]
    },
    {
     "name": "stdout",
     "output_type": "stream",
     "text": [
      "loss: -0.84647 | bce: 0.03209 | dice: 0.86744 | 0 cls: 0.11099 | 1 cls: 0.15764 | 2 cls: 0.13064\n"
     ]
    },
    {
     "name": "stderr",
     "output_type": "stream",
     "text": [
      "Epoch 356, lr 0.0003: 100% 21/21 [00:12<00:00,  1.72it/s, 0 cls=0.15959, 1 cls=0.22917, 2 cls=0.19156, bce=0.06679, dice=0.85101, loss=-0.79436]\n"
     ]
    },
    {
     "name": "stdout",
     "output_type": "stream",
     "text": [
      "loss: -0.84801 | bce: 0.03055 | dice: 0.86727 | 0 cls: 0.11089 | 1 cls: 0.15315 | 2 cls: 0.12813\n"
     ]
    },
    {
     "name": "stderr",
     "output_type": "stream",
     "text": [
      "Epoch 357, lr 0.0003: 100% 21/21 [00:12<00:00,  1.68it/s, 0 cls=0.16334, 1 cls=0.23258, 2 cls=0.19578, bce=0.06695, dice=0.84770, loss=-0.79112]\n"
     ]
    },
    {
     "name": "stdout",
     "output_type": "stream",
     "text": [
      "loss: -0.83713 | bce: 0.03472 | dice: 0.85833 | 0 cls: 0.12255 | 1 cls: 0.15961 | 2 cls: 0.13840\n"
     ]
    },
    {
     "name": "stderr",
     "output_type": "stream",
     "text": [
      "Epoch 358, lr 0.0003: 100% 21/21 [00:12<00:00,  1.70it/s, 0 cls=0.16377, 1 cls=0.23162, 2 cls=0.19453, bce=0.06756, dice=0.84762, loss=-0.79080]\n"
     ]
    },
    {
     "name": "stdout",
     "output_type": "stream",
     "text": [
      "loss: -0.84268 | bce: 0.03286 | dice: 0.86235 | 0 cls: 0.11863 | 1 cls: 0.15084 | 2 cls: 0.13229\n"
     ]
    },
    {
     "name": "stderr",
     "output_type": "stream",
     "text": [
      "Epoch 359, lr 0.0003: 100% 21/21 [00:12<00:00,  1.72it/s, 0 cls=0.16442, 1 cls=0.23136, 2 cls=0.19538, bce=0.06690, dice=0.84778, loss=-0.79122]\n"
     ]
    },
    {
     "name": "stdout",
     "output_type": "stream",
     "text": [
      "loss: -0.84912 | bce: 0.03155 | dice: 0.86828 | 0 cls: 0.10834 | 1 cls: 0.15468 | 2 cls: 0.12895\n"
     ]
    },
    {
     "name": "stderr",
     "output_type": "stream",
     "text": [
      "Epoch 360, lr 0.0003: 100% 21/21 [00:12<00:00,  1.72it/s, 0 cls=0.16087, 1 cls=0.23183, 2 cls=0.19310, bce=0.06676, dice=0.84942, loss=-0.79270]\n"
     ]
    },
    {
     "name": "stdout",
     "output_type": "stream",
     "text": [
      "loss: -0.84494 | bce: 0.03074 | dice: 0.86382 | 0 cls: 0.11280 | 1 cls: 0.15938 | 2 cls: 0.13248\n"
     ]
    },
    {
     "name": "stderr",
     "output_type": "stream",
     "text": [
      "Epoch 361, lr 0.0003: 100% 21/21 [00:12<00:00,  1.71it/s, 0 cls=0.16696, 1 cls=0.23395, 2 cls=0.19809, bce=0.06866, dice=0.84702, loss=-0.78883]\n"
     ]
    },
    {
     "name": "stdout",
     "output_type": "stream",
     "text": [
      "loss: -0.85085 | bce: 0.03145 | dice: 0.87166 | 0 cls: 0.10592 | 1 cls: 0.15348 | 2 cls: 0.12678\n"
     ]
    },
    {
     "name": "stderr",
     "output_type": "stream",
     "text": [
      "Epoch 362, lr 0.0003: 100% 21/21 [00:12<00:00,  1.74it/s, 0 cls=0.15966, 1 cls=0.22355, 2 cls=0.18890, bce=0.06521, dice=0.85104, loss=-0.79668]\n"
     ]
    },
    {
     "name": "stdout",
     "output_type": "stream",
     "text": [
      "loss: -0.83687 | bce: 0.03474 | dice: 0.85788 | 0 cls: 0.12471 | 1 cls: 0.15485 | 2 cls: 0.13660\n"
     ]
    },
    {
     "name": "stderr",
     "output_type": "stream",
     "text": [
      "Epoch 363, lr 0.0003: 100% 21/21 [00:12<00:00,  1.71it/s, 0 cls=0.15769, 1 cls=0.22852, 2 cls=0.18975, bce=0.06595, dice=0.85127, loss=-0.79549]\n"
     ]
    },
    {
     "name": "stdout",
     "output_type": "stream",
     "text": [
      "loss: -0.84450 | bce: 0.03268 | dice: 0.86706 | 0 cls: 0.10969 | 1 cls: 0.16252 | 2 cls: 0.13167\n"
     ]
    },
    {
     "name": "stderr",
     "output_type": "stream",
     "text": [
      "Epoch 364, lr 0.0003: 100% 21/21 [00:12<00:00,  1.70it/s, 0 cls=0.16167, 1 cls=0.23384, 2 cls=0.19530, bce=0.06693, dice=0.84830, loss=-0.79139]\n"
     ]
    },
    {
     "name": "stdout",
     "output_type": "stream",
     "text": [
      "loss: -0.84574 | bce: 0.03219 | dice: 0.86647 | 0 cls: 0.11211 | 1 cls: 0.15560 | 2 cls: 0.12997\n"
     ]
    },
    {
     "name": "stderr",
     "output_type": "stream",
     "text": [
      "Epoch 365, lr 0.0003: 100% 21/21 [00:12<00:00,  1.68it/s, 0 cls=0.16923, 1 cls=0.23866, 2 cls=0.20040, bce=0.06855, dice=0.84466, loss=-0.78594]\n"
     ]
    },
    {
     "name": "stdout",
     "output_type": "stream",
     "text": [
      "loss: -0.84889 | bce: 0.03066 | dice: 0.86948 | 0 cls: 0.10824 | 1 cls: 0.15489 | 2 cls: 0.12729\n"
     ]
    },
    {
     "name": "stderr",
     "output_type": "stream",
     "text": [
      "Epoch 366, lr 0.0003: 100% 21/21 [00:12<00:00,  1.73it/s, 0 cls=0.15570, 1 cls=0.22618, 2 cls=0.18822, bce=0.06652, dice=0.85392, loss=-0.79742]\n"
     ]
    },
    {
     "name": "stdout",
     "output_type": "stream",
     "text": [
      "loss: -0.83875 | bce: 0.03452 | dice: 0.86001 | 0 cls: 0.11649 | 1 cls: 0.16387 | 2 cls: 0.13717\n"
     ]
    },
    {
     "name": "stderr",
     "output_type": "stream",
     "text": [
      "Epoch 367, lr 0.0003: 100% 21/21 [00:12<00:00,  1.69it/s, 0 cls=0.16439, 1 cls=0.23577, 2 cls=0.19748, bce=0.06773, dice=0.84647, loss=-0.78903]\n"
     ]
    },
    {
     "name": "stdout",
     "output_type": "stream",
     "text": [
      "loss: -0.84636 | bce: 0.03171 | dice: 0.86788 | 0 cls: 0.11111 | 1 cls: 0.15539 | 2 cls: 0.12871\n"
     ]
    },
    {
     "name": "stderr",
     "output_type": "stream",
     "text": [
      "Epoch 368, lr 0.0003: 100% 21/21 [00:12<00:00,  1.69it/s, 0 cls=0.15930, 1 cls=0.22951, 2 cls=0.19193, bce=0.06659, dice=0.85022, loss=-0.79398]\n"
     ]
    },
    {
     "name": "stdout",
     "output_type": "stream",
     "text": [
      "loss: -0.84200 | bce: 0.03573 | dice: 0.86498 | 0 cls: 0.11426 | 1 cls: 0.16040 | 2 cls: 0.13446\n"
     ]
    },
    {
     "name": "stderr",
     "output_type": "stream",
     "text": [
      "Epoch 369, lr 0.0003: 100% 21/21 [00:12<00:00,  1.71it/s, 0 cls=0.16790, 1 cls=0.23758, 2 cls=0.20077, bce=0.06798, dice=0.84576, loss=-0.78743]\n"
     ]
    },
    {
     "name": "stdout",
     "output_type": "stream",
     "text": [
      "loss: -0.85251 | bce: 0.03170 | dice: 0.87328 | 0 cls: 0.10572 | 1 cls: 0.15043 | 2 cls: 0.12484\n"
     ]
    },
    {
     "name": "stderr",
     "output_type": "stream",
     "text": [
      "Epoch 370, lr 0.0003: 100% 21/21 [00:12<00:00,  1.73it/s, 0 cls=0.16498, 1 cls=0.23361, 2 cls=0.19719, bce=0.06752, dice=0.84787, loss=-0.79027]\n"
     ]
    },
    {
     "name": "stdout",
     "output_type": "stream",
     "text": [
      "loss: -0.84093 | bce: 0.03148 | dice: 0.85975 | 0 cls: 0.11683 | 1 cls: 0.16335 | 2 cls: 0.13651\n"
     ]
    },
    {
     "name": "stderr",
     "output_type": "stream",
     "text": [
      "Epoch 371, lr 0.0003: 100% 21/21 [00:12<00:00,  1.68it/s, 0 cls=0.16177, 1 cls=0.23426, 2 cls=0.19488, bce=0.06747, dice=0.84913, loss=-0.79125]\n"
     ]
    },
    {
     "name": "stdout",
     "output_type": "stream",
     "text": [
      "loss: -0.85100 | bce: 0.03049 | dice: 0.86954 | 0 cls: 0.10691 | 1 cls: 0.15131 | 2 cls: 0.12724\n"
     ]
    },
    {
     "name": "stderr",
     "output_type": "stream",
     "text": [
      "Epoch 372, lr 0.0003: 100% 21/21 [00:12<00:00,  1.70it/s, 0 cls=0.16358, 1 cls=0.23270, 2 cls=0.19535, bce=0.06673, dice=0.84754, loss=-0.79096]\n"
     ]
    },
    {
     "name": "stdout",
     "output_type": "stream",
     "text": [
      "loss: -0.84153 | bce: 0.03182 | dice: 0.86095 | 0 cls: 0.11475 | 1 cls: 0.16321 | 2 cls: 0.13519\n"
     ]
    },
    {
     "name": "stderr",
     "output_type": "stream",
     "text": [
      "Epoch 373, lr 0.0003: 100% 21/21 [00:12<00:00,  1.69it/s, 0 cls=0.17034, 1 cls=0.24076, 2 cls=0.20240, bce=0.06869, dice=0.84388, loss=-0.78465]\n"
     ]
    },
    {
     "name": "stdout",
     "output_type": "stream",
     "text": [
      "loss: -0.84315 | bce: 0.03340 | dice: 0.86509 | 0 cls: 0.10956 | 1 cls: 0.16724 | 2 cls: 0.13115\n"
     ]
    },
    {
     "name": "stderr",
     "output_type": "stream",
     "text": [
      "Epoch 374, lr 0.0003: 100% 21/21 [00:12<00:00,  1.68it/s, 0 cls=0.16583, 1 cls=0.23691, 2 cls=0.20028, bce=0.06811, dice=0.84607, loss=-0.78821]\n"
     ]
    },
    {
     "name": "stdout",
     "output_type": "stream",
     "text": [
      "loss: -0.84449 | bce: 0.03186 | dice: 0.86622 | 0 cls: 0.11340 | 1 cls: 0.15600 | 2 cls: 0.12864\n"
     ]
    },
    {
     "name": "stderr",
     "output_type": "stream",
     "text": [
      "Epoch 375, lr 0.0003: 100% 21/21 [00:12<00:00,  1.67it/s, 0 cls=0.15966, 1 cls=0.22962, 2 cls=0.19272, bce=0.06669, dice=0.85018, loss=-0.79389]\n"
     ]
    },
    {
     "name": "stdout",
     "output_type": "stream",
     "text": [
      "loss: -0.85231 | bce: 0.03125 | dice: 0.87150 | 0 cls: 0.10604 | 1 cls: 0.14929 | 2 cls: 0.12463\n"
     ]
    },
    {
     "name": "stderr",
     "output_type": "stream",
     "text": [
      "Epoch 376, lr 0.0003: 100% 21/21 [00:12<00:00,  1.70it/s, 0 cls=0.16592, 1 cls=0.23502, 2 cls=0.19769, bce=0.06775, dice=0.84620, loss=-0.78872]\n"
     ]
    },
    {
     "name": "stdout",
     "output_type": "stream",
     "text": [
      "loss: -0.85101 | bce: 0.03070 | dice: 0.86973 | 0 cls: 0.10821 | 1 cls: 0.15043 | 2 cls: 0.12735\n"
     ]
    },
    {
     "name": "stderr",
     "output_type": "stream",
     "text": [
      "Epoch 377, lr 0.0003: 100% 21/21 [00:12<00:00,  1.72it/s, 0 cls=0.15540, 1 cls=0.22751, 2 cls=0.18813, bce=0.06489, dice=0.85191, loss=-0.79709]\n"
     ]
    },
    {
     "name": "stdout",
     "output_type": "stream",
     "text": [
      "loss: -0.84806 | bce: 0.03013 | dice: 0.86823 | 0 cls: 0.10976 | 1 cls: 0.15410 | 2 cls: 0.12794\n"
     ]
    },
    {
     "name": "stderr",
     "output_type": "stream",
     "text": [
      "Epoch 378, lr 0.0003: 100% 21/21 [00:12<00:00,  1.71it/s, 0 cls=0.15809, 1 cls=0.22845, 2 cls=0.19064, bce=0.06639, dice=0.85088, loss=-0.79501]\n"
     ]
    },
    {
     "name": "stdout",
     "output_type": "stream",
     "text": [
      "loss: -0.85077 | bce: 0.03146 | dice: 0.87084 | 0 cls: 0.10689 | 1 cls: 0.15175 | 2 cls: 0.12730\n"
     ]
    },
    {
     "name": "stderr",
     "output_type": "stream",
     "text": [
      "Epoch 379, lr 0.0003: 100% 21/21 [00:12<00:00,  1.69it/s, 0 cls=0.16230, 1 cls=0.23251, 2 cls=0.19463, bce=0.06769, dice=0.84891, loss=-0.79147]\n"
     ]
    },
    {
     "name": "stdout",
     "output_type": "stream",
     "text": [
      "loss: -0.84479 | bce: 0.03167 | dice: 0.86663 | 0 cls: 0.11253 | 1 cls: 0.15712 | 2 cls: 0.12948\n"
     ]
    },
    {
     "name": "stderr",
     "output_type": "stream",
     "text": [
      "Epoch 380, lr 0.0003: 100% 21/21 [00:12<00:00,  1.71it/s, 0 cls=0.16004, 1 cls=0.22623, 2 cls=0.18916, bce=0.06571, dice=0.85084, loss=-0.79556]\n"
     ]
    },
    {
     "name": "stdout",
     "output_type": "stream",
     "text": [
      "loss: -0.84480 | bce: 0.03204 | dice: 0.86518 | 0 cls: 0.11169 | 1 cls: 0.15807 | 2 cls: 0.13209\n"
     ]
    },
    {
     "name": "stderr",
     "output_type": "stream",
     "text": [
      "Epoch 381, lr 0.0003: 100% 21/21 [00:12<00:00,  1.69it/s, 0 cls=0.16360, 1 cls=0.23353, 2 cls=0.19607, bce=0.06769, dice=0.84784, loss=-0.79029]\n"
     ]
    },
    {
     "name": "stdout",
     "output_type": "stream",
     "text": [
      "loss: -0.84796 | bce: 0.03142 | dice: 0.86730 | 0 cls: 0.11152 | 1 cls: 0.15262 | 2 cls: 0.12853\n"
     ]
    },
    {
     "name": "stderr",
     "output_type": "stream",
     "text": [
      "Epoch 382, lr 0.0003: 100% 21/21 [00:12<00:00,  1.70it/s, 0 cls=0.15662, 1 cls=0.22711, 2 cls=0.18989, bce=0.06573, dice=0.85173, loss=-0.79639]\n"
     ]
    },
    {
     "name": "stdout",
     "output_type": "stream",
     "text": [
      "loss: -0.83933 | bce: 0.03533 | dice: 0.86223 | 0 cls: 0.11896 | 1 cls: 0.15942 | 2 cls: 0.13373\n"
     ]
    },
    {
     "name": "stderr",
     "output_type": "stream",
     "text": [
      "Epoch 383, lr 0.0003: 100% 21/21 [00:12<00:00,  1.68it/s, 0 cls=0.15660, 1 cls=0.22845, 2 cls=0.18985, bce=0.06580, dice=0.85261, loss=-0.79643]\n"
     ]
    },
    {
     "name": "stdout",
     "output_type": "stream",
     "text": [
      "loss: -0.84509 | bce: 0.03318 | dice: 0.86565 | 0 cls: 0.11235 | 1 cls: 0.15698 | 2 cls: 0.13209\n"
     ]
    },
    {
     "name": "stderr",
     "output_type": "stream",
     "text": [
      "Epoch 384, lr 0.0003: 100% 21/21 [00:12<00:00,  1.71it/s, 0 cls=0.16453, 1 cls=0.23631, 2 cls=0.19815, bce=0.06695, dice=0.84666, loss=-0.78940]\n"
     ]
    },
    {
     "name": "stdout",
     "output_type": "stream",
     "text": [
      "loss: -0.84710 | bce: 0.03109 | dice: 0.86660 | 0 cls: 0.11238 | 1 cls: 0.15324 | 2 cls: 0.12936\n"
     ]
    },
    {
     "name": "stderr",
     "output_type": "stream",
     "text": [
      "Epoch 385, lr 0.0003: 100% 21/21 [00:12<00:00,  1.71it/s, 0 cls=0.15565, 1 cls=0.22315, 2 cls=0.18727, bce=0.06555, dice=0.85418, loss=-0.79905]\n"
     ]
    },
    {
     "name": "stdout",
     "output_type": "stream",
     "text": [
      "loss: -0.84596 | bce: 0.03327 | dice: 0.86566 | 0 cls: 0.11413 | 1 cls: 0.14970 | 2 cls: 0.13027\n"
     ]
    },
    {
     "name": "stderr",
     "output_type": "stream",
     "text": [
      "Epoch 386, lr 0.0003: 100% 21/21 [00:12<00:00,  1.72it/s, 0 cls=0.15739, 1 cls=0.22512, 2 cls=0.18858, bce=0.06556, dice=0.85249, loss=-0.79732]\n"
     ]
    },
    {
     "name": "stdout",
     "output_type": "stream",
     "text": [
      "loss: -0.83675 | bce: 0.03454 | dice: 0.86033 | 0 cls: 0.12163 | 1 cls: 0.16202 | 2 cls: 0.13565\n"
     ]
    },
    {
     "name": "stderr",
     "output_type": "stream",
     "text": [
      "Epoch 387, lr 0.0003: 100% 21/21 [00:12<00:00,  1.70it/s, 0 cls=0.16018, 1 cls=0.23105, 2 cls=0.19275, bce=0.06600, dice=0.84989, loss=-0.79377]\n"
     ]
    },
    {
     "name": "stdout",
     "output_type": "stream",
     "text": [
      "loss: -0.85159 | bce: 0.03192 | dice: 0.87322 | 0 cls: 0.10624 | 1 cls: 0.15176 | 2 cls: 0.12553\n"
     ]
    },
    {
     "name": "stderr",
     "output_type": "stream",
     "text": [
      "Epoch 388, lr 0.0003: 100% 21/21 [00:12<00:00,  1.69it/s, 0 cls=0.16655, 1 cls=0.23331, 2 cls=0.19727, bce=0.06769, dice=0.84710, loss=-0.78953]\n"
     ]
    },
    {
     "name": "stdout",
     "output_type": "stream",
     "text": [
      "loss: -0.84723 | bce: 0.03114 | dice: 0.86766 | 0 cls: 0.11077 | 1 cls: 0.15642 | 2 cls: 0.12995\n"
     ]
    },
    {
     "name": "stderr",
     "output_type": "stream",
     "text": [
      "Epoch 389, lr 0.0003: 100% 21/21 [00:12<00:00,  1.71it/s, 0 cls=0.16079, 1 cls=0.22849, 2 cls=0.19231, bce=0.06599, dice=0.84982, loss=-0.79415]\n"
     ]
    },
    {
     "name": "stdout",
     "output_type": "stream",
     "text": [
      "loss: -0.84770 | bce: 0.03149 | dice: 0.86739 | 0 cls: 0.11003 | 1 cls: 0.15656 | 2 cls: 0.13051\n"
     ]
    },
    {
     "name": "stderr",
     "output_type": "stream",
     "text": [
      "Epoch 390, lr 0.0014: 100% 21/21 [00:12<00:00,  1.74it/s, 0 cls=0.17324, 1 cls=0.24995, 2 cls=0.20818, bce=0.07140, dice=0.83921, loss=-0.77805]\n"
     ]
    },
    {
     "name": "stdout",
     "output_type": "stream",
     "text": [
      "loss: -0.79206 | bce: 0.04191 | dice: 0.82241 | 0 cls: 0.16008 | 1 cls: 0.20681 | 2 cls: 0.17123\n"
     ]
    },
    {
     "name": "stderr",
     "output_type": "stream",
     "text": [
      "Epoch 391, lr 0.0014: 100% 21/21 [00:12<00:00,  1.70it/s, 0 cls=0.17788, 1 cls=0.26152, 2 cls=0.21579, bce=0.07415, dice=0.83481, loss=-0.77052]\n"
     ]
    },
    {
     "name": "stdout",
     "output_type": "stream",
     "text": [
      "loss: -0.84245 | bce: 0.03217 | dice: 0.86590 | 0 cls: 0.11200 | 1 cls: 0.16431 | 2 cls: 0.12998\n"
     ]
    },
    {
     "name": "stderr",
     "output_type": "stream",
     "text": [
      "Epoch 392, lr 0.00041999999999999996: 100% 21/21 [00:12<00:00,  1.70it/s, 0 cls=0.18643, 1 cls=0.25467, 2 cls=0.21669, bce=0.07388, dice=0.83386, loss=-0.77039]\n"
     ]
    },
    {
     "name": "stdout",
     "output_type": "stream",
     "text": [
      "loss: -0.84230 | bce: 0.03537 | dice: 0.86415 | 0 cls: 0.11284 | 1 cls: 0.16071 | 2 cls: 0.13324\n"
     ]
    },
    {
     "name": "stderr",
     "output_type": "stream",
     "text": [
      "Epoch 393, lr 0.00041999999999999996: 100% 21/21 [00:12<00:00,  1.70it/s, 0 cls=0.17636, 1 cls=0.24241, 2 cls=0.20656, bce=0.07138, dice=0.84093, loss=-0.78024]\n"
     ]
    },
    {
     "name": "stdout",
     "output_type": "stream",
     "text": [
      "loss: -0.83685 | bce: 0.03427 | dice: 0.85793 | 0 cls: 0.11765 | 1 cls: 0.16675 | 2 cls: 0.13975\n"
     ]
    },
    {
     "name": "stderr",
     "output_type": "stream",
     "text": [
      "Epoch 394, lr 0.000126: 100% 21/21 [00:12<00:00,  1.69it/s, 0 cls=0.17519, 1 cls=0.24261, 2 cls=0.20546, bce=0.07112, dice=0.84234, loss=-0.78120]\n"
     ]
    },
    {
     "name": "stdout",
     "output_type": "stream",
     "text": [
      "loss: -0.84723 | bce: 0.03189 | dice: 0.86824 | 0 cls: 0.11079 | 1 cls: 0.15565 | 2 cls: 0.12787\n"
     ]
    },
    {
     "name": "stderr",
     "output_type": "stream",
     "text": [
      "Epoch 395, lr 0.0014: 100% 21/21 [00:12<00:00,  1.66it/s, 0 cls=0.17822, 1 cls=0.25566, 2 cls=0.21188, bce=0.07258, dice=0.83610, loss=-0.77326]\n"
     ]
    },
    {
     "name": "stdout",
     "output_type": "stream",
     "text": [
      "loss: -0.83261 | bce: 0.03361 | dice: 0.85267 | 0 cls: 0.12048 | 1 cls: 0.17578 | 2 cls: 0.14241\n"
     ]
    },
    {
     "name": "stderr",
     "output_type": "stream",
     "text": [
      "Epoch 396, lr 0.0014: 100% 21/21 [00:12<00:00,  1.70it/s, 0 cls=0.18488, 1 cls=0.25767, 2 cls=0.21660, bce=0.07585, dice=0.83320, loss=-0.76868]\n"
     ]
    },
    {
     "name": "stdout",
     "output_type": "stream",
     "text": [
      "loss: -0.72390 | bce: 0.06367 | dice: 0.75315 | 0 cls: 0.25839 | 1 cls: 0.21988 | 2 cls: 0.24909\n"
     ]
    },
    {
     "name": "stderr",
     "output_type": "stream",
     "text": [
      "Epoch 397, lr 0.00041999999999999996: 100% 21/21 [00:12<00:00,  1.69it/s, 0 cls=0.18783, 1 cls=0.25981, 2 cls=0.21992, bce=0.07437, dice=0.82950, loss=-0.76635]\n"
     ]
    },
    {
     "name": "stdout",
     "output_type": "stream",
     "text": [
      "loss: -0.84262 | bce: 0.03344 | dice: 0.86408 | 0 cls: 0.11383 | 1 cls: 0.15961 | 2 cls: 0.13165\n"
     ]
    },
    {
     "name": "stderr",
     "output_type": "stream",
     "text": [
      "Epoch 398, lr 0.00041999999999999996: 100% 21/21 [00:12<00:00,  1.70it/s, 0 cls=0.17464, 1 cls=0.24602, 2 cls=0.20631, bce=0.07119, dice=0.84064, loss=-0.77953]\n"
     ]
    },
    {
     "name": "stdout",
     "output_type": "stream",
     "text": [
      "loss: -0.83734 | bce: 0.03218 | dice: 0.85792 | 0 cls: 0.12220 | 1 cls: 0.16444 | 2 cls: 0.13611\n"
     ]
    },
    {
     "name": "stderr",
     "output_type": "stream",
     "text": [
      "Epoch 399, lr 0.000126: 100% 21/21 [00:12<00:00,  1.71it/s, 0 cls=0.16861, 1 cls=0.23678, 2 cls=0.19903, bce=0.06793, dice=0.84463, loss=-0.78686]\n"
     ]
    },
    {
     "name": "stdout",
     "output_type": "stream",
     "text": [
      "loss: -0.84578 | bce: 0.03274 | dice: 0.86768 | 0 cls: 0.11263 | 1 cls: 0.15649 | 2 cls: 0.12714\n"
     ]
    },
    {
     "name": "stderr",
     "output_type": "stream",
     "text": [
      "Epoch 400, lr 0.00017999999999999998: 100% 21/21 [00:12<00:00,  1.67it/s, 0 cls=0.16456, 1 cls=0.23928, 2 cls=0.19850, bce=0.06847, dice=0.84625, loss=-0.78756]\n"
     ]
    },
    {
     "name": "stdout",
     "output_type": "stream",
     "text": [
      "loss: -0.84601 | bce: 0.03225 | dice: 0.86682 | 0 cls: 0.11219 | 1 cls: 0.15579 | 2 cls: 0.12821\n"
     ]
    },
    {
     "name": "stderr",
     "output_type": "stream",
     "text": [
      "Epoch 401, lr 0.00017999999999999998: 100% 21/21 [00:12<00:00,  1.69it/s, 0 cls=0.15844, 1 cls=0.22835, 2 cls=0.18998, bce=0.06607, dice=0.85106, loss=-0.79527]\n"
     ]
    },
    {
     "name": "stdout",
     "output_type": "stream",
     "text": [
      "loss: -0.84589 | bce: 0.03265 | dice: 0.86716 | 0 cls: 0.11306 | 1 cls: 0.15455 | 2 cls: 0.12791\n"
     ]
    },
    {
     "name": "stderr",
     "output_type": "stream",
     "text": [
      "Epoch 402, lr 0.00017999999999999998: 100% 21/21 [00:12<00:00,  1.70it/s, 0 cls=0.16305, 1 cls=0.23455, 2 cls=0.19579, bce=0.06803, dice=0.84783, loss=-0.79001]\n"
     ]
    },
    {
     "name": "stdout",
     "output_type": "stream",
     "text": [
      "loss: -0.84619 | bce: 0.03193 | dice: 0.86662 | 0 cls: 0.11282 | 1 cls: 0.15417 | 2 cls: 0.12817\n"
     ]
    },
    {
     "name": "stderr",
     "output_type": "stream",
     "text": [
      "Epoch 403, lr 0.00017999999999999998: 100% 21/21 [00:12<00:00,  1.74it/s, 0 cls=0.16319, 1 cls=0.23690, 2 cls=0.19714, bce=0.06820, dice=0.84808, loss=-0.78955]\n"
     ]
    },
    {
     "name": "stdout",
     "output_type": "stream",
     "text": [
      "loss: -0.84612 | bce: 0.03209 | dice: 0.86710 | 0 cls: 0.11088 | 1 cls: 0.15687 | 2 cls: 0.12874\n"
     ]
    },
    {
     "name": "stderr",
     "output_type": "stream",
     "text": [
      "Epoch 404, lr 0.00017999999999999998: 100% 21/21 [00:12<00:00,  1.72it/s, 0 cls=0.16305, 1 cls=0.23671, 2 cls=0.19686, bce=0.06701, dice=0.84703, loss=-0.78963]\n"
     ]
    },
    {
     "name": "stdout",
     "output_type": "stream",
     "text": [
      "loss: -0.85020 | bce: 0.03165 | dice: 0.87152 | 0 cls: 0.10815 | 1 cls: 0.15228 | 2 cls: 0.12494\n"
     ]
    },
    {
     "name": "stderr",
     "output_type": "stream",
     "text": [
      "Epoch 405, lr 0.00017999999999999998: 100% 21/21 [00:12<00:00,  1.70it/s, 0 cls=0.15841, 1 cls=0.22889, 2 cls=0.19106, bce=0.06646, dice=0.85168, loss=-0.79525]\n"
     ]
    },
    {
     "name": "stdout",
     "output_type": "stream",
     "text": [
      "loss: -0.83618 | bce: 0.03547 | dice: 0.85832 | 0 cls: 0.12004 | 1 cls: 0.16524 | 2 cls: 0.13939\n"
     ]
    },
    {
     "name": "stderr",
     "output_type": "stream",
     "text": [
      "Epoch 406, lr 0.00017999999999999998: 100% 21/21 [00:12<00:00,  1.70it/s, 0 cls=0.15883, 1 cls=0.23034, 2 cls=0.19229, bce=0.06518, dice=0.84995, loss=-0.79465]\n"
     ]
    },
    {
     "name": "stdout",
     "output_type": "stream",
     "text": [
      "loss: -0.84377 | bce: 0.03327 | dice: 0.86521 | 0 cls: 0.11757 | 1 cls: 0.15274 | 2 cls: 0.12902\n"
     ]
    },
    {
     "name": "stderr",
     "output_type": "stream",
     "text": [
      "Epoch 407, lr 0.00017999999999999998: 100% 21/21 [00:12<00:00,  1.70it/s, 0 cls=0.15786, 1 cls=0.22698, 2 cls=0.18936, bce=0.06555, dice=0.85123, loss=-0.79602]\n"
     ]
    },
    {
     "name": "stdout",
     "output_type": "stream",
     "text": [
      "loss: -0.84681 | bce: 0.03240 | dice: 0.86785 | 0 cls: 0.11169 | 1 cls: 0.15409 | 2 cls: 0.12875\n"
     ]
    },
    {
     "name": "stderr",
     "output_type": "stream",
     "text": [
      "Epoch 408, lr 0.00017999999999999998: 100% 21/21 [00:12<00:00,  1.70it/s, 0 cls=0.16015, 1 cls=0.23131, 2 cls=0.19374, bce=0.06631, dice=0.84930, loss=-0.79319]\n"
     ]
    },
    {
     "name": "stdout",
     "output_type": "stream",
     "text": [
      "loss: -0.84818 | bce: 0.03199 | dice: 0.87018 | 0 cls: 0.10849 | 1 cls: 0.15626 | 2 cls: 0.12662\n"
     ]
    },
    {
     "name": "stderr",
     "output_type": "stream",
     "text": [
      "Epoch 409, lr 0.00017999999999999998: 100% 21/21 [00:12<00:00,  1.69it/s, 0 cls=0.15956, 1 cls=0.22821, 2 cls=0.19130, bce=0.06593, dice=0.85110, loss=-0.79507]\n"
     ]
    },
    {
     "name": "stdout",
     "output_type": "stream",
     "text": [
      "loss: -0.84435 | bce: 0.03285 | dice: 0.86588 | 0 cls: 0.11399 | 1 cls: 0.15657 | 2 cls: 0.12909\n"
     ]
    },
    {
     "name": "stderr",
     "output_type": "stream",
     "text": [
      "Epoch 410, lr 0.00017999999999999998: 100% 21/21 [00:12<00:00,  1.70it/s, 0 cls=0.15810, 1 cls=0.22913, 2 cls=0.19105, bce=0.06659, dice=0.85251, loss=-0.79568]\n"
     ]
    },
    {
     "name": "stdout",
     "output_type": "stream",
     "text": [
      "loss: -0.84858 | bce: 0.03177 | dice: 0.86885 | 0 cls: 0.10885 | 1 cls: 0.15434 | 2 cls: 0.12798\n"
     ]
    },
    {
     "name": "stderr",
     "output_type": "stream",
     "text": [
      "Epoch 411, lr 0.00017999999999999998: 100% 21/21 [00:12<00:00,  1.70it/s, 0 cls=0.15758, 1 cls=0.22680, 2 cls=0.18953, bce=0.06522, dice=0.85163, loss=-0.79648]\n"
     ]
    },
    {
     "name": "stdout",
     "output_type": "stream",
     "text": [
      "loss: -0.85149 | bce: 0.03093 | dice: 0.87194 | 0 cls: 0.10562 | 1 cls: 0.15370 | 2 cls: 0.12557\n"
     ]
    },
    {
     "name": "stderr",
     "output_type": "stream",
     "text": [
      "Epoch 412, lr 0.00017999999999999998: 100% 21/21 [00:12<00:00,  1.69it/s, 0 cls=0.15591, 1 cls=0.22594, 2 cls=0.18836, bce=0.06443, dice=0.85214, loss=-0.79776]\n"
     ]
    },
    {
     "name": "stdout",
     "output_type": "stream",
     "text": [
      "loss: -0.84752 | bce: 0.03247 | dice: 0.86965 | 0 cls: 0.10837 | 1 cls: 0.15855 | 2 cls: 0.12868\n"
     ]
    },
    {
     "name": "stderr",
     "output_type": "stream",
     "text": [
      "Epoch 413, lr 0.00017999999999999998: 100% 21/21 [00:12<00:00,  1.65it/s, 0 cls=0.15824, 1 cls=0.22490, 2 cls=0.18906, bce=0.06487, dice=0.85200, loss=-0.79724]\n"
     ]
    },
    {
     "name": "stdout",
     "output_type": "stream",
     "text": [
      "loss: -0.84580 | bce: 0.03208 | dice: 0.86579 | 0 cls: 0.11223 | 1 cls: 0.15602 | 2 cls: 0.12969\n"
     ]
    },
    {
     "name": "stderr",
     "output_type": "stream",
     "text": [
      "Epoch 414, lr 0.00017999999999999998: 100% 21/21 [00:12<00:00,  1.66it/s, 0 cls=0.15946, 1 cls=0.22888, 2 cls=0.19206, bce=0.06679, dice=0.85181, loss=-0.79490]\n"
     ]
    },
    {
     "name": "stdout",
     "output_type": "stream",
     "text": [
      "loss: -0.84478 | bce: 0.03225 | dice: 0.86541 | 0 cls: 0.11336 | 1 cls: 0.15691 | 2 cls: 0.12969\n"
     ]
    },
    {
     "name": "stderr",
     "output_type": "stream",
     "text": [
      "Epoch 415, lr 0.00017999999999999998: 100% 21/21 [00:12<00:00,  1.69it/s, 0 cls=0.16343, 1 cls=0.23179, 2 cls=0.19558, bce=0.06799, dice=0.84977, loss=-0.79176]\n"
     ]
    },
    {
     "name": "stdout",
     "output_type": "stream",
     "text": [
      "loss: -0.84495 | bce: 0.03224 | dice: 0.86596 | 0 cls: 0.11514 | 1 cls: 0.15285 | 2 cls: 0.12742\n"
     ]
    },
    {
     "name": "stderr",
     "output_type": "stream",
     "text": [
      "Epoch 416, lr 0.00017999999999999998: 100% 21/21 [00:12<00:00,  1.71it/s, 0 cls=0.15377, 1 cls=0.22240, 2 cls=0.18617, bce=0.06497, dice=0.85499, loss=-0.80021]\n"
     ]
    },
    {
     "name": "stdout",
     "output_type": "stream",
     "text": [
      "loss: -0.83720 | bce: 0.03507 | dice: 0.85936 | 0 cls: 0.12043 | 1 cls: 0.16158 | 2 cls: 0.13617\n"
     ]
    },
    {
     "name": "stderr",
     "output_type": "stream",
     "text": [
      "Epoch 417, lr 0.00017999999999999998: 100% 21/21 [00:12<00:00,  1.69it/s, 0 cls=0.15449, 1 cls=0.22132, 2 cls=0.18638, bce=0.06375, dice=0.85527, loss=-0.80118]\n"
     ]
    },
    {
     "name": "stdout",
     "output_type": "stream",
     "text": [
      "loss: -0.84050 | bce: 0.03384 | dice: 0.86219 | 0 cls: 0.11717 | 1 cls: 0.15960 | 2 cls: 0.13321\n"
     ]
    },
    {
     "name": "stderr",
     "output_type": "stream",
     "text": [
      "Epoch 418, lr 0.00017999999999999998: 100% 21/21 [00:12<00:00,  1.68it/s, 0 cls=0.16218, 1 cls=0.22835, 2 cls=0.19326, bce=0.06605, dice=0.84992, loss=-0.79400]\n"
     ]
    },
    {
     "name": "stdout",
     "output_type": "stream",
     "text": [
      "loss: -0.84526 | bce: 0.03247 | dice: 0.86562 | 0 cls: 0.11309 | 1 cls: 0.15587 | 2 cls: 0.12990\n"
     ]
    },
    {
     "name": "stderr",
     "output_type": "stream",
     "text": [
      "Epoch 419, lr 0.00017999999999999998: 100% 21/21 [00:12<00:00,  1.69it/s, 0 cls=0.15107, 1 cls=0.22159, 2 cls=0.18469, bce=0.06426, dice=0.85606, loss=-0.80190]\n"
     ]
    },
    {
     "name": "stdout",
     "output_type": "stream",
     "text": [
      "loss: -0.84876 | bce: 0.03198 | dice: 0.86984 | 0 cls: 0.11023 | 1 cls: 0.15219 | 2 cls: 0.12662\n"
     ]
    },
    {
     "name": "stderr",
     "output_type": "stream",
     "text": [
      "Epoch 420, lr 0.00017999999999999998: 100% 21/21 [00:12<00:00,  1.70it/s, 0 cls=0.16413, 1 cls=0.23396, 2 cls=0.19699, bce=0.06744, dice=0.84798, loss=-0.79036]\n"
     ]
    },
    {
     "name": "stdout",
     "output_type": "stream",
     "text": [
      "loss: -0.84761 | bce: 0.03141 | dice: 0.86863 | 0 cls: 0.10975 | 1 cls: 0.15753 | 2 cls: 0.12875\n"
     ]
    },
    {
     "name": "stderr",
     "output_type": "stream",
     "text": [
      "Epoch 421, lr 0.00017999999999999998: 100% 21/21 [00:12<00:00,  1.67it/s, 0 cls=0.15513, 1 cls=0.22427, 2 cls=0.18761, bce=0.06451, dice=0.85338, loss=-0.79896]\n"
     ]
    },
    {
     "name": "stdout",
     "output_type": "stream",
     "text": [
      "loss: -0.85204 | bce: 0.03067 | dice: 0.87166 | 0 cls: 0.10723 | 1 cls: 0.15039 | 2 cls: 0.12466\n"
     ]
    },
    {
     "name": "stderr",
     "output_type": "stream",
     "text": [
      "Epoch 422, lr 0.00017999999999999998: 100% 21/21 [00:12<00:00,  1.70it/s, 0 cls=0.16040, 1 cls=0.22736, 2 cls=0.19146, bce=0.06603, dice=0.85162, loss=-0.79552]\n"
     ]
    },
    {
     "name": "stdout",
     "output_type": "stream",
     "text": [
      "loss: -0.85174 | bce: 0.03061 | dice: 0.87149 | 0 cls: 0.10790 | 1 cls: 0.14928 | 2 cls: 0.12498\n"
     ]
    },
    {
     "name": "stderr",
     "output_type": "stream",
     "text": [
      "Epoch 423, lr 0.00017999999999999998: 100% 21/21 [00:12<00:00,  1.71it/s, 0 cls=0.15224, 1 cls=0.22154, 2 cls=0.18482, bce=0.06406, dice=0.85573, loss=-0.80151]\n"
     ]
    },
    {
     "name": "stdout",
     "output_type": "stream",
     "text": [
      "loss: -0.84966 | bce: 0.03164 | dice: 0.86999 | 0 cls: 0.10935 | 1 cls: 0.15109 | 2 cls: 0.12594\n"
     ]
    },
    {
     "name": "stderr",
     "output_type": "stream",
     "text": [
      "Epoch 424, lr 0.00017999999999999998: 100% 21/21 [00:12<00:00,  1.70it/s, 0 cls=0.16126, 1 cls=0.23070, 2 cls=0.19382, bce=0.06562, dice=0.84922, loss=-0.79340]\n"
     ]
    },
    {
     "name": "stdout",
     "output_type": "stream",
     "text": [
      "loss: -0.85137 | bce: 0.03025 | dice: 0.87013 | 0 cls: 0.10894 | 1 cls: 0.14925 | 2 cls: 0.12549\n"
     ]
    },
    {
     "name": "stderr",
     "output_type": "stream",
     "text": [
      "Epoch 425, lr 0.00017999999999999998: 100% 21/21 [00:12<00:00,  1.71it/s, 0 cls=0.17187, 1 cls=0.23954, 2 cls=0.20386, bce=0.06933, dice=0.84463, loss=-0.78511]\n"
     ]
    },
    {
     "name": "stdout",
     "output_type": "stream",
     "text": [
      "loss: -0.84924 | bce: 0.03104 | dice: 0.86808 | 0 cls: 0.10973 | 1 cls: 0.15328 | 2 cls: 0.12770\n"
     ]
    },
    {
     "name": "stderr",
     "output_type": "stream",
     "text": [
      "Epoch 426, lr 0.00017999999999999998: 100% 21/21 [00:12<00:00,  1.72it/s, 0 cls=0.14987, 1 cls=0.22582, 2 cls=0.18554, bce=0.06388, dice=0.85429, loss=-0.80045]\n"
     ]
    },
    {
     "name": "stdout",
     "output_type": "stream",
     "text": [
      "loss: -0.83993 | bce: 0.03523 | dice: 0.86248 | 0 cls: 0.12201 | 1 cls: 0.15284 | 2 cls: 0.13049\n"
     ]
    },
    {
     "name": "stderr",
     "output_type": "stream",
     "text": [
      "Epoch 427, lr 0.00017999999999999998: 100% 21/21 [00:12<00:00,  1.68it/s, 0 cls=0.15754, 1 cls=0.22892, 2 cls=0.19115, bce=0.06607, dice=0.85173, loss=-0.79551]\n"
     ]
    },
    {
     "name": "stdout",
     "output_type": "stream",
     "text": [
      "loss: -0.84847 | bce: 0.03234 | dice: 0.86912 | 0 cls: 0.11087 | 1 cls: 0.15153 | 2 cls: 0.12675\n"
     ]
    },
    {
     "name": "stderr",
     "output_type": "stream",
     "text": [
      "Epoch 428, lr 0.00017999999999999998: 100% 21/21 [00:12<00:00,  1.70it/s, 0 cls=0.14930, 1 cls=0.22253, 2 cls=0.18367, bce=0.06329, dice=0.85632, loss=-0.80255]\n"
     ]
    },
    {
     "name": "stdout",
     "output_type": "stream",
     "text": [
      "loss: -0.85295 | bce: 0.03021 | dice: 0.87256 | 0 cls: 0.10630 | 1 cls: 0.14851 | 2 cls: 0.12315\n"
     ]
    },
    {
     "name": "stderr",
     "output_type": "stream",
     "text": [
      "Epoch 429, lr 0.00017999999999999998: 100% 21/21 [00:12<00:00,  1.73it/s, 0 cls=0.15722, 1 cls=0.22623, 2 cls=0.18947, bce=0.06446, dice=0.85206, loss=-0.79737]\n"
     ]
    },
    {
     "name": "stdout",
     "output_type": "stream",
     "text": [
      "loss: -0.84656 | bce: 0.03188 | dice: 0.86657 | 0 cls: 0.11276 | 1 cls: 0.15279 | 2 cls: 0.12820\n"
     ]
    },
    {
     "name": "stderr",
     "output_type": "stream",
     "text": [
      "Epoch 430, lr 0.00017999999999999998: 100% 21/21 [00:12<00:00,  1.72it/s, 0 cls=0.15533, 1 cls=0.22345, 2 cls=0.18707, bce=0.06526, dice=0.85405, loss=-0.79916]\n"
     ]
    },
    {
     "name": "stdout",
     "output_type": "stream",
     "text": [
      "loss: -0.84952 | bce: 0.03146 | dice: 0.86940 | 0 cls: 0.10874 | 1 cls: 0.15333 | 2 cls: 0.12777\n"
     ]
    },
    {
     "name": "stderr",
     "output_type": "stream",
     "text": [
      "Epoch 431, lr 0.00017999999999999998: 100% 21/21 [00:12<00:00,  1.69it/s, 0 cls=0.15131, 1 cls=0.22345, 2 cls=0.18503, bce=0.06451, dice=0.85558, loss=-0.80090]\n"
     ]
    },
    {
     "name": "stdout",
     "output_type": "stream",
     "text": [
      "loss: -0.84919 | bce: 0.03082 | dice: 0.87011 | 0 cls: 0.10898 | 1 cls: 0.15352 | 2 cls: 0.12597\n"
     ]
    },
    {
     "name": "stderr",
     "output_type": "stream",
     "text": [
      "Epoch 432, lr 0.00017999999999999998: 100% 21/21 [00:12<00:00,  1.70it/s, 0 cls=0.14970, 1 cls=0.21841, 2 cls=0.18138, bce=0.06266, dice=0.85669, loss=-0.80406]\n"
     ]
    },
    {
     "name": "stdout",
     "output_type": "stream",
     "text": [
      "loss: -0.84590 | bce: 0.03149 | dice: 0.86557 | 0 cls: 0.11254 | 1 cls: 0.15481 | 2 cls: 0.12958\n"
     ]
    },
    {
     "name": "stderr",
     "output_type": "stream",
     "text": [
      "Epoch 433, lr 0.00017999999999999998: 100% 21/21 [00:12<00:00,  1.71it/s, 0 cls=0.15540, 1 cls=0.22549, 2 cls=0.18958, bce=0.06562, dice=0.85424, loss=-0.79839]\n"
     ]
    },
    {
     "name": "stdout",
     "output_type": "stream",
     "text": [
      "loss: -0.84856 | bce: 0.03097 | dice: 0.86879 | 0 cls: 0.10975 | 1 cls: 0.15352 | 2 cls: 0.12808\n"
     ]
    },
    {
     "name": "stderr",
     "output_type": "stream",
     "text": [
      "Epoch 434, lr 0.00017999999999999998: 100% 21/21 [00:12<00:00,  1.70it/s, 0 cls=0.15334, 1 cls=0.22324, 2 cls=0.18611, bce=0.06386, dice=0.85464, loss=-0.80053]\n"
     ]
    },
    {
     "name": "stdout",
     "output_type": "stream",
     "text": [
      "loss: -0.84597 | bce: 0.03291 | dice: 0.86646 | 0 cls: 0.11481 | 1 cls: 0.15084 | 2 cls: 0.12904\n"
     ]
    },
    {
     "name": "stderr",
     "output_type": "stream",
     "text": [
      "Epoch 435, lr 0.00017999999999999998: 100% 21/21 [00:12<00:00,  1.70it/s, 0 cls=0.16239, 1 cls=0.23077, 2 cls=0.19501, bce=0.06731, dice=0.84997, loss=-0.79267]\n"
     ]
    },
    {
     "name": "stdout",
     "output_type": "stream",
     "text": [
      "loss: -0.84953 | bce: 0.03128 | dice: 0.86981 | 0 cls: 0.11002 | 1 cls: 0.15113 | 2 cls: 0.12621\n"
     ]
    },
    {
     "name": "stderr",
     "output_type": "stream",
     "text": [
      "Epoch 436, lr 0.00017999999999999998: 100% 21/21 [00:12<00:00,  1.69it/s, 0 cls=0.15486, 1 cls=0.22345, 2 cls=0.18693, bce=0.06465, dice=0.85396, loss=-0.79945]\n"
     ]
    },
    {
     "name": "stdout",
     "output_type": "stream",
     "text": [
      "loss: -0.84503 | bce: 0.03387 | dice: 0.86777 | 0 cls: 0.11128 | 1 cls: 0.15927 | 2 cls: 0.13160\n"
     ]
    },
    {
     "name": "stderr",
     "output_type": "stream",
     "text": [
      "Epoch 437, lr 0.00017999999999999998: 100% 21/21 [00:12<00:00,  1.73it/s, 0 cls=0.15231, 1 cls=0.22165, 2 cls=0.18517, bce=0.06423, dice=0.85600, loss=-0.80153]\n"
     ]
    },
    {
     "name": "stdout",
     "output_type": "stream",
     "text": [
      "loss: -0.84363 | bce: 0.03319 | dice: 0.86417 | 0 cls: 0.11564 | 1 cls: 0.15412 | 2 cls: 0.13174\n"
     ]
    },
    {
     "name": "stderr",
     "output_type": "stream",
     "text": [
      "Epoch 438, lr 0.00017999999999999998: 100% 21/21 [00:12<00:00,  1.72it/s, 0 cls=0.16568, 1 cls=0.23245, 2 cls=0.19691, bce=0.06701, dice=0.84809, loss=-0.79088]\n"
     ]
    },
    {
     "name": "stdout",
     "output_type": "stream",
     "text": [
      "loss: -0.84728 | bce: 0.03286 | dice: 0.86719 | 0 cls: 0.11044 | 1 cls: 0.15358 | 2 cls: 0.13047\n"
     ]
    },
    {
     "name": "stderr",
     "output_type": "stream",
     "text": [
      "Epoch 439, lr 0.00017999999999999998: 100% 21/21 [00:12<00:00,  1.69it/s, 0 cls=0.15602, 1 cls=0.22212, 2 cls=0.18738, bce=0.06520, dice=0.85467, loss=-0.79957]\n"
     ]
    },
    {
     "name": "stdout",
     "output_type": "stream",
     "text": [
      "loss: -0.84775 | bce: 0.03198 | dice: 0.86799 | 0 cls: 0.11047 | 1 cls: 0.15522 | 2 cls: 0.13112\n"
     ]
    },
    {
     "name": "stderr",
     "output_type": "stream",
     "text": [
      "Epoch 440, lr 0.00017999999999999998: 100% 21/21 [00:12<00:00,  1.69it/s, 0 cls=0.15502, 1 cls=0.22469, 2 cls=0.18805, bce=0.06437, dice=0.85388, loss=-0.79931]\n"
     ]
    },
    {
     "name": "stdout",
     "output_type": "stream",
     "text": [
      "loss: -0.85190 | bce: 0.03171 | dice: 0.87316 | 0 cls: 0.10626 | 1 cls: 0.15035 | 2 cls: 0.12507\n"
     ]
    },
    {
     "name": "stderr",
     "output_type": "stream",
     "text": [
      "Epoch 441, lr 0.00017999999999999998: 100% 21/21 [00:12<00:00,  1.68it/s, 0 cls=0.15483, 1 cls=0.22548, 2 cls=0.18799, bce=0.06597, dice=0.85391, loss=-0.79815]\n"
     ]
    },
    {
     "name": "stdout",
     "output_type": "stream",
     "text": [
      "loss: -0.84237 | bce: 0.03397 | dice: 0.86480 | 0 cls: 0.11430 | 1 cls: 0.16015 | 2 cls: 0.13307\n"
     ]
    },
    {
     "name": "stderr",
     "output_type": "stream",
     "text": [
      "Epoch 442, lr 0.00017999999999999998: 100% 21/21 [00:12<00:00,  1.70it/s, 0 cls=0.15240, 1 cls=0.22295, 2 cls=0.18577, bce=0.06384, dice=0.85479, loss=-0.80082]\n"
     ]
    },
    {
     "name": "stdout",
     "output_type": "stream",
     "text": [
      "loss: -0.85056 | bce: 0.03161 | dice: 0.86978 | 0 cls: 0.10759 | 1 cls: 0.15117 | 2 cls: 0.12778\n"
     ]
    },
    {
     "name": "stderr",
     "output_type": "stream",
     "text": [
      "Epoch 443, lr 0.00017999999999999998: 100% 21/21 [00:12<00:00,  1.69it/s, 0 cls=0.15480, 1 cls=0.22507, 2 cls=0.18828, bce=0.06532, dice=0.85417, loss=-0.79884]\n"
     ]
    },
    {
     "name": "stdout",
     "output_type": "stream",
     "text": [
      "loss: -0.83309 | bce: 0.03430 | dice: 0.85372 | 0 cls: 0.12766 | 1 cls: 0.16092 | 2 cls: 0.14099\n"
     ]
    },
    {
     "name": "stderr",
     "output_type": "stream",
     "text": [
      "Epoch 444, lr 0.00017999999999999998: 100% 21/21 [00:12<00:00,  1.71it/s, 0 cls=0.16486, 1 cls=0.23361, 2 cls=0.19784, bce=0.06693, dice=0.84764, loss=-0.79051]\n"
     ]
    },
    {
     "name": "stdout",
     "output_type": "stream",
     "text": [
      "loss: -0.85039 | bce: 0.03126 | dice: 0.87076 | 0 cls: 0.10797 | 1 cls: 0.15148 | 2 cls: 0.12668\n"
     ]
    },
    {
     "name": "stderr",
     "output_type": "stream",
     "text": [
      "Epoch 445, lr 0.00017999999999999998: 100% 21/21 [00:12<00:00,  1.70it/s, 0 cls=0.15164, 1 cls=0.22412, 2 cls=0.18631, bce=0.06321, dice=0.85427, loss=-0.80081]\n"
     ]
    },
    {
     "name": "stdout",
     "output_type": "stream",
     "text": [
      "loss: -0.85059 | bce: 0.03175 | dice: 0.87131 | 0 cls: 0.10725 | 1 cls: 0.15293 | 2 cls: 0.12616\n"
     ]
    },
    {
     "name": "stderr",
     "output_type": "stream",
     "text": [
      "Epoch 446, lr 0.00017999999999999998: 100% 21/21 [00:12<00:00,  1.70it/s, 0 cls=0.15331, 1 cls=0.22549, 2 cls=0.18745, bce=0.06468, dice=0.85467, loss=-0.79963]\n"
     ]
    },
    {
     "name": "stdout",
     "output_type": "stream",
     "text": [
      "loss: -0.84899 | bce: 0.03176 | dice: 0.87089 | 0 cls: 0.10718 | 1 cls: 0.15719 | 2 cls: 0.12856\n"
     ]
    },
    {
     "name": "stderr",
     "output_type": "stream",
     "text": [
      "Epoch 447, lr 0.00017999999999999998: 100% 21/21 [00:12<00:00,  1.70it/s, 0 cls=0.15748, 1 cls=0.22523, 2 cls=0.18940, bce=0.06490, dice=0.85310, loss=-0.79780]\n"
     ]
    },
    {
     "name": "stdout",
     "output_type": "stream",
     "text": [
      "loss: -0.84728 | bce: 0.03316 | dice: 0.86784 | 0 cls: 0.11001 | 1 cls: 0.15415 | 2 cls: 0.13171\n"
     ]
    },
    {
     "name": "stderr",
     "output_type": "stream",
     "text": [
      "Epoch 448, lr 0.00017999999999999998: 100% 21/21 [00:12<00:00,  1.70it/s, 0 cls=0.16081, 1 cls=0.23170, 2 cls=0.19461, bce=0.06640, dice=0.84985, loss=-0.79324]\n"
     ]
    },
    {
     "name": "stdout",
     "output_type": "stream",
     "text": [
      "loss: -0.83888 | bce: 0.03477 | dice: 0.86023 | 0 cls: 0.11811 | 1 cls: 0.16103 | 2 cls: 0.13712\n"
     ]
    },
    {
     "name": "stderr",
     "output_type": "stream",
     "text": [
      "Epoch 449, lr 0.00017999999999999998: 100% 21/21 [00:12<00:00,  1.68it/s, 0 cls=0.15820, 1 cls=0.23051, 2 cls=0.19292, bce=0.06587, dice=0.85110, loss=-0.79487]\n"
     ]
    },
    {
     "name": "stdout",
     "output_type": "stream",
     "text": [
      "loss: -0.84339 | bce: 0.03397 | dice: 0.86455 | 0 cls: 0.11491 | 1 cls: 0.15617 | 2 cls: 0.13370\n"
     ]
    },
    {
     "name": "stderr",
     "output_type": "stream",
     "text": [
      "Epoch 450, lr 0.00017999999999999998: 100% 21/21 [00:12<00:00,  1.67it/s, 0 cls=0.16428, 1 cls=0.23326, 2 cls=0.19762, bce=0.06773, dice=0.84906, loss=-0.79109]\n"
     ]
    },
    {
     "name": "stdout",
     "output_type": "stream",
     "text": [
      "loss: -0.85051 | bce: 0.03101 | dice: 0.87066 | 0 cls: 0.10778 | 1 cls: 0.15277 | 2 cls: 0.12852\n"
     ]
    },
    {
     "name": "stderr",
     "output_type": "stream",
     "text": [
      "Epoch 451, lr 0.00017999999999999998: 100% 21/21 [00:12<00:00,  1.72it/s, 0 cls=0.15126, 1 cls=0.21966, 2 cls=0.18386, bce=0.06265, dice=0.85595, loss=-0.80327]\n"
     ]
    },
    {
     "name": "stdout",
     "output_type": "stream",
     "text": [
      "loss: -0.84918 | bce: 0.03310 | dice: 0.87055 | 0 cls: 0.10654 | 1 cls: 0.15706 | 2 cls: 0.12851\n"
     ]
    },
    {
     "name": "stderr",
     "output_type": "stream",
     "text": [
      "Epoch 452, lr 0.00017999999999999998: 100% 21/21 [00:12<00:00,  1.70it/s, 0 cls=0.15609, 1 cls=0.22418, 2 cls=0.18840, bce=0.06472, dice=0.85304, loss=-0.79864]\n"
     ]
    },
    {
     "name": "stdout",
     "output_type": "stream",
     "text": [
      "loss: -0.84347 | bce: 0.03451 | dice: 0.86483 | 0 cls: 0.11582 | 1 cls: 0.15410 | 2 cls: 0.13286\n"
     ]
    },
    {
     "name": "stderr",
     "output_type": "stream",
     "text": [
      "Epoch 453, lr 0.00017999999999999998: 100% 21/21 [00:12<00:00,  1.69it/s, 0 cls=0.16034, 1 cls=0.23057, 2 cls=0.19347, bce=0.06625, dice=0.85005, loss=-0.79377]\n"
     ]
    },
    {
     "name": "stdout",
     "output_type": "stream",
     "text": [
      "loss: -0.85156 | bce: 0.03095 | dice: 0.87222 | 0 cls: 0.10682 | 1 cls: 0.15144 | 2 cls: 0.12525\n"
     ]
    },
    {
     "name": "stderr",
     "output_type": "stream",
     "text": [
      "Epoch 454, lr 0.00017999999999999998: 100% 21/21 [00:12<00:00,  1.67it/s, 0 cls=0.15489, 1 cls=0.22697, 2 cls=0.18928, bce=0.06527, dice=0.85364, loss=-0.79801]\n"
     ]
    },
    {
     "name": "stdout",
     "output_type": "stream",
     "text": [
      "loss: -0.84787 | bce: 0.03226 | dice: 0.86839 | 0 cls: 0.11081 | 1 cls: 0.15277 | 2 cls: 0.12781\n"
     ]
    },
    {
     "name": "stderr",
     "output_type": "stream",
     "text": [
      "Epoch 455, lr 0.00017999999999999998: 100% 21/21 [00:12<00:00,  1.70it/s, 0 cls=0.15595, 1 cls=0.22411, 2 cls=0.18862, bce=0.06471, dice=0.85396, loss=-0.79899]\n"
     ]
    },
    {
     "name": "stdout",
     "output_type": "stream",
     "text": [
      "loss: -0.85231 | bce: 0.03084 | dice: 0.87297 | 0 cls: 0.10632 | 1 cls: 0.15062 | 2 cls: 0.12426\n"
     ]
    },
    {
     "name": "stderr",
     "output_type": "stream",
     "text": [
      "Epoch 456, lr 0.00017999999999999998: 100% 21/21 [00:12<00:00,  1.68it/s, 0 cls=0.14927, 1 cls=0.21813, 2 cls=0.18156, bce=0.06257, dice=0.85701, loss=-0.80443]\n"
     ]
    },
    {
     "name": "stdout",
     "output_type": "stream",
     "text": [
      "loss: -0.83803 | bce: 0.03575 | dice: 0.85944 | 0 cls: 0.12413 | 1 cls: 0.15360 | 2 cls: 0.13550\n"
     ]
    },
    {
     "name": "stderr",
     "output_type": "stream",
     "text": [
      "Epoch 457, lr 0.00017999999999999998: 100% 21/21 [00:12<00:00,  1.67it/s, 0 cls=0.16778, 1 cls=0.23209, 2 cls=0.19776, bce=0.06677, dice=0.84789, loss=-0.79056]\n"
     ]
    },
    {
     "name": "stdout",
     "output_type": "stream",
     "text": [
      "loss: -0.85078 | bce: 0.03097 | dice: 0.87075 | 0 cls: 0.10945 | 1 cls: 0.14939 | 2 cls: 0.12507\n"
     ]
    },
    {
     "name": "stderr",
     "output_type": "stream",
     "text": [
      "Epoch 458, lr 0.00017999999999999998: 100% 21/21 [00:12<00:00,  1.69it/s, 0 cls=0.16000, 1 cls=0.22594, 2 cls=0.19115, bce=0.06599, dice=0.85233, loss=-0.79624]\n"
     ]
    },
    {
     "name": "stdout",
     "output_type": "stream",
     "text": [
      "loss: -0.85300 | bce: 0.03022 | dice: 0.87270 | 0 cls: 0.10645 | 1 cls: 0.15109 | 2 cls: 0.12417\n"
     ]
    },
    {
     "name": "stderr",
     "output_type": "stream",
     "text": [
      "Epoch 459, lr 0.00017999999999999998: 100% 21/21 [00:12<00:00,  1.72it/s, 0 cls=0.15817, 1 cls=0.22672, 2 cls=0.19065, bce=0.06543, dice=0.85196, loss=-0.79653]\n"
     ]
    },
    {
     "name": "stdout",
     "output_type": "stream",
     "text": [
      "loss: -0.85212 | bce: 0.03130 | dice: 0.87250 | 0 cls: 0.10654 | 1 cls: 0.14957 | 2 cls: 0.12465\n"
     ]
    },
    {
     "name": "stderr",
     "output_type": "stream",
     "text": [
      "Epoch 460, lr 0.00017999999999999998: 100% 21/21 [00:12<00:00,  1.71it/s, 0 cls=0.16049, 1 cls=0.22656, 2 cls=0.19097, bce=0.06561, dice=0.85175, loss=-0.79592]\n"
     ]
    },
    {
     "name": "stdout",
     "output_type": "stream",
     "text": [
      "loss: -0.85694 | bce: 0.03044 | dice: 0.87680 | 0 cls: 0.10320 | 1 cls: 0.14592 | 2 cls: 0.12213\n"
     ]
    },
    {
     "name": "stderr",
     "output_type": "stream",
     "text": [
      "Epoch 461, lr 0.00017999999999999998: 100% 21/21 [00:12<00:00,  1.69it/s, 0 cls=0.16702, 1 cls=0.23235, 2 cls=0.19745, bce=0.06722, dice=0.84793, loss=-0.79052]\n"
     ]
    },
    {
     "name": "stdout",
     "output_type": "stream",
     "text": [
      "loss: -0.83672 | bce: 0.03564 | dice: 0.85880 | 0 cls: 0.12255 | 1 cls: 0.16031 | 2 cls: 0.13804\n"
     ]
    },
    {
     "name": "stderr",
     "output_type": "stream",
     "text": [
      "Epoch 462, lr 0.00017999999999999998: 100% 21/21 [00:12<00:00,  1.70it/s, 0 cls=0.15930, 1 cls=0.22845, 2 cls=0.19199, bce=0.06697, dice=0.85214, loss=-0.79513]\n"
     ]
    },
    {
     "name": "stdout",
     "output_type": "stream",
     "text": [
      "loss: -0.84993 | bce: 0.03046 | dice: 0.86888 | 0 cls: 0.10976 | 1 cls: 0.15205 | 2 cls: 0.12790\n"
     ]
    },
    {
     "name": "stderr",
     "output_type": "stream",
     "text": [
      "Epoch 463, lr 0.00017999999999999998: 100% 21/21 [00:12<00:00,  1.70it/s, 0 cls=0.15238, 1 cls=0.22223, 2 cls=0.18560, bce=0.06403, dice=0.85520, loss=-0.80118]\n"
     ]
    },
    {
     "name": "stdout",
     "output_type": "stream",
     "text": [
      "loss: -0.84735 | bce: 0.03225 | dice: 0.86830 | 0 cls: 0.11225 | 1 cls: 0.15206 | 2 cls: 0.12788\n"
     ]
    },
    {
     "name": "stderr",
     "output_type": "stream",
     "text": [
      "Epoch 464, lr 0.00017999999999999998: 100% 21/21 [00:12<00:00,  1.72it/s, 0 cls=0.15305, 1 cls=0.22158, 2 cls=0.18528, bce=0.06460, dice=0.85636, loss=-0.80142]\n"
     ]
    },
    {
     "name": "stdout",
     "output_type": "stream",
     "text": [
      "loss: -0.85233 | bce: 0.03015 | dice: 0.87146 | 0 cls: 0.10733 | 1 cls: 0.14870 | 2 cls: 0.12444\n"
     ]
    },
    {
     "name": "stderr",
     "output_type": "stream",
     "text": [
      "Epoch 465, lr 0.00017999999999999998: 100% 21/21 [00:12<00:00,  1.73it/s, 0 cls=0.15710, 1 cls=0.22761, 2 cls=0.19050, bce=0.06508, dice=0.85260, loss=-0.79703]\n"
     ]
    },
    {
     "name": "stdout",
     "output_type": "stream",
     "text": [
      "loss: -0.84925 | bce: 0.03172 | dice: 0.86994 | 0 cls: 0.10880 | 1 cls: 0.15341 | 2 cls: 0.12772\n"
     ]
    },
    {
     "name": "stderr",
     "output_type": "stream",
     "text": [
      "Epoch 466, lr 0.00017999999999999998: 100% 21/21 [00:12<00:00,  1.70it/s, 0 cls=0.15255, 1 cls=0.22148, 2 cls=0.18466, bce=0.06423, dice=0.85558, loss=-0.80141]\n"
     ]
    },
    {
     "name": "stdout",
     "output_type": "stream",
     "text": [
      "loss: -0.84160 | bce: 0.03440 | dice: 0.86283 | 0 cls: 0.11856 | 1 cls: 0.15406 | 2 cls: 0.13234\n"
     ]
    },
    {
     "name": "stderr",
     "output_type": "stream",
     "text": [
      "Epoch 467, lr 0.00017999999999999998: 100% 21/21 [00:12<00:00,  1.70it/s, 0 cls=0.15294, 1 cls=0.22430, 2 cls=0.18640, bce=0.06574, dice=0.85540, loss=-0.79968]\n"
     ]
    },
    {
     "name": "stdout",
     "output_type": "stream",
     "text": [
      "loss: -0.83933 | bce: 0.03377 | dice: 0.85964 | 0 cls: 0.11850 | 1 cls: 0.15918 | 2 cls: 0.13681\n"
     ]
    },
    {
     "name": "stderr",
     "output_type": "stream",
     "text": [
      "Epoch 468, lr 0.00017999999999999998: 100% 21/21 [00:12<00:00,  1.67it/s, 0 cls=0.15454, 1 cls=0.22482, 2 cls=0.18838, bce=0.06450, dice=0.85390, loss=-0.79922]\n"
     ]
    },
    {
     "name": "stdout",
     "output_type": "stream",
     "text": [
      "loss: -0.84720 | bce: 0.03198 | dice: 0.86686 | 0 cls: 0.11112 | 1 cls: 0.15318 | 2 cls: 0.12942\n"
     ]
    },
    {
     "name": "stderr",
     "output_type": "stream",
     "text": [
      "Epoch 469, lr 0.00017999999999999998: 100% 21/21 [00:12<00:00,  1.69it/s, 0 cls=0.15800, 1 cls=0.22567, 2 cls=0.18918, bce=0.06561, dice=0.85221, loss=-0.79676]\n"
     ]
    },
    {
     "name": "stdout",
     "output_type": "stream",
     "text": [
      "loss: -0.84622 | bce: 0.03161 | dice: 0.86646 | 0 cls: 0.11288 | 1 cls: 0.15359 | 2 cls: 0.12968\n"
     ]
    },
    {
     "name": "stderr",
     "output_type": "stream",
     "text": [
      "Epoch 470, lr 0.00017999999999999998: 100% 21/21 [00:12<00:00,  1.69it/s, 0 cls=0.15216, 1 cls=0.22265, 2 cls=0.18540, bce=0.06433, dice=0.85557, loss=-0.80104]\n"
     ]
    },
    {
     "name": "stdout",
     "output_type": "stream",
     "text": [
      "loss: -0.85284 | bce: 0.03038 | dice: 0.87220 | 0 cls: 0.10594 | 1 cls: 0.15001 | 2 cls: 0.12539\n"
     ]
    },
    {
     "name": "stderr",
     "output_type": "stream",
     "text": [
      "Epoch 471, lr 0.00017999999999999998: 100% 21/21 [00:12<00:00,  1.72it/s, 0 cls=0.15431, 1 cls=0.22726, 2 cls=0.18870, bce=0.06474, dice=0.85303, loss=-0.79802]\n"
     ]
    },
    {
     "name": "stdout",
     "output_type": "stream",
     "text": [
      "loss: -0.85232 | bce: 0.03213 | dice: 0.87351 | 0 cls: 0.10498 | 1 cls: 0.15243 | 2 cls: 0.12506\n"
     ]
    },
    {
     "name": "stderr",
     "output_type": "stream",
     "text": [
      "Epoch 472, lr 0.00017999999999999998: 100% 21/21 [00:12<00:00,  1.70it/s, 0 cls=0.15355, 1 cls=0.22426, 2 cls=0.18649, bce=0.06424, dice=0.85491, loss=-0.80007]\n"
     ]
    },
    {
     "name": "stdout",
     "output_type": "stream",
     "text": [
      "loss: -0.85609 | bce: 0.03041 | dice: 0.87599 | 0 cls: 0.10290 | 1 cls: 0.14732 | 2 cls: 0.12196\n"
     ]
    },
    {
     "name": "stderr",
     "output_type": "stream",
     "text": [
      "Epoch 473, lr 0.00017999999999999998: 100% 21/21 [00:12<00:00,  1.69it/s, 0 cls=0.15724, 1 cls=0.22960, 2 cls=0.19158, bce=0.06574, dice=0.85169, loss=-0.79561]\n"
     ]
    },
    {
     "name": "stdout",
     "output_type": "stream",
     "text": [
      "loss: -0.85541 | bce: 0.03053 | dice: 0.87475 | 0 cls: 0.10393 | 1 cls: 0.14757 | 2 cls: 0.12259\n"
     ]
    },
    {
     "name": "stderr",
     "output_type": "stream",
     "text": [
      "Epoch 474, lr 0.00017999999999999998: 100% 21/21 [00:12<00:00,  1.71it/s, 0 cls=0.15077, 1 cls=0.22103, 2 cls=0.18411, bce=0.06334, dice=0.85573, loss=-0.80237]\n"
     ]
    },
    {
     "name": "stdout",
     "output_type": "stream",
     "text": [
      "loss: -0.85248 | bce: 0.03027 | dice: 0.87234 | 0 cls: 0.10686 | 1 cls: 0.14908 | 2 cls: 0.12425\n"
     ]
    },
    {
     "name": "stderr",
     "output_type": "stream",
     "text": [
      "Epoch 475, lr 0.00017999999999999998: 100% 21/21 [00:12<00:00,  1.67it/s, 0 cls=0.15472, 1 cls=0.22123, 2 cls=0.18571, bce=0.06416, dice=0.85507, loss=-0.80084]\n"
     ]
    },
    {
     "name": "stdout",
     "output_type": "stream",
     "text": [
      "loss: -0.84967 | bce: 0.03082 | dice: 0.86909 | 0 cls: 0.11050 | 1 cls: 0.14950 | 2 cls: 0.12518\n"
     ]
    },
    {
     "name": "stderr",
     "output_type": "stream",
     "text": [
      "Epoch 476, lr 0.00017999999999999998: 100% 21/21 [00:12<00:00,  1.69it/s, 0 cls=0.15210, 1 cls=0.22050, 2 cls=0.18378, bce=0.06362, dice=0.85612, loss=-0.80225]\n"
     ]
    },
    {
     "name": "stdout",
     "output_type": "stream",
     "text": [
      "loss: -0.84922 | bce: 0.03088 | dice: 0.86898 | 0 cls: 0.10977 | 1 cls: 0.15196 | 2 cls: 0.12723\n"
     ]
    },
    {
     "name": "stderr",
     "output_type": "stream",
     "text": [
      "Epoch 477, lr 0.00017999999999999998: 100% 21/21 [00:12<00:00,  1.68it/s, 0 cls=0.15512, 1 cls=0.22311, 2 cls=0.18722, bce=0.06492, dice=0.85505, loss=-0.79978]\n"
     ]
    },
    {
     "name": "stdout",
     "output_type": "stream",
     "text": [
      "loss: -0.84969 | bce: 0.03127 | dice: 0.86938 | 0 cls: 0.11007 | 1 cls: 0.15060 | 2 cls: 0.12653\n"
     ]
    },
    {
     "name": "stderr",
     "output_type": "stream",
     "text": [
      "Epoch 478, lr 0.00017999999999999998: 100% 21/21 [00:12<00:00,  1.68it/s, 0 cls=0.15602, 1 cls=0.22594, 2 cls=0.18952, bce=0.06490, dice=0.85322, loss=-0.79809]\n"
     ]
    },
    {
     "name": "stdout",
     "output_type": "stream",
     "text": [
      "loss: -0.85304 | bce: 0.03032 | dice: 0.87296 | 0 cls: 0.10706 | 1 cls: 0.14712 | 2 cls: 0.12240\n"
     ]
    },
    {
     "name": "stderr",
     "output_type": "stream",
     "text": [
      "Epoch 479, lr 0.00017999999999999998: 100% 21/21 [00:12<00:00,  1.73it/s, 0 cls=0.15123, 1 cls=0.22103, 2 cls=0.18461, bce=0.06345, dice=0.85608, loss=-0.80241]\n"
     ]
    },
    {
     "name": "stdout",
     "output_type": "stream",
     "text": [
      "loss: -0.85013 | bce: 0.02998 | dice: 0.86878 | 0 cls: 0.10911 | 1 cls: 0.15234 | 2 cls: 0.12821\n"
     ]
    },
    {
     "name": "stderr",
     "output_type": "stream",
     "text": [
      "Epoch 480, lr 0.00017999999999999998: 100% 21/21 [00:12<00:00,  1.71it/s, 0 cls=0.15629, 1 cls=0.22844, 2 cls=0.19044, bce=0.06582, dice=0.85285, loss=-0.79671]\n"
     ]
    },
    {
     "name": "stdout",
     "output_type": "stream",
     "text": [
      "loss: -0.84581 | bce: 0.03102 | dice: 0.86567 | 0 cls: 0.11307 | 1 cls: 0.15573 | 2 cls: 0.13023\n"
     ]
    },
    {
     "name": "stderr",
     "output_type": "stream",
     "text": [
      "Epoch 481, lr 0.00017999999999999998: 100% 21/21 [00:12<00:00,  1.71it/s, 0 cls=0.16031, 1 cls=0.22919, 2 cls=0.19358, bce=0.06562, dice=0.85030, loss=-0.79470]\n"
     ]
    },
    {
     "name": "stdout",
     "output_type": "stream",
     "text": [
      "loss: -0.84829 | bce: 0.03225 | dice: 0.86807 | 0 cls: 0.11328 | 1 cls: 0.14779 | 2 cls: 0.12697\n"
     ]
    },
    {
     "name": "stderr",
     "output_type": "stream",
     "text": [
      "Epoch 482, lr 0.00017999999999999998: 100% 21/21 [00:12<00:00,  1.70it/s, 0 cls=0.15133, 1 cls=0.21873, 2 cls=0.18340, bce=0.06321, dice=0.85722, loss=-0.80363]\n"
     ]
    },
    {
     "name": "stdout",
     "output_type": "stream",
     "text": [
      "loss: -0.84582 | bce: 0.03219 | dice: 0.86689 | 0 cls: 0.11282 | 1 cls: 0.15806 | 2 cls: 0.13269\n"
     ]
    },
    {
     "name": "stderr",
     "output_type": "stream",
     "text": [
      "Epoch 483, lr 0.00017999999999999998: 100% 21/21 [00:12<00:00,  1.70it/s, 0 cls=0.14998, 1 cls=0.21800, 2 cls=0.18125, bce=0.06218, dice=0.85648, loss=-0.80428]\n"
     ]
    },
    {
     "name": "stdout",
     "output_type": "stream",
     "text": [
      "loss: -0.84198 | bce: 0.03253 | dice: 0.86255 | 0 cls: 0.11833 | 1 cls: 0.15509 | 2 cls: 0.13312\n"
     ]
    },
    {
     "name": "stderr",
     "output_type": "stream",
     "text": [
      "Epoch 484, lr 0.00017999999999999998: 100% 21/21 [00:12<00:00,  1.72it/s, 0 cls=0.15892, 1 cls=0.22493, 2 cls=0.19001, bce=0.06530, dice=0.85239, loss=-0.79710]\n"
     ]
    },
    {
     "name": "stdout",
     "output_type": "stream",
     "text": [
      "loss: -0.85231 | bce: 0.03044 | dice: 0.87173 | 0 cls: 0.10588 | 1 cls: 0.15262 | 2 cls: 0.12519\n"
     ]
    },
    {
     "name": "stderr",
     "output_type": "stream",
     "text": [
      "Epoch 485, lr 0.00017999999999999998: 100% 21/21 [00:12<00:00,  1.71it/s, 0 cls=0.14768, 1 cls=0.21599, 2 cls=0.18011, bce=0.06246, dice=0.85881, loss=-0.80634]\n"
     ]
    },
    {
     "name": "stdout",
     "output_type": "stream",
     "text": [
      "loss: -0.85000 | bce: 0.03106 | dice: 0.87009 | 0 cls: 0.10818 | 1 cls: 0.15282 | 2 cls: 0.12774\n"
     ]
    },
    {
     "name": "stderr",
     "output_type": "stream",
     "text": [
      "Epoch 486, lr 0.00017999999999999998: 100% 21/21 [00:12<00:00,  1.68it/s, 0 cls=0.15126, 1 cls=0.22251, 2 cls=0.18544, bce=0.06410, dice=0.85645, loss=-0.80184]\n"
     ]
    },
    {
     "name": "stdout",
     "output_type": "stream",
     "text": [
      "loss: -0.85059 | bce: 0.03216 | dice: 0.87142 | 0 cls: 0.10680 | 1 cls: 0.15301 | 2 cls: 0.12589\n"
     ]
    },
    {
     "name": "stderr",
     "output_type": "stream",
     "text": [
      "Epoch 487, lr 0.00017999999999999998: 100% 21/21 [00:12<00:00,  1.71it/s, 0 cls=0.15625, 1 cls=0.22606, 2 cls=0.18945, bce=0.06479, dice=0.85296, loss=-0.79790]\n"
     ]
    },
    {
     "name": "stdout",
     "output_type": "stream",
     "text": [
      "loss: -0.84337 | bce: 0.03175 | dice: 0.86334 | 0 cls: 0.11809 | 1 cls: 0.15244 | 2 cls: 0.13102\n"
     ]
    },
    {
     "name": "stderr",
     "output_type": "stream",
     "text": [
      "Epoch 488, lr 0.00017999999999999998: 100% 21/21 [00:12<00:00,  1.72it/s, 0 cls=0.14651, 1 cls=0.21532, 2 cls=0.17903, bce=0.06271, dice=0.86011, loss=-0.80722]\n"
     ]
    },
    {
     "name": "stdout",
     "output_type": "stream",
     "text": [
      "loss: -0.85205 | bce: 0.03182 | dice: 0.87263 | 0 cls: 0.10653 | 1 cls: 0.15046 | 2 cls: 0.12447\n"
     ]
    },
    {
     "name": "stderr",
     "output_type": "stream",
     "text": [
      "Epoch 489, lr 0.00017999999999999998: 100% 21/21 [00:12<00:00,  1.69it/s, 0 cls=0.14659, 1 cls=0.21915, 2 cls=0.18168, bce=0.06283, dice=0.85781, loss=-0.80499]\n"
     ]
    },
    {
     "name": "stdout",
     "output_type": "stream",
     "text": [
      "loss: -0.85512 | bce: 0.03120 | dice: 0.87553 | 0 cls: 0.10356 | 1 cls: 0.14830 | 2 cls: 0.12292\n"
     ]
    },
    {
     "name": "stderr",
     "output_type": "stream",
     "text": [
      "Epoch 490, lr 0.00017999999999999998: 100% 21/21 [00:12<00:00,  1.70it/s, 0 cls=0.15190, 1 cls=0.22059, 2 cls=0.18501, bce=0.06349, dice=0.85603, loss=-0.80240]\n"
     ]
    },
    {
     "name": "stdout",
     "output_type": "stream",
     "text": [
      "loss: -0.84024 | bce: 0.03469 | dice: 0.86120 | 0 cls: 0.12157 | 1 cls: 0.15287 | 2 cls: 0.13384\n"
     ]
    },
    {
     "name": "stderr",
     "output_type": "stream",
     "text": [
      "Epoch 491, lr 0.00017999999999999998: 100% 21/21 [00:12<00:00,  1.68it/s, 0 cls=0.15165, 1 cls=0.22273, 2 cls=0.18501, bce=0.06404, dice=0.85637, loss=-0.80167]\n"
     ]
    },
    {
     "name": "stdout",
     "output_type": "stream",
     "text": [
      "loss: -0.85333 | bce: 0.03007 | dice: 0.87276 | 0 cls: 0.10609 | 1 cls: 0.14960 | 2 cls: 0.12388\n"
     ]
    },
    {
     "name": "stderr",
     "output_type": "stream",
     "text": [
      "Epoch 492, lr 0.00017999999999999998: 100% 21/21 [00:12<00:00,  1.70it/s, 0 cls=0.14587, 1 cls=0.21733, 2 cls=0.18002, bce=0.06192, dice=0.85904, loss=-0.80672]\n"
     ]
    },
    {
     "name": "stdout",
     "output_type": "stream",
     "text": [
      "loss: -0.84861 | bce: 0.03181 | dice: 0.86858 | 0 cls: 0.11069 | 1 cls: 0.15124 | 2 cls: 0.12858\n"
     ]
    },
    {
     "name": "stderr",
     "output_type": "stream",
     "text": [
      "Epoch 493, lr 0.00017999999999999998: 100% 21/21 [00:12<00:00,  1.71it/s, 0 cls=0.15074, 1 cls=0.22205, 2 cls=0.18498, bce=0.06479, dice=0.85602, loss=-0.80160]\n"
     ]
    },
    {
     "name": "stdout",
     "output_type": "stream",
     "text": [
      "loss: -0.85358 | bce: 0.03070 | dice: 0.87255 | 0 cls: 0.10580 | 1 cls: 0.14800 | 2 cls: 0.12460\n"
     ]
    },
    {
     "name": "stderr",
     "output_type": "stream",
     "text": [
      "Epoch 494, lr 0.00017999999999999998: 100% 21/21 [00:12<00:00,  1.71it/s, 0 cls=0.16309, 1 cls=0.23167, 2 cls=0.19565, bce=0.06760, dice=0.85108, loss=-0.79250]\n"
     ]
    },
    {
     "name": "stdout",
     "output_type": "stream",
     "text": [
      "loss: -0.84627 | bce: 0.03276 | dice: 0.86719 | 0 cls: 0.11173 | 1 cls: 0.15716 | 2 cls: 0.13141\n"
     ]
    },
    {
     "name": "stderr",
     "output_type": "stream",
     "text": [
      "Epoch 495, lr 0.00017999999999999998: 100% 21/21 [00:12<00:00,  1.68it/s, 0 cls=0.15937, 1 cls=0.22968, 2 cls=0.19153, bce=0.06583, dice=0.85128, loss=-0.79500]\n"
     ]
    },
    {
     "name": "stdout",
     "output_type": "stream",
     "text": [
      "loss: -0.85699 | bce: 0.03091 | dice: 0.87608 | 0 cls: 0.10193 | 1 cls: 0.14580 | 2 cls: 0.12180\n"
     ]
    },
    {
     "name": "stderr",
     "output_type": "stream",
     "text": [
      "Epoch 496, lr 0.00017999999999999998: 100% 21/21 [00:12<00:00,  1.68it/s, 0 cls=0.15314, 1 cls=0.22401, 2 cls=0.18647, bce=0.06438, dice=0.85470, loss=-0.80011]\n"
     ]
    },
    {
     "name": "stdout",
     "output_type": "stream",
     "text": [
      "loss: -0.84936 | bce: 0.03086 | dice: 0.86919 | 0 cls: 0.11136 | 1 cls: 0.14929 | 2 cls: 0.12587\n"
     ]
    },
    {
     "name": "stderr",
     "output_type": "stream",
     "text": [
      "Epoch 497, lr 0.00017999999999999998: 100% 21/21 [00:12<00:00,  1.69it/s, 0 cls=0.15963, 1 cls=0.22905, 2 cls=0.19246, bce=0.06564, dice=0.85146, loss=-0.79545]\n"
     ]
    },
    {
     "name": "stdout",
     "output_type": "stream",
     "text": [
      "loss: -0.84079 | bce: 0.03390 | dice: 0.86118 | 0 cls: 0.12026 | 1 cls: 0.15368 | 2 cls: 0.13435\n"
     ]
    },
    {
     "name": "stderr",
     "output_type": "stream",
     "text": [
      "Epoch 498, lr 0.00017999999999999998: 100% 21/21 [00:12<00:00,  1.68it/s, 0 cls=0.15470, 1 cls=0.22687, 2 cls=0.18934, bce=0.06450, dice=0.85332, loss=-0.79826]\n"
     ]
    },
    {
     "name": "stdout",
     "output_type": "stream",
     "text": [
      "loss: -0.85106 | bce: 0.03141 | dice: 0.86991 | 0 cls: 0.10839 | 1 cls: 0.14936 | 2 cls: 0.12686\n"
     ]
    },
    {
     "name": "stderr",
     "output_type": "stream",
     "text": [
      "Epoch 499, lr 0.00017999999999999998: 100% 21/21 [00:12<00:00,  1.71it/s, 0 cls=0.15521, 1 cls=0.22482, 2 cls=0.18772, bce=0.06540, dice=0.85487, loss=-0.79899]\n"
     ]
    },
    {
     "name": "stdout",
     "output_type": "stream",
     "text": [
      "loss: -0.85173 | bce: 0.03056 | dice: 0.87148 | 0 cls: 0.10838 | 1 cls: 0.15005 | 2 cls: 0.12572\n"
     ]
    },
    {
     "name": "stderr",
     "output_type": "stream",
     "text": [
      "Epoch 500, lr 0.00017999999999999998: 100% 21/21 [00:12<00:00,  1.67it/s, 0 cls=0.15032, 1 cls=0.22155, 2 cls=0.18422, bce=0.06416, dice=0.85699, loss=-0.80260]\n"
     ]
    },
    {
     "name": "stdout",
     "output_type": "stream",
     "text": [
      "loss: -0.85499 | bce: 0.03091 | dice: 0.87495 | 0 cls: 0.10424 | 1 cls: 0.14750 | 2 cls: 0.12320\n"
     ]
    },
    {
     "name": "stderr",
     "output_type": "stream",
     "text": [
      "Epoch 501, lr 0.00017999999999999998: 100% 21/21 [00:12<00:00,  1.70it/s, 0 cls=0.15196, 1 cls=0.22309, 2 cls=0.18574, bce=0.06450, dice=0.85541, loss=-0.80088]\n"
     ]
    },
    {
     "name": "stdout",
     "output_type": "stream",
     "text": [
      "loss: -0.84761 | bce: 0.03312 | dice: 0.86780 | 0 cls: 0.11153 | 1 cls: 0.15171 | 2 cls: 0.12953\n"
     ]
    },
    {
     "name": "stderr",
     "output_type": "stream",
     "text": [
      "Epoch 502, lr 0.00017999999999999998: 100% 21/21 [00:12<00:00,  1.71it/s, 0 cls=0.15170, 1 cls=0.21886, 2 cls=0.18312, bce=0.06378, dice=0.85712, loss=-0.80314]\n"
     ]
    },
    {
     "name": "stdout",
     "output_type": "stream",
     "text": [
      "loss: -0.85215 | bce: 0.03066 | dice: 0.87167 | 0 cls: 0.10832 | 1 cls: 0.14753 | 2 cls: 0.12493\n"
     ]
    },
    {
     "name": "stderr",
     "output_type": "stream",
     "text": [
      "Epoch 503, lr 0.00017999999999999998: 100% 21/21 [00:12<00:00,  1.69it/s, 0 cls=0.16165, 1 cls=0.22798, 2 cls=0.19343, bce=0.06597, dice=0.84993, loss=-0.79440]\n"
     ]
    },
    {
     "name": "stdout",
     "output_type": "stream",
     "text": [
      "loss: -0.83747 | bce: 0.03573 | dice: 0.85904 | 0 cls: 0.12215 | 1 cls: 0.15749 | 2 cls: 0.13710\n"
     ]
    },
    {
     "name": "stderr",
     "output_type": "stream",
     "text": [
      "Epoch 504, lr 0.00017999999999999998: 100% 21/21 [00:12<00:00,  1.70it/s, 0 cls=0.14955, 1 cls=0.21972, 2 cls=0.18311, bce=0.06314, dice=0.85799, loss=-0.80419]\n"
     ]
    },
    {
     "name": "stdout",
     "output_type": "stream",
     "text": [
      "loss: -0.85312 | bce: 0.03059 | dice: 0.87307 | 0 cls: 0.10654 | 1 cls: 0.14791 | 2 cls: 0.12388\n"
     ]
    },
    {
     "name": "stderr",
     "output_type": "stream",
     "text": [
      "Epoch 505, lr 0.00017999999999999998: 100% 21/21 [00:12<00:00,  1.68it/s, 0 cls=0.15508, 1 cls=0.22477, 2 cls=0.18779, bce=0.06501, dice=0.85499, loss=-0.79943]\n"
     ]
    },
    {
     "name": "stdout",
     "output_type": "stream",
     "text": [
      "loss: -0.85232 | bce: 0.03173 | dice: 0.87303 | 0 cls: 0.10682 | 1 cls: 0.14918 | 2 cls: 0.12541\n"
     ]
    },
    {
     "name": "stderr",
     "output_type": "stream",
     "text": [
      "Epoch 506, lr 0.00017999999999999998: 100% 21/21 [00:12<00:00,  1.69it/s, 0 cls=0.15155, 1 cls=0.22192, 2 cls=0.18514, bce=0.06441, dice=0.85669, loss=-0.80185]\n"
     ]
    },
    {
     "name": "stdout",
     "output_type": "stream",
     "text": [
      "loss: -0.85119 | bce: 0.03020 | dice: 0.87035 | 0 cls: 0.10854 | 1 cls: 0.15018 | 2 cls: 0.12625\n"
     ]
    },
    {
     "name": "stderr",
     "output_type": "stream",
     "text": [
      "Epoch 507, lr 0.00017999999999999998: 100% 21/21 [00:12<00:00,  1.70it/s, 0 cls=0.15509, 1 cls=0.22366, 2 cls=0.18815, bce=0.06494, dice=0.85425, loss=-0.79942]\n"
     ]
    },
    {
     "name": "stdout",
     "output_type": "stream",
     "text": [
      "loss: -0.85334 | bce: 0.03184 | dice: 0.87305 | 0 cls: 0.10510 | 1 cls: 0.14856 | 2 cls: 0.12453\n"
     ]
    },
    {
     "name": "stderr",
     "output_type": "stream",
     "text": [
      "Epoch 508, lr 0.00017999999999999998: 100% 21/21 [00:12<00:00,  1.71it/s, 0 cls=0.15284, 1 cls=0.22484, 2 cls=0.18675, bce=0.06438, dice=0.85535, loss=-0.80025]\n"
     ]
    },
    {
     "name": "stdout",
     "output_type": "stream",
     "text": [
      "loss: -0.85230 | bce: 0.03159 | dice: 0.87307 | 0 cls: 0.10592 | 1 cls: 0.15167 | 2 cls: 0.12523\n"
     ]
    },
    {
     "name": "stderr",
     "output_type": "stream",
     "text": [
      "Epoch 509, lr 0.00017999999999999998: 100% 21/21 [00:12<00:00,  1.73it/s, 0 cls=0.14477, 1 cls=0.21520, 2 cls=0.17856, bce=0.06183, dice=0.85972, loss=-0.80803]\n"
     ]
    },
    {
     "name": "stdout",
     "output_type": "stream",
     "text": [
      "loss: -0.84935 | bce: 0.03098 | dice: 0.86889 | 0 cls: 0.11027 | 1 cls: 0.15045 | 2 cls: 0.12725\n"
     ]
    },
    {
     "name": "stderr",
     "output_type": "stream",
     "text": [
      "Epoch 510, lr 0.00017999999999999998: 100% 21/21 [00:12<00:00,  1.70it/s, 0 cls=0.15009, 1 cls=0.22252, 2 cls=0.18450, bce=0.06359, dice=0.85639, loss=-0.80233]\n"
     ]
    },
    {
     "name": "stdout",
     "output_type": "stream",
     "text": [
      "loss: -0.84721 | bce: 0.03205 | dice: 0.86722 | 0 cls: 0.11163 | 1 cls: 0.15390 | 2 cls: 0.12960\n"
     ]
    },
    {
     "name": "stderr",
     "output_type": "stream",
     "text": [
      "Epoch 511, lr 0.00017999999999999998: 100% 21/21 [00:12<00:00,  1.70it/s, 0 cls=0.15099, 1 cls=0.22098, 2 cls=0.18468, bce=0.06416, dice=0.85681, loss=-0.80253]\n"
     ]
    },
    {
     "name": "stdout",
     "output_type": "stream",
     "text": [
      "loss: -0.84383 | bce: 0.03238 | dice: 0.86480 | 0 cls: 0.11647 | 1 cls: 0.15436 | 2 cls: 0.13057\n"
     ]
    },
    {
     "name": "stderr",
     "output_type": "stream",
     "text": [
      "Epoch 512, lr 0.00017999999999999998: 100% 21/21 [00:12<00:00,  1.71it/s, 0 cls=0.15384, 1 cls=0.22354, 2 cls=0.18756, bce=0.06441, dice=0.85487, loss=-0.80025]\n"
     ]
    },
    {
     "name": "stdout",
     "output_type": "stream",
     "text": [
      "loss: -0.84757 | bce: 0.03122 | dice: 0.86873 | 0 cls: 0.11028 | 1 cls: 0.15554 | 2 cls: 0.12856\n"
     ]
    },
    {
     "name": "stderr",
     "output_type": "stream",
     "text": [
      "Epoch 513, lr 0.00017999999999999998: 100% 21/21 [00:12<00:00,  1.72it/s, 0 cls=0.15171, 1 cls=0.22108, 2 cls=0.18505, bce=0.06302, dice=0.85676, loss=-0.80283]\n"
     ]
    },
    {
     "name": "stdout",
     "output_type": "stream",
     "text": [
      "loss: -0.84631 | bce: 0.03310 | dice: 0.86701 | 0 cls: 0.11137 | 1 cls: 0.15508 | 2 cls: 0.13056\n"
     ]
    },
    {
     "name": "stderr",
     "output_type": "stream",
     "text": [
      "Epoch 514, lr 0.00017999999999999998: 100% 21/21 [00:12<00:00,  1.71it/s, 0 cls=0.15055, 1 cls=0.22014, 2 cls=0.18358, bce=0.06338, dice=0.85815, loss=-0.80386]\n"
     ]
    },
    {
     "name": "stdout",
     "output_type": "stream",
     "text": [
      "loss: -0.85293 | bce: 0.03170 | dice: 0.87327 | 0 cls: 0.10447 | 1 cls: 0.15165 | 2 cls: 0.12542\n"
     ]
    },
    {
     "name": "stderr",
     "output_type": "stream",
     "text": [
      "Epoch 515, lr 0.00017999999999999998: 100% 21/21 [00:12<00:00,  1.71it/s, 0 cls=0.14744, 1 cls=0.21906, 2 cls=0.18177, bce=0.06293, dice=0.85821, loss=-0.80501]\n"
     ]
    },
    {
     "name": "stdout",
     "output_type": "stream",
     "text": [
      "loss: -0.84812 | bce: 0.03238 | dice: 0.86912 | 0 cls: 0.10945 | 1 cls: 0.15533 | 2 cls: 0.12939\n"
     ]
    },
    {
     "name": "stderr",
     "output_type": "stream",
     "text": [
      "Epoch 516, lr 0.00017999999999999998: 100% 21/21 [00:12<00:00,  1.69it/s, 0 cls=0.14610, 1 cls=0.21514, 2 cls=0.17882, bce=0.06235, dice=0.86019, loss=-0.80755]\n"
     ]
    },
    {
     "name": "stdout",
     "output_type": "stream",
     "text": [
      "loss: -0.84985 | bce: 0.03161 | dice: 0.87115 | 0 cls: 0.10816 | 1 cls: 0.15462 | 2 cls: 0.12760\n"
     ]
    },
    {
     "name": "stderr",
     "output_type": "stream",
     "text": [
      "Epoch 517, lr 0.00017999999999999998: 100% 21/21 [00:12<00:00,  1.69it/s, 0 cls=0.14883, 1 cls=0.22172, 2 cls=0.18319, bce=0.06319, dice=0.85691, loss=-0.80321]\n"
     ]
    },
    {
     "name": "stdout",
     "output_type": "stream",
     "text": [
      "loss: -0.83344 | bce: 0.03503 | dice: 0.85379 | 0 cls: 0.12905 | 1 cls: 0.15713 | 2 cls: 0.14056\n"
     ]
    },
    {
     "name": "stderr",
     "output_type": "stream",
     "text": [
      "Epoch 518, lr 0.00017999999999999998: 100% 21/21 [00:12<00:00,  1.69it/s, 0 cls=0.15317, 1 cls=0.22545, 2 cls=0.18765, bce=0.06320, dice=0.85318, loss=-0.79959]\n"
     ]
    },
    {
     "name": "stdout",
     "output_type": "stream",
     "text": [
      "loss: -0.85459 | bce: 0.03147 | dice: 0.87403 | 0 cls: 0.10368 | 1 cls: 0.14820 | 2 cls: 0.12430\n"
     ]
    },
    {
     "name": "stderr",
     "output_type": "stream",
     "text": [
      "Epoch 519, lr 0.00017999999999999998: 100% 21/21 [00:12<00:00,  1.67it/s, 0 cls=0.14786, 1 cls=0.21931, 2 cls=0.18242, bce=0.06284, dice=0.85823, loss=-0.80489]\n"
     ]
    },
    {
     "name": "stdout",
     "output_type": "stream",
     "text": [
      "loss: -0.84576 | bce: 0.03323 | dice: 0.86594 | 0 cls: 0.11384 | 1 cls: 0.15275 | 2 cls: 0.13126\n"
     ]
    },
    {
     "name": "stderr",
     "output_type": "stream",
     "text": [
      "Epoch 520, lr 0.00017999999999999998: 100% 21/21 [00:12<00:00,  1.65it/s, 0 cls=0.14798, 1 cls=0.21985, 2 cls=0.18272, bce=0.06267, dice=0.85726, loss=-0.80438]\n"
     ]
    },
    {
     "name": "stdout",
     "output_type": "stream",
     "text": [
      "loss: -0.85282 | bce: 0.03082 | dice: 0.87285 | 0 cls: 0.10640 | 1 cls: 0.14926 | 2 cls: 0.12437\n"
     ]
    },
    {
     "name": "stderr",
     "output_type": "stream",
     "text": [
      "Epoch 521, lr 0.00017999999999999998: 100% 21/21 [00:12<00:00,  1.64it/s, 0 cls=0.14839, 1 cls=0.22027, 2 cls=0.18293, bce=0.06378, dice=0.85876, loss=-0.80441]\n"
     ]
    },
    {
     "name": "stdout",
     "output_type": "stream",
     "text": [
      "loss: -0.84056 | bce: 0.03481 | dice: 0.86092 | 0 cls: 0.12148 | 1 cls: 0.15139 | 2 cls: 0.13584\n"
     ]
    },
    {
     "name": "stderr",
     "output_type": "stream",
     "text": [
      "Epoch 522, lr 0.00017999999999999998: 100% 21/21 [00:12<00:00,  1.71it/s, 0 cls=0.14154, 1 cls=0.20990, 2 cls=0.17364, bce=0.06036, dice=0.86295, loss=-0.81224]\n"
     ]
    },
    {
     "name": "stdout",
     "output_type": "stream",
     "text": [
      "loss: -0.85164 | bce: 0.03162 | dice: 0.87140 | 0 cls: 0.10739 | 1 cls: 0.15068 | 2 cls: 0.12646\n"
     ]
    },
    {
     "name": "stderr",
     "output_type": "stream",
     "text": [
      "Epoch 523, lr 0.00017999999999999998: 100% 21/21 [00:12<00:00,  1.70it/s, 0 cls=0.15223, 1 cls=0.21918, 2 cls=0.18407, bce=0.06394, dice=0.85690, loss=-0.80284]\n"
     ]
    },
    {
     "name": "stdout",
     "output_type": "stream",
     "text": [
      "loss: -0.85237 | bce: 0.03053 | dice: 0.87126 | 0 cls: 0.10832 | 1 cls: 0.14647 | 2 cls: 0.12586\n"
     ]
    },
    {
     "name": "stderr",
     "output_type": "stream",
     "text": [
      "Epoch 524, lr 0.00017999999999999998: 100% 21/21 [00:12<00:00,  1.68it/s, 0 cls=0.15948, 1 cls=0.22614, 2 cls=0.19139, bce=0.06594, dice=0.85269, loss=-0.79653]\n"
     ]
    },
    {
     "name": "stdout",
     "output_type": "stream",
     "text": [
      "loss: -0.85106 | bce: 0.03239 | dice: 0.87214 | 0 cls: 0.10867 | 1 cls: 0.15117 | 2 cls: 0.12851\n"
     ]
    },
    {
     "name": "stderr",
     "output_type": "stream",
     "text": [
      "Epoch 525, lr 0.00017999999999999998: 100% 21/21 [00:12<00:00,  1.66it/s, 0 cls=0.14940, 1 cls=0.22062, 2 cls=0.18331, bce=0.06319, dice=0.85701, loss=-0.80352]\n"
     ]
    },
    {
     "name": "stdout",
     "output_type": "stream",
     "text": [
      "loss: -0.85362 | bce: 0.03252 | dice: 0.87543 | 0 cls: 0.10460 | 1 cls: 0.15021 | 2 cls: 0.12378\n"
     ]
    },
    {
     "name": "stderr",
     "output_type": "stream",
     "text": [
      "Epoch 526, lr 0.00017999999999999998: 100% 21/21 [00:12<00:00,  1.70it/s, 0 cls=0.15943, 1 cls=0.22538, 2 cls=0.19153, bce=0.06470, dice=0.85196, loss=-0.79715]\n"
     ]
    },
    {
     "name": "stdout",
     "output_type": "stream",
     "text": [
      "loss: -0.85091 | bce: 0.03130 | dice: 0.87096 | 0 cls: 0.10810 | 1 cls: 0.15154 | 2 cls: 0.12583\n"
     ]
    },
    {
     "name": "stderr",
     "output_type": "stream",
     "text": [
      "Epoch 527, lr 0.00017999999999999998: 100% 21/21 [00:12<00:00,  1.69it/s, 0 cls=0.15052, 1 cls=0.21846, 2 cls=0.18189, bce=0.06357, dice=0.85710, loss=-0.80364]\n"
     ]
    },
    {
     "name": "stdout",
     "output_type": "stream",
     "text": [
      "loss: -0.84944 | bce: 0.03261 | dice: 0.87053 | 0 cls: 0.11150 | 1 cls: 0.14898 | 2 cls: 0.12536\n"
     ]
    },
    {
     "name": "stderr",
     "output_type": "stream",
     "text": [
      "Epoch 528, lr 0.00017999999999999998: 100% 21/21 [00:12<00:00,  1.69it/s, 0 cls=0.15163, 1 cls=0.22197, 2 cls=0.18478, bce=0.06352, dice=0.85574, loss=-0.80192]\n"
     ]
    },
    {
     "name": "stdout",
     "output_type": "stream",
     "text": [
      "loss: -0.84839 | bce: 0.03137 | dice: 0.86872 | 0 cls: 0.11112 | 1 cls: 0.15215 | 2 cls: 0.12673\n"
     ]
    },
    {
     "name": "stderr",
     "output_type": "stream",
     "text": [
      "Epoch 529, lr 0.00017999999999999998: 100% 21/21 [00:12<00:00,  1.70it/s, 0 cls=0.14731, 1 cls=0.21916, 2 cls=0.18202, bce=0.06283, dice=0.85808, loss=-0.80495]\n"
     ]
    },
    {
     "name": "stdout",
     "output_type": "stream",
     "text": [
      "loss: -0.84394 | bce: 0.03378 | dice: 0.86414 | 0 cls: 0.11530 | 1 cls: 0.15361 | 2 cls: 0.13224\n"
     ]
    },
    {
     "name": "stderr",
     "output_type": "stream",
     "text": [
      "Epoch 530, lr 0.00017999999999999998: 100% 21/21 [00:12<00:00,  1.64it/s, 0 cls=0.15433, 1 cls=0.22547, 2 cls=0.18775, bce=0.06517, dice=0.85495, loss=-0.79927]\n"
     ]
    },
    {
     "name": "stdout",
     "output_type": "stream",
     "text": [
      "loss: -0.85150 | bce: 0.03169 | dice: 0.87233 | 0 cls: 0.10792 | 1 cls: 0.14987 | 2 cls: 0.12453\n"
     ]
    },
    {
     "name": "stderr",
     "output_type": "stream",
     "text": [
      "Epoch 531, lr 0.00017999999999999998: 100% 21/21 [00:12<00:00,  1.68it/s, 0 cls=0.14688, 1 cls=0.21328, 2 cls=0.17862, bce=0.06232, dice=0.86092, loss=-0.80829]\n"
     ]
    },
    {
     "name": "stdout",
     "output_type": "stream",
     "text": [
      "loss: -0.84472 | bce: 0.03323 | dice: 0.86612 | 0 cls: 0.11411 | 1 cls: 0.15423 | 2 cls: 0.13029\n"
     ]
    },
    {
     "name": "stderr",
     "output_type": "stream",
     "text": [
      "Epoch 532, lr 0.00017999999999999998: 100% 21/21 [00:12<00:00,  1.71it/s, 0 cls=0.14810, 1 cls=0.21748, 2 cls=0.18089, bce=0.06302, dice=0.85929, loss=-0.80582]\n"
     ]
    },
    {
     "name": "stdout",
     "output_type": "stream",
     "text": [
      "loss: -0.84341 | bce: 0.03348 | dice: 0.86414 | 0 cls: 0.11328 | 1 cls: 0.15765 | 2 cls: 0.13314\n"
     ]
    },
    {
     "name": "stderr",
     "output_type": "stream",
     "text": [
      "Epoch 533, lr 0.00017999999999999998: 100% 21/21 [00:12<00:00,  1.70it/s, 0 cls=0.14411, 1 cls=0.21604, 2 cls=0.17879, bce=0.06184, dice=0.86030, loss=-0.80807]\n"
     ]
    },
    {
     "name": "stdout",
     "output_type": "stream",
     "text": [
      "loss: -0.85324 | bce: 0.03104 | dice: 0.87298 | 0 cls: 0.10631 | 1 cls: 0.14827 | 2 cls: 0.12523\n"
     ]
    },
    {
     "name": "stderr",
     "output_type": "stream",
     "text": [
      "Epoch 534, lr 0.00017999999999999998: 100% 21/21 [00:12<00:00,  1.67it/s, 0 cls=0.14873, 1 cls=0.22024, 2 cls=0.18353, bce=0.06271, dice=0.85687, loss=-0.80388]\n"
     ]
    },
    {
     "name": "stdout",
     "output_type": "stream",
     "text": [
      "loss: -0.84361 | bce: 0.03352 | dice: 0.86395 | 0 cls: 0.11725 | 1 cls: 0.15191 | 2 cls: 0.13168\n"
     ]
    },
    {
     "name": "stderr",
     "output_type": "stream",
     "text": [
      "Epoch 535, lr 0.00017999999999999998: 100% 21/21 [00:12<00:00,  1.67it/s, 0 cls=0.15074, 1 cls=0.21856, 2 cls=0.18332, bce=0.06352, dice=0.85756, loss=-0.80387]\n"
     ]
    },
    {
     "name": "stdout",
     "output_type": "stream",
     "text": [
      "loss: -0.84191 | bce: 0.03195 | dice: 0.86100 | 0 cls: 0.11847 | 1 cls: 0.15528 | 2 cls: 0.13426\n"
     ]
    },
    {
     "name": "stderr",
     "output_type": "stream",
     "text": [
      "Epoch 536, lr 0.00017999999999999998: 100% 21/21 [00:12<00:00,  1.68it/s, 0 cls=0.14836, 1 cls=0.21863, 2 cls=0.18176, bce=0.06272, dice=0.85854, loss=-0.80524]\n"
     ]
    },
    {
     "name": "stdout",
     "output_type": "stream",
     "text": [
      "loss: -0.84336 | bce: 0.03429 | dice: 0.86412 | 0 cls: 0.11767 | 1 cls: 0.15125 | 2 cls: 0.13214\n"
     ]
    },
    {
     "name": "stderr",
     "output_type": "stream",
     "text": [
      "Epoch 537, lr 0.00017999999999999998: 100% 21/21 [00:12<00:00,  1.69it/s, 0 cls=0.15463, 1 cls=0.22099, 2 cls=0.18664, bce=0.06346, dice=0.85569, loss=-0.80170]\n"
     ]
    },
    {
     "name": "stdout",
     "output_type": "stream",
     "text": [
      "loss: -0.85172 | bce: 0.03186 | dice: 0.87169 | 0 cls: 0.10954 | 1 cls: 0.14615 | 2 cls: 0.12408\n"
     ]
    },
    {
     "name": "stderr",
     "output_type": "stream",
     "text": [
      "Epoch 538, lr 0.00017999999999999998: 100% 21/21 [00:12<00:00,  1.68it/s, 0 cls=0.15212, 1 cls=0.22142, 2 cls=0.18565, bce=0.06449, dice=0.85649, loss=-0.80185]\n"
     ]
    },
    {
     "name": "stdout",
     "output_type": "stream",
     "text": [
      "loss: -0.84702 | bce: 0.03159 | dice: 0.86788 | 0 cls: 0.11040 | 1 cls: 0.15791 | 2 cls: 0.13110\n"
     ]
    },
    {
     "name": "stderr",
     "output_type": "stream",
     "text": [
      "Epoch 539, lr 0.00017999999999999998: 100% 21/21 [00:12<00:00,  1.69it/s, 0 cls=0.14620, 1 cls=0.21711, 2 cls=0.18010, bce=0.06182, dice=0.85933, loss=-0.80701]\n"
     ]
    },
    {
     "name": "stdout",
     "output_type": "stream",
     "text": [
      "loss: -0.85424 | bce: 0.02964 | dice: 0.87353 | 0 cls: 0.10514 | 1 cls: 0.14824 | 2 cls: 0.12262\n"
     ]
    },
    {
     "name": "stderr",
     "output_type": "stream",
     "text": [
      "Epoch 540, lr 0.00017999999999999998: 100% 21/21 [00:12<00:00,  1.71it/s, 0 cls=0.15094, 1 cls=0.22217, 2 cls=0.18547, bce=0.06321, dice=0.85623, loss=-0.80240]\n"
     ]
    },
    {
     "name": "stdout",
     "output_type": "stream",
     "text": [
      "loss: -0.84849 | bce: 0.03342 | dice: 0.86939 | 0 cls: 0.10842 | 1 cls: 0.15397 | 2 cls: 0.12769\n"
     ]
    },
    {
     "name": "stderr",
     "output_type": "stream",
     "text": [
      "Epoch 541, lr 0.00017999999999999998: 100% 21/21 [00:12<00:00,  1.69it/s, 0 cls=0.15172, 1 cls=0.21738, 2 cls=0.18326, bce=0.06324, dice=0.85777, loss=-0.80430]\n"
     ]
    },
    {
     "name": "stdout",
     "output_type": "stream",
     "text": [
      "loss: -0.84552 | bce: 0.03305 | dice: 0.86765 | 0 cls: 0.11310 | 1 cls: 0.15496 | 2 cls: 0.12965\n"
     ]
    },
    {
     "name": "stderr",
     "output_type": "stream",
     "text": [
      "Epoch 542, lr 0.00017999999999999998: 100% 21/21 [00:12<00:00,  1.69it/s, 0 cls=0.15354, 1 cls=0.22409, 2 cls=0.18733, bce=0.06384, dice=0.85527, loss=-0.80057]\n"
     ]
    },
    {
     "name": "stdout",
     "output_type": "stream",
     "text": [
      "loss: -0.85017 | bce: 0.03096 | dice: 0.87027 | 0 cls: 0.11081 | 1 cls: 0.14955 | 2 cls: 0.12476\n"
     ]
    },
    {
     "name": "stderr",
     "output_type": "stream",
     "text": [
      "Epoch 543, lr 0.00017999999999999998: 100% 21/21 [00:12<00:00,  1.68it/s, 0 cls=0.15330, 1 cls=0.22401, 2 cls=0.18716, bce=0.06454, dice=0.85534, loss=-0.80033]\n"
     ]
    },
    {
     "name": "stdout",
     "output_type": "stream",
     "text": [
      "loss: -0.84260 | bce: 0.03424 | dice: 0.86544 | 0 cls: 0.11423 | 1 cls: 0.16013 | 2 cls: 0.13326\n"
     ]
    },
    {
     "name": "stderr",
     "output_type": "stream",
     "text": [
      "Epoch 544, lr 0.00017999999999999998: 100% 21/21 [00:12<00:00,  1.70it/s, 0 cls=0.15131, 1 cls=0.22228, 2 cls=0.18521, bce=0.06368, dice=0.85661, loss=-0.80233]\n"
     ]
    },
    {
     "name": "stdout",
     "output_type": "stream",
     "text": [
      "loss: -0.84780 | bce: 0.03300 | dice: 0.86841 | 0 cls: 0.10808 | 1 cls: 0.15637 | 2 cls: 0.13017\n"
     ]
    },
    {
     "name": "stderr",
     "output_type": "stream",
     "text": [
      "Epoch 545, lr 0.00017999999999999998: 100% 21/21 [00:12<00:00,  1.69it/s, 0 cls=0.14504, 1 cls=0.21435, 2 cls=0.17824, bce=0.06198, dice=0.86072, loss=-0.80840]\n"
     ]
    },
    {
     "name": "stdout",
     "output_type": "stream",
     "text": [
      "loss: -0.84538 | bce: 0.03403 | dice: 0.86729 | 0 cls: 0.11565 | 1 cls: 0.15667 | 2 cls: 0.12978\n"
     ]
    },
    {
     "name": "stderr",
     "output_type": "stream",
     "text": [
      "Epoch 546, lr 0.00017999999999999998: 100% 21/21 [00:12<00:00,  1.70it/s, 0 cls=0.15460, 1 cls=0.22467, 2 cls=0.18860, bce=0.06566, dice=0.85536, loss=-0.79940]\n"
     ]
    },
    {
     "name": "stdout",
     "output_type": "stream",
     "text": [
      "loss: -0.84502 | bce: 0.03319 | dice: 0.86586 | 0 cls: 0.11621 | 1 cls: 0.15032 | 2 cls: 0.12913\n"
     ]
    },
    {
     "name": "stderr",
     "output_type": "stream",
     "text": [
      "Epoch 547, lr 0.00017999999999999998: 100% 21/21 [00:12<00:00,  1.69it/s, 0 cls=0.13923, 1 cls=0.21237, 2 cls=0.17415, bce=0.06061, dice=0.86350, loss=-0.81216]\n"
     ]
    },
    {
     "name": "stdout",
     "output_type": "stream",
     "text": [
      "loss: -0.85138 | bce: 0.03163 | dice: 0.87201 | 0 cls: 0.11008 | 1 cls: 0.14658 | 2 cls: 0.12349\n"
     ]
    },
    {
     "name": "stderr",
     "output_type": "stream",
     "text": [
      "Epoch 548, lr 0.00017999999999999998: 100% 21/21 [00:12<00:00,  1.72it/s, 0 cls=0.14588, 1 cls=0.21619, 2 cls=0.17953, bce=0.06195, dice=0.85991, loss=-0.80744]\n"
     ]
    },
    {
     "name": "stdout",
     "output_type": "stream",
     "text": [
      "loss: -0.84727 | bce: 0.03187 | dice: 0.86787 | 0 cls: 0.11083 | 1 cls: 0.15507 | 2 cls: 0.12968\n"
     ]
    },
    {
     "name": "stderr",
     "output_type": "stream",
     "text": [
      "Epoch 549, lr 0.00017999999999999998: 100% 21/21 [00:12<00:00,  1.68it/s, 0 cls=0.15064, 1 cls=0.22065, 2 cls=0.18459, bce=0.06429, dice=0.85732, loss=-0.80280]\n"
     ]
    },
    {
     "name": "stdout",
     "output_type": "stream",
     "text": [
      "loss: -0.84961 | bce: 0.03188 | dice: 0.86980 | 0 cls: 0.10893 | 1 cls: 0.15255 | 2 cls: 0.12707\n"
     ]
    },
    {
     "name": "stderr",
     "output_type": "stream",
     "text": [
      "Epoch 550, lr 0.00017999999999999998: 100% 21/21 [00:12<00:00,  1.71it/s, 0 cls=0.14866, 1 cls=0.21781, 2 cls=0.18204, bce=0.06328, dice=0.85891, loss=-0.80520]\n"
     ]
    },
    {
     "name": "stdout",
     "output_type": "stream",
     "text": [
      "loss: -0.84931 | bce: 0.03079 | dice: 0.86784 | 0 cls: 0.11172 | 1 cls: 0.14870 | 2 cls: 0.12800\n"
     ]
    },
    {
     "name": "stderr",
     "output_type": "stream",
     "text": [
      "Epoch 551, lr 0.00017999999999999998: 100% 21/21 [00:12<00:00,  1.69it/s, 0 cls=0.14771, 1 cls=0.21541, 2 cls=0.17997, bce=0.06293, dice=0.86028, loss=-0.80691]\n"
     ]
    },
    {
     "name": "stdout",
     "output_type": "stream",
     "text": [
      "loss: -0.85259 | bce: 0.03020 | dice: 0.87331 | 0 cls: 0.10523 | 1 cls: 0.15256 | 2 cls: 0.12397\n"
     ]
    },
    {
     "name": "stderr",
     "output_type": "stream",
     "text": [
      "Epoch 552, lr 0.00017999999999999998: 100% 21/21 [00:12<00:00,  1.68it/s, 0 cls=0.15213, 1 cls=0.22110, 2 cls=0.18490, bce=0.06406, dice=0.85621, loss=-0.80199]\n"
     ]
    },
    {
     "name": "stdout",
     "output_type": "stream",
     "text": [
      "loss: -0.85204 | bce: 0.03190 | dice: 0.87167 | 0 cls: 0.10800 | 1 cls: 0.14825 | 2 cls: 0.12672\n"
     ]
    },
    {
     "name": "stderr",
     "output_type": "stream",
     "text": [
      "Epoch 553, lr 0.00017999999999999998: 100% 21/21 [00:12<00:00,  1.72it/s, 0 cls=0.14860, 1 cls=0.21522, 2 cls=0.18089, bce=0.06301, dice=0.85919, loss=-0.80622]\n"
     ]
    },
    {
     "name": "stdout",
     "output_type": "stream",
     "text": [
      "loss: -0.85026 | bce: 0.03179 | dice: 0.87025 | 0 cls: 0.10991 | 1 cls: 0.14881 | 2 cls: 0.12636\n"
     ]
    },
    {
     "name": "stderr",
     "output_type": "stream",
     "text": [
      "Epoch 554, lr 0.00017999999999999998: 100% 21/21 [00:12<00:00,  1.69it/s, 0 cls=0.14994, 1 cls=0.21939, 2 cls=0.18251, bce=0.06229, dice=0.85683, loss=-0.80405]\n"
     ]
    },
    {
     "name": "stdout",
     "output_type": "stream",
     "text": [
      "loss: -0.84408 | bce: 0.03391 | dice: 0.86548 | 0 cls: 0.11531 | 1 cls: 0.15442 | 2 cls: 0.13139\n"
     ]
    },
    {
     "name": "stderr",
     "output_type": "stream",
     "text": [
      "Epoch 555, lr 0.00017999999999999998: 100% 21/21 [00:12<00:00,  1.71it/s, 0 cls=0.14804, 1 cls=0.21852, 2 cls=0.18145, bce=0.06287, dice=0.85838, loss=-0.80514]\n"
     ]
    },
    {
     "name": "stdout",
     "output_type": "stream",
     "text": [
      "loss: -0.84874 | bce: 0.03176 | dice: 0.86857 | 0 cls: 0.11197 | 1 cls: 0.14976 | 2 cls: 0.12806\n"
     ]
    },
    {
     "name": "stderr",
     "output_type": "stream",
     "text": [
      "Epoch 556, lr 0.00017999999999999998: 100% 21/21 [00:12<00:00,  1.68it/s, 0 cls=0.14917, 1 cls=0.22101, 2 cls=0.18381, bce=0.06380, dice=0.85803, loss=-0.80363]\n"
     ]
    },
    {
     "name": "stdout",
     "output_type": "stream",
     "text": [
      "loss: -0.84771 | bce: 0.03165 | dice: 0.86847 | 0 cls: 0.11184 | 1 cls: 0.15189 | 2 cls: 0.12794\n"
     ]
    },
    {
     "name": "stderr",
     "output_type": "stream",
     "text": [
      "Epoch 557, lr 0.00017999999999999998: 100% 21/21 [00:12<00:00,  1.71it/s, 0 cls=0.15132, 1 cls=0.21857, 2 cls=0.18332, bce=0.06340, dice=0.85723, loss=-0.80363]\n"
     ]
    },
    {
     "name": "stdout",
     "output_type": "stream",
     "text": [
      "loss: -0.85278 | bce: 0.03118 | dice: 0.87243 | 0 cls: 0.10659 | 1 cls: 0.14886 | 2 cls: 0.12489\n"
     ]
    },
    {
     "name": "stderr",
     "output_type": "stream",
     "text": [
      "Epoch 558, lr 0.00017999999999999998: 100% 21/21 [00:12<00:00,  1.71it/s, 0 cls=0.14564, 1 cls=0.21278, 2 cls=0.17760, bce=0.06200, dice=0.86081, loss=-0.80880]\n"
     ]
    },
    {
     "name": "stdout",
     "output_type": "stream",
     "text": [
      "loss: -0.83932 | bce: 0.03568 | dice: 0.86055 | 0 cls: 0.12248 | 1 cls: 0.15292 | 2 cls: 0.13531\n"
     ]
    },
    {
     "name": "stderr",
     "output_type": "stream",
     "text": [
      "Epoch 559, lr 0.00017999999999999998: 100% 21/21 [00:12<00:00,  1.68it/s, 0 cls=0.14681, 1 cls=0.21593, 2 cls=0.18001, bce=0.06199, dice=0.85978, loss=-0.80714]\n"
     ]
    },
    {
     "name": "stdout",
     "output_type": "stream",
     "text": [
      "loss: -0.83866 | bce: 0.03461 | dice: 0.85996 | 0 cls: 0.11756 | 1 cls: 0.16346 | 2 cls: 0.13882\n"
     ]
    },
    {
     "name": "stderr",
     "output_type": "stream",
     "text": [
      "Epoch 560, lr 0.00017999999999999998: 100% 21/21 [00:12<00:00,  1.66it/s, 0 cls=0.15457, 1 cls=0.22392, 2 cls=0.18787, bce=0.06522, dice=0.85567, loss=-0.79994]\n"
     ]
    },
    {
     "name": "stdout",
     "output_type": "stream",
     "text": [
      "loss: -0.84240 | bce: 0.03468 | dice: 0.86304 | 0 cls: 0.11699 | 1 cls: 0.15469 | 2 cls: 0.13511\n"
     ]
    },
    {
     "name": "stderr",
     "output_type": "stream",
     "text": [
      "Epoch 561, lr 0.00017999999999999998: 100% 21/21 [00:12<00:00,  1.69it/s, 0 cls=0.15060, 1 cls=0.21824, 2 cls=0.18308, bce=0.06281, dice=0.85757, loss=-0.80450]\n"
     ]
    },
    {
     "name": "stdout",
     "output_type": "stream",
     "text": [
      "loss: -0.84856 | bce: 0.03070 | dice: 0.86847 | 0 cls: 0.10919 | 1 cls: 0.15540 | 2 cls: 0.12862\n"
     ]
    },
    {
     "name": "stderr",
     "output_type": "stream",
     "text": [
      "Epoch 562, lr 0.00017999999999999998: 100% 21/21 [00:12<00:00,  1.68it/s, 0 cls=0.15133, 1 cls=0.22255, 2 cls=0.18638, bce=0.06389, dice=0.85681, loss=-0.80215]\n"
     ]
    },
    {
     "name": "stdout",
     "output_type": "stream",
     "text": [
      "loss: -0.84446 | bce: 0.03303 | dice: 0.86450 | 0 cls: 0.11394 | 1 cls: 0.15633 | 2 cls: 0.13368\n"
     ]
    },
    {
     "name": "stderr",
     "output_type": "stream",
     "text": [
      "Epoch 563, lr 0.00017999999999999998: 100% 21/21 [00:12<00:00,  1.68it/s, 0 cls=0.15007, 1 cls=0.21726, 2 cls=0.18225, bce=0.06356, dice=0.85842, loss=-0.80469]\n"
     ]
    },
    {
     "name": "stdout",
     "output_type": "stream",
     "text": [
      "loss: -0.83638 | bce: 0.03458 | dice: 0.85728 | 0 cls: 0.12100 | 1 cls: 0.16359 | 2 cls: 0.14095\n"
     ]
    },
    {
     "name": "stderr",
     "output_type": "stream",
     "text": [
      "Epoch 564, lr 0.00017999999999999998: 100% 21/21 [00:12<00:00,  1.69it/s, 0 cls=0.14979, 1 cls=0.21992, 2 cls=0.18377, bce=0.06324, dice=0.85729, loss=-0.80379]\n"
     ]
    },
    {
     "name": "stdout",
     "output_type": "stream",
     "text": [
      "loss: -0.85127 | bce: 0.03136 | dice: 0.87228 | 0 cls: 0.10681 | 1 cls: 0.15181 | 2 cls: 0.12764\n"
     ]
    },
    {
     "name": "stderr",
     "output_type": "stream",
     "text": [
      "Epoch 565, lr 0.00017999999999999998: 100% 21/21 [00:12<00:00,  1.68it/s, 0 cls=0.15074, 1 cls=0.21927, 2 cls=0.18332, bce=0.06382, dice=0.85796, loss=-0.80367]\n"
     ]
    },
    {
     "name": "stdout",
     "output_type": "stream",
     "text": [
      "loss: -0.85139 | bce: 0.03089 | dice: 0.87012 | 0 cls: 0.10866 | 1 cls: 0.14952 | 2 cls: 0.12717\n"
     ]
    },
    {
     "name": "stderr",
     "output_type": "stream",
     "text": [
      "Epoch 566, lr 0.00017999999999999998: 100% 21/21 [00:12<00:00,  1.68it/s, 0 cls=0.15809, 1 cls=0.22587, 2 cls=0.19002, bce=0.06394, dice=0.85175, loss=-0.79749]\n"
     ]
    },
    {
     "name": "stdout",
     "output_type": "stream",
     "text": [
      "loss: -0.85230 | bce: 0.03227 | dice: 0.87469 | 0 cls: 0.10769 | 1 cls: 0.14889 | 2 cls: 0.12318\n"
     ]
    },
    {
     "name": "stderr",
     "output_type": "stream",
     "text": [
      "Epoch 567, lr 0.00017999999999999998: 100% 21/21 [00:12<00:00,  1.69it/s, 0 cls=0.14655, 1 cls=0.21671, 2 cls=0.18032, bce=0.06321, dice=0.86032, loss=-0.80668]\n"
     ]
    },
    {
     "name": "stdout",
     "output_type": "stream",
     "text": [
      "loss: -0.84852 | bce: 0.03032 | dice: 0.86827 | 0 cls: 0.11053 | 1 cls: 0.15452 | 2 cls: 0.12841\n"
     ]
    },
    {
     "name": "stderr",
     "output_type": "stream",
     "text": [
      "Epoch 568, lr 0.00017999999999999998: 100% 21/21 [00:12<00:00,  1.65it/s, 0 cls=0.15153, 1 cls=0.22135, 2 cls=0.18445, bce=0.06345, dice=0.85616, loss=-0.80239]\n"
     ]
    },
    {
     "name": "stdout",
     "output_type": "stream",
     "text": [
      "loss: -0.84248 | bce: 0.03396 | dice: 0.86230 | 0 cls: 0.11952 | 1 cls: 0.15117 | 2 cls: 0.13399\n"
     ]
    },
    {
     "name": "stderr",
     "output_type": "stream",
     "text": [
      "Epoch 569, lr 0.00017999999999999998: 100% 21/21 [00:12<00:00,  1.70it/s, 0 cls=0.14376, 1 cls=0.21307, 2 cls=0.17722, bce=0.06093, dice=0.86081, loss=-0.80970]\n"
     ]
    },
    {
     "name": "stdout",
     "output_type": "stream",
     "text": [
      "loss: -0.85379 | bce: 0.03183 | dice: 0.87416 | 0 cls: 0.10404 | 1 cls: 0.15002 | 2 cls: 0.12518\n"
     ]
    },
    {
     "name": "stderr",
     "output_type": "stream",
     "text": [
      "Epoch 570, lr 0.00017999999999999998: 100% 21/21 [00:12<00:00,  1.71it/s, 0 cls=0.14895, 1 cls=0.22051, 2 cls=0.18385, bce=0.06296, dice=0.85785, loss=-0.80415]\n"
     ]
    },
    {
     "name": "stdout",
     "output_type": "stream",
     "text": [
      "loss: -0.83908 | bce: 0.03480 | dice: 0.86031 | 0 cls: 0.12087 | 1 cls: 0.15703 | 2 cls: 0.13581\n"
     ]
    },
    {
     "name": "stderr",
     "output_type": "stream",
     "text": [
      "Epoch 571, lr 0.00017999999999999998: 100% 21/21 [00:12<00:00,  1.68it/s, 0 cls=0.15151, 1 cls=0.21915, 2 cls=0.18427, bce=0.06352, dice=0.85705, loss=-0.80342]\n"
     ]
    },
    {
     "name": "stdout",
     "output_type": "stream",
     "text": [
      "loss: -0.85135 | bce: 0.03157 | dice: 0.87060 | 0 cls: 0.10615 | 1 cls: 0.15134 | 2 cls: 0.12799\n"
     ]
    },
    {
     "name": "stderr",
     "output_type": "stream",
     "text": [
      "Epoch 572, lr 0.00017999999999999998: 100% 21/21 [00:12<00:00,  1.70it/s, 0 cls=0.14358, 1 cls=0.21634, 2 cls=0.17817, bce=0.06100, dice=0.85987, loss=-0.80830]\n"
     ]
    },
    {
     "name": "stdout",
     "output_type": "stream",
     "text": [
      "loss: -0.85294 | bce: 0.03093 | dice: 0.87328 | 0 cls: 0.10644 | 1 cls: 0.14903 | 2 cls: 0.12537\n"
     ]
    },
    {
     "name": "stderr",
     "output_type": "stream",
     "text": [
      "Epoch 573, lr 0.00017999999999999998: 100% 21/21 [00:12<00:00,  1.73it/s, 0 cls=0.15454, 1 cls=0.22466, 2 cls=0.18810, bce=0.06379, dice=0.85375, loss=-0.79958]\n"
     ]
    },
    {
     "name": "stdout",
     "output_type": "stream",
     "text": [
      "loss: -0.84943 | bce: 0.03183 | dice: 0.86896 | 0 cls: 0.11198 | 1 cls: 0.14804 | 2 cls: 0.12710\n"
     ]
    },
    {
     "name": "stderr",
     "output_type": "stream",
     "text": [
      "Epoch 574, lr 0.00017999999999999998: 100% 21/21 [00:12<00:00,  1.66it/s, 0 cls=0.15364, 1 cls=0.22053, 2 cls=0.18505, bce=0.06267, dice=0.85555, loss=-0.80229]\n"
     ]
    },
    {
     "name": "stdout",
     "output_type": "stream",
     "text": [
      "loss: -0.84667 | bce: 0.03278 | dice: 0.86703 | 0 cls: 0.11352 | 1 cls: 0.15135 | 2 cls: 0.12995\n"
     ]
    },
    {
     "name": "stderr",
     "output_type": "stream",
     "text": [
      "Epoch 575, lr 0.00017999999999999998: 100% 21/21 [00:12<00:00,  1.70it/s, 0 cls=0.15169, 1 cls=0.22217, 2 cls=0.18499, bce=0.06369, dice=0.85616, loss=-0.80191]\n"
     ]
    },
    {
     "name": "stdout",
     "output_type": "stream",
     "text": [
      "loss: -0.85209 | bce: 0.03077 | dice: 0.87243 | 0 cls: 0.10712 | 1 cls: 0.15060 | 2 cls: 0.12759\n"
     ]
    },
    {
     "name": "stderr",
     "output_type": "stream",
     "text": [
      "Epoch 576, lr 0.00017999999999999998: 100% 21/21 [00:12<00:00,  1.70it/s, 0 cls=0.14677, 1 cls=0.21858, 2 cls=0.18078, bce=0.06377, dice=0.85981, loss=-0.80567]\n"
     ]
    },
    {
     "name": "stdout",
     "output_type": "stream",
     "text": [
      "loss: -0.84728 | bce: 0.03169 | dice: 0.86709 | 0 cls: 0.11282 | 1 cls: 0.15230 | 2 cls: 0.12887\n"
     ]
    },
    {
     "name": "stderr",
     "output_type": "stream",
     "text": [
      "Epoch 577, lr 0.00017999999999999998: 100% 21/21 [00:12<00:00,  1.71it/s, 0 cls=0.14613, 1 cls=0.21671, 2 cls=0.17948, bce=0.06158, dice=0.85922, loss=-0.80701]\n"
     ]
    },
    {
     "name": "stdout",
     "output_type": "stream",
     "text": [
      "loss: -0.84571 | bce: 0.03516 | dice: 0.86786 | 0 cls: 0.11401 | 1 cls: 0.15184 | 2 cls: 0.13133\n"
     ]
    },
    {
     "name": "stderr",
     "output_type": "stream",
     "text": [
      "Epoch 578, lr 0.00017999999999999998: 100% 21/21 [00:12<00:00,  1.69it/s, 0 cls=0.14854, 1 cls=0.21627, 2 cls=0.18082, bce=0.06277, dice=0.85927, loss=-0.80618]\n"
     ]
    },
    {
     "name": "stdout",
     "output_type": "stream",
     "text": [
      "loss: -0.83877 | bce: 0.03431 | dice: 0.85894 | 0 cls: 0.12225 | 1 cls: 0.15552 | 2 cls: 0.13699\n"
     ]
    },
    {
     "name": "stderr",
     "output_type": "stream",
     "text": [
      "Epoch 579, lr 0.00017999999999999998: 100% 21/21 [00:12<00:00,  1.70it/s, 0 cls=0.14664, 1 cls=0.21505, 2 cls=0.17890, bce=0.06191, dice=0.86012, loss=-0.80766]\n"
     ]
    },
    {
     "name": "stdout",
     "output_type": "stream",
     "text": [
      "loss: -0.84669 | bce: 0.03391 | dice: 0.86763 | 0 cls: 0.11328 | 1 cls: 0.15039 | 2 cls: 0.12959\n"
     ]
    },
    {
     "name": "stderr",
     "output_type": "stream",
     "text": [
      "Epoch 580, lr 0.00017999999999999998: 100% 21/21 [00:12<00:00,  1.67it/s, 0 cls=0.14834, 1 cls=0.21622, 2 cls=0.18124, bce=0.06238, dice=0.85881, loss=-0.80623]\n"
     ]
    },
    {
     "name": "stdout",
     "output_type": "stream",
     "text": [
      "loss: -0.84847 | bce: 0.03242 | dice: 0.86852 | 0 cls: 0.11142 | 1 cls: 0.15075 | 2 cls: 0.12914\n"
     ]
    },
    {
     "name": "stderr",
     "output_type": "stream",
     "text": [
      "Epoch 581, lr 0.00017999999999999998: 100% 21/21 [00:12<00:00,  1.69it/s, 0 cls=0.14922, 1 cls=0.21774, 2 cls=0.18225, bce=0.06236, dice=0.85808, loss=-0.80524]\n"
     ]
    },
    {
     "name": "stdout",
     "output_type": "stream",
     "text": [
      "loss: -0.85153 | bce: 0.03218 | dice: 0.87179 | 0 cls: 0.10687 | 1 cls: 0.15104 | 2 cls: 0.12697\n"
     ]
    },
    {
     "name": "stderr",
     "output_type": "stream",
     "text": [
      "Epoch 582, lr 0.00017999999999999998: 100% 21/21 [00:12<00:00,  1.67it/s, 0 cls=0.14438, 1 cls=0.21333, 2 cls=0.17749, bce=0.06223, dice=0.86100, loss=-0.80886]\n"
     ]
    },
    {
     "name": "stdout",
     "output_type": "stream",
     "text": [
      "loss: -0.84985 | bce: 0.03187 | dice: 0.87082 | 0 cls: 0.10930 | 1 cls: 0.15281 | 2 cls: 0.12739\n"
     ]
    },
    {
     "name": "stderr",
     "output_type": "stream",
     "text": [
      "Epoch 583, lr 0.00017999999999999998: 100% 21/21 [00:12<00:00,  1.68it/s, 0 cls=0.15088, 1 cls=0.22339, 2 cls=0.18584, bce=0.06333, dice=0.85590, loss=-0.80188]\n"
     ]
    },
    {
     "name": "stdout",
     "output_type": "stream",
     "text": [
      "loss: -0.84796 | bce: 0.03231 | dice: 0.86987 | 0 cls: 0.11060 | 1 cls: 0.15307 | 2 cls: 0.12742\n"
     ]
    },
    {
     "name": "stderr",
     "output_type": "stream",
     "text": [
      "Epoch 584, lr 0.00017999999999999998: 100% 21/21 [00:12<00:00,  1.67it/s, 0 cls=0.14829, 1 cls=0.21938, 2 cls=0.18218, bce=0.06278, dice=0.85871, loss=-0.80506]\n"
     ]
    },
    {
     "name": "stdout",
     "output_type": "stream",
     "text": [
      "loss: -0.84862 | bce: 0.02998 | dice: 0.86840 | 0 cls: 0.11090 | 1 cls: 0.15361 | 2 cls: 0.12897\n"
     ]
    },
    {
     "name": "stderr",
     "output_type": "stream",
     "text": [
      "Epoch 585, lr 0.00017999999999999998: 100% 21/21 [00:12<00:00,  1.68it/s, 0 cls=0.15245, 1 cls=0.22286, 2 cls=0.18692, bce=0.06529, dice=0.85613, loss=-0.80076]\n"
     ]
    },
    {
     "name": "stdout",
     "output_type": "stream",
     "text": [
      "loss: -0.84246 | bce: 0.03178 | dice: 0.86196 | 0 cls: 0.11790 | 1 cls: 0.15432 | 2 cls: 0.13387\n"
     ]
    },
    {
     "name": "stderr",
     "output_type": "stream",
     "text": [
      "Epoch 586, lr 0.00017999999999999998: 100% 21/21 [00:12<00:00,  1.68it/s, 0 cls=0.14616, 1 cls=0.21165, 2 cls=0.17775, bce=0.06037, dice=0.85959, loss=-0.80923]\n"
     ]
    },
    {
     "name": "stdout",
     "output_type": "stream",
     "text": [
      "loss: -0.84984 | bce: 0.03281 | dice: 0.87058 | 0 cls: 0.10945 | 1 cls: 0.15004 | 2 cls: 0.12774\n"
     ]
    },
    {
     "name": "stderr",
     "output_type": "stream",
     "text": [
      "Epoch 587, lr 0.00017999999999999998: 100% 21/21 [00:12<00:00,  1.69it/s, 0 cls=0.14790, 1 cls=0.21933, 2 cls=0.18099, bce=0.06297, dice=0.85826, loss=-0.80486]\n"
     ]
    },
    {
     "name": "stdout",
     "output_type": "stream",
     "text": [
      "loss: -0.84423 | bce: 0.03238 | dice: 0.86375 | 0 cls: 0.11311 | 1 cls: 0.15803 | 2 cls: 0.13393\n"
     ]
    },
    {
     "name": "stderr",
     "output_type": "stream",
     "text": [
      "Epoch 588, lr 0.00017999999999999998: 100% 21/21 [00:12<00:00,  1.72it/s, 0 cls=0.15011, 1 cls=0.22001, 2 cls=0.18348, bce=0.06230, dice=0.85695, loss=-0.80401]\n"
     ]
    },
    {
     "name": "stdout",
     "output_type": "stream",
     "text": [
      "loss: -0.85379 | bce: 0.03187 | dice: 0.87524 | 0 cls: 0.10530 | 1 cls: 0.14929 | 2 cls: 0.12409\n"
     ]
    },
    {
     "name": "stderr",
     "output_type": "stream",
     "text": [
      "Epoch 589, lr 0.00017999999999999998: 100% 21/21 [00:12<00:00,  1.70it/s, 0 cls=0.14572, 1 cls=0.21637, 2 cls=0.17991, bce=0.06279, dice=0.85972, loss=-0.80682]\n"
     ]
    },
    {
     "name": "stdout",
     "output_type": "stream",
     "text": [
      "loss: -0.85247 | bce: 0.03244 | dice: 0.87293 | 0 cls: 0.10743 | 1 cls: 0.14852 | 2 cls: 0.12586\n"
     ]
    },
    {
     "name": "stderr",
     "output_type": "stream",
     "text": [
      "Epoch 590, lr 0.00098: 100% 21/21 [00:12<00:00,  1.69it/s, 0 cls=0.16203, 1 cls=0.23120, 2 cls=0.19389, bce=0.06756, dice=0.84890, loss=-0.79189]\n"
     ]
    },
    {
     "name": "stdout",
     "output_type": "stream",
     "text": [
      "loss: -0.80762 | bce: 0.04057 | dice: 0.82910 | 0 cls: 0.15829 | 1 cls: 0.17251 | 2 cls: 0.16052\n"
     ]
    },
    {
     "name": "stderr",
     "output_type": "stream",
     "text": [
      "Epoch 591, lr 0.00098: 100% 21/21 [00:12<00:00,  1.70it/s, 0 cls=0.19870, 1 cls=0.27093, 2 cls=0.23237, bce=0.07931, dice=0.82541, loss=-0.75689]\n"
     ]
    },
    {
     "name": "stdout",
     "output_type": "stream",
     "text": [
      "loss: -0.81290 | bce: 0.04146 | dice: 0.83769 | 0 cls: 0.14714 | 1 cls: 0.18668 | 2 cls: 0.16022\n"
     ]
    },
    {
     "name": "stderr",
     "output_type": "stream",
     "text": [
      "Epoch 592, lr 0.000294: 100% 21/21 [00:12<00:00,  1.71it/s, 0 cls=0.17821, 1 cls=0.25303, 2 cls=0.21097, bce=0.07280, dice=0.83676, loss=-0.77424]\n"
     ]
    },
    {
     "name": "stdout",
     "output_type": "stream",
     "text": [
      "loss: -0.84201 | bce: 0.03125 | dice: 0.86146 | 0 cls: 0.11685 | 1 cls: 0.15888 | 2 cls: 0.13333\n"
     ]
    },
    {
     "name": "stderr",
     "output_type": "stream",
     "text": [
      "Epoch 593, lr 0.000294: 100% 21/21 [00:12<00:00,  1.71it/s, 0 cls=0.16730, 1 cls=0.23562, 2 cls=0.19931, bce=0.06806, dice=0.84613, loss=-0.78821]\n"
     ]
    },
    {
     "name": "stdout",
     "output_type": "stream",
     "text": [
      "loss: -0.82494 | bce: 0.04137 | dice: 0.85012 | 0 cls: 0.13506 | 1 cls: 0.16559 | 2 cls: 0.14772\n"
     ]
    },
    {
     "name": "stderr",
     "output_type": "stream",
     "text": [
      "Epoch 594, lr 8.819999999999999e-05: 100% 21/21 [00:12<00:00,  1.69it/s, 0 cls=0.16092, 1 cls=0.23071, 2 cls=0.19470, bce=0.06709, dice=0.84965, loss=-0.79303]\n"
     ]
    },
    {
     "name": "stdout",
     "output_type": "stream",
     "text": [
      "loss: -0.84094 | bce: 0.03341 | dice: 0.86139 | 0 cls: 0.11645 | 1 cls: 0.16002 | 2 cls: 0.13503\n"
     ]
    },
    {
     "name": "stderr",
     "output_type": "stream",
     "text": [
      "Epoch 595, lr 0.00098: 100% 21/21 [00:12<00:00,  1.70it/s, 0 cls=0.16779, 1 cls=0.24063, 2 cls=0.20173, bce=0.06924, dice=0.84468, loss=-0.78538]\n"
     ]
    },
    {
     "name": "stdout",
     "output_type": "stream",
     "text": [
      "loss: -0.84801 | bce: 0.03232 | dice: 0.86925 | 0 cls: 0.10959 | 1 cls: 0.15390 | 2 cls: 0.12730\n"
     ]
    },
    {
     "name": "stderr",
     "output_type": "stream",
     "text": [
      "Epoch 596, lr 0.00098: 100% 21/21 [00:12<00:00,  1.69it/s, 0 cls=0.17730, 1 cls=0.25149, 2 cls=0.21215, bce=0.07165, dice=0.83651, loss=-0.77542]\n"
     ]
    },
    {
     "name": "stdout",
     "output_type": "stream",
     "text": [
      "loss: -0.80965 | bce: 0.04801 | dice: 0.83827 | 0 cls: 0.14780 | 1 cls: 0.18266 | 2 cls: 0.16935\n"
     ]
    },
    {
     "name": "stderr",
     "output_type": "stream",
     "text": [
      "Epoch 597, lr 0.000294: 100% 21/21 [00:12<00:00,  1.68it/s, 0 cls=0.17699, 1 cls=0.24170, 2 cls=0.20575, bce=0.07130, dice=0.84183, loss=-0.78077]\n"
     ]
    },
    {
     "name": "stdout",
     "output_type": "stream",
     "text": [
      "loss: -0.83916 | bce: 0.03475 | dice: 0.86137 | 0 cls: 0.12027 | 1 cls: 0.16410 | 2 cls: 0.13196\n"
     ]
    },
    {
     "name": "stderr",
     "output_type": "stream",
     "text": [
      "Epoch 598, lr 0.000294: 100% 21/21 [00:12<00:00,  1.71it/s, 0 cls=0.16715, 1 cls=0.23431, 2 cls=0.19717, bce=0.06767, dice=0.84595, loss=-0.78862]\n"
     ]
    },
    {
     "name": "stdout",
     "output_type": "stream",
     "text": [
      "loss: -0.83606 | bce: 0.03428 | dice: 0.85704 | 0 cls: 0.12298 | 1 cls: 0.15898 | 2 cls: 0.13632\n"
     ]
    },
    {
     "name": "stderr",
     "output_type": "stream",
     "text": [
      "Epoch 599, lr 8.819999999999999e-05: 100% 21/21 [00:12<00:00,  1.71it/s, 0 cls=0.16170, 1 cls=0.22790, 2 cls=0.19198, bce=0.06647, dice=0.85036, loss=-0.79414]\n"
     ]
    },
    {
     "name": "stdout",
     "output_type": "stream",
     "text": [
      "loss: -0.84807 | bce: 0.03269 | dice: 0.86937 | 0 cls: 0.11182 | 1 cls: 0.15138 | 2 cls: 0.12626\n"
     ]
    },
    {
     "name": "stderr",
     "output_type": "stream",
     "text": [
      "Epoch 600, lr 0.00010799999999999998: 100% 21/21 [00:12<00:00,  1.68it/s, 0 cls=0.16097, 1 cls=0.23041, 2 cls=0.19325, bce=0.06709, dice=0.85036, loss=-0.79338]\n"
     ]
    },
    {
     "name": "stdout",
     "output_type": "stream",
     "text": [
      "loss: -0.85087 | bce: 0.03110 | dice: 0.87148 | 0 cls: 0.10865 | 1 cls: 0.15100 | 2 cls: 0.12423\n"
     ]
    },
    {
     "name": "stderr",
     "output_type": "stream",
     "text": [
      "Epoch 601, lr 0.00010799999999999998: 100% 21/21 [00:12<00:00,  1.68it/s, 0 cls=0.15977, 1 cls=0.23177, 2 cls=0.19356, bce=0.06628, dice=0.85124, loss=-0.79412]\n"
     ]
    },
    {
     "name": "stdout",
     "output_type": "stream",
     "text": [
      "loss: -0.84744 | bce: 0.03198 | dice: 0.86856 | 0 cls: 0.11159 | 1 cls: 0.15561 | 2 cls: 0.12759\n"
     ]
    },
    {
     "name": "stderr",
     "output_type": "stream",
     "text": [
      "Epoch 602, lr 0.00010799999999999998: 100% 21/21 [00:12<00:00,  1.68it/s, 0 cls=0.16267, 1 cls=0.23060, 2 cls=0.19490, bce=0.06648, dice=0.84952, loss=-0.79306]\n"
     ]
    },
    {
     "name": "stdout",
     "output_type": "stream",
     "text": [
      "loss: -0.85104 | bce: 0.03154 | dice: 0.87100 | 0 cls: 0.10942 | 1 cls: 0.14868 | 2 cls: 0.12463\n"
     ]
    },
    {
     "name": "stderr",
     "output_type": "stream",
     "text": [
      "Epoch 603, lr 0.00010799999999999998: 100% 21/21 [00:12<00:00,  1.71it/s, 0 cls=0.16438, 1 cls=0.23470, 2 cls=0.19829, bce=0.06689, dice=0.84825, loss=-0.79057]\n"
     ]
    },
    {
     "name": "stdout",
     "output_type": "stream",
     "text": [
      "loss: -0.84796 | bce: 0.03209 | dice: 0.86829 | 0 cls: 0.11173 | 1 cls: 0.15153 | 2 cls: 0.12764\n"
     ]
    },
    {
     "name": "stderr",
     "output_type": "stream",
     "text": [
      "Epoch 604, lr 0.00010799999999999998: 100% 21/21 [00:12<00:00,  1.73it/s, 0 cls=0.15832, 1 cls=0.22729, 2 cls=0.19026, bce=0.06591, dice=0.85328, loss=-0.79673]\n"
     ]
    },
    {
     "name": "stdout",
     "output_type": "stream",
     "text": [
      "loss: -0.85074 | bce: 0.03134 | dice: 0.87108 | 0 cls: 0.10824 | 1 cls: 0.15229 | 2 cls: 0.12588\n"
     ]
    },
    {
     "name": "stderr",
     "output_type": "stream",
     "text": [
      "Epoch 605, lr 0.00010799999999999998: 100% 21/21 [00:12<00:00,  1.70it/s, 0 cls=0.15270, 1 cls=0.22166, 2 cls=0.18526, bce=0.06412, dice=0.85585, loss=-0.80156]\n"
     ]
    },
    {
     "name": "stdout",
     "output_type": "stream",
     "text": [
      "loss: -0.84783 | bce: 0.03258 | dice: 0.86863 | 0 cls: 0.11142 | 1 cls: 0.15259 | 2 cls: 0.12890\n"
     ]
    },
    {
     "name": "stderr",
     "output_type": "stream",
     "text": [
      "Epoch 606, lr 0.00010799999999999998: 100% 21/21 [00:12<00:00,  1.68it/s, 0 cls=0.16193, 1 cls=0.22799, 2 cls=0.19301, bce=0.06662, dice=0.85151, loss=-0.79460]\n"
     ]
    },
    {
     "name": "stdout",
     "output_type": "stream",
     "text": [
      "loss: -0.84880 | bce: 0.03168 | dice: 0.86884 | 0 cls: 0.11019 | 1 cls: 0.15190 | 2 cls: 0.12818\n"
     ]
    },
    {
     "name": "stderr",
     "output_type": "stream",
     "text": [
      "Epoch 607, lr 0.00010799999999999998: 100% 21/21 [00:12<00:00,  1.70it/s, 0 cls=0.14981, 1 cls=0.21807, 2 cls=0.18207, bce=0.06341, dice=0.85842, loss=-0.80456]\n"
     ]
    },
    {
     "name": "stdout",
     "output_type": "stream",
     "text": [
      "loss: -0.85151 | bce: 0.03093 | dice: 0.87177 | 0 cls: 0.10819 | 1 cls: 0.15019 | 2 cls: 0.12513\n"
     ]
    },
    {
     "name": "stderr",
     "output_type": "stream",
     "text": [
      "Epoch 608, lr 0.00010799999999999998: 100% 21/21 [00:12<00:00,  1.71it/s, 0 cls=0.15598, 1 cls=0.22468, 2 cls=0.18820, bce=0.06492, dice=0.85406, loss=-0.79877]\n"
     ]
    },
    {
     "name": "stdout",
     "output_type": "stream",
     "text": [
      "loss: -0.85275 | bce: 0.03147 | dice: 0.87281 | 0 cls: 0.10673 | 1 cls: 0.14884 | 2 cls: 0.12429\n"
     ]
    },
    {
     "name": "stderr",
     "output_type": "stream",
     "text": [
      "Epoch 609, lr 0.00010799999999999998: 100% 21/21 [00:12<00:00,  1.71it/s, 0 cls=0.15453, 1 cls=0.22455, 2 cls=0.18850, bce=0.06491, dice=0.85517, loss=-0.79975]\n"
     ]
    },
    {
     "name": "stdout",
     "output_type": "stream",
     "text": [
      "loss: -0.84656 | bce: 0.03216 | dice: 0.86601 | 0 cls: 0.11175 | 1 cls: 0.15427 | 2 cls: 0.13163\n"
     ]
    },
    {
     "name": "stderr",
     "output_type": "stream",
     "text": [
      "Epoch 610, lr 0.00010799999999999998: 100% 21/21 [00:12<00:00,  1.69it/s, 0 cls=0.14699, 1 cls=0.21878, 2 cls=0.18119, bce=0.06209, dice=0.85776, loss=-0.80540]\n"
     ]
    },
    {
     "name": "stdout",
     "output_type": "stream",
     "text": [
      "loss: -0.85002 | bce: 0.03223 | dice: 0.87019 | 0 cls: 0.11035 | 1 cls: 0.14846 | 2 cls: 0.12624\n"
     ]
    },
    {
     "name": "stderr",
     "output_type": "stream",
     "text": [
      "Epoch 611, lr 0.00010799999999999998: 100% 21/21 [00:12<00:00,  1.71it/s, 0 cls=0.14769, 1 cls=0.21714, 2 cls=0.18081, bce=0.06264, dice=0.85922, loss=-0.80610]\n"
     ]
    },
    {
     "name": "stdout",
     "output_type": "stream",
     "text": [
      "loss: -0.84992 | bce: 0.03228 | dice: 0.87039 | 0 cls: 0.10973 | 1 cls: 0.15025 | 2 cls: 0.12732\n"
     ]
    },
    {
     "name": "stderr",
     "output_type": "stream",
     "text": [
      "Epoch 612, lr 0.00010799999999999998: 100% 21/21 [00:12<00:00,  1.71it/s, 0 cls=0.15327, 1 cls=0.22046, 2 cls=0.18501, bce=0.06470, dice=0.85708, loss=-0.80199]\n"
     ]
    },
    {
     "name": "stdout",
     "output_type": "stream",
     "text": [
      "loss: -0.85041 | bce: 0.03168 | dice: 0.87045 | 0 cls: 0.10956 | 1 cls: 0.14916 | 2 cls: 0.12603\n"
     ]
    },
    {
     "name": "stderr",
     "output_type": "stream",
     "text": [
      "Epoch 613, lr 0.00010799999999999998: 100% 21/21 [00:12<00:00,  1.70it/s, 0 cls=0.14487, 1 cls=0.21735, 2 cls=0.17918, bce=0.06229, dice=0.86025, loss=-0.80729]\n"
     ]
    },
    {
     "name": "stdout",
     "output_type": "stream",
     "text": [
      "loss: -0.84636 | bce: 0.03338 | dice: 0.86677 | 0 cls: 0.11379 | 1 cls: 0.15143 | 2 cls: 0.13059\n"
     ]
    },
    {
     "name": "stderr",
     "output_type": "stream",
     "text": [
      "Epoch 614, lr 0.00010799999999999998: 100% 21/21 [00:12<00:00,  1.68it/s, 0 cls=0.15162, 1 cls=0.22000, 2 cls=0.18449, bce=0.06255, dice=0.85642, loss=-0.80328]\n"
     ]
    },
    {
     "name": "stdout",
     "output_type": "stream",
     "text": [
      "loss: -0.84786 | bce: 0.03233 | dice: 0.86718 | 0 cls: 0.11391 | 1 cls: 0.14781 | 2 cls: 0.12873\n"
     ]
    },
    {
     "name": "stderr",
     "output_type": "stream",
     "text": [
      "Epoch 615, lr 0.00010799999999999998: 100% 21/21 [00:12<00:00,  1.73it/s, 0 cls=0.15322, 1 cls=0.22117, 2 cls=0.18670, bce=0.06380, dice=0.85611, loss=-0.80205]\n"
     ]
    },
    {
     "name": "stdout",
     "output_type": "stream",
     "text": [
      "loss: -0.85279 | bce: 0.03077 | dice: 0.87167 | 0 cls: 0.10798 | 1 cls: 0.14627 | 2 cls: 0.12569\n"
     ]
    },
    {
     "name": "stderr",
     "output_type": "stream",
     "text": [
      "Epoch 616, lr 0.00010799999999999998: 100% 21/21 [00:12<00:00,  1.71it/s, 0 cls=0.14606, 1 cls=0.21646, 2 cls=0.17951, bce=0.06267, dice=0.85999, loss=-0.80697]\n"
     ]
    },
    {
     "name": "stdout",
     "output_type": "stream",
     "text": [
      "loss: -0.85126 | bce: 0.03139 | dice: 0.87146 | 0 cls: 0.10856 | 1 cls: 0.14947 | 2 cls: 0.12563\n"
     ]
    },
    {
     "name": "stderr",
     "output_type": "stream",
     "text": [
      "Epoch 617, lr 0.00010799999999999998: 100% 21/21 [00:12<00:00,  1.69it/s, 0 cls=0.15661, 1 cls=0.22435, 2 cls=0.18931, bce=0.06416, dice=0.85290, loss=-0.79862]\n"
     ]
    },
    {
     "name": "stdout",
     "output_type": "stream",
     "text": [
      "loss: -0.85216 | bce: 0.03107 | dice: 0.87157 | 0 cls: 0.10854 | 1 cls: 0.14688 | 2 cls: 0.12511\n"
     ]
    },
    {
     "name": "stderr",
     "output_type": "stream",
     "text": [
      "Epoch 618, lr 0.00010799999999999998: 100% 21/21 [00:12<00:00,  1.69it/s, 0 cls=0.15134, 1 cls=0.22204, 2 cls=0.18471, bce=0.06442, dice=0.85671, loss=-0.80198]\n"
     ]
    },
    {
     "name": "stdout",
     "output_type": "stream",
     "text": [
      "loss: -0.85012 | bce: 0.03155 | dice: 0.86978 | 0 cls: 0.10971 | 1 cls: 0.15018 | 2 cls: 0.12761\n"
     ]
    },
    {
     "name": "stderr",
     "output_type": "stream",
     "text": [
      "Epoch 619, lr 0.00010799999999999998: 100% 21/21 [00:12<00:00,  1.70it/s, 0 cls=0.14903, 1 cls=0.21721, 2 cls=0.18205, bce=0.06217, dice=0.85841, loss=-0.80578]\n"
     ]
    },
    {
     "name": "stdout",
     "output_type": "stream",
     "text": [
      "loss: -0.85010 | bce: 0.03141 | dice: 0.87026 | 0 cls: 0.10946 | 1 cls: 0.15059 | 2 cls: 0.12652\n"
     ]
    },
    {
     "name": "stderr",
     "output_type": "stream",
     "text": [
      "Epoch 620, lr 0.00010799999999999998: 100% 21/21 [00:12<00:00,  1.72it/s, 0 cls=0.14646, 1 cls=0.21735, 2 cls=0.18034, bce=0.06238, dice=0.85890, loss=-0.80624]\n"
     ]
    },
    {
     "name": "stdout",
     "output_type": "stream",
     "text": [
      "loss: -0.85176 | bce: 0.03152 | dice: 0.87182 | 0 cls: 0.10890 | 1 cls: 0.14761 | 2 cls: 0.12506\n"
     ]
    },
    {
     "name": "stderr",
     "output_type": "stream",
     "text": [
      "Epoch 621, lr 0.00010799999999999998: 100% 21/21 [00:12<00:00,  1.68it/s, 0 cls=0.14524, 1 cls=0.21523, 2 cls=0.17795, bce=0.06170, dice=0.86051, loss=-0.80812]\n"
     ]
    },
    {
     "name": "stdout",
     "output_type": "stream",
     "text": [
      "loss: -0.85093 | bce: 0.03171 | dice: 0.87139 | 0 cls: 0.10905 | 1 cls: 0.14917 | 2 cls: 0.12524\n"
     ]
    },
    {
     "name": "stderr",
     "output_type": "stream",
     "text": [
      "Epoch 622, lr 0.00010799999999999998: 100% 21/21 [00:12<00:00,  1.72it/s, 0 cls=0.15420, 1 cls=0.22043, 2 cls=0.18633, bce=0.06390, dice=0.85568, loss=-0.80167]\n"
     ]
    },
    {
     "name": "stdout",
     "output_type": "stream",
     "text": [
      "loss: -0.84504 | bce: 0.03274 | dice: 0.86504 | 0 cls: 0.11669 | 1 cls: 0.15011 | 2 cls: 0.13006\n"
     ]
    },
    {
     "name": "stderr",
     "output_type": "stream",
     "text": [
      "Epoch 623, lr 0.00010799999999999998: 100% 21/21 [00:12<00:00,  1.71it/s, 0 cls=0.14975, 1 cls=0.21955, 2 cls=0.18366, bce=0.06318, dice=0.85780, loss=-0.80422]\n"
     ]
    },
    {
     "name": "stdout",
     "output_type": "stream",
     "text": [
      "loss: -0.85414 | bce: 0.03132 | dice: 0.87420 | 0 cls: 0.10617 | 1 cls: 0.14614 | 2 cls: 0.12324\n"
     ]
    },
    {
     "name": "stderr",
     "output_type": "stream",
     "text": [
      "Epoch 624, lr 0.00010799999999999998: 100% 21/21 [00:12<00:00,  1.65it/s, 0 cls=0.14505, 1 cls=0.21496, 2 cls=0.17790, bce=0.06171, dice=0.86080, loss=-0.80847]\n"
     ]
    },
    {
     "name": "stdout",
     "output_type": "stream",
     "text": [
      "loss: -0.85255 | bce: 0.03146 | dice: 0.87226 | 0 cls: 0.10853 | 1 cls: 0.14574 | 2 cls: 0.12466\n"
     ]
    },
    {
     "name": "stderr",
     "output_type": "stream",
     "text": [
      "Epoch 625, lr 0.00010799999999999998: 100% 21/21 [00:12<00:00,  1.70it/s, 0 cls=0.15139, 1 cls=0.21983, 2 cls=0.18445, bce=0.06250, dice=0.85667, loss=-0.80359]\n"
     ]
    },
    {
     "name": "stdout",
     "output_type": "stream",
     "text": [
      "loss: -0.84761 | bce: 0.03293 | dice: 0.86783 | 0 cls: 0.11354 | 1 cls: 0.14839 | 2 cls: 0.12877\n"
     ]
    },
    {
     "name": "stderr",
     "output_type": "stream",
     "text": [
      "Epoch 626, lr 0.00010799999999999998: 100% 21/21 [00:12<00:00,  1.68it/s, 0 cls=0.14867, 1 cls=0.21487, 2 cls=0.18072, bce=0.06268, dice=0.85946, loss=-0.80660]\n"
     ]
    },
    {
     "name": "stdout",
     "output_type": "stream",
     "text": [
      "loss: -0.84937 | bce: 0.03177 | dice: 0.86905 | 0 cls: 0.11112 | 1 cls: 0.14927 | 2 cls: 0.12809\n"
     ]
    },
    {
     "name": "stderr",
     "output_type": "stream",
     "text": [
      "Epoch 627, lr 0.00010799999999999998: 100% 21/21 [00:12<00:00,  1.70it/s, 0 cls=0.14920, 1 cls=0.21839, 2 cls=0.18269, bce=0.06218, dice=0.85731, loss=-0.80482]\n"
     ]
    },
    {
     "name": "stdout",
     "output_type": "stream",
     "text": [
      "loss: -0.84568 | bce: 0.03300 | dice: 0.86600 | 0 cls: 0.11522 | 1 cls: 0.15102 | 2 cls: 0.13080\n"
     ]
    },
    {
     "name": "stderr",
     "output_type": "stream",
     "text": [
      "Epoch 628, lr 0.00010799999999999998: 100% 21/21 [00:12<00:00,  1.69it/s, 0 cls=0.14808, 1 cls=0.21842, 2 cls=0.18193, bce=0.06315, dice=0.85915, loss=-0.80540]\n"
     ]
    },
    {
     "name": "stdout",
     "output_type": "stream",
     "text": [
      "loss: -0.85242 | bce: 0.03105 | dice: 0.87209 | 0 cls: 0.10705 | 1 cls: 0.14916 | 2 cls: 0.12503\n"
     ]
    },
    {
     "name": "stderr",
     "output_type": "stream",
     "text": [
      "Epoch 629, lr 0.00010799999999999998: 100% 21/21 [00:12<00:00,  1.72it/s, 0 cls=0.15225, 1 cls=0.22042, 2 cls=0.18455, bce=0.06240, dice=0.85617, loss=-0.80299]\n"
     ]
    },
    {
     "name": "stdout",
     "output_type": "stream",
     "text": [
      "loss: -0.85162 | bce: 0.03189 | dice: 0.87221 | 0 cls: 0.10743 | 1 cls: 0.15050 | 2 cls: 0.12616\n"
     ]
    },
    {
     "name": "stderr",
     "output_type": "stream",
     "text": [
      "Epoch 630, lr 0.00010799999999999998: 100% 21/21 [00:12<00:00,  1.70it/s, 0 cls=0.14966, 1 cls=0.21934, 2 cls=0.18275, bce=0.06295, dice=0.85833, loss=-0.80457]\n"
     ]
    },
    {
     "name": "stdout",
     "output_type": "stream",
     "text": [
      "loss: -0.84949 | bce: 0.03154 | dice: 0.86926 | 0 cls: 0.10953 | 1 cls: 0.15186 | 2 cls: 0.12786\n"
     ]
    },
    {
     "name": "stderr",
     "output_type": "stream",
     "text": [
      "Epoch 631, lr 0.00010799999999999998: 100% 21/21 [00:12<00:00,  1.71it/s, 0 cls=0.15573, 1 cls=0.22203, 2 cls=0.18716, bce=0.06414, dice=0.85527, loss=-0.80062]\n"
     ]
    },
    {
     "name": "stdout",
     "output_type": "stream",
     "text": [
      "loss: -0.84914 | bce: 0.03180 | dice: 0.86915 | 0 cls: 0.11038 | 1 cls: 0.15057 | 2 cls: 0.12870\n"
     ]
    },
    {
     "name": "stderr",
     "output_type": "stream",
     "text": [
      "Epoch 632, lr 0.00010799999999999998: 100% 21/21 [00:12<00:00,  1.70it/s, 0 cls=0.14696, 1 cls=0.21559, 2 cls=0.18044, bce=0.06089, dice=0.85861, loss=-0.80735]\n"
     ]
    },
    {
     "name": "stdout",
     "output_type": "stream",
     "text": [
      "loss: -0.85055 | bce: 0.03179 | dice: 0.87118 | 0 cls: 0.10788 | 1 cls: 0.15228 | 2 cls: 0.12725\n"
     ]
    },
    {
     "name": "stderr",
     "output_type": "stream",
     "text": [
      "Epoch 633, lr 0.00010799999999999998: 100% 21/21 [00:12<00:00,  1.70it/s, 0 cls=0.14664, 1 cls=0.21807, 2 cls=0.18132, bce=0.06288, dice=0.85972, loss=-0.80616]\n"
     ]
    },
    {
     "name": "stdout",
     "output_type": "stream",
     "text": [
      "loss: -0.84985 | bce: 0.03167 | dice: 0.86935 | 0 cls: 0.11151 | 1 cls: 0.14742 | 2 cls: 0.12687\n"
     ]
    },
    {
     "name": "stderr",
     "output_type": "stream",
     "text": [
      "Epoch 634, lr 0.00010799999999999998: 100% 21/21 [00:12<00:00,  1.70it/s, 0 cls=0.14635, 1 cls=0.21653, 2 cls=0.18015, bce=0.06203, dice=0.85932, loss=-0.80694]\n"
     ]
    },
    {
     "name": "stdout",
     "output_type": "stream",
     "text": [
      "loss: -0.84963 | bce: 0.03225 | dice: 0.87020 | 0 cls: 0.10997 | 1 cls: 0.15018 | 2 cls: 0.12654\n"
     ]
    },
    {
     "name": "stderr",
     "output_type": "stream",
     "text": [
      "Epoch 635, lr 0.00010799999999999998: 100% 21/21 [00:12<00:00,  1.71it/s, 0 cls=0.14432, 1 cls=0.21501, 2 cls=0.17791, bce=0.06095, dice=0.86055, loss=-0.80884]\n"
     ]
    },
    {
     "name": "stdout",
     "output_type": "stream",
     "text": [
      "loss: -0.85171 | bce: 0.03163 | dice: 0.87085 | 0 cls: 0.10840 | 1 cls: 0.14762 | 2 cls: 0.12607\n"
     ]
    },
    {
     "name": "stderr",
     "output_type": "stream",
     "text": [
      "Epoch 636, lr 0.00010799999999999998: 100% 21/21 [00:12<00:00,  1.68it/s, 0 cls=0.14756, 1 cls=0.21924, 2 cls=0.18213, bce=0.06216, dice=0.85841, loss=-0.80544]\n"
     ]
    },
    {
     "name": "stdout",
     "output_type": "stream",
     "text": [
      "loss: -0.84493 | bce: 0.03344 | dice: 0.86451 | 0 cls: 0.11868 | 1 cls: 0.14615 | 2 cls: 0.12995\n"
     ]
    },
    {
     "name": "stderr",
     "output_type": "stream",
     "text": [
      "Epoch 637, lr 0.00010799999999999998: 100% 21/21 [00:12<00:00,  1.70it/s, 0 cls=0.14411, 1 cls=0.21160, 2 cls=0.17619, bce=0.06136, dice=0.86195, loss=-0.81020]\n"
     ]
    },
    {
     "name": "stdout",
     "output_type": "stream",
     "text": [
      "loss: -0.85391 | bce: 0.03079 | dice: 0.87417 | 0 cls: 0.10591 | 1 cls: 0.14757 | 2 cls: 0.12397\n"
     ]
    },
    {
     "name": "stderr",
     "output_type": "stream",
     "text": [
      "Epoch 638, lr 0.00010799999999999998: 100% 21/21 [00:12<00:00,  1.69it/s, 0 cls=0.14592, 1 cls=0.21639, 2 cls=0.17986, bce=0.06234, dice=0.86053, loss=-0.80748]\n"
     ]
    },
    {
     "name": "stdout",
     "output_type": "stream",
     "text": [
      "loss: -0.85300 | bce: 0.03122 | dice: 0.87236 | 0 cls: 0.10856 | 1 cls: 0.14505 | 2 cls: 0.12501\n"
     ]
    },
    {
     "name": "stderr",
     "output_type": "stream",
     "text": [
      "Epoch 639, lr 0.00010799999999999998: 100% 21/21 [00:12<00:00,  1.70it/s, 0 cls=0.14794, 1 cls=0.21894, 2 cls=0.18254, bce=0.06221, dice=0.85858, loss=-0.80560]\n"
     ]
    },
    {
     "name": "stdout",
     "output_type": "stream",
     "text": [
      "loss: -0.85375 | bce: 0.03133 | dice: 0.87310 | 0 cls: 0.10774 | 1 cls: 0.14407 | 2 cls: 0.12420\n"
     ]
    },
    {
     "name": "stderr",
     "output_type": "stream",
     "text": [
      "Epoch 640, lr 0.00010799999999999998: 100% 21/21 [00:12<00:00,  1.70it/s, 0 cls=0.14243, 1 cls=0.21165, 2 cls=0.17533, bce=0.06128, dice=0.86171, loss=-0.81050]\n"
     ]
    },
    {
     "name": "stdout",
     "output_type": "stream",
     "text": [
      "loss: -0.85099 | bce: 0.03118 | dice: 0.87025 | 0 cls: 0.11080 | 1 cls: 0.14603 | 2 cls: 0.12582\n"
     ]
    },
    {
     "name": "stderr",
     "output_type": "stream",
     "text": [
      "Epoch 641, lr 0.00010799999999999998: 100% 21/21 [00:12<00:00,  1.67it/s, 0 cls=0.14776, 1 cls=0.21976, 2 cls=0.18302, bce=0.06255, dice=0.85821, loss=-0.80499]\n"
     ]
    },
    {
     "name": "stdout",
     "output_type": "stream",
     "text": [
      "loss: -0.84703 | bce: 0.03279 | dice: 0.86672 | 0 cls: 0.11381 | 1 cls: 0.14923 | 2 cls: 0.12945\n"
     ]
    },
    {
     "name": "stderr",
     "output_type": "stream",
     "text": [
      "Epoch 642, lr 0.00010799999999999998: 100% 21/21 [00:12<00:00,  1.69it/s, 0 cls=0.14666, 1 cls=0.21637, 2 cls=0.17995, bce=0.06255, dice=0.86043, loss=-0.80713]\n"
     ]
    },
    {
     "name": "stdout",
     "output_type": "stream",
     "text": [
      "loss: -0.85204 | bce: 0.03122 | dice: 0.87154 | 0 cls: 0.10851 | 1 cls: 0.14684 | 2 cls: 0.12541\n"
     ]
    },
    {
     "name": "stderr",
     "output_type": "stream",
     "text": [
      "Epoch 643, lr 0.00010799999999999998: 100% 21/21 [00:12<00:00,  1.71it/s, 0 cls=0.14986, 1 cls=0.21896, 2 cls=0.18227, bce=0.06296, dice=0.85819, loss=-0.80462]\n"
     ]
    },
    {
     "name": "stdout",
     "output_type": "stream",
     "text": [
      "loss: -0.85440 | bce: 0.03087 | dice: 0.87345 | 0 cls: 0.10627 | 1 cls: 0.14504 | 2 cls: 0.12380\n"
     ]
    },
    {
     "name": "stderr",
     "output_type": "stream",
     "text": [
      "Epoch 644, lr 0.00010799999999999998: 100% 21/21 [00:12<00:00,  1.73it/s, 0 cls=0.14226, 1 cls=0.20902, 2 cls=0.17367, bce=0.06095, dice=0.86371, loss=-0.81242]\n"
     ]
    },
    {
     "name": "stdout",
     "output_type": "stream",
     "text": [
      "loss: -0.85548 | bce: 0.03118 | dice: 0.87497 | 0 cls: 0.10526 | 1 cls: 0.14340 | 2 cls: 0.12295\n"
     ]
    },
    {
     "name": "stderr",
     "output_type": "stream",
     "text": [
      "Epoch 645, lr 0.00010799999999999998: 100% 21/21 [00:12<00:00,  1.71it/s, 0 cls=0.14767, 1 cls=0.21807, 2 cls=0.18137, bce=0.06296, dice=0.85904, loss=-0.80562]\n"
     ]
    },
    {
     "name": "stdout",
     "output_type": "stream",
     "text": [
      "loss: -0.85152 | bce: 0.03131 | dice: 0.87092 | 0 cls: 0.10920 | 1 cls: 0.14710 | 2 cls: 0.12640\n"
     ]
    },
    {
     "name": "stderr",
     "output_type": "stream",
     "text": [
      "Epoch 646, lr 0.00010799999999999998: 100% 21/21 [00:12<00:00,  1.69it/s, 0 cls=0.14980, 1 cls=0.22144, 2 cls=0.18427, bce=0.06403, dice=0.85815, loss=-0.80327]\n"
     ]
    },
    {
     "name": "stdout",
     "output_type": "stream",
     "text": [
      "loss: -0.85264 | bce: 0.03139 | dice: 0.87207 | 0 cls: 0.10817 | 1 cls: 0.14591 | 2 cls: 0.12602\n"
     ]
    },
    {
     "name": "stderr",
     "output_type": "stream",
     "text": [
      "Epoch 647, lr 0.00010799999999999998: 100% 21/21 [00:12<00:00,  1.70it/s, 0 cls=0.14410, 1 cls=0.21422, 2 cls=0.17766, bce=0.06159, dice=0.86142, loss=-0.80915]\n"
     ]
    },
    {
     "name": "stdout",
     "output_type": "stream",
     "text": [
      "loss: -0.85588 | bce: 0.03138 | dice: 0.87601 | 0 cls: 0.10477 | 1 cls: 0.14405 | 2 cls: 0.12159\n"
     ]
    },
    {
     "name": "stderr",
     "output_type": "stream",
     "text": [
      "Epoch 648, lr 0.00010799999999999998: 100% 21/21 [00:12<00:00,  1.70it/s, 0 cls=0.15435, 1 cls=0.21953, 2 cls=0.18475, bce=0.06395, dice=0.85589, loss=-0.80189]\n"
     ]
    },
    {
     "name": "stdout",
     "output_type": "stream",
     "text": [
      "loss: -0.85194 | bce: 0.03109 | dice: 0.87311 | 0 cls: 0.10615 | 1 cls: 0.15311 | 2 cls: 0.12621\n"
     ]
    },
    {
     "name": "stderr",
     "output_type": "stream",
     "text": [
      "Epoch 649, lr 0.00010799999999999998: 100% 21/21 [00:12<00:00,  1.69it/s, 0 cls=0.14519, 1 cls=0.21352, 2 cls=0.17772, bce=0.06206, dice=0.86158, loss=-0.80904]\n"
     ]
    },
    {
     "name": "stdout",
     "output_type": "stream",
     "text": [
      "loss: -0.84859 | bce: 0.03289 | dice: 0.86880 | 0 cls: 0.11113 | 1 cls: 0.14999 | 2 cls: 0.12926\n"
     ]
    },
    {
     "name": "stderr",
     "output_type": "stream",
     "text": [
      "Epoch 650, lr 0.00010799999999999998: 100% 21/21 [00:12<00:00,  1.68it/s, 0 cls=0.14578, 1 cls=0.21289, 2 cls=0.17811, bce=0.06156, dice=0.86079, loss=-0.80896]\n"
     ]
    },
    {
     "name": "stdout",
     "output_type": "stream",
     "text": [
      "loss: -0.85541 | bce: 0.03083 | dice: 0.87524 | 0 cls: 0.10479 | 1 cls: 0.14531 | 2 cls: 0.12324\n"
     ]
    },
    {
     "name": "stderr",
     "output_type": "stream",
     "text": [
      "Epoch 651, lr 0.00010799999999999998: 100% 21/21 [00:12<00:00,  1.70it/s, 0 cls=0.15170, 1 cls=0.22005, 2 cls=0.18494, bce=0.06444, dice=0.85747, loss=-0.80283]\n"
     ]
    },
    {
     "name": "stdout",
     "output_type": "stream",
     "text": [
      "loss: -0.85064 | bce: 0.02997 | dice: 0.86891 | 0 cls: 0.11050 | 1 cls: 0.14756 | 2 cls: 0.12704\n"
     ]
    },
    {
     "name": "stderr",
     "output_type": "stream",
     "text": [
      "Epoch 652, lr 0.00010799999999999998: 100% 21/21 [00:12<00:00,  1.71it/s, 0 cls=0.14576, 1 cls=0.21783, 2 cls=0.18011, bce=0.06192, dice=0.85965, loss=-0.80689]\n"
     ]
    },
    {
     "name": "stdout",
     "output_type": "stream",
     "text": [
      "loss: -0.85448 | bce: 0.03136 | dice: 0.87421 | 0 cls: 0.10582 | 1 cls: 0.14552 | 2 cls: 0.12285\n"
     ]
    },
    {
     "name": "stderr",
     "output_type": "stream",
     "text": [
      "Epoch 653, lr 0.00010799999999999998: 100% 21/21 [00:12<00:00,  1.70it/s, 0 cls=0.14257, 1 cls=0.21234, 2 cls=0.17613, bce=0.06130, dice=0.86243, loss=-0.81066]\n"
     ]
    },
    {
     "name": "stdout",
     "output_type": "stream",
     "text": [
      "loss: -0.84779 | bce: 0.03210 | dice: 0.86768 | 0 cls: 0.11208 | 1 cls: 0.15096 | 2 cls: 0.12847\n"
     ]
    },
    {
     "name": "stderr",
     "output_type": "stream",
     "text": [
      "Epoch 654, lr 0.00010799999999999998: 100% 21/21 [00:12<00:00,  1.67it/s, 0 cls=0.14667, 1 cls=0.21752, 2 cls=0.18015, bce=0.06184, dice=0.85948, loss=-0.80672]\n"
     ]
    },
    {
     "name": "stdout",
     "output_type": "stream",
     "text": [
      "loss: -0.85531 | bce: 0.03058 | dice: 0.87406 | 0 cls: 0.10495 | 1 cls: 0.14501 | 2 cls: 0.12437\n"
     ]
    },
    {
     "name": "stderr",
     "output_type": "stream",
     "text": [
      "Epoch 655, lr 0.00010799999999999998: 100% 21/21 [00:12<00:00,  1.67it/s, 0 cls=0.14394, 1 cls=0.21678, 2 cls=0.17929, bce=0.06177, dice=0.86084, loss=-0.80823]\n"
     ]
    },
    {
     "name": "stdout",
     "output_type": "stream",
     "text": [
      "loss: -0.84873 | bce: 0.03196 | dice: 0.86778 | 0 cls: 0.11294 | 1 cls: 0.14701 | 2 cls: 0.12806\n"
     ]
    },
    {
     "name": "stderr",
     "output_type": "stream",
     "text": [
      "Epoch 656, lr 0.00010799999999999998: 100% 21/21 [00:12<00:00,  1.67it/s, 0 cls=0.15342, 1 cls=0.22482, 2 cls=0.18778, bce=0.06351, dice=0.85510, loss=-0.80038]\n"
     ]
    },
    {
     "name": "stdout",
     "output_type": "stream",
     "text": [
      "loss: -0.85417 | bce: 0.03087 | dice: 0.87369 | 0 cls: 0.10591 | 1 cls: 0.14630 | 2 cls: 0.12438\n"
     ]
    },
    {
     "name": "stderr",
     "output_type": "stream",
     "text": [
      "Epoch 657, lr 0.00010799999999999998: 100% 21/21 [00:12<00:00,  1.68it/s, 0 cls=0.14335, 1 cls=0.20838, 2 cls=0.17460, bce=0.06077, dice=0.86399, loss=-0.81268]\n"
     ]
    },
    {
     "name": "stdout",
     "output_type": "stream",
     "text": [
      "loss: -0.85596 | bce: 0.03017 | dice: 0.87493 | 0 cls: 0.10573 | 1 cls: 0.14324 | 2 cls: 0.12287\n"
     ]
    },
    {
     "name": "stderr",
     "output_type": "stream",
     "text": [
      "Epoch 658, lr 0.00010799999999999998: 100% 21/21 [00:12<00:00,  1.72it/s, 0 cls=0.14504, 1 cls=0.21422, 2 cls=0.17761, bce=0.06154, dice=0.86056, loss=-0.80867]\n"
     ]
    },
    {
     "name": "stdout",
     "output_type": "stream",
     "text": [
      "loss: -0.85723 | bce: 0.03037 | dice: 0.87634 | 0 cls: 0.10351 | 1 cls: 0.14416 | 2 cls: 0.12144\n"
     ]
    },
    {
     "name": "stderr",
     "output_type": "stream",
     "text": [
      "Epoch 659, lr 0.00010799999999999998: 100% 21/21 [00:12<00:00,  1.71it/s, 0 cls=0.14542, 1 cls=0.21363, 2 cls=0.17816, bce=0.06202, dice=0.86109, loss=-0.80875]\n"
     ]
    },
    {
     "name": "stdout",
     "output_type": "stream",
     "text": [
      "loss: -0.85221 | bce: 0.03086 | dice: 0.87153 | 0 cls: 0.10769 | 1 cls: 0.14834 | 2 cls: 0.12560\n"
     ]
    },
    {
     "name": "stderr",
     "output_type": "stream",
     "text": [
      "Epoch 660, lr 0.00010799999999999998: 100% 21/21 [00:12<00:00,  1.69it/s, 0 cls=0.14929, 1 cls=0.21718, 2 cls=0.18229, bce=0.06280, dice=0.85862, loss=-0.80556]\n"
     ]
    },
    {
     "name": "stdout",
     "output_type": "stream",
     "text": [
      "loss: -0.85414 | bce: 0.03100 | dice: 0.87335 | 0 cls: 0.10526 | 1 cls: 0.14848 | 2 cls: 0.12502\n"
     ]
    },
    {
     "name": "stderr",
     "output_type": "stream",
     "text": [
      "Epoch 661, lr 0.00010799999999999998: 100% 21/21 [00:12<00:00,  1.71it/s, 0 cls=0.14631, 1 cls=0.21791, 2 cls=0.18051, bce=0.06314, dice=0.86008, loss=-0.80641]\n"
     ]
    },
    {
     "name": "stdout",
     "output_type": "stream",
     "text": [
      "loss: -0.85491 | bce: 0.03006 | dice: 0.87408 | 0 cls: 0.10590 | 1 cls: 0.14585 | 2 cls: 0.12345\n"
     ]
    },
    {
     "name": "stderr",
     "output_type": "stream",
     "text": [
      "Epoch 662, lr 0.00010799999999999998: 100% 21/21 [00:12<00:00,  1.73it/s, 0 cls=0.14398, 1 cls=0.21236, 2 cls=0.17670, bce=0.06118, dice=0.86213, loss=-0.81039]\n"
     ]
    },
    {
     "name": "stdout",
     "output_type": "stream",
     "text": [
      "loss: -0.84902 | bce: 0.03182 | dice: 0.86917 | 0 cls: 0.11118 | 1 cls: 0.15027 | 2 cls: 0.12706\n"
     ]
    },
    {
     "name": "stderr",
     "output_type": "stream",
     "text": [
      "Epoch 663, lr 0.00010799999999999998: 100% 21/21 [00:12<00:00,  1.71it/s, 0 cls=0.14741, 1 cls=0.21724, 2 cls=0.18160, bce=0.06235, dice=0.85927, loss=-0.80639]\n"
     ]
    },
    {
     "name": "stdout",
     "output_type": "stream",
     "text": [
      "loss: -0.85366 | bce: 0.03033 | dice: 0.87311 | 0 cls: 0.10671 | 1 cls: 0.14714 | 2 cls: 0.12437\n"
     ]
    },
    {
     "name": "stderr",
     "output_type": "stream",
     "text": [
      "Epoch 664, lr 0.00010799999999999998: 100% 21/21 [00:12<00:00,  1.70it/s, 0 cls=0.14389, 1 cls=0.21445, 2 cls=0.17789, bce=0.06128, dice=0.86097, loss=-0.80916]\n"
     ]
    },
    {
     "name": "stdout",
     "output_type": "stream",
     "text": [
      "loss: -0.85363 | bce: 0.03120 | dice: 0.87290 | 0 cls: 0.10790 | 1 cls: 0.14371 | 2 cls: 0.12381\n"
     ]
    },
    {
     "name": "stderr",
     "output_type": "stream",
     "text": [
      "Epoch 665, lr 0.00010799999999999998: 100% 21/21 [00:12<00:00,  1.68it/s, 0 cls=0.14862, 1 cls=0.21552, 2 cls=0.18004, bce=0.06302, dice=0.85994, loss=-0.80651]\n"
     ]
    },
    {
     "name": "stdout",
     "output_type": "stream",
     "text": [
      "loss: -0.85413 | bce: 0.03049 | dice: 0.87355 | 0 cls: 0.10609 | 1 cls: 0.14637 | 2 cls: 0.12387\n"
     ]
    },
    {
     "name": "stderr",
     "output_type": "stream",
     "text": [
      "Epoch 666, lr 0.00010799999999999998: 100% 21/21 [00:12<00:00,  1.70it/s, 0 cls=0.14389, 1 cls=0.21565, 2 cls=0.17781, bce=0.06227, dice=0.86219, loss=-0.80893]\n"
     ]
    },
    {
     "name": "stdout",
     "output_type": "stream",
     "text": [
      "loss: -0.85088 | bce: 0.03082 | dice: 0.87044 | 0 cls: 0.10966 | 1 cls: 0.14808 | 2 cls: 0.12620\n"
     ]
    },
    {
     "name": "stderr",
     "output_type": "stream",
     "text": [
      "Epoch 667, lr 0.00010799999999999998: 100% 21/21 [00:12<00:00,  1.70it/s, 0 cls=0.15170, 1 cls=0.22026, 2 cls=0.18493, bce=0.06332, dice=0.85674, loss=-0.80291]\n"
     ]
    },
    {
     "name": "stdout",
     "output_type": "stream",
     "text": [
      "loss: -0.85266 | bce: 0.03077 | dice: 0.87216 | 0 cls: 0.10674 | 1 cls: 0.14891 | 2 cls: 0.12575\n"
     ]
    },
    {
     "name": "stderr",
     "output_type": "stream",
     "text": [
      "Epoch 668, lr 0.00010799999999999998: 100% 21/21 [00:12<00:00,  1.70it/s, 0 cls=0.15304, 1 cls=0.22095, 2 cls=0.18550, bce=0.06381, dice=0.85632, loss=-0.80210]\n"
     ]
    },
    {
     "name": "stdout",
     "output_type": "stream",
     "text": [
      "loss: -0.85119 | bce: 0.03133 | dice: 0.87065 | 0 cls: 0.10830 | 1 cls: 0.14949 | 2 cls: 0.12673\n"
     ]
    },
    {
     "name": "stderr",
     "output_type": "stream",
     "text": [
      "Epoch 669, lr 0.00010799999999999998: 100% 21/21 [00:12<00:00,  1.71it/s, 0 cls=0.14930, 1 cls=0.21722, 2 cls=0.18196, bce=0.06264, dice=0.85824, loss=-0.80540]\n"
     ]
    },
    {
     "name": "stdout",
     "output_type": "stream",
     "text": [
      "loss: -0.85397 | bce: 0.03013 | dice: 0.87319 | 0 cls: 0.10676 | 1 cls: 0.14577 | 2 cls: 0.12312\n"
     ]
    },
    {
     "name": "stderr",
     "output_type": "stream",
     "text": [
      "Epoch 670, lr 0.00010799999999999998: 100% 21/21 [00:12<00:00,  1.69it/s, 0 cls=0.14636, 1 cls=0.21489, 2 cls=0.17884, bce=0.06142, dice=0.85983, loss=-0.80790]\n"
     ]
    },
    {
     "name": "stdout",
     "output_type": "stream",
     "text": [
      "loss: -0.84696 | bce: 0.03396 | dice: 0.86795 | 0 cls: 0.11333 | 1 cls: 0.15052 | 2 cls: 0.12961\n"
     ]
    },
    {
     "name": "stderr",
     "output_type": "stream",
     "text": [
      "Epoch 671, lr 0.00010799999999999998: 100% 21/21 [00:12<00:00,  1.70it/s, 0 cls=0.14432, 1 cls=0.20991, 2 cls=0.17551, bce=0.06084, dice=0.86292, loss=-0.81145]\n"
     ]
    },
    {
     "name": "stdout",
     "output_type": "stream",
     "text": [
      "loss: -0.84818 | bce: 0.03212 | dice: 0.86872 | 0 cls: 0.11073 | 1 cls: 0.15203 | 2 cls: 0.12937\n"
     ]
    },
    {
     "name": "stderr",
     "output_type": "stream",
     "text": [
      "Epoch 672, lr 0.00010799999999999998: 100% 21/21 [00:12<00:00,  1.70it/s, 0 cls=0.14338, 1 cls=0.21088, 2 cls=0.17601, bce=0.06152, dice=0.86320, loss=-0.81124]\n"
     ]
    },
    {
     "name": "stdout",
     "output_type": "stream",
     "text": [
      "loss: -0.84350 | bce: 0.03327 | dice: 0.86347 | 0 cls: 0.11882 | 1 cls: 0.14950 | 2 cls: 0.13213\n"
     ]
    },
    {
     "name": "stderr",
     "output_type": "stream",
     "text": [
      "Epoch 673, lr 0.00010799999999999998: 100% 21/21 [00:12<00:00,  1.68it/s, 0 cls=0.14585, 1 cls=0.21482, 2 cls=0.17921, bce=0.06129, dice=0.86017, loss=-0.80824]\n"
     ]
    },
    {
     "name": "stdout",
     "output_type": "stream",
     "text": [
      "loss: -0.85029 | bce: 0.03191 | dice: 0.86974 | 0 cls: 0.10953 | 1 cls: 0.14915 | 2 cls: 0.12793\n"
     ]
    },
    {
     "name": "stderr",
     "output_type": "stream",
     "text": [
      "Epoch 674, lr 0.00010799999999999998: 100% 21/21 [00:12<00:00,  1.70it/s, 0 cls=0.14226, 1 cls=0.20947, 2 cls=0.17455, bce=0.06052, dice=0.86325, loss=-0.81235]\n"
     ]
    },
    {
     "name": "stdout",
     "output_type": "stream",
     "text": [
      "loss: -0.84776 | bce: 0.03288 | dice: 0.86915 | 0 cls: 0.11071 | 1 cls: 0.15332 | 2 cls: 0.13009\n"
     ]
    },
    {
     "name": "stderr",
     "output_type": "stream",
     "text": [
      "Epoch 675, lr 0.00010799999999999998: 100% 21/21 [00:12<00:00,  1.71it/s, 0 cls=0.15425, 1 cls=0.22318, 2 cls=0.18777, bce=0.06373, dice=0.85545, loss=-0.80096]\n"
     ]
    },
    {
     "name": "stdout",
     "output_type": "stream",
     "text": [
      "loss: -0.84784 | bce: 0.03272 | dice: 0.86779 | 0 cls: 0.11114 | 1 cls: 0.15213 | 2 cls: 0.13085\n"
     ]
    },
    {
     "name": "stderr",
     "output_type": "stream",
     "text": [
      "Epoch 676, lr 0.00010799999999999998: 100% 21/21 [00:12<00:00,  1.70it/s, 0 cls=0.14548, 1 cls=0.21551, 2 cls=0.17997, bce=0.06178, dice=0.86027, loss=-0.80799]\n"
     ]
    },
    {
     "name": "stdout",
     "output_type": "stream",
     "text": [
      "loss: -0.85370 | bce: 0.03064 | dice: 0.87320 | 0 cls: 0.10741 | 1 cls: 0.14567 | 2 cls: 0.12313\n"
     ]
    },
    {
     "name": "stderr",
     "output_type": "stream",
     "text": [
      "Epoch 677, lr 0.00010799999999999998: 100% 21/21 [00:12<00:00,  1.70it/s, 0 cls=0.14448, 1 cls=0.21646, 2 cls=0.17916, bce=0.06137, dice=0.85991, loss=-0.80794]\n"
     ]
    },
    {
     "name": "stdout",
     "output_type": "stream",
     "text": [
      "loss: -0.85109 | bce: 0.03119 | dice: 0.87067 | 0 cls: 0.11012 | 1 cls: 0.14707 | 2 cls: 0.12519\n"
     ]
    },
    {
     "name": "stderr",
     "output_type": "stream",
     "text": [
      "Epoch 678, lr 0.00010799999999999998: 100% 21/21 [00:12<00:00,  1.68it/s, 0 cls=0.14043, 1 cls=0.20977, 2 cls=0.17435, bce=0.06086, dice=0.86391, loss=-0.81272]\n"
     ]
    },
    {
     "name": "stdout",
     "output_type": "stream",
     "text": [
      "loss: -0.85138 | bce: 0.03124 | dice: 0.87096 | 0 cls: 0.10983 | 1 cls: 0.14676 | 2 cls: 0.12568\n"
     ]
    },
    {
     "name": "stderr",
     "output_type": "stream",
     "text": [
      "Epoch 679, lr 0.00010799999999999998: 100% 21/21 [00:12<00:00,  1.67it/s, 0 cls=0.14211, 1 cls=0.21110, 2 cls=0.17495, bce=0.06109, dice=0.86364, loss=-0.81177]\n"
     ]
    },
    {
     "name": "stdout",
     "output_type": "stream",
     "text": [
      "loss: -0.85222 | bce: 0.03179 | dice: 0.87232 | 0 cls: 0.10837 | 1 cls: 0.14623 | 2 cls: 0.12570\n"
     ]
    },
    {
     "name": "stderr",
     "output_type": "stream",
     "text": [
      "Epoch 680, lr 0.00010799999999999998: 100% 21/21 [00:12<00:00,  1.69it/s, 0 cls=0.14493, 1 cls=0.21511, 2 cls=0.17857, bce=0.06202, dice=0.86057, loss=-0.80823]\n"
     ]
    },
    {
     "name": "stdout",
     "output_type": "stream",
     "text": [
      "loss: -0.83767 | bce: 0.03484 | dice: 0.85810 | 0 cls: 0.12691 | 1 cls: 0.15068 | 2 cls: 0.13494\n"
     ]
    },
    {
     "name": "stderr",
     "output_type": "stream",
     "text": [
      "Epoch 681, lr 0.00010799999999999998: 100% 21/21 [00:12<00:00,  1.69it/s, 0 cls=0.14346, 1 cls=0.21501, 2 cls=0.17864, bce=0.06118, dice=0.86063, loss=-0.80900]\n"
     ]
    },
    {
     "name": "stdout",
     "output_type": "stream",
     "text": [
      "loss: -0.84804 | bce: 0.03332 | dice: 0.86875 | 0 cls: 0.11410 | 1 cls: 0.14625 | 2 cls: 0.12759\n"
     ]
    },
    {
     "name": "stderr",
     "output_type": "stream",
     "text": [
      "Epoch 682, lr 0.00010799999999999998: 100% 21/21 [00:12<00:00,  1.72it/s, 0 cls=0.15304, 1 cls=0.22364, 2 cls=0.18696, bce=0.06371, dice=0.85639, loss=-0.80139]\n"
     ]
    },
    {
     "name": "stdout",
     "output_type": "stream",
     "text": [
      "loss: -0.85570 | bce: 0.03054 | dice: 0.87521 | 0 cls: 0.10445 | 1 cls: 0.14584 | 2 cls: 0.12390\n"
     ]
    },
    {
     "name": "stderr",
     "output_type": "stream",
     "text": [
      "Epoch 683, lr 0.00010799999999999998: 100% 21/21 [00:12<00:00,  1.69it/s, 0 cls=0.13951, 1 cls=0.20860, 2 cls=0.17254, bce=0.06052, dice=0.86495, loss=-0.81390]\n"
     ]
    },
    {
     "name": "stdout",
     "output_type": "stream",
     "text": [
      "loss: -0.84680 | bce: 0.03262 | dice: 0.86716 | 0 cls: 0.11624 | 1 cls: 0.14644 | 2 cls: 0.12792\n"
     ]
    },
    {
     "name": "stderr",
     "output_type": "stream",
     "text": [
      "Epoch 684, lr 0.00010799999999999998: 100% 21/21 [00:12<00:00,  1.71it/s, 0 cls=0.14569, 1 cls=0.21229, 2 cls=0.17818, bce=0.06133, dice=0.86149, loss=-0.80959]\n"
     ]
    },
    {
     "name": "stdout",
     "output_type": "stream",
     "text": [
      "loss: -0.85293 | bce: 0.03161 | dice: 0.87303 | 0 cls: 0.10653 | 1 cls: 0.14820 | 2 cls: 0.12594\n"
     ]
    },
    {
     "name": "stderr",
     "output_type": "stream",
     "text": [
      "Epoch 685, lr 0.00010799999999999998: 100% 21/21 [00:12<00:00,  1.68it/s, 0 cls=0.14537, 1 cls=0.21229, 2 cls=0.17763, bce=0.06150, dice=0.86121, loss=-0.80942]\n"
     ]
    },
    {
     "name": "stdout",
     "output_type": "stream",
     "text": [
      "loss: -0.85238 | bce: 0.03131 | dice: 0.87280 | 0 cls: 0.10684 | 1 cls: 0.14978 | 2 cls: 0.12642\n"
     ]
    },
    {
     "name": "stderr",
     "output_type": "stream",
     "text": [
      "Epoch 686, lr 0.00010799999999999998: 100% 21/21 [00:12<00:00,  1.72it/s, 0 cls=0.14996, 1 cls=0.21606, 2 cls=0.18149, bce=0.06273, dice=0.85873, loss=-0.80570]\n"
     ]
    },
    {
     "name": "stdout",
     "output_type": "stream",
     "text": [
      "loss: -0.85524 | bce: 0.03037 | dice: 0.87524 | 0 cls: 0.10511 | 1 cls: 0.14569 | 2 cls: 0.12322\n"
     ]
    },
    {
     "name": "stderr",
     "output_type": "stream",
     "text": [
      "Epoch 687, lr 0.00010799999999999998: 100% 21/21 [00:12<00:00,  1.71it/s, 0 cls=0.14728, 1 cls=0.21556, 2 cls=0.18076, bce=0.06204, dice=0.86004, loss=-0.80737]\n"
     ]
    },
    {
     "name": "stdout",
     "output_type": "stream",
     "text": [
      "loss: -0.84567 | bce: 0.03290 | dice: 0.86616 | 0 cls: 0.11595 | 1 cls: 0.14929 | 2 cls: 0.12977\n"
     ]
    },
    {
     "name": "stderr",
     "output_type": "stream",
     "text": [
      "Epoch 688, lr 0.00010799999999999998: 100% 21/21 [00:12<00:00,  1.66it/s, 0 cls=0.14302, 1 cls=0.21210, 2 cls=0.17606, bce=0.06216, dice=0.86351, loss=-0.81078]\n"
     ]
    },
    {
     "name": "stdout",
     "output_type": "stream",
     "text": [
      "loss: -0.85118 | bce: 0.03141 | dice: 0.87112 | 0 cls: 0.10974 | 1 cls: 0.14727 | 2 cls: 0.12613\n"
     ]
    },
    {
     "name": "stderr",
     "output_type": "stream",
     "text": [
      "Epoch 689, lr 0.00010799999999999998: 100% 21/21 [00:12<00:00,  1.69it/s, 0 cls=0.13939, 1 cls=0.20827, 2 cls=0.17290, bce=0.06023, dice=0.86485, loss=-0.81407]\n"
     ]
    },
    {
     "name": "stdout",
     "output_type": "stream",
     "text": [
      "loss: -0.85341 | bce: 0.03084 | dice: 0.87277 | 0 cls: 0.10651 | 1 cls: 0.14726 | 2 cls: 0.12525\n"
     ]
    },
    {
     "name": "stderr",
     "output_type": "stream",
     "text": [
      "Epoch 690, lr 0.00010799999999999998: 100% 21/21 [00:12<00:00,  1.65it/s, 0 cls=0.14587, 1 cls=0.21680, 2 cls=0.17988, bce=0.06186, dice=0.85974, loss=-0.80727]\n"
     ]
    },
    {
     "name": "stdout",
     "output_type": "stream",
     "text": [
      "loss: -0.85207 | bce: 0.03156 | dice: 0.87170 | 0 cls: 0.10893 | 1 cls: 0.14595 | 2 cls: 0.12573\n"
     ]
    },
    {
     "name": "stderr",
     "output_type": "stream",
     "text": [
      "Epoch 691, lr 0.00010799999999999998: 100% 21/21 [00:12<00:00,  1.68it/s, 0 cls=0.14236, 1 cls=0.20914, 2 cls=0.17478, bce=0.06033, dice=0.86329, loss=-0.81249]\n"
     ]
    },
    {
     "name": "stdout",
     "output_type": "stream",
     "text": [
      "loss: -0.84978 | bce: 0.03198 | dice: 0.86963 | 0 cls: 0.11252 | 1 cls: 0.14570 | 2 cls: 0.12634\n"
     ]
    },
    {
     "name": "stderr",
     "output_type": "stream",
     "text": [
      "Epoch 692, lr 0.00010799999999999998: 100% 21/21 [00:12<00:00,  1.70it/s, 0 cls=0.14209, 1 cls=0.20802, 2 cls=0.17338, bce=0.06025, dice=0.86426, loss=-0.81337]\n"
     ]
    },
    {
     "name": "stdout",
     "output_type": "stream",
     "text": [
      "loss: -0.85334 | bce: 0.03112 | dice: 0.87265 | 0 cls: 0.10631 | 1 cls: 0.14801 | 2 cls: 0.12634\n"
     ]
    },
    {
     "name": "stderr",
     "output_type": "stream",
     "text": [
      "Epoch 693, lr 0.00010799999999999998: 100% 21/21 [00:12<00:00,  1.69it/s, 0 cls=0.13996, 1 cls=0.21136, 2 cls=0.17458, bce=0.06105, dice=0.86392, loss=-0.81234]\n"
     ]
    },
    {
     "name": "stdout",
     "output_type": "stream",
     "text": [
      "loss: -0.84745 | bce: 0.03302 | dice: 0.86792 | 0 cls: 0.11188 | 1 cls: 0.15163 | 2 cls: 0.13052\n"
     ]
    },
    {
     "name": "stderr",
     "output_type": "stream",
     "text": [
      "Epoch 694, lr 0.00010799999999999998: 100% 21/21 [00:12<00:00,  1.68it/s, 0 cls=0.13855, 1 cls=0.20997, 2 cls=0.17312, bce=0.06050, dice=0.86478, loss=-0.81374]\n"
     ]
    },
    {
     "name": "stdout",
     "output_type": "stream",
     "text": [
      "loss: -0.85024 | bce: 0.03202 | dice: 0.86975 | 0 cls: 0.10975 | 1 cls: 0.14823 | 2 cls: 0.12873\n"
     ]
    },
    {
     "name": "stderr",
     "output_type": "stream",
     "text": [
      "Epoch 695, lr 0.00010799999999999998: 100% 21/21 [00:12<00:00,  1.68it/s, 0 cls=0.14886, 1 cls=0.21529, 2 cls=0.18041, bce=0.06242, dice=0.85949, loss=-0.80664]\n"
     ]
    },
    {
     "name": "stdout",
     "output_type": "stream",
     "text": [
      "loss: -0.85264 | bce: 0.03047 | dice: 0.87161 | 0 cls: 0.10815 | 1 cls: 0.14626 | 2 cls: 0.12572\n"
     ]
    },
    {
     "name": "stderr",
     "output_type": "stream",
     "text": [
      "Epoch 696, lr 0.00010799999999999998: 100% 21/21 [00:12<00:00,  1.72it/s, 0 cls=0.14329, 1 cls=0.21459, 2 cls=0.17807, bce=0.06156, dice=0.86154, loss=-0.80938]\n"
     ]
    },
    {
     "name": "stdout",
     "output_type": "stream",
     "text": [
      "loss: -0.85474 | bce: 0.03044 | dice: 0.87406 | 0 cls: 0.10716 | 1 cls: 0.14336 | 2 cls: 0.12272\n"
     ]
    },
    {
     "name": "stderr",
     "output_type": "stream",
     "text": [
      "Epoch 697, lr 0.00010799999999999998: 100% 21/21 [00:12<00:00,  1.68it/s, 0 cls=0.13944, 1 cls=0.20919, 2 cls=0.17279, bce=0.05961, dice=0.86381, loss=-0.81370]\n"
     ]
    },
    {
     "name": "stdout",
     "output_type": "stream",
     "text": [
      "loss: -0.84808 | bce: 0.03295 | dice: 0.86854 | 0 cls: 0.11169 | 1 cls: 0.15015 | 2 cls: 0.12995\n"
     ]
    },
    {
     "name": "stderr",
     "output_type": "stream",
     "text": [
      "Epoch 698, lr 0.00010799999999999998: 100% 21/21 [00:12<00:00,  1.70it/s, 0 cls=0.14060, 1 cls=0.21063, 2 cls=0.17499, bce=0.06071, dice=0.86407, loss=-0.81263]\n"
     ]
    },
    {
     "name": "stdout",
     "output_type": "stream",
     "text": [
      "loss: -0.85437 | bce: 0.03032 | dice: 0.87342 | 0 cls: 0.10519 | 1 cls: 0.14689 | 2 cls: 0.12480\n"
     ]
    },
    {
     "name": "stderr",
     "output_type": "stream",
     "text": [
      "Epoch 699, lr 0.00010799999999999998: 100% 21/21 [00:12<00:00,  1.69it/s, 0 cls=0.14800, 1 cls=0.21533, 2 cls=0.18058, bce=0.06205, dice=0.85993, loss=-0.80716]\n"
     ]
    },
    {
     "name": "stdout",
     "output_type": "stream",
     "text": [
      "loss: -0.85251 | bce: 0.03126 | dice: 0.87207 | 0 cls: 0.10848 | 1 cls: 0.14550 | 2 cls: 0.12515\n"
     ]
    },
    {
     "name": "stderr",
     "output_type": "stream",
     "text": [
      "Epoch 700, lr 0.00010799999999999998: 100% 21/21 [00:12<00:00,  1.69it/s, 0 cls=0.14293, 1 cls=0.21124, 2 cls=0.17547, bce=0.06203, dice=0.86310, loss=-0.81090]\n"
     ]
    },
    {
     "name": "stdout",
     "output_type": "stream",
     "text": [
      "loss: -0.84717 | bce: 0.03212 | dice: 0.86651 | 0 cls: 0.11370 | 1 cls: 0.14960 | 2 cls: 0.13031\n"
     ]
    },
    {
     "name": "stderr",
     "output_type": "stream",
     "text": [
      "Epoch 701, lr 0.00010799999999999998: 100% 21/21 [00:12<00:00,  1.68it/s, 0 cls=0.15246, 1 cls=0.22045, 2 cls=0.18572, bce=0.06293, dice=0.85624, loss=-0.80277]\n"
     ]
    },
    {
     "name": "stdout",
     "output_type": "stream",
     "text": [
      "loss: -0.85098 | bce: 0.03305 | dice: 0.87162 | 0 cls: 0.10943 | 1 cls: 0.14776 | 2 cls: 0.12678\n"
     ]
    },
    {
     "name": "stderr",
     "output_type": "stream",
     "text": [
      "Epoch 702, lr 0.00010799999999999998: 100% 21/21 [00:12<00:00,  1.71it/s, 0 cls=0.14498, 1 cls=0.21555, 2 cls=0.17866, bce=0.06167, dice=0.86060, loss=-0.80818]\n"
     ]
    },
    {
     "name": "stdout",
     "output_type": "stream",
     "text": [
      "loss: -0.85401 | bce: 0.03066 | dice: 0.87406 | 0 cls: 0.10656 | 1 cls: 0.14607 | 2 cls: 0.12311\n"
     ]
    },
    {
     "name": "stderr",
     "output_type": "stream",
     "text": [
      "Epoch 703, lr 0.00010799999999999998: 100% 21/21 [00:12<00:00,  1.70it/s, 0 cls=0.14835, 1 cls=0.21847, 2 cls=0.18258, bce=0.06312, dice=0.85921, loss=-0.80543]\n"
     ]
    },
    {
     "name": "stdout",
     "output_type": "stream",
     "text": [
      "loss: -0.85363 | bce: 0.03099 | dice: 0.87389 | 0 cls: 0.10630 | 1 cls: 0.14756 | 2 cls: 0.12436\n"
     ]
    },
    {
     "name": "stderr",
     "output_type": "stream",
     "text": [
      "Epoch 704, lr 0.00010799999999999998: 100% 21/21 [00:12<00:00,  1.69it/s, 0 cls=0.13987, 1 cls=0.21008, 2 cls=0.17385, bce=0.05971, dice=0.86394, loss=-0.81338]\n"
     ]
    },
    {
     "name": "stdout",
     "output_type": "stream",
     "text": [
      "loss: -0.85081 | bce: 0.03259 | dice: 0.87155 | 0 cls: 0.10766 | 1 cls: 0.15092 | 2 cls: 0.12745\n"
     ]
    },
    {
     "name": "stderr",
     "output_type": "stream",
     "text": [
      "Epoch 705, lr 0.00010799999999999998: 100% 21/21 [00:12<00:00,  1.72it/s, 0 cls=0.14241, 1 cls=0.21572, 2 cls=0.17764, bce=0.06196, dice=0.86181, loss=-0.80921]\n"
     ]
    },
    {
     "name": "stdout",
     "output_type": "stream",
     "text": [
      "loss: -0.84562 | bce: 0.03284 | dice: 0.86494 | 0 cls: 0.11476 | 1 cls: 0.15097 | 2 cls: 0.13190\n"
     ]
    },
    {
     "name": "stderr",
     "output_type": "stream",
     "text": [
      "Epoch 706, lr 0.00010799999999999998: 100% 21/21 [00:12<00:00,  1.70it/s, 0 cls=0.14310, 1 cls=0.21033, 2 cls=0.17505, bce=0.06125, dice=0.86321, loss=-0.81143]\n"
     ]
    },
    {
     "name": "stdout",
     "output_type": "stream",
     "text": [
      "loss: -0.84390 | bce: 0.03336 | dice: 0.86377 | 0 cls: 0.11695 | 1 cls: 0.15165 | 2 cls: 0.13236\n"
     ]
    },
    {
     "name": "stderr",
     "output_type": "stream",
     "text": [
      "Epoch 707, lr 0.00010799999999999998: 100% 21/21 [00:12<00:00,  1.69it/s, 0 cls=0.14614, 1 cls=0.21328, 2 cls=0.17851, bce=0.06093, dice=0.86047, loss=-0.80900]\n"
     ]
    },
    {
     "name": "stdout",
     "output_type": "stream",
     "text": [
      "loss: -0.85096 | bce: 0.03133 | dice: 0.87158 | 0 cls: 0.10895 | 1 cls: 0.14917 | 2 cls: 0.12581\n"
     ]
    },
    {
     "name": "stderr",
     "output_type": "stream",
     "text": [
      "Epoch 708, lr 0.00010799999999999998: 100% 21/21 [00:12<00:00,  1.72it/s, 0 cls=0.14066, 1 cls=0.20865, 2 cls=0.17304, bce=0.06010, dice=0.86438, loss=-0.81358]\n"
     ]
    },
    {
     "name": "stdout",
     "output_type": "stream",
     "text": [
      "loss: -0.84380 | bce: 0.03380 | dice: 0.86480 | 0 cls: 0.11932 | 1 cls: 0.14888 | 2 cls: 0.13021\n"
     ]
    },
    {
     "name": "stderr",
     "output_type": "stream",
     "text": [
      "Epoch 709, lr 0.00010799999999999998: 100% 21/21 [00:12<00:00,  1.69it/s, 0 cls=0.14433, 1 cls=0.21509, 2 cls=0.17862, bce=0.06195, dice=0.86144, loss=-0.80874]\n"
     ]
    },
    {
     "name": "stdout",
     "output_type": "stream",
     "text": [
      "loss: -0.85419 | bce: 0.03151 | dice: 0.87393 | 0 cls: 0.10553 | 1 cls: 0.14726 | 2 cls: 0.12551\n"
     ]
    },
    {
     "name": "stderr",
     "output_type": "stream",
     "text": [
      "Epoch 710, lr 0.00010799999999999998: 100% 21/21 [00:12<00:00,  1.71it/s, 0 cls=0.14279, 1 cls=0.21146, 2 cls=0.17605, bce=0.06106, dice=0.86288, loss=-0.81115]\n"
     ]
    },
    {
     "name": "stdout",
     "output_type": "stream",
     "text": [
      "loss: -0.85239 | bce: 0.03092 | dice: 0.87185 | 0 cls: 0.10853 | 1 cls: 0.14624 | 2 cls: 0.12472\n"
     ]
    },
    {
     "name": "stderr",
     "output_type": "stream",
     "text": [
      "Epoch 711, lr 0.00010799999999999998: 100% 21/21 [00:12<00:00,  1.68it/s, 0 cls=0.14708, 1 cls=0.21643, 2 cls=0.18044, bce=0.06168, dice=0.85900, loss=-0.80680]\n"
     ]
    },
    {
     "name": "stdout",
     "output_type": "stream",
     "text": [
      "loss: -0.85398 | bce: 0.03199 | dice: 0.87426 | 0 cls: 0.10594 | 1 cls: 0.14626 | 2 cls: 0.12396\n"
     ]
    },
    {
     "name": "stderr",
     "output_type": "stream",
     "text": [
      "Epoch 712, lr 0.00010799999999999998: 100% 21/21 [00:12<00:00,  1.71it/s, 0 cls=0.13980, 1 cls=0.20834, 2 cls=0.17233, bce=0.06052, dice=0.86506, loss=-0.81397]\n"
     ]
    },
    {
     "name": "stdout",
     "output_type": "stream",
     "text": [
      "loss: -0.84876 | bce: 0.03200 | dice: 0.86891 | 0 cls: 0.11326 | 1 cls: 0.14705 | 2 cls: 0.12611\n"
     ]
    },
    {
     "name": "stderr",
     "output_type": "stream",
     "text": [
      "Epoch 713, lr 0.00010799999999999998: 100% 21/21 [00:12<00:00,  1.70it/s, 0 cls=0.15088, 1 cls=0.21671, 2 cls=0.18255, bce=0.06247, dice=0.85804, loss=-0.80524]\n"
     ]
    },
    {
     "name": "stdout",
     "output_type": "stream",
     "text": [
      "loss: -0.85310 | bce: 0.03136 | dice: 0.87371 | 0 cls: 0.10523 | 1 cls: 0.15016 | 2 cls: 0.12618\n"
     ]
    },
    {
     "name": "stderr",
     "output_type": "stream",
     "text": [
      "Epoch 714, lr 0.00010799999999999998: 100% 21/21 [00:12<00:00,  1.72it/s, 0 cls=0.14333, 1 cls=0.21328, 2 cls=0.17750, bce=0.06158, dice=0.86191, loss=-0.80995]\n"
     ]
    },
    {
     "name": "stdout",
     "output_type": "stream",
     "text": [
      "loss: -0.84652 | bce: 0.03345 | dice: 0.86688 | 0 cls: 0.11328 | 1 cls: 0.15121 | 2 cls: 0.13146\n"
     ]
    },
    {
     "name": "stderr",
     "output_type": "stream",
     "text": [
      "Epoch 715, lr 0.00010799999999999998: 100% 21/21 [00:12<00:00,  1.70it/s, 0 cls=0.14597, 1 cls=0.21295, 2 cls=0.17796, bce=0.06126, dice=0.86104, loss=-0.80927]\n"
     ]
    },
    {
     "name": "stdout",
     "output_type": "stream",
     "text": [
      "loss: -0.85383 | bce: 0.03162 | dice: 0.87372 | 0 cls: 0.10613 | 1 cls: 0.14658 | 2 cls: 0.12455\n"
     ]
    },
    {
     "name": "stderr",
     "output_type": "stream",
     "text": [
      "Epoch 716, lr 0.00010799999999999998: 100% 21/21 [00:12<00:00,  1.68it/s, 0 cls=0.14203, 1 cls=0.21124, 2 cls=0.17523, bce=0.06077, dice=0.86289, loss=-0.81152]\n"
     ]
    },
    {
     "name": "stdout",
     "output_type": "stream",
     "text": [
      "loss: -0.85411 | bce: 0.03166 | dice: 0.87479 | 0 cls: 0.10505 | 1 cls: 0.14772 | 2 cls: 0.12474\n"
     ]
    },
    {
     "name": "stderr",
     "output_type": "stream",
     "text": [
      "Epoch 717, lr 0.00010799999999999998: 100% 21/21 [00:12<00:00,  1.72it/s, 0 cls=0.14615, 1 cls=0.21572, 2 cls=0.17959, bce=0.06168, dice=0.86044, loss=-0.80792]\n"
     ]
    },
    {
     "name": "stdout",
     "output_type": "stream",
     "text": [
      "loss: -0.84931 | bce: 0.03215 | dice: 0.86871 | 0 cls: 0.11088 | 1 cls: 0.14896 | 2 cls: 0.12947\n"
     ]
    },
    {
     "name": "stderr",
     "output_type": "stream",
     "text": [
      "Epoch 718, lr 0.00010799999999999998: 100% 21/21 [00:12<00:00,  1.67it/s, 0 cls=0.14186, 1 cls=0.21067, 2 cls=0.17510, bce=0.06101, dice=0.86315, loss=-0.81179]\n"
     ]
    },
    {
     "name": "stdout",
     "output_type": "stream",
     "text": [
      "loss: -0.84671 | bce: 0.03321 | dice: 0.86709 | 0 cls: 0.11289 | 1 cls: 0.15178 | 2 cls: 0.13087\n"
     ]
    },
    {
     "name": "stderr",
     "output_type": "stream",
     "text": [
      "Epoch 719, lr 0.00010799999999999998: 100% 21/21 [00:12<00:00,  1.70it/s, 0 cls=0.14375, 1 cls=0.21181, 2 cls=0.17682, bce=0.06098, dice=0.86233, loss=-0.81067]\n"
     ]
    },
    {
     "name": "stdout",
     "output_type": "stream",
     "text": [
      "loss: -0.84916 | bce: 0.03240 | dice: 0.86941 | 0 cls: 0.11101 | 1 cls: 0.14951 | 2 cls: 0.12763\n"
     ]
    },
    {
     "name": "stderr",
     "output_type": "stream",
     "text": [
      "Epoch 720, lr 0.00010799999999999998: 100% 21/21 [00:12<00:00,  1.73it/s, 0 cls=0.14822, 1 cls=0.21511, 2 cls=0.18051, bce=0.06318, dice=0.86054, loss=-0.80698]\n"
     ]
    },
    {
     "name": "stdout",
     "output_type": "stream",
     "text": [
      "loss: -0.85321 | bce: 0.03087 | dice: 0.87230 | 0 cls: 0.10717 | 1 cls: 0.14666 | 2 cls: 0.12485\n"
     ]
    },
    {
     "name": "stderr",
     "output_type": "stream",
     "text": [
      "Epoch 721, lr 0.00010799999999999998: 100% 21/21 [00:12<00:00,  1.72it/s, 0 cls=0.14525, 1 cls=0.21246, 2 cls=0.17748, bce=0.06181, dice=0.86188, loss=-0.80957]\n"
     ]
    },
    {
     "name": "stdout",
     "output_type": "stream",
     "text": [
      "loss: -0.84333 | bce: 0.03374 | dice: 0.86274 | 0 cls: 0.12098 | 1 cls: 0.14628 | 2 cls: 0.13211\n"
     ]
    },
    {
     "name": "stderr",
     "output_type": "stream",
     "text": [
      "Epoch 722, lr 0.00010799999999999998: 100% 21/21 [00:12<00:00,  1.72it/s, 0 cls=0.14550, 1 cls=0.21421, 2 cls=0.17863, bce=0.06083, dice=0.86069, loss=-0.80914]\n"
     ]
    },
    {
     "name": "stdout",
     "output_type": "stream",
     "text": [
      "loss: -0.85013 | bce: 0.03283 | dice: 0.87061 | 0 cls: 0.10981 | 1 cls: 0.14805 | 2 cls: 0.12768\n"
     ]
    },
    {
     "name": "stderr",
     "output_type": "stream",
     "text": [
      "Epoch 723, lr 0.00010799999999999998: 100% 21/21 [00:12<00:00,  1.71it/s, 0 cls=0.14062, 1 cls=0.20811, 2 cls=0.17325, bce=0.06085, dice=0.86518, loss=-0.81372]\n"
     ]
    },
    {
     "name": "stdout",
     "output_type": "stream",
     "text": [
      "loss: -0.84523 | bce: 0.03326 | dice: 0.86530 | 0 cls: 0.11715 | 1 cls: 0.14858 | 2 cls: 0.13002\n"
     ]
    },
    {
     "name": "stderr",
     "output_type": "stream",
     "text": [
      "Epoch 724, lr 0.00010799999999999998: 100% 21/21 [00:12<00:00,  1.69it/s, 0 cls=0.14050, 1 cls=0.21266, 2 cls=0.17567, bce=0.06016, dice=0.86244, loss=-0.81159]\n"
     ]
    },
    {
     "name": "stdout",
     "output_type": "stream",
     "text": [
      "loss: -0.85333 | bce: 0.03136 | dice: 0.87377 | 0 cls: 0.10642 | 1 cls: 0.14720 | 2 cls: 0.12396\n"
     ]
    },
    {
     "name": "stderr",
     "output_type": "stream",
     "text": [
      "Epoch 725, lr 0.00010799999999999998: 100% 21/21 [00:12<00:00,  1.72it/s, 0 cls=0.13678, 1 cls=0.20438, 2 cls=0.16956, bce=0.06002, dice=0.86744, loss=-0.81706]\n"
     ]
    },
    {
     "name": "stdout",
     "output_type": "stream",
     "text": [
      "loss: -0.85211 | bce: 0.03149 | dice: 0.87132 | 0 cls: 0.10859 | 1 cls: 0.14602 | 2 cls: 0.12624\n"
     ]
    },
    {
     "name": "stderr",
     "output_type": "stream",
     "text": [
      "Epoch 726, lr 0.00010799999999999998: 100% 21/21 [00:12<00:00,  1.71it/s, 0 cls=0.14274, 1 cls=0.20928, 2 cls=0.17501, bce=0.06014, dice=0.86310, loss=-0.81240]\n"
     ]
    },
    {
     "name": "stdout",
     "output_type": "stream",
     "text": [
      "loss: -0.84969 | bce: 0.03266 | dice: 0.87000 | 0 cls: 0.11084 | 1 cls: 0.14810 | 2 cls: 0.12670\n"
     ]
    },
    {
     "name": "stderr",
     "output_type": "stream",
     "text": [
      "Epoch 727, lr 0.00010799999999999998: 100% 21/21 [00:12<00:00,  1.68it/s, 0 cls=0.14119, 1 cls=0.21077, 2 cls=0.17447, bce=0.06116, dice=0.86366, loss=-0.81194]\n"
     ]
    },
    {
     "name": "stdout",
     "output_type": "stream",
     "text": [
      "loss: -0.85295 | bce: 0.03221 | dice: 0.87275 | 0 cls: 0.10651 | 1 cls: 0.14751 | 2 cls: 0.12577\n"
     ]
    },
    {
     "name": "stderr",
     "output_type": "stream",
     "text": [
      "Epoch 728, lr 0.00010799999999999998: 100% 21/21 [00:12<00:00,  1.72it/s, 0 cls=0.14607, 1 cls=0.21342, 2 cls=0.17793, bce=0.06109, dice=0.86076, loss=-0.80902]\n"
     ]
    },
    {
     "name": "stdout",
     "output_type": "stream",
     "text": [
      "loss: -0.84663 | bce: 0.03373 | dice: 0.86767 | 0 cls: 0.11518 | 1 cls: 0.14836 | 2 cls: 0.12820\n"
     ]
    },
    {
     "name": "stderr",
     "output_type": "stream",
     "text": [
      "Epoch 729, lr 0.00010799999999999998: 100% 21/21 [00:12<00:00,  1.70it/s, 0 cls=0.14457, 1 cls=0.21396, 2 cls=0.17809, bce=0.06161, dice=0.86207, loss=-0.80952]\n"
     ]
    },
    {
     "name": "stdout",
     "output_type": "stream",
     "text": [
      "loss: -0.84876 | bce: 0.03322 | dice: 0.86887 | 0 cls: 0.11124 | 1 cls: 0.14921 | 2 cls: 0.12901\n"
     ]
    },
    {
     "name": "stderr",
     "output_type": "stream",
     "text": [
      "Epoch 730, lr 0.00010799999999999998: 100% 21/21 [00:12<00:00,  1.71it/s, 0 cls=0.13994, 1 cls=0.21044, 2 cls=0.17428, bce=0.06066, dice=0.86438, loss=-0.81301]\n"
     ]
    },
    {
     "name": "stdout",
     "output_type": "stream",
     "text": [
      "loss: -0.84724 | bce: 0.03263 | dice: 0.86840 | 0 cls: 0.11119 | 1 cls: 0.15320 | 2 cls: 0.12913\n"
     ]
    },
    {
     "name": "stderr",
     "output_type": "stream",
     "text": [
      "Epoch 731, lr 0.00010799999999999998: 100% 21/21 [00:12<00:00,  1.70it/s, 0 cls=0.14119, 1 cls=0.21371, 2 cls=0.17684, bce=0.06119, dice=0.86288, loss=-0.81089]\n"
     ]
    },
    {
     "name": "stdout",
     "output_type": "stream",
     "text": [
      "loss: -0.85076 | bce: 0.03232 | dice: 0.87156 | 0 cls: 0.10860 | 1 cls: 0.14908 | 2 cls: 0.12731\n"
     ]
    },
    {
     "name": "stderr",
     "output_type": "stream",
     "text": [
      "Epoch 732, lr 0.00010799999999999998: 100% 21/21 [00:12<00:00,  1.70it/s, 0 cls=0.13919, 1 cls=0.20643, 2 cls=0.17158, bce=0.05904, dice=0.86499, loss=-0.81541]\n"
     ]
    },
    {
     "name": "stdout",
     "output_type": "stream",
     "text": [
      "loss: -0.85319 | bce: 0.03115 | dice: 0.87328 | 0 cls: 0.10501 | 1 cls: 0.15022 | 2 cls: 0.12549\n"
     ]
    },
    {
     "name": "stderr",
     "output_type": "stream",
     "text": [
      "Epoch 733, lr 0.00010799999999999998: 100% 21/21 [00:12<00:00,  1.69it/s, 0 cls=0.14259, 1 cls=0.21417, 2 cls=0.17732, bce=0.06098, dice=0.86199, loss=-0.81009]\n"
     ]
    },
    {
     "name": "stdout",
     "output_type": "stream",
     "text": [
      "loss: -0.85309 | bce: 0.03077 | dice: 0.87198 | 0 cls: 0.10702 | 1 cls: 0.14682 | 2 cls: 0.12614\n"
     ]
    },
    {
     "name": "stderr",
     "output_type": "stream",
     "text": [
      "Epoch 734, lr 0.00010799999999999998: 100% 21/21 [00:12<00:00,  1.70it/s, 0 cls=0.14553, 1 cls=0.21834, 2 cls=0.18131, bce=0.06215, dice=0.86038, loss=-0.80725]\n"
     ]
    },
    {
     "name": "stdout",
     "output_type": "stream",
     "text": [
      "loss: -0.84958 | bce: 0.03224 | dice: 0.86922 | 0 cls: 0.11319 | 1 cls: 0.14487 | 2 cls: 0.12698\n"
     ]
    },
    {
     "name": "stderr",
     "output_type": "stream",
     "text": [
      "Epoch 735, lr 0.00010799999999999998: 100% 21/21 [00:12<00:00,  1.71it/s, 0 cls=0.14415, 1 cls=0.21253, 2 cls=0.17783, bce=0.06001, dice=0.86069, loss=-0.81016]\n"
     ]
    },
    {
     "name": "stdout",
     "output_type": "stream",
     "text": [
      "loss: -0.85361 | bce: 0.03100 | dice: 0.87378 | 0 cls: 0.10585 | 1 cls: 0.14748 | 2 cls: 0.12489\n"
     ]
    },
    {
     "name": "stderr",
     "output_type": "stream",
     "text": [
      "Epoch 736, lr 0.00010799999999999998: 100% 21/21 [00:12<00:00,  1.69it/s, 0 cls=0.14073, 1 cls=0.20958, 2 cls=0.17447, bce=0.06082, dice=0.86397, loss=-0.81285]\n"
     ]
    },
    {
     "name": "stdout",
     "output_type": "stream",
     "text": [
      "loss: -0.85067 | bce: 0.03203 | dice: 0.87023 | 0 cls: 0.11073 | 1 cls: 0.14529 | 2 cls: 0.12712\n"
     ]
    },
    {
     "name": "stderr",
     "output_type": "stream",
     "text": [
      "Epoch 737, lr 0.00010799999999999998: 100% 21/21 [00:12<00:00,  1.68it/s, 0 cls=0.14630, 1 cls=0.21614, 2 cls=0.18014, bce=0.06158, dice=0.86030, loss=-0.80772]\n"
     ]
    },
    {
     "name": "stdout",
     "output_type": "stream",
     "text": [
      "loss: -0.84656 | bce: 0.03253 | dice: 0.86709 | 0 cls: 0.11436 | 1 cls: 0.15040 | 2 cls: 0.12922\n"
     ]
    },
    {
     "name": "stderr",
     "output_type": "stream",
     "text": [
      "Epoch 738, lr 0.00010799999999999998: 100% 21/21 [00:12<00:00,  1.69it/s, 0 cls=0.14200, 1 cls=0.20860, 2 cls=0.17361, bce=0.06061, dice=0.86406, loss=-0.81295]\n"
     ]
    },
    {
     "name": "stdout",
     "output_type": "stream",
     "text": [
      "loss: -0.85218 | bce: 0.03150 | dice: 0.87151 | 0 cls: 0.10827 | 1 cls: 0.14670 | 2 cls: 0.12676\n"
     ]
    },
    {
     "name": "stderr",
     "output_type": "stream",
     "text": [
      "Epoch 739, lr 0.00010799999999999998: 100% 21/21 [00:12<00:00,  1.73it/s, 0 cls=0.15060, 1 cls=0.21616, 2 cls=0.18205, bce=0.06223, dice=0.85874, loss=-0.80585]\n"
     ]
    },
    {
     "name": "stdout",
     "output_type": "stream",
     "text": [
      "loss: -0.85316 | bce: 0.03198 | dice: 0.87358 | 0 cls: 0.10463 | 1 cls: 0.15032 | 2 cls: 0.12637\n"
     ]
    },
    {
     "name": "stderr",
     "output_type": "stream",
     "text": [
      "Epoch 740, lr 0.00010799999999999998: 100% 21/21 [00:12<00:00,  1.70it/s, 0 cls=0.13852, 1 cls=0.20694, 2 cls=0.17195, bce=0.05975, dice=0.86486, loss=-0.81488]\n"
     ]
    },
    {
     "name": "stdout",
     "output_type": "stream",
     "text": [
      "loss: -0.85003 | bce: 0.03202 | dice: 0.87048 | 0 cls: 0.10953 | 1 cls: 0.14963 | 2 cls: 0.12768\n"
     ]
    },
    {
     "name": "stderr",
     "output_type": "stream",
     "text": [
      "Epoch 741, lr 0.00010799999999999998: 100% 21/21 [00:12<00:00,  1.71it/s, 0 cls=0.14145, 1 cls=0.21088, 2 cls=0.17511, bce=0.06102, dice=0.86349, loss=-0.81199]\n"
     ]
    },
    {
     "name": "stdout",
     "output_type": "stream",
     "text": [
      "loss: -0.85341 | bce: 0.03196 | dice: 0.87286 | 0 cls: 0.10533 | 1 cls: 0.14785 | 2 cls: 0.12679\n"
     ]
    },
    {
     "name": "stderr",
     "output_type": "stream",
     "text": [
      "Epoch 742, lr 0.00010799999999999998: 100% 21/21 [00:12<00:00,  1.71it/s, 0 cls=0.14266, 1 cls=0.21204, 2 cls=0.17593, bce=0.06029, dice=0.86263, loss=-0.81146]\n"
     ]
    },
    {
     "name": "stdout",
     "output_type": "stream",
     "text": [
      "loss: -0.85325 | bce: 0.03126 | dice: 0.87315 | 0 cls: 0.10675 | 1 cls: 0.14638 | 2 cls: 0.12492\n"
     ]
    },
    {
     "name": "stderr",
     "output_type": "stream",
     "text": [
      "Epoch 743, lr 0.00010799999999999998: 100% 21/21 [00:12<00:00,  1.68it/s, 0 cls=0.14115, 1 cls=0.21308, 2 cls=0.17624, bce=0.06145, dice=0.86344, loss=-0.81117]\n"
     ]
    },
    {
     "name": "stdout",
     "output_type": "stream",
     "text": [
      "loss: -0.84369 | bce: 0.03252 | dice: 0.86308 | 0 cls: 0.11808 | 1 cls: 0.15108 | 2 cls: 0.13252\n"
     ]
    },
    {
     "name": "stderr",
     "output_type": "stream",
     "text": [
      "Epoch 744, lr 0.00010799999999999998: 100% 21/21 [00:12<00:00,  1.71it/s, 0 cls=0.14243, 1 cls=0.20862, 2 cls=0.17449, bce=0.05955, dice=0.86298, loss=-0.81292]\n"
     ]
    },
    {
     "name": "stdout",
     "output_type": "stream",
     "text": [
      "loss: -0.85506 | bce: 0.03188 | dice: 0.87546 | 0 cls: 0.10581 | 1 cls: 0.14388 | 2 cls: 0.12304\n"
     ]
    },
    {
     "name": "stderr",
     "output_type": "stream",
     "text": [
      "Epoch 745, lr 0.00010799999999999998: 100% 21/21 [00:12<00:00,  1.70it/s, 0 cls=0.14159, 1 cls=0.21049, 2 cls=0.17458, bce=0.06087, dice=0.86386, loss=-0.81227]\n"
     ]
    },
    {
     "name": "stdout",
     "output_type": "stream",
     "text": [
      "loss: -0.85245 | bce: 0.03091 | dice: 0.87187 | 0 cls: 0.10938 | 1 cls: 0.14507 | 2 cls: 0.12460\n"
     ]
    },
    {
     "name": "stderr",
     "output_type": "stream",
     "text": [
      "Epoch 746, lr 0.00010799999999999998: 100% 21/21 [00:12<00:00,  1.70it/s, 0 cls=0.14423, 1 cls=0.21172, 2 cls=0.17650, bce=0.06114, dice=0.86207, loss=-0.81043]\n"
     ]
    },
    {
     "name": "stdout",
     "output_type": "stream",
     "text": [
      "loss: -0.85479 | bce: 0.03053 | dice: 0.87411 | 0 cls: 0.10622 | 1 cls: 0.14481 | 2 cls: 0.12313\n"
     ]
    },
    {
     "name": "stderr",
     "output_type": "stream",
     "text": [
      "Epoch 747, lr 0.00010799999999999998: 100% 21/21 [00:12<00:00,  1.68it/s, 0 cls=0.13960, 1 cls=0.21199, 2 cls=0.17443, bce=0.06073, dice=0.86420, loss=-0.81250]\n"
     ]
    },
    {
     "name": "stdout",
     "output_type": "stream",
     "text": [
      "loss: -0.84708 | bce: 0.03253 | dice: 0.86681 | 0 cls: 0.11218 | 1 cls: 0.15229 | 2 cls: 0.13093\n"
     ]
    },
    {
     "name": "stderr",
     "output_type": "stream",
     "text": [
      "Epoch 748, lr 0.00010799999999999998: 100% 21/21 [00:12<00:00,  1.67it/s, 0 cls=0.14622, 1 cls=0.21374, 2 cls=0.17892, bce=0.06175, dice=0.86047, loss=-0.80835]\n"
     ]
    },
    {
     "name": "stdout",
     "output_type": "stream",
     "text": [
      "loss: -0.85201 | bce: 0.03164 | dice: 0.87215 | 0 cls: 0.10800 | 1 cls: 0.14786 | 2 cls: 0.12510\n"
     ]
    },
    {
     "name": "stderr",
     "output_type": "stream",
     "text": [
      "Epoch 749, lr 0.00010799999999999998: 100% 21/21 [00:12<00:00,  1.70it/s, 0 cls=0.14485, 1 cls=0.21448, 2 cls=0.17845, bce=0.06118, dice=0.86126, loss=-0.80905]\n"
     ]
    },
    {
     "name": "stdout",
     "output_type": "stream",
     "text": [
      "loss: -0.85183 | bce: 0.03132 | dice: 0.87084 | 0 cls: 0.11157 | 1 cls: 0.14232 | 2 cls: 0.12436\n"
     ]
    },
    {
     "name": "stderr",
     "output_type": "stream",
     "text": [
      "Epoch 750, lr 0.00010799999999999998: 100% 21/21 [00:12<00:00,  1.70it/s, 0 cls=0.14663, 1 cls=0.21582, 2 cls=0.18028, bce=0.06150, dice=0.85990, loss=-0.80765]\n"
     ]
    },
    {
     "name": "stdout",
     "output_type": "stream",
     "text": [
      "loss: -0.85166 | bce: 0.03214 | dice: 0.87136 | 0 cls: 0.11027 | 1 cls: 0.14392 | 2 cls: 0.12548\n"
     ]
    },
    {
     "name": "stderr",
     "output_type": "stream",
     "text": [
      "Epoch 751, lr 0.00010799999999999998: 100% 21/21 [00:12<00:00,  1.67it/s, 0 cls=0.14242, 1 cls=0.21481, 2 cls=0.17736, bce=0.06171, dice=0.86245, loss=-0.80992]\n"
     ]
    },
    {
     "name": "stdout",
     "output_type": "stream",
     "text": [
      "loss: -0.84589 | bce: 0.03198 | dice: 0.86547 | 0 cls: 0.11606 | 1 cls: 0.14941 | 2 cls: 0.12955\n"
     ]
    },
    {
     "name": "stderr",
     "output_type": "stream",
     "text": [
      "Epoch 752, lr 0.00010799999999999998: 100% 21/21 [00:12<00:00,  1.72it/s, 0 cls=0.14888, 1 cls=0.21516, 2 cls=0.18039, bce=0.06302, dice=0.86099, loss=-0.80698]\n"
     ]
    },
    {
     "name": "stdout",
     "output_type": "stream",
     "text": [
      "loss: -0.85192 | bce: 0.03092 | dice: 0.87134 | 0 cls: 0.10943 | 1 cls: 0.14600 | 2 cls: 0.12543\n"
     ]
    },
    {
     "name": "stderr",
     "output_type": "stream",
     "text": [
      "Epoch 753, lr 0.00010799999999999998: 100% 21/21 [00:12<00:00,  1.71it/s, 0 cls=0.14551, 1 cls=0.21309, 2 cls=0.17806, bce=0.06140, dice=0.86118, loss=-0.80928]\n"
     ]
    },
    {
     "name": "stdout",
     "output_type": "stream",
     "text": [
      "loss: -0.84593 | bce: 0.03326 | dice: 0.86575 | 0 cls: 0.11722 | 1 cls: 0.14683 | 2 cls: 0.13001\n"
     ]
    },
    {
     "name": "stderr",
     "output_type": "stream",
     "text": [
      "Epoch 754, lr 0.00010799999999999998: 100% 21/21 [00:12<00:00,  1.72it/s, 0 cls=0.14190, 1 cls=0.20884, 2 cls=0.17411, bce=0.06041, dice=0.86442, loss=-0.81321]\n"
     ]
    },
    {
     "name": "stdout",
     "output_type": "stream",
     "text": [
      "loss: -0.85023 | bce: 0.03173 | dice: 0.86990 | 0 cls: 0.11140 | 1 cls: 0.14575 | 2 cls: 0.12660\n"
     ]
    },
    {
     "name": "stderr",
     "output_type": "stream",
     "text": [
      "Epoch 755, lr 0.00010799999999999998: 100% 21/21 [00:12<00:00,  1.71it/s, 0 cls=0.14306, 1 cls=0.21145, 2 cls=0.17537, bce=0.06151, dice=0.86376, loss=-0.81139]\n"
     ]
    },
    {
     "name": "stdout",
     "output_type": "stream",
     "text": [
      "loss: -0.85191 | bce: 0.03194 | dice: 0.87115 | 0 cls: 0.10880 | 1 cls: 0.14619 | 2 cls: 0.12628\n"
     ]
    },
    {
     "name": "stderr",
     "output_type": "stream",
     "text": [
      "Epoch 756, lr 0.00010799999999999998: 100% 21/21 [00:12<00:00,  1.72it/s, 0 cls=0.14271, 1 cls=0.20987, 2 cls=0.17563, bce=0.06082, dice=0.86280, loss=-0.81179]\n"
     ]
    },
    {
     "name": "stdout",
     "output_type": "stream",
     "text": [
      "loss: -0.85244 | bce: 0.03188 | dice: 0.87253 | 0 cls: 0.10812 | 1 cls: 0.14636 | 2 cls: 0.12472\n"
     ]
    },
    {
     "name": "stderr",
     "output_type": "stream",
     "text": [
      "Epoch 757, lr 0.00010799999999999998: 100% 21/21 [00:12<00:00,  1.71it/s, 0 cls=0.14197, 1 cls=0.20831, 2 cls=0.17356, bce=0.06033, dice=0.86380, loss=-0.81292]\n"
     ]
    },
    {
     "name": "stdout",
     "output_type": "stream",
     "text": [
      "loss: -0.84203 | bce: 0.03500 | dice: 0.86375 | 0 cls: 0.11578 | 1 cls: 0.15729 | 2 cls: 0.13516\n"
     ]
    },
    {
     "name": "stderr",
     "output_type": "stream",
     "text": [
      "Epoch 758, lr 0.00010799999999999998: 100% 21/21 [00:12<00:00,  1.71it/s, 0 cls=0.14414, 1 cls=0.21058, 2 cls=0.17604, bce=0.06076, dice=0.86181, loss=-0.81088]\n"
     ]
    },
    {
     "name": "stdout",
     "output_type": "stream",
     "text": [
      "loss: -0.85247 | bce: 0.03129 | dice: 0.87189 | 0 cls: 0.10813 | 1 cls: 0.14629 | 2 cls: 0.12463\n"
     ]
    },
    {
     "name": "stderr",
     "output_type": "stream",
     "text": [
      "Epoch 759, lr 0.00010799999999999998: 100% 21/21 [00:12<00:00,  1.72it/s, 0 cls=0.13602, 1 cls=0.20385, 2 cls=0.16903, bce=0.05891, dice=0.86714, loss=-0.81786]\n"
     ]
    },
    {
     "name": "stdout",
     "output_type": "stream",
     "text": [
      "loss: -0.84413 | bce: 0.03401 | dice: 0.86467 | 0 cls: 0.11584 | 1 cls: 0.15199 | 2 cls: 0.13339\n"
     ]
    },
    {
     "name": "stderr",
     "output_type": "stream",
     "text": [
      "Epoch 760, lr 0.00010799999999999998: 100% 21/21 [00:12<00:00,  1.70it/s, 0 cls=0.14169, 1 cls=0.21053, 2 cls=0.17507, bce=0.06079, dice=0.86341, loss=-0.81213]\n"
     ]
    },
    {
     "name": "stdout",
     "output_type": "stream",
     "text": [
      "loss: -0.84217 | bce: 0.03426 | dice: 0.86259 | 0 cls: 0.11901 | 1 cls: 0.15123 | 2 cls: 0.13439\n"
     ]
    },
    {
     "name": "stderr",
     "output_type": "stream",
     "text": [
      "Epoch 761, lr 0.00010799999999999998: 100% 21/21 [00:12<00:00,  1.71it/s, 0 cls=0.14317, 1 cls=0.20914, 2 cls=0.17503, bce=0.06038, dice=0.86310, loss=-0.81223]\n"
     ]
    },
    {
     "name": "stdout",
     "output_type": "stream",
     "text": [
      "loss: -0.85361 | bce: 0.03078 | dice: 0.87319 | 0 cls: 0.10683 | 1 cls: 0.14560 | 2 cls: 0.12422\n"
     ]
    },
    {
     "name": "stderr",
     "output_type": "stream",
     "text": [
      "Epoch 762, lr 0.00010799999999999998: 100% 21/21 [00:12<00:00,  1.70it/s, 0 cls=0.14903, 1 cls=0.21919, 2 cls=0.18304, bce=0.06261, dice=0.85782, loss=-0.80467]\n"
     ]
    },
    {
     "name": "stdout",
     "output_type": "stream",
     "text": [
      "loss: -0.84513 | bce: 0.03355 | dice: 0.86507 | 0 cls: 0.11457 | 1 cls: 0.15241 | 2 cls: 0.13329\n"
     ]
    },
    {
     "name": "stderr",
     "output_type": "stream",
     "text": [
      "Epoch 763, lr 0.00010799999999999998: 100% 21/21 [00:12<00:00,  1.69it/s, 0 cls=0.15485, 1 cls=0.22129, 2 cls=0.18687, bce=0.06421, dice=0.85650, loss=-0.80147]\n"
     ]
    },
    {
     "name": "stdout",
     "output_type": "stream",
     "text": [
      "loss: -0.85262 | bce: 0.03071 | dice: 0.87208 | 0 cls: 0.10824 | 1 cls: 0.14821 | 2 cls: 0.12582\n"
     ]
    },
    {
     "name": "stderr",
     "output_type": "stream",
     "text": [
      "Epoch 764, lr 0.00010799999999999998: 100% 21/21 [00:12<00:00,  1.72it/s, 0 cls=0.14402, 1 cls=0.21333, 2 cls=0.17737, bce=0.06120, dice=0.86243, loss=-0.81017]\n"
     ]
    },
    {
     "name": "stdout",
     "output_type": "stream",
     "text": [
      "loss: -0.85143 | bce: 0.03169 | dice: 0.87114 | 0 cls: 0.10965 | 1 cls: 0.14614 | 2 cls: 0.12622\n"
     ]
    },
    {
     "name": "stderr",
     "output_type": "stream",
     "text": [
      "Epoch 765, lr 0.00010799999999999998: 100% 21/21 [00:12<00:00,  1.69it/s, 0 cls=0.14058, 1 cls=0.20979, 2 cls=0.17422, bce=0.05998, dice=0.86342, loss=-0.81297]\n"
     ]
    },
    {
     "name": "stdout",
     "output_type": "stream",
     "text": [
      "loss: -0.85264 | bce: 0.03143 | dice: 0.87191 | 0 cls: 0.10746 | 1 cls: 0.14651 | 2 cls: 0.12611\n"
     ]
    },
    {
     "name": "stderr",
     "output_type": "stream",
     "text": [
      "Epoch 766, lr 0.00010799999999999998: 100% 21/21 [00:12<00:00,  1.71it/s, 0 cls=0.14197, 1 cls=0.21330, 2 cls=0.17687, bce=0.06158, dice=0.86303, loss=-0.81080]\n"
     ]
    },
    {
     "name": "stdout",
     "output_type": "stream",
     "text": [
      "loss: -0.85413 | bce: 0.03116 | dice: 0.87393 | 0 cls: 0.10643 | 1 cls: 0.14568 | 2 cls: 0.12385\n"
     ]
    },
    {
     "name": "stderr",
     "output_type": "stream",
     "text": [
      "Epoch 767, lr 0.00010799999999999998: 100% 21/21 [00:12<00:00,  1.70it/s, 0 cls=0.14012, 1 cls=0.20995, 2 cls=0.17406, bce=0.06050, dice=0.86430, loss=-0.81309]\n"
     ]
    },
    {
     "name": "stdout",
     "output_type": "stream",
     "text": [
      "loss: -0.84838 | bce: 0.03271 | dice: 0.86795 | 0 cls: 0.11209 | 1 cls: 0.14821 | 2 cls: 0.12926\n"
     ]
    },
    {
     "name": "stderr",
     "output_type": "stream",
     "text": [
      "Epoch 768, lr 0.00010799999999999998: 100% 21/21 [00:12<00:00,  1.71it/s, 0 cls=0.14666, 1 cls=0.21567, 2 cls=0.18087, bce=0.06234, dice=0.86135, loss=-0.80805]\n"
     ]
    },
    {
     "name": "stdout",
     "output_type": "stream",
     "text": [
      "loss: -0.85291 | bce: 0.03087 | dice: 0.87182 | 0 cls: 0.10753 | 1 cls: 0.14591 | 2 cls: 0.12605\n"
     ]
    },
    {
     "name": "stderr",
     "output_type": "stream",
     "text": [
      "Epoch 769, lr 0.00010799999999999998: 100% 21/21 [00:12<00:00,  1.71it/s, 0 cls=0.13739, 1 cls=0.20425, 2 cls=0.16948, bce=0.05863, dice=0.86631, loss=-0.81716]\n"
     ]
    },
    {
     "name": "stdout",
     "output_type": "stream",
     "text": [
      "loss: -0.85056 | bce: 0.03218 | dice: 0.87092 | 0 cls: 0.11091 | 1 cls: 0.14566 | 2 cls: 0.12564\n"
     ]
    },
    {
     "name": "stderr",
     "output_type": "stream",
     "text": [
      "Epoch 770, lr 0.00010799999999999998: 100% 21/21 [00:12<00:00,  1.70it/s, 0 cls=0.14079, 1 cls=0.21170, 2 cls=0.17488, bce=0.06067, dice=0.86377, loss=-0.81216]\n"
     ]
    },
    {
     "name": "stdout",
     "output_type": "stream",
     "text": [
      "loss: -0.84798 | bce: 0.03236 | dice: 0.86777 | 0 cls: 0.11479 | 1 cls: 0.14552 | 2 cls: 0.12733\n"
     ]
    },
    {
     "name": "stderr",
     "output_type": "stream",
     "text": [
      "Epoch 771, lr 0.00010799999999999998: 100% 21/21 [00:12<00:00,  1.65it/s, 0 cls=0.14089, 1 cls=0.21121, 2 cls=0.17484, bce=0.06057, dice=0.86367, loss=-0.81232]\n"
     ]
    },
    {
     "name": "stdout",
     "output_type": "stream",
     "text": [
      "loss: -0.85189 | bce: 0.03137 | dice: 0.87133 | 0 cls: 0.10821 | 1 cls: 0.14752 | 2 cls: 0.12570\n"
     ]
    },
    {
     "name": "stderr",
     "output_type": "stream",
     "text": [
      "Epoch 772, lr 0.00010799999999999998: 100% 21/21 [00:12<00:00,  1.68it/s, 0 cls=0.14103, 1 cls=0.20785, 2 cls=0.17341, bce=0.05944, dice=0.86360, loss=-0.81371]\n"
     ]
    },
    {
     "name": "stdout",
     "output_type": "stream",
     "text": [
      "loss: -0.84207 | bce: 0.03407 | dice: 0.86133 | 0 cls: 0.12085 | 1 cls: 0.14904 | 2 cls: 0.13475\n"
     ]
    },
    {
     "name": "stderr",
     "output_type": "stream",
     "text": [
      "Epoch 773, lr 0.00010799999999999998: 100% 21/21 [00:12<00:00,  1.69it/s, 0 cls=0.13905, 1 cls=0.20721, 2 cls=0.17207, bce=0.06064, dice=0.86623, loss=-0.81492]\n"
     ]
    },
    {
     "name": "stdout",
     "output_type": "stream",
     "text": [
      "loss: -0.85337 | bce: 0.03087 | dice: 0.87272 | 0 cls: 0.10907 | 1 cls: 0.14289 | 2 cls: 0.12281\n"
     ]
    },
    {
     "name": "stderr",
     "output_type": "stream",
     "text": [
      "Epoch 774, lr 0.00010799999999999998: 100% 21/21 [00:12<00:00,  1.71it/s, 0 cls=0.14099, 1 cls=0.20869, 2 cls=0.17312, bce=0.06063, dice=0.86479, loss=-0.81349]\n"
     ]
    },
    {
     "name": "stdout",
     "output_type": "stream",
     "text": [
      "loss: -0.85689 | bce: 0.02972 | dice: 0.87593 | 0 cls: 0.10386 | 1 cls: 0.14429 | 2 cls: 0.12148\n"
     ]
    },
    {
     "name": "stderr",
     "output_type": "stream",
     "text": [
      "Epoch 775, lr 0.00010799999999999998: 100% 21/21 [00:12<00:00,  1.67it/s, 0 cls=0.14009, 1 cls=0.21160, 2 cls=0.17541, bce=0.06002, dice=0.86313, loss=-0.81237]\n"
     ]
    },
    {
     "name": "stdout",
     "output_type": "stream",
     "text": [
      "loss: -0.85227 | bce: 0.03145 | dice: 0.87199 | 0 cls: 0.10905 | 1 cls: 0.14480 | 2 cls: 0.12444\n"
     ]
    },
    {
     "name": "stderr",
     "output_type": "stream",
     "text": [
      "Epoch 776, lr 0.00010799999999999998: 100% 21/21 [00:12<00:00,  1.71it/s, 0 cls=0.14346, 1 cls=0.21264, 2 cls=0.17650, bce=0.06112, dice=0.86282, loss=-0.81064]\n"
     ]
    },
    {
     "name": "stdout",
     "output_type": "stream",
     "text": [
      "loss: -0.85348 | bce: 0.03117 | dice: 0.87307 | 0 cls: 0.10629 | 1 cls: 0.14655 | 2 cls: 0.12517\n"
     ]
    },
    {
     "name": "stderr",
     "output_type": "stream",
     "text": [
      "Epoch 777, lr 0.00010799999999999998: 100% 21/21 [00:12<00:00,  1.71it/s, 0 cls=0.14131, 1 cls=0.21084, 2 cls=0.17498, bce=0.06029, dice=0.86297, loss=-0.81217]\n"
     ]
    },
    {
     "name": "stdout",
     "output_type": "stream",
     "text": [
      "loss: -0.84773 | bce: 0.03264 | dice: 0.86712 | 0 cls: 0.11559 | 1 cls: 0.14454 | 2 cls: 0.12826\n"
     ]
    },
    {
     "name": "stderr",
     "output_type": "stream",
     "text": [
      "Epoch 778, lr 0.00010799999999999998: 100% 21/21 [00:12<00:00,  1.70it/s, 0 cls=0.13768, 1 cls=0.20768, 2 cls=0.17172, bce=0.06018, dice=0.86667, loss=-0.81561]\n"
     ]
    },
    {
     "name": "stdout",
     "output_type": "stream",
     "text": [
      "loss: -0.85075 | bce: 0.03215 | dice: 0.87102 | 0 cls: 0.10970 | 1 cls: 0.14806 | 2 cls: 0.12646\n"
     ]
    },
    {
     "name": "stderr",
     "output_type": "stream",
     "text": [
      "Epoch 779, lr 0.00010799999999999998: 100% 21/21 [00:12<00:00,  1.68it/s, 0 cls=0.14341, 1 cls=0.21021, 2 cls=0.17510, bce=0.06086, dice=0.86285, loss=-0.81154]\n"
     ]
    },
    {
     "name": "stdout",
     "output_type": "stream",
     "text": [
      "loss: -0.85055 | bce: 0.03202 | dice: 0.87001 | 0 cls: 0.11149 | 1 cls: 0.14540 | 2 cls: 0.12629\n"
     ]
    },
    {
     "name": "stderr",
     "output_type": "stream",
     "text": [
      "Epoch 780, lr 0.00010799999999999998: 100% 21/21 [00:12<00:00,  1.69it/s, 0 cls=0.14895, 1 cls=0.21510, 2 cls=0.18092, bce=0.06203, dice=0.86009, loss=-0.80724]\n"
     ]
    },
    {
     "name": "stdout",
     "output_type": "stream",
     "text": [
      "loss: -0.84705 | bce: 0.03182 | dice: 0.86615 | 0 cls: 0.11306 | 1 cls: 0.15095 | 2 cls: 0.13030\n"
     ]
    },
    {
     "name": "stderr",
     "output_type": "stream",
     "text": [
      "Epoch 781, lr 0.00010799999999999998: 100% 21/21 [00:12<00:00,  1.68it/s, 0 cls=0.14846, 1 cls=0.21254, 2 cls=0.17942, bce=0.06231, dice=0.86120, loss=-0.80838]\n"
     ]
    },
    {
     "name": "stdout",
     "output_type": "stream",
     "text": [
      "loss: -0.85123 | bce: 0.03197 | dice: 0.87183 | 0 cls: 0.11063 | 1 cls: 0.14499 | 2 cls: 0.12326\n"
     ]
    },
    {
     "name": "stderr",
     "output_type": "stream",
     "text": [
      "Epoch 782, lr 0.00010799999999999998: 100% 21/21 [00:12<00:00,  1.71it/s, 0 cls=0.14174, 1 cls=0.21063, 2 cls=0.17470, bce=0.06032, dice=0.86316, loss=-0.81212]\n"
     ]
    },
    {
     "name": "stdout",
     "output_type": "stream",
     "text": [
      "loss: -0.85002 | bce: 0.03268 | dice: 0.87021 | 0 cls: 0.10830 | 1 cls: 0.15127 | 2 cls: 0.12785\n"
     ]
    },
    {
     "name": "stderr",
     "output_type": "stream",
     "text": [
      "Epoch 783, lr 0.00010799999999999998: 100% 21/21 [00:12<00:00,  1.70it/s, 0 cls=0.13787, 1 cls=0.20631, 2 cls=0.17050, bce=0.05950, dice=0.86627, loss=-0.81604]\n"
     ]
    },
    {
     "name": "stdout",
     "output_type": "stream",
     "text": [
      "loss: -0.85262 | bce: 0.03041 | dice: 0.87170 | 0 cls: 0.10848 | 1 cls: 0.14592 | 2 cls: 0.12394\n"
     ]
    },
    {
     "name": "stderr",
     "output_type": "stream",
     "text": [
      "Epoch 784, lr 0.00010799999999999998: 100% 21/21 [00:12<00:00,  1.72it/s, 0 cls=0.14519, 1 cls=0.21558, 2 cls=0.17940, bce=0.06176, dice=0.86078, loss=-0.80836]\n"
     ]
    },
    {
     "name": "stdout",
     "output_type": "stream",
     "text": [
      "loss: -0.85012 | bce: 0.03241 | dice: 0.87006 | 0 cls: 0.11047 | 1 cls: 0.14744 | 2 cls: 0.12668\n"
     ]
    },
    {
     "name": "stderr",
     "output_type": "stream",
     "text": [
      "Epoch 785, lr 0.00010799999999999998: 100% 21/21 [00:12<00:00,  1.72it/s, 0 cls=0.14213, 1 cls=0.21067, 2 cls=0.17523, bce=0.06055, dice=0.86342, loss=-0.81221]\n"
     ]
    },
    {
     "name": "stdout",
     "output_type": "stream",
     "text": [
      "loss: -0.84884 | bce: 0.03389 | dice: 0.86960 | 0 cls: 0.11193 | 1 cls: 0.14691 | 2 cls: 0.12776\n"
     ]
    },
    {
     "name": "stderr",
     "output_type": "stream",
     "text": [
      "Epoch 786, lr 0.00010799999999999998: 100% 21/21 [00:12<00:00,  1.68it/s, 0 cls=0.14301, 1 cls=0.21362, 2 cls=0.17711, bce=0.06172, dice=0.86281, loss=-0.81020]\n"
     ]
    },
    {
     "name": "stdout",
     "output_type": "stream",
     "text": [
      "loss: -0.85342 | bce: 0.03073 | dice: 0.87249 | 0 cls: 0.10805 | 1 cls: 0.14418 | 2 cls: 0.12437\n"
     ]
    },
    {
     "name": "stderr",
     "output_type": "stream",
     "text": [
      "Epoch 787, lr 0.00010799999999999998: 100% 21/21 [00:12<00:00,  1.71it/s, 0 cls=0.14489, 1 cls=0.21010, 2 cls=0.17673, bce=0.06131, dice=0.86279, loss=-0.81100]\n"
     ]
    },
    {
     "name": "stdout",
     "output_type": "stream",
     "text": [
      "loss: -0.85537 | bce: 0.03015 | dice: 0.87515 | 0 cls: 0.10503 | 1 cls: 0.14548 | 2 cls: 0.12202\n"
     ]
    },
    {
     "name": "stderr",
     "output_type": "stream",
     "text": [
      "Epoch 788, lr 0.00010799999999999998: 100% 21/21 [00:12<00:00,  1.72it/s, 0 cls=0.14312, 1 cls=0.21101, 2 cls=0.17584, bce=0.06091, dice=0.86316, loss=-0.81152]\n"
     ]
    },
    {
     "name": "stdout",
     "output_type": "stream",
     "text": [
      "loss: -0.85257 | bce: 0.03163 | dice: 0.87219 | 0 cls: 0.11017 | 1 cls: 0.14306 | 2 cls: 0.12388\n"
     ]
    },
    {
     "name": "stderr",
     "output_type": "stream",
     "text": [
      "Epoch 789, lr 0.00010799999999999998: 100% 21/21 [00:12<00:00,  1.71it/s, 0 cls=0.13852, 1 cls=0.20816, 2 cls=0.17266, bce=0.06030, dice=0.86604, loss=-0.81495]\n"
     ]
    },
    {
     "name": "stdout",
     "output_type": "stream",
     "text": [
      "loss: -0.85190 | bce: 0.03122 | dice: 0.87067 | 0 cls: 0.11047 | 1 cls: 0.14337 | 2 cls: 0.12540\n"
     ]
    },
    {
     "name": "stderr",
     "output_type": "stream",
     "text": [
      "Epoch 790, lr 0.0006859999999999999: 100% 21/21 [00:12<00:00,  1.68it/s, 0 cls=0.15539, 1 cls=0.22294, 2 cls=0.18702, bce=0.06608, dice=0.85661, loss=-0.79988]\n"
     ]
    },
    {
     "name": "stdout",
     "output_type": "stream",
     "text": [
      "loss: -0.82959 | bce: 0.03375 | dice: 0.85247 | 0 cls: 0.12423 | 1 cls: 0.17564 | 2 cls: 0.14497\n"
     ]
    },
    {
     "name": "stderr",
     "output_type": "stream",
     "text": [
      "Epoch 791, lr 0.0006859999999999999: 100% 21/21 [00:12<00:00,  1.72it/s, 0 cls=0.17208, 1 cls=0.23671, 2 cls=0.20048, bce=0.06998, dice=0.84475, loss=-0.78506]\n"
     ]
    },
    {
     "name": "stdout",
     "output_type": "stream",
     "text": [
      "loss: -0.81389 | bce: 0.04159 | dice: 0.84126 | 0 cls: 0.13670 | 1 cls: 0.19269 | 2 cls: 0.15152\n"
     ]
    },
    {
     "name": "stderr",
     "output_type": "stream",
     "text": [
      "Epoch 792, lr 0.00020579999999999996: 100% 21/21 [00:12<00:00,  1.70it/s, 0 cls=0.16991, 1 cls=0.23467, 2 cls=0.19970, bce=0.06957, dice=0.84678, loss=-0.78730]\n"
     ]
    },
    {
     "name": "stdout",
     "output_type": "stream",
     "text": [
      "loss: -0.84355 | bce: 0.03223 | dice: 0.86532 | 0 cls: 0.11363 | 1 cls: 0.16246 | 2 cls: 0.13322\n"
     ]
    },
    {
     "name": "stderr",
     "output_type": "stream",
     "text": [
      "Epoch 793, lr 0.00020579999999999996: 100% 21/21 [00:12<00:00,  1.68it/s, 0 cls=0.15942, 1 cls=0.22496, 2 cls=0.18930, bce=0.06542, dice=0.85146, loss=-0.79650]\n"
     ]
    },
    {
     "name": "stdout",
     "output_type": "stream",
     "text": [
      "loss: -0.84786 | bce: 0.03330 | dice: 0.87084 | 0 cls: 0.10893 | 1 cls: 0.15639 | 2 cls: 0.12727\n"
     ]
    },
    {
     "name": "stderr",
     "output_type": "stream",
     "text": [
      "Epoch 794, lr 6.173999999999999e-05: 100% 21/21 [00:12<00:00,  1.72it/s, 0 cls=0.15143, 1 cls=0.21996, 2 cls=0.18345, bce=0.06393, dice=0.85671, loss=-0.80262]\n"
     ]
    },
    {
     "name": "stdout",
     "output_type": "stream",
     "text": [
      "loss: -0.85093 | bce: 0.03092 | dice: 0.87145 | 0 cls: 0.10850 | 1 cls: 0.15137 | 2 cls: 0.12512\n"
     ]
    },
    {
     "name": "stderr",
     "output_type": "stream",
     "text": [
      "Epoch 795, lr 0.0006859999999999999: 100% 21/21 [00:12<00:00,  1.70it/s, 0 cls=0.15753, 1 cls=0.22741, 2 cls=0.19016, bce=0.06569, dice=0.85164, loss=-0.79611]\n"
     ]
    },
    {
     "name": "stdout",
     "output_type": "stream",
     "text": [
      "loss: -0.83744 | bce: 0.03268 | dice: 0.85973 | 0 cls: 0.11833 | 1 cls: 0.16430 | 2 cls: 0.13489\n"
     ]
    },
    {
     "name": "stderr",
     "output_type": "stream",
     "text": [
      "Epoch 796, lr 0.0006859999999999999: 100% 21/21 [00:12<00:00,  1.71it/s, 0 cls=0.16176, 1 cls=0.23241, 2 cls=0.19460, bce=0.06690, dice=0.84997, loss=-0.79254]\n"
     ]
    },
    {
     "name": "stdout",
     "output_type": "stream",
     "text": [
      "loss: -0.79497 | bce: 0.04686 | dice: 0.82082 | 0 cls: 0.17712 | 1 cls: 0.17019 | 2 cls: 0.16627\n"
     ]
    },
    {
     "name": "stderr",
     "output_type": "stream",
     "text": [
      "Epoch 797, lr 0.00020579999999999996: 100% 21/21 [00:12<00:00,  1.71it/s, 0 cls=0.16036, 1 cls=0.22722, 2 cls=0.19092, bce=0.06615, dice=0.85098, loss=-0.79512]\n"
     ]
    },
    {
     "name": "stdout",
     "output_type": "stream",
     "text": [
      "loss: -0.83882 | bce: 0.03504 | dice: 0.86068 | 0 cls: 0.11393 | 1 cls: 0.16934 | 2 cls: 0.13563\n"
     ]
    },
    {
     "name": "stderr",
     "output_type": "stream",
     "text": [
      "Epoch 798, lr 0.00020579999999999996: 100% 21/21 [00:12<00:00,  1.68it/s, 0 cls=0.15125, 1 cls=0.22061, 2 cls=0.18379, bce=0.06238, dice=0.85530, loss=-0.80271]\n"
     ]
    },
    {
     "name": "stdout",
     "output_type": "stream",
     "text": [
      "loss: -0.84271 | bce: 0.03381 | dice: 0.86509 | 0 cls: 0.11361 | 1 cls: 0.15963 | 2 cls: 0.13393\n"
     ]
    },
    {
     "name": "stderr",
     "output_type": "stream",
     "text": [
      "Epoch 799, lr 6.173999999999999e-05: 100% 21/21 [00:12<00:00,  1.70it/s, 0 cls=0.14979, 1 cls=0.21695, 2 cls=0.18138, bce=0.06253, dice=0.85860, loss=-0.80553]\n"
     ]
    },
    {
     "name": "stdout",
     "output_type": "stream",
     "text": [
      "loss: -0.84693 | bce: 0.03290 | dice: 0.86794 | 0 cls: 0.11226 | 1 cls: 0.15259 | 2 cls: 0.12773\n",
      "Finished: best loss -0.85723 on epoch 658\n"
     ]
    }
   ],
   "source": [
    "train_args = {\n",
    "    'model_name': 'TernausNet34_with_scale_05_centers_contour_epoch_800',\n",
    "    'network': 'TernausNet34',\n",
    "    'nb_epoch': 800,\n",
    "    'loss': 'BCEDiceLossMultiWithoutLog',\n",
    "    'lr_args': {\n",
    "        'adjust_init_lr': 0.0005,\n",
    "        'adjust_lr_decay_factor': 0.6,\n",
    "        'cycle_epochs_decay': 2,\n",
    "        'cycle_init_lr': 0.002,\n",
    "        'cycle_lr_decay_factor': 0.3,\n",
    "        'global_cycle_lr_decay_factor': 0.7,\n",
    "        'global_num_epochs_per_cycle': 200,\n",
    "        'num_epochs_per_cycle': 5,\n",
    "        'num_epochs_per_decay': 200\n",
    "    }, \n",
    "    'model_dir': 'models', \n",
    "    'log_dir': 'logs', \n",
    "    'network_args': {\n",
    "        'num_classes': 4, \n",
    "        'num_filters': 32, \n",
    "        'pretrained': True\n",
    "    }, \n",
    "    'loss_args': {\n",
    "        'weights': [0.4, 0.4, 0.1, 0.1],\n",
    "        'num_classes': 4\n",
    "    },       \n",
    "    'optimizer': 'Adam'\n",
    "}\n",
    "\n",
    "train(\n",
    "    train_args, train_ids + val_ids, val_ids[:1], \n",
    "    \"../output_data/with_scale_05_centers_contour/images/{}.png\", \"../output_data/with_scale_05_centers_contour/masks/{}.png\", \n",
    "    32, 1, train_transforms, val_transforms, period=64\n",
    ")"
   ]
  },
  {
   "cell_type": "code",
   "execution_count": null,
   "metadata": {},
   "outputs": [],
   "source": []
  }
 ],
 "metadata": {
  "kernelspec": {
   "display_name": "Environment (conda_pytorch_p36)",
   "language": "python",
   "name": "conda_pytorch_p36"
  },
  "language_info": {
   "codemirror_mode": {
    "name": "ipython",
    "version": 3
   },
   "file_extension": ".py",
   "mimetype": "text/x-python",
   "name": "python",
   "nbconvert_exporter": "python",
   "pygments_lexer": "ipython3",
   "version": "3.6.4"
  }
 },
 "nbformat": 4,
 "nbformat_minor": 2
}
