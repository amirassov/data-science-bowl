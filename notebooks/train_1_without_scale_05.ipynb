{
 "cells": [
  {
   "cell_type": "code",
   "execution_count": null,
   "metadata": {},
   "outputs": [],
   "source": [
    "from IPython.core.display import display, HTML\n",
    "display(HTML(\"<style>.container { width:95% !important; }</style>\"))"
   ]
  },
  {
   "cell_type": "code",
   "execution_count": null,
   "metadata": {},
   "outputs": [],
   "source": [
    "import warnings\n",
    "warnings.simplefilter(\"ignore\", UserWarning)\n",
    "warnings.simplefilter(\"ignore\", FutureWarning)\n",
    "warnings.simplefilter(\"ignore\", RuntimeWarning)\n",
    "\n",
    "import sys\n",
    "sys.path.append('../../dstorch/')\n",
    "\n",
    "import matplotlib.pyplot as plt\n",
    "%matplotlib inline\n",
    "%reload_ext autoreload\n",
    "%autoreload 2"
   ]
  },
  {
   "cell_type": "code",
   "execution_count": null,
   "metadata": {},
   "outputs": [],
   "source": [
    "import os\n",
    "import pandas as pd\n",
    "from dstorch import transforms\n",
    "from dstorch.train import train\n",
    "import torch.backends.cudnn as cudnn\n",
    "import cv2"
   ]
  },
  {
   "cell_type": "code",
   "execution_count": null,
   "metadata": {},
   "outputs": [],
   "source": [
    "ids = list([x.split('.')[0] for x in list(next(os.walk(\"../output_data/without_scale_05/images/\"))[2])])\n",
    "classes = pd.read_csv(\"../data/classes.csv\")\n",
    "val_ids = list(classes.loc[classes['type'] == 'val', 'id'])\n",
    "train_ids = list(set(ids) - set(val_ids))"
   ]
  },
  {
   "cell_type": "code",
   "execution_count": null,
   "metadata": {},
   "outputs": [],
   "source": [
    "train_transforms = transforms.DualCompose(\n",
    "    [\n",
    "        transforms.RandomCrop((256, 256)),\n",
    "        transforms.VerticalFlip(),\n",
    "        transforms.HorizontalFlip(),\n",
    "        transforms.Transpose(),\n",
    "        transforms.ShiftScaleRotate(scale_limit=0.6, shift_limit=0.2),\n",
    "        transforms.Distort1(0.5, 0.5),\n",
    "        transforms.ImageOnly(transforms.RandomBrightness(0.5)),\n",
    "        transforms.ImageOnly(transforms.RandomContrast(0.5)),\n",
    "        transforms.ImageOnly(transforms.RandomSaturation(0.5)),\n",
    "        transforms.ImageOnly(transforms.Normalize(\n",
    "            mean=[0.485, 0.456, 0.406],\n",
    "            std=[0.229, 0.224, 0.225]\n",
    "        ))\n",
    "    ]\n",
    ")\n",
    "\n",
    "val_transforms = transforms.DualCompose(\n",
    "    [\n",
    "        transforms.ImageOnly(transforms.Normalize(\n",
    "            mean=[0.485, 0.456, 0.406],\n",
    "            std=[0.229, 0.224, 0.225]\n",
    "        ))\n",
    "    ]\n",
    ")"
   ]
  },
  {
   "cell_type": "code",
   "execution_count": null,
   "metadata": {},
   "outputs": [],
   "source": [
    "cudnn.benchmark = True"
   ]
  },
  {
   "cell_type": "code",
   "execution_count": null,
   "metadata": {
    "scrolled": true
   },
   "outputs": [],
   "source": [
    "train_args = {\n",
    "    'model_name': 'TernausNet34_without_scale_05_epoch_500',\n",
    "    'network': 'TernausNet34',\n",
    "    'nb_epoch': 500,\n",
    "    'loss': 'BCEDiceLossMulti',\n",
    "    'lr_args': {\n",
    "        'adjust_init_lr': 0.0003,\n",
    "        'adjust_lr_decay_factor': 0.5,\n",
    "        'cycle_epochs_decay': 2,\n",
    "        'cycle_init_lr': 0.001,\n",
    "        'cycle_lr_decay_factor': 0.3,\n",
    "        'global_cycle_lr_decay_factor': 0.7,\n",
    "        'global_num_epochs_per_cycle': 100,\n",
    "        'num_epochs_per_cycle': 5,\n",
    "        'num_epochs_per_decay': 100\n",
    "    }, \n",
    "    'model_dir': 'models', \n",
    "    'log_dir': 'logs', \n",
    "    'network_args': {\n",
    "        'num_classes': 3, \n",
    "        'num_filters': 16, \n",
    "        'pretrained': True\n",
    "    }, \n",
    "    'loss_args': {\n",
    "        'weights': [0.5, 0.4, 0.1],\n",
    "        'num_classes': 3\n",
    "    },       \n",
    "    'optimizer': 'Adam'\n",
    "}\n",
    "\n",
    "train(\n",
    "    train_args, train_ids + val_ids, val_ids[:1], \n",
    "    \"../output_data/without_scale_05/images/{}.png\", \"../output_data/without_scale_05/masks/{}.png\", \n",
    "    16, 1, train_transforms, val_transforms, period=64\n",
    ")"
   ]
  },
  {
   "cell_type": "code",
   "execution_count": null,
   "metadata": {},
   "outputs": [],
   "source": []
  }
 ],
 "metadata": {
  "kernelspec": {
   "display_name": "Environment (conda_pytorch_p36)",
   "language": "python",
   "name": "conda_pytorch_p36"
  },
  "language_info": {
   "codemirror_mode": {
    "name": "ipython",
    "version": 3
   },
   "file_extension": ".py",
   "mimetype": "text/x-python",
   "name": "python",
   "nbconvert_exporter": "python",
   "pygments_lexer": "ipython3",
   "version": "3.6.4"
  }
 },
 "nbformat": 4,
 "nbformat_minor": 2
}
