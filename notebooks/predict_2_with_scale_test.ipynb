{
 "cells": [
  {
   "cell_type": "code",
   "execution_count": 8,
   "metadata": {},
   "outputs": [
    {
     "data": {
      "text/html": [
       "<style>.container { width:95% !important; }</style>"
      ],
      "text/plain": [
       "<IPython.core.display.HTML object>"
      ]
     },
     "metadata": {},
     "output_type": "display_data"
    }
   ],
   "source": [
    "from IPython.core.display import display, HTML\n",
    "display(HTML(\"<style>.container { width:95% !important; }</style>\"))"
   ]
  },
  {
   "cell_type": "code",
   "execution_count": 9,
   "metadata": {},
   "outputs": [],
   "source": [
    "import warnings\n",
    "warnings.simplefilter(\"ignore\", UserWarning)\n",
    "warnings.simplefilter(\"ignore\", FutureWarning)\n",
    "warnings.simplefilter(\"ignore\", RuntimeWarning)\n",
    "\n",
    "import sys\n",
    "sys.path.append('../../dstorch/')\n",
    "\n",
    "import matplotlib.pyplot as plt\n",
    "%matplotlib inline\n",
    "%reload_ext autoreload\n",
    "%autoreload 2"
   ]
  },
  {
   "cell_type": "code",
   "execution_count": 10,
   "metadata": {},
   "outputs": [],
   "source": [
    "from dstorch import preprocessing, draw, io\n",
    "import cv2\n",
    "import os\n",
    "import numpy as np"
   ]
  },
  {
   "cell_type": "code",
   "execution_count": 11,
   "metadata": {
    "scrolled": true
   },
   "outputs": [
    {
     "name": "stderr",
     "output_type": "stream",
     "text": [
      "Reading test data..: 100%|██████████| 65/65 [00:00<00:00, 232.98it/s]\n"
     ]
    }
   ],
   "source": [
    "test_ids, test_images = io.read_test_data('../data/stage1_test/')"
   ]
  },
  {
   "cell_type": "code",
   "execution_count": 12,
   "metadata": {},
   "outputs": [
    {
     "name": "stderr",
     "output_type": "stream",
     "text": [
      "Reading test data..: 100%|██████████| 65/65 [00:00<00:00, 223.75it/s]\n",
      "Save test data: 100%|██████████| 65/65 [00:00<00:00, 107.92it/s]\n",
      "Scale & save test data: 100%|██████████| 65/65 [00:00<00:00, 124.01it/s]\n"
     ]
    }
   ],
   "source": [
    "preprocessing_args = {\n",
    "    'test_path': '../data/stage1_test/', \n",
    "    'output_path': '../output_data/with_scale_05/',\n",
    "    'invert': True, \n",
    "    'scale': True,\n",
    "    'test_labels_file': \"../output_data/test_predict_labels.csv\", \n",
    "    'size': 250 \n",
    "}\n",
    "\n",
    "preprocessing.prepare_test_data(**preprocessing_args)"
   ]
  },
  {
   "cell_type": "code",
   "execution_count": 13,
   "metadata": {},
   "outputs": [
    {
     "name": "stderr",
     "output_type": "stream",
     "text": [
      "Reading test data..: 100%|██████████| 65/65 [00:00<00:00, 234.03it/s]\n",
      "Save test data: 100%|██████████| 65/65 [00:00<00:00, 107.61it/s]\n",
      "Scale & save test data: 100%|██████████| 65/65 [00:00<00:00, 130.02it/s]\n"
     ]
    }
   ],
   "source": [
    "preprocessing_args = {\n",
    "    'test_path': '../data/stage1_test/', \n",
    "    'output_path': '../output_data/with_scale_05_03_only_centers/',\n",
    "    'invert': True, \n",
    "    'scale': True,\n",
    "    'test_labels_file': \"../output_data/test_predict_labels.csv\", \n",
    "    'size': 250 \n",
    "}\n",
    "\n",
    "preprocessing.prepare_test_data(**preprocessing_args)"
   ]
  },
  {
   "cell_type": "code",
   "execution_count": 14,
   "metadata": {},
   "outputs": [
    {
     "name": "stderr",
     "output_type": "stream",
     "text": [
      "Reading test data..: 100%|██████████| 65/65 [00:00<00:00, 235.47it/s]\n",
      "Save test data: 100%|██████████| 65/65 [00:00<00:00, 108.30it/s]\n",
      "Scale & save test data: 100%|██████████| 65/65 [00:00<00:00, 129.96it/s]\n"
     ]
    }
   ],
   "source": [
    "preprocessing_args = {\n",
    "    'test_path': '../data/stage1_test/', \n",
    "    'output_path': '../output_data/with_scale_05_centers_contour/',\n",
    "    'invert': True, \n",
    "    'scale': True,\n",
    "    'test_labels_file': \"../output_data/test_predict_labels.csv\", \n",
    "    'size': 250 \n",
    "}\n",
    "\n",
    "\n",
    "preprocessing.prepare_test_data(**preprocessing_args)"
   ]
  },
  {
   "cell_type": "code",
   "execution_count": null,
   "metadata": {},
   "outputs": [],
   "source": []
  }
 ],
 "metadata": {
  "kernelspec": {
   "display_name": "Environment (conda_pytorch_p36)",
   "language": "python",
   "name": "conda_pytorch_p36"
  },
  "language_info": {
   "codemirror_mode": {
    "name": "ipython",
    "version": 3
   },
   "file_extension": ".py",
   "mimetype": "text/x-python",
   "name": "python",
   "nbconvert_exporter": "python",
   "pygments_lexer": "ipython3",
   "version": "3.6.4"
  }
 },
 "nbformat": 4,
 "nbformat_minor": 2
}
