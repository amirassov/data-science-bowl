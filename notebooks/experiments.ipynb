{
 "cells": [
  {
   "cell_type": "code",
   "execution_count": 1,
   "metadata": {},
   "outputs": [],
   "source": [
    "import torch\n",
    "from torch import nn\n",
    "from torch.nn import functional as F\n",
    "\n",
    "\n",
    "def dice_loss(input, target):\n",
    "    EPS = 1e-15\n",
    "    dice_target = (target == 1).float()\n",
    "    dice_input = input\n",
    "    \n",
    "    intersection = (dice_target * dice_input).sum() + EPS\n",
    "    union = dice_target.sum() + dice_input.sum() + EPS\n",
    "    return 2.0 * intersection / union\n",
    "\n",
    "\n",
    "class DiceLoss(nn.Module):\n",
    "    def __init__(self):\n",
    "        super().__init__()\n",
    "    \n",
    "    def forward(self, input, target):\n",
    "        return dice_loss(input, target)\n",
    "\n",
    "\n",
    "class BCEDiceLoss(nn.Module):\n",
    "    def __init__(self, size_average=True):\n",
    "        super().__init__()\n",
    "        self.size_average = size_average\n",
    "        self.dice = DiceLoss()\n",
    "        self.bce = nn.modules.loss.BCEWithLogitsLoss()\n",
    "\n",
    "    def forward(self, input, target):\n",
    "        return 0.5 * self.bce(input, target) - self.dice(input, target)\n",
    "\n",
    "\n",
    "class BCEDiceLossMulti(nn.Module):\n",
    "    def __init__(self, num_classes=1):\n",
    "        super().__init__()\n",
    "        self.bce_dice = BCEDiceLoss()\n",
    "        self.num_classes = num_classes\n",
    "\n",
    "    def forward(self, input, target):\n",
    "        loss = 0\n",
    "        for cls in range(self.num_classes):\n",
    "            loss += self.bce_dice(input[:, cls], target[:, cls])\n",
    "        return loss / self.num_classes\n"
   ]
  },
  {
   "cell_type": "code",
   "execution_count": 1,
   "metadata": {},
   "outputs": [],
   "source": [
    "import torch\n",
    "from torch import nn\n",
    "from torch.nn import functional as F\n",
    "\n",
    "\n",
    "def dice_loss(preds, trues, is_average=True):\n",
    "    num = preds.size(0)\n",
    "    preds = preds.view(num, -1)\n",
    "    trues = trues.view(num, -1)\n",
    "    intersection = (preds * trues).sum(1)\n",
    "    scores = 2.0 * (intersection + 1) / (preds.sum(1) + trues.sum(1) + 1)\n",
    "\n",
    "    if is_average:\n",
    "        score = scores.sum() / num\n",
    "        return torch.clamp(score, 0., 1.)\n",
    "    else:\n",
    "        return scores\n",
    "\n",
    "\n",
    "class DiceLoss(nn.Module):\n",
    "    def __init__(self, size_average=True):\n",
    "        super().__init__()\n",
    "        self.size_average = size_average\n",
    "    \n",
    "    def forward(self, input, target):\n",
    "        return dice_loss(F.sigmoid(input), target, is_average=self.size_average)\n",
    "\n",
    "\n",
    "class BCEDiceLoss(nn.Module):\n",
    "    def __init__(self, size_average=True):\n",
    "        super().__init__()\n",
    "        self.size_average = size_average\n",
    "        self.dice = DiceLoss(size_average=size_average)\n",
    "        self.bce = nn.modules.loss.BCEWithLogitsLoss(size_average=self.size_average)\n",
    "    \n",
    "    def forward(self, input, target):\n",
    "        return 0.5 * self.bce(input, target) - self.dice(input, target)\n",
    "\n",
    "\n",
    "class BCEDiceLossMulti(nn.Module):\n",
    "    def __init__(self, size_average=True, num_classes=1):\n",
    "        super().__init__()\n",
    "        self.size_average = size_average\n",
    "        self.bce_dice = BCEDiceLoss(size_average=size_average)\n",
    "        self.num_classes = num_classes\n",
    "\n",
    "    def forward(self, input, target):\n",
    "        loss = 0\n",
    "        for cls in range(self.num_classes):\n",
    "            loss += self.bce_dice(input[:, cls].contiguous(), target[:, cls].contiguous())\n",
    "        return loss / self.num_classes\n"
   ]
  },
  {
   "cell_type": "code",
   "execution_count": 2,
   "metadata": {},
   "outputs": [],
   "source": [
    "import cv2\n",
    "import matplotlib.pyplot as plt\n",
    "%matplotlib inline"
   ]
  },
  {
   "cell_type": "code",
   "execution_count": 3,
   "metadata": {},
   "outputs": [
    {
     "data": {
      "text/plain": [
       "<matplotlib.image.AxesImage at 0x11b10f278>"
      ]
     },
     "execution_count": 3,
     "metadata": {},
     "output_type": "execute_result"
    },
    {
     "data": {
      "image/png": "[encoded data removed]",
      "text/plain": [
       "<matplotlib.figure.Figure at 0x107aebcc0>"
      ]
     },
     "metadata": {},
     "output_type": "display_data"
    }
   ],
   "source": [
    "gt_mask = cv2.imread(\"../../dsbowl_old/data/stage1_train/00071198d059ba7f5914a526d124d28e6d010c92466da21d4a04cd5413362552/masks/07a9bf1d7594af2763c86e93f05d22c4d5181353c6d3ab30a345b908ffe5aadc.png\")\n",
    "plt.imshow(gt_mask)"
   ]
  },
  {
   "cell_type": "code",
   "execution_count": 4,
   "metadata": {},
   "outputs": [],
   "source": [
    "import sys\n",
    "sys.path.append('../../dstorch/')"
   ]
  },
  {
   "cell_type": "code",
   "execution_count": 5,
   "metadata": {},
   "outputs": [],
   "source": [
    "from dstorch import utils\n",
    "import numpy as np"
   ]
  },
  {
   "cell_type": "code",
   "execution_count": 12,
   "metadata": {},
   "outputs": [
    {
     "data": {
      "text/plain": [
       "Variable containing:\n",
       " 0.4836\n",
       "[torch.FloatTensor of size 1]"
      ]
     },
     "execution_count": 12,
     "metadata": {},
     "output_type": "execute_result"
    }
   ],
   "source": [
    "target = utils.to_float_tensor(gt_mask / 255).view(1, 3, 256, 256)\n",
    "input =  torch.FloatTensor(1, 3, 256, 256).uniform_(0, 1)\n",
    "BCEDiceLossMulti(num_classes=3).forward(utils.variable(input), utils.variable(target))"
   ]
  },
  {
   "cell_type": "code",
   "execution_count": 13,
   "metadata": {},
   "outputs": [
    {
     "data": {
      "text/plain": [
       "Variable containing:\n",
       " 0.4839\n",
       "[torch.FloatTensor of size 1]"
      ]
     },
     "execution_count": 13,
     "metadata": {},
     "output_type": "execute_result"
    }
   ],
   "source": [
    "target = utils.to_float_tensor(gt_mask[..., 0] / 255).view(1, 1, 256, 256)\n",
    "input =  torch.FloatTensor(1, 1, 256, 256).uniform_(0, 1)\n",
    "BCEDiceLoss().forward(utils.variable(input), utils.variable(target))"
   ]
  },
  {
   "cell_type": "code",
   "execution_count": 213,
   "metadata": {},
   "outputs": [
    {
     "data": {
      "text/plain": [
       "\n",
       "( 0 , 0 ,.,.) = \n",
       "   0   0   0  ...    0   0   0\n",
       "   0   0   0  ...    0   0   0\n",
       "   0   0   0  ...    0   0   0\n",
       "     ...       ⋱       ...    \n",
       "   0   0   0  ...    0   0   0\n",
       "   0   0   0  ...    0   0   0\n",
       "   0   0   0  ...    0   0   0\n",
       "[torch.FloatTensor of size 1x1x256x256]"
      ]
     },
     "execution_count": 213,
     "metadata": {},
     "output_type": "execute_result"
    }
   ],
   "source": [
    "target"
   ]
  },
  {
   "cell_type": "code",
   "execution_count": null,
   "metadata": {},
   "outputs": [],
   "source": []
  }
 ],
 "metadata": {
  "kernelspec": {
   "display_name": "Python 3",
   "language": "python",
   "name": "python3"
  },
  "language_info": {
   "codemirror_mode": {
    "name": "ipython",
    "version": 3
   },
   "file_extension": ".py",
   "mimetype": "text/x-python",
   "name": "python",
   "nbconvert_exporter": "python",
   "pygments_lexer": "ipython3",
   "version": "3.6.3"
  }
 },
 "nbformat": 4,
 "nbformat_minor": 2
}
