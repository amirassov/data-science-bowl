{
 "cells": [
  {
   "cell_type": "code",
   "execution_count": 1,
   "metadata": {},
   "outputs": [
    {
     "data": {
      "text/html": [
       "<style>.container { width:95% !important; }</style>"
      ],
      "text/plain": [
       "<IPython.core.display.HTML object>"
      ]
     },
     "metadata": {},
     "output_type": "display_data"
    }
   ],
   "source": [
    "from IPython.core.display import display, HTML\n",
    "display(HTML(\"<style>.container { width:95% !important; }</style>\"))"
   ]
  },
  {
   "cell_type": "code",
   "execution_count": 2,
   "metadata": {},
   "outputs": [],
   "source": [
    "import warnings\n",
    "warnings.simplefilter(\"ignore\", UserWarning)\n",
    "warnings.simplefilter(\"ignore\", FutureWarning)\n",
    "warnings.simplefilter(\"ignore\", RuntimeWarning)\n",
    "\n",
    "import sys\n",
    "sys.path.append('../../dstorch/')\n",
    "\n",
    "import matplotlib.pyplot as plt\n",
    "%matplotlib inline\n",
    "%reload_ext autoreload\n",
    "%autoreload 2"
   ]
  },
  {
   "cell_type": "code",
   "execution_count": 3,
   "metadata": {},
   "outputs": [],
   "source": [
    "import os\n",
    "import pandas as pd\n",
    "from dstorch import transforms\n",
    "from dstorch.train import train\n",
    "import torch.backends.cudnn as cudnn"
   ]
  },
  {
   "cell_type": "code",
   "execution_count": 4,
   "metadata": {},
   "outputs": [],
   "source": [
    "ids = list([x.split('.')[0] for x in list(next(os.walk(\"../output_data/with_scale_05/images/\"))[2])])\n",
    "classes = pd.read_csv(\"../data/classes.csv\")\n",
    "val_ids = list(classes.loc[classes['type'] == 'val', 'id'])\n",
    "train_ids = list(set(ids) - set(val_ids))"
   ]
  },
  {
   "cell_type": "code",
   "execution_count": 7,
   "metadata": {},
   "outputs": [],
   "source": [
    "train_transforms = transforms.DualCompose(\n",
    "    [\n",
    "        transforms.RandomCrop((256, 256)),\n",
    "        transforms.VerticalFlip(),\n",
    "        transforms.HorizontalFlip(),\n",
    "        transforms.Transpose(),\n",
    "        transforms.ShiftScaleRotate(scale_limit=0.2, shift_limit=0.2),\n",
    "        transforms.Distort1(0.4, 0.4),\n",
    "        transforms.ImageOnly(transforms.RandomBrightness(0.5)),\n",
    "        transforms.ImageOnly(transforms.RandomContrast(0.5)),\n",
    "        transforms.ImageOnly(transforms.RandomSaturation(0.5)),\n",
    "        transforms.ImageOnly(transforms.Normalize(\n",
    "            mean=[0.485, 0.456, 0.406],\n",
    "            std=[0.229, 0.224, 0.225]\n",
    "        ))\n",
    "    ]\n",
    ")\n",
    "\n",
    "val_transforms = transforms.DualCompose(\n",
    "    [\n",
    "        transforms.ImageOnly(transforms.Normalize(\n",
    "            mean=[0.485, 0.456, 0.406],\n",
    "            std=[0.229, 0.224, 0.225]\n",
    "        ))\n",
    "    ]\n",
    ")"
   ]
  },
  {
   "cell_type": "code",
   "execution_count": 8,
   "metadata": {},
   "outputs": [],
   "source": [
    "cudnn.benchmark = True"
   ]
  },
  {
   "cell_type": "code",
   "execution_count": 9,
   "metadata": {},
   "outputs": [
    {
     "name": "stderr",
     "output_type": "stream",
     "text": [
      "Epoch 0, lr 0.0005: 100% 43/43 [00:15<00:00,  2.73it/s, 0 cls=1.25437, 1 cls=1.54293, 2 cls=1.60763, bce=0.41540, dice=0.40877, loss=1.44045]\n"
     ]
    },
    {
     "name": "stdout",
     "output_type": "stream",
     "text": [
      "loss: 0.49862 | bce: 0.11273 | dice: 0.66834 | 0 cls: 0.24148 | 1 cls: 0.48217 | 2 cls: 0.94887\n"
     ]
    },
    {
     "name": "stderr",
     "output_type": "stream",
     "text": [
      "Epoch 1, lr 0.0005: 100% 43/43 [00:12<00:00,  3.55it/s, 0 cls=0.55086, 1 cls=0.71645, 2 cls=0.99053, bce=0.21224, dice=0.60936, loss=0.70503]\n"
     ]
    },
    {
     "name": "stdout",
     "output_type": "stream",
     "text": [
      "loss: 2.62634 | bce: 0.94544 | dice: 0.17989 | 0 cls: 3.04350 | 1 cls: 2.13337 | 2 cls: 2.90881\n"
     ]
    },
    {
     "name": "stderr",
     "output_type": "stream",
     "text": [
      "Epoch 2, lr 0.0005: 100% 43/43 [00:12<00:00,  3.53it/s, 0 cls=0.46224, 1 cls=0.59059, 2 cls=0.82442, bce=0.17664, dice=0.66233, loss=0.58602]\n"
     ]
    },
    {
     "name": "stdout",
     "output_type": "stream",
     "text": [
      "loss: 0.44052 | bce: 0.10523 | dice: 0.67286 | 0 cls: 0.35575 | 1 cls: 0.29368 | 2 cls: 0.85688\n"
     ]
    },
    {
     "name": "stderr",
     "output_type": "stream",
     "text": [
      "Epoch 3, lr 0.0005: 100% 43/43 [00:12<00:00,  3.53it/s, 0 cls=0.40730, 1 cls=0.52931, 2 cls=0.73889, bce=0.16051, dice=0.69530, loss=0.52242]\n"
     ]
    },
    {
     "name": "stdout",
     "output_type": "stream",
     "text": [
      "loss: 0.37966 | bce: 0.08560 | dice: 0.72289 | 0 cls: 0.28997 | 1 cls: 0.30605 | 2 cls: 0.65814\n"
     ]
    },
    {
     "name": "stderr",
     "output_type": "stream",
     "text": [
      "Epoch 4, lr 0.0005: 100% 43/43 [00:12<00:00,  3.51it/s, 0 cls=0.38192, 1 cls=0.48492, 2 cls=0.68516, bce=0.15061, dice=0.71365, loss=0.48377]\n"
     ]
    },
    {
     "name": "stdout",
     "output_type": "stream",
     "text": [
      "loss: 0.34071 | bce: 0.08745 | dice: 0.78284 | 0 cls: 0.16523 | 1 cls: 0.39376 | 2 cls: 0.54613\n"
     ]
    },
    {
     "name": "stderr",
     "output_type": "stream",
     "text": [
      "Epoch 5, lr 0.0005: 100% 43/43 [00:12<00:00,  3.51it/s, 0 cls=0.36748, 1 cls=0.47224, 2 cls=0.65263, bce=0.14474, dice=0.72328, loss=0.46641]\n"
     ]
    },
    {
     "name": "stdout",
     "output_type": "stream",
     "text": [
      "loss: 0.59964 | bce: 0.13005 | dice: 0.56616 | 0 cls: 0.59276 | 1 cls: 0.30958 | 2 cls: 1.08697\n"
     ]
    },
    {
     "name": "stderr",
     "output_type": "stream",
     "text": [
      "Epoch 6, lr 0.0005: 100% 43/43 [00:12<00:00,  3.50it/s, 0 cls=0.34379, 1 cls=0.46636, 2 cls=0.63137, bce=0.14069, dice=0.73465, loss=0.45033]\n"
     ]
    },
    {
     "name": "stdout",
     "output_type": "stream",
     "text": [
      "loss: 0.26483 | bce: 0.05095 | dice: 0.79979 | 0 cls: 0.18782 | 1 cls: 0.22554 | 2 cls: 0.45883\n"
     ]
    },
    {
     "name": "stderr",
     "output_type": "stream",
     "text": [
      "Epoch 7, lr 0.0005: 100% 43/43 [00:12<00:00,  3.47it/s, 0 cls=0.33631, 1 cls=0.45251, 2 cls=0.61468, bce=0.13627, dice=0.73963, loss=0.43847]\n"
     ]
    },
    {
     "name": "stdout",
     "output_type": "stream",
     "text": [
      "loss: 0.28251 | bce: 0.05724 | dice: 0.79107 | 0 cls: 0.19434 | 1 cls: 0.25403 | 2 cls: 0.49116\n"
     ]
    },
    {
     "name": "stderr",
     "output_type": "stream",
     "text": [
      "Epoch 8, lr 0.0005: 100% 43/43 [00:12<00:00,  3.50it/s, 0 cls=0.33839, 1 cls=0.44514, 2 cls=0.61744, bce=0.13395, dice=0.73807, loss=0.43690]\n"
     ]
    },
    {
     "name": "stdout",
     "output_type": "stream",
     "text": [
      "loss: 0.25268 | bce: 0.06351 | dice: 0.82103 | 0 cls: 0.16954 | 1 cls: 0.23170 | 2 cls: 0.42921\n"
     ]
    },
    {
     "name": "stderr",
     "output_type": "stream",
     "text": [
      "Epoch 9, lr 0.0005: 100% 43/43 [00:12<00:00,  3.50it/s, 0 cls=0.32930, 1 cls=0.43581, 2 cls=0.59763, bce=0.13279, dice=0.74616, loss=0.42557]\n"
     ]
    },
    {
     "name": "stdout",
     "output_type": "stream",
     "text": [
      "loss: 0.26775 | bce: 0.05884 | dice: 0.80848 | 0 cls: 0.16595 | 1 cls: 0.26551 | 2 cls: 0.44925\n"
     ]
    },
    {
     "name": "stderr",
     "output_type": "stream",
     "text": [
      "Epoch 10, lr 0.0005: 100% 43/43 [00:12<00:00,  3.50it/s, 0 cls=0.32662, 1 cls=0.42486, 2 cls=0.58663, bce=0.12810, dice=0.74752, loss=0.41791]\n"
     ]
    },
    {
     "name": "stdout",
     "output_type": "stream",
     "text": [
      "loss: 0.25897 | bce: 0.05561 | dice: 0.81175 | 0 cls: 0.16966 | 1 cls: 0.23964 | 2 cls: 0.43359\n"
     ]
    },
    {
     "name": "stderr",
     "output_type": "stream",
     "text": [
      "Epoch 11, lr 0.0005: 100% 43/43 [00:12<00:00,  3.47it/s, 0 cls=0.30274, 1 cls=0.40887, 2 cls=0.56273, bce=0.12227, dice=0.75895, loss=0.39719]\n"
     ]
    },
    {
     "name": "stdout",
     "output_type": "stream",
     "text": [
      "loss: 0.22085 | bce: 0.05222 | dice: 0.84085 | 0 cls: 0.14436 | 1 cls: 0.20942 | 2 cls: 0.36867\n"
     ]
    },
    {
     "name": "stderr",
     "output_type": "stream",
     "text": [
      "Epoch 12, lr 0.0005: 100% 43/43 [00:12<00:00,  3.46it/s, 0 cls=0.30570, 1 cls=0.40100, 2 cls=0.55529, bce=0.12643, dice=0.76453, loss=0.39374]\n"
     ]
    },
    {
     "name": "stdout",
     "output_type": "stream",
     "text": [
      "loss: 0.22336 | bce: 0.05284 | dice: 0.83846 | 0 cls: 0.15015 | 1 cls: 0.20417 | 2 cls: 0.37174\n"
     ]
    },
    {
     "name": "stderr",
     "output_type": "stream",
     "text": [
      "Epoch 13, lr 0.0005: 100% 43/43 [00:12<00:00,  3.44it/s, 0 cls=0.30040, 1 cls=0.41116, 2 cls=0.55026, bce=0.12218, dice=0.76291, loss=0.39468]\n"
     ]
    },
    {
     "name": "stdout",
     "output_type": "stream",
     "text": [
      "loss: 0.21779 | bce: 0.05210 | dice: 0.84360 | 0 cls: 0.13919 | 1 cls: 0.20846 | 2 cls: 0.36500\n"
     ]
    },
    {
     "name": "stderr",
     "output_type": "stream",
     "text": [
      "Epoch 14, lr 0.0005: 100% 43/43 [00:12<00:00,  3.42it/s, 0 cls=0.29005, 1 cls=0.39540, 2 cls=0.53427, bce=0.11830, dice=0.76973, loss=0.38104]\n"
     ]
    },
    {
     "name": "stdout",
     "output_type": "stream",
     "text": [
      "loss: 0.21477 | bce: 0.04980 | dice: 0.84382 | 0 cls: 0.14360 | 1 cls: 0.20267 | 2 cls: 0.35666\n"
     ]
    },
    {
     "name": "stderr",
     "output_type": "stream",
     "text": [
      "Epoch 15, lr 0.0005: 100% 43/43 [00:12<00:00,  3.45it/s, 0 cls=0.30353, 1 cls=0.39629, 2 cls=0.54510, bce=0.12355, dice=0.76638, loss=0.38895]\n"
     ]
    },
    {
     "name": "stdout",
     "output_type": "stream",
     "text": [
      "loss: 0.21887 | bce: 0.04840 | dice: 0.83926 | 0 cls: 0.14346 | 1 cls: 0.20697 | 2 cls: 0.36331\n"
     ]
    },
    {
     "name": "stderr",
     "output_type": "stream",
     "text": [
      "Epoch 16, lr 0.0005: 100% 43/43 [00:12<00:00,  3.44it/s, 0 cls=0.28804, 1 cls=0.38245, 2 cls=0.53192, bce=0.11900, dice=0.77368, loss=0.37458]\n"
     ]
    },
    {
     "name": "stdout",
     "output_type": "stream",
     "text": [
      "loss: 0.21352 | bce: 0.04704 | dice: 0.84162 | 0 cls: 0.14728 | 1 cls: 0.19607 | 2 cls: 0.35349\n"
     ]
    },
    {
     "name": "stderr",
     "output_type": "stream",
     "text": [
      "Epoch 17, lr 0.0005: 100% 43/43 [00:12<00:00,  3.44it/s, 0 cls=0.27287, 1 cls=0.37177, 2 cls=0.51464, bce=0.11276, dice=0.77967, loss=0.36078]\n"
     ]
    },
    {
     "name": "stdout",
     "output_type": "stream",
     "text": [
      "loss: 0.22431 | bce: 0.05659 | dice: 0.84445 | 0 cls: 0.13915 | 1 cls: 0.22049 | 2 cls: 0.36821\n"
     ]
    },
    {
     "name": "stderr",
     "output_type": "stream",
     "text": [
      "Epoch 18, lr 0.0005: 100% 43/43 [00:12<00:00,  3.43it/s, 0 cls=0.28720, 1 cls=0.39114, 2 cls=0.52559, bce=0.11798, dice=0.77337, loss=0.37646]\n"
     ]
    },
    {
     "name": "stdout",
     "output_type": "stream",
     "text": [
      "loss: 0.20337 | bce: 0.04527 | dice: 0.85020 | 0 cls: 0.13453 | 1 cls: 0.18843 | 2 cls: 0.34032\n"
     ]
    },
    {
     "name": "stderr",
     "output_type": "stream",
     "text": [
      "Epoch 19, lr 0.0005: 100% 43/43 [00:12<00:00,  3.44it/s, 0 cls=0.31994, 1 cls=0.39535, 2 cls=0.57216, bce=0.12895, dice=0.75898, loss=0.40055]\n"
     ]
    },
    {
     "name": "stdout",
     "output_type": "stream",
     "text": [
      "loss: 0.24700 | bce: 0.07670 | dice: 0.82522 | 0 cls: 0.18049 | 1 cls: 0.20224 | 2 cls: 0.44905\n"
     ]
    },
    {
     "name": "stderr",
     "output_type": "stream",
     "text": [
      "Epoch 20, lr 0.0005: 100% 43/43 [00:12<00:00,  3.43it/s, 0 cls=0.27381, 1 cls=0.36722, 2 cls=0.51176, bce=0.11331, dice=0.78175, loss=0.35876]\n"
     ]
    },
    {
     "name": "stdout",
     "output_type": "stream",
     "text": [
      "loss: 0.22333 | bce: 0.05272 | dice: 0.83591 | 0 cls: 0.16442 | 1 cls: 0.19806 | 2 cls: 0.36877\n"
     ]
    },
    {
     "name": "stderr",
     "output_type": "stream",
     "text": [
      "Epoch 21, lr 0.0005: 100% 43/43 [00:12<00:00,  3.41it/s, 0 cls=0.27601, 1 cls=0.37178, 2 cls=0.51102, bce=0.11513, dice=0.78133, loss=0.36132]\n"
     ]
    },
    {
     "name": "stdout",
     "output_type": "stream",
     "text": [
      "loss: 0.22148 | bce: 0.04973 | dice: 0.83773 | 0 cls: 0.15776 | 1 cls: 0.19832 | 2 cls: 0.35966\n"
     ]
    },
    {
     "name": "stderr",
     "output_type": "stream",
     "text": [
      "Epoch 22, lr 0.0005: 100% 43/43 [00:12<00:00,  3.43it/s, 0 cls=0.26840, 1 cls=0.36702, 2 cls=0.50343, bce=0.11323, dice=0.78538, loss=0.35486]\n"
     ]
    },
    {
     "name": "stdout",
     "output_type": "stream",
     "text": [
      "loss: 0.20357 | bce: 0.04894 | dice: 0.85366 | 0 cls: 0.13191 | 1 cls: 0.19437 | 2 cls: 0.33799\n"
     ]
    },
    {
     "name": "stderr",
     "output_type": "stream",
     "text": [
      "Epoch 23, lr 0.0005: 100% 43/43 [00:12<00:00,  3.44it/s, 0 cls=0.26407, 1 cls=0.35780, 2 cls=0.49170, bce=0.10972, dice=0.78817, loss=0.34709]\n"
     ]
    },
    {
     "name": "stdout",
     "output_type": "stream",
     "text": [
      "loss: 0.21348 | bce: 0.04961 | dice: 0.84585 | 0 cls: 0.13545 | 1 cls: 0.20942 | 2 cls: 0.35186\n"
     ]
    },
    {
     "name": "stderr",
     "output_type": "stream",
     "text": [
      "Epoch 24, lr 0.0005: 100% 43/43 [00:12<00:00,  3.43it/s, 0 cls=0.26207, 1 cls=0.35851, 2 cls=0.48798, bce=0.11096, dice=0.79098, loss=0.34583]\n"
     ]
    },
    {
     "name": "stdout",
     "output_type": "stream",
     "text": [
      "loss: 0.23500 | bce: 0.05367 | dice: 0.83054 | 0 cls: 0.15336 | 1 cls: 0.22689 | 2 cls: 0.39206\n"
     ]
    },
    {
     "name": "stderr",
     "output_type": "stream",
     "text": [
      "Epoch 25, lr 0.0005: 100% 43/43 [00:12<00:00,  3.44it/s, 0 cls=0.25292, 1 cls=0.34731, 2 cls=0.48103, bce=0.10489, dice=0.79260, loss=0.33630]\n"
     ]
    },
    {
     "name": "stdout",
     "output_type": "stream",
     "text": [
      "loss: 0.22359 | bce: 0.05113 | dice: 0.83951 | 0 cls: 0.14008 | 1 cls: 0.22538 | 2 cls: 0.36471\n"
     ]
    },
    {
     "name": "stderr",
     "output_type": "stream",
     "text": [
      "Epoch 26, lr 0.0005: 100% 43/43 [00:12<00:00,  3.44it/s, 0 cls=0.26270, 1 cls=0.35414, 2 cls=0.49017, bce=0.10812, dice=0.78927, loss=0.34477]\n"
     ]
    },
    {
     "name": "stdout",
     "output_type": "stream",
     "text": [
      "loss: 0.26661 | bce: 0.05856 | dice: 0.80666 | 0 cls: 0.18292 | 1 cls: 0.24167 | 2 cls: 0.45099\n"
     ]
    },
    {
     "name": "stderr",
     "output_type": "stream",
     "text": [
      "Epoch 27, lr 0.0005: 100% 43/43 [00:12<00:00,  3.43it/s, 0 cls=0.27339, 1 cls=0.36287, 2 cls=0.49559, bce=0.11044, dice=0.78422, loss=0.35362]\n"
     ]
    },
    {
     "name": "stdout",
     "output_type": "stream",
     "text": [
      "loss: 0.21326 | bce: 0.04765 | dice: 0.84322 | 0 cls: 0.13480 | 1 cls: 0.20447 | 2 cls: 0.36209\n"
     ]
    },
    {
     "name": "stderr",
     "output_type": "stream",
     "text": [
      "Epoch 28, lr 0.0005: 100% 43/43 [00:12<00:00,  3.43it/s, 0 cls=0.25542, 1 cls=0.35081, 2 cls=0.47856, bce=0.10545, dice=0.79220, loss=0.33821]\n"
     ]
    },
    {
     "name": "stdout",
     "output_type": "stream",
     "text": [
      "loss: 0.25060 | bce: 0.06403 | dice: 0.83096 | 0 cls: 0.14207 | 1 cls: 0.27134 | 2 cls: 0.40336\n"
     ]
    },
    {
     "name": "stderr",
     "output_type": "stream",
     "text": [
      "Epoch 29, lr 0.0005: 100% 43/43 [00:12<00:00,  3.43it/s, 0 cls=0.24233, 1 cls=0.34674, 2 cls=0.46694, bce=0.10276, dice=0.79858, loss=0.32901]\n"
     ]
    },
    {
     "name": "stdout",
     "output_type": "stream",
     "text": [
      "loss: 0.19267 | bce: 0.04444 | dice: 0.85840 | 0 cls: 0.12719 | 1 cls: 0.18389 | 2 cls: 0.32322\n"
     ]
    },
    {
     "name": "stderr",
     "output_type": "stream",
     "text": [
      "Epoch 30, lr 0.0005: 100% 43/43 [00:12<00:00,  3.41it/s, 0 cls=0.25657, 1 cls=0.35002, 2 cls=0.47805, bce=0.10557, dice=0.79241, loss=0.33825]\n"
     ]
    },
    {
     "name": "stdout",
     "output_type": "stream",
     "text": [
      "loss: 0.23989 | bce: 0.05029 | dice: 0.82318 | 0 cls: 0.16797 | 1 cls: 0.22523 | 2 cls: 0.39031\n"
     ]
    },
    {
     "name": "stderr",
     "output_type": "stream",
     "text": [
      "Epoch 31, lr 0.0005: 100% 43/43 [00:12<00:00,  3.45it/s, 0 cls=0.25838, 1 cls=0.35306, 2 cls=0.48369, bce=0.10761, dice=0.79152, loss=0.34131]\n"
     ]
    },
    {
     "name": "stdout",
     "output_type": "stream",
     "text": [
      "loss: 0.22934 | bce: 0.05307 | dice: 0.83586 | 0 cls: 0.14816 | 1 cls: 0.22182 | 2 cls: 0.37749\n"
     ]
    },
    {
     "name": "stderr",
     "output_type": "stream",
     "text": [
      "Epoch 32, lr 0.0005: 100% 43/43 [00:12<00:00,  3.45it/s, 0 cls=0.26430, 1 cls=0.35361, 2 cls=0.48585, bce=0.11074, dice=0.79125, loss=0.34434]\n"
     ]
    },
    {
     "name": "stdout",
     "output_type": "stream",
     "text": [
      "loss: 0.19293 | bce: 0.04427 | dice: 0.85808 | 0 cls: 0.12464 | 1 cls: 0.18624 | 2 cls: 0.32390\n"
     ]
    },
    {
     "name": "stderr",
     "output_type": "stream",
     "text": [
      "Epoch 33, lr 0.0005: 100% 43/43 [00:12<00:00,  3.44it/s, 0 cls=0.25708, 1 cls=0.34738, 2 cls=0.47807, bce=0.10540, dice=0.79248, loss=0.33740]\n"
     ]
    },
    {
     "name": "stdout",
     "output_type": "stream",
     "text": [
      "loss: 0.19427 | bce: 0.04926 | dice: 0.86056 | 0 cls: 0.12502 | 1 cls: 0.18793 | 2 cls: 0.32735\n"
     ]
    },
    {
     "name": "stderr",
     "output_type": "stream",
     "text": [
      "Epoch 34, lr 0.0005: 100% 43/43 [00:12<00:00,  3.44it/s, 0 cls=0.24585, 1 cls=0.34215, 2 cls=0.46612, bce=0.10611, dice=0.80120, loss=0.32842]\n"
     ]
    },
    {
     "name": "stdout",
     "output_type": "stream",
     "text": [
      "loss: 0.23020 | bce: 0.06108 | dice: 0.83866 | 0 cls: 0.15601 | 1 cls: 0.21768 | 2 cls: 0.38697\n"
     ]
    },
    {
     "name": "stderr",
     "output_type": "stream",
     "text": [
      "Epoch 35, lr 0.0005: 100% 43/43 [00:12<00:00,  3.41it/s, 0 cls=0.23681, 1 cls=0.33042, 2 cls=0.45488, bce=0.09963, dice=0.80392, loss=0.31787]\n"
     ]
    },
    {
     "name": "stdout",
     "output_type": "stream",
     "text": [
      "loss: 0.20198 | bce: 0.04835 | dice: 0.85331 | 0 cls: 0.12815 | 1 cls: 0.19873 | 2 cls: 0.33794\n"
     ]
    },
    {
     "name": "stderr",
     "output_type": "stream",
     "text": [
      "Epoch 36, lr 0.0005: 100% 43/43 [00:12<00:00,  3.43it/s, 0 cls=0.24727, 1 cls=0.33800, 2 cls=0.46490, bce=0.10490, dice=0.80086, loss=0.32709]\n"
     ]
    },
    {
     "name": "stdout",
     "output_type": "stream",
     "text": [
      "loss: 0.20852 | bce: 0.05314 | dice: 0.84959 | 0 cls: 0.14773 | 1 cls: 0.18527 | 2 cls: 0.35122\n"
     ]
    },
    {
     "name": "stderr",
     "output_type": "stream",
     "text": [
      "Epoch 37, lr 0.0005: 100% 43/43 [00:12<00:00,  3.42it/s, 0 cls=0.24999, 1 cls=0.34014, 2 cls=0.46520, bce=0.10542, dice=0.79959, loss=0.32909]\n"
     ]
    },
    {
     "name": "stdout",
     "output_type": "stream",
     "text": [
      "loss: 0.19307 | bce: 0.04276 | dice: 0.85640 | 0 cls: 0.12813 | 1 cls: 0.18422 | 2 cls: 0.32223\n"
     ]
    },
    {
     "name": "stderr",
     "output_type": "stream",
     "text": [
      "Epoch 38, lr 0.0005: 100% 43/43 [00:12<00:00,  3.44it/s, 0 cls=0.24641, 1 cls=0.33951, 2 cls=0.46569, bce=0.10256, dice=0.79843, loss=0.32750]\n"
     ]
    },
    {
     "name": "stdout",
     "output_type": "stream",
     "text": [
      "loss: 0.20594 | bce: 0.04357 | dice: 0.84627 | 0 cls: 0.13440 | 1 cls: 0.19851 | 2 cls: 0.34566\n"
     ]
    },
    {
     "name": "stderr",
     "output_type": "stream",
     "text": [
      "Epoch 39, lr 0.0005: 100% 43/43 [00:12<00:00,  3.44it/s, 0 cls=0.23424, 1 cls=0.32790, 2 cls=0.44953, bce=0.10016, dice=0.80651, loss=0.31476]\n"
     ]
    },
    {
     "name": "stdout",
     "output_type": "stream",
     "text": [
      "loss: 0.19511 | bce: 0.04342 | dice: 0.85563 | 0 cls: 0.12749 | 1 cls: 0.18756 | 2 cls: 0.32734\n"
     ]
    },
    {
     "name": "stderr",
     "output_type": "stream",
     "text": [
      "Epoch 40, lr 0.001: 100% 43/43 [00:12<00:00,  3.44it/s, 0 cls=0.25354, 1 cls=0.34615, 2 cls=0.47205, bce=0.10643, dice=0.79619, loss=0.33429]\n"
     ]
    },
    {
     "name": "stdout",
     "output_type": "stream",
     "text": [
      "loss: 0.22221 | bce: 0.04446 | dice: 0.83409 | 0 cls: 0.14387 | 1 cls: 0.21734 | 2 cls: 0.36881\n"
     ]
    },
    {
     "name": "stderr",
     "output_type": "stream",
     "text": [
      "Epoch 41, lr 0.001: 100% 43/43 [00:12<00:00,  3.43it/s, 0 cls=0.25589, 1 cls=0.34406, 2 cls=0.48124, bce=0.10817, dice=0.79522, loss=0.33623]\n"
     ]
    },
    {
     "name": "stdout",
     "output_type": "stream",
     "text": [
      "loss: 0.23858 | bce: 0.05474 | dice: 0.82039 | 0 cls: 0.18590 | 1 cls: 0.20413 | 2 cls: 0.39348\n"
     ]
    },
    {
     "name": "stderr",
     "output_type": "stream",
     "text": [
      "Epoch 42, lr 0.0003: 100% 43/43 [00:12<00:00,  3.44it/s, 0 cls=0.24831, 1 cls=0.33609, 2 cls=0.46546, bce=0.10357, dice=0.79918, loss=0.32685]\n"
     ]
    },
    {
     "name": "stdout",
     "output_type": "stream",
     "text": [
      "loss: 0.20616 | bce: 0.05148 | dice: 0.84864 | 0 cls: 0.14382 | 1 cls: 0.18384 | 2 cls: 0.35325\n"
     ]
    },
    {
     "name": "stderr",
     "output_type": "stream",
     "text": [
      "Epoch 43, lr 0.0003: 100% 43/43 [00:12<00:00,  3.45it/s, 0 cls=0.23527, 1 cls=0.32454, 2 cls=0.44644, bce=0.10099, dice=0.80861, loss=0.31322]\n"
     ]
    },
    {
     "name": "stdout",
     "output_type": "stream",
     "text": [
      "loss: 0.19687 | bce: 0.04589 | dice: 0.85647 | 0 cls: 0.12596 | 1 cls: 0.19289 | 2 cls: 0.32800\n"
     ]
    },
    {
     "name": "stderr",
     "output_type": "stream",
     "text": [
      "Epoch 44, lr 8.999999999999999e-05: 100% 43/43 [00:12<00:00,  3.41it/s, 0 cls=0.22649, 1 cls=0.31563, 2 cls=0.43426, bce=0.09576, dice=0.81202, loss=0.30370]\n"
     ]
    },
    {
     "name": "stdout",
     "output_type": "stream",
     "text": [
      "loss: 0.18924 | bce: 0.04355 | dice: 0.86026 | 0 cls: 0.12313 | 1 cls: 0.18310 | 2 cls: 0.31747\n"
     ]
    },
    {
     "name": "stderr",
     "output_type": "stream",
     "text": [
      "Epoch 45, lr 0.001: 100% 43/43 [00:12<00:00,  3.43it/s, 0 cls=0.26552, 1 cls=0.35331, 2 cls=0.48568, bce=0.11026, dice=0.79066, loss=0.34467]\n"
     ]
    },
    {
     "name": "stdout",
     "output_type": "stream",
     "text": [
      "loss: 0.31237 | bce: 0.06554 | dice: 0.78350 | 0 cls: 0.22382 | 1 cls: 0.27966 | 2 cls: 0.47288\n"
     ]
    },
    {
     "name": "stderr",
     "output_type": "stream",
     "text": [
      "Epoch 46, lr 0.001: 100% 43/43 [00:12<00:00,  3.40it/s, 0 cls=0.26118, 1 cls=0.35656, 2 cls=0.48551, bce=0.10987, dice=0.79148, loss=0.34420]\n"
     ]
    },
    {
     "name": "stdout",
     "output_type": "stream",
     "text": [
      "loss: 0.22559 | bce: 0.05241 | dice: 0.83491 | 0 cls: 0.15314 | 1 cls: 0.21261 | 2 cls: 0.38191\n"
     ]
    },
    {
     "name": "stderr",
     "output_type": "stream",
     "text": [
      "Epoch 47, lr 0.0003: 100% 43/43 [00:12<00:00,  3.46it/s, 0 cls=0.24728, 1 cls=0.33414, 2 cls=0.45870, bce=0.10486, dice=0.80295, loss=0.32431]\n"
     ]
    },
    {
     "name": "stdout",
     "output_type": "stream",
     "text": [
      "loss: 0.20282 | bce: 0.04816 | dice: 0.85405 | 0 cls: 0.12591 | 1 cls: 0.20574 | 2 cls: 0.33690\n"
     ]
    },
    {
     "name": "stderr",
     "output_type": "stream",
     "text": [
      "Epoch 48, lr 0.0003: 100% 43/43 [00:12<00:00,  3.45it/s, 0 cls=0.23628, 1 cls=0.31887, 2 cls=0.44382, bce=0.09951, dice=0.80875, loss=0.31082]\n"
     ]
    },
    {
     "name": "stdout",
     "output_type": "stream",
     "text": [
      "loss: 0.18940 | bce: 0.04576 | dice: 0.86242 | 0 cls: 0.12498 | 1 cls: 0.18247 | 2 cls: 0.31642\n"
     ]
    },
    {
     "name": "stderr",
     "output_type": "stream",
     "text": [
      "Epoch 49, lr 8.999999999999999e-05: 100% 43/43 [00:12<00:00,  3.44it/s, 0 cls=0.22836, 1 cls=0.31477, 2 cls=0.43657, bce=0.09662, dice=0.81129, loss=0.30456]\n"
     ]
    },
    {
     "name": "stdout",
     "output_type": "stream",
     "text": [
      "loss: 0.18842 | bce: 0.04507 | dice: 0.86236 | 0 cls: 0.12230 | 1 cls: 0.18318 | 2 cls: 0.31567\n"
     ]
    },
    {
     "name": "stderr",
     "output_type": "stream",
     "text": [
      "Epoch 50, lr 0.000375: 100% 43/43 [00:12<00:00,  3.44it/s, 0 cls=0.23859, 1 cls=0.32521, 2 cls=0.44607, bce=0.09962, dice=0.80605, loss=0.31473]\n"
     ]
    },
    {
     "name": "stdout",
     "output_type": "stream",
     "text": [
      "loss: 0.19509 | bce: 0.04767 | dice: 0.86003 | 0 cls: 0.12241 | 1 cls: 0.19438 | 2 cls: 0.32327\n"
     ]
    },
    {
     "name": "stderr",
     "output_type": "stream",
     "text": [
      "Epoch 51, lr 0.000375: 100% 43/43 [00:12<00:00,  3.43it/s, 0 cls=0.23620, 1 cls=0.32232, 2 cls=0.44365, bce=0.09882, dice=0.80741, loss=0.31214]\n"
     ]
    },
    {
     "name": "stdout",
     "output_type": "stream",
     "text": [
      "loss: 0.19140 | bce: 0.04636 | dice: 0.86031 | 0 cls: 0.12390 | 1 cls: 0.18393 | 2 cls: 0.32499\n"
     ]
    },
    {
     "name": "stderr",
     "output_type": "stream",
     "text": [
      "Epoch 52, lr 0.000375: 100% 43/43 [00:12<00:00,  3.43it/s, 0 cls=0.23156, 1 cls=0.31978, 2 cls=0.43971, bce=0.09728, dice=0.80943, loss=0.30848]\n"
     ]
    },
    {
     "name": "stdout",
     "output_type": "stream",
     "text": [
      "loss: 0.19184 | bce: 0.04381 | dice: 0.85880 | 0 cls: 0.12530 | 1 cls: 0.18505 | 2 cls: 0.32025\n"
     ]
    },
    {
     "name": "stderr",
     "output_type": "stream",
     "text": [
      "Epoch 53, lr 0.000375: 100% 43/43 [00:12<00:00,  3.42it/s, 0 cls=0.23245, 1 cls=0.31832, 2 cls=0.43886, bce=0.09724, dice=0.80932, loss=0.30808]\n"
     ]
    },
    {
     "name": "stdout",
     "output_type": "stream",
     "text": [
      "loss: 0.19719 | bce: 0.04527 | dice: 0.85421 | 0 cls: 0.13033 | 1 cls: 0.18990 | 2 cls: 0.33174\n"
     ]
    },
    {
     "name": "stderr",
     "output_type": "stream",
     "text": [
      "Epoch 54, lr 0.000375: 100% 43/43 [00:12<00:00,  3.44it/s, 0 cls=0.23214, 1 cls=0.32369, 2 cls=0.44040, bce=0.09738, dice=0.80833, loss=0.31041]\n"
     ]
    },
    {
     "name": "stdout",
     "output_type": "stream",
     "text": [
      "loss: 0.19365 | bce: 0.04491 | dice: 0.85698 | 0 cls: 0.12603 | 1 cls: 0.18858 | 2 cls: 0.32661\n"
     ]
    },
    {
     "name": "stderr",
     "output_type": "stream",
     "text": [
      "Epoch 55, lr 0.000375: 100% 43/43 [00:12<00:00,  3.45it/s, 0 cls=0.23568, 1 cls=0.32154, 2 cls=0.44396, bce=0.09975, dice=0.80846, loss=0.31168]\n"
     ]
    },
    {
     "name": "stdout",
     "output_type": "stream",
     "text": [
      "loss: 0.21425 | bce: 0.04944 | dice: 0.84441 | 0 cls: 0.13719 | 1 cls: 0.21268 | 2 cls: 0.35607\n"
     ]
    },
    {
     "name": "stderr",
     "output_type": "stream",
     "text": [
      "Epoch 56, lr 0.000375: 100% 43/43 [00:12<00:00,  3.45it/s, 0 cls=0.22269, 1 cls=0.31168, 2 cls=0.42937, bce=0.09456, dice=0.81430, loss=0.29962]\n"
     ]
    },
    {
     "name": "stdout",
     "output_type": "stream",
     "text": [
      "loss: 0.19024 | bce: 0.04379 | dice: 0.85946 | 0 cls: 0.12789 | 1 cls: 0.17934 | 2 cls: 0.31776\n"
     ]
    },
    {
     "name": "stderr",
     "output_type": "stream",
     "text": [
      "Epoch 57, lr 0.000375: 100% 43/43 [00:12<00:00,  3.43it/s, 0 cls=0.22347, 1 cls=0.31315, 2 cls=0.43070, bce=0.09621, dice=0.81467, loss=0.30079]\n"
     ]
    },
    {
     "name": "stdout",
     "output_type": "stream",
     "text": [
      "loss: 0.20123 | bce: 0.04517 | dice: 0.85227 | 0 cls: 0.13102 | 1 cls: 0.19644 | 2 cls: 0.33528\n"
     ]
    },
    {
     "name": "stderr",
     "output_type": "stream",
     "text": [
      "Epoch 58, lr 0.000375: 100% 43/43 [00:12<00:00,  3.44it/s, 0 cls=0.22588, 1 cls=0.31361, 2 cls=0.43295, bce=0.09715, dice=0.81399, loss=0.30239]\n"
     ]
    },
    {
     "name": "stdout",
     "output_type": "stream",
     "text": [
      "loss: 0.19176 | bce: 0.04355 | dice: 0.85865 | 0 cls: 0.12417 | 1 cls: 0.18753 | 2 cls: 0.32027\n"
     ]
    },
    {
     "name": "stderr",
     "output_type": "stream",
     "text": [
      "Epoch 59, lr 0.000375: 100% 43/43 [00:12<00:00,  3.43it/s, 0 cls=0.23025, 1 cls=0.31887, 2 cls=0.43821, bce=0.09761, dice=0.81063, loss=0.30729]\n"
     ]
    },
    {
     "name": "stdout",
     "output_type": "stream",
     "text": [
      "loss: 0.19107 | bce: 0.04643 | dice: 0.86054 | 0 cls: 0.12233 | 1 cls: 0.18608 | 2 cls: 0.32383\n"
     ]
    },
    {
     "name": "stderr",
     "output_type": "stream",
     "text": [
      "Epoch 60, lr 0.000375: 100% 43/43 [00:12<00:00,  3.44it/s, 0 cls=0.21904, 1 cls=0.31033, 2 cls=0.42482, bce=0.09373, dice=0.81636, loss=0.29671]\n"
     ]
    },
    {
     "name": "stdout",
     "output_type": "stream",
     "text": [
      "loss: 0.19339 | bce: 0.04181 | dice: 0.85465 | 0 cls: 0.13061 | 1 cls: 0.18496 | 2 cls: 0.32218\n"
     ]
    },
    {
     "name": "stderr",
     "output_type": "stream",
     "text": [
      "Epoch 61, lr 0.000375: 100% 43/43 [00:12<00:00,  3.44it/s, 0 cls=0.21518, 1 cls=0.30738, 2 cls=0.42449, bce=0.09236, dice=0.81702, loss=0.29392]\n"
     ]
    },
    {
     "name": "stdout",
     "output_type": "stream",
     "text": [
      "loss: 0.18538 | bce: 0.04266 | dice: 0.86391 | 0 cls: 0.11950 | 1 cls: 0.18101 | 2 cls: 0.30903\n"
     ]
    },
    {
     "name": "stderr",
     "output_type": "stream",
     "text": [
      "Epoch 62, lr 0.000375: 100% 43/43 [00:12<00:00,  3.45it/s, 0 cls=0.21795, 1 cls=0.30679, 2 cls=0.42328, bce=0.09336, dice=0.81717, loss=0.29456]\n"
     ]
    },
    {
     "name": "stdout",
     "output_type": "stream",
     "text": [
      "loss: 0.19336 | bce: 0.04217 | dice: 0.85633 | 0 cls: 0.12696 | 1 cls: 0.18824 | 2 cls: 0.32127\n"
     ]
    },
    {
     "name": "stderr",
     "output_type": "stream",
     "text": [
      "Epoch 63, lr 0.000375: 100% 43/43 [00:12<00:00,  3.45it/s, 0 cls=0.21813, 1 cls=0.31065, 2 cls=0.42723, bce=0.09354, dice=0.81597, loss=0.29696]\n"
     ]
    },
    {
     "name": "stdout",
     "output_type": "stream",
     "text": [
      "loss: 0.19142 | bce: 0.04446 | dice: 0.85879 | 0 cls: 0.12558 | 1 cls: 0.18423 | 2 cls: 0.32265\n"
     ]
    },
    {
     "name": "stderr",
     "output_type": "stream",
     "text": [
      "Epoch 64, lr 0.000375: 100% 43/43 [00:12<00:00,  3.42it/s, 0 cls=0.21129, 1 cls=0.30198, 2 cls=0.41677, bce=0.09109, dice=0.82049, loss=0.28866]\n"
     ]
    },
    {
     "name": "stdout",
     "output_type": "stream",
     "text": [
      "loss: 0.19586 | bce: 0.04653 | dice: 0.85786 | 0 cls: 0.12547 | 1 cls: 0.19348 | 2 cls: 0.32650\n"
     ]
    },
    {
     "name": "stderr",
     "output_type": "stream",
     "text": [
      "Epoch 65, lr 0.000375: 100% 43/43 [00:12<00:00,  3.44it/s, 0 cls=0.22173, 1 cls=0.30545, 2 cls=0.42790, bce=0.09518, dice=0.81642, loss=0.29645]\n"
     ]
    },
    {
     "name": "stdout",
     "output_type": "stream",
     "text": [
      "loss: 0.19703 | bce: 0.04856 | dice: 0.85833 | 0 cls: 0.12126 | 1 cls: 0.19759 | 2 cls: 0.33076\n"
     ]
    },
    {
     "name": "stderr",
     "output_type": "stream",
     "text": [
      "Epoch 66, lr 0.000375: 100% 43/43 [00:12<00:00,  3.43it/s, 0 cls=0.22157, 1 cls=0.31080, 2 cls=0.42738, bce=0.09668, dice=0.81707, loss=0.29842]\n"
     ]
    },
    {
     "name": "stdout",
     "output_type": "stream",
     "text": [
      "loss: 0.19728 | bce: 0.04605 | dice: 0.85526 | 0 cls: 0.12957 | 1 cls: 0.19174 | 2 cls: 0.32782\n"
     ]
    },
    {
     "name": "stderr",
     "output_type": "stream",
     "text": [
      "Epoch 67, lr 0.000375: 100% 43/43 [00:12<00:00,  3.44it/s, 0 cls=0.22535, 1 cls=0.31549, 2 cls=0.43194, bce=0.09510, dice=0.81243, loss=0.30272]\n"
     ]
    },
    {
     "name": "stdout",
     "output_type": "stream",
     "text": [
      "loss: 0.19919 | bce: 0.04994 | dice: 0.85818 | 0 cls: 0.12353 | 1 cls: 0.20214 | 2 cls: 0.33176\n"
     ]
    },
    {
     "name": "stderr",
     "output_type": "stream",
     "text": [
      "Epoch 68, lr 0.000375: 100% 43/43 [00:12<00:00,  3.42it/s, 0 cls=0.21462, 1 cls=0.29989, 2 cls=0.41642, bce=0.09253, dice=0.82062, loss=0.28909]\n"
     ]
    },
    {
     "name": "stdout",
     "output_type": "stream",
     "text": [
      "loss: 0.21205 | bce: 0.04766 | dice: 0.84476 | 0 cls: 0.14133 | 1 cls: 0.20822 | 2 cls: 0.34975\n"
     ]
    },
    {
     "name": "stderr",
     "output_type": "stream",
     "text": [
      "Epoch 69, lr 0.000375: 100% 43/43 [00:12<00:00,  3.44it/s, 0 cls=0.21579, 1 cls=0.30664, 2 cls=0.42440, bce=0.09310, dice=0.81751, loss=0.29385]\n"
     ]
    },
    {
     "name": "stdout",
     "output_type": "stream",
     "text": [
      "loss: 0.18942 | bce: 0.04697 | dice: 0.86351 | 0 cls: 0.12129 | 1 cls: 0.18645 | 2 cls: 0.31722\n"
     ]
    },
    {
     "name": "stderr",
     "output_type": "stream",
     "text": [
      "Epoch 70, lr 0.000375: 100% 43/43 [00:12<00:00,  3.44it/s, 0 cls=0.21779, 1 cls=0.30910, 2 cls=0.42655, bce=0.09308, dice=0.81598, loss=0.29607]\n"
     ]
    },
    {
     "name": "stdout",
     "output_type": "stream",
     "text": [
      "loss: 0.18550 | bce: 0.04490 | dice: 0.86356 | 0 cls: 0.12320 | 1 cls: 0.17694 | 2 cls: 0.31371\n"
     ]
    },
    {
     "name": "stderr",
     "output_type": "stream",
     "text": [
      "Epoch 71, lr 0.000375: 100% 43/43 [00:12<00:00,  3.43it/s, 0 cls=0.21824, 1 cls=0.30796, 2 cls=0.42270, bce=0.09300, dice=0.81694, loss=0.29502]\n"
     ]
    },
    {
     "name": "stdout",
     "output_type": "stream",
     "text": [
      "loss: 0.18848 | bce: 0.04668 | dice: 0.86213 | 0 cls: 0.12826 | 1 cls: 0.17682 | 2 cls: 0.31841\n"
     ]
    },
    {
     "name": "stderr",
     "output_type": "stream",
     "text": [
      "Epoch 72, lr 0.000375: 100% 43/43 [00:12<00:00,  3.46it/s, 0 cls=0.22270, 1 cls=0.30901, 2 cls=0.42929, bce=0.09600, dice=0.81586, loss=0.29854]\n"
     ]
    },
    {
     "name": "stdout",
     "output_type": "stream",
     "text": [
      "loss: 0.20857 | bce: 0.04352 | dice: 0.84501 | 0 cls: 0.13428 | 1 cls: 0.20969 | 2 cls: 0.34045\n"
     ]
    },
    {
     "name": "stderr",
     "output_type": "stream",
     "text": [
      "Epoch 73, lr 0.000375: 100% 43/43 [00:12<00:00,  3.44it/s, 0 cls=0.21567, 1 cls=0.30859, 2 cls=0.42293, bce=0.09278, dice=0.81743, loss=0.29429]\n"
     ]
    },
    {
     "name": "stdout",
     "output_type": "stream",
     "text": [
      "loss: 0.18433 | bce: 0.04308 | dice: 0.86354 | 0 cls: 0.12228 | 1 cls: 0.17642 | 2 cls: 0.31116\n"
     ]
    },
    {
     "name": "stderr",
     "output_type": "stream",
     "text": [
      "Epoch 74, lr 0.000375: 100% 43/43 [00:12<00:00,  3.45it/s, 0 cls=0.21684, 1 cls=0.30329, 2 cls=0.41924, bce=0.09277, dice=0.81874, loss=0.29190]\n"
     ]
    },
    {
     "name": "stdout",
     "output_type": "stream",
     "text": [
      "loss: 0.18422 | bce: 0.04486 | dice: 0.86439 | 0 cls: 0.12046 | 1 cls: 0.17686 | 2 cls: 0.31331\n"
     ]
    },
    {
     "name": "stderr",
     "output_type": "stream",
     "text": [
      "Epoch 75, lr 0.000375: 100% 43/43 [00:12<00:00,  3.44it/s, 0 cls=0.20385, 1 cls=0.29540, 2 cls=0.40583, bce=0.08836, dice=0.82468, loss=0.28087]\n"
     ]
    },
    {
     "name": "stdout",
     "output_type": "stream",
     "text": [
      "loss: 0.18640 | bce: 0.04379 | dice: 0.86329 | 0 cls: 0.11901 | 1 cls: 0.18484 | 2 cls: 0.31116\n"
     ]
    },
    {
     "name": "stderr",
     "output_type": "stream",
     "text": [
      "Epoch 76, lr 0.000375: 100% 43/43 [00:12<00:00,  3.42it/s, 0 cls=0.21088, 1 cls=0.29799, 2 cls=0.41241, bce=0.09024, dice=0.82147, loss=0.28603]\n"
     ]
    },
    {
     "name": "stdout",
     "output_type": "stream",
     "text": [
      "loss: 0.18635 | bce: 0.04451 | dice: 0.86328 | 0 cls: 0.12041 | 1 cls: 0.18250 | 2 cls: 0.31319\n"
     ]
    },
    {
     "name": "stderr",
     "output_type": "stream",
     "text": [
      "Epoch 77, lr 0.000375: 100% 43/43 [00:12<00:00,  3.43it/s, 0 cls=0.21692, 1 cls=0.30970, 2 cls=0.42240, bce=0.09310, dice=0.81731, loss=0.29513]\n"
     ]
    },
    {
     "name": "stdout",
     "output_type": "stream",
     "text": [
      "loss: 0.18127 | bce: 0.04100 | dice: 0.86509 | 0 cls: 0.12040 | 1 cls: 0.17356 | 2 cls: 0.30621\n"
     ]
    },
    {
     "name": "stderr",
     "output_type": "stream",
     "text": [
      "Epoch 78, lr 0.000375: 100% 43/43 [00:12<00:00,  3.46it/s, 0 cls=0.21550, 1 cls=0.30542, 2 cls=0.41916, bce=0.09240, dice=0.81890, loss=0.29220]\n"
     ]
    },
    {
     "name": "stdout",
     "output_type": "stream",
     "text": [
      "loss: 0.18859 | bce: 0.04625 | dice: 0.86393 | 0 cls: 0.11977 | 1 cls: 0.18772 | 2 cls: 0.31422\n"
     ]
    },
    {
     "name": "stderr",
     "output_type": "stream",
     "text": [
      "Epoch 79, lr 0.000375: 100% 43/43 [00:12<00:00,  3.44it/s, 0 cls=0.21556, 1 cls=0.30421, 2 cls=0.41682, bce=0.09211, dice=0.81928, loss=0.29127]\n"
     ]
    },
    {
     "name": "stdout",
     "output_type": "stream",
     "text": [
      "loss: 0.18653 | bce: 0.04326 | dice: 0.86327 | 0 cls: 0.11948 | 1 cls: 0.18552 | 2 cls: 0.31081\n"
     ]
    },
    {
     "name": "stderr",
     "output_type": "stream",
     "text": [
      "Epoch 80, lr 0.000375: 100% 43/43 [00:12<00:00,  3.42it/s, 0 cls=0.21650, 1 cls=0.30375, 2 cls=0.41747, bce=0.09291, dice=0.81948, loss=0.29159]\n"
     ]
    },
    {
     "name": "stdout",
     "output_type": "stream",
     "text": [
      "loss: 0.18729 | bce: 0.04216 | dice: 0.86099 | 0 cls: 0.12092 | 1 cls: 0.18434 | 2 cls: 0.31408\n"
     ]
    },
    {
     "name": "stderr",
     "output_type": "stream",
     "text": [
      "Epoch 81, lr 0.000375: 100% 43/43 [00:12<00:00,  3.44it/s, 0 cls=0.21142, 1 cls=0.30057, 2 cls=0.41346, bce=0.09159, dice=0.82177, loss=0.28749]\n"
     ]
    },
    {
     "name": "stdout",
     "output_type": "stream",
     "text": [
      "loss: 0.19600 | bce: 0.04780 | dice: 0.85869 | 0 cls: 0.12185 | 1 cls: 0.19930 | 2 cls: 0.32810\n"
     ]
    },
    {
     "name": "stderr",
     "output_type": "stream",
     "text": [
      "Epoch 82, lr 0.000375: 100% 43/43 [00:12<00:00,  3.44it/s, 0 cls=0.20789, 1 cls=0.29538, 2 cls=0.40993, bce=0.09079, dice=0.82412, loss=0.28329]\n"
     ]
    },
    {
     "name": "stdout",
     "output_type": "stream",
     "text": [
      "loss: 0.19292 | bce: 0.04584 | dice: 0.85842 | 0 cls: 0.12758 | 1 cls: 0.18637 | 2 cls: 0.32593\n"
     ]
    },
    {
     "name": "stderr",
     "output_type": "stream",
     "text": [
      "Epoch 83, lr 0.000375: 100% 43/43 [00:12<00:00,  3.45it/s, 0 cls=0.20726, 1 cls=0.29152, 2 cls=0.40732, bce=0.08997, dice=0.82509, loss=0.28098]\n"
     ]
    },
    {
     "name": "stdout",
     "output_type": "stream",
     "text": [
      "loss: 0.18409 | bce: 0.04267 | dice: 0.86351 | 0 cls: 0.12270 | 1 cls: 0.17624 | 2 cls: 0.31027\n"
     ]
    },
    {
     "name": "stderr",
     "output_type": "stream",
     "text": [
      "Epoch 84, lr 0.000375: 100% 43/43 [00:12<00:00,  3.45it/s, 0 cls=0.21639, 1 cls=0.30328, 2 cls=0.41709, bce=0.09274, dice=0.81975, loss=0.29129]\n"
     ]
    },
    {
     "name": "stdout",
     "output_type": "stream",
     "text": [
      "loss: 0.18417 | bce: 0.04254 | dice: 0.86459 | 0 cls: 0.11871 | 1 cls: 0.18186 | 2 cls: 0.30671\n"
     ]
    },
    {
     "name": "stderr",
     "output_type": "stream",
     "text": [
      "Epoch 85, lr 0.000375: 100% 43/43 [00:12<00:00,  3.43it/s, 0 cls=0.21243, 1 cls=0.29695, 2 cls=0.41153, bce=0.09151, dice=0.82244, loss=0.28606]\n"
     ]
    },
    {
     "name": "stdout",
     "output_type": "stream",
     "text": [
      "loss: 0.18696 | bce: 0.04234 | dice: 0.85965 | 0 cls: 0.12959 | 1 cls: 0.17298 | 2 cls: 0.31534\n"
     ]
    },
    {
     "name": "stderr",
     "output_type": "stream",
     "text": [
      "Epoch 86, lr 0.000375: 100% 43/43 [00:12<00:00,  3.44it/s, 0 cls=0.21557, 1 cls=0.30106, 2 cls=0.41330, bce=0.09220, dice=0.82071, loss=0.28931]\n"
     ]
    },
    {
     "name": "stdout",
     "output_type": "stream",
     "text": [
      "loss: 0.19179 | bce: 0.04314 | dice: 0.85883 | 0 cls: 0.12291 | 1 cls: 0.19101 | 2 cls: 0.31827\n"
     ]
    },
    {
     "name": "stderr",
     "output_type": "stream",
     "text": [
      "Epoch 87, lr 0.000375: 100% 43/43 [00:12<00:00,  3.44it/s, 0 cls=0.21299, 1 cls=0.29938, 2 cls=0.41411, bce=0.09095, dice=0.82062, loss=0.28777]\n"
     ]
    },
    {
     "name": "stdout",
     "output_type": "stream",
     "text": [
      "loss: 0.20275 | bce: 0.04957 | dice: 0.85545 | 0 cls: 0.12429 | 1 cls: 0.20840 | 2 cls: 0.33632\n"
     ]
    },
    {
     "name": "stderr",
     "output_type": "stream",
     "text": [
      "Epoch 88, lr 0.000375: 100% 43/43 [00:12<00:00,  3.43it/s, 0 cls=0.21033, 1 cls=0.30059, 2 cls=0.41210, bce=0.08879, dice=0.82045, loss=0.28679]\n"
     ]
    },
    {
     "name": "stdout",
     "output_type": "stream",
     "text": [
      "loss: 0.18682 | bce: 0.04715 | dice: 0.86713 | 0 cls: 0.11772 | 1 cls: 0.18808 | 2 cls: 0.30862\n"
     ]
    },
    {
     "name": "stderr",
     "output_type": "stream",
     "text": [
      "Epoch 89, lr 0.000375: 100% 43/43 [00:12<00:00,  3.42it/s, 0 cls=0.21170, 1 cls=0.29823, 2 cls=0.41047, bce=0.09072, dice=0.82201, loss=0.28607]\n"
     ]
    },
    {
     "name": "stdout",
     "output_type": "stream",
     "text": [
      "loss: 0.19173 | bce: 0.04540 | dice: 0.86083 | 0 cls: 0.11833 | 1 cls: 0.19580 | 2 cls: 0.31782\n"
     ]
    },
    {
     "name": "stderr",
     "output_type": "stream",
     "text": [
      "Epoch 90, lr 0.0009000000000000001: 100% 43/43 [00:12<00:00,  3.44it/s, 0 cls=0.22508, 1 cls=0.31219, 2 cls=0.43238, bce=0.09673, dice=0.81431, loss=0.30139]\n"
     ]
    },
    {
     "name": "stdout",
     "output_type": "stream",
     "text": [
      "loss: 0.19182 | bce: 0.04758 | dice: 0.86143 | 0 cls: 0.12796 | 1 cls: 0.18154 | 2 cls: 0.31977\n"
     ]
    },
    {
     "name": "stderr",
     "output_type": "stream",
     "text": [
      "Epoch 91, lr 0.0009000000000000001: 100% 43/43 [00:12<00:00,  3.45it/s, 0 cls=0.23857, 1 cls=0.32090, 2 cls=0.44573, bce=0.10080, dice=0.80778, loss=0.31293]\n"
     ]
    },
    {
     "name": "stdout",
     "output_type": "stream",
     "text": [
      "loss: 0.23203 | bce: 0.05566 | dice: 0.83736 | 0 cls: 0.13571 | 1 cls: 0.25101 | 2 cls: 0.37641\n"
     ]
    },
    {
     "name": "stderr",
     "output_type": "stream",
     "text": [
      "Epoch 92, lr 0.00027: 100% 43/43 [00:12<00:00,  3.42it/s, 0 cls=0.23495, 1 cls=0.31559, 2 cls=0.43963, bce=0.09863, dice=0.80980, loss=0.30814]\n"
     ]
    },
    {
     "name": "stdout",
     "output_type": "stream",
     "text": [
      "loss: 0.18835 | bce: 0.04357 | dice: 0.86201 | 0 cls: 0.12182 | 1 cls: 0.18666 | 2 cls: 0.31291\n"
     ]
    },
    {
     "name": "stderr",
     "output_type": "stream",
     "text": [
      "Epoch 93, lr 0.00027: 100% 43/43 [00:12<00:00,  3.45it/s, 0 cls=0.21264, 1 cls=0.29880, 2 cls=0.41326, bce=0.09170, dice=0.82172, loss=0.28723]\n"
     ]
    },
    {
     "name": "stdout",
     "output_type": "stream",
     "text": [
      "loss: 0.18454 | bce: 0.04323 | dice: 0.86341 | 0 cls: 0.12365 | 1 cls: 0.17584 | 2 cls: 0.31094\n"
     ]
    },
    {
     "name": "stderr",
     "output_type": "stream",
     "text": [
      "Epoch 94, lr 8.1e-05: 100% 43/43 [00:12<00:00,  3.45it/s, 0 cls=0.21506, 1 cls=0.29668, 2 cls=0.41428, bce=0.09096, dice=0.82039, loss=0.28755]\n"
     ]
    },
    {
     "name": "stdout",
     "output_type": "stream",
     "text": [
      "loss: 0.18590 | bce: 0.04342 | dice: 0.86325 | 0 cls: 0.12073 | 1 cls: 0.18234 | 2 cls: 0.31175\n"
     ]
    },
    {
     "name": "stderr",
     "output_type": "stream",
     "text": [
      "Epoch 95, lr 0.0009000000000000001: 100% 43/43 [00:12<00:00,  3.44it/s, 0 cls=0.23540, 1 cls=0.32233, 2 cls=0.44354, bce=0.09868, dice=0.80766, loss=0.31180]\n"
     ]
    },
    {
     "name": "stdout",
     "output_type": "stream",
     "text": [
      "loss: 0.19019 | bce: 0.04298 | dice: 0.85999 | 0 cls: 0.12170 | 1 cls: 0.18868 | 2 cls: 0.31602\n"
     ]
    },
    {
     "name": "stderr",
     "output_type": "stream",
     "text": [
      "Epoch 96, lr 0.0009000000000000001: 100% 43/43 [00:12<00:00,  3.44it/s, 0 cls=0.26223, 1 cls=0.33900, 2 cls=0.47144, bce=0.10735, dice=0.79538, loss=0.33478]\n"
     ]
    },
    {
     "name": "stdout",
     "output_type": "stream",
     "text": [
      "loss: 0.20260 | bce: 0.05545 | dice: 0.85703 | 0 cls: 0.13458 | 1 cls: 0.19535 | 2 cls: 0.34314\n"
     ]
    },
    {
     "name": "stderr",
     "output_type": "stream",
     "text": [
      "Epoch 97, lr 0.00027: 100% 43/43 [00:12<00:00,  3.45it/s, 0 cls=0.21576, 1 cls=0.29964, 2 cls=0.41627, bce=0.09242, dice=0.82057, loss=0.28941]\n"
     ]
    },
    {
     "name": "stdout",
     "output_type": "stream",
     "text": [
      "loss: 0.18518 | bce: 0.04423 | dice: 0.86426 | 0 cls: 0.12051 | 1 cls: 0.18034 | 2 cls: 0.31326\n"
     ]
    },
    {
     "name": "stderr",
     "output_type": "stream",
     "text": [
      "Epoch 98, lr 0.00027: 100% 43/43 [00:12<00:00,  3.44it/s, 0 cls=0.20005, 1 cls=0.28760, 2 cls=0.39690, bce=0.08614, dice=0.82802, loss=0.27444]\n"
     ]
    },
    {
     "name": "stdout",
     "output_type": "stream",
     "text": [
      "loss: 0.18783 | bce: 0.04418 | dice: 0.86315 | 0 cls: 0.12043 | 1 cls: 0.18494 | 2 cls: 0.31242\n"
     ]
    },
    {
     "name": "stderr",
     "output_type": "stream",
     "text": [
      "Epoch 99, lr 8.1e-05: 100% 43/43 [00:12<00:00,  3.44it/s, 0 cls=0.21083, 1 cls=0.29600, 2 cls=0.40778, bce=0.09034, dice=0.82315, loss=0.28429]\n"
     ]
    },
    {
     "name": "stdout",
     "output_type": "stream",
     "text": [
      "loss: 0.18522 | bce: 0.04380 | dice: 0.86459 | 0 cls: 0.11987 | 1 cls: 0.18292 | 2 cls: 0.30876\n"
     ]
    },
    {
     "name": "stderr",
     "output_type": "stream",
     "text": [
      "Epoch 100, lr 0.00028125000000000003: 100% 43/43 [00:12<00:00,  3.44it/s, 0 cls=0.20311, 1 cls=0.28773, 2 cls=0.40256, bce=0.08807, dice=0.82675, loss=0.27685]\n"
     ]
    },
    {
     "name": "stdout",
     "output_type": "stream",
     "text": [
      "loss: 0.20154 | bce: 0.04780 | dice: 0.85330 | 0 cls: 0.13086 | 1 cls: 0.19832 | 2 cls: 0.33854\n"
     ]
    },
    {
     "name": "stderr",
     "output_type": "stream",
     "text": [
      "Epoch 101, lr 0.00028125000000000003: 100% 43/43 [00:12<00:00,  3.46it/s, 0 cls=0.20793, 1 cls=0.29509, 2 cls=0.40274, bce=0.08937, dice=0.82490, loss=0.28176]\n"
     ]
    },
    {
     "name": "stdout",
     "output_type": "stream",
     "text": [
      "loss: 0.19087 | bce: 0.04401 | dice: 0.86045 | 0 cls: 0.12121 | 1 cls: 0.19203 | 2 cls: 0.31633\n"
     ]
    },
    {
     "name": "stderr",
     "output_type": "stream",
     "text": [
      "Epoch 102, lr 0.00028125000000000003: 100% 43/43 [00:12<00:00,  3.43it/s, 0 cls=0.21024, 1 cls=0.29551, 2 cls=0.40752, bce=0.08915, dice=0.82270, loss=0.28381]\n"
     ]
    },
    {
     "name": "stdout",
     "output_type": "stream",
     "text": [
      "loss: 0.18596 | bce: 0.04326 | dice: 0.86306 | 0 cls: 0.12165 | 1 cls: 0.18224 | 2 cls: 0.31168\n"
     ]
    },
    {
     "name": "stderr",
     "output_type": "stream",
     "text": [
      "Epoch 103, lr 0.00028125000000000003: 100% 43/43 [00:12<00:00,  3.44it/s, 0 cls=0.21841, 1 cls=0.29793, 2 cls=0.41527, bce=0.09209, dice=0.81962, loss=0.28959]\n"
     ]
    },
    {
     "name": "stdout",
     "output_type": "stream",
     "text": [
      "loss: 0.19299 | bce: 0.04595 | dice: 0.85903 | 0 cls: 0.12438 | 1 cls: 0.19058 | 2 cls: 0.32276\n"
     ]
    },
    {
     "name": "stderr",
     "output_type": "stream",
     "text": [
      "Epoch 104, lr 0.00028125000000000003: 100% 43/43 [00:12<00:00,  3.44it/s, 0 cls=0.20607, 1 cls=0.29136, 2 cls=0.40255, bce=0.08853, dice=0.82564, loss=0.27948]\n"
     ]
    },
    {
     "name": "stdout",
     "output_type": "stream",
     "text": [
      "loss: 0.18742 | bce: 0.04600 | dice: 0.86463 | 0 cls: 0.11904 | 1 cls: 0.18714 | 2 cls: 0.31296\n"
     ]
    },
    {
     "name": "stderr",
     "output_type": "stream",
     "text": [
      "Epoch 105, lr 0.00028125000000000003: 100% 43/43 [00:12<00:00,  3.44it/s, 0 cls=0.20264, 1 cls=0.28982, 2 cls=0.39926, bce=0.08761, dice=0.82748, loss=0.27684]\n"
     ]
    },
    {
     "name": "stdout",
     "output_type": "stream",
     "text": [
      "loss: 0.19245 | bce: 0.04631 | dice: 0.85821 | 0 cls: 0.12984 | 1 cls: 0.18373 | 2 cls: 0.32312\n"
     ]
    },
    {
     "name": "stderr",
     "output_type": "stream",
     "text": [
      "Epoch 106, lr 0.00028125000000000003: 100% 43/43 [00:12<00:00,  3.44it/s, 0 cls=0.19994, 1 cls=0.28588, 2 cls=0.39633, bce=0.08608, dice=0.82825, loss=0.27359]\n"
     ]
    },
    {
     "name": "stdout",
     "output_type": "stream",
     "text": [
      "loss: 0.18691 | bce: 0.04489 | dice: 0.86448 | 0 cls: 0.11705 | 1 cls: 0.18962 | 2 cls: 0.30956\n"
     ]
    },
    {
     "name": "stderr",
     "output_type": "stream",
     "text": [
      "Epoch 107, lr 0.00028125000000000003: 100% 43/43 [00:12<00:00,  3.45it/s, 0 cls=0.20636, 1 cls=0.29159, 2 cls=0.40393, bce=0.08825, dice=0.82507, loss=0.27996]\n"
     ]
    },
    {
     "name": "stdout",
     "output_type": "stream",
     "text": [
      "loss: 0.18655 | bce: 0.04381 | dice: 0.86319 | 0 cls: 0.12330 | 1 cls: 0.18229 | 2 cls: 0.31074\n"
     ]
    },
    {
     "name": "stderr",
     "output_type": "stream",
     "text": [
      "Epoch 108, lr 0.00028125000000000003: 100% 43/43 [00:12<00:00,  3.44it/s, 0 cls=0.20437, 1 cls=0.29347, 2 cls=0.40191, bce=0.08968, dice=0.82714, loss=0.27952]\n"
     ]
    },
    {
     "name": "stdout",
     "output_type": "stream",
     "text": [
      "loss: 0.18617 | bce: 0.04451 | dice: 0.86370 | 0 cls: 0.12000 | 1 cls: 0.18462 | 2 cls: 0.31138\n"
     ]
    },
    {
     "name": "stderr",
     "output_type": "stream",
     "text": [
      "Epoch 109, lr 0.00028125000000000003: 100% 43/43 [00:12<00:00,  3.44it/s, 0 cls=0.21071, 1 cls=0.29267, 2 cls=0.40705, bce=0.08953, dice=0.82331, loss=0.28276]\n"
     ]
    },
    {
     "name": "stdout",
     "output_type": "stream",
     "text": [
      "loss: 0.19797 | bce: 0.04715 | dice: 0.85647 | 0 cls: 0.13003 | 1 cls: 0.19429 | 2 cls: 0.32776\n"
     ]
    },
    {
     "name": "stderr",
     "output_type": "stream",
     "text": [
      "Epoch 110, lr 0.00028125000000000003: 100% 43/43 [00:12<00:00,  3.44it/s, 0 cls=0.20617, 1 cls=0.29169, 2 cls=0.40284, bce=0.08928, dice=0.82601, loss=0.27971]\n"
     ]
    },
    {
     "name": "stdout",
     "output_type": "stream",
     "text": [
      "loss: 0.18305 | bce: 0.04361 | dice: 0.86630 | 0 cls: 0.11778 | 1 cls: 0.18139 | 2 cls: 0.30520\n"
     ]
    },
    {
     "name": "stderr",
     "output_type": "stream",
     "text": [
      "Epoch 111, lr 0.00028125000000000003: 100% 43/43 [00:12<00:00,  3.43it/s, 0 cls=0.19959, 1 cls=0.28371, 2 cls=0.39526, bce=0.08602, dice=0.82906, loss=0.27237]\n"
     ]
    },
    {
     "name": "stdout",
     "output_type": "stream",
     "text": [
      "loss: 0.18093 | bce: 0.04191 | dice: 0.86629 | 0 cls: 0.11707 | 1 cls: 0.17817 | 2 cls: 0.30344\n"
     ]
    },
    {
     "name": "stderr",
     "output_type": "stream",
     "text": [
      "Epoch 112, lr 0.00028125000000000003: 100% 43/43 [00:12<00:00,  3.43it/s, 0 cls=0.20539, 1 cls=0.28973, 2 cls=0.40409, bce=0.08929, dice=0.82665, loss=0.27886]\n"
     ]
    },
    {
     "name": "stdout",
     "output_type": "stream",
     "text": [
      "loss: 0.19722 | bce: 0.04571 | dice: 0.85560 | 0 cls: 0.12683 | 1 cls: 0.19761 | 2 cls: 0.32769\n"
     ]
    },
    {
     "name": "stderr",
     "output_type": "stream",
     "text": [
      "Epoch 113, lr 0.00028125000000000003: 100% 43/43 [00:12<00:00,  3.45it/s, 0 cls=0.20132, 1 cls=0.28654, 2 cls=0.39810, bce=0.08712, dice=0.82825, loss=0.27476]\n"
     ]
    },
    {
     "name": "stdout",
     "output_type": "stream",
     "text": [
      "loss: 0.19002 | bce: 0.04341 | dice: 0.86038 | 0 cls: 0.12016 | 1 cls: 0.19215 | 2 cls: 0.31526\n"
     ]
    },
    {
     "name": "stderr",
     "output_type": "stream",
     "text": [
      "Epoch 114, lr 0.00028125000000000003: 100% 43/43 [00:12<00:00,  3.44it/s, 0 cls=0.21263, 1 cls=0.29941, 2 cls=0.41165, bce=0.09104, dice=0.82173, loss=0.28715]\n"
     ]
    },
    {
     "name": "stdout",
     "output_type": "stream",
     "text": [
      "loss: 0.18679 | bce: 0.04556 | dice: 0.86349 | 0 cls: 0.12585 | 1 cls: 0.17992 | 2 cls: 0.31144\n"
     ]
    },
    {
     "name": "stderr",
     "output_type": "stream",
     "text": [
      "Epoch 115, lr 0.00028125000000000003: 100% 43/43 [00:12<00:00,  3.44it/s, 0 cls=0.19397, 1 cls=0.27805, 2 cls=0.38654, bce=0.08438, dice=0.83309, loss=0.26612]\n"
     ]
    },
    {
     "name": "stdout",
     "output_type": "stream",
     "text": [
      "loss: 0.19403 | bce: 0.04602 | dice: 0.85850 | 0 cls: 0.12454 | 1 cls: 0.19376 | 2 cls: 0.32414\n"
     ]
    },
    {
     "name": "stderr",
     "output_type": "stream",
     "text": [
      "Epoch 116, lr 0.00028125000000000003: 100% 43/43 [00:12<00:00,  3.45it/s, 0 cls=0.20342, 1 cls=0.28774, 2 cls=0.40106, bce=0.08762, dice=0.82707, loss=0.27668]\n"
     ]
    },
    {
     "name": "stdout",
     "output_type": "stream",
     "text": [
      "loss: 0.18242 | bce: 0.04111 | dice: 0.86439 | 0 cls: 0.12003 | 1 cls: 0.17809 | 2 cls: 0.30540\n"
     ]
    },
    {
     "name": "stderr",
     "output_type": "stream",
     "text": [
      "Epoch 117, lr 0.00028125000000000003: 100% 43/43 [00:12<00:00,  3.45it/s, 0 cls=0.20232, 1 cls=0.29158, 2 cls=0.39931, bce=0.08790, dice=0.82730, loss=0.27742]\n"
     ]
    },
    {
     "name": "stdout",
     "output_type": "stream",
     "text": [
      "loss: 0.18068 | bce: 0.04069 | dice: 0.86571 | 0 cls: 0.11868 | 1 cls: 0.17606 | 2 cls: 0.30253\n"
     ]
    },
    {
     "name": "stderr",
     "output_type": "stream",
     "text": [
      "Epoch 118, lr 0.00028125000000000003: 100% 43/43 [00:12<00:00,  3.44it/s, 0 cls=0.20482, 1 cls=0.28847, 2 cls=0.39923, bce=0.08756, dice=0.82657, loss=0.27716]\n"
     ]
    },
    {
     "name": "stdout",
     "output_type": "stream",
     "text": [
      "loss: 0.19364 | bce: 0.04492 | dice: 0.85814 | 0 cls: 0.12282 | 1 cls: 0.19559 | 2 cls: 0.32275\n"
     ]
    },
    {
     "name": "stderr",
     "output_type": "stream",
     "text": [
      "Epoch 119, lr 0.00028125000000000003: 100% 43/43 [00:12<00:00,  3.44it/s, 0 cls=0.20293, 1 cls=0.29281, 2 cls=0.40193, bce=0.08816, dice=0.82639, loss=0.27868]\n"
     ]
    },
    {
     "name": "stdout",
     "output_type": "stream",
     "text": [
      "loss: 0.18198 | bce: 0.04244 | dice: 0.86620 | 0 cls: 0.11749 | 1 cls: 0.18057 | 2 cls: 0.30299\n"
     ]
    },
    {
     "name": "stderr",
     "output_type": "stream",
     "text": [
      "Epoch 120, lr 0.00028125000000000003: 100% 43/43 [00:12<00:00,  3.45it/s, 0 cls=0.20916, 1 cls=0.29285, 2 cls=0.40473, bce=0.09021, dice=0.82533, loss=0.28175]\n"
     ]
    },
    {
     "name": "stdout",
     "output_type": "stream",
     "text": [
      "loss: 0.19873 | bce: 0.04714 | dice: 0.85525 | 0 cls: 0.12862 | 1 cls: 0.19658 | 2 cls: 0.33238\n"
     ]
    },
    {
     "name": "stderr",
     "output_type": "stream",
     "text": [
      "Epoch 121, lr 0.00028125000000000003: 100% 43/43 [00:12<00:00,  3.44it/s, 0 cls=0.20554, 1 cls=0.29104, 2 cls=0.40156, bce=0.08791, dice=0.82574, loss=0.27894]\n"
     ]
    },
    {
     "name": "stdout",
     "output_type": "stream",
     "text": [
      "loss: 0.19228 | bce: 0.04761 | dice: 0.86355 | 0 cls: 0.11893 | 1 cls: 0.19964 | 2 cls: 0.31431\n"
     ]
    },
    {
     "name": "stderr",
     "output_type": "stream",
     "text": [
      "Epoch 122, lr 0.00028125000000000003: 100% 43/43 [00:12<00:00,  3.44it/s, 0 cls=0.20092, 1 cls=0.28541, 2 cls=0.39744, bce=0.08780, dice=0.82922, loss=0.27402]\n"
     ]
    },
    {
     "name": "stdout",
     "output_type": "stream",
     "text": [
      "loss: 0.19431 | bce: 0.04529 | dice: 0.85835 | 0 cls: 0.12326 | 1 cls: 0.19737 | 2 cls: 0.32051\n"
     ]
    },
    {
     "name": "stderr",
     "output_type": "stream",
     "text": [
      "Epoch 123, lr 0.00028125000000000003: 100% 43/43 [00:12<00:00,  3.44it/s, 0 cls=0.19899, 1 cls=0.28677, 2 cls=0.39578, bce=0.08625, dice=0.82884, loss=0.27346]\n"
     ]
    },
    {
     "name": "stdout",
     "output_type": "stream",
     "text": [
      "loss: 0.18191 | bce: 0.04361 | dice: 0.86778 | 0 cls: 0.11740 | 1 cls: 0.18056 | 2 cls: 0.30184\n"
     ]
    },
    {
     "name": "stderr",
     "output_type": "stream",
     "text": [
      "Epoch 124, lr 0.00028125000000000003: 100% 43/43 [00:12<00:00,  3.44it/s, 0 cls=0.19837, 1 cls=0.28452, 2 cls=0.39530, bce=0.08638, dice=0.82982, loss=0.27222]\n"
     ]
    },
    {
     "name": "stdout",
     "output_type": "stream",
     "text": [
      "loss: 0.18562 | bce: 0.04400 | dice: 0.86379 | 0 cls: 0.12105 | 1 cls: 0.18347 | 2 cls: 0.31106\n"
     ]
    },
    {
     "name": "stderr",
     "output_type": "stream",
     "text": [
      "Epoch 125, lr 0.00028125000000000003: 100% 43/43 [00:12<00:00,  3.45it/s, 0 cls=0.20240, 1 cls=0.28746, 2 cls=0.39676, bce=0.08723, dice=0.82811, loss=0.27529]\n"
     ]
    },
    {
     "name": "stdout",
     "output_type": "stream",
     "text": [
      "loss: 0.18673 | bce: 0.04583 | dice: 0.86477 | 0 cls: 0.11959 | 1 cls: 0.18651 | 2 cls: 0.31194\n"
     ]
    },
    {
     "name": "stderr",
     "output_type": "stream",
     "text": [
      "Epoch 126, lr 0.00028125000000000003: 100% 43/43 [00:12<00:00,  3.44it/s, 0 cls=0.20151, 1 cls=0.28541, 2 cls=0.39593, bce=0.08735, dice=0.82915, loss=0.27395]\n"
     ]
    },
    {
     "name": "stdout",
     "output_type": "stream",
     "text": [
      "loss: 0.18631 | bce: 0.04282 | dice: 0.86169 | 0 cls: 0.12188 | 1 cls: 0.18310 | 2 cls: 0.31179\n"
     ]
    },
    {
     "name": "stderr",
     "output_type": "stream",
     "text": [
      "Epoch 127, lr 0.00028125000000000003: 100% 43/43 [00:12<00:00,  3.44it/s, 0 cls=0.20157, 1 cls=0.28821, 2 cls=0.39984, bce=0.08641, dice=0.82699, loss=0.27588]\n"
     ]
    },
    {
     "name": "stdout",
     "output_type": "stream",
     "text": [
      "loss: 0.18666 | bce: 0.04433 | dice: 0.86389 | 0 cls: 0.11844 | 1 cls: 0.18744 | 2 cls: 0.30988\n"
     ]
    },
    {
     "name": "stderr",
     "output_type": "stream",
     "text": [
      "Epoch 128, lr 0.00028125000000000003: 100% 43/43 [00:12<00:00,  3.45it/s, 0 cls=0.20152, 1 cls=0.28666, 2 cls=0.39679, bce=0.08745, dice=0.82846, loss=0.27463]\n"
     ]
    },
    {
     "name": "stdout",
     "output_type": "stream",
     "text": [
      "loss: 0.18507 | bce: 0.04415 | dice: 0.86425 | 0 cls: 0.11985 | 1 cls: 0.18179 | 2 cls: 0.31145\n"
     ]
    },
    {
     "name": "stderr",
     "output_type": "stream",
     "text": [
      "Epoch 129, lr 0.00028125000000000003: 100% 43/43 [00:12<00:00,  3.44it/s, 0 cls=0.19929, 1 cls=0.28384, 2 cls=0.39078, bce=0.08586, dice=0.83052, loss=0.27141]\n"
     ]
    },
    {
     "name": "stdout",
     "output_type": "stream",
     "text": [
      "loss: 0.19246 | bce: 0.04702 | dice: 0.85914 | 0 cls: 0.12671 | 1 cls: 0.18760 | 2 cls: 0.32627\n"
     ]
    },
    {
     "name": "stderr",
     "output_type": "stream",
     "text": [
      "Epoch 130, lr 0.00028125000000000003: 100% 43/43 [00:12<00:00,  3.44it/s, 0 cls=0.19972, 1 cls=0.28152, 2 cls=0.39078, bce=0.08612, dice=0.83082, loss=0.27065]\n"
     ]
    },
    {
     "name": "stdout",
     "output_type": "stream",
     "text": [
      "loss: 0.17680 | bce: 0.04273 | dice: 0.87050 | 0 cls: 0.11539 | 1 cls: 0.17366 | 2 cls: 0.29653\n"
     ]
    },
    {
     "name": "stderr",
     "output_type": "stream",
     "text": [
      "Epoch 131, lr 0.00028125000000000003: 100% 43/43 [00:12<00:00,  3.44it/s, 0 cls=0.20851, 1 cls=0.29059, 2 cls=0.40035, bce=0.08844, dice=0.82548, loss=0.27971]\n"
     ]
    },
    {
     "name": "stdout",
     "output_type": "stream",
     "text": [
      "loss: 0.18922 | bce: 0.04729 | dice: 0.86455 | 0 cls: 0.12188 | 1 cls: 0.18981 | 2 cls: 0.31331\n"
     ]
    },
    {
     "name": "stderr",
     "output_type": "stream",
     "text": [
      "Epoch 132, lr 0.00028125000000000003: 100% 43/43 [00:12<00:00,  3.45it/s, 0 cls=0.20789, 1 cls=0.28968, 2 cls=0.40396, bce=0.08918, dice=0.82525, loss=0.27982]\n"
     ]
    },
    {
     "name": "stdout",
     "output_type": "stream",
     "text": [
      "loss: 0.18242 | bce: 0.04289 | dice: 0.86511 | 0 cls: 0.12066 | 1 cls: 0.17711 | 2 cls: 0.30662\n"
     ]
    },
    {
     "name": "stderr",
     "output_type": "stream",
     "text": [
      "Epoch 133, lr 0.00028125000000000003: 100% 43/43 [00:12<00:00,  3.45it/s, 0 cls=0.19852, 1 cls=0.28526, 2 cls=0.39505, bce=0.08617, dice=0.82930, loss=0.27252]\n"
     ]
    },
    {
     "name": "stdout",
     "output_type": "stream",
     "text": [
      "loss: 0.18137 | bce: 0.04436 | dice: 0.86748 | 0 cls: 0.11786 | 1 cls: 0.17757 | 2 cls: 0.30585\n"
     ]
    },
    {
     "name": "stderr",
     "output_type": "stream",
     "text": [
      "Epoch 134, lr 0.00028125000000000003: 100% 43/43 [00:12<00:00,  3.44it/s, 0 cls=0.20135, 1 cls=0.28753, 2 cls=0.39542, bce=0.08721, dice=0.82890, loss=0.27464]\n"
     ]
    },
    {
     "name": "stdout",
     "output_type": "stream",
     "text": [
      "loss: 0.18225 | bce: 0.04236 | dice: 0.86498 | 0 cls: 0.11980 | 1 cls: 0.17826 | 2 cls: 0.30561\n"
     ]
    },
    {
     "name": "stderr",
     "output_type": "stream",
     "text": [
      "Epoch 135, lr 0.00028125000000000003: 100% 43/43 [00:12<00:00,  3.42it/s, 0 cls=0.20863, 1 cls=0.29123, 2 cls=0.40283, bce=0.08846, dice=0.82462, loss=0.28051]\n"
     ]
    },
    {
     "name": "stdout",
     "output_type": "stream",
     "text": [
      "loss: 0.18030 | bce: 0.04642 | dice: 0.86954 | 0 cls: 0.12046 | 1 cls: 0.17372 | 2 cls: 0.30365\n"
     ]
    },
    {
     "name": "stderr",
     "output_type": "stream",
     "text": [
      "Epoch 136, lr 0.00028125000000000003: 100% 43/43 [00:12<00:00,  3.45it/s, 0 cls=0.19641, 1 cls=0.28176, 2 cls=0.39268, bce=0.08573, dice=0.83105, loss=0.26981]\n"
     ]
    },
    {
     "name": "stdout",
     "output_type": "stream",
     "text": [
      "loss: 0.18005 | bce: 0.04208 | dice: 0.86658 | 0 cls: 0.11813 | 1 cls: 0.17505 | 2 cls: 0.30257\n"
     ]
    },
    {
     "name": "stderr",
     "output_type": "stream",
     "text": [
      "Epoch 137, lr 0.00028125000000000003: 100% 43/43 [00:12<00:00,  3.45it/s, 0 cls=0.20029, 1 cls=0.28625, 2 cls=0.39254, bce=0.08852, dice=0.83125, loss=0.27313]\n"
     ]
    },
    {
     "name": "stdout",
     "output_type": "stream",
     "text": [
      "loss: 0.17909 | bce: 0.04430 | dice: 0.86849 | 0 cls: 0.11747 | 1 cls: 0.17383 | 2 cls: 0.30362\n"
     ]
    },
    {
     "name": "stderr",
     "output_type": "stream",
     "text": [
      "Epoch 138, lr 0.00028125000000000003: 100% 43/43 [00:12<00:00,  3.43it/s, 0 cls=0.20301, 1 cls=0.28616, 2 cls=0.39778, bce=0.08756, dice=0.82809, loss=0.27523]\n"
     ]
    },
    {
     "name": "stdout",
     "output_type": "stream",
     "text": [
      "loss: 0.18178 | bce: 0.04339 | dice: 0.86600 | 0 cls: 0.11815 | 1 cls: 0.17827 | 2 cls: 0.30530\n"
     ]
    },
    {
     "name": "stderr",
     "output_type": "stream",
     "text": [
      "Epoch 139, lr 0.00028125000000000003: 100% 43/43 [00:12<00:00,  3.44it/s, 0 cls=0.19471, 1 cls=0.27959, 2 cls=0.38813, bce=0.08403, dice=0.83177, loss=0.26734]\n"
     ]
    },
    {
     "name": "stdout",
     "output_type": "stream",
     "text": [
      "loss: 0.18350 | bce: 0.04511 | dice: 0.86641 | 0 cls: 0.11931 | 1 cls: 0.18111 | 2 cls: 0.30807\n"
     ]
    },
    {
     "name": "stderr",
     "output_type": "stream",
     "text": [
      "Epoch 140, lr 0.0008100000000000001: 100% 43/43 [00:12<00:00,  3.44it/s, 0 cls=0.21739, 1 cls=0.30227, 2 cls=0.41469, bce=0.09312, dice=0.82040, loss=0.29080]\n"
     ]
    },
    {
     "name": "stdout",
     "output_type": "stream",
     "text": [
      "loss: 0.19178 | bce: 0.04393 | dice: 0.85779 | 0 cls: 0.12646 | 1 cls: 0.18939 | 2 cls: 0.31970\n"
     ]
    },
    {
     "name": "stderr",
     "output_type": "stream",
     "text": [
      "Epoch 141, lr 0.0008100000000000001: 100% 43/43 [00:12<00:00,  3.44it/s, 0 cls=0.24376, 1 cls=0.32647, 2 cls=0.45163, bce=0.10262, dice=0.80513, loss=0.31842]\n"
     ]
    },
    {
     "name": "stdout",
     "output_type": "stream",
     "text": [
      "loss: 0.21193 | bce: 0.04971 | dice: 0.84639 | 0 cls: 0.13828 | 1 cls: 0.20955 | 2 cls: 0.35093\n"
     ]
    },
    {
     "name": "stderr",
     "output_type": "stream",
     "text": [
      "Epoch 142, lr 0.000243: 100% 43/43 [00:12<00:00,  3.44it/s, 0 cls=0.21220, 1 cls=0.29752, 2 cls=0.41176, bce=0.09088, dice=0.82232, loss=0.28624]\n"
     ]
    },
    {
     "name": "stdout",
     "output_type": "stream",
     "text": [
      "loss: 0.18176 | bce: 0.04474 | dice: 0.86743 | 0 cls: 0.11960 | 1 cls: 0.17748 | 2 cls: 0.30610\n"
     ]
    },
    {
     "name": "stderr",
     "output_type": "stream",
     "text": [
      "Epoch 143, lr 0.000243: 100% 43/43 [00:12<00:00,  3.46it/s, 0 cls=0.20338, 1 cls=0.29069, 2 cls=0.39941, bce=0.08795, dice=0.82712, loss=0.27751]\n"
     ]
    },
    {
     "name": "stdout",
     "output_type": "stream",
     "text": [
      "loss: 0.18113 | bce: 0.04115 | dice: 0.86423 | 0 cls: 0.12027 | 1 cls: 0.17616 | 2 cls: 0.30463\n"
     ]
    },
    {
     "name": "stderr",
     "output_type": "stream",
     "text": [
      "Epoch 144, lr 7.29e-05: 100% 43/43 [00:12<00:00,  3.46it/s, 0 cls=0.19122, 1 cls=0.27425, 2 cls=0.38299, bce=0.08355, dice=0.83470, loss=0.26278]\n"
     ]
    },
    {
     "name": "stdout",
     "output_type": "stream",
     "text": [
      "loss: 0.18199 | bce: 0.04255 | dice: 0.86539 | 0 cls: 0.11900 | 1 cls: 0.17899 | 2 cls: 0.30607\n"
     ]
    },
    {
     "name": "stderr",
     "output_type": "stream",
     "text": [
      "Epoch 145, lr 0.0008100000000000001: 100% 43/43 [00:12<00:00,  3.43it/s, 0 cls=0.21310, 1 cls=0.29911, 2 cls=0.41271, bce=0.09243, dice=0.82222, loss=0.28743]\n"
     ]
    },
    {
     "name": "stdout",
     "output_type": "stream",
     "text": [
      "loss: 0.19683 | bce: 0.04588 | dice: 0.85563 | 0 cls: 0.12704 | 1 cls: 0.19258 | 2 cls: 0.33271\n"
     ]
    },
    {
     "name": "stderr",
     "output_type": "stream",
     "text": [
      "Epoch 146, lr 0.0008100000000000001: 100% 43/43 [00:12<00:00,  3.43it/s, 0 cls=0.23048, 1 cls=0.31167, 2 cls=0.42884, bce=0.09686, dice=0.81366, loss=0.30262]\n"
     ]
    },
    {
     "name": "stdout",
     "output_type": "stream",
     "text": [
      "loss: 0.19270 | bce: 0.05355 | dice: 0.86542 | 0 cls: 0.12234 | 1 cls: 0.19215 | 2 cls: 0.32402\n"
     ]
    },
    {
     "name": "stderr",
     "output_type": "stream",
     "text": [
      "Epoch 147, lr 0.000243: 100% 43/43 [00:12<00:00,  3.45it/s, 0 cls=0.20324, 1 cls=0.29167, 2 cls=0.40467, bce=0.08872, dice=0.82621, loss=0.27890]\n"
     ]
    },
    {
     "name": "stdout",
     "output_type": "stream",
     "text": [
      "loss: 0.18596 | bce: 0.04207 | dice: 0.86206 | 0 cls: 0.12281 | 1 cls: 0.18157 | 2 cls: 0.31018\n"
     ]
    },
    {
     "name": "stderr",
     "output_type": "stream",
     "text": [
      "Epoch 148, lr 0.000243: 100% 43/43 [00:12<00:00,  3.43it/s, 0 cls=0.20100, 1 cls=0.28446, 2 cls=0.39504, bce=0.08766, dice=0.82989, loss=0.27319]\n"
     ]
    },
    {
     "name": "stdout",
     "output_type": "stream",
     "text": [
      "loss: 0.18124 | bce: 0.04298 | dice: 0.86642 | 0 cls: 0.11843 | 1 cls: 0.17760 | 2 cls: 0.30483\n"
     ]
    },
    {
     "name": "stderr",
     "output_type": "stream",
     "text": [
      "Epoch 149, lr 7.29e-05: 100% 43/43 [00:12<00:00,  3.44it/s, 0 cls=0.20175, 1 cls=0.28506, 2 cls=0.39494, bce=0.08667, dice=0.82900, loss=0.27371]\n"
     ]
    },
    {
     "name": "stdout",
     "output_type": "stream",
     "text": [
      "loss: 0.17877 | bce: 0.04197 | dice: 0.86725 | 0 cls: 0.11874 | 1 cls: 0.17336 | 2 cls: 0.30149\n"
     ]
    },
    {
     "name": "stderr",
     "output_type": "stream",
     "text": [
      "Epoch 150, lr 0.0002109375: 100% 43/43 [00:12<00:00,  3.45it/s, 0 cls=0.19768, 1 cls=0.28001, 2 cls=0.38890, bce=0.08433, dice=0.83060, loss=0.26886]\n"
     ]
    },
    {
     "name": "stdout",
     "output_type": "stream",
     "text": [
      "loss: 0.18415 | bce: 0.04267 | dice: 0.86337 | 0 cls: 0.12006 | 1 cls: 0.18153 | 2 cls: 0.30999\n"
     ]
    },
    {
     "name": "stderr",
     "output_type": "stream",
     "text": [
      "Epoch 151, lr 0.0002109375: 100% 43/43 [00:12<00:00,  3.45it/s, 0 cls=0.20036, 1 cls=0.27990, 2 cls=0.38843, bce=0.08521, dice=0.83060, loss=0.26979]\n"
     ]
    },
    {
     "name": "stdout",
     "output_type": "stream",
     "text": [
      "loss: 0.17874 | bce: 0.04342 | dice: 0.86894 | 0 cls: 0.11808 | 1 cls: 0.17462 | 2 cls: 0.30043\n"
     ]
    },
    {
     "name": "stderr",
     "output_type": "stream",
     "text": [
      "Epoch 152, lr 0.0002109375: 100% 43/43 [00:12<00:00,  3.45it/s, 0 cls=0.19526, 1 cls=0.27804, 2 cls=0.38819, bce=0.08513, dice=0.83274, loss=0.26696]\n"
     ]
    },
    {
     "name": "stdout",
     "output_type": "stream",
     "text": [
      "loss: 0.18050 | bce: 0.04247 | dice: 0.86708 | 0 cls: 0.11674 | 1 cls: 0.18001 | 2 cls: 0.30122\n"
     ]
    },
    {
     "name": "stderr",
     "output_type": "stream",
     "text": [
      "Epoch 153, lr 0.0002109375: 100% 43/43 [00:12<00:00,  3.45it/s, 0 cls=0.19483, 1 cls=0.28084, 2 cls=0.38660, bce=0.08465, dice=0.83251, loss=0.26759]\n"
     ]
    },
    {
     "name": "stdout",
     "output_type": "stream",
     "text": [
      "loss: 0.18208 | bce: 0.04306 | dice: 0.86555 | 0 cls: 0.11799 | 1 cls: 0.17955 | 2 cls: 0.30809\n"
     ]
    },
    {
     "name": "stderr",
     "output_type": "stream",
     "text": [
      "Epoch 154, lr 0.0002109375: 100% 43/43 [00:12<00:00,  3.42it/s, 0 cls=0.19619, 1 cls=0.27676, 2 cls=0.38643, bce=0.08466, dice=0.83292, loss=0.26647]\n"
     ]
    },
    {
     "name": "stdout",
     "output_type": "stream",
     "text": [
      "loss: 0.18435 | bce: 0.04314 | dice: 0.86272 | 0 cls: 0.12294 | 1 cls: 0.17813 | 2 cls: 0.31295\n"
     ]
    },
    {
     "name": "stderr",
     "output_type": "stream",
     "text": [
      "Epoch 155, lr 0.0002109375: 100% 43/43 [00:12<00:00,  3.45it/s, 0 cls=0.20000, 1 cls=0.28277, 2 cls=0.39273, bce=0.08704, dice=0.83070, loss=0.27165]\n"
     ]
    },
    {
     "name": "stdout",
     "output_type": "stream",
     "text": [
      "loss: 0.18726 | bce: 0.04538 | dice: 0.86310 | 0 cls: 0.12238 | 1 cls: 0.18553 | 2 cls: 0.31373\n"
     ]
    },
    {
     "name": "stderr",
     "output_type": "stream",
     "text": [
      "Epoch 156, lr 0.0002109375: 100% 43/43 [00:12<00:00,  3.45it/s, 0 cls=0.19235, 1 cls=0.27545, 2 cls=0.38406, bce=0.08440, dice=0.83464, loss=0.26393]\n"
     ]
    },
    {
     "name": "stdout",
     "output_type": "stream",
     "text": [
      "loss: 0.19253 | bce: 0.04571 | dice: 0.85943 | 0 cls: 0.12352 | 1 cls: 0.19328 | 2 cls: 0.32141\n"
     ]
    },
    {
     "name": "stderr",
     "output_type": "stream",
     "text": [
      "Epoch 157, lr 0.0002109375: 100% 43/43 [00:12<00:00,  3.45it/s, 0 cls=0.19690, 1 cls=0.28068, 2 cls=0.38984, bce=0.08569, dice=0.83171, loss=0.26900]\n"
     ]
    },
    {
     "name": "stdout",
     "output_type": "stream",
     "text": [
      "loss: 0.18128 | bce: 0.04284 | dice: 0.86632 | 0 cls: 0.11686 | 1 cls: 0.18109 | 2 cls: 0.30388\n"
     ]
    },
    {
     "name": "stderr",
     "output_type": "stream",
     "text": [
      "Epoch 158, lr 0.0002109375: 100% 43/43 [00:12<00:00,  3.44it/s, 0 cls=0.19866, 1 cls=0.27995, 2 cls=0.38953, bce=0.08615, dice=0.83184, loss=0.26935]\n"
     ]
    },
    {
     "name": "stdout",
     "output_type": "stream",
     "text": [
      "loss: 0.17767 | bce: 0.04282 | dice: 0.86928 | 0 cls: 0.11742 | 1 cls: 0.17361 | 2 cls: 0.29976\n"
     ]
    },
    {
     "name": "stderr",
     "output_type": "stream",
     "text": [
      "Epoch 159, lr 0.0002109375: 100% 43/43 [00:12<00:00,  3.40it/s, 0 cls=0.19461, 1 cls=0.27971, 2 cls=0.38520, bce=0.08405, dice=0.83276, loss=0.26677]\n"
     ]
    },
    {
     "name": "stdout",
     "output_type": "stream",
     "text": [
      "loss: 0.18853 | bce: 0.04429 | dice: 0.86131 | 0 cls: 0.12342 | 1 cls: 0.18733 | 2 cls: 0.31496\n"
     ]
    },
    {
     "name": "stderr",
     "output_type": "stream",
     "text": [
      "Epoch 160, lr 0.0002109375: 100% 43/43 [00:12<00:00,  3.45it/s, 0 cls=0.21061, 1 cls=0.29005, 2 cls=0.40138, bce=0.08948, dice=0.82521, loss=0.28054]\n"
     ]
    },
    {
     "name": "stdout",
     "output_type": "stream",
     "text": [
      "loss: 0.18046 | bce: 0.04375 | dice: 0.86672 | 0 cls: 0.12032 | 1 cls: 0.17375 | 2 cls: 0.30555\n"
     ]
    },
    {
     "name": "stderr",
     "output_type": "stream",
     "text": [
      "Epoch 161, lr 0.0002109375: 100% 43/43 [00:12<00:00,  3.43it/s, 0 cls=0.19198, 1 cls=0.27398, 2 cls=0.38280, bce=0.08254, dice=0.83390, loss=0.26294]\n"
     ]
    },
    {
     "name": "stdout",
     "output_type": "stream",
     "text": [
      "loss: 0.18008 | bce: 0.04348 | dice: 0.86793 | 0 cls: 0.11729 | 1 cls: 0.17790 | 2 cls: 0.30222\n"
     ]
    },
    {
     "name": "stderr",
     "output_type": "stream",
     "text": [
      "Epoch 162, lr 0.0002109375: 100% 43/43 [00:12<00:00,  3.45it/s, 0 cls=0.19091, 1 cls=0.27396, 2 cls=0.38059, bce=0.08286, dice=0.83524, loss=0.26207]\n"
     ]
    },
    {
     "name": "stdout",
     "output_type": "stream",
     "text": [
      "loss: 0.18146 | bce: 0.04078 | dice: 0.86411 | 0 cls: 0.12016 | 1 cls: 0.17780 | 2 cls: 0.30444\n"
     ]
    },
    {
     "name": "stderr",
     "output_type": "stream",
     "text": [
      "Epoch 163, lr 0.0002109375: 100% 43/43 [00:12<00:00,  3.45it/s, 0 cls=0.19718, 1 cls=0.27809, 2 cls=0.38840, bce=0.08619, dice=0.83299, loss=0.26779]\n"
     ]
    },
    {
     "name": "stdout",
     "output_type": "stream",
     "text": [
      "loss: 0.18475 | bce: 0.04526 | dice: 0.86515 | 0 cls: 0.11995 | 1 cls: 0.18287 | 2 cls: 0.31049\n"
     ]
    },
    {
     "name": "stderr",
     "output_type": "stream",
     "text": [
      "Epoch 164, lr 0.0002109375: 100% 43/43 [00:12<00:00,  3.43it/s, 0 cls=0.19781, 1 cls=0.28099, 2 cls=0.38705, bce=0.08585, dice=0.83221, loss=0.26893]\n"
     ]
    },
    {
     "name": "stdout",
     "output_type": "stream",
     "text": [
      "loss: 0.18128 | bce: 0.04292 | dice: 0.86652 | 0 cls: 0.11694 | 1 cls: 0.18123 | 2 cls: 0.30374\n"
     ]
    },
    {
     "name": "stderr",
     "output_type": "stream",
     "text": [
      "Epoch 165, lr 0.0002109375: 100% 43/43 [00:12<00:00,  3.43it/s, 0 cls=0.19667, 1 cls=0.28038, 2 cls=0.38934, bce=0.08478, dice=0.83128, loss=0.26869]\n"
     ]
    },
    {
     "name": "stdout",
     "output_type": "stream",
     "text": [
      "loss: 0.17891 | bce: 0.04090 | dice: 0.86579 | 0 cls: 0.12046 | 1 cls: 0.17254 | 2 cls: 0.30213\n"
     ]
    },
    {
     "name": "stderr",
     "output_type": "stream",
     "text": [
      "Epoch 166, lr 0.0002109375: 100% 43/43 [00:12<00:00,  3.43it/s, 0 cls=0.19185, 1 cls=0.27803, 2 cls=0.38623, bce=0.08361, dice=0.83333, loss=0.26519]\n"
     ]
    },
    {
     "name": "stdout",
     "output_type": "stream",
     "text": [
      "loss: 0.18454 | bce: 0.04361 | dice: 0.86357 | 0 cls: 0.12001 | 1 cls: 0.18244 | 2 cls: 0.31059\n"
     ]
    },
    {
     "name": "stderr",
     "output_type": "stream",
     "text": [
      "Epoch 167, lr 0.0002109375: 100% 43/43 [00:12<00:00,  3.44it/s, 0 cls=0.20046, 1 cls=0.28523, 2 cls=0.39144, bce=0.08641, dice=0.83006, loss=0.27257]\n"
     ]
    },
    {
     "name": "stdout",
     "output_type": "stream",
     "text": [
      "loss: 0.17969 | bce: 0.04354 | dice: 0.86785 | 0 cls: 0.11860 | 1 cls: 0.17517 | 2 cls: 0.30355\n"
     ]
    },
    {
     "name": "stderr",
     "output_type": "stream",
     "text": [
      "Epoch 168, lr 0.0002109375: 100% 43/43 [00:12<00:00,  3.43it/s, 0 cls=0.19602, 1 cls=0.27932, 2 cls=0.38755, bce=0.08525, dice=0.83266, loss=0.26764]\n"
     ]
    },
    {
     "name": "stdout",
     "output_type": "stream",
     "text": [
      "loss: 0.17926 | bce: 0.04142 | dice: 0.86644 | 0 cls: 0.11852 | 1 cls: 0.17400 | 2 cls: 0.30194\n"
     ]
    },
    {
     "name": "stderr",
     "output_type": "stream",
     "text": [
      "Epoch 169, lr 0.0002109375: 100% 43/43 [00:12<00:00,  3.43it/s, 0 cls=0.18983, 1 cls=0.27356, 2 cls=0.38168, bce=0.08302, dice=0.83557, loss=0.26169]\n"
     ]
    },
    {
     "name": "stdout",
     "output_type": "stream",
     "text": [
      "loss: 0.18318 | bce: 0.04590 | dice: 0.86766 | 0 cls: 0.11629 | 1 cls: 0.18403 | 2 cls: 0.30707\n"
     ]
    },
    {
     "name": "stderr",
     "output_type": "stream",
     "text": [
      "Epoch 170, lr 0.0002109375: 100% 43/43 [00:12<00:00,  3.45it/s, 0 cls=0.18962, 1 cls=0.27275, 2 cls=0.37819, bce=0.08341, dice=0.83698, loss=0.26059]\n"
     ]
    },
    {
     "name": "stdout",
     "output_type": "stream",
     "text": [
      "loss: 0.18102 | bce: 0.04334 | dice: 0.86682 | 0 cls: 0.11814 | 1 cls: 0.17877 | 2 cls: 0.30338\n"
     ]
    },
    {
     "name": "stderr",
     "output_type": "stream",
     "text": [
      "Epoch 171, lr 0.0002109375: 100% 43/43 [00:12<00:00,  3.44it/s, 0 cls=0.19518, 1 cls=0.27923, 2 cls=0.38465, bce=0.08362, dice=0.83220, loss=0.26669]\n"
     ]
    },
    {
     "name": "stdout",
     "output_type": "stream",
     "text": [
      "loss: 0.18041 | bce: 0.04152 | dice: 0.86519 | 0 cls: 0.11908 | 1 cls: 0.17651 | 2 cls: 0.30470\n"
     ]
    },
    {
     "name": "stderr",
     "output_type": "stream",
     "text": [
      "Epoch 172, lr 0.0002109375: 100% 43/43 [00:12<00:00,  3.44it/s, 0 cls=0.19845, 1 cls=0.27916, 2 cls=0.38725, bce=0.08514, dice=0.83163, loss=0.26850]\n"
     ]
    },
    {
     "name": "stdout",
     "output_type": "stream",
     "text": [
      "loss: 0.17858 | bce: 0.04172 | dice: 0.86723 | 0 cls: 0.11850 | 1 cls: 0.17361 | 2 cls: 0.30192\n"
     ]
    },
    {
     "name": "stderr",
     "output_type": "stream",
     "text": [
      "Epoch 173, lr 0.0002109375: 100% 43/43 [00:12<00:00,  3.45it/s, 0 cls=0.19130, 1 cls=0.27320, 2 cls=0.38064, bce=0.08354, dice=0.83584, loss=0.26193]\n"
     ]
    },
    {
     "name": "stdout",
     "output_type": "stream",
     "text": [
      "loss: 0.18355 | bce: 0.04184 | dice: 0.86289 | 0 cls: 0.12157 | 1 cls: 0.17878 | 2 cls: 0.31008\n"
     ]
    },
    {
     "name": "stderr",
     "output_type": "stream",
     "text": [
      "Epoch 174, lr 0.0002109375: 100% 43/43 [00:12<00:00,  3.44it/s, 0 cls=0.18814, 1 cls=0.27067, 2 cls=0.37808, bce=0.08184, dice=0.83659, loss=0.25914]\n"
     ]
    },
    {
     "name": "stdout",
     "output_type": "stream",
     "text": [
      "loss: 0.18510 | bce: 0.04296 | dice: 0.86314 | 0 cls: 0.12074 | 1 cls: 0.18397 | 2 cls: 0.31015\n"
     ]
    },
    {
     "name": "stderr",
     "output_type": "stream",
     "text": [
      "Epoch 175, lr 0.0002109375: 100% 43/43 [00:12<00:00,  3.45it/s, 0 cls=0.19280, 1 cls=0.27833, 2 cls=0.38408, bce=0.08385, dice=0.83373, loss=0.26527]\n"
     ]
    },
    {
     "name": "stdout",
     "output_type": "stream",
     "text": [
      "loss: 0.17476 | bce: 0.04153 | dice: 0.87066 | 0 cls: 0.11679 | 1 cls: 0.16911 | 2 cls: 0.29370\n"
     ]
    },
    {
     "name": "stderr",
     "output_type": "stream",
     "text": [
      "Epoch 176, lr 0.0002109375: 100% 43/43 [00:12<00:00,  3.45it/s, 0 cls=0.18807, 1 cls=0.27176, 2 cls=0.37788, bce=0.08263, dice=0.83706, loss=0.25951]\n"
     ]
    },
    {
     "name": "stdout",
     "output_type": "stream",
     "text": [
      "loss: 0.17846 | bce: 0.04502 | dice: 0.87006 | 0 cls: 0.11754 | 1 cls: 0.17400 | 2 cls: 0.30122\n"
     ]
    },
    {
     "name": "stderr",
     "output_type": "stream",
     "text": [
      "Epoch 177, lr 0.0002109375: 100% 43/43 [00:12<00:00,  3.45it/s, 0 cls=0.19104, 1 cls=0.27288, 2 cls=0.38166, bce=0.08330, dice=0.83540, loss=0.26190]\n"
     ]
    },
    {
     "name": "stdout",
     "output_type": "stream",
     "text": [
      "loss: 0.17698 | bce: 0.04233 | dice: 0.86878 | 0 cls: 0.11858 | 1 cls: 0.17052 | 2 cls: 0.29878\n"
     ]
    },
    {
     "name": "stderr",
     "output_type": "stream",
     "text": [
      "Epoch 178, lr 0.0002109375: 100% 43/43 [00:12<00:00,  3.45it/s, 0 cls=0.19901, 1 cls=0.28092, 2 cls=0.38970, bce=0.08606, dice=0.83124, loss=0.26991]\n"
     ]
    },
    {
     "name": "stdout",
     "output_type": "stream",
     "text": [
      "loss: 0.18815 | bce: 0.04518 | dice: 0.86137 | 0 cls: 0.12466 | 1 cls: 0.18419 | 2 cls: 0.31808\n"
     ]
    },
    {
     "name": "stderr",
     "output_type": "stream",
     "text": [
      "Epoch 179, lr 0.0002109375: 100% 43/43 [00:12<00:00,  3.42it/s, 0 cls=0.19485, 1 cls=0.27919, 2 cls=0.38632, bce=0.08604, dice=0.83430, loss=0.26688]\n"
     ]
    },
    {
     "name": "stdout",
     "output_type": "stream",
     "text": [
      "loss: 0.18133 | bce: 0.04328 | dice: 0.86426 | 0 cls: 0.12326 | 1 cls: 0.17165 | 2 cls: 0.30867\n"
     ]
    },
    {
     "name": "stderr",
     "output_type": "stream",
     "text": [
      "Epoch 180, lr 0.0002109375: 100% 43/43 [00:12<00:00,  3.45it/s, 0 cls=0.19787, 1 cls=0.27931, 2 cls=0.38804, bce=0.08464, dice=0.83138, loss=0.26848]\n"
     ]
    },
    {
     "name": "stdout",
     "output_type": "stream",
     "text": [
      "loss: 0.18502 | bce: 0.04330 | dice: 0.86366 | 0 cls: 0.12138 | 1 cls: 0.18298 | 2 cls: 0.30876\n"
     ]
    },
    {
     "name": "stderr",
     "output_type": "stream",
     "text": [
      "Epoch 181, lr 0.0002109375: 100% 43/43 [00:12<00:00,  3.46it/s, 0 cls=0.18645, 1 cls=0.27027, 2 cls=0.37500, bce=0.08200, dice=0.83810, loss=0.25769]\n"
     ]
    },
    {
     "name": "stdout",
     "output_type": "stream",
     "text": [
      "loss: 0.18146 | bce: 0.04591 | dice: 0.86874 | 0 cls: 0.11821 | 1 cls: 0.17936 | 2 cls: 0.30455\n"
     ]
    },
    {
     "name": "stderr",
     "output_type": "stream",
     "text": [
      "Epoch 182, lr 0.0002109375: 100% 43/43 [00:12<00:00,  3.42it/s, 0 cls=0.18785, 1 cls=0.27090, 2 cls=0.37762, bce=0.08280, dice=0.83752, loss=0.25902]\n"
     ]
    },
    {
     "name": "stdout",
     "output_type": "stream",
     "text": [
      "loss: 0.18085 | bce: 0.04582 | dice: 0.86860 | 0 cls: 0.11720 | 1 cls: 0.17888 | 2 cls: 0.30475\n"
     ]
    },
    {
     "name": "stderr",
     "output_type": "stream",
     "text": [
      "Epoch 183, lr 0.0002109375: 100% 43/43 [00:12<00:00,  3.45it/s, 0 cls=0.18925, 1 cls=0.27607, 2 cls=0.38006, bce=0.08347, dice=0.83603, loss=0.26214]\n"
     ]
    },
    {
     "name": "stdout",
     "output_type": "stream",
     "text": [
      "loss: 0.18230 | bce: 0.04520 | dice: 0.86807 | 0 cls: 0.11595 | 1 cls: 0.18344 | 2 cls: 0.30471\n"
     ]
    },
    {
     "name": "stderr",
     "output_type": "stream",
     "text": [
      "Epoch 184, lr 0.0002109375: 100% 43/43 [00:12<00:00,  3.45it/s, 0 cls=0.19382, 1 cls=0.27778, 2 cls=0.38415, bce=0.08571, dice=0.83490, loss=0.26547]\n"
     ]
    },
    {
     "name": "stdout",
     "output_type": "stream",
     "text": [
      "loss: 0.19242 | bce: 0.05105 | dice: 0.86395 | 0 cls: 0.12048 | 1 cls: 0.19560 | 2 cls: 0.32275\n"
     ]
    },
    {
     "name": "stderr",
     "output_type": "stream",
     "text": [
      "Epoch 185, lr 0.0002109375: 100% 43/43 [00:12<00:00,  3.44it/s, 0 cls=0.19059, 1 cls=0.27476, 2 cls=0.38130, bce=0.08310, dice=0.83537, loss=0.26240]\n"
     ]
    },
    {
     "name": "stdout",
     "output_type": "stream",
     "text": [
      "loss: 0.17693 | bce: 0.04300 | dice: 0.86982 | 0 cls: 0.11653 | 1 cls: 0.17209 | 2 cls: 0.29896\n"
     ]
    },
    {
     "name": "stderr",
     "output_type": "stream",
     "text": [
      "Epoch 186, lr 0.0002109375: 100% 43/43 [00:12<00:00,  3.44it/s, 0 cls=0.18787, 1 cls=0.27665, 2 cls=0.37946, bce=0.08306, dice=0.83625, loss=0.26170]\n"
     ]
    },
    {
     "name": "stdout",
     "output_type": "stream",
     "text": [
      "loss: 0.18227 | bce: 0.04462 | dice: 0.86723 | 0 cls: 0.11787 | 1 cls: 0.18107 | 2 cls: 0.30524\n"
     ]
    },
    {
     "name": "stderr",
     "output_type": "stream",
     "text": [
      "Epoch 187, lr 0.0002109375: 100% 43/43 [00:12<00:00,  3.43it/s, 0 cls=0.19940, 1 cls=0.28007, 2 cls=0.38849, bce=0.08555, dice=0.83134, loss=0.26949]\n"
     ]
    },
    {
     "name": "stdout",
     "output_type": "stream",
     "text": [
      "loss: 0.18796 | bce: 0.04604 | dice: 0.86320 | 0 cls: 0.12262 | 1 cls: 0.18661 | 2 cls: 0.31445\n"
     ]
    },
    {
     "name": "stderr",
     "output_type": "stream",
     "text": [
      "Epoch 188, lr 0.0002109375: 100% 43/43 [00:12<00:00,  3.44it/s, 0 cls=0.19370, 1 cls=0.27448, 2 cls=0.38455, bce=0.08504, dice=0.83473, loss=0.26418]\n"
     ]
    },
    {
     "name": "stdout",
     "output_type": "stream",
     "text": [
      "loss: 0.17538 | bce: 0.04343 | dice: 0.87074 | 0 cls: 0.11717 | 1 cls: 0.16800 | 2 cls: 0.29780\n"
     ]
    },
    {
     "name": "stderr",
     "output_type": "stream",
     "text": [
      "Epoch 189, lr 0.0002109375: 100% 43/43 [00:12<00:00,  3.46it/s, 0 cls=0.19530, 1 cls=0.27626, 2 cls=0.38433, bce=0.08429, dice=0.83314, loss=0.26549]\n"
     ]
    },
    {
     "name": "stdout",
     "output_type": "stream",
     "text": [
      "loss: 0.18044 | bce: 0.04345 | dice: 0.86725 | 0 cls: 0.11926 | 1 cls: 0.17645 | 2 cls: 0.30351\n"
     ]
    },
    {
     "name": "stderr",
     "output_type": "stream",
     "text": [
      "Epoch 190, lr 0.0007290000000000002: 100% 43/43 [00:12<00:00,  3.44it/s, 0 cls=0.20675, 1 cls=0.29288, 2 cls=0.40231, bce=0.08933, dice=0.82564, loss=0.28032]\n"
     ]
    },
    {
     "name": "stdout",
     "output_type": "stream",
     "text": [
      "loss: 0.20493 | bce: 0.05590 | dice: 0.85801 | 0 cls: 0.12630 | 1 cls: 0.21412 | 2 cls: 0.33764\n"
     ]
    },
    {
     "name": "stderr",
     "output_type": "stream",
     "text": [
      "Epoch 191, lr 0.0007290000000000002: 100% 43/43 [00:12<00:00,  3.44it/s, 0 cls=0.20516, 1 cls=0.29063, 2 cls=0.40321, bce=0.08859, dice=0.82598, loss=0.27896]\n"
     ]
    },
    {
     "name": "stdout",
     "output_type": "stream",
     "text": [
      "loss: 0.19511 | bce: 0.04789 | dice: 0.85425 | 0 cls: 0.13979 | 1 cls: 0.17613 | 2 cls: 0.33605\n"
     ]
    },
    {
     "name": "stderr",
     "output_type": "stream",
     "text": [
      "Epoch 192, lr 0.00021870000000000003: 100% 43/43 [00:12<00:00,  3.44it/s, 0 cls=0.20441, 1 cls=0.28798, 2 cls=0.39919, bce=0.08848, dice=0.82757, loss=0.27680]\n"
     ]
    },
    {
     "name": "stdout",
     "output_type": "stream",
     "text": [
      "loss: 0.18234 | bce: 0.04407 | dice: 0.86542 | 0 cls: 0.12174 | 1 cls: 0.17557 | 2 cls: 0.30754\n"
     ]
    },
    {
     "name": "stderr",
     "output_type": "stream",
     "text": [
      "Epoch 193, lr 0.00021870000000000003: 100% 43/43 [00:12<00:00,  3.44it/s, 0 cls=0.19466, 1 cls=0.28014, 2 cls=0.38532, bce=0.08409, dice=0.83259, loss=0.26698]\n"
     ]
    },
    {
     "name": "stdout",
     "output_type": "stream",
     "text": [
      "loss: 0.17927 | bce: 0.04389 | dice: 0.86834 | 0 cls: 0.11919 | 1 cls: 0.17406 | 2 cls: 0.30221\n"
     ]
    },
    {
     "name": "stderr",
     "output_type": "stream",
     "text": [
      "Epoch 194, lr 6.561000000000002e-05: 100% 43/43 [00:12<00:00,  3.45it/s, 0 cls=0.19721, 1 cls=0.27678, 2 cls=0.38614, bce=0.08454, dice=0.83265, loss=0.26682]\n"
     ]
    },
    {
     "name": "stdout",
     "output_type": "stream",
     "text": [
      "loss: 0.17776 | bce: 0.04246 | dice: 0.86834 | 0 cls: 0.11834 | 1 cls: 0.17294 | 2 cls: 0.29997\n"
     ]
    },
    {
     "name": "stderr",
     "output_type": "stream",
     "text": [
      "Epoch 195, lr 0.0007290000000000002: 100% 43/43 [00:12<00:00,  3.42it/s, 0 cls=0.21180, 1 cls=0.29125, 2 cls=0.40674, bce=0.09112, dice=0.82470, loss=0.28257]\n"
     ]
    },
    {
     "name": "stdout",
     "output_type": "stream",
     "text": [
      "loss: 0.18580 | bce: 0.04590 | dice: 0.86401 | 0 cls: 0.12587 | 1 cls: 0.17747 | 2 cls: 0.31179\n"
     ]
    },
    {
     "name": "stderr",
     "output_type": "stream",
     "text": [
      "Epoch 196, lr 0.0007290000000000002: 100% 43/43 [00:12<00:00,  3.44it/s, 0 cls=0.22111, 1 cls=0.29868, 2 cls=0.41710, bce=0.09522, dice=0.82061, loss=0.29133]\n"
     ]
    },
    {
     "name": "stdout",
     "output_type": "stream",
     "text": [
      "loss: 0.18506 | bce: 0.04417 | dice: 0.86409 | 0 cls: 0.12161 | 1 cls: 0.18203 | 2 cls: 0.31018\n"
     ]
    },
    {
     "name": "stderr",
     "output_type": "stream",
     "text": [
      "Epoch 197, lr 0.00021870000000000003: 100% 43/43 [00:12<00:00,  3.44it/s, 0 cls=0.20380, 1 cls=0.28306, 2 cls=0.39351, bce=0.08994, dice=0.83151, loss=0.27344]\n"
     ]
    },
    {
     "name": "stdout",
     "output_type": "stream",
     "text": [
      "loss: 0.18390 | bce: 0.04022 | dice: 0.86202 | 0 cls: 0.12054 | 1 cls: 0.18198 | 2 cls: 0.30672\n"
     ]
    },
    {
     "name": "stderr",
     "output_type": "stream",
     "text": [
      "Epoch 198, lr 0.00021870000000000003: 100% 43/43 [00:12<00:00,  3.43it/s, 0 cls=0.19723, 1 cls=0.28126, 2 cls=0.38811, bce=0.08433, dice=0.83088, loss=0.26902]\n"
     ]
    },
    {
     "name": "stdout",
     "output_type": "stream",
     "text": [
      "loss: 0.18710 | bce: 0.04682 | dice: 0.86493 | 0 cls: 0.11985 | 1 cls: 0.18804 | 2 cls: 0.31266\n"
     ]
    },
    {
     "name": "stderr",
     "output_type": "stream",
     "text": [
      "Epoch 199, lr 6.561000000000002e-05: 100% 43/43 [00:12<00:00,  3.45it/s, 0 cls=0.19429, 1 cls=0.27550, 2 cls=0.38103, bce=0.08390, dice=0.83441, loss=0.26413]\n"
     ]
    },
    {
     "name": "stdout",
     "output_type": "stream",
     "text": [
      "loss: 0.18119 | bce: 0.04361 | dice: 0.86627 | 0 cls: 0.11944 | 1 cls: 0.17738 | 2 cls: 0.30609\n"
     ]
    },
    {
     "name": "stderr",
     "output_type": "stream",
     "text": [
      "Epoch 200, lr 0.000158203125: 100% 43/43 [00:12<00:00,  3.44it/s, 0 cls=0.19333, 1 cls=0.27460, 2 cls=0.38309, bce=0.08270, dice=0.83350, loss=0.26379]\n"
     ]
    },
    {
     "name": "stdout",
     "output_type": "stream",
     "text": [
      "loss: 0.18222 | bce: 0.04535 | dice: 0.86723 | 0 cls: 0.11828 | 1 cls: 0.18052 | 2 cls: 0.30765\n"
     ]
    },
    {
     "name": "stderr",
     "output_type": "stream",
     "text": [
      "Epoch 201, lr 0.000158203125: 100% 43/43 [00:12<00:00,  3.45it/s, 0 cls=0.19287, 1 cls=0.27414, 2 cls=0.38161, bce=0.08302, dice=0.83435, loss=0.26313]\n"
     ]
    },
    {
     "name": "stdout",
     "output_type": "stream",
     "text": [
      "loss: 0.17574 | bce: 0.04271 | dice: 0.87047 | 0 cls: 0.11627 | 1 cls: 0.17106 | 2 cls: 0.29642\n"
     ]
    },
    {
     "name": "stderr",
     "output_type": "stream",
     "text": [
      "Epoch 202, lr 0.000158203125: 100% 43/43 [00:12<00:00,  3.44it/s, 0 cls=0.20030, 1 cls=0.27869, 2 cls=0.38858, bce=0.08529, dice=0.83104, loss=0.26931]\n"
     ]
    },
    {
     "name": "stdout",
     "output_type": "stream",
     "text": [
      "loss: 0.18522 | bce: 0.04445 | dice: 0.86367 | 0 cls: 0.12082 | 1 cls: 0.18277 | 2 cls: 0.31233\n"
     ]
    },
    {
     "name": "stderr",
     "output_type": "stream",
     "text": [
      "Epoch 203, lr 0.000158203125: 100% 43/43 [00:12<00:00,  3.46it/s, 0 cls=0.18494, 1 cls=0.26549, 2 cls=0.37314, bce=0.08122, dice=0.83938, loss=0.25480]\n"
     ]
    },
    {
     "name": "stdout",
     "output_type": "stream",
     "text": [
      "loss: 0.17585 | bce: 0.04172 | dice: 0.86950 | 0 cls: 0.11772 | 1 cls: 0.17003 | 2 cls: 0.29645\n"
     ]
    },
    {
     "name": "stderr",
     "output_type": "stream",
     "text": [
      "Epoch 204, lr 0.000158203125: 100% 43/43 [00:12<00:00,  3.42it/s, 0 cls=0.19155, 1 cls=0.27105, 2 cls=0.37719, bce=0.08247, dice=0.83635, loss=0.26048]\n"
     ]
    },
    {
     "name": "stdout",
     "output_type": "stream",
     "text": [
      "loss: 0.17936 | bce: 0.04212 | dice: 0.86566 | 0 cls: 0.12277 | 1 cls: 0.16956 | 2 cls: 0.30328\n"
     ]
    },
    {
     "name": "stderr",
     "output_type": "stream",
     "text": [
      "Epoch 205, lr 0.000158203125: 100% 43/43 [00:12<00:00,  3.44it/s, 0 cls=0.19128, 1 cls=0.27448, 2 cls=0.38177, bce=0.08458, dice=0.83630, loss=0.26266]\n"
     ]
    },
    {
     "name": "stdout",
     "output_type": "stream",
     "text": [
      "loss: 0.17641 | bce: 0.04146 | dice: 0.86875 | 0 cls: 0.11694 | 1 cls: 0.17139 | 2 cls: 0.29788\n"
     ]
    },
    {
     "name": "stderr",
     "output_type": "stream",
     "text": [
      "Epoch 206, lr 0.000158203125: 100% 43/43 [00:12<00:00,  3.45it/s, 0 cls=0.19098, 1 cls=0.27037, 2 cls=0.37994, bce=0.08272, dice=0.83596, loss=0.26053]\n"
     ]
    },
    {
     "name": "stdout",
     "output_type": "stream",
     "text": [
      "loss: 0.17453 | bce: 0.04355 | dice: 0.87249 | 0 cls: 0.11515 | 1 cls: 0.17042 | 2 cls: 0.29407\n"
     ]
    },
    {
     "name": "stderr",
     "output_type": "stream",
     "text": [
      "Epoch 207, lr 0.000158203125: 100% 43/43 [00:12<00:00,  3.45it/s, 0 cls=0.18508, 1 cls=0.26823, 2 cls=0.37339, bce=0.08185, dice=0.83936, loss=0.25600]\n"
     ]
    },
    {
     "name": "stdout",
     "output_type": "stream",
     "text": [
      "loss: 0.17776 | bce: 0.04073 | dice: 0.86733 | 0 cls: 0.11742 | 1 cls: 0.17405 | 2 cls: 0.29833\n"
     ]
    },
    {
     "name": "stderr",
     "output_type": "stream",
     "text": [
      "Epoch 208, lr 0.000158203125: 100% 43/43 [00:12<00:00,  3.45it/s, 0 cls=0.18978, 1 cls=0.27214, 2 cls=0.37935, bce=0.08258, dice=0.83605, loss=0.26064]\n"
     ]
    },
    {
     "name": "stdout",
     "output_type": "stream",
     "text": [
      "loss: 0.18608 | bce: 0.04666 | dice: 0.86534 | 0 cls: 0.12120 | 1 cls: 0.18476 | 2 cls: 0.31202\n"
     ]
    },
    {
     "name": "stderr",
     "output_type": "stream",
     "text": [
      "Epoch 209, lr 0.000158203125: 100% 43/43 [00:12<00:00,  3.44it/s, 0 cls=0.19394, 1 cls=0.27571, 2 cls=0.38115, bce=0.08437, dice=0.83506, loss=0.26409]\n"
     ]
    },
    {
     "name": "stdout",
     "output_type": "stream",
     "text": [
      "loss: 0.18407 | bce: 0.04524 | dice: 0.86657 | 0 cls: 0.11826 | 1 cls: 0.18458 | 2 cls: 0.30661\n"
     ]
    },
    {
     "name": "stderr",
     "output_type": "stream",
     "text": [
      "Epoch 210, lr 0.000158203125: 100% 43/43 [00:12<00:00,  3.44it/s, 0 cls=0.18304, 1 cls=0.26559, 2 cls=0.37041, bce=0.08083, dice=0.84044, loss=0.25353]\n"
     ]
    },
    {
     "name": "stdout",
     "output_type": "stream",
     "text": [
      "loss: 0.17906 | bce: 0.04273 | dice: 0.86844 | 0 cls: 0.11616 | 1 cls: 0.17771 | 2 cls: 0.29914\n"
     ]
    },
    {
     "name": "stderr",
     "output_type": "stream",
     "text": [
      "Epoch 211, lr 0.000158203125: 100% 43/43 [00:12<00:00,  3.44it/s, 0 cls=0.19161, 1 cls=0.27282, 2 cls=0.38117, bce=0.08342, dice=0.83525, loss=0.26201]\n"
     ]
    },
    {
     "name": "stdout",
     "output_type": "stream",
     "text": [
      "loss: 0.17664 | bce: 0.04286 | dice: 0.86978 | 0 cls: 0.11539 | 1 cls: 0.17370 | 2 cls: 0.29832\n"
     ]
    },
    {
     "name": "stderr",
     "output_type": "stream",
     "text": [
      "Epoch 212, lr 0.000158203125: 100% 43/43 [00:12<00:00,  3.45it/s, 0 cls=0.19406, 1 cls=0.27600, 2 cls=0.38260, bce=0.08400, dice=0.83410, loss=0.26455]\n"
     ]
    },
    {
     "name": "stdout",
     "output_type": "stream",
     "text": [
      "loss: 0.17469 | bce: 0.04105 | dice: 0.86977 | 0 cls: 0.11764 | 1 cls: 0.16860 | 2 cls: 0.29371\n"
     ]
    },
    {
     "name": "stderr",
     "output_type": "stream",
     "text": [
      "Epoch 213, lr 0.000158203125: 100% 43/43 [00:12<00:00,  3.43it/s, 0 cls=0.18332, 1 cls=0.26931, 2 cls=0.37342, bce=0.08096, dice=0.83898, loss=0.25574]\n"
     ]
    },
    {
     "name": "stdout",
     "output_type": "stream",
     "text": [
      "loss: 0.18211 | bce: 0.04397 | dice: 0.86679 | 0 cls: 0.11782 | 1 cls: 0.18212 | 2 cls: 0.30464\n"
     ]
    },
    {
     "name": "stderr",
     "output_type": "stream",
     "text": [
      "Epoch 214, lr 0.000158203125: 100% 43/43 [00:12<00:00,  3.44it/s, 0 cls=0.18689, 1 cls=0.26761, 2 cls=0.37325, bce=0.08237, dice=0.83941, loss=0.25645]\n"
     ]
    },
    {
     "name": "stdout",
     "output_type": "stream",
     "text": [
      "loss: 0.17687 | bce: 0.04310 | dice: 0.86981 | 0 cls: 0.11738 | 1 cls: 0.17258 | 2 cls: 0.29767\n"
     ]
    },
    {
     "name": "stderr",
     "output_type": "stream",
     "text": [
      "Epoch 215, lr 0.000158203125: 100% 43/43 [00:12<00:00,  3.45it/s, 0 cls=0.18905, 1 cls=0.26768, 2 cls=0.37535, bce=0.08305, dice=0.83858, loss=0.25776]\n"
     ]
    },
    {
     "name": "stdout",
     "output_type": "stream",
     "text": [
      "loss: 0.17639 | bce: 0.04232 | dice: 0.86930 | 0 cls: 0.11764 | 1 cls: 0.17107 | 2 cls: 0.29771\n"
     ]
    },
    {
     "name": "stderr",
     "output_type": "stream",
     "text": [
      "Epoch 216, lr 0.000158203125: 100% 43/43 [00:12<00:00,  3.44it/s, 0 cls=0.18856, 1 cls=0.27368, 2 cls=0.37892, bce=0.08308, dice=0.83675, loss=0.26068]\n"
     ]
    },
    {
     "name": "stdout",
     "output_type": "stream",
     "text": [
      "loss: 0.17913 | bce: 0.04260 | dice: 0.86773 | 0 cls: 0.11843 | 1 cls: 0.17471 | 2 cls: 0.30097\n"
     ]
    },
    {
     "name": "stderr",
     "output_type": "stream",
     "text": [
      "Epoch 217, lr 0.000158203125: 100% 43/43 [00:12<00:00,  3.45it/s, 0 cls=0.20445, 1 cls=0.28345, 2 cls=0.38854, bce=0.08897, dice=0.83184, loss=0.27287]\n"
     ]
    },
    {
     "name": "stdout",
     "output_type": "stream",
     "text": [
      "loss: 0.18348 | bce: 0.04452 | dice: 0.86557 | 0 cls: 0.11928 | 1 cls: 0.18161 | 2 cls: 0.30821\n"
     ]
    },
    {
     "name": "stderr",
     "output_type": "stream",
     "text": [
      "Epoch 218, lr 0.000158203125: 100% 43/43 [00:12<00:00,  3.45it/s, 0 cls=0.19190, 1 cls=0.27490, 2 cls=0.37815, bce=0.08218, dice=0.83483, loss=0.26235]\n"
     ]
    },
    {
     "name": "stdout",
     "output_type": "stream",
     "text": [
      "loss: 0.17828 | bce: 0.04485 | dice: 0.87017 | 0 cls: 0.11626 | 1 cls: 0.17555 | 2 cls: 0.30050\n"
     ]
    },
    {
     "name": "stderr",
     "output_type": "stream",
     "text": [
      "Epoch 219, lr 0.000158203125: 100% 43/43 [00:12<00:00,  3.45it/s, 0 cls=0.19093, 1 cls=0.27103, 2 cls=0.37735, bce=0.08368, dice=0.83719, loss=0.26026]\n"
     ]
    },
    {
     "name": "stdout",
     "output_type": "stream",
     "text": [
      "loss: 0.18390 | bce: 0.04477 | dice: 0.86570 | 0 cls: 0.12105 | 1 cls: 0.18118 | 2 cls: 0.30777\n"
     ]
    },
    {
     "name": "stderr",
     "output_type": "stream",
     "text": [
      "Epoch 220, lr 0.000158203125: 100% 43/43 [00:12<00:00,  3.45it/s, 0 cls=0.19111, 1 cls=0.27271, 2 cls=0.38043, bce=0.08280, dice=0.83563, loss=0.26161]\n"
     ]
    },
    {
     "name": "stdout",
     "output_type": "stream",
     "text": [
      "loss: 0.18297 | bce: 0.04629 | dice: 0.86755 | 0 cls: 0.11855 | 1 cls: 0.18119 | 2 cls: 0.30791\n"
     ]
    },
    {
     "name": "stderr",
     "output_type": "stream",
     "text": [
      "Epoch 221, lr 0.000158203125: 100% 43/43 [00:12<00:00,  3.44it/s, 0 cls=0.19408, 1 cls=0.27639, 2 cls=0.38154, bce=0.08372, dice=0.83406, loss=0.26450]\n"
     ]
    },
    {
     "name": "stdout",
     "output_type": "stream",
     "text": [
      "loss: 0.18187 | bce: 0.04263 | dice: 0.86530 | 0 cls: 0.11974 | 1 cls: 0.17915 | 2 cls: 0.30536\n"
     ]
    },
    {
     "name": "stderr",
     "output_type": "stream",
     "text": [
      "Epoch 222, lr 0.000158203125: 100% 43/43 [00:12<00:00,  3.44it/s, 0 cls=0.18770, 1 cls=0.27108, 2 cls=0.37487, bce=0.08196, dice=0.83755, loss=0.25849]\n"
     ]
    },
    {
     "name": "stdout",
     "output_type": "stream",
     "text": [
      "loss: 0.17986 | bce: 0.04474 | dice: 0.86916 | 0 cls: 0.11772 | 1 cls: 0.17837 | 2 cls: 0.30192\n"
     ]
    },
    {
     "name": "stderr",
     "output_type": "stream",
     "text": [
      "Epoch 223, lr 0.000158203125: 100% 43/43 [00:12<00:00,  3.44it/s, 0 cls=0.18828, 1 cls=0.27068, 2 cls=0.37708, bce=0.08310, dice=0.83767, loss=0.25900]\n"
     ]
    },
    {
     "name": "stdout",
     "output_type": "stream",
     "text": [
      "loss: 0.18095 | bce: 0.04089 | dice: 0.86483 | 0 cls: 0.11725 | 1 cls: 0.17944 | 2 cls: 0.30285\n"
     ]
    },
    {
     "name": "stderr",
     "output_type": "stream",
     "text": [
      "Epoch 224, lr 0.000158203125: 100% 43/43 [00:12<00:00,  3.44it/s, 0 cls=0.18118, 1 cls=0.26399, 2 cls=0.36836, bce=0.07975, dice=0.84096, loss=0.25174]\n"
     ]
    },
    {
     "name": "stdout",
     "output_type": "stream",
     "text": [
      "loss: 0.17861 | bce: 0.04326 | dice: 0.86791 | 0 cls: 0.11771 | 1 cls: 0.17407 | 2 cls: 0.30270\n"
     ]
    },
    {
     "name": "stderr",
     "output_type": "stream",
     "text": [
      "Epoch 225, lr 0.000158203125: 100% 43/43 [00:12<00:00,  3.45it/s, 0 cls=0.18689, 1 cls=0.26942, 2 cls=0.37374, bce=0.08150, dice=0.83832, loss=0.25727]\n"
     ]
    },
    {
     "name": "stdout",
     "output_type": "stream",
     "text": [
      "loss: 0.18057 | bce: 0.04378 | dice: 0.86688 | 0 cls: 0.11926 | 1 cls: 0.17661 | 2 cls: 0.30536\n"
     ]
    },
    {
     "name": "stderr",
     "output_type": "stream",
     "text": [
      "Epoch 226, lr 0.000158203125: 100% 43/43 [00:12<00:00,  3.44it/s, 0 cls=0.18662, 1 cls=0.26675, 2 cls=0.37395, bce=0.08112, dice=0.83825, loss=0.25613]\n"
     ]
    },
    {
     "name": "stdout",
     "output_type": "stream",
     "text": [
      "loss: 0.17617 | bce: 0.04321 | dice: 0.86988 | 0 cls: 0.11691 | 1 cls: 0.17103 | 2 cls: 0.29823\n"
     ]
    },
    {
     "name": "stderr",
     "output_type": "stream",
     "text": [
      "Epoch 227, lr 0.000158203125: 100% 43/43 [00:12<00:00,  3.44it/s, 0 cls=0.18856, 1 cls=0.27114, 2 cls=0.37532, bce=0.08446, dice=0.83940, loss=0.25894]\n"
     ]
    },
    {
     "name": "stdout",
     "output_type": "stream",
     "text": [
      "loss: 0.17707 | bce: 0.04243 | dice: 0.86912 | 0 cls: 0.11706 | 1 cls: 0.17296 | 2 cls: 0.29882\n"
     ]
    },
    {
     "name": "stderr",
     "output_type": "stream",
     "text": [
      "Epoch 228, lr 0.000158203125: 100% 43/43 [00:12<00:00,  3.45it/s, 0 cls=0.19292, 1 cls=0.27151, 2 cls=0.37991, bce=0.08400, dice=0.83598, loss=0.26175]\n"
     ]
    },
    {
     "name": "stdout",
     "output_type": "stream",
     "text": [
      "loss: 0.18905 | bce: 0.04717 | dice: 0.86315 | 0 cls: 0.12428 | 1 cls: 0.18687 | 2 cls: 0.31617\n"
     ]
    },
    {
     "name": "stderr",
     "output_type": "stream",
     "text": [
      "Epoch 229, lr 0.000158203125: 100% 43/43 [00:12<00:00,  3.42it/s, 0 cls=0.18843, 1 cls=0.27203, 2 cls=0.37742, bce=0.08256, dice=0.83702, loss=0.25967]\n"
     ]
    },
    {
     "name": "stdout",
     "output_type": "stream",
     "text": [
      "loss: 0.18111 | bce: 0.04071 | dice: 0.86441 | 0 cls: 0.11914 | 1 cls: 0.17840 | 2 cls: 0.30354\n"
     ]
    },
    {
     "name": "stderr",
     "output_type": "stream",
     "text": [
      "Epoch 230, lr 0.000158203125: 100% 43/43 [00:12<00:00,  3.45it/s, 0 cls=0.18811, 1 cls=0.27133, 2 cls=0.37708, bce=0.08186, dice=0.83669, loss=0.25919]\n"
     ]
    },
    {
     "name": "stdout",
     "output_type": "stream",
     "text": [
      "loss: 0.17536 | bce: 0.04279 | dice: 0.87063 | 0 cls: 0.11526 | 1 cls: 0.17097 | 2 cls: 0.29688\n"
     ]
    },
    {
     "name": "stderr",
     "output_type": "stream",
     "text": [
      "Epoch 231, lr 0.000158203125: 100% 43/43 [00:12<00:00,  3.43it/s, 0 cls=0.18554, 1 cls=0.26871, 2 cls=0.37244, bce=0.08165, dice=0.83928, loss=0.25618]\n"
     ]
    },
    {
     "name": "stdout",
     "output_type": "stream",
     "text": [
      "loss: 0.17537 | bce: 0.04199 | dice: 0.87027 | 0 cls: 0.11695 | 1 cls: 0.16925 | 2 cls: 0.29514\n"
     ]
    },
    {
     "name": "stderr",
     "output_type": "stream",
     "text": [
      "Epoch 232, lr 0.000158203125: 100% 43/43 [00:12<00:00,  3.43it/s, 0 cls=0.18514, 1 cls=0.26868, 2 cls=0.37609, bce=0.08262, dice=0.83902, loss=0.25675]\n"
     ]
    },
    {
     "name": "stdout",
     "output_type": "stream",
     "text": [
      "loss: 0.18104 | bce: 0.04265 | dice: 0.86616 | 0 cls: 0.11988 | 1 cls: 0.17674 | 2 cls: 0.30426\n"
     ]
    },
    {
     "name": "stderr",
     "output_type": "stream",
     "text": [
      "Epoch 233, lr 0.000158203125: 100% 43/43 [00:12<00:00,  3.45it/s, 0 cls=0.18357, 1 cls=0.26742, 2 cls=0.37164, bce=0.08061, dice=0.83956, loss=0.25472]\n"
     ]
    },
    {
     "name": "stdout",
     "output_type": "stream",
     "text": [
      "loss: 0.17462 | bce: 0.04369 | dice: 0.87237 | 0 cls: 0.11586 | 1 cls: 0.16933 | 2 cls: 0.29388\n"
     ]
    },
    {
     "name": "stderr",
     "output_type": "stream",
     "text": [
      "Epoch 234, lr 0.000158203125: 100% 43/43 [00:12<00:00,  3.44it/s, 0 cls=0.18316, 1 cls=0.26419, 2 cls=0.37001, bce=0.08095, dice=0.84096, loss=0.25294]\n"
     ]
    },
    {
     "name": "stdout",
     "output_type": "stream",
     "text": [
      "loss: 0.17443 | bce: 0.04278 | dice: 0.87173 | 0 cls: 0.11664 | 1 cls: 0.16790 | 2 cls: 0.29448\n"
     ]
    },
    {
     "name": "stderr",
     "output_type": "stream",
     "text": [
      "Epoch 235, lr 0.000158203125: 100% 43/43 [00:12<00:00,  3.45it/s, 0 cls=0.18819, 1 cls=0.26776, 2 cls=0.37202, bce=0.08223, dice=0.83936, loss=0.25678]\n"
     ]
    },
    {
     "name": "stdout",
     "output_type": "stream",
     "text": [
      "loss: 0.17980 | bce: 0.04285 | dice: 0.86744 | 0 cls: 0.11849 | 1 cls: 0.17686 | 2 cls: 0.30062\n"
     ]
    },
    {
     "name": "stderr",
     "output_type": "stream",
     "text": [
      "Epoch 236, lr 0.000158203125: 100% 43/43 [00:12<00:00,  3.45it/s, 0 cls=0.18465, 1 cls=0.26816, 2 cls=0.37234, bce=0.08190, dice=0.83992, loss=0.25559]\n"
     ]
    },
    {
     "name": "stdout",
     "output_type": "stream",
     "text": [
      "loss: 0.17988 | bce: 0.04338 | dice: 0.86614 | 0 cls: 0.12258 | 1 cls: 0.17103 | 2 cls: 0.30454\n"
     ]
    },
    {
     "name": "stderr",
     "output_type": "stream",
     "text": [
      "Epoch 237, lr 0.000158203125: 100% 43/43 [00:12<00:00,  3.46it/s, 0 cls=0.18290, 1 cls=0.26520, 2 cls=0.37081, bce=0.08033, dice=0.84008, loss=0.25340]\n"
     ]
    },
    {
     "name": "stdout",
     "output_type": "stream",
     "text": [
      "loss: 0.18065 | bce: 0.04500 | dice: 0.86831 | 0 cls: 0.11899 | 1 cls: 0.17747 | 2 cls: 0.30419\n"
     ]
    },
    {
     "name": "stderr",
     "output_type": "stream",
     "text": [
      "Epoch 238, lr 0.000158203125: 100% 43/43 [00:12<00:00,  3.45it/s, 0 cls=0.18119, 1 cls=0.26421, 2 cls=0.37040, bce=0.08041, dice=0.84117, loss=0.25224]\n"
     ]
    },
    {
     "name": "stdout",
     "output_type": "stream",
     "text": [
      "loss: 0.17596 | bce: 0.04248 | dice: 0.87004 | 0 cls: 0.11658 | 1 cls: 0.17081 | 2 cls: 0.29685\n"
     ]
    },
    {
     "name": "stderr",
     "output_type": "stream",
     "text": [
      "Epoch 239, lr 0.000158203125: 100% 43/43 [00:12<00:00,  3.44it/s, 0 cls=0.19026, 1 cls=0.27227, 2 cls=0.37870, bce=0.08234, dice=0.83598, loss=0.26075]\n"
     ]
    },
    {
     "name": "stdout",
     "output_type": "stream",
     "text": [
      "loss: 0.18902 | bce: 0.04537 | dice: 0.86162 | 0 cls: 0.12428 | 1 cls: 0.18649 | 2 cls: 0.31646\n"
     ]
    },
    {
     "name": "stderr",
     "output_type": "stream",
     "text": [
      "Epoch 240, lr 0.0006561000000000001: 100% 43/43 [00:12<00:00,  3.45it/s, 0 cls=0.20949, 1 cls=0.28809, 2 cls=0.40153, bce=0.09002, dice=0.82640, loss=0.27934]\n"
     ]
    },
    {
     "name": "stdout",
     "output_type": "stream",
     "text": [
      "loss: 0.22902 | bce: 0.05500 | dice: 0.83423 | 0 cls: 0.15532 | 1 cls: 0.22391 | 2 cls: 0.38204\n"
     ]
    },
    {
     "name": "stderr",
     "output_type": "stream",
     "text": [
      "Epoch 241, lr 0.0006561000000000001: 100% 43/43 [00:12<00:00,  3.46it/s, 0 cls=0.21604, 1 cls=0.29338, 2 cls=0.40864, bce=0.09332, dice=0.82425, loss=0.28549]\n"
     ]
    },
    {
     "name": "stdout",
     "output_type": "stream",
     "text": [
      "loss: 0.18844 | bce: 0.05017 | dice: 0.86557 | 0 cls: 0.12414 | 1 cls: 0.18266 | 2 cls: 0.31687\n"
     ]
    },
    {
     "name": "stderr",
     "output_type": "stream",
     "text": [
      "Epoch 242, lr 0.00019683000000000002: 100% 43/43 [00:12<00:00,  3.44it/s, 0 cls=0.19821, 1 cls=0.28104, 2 cls=0.38998, bce=0.08662, dice=0.83188, loss=0.26969]\n"
     ]
    },
    {
     "name": "stdout",
     "output_type": "stream",
     "text": [
      "loss: 0.17752 | bce: 0.04296 | dice: 0.86929 | 0 cls: 0.11780 | 1 cls: 0.17271 | 2 cls: 0.29911\n"
     ]
    },
    {
     "name": "stderr",
     "output_type": "stream",
     "text": [
      "Epoch 243, lr 0.00019683000000000002: 100% 43/43 [00:12<00:00,  3.43it/s, 0 cls=0.19338, 1 cls=0.27082, 2 cls=0.37870, bce=0.08331, dice=0.83573, loss=0.26142]\n"
     ]
    },
    {
     "name": "stdout",
     "output_type": "stream",
     "text": [
      "loss: 0.17463 | bce: 0.04388 | dice: 0.87259 | 0 cls: 0.11611 | 1 cls: 0.16922 | 2 cls: 0.29471\n"
     ]
    },
    {
     "name": "stderr",
     "output_type": "stream",
     "text": [
      "Epoch 244, lr 5.9049e-05: 100% 43/43 [00:12<00:00,  3.45it/s, 0 cls=0.19113, 1 cls=0.27428, 2 cls=0.37843, bce=0.08429, dice=0.83675, loss=0.26185]\n"
     ]
    },
    {
     "name": "stdout",
     "output_type": "stream",
     "text": [
      "loss: 0.18007 | bce: 0.04390 | dice: 0.86767 | 0 cls: 0.11901 | 1 cls: 0.17522 | 2 cls: 0.30470\n"
     ]
    },
    {
     "name": "stderr",
     "output_type": "stream",
     "text": [
      "Epoch 245, lr 0.0006561000000000001: 100% 43/43 [00:12<00:00,  3.45it/s, 0 cls=0.19936, 1 cls=0.28425, 2 cls=0.39417, bce=0.08649, dice=0.82973, loss=0.27228]\n"
     ]
    },
    {
     "name": "stdout",
     "output_type": "stream",
     "text": [
      "loss: 0.18626 | bce: 0.04696 | dice: 0.86449 | 0 cls: 0.12451 | 1 cls: 0.18014 | 2 cls: 0.31596\n"
     ]
    },
    {
     "name": "stderr",
     "output_type": "stream",
     "text": [
      "Epoch 246, lr 0.0006561000000000001: 100% 43/43 [00:12<00:00,  3.45it/s, 0 cls=0.20559, 1 cls=0.28790, 2 cls=0.39766, bce=0.08801, dice=0.82749, loss=0.27693]\n"
     ]
    },
    {
     "name": "stdout",
     "output_type": "stream",
     "text": [
      "loss: 0.18524 | bce: 0.04231 | dice: 0.86111 | 0 cls: 0.12311 | 1 cls: 0.17929 | 2 cls: 0.31313\n"
     ]
    },
    {
     "name": "stderr",
     "output_type": "stream",
     "text": [
      "Epoch 247, lr 0.00019683000000000002: 100% 43/43 [00:12<00:00,  3.44it/s, 0 cls=0.19163, 1 cls=0.27412, 2 cls=0.38144, bce=0.08422, dice=0.83562, loss=0.26259]\n"
     ]
    },
    {
     "name": "stdout",
     "output_type": "stream",
     "text": [
      "loss: 0.17767 | bce: 0.04106 | dice: 0.86717 | 0 cls: 0.11942 | 1 cls: 0.17074 | 2 cls: 0.29985\n"
     ]
    },
    {
     "name": "stderr",
     "output_type": "stream",
     "text": [
      "Epoch 248, lr 0.00019683000000000002: 100% 43/43 [00:12<00:00,  3.44it/s, 0 cls=0.19688, 1 cls=0.27916, 2 cls=0.38548, bce=0.08526, dice=0.83299, loss=0.26751]\n"
     ]
    },
    {
     "name": "stdout",
     "output_type": "stream",
     "text": [
      "loss: 0.17649 | bce: 0.04177 | dice: 0.86882 | 0 cls: 0.11819 | 1 cls: 0.17028 | 2 cls: 0.29672\n"
     ]
    },
    {
     "name": "stderr",
     "output_type": "stream",
     "text": [
      "Epoch 249, lr 5.9049e-05: 100% 43/43 [00:12<00:00,  3.43it/s, 0 cls=0.18160, 1 cls=0.26530, 2 cls=0.36839, bce=0.08023, dice=0.84115, loss=0.25244]\n"
     ]
    },
    {
     "name": "stdout",
     "output_type": "stream",
     "text": [
      "loss: 0.17891 | bce: 0.04201 | dice: 0.86705 | 0 cls: 0.11912 | 1 cls: 0.17349 | 2 cls: 0.30229\n"
     ]
    },
    {
     "name": "stderr",
     "output_type": "stream",
     "text": [
      "Epoch 250, lr 0.00011865234375: 100% 43/43 [00:12<00:00,  3.44it/s, 0 cls=0.18303, 1 cls=0.26652, 2 cls=0.37063, bce=0.08097, dice=0.84031, loss=0.25395]\n"
     ]
    },
    {
     "name": "stdout",
     "output_type": "stream",
     "text": [
      "loss: 0.17762 | bce: 0.04121 | dice: 0.86772 | 0 cls: 0.11717 | 1 cls: 0.17320 | 2 cls: 0.29927\n"
     ]
    },
    {
     "name": "stderr",
     "output_type": "stream",
     "text": [
      "Epoch 251, lr 0.00011865234375: 100% 43/43 [00:12<00:00,  3.44it/s, 0 cls=0.19132, 1 cls=0.27206, 2 cls=0.37785, bce=0.08251, dice=0.83586, loss=0.26092]\n"
     ]
    },
    {
     "name": "stdout",
     "output_type": "stream",
     "text": [
      "loss: 0.17502 | bce: 0.04239 | dice: 0.87089 | 0 cls: 0.11696 | 1 cls: 0.16900 | 2 cls: 0.29528\n"
     ]
    },
    {
     "name": "stderr",
     "output_type": "stream",
     "text": [
      "Epoch 252, lr 0.00011865234375: 100% 43/43 [00:12<00:00,  3.44it/s, 0 cls=0.18312, 1 cls=0.26472, 2 cls=0.36854, bce=0.07998, dice=0.84037, loss=0.25285]\n"
     ]
    },
    {
     "name": "stdout",
     "output_type": "stream",
     "text": [
      "loss: 0.17973 | bce: 0.04253 | dice: 0.86671 | 0 cls: 0.11999 | 1 cls: 0.17398 | 2 cls: 0.30405\n"
     ]
    },
    {
     "name": "stderr",
     "output_type": "stream",
     "text": [
      "Epoch 253, lr 0.00011865234375: 100% 43/43 [00:12<00:00,  3.44it/s, 0 cls=0.18380, 1 cls=0.26726, 2 cls=0.37183, bce=0.08158, dice=0.84015, loss=0.25479]\n"
     ]
    },
    {
     "name": "stdout",
     "output_type": "stream",
     "text": [
      "loss: 0.17632 | bce: 0.04140 | dice: 0.86844 | 0 cls: 0.11825 | 1 cls: 0.17011 | 2 cls: 0.29749\n"
     ]
    },
    {
     "name": "stderr",
     "output_type": "stream",
     "text": [
      "Epoch 254, lr 0.00011865234375: 100% 43/43 [00:12<00:00,  3.45it/s, 0 cls=0.18379, 1 cls=0.26346, 2 cls=0.36767, bce=0.08009, dice=0.84077, loss=0.25244]\n"
     ]
    },
    {
     "name": "stdout",
     "output_type": "stream",
     "text": [
      "loss: 0.18400 | bce: 0.04463 | dice: 0.86502 | 0 cls: 0.12227 | 1 cls: 0.17914 | 2 cls: 0.30987\n"
     ]
    },
    {
     "name": "stderr",
     "output_type": "stream",
     "text": [
      "Epoch 255, lr 0.00011865234375: 100% 43/43 [00:12<00:00,  3.45it/s, 0 cls=0.18650, 1 cls=0.26871, 2 cls=0.37457, bce=0.08216, dice=0.83886, loss=0.25699]\n"
     ]
    },
    {
     "name": "stdout",
     "output_type": "stream",
     "text": [
      "loss: 0.17656 | bce: 0.04040 | dice: 0.86742 | 0 cls: 0.11931 | 1 cls: 0.16868 | 2 cls: 0.29835\n"
     ]
    },
    {
     "name": "stderr",
     "output_type": "stream",
     "text": [
      "Epoch 256, lr 0.00011865234375: 100% 43/43 [00:12<00:00,  3.43it/s, 0 cls=0.18764, 1 cls=0.27198, 2 cls=0.37774, bce=0.08224, dice=0.83691, loss=0.25939]\n"
     ]
    },
    {
     "name": "stdout",
     "output_type": "stream",
     "text": [
      "loss: 0.17889 | bce: 0.04288 | dice: 0.86812 | 0 cls: 0.11772 | 1 cls: 0.17522 | 2 cls: 0.30106\n"
     ]
    },
    {
     "name": "stderr",
     "output_type": "stream",
     "text": [
      "Epoch 257, lr 0.00011865234375: 100% 43/43 [00:12<00:00,  3.45it/s, 0 cls=0.18773, 1 cls=0.27197, 2 cls=0.37468, bce=0.08234, dice=0.83808, loss=0.25882]\n"
     ]
    },
    {
     "name": "stdout",
     "output_type": "stream",
     "text": [
      "loss: 0.17715 | bce: 0.04211 | dice: 0.86858 | 0 cls: 0.11782 | 1 cls: 0.17125 | 2 cls: 0.29983\n"
     ]
    },
    {
     "name": "stderr",
     "output_type": "stream",
     "text": [
      "Epoch 258, lr 0.00011865234375: 100% 43/43 [00:12<00:00,  3.45it/s, 0 cls=0.18708, 1 cls=0.26848, 2 cls=0.37389, bce=0.08148, dice=0.83816, loss=0.25700]\n"
     ]
    },
    {
     "name": "stdout",
     "output_type": "stream",
     "text": [
      "loss: 0.17654 | bce: 0.04211 | dice: 0.86928 | 0 cls: 0.11787 | 1 cls: 0.17099 | 2 cls: 0.29797\n"
     ]
    },
    {
     "name": "stderr",
     "output_type": "stream",
     "text": [
      "Epoch 259, lr 0.00011865234375: 100% 43/43 [00:12<00:00,  3.45it/s, 0 cls=0.18779, 1 cls=0.27032, 2 cls=0.37533, bce=0.08200, dice=0.83768, loss=0.25831]\n"
     ]
    },
    {
     "name": "stdout",
     "output_type": "stream",
     "text": [
      "loss: 0.17632 | bce: 0.04262 | dice: 0.86929 | 0 cls: 0.11844 | 1 cls: 0.16959 | 2 cls: 0.29936\n"
     ]
    },
    {
     "name": "stderr",
     "output_type": "stream",
     "text": [
      "Epoch 260, lr 0.00011865234375: 100% 43/43 [00:12<00:00,  3.45it/s, 0 cls=0.19409, 1 cls=0.27091, 2 cls=0.37638, bce=0.08357, dice=0.83619, loss=0.26128]\n"
     ]
    },
    {
     "name": "stdout",
     "output_type": "stream",
     "text": [
      "loss: 0.17832 | bce: 0.04249 | dice: 0.86802 | 0 cls: 0.11899 | 1 cls: 0.17246 | 2 cls: 0.30047\n"
     ]
    },
    {
     "name": "stderr",
     "output_type": "stream",
     "text": [
      "Epoch 261, lr 0.00011865234375: 100% 43/43 [00:12<00:00,  3.45it/s, 0 cls=0.17654, 1 cls=0.26022, 2 cls=0.36033, bce=0.07834, dice=0.84433, loss=0.24677]\n"
     ]
    },
    {
     "name": "stdout",
     "output_type": "stream",
     "text": [
      "loss: 0.18093 | bce: 0.04290 | dice: 0.86625 | 0 cls: 0.11966 | 1 cls: 0.17635 | 2 cls: 0.30456\n"
     ]
    },
    {
     "name": "stderr",
     "output_type": "stream",
     "text": [
      "Epoch 262, lr 0.00011865234375: 100% 43/43 [00:12<00:00,  3.44it/s, 0 cls=0.18329, 1 cls=0.26628, 2 cls=0.37055, bce=0.08092, dice=0.84032, loss=0.25394]\n"
     ]
    },
    {
     "name": "stdout",
     "output_type": "stream",
     "text": [
      "loss: 0.17857 | bce: 0.04222 | dice: 0.86769 | 0 cls: 0.11936 | 1 cls: 0.17358 | 2 cls: 0.29958\n"
     ]
    },
    {
     "name": "stderr",
     "output_type": "stream",
     "text": [
      "Epoch 263, lr 0.00011865234375: 100% 43/43 [00:12<00:00,  3.44it/s, 0 cls=0.18301, 1 cls=0.26663, 2 cls=0.37034, bce=0.08024, dice=0.84002, loss=0.25392]\n"
     ]
    },
    {
     "name": "stdout",
     "output_type": "stream",
     "text": [
      "loss: 0.17791 | bce: 0.04454 | dice: 0.87058 | 0 cls: 0.11765 | 1 cls: 0.17397 | 2 cls: 0.29763\n"
     ]
    },
    {
     "name": "stderr",
     "output_type": "stream",
     "text": [
      "Epoch 264, lr 0.00011865234375: 100% 43/43 [00:12<00:00,  3.43it/s, 0 cls=0.18232, 1 cls=0.26774, 2 cls=0.37109, bce=0.08106, dice=0.84035, loss=0.25424]\n"
     ]
    },
    {
     "name": "stdout",
     "output_type": "stream",
     "text": [
      "loss: 0.17887 | bce: 0.04344 | dice: 0.86864 | 0 cls: 0.11795 | 1 cls: 0.17480 | 2 cls: 0.30097\n"
     ]
    },
    {
     "name": "stderr",
     "output_type": "stream",
     "text": [
      "Epoch 265, lr 0.00011865234375: 100% 43/43 [00:12<00:00,  3.45it/s, 0 cls=0.17828, 1 cls=0.26065, 2 cls=0.36301, bce=0.07930, dice=0.84371, loss=0.24817]\n"
     ]
    },
    {
     "name": "stdout",
     "output_type": "stream",
     "text": [
      "loss: 0.17650 | bce: 0.04443 | dice: 0.87112 | 0 cls: 0.11748 | 1 cls: 0.17111 | 2 cls: 0.29761\n"
     ]
    },
    {
     "name": "stderr",
     "output_type": "stream",
     "text": [
      "Epoch 266, lr 0.00011865234375: 100% 43/43 [00:12<00:00,  3.43it/s, 0 cls=0.18369, 1 cls=0.26278, 2 cls=0.37121, bce=0.08080, dice=0.84036, loss=0.25283]\n"
     ]
    },
    {
     "name": "stdout",
     "output_type": "stream",
     "text": [
      "loss: 0.17958 | bce: 0.04238 | dice: 0.86648 | 0 cls: 0.11942 | 1 cls: 0.17425 | 2 cls: 0.30277\n"
     ]
    },
    {
     "name": "stderr",
     "output_type": "stream",
     "text": [
      "Epoch 267, lr 0.00011865234375: 100% 43/43 [00:12<00:00,  3.46it/s, 0 cls=0.19571, 1 cls=0.27544, 2 cls=0.37983, bce=0.08430, dice=0.83463, loss=0.26442]\n"
     ]
    },
    {
     "name": "stdout",
     "output_type": "stream",
     "text": [
      "loss: 0.18040 | bce: 0.04538 | dice: 0.86928 | 0 cls: 0.11630 | 1 cls: 0.17942 | 2 cls: 0.30323\n"
     ]
    },
    {
     "name": "stderr",
     "output_type": "stream",
     "text": [
      "Epoch 268, lr 0.00011865234375: 100% 43/43 [00:12<00:00,  3.45it/s, 0 cls=0.18534, 1 cls=0.26815, 2 cls=0.37381, bce=0.08085, dice=0.83851, loss=0.25616]\n"
     ]
    },
    {
     "name": "stdout",
     "output_type": "stream",
     "text": [
      "loss: 0.17522 | bce: 0.04255 | dice: 0.87084 | 0 cls: 0.11601 | 1 cls: 0.17014 | 2 cls: 0.29612\n"
     ]
    },
    {
     "name": "stderr",
     "output_type": "stream",
     "text": [
      "Epoch 269, lr 0.00011865234375: 100% 43/43 [00:12<00:00,  3.43it/s, 0 cls=0.18079, 1 cls=0.26384, 2 cls=0.36685, bce=0.08073, dice=0.84250, loss=0.25122]\n"
     ]
    },
    {
     "name": "stdout",
     "output_type": "stream",
     "text": [
      "loss: 0.17867 | bce: 0.04390 | dice: 0.86865 | 0 cls: 0.11854 | 1 cls: 0.17383 | 2 cls: 0.30129\n"
     ]
    },
    {
     "name": "stderr",
     "output_type": "stream",
     "text": [
      "Epoch 270, lr 0.00011865234375: 100% 43/43 [00:12<00:00,  3.44it/s, 0 cls=0.18292, 1 cls=0.26244, 2 cls=0.36718, bce=0.07943, dice=0.84069, loss=0.25158]\n"
     ]
    },
    {
     "name": "stdout",
     "output_type": "stream",
     "text": [
      "loss: 0.17670 | bce: 0.04335 | dice: 0.87084 | 0 cls: 0.11559 | 1 cls: 0.17376 | 2 cls: 0.29598\n"
     ]
    },
    {
     "name": "stderr",
     "output_type": "stream",
     "text": [
      "Epoch 271, lr 0.00011865234375: 100% 43/43 [00:12<00:00,  3.49it/s, 0 cls=0.18060, 1 cls=0.26596, 2 cls=0.36947, bce=0.08054, dice=0.84134, loss=0.25252]\n"
     ]
    },
    {
     "name": "stdout",
     "output_type": "stream",
     "text": [
      "loss: 0.17787 | bce: 0.04320 | dice: 0.86879 | 0 cls: 0.11867 | 1 cls: 0.17151 | 2 cls: 0.30019\n"
     ]
    },
    {
     "name": "stderr",
     "output_type": "stream",
     "text": [
      "Epoch 272, lr 0.00011865234375: 100% 43/43 [00:12<00:00,  3.52it/s, 0 cls=0.18084, 1 cls=0.26204, 2 cls=0.36290, bce=0.07892, dice=0.84225, loss=0.24973]\n"
     ]
    },
    {
     "name": "stdout",
     "output_type": "stream",
     "text": [
      "loss: 0.18006 | bce: 0.04378 | dice: 0.86735 | 0 cls: 0.12080 | 1 cls: 0.17396 | 2 cls: 0.30484\n"
     ]
    },
    {
     "name": "stderr",
     "output_type": "stream",
     "text": [
      "Epoch 273, lr 0.00011865234375: 100% 43/43 [00:12<00:00,  3.37it/s, 0 cls=0.18514, 1 cls=0.26490, 2 cls=0.37045, bce=0.08272, dice=0.84155, loss=0.25410]\n"
     ]
    },
    {
     "name": "stdout",
     "output_type": "stream",
     "text": [
      "loss: 0.17579 | bce: 0.04121 | dice: 0.86908 | 0 cls: 0.11797 | 1 cls: 0.16927 | 2 cls: 0.29702\n"
     ]
    },
    {
     "name": "stderr",
     "output_type": "stream",
     "text": [
      "Epoch 274, lr 0.00011865234375: 100% 43/43 [00:12<00:00,  3.45it/s, 0 cls=0.18697, 1 cls=0.26591, 2 cls=0.37270, bce=0.08220, dice=0.83950, loss=0.25569]\n"
     ]
    },
    {
     "name": "stdout",
     "output_type": "stream",
     "text": [
      "loss: 0.17500 | bce: 0.04305 | dice: 0.87135 | 0 cls: 0.11613 | 1 cls: 0.17019 | 2 cls: 0.29625\n"
     ]
    },
    {
     "name": "stderr",
     "output_type": "stream",
     "text": [
      "Epoch 275, lr 0.00011865234375: 100% 43/43 [00:12<00:00,  3.47it/s, 0 cls=0.18259, 1 cls=0.26405, 2 cls=0.37039, bce=0.08045, dice=0.84070, loss=0.25273]\n"
     ]
    },
    {
     "name": "stdout",
     "output_type": "stream",
     "text": [
      "loss: 0.17589 | bce: 0.04246 | dice: 0.87010 | 0 cls: 0.11672 | 1 cls: 0.17098 | 2 cls: 0.29737\n"
     ]
    },
    {
     "name": "stderr",
     "output_type": "stream",
     "text": [
      "Epoch 276, lr 0.00011865234375: 100% 43/43 [00:12<00:00,  3.46it/s, 0 cls=0.18446, 1 cls=0.26321, 2 cls=0.36904, bce=0.08114, dice=0.84099, loss=0.25287]\n"
     ]
    },
    {
     "name": "stdout",
     "output_type": "stream",
     "text": [
      "loss: 0.17699 | bce: 0.04274 | dice: 0.86934 | 0 cls: 0.11731 | 1 cls: 0.17195 | 2 cls: 0.29866\n"
     ]
    },
    {
     "name": "stderr",
     "output_type": "stream",
     "text": [
      "Epoch 277, lr 0.00011865234375: 100% 43/43 [00:12<00:00,  3.46it/s, 0 cls=0.18608, 1 cls=0.26630, 2 cls=0.37157, bce=0.08040, dice=0.83867, loss=0.25526]\n"
     ]
    },
    {
     "name": "stdout",
     "output_type": "stream",
     "text": [
      "loss: 0.18410 | bce: 0.04405 | dice: 0.86505 | 0 cls: 0.12100 | 1 cls: 0.18204 | 2 cls: 0.30739\n"
     ]
    },
    {
     "name": "stderr",
     "output_type": "stream",
     "text": [
      "Epoch 278, lr 0.00011865234375: 100% 43/43 [00:12<00:00,  3.46it/s, 0 cls=0.17955, 1 cls=0.26320, 2 cls=0.36510, bce=0.07967, dice=0.84259, loss=0.25012]\n"
     ]
    },
    {
     "name": "stdout",
     "output_type": "stream",
     "text": [
      "loss: 0.18278 | bce: 0.04494 | dice: 0.86716 | 0 cls: 0.11785 | 1 cls: 0.18218 | 2 cls: 0.30567\n"
     ]
    },
    {
     "name": "stderr",
     "output_type": "stream",
     "text": [
      "Epoch 279, lr 0.00011865234375: 100% 43/43 [00:12<00:00,  3.46it/s, 0 cls=0.18179, 1 cls=0.26261, 2 cls=0.36597, bce=0.07979, dice=0.84174, loss=0.25095]\n"
     ]
    },
    {
     "name": "stdout",
     "output_type": "stream",
     "text": [
      "loss: 0.17937 | bce: 0.04392 | dice: 0.86858 | 0 cls: 0.11673 | 1 cls: 0.17668 | 2 cls: 0.30181\n"
     ]
    },
    {
     "name": "stderr",
     "output_type": "stream",
     "text": [
      "Epoch 280, lr 0.00011865234375: 100% 43/43 [00:12<00:00,  3.47it/s, 0 cls=0.18029, 1 cls=0.26317, 2 cls=0.36528, bce=0.08015, dice=0.84267, loss=0.25044]\n"
     ]
    },
    {
     "name": "stdout",
     "output_type": "stream",
     "text": [
      "loss: 0.17933 | bce: 0.04481 | dice: 0.86912 | 0 cls: 0.11849 | 1 cls: 0.17560 | 2 cls: 0.30258\n"
     ]
    },
    {
     "name": "stderr",
     "output_type": "stream",
     "text": [
      "Epoch 281, lr 0.00011865234375: 100% 43/43 [00:12<00:00,  3.48it/s, 0 cls=0.18293, 1 cls=0.26469, 2 cls=0.36773, bce=0.07985, dice=0.84045, loss=0.25260]\n"
     ]
    },
    {
     "name": "stdout",
     "output_type": "stream",
     "text": [
      "loss: 0.17775 | bce: 0.04338 | dice: 0.86882 | 0 cls: 0.11836 | 1 cls: 0.17215 | 2 cls: 0.30076\n"
     ]
    },
    {
     "name": "stderr",
     "output_type": "stream",
     "text": [
      "Epoch 282, lr 0.00011865234375: 100% 43/43 [00:12<00:00,  3.48it/s, 0 cls=0.18109, 1 cls=0.26324, 2 cls=0.36758, bce=0.08033, dice=0.84181, loss=0.25125]\n"
     ]
    },
    {
     "name": "stdout",
     "output_type": "stream",
     "text": [
      "loss: 0.18073 | bce: 0.04421 | dice: 0.86717 | 0 cls: 0.11848 | 1 cls: 0.17782 | 2 cls: 0.30576\n"
     ]
    },
    {
     "name": "stderr",
     "output_type": "stream",
     "text": [
      "Epoch 283, lr 0.00011865234375: 100% 43/43 [00:12<00:00,  3.46it/s, 0 cls=0.19083, 1 cls=0.27281, 2 cls=0.37623, bce=0.08271, dice=0.83652, loss=0.26070]\n"
     ]
    },
    {
     "name": "stdout",
     "output_type": "stream",
     "text": [
      "loss: 0.17984 | bce: 0.04254 | dice: 0.86681 | 0 cls: 0.11856 | 1 cls: 0.17613 | 2 cls: 0.30315\n"
     ]
    },
    {
     "name": "stderr",
     "output_type": "stream",
     "text": [
      "Epoch 284, lr 0.00011865234375: 100% 43/43 [00:12<00:00,  3.46it/s, 0 cls=0.18827, 1 cls=0.26920, 2 cls=0.37570, bce=0.08254, dice=0.83827, loss=0.25813]\n"
     ]
    },
    {
     "name": "stdout",
     "output_type": "stream",
     "text": [
      "loss: 0.18137 | bce: 0.04115 | dice: 0.86404 | 0 cls: 0.11975 | 1 cls: 0.17784 | 2 cls: 0.30595\n"
     ]
    },
    {
     "name": "stderr",
     "output_type": "stream",
     "text": [
      "Epoch 285, lr 0.00011865234375: 100% 43/43 [00:12<00:00,  3.45it/s, 0 cls=0.18225, 1 cls=0.26222, 2 cls=0.36824, bce=0.07965, dice=0.84095, loss=0.25144]\n"
     ]
    },
    {
     "name": "stdout",
     "output_type": "stream",
     "text": [
      "loss: 0.18649 | bce: 0.04501 | dice: 0.86291 | 0 cls: 0.12253 | 1 cls: 0.18357 | 2 cls: 0.31489\n"
     ]
    },
    {
     "name": "stderr",
     "output_type": "stream",
     "text": [
      "Epoch 286, lr 0.00011865234375: 100% 43/43 [00:12<00:00,  3.45it/s, 0 cls=0.18905, 1 cls=0.26951, 2 cls=0.37599, bce=0.08195, dice=0.83714, loss=0.25862]\n"
     ]
    },
    {
     "name": "stdout",
     "output_type": "stream",
     "text": [
      "loss: 0.18720 | bce: 0.04761 | dice: 0.86461 | 0 cls: 0.12321 | 1 cls: 0.18426 | 2 cls: 0.31554\n"
     ]
    },
    {
     "name": "stderr",
     "output_type": "stream",
     "text": [
      "Epoch 287, lr 0.00011865234375: 100% 43/43 [00:12<00:00,  3.45it/s, 0 cls=0.18326, 1 cls=0.26665, 2 cls=0.36957, bce=0.08067, dice=0.84041, loss=0.25388]\n"
     ]
    },
    {
     "name": "stdout",
     "output_type": "stream",
     "text": [
      "loss: 0.17411 | bce: 0.04345 | dice: 0.87236 | 0 cls: 0.11660 | 1 cls: 0.16839 | 2 cls: 0.29402\n"
     ]
    },
    {
     "name": "stderr",
     "output_type": "stream",
     "text": [
      "Epoch 288, lr 0.00011865234375: 100% 43/43 [00:12<00:00,  3.46it/s, 0 cls=0.18458, 1 cls=0.26849, 2 cls=0.37073, bce=0.08020, dice=0.83901, loss=0.25538]\n"
     ]
    },
    {
     "name": "stdout",
     "output_type": "stream",
     "text": [
      "loss: 0.17645 | bce: 0.04289 | dice: 0.86972 | 0 cls: 0.11647 | 1 cls: 0.17206 | 2 cls: 0.29815\n"
     ]
    },
    {
     "name": "stderr",
     "output_type": "stream",
     "text": [
      "Epoch 289, lr 0.00011865234375: 100% 43/43 [00:12<00:00,  3.46it/s, 0 cls=0.18695, 1 cls=0.26745, 2 cls=0.37125, bce=0.08141, dice=0.83904, loss=0.25601]\n"
     ]
    },
    {
     "name": "stdout",
     "output_type": "stream",
     "text": [
      "loss: 0.17625 | bce: 0.04156 | dice: 0.86897 | 0 cls: 0.11764 | 1 cls: 0.17043 | 2 cls: 0.29807\n"
     ]
    },
    {
     "name": "stderr",
     "output_type": "stream",
     "text": [
      "Epoch 290, lr 0.00059049: 100% 43/43 [00:12<00:00,  3.46it/s, 0 cls=0.20949, 1 cls=0.29107, 2 cls=0.40275, bce=0.08979, dice=0.82539, loss=0.28078]\n"
     ]
    },
    {
     "name": "stdout",
     "output_type": "stream",
     "text": [
      "loss: 0.19566 | bce: 0.04605 | dice: 0.85610 | 0 cls: 0.12972 | 1 cls: 0.19160 | 2 cls: 0.32824\n"
     ]
    },
    {
     "name": "stderr",
     "output_type": "stream",
     "text": [
      "Epoch 291, lr 0.00059049: 100% 43/43 [00:12<00:00,  3.43it/s, 0 cls=0.20163, 1 cls=0.28326, 2 cls=0.39324, bce=0.08730, dice=0.83007, loss=0.27260]\n"
     ]
    },
    {
     "name": "stdout",
     "output_type": "stream",
     "text": [
      "loss: 0.19074 | bce: 0.04467 | dice: 0.86083 | 0 cls: 0.12196 | 1 cls: 0.19326 | 2 cls: 0.31337\n"
     ]
    },
    {
     "name": "stderr",
     "output_type": "stream",
     "text": [
      "Epoch 292, lr 0.000177147: 100% 43/43 [00:12<00:00,  3.47it/s, 0 cls=0.19220, 1 cls=0.27327, 2 cls=0.37774, bce=0.08360, dice=0.83627, loss=0.26174]\n"
     ]
    },
    {
     "name": "stdout",
     "output_type": "stream",
     "text": [
      "loss: 0.18163 | bce: 0.04245 | dice: 0.86564 | 0 cls: 0.11875 | 1 cls: 0.17914 | 2 cls: 0.30451\n"
     ]
    },
    {
     "name": "stderr",
     "output_type": "stream",
     "text": [
      "Epoch 293, lr 0.000177147: 100% 43/43 [00:12<00:00,  3.46it/s, 0 cls=0.19269, 1 cls=0.26873, 2 cls=0.37831, bce=0.08508, dice=0.83804, loss=0.26023]\n"
     ]
    },
    {
     "name": "stdout",
     "output_type": "stream",
     "text": [
      "loss: 0.17507 | bce: 0.04374 | dice: 0.87186 | 0 cls: 0.11688 | 1 cls: 0.16931 | 2 cls: 0.29511\n"
     ]
    },
    {
     "name": "stderr",
     "output_type": "stream",
     "text": [
      "Epoch 294, lr 5.3144100000000005e-05: 100% 43/43 [00:12<00:00,  3.44it/s, 0 cls=0.18555, 1 cls=0.26932, 2 cls=0.37344, bce=0.08185, dice=0.83901, loss=0.25663]\n"
     ]
    },
    {
     "name": "stdout",
     "output_type": "stream",
     "text": [
      "loss: 0.17921 | bce: 0.04327 | dice: 0.86834 | 0 cls: 0.11720 | 1 cls: 0.17671 | 2 cls: 0.30142\n"
     ]
    },
    {
     "name": "stderr",
     "output_type": "stream",
     "text": [
      "Epoch 295, lr 0.00059049: 100% 43/43 [00:12<00:00,  3.44it/s, 0 cls=0.20367, 1 cls=0.28701, 2 cls=0.39546, bce=0.08829, dice=0.82910, loss=0.27536]\n"
     ]
    },
    {
     "name": "stdout",
     "output_type": "stream",
     "text": [
      "loss: 0.19631 | bce: 0.04629 | dice: 0.85578 | 0 cls: 0.13063 | 1 cls: 0.19208 | 2 cls: 0.32851\n"
     ]
    },
    {
     "name": "stderr",
     "output_type": "stream",
     "text": [
      "Epoch 296, lr 0.00059049: 100% 43/43 [00:12<00:00,  3.40it/s, 0 cls=0.20796, 1 cls=0.28887, 2 cls=0.40063, bce=0.09031, dice=0.82728, loss=0.27886]\n"
     ]
    },
    {
     "name": "stdout",
     "output_type": "stream",
     "text": [
      "loss: 0.18141 | bce: 0.04387 | dice: 0.86624 | 0 cls: 0.12070 | 1 cls: 0.17611 | 2 cls: 0.30573\n"
     ]
    },
    {
     "name": "stderr",
     "output_type": "stream",
     "text": [
      "Epoch 297, lr 0.000177147: 100% 43/43 [00:12<00:00,  3.46it/s, 0 cls=0.19183, 1 cls=0.27495, 2 cls=0.38275, bce=0.08381, dice=0.83495, loss=0.26326]\n"
     ]
    },
    {
     "name": "stdout",
     "output_type": "stream",
     "text": [
      "loss: 0.17894 | bce: 0.04243 | dice: 0.86772 | 0 cls: 0.11788 | 1 cls: 0.17584 | 2 cls: 0.30085\n"
     ]
    },
    {
     "name": "stderr",
     "output_type": "stream",
     "text": [
      "Epoch 298, lr 0.000177147: 100% 43/43 [00:12<00:00,  3.44it/s, 0 cls=0.18345, 1 cls=0.26631, 2 cls=0.37202, bce=0.08081, dice=0.83969, loss=0.25431]\n"
     ]
    },
    {
     "name": "stdout",
     "output_type": "stream",
     "text": [
      "loss: 0.17993 | bce: 0.04328 | dice: 0.86747 | 0 cls: 0.11836 | 1 cls: 0.17722 | 2 cls: 0.30334\n"
     ]
    },
    {
     "name": "stderr",
     "output_type": "stream",
     "text": [
      "Epoch 299, lr 5.3144100000000005e-05: 100% 43/43 [00:12<00:00,  3.46it/s, 0 cls=0.18833, 1 cls=0.26797, 2 cls=0.37375, bce=0.08167, dice=0.83799, loss=0.25727]\n"
     ]
    },
    {
     "name": "stdout",
     "output_type": "stream",
     "text": [
      "loss: 0.18178 | bce: 0.04461 | dice: 0.86694 | 0 cls: 0.11906 | 1 cls: 0.17934 | 2 cls: 0.30601\n"
     ]
    },
    {
     "name": "stderr",
     "output_type": "stream",
     "text": [
      "Epoch 300, lr 8.89892578125e-05: 100% 43/43 [00:12<00:00,  3.46it/s, 0 cls=0.18245, 1 cls=0.26317, 2 cls=0.36926, bce=0.08064, dice=0.84131, loss=0.25210]\n"
     ]
    },
    {
     "name": "stdout",
     "output_type": "stream",
     "text": [
      "loss: 0.18529 | bce: 0.04543 | dice: 0.86452 | 0 cls: 0.12050 | 1 cls: 0.18389 | 2 cls: 0.31216\n"
     ]
    },
    {
     "name": "stderr",
     "output_type": "stream",
     "text": [
      "Epoch 301, lr 8.89892578125e-05: 100% 43/43 [00:12<00:00,  3.45it/s, 0 cls=0.18431, 1 cls=0.26797, 2 cls=0.37097, bce=0.08077, dice=0.83935, loss=0.25511]\n"
     ]
    },
    {
     "name": "stdout",
     "output_type": "stream",
     "text": [
      "loss: 0.17824 | bce: 0.04219 | dice: 0.86794 | 0 cls: 0.11804 | 1 cls: 0.17440 | 2 cls: 0.30033\n"
     ]
    },
    {
     "name": "stderr",
     "output_type": "stream",
     "text": [
      "Epoch 302, lr 8.89892578125e-05: 100% 43/43 [00:12<00:00,  3.45it/s, 0 cls=0.18392, 1 cls=0.26648, 2 cls=0.37056, bce=0.08046, dice=0.83969, loss=0.25427]\n"
     ]
    },
    {
     "name": "stdout",
     "output_type": "stream",
     "text": [
      "loss: 0.17747 | bce: 0.04305 | dice: 0.86930 | 0 cls: 0.11704 | 1 cls: 0.17391 | 2 cls: 0.29882\n"
     ]
    },
    {
     "name": "stderr",
     "output_type": "stream",
     "text": [
      "Epoch 303, lr 8.89892578125e-05: 100% 43/43 [00:12<00:00,  3.46it/s, 0 cls=0.18254, 1 cls=0.26240, 2 cls=0.36619, bce=0.07980, dice=0.84154, loss=0.25122]\n"
     ]
    },
    {
     "name": "stdout",
     "output_type": "stream",
     "text": [
      "loss: 0.17587 | bce: 0.04163 | dice: 0.86890 | 0 cls: 0.11820 | 1 cls: 0.16983 | 2 cls: 0.29762\n"
     ]
    },
    {
     "name": "stderr",
     "output_type": "stream",
     "text": [
      "Epoch 304, lr 8.89892578125e-05: 100% 43/43 [00:12<00:00,  3.45it/s, 0 cls=0.18464, 1 cls=0.26591, 2 cls=0.37134, bce=0.08087, dice=0.83981, loss=0.25449]\n"
     ]
    },
    {
     "name": "stdout",
     "output_type": "stream",
     "text": [
      "loss: 0.18122 | bce: 0.04477 | dice: 0.86769 | 0 cls: 0.11839 | 1 cls: 0.17950 | 2 cls: 0.30455\n"
     ]
    },
    {
     "name": "stderr",
     "output_type": "stream",
     "text": [
      "Epoch 305, lr 8.89892578125e-05: 100% 43/43 [00:12<00:00,  3.45it/s, 0 cls=0.17622, 1 cls=0.25970, 2 cls=0.36126, bce=0.07864, dice=0.84457, loss=0.24662]\n"
     ]
    },
    {
     "name": "stdout",
     "output_type": "stream",
     "text": [
      "loss: 0.17946 | bce: 0.04227 | dice: 0.86671 | 0 cls: 0.11897 | 1 cls: 0.17506 | 2 cls: 0.30291\n"
     ]
    },
    {
     "name": "stderr",
     "output_type": "stream",
     "text": [
      "Epoch 306, lr 8.89892578125e-05: 100% 43/43 [00:12<00:00,  3.45it/s, 0 cls=0.18478, 1 cls=0.26422, 2 cls=0.36775, bce=0.08101, dice=0.84097, loss=0.25315]\n"
     ]
    },
    {
     "name": "stdout",
     "output_type": "stream",
     "text": [
      "loss: 0.17741 | bce: 0.04306 | dice: 0.86921 | 0 cls: 0.11686 | 1 cls: 0.17371 | 2 cls: 0.29963\n"
     ]
    },
    {
     "name": "stderr",
     "output_type": "stream",
     "text": [
      "Epoch 307, lr 8.89892578125e-05: 100% 43/43 [00:12<00:00,  3.46it/s, 0 cls=0.17934, 1 cls=0.26100, 2 cls=0.36504, bce=0.07969, dice=0.84307, loss=0.24914]\n"
     ]
    },
    {
     "name": "stdout",
     "output_type": "stream",
     "text": [
      "loss: 0.18735 | bce: 0.04562 | dice: 0.86265 | 0 cls: 0.12428 | 1 cls: 0.18335 | 2 cls: 0.31628\n"
     ]
    },
    {
     "name": "stderr",
     "output_type": "stream",
     "text": [
      "Epoch 308, lr 8.89892578125e-05: 100% 43/43 [00:12<00:00,  3.32it/s, 0 cls=0.18624, 1 cls=0.26732, 2 cls=0.37341, bce=0.08124, dice=0.83858, loss=0.25610]\n"
     ]
    },
    {
     "name": "stdout",
     "output_type": "stream",
     "text": [
      "loss: 0.17702 | bce: 0.04320 | dice: 0.86973 | 0 cls: 0.11649 | 1 cls: 0.17332 | 2 cls: 0.29875\n"
     ]
    },
    {
     "name": "stderr",
     "output_type": "stream",
     "text": [
      "Epoch 309, lr 8.89892578125e-05: 100% 43/43 [00:12<00:00,  3.45it/s, 0 cls=0.18270, 1 cls=0.26236, 2 cls=0.36882, bce=0.08019, dice=0.84082, loss=0.25179]\n"
     ]
    },
    {
     "name": "stdout",
     "output_type": "stream",
     "text": [
      "loss: 0.17700 | bce: 0.04213 | dice: 0.86868 | 0 cls: 0.11780 | 1 cls: 0.17216 | 2 cls: 0.29917\n"
     ]
    },
    {
     "name": "stderr",
     "output_type": "stream",
     "text": [
      "Epoch 310, lr 8.89892578125e-05: 100% 43/43 [00:12<00:00,  3.45it/s, 0 cls=0.18424, 1 cls=0.26436, 2 cls=0.36823, bce=0.07990, dice=0.84011, loss=0.25309]\n"
     ]
    },
    {
     "name": "stdout",
     "output_type": "stream",
     "text": [
      "loss: 0.17427 | bce: 0.04052 | dice: 0.86983 | 0 cls: 0.11669 | 1 cls: 0.16848 | 2 cls: 0.29389\n"
     ]
    },
    {
     "name": "stderr",
     "output_type": "stream",
     "text": [
      "Epoch 311, lr 8.89892578125e-05: 100% 43/43 [00:12<00:00,  3.45it/s, 0 cls=0.18905, 1 cls=0.26712, 2 cls=0.37420, bce=0.08304, dice=0.83870, loss=0.25731]\n"
     ]
    },
    {
     "name": "stdout",
     "output_type": "stream",
     "text": [
      "loss: 0.17637 | bce: 0.04045 | dice: 0.86782 | 0 cls: 0.11782 | 1 cls: 0.17123 | 2 cls: 0.29769\n"
     ]
    },
    {
     "name": "stderr",
     "output_type": "stream",
     "text": [
      "Epoch 312, lr 8.89892578125e-05: 100% 43/43 [00:12<00:00,  3.45it/s, 0 cls=0.18460, 1 cls=0.26549, 2 cls=0.37039, bce=0.08137, dice=0.84051, loss=0.25411]\n"
     ]
    },
    {
     "name": "stdout",
     "output_type": "stream",
     "text": [
      "loss: 0.17547 | bce: 0.04320 | dice: 0.87118 | 0 cls: 0.11587 | 1 cls: 0.17172 | 2 cls: 0.29599\n"
     ]
    },
    {
     "name": "stderr",
     "output_type": "stream",
     "text": [
      "Epoch 313, lr 8.89892578125e-05: 100% 43/43 [00:12<00:00,  3.44it/s, 0 cls=0.18113, 1 cls=0.26084, 2 cls=0.36500, bce=0.07995, dice=0.84281, loss=0.24979]\n"
     ]
    },
    {
     "name": "stdout",
     "output_type": "stream",
     "text": [
      "loss: 0.18308 | bce: 0.04380 | dice: 0.86498 | 0 cls: 0.12060 | 1 cls: 0.17970 | 2 cls: 0.30881\n"
     ]
    },
    {
     "name": "stderr",
     "output_type": "stream",
     "text": [
      "Epoch 314, lr 8.89892578125e-05: 100% 43/43 [00:12<00:00,  3.46it/s, 0 cls=0.17349, 1 cls=0.25804, 2 cls=0.35589, bce=0.07674, dice=0.84578, loss=0.24379]\n"
     ]
    },
    {
     "name": "stdout",
     "output_type": "stream",
     "text": [
      "loss: 0.17753 | bce: 0.04389 | dice: 0.87007 | 0 cls: 0.11694 | 1 cls: 0.17426 | 2 cls: 0.29928\n"
     ]
    },
    {
     "name": "stderr",
     "output_type": "stream",
     "text": [
      "Epoch 315, lr 8.89892578125e-05: 100% 43/43 [00:12<00:00,  3.45it/s, 0 cls=0.18600, 1 cls=0.26801, 2 cls=0.37013, bce=0.08055, dice=0.83896, loss=0.25563]\n"
     ]
    },
    {
     "name": "stdout",
     "output_type": "stream",
     "text": [
      "loss: 0.17684 | bce: 0.04257 | dice: 0.86928 | 0 cls: 0.11716 | 1 cls: 0.17212 | 2 cls: 0.29892\n"
     ]
    },
    {
     "name": "stderr",
     "output_type": "stream",
     "text": [
      "Epoch 316, lr 8.89892578125e-05: 100% 43/43 [00:12<00:00,  3.46it/s, 0 cls=0.18570, 1 cls=0.26626, 2 cls=0.37120, bce=0.08138, dice=0.83970, loss=0.25502]\n"
     ]
    },
    {
     "name": "stdout",
     "output_type": "stream",
     "text": [
      "loss: 0.17643 | bce: 0.04313 | dice: 0.87018 | 0 cls: 0.11621 | 1 cls: 0.17301 | 2 cls: 0.29808\n"
     ]
    },
    {
     "name": "stderr",
     "output_type": "stream",
     "text": [
      "Epoch 317, lr 8.89892578125e-05: 100% 43/43 [00:12<00:00,  3.44it/s, 0 cls=0.18025, 1 cls=0.26153, 2 cls=0.36561, bce=0.07954, dice=0.84251, loss=0.24983]\n"
     ]
    },
    {
     "name": "stdout",
     "output_type": "stream",
     "text": [
      "loss: 0.17464 | bce: 0.04117 | dice: 0.87002 | 0 cls: 0.11631 | 1 cls: 0.16932 | 2 cls: 0.29482\n"
     ]
    },
    {
     "name": "stderr",
     "output_type": "stream",
     "text": [
      "Epoch 318, lr 8.89892578125e-05: 100% 43/43 [00:12<00:00,  3.45it/s, 0 cls=0.18654, 1 cls=0.26654, 2 cls=0.36902, bce=0.08052, dice=0.83915, loss=0.25503]\n"
     ]
    },
    {
     "name": "stdout",
     "output_type": "stream",
     "text": [
      "loss: 0.17730 | bce: 0.04329 | dice: 0.87002 | 0 cls: 0.11636 | 1 cls: 0.17493 | 2 cls: 0.29755\n"
     ]
    },
    {
     "name": "stderr",
     "output_type": "stream",
     "text": [
      "Epoch 319, lr 8.89892578125e-05: 100% 43/43 [00:12<00:00,  3.44it/s, 0 cls=0.18092, 1 cls=0.26170, 2 cls=0.36511, bce=0.08041, dice=0.84289, loss=0.25007]\n"
     ]
    },
    {
     "name": "stdout",
     "output_type": "stream",
     "text": [
      "loss: 0.17772 | bce: 0.04347 | dice: 0.86991 | 0 cls: 0.11586 | 1 cls: 0.17636 | 2 cls: 0.29833\n"
     ]
    },
    {
     "name": "stderr",
     "output_type": "stream",
     "text": [
      "Epoch 320, lr 8.89892578125e-05: 100% 43/43 [00:12<00:00,  3.37it/s, 0 cls=0.17960, 1 cls=0.26074, 2 cls=0.36350, bce=0.07892, dice=0.84287, loss=0.24883]\n"
     ]
    },
    {
     "name": "stdout",
     "output_type": "stream",
     "text": [
      "loss: 0.17616 | bce: 0.04342 | dice: 0.87055 | 0 cls: 0.11616 | 1 cls: 0.17211 | 2 cls: 0.29766\n"
     ]
    },
    {
     "name": "stderr",
     "output_type": "stream",
     "text": [
      "Epoch 321, lr 8.89892578125e-05: 100% 43/43 [00:12<00:00,  3.41it/s, 0 cls=0.17727, 1 cls=0.25837, 2 cls=0.35956, bce=0.07834, dice=0.84450, loss=0.24617]\n"
     ]
    },
    {
     "name": "stdout",
     "output_type": "stream",
     "text": [
      "loss: 0.17813 | bce: 0.04408 | dice: 0.86964 | 0 cls: 0.11708 | 1 cls: 0.17555 | 2 cls: 0.30012\n"
     ]
    },
    {
     "name": "stderr",
     "output_type": "stream",
     "text": [
      "Epoch 322, lr 8.89892578125e-05: 100% 43/43 [00:12<00:00,  3.46it/s, 0 cls=0.17628, 1 cls=0.25611, 2 cls=0.35873, bce=0.07891, dice=0.84608, loss=0.24470]\n"
     ]
    },
    {
     "name": "stdout",
     "output_type": "stream",
     "text": [
      "loss: 0.17806 | bce: 0.04150 | dice: 0.86752 | 0 cls: 0.11781 | 1 cls: 0.17395 | 2 cls: 0.30018\n"
     ]
    },
    {
     "name": "stderr",
     "output_type": "stream",
     "text": [
      "Epoch 323, lr 8.89892578125e-05: 100% 43/43 [00:12<00:00,  3.46it/s, 0 cls=0.17917, 1 cls=0.26022, 2 cls=0.36199, bce=0.07908, dice=0.84378, loss=0.24815]\n"
     ]
    },
    {
     "name": "stdout",
     "output_type": "stream",
     "text": [
      "loss: 0.17480 | bce: 0.04232 | dice: 0.87080 | 0 cls: 0.11655 | 1 cls: 0.16959 | 2 cls: 0.29532\n"
     ]
    },
    {
     "name": "stderr",
     "output_type": "stream",
     "text": [
      "Epoch 324, lr 8.89892578125e-05: 100% 43/43 [00:12<00:00,  3.45it/s, 0 cls=0.18361, 1 cls=0.26521, 2 cls=0.36738, bce=0.08125, dice=0.84155, loss=0.25300]\n"
     ]
    },
    {
     "name": "stdout",
     "output_type": "stream",
     "text": [
      "loss: 0.17931 | bce: 0.04316 | dice: 0.86790 | 0 cls: 0.11832 | 1 cls: 0.17611 | 2 cls: 0.30163\n"
     ]
    },
    {
     "name": "stderr",
     "output_type": "stream",
     "text": [
      "Epoch 325, lr 8.89892578125e-05: 100% 43/43 [00:12<00:00,  3.44it/s, 0 cls=0.18022, 1 cls=0.26315, 2 cls=0.36506, bce=0.07940, dice=0.84209, loss=0.25036]\n"
     ]
    },
    {
     "name": "stdout",
     "output_type": "stream",
     "text": [
      "loss: 0.17758 | bce: 0.04445 | dice: 0.87039 | 0 cls: 0.11682 | 1 cls: 0.17461 | 2 cls: 0.29971\n"
     ]
    },
    {
     "name": "stderr",
     "output_type": "stream",
     "text": [
      "Epoch 326, lr 8.89892578125e-05: 100% 43/43 [00:12<00:00,  3.46it/s, 0 cls=0.17929, 1 cls=0.26055, 2 cls=0.36608, bce=0.07932, dice=0.84280, loss=0.24915]\n"
     ]
    },
    {
     "name": "stdout",
     "output_type": "stream",
     "text": [
      "loss: 0.17706 | bce: 0.04230 | dice: 0.86865 | 0 cls: 0.11820 | 1 cls: 0.17216 | 2 cls: 0.29947\n"
     ]
    },
    {
     "name": "stderr",
     "output_type": "stream",
     "text": [
      "Epoch 327, lr 8.89892578125e-05: 100% 43/43 [00:12<00:00,  3.45it/s, 0 cls=0.17763, 1 cls=0.25793, 2 cls=0.36140, bce=0.07854, dice=0.84424, loss=0.24651]\n"
     ]
    },
    {
     "name": "stdout",
     "output_type": "stream",
     "text": [
      "loss: 0.17529 | bce: 0.04259 | dice: 0.87065 | 0 cls: 0.11620 | 1 cls: 0.17130 | 2 cls: 0.29555\n"
     ]
    },
    {
     "name": "stderr",
     "output_type": "stream",
     "text": [
      "Epoch 328, lr 8.89892578125e-05: 100% 43/43 [00:12<00:00,  3.45it/s, 0 cls=0.18458, 1 cls=0.26339, 2 cls=0.36811, bce=0.08063, dice=0.84080, loss=0.25281]\n"
     ]
    },
    {
     "name": "stdout",
     "output_type": "stream",
     "text": [
      "loss: 0.17501 | bce: 0.04302 | dice: 0.87109 | 0 cls: 0.11638 | 1 cls: 0.17043 | 2 cls: 0.29619\n"
     ]
    },
    {
     "name": "stderr",
     "output_type": "stream",
     "text": [
      "Epoch 329, lr 8.89892578125e-05: 100% 43/43 [00:12<00:00,  3.46it/s, 0 cls=0.17799, 1 cls=0.25959, 2 cls=0.36212, bce=0.07828, dice=0.84365, loss=0.24746]\n"
     ]
    },
    {
     "name": "stdout",
     "output_type": "stream",
     "text": [
      "loss: 0.17365 | bce: 0.04171 | dice: 0.87088 | 0 cls: 0.11678 | 1 cls: 0.16739 | 2 cls: 0.29395\n"
     ]
    },
    {
     "name": "stderr",
     "output_type": "stream",
     "text": [
      "Epoch 330, lr 8.89892578125e-05: 100% 43/43 [00:12<00:00,  3.46it/s, 0 cls=0.18203, 1 cls=0.26179, 2 cls=0.36652, bce=0.08039, dice=0.84223, loss=0.25083]\n"
     ]
    },
    {
     "name": "stdout",
     "output_type": "stream",
     "text": [
      "loss: 0.17412 | bce: 0.04191 | dice: 0.87072 | 0 cls: 0.11675 | 1 cls: 0.16804 | 2 cls: 0.29473\n"
     ]
    },
    {
     "name": "stderr",
     "output_type": "stream",
     "text": [
      "Epoch 331, lr 8.89892578125e-05: 100% 43/43 [00:12<00:00,  3.44it/s, 0 cls=0.17624, 1 cls=0.25745, 2 cls=0.35950, bce=0.07832, dice=0.84516, loss=0.24537]\n"
     ]
    },
    {
     "name": "stdout",
     "output_type": "stream",
     "text": [
      "loss: 0.17355 | bce: 0.04196 | dice: 0.87139 | 0 cls: 0.11672 | 1 cls: 0.16754 | 2 cls: 0.29369\n"
     ]
    },
    {
     "name": "stderr",
     "output_type": "stream",
     "text": [
      "Epoch 332, lr 8.89892578125e-05: 100% 43/43 [00:12<00:00,  3.44it/s, 0 cls=0.17993, 1 cls=0.25874, 2 cls=0.36324, bce=0.07954, dice=0.84356, loss=0.24812]\n"
     ]
    },
    {
     "name": "stdout",
     "output_type": "stream",
     "text": [
      "loss: 0.17378 | bce: 0.04276 | dice: 0.87216 | 0 cls: 0.11558 | 1 cls: 0.16938 | 2 cls: 0.29333\n"
     ]
    },
    {
     "name": "stderr",
     "output_type": "stream",
     "text": [
      "Epoch 333, lr 8.89892578125e-05: 100% 43/43 [00:12<00:00,  3.45it/s, 0 cls=0.19046, 1 cls=0.26878, 2 cls=0.37313, bce=0.08329, dice=0.83843, loss=0.25832]\n"
     ]
    },
    {
     "name": "stdout",
     "output_type": "stream",
     "text": [
      "loss: 0.17587 | bce: 0.04071 | dice: 0.86783 | 0 cls: 0.11928 | 1 cls: 0.16810 | 2 cls: 0.29836\n"
     ]
    },
    {
     "name": "stderr",
     "output_type": "stream",
     "text": [
      "Epoch 334, lr 8.89892578125e-05: 100% 43/43 [00:12<00:00,  3.45it/s, 0 cls=0.17721, 1 cls=0.26114, 2 cls=0.36277, bce=0.07922, dice=0.84396, loss=0.24790]\n"
     ]
    },
    {
     "name": "stdout",
     "output_type": "stream",
     "text": [
      "loss: 0.17649 | bce: 0.04293 | dice: 0.86990 | 0 cls: 0.11688 | 1 cls: 0.17187 | 2 cls: 0.29861\n"
     ]
    },
    {
     "name": "stderr",
     "output_type": "stream",
     "text": [
      "Epoch 335, lr 8.89892578125e-05: 100% 43/43 [00:12<00:00,  3.45it/s, 0 cls=0.18170, 1 cls=0.26067, 2 cls=0.36449, bce=0.08086, dice=0.84344, loss=0.24985]\n"
     ]
    },
    {
     "name": "stdout",
     "output_type": "stream",
     "text": [
      "loss: 0.18059 | bce: 0.04454 | dice: 0.86798 | 0 cls: 0.11788 | 1 cls: 0.17911 | 2 cls: 0.30370\n"
     ]
    },
    {
     "name": "stderr",
     "output_type": "stream",
     "text": [
      "Epoch 336, lr 8.89892578125e-05: 100% 43/43 [00:12<00:00,  3.44it/s, 0 cls=0.18064, 1 cls=0.25940, 2 cls=0.36427, bce=0.07958, dice=0.84301, loss=0.24887]\n"
     ]
    },
    {
     "name": "stdout",
     "output_type": "stream",
     "text": [
      "loss: 0.17706 | bce: 0.04432 | dice: 0.87058 | 0 cls: 0.11690 | 1 cls: 0.17313 | 2 cls: 0.29883\n"
     ]
    },
    {
     "name": "stderr",
     "output_type": "stream",
     "text": [
      "Epoch 337, lr 8.89892578125e-05: 100% 43/43 [00:12<00:00,  3.44it/s, 0 cls=0.17980, 1 cls=0.26284, 2 cls=0.36490, bce=0.08000, dice=0.84302, loss=0.25004]\n"
     ]
    },
    {
     "name": "stdout",
     "output_type": "stream",
     "text": [
      "loss: 0.17678 | bce: 0.04297 | dice: 0.86973 | 0 cls: 0.11683 | 1 cls: 0.17273 | 2 cls: 0.29816\n"
     ]
    },
    {
     "name": "stderr",
     "output_type": "stream",
     "text": [
      "Epoch 338, lr 8.89892578125e-05: 100% 43/43 [00:12<00:00,  3.45it/s, 0 cls=0.18724, 1 cls=0.26673, 2 cls=0.37069, bce=0.08105, dice=0.83882, loss=0.25573]\n"
     ]
    },
    {
     "name": "stdout",
     "output_type": "stream",
     "text": [
      "loss: 0.17308 | bce: 0.04256 | dice: 0.87270 | 0 cls: 0.11428 | 1 cls: 0.16919 | 2 cls: 0.29210\n"
     ]
    },
    {
     "name": "stderr",
     "output_type": "stream",
     "text": [
      "Epoch 339, lr 8.89892578125e-05: 100% 43/43 [00:12<00:00,  3.44it/s, 0 cls=0.17843, 1 cls=0.26065, 2 cls=0.36162, bce=0.07950, dice=0.84419, loss=0.24796]\n"
     ]
    },
    {
     "name": "stdout",
     "output_type": "stream",
     "text": [
      "loss: 0.17844 | bce: 0.04385 | dice: 0.86899 | 0 cls: 0.11869 | 1 cls: 0.17369 | 2 cls: 0.30110\n"
     ]
    },
    {
     "name": "stderr",
     "output_type": "stream",
     "text": [
      "Epoch 340, lr 0.000531441: 100% 43/43 [00:12<00:00,  3.45it/s, 0 cls=0.18643, 1 cls=0.27003, 2 cls=0.37584, bce=0.08211, dice=0.83798, loss=0.25775]\n"
     ]
    },
    {
     "name": "stdout",
     "output_type": "stream",
     "text": [
      "loss: 0.19040 | bce: 0.05051 | dice: 0.86412 | 0 cls: 0.12266 | 1 cls: 0.19239 | 2 cls: 0.32020\n"
     ]
    },
    {
     "name": "stderr",
     "output_type": "stream",
     "text": [
      "Epoch 341, lr 0.000531441: 100% 43/43 [00:12<00:00,  3.45it/s, 0 cls=0.20548, 1 cls=0.29020, 2 cls=0.39901, bce=0.08936, dice=0.82779, loss=0.27807]\n"
     ]
    },
    {
     "name": "stdout",
     "output_type": "stream",
     "text": [
      "loss: 0.19021 | bce: 0.04670 | dice: 0.85834 | 0 cls: 0.13342 | 1 cls: 0.17573 | 2 cls: 0.32390\n"
     ]
    },
    {
     "name": "stderr",
     "output_type": "stream",
     "text": [
      "Epoch 342, lr 0.0001594323: 100% 43/43 [00:12<00:00,  3.44it/s, 0 cls=0.19028, 1 cls=0.27357, 2 cls=0.37926, bce=0.08281, dice=0.83565, loss=0.26139]\n"
     ]
    },
    {
     "name": "stdout",
     "output_type": "stream",
     "text": [
      "loss: 0.18492 | bce: 0.04370 | dice: 0.86400 | 0 cls: 0.12006 | 1 cls: 0.18479 | 2 cls: 0.30953\n"
     ]
    },
    {
     "name": "stderr",
     "output_type": "stream",
     "text": [
      "Epoch 343, lr 0.0001594323: 100% 43/43 [00:12<00:00,  3.43it/s, 0 cls=0.19052, 1 cls=0.27163, 2 cls=0.37734, bce=0.08216, dice=0.83624, loss=0.26032]\n"
     ]
    },
    {
     "name": "stdout",
     "output_type": "stream",
     "text": [
      "loss: 0.17944 | bce: 0.04210 | dice: 0.86668 | 0 cls: 0.11962 | 1 cls: 0.17469 | 2 cls: 0.30267\n"
     ]
    },
    {
     "name": "stderr",
     "output_type": "stream",
     "text": [
      "Epoch 344, lr 4.782969e-05: 100% 43/43 [00:12<00:00,  3.45it/s, 0 cls=0.18680, 1 cls=0.26827, 2 cls=0.36910, bce=0.08117, dice=0.83947, loss=0.25585]\n"
     ]
    },
    {
     "name": "stdout",
     "output_type": "stream",
     "text": [
      "loss: 0.17472 | bce: 0.04187 | dice: 0.87067 | 0 cls: 0.11624 | 1 cls: 0.17001 | 2 cls: 0.29514\n"
     ]
    },
    {
     "name": "stderr",
     "output_type": "stream",
     "text": [
      "Epoch 345, lr 0.000531441: 100% 43/43 [00:12<00:00,  3.44it/s, 0 cls=0.19451, 1 cls=0.27951, 2 cls=0.38660, bce=0.08588, dice=0.83406, loss=0.26693]\n"
     ]
    },
    {
     "name": "stdout",
     "output_type": "stream",
     "text": [
      "loss: 0.17691 | bce: 0.03905 | dice: 0.86611 | 0 cls: 0.12070 | 1 cls: 0.16689 | 2 cls: 0.29967\n"
     ]
    },
    {
     "name": "stderr",
     "output_type": "stream",
     "text": [
      "Epoch 346, lr 0.000531441: 100% 43/43 [00:12<00:00,  3.44it/s, 0 cls=0.20406, 1 cls=0.28544, 2 cls=0.39524, bce=0.08868, dice=0.82961, loss=0.27485]\n"
     ]
    },
    {
     "name": "stdout",
     "output_type": "stream",
     "text": [
      "loss: 0.18324 | bce: 0.04266 | dice: 0.86402 | 0 cls: 0.12091 | 1 cls: 0.18023 | 2 cls: 0.30608\n"
     ]
    },
    {
     "name": "stderr",
     "output_type": "stream",
     "text": [
      "Epoch 347, lr 0.0001594323: 100% 43/43 [00:12<00:00,  3.45it/s, 0 cls=0.19201, 1 cls=0.27174, 2 cls=0.37720, bce=0.08376, dice=0.83670, loss=0.26094]\n"
     ]
    },
    {
     "name": "stdout",
     "output_type": "stream",
     "text": [
      "loss: 0.17848 | bce: 0.04140 | dice: 0.86693 | 0 cls: 0.11841 | 1 cls: 0.17454 | 2 cls: 0.30081\n"
     ]
    },
    {
     "name": "stderr",
     "output_type": "stream",
     "text": [
      "Epoch 348, lr 0.0001594323: 100% 43/43 [00:12<00:00,  3.44it/s, 0 cls=0.19155, 1 cls=0.27053, 2 cls=0.37738, bce=0.08280, dice=0.83633, loss=0.26030]\n"
     ]
    },
    {
     "name": "stdout",
     "output_type": "stream",
     "text": [
      "loss: 0.17393 | bce: 0.04436 | dice: 0.87361 | 0 cls: 0.11513 | 1 cls: 0.16995 | 2 cls: 0.29301\n"
     ]
    },
    {
     "name": "stderr",
     "output_type": "stream",
     "text": [
      "Epoch 349, lr 4.782969e-05: 100% 43/43 [00:12<00:00,  3.43it/s, 0 cls=0.18740, 1 cls=0.26460, 2 cls=0.37083, bce=0.08165, dice=0.83964, loss=0.25497]\n"
     ]
    },
    {
     "name": "stdout",
     "output_type": "stream",
     "text": [
      "loss: 0.17376 | bce: 0.04203 | dice: 0.87149 | 0 cls: 0.11525 | 1 cls: 0.16956 | 2 cls: 0.29319\n"
     ]
    },
    {
     "name": "stderr",
     "output_type": "stream",
     "text": [
      "Epoch 350, lr 6.6741943359375e-05: 100% 43/43 [00:12<00:00,  3.45it/s, 0 cls=0.18163, 1 cls=0.25976, 2 cls=0.36431, bce=0.07900, dice=0.84218, loss=0.24942]\n"
     ]
    },
    {
     "name": "stdout",
     "output_type": "stream",
     "text": [
      "loss: 0.17721 | bce: 0.04234 | dice: 0.86869 | 0 cls: 0.11773 | 1 cls: 0.17275 | 2 cls: 0.29923\n"
     ]
    },
    {
     "name": "stderr",
     "output_type": "stream",
     "text": [
      "Epoch 351, lr 6.6741943359375e-05: 100% 43/43 [00:12<00:00,  3.45it/s, 0 cls=0.17881, 1 cls=0.26266, 2 cls=0.36272, bce=0.07907, dice=0.84337, loss=0.24913]\n"
     ]
    },
    {
     "name": "stdout",
     "output_type": "stream",
     "text": [
      "loss: 0.17405 | bce: 0.04098 | dice: 0.87027 | 0 cls: 0.11632 | 1 cls: 0.16849 | 2 cls: 0.29443\n"
     ]
    },
    {
     "name": "stderr",
     "output_type": "stream",
     "text": [
      "Epoch 352, lr 6.6741943359375e-05: 100% 43/43 [00:12<00:00,  3.45it/s, 0 cls=0.18164, 1 cls=0.26455, 2 cls=0.36593, bce=0.07981, dice=0.84163, loss=0.25166]\n"
     ]
    },
    {
     "name": "stdout",
     "output_type": "stream",
     "text": [
      "loss: 0.17334 | bce: 0.04222 | dice: 0.87164 | 0 cls: 0.11701 | 1 cls: 0.16656 | 2 cls: 0.29340\n"
     ]
    },
    {
     "name": "stderr",
     "output_type": "stream",
     "text": [
      "Epoch 353, lr 6.6741943359375e-05: 100% 43/43 [00:12<00:00,  3.45it/s, 0 cls=0.17735, 1 cls=0.25839, 2 cls=0.36133, bce=0.07841, dice=0.84419, loss=0.24656]\n"
     ]
    },
    {
     "name": "stdout",
     "output_type": "stream",
     "text": [
      "loss: 0.17460 | bce: 0.04267 | dice: 0.87100 | 0 cls: 0.11771 | 1 cls: 0.16823 | 2 cls: 0.29484\n"
     ]
    },
    {
     "name": "stderr",
     "output_type": "stream",
     "text": [
      "Epoch 354, lr 6.6741943359375e-05: 100% 43/43 [00:12<00:00,  3.44it/s, 0 cls=0.18171, 1 cls=0.26337, 2 cls=0.36724, bce=0.07997, dice=0.84143, loss=0.25148]\n"
     ]
    },
    {
     "name": "stdout",
     "output_type": "stream",
     "text": [
      "loss: 0.17578 | bce: 0.04165 | dice: 0.86919 | 0 cls: 0.11748 | 1 cls: 0.17052 | 2 cls: 0.29767\n"
     ]
    },
    {
     "name": "stderr",
     "output_type": "stream",
     "text": [
      "Epoch 355, lr 6.6741943359375e-05: 100% 43/43 [00:12<00:00,  3.46it/s, 0 cls=0.18610, 1 cls=0.26439, 2 cls=0.37000, bce=0.08101, dice=0.84030, loss=0.25420]\n"
     ]
    },
    {
     "name": "stdout",
     "output_type": "stream",
     "text": [
      "loss: 0.17653 | bce: 0.04241 | dice: 0.86956 | 0 cls: 0.11694 | 1 cls: 0.17275 | 2 cls: 0.29739\n"
     ]
    },
    {
     "name": "stderr",
     "output_type": "stream",
     "text": [
      "Epoch 356, lr 6.6741943359375e-05: 100% 43/43 [00:12<00:00,  3.44it/s, 0 cls=0.17930, 1 cls=0.26155, 2 cls=0.36319, bce=0.07971, dice=0.84363, loss=0.24898]\n"
     ]
    },
    {
     "name": "stdout",
     "output_type": "stream",
     "text": [
      "loss: 0.17519 | bce: 0.04203 | dice: 0.87032 | 0 cls: 0.11625 | 1 cls: 0.17070 | 2 cls: 0.29528\n"
     ]
    },
    {
     "name": "stderr",
     "output_type": "stream",
     "text": [
      "Epoch 357, lr 6.6741943359375e-05: 100% 43/43 [00:12<00:00,  3.45it/s, 0 cls=0.17861, 1 cls=0.25996, 2 cls=0.36223, bce=0.07900, dice=0.84378, loss=0.24788]\n"
     ]
    },
    {
     "name": "stdout",
     "output_type": "stream",
     "text": [
      "loss: 0.17940 | bce: 0.04328 | dice: 0.86779 | 0 cls: 0.11881 | 1 cls: 0.17536 | 2 cls: 0.30221\n"
     ]
    },
    {
     "name": "stderr",
     "output_type": "stream",
     "text": [
      "Epoch 358, lr 6.6741943359375e-05: 100% 43/43 [00:12<00:00,  3.43it/s, 0 cls=0.17527, 1 cls=0.25690, 2 cls=0.35926, bce=0.07809, dice=0.84546, loss=0.24472]\n"
     ]
    },
    {
     "name": "stdout",
     "output_type": "stream",
     "text": [
      "loss: 0.17353 | bce: 0.04252 | dice: 0.87195 | 0 cls: 0.11587 | 1 cls: 0.16848 | 2 cls: 0.29347\n"
     ]
    },
    {
     "name": "stderr",
     "output_type": "stream",
     "text": [
      "Epoch 359, lr 6.6741943359375e-05: 100% 43/43 [00:12<00:00,  3.45it/s, 0 cls=0.18247, 1 cls=0.26131, 2 cls=0.36579, bce=0.07941, dice=0.84186, loss=0.25067]\n"
     ]
    },
    {
     "name": "stdout",
     "output_type": "stream",
     "text": [
      "loss: 0.17478 | bce: 0.04246 | dice: 0.87072 | 0 cls: 0.11737 | 1 cls: 0.16873 | 2 cls: 0.29563\n"
     ]
    },
    {
     "name": "stderr",
     "output_type": "stream",
     "text": [
      "Epoch 360, lr 6.6741943359375e-05: 100% 43/43 [00:12<00:00,  3.44it/s, 0 cls=0.18317, 1 cls=0.26214, 2 cls=0.36398, bce=0.08045, dice=0.84257, loss=0.25092]\n"
     ]
    },
    {
     "name": "stdout",
     "output_type": "stream",
     "text": [
      "loss: 0.17676 | bce: 0.04237 | dice: 0.86904 | 0 cls: 0.11809 | 1 cls: 0.17168 | 2 cls: 0.29881\n"
     ]
    },
    {
     "name": "stderr",
     "output_type": "stream",
     "text": [
      "Epoch 361, lr 6.6741943359375e-05: 100% 43/43 [00:12<00:00,  3.45it/s, 0 cls=0.17962, 1 cls=0.26092, 2 cls=0.36365, bce=0.07929, dice=0.84298, loss=0.24895]\n"
     ]
    },
    {
     "name": "stdout",
     "output_type": "stream",
     "text": [
      "loss: 0.17871 | bce: 0.04307 | dice: 0.86819 | 0 cls: 0.11770 | 1 cls: 0.17572 | 2 cls: 0.30122\n"
     ]
    },
    {
     "name": "stderr",
     "output_type": "stream",
     "text": [
      "Epoch 362, lr 6.6741943359375e-05: 100% 43/43 [00:12<00:00,  3.45it/s, 0 cls=0.18876, 1 cls=0.26982, 2 cls=0.37399, bce=0.08205, dice=0.83778, loss=0.25823]\n"
     ]
    },
    {
     "name": "stdout",
     "output_type": "stream",
     "text": [
      "loss: 0.17513 | bce: 0.04172 | dice: 0.86988 | 0 cls: 0.11677 | 1 cls: 0.16978 | 2 cls: 0.29615\n"
     ]
    },
    {
     "name": "stderr",
     "output_type": "stream",
     "text": [
      "Epoch 363, lr 6.6741943359375e-05: 100% 43/43 [00:12<00:00,  3.46it/s, 0 cls=0.17876, 1 cls=0.25734, 2 cls=0.36236, bce=0.07851, dice=0.84358, loss=0.24691]\n"
     ]
    },
    {
     "name": "stdout",
     "output_type": "stream",
     "text": [
      "loss: 0.17631 | bce: 0.04450 | dice: 0.87173 | 0 cls: 0.11550 | 1 cls: 0.17434 | 2 cls: 0.29660\n"
     ]
    },
    {
     "name": "stderr",
     "output_type": "stream",
     "text": [
      "Epoch 364, lr 6.6741943359375e-05: 100% 43/43 [00:12<00:00,  3.42it/s, 0 cls=0.18461, 1 cls=0.26072, 2 cls=0.36553, bce=0.08050, dice=0.84181, loss=0.25124]\n"
     ]
    },
    {
     "name": "stdout",
     "output_type": "stream",
     "text": [
      "loss: 0.17648 | bce: 0.04215 | dice: 0.86910 | 0 cls: 0.11757 | 1 cls: 0.17148 | 2 cls: 0.29835\n"
     ]
    },
    {
     "name": "stderr",
     "output_type": "stream",
     "text": [
      "Epoch 365, lr 6.6741943359375e-05: 100% 43/43 [00:12<00:00,  3.45it/s, 0 cls=0.17911, 1 cls=0.25890, 2 cls=0.36310, bce=0.07931, dice=0.84381, loss=0.24782]\n"
     ]
    },
    {
     "name": "stdout",
     "output_type": "stream",
     "text": [
      "loss: 0.17445 | bce: 0.04250 | dice: 0.87092 | 0 cls: 0.11697 | 1 cls: 0.16830 | 2 cls: 0.29548\n"
     ]
    },
    {
     "name": "stderr",
     "output_type": "stream",
     "text": [
      "Epoch 366, lr 6.6741943359375e-05: 100% 43/43 [00:12<00:00,  3.46it/s, 0 cls=0.17949, 1 cls=0.25843, 2 cls=0.36089, bce=0.07942, dice=0.84431, loss=0.24735]\n"
     ]
    },
    {
     "name": "stdout",
     "output_type": "stream",
     "text": [
      "loss: 0.17325 | bce: 0.04244 | dice: 0.87251 | 0 cls: 0.11498 | 1 cls: 0.16837 | 2 cls: 0.29224\n"
     ]
    },
    {
     "name": "stderr",
     "output_type": "stream",
     "text": [
      "Epoch 367, lr 6.6741943359375e-05: 100% 43/43 [00:12<00:00,  3.46it/s, 0 cls=0.17825, 1 cls=0.26007, 2 cls=0.36339, bce=0.07900, dice=0.84357, loss=0.24801]\n"
     ]
    },
    {
     "name": "stdout",
     "output_type": "stream",
     "text": [
      "loss: 0.17521 | bce: 0.04181 | dice: 0.87031 | 0 cls: 0.11627 | 1 cls: 0.17090 | 2 cls: 0.29524\n"
     ]
    },
    {
     "name": "stderr",
     "output_type": "stream",
     "text": [
      "Epoch 368, lr 6.6741943359375e-05: 100% 43/43 [00:12<00:00,  3.42it/s, 0 cls=0.17697, 1 cls=0.25522, 2 cls=0.36008, bce=0.07807, dice=0.84494, loss=0.24489]\n"
     ]
    },
    {
     "name": "stdout",
     "output_type": "stream",
     "text": [
      "loss: 0.17666 | bce: 0.04277 | dice: 0.86944 | 0 cls: 0.11816 | 1 cls: 0.17118 | 2 cls: 0.29888\n"
     ]
    },
    {
     "name": "stderr",
     "output_type": "stream",
     "text": [
      "Epoch 369, lr 6.6741943359375e-05: 100% 43/43 [00:12<00:00,  3.44it/s, 0 cls=0.17624, 1 cls=0.25912, 2 cls=0.35936, bce=0.07806, dice=0.84474, loss=0.24602]\n"
     ]
    },
    {
     "name": "stdout",
     "output_type": "stream",
     "text": [
      "loss: 0.17688 | bce: 0.04377 | dice: 0.87036 | 0 cls: 0.11629 | 1 cls: 0.17380 | 2 cls: 0.29851\n"
     ]
    },
    {
     "name": "stderr",
     "output_type": "stream",
     "text": [
      "Epoch 370, lr 6.6741943359375e-05: 100% 43/43 [00:12<00:00,  3.43it/s, 0 cls=0.17674, 1 cls=0.25783, 2 cls=0.36208, bce=0.07833, dice=0.84422, loss=0.24624]\n"
     ]
    },
    {
     "name": "stdout",
     "output_type": "stream",
     "text": [
      "loss: 0.17567 | bce: 0.04337 | dice: 0.87094 | 0 cls: 0.11568 | 1 cls: 0.17188 | 2 cls: 0.29740\n"
     ]
    },
    {
     "name": "stderr",
     "output_type": "stream",
     "text": [
      "Epoch 371, lr 6.6741943359375e-05: 100% 43/43 [00:12<00:00,  3.45it/s, 0 cls=0.17866, 1 cls=0.25934, 2 cls=0.36041, bce=0.07852, dice=0.84392, loss=0.24728]\n"
     ]
    },
    {
     "name": "stdout",
     "output_type": "stream",
     "text": [
      "loss: 0.17467 | bce: 0.04313 | dice: 0.87121 | 0 cls: 0.11713 | 1 cls: 0.16884 | 2 cls: 0.29592\n"
     ]
    },
    {
     "name": "stderr",
     "output_type": "stream",
     "text": [
      "Epoch 372, lr 6.6741943359375e-05: 100% 43/43 [00:12<00:00,  3.46it/s, 0 cls=0.18038, 1 cls=0.26076, 2 cls=0.36335, bce=0.07869, dice=0.84241, loss=0.24913]\n"
     ]
    },
    {
     "name": "stdout",
     "output_type": "stream",
     "text": [
      "loss: 0.17374 | bce: 0.04126 | dice: 0.87101 | 0 cls: 0.11611 | 1 cls: 0.16828 | 2 cls: 0.29359\n"
     ]
    },
    {
     "name": "stderr",
     "output_type": "stream",
     "text": [
      "Epoch 373, lr 6.6741943359375e-05: 100% 43/43 [00:12<00:00,  3.45it/s, 0 cls=0.17847, 1 cls=0.25610, 2 cls=0.35998, bce=0.07865, dice=0.84474, loss=0.24582]\n"
     ]
    },
    {
     "name": "stdout",
     "output_type": "stream",
     "text": [
      "loss: 0.17523 | bce: 0.04243 | dice: 0.87038 | 0 cls: 0.11709 | 1 cls: 0.17009 | 2 cls: 0.29636\n"
     ]
    },
    {
     "name": "stderr",
     "output_type": "stream",
     "text": [
      "Epoch 374, lr 6.6741943359375e-05: 100% 43/43 [00:12<00:00,  3.43it/s, 0 cls=0.17514, 1 cls=0.25758, 2 cls=0.35895, bce=0.07812, dice=0.84550, loss=0.24488]\n"
     ]
    },
    {
     "name": "stdout",
     "output_type": "stream",
     "text": [
      "loss: 0.17472 | bce: 0.04262 | dice: 0.87071 | 0 cls: 0.11753 | 1 cls: 0.16829 | 2 cls: 0.29653\n"
     ]
    },
    {
     "name": "stderr",
     "output_type": "stream",
     "text": [
      "Epoch 375, lr 6.6741943359375e-05: 100% 43/43 [00:12<00:00,  3.45it/s, 0 cls=0.17878, 1 cls=0.25844, 2 cls=0.36189, bce=0.07929, dice=0.84446, loss=0.24727]\n"
     ]
    },
    {
     "name": "stdout",
     "output_type": "stream",
     "text": [
      "loss: 0.17430 | bce: 0.04172 | dice: 0.87049 | 0 cls: 0.11663 | 1 cls: 0.16865 | 2 cls: 0.29527\n"
     ]
    },
    {
     "name": "stderr",
     "output_type": "stream",
     "text": [
      "Epoch 376, lr 6.6741943359375e-05: 100% 43/43 [00:12<00:00,  3.43it/s, 0 cls=0.17917, 1 cls=0.26147, 2 cls=0.36263, bce=0.07861, dice=0.84293, loss=0.24878]\n"
     ]
    },
    {
     "name": "stdout",
     "output_type": "stream",
     "text": [
      "loss: 0.17349 | bce: 0.04193 | dice: 0.87113 | 0 cls: 0.11708 | 1 cls: 0.16648 | 2 cls: 0.29472\n"
     ]
    },
    {
     "name": "stderr",
     "output_type": "stream",
     "text": [
      "Epoch 377, lr 6.6741943359375e-05: 100% 43/43 [00:12<00:00,  3.42it/s, 0 cls=0.18681, 1 cls=0.26525, 2 cls=0.36956, bce=0.08264, dice=0.84119, loss=0.25473]\n"
     ]
    },
    {
     "name": "stdout",
     "output_type": "stream",
     "text": [
      "loss: 0.17802 | bce: 0.04362 | dice: 0.86910 | 0 cls: 0.11792 | 1 cls: 0.17407 | 2 cls: 0.30088\n"
     ]
    },
    {
     "name": "stderr",
     "output_type": "stream",
     "text": [
      "Epoch 378, lr 6.6741943359375e-05: 100% 43/43 [00:12<00:00,  3.47it/s, 0 cls=0.17632, 1 cls=0.25715, 2 cls=0.36005, bce=0.07831, dice=0.84515, loss=0.24540]\n"
     ]
    },
    {
     "name": "stdout",
     "output_type": "stream",
     "text": [
      "loss: 0.17567 | bce: 0.04230 | dice: 0.86996 | 0 cls: 0.11786 | 1 cls: 0.17001 | 2 cls: 0.29702\n"
     ]
    },
    {
     "name": "stderr",
     "output_type": "stream",
     "text": [
      "Epoch 379, lr 6.6741943359375e-05: 100% 43/43 [00:12<00:00,  3.45it/s, 0 cls=0.17919, 1 cls=0.25947, 2 cls=0.36092, bce=0.07858, dice=0.84365, loss=0.24765]\n"
     ]
    },
    {
     "name": "stdout",
     "output_type": "stream",
     "text": [
      "loss: 0.17530 | bce: 0.04203 | dice: 0.87008 | 0 cls: 0.11680 | 1 cls: 0.17056 | 2 cls: 0.29621\n"
     ]
    },
    {
     "name": "stderr",
     "output_type": "stream",
     "text": [
      "Epoch 380, lr 6.6741943359375e-05: 100% 43/43 [00:12<00:00,  3.44it/s, 0 cls=0.17599, 1 cls=0.25544, 2 cls=0.35731, bce=0.07747, dice=0.84551, loss=0.24403]\n"
     ]
    },
    {
     "name": "stdout",
     "output_type": "stream",
     "text": [
      "loss: 0.17412 | bce: 0.04214 | dice: 0.87122 | 0 cls: 0.11576 | 1 cls: 0.16944 | 2 cls: 0.29423\n"
     ]
    },
    {
     "name": "stderr",
     "output_type": "stream",
     "text": [
      "Epoch 381, lr 6.6741943359375e-05: 100% 43/43 [00:12<00:00,  3.45it/s, 0 cls=0.17905, 1 cls=0.25949, 2 cls=0.36182, bce=0.07957, dice=0.84410, loss=0.24778]\n"
     ]
    },
    {
     "name": "stdout",
     "output_type": "stream",
     "text": [
      "loss: 0.17716 | bce: 0.04232 | dice: 0.86872 | 0 cls: 0.11790 | 1 cls: 0.17241 | 2 cls: 0.29939\n"
     ]
    },
    {
     "name": "stderr",
     "output_type": "stream",
     "text": [
      "Epoch 382, lr 6.6741943359375e-05: 100% 43/43 [00:12<00:00,  3.44it/s, 0 cls=0.17391, 1 cls=0.25213, 2 cls=0.35585, bce=0.07763, dice=0.84737, loss=0.24159]\n"
     ]
    },
    {
     "name": "stdout",
     "output_type": "stream",
     "text": [
      "loss: 0.17630 | bce: 0.04207 | dice: 0.86893 | 0 cls: 0.11735 | 1 cls: 0.17125 | 2 cls: 0.29870\n"
     ]
    },
    {
     "name": "stderr",
     "output_type": "stream",
     "text": [
      "Epoch 383, lr 6.6741943359375e-05: 100% 43/43 [00:13<00:00,  3.14it/s, 0 cls=0.17485, 1 cls=0.25819, 2 cls=0.35840, bce=0.07834, dice=0.84572, loss=0.24490]\n"
     ]
    },
    {
     "name": "stdout",
     "output_type": "stream",
     "text": [
      "loss: 0.17712 | bce: 0.04198 | dice: 0.86849 | 0 cls: 0.11729 | 1 cls: 0.17296 | 2 cls: 0.29923\n"
     ]
    },
    {
     "name": "stderr",
     "output_type": "stream",
     "text": [
      "Epoch 384, lr 6.6741943359375e-05: 100% 43/43 [00:12<00:00,  3.44it/s, 0 cls=0.17803, 1 cls=0.25693, 2 cls=0.36082, bce=0.07834, dice=0.84427, loss=0.24615]\n"
     ]
    },
    {
     "name": "stdout",
     "output_type": "stream",
     "text": [
      "loss: 0.17433 | bce: 0.04199 | dice: 0.87089 | 0 cls: 0.11650 | 1 cls: 0.16858 | 2 cls: 0.29444\n"
     ]
    },
    {
     "name": "stderr",
     "output_type": "stream",
     "text": [
      "Epoch 385, lr 6.6741943359375e-05: 100% 43/43 [00:12<00:00,  3.45it/s, 0 cls=0.17733, 1 cls=0.25467, 2 cls=0.35820, bce=0.07850, dice=0.84566, loss=0.24444]\n"
     ]
    },
    {
     "name": "stdout",
     "output_type": "stream",
     "text": [
      "loss: 0.17562 | bce: 0.04265 | dice: 0.87003 | 0 cls: 0.11806 | 1 cls: 0.16956 | 2 cls: 0.29758\n"
     ]
    },
    {
     "name": "stderr",
     "output_type": "stream",
     "text": [
      "Epoch 386, lr 6.6741943359375e-05: 100% 43/43 [00:12<00:00,  3.45it/s, 0 cls=0.17445, 1 cls=0.25352, 2 cls=0.35612, bce=0.07731, dice=0.84651, loss=0.24241]\n"
     ]
    },
    {
     "name": "stdout",
     "output_type": "stream",
     "text": [
      "loss: 0.17562 | bce: 0.04313 | dice: 0.87080 | 0 cls: 0.11685 | 1 cls: 0.17121 | 2 cls: 0.29646\n"
     ]
    },
    {
     "name": "stderr",
     "output_type": "stream",
     "text": [
      "Epoch 387, lr 6.6741943359375e-05: 100% 43/43 [00:12<00:00,  3.45it/s, 0 cls=0.17835, 1 cls=0.26063, 2 cls=0.36127, bce=0.07949, dice=0.84429, loss=0.24784]\n"
     ]
    },
    {
     "name": "stdout",
     "output_type": "stream",
     "text": [
      "loss: 0.17614 | bce: 0.04173 | dice: 0.86875 | 0 cls: 0.11798 | 1 cls: 0.17022 | 2 cls: 0.29867\n"
     ]
    },
    {
     "name": "stderr",
     "output_type": "stream",
     "text": [
      "Epoch 388, lr 6.6741943359375e-05: 100% 43/43 [00:12<00:00,  3.45it/s, 0 cls=0.17806, 1 cls=0.25832, 2 cls=0.35931, bce=0.07792, dice=0.84410, loss=0.24642]\n"
     ]
    },
    {
     "name": "stdout",
     "output_type": "stream",
     "text": [
      "loss: 0.17580 | bce: 0.04317 | dice: 0.87007 | 0 cls: 0.11743 | 1 cls: 0.17013 | 2 cls: 0.29836\n"
     ]
    },
    {
     "name": "stderr",
     "output_type": "stream",
     "text": [
      "Epoch 389, lr 6.6741943359375e-05: 100% 43/43 [00:12<00:00,  3.45it/s, 0 cls=0.17688, 1 cls=0.25633, 2 cls=0.36019, bce=0.07902, dice=0.84564, loss=0.24532]\n"
     ]
    },
    {
     "name": "stdout",
     "output_type": "stream",
     "text": [
      "loss: 0.17474 | bce: 0.04185 | dice: 0.86987 | 0 cls: 0.11794 | 1 cls: 0.16773 | 2 cls: 0.29631\n"
     ]
    },
    {
     "name": "stderr",
     "output_type": "stream",
     "text": [
      "Epoch 390, lr 0.0004782969000000001: 100% 43/43 [00:12<00:00,  3.45it/s, 0 cls=0.17976, 1 cls=0.26154, 2 cls=0.36509, bce=0.07957, dice=0.84261, loss=0.24954]\n"
     ]
    },
    {
     "name": "stdout",
     "output_type": "stream",
     "text": [
      "loss: 0.18344 | bce: 0.04455 | dice: 0.86567 | 0 cls: 0.11891 | 1 cls: 0.18301 | 2 cls: 0.30775\n"
     ]
    },
    {
     "name": "stderr",
     "output_type": "stream",
     "text": [
      "Epoch 391, lr 0.0004782969000000001: 100% 43/43 [00:12<00:00,  3.45it/s, 0 cls=0.19767, 1 cls=0.28187, 2 cls=0.38854, bce=0.08545, dice=0.83132, loss=0.26952]\n"
     ]
    },
    {
     "name": "stdout",
     "output_type": "stream",
     "text": [
      "loss: 0.18003 | bce: 0.04495 | dice: 0.86850 | 0 cls: 0.11817 | 1 cls: 0.17517 | 2 cls: 0.30463\n"
     ]
    },
    {
     "name": "stderr",
     "output_type": "stream",
     "text": [
      "Epoch 392, lr 0.00014348907000000003: 100% 43/43 [00:12<00:00,  3.44it/s, 0 cls=0.18603, 1 cls=0.26319, 2 cls=0.37116, bce=0.08165, dice=0.84033, loss=0.25392]\n"
     ]
    },
    {
     "name": "stdout",
     "output_type": "stream",
     "text": [
      "loss: 0.17752 | bce: 0.04123 | dice: 0.86761 | 0 cls: 0.11797 | 1 cls: 0.17253 | 2 cls: 0.29974\n"
     ]
    },
    {
     "name": "stderr",
     "output_type": "stream",
     "text": [
      "Epoch 393, lr 0.00014348907000000003: 100% 43/43 [00:12<00:00,  3.44it/s, 0 cls=0.18205, 1 cls=0.26185, 2 cls=0.36635, bce=0.08064, dice=0.84245, loss=0.25083]\n"
     ]
    },
    {
     "name": "stdout",
     "output_type": "stream",
     "text": [
      "loss: 0.17202 | bce: 0.04042 | dice: 0.87194 | 0 cls: 0.11554 | 1 cls: 0.16547 | 2 cls: 0.29030\n"
     ]
    },
    {
     "name": "stderr",
     "output_type": "stream",
     "text": [
      "Epoch 394, lr 4.3046721000000007e-05: 100% 43/43 [00:12<00:00,  3.43it/s, 0 cls=0.18119, 1 cls=0.26510, 2 cls=0.36680, bce=0.08002, dice=0.84146, loss=0.25188]\n"
     ]
    },
    {
     "name": "stdout",
     "output_type": "stream",
     "text": [
      "loss: 0.17574 | bce: 0.04151 | dice: 0.86925 | 0 cls: 0.11714 | 1 cls: 0.17048 | 2 cls: 0.29718\n"
     ]
    },
    {
     "name": "stderr",
     "output_type": "stream",
     "text": [
      "Epoch 395, lr 0.0004782969000000001: 100% 43/43 [00:12<00:00,  3.46it/s, 0 cls=0.19052, 1 cls=0.27070, 2 cls=0.37750, bce=0.08345, dice=0.83708, loss=0.25999]\n"
     ]
    },
    {
     "name": "stdout",
     "output_type": "stream",
     "text": [
      "loss: 0.17719 | bce: 0.04134 | dice: 0.86733 | 0 cls: 0.12008 | 1 cls: 0.16889 | 2 cls: 0.29954\n"
     ]
    },
    {
     "name": "stderr",
     "output_type": "stream",
     "text": [
      "Epoch 396, lr 0.0004782969000000001: 100% 43/43 [00:13<00:00,  3.20it/s, 0 cls=0.19384, 1 cls=0.27480, 2 cls=0.38178, bce=0.08398, dice=0.83486, loss=0.26381]\n"
     ]
    },
    {
     "name": "stdout",
     "output_type": "stream",
     "text": [
      "loss: 0.19580 | bce: 0.04575 | dice: 0.85628 | 0 cls: 0.12775 | 1 cls: 0.19581 | 2 cls: 0.32664\n"
     ]
    },
    {
     "name": "stderr",
     "output_type": "stream",
     "text": [
      "Epoch 397, lr 0.00014348907000000003: 100% 43/43 [00:13<00:00,  3.09it/s, 0 cls=0.18629, 1 cls=0.26731, 2 cls=0.37355, bce=0.08208, dice=0.83932, loss=0.25615]\n"
     ]
    },
    {
     "name": "stdout",
     "output_type": "stream",
     "text": [
      "loss: 0.17735 | bce: 0.04300 | dice: 0.86906 | 0 cls: 0.11736 | 1 cls: 0.17276 | 2 cls: 0.30018\n"
     ]
    },
    {
     "name": "stderr",
     "output_type": "stream",
     "text": [
      "Epoch 398, lr 0.00014348907000000003: 100% 43/43 [00:12<00:00,  3.45it/s, 0 cls=0.19452, 1 cls=0.27395, 2 cls=0.37897, bce=0.08355, dice=0.83513, loss=0.26318]\n"
     ]
    },
    {
     "name": "stdout",
     "output_type": "stream",
     "text": [
      "loss: 0.17366 | bce: 0.04076 | dice: 0.87021 | 0 cls: 0.11652 | 1 cls: 0.16804 | 2 cls: 0.29360\n"
     ]
    },
    {
     "name": "stderr",
     "output_type": "stream",
     "text": [
      "Epoch 399, lr 4.3046721000000007e-05: 100% 43/43 [00:12<00:00,  3.46it/s, 0 cls=0.18209, 1 cls=0.25970, 2 cls=0.36301, bce=0.07944, dice=0.84268, loss=0.24932]\n"
     ]
    },
    {
     "name": "stdout",
     "output_type": "stream",
     "text": [
      "loss: 0.17745 | bce: 0.04266 | dice: 0.86875 | 0 cls: 0.11747 | 1 cls: 0.17336 | 2 cls: 0.29989\n"
     ]
    },
    {
     "name": "stderr",
     "output_type": "stream",
     "text": [
      "Epoch 400, lr 5.005645751953125e-05: 100% 43/43 [00:12<00:00,  3.45it/s, 0 cls=0.17446, 1 cls=0.25891, 2 cls=0.36010, bce=0.07785, dice=0.84510, loss=0.24537]\n"
     ]
    },
    {
     "name": "stdout",
     "output_type": "stream",
     "text": [
      "loss: 0.17689 | bce: 0.04215 | dice: 0.86872 | 0 cls: 0.11790 | 1 cls: 0.17193 | 2 cls: 0.29925\n"
     ]
    },
    {
     "name": "stderr",
     "output_type": "stream",
     "text": [
      "Epoch 401, lr 5.005645751953125e-05: 100% 43/43 [00:12<00:00,  3.44it/s, 0 cls=0.18147, 1 cls=0.26213, 2 cls=0.36486, bce=0.07979, dice=0.84227, loss=0.25041]\n"
     ]
    },
    {
     "name": "stdout",
     "output_type": "stream",
     "text": [
      "loss: 0.17512 | bce: 0.04125 | dice: 0.86951 | 0 cls: 0.11746 | 1 cls: 0.16909 | 2 cls: 0.29632\n"
     ]
    },
    {
     "name": "stderr",
     "output_type": "stream",
     "text": [
      "Epoch 402, lr 5.005645751953125e-05: 100% 43/43 [00:12<00:00,  3.45it/s, 0 cls=0.17284, 1 cls=0.25308, 2 cls=0.35544, bce=0.07725, dice=0.84739, loss=0.24146]\n"
     ]
    },
    {
     "name": "stdout",
     "output_type": "stream",
     "text": [
      "loss: 0.17514 | bce: 0.04170 | dice: 0.86964 | 0 cls: 0.11764 | 1 cls: 0.16891 | 2 cls: 0.29665\n"
     ]
    },
    {
     "name": "stderr",
     "output_type": "stream",
     "text": [
      "Epoch 403, lr 5.005645751953125e-05: 100% 43/43 [00:12<00:00,  3.44it/s, 0 cls=0.17779, 1 cls=0.26142, 2 cls=0.36326, bce=0.07914, dice=0.84371, loss=0.24833]\n"
     ]
    },
    {
     "name": "stdout",
     "output_type": "stream",
     "text": [
      "loss: 0.17623 | bce: 0.04300 | dice: 0.87009 | 0 cls: 0.11790 | 1 cls: 0.17087 | 2 cls: 0.29793\n"
     ]
    },
    {
     "name": "stderr",
     "output_type": "stream",
     "text": [
      "Epoch 404, lr 5.005645751953125e-05: 100% 43/43 [00:12<00:00,  3.45it/s, 0 cls=0.17737, 1 cls=0.25864, 2 cls=0.36005, bce=0.07863, dice=0.84474, loss=0.24641]\n"
     ]
    },
    {
     "name": "stdout",
     "output_type": "stream",
     "text": [
      "loss: 0.17461 | bce: 0.04234 | dice: 0.87087 | 0 cls: 0.11713 | 1 cls: 0.16840 | 2 cls: 0.29562\n"
     ]
    },
    {
     "name": "stderr",
     "output_type": "stream",
     "text": [
      "Epoch 405, lr 5.005645751953125e-05: 100% 43/43 [00:12<00:00,  3.45it/s, 0 cls=0.17744, 1 cls=0.25557, 2 cls=0.35813, bce=0.07749, dice=0.84477, loss=0.24483]\n"
     ]
    },
    {
     "name": "stdout",
     "output_type": "stream",
     "text": [
      "loss: 0.17530 | bce: 0.04328 | dice: 0.87119 | 0 cls: 0.11644 | 1 cls: 0.17043 | 2 cls: 0.29647\n"
     ]
    },
    {
     "name": "stderr",
     "output_type": "stream",
     "text": [
      "Epoch 406, lr 5.005645751953125e-05: 100% 43/43 [00:12<00:00,  3.45it/s, 0 cls=0.17661, 1 cls=0.25692, 2 cls=0.35993, bce=0.07823, dice=0.84497, loss=0.24540]\n"
     ]
    },
    {
     "name": "stdout",
     "output_type": "stream",
     "text": [
      "loss: 0.17762 | bce: 0.04320 | dice: 0.86937 | 0 cls: 0.11762 | 1 cls: 0.17290 | 2 cls: 0.29986\n"
     ]
    },
    {
     "name": "stderr",
     "output_type": "stream",
     "text": [
      "Epoch 407, lr 5.005645751953125e-05: 100% 43/43 [00:12<00:00,  3.45it/s, 0 cls=0.18022, 1 cls=0.25944, 2 cls=0.36122, bce=0.07965, dice=0.84414, loss=0.24811]\n"
     ]
    },
    {
     "name": "stdout",
     "output_type": "stream",
     "text": [
      "loss: 0.17657 | bce: 0.04231 | dice: 0.86917 | 0 cls: 0.11818 | 1 cls: 0.17070 | 2 cls: 0.29859\n"
     ]
    },
    {
     "name": "stderr",
     "output_type": "stream",
     "text": [
      "Epoch 408, lr 5.005645751953125e-05: 100% 43/43 [00:12<00:00,  3.46it/s, 0 cls=0.17575, 1 cls=0.25463, 2 cls=0.35816, bce=0.07816, dice=0.84602, loss=0.24378]\n"
     ]
    },
    {
     "name": "stdout",
     "output_type": "stream",
     "text": [
      "loss: 0.17712 | bce: 0.04350 | dice: 0.86947 | 0 cls: 0.11924 | 1 cls: 0.17042 | 2 cls: 0.30049\n"
     ]
    },
    {
     "name": "stderr",
     "output_type": "stream",
     "text": [
      "Epoch 409, lr 5.005645751953125e-05: 100% 43/43 [00:12<00:00,  3.46it/s, 0 cls=0.17453, 1 cls=0.25456, 2 cls=0.35552, bce=0.07734, dice=0.84659, loss=0.24274]\n"
     ]
    },
    {
     "name": "stdout",
     "output_type": "stream",
     "text": [
      "loss: 0.17374 | bce: 0.04180 | dice: 0.87119 | 0 cls: 0.11656 | 1 cls: 0.16749 | 2 cls: 0.29390\n"
     ]
    },
    {
     "name": "stderr",
     "output_type": "stream",
     "text": [
      "Epoch 410, lr 5.005645751953125e-05: 100% 43/43 [00:12<00:00,  3.33it/s, 0 cls=0.17536, 1 cls=0.25667, 2 cls=0.35902, bce=0.07803, dice=0.84568, loss=0.24462]\n"
     ]
    },
    {
     "name": "stdout",
     "output_type": "stream",
     "text": [
      "loss: 0.17639 | bce: 0.04233 | dice: 0.86909 | 0 cls: 0.11834 | 1 cls: 0.17002 | 2 cls: 0.29908\n"
     ]
    },
    {
     "name": "stderr",
     "output_type": "stream",
     "text": [
      "Epoch 411, lr 5.005645751953125e-05: 100% 43/43 [00:12<00:00,  3.44it/s, 0 cls=0.17913, 1 cls=0.25729, 2 cls=0.36070, bce=0.07842, dice=0.84398, loss=0.24671]\n"
     ]
    },
    {
     "name": "stdout",
     "output_type": "stream",
     "text": [
      "loss: 0.17207 | bce: 0.04152 | dice: 0.87203 | 0 cls: 0.11652 | 1 cls: 0.16473 | 2 cls: 0.29193\n"
     ]
    },
    {
     "name": "stderr",
     "output_type": "stream",
     "text": [
      "Epoch 412, lr 5.005645751953125e-05: 100% 43/43 [00:12<00:00,  3.46it/s, 0 cls=0.17407, 1 cls=0.25668, 2 cls=0.35742, bce=0.07768, dice=0.84617, loss=0.24379]\n"
     ]
    },
    {
     "name": "stdout",
     "output_type": "stream",
     "text": [
      "loss: 0.17557 | bce: 0.04263 | dice: 0.87007 | 0 cls: 0.11759 | 1 cls: 0.17005 | 2 cls: 0.29744\n"
     ]
    },
    {
     "name": "stderr",
     "output_type": "stream",
     "text": [
      "Epoch 413, lr 5.005645751953125e-05: 100% 43/43 [00:12<00:00,  3.45it/s, 0 cls=0.17387, 1 cls=0.25397, 2 cls=0.35674, bce=0.07769, dice=0.84689, loss=0.24248]\n"
     ]
    },
    {
     "name": "stdout",
     "output_type": "stream",
     "text": [
      "loss: 0.17522 | bce: 0.04083 | dice: 0.86836 | 0 cls: 0.11905 | 1 cls: 0.16763 | 2 cls: 0.29785\n"
     ]
    },
    {
     "name": "stderr",
     "output_type": "stream",
     "text": [
      "Epoch 414, lr 5.005645751953125e-05: 100% 43/43 [00:12<00:00,  3.45it/s, 0 cls=0.18129, 1 cls=0.25982, 2 cls=0.36297, bce=0.07849, dice=0.84219, loss=0.24904]\n"
     ]
    },
    {
     "name": "stdout",
     "output_type": "stream",
     "text": [
      "loss: 0.17479 | bce: 0.04195 | dice: 0.87007 | 0 cls: 0.11778 | 1 cls: 0.16830 | 2 cls: 0.29630\n"
     ]
    },
    {
     "name": "stderr",
     "output_type": "stream",
     "text": [
      "Epoch 415, lr 5.005645751953125e-05: 100% 43/43 [00:12<00:00,  3.46it/s, 0 cls=0.17696, 1 cls=0.25748, 2 cls=0.36032, bce=0.07876, dice=0.84511, loss=0.24584]\n"
     ]
    },
    {
     "name": "stdout",
     "output_type": "stream",
     "text": [
      "loss: 0.17313 | bce: 0.04118 | dice: 0.87094 | 0 cls: 0.11654 | 1 cls: 0.16649 | 2 cls: 0.29345\n"
     ]
    },
    {
     "name": "stderr",
     "output_type": "stream",
     "text": [
      "Epoch 416, lr 5.005645751953125e-05: 100% 43/43 [00:12<00:00,  3.46it/s, 0 cls=0.17406, 1 cls=0.25509, 2 cls=0.35636, bce=0.07766, dice=0.84685, loss=0.24293]\n"
     ]
    },
    {
     "name": "stdout",
     "output_type": "stream",
     "text": [
      "loss: 0.17696 | bce: 0.04231 | dice: 0.86848 | 0 cls: 0.11936 | 1 cls: 0.17011 | 2 cls: 0.30040\n"
     ]
    },
    {
     "name": "stderr",
     "output_type": "stream",
     "text": [
      "Epoch 417, lr 5.005645751953125e-05: 100% 43/43 [00:12<00:00,  3.45it/s, 0 cls=0.17998, 1 cls=0.26050, 2 cls=0.36404, bce=0.07933, dice=0.84297, loss=0.24900]\n"
     ]
    },
    {
     "name": "stdout",
     "output_type": "stream",
     "text": [
      "loss: 0.17299 | bce: 0.04150 | dice: 0.87107 | 0 cls: 0.11672 | 1 cls: 0.16631 | 2 cls: 0.29340\n"
     ]
    },
    {
     "name": "stderr",
     "output_type": "stream",
     "text": [
      "Epoch 418, lr 5.005645751953125e-05: 100% 43/43 [00:12<00:00,  3.44it/s, 0 cls=0.17786, 1 cls=0.25750, 2 cls=0.35899, bce=0.07778, dice=0.84422, loss=0.24594]\n"
     ]
    },
    {
     "name": "stdout",
     "output_type": "stream",
     "text": [
      "loss: 0.17635 | bce: 0.04366 | dice: 0.87029 | 0 cls: 0.11766 | 1 cls: 0.17098 | 2 cls: 0.29900\n"
     ]
    },
    {
     "name": "stderr",
     "output_type": "stream",
     "text": [
      "Epoch 419, lr 5.005645751953125e-05: 100% 43/43 [00:12<00:00,  3.44it/s, 0 cls=0.17699, 1 cls=0.25620, 2 cls=0.35764, bce=0.07810, dice=0.84549, loss=0.24480]\n"
     ]
    },
    {
     "name": "stdout",
     "output_type": "stream",
     "text": [
      "loss: 0.17506 | bce: 0.04131 | dice: 0.86928 | 0 cls: 0.11771 | 1 cls: 0.16865 | 2 cls: 0.29691\n"
     ]
    },
    {
     "name": "stderr",
     "output_type": "stream",
     "text": [
      "Epoch 420, lr 5.005645751953125e-05: 100% 43/43 [00:12<00:00,  3.44it/s, 0 cls=0.18360, 1 cls=0.26524, 2 cls=0.36500, bce=0.08032, dice=0.84159, loss=0.25254]\n"
     ]
    },
    {
     "name": "stdout",
     "output_type": "stream",
     "text": [
      "loss: 0.17383 | bce: 0.04176 | dice: 0.87106 | 0 cls: 0.11612 | 1 cls: 0.16862 | 2 cls: 0.29439\n"
     ]
    },
    {
     "name": "stderr",
     "output_type": "stream",
     "text": [
      "Epoch 421, lr 5.005645751953125e-05: 100% 43/43 [00:12<00:00,  3.46it/s, 0 cls=0.17116, 1 cls=0.25225, 2 cls=0.35245, bce=0.07663, dice=0.84865, loss=0.23986]\n"
     ]
    },
    {
     "name": "stdout",
     "output_type": "stream",
     "text": [
      "loss: 0.17435 | bce: 0.04252 | dice: 0.87105 | 0 cls: 0.11700 | 1 cls: 0.16876 | 2 cls: 0.29534\n"
     ]
    },
    {
     "name": "stderr",
     "output_type": "stream",
     "text": [
      "Epoch 422, lr 5.005645751953125e-05: 100% 43/43 [00:12<00:00,  3.36it/s, 0 cls=0.17813, 1 cls=0.25727, 2 cls=0.36039, bce=0.07826, dice=0.84417, loss=0.24624]\n"
     ]
    },
    {
     "name": "stdout",
     "output_type": "stream",
     "text": [
      "loss: 0.17725 | bce: 0.04201 | dice: 0.86822 | 0 cls: 0.11812 | 1 cls: 0.17244 | 2 cls: 0.29956\n"
     ]
    },
    {
     "name": "stderr",
     "output_type": "stream",
     "text": [
      "Epoch 423, lr 5.005645751953125e-05: 100% 43/43 [00:12<00:00,  3.45it/s, 0 cls=0.17706, 1 cls=0.26008, 2 cls=0.36099, bce=0.07793, dice=0.84367, loss=0.24705]\n"
     ]
    },
    {
     "name": "stdout",
     "output_type": "stream",
     "text": [
      "loss: 0.17313 | bce: 0.04210 | dice: 0.87177 | 0 cls: 0.11617 | 1 cls: 0.16675 | 2 cls: 0.29343\n"
     ]
    },
    {
     "name": "stderr",
     "output_type": "stream",
     "text": [
      "Epoch 424, lr 5.005645751953125e-05: 100% 43/43 [00:12<00:00,  3.45it/s, 0 cls=0.17638, 1 cls=0.25815, 2 cls=0.36011, bce=0.07782, dice=0.84460, loss=0.24583]\n"
     ]
    },
    {
     "name": "stdout",
     "output_type": "stream",
     "text": [
      "loss: 0.17600 | bce: 0.04342 | dice: 0.87061 | 0 cls: 0.11654 | 1 cls: 0.17192 | 2 cls: 0.29772\n"
     ]
    },
    {
     "name": "stderr",
     "output_type": "stream",
     "text": [
      "Epoch 425, lr 5.005645751953125e-05: 100% 43/43 [00:12<00:00,  3.44it/s, 0 cls=0.17276, 1 cls=0.25426, 2 cls=0.35617, bce=0.07758, dice=0.84721, loss=0.24205]\n"
     ]
    },
    {
     "name": "stdout",
     "output_type": "stream",
     "text": [
      "loss: 0.17373 | bce: 0.04252 | dice: 0.87163 | 0 cls: 0.11635 | 1 cls: 0.16795 | 2 cls: 0.29434\n"
     ]
    },
    {
     "name": "stderr",
     "output_type": "stream",
     "text": [
      "Epoch 426, lr 5.005645751953125e-05: 100% 43/43 [00:12<00:00,  3.44it/s, 0 cls=0.17182, 1 cls=0.25282, 2 cls=0.35311, bce=0.07685, dice=0.84818, loss=0.24048]\n"
     ]
    },
    {
     "name": "stdout",
     "output_type": "stream",
     "text": [
      "loss: 0.17775 | bce: 0.04308 | dice: 0.86866 | 0 cls: 0.11877 | 1 cls: 0.17265 | 2 cls: 0.30083\n"
     ]
    },
    {
     "name": "stderr",
     "output_type": "stream",
     "text": [
      "Epoch 427, lr 5.005645751953125e-05: 100% 43/43 [00:12<00:00,  3.45it/s, 0 cls=0.18428, 1 cls=0.26367, 2 cls=0.36542, bce=0.08104, dice=0.84201, loss=0.25226]\n"
     ]
    },
    {
     "name": "stdout",
     "output_type": "stream",
     "text": [
      "loss: 0.17663 | bce: 0.04286 | dice: 0.86922 | 0 cls: 0.11797 | 1 cls: 0.17123 | 2 cls: 0.29956\n"
     ]
    },
    {
     "name": "stderr",
     "output_type": "stream",
     "text": [
      "Epoch 428, lr 5.005645751953125e-05: 100% 43/43 [00:12<00:00,  3.44it/s, 0 cls=0.18048, 1 cls=0.26167, 2 cls=0.36200, bce=0.07997, dice=0.84360, loss=0.24926]\n"
     ]
    },
    {
     "name": "stdout",
     "output_type": "stream",
     "text": [
      "loss: 0.17630 | bce: 0.04158 | dice: 0.86849 | 0 cls: 0.11781 | 1 cls: 0.17114 | 2 cls: 0.29863\n"
     ]
    },
    {
     "name": "stderr",
     "output_type": "stream",
     "text": [
      "Epoch 429, lr 5.005645751953125e-05: 100% 43/43 [00:12<00:00,  3.46it/s, 0 cls=0.17693, 1 cls=0.25767, 2 cls=0.35948, bce=0.07794, dice=0.84476, loss=0.24574]\n"
     ]
    },
    {
     "name": "stdout",
     "output_type": "stream",
     "text": [
      "loss: 0.17615 | bce: 0.04156 | dice: 0.86877 | 0 cls: 0.11763 | 1 cls: 0.17096 | 2 cls: 0.29808\n"
     ]
    },
    {
     "name": "stderr",
     "output_type": "stream",
     "text": [
      "Epoch 430, lr 5.005645751953125e-05: 100% 43/43 [00:12<00:00,  3.46it/s, 0 cls=0.17629, 1 cls=0.25513, 2 cls=0.35895, bce=0.07775, dice=0.84525, loss=0.24436]\n"
     ]
    },
    {
     "name": "stdout",
     "output_type": "stream",
     "text": [
      "loss: 0.17378 | bce: 0.04327 | dice: 0.87236 | 0 cls: 0.11577 | 1 cls: 0.16922 | 2 cls: 0.29394\n"
     ]
    },
    {
     "name": "stderr",
     "output_type": "stream",
     "text": [
      "Epoch 431, lr 5.005645751953125e-05: 100% 43/43 [00:12<00:00,  3.46it/s, 0 cls=0.17466, 1 cls=0.25453, 2 cls=0.35726, bce=0.07816, dice=0.84665, loss=0.24313]\n"
     ]
    },
    {
     "name": "stdout",
     "output_type": "stream",
     "text": [
      "loss: 0.17643 | bce: 0.04222 | dice: 0.86902 | 0 cls: 0.11767 | 1 cls: 0.17106 | 2 cls: 0.29898\n"
     ]
    },
    {
     "name": "stderr",
     "output_type": "stream",
     "text": [
      "Epoch 432, lr 5.005645751953125e-05: 100% 43/43 [00:12<00:00,  3.45it/s, 0 cls=0.17518, 1 cls=0.25520, 2 cls=0.35597, bce=0.07695, dice=0.84576, loss=0.24334]\n"
     ]
    },
    {
     "name": "stdout",
     "output_type": "stream",
     "text": [
      "loss: 0.17523 | bce: 0.04267 | dice: 0.87033 | 0 cls: 0.11739 | 1 cls: 0.16943 | 2 cls: 0.29759\n"
     ]
    },
    {
     "name": "stderr",
     "output_type": "stream",
     "text": [
      "Epoch 433, lr 5.005645751953125e-05: 100% 43/43 [00:12<00:00,  3.44it/s, 0 cls=0.17709, 1 cls=0.25681, 2 cls=0.36014, bce=0.07846, dice=0.84496, loss=0.24559]\n"
     ]
    },
    {
     "name": "stdout",
     "output_type": "stream",
     "text": [
      "loss: 0.17392 | bce: 0.04206 | dice: 0.87093 | 0 cls: 0.11693 | 1 cls: 0.16755 | 2 cls: 0.29504\n"
     ]
    },
    {
     "name": "stderr",
     "output_type": "stream",
     "text": [
      "Epoch 434, lr 5.005645751953125e-05: 100% 43/43 [00:12<00:00,  3.45it/s, 0 cls=0.18386, 1 cls=0.26188, 2 cls=0.36446, bce=0.08037, dice=0.84197, loss=0.25119]\n"
     ]
    },
    {
     "name": "stdout",
     "output_type": "stream",
     "text": [
      "loss: 0.17454 | bce: 0.04238 | dice: 0.87060 | 0 cls: 0.11741 | 1 cls: 0.16817 | 2 cls: 0.29612\n"
     ]
    },
    {
     "name": "stderr",
     "output_type": "stream",
     "text": [
      "Epoch 435, lr 5.005645751953125e-05: 100% 43/43 [00:13<00:00,  3.29it/s, 0 cls=0.17572, 1 cls=0.25776, 2 cls=0.35880, bce=0.07805, dice=0.84534, loss=0.24515]\n"
     ]
    },
    {
     "name": "stdout",
     "output_type": "stream",
     "text": [
      "loss: 0.17496 | bce: 0.04251 | dice: 0.87053 | 0 cls: 0.11700 | 1 cls: 0.16918 | 2 cls: 0.29630\n"
     ]
    },
    {
     "name": "stderr",
     "output_type": "stream",
     "text": [
      "Epoch 436, lr 5.005645751953125e-05: 100% 43/43 [00:12<00:00,  3.45it/s, 0 cls=0.17456, 1 cls=0.25702, 2 cls=0.35499, bce=0.07657, dice=0.84567, loss=0.24363]\n"
     ]
    },
    {
     "name": "stdout",
     "output_type": "stream",
     "text": [
      "loss: 0.17508 | bce: 0.04345 | dice: 0.87129 | 0 cls: 0.11714 | 1 cls: 0.16940 | 2 cls: 0.29704\n"
     ]
    },
    {
     "name": "stderr",
     "output_type": "stream",
     "text": [
      "Epoch 437, lr 5.005645751953125e-05: 100% 43/43 [00:12<00:00,  3.44it/s, 0 cls=0.17576, 1 cls=0.25600, 2 cls=0.35822, bce=0.07839, dice=0.84611, loss=0.24435]\n"
     ]
    },
    {
     "name": "stdout",
     "output_type": "stream",
     "text": [
      "loss: 0.17601 | bce: 0.04314 | dice: 0.87037 | 0 cls: 0.11708 | 1 cls: 0.17116 | 2 cls: 0.29756\n"
     ]
    },
    {
     "name": "stderr",
     "output_type": "stream",
     "text": [
      "Epoch 438, lr 5.005645751953125e-05: 100% 43/43 [00:12<00:00,  3.46it/s, 0 cls=0.18638, 1 cls=0.26093, 2 cls=0.36643, bce=0.08044, dice=0.84104, loss=0.25221]\n"
     ]
    },
    {
     "name": "stdout",
     "output_type": "stream",
     "text": [
      "loss: 0.18062 | bce: 0.04426 | dice: 0.86730 | 0 cls: 0.12045 | 1 cls: 0.17604 | 2 cls: 0.30510\n"
     ]
    },
    {
     "name": "stderr",
     "output_type": "stream",
     "text": [
      "Epoch 439, lr 5.005645751953125e-05: 100% 43/43 [00:12<00:00,  3.45it/s, 0 cls=0.17525, 1 cls=0.25173, 2 cls=0.35465, bce=0.07827, dice=0.84778, loss=0.24172]\n"
     ]
    },
    {
     "name": "stdout",
     "output_type": "stream",
     "text": [
      "loss: 0.17470 | bce: 0.04294 | dice: 0.87136 | 0 cls: 0.11557 | 1 cls: 0.17074 | 2 cls: 0.29507\n"
     ]
    },
    {
     "name": "stderr",
     "output_type": "stream",
     "text": [
      "Epoch 440, lr 0.0004304672100000001: 100% 43/43 [00:12<00:00,  3.46it/s, 0 cls=0.19289, 1 cls=0.27350, 2 cls=0.37924, bce=0.08439, dice=0.83615, loss=0.26240]\n"
     ]
    },
    {
     "name": "stdout",
     "output_type": "stream",
     "text": [
      "loss: 0.18861 | bce: 0.04473 | dice: 0.86165 | 0 cls: 0.12297 | 1 cls: 0.18807 | 2 cls: 0.31501\n"
     ]
    },
    {
     "name": "stderr",
     "output_type": "stream",
     "text": [
      "Epoch 441, lr 0.0004304672100000001: 100% 43/43 [00:12<00:00,  3.44it/s, 0 cls=0.20706, 1 cls=0.28246, 2 cls=0.39207, bce=0.08956, dice=0.83060, loss=0.27422]\n"
     ]
    },
    {
     "name": "stdout",
     "output_type": "stream",
     "text": [
      "loss: 0.18078 | bce: 0.04690 | dice: 0.86831 | 0 cls: 0.12226 | 1 cls: 0.17355 | 2 cls: 0.30705\n"
     ]
    },
    {
     "name": "stderr",
     "output_type": "stream",
     "text": [
      "Epoch 442, lr 0.00012914016300000003: 100% 43/43 [00:12<00:00,  3.44it/s, 0 cls=0.18977, 1 cls=0.26993, 2 cls=0.37558, bce=0.08206, dice=0.83715, loss=0.25899]\n"
     ]
    },
    {
     "name": "stdout",
     "output_type": "stream",
     "text": [
      "loss: 0.18095 | bce: 0.04135 | dice: 0.86458 | 0 cls: 0.12002 | 1 cls: 0.17730 | 2 cls: 0.30553\n"
     ]
    },
    {
     "name": "stderr",
     "output_type": "stream",
     "text": [
      "Epoch 443, lr 0.00012914016300000003: 100% 43/43 [00:12<00:00,  3.45it/s, 0 cls=0.18975, 1 cls=0.26700, 2 cls=0.37256, bce=0.08242, dice=0.83881, loss=0.25721]\n"
     ]
    },
    {
     "name": "stdout",
     "output_type": "stream",
     "text": [
      "loss: 0.17322 | bce: 0.04101 | dice: 0.87106 | 0 cls: 0.11519 | 1 cls: 0.16870 | 2 cls: 0.29256\n"
     ]
    },
    {
     "name": "stderr",
     "output_type": "stream",
     "text": [
      "Epoch 444, lr 3.8742048900000005e-05: 100% 43/43 [00:12<00:00,  3.45it/s, 0 cls=0.17999, 1 cls=0.25985, 2 cls=0.36389, bce=0.07881, dice=0.84255, loss=0.24871]\n"
     ]
    },
    {
     "name": "stdout",
     "output_type": "stream",
     "text": [
      "loss: 0.17473 | bce: 0.04234 | dice: 0.87057 | 0 cls: 0.11601 | 1 cls: 0.17037 | 2 cls: 0.29585\n"
     ]
    },
    {
     "name": "stderr",
     "output_type": "stream",
     "text": [
      "Epoch 445, lr 0.0004304672100000001: 100% 43/43 [00:12<00:00,  3.44it/s, 0 cls=0.19501, 1 cls=0.27636, 2 cls=0.38473, bce=0.08497, dice=0.83385, loss=0.26549]\n"
     ]
    },
    {
     "name": "stdout",
     "output_type": "stream",
     "text": [
      "loss: 0.18642 | bce: 0.04406 | dice: 0.86137 | 0 cls: 0.12601 | 1 cls: 0.17981 | 2 cls: 0.31547\n"
     ]
    },
    {
     "name": "stderr",
     "output_type": "stream",
     "text": [
      "Epoch 446, lr 0.0004304672100000001: 100% 43/43 [00:12<00:00,  3.43it/s, 0 cls=0.19471, 1 cls=0.27331, 2 cls=0.38030, bce=0.08393, dice=0.83485, loss=0.26327]\n"
     ]
    },
    {
     "name": "stdout",
     "output_type": "stream",
     "text": [
      "loss: 0.18740 | bce: 0.04743 | dice: 0.86426 | 0 cls: 0.11925 | 1 cls: 0.18714 | 2 cls: 0.31771\n"
     ]
    },
    {
     "name": "stderr",
     "output_type": "stream",
     "text": [
      "Epoch 447, lr 0.00012914016300000003: 100% 43/43 [00:12<00:00,  3.43it/s, 0 cls=0.18204, 1 cls=0.26339, 2 cls=0.36715, bce=0.08062, dice=0.84179, loss=0.25160]\n"
     ]
    },
    {
     "name": "stdout",
     "output_type": "stream",
     "text": [
      "loss: 0.17477 | bce: 0.04182 | dice: 0.87061 | 0 cls: 0.11598 | 1 cls: 0.17063 | 2 cls: 0.29471\n"
     ]
    },
    {
     "name": "stderr",
     "output_type": "stream",
     "text": [
      "Epoch 448, lr 0.00012914016300000003: 100% 43/43 [00:12<00:00,  3.46it/s, 0 cls=0.17998, 1 cls=0.26257, 2 cls=0.36640, bce=0.08006, dice=0.84262, loss=0.25030]\n"
     ]
    },
    {
     "name": "stdout",
     "output_type": "stream",
     "text": [
      "loss: 0.17764 | bce: 0.04261 | dice: 0.86877 | 0 cls: 0.11734 | 1 cls: 0.17432 | 2 cls: 0.29943\n"
     ]
    },
    {
     "name": "stderr",
     "output_type": "stream",
     "text": [
      "Epoch 449, lr 3.8742048900000005e-05: 100% 43/43 [00:12<00:00,  3.44it/s, 0 cls=0.18189, 1 cls=0.26155, 2 cls=0.36300, bce=0.07968, dice=0.84268, loss=0.24998]\n"
     ]
    },
    {
     "name": "stdout",
     "output_type": "stream",
     "text": [
      "loss: 0.17544 | bce: 0.04160 | dice: 0.86947 | 0 cls: 0.11716 | 1 cls: 0.17036 | 2 cls: 0.29676\n"
     ]
    },
    {
     "name": "stderr",
     "output_type": "stream",
     "text": [
      "Epoch 450, lr 3.754234313964844e-05: 100% 43/43 [00:12<00:00,  3.44it/s, 0 cls=0.18504, 1 cls=0.26278, 2 cls=0.36724, bce=0.08113, dice=0.84131, loss=0.25258]\n"
     ]
    },
    {
     "name": "stdout",
     "output_type": "stream",
     "text": [
      "loss: 0.17464 | bce: 0.04126 | dice: 0.86973 | 0 cls: 0.11703 | 1 cls: 0.16884 | 2 cls: 0.29537\n"
     ]
    },
    {
     "name": "stderr",
     "output_type": "stream",
     "text": [
      "Epoch 451, lr 3.754234313964844e-05: 100% 43/43 [00:12<00:00,  3.45it/s, 0 cls=0.18031, 1 cls=0.25917, 2 cls=0.36213, bce=0.08001, dice=0.84426, loss=0.24822]\n"
     ]
    },
    {
     "name": "stdout",
     "output_type": "stream",
     "text": [
      "loss: 0.17371 | bce: 0.04163 | dice: 0.87111 | 0 cls: 0.11624 | 1 cls: 0.16827 | 2 cls: 0.29345\n"
     ]
    },
    {
     "name": "stderr",
     "output_type": "stream",
     "text": [
      "Epoch 452, lr 3.754234313964844e-05: 100% 43/43 [00:12<00:00,  3.45it/s, 0 cls=0.17808, 1 cls=0.25909, 2 cls=0.36080, bce=0.07809, dice=0.84370, loss=0.24703]\n"
     ]
    },
    {
     "name": "stdout",
     "output_type": "stream",
     "text": [
      "loss: 0.17472 | bce: 0.04252 | dice: 0.87092 | 0 cls: 0.11640 | 1 cls: 0.16996 | 2 cls: 0.29541\n"
     ]
    },
    {
     "name": "stderr",
     "output_type": "stream",
     "text": [
      "Epoch 453, lr 3.754234313964844e-05: 100% 43/43 [00:12<00:00,  3.43it/s, 0 cls=0.18433, 1 cls=0.25942, 2 cls=0.36299, bce=0.07929, dice=0.84189, loss=0.25010]\n"
     ]
    },
    {
     "name": "stdout",
     "output_type": "stream",
     "text": [
      "loss: 0.17334 | bce: 0.04217 | dice: 0.87178 | 0 cls: 0.11599 | 1 cls: 0.16813 | 2 cls: 0.29336\n"
     ]
    },
    {
     "name": "stderr",
     "output_type": "stream",
     "text": [
      "Epoch 454, lr 3.754234313964844e-05: 100% 43/43 [00:12<00:00,  3.44it/s, 0 cls=0.17802, 1 cls=0.25914, 2 cls=0.36067, bce=0.07802, dice=0.84378, loss=0.24700]\n"
     ]
    },
    {
     "name": "stdout",
     "output_type": "stream",
     "text": [
      "loss: 0.17510 | bce: 0.04233 | dice: 0.87041 | 0 cls: 0.11706 | 1 cls: 0.17011 | 2 cls: 0.29618\n"
     ]
    },
    {
     "name": "stderr",
     "output_type": "stream",
     "text": [
      "Epoch 455, lr 3.754234313964844e-05: 100% 43/43 [00:12<00:00,  3.44it/s, 0 cls=0.17597, 1 cls=0.25697, 2 cls=0.35922, bce=0.07824, dice=0.84542, loss=0.24502]\n"
     ]
    },
    {
     "name": "stdout",
     "output_type": "stream",
     "text": [
      "loss: 0.17600 | bce: 0.04242 | dice: 0.86972 | 0 cls: 0.11713 | 1 cls: 0.17127 | 2 cls: 0.29773\n"
     ]
    },
    {
     "name": "stderr",
     "output_type": "stream",
     "text": [
      "Epoch 456, lr 3.754234313964844e-05: 100% 43/43 [00:12<00:00,  3.45it/s, 0 cls=0.17338, 1 cls=0.25480, 2 cls=0.35484, bce=0.07740, dice=0.84714, loss=0.24224]\n"
     ]
    },
    {
     "name": "stdout",
     "output_type": "stream",
     "text": [
      "loss: 0.17515 | bce: 0.04147 | dice: 0.86965 | 0 cls: 0.11675 | 1 cls: 0.17031 | 2 cls: 0.29621\n"
     ]
    },
    {
     "name": "stderr",
     "output_type": "stream",
     "text": [
      "Epoch 457, lr 3.754234313964844e-05: 100% 43/43 [00:12<00:00,  3.44it/s, 0 cls=0.18136, 1 cls=0.25897, 2 cls=0.35867, bce=0.07863, dice=0.84359, loss=0.24787]\n"
     ]
    },
    {
     "name": "stdout",
     "output_type": "stream",
     "text": [
      "loss: 0.17368 | bce: 0.04209 | dice: 0.87140 | 0 cls: 0.11604 | 1 cls: 0.16857 | 2 cls: 0.29409\n"
     ]
    },
    {
     "name": "stderr",
     "output_type": "stream",
     "text": [
      "Epoch 458, lr 3.754234313964844e-05: 100% 43/43 [00:12<00:00,  3.42it/s, 0 cls=0.17704, 1 cls=0.25786, 2 cls=0.35971, bce=0.07827, dice=0.84465, loss=0.24590]\n"
     ]
    },
    {
     "name": "stdout",
     "output_type": "stream",
     "text": [
      "loss: 0.17406 | bce: 0.04145 | dice: 0.87045 | 0 cls: 0.11663 | 1 cls: 0.16837 | 2 cls: 0.29478\n"
     ]
    },
    {
     "name": "stderr",
     "output_type": "stream",
     "text": [
      "Epoch 459, lr 3.754234313964844e-05: 100% 43/43 [00:12<00:00,  3.44it/s, 0 cls=0.17366, 1 cls=0.25277, 2 cls=0.35323, bce=0.07700, dice=0.84761, loss=0.24122]\n"
     ]
    },
    {
     "name": "stdout",
     "output_type": "stream",
     "text": [
      "loss: 0.17646 | bce: 0.04171 | dice: 0.86854 | 0 cls: 0.11820 | 1 cls: 0.17059 | 2 cls: 0.29909\n"
     ]
    },
    {
     "name": "stderr",
     "output_type": "stream",
     "text": [
      "Epoch 460, lr 3.754234313964844e-05: 100% 43/43 [00:13<00:00,  3.19it/s, 0 cls=0.18052, 1 cls=0.25789, 2 cls=0.36112, bce=0.07852, dice=0.84348, loss=0.24759]\n"
     ]
    },
    {
     "name": "stdout",
     "output_type": "stream",
     "text": [
      "loss: 0.17366 | bce: 0.04257 | dice: 0.87172 | 0 cls: 0.11609 | 1 cls: 0.16858 | 2 cls: 0.29396\n"
     ]
    },
    {
     "name": "stderr",
     "output_type": "stream",
     "text": [
      "Epoch 461, lr 3.754234313964844e-05: 100% 43/43 [00:12<00:00,  3.45it/s, 0 cls=0.17571, 1 cls=0.25637, 2 cls=0.35792, bce=0.07836, dice=0.84603, loss=0.24442]\n"
     ]
    },
    {
     "name": "stdout",
     "output_type": "stream",
     "text": [
      "loss: 0.17739 | bce: 0.04301 | dice: 0.86905 | 0 cls: 0.11734 | 1 cls: 0.17384 | 2 cls: 0.29964\n"
     ]
    },
    {
     "name": "stderr",
     "output_type": "stream",
     "text": [
      "Epoch 462, lr 3.754234313964844e-05: 100% 43/43 [00:12<00:00,  3.42it/s, 0 cls=0.17428, 1 cls=0.25299, 2 cls=0.35352, bce=0.07683, dice=0.84708, loss=0.24161]\n"
     ]
    },
    {
     "name": "stdout",
     "output_type": "stream",
     "text": [
      "loss: 0.17438 | bce: 0.04209 | dice: 0.87078 | 0 cls: 0.11689 | 1 cls: 0.16888 | 2 cls: 0.29511\n"
     ]
    },
    {
     "name": "stderr",
     "output_type": "stream",
     "text": [
      "Epoch 463, lr 3.754234313964844e-05: 100% 43/43 [00:12<00:00,  3.45it/s, 0 cls=0.17238, 1 cls=0.25168, 2 cls=0.35390, bce=0.07676, dice=0.84786, loss=0.24041]\n"
     ]
    },
    {
     "name": "stdout",
     "output_type": "stream",
     "text": [
      "loss: 0.17737 | bce: 0.04338 | dice: 0.86940 | 0 cls: 0.11725 | 1 cls: 0.17401 | 2 cls: 0.29959\n"
     ]
    },
    {
     "name": "stderr",
     "output_type": "stream",
     "text": [
      "Epoch 464, lr 3.754234313964844e-05: 100% 43/43 [00:12<00:00,  3.45it/s, 0 cls=0.17807, 1 cls=0.25766, 2 cls=0.36056, bce=0.07852, dice=0.84429, loss=0.24640]\n"
     ]
    },
    {
     "name": "stdout",
     "output_type": "stream",
     "text": [
      "loss: 0.17502 | bce: 0.04150 | dice: 0.86965 | 0 cls: 0.11722 | 1 cls: 0.16952 | 2 cls: 0.29604\n"
     ]
    },
    {
     "name": "stderr",
     "output_type": "stream",
     "text": [
      "Epoch 465, lr 3.754234313964844e-05: 100% 43/43 [00:12<00:00,  3.44it/s, 0 cls=0.17189, 1 cls=0.25220, 2 cls=0.35400, bce=0.07693, dice=0.84809, loss=0.24044]\n"
     ]
    },
    {
     "name": "stdout",
     "output_type": "stream",
     "text": [
      "loss: 0.17436 | bce: 0.04217 | dice: 0.87080 | 0 cls: 0.11684 | 1 cls: 0.16879 | 2 cls: 0.29528\n"
     ]
    },
    {
     "name": "stderr",
     "output_type": "stream",
     "text": [
      "Epoch 466, lr 3.754234313964844e-05: 100% 43/43 [00:12<00:00,  3.44it/s, 0 cls=0.17673, 1 cls=0.25578, 2 cls=0.35765, bce=0.07818, dice=0.84580, loss=0.24454]\n"
     ]
    },
    {
     "name": "stdout",
     "output_type": "stream",
     "text": [
      "loss: 0.17583 | bce: 0.04256 | dice: 0.87009 | 0 cls: 0.11684 | 1 cls: 0.17181 | 2 cls: 0.29650\n"
     ]
    },
    {
     "name": "stderr",
     "output_type": "stream",
     "text": [
      "Epoch 467, lr 3.754234313964844e-05: 100% 43/43 [00:12<00:00,  3.45it/s, 0 cls=0.17348, 1 cls=0.25230, 2 cls=0.35504, bce=0.07681, dice=0.84710, loss=0.24132]\n"
     ]
    },
    {
     "name": "stdout",
     "output_type": "stream",
     "text": [
      "loss: 0.17403 | bce: 0.04203 | dice: 0.87083 | 0 cls: 0.11685 | 1 cls: 0.16819 | 2 cls: 0.29522\n"
     ]
    },
    {
     "name": "stderr",
     "output_type": "stream",
     "text": [
      "Epoch 468, lr 3.754234313964844e-05: 100% 43/43 [00:12<00:00,  3.46it/s, 0 cls=0.18067, 1 cls=0.26233, 2 cls=0.36573, bce=0.07916, dice=0.84176, loss=0.25035]\n"
     ]
    },
    {
     "name": "stdout",
     "output_type": "stream",
     "text": [
      "loss: 0.17371 | bce: 0.04163 | dice: 0.87062 | 0 cls: 0.11700 | 1 cls: 0.16739 | 2 cls: 0.29448\n"
     ]
    },
    {
     "name": "stderr",
     "output_type": "stream",
     "text": [
      "Epoch 469, lr 3.754234313964844e-05: 100% 43/43 [00:12<00:00,  3.46it/s, 0 cls=0.17904, 1 cls=0.25612, 2 cls=0.35898, bce=0.07867, dice=0.84487, loss=0.24586]\n"
     ]
    },
    {
     "name": "stdout",
     "output_type": "stream",
     "text": [
      "loss: 0.17464 | bce: 0.04193 | dice: 0.87020 | 0 cls: 0.11716 | 1 cls: 0.16888 | 2 cls: 0.29556\n"
     ]
    },
    {
     "name": "stderr",
     "output_type": "stream",
     "text": [
      "Epoch 470, lr 3.754234313964844e-05: 100% 43/43 [00:12<00:00,  3.44it/s, 0 cls=0.17780, 1 cls=0.25899, 2 cls=0.36127, bce=0.07844, dice=0.84394, loss=0.24697]\n"
     ]
    },
    {
     "name": "stdout",
     "output_type": "stream",
     "text": [
      "loss: 0.17357 | bce: 0.04152 | dice: 0.87087 | 0 cls: 0.11621 | 1 cls: 0.16816 | 2 cls: 0.29397\n"
     ]
    },
    {
     "name": "stderr",
     "output_type": "stream",
     "text": [
      "Epoch 471, lr 3.754234313964844e-05: 100% 43/43 [00:12<00:00,  3.44it/s, 0 cls=0.17877, 1 cls=0.25706, 2 cls=0.35942, bce=0.07860, dice=0.84441, loss=0.24622]\n"
     ]
    },
    {
     "name": "stdout",
     "output_type": "stream",
     "text": [
      "loss: 0.17571 | bce: 0.04195 | dice: 0.86940 | 0 cls: 0.11759 | 1 cls: 0.17028 | 2 cls: 0.29756\n"
     ]
    },
    {
     "name": "stderr",
     "output_type": "stream",
     "text": [
      "Epoch 472, lr 3.754234313964844e-05: 100% 43/43 [00:12<00:00,  3.36it/s, 0 cls=0.17827, 1 cls=0.25762, 2 cls=0.35959, bce=0.07802, dice=0.84429, loss=0.24628]\n"
     ]
    },
    {
     "name": "stdout",
     "output_type": "stream",
     "text": [
      "loss: 0.17883 | bce: 0.04409 | dice: 0.86895 | 0 cls: 0.11786 | 1 cls: 0.17597 | 2 cls: 0.30150\n"
     ]
    },
    {
     "name": "stderr",
     "output_type": "stream",
     "text": [
      "Epoch 473, lr 3.754234313964844e-05: 100% 43/43 [00:12<00:00,  3.45it/s, 0 cls=0.17589, 1 cls=0.25922, 2 cls=0.36143, bce=0.07788, dice=0.84420, loss=0.24633]\n"
     ]
    },
    {
     "name": "stdout",
     "output_type": "stream",
     "text": [
      "loss: 0.17340 | bce: 0.04180 | dice: 0.87141 | 0 cls: 0.11645 | 1 cls: 0.16772 | 2 cls: 0.29359\n"
     ]
    },
    {
     "name": "stderr",
     "output_type": "stream",
     "text": [
      "Epoch 474, lr 3.754234313964844e-05: 100% 43/43 [00:12<00:00,  3.44it/s, 0 cls=0.17818, 1 cls=0.25546, 2 cls=0.35832, bce=0.07837, dice=0.84518, loss=0.24512]\n"
     ]
    },
    {
     "name": "stdout",
     "output_type": "stream",
     "text": [
      "loss: 0.17445 | bce: 0.04214 | dice: 0.87080 | 0 cls: 0.11662 | 1 cls: 0.16927 | 2 cls: 0.29498\n"
     ]
    },
    {
     "name": "stderr",
     "output_type": "stream",
     "text": [
      "Epoch 475, lr 3.754234313964844e-05: 100% 43/43 [00:12<00:00,  3.44it/s, 0 cls=0.17301, 1 cls=0.25375, 2 cls=0.35382, bce=0.07713, dice=0.84745, loss=0.24147]\n"
     ]
    },
    {
     "name": "stdout",
     "output_type": "stream",
     "text": [
      "loss: 0.17491 | bce: 0.04183 | dice: 0.87015 | 0 cls: 0.11677 | 1 cls: 0.16986 | 2 cls: 0.29577\n"
     ]
    },
    {
     "name": "stderr",
     "output_type": "stream",
     "text": [
      "Epoch 476, lr 3.754234313964844e-05: 100% 43/43 [00:12<00:00,  3.43it/s, 0 cls=0.17350, 1 cls=0.25142, 2 cls=0.35462, bce=0.07716, dice=0.84759, loss=0.24089]\n"
     ]
    },
    {
     "name": "stdout",
     "output_type": "stream",
     "text": [
      "loss: 0.17635 | bce: 0.04243 | dice: 0.86956 | 0 cls: 0.11713 | 1 cls: 0.17245 | 2 cls: 0.29749\n"
     ]
    },
    {
     "name": "stderr",
     "output_type": "stream",
     "text": [
      "Epoch 477, lr 3.754234313964844e-05: 100% 43/43 [00:12<00:00,  3.45it/s, 0 cls=0.17234, 1 cls=0.25461, 2 cls=0.35274, bce=0.07646, dice=0.84735, loss=0.24133]\n"
     ]
    },
    {
     "name": "stdout",
     "output_type": "stream",
     "text": [
      "loss: 0.17438 | bce: 0.04213 | dice: 0.87045 | 0 cls: 0.11759 | 1 cls: 0.16769 | 2 cls: 0.29612\n"
     ]
    },
    {
     "name": "stderr",
     "output_type": "stream",
     "text": [
      "Epoch 478, lr 3.754234313964844e-05: 100% 43/43 [00:12<00:00,  3.45it/s, 0 cls=0.17267, 1 cls=0.25503, 2 cls=0.35514, bce=0.07772, dice=0.84761, loss=0.24211]\n"
     ]
    },
    {
     "name": "stdout",
     "output_type": "stream",
     "text": [
      "loss: 0.17473 | bce: 0.04235 | dice: 0.87057 | 0 cls: 0.11718 | 1 cls: 0.16914 | 2 cls: 0.29594\n"
     ]
    },
    {
     "name": "stderr",
     "output_type": "stream",
     "text": [
      "Epoch 479, lr 3.754234313964844e-05: 100% 43/43 [00:12<00:00,  3.43it/s, 0 cls=0.17353, 1 cls=0.25317, 2 cls=0.35426, bce=0.07721, dice=0.84745, loss=0.24153]\n"
     ]
    },
    {
     "name": "stdout",
     "output_type": "stream",
     "text": [
      "loss: 0.17599 | bce: 0.04152 | dice: 0.86885 | 0 cls: 0.11780 | 1 cls: 0.17054 | 2 cls: 0.29771\n"
     ]
    },
    {
     "name": "stderr",
     "output_type": "stream",
     "text": [
      "Epoch 480, lr 3.754234313964844e-05: 100% 43/43 [00:12<00:00,  3.45it/s, 0 cls=0.18126, 1 cls=0.25814, 2 cls=0.36404, bce=0.07924, dice=0.84271, loss=0.24857]\n"
     ]
    },
    {
     "name": "stdout",
     "output_type": "stream",
     "text": [
      "loss: 0.17496 | bce: 0.04139 | dice: 0.86932 | 0 cls: 0.11780 | 1 cls: 0.16857 | 2 cls: 0.29650\n"
     ]
    },
    {
     "name": "stderr",
     "output_type": "stream",
     "text": [
      "Epoch 481, lr 3.754234313964844e-05: 100% 43/43 [00:12<00:00,  3.43it/s, 0 cls=0.17581, 1 cls=0.25688, 2 cls=0.35807, bce=0.07844, dice=0.84587, loss=0.24469]\n"
     ]
    },
    {
     "name": "stdout",
     "output_type": "stream",
     "text": [
      "loss: 0.17467 | bce: 0.04085 | dice: 0.86901 | 0 cls: 0.11804 | 1 cls: 0.16769 | 2 cls: 0.29666\n"
     ]
    },
    {
     "name": "stderr",
     "output_type": "stream",
     "text": [
      "Epoch 482, lr 3.754234313964844e-05: 100% 43/43 [00:12<00:00,  3.45it/s, 0 cls=0.17518, 1 cls=0.25514, 2 cls=0.35623, bce=0.07745, dice=0.84605, loss=0.24337]\n"
     ]
    },
    {
     "name": "stdout",
     "output_type": "stream",
     "text": [
      "loss: 0.17420 | bce: 0.04118 | dice: 0.87000 | 0 cls: 0.11730 | 1 cls: 0.16775 | 2 cls: 0.29521\n"
     ]
    },
    {
     "name": "stderr",
     "output_type": "stream",
     "text": [
      "Epoch 483, lr 3.754234313964844e-05: 100% 43/43 [00:12<00:00,  3.44it/s, 0 cls=0.17390, 1 cls=0.25287, 2 cls=0.35186, bce=0.07675, dice=0.84780, loss=0.24108]\n"
     ]
    },
    {
     "name": "stdout",
     "output_type": "stream",
     "text": [
      "loss: 0.17789 | bce: 0.04355 | dice: 0.86934 | 0 cls: 0.11743 | 1 cls: 0.17487 | 2 cls: 0.29962\n"
     ]
    },
    {
     "name": "stderr",
     "output_type": "stream",
     "text": [
      "Epoch 484, lr 3.754234313964844e-05: 100% 43/43 [00:12<00:00,  3.45it/s, 0 cls=0.18170, 1 cls=0.25807, 2 cls=0.35999, bce=0.07898, dice=0.84353, loss=0.24790]\n"
     ]
    },
    {
     "name": "stdout",
     "output_type": "stream",
     "text": [
      "loss: 0.17530 | bce: 0.04168 | dice: 0.86935 | 0 cls: 0.11845 | 1 cls: 0.16845 | 2 cls: 0.29734\n"
     ]
    },
    {
     "name": "stderr",
     "output_type": "stream",
     "text": [
      "Epoch 485, lr 3.754234313964844e-05: 100% 43/43 [00:12<00:00,  3.45it/s, 0 cls=0.17312, 1 cls=0.25420, 2 cls=0.35595, bce=0.07757, dice=0.84731, loss=0.24212]\n"
     ]
    },
    {
     "name": "stdout",
     "output_type": "stream",
     "text": [
      "loss: 0.17459 | bce: 0.04172 | dice: 0.86988 | 0 cls: 0.11815 | 1 cls: 0.16744 | 2 cls: 0.29614\n"
     ]
    },
    {
     "name": "stderr",
     "output_type": "stream",
     "text": [
      "Epoch 486, lr 3.754234313964844e-05: 100% 43/43 [00:12<00:00,  3.44it/s, 0 cls=0.17764, 1 cls=0.25620, 2 cls=0.35822, bce=0.07791, dice=0.84505, loss=0.24518]\n"
     ]
    },
    {
     "name": "stdout",
     "output_type": "stream",
     "text": [
      "loss: 0.17440 | bce: 0.04273 | dice: 0.87152 | 0 cls: 0.11640 | 1 cls: 0.16965 | 2 cls: 0.29412\n"
     ]
    },
    {
     "name": "stderr",
     "output_type": "stream",
     "text": [
      "Epoch 487, lr 3.754234313964844e-05: 100% 43/43 [00:12<00:00,  3.45it/s, 0 cls=0.17315, 1 cls=0.25555, 2 cls=0.35668, bce=0.07710, dice=0.84631, loss=0.24281]\n"
     ]
    },
    {
     "name": "stdout",
     "output_type": "stream",
     "text": [
      "loss: 0.17532 | bce: 0.04188 | dice: 0.86964 | 0 cls: 0.11747 | 1 cls: 0.16942 | 2 cls: 0.29698\n"
     ]
    },
    {
     "name": "stderr",
     "output_type": "stream",
     "text": [
      "Epoch 488, lr 3.754234313964844e-05: 100% 43/43 [00:12<00:00,  3.45it/s, 0 cls=0.17281, 1 cls=0.25354, 2 cls=0.35423, bce=0.07708, dice=0.84752, loss=0.24139]\n"
     ]
    },
    {
     "name": "stdout",
     "output_type": "stream",
     "text": [
      "loss: 0.17484 | bce: 0.04280 | dice: 0.87101 | 0 cls: 0.11694 | 1 cls: 0.16916 | 2 cls: 0.29613\n"
     ]
    },
    {
     "name": "stderr",
     "output_type": "stream",
     "text": [
      "Epoch 489, lr 3.754234313964844e-05: 100% 43/43 [00:12<00:00,  3.44it/s, 0 cls=0.17313, 1 cls=0.25245, 2 cls=0.35100, bce=0.07637, dice=0.84773, loss=0.24043]\n"
     ]
    },
    {
     "name": "stdout",
     "output_type": "stream",
     "text": [
      "loss: 0.17545 | bce: 0.04272 | dice: 0.87040 | 0 cls: 0.11688 | 1 cls: 0.17058 | 2 cls: 0.29672\n"
     ]
    },
    {
     "name": "stderr",
     "output_type": "stream",
     "text": [
      "Epoch 490, lr 0.0003874204890000001: 100% 43/43 [00:12<00:00,  3.46it/s, 0 cls=0.18943, 1 cls=0.27411, 2 cls=0.37868, bce=0.08337, dice=0.83655, loss=0.26115]\n"
     ]
    },
    {
     "name": "stdout",
     "output_type": "stream",
     "text": [
      "loss: 0.19020 | bce: 0.04516 | dice: 0.85953 | 0 cls: 0.12737 | 1 cls: 0.18706 | 2 cls: 0.31627\n"
     ]
    },
    {
     "name": "stderr",
     "output_type": "stream",
     "text": [
      "Epoch 491, lr 0.0003874204890000001: 100% 43/43 [00:12<00:00,  3.46it/s, 0 cls=0.20013, 1 cls=0.27444, 2 cls=0.38531, bce=0.08762, dice=0.83451, loss=0.26689]\n"
     ]
    },
    {
     "name": "stdout",
     "output_type": "stream",
     "text": [
      "loss: 0.17749 | bce: 0.03860 | dice: 0.86514 | 0 cls: 0.11957 | 1 cls: 0.17025 | 2 cls: 0.30032\n"
     ]
    },
    {
     "name": "stderr",
     "output_type": "stream",
     "text": [
      "Epoch 492, lr 0.00011622614670000002: 100% 43/43 [00:12<00:00,  3.44it/s, 0 cls=0.18430, 1 cls=0.26263, 2 cls=0.36659, bce=0.08036, dice=0.84129, loss=0.25209]\n"
     ]
    },
    {
     "name": "stdout",
     "output_type": "stream",
     "text": [
      "loss: 0.17428 | bce: 0.04083 | dice: 0.86937 | 0 cls: 0.11712 | 1 cls: 0.16824 | 2 cls: 0.29562\n"
     ]
    },
    {
     "name": "stderr",
     "output_type": "stream",
     "text": [
      "Epoch 493, lr 0.00011622614670000002: 100% 43/43 [00:12<00:00,  3.45it/s, 0 cls=0.17947, 1 cls=0.26200, 2 cls=0.36550, bce=0.07991, dice=0.84299, loss=0.24968]\n"
     ]
    },
    {
     "name": "stdout",
     "output_type": "stream",
     "text": [
      "loss: 0.17534 | bce: 0.04088 | dice: 0.86870 | 0 cls: 0.11791 | 1 cls: 0.16905 | 2 cls: 0.29746\n"
     ]
    },
    {
     "name": "stderr",
     "output_type": "stream",
     "text": [
      "Epoch 494, lr 3.486784401000001e-05: 100% 43/43 [00:12<00:00,  3.45it/s, 0 cls=0.17711, 1 cls=0.25715, 2 cls=0.35640, bce=0.07794, dice=0.84552, loss=0.24498]\n"
     ]
    },
    {
     "name": "stdout",
     "output_type": "stream",
     "text": [
      "loss: 0.17624 | bce: 0.04246 | dice: 0.86950 | 0 cls: 0.11772 | 1 cls: 0.17118 | 2 cls: 0.29801\n"
     ]
    },
    {
     "name": "stderr",
     "output_type": "stream",
     "text": [
      "Epoch 495, lr 0.0003874204890000001: 100% 43/43 [00:12<00:00,  3.43it/s, 0 cls=0.19167, 1 cls=0.27211, 2 cls=0.37806, bce=0.08384, dice=0.83666, loss=0.26113]\n"
     ]
    },
    {
     "name": "stdout",
     "output_type": "stream",
     "text": [
      "loss: 0.17845 | bce: 0.04666 | dice: 0.87081 | 0 cls: 0.12070 | 1 cls: 0.17163 | 2 cls: 0.30162\n"
     ]
    },
    {
     "name": "stderr",
     "output_type": "stream",
     "text": [
      "Epoch 496, lr 0.0003874204890000001: 100% 43/43 [00:12<00:00,  3.44it/s, 0 cls=0.18807, 1 cls=0.26320, 2 cls=0.37226, bce=0.08374, dice=0.84105, loss=0.25496]\n"
     ]
    },
    {
     "name": "stdout",
     "output_type": "stream",
     "text": [
      "loss: 0.17914 | bce: 0.04429 | dice: 0.86928 | 0 cls: 0.12074 | 1 cls: 0.17335 | 2 cls: 0.29877\n"
     ]
    },
    {
     "name": "stderr",
     "output_type": "stream",
     "text": [
      "Epoch 497, lr 0.00011622614670000002: 100% 43/43 [00:12<00:00,  3.45it/s, 0 cls=0.18092, 1 cls=0.26193, 2 cls=0.36479, bce=0.07891, dice=0.84178, loss=0.25010]\n"
     ]
    },
    {
     "name": "stdout",
     "output_type": "stream",
     "text": [
      "loss: 0.17558 | bce: 0.04232 | dice: 0.87066 | 0 cls: 0.11665 | 1 cls: 0.17108 | 2 cls: 0.29504\n"
     ]
    },
    {
     "name": "stderr",
     "output_type": "stream",
     "text": [
      "Epoch 498, lr 0.00011622614670000002: 100% 43/43 [00:14<00:00,  3.05it/s, 0 cls=0.17918, 1 cls=0.25852, 2 cls=0.36202, bce=0.07893, dice=0.84386, loss=0.24748]\n"
     ]
    },
    {
     "name": "stdout",
     "output_type": "stream",
     "text": [
      "loss: 0.17674 | bce: 0.04121 | dice: 0.86848 | 0 cls: 0.11722 | 1 cls: 0.17247 | 2 cls: 0.29734\n"
     ]
    },
    {
     "name": "stderr",
     "output_type": "stream",
     "text": [
      "Epoch 499, lr 3.486784401000001e-05: 100% 43/43 [00:12<00:00,  3.47it/s, 0 cls=0.17589, 1 cls=0.25827, 2 cls=0.35911, bce=0.07802, dice=0.84504, loss=0.24549]\n"
     ]
    },
    {
     "name": "stdout",
     "output_type": "stream",
     "text": [
      "loss: 0.17461 | bce: 0.04233 | dice: 0.87090 | 0 cls: 0.11713 | 1 cls: 0.16855 | 2 cls: 0.29468\n"
     ]
    },
    {
     "name": "stderr",
     "output_type": "stream",
     "text": [
      "Epoch 500, lr 2.8156757354736328e-05: 100% 43/43 [00:12<00:00,  3.44it/s, 0 cls=0.18116, 1 cls=0.26220, 2 cls=0.36261, bce=0.07967, dice=0.84298, loss=0.24986]\n"
     ]
    },
    {
     "name": "stdout",
     "output_type": "stream",
     "text": [
      "loss: 0.17504 | bce: 0.04203 | dice: 0.87036 | 0 cls: 0.11712 | 1 cls: 0.16942 | 2 cls: 0.29512\n"
     ]
    },
    {
     "name": "stderr",
     "output_type": "stream",
     "text": [
      "Epoch 501, lr 2.8156757354736328e-05: 100% 43/43 [00:12<00:00,  3.42it/s, 0 cls=0.17752, 1 cls=0.25247, 2 cls=0.35609, bce=0.07899, dice=0.84715, loss=0.24321]\n"
     ]
    },
    {
     "name": "stdout",
     "output_type": "stream",
     "text": [
      "loss: 0.17647 | bce: 0.04164 | dice: 0.86896 | 0 cls: 0.11761 | 1 cls: 0.17192 | 2 cls: 0.29714\n"
     ]
    },
    {
     "name": "stderr",
     "output_type": "stream",
     "text": [
      "Epoch 502, lr 2.8156757354736328e-05: 100% 43/43 [00:12<00:00,  3.43it/s, 0 cls=0.17379, 1 cls=0.25324, 2 cls=0.35384, bce=0.07669, dice=0.84696, loss=0.24158]\n"
     ]
    },
    {
     "name": "stdout",
     "output_type": "stream",
     "text": [
      "loss: 0.17442 | bce: 0.04174 | dice: 0.87075 | 0 cls: 0.11662 | 1 cls: 0.16907 | 2 cls: 0.29437\n"
     ]
    },
    {
     "name": "stderr",
     "output_type": "stream",
     "text": [
      "Epoch 503, lr 2.8156757354736328e-05: 100% 43/43 [00:12<00:00,  3.44it/s, 0 cls=0.17563, 1 cls=0.25559, 2 cls=0.35613, bce=0.07804, dice=0.84631, loss=0.24371]\n"
     ]
    },
    {
     "name": "stdout",
     "output_type": "stream",
     "text": [
      "loss: 0.17365 | bce: 0.04220 | dice: 0.87171 | 0 cls: 0.11656 | 1 cls: 0.16784 | 2 cls: 0.29320\n"
     ]
    },
    {
     "name": "stderr",
     "output_type": "stream",
     "text": [
      "Epoch 504, lr 2.8156757354736328e-05: 100% 43/43 [00:12<00:00,  3.45it/s, 0 cls=0.17156, 1 cls=0.25280, 2 cls=0.35274, bce=0.07662, dice=0.84824, loss=0.24029]\n"
     ]
    },
    {
     "name": "stdout",
     "output_type": "stream",
     "text": [
      "loss: 0.17432 | bce: 0.04222 | dice: 0.87104 | 0 cls: 0.11660 | 1 cls: 0.16900 | 2 cls: 0.29439\n"
     ]
    },
    {
     "name": "stderr",
     "output_type": "stream",
     "text": [
      "Epoch 505, lr 2.8156757354736328e-05: 100% 43/43 [00:12<00:00,  3.42it/s, 0 cls=0.17688, 1 cls=0.25700, 2 cls=0.35987, bce=0.07857, dice=0.84519, loss=0.24553]\n"
     ]
    },
    {
     "name": "stdout",
     "output_type": "stream",
     "text": [
      "loss: 0.17524 | bce: 0.04201 | dice: 0.87018 | 0 cls: 0.11712 | 1 cls: 0.16999 | 2 cls: 0.29582\n"
     ]
    },
    {
     "name": "stderr",
     "output_type": "stream",
     "text": [
      "Epoch 506, lr 2.8156757354736328e-05: 100% 43/43 [00:12<00:00,  3.46it/s, 0 cls=0.17428, 1 cls=0.25369, 2 cls=0.35453, bce=0.07681, dice=0.84656, loss=0.24209]\n"
     ]
    },
    {
     "name": "stdout",
     "output_type": "stream",
     "text": [
      "loss: 0.17612 | bce: 0.04188 | dice: 0.86926 | 0 cls: 0.11765 | 1 cls: 0.17105 | 2 cls: 0.29706\n"
     ]
    },
    {
     "name": "stderr",
     "output_type": "stream",
     "text": [
      "Epoch 507, lr 2.8156757354736328e-05: 100% 43/43 [00:12<00:00,  3.42it/s, 0 cls=0.17222, 1 cls=0.25515, 2 cls=0.35376, bce=0.07745, dice=0.84793, loss=0.24170]\n"
     ]
    },
    {
     "name": "stdout",
     "output_type": "stream",
     "text": [
      "loss: 0.17436 | bce: 0.04217 | dice: 0.87102 | 0 cls: 0.11662 | 1 cls: 0.16927 | 2 cls: 0.29443\n"
     ]
    },
    {
     "name": "stderr",
     "output_type": "stream",
     "text": [
      "Epoch 508, lr 2.8156757354736328e-05: 100% 43/43 [00:12<00:00,  3.46it/s, 0 cls=0.17975, 1 cls=0.25818, 2 cls=0.36179, bce=0.07935, dice=0.84399, loss=0.24753]\n"
     ]
    },
    {
     "name": "stdout",
     "output_type": "stream",
     "text": [
      "loss: 0.17506 | bce: 0.04163 | dice: 0.86985 | 0 cls: 0.11748 | 1 cls: 0.16912 | 2 cls: 0.29594\n"
     ]
    },
    {
     "name": "stderr",
     "output_type": "stream",
     "text": [
      "Epoch 509, lr 2.8156757354736328e-05: 100% 43/43 [00:12<00:00,  3.46it/s, 0 cls=0.17273, 1 cls=0.25363, 2 cls=0.35423, bce=0.07672, dice=0.84715, loss=0.24139]\n"
     ]
    },
    {
     "name": "stdout",
     "output_type": "stream",
     "text": [
      "loss: 0.17604 | bce: 0.04281 | dice: 0.87013 | 0 cls: 0.11710 | 1 cls: 0.17148 | 2 cls: 0.29723\n"
     ]
    },
    {
     "name": "stderr",
     "output_type": "stream",
     "text": [
      "Epoch 510, lr 2.8156757354736328e-05: 100% 43/43 [00:12<00:00,  3.42it/s, 0 cls=0.17322, 1 cls=0.25408, 2 cls=0.35304, bce=0.07676, dice=0.84739, loss=0.24153]\n"
     ]
    },
    {
     "name": "stdout",
     "output_type": "stream",
     "text": [
      "loss: 0.17607 | bce: 0.04247 | dice: 0.86988 | 0 cls: 0.11708 | 1 cls: 0.17165 | 2 cls: 0.29717\n"
     ]
    },
    {
     "name": "stderr",
     "output_type": "stream",
     "text": [
      "Epoch 511, lr 2.8156757354736328e-05: 100% 43/43 [00:12<00:00,  3.41it/s, 0 cls=0.17377, 1 cls=0.25298, 2 cls=0.35387, bce=0.07684, dice=0.84720, loss=0.24147]\n"
     ]
    },
    {
     "name": "stdout",
     "output_type": "stream",
     "text": [
      "loss: 0.17450 | bce: 0.04171 | dice: 0.87029 | 0 cls: 0.11728 | 1 cls: 0.16842 | 2 cls: 0.29506\n"
     ]
    },
    {
     "name": "stderr",
     "output_type": "stream",
     "text": [
      "Epoch 512, lr 2.8156757354736328e-05: 100% 43/43 [00:13<00:00,  3.25it/s, 0 cls=0.17905, 1 cls=0.25701, 2 cls=0.36008, bce=0.07850, dice=0.84438, loss=0.24644]\n"
     ]
    },
    {
     "name": "stdout",
     "output_type": "stream",
     "text": [
      "loss: 0.17722 | bce: 0.04254 | dice: 0.86905 | 0 cls: 0.11801 | 1 cls: 0.17280 | 2 cls: 0.29835\n"
     ]
    },
    {
     "name": "stderr",
     "output_type": "stream",
     "text": [
      "Epoch 513, lr 2.8156757354736328e-05: 100% 43/43 [00:12<00:00,  3.44it/s, 0 cls=0.17608, 1 cls=0.25830, 2 cls=0.35893, bce=0.07817, dice=0.84512, loss=0.24554]\n"
     ]
    },
    {
     "name": "stdout",
     "output_type": "stream",
     "text": [
      "loss: 0.17743 | bce: 0.04328 | dice: 0.86924 | 0 cls: 0.11848 | 1 cls: 0.17224 | 2 cls: 0.29979\n"
     ]
    },
    {
     "name": "stderr",
     "output_type": "stream",
     "text": [
      "Epoch 514, lr 2.8156757354736328e-05: 100% 43/43 [00:12<00:00,  3.45it/s, 0 cls=0.17694, 1 cls=0.25400, 2 cls=0.35665, bce=0.07807, dice=0.84606, loss=0.24371]\n"
     ]
    },
    {
     "name": "stdout",
     "output_type": "stream",
     "text": [
      "loss: 0.17408 | bce: 0.04211 | dice: 0.87116 | 0 cls: 0.11655 | 1 cls: 0.16856 | 2 cls: 0.29435\n"
     ]
    },
    {
     "name": "stderr",
     "output_type": "stream",
     "text": [
      "Epoch 515, lr 2.8156757354736328e-05: 100% 43/43 [00:12<00:00,  3.46it/s, 0 cls=0.17444, 1 cls=0.25442, 2 cls=0.35575, bce=0.07869, dice=0.84775, loss=0.24270]\n"
     ]
    },
    {
     "name": "stdout",
     "output_type": "stream",
     "text": [
      "loss: 0.17536 | bce: 0.04260 | dice: 0.87053 | 0 cls: 0.11731 | 1 cls: 0.17005 | 2 cls: 0.29625\n"
     ]
    },
    {
     "name": "stderr",
     "output_type": "stream",
     "text": [
      "Epoch 516, lr 2.8156757354736328e-05: 100% 43/43 [00:12<00:00,  3.45it/s, 0 cls=0.17592, 1 cls=0.25503, 2 cls=0.35843, bce=0.07806, dice=0.84584, loss=0.24407]\n"
     ]
    },
    {
     "name": "stdout",
     "output_type": "stream",
     "text": [
      "loss: 0.17507 | bce: 0.04199 | dice: 0.87016 | 0 cls: 0.11718 | 1 cls: 0.16945 | 2 cls: 0.29589\n"
     ]
    },
    {
     "name": "stderr",
     "output_type": "stream",
     "text": [
      "Epoch 517, lr 2.8156757354736328e-05: 100% 43/43 [00:12<00:00,  3.45it/s, 0 cls=0.18058, 1 cls=0.25914, 2 cls=0.36400, bce=0.07979, dice=0.84342, loss=0.24869]\n"
     ]
    },
    {
     "name": "stdout",
     "output_type": "stream",
     "text": [
      "loss: 0.17410 | bce: 0.04171 | dice: 0.87078 | 0 cls: 0.11661 | 1 cls: 0.16828 | 2 cls: 0.29438\n"
     ]
    },
    {
     "name": "stderr",
     "output_type": "stream",
     "text": [
      "Epoch 518, lr 2.8156757354736328e-05: 100% 43/43 [00:12<00:00,  3.42it/s, 0 cls=0.17117, 1 cls=0.25122, 2 cls=0.35145, bce=0.07569, dice=0.84808, loss=0.23925]\n"
     ]
    },
    {
     "name": "stdout",
     "output_type": "stream",
     "text": [
      "loss: 0.17560 | bce: 0.04203 | dice: 0.86992 | 0 cls: 0.11710 | 1 cls: 0.17062 | 2 cls: 0.29636\n"
     ]
    },
    {
     "name": "stderr",
     "output_type": "stream",
     "text": [
      "Epoch 519, lr 2.8156757354736328e-05: 100% 43/43 [00:12<00:00,  3.44it/s, 0 cls=0.17594, 1 cls=0.25729, 2 cls=0.35774, bce=0.07844, dice=0.84597, loss=0.24484]\n"
     ]
    },
    {
     "name": "stdout",
     "output_type": "stream",
     "text": [
      "loss: 0.17392 | bce: 0.04182 | dice: 0.87115 | 0 cls: 0.11653 | 1 cls: 0.16799 | 2 cls: 0.29392\n"
     ]
    },
    {
     "name": "stderr",
     "output_type": "stream",
     "text": [
      "Epoch 520, lr 2.8156757354736328e-05: 100% 43/43 [00:12<00:00,  3.44it/s, 0 cls=0.17050, 1 cls=0.24967, 2 cls=0.35117, bce=0.07633, dice=0.84911, loss=0.23830]\n"
     ]
    },
    {
     "name": "stdout",
     "output_type": "stream",
     "text": [
      "loss: 0.17552 | bce: 0.04262 | dice: 0.87058 | 0 cls: 0.11680 | 1 cls: 0.17073 | 2 cls: 0.29603\n"
     ]
    },
    {
     "name": "stderr",
     "output_type": "stream",
     "text": [
      "Epoch 521, lr 2.8156757354736328e-05: 100% 43/43 [00:12<00:00,  3.43it/s, 0 cls=0.17391, 1 cls=0.25369, 2 cls=0.35514, bce=0.07743, dice=0.84713, loss=0.24207]\n"
     ]
    },
    {
     "name": "stdout",
     "output_type": "stream",
     "text": [
      "loss: 0.17481 | bce: 0.04182 | dice: 0.87019 | 0 cls: 0.11708 | 1 cls: 0.16920 | 2 cls: 0.29551\n"
     ]
    },
    {
     "name": "stderr",
     "output_type": "stream",
     "text": [
      "Epoch 522, lr 2.8156757354736328e-05: 100% 43/43 [00:12<00:00,  3.46it/s, 0 cls=0.17208, 1 cls=0.24977, 2 cls=0.35299, bce=0.07523, dice=0.84735, loss=0.23934]\n"
     ]
    },
    {
     "name": "stdout",
     "output_type": "stream",
     "text": [
      "loss: 0.17486 | bce: 0.04230 | dice: 0.87059 | 0 cls: 0.11698 | 1 cls: 0.16928 | 2 cls: 0.29559\n"
     ]
    },
    {
     "name": "stderr",
     "output_type": "stream",
     "text": [
      "Epoch 523, lr 2.8156757354736328e-05: 100% 43/43 [00:12<00:00,  3.45it/s, 0 cls=0.17132, 1 cls=0.25420, 2 cls=0.35305, bce=0.07750, dice=0.84853, loss=0.24082]\n"
     ]
    },
    {
     "name": "stdout",
     "output_type": "stream",
     "text": [
      "loss: 0.17674 | bce: 0.04190 | dice: 0.86862 | 0 cls: 0.11880 | 1 cls: 0.17047 | 2 cls: 0.29912\n"
     ]
    },
    {
     "name": "stderr",
     "output_type": "stream",
     "text": [
      "Epoch 524, lr 2.8156757354736328e-05: 100% 43/43 [00:12<00:00,  3.45it/s, 0 cls=0.17170, 1 cls=0.25156, 2 cls=0.35173, bce=0.07626, dice=0.84816, loss=0.23965]\n"
     ]
    },
    {
     "name": "stdout",
     "output_type": "stream",
     "text": [
      "loss: 0.17372 | bce: 0.04168 | dice: 0.87112 | 0 cls: 0.11628 | 1 cls: 0.16803 | 2 cls: 0.29374\n"
     ]
    },
    {
     "name": "stderr",
     "output_type": "stream",
     "text": [
      "Epoch 525, lr 2.8156757354736328e-05: 100% 43/43 [00:13<00:00,  3.30it/s, 0 cls=0.17327, 1 cls=0.25338, 2 cls=0.35582, bce=0.07722, dice=0.84712, loss=0.24182]\n"
     ]
    },
    {
     "name": "stdout",
     "output_type": "stream",
     "text": [
      "loss: 0.17535 | bce: 0.04118 | dice: 0.86922 | 0 cls: 0.11771 | 1 cls: 0.16937 | 2 cls: 0.29657\n"
     ]
    },
    {
     "name": "stderr",
     "output_type": "stream",
     "text": [
      "Epoch 526, lr 2.8156757354736328e-05: 100% 43/43 [00:12<00:00,  3.45it/s, 0 cls=0.17707, 1 cls=0.25492, 2 cls=0.35700, bce=0.07707, dice=0.84502, loss=0.24419]\n"
     ]
    },
    {
     "name": "stdout",
     "output_type": "stream",
     "text": [
      "loss: 0.17536 | bce: 0.04232 | dice: 0.87004 | 0 cls: 0.11757 | 1 cls: 0.16958 | 2 cls: 0.29690\n"
     ]
    },
    {
     "name": "stderr",
     "output_type": "stream",
     "text": [
      "Epoch 527, lr 2.8156757354736328e-05: 100% 43/43 [00:12<00:00,  3.45it/s, 0 cls=0.17714, 1 cls=0.25654, 2 cls=0.35817, bce=0.07882, dice=0.84589, loss=0.24511]\n"
     ]
    },
    {
     "name": "stdout",
     "output_type": "stream",
     "text": [
      "loss: 0.17571 | bce: 0.04183 | dice: 0.86943 | 0 cls: 0.11728 | 1 cls: 0.17066 | 2 cls: 0.29687\n"
     ]
    },
    {
     "name": "stderr",
     "output_type": "stream",
     "text": [
      "Epoch 528, lr 2.8156757354736328e-05: 100% 43/43 [00:12<00:00,  3.43it/s, 0 cls=0.17647, 1 cls=0.25511, 2 cls=0.35632, bce=0.07751, dice=0.84563, loss=0.24389]\n"
     ]
    },
    {
     "name": "stdout",
     "output_type": "stream",
     "text": [
      "loss: 0.17528 | bce: 0.04206 | dice: 0.86986 | 0 cls: 0.11830 | 1 cls: 0.16843 | 2 cls: 0.29703\n"
     ]
    },
    {
     "name": "stderr",
     "output_type": "stream",
     "text": [
      "Epoch 529, lr 2.8156757354736328e-05: 100% 43/43 [00:12<00:00,  3.45it/s, 0 cls=0.17313, 1 cls=0.25353, 2 cls=0.35655, bce=0.07739, dice=0.84695, loss=0.24198]\n"
     ]
    },
    {
     "name": "stdout",
     "output_type": "stream",
     "text": [
      "loss: 0.17459 | bce: 0.04221 | dice: 0.87068 | 0 cls: 0.11715 | 1 cls: 0.16870 | 2 cls: 0.29544\n"
     ]
    },
    {
     "name": "stderr",
     "output_type": "stream",
     "text": [
      "Epoch 530, lr 2.8156757354736328e-05: 100% 43/43 [00:12<00:00,  3.45it/s, 0 cls=0.18117, 1 cls=0.25773, 2 cls=0.35933, bce=0.07910, dice=0.84438, loss=0.24742]\n"
     ]
    },
    {
     "name": "stdout",
     "output_type": "stream",
     "text": [
      "loss: 0.17453 | bce: 0.04229 | dice: 0.87088 | 0 cls: 0.11696 | 1 cls: 0.16894 | 2 cls: 0.29508\n"
     ]
    },
    {
     "name": "stderr",
     "output_type": "stream",
     "text": [
      "Epoch 531, lr 2.8156757354736328e-05: 100% 43/43 [00:12<00:00,  3.41it/s, 0 cls=0.17235, 1 cls=0.25013, 2 cls=0.35258, bce=0.07694, dice=0.84853, loss=0.23951]\n"
     ]
    },
    {
     "name": "stdout",
     "output_type": "stream",
     "text": [
      "loss: 0.17615 | bce: 0.04166 | dice: 0.86899 | 0 cls: 0.11834 | 1 cls: 0.17047 | 2 cls: 0.29770\n"
     ]
    },
    {
     "name": "stderr",
     "output_type": "stream",
     "text": [
      "Epoch 532, lr 2.8156757354736328e-05: 100% 43/43 [00:12<00:00,  3.44it/s, 0 cls=0.17650, 1 cls=0.25555, 2 cls=0.35956, bce=0.07789, dice=0.84507, loss=0.24473]\n"
     ]
    },
    {
     "name": "stdout",
     "output_type": "stream",
     "text": [
      "loss: 0.17412 | bce: 0.04183 | dice: 0.87076 | 0 cls: 0.11701 | 1 cls: 0.16804 | 2 cls: 0.29463\n"
     ]
    },
    {
     "name": "stderr",
     "output_type": "stream",
     "text": [
      "Epoch 533, lr 2.8156757354736328e-05: 100% 43/43 [00:12<00:00,  3.43it/s, 0 cls=0.17547, 1 cls=0.25540, 2 cls=0.35552, bce=0.07708, dice=0.84570, loss=0.24345]\n"
     ]
    },
    {
     "name": "stdout",
     "output_type": "stream",
     "text": [
      "loss: 0.17465 | bce: 0.04178 | dice: 0.87032 | 0 cls: 0.11689 | 1 cls: 0.16934 | 2 cls: 0.29533\n"
     ]
    },
    {
     "name": "stderr",
     "output_type": "stream",
     "text": [
      "Epoch 534, lr 2.8156757354736328e-05: 100% 43/43 [00:12<00:00,  3.45it/s, 0 cls=0.17432, 1 cls=0.25327, 2 cls=0.35553, bce=0.07750, dice=0.84698, loss=0.24214]\n"
     ]
    },
    {
     "name": "stdout",
     "output_type": "stream",
     "text": [
      "loss: 0.17525 | bce: 0.04208 | dice: 0.86993 | 0 cls: 0.11788 | 1 cls: 0.16905 | 2 cls: 0.29675\n"
     ]
    },
    {
     "name": "stderr",
     "output_type": "stream",
     "text": [
      "Epoch 535, lr 2.8156757354736328e-05: 100% 43/43 [00:12<00:00,  3.45it/s, 0 cls=0.17422, 1 cls=0.25501, 2 cls=0.35467, bce=0.07763, dice=0.84703, loss=0.24263]\n"
     ]
    },
    {
     "name": "stdout",
     "output_type": "stream",
     "text": [
      "loss: 0.17728 | bce: 0.04222 | dice: 0.86838 | 0 cls: 0.11865 | 1 cls: 0.17167 | 2 cls: 0.29982\n"
     ]
    },
    {
     "name": "stderr",
     "output_type": "stream",
     "text": [
      "Epoch 536, lr 2.8156757354736328e-05: 100% 43/43 [00:12<00:00,  3.46it/s, 0 cls=0.18002, 1 cls=0.26264, 2 cls=0.36512, bce=0.07947, dice=0.84265, loss=0.25009]\n"
     ]
    },
    {
     "name": "stdout",
     "output_type": "stream",
     "text": [
      "loss: 0.17504 | bce: 0.04180 | dice: 0.86989 | 0 cls: 0.11743 | 1 cls: 0.16898 | 2 cls: 0.29621\n"
     ]
    },
    {
     "name": "stderr",
     "output_type": "stream",
     "text": [
      "Epoch 537, lr 2.8156757354736328e-05: 100% 43/43 [00:12<00:00,  3.44it/s, 0 cls=0.17158, 1 cls=0.24950, 2 cls=0.35017, bce=0.07658, dice=0.84940, loss=0.23846]\n"
     ]
    },
    {
     "name": "stdout",
     "output_type": "stream",
     "text": [
      "loss: 0.17481 | bce: 0.04168 | dice: 0.87000 | 0 cls: 0.11735 | 1 cls: 0.16884 | 2 cls: 0.29598\n"
     ]
    },
    {
     "name": "stderr",
     "output_type": "stream",
     "text": [
      "Epoch 538, lr 2.8156757354736328e-05: 100% 43/43 [00:12<00:00,  3.31it/s, 0 cls=0.17287, 1 cls=0.25208, 2 cls=0.35180, bce=0.07698, dice=0.84829, loss=0.24034]\n"
     ]
    },
    {
     "name": "stdout",
     "output_type": "stream",
     "text": [
      "loss: 0.17425 | bce: 0.04205 | dice: 0.87087 | 0 cls: 0.11666 | 1 cls: 0.16891 | 2 cls: 0.29464\n"
     ]
    },
    {
     "name": "stderr",
     "output_type": "stream",
     "text": [
      "Epoch 539, lr 2.8156757354736328e-05: 100% 43/43 [00:12<00:00,  3.45it/s, 0 cls=0.17405, 1 cls=0.25180, 2 cls=0.35025, bce=0.07586, dice=0.84740, loss=0.24039]\n"
     ]
    },
    {
     "name": "stdout",
     "output_type": "stream",
     "text": [
      "loss: 0.17632 | bce: 0.04235 | dice: 0.86935 | 0 cls: 0.11801 | 1 cls: 0.17092 | 2 cls: 0.29812\n"
     ]
    },
    {
     "name": "stderr",
     "output_type": "stream",
     "text": [
      "Epoch 540, lr 0.0003486784401000001: 100% 43/43 [00:12<00:00,  3.45it/s, 0 cls=0.18003, 1 cls=0.26153, 2 cls=0.36620, bce=0.08002, dice=0.84268, loss=0.24986]\n"
     ]
    },
    {
     "name": "stdout",
     "output_type": "stream",
     "text": [
      "loss: 0.17861 | bce: 0.04258 | dice: 0.86854 | 0 cls: 0.11735 | 1 cls: 0.17628 | 2 cls: 0.29919\n"
     ]
    },
    {
     "name": "stderr",
     "output_type": "stream",
     "text": [
      "Epoch 541, lr 0.0003486784401000001: 100% 43/43 [00:12<00:00,  3.45it/s, 0 cls=0.20013, 1 cls=0.27255, 2 cls=0.38324, bce=0.08630, dice=0.83444, loss=0.26572]\n"
     ]
    },
    {
     "name": "stdout",
     "output_type": "stream",
     "text": [
      "loss: 0.20220 | bce: 0.05033 | dice: 0.85326 | 0 cls: 0.13711 | 1 cls: 0.19941 | 2 cls: 0.33407\n"
     ]
    },
    {
     "name": "stderr",
     "output_type": "stream",
     "text": [
      "Epoch 542, lr 0.00010460353203000003: 100% 43/43 [00:12<00:00,  3.45it/s, 0 cls=0.18865, 1 cls=0.26735, 2 cls=0.37162, bce=0.08213, dice=0.83875, loss=0.25672]\n"
     ]
    },
    {
     "name": "stdout",
     "output_type": "stream",
     "text": [
      "loss: 0.17704 | bce: 0.04258 | dice: 0.86906 | 0 cls: 0.11812 | 1 cls: 0.17201 | 2 cls: 0.29812\n"
     ]
    },
    {
     "name": "stderr",
     "output_type": "stream",
     "text": [
      "Epoch 543, lr 0.00010460353203000003: 100% 43/43 [00:12<00:00,  3.45it/s, 0 cls=0.17756, 1 cls=0.25697, 2 cls=0.36053, bce=0.07944, dice=0.84545, loss=0.24592]\n"
     ]
    },
    {
     "name": "stdout",
     "output_type": "stream",
     "text": [
      "loss: 0.17655 | bce: 0.04344 | dice: 0.87062 | 0 cls: 0.11673 | 1 cls: 0.17291 | 2 cls: 0.29714\n"
     ]
    },
    {
     "name": "stderr",
     "output_type": "stream",
     "text": [
      "Epoch 544, lr 3.138105960900001e-05: 100% 43/43 [00:12<00:00,  3.43it/s, 0 cls=0.17654, 1 cls=0.25787, 2 cls=0.36013, bce=0.07861, dice=0.84515, loss=0.24579]\n"
     ]
    },
    {
     "name": "stdout",
     "output_type": "stream",
     "text": [
      "loss: 0.17736 | bce: 0.04287 | dice: 0.86886 | 0 cls: 0.11878 | 1 cls: 0.17150 | 2 cls: 0.30024\n"
     ]
    },
    {
     "name": "stderr",
     "output_type": "stream",
     "text": [
      "Epoch 545, lr 0.0003486784401000001: 100% 43/43 [00:12<00:00,  3.44it/s, 0 cls=0.17996, 1 cls=0.26182, 2 cls=0.36626, bce=0.07936, dice=0.84211, loss=0.24996]\n"
     ]
    },
    {
     "name": "stdout",
     "output_type": "stream",
     "text": [
      "loss: 0.18144 | bce: 0.04215 | dice: 0.86553 | 0 cls: 0.11914 | 1 cls: 0.17879 | 2 cls: 0.30425\n"
     ]
    },
    {
     "name": "stderr",
     "output_type": "stream",
     "text": [
      "Epoch 546, lr 0.0003486784401000001: 100% 43/43 [00:12<00:00,  3.44it/s, 0 cls=0.18676, 1 cls=0.26691, 2 cls=0.37248, bce=0.08349, dice=0.84056, loss=0.25597]\n"
     ]
    },
    {
     "name": "stdout",
     "output_type": "stream",
     "text": [
      "loss: 0.18400 | bce: 0.04509 | dice: 0.86491 | 0 cls: 0.12715 | 1 cls: 0.17208 | 2 cls: 0.30793\n"
     ]
    },
    {
     "name": "stderr",
     "output_type": "stream",
     "text": [
      "Epoch 547, lr 0.00010460353203000003: 100% 43/43 [00:12<00:00,  3.45it/s, 0 cls=0.18207, 1 cls=0.26149, 2 cls=0.36739, bce=0.07958, dice=0.84119, loss=0.25090]\n"
     ]
    },
    {
     "name": "stdout",
     "output_type": "stream",
     "text": [
      "loss: 0.17345 | bce: 0.04191 | dice: 0.87117 | 0 cls: 0.11670 | 1 cls: 0.16726 | 2 cls: 0.29397\n"
     ]
    },
    {
     "name": "stderr",
     "output_type": "stream",
     "text": [
      "Epoch 548, lr 0.00010460353203000003: 100% 43/43 [00:12<00:00,  3.45it/s, 0 cls=0.17572, 1 cls=0.25449, 2 cls=0.35554, bce=0.07724, dice=0.84592, loss=0.24319]\n"
     ]
    },
    {
     "name": "stdout",
     "output_type": "stream",
     "text": [
      "loss: 0.17344 | bce: 0.04239 | dice: 0.87199 | 0 cls: 0.11622 | 1 cls: 0.16791 | 2 cls: 0.29343\n"
     ]
    },
    {
     "name": "stderr",
     "output_type": "stream",
     "text": [
      "Epoch 549, lr 3.138105960900001e-05: 100% 43/43 [00:12<00:00,  3.44it/s, 0 cls=0.17892, 1 cls=0.25504, 2 cls=0.35917, bce=0.07919, dice=0.84553, loss=0.24542]\n"
     ]
    },
    {
     "name": "stdout",
     "output_type": "stream",
     "text": [
      "loss: 0.17676 | bce: 0.04285 | dice: 0.86970 | 0 cls: 0.11720 | 1 cls: 0.17306 | 2 cls: 0.29820\n"
     ]
    },
    {
     "name": "stderr",
     "output_type": "stream",
     "text": [
      "Epoch 550, lr 2.1117568016052245e-05: 100% 43/43 [00:12<00:00,  3.35it/s, 0 cls=0.17505, 1 cls=0.25264, 2 cls=0.35521, bce=0.07754, dice=0.84704, loss=0.24212]\n"
     ]
    },
    {
     "name": "stdout",
     "output_type": "stream",
     "text": [
      "loss: 0.17525 | bce: 0.04193 | dice: 0.87021 | 0 cls: 0.11624 | 1 cls: 0.17128 | 2 cls: 0.29582\n"
     ]
    },
    {
     "name": "stderr",
     "output_type": "stream",
     "text": [
      "Epoch 551, lr 2.1117568016052245e-05: 100% 43/43 [00:12<00:00,  3.44it/s, 0 cls=0.17418, 1 cls=0.25377, 2 cls=0.35386, bce=0.07725, dice=0.84732, loss=0.24195]\n"
     ]
    },
    {
     "name": "stdout",
     "output_type": "stream",
     "text": [
      "loss: 0.17837 | bce: 0.04284 | dice: 0.86832 | 0 cls: 0.11808 | 1 cls: 0.17494 | 2 cls: 0.30069\n"
     ]
    },
    {
     "name": "stderr",
     "output_type": "stream",
     "text": [
      "Epoch 552, lr 2.1117568016052245e-05: 100% 43/43 [00:12<00:00,  3.43it/s, 0 cls=0.17632, 1 cls=0.25669, 2 cls=0.35848, bce=0.07819, dice=0.84549, loss=0.24490]\n"
     ]
    },
    {
     "name": "stdout",
     "output_type": "stream",
     "text": [
      "loss: 0.17719 | bce: 0.04219 | dice: 0.86854 | 0 cls: 0.11827 | 1 cls: 0.17232 | 2 cls: 0.29962\n"
     ]
    },
    {
     "name": "stderr",
     "output_type": "stream",
     "text": [
      "Epoch 553, lr 2.1117568016052245e-05: 100% 43/43 [00:12<00:00,  3.44it/s, 0 cls=0.17442, 1 cls=0.25392, 2 cls=0.35429, bce=0.07740, dice=0.84709, loss=0.24219]\n"
     ]
    },
    {
     "name": "stdout",
     "output_type": "stream",
     "text": [
      "loss: 0.17567 | bce: 0.04225 | dice: 0.87001 | 0 cls: 0.11690 | 1 cls: 0.17116 | 2 cls: 0.29689\n"
     ]
    },
    {
     "name": "stderr",
     "output_type": "stream",
     "text": [
      "Epoch 554, lr 2.1117568016052245e-05: 100% 43/43 [00:12<00:00,  3.47it/s, 0 cls=0.17625, 1 cls=0.25372, 2 cls=0.35356, bce=0.07709, dice=0.84642, loss=0.24270]\n"
     ]
    },
    {
     "name": "stdout",
     "output_type": "stream",
     "text": [
      "loss: 0.17481 | bce: 0.04157 | dice: 0.87012 | 0 cls: 0.11666 | 1 cls: 0.16975 | 2 cls: 0.29542\n"
     ]
    },
    {
     "name": "stderr",
     "output_type": "stream",
     "text": [
      "Epoch 555, lr 2.1117568016052245e-05: 100% 43/43 [00:12<00:00,  3.45it/s, 0 cls=0.17548, 1 cls=0.25348, 2 cls=0.35541, bce=0.07713, dice=0.84622, loss=0.24267]\n"
     ]
    },
    {
     "name": "stdout",
     "output_type": "stream",
     "text": [
      "loss: 0.17497 | bce: 0.04215 | dice: 0.87048 | 0 cls: 0.11673 | 1 cls: 0.17031 | 2 cls: 0.29546\n"
     ]
    },
    {
     "name": "stderr",
     "output_type": "stream",
     "text": [
      "Epoch 556, lr 2.1117568016052245e-05: 100% 43/43 [00:12<00:00,  3.46it/s, 0 cls=0.17592, 1 cls=0.25350, 2 cls=0.35612, bce=0.07791, dice=0.84651, loss=0.24299]\n"
     ]
    },
    {
     "name": "stdout",
     "output_type": "stream",
     "text": [
      "loss: 0.17696 | bce: 0.04272 | dice: 0.86924 | 0 cls: 0.11734 | 1 cls: 0.17269 | 2 cls: 0.29904\n"
     ]
    },
    {
     "name": "stderr",
     "output_type": "stream",
     "text": [
      "Epoch 557, lr 2.1117568016052245e-05: 100% 43/43 [00:12<00:00,  3.46it/s, 0 cls=0.17469, 1 cls=0.25437, 2 cls=0.35734, bce=0.07736, dice=0.84606, loss=0.24309]\n"
     ]
    },
    {
     "name": "stdout",
     "output_type": "stream",
     "text": [
      "loss: 0.17624 | bce: 0.04219 | dice: 0.86940 | 0 cls: 0.11760 | 1 cls: 0.17135 | 2 cls: 0.29808\n"
     ]
    },
    {
     "name": "stderr",
     "output_type": "stream",
     "text": [
      "Epoch 558, lr 2.1117568016052245e-05: 100% 43/43 [00:12<00:00,  3.45it/s, 0 cls=0.18280, 1 cls=0.25983, 2 cls=0.36380, bce=0.07937, dice=0.84218, loss=0.24981]\n"
     ]
    },
    {
     "name": "stdout",
     "output_type": "stream",
     "text": [
      "loss: 0.17507 | bce: 0.04176 | dice: 0.86990 | 0 cls: 0.11696 | 1 cls: 0.16977 | 2 cls: 0.29640\n"
     ]
    },
    {
     "name": "stderr",
     "output_type": "stream",
     "text": [
      "Epoch 559, lr 2.1117568016052245e-05: 100% 43/43 [00:12<00:00,  3.46it/s, 0 cls=0.17414, 1 cls=0.25405, 2 cls=0.35601, bce=0.07706, dice=0.84640, loss=0.24248]\n"
     ]
    },
    {
     "name": "stdout",
     "output_type": "stream",
     "text": [
      "loss: 0.17768 | bce: 0.04222 | dice: 0.86809 | 0 cls: 0.11848 | 1 cls: 0.17295 | 2 cls: 0.30046\n"
     ]
    },
    {
     "name": "stderr",
     "output_type": "stream",
     "text": [
      "Epoch 560, lr 2.1117568016052245e-05: 100% 43/43 [00:12<00:00,  3.46it/s, 0 cls=0.17482, 1 cls=0.25577, 2 cls=0.35645, bce=0.07779, dice=0.84651, loss=0.24352]\n"
     ]
    },
    {
     "name": "stdout",
     "output_type": "stream",
     "text": [
      "loss: 0.17642 | bce: 0.04235 | dice: 0.86932 | 0 cls: 0.11773 | 1 cls: 0.17134 | 2 cls: 0.29848\n"
     ]
    },
    {
     "name": "stderr",
     "output_type": "stream",
     "text": [
      "Epoch 561, lr 2.1117568016052245e-05: 100% 43/43 [00:12<00:00,  3.44it/s, 0 cls=0.17537, 1 cls=0.25737, 2 cls=0.35666, bce=0.07676, dice=0.84509, loss=0.24443]\n"
     ]
    },
    {
     "name": "stdout",
     "output_type": "stream",
     "text": [
      "loss: 0.17455 | bce: 0.04133 | dice: 0.86984 | 0 cls: 0.11739 | 1 cls: 0.16814 | 2 cls: 0.29614\n"
     ]
    },
    {
     "name": "stderr",
     "output_type": "stream",
     "text": [
      "Epoch 562, lr 2.1117568016052245e-05: 100% 43/43 [00:12<00:00,  3.43it/s, 0 cls=0.17939, 1 cls=0.25506, 2 cls=0.35637, bce=0.07892, dice=0.84574, loss=0.24505]\n"
     ]
    },
    {
     "name": "stdout",
     "output_type": "stream",
     "text": [
      "loss: 0.17498 | bce: 0.04152 | dice: 0.86998 | 0 cls: 0.11668 | 1 cls: 0.17022 | 2 cls: 0.29570\n"
     ]
    },
    {
     "name": "stderr",
     "output_type": "stream",
     "text": [
      "Epoch 563, lr 2.1117568016052245e-05: 100% 43/43 [00:12<00:00,  3.35it/s, 0 cls=0.17393, 1 cls=0.25488, 2 cls=0.35640, bce=0.07809, dice=0.84716, loss=0.24280]\n"
     ]
    },
    {
     "name": "stdout",
     "output_type": "stream",
     "text": [
      "loss: 0.17443 | bce: 0.04111 | dice: 0.87001 | 0 cls: 0.11676 | 1 cls: 0.16901 | 2 cls: 0.29528\n"
     ]
    },
    {
     "name": "stderr",
     "output_type": "stream",
     "text": [
      "Epoch 564, lr 2.1117568016052245e-05: 100% 43/43 [00:12<00:00,  3.45it/s, 0 cls=0.17298, 1 cls=0.25269, 2 cls=0.35272, bce=0.07645, dice=0.84746, loss=0.24081]\n"
     ]
    },
    {
     "name": "stdout",
     "output_type": "stream",
     "text": [
      "loss: 0.17501 | bce: 0.04179 | dice: 0.86992 | 0 cls: 0.11735 | 1 cls: 0.16928 | 2 cls: 0.29653\n"
     ]
    },
    {
     "name": "stderr",
     "output_type": "stream",
     "text": [
      "Epoch 565, lr 2.1117568016052245e-05: 100% 43/43 [00:12<00:00,  3.46it/s, 0 cls=0.17182, 1 cls=0.25017, 2 cls=0.35160, bce=0.07568, dice=0.84800, loss=0.23912]\n"
     ]
    },
    {
     "name": "stdout",
     "output_type": "stream",
     "text": [
      "loss: 0.17502 | bce: 0.04160 | dice: 0.86998 | 0 cls: 0.11709 | 1 cls: 0.16997 | 2 cls: 0.29561\n"
     ]
    },
    {
     "name": "stderr",
     "output_type": "stream",
     "text": [
      "Epoch 566, lr 2.1117568016052245e-05: 100% 43/43 [00:12<00:00,  3.45it/s, 0 cls=0.17356, 1 cls=0.25486, 2 cls=0.35656, bce=0.07649, dice=0.84602, loss=0.24268]\n"
     ]
    },
    {
     "name": "stdout",
     "output_type": "stream",
     "text": [
      "loss: 0.17485 | bce: 0.04173 | dice: 0.87007 | 0 cls: 0.11724 | 1 cls: 0.16906 | 2 cls: 0.29614\n"
     ]
    },
    {
     "name": "stderr",
     "output_type": "stream",
     "text": [
      "Epoch 567, lr 2.1117568016052245e-05: 100% 43/43 [00:12<00:00,  3.44it/s, 0 cls=0.16800, 1 cls=0.24856, 2 cls=0.34721, bce=0.07561, dice=0.85079, loss=0.23606]\n"
     ]
    },
    {
     "name": "stdout",
     "output_type": "stream",
     "text": [
      "loss: 0.17409 | bce: 0.04161 | dice: 0.87059 | 0 cls: 0.11713 | 1 cls: 0.16795 | 2 cls: 0.29508\n"
     ]
    },
    {
     "name": "stderr",
     "output_type": "stream",
     "text": [
      "Epoch 568, lr 2.1117568016052245e-05: 100% 43/43 [00:12<00:00,  3.43it/s, 0 cls=0.17070, 1 cls=0.25144, 2 cls=0.35216, bce=0.07627, dice=0.84870, loss=0.23929]\n"
     ]
    },
    {
     "name": "stdout",
     "output_type": "stream",
     "text": [
      "loss: 0.17541 | bce: 0.04258 | dice: 0.87045 | 0 cls: 0.11706 | 1 cls: 0.17061 | 2 cls: 0.29649\n"
     ]
    },
    {
     "name": "stderr",
     "output_type": "stream",
     "text": [
      "Epoch 569, lr 2.1117568016052245e-05: 100% 43/43 [00:12<00:00,  3.45it/s, 0 cls=0.16978, 1 cls=0.25157, 2 cls=0.35074, bce=0.07678, dice=0.84962, loss=0.23869]\n"
     ]
    },
    {
     "name": "stdout",
     "output_type": "stream",
     "text": [
      "loss: 0.17396 | bce: 0.04106 | dice: 0.86988 | 0 cls: 0.11779 | 1 cls: 0.16681 | 2 cls: 0.29536\n"
     ]
    },
    {
     "name": "stderr",
     "output_type": "stream",
     "text": [
      "Epoch 570, lr 2.1117568016052245e-05: 100% 43/43 [00:12<00:00,  3.46it/s, 0 cls=0.17472, 1 cls=0.25758, 2 cls=0.35677, bce=0.07714, dice=0.84553, loss=0.24428]\n"
     ]
    },
    {
     "name": "stdout",
     "output_type": "stream",
     "text": [
      "loss: 0.17511 | bce: 0.04261 | dice: 0.87069 | 0 cls: 0.11667 | 1 cls: 0.17046 | 2 cls: 0.29598\n"
     ]
    },
    {
     "name": "stderr",
     "output_type": "stream",
     "text": [
      "Epoch 571, lr 2.1117568016052245e-05: 100% 43/43 [00:12<00:00,  3.45it/s, 0 cls=0.18278, 1 cls=0.26058, 2 cls=0.36258, bce=0.07940, dice=0.84257, loss=0.24986]\n"
     ]
    },
    {
     "name": "stdout",
     "output_type": "stream",
     "text": [
      "loss: 0.17636 | bce: 0.04218 | dice: 0.86930 | 0 cls: 0.11763 | 1 cls: 0.17167 | 2 cls: 0.29778\n"
     ]
    },
    {
     "name": "stderr",
     "output_type": "stream",
     "text": [
      "Epoch 572, lr 2.1117568016052245e-05: 100% 43/43 [00:12<00:00,  3.44it/s, 0 cls=0.17632, 1 cls=0.25620, 2 cls=0.35575, bce=0.07752, dice=0.84579, loss=0.24416]\n"
     ]
    },
    {
     "name": "stdout",
     "output_type": "stream",
     "text": [
      "loss: 0.17508 | bce: 0.04194 | dice: 0.86986 | 0 cls: 0.11756 | 1 cls: 0.16915 | 2 cls: 0.29682\n"
     ]
    },
    {
     "name": "stderr",
     "output_type": "stream",
     "text": [
      "Epoch 573, lr 2.1117568016052245e-05: 100% 43/43 [00:12<00:00,  3.44it/s, 0 cls=0.16949, 1 cls=0.24838, 2 cls=0.34710, bce=0.07568, dice=0.85043, loss=0.23657]\n"
     ]
    },
    {
     "name": "stdout",
     "output_type": "stream",
     "text": [
      "loss: 0.17552 | bce: 0.04271 | dice: 0.87049 | 0 cls: 0.11685 | 1 cls: 0.17102 | 2 cls: 0.29650\n"
     ]
    },
    {
     "name": "stderr",
     "output_type": "stream",
     "text": [
      "Epoch 574, lr 2.1117568016052245e-05: 100% 43/43 [00:12<00:00,  3.44it/s, 0 cls=0.17098, 1 cls=0.24919, 2 cls=0.34940, bce=0.07637, dice=0.84962, loss=0.23794]\n"
     ]
    },
    {
     "name": "stdout",
     "output_type": "stream",
     "text": [
      "loss: 0.17557 | bce: 0.04187 | dice: 0.86961 | 0 cls: 0.11740 | 1 cls: 0.17055 | 2 cls: 0.29688\n"
     ]
    },
    {
     "name": "stderr",
     "output_type": "stream",
     "text": [
      "Epoch 575, lr 2.1117568016052245e-05: 100% 43/43 [00:12<00:00,  3.43it/s, 0 cls=0.17241, 1 cls=0.25133, 2 cls=0.35231, bce=0.07703, dice=0.84858, loss=0.23996]\n"
     ]
    },
    {
     "name": "stdout",
     "output_type": "stream",
     "text": [
      "loss: 0.17536 | bce: 0.04223 | dice: 0.87007 | 0 cls: 0.11718 | 1 cls: 0.17033 | 2 cls: 0.29656\n"
     ]
    },
    {
     "name": "stderr",
     "output_type": "stream",
     "text": [
      "Epoch 576, lr 2.1117568016052245e-05: 100% 43/43 [00:12<00:00,  3.46it/s, 0 cls=0.17919, 1 cls=0.26163, 2 cls=0.36368, bce=0.07821, dice=0.84238, loss=0.24906]\n"
     ]
    },
    {
     "name": "stdout",
     "output_type": "stream",
     "text": [
      "loss: 0.17580 | bce: 0.04214 | dice: 0.86956 | 0 cls: 0.11754 | 1 cls: 0.17069 | 2 cls: 0.29759\n"
     ]
    },
    {
     "name": "stderr",
     "output_type": "stream",
     "text": [
      "Epoch 577, lr 2.1117568016052245e-05: 100% 43/43 [00:12<00:00,  3.44it/s, 0 cls=0.17259, 1 cls=0.25135, 2 cls=0.35240, bce=0.07705, dice=0.84834, loss=0.24006]\n"
     ]
    },
    {
     "name": "stdout",
     "output_type": "stream",
     "text": [
      "loss: 0.17479 | bce: 0.04198 | dice: 0.87032 | 0 cls: 0.11722 | 1 cls: 0.16916 | 2 cls: 0.29590\n"
     ]
    },
    {
     "name": "stderr",
     "output_type": "stream",
     "text": [
      "Epoch 578, lr 2.1117568016052245e-05: 100% 43/43 [00:12<00:00,  3.45it/s, 0 cls=0.17090, 1 cls=0.25180, 2 cls=0.35153, bce=0.07602, dice=0.84820, loss=0.23939]\n"
     ]
    },
    {
     "name": "stdout",
     "output_type": "stream",
     "text": [
      "loss: 0.17427 | bce: 0.04213 | dice: 0.87082 | 0 cls: 0.11680 | 1 cls: 0.16870 | 2 cls: 0.29523\n"
     ]
    },
    {
     "name": "stderr",
     "output_type": "stream",
     "text": [
      "Epoch 579, lr 2.1117568016052245e-05: 100% 43/43 [00:12<00:00,  3.44it/s, 0 cls=0.16920, 1 cls=0.24845, 2 cls=0.34961, bce=0.07596, dice=0.85001, loss=0.23698]\n"
     ]
    },
    {
     "name": "stdout",
     "output_type": "stream",
     "text": [
      "loss: 0.17715 | bce: 0.04230 | dice: 0.86866 | 0 cls: 0.11800 | 1 cls: 0.17251 | 2 cls: 0.29959\n"
     ]
    },
    {
     "name": "stderr",
     "output_type": "stream",
     "text": [
      "Epoch 580, lr 2.1117568016052245e-05: 100% 43/43 [00:12<00:00,  3.32it/s, 0 cls=0.17715, 1 cls=0.25404, 2 cls=0.35500, bce=0.07853, dice=0.84693, loss=0.24348]\n"
     ]
    },
    {
     "name": "stdout",
     "output_type": "stream",
     "text": [
      "loss: 0.17523 | bce: 0.04253 | dice: 0.87044 | 0 cls: 0.11695 | 1 cls: 0.17037 | 2 cls: 0.29625\n"
     ]
    },
    {
     "name": "stderr",
     "output_type": "stream",
     "text": [
      "Epoch 581, lr 2.1117568016052245e-05: 100% 43/43 [00:12<00:00,  3.47it/s, 0 cls=0.17557, 1 cls=0.25517, 2 cls=0.35564, bce=0.07699, dice=0.84572, loss=0.24343]\n"
     ]
    },
    {
     "name": "stdout",
     "output_type": "stream",
     "text": [
      "loss: 0.17399 | bce: 0.04191 | dice: 0.87086 | 0 cls: 0.11667 | 1 cls: 0.16818 | 2 cls: 0.29484\n"
     ]
    },
    {
     "name": "stderr",
     "output_type": "stream",
     "text": [
      "Epoch 582, lr 2.1117568016052245e-05: 100% 43/43 [00:12<00:00,  3.45it/s, 0 cls=0.17104, 1 cls=0.24890, 2 cls=0.34963, bce=0.07621, dice=0.84942, loss=0.23790]\n"
     ]
    },
    {
     "name": "stdout",
     "output_type": "stream",
     "text": [
      "loss: 0.17444 | bce: 0.04194 | dice: 0.87051 | 0 cls: 0.11683 | 1 cls: 0.16886 | 2 cls: 0.29528\n"
     ]
    },
    {
     "name": "stderr",
     "output_type": "stream",
     "text": [
      "Epoch 583, lr 2.1117568016052245e-05: 100% 43/43 [00:12<00:00,  3.45it/s, 0 cls=0.17025, 1 cls=0.24899, 2 cls=0.34896, bce=0.07603, dice=0.84974, loss=0.23749]\n"
     ]
    },
    {
     "name": "stdout",
     "output_type": "stream",
     "text": [
      "loss: 0.17727 | bce: 0.04287 | dice: 0.86902 | 0 cls: 0.11805 | 1 cls: 0.17273 | 2 cls: 0.29966\n"
     ]
    },
    {
     "name": "stderr",
     "output_type": "stream",
     "text": [
      "Epoch 584, lr 2.1117568016052245e-05: 100% 43/43 [00:12<00:00,  3.45it/s, 0 cls=0.17101, 1 cls=0.24939, 2 cls=0.35083, bce=0.07636, dice=0.84910, loss=0.23832]\n"
     ]
    },
    {
     "name": "stdout",
     "output_type": "stream",
     "text": [
      "loss: 0.17508 | bce: 0.04171 | dice: 0.86979 | 0 cls: 0.11783 | 1 cls: 0.16906 | 2 cls: 0.29656\n"
     ]
    },
    {
     "name": "stderr",
     "output_type": "stream",
     "text": [
      "Epoch 585, lr 2.1117568016052245e-05: 100% 43/43 [00:12<00:00,  3.46it/s, 0 cls=0.18370, 1 cls=0.25903, 2 cls=0.36150, bce=0.07974, dice=0.84285, loss=0.24940]\n"
     ]
    },
    {
     "name": "stdout",
     "output_type": "stream",
     "text": [
      "loss: 0.17595 | bce: 0.04207 | dice: 0.86932 | 0 cls: 0.11779 | 1 cls: 0.17055 | 2 cls: 0.29781\n"
     ]
    },
    {
     "name": "stderr",
     "output_type": "stream",
     "text": [
      "Epoch 586, lr 2.1117568016052245e-05: 100% 43/43 [00:12<00:00,  3.43it/s, 0 cls=0.17660, 1 cls=0.25316, 2 cls=0.35560, bce=0.07728, dice=0.84598, loss=0.24303]\n"
     ]
    },
    {
     "name": "stdout",
     "output_type": "stream",
     "text": [
      "loss: 0.17558 | bce: 0.04201 | dice: 0.86976 | 0 cls: 0.11701 | 1 cls: 0.17083 | 2 cls: 0.29677\n"
     ]
    },
    {
     "name": "stderr",
     "output_type": "stream",
     "text": [
      "Epoch 587, lr 2.1117568016052245e-05: 100% 43/43 [00:12<00:00,  3.43it/s, 0 cls=0.17322, 1 cls=0.25578, 2 cls=0.35467, bce=0.07705, dice=0.84696, loss=0.24253]\n"
     ]
    },
    {
     "name": "stdout",
     "output_type": "stream",
     "text": [
      "loss: 0.17406 | bce: 0.04114 | dice: 0.87020 | 0 cls: 0.11701 | 1 cls: 0.16777 | 2 cls: 0.29497\n"
     ]
    },
    {
     "name": "stderr",
     "output_type": "stream",
     "text": [
      "Epoch 588, lr 2.1117568016052245e-05: 100% 43/43 [00:12<00:00,  3.44it/s, 0 cls=0.17035, 1 cls=0.25067, 2 cls=0.34976, bce=0.07581, dice=0.84920, loss=0.23836]\n"
     ]
    },
    {
     "name": "stdout",
     "output_type": "stream",
     "text": [
      "loss: 0.17563 | bce: 0.04168 | dice: 0.86931 | 0 cls: 0.11763 | 1 cls: 0.16994 | 2 cls: 0.29727\n"
     ]
    },
    {
     "name": "stderr",
     "output_type": "stream",
     "text": [
      "Epoch 589, lr 2.1117568016052245e-05: 100% 43/43 [00:12<00:00,  3.45it/s, 0 cls=0.17619, 1 cls=0.25510, 2 cls=0.35480, bce=0.07697, dice=0.84581, loss=0.24347]\n"
     ]
    },
    {
     "name": "stdout",
     "output_type": "stream",
     "text": [
      "loss: 0.17481 | bce: 0.04192 | dice: 0.87036 | 0 cls: 0.11683 | 1 cls: 0.16979 | 2 cls: 0.29565\n"
     ]
    },
    {
     "name": "stderr",
     "output_type": "stream",
     "text": [
      "Epoch 590, lr 0.0003138105960900001: 100% 43/43 [00:12<00:00,  3.44it/s, 0 cls=0.18476, 1 cls=0.26149, 2 cls=0.36784, bce=0.08075, dice=0.84118, loss=0.25207]\n"
     ]
    },
    {
     "name": "stdout",
     "output_type": "stream",
     "text": [
      "loss: 0.16941 | bce: 0.04033 | dice: 0.87418 | 0 cls: 0.11318 | 1 cls: 0.16392 | 2 cls: 0.28560\n"
     ]
    },
    {
     "name": "stderr",
     "output_type": "stream",
     "text": [
      "Epoch 591, lr 0.0003138105960900001: 100% 43/43 [00:12<00:00,  3.45it/s, 0 cls=0.17985, 1 cls=0.25851, 2 cls=0.36234, bce=0.07940, dice=0.84383, loss=0.24781]\n"
     ]
    },
    {
     "name": "stdout",
     "output_type": "stream",
     "text": [
      "loss: 0.18173 | bce: 0.04408 | dice: 0.86580 | 0 cls: 0.11942 | 1 cls: 0.17902 | 2 cls: 0.30726\n"
     ]
    },
    {
     "name": "stderr",
     "output_type": "stream",
     "text": [
      "Epoch 592, lr 9.414317882700003e-05: 100% 43/43 [00:12<00:00,  3.44it/s, 0 cls=0.17923, 1 cls=0.25921, 2 cls=0.36335, bce=0.07863, dice=0.84300, loss=0.24805]\n"
     ]
    },
    {
     "name": "stdout",
     "output_type": "stream",
     "text": [
      "loss: 0.17888 | bce: 0.04332 | dice: 0.86819 | 0 cls: 0.11917 | 1 cls: 0.17513 | 2 cls: 0.30071\n"
     ]
    },
    {
     "name": "stderr",
     "output_type": "stream",
     "text": [
      "Epoch 593, lr 9.414317882700003e-05: 100% 43/43 [00:13<00:00,  3.25it/s, 0 cls=0.17561, 1 cls=0.25556, 2 cls=0.35685, bce=0.07782, dice=0.84602, loss=0.24384]\n"
     ]
    },
    {
     "name": "stdout",
     "output_type": "stream",
     "text": [
      "loss: 0.17385 | bce: 0.04180 | dice: 0.87095 | 0 cls: 0.11618 | 1 cls: 0.16889 | 2 cls: 0.29431\n"
     ]
    },
    {
     "name": "stderr",
     "output_type": "stream",
     "text": [
      "Epoch 594, lr 2.8242953648100008e-05: 100% 43/43 [00:12<00:00,  3.45it/s, 0 cls=0.17196, 1 cls=0.25495, 2 cls=0.35414, bce=0.07655, dice=0.84721, loss=0.24159]\n"
     ]
    },
    {
     "name": "stdout",
     "output_type": "stream",
     "text": [
      "loss: 0.17596 | bce: 0.04313 | dice: 0.87017 | 0 cls: 0.11797 | 1 cls: 0.17054 | 2 cls: 0.29789\n"
     ]
    },
    {
     "name": "stderr",
     "output_type": "stream",
     "text": [
      "Epoch 595, lr 0.0003138105960900001: 100% 43/43 [00:12<00:00,  3.43it/s, 0 cls=0.18056, 1 cls=0.25860, 2 cls=0.36414, bce=0.08027, dice=0.84358, loss=0.24849]\n"
     ]
    },
    {
     "name": "stdout",
     "output_type": "stream",
     "text": [
      "loss: 0.17372 | bce: 0.04261 | dice: 0.87169 | 0 cls: 0.11774 | 1 cls: 0.16722 | 2 cls: 0.29230\n"
     ]
    },
    {
     "name": "stderr",
     "output_type": "stream",
     "text": [
      "Epoch 596, lr 0.0003138105960900001: 100% 43/43 [00:12<00:00,  3.47it/s, 0 cls=0.18526, 1 cls=0.26795, 2 cls=0.37211, bce=0.08110, dice=0.83902, loss=0.25570]\n"
     ]
    },
    {
     "name": "stdout",
     "output_type": "stream",
     "text": [
      "loss: 0.17471 | bce: 0.04103 | dice: 0.86955 | 0 cls: 0.11784 | 1 cls: 0.16934 | 2 cls: 0.29436\n"
     ]
    },
    {
     "name": "stderr",
     "output_type": "stream",
     "text": [
      "Epoch 597, lr 9.414317882700003e-05: 100% 43/43 [00:12<00:00,  3.44it/s, 0 cls=0.18394, 1 cls=0.26427, 2 cls=0.36799, bce=0.08017, dice=0.84053, loss=0.25288]\n"
     ]
    },
    {
     "name": "stdout",
     "output_type": "stream",
     "text": [
      "loss: 0.17529 | bce: 0.04428 | dice: 0.87198 | 0 cls: 0.11696 | 1 cls: 0.17086 | 2 cls: 0.29610\n"
     ]
    },
    {
     "name": "stderr",
     "output_type": "stream",
     "text": [
      "Epoch 598, lr 9.414317882700003e-05: 100% 43/43 [00:12<00:00,  3.43it/s, 0 cls=0.17688, 1 cls=0.25648, 2 cls=0.35981, bce=0.07850, dice=0.84515, loss=0.24531]\n"
     ]
    },
    {
     "name": "stdout",
     "output_type": "stream",
     "text": [
      "loss: 0.17415 | bce: 0.04305 | dice: 0.87189 | 0 cls: 0.11604 | 1 cls: 0.16963 | 2 cls: 0.29440\n"
     ]
    },
    {
     "name": "stderr",
     "output_type": "stream",
     "text": [
      "Epoch 599, lr 2.8242953648100008e-05: 100% 43/43 [00:12<00:00,  3.45it/s, 0 cls=0.18215, 1 cls=0.25935, 2 cls=0.36267, bce=0.08015, dice=0.84350, loss=0.24913]\n"
     ]
    },
    {
     "name": "stdout",
     "output_type": "stream",
     "text": [
      "loss: 0.17420 | bce: 0.04292 | dice: 0.87129 | 0 cls: 0.11716 | 1 cls: 0.16838 | 2 cls: 0.29555\n",
      "Finished: best loss 0.16941 on epoch 590\n"
     ]
    }
   ],
   "source": [
    "train_args = {\n",
    "    'model_name': 'TernausNet34_with_scale_05_epoch_600_not_pretrained',\n",
    "    'network': 'TernausNet34',\n",
    "    'nb_epoch': 600,\n",
    "    'loss': 'BCEDiceLossMulti',\n",
    "    'lr_args': {\n",
    "        'adjust_init_lr': 0.0005,\n",
    "        'adjust_lr_decay_factor': 0.75,\n",
    "        'cycle_epochs_decay': 2,\n",
    "        'cycle_init_lr': 0.001,\n",
    "        'cycle_lr_decay_factor': 0.3,\n",
    "        'global_cycle_lr_decay_factor': 0.9,\n",
    "        'global_num_epochs_per_cycle': 50,\n",
    "        'num_epochs_per_cycle': 5,\n",
    "        'num_epochs_per_decay': 50\n",
    "    }, \n",
    "    'model_dir': 'models', \n",
    "    'log_dir': 'logs', \n",
    "    'network_args': {\n",
    "        'num_classes': 3, \n",
    "        'num_filters': 16, \n",
    "        'pretrained': False\n",
    "    }, \n",
    "    'loss_args': {\n",
    "        'weights': [0.4, 0.4, 0.2],\n",
    "        'num_classes': 3\n",
    "    },       \n",
    "    'optimizer': 'Adam'\n",
    "}\n",
    "\n",
    "train(\n",
    "    train_args, train_ids + val_ids, val_ids[:1], \n",
    "    \"../output_data/with_scale_05/scaled_images/{}.png\", \"../output_data/with_scale_05/scaled_masks/{}.png\", \n",
    "    16, 1, train_transforms, val_transforms, period=64\n",
    ")"
   ]
  },
  {
   "cell_type": "code",
   "execution_count": null,
   "metadata": {},
   "outputs": [],
   "source": []
  }
 ],
 "metadata": {
  "kernelspec": {
   "display_name": "Python 3",
   "language": "python",
   "name": "python3"
  },
  "language_info": {
   "codemirror_mode": {
    "name": "ipython",
    "version": 3
   },
   "file_extension": ".py",
   "mimetype": "text/x-python",
   "name": "python",
   "nbconvert_exporter": "python",
   "pygments_lexer": "ipython3",
   "version": "3.6.4"
  }
 },
 "nbformat": 4,
 "nbformat_minor": 2
}
