{
 "cells": [
  {
   "cell_type": "code",
   "execution_count": 1,
   "metadata": {},
   "outputs": [
    {
     "data": {
      "text/html": [
       "<style>.container { width:95% !important; }</style>"
      ],
      "text/plain": [
       "<IPython.core.display.HTML object>"
      ]
     },
     "metadata": {},
     "output_type": "display_data"
    }
   ],
   "source": [
    "from IPython.core.display import display, HTML\n",
    "display(HTML(\"<style>.container { width:95% !important; }</style>\"))"
   ]
  },
  {
   "cell_type": "code",
   "execution_count": 2,
   "metadata": {},
   "outputs": [],
   "source": [
    "import warnings\n",
    "warnings.simplefilter(\"ignore\", UserWarning)\n",
    "warnings.simplefilter(\"ignore\", FutureWarning)\n",
    "warnings.simplefilter(\"ignore\", RuntimeWarning)\n",
    "\n",
    "import sys\n",
    "sys.path.append('../../dstorch/')\n",
    "\n",
    "import matplotlib.pyplot as plt\n",
    "%matplotlib inline\n",
    "%reload_ext autoreload\n",
    "%autoreload 2"
   ]
  },
  {
   "cell_type": "code",
   "execution_count": 3,
   "metadata": {},
   "outputs": [],
   "source": [
    "import os\n",
    "import pandas as pd\n",
    "from dstorch import transforms\n",
    "from dstorch.train import train\n",
    "import torch.backends.cudnn as cudnn\n",
    "import cv2"
   ]
  },
  {
   "cell_type": "code",
   "execution_count": 4,
   "metadata": {},
   "outputs": [],
   "source": [
    "ids = list([x.split('.')[0] for x in list(next(os.walk(\"../output_data/with_scale_05_centers_contour/images/\"))[2])])\n",
    "classes = pd.read_csv(\"../data/classes.csv\")\n",
    "val_ids = list(classes.loc[classes['type'] == 'val', 'id'])\n",
    "train_ids = list(set(ids) - set(val_ids))"
   ]
  },
  {
   "cell_type": "code",
   "execution_count": 5,
   "metadata": {},
   "outputs": [],
   "source": [
    "train_transforms = transforms.DualCompose(\n",
    "    [\n",
    "        transforms.RandomCrop((256, 256)),\n",
    "        transforms.VerticalFlip(),\n",
    "        transforms.HorizontalFlip(),\n",
    "        transforms.Transpose(),\n",
    "        transforms.ShiftScaleRotate(scale_limit=0.35, shift_limit=0.35),\n",
    "        transforms.Distort1(0.4, 0.4),\n",
    "        transforms.ImageOnly(transforms.RandomBrightness(0.55)),\n",
    "        transforms.ImageOnly(transforms.RandomContrast(0.55)),\n",
    "        transforms.ImageOnly(transforms.RandomSaturation(0.55)),\n",
    "        transforms.ImageOnly(transforms.Normalize(\n",
    "            mean=[0.485, 0.456, 0.406],\n",
    "            std=[0.229, 0.224, 0.225]\n",
    "        ))\n",
    "    ]\n",
    ")\n",
    "\n",
    "val_transforms = transforms.DualCompose(\n",
    "    [\n",
    "        transforms.ImageOnly(transforms.Normalize(\n",
    "            mean=[0.485, 0.456, 0.406],\n",
    "            std=[0.229, 0.224, 0.225]\n",
    "        ))\n",
    "    ]\n",
    ")"
   ]
  },
  {
   "cell_type": "code",
   "execution_count": 6,
   "metadata": {},
   "outputs": [],
   "source": [
    "cudnn.benchmark = True"
   ]
  },
  {
   "cell_type": "code",
   "execution_count": null,
   "metadata": {
    "scrolled": true
   },
   "outputs": [
    {
     "name": "stderr",
     "output_type": "stream",
     "text": [
      "Epoch 0, lr 0.0005: 100% 21/21 [00:17<00:00,  1.18it/s, 0 cls=1.92869, 1 cls=2.52196, 2 cls=2.25857, bce=0.40594, dice=0.18688, loss=0.21146]\n"
     ]
    },
    {
     "name": "stdout",
     "output_type": "stream",
     "text": [
      "loss: 0.20282 | bce: 0.36259 | dice: 0.14466 | 0 cls: 2.00365 | 1 cls: 2.42660 | 2 cls: 2.32525\n"
     ]
    },
    {
     "name": "stderr",
     "output_type": "stream",
     "text": [
      "Epoch 1, lr 0.0005: 100% 21/21 [00:12<00:00,  1.67it/s, 0 cls=0.98214, 1 cls=1.24467, 2 cls=1.11018, bce=0.17413, dice=0.38151, loss=-0.21373]\n"
     ]
    },
    {
     "name": "stdout",
     "output_type": "stream",
     "text": [
      "loss: -0.32766 | bce: 0.09806 | dice: 0.40492 | 0 cls: 0.83848 | 1 cls: 0.97618 | 2 cls: 0.92384\n"
     ]
    },
    {
     "name": "stderr",
     "output_type": "stream",
     "text": [
      "Epoch 2, lr 0.0005: 100% 21/21 [00:12<00:00,  1.70it/s, 0 cls=0.57206, 1 cls=0.85642, 2 cls=0.67232, bce=0.15455, dice=0.55184, loss=-0.40710]\n"
     ]
    },
    {
     "name": "stdout",
     "output_type": "stream",
     "text": [
      "loss: -0.56025 | bce: 0.10513 | dice: 0.63326 | 0 cls: 0.37925 | 1 cls: 0.54915 | 2 cls: 0.41304\n"
     ]
    },
    {
     "name": "stderr",
     "output_type": "stream",
     "text": [
      "Epoch 3, lr 0.0005: 100% 21/21 [00:12<00:00,  1.69it/s, 0 cls=0.39883, 1 cls=0.60300, 2 cls=0.43832, bce=0.13893, dice=0.65756, loss=-0.53152]\n"
     ]
    },
    {
     "name": "stdout",
     "output_type": "stream",
     "text": [
      "loss: -0.56691 | bce: 0.09547 | dice: 0.64544 | 0 cls: 0.37921 | 1 cls: 0.54509 | 2 cls: 0.40516\n"
     ]
    },
    {
     "name": "stderr",
     "output_type": "stream",
     "text": [
      "Epoch 4, lr 0.0005: 100% 21/21 [00:12<00:00,  1.71it/s, 0 cls=0.33812, 1 cls=0.50329, 2 cls=0.39735, bce=0.12408, dice=0.70170, loss=-0.59274]\n"
     ]
    },
    {
     "name": "stdout",
     "output_type": "stream",
     "text": [
      "loss: -0.59581 | bce: 0.07788 | dice: 0.65565 | 0 cls: 0.32255 | 1 cls: 0.53238 | 2 cls: 0.41264\n"
     ]
    },
    {
     "name": "stderr",
     "output_type": "stream",
     "text": [
      "Epoch 5, lr 0.0005: 100% 21/21 [00:12<00:00,  1.71it/s, 0 cls=0.28911, 1 cls=0.46022, 2 cls=0.36523, bce=0.11040, dice=0.73161, loss=-0.63350]\n"
     ]
    },
    {
     "name": "stdout",
     "output_type": "stream",
     "text": [
      "loss: -0.38450 | bce: 0.11758 | dice: 0.50469 | 0 cls: 0.53205 | 1 cls: 1.04241 | 2 cls: 0.76117\n"
     ]
    },
    {
     "name": "stderr",
     "output_type": "stream",
     "text": [
      "Epoch 6, lr 0.0005: 100% 21/21 [00:12<00:00,  1.70it/s, 0 cls=0.29146, 1 cls=0.43654, 2 cls=0.35416, bce=0.11124, dice=0.73925, loss=-0.64192]\n"
     ]
    },
    {
     "name": "stdout",
     "output_type": "stream",
     "text": [
      "loss: -0.63072 | bce: 0.07126 | dice: 0.68293 | 0 cls: 0.29441 | 1 cls: 0.45926 | 2 cls: 0.36254\n"
     ]
    },
    {
     "name": "stderr",
     "output_type": "stream",
     "text": [
      "Epoch 7, lr 0.0005: 100% 21/21 [00:12<00:00,  1.71it/s, 0 cls=0.25926, 1 cls=0.39864, 2 cls=0.32070, bce=0.10050, dice=0.75970, loss=-0.67180]\n"
     ]
    },
    {
     "name": "stdout",
     "output_type": "stream",
     "text": [
      "loss: -0.62251 | bce: 0.07258 | dice: 0.67872 | 0 cls: 0.29675 | 1 cls: 0.48032 | 2 cls: 0.38119\n"
     ]
    },
    {
     "name": "stderr",
     "output_type": "stream",
     "text": [
      "Epoch 8, lr 0.0005: 100% 21/21 [00:12<00:00,  1.72it/s, 0 cls=0.30022, 1 cls=0.40952, 2 cls=0.33931, bce=0.11100, dice=0.74644, loss=-0.64935]\n"
     ]
    },
    {
     "name": "stdout",
     "output_type": "stream",
     "text": [
      "loss: -0.64145 | bce: 0.06494 | dice: 0.69000 | 0 cls: 0.29113 | 1 cls: 0.43602 | 2 cls: 0.34785\n"
     ]
    },
    {
     "name": "stderr",
     "output_type": "stream",
     "text": [
      "Epoch 9, lr 0.0005: 100% 21/21 [00:12<00:00,  1.69it/s, 0 cls=0.27607, 1 cls=0.39974, 2 cls=0.32720, bce=0.10745, dice=0.75984, loss=-0.66391]\n"
     ]
    },
    {
     "name": "stdout",
     "output_type": "stream",
     "text": [
      "loss: -0.65228 | bce: 0.07393 | dice: 0.70408 | 0 cls: 0.31134 | 1 cls: 0.38430 | 2 cls: 0.31448\n"
     ]
    },
    {
     "name": "stderr",
     "output_type": "stream",
     "text": [
      "Epoch 10, lr 0.0005: 100% 21/21 [00:12<00:00,  1.69it/s, 0 cls=0.27446, 1 cls=0.38897, 2 cls=0.31233, bce=0.10166, dice=0.75862, loss=-0.66968]\n"
     ]
    },
    {
     "name": "stdout",
     "output_type": "stream",
     "text": [
      "loss: -0.66311 | bce: 0.06785 | dice: 0.70967 | 0 cls: 0.28787 | 1 cls: 0.38202 | 2 cls: 0.31043\n"
     ]
    },
    {
     "name": "stderr",
     "output_type": "stream",
     "text": [
      "Epoch 11, lr 0.0005: 100% 21/21 [00:12<00:00,  1.69it/s, 0 cls=0.25922, 1 cls=0.38740, 2 cls=0.31047, bce=0.10065, dice=0.76737, loss=-0.67777]\n"
     ]
    },
    {
     "name": "stdout",
     "output_type": "stream",
     "text": [
      "loss: -0.65655 | bce: 0.06295 | dice: 0.70201 | 0 cls: 0.27818 | 1 cls: 0.40738 | 2 cls: 0.33104\n"
     ]
    },
    {
     "name": "stderr",
     "output_type": "stream",
     "text": [
      "Epoch 12, lr 0.0005: 100% 21/21 [00:12<00:00,  1.68it/s, 0 cls=0.25954, 1 cls=0.38478, 2 cls=0.31254, bce=0.10026, dice=0.76819, loss=-0.67875]\n"
     ]
    },
    {
     "name": "stdout",
     "output_type": "stream",
     "text": [
      "loss: -0.68808 | bce: 0.06028 | dice: 0.72839 | 0 cls: 0.24833 | 1 cls: 0.36256 | 2 cls: 0.28596\n"
     ]
    },
    {
     "name": "stderr",
     "output_type": "stream",
     "text": [
      "Epoch 13, lr 0.0005: 100% 21/21 [00:12<00:00,  1.71it/s, 0 cls=0.27703, 1 cls=0.38446, 2 cls=0.31735, bce=0.10369, dice=0.76317, loss=-0.67085]\n"
     ]
    },
    {
     "name": "stdout",
     "output_type": "stream",
     "text": [
      "loss: -0.68439 | bce: 0.05699 | dice: 0.72508 | 0 cls: 0.24929 | 1 cls: 0.37132 | 2 cls: 0.29401\n"
     ]
    },
    {
     "name": "stderr",
     "output_type": "stream",
     "text": [
      "Epoch 14, lr 0.0005: 100% 21/21 [00:12<00:00,  1.66it/s, 0 cls=0.26079, 1 cls=0.36275, 2 cls=0.30137, bce=0.09815, dice=0.77305, loss=-0.68753]\n"
     ]
    },
    {
     "name": "stdout",
     "output_type": "stream",
     "text": [
      "loss: -0.69615 | bce: 0.06359 | dice: 0.73550 | 0 cls: 0.26602 | 1 cls: 0.31781 | 2 cls: 0.26834\n"
     ]
    },
    {
     "name": "stderr",
     "output_type": "stream",
     "text": [
      "Epoch 15, lr 0.0005: 100% 21/21 [00:12<00:00,  1.69it/s, 0 cls=0.24794, 1 cls=0.35507, 2 cls=0.29095, bce=0.09527, dice=0.78123, loss=-0.69666]\n"
     ]
    },
    {
     "name": "stdout",
     "output_type": "stream",
     "text": [
      "loss: -0.68991 | bce: 0.05482 | dice: 0.72949 | 0 cls: 0.25228 | 1 cls: 0.35662 | 2 cls: 0.28628\n"
     ]
    },
    {
     "name": "stderr",
     "output_type": "stream",
     "text": [
      "Epoch 16, lr 0.0005: 100% 21/21 [00:12<00:00,  1.69it/s, 0 cls=0.24113, 1 cls=0.34769, 2 cls=0.28650, bce=0.09132, dice=0.78327, loss=-0.70312]\n"
     ]
    },
    {
     "name": "stdout",
     "output_type": "stream",
     "text": [
      "loss: -0.70301 | bce: 0.05775 | dice: 0.74455 | 0 cls: 0.23057 | 1 cls: 0.33820 | 2 cls: 0.27294\n"
     ]
    },
    {
     "name": "stderr",
     "output_type": "stream",
     "text": [
      "Epoch 17, lr 0.0005: 100% 21/21 [00:12<00:00,  1.69it/s, 0 cls=0.25793, 1 cls=0.36191, 2 cls=0.29915, bce=0.09928, dice=0.77899, loss=-0.68985]\n"
     ]
    },
    {
     "name": "stdout",
     "output_type": "stream",
     "text": [
      "loss: -0.70084 | bce: 0.07405 | dice: 0.74698 | 0 cls: 0.27089 | 1 cls: 0.29229 | 2 cls: 0.25766\n"
     ]
    },
    {
     "name": "stderr",
     "output_type": "stream",
     "text": [
      "Epoch 18, lr 0.0005: 100% 21/21 [00:12<00:00,  1.69it/s, 0 cls=0.24635, 1 cls=0.35047, 2 cls=0.28686, bce=0.09524, dice=0.78411, loss=-0.69958]\n"
     ]
    },
    {
     "name": "stdout",
     "output_type": "stream",
     "text": [
      "loss: -0.69936 | bce: 0.05722 | dice: 0.74479 | 0 cls: 0.25271 | 1 cls: 0.32814 | 2 cls: 0.26681\n"
     ]
    },
    {
     "name": "stderr",
     "output_type": "stream",
     "text": [
      "Epoch 19, lr 0.0005: 100% 21/21 [00:12<00:00,  1.67it/s, 0 cls=0.24383, 1 cls=0.34691, 2 cls=0.28578, bce=0.09252, dice=0.78368, loss=-0.70250]\n"
     ]
    },
    {
     "name": "stdout",
     "output_type": "stream",
     "text": [
      "loss: -0.74134 | bce: 0.05039 | dice: 0.77930 | 0 cls: 0.19901 | 1 cls: 0.27932 | 2 cls: 0.22580\n"
     ]
    },
    {
     "name": "stderr",
     "output_type": "stream",
     "text": [
      "Epoch 20, lr 0.0005: 100% 21/21 [00:12<00:00,  1.70it/s, 0 cls=0.24330, 1 cls=0.34688, 2 cls=0.28190, bce=0.09453, dice=0.78672, loss=-0.70250]\n"
     ]
    },
    {
     "name": "stdout",
     "output_type": "stream",
     "text": [
      "loss: -0.75713 | bce: 0.04688 | dice: 0.78984 | 0 cls: 0.18542 | 1 cls: 0.26026 | 2 cls: 0.21586\n"
     ]
    },
    {
     "name": "stderr",
     "output_type": "stream",
     "text": [
      "Epoch 21, lr 0.0005: 100% 21/21 [00:12<00:00,  1.70it/s, 0 cls=0.23052, 1 cls=0.32781, 2 cls=0.27152, bce=0.08833, dice=0.79312, loss=-0.71609]\n"
     ]
    },
    {
     "name": "stdout",
     "output_type": "stream",
     "text": [
      "loss: -0.74100 | bce: 0.04998 | dice: 0.77694 | 0 cls: 0.19049 | 1 cls: 0.30459 | 2 cls: 0.22265\n"
     ]
    },
    {
     "name": "stderr",
     "output_type": "stream",
     "text": [
      "Epoch 22, lr 0.0005: 100% 21/21 [00:12<00:00,  1.69it/s, 0 cls=0.22168, 1 cls=0.31464, 2 cls=0.25844, bce=0.08753, dice=0.80192, loss=-0.72568]\n"
     ]
    },
    {
     "name": "stdout",
     "output_type": "stream",
     "text": [
      "loss: -0.74705 | bce: 0.04531 | dice: 0.77801 | 0 cls: 0.19297 | 1 cls: 0.27781 | 2 cls: 0.22538\n"
     ]
    },
    {
     "name": "stderr",
     "output_type": "stream",
     "text": [
      "Epoch 23, lr 0.0005: 100% 21/21 [00:12<00:00,  1.67it/s, 0 cls=0.23106, 1 cls=0.32500, 2 cls=0.26814, bce=0.08916, dice=0.79591, loss=-0.71771]\n"
     ]
    },
    {
     "name": "stdout",
     "output_type": "stream",
     "text": [
      "loss: -0.76210 | bce: 0.04857 | dice: 0.79537 | 0 cls: 0.17282 | 1 cls: 0.26288 | 2 cls: 0.20642\n"
     ]
    },
    {
     "name": "stderr",
     "output_type": "stream",
     "text": [
      "Epoch 24, lr 0.0005: 100% 21/21 [00:12<00:00,  1.70it/s, 0 cls=0.21848, 1 cls=0.31227, 2 cls=0.25815, bce=0.08597, dice=0.80332, loss=-0.72860]\n"
     ]
    },
    {
     "name": "stdout",
     "output_type": "stream",
     "text": [
      "loss: -0.76827 | bce: 0.05101 | dice: 0.80201 | 0 cls: 0.18621 | 1 cls: 0.23729 | 2 cls: 0.19599\n"
     ]
    },
    {
     "name": "stderr",
     "output_type": "stream",
     "text": [
      "Epoch 25, lr 0.0005: 100% 21/21 [00:12<00:00,  1.68it/s, 0 cls=0.22326, 1 cls=0.31423, 2 cls=0.25963, bce=0.08660, dice=0.80102, loss=-0.72564]\n"
     ]
    },
    {
     "name": "stdout",
     "output_type": "stream",
     "text": [
      "loss: -0.69598 | bce: 0.06277 | dice: 0.73688 | 0 cls: 0.25293 | 1 cls: 0.31331 | 2 cls: 0.27508\n"
     ]
    },
    {
     "name": "stderr",
     "output_type": "stream",
     "text": [
      "Epoch 26, lr 0.0005: 100% 21/21 [00:12<00:00,  1.67it/s, 0 cls=0.22094, 1 cls=0.31267, 2 cls=0.25906, bce=0.08856, dice=0.80451, loss=-0.72689]\n"
     ]
    },
    {
     "name": "stdout",
     "output_type": "stream",
     "text": [
      "loss: -0.76835 | bce: 0.04350 | dice: 0.79581 | 0 cls: 0.18001 | 1 cls: 0.23017 | 2 cls: 0.19737\n"
     ]
    },
    {
     "name": "stderr",
     "output_type": "stream",
     "text": [
      "Epoch 27, lr 0.0005: 100% 21/21 [00:12<00:00,  1.70it/s, 0 cls=0.21026, 1 cls=0.30922, 2 cls=0.25079, bce=0.08348, dice=0.80665, loss=-0.73371]\n"
     ]
    },
    {
     "name": "stdout",
     "output_type": "stream",
     "text": [
      "loss: -0.78656 | bce: 0.04413 | dice: 0.82182 | 0 cls: 0.15020 | 1 cls: 0.22877 | 2 cls: 0.18422\n"
     ]
    },
    {
     "name": "stderr",
     "output_type": "stream",
     "text": [
      "Epoch 28, lr 0.0005: 100% 21/21 [00:12<00:00,  1.69it/s, 0 cls=0.21176, 1 cls=0.30867, 2 cls=0.25553, bce=0.08442, dice=0.80566, loss=-0.73284]\n"
     ]
    },
    {
     "name": "stdout",
     "output_type": "stream",
     "text": [
      "loss: -0.77817 | bce: 0.04138 | dice: 0.80419 | 0 cls: 0.16207 | 1 cls: 0.24122 | 2 cls: 0.19256\n"
     ]
    },
    {
     "name": "stderr",
     "output_type": "stream",
     "text": [
      "Epoch 29, lr 0.0005: 100% 21/21 [00:12<00:00,  1.73it/s, 0 cls=0.20969, 1 cls=0.30631, 2 cls=0.25013, bce=0.08321, dice=0.80758, loss=-0.73524]\n"
     ]
    },
    {
     "name": "stdout",
     "output_type": "stream",
     "text": [
      "loss: -0.78443 | bce: 0.04124 | dice: 0.81369 | 0 cls: 0.16424 | 1 cls: 0.21324 | 2 cls: 0.17722\n"
     ]
    },
    {
     "name": "stderr",
     "output_type": "stream",
     "text": [
      "Epoch 30, lr 0.0005: 100% 21/21 [00:12<00:00,  1.69it/s, 0 cls=0.20457, 1 cls=0.29788, 2 cls=0.24486, bce=0.08189, dice=0.81220, loss=-0.74109]\n"
     ]
    },
    {
     "name": "stdout",
     "output_type": "stream",
     "text": [
      "loss: -0.78925 | bce: 0.03755 | dice: 0.81702 | 0 cls: 0.15205 | 1 cls: 0.21684 | 2 cls: 0.17984\n"
     ]
    },
    {
     "name": "stderr",
     "output_type": "stream",
     "text": [
      "Epoch 31, lr 0.0005: 100% 21/21 [00:12<00:00,  1.68it/s, 0 cls=0.22535, 1 cls=0.32293, 2 cls=0.26670, bce=0.08865, dice=0.79923, loss=-0.72108]\n"
     ]
    },
    {
     "name": "stdout",
     "output_type": "stream",
     "text": [
      "loss: -0.77701 | bce: 0.04684 | dice: 0.80924 | 0 cls: 0.16948 | 1 cls: 0.22566 | 2 cls: 0.18390\n"
     ]
    },
    {
     "name": "stderr",
     "output_type": "stream",
     "text": [
      "Epoch 32, lr 0.0005: 100% 21/21 [00:12<00:00,  1.69it/s, 0 cls=0.21671, 1 cls=0.30584, 2 cls=0.25366, bce=0.08592, dice=0.80772, loss=-0.73242]\n"
     ]
    },
    {
     "name": "stdout",
     "output_type": "stream",
     "text": [
      "loss: -0.79634 | bce: 0.04482 | dice: 0.82771 | 0 cls: 0.14829 | 1 cls: 0.21258 | 2 cls: 0.17721\n"
     ]
    },
    {
     "name": "stderr",
     "output_type": "stream",
     "text": [
      "Epoch 33, lr 0.0005: 100% 21/21 [00:12<00:00,  1.73it/s, 0 cls=0.20538, 1 cls=0.30228, 2 cls=0.24686, bce=0.08346, dice=0.81172, loss=-0.73873]\n"
     ]
    },
    {
     "name": "stdout",
     "output_type": "stream",
     "text": [
      "loss: -0.79323 | bce: 0.03929 | dice: 0.82025 | 0 cls: 0.15497 | 1 cls: 0.20975 | 2 cls: 0.17694\n"
     ]
    },
    {
     "name": "stderr",
     "output_type": "stream",
     "text": [
      "Epoch 34, lr 0.0005: 100% 21/21 [00:12<00:00,  1.71it/s, 0 cls=0.20826, 1 cls=0.29353, 2 cls=0.24466, bce=0.08113, dice=0.81206, loss=-0.74196]\n"
     ]
    },
    {
     "name": "stdout",
     "output_type": "stream",
     "text": [
      "loss: -0.80723 | bce: 0.03947 | dice: 0.83448 | 0 cls: 0.14004 | 1 cls: 0.19500 | 2 cls: 0.16186\n"
     ]
    },
    {
     "name": "stderr",
     "output_type": "stream",
     "text": [
      "Epoch 35, lr 0.0005: 100% 21/21 [00:12<00:00,  1.69it/s, 0 cls=0.21268, 1 cls=0.29973, 2 cls=0.24878, bce=0.08324, dice=0.80978, loss=-0.73719]\n"
     ]
    },
    {
     "name": "stdout",
     "output_type": "stream",
     "text": [
      "loss: -0.77970 | bce: 0.04755 | dice: 0.81195 | 0 cls: 0.16303 | 1 cls: 0.23260 | 2 cls: 0.18380\n"
     ]
    },
    {
     "name": "stderr",
     "output_type": "stream",
     "text": [
      "Epoch 36, lr 0.0005: 100% 21/21 [00:12<00:00,  1.68it/s, 0 cls=0.20881, 1 cls=0.29511, 2 cls=0.24377, bce=0.08296, dice=0.81171, loss=-0.74025]\n"
     ]
    },
    {
     "name": "stdout",
     "output_type": "stream",
     "text": [
      "loss: -0.75004 | bce: 0.05333 | dice: 0.78787 | 0 cls: 0.20405 | 1 cls: 0.23225 | 2 cls: 0.19825\n"
     ]
    },
    {
     "name": "stderr",
     "output_type": "stream",
     "text": [
      "Epoch 37, lr 0.0005: 100% 21/21 [00:12<00:00,  1.71it/s, 0 cls=0.20908, 1 cls=0.29843, 2 cls=0.24827, bce=0.08288, dice=0.81076, loss=-0.73901]\n"
     ]
    },
    {
     "name": "stdout",
     "output_type": "stream",
     "text": [
      "loss: -0.79394 | bce: 0.04146 | dice: 0.81672 | 0 cls: 0.16340 | 1 cls: 0.20394 | 2 cls: 0.18004\n"
     ]
    },
    {
     "name": "stderr",
     "output_type": "stream",
     "text": [
      "Epoch 38, lr 0.0005: 100% 21/21 [00:12<00:00,  1.70it/s, 0 cls=0.21776, 1 cls=0.29840, 2 cls=0.25154, bce=0.08427, dice=0.80860, loss=-0.73541]\n"
     ]
    },
    {
     "name": "stdout",
     "output_type": "stream",
     "text": [
      "loss: -0.80116 | bce: 0.04111 | dice: 0.82806 | 0 cls: 0.15497 | 1 cls: 0.19817 | 2 cls: 0.17071\n"
     ]
    },
    {
     "name": "stderr",
     "output_type": "stream",
     "text": [
      "Epoch 39, lr 0.0005: 100% 21/21 [00:12<00:00,  1.71it/s, 0 cls=0.20731, 1 cls=0.29536, 2 cls=0.24413, bce=0.08213, dice=0.81219, loss=-0.74095]\n"
     ]
    },
    {
     "name": "stdout",
     "output_type": "stream",
     "text": [
      "loss: -0.79664 | bce: 0.03825 | dice: 0.81875 | 0 cls: 0.15349 | 1 cls: 0.21490 | 2 cls: 0.17365\n"
     ]
    },
    {
     "name": "stderr",
     "output_type": "stream",
     "text": [
      "Epoch 40, lr 0.0005: 100% 21/21 [00:12<00:00,  1.70it/s, 0 cls=0.20254, 1 cls=0.28858, 2 cls=0.23910, bce=0.08075, dice=0.81680, loss=-0.74669]\n"
     ]
    },
    {
     "name": "stdout",
     "output_type": "stream",
     "text": [
      "loss: -0.80114 | bce: 0.03724 | dice: 0.82435 | 0 cls: 0.14678 | 1 cls: 0.20955 | 2 cls: 0.16874\n"
     ]
    },
    {
     "name": "stderr",
     "output_type": "stream",
     "text": [
      "Epoch 41, lr 0.0005: 100% 21/21 [00:12<00:00,  1.70it/s, 0 cls=0.20768, 1 cls=0.28739, 2 cls=0.24109, bce=0.08216, dice=0.81578, loss=-0.74469]\n"
     ]
    },
    {
     "name": "stdout",
     "output_type": "stream",
     "text": [
      "loss: -0.81287 | bce: 0.03635 | dice: 0.83666 | 0 cls: 0.13956 | 1 cls: 0.18901 | 2 cls: 0.15500\n"
     ]
    },
    {
     "name": "stderr",
     "output_type": "stream",
     "text": [
      "Epoch 42, lr 0.0005: 100% 21/21 [00:12<00:00,  1.69it/s, 0 cls=0.19530, 1 cls=0.28227, 2 cls=0.23185, bce=0.07869, dice=0.82138, loss=-0.75303]\n"
     ]
    },
    {
     "name": "stdout",
     "output_type": "stream",
     "text": [
      "loss: -0.80346 | bce: 0.03899 | dice: 0.82868 | 0 cls: 0.14419 | 1 cls: 0.20487 | 2 cls: 0.16684\n"
     ]
    },
    {
     "name": "stderr",
     "output_type": "stream",
     "text": [
      "Epoch 43, lr 0.0005: 100% 21/21 [00:12<00:00,  1.71it/s, 0 cls=0.20942, 1 cls=0.28642, 2 cls=0.23876, bce=0.08066, dice=0.81404, loss=-0.74445]\n"
     ]
    },
    {
     "name": "stdout",
     "output_type": "stream",
     "text": [
      "loss: -0.80981 | bce: 0.03641 | dice: 0.83442 | 0 cls: 0.14233 | 1 cls: 0.19393 | 2 cls: 0.16377\n"
     ]
    },
    {
     "name": "stderr",
     "output_type": "stream",
     "text": [
      "Epoch 44, lr 0.0005: 100% 21/21 [00:12<00:00,  1.68it/s, 0 cls=0.19680, 1 cls=0.27762, 2 cls=0.23096, bce=0.07704, dice=0.81932, loss=-0.75388]\n"
     ]
    },
    {
     "name": "stdout",
     "output_type": "stream",
     "text": [
      "loss: -0.82144 | bce: 0.03871 | dice: 0.84521 | 0 cls: 0.13549 | 1 cls: 0.18335 | 2 cls: 0.14686\n"
     ]
    },
    {
     "name": "stderr",
     "output_type": "stream",
     "text": [
      "Epoch 45, lr 0.0005: 100% 21/21 [00:12<00:00,  1.71it/s, 0 cls=0.19646, 1 cls=0.27836, 2 cls=0.23172, bce=0.07973, dice=0.82230, loss=-0.75366]\n"
     ]
    },
    {
     "name": "stdout",
     "output_type": "stream",
     "text": [
      "loss: -0.81868 | bce: 0.03423 | dice: 0.84308 | 0 cls: 0.13110 | 1 cls: 0.17594 | 2 cls: 0.14611\n"
     ]
    },
    {
     "name": "stderr",
     "output_type": "stream",
     "text": [
      "Epoch 46, lr 0.0005: 100% 21/21 [00:12<00:00,  1.63it/s, 0 cls=0.19539, 1 cls=0.27876, 2 cls=0.22913, bce=0.07727, dice=0.82128, loss=-0.75439]\n"
     ]
    },
    {
     "name": "stdout",
     "output_type": "stream",
     "text": [
      "loss: -0.81512 | bce: 0.03890 | dice: 0.83987 | 0 cls: 0.13910 | 1 cls: 0.18640 | 2 cls: 0.15856\n"
     ]
    },
    {
     "name": "stderr",
     "output_type": "stream",
     "text": [
      "Epoch 47, lr 0.0005: 100% 21/21 [00:12<00:00,  1.72it/s, 0 cls=0.20447, 1 cls=0.28484, 2 cls=0.23640, bce=0.08181, dice=0.81852, loss=-0.74731]\n"
     ]
    },
    {
     "name": "stdout",
     "output_type": "stream",
     "text": [
      "loss: -0.77503 | bce: 0.04616 | dice: 0.80638 | 0 cls: 0.16901 | 1 cls: 0.23478 | 2 cls: 0.19127\n"
     ]
    },
    {
     "name": "stderr",
     "output_type": "stream",
     "text": [
      "Epoch 48, lr 0.0005: 100% 21/21 [00:12<00:00,  1.68it/s, 0 cls=0.19994, 1 cls=0.28805, 2 cls=0.23802, bce=0.07983, dice=0.81840, loss=-0.74839]\n"
     ]
    },
    {
     "name": "stdout",
     "output_type": "stream",
     "text": [
      "loss: -0.82136 | bce: 0.03441 | dice: 0.84377 | 0 cls: 0.13301 | 1 cls: 0.17957 | 2 cls: 0.14867\n"
     ]
    },
    {
     "name": "stderr",
     "output_type": "stream",
     "text": [
      "Epoch 49, lr 0.0005: 100% 21/21 [00:12<00:00,  1.69it/s, 0 cls=0.19982, 1 cls=0.28666, 2 cls=0.23534, bce=0.08038, dice=0.81887, loss=-0.74877]\n"
     ]
    },
    {
     "name": "stdout",
     "output_type": "stream",
     "text": [
      "loss: -0.82935 | bce: 0.03442 | dice: 0.84920 | 0 cls: 0.12522 | 1 cls: 0.17507 | 2 cls: 0.14481\n"
     ]
    },
    {
     "name": "stderr",
     "output_type": "stream",
     "text": [
      "Epoch 50, lr 0.0005: 100% 21/21 [00:12<00:00,  1.67it/s, 0 cls=0.20511, 1 cls=0.28939, 2 cls=0.24201, bce=0.08312, dice=0.81785, loss=-0.74527]\n"
     ]
    },
    {
     "name": "stdout",
     "output_type": "stream",
     "text": [
      "loss: -0.80484 | bce: 0.03734 | dice: 0.82859 | 0 cls: 0.14070 | 1 cls: 0.21599 | 2 cls: 0.16424\n"
     ]
    },
    {
     "name": "stderr",
     "output_type": "stream",
     "text": [
      "Epoch 51, lr 0.0005: 100% 21/21 [00:12<00:00,  1.74it/s, 0 cls=0.19554, 1 cls=0.27986, 2 cls=0.23042, bce=0.07724, dice=0.82055, loss=-0.75376]\n"
     ]
    },
    {
     "name": "stdout",
     "output_type": "stream",
     "text": [
      "loss: -0.81272 | bce: 0.03703 | dice: 0.83812 | 0 cls: 0.13867 | 1 cls: 0.18750 | 2 cls: 0.15881\n"
     ]
    },
    {
     "name": "stderr",
     "output_type": "stream",
     "text": [
      "Epoch 52, lr 0.0005: 100% 21/21 [00:12<00:00,  1.72it/s, 0 cls=0.19412, 1 cls=0.27058, 2 cls=0.22558, bce=0.07627, dice=0.82383, loss=-0.75851]\n"
     ]
    },
    {
     "name": "stdout",
     "output_type": "stream",
     "text": [
      "loss: -0.83023 | bce: 0.03602 | dice: 0.85201 | 0 cls: 0.12441 | 1 cls: 0.17430 | 2 cls: 0.14297\n"
     ]
    },
    {
     "name": "stderr",
     "output_type": "stream",
     "text": [
      "Epoch 53, lr 0.0005: 100% 21/21 [00:12<00:00,  1.70it/s, 0 cls=0.19073, 1 cls=0.27862, 2 cls=0.22798, bce=0.07784, dice=0.82412, loss=-0.75648]\n"
     ]
    },
    {
     "name": "stdout",
     "output_type": "stream",
     "text": [
      "loss: -0.82521 | bce: 0.03341 | dice: 0.84812 | 0 cls: 0.12590 | 1 cls: 0.17526 | 2 cls: 0.14544\n"
     ]
    },
    {
     "name": "stderr",
     "output_type": "stream",
     "text": [
      "Epoch 54, lr 0.0005: 100% 21/21 [00:12<00:00,  1.71it/s, 0 cls=0.21046, 1 cls=0.28105, 2 cls=0.23623, bce=0.08258, dice=0.81847, loss=-0.74639]\n"
     ]
    },
    {
     "name": "stdout",
     "output_type": "stream",
     "text": [
      "loss: -0.80561 | bce: 0.04047 | dice: 0.83336 | 0 cls: 0.14688 | 1 cls: 0.20055 | 2 cls: 0.16659\n"
     ]
    },
    {
     "name": "stderr",
     "output_type": "stream",
     "text": [
      "Epoch 55, lr 0.0005: 100% 21/21 [00:12<00:00,  1.70it/s, 0 cls=0.19896, 1 cls=0.28524, 2 cls=0.23538, bce=0.07958, dice=0.82034, loss=-0.75038]\n"
     ]
    },
    {
     "name": "stdout",
     "output_type": "stream",
     "text": [
      "loss: -0.82142 | bce: 0.03514 | dice: 0.84244 | 0 cls: 0.13458 | 1 cls: 0.18121 | 2 cls: 0.15555\n"
     ]
    },
    {
     "name": "stderr",
     "output_type": "stream",
     "text": [
      "Epoch 56, lr 0.0005: 100% 21/21 [00:12<00:00,  1.68it/s, 0 cls=0.19729, 1 cls=0.27475, 2 cls=0.22942, bce=0.07701, dice=0.82193, loss=-0.75563]\n"
     ]
    },
    {
     "name": "stdout",
     "output_type": "stream",
     "text": [
      "loss: -0.81629 | bce: 0.03726 | dice: 0.83840 | 0 cls: 0.13714 | 1 cls: 0.18603 | 2 cls: 0.15733\n"
     ]
    },
    {
     "name": "stderr",
     "output_type": "stream",
     "text": [
      "Epoch 57, lr 0.0005: 100% 21/21 [00:12<00:00,  1.68it/s, 0 cls=0.19016, 1 cls=0.27553, 2 cls=0.22691, bce=0.07753, dice=0.82561, loss=-0.75814]\n"
     ]
    },
    {
     "name": "stdout",
     "output_type": "stream",
     "text": [
      "loss: -0.80991 | bce: 0.03864 | dice: 0.83321 | 0 cls: 0.14176 | 1 cls: 0.19437 | 2 cls: 0.16525\n"
     ]
    },
    {
     "name": "stderr",
     "output_type": "stream",
     "text": [
      "Epoch 58, lr 0.0005: 100% 21/21 [00:12<00:00,  1.67it/s, 0 cls=0.18615, 1 cls=0.26912, 2 cls=0.22245, bce=0.07621, dice=0.82898, loss=-0.76316]\n"
     ]
    },
    {
     "name": "stdout",
     "output_type": "stream",
     "text": [
      "loss: -0.83147 | bce: 0.03394 | dice: 0.85321 | 0 cls: 0.12289 | 1 cls: 0.16957 | 2 cls: 0.14085\n"
     ]
    },
    {
     "name": "stderr",
     "output_type": "stream",
     "text": [
      "Epoch 59, lr 0.0005: 100% 21/21 [00:12<00:00,  1.71it/s, 0 cls=0.20562, 1 cls=0.28282, 2 cls=0.23744, bce=0.07921, dice=0.81724, loss=-0.74839]\n"
     ]
    },
    {
     "name": "stdout",
     "output_type": "stream",
     "text": [
      "loss: -0.81578 | bce: 0.04063 | dice: 0.84931 | 0 cls: 0.12784 | 1 cls: 0.19567 | 2 cls: 0.15300\n"
     ]
    },
    {
     "name": "stderr",
     "output_type": "stream",
     "text": [
      "Epoch 60, lr 0.0005: 100% 21/21 [00:12<00:00,  1.68it/s, 0 cls=0.19326, 1 cls=0.27953, 2 cls=0.22913, bce=0.07850, dice=0.82380, loss=-0.75524]\n"
     ]
    },
    {
     "name": "stdout",
     "output_type": "stream",
     "text": [
      "loss: -0.82412 | bce: 0.03424 | dice: 0.84345 | 0 cls: 0.13146 | 1 cls: 0.17716 | 2 cls: 0.15419\n"
     ]
    },
    {
     "name": "stderr",
     "output_type": "stream",
     "text": [
      "Epoch 61, lr 0.0005: 100% 21/21 [00:12<00:00,  1.68it/s, 0 cls=0.21153, 1 cls=0.28686, 2 cls=0.24271, bce=0.08373, dice=0.81793, loss=-0.74429]\n"
     ]
    },
    {
     "name": "stdout",
     "output_type": "stream",
     "text": [
      "loss: -0.78943 | bce: 0.03938 | dice: 0.82071 | 0 cls: 0.15804 | 1 cls: 0.21702 | 2 cls: 0.17853\n"
     ]
    },
    {
     "name": "stderr",
     "output_type": "stream",
     "text": [
      "Epoch 62, lr 0.0005: 100% 21/21 [00:12<00:00,  1.67it/s, 0 cls=0.18922, 1 cls=0.27197, 2 cls=0.22513, bce=0.07509, dice=0.82492, loss=-0.76047]\n"
     ]
    },
    {
     "name": "stdout",
     "output_type": "stream",
     "text": [
      "loss: -0.83002 | bce: 0.03469 | dice: 0.85033 | 0 cls: 0.12628 | 1 cls: 0.16564 | 2 cls: 0.14354\n"
     ]
    },
    {
     "name": "stderr",
     "output_type": "stream",
     "text": [
      "Epoch 63, lr 0.0005: 100% 21/21 [00:12<00:00,  1.69it/s, 0 cls=0.19366, 1 cls=0.26873, 2 cls=0.22710, bce=0.07716, dice=0.82570, loss=-0.75948]\n"
     ]
    },
    {
     "name": "stdout",
     "output_type": "stream",
     "text": [
      "loss: -0.82694 | bce: 0.03388 | dice: 0.84725 | 0 cls: 0.12963 | 1 cls: 0.17358 | 2 cls: 0.14847\n"
     ]
    },
    {
     "name": "stderr",
     "output_type": "stream",
     "text": [
      "Epoch 64, lr 0.0005: 100% 21/21 [00:12<00:00,  1.69it/s, 0 cls=0.18912, 1 cls=0.27068, 2 cls=0.22369, bce=0.07626, dice=0.82706, loss=-0.76105]\n"
     ]
    },
    {
     "name": "stdout",
     "output_type": "stream",
     "text": [
      "loss: -0.83086 | bce: 0.03515 | dice: 0.85056 | 0 cls: 0.12307 | 1 cls: 0.17121 | 2 cls: 0.14753\n"
     ]
    },
    {
     "name": "stderr",
     "output_type": "stream",
     "text": [
      "Epoch 65, lr 0.0005: 100% 21/21 [00:12<00:00,  1.69it/s, 0 cls=0.19406, 1 cls=0.27263, 2 cls=0.22907, bce=0.07669, dice=0.82446, loss=-0.75821]\n"
     ]
    },
    {
     "name": "stdout",
     "output_type": "stream",
     "text": [
      "loss: -0.83659 | bce: 0.03290 | dice: 0.85831 | 0 cls: 0.11702 | 1 cls: 0.16892 | 2 cls: 0.13992\n"
     ]
    },
    {
     "name": "stderr",
     "output_type": "stream",
     "text": [
      "Epoch 66, lr 0.0005:  57% 12/21 [00:07<00:05,  1.60it/s, 0 cls=0.17896, 1 cls=0.26059, 2 cls=0.21448, bce=0.07552, dice=0.83663, loss=-0.77074]"
     ]
    }
   ],
   "source": [
    "train_args = {\n",
    "    'model_name': 'TernausNet34_with_scale_05_centers_contour_epoch_800_vgg11',\n",
    "    'network': 'TernausNet34',\n",
    "    'nb_epoch': 800,\n",
    "    'loss': 'BCEDiceLossMultiWithoutLog',\n",
    "    'lr_args': {\n",
    "        'adjust_init_lr': 0.0005,\n",
    "        'adjust_lr_decay_factor': 0.6,\n",
    "        'cycle_epochs_decay': 2,\n",
    "        'cycle_init_lr': 0.002,\n",
    "        'cycle_lr_decay_factor': 0.3,\n",
    "        'global_cycle_lr_decay_factor': 0.7,\n",
    "        'global_num_epochs_per_cycle': 200,\n",
    "        'num_epochs_per_cycle': 5,\n",
    "        'num_epochs_per_decay': 200\n",
    "    }, \n",
    "    'model_dir': 'models', \n",
    "    'log_dir': 'logs', \n",
    "    'network_args': {\n",
    "        'num_classes': 4, \n",
    "        'num_filters': 32, \n",
    "        'pretrained': True\n",
    "    }, \n",
    "    'loss_args': {\n",
    "        'weights': [0.4, 0.4, 0.1, 0.1],\n",
    "        'num_classes': 4\n",
    "    },       \n",
    "    'optimizer': 'Adam'\n",
    "}\n",
    "\n",
    "train(\n",
    "    train_args, train_ids + val_ids, val_ids[:1], \n",
    "    \"../output_data/with_scale_05_centers_contour/images/{}.png\", \"../output_data/with_scale_05_centers_contour/masks/{}.png\", \n",
    "    32, 1, train_transforms, val_transforms, period=64\n",
    ")"
   ]
  },
  {
   "cell_type": "code",
   "execution_count": null,
   "metadata": {},
   "outputs": [],
   "source": []
  }
 ],
 "metadata": {
  "kernelspec": {
   "display_name": "Environment (conda_pytorch_p36)",
   "language": "python",
   "name": "conda_pytorch_p36"
  },
  "language_info": {
   "codemirror_mode": {
    "name": "ipython",
    "version": 3
   },
   "file_extension": ".py",
   "mimetype": "text/x-python",
   "name": "python",
   "nbconvert_exporter": "python",
   "pygments_lexer": "ipython3",
   "version": "3.6.4"
  }
 },
 "nbformat": 4,
 "nbformat_minor": 2
}
