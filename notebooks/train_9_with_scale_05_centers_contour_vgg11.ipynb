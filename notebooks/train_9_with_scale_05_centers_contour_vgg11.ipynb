{
 "cells": [
  {
   "cell_type": "code",
   "execution_count": 1,
   "metadata": {},
   "outputs": [
    {
     "data": {
      "text/html": [
       "<style>.container { width:95% !important; }</style>"
      ],
      "text/plain": [
       "<IPython.core.display.HTML object>"
      ]
     },
     "metadata": {},
     "output_type": "display_data"
    }
   ],
   "source": [
    "from IPython.core.display import display, HTML\n",
    "display(HTML(\"<style>.container { width:95% !important; }</style>\"))"
   ]
  },
  {
   "cell_type": "code",
   "execution_count": 2,
   "metadata": {},
   "outputs": [],
   "source": [
    "import warnings\n",
    "warnings.simplefilter(\"ignore\", UserWarning)\n",
    "warnings.simplefilter(\"ignore\", FutureWarning)\n",
    "warnings.simplefilter(\"ignore\", RuntimeWarning)\n",
    "\n",
    "import sys\n",
    "sys.path.append('../../dstorch/')\n",
    "\n",
    "import matplotlib.pyplot as plt\n",
    "%matplotlib inline\n",
    "%reload_ext autoreload\n",
    "%autoreload 2"
   ]
  },
  {
   "cell_type": "code",
   "execution_count": 3,
   "metadata": {},
   "outputs": [],
   "source": [
    "import os\n",
    "import pandas as pd\n",
    "from dstorch import transforms\n",
    "from dstorch.train import train\n",
    "import torch.backends.cudnn as cudnn\n",
    "import cv2"
   ]
  },
  {
   "cell_type": "code",
   "execution_count": 4,
   "metadata": {},
   "outputs": [],
   "source": [
    "ids = list([x.split('.')[0] for x in list(next(os.walk(\"../output_data/with_scale_05_centers_contour/images/\"))[2])])\n",
    "classes = pd.read_csv(\"../data/classes.csv\")\n",
    "val_ids = list(classes.loc[classes['type'] == 'val', 'id'])\n",
    "train_ids = list(set(ids) - set(val_ids))"
   ]
  },
  {
   "cell_type": "code",
   "execution_count": 5,
   "metadata": {},
   "outputs": [],
   "source": [
    "train_transforms = transforms.DualCompose(\n",
    "    [\n",
    "        transforms.RandomCrop((256, 256)),\n",
    "        transforms.VerticalFlip(),\n",
    "        transforms.HorizontalFlip(),\n",
    "        transforms.Transpose(),\n",
    "        transforms.ShiftScaleRotate(scale_limit=0.35, shift_limit=0.35),\n",
    "        transforms.Distort1(0.4, 0.4),\n",
    "        transforms.ImageOnly(transforms.RandomBrightness(0.55)),\n",
    "        transforms.ImageOnly(transforms.RandomContrast(0.55)),\n",
    "        transforms.ImageOnly(transforms.RandomSaturation(0.55)),\n",
    "        transforms.ImageOnly(transforms.Normalize(\n",
    "            mean=[0.485, 0.456, 0.406],\n",
    "            std=[0.229, 0.224, 0.225]\n",
    "        ))\n",
    "    ]\n",
    ")\n",
    "\n",
    "val_transforms = transforms.DualCompose(\n",
    "    [\n",
    "        transforms.ImageOnly(transforms.Normalize(\n",
    "            mean=[0.485, 0.456, 0.406],\n",
    "            std=[0.229, 0.224, 0.225]\n",
    "        ))\n",
    "    ]\n",
    ")"
   ]
  },
  {
   "cell_type": "code",
   "execution_count": 6,
   "metadata": {},
   "outputs": [],
   "source": [
    "cudnn.benchmark = True"
   ]
  },
  {
   "cell_type": "code",
   "execution_count": null,
   "metadata": {
    "scrolled": true
   },
   "outputs": [
    {
     "name": "stderr",
     "output_type": "stream",
     "text": [
      "Epoch 0, lr 0.0005: 100% 21/21 [00:17<00:00,  1.18it/s, 0 cls=1.92869, 1 cls=2.52196, 2 cls=2.25857, bce=0.40594, dice=0.18688, loss=0.21146]\n"
     ]
    },
    {
     "name": "stdout",
     "output_type": "stream",
     "text": [
      "loss: 0.20282 | bce: 0.36259 | dice: 0.14466 | 0 cls: 2.00365 | 1 cls: 2.42660 | 2 cls: 2.32525\n"
     ]
    },
    {
     "name": "stderr",
     "output_type": "stream",
     "text": [
      "Epoch 1, lr 0.0005: 100% 21/21 [00:12<00:00,  1.67it/s, 0 cls=0.98214, 1 cls=1.24467, 2 cls=1.11018, bce=0.17413, dice=0.38151, loss=-0.21373]\n"
     ]
    },
    {
     "name": "stdout",
     "output_type": "stream",
     "text": [
      "loss: -0.32766 | bce: 0.09806 | dice: 0.40492 | 0 cls: 0.83848 | 1 cls: 0.97618 | 2 cls: 0.92384\n"
     ]
    },
    {
     "name": "stderr",
     "output_type": "stream",
     "text": [
      "Epoch 2, lr 0.0005: 100% 21/21 [00:12<00:00,  1.70it/s, 0 cls=0.57206, 1 cls=0.85642, 2 cls=0.67232, bce=0.15455, dice=0.55184, loss=-0.40710]\n"
     ]
    },
    {
     "name": "stdout",
     "output_type": "stream",
     "text": [
      "loss: -0.56025 | bce: 0.10513 | dice: 0.63326 | 0 cls: 0.37925 | 1 cls: 0.54915 | 2 cls: 0.41304\n"
     ]
    },
    {
     "name": "stderr",
     "output_type": "stream",
     "text": [
      "Epoch 3, lr 0.0005: 100% 21/21 [00:12<00:00,  1.69it/s, 0 cls=0.39883, 1 cls=0.60300, 2 cls=0.43832, bce=0.13893, dice=0.65756, loss=-0.53152]\n"
     ]
    },
    {
     "name": "stdout",
     "output_type": "stream",
     "text": [
      "loss: -0.56691 | bce: 0.09547 | dice: 0.64544 | 0 cls: 0.37921 | 1 cls: 0.54509 | 2 cls: 0.40516\n"
     ]
    },
    {
     "name": "stderr",
     "output_type": "stream",
     "text": [
      "Epoch 4, lr 0.0005: 100% 21/21 [00:12<00:00,  1.71it/s, 0 cls=0.33812, 1 cls=0.50329, 2 cls=0.39735, bce=0.12408, dice=0.70170, loss=-0.59274]\n"
     ]
    },
    {
     "name": "stdout",
     "output_type": "stream",
     "text": [
      "loss: -0.59581 | bce: 0.07788 | dice: 0.65565 | 0 cls: 0.32255 | 1 cls: 0.53238 | 2 cls: 0.41264\n"
     ]
    },
    {
     "name": "stderr",
     "output_type": "stream",
     "text": [
      "Epoch 5, lr 0.0005: 100% 21/21 [00:12<00:00,  1.71it/s, 0 cls=0.28911, 1 cls=0.46022, 2 cls=0.36523, bce=0.11040, dice=0.73161, loss=-0.63350]\n"
     ]
    },
    {
     "name": "stdout",
     "output_type": "stream",
     "text": [
      "loss: -0.38450 | bce: 0.11758 | dice: 0.50469 | 0 cls: 0.53205 | 1 cls: 1.04241 | 2 cls: 0.76117\n"
     ]
    },
    {
     "name": "stderr",
     "output_type": "stream",
     "text": [
      "Epoch 6, lr 0.0005: 100% 21/21 [00:12<00:00,  1.70it/s, 0 cls=0.29146, 1 cls=0.43654, 2 cls=0.35416, bce=0.11124, dice=0.73925, loss=-0.64192]\n"
     ]
    },
    {
     "name": "stdout",
     "output_type": "stream",
     "text": [
      "loss: -0.63072 | bce: 0.07126 | dice: 0.68293 | 0 cls: 0.29441 | 1 cls: 0.45926 | 2 cls: 0.36254\n"
     ]
    },
    {
     "name": "stderr",
     "output_type": "stream",
     "text": [
      "Epoch 7, lr 0.0005: 100% 21/21 [00:12<00:00,  1.71it/s, 0 cls=0.25926, 1 cls=0.39864, 2 cls=0.32070, bce=0.10050, dice=0.75970, loss=-0.67180]\n"
     ]
    },
    {
     "name": "stdout",
     "output_type": "stream",
     "text": [
      "loss: -0.62251 | bce: 0.07258 | dice: 0.67872 | 0 cls: 0.29675 | 1 cls: 0.48032 | 2 cls: 0.38119\n"
     ]
    },
    {
     "name": "stderr",
     "output_type": "stream",
     "text": [
      "Epoch 8, lr 0.0005: 100% 21/21 [00:12<00:00,  1.72it/s, 0 cls=0.30022, 1 cls=0.40952, 2 cls=0.33931, bce=0.11100, dice=0.74644, loss=-0.64935]\n"
     ]
    },
    {
     "name": "stdout",
     "output_type": "stream",
     "text": [
      "loss: -0.64145 | bce: 0.06494 | dice: 0.69000 | 0 cls: 0.29113 | 1 cls: 0.43602 | 2 cls: 0.34785\n"
     ]
    },
    {
     "name": "stderr",
     "output_type": "stream",
     "text": [
      "Epoch 9, lr 0.0005: 100% 21/21 [00:12<00:00,  1.69it/s, 0 cls=0.27607, 1 cls=0.39974, 2 cls=0.32720, bce=0.10745, dice=0.75984, loss=-0.66391]\n"
     ]
    },
    {
     "name": "stdout",
     "output_type": "stream",
     "text": [
      "loss: -0.65228 | bce: 0.07393 | dice: 0.70408 | 0 cls: 0.31134 | 1 cls: 0.38430 | 2 cls: 0.31448\n"
     ]
    },
    {
     "name": "stderr",
     "output_type": "stream",
     "text": [
      "Epoch 10, lr 0.0005: 100% 21/21 [00:12<00:00,  1.69it/s, 0 cls=0.27446, 1 cls=0.38897, 2 cls=0.31233, bce=0.10166, dice=0.75862, loss=-0.66968]\n"
     ]
    },
    {
     "name": "stdout",
     "output_type": "stream",
     "text": [
      "loss: -0.66311 | bce: 0.06785 | dice: 0.70967 | 0 cls: 0.28787 | 1 cls: 0.38202 | 2 cls: 0.31043\n"
     ]
    },
    {
     "name": "stderr",
     "output_type": "stream",
     "text": [
      "Epoch 11, lr 0.0005: 100% 21/21 [00:12<00:00,  1.69it/s, 0 cls=0.25922, 1 cls=0.38740, 2 cls=0.31047, bce=0.10065, dice=0.76737, loss=-0.67777]\n"
     ]
    },
    {
     "name": "stdout",
     "output_type": "stream",
     "text": [
      "loss: -0.65655 | bce: 0.06295 | dice: 0.70201 | 0 cls: 0.27818 | 1 cls: 0.40738 | 2 cls: 0.33104\n"
     ]
    },
    {
     "name": "stderr",
     "output_type": "stream",
     "text": [
      "Epoch 12, lr 0.0005: 100% 21/21 [00:12<00:00,  1.68it/s, 0 cls=0.25954, 1 cls=0.38478, 2 cls=0.31254, bce=0.10026, dice=0.76819, loss=-0.67875]\n"
     ]
    },
    {
     "name": "stdout",
     "output_type": "stream",
     "text": [
      "loss: -0.68808 | bce: 0.06028 | dice: 0.72839 | 0 cls: 0.24833 | 1 cls: 0.36256 | 2 cls: 0.28596\n"
     ]
    },
    {
     "name": "stderr",
     "output_type": "stream",
     "text": [
      "Epoch 13, lr 0.0005: 100% 21/21 [00:12<00:00,  1.71it/s, 0 cls=0.27703, 1 cls=0.38446, 2 cls=0.31735, bce=0.10369, dice=0.76317, loss=-0.67085]\n"
     ]
    },
    {
     "name": "stdout",
     "output_type": "stream",
     "text": [
      "loss: -0.68439 | bce: 0.05699 | dice: 0.72508 | 0 cls: 0.24929 | 1 cls: 0.37132 | 2 cls: 0.29401\n"
     ]
    },
    {
     "name": "stderr",
     "output_type": "stream",
     "text": [
      "Epoch 14, lr 0.0005: 100% 21/21 [00:12<00:00,  1.66it/s, 0 cls=0.26079, 1 cls=0.36275, 2 cls=0.30137, bce=0.09815, dice=0.77305, loss=-0.68753]\n"
     ]
    },
    {
     "name": "stdout",
     "output_type": "stream",
     "text": [
      "loss: -0.69615 | bce: 0.06359 | dice: 0.73550 | 0 cls: 0.26602 | 1 cls: 0.31781 | 2 cls: 0.26834\n"
     ]
    },
    {
     "name": "stderr",
     "output_type": "stream",
     "text": [
      "Epoch 15, lr 0.0005: 100% 21/21 [00:12<00:00,  1.69it/s, 0 cls=0.24794, 1 cls=0.35507, 2 cls=0.29095, bce=0.09527, dice=0.78123, loss=-0.69666]\n"
     ]
    },
    {
     "name": "stdout",
     "output_type": "stream",
     "text": [
      "loss: -0.68991 | bce: 0.05482 | dice: 0.72949 | 0 cls: 0.25228 | 1 cls: 0.35662 | 2 cls: 0.28628\n"
     ]
    },
    {
     "name": "stderr",
     "output_type": "stream",
     "text": [
      "Epoch 16, lr 0.0005: 100% 21/21 [00:12<00:00,  1.69it/s, 0 cls=0.24113, 1 cls=0.34769, 2 cls=0.28650, bce=0.09132, dice=0.78327, loss=-0.70312]\n"
     ]
    },
    {
     "name": "stdout",
     "output_type": "stream",
     "text": [
      "loss: -0.70301 | bce: 0.05775 | dice: 0.74455 | 0 cls: 0.23057 | 1 cls: 0.33820 | 2 cls: 0.27294\n"
     ]
    },
    {
     "name": "stderr",
     "output_type": "stream",
     "text": [
      "Epoch 17, lr 0.0005: 100% 21/21 [00:12<00:00,  1.69it/s, 0 cls=0.25793, 1 cls=0.36191, 2 cls=0.29915, bce=0.09928, dice=0.77899, loss=-0.68985]\n"
     ]
    },
    {
     "name": "stdout",
     "output_type": "stream",
     "text": [
      "loss: -0.70084 | bce: 0.07405 | dice: 0.74698 | 0 cls: 0.27089 | 1 cls: 0.29229 | 2 cls: 0.25766\n"
     ]
    },
    {
     "name": "stderr",
     "output_type": "stream",
     "text": [
      "Epoch 18, lr 0.0005: 100% 21/21 [00:12<00:00,  1.69it/s, 0 cls=0.24635, 1 cls=0.35047, 2 cls=0.28686, bce=0.09524, dice=0.78411, loss=-0.69958]\n"
     ]
    },
    {
     "name": "stdout",
     "output_type": "stream",
     "text": [
      "loss: -0.69936 | bce: 0.05722 | dice: 0.74479 | 0 cls: 0.25271 | 1 cls: 0.32814 | 2 cls: 0.26681\n"
     ]
    },
    {
     "name": "stderr",
     "output_type": "stream",
     "text": [
      "Epoch 19, lr 0.0005: 100% 21/21 [00:12<00:00,  1.67it/s, 0 cls=0.24383, 1 cls=0.34691, 2 cls=0.28578, bce=0.09252, dice=0.78368, loss=-0.70250]\n"
     ]
    },
    {
     "name": "stdout",
     "output_type": "stream",
     "text": [
      "loss: -0.74134 | bce: 0.05039 | dice: 0.77930 | 0 cls: 0.19901 | 1 cls: 0.27932 | 2 cls: 0.22580\n"
     ]
    },
    {
     "name": "stderr",
     "output_type": "stream",
     "text": [
      "Epoch 20, lr 0.0005: 100% 21/21 [00:12<00:00,  1.70it/s, 0 cls=0.24330, 1 cls=0.34688, 2 cls=0.28190, bce=0.09453, dice=0.78672, loss=-0.70250]\n"
     ]
    },
    {
     "name": "stdout",
     "output_type": "stream",
     "text": [
      "loss: -0.75713 | bce: 0.04688 | dice: 0.78984 | 0 cls: 0.18542 | 1 cls: 0.26026 | 2 cls: 0.21586\n"
     ]
    },
    {
     "name": "stderr",
     "output_type": "stream",
     "text": [
      "Epoch 21, lr 0.0005: 100% 21/21 [00:12<00:00,  1.70it/s, 0 cls=0.23052, 1 cls=0.32781, 2 cls=0.27152, bce=0.08833, dice=0.79312, loss=-0.71609]\n"
     ]
    },
    {
     "name": "stdout",
     "output_type": "stream",
     "text": [
      "loss: -0.74100 | bce: 0.04998 | dice: 0.77694 | 0 cls: 0.19049 | 1 cls: 0.30459 | 2 cls: 0.22265\n"
     ]
    },
    {
     "name": "stderr",
     "output_type": "stream",
     "text": [
      "Epoch 22, lr 0.0005: 100% 21/21 [00:12<00:00,  1.69it/s, 0 cls=0.22168, 1 cls=0.31464, 2 cls=0.25844, bce=0.08753, dice=0.80192, loss=-0.72568]\n"
     ]
    },
    {
     "name": "stdout",
     "output_type": "stream",
     "text": [
      "loss: -0.74705 | bce: 0.04531 | dice: 0.77801 | 0 cls: 0.19297 | 1 cls: 0.27781 | 2 cls: 0.22538\n"
     ]
    },
    {
     "name": "stderr",
     "output_type": "stream",
     "text": [
      "Epoch 23, lr 0.0005: 100% 21/21 [00:12<00:00,  1.67it/s, 0 cls=0.23106, 1 cls=0.32500, 2 cls=0.26814, bce=0.08916, dice=0.79591, loss=-0.71771]\n"
     ]
    },
    {
     "name": "stdout",
     "output_type": "stream",
     "text": [
      "loss: -0.76210 | bce: 0.04857 | dice: 0.79537 | 0 cls: 0.17282 | 1 cls: 0.26288 | 2 cls: 0.20642\n"
     ]
    },
    {
     "name": "stderr",
     "output_type": "stream",
     "text": [
      "Epoch 24, lr 0.0005: 100% 21/21 [00:12<00:00,  1.70it/s, 0 cls=0.21848, 1 cls=0.31227, 2 cls=0.25815, bce=0.08597, dice=0.80332, loss=-0.72860]\n"
     ]
    },
    {
     "name": "stdout",
     "output_type": "stream",
     "text": [
      "loss: -0.76827 | bce: 0.05101 | dice: 0.80201 | 0 cls: 0.18621 | 1 cls: 0.23729 | 2 cls: 0.19599\n"
     ]
    },
    {
     "name": "stderr",
     "output_type": "stream",
     "text": [
      "Epoch 25, lr 0.0005: 100% 21/21 [00:12<00:00,  1.68it/s, 0 cls=0.22326, 1 cls=0.31423, 2 cls=0.25963, bce=0.08660, dice=0.80102, loss=-0.72564]\n"
     ]
    },
    {
     "name": "stdout",
     "output_type": "stream",
     "text": [
      "loss: -0.69598 | bce: 0.06277 | dice: 0.73688 | 0 cls: 0.25293 | 1 cls: 0.31331 | 2 cls: 0.27508\n"
     ]
    },
    {
     "name": "stderr",
     "output_type": "stream",
     "text": [
      "Epoch 26, lr 0.0005: 100% 21/21 [00:12<00:00,  1.67it/s, 0 cls=0.22094, 1 cls=0.31267, 2 cls=0.25906, bce=0.08856, dice=0.80451, loss=-0.72689]\n"
     ]
    },
    {
     "name": "stdout",
     "output_type": "stream",
     "text": [
      "loss: -0.76835 | bce: 0.04350 | dice: 0.79581 | 0 cls: 0.18001 | 1 cls: 0.23017 | 2 cls: 0.19737\n"
     ]
    },
    {
     "name": "stderr",
     "output_type": "stream",
     "text": [
      "Epoch 27, lr 0.0005: 100% 21/21 [00:12<00:00,  1.70it/s, 0 cls=0.21026, 1 cls=0.30922, 2 cls=0.25079, bce=0.08348, dice=0.80665, loss=-0.73371]\n"
     ]
    },
    {
     "name": "stdout",
     "output_type": "stream",
     "text": [
      "loss: -0.78656 | bce: 0.04413 | dice: 0.82182 | 0 cls: 0.15020 | 1 cls: 0.22877 | 2 cls: 0.18422\n"
     ]
    },
    {
     "name": "stderr",
     "output_type": "stream",
     "text": [
      "Epoch 28, lr 0.0005: 100% 21/21 [00:12<00:00,  1.69it/s, 0 cls=0.21176, 1 cls=0.30867, 2 cls=0.25553, bce=0.08442, dice=0.80566, loss=-0.73284]\n"
     ]
    },
    {
     "name": "stdout",
     "output_type": "stream",
     "text": [
      "loss: -0.77817 | bce: 0.04138 | dice: 0.80419 | 0 cls: 0.16207 | 1 cls: 0.24122 | 2 cls: 0.19256\n"
     ]
    },
    {
     "name": "stderr",
     "output_type": "stream",
     "text": [
      "Epoch 29, lr 0.0005: 100% 21/21 [00:12<00:00,  1.73it/s, 0 cls=0.20969, 1 cls=0.30631, 2 cls=0.25013, bce=0.08321, dice=0.80758, loss=-0.73524]\n"
     ]
    },
    {
     "name": "stdout",
     "output_type": "stream",
     "text": [
      "loss: -0.78443 | bce: 0.04124 | dice: 0.81369 | 0 cls: 0.16424 | 1 cls: 0.21324 | 2 cls: 0.17722\n"
     ]
    },
    {
     "name": "stderr",
     "output_type": "stream",
     "text": [
      "Epoch 30, lr 0.0005: 100% 21/21 [00:12<00:00,  1.69it/s, 0 cls=0.20457, 1 cls=0.29788, 2 cls=0.24486, bce=0.08189, dice=0.81220, loss=-0.74109]\n"
     ]
    },
    {
     "name": "stdout",
     "output_type": "stream",
     "text": [
      "loss: -0.78925 | bce: 0.03755 | dice: 0.81702 | 0 cls: 0.15205 | 1 cls: 0.21684 | 2 cls: 0.17984\n"
     ]
    },
    {
     "name": "stderr",
     "output_type": "stream",
     "text": [
      "Epoch 31, lr 0.0005: 100% 21/21 [00:12<00:00,  1.68it/s, 0 cls=0.22535, 1 cls=0.32293, 2 cls=0.26670, bce=0.08865, dice=0.79923, loss=-0.72108]\n"
     ]
    },
    {
     "name": "stdout",
     "output_type": "stream",
     "text": [
      "loss: -0.77701 | bce: 0.04684 | dice: 0.80924 | 0 cls: 0.16948 | 1 cls: 0.22566 | 2 cls: 0.18390\n"
     ]
    },
    {
     "name": "stderr",
     "output_type": "stream",
     "text": [
      "Epoch 32, lr 0.0005: 100% 21/21 [00:12<00:00,  1.69it/s, 0 cls=0.21671, 1 cls=0.30584, 2 cls=0.25366, bce=0.08592, dice=0.80772, loss=-0.73242]\n"
     ]
    },
    {
     "name": "stdout",
     "output_type": "stream",
     "text": [
      "loss: -0.79634 | bce: 0.04482 | dice: 0.82771 | 0 cls: 0.14829 | 1 cls: 0.21258 | 2 cls: 0.17721\n"
     ]
    },
    {
     "name": "stderr",
     "output_type": "stream",
     "text": [
      "Epoch 33, lr 0.0005: 100% 21/21 [00:12<00:00,  1.73it/s, 0 cls=0.20538, 1 cls=0.30228, 2 cls=0.24686, bce=0.08346, dice=0.81172, loss=-0.73873]\n"
     ]
    },
    {
     "name": "stdout",
     "output_type": "stream",
     "text": [
      "loss: -0.79323 | bce: 0.03929 | dice: 0.82025 | 0 cls: 0.15497 | 1 cls: 0.20975 | 2 cls: 0.17694\n"
     ]
    },
    {
     "name": "stderr",
     "output_type": "stream",
     "text": [
      "Epoch 34, lr 0.0005: 100% 21/21 [00:12<00:00,  1.71it/s, 0 cls=0.20826, 1 cls=0.29353, 2 cls=0.24466, bce=0.08113, dice=0.81206, loss=-0.74196]\n"
     ]
    },
    {
     "name": "stdout",
     "output_type": "stream",
     "text": [
      "loss: -0.80723 | bce: 0.03947 | dice: 0.83448 | 0 cls: 0.14004 | 1 cls: 0.19500 | 2 cls: 0.16186\n"
     ]
    },
    {
     "name": "stderr",
     "output_type": "stream",
     "text": [
      "Epoch 35, lr 0.0005: 100% 21/21 [00:12<00:00,  1.69it/s, 0 cls=0.21268, 1 cls=0.29973, 2 cls=0.24878, bce=0.08324, dice=0.80978, loss=-0.73719]\n"
     ]
    },
    {
     "name": "stdout",
     "output_type": "stream",
     "text": [
      "loss: -0.77970 | bce: 0.04755 | dice: 0.81195 | 0 cls: 0.16303 | 1 cls: 0.23260 | 2 cls: 0.18380\n"
     ]
    },
    {
     "name": "stderr",
     "output_type": "stream",
     "text": [
      "Epoch 36, lr 0.0005: 100% 21/21 [00:12<00:00,  1.68it/s, 0 cls=0.20881, 1 cls=0.29511, 2 cls=0.24377, bce=0.08296, dice=0.81171, loss=-0.74025]\n"
     ]
    },
    {
     "name": "stdout",
     "output_type": "stream",
     "text": [
      "loss: -0.75004 | bce: 0.05333 | dice: 0.78787 | 0 cls: 0.20405 | 1 cls: 0.23225 | 2 cls: 0.19825\n"
     ]
    },
    {
     "name": "stderr",
     "output_type": "stream",
     "text": [
      "Epoch 37, lr 0.0005: 100% 21/21 [00:12<00:00,  1.71it/s, 0 cls=0.20908, 1 cls=0.29843, 2 cls=0.24827, bce=0.08288, dice=0.81076, loss=-0.73901]\n"
     ]
    },
    {
     "name": "stdout",
     "output_type": "stream",
     "text": [
      "loss: -0.79394 | bce: 0.04146 | dice: 0.81672 | 0 cls: 0.16340 | 1 cls: 0.20394 | 2 cls: 0.18004\n"
     ]
    },
    {
     "name": "stderr",
     "output_type": "stream",
     "text": [
      "Epoch 38, lr 0.0005: 100% 21/21 [00:12<00:00,  1.70it/s, 0 cls=0.21776, 1 cls=0.29840, 2 cls=0.25154, bce=0.08427, dice=0.80860, loss=-0.73541]\n"
     ]
    },
    {
     "name": "stdout",
     "output_type": "stream",
     "text": [
      "loss: -0.80116 | bce: 0.04111 | dice: 0.82806 | 0 cls: 0.15497 | 1 cls: 0.19817 | 2 cls: 0.17071\n"
     ]
    },
    {
     "name": "stderr",
     "output_type": "stream",
     "text": [
      "Epoch 39, lr 0.0005: 100% 21/21 [00:12<00:00,  1.71it/s, 0 cls=0.20731, 1 cls=0.29536, 2 cls=0.24413, bce=0.08213, dice=0.81219, loss=-0.74095]\n"
     ]
    },
    {
     "name": "stdout",
     "output_type": "stream",
     "text": [
      "loss: -0.79664 | bce: 0.03825 | dice: 0.81875 | 0 cls: 0.15349 | 1 cls: 0.21490 | 2 cls: 0.17365\n"
     ]
    },
    {
     "name": "stderr",
     "output_type": "stream",
     "text": [
      "Epoch 40, lr 0.0005: 100% 21/21 [00:12<00:00,  1.70it/s, 0 cls=0.20254, 1 cls=0.28858, 2 cls=0.23910, bce=0.08075, dice=0.81680, loss=-0.74669]\n"
     ]
    },
    {
     "name": "stdout",
     "output_type": "stream",
     "text": [
      "loss: -0.80114 | bce: 0.03724 | dice: 0.82435 | 0 cls: 0.14678 | 1 cls: 0.20955 | 2 cls: 0.16874\n"
     ]
    },
    {
     "name": "stderr",
     "output_type": "stream",
     "text": [
      "Epoch 41, lr 0.0005: 100% 21/21 [00:12<00:00,  1.70it/s, 0 cls=0.20768, 1 cls=0.28739, 2 cls=0.24109, bce=0.08216, dice=0.81578, loss=-0.74469]\n"
     ]
    },
    {
     "name": "stdout",
     "output_type": "stream",
     "text": [
      "loss: -0.81287 | bce: 0.03635 | dice: 0.83666 | 0 cls: 0.13956 | 1 cls: 0.18901 | 2 cls: 0.15500\n"
     ]
    },
    {
     "name": "stderr",
     "output_type": "stream",
     "text": [
      "Epoch 42, lr 0.0005: 100% 21/21 [00:12<00:00,  1.69it/s, 0 cls=0.19530, 1 cls=0.28227, 2 cls=0.23185, bce=0.07869, dice=0.82138, loss=-0.75303]\n"
     ]
    },
    {
     "name": "stdout",
     "output_type": "stream",
     "text": [
      "loss: -0.80346 | bce: 0.03899 | dice: 0.82868 | 0 cls: 0.14419 | 1 cls: 0.20487 | 2 cls: 0.16684\n"
     ]
    },
    {
     "name": "stderr",
     "output_type": "stream",
     "text": [
      "Epoch 43, lr 0.0005: 100% 21/21 [00:12<00:00,  1.71it/s, 0 cls=0.20942, 1 cls=0.28642, 2 cls=0.23876, bce=0.08066, dice=0.81404, loss=-0.74445]\n"
     ]
    },
    {
     "name": "stdout",
     "output_type": "stream",
     "text": [
      "loss: -0.80981 | bce: 0.03641 | dice: 0.83442 | 0 cls: 0.14233 | 1 cls: 0.19393 | 2 cls: 0.16377\n"
     ]
    },
    {
     "name": "stderr",
     "output_type": "stream",
     "text": [
      "Epoch 44, lr 0.0005: 100% 21/21 [00:12<00:00,  1.68it/s, 0 cls=0.19680, 1 cls=0.27762, 2 cls=0.23096, bce=0.07704, dice=0.81932, loss=-0.75388]\n"
     ]
    },
    {
     "name": "stdout",
     "output_type": "stream",
     "text": [
      "loss: -0.82144 | bce: 0.03871 | dice: 0.84521 | 0 cls: 0.13549 | 1 cls: 0.18335 | 2 cls: 0.14686\n"
     ]
    },
    {
     "name": "stderr",
     "output_type": "stream",
     "text": [
      "Epoch 45, lr 0.0005: 100% 21/21 [00:12<00:00,  1.71it/s, 0 cls=0.19646, 1 cls=0.27836, 2 cls=0.23172, bce=0.07973, dice=0.82230, loss=-0.75366]\n"
     ]
    },
    {
     "name": "stdout",
     "output_type": "stream",
     "text": [
      "loss: -0.81868 | bce: 0.03423 | dice: 0.84308 | 0 cls: 0.13110 | 1 cls: 0.17594 | 2 cls: 0.14611\n"
     ]
    },
    {
     "name": "stderr",
     "output_type": "stream",
     "text": [
      "Epoch 46, lr 0.0005: 100% 21/21 [00:12<00:00,  1.63it/s, 0 cls=0.19539, 1 cls=0.27876, 2 cls=0.22913, bce=0.07727, dice=0.82128, loss=-0.75439]\n"
     ]
    },
    {
     "name": "stdout",
     "output_type": "stream",
     "text": [
      "loss: -0.81512 | bce: 0.03890 | dice: 0.83987 | 0 cls: 0.13910 | 1 cls: 0.18640 | 2 cls: 0.15856\n"
     ]
    },
    {
     "name": "stderr",
     "output_type": "stream",
     "text": [
      "Epoch 47, lr 0.0005: 100% 21/21 [00:12<00:00,  1.72it/s, 0 cls=0.20447, 1 cls=0.28484, 2 cls=0.23640, bce=0.08181, dice=0.81852, loss=-0.74731]\n"
     ]
    },
    {
     "name": "stdout",
     "output_type": "stream",
     "text": [
      "loss: -0.77503 | bce: 0.04616 | dice: 0.80638 | 0 cls: 0.16901 | 1 cls: 0.23478 | 2 cls: 0.19127\n"
     ]
    },
    {
     "name": "stderr",
     "output_type": "stream",
     "text": [
      "Epoch 48, lr 0.0005: 100% 21/21 [00:12<00:00,  1.68it/s, 0 cls=0.19994, 1 cls=0.28805, 2 cls=0.23802, bce=0.07983, dice=0.81840, loss=-0.74839]\n"
     ]
    },
    {
     "name": "stdout",
     "output_type": "stream",
     "text": [
      "loss: -0.82136 | bce: 0.03441 | dice: 0.84377 | 0 cls: 0.13301 | 1 cls: 0.17957 | 2 cls: 0.14867\n"
     ]
    },
    {
     "name": "stderr",
     "output_type": "stream",
     "text": [
      "Epoch 49, lr 0.0005: 100% 21/21 [00:12<00:00,  1.69it/s, 0 cls=0.19982, 1 cls=0.28666, 2 cls=0.23534, bce=0.08038, dice=0.81887, loss=-0.74877]\n"
     ]
    },
    {
     "name": "stdout",
     "output_type": "stream",
     "text": [
      "loss: -0.82935 | bce: 0.03442 | dice: 0.84920 | 0 cls: 0.12522 | 1 cls: 0.17507 | 2 cls: 0.14481\n"
     ]
    },
    {
     "name": "stderr",
     "output_type": "stream",
     "text": [
      "Epoch 50, lr 0.0005: 100% 21/21 [00:12<00:00,  1.67it/s, 0 cls=0.20511, 1 cls=0.28939, 2 cls=0.24201, bce=0.08312, dice=0.81785, loss=-0.74527]\n"
     ]
    },
    {
     "name": "stdout",
     "output_type": "stream",
     "text": [
      "loss: -0.80484 | bce: 0.03734 | dice: 0.82859 | 0 cls: 0.14070 | 1 cls: 0.21599 | 2 cls: 0.16424\n"
     ]
    },
    {
     "name": "stderr",
     "output_type": "stream",
     "text": [
      "Epoch 51, lr 0.0005: 100% 21/21 [00:12<00:00,  1.74it/s, 0 cls=0.19554, 1 cls=0.27986, 2 cls=0.23042, bce=0.07724, dice=0.82055, loss=-0.75376]\n"
     ]
    },
    {
     "name": "stdout",
     "output_type": "stream",
     "text": [
      "loss: -0.81272 | bce: 0.03703 | dice: 0.83812 | 0 cls: 0.13867 | 1 cls: 0.18750 | 2 cls: 0.15881\n"
     ]
    },
    {
     "name": "stderr",
     "output_type": "stream",
     "text": [
      "Epoch 52, lr 0.0005: 100% 21/21 [00:12<00:00,  1.72it/s, 0 cls=0.19412, 1 cls=0.27058, 2 cls=0.22558, bce=0.07627, dice=0.82383, loss=-0.75851]\n"
     ]
    },
    {
     "name": "stdout",
     "output_type": "stream",
     "text": [
      "loss: -0.83023 | bce: 0.03602 | dice: 0.85201 | 0 cls: 0.12441 | 1 cls: 0.17430 | 2 cls: 0.14297\n"
     ]
    },
    {
     "name": "stderr",
     "output_type": "stream",
     "text": [
      "Epoch 53, lr 0.0005: 100% 21/21 [00:12<00:00,  1.70it/s, 0 cls=0.19073, 1 cls=0.27862, 2 cls=0.22798, bce=0.07784, dice=0.82412, loss=-0.75648]\n"
     ]
    },
    {
     "name": "stdout",
     "output_type": "stream",
     "text": [
      "loss: -0.82521 | bce: 0.03341 | dice: 0.84812 | 0 cls: 0.12590 | 1 cls: 0.17526 | 2 cls: 0.14544\n"
     ]
    },
    {
     "name": "stderr",
     "output_type": "stream",
     "text": [
      "Epoch 54, lr 0.0005: 100% 21/21 [00:12<00:00,  1.71it/s, 0 cls=0.21046, 1 cls=0.28105, 2 cls=0.23623, bce=0.08258, dice=0.81847, loss=-0.74639]\n"
     ]
    },
    {
     "name": "stdout",
     "output_type": "stream",
     "text": [
      "loss: -0.80561 | bce: 0.04047 | dice: 0.83336 | 0 cls: 0.14688 | 1 cls: 0.20055 | 2 cls: 0.16659\n"
     ]
    },
    {
     "name": "stderr",
     "output_type": "stream",
     "text": [
      "Epoch 55, lr 0.0005: 100% 21/21 [00:12<00:00,  1.70it/s, 0 cls=0.19896, 1 cls=0.28524, 2 cls=0.23538, bce=0.07958, dice=0.82034, loss=-0.75038]\n"
     ]
    },
    {
     "name": "stdout",
     "output_type": "stream",
     "text": [
      "loss: -0.82142 | bce: 0.03514 | dice: 0.84244 | 0 cls: 0.13458 | 1 cls: 0.18121 | 2 cls: 0.15555\n"
     ]
    },
    {
     "name": "stderr",
     "output_type": "stream",
     "text": [
      "Epoch 56, lr 0.0005: 100% 21/21 [00:12<00:00,  1.68it/s, 0 cls=0.19729, 1 cls=0.27475, 2 cls=0.22942, bce=0.07701, dice=0.82193, loss=-0.75563]\n"
     ]
    },
    {
     "name": "stdout",
     "output_type": "stream",
     "text": [
      "loss: -0.81629 | bce: 0.03726 | dice: 0.83840 | 0 cls: 0.13714 | 1 cls: 0.18603 | 2 cls: 0.15733\n"
     ]
    },
    {
     "name": "stderr",
     "output_type": "stream",
     "text": [
      "Epoch 57, lr 0.0005: 100% 21/21 [00:12<00:00,  1.68it/s, 0 cls=0.19016, 1 cls=0.27553, 2 cls=0.22691, bce=0.07753, dice=0.82561, loss=-0.75814]\n"
     ]
    },
    {
     "name": "stdout",
     "output_type": "stream",
     "text": [
      "loss: -0.80991 | bce: 0.03864 | dice: 0.83321 | 0 cls: 0.14176 | 1 cls: 0.19437 | 2 cls: 0.16525\n"
     ]
    },
    {
     "name": "stderr",
     "output_type": "stream",
     "text": [
      "Epoch 58, lr 0.0005: 100% 21/21 [00:12<00:00,  1.67it/s, 0 cls=0.18615, 1 cls=0.26912, 2 cls=0.22245, bce=0.07621, dice=0.82898, loss=-0.76316]\n"
     ]
    },
    {
     "name": "stdout",
     "output_type": "stream",
     "text": [
      "loss: -0.83147 | bce: 0.03394 | dice: 0.85321 | 0 cls: 0.12289 | 1 cls: 0.16957 | 2 cls: 0.14085\n"
     ]
    },
    {
     "name": "stderr",
     "output_type": "stream",
     "text": [
      "Epoch 59, lr 0.0005: 100% 21/21 [00:12<00:00,  1.71it/s, 0 cls=0.20562, 1 cls=0.28282, 2 cls=0.23744, bce=0.07921, dice=0.81724, loss=-0.74839]\n"
     ]
    },
    {
     "name": "stdout",
     "output_type": "stream",
     "text": [
      "loss: -0.81578 | bce: 0.04063 | dice: 0.84931 | 0 cls: 0.12784 | 1 cls: 0.19567 | 2 cls: 0.15300\n"
     ]
    },
    {
     "name": "stderr",
     "output_type": "stream",
     "text": [
      "Epoch 60, lr 0.0005: 100% 21/21 [00:12<00:00,  1.68it/s, 0 cls=0.19326, 1 cls=0.27953, 2 cls=0.22913, bce=0.07850, dice=0.82380, loss=-0.75524]\n"
     ]
    },
    {
     "name": "stdout",
     "output_type": "stream",
     "text": [
      "loss: -0.82412 | bce: 0.03424 | dice: 0.84345 | 0 cls: 0.13146 | 1 cls: 0.17716 | 2 cls: 0.15419\n"
     ]
    },
    {
     "name": "stderr",
     "output_type": "stream",
     "text": [
      "Epoch 61, lr 0.0005: 100% 21/21 [00:12<00:00,  1.68it/s, 0 cls=0.21153, 1 cls=0.28686, 2 cls=0.24271, bce=0.08373, dice=0.81793, loss=-0.74429]\n"
     ]
    },
    {
     "name": "stdout",
     "output_type": "stream",
     "text": [
      "loss: -0.78943 | bce: 0.03938 | dice: 0.82071 | 0 cls: 0.15804 | 1 cls: 0.21702 | 2 cls: 0.17853\n"
     ]
    },
    {
     "name": "stderr",
     "output_type": "stream",
     "text": [
      "Epoch 62, lr 0.0005: 100% 21/21 [00:12<00:00,  1.67it/s, 0 cls=0.18922, 1 cls=0.27197, 2 cls=0.22513, bce=0.07509, dice=0.82492, loss=-0.76047]\n"
     ]
    },
    {
     "name": "stdout",
     "output_type": "stream",
     "text": [
      "loss: -0.83002 | bce: 0.03469 | dice: 0.85033 | 0 cls: 0.12628 | 1 cls: 0.16564 | 2 cls: 0.14354\n"
     ]
    },
    {
     "name": "stderr",
     "output_type": "stream",
     "text": [
      "Epoch 63, lr 0.0005: 100% 21/21 [00:12<00:00,  1.69it/s, 0 cls=0.19366, 1 cls=0.26873, 2 cls=0.22710, bce=0.07716, dice=0.82570, loss=-0.75948]\n"
     ]
    },
    {
     "name": "stdout",
     "output_type": "stream",
     "text": [
      "loss: -0.82694 | bce: 0.03388 | dice: 0.84725 | 0 cls: 0.12963 | 1 cls: 0.17358 | 2 cls: 0.14847\n"
     ]
    },
    {
     "name": "stderr",
     "output_type": "stream",
     "text": [
      "Epoch 64, lr 0.0005: 100% 21/21 [00:12<00:00,  1.69it/s, 0 cls=0.18912, 1 cls=0.27068, 2 cls=0.22369, bce=0.07626, dice=0.82706, loss=-0.76105]\n"
     ]
    },
    {
     "name": "stdout",
     "output_type": "stream",
     "text": [
      "loss: -0.83086 | bce: 0.03515 | dice: 0.85056 | 0 cls: 0.12307 | 1 cls: 0.17121 | 2 cls: 0.14753\n"
     ]
    },
    {
     "name": "stderr",
     "output_type": "stream",
     "text": [
      "Epoch 65, lr 0.0005: 100% 21/21 [00:12<00:00,  1.69it/s, 0 cls=0.19406, 1 cls=0.27263, 2 cls=0.22907, bce=0.07669, dice=0.82446, loss=-0.75821]\n"
     ]
    },
    {
     "name": "stdout",
     "output_type": "stream",
     "text": [
      "loss: -0.83659 | bce: 0.03290 | dice: 0.85831 | 0 cls: 0.11702 | 1 cls: 0.16892 | 2 cls: 0.13992\n"
     ]
    },
    {
     "name": "stderr",
     "output_type": "stream",
     "text": [
      "Epoch 66, lr 0.0005: 100% 21/21 [00:12<00:00,  1.68it/s, 0 cls=0.18428, 1 cls=0.27057, 2 cls=0.22224, bce=0.07562, dice=0.82968, loss=-0.76358]\n"
     ]
    },
    {
     "name": "stdout",
     "output_type": "stream",
     "text": [
      "loss: -0.82161 | bce: 0.03696 | dice: 0.84876 | 0 cls: 0.12499 | 1 cls: 0.19157 | 2 cls: 0.15479\n"
     ]
    },
    {
     "name": "stderr",
     "output_type": "stream",
     "text": [
      "Epoch 67, lr 0.0005: 100% 21/21 [00:12<00:00,  1.66it/s, 0 cls=0.19186, 1 cls=0.27663, 2 cls=0.22672, bce=0.07767, dice=0.82529, loss=-0.75742]\n"
     ]
    },
    {
     "name": "stdout",
     "output_type": "stream",
     "text": [
      "loss: -0.82346 | bce: 0.03548 | dice: 0.84500 | 0 cls: 0.13856 | 1 cls: 0.17413 | 2 cls: 0.15091\n"
     ]
    },
    {
     "name": "stderr",
     "output_type": "stream",
     "text": [
      "Epoch 68, lr 0.0005: 100% 21/21 [00:12<00:00,  1.70it/s, 0 cls=0.19484, 1 cls=0.27582, 2 cls=0.22903, bce=0.07854, dice=0.82466, loss=-0.75608]\n"
     ]
    },
    {
     "name": "stdout",
     "output_type": "stream",
     "text": [
      "loss: -0.83300 | bce: 0.03195 | dice: 0.85352 | 0 cls: 0.12236 | 1 cls: 0.16860 | 2 cls: 0.14010\n"
     ]
    },
    {
     "name": "stderr",
     "output_type": "stream",
     "text": [
      "Epoch 69, lr 0.0005: 100% 21/21 [00:12<00:00,  1.72it/s, 0 cls=0.20561, 1 cls=0.27749, 2 cls=0.23464, bce=0.07985, dice=0.81967, loss=-0.75057]\n"
     ]
    },
    {
     "name": "stdout",
     "output_type": "stream",
     "text": [
      "loss: -0.82086 | bce: 0.03653 | dice: 0.84175 | 0 cls: 0.13294 | 1 cls: 0.17925 | 2 cls: 0.15468\n"
     ]
    },
    {
     "name": "stderr",
     "output_type": "stream",
     "text": [
      "Epoch 70, lr 0.0005: 100% 21/21 [00:12<00:00,  1.67it/s, 0 cls=0.19020, 1 cls=0.27555, 2 cls=0.22631, bce=0.07603, dice=0.82484, loss=-0.75858]\n"
     ]
    },
    {
     "name": "stdout",
     "output_type": "stream",
     "text": [
      "loss: -0.83624 | bce: 0.03372 | dice: 0.85585 | 0 cls: 0.11957 | 1 cls: 0.16636 | 2 cls: 0.14170\n"
     ]
    },
    {
     "name": "stderr",
     "output_type": "stream",
     "text": [
      "Epoch 71, lr 0.0005: 100% 21/21 [00:12<00:00,  1.67it/s, 0 cls=0.18922, 1 cls=0.26838, 2 cls=0.22390, bce=0.07643, dice=0.82750, loss=-0.76177]\n"
     ]
    },
    {
     "name": "stdout",
     "output_type": "stream",
     "text": [
      "loss: -0.83846 | bce: 0.03164 | dice: 0.85785 | 0 cls: 0.11657 | 1 cls: 0.16409 | 2 cls: 0.13871\n"
     ]
    },
    {
     "name": "stderr",
     "output_type": "stream",
     "text": [
      "Epoch 72, lr 0.0005: 100% 21/21 [00:12<00:00,  1.70it/s, 0 cls=0.18088, 1 cls=0.26570, 2 cls=0.21932, bce=0.07377, dice=0.83061, loss=-0.76715]\n"
     ]
    },
    {
     "name": "stdout",
     "output_type": "stream",
     "text": [
      "loss: -0.83547 | bce: 0.03430 | dice: 0.85756 | 0 cls: 0.11732 | 1 cls: 0.17082 | 2 cls: 0.14162\n"
     ]
    },
    {
     "name": "stderr",
     "output_type": "stream",
     "text": [
      "Epoch 73, lr 0.0005: 100% 21/21 [00:12<00:00,  1.74it/s, 0 cls=0.18765, 1 cls=0.26718, 2 cls=0.22285, bce=0.07558, dice=0.82838, loss=-0.76322]\n"
     ]
    },
    {
     "name": "stdout",
     "output_type": "stream",
     "text": [
      "loss: -0.82621 | bce: 0.03444 | dice: 0.85009 | 0 cls: 0.13067 | 1 cls: 0.16842 | 2 cls: 0.14009\n"
     ]
    },
    {
     "name": "stderr",
     "output_type": "stream",
     "text": [
      "Epoch 74, lr 0.0005: 100% 21/21 [00:12<00:00,  1.66it/s, 0 cls=0.18762, 1 cls=0.27189, 2 cls=0.22469, bce=0.07673, dice=0.82738, loss=-0.76096]\n"
     ]
    },
    {
     "name": "stdout",
     "output_type": "stream",
     "text": [
      "loss: -0.83133 | bce: 0.03366 | dice: 0.85507 | 0 cls: 0.12104 | 1 cls: 0.16792 | 2 cls: 0.13975\n"
     ]
    },
    {
     "name": "stderr",
     "output_type": "stream",
     "text": [
      "Epoch 75, lr 0.0005: 100% 21/21 [00:12<00:00,  1.72it/s, 0 cls=0.18444, 1 cls=0.26212, 2 cls=0.21765, bce=0.07296, dice=0.83058, loss=-0.76761]\n"
     ]
    },
    {
     "name": "stdout",
     "output_type": "stream",
     "text": [
      "loss: -0.83934 | bce: 0.03187 | dice: 0.85879 | 0 cls: 0.11549 | 1 cls: 0.16395 | 2 cls: 0.13856\n"
     ]
    },
    {
     "name": "stderr",
     "output_type": "stream",
     "text": [
      "Epoch 76, lr 0.0005: 100% 21/21 [00:12<00:00,  1.69it/s, 0 cls=0.18420, 1 cls=0.26239, 2 cls=0.21885, bce=0.07443, dice=0.83101, loss=-0.76696]\n"
     ]
    },
    {
     "name": "stdout",
     "output_type": "stream",
     "text": [
      "loss: -0.83682 | bce: 0.03408 | dice: 0.85421 | 0 cls: 0.12122 | 1 cls: 0.16477 | 2 cls: 0.13676\n"
     ]
    },
    {
     "name": "stderr",
     "output_type": "stream",
     "text": [
      "Epoch 77, lr 0.0005: 100% 21/21 [00:12<00:00,  1.65it/s, 0 cls=0.19031, 1 cls=0.26446, 2 cls=0.22254, bce=0.07476, dice=0.82802, loss=-0.76369]\n"
     ]
    },
    {
     "name": "stdout",
     "output_type": "stream",
     "text": [
      "loss: -0.82369 | bce: 0.03789 | dice: 0.84620 | 0 cls: 0.13533 | 1 cls: 0.16725 | 2 cls: 0.14773\n"
     ]
    },
    {
     "name": "stderr",
     "output_type": "stream",
     "text": [
      "Epoch 78, lr 0.0005: 100% 21/21 [00:12<00:00,  1.70it/s, 0 cls=0.18743, 1 cls=0.26216, 2 cls=0.21957, bce=0.07587, dice=0.83083, loss=-0.76555]\n"
     ]
    },
    {
     "name": "stdout",
     "output_type": "stream",
     "text": [
      "loss: -0.83707 | bce: 0.03258 | dice: 0.85818 | 0 cls: 0.11898 | 1 cls: 0.16618 | 2 cls: 0.13950\n"
     ]
    },
    {
     "name": "stderr",
     "output_type": "stream",
     "text": [
      "Epoch 79, lr 0.0005: 100% 21/21 [00:12<00:00,  1.71it/s, 0 cls=0.19672, 1 cls=0.27667, 2 cls=0.23136, bce=0.07819, dice=0.82244, loss=-0.75472]\n"
     ]
    },
    {
     "name": "stdout",
     "output_type": "stream",
     "text": [
      "loss: -0.82983 | bce: 0.03463 | dice: 0.84795 | 0 cls: 0.11964 | 1 cls: 0.17814 | 2 cls: 0.15004\n"
     ]
    },
    {
     "name": "stderr",
     "output_type": "stream",
     "text": [
      "Epoch 80, lr 0.0005: 100% 21/21 [00:12<00:00,  1.67it/s, 0 cls=0.18916, 1 cls=0.26497, 2 cls=0.22193, bce=0.07366, dice=0.82713, loss=-0.76418]\n"
     ]
    },
    {
     "name": "stdout",
     "output_type": "stream",
     "text": [
      "loss: -0.81067 | bce: 0.04089 | dice: 0.83756 | 0 cls: 0.14995 | 1 cls: 0.17603 | 2 cls: 0.15276\n"
     ]
    },
    {
     "name": "stderr",
     "output_type": "stream",
     "text": [
      "Epoch 81, lr 0.0005: 100% 21/21 [00:12<00:00,  1.69it/s, 0 cls=0.18086, 1 cls=0.25641, 2 cls=0.21372, bce=0.07347, dice=0.83318, loss=-0.77069]\n"
     ]
    },
    {
     "name": "stdout",
     "output_type": "stream",
     "text": [
      "loss: -0.83691 | bce: 0.03155 | dice: 0.85616 | 0 cls: 0.12122 | 1 cls: 0.16100 | 2 cls: 0.13718\n"
     ]
    },
    {
     "name": "stderr",
     "output_type": "stream",
     "text": [
      "Epoch 82, lr 0.0005: 100% 21/21 [00:12<00:00,  1.71it/s, 0 cls=0.18396, 1 cls=0.26134, 2 cls=0.21747, bce=0.07336, dice=0.83111, loss=-0.76805]\n"
     ]
    },
    {
     "name": "stdout",
     "output_type": "stream",
     "text": [
      "loss: -0.82314 | bce: 0.03871 | dice: 0.84487 | 0 cls: 0.13402 | 1 cls: 0.17865 | 2 cls: 0.14815\n"
     ]
    },
    {
     "name": "stderr",
     "output_type": "stream",
     "text": [
      "Epoch 83, lr 0.0005: 100% 21/21 [00:12<00:00,  1.65it/s, 0 cls=0.18585, 1 cls=0.26586, 2 cls=0.22123, bce=0.07547, dice=0.83083, loss=-0.76512]\n"
     ]
    },
    {
     "name": "stdout",
     "output_type": "stream",
     "text": [
      "loss: -0.83414 | bce: 0.03356 | dice: 0.85552 | 0 cls: 0.11770 | 1 cls: 0.17322 | 2 cls: 0.13914\n"
     ]
    },
    {
     "name": "stderr",
     "output_type": "stream",
     "text": [
      "Epoch 84, lr 0.0005: 100% 21/21 [00:12<00:00,  1.67it/s, 0 cls=0.19684, 1 cls=0.27587, 2 cls=0.23155, bce=0.08027, dice=0.82483, loss=-0.75494]\n"
     ]
    },
    {
     "name": "stdout",
     "output_type": "stream",
     "text": [
      "loss: -0.81670 | bce: 0.03390 | dice: 0.83778 | 0 cls: 0.13593 | 1 cls: 0.18338 | 2 cls: 0.15484\n"
     ]
    },
    {
     "name": "stderr",
     "output_type": "stream",
     "text": [
      "Epoch 85, lr 0.0005: 100% 21/21 [00:12<00:00,  1.69it/s, 0 cls=0.18408, 1 cls=0.26442, 2 cls=0.21749, bce=0.07313, dice=0.82963, loss=-0.76645]\n"
     ]
    },
    {
     "name": "stdout",
     "output_type": "stream",
     "text": [
      "loss: -0.81354 | bce: 0.03983 | dice: 0.83414 | 0 cls: 0.15947 | 1 cls: 0.16997 | 2 cls: 0.16334\n"
     ]
    },
    {
     "name": "stderr",
     "output_type": "stream",
     "text": [
      "Epoch 86, lr 0.0005: 100% 21/21 [00:12<00:00,  1.65it/s, 0 cls=0.17791, 1 cls=0.26194, 2 cls=0.21580, bce=0.07318, dice=0.83286, loss=-0.76994]\n"
     ]
    },
    {
     "name": "stdout",
     "output_type": "stream",
     "text": [
      "loss: -0.83593 | bce: 0.03283 | dice: 0.85534 | 0 cls: 0.12414 | 1 cls: 0.16470 | 2 cls: 0.13895\n"
     ]
    },
    {
     "name": "stderr",
     "output_type": "stream",
     "text": [
      "Epoch 87, lr 0.0005: 100% 21/21 [00:12<00:00,  1.72it/s, 0 cls=0.18907, 1 cls=0.26647, 2 cls=0.22230, bce=0.07706, dice=0.82920, loss=-0.76258]\n"
     ]
    },
    {
     "name": "stdout",
     "output_type": "stream",
     "text": [
      "loss: -0.82019 | bce: 0.04321 | dice: 0.84558 | 0 cls: 0.12127 | 1 cls: 0.19928 | 2 cls: 0.14902\n"
     ]
    },
    {
     "name": "stderr",
     "output_type": "stream",
     "text": [
      "Epoch 88, lr 0.0005: 100% 21/21 [00:12<00:00,  1.69it/s, 0 cls=0.20163, 1 cls=0.27526, 2 cls=0.23182, bce=0.07958, dice=0.82255, loss=-0.75355]\n"
     ]
    },
    {
     "name": "stdout",
     "output_type": "stream",
     "text": [
      "loss: -0.83046 | bce: 0.03357 | dice: 0.84991 | 0 cls: 0.13171 | 1 cls: 0.16802 | 2 cls: 0.14559\n"
     ]
    },
    {
     "name": "stderr",
     "output_type": "stream",
     "text": [
      "Epoch 89, lr 0.0005: 100% 21/21 [00:12<00:00,  1.64it/s, 0 cls=0.19534, 1 cls=0.27330, 2 cls=0.22663, bce=0.07703, dice=0.82444, loss=-0.75743]\n"
     ]
    },
    {
     "name": "stdout",
     "output_type": "stream",
     "text": [
      "loss: -0.84016 | bce: 0.03238 | dice: 0.86294 | 0 cls: 0.11122 | 1 cls: 0.16956 | 2 cls: 0.13498\n"
     ]
    },
    {
     "name": "stderr",
     "output_type": "stream",
     "text": [
      "Epoch 90, lr 0.0005: 100% 21/21 [00:12<00:00,  1.68it/s, 0 cls=0.20349, 1 cls=0.28666, 2 cls=0.23966, bce=0.08062, dice=0.81890, loss=-0.74785]\n"
     ]
    },
    {
     "name": "stdout",
     "output_type": "stream",
     "text": [
      "loss: -0.79887 | bce: 0.03939 | dice: 0.82148 | 0 cls: 0.16516 | 1 cls: 0.19156 | 2 cls: 0.17682\n"
     ]
    },
    {
     "name": "stderr",
     "output_type": "stream",
     "text": [
      "Epoch 91, lr 0.0005: 100% 21/21 [00:12<00:00,  1.67it/s, 0 cls=0.18517, 1 cls=0.27244, 2 cls=0.22508, bce=0.07586, dice=0.82721, loss=-0.76176]\n"
     ]
    },
    {
     "name": "stdout",
     "output_type": "stream",
     "text": [
      "loss: -0.83027 | bce: 0.03258 | dice: 0.85039 | 0 cls: 0.12542 | 1 cls: 0.16858 | 2 cls: 0.14244\n"
     ]
    },
    {
     "name": "stderr",
     "output_type": "stream",
     "text": [
      "Epoch 92, lr 0.0005: 100% 21/21 [00:12<00:00,  1.72it/s, 0 cls=0.18043, 1 cls=0.26035, 2 cls=0.21527, bce=0.07327, dice=0.83214, loss=-0.76953]\n"
     ]
    },
    {
     "name": "stdout",
     "output_type": "stream",
     "text": [
      "loss: -0.80205 | bce: 0.04044 | dice: 0.82605 | 0 cls: 0.15738 | 1 cls: 0.18553 | 2 cls: 0.16651\n"
     ]
    },
    {
     "name": "stderr",
     "output_type": "stream",
     "text": [
      "Epoch 93, lr 0.0005: 100% 21/21 [00:12<00:00,  1.72it/s, 0 cls=0.18148, 1 cls=0.25736, 2 cls=0.21488, bce=0.07316, dice=0.83329, loss=-0.77054]\n"
     ]
    },
    {
     "name": "stdout",
     "output_type": "stream",
     "text": [
      "loss: -0.83059 | bce: 0.03615 | dice: 0.85545 | 0 cls: 0.12419 | 1 cls: 0.16989 | 2 cls: 0.14047\n"
     ]
    },
    {
     "name": "stderr",
     "output_type": "stream",
     "text": [
      "Epoch 94, lr 0.0005: 100% 21/21 [00:12<00:00,  1.70it/s, 0 cls=0.18054, 1 cls=0.25955, 2 cls=0.21529, bce=0.07225, dice=0.83314, loss=-0.77066]\n"
     ]
    },
    {
     "name": "stdout",
     "output_type": "stream",
     "text": [
      "loss: -0.83427 | bce: 0.03266 | dice: 0.85390 | 0 cls: 0.12140 | 1 cls: 0.16514 | 2 cls: 0.14148\n"
     ]
    },
    {
     "name": "stderr",
     "output_type": "stream",
     "text": [
      "Epoch 95, lr 0.0005: 100% 21/21 [00:12<00:00,  1.69it/s, 0 cls=0.19126, 1 cls=0.26754, 2 cls=0.22489, bce=0.07702, dice=0.82816, loss=-0.76145]\n"
     ]
    },
    {
     "name": "stdout",
     "output_type": "stream",
     "text": [
      "loss: -0.82291 | bce: 0.03524 | dice: 0.84786 | 0 cls: 0.13200 | 1 cls: 0.17683 | 2 cls: 0.14449\n"
     ]
    },
    {
     "name": "stderr",
     "output_type": "stream",
     "text": [
      "Epoch 96, lr 0.0005: 100% 21/21 [00:12<00:00,  1.71it/s, 0 cls=0.19117, 1 cls=0.26874, 2 cls=0.22570, bce=0.07511, dice=0.82641, loss=-0.76150]\n"
     ]
    },
    {
     "name": "stdout",
     "output_type": "stream",
     "text": [
      "loss: -0.82742 | bce: 0.03296 | dice: 0.84791 | 0 cls: 0.13437 | 1 cls: 0.17254 | 2 cls: 0.14622\n"
     ]
    },
    {
     "name": "stderr",
     "output_type": "stream",
     "text": [
      "Epoch 97, lr 0.0005: 100% 21/21 [00:12<00:00,  1.72it/s, 0 cls=0.18072, 1 cls=0.25472, 2 cls=0.21302, bce=0.07281, dice=0.83436, loss=-0.77213]\n"
     ]
    },
    {
     "name": "stdout",
     "output_type": "stream",
     "text": [
      "loss: -0.83229 | bce: 0.03175 | dice: 0.85222 | 0 cls: 0.12677 | 1 cls: 0.17120 | 2 cls: 0.14267\n"
     ]
    },
    {
     "name": "stderr",
     "output_type": "stream",
     "text": [
      "Epoch 98, lr 0.0005: 100% 21/21 [00:12<00:00,  1.70it/s, 0 cls=0.18403, 1 cls=0.26161, 2 cls=0.21876, bce=0.07359, dice=0.83056, loss=-0.76767]\n"
     ]
    },
    {
     "name": "stdout",
     "output_type": "stream",
     "text": [
      "loss: -0.82658 | bce: 0.03922 | dice: 0.85081 | 0 cls: 0.12528 | 1 cls: 0.17623 | 2 cls: 0.14545\n"
     ]
    },
    {
     "name": "stderr",
     "output_type": "stream",
     "text": [
      "Epoch 99, lr 0.0005: 100% 21/21 [00:12<00:00,  1.70it/s, 0 cls=0.18293, 1 cls=0.25760, 2 cls=0.21592, bce=0.07337, dice=0.83271, loss=-0.76990]\n"
     ]
    },
    {
     "name": "stdout",
     "output_type": "stream",
     "text": [
      "loss: -0.84105 | bce: 0.03270 | dice: 0.86035 | 0 cls: 0.11442 | 1 cls: 0.16059 | 2 cls: 0.13513\n"
     ]
    },
    {
     "name": "stderr",
     "output_type": "stream",
     "text": [
      "Epoch 100, lr 0.0005: 100% 21/21 [00:12<00:00,  1.70it/s, 0 cls=0.18247, 1 cls=0.25961, 2 cls=0.21744, bce=0.07408, dice=0.83283, loss=-0.76913]\n"
     ]
    },
    {
     "name": "stdout",
     "output_type": "stream",
     "text": [
      "loss: -0.80638 | bce: 0.04053 | dice: 0.83003 | 0 cls: 0.15687 | 1 cls: 0.17445 | 2 cls: 0.16216\n"
     ]
    },
    {
     "name": "stderr",
     "output_type": "stream",
     "text": [
      "Epoch 101, lr 0.0005: 100% 21/21 [00:12<00:00,  1.70it/s, 0 cls=0.18818, 1 cls=0.26603, 2 cls=0.22213, bce=0.07474, dice=0.82919, loss=-0.76421]\n"
     ]
    },
    {
     "name": "stdout",
     "output_type": "stream",
     "text": [
      "loss: -0.83598 | bce: 0.03218 | dice: 0.85434 | 0 cls: 0.11804 | 1 cls: 0.17044 | 2 cls: 0.14067\n"
     ]
    },
    {
     "name": "stderr",
     "output_type": "stream",
     "text": [
      "Epoch 102, lr 0.0005: 100% 21/21 [00:12<00:00,  1.71it/s, 0 cls=0.18919, 1 cls=0.26661, 2 cls=0.22366, bce=0.07514, dice=0.82877, loss=-0.76346]\n"
     ]
    },
    {
     "name": "stdout",
     "output_type": "stream",
     "text": [
      "loss: -0.82530 | bce: 0.03334 | dice: 0.84621 | 0 cls: 0.12893 | 1 cls: 0.18060 | 2 cls: 0.15091\n"
     ]
    },
    {
     "name": "stderr",
     "output_type": "stream",
     "text": [
      "Epoch 103, lr 0.0005: 100% 21/21 [00:12<00:00,  1.70it/s, 0 cls=0.17846, 1 cls=0.25205, 2 cls=0.21141, bce=0.07152, dice=0.83592, loss=-0.77474]\n"
     ]
    },
    {
     "name": "stdout",
     "output_type": "stream",
     "text": [
      "loss: -0.82688 | bce: 0.03235 | dice: 0.84635 | 0 cls: 0.13210 | 1 cls: 0.17483 | 2 cls: 0.14808\n"
     ]
    },
    {
     "name": "stderr",
     "output_type": "stream",
     "text": [
      "Epoch 104, lr 0.0005: 100% 21/21 [00:12<00:00,  1.67it/s, 0 cls=0.19096, 1 cls=0.26264, 2 cls=0.22256, bce=0.07543, dice=0.82961, loss=-0.76445]\n"
     ]
    },
    {
     "name": "stdout",
     "output_type": "stream",
     "text": [
      "loss: -0.83469 | bce: 0.03181 | dice: 0.85341 | 0 cls: 0.12379 | 1 cls: 0.16734 | 2 cls: 0.13972\n"
     ]
    },
    {
     "name": "stderr",
     "output_type": "stream",
     "text": [
      "Epoch 105, lr 0.0005: 100% 21/21 [00:12<00:00,  1.67it/s, 0 cls=0.18106, 1 cls=0.25321, 2 cls=0.21210, bce=0.07338, dice=0.83548, loss=-0.77268]\n"
     ]
    },
    {
     "name": "stdout",
     "output_type": "stream",
     "text": [
      "loss: -0.83720 | bce: 0.03275 | dice: 0.85988 | 0 cls: 0.11691 | 1 cls: 0.16741 | 2 cls: 0.13604\n"
     ]
    },
    {
     "name": "stderr",
     "output_type": "stream",
     "text": [
      "Epoch 106, lr 0.0005: 100% 21/21 [00:12<00:00,  1.69it/s, 0 cls=0.18303, 1 cls=0.26032, 2 cls=0.21764, bce=0.07460, dice=0.83353, loss=-0.76914]\n"
     ]
    },
    {
     "name": "stdout",
     "output_type": "stream",
     "text": [
      "loss: -0.83556 | bce: 0.03170 | dice: 0.85983 | 0 cls: 0.11492 | 1 cls: 0.17546 | 2 cls: 0.14023\n"
     ]
    },
    {
     "name": "stderr",
     "output_type": "stream",
     "text": [
      "Epoch 107, lr 0.0005: 100% 21/21 [00:12<00:00,  1.68it/s, 0 cls=0.18189, 1 cls=0.25792, 2 cls=0.21451, bce=0.07302, dice=0.83239, loss=-0.77004]\n"
     ]
    },
    {
     "name": "stdout",
     "output_type": "stream",
     "text": [
      "loss: -0.83556 | bce: 0.03593 | dice: 0.85913 | 0 cls: 0.11781 | 1 cls: 0.16895 | 2 cls: 0.14047\n"
     ]
    },
    {
     "name": "stderr",
     "output_type": "stream",
     "text": [
      "Epoch 108, lr 0.0005: 100% 21/21 [00:12<00:00,  1.68it/s, 0 cls=0.18415, 1 cls=0.26280, 2 cls=0.21938, bce=0.07413, dice=0.83158, loss=-0.76742]\n"
     ]
    },
    {
     "name": "stdout",
     "output_type": "stream",
     "text": [
      "loss: -0.82556 | bce: 0.03516 | dice: 0.84589 | 0 cls: 0.12579 | 1 cls: 0.17947 | 2 cls: 0.15030\n"
     ]
    },
    {
     "name": "stderr",
     "output_type": "stream",
     "text": [
      "Epoch 109, lr 0.0005: 100% 21/21 [00:12<00:00,  1.70it/s, 0 cls=0.18848, 1 cls=0.26585, 2 cls=0.22319, bce=0.07402, dice=0.82856, loss=-0.76436]\n"
     ]
    },
    {
     "name": "stdout",
     "output_type": "stream",
     "text": [
      "loss: -0.80846 | bce: 0.03851 | dice: 0.83114 | 0 cls: 0.13560 | 1 cls: 0.20455 | 2 cls: 0.17115\n"
     ]
    },
    {
     "name": "stderr",
     "output_type": "stream",
     "text": [
      "Epoch 110, lr 0.0005: 100% 21/21 [00:12<00:00,  1.68it/s, 0 cls=0.18417, 1 cls=0.25840, 2 cls=0.21775, bce=0.07443, dice=0.83326, loss=-0.76920]\n"
     ]
    },
    {
     "name": "stdout",
     "output_type": "stream",
     "text": [
      "loss: -0.84489 | bce: 0.03192 | dice: 0.86561 | 0 cls: 0.10987 | 1 cls: 0.15992 | 2 cls: 0.13160\n"
     ]
    },
    {
     "name": "stderr",
     "output_type": "stream",
     "text": [
      "Epoch 111, lr 0.0005: 100% 21/21 [00:12<00:00,  1.70it/s, 0 cls=0.17474, 1 cls=0.24933, 2 cls=0.20775, bce=0.07092, dice=0.83785, loss=-0.77750]\n"
     ]
    },
    {
     "name": "stdout",
     "output_type": "stream",
     "text": [
      "loss: -0.83656 | bce: 0.03436 | dice: 0.85841 | 0 cls: 0.11877 | 1 cls: 0.16521 | 2 cls: 0.13787\n"
     ]
    },
    {
     "name": "stderr",
     "output_type": "stream",
     "text": [
      "Epoch 112, lr 0.0005: 100% 21/21 [00:12<00:00,  1.71it/s, 0 cls=0.17952, 1 cls=0.25732, 2 cls=0.21419, bce=0.07357, dice=0.83571, loss=-0.77205]\n"
     ]
    },
    {
     "name": "stdout",
     "output_type": "stream",
     "text": [
      "loss: -0.83965 | bce: 0.03227 | dice: 0.86310 | 0 cls: 0.11399 | 1 cls: 0.16362 | 2 cls: 0.13214\n"
     ]
    },
    {
     "name": "stderr",
     "output_type": "stream",
     "text": [
      "Epoch 113, lr 0.0005: 100% 21/21 [00:12<00:00,  1.69it/s, 0 cls=0.19117, 1 cls=0.26396, 2 cls=0.22371, bce=0.07525, dice=0.82842, loss=-0.76367]\n"
     ]
    },
    {
     "name": "stdout",
     "output_type": "stream",
     "text": [
      "loss: -0.83134 | bce: 0.03271 | dice: 0.85342 | 0 cls: 0.12571 | 1 cls: 0.17402 | 2 cls: 0.14161\n"
     ]
    },
    {
     "name": "stderr",
     "output_type": "stream",
     "text": [
      "Epoch 114, lr 0.0005: 100% 21/21 [00:12<00:00,  1.71it/s, 0 cls=0.17826, 1 cls=0.25205, 2 cls=0.20903, bce=0.07205, dice=0.83556, loss=-0.77437]\n"
     ]
    },
    {
     "name": "stdout",
     "output_type": "stream",
     "text": [
      "loss: -0.83993 | bce: 0.03171 | dice: 0.85950 | 0 cls: 0.11364 | 1 cls: 0.16671 | 2 cls: 0.13546\n"
     ]
    },
    {
     "name": "stderr",
     "output_type": "stream",
     "text": [
      "Epoch 115, lr 0.0005: 100% 21/21 [00:12<00:00,  1.69it/s, 0 cls=0.17519, 1 cls=0.25088, 2 cls=0.20712, bce=0.07118, dice=0.83814, loss=-0.77677]\n"
     ]
    },
    {
     "name": "stdout",
     "output_type": "stream",
     "text": [
      "loss: -0.82990 | bce: 0.03467 | dice: 0.85295 | 0 cls: 0.12697 | 1 cls: 0.17409 | 2 cls: 0.14428\n"
     ]
    },
    {
     "name": "stderr",
     "output_type": "stream",
     "text": [
      "Epoch 116, lr 0.0005: 100% 21/21 [00:12<00:00,  1.67it/s, 0 cls=0.19002, 1 cls=0.26577, 2 cls=0.22532, bce=0.07621, dice=0.82835, loss=-0.76288]\n"
     ]
    },
    {
     "name": "stdout",
     "output_type": "stream",
     "text": [
      "loss: -0.81965 | bce: 0.03458 | dice: 0.83766 | 0 cls: 0.14797 | 1 cls: 0.17462 | 2 cls: 0.15164\n"
     ]
    },
    {
     "name": "stderr",
     "output_type": "stream",
     "text": [
      "Epoch 117, lr 0.0005: 100% 21/21 [00:12<00:00,  1.69it/s, 0 cls=0.18698, 1 cls=0.26415, 2 cls=0.21968, bce=0.07385, dice=0.82916, loss=-0.76556]\n"
     ]
    },
    {
     "name": "stdout",
     "output_type": "stream",
     "text": [
      "loss: -0.84499 | bce: 0.03070 | dice: 0.86475 | 0 cls: 0.11143 | 1 cls: 0.15722 | 2 cls: 0.13045\n"
     ]
    },
    {
     "name": "stderr",
     "output_type": "stream",
     "text": [
      "Epoch 118, lr 0.0005: 100% 21/21 [00:12<00:00,  1.70it/s, 0 cls=0.18314, 1 cls=0.25633, 2 cls=0.21442, bce=0.07395, dice=0.83381, loss=-0.77041]\n"
     ]
    },
    {
     "name": "stdout",
     "output_type": "stream",
     "text": [
      "loss: -0.83918 | bce: 0.03318 | dice: 0.86396 | 0 cls: 0.11294 | 1 cls: 0.16758 | 2 cls: 0.13503\n"
     ]
    },
    {
     "name": "stderr",
     "output_type": "stream",
     "text": [
      "Epoch 119, lr 0.0005: 100% 21/21 [00:12<00:00,  1.70it/s, 0 cls=0.18295, 1 cls=0.26176, 2 cls=0.21887, bce=0.07432, dice=0.83261, loss=-0.76829]\n"
     ]
    },
    {
     "name": "stdout",
     "output_type": "stream",
     "text": [
      "loss: -0.83875 | bce: 0.03209 | dice: 0.85740 | 0 cls: 0.11990 | 1 cls: 0.16110 | 2 cls: 0.13789\n"
     ]
    },
    {
     "name": "stderr",
     "output_type": "stream",
     "text": [
      "Epoch 120, lr 0.0005: 100% 21/21 [00:12<00:00,  1.70it/s, 0 cls=0.17843, 1 cls=0.25433, 2 cls=0.21195, bce=0.07241, dice=0.83601, loss=-0.77375]\n"
     ]
    },
    {
     "name": "stdout",
     "output_type": "stream",
     "text": [
      "loss: -0.83020 | bce: 0.03510 | dice: 0.85030 | 0 cls: 0.12037 | 1 cls: 0.17937 | 2 cls: 0.14796\n"
     ]
    },
    {
     "name": "stderr",
     "output_type": "stream",
     "text": [
      "Epoch 121, lr 0.0005: 100% 21/21 [00:12<00:00,  1.66it/s, 0 cls=0.17399, 1 cls=0.25239, 2 cls=0.20921, bce=0.07138, dice=0.83797, loss=-0.77661]\n"
     ]
    },
    {
     "name": "stdout",
     "output_type": "stream",
     "text": [
      "loss: -0.84147 | bce: 0.03260 | dice: 0.86263 | 0 cls: 0.11127 | 1 cls: 0.16560 | 2 cls: 0.13356\n"
     ]
    },
    {
     "name": "stderr",
     "output_type": "stream",
     "text": [
      "Epoch 122, lr 0.0005: 100% 21/21 [00:12<00:00,  1.70it/s, 0 cls=0.17597, 1 cls=0.24902, 2 cls=0.20819, bce=0.07087, dice=0.83751, loss=-0.77718]\n"
     ]
    },
    {
     "name": "stdout",
     "output_type": "stream",
     "text": [
      "loss: -0.84868 | bce: 0.03134 | dice: 0.86885 | 0 cls: 0.10558 | 1 cls: 0.15614 | 2 cls: 0.12715\n"
     ]
    },
    {
     "name": "stderr",
     "output_type": "stream",
     "text": [
      "Epoch 123, lr 0.0005: 100% 21/21 [00:12<00:00,  1.68it/s, 0 cls=0.17977, 1 cls=0.25168, 2 cls=0.21119, bce=0.07166, dice=0.83552, loss=-0.77443]\n"
     ]
    },
    {
     "name": "stdout",
     "output_type": "stream",
     "text": [
      "loss: -0.84114 | bce: 0.03207 | dice: 0.86234 | 0 cls: 0.11304 | 1 cls: 0.16485 | 2 cls: 0.13350\n"
     ]
    },
    {
     "name": "stderr",
     "output_type": "stream",
     "text": [
      "Epoch 124, lr 0.0005: 100% 21/21 [00:12<00:00,  1.70it/s, 0 cls=0.17800, 1 cls=0.25366, 2 cls=0.21195, bce=0.07300, dice=0.83661, loss=-0.77399]\n"
     ]
    },
    {
     "name": "stdout",
     "output_type": "stream",
     "text": [
      "loss: -0.81917 | bce: 0.03669 | dice: 0.83955 | 0 cls: 0.14929 | 1 cls: 0.16954 | 2 cls: 0.14786\n"
     ]
    },
    {
     "name": "stderr",
     "output_type": "stream",
     "text": [
      "Epoch 125, lr 0.0005: 100% 21/21 [00:12<00:00,  1.70it/s, 0 cls=0.19869, 1 cls=0.26981, 2 cls=0.22911, bce=0.07985, dice=0.82699, loss=-0.75721]\n"
     ]
    },
    {
     "name": "stdout",
     "output_type": "stream",
     "text": [
      "loss: -0.83206 | bce: 0.03151 | dice: 0.85216 | 0 cls: 0.12807 | 1 cls: 0.16541 | 2 cls: 0.14024\n"
     ]
    },
    {
     "name": "stderr",
     "output_type": "stream",
     "text": [
      "Epoch 126, lr 0.0005: 100% 21/21 [00:12<00:00,  1.70it/s, 0 cls=0.17694, 1 cls=0.24946, 2 cls=0.20896, bce=0.07006, dice=0.83530, loss=-0.77636]\n"
     ]
    },
    {
     "name": "stdout",
     "output_type": "stream",
     "text": [
      "loss: -0.84502 | bce: 0.03274 | dice: 0.86809 | 0 cls: 0.10900 | 1 cls: 0.16245 | 2 cls: 0.13188\n"
     ]
    },
    {
     "name": "stderr",
     "output_type": "stream",
     "text": [
      "Epoch 127, lr 0.0005: 100% 21/21 [00:12<00:00,  1.68it/s, 0 cls=0.18450, 1 cls=0.25858, 2 cls=0.21800, bce=0.07327, dice=0.83182, loss=-0.76896]\n"
     ]
    },
    {
     "name": "stdout",
     "output_type": "stream",
     "text": [
      "loss: -0.82063 | bce: 0.03789 | dice: 0.85086 | 0 cls: 0.12335 | 1 cls: 0.19889 | 2 cls: 0.15573\n"
     ]
    },
    {
     "name": "stderr",
     "output_type": "stream",
     "text": [
      "Epoch 128, lr 0.0005: 100% 21/21 [00:12<00:00,  1.70it/s, 0 cls=0.18304, 1 cls=0.26077, 2 cls=0.21789, bce=0.07386, dice=0.83205, loss=-0.76875]\n"
     ]
    },
    {
     "name": "stdout",
     "output_type": "stream",
     "text": [
      "loss: -0.82738 | bce: 0.03739 | dice: 0.85451 | 0 cls: 0.13159 | 1 cls: 0.16722 | 2 cls: 0.13757\n"
     ]
    },
    {
     "name": "stderr",
     "output_type": "stream",
     "text": [
      "Epoch 129, lr 0.0005: 100% 21/21 [00:12<00:00,  1.69it/s, 0 cls=0.17708, 1 cls=0.25307, 2 cls=0.21056, bce=0.07198, dice=0.83555, loss=-0.77426]\n"
     ]
    },
    {
     "name": "stdout",
     "output_type": "stream",
     "text": [
      "loss: -0.82405 | bce: 0.03984 | dice: 0.84774 | 0 cls: 0.12954 | 1 cls: 0.17633 | 2 cls: 0.15187\n"
     ]
    },
    {
     "name": "stderr",
     "output_type": "stream",
     "text": [
      "Epoch 130, lr 0.0005: 100% 21/21 [00:12<00:00,  1.72it/s, 0 cls=0.17978, 1 cls=0.25959, 2 cls=0.21649, bce=0.07327, dice=0.83396, loss=-0.77091]\n"
     ]
    },
    {
     "name": "stdout",
     "output_type": "stream",
     "text": [
      "loss: -0.84658 | bce: 0.03314 | dice: 0.86876 | 0 cls: 0.10936 | 1 cls: 0.15723 | 2 cls: 0.12762\n"
     ]
    },
    {
     "name": "stderr",
     "output_type": "stream",
     "text": [
      "Epoch 131, lr 0.0005: 100% 21/21 [00:12<00:00,  1.69it/s, 0 cls=0.18598, 1 cls=0.26694, 2 cls=0.22287, bce=0.07529, dice=0.83050, loss=-0.76484]\n"
     ]
    },
    {
     "name": "stdout",
     "output_type": "stream",
     "text": [
      "loss: -0.83843 | bce: 0.03458 | dice: 0.85958 | 0 cls: 0.11745 | 1 cls: 0.16210 | 2 cls: 0.13704\n"
     ]
    },
    {
     "name": "stderr",
     "output_type": "stream",
     "text": [
      "Epoch 132, lr 0.0005: 100% 21/21 [00:12<00:00,  1.69it/s, 0 cls=0.18214, 1 cls=0.25868, 2 cls=0.21633, bce=0.07456, dice=0.83448, loss=-0.77004]\n"
     ]
    },
    {
     "name": "stdout",
     "output_type": "stream",
     "text": [
      "loss: -0.84406 | bce: 0.03209 | dice: 0.86514 | 0 cls: 0.11018 | 1 cls: 0.16024 | 2 cls: 0.13148\n"
     ]
    },
    {
     "name": "stderr",
     "output_type": "stream",
     "text": [
      "Epoch 133, lr 0.0005: 100% 21/21 [00:12<00:00,  1.70it/s, 0 cls=0.17863, 1 cls=0.25660, 2 cls=0.21440, bce=0.07287, dice=0.83499, loss=-0.77239]\n"
     ]
    },
    {
     "name": "stdout",
     "output_type": "stream",
     "text": [
      "loss: -0.80740 | bce: 0.04080 | dice: 0.82722 | 0 cls: 0.17021 | 1 cls: 0.16996 | 2 cls: 0.16415\n"
     ]
    },
    {
     "name": "stderr",
     "output_type": "stream",
     "text": [
      "Epoch 134, lr 0.0005: 100% 21/21 [00:12<00:00,  1.69it/s, 0 cls=0.17432, 1 cls=0.25142, 2 cls=0.20934, bce=0.07088, dice=0.83703, loss=-0.77664]\n"
     ]
    },
    {
     "name": "stdout",
     "output_type": "stream",
     "text": [
      "loss: -0.84816 | bce: 0.03270 | dice: 0.86765 | 0 cls: 0.10854 | 1 cls: 0.15442 | 2 cls: 0.12893\n"
     ]
    },
    {
     "name": "stderr",
     "output_type": "stream",
     "text": [
      "Epoch 135, lr 0.0005: 100% 21/21 [00:12<00:00,  1.69it/s, 0 cls=0.17671, 1 cls=0.25129, 2 cls=0.21039, bce=0.07191, dice=0.83668, loss=-0.77541]\n"
     ]
    },
    {
     "name": "stdout",
     "output_type": "stream",
     "text": [
      "loss: -0.82727 | bce: 0.03582 | dice: 0.85625 | 0 cls: 0.11469 | 1 cls: 0.19040 | 2 cls: 0.14633\n"
     ]
    },
    {
     "name": "stderr",
     "output_type": "stream",
     "text": [
      "Epoch 136, lr 0.0005: 100% 21/21 [00:12<00:00,  1.69it/s, 0 cls=0.17088, 1 cls=0.24487, 2 cls=0.20267, bce=0.07054, dice=0.84076, loss=-0.78108]\n"
     ]
    },
    {
     "name": "stdout",
     "output_type": "stream",
     "text": [
      "loss: -0.83874 | bce: 0.03489 | dice: 0.86067 | 0 cls: 0.11548 | 1 cls: 0.16426 | 2 cls: 0.13649\n"
     ]
    },
    {
     "name": "stderr",
     "output_type": "stream",
     "text": [
      "Epoch 137, lr 0.0005: 100% 21/21 [00:12<00:00,  1.70it/s, 0 cls=0.17243, 1 cls=0.24951, 2 cls=0.20676, bce=0.07023, dice=0.83858, loss=-0.77857]\n"
     ]
    },
    {
     "name": "stdout",
     "output_type": "stream",
     "text": [
      "loss: -0.84617 | bce: 0.03105 | dice: 0.86492 | 0 cls: 0.11171 | 1 cls: 0.15685 | 2 cls: 0.12970\n"
     ]
    },
    {
     "name": "stderr",
     "output_type": "stream",
     "text": [
      "Epoch 138, lr 0.0005: 100% 21/21 [00:12<00:00,  1.67it/s, 0 cls=0.17720, 1 cls=0.25521, 2 cls=0.21224, bce=0.07277, dice=0.83706, loss=-0.77400]\n"
     ]
    },
    {
     "name": "stdout",
     "output_type": "stream",
     "text": [
      "loss: -0.83969 | bce: 0.03269 | dice: 0.85892 | 0 cls: 0.11650 | 1 cls: 0.16287 | 2 cls: 0.13824\n"
     ]
    },
    {
     "name": "stderr",
     "output_type": "stream",
     "text": [
      "Epoch 139, lr 0.0005: 100% 21/21 [00:12<00:00,  1.72it/s, 0 cls=0.18147, 1 cls=0.25601, 2 cls=0.21531, bce=0.07307, dice=0.83386, loss=-0.77135]\n"
     ]
    },
    {
     "name": "stdout",
     "output_type": "stream",
     "text": [
      "loss: -0.83817 | bce: 0.03132 | dice: 0.85872 | 0 cls: 0.11644 | 1 cls: 0.16391 | 2 cls: 0.13679\n"
     ]
    },
    {
     "name": "stderr",
     "output_type": "stream",
     "text": [
      "Epoch 140, lr 0.0005: 100% 21/21 [00:12<00:00,  1.69it/s, 0 cls=0.17728, 1 cls=0.25276, 2 cls=0.21108, bce=0.07189, dice=0.83610, loss=-0.77472]\n"
     ]
    },
    {
     "name": "stdout",
     "output_type": "stream",
     "text": [
      "loss: -0.83643 | bce: 0.03306 | dice: 0.85880 | 0 cls: 0.11679 | 1 cls: 0.17123 | 2 cls: 0.13979\n"
     ]
    },
    {
     "name": "stderr",
     "output_type": "stream",
     "text": [
      "Epoch 141, lr 0.0005: 100% 21/21 [00:12<00:00,  1.70it/s, 0 cls=0.17231, 1 cls=0.24560, 2 cls=0.20490, bce=0.06917, dice=0.83926, loss=-0.78063]\n"
     ]
    },
    {
     "name": "stdout",
     "output_type": "stream",
     "text": [
      "loss: -0.84021 | bce: 0.03560 | dice: 0.86419 | 0 cls: 0.11249 | 1 cls: 0.16735 | 2 cls: 0.13705\n"
     ]
    },
    {
     "name": "stderr",
     "output_type": "stream",
     "text": [
      "Epoch 142, lr 0.0005: 100% 21/21 [00:12<00:00,  1.68it/s, 0 cls=0.17557, 1 cls=0.24851, 2 cls=0.20905, bce=0.07111, dice=0.83807, loss=-0.77740]\n"
     ]
    },
    {
     "name": "stdout",
     "output_type": "stream",
     "text": [
      "loss: -0.83099 | bce: 0.03639 | dice: 0.85484 | 0 cls: 0.12533 | 1 cls: 0.16771 | 2 cls: 0.14274\n"
     ]
    },
    {
     "name": "stderr",
     "output_type": "stream",
     "text": [
      "Epoch 143, lr 0.0005: 100% 21/21 [00:12<00:00,  1.70it/s, 0 cls=0.18379, 1 cls=0.26389, 2 cls=0.22060, bce=0.07442, dice=0.83237, loss=-0.76747]\n"
     ]
    },
    {
     "name": "stdout",
     "output_type": "stream",
     "text": [
      "loss: -0.84091 | bce: 0.03238 | dice: 0.86093 | 0 cls: 0.11502 | 1 cls: 0.16308 | 2 cls: 0.13592\n"
     ]
    },
    {
     "name": "stderr",
     "output_type": "stream",
     "text": [
      "Epoch 144, lr 0.0005: 100% 21/21 [00:12<00:00,  1.69it/s, 0 cls=0.18559, 1 cls=0.26100, 2 cls=0.21952, bce=0.07446, dice=0.83221, loss=-0.76766]\n"
     ]
    },
    {
     "name": "stdout",
     "output_type": "stream",
     "text": [
      "loss: -0.84198 | bce: 0.03400 | dice: 0.86283 | 0 cls: 0.11030 | 1 cls: 0.16670 | 2 cls: 0.13290\n"
     ]
    },
    {
     "name": "stderr",
     "output_type": "stream",
     "text": [
      "Epoch 145, lr 0.0005: 100% 21/21 [00:12<00:00,  1.70it/s, 0 cls=0.18339, 1 cls=0.25893, 2 cls=0.21569, bce=0.07317, dice=0.83229, loss=-0.76929]\n"
     ]
    },
    {
     "name": "stdout",
     "output_type": "stream",
     "text": [
      "loss: -0.83444 | bce: 0.03405 | dice: 0.85565 | 0 cls: 0.12807 | 1 cls: 0.16502 | 2 cls: 0.13686\n"
     ]
    },
    {
     "name": "stderr",
     "output_type": "stream",
     "text": [
      "Epoch 146, lr 0.0005: 100% 21/21 [00:12<00:00,  1.69it/s, 0 cls=0.18319, 1 cls=0.25764, 2 cls=0.21575, bce=0.07228, dice=0.83278, loss=-0.77039]\n"
     ]
    },
    {
     "name": "stdout",
     "output_type": "stream",
     "text": [
      "loss: -0.83399 | bce: 0.03329 | dice: 0.85500 | 0 cls: 0.12386 | 1 cls: 0.16714 | 2 cls: 0.14110\n"
     ]
    },
    {
     "name": "stderr",
     "output_type": "stream",
     "text": [
      "Epoch 147, lr 0.0005: 100% 21/21 [00:12<00:00,  1.70it/s, 0 cls=0.18360, 1 cls=0.25785, 2 cls=0.21578, bce=0.07413, dice=0.83329, loss=-0.76955]\n"
     ]
    },
    {
     "name": "stdout",
     "output_type": "stream",
     "text": [
      "loss: -0.83527 | bce: 0.03495 | dice: 0.85853 | 0 cls: 0.11886 | 1 cls: 0.17040 | 2 cls: 0.14134\n"
     ]
    },
    {
     "name": "stderr",
     "output_type": "stream",
     "text": [
      "Epoch 148, lr 0.0005: 100% 21/21 [00:12<00:00,  1.69it/s, 0 cls=0.18167, 1 cls=0.25788, 2 cls=0.21387, bce=0.07395, dice=0.83468, loss=-0.77073]\n"
     ]
    },
    {
     "name": "stdout",
     "output_type": "stream",
     "text": [
      "loss: -0.83133 | bce: 0.03575 | dice: 0.85215 | 0 cls: 0.13867 | 1 cls: 0.16066 | 2 cls: 0.14070\n"
     ]
    },
    {
     "name": "stderr",
     "output_type": "stream",
     "text": [
      "Epoch 149, lr 0.0005: 100% 21/21 [00:12<00:00,  1.70it/s, 0 cls=0.19409, 1 cls=0.26638, 2 cls=0.22546, bce=0.07768, dice=0.82968, loss=-0.76152]\n"
     ]
    },
    {
     "name": "stdout",
     "output_type": "stream",
     "text": [
      "loss: -0.82027 | bce: 0.03595 | dice: 0.84142 | 0 cls: 0.13026 | 1 cls: 0.19049 | 2 cls: 0.15338\n"
     ]
    },
    {
     "name": "stderr",
     "output_type": "stream",
     "text": [
      "Epoch 150, lr 0.0005: 100% 21/21 [00:12<00:00,  1.70it/s, 0 cls=0.18147, 1 cls=0.25436, 2 cls=0.21398, bce=0.07300, dice=0.83414, loss=-0.77208]\n"
     ]
    },
    {
     "name": "stdout",
     "output_type": "stream",
     "text": [
      "loss: -0.83581 | bce: 0.03310 | dice: 0.85996 | 0 cls: 0.11751 | 1 cls: 0.17171 | 2 cls: 0.13503\n"
     ]
    },
    {
     "name": "stderr",
     "output_type": "stream",
     "text": [
      "Epoch 151, lr 0.0005: 100% 21/21 [00:12<00:00,  1.71it/s, 0 cls=0.17370, 1 cls=0.24685, 2 cls=0.20697, bce=0.07096, dice=0.83945, loss=-0.77910]\n"
     ]
    },
    {
     "name": "stdout",
     "output_type": "stream",
     "text": [
      "loss: -0.82075 | bce: 0.03597 | dice: 0.84287 | 0 cls: 0.13452 | 1 cls: 0.17900 | 2 cls: 0.15238\n"
     ]
    },
    {
     "name": "stderr",
     "output_type": "stream",
     "text": [
      "Epoch 152, lr 0.0005: 100% 21/21 [00:12<00:00,  1.70it/s, 0 cls=0.18712, 1 cls=0.25855, 2 cls=0.21889, bce=0.07508, dice=0.83207, loss=-0.76766]\n"
     ]
    },
    {
     "name": "stdout",
     "output_type": "stream",
     "text": [
      "loss: -0.84071 | bce: 0.03417 | dice: 0.86364 | 0 cls: 0.11376 | 1 cls: 0.16587 | 2 cls: 0.13359\n"
     ]
    },
    {
     "name": "stderr",
     "output_type": "stream",
     "text": [
      "Epoch 153, lr 0.0005: 100% 21/21 [00:12<00:00,  1.71it/s, 0 cls=0.18303, 1 cls=0.25860, 2 cls=0.21664, bce=0.07510, dice=0.83401, loss=-0.76943]\n"
     ]
    },
    {
     "name": "stdout",
     "output_type": "stream",
     "text": [
      "loss: -0.84054 | bce: 0.03315 | dice: 0.86130 | 0 cls: 0.11379 | 1 cls: 0.16325 | 2 cls: 0.13522\n"
     ]
    },
    {
     "name": "stderr",
     "output_type": "stream",
     "text": [
      "Epoch 154, lr 0.0005: 100% 21/21 [00:12<00:00,  1.69it/s, 0 cls=0.17733, 1 cls=0.25448, 2 cls=0.21300, bce=0.07228, dice=0.83605, loss=-0.77404]\n"
     ]
    },
    {
     "name": "stdout",
     "output_type": "stream",
     "text": [
      "loss: -0.83511 | bce: 0.03596 | dice: 0.85854 | 0 cls: 0.12272 | 1 cls: 0.16279 | 2 cls: 0.13677\n"
     ]
    },
    {
     "name": "stderr",
     "output_type": "stream",
     "text": [
      "Epoch 155, lr 0.0005: 100% 21/21 [00:12<00:00,  1.67it/s, 0 cls=0.17562, 1 cls=0.24933, 2 cls=0.20818, bce=0.07134, dice=0.83817, loss=-0.77721]\n"
     ]
    },
    {
     "name": "stdout",
     "output_type": "stream",
     "text": [
      "loss: -0.83557 | bce: 0.03497 | dice: 0.85623 | 0 cls: 0.11738 | 1 cls: 0.16898 | 2 cls: 0.14202\n"
     ]
    },
    {
     "name": "stderr",
     "output_type": "stream",
     "text": [
      "Epoch 156, lr 0.0005: 100% 21/21 [00:12<00:00,  1.71it/s, 0 cls=0.17429, 1 cls=0.24827, 2 cls=0.20819, bce=0.07096, dice=0.83798, loss=-0.77791]\n"
     ]
    },
    {
     "name": "stdout",
     "output_type": "stream",
     "text": [
      "loss: -0.84277 | bce: 0.03491 | dice: 0.86767 | 0 cls: 0.11073 | 1 cls: 0.16462 | 2 cls: 0.13090\n"
     ]
    },
    {
     "name": "stderr",
     "output_type": "stream",
     "text": [
      "Epoch 157, lr 0.0005: 100% 21/21 [00:12<00:00,  1.71it/s, 0 cls=0.18333, 1 cls=0.25729, 2 cls=0.21680, bce=0.07288, dice=0.83280, loss=-0.77042]\n"
     ]
    },
    {
     "name": "stdout",
     "output_type": "stream",
     "text": [
      "loss: -0.83320 | bce: 0.03641 | dice: 0.85559 | 0 cls: 0.12304 | 1 cls: 0.16685 | 2 cls: 0.14032\n"
     ]
    },
    {
     "name": "stderr",
     "output_type": "stream",
     "text": [
      "Epoch 158, lr 0.0005: 100% 21/21 [00:12<00:00,  1.70it/s, 0 cls=0.17241, 1 cls=0.24680, 2 cls=0.20692, bce=0.07065, dice=0.84049, loss=-0.78006]\n"
     ]
    },
    {
     "name": "stdout",
     "output_type": "stream",
     "text": [
      "loss: -0.83667 | bce: 0.03365 | dice: 0.85678 | 0 cls: 0.12289 | 1 cls: 0.15854 | 2 cls: 0.13729\n"
     ]
    },
    {
     "name": "stderr",
     "output_type": "stream",
     "text": [
      "Epoch 159, lr 0.0005: 100% 21/21 [00:12<00:00,  1.70it/s, 0 cls=0.17361, 1 cls=0.24489, 2 cls=0.20517, bce=0.07130, dice=0.83970, loss=-0.77966]\n"
     ]
    },
    {
     "name": "stdout",
     "output_type": "stream",
     "text": [
      "loss: -0.83654 | bce: 0.03503 | dice: 0.86153 | 0 cls: 0.11691 | 1 cls: 0.16900 | 2 cls: 0.13820\n"
     ]
    },
    {
     "name": "stderr",
     "output_type": "stream",
     "text": [
      "Epoch 160, lr 0.0005: 100% 21/21 [00:12<00:00,  1.69it/s, 0 cls=0.19342, 1 cls=0.26289, 2 cls=0.22354, bce=0.07563, dice=0.82935, loss=-0.76360]\n"
     ]
    },
    {
     "name": "stdout",
     "output_type": "stream",
     "text": [
      "loss: -0.84267 | bce: 0.03292 | dice: 0.86341 | 0 cls: 0.11491 | 1 cls: 0.16282 | 2 cls: 0.12975\n"
     ]
    },
    {
     "name": "stderr",
     "output_type": "stream",
     "text": [
      "Epoch 161, lr 0.0005: 100% 21/21 [00:12<00:00,  1.68it/s, 0 cls=0.17294, 1 cls=0.25127, 2 cls=0.20782, bce=0.07148, dice=0.83879, loss=-0.77747]\n"
     ]
    },
    {
     "name": "stdout",
     "output_type": "stream",
     "text": [
      "loss: -0.83267 | bce: 0.03429 | dice: 0.85593 | 0 cls: 0.12094 | 1 cls: 0.17484 | 2 cls: 0.14519\n"
     ]
    },
    {
     "name": "stderr",
     "output_type": "stream",
     "text": [
      "Epoch 162, lr 0.0005: 100% 21/21 [00:12<00:00,  1.71it/s, 0 cls=0.17512, 1 cls=0.24566, 2 cls=0.20584, bce=0.07079, dice=0.83952, loss=-0.77913]\n"
     ]
    },
    {
     "name": "stdout",
     "output_type": "stream",
     "text": [
      "loss: -0.84441 | bce: 0.03148 | dice: 0.86563 | 0 cls: 0.11165 | 1 cls: 0.16026 | 2 cls: 0.12971\n"
     ]
    },
    {
     "name": "stderr",
     "output_type": "stream",
     "text": [
      "Epoch 163, lr 0.0005: 100% 21/21 [00:12<00:00,  1.67it/s, 0 cls=0.17833, 1 cls=0.25123, 2 cls=0.20994, bce=0.07172, dice=0.83633, loss=-0.77518]\n"
     ]
    },
    {
     "name": "stdout",
     "output_type": "stream",
     "text": [
      "loss: -0.83911 | bce: 0.03472 | dice: 0.86091 | 0 cls: 0.11648 | 1 cls: 0.16423 | 2 cls: 0.13624\n"
     ]
    },
    {
     "name": "stderr",
     "output_type": "stream",
     "text": [
      "Epoch 164, lr 0.0005: 100% 21/21 [00:12<00:00,  1.72it/s, 0 cls=0.18344, 1 cls=0.25614, 2 cls=0.21599, bce=0.07430, dice=0.83511, loss=-0.77093]\n"
     ]
    },
    {
     "name": "stdout",
     "output_type": "stream",
     "text": [
      "loss: -0.82212 | bce: 0.03672 | dice: 0.84770 | 0 cls: 0.13279 | 1 cls: 0.17265 | 2 cls: 0.14761\n"
     ]
    },
    {
     "name": "stderr",
     "output_type": "stream",
     "text": [
      "Epoch 165, lr 0.0005: 100% 21/21 [00:12<00:00,  1.70it/s, 0 cls=0.18797, 1 cls=0.26252, 2 cls=0.22197, bce=0.07515, dice=0.83071, loss=-0.76575]\n"
     ]
    },
    {
     "name": "stdout",
     "output_type": "stream",
     "text": [
      "loss: -0.83248 | bce: 0.03242 | dice: 0.85416 | 0 cls: 0.12652 | 1 cls: 0.16462 | 2 cls: 0.13716\n"
     ]
    },
    {
     "name": "stderr",
     "output_type": "stream",
     "text": [
      "Epoch 166, lr 0.0005: 100% 21/21 [00:12<00:00,  1.68it/s, 0 cls=0.18100, 1 cls=0.25162, 2 cls=0.21242, bce=0.07274, dice=0.83683, loss=-0.77411]\n"
     ]
    },
    {
     "name": "stdout",
     "output_type": "stream",
     "text": [
      "loss: -0.84261 | bce: 0.03330 | dice: 0.86289 | 0 cls: 0.11942 | 1 cls: 0.15777 | 2 cls: 0.12942\n"
     ]
    },
    {
     "name": "stderr",
     "output_type": "stream",
     "text": [
      "Epoch 167, lr 0.0005: 100% 21/21 [00:12<00:00,  1.71it/s, 0 cls=0.17391, 1 cls=0.24594, 2 cls=0.20559, bce=0.07100, dice=0.83984, loss=-0.77944]\n"
     ]
    },
    {
     "name": "stdout",
     "output_type": "stream",
     "text": [
      "loss: -0.84652 | bce: 0.03260 | dice: 0.86841 | 0 cls: 0.10934 | 1 cls: 0.15864 | 2 cls: 0.12782\n"
     ]
    },
    {
     "name": "stderr",
     "output_type": "stream",
     "text": [
      "Epoch 168, lr 0.0005: 100% 21/21 [00:12<00:00,  1.67it/s, 0 cls=0.16863, 1 cls=0.24223, 2 cls=0.20232, bce=0.06962, dice=0.84301, loss=-0.78373]\n"
     ]
    },
    {
     "name": "stdout",
     "output_type": "stream",
     "text": [
      "loss: -0.84204 | bce: 0.03177 | dice: 0.86175 | 0 cls: 0.11612 | 1 cls: 0.15954 | 2 cls: 0.13155\n"
     ]
    },
    {
     "name": "stderr",
     "output_type": "stream",
     "text": [
      "Epoch 169, lr 0.0005: 100% 21/21 [00:12<00:00,  1.71it/s, 0 cls=0.17371, 1 cls=0.24446, 2 cls=0.20427, bce=0.07039, dice=0.83997, loss=-0.78019]\n"
     ]
    },
    {
     "name": "stdout",
     "output_type": "stream",
     "text": [
      "loss: -0.84591 | bce: 0.03087 | dice: 0.86674 | 0 cls: 0.10989 | 1 cls: 0.16019 | 2 cls: 0.12741\n"
     ]
    },
    {
     "name": "stderr",
     "output_type": "stream",
     "text": [
      "Epoch 170, lr 0.0005: 100% 21/21 [00:12<00:00,  1.68it/s, 0 cls=0.17914, 1 cls=0.25777, 2 cls=0.21468, bce=0.07305, dice=0.83552, loss=-0.77231]\n"
     ]
    },
    {
     "name": "stdout",
     "output_type": "stream",
     "text": [
      "loss: -0.83651 | bce: 0.03616 | dice: 0.85894 | 0 cls: 0.12118 | 1 cls: 0.16191 | 2 cls: 0.13755\n"
     ]
    },
    {
     "name": "stderr",
     "output_type": "stream",
     "text": [
      "Epoch 171, lr 0.0005: 100% 21/21 [00:12<00:00,  1.69it/s, 0 cls=0.17330, 1 cls=0.24702, 2 cls=0.20509, bce=0.07058, dice=0.83964, loss=-0.77939]\n"
     ]
    },
    {
     "name": "stdout",
     "output_type": "stream",
     "text": [
      "loss: -0.82619 | bce: 0.03730 | dice: 0.85293 | 0 cls: 0.13414 | 1 cls: 0.16873 | 2 cls: 0.14016\n"
     ]
    },
    {
     "name": "stderr",
     "output_type": "stream",
     "text": [
      "Epoch 172, lr 0.0005: 100% 21/21 [00:12<00:00,  1.70it/s, 0 cls=0.18809, 1 cls=0.25403, 2 cls=0.21537, bce=0.07546, dice=0.83539, loss=-0.76983]\n"
     ]
    },
    {
     "name": "stdout",
     "output_type": "stream",
     "text": [
      "loss: -0.83160 | bce: 0.03468 | dice: 0.85296 | 0 cls: 0.12395 | 1 cls: 0.17019 | 2 cls: 0.14305\n"
     ]
    },
    {
     "name": "stderr",
     "output_type": "stream",
     "text": [
      "Epoch 173, lr 0.0005: 100% 21/21 [00:12<00:00,  1.67it/s, 0 cls=0.17236, 1 cls=0.24243, 2 cls=0.20467, bce=0.07039, dice=0.84152, loss=-0.78193]\n"
     ]
    },
    {
     "name": "stdout",
     "output_type": "stream",
     "text": [
      "loss: -0.85127 | bce: 0.03067 | dice: 0.87227 | 0 cls: 0.10654 | 1 cls: 0.15369 | 2 cls: 0.12350\n"
     ]
    },
    {
     "name": "stderr",
     "output_type": "stream",
     "text": [
      "Epoch 174, lr 0.0005: 100% 21/21 [00:12<00:00,  1.69it/s, 0 cls=0.16986, 1 cls=0.24466, 2 cls=0.20333, bce=0.06917, dice=0.84081, loss=-0.78215]\n"
     ]
    },
    {
     "name": "stdout",
     "output_type": "stream",
     "text": [
      "loss: -0.83205 | bce: 0.03700 | dice: 0.85778 | 0 cls: 0.13106 | 1 cls: 0.15913 | 2 cls: 0.13071\n"
     ]
    },
    {
     "name": "stderr",
     "output_type": "stream",
     "text": [
      "Epoch 175, lr 0.0005: 100% 21/21 [00:12<00:00,  1.69it/s, 0 cls=0.18135, 1 cls=0.25280, 2 cls=0.21130, bce=0.07190, dice=0.83456, loss=-0.77315]\n"
     ]
    },
    {
     "name": "stdout",
     "output_type": "stream",
     "text": [
      "loss: -0.84268 | bce: 0.03172 | dice: 0.86517 | 0 cls: 0.11224 | 1 cls: 0.16550 | 2 cls: 0.12936\n"
     ]
    },
    {
     "name": "stderr",
     "output_type": "stream",
     "text": [
      "Epoch 176, lr 0.0005: 100% 21/21 [00:12<00:00,  1.71it/s, 0 cls=0.17572, 1 cls=0.25024, 2 cls=0.20941, bce=0.07163, dice=0.83839, loss=-0.77705]\n"
     ]
    },
    {
     "name": "stdout",
     "output_type": "stream",
     "text": [
      "loss: -0.81895 | bce: 0.03511 | dice: 0.83926 | 0 cls: 0.14076 | 1 cls: 0.17390 | 2 cls: 0.15229\n"
     ]
    },
    {
     "name": "stderr",
     "output_type": "stream",
     "text": [
      "Epoch 177, lr 0.0005: 100% 21/21 [00:12<00:00,  1.73it/s, 0 cls=0.18080, 1 cls=0.25136, 2 cls=0.21323, bce=0.07244, dice=0.83592, loss=-0.77399]\n"
     ]
    },
    {
     "name": "stdout",
     "output_type": "stream",
     "text": [
      "loss: -0.83839 | bce: 0.03438 | dice: 0.86353 | 0 cls: 0.11337 | 1 cls: 0.17161 | 2 cls: 0.13582\n"
     ]
    },
    {
     "name": "stderr",
     "output_type": "stream",
     "text": [
      "Epoch 178, lr 0.0005: 100% 21/21 [00:12<00:00,  1.70it/s, 0 cls=0.17863, 1 cls=0.24914, 2 cls=0.21105, bce=0.07174, dice=0.83743, loss=-0.77612]\n"
     ]
    },
    {
     "name": "stdout",
     "output_type": "stream",
     "text": [
      "loss: -0.82157 | bce: 0.03653 | dice: 0.84523 | 0 cls: 0.12848 | 1 cls: 0.18587 | 2 cls: 0.15397\n"
     ]
    },
    {
     "name": "stderr",
     "output_type": "stream",
     "text": [
      "Epoch 179, lr 0.0005: 100% 21/21 [00:12<00:00,  1.68it/s, 0 cls=0.17683, 1 cls=0.24657, 2 cls=0.20820, bce=0.07149, dice=0.83821, loss=-0.77769]\n"
     ]
    },
    {
     "name": "stdout",
     "output_type": "stream",
     "text": [
      "loss: -0.81329 | bce: 0.03834 | dice: 0.83454 | 0 cls: 0.14885 | 1 cls: 0.17439 | 2 cls: 0.15927\n"
     ]
    },
    {
     "name": "stderr",
     "output_type": "stream",
     "text": [
      "Epoch 180, lr 0.0005: 100% 21/21 [00:12<00:00,  1.68it/s, 0 cls=0.18042, 1 cls=0.25379, 2 cls=0.21221, bce=0.07276, dice=0.83591, loss=-0.77325]\n"
     ]
    },
    {
     "name": "stdout",
     "output_type": "stream",
     "text": [
      "loss: -0.83678 | bce: 0.03451 | dice: 0.86094 | 0 cls: 0.11702 | 1 cls: 0.17081 | 2 cls: 0.14037\n"
     ]
    },
    {
     "name": "stderr",
     "output_type": "stream",
     "text": [
      "Epoch 181, lr 0.0005: 100% 21/21 [00:12<00:00,  1.70it/s, 0 cls=0.17449, 1 cls=0.24888, 2 cls=0.20806, bce=0.07071, dice=0.83914, loss=-0.77832]\n"
     ]
    },
    {
     "name": "stdout",
     "output_type": "stream",
     "text": [
      "loss: -0.79052 | bce: 0.03902 | dice: 0.81324 | 0 cls: 0.21216 | 1 cls: 0.17953 | 2 cls: 0.18135\n"
     ]
    },
    {
     "name": "stderr",
     "output_type": "stream",
     "text": [
      "Epoch 182, lr 0.0005: 100% 21/21 [00:12<00:00,  1.69it/s, 0 cls=0.17335, 1 cls=0.24600, 2 cls=0.20580, bce=0.06954, dice=0.83931, loss=-0.78007]\n"
     ]
    },
    {
     "name": "stdout",
     "output_type": "stream",
     "text": [
      "loss: -0.84481 | bce: 0.03464 | dice: 0.86916 | 0 cls: 0.11078 | 1 cls: 0.16289 | 2 cls: 0.13058\n"
     ]
    },
    {
     "name": "stderr",
     "output_type": "stream",
     "text": [
      "Epoch 183, lr 0.0005: 100% 21/21 [00:12<00:00,  1.68it/s, 0 cls=0.17890, 1 cls=0.25432, 2 cls=0.21184, bce=0.07245, dice=0.83592, loss=-0.77352]\n"
     ]
    },
    {
     "name": "stdout",
     "output_type": "stream",
     "text": [
      "loss: -0.83697 | bce: 0.03687 | dice: 0.85920 | 0 cls: 0.12848 | 1 cls: 0.15873 | 2 cls: 0.13622\n"
     ]
    },
    {
     "name": "stderr",
     "output_type": "stream",
     "text": [
      "Epoch 184, lr 0.0005: 100% 21/21 [00:12<00:00,  1.70it/s, 0 cls=0.17787, 1 cls=0.24871, 2 cls=0.20858, bce=0.07075, dice=0.83674, loss=-0.77658]\n"
     ]
    },
    {
     "name": "stdout",
     "output_type": "stream",
     "text": [
      "loss: -0.84244 | bce: 0.03569 | dice: 0.86448 | 0 cls: 0.11763 | 1 cls: 0.15846 | 2 cls: 0.13095\n"
     ]
    },
    {
     "name": "stderr",
     "output_type": "stream",
     "text": [
      "Epoch 185, lr 0.0005: 100% 21/21 [00:12<00:00,  1.71it/s, 0 cls=0.17024, 1 cls=0.23994, 2 cls=0.20171, bce=0.06913, dice=0.84270, loss=-0.78412]\n"
     ]
    },
    {
     "name": "stdout",
     "output_type": "stream",
     "text": [
      "loss: -0.84094 | bce: 0.03459 | dice: 0.86146 | 0 cls: 0.11353 | 1 cls: 0.16434 | 2 cls: 0.13629\n"
     ]
    },
    {
     "name": "stderr",
     "output_type": "stream",
     "text": [
      "Epoch 186, lr 0.0005: 100% 21/21 [00:12<00:00,  1.69it/s, 0 cls=0.17470, 1 cls=0.25116, 2 cls=0.20950, bce=0.07189, dice=0.83782, loss=-0.77656]\n"
     ]
    },
    {
     "name": "stdout",
     "output_type": "stream",
     "text": [
      "loss: -0.83033 | bce: 0.03397 | dice: 0.84953 | 0 cls: 0.12261 | 1 cls: 0.17487 | 2 cls: 0.14675\n"
     ]
    },
    {
     "name": "stderr",
     "output_type": "stream",
     "text": [
      "Epoch 187, lr 0.0005: 100% 21/21 [00:12<00:00,  1.70it/s, 0 cls=0.17674, 1 cls=0.24755, 2 cls=0.20836, bce=0.07060, dice=0.83732, loss=-0.77758]\n"
     ]
    },
    {
     "name": "stdout",
     "output_type": "stream",
     "text": [
      "loss: -0.84132 | bce: 0.03504 | dice: 0.86224 | 0 cls: 0.11918 | 1 cls: 0.15625 | 2 cls: 0.13384\n"
     ]
    },
    {
     "name": "stderr",
     "output_type": "stream",
     "text": [
      "Epoch 188, lr 0.0005: 100% 21/21 [00:12<00:00,  1.66it/s, 0 cls=0.17948, 1 cls=0.25081, 2 cls=0.21168, bce=0.07295, dice=0.83758, loss=-0.77504]\n"
     ]
    },
    {
     "name": "stdout",
     "output_type": "stream",
     "text": [
      "loss: -0.84189 | bce: 0.03348 | dice: 0.86331 | 0 cls: 0.11272 | 1 cls: 0.16297 | 2 cls: 0.13459\n"
     ]
    },
    {
     "name": "stderr",
     "output_type": "stream",
     "text": [
      "Epoch 189, lr 0.0005: 100% 21/21 [00:12<00:00,  1.71it/s, 0 cls=0.17472, 1 cls=0.24870, 2 cls=0.20839, bce=0.07048, dice=0.83873, loss=-0.77825]\n"
     ]
    },
    {
     "name": "stdout",
     "output_type": "stream",
     "text": [
      "loss: -0.83641 | bce: 0.03305 | dice: 0.85737 | 0 cls: 0.12049 | 1 cls: 0.16323 | 2 cls: 0.13632\n"
     ]
    },
    {
     "name": "stderr",
     "output_type": "stream",
     "text": [
      "Epoch 190, lr 0.002: 100% 21/21 [00:12<00:00,  1.66it/s, 0 cls=0.21172, 1 cls=0.29860, 2 cls=0.24783, bce=0.08558, dice=0.81394, loss=-0.73824]\n"
     ]
    },
    {
     "name": "stdout",
     "output_type": "stream",
     "text": [
      "loss: -0.72510 | bce: 0.04972 | dice: 0.75881 | 0 cls: 0.23883 | 1 cls: 0.28769 | 2 cls: 0.25844\n"
     ]
    },
    {
     "name": "stderr",
     "output_type": "stream",
     "text": [
      "Epoch 191, lr 0.002: 100% 21/21 [00:12<00:00,  1.67it/s, 0 cls=0.27274, 1 cls=0.35865, 2 cls=0.30404, bce=0.10270, dice=0.77977, loss=-0.68608]\n"
     ]
    },
    {
     "name": "stdout",
     "output_type": "stream",
     "text": [
      "loss: -0.76522 | bce: 0.04635 | dice: 0.79918 | 0 cls: 0.19216 | 1 cls: 0.22224 | 2 cls: 0.19143\n"
     ]
    },
    {
     "name": "stderr",
     "output_type": "stream",
     "text": [
      "Epoch 192, lr 0.0006: 100% 21/21 [00:12<00:00,  1.70it/s, 0 cls=0.22439, 1 cls=0.30261, 2 cls=0.25331, bce=0.08683, dice=0.80824, loss=-0.73096]\n"
     ]
    },
    {
     "name": "stdout",
     "output_type": "stream",
     "text": [
      "loss: -0.79897 | bce: 0.03918 | dice: 0.82417 | 0 cls: 0.15643 | 1 cls: 0.20237 | 2 cls: 0.16828\n"
     ]
    },
    {
     "name": "stderr",
     "output_type": "stream",
     "text": [
      "Epoch 193, lr 0.0006: 100% 21/21 [00:12<00:00,  1.69it/s, 0 cls=0.20918, 1 cls=0.28675, 2 cls=0.24046, bce=0.08170, dice=0.81756, loss=-0.74550]\n"
     ]
    },
    {
     "name": "stdout",
     "output_type": "stream",
     "text": [
      "loss: -0.82213 | bce: 0.03776 | dice: 0.84887 | 0 cls: 0.12724 | 1 cls: 0.18806 | 2 cls: 0.15187\n"
     ]
    },
    {
     "name": "stderr",
     "output_type": "stream",
     "text": [
      "Epoch 194, lr 0.00017999999999999998: 100% 21/21 [00:12<00:00,  1.68it/s, 0 cls=0.19084, 1 cls=0.26640, 2 cls=0.22347, bce=0.07666, dice=0.82936, loss=-0.76275]\n"
     ]
    },
    {
     "name": "stdout",
     "output_type": "stream",
     "text": [
      "loss: -0.83153 | bce: 0.03409 | dice: 0.85279 | 0 cls: 0.12281 | 1 cls: 0.17304 | 2 cls: 0.14335\n"
     ]
    },
    {
     "name": "stderr",
     "output_type": "stream",
     "text": [
      "Epoch 195, lr 0.002: 100% 21/21 [00:12<00:00,  1.70it/s, 0 cls=0.22844, 1 cls=0.30490, 2 cls=0.25701, bce=0.08870, dice=0.80785, loss=-0.72877]\n"
     ]
    },
    {
     "name": "stdout",
     "output_type": "stream",
     "text": [
      "loss: -0.82613 | bce: 0.03644 | dice: 0.84393 | 0 cls: 0.13104 | 1 cls: 0.17100 | 2 cls: 0.15473\n"
     ]
    },
    {
     "name": "stderr",
     "output_type": "stream",
     "text": [
      "Epoch 196, lr 0.002: 100% 21/21 [00:12<00:00,  1.71it/s, 0 cls=0.24042, 1 cls=0.33299, 2 cls=0.27492, bce=0.09621, dice=0.79879, loss=-0.71100]\n"
     ]
    },
    {
     "name": "stdout",
     "output_type": "stream",
     "text": [
      "loss: -0.77840 | bce: 0.03611 | dice: 0.80028 | 0 cls: 0.18581 | 1 cls: 0.22358 | 2 cls: 0.19474\n"
     ]
    },
    {
     "name": "stderr",
     "output_type": "stream",
     "text": [
      "Epoch 197, lr 0.0006: 100% 21/21 [00:12<00:00,  1.68it/s, 0 cls=0.23716, 1 cls=0.32118, 2 cls=0.27072, bce=0.09069, dice=0.79959, loss=-0.71804]\n"
     ]
    },
    {
     "name": "stdout",
     "output_type": "stream",
     "text": [
      "loss: -0.82567 | bce: 0.03463 | dice: 0.84666 | 0 cls: 0.12588 | 1 cls: 0.17596 | 2 cls: 0.14805\n"
     ]
    },
    {
     "name": "stderr",
     "output_type": "stream",
     "text": [
      "Epoch 198, lr 0.0006: 100% 21/21 [00:12<00:00,  1.69it/s, 0 cls=0.19416, 1 cls=0.27695, 2 cls=0.23045, bce=0.07801, dice=0.82434, loss=-0.75609]\n"
     ]
    },
    {
     "name": "stdout",
     "output_type": "stream",
     "text": [
      "loss: -0.82574 | bce: 0.03076 | dice: 0.84250 | 0 cls: 0.13901 | 1 cls: 0.16934 | 2 cls: 0.14562\n"
     ]
    },
    {
     "name": "stderr",
     "output_type": "stream",
     "text": [
      "Epoch 199, lr 0.00017999999999999998: 100% 21/21 [00:12<00:00,  1.68it/s, 0 cls=0.19708, 1 cls=0.27602, 2 cls=0.23137, bce=0.07775, dice=0.82413, loss=-0.75581]\n"
     ]
    },
    {
     "name": "stdout",
     "output_type": "stream",
     "text": [
      "loss: -0.83623 | bce: 0.03500 | dice: 0.85771 | 0 cls: 0.11774 | 1 cls: 0.16578 | 2 cls: 0.13716\n"
     ]
    },
    {
     "name": "stderr",
     "output_type": "stream",
     "text": [
      "Epoch 200, lr 0.0003: 100% 21/21 [00:12<00:00,  1.68it/s, 0 cls=0.19503, 1 cls=0.26539, 2 cls=0.22567, bce=0.07656, dice=0.82804, loss=-0.76154]\n"
     ]
    },
    {
     "name": "stdout",
     "output_type": "stream",
     "text": [
      "loss: -0.84195 | bce: 0.03217 | dice: 0.86156 | 0 cls: 0.11631 | 1 cls: 0.15815 | 2 cls: 0.13086\n"
     ]
    },
    {
     "name": "stderr",
     "output_type": "stream",
     "text": [
      "Epoch 201, lr 0.0003: 100% 21/21 [00:12<00:00,  1.71it/s, 0 cls=0.19231, 1 cls=0.26832, 2 cls=0.22593, bce=0.07643, dice=0.82813, loss=-0.76145]\n"
     ]
    },
    {
     "name": "stdout",
     "output_type": "stream",
     "text": [
      "loss: -0.83643 | bce: 0.03449 | dice: 0.85790 | 0 cls: 0.11881 | 1 cls: 0.16265 | 2 cls: 0.13634\n"
     ]
    },
    {
     "name": "stderr",
     "output_type": "stream",
     "text": [
      "Epoch 202, lr 0.0003: 100% 21/21 [00:12<00:00,  1.69it/s, 0 cls=0.19345, 1 cls=0.26492, 2 cls=0.22516, bce=0.07505, dice=0.82733, loss=-0.76253]\n"
     ]
    },
    {
     "name": "stdout",
     "output_type": "stream",
     "text": [
      "loss: -0.84680 | bce: 0.03160 | dice: 0.86551 | 0 cls: 0.11066 | 1 cls: 0.15574 | 2 cls: 0.12968\n"
     ]
    },
    {
     "name": "stderr",
     "output_type": "stream",
     "text": [
      "Epoch 203, lr 0.0003: 100% 21/21 [00:12<00:00,  1.68it/s, 0 cls=0.18125, 1 cls=0.26149, 2 cls=0.21777, bce=0.07518, dice=0.83388, loss=-0.76876]\n"
     ]
    },
    {
     "name": "stdout",
     "output_type": "stream",
     "text": [
      "loss: -0.83874 | bce: 0.03225 | dice: 0.86073 | 0 cls: 0.11851 | 1 cls: 0.16628 | 2 cls: 0.13471\n"
     ]
    },
    {
     "name": "stderr",
     "output_type": "stream",
     "text": [
      "Epoch 204, lr 0.0003: 100% 21/21 [00:12<00:00,  1.71it/s, 0 cls=0.18274, 1 cls=0.25959, 2 cls=0.21663, bce=0.07328, dice=0.83267, loss=-0.76949]\n"
     ]
    },
    {
     "name": "stdout",
     "output_type": "stream",
     "text": [
      "loss: -0.84488 | bce: 0.03229 | dice: 0.86583 | 0 cls: 0.11211 | 1 cls: 0.15936 | 2 cls: 0.13022\n"
     ]
    },
    {
     "name": "stderr",
     "output_type": "stream",
     "text": [
      "Epoch 205, lr 0.0003: 100% 21/21 [00:12<00:00,  1.69it/s, 0 cls=0.17852, 1 cls=0.25322, 2 cls=0.21136, bce=0.07290, dice=0.83643, loss=-0.77386]\n"
     ]
    },
    {
     "name": "stdout",
     "output_type": "stream",
     "text": [
      "loss: -0.83938 | bce: 0.03398 | dice: 0.86052 | 0 cls: 0.11653 | 1 cls: 0.16328 | 2 cls: 0.13591\n"
     ]
    },
    {
     "name": "stderr",
     "output_type": "stream",
     "text": [
      "Epoch 206, lr 0.0003: 100% 21/21 [00:12<00:00,  1.71it/s, 0 cls=0.17901, 1 cls=0.25263, 2 cls=0.21192, bce=0.07277, dice=0.83682, loss=-0.77431]\n"
     ]
    },
    {
     "name": "stdout",
     "output_type": "stream",
     "text": [
      "loss: -0.84157 | bce: 0.03393 | dice: 0.86282 | 0 cls: 0.11291 | 1 cls: 0.16415 | 2 cls: 0.13445\n"
     ]
    },
    {
     "name": "stderr",
     "output_type": "stream",
     "text": [
      "Epoch 207, lr 0.0003: 100% 21/21 [00:12<00:00,  1.68it/s, 0 cls=0.17581, 1 cls=0.24843, 2 cls=0.20832, bce=0.07139, dice=0.83827, loss=-0.77747]\n"
     ]
    },
    {
     "name": "stdout",
     "output_type": "stream",
     "text": [
      "loss: -0.84377 | bce: 0.03418 | dice: 0.86601 | 0 cls: 0.11338 | 1 cls: 0.15724 | 2 cls: 0.13000\n"
     ]
    },
    {
     "name": "stderr",
     "output_type": "stream",
     "text": [
      "Epoch 208, lr 0.0003: 100% 21/21 [00:12<00:00,  1.69it/s, 0 cls=0.18131, 1 cls=0.25490, 2 cls=0.21404, bce=0.07277, dice=0.83510, loss=-0.77228]\n"
     ]
    },
    {
     "name": "stdout",
     "output_type": "stream",
     "text": [
      "loss: -0.84583 | bce: 0.03195 | dice: 0.86647 | 0 cls: 0.11170 | 1 cls: 0.15658 | 2 cls: 0.12799\n"
     ]
    },
    {
     "name": "stderr",
     "output_type": "stream",
     "text": [
      "Epoch 209, lr 0.0003: 100% 21/21 [00:12<00:00,  1.69it/s, 0 cls=0.17604, 1 cls=0.24944, 2 cls=0.20861, bce=0.07211, dice=0.83848, loss=-0.77693]\n"
     ]
    },
    {
     "name": "stdout",
     "output_type": "stream",
     "text": [
      "loss: -0.84280 | bce: 0.03422 | dice: 0.86465 | 0 cls: 0.11229 | 1 cls: 0.16022 | 2 cls: 0.13064\n"
     ]
    },
    {
     "name": "stderr",
     "output_type": "stream",
     "text": [
      "Epoch 210, lr 0.0003:  10% 2/21 [00:01<00:14,  1.32it/s, 0 cls=0.15245, 1 cls=0.21002, 2 cls=0.17611, bce=0.06240, dice=0.85740, loss=-0.80584]"
     ]
    }
   ],
   "source": [
    "train_args = {\n",
    "    'model_name': 'TernausNet34_with_scale_05_centers_contour_epoch_800_vgg11',\n",
    "    'network': 'TernausNet34',\n",
    "    'nb_epoch': 800,\n",
    "    'loss': 'BCEDiceLossMultiWithoutLog',\n",
    "    'lr_args': {\n",
    "        'adjust_init_lr': 0.0005,\n",
    "        'adjust_lr_decay_factor': 0.6,\n",
    "        'cycle_epochs_decay': 2,\n",
    "        'cycle_init_lr': 0.002,\n",
    "        'cycle_lr_decay_factor': 0.3,\n",
    "        'global_cycle_lr_decay_factor': 0.7,\n",
    "        'global_num_epochs_per_cycle': 200,\n",
    "        'num_epochs_per_cycle': 5,\n",
    "        'num_epochs_per_decay': 200\n",
    "    }, \n",
    "    'model_dir': 'models', \n",
    "    'log_dir': 'logs', \n",
    "    'network_args': {\n",
    "        'num_classes': 4, \n",
    "        'num_filters': 32, \n",
    "        'pretrained': True\n",
    "    }, \n",
    "    'loss_args': {\n",
    "        'weights': [0.4, 0.4, 0.1, 0.1],\n",
    "        'num_classes': 4\n",
    "    },       \n",
    "    'optimizer': 'Adam'\n",
    "}\n",
    "\n",
    "train(\n",
    "    train_args, train_ids + val_ids, val_ids[:1], \n",
    "    \"../output_data/with_scale_05_centers_contour/images/{}.png\", \"../output_data/with_scale_05_centers_contour/masks/{}.png\", \n",
    "    32, 1, train_transforms, val_transforms, period=64\n",
    ")"
   ]
  },
  {
   "cell_type": "code",
   "execution_count": null,
   "metadata": {},
   "outputs": [],
   "source": []
  }
 ],
 "metadata": {
  "kernelspec": {
   "display_name": "Environment (conda_pytorch_p36)",
   "language": "python",
   "name": "conda_pytorch_p36"
  },
  "language_info": {
   "codemirror_mode": {
    "name": "ipython",
    "version": 3
   },
   "file_extension": ".py",
   "mimetype": "text/x-python",
   "name": "python",
   "nbconvert_exporter": "python",
   "pygments_lexer": "ipython3",
   "version": "3.6.4"
  }
 },
 "nbformat": 4,
 "nbformat_minor": 2
}
