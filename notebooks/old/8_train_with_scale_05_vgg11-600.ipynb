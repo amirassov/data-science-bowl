{
 "cells": [
  {
   "cell_type": "code",
   "execution_count": 1,
   "metadata": {},
   "outputs": [
    {
     "data": {
      "text/html": [
       "<style>.container { width:95% !important; }</style>"
      ],
      "text/plain": [
       "<IPython.core.display.HTML object>"
      ]
     },
     "metadata": {},
     "output_type": "display_data"
    }
   ],
   "source": [
    "from IPython.core.display import display, HTML\n",
    "display(HTML(\"<style>.container { width:95% !important; }</style>\"))"
   ]
  },
  {
   "cell_type": "code",
   "execution_count": 2,
   "metadata": {},
   "outputs": [],
   "source": [
    "import warnings\n",
    "warnings.simplefilter(\"ignore\", UserWarning)\n",
    "warnings.simplefilter(\"ignore\", FutureWarning)\n",
    "warnings.simplefilter(\"ignore\", RuntimeWarning)\n",
    "\n",
    "import sys\n",
    "sys.path.append('../../dstorch/')\n",
    "\n",
    "import matplotlib.pyplot as plt\n",
    "%matplotlib inline\n",
    "%reload_ext autoreload\n",
    "%autoreload 2"
   ]
  },
  {
   "cell_type": "code",
   "execution_count": 3,
   "metadata": {},
   "outputs": [],
   "source": [
    "import os\n",
    "import pandas as pd\n",
    "from dstorch import transforms\n",
    "from dstorch.train import train\n",
    "import torch.backends.cudnn as cudnn"
   ]
  },
  {
   "cell_type": "code",
   "execution_count": 4,
   "metadata": {},
   "outputs": [],
   "source": [
    "ids = list([x.split('.')[0] for x in list(next(os.walk(\"../output_data/with_scale_05/images/\"))[2])])\n",
    "classes = pd.read_csv(\"../data/classes.csv\")\n",
    "val_ids = list(classes.loc[classes['type'] == 'val', 'id'])\n",
    "train_ids = list(set(ids) - set(val_ids))"
   ]
  },
  {
   "cell_type": "code",
   "execution_count": 5,
   "metadata": {},
   "outputs": [],
   "source": [
    "train_transforms = transforms.DualCompose(\n",
    "    [\n",
    "        transforms.RandomCrop((256, 256)),\n",
    "        transforms.VerticalFlip(),\n",
    "        transforms.HorizontalFlip(),\n",
    "        transforms.Transpose(),\n",
    "        transforms.ShiftScaleRotate(scale_limit=0.2, shift_limit=0.05),\n",
    "        transforms.Distort1(0.4, 0.4),\n",
    "        transforms.ImageOnly(transforms.RandomBrightness(0.5)),\n",
    "        transforms.ImageOnly(transforms.RandomContrast(0.5)),\n",
    "        transforms.ImageOnly(transforms.RandomSaturation(0.5)),\n",
    "        transforms.ImageOnly(transforms.Normalize(\n",
    "            mean=[0.485, 0.456, 0.406],\n",
    "            std=[0.229, 0.224, 0.225]\n",
    "        ))\n",
    "    ]\n",
    ")\n",
    "\n",
    "val_transforms = transforms.DualCompose(\n",
    "    [\n",
    "        transforms.ImageOnly(transforms.Normalize(\n",
    "            mean=[0.485, 0.456, 0.406],\n",
    "            std=[0.229, 0.224, 0.225]\n",
    "        ))\n",
    "    ]\n",
    ")"
   ]
  },
  {
   "cell_type": "code",
   "execution_count": 6,
   "metadata": {},
   "outputs": [],
   "source": [
    "cudnn.benchmark = True"
   ]
  },
  {
   "cell_type": "code",
   "execution_count": 7,
   "metadata": {},
   "outputs": [
    {
     "name": "stderr",
     "output_type": "stream",
     "text": [
      "Epoch 0, lr 0.0005: 100% 43/43 [00:18<00:00,  2.28it/s, 0 cls=0.95551, 1 cls=1.24614, 2 cls=1.47115, bce=0.34439, dice=0.48975, loss=1.09426]\n"
     ]
    },
    {
     "name": "stdout",
     "output_type": "stream",
     "text": [
      "loss: 0.30534 | bce: 0.10567 | dice: 0.75094 | 0 cls: 0.18474 | 1 cls: 0.40056 | 2 cls: 0.68361\n"
     ]
    },
    {
     "name": "stderr",
     "output_type": "stream",
     "text": [
      "Epoch 1, lr 0.0005: 100% 43/43 [00:14<00:00,  2.90it/s, 0 cls=0.36840, 1 cls=0.49797, 2 cls=0.73977, bce=0.15343, dice=0.70495, loss=0.44441]\n"
     ]
    },
    {
     "name": "stdout",
     "output_type": "stream",
     "text": [
      "loss: 0.27145 | bce: 0.07014 | dice: 0.78031 | 0 cls: 0.24135 | 1 cls: 0.23194 | 2 cls: 0.50986\n"
     ]
    },
    {
     "name": "stderr",
     "output_type": "stream",
     "text": [
      "Epoch 2, lr 0.0005: 100% 43/43 [00:14<00:00,  2.90it/s, 0 cls=0.30447, 1 cls=0.40773, 2 cls=0.56246, bce=0.12079, dice=0.75719, loss=0.36125]\n"
     ]
    },
    {
     "name": "stdout",
     "output_type": "stream",
     "text": [
      "loss: 0.21723 | bce: 0.05980 | dice: 0.82450 | 0 cls: 0.16253 | 1 cls: 0.24150 | 2 cls: 0.40291\n"
     ]
    },
    {
     "name": "stderr",
     "output_type": "stream",
     "text": [
      "Epoch 3, lr 0.0005: 100% 43/43 [00:14<00:00,  2.89it/s, 0 cls=0.28278, 1 cls=0.36990, 2 cls=0.52043, bce=0.11312, dice=0.77561, loss=0.33268]\n"
     ]
    },
    {
     "name": "stdout",
     "output_type": "stream",
     "text": [
      "loss: 0.17760 | bce: 0.04225 | dice: 0.84815 | 0 cls: 0.13603 | 1 cls: 0.18807 | 2 cls: 0.33910\n"
     ]
    },
    {
     "name": "stderr",
     "output_type": "stream",
     "text": [
      "Epoch 4, lr 0.0005: 100% 43/43 [00:15<00:00,  2.87it/s, 0 cls=0.25691, 1 cls=0.34799, 2 cls=0.48266, bce=0.10553, dice=0.79157, loss=0.30681]\n"
     ]
    },
    {
     "name": "stdout",
     "output_type": "stream",
     "text": [
      "loss: 0.17026 | bce: 0.04688 | dice: 0.85572 | 0 cls: 0.12500 | 1 cls: 0.19555 | 2 cls: 0.33587\n"
     ]
    },
    {
     "name": "stderr",
     "output_type": "stream",
     "text": [
      "Epoch 5, lr 0.0005: 100% 43/43 [00:15<00:00,  2.76it/s, 0 cls=0.24038, 1 cls=0.32933, 2 cls=0.45942, bce=0.10114, dice=0.80291, loss=0.28897]\n"
     ]
    },
    {
     "name": "stdout",
     "output_type": "stream",
     "text": [
      "loss: 0.16854 | bce: 0.04029 | dice: 0.85492 | 0 cls: 0.12977 | 1 cls: 0.18301 | 2 cls: 0.32339\n"
     ]
    },
    {
     "name": "stderr",
     "output_type": "stream",
     "text": [
      "Epoch 6, lr 0.0005: 100% 43/43 [00:15<00:00,  2.83it/s, 0 cls=0.23411, 1 cls=0.32357, 2 cls=0.44839, bce=0.09953, dice=0.80761, loss=0.28237]\n"
     ]
    },
    {
     "name": "stdout",
     "output_type": "stream",
     "text": [
      "loss: 0.17685 | bce: 0.04984 | dice: 0.85102 | 0 cls: 0.13732 | 1 cls: 0.18749 | 2 cls: 0.34642\n"
     ]
    },
    {
     "name": "stderr",
     "output_type": "stream",
     "text": [
      "Epoch 7, lr 0.0005: 100% 43/43 [00:15<00:00,  2.81it/s, 0 cls=0.21816, 1 cls=0.30971, 2 cls=0.42532, bce=0.09235, dice=0.81539, loss=0.26634]\n"
     ]
    },
    {
     "name": "stdout",
     "output_type": "stream",
     "text": [
      "loss: 0.17230 | bce: 0.04985 | dice: 0.85912 | 0 cls: 0.13459 | 1 cls: 0.18223 | 2 cls: 0.32804\n"
     ]
    },
    {
     "name": "stderr",
     "output_type": "stream",
     "text": [
      "Epoch 8, lr 0.0005: 100% 43/43 [00:15<00:00,  2.84it/s, 0 cls=0.22411, 1 cls=0.31783, 2 cls=0.43667, bce=0.09487, dice=0.81125, loss=0.27348]\n"
     ]
    },
    {
     "name": "stdout",
     "output_type": "stream",
     "text": [
      "loss: 0.16468 | bce: 0.04159 | dice: 0.85867 | 0 cls: 0.12589 | 1 cls: 0.18279 | 2 cls: 0.31726\n"
     ]
    },
    {
     "name": "stderr",
     "output_type": "stream",
     "text": [
      "Epoch 9, lr 0.0005: 100% 43/43 [00:15<00:00,  2.83it/s, 0 cls=0.21940, 1 cls=0.30580, 2 cls=0.42665, bce=0.09377, dice=0.81647, loss=0.26604]\n"
     ]
    },
    {
     "name": "stdout",
     "output_type": "stream",
     "text": [
      "loss: 0.16282 | bce: 0.04440 | dice: 0.86292 | 0 cls: 0.12249 | 1 cls: 0.18314 | 2 cls: 0.31262\n"
     ]
    },
    {
     "name": "stderr",
     "output_type": "stream",
     "text": [
      "Epoch 10, lr 0.0005: 100% 43/43 [00:15<00:00,  2.83it/s, 0 cls=0.22860, 1 cls=0.31458, 2 cls=0.43739, bce=0.09712, dice=0.81170, loss=0.27527]\n"
     ]
    },
    {
     "name": "stdout",
     "output_type": "stream",
     "text": [
      "loss: 0.18281 | bce: 0.04723 | dice: 0.84579 | 0 cls: 0.14992 | 1 cls: 0.18444 | 2 cls: 0.34546\n"
     ]
    },
    {
     "name": "stderr",
     "output_type": "stream",
     "text": [
      "Epoch 11, lr 0.0005: 100% 43/43 [00:15<00:00,  2.83it/s, 0 cls=0.22280, 1 cls=0.31094, 2 cls=0.43729, bce=0.09444, dice=0.81224, loss=0.27069]\n"
     ]
    },
    {
     "name": "stdout",
     "output_type": "stream",
     "text": [
      "loss: 0.16589 | bce: 0.04553 | dice: 0.85829 | 0 cls: 0.12445 | 1 cls: 0.18452 | 2 cls: 0.32637\n"
     ]
    },
    {
     "name": "stderr",
     "output_type": "stream",
     "text": [
      "Epoch 12, lr 0.0005: 100% 43/43 [00:15<00:00,  2.83it/s, 0 cls=0.21486, 1 cls=0.30116, 2 cls=0.41739, bce=0.09245, dice=0.82014, loss=0.26100]\n"
     ]
    },
    {
     "name": "stdout",
     "output_type": "stream",
     "text": [
      "loss: 0.16958 | bce: 0.04531 | dice: 0.85721 | 0 cls: 0.13194 | 1 cls: 0.18396 | 2 cls: 0.32255\n"
     ]
    },
    {
     "name": "stderr",
     "output_type": "stream",
     "text": [
      "Epoch 13, lr 0.0005: 100% 43/43 [00:15<00:00,  2.83it/s, 0 cls=0.21435, 1 cls=0.30575, 2 cls=0.41957, bce=0.09230, dice=0.81919, loss=0.26229]\n"
     ]
    },
    {
     "name": "stdout",
     "output_type": "stream",
     "text": [
      "loss: 0.15845 | bce: 0.04204 | dice: 0.86387 | 0 cls: 0.12030 | 1 cls: 0.18013 | 2 cls: 0.30806\n"
     ]
    },
    {
     "name": "stderr",
     "output_type": "stream",
     "text": [
      "Epoch 14, lr 0.0005: 100% 43/43 [00:15<00:00,  2.82it/s, 0 cls=0.20825, 1 cls=0.29425, 2 cls=0.41246, bce=0.09109, dice=0.82371, loss=0.25447]\n"
     ]
    },
    {
     "name": "stdout",
     "output_type": "stream",
     "text": [
      "loss: 0.16313 | bce: 0.04088 | dice: 0.85918 | 0 cls: 0.12343 | 1 cls: 0.18681 | 2 cls: 0.31459\n"
     ]
    },
    {
     "name": "stderr",
     "output_type": "stream",
     "text": [
      "Epoch 15, lr 0.0005: 100% 43/43 [00:15<00:00,  2.81it/s, 0 cls=0.22018, 1 cls=0.29938, 2 cls=0.41693, bce=0.09407, dice=0.82002, loss=0.26362]\n"
     ]
    },
    {
     "name": "stdout",
     "output_type": "stream",
     "text": [
      "loss: 0.18185 | bce: 0.04225 | dice: 0.84216 | 0 cls: 0.14117 | 1 cls: 0.20541 | 2 cls: 0.34304\n"
     ]
    },
    {
     "name": "stderr",
     "output_type": "stream",
     "text": [
      "Epoch 16, lr 0.0005: 100% 43/43 [00:15<00:00,  2.73it/s, 0 cls=0.20705, 1 cls=0.29017, 2 cls=0.40545, bce=0.09100, dice=0.82676, loss=0.25183]\n"
     ]
    },
    {
     "name": "stdout",
     "output_type": "stream",
     "text": [
      "loss: 0.16126 | bce: 0.04615 | dice: 0.86469 | 0 cls: 0.12518 | 1 cls: 0.17559 | 2 cls: 0.31227\n"
     ]
    },
    {
     "name": "stderr",
     "output_type": "stream",
     "text": [
      "Epoch 17, lr 0.0005: 100% 43/43 [00:15<00:00,  2.83it/s, 0 cls=0.19490, 1 cls=0.28167, 2 cls=0.39172, bce=0.08477, dice=0.83110, loss=0.24061]\n"
     ]
    },
    {
     "name": "stdout",
     "output_type": "stream",
     "text": [
      "loss: 0.16331 | bce: 0.04240 | dice: 0.86013 | 0 cls: 0.12694 | 1 cls: 0.17904 | 2 cls: 0.31391\n"
     ]
    },
    {
     "name": "stderr",
     "output_type": "stream",
     "text": [
      "Epoch 18, lr 0.0005: 100% 43/43 [00:15<00:00,  2.83it/s, 0 cls=0.21215, 1 cls=0.29598, 2 cls=0.41084, bce=0.09218, dice=0.82343, loss=0.25717]\n"
     ]
    },
    {
     "name": "stdout",
     "output_type": "stream",
     "text": [
      "loss: 0.17472 | bce: 0.04392 | dice: 0.85250 | 0 cls: 0.13864 | 1 cls: 0.18590 | 2 cls: 0.32760\n"
     ]
    },
    {
     "name": "stderr",
     "output_type": "stream",
     "text": [
      "Epoch 19, lr 0.0005: 100% 43/43 [00:15<00:00,  2.82it/s, 0 cls=0.22187, 1 cls=0.30381, 2 cls=0.41719, bce=0.09347, dice=0.81829, loss=0.26598]\n"
     ]
    },
    {
     "name": "stdout",
     "output_type": "stream",
     "text": [
      "loss: 0.17399 | bce: 0.04306 | dice: 0.85044 | 0 cls: 0.13638 | 1 cls: 0.18733 | 2 cls: 0.33040\n"
     ]
    },
    {
     "name": "stderr",
     "output_type": "stream",
     "text": [
      "Epoch 20, lr 0.0005: 100% 43/43 [00:15<00:00,  2.83it/s, 0 cls=0.20191, 1 cls=0.28584, 2 cls=0.39704, bce=0.08739, dice=0.82850, loss=0.24660]\n"
     ]
    },
    {
     "name": "stdout",
     "output_type": "stream",
     "text": [
      "loss: 0.17538 | bce: 0.04335 | dice: 0.84904 | 0 cls: 0.14198 | 1 cls: 0.18468 | 2 cls: 0.33222\n"
     ]
    },
    {
     "name": "stderr",
     "output_type": "stream",
     "text": [
      "Epoch 21, lr 0.0005: 100% 43/43 [00:15<00:00,  2.83it/s, 0 cls=0.20466, 1 cls=0.28500, 2 cls=0.39742, bce=0.08787, dice=0.82806, loss=0.24804]\n"
     ]
    },
    {
     "name": "stdout",
     "output_type": "stream",
     "text": [
      "loss: 0.16481 | bce: 0.04484 | dice: 0.85985 | 0 cls: 0.13091 | 1 cls: 0.17591 | 2 cls: 0.31679\n"
     ]
    },
    {
     "name": "stderr",
     "output_type": "stream",
     "text": [
      "Epoch 22, lr 0.0005: 100% 43/43 [00:15<00:00,  2.83it/s, 0 cls=0.20297, 1 cls=0.28471, 2 cls=0.39956, bce=0.08686, dice=0.82749, loss=0.24715]\n"
     ]
    },
    {
     "name": "stdout",
     "output_type": "stream",
     "text": [
      "loss: 0.15560 | bce: 0.04107 | dice: 0.86649 | 0 cls: 0.11929 | 1 cls: 0.17391 | 2 cls: 0.30075\n"
     ]
    },
    {
     "name": "stderr",
     "output_type": "stream",
     "text": [
      "Epoch 23, lr 0.0005: 100% 43/43 [00:15<00:00,  2.82it/s, 0 cls=0.19522, 1 cls=0.28408, 2 cls=0.39266, bce=0.08635, dice=0.83152, loss=0.24162]\n"
     ]
    },
    {
     "name": "stdout",
     "output_type": "stream",
     "text": [
      "loss: 0.17048 | bce: 0.04304 | dice: 0.85238 | 0 cls: 0.13020 | 1 cls: 0.19313 | 2 cls: 0.32664\n"
     ]
    },
    {
     "name": "stderr",
     "output_type": "stream",
     "text": [
      "Epoch 24, lr 0.0005: 100% 43/43 [00:15<00:00,  2.83it/s, 0 cls=0.19909, 1 cls=0.28185, 2 cls=0.39156, bce=0.08762, dice=0.83195, loss=0.24316]\n"
     ]
    },
    {
     "name": "stdout",
     "output_type": "stream",
     "text": [
      "loss: 0.16354 | bce: 0.04076 | dice: 0.85815 | 0 cls: 0.12608 | 1 cls: 0.18277 | 2 cls: 0.31678\n"
     ]
    },
    {
     "name": "stderr",
     "output_type": "stream",
     "text": [
      "Epoch 25, lr 0.0005: 100% 43/43 [00:15<00:00,  2.84it/s, 0 cls=0.20238, 1 cls=0.28382, 2 cls=0.39557, bce=0.08793, dice=0.82986, loss=0.24613]\n"
     ]
    },
    {
     "name": "stdout",
     "output_type": "stream",
     "text": [
      "loss: 0.15601 | bce: 0.04045 | dice: 0.86554 | 0 cls: 0.11894 | 1 cls: 0.17561 | 2 cls: 0.30156\n"
     ]
    },
    {
     "name": "stderr",
     "output_type": "stream",
     "text": [
      "Epoch 26, lr 0.0005: 100% 43/43 [00:15<00:00,  2.82it/s, 0 cls=0.20031, 1 cls=0.28071, 2 cls=0.39512, bce=0.08615, dice=0.82958, loss=0.24391]\n"
     ]
    },
    {
     "name": "stdout",
     "output_type": "stream",
     "text": [
      "loss: 0.15409 | bce: 0.04137 | dice: 0.86809 | 0 cls: 0.11647 | 1 cls: 0.17525 | 2 cls: 0.29965\n"
     ]
    },
    {
     "name": "stderr",
     "output_type": "stream",
     "text": [
      "Epoch 27, lr 0.0005: 100% 43/43 [00:15<00:00,  2.82it/s, 0 cls=0.19257, 1 cls=0.27690, 2 cls=0.38374, bce=0.08384, dice=0.83410, loss=0.23699]\n"
     ]
    },
    {
     "name": "stdout",
     "output_type": "stream",
     "text": [
      "loss: 0.15728 | bce: 0.04122 | dice: 0.86516 | 0 cls: 0.12037 | 1 cls: 0.17488 | 2 cls: 0.30385\n"
     ]
    },
    {
     "name": "stderr",
     "output_type": "stream",
     "text": [
      "Epoch 28, lr 0.0005: 100% 43/43 [00:15<00:00,  2.75it/s, 0 cls=0.19186, 1 cls=0.27537, 2 cls=0.38328, bce=0.08376, dice=0.83446, loss=0.23605]\n"
     ]
    },
    {
     "name": "stdout",
     "output_type": "stream",
     "text": [
      "loss: 0.15912 | bce: 0.04446 | dice: 0.86450 | 0 cls: 0.12092 | 1 cls: 0.18059 | 2 cls: 0.31145\n"
     ]
    },
    {
     "name": "stderr",
     "output_type": "stream",
     "text": [
      "Epoch 29, lr 0.0005: 100% 43/43 [00:15<00:00,  2.83it/s, 0 cls=0.19255, 1 cls=0.27546, 2 cls=0.38412, bce=0.08443, dice=0.83478, loss=0.23658]\n"
     ]
    },
    {
     "name": "stdout",
     "output_type": "stream",
     "text": [
      "loss: 0.15929 | bce: 0.03854 | dice: 0.86049 | 0 cls: 0.12238 | 1 cls: 0.17809 | 2 cls: 0.30952\n"
     ]
    },
    {
     "name": "stderr",
     "output_type": "stream",
     "text": [
      "Epoch 30, lr 0.0005: 100% 43/43 [00:15<00:00,  2.83it/s, 0 cls=0.18839, 1 cls=0.27399, 2 cls=0.37990, bce=0.08314, dice=0.83646, loss=0.23322]\n"
     ]
    },
    {
     "name": "stdout",
     "output_type": "stream",
     "text": [
      "loss: 0.16061 | bce: 0.04553 | dice: 0.86323 | 0 cls: 0.12239 | 1 cls: 0.17833 | 2 cls: 0.31537\n"
     ]
    },
    {
     "name": "stderr",
     "output_type": "stream",
     "text": [
      "Epoch 31, lr 0.0005: 100% 43/43 [00:15<00:00,  2.83it/s, 0 cls=0.18714, 1 cls=0.27219, 2 cls=0.37887, bce=0.08239, dice=0.83689, loss=0.23183]\n"
     ]
    },
    {
     "name": "stdout",
     "output_type": "stream",
     "text": [
      "loss: 0.15616 | bce: 0.04280 | dice: 0.86651 | 0 cls: 0.11820 | 1 cls: 0.17700 | 2 cls: 0.30469\n"
     ]
    },
    {
     "name": "stderr",
     "output_type": "stream",
     "text": [
      "Epoch 32, lr 0.0005: 100% 43/43 [00:15<00:00,  2.83it/s, 0 cls=0.18678, 1 cls=0.27242, 2 cls=0.37807, bce=0.08230, dice=0.83704, loss=0.23160]\n"
     ]
    },
    {
     "name": "stdout",
     "output_type": "stream",
     "text": [
      "loss: 0.15543 | bce: 0.04119 | dice: 0.86695 | 0 cls: 0.11912 | 1 cls: 0.17441 | 2 cls: 0.30118\n"
     ]
    },
    {
     "name": "stderr",
     "output_type": "stream",
     "text": [
      "Epoch 33, lr 0.0005: 100% 43/43 [00:15<00:00,  2.82it/s, 0 cls=0.18672, 1 cls=0.26449, 2 cls=0.37102, bce=0.08262, dice=0.84072, loss=0.22848]\n"
     ]
    },
    {
     "name": "stdout",
     "output_type": "stream",
     "text": [
      "loss: 0.15832 | bce: 0.04063 | dice: 0.86360 | 0 cls: 0.12215 | 1 cls: 0.17862 | 2 cls: 0.30403\n"
     ]
    },
    {
     "name": "stderr",
     "output_type": "stream",
     "text": [
      "Epoch 34, lr 0.0005: 100% 43/43 [00:15<00:00,  2.82it/s, 0 cls=0.20174, 1 cls=0.27835, 2 cls=0.39007, bce=0.08562, dice=0.83076, loss=0.24355]\n"
     ]
    },
    {
     "name": "stdout",
     "output_type": "stream",
     "text": [
      "loss: 0.15929 | bce: 0.04276 | dice: 0.86369 | 0 cls: 0.12345 | 1 cls: 0.17623 | 2 cls: 0.30729\n"
     ]
    },
    {
     "name": "stderr",
     "output_type": "stream",
     "text": [
      "Epoch 35, lr 0.0005: 100% 43/43 [00:15<00:00,  2.84it/s, 0 cls=0.18748, 1 cls=0.26988, 2 cls=0.37557, bce=0.08238, dice=0.83811, loss=0.23101]\n"
     ]
    },
    {
     "name": "stdout",
     "output_type": "stream",
     "text": [
      "loss: 0.15514 | bce: 0.04150 | dice: 0.86714 | 0 cls: 0.11688 | 1 cls: 0.17811 | 2 cls: 0.30005\n"
     ]
    },
    {
     "name": "stderr",
     "output_type": "stream",
     "text": [
      "Epoch 36, lr 0.0005: 100% 43/43 [00:15<00:00,  2.82it/s, 0 cls=0.18940, 1 cls=0.27063, 2 cls=0.37681, bce=0.08221, dice=0.83675, loss=0.23251]\n"
     ]
    },
    {
     "name": "stdout",
     "output_type": "stream",
     "text": [
      "loss: 0.15517 | bce: 0.04030 | dice: 0.86532 | 0 cls: 0.11663 | 1 cls: 0.17746 | 2 cls: 0.30281\n"
     ]
    },
    {
     "name": "stderr",
     "output_type": "stream",
     "text": [
      "Epoch 37, lr 0.0005: 100% 43/43 [00:15<00:00,  2.83it/s, 0 cls=0.18694, 1 cls=0.26738, 2 cls=0.37457, bce=0.08244, dice=0.83906, loss=0.22984]\n"
     ]
    },
    {
     "name": "stdout",
     "output_type": "stream",
     "text": [
      "loss: 0.16118 | bce: 0.03950 | dice: 0.86006 | 0 cls: 0.12671 | 1 cls: 0.17495 | 2 cls: 0.31218\n"
     ]
    },
    {
     "name": "stderr",
     "output_type": "stream",
     "text": [
      "Epoch 38, lr 0.0005: 100% 43/43 [00:15<00:00,  2.82it/s, 0 cls=0.19102, 1 cls=0.27114, 2 cls=0.37994, bce=0.08303, dice=0.83604, loss=0.23395]\n"
     ]
    },
    {
     "name": "stdout",
     "output_type": "stream",
     "text": [
      "loss: 0.15273 | bce: 0.04352 | dice: 0.87021 | 0 cls: 0.11422 | 1 cls: 0.17554 | 2 cls: 0.29958\n"
     ]
    },
    {
     "name": "stderr",
     "output_type": "stream",
     "text": [
      "Epoch 39, lr 0.0005: 100% 43/43 [00:15<00:00,  2.84it/s, 0 cls=0.18583, 1 cls=0.27054, 2 cls=0.37511, bce=0.08251, dice=0.83882, loss=0.23017]\n"
     ]
    },
    {
     "name": "stdout",
     "output_type": "stream",
     "text": [
      "loss: 0.16351 | bce: 0.03938 | dice: 0.85687 | 0 cls: 0.12852 | 1 cls: 0.17673 | 2 cls: 0.31988\n"
     ]
    },
    {
     "name": "stderr",
     "output_type": "stream",
     "text": [
      "Epoch 40, lr 0.0005: 100% 43/43 [00:15<00:00,  2.78it/s, 0 cls=0.18705, 1 cls=0.26595, 2 cls=0.37387, bce=0.08244, dice=0.83932, loss=0.22940]\n"
     ]
    },
    {
     "name": "stdout",
     "output_type": "stream",
     "text": [
      "loss: 0.15183 | bce: 0.03925 | dice: 0.86769 | 0 cls: 0.11620 | 1 cls: 0.17118 | 2 cls: 0.29775\n"
     ]
    },
    {
     "name": "stderr",
     "output_type": "stream",
     "text": [
      "Epoch 41, lr 0.0005: 100% 43/43 [00:15<00:00,  2.83it/s, 0 cls=0.18626, 1 cls=0.26826, 2 cls=0.37456, bce=0.08213, dice=0.83880, loss=0.22969]\n"
     ]
    },
    {
     "name": "stdout",
     "output_type": "stream",
     "text": [
      "loss: 0.16644 | bce: 0.04515 | dice: 0.85915 | 0 cls: 0.13303 | 1 cls: 0.17499 | 2 cls: 0.31888\n"
     ]
    },
    {
     "name": "stderr",
     "output_type": "stream",
     "text": [
      "Epoch 42, lr 0.0005: 100% 43/43 [00:15<00:00,  2.83it/s, 0 cls=0.19815, 1 cls=0.28255, 2 cls=0.38982, bce=0.08483, dice=0.83062, loss=0.24264]\n"
     ]
    },
    {
     "name": "stdout",
     "output_type": "stream",
     "text": [
      "loss: 0.15778 | bce: 0.03959 | dice: 0.86352 | 0 cls: 0.11829 | 1 cls: 0.18282 | 2 cls: 0.30602\n"
     ]
    },
    {
     "name": "stderr",
     "output_type": "stream",
     "text": [
      "Epoch 43, lr 0.0005: 100% 43/43 [00:15<00:00,  2.83it/s, 0 cls=0.18408, 1 cls=0.26587, 2 cls=0.37004, bce=0.08210, dice=0.84109, loss=0.22722]\n"
     ]
    },
    {
     "name": "stdout",
     "output_type": "stream",
     "text": [
      "loss: 0.15763 | bce: 0.04355 | dice: 0.86560 | 0 cls: 0.11702 | 1 cls: 0.18430 | 2 cls: 0.30693\n"
     ]
    },
    {
     "name": "stderr",
     "output_type": "stream",
     "text": [
      "Epoch 44, lr 0.0005: 100% 43/43 [00:15<00:00,  2.83it/s, 0 cls=0.18840, 1 cls=0.26670, 2 cls=0.37171, bce=0.08191, dice=0.83902, loss=0.23022]\n"
     ]
    },
    {
     "name": "stdout",
     "output_type": "stream",
     "text": [
      "loss: 0.15458 | bce: 0.04199 | dice: 0.86761 | 0 cls: 0.11783 | 1 cls: 0.17587 | 2 cls: 0.30003\n"
     ]
    },
    {
     "name": "stderr",
     "output_type": "stream",
     "text": [
      "Epoch 45, lr 0.0005: 100% 43/43 [00:15<00:00,  2.83it/s, 0 cls=0.19275, 1 cls=0.27034, 2 cls=0.37827, bce=0.08374, dice=0.83628, loss=0.23458]\n"
     ]
    },
    {
     "name": "stdout",
     "output_type": "stream",
     "text": [
      "loss: 0.15721 | bce: 0.03909 | dice: 0.86343 | 0 cls: 0.12279 | 1 cls: 0.17219 | 2 cls: 0.30461\n"
     ]
    },
    {
     "name": "stderr",
     "output_type": "stream",
     "text": [
      "Epoch 46, lr 0.0005: 100% 43/43 [00:15<00:00,  2.83it/s, 0 cls=0.19330, 1 cls=0.26996, 2 cls=0.38427, bce=0.08518, dice=0.83602, loss=0.23540]\n"
     ]
    },
    {
     "name": "stdout",
     "output_type": "stream",
     "text": [
      "loss: 0.15655 | bce: 0.03776 | dice: 0.86291 | 0 cls: 0.12015 | 1 cls: 0.17476 | 2 cls: 0.30273\n"
     ]
    },
    {
     "name": "stderr",
     "output_type": "stream",
     "text": [
      "Epoch 47, lr 0.0005: 100% 43/43 [00:15<00:00,  2.80it/s, 0 cls=0.19558, 1 cls=0.27233, 2 cls=0.38070, bce=0.08364, dice=0.83452, loss=0.23712]\n"
     ]
    },
    {
     "name": "stdout",
     "output_type": "stream",
     "text": [
      "loss: 0.15572 | bce: 0.04044 | dice: 0.86545 | 0 cls: 0.11971 | 1 cls: 0.17360 | 2 cls: 0.30234\n"
     ]
    },
    {
     "name": "stderr",
     "output_type": "stream",
     "text": [
      "Epoch 48, lr 0.0005: 100% 43/43 [00:15<00:00,  2.83it/s, 0 cls=0.18252, 1 cls=0.26445, 2 cls=0.36667, bce=0.08065, dice=0.84187, loss=0.22551]\n"
     ]
    },
    {
     "name": "stdout",
     "output_type": "stream",
     "text": [
      "loss: 0.15473 | bce: 0.03851 | dice: 0.86507 | 0 cls: 0.11975 | 1 cls: 0.17166 | 2 cls: 0.30286\n"
     ]
    },
    {
     "name": "stderr",
     "output_type": "stream",
     "text": [
      "Epoch 49, lr 0.0005: 100% 43/43 [00:15<00:00,  2.83it/s, 0 cls=0.18181, 1 cls=0.26156, 2 cls=0.36939, bce=0.07995, dice=0.84110, loss=0.22450]\n"
     ]
    },
    {
     "name": "stdout",
     "output_type": "stream",
     "text": [
      "loss: 0.15174 | bce: 0.04263 | dice: 0.87100 | 0 cls: 0.11430 | 1 cls: 0.17288 | 2 cls: 0.29623\n"
     ]
    },
    {
     "name": "stderr",
     "output_type": "stream",
     "text": [
      "Epoch 50, lr 0.0005: 100% 43/43 [00:15<00:00,  2.77it/s, 0 cls=0.19579, 1 cls=0.27265, 2 cls=0.38180, bce=0.08423, dice=0.83463, loss=0.23745]\n"
     ]
    },
    {
     "name": "stdout",
     "output_type": "stream",
     "text": [
      "loss: 0.15582 | bce: 0.04020 | dice: 0.86547 | 0 cls: 0.11901 | 1 cls: 0.17667 | 2 cls: 0.30154\n"
     ]
    },
    {
     "name": "stderr",
     "output_type": "stream",
     "text": [
      "Epoch 51, lr 0.0005: 100% 43/43 [00:15<00:00,  2.83it/s, 0 cls=0.17951, 1 cls=0.26188, 2 cls=0.36462, bce=0.07975, dice=0.84308, loss=0.22273]\n"
     ]
    },
    {
     "name": "stdout",
     "output_type": "stream",
     "text": [
      "loss: 0.15724 | bce: 0.03857 | dice: 0.86267 | 0 cls: 0.12169 | 1 cls: 0.17396 | 2 cls: 0.30582\n"
     ]
    },
    {
     "name": "stderr",
     "output_type": "stream",
     "text": [
      "Epoch 52, lr 0.0005: 100% 43/43 [00:15<00:00,  2.82it/s, 0 cls=0.18470, 1 cls=0.26732, 2 cls=0.36931, bce=0.08097, dice=0.83996, loss=0.22795]\n"
     ]
    },
    {
     "name": "stdout",
     "output_type": "stream",
     "text": [
      "loss: 0.15767 | bce: 0.04150 | dice: 0.86524 | 0 cls: 0.12208 | 1 cls: 0.17514 | 2 cls: 0.30109\n"
     ]
    },
    {
     "name": "stderr",
     "output_type": "stream",
     "text": [
      "Epoch 53, lr 0.0005: 100% 43/43 [00:15<00:00,  2.83it/s, 0 cls=0.17951, 1 cls=0.26250, 2 cls=0.36613, bce=0.08054, dice=0.84322, loss=0.22307]\n"
     ]
    },
    {
     "name": "stdout",
     "output_type": "stream",
     "text": [
      "loss: 0.15924 | bce: 0.04005 | dice: 0.86160 | 0 cls: 0.12255 | 1 cls: 0.17813 | 2 cls: 0.31122\n"
     ]
    },
    {
     "name": "stderr",
     "output_type": "stream",
     "text": [
      "Epoch 54, lr 0.0005: 100% 43/43 [00:15<00:00,  2.83it/s, 0 cls=0.18189, 1 cls=0.26021, 2 cls=0.36512, bce=0.08011, dice=0.84275, loss=0.22371]\n"
     ]
    },
    {
     "name": "stdout",
     "output_type": "stream",
     "text": [
      "loss: 0.15144 | bce: 0.03994 | dice: 0.86924 | 0 cls: 0.11535 | 1 cls: 0.17153 | 2 cls: 0.29529\n"
     ]
    },
    {
     "name": "stderr",
     "output_type": "stream",
     "text": [
      "Epoch 55, lr 0.0005: 100% 43/43 [00:15<00:00,  2.82it/s, 0 cls=0.18014, 1 cls=0.26029, 2 cls=0.36204, bce=0.08066, dice=0.84479, loss=0.22238]\n"
     ]
    },
    {
     "name": "stdout",
     "output_type": "stream",
     "text": [
      "loss: 0.15510 | bce: 0.04323 | dice: 0.86710 | 0 cls: 0.11613 | 1 cls: 0.17921 | 2 cls: 0.30421\n"
     ]
    },
    {
     "name": "stderr",
     "output_type": "stream",
     "text": [
      "Epoch 56, lr 0.0005: 100% 43/43 [00:15<00:00,  2.83it/s, 0 cls=0.18040, 1 cls=0.26121, 2 cls=0.36463, bce=0.07990, dice=0.84293, loss=0.22306]\n"
     ]
    },
    {
     "name": "stdout",
     "output_type": "stream",
     "text": [
      "loss: 0.14898 | bce: 0.04005 | dice: 0.87193 | 0 cls: 0.11313 | 1 cls: 0.16906 | 2 cls: 0.29078\n"
     ]
    },
    {
     "name": "stderr",
     "output_type": "stream",
     "text": [
      "Epoch 57, lr 0.0005: 100% 43/43 [00:15<00:00,  2.83it/s, 0 cls=0.18268, 1 cls=0.26251, 2 cls=0.36565, bce=0.07995, dice=0.84181, loss=0.22492]\n"
     ]
    },
    {
     "name": "stdout",
     "output_type": "stream",
     "text": [
      "loss: 0.15100 | bce: 0.03966 | dice: 0.86997 | 0 cls: 0.11472 | 1 cls: 0.17206 | 2 cls: 0.29384\n"
     ]
    },
    {
     "name": "stderr",
     "output_type": "stream",
     "text": [
      "Epoch 58, lr 0.0005: 100% 43/43 [00:15<00:00,  2.81it/s, 0 cls=0.17544, 1 cls=0.25802, 2 cls=0.35760, bce=0.07773, dice=0.84556, loss=0.21843]\n"
     ]
    },
    {
     "name": "stdout",
     "output_type": "stream",
     "text": [
      "loss: 0.15079 | bce: 0.03839 | dice: 0.86847 | 0 cls: 0.11533 | 1 cls: 0.17004 | 2 cls: 0.29415\n"
     ]
    },
    {
     "name": "stderr",
     "output_type": "stream",
     "text": [
      "Epoch 59, lr 0.0005: 100% 43/43 [00:15<00:00,  2.83it/s, 0 cls=0.17550, 1 cls=0.25500, 2 cls=0.35654, bce=0.07872, dice=0.84722, loss=0.21745]\n"
     ]
    },
    {
     "name": "stdout",
     "output_type": "stream",
     "text": [
      "loss: 0.15326 | bce: 0.04102 | dice: 0.86879 | 0 cls: 0.11766 | 1 cls: 0.17135 | 2 cls: 0.29656\n"
     ]
    },
    {
     "name": "stderr",
     "output_type": "stream",
     "text": [
      "Epoch 60, lr 0.0005: 100% 43/43 [00:15<00:00,  2.82it/s, 0 cls=0.17271, 1 cls=0.25081, 2 cls=0.35284, bce=0.07740, dice=0.84870, loss=0.21415]\n"
     ]
    },
    {
     "name": "stdout",
     "output_type": "stream",
     "text": [
      "loss: 0.15084 | bce: 0.04230 | dice: 0.87176 | 0 cls: 0.11389 | 1 cls: 0.17266 | 2 cls: 0.29390\n"
     ]
    },
    {
     "name": "stderr",
     "output_type": "stream",
     "text": [
      "Epoch 61, lr 0.0005: 100% 43/43 [00:15<00:00,  2.73it/s, 0 cls=0.17827, 1 cls=0.25801, 2 cls=0.36072, bce=0.07852, dice=0.84419, loss=0.22044]\n"
     ]
    },
    {
     "name": "stdout",
     "output_type": "stream",
     "text": [
      "loss: 0.15184 | bce: 0.04512 | dice: 0.87277 | 0 cls: 0.11697 | 1 cls: 0.16796 | 2 cls: 0.29539\n"
     ]
    },
    {
     "name": "stderr",
     "output_type": "stream",
     "text": [
      "Epoch 62, lr 0.0005: 100% 43/43 [00:15<00:00,  2.83it/s, 0 cls=0.18107, 1 cls=0.26190, 2 cls=0.36215, bce=0.08096, dice=0.84410, loss=0.22343]\n"
     ]
    },
    {
     "name": "stdout",
     "output_type": "stream",
     "text": [
      "loss: 0.15124 | bce: 0.04184 | dice: 0.87159 | 0 cls: 0.11341 | 1 cls: 0.17372 | 2 cls: 0.29279\n"
     ]
    },
    {
     "name": "stderr",
     "output_type": "stream",
     "text": [
      "Epoch 63, lr 0.0005: 100% 43/43 [00:15<00:00,  2.83it/s, 0 cls=0.17502, 1 cls=0.25683, 2 cls=0.35831, bce=0.07745, dice=0.84534, loss=0.21789]\n"
     ]
    },
    {
     "name": "stdout",
     "output_type": "stream",
     "text": [
      "loss: 0.15627 | bce: 0.04448 | dice: 0.86721 | 0 cls: 0.12152 | 1 cls: 0.17081 | 2 cls: 0.30583\n"
     ]
    },
    {
     "name": "stderr",
     "output_type": "stream",
     "text": [
      "Epoch 64, lr 0.0005: 100% 43/43 [00:15<00:00,  2.83it/s, 0 cls=0.17601, 1 cls=0.25736, 2 cls=0.35935, bce=0.07943, dice=0.84635, loss=0.21875]\n"
     ]
    },
    {
     "name": "stdout",
     "output_type": "stream",
     "text": [
      "loss: 0.15553 | bce: 0.03947 | dice: 0.86441 | 0 cls: 0.11862 | 1 cls: 0.17516 | 2 cls: 0.30368\n"
     ]
    },
    {
     "name": "stderr",
     "output_type": "stream",
     "text": [
      "Epoch 65, lr 0.0005: 100% 43/43 [00:15<00:00,  2.82it/s, 0 cls=0.18179, 1 cls=0.25894, 2 cls=0.36366, bce=0.08065, dice=0.84389, loss=0.22312]\n"
     ]
    },
    {
     "name": "stdout",
     "output_type": "stream",
     "text": [
      "loss: 0.15072 | bce: 0.04012 | dice: 0.87080 | 0 cls: 0.11550 | 1 cls: 0.16799 | 2 cls: 0.29117\n"
     ]
    },
    {
     "name": "stderr",
     "output_type": "stream",
     "text": [
      "Epoch 66, lr 0.0005: 100% 43/43 [00:15<00:00,  2.83it/s, 0 cls=0.18387, 1 cls=0.26424, 2 cls=0.36895, bce=0.08184, dice=0.84173, loss=0.22649]\n"
     ]
    },
    {
     "name": "stdout",
     "output_type": "stream",
     "text": [
      "loss: 0.15516 | bce: 0.04052 | dice: 0.86523 | 0 cls: 0.11835 | 1 cls: 0.17281 | 2 cls: 0.30341\n"
     ]
    },
    {
     "name": "stderr",
     "output_type": "stream",
     "text": [
      "Epoch 67, lr 0.0005: 100% 43/43 [00:15<00:00,  2.83it/s, 0 cls=0.17720, 1 cls=0.25437, 2 cls=0.35901, bce=0.07834, dice=0.84564, loss=0.21853]\n"
     ]
    },
    {
     "name": "stdout",
     "output_type": "stream",
     "text": [
      "loss: 0.15368 | bce: 0.04007 | dice: 0.86720 | 0 cls: 0.11896 | 1 cls: 0.17010 | 2 cls: 0.30046\n"
     ]
    },
    {
     "name": "stderr",
     "output_type": "stream",
     "text": [
      "Epoch 68, lr 0.0005: 100% 43/43 [00:15<00:00,  2.83it/s, 0 cls=0.17580, 1 cls=0.25922, 2 cls=0.35905, bce=0.07827, dice=0.84506, loss=0.21915]\n"
     ]
    },
    {
     "name": "stdout",
     "output_type": "stream",
     "text": [
      "loss: 0.15056 | bce: 0.03938 | dice: 0.87021 | 0 cls: 0.11413 | 1 cls: 0.16973 | 2 cls: 0.29253\n"
     ]
    },
    {
     "name": "stderr",
     "output_type": "stream",
     "text": [
      "Epoch 69, lr 0.0005: 100% 43/43 [00:15<00:00,  2.82it/s, 0 cls=0.17671, 1 cls=0.25702, 2 cls=0.35816, bce=0.07841, dice=0.84555, loss=0.21894]\n"
     ]
    },
    {
     "name": "stdout",
     "output_type": "stream",
     "text": [
      "loss: 0.16144 | bce: 0.03917 | dice: 0.86062 | 0 cls: 0.12589 | 1 cls: 0.17682 | 2 cls: 0.30731\n"
     ]
    },
    {
     "name": "stderr",
     "output_type": "stream",
     "text": [
      "Epoch 70, lr 0.0005: 100% 43/43 [00:15<00:00,  2.83it/s, 0 cls=0.17906, 1 cls=0.25722, 2 cls=0.35920, bce=0.07868, dice=0.84459, loss=0.22052]\n"
     ]
    },
    {
     "name": "stdout",
     "output_type": "stream",
     "text": [
      "loss: 0.15137 | bce: 0.04063 | dice: 0.86988 | 0 cls: 0.11500 | 1 cls: 0.17173 | 2 cls: 0.29492\n"
     ]
    },
    {
     "name": "stderr",
     "output_type": "stream",
     "text": [
      "Epoch 71, lr 0.0005: 100% 43/43 [00:15<00:00,  2.82it/s, 0 cls=0.17915, 1 cls=0.25914, 2 cls=0.36035, bce=0.07930, dice=0.84442, loss=0.22127]\n"
     ]
    },
    {
     "name": "stdout",
     "output_type": "stream",
     "text": [
      "loss: 0.15041 | bce: 0.03967 | dice: 0.87066 | 0 cls: 0.11518 | 1 cls: 0.16879 | 2 cls: 0.29332\n"
     ]
    },
    {
     "name": "stderr",
     "output_type": "stream",
     "text": [
      "Epoch 72, lr 0.0005: 100% 43/43 [00:15<00:00,  2.83it/s, 0 cls=0.17319, 1 cls=0.25375, 2 cls=0.35283, bce=0.07733, dice=0.84800, loss=0.21532]\n"
     ]
    },
    {
     "name": "stdout",
     "output_type": "stream",
     "text": [
      "loss: 0.15098 | bce: 0.04219 | dice: 0.87172 | 0 cls: 0.11511 | 1 cls: 0.17024 | 2 cls: 0.29373\n"
     ]
    },
    {
     "name": "stderr",
     "output_type": "stream",
     "text": [
      "Epoch 73, lr 0.0005: 100% 43/43 [00:15<00:00,  2.84it/s, 0 cls=0.17273, 1 cls=0.25187, 2 cls=0.35257, bce=0.07713, dice=0.84829, loss=0.21445]\n"
     ]
    },
    {
     "name": "stdout",
     "output_type": "stream",
     "text": [
      "loss: 0.15404 | bce: 0.03943 | dice: 0.86703 | 0 cls: 0.11628 | 1 cls: 0.17597 | 2 cls: 0.29888\n"
     ]
    },
    {
     "name": "stderr",
     "output_type": "stream",
     "text": [
      "Epoch 74, lr 0.0005: 100% 43/43 [00:16<00:00,  2.69it/s, 0 cls=0.17668, 1 cls=0.25683, 2 cls=0.35672, bce=0.07825, dice=0.84601, loss=0.21873]\n"
     ]
    },
    {
     "name": "stdout",
     "output_type": "stream",
     "text": [
      "loss: 0.15042 | bce: 0.03917 | dice: 0.87023 | 0 cls: 0.11506 | 1 cls: 0.16946 | 2 cls: 0.29061\n"
     ]
    },
    {
     "name": "stderr",
     "output_type": "stream",
     "text": [
      "Epoch 75, lr 0.0005: 100% 43/43 [00:15<00:00,  2.82it/s, 0 cls=0.17478, 1 cls=0.25382, 2 cls=0.35623, bce=0.07742, dice=0.84629, loss=0.21664]\n"
     ]
    },
    {
     "name": "stdout",
     "output_type": "stream",
     "text": [
      "loss: 0.15264 | bce: 0.03917 | dice: 0.86768 | 0 cls: 0.11771 | 1 cls: 0.16908 | 2 cls: 0.29726\n"
     ]
    },
    {
     "name": "stderr",
     "output_type": "stream",
     "text": [
      "Epoch 76, lr 0.0005: 100% 43/43 [00:15<00:00,  2.83it/s, 0 cls=0.17248, 1 cls=0.25206, 2 cls=0.35231, bce=0.07659, dice=0.84793, loss=0.21434]\n"
     ]
    },
    {
     "name": "stdout",
     "output_type": "stream",
     "text": [
      "loss: 0.14955 | bce: 0.04080 | dice: 0.87151 | 0 cls: 0.11278 | 1 cls: 0.16976 | 2 cls: 0.29278\n"
     ]
    },
    {
     "name": "stderr",
     "output_type": "stream",
     "text": [
      "Epoch 77, lr 0.0005: 100% 43/43 [00:15<00:00,  2.82it/s, 0 cls=0.16963, 1 cls=0.24765, 2 cls=0.34690, bce=0.07574, dice=0.85061, loss=0.21077]\n"
     ]
    },
    {
     "name": "stdout",
     "output_type": "stream",
     "text": [
      "loss: 0.15157 | bce: 0.04306 | dice: 0.87089 | 0 cls: 0.11516 | 1 cls: 0.17272 | 2 cls: 0.29747\n"
     ]
    },
    {
     "name": "stderr",
     "output_type": "stream",
     "text": [
      "Epoch 78, lr 0.0005: 100% 43/43 [00:15<00:00,  2.83it/s, 0 cls=0.17394, 1 cls=0.25237, 2 cls=0.35429, bce=0.07831, dice=0.84851, loss=0.21551]\n"
     ]
    },
    {
     "name": "stdout",
     "output_type": "stream",
     "text": [
      "loss: 0.15245 | bce: 0.03578 | dice: 0.86539 | 0 cls: 0.11801 | 1 cls: 0.16842 | 2 cls: 0.29579\n"
     ]
    },
    {
     "name": "stderr",
     "output_type": "stream",
     "text": [
      "Epoch 79, lr 0.0005: 100% 43/43 [00:15<00:00,  2.83it/s, 0 cls=0.16622, 1 cls=0.24884, 2 cls=0.34531, bce=0.07404, dice=0.85060, loss=0.20891]\n"
     ]
    },
    {
     "name": "stdout",
     "output_type": "stream",
     "text": [
      "loss: 0.15221 | bce: 0.03863 | dice: 0.86749 | 0 cls: 0.11651 | 1 cls: 0.17111 | 2 cls: 0.29658\n"
     ]
    },
    {
     "name": "stderr",
     "output_type": "stream",
     "text": [
      "Epoch 80, lr 0.0005: 100% 43/43 [00:15<00:00,  2.82it/s, 0 cls=0.17485, 1 cls=0.25208, 2 cls=0.35351, bce=0.07772, dice=0.84769, loss=0.21589]\n"
     ]
    },
    {
     "name": "stdout",
     "output_type": "stream",
     "text": [
      "loss: 0.15135 | bce: 0.03898 | dice: 0.86914 | 0 cls: 0.11603 | 1 cls: 0.16881 | 2 cls: 0.29425\n"
     ]
    },
    {
     "name": "stderr",
     "output_type": "stream",
     "text": [
      "Epoch 81, lr 0.0005: 100% 43/43 [00:15<00:00,  2.83it/s, 0 cls=0.16862, 1 cls=0.24825, 2 cls=0.34812, bce=0.07546, dice=0.85017, loss=0.21046]\n"
     ]
    },
    {
     "name": "stdout",
     "output_type": "stream",
     "text": [
      "loss: 0.15268 | bce: 0.04044 | dice: 0.86761 | 0 cls: 0.11698 | 1 cls: 0.17141 | 2 cls: 0.29873\n"
     ]
    },
    {
     "name": "stderr",
     "output_type": "stream",
     "text": [
      "Epoch 82, lr 0.0005: 100% 43/43 [00:15<00:00,  2.81it/s, 0 cls=0.16871, 1 cls=0.24880, 2 cls=0.34690, bce=0.07544, dice=0.85037, loss=0.21056]\n"
     ]
    },
    {
     "name": "stdout",
     "output_type": "stream",
     "text": [
      "loss: 0.14986 | bce: 0.04048 | dice: 0.87137 | 0 cls: 0.11402 | 1 cls: 0.16848 | 2 cls: 0.29225\n"
     ]
    },
    {
     "name": "stderr",
     "output_type": "stream",
     "text": [
      "Epoch 83, lr 0.0005: 100% 43/43 [00:15<00:00,  2.83it/s, 0 cls=0.17137, 1 cls=0.24997, 2 cls=0.34954, bce=0.07618, dice=0.84913, loss=0.21277]\n"
     ]
    },
    {
     "name": "stdout",
     "output_type": "stream",
     "text": [
      "loss: 0.15439 | bce: 0.03966 | dice: 0.86624 | 0 cls: 0.12101 | 1 cls: 0.16692 | 2 cls: 0.29866\n"
     ]
    },
    {
     "name": "stderr",
     "output_type": "stream",
     "text": [
      "Epoch 84, lr 0.0005: 100% 43/43 [00:15<00:00,  2.83it/s, 0 cls=0.17402, 1 cls=0.25285, 2 cls=0.35329, bce=0.07710, dice=0.84753, loss=0.21560]\n"
     ]
    },
    {
     "name": "stdout",
     "output_type": "stream",
     "text": [
      "loss: 0.15342 | bce: 0.04472 | dice: 0.87137 | 0 cls: 0.11669 | 1 cls: 0.17387 | 2 cls: 0.30017\n"
     ]
    },
    {
     "name": "stderr",
     "output_type": "stream",
     "text": [
      "Epoch 85, lr 0.0005: 100% 43/43 [00:15<00:00,  2.70it/s, 0 cls=0.17890, 1 cls=0.25548, 2 cls=0.35814, bce=0.07876, dice=0.84540, loss=0.21980]\n"
     ]
    },
    {
     "name": "stdout",
     "output_type": "stream",
     "text": [
      "loss: 0.15683 | bce: 0.03902 | dice: 0.86311 | 0 cls: 0.12041 | 1 cls: 0.17491 | 2 cls: 0.30573\n"
     ]
    },
    {
     "name": "stderr",
     "output_type": "stream",
     "text": [
      "Epoch 86, lr 0.0005: 100% 43/43 [00:15<00:00,  2.82it/s, 0 cls=0.17601, 1 cls=0.25577, 2 cls=0.35732, bce=0.07838, dice=0.84628, loss=0.21807]\n"
     ]
    },
    {
     "name": "stdout",
     "output_type": "stream",
     "text": [
      "loss: 0.15025 | bce: 0.03932 | dice: 0.87008 | 0 cls: 0.11498 | 1 cls: 0.16857 | 2 cls: 0.29270\n"
     ]
    },
    {
     "name": "stderr",
     "output_type": "stream",
     "text": [
      "Epoch 87, lr 0.0005: 100% 43/43 [00:15<00:00,  2.82it/s, 0 cls=0.17993, 1 cls=0.25751, 2 cls=0.36031, bce=0.07905, dice=0.84452, loss=0.22124]\n"
     ]
    },
    {
     "name": "stdout",
     "output_type": "stream",
     "text": [
      "loss: 0.15452 | bce: 0.03992 | dice: 0.86614 | 0 cls: 0.11811 | 1 cls: 0.17456 | 2 cls: 0.30110\n"
     ]
    },
    {
     "name": "stderr",
     "output_type": "stream",
     "text": [
      "Epoch 88, lr 0.0005: 100% 43/43 [00:15<00:00,  2.83it/s, 0 cls=0.17471, 1 cls=0.25795, 2 cls=0.35516, bce=0.07766, dice=0.84641, loss=0.21773]\n"
     ]
    },
    {
     "name": "stdout",
     "output_type": "stream",
     "text": [
      "loss: 0.15235 | bce: 0.04040 | dice: 0.86787 | 0 cls: 0.11836 | 1 cls: 0.16579 | 2 cls: 0.29783\n"
     ]
    },
    {
     "name": "stderr",
     "output_type": "stream",
     "text": [
      "Epoch 89, lr 0.0005: 100% 43/43 [00:15<00:00,  2.83it/s, 0 cls=0.17725, 1 cls=0.25021, 2 cls=0.35371, bce=0.07737, dice=0.84684, loss=0.21678]\n"
     ]
    },
    {
     "name": "stdout",
     "output_type": "stream",
     "text": [
      "loss: 0.16053 | bce: 0.03982 | dice: 0.86194 | 0 cls: 0.12552 | 1 cls: 0.17923 | 2 cls: 0.30164\n"
     ]
    },
    {
     "name": "stderr",
     "output_type": "stream",
     "text": [
      "Epoch 90, lr 0.001: 100% 43/43 [00:15<00:00,  2.82it/s, 0 cls=0.18525, 1 cls=0.26962, 2 cls=0.36935, bce=0.08330, dice=0.84129, loss=0.22897]\n"
     ]
    },
    {
     "name": "stdout",
     "output_type": "stream",
     "text": [
      "loss: 0.15394 | bce: 0.04064 | dice: 0.86824 | 0 cls: 0.11804 | 1 cls: 0.17034 | 2 cls: 0.29984\n"
     ]
    },
    {
     "name": "stderr",
     "output_type": "stream",
     "text": [
      "Epoch 91, lr 0.001: 100% 43/43 [00:15<00:00,  2.83it/s, 0 cls=0.19810, 1 cls=0.28081, 2 cls=0.37861, bce=0.08663, dice=0.83512, loss=0.24096]\n"
     ]
    },
    {
     "name": "stdout",
     "output_type": "stream",
     "text": [
      "loss: 0.15888 | bce: 0.04500 | dice: 0.86562 | 0 cls: 0.11871 | 1 cls: 0.18268 | 2 cls: 0.30807\n"
     ]
    },
    {
     "name": "stderr",
     "output_type": "stream",
     "text": [
      "Epoch 92, lr 0.0003: 100% 43/43 [00:15<00:00,  2.84it/s, 0 cls=0.18005, 1 cls=0.26002, 2 cls=0.36246, bce=0.07933, dice=0.84329, loss=0.22229]\n"
     ]
    },
    {
     "name": "stdout",
     "output_type": "stream",
     "text": [
      "loss: 0.14962 | bce: 0.03998 | dice: 0.87107 | 0 cls: 0.11522 | 1 cls: 0.16700 | 2 cls: 0.29195\n"
     ]
    },
    {
     "name": "stderr",
     "output_type": "stream",
     "text": [
      "Epoch 93, lr 0.0003: 100% 43/43 [00:15<00:00,  2.83it/s, 0 cls=0.17475, 1 cls=0.25121, 2 cls=0.35232, bce=0.07743, dice=0.84791, loss=0.21545]\n"
     ]
    },
    {
     "name": "stdout",
     "output_type": "stream",
     "text": [
      "loss: 0.15127 | bce: 0.03738 | dice: 0.86720 | 0 cls: 0.11716 | 1 cls: 0.16828 | 2 cls: 0.29435\n"
     ]
    },
    {
     "name": "stderr",
     "output_type": "stream",
     "text": [
      "Epoch 94, lr 8.999999999999999e-05: 100% 43/43 [00:15<00:00,  2.82it/s, 0 cls=0.16786, 1 cls=0.24619, 2 cls=0.34502, bce=0.07425, dice=0.85061, loss=0.20907]\n"
     ]
    },
    {
     "name": "stdout",
     "output_type": "stream",
     "text": [
      "loss: 0.14976 | bce: 0.03905 | dice: 0.86997 | 0 cls: 0.11530 | 1 cls: 0.16740 | 2 cls: 0.29250\n"
     ]
    },
    {
     "name": "stderr",
     "output_type": "stream",
     "text": [
      "Epoch 95, lr 0.001: 100% 43/43 [00:15<00:00,  2.77it/s, 0 cls=0.18831, 1 cls=0.26631, 2 cls=0.36650, bce=0.08230, dice=0.84070, loss=0.22953]\n"
     ]
    },
    {
     "name": "stdout",
     "output_type": "stream",
     "text": [
      "loss: 0.15144 | bce: 0.04333 | dice: 0.87155 | 0 cls: 0.11655 | 1 cls: 0.16955 | 2 cls: 0.29820\n"
     ]
    },
    {
     "name": "stderr",
     "output_type": "stream",
     "text": [
      "Epoch 96, lr 0.001: 100% 43/43 [00:15<00:00,  2.83it/s, 0 cls=0.19052, 1 cls=0.27520, 2 cls=0.37601, bce=0.08463, dice=0.83760, loss=0.23447]\n"
     ]
    },
    {
     "name": "stdout",
     "output_type": "stream",
     "text": [
      "loss: 0.15625 | bce: 0.04018 | dice: 0.86541 | 0 cls: 0.12005 | 1 cls: 0.17102 | 2 cls: 0.30694\n"
     ]
    },
    {
     "name": "stderr",
     "output_type": "stream",
     "text": [
      "Epoch 97, lr 0.0003: 100% 43/43 [00:15<00:00,  2.84it/s, 0 cls=0.18299, 1 cls=0.26104, 2 cls=0.36152, bce=0.08079, dice=0.84353, loss=0.22426]\n"
     ]
    },
    {
     "name": "stdout",
     "output_type": "stream",
     "text": [
      "loss: 0.15506 | bce: 0.03925 | dice: 0.86478 | 0 cls: 0.11977 | 1 cls: 0.17169 | 2 cls: 0.30338\n"
     ]
    },
    {
     "name": "stderr",
     "output_type": "stream",
     "text": [
      "Epoch 98, lr 0.0003: 100% 43/43 [00:15<00:00,  2.83it/s, 0 cls=0.17016, 1 cls=0.25153, 2 cls=0.34957, bce=0.07545, dice=0.84862, loss=0.21251]\n"
     ]
    },
    {
     "name": "stdout",
     "output_type": "stream",
     "text": [
      "loss: 0.15006 | bce: 0.03998 | dice: 0.87049 | 0 cls: 0.11538 | 1 cls: 0.16745 | 2 cls: 0.29430\n"
     ]
    },
    {
     "name": "stderr",
     "output_type": "stream",
     "text": [
      "Epoch 99, lr 8.999999999999999e-05: 100% 43/43 [00:15<00:00,  2.82it/s, 0 cls=0.17044, 1 cls=0.24903, 2 cls=0.34764, bce=0.07630, dice=0.85022, loss=0.21173]\n"
     ]
    },
    {
     "name": "stdout",
     "output_type": "stream",
     "text": [
      "loss: 0.14945 | bce: 0.03813 | dice: 0.86971 | 0 cls: 0.11518 | 1 cls: 0.16574 | 2 cls: 0.29295\n"
     ]
    },
    {
     "name": "stderr",
     "output_type": "stream",
     "text": [
      "Epoch 100, lr 0.0003: 100% 43/43 [00:15<00:00,  2.82it/s, 0 cls=0.16616, 1 cls=0.24555, 2 cls=0.34272, bce=0.07401, dice=0.85188, loss=0.20763]\n"
     ]
    },
    {
     "name": "stdout",
     "output_type": "stream",
     "text": [
      "loss: 0.14974 | bce: 0.04025 | dice: 0.87163 | 0 cls: 0.11526 | 1 cls: 0.16633 | 2 cls: 0.29129\n"
     ]
    },
    {
     "name": "stderr",
     "output_type": "stream",
     "text": [
      "Epoch 101, lr 0.0003: 100% 43/43 [00:15<00:00,  2.84it/s, 0 cls=0.16815, 1 cls=0.24847, 2 cls=0.34438, bce=0.07596, dice=0.85187, loss=0.20987]\n"
     ]
    },
    {
     "name": "stdout",
     "output_type": "stream",
     "text": [
      "loss: 0.15020 | bce: 0.04119 | dice: 0.87141 | 0 cls: 0.11502 | 1 cls: 0.16845 | 2 cls: 0.29338\n"
     ]
    },
    {
     "name": "stderr",
     "output_type": "stream",
     "text": [
      "Epoch 102, lr 0.0003: 100% 43/43 [00:15<00:00,  2.82it/s, 0 cls=0.16554, 1 cls=0.24307, 2 cls=0.34205, bce=0.07525, dice=0.85365, loss=0.20645]\n"
     ]
    },
    {
     "name": "stdout",
     "output_type": "stream",
     "text": [
      "loss: 0.14937 | bce: 0.03943 | dice: 0.87076 | 0 cls: 0.11490 | 1 cls: 0.16635 | 2 cls: 0.29201\n"
     ]
    },
    {
     "name": "stderr",
     "output_type": "stream",
     "text": [
      "Epoch 103, lr 0.0003: 100% 43/43 [00:15<00:00,  2.83it/s, 0 cls=0.17465, 1 cls=0.25161, 2 cls=0.35312, bce=0.07727, dice=0.84759, loss=0.21558]\n"
     ]
    },
    {
     "name": "stdout",
     "output_type": "stream",
     "text": [
      "loss: 0.15374 | bce: 0.03939 | dice: 0.86628 | 0 cls: 0.11808 | 1 cls: 0.17249 | 2 cls: 0.29976\n"
     ]
    },
    {
     "name": "stderr",
     "output_type": "stream",
     "text": [
      "Epoch 104, lr 0.0003: 100% 43/43 [00:15<00:00,  2.82it/s, 0 cls=0.16545, 1 cls=0.24419, 2 cls=0.34286, bce=0.07432, dice=0.85273, loss=0.20681]\n"
     ]
    },
    {
     "name": "stdout",
     "output_type": "stream",
     "text": [
      "loss: 0.14803 | bce: 0.03906 | dice: 0.87210 | 0 cls: 0.11448 | 1 cls: 0.16381 | 2 cls: 0.28896\n"
     ]
    },
    {
     "name": "stderr",
     "output_type": "stream",
     "text": [
      "Epoch 105, lr 0.0003: 100% 43/43 [00:15<00:00,  2.84it/s, 0 cls=0.16871, 1 cls=0.24849, 2 cls=0.34700, bce=0.07527, dice=0.85030, loss=0.21047]\n"
     ]
    },
    {
     "name": "stdout",
     "output_type": "stream",
     "text": [
      "loss: 0.14782 | bce: 0.03936 | dice: 0.87223 | 0 cls: 0.11358 | 1 cls: 0.16447 | 2 cls: 0.28954\n"
     ]
    },
    {
     "name": "stderr",
     "output_type": "stream",
     "text": [
      "Epoch 106, lr 0.0003: 100% 43/43 [00:15<00:00,  2.82it/s, 0 cls=0.16290, 1 cls=0.24131, 2 cls=0.33697, bce=0.07367, dice=0.85497, loss=0.20383]\n"
     ]
    },
    {
     "name": "stdout",
     "output_type": "stream",
     "text": [
      "loss: 0.15151 | bce: 0.03964 | dice: 0.86953 | 0 cls: 0.11748 | 1 cls: 0.16689 | 2 cls: 0.29293\n"
     ]
    },
    {
     "name": "stderr",
     "output_type": "stream",
     "text": [
      "Epoch 107, lr 0.0003: 100% 43/43 [00:15<00:00,  2.84it/s, 0 cls=0.16898, 1 cls=0.24737, 2 cls=0.34617, bce=0.07543, dice=0.85076, loss=0.21022]\n"
     ]
    },
    {
     "name": "stdout",
     "output_type": "stream",
     "text": [
      "loss: 0.15130 | bce: 0.04289 | dice: 0.87223 | 0 cls: 0.11739 | 1 cls: 0.16580 | 2 cls: 0.29297\n"
     ]
    },
    {
     "name": "stderr",
     "output_type": "stream",
     "text": [
      "Epoch 108, lr 0.0003: 100% 43/43 [00:15<00:00,  2.83it/s, 0 cls=0.17138, 1 cls=0.24398, 2 cls=0.34601, bce=0.07549, dice=0.85044, loss=0.21062]\n"
     ]
    },
    {
     "name": "stdout",
     "output_type": "stream",
     "text": [
      "loss: 0.15075 | bce: 0.03905 | dice: 0.86918 | 0 cls: 0.11585 | 1 cls: 0.16861 | 2 cls: 0.29372\n"
     ]
    },
    {
     "name": "stderr",
     "output_type": "stream",
     "text": [
      "Epoch 109, lr 0.0003: 100% 43/43 [00:15<00:00,  2.83it/s, 0 cls=0.17036, 1 cls=0.24778, 2 cls=0.34700, bce=0.07636, dice=0.85074, loss=0.21125]\n"
     ]
    },
    {
     "name": "stdout",
     "output_type": "stream",
     "text": [
      "loss: 0.14913 | bce: 0.04155 | dice: 0.87340 | 0 cls: 0.11502 | 1 cls: 0.16437 | 2 cls: 0.28973\n"
     ]
    },
    {
     "name": "stderr",
     "output_type": "stream",
     "text": [
      "Epoch 110, lr 0.0003: 100% 43/43 [00:15<00:00,  2.82it/s, 0 cls=0.16766, 1 cls=0.24506, 2 cls=0.34193, bce=0.07441, dice=0.85219, loss=0.20831]\n"
     ]
    },
    {
     "name": "stdout",
     "output_type": "stream",
     "text": [
      "loss: 0.14835 | bce: 0.03917 | dice: 0.87178 | 0 cls: 0.11492 | 1 cls: 0.16389 | 2 cls: 0.29051\n"
     ]
    },
    {
     "name": "stderr",
     "output_type": "stream",
     "text": [
      "Epoch 111, lr 0.0003: 100% 43/43 [00:15<00:00,  2.83it/s, 0 cls=0.16336, 1 cls=0.24118, 2 cls=0.33753, bce=0.07381, dice=0.85499, loss=0.20412]\n"
     ]
    },
    {
     "name": "stdout",
     "output_type": "stream",
     "text": [
      "loss: 0.14920 | bce: 0.03917 | dice: 0.87053 | 0 cls: 0.11462 | 1 cls: 0.16623 | 2 cls: 0.29260\n"
     ]
    },
    {
     "name": "stderr",
     "output_type": "stream",
     "text": [
      "Epoch 112, lr 0.0003: 100% 43/43 [00:15<00:00,  2.82it/s, 0 cls=0.16347, 1 cls=0.24096, 2 cls=0.33846, bce=0.07370, dice=0.85457, loss=0.20422]\n"
     ]
    },
    {
     "name": "stdout",
     "output_type": "stream",
     "text": [
      "loss: 0.14999 | bce: 0.03964 | dice: 0.87049 | 0 cls: 0.11740 | 1 cls: 0.16318 | 2 cls: 0.29170\n"
     ]
    },
    {
     "name": "stderr",
     "output_type": "stream",
     "text": [
      "Epoch 113, lr 0.0003: 100% 43/43 [00:15<00:00,  2.82it/s, 0 cls=0.16824, 1 cls=0.24478, 2 cls=0.34435, bce=0.07412, dice=0.85086, loss=0.20881]\n"
     ]
    },
    {
     "name": "stdout",
     "output_type": "stream",
     "text": [
      "loss: 0.15268 | bce: 0.04203 | dice: 0.87006 | 0 cls: 0.11868 | 1 cls: 0.16725 | 2 cls: 0.29888\n"
     ]
    },
    {
     "name": "stderr",
     "output_type": "stream",
     "text": [
      "Epoch 114, lr 0.0003: 100% 43/43 [00:15<00:00,  2.82it/s, 0 cls=0.16555, 1 cls=0.24291, 2 cls=0.34071, bce=0.07456, dice=0.85351, loss=0.20627]\n"
     ]
    },
    {
     "name": "stdout",
     "output_type": "stream",
     "text": [
      "loss: 0.14993 | bce: 0.04179 | dice: 0.87234 | 0 cls: 0.11317 | 1 cls: 0.17089 | 2 cls: 0.29204\n"
     ]
    },
    {
     "name": "stderr",
     "output_type": "stream",
     "text": [
      "Epoch 115, lr 0.0003: 100% 43/43 [00:15<00:00,  2.83it/s, 0 cls=0.15978, 1 cls=0.23587, 2 cls=0.33142, bce=0.07178, dice=0.85703, loss=0.19977]\n"
     ]
    },
    {
     "name": "stdout",
     "output_type": "stream",
     "text": [
      "loss: 0.14823 | bce: 0.04099 | dice: 0.87385 | 0 cls: 0.11244 | 1 cls: 0.16757 | 2 cls: 0.28841\n"
     ]
    },
    {
     "name": "stderr",
     "output_type": "stream",
     "text": [
      "Epoch 116, lr 0.0003: 100% 43/43 [00:15<00:00,  2.71it/s, 0 cls=0.16763, 1 cls=0.24689, 2 cls=0.34347, bce=0.07464, dice=0.85164, loss=0.20899]\n"
     ]
    },
    {
     "name": "stdout",
     "output_type": "stream",
     "text": [
      "loss: 0.14911 | bce: 0.03952 | dice: 0.87223 | 0 cls: 0.11496 | 1 cls: 0.16616 | 2 cls: 0.28752\n"
     ]
    },
    {
     "name": "stderr",
     "output_type": "stream",
     "text": [
      "Epoch 117, lr 0.0003: 100% 43/43 [00:15<00:00,  2.83it/s, 0 cls=0.16633, 1 cls=0.24605, 2 cls=0.34318, bce=0.07562, dice=0.85274, loss=0.20793]\n"
     ]
    },
    {
     "name": "stdout",
     "output_type": "stream",
     "text": [
      "loss: 0.14897 | bce: 0.03985 | dice: 0.87111 | 0 cls: 0.11465 | 1 cls: 0.16619 | 2 cls: 0.29294\n"
     ]
    },
    {
     "name": "stderr",
     "output_type": "stream",
     "text": [
      "Epoch 118, lr 0.0003: 100% 43/43 [00:15<00:00,  2.83it/s, 0 cls=0.16331, 1 cls=0.24185, 2 cls=0.33772, bce=0.07353, dice=0.85462, loss=0.20431]\n"
     ]
    },
    {
     "name": "stdout",
     "output_type": "stream",
     "text": [
      "loss: 0.14958 | bce: 0.04083 | dice: 0.87147 | 0 cls: 0.11487 | 1 cls: 0.16723 | 2 cls: 0.29289\n"
     ]
    },
    {
     "name": "stderr",
     "output_type": "stream",
     "text": [
      "Epoch 119, lr 0.0003: 100% 43/43 [00:15<00:00,  2.82it/s, 0 cls=0.16289, 1 cls=0.24085, 2 cls=0.33781, bce=0.07370, dice=0.85497, loss=0.20377]\n"
     ]
    },
    {
     "name": "stdout",
     "output_type": "stream",
     "text": [
      "loss: 0.15286 | bce: 0.04070 | dice: 0.86826 | 0 cls: 0.11610 | 1 cls: 0.17490 | 2 cls: 0.29705\n"
     ]
    },
    {
     "name": "stderr",
     "output_type": "stream",
     "text": [
      "Epoch 120, lr 0.0003: 100% 43/43 [00:15<00:00,  2.84it/s, 0 cls=0.16886, 1 cls=0.24498, 2 cls=0.34558, bce=0.07473, dice=0.85066, loss=0.20937]\n"
     ]
    },
    {
     "name": "stdout",
     "output_type": "stream",
     "text": [
      "loss: 0.14921 | bce: 0.03999 | dice: 0.87123 | 0 cls: 0.11510 | 1 cls: 0.16593 | 2 cls: 0.29182\n"
     ]
    },
    {
     "name": "stderr",
     "output_type": "stream",
     "text": [
      "Epoch 121, lr 0.0003: 100% 43/43 [00:15<00:00,  2.81it/s, 0 cls=0.16696, 1 cls=0.24364, 2 cls=0.34169, bce=0.07473, dice=0.85279, loss=0.20744]\n"
     ]
    },
    {
     "name": "stdout",
     "output_type": "stream",
     "text": [
      "loss: 0.15051 | bce: 0.03769 | dice: 0.86834 | 0 cls: 0.11690 | 1 cls: 0.16556 | 2 cls: 0.29485\n"
     ]
    },
    {
     "name": "stderr",
     "output_type": "stream",
     "text": [
      "Epoch 122, lr 0.0003: 100% 43/43 [00:15<00:00,  2.83it/s, 0 cls=0.17277, 1 cls=0.24416, 2 cls=0.34748, bce=0.07841, dice=0.85203, loss=0.21166]\n"
     ]
    },
    {
     "name": "stdout",
     "output_type": "stream",
     "text": [
      "loss: 0.15326 | bce: 0.04060 | dice: 0.86780 | 0 cls: 0.11584 | 1 cls: 0.17507 | 2 cls: 0.29848\n"
     ]
    },
    {
     "name": "stderr",
     "output_type": "stream",
     "text": [
      "Epoch 123, lr 0.0003: 100% 43/43 [00:15<00:00,  2.83it/s, 0 cls=0.16621, 1 cls=0.24153, 2 cls=0.33933, bce=0.07434, dice=0.85387, loss=0.20612]\n"
     ]
    },
    {
     "name": "stdout",
     "output_type": "stream",
     "text": [
      "loss: 0.15033 | bce: 0.03805 | dice: 0.86872 | 0 cls: 0.11575 | 1 cls: 0.16725 | 2 cls: 0.29311\n"
     ]
    },
    {
     "name": "stderr",
     "output_type": "stream",
     "text": [
      "Epoch 124, lr 0.0003: 100% 43/43 [00:15<00:00,  2.83it/s, 0 cls=0.16388, 1 cls=0.24056, 2 cls=0.33704, bce=0.07321, dice=0.85437, loss=0.20420]\n"
     ]
    },
    {
     "name": "stdout",
     "output_type": "stream",
     "text": [
      "loss: 0.14849 | bce: 0.03964 | dice: 0.87174 | 0 cls: 0.11399 | 1 cls: 0.16552 | 2 cls: 0.29166\n"
     ]
    },
    {
     "name": "stderr",
     "output_type": "stream",
     "text": [
      "Epoch 125, lr 0.0003: 100% 43/43 [00:15<00:00,  2.82it/s, 0 cls=0.16145, 1 cls=0.23681, 2 cls=0.33420, bce=0.07369, dice=0.85721, loss=0.20134]\n"
     ]
    },
    {
     "name": "stdout",
     "output_type": "stream",
     "text": [
      "loss: 0.15009 | bce: 0.03963 | dice: 0.87032 | 0 cls: 0.11524 | 1 cls: 0.16810 | 2 cls: 0.29199\n"
     ]
    },
    {
     "name": "stderr",
     "output_type": "stream",
     "text": [
      "Epoch 126, lr 0.0003: 100% 43/43 [00:15<00:00,  2.72it/s, 0 cls=0.16331, 1 cls=0.23889, 2 cls=0.33741, bce=0.07331, dice=0.85490, loss=0.20340]\n"
     ]
    },
    {
     "name": "stdout",
     "output_type": "stream",
     "text": [
      "loss: 0.14951 | bce: 0.03964 | dice: 0.87071 | 0 cls: 0.11541 | 1 cls: 0.16570 | 2 cls: 0.29256\n"
     ]
    },
    {
     "name": "stderr",
     "output_type": "stream",
     "text": [
      "Epoch 127, lr 0.0003: 100% 43/43 [00:15<00:00,  2.83it/s, 0 cls=0.16070, 1 cls=0.23801, 2 cls=0.33367, bce=0.07239, dice=0.85622, loss=0.20119]\n"
     ]
    },
    {
     "name": "stdout",
     "output_type": "stream",
     "text": [
      "loss: 0.15129 | bce: 0.04107 | dice: 0.86997 | 0 cls: 0.11424 | 1 cls: 0.17294 | 2 cls: 0.29606\n"
     ]
    },
    {
     "name": "stderr",
     "output_type": "stream",
     "text": [
      "Epoch 128, lr 0.0003: 100% 43/43 [00:15<00:00,  2.83it/s, 0 cls=0.15956, 1 cls=0.23654, 2 cls=0.33351, bce=0.07241, dice=0.85702, loss=0.20005]\n"
     ]
    },
    {
     "name": "stdout",
     "output_type": "stream",
     "text": [
      "loss: 0.15105 | bce: 0.03978 | dice: 0.86898 | 0 cls: 0.11532 | 1 cls: 0.16998 | 2 cls: 0.29651\n"
     ]
    },
    {
     "name": "stderr",
     "output_type": "stream",
     "text": [
      "Epoch 129, lr 0.0003: 100% 43/43 [00:15<00:00,  2.83it/s, 0 cls=0.16345, 1 cls=0.24015, 2 cls=0.33599, bce=0.07319, dice=0.85496, loss=0.20371]\n"
     ]
    },
    {
     "name": "stdout",
     "output_type": "stream",
     "text": [
      "loss: 0.14976 | bce: 0.04068 | dice: 0.87160 | 0 cls: 0.11353 | 1 cls: 0.16993 | 2 cls: 0.29255\n"
     ]
    },
    {
     "name": "stderr",
     "output_type": "stream",
     "text": [
      "Epoch 130, lr 0.0003: 100% 43/43 [00:15<00:00,  2.82it/s, 0 cls=0.16205, 1 cls=0.23799, 2 cls=0.33515, bce=0.07291, dice=0.85581, loss=0.20214]\n"
     ]
    },
    {
     "name": "stdout",
     "output_type": "stream",
     "text": [
      "loss: 0.15221 | bce: 0.04098 | dice: 0.86931 | 0 cls: 0.11612 | 1 cls: 0.17167 | 2 cls: 0.29776\n"
     ]
    },
    {
     "name": "stderr",
     "output_type": "stream",
     "text": [
      "Epoch 131, lr 0.0003: 100% 43/43 [00:15<00:00,  2.84it/s, 0 cls=0.17144, 1 cls=0.24131, 2 cls=0.34587, bce=0.07451, dice=0.85025, loss=0.20984]\n"
     ]
    },
    {
     "name": "stdout",
     "output_type": "stream",
     "text": [
      "loss: 0.14998 | bce: 0.04130 | dice: 0.87112 | 0 cls: 0.11608 | 1 cls: 0.16480 | 2 cls: 0.29442\n"
     ]
    },
    {
     "name": "stderr",
     "output_type": "stream",
     "text": [
      "Epoch 132, lr 0.0003: 100% 43/43 [00:15<00:00,  2.81it/s, 0 cls=0.16020, 1 cls=0.23325, 2 cls=0.33314, bce=0.07206, dice=0.85710, loss=0.19941]\n"
     ]
    },
    {
     "name": "stdout",
     "output_type": "stream",
     "text": [
      "loss: 0.14693 | bce: 0.03928 | dice: 0.87339 | 0 cls: 0.11355 | 1 cls: 0.16238 | 2 cls: 0.28783\n"
     ]
    },
    {
     "name": "stderr",
     "output_type": "stream",
     "text": [
      "Epoch 133, lr 0.0003: 100% 43/43 [00:15<00:00,  2.84it/s, 0 cls=0.15856, 1 cls=0.23559, 2 cls=0.33348, bce=0.07185, dice=0.85711, loss=0.19916]\n"
     ]
    },
    {
     "name": "stdout",
     "output_type": "stream",
     "text": [
      "loss: 0.14844 | bce: 0.04068 | dice: 0.87259 | 0 cls: 0.11371 | 1 cls: 0.16561 | 2 cls: 0.29083\n"
     ]
    },
    {
     "name": "stderr",
     "output_type": "stream",
     "text": [
      "Epoch 134, lr 0.0003: 100% 43/43 [00:15<00:00,  2.83it/s, 0 cls=0.15825, 1 cls=0.23672, 2 cls=0.33265, bce=0.07227, dice=0.85760, loss=0.19923]\n"
     ]
    },
    {
     "name": "stdout",
     "output_type": "stream",
     "text": [
      "loss: 0.14951 | bce: 0.03984 | dice: 0.87115 | 0 cls: 0.11432 | 1 cls: 0.16744 | 2 cls: 0.29162\n"
     ]
    },
    {
     "name": "stderr",
     "output_type": "stream",
     "text": [
      "Epoch 135, lr 0.0003: 100% 43/43 [00:15<00:00,  2.82it/s, 0 cls=0.16959, 1 cls=0.24621, 2 cls=0.34250, bce=0.07511, dice=0.85147, loss=0.20987]\n"
     ]
    },
    {
     "name": "stdout",
     "output_type": "stream",
     "text": [
      "loss: 0.14805 | bce: 0.03960 | dice: 0.87192 | 0 cls: 0.11353 | 1 cls: 0.16542 | 2 cls: 0.29081\n"
     ]
    },
    {
     "name": "stderr",
     "output_type": "stream",
     "text": [
      "Epoch 136, lr 0.0003: 100% 43/43 [00:15<00:00,  2.83it/s, 0 cls=0.16278, 1 cls=0.23913, 2 cls=0.33636, bce=0.07296, dice=0.85507, loss=0.20305]\n"
     ]
    },
    {
     "name": "stdout",
     "output_type": "stream",
     "text": [
      "loss: 0.14799 | bce: 0.03879 | dice: 0.87164 | 0 cls: 0.11403 | 1 cls: 0.16486 | 2 cls: 0.28850\n"
     ]
    },
    {
     "name": "stderr",
     "output_type": "stream",
     "text": [
      "Epoch 137, lr 0.0003: 100% 43/43 [00:15<00:00,  2.83it/s, 0 cls=0.16357, 1 cls=0.24226, 2 cls=0.33670, bce=0.07364, dice=0.85484, loss=0.20449]\n"
     ]
    },
    {
     "name": "stdout",
     "output_type": "stream",
     "text": [
      "loss: 0.14988 | bce: 0.03936 | dice: 0.87065 | 0 cls: 0.11588 | 1 cls: 0.16611 | 2 cls: 0.29015\n"
     ]
    },
    {
     "name": "stderr",
     "output_type": "stream",
     "text": [
      "Epoch 138, lr 0.0003: 100% 43/43 [00:15<00:00,  2.82it/s, 0 cls=0.16562, 1 cls=0.24245, 2 cls=0.34070, bce=0.07470, dice=0.85368, loss=0.20618]\n"
     ]
    },
    {
     "name": "stdout",
     "output_type": "stream",
     "text": [
      "loss: 0.14932 | bce: 0.03962 | dice: 0.87060 | 0 cls: 0.11473 | 1 cls: 0.16694 | 2 cls: 0.29190\n"
     ]
    },
    {
     "name": "stderr",
     "output_type": "stream",
     "text": [
      "Epoch 139, lr 0.0003: 100% 43/43 [00:15<00:00,  2.83it/s, 0 cls=0.16349, 1 cls=0.23917, 2 cls=0.33778, bce=0.07363, dice=0.85488, loss=0.20362]\n"
     ]
    },
    {
     "name": "stdout",
     "output_type": "stream",
     "text": [
      "loss: 0.14652 | bce: 0.04002 | dice: 0.87410 | 0 cls: 0.11256 | 1 cls: 0.16334 | 2 cls: 0.28722\n"
     ]
    },
    {
     "name": "stderr",
     "output_type": "stream",
     "text": [
      "Epoch 140, lr 0.0003: 100% 43/43 [00:15<00:00,  2.82it/s, 0 cls=0.16488, 1 cls=0.24410, 2 cls=0.34045, bce=0.07395, dice=0.85311, loss=0.20620]\n"
     ]
    },
    {
     "name": "stdout",
     "output_type": "stream",
     "text": [
      "loss: 0.14665 | bce: 0.03947 | dice: 0.87371 | 0 cls: 0.11274 | 1 cls: 0.16264 | 2 cls: 0.28722\n"
     ]
    },
    {
     "name": "stderr",
     "output_type": "stream",
     "text": [
      "Epoch 141, lr 0.0003: 100% 43/43 [00:15<00:00,  2.82it/s, 0 cls=0.16193, 1 cls=0.23643, 2 cls=0.33610, bce=0.07261, dice=0.85564, loss=0.20170]\n"
     ]
    },
    {
     "name": "stdout",
     "output_type": "stream",
     "text": [
      "loss: 0.14779 | bce: 0.04147 | dice: 0.87406 | 0 cls: 0.11231 | 1 cls: 0.16596 | 2 cls: 0.28903\n"
     ]
    },
    {
     "name": "stderr",
     "output_type": "stream",
     "text": [
      "Epoch 142, lr 0.0003: 100% 43/43 [00:15<00:00,  2.82it/s, 0 cls=0.16084, 1 cls=0.23679, 2 cls=0.33306, bce=0.07256, dice=0.85680, loss=0.20085]\n"
     ]
    },
    {
     "name": "stdout",
     "output_type": "stream",
     "text": [
      "loss: 0.14651 | bce: 0.04069 | dice: 0.87440 | 0 cls: 0.11272 | 1 cls: 0.16284 | 2 cls: 0.28750\n"
     ]
    },
    {
     "name": "stderr",
     "output_type": "stream",
     "text": [
      "Epoch 143, lr 0.0003: 100% 43/43 [00:15<00:00,  2.84it/s, 0 cls=0.15694, 1 cls=0.23283, 2 cls=0.32840, bce=0.07182, dice=0.85943, loss=0.19685]\n"
     ]
    },
    {
     "name": "stdout",
     "output_type": "stream",
     "text": [
      "loss: 0.14951 | bce: 0.03795 | dice: 0.86966 | 0 cls: 0.11490 | 1 cls: 0.16720 | 2 cls: 0.29172\n"
     ]
    },
    {
     "name": "stderr",
     "output_type": "stream",
     "text": [
      "Epoch 144, lr 0.0003: 100% 43/43 [00:15<00:00,  2.82it/s, 0 cls=0.16010, 1 cls=0.23605, 2 cls=0.33403, bce=0.07219, dice=0.85670, loss=0.20028]\n"
     ]
    },
    {
     "name": "stdout",
     "output_type": "stream",
     "text": [
      "loss: 0.14931 | bce: 0.03850 | dice: 0.86988 | 0 cls: 0.11582 | 1 cls: 0.16452 | 2 cls: 0.29163\n"
     ]
    },
    {
     "name": "stderr",
     "output_type": "stream",
     "text": [
      "Epoch 145, lr 0.0003: 100% 43/43 [00:15<00:00,  2.83it/s, 0 cls=0.16331, 1 cls=0.24071, 2 cls=0.33704, bce=0.07391, dice=0.85513, loss=0.20390]\n"
     ]
    },
    {
     "name": "stdout",
     "output_type": "stream",
     "text": [
      "loss: 0.14783 | bce: 0.03800 | dice: 0.87121 | 0 cls: 0.11484 | 1 cls: 0.16315 | 2 cls: 0.28932\n"
     ]
    },
    {
     "name": "stderr",
     "output_type": "stream",
     "text": [
      "Epoch 146, lr 0.0003: 100% 43/43 [00:15<00:00,  2.82it/s, 0 cls=0.15986, 1 cls=0.23587, 2 cls=0.33173, bce=0.07258, dice=0.85771, loss=0.19985]\n"
     ]
    },
    {
     "name": "stdout",
     "output_type": "stream",
     "text": [
      "loss: 0.14779 | bce: 0.03894 | dice: 0.87202 | 0 cls: 0.11450 | 1 cls: 0.16362 | 2 cls: 0.28800\n"
     ]
    },
    {
     "name": "stderr",
     "output_type": "stream",
     "text": [
      "Epoch 147, lr 0.0003: 100% 43/43 [00:15<00:00,  2.81it/s, 0 cls=0.15794, 1 cls=0.23347, 2 cls=0.33055, bce=0.07149, dice=0.85812, loss=0.19786]\n"
     ]
    },
    {
     "name": "stdout",
     "output_type": "stream",
     "text": [
      "loss: 0.14790 | bce: 0.03870 | dice: 0.87180 | 0 cls: 0.11376 | 1 cls: 0.16472 | 2 cls: 0.28912\n"
     ]
    },
    {
     "name": "stderr",
     "output_type": "stream",
     "text": [
      "Epoch 148, lr 0.0003: 100% 43/43 [00:15<00:00,  2.83it/s, 0 cls=0.16089, 1 cls=0.23677, 2 cls=0.33515, bce=0.07316, dice=0.85667, loss=0.20108]\n"
     ]
    },
    {
     "name": "stdout",
     "output_type": "stream",
     "text": [
      "loss: 0.15058 | bce: 0.03911 | dice: 0.87002 | 0 cls: 0.11492 | 1 cls: 0.16981 | 2 cls: 0.29281\n"
     ]
    },
    {
     "name": "stderr",
     "output_type": "stream",
     "text": [
      "Epoch 149, lr 0.0003: 100% 43/43 [00:15<00:00,  2.83it/s, 0 cls=0.15837, 1 cls=0.23384, 2 cls=0.33187, bce=0.07174, dice=0.85780, loss=0.19836]\n"
     ]
    },
    {
     "name": "stdout",
     "output_type": "stream",
     "text": [
      "loss: 0.14959 | bce: 0.03886 | dice: 0.87009 | 0 cls: 0.11482 | 1 cls: 0.16744 | 2 cls: 0.29298\n"
     ]
    },
    {
     "name": "stderr",
     "output_type": "stream",
     "text": [
      "Epoch 150, lr 0.0003: 100% 43/43 [00:15<00:00,  2.83it/s, 0 cls=0.16156, 1 cls=0.23445, 2 cls=0.33179, bce=0.07171, dice=0.85670, loss=0.20045]\n"
     ]
    },
    {
     "name": "stdout",
     "output_type": "stream",
     "text": [
      "loss: 0.14751 | bce: 0.03939 | dice: 0.87289 | 0 cls: 0.11385 | 1 cls: 0.16404 | 2 cls: 0.28833\n"
     ]
    },
    {
     "name": "stderr",
     "output_type": "stream",
     "text": [
      "Epoch 151, lr 0.0003: 100% 43/43 [00:15<00:00,  2.82it/s, 0 cls=0.16670, 1 cls=0.23974, 2 cls=0.33962, bce=0.07473, dice=0.85421, loss=0.20590]\n"
     ]
    },
    {
     "name": "stdout",
     "output_type": "stream",
     "text": [
      "loss: 0.15192 | bce: 0.03820 | dice: 0.86795 | 0 cls: 0.11744 | 1 cls: 0.16820 | 2 cls: 0.29579\n"
     ]
    },
    {
     "name": "stderr",
     "output_type": "stream",
     "text": [
      "Epoch 152, lr 0.0003: 100% 43/43 [00:15<00:00,  2.82it/s, 0 cls=0.16313, 1 cls=0.24025, 2 cls=0.33567, bce=0.07334, dice=0.85546, loss=0.20352]\n"
     ]
    },
    {
     "name": "stdout",
     "output_type": "stream",
     "text": [
      "loss: 0.15261 | bce: 0.04021 | dice: 0.86806 | 0 cls: 0.11714 | 1 cls: 0.17177 | 2 cls: 0.29769\n"
     ]
    },
    {
     "name": "stderr",
     "output_type": "stream",
     "text": [
      "Epoch 153, lr 0.0003: 100% 43/43 [00:15<00:00,  2.83it/s, 0 cls=0.16341, 1 cls=0.23755, 2 cls=0.33479, bce=0.07353, dice=0.85611, loss=0.20279]\n"
     ]
    },
    {
     "name": "stdout",
     "output_type": "stream",
     "text": [
      "loss: 0.15542 | bce: 0.03960 | dice: 0.86484 | 0 cls: 0.12153 | 1 cls: 0.16935 | 2 cls: 0.30596\n"
     ]
    },
    {
     "name": "stderr",
     "output_type": "stream",
     "text": [
      "Epoch 154, lr 0.0003: 100% 43/43 [00:16<00:00,  2.65it/s, 0 cls=0.15835, 1 cls=0.23448, 2 cls=0.33120, bce=0.07183, dice=0.85797, loss=0.19847]\n"
     ]
    },
    {
     "name": "stdout",
     "output_type": "stream",
     "text": [
      "loss: 0.14816 | bce: 0.03928 | dice: 0.87183 | 0 cls: 0.11446 | 1 cls: 0.16401 | 2 cls: 0.29129\n"
     ]
    },
    {
     "name": "stderr",
     "output_type": "stream",
     "text": [
      "Epoch 155, lr 0.0003: 100% 43/43 [00:16<00:00,  2.67it/s, 0 cls=0.15952, 1 cls=0.23556, 2 cls=0.33226, bce=0.07295, dice=0.85794, loss=0.19961]\n"
     ]
    },
    {
     "name": "stdout",
     "output_type": "stream",
     "text": [
      "loss: 0.14907 | bce: 0.04166 | dice: 0.87281 | 0 cls: 0.11333 | 1 cls: 0.16818 | 2 cls: 0.29214\n"
     ]
    },
    {
     "name": "stderr",
     "output_type": "stream",
     "text": [
      "Epoch 156, lr 0.0003: 100% 43/43 [00:15<00:00,  2.83it/s, 0 cls=0.15919, 1 cls=0.23645, 2 cls=0.33217, bce=0.07261, dice=0.85768, loss=0.19967]\n"
     ]
    },
    {
     "name": "stdout",
     "output_type": "stream",
     "text": [
      "loss: 0.15065 | bce: 0.03877 | dice: 0.86877 | 0 cls: 0.11607 | 1 cls: 0.16773 | 2 cls: 0.29505\n"
     ]
    },
    {
     "name": "stderr",
     "output_type": "stream",
     "text": [
      "Epoch 157, lr 0.0003: 100% 43/43 [00:15<00:00,  2.82it/s, 0 cls=0.16296, 1 cls=0.23915, 2 cls=0.33685, bce=0.07290, dice=0.85474, loss=0.20321]\n"
     ]
    },
    {
     "name": "stdout",
     "output_type": "stream",
     "text": [
      "loss: 0.15190 | bce: 0.04006 | dice: 0.86914 | 0 cls: 0.11862 | 1 cls: 0.16718 | 2 cls: 0.29334\n"
     ]
    },
    {
     "name": "stderr",
     "output_type": "stream",
     "text": [
      "Epoch 158, lr 0.0003: 100% 43/43 [00:15<00:00,  2.83it/s, 0 cls=0.16328, 1 cls=0.24219, 2 cls=0.33715, bce=0.07369, dice=0.85479, loss=0.20434]\n"
     ]
    },
    {
     "name": "stdout",
     "output_type": "stream",
     "text": [
      "loss: 0.14915 | bce: 0.04224 | dice: 0.87392 | 0 cls: 0.11481 | 1 cls: 0.16577 | 2 cls: 0.28921\n"
     ]
    },
    {
     "name": "stderr",
     "output_type": "stream",
     "text": [
      "Epoch 159, lr 0.0003: 100% 43/43 [00:15<00:00,  2.83it/s, 0 cls=0.16172, 1 cls=0.23980, 2 cls=0.33522, bce=0.07256, dice=0.85525, loss=0.20249]\n"
     ]
    },
    {
     "name": "stdout",
     "output_type": "stream",
     "text": [
      "loss: 0.14844 | bce: 0.03993 | dice: 0.87287 | 0 cls: 0.11386 | 1 cls: 0.16584 | 2 cls: 0.28761\n"
     ]
    },
    {
     "name": "stderr",
     "output_type": "stream",
     "text": [
      "Epoch 160, lr 0.0003: 100% 43/43 [00:15<00:00,  2.83it/s, 0 cls=0.15711, 1 cls=0.23253, 2 cls=0.32805, bce=0.07148, dice=0.85932, loss=0.19683]\n"
     ]
    },
    {
     "name": "stdout",
     "output_type": "stream",
     "text": [
      "loss: 0.15243 | bce: 0.04084 | dice: 0.86926 | 0 cls: 0.11629 | 1 cls: 0.17103 | 2 cls: 0.29697\n"
     ]
    },
    {
     "name": "stderr",
     "output_type": "stream",
     "text": [
      "Epoch 161, lr 0.0003: 100% 43/43 [00:15<00:00,  2.83it/s, 0 cls=0.15982, 1 cls=0.23479, 2 cls=0.32992, bce=0.07192, dice=0.85787, loss=0.19932]\n"
     ]
    },
    {
     "name": "stdout",
     "output_type": "stream",
     "text": [
      "loss: 0.14907 | bce: 0.04012 | dice: 0.87166 | 0 cls: 0.11371 | 1 cls: 0.16787 | 2 cls: 0.29138\n"
     ]
    },
    {
     "name": "stderr",
     "output_type": "stream",
     "text": [
      "Epoch 162, lr 0.0003: 100% 43/43 [00:15<00:00,  2.83it/s, 0 cls=0.15745, 1 cls=0.23388, 2 cls=0.32874, bce=0.07175, dice=0.85905, loss=0.19751]\n"
     ]
    },
    {
     "name": "stdout",
     "output_type": "stream",
     "text": [
      "loss: 0.15136 | bce: 0.03933 | dice: 0.86874 | 0 cls: 0.11554 | 1 cls: 0.17035 | 2 cls: 0.29563\n"
     ]
    },
    {
     "name": "stderr",
     "output_type": "stream",
     "text": [
      "Epoch 163, lr 0.0003: 100% 43/43 [00:15<00:00,  2.82it/s, 0 cls=0.16667, 1 cls=0.23887, 2 cls=0.33714, bce=0.07383, dice=0.85437, loss=0.20538]\n"
     ]
    },
    {
     "name": "stdout",
     "output_type": "stream",
     "text": [
      "loss: 0.14938 | bce: 0.03877 | dice: 0.87034 | 0 cls: 0.11519 | 1 cls: 0.16496 | 2 cls: 0.29360\n"
     ]
    },
    {
     "name": "stderr",
     "output_type": "stream",
     "text": [
      "Epoch 164, lr 0.0003: 100% 43/43 [00:15<00:00,  2.77it/s, 0 cls=0.16343, 1 cls=0.23902, 2 cls=0.33620, bce=0.07384, dice=0.85565, loss=0.20339]\n"
     ]
    },
    {
     "name": "stdout",
     "output_type": "stream",
     "text": [
      "loss: 0.15588 | bce: 0.03875 | dice: 0.86354 | 0 cls: 0.12177 | 1 cls: 0.17044 | 2 cls: 0.30470\n"
     ]
    },
    {
     "name": "stderr",
     "output_type": "stream",
     "text": [
      "Epoch 165, lr 0.0003: 100% 43/43 [00:15<00:00,  2.82it/s, 0 cls=0.16111, 1 cls=0.23553, 2 cls=0.33522, bce=0.07265, dice=0.85635, loss=0.20085]\n"
     ]
    },
    {
     "name": "stdout",
     "output_type": "stream",
     "text": [
      "loss: 0.14863 | bce: 0.03927 | dice: 0.87117 | 0 cls: 0.11512 | 1 cls: 0.16405 | 2 cls: 0.29105\n"
     ]
    },
    {
     "name": "stderr",
     "output_type": "stream",
     "text": [
      "Epoch 166, lr 0.0003: 100% 43/43 [00:15<00:00,  2.83it/s, 0 cls=0.15701, 1 cls=0.23258, 2 cls=0.32771, bce=0.07106, dice=0.85906, loss=0.19675]\n"
     ]
    },
    {
     "name": "stdout",
     "output_type": "stream",
     "text": [
      "loss: 0.15443 | bce: 0.03805 | dice: 0.86512 | 0 cls: 0.11893 | 1 cls: 0.17153 | 2 cls: 0.30010\n"
     ]
    },
    {
     "name": "stderr",
     "output_type": "stream",
     "text": [
      "Epoch 167, lr 0.0003: 100% 43/43 [00:15<00:00,  2.81it/s, 0 cls=0.16037, 1 cls=0.23832, 2 cls=0.33214, bce=0.07162, dice=0.85619, loss=0.20093]\n"
     ]
    },
    {
     "name": "stdout",
     "output_type": "stream",
     "text": [
      "loss: 0.14805 | bce: 0.04228 | dice: 0.87523 | 0 cls: 0.11313 | 1 cls: 0.16560 | 2 cls: 0.28705\n"
     ]
    },
    {
     "name": "stderr",
     "output_type": "stream",
     "text": [
      "Epoch 168, lr 0.0003: 100% 43/43 [00:15<00:00,  2.83it/s, 0 cls=0.16380, 1 cls=0.23992, 2 cls=0.33809, bce=0.07380, dice=0.85476, loss=0.20407]\n"
     ]
    },
    {
     "name": "stdout",
     "output_type": "stream",
     "text": [
      "loss: 0.14788 | bce: 0.04146 | dice: 0.87410 | 0 cls: 0.11305 | 1 cls: 0.16568 | 2 cls: 0.28831\n"
     ]
    },
    {
     "name": "stderr",
     "output_type": "stream",
     "text": [
      "Epoch 169, lr 0.0003: 100% 43/43 [00:15<00:00,  2.82it/s, 0 cls=0.15672, 1 cls=0.23468, 2 cls=0.32781, bce=0.07157, dice=0.85932, loss=0.19721]\n"
     ]
    },
    {
     "name": "stdout",
     "output_type": "stream",
     "text": [
      "loss: 0.14955 | bce: 0.03899 | dice: 0.87039 | 0 cls: 0.11531 | 1 cls: 0.16538 | 2 cls: 0.29459\n"
     ]
    },
    {
     "name": "stderr",
     "output_type": "stream",
     "text": [
      "Epoch 170, lr 0.0003: 100% 43/43 [00:15<00:00,  2.83it/s, 0 cls=0.15953, 1 cls=0.23533, 2 cls=0.32946, bce=0.07140, dice=0.85745, loss=0.19926]\n"
     ]
    },
    {
     "name": "stdout",
     "output_type": "stream",
     "text": [
      "loss: 0.14931 | bce: 0.03964 | dice: 0.87126 | 0 cls: 0.11535 | 1 cls: 0.16465 | 2 cls: 0.29195\n"
     ]
    },
    {
     "name": "stderr",
     "output_type": "stream",
     "text": [
      "Epoch 171, lr 0.0003: 100% 43/43 [00:15<00:00,  2.83it/s, 0 cls=0.15522, 1 cls=0.22974, 2 cls=0.32553, bce=0.07031, dice=0.86036, loss=0.19461]\n"
     ]
    },
    {
     "name": "stdout",
     "output_type": "stream",
     "text": [
      "loss: 0.15113 | bce: 0.04126 | dice: 0.87066 | 0 cls: 0.11753 | 1 cls: 0.16621 | 2 cls: 0.29314\n"
     ]
    },
    {
     "name": "stderr",
     "output_type": "stream",
     "text": [
      "Epoch 172, lr 0.0003: 100% 43/43 [00:15<00:00,  2.82it/s, 0 cls=0.16262, 1 cls=0.23883, 2 cls=0.33516, bce=0.07289, dice=0.85553, loss=0.20273]\n"
     ]
    },
    {
     "name": "stdout",
     "output_type": "stream",
     "text": [
      "loss: 0.15160 | bce: 0.03924 | dice: 0.86904 | 0 cls: 0.11736 | 1 cls: 0.16657 | 2 cls: 0.29554\n"
     ]
    },
    {
     "name": "stderr",
     "output_type": "stream",
     "text": [
      "Epoch 173, lr 0.0003: 100% 43/43 [00:15<00:00,  2.82it/s, 0 cls=0.16464, 1 cls=0.23668, 2 cls=0.33538, bce=0.07364, dice=0.85565, loss=0.20333]\n"
     ]
    },
    {
     "name": "stdout",
     "output_type": "stream",
     "text": [
      "loss: 0.14989 | bce: 0.03867 | dice: 0.87005 | 0 cls: 0.11509 | 1 cls: 0.16593 | 2 cls: 0.29411\n"
     ]
    },
    {
     "name": "stderr",
     "output_type": "stream",
     "text": [
      "Epoch 174, lr 0.0003: 100% 43/43 [00:15<00:00,  2.75it/s, 0 cls=0.16048, 1 cls=0.23587, 2 cls=0.33264, bce=0.07235, dice=0.85702, loss=0.20031]\n"
     ]
    },
    {
     "name": "stdout",
     "output_type": "stream",
     "text": [
      "loss: 0.15462 | bce: 0.04160 | dice: 0.86770 | 0 cls: 0.11581 | 1 cls: 0.17823 | 2 cls: 0.29993\n"
     ]
    },
    {
     "name": "stderr",
     "output_type": "stream",
     "text": [
      "Epoch 175, lr 0.0003: 100% 43/43 [00:15<00:00,  2.81it/s, 0 cls=0.16564, 1 cls=0.24016, 2 cls=0.33618, bce=0.07402, dice=0.85473, loss=0.20505]\n"
     ]
    },
    {
     "name": "stdout",
     "output_type": "stream",
     "text": [
      "loss: 0.15352 | bce: 0.04055 | dice: 0.86721 | 0 cls: 0.11680 | 1 cls: 0.17371 | 2 cls: 0.29894\n"
     ]
    },
    {
     "name": "stderr",
     "output_type": "stream",
     "text": [
      "Epoch 176, lr 0.0003: 100% 43/43 [00:15<00:00,  2.83it/s, 0 cls=0.15686, 1 cls=0.23160, 2 cls=0.32621, bce=0.07079, dice=0.85946, loss=0.19622]\n"
     ]
    },
    {
     "name": "stdout",
     "output_type": "stream",
     "text": [
      "loss: 0.15133 | bce: 0.04036 | dice: 0.86948 | 0 cls: 0.11498 | 1 cls: 0.17089 | 2 cls: 0.29587\n"
     ]
    },
    {
     "name": "stderr",
     "output_type": "stream",
     "text": [
      "Epoch 177, lr 0.0003: 100% 43/43 [00:15<00:00,  2.81it/s, 0 cls=0.15887, 1 cls=0.23492, 2 cls=0.33171, bce=0.07230, dice=0.85796, loss=0.19897]\n"
     ]
    },
    {
     "name": "stdout",
     "output_type": "stream",
     "text": [
      "loss: 0.15294 | bce: 0.03923 | dice: 0.86766 | 0 cls: 0.11626 | 1 cls: 0.17304 | 2 cls: 0.29637\n"
     ]
    },
    {
     "name": "stderr",
     "output_type": "stream",
     "text": [
      "Epoch 178, lr 0.0003: 100% 43/43 [00:15<00:00,  2.83it/s, 0 cls=0.16224, 1 cls=0.23713, 2 cls=0.33444, bce=0.07345, dice=0.85678, loss=0.20193]\n"
     ]
    },
    {
     "name": "stdout",
     "output_type": "stream",
     "text": [
      "loss: 0.15381 | bce: 0.03729 | dice: 0.86524 | 0 cls: 0.11927 | 1 cls: 0.16975 | 2 cls: 0.29855\n"
     ]
    },
    {
     "name": "stderr",
     "output_type": "stream",
     "text": [
      "Epoch 179, lr 0.0003: 100% 43/43 [00:15<00:00,  2.81it/s, 0 cls=0.15561, 1 cls=0.23074, 2 cls=0.32550, bce=0.07050, dice=0.86006, loss=0.19514]\n"
     ]
    },
    {
     "name": "stdout",
     "output_type": "stream",
     "text": [
      "loss: 0.14782 | bce: 0.03929 | dice: 0.87215 | 0 cls: 0.11354 | 1 cls: 0.16487 | 2 cls: 0.28949\n"
     ]
    },
    {
     "name": "stderr",
     "output_type": "stream",
     "text": [
      "Epoch 180, lr 0.0003: 100% 43/43 [00:15<00:00,  2.82it/s, 0 cls=0.15529, 1 cls=0.23170, 2 cls=0.32613, bce=0.07102, dice=0.86026, loss=0.19530]\n"
     ]
    },
    {
     "name": "stdout",
     "output_type": "stream",
     "text": [
      "loss: 0.15049 | bce: 0.04072 | dice: 0.87113 | 0 cls: 0.11673 | 1 cls: 0.16551 | 2 cls: 0.29150\n"
     ]
    },
    {
     "name": "stderr",
     "output_type": "stream",
     "text": [
      "Epoch 181, lr 0.0003: 100% 43/43 [00:15<00:00,  2.83it/s, 0 cls=0.15390, 1 cls=0.23207, 2 cls=0.32488, bce=0.07040, dice=0.86054, loss=0.19445]\n"
     ]
    },
    {
     "name": "stdout",
     "output_type": "stream",
     "text": [
      "loss: 0.14924 | bce: 0.03975 | dice: 0.87162 | 0 cls: 0.11550 | 1 cls: 0.16542 | 2 cls: 0.28910\n"
     ]
    },
    {
     "name": "stderr",
     "output_type": "stream",
     "text": [
      "Epoch 182, lr 0.0003: 100% 43/43 [00:15<00:00,  2.83it/s, 0 cls=0.15762, 1 cls=0.23474, 2 cls=0.32897, bce=0.07113, dice=0.85827, loss=0.19789]\n"
     ]
    },
    {
     "name": "stdout",
     "output_type": "stream",
     "text": [
      "loss: 0.15030 | bce: 0.03877 | dice: 0.86971 | 0 cls: 0.11609 | 1 cls: 0.16524 | 2 cls: 0.29382\n"
     ]
    },
    {
     "name": "stderr",
     "output_type": "stream",
     "text": [
      "Epoch 183, lr 0.0003: 100% 43/43 [00:15<00:00,  2.82it/s, 0 cls=0.15775, 1 cls=0.23349, 2 cls=0.32878, bce=0.07210, dice=0.85931, loss=0.19757]\n"
     ]
    },
    {
     "name": "stdout",
     "output_type": "stream",
     "text": [
      "loss: 0.15243 | bce: 0.04328 | dice: 0.87107 | 0 cls: 0.11454 | 1 cls: 0.17535 | 2 cls: 0.29657\n"
     ]
    },
    {
     "name": "stderr",
     "output_type": "stream",
     "text": [
      "Epoch 184, lr 0.0003: 100% 43/43 [00:15<00:00,  2.76it/s, 0 cls=0.15694, 1 cls=0.23496, 2 cls=0.33047, bce=0.07118, dice=0.85828, loss=0.19770]\n"
     ]
    },
    {
     "name": "stdout",
     "output_type": "stream",
     "text": [
      "loss: 0.15125 | bce: 0.04083 | dice: 0.87034 | 0 cls: 0.11565 | 1 cls: 0.16980 | 2 cls: 0.29270\n"
     ]
    },
    {
     "name": "stderr",
     "output_type": "stream",
     "text": [
      "Epoch 185, lr 0.0003: 100% 43/43 [00:15<00:00,  2.82it/s, 0 cls=0.16195, 1 cls=0.23743, 2 cls=0.33360, bce=0.07288, dice=0.85639, loss=0.20175]\n"
     ]
    },
    {
     "name": "stdout",
     "output_type": "stream",
     "text": [
      "loss: 0.15169 | bce: 0.03921 | dice: 0.86853 | 0 cls: 0.11631 | 1 cls: 0.17003 | 2 cls: 0.29689\n"
     ]
    },
    {
     "name": "stderr",
     "output_type": "stream",
     "text": [
      "Epoch 186, lr 0.0003: 100% 43/43 [00:15<00:00,  2.82it/s, 0 cls=0.15963, 1 cls=0.23522, 2 cls=0.33086, bce=0.07170, dice=0.85737, loss=0.19943]\n"
     ]
    },
    {
     "name": "stdout",
     "output_type": "stream",
     "text": [
      "loss: 0.15037 | bce: 0.04180 | dice: 0.87225 | 0 cls: 0.11467 | 1 cls: 0.16965 | 2 cls: 0.29355\n"
     ]
    },
    {
     "name": "stderr",
     "output_type": "stream",
     "text": [
      "Epoch 187, lr 0.0003: 100% 43/43 [00:15<00:00,  2.82it/s, 0 cls=0.15854, 1 cls=0.23639, 2 cls=0.33178, bce=0.07215, dice=0.85785, loss=0.19922]\n"
     ]
    },
    {
     "name": "stdout",
     "output_type": "stream",
     "text": [
      "loss: 0.14956 | bce: 0.04062 | dice: 0.87114 | 0 cls: 0.11449 | 1 cls: 0.16858 | 2 cls: 0.29334\n"
     ]
    },
    {
     "name": "stderr",
     "output_type": "stream",
     "text": [
      "Epoch 188, lr 0.0003: 100% 43/43 [00:15<00:00,  2.83it/s, 0 cls=0.15860, 1 cls=0.23169, 2 cls=0.32687, bce=0.07027, dice=0.85828, loss=0.19735]\n"
     ]
    },
    {
     "name": "stdout",
     "output_type": "stream",
     "text": [
      "loss: 0.15095 | bce: 0.04120 | dice: 0.87126 | 0 cls: 0.11793 | 1 cls: 0.16475 | 2 cls: 0.29224\n"
     ]
    },
    {
     "name": "stderr",
     "output_type": "stream",
     "text": [
      "Epoch 189, lr 0.0003: 100% 43/43 [00:15<00:00,  2.84it/s, 0 cls=0.15625, 1 cls=0.23230, 2 cls=0.32813, bce=0.07091, dice=0.85917, loss=0.19626]\n"
     ]
    },
    {
     "name": "stdout",
     "output_type": "stream",
     "text": [
      "loss: 0.14985 | bce: 0.03754 | dice: 0.86924 | 0 cls: 0.11658 | 1 cls: 0.16500 | 2 cls: 0.29118\n"
     ]
    },
    {
     "name": "stderr",
     "output_type": "stream",
     "text": [
      "Epoch 190, lr 0.0009000000000000001: 100% 43/43 [00:15<00:00,  2.83it/s, 0 cls=0.17013, 1 cls=0.24394, 2 cls=0.34689, bce=0.07616, dice=0.85132, loss=0.20995]\n"
     ]
    },
    {
     "name": "stdout",
     "output_type": "stream",
     "text": [
      "loss: 0.15611 | bce: 0.03953 | dice: 0.86324 | 0 cls: 0.12197 | 1 cls: 0.17148 | 2 cls: 0.30536\n"
     ]
    },
    {
     "name": "stderr",
     "output_type": "stream",
     "text": [
      "Epoch 191, lr 0.0009000000000000001: 100% 43/43 [00:15<00:00,  2.83it/s, 0 cls=0.17128, 1 cls=0.25445, 2 cls=0.35262, bce=0.07691, dice=0.84821, loss=0.21437]\n"
     ]
    },
    {
     "name": "stdout",
     "output_type": "stream",
     "text": [
      "loss: 0.15302 | bce: 0.04030 | dice: 0.86768 | 0 cls: 0.11796 | 1 cls: 0.17034 | 2 cls: 0.29783\n"
     ]
    },
    {
     "name": "stderr",
     "output_type": "stream",
     "text": [
      "Epoch 192, lr 0.00027: 100% 43/43 [00:15<00:00,  2.83it/s, 0 cls=0.16518, 1 cls=0.23955, 2 cls=0.33704, bce=0.07431, dice=0.85495, loss=0.20468]\n"
     ]
    },
    {
     "name": "stdout",
     "output_type": "stream",
     "text": [
      "loss: 0.15002 | bce: 0.04017 | dice: 0.87059 | 0 cls: 0.11530 | 1 cls: 0.16778 | 2 cls: 0.29478\n"
     ]
    },
    {
     "name": "stderr",
     "output_type": "stream",
     "text": [
      "Epoch 193, lr 0.00027: 100% 43/43 [00:15<00:00,  2.84it/s, 0 cls=0.16023, 1 cls=0.23731, 2 cls=0.33428, bce=0.07272, dice=0.85681, loss=0.20076]\n"
     ]
    },
    {
     "name": "stdout",
     "output_type": "stream",
     "text": [
      "loss: 0.15024 | bce: 0.04078 | dice: 0.87133 | 0 cls: 0.11486 | 1 cls: 0.16880 | 2 cls: 0.29252\n"
     ]
    },
    {
     "name": "stderr",
     "output_type": "stream",
     "text": [
      "Epoch 194, lr 8.1e-05: 100% 43/43 [00:15<00:00,  2.74it/s, 0 cls=0.16149, 1 cls=0.23647, 2 cls=0.33280, bce=0.07312, dice=0.85717, loss=0.20112]\n"
     ]
    },
    {
     "name": "stdout",
     "output_type": "stream",
     "text": [
      "loss: 0.14904 | bce: 0.03895 | dice: 0.87075 | 0 cls: 0.11462 | 1 cls: 0.16609 | 2 cls: 0.29161\n"
     ]
    },
    {
     "name": "stderr",
     "output_type": "stream",
     "text": [
      "Epoch 195, lr 0.0009000000000000001: 100% 43/43 [00:15<00:00,  2.83it/s, 0 cls=0.17730, 1 cls=0.25527, 2 cls=0.35693, bce=0.08005, dice=0.84741, loss=0.21865]\n"
     ]
    },
    {
     "name": "stdout",
     "output_type": "stream",
     "text": [
      "loss: 0.15874 | bce: 0.04060 | dice: 0.86060 | 0 cls: 0.12544 | 1 cls: 0.16917 | 2 cls: 0.31262\n"
     ]
    },
    {
     "name": "stderr",
     "output_type": "stream",
     "text": [
      "Epoch 196, lr 0.0009000000000000001: 100% 43/43 [00:15<00:00,  2.82it/s, 0 cls=0.17505, 1 cls=0.25377, 2 cls=0.35462, bce=0.07823, dice=0.84756, loss=0.21662]\n"
     ]
    },
    {
     "name": "stdout",
     "output_type": "stream",
     "text": [
      "loss: 0.15542 | bce: 0.03802 | dice: 0.86374 | 0 cls: 0.11996 | 1 cls: 0.17130 | 2 cls: 0.30579\n"
     ]
    },
    {
     "name": "stderr",
     "output_type": "stream",
     "text": [
      "Epoch 197, lr 0.00027: 100% 43/43 [00:15<00:00,  2.84it/s, 0 cls=0.16446, 1 cls=0.24175, 2 cls=0.33822, bce=0.07478, dice=0.85497, loss=0.20502]\n"
     ]
    },
    {
     "name": "stdout",
     "output_type": "stream",
     "text": [
      "loss: 0.15124 | bce: 0.04077 | dice: 0.86993 | 0 cls: 0.11562 | 1 cls: 0.16955 | 2 cls: 0.29524\n"
     ]
    },
    {
     "name": "stderr",
     "output_type": "stream",
     "text": [
      "Epoch 198, lr 0.00027: 100% 43/43 [00:15<00:00,  2.83it/s, 0 cls=0.16881, 1 cls=0.24304, 2 cls=0.33961, bce=0.07443, dice=0.85260, loss=0.20816]\n"
     ]
    },
    {
     "name": "stdout",
     "output_type": "stream",
     "text": [
      "loss: 0.15349 | bce: 0.03921 | dice: 0.86637 | 0 cls: 0.11702 | 1 cls: 0.17342 | 2 cls: 0.29919\n"
     ]
    },
    {
     "name": "stderr",
     "output_type": "stream",
     "text": [
      "Epoch 199, lr 8.1e-05: 100% 43/43 [00:15<00:00,  2.83it/s, 0 cls=0.15989, 1 cls=0.23946, 2 cls=0.33392, bce=0.07195, dice=0.85599, loss=0.20116]\n"
     ]
    },
    {
     "name": "stdout",
     "output_type": "stream",
     "text": [
      "loss: 0.14994 | bce: 0.03829 | dice: 0.86929 | 0 cls: 0.11602 | 1 cls: 0.16574 | 2 cls: 0.29349\n"
     ]
    },
    {
     "name": "stderr",
     "output_type": "stream",
     "text": [
      "Epoch 200, lr 0.00017999999999999998: 100% 43/43 [00:15<00:00,  2.82it/s, 0 cls=0.15967, 1 cls=0.23795, 2 cls=0.33218, bce=0.07248, dice=0.85720, loss=0.20041]\n"
     ]
    },
    {
     "name": "stdout",
     "output_type": "stream",
     "text": [
      "loss: 0.14869 | bce: 0.04087 | dice: 0.87276 | 0 cls: 0.11369 | 1 cls: 0.16683 | 2 cls: 0.29052\n"
     ]
    },
    {
     "name": "stderr",
     "output_type": "stream",
     "text": [
      "Epoch 201, lr 0.00017999999999999998: 100% 43/43 [00:15<00:00,  2.82it/s, 0 cls=0.15634, 1 cls=0.22953, 2 cls=0.32582, bce=0.07094, dice=0.86031, loss=0.19525]\n"
     ]
    },
    {
     "name": "stdout",
     "output_type": "stream",
     "text": [
      "loss: 0.14916 | bce: 0.03946 | dice: 0.87126 | 0 cls: 0.11527 | 1 cls: 0.16531 | 2 cls: 0.29049\n"
     ]
    },
    {
     "name": "stderr",
     "output_type": "stream",
     "text": [
      "Epoch 202, lr 0.00017999999999999998: 100% 43/43 [00:15<00:00,  2.81it/s, 0 cls=0.15754, 1 cls=0.23205, 2 cls=0.32582, bce=0.07050, dice=0.85904, loss=0.19672]\n"
     ]
    },
    {
     "name": "stdout",
     "output_type": "stream",
     "text": [
      "loss: 0.14871 | bce: 0.03945 | dice: 0.87147 | 0 cls: 0.11426 | 1 cls: 0.16549 | 2 cls: 0.29061\n"
     ]
    },
    {
     "name": "stderr",
     "output_type": "stream",
     "text": [
      "Epoch 203, lr 0.00017999999999999998: 100% 43/43 [00:15<00:00,  2.82it/s, 0 cls=0.15590, 1 cls=0.23258, 2 cls=0.32678, bce=0.07118, dice=0.85989, loss=0.19599]\n"
     ]
    },
    {
     "name": "stdout",
     "output_type": "stream",
     "text": [
      "loss: 0.15150 | bce: 0.03788 | dice: 0.86745 | 0 cls: 0.11765 | 1 cls: 0.16613 | 2 cls: 0.29769\n"
     ]
    },
    {
     "name": "stderr",
     "output_type": "stream",
     "text": [
      "Epoch 204, lr 0.00017999999999999998: 100% 43/43 [00:15<00:00,  2.72it/s, 0 cls=0.15318, 1 cls=0.22687, 2 cls=0.32125, bce=0.06994, dice=0.86234, loss=0.19209]\n"
     ]
    },
    {
     "name": "stdout",
     "output_type": "stream",
     "text": [
      "loss: 0.14948 | bce: 0.03985 | dice: 0.87098 | 0 cls: 0.11432 | 1 cls: 0.16754 | 2 cls: 0.29229\n"
     ]
    },
    {
     "name": "stderr",
     "output_type": "stream",
     "text": [
      "Epoch 205, lr 0.00017999999999999998: 100% 43/43 [00:15<00:00,  2.83it/s, 0 cls=0.15814, 1 cls=0.23033, 2 cls=0.32827, bce=0.07081, dice=0.85880, loss=0.19681]\n"
     ]
    },
    {
     "name": "stdout",
     "output_type": "stream",
     "text": [
      "loss: 0.14888 | bce: 0.03953 | dice: 0.87155 | 0 cls: 0.11446 | 1 cls: 0.16602 | 2 cls: 0.29121\n"
     ]
    },
    {
     "name": "stderr",
     "output_type": "stream",
     "text": [
      "Epoch 206, lr 0.00017999999999999998: 100% 43/43 [00:15<00:00,  2.83it/s, 0 cls=0.15932, 1 cls=0.23270, 2 cls=0.33073, bce=0.07130, dice=0.85767, loss=0.19848]\n"
     ]
    },
    {
     "name": "stdout",
     "output_type": "stream",
     "text": [
      "loss: 0.14859 | bce: 0.03862 | dice: 0.87128 | 0 cls: 0.11510 | 1 cls: 0.16362 | 2 cls: 0.28948\n"
     ]
    },
    {
     "name": "stderr",
     "output_type": "stream",
     "text": [
      "Epoch 207, lr 0.00017999999999999998: 100% 43/43 [00:15<00:00,  2.83it/s, 0 cls=0.15794, 1 cls=0.23258, 2 cls=0.32405, bce=0.07093, dice=0.85972, loss=0.19694]\n"
     ]
    },
    {
     "name": "stdout",
     "output_type": "stream",
     "text": [
      "loss: 0.14757 | bce: 0.03929 | dice: 0.87256 | 0 cls: 0.11380 | 1 cls: 0.16366 | 2 cls: 0.28839\n"
     ]
    },
    {
     "name": "stderr",
     "output_type": "stream",
     "text": [
      "Epoch 208, lr 0.00017999999999999998: 100% 43/43 [00:15<00:00,  2.81it/s, 0 cls=0.15919, 1 cls=0.23331, 2 cls=0.32966, bce=0.07171, dice=0.85824, loss=0.19847]\n"
     ]
    },
    {
     "name": "stdout",
     "output_type": "stream",
     "text": [
      "loss: 0.14760 | bce: 0.03909 | dice: 0.87210 | 0 cls: 0.11410 | 1 cls: 0.16353 | 2 cls: 0.29010\n"
     ]
    },
    {
     "name": "stderr",
     "output_type": "stream",
     "text": [
      "Epoch 209, lr 0.00017999999999999998: 100% 43/43 [00:15<00:00,  2.82it/s, 0 cls=0.15663, 1 cls=0.23118, 2 cls=0.32860, bce=0.07132, dice=0.85950, loss=0.19619]\n"
     ]
    },
    {
     "name": "stdout",
     "output_type": "stream",
     "text": [
      "loss: 0.14790 | bce: 0.04005 | dice: 0.87281 | 0 cls: 0.11390 | 1 cls: 0.16493 | 2 cls: 0.28970\n"
     ]
    },
    {
     "name": "stderr",
     "output_type": "stream",
     "text": [
      "Epoch 210, lr 0.00017999999999999998: 100% 43/43 [00:15<00:00,  2.84it/s, 0 cls=0.15928, 1 cls=0.23022, 2 cls=0.32642, bce=0.07079, dice=0.85884, loss=0.19728]\n"
     ]
    },
    {
     "name": "stdout",
     "output_type": "stream",
     "text": [
      "loss: 0.14885 | bce: 0.03898 | dice: 0.87087 | 0 cls: 0.11441 | 1 cls: 0.16590 | 2 cls: 0.29148\n"
     ]
    },
    {
     "name": "stderr",
     "output_type": "stream",
     "text": [
      "Epoch 211, lr 0.00017999999999999998: 100% 43/43 [00:15<00:00,  2.81it/s, 0 cls=0.15256, 1 cls=0.22807, 2 cls=0.32064, bce=0.06930, dice=0.86208, loss=0.19202]\n"
     ]
    },
    {
     "name": "stdout",
     "output_type": "stream",
     "text": [
      "loss: 0.14911 | bce: 0.03881 | dice: 0.87051 | 0 cls: 0.11480 | 1 cls: 0.16602 | 2 cls: 0.29222\n"
     ]
    },
    {
     "name": "stderr",
     "output_type": "stream",
     "text": [
      "Epoch 212, lr 0.00017999999999999998: 100% 43/43 [00:15<00:00,  2.83it/s, 0 cls=0.15818, 1 cls=0.23105, 2 cls=0.32806, bce=0.07180, dice=0.85961, loss=0.19703]\n"
     ]
    },
    {
     "name": "stdout",
     "output_type": "stream",
     "text": [
      "loss: 0.14912 | bce: 0.03954 | dice: 0.87081 | 0 cls: 0.11500 | 1 cls: 0.16540 | 2 cls: 0.29279\n"
     ]
    },
    {
     "name": "stderr",
     "output_type": "stream",
     "text": [
      "Epoch 213, lr 0.00017999999999999998: 100% 43/43 [00:15<00:00,  2.84it/s, 0 cls=0.15982, 1 cls=0.23451, 2 cls=0.32811, bce=0.07155, dice=0.85822, loss=0.19905]\n"
     ]
    },
    {
     "name": "stdout",
     "output_type": "stream",
     "text": [
      "loss: 0.14794 | bce: 0.04037 | dice: 0.87322 | 0 cls: 0.11438 | 1 cls: 0.16421 | 2 cls: 0.28785\n"
     ]
    },
    {
     "name": "stderr",
     "output_type": "stream",
     "text": [
      "Epoch 214, lr 0.00017999999999999998: 100% 43/43 [00:15<00:00,  2.83it/s, 0 cls=0.15749, 1 cls=0.22915, 2 cls=0.32473, bce=0.07094, dice=0.86031, loss=0.19571]\n"
     ]
    },
    {
     "name": "stdout",
     "output_type": "stream",
     "text": [
      "loss: 0.14755 | bce: 0.03965 | dice: 0.87279 | 0 cls: 0.11390 | 1 cls: 0.16426 | 2 cls: 0.28797\n"
     ]
    },
    {
     "name": "stderr",
     "output_type": "stream",
     "text": [
      "Epoch 215, lr 0.00017999999999999998: 100% 43/43 [00:15<00:00,  2.72it/s, 0 cls=0.15183, 1 cls=0.22577, 2 cls=0.31924, bce=0.06909, dice=0.86296, loss=0.19075]\n"
     ]
    },
    {
     "name": "stdout",
     "output_type": "stream",
     "text": [
      "loss: 0.14976 | bce: 0.03957 | dice: 0.87065 | 0 cls: 0.11516 | 1 cls: 0.16763 | 2 cls: 0.29149\n"
     ]
    },
    {
     "name": "stderr",
     "output_type": "stream",
     "text": [
      "Epoch 216, lr 0.00017999999999999998: 100% 43/43 [00:15<00:00,  2.82it/s, 0 cls=0.15666, 1 cls=0.23053, 2 cls=0.32698, bce=0.07090, dice=0.85966, loss=0.19585]\n"
     ]
    },
    {
     "name": "stdout",
     "output_type": "stream",
     "text": [
      "loss: 0.14920 | bce: 0.03983 | dice: 0.87119 | 0 cls: 0.11448 | 1 cls: 0.16742 | 2 cls: 0.29208\n"
     ]
    },
    {
     "name": "stderr",
     "output_type": "stream",
     "text": [
      "Epoch 217, lr 0.00017999999999999998: 100% 43/43 [00:15<00:00,  2.82it/s, 0 cls=0.15362, 1 cls=0.22985, 2 cls=0.32238, bce=0.07081, dice=0.86207, loss=0.19337]\n"
     ]
    },
    {
     "name": "stdout",
     "output_type": "stream",
     "text": [
      "loss: 0.14986 | bce: 0.03904 | dice: 0.87009 | 0 cls: 0.11579 | 1 cls: 0.16666 | 2 cls: 0.29159\n"
     ]
    },
    {
     "name": "stderr",
     "output_type": "stream",
     "text": [
      "Epoch 218, lr 0.00017999999999999998: 100% 43/43 [00:15<00:00,  2.83it/s, 0 cls=0.16245, 1 cls=0.23961, 2 cls=0.33531, bce=0.07271, dice=0.85539, loss=0.20288]\n"
     ]
    },
    {
     "name": "stdout",
     "output_type": "stream",
     "text": [
      "loss: 0.14682 | bce: 0.03955 | dice: 0.87327 | 0 cls: 0.11282 | 1 cls: 0.16419 | 2 cls: 0.28746\n"
     ]
    },
    {
     "name": "stderr",
     "output_type": "stream",
     "text": [
      "Epoch 219, lr 0.00017999999999999998: 100% 43/43 [00:15<00:00,  2.82it/s, 0 cls=0.15632, 1 cls=0.23132, 2 cls=0.32438, bce=0.07122, dice=0.86059, loss=0.19562]\n"
     ]
    },
    {
     "name": "stdout",
     "output_type": "stream",
     "text": [
      "loss: 0.14954 | bce: 0.03867 | dice: 0.86989 | 0 cls: 0.11600 | 1 cls: 0.16553 | 2 cls: 0.29348\n"
     ]
    },
    {
     "name": "stderr",
     "output_type": "stream",
     "text": [
      "Epoch 220, lr 0.00017999999999999998: 100% 43/43 [00:15<00:00,  2.81it/s, 0 cls=0.15413, 1 cls=0.22738, 2 cls=0.32170, bce=0.06922, dice=0.86117, loss=0.19286]\n"
     ]
    },
    {
     "name": "stdout",
     "output_type": "stream",
     "text": [
      "loss: 0.14956 | bce: 0.03923 | dice: 0.87053 | 0 cls: 0.11611 | 1 cls: 0.16477 | 2 cls: 0.29332\n"
     ]
    },
    {
     "name": "stderr",
     "output_type": "stream",
     "text": [
      "Epoch 221, lr 0.00017999999999999998: 100% 43/43 [00:15<00:00,  2.82it/s, 0 cls=0.15379, 1 cls=0.22832, 2 cls=0.32423, bce=0.07056, dice=0.86166, loss=0.19320]\n"
     ]
    },
    {
     "name": "stdout",
     "output_type": "stream",
     "text": [
      "loss: 0.14789 | bce: 0.03870 | dice: 0.87138 | 0 cls: 0.11418 | 1 cls: 0.16442 | 2 cls: 0.29033\n"
     ]
    },
    {
     "name": "stderr",
     "output_type": "stream",
     "text": [
      "Epoch 222, lr 0.00017999999999999998: 100% 43/43 [00:15<00:00,  2.82it/s, 0 cls=0.15239, 1 cls=0.22610, 2 cls=0.31826, bce=0.06885, dice=0.86269, loss=0.19109]\n"
     ]
    },
    {
     "name": "stdout",
     "output_type": "stream",
     "text": [
      "loss: 0.14662 | bce: 0.03810 | dice: 0.87265 | 0 cls: 0.11358 | 1 cls: 0.16190 | 2 cls: 0.28713\n"
     ]
    },
    {
     "name": "stderr",
     "output_type": "stream",
     "text": [
      "Epoch 223, lr 0.00017999999999999998: 100% 43/43 [00:15<00:00,  2.83it/s, 0 cls=0.15020, 1 cls=0.22433, 2 cls=0.31656, bce=0.06900, dice=0.86453, loss=0.18907]\n"
     ]
    },
    {
     "name": "stdout",
     "output_type": "stream",
     "text": [
      "loss: 0.14732 | bce: 0.03820 | dice: 0.87227 | 0 cls: 0.11388 | 1 cls: 0.16281 | 2 cls: 0.28713\n"
     ]
    },
    {
     "name": "stderr",
     "output_type": "stream",
     "text": [
      "Epoch 224, lr 0.00017999999999999998: 100% 43/43 [00:15<00:00,  2.84it/s, 0 cls=0.15706, 1 cls=0.22940, 2 cls=0.32396, bce=0.07049, dice=0.86015, loss=0.19545]\n"
     ]
    },
    {
     "name": "stdout",
     "output_type": "stream",
     "text": [
      "loss: 0.14774 | bce: 0.04022 | dice: 0.87312 | 0 cls: 0.11332 | 1 cls: 0.16516 | 2 cls: 0.28810\n"
     ]
    },
    {
     "name": "stderr",
     "output_type": "stream",
     "text": [
      "Epoch 225, lr 0.00017999999999999998: 100% 43/43 [00:15<00:00,  2.76it/s, 0 cls=0.15204, 1 cls=0.22902, 2 cls=0.32112, bce=0.06902, dice=0.86187, loss=0.19204]\n"
     ]
    },
    {
     "name": "stdout",
     "output_type": "stream",
     "text": [
      "loss: 0.14984 | bce: 0.03970 | dice: 0.87088 | 0 cls: 0.11726 | 1 cls: 0.16340 | 2 cls: 0.29103\n"
     ]
    },
    {
     "name": "stderr",
     "output_type": "stream",
     "text": [
      "Epoch 226, lr 0.00017999999999999998: 100% 43/43 [00:15<00:00,  2.77it/s, 0 cls=0.16247, 1 cls=0.23490, 2 cls=0.33097, bce=0.07180, dice=0.85642, loss=0.20105]\n"
     ]
    },
    {
     "name": "stdout",
     "output_type": "stream",
     "text": [
      "loss: 0.14815 | bce: 0.03972 | dice: 0.87242 | 0 cls: 0.11537 | 1 cls: 0.16300 | 2 cls: 0.28866\n"
     ]
    },
    {
     "name": "stderr",
     "output_type": "stream",
     "text": [
      "Epoch 227, lr 0.00017999999999999998: 100% 43/43 [00:15<00:00,  2.82it/s, 0 cls=0.16078, 1 cls=0.23231, 2 cls=0.32752, bce=0.07295, dice=0.85958, loss=0.19891]\n"
     ]
    },
    {
     "name": "stdout",
     "output_type": "stream",
     "text": [
      "loss: 0.15170 | bce: 0.03792 | dice: 0.86732 | 0 cls: 0.11790 | 1 cls: 0.16700 | 2 cls: 0.29609\n"
     ]
    },
    {
     "name": "stderr",
     "output_type": "stream",
     "text": [
      "Epoch 228, lr 0.00017999999999999998: 100% 43/43 [00:15<00:00,  2.84it/s, 0 cls=0.15489, 1 cls=0.23202, 2 cls=0.32628, bce=0.07046, dice=0.85991, loss=0.19517]\n"
     ]
    },
    {
     "name": "stdout",
     "output_type": "stream",
     "text": [
      "loss: 0.14962 | bce: 0.03969 | dice: 0.87077 | 0 cls: 0.11603 | 1 cls: 0.16564 | 2 cls: 0.29204\n"
     ]
    },
    {
     "name": "stderr",
     "output_type": "stream",
     "text": [
      "Epoch 229, lr 0.00017999999999999998: 100% 43/43 [00:15<00:00,  2.81it/s, 0 cls=0.15406, 1 cls=0.22762, 2 cls=0.32349, bce=0.07060, dice=0.86184, loss=0.19307]\n"
     ]
    },
    {
     "name": "stdout",
     "output_type": "stream",
     "text": [
      "loss: 0.14723 | bce: 0.03873 | dice: 0.87230 | 0 cls: 0.11410 | 1 cls: 0.16283 | 2 cls: 0.28910\n"
     ]
    },
    {
     "name": "stderr",
     "output_type": "stream",
     "text": [
      "Epoch 230, lr 0.00017999999999999998: 100% 43/43 [00:15<00:00,  2.82it/s, 0 cls=0.14932, 1 cls=0.22110, 2 cls=0.31512, bce=0.06826, dice=0.86511, loss=0.18743]\n"
     ]
    },
    {
     "name": "stdout",
     "output_type": "stream",
     "text": [
      "loss: 0.14867 | bce: 0.03809 | dice: 0.87066 | 0 cls: 0.11541 | 1 cls: 0.16346 | 2 cls: 0.29161\n"
     ]
    },
    {
     "name": "stderr",
     "output_type": "stream",
     "text": [
      "Epoch 231, lr 0.00017999999999999998: 100% 43/43 [00:15<00:00,  2.83it/s, 0 cls=0.16294, 1 cls=0.23788, 2 cls=0.33278, bce=0.07225, dice=0.85596, loss=0.20241]\n"
     ]
    },
    {
     "name": "stdout",
     "output_type": "stream",
     "text": [
      "loss: 0.15400 | bce: 0.03907 | dice: 0.86576 | 0 cls: 0.12065 | 1 cls: 0.16795 | 2 cls: 0.30218\n"
     ]
    },
    {
     "name": "stderr",
     "output_type": "stream",
     "text": [
      "Epoch 232, lr 0.00017999999999999998: 100% 43/43 [00:15<00:00,  2.83it/s, 0 cls=0.15299, 1 cls=0.22447, 2 cls=0.31922, bce=0.06909, dice=0.86267, loss=0.19106]\n"
     ]
    },
    {
     "name": "stdout",
     "output_type": "stream",
     "text": [
      "loss: 0.14821 | bce: 0.03885 | dice: 0.87137 | 0 cls: 0.11483 | 1 cls: 0.16367 | 2 cls: 0.29177\n"
     ]
    },
    {
     "name": "stderr",
     "output_type": "stream",
     "text": [
      "Epoch 233, lr 0.00017999999999999998: 100% 43/43 [00:15<00:00,  2.82it/s, 0 cls=0.15378, 1 cls=0.22902, 2 cls=0.32168, bce=0.06939, dice=0.86117, loss=0.19314]\n"
     ]
    },
    {
     "name": "stdout",
     "output_type": "stream",
     "text": [
      "loss: 0.14913 | bce: 0.03855 | dice: 0.87049 | 0 cls: 0.11458 | 1 cls: 0.16585 | 2 cls: 0.29231\n"
     ]
    },
    {
     "name": "stderr",
     "output_type": "stream",
     "text": [
      "Epoch 234, lr 0.00017999999999999998: 100% 43/43 [00:15<00:00,  2.83it/s, 0 cls=0.15344, 1 cls=0.22832, 2 cls=0.32151, bce=0.07003, dice=0.86206, loss=0.19271]\n"
     ]
    },
    {
     "name": "stdout",
     "output_type": "stream",
     "text": [
      "loss: 0.14842 | bce: 0.03919 | dice: 0.87168 | 0 cls: 0.11471 | 1 cls: 0.16501 | 2 cls: 0.28930\n"
     ]
    },
    {
     "name": "stderr",
     "output_type": "stream",
     "text": [
      "Epoch 235, lr 0.00017999999999999998: 100% 43/43 [00:15<00:00,  2.82it/s, 0 cls=0.15666, 1 cls=0.22993, 2 cls=0.32396, bce=0.07000, dice=0.85999, loss=0.19537]\n"
     ]
    },
    {
     "name": "stdout",
     "output_type": "stream",
     "text": [
      "loss: 0.14714 | bce: 0.04029 | dice: 0.87366 | 0 cls: 0.11276 | 1 cls: 0.16451 | 2 cls: 0.28843\n"
     ]
    },
    {
     "name": "stderr",
     "output_type": "stream",
     "text": [
      "Epoch 236, lr 0.00017999999999999998: 100% 43/43 [00:15<00:00,  2.82it/s, 0 cls=0.15158, 1 cls=0.22814, 2 cls=0.32022, bce=0.06927, dice=0.86247, loss=0.19141]\n"
     ]
    },
    {
     "name": "stdout",
     "output_type": "stream",
     "text": [
      "loss: 0.14823 | bce: 0.03791 | dice: 0.87049 | 0 cls: 0.11410 | 1 cls: 0.16524 | 2 cls: 0.29083\n"
     ]
    },
    {
     "name": "stderr",
     "output_type": "stream",
     "text": [
      "Epoch 237, lr 0.00017999999999999998: 100% 43/43 [00:15<00:00,  2.70it/s, 0 cls=0.15104, 1 cls=0.22396, 2 cls=0.31729, bce=0.06903, dice=0.86401, loss=0.18954]\n"
     ]
    },
    {
     "name": "stdout",
     "output_type": "stream",
     "text": [
      "loss: 0.14871 | bce: 0.04001 | dice: 0.87174 | 0 cls: 0.11377 | 1 cls: 0.16718 | 2 cls: 0.29138\n"
     ]
    },
    {
     "name": "stderr",
     "output_type": "stream",
     "text": [
      "Epoch 238, lr 0.00017999999999999998: 100% 43/43 [00:15<00:00,  2.82it/s, 0 cls=0.15122, 1 cls=0.22445, 2 cls=0.31755, bce=0.06874, dice=0.86354, loss=0.18982]\n"
     ]
    },
    {
     "name": "stdout",
     "output_type": "stream",
     "text": [
      "loss: 0.14696 | bce: 0.03923 | dice: 0.87316 | 0 cls: 0.11367 | 1 cls: 0.16253 | 2 cls: 0.28787\n"
     ]
    },
    {
     "name": "stderr",
     "output_type": "stream",
     "text": [
      "Epoch 239, lr 0.00017999999999999998: 100% 43/43 [00:15<00:00,  2.83it/s, 0 cls=0.15468, 1 cls=0.22746, 2 cls=0.32101, bce=0.06998, dice=0.86181, loss=0.19315]\n"
     ]
    },
    {
     "name": "stdout",
     "output_type": "stream",
     "text": [
      "loss: 0.14806 | bce: 0.03844 | dice: 0.87133 | 0 cls: 0.11470 | 1 cls: 0.16362 | 2 cls: 0.29051\n"
     ]
    },
    {
     "name": "stderr",
     "output_type": "stream",
     "text": [
      "Epoch 240, lr 0.00017999999999999998: 100% 43/43 [00:15<00:00,  2.80it/s, 0 cls=0.14982, 1 cls=0.22000, 2 cls=0.31232, bce=0.06826, dice=0.86585, loss=0.18713]\n"
     ]
    },
    {
     "name": "stdout",
     "output_type": "stream",
     "text": [
      "loss: 0.14891 | bce: 0.03809 | dice: 0.87019 | 0 cls: 0.11594 | 1 cls: 0.16295 | 2 cls: 0.29283\n"
     ]
    },
    {
     "name": "stderr",
     "output_type": "stream",
     "text": [
      "Epoch 241, lr 0.00017999999999999998: 100% 43/43 [00:15<00:00,  2.83it/s, 0 cls=0.15412, 1 cls=0.22671, 2 cls=0.32095, bce=0.07020, dice=0.86238, loss=0.19258]\n"
     ]
    },
    {
     "name": "stdout",
     "output_type": "stream",
     "text": [
      "loss: 0.14916 | bce: 0.03927 | dice: 0.87083 | 0 cls: 0.11562 | 1 cls: 0.16458 | 2 cls: 0.29298\n"
     ]
    },
    {
     "name": "stderr",
     "output_type": "stream",
     "text": [
      "Epoch 242, lr 0.00017999999999999998: 100% 43/43 [00:15<00:00,  2.83it/s, 0 cls=0.15273, 1 cls=0.22473, 2 cls=0.31877, bce=0.06914, dice=0.86311, loss=0.19094]\n"
     ]
    },
    {
     "name": "stdout",
     "output_type": "stream",
     "text": [
      "loss: 0.14935 | bce: 0.03937 | dice: 0.87064 | 0 cls: 0.11501 | 1 cls: 0.16639 | 2 cls: 0.29217\n"
     ]
    },
    {
     "name": "stderr",
     "output_type": "stream",
     "text": [
      "Epoch 243, lr 0.00017999999999999998: 100% 43/43 [00:15<00:00,  2.84it/s, 0 cls=0.15067, 1 cls=0.22280, 2 cls=0.31676, bce=0.06786, dice=0.86350, loss=0.18892]\n"
     ]
    },
    {
     "name": "stdout",
     "output_type": "stream",
     "text": [
      "loss: 0.15083 | bce: 0.03855 | dice: 0.86840 | 0 cls: 0.11736 | 1 cls: 0.16582 | 2 cls: 0.29506\n"
     ]
    },
    {
     "name": "stderr",
     "output_type": "stream",
     "text": [
      "Epoch 244, lr 0.00017999999999999998: 100% 43/43 [00:15<00:00,  2.82it/s, 0 cls=0.15597, 1 cls=0.22628, 2 cls=0.32184, bce=0.07091, dice=0.86214, loss=0.19365]\n"
     ]
    },
    {
     "name": "stdout",
     "output_type": "stream",
     "text": [
      "loss: 0.15115 | bce: 0.04134 | dice: 0.87076 | 0 cls: 0.11771 | 1 cls: 0.16590 | 2 cls: 0.29597\n"
     ]
    },
    {
     "name": "stderr",
     "output_type": "stream",
     "text": [
      "Epoch 245, lr 0.00017999999999999998: 100% 43/43 [00:15<00:00,  2.83it/s, 0 cls=0.15047, 1 cls=0.22539, 2 cls=0.31855, bce=0.06847, dice=0.86323, loss=0.18976]\n"
     ]
    },
    {
     "name": "stdout",
     "output_type": "stream",
     "text": [
      "loss: 0.14915 | bce: 0.03839 | dice: 0.87034 | 0 cls: 0.11583 | 1 cls: 0.16411 | 2 cls: 0.29152\n"
     ]
    },
    {
     "name": "stderr",
     "output_type": "stream",
     "text": [
      "Epoch 246, lr 0.00017999999999999998: 100% 43/43 [00:15<00:00,  2.82it/s, 0 cls=0.15228, 1 cls=0.22658, 2 cls=0.32051, bce=0.06905, dice=0.86228, loss=0.19139]\n"
     ]
    },
    {
     "name": "stdout",
     "output_type": "stream",
     "text": [
      "loss: 0.15274 | bce: 0.04078 | dice: 0.86874 | 0 cls: 0.11753 | 1 cls: 0.17074 | 2 cls: 0.29739\n"
     ]
    },
    {
     "name": "stderr",
     "output_type": "stream",
     "text": [
      "Epoch 247, lr 0.00017999999999999998: 100% 43/43 [00:15<00:00,  2.82it/s, 0 cls=0.14937, 1 cls=0.22375, 2 cls=0.31600, bce=0.06839, dice=0.86441, loss=0.18835]\n"
     ]
    },
    {
     "name": "stdout",
     "output_type": "stream",
     "text": [
      "loss: 0.15177 | bce: 0.03952 | dice: 0.86810 | 0 cls: 0.11774 | 1 cls: 0.16751 | 2 cls: 0.29880\n"
     ]
    },
    {
     "name": "stderr",
     "output_type": "stream",
     "text": [
      "Epoch 248, lr 0.00017999999999999998: 100% 43/43 [00:15<00:00,  2.72it/s, 0 cls=0.15280, 1 cls=0.22613, 2 cls=0.31837, bce=0.06968, dice=0.86318, loss=0.19136]\n"
     ]
    },
    {
     "name": "stdout",
     "output_type": "stream",
     "text": [
      "loss: 0.15027 | bce: 0.03874 | dice: 0.86914 | 0 cls: 0.11650 | 1 cls: 0.16554 | 2 cls: 0.29543\n"
     ]
    },
    {
     "name": "stderr",
     "output_type": "stream",
     "text": [
      "Epoch 249, lr 0.00017999999999999998: 100% 43/43 [00:15<00:00,  2.83it/s, 0 cls=0.15246, 1 cls=0.22393, 2 cls=0.31878, bce=0.06938, dice=0.86339, loss=0.19053]\n"
     ]
    },
    {
     "name": "stdout",
     "output_type": "stream",
     "text": [
      "loss: 0.14809 | bce: 0.03959 | dice: 0.87244 | 0 cls: 0.11453 | 1 cls: 0.16396 | 2 cls: 0.28914\n"
     ]
    },
    {
     "name": "stderr",
     "output_type": "stream",
     "text": [
      "Epoch 250, lr 0.00017999999999999998: 100% 43/43 [00:15<00:00,  2.82it/s, 0 cls=0.15606, 1 cls=0.23024, 2 cls=0.32275, bce=0.06906, dice=0.85956, loss=0.19498]\n"
     ]
    },
    {
     "name": "stdout",
     "output_type": "stream",
     "text": [
      "loss: 0.15084 | bce: 0.03887 | dice: 0.86896 | 0 cls: 0.11784 | 1 cls: 0.16474 | 2 cls: 0.29570\n"
     ]
    },
    {
     "name": "stderr",
     "output_type": "stream",
     "text": [
      "Epoch 251, lr 0.00017999999999999998: 100% 43/43 [00:15<00:00,  2.83it/s, 0 cls=0.15170, 1 cls=0.22489, 2 cls=0.31752, bce=0.06919, dice=0.86368, loss=0.19024]\n"
     ]
    },
    {
     "name": "stdout",
     "output_type": "stream",
     "text": [
      "loss: 0.15118 | bce: 0.04133 | dice: 0.87052 | 0 cls: 0.11640 | 1 cls: 0.16809 | 2 cls: 0.29600\n"
     ]
    },
    {
     "name": "stderr",
     "output_type": "stream",
     "text": [
      "Epoch 252, lr 0.00017999999999999998: 100% 43/43 [00:15<00:00,  2.82it/s, 0 cls=0.15017, 1 cls=0.22466, 2 cls=0.31798, bce=0.06891, dice=0.86386, loss=0.18930]\n"
     ]
    },
    {
     "name": "stdout",
     "output_type": "stream",
     "text": [
      "loss: 0.14956 | bce: 0.04029 | dice: 0.87112 | 0 cls: 0.11555 | 1 cls: 0.16594 | 2 cls: 0.29259\n"
     ]
    },
    {
     "name": "stderr",
     "output_type": "stream",
     "text": [
      "Epoch 253, lr 0.00017999999999999998: 100% 43/43 [00:15<00:00,  2.82it/s, 0 cls=0.15125, 1 cls=0.22508, 2 cls=0.31691, bce=0.06909, dice=0.86381, loss=0.18996]\n"
     ]
    },
    {
     "name": "stdout",
     "output_type": "stream",
     "text": [
      "loss: 0.14801 | bce: 0.03863 | dice: 0.87140 | 0 cls: 0.11487 | 1 cls: 0.16304 | 2 cls: 0.29155\n"
     ]
    },
    {
     "name": "stderr",
     "output_type": "stream",
     "text": [
      "Epoch 254, lr 0.00017999999999999998: 100% 43/43 [00:15<00:00,  2.81it/s, 0 cls=0.14964, 1 cls=0.22131, 2 cls=0.31415, bce=0.06809, dice=0.86517, loss=0.18759]\n"
     ]
    },
    {
     "name": "stdout",
     "output_type": "stream",
     "text": [
      "loss: 0.14619 | bce: 0.03942 | dice: 0.87395 | 0 cls: 0.11326 | 1 cls: 0.16191 | 2 cls: 0.28662\n"
     ]
    },
    {
     "name": "stderr",
     "output_type": "stream",
     "text": [
      "Epoch 255, lr 0.00017999999999999998: 100% 43/43 [00:15<00:00,  2.82it/s, 0 cls=0.15186, 1 cls=0.22718, 2 cls=0.31925, bce=0.06996, dice=0.86352, loss=0.19120]\n"
     ]
    },
    {
     "name": "stdout",
     "output_type": "stream",
     "text": [
      "loss: 0.14992 | bce: 0.03957 | dice: 0.87050 | 0 cls: 0.11575 | 1 cls: 0.16630 | 2 cls: 0.29317\n"
     ]
    },
    {
     "name": "stderr",
     "output_type": "stream",
     "text": [
      "Epoch 256, lr 0.00017999999999999998: 100% 43/43 [00:15<00:00,  2.83it/s, 0 cls=0.15495, 1 cls=0.22626, 2 cls=0.32259, bce=0.06917, dice=0.86087, loss=0.19310]\n"
     ]
    },
    {
     "name": "stdout",
     "output_type": "stream",
     "text": [
      "loss: 0.14887 | bce: 0.03906 | dice: 0.87092 | 0 cls: 0.11496 | 1 cls: 0.16574 | 2 cls: 0.29142\n"
     ]
    },
    {
     "name": "stderr",
     "output_type": "stream",
     "text": [
      "Epoch 257, lr 0.00017999999999999998: 100% 43/43 [00:15<00:00,  2.81it/s, 0 cls=0.15475, 1 cls=0.23147, 2 cls=0.32209, bce=0.07050, dice=0.86128, loss=0.19450]\n"
     ]
    },
    {
     "name": "stdout",
     "output_type": "stream",
     "text": [
      "loss: 0.14951 | bce: 0.03993 | dice: 0.87088 | 0 cls: 0.11630 | 1 cls: 0.16500 | 2 cls: 0.29241\n"
     ]
    },
    {
     "name": "stderr",
     "output_type": "stream",
     "text": [
      "Epoch 258, lr 0.00017999999999999998: 100% 43/43 [00:15<00:00,  2.74it/s, 0 cls=0.15129, 1 cls=0.22610, 2 cls=0.31855, bce=0.06855, dice=0.86299, loss=0.19046]\n"
     ]
    },
    {
     "name": "stdout",
     "output_type": "stream",
     "text": [
      "loss: 0.15136 | bce: 0.03910 | dice: 0.86863 | 0 cls: 0.11806 | 1 cls: 0.16633 | 2 cls: 0.29540\n"
     ]
    },
    {
     "name": "stderr",
     "output_type": "stream",
     "text": [
      "Epoch 259, lr 0.00017999999999999998: 100% 43/43 [00:15<00:00,  2.82it/s, 0 cls=0.14945, 1 cls=0.22498, 2 cls=0.31717, bce=0.06899, dice=0.86445, loss=0.18888]\n"
     ]
    },
    {
     "name": "stdout",
     "output_type": "stream",
     "text": [
      "loss: 0.14993 | bce: 0.03759 | dice: 0.86844 | 0 cls: 0.11656 | 1 cls: 0.16469 | 2 cls: 0.29477\n"
     ]
    },
    {
     "name": "stderr",
     "output_type": "stream",
     "text": [
      "Epoch 260, lr 0.00017999999999999998: 100% 43/43 [00:15<00:00,  2.82it/s, 0 cls=0.15381, 1 cls=0.22631, 2 cls=0.32040, bce=0.06977, dice=0.86238, loss=0.19222]\n"
     ]
    },
    {
     "name": "stdout",
     "output_type": "stream",
     "text": [
      "loss: 0.14933 | bce: 0.04023 | dice: 0.87113 | 0 cls: 0.11468 | 1 cls: 0.16744 | 2 cls: 0.29278\n"
     ]
    },
    {
     "name": "stderr",
     "output_type": "stream",
     "text": [
      "Epoch 261, lr 0.00017999999999999998: 100% 43/43 [00:15<00:00,  2.83it/s, 0 cls=0.15162, 1 cls=0.22664, 2 cls=0.31763, bce=0.06853, dice=0.86284, loss=0.19073]\n"
     ]
    },
    {
     "name": "stdout",
     "output_type": "stream",
     "text": [
      "loss: 0.14978 | bce: 0.04119 | dice: 0.87158 | 0 cls: 0.11521 | 1 cls: 0.16734 | 2 cls: 0.29324\n"
     ]
    },
    {
     "name": "stderr",
     "output_type": "stream",
     "text": [
      "Epoch 262, lr 0.00017999999999999998: 100% 43/43 [00:15<00:00,  2.82it/s, 0 cls=0.15174, 1 cls=0.22623, 2 cls=0.31978, bce=0.06993, dice=0.86341, loss=0.19089]\n"
     ]
    },
    {
     "name": "stdout",
     "output_type": "stream",
     "text": [
      "loss: 0.14772 | bce: 0.03969 | dice: 0.87271 | 0 cls: 0.11376 | 1 cls: 0.16454 | 2 cls: 0.28983\n"
     ]
    },
    {
     "name": "stderr",
     "output_type": "stream",
     "text": [
      "Epoch 263, lr 0.00017999999999999998: 100% 43/43 [00:15<00:00,  2.82it/s, 0 cls=0.15133, 1 cls=0.22896, 2 cls=0.32167, bce=0.06941, dice=0.86225, loss=0.19166]\n"
     ]
    },
    {
     "name": "stdout",
     "output_type": "stream",
     "text": [
      "loss: 0.14852 | bce: 0.03867 | dice: 0.87099 | 0 cls: 0.11483 | 1 cls: 0.16476 | 2 cls: 0.29095\n"
     ]
    },
    {
     "name": "stderr",
     "output_type": "stream",
     "text": [
      "Epoch 264, lr 0.00017999999999999998: 100% 43/43 [00:15<00:00,  2.83it/s, 0 cls=0.15061, 1 cls=0.22438, 2 cls=0.31655, bce=0.06871, dice=0.86417, loss=0.18934]\n"
     ]
    },
    {
     "name": "stdout",
     "output_type": "stream",
     "text": [
      "loss: 0.14894 | bce: 0.03774 | dice: 0.86971 | 0 cls: 0.11565 | 1 cls: 0.16393 | 2 cls: 0.29143\n"
     ]
    },
    {
     "name": "stderr",
     "output_type": "stream",
     "text": [
      "Epoch 265, lr 0.00017999999999999998: 100% 43/43 [00:15<00:00,  2.84it/s, 0 cls=0.14801, 1 cls=0.22100, 2 cls=0.31195, bce=0.06761, dice=0.86591, loss=0.18630]\n"
     ]
    },
    {
     "name": "stdout",
     "output_type": "stream",
     "text": [
      "loss: 0.14745 | bce: 0.03926 | dice: 0.87242 | 0 cls: 0.11416 | 1 cls: 0.16300 | 2 cls: 0.28843\n"
     ]
    },
    {
     "name": "stderr",
     "output_type": "stream",
     "text": [
      "Epoch 266, lr 0.00017999999999999998: 100% 43/43 [00:15<00:00,  2.83it/s, 0 cls=0.15108, 1 cls=0.22623, 2 cls=0.31566, bce=0.06839, dice=0.86358, loss=0.19008]\n"
     ]
    },
    {
     "name": "stdout",
     "output_type": "stream",
     "text": [
      "loss: 0.14954 | bce: 0.03864 | dice: 0.86998 | 0 cls: 0.11525 | 1 cls: 0.16642 | 2 cls: 0.29385\n"
     ]
    },
    {
     "name": "stderr",
     "output_type": "stream",
     "text": [
      "Epoch 267, lr 0.00017999999999999998: 100% 43/43 [00:15<00:00,  2.81it/s, 0 cls=0.14881, 1 cls=0.22467, 2 cls=0.31371, bce=0.06862, dice=0.86545, loss=0.18806]\n"
     ]
    },
    {
     "name": "stdout",
     "output_type": "stream",
     "text": [
      "loss: 0.14866 | bce: 0.03875 | dice: 0.87098 | 0 cls: 0.11541 | 1 cls: 0.16402 | 2 cls: 0.29184\n"
     ]
    },
    {
     "name": "stderr",
     "output_type": "stream",
     "text": [
      "Epoch 268, lr 0.00017999999999999998: 100% 43/43 [00:15<00:00,  2.73it/s, 0 cls=0.14988, 1 cls=0.22415, 2 cls=0.31562, bce=0.06815, dice=0.86420, loss=0.18874]\n"
     ]
    },
    {
     "name": "stdout",
     "output_type": "stream",
     "text": [
      "loss: 0.14759 | bce: 0.03971 | dice: 0.87295 | 0 cls: 0.11379 | 1 cls: 0.16467 | 2 cls: 0.28749\n"
     ]
    },
    {
     "name": "stderr",
     "output_type": "stream",
     "text": [
      "Epoch 269, lr 0.00017999999999999998: 100% 43/43 [00:15<00:00,  2.82it/s, 0 cls=0.14881, 1 cls=0.22526, 2 cls=0.31600, bce=0.06928, dice=0.86510, loss=0.18846]\n"
     ]
    },
    {
     "name": "stdout",
     "output_type": "stream",
     "text": [
      "loss: 0.14972 | bce: 0.03906 | dice: 0.86993 | 0 cls: 0.11529 | 1 cls: 0.16735 | 2 cls: 0.29347\n"
     ]
    },
    {
     "name": "stderr",
     "output_type": "stream",
     "text": [
      "Epoch 270, lr 0.00017999999999999998: 100% 43/43 [00:15<00:00,  2.83it/s, 0 cls=0.15199, 1 cls=0.22421, 2 cls=0.31771, bce=0.06814, dice=0.86275, loss=0.19023]\n"
     ]
    },
    {
     "name": "stdout",
     "output_type": "stream",
     "text": [
      "loss: 0.14941 | bce: 0.03841 | dice: 0.86972 | 0 cls: 0.11706 | 1 cls: 0.16300 | 2 cls: 0.29364\n"
     ]
    },
    {
     "name": "stderr",
     "output_type": "stream",
     "text": [
      "Epoch 271, lr 0.00017999999999999998: 100% 43/43 [00:15<00:00,  2.82it/s, 0 cls=0.15036, 1 cls=0.22078, 2 cls=0.31514, bce=0.06819, dice=0.86474, loss=0.18796]\n"
     ]
    },
    {
     "name": "stdout",
     "output_type": "stream",
     "text": [
      "loss: 0.14824 | bce: 0.03867 | dice: 0.87138 | 0 cls: 0.11527 | 1 cls: 0.16272 | 2 cls: 0.28997\n"
     ]
    },
    {
     "name": "stderr",
     "output_type": "stream",
     "text": [
      "Epoch 272, lr 0.00017999999999999998: 100% 43/43 [00:15<00:00,  2.83it/s, 0 cls=0.15264, 1 cls=0.22520, 2 cls=0.31865, bce=0.06915, dice=0.86298, loss=0.19101]\n"
     ]
    },
    {
     "name": "stdout",
     "output_type": "stream",
     "text": [
      "loss: 0.15021 | bce: 0.03930 | dice: 0.86977 | 0 cls: 0.11683 | 1 cls: 0.16624 | 2 cls: 0.29205\n"
     ]
    },
    {
     "name": "stderr",
     "output_type": "stream",
     "text": [
      "Epoch 273, lr 0.00017999999999999998: 100% 43/43 [00:15<00:00,  2.82it/s, 0 cls=0.15206, 1 cls=0.22497, 2 cls=0.31936, bce=0.06920, dice=0.86299, loss=0.19066]\n"
     ]
    },
    {
     "name": "stdout",
     "output_type": "stream",
     "text": [
      "loss: 0.14921 | bce: 0.03821 | dice: 0.86998 | 0 cls: 0.11668 | 1 cls: 0.16363 | 2 cls: 0.29147\n"
     ]
    },
    {
     "name": "stderr",
     "output_type": "stream",
     "text": [
      "Epoch 274, lr 0.00017999999999999998: 100% 43/43 [00:15<00:00,  2.83it/s, 0 cls=0.15329, 1 cls=0.22636, 2 cls=0.31994, bce=0.06976, dice=0.86253, loss=0.19187]\n"
     ]
    },
    {
     "name": "stdout",
     "output_type": "stream",
     "text": [
      "loss: 0.14843 | bce: 0.03896 | dice: 0.87164 | 0 cls: 0.11562 | 1 cls: 0.16355 | 2 cls: 0.28874\n"
     ]
    },
    {
     "name": "stderr",
     "output_type": "stream",
     "text": [
      "Epoch 275, lr 0.00017999999999999998: 100% 43/43 [00:15<00:00,  2.83it/s, 0 cls=0.14804, 1 cls=0.22141, 2 cls=0.31117, bce=0.06807, dice=0.86639, loss=0.18637]\n"
     ]
    },
    {
     "name": "stdout",
     "output_type": "stream",
     "text": [
      "loss: 0.14682 | bce: 0.03958 | dice: 0.87361 | 0 cls: 0.11366 | 1 cls: 0.16250 | 2 cls: 0.28686\n"
     ]
    },
    {
     "name": "stderr",
     "output_type": "stream",
     "text": [
      "Epoch 276, lr 0.00017999999999999998: 100% 43/43 [00:15<00:00,  2.82it/s, 0 cls=0.14876, 1 cls=0.22036, 2 cls=0.31441, bce=0.06787, dice=0.86541, loss=0.18681]\n"
     ]
    },
    {
     "name": "stdout",
     "output_type": "stream",
     "text": [
      "loss: 0.14925 | bce: 0.03829 | dice: 0.87029 | 0 cls: 0.11529 | 1 cls: 0.16546 | 2 cls: 0.29114\n"
     ]
    },
    {
     "name": "stderr",
     "output_type": "stream",
     "text": [
      "Epoch 277, lr 0.00017999999999999998: 100% 43/43 [00:15<00:00,  2.83it/s, 0 cls=0.14477, 1 cls=0.21639, 2 cls=0.30817, bce=0.06660, dice=0.86803, loss=0.18260]\n"
     ]
    },
    {
     "name": "stdout",
     "output_type": "stream",
     "text": [
      "loss: 0.15304 | bce: 0.03930 | dice: 0.86723 | 0 cls: 0.11888 | 1 cls: 0.16923 | 2 cls: 0.29808\n"
     ]
    },
    {
     "name": "stderr",
     "output_type": "stream",
     "text": [
      "Epoch 278, lr 0.00017999999999999998: 100% 43/43 [00:15<00:00,  2.75it/s, 0 cls=0.14672, 1 cls=0.22110, 2 cls=0.31075, bce=0.06733, dice=0.86651, loss=0.18544]\n"
     ]
    },
    {
     "name": "stdout",
     "output_type": "stream",
     "text": [
      "loss: 0.15198 | bce: 0.04054 | dice: 0.87021 | 0 cls: 0.11963 | 1 cls: 0.16632 | 2 cls: 0.29079\n"
     ]
    },
    {
     "name": "stderr",
     "output_type": "stream",
     "text": [
      "Epoch 279, lr 0.00017999999999999998: 100% 43/43 [00:15<00:00,  2.81it/s, 0 cls=0.15280, 1 cls=0.22536, 2 cls=0.31787, bce=0.06982, dice=0.86361, loss=0.19108]\n"
     ]
    },
    {
     "name": "stdout",
     "output_type": "stream",
     "text": [
      "loss: 0.15036 | bce: 0.03874 | dice: 0.86931 | 0 cls: 0.11725 | 1 cls: 0.16436 | 2 cls: 0.29566\n"
     ]
    },
    {
     "name": "stderr",
     "output_type": "stream",
     "text": [
      "Epoch 280, lr 0.00017999999999999998: 100% 43/43 [00:15<00:00,  2.83it/s, 0 cls=0.14579, 1 cls=0.21869, 2 cls=0.31182, bce=0.06701, dice=0.86674, loss=0.18427]\n"
     ]
    },
    {
     "name": "stdout",
     "output_type": "stream",
     "text": [
      "loss: 0.14985 | bce: 0.03941 | dice: 0.87036 | 0 cls: 0.11608 | 1 cls: 0.16570 | 2 cls: 0.29341\n"
     ]
    },
    {
     "name": "stderr",
     "output_type": "stream",
     "text": [
      "Epoch 281, lr 0.00017999999999999998: 100% 43/43 [00:15<00:00,  2.82it/s, 0 cls=0.15085, 1 cls=0.22294, 2 cls=0.31393, bce=0.06813, dice=0.86456, loss=0.18879]\n"
     ]
    },
    {
     "name": "stdout",
     "output_type": "stream",
     "text": [
      "loss: 0.15107 | bce: 0.03933 | dice: 0.86929 | 0 cls: 0.11733 | 1 cls: 0.16623 | 2 cls: 0.29523\n"
     ]
    },
    {
     "name": "stderr",
     "output_type": "stream",
     "text": [
      "Epoch 282, lr 0.00017999999999999998: 100% 43/43 [00:15<00:00,  2.82it/s, 0 cls=0.15155, 1 cls=0.22194, 2 cls=0.31646, bce=0.06913, dice=0.86436, loss=0.18916]\n"
     ]
    },
    {
     "name": "stdout",
     "output_type": "stream",
     "text": [
      "loss: 0.15288 | bce: 0.03827 | dice: 0.86651 | 0 cls: 0.11971 | 1 cls: 0.16679 | 2 cls: 0.29827\n"
     ]
    },
    {
     "name": "stderr",
     "output_type": "stream",
     "text": [
      "Epoch 283, lr 0.00017999999999999998: 100% 43/43 [00:15<00:00,  2.83it/s, 0 cls=0.14630, 1 cls=0.22097, 2 cls=0.31247, bce=0.06757, dice=0.86645, loss=0.18532]\n"
     ]
    },
    {
     "name": "stdout",
     "output_type": "stream",
     "text": [
      "loss: 0.14983 | bce: 0.03898 | dice: 0.87017 | 0 cls: 0.11696 | 1 cls: 0.16332 | 2 cls: 0.29323\n"
     ]
    },
    {
     "name": "stderr",
     "output_type": "stream",
     "text": [
      "Epoch 284, lr 0.00017999999999999998: 100% 43/43 [00:15<00:00,  2.82it/s, 0 cls=0.14636, 1 cls=0.21981, 2 cls=0.31125, bce=0.06754, dice=0.86676, loss=0.18488]\n"
     ]
    },
    {
     "name": "stdout",
     "output_type": "stream",
     "text": [
      "loss: 0.14831 | bce: 0.04017 | dice: 0.87334 | 0 cls: 0.11477 | 1 cls: 0.16395 | 2 cls: 0.28773\n"
     ]
    },
    {
     "name": "stderr",
     "output_type": "stream",
     "text": [
      "Epoch 285, lr 0.00017999999999999998: 100% 43/43 [00:15<00:00,  2.84it/s, 0 cls=0.14797, 1 cls=0.22227, 2 cls=0.31309, bce=0.06793, dice=0.86569, loss=0.18677]\n"
     ]
    },
    {
     "name": "stdout",
     "output_type": "stream",
     "text": [
      "loss: 0.14948 | bce: 0.03941 | dice: 0.87120 | 0 cls: 0.11579 | 1 cls: 0.16449 | 2 cls: 0.29196\n"
     ]
    },
    {
     "name": "stderr",
     "output_type": "stream",
     "text": [
      "Epoch 286, lr 0.00017999999999999998: 100% 43/43 [00:15<00:00,  2.84it/s, 0 cls=0.15002, 1 cls=0.22170, 2 cls=0.31313, bce=0.06813, dice=0.86528, loss=0.18783]\n"
     ]
    },
    {
     "name": "stdout",
     "output_type": "stream",
     "text": [
      "loss: 0.14832 | bce: 0.03864 | dice: 0.87182 | 0 cls: 0.11524 | 1 cls: 0.16297 | 2 cls: 0.28924\n"
     ]
    },
    {
     "name": "stderr",
     "output_type": "stream",
     "text": [
      "Epoch 287, lr 0.00017999999999999998: 100% 43/43 [00:15<00:00,  2.83it/s, 0 cls=0.14930, 1 cls=0.22074, 2 cls=0.31535, bce=0.06797, dice=0.86491, loss=0.18734]\n"
     ]
    },
    {
     "name": "stdout",
     "output_type": "stream",
     "text": [
      "loss: 0.14989 | bce: 0.04014 | dice: 0.87133 | 0 cls: 0.11655 | 1 cls: 0.16478 | 2 cls: 0.29298\n"
     ]
    },
    {
     "name": "stderr",
     "output_type": "stream",
     "text": [
      "Epoch 288, lr 0.00017999999999999998: 100% 43/43 [00:15<00:00,  2.75it/s, 0 cls=0.14999, 1 cls=0.22471, 2 cls=0.31609, bce=0.06844, dice=0.86422, loss=0.18901]\n"
     ]
    },
    {
     "name": "stdout",
     "output_type": "stream",
     "text": [
      "loss: 0.14833 | bce: 0.03877 | dice: 0.87139 | 0 cls: 0.11447 | 1 cls: 0.16500 | 2 cls: 0.28956\n"
     ]
    },
    {
     "name": "stderr",
     "output_type": "stream",
     "text": [
      "Epoch 289, lr 0.00017999999999999998: 100% 43/43 [00:15<00:00,  2.82it/s, 0 cls=0.15123, 1 cls=0.22509, 2 cls=0.31620, bce=0.06891, dice=0.86392, loss=0.18988]\n"
     ]
    },
    {
     "name": "stdout",
     "output_type": "stream",
     "text": [
      "loss: 0.14873 | bce: 0.04099 | dice: 0.87280 | 0 cls: 0.11391 | 1 cls: 0.16772 | 2 cls: 0.28958\n"
     ]
    },
    {
     "name": "stderr",
     "output_type": "stream",
     "text": [
      "Epoch 290, lr 0.0008100000000000001: 100% 43/43 [00:15<00:00,  2.84it/s, 0 cls=0.16768, 1 cls=0.24286, 2 cls=0.34126, bce=0.07532, dice=0.85336, loss=0.20759]\n"
     ]
    },
    {
     "name": "stdout",
     "output_type": "stream",
     "text": [
      "loss: 0.15122 | bce: 0.04250 | dice: 0.87202 | 0 cls: 0.11659 | 1 cls: 0.16955 | 2 cls: 0.29247\n"
     ]
    },
    {
     "name": "stderr",
     "output_type": "stream",
     "text": [
      "Epoch 291, lr 0.0008100000000000001: 100% 43/43 [00:15<00:00,  2.84it/s, 0 cls=0.16746, 1 cls=0.24481, 2 cls=0.34343, bce=0.07596, dice=0.85293, loss=0.20826]\n"
     ]
    },
    {
     "name": "stdout",
     "output_type": "stream",
     "text": [
      "loss: 0.15092 | bce: 0.03928 | dice: 0.86940 | 0 cls: 0.11562 | 1 cls: 0.16977 | 2 cls: 0.29508\n"
     ]
    },
    {
     "name": "stderr",
     "output_type": "stream",
     "text": [
      "Epoch 292, lr 0.000243: 100% 43/43 [00:15<00:00,  2.83it/s, 0 cls=0.15778, 1 cls=0.23261, 2 cls=0.32704, bce=0.07199, dice=0.85981, loss=0.19715]\n"
     ]
    },
    {
     "name": "stdout",
     "output_type": "stream",
     "text": [
      "loss: 0.14999 | bce: 0.04008 | dice: 0.87031 | 0 cls: 0.11685 | 1 cls: 0.16551 | 2 cls: 0.29281\n"
     ]
    },
    {
     "name": "stderr",
     "output_type": "stream",
     "text": [
      "Epoch 293, lr 0.000243: 100% 43/43 [00:15<00:00,  2.83it/s, 0 cls=0.15682, 1 cls=0.22925, 2 cls=0.32487, bce=0.07112, dice=0.86056, loss=0.19535]\n"
     ]
    },
    {
     "name": "stdout",
     "output_type": "stream",
     "text": [
      "loss: 0.15055 | bce: 0.03931 | dice: 0.86965 | 0 cls: 0.11559 | 1 cls: 0.16870 | 2 cls: 0.29230\n"
     ]
    },
    {
     "name": "stderr",
     "output_type": "stream",
     "text": [
      "Epoch 294, lr 7.29e-05: 100% 43/43 [00:15<00:00,  2.82it/s, 0 cls=0.15279, 1 cls=0.22278, 2 cls=0.31892, bce=0.06898, dice=0.86301, loss=0.19040]\n"
     ]
    },
    {
     "name": "stdout",
     "output_type": "stream",
     "text": [
      "loss: 0.14909 | bce: 0.03913 | dice: 0.87073 | 0 cls: 0.11461 | 1 cls: 0.16610 | 2 cls: 0.29275\n"
     ]
    },
    {
     "name": "stderr",
     "output_type": "stream",
     "text": [
      "Epoch 295, lr 0.0008100000000000001: 100% 43/43 [00:15<00:00,  2.83it/s, 0 cls=0.16101, 1 cls=0.23671, 2 cls=0.33375, bce=0.07398, dice=0.85782, loss=0.20100]\n"
     ]
    },
    {
     "name": "stdout",
     "output_type": "stream",
     "text": [
      "loss: 0.15543 | bce: 0.04216 | dice: 0.86709 | 0 cls: 0.11858 | 1 cls: 0.17544 | 2 cls: 0.30250\n"
     ]
    },
    {
     "name": "stderr",
     "output_type": "stream",
     "text": [
      "Epoch 296, lr 0.0008100000000000001: 100% 43/43 [00:15<00:00,  2.83it/s, 0 cls=0.17972, 1 cls=0.25430, 2 cls=0.35724, bce=0.08014, dice=0.84630, loss=0.21985]\n"
     ]
    },
    {
     "name": "stdout",
     "output_type": "stream",
     "text": [
      "loss: 0.15035 | bce: 0.04004 | dice: 0.86999 | 0 cls: 0.11671 | 1 cls: 0.16510 | 2 cls: 0.29473\n"
     ]
    },
    {
     "name": "stderr",
     "output_type": "stream",
     "text": [
      "Epoch 297, lr 0.000243: 100% 43/43 [00:15<00:00,  2.84it/s, 0 cls=0.16839, 1 cls=0.24512, 2 cls=0.34124, bce=0.07464, dice=0.85193, loss=0.20869]\n"
     ]
    },
    {
     "name": "stdout",
     "output_type": "stream",
     "text": [
      "loss: 0.15118 | bce: 0.03897 | dice: 0.86834 | 0 cls: 0.11510 | 1 cls: 0.16995 | 2 cls: 0.29671\n"
     ]
    },
    {
     "name": "stderr",
     "output_type": "stream",
     "text": [
      "Epoch 298, lr 0.000243: 100% 43/43 [00:15<00:00,  2.74it/s, 0 cls=0.15911, 1 cls=0.23310, 2 cls=0.32878, bce=0.07220, dice=0.85879, loss=0.19827]\n"
     ]
    },
    {
     "name": "stdout",
     "output_type": "stream",
     "text": [
      "loss: 0.14771 | bce: 0.03774 | dice: 0.87121 | 0 cls: 0.11422 | 1 cls: 0.16289 | 2 cls: 0.29063\n"
     ]
    },
    {
     "name": "stderr",
     "output_type": "stream",
     "text": [
      "Epoch 299, lr 7.29e-05: 100% 43/43 [00:15<00:00,  2.84it/s, 0 cls=0.15645, 1 cls=0.23117, 2 cls=0.32446, bce=0.07053, dice=0.86011, loss=0.19566]\n"
     ]
    },
    {
     "name": "stdout",
     "output_type": "stream",
     "text": [
      "loss: 0.14746 | bce: 0.03918 | dice: 0.87252 | 0 cls: 0.11300 | 1 cls: 0.16469 | 2 cls: 0.28959\n"
     ]
    },
    {
     "name": "stderr",
     "output_type": "stream",
     "text": [
      "Epoch 300, lr 0.00010799999999999998: 100% 43/43 [00:15<00:00,  2.82it/s, 0 cls=0.15628, 1 cls=0.22911, 2 cls=0.32208, bce=0.07053, dice=0.86116, loss=0.19471]\n"
     ]
    },
    {
     "name": "stdout",
     "output_type": "stream",
     "text": [
      "loss: 0.14995 | bce: 0.03940 | dice: 0.87004 | 0 cls: 0.11486 | 1 cls: 0.16731 | 2 cls: 0.29453\n"
     ]
    },
    {
     "name": "stderr",
     "output_type": "stream",
     "text": [
      "Epoch 301, lr 0.00010799999999999998: 100% 43/43 [00:15<00:00,  2.83it/s, 0 cls=0.15543, 1 cls=0.23011, 2 cls=0.32503, bce=0.07117, dice=0.86105, loss=0.19479]\n"
     ]
    },
    {
     "name": "stdout",
     "output_type": "stream",
     "text": [
      "loss: 0.14849 | bce: 0.03820 | dice: 0.87077 | 0 cls: 0.11476 | 1 cls: 0.16400 | 2 cls: 0.29119\n"
     ]
    },
    {
     "name": "stderr",
     "output_type": "stream",
     "text": [
      "Epoch 302, lr 0.00010799999999999998: 100% 43/43 [00:15<00:00,  2.82it/s, 0 cls=0.15017, 1 cls=0.22273, 2 cls=0.31656, bce=0.06789, dice=0.86388, loss=0.18858]\n"
     ]
    },
    {
     "name": "stdout",
     "output_type": "stream",
     "text": [
      "loss: 0.14929 | bce: 0.03871 | dice: 0.87036 | 0 cls: 0.11523 | 1 cls: 0.16506 | 2 cls: 0.29356\n"
     ]
    },
    {
     "name": "stderr",
     "output_type": "stream",
     "text": [
      "Epoch 303, lr 0.00010799999999999998: 100% 43/43 [00:15<00:00,  2.83it/s, 0 cls=0.15101, 1 cls=0.22596, 2 cls=0.31576, bce=0.06875, dice=0.86384, loss=0.18997]\n"
     ]
    },
    {
     "name": "stdout",
     "output_type": "stream",
     "text": [
      "loss: 0.14914 | bce: 0.03870 | dice: 0.87052 | 0 cls: 0.11482 | 1 cls: 0.16515 | 2 cls: 0.29292\n"
     ]
    },
    {
     "name": "stderr",
     "output_type": "stream",
     "text": [
      "Epoch 304, lr 0.00010799999999999998: 100% 43/43 [00:15<00:00,  2.82it/s, 0 cls=0.14919, 1 cls=0.22135, 2 cls=0.31365, bce=0.06793, dice=0.86539, loss=0.18728]\n"
     ]
    },
    {
     "name": "stdout",
     "output_type": "stream",
     "text": [
      "loss: 0.14826 | bce: 0.03857 | dice: 0.87122 | 0 cls: 0.11435 | 1 cls: 0.16413 | 2 cls: 0.29128\n"
     ]
    },
    {
     "name": "stderr",
     "output_type": "stream",
     "text": [
      "Epoch 305, lr 0.00010799999999999998: 100% 43/43 [00:15<00:00,  2.83it/s, 0 cls=0.15236, 1 cls=0.22785, 2 cls=0.32061, bce=0.06862, dice=0.86169, loss=0.19183]\n"
     ]
    },
    {
     "name": "stdout",
     "output_type": "stream",
     "text": [
      "loss: 0.14775 | bce: 0.03785 | dice: 0.87130 | 0 cls: 0.11385 | 1 cls: 0.16393 | 2 cls: 0.29014\n"
     ]
    },
    {
     "name": "stderr",
     "output_type": "stream",
     "text": [
      "Epoch 306, lr 0.00010799999999999998: 100% 43/43 [00:15<00:00,  2.83it/s, 0 cls=0.14892, 1 cls=0.22136, 2 cls=0.31337, bce=0.06803, dice=0.86550, loss=0.18710]\n"
     ]
    },
    {
     "name": "stdout",
     "output_type": "stream",
     "text": [
      "loss: 0.14803 | bce: 0.03776 | dice: 0.87108 | 0 cls: 0.11412 | 1 cls: 0.16426 | 2 cls: 0.28989\n"
     ]
    },
    {
     "name": "stderr",
     "output_type": "stream",
     "text": [
      "Epoch 307, lr 0.00010799999999999998: 100% 43/43 [00:15<00:00,  2.74it/s, 0 cls=0.14987, 1 cls=0.22444, 2 cls=0.31548, bce=0.06903, dice=0.86497, loss=0.18880]\n"
     ]
    },
    {
     "name": "stdout",
     "output_type": "stream",
     "text": [
      "loss: 0.14919 | bce: 0.03825 | dice: 0.87013 | 0 cls: 0.11520 | 1 cls: 0.16552 | 2 cls: 0.29158\n"
     ]
    },
    {
     "name": "stderr",
     "output_type": "stream",
     "text": [
      "Epoch 308, lr 0.00010799999999999998: 100% 43/43 [00:15<00:00,  2.83it/s, 0 cls=0.15275, 1 cls=0.22534, 2 cls=0.31788, bce=0.06860, dice=0.86265, loss=0.19104]\n"
     ]
    },
    {
     "name": "stdout",
     "output_type": "stream",
     "text": [
      "loss: 0.14743 | bce: 0.03887 | dice: 0.87253 | 0 cls: 0.11413 | 1 cls: 0.16305 | 2 cls: 0.28794\n"
     ]
    },
    {
     "name": "stderr",
     "output_type": "stream",
     "text": [
      "Epoch 309, lr 0.00010799999999999998: 100% 43/43 [00:15<00:00,  2.82it/s, 0 cls=0.14896, 1 cls=0.22178, 2 cls=0.31467, bce=0.06883, dice=0.86569, loss=0.18738]\n"
     ]
    },
    {
     "name": "stdout",
     "output_type": "stream",
     "text": [
      "loss: 0.14852 | bce: 0.03886 | dice: 0.87117 | 0 cls: 0.11485 | 1 cls: 0.16451 | 2 cls: 0.29100\n"
     ]
    },
    {
     "name": "stderr",
     "output_type": "stream",
     "text": [
      "Epoch 310, lr 0.00010799999999999998: 100% 43/43 [00:15<00:00,  2.83it/s, 0 cls=0.15112, 1 cls=0.22452, 2 cls=0.31657, bce=0.06888, dice=0.86414, loss=0.18968]\n"
     ]
    },
    {
     "name": "stdout",
     "output_type": "stream",
     "text": [
      "loss: 0.14927 | bce: 0.03899 | dice: 0.87057 | 0 cls: 0.11499 | 1 cls: 0.16585 | 2 cls: 0.29233\n"
     ]
    },
    {
     "name": "stderr",
     "output_type": "stream",
     "text": [
      "Epoch 311, lr 0.00010799999999999998: 100% 43/43 [00:15<00:00,  2.83it/s, 0 cls=0.15119, 1 cls=0.22245, 2 cls=0.31603, bce=0.06842, dice=0.86403, loss=0.18905]\n"
     ]
    },
    {
     "name": "stdout",
     "output_type": "stream",
     "text": [
      "loss: 0.14886 | bce: 0.03883 | dice: 0.87075 | 0 cls: 0.11447 | 1 cls: 0.16606 | 2 cls: 0.29137\n"
     ]
    },
    {
     "name": "stderr",
     "output_type": "stream",
     "text": [
      "Epoch 312, lr 0.00010799999999999998: 100% 43/43 [00:15<00:00,  2.84it/s, 0 cls=0.15115, 1 cls=0.22684, 2 cls=0.31775, bce=0.06937, dice=0.86375, loss=0.19051]\n"
     ]
    },
    {
     "name": "stdout",
     "output_type": "stream",
     "text": [
      "loss: 0.14986 | bce: 0.03820 | dice: 0.86931 | 0 cls: 0.11593 | 1 cls: 0.16586 | 2 cls: 0.29367\n"
     ]
    },
    {
     "name": "stderr",
     "output_type": "stream",
     "text": [
      "Epoch 313, lr 0.00010799999999999998: 100% 43/43 [00:15<00:00,  2.84it/s, 0 cls=0.14854, 1 cls=0.22000, 2 cls=0.31058, bce=0.06826, dice=0.86681, loss=0.18618]\n"
     ]
    },
    {
     "name": "stdout",
     "output_type": "stream",
     "text": [
      "loss: 0.14802 | bce: 0.03824 | dice: 0.87133 | 0 cls: 0.11435 | 1 cls: 0.16437 | 2 cls: 0.28904\n"
     ]
    },
    {
     "name": "stderr",
     "output_type": "stream",
     "text": [
      "Epoch 314, lr 0.00010799999999999998: 100% 43/43 [00:15<00:00,  2.82it/s, 0 cls=0.14786, 1 cls=0.22004, 2 cls=0.31053, bce=0.06667, dice=0.86579, loss=0.18578]\n"
     ]
    },
    {
     "name": "stdout",
     "output_type": "stream",
     "text": [
      "loss: 0.14781 | bce: 0.03914 | dice: 0.87228 | 0 cls: 0.11399 | 1 cls: 0.16427 | 2 cls: 0.28883\n"
     ]
    },
    {
     "name": "stderr",
     "output_type": "stream",
     "text": [
      "Epoch 315, lr 0.00010799999999999998: 100% 43/43 [00:15<00:00,  2.82it/s, 0 cls=0.14933, 1 cls=0.22166, 2 cls=0.31400, bce=0.06806, dice=0.86513, loss=0.18750]\n"
     ]
    },
    {
     "name": "stdout",
     "output_type": "stream",
     "text": [
      "loss: 0.14909 | bce: 0.03930 | dice: 0.87112 | 0 cls: 0.11474 | 1 cls: 0.16633 | 2 cls: 0.29099\n"
     ]
    },
    {
     "name": "stderr",
     "output_type": "stream",
     "text": [
      "Epoch 316, lr 0.00010799999999999998: 100% 43/43 [00:15<00:00,  2.83it/s, 0 cls=0.15167, 1 cls=0.22133, 2 cls=0.31397, bce=0.06852, dice=0.86469, loss=0.18880]\n"
     ]
    },
    {
     "name": "stdout",
     "output_type": "stream",
     "text": [
      "loss: 0.14913 | bce: 0.03883 | dice: 0.87055 | 0 cls: 0.11479 | 1 cls: 0.16632 | 2 cls: 0.29198\n"
     ]
    },
    {
     "name": "stderr",
     "output_type": "stream",
     "text": [
      "Epoch 317, lr 0.00010799999999999998: 100% 43/43 [00:15<00:00,  2.75it/s, 0 cls=0.14771, 1 cls=0.22099, 2 cls=0.31145, bce=0.06865, dice=0.86717, loss=0.18607]\n"
     ]
    },
    {
     "name": "stdout",
     "output_type": "stream",
     "text": [
      "loss: 0.14893 | bce: 0.03907 | dice: 0.87109 | 0 cls: 0.11418 | 1 cls: 0.16681 | 2 cls: 0.29052\n"
     ]
    },
    {
     "name": "stderr",
     "output_type": "stream",
     "text": [
      "Epoch 318, lr 0.00010799999999999998: 100% 43/43 [00:15<00:00,  2.84it/s, 0 cls=0.14992, 1 cls=0.22214, 2 cls=0.31491, bce=0.06834, dice=0.86488, loss=0.18808]\n"
     ]
    },
    {
     "name": "stdout",
     "output_type": "stream",
     "text": [
      "loss: 0.14909 | bce: 0.03950 | dice: 0.87120 | 0 cls: 0.11470 | 1 cls: 0.16647 | 2 cls: 0.29095\n"
     ]
    },
    {
     "name": "stderr",
     "output_type": "stream",
     "text": [
      "Epoch 319, lr 0.00010799999999999998: 100% 43/43 [00:15<00:00,  2.82it/s, 0 cls=0.14777, 1 cls=0.22284, 2 cls=0.31243, bce=0.06826, dice=0.86628, loss=0.18676]\n"
     ]
    },
    {
     "name": "stdout",
     "output_type": "stream",
     "text": [
      "loss: 0.14916 | bce: 0.03905 | dice: 0.87080 | 0 cls: 0.11491 | 1 cls: 0.16588 | 2 cls: 0.29168\n"
     ]
    },
    {
     "name": "stderr",
     "output_type": "stream",
     "text": [
      "Epoch 320, lr 0.00010799999999999998: 100% 43/43 [00:15<00:00,  2.82it/s, 0 cls=0.15091, 1 cls=0.22450, 2 cls=0.31551, bce=0.06871, dice=0.86417, loss=0.18945]\n"
     ]
    },
    {
     "name": "stdout",
     "output_type": "stream",
     "text": [
      "loss: 0.14838 | bce: 0.03873 | dice: 0.87138 | 0 cls: 0.11437 | 1 cls: 0.16508 | 2 cls: 0.29026\n"
     ]
    },
    {
     "name": "stderr",
     "output_type": "stream",
     "text": [
      "Epoch 321, lr 0.00010799999999999998: 100% 43/43 [00:15<00:00,  2.83it/s, 0 cls=0.15073, 1 cls=0.22200, 2 cls=0.31772, bce=0.06861, dice=0.86407, loss=0.18881]\n"
     ]
    },
    {
     "name": "stdout",
     "output_type": "stream",
     "text": [
      "loss: 0.15257 | bce: 0.04014 | dice: 0.86859 | 0 cls: 0.11682 | 1 cls: 0.17113 | 2 cls: 0.29728\n"
     ]
    },
    {
     "name": "stderr",
     "output_type": "stream",
     "text": [
      "Epoch 322, lr 0.00010799999999999998: 100% 43/43 [00:15<00:00,  2.82it/s, 0 cls=0.15031, 1 cls=0.22238, 2 cls=0.31433, bce=0.06751, dice=0.86404, loss=0.18833]\n"
     ]
    },
    {
     "name": "stdout",
     "output_type": "stream",
     "text": [
      "loss: 0.14689 | bce: 0.03915 | dice: 0.87291 | 0 cls: 0.11393 | 1 cls: 0.16218 | 2 cls: 0.28803\n"
     ]
    },
    {
     "name": "stderr",
     "output_type": "stream",
     "text": [
      "Epoch 323, lr 0.00010799999999999998: 100% 43/43 [00:15<00:00,  2.83it/s, 0 cls=0.14812, 1 cls=0.21902, 2 cls=0.31013, bce=0.06761, dice=0.86676, loss=0.18559]\n"
     ]
    },
    {
     "name": "stdout",
     "output_type": "stream",
     "text": [
      "loss: 0.14869 | bce: 0.03917 | dice: 0.87122 | 0 cls: 0.11421 | 1 cls: 0.16662 | 2 cls: 0.29049\n"
     ]
    },
    {
     "name": "stderr",
     "output_type": "stream",
     "text": [
      "Epoch 324, lr 0.00010799999999999998: 100% 43/43 [00:15<00:00,  2.82it/s, 0 cls=0.14738, 1 cls=0.22116, 2 cls=0.31159, bce=0.06779, dice=0.86649, loss=0.18594]\n"
     ]
    },
    {
     "name": "stdout",
     "output_type": "stream",
     "text": [
      "loss: 0.14786 | bce: 0.03962 | dice: 0.87258 | 0 cls: 0.11397 | 1 cls: 0.16502 | 2 cls: 0.28845\n"
     ]
    },
    {
     "name": "stderr",
     "output_type": "stream",
     "text": [
      "Epoch 325, lr 0.00010799999999999998: 100% 43/43 [00:15<00:00,  2.82it/s, 0 cls=0.14694, 1 cls=0.22086, 2 cls=0.31004, bce=0.06762, dice=0.86697, loss=0.18543]\n"
     ]
    },
    {
     "name": "stdout",
     "output_type": "stream",
     "text": [
      "loss: 0.14970 | bce: 0.03928 | dice: 0.87029 | 0 cls: 0.11606 | 1 cls: 0.16567 | 2 cls: 0.29307\n"
     ]
    },
    {
     "name": "stderr",
     "output_type": "stream",
     "text": [
      "Epoch 326, lr 0.00010799999999999998: 100% 43/43 [00:15<00:00,  2.83it/s, 0 cls=0.14465, 1 cls=0.21626, 2 cls=0.30726, bce=0.06672, dice=0.86851, loss=0.18239]\n"
     ]
    },
    {
     "name": "stdout",
     "output_type": "stream",
     "text": [
      "loss: 0.15103 | bce: 0.03964 | dice: 0.86940 | 0 cls: 0.11609 | 1 cls: 0.16886 | 2 cls: 0.29515\n"
     ]
    },
    {
     "name": "stderr",
     "output_type": "stream",
     "text": [
      "Epoch 327, lr 0.00010799999999999998: 100% 43/43 [00:15<00:00,  2.73it/s, 0 cls=0.14474, 1 cls=0.21664, 2 cls=0.30661, bce=0.06679, dice=0.86871, loss=0.18250]\n"
     ]
    },
    {
     "name": "stdout",
     "output_type": "stream",
     "text": [
      "loss: 0.14964 | bce: 0.03997 | dice: 0.87121 | 0 cls: 0.11587 | 1 cls: 0.16523 | 2 cls: 0.29290\n"
     ]
    },
    {
     "name": "stderr",
     "output_type": "stream",
     "text": [
      "Epoch 328, lr 0.00010799999999999998: 100% 43/43 [00:15<00:00,  2.83it/s, 0 cls=0.14893, 1 cls=0.22035, 2 cls=0.31227, bce=0.06791, dice=0.86585, loss=0.18669]\n"
     ]
    },
    {
     "name": "stdout",
     "output_type": "stream",
     "text": [
      "loss: 0.14924 | bce: 0.03898 | dice: 0.87035 | 0 cls: 0.11512 | 1 cls: 0.16615 | 2 cls: 0.29255\n"
     ]
    },
    {
     "name": "stderr",
     "output_type": "stream",
     "text": [
      "Epoch 329, lr 0.00010799999999999998: 100% 43/43 [00:15<00:00,  2.83it/s, 0 cls=0.14825, 1 cls=0.22277, 2 cls=0.31171, bce=0.06761, dice=0.86567, loss=0.18695]\n"
     ]
    },
    {
     "name": "stdout",
     "output_type": "stream",
     "text": [
      "loss: 0.14904 | bce: 0.03906 | dice: 0.87094 | 0 cls: 0.11519 | 1 cls: 0.16578 | 2 cls: 0.29134\n"
     ]
    },
    {
     "name": "stderr",
     "output_type": "stream",
     "text": [
      "Epoch 330, lr 0.00010799999999999998: 100% 43/43 [00:15<00:00,  2.83it/s, 0 cls=0.15062, 1 cls=0.22179, 2 cls=0.31528, bce=0.06842, dice=0.86458, loss=0.18844]\n"
     ]
    },
    {
     "name": "stdout",
     "output_type": "stream",
     "text": [
      "loss: 0.14731 | bce: 0.03883 | dice: 0.87248 | 0 cls: 0.11480 | 1 cls: 0.16198 | 2 cls: 0.28793\n"
     ]
    },
    {
     "name": "stderr",
     "output_type": "stream",
     "text": [
      "Epoch 331, lr 0.00010799999999999998: 100% 43/43 [00:15<00:00,  2.84it/s, 0 cls=0.14809, 1 cls=0.22195, 2 cls=0.31374, bce=0.06809, dice=0.86566, loss=0.18681]\n"
     ]
    },
    {
     "name": "stdout",
     "output_type": "stream",
     "text": [
      "loss: 0.15094 | bce: 0.03928 | dice: 0.86906 | 0 cls: 0.11795 | 1 cls: 0.16521 | 2 cls: 0.29595\n"
     ]
    },
    {
     "name": "stderr",
     "output_type": "stream",
     "text": [
      "Epoch 332, lr 0.00010799999999999998: 100% 43/43 [00:15<00:00,  2.83it/s, 0 cls=0.14840, 1 cls=0.22287, 2 cls=0.31362, bce=0.06794, dice=0.86532, loss=0.18726]\n"
     ]
    },
    {
     "name": "stdout",
     "output_type": "stream",
     "text": [
      "loss: 0.14820 | bce: 0.03904 | dice: 0.87146 | 0 cls: 0.11560 | 1 cls: 0.16278 | 2 cls: 0.29165\n"
     ]
    },
    {
     "name": "stderr",
     "output_type": "stream",
     "text": [
      "Epoch 333, lr 0.00010799999999999998: 100% 43/43 [00:15<00:00,  2.82it/s, 0 cls=0.14785, 1 cls=0.22181, 2 cls=0.31413, bce=0.06779, dice=0.86541, loss=0.18667]\n"
     ]
    },
    {
     "name": "stdout",
     "output_type": "stream",
     "text": [
      "loss: 0.14863 | bce: 0.03881 | dice: 0.87116 | 0 cls: 0.11467 | 1 cls: 0.16495 | 2 cls: 0.29087\n"
     ]
    },
    {
     "name": "stderr",
     "output_type": "stream",
     "text": [
      "Epoch 334, lr 0.00010799999999999998: 100% 43/43 [00:15<00:00,  2.83it/s, 0 cls=0.15016, 1 cls=0.22354, 2 cls=0.31700, bce=0.06844, dice=0.86401, loss=0.18886]\n"
     ]
    },
    {
     "name": "stdout",
     "output_type": "stream",
     "text": [
      "loss: 0.15023 | bce: 0.04068 | dice: 0.87091 | 0 cls: 0.11534 | 1 cls: 0.16856 | 2 cls: 0.29372\n"
     ]
    },
    {
     "name": "stderr",
     "output_type": "stream",
     "text": [
      "Epoch 335, lr 0.00010799999999999998: 100% 43/43 [00:15<00:00,  2.82it/s, 0 cls=0.14805, 1 cls=0.22196, 2 cls=0.31317, bce=0.06757, dice=0.86542, loss=0.18673]\n"
     ]
    },
    {
     "name": "stdout",
     "output_type": "stream",
     "text": [
      "loss: 0.14783 | bce: 0.03860 | dice: 0.87179 | 0 cls: 0.11505 | 1 cls: 0.16203 | 2 cls: 0.28980\n"
     ]
    },
    {
     "name": "stderr",
     "output_type": "stream",
     "text": [
      "Epoch 336, lr 0.00010799999999999998: 100% 43/43 [00:15<00:00,  2.83it/s, 0 cls=0.15031, 1 cls=0.22198, 2 cls=0.31308, bce=0.06756, dice=0.86497, loss=0.18809]\n"
     ]
    },
    {
     "name": "stdout",
     "output_type": "stream",
     "text": [
      "loss: 0.14880 | bce: 0.03854 | dice: 0.87078 | 0 cls: 0.11541 | 1 cls: 0.16378 | 2 cls: 0.29144\n"
     ]
    },
    {
     "name": "stderr",
     "output_type": "stream",
     "text": [
      "Epoch 337, lr 0.00010799999999999998: 100% 43/43 [00:15<00:00,  2.83it/s, 0 cls=0.14667, 1 cls=0.21930, 2 cls=0.30920, bce=0.06741, dice=0.86727, loss=0.18471]\n"
     ]
    },
    {
     "name": "stdout",
     "output_type": "stream",
     "text": [
      "loss: 0.14877 | bce: 0.03778 | dice: 0.87009 | 0 cls: 0.11565 | 1 cls: 0.16409 | 2 cls: 0.29119\n"
     ]
    },
    {
     "name": "stderr",
     "output_type": "stream",
     "text": [
      "Epoch 338, lr 0.00010799999999999998: 100% 43/43 [00:15<00:00,  2.71it/s, 0 cls=0.14573, 1 cls=0.21855, 2 cls=0.30964, bce=0.06725, dice=0.86771, loss=0.18397]\n"
     ]
    },
    {
     "name": "stdout",
     "output_type": "stream",
     "text": [
      "loss: 0.14731 | bce: 0.03839 | dice: 0.87201 | 0 cls: 0.11450 | 1 cls: 0.16233 | 2 cls: 0.28841\n"
     ]
    },
    {
     "name": "stderr",
     "output_type": "stream",
     "text": [
      "Epoch 339, lr 0.00010799999999999998: 100% 43/43 [00:15<00:00,  2.82it/s, 0 cls=0.15406, 1 cls=0.22533, 2 cls=0.31819, bce=0.06932, dice=0.86277, loss=0.19186]\n"
     ]
    },
    {
     "name": "stdout",
     "output_type": "stream",
     "text": [
      "loss: 0.14900 | bce: 0.03789 | dice: 0.86958 | 0 cls: 0.11630 | 1 cls: 0.16367 | 2 cls: 0.29196\n"
     ]
    },
    {
     "name": "stderr",
     "output_type": "stream",
     "text": [
      "Epoch 340, lr 0.00010799999999999998: 100% 43/43 [00:15<00:00,  2.83it/s, 0 cls=0.14616, 1 cls=0.21795, 2 cls=0.30927, bce=0.06662, dice=0.86714, loss=0.18401]\n"
     ]
    },
    {
     "name": "stdout",
     "output_type": "stream",
     "text": [
      "loss: 0.15008 | bce: 0.03862 | dice: 0.86908 | 0 cls: 0.11753 | 1 cls: 0.16386 | 2 cls: 0.29494\n"
     ]
    },
    {
     "name": "stderr",
     "output_type": "stream",
     "text": [
      "Epoch 341, lr 0.00010799999999999998: 100% 43/43 [00:15<00:00,  2.83it/s, 0 cls=0.14610, 1 cls=0.21768, 2 cls=0.30899, bce=0.06662, dice=0.86731, loss=0.18386]\n"
     ]
    },
    {
     "name": "stdout",
     "output_type": "stream",
     "text": [
      "loss: 0.14720 | bce: 0.03976 | dice: 0.87323 | 0 cls: 0.11382 | 1 cls: 0.16441 | 2 cls: 0.28642\n"
     ]
    },
    {
     "name": "stderr",
     "output_type": "stream",
     "text": [
      "Epoch 342, lr 0.00010799999999999998: 100% 43/43 [00:15<00:00,  2.83it/s, 0 cls=0.14834, 1 cls=0.22302, 2 cls=0.31173, bce=0.06772, dice=0.86599, loss=0.18708]\n"
     ]
    },
    {
     "name": "stdout",
     "output_type": "stream",
     "text": [
      "loss: 0.14951 | bce: 0.03868 | dice: 0.87028 | 0 cls: 0.11565 | 1 cls: 0.16711 | 2 cls: 0.29077\n"
     ]
    },
    {
     "name": "stderr",
     "output_type": "stream",
     "text": [
      "Epoch 343, lr 0.00010799999999999998: 100% 43/43 [00:15<00:00,  2.83it/s, 0 cls=0.14650, 1 cls=0.21570, 2 cls=0.30806, bce=0.06714, dice=0.86803, loss=0.18341]\n"
     ]
    },
    {
     "name": "stdout",
     "output_type": "stream",
     "text": [
      "loss: 0.14876 | bce: 0.03844 | dice: 0.87048 | 0 cls: 0.11600 | 1 cls: 0.16449 | 2 cls: 0.29001\n"
     ]
    },
    {
     "name": "stderr",
     "output_type": "stream",
     "text": [
      "Epoch 344, lr 0.00010799999999999998: 100% 43/43 [00:15<00:00,  2.80it/s, 0 cls=0.14651, 1 cls=0.21829, 2 cls=0.30768, bce=0.06714, dice=0.86772, loss=0.18416]\n"
     ]
    },
    {
     "name": "stdout",
     "output_type": "stream",
     "text": [
      "loss: 0.14806 | bce: 0.03797 | dice: 0.87099 | 0 cls: 0.11515 | 1 cls: 0.16421 | 2 cls: 0.28841\n"
     ]
    },
    {
     "name": "stderr",
     "output_type": "stream",
     "text": [
      "Epoch 345, lr 0.00010799999999999998: 100% 43/43 [00:15<00:00,  2.82it/s, 0 cls=0.14499, 1 cls=0.21408, 2 cls=0.30470, bce=0.06641, dice=0.86928, loss=0.18169]\n"
     ]
    },
    {
     "name": "stdout",
     "output_type": "stream",
     "text": [
      "loss: 0.14958 | bce: 0.03814 | dice: 0.86929 | 0 cls: 0.11679 | 1 cls: 0.16490 | 2 cls: 0.29277\n"
     ]
    },
    {
     "name": "stderr",
     "output_type": "stream",
     "text": [
      "Epoch 346, lr 0.00010799999999999998: 100% 43/43 [00:15<00:00,  2.82it/s, 0 cls=0.14670, 1 cls=0.21888, 2 cls=0.30941, bce=0.06694, dice=0.86695, loss=0.18462]\n"
     ]
    },
    {
     "name": "stdout",
     "output_type": "stream",
     "text": [
      "loss: 0.14891 | bce: 0.03930 | dice: 0.87111 | 0 cls: 0.11509 | 1 cls: 0.16631 | 2 cls: 0.29087\n"
     ]
    },
    {
     "name": "stderr",
     "output_type": "stream",
     "text": [
      "Epoch 347, lr 0.00010799999999999998: 100% 43/43 [00:15<00:00,  2.83it/s, 0 cls=0.14781, 1 cls=0.22144, 2 cls=0.31191, bce=0.06752, dice=0.86598, loss=0.18631]\n"
     ]
    },
    {
     "name": "stdout",
     "output_type": "stream",
     "text": [
      "loss: 0.14943 | bce: 0.03947 | dice: 0.87052 | 0 cls: 0.11518 | 1 cls: 0.16735 | 2 cls: 0.29189\n"
     ]
    },
    {
     "name": "stderr",
     "output_type": "stream",
     "text": [
      "Epoch 348, lr 0.00010799999999999998: 100% 43/43 [00:15<00:00,  2.83it/s, 0 cls=0.14651, 1 cls=0.22067, 2 cls=0.31114, bce=0.06718, dice=0.86636, loss=0.18522]\n"
     ]
    },
    {
     "name": "stdout",
     "output_type": "stream",
     "text": [
      "loss: 0.14650 | bce: 0.03897 | dice: 0.87327 | 0 cls: 0.11341 | 1 cls: 0.16327 | 2 cls: 0.28609\n"
     ]
    },
    {
     "name": "stderr",
     "output_type": "stream",
     "text": [
      "Epoch 349, lr 0.00010799999999999998: 100% 43/43 [00:15<00:00,  2.72it/s, 0 cls=0.14618, 1 cls=0.21854, 2 cls=0.30831, bce=0.06711, dice=0.86768, loss=0.18410]\n"
     ]
    },
    {
     "name": "stdout",
     "output_type": "stream",
     "text": [
      "loss: 0.15015 | bce: 0.03735 | dice: 0.86787 | 0 cls: 0.11783 | 1 cls: 0.16465 | 2 cls: 0.29452\n"
     ]
    },
    {
     "name": "stderr",
     "output_type": "stream",
     "text": [
      "Epoch 350, lr 0.00010799999999999998: 100% 43/43 [00:15<00:00,  2.83it/s, 0 cls=0.14350, 1 cls=0.21646, 2 cls=0.30561, bce=0.06584, dice=0.86861, loss=0.18160]\n"
     ]
    },
    {
     "name": "stdout",
     "output_type": "stream",
     "text": [
      "loss: 0.14721 | bce: 0.03920 | dice: 0.87253 | 0 cls: 0.11446 | 1 cls: 0.16295 | 2 cls: 0.28859\n"
     ]
    },
    {
     "name": "stderr",
     "output_type": "stream",
     "text": [
      "Epoch 351, lr 0.00010799999999999998: 100% 43/43 [00:15<00:00,  2.82it/s, 0 cls=0.14523, 1 cls=0.21583, 2 cls=0.30620, bce=0.06687, dice=0.86881, loss=0.18250]\n"
     ]
    },
    {
     "name": "stdout",
     "output_type": "stream",
     "text": [
      "loss: 0.14810 | bce: 0.03825 | dice: 0.87073 | 0 cls: 0.11507 | 1 cls: 0.16394 | 2 cls: 0.29049\n"
     ]
    },
    {
     "name": "stderr",
     "output_type": "stream",
     "text": [
      "Epoch 352, lr 0.00010799999999999998: 100% 43/43 [00:15<00:00,  2.83it/s, 0 cls=0.14729, 1 cls=0.22188, 2 cls=0.31073, bce=0.06724, dice=0.86619, loss=0.18601]\n"
     ]
    },
    {
     "name": "stdout",
     "output_type": "stream",
     "text": [
      "loss: 0.14874 | bce: 0.03929 | dice: 0.87114 | 0 cls: 0.11530 | 1 cls: 0.16499 | 2 cls: 0.29151\n"
     ]
    },
    {
     "name": "stderr",
     "output_type": "stream",
     "text": [
      "Epoch 353, lr 0.00010799999999999998: 100% 43/43 [00:15<00:00,  2.82it/s, 0 cls=0.14181, 1 cls=0.21526, 2 cls=0.30215, bce=0.06601, dice=0.87065, loss=0.17988]\n"
     ]
    },
    {
     "name": "stdout",
     "output_type": "stream",
     "text": [
      "loss: 0.14847 | bce: 0.03907 | dice: 0.87140 | 0 cls: 0.11540 | 1 cls: 0.16396 | 2 cls: 0.29026\n"
     ]
    },
    {
     "name": "stderr",
     "output_type": "stream",
     "text": [
      "Epoch 354, lr 0.00010799999999999998: 100% 43/43 [00:15<00:00,  2.83it/s, 0 cls=0.14839, 1 cls=0.21973, 2 cls=0.31243, bce=0.06817, dice=0.86640, loss=0.18620]\n"
     ]
    },
    {
     "name": "stdout",
     "output_type": "stream",
     "text": [
      "loss: 0.14944 | bce: 0.03863 | dice: 0.86982 | 0 cls: 0.11616 | 1 cls: 0.16551 | 2 cls: 0.29179\n"
     ]
    },
    {
     "name": "stderr",
     "output_type": "stream",
     "text": [
      "Epoch 355, lr 0.00010799999999999998: 100% 43/43 [00:15<00:00,  2.82it/s, 0 cls=0.14694, 1 cls=0.22091, 2 cls=0.31105, bce=0.06708, dice=0.86617, loss=0.18554]\n"
     ]
    },
    {
     "name": "stdout",
     "output_type": "stream",
     "text": [
      "loss: 0.14679 | bce: 0.03981 | dice: 0.87331 | 0 cls: 0.11377 | 1 cls: 0.16320 | 2 cls: 0.28753\n"
     ]
    },
    {
     "name": "stderr",
     "output_type": "stream",
     "text": [
      "Epoch 356, lr 0.00010799999999999998: 100% 43/43 [00:15<00:00,  2.81it/s, 0 cls=0.14777, 1 cls=0.22098, 2 cls=0.31221, bce=0.06791, dice=0.86619, loss=0.18618]\n"
     ]
    },
    {
     "name": "stdout",
     "output_type": "stream",
     "text": [
      "loss: 0.14716 | bce: 0.03897 | dice: 0.87249 | 0 cls: 0.11448 | 1 cls: 0.16273 | 2 cls: 0.28752\n"
     ]
    },
    {
     "name": "stderr",
     "output_type": "stream",
     "text": [
      "Epoch 357, lr 0.00010799999999999998: 100% 43/43 [00:15<00:00,  2.81it/s, 0 cls=0.14817, 1 cls=0.22021, 2 cls=0.31150, bce=0.06716, dice=0.86592, loss=0.18612]\n"
     ]
    },
    {
     "name": "stdout",
     "output_type": "stream",
     "text": [
      "loss: 0.14983 | bce: 0.03960 | dice: 0.87039 | 0 cls: 0.11595 | 1 cls: 0.16675 | 2 cls: 0.29377\n"
     ]
    },
    {
     "name": "stderr",
     "output_type": "stream",
     "text": [
      "Epoch 358, lr 0.00010799999999999998: 100% 43/43 [00:15<00:00,  2.83it/s, 0 cls=0.14566, 1 cls=0.21883, 2 cls=0.30909, bce=0.06737, dice=0.86776, loss=0.18395]\n"
     ]
    },
    {
     "name": "stdout",
     "output_type": "stream",
     "text": [
      "loss: 0.14949 | bce: 0.03875 | dice: 0.86991 | 0 cls: 0.11661 | 1 cls: 0.16441 | 2 cls: 0.29401\n"
     ]
    },
    {
     "name": "stderr",
     "output_type": "stream",
     "text": [
      "Epoch 359, lr 0.00010799999999999998: 100% 43/43 [00:15<00:00,  2.77it/s, 0 cls=0.14392, 1 cls=0.21759, 2 cls=0.30790, bce=0.06641, dice=0.86818, loss=0.18242]\n"
     ]
    },
    {
     "name": "stdout",
     "output_type": "stream",
     "text": [
      "loss: 0.15029 | bce: 0.03894 | dice: 0.86935 | 0 cls: 0.11628 | 1 cls: 0.16697 | 2 cls: 0.29446\n"
     ]
    },
    {
     "name": "stderr",
     "output_type": "stream",
     "text": [
      "Epoch 360, lr 0.00010799999999999998: 100% 43/43 [00:15<00:00,  2.78it/s, 0 cls=0.14449, 1 cls=0.21535, 2 cls=0.30585, bce=0.06635, dice=0.86895, loss=0.18188]\n"
     ]
    },
    {
     "name": "stdout",
     "output_type": "stream",
     "text": [
      "loss: 0.14759 | bce: 0.03936 | dice: 0.87260 | 0 cls: 0.11415 | 1 cls: 0.16419 | 2 cls: 0.28838\n"
     ]
    },
    {
     "name": "stderr",
     "output_type": "stream",
     "text": [
      "Epoch 361, lr 0.00010799999999999998: 100% 43/43 [00:15<00:00,  2.83it/s, 0 cls=0.14526, 1 cls=0.21890, 2 cls=0.30749, bce=0.06664, dice=0.86781, loss=0.18358]\n"
     ]
    },
    {
     "name": "stdout",
     "output_type": "stream",
     "text": [
      "loss: 0.14851 | bce: 0.03948 | dice: 0.87187 | 0 cls: 0.11506 | 1 cls: 0.16513 | 2 cls: 0.28950\n"
     ]
    },
    {
     "name": "stderr",
     "output_type": "stream",
     "text": [
      "Epoch 362, lr 0.00010799999999999998: 100% 43/43 [00:15<00:00,  2.82it/s, 0 cls=0.14471, 1 cls=0.21753, 2 cls=0.30541, bce=0.06633, dice=0.86841, loss=0.18263]\n"
     ]
    },
    {
     "name": "stdout",
     "output_type": "stream",
     "text": [
      "loss: 0.14839 | bce: 0.03943 | dice: 0.87228 | 0 cls: 0.11561 | 1 cls: 0.16457 | 2 cls: 0.28770\n"
     ]
    },
    {
     "name": "stderr",
     "output_type": "stream",
     "text": [
      "Epoch 363, lr 0.00010799999999999998: 100% 43/43 [00:15<00:00,  2.84it/s, 0 cls=0.14402, 1 cls=0.21808, 2 cls=0.30700, bce=0.06638, dice=0.86847, loss=0.18254]\n"
     ]
    },
    {
     "name": "stdout",
     "output_type": "stream",
     "text": [
      "loss: 0.14746 | bce: 0.03859 | dice: 0.87210 | 0 cls: 0.11430 | 1 cls: 0.16363 | 2 cls: 0.28791\n"
     ]
    },
    {
     "name": "stderr",
     "output_type": "stream",
     "text": [
      "Epoch 364, lr 0.00010799999999999998: 100% 43/43 [00:15<00:00,  2.83it/s, 0 cls=0.14097, 1 cls=0.21178, 2 cls=0.30102, bce=0.06477, dice=0.87089, loss=0.17822]\n"
     ]
    },
    {
     "name": "stdout",
     "output_type": "stream",
     "text": [
      "loss: 0.15045 | bce: 0.03858 | dice: 0.86902 | 0 cls: 0.11717 | 1 cls: 0.16542 | 2 cls: 0.29511\n"
     ]
    },
    {
     "name": "stderr",
     "output_type": "stream",
     "text": [
      "Epoch 365, lr 0.00010799999999999998: 100% 43/43 [00:15<00:00,  2.83it/s, 0 cls=0.14241, 1 cls=0.21696, 2 cls=0.30462, bce=0.06623, dice=0.86962, loss=0.18100]\n"
     ]
    },
    {
     "name": "stdout",
     "output_type": "stream",
     "text": [
      "loss: 0.14845 | bce: 0.04030 | dice: 0.87263 | 0 cls: 0.11449 | 1 cls: 0.16526 | 2 cls: 0.29000\n"
     ]
    },
    {
     "name": "stderr",
     "output_type": "stream",
     "text": [
      "Epoch 366, lr 0.00010799999999999998: 100% 43/43 [00:15<00:00,  2.82it/s, 0 cls=0.14506, 1 cls=0.21563, 2 cls=0.30715, bce=0.06671, dice=0.86861, loss=0.18244]\n"
     ]
    },
    {
     "name": "stdout",
     "output_type": "stream",
     "text": [
      "loss: 0.14895 | bce: 0.03948 | dice: 0.87108 | 0 cls: 0.11602 | 1 cls: 0.16401 | 2 cls: 0.29239\n"
     ]
    },
    {
     "name": "stderr",
     "output_type": "stream",
     "text": [
      "Epoch 367, lr 0.00010799999999999998: 100% 43/43 [00:15<00:00,  2.82it/s, 0 cls=0.14801, 1 cls=0.22226, 2 cls=0.31291, bce=0.06822, dice=0.86597, loss=0.18678]\n"
     ]
    },
    {
     "name": "stdout",
     "output_type": "stream",
     "text": [
      "loss: 0.14934 | bce: 0.03882 | dice: 0.87028 | 0 cls: 0.11592 | 1 cls: 0.16484 | 2 cls: 0.29307\n"
     ]
    },
    {
     "name": "stderr",
     "output_type": "stream",
     "text": [
      "Epoch 368, lr 0.00010799999999999998: 100% 43/43 [00:15<00:00,  2.83it/s, 0 cls=0.14892, 1 cls=0.22217, 2 cls=0.31282, bce=0.06784, dice=0.86549, loss=0.18729]\n"
     ]
    },
    {
     "name": "stdout",
     "output_type": "stream",
     "text": [
      "loss: 0.14878 | bce: 0.03809 | dice: 0.87019 | 0 cls: 0.11584 | 1 cls: 0.16425 | 2 cls: 0.29078\n"
     ]
    },
    {
     "name": "stderr",
     "output_type": "stream",
     "text": [
      "Epoch 369, lr 0.00010799999999999998: 100% 43/43 [00:15<00:00,  2.81it/s, 0 cls=0.15444, 1 cls=0.22520, 2 cls=0.31916, bce=0.06975, dice=0.86258, loss=0.19214]\n"
     ]
    },
    {
     "name": "stdout",
     "output_type": "stream",
     "text": [
      "loss: 0.14974 | bce: 0.03924 | dice: 0.87026 | 0 cls: 0.11666 | 1 cls: 0.16512 | 2 cls: 0.29318\n"
     ]
    },
    {
     "name": "stderr",
     "output_type": "stream",
     "text": [
      "Epoch 370, lr 0.00010799999999999998: 100% 43/43 [00:15<00:00,  2.72it/s, 0 cls=0.14467, 1 cls=0.21922, 2 cls=0.30785, bce=0.06670, dice=0.86782, loss=0.18336]\n"
     ]
    },
    {
     "name": "stdout",
     "output_type": "stream",
     "text": [
      "loss: 0.15021 | bce: 0.03882 | dice: 0.86933 | 0 cls: 0.11720 | 1 cls: 0.16504 | 2 cls: 0.29522\n"
     ]
    },
    {
     "name": "stderr",
     "output_type": "stream",
     "text": [
      "Epoch 371, lr 0.00010799999999999998: 100% 43/43 [00:15<00:00,  2.82it/s, 0 cls=0.14563, 1 cls=0.21773, 2 cls=0.30789, bce=0.06653, dice=0.86769, loss=0.18348]\n"
     ]
    },
    {
     "name": "stdout",
     "output_type": "stream",
     "text": [
      "loss: 0.14848 | bce: 0.03825 | dice: 0.87045 | 0 cls: 0.11568 | 1 cls: 0.16363 | 2 cls: 0.29120\n"
     ]
    },
    {
     "name": "stderr",
     "output_type": "stream",
     "text": [
      "Epoch 372, lr 0.00010799999999999998: 100% 43/43 [00:15<00:00,  2.81it/s, 0 cls=0.14682, 1 cls=0.21821, 2 cls=0.30901, bce=0.06739, dice=0.86740, loss=0.18446]\n"
     ]
    },
    {
     "name": "stdout",
     "output_type": "stream",
     "text": [
      "loss: 0.14970 | bce: 0.03847 | dice: 0.86957 | 0 cls: 0.11684 | 1 cls: 0.16437 | 2 cls: 0.29381\n"
     ]
    },
    {
     "name": "stderr",
     "output_type": "stream",
     "text": [
      "Epoch 373, lr 0.00010799999999999998: 100% 43/43 [00:15<00:00,  2.82it/s, 0 cls=0.14854, 1 cls=0.21871, 2 cls=0.31252, bce=0.06815, dice=0.86661, loss=0.18599]\n"
     ]
    },
    {
     "name": "stdout",
     "output_type": "stream",
     "text": [
      "loss: 0.15060 | bce: 0.03958 | dice: 0.86969 | 0 cls: 0.11824 | 1 cls: 0.16380 | 2 cls: 0.29534\n"
     ]
    },
    {
     "name": "stderr",
     "output_type": "stream",
     "text": [
      "Epoch 374, lr 0.00010799999999999998: 100% 43/43 [00:15<00:00,  2.83it/s, 0 cls=0.14296, 1 cls=0.21447, 2 cls=0.30574, bce=0.06621, dice=0.86952, loss=0.18069]\n"
     ]
    },
    {
     "name": "stdout",
     "output_type": "stream",
     "text": [
      "loss: 0.14882 | bce: 0.03906 | dice: 0.87097 | 0 cls: 0.11607 | 1 cls: 0.16338 | 2 cls: 0.29240\n"
     ]
    },
    {
     "name": "stderr",
     "output_type": "stream",
     "text": [
      "Epoch 375, lr 0.00010799999999999998: 100% 43/43 [00:15<00:00,  2.82it/s, 0 cls=0.14096, 1 cls=0.21244, 2 cls=0.30077, bce=0.06503, dice=0.87103, loss=0.17839]\n"
     ]
    },
    {
     "name": "stdout",
     "output_type": "stream",
     "text": [
      "loss: 0.15029 | bce: 0.03944 | dice: 0.86970 | 0 cls: 0.11632 | 1 cls: 0.16662 | 2 cls: 0.29517\n"
     ]
    },
    {
     "name": "stderr",
     "output_type": "stream",
     "text": [
      "Epoch 376, lr 0.00010799999999999998: 100% 43/43 [00:15<00:00,  2.82it/s, 0 cls=0.14475, 1 cls=0.21674, 2 cls=0.30506, bce=0.06607, dice=0.86863, loss=0.18238]\n"
     ]
    },
    {
     "name": "stdout",
     "output_type": "stream",
     "text": [
      "loss: 0.14974 | bce: 0.03922 | dice: 0.86995 | 0 cls: 0.11676 | 1 cls: 0.16530 | 2 cls: 0.29366\n"
     ]
    },
    {
     "name": "stderr",
     "output_type": "stream",
     "text": [
      "Epoch 377, lr 0.00010799999999999998: 100% 43/43 [00:15<00:00,  2.82it/s, 0 cls=0.14341, 1 cls=0.21649, 2 cls=0.30493, bce=0.06599, dice=0.86896, loss=0.18149]\n"
     ]
    },
    {
     "name": "stdout",
     "output_type": "stream",
     "text": [
      "loss: 0.14775 | bce: 0.03997 | dice: 0.87282 | 0 cls: 0.11539 | 1 cls: 0.16247 | 2 cls: 0.28953\n"
     ]
    },
    {
     "name": "stderr",
     "output_type": "stream",
     "text": [
      "Epoch 378, lr 0.00010799999999999998: 100% 43/43 [00:15<00:00,  2.83it/s, 0 cls=0.14168, 1 cls=0.21303, 2 cls=0.30193, bce=0.06574, dice=0.87090, loss=0.17911]\n"
     ]
    },
    {
     "name": "stdout",
     "output_type": "stream",
     "text": [
      "loss: 0.14822 | bce: 0.03876 | dice: 0.87109 | 0 cls: 0.11547 | 1 cls: 0.16342 | 2 cls: 0.29154\n"
     ]
    },
    {
     "name": "stderr",
     "output_type": "stream",
     "text": [
      "Epoch 379, lr 0.00010799999999999998: 100% 43/43 [00:15<00:00,  2.82it/s, 0 cls=0.14485, 1 cls=0.21760, 2 cls=0.30753, bce=0.06619, dice=0.86782, loss=0.18294]\n"
     ]
    },
    {
     "name": "stdout",
     "output_type": "stream",
     "text": [
      "loss: 0.14852 | bce: 0.03986 | dice: 0.87156 | 0 cls: 0.11511 | 1 cls: 0.16538 | 2 cls: 0.29150\n"
     ]
    },
    {
     "name": "stderr",
     "output_type": "stream",
     "text": [
      "Epoch 380, lr 0.00010799999999999998: 100% 43/43 [00:15<00:00,  2.72it/s, 0 cls=0.14677, 1 cls=0.22128, 2 cls=0.30909, bce=0.06787, dice=0.86754, loss=0.18535]\n"
     ]
    },
    {
     "name": "stdout",
     "output_type": "stream",
     "text": [
      "loss: 0.15038 | bce: 0.03770 | dice: 0.86823 | 0 cls: 0.11826 | 1 cls: 0.16431 | 2 cls: 0.29420\n"
     ]
    },
    {
     "name": "stderr",
     "output_type": "stream",
     "text": [
      "Epoch 381, lr 0.00010799999999999998: 100% 43/43 [00:15<00:00,  2.84it/s, 0 cls=0.14285, 1 cls=0.21569, 2 cls=0.30433, bce=0.06599, dice=0.86957, loss=0.18085]\n"
     ]
    },
    {
     "name": "stdout",
     "output_type": "stream",
     "text": [
      "loss: 0.15087 | bce: 0.03852 | dice: 0.86852 | 0 cls: 0.11814 | 1 cls: 0.16554 | 2 cls: 0.29442\n"
     ]
    },
    {
     "name": "stderr",
     "output_type": "stream",
     "text": [
      "Epoch 382, lr 0.00010799999999999998: 100% 43/43 [00:15<00:00,  2.81it/s, 0 cls=0.14332, 1 cls=0.21668, 2 cls=0.30564, bce=0.06613, dice=0.86891, loss=0.18156]\n"
     ]
    },
    {
     "name": "stdout",
     "output_type": "stream",
     "text": [
      "loss: 0.14757 | bce: 0.03843 | dice: 0.87160 | 0 cls: 0.11496 | 1 cls: 0.16265 | 2 cls: 0.28949\n"
     ]
    },
    {
     "name": "stderr",
     "output_type": "stream",
     "text": [
      "Epoch 383, lr 0.00010799999999999998: 100% 43/43 [00:15<00:00,  2.83it/s, 0 cls=0.14333, 1 cls=0.21371, 2 cls=0.30597, bce=0.06632, dice=0.86945, loss=0.18071]\n"
     ]
    },
    {
     "name": "stdout",
     "output_type": "stream",
     "text": [
      "loss: 0.15100 | bce: 0.03813 | dice: 0.86788 | 0 cls: 0.11898 | 1 cls: 0.16323 | 2 cls: 0.29821\n"
     ]
    },
    {
     "name": "stderr",
     "output_type": "stream",
     "text": [
      "Epoch 384, lr 0.00010799999999999998: 100% 43/43 [00:15<00:00,  2.83it/s, 0 cls=0.14512, 1 cls=0.21676, 2 cls=0.30677, bce=0.06649, dice=0.86846, loss=0.18278]\n"
     ]
    },
    {
     "name": "stdout",
     "output_type": "stream",
     "text": [
      "loss: 0.14872 | bce: 0.03971 | dice: 0.87153 | 0 cls: 0.11531 | 1 cls: 0.16500 | 2 cls: 0.29126\n"
     ]
    },
    {
     "name": "stderr",
     "output_type": "stream",
     "text": [
      "Epoch 385, lr 0.00010799999999999998: 100% 43/43 [00:15<00:00,  2.82it/s, 0 cls=0.14447, 1 cls=0.21649, 2 cls=0.30556, bce=0.06705, dice=0.86926, loss=0.18218]\n"
     ]
    },
    {
     "name": "stdout",
     "output_type": "stream",
     "text": [
      "loss: 0.15059 | bce: 0.03903 | dice: 0.86924 | 0 cls: 0.11743 | 1 cls: 0.16544 | 2 cls: 0.29462\n"
     ]
    },
    {
     "name": "stderr",
     "output_type": "stream",
     "text": [
      "Epoch 386, lr 0.00010799999999999998: 100% 43/43 [00:15<00:00,  2.84it/s, 0 cls=0.14456, 1 cls=0.21958, 2 cls=0.30763, bce=0.06603, dice=0.86750, loss=0.18338]\n"
     ]
    },
    {
     "name": "stdout",
     "output_type": "stream",
     "text": [
      "loss: 0.14949 | bce: 0.03848 | dice: 0.86970 | 0 cls: 0.11664 | 1 cls: 0.16421 | 2 cls: 0.29307\n"
     ]
    },
    {
     "name": "stderr",
     "output_type": "stream",
     "text": [
      "Epoch 387, lr 0.00010799999999999998: 100% 43/43 [00:15<00:00,  2.81it/s, 0 cls=0.13844, 1 cls=0.20975, 2 cls=0.29689, bce=0.06458, dice=0.87318, loss=0.17568]\n"
     ]
    },
    {
     "name": "stdout",
     "output_type": "stream",
     "text": [
      "loss: 0.14909 | bce: 0.03927 | dice: 0.87093 | 0 cls: 0.11557 | 1 cls: 0.16489 | 2 cls: 0.29188\n"
     ]
    },
    {
     "name": "stderr",
     "output_type": "stream",
     "text": [
      "Epoch 388, lr 0.00010799999999999998: 100% 43/43 [00:15<00:00,  2.83it/s, 0 cls=0.14243, 1 cls=0.21514, 2 cls=0.30292, bce=0.06569, dice=0.86997, loss=0.18029]\n"
     ]
    },
    {
     "name": "stdout",
     "output_type": "stream",
     "text": [
      "loss: 0.14925 | bce: 0.03880 | dice: 0.87017 | 0 cls: 0.11585 | 1 cls: 0.16550 | 2 cls: 0.29222\n"
     ]
    },
    {
     "name": "stderr",
     "output_type": "stream",
     "text": [
      "Epoch 389, lr 0.00010799999999999998: 100% 43/43 [00:15<00:00,  2.83it/s, 0 cls=0.14418, 1 cls=0.21627, 2 cls=0.30613, bce=0.06640, dice=0.86873, loss=0.18200]\n"
     ]
    },
    {
     "name": "stdout",
     "output_type": "stream",
     "text": [
      "loss: 0.14745 | bce: 0.03876 | dice: 0.87213 | 0 cls: 0.11478 | 1 cls: 0.16268 | 2 cls: 0.28810\n"
     ]
    },
    {
     "name": "stderr",
     "output_type": "stream",
     "text": [
      "Epoch 390, lr 0.0007290000000000002: 100% 43/43 [00:15<00:00,  2.75it/s, 0 cls=0.17235, 1 cls=0.23978, 2 cls=0.34804, bce=0.07488, dice=0.84997, loss=0.21015]\n"
     ]
    },
    {
     "name": "stdout",
     "output_type": "stream",
     "text": [
      "loss: 0.15411 | bce: 0.03840 | dice: 0.86598 | 0 cls: 0.11923 | 1 cls: 0.17127 | 2 cls: 0.29716\n"
     ]
    },
    {
     "name": "stderr",
     "output_type": "stream",
     "text": [
      "Epoch 391, lr 0.0007290000000000002: 100% 43/43 [00:15<00:00,  2.82it/s, 0 cls=0.17121, 1 cls=0.24380, 2 cls=0.33999, bce=0.07512, dice=0.85193, loss=0.20986]\n"
     ]
    },
    {
     "name": "stdout",
     "output_type": "stream",
     "text": [
      "loss: 0.15058 | bce: 0.03912 | dice: 0.86910 | 0 cls: 0.11455 | 1 cls: 0.17080 | 2 cls: 0.29439\n"
     ]
    },
    {
     "name": "stderr",
     "output_type": "stream",
     "text": [
      "Epoch 392, lr 0.00021870000000000003: 100% 43/43 [00:15<00:00,  2.84it/s, 0 cls=0.15717, 1 cls=0.22971, 2 cls=0.32426, bce=0.07038, dice=0.85992, loss=0.19564]\n"
     ]
    },
    {
     "name": "stdout",
     "output_type": "stream",
     "text": [
      "loss: 0.14815 | bce: 0.04127 | dice: 0.87334 | 0 cls: 0.11375 | 1 cls: 0.16609 | 2 cls: 0.28921\n"
     ]
    },
    {
     "name": "stderr",
     "output_type": "stream",
     "text": [
      "Epoch 393, lr 0.00021870000000000003: 100% 43/43 [00:15<00:00,  2.83it/s, 0 cls=0.15388, 1 cls=0.22713, 2 cls=0.31947, bce=0.06980, dice=0.86260, loss=0.19241]\n"
     ]
    },
    {
     "name": "stdout",
     "output_type": "stream",
     "text": [
      "loss: 0.14653 | bce: 0.03909 | dice: 0.87321 | 0 cls: 0.11235 | 1 cls: 0.16468 | 2 cls: 0.28704\n"
     ]
    },
    {
     "name": "stderr",
     "output_type": "stream",
     "text": [
      "Epoch 394, lr 6.561000000000002e-05: 100% 43/43 [00:15<00:00,  2.83it/s, 0 cls=0.14573, 1 cls=0.21851, 2 cls=0.30889, bce=0.06731, dice=0.86780, loss=0.18388]\n"
     ]
    },
    {
     "name": "stdout",
     "output_type": "stream",
     "text": [
      "loss: 0.14878 | bce: 0.03812 | dice: 0.87010 | 0 cls: 0.11470 | 1 cls: 0.16623 | 2 cls: 0.29158\n"
     ]
    },
    {
     "name": "stderr",
     "output_type": "stream",
     "text": [
      "Epoch 395, lr 0.0007290000000000002: 100% 43/43 [00:15<00:00,  2.82it/s, 0 cls=0.16244, 1 cls=0.23414, 2 cls=0.33259, bce=0.07382, dice=0.85782, loss=0.20096]\n"
     ]
    },
    {
     "name": "stdout",
     "output_type": "stream",
     "text": [
      "loss: 0.15194 | bce: 0.03823 | dice: 0.86690 | 0 cls: 0.11868 | 1 cls: 0.16674 | 2 cls: 0.29755\n"
     ]
    },
    {
     "name": "stderr",
     "output_type": "stream",
     "text": [
      "Epoch 396, lr 0.0007290000000000002: 100% 43/43 [00:15<00:00,  2.82it/s, 0 cls=0.16992, 1 cls=0.23991, 2 cls=0.34189, bce=0.07541, dice=0.85276, loss=0.20811]\n"
     ]
    },
    {
     "name": "stdout",
     "output_type": "stream",
     "text": [
      "loss: 0.15092 | bce: 0.04208 | dice: 0.87251 | 0 cls: 0.11675 | 1 cls: 0.16763 | 2 cls: 0.29295\n"
     ]
    },
    {
     "name": "stderr",
     "output_type": "stream",
     "text": [
      "Epoch 397, lr 0.00021870000000000003: 100% 43/43 [00:15<00:00,  2.84it/s, 0 cls=0.15598, 1 cls=0.22899, 2 cls=0.32243, bce=0.07045, dice=0.86103, loss=0.19453]\n"
     ]
    },
    {
     "name": "stdout",
     "output_type": "stream",
     "text": [
      "loss: 0.14948 | bce: 0.03949 | dice: 0.87118 | 0 cls: 0.11493 | 1 cls: 0.16581 | 2 cls: 0.29304\n"
     ]
    },
    {
     "name": "stderr",
     "output_type": "stream",
     "text": [
      "Epoch 398, lr 0.00021870000000000003: 100% 43/43 [00:15<00:00,  2.83it/s, 0 cls=0.15197, 1 cls=0.22516, 2 cls=0.31857, bce=0.06919, dice=0.86320, loss=0.19059]\n"
     ]
    },
    {
     "name": "stdout",
     "output_type": "stream",
     "text": [
      "loss: 0.15002 | bce: 0.03943 | dice: 0.87037 | 0 cls: 0.11560 | 1 cls: 0.16733 | 2 cls: 0.29195\n"
     ]
    },
    {
     "name": "stderr",
     "output_type": "stream",
     "text": [
      "Epoch 399, lr 6.561000000000002e-05: 100% 43/43 [00:15<00:00,  2.81it/s, 0 cls=0.15134, 1 cls=0.22347, 2 cls=0.31499, bce=0.06845, dice=0.86418, loss=0.18935]\n"
     ]
    },
    {
     "name": "stdout",
     "output_type": "stream",
     "text": [
      "loss: 0.14870 | bce: 0.03931 | dice: 0.87191 | 0 cls: 0.11479 | 1 cls: 0.16554 | 2 cls: 0.28928\n"
     ]
    },
    {
     "name": "stderr",
     "output_type": "stream",
     "text": [
      "Epoch 400, lr 6.48e-05: 100% 43/43 [00:15<00:00,  2.71it/s, 0 cls=0.14770, 1 cls=0.21988, 2 cls=0.30840, bce=0.06700, dice=0.86678, loss=0.18542]\n"
     ]
    },
    {
     "name": "stdout",
     "output_type": "stream",
     "text": [
      "loss: 0.14893 | bce: 0.03956 | dice: 0.87169 | 0 cls: 0.11504 | 1 cls: 0.16532 | 2 cls: 0.29123\n"
     ]
    },
    {
     "name": "stderr",
     "output_type": "stream",
     "text": [
      "Epoch 401, lr 6.48e-05: 100% 43/43 [00:15<00:00,  2.83it/s, 0 cls=0.14723, 1 cls=0.21757, 2 cls=0.30906, bce=0.06730, dice=0.86738, loss=0.18452]\n"
     ]
    },
    {
     "name": "stdout",
     "output_type": "stream",
     "text": [
      "loss: 0.14910 | bce: 0.03903 | dice: 0.87099 | 0 cls: 0.11543 | 1 cls: 0.16549 | 2 cls: 0.29133\n"
     ]
    },
    {
     "name": "stderr",
     "output_type": "stream",
     "text": [
      "Epoch 402, lr 6.48e-05: 100% 43/43 [00:15<00:00,  2.83it/s, 0 cls=0.15102, 1 cls=0.22366, 2 cls=0.31435, bce=0.06890, dice=0.86484, loss=0.18915]\n"
     ]
    },
    {
     "name": "stdout",
     "output_type": "stream",
     "text": [
      "loss: 0.14898 | bce: 0.03899 | dice: 0.87098 | 0 cls: 0.11515 | 1 cls: 0.16566 | 2 cls: 0.29062\n"
     ]
    },
    {
     "name": "stderr",
     "output_type": "stream",
     "text": [
      "Epoch 403, lr 6.48e-05: 100% 43/43 [00:15<00:00,  2.82it/s, 0 cls=0.14716, 1 cls=0.21976, 2 cls=0.30983, bce=0.06736, dice=0.86676, loss=0.18521]\n"
     ]
    },
    {
     "name": "stdout",
     "output_type": "stream",
     "text": [
      "loss: 0.14900 | bce: 0.03858 | dice: 0.87053 | 0 cls: 0.11483 | 1 cls: 0.16606 | 2 cls: 0.29188\n"
     ]
    },
    {
     "name": "stderr",
     "output_type": "stream",
     "text": [
      "Epoch 404, lr 6.48e-05: 100% 43/43 [00:15<00:00,  2.83it/s, 0 cls=0.14628, 1 cls=0.21845, 2 cls=0.30905, bce=0.06688, dice=0.86733, loss=0.18421]\n"
     ]
    },
    {
     "name": "stdout",
     "output_type": "stream",
     "text": [
      "loss: 0.14935 | bce: 0.03936 | dice: 0.87080 | 0 cls: 0.11532 | 1 cls: 0.16606 | 2 cls: 0.29237\n"
     ]
    },
    {
     "name": "stderr",
     "output_type": "stream",
     "text": [
      "Epoch 405, lr 6.48e-05: 100% 43/43 [00:15<00:00,  2.84it/s, 0 cls=0.14569, 1 cls=0.21933, 2 cls=0.30841, bce=0.06763, dice=0.86816, loss=0.18406]\n"
     ]
    },
    {
     "name": "stdout",
     "output_type": "stream",
     "text": [
      "loss: 0.14998 | bce: 0.03891 | dice: 0.86986 | 0 cls: 0.11605 | 1 cls: 0.16631 | 2 cls: 0.29338\n"
     ]
    },
    {
     "name": "stderr",
     "output_type": "stream",
     "text": [
      "Epoch 406, lr 6.48e-05: 100% 43/43 [00:15<00:00,  2.82it/s, 0 cls=0.14614, 1 cls=0.21555, 2 cls=0.30777, bce=0.06681, dice=0.86830, loss=0.18313]\n"
     ]
    },
    {
     "name": "stdout",
     "output_type": "stream",
     "text": [
      "loss: 0.14840 | bce: 0.03917 | dice: 0.87189 | 0 cls: 0.11463 | 1 cls: 0.16501 | 2 cls: 0.28910\n"
     ]
    },
    {
     "name": "stderr",
     "output_type": "stream",
     "text": [
      "Epoch 407, lr 6.48e-05: 100% 43/43 [00:15<00:00,  2.82it/s, 0 cls=0.14489, 1 cls=0.21678, 2 cls=0.30725, bce=0.06659, dice=0.86827, loss=0.18269]\n"
     ]
    },
    {
     "name": "stdout",
     "output_type": "stream",
     "text": [
      "loss: 0.14867 | bce: 0.03894 | dice: 0.87102 | 0 cls: 0.11506 | 1 cls: 0.16511 | 2 cls: 0.29145\n"
     ]
    },
    {
     "name": "stderr",
     "output_type": "stream",
     "text": [
      "Epoch 408, lr 6.48e-05: 100% 43/43 [00:15<00:00,  2.82it/s, 0 cls=0.14629, 1 cls=0.21955, 2 cls=0.30853, bce=0.06683, dice=0.86712, loss=0.18449]\n"
     ]
    },
    {
     "name": "stdout",
     "output_type": "stream",
     "text": [
      "loss: 0.14870 | bce: 0.03901 | dice: 0.87116 | 0 cls: 0.11535 | 1 cls: 0.16496 | 2 cls: 0.29059\n"
     ]
    },
    {
     "name": "stderr",
     "output_type": "stream",
     "text": [
      "Epoch 409, lr 6.48e-05: 100% 43/43 [00:15<00:00,  2.83it/s, 0 cls=0.14497, 1 cls=0.21701, 2 cls=0.30776, bce=0.06689, dice=0.86833, loss=0.18286]\n"
     ]
    },
    {
     "name": "stdout",
     "output_type": "stream",
     "text": [
      "loss: 0.14881 | bce: 0.03924 | dice: 0.87117 | 0 cls: 0.11546 | 1 cls: 0.16499 | 2 cls: 0.29109\n"
     ]
    },
    {
     "name": "stderr",
     "output_type": "stream",
     "text": [
      "Epoch 410, lr 6.48e-05: 100% 43/43 [00:15<00:00,  2.78it/s, 0 cls=0.14693, 1 cls=0.21715, 2 cls=0.30711, bce=0.06717, dice=0.86796, loss=0.18401]\n"
     ]
    },
    {
     "name": "stdout",
     "output_type": "stream",
     "text": [
      "loss: 0.14882 | bce: 0.03939 | dice: 0.87136 | 0 cls: 0.11510 | 1 cls: 0.16541 | 2 cls: 0.29122\n"
     ]
    },
    {
     "name": "stderr",
     "output_type": "stream",
     "text": [
      "Epoch 411, lr 6.48e-05: 100% 43/43 [00:15<00:00,  2.78it/s, 0 cls=0.14591, 1 cls=0.21693, 2 cls=0.30476, bce=0.06663, dice=0.86856, loss=0.18310]\n"
     ]
    },
    {
     "name": "stdout",
     "output_type": "stream",
     "text": [
      "loss: 0.14969 | bce: 0.03962 | dice: 0.87072 | 0 cls: 0.11569 | 1 cls: 0.16673 | 2 cls: 0.29246\n"
     ]
    },
    {
     "name": "stderr",
     "output_type": "stream",
     "text": [
      "Epoch 412, lr 6.48e-05: 100% 43/43 [00:15<00:00,  2.82it/s, 0 cls=0.14604, 1 cls=0.21885, 2 cls=0.30779, bce=0.06687, dice=0.86772, loss=0.18406]\n"
     ]
    },
    {
     "name": "stdout",
     "output_type": "stream",
     "text": [
      "loss: 0.15012 | bce: 0.03882 | dice: 0.86943 | 0 cls: 0.11659 | 1 cls: 0.16610 | 2 cls: 0.29406\n"
     ]
    },
    {
     "name": "stderr",
     "output_type": "stream",
     "text": [
      "Epoch 413, lr 6.48e-05: 100% 43/43 [00:15<00:00,  2.83it/s, 0 cls=0.14224, 1 cls=0.21371, 2 cls=0.30155, bce=0.06549, dice=0.87042, loss=0.17961]\n"
     ]
    },
    {
     "name": "stdout",
     "output_type": "stream",
     "text": [
      "loss: 0.14990 | bce: 0.03931 | dice: 0.87043 | 0 cls: 0.11571 | 1 cls: 0.16737 | 2 cls: 0.29222\n"
     ]
    },
    {
     "name": "stderr",
     "output_type": "stream",
     "text": [
      "Epoch 414, lr 6.48e-05: 100% 43/43 [00:15<00:00,  2.83it/s, 0 cls=0.14426, 1 cls=0.21625, 2 cls=0.30553, bce=0.06632, dice=0.86886, loss=0.18199]\n"
     ]
    },
    {
     "name": "stdout",
     "output_type": "stream",
     "text": [
      "loss: 0.14923 | bce: 0.03850 | dice: 0.87019 | 0 cls: 0.11584 | 1 cls: 0.16540 | 2 cls: 0.29205\n"
     ]
    },
    {
     "name": "stderr",
     "output_type": "stream",
     "text": [
      "Epoch 415, lr 6.48e-05: 100% 43/43 [00:15<00:00,  2.83it/s, 0 cls=0.14582, 1 cls=0.21745, 2 cls=0.30699, bce=0.06663, dice=0.86799, loss=0.18343]\n"
     ]
    },
    {
     "name": "stdout",
     "output_type": "stream",
     "text": [
      "loss: 0.14945 | bce: 0.03896 | dice: 0.87041 | 0 cls: 0.11599 | 1 cls: 0.16548 | 2 cls: 0.29230\n"
     ]
    },
    {
     "name": "stderr",
     "output_type": "stream",
     "text": [
      "Epoch 416, lr 6.48e-05: 100% 43/43 [00:15<00:00,  2.83it/s, 0 cls=0.14224, 1 cls=0.21387, 2 cls=0.30404, bce=0.06604, dice=0.87025, loss=0.17991]\n"
     ]
    },
    {
     "name": "stdout",
     "output_type": "stream",
     "text": [
      "loss: 0.14951 | bce: 0.03917 | dice: 0.87055 | 0 cls: 0.11599 | 1 cls: 0.16619 | 2 cls: 0.29113\n"
     ]
    },
    {
     "name": "stderr",
     "output_type": "stream",
     "text": [
      "Epoch 417, lr 6.48e-05: 100% 43/43 [00:15<00:00,  2.82it/s, 0 cls=0.14734, 1 cls=0.21997, 2 cls=0.30925, bce=0.06756, dice=0.86709, loss=0.18532]\n"
     ]
    },
    {
     "name": "stdout",
     "output_type": "stream",
     "text": [
      "loss: 0.15024 | bce: 0.03906 | dice: 0.86965 | 0 cls: 0.11659 | 1 cls: 0.16657 | 2 cls: 0.29352\n"
     ]
    },
    {
     "name": "stderr",
     "output_type": "stream",
     "text": [
      "Epoch 418, lr 6.48e-05: 100% 43/43 [00:15<00:00,  2.82it/s, 0 cls=0.14563, 1 cls=0.21759, 2 cls=0.30716, bce=0.06669, dice=0.86796, loss=0.18337]\n"
     ]
    },
    {
     "name": "stdout",
     "output_type": "stream",
     "text": [
      "loss: 0.14987 | bce: 0.03896 | dice: 0.87004 | 0 cls: 0.11611 | 1 cls: 0.16626 | 2 cls: 0.29229\n"
     ]
    },
    {
     "name": "stderr",
     "output_type": "stream",
     "text": [
      "Epoch 419, lr 6.48e-05: 100% 43/43 [00:15<00:00,  2.83it/s, 0 cls=0.14427, 1 cls=0.21406, 2 cls=0.30328, bce=0.06566, dice=0.86939, loss=0.18111]\n"
     ]
    },
    {
     "name": "stdout",
     "output_type": "stream",
     "text": [
      "loss: 0.15004 | bce: 0.03884 | dice: 0.86971 | 0 cls: 0.11663 | 1 cls: 0.16605 | 2 cls: 0.29301\n"
     ]
    },
    {
     "name": "stderr",
     "output_type": "stream",
     "text": [
      "Epoch 420, lr 6.48e-05: 100% 43/43 [00:15<00:00,  2.82it/s, 0 cls=0.14123, 1 cls=0.21402, 2 cls=0.30199, bce=0.06495, dice=0.87026, loss=0.17914]\n"
     ]
    },
    {
     "name": "stdout",
     "output_type": "stream",
     "text": [
      "loss: 0.14973 | bce: 0.03869 | dice: 0.86983 | 0 cls: 0.11629 | 1 cls: 0.16593 | 2 cls: 0.29244\n"
     ]
    },
    {
     "name": "stderr",
     "output_type": "stream",
     "text": [
      "Epoch 421, lr 6.48e-05: 100% 43/43 [00:15<00:00,  2.71it/s, 0 cls=0.14749, 1 cls=0.21802, 2 cls=0.30994, bce=0.06717, dice=0.86681, loss=0.18490]\n"
     ]
    },
    {
     "name": "stdout",
     "output_type": "stream",
     "text": [
      "loss: 0.14999 | bce: 0.03885 | dice: 0.86979 | 0 cls: 0.11681 | 1 cls: 0.16558 | 2 cls: 0.29289\n"
     ]
    },
    {
     "name": "stderr",
     "output_type": "stream",
     "text": [
      "Epoch 422, lr 6.48e-05: 100% 43/43 [00:15<00:00,  2.83it/s, 0 cls=0.14953, 1 cls=0.22265, 2 cls=0.31302, bce=0.06740, dice=0.86482, loss=0.18781]\n"
     ]
    },
    {
     "name": "stdout",
     "output_type": "stream",
     "text": [
      "loss: 0.15015 | bce: 0.03889 | dice: 0.86961 | 0 cls: 0.11673 | 1 cls: 0.16620 | 2 cls: 0.29281\n"
     ]
    },
    {
     "name": "stderr",
     "output_type": "stream",
     "text": [
      "Epoch 423, lr 6.48e-05: 100% 43/43 [00:15<00:00,  2.81it/s, 0 cls=0.14578, 1 cls=0.21751, 2 cls=0.30789, bce=0.06671, dice=0.86771, loss=0.18351]\n"
     ]
    },
    {
     "name": "stdout",
     "output_type": "stream",
     "text": [
      "loss: 0.14943 | bce: 0.03869 | dice: 0.87006 | 0 cls: 0.11598 | 1 cls: 0.16563 | 2 cls: 0.29274\n"
     ]
    },
    {
     "name": "stderr",
     "output_type": "stream",
     "text": [
      "Epoch 424, lr 6.48e-05: 100% 43/43 [00:15<00:00,  2.82it/s, 0 cls=0.14219, 1 cls=0.21285, 2 cls=0.30099, bce=0.06521, dice=0.87048, loss=0.17927]\n"
     ]
    },
    {
     "name": "stdout",
     "output_type": "stream",
     "text": [
      "loss: 0.14928 | bce: 0.03873 | dice: 0.87049 | 0 cls: 0.11604 | 1 cls: 0.16526 | 2 cls: 0.29090\n"
     ]
    },
    {
     "name": "stderr",
     "output_type": "stream",
     "text": [
      "Epoch 425, lr 6.48e-05: 100% 43/43 [00:15<00:00,  2.82it/s, 0 cls=0.14341, 1 cls=0.21323, 2 cls=0.30268, bce=0.06595, dice=0.87024, loss=0.18028]\n"
     ]
    },
    {
     "name": "stdout",
     "output_type": "stream",
     "text": [
      "loss: 0.14897 | bce: 0.03859 | dice: 0.87034 | 0 cls: 0.11615 | 1 cls: 0.16420 | 2 cls: 0.29191\n"
     ]
    },
    {
     "name": "stderr",
     "output_type": "stream",
     "text": [
      "Epoch 426, lr 6.48e-05: 100% 43/43 [00:15<00:00,  2.83it/s, 0 cls=0.14360, 1 cls=0.21718, 2 cls=0.30335, bce=0.06597, dice=0.86927, loss=0.18165]\n"
     ]
    },
    {
     "name": "stdout",
     "output_type": "stream",
     "text": [
      "loss: 0.15077 | bce: 0.03949 | dice: 0.86960 | 0 cls: 0.11721 | 1 cls: 0.16728 | 2 cls: 0.29387\n"
     ]
    },
    {
     "name": "stderr",
     "output_type": "stream",
     "text": [
      "Epoch 427, lr 6.48e-05: 100% 43/43 [00:15<00:00,  2.83it/s, 0 cls=0.14406, 1 cls=0.21693, 2 cls=0.30601, bce=0.06695, dice=0.86923, loss=0.18212]\n"
     ]
    },
    {
     "name": "stdout",
     "output_type": "stream",
     "text": [
      "loss: 0.14995 | bce: 0.03865 | dice: 0.86971 | 0 cls: 0.11663 | 1 cls: 0.16616 | 2 cls: 0.29263\n"
     ]
    },
    {
     "name": "stderr",
     "output_type": "stream",
     "text": [
      "Epoch 428, lr 6.48e-05: 100% 43/43 [00:15<00:00,  2.82it/s, 0 cls=0.14226, 1 cls=0.21458, 2 cls=0.30271, bce=0.06533, dice=0.86983, loss=0.18000]\n"
     ]
    },
    {
     "name": "stdout",
     "output_type": "stream",
     "text": [
      "loss: 0.15186 | bce: 0.03910 | dice: 0.86804 | 0 cls: 0.11785 | 1 cls: 0.16845 | 2 cls: 0.29669\n"
     ]
    },
    {
     "name": "stderr",
     "output_type": "stream",
     "text": [
      "Epoch 429, lr 6.48e-05: 100% 43/43 [00:15<00:00,  2.83it/s, 0 cls=0.14566, 1 cls=0.21596, 2 cls=0.30483, bce=0.06639, dice=0.86864, loss=0.18266]\n"
     ]
    },
    {
     "name": "stdout",
     "output_type": "stream",
     "text": [
      "loss: 0.14945 | bce: 0.03936 | dice: 0.87049 | 0 cls: 0.11593 | 1 cls: 0.16602 | 2 cls: 0.29300\n"
     ]
    },
    {
     "name": "stderr",
     "output_type": "stream",
     "text": [
      "Epoch 430, lr 6.48e-05: 100% 43/43 [00:15<00:00,  2.84it/s, 0 cls=0.14367, 1 cls=0.21542, 2 cls=0.30476, bce=0.06593, dice=0.86917, loss=0.18130]\n"
     ]
    },
    {
     "name": "stdout",
     "output_type": "stream",
     "text": [
      "loss: 0.15022 | bce: 0.03913 | dice: 0.86952 | 0 cls: 0.11588 | 1 cls: 0.16818 | 2 cls: 0.29332\n"
     ]
    },
    {
     "name": "stderr",
     "output_type": "stream",
     "text": [
      "Epoch 431, lr 6.48e-05: 100% 43/43 [00:15<00:00,  2.70it/s, 0 cls=0.13980, 1 cls=0.21264, 2 cls=0.30100, bce=0.06545, dice=0.87177, loss=0.17777]\n"
     ]
    },
    {
     "name": "stdout",
     "output_type": "stream",
     "text": [
      "loss: 0.15003 | bce: 0.03936 | dice: 0.86996 | 0 cls: 0.11603 | 1 cls: 0.16728 | 2 cls: 0.29360\n"
     ]
    },
    {
     "name": "stderr",
     "output_type": "stream",
     "text": [
      "Epoch 432, lr 6.48e-05: 100% 43/43 [00:15<00:00,  2.83it/s, 0 cls=0.14580, 1 cls=0.21579, 2 cls=0.30611, bce=0.06629, dice=0.86819, loss=0.18283]\n"
     ]
    },
    {
     "name": "stdout",
     "output_type": "stream",
     "text": [
      "loss: 0.14994 | bce: 0.03898 | dice: 0.86974 | 0 cls: 0.11644 | 1 cls: 0.16607 | 2 cls: 0.29375\n"
     ]
    },
    {
     "name": "stderr",
     "output_type": "stream",
     "text": [
      "Epoch 433, lr 6.48e-05: 100% 43/43 [00:15<00:00,  2.84it/s, 0 cls=0.14298, 1 cls=0.21469, 2 cls=0.30362, bce=0.06577, dice=0.86991, loss=0.18056]\n"
     ]
    },
    {
     "name": "stdout",
     "output_type": "stream",
     "text": [
      "loss: 0.15108 | bce: 0.03907 | dice: 0.86865 | 0 cls: 0.11675 | 1 cls: 0.16875 | 2 cls: 0.29556\n"
     ]
    },
    {
     "name": "stderr",
     "output_type": "stream",
     "text": [
      "Epoch 434, lr 6.48e-05: 100% 43/43 [00:15<00:00,  2.82it/s, 0 cls=0.14162, 1 cls=0.21376, 2 cls=0.30161, bce=0.06567, dice=0.87088, loss=0.17926]\n"
     ]
    },
    {
     "name": "stdout",
     "output_type": "stream",
     "text": [
      "loss: 0.14947 | bce: 0.03828 | dice: 0.86970 | 0 cls: 0.11626 | 1 cls: 0.16539 | 2 cls: 0.29237\n"
     ]
    },
    {
     "name": "stderr",
     "output_type": "stream",
     "text": [
      "Epoch 435, lr 6.48e-05: 100% 43/43 [00:15<00:00,  2.82it/s, 0 cls=0.14212, 1 cls=0.21307, 2 cls=0.30279, bce=0.06559, dice=0.87039, loss=0.17947]\n"
     ]
    },
    {
     "name": "stdout",
     "output_type": "stream",
     "text": [
      "loss: 0.14870 | bce: 0.03900 | dice: 0.87112 | 0 cls: 0.11534 | 1 cls: 0.16517 | 2 cls: 0.29077\n"
     ]
    },
    {
     "name": "stderr",
     "output_type": "stream",
     "text": [
      "Epoch 436, lr 6.48e-05: 100% 43/43 [00:15<00:00,  2.83it/s, 0 cls=0.14468, 1 cls=0.21446, 2 cls=0.30458, bce=0.06566, dice=0.86880, loss=0.18161]\n"
     ]
    },
    {
     "name": "stdout",
     "output_type": "stream",
     "text": [
      "loss: 0.15076 | bce: 0.03939 | dice: 0.86924 | 0 cls: 0.11758 | 1 cls: 0.16610 | 2 cls: 0.29521\n"
     ]
    },
    {
     "name": "stderr",
     "output_type": "stream",
     "text": [
      "Epoch 437, lr 6.48e-05: 100% 43/43 [00:15<00:00,  2.81it/s, 0 cls=0.14420, 1 cls=0.21257, 2 cls=0.30494, bce=0.06681, dice=0.87018, loss=0.18078]\n"
     ]
    },
    {
     "name": "stdout",
     "output_type": "stream",
     "text": [
      "loss: 0.15020 | bce: 0.03833 | dice: 0.86902 | 0 cls: 0.11708 | 1 cls: 0.16591 | 2 cls: 0.29297\n"
     ]
    },
    {
     "name": "stderr",
     "output_type": "stream",
     "text": [
      "Epoch 438, lr 6.48e-05: 100% 43/43 [00:15<00:00,  2.82it/s, 0 cls=0.13852, 1 cls=0.21045, 2 cls=0.29798, bce=0.06476, dice=0.87279, loss=0.17604]\n"
     ]
    },
    {
     "name": "stdout",
     "output_type": "stream",
     "text": [
      "loss: 0.14906 | bce: 0.03861 | dice: 0.87056 | 0 cls: 0.11585 | 1 cls: 0.16540 | 2 cls: 0.29105\n"
     ]
    },
    {
     "name": "stderr",
     "output_type": "stream",
     "text": [
      "Epoch 439, lr 6.48e-05: 100% 43/43 [00:15<00:00,  2.81it/s, 0 cls=0.13958, 1 cls=0.20942, 2 cls=0.29810, bce=0.06464, dice=0.87252, loss=0.17638]\n"
     ]
    },
    {
     "name": "stdout",
     "output_type": "stream",
     "text": [
      "loss: 0.14889 | bce: 0.03914 | dice: 0.87093 | 0 cls: 0.11576 | 1 cls: 0.16511 | 2 cls: 0.29114\n"
     ]
    },
    {
     "name": "stderr",
     "output_type": "stream",
     "text": [
      "Epoch 440, lr 6.48e-05: 100% 43/43 [00:15<00:00,  2.83it/s, 0 cls=0.14373, 1 cls=0.21350, 2 cls=0.30233, bce=0.06572, dice=0.87001, loss=0.18052]\n"
     ]
    },
    {
     "name": "stdout",
     "output_type": "stream",
     "text": [
      "loss: 0.14922 | bce: 0.03907 | dice: 0.87048 | 0 cls: 0.11574 | 1 cls: 0.16570 | 2 cls: 0.29219\n"
     ]
    },
    {
     "name": "stderr",
     "output_type": "stream",
     "text": [
      "Epoch 441, lr 6.48e-05: 100% 43/43 [00:15<00:00,  2.75it/s, 0 cls=0.14340, 1 cls=0.21312, 2 cls=0.30164, bce=0.06499, dice=0.86975, loss=0.18014]\n"
     ]
    },
    {
     "name": "stdout",
     "output_type": "stream",
     "text": [
      "loss: 0.14993 | bce: 0.03888 | dice: 0.86975 | 0 cls: 0.11645 | 1 cls: 0.16597 | 2 cls: 0.29331\n"
     ]
    },
    {
     "name": "stderr",
     "output_type": "stream",
     "text": [
      "Epoch 442, lr 6.48e-05: 100% 43/43 [00:15<00:00,  2.82it/s, 0 cls=0.13975, 1 cls=0.21489, 2 cls=0.30026, bce=0.06498, dice=0.87115, loss=0.17834]\n"
     ]
    },
    {
     "name": "stdout",
     "output_type": "stream",
     "text": [
      "loss: 0.14890 | bce: 0.03921 | dice: 0.87106 | 0 cls: 0.11571 | 1 cls: 0.16494 | 2 cls: 0.29106\n"
     ]
    },
    {
     "name": "stderr",
     "output_type": "stream",
     "text": [
      "Epoch 443, lr 6.48e-05: 100% 43/43 [00:15<00:00,  2.83it/s, 0 cls=0.14498, 1 cls=0.21730, 2 cls=0.30506, bce=0.06605, dice=0.86844, loss=0.18269]\n"
     ]
    },
    {
     "name": "stdout",
     "output_type": "stream",
     "text": [
      "loss: 0.14936 | bce: 0.03958 | dice: 0.87109 | 0 cls: 0.11553 | 1 cls: 0.16611 | 2 cls: 0.29149\n"
     ]
    },
    {
     "name": "stderr",
     "output_type": "stream",
     "text": [
      "Epoch 444, lr 6.48e-05: 100% 43/43 [00:15<00:00,  2.83it/s, 0 cls=0.14414, 1 cls=0.21275, 2 cls=0.30105, bce=0.06683, dice=0.87127, loss=0.18042]\n"
     ]
    },
    {
     "name": "stdout",
     "output_type": "stream",
     "text": [
      "loss: 0.15035 | bce: 0.03878 | dice: 0.86935 | 0 cls: 0.11672 | 1 cls: 0.16700 | 2 cls: 0.29266\n"
     ]
    },
    {
     "name": "stderr",
     "output_type": "stream",
     "text": [
      "Epoch 445, lr 6.48e-05: 100% 43/43 [00:15<00:00,  2.83it/s, 0 cls=0.14272, 1 cls=0.21738, 2 cls=0.30604, bce=0.06594, dice=0.86876, loss=0.18145]\n"
     ]
    },
    {
     "name": "stdout",
     "output_type": "stream",
     "text": [
      "loss: 0.14968 | bce: 0.03930 | dice: 0.87029 | 0 cls: 0.11600 | 1 cls: 0.16647 | 2 cls: 0.29267\n"
     ]
    },
    {
     "name": "stderr",
     "output_type": "stream",
     "text": [
      "Epoch 446, lr 6.48e-05: 100% 43/43 [00:15<00:00,  2.81it/s, 0 cls=0.14094, 1 cls=0.21266, 2 cls=0.30156, bce=0.06547, dice=0.87122, loss=0.17852]\n"
     ]
    },
    {
     "name": "stdout",
     "output_type": "stream",
     "text": [
      "loss: 0.14866 | bce: 0.03868 | dice: 0.87076 | 0 cls: 0.11562 | 1 cls: 0.16448 | 2 cls: 0.29102\n"
     ]
    },
    {
     "name": "stderr",
     "output_type": "stream",
     "text": [
      "Epoch 447, lr 6.48e-05: 100% 43/43 [00:15<00:00,  2.83it/s, 0 cls=0.14134, 1 cls=0.21172, 2 cls=0.30054, bce=0.06532, dice=0.87136, loss=0.17837]\n"
     ]
    },
    {
     "name": "stdout",
     "output_type": "stream",
     "text": [
      "loss: 0.14857 | bce: 0.03894 | dice: 0.87109 | 0 cls: 0.11527 | 1 cls: 0.16487 | 2 cls: 0.29073\n"
     ]
    },
    {
     "name": "stderr",
     "output_type": "stream",
     "text": [
      "Epoch 448, lr 6.48e-05: 100% 43/43 [00:15<00:00,  2.81it/s, 0 cls=0.14549, 1 cls=0.21729, 2 cls=0.30427, bce=0.06669, dice=0.86891, loss=0.18291]\n"
     ]
    },
    {
     "name": "stdout",
     "output_type": "stream",
     "text": [
      "loss: 0.15022 | bce: 0.03950 | dice: 0.86992 | 0 cls: 0.11685 | 1 cls: 0.16637 | 2 cls: 0.29415\n"
     ]
    },
    {
     "name": "stderr",
     "output_type": "stream",
     "text": [
      "Epoch 449, lr 6.48e-05: 100% 43/43 [00:15<00:00,  2.83it/s, 0 cls=0.14083, 1 cls=0.21259, 2 cls=0.30049, bce=0.06543, dice=0.87155, loss=0.17833]\n"
     ]
    },
    {
     "name": "stdout",
     "output_type": "stream",
     "text": [
      "loss: 0.14888 | bce: 0.03873 | dice: 0.87052 | 0 cls: 0.11596 | 1 cls: 0.16465 | 2 cls: 0.29157\n"
     ]
    },
    {
     "name": "stderr",
     "output_type": "stream",
     "text": [
      "Epoch 450, lr 6.48e-05: 100% 43/43 [00:15<00:00,  2.82it/s, 0 cls=0.14259, 1 cls=0.21360, 2 cls=0.30144, bce=0.06476, dice=0.86984, loss=0.17977]\n"
     ]
    },
    {
     "name": "stdout",
     "output_type": "stream",
     "text": [
      "loss: 0.14845 | bce: 0.03906 | dice: 0.87131 | 0 cls: 0.11556 | 1 cls: 0.16393 | 2 cls: 0.29057\n"
     ]
    },
    {
     "name": "stderr",
     "output_type": "stream",
     "text": [
      "Epoch 451, lr 6.48e-05: 100% 43/43 [00:15<00:00,  2.75it/s, 0 cls=0.14057, 1 cls=0.21129, 2 cls=0.30021, bce=0.06541, dice=0.87187, loss=0.17775]\n"
     ]
    },
    {
     "name": "stdout",
     "output_type": "stream",
     "text": [
      "loss: 0.14902 | bce: 0.03864 | dice: 0.87059 | 0 cls: 0.11592 | 1 cls: 0.16488 | 2 cls: 0.29110\n"
     ]
    },
    {
     "name": "stderr",
     "output_type": "stream",
     "text": [
      "Epoch 452, lr 6.48e-05: 100% 43/43 [00:15<00:00,  2.82it/s, 0 cls=0.14083, 1 cls=0.21162, 2 cls=0.30008, bce=0.06511, dice=0.87148, loss=0.17799]\n"
     ]
    },
    {
     "name": "stdout",
     "output_type": "stream",
     "text": [
      "loss: 0.15227 | bce: 0.03955 | dice: 0.86799 | 0 cls: 0.11840 | 1 cls: 0.16864 | 2 cls: 0.29730\n"
     ]
    },
    {
     "name": "stderr",
     "output_type": "stream",
     "text": [
      "Epoch 453, lr 6.48e-05: 100% 43/43 [00:15<00:00,  2.83it/s, 0 cls=0.14377, 1 cls=0.21746, 2 cls=0.30344, bce=0.06558, dice=0.86886, loss=0.18184]\n"
     ]
    },
    {
     "name": "stdout",
     "output_type": "stream",
     "text": [
      "loss: 0.14983 | bce: 0.03952 | dice: 0.87033 | 0 cls: 0.11618 | 1 cls: 0.16599 | 2 cls: 0.29342\n"
     ]
    },
    {
     "name": "stderr",
     "output_type": "stream",
     "text": [
      "Epoch 454, lr 6.48e-05: 100% 43/43 [00:15<00:00,  2.81it/s, 0 cls=0.14287, 1 cls=0.21506, 2 cls=0.30301, bce=0.06544, dice=0.86955, loss=0.18054]\n"
     ]
    },
    {
     "name": "stdout",
     "output_type": "stream",
     "text": [
      "loss: 0.14909 | bce: 0.03991 | dice: 0.87144 | 0 cls: 0.11499 | 1 cls: 0.16652 | 2 cls: 0.29126\n"
     ]
    },
    {
     "name": "stderr",
     "output_type": "stream",
     "text": [
      "Epoch 455, lr 6.48e-05: 100% 43/43 [00:15<00:00,  2.82it/s, 0 cls=0.14158, 1 cls=0.21267, 2 cls=0.29994, bce=0.06546, dice=0.87144, loss=0.17874]\n"
     ]
    },
    {
     "name": "stdout",
     "output_type": "stream",
     "text": [
      "loss: 0.15163 | bce: 0.03990 | dice: 0.86881 | 0 cls: 0.11800 | 1 cls: 0.16767 | 2 cls: 0.29676\n"
     ]
    },
    {
     "name": "stderr",
     "output_type": "stream",
     "text": [
      "Epoch 456, lr 6.48e-05: 100% 43/43 [00:15<00:00,  2.83it/s, 0 cls=0.14113, 1 cls=0.21204, 2 cls=0.30009, bce=0.06549, dice=0.87173, loss=0.17830]\n"
     ]
    },
    {
     "name": "stdout",
     "output_type": "stream",
     "text": [
      "loss: 0.14961 | bce: 0.03906 | dice: 0.87027 | 0 cls: 0.11587 | 1 cls: 0.16638 | 2 cls: 0.29177\n"
     ]
    },
    {
     "name": "stderr",
     "output_type": "stream",
     "text": [
      "Epoch 457, lr 6.48e-05: 100% 43/43 [00:15<00:00,  2.81it/s, 0 cls=0.14411, 1 cls=0.21400, 2 cls=0.30368, bce=0.06647, dice=0.86993, loss=0.18104]\n"
     ]
    },
    {
     "name": "stdout",
     "output_type": "stream",
     "text": [
      "loss: 0.14894 | bce: 0.03839 | dice: 0.87023 | 0 cls: 0.11614 | 1 cls: 0.16432 | 2 cls: 0.29151\n"
     ]
    },
    {
     "name": "stderr",
     "output_type": "stream",
     "text": [
      "Epoch 458, lr 6.48e-05: 100% 43/43 [00:15<00:00,  2.83it/s, 0 cls=0.14330, 1 cls=0.21509, 2 cls=0.30510, bce=0.06641, dice=0.86969, loss=0.18102]\n"
     ]
    },
    {
     "name": "stdout",
     "output_type": "stream",
     "text": [
      "loss: 0.14924 | bce: 0.03831 | dice: 0.87002 | 0 cls: 0.11622 | 1 cls: 0.16465 | 2 cls: 0.29163\n"
     ]
    },
    {
     "name": "stderr",
     "output_type": "stream",
     "text": [
      "Epoch 459, lr 6.48e-05: 100% 43/43 [00:15<00:00,  2.82it/s, 0 cls=0.13812, 1 cls=0.20956, 2 cls=0.29629, bce=0.06383, dice=0.87287, loss=0.17537]\n"
     ]
    },
    {
     "name": "stdout",
     "output_type": "stream",
     "text": [
      "loss: 0.15055 | bce: 0.03932 | dice: 0.86958 | 0 cls: 0.11715 | 1 cls: 0.16605 | 2 cls: 0.29425\n"
     ]
    },
    {
     "name": "stderr",
     "output_type": "stream",
     "text": [
      "Epoch 460, lr 6.48e-05: 100% 43/43 [00:15<00:00,  2.82it/s, 0 cls=0.14531, 1 cls=0.21797, 2 cls=0.30617, bce=0.06674, dice=0.86837, loss=0.18319]\n"
     ]
    },
    {
     "name": "stdout",
     "output_type": "stream",
     "text": [
      "loss: 0.14896 | bce: 0.03846 | dice: 0.87036 | 0 cls: 0.11627 | 1 cls: 0.16351 | 2 cls: 0.29192\n"
     ]
    },
    {
     "name": "stderr",
     "output_type": "stream",
     "text": [
      "Epoch 461, lr 6.48e-05: 100% 43/43 [00:15<00:00,  2.80it/s, 0 cls=0.13809, 1 cls=0.20833, 2 cls=0.29616, bce=0.06414, dice=0.87334, loss=0.17497]\n"
     ]
    },
    {
     "name": "stdout",
     "output_type": "stream",
     "text": [
      "loss: 0.14909 | bce: 0.03899 | dice: 0.87069 | 0 cls: 0.11628 | 1 cls: 0.16413 | 2 cls: 0.29213\n"
     ]
    },
    {
     "name": "stderr",
     "output_type": "stream",
     "text": [
      "Epoch 462, lr 6.48e-05: 100% 43/43 [00:15<00:00,  2.76it/s, 0 cls=0.14139, 1 cls=0.21446, 2 cls=0.30300, bce=0.06654, dice=0.87122, loss=0.17947]\n"
     ]
    },
    {
     "name": "stdout",
     "output_type": "stream",
     "text": [
      "loss: 0.14930 | bce: 0.03814 | dice: 0.86964 | 0 cls: 0.11640 | 1 cls: 0.16458 | 2 cls: 0.29217\n"
     ]
    },
    {
     "name": "stderr",
     "output_type": "stream",
     "text": [
      "Epoch 463, lr 6.48e-05: 100% 43/43 [00:15<00:00,  2.82it/s, 0 cls=0.14552, 1 cls=0.21563, 2 cls=0.30545, bce=0.06623, dice=0.86860, loss=0.18255]\n"
     ]
    },
    {
     "name": "stdout",
     "output_type": "stream",
     "text": [
      "loss: 0.15011 | bce: 0.03862 | dice: 0.86928 | 0 cls: 0.11718 | 1 cls: 0.16481 | 2 cls: 0.29383\n"
     ]
    },
    {
     "name": "stderr",
     "output_type": "stream",
     "text": [
      "Epoch 464, lr 6.48e-05: 100% 43/43 [00:15<00:00,  2.83it/s, 0 cls=0.14072, 1 cls=0.21350, 2 cls=0.30126, bce=0.06499, dice=0.87067, loss=0.17861]\n"
     ]
    },
    {
     "name": "stdout",
     "output_type": "stream",
     "text": [
      "loss: 0.15005 | bce: 0.03912 | dice: 0.86979 | 0 cls: 0.11663 | 1 cls: 0.16564 | 2 cls: 0.29400\n"
     ]
    },
    {
     "name": "stderr",
     "output_type": "stream",
     "text": [
      "Epoch 465, lr 6.48e-05: 100% 43/43 [00:15<00:00,  2.83it/s, 0 cls=0.14068, 1 cls=0.21289, 2 cls=0.29911, bce=0.06497, dice=0.87141, loss=0.17819]\n"
     ]
    },
    {
     "name": "stdout",
     "output_type": "stream",
     "text": [
      "loss: 0.15038 | bce: 0.03887 | dice: 0.86926 | 0 cls: 0.11743 | 1 cls: 0.16514 | 2 cls: 0.29496\n"
     ]
    },
    {
     "name": "stderr",
     "output_type": "stream",
     "text": [
      "Epoch 466, lr 6.48e-05: 100% 43/43 [00:15<00:00,  2.82it/s, 0 cls=0.14132, 1 cls=0.21424, 2 cls=0.30125, bce=0.06541, dice=0.87090, loss=0.17919]\n"
     ]
    },
    {
     "name": "stdout",
     "output_type": "stream",
     "text": [
      "loss: 0.14984 | bce: 0.03866 | dice: 0.86965 | 0 cls: 0.11683 | 1 cls: 0.16504 | 2 cls: 0.29327\n"
     ]
    },
    {
     "name": "stderr",
     "output_type": "stream",
     "text": [
      "Epoch 467, lr 6.48e-05: 100% 43/43 [00:15<00:00,  2.81it/s, 0 cls=0.14511, 1 cls=0.21535, 2 cls=0.30579, bce=0.06579, dice=0.86837, loss=0.18225]\n"
     ]
    },
    {
     "name": "stdout",
     "output_type": "stream",
     "text": [
      "loss: 0.15070 | bce: 0.03906 | dice: 0.86893 | 0 cls: 0.11765 | 1 cls: 0.16574 | 2 cls: 0.29489\n"
     ]
    },
    {
     "name": "stderr",
     "output_type": "stream",
     "text": [
      "Epoch 468, lr 6.48e-05: 100% 43/43 [00:15<00:00,  2.83it/s, 0 cls=0.13960, 1 cls=0.21090, 2 cls=0.29846, bce=0.06456, dice=0.87203, loss=0.17688]\n"
     ]
    },
    {
     "name": "stdout",
     "output_type": "stream",
     "text": [
      "loss: 0.14944 | bce: 0.03900 | dice: 0.87023 | 0 cls: 0.11619 | 1 cls: 0.16508 | 2 cls: 0.29340\n"
     ]
    },
    {
     "name": "stderr",
     "output_type": "stream",
     "text": [
      "Epoch 469, lr 6.48e-05: 100% 43/43 [00:15<00:00,  2.82it/s, 0 cls=0.14103, 1 cls=0.21081, 2 cls=0.29990, bce=0.06524, dice=0.87173, loss=0.17785]\n"
     ]
    },
    {
     "name": "stdout",
     "output_type": "stream",
     "text": [
      "loss: 0.15047 | bce: 0.03917 | dice: 0.86938 | 0 cls: 0.11740 | 1 cls: 0.16563 | 2 cls: 0.29491\n"
     ]
    },
    {
     "name": "stderr",
     "output_type": "stream",
     "text": [
      "Epoch 470, lr 6.48e-05: 100% 43/43 [00:15<00:00,  2.83it/s, 0 cls=0.14075, 1 cls=0.21158, 2 cls=0.29999, bce=0.06495, dice=0.87137, loss=0.17792]\n"
     ]
    },
    {
     "name": "stdout",
     "output_type": "stream",
     "text": [
      "loss: 0.15032 | bce: 0.03917 | dice: 0.86964 | 0 cls: 0.11737 | 1 cls: 0.16527 | 2 cls: 0.29474\n"
     ]
    },
    {
     "name": "stderr",
     "output_type": "stream",
     "text": [
      "Epoch 471, lr 6.48e-05: 100% 43/43 [00:15<00:00,  2.83it/s, 0 cls=0.13984, 1 cls=0.21042, 2 cls=0.29646, bce=0.06446, dice=0.87264, loss=0.17668]\n"
     ]
    },
    {
     "name": "stdout",
     "output_type": "stream",
     "text": [
      "loss: 0.14951 | bce: 0.03898 | dice: 0.87023 | 0 cls: 0.11646 | 1 cls: 0.16471 | 2 cls: 0.29326\n"
     ]
    },
    {
     "name": "stderr",
     "output_type": "stream",
     "text": [
      "Epoch 472, lr 6.48e-05: 100% 43/43 [00:15<00:00,  2.71it/s, 0 cls=0.14801, 1 cls=0.21900, 2 cls=0.30856, bce=0.06744, dice=0.86726, loss=0.18537]\n"
     ]
    },
    {
     "name": "stdout",
     "output_type": "stream",
     "text": [
      "loss: 0.15014 | bce: 0.03939 | dice: 0.86997 | 0 cls: 0.11739 | 1 cls: 0.16486 | 2 cls: 0.29379\n"
     ]
    },
    {
     "name": "stderr",
     "output_type": "stream",
     "text": [
      "Epoch 473, lr 6.48e-05: 100% 43/43 [00:15<00:00,  2.81it/s, 0 cls=0.13957, 1 cls=0.20920, 2 cls=0.29640, bce=0.06464, dice=0.87307, loss=0.17614]\n"
     ]
    },
    {
     "name": "stdout",
     "output_type": "stream",
     "text": [
      "loss: 0.14801 | bce: 0.03838 | dice: 0.87152 | 0 cls: 0.11558 | 1 cls: 0.16272 | 2 cls: 0.28920\n"
     ]
    },
    {
     "name": "stderr",
     "output_type": "stream",
     "text": [
      "Epoch 474, lr 6.48e-05: 100% 43/43 [00:15<00:00,  2.82it/s, 0 cls=0.14190, 1 cls=0.21476, 2 cls=0.30226, bce=0.06559, dice=0.87044, loss=0.17979]\n"
     ]
    },
    {
     "name": "stdout",
     "output_type": "stream",
     "text": [
      "loss: 0.14966 | bce: 0.03913 | dice: 0.87043 | 0 cls: 0.11583 | 1 cls: 0.16647 | 2 cls: 0.29195\n"
     ]
    },
    {
     "name": "stderr",
     "output_type": "stream",
     "text": [
      "Epoch 475, lr 6.48e-05: 100% 43/43 [00:15<00:00,  2.83it/s, 0 cls=0.14123, 1 cls=0.21403, 2 cls=0.30079, bce=0.06476, dice=0.87039, loss=0.17902]\n"
     ]
    },
    {
     "name": "stdout",
     "output_type": "stream",
     "text": [
      "loss: 0.14909 | bce: 0.03922 | dice: 0.87087 | 0 cls: 0.11631 | 1 cls: 0.16382 | 2 cls: 0.29245\n"
     ]
    },
    {
     "name": "stderr",
     "output_type": "stream",
     "text": [
      "Epoch 476, lr 6.48e-05: 100% 43/43 [00:15<00:00,  2.82it/s, 0 cls=0.14537, 1 cls=0.21603, 2 cls=0.30461, bce=0.06622, dice=0.86873, loss=0.18249]\n"
     ]
    },
    {
     "name": "stdout",
     "output_type": "stream",
     "text": [
      "loss: 0.14836 | bce: 0.03877 | dice: 0.87102 | 0 cls: 0.11598 | 1 cls: 0.16289 | 2 cls: 0.29097\n"
     ]
    },
    {
     "name": "stderr",
     "output_type": "stream",
     "text": [
      "Epoch 477, lr 6.48e-05: 100% 43/43 [00:15<00:00,  2.81it/s, 0 cls=0.14076, 1 cls=0.21076, 2 cls=0.29861, bce=0.06461, dice=0.87171, loss=0.17754]\n"
     ]
    },
    {
     "name": "stdout",
     "output_type": "stream",
     "text": [
      "loss: 0.15015 | bce: 0.03888 | dice: 0.86956 | 0 cls: 0.11685 | 1 cls: 0.16543 | 2 cls: 0.29394\n"
     ]
    },
    {
     "name": "stderr",
     "output_type": "stream",
     "text": [
      "Epoch 478, lr 6.48e-05: 100% 43/43 [00:15<00:00,  2.81it/s, 0 cls=0.14620, 1 cls=0.21675, 2 cls=0.30554, bce=0.06717, dice=0.86895, loss=0.18330]\n"
     ]
    },
    {
     "name": "stdout",
     "output_type": "stream",
     "text": [
      "loss: 0.14885 | bce: 0.03876 | dice: 0.87077 | 0 cls: 0.11596 | 1 cls: 0.16477 | 2 cls: 0.28986\n"
     ]
    },
    {
     "name": "stderr",
     "output_type": "stream",
     "text": [
      "Epoch 479, lr 6.48e-05: 100% 43/43 [00:15<00:00,  2.82it/s, 0 cls=0.14201, 1 cls=0.21308, 2 cls=0.30159, bce=0.06469, dice=0.87012, loss=0.17929]\n"
     ]
    },
    {
     "name": "stdout",
     "output_type": "stream",
     "text": [
      "loss: 0.14851 | bce: 0.03805 | dice: 0.87047 | 0 cls: 0.11598 | 1 cls: 0.16321 | 2 cls: 0.29105\n"
     ]
    },
    {
     "name": "stderr",
     "output_type": "stream",
     "text": [
      "Epoch 480, lr 6.48e-05: 100% 43/43 [00:15<00:00,  2.82it/s, 0 cls=0.13785, 1 cls=0.20863, 2 cls=0.29476, bce=0.06345, dice=0.87317, loss=0.17477]\n"
     ]
    },
    {
     "name": "stdout",
     "output_type": "stream",
     "text": [
      "loss: 0.15249 | bce: 0.03943 | dice: 0.86757 | 0 cls: 0.11913 | 1 cls: 0.16767 | 2 cls: 0.29842\n"
     ]
    },
    {
     "name": "stderr",
     "output_type": "stream",
     "text": [
      "Epoch 481, lr 6.48e-05: 100% 43/43 [00:15<00:00,  2.82it/s, 0 cls=0.13882, 1 cls=0.20914, 2 cls=0.29659, bce=0.06486, dice=0.87344, loss=0.17569]\n"
     ]
    },
    {
     "name": "stdout",
     "output_type": "stream",
     "text": [
      "loss: 0.14895 | bce: 0.03856 | dice: 0.87050 | 0 cls: 0.11612 | 1 cls: 0.16436 | 2 cls: 0.29132\n"
     ]
    },
    {
     "name": "stderr",
     "output_type": "stream",
     "text": [
      "Epoch 482, lr 6.48e-05: 100% 43/43 [00:15<00:00,  2.82it/s, 0 cls=0.13702, 1 cls=0.20689, 2 cls=0.29175, bce=0.06245, dice=0.87379, loss=0.17346]\n"
     ]
    },
    {
     "name": "stdout",
     "output_type": "stream",
     "text": [
      "loss: 0.14895 | bce: 0.03932 | dice: 0.87124 | 0 cls: 0.11570 | 1 cls: 0.16466 | 2 cls: 0.29166\n"
     ]
    },
    {
     "name": "stderr",
     "output_type": "stream",
     "text": [
      "Epoch 483, lr 6.48e-05: 100% 43/43 [00:16<00:00,  2.68it/s, 0 cls=0.14064, 1 cls=0.21069, 2 cls=0.29870, bce=0.06488, dice=0.87196, loss=0.17746]\n"
     ]
    },
    {
     "name": "stdout",
     "output_type": "stream",
     "text": [
      "loss: 0.14872 | bce: 0.03821 | dice: 0.87051 | 0 cls: 0.11606 | 1 cls: 0.16322 | 2 cls: 0.29162\n"
     ]
    },
    {
     "name": "stderr",
     "output_type": "stream",
     "text": [
      "Epoch 484, lr 6.48e-05: 100% 43/43 [00:15<00:00,  2.82it/s, 0 cls=0.14340, 1 cls=0.21425, 2 cls=0.30358, bce=0.06620, dice=0.87004, loss=0.18067]\n"
     ]
    },
    {
     "name": "stdout",
     "output_type": "stream",
     "text": [
      "loss: 0.14990 | bce: 0.03789 | dice: 0.86884 | 0 cls: 0.11717 | 1 cls: 0.16464 | 2 cls: 0.29350\n"
     ]
    },
    {
     "name": "stderr",
     "output_type": "stream",
     "text": [
      "Epoch 485, lr 6.48e-05: 100% 43/43 [00:15<00:00,  2.83it/s, 0 cls=0.13955, 1 cls=0.21160, 2 cls=0.29812, bce=0.06402, dice=0.87156, loss=0.17702]\n"
     ]
    },
    {
     "name": "stdout",
     "output_type": "stream",
     "text": [
      "loss: 0.14888 | bce: 0.03910 | dice: 0.87094 | 0 cls: 0.11612 | 1 cls: 0.16369 | 2 cls: 0.29172\n"
     ]
    },
    {
     "name": "stderr",
     "output_type": "stream",
     "text": [
      "Epoch 486, lr 6.48e-05: 100% 43/43 [00:15<00:00,  2.83it/s, 0 cls=0.14335, 1 cls=0.21667, 2 cls=0.30358, bce=0.06592, dice=0.86944, loss=0.18137]\n"
     ]
    },
    {
     "name": "stdout",
     "output_type": "stream",
     "text": [
      "loss: 0.14923 | bce: 0.03894 | dice: 0.87066 | 0 cls: 0.11603 | 1 cls: 0.16500 | 2 cls: 0.29177\n"
     ]
    },
    {
     "name": "stderr",
     "output_type": "stream",
     "text": [
      "Epoch 487, lr 6.48e-05: 100% 43/43 [00:15<00:00,  2.82it/s, 0 cls=0.13669, 1 cls=0.20541, 2 cls=0.29369, bce=0.06286, dice=0.87391, loss=0.17301]\n"
     ]
    },
    {
     "name": "stdout",
     "output_type": "stream",
     "text": [
      "loss: 0.15096 | bce: 0.03993 | dice: 0.86972 | 0 cls: 0.11737 | 1 cls: 0.16705 | 2 cls: 0.29517\n"
     ]
    },
    {
     "name": "stderr",
     "output_type": "stream",
     "text": [
      "Epoch 488, lr 6.48e-05: 100% 43/43 [00:15<00:00,  2.83it/s, 0 cls=0.14702, 1 cls=0.21989, 2 cls=0.30673, bce=0.06758, dice=0.86831, loss=0.18485]\n"
     ]
    },
    {
     "name": "stdout",
     "output_type": "stream",
     "text": [
      "loss: 0.14874 | bce: 0.03865 | dice: 0.87076 | 0 cls: 0.11605 | 1 cls: 0.16370 | 2 cls: 0.29128\n"
     ]
    },
    {
     "name": "stderr",
     "output_type": "stream",
     "text": [
      "Epoch 489, lr 6.48e-05: 100% 43/43 [00:15<00:00,  2.82it/s, 0 cls=0.14199, 1 cls=0.21223, 2 cls=0.29831, bce=0.06490, dice=0.87125, loss=0.17869]\n"
     ]
    },
    {
     "name": "stdout",
     "output_type": "stream",
     "text": [
      "loss: 0.15018 | bce: 0.03914 | dice: 0.86986 | 0 cls: 0.11689 | 1 cls: 0.16570 | 2 cls: 0.29386\n"
     ]
    },
    {
     "name": "stderr",
     "output_type": "stream",
     "text": [
      "Epoch 490, lr 0.0006561000000000001: 100% 43/43 [00:15<00:00,  2.82it/s, 0 cls=0.15418, 1 cls=0.22610, 2 cls=0.32329, bce=0.07114, dice=0.86269, loss=0.19267]\n"
     ]
    },
    {
     "name": "stdout",
     "output_type": "stream",
     "text": [
      "loss: 0.15482 | bce: 0.04375 | dice: 0.86918 | 0 cls: 0.11924 | 1 cls: 0.17251 | 2 cls: 0.30195\n"
     ]
    },
    {
     "name": "stderr",
     "output_type": "stream",
     "text": [
      "Epoch 491, lr 0.0006561000000000001: 100% 43/43 [00:15<00:00,  2.82it/s, 0 cls=0.17269, 1 cls=0.24564, 2 cls=0.34477, bce=0.07701, dice=0.85132, loss=0.21178]\n"
     ]
    },
    {
     "name": "stdout",
     "output_type": "stream",
     "text": [
      "loss: 0.15116 | bce: 0.04083 | dice: 0.87066 | 0 cls: 0.11434 | 1 cls: 0.17115 | 2 cls: 0.29662\n"
     ]
    },
    {
     "name": "stderr",
     "output_type": "stream",
     "text": [
      "Epoch 492, lr 0.00019683000000000002: 100% 43/43 [00:15<00:00,  2.81it/s, 0 cls=0.16163, 1 cls=0.23163, 2 cls=0.32786, bce=0.07227, dice=0.85853, loss=0.19925]\n"
     ]
    },
    {
     "name": "stdout",
     "output_type": "stream",
     "text": [
      "loss: 0.14986 | bce: 0.04027 | dice: 0.87084 | 0 cls: 0.11475 | 1 cls: 0.16852 | 2 cls: 0.29292\n"
     ]
    },
    {
     "name": "stderr",
     "output_type": "stream",
     "text": [
      "Epoch 493, lr 0.00019683000000000002: 100% 43/43 [00:15<00:00,  2.71it/s, 0 cls=0.15898, 1 cls=0.22694, 2 cls=0.32216, bce=0.07198, dice=0.86173, loss=0.19569]\n"
     ]
    },
    {
     "name": "stdout",
     "output_type": "stream",
     "text": [
      "loss: 0.15272 | bce: 0.03837 | dice: 0.86669 | 0 cls: 0.11818 | 1 cls: 0.17035 | 2 cls: 0.29833\n"
     ]
    },
    {
     "name": "stderr",
     "output_type": "stream",
     "text": [
      "Epoch 494, lr 5.9049e-05: 100% 43/43 [00:15<00:00,  2.84it/s, 0 cls=0.14925, 1 cls=0.22226, 2 cls=0.31269, bce=0.06837, dice=0.86585, loss=0.18750]\n"
     ]
    },
    {
     "name": "stdout",
     "output_type": "stream",
     "text": [
      "loss: 0.15120 | bce: 0.03899 | dice: 0.86841 | 0 cls: 0.11708 | 1 cls: 0.16861 | 2 cls: 0.29624\n"
     ]
    },
    {
     "name": "stderr",
     "output_type": "stream",
     "text": [
      "Epoch 495, lr 0.0006561000000000001: 100% 43/43 [00:15<00:00,  2.82it/s, 0 cls=0.15835, 1 cls=0.23107, 2 cls=0.32660, bce=0.07178, dice=0.85986, loss=0.19699]\n"
     ]
    },
    {
     "name": "stdout",
     "output_type": "stream",
     "text": [
      "loss: 0.15290 | bce: 0.03976 | dice: 0.86674 | 0 cls: 0.11737 | 1 cls: 0.17203 | 2 cls: 0.30055\n"
     ]
    },
    {
     "name": "stderr",
     "output_type": "stream",
     "text": [
      "Epoch 496, lr 0.0006561000000000001: 100% 43/43 [00:15<00:00,  2.82it/s, 0 cls=0.16253, 1 cls=0.23692, 2 cls=0.33440, bce=0.07390, dice=0.85681, loss=0.20203]\n"
     ]
    },
    {
     "name": "stdout",
     "output_type": "stream",
     "text": [
      "loss: 0.15394 | bce: 0.04036 | dice: 0.86647 | 0 cls: 0.11517 | 1 cls: 0.18084 | 2 cls: 0.29903\n"
     ]
    },
    {
     "name": "stderr",
     "output_type": "stream",
     "text": [
      "Epoch 497, lr 0.00019683000000000002: 100% 43/43 [00:15<00:00,  2.83it/s, 0 cls=0.15385, 1 cls=0.22498, 2 cls=0.31878, bce=0.06957, dice=0.86280, loss=0.19168]\n"
     ]
    },
    {
     "name": "stdout",
     "output_type": "stream",
     "text": [
      "loss: 0.15097 | bce: 0.03930 | dice: 0.86866 | 0 cls: 0.11587 | 1 cls: 0.17041 | 2 cls: 0.29700\n"
     ]
    },
    {
     "name": "stderr",
     "output_type": "stream",
     "text": [
      "Epoch 498, lr 0.00019683000000000002: 100% 43/43 [00:15<00:00,  2.84it/s, 0 cls=0.15075, 1 cls=0.22257, 2 cls=0.31420, bce=0.06842, dice=0.86472, loss=0.18864]\n"
     ]
    },
    {
     "name": "stdout",
     "output_type": "stream",
     "text": [
      "loss: 0.15005 | bce: 0.03867 | dice: 0.86898 | 0 cls: 0.11615 | 1 cls: 0.16739 | 2 cls: 0.29442\n"
     ]
    },
    {
     "name": "stderr",
     "output_type": "stream",
     "text": [
      "Epoch 499, lr 5.9049e-05: 100% 43/43 [00:15<00:00,  2.83it/s, 0 cls=0.14864, 1 cls=0.22315, 2 cls=0.31538, bce=0.06807, dice=0.86477, loss=0.18767]\n"
     ]
    },
    {
     "name": "stdout",
     "output_type": "stream",
     "text": [
      "loss: 0.15043 | bce: 0.03921 | dice: 0.86908 | 0 cls: 0.11619 | 1 cls: 0.16808 | 2 cls: 0.29568\n"
     ]
    },
    {
     "name": "stderr",
     "output_type": "stream",
     "text": [
      "Epoch 500, lr 3.8879999999999994e-05: 100% 43/43 [00:15<00:00,  2.82it/s, 0 cls=0.14137, 1 cls=0.21255, 2 cls=0.30211, bce=0.06501, dice=0.87053, loss=0.17880]\n"
     ]
    },
    {
     "name": "stdout",
     "output_type": "stream",
     "text": [
      "loss: 0.14899 | bce: 0.03954 | dice: 0.87088 | 0 cls: 0.11497 | 1 cls: 0.16677 | 2 cls: 0.29247\n"
     ]
    },
    {
     "name": "stderr",
     "output_type": "stream",
     "text": [
      "Epoch 501, lr 3.8879999999999994e-05: 100% 43/43 [00:15<00:00,  2.82it/s, 0 cls=0.14388, 1 cls=0.21373, 2 cls=0.30442, bce=0.06597, dice=0.86954, loss=0.18089]\n"
     ]
    },
    {
     "name": "stdout",
     "output_type": "stream",
     "text": [
      "loss: 0.14852 | bce: 0.03903 | dice: 0.87094 | 0 cls: 0.11477 | 1 cls: 0.16587 | 2 cls: 0.29135\n"
     ]
    },
    {
     "name": "stderr",
     "output_type": "stream",
     "text": [
      "Epoch 502, lr 3.8879999999999994e-05: 100% 43/43 [00:15<00:00,  2.82it/s, 0 cls=0.14561, 1 cls=0.21598, 2 cls=0.30540, bce=0.06608, dice=0.86825, loss=0.18270]\n"
     ]
    },
    {
     "name": "stdout",
     "output_type": "stream",
     "text": [
      "loss: 0.14868 | bce: 0.03862 | dice: 0.87057 | 0 cls: 0.11512 | 1 cls: 0.16549 | 2 cls: 0.29180\n"
     ]
    },
    {
     "name": "stderr",
     "output_type": "stream",
     "text": [
      "Epoch 503, lr 3.8879999999999994e-05: 100% 43/43 [00:15<00:00,  2.82it/s, 0 cls=0.14280, 1 cls=0.21411, 2 cls=0.30496, bce=0.06619, dice=0.86983, loss=0.18041]\n"
     ]
    },
    {
     "name": "stdout",
     "output_type": "stream",
     "text": [
      "loss: 0.14834 | bce: 0.03888 | dice: 0.87108 | 0 cls: 0.11496 | 1 cls: 0.16510 | 2 cls: 0.29079\n"
     ]
    },
    {
     "name": "stderr",
     "output_type": "stream",
     "text": [
      "Epoch 504, lr 3.8879999999999994e-05: 100% 43/43 [00:15<00:00,  2.83it/s, 0 cls=0.14190, 1 cls=0.21288, 2 cls=0.30112, bce=0.06531, dice=0.87072, loss=0.17912]\n"
     ]
    },
    {
     "name": "stdout",
     "output_type": "stream",
     "text": [
      "loss: 0.14861 | bce: 0.03868 | dice: 0.87068 | 0 cls: 0.11521 | 1 cls: 0.16514 | 2 cls: 0.29147\n"
     ]
    },
    {
     "name": "stderr",
     "output_type": "stream",
     "text": [
      "Epoch 505, lr 3.8879999999999994e-05: 100% 43/43 [00:15<00:00,  2.70it/s, 0 cls=0.14791, 1 cls=0.21755, 2 cls=0.30877, bce=0.06883, dice=0.86863, loss=0.18489]\n"
     ]
    },
    {
     "name": "stdout",
     "output_type": "stream",
     "text": [
      "loss: 0.14859 | bce: 0.03844 | dice: 0.87058 | 0 cls: 0.11517 | 1 cls: 0.16544 | 2 cls: 0.29046\n"
     ]
    },
    {
     "name": "stderr",
     "output_type": "stream",
     "text": [
      "Epoch 506, lr 3.8879999999999994e-05: 100% 43/43 [00:15<00:00,  2.82it/s, 0 cls=0.14486, 1 cls=0.21654, 2 cls=0.30458, bce=0.06643, dice=0.86893, loss=0.18233]\n"
     ]
    },
    {
     "name": "stdout",
     "output_type": "stream",
     "text": [
      "loss: 0.14817 | bce: 0.03894 | dice: 0.87136 | 0 cls: 0.11449 | 1 cls: 0.16538 | 2 cls: 0.29038\n"
     ]
    },
    {
     "name": "stderr",
     "output_type": "stream",
     "text": [
      "Epoch 507, lr 3.8879999999999994e-05: 100% 43/43 [00:15<00:00,  2.83it/s, 0 cls=0.14506, 1 cls=0.21693, 2 cls=0.30418, bce=0.06638, dice=0.86891, loss=0.18253]\n"
     ]
    },
    {
     "name": "stdout",
     "output_type": "stream",
     "text": [
      "loss: 0.14864 | bce: 0.03869 | dice: 0.87065 | 0 cls: 0.11480 | 1 cls: 0.16595 | 2 cls: 0.29162\n"
     ]
    },
    {
     "name": "stderr",
     "output_type": "stream",
     "text": [
      "Epoch 508, lr 3.8879999999999994e-05: 100% 43/43 [00:15<00:00,  2.83it/s, 0 cls=0.14366, 1 cls=0.21744, 2 cls=0.30512, bce=0.06687, dice=0.86945, loss=0.18194]\n"
     ]
    },
    {
     "name": "stdout",
     "output_type": "stream",
     "text": [
      "loss: 0.14864 | bce: 0.03898 | dice: 0.87079 | 0 cls: 0.11501 | 1 cls: 0.16576 | 2 cls: 0.29187\n"
     ]
    },
    {
     "name": "stderr",
     "output_type": "stream",
     "text": [
      "Epoch 509, lr 3.8879999999999994e-05: 100% 43/43 [00:15<00:00,  2.82it/s, 0 cls=0.14510, 1 cls=0.21404, 2 cls=0.30503, bce=0.06583, dice=0.86863, loss=0.18178]\n"
     ]
    },
    {
     "name": "stdout",
     "output_type": "stream",
     "text": [
      "loss: 0.14934 | bce: 0.03899 | dice: 0.87022 | 0 cls: 0.11554 | 1 cls: 0.16630 | 2 cls: 0.29299\n"
     ]
    },
    {
     "name": "stderr",
     "output_type": "stream",
     "text": [
      "Epoch 510, lr 3.8879999999999994e-05: 100% 43/43 [00:15<00:00,  2.82it/s, 0 cls=0.14573, 1 cls=0.21901, 2 cls=0.30793, bce=0.06640, dice=0.86742, loss=0.18393]\n"
     ]
    },
    {
     "name": "stdout",
     "output_type": "stream",
     "text": [
      "loss: 0.14767 | bce: 0.03898 | dice: 0.87192 | 0 cls: 0.11420 | 1 cls: 0.16473 | 2 cls: 0.28896\n"
     ]
    },
    {
     "name": "stderr",
     "output_type": "stream",
     "text": [
      "Epoch 511, lr 3.8879999999999994e-05: 100% 43/43 [00:15<00:00,  2.82it/s, 0 cls=0.14290, 1 cls=0.21483, 2 cls=0.30513, bce=0.06619, dice=0.86957, loss=0.18070]\n"
     ]
    },
    {
     "name": "stdout",
     "output_type": "stream",
     "text": [
      "loss: 0.14968 | bce: 0.03913 | dice: 0.87014 | 0 cls: 0.11586 | 1 cls: 0.16631 | 2 cls: 0.29337\n"
     ]
    },
    {
     "name": "stderr",
     "output_type": "stream",
     "text": [
      "Epoch 512, lr 3.8879999999999994e-05: 100% 43/43 [00:15<00:00,  2.82it/s, 0 cls=0.14112, 1 cls=0.21149, 2 cls=0.30187, bce=0.06526, dice=0.87095, loss=0.17830]\n"
     ]
    },
    {
     "name": "stdout",
     "output_type": "stream",
     "text": [
      "loss: 0.14913 | bce: 0.03893 | dice: 0.87041 | 0 cls: 0.11547 | 1 cls: 0.16587 | 2 cls: 0.29250\n"
     ]
    },
    {
     "name": "stderr",
     "output_type": "stream",
     "text": [
      "Epoch 513, lr 3.8879999999999994e-05: 100% 43/43 [00:15<00:00,  2.83it/s, 0 cls=0.14558, 1 cls=0.21588, 2 cls=0.30535, bce=0.06613, dice=0.86841, loss=0.18265]\n"
     ]
    },
    {
     "name": "stdout",
     "output_type": "stream",
     "text": [
      "loss: 0.14925 | bce: 0.03942 | dice: 0.87066 | 0 cls: 0.11525 | 1 cls: 0.16672 | 2 cls: 0.29220\n"
     ]
    },
    {
     "name": "stderr",
     "output_type": "stream",
     "text": [
      "Epoch 514, lr 3.8879999999999994e-05: 100% 43/43 [00:15<00:00,  2.82it/s, 0 cls=0.14354, 1 cls=0.21556, 2 cls=0.30394, bce=0.06594, dice=0.86938, loss=0.18119]\n"
     ]
    },
    {
     "name": "stdout",
     "output_type": "stream",
     "text": [
      "loss: 0.14904 | bce: 0.03926 | dice: 0.87077 | 0 cls: 0.11530 | 1 cls: 0.16611 | 2 cls: 0.29200\n"
     ]
    },
    {
     "name": "stderr",
     "output_type": "stream",
     "text": [
      "Epoch 515, lr 3.8879999999999994e-05: 100% 43/43 [00:15<00:00,  2.83it/s, 0 cls=0.14357, 1 cls=0.21530, 2 cls=0.30426, bce=0.06633, dice=0.86983, loss=0.18116]\n"
     ]
    },
    {
     "name": "stdout",
     "output_type": "stream",
     "text": [
      "loss: 0.14997 | bce: 0.03880 | dice: 0.86940 | 0 cls: 0.11625 | 1 cls: 0.16651 | 2 cls: 0.29394\n"
     ]
    },
    {
     "name": "stderr",
     "output_type": "stream",
     "text": [
      "Epoch 516, lr 3.8879999999999994e-05: 100% 43/43 [00:16<00:00,  2.68it/s, 0 cls=0.14098, 1 cls=0.21207, 2 cls=0.30088, bce=0.06518, dice=0.87122, loss=0.17830]\n"
     ]
    },
    {
     "name": "stdout",
     "output_type": "stream",
     "text": [
      "loss: 0.14980 | bce: 0.03897 | dice: 0.86993 | 0 cls: 0.11600 | 1 cls: 0.16652 | 2 cls: 0.29282\n"
     ]
    },
    {
     "name": "stderr",
     "output_type": "stream",
     "text": [
      "Epoch 517, lr 3.8879999999999994e-05: 100% 43/43 [00:15<00:00,  2.77it/s, 0 cls=0.14239, 1 cls=0.21532, 2 cls=0.30458, bce=0.06596, dice=0.86959, loss=0.18049]\n"
     ]
    },
    {
     "name": "stdout",
     "output_type": "stream",
     "text": [
      "loss: 0.14863 | bce: 0.03852 | dice: 0.87068 | 0 cls: 0.11542 | 1 cls: 0.16467 | 2 cls: 0.29120\n"
     ]
    },
    {
     "name": "stderr",
     "output_type": "stream",
     "text": [
      "Epoch 518, lr 3.8879999999999994e-05: 100% 43/43 [00:15<00:00,  2.83it/s, 0 cls=0.14162, 1 cls=0.21410, 2 cls=0.30186, bce=0.06542, dice=0.87058, loss=0.17939]\n"
     ]
    },
    {
     "name": "stdout",
     "output_type": "stream",
     "text": [
      "loss: 0.14963 | bce: 0.03906 | dice: 0.87003 | 0 cls: 0.11552 | 1 cls: 0.16673 | 2 cls: 0.29339\n"
     ]
    },
    {
     "name": "stderr",
     "output_type": "stream",
     "text": [
      "Epoch 519, lr 3.8879999999999994e-05: 100% 43/43 [00:15<00:00,  2.83it/s, 0 cls=0.14665, 1 cls=0.21733, 2 cls=0.30601, bce=0.06657, dice=0.86795, loss=0.18379]\n"
     ]
    },
    {
     "name": "stdout",
     "output_type": "stream",
     "text": [
      "loss: 0.14887 | bce: 0.03895 | dice: 0.87078 | 0 cls: 0.11531 | 1 cls: 0.16517 | 2 cls: 0.29170\n"
     ]
    },
    {
     "name": "stderr",
     "output_type": "stream",
     "text": [
      "Epoch 520, lr 3.8879999999999994e-05: 100% 43/43 [00:15<00:00,  2.82it/s, 0 cls=0.14548, 1 cls=0.21359, 2 cls=0.30250, bce=0.06574, dice=0.86925, loss=0.18162]\n"
     ]
    },
    {
     "name": "stdout",
     "output_type": "stream",
     "text": [
      "loss: 0.14976 | bce: 0.03940 | dice: 0.87030 | 0 cls: 0.11574 | 1 cls: 0.16693 | 2 cls: 0.29293\n"
     ]
    },
    {
     "name": "stderr",
     "output_type": "stream",
     "text": [
      "Epoch 521, lr 3.8879999999999994e-05: 100% 43/43 [00:15<00:00,  2.83it/s, 0 cls=0.13900, 1 cls=0.21011, 2 cls=0.29781, bce=0.06449, dice=0.87240, loss=0.17622]\n"
     ]
    },
    {
     "name": "stdout",
     "output_type": "stream",
     "text": [
      "loss: 0.14904 | bce: 0.03894 | dice: 0.87066 | 0 cls: 0.11520 | 1 cls: 0.16587 | 2 cls: 0.29217\n"
     ]
    },
    {
     "name": "stderr",
     "output_type": "stream",
     "text": [
      "Epoch 522, lr 3.8879999999999994e-05: 100% 43/43 [00:15<00:00,  2.83it/s, 0 cls=0.14377, 1 cls=0.21368, 2 cls=0.30233, bce=0.06569, dice=0.86987, loss=0.18060]\n"
     ]
    },
    {
     "name": "stdout",
     "output_type": "stream",
     "text": [
      "loss: 0.14870 | bce: 0.03896 | dice: 0.87101 | 0 cls: 0.11482 | 1 cls: 0.16578 | 2 cls: 0.29111\n"
     ]
    },
    {
     "name": "stderr",
     "output_type": "stream",
     "text": [
      "Epoch 523, lr 3.8879999999999994e-05: 100% 43/43 [00:15<00:00,  2.83it/s, 0 cls=0.14813, 1 cls=0.21829, 2 cls=0.30831, bce=0.06680, dice=0.86658, loss=0.18519]\n"
     ]
    },
    {
     "name": "stdout",
     "output_type": "stream",
     "text": [
      "loss: 0.14822 | bce: 0.03871 | dice: 0.87119 | 0 cls: 0.11434 | 1 cls: 0.16534 | 2 cls: 0.29036\n"
     ]
    },
    {
     "name": "stderr",
     "output_type": "stream",
     "text": [
      "Epoch 524, lr 3.8879999999999994e-05: 100% 43/43 [00:15<00:00,  2.83it/s, 0 cls=0.14265, 1 cls=0.21536, 2 cls=0.30305, bce=0.06613, dice=0.87018, loss=0.18050]\n"
     ]
    },
    {
     "name": "stdout",
     "output_type": "stream",
     "text": [
      "loss: 0.14817 | bce: 0.03880 | dice: 0.87144 | 0 cls: 0.11472 | 1 cls: 0.16450 | 2 cls: 0.28987\n"
     ]
    },
    {
     "name": "stderr",
     "output_type": "stream",
     "text": [
      "Epoch 525, lr 3.8879999999999994e-05: 100% 43/43 [00:15<00:00,  2.83it/s, 0 cls=0.14099, 1 cls=0.21275, 2 cls=0.30159, bce=0.06542, dice=0.87112, loss=0.17858]\n"
     ]
    },
    {
     "name": "stdout",
     "output_type": "stream",
     "text": [
      "loss: 0.14877 | bce: 0.03913 | dice: 0.87104 | 0 cls: 0.11489 | 1 cls: 0.16562 | 2 cls: 0.29135\n"
     ]
    },
    {
     "name": "stderr",
     "output_type": "stream",
     "text": [
      "Epoch 526, lr 3.8879999999999994e-05: 100% 43/43 [00:15<00:00,  2.71it/s, 0 cls=0.14181, 1 cls=0.21324, 2 cls=0.30211, bce=0.06596, dice=0.87098, loss=0.17927]\n"
     ]
    },
    {
     "name": "stdout",
     "output_type": "stream",
     "text": [
      "loss: 0.14881 | bce: 0.03844 | dice: 0.87049 | 0 cls: 0.11542 | 1 cls: 0.16472 | 2 cls: 0.29130\n"
     ]
    },
    {
     "name": "stderr",
     "output_type": "stream",
     "text": [
      "Epoch 527, lr 3.8879999999999994e-05: 100% 43/43 [00:15<00:00,  2.83it/s, 0 cls=0.14124, 1 cls=0.21204, 2 cls=0.29959, bce=0.06504, dice=0.87134, loss=0.17831]\n"
     ]
    },
    {
     "name": "stdout",
     "output_type": "stream",
     "text": [
      "loss: 0.14847 | bce: 0.03881 | dice: 0.87114 | 0 cls: 0.11498 | 1 cls: 0.16472 | 2 cls: 0.29060\n"
     ]
    },
    {
     "name": "stderr",
     "output_type": "stream",
     "text": [
      "Epoch 528, lr 3.8879999999999994e-05: 100% 43/43 [00:15<00:00,  2.82it/s, 0 cls=0.14264, 1 cls=0.21276, 2 cls=0.30220, bce=0.06579, dice=0.87059, loss=0.17963]\n"
     ]
    },
    {
     "name": "stdout",
     "output_type": "stream",
     "text": [
      "loss: 0.14943 | bce: 0.03912 | dice: 0.87047 | 0 cls: 0.11557 | 1 cls: 0.16597 | 2 cls: 0.29202\n"
     ]
    },
    {
     "name": "stderr",
     "output_type": "stream",
     "text": [
      "Epoch 529, lr 3.8879999999999994e-05: 100% 43/43 [00:15<00:00,  2.80it/s, 0 cls=0.14142, 1 cls=0.21446, 2 cls=0.30065, bce=0.06432, dice=0.86989, loss=0.17925]\n"
     ]
    },
    {
     "name": "stdout",
     "output_type": "stream",
     "text": [
      "loss: 0.14885 | bce: 0.03943 | dice: 0.87127 | 0 cls: 0.11521 | 1 cls: 0.16521 | 2 cls: 0.29137\n"
     ]
    },
    {
     "name": "stderr",
     "output_type": "stream",
     "text": [
      "Epoch 530, lr 3.8879999999999994e-05: 100% 43/43 [00:15<00:00,  2.83it/s, 0 cls=0.14034, 1 cls=0.21258, 2 cls=0.29836, bce=0.06517, dice=0.87210, loss=0.17781]\n"
     ]
    },
    {
     "name": "stdout",
     "output_type": "stream",
     "text": [
      "loss: 0.14870 | bce: 0.03883 | dice: 0.87091 | 0 cls: 0.11544 | 1 cls: 0.16450 | 2 cls: 0.29112\n"
     ]
    },
    {
     "name": "stderr",
     "output_type": "stream",
     "text": [
      "Epoch 531, lr 3.8879999999999994e-05: 100% 43/43 [00:15<00:00,  2.82it/s, 0 cls=0.14276, 1 cls=0.21366, 2 cls=0.30107, bce=0.06552, dice=0.87038, loss=0.17986]\n"
     ]
    },
    {
     "name": "stdout",
     "output_type": "stream",
     "text": [
      "loss: 0.14942 | bce: 0.03906 | dice: 0.87057 | 0 cls: 0.11584 | 1 cls: 0.16547 | 2 cls: 0.29207\n"
     ]
    },
    {
     "name": "stderr",
     "output_type": "stream",
     "text": [
      "Epoch 532, lr 3.8879999999999994e-05: 100% 43/43 [00:15<00:00,  2.83it/s, 0 cls=0.14120, 1 cls=0.21053, 2 cls=0.29873, bce=0.06489, dice=0.87172, loss=0.17775]\n"
     ]
    },
    {
     "name": "stdout",
     "output_type": "stream",
     "text": [
      "loss: 0.14891 | bce: 0.03931 | dice: 0.87121 | 0 cls: 0.11537 | 1 cls: 0.16537 | 2 cls: 0.29093\n"
     ]
    },
    {
     "name": "stderr",
     "output_type": "stream",
     "text": [
      "Epoch 533, lr 3.8879999999999994e-05: 100% 43/43 [00:15<00:00,  2.82it/s, 0 cls=0.14209, 1 cls=0.21570, 2 cls=0.30284, bce=0.06569, dice=0.87016, loss=0.18025]\n"
     ]
    },
    {
     "name": "stdout",
     "output_type": "stream",
     "text": [
      "loss: 0.14996 | bce: 0.03919 | dice: 0.86996 | 0 cls: 0.11612 | 1 cls: 0.16674 | 2 cls: 0.29320\n"
     ]
    },
    {
     "name": "stderr",
     "output_type": "stream",
     "text": [
      "Epoch 534, lr 3.8879999999999994e-05: 100% 43/43 [00:15<00:00,  2.83it/s, 0 cls=0.14049, 1 cls=0.21141, 2 cls=0.30004, bce=0.06493, dice=0.87156, loss=0.17772]\n"
     ]
    },
    {
     "name": "stdout",
     "output_type": "stream",
     "text": [
      "loss: 0.14911 | bce: 0.03914 | dice: 0.87077 | 0 cls: 0.11571 | 1 cls: 0.16549 | 2 cls: 0.29146\n"
     ]
    },
    {
     "name": "stderr",
     "output_type": "stream",
     "text": [
      "Epoch 535, lr 3.8879999999999994e-05: 100% 43/43 [00:15<00:00,  2.83it/s, 0 cls=0.15425, 1 cls=0.22585, 2 cls=0.31436, bce=0.06942, dice=0.86377, loss=0.19174]\n"
     ]
    },
    {
     "name": "stdout",
     "output_type": "stream",
     "text": [
      "loss: 0.14848 | bce: 0.03855 | dice: 0.87101 | 0 cls: 0.11528 | 1 cls: 0.16464 | 2 cls: 0.29009\n"
     ]
    },
    {
     "name": "stderr",
     "output_type": "stream",
     "text": [
      "Epoch 536, lr 3.8879999999999994e-05: 100% 43/43 [00:15<00:00,  2.80it/s, 0 cls=0.14106, 1 cls=0.21374, 2 cls=0.30204, bce=0.06472, dice=0.87020, loss=0.17896]\n"
     ]
    },
    {
     "name": "stdout",
     "output_type": "stream",
     "text": [
      "loss: 0.14886 | bce: 0.03891 | dice: 0.87088 | 0 cls: 0.11554 | 1 cls: 0.16474 | 2 cls: 0.29150\n"
     ]
    },
    {
     "name": "stderr",
     "output_type": "stream",
     "text": [
      "Epoch 537, lr 3.8879999999999994e-05: 100% 43/43 [00:15<00:00,  2.83it/s, 0 cls=0.13868, 1 cls=0.20523, 2 cls=0.29378, bce=0.06392, dice=0.87407, loss=0.17416]\n"
     ]
    },
    {
     "name": "stdout",
     "output_type": "stream",
     "text": [
      "loss: 0.14857 | bce: 0.03921 | dice: 0.87142 | 0 cls: 0.11492 | 1 cls: 0.16534 | 2 cls: 0.29065\n"
     ]
    },
    {
     "name": "stderr",
     "output_type": "stream",
     "text": [
      "Epoch 538, lr 3.8879999999999994e-05: 100% 43/43 [00:15<00:00,  2.83it/s, 0 cls=0.14056, 1 cls=0.21176, 2 cls=0.29803, bce=0.06441, dice=0.87147, loss=0.17767]\n"
     ]
    },
    {
     "name": "stdout",
     "output_type": "stream",
     "text": [
      "loss: 0.14871 | bce: 0.03935 | dice: 0.87134 | 0 cls: 0.11511 | 1 cls: 0.16537 | 2 cls: 0.29105\n"
     ]
    },
    {
     "name": "stderr",
     "output_type": "stream",
     "text": [
      "Epoch 539, lr 3.8879999999999994e-05: 100% 43/43 [00:15<00:00,  2.81it/s, 0 cls=0.13911, 1 cls=0.20941, 2 cls=0.29708, bce=0.06462, dice=0.87291, loss=0.17600]\n"
     ]
    },
    {
     "name": "stdout",
     "output_type": "stream",
     "text": [
      "loss: 0.14846 | bce: 0.03888 | dice: 0.87131 | 0 cls: 0.11479 | 1 cls: 0.16518 | 2 cls: 0.29011\n"
     ]
    },
    {
     "name": "stderr",
     "output_type": "stream",
     "text": [
      "Epoch 540, lr 3.8879999999999994e-05: 100% 43/43 [00:15<00:00,  2.80it/s, 0 cls=0.14230, 1 cls=0.21385, 2 cls=0.30181, bce=0.06491, dice=0.86989, loss=0.17972]\n"
     ]
    },
    {
     "name": "stdout",
     "output_type": "stream",
     "text": [
      "loss: 0.14962 | bce: 0.03917 | dice: 0.87027 | 0 cls: 0.11575 | 1 cls: 0.16631 | 2 cls: 0.29293\n"
     ]
    },
    {
     "name": "stderr",
     "output_type": "stream",
     "text": [
      "Epoch 541, lr 3.8879999999999994e-05: 100% 43/43 [00:15<00:00,  2.83it/s, 0 cls=0.13586, 1 cls=0.20735, 2 cls=0.29292, bce=0.06324, dice=0.87450, loss=0.17301]\n"
     ]
    },
    {
     "name": "stdout",
     "output_type": "stream",
     "text": [
      "loss: 0.15030 | bce: 0.03929 | dice: 0.86969 | 0 cls: 0.11634 | 1 cls: 0.16712 | 2 cls: 0.29431\n"
     ]
    },
    {
     "name": "stderr",
     "output_type": "stream",
     "text": [
      "Epoch 542, lr 3.8879999999999994e-05: 100% 43/43 [00:15<00:00,  2.81it/s, 0 cls=0.14056, 1 cls=0.21081, 2 cls=0.29883, bce=0.06539, dice=0.87232, loss=0.17746]\n"
     ]
    },
    {
     "name": "stdout",
     "output_type": "stream",
     "text": [
      "loss: 0.14938 | bce: 0.03893 | dice: 0.87029 | 0 cls: 0.11585 | 1 cls: 0.16548 | 2 cls: 0.29276\n"
     ]
    },
    {
     "name": "stderr",
     "output_type": "stream",
     "text": [
      "Epoch 543, lr 3.8879999999999994e-05: 100% 43/43 [00:15<00:00,  2.82it/s, 0 cls=0.14313, 1 cls=0.21105, 2 cls=0.30043, bce=0.06532, dice=0.87084, loss=0.17923]\n"
     ]
    },
    {
     "name": "stdout",
     "output_type": "stream",
     "text": [
      "loss: 0.14980 | bce: 0.03913 | dice: 0.87017 | 0 cls: 0.11634 | 1 cls: 0.16583 | 2 cls: 0.29280\n"
     ]
    },
    {
     "name": "stderr",
     "output_type": "stream",
     "text": [
      "Epoch 544, lr 3.8879999999999994e-05: 100% 43/43 [00:15<00:00,  2.84it/s, 0 cls=0.13897, 1 cls=0.21012, 2 cls=0.29634, bce=0.06430, dice=0.87279, loss=0.17605]\n"
     ]
    },
    {
     "name": "stdout",
     "output_type": "stream",
     "text": [
      "loss: 0.14965 | bce: 0.03932 | dice: 0.87044 | 0 cls: 0.11617 | 1 cls: 0.16548 | 2 cls: 0.29323\n"
     ]
    },
    {
     "name": "stderr",
     "output_type": "stream",
     "text": [
      "Epoch 545, lr 3.8879999999999994e-05: 100% 43/43 [00:15<00:00,  2.82it/s, 0 cls=0.14285, 1 cls=0.21262, 2 cls=0.30191, bce=0.06603, dice=0.87101, loss=0.17968]\n"
     ]
    },
    {
     "name": "stdout",
     "output_type": "stream",
     "text": [
      "loss: 0.15028 | bce: 0.03879 | dice: 0.86935 | 0 cls: 0.11717 | 1 cls: 0.16512 | 2 cls: 0.29478\n"
     ]
    },
    {
     "name": "stderr",
     "output_type": "stream",
     "text": [
      "Epoch 546, lr 3.8879999999999994e-05: 100% 43/43 [00:15<00:00,  2.84it/s, 0 cls=0.14182, 1 cls=0.21324, 2 cls=0.30373, bce=0.06605, dice=0.87070, loss=0.17944]\n"
     ]
    },
    {
     "name": "stdout",
     "output_type": "stream",
     "text": [
      "loss: 0.14805 | bce: 0.03886 | dice: 0.87167 | 0 cls: 0.11505 | 1 cls: 0.16380 | 2 cls: 0.28926\n"
     ]
    },
    {
     "name": "stderr",
     "output_type": "stream",
     "text": [
      "Epoch 547, lr 3.8879999999999994e-05: 100% 43/43 [00:15<00:00,  2.83it/s, 0 cls=0.14026, 1 cls=0.21187, 2 cls=0.29956, bce=0.06486, dice=0.87156, loss=0.17767]\n"
     ]
    },
    {
     "name": "stdout",
     "output_type": "stream",
     "text": [
      "loss: 0.14833 | bce: 0.03924 | dice: 0.87173 | 0 cls: 0.11527 | 1 cls: 0.16395 | 2 cls: 0.29001\n"
     ]
    },
    {
     "name": "stderr",
     "output_type": "stream",
     "text": [
      "Epoch 548, lr 3.8879999999999994e-05: 100% 43/43 [00:15<00:00,  2.82it/s, 0 cls=0.14290, 1 cls=0.21565, 2 cls=0.30282, bce=0.06582, dice=0.86985, loss=0.18071]\n"
     ]
    },
    {
     "name": "stdout",
     "output_type": "stream",
     "text": [
      "loss: 0.14873 | bce: 0.03904 | dice: 0.87115 | 0 cls: 0.11530 | 1 cls: 0.16497 | 2 cls: 0.29096\n"
     ]
    },
    {
     "name": "stderr",
     "output_type": "stream",
     "text": [
      "Epoch 549, lr 3.8879999999999994e-05: 100% 43/43 [00:15<00:00,  2.82it/s, 0 cls=0.14243, 1 cls=0.21137, 2 cls=0.29950, bce=0.06514, dice=0.87120, loss=0.17882]\n"
     ]
    },
    {
     "name": "stdout",
     "output_type": "stream",
     "text": [
      "loss: 0.14935 | bce: 0.03952 | dice: 0.87096 | 0 cls: 0.11561 | 1 cls: 0.16597 | 2 cls: 0.29177\n"
     ]
    },
    {
     "name": "stderr",
     "output_type": "stream",
     "text": [
      "Epoch 550, lr 3.8879999999999994e-05: 100% 43/43 [00:15<00:00,  2.82it/s, 0 cls=0.14577, 1 cls=0.21679, 2 cls=0.30604, bce=0.06652, dice=0.86841, loss=0.18310]\n"
     ]
    },
    {
     "name": "stdout",
     "output_type": "stream",
     "text": [
      "loss: 0.14917 | bce: 0.03909 | dice: 0.87064 | 0 cls: 0.11555 | 1 cls: 0.16565 | 2 cls: 0.29185\n"
     ]
    },
    {
     "name": "stderr",
     "output_type": "stream",
     "text": [
      "Epoch 551, lr 3.8879999999999994e-05: 100% 43/43 [00:15<00:00,  2.82it/s, 0 cls=0.14278, 1 cls=0.21185, 2 cls=0.30071, bce=0.06563, dice=0.87100, loss=0.17930]\n"
     ]
    },
    {
     "name": "stdout",
     "output_type": "stream",
     "text": [
      "loss: 0.14891 | bce: 0.03885 | dice: 0.87072 | 0 cls: 0.11562 | 1 cls: 0.16495 | 2 cls: 0.29147\n"
     ]
    },
    {
     "name": "stderr",
     "output_type": "stream",
     "text": [
      "Epoch 552, lr 3.8879999999999994e-05: 100% 43/43 [00:15<00:00,  2.83it/s, 0 cls=0.13999, 1 cls=0.21082, 2 cls=0.29884, bce=0.06463, dice=0.87182, loss=0.17712]\n"
     ]
    },
    {
     "name": "stdout",
     "output_type": "stream",
     "text": [
      "loss: 0.15051 | bce: 0.03871 | dice: 0.86907 | 0 cls: 0.11717 | 1 cls: 0.16620 | 2 cls: 0.29418\n"
     ]
    },
    {
     "name": "stderr",
     "output_type": "stream",
     "text": [
      "Epoch 553, lr 3.8879999999999994e-05: 100% 43/43 [00:15<00:00,  2.83it/s, 0 cls=0.14314, 1 cls=0.21264, 2 cls=0.30137, bce=0.06535, dice=0.87030, loss=0.17981]\n"
     ]
    },
    {
     "name": "stdout",
     "output_type": "stream",
     "text": [
      "loss: 0.14999 | bce: 0.03941 | dice: 0.87027 | 0 cls: 0.11639 | 1 cls: 0.16610 | 2 cls: 0.29313\n"
     ]
    },
    {
     "name": "stderr",
     "output_type": "stream",
     "text": [
      "Epoch 554, lr 3.8879999999999994e-05: 100% 43/43 [00:15<00:00,  2.82it/s, 0 cls=0.13811, 1 cls=0.20525, 2 cls=0.29291, bce=0.06384, dice=0.87453, loss=0.17373]\n"
     ]
    },
    {
     "name": "stdout",
     "output_type": "stream",
     "text": [
      "loss: 0.14910 | bce: 0.03912 | dice: 0.87090 | 0 cls: 0.11568 | 1 cls: 0.16507 | 2 cls: 0.29159\n"
     ]
    },
    {
     "name": "stderr",
     "output_type": "stream",
     "text": [
      "Epoch 555, lr 3.8879999999999994e-05: 100% 43/43 [00:15<00:00,  2.81it/s, 0 cls=0.14355, 1 cls=0.21418, 2 cls=0.30279, bce=0.06565, dice=0.86976, loss=0.18066]\n"
     ]
    },
    {
     "name": "stdout",
     "output_type": "stream",
     "text": [
      "loss: 0.14918 | bce: 0.03899 | dice: 0.87073 | 0 cls: 0.11578 | 1 cls: 0.16518 | 2 cls: 0.29145\n"
     ]
    },
    {
     "name": "stderr",
     "output_type": "stream",
     "text": [
      "Epoch 556, lr 3.8879999999999994e-05: 100% 43/43 [00:15<00:00,  2.83it/s, 0 cls=0.13701, 1 cls=0.20768, 2 cls=0.29480, bce=0.06373, dice=0.87394, loss=0.17399]\n"
     ]
    },
    {
     "name": "stdout",
     "output_type": "stream",
     "text": [
      "loss: 0.14900 | bce: 0.03921 | dice: 0.87112 | 0 cls: 0.11544 | 1 cls: 0.16526 | 2 cls: 0.29111\n"
     ]
    },
    {
     "name": "stderr",
     "output_type": "stream",
     "text": [
      "Epoch 557, lr 3.8879999999999994e-05: 100% 43/43 [00:15<00:00,  2.84it/s, 0 cls=0.14222, 1 cls=0.21395, 2 cls=0.30138, bce=0.06608, dice=0.87105, loss=0.17965]\n"
     ]
    },
    {
     "name": "stdout",
     "output_type": "stream",
     "text": [
      "loss: 0.15012 | bce: 0.03899 | dice: 0.86979 | 0 cls: 0.11658 | 1 cls: 0.16607 | 2 cls: 0.29356\n"
     ]
    },
    {
     "name": "stderr",
     "output_type": "stream",
     "text": [
      "Epoch 558, lr 3.8879999999999994e-05: 100% 43/43 [00:15<00:00,  2.82it/s, 0 cls=0.14021, 1 cls=0.21165, 2 cls=0.30132, bce=0.06558, dice=0.87181, loss=0.17775]\n"
     ]
    },
    {
     "name": "stdout",
     "output_type": "stream",
     "text": [
      "loss: 0.14997 | bce: 0.03946 | dice: 0.87043 | 0 cls: 0.11600 | 1 cls: 0.16659 | 2 cls: 0.29284\n"
     ]
    },
    {
     "name": "stderr",
     "output_type": "stream",
     "text": [
      "Epoch 559, lr 3.8879999999999994e-05: 100% 43/43 [00:15<00:00,  2.83it/s, 0 cls=0.14071, 1 cls=0.21240, 2 cls=0.29943, bce=0.06450, dice=0.87107, loss=0.17809]\n"
     ]
    },
    {
     "name": "stdout",
     "output_type": "stream",
     "text": [
      "loss: 0.14943 | bce: 0.03927 | dice: 0.87082 | 0 cls: 0.11591 | 1 cls: 0.16544 | 2 cls: 0.29152\n"
     ]
    },
    {
     "name": "stderr",
     "output_type": "stream",
     "text": [
      "Epoch 560, lr 3.8879999999999994e-05: 100% 43/43 [00:15<00:00,  2.81it/s, 0 cls=0.14050, 1 cls=0.21128, 2 cls=0.29997, bce=0.06546, dice=0.87206, loss=0.17768]\n"
     ]
    },
    {
     "name": "stdout",
     "output_type": "stream",
     "text": [
      "loss: 0.14901 | bce: 0.03889 | dice: 0.87081 | 0 cls: 0.11558 | 1 cls: 0.16475 | 2 cls: 0.29159\n"
     ]
    },
    {
     "name": "stderr",
     "output_type": "stream",
     "text": [
      "Epoch 561, lr 3.8879999999999994e-05: 100% 43/43 [00:15<00:00,  2.83it/s, 0 cls=0.13869, 1 cls=0.20953, 2 cls=0.29703, bce=0.06434, dice=0.87287, loss=0.17578]\n"
     ]
    },
    {
     "name": "stdout",
     "output_type": "stream",
     "text": [
      "loss: 0.14905 | bce: 0.03878 | dice: 0.87056 | 0 cls: 0.11548 | 1 cls: 0.16535 | 2 cls: 0.29174\n"
     ]
    },
    {
     "name": "stderr",
     "output_type": "stream",
     "text": [
      "Epoch 562, lr 3.8879999999999994e-05: 100% 43/43 [00:15<00:00,  2.83it/s, 0 cls=0.13731, 1 cls=0.20695, 2 cls=0.29447, bce=0.06326, dice=0.87363, loss=0.17392]\n"
     ]
    },
    {
     "name": "stdout",
     "output_type": "stream",
     "text": [
      "loss: 0.14880 | bce: 0.03910 | dice: 0.87127 | 0 cls: 0.11552 | 1 cls: 0.16452 | 2 cls: 0.29113\n"
     ]
    },
    {
     "name": "stderr",
     "output_type": "stream",
     "text": [
      "Epoch 563, lr 3.8879999999999994e-05: 100% 43/43 [00:15<00:00,  2.82it/s, 0 cls=0.14110, 1 cls=0.21174, 2 cls=0.30138, bce=0.06553, dice=0.87145, loss=0.17832]\n"
     ]
    },
    {
     "name": "stdout",
     "output_type": "stream",
     "text": [
      "loss: 0.14915 | bce: 0.03843 | dice: 0.87032 | 0 cls: 0.11613 | 1 cls: 0.16446 | 2 cls: 0.29176\n"
     ]
    },
    {
     "name": "stderr",
     "output_type": "stream",
     "text": [
      "Epoch 564, lr 3.8879999999999994e-05: 100% 43/43 [00:15<00:00,  2.81it/s, 0 cls=0.13791, 1 cls=0.20549, 2 cls=0.29344, bce=0.06349, dice=0.87419, loss=0.17374]\n"
     ]
    },
    {
     "name": "stdout",
     "output_type": "stream",
     "text": [
      "loss: 0.14935 | bce: 0.03883 | dice: 0.87041 | 0 cls: 0.11595 | 1 cls: 0.16525 | 2 cls: 0.29201\n"
     ]
    },
    {
     "name": "stderr",
     "output_type": "stream",
     "text": [
      "Epoch 565, lr 3.8879999999999994e-05: 100% 43/43 [00:15<00:00,  2.82it/s, 0 cls=0.14175, 1 cls=0.21263, 2 cls=0.30003, bce=0.06545, dice=0.87136, loss=0.17884]\n"
     ]
    },
    {
     "name": "stdout",
     "output_type": "stream",
     "text": [
      "loss: 0.14950 | bce: 0.03839 | dice: 0.86997 | 0 cls: 0.11629 | 1 cls: 0.16522 | 2 cls: 0.29198\n"
     ]
    },
    {
     "name": "stderr",
     "output_type": "stream",
     "text": [
      "Epoch 566, lr 3.8879999999999994e-05: 100% 43/43 [00:15<00:00,  2.82it/s, 0 cls=0.13958, 1 cls=0.21278, 2 cls=0.29933, bce=0.06451, dice=0.87155, loss=0.17752]\n"
     ]
    },
    {
     "name": "stdout",
     "output_type": "stream",
     "text": [
      "loss: 0.14987 | bce: 0.03923 | dice: 0.87021 | 0 cls: 0.11639 | 1 cls: 0.16572 | 2 cls: 0.29315\n"
     ]
    },
    {
     "name": "stderr",
     "output_type": "stream",
     "text": [
      "Epoch 567, lr 3.8879999999999994e-05: 100% 43/43 [00:15<00:00,  2.82it/s, 0 cls=0.13722, 1 cls=0.21275, 2 cls=0.29752, bce=0.06433, dice=0.87275, loss=0.17591]\n"
     ]
    },
    {
     "name": "stdout",
     "output_type": "stream",
     "text": [
      "loss: 0.14951 | bce: 0.03889 | dice: 0.87023 | 0 cls: 0.11607 | 1 cls: 0.16541 | 2 cls: 0.29271\n"
     ]
    },
    {
     "name": "stderr",
     "output_type": "stream",
     "text": [
      "Epoch 568, lr 3.8879999999999994e-05: 100% 43/43 [00:15<00:00,  2.83it/s, 0 cls=0.14082, 1 cls=0.21054, 2 cls=0.29859, bce=0.06482, dice=0.87184, loss=0.17751]\n"
     ]
    },
    {
     "name": "stdout",
     "output_type": "stream",
     "text": [
      "loss: 0.14981 | bce: 0.03881 | dice: 0.86987 | 0 cls: 0.11658 | 1 cls: 0.16531 | 2 cls: 0.29296\n"
     ]
    },
    {
     "name": "stderr",
     "output_type": "stream",
     "text": [
      "Epoch 569, lr 3.8879999999999994e-05: 100% 43/43 [00:15<00:00,  2.82it/s, 0 cls=0.14030, 1 cls=0.20955, 2 cls=0.29733, bce=0.06487, dice=0.87272, loss=0.17678]\n"
     ]
    },
    {
     "name": "stdout",
     "output_type": "stream",
     "text": [
      "loss: 0.14913 | bce: 0.03833 | dice: 0.87024 | 0 cls: 0.11651 | 1 cls: 0.16373 | 2 cls: 0.29182\n"
     ]
    },
    {
     "name": "stderr",
     "output_type": "stream",
     "text": [
      "Epoch 570, lr 3.8879999999999994e-05: 100% 43/43 [00:15<00:00,  2.83it/s, 0 cls=0.13799, 1 cls=0.20827, 2 cls=0.29475, bce=0.06385, dice=0.87351, loss=0.17475]\n"
     ]
    },
    {
     "name": "stdout",
     "output_type": "stream",
     "text": [
      "loss: 0.14875 | bce: 0.03865 | dice: 0.87088 | 0 cls: 0.11584 | 1 cls: 0.16381 | 2 cls: 0.29136\n"
     ]
    },
    {
     "name": "stderr",
     "output_type": "stream",
     "text": [
      "Epoch 571, lr 3.8879999999999994e-05: 100% 43/43 [00:15<00:00,  2.82it/s, 0 cls=0.14000, 1 cls=0.21314, 2 cls=0.30146, bce=0.06485, dice=0.87093, loss=0.17809]\n"
     ]
    },
    {
     "name": "stdout",
     "output_type": "stream",
     "text": [
      "loss: 0.14880 | bce: 0.03919 | dice: 0.87128 | 0 cls: 0.11590 | 1 cls: 0.16380 | 2 cls: 0.29114\n"
     ]
    },
    {
     "name": "stderr",
     "output_type": "stream",
     "text": [
      "Epoch 572, lr 3.8879999999999994e-05: 100% 43/43 [00:15<00:00,  2.81it/s, 0 cls=0.14291, 1 cls=0.21393, 2 cls=0.30141, bce=0.06574, dice=0.87059, loss=0.18007]\n"
     ]
    },
    {
     "name": "stdout",
     "output_type": "stream",
     "text": [
      "loss: 0.14969 | bce: 0.03887 | dice: 0.87017 | 0 cls: 0.11657 | 1 cls: 0.16499 | 2 cls: 0.29217\n"
     ]
    },
    {
     "name": "stderr",
     "output_type": "stream",
     "text": [
      "Epoch 573, lr 3.8879999999999994e-05: 100% 43/43 [00:15<00:00,  2.82it/s, 0 cls=0.14275, 1 cls=0.21599, 2 cls=0.30286, bce=0.06607, dice=0.87006, loss=0.18073]\n"
     ]
    },
    {
     "name": "stdout",
     "output_type": "stream",
     "text": [
      "loss: 0.14947 | bce: 0.03867 | dice: 0.87030 | 0 cls: 0.11645 | 1 cls: 0.16483 | 2 cls: 0.29144\n"
     ]
    },
    {
     "name": "stderr",
     "output_type": "stream",
     "text": [
      "Epoch 574, lr 3.8879999999999994e-05: 100% 43/43 [00:15<00:00,  2.82it/s, 0 cls=0.13543, 1 cls=0.20730, 2 cls=0.29265, bce=0.06356, dice=0.87506, loss=0.17271]\n"
     ]
    },
    {
     "name": "stdout",
     "output_type": "stream",
     "text": [
      "loss: 0.14983 | bce: 0.03888 | dice: 0.87005 | 0 cls: 0.11657 | 1 cls: 0.16497 | 2 cls: 0.29330\n"
     ]
    },
    {
     "name": "stderr",
     "output_type": "stream",
     "text": [
      "Epoch 575, lr 3.8879999999999994e-05: 100% 43/43 [00:15<00:00,  2.82it/s, 0 cls=0.13788, 1 cls=0.20656, 2 cls=0.29203, bce=0.06424, dice=0.87494, loss=0.17390]\n"
     ]
    },
    {
     "name": "stdout",
     "output_type": "stream",
     "text": [
      "loss: 0.14894 | bce: 0.03898 | dice: 0.87102 | 0 cls: 0.11551 | 1 cls: 0.16495 | 2 cls: 0.29122\n"
     ]
    },
    {
     "name": "stderr",
     "output_type": "stream",
     "text": [
      "Epoch 576, lr 3.8879999999999994e-05: 100% 43/43 [00:15<00:00,  2.82it/s, 0 cls=0.14249, 1 cls=0.21427, 2 cls=0.30144, bce=0.06593, dice=0.87077, loss=0.17992]\n"
     ]
    },
    {
     "name": "stdout",
     "output_type": "stream",
     "text": [
      "loss: 0.14957 | bce: 0.03860 | dice: 0.87008 | 0 cls: 0.11583 | 1 cls: 0.16584 | 2 cls: 0.29206\n"
     ]
    },
    {
     "name": "stderr",
     "output_type": "stream",
     "text": [
      "Epoch 577, lr 3.8879999999999994e-05: 100% 43/43 [00:15<00:00,  2.77it/s, 0 cls=0.13577, 1 cls=0.20498, 2 cls=0.29119, bce=0.06242, dice=0.87471, loss=0.17207]\n"
     ]
    },
    {
     "name": "stdout",
     "output_type": "stream",
     "text": [
      "loss: 0.14980 | bce: 0.03919 | dice: 0.87028 | 0 cls: 0.11636 | 1 cls: 0.16537 | 2 cls: 0.29297\n"
     ]
    },
    {
     "name": "stderr",
     "output_type": "stream",
     "text": [
      "Epoch 578, lr 3.8879999999999994e-05: 100% 43/43 [00:15<00:00,  2.82it/s, 0 cls=0.13867, 1 cls=0.21015, 2 cls=0.29670, bce=0.06405, dice=0.87259, loss=0.17592]\n"
     ]
    },
    {
     "name": "stdout",
     "output_type": "stream",
     "text": [
      "loss: 0.15049 | bce: 0.03925 | dice: 0.86964 | 0 cls: 0.11698 | 1 cls: 0.16578 | 2 cls: 0.29473\n"
     ]
    },
    {
     "name": "stderr",
     "output_type": "stream",
     "text": [
      "Epoch 579, lr 3.8879999999999994e-05: 100% 43/43 [00:15<00:00,  2.83it/s, 0 cls=0.13924, 1 cls=0.21269, 2 cls=0.29877, bce=0.06486, dice=0.87223, loss=0.17723]\n"
     ]
    },
    {
     "name": "stdout",
     "output_type": "stream",
     "text": [
      "loss: 0.14838 | bce: 0.03888 | dice: 0.87140 | 0 cls: 0.11497 | 1 cls: 0.16443 | 2 cls: 0.29008\n"
     ]
    },
    {
     "name": "stderr",
     "output_type": "stream",
     "text": [
      "Epoch 580, lr 3.8879999999999994e-05: 100% 43/43 [00:15<00:00,  2.81it/s, 0 cls=0.14039, 1 cls=0.20938, 2 cls=0.29646, bce=0.06440, dice=0.87247, loss=0.17670]\n"
     ]
    },
    {
     "name": "stdout",
     "output_type": "stream",
     "text": [
      "loss: 0.15061 | bce: 0.03904 | dice: 0.86929 | 0 cls: 0.11741 | 1 cls: 0.16540 | 2 cls: 0.29479\n"
     ]
    },
    {
     "name": "stderr",
     "output_type": "stream",
     "text": [
      "Epoch 581, lr 3.8879999999999994e-05: 100% 43/43 [00:15<00:00,  2.82it/s, 0 cls=0.13606, 1 cls=0.20644, 2 cls=0.29176, bce=0.06332, dice=0.87495, loss=0.17275]\n"
     ]
    },
    {
     "name": "stdout",
     "output_type": "stream",
     "text": [
      "loss: 0.14951 | bce: 0.03907 | dice: 0.87047 | 0 cls: 0.11661 | 1 cls: 0.16423 | 2 cls: 0.29259\n"
     ]
    },
    {
     "name": "stderr",
     "output_type": "stream",
     "text": [
      "Epoch 582, lr 3.8879999999999994e-05: 100% 43/43 [00:15<00:00,  2.80it/s, 0 cls=0.13330, 1 cls=0.20270, 2 cls=0.28781, bce=0.06189, dice=0.87667, loss=0.16957]\n"
     ]
    },
    {
     "name": "stdout",
     "output_type": "stream",
     "text": [
      "loss: 0.14857 | bce: 0.03911 | dice: 0.87147 | 0 cls: 0.11534 | 1 cls: 0.16427 | 2 cls: 0.29056\n"
     ]
    },
    {
     "name": "stderr",
     "output_type": "stream",
     "text": [
      "Epoch 583, lr 3.8879999999999994e-05: 100% 43/43 [00:15<00:00,  2.82it/s, 0 cls=0.13865, 1 cls=0.20576, 2 cls=0.29319, bce=0.06425, dice=0.87451, loss=0.17424]\n"
     ]
    },
    {
     "name": "stdout",
     "output_type": "stream",
     "text": [
      "loss: 0.14982 | bce: 0.03891 | dice: 0.87005 | 0 cls: 0.11626 | 1 cls: 0.16586 | 2 cls: 0.29220\n"
     ]
    },
    {
     "name": "stderr",
     "output_type": "stream",
     "text": [
      "Epoch 584, lr 3.8879999999999994e-05: 100% 43/43 [00:15<00:00,  2.82it/s, 0 cls=0.14351, 1 cls=0.21262, 2 cls=0.29934, bce=0.06488, dice=0.87029, loss=0.17983]\n"
     ]
    },
    {
     "name": "stdout",
     "output_type": "stream",
     "text": [
      "loss: 0.14979 | bce: 0.03936 | dice: 0.87033 | 0 cls: 0.11622 | 1 cls: 0.16558 | 2 cls: 0.29329\n"
     ]
    },
    {
     "name": "stderr",
     "output_type": "stream",
     "text": [
      "Epoch 585, lr 3.8879999999999994e-05: 100% 43/43 [00:15<00:00,  2.82it/s, 0 cls=0.13831, 1 cls=0.21150, 2 cls=0.29640, bce=0.06454, dice=0.87299, loss=0.17607]\n"
     ]
    },
    {
     "name": "stdout",
     "output_type": "stream",
     "text": [
      "loss: 0.14970 | bce: 0.03909 | dice: 0.87024 | 0 cls: 0.11633 | 1 cls: 0.16523 | 2 cls: 0.29311\n"
     ]
    },
    {
     "name": "stderr",
     "output_type": "stream",
     "text": [
      "Epoch 586, lr 3.8879999999999994e-05: 100% 43/43 [00:15<00:00,  2.81it/s, 0 cls=0.13935, 1 cls=0.20777, 2 cls=0.29453, bce=0.06403, dice=0.87344, loss=0.17539]\n"
     ]
    },
    {
     "name": "stdout",
     "output_type": "stream",
     "text": [
      "loss: 0.14937 | bce: 0.03934 | dice: 0.87069 | 0 cls: 0.11595 | 1 cls: 0.16530 | 2 cls: 0.29263\n"
     ]
    },
    {
     "name": "stderr",
     "output_type": "stream",
     "text": [
      "Epoch 587, lr 3.8879999999999994e-05: 100% 43/43 [00:15<00:00,  2.73it/s, 0 cls=0.13980, 1 cls=0.20765, 2 cls=0.29554, bce=0.06387, dice=0.87272, loss=0.17573]\n"
     ]
    },
    {
     "name": "stdout",
     "output_type": "stream",
     "text": [
      "loss: 0.14981 | bce: 0.03907 | dice: 0.87002 | 0 cls: 0.11639 | 1 cls: 0.16537 | 2 cls: 0.29368\n"
     ]
    },
    {
     "name": "stderr",
     "output_type": "stream",
     "text": [
      "Epoch 588, lr 3.8879999999999994e-05: 100% 43/43 [00:15<00:00,  2.80it/s, 0 cls=0.14041, 1 cls=0.20985, 2 cls=0.29664, bce=0.06437, dice=0.87232, loss=0.17687]\n"
     ]
    },
    {
     "name": "stdout",
     "output_type": "stream",
     "text": [
      "loss: 0.14904 | bce: 0.03915 | dice: 0.87098 | 0 cls: 0.11566 | 1 cls: 0.16472 | 2 cls: 0.29209\n"
     ]
    },
    {
     "name": "stderr",
     "output_type": "stream",
     "text": [
      "Epoch 589, lr 3.8879999999999994e-05: 100% 43/43 [00:15<00:00,  2.82it/s, 0 cls=0.14299, 1 cls=0.21288, 2 cls=0.30020, bce=0.06517, dice=0.87043, loss=0.17968]\n"
     ]
    },
    {
     "name": "stdout",
     "output_type": "stream",
     "text": [
      "loss: 0.14956 | bce: 0.03848 | dice: 0.86980 | 0 cls: 0.11658 | 1 cls: 0.16460 | 2 cls: 0.29280\n"
     ]
    },
    {
     "name": "stderr",
     "output_type": "stream",
     "text": [
      "Epoch 590, lr 0.00059049: 100% 43/43 [00:15<00:00,  2.82it/s, 0 cls=0.14948, 1 cls=0.22500, 2 cls=0.31439, bce=0.06898, dice=0.86516, loss=0.18863]\n"
     ]
    },
    {
     "name": "stdout",
     "output_type": "stream",
     "text": [
      "loss: 0.15244 | bce: 0.04153 | dice: 0.86895 | 0 cls: 0.11834 | 1 cls: 0.17035 | 2 cls: 0.29651\n"
     ]
    },
    {
     "name": "stderr",
     "output_type": "stream",
     "text": [
      "Epoch 591, lr 0.00059049: 100% 43/43 [00:15<00:00,  2.82it/s, 0 cls=0.15433, 1 cls=0.22841, 2 cls=0.32217, bce=0.07045, dice=0.86177, loss=0.19334]\n"
     ]
    },
    {
     "name": "stdout",
     "output_type": "stream",
     "text": [
      "loss: 0.15133 | bce: 0.04170 | dice: 0.87080 | 0 cls: 0.11339 | 1 cls: 0.17539 | 2 cls: 0.29347\n"
     ]
    },
    {
     "name": "stderr",
     "output_type": "stream",
     "text": [
      "Epoch 592, lr 0.000177147: 100% 43/43 [00:15<00:00,  2.83it/s, 0 cls=0.14756, 1 cls=0.21848, 2 cls=0.30923, bce=0.06705, dice=0.86681, loss=0.18501]\n"
     ]
    },
    {
     "name": "stdout",
     "output_type": "stream",
     "text": [
      "loss: 0.15159 | bce: 0.04109 | dice: 0.87050 | 0 cls: 0.11685 | 1 cls: 0.16978 | 2 cls: 0.29423\n"
     ]
    },
    {
     "name": "stderr",
     "output_type": "stream",
     "text": [
      "Epoch 593, lr 0.000177147: 100% 43/43 [00:15<00:00,  2.81it/s, 0 cls=0.14499, 1 cls=0.21723, 2 cls=0.30604, bce=0.06646, dice=0.86853, loss=0.18277]\n"
     ]
    },
    {
     "name": "stdout",
     "output_type": "stream",
     "text": [
      "loss: 0.15140 | bce: 0.04084 | dice: 0.87029 | 0 cls: 0.11606 | 1 cls: 0.16991 | 2 cls: 0.29565\n"
     ]
    },
    {
     "name": "stderr",
     "output_type": "stream",
     "text": [
      "Epoch 594, lr 5.3144100000000005e-05: 100% 43/43 [00:15<00:00,  2.82it/s, 0 cls=0.14499, 1 cls=0.21612, 2 cls=0.30506, bce=0.06566, dice=0.86823, loss=0.18233]\n"
     ]
    },
    {
     "name": "stdout",
     "output_type": "stream",
     "text": [
      "loss: 0.14946 | bce: 0.03918 | dice: 0.87070 | 0 cls: 0.11567 | 1 cls: 0.16589 | 2 cls: 0.29225\n"
     ]
    },
    {
     "name": "stderr",
     "output_type": "stream",
     "text": [
      "Epoch 595, lr 0.00059049: 100% 43/43 [00:15<00:00,  2.82it/s, 0 cls=0.15125, 1 cls=0.22391, 2 cls=0.31662, bce=0.06934, dice=0.86434, loss=0.18958]\n"
     ]
    },
    {
     "name": "stdout",
     "output_type": "stream",
     "text": [
      "loss: 0.15829 | bce: 0.03886 | dice: 0.86091 | 0 cls: 0.12416 | 1 cls: 0.17210 | 2 cls: 0.31373\n"
     ]
    },
    {
     "name": "stderr",
     "output_type": "stream",
     "text": [
      "Epoch 596, lr 0.00059049: 100% 43/43 [00:15<00:00,  2.84it/s, 0 cls=0.16203, 1 cls=0.23499, 2 cls=0.33144, bce=0.07391, dice=0.85831, loss=0.20086]\n"
     ]
    },
    {
     "name": "stdout",
     "output_type": "stream",
     "text": [
      "loss: 0.15326 | bce: 0.04166 | dice: 0.87009 | 0 cls: 0.11409 | 1 cls: 0.17744 | 2 cls: 0.29561\n"
     ]
    },
    {
     "name": "stderr",
     "output_type": "stream",
     "text": [
      "Epoch 597, lr 0.000177147: 100% 43/43 [00:15<00:00,  2.77it/s, 0 cls=0.16326, 1 cls=0.23520, 2 cls=0.32656, bce=0.07311, dice=0.85846, loss=0.20117]\n"
     ]
    },
    {
     "name": "stdout",
     "output_type": "stream",
     "text": [
      "loss: 0.15152 | bce: 0.03744 | dice: 0.86763 | 0 cls: 0.11811 | 1 cls: 0.16677 | 2 cls: 0.29316\n"
     ]
    },
    {
     "name": "stderr",
     "output_type": "stream",
     "text": [
      "Epoch 598, lr 0.000177147: 100% 43/43 [00:15<00:00,  2.76it/s, 0 cls=0.15268, 1 cls=0.22277, 2 cls=0.31398, bce=0.06865, dice=0.86426, loss=0.18984]\n"
     ]
    },
    {
     "name": "stdout",
     "output_type": "stream",
     "text": [
      "loss: 0.14842 | bce: 0.03936 | dice: 0.87174 | 0 cls: 0.11368 | 1 cls: 0.16612 | 2 cls: 0.29028\n"
     ]
    },
    {
     "name": "stderr",
     "output_type": "stream",
     "text": [
      "Epoch 599, lr 5.3144100000000005e-05: 100% 43/43 [00:15<00:00,  2.82it/s, 0 cls=0.14273, 1 cls=0.21448, 2 cls=0.30401, bce=0.06606, dice=0.86987, loss=0.18038]\n"
     ]
    },
    {
     "name": "stdout",
     "output_type": "stream",
     "text": [
      "loss: 0.14923 | bce: 0.03929 | dice: 0.87118 | 0 cls: 0.11434 | 1 cls: 0.16654 | 2 cls: 0.29205\n",
      "Finished: best loss 0.14619 on epoch 254\n"
     ]
    }
   ],
   "source": [
    "train_args = {\n",
    "    'model_name': 'TernausNet34_with_scale_05_vgg11',\n",
    "    'network': 'UNet11',\n",
    "    'nb_epoch': 600,\n",
    "    'loss': 'BCEDiceLossMulti',\n",
    "    'lr_args': {\n",
    "        'adjust_init_lr': 0.0005,\n",
    "        'adjust_lr_decay_factor': 0.6,\n",
    "        'cycle_epochs_decay': 2,\n",
    "        'cycle_init_lr': 0.001,\n",
    "        'cycle_lr_decay_factor': 0.3,\n",
    "        'global_cycle_lr_decay_factor': 0.9,\n",
    "        'global_num_epochs_per_cycle': 100,\n",
    "        'num_epochs_per_cycle': 5,\n",
    "        'num_epochs_per_decay': 100\n",
    "    }, \n",
    "    'model_dir': 'models', \n",
    "    'log_dir': 'logs', \n",
    "    'network_args': {\n",
    "        'num_classes': 3, \n",
    "        'num_filters': 32, \n",
    "        'pretrained': True\n",
    "    }, \n",
    "    'loss_args': {\n",
    "        'weights': [0.6, 0.3, 0.1],\n",
    "        'num_classes': 3\n",
    "    },       \n",
    "    'optimizer': 'Adam'\n",
    "}\n",
    "\n",
    "train(\n",
    "    train_args, train_ids + val_ids, val_ids[:1], \n",
    "    \"../output_data/with_scale_05/scaled_images/{}.png\", \"../output_data/with_scale_05/scaled_masks/{}.png\", \n",
    "    16, 1, train_transforms, val_transforms, period=64\n",
    ")"
   ]
  },
  {
   "cell_type": "code",
   "execution_count": null,
   "metadata": {},
   "outputs": [],
   "source": []
  }
 ],
 "metadata": {
  "kernelspec": {
   "display_name": "Python 3",
   "language": "python",
   "name": "python3"
  },
  "language_info": {
   "codemirror_mode": {
    "name": "ipython",
    "version": 3
   },
   "file_extension": ".py",
   "mimetype": "text/x-python",
   "name": "python",
   "nbconvert_exporter": "python",
   "pygments_lexer": "ipython3",
   "version": "3.6.4"
  }
 },
 "nbformat": 4,
 "nbformat_minor": 2
}
