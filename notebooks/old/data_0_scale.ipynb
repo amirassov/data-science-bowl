{
 "cells": [
  {
   "cell_type": "code",
   "execution_count": 1,
   "metadata": {},
   "outputs": [],
   "source": [
    "import warnings\n",
    "warnings.simplefilter(\"ignore\", UserWarning)\n",
    "warnings.simplefilter(\"ignore\", FutureWarning)\n",
    "warnings.simplefilter(\"ignore\", RuntimeWarning)\n",
    "\n",
    "import sys\n",
    "sys.path.append('../../dstorch/')\n",
    "\n",
    "import matplotlib.pyplot as plt\n",
    "%matplotlib inline\n",
    "%reload_ext autoreload\n",
    "%autoreload 2"
   ]
  },
  {
   "cell_type": "code",
   "execution_count": 3,
   "metadata": {},
   "outputs": [],
   "source": [
    "import pandas as pd\n",
    "from dstorch import preprocessing, io, draw\n",
    "import os\n",
    "import cv2"
   ]
  },
  {
   "cell_type": "code",
   "execution_count": 4,
   "metadata": {
    "scrolled": true
   },
   "outputs": [
    {
     "name": "stderr",
     "output_type": "stream",
     "text": [
      "Reading train data..: 100%|██████████| 664/664 [00:39<00:00, 16.72it/s]\n",
      "Reading train data..: 100%|██████████| 30/30 [01:54<00:00,  3.83s/it]\n",
      "Reading test data..: 100%|██████████| 65/65 [00:00<00:00, 269.35it/s]\n"
     ]
    }
   ],
   "source": [
    "ids, images, masks, labels = io.read_train_data('../data/kaggle-dsbowl-2018-dataset-fixes/stage1_train/')\n",
    "extra_ids, extra_images, extra_masks, extra_labels = io.read_train_data('../data/extra_data/')"
   ]
  },
  {
   "cell_type": "code",
   "execution_count": 6,
   "metadata": {},
   "outputs": [],
   "source": [
    "df_scale = preprocessing.get_scale_df(ids, images, '../data/stage1_train_labels.csv', 250)\n",
    "df_scale_extra = preprocessing.get_scale_df(extra_ids, extra_images, '../output_data/extra_data_labels.csv', 250)"
   ]
  },
  {
   "cell_type": "code",
   "execution_count": 10,
   "metadata": {},
   "outputs": [],
   "source": [
    "df_scale.to_csv('../output_data/scale_train.csv', index=False)\n",
    "df_scale_extra.to_csv('../output_data/scale_extra.csv', index=False)"
   ]
  }
 ],
 "metadata": {
  "kernelspec": {
   "display_name": "Python 3",
   "language": "python",
   "name": "python3"
  },
  "language_info": {
   "codemirror_mode": {
    "name": "ipython",
    "version": 3
   },
   "file_extension": ".py",
   "mimetype": "text/x-python",
   "name": "python",
   "nbconvert_exporter": "python",
   "pygments_lexer": "ipython3",
   "version": "3.6.3"
  }
 },
 "nbformat": 4,
 "nbformat_minor": 2
}
