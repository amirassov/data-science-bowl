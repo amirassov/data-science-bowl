{
 "cells": [
  {
   "cell_type": "code",
   "execution_count": 1,
   "metadata": {},
   "outputs": [
    {
     "data": {
      "text/html": [
       "<style>.container { width:95% !important; }</style>"
      ],
      "text/plain": [
       "<IPython.core.display.HTML object>"
      ]
     },
     "metadata": {},
     "output_type": "display_data"
    }
   ],
   "source": [
    "from IPython.core.display import display, HTML\n",
    "display(HTML(\"<style>.container { width:95% !important; }</style>\"))"
   ]
  },
  {
   "cell_type": "code",
   "execution_count": 2,
   "metadata": {},
   "outputs": [],
   "source": [
    "import warnings\n",
    "warnings.simplefilter(\"ignore\", UserWarning)\n",
    "warnings.simplefilter(\"ignore\", FutureWarning)\n",
    "warnings.simplefilter(\"ignore\", RuntimeWarning)\n",
    "\n",
    "import sys\n",
    "sys.path.append('../../dstorch/')\n",
    "\n",
    "import matplotlib.pyplot as plt\n",
    "%matplotlib inline\n",
    "%reload_ext autoreload\n",
    "%autoreload 2"
   ]
  },
  {
   "cell_type": "code",
   "execution_count": 3,
   "metadata": {},
   "outputs": [],
   "source": [
    "import os\n",
    "import pandas as pd\n",
    "from dstorch import transforms\n",
    "from dstorch.train import train\n",
    "import torch.backends.cudnn as cudnn"
   ]
  },
  {
   "cell_type": "code",
   "execution_count": 4,
   "metadata": {},
   "outputs": [],
   "source": [
    "ids = list([x.split('.')[0] for x in list(next(os.walk(\"../output_data/with_scale_05/images/\"))[2])])\n",
    "classes = pd.read_csv(\"../data/classes.csv\")\n",
    "val_ids = list(classes.loc[classes['type'] == 'val', 'id'])\n",
    "train_ids = list(set(ids) - set(val_ids))"
   ]
  },
  {
   "cell_type": "code",
   "execution_count": 5,
   "metadata": {},
   "outputs": [],
   "source": [
    "train_transforms = transforms.DualCompose(\n",
    "    [\n",
    "        transforms.RandomCrop((256, 256)),\n",
    "        transforms.VerticalFlip(),\n",
    "        transforms.HorizontalFlip(),\n",
    "        transforms.Transpose(),\n",
    "        transforms.ShiftScaleRotate(scale_limit=0.3, shift_limit=0.2),\n",
    "        transforms.Distort1(0.4, 0.4),\n",
    "        transforms.ImageOnly(transforms.RandomBrightness(0.5)),\n",
    "        transforms.ImageOnly(transforms.RandomContrast(0.5)),\n",
    "        transforms.ImageOnly(transforms.RandomSaturation(0.5)),\n",
    "        transforms.ImageOnly(transforms.Normalize(\n",
    "            mean=[0.485, 0.456, 0.406],\n",
    "            std=[0.229, 0.224, 0.225]\n",
    "        ))\n",
    "    ]\n",
    ")\n",
    "\n",
    "val_transforms = transforms.DualCompose(\n",
    "    [\n",
    "        transforms.ImageOnly(transforms.Normalize(\n",
    "            mean=[0.485, 0.456, 0.406],\n",
    "            std=[0.229, 0.224, 0.225]\n",
    "        ))\n",
    "    ]\n",
    ")"
   ]
  },
  {
   "cell_type": "code",
   "execution_count": 6,
   "metadata": {},
   "outputs": [],
   "source": [
    "cudnn.benchmark = True"
   ]
  },
  {
   "cell_type": "code",
   "execution_count": null,
   "metadata": {
    "scrolled": true
   },
   "outputs": [
    {
     "name": "stderr",
     "output_type": "stream",
     "text": [
      "Downloading: \"https://download.pytorch.org/models/vgg11-bbd30ac9.pth\" to /home/ubuntu/.torch/models/vgg11-bbd30ac9.pth\n",
      "100%|██████████| 531456000/531456000 [00:43<00:00, 12244637.51it/s]\n",
      "Epoch 0, lr 0.0008: 100% 21/21 [00:15<00:00,  1.35it/s, 0 cls=1.24680, 1 cls=1.89601, 2 cls=1.74617, bce=0.29809, dice=0.35202, loss=-0.05833]\n"
     ]
    },
    {
     "name": "stdout",
     "output_type": "stream",
     "text": [
      "loss: -0.63623 | bce: 0.08062 | dice: 0.68015 | 0 cls: 0.23790 | 1 cls: 0.75043 | 2 cls: 0.75138\n"
     ]
    },
    {
     "name": "stderr",
     "output_type": "stream",
     "text": [
      "Epoch 1, lr 0.0008: 100% 21/21 [00:11<00:00,  1.89it/s, 0 cls=0.41322, 1 cls=0.65698, 2 cls=0.96222, bce=0.19440, dice=0.65097, loss=-0.53129]\n"
     ]
    },
    {
     "name": "stdout",
     "output_type": "stream",
     "text": [
      "loss: -0.76263 | bce: 0.07735 | dice: 0.74307 | 0 cls: 0.16771 | 1 cls: 0.26989 | 2 cls: 0.78574\n"
     ]
    },
    {
     "name": "stderr",
     "output_type": "stream",
     "text": [
      "Epoch 2, lr 0.0008: 100% 21/21 [00:10<00:00,  1.92it/s, 0 cls=0.31081, 1 cls=0.46772, 2 cls=0.74712, bce=0.12592, dice=0.70933, loss=-0.64213]\n"
     ]
    },
    {
     "name": "stdout",
     "output_type": "stream",
     "text": [
      "loss: -0.74381 | bce: 0.06277 | dice: 0.76448 | 0 cls: 0.25328 | 1 cls: 0.22560 | 2 cls: 0.54601\n"
     ]
    },
    {
     "name": "stderr",
     "output_type": "stream",
     "text": [
      "Epoch 3, lr 0.0008: 100% 21/21 [00:10<00:00,  1.91it/s, 0 cls=0.29517, 1 cls=0.39404, 2 cls=0.58305, bce=0.11157, dice=0.75178, loss=-0.67784]\n"
     ]
    },
    {
     "name": "stdout",
     "output_type": "stream",
     "text": [
      "loss: -0.80928 | bce: 0.05402 | dice: 0.83212 | 0 cls: 0.15587 | 1 cls: 0.22107 | 2 cls: 0.38518\n"
     ]
    },
    {
     "name": "stderr",
     "output_type": "stream",
     "text": [
      "Epoch 4, lr 0.0008: 100% 21/21 [00:11<00:00,  1.87it/s, 0 cls=0.27780, 1 cls=0.37714, 2 cls=0.52234, bce=0.10485, dice=0.76965, loss=-0.69571]\n"
     ]
    },
    {
     "name": "stdout",
     "output_type": "stream",
     "text": [
      "loss: -0.77369 | bce: 0.06506 | dice: 0.80927 | 0 cls: 0.21356 | 1 cls: 0.21936 | 2 cls: 0.42769\n"
     ]
    },
    {
     "name": "stderr",
     "output_type": "stream",
     "text": [
      "Epoch 5, lr 0.0008: 100% 21/21 [00:10<00:00,  1.91it/s, 0 cls=0.28928, 1 cls=0.37048, 2 cls=0.53374, bce=0.11056, dice=0.76857, loss=-0.68974]\n"
     ]
    },
    {
     "name": "stdout",
     "output_type": "stream",
     "text": [
      "loss: -0.78957 | bce: 0.05975 | dice: 0.80661 | 0 cls: 0.17572 | 1 cls: 0.23633 | 2 cls: 0.45313\n"
     ]
    },
    {
     "name": "stderr",
     "output_type": "stream",
     "text": [
      "Epoch 6, lr 0.0008: 100% 21/21 [00:11<00:00,  1.89it/s, 0 cls=0.26854, 1 cls=0.36970, 2 cls=0.51293, bce=0.10524, dice=0.77613, loss=-0.70292]\n"
     ]
    },
    {
     "name": "stdout",
     "output_type": "stream",
     "text": [
      "loss: -0.81784 | bce: 0.04789 | dice: 0.83298 | 0 cls: 0.15400 | 1 cls: 0.20141 | 2 cls: 0.37682\n"
     ]
    },
    {
     "name": "stderr",
     "output_type": "stream",
     "text": [
      "Epoch 7, lr 0.0008: 100% 21/21 [00:11<00:00,  1.89it/s, 0 cls=0.26267, 1 cls=0.34730, 2 cls=0.48614, bce=0.10286, dice=0.78679, loss=-0.71292]\n"
     ]
    },
    {
     "name": "stdout",
     "output_type": "stream",
     "text": [
      "loss: -0.78890 | bce: 0.05676 | dice: 0.82015 | 0 cls: 0.19260 | 1 cls: 0.22153 | 2 cls: 0.38975\n"
     ]
    },
    {
     "name": "stderr",
     "output_type": "stream",
     "text": [
      "Epoch 8, lr 0.0008: 100% 21/21 [00:10<00:00,  1.91it/s, 0 cls=0.24616, 1 cls=0.33221, 2 cls=0.46320, bce=0.09635, dice=0.79587, loss=-0.72795]\n"
     ]
    },
    {
     "name": "stdout",
     "output_type": "stream",
     "text": [
      "loss: -0.82234 | bce: 0.04246 | dice: 0.83563 | 0 cls: 0.15250 | 1 cls: 0.19712 | 2 cls: 0.35946\n"
     ]
    },
    {
     "name": "stderr",
     "output_type": "stream",
     "text": [
      "Epoch 9, lr 0.0008: 100% 21/21 [00:10<00:00,  1.93it/s, 0 cls=0.24763, 1 cls=0.33369, 2 cls=0.46862, bce=0.09709, dice=0.79391, loss=-0.72619]\n"
     ]
    },
    {
     "name": "stdout",
     "output_type": "stream",
     "text": [
      "loss: -0.80143 | bce: 0.05162 | dice: 0.82361 | 0 cls: 0.17491 | 1 cls: 0.22049 | 2 cls: 0.38308\n"
     ]
    },
    {
     "name": "stderr",
     "output_type": "stream",
     "text": [
      "Epoch 10, lr 0.0008: 100% 21/21 [00:10<00:00,  1.91it/s, 0 cls=0.24478, 1 cls=0.33227, 2 cls=0.46425, bce=0.09618, dice=0.79598, loss=-0.72863]\n"
     ]
    },
    {
     "name": "stdout",
     "output_type": "stream",
     "text": [
      "loss: -0.83110 | bce: 0.04150 | dice: 0.84310 | 0 cls: 0.13829 | 1 cls: 0.19813 | 2 cls: 0.34694\n"
     ]
    },
    {
     "name": "stderr",
     "output_type": "stream",
     "text": [
      "Epoch 11, lr 0.0008: 100% 21/21 [00:11<00:00,  1.86it/s, 0 cls=0.23161, 1 cls=0.31948, 2 cls=0.44376, bce=0.09334, dice=0.80531, loss=-0.74044]\n"
     ]
    },
    {
     "name": "stdout",
     "output_type": "stream",
     "text": [
      "loss: -0.83964 | bce: 0.04168 | dice: 0.85342 | 0 cls: 0.13070 | 1 cls: 0.18806 | 2 cls: 0.32761\n"
     ]
    },
    {
     "name": "stderr",
     "output_type": "stream",
     "text": [
      "Epoch 12, lr 0.0008: 100% 21/21 [00:11<00:00,  1.90it/s, 0 cls=0.21861, 1 cls=0.30492, 2 cls=0.42769, bce=0.08986, dice=0.81383, loss=-0.75228]\n"
     ]
    },
    {
     "name": "stdout",
     "output_type": "stream",
     "text": [
      "loss: -0.78068 | bce: 0.05941 | dice: 0.80967 | 0 cls: 0.21004 | 1 cls: 0.21494 | 2 cls: 0.41581\n"
     ]
    },
    {
     "name": "stderr",
     "output_type": "stream",
     "text": [
      "Epoch 13, lr 0.0008: 100% 21/21 [00:11<00:00,  1.89it/s, 0 cls=0.24353, 1 cls=0.33393, 2 cls=0.47098, bce=0.09929, dice=0.79646, loss=-0.72791]\n"
     ]
    },
    {
     "name": "stdout",
     "output_type": "stream",
     "text": [
      "loss: -0.81505 | bce: 0.04665 | dice: 0.83175 | 0 cls: 0.16273 | 1 cls: 0.19867 | 2 cls: 0.36913\n"
     ]
    },
    {
     "name": "stderr",
     "output_type": "stream",
     "text": [
      "Epoch 14, lr 0.0008: 100% 21/21 [00:10<00:00,  1.95it/s, 0 cls=0.23202, 1 cls=0.31119, 2 cls=0.43889, bce=0.09379, dice=0.80824, loss=-0.74236]\n"
     ]
    },
    {
     "name": "stdout",
     "output_type": "stream",
     "text": [
      "loss: -0.81954 | bce: 0.05132 | dice: 0.84338 | 0 cls: 0.15705 | 1 cls: 0.19905 | 2 cls: 0.34799\n"
     ]
    },
    {
     "name": "stderr",
     "output_type": "stream",
     "text": [
      "Epoch 15, lr 0.0008: 100% 21/21 [00:10<00:00,  1.93it/s, 0 cls=0.23059, 1 cls=0.32138, 2 cls=0.44814, bce=0.09341, dice=0.80463, loss=-0.74017]\n"
     ]
    },
    {
     "name": "stdout",
     "output_type": "stream",
     "text": [
      "loss: -0.84210 | bce: 0.03875 | dice: 0.85167 | 0 cls: 0.13093 | 1 cls: 0.18317 | 2 cls: 0.33095\n"
     ]
    },
    {
     "name": "stderr",
     "output_type": "stream",
     "text": [
      "Epoch 16, lr 0.0008: 100% 21/21 [00:11<00:00,  1.87it/s, 0 cls=0.21356, 1 cls=0.31253, 2 cls=0.42754, bce=0.08895, dice=0.81355, loss=-0.75331]\n"
     ]
    },
    {
     "name": "stdout",
     "output_type": "stream",
     "text": [
      "loss: -0.82862 | bce: 0.04278 | dice: 0.84564 | 0 cls: 0.14806 | 1 cls: 0.18778 | 2 cls: 0.33510\n"
     ]
    },
    {
     "name": "stderr",
     "output_type": "stream",
     "text": [
      "Epoch 17, lr 0.0008: 100% 21/21 [00:11<00:00,  1.91it/s, 0 cls=0.21571, 1 cls=0.30318, 2 cls=0.42259, bce=0.08862, dice=0.81558, loss=-0.75496]\n"
     ]
    },
    {
     "name": "stdout",
     "output_type": "stream",
     "text": [
      "loss: -0.82257 | bce: 0.04863 | dice: 0.84460 | 0 cls: 0.15165 | 1 cls: 0.19888 | 2 cls: 0.34351\n"
     ]
    },
    {
     "name": "stderr",
     "output_type": "stream",
     "text": [
      "Epoch 18, lr 0.0008: 100% 21/21 [00:11<00:00,  1.83it/s, 0 cls=0.21639, 1 cls=0.30072, 2 cls=0.41690, bce=0.08955, dice=0.81771, loss=-0.75532]\n"
     ]
    },
    {
     "name": "stdout",
     "output_type": "stream",
     "text": [
      "loss: -0.82148 | bce: 0.04477 | dice: 0.83700 | 0 cls: 0.15090 | 1 cls: 0.20835 | 2 cls: 0.35175\n"
     ]
    },
    {
     "name": "stderr",
     "output_type": "stream",
     "text": [
      "Epoch 19, lr 0.0008: 100% 21/21 [00:10<00:00,  1.94it/s, 0 cls=0.21884, 1 cls=0.30257, 2 cls=0.41966, bce=0.08923, dice=0.81552, loss=-0.75339]\n"
     ]
    },
    {
     "name": "stdout",
     "output_type": "stream",
     "text": [
      "loss: -0.84653 | bce: 0.04151 | dice: 0.86071 | 0 cls: 0.12346 | 1 cls: 0.18295 | 2 cls: 0.31191\n"
     ]
    },
    {
     "name": "stderr",
     "output_type": "stream",
     "text": [
      "Epoch 20, lr 0.0008: 100% 21/21 [00:10<00:00,  1.92it/s, 0 cls=0.21319, 1 cls=0.30550, 2 cls=0.41606, bce=0.08886, dice=0.81771, loss=-0.75602]\n"
     ]
    },
    {
     "name": "stdout",
     "output_type": "stream",
     "text": [
      "loss: -0.83590 | bce: 0.04466 | dice: 0.85202 | 0 cls: 0.14085 | 1 cls: 0.18163 | 2 cls: 0.32822\n"
     ]
    },
    {
     "name": "stderr",
     "output_type": "stream",
     "text": [
      "Epoch 21, lr 0.0008: 100% 21/21 [00:10<00:00,  1.92it/s, 0 cls=0.21385, 1 cls=0.30222, 2 cls=0.42157, bce=0.08862, dice=0.81650, loss=-0.75613]\n"
     ]
    },
    {
     "name": "stdout",
     "output_type": "stream",
     "text": [
      "loss: -0.84524 | bce: 0.04023 | dice: 0.85815 | 0 cls: 0.12874 | 1 cls: 0.17784 | 2 cls: 0.31422\n"
     ]
    },
    {
     "name": "stderr",
     "output_type": "stream",
     "text": [
      "Epoch 22, lr 0.0008: 100% 21/21 [00:10<00:00,  1.92it/s, 0 cls=0.21005, 1 cls=0.29320, 2 cls=0.41268, bce=0.08712, dice=0.82038, loss=-0.76103]\n"
     ]
    },
    {
     "name": "stdout",
     "output_type": "stream",
     "text": [
      "loss: -0.83752 | bce: 0.04527 | dice: 0.85327 | 0 cls: 0.13546 | 1 cls: 0.18520 | 2 cls: 0.32898\n"
     ]
    },
    {
     "name": "stderr",
     "output_type": "stream",
     "text": [
      "Epoch 23, lr 0.0008: 100% 21/21 [00:10<00:00,  1.91it/s, 0 cls=0.20390, 1 cls=0.29799, 2 cls=0.40820, bce=0.08565, dice=0.82164, loss=-0.76370]\n"
     ]
    },
    {
     "name": "stdout",
     "output_type": "stream",
     "text": [
      "loss: -0.84464 | bce: 0.04035 | dice: 0.85666 | 0 cls: 0.12998 | 1 cls: 0.17991 | 2 cls: 0.31591\n"
     ]
    },
    {
     "name": "stderr",
     "output_type": "stream",
     "text": [
      "Epoch 24, lr 0.0008: 100% 21/21 [00:10<00:00,  1.94it/s, 0 cls=0.19734, 1 cls=0.28889, 2 cls=0.40066, bce=0.08343, dice=0.82582, loss=-0.77044]\n"
     ]
    },
    {
     "name": "stdout",
     "output_type": "stream",
     "text": [
      "loss: -0.84904 | bce: 0.03990 | dice: 0.86084 | 0 cls: 0.12255 | 1 cls: 0.17896 | 2 cls: 0.31027\n"
     ]
    },
    {
     "name": "stderr",
     "output_type": "stream",
     "text": [
      "Epoch 25, lr 0.0008: 100% 21/21 [00:11<00:00,  1.88it/s, 0 cls=0.20466, 1 cls=0.29097, 2 cls=0.40163, bce=0.08430, dice=0.82307, loss=-0.76571]\n"
     ]
    },
    {
     "name": "stdout",
     "output_type": "stream",
     "text": [
      "loss: -0.84828 | bce: 0.03936 | dice: 0.85963 | 0 cls: 0.12587 | 1 cls: 0.17560 | 2 cls: 0.30930\n"
     ]
    },
    {
     "name": "stderr",
     "output_type": "stream",
     "text": [
      "Epoch 26, lr 0.0008: 100% 21/21 [00:10<00:00,  1.94it/s, 0 cls=0.20599, 1 cls=0.29395, 2 cls=0.40799, bce=0.08590, dice=0.82218, loss=-0.76380]\n"
     ]
    },
    {
     "name": "stdout",
     "output_type": "stream",
     "text": [
      "loss: -0.84441 | bce: 0.04135 | dice: 0.85654 | 0 cls: 0.12831 | 1 cls: 0.18152 | 2 cls: 0.31949\n"
     ]
    },
    {
     "name": "stderr",
     "output_type": "stream",
     "text": [
      "Epoch 27, lr 0.0008: 100% 21/21 [00:10<00:00,  1.93it/s, 0 cls=0.20457, 1 cls=0.29273, 2 cls=0.40399, bce=0.08518, dice=0.82300, loss=-0.76507]\n"
     ]
    },
    {
     "name": "stdout",
     "output_type": "stream",
     "text": [
      "loss: -0.84162 | bce: 0.04186 | dice: 0.85555 | 0 cls: 0.13381 | 1 cls: 0.17928 | 2 cls: 0.31865\n"
     ]
    },
    {
     "name": "stderr",
     "output_type": "stream",
     "text": [
      "Epoch 28, lr 0.0008: 100% 21/21 [00:10<00:00,  1.91it/s, 0 cls=0.19807, 1 cls=0.28509, 2 cls=0.39592, bce=0.08305, dice=0.82701, loss=-0.77117]\n"
     ]
    },
    {
     "name": "stdout",
     "output_type": "stream",
     "text": [
      "loss: -0.84840 | bce: 0.03833 | dice: 0.85906 | 0 cls: 0.12427 | 1 cls: 0.17780 | 2 cls: 0.31240\n"
     ]
    },
    {
     "name": "stderr",
     "output_type": "stream",
     "text": [
      "Epoch 29, lr 0.0008: 100% 21/21 [00:11<00:00,  1.89it/s, 0 cls=0.20437, 1 cls=0.29461, 2 cls=0.40250, bce=0.08333, dice=0.82191, loss=-0.76528]\n"
     ]
    },
    {
     "name": "stdout",
     "output_type": "stream",
     "text": [
      "loss: -0.84568 | bce: 0.04219 | dice: 0.85990 | 0 cls: 0.12719 | 1 cls: 0.17976 | 2 cls: 0.31540\n"
     ]
    },
    {
     "name": "stderr",
     "output_type": "stream",
     "text": [
      "Epoch 30, lr 0.0008: 100% 21/21 [00:10<00:00,  1.92it/s, 0 cls=0.19559, 1 cls=0.27955, 2 cls=0.38961, bce=0.08182, dice=0.82944, loss=-0.77451]\n"
     ]
    },
    {
     "name": "stdout",
     "output_type": "stream",
     "text": [
      "loss: -0.85041 | bce: 0.03787 | dice: 0.86042 | 0 cls: 0.12214 | 1 cls: 0.17500 | 2 cls: 0.31016\n"
     ]
    },
    {
     "name": "stderr",
     "output_type": "stream",
     "text": [
      "Epoch 31, lr 0.0008: 100% 21/21 [00:11<00:00,  1.90it/s, 0 cls=0.19479, 1 cls=0.28430, 2 cls=0.39292, bce=0.08184, dice=0.82832, loss=-0.77361]\n"
     ]
    },
    {
     "name": "stdout",
     "output_type": "stream",
     "text": [
      "loss: -0.85173 | bce: 0.03868 | dice: 0.86280 | 0 cls: 0.12035 | 1 cls: 0.17581 | 2 cls: 0.30517\n"
     ]
    },
    {
     "name": "stderr",
     "output_type": "stream",
     "text": [
      "Epoch 32, lr 0.0008: 100% 21/21 [00:10<00:00,  1.92it/s, 0 cls=0.18536, 1 cls=0.27551, 2 cls=0.37893, bce=0.07869, dice=0.83414, loss=-0.78222]\n"
     ]
    },
    {
     "name": "stdout",
     "output_type": "stream",
     "text": [
      "loss: -0.84691 | bce: 0.04213 | dice: 0.85999 | 0 cls: 0.12459 | 1 cls: 0.18250 | 2 cls: 0.31621\n"
     ]
    },
    {
     "name": "stderr",
     "output_type": "stream",
     "text": [
      "Epoch 33, lr 0.0008: 100% 21/21 [00:10<00:00,  1.93it/s, 0 cls=0.20819, 1 cls=0.28649, 2 cls=0.40180, bce=0.08647, dice=0.82434, loss=-0.76450]\n"
     ]
    },
    {
     "name": "stdout",
     "output_type": "stream",
     "text": [
      "loss: -0.82932 | bce: 0.04591 | dice: 0.84414 | 0 cls: 0.15077 | 1 cls: 0.18087 | 2 cls: 0.34515\n"
     ]
    },
    {
     "name": "stderr",
     "output_type": "stream",
     "text": [
      "Epoch 34, lr 0.0008: 100% 21/21 [00:10<00:00,  1.91it/s, 0 cls=0.20543, 1 cls=0.29123, 2 cls=0.40941, bce=0.08513, dice=0.82134, loss=-0.76451]\n"
     ]
    },
    {
     "name": "stdout",
     "output_type": "stream",
     "text": [
      "loss: -0.85012 | bce: 0.03908 | dice: 0.86191 | 0 cls: 0.12001 | 1 cls: 0.18136 | 2 cls: 0.31020\n"
     ]
    },
    {
     "name": "stderr",
     "output_type": "stream",
     "text": [
      "Epoch 35, lr 0.0008: 100% 21/21 [00:10<00:00,  1.92it/s, 0 cls=0.20308, 1 cls=0.29144, 2 cls=0.40441, bce=0.08358, dice=0.82261, loss=-0.76648]\n"
     ]
    },
    {
     "name": "stdout",
     "output_type": "stream",
     "text": [
      "loss: -0.83828 | bce: 0.04343 | dice: 0.85358 | 0 cls: 0.13440 | 1 cls: 0.18678 | 2 cls: 0.32644\n"
     ]
    },
    {
     "name": "stderr",
     "output_type": "stream",
     "text": [
      "Epoch 36, lr 0.0008: 100% 21/21 [00:11<00:00,  1.87it/s, 0 cls=0.19245, 1 cls=0.28174, 2 cls=0.39088, bce=0.08291, dice=0.83097, loss=-0.77546]\n"
     ]
    },
    {
     "name": "stdout",
     "output_type": "stream",
     "text": [
      "loss: -0.84516 | bce: 0.04238 | dice: 0.85909 | 0 cls: 0.12780 | 1 cls: 0.17729 | 2 cls: 0.31560\n"
     ]
    },
    {
     "name": "stderr",
     "output_type": "stream",
     "text": [
      "Epoch 37, lr 0.0008: 100% 21/21 [00:10<00:00,  1.92it/s, 0 cls=0.19725, 1 cls=0.28140, 2 cls=0.38987, bce=0.08204, dice=0.82848, loss=-0.77311]\n"
     ]
    },
    {
     "name": "stdout",
     "output_type": "stream",
     "text": [
      "loss: -0.84830 | bce: 0.03825 | dice: 0.85837 | 0 cls: 0.12455 | 1 cls: 0.17726 | 2 cls: 0.31512\n"
     ]
    },
    {
     "name": "stderr",
     "output_type": "stream",
     "text": [
      "Epoch 38, lr 0.0008: 100% 21/21 [00:10<00:00,  1.92it/s, 0 cls=0.19507, 1 cls=0.28192, 2 cls=0.39169, bce=0.08204, dice=0.82893, loss=-0.77401]\n"
     ]
    },
    {
     "name": "stdout",
     "output_type": "stream",
     "text": [
      "loss: -0.85009 | bce: 0.03898 | dice: 0.86144 | 0 cls: 0.12055 | 1 cls: 0.18008 | 2 cls: 0.30970\n"
     ]
    },
    {
     "name": "stderr",
     "output_type": "stream",
     "text": [
      "Epoch 39, lr 0.0008: 100% 21/21 [00:10<00:00,  1.93it/s, 0 cls=0.20146, 1 cls=0.28249, 2 cls=0.39411, bce=0.08571, dice=0.82912, loss=-0.76983]\n"
     ]
    },
    {
     "name": "stdout",
     "output_type": "stream",
     "text": [
      "loss: -0.84247 | bce: 0.03878 | dice: 0.85324 | 0 cls: 0.13129 | 1 cls: 0.18342 | 2 cls: 0.31888\n"
     ]
    },
    {
     "name": "stderr",
     "output_type": "stream",
     "text": [
      "Epoch 40, lr 0.0008: 100% 21/21 [00:11<00:00,  1.90it/s, 0 cls=0.19650, 1 cls=0.27818, 2 cls=0.38610, bce=0.08254, dice=0.83097, loss=-0.77460]\n"
     ]
    },
    {
     "name": "stdout",
     "output_type": "stream",
     "text": [
      "loss: -0.83707 | bce: 0.04485 | dice: 0.85221 | 0 cls: 0.13430 | 1 cls: 0.19124 | 2 cls: 0.33543\n"
     ]
    },
    {
     "name": "stderr",
     "output_type": "stream",
     "text": [
      "Epoch 41, lr 0.0008: 100% 21/21 [00:10<00:00,  1.94it/s, 0 cls=0.19107, 1 cls=0.27720, 2 cls=0.38209, bce=0.07957, dice=0.83180, loss=-0.77842]\n"
     ]
    },
    {
     "name": "stdout",
     "output_type": "stream",
     "text": [
      "loss: -0.84623 | bce: 0.04297 | dice: 0.85982 | 0 cls: 0.12388 | 1 cls: 0.18607 | 2 cls: 0.31449\n"
     ]
    },
    {
     "name": "stderr",
     "output_type": "stream",
     "text": [
      "Epoch 42, lr 0.0008: 100% 21/21 [00:10<00:00,  1.97it/s, 0 cls=0.20006, 1 cls=0.28423, 2 cls=0.38993, bce=0.08460, dice=0.82931, loss=-0.77059]\n"
     ]
    },
    {
     "name": "stdout",
     "output_type": "stream",
     "text": [
      "loss: -0.85359 | bce: 0.03769 | dice: 0.86371 | 0 cls: 0.11942 | 1 cls: 0.17131 | 2 cls: 0.30326\n"
     ]
    },
    {
     "name": "stderr",
     "output_type": "stream",
     "text": [
      "Epoch 43, lr 0.0008: 100% 21/21 [00:10<00:00,  1.93it/s, 0 cls=0.19462, 1 cls=0.27652, 2 cls=0.38460, bce=0.08028, dice=0.83037, loss=-0.77634]\n"
     ]
    },
    {
     "name": "stdout",
     "output_type": "stream",
     "text": [
      "loss: -0.84923 | bce: 0.04213 | dice: 0.86205 | 0 cls: 0.12152 | 1 cls: 0.17928 | 2 cls: 0.30988\n"
     ]
    },
    {
     "name": "stderr",
     "output_type": "stream",
     "text": [
      "Epoch 44, lr 0.0008: 100% 21/21 [00:11<00:00,  1.84it/s, 0 cls=0.19821, 1 cls=0.28101, 2 cls=0.38962, bce=0.08430, dice=0.83044, loss=-0.77237]\n"
     ]
    },
    {
     "name": "stdout",
     "output_type": "stream",
     "text": [
      "loss: -0.84605 | bce: 0.03767 | dice: 0.85602 | 0 cls: 0.12794 | 1 cls: 0.17661 | 2 cls: 0.31558\n"
     ]
    },
    {
     "name": "stderr",
     "output_type": "stream",
     "text": [
      "Epoch 45, lr 0.0008: 100% 21/21 [00:11<00:00,  1.89it/s, 0 cls=0.19871, 1 cls=0.27778, 2 cls=0.38805, bce=0.08269, dice=0.82968, loss=-0.77324]\n"
     ]
    },
    {
     "name": "stdout",
     "output_type": "stream",
     "text": [
      "loss: -0.84576 | bce: 0.04087 | dice: 0.85843 | 0 cls: 0.12898 | 1 cls: 0.17696 | 2 cls: 0.31637\n"
     ]
    },
    {
     "name": "stderr",
     "output_type": "stream",
     "text": [
      "Epoch 46, lr 0.0008: 100% 21/21 [00:10<00:00,  1.94it/s, 0 cls=0.19520, 1 cls=0.28460, 2 cls=0.39002, bce=0.08305, dice=0.82968, loss=-0.77326]\n"
     ]
    },
    {
     "name": "stdout",
     "output_type": "stream",
     "text": [
      "loss: -0.84696 | bce: 0.04067 | dice: 0.85879 | 0 cls: 0.12277 | 1 cls: 0.18563 | 2 cls: 0.31555\n"
     ]
    },
    {
     "name": "stderr",
     "output_type": "stream",
     "text": [
      "Epoch 47, lr 0.0008: 100% 21/21 [00:10<00:00,  1.91it/s, 0 cls=0.18933, 1 cls=0.27327, 2 cls=0.38025, bce=0.08045, dice=0.83413, loss=-0.78027]\n"
     ]
    },
    {
     "name": "stdout",
     "output_type": "stream",
     "text": [
      "loss: -0.85067 | bce: 0.03758 | dice: 0.86074 | 0 cls: 0.12276 | 1 cls: 0.17449 | 2 cls: 0.30612\n"
     ]
    },
    {
     "name": "stderr",
     "output_type": "stream",
     "text": [
      "Epoch 48, lr 0.0008: 100% 21/21 [00:10<00:00,  1.95it/s, 0 cls=0.18608, 1 cls=0.26871, 2 cls=0.37710, bce=0.07947, dice=0.83610, loss=-0.78339]\n"
     ]
    },
    {
     "name": "stdout",
     "output_type": "stream",
     "text": [
      "loss: -0.85143 | bce: 0.04293 | dice: 0.86616 | 0 cls: 0.11721 | 1 cls: 0.18081 | 2 cls: 0.30482\n"
     ]
    },
    {
     "name": "stderr",
     "output_type": "stream",
     "text": [
      "Epoch 49, lr 0.0008: 100% 21/21 [00:11<00:00,  1.91it/s, 0 cls=0.18871, 1 cls=0.27304, 2 cls=0.38132, bce=0.08140, dice=0.83492, loss=-0.78046]\n"
     ]
    },
    {
     "name": "stdout",
     "output_type": "stream",
     "text": [
      "loss: -0.85259 | bce: 0.03846 | dice: 0.86358 | 0 cls: 0.11961 | 1 cls: 0.17352 | 2 cls: 0.30382\n"
     ]
    },
    {
     "name": "stderr",
     "output_type": "stream",
     "text": [
      "Epoch 50, lr 0.0008: 100% 21/21 [00:10<00:00,  1.95it/s, 0 cls=0.18677, 1 cls=0.26845, 2 cls=0.37358, bce=0.07806, dice=0.83590, loss=-0.78369]\n"
     ]
    },
    {
     "name": "stdout",
     "output_type": "stream",
     "text": [
      "loss: -0.85354 | bce: 0.03902 | dice: 0.86532 | 0 cls: 0.11929 | 1 cls: 0.17266 | 2 cls: 0.30015\n"
     ]
    },
    {
     "name": "stderr",
     "output_type": "stream",
     "text": [
      "Epoch 51, lr 0.0008: 100% 21/21 [00:11<00:00,  1.89it/s, 0 cls=0.18571, 1 cls=0.26696, 2 cls=0.37282, bce=0.07887, dice=0.83713, loss=-0.78451]\n"
     ]
    },
    {
     "name": "stdout",
     "output_type": "stream",
     "text": [
      "loss: -0.85416 | bce: 0.03980 | dice: 0.86637 | 0 cls: 0.11742 | 1 cls: 0.17413 | 2 cls: 0.29994\n"
     ]
    },
    {
     "name": "stderr",
     "output_type": "stream",
     "text": [
      "Epoch 52, lr 0.0008: 100% 21/21 [00:11<00:00,  1.85it/s, 0 cls=0.18970, 1 cls=0.27340, 2 cls=0.37384, bce=0.08016, dice=0.83559, loss=-0.78051]\n"
     ]
    },
    {
     "name": "stdout",
     "output_type": "stream",
     "text": [
      "loss: -0.84518 | bce: 0.03988 | dice: 0.85758 | 0 cls: 0.12702 | 1 cls: 0.18216 | 2 cls: 0.31599\n"
     ]
    },
    {
     "name": "stderr",
     "output_type": "stream",
     "text": [
      "Epoch 53, lr 0.0008: 100% 21/21 [00:11<00:00,  1.86it/s, 0 cls=0.19173, 1 cls=0.27291, 2 cls=0.37977, bce=0.07981, dice=0.83300, loss=-0.77926]\n"
     ]
    },
    {
     "name": "stdout",
     "output_type": "stream",
     "text": [
      "loss: -0.85353 | bce: 0.03759 | dice: 0.86402 | 0 cls: 0.11768 | 1 cls: 0.17534 | 2 cls: 0.30240\n"
     ]
    },
    {
     "name": "stderr",
     "output_type": "stream",
     "text": [
      "Epoch 54, lr 0.0008: 100% 21/21 [00:10<00:00,  1.94it/s, 0 cls=0.19685, 1 cls=0.27594, 2 cls=0.38494, bce=0.08115, dice=0.83034, loss=-0.77521]\n"
     ]
    },
    {
     "name": "stdout",
     "output_type": "stream",
     "text": [
      "loss: -0.85456 | bce: 0.03833 | dice: 0.86541 | 0 cls: 0.11652 | 1 cls: 0.17445 | 2 cls: 0.30237\n"
     ]
    },
    {
     "name": "stderr",
     "output_type": "stream",
     "text": [
      "Epoch 55, lr 0.0008: 100% 21/21 [00:10<00:00,  1.93it/s, 0 cls=0.18284, 1 cls=0.27040, 2 cls=0.37378, bce=0.07841, dice=0.83725, loss=-0.78524]\n"
     ]
    },
    {
     "name": "stdout",
     "output_type": "stream",
     "text": [
      "loss: -0.85021 | bce: 0.03978 | dice: 0.86228 | 0 cls: 0.12090 | 1 cls: 0.17941 | 2 cls: 0.30603\n"
     ]
    },
    {
     "name": "stderr",
     "output_type": "stream",
     "text": [
      "Epoch 56, lr 0.0008: 100% 21/21 [00:10<00:00,  1.93it/s, 0 cls=0.17893, 1 cls=0.26299, 2 cls=0.36501, bce=0.07708, dice=0.84087, loss=-0.78993]\n"
     ]
    },
    {
     "name": "stdout",
     "output_type": "stream",
     "text": [
      "loss: -0.85605 | bce: 0.03915 | dice: 0.86805 | 0 cls: 0.11598 | 1 cls: 0.17110 | 2 cls: 0.29650\n"
     ]
    },
    {
     "name": "stderr",
     "output_type": "stream",
     "text": [
      "Epoch 57, lr 0.0008: 100% 21/21 [00:10<00:00,  1.92it/s, 0 cls=0.19831, 1 cls=0.27909, 2 cls=0.38851, bce=0.08422, dice=0.83088, loss=-0.77289]\n"
     ]
    },
    {
     "name": "stdout",
     "output_type": "stream",
     "text": [
      "loss: -0.84737 | bce: 0.03947 | dice: 0.85936 | 0 cls: 0.12348 | 1 cls: 0.18143 | 2 cls: 0.31180\n"
     ]
    },
    {
     "name": "stderr",
     "output_type": "stream",
     "text": [
      "Epoch 58, lr 0.0008: 100% 21/21 [00:10<00:00,  1.93it/s, 0 cls=0.18677, 1 cls=0.26906, 2 cls=0.37443, bce=0.07946, dice=0.83650, loss=-0.78325]\n"
     ]
    },
    {
     "name": "stdout",
     "output_type": "stream",
     "text": [
      "loss: -0.85399 | bce: 0.04200 | dice: 0.86842 | 0 cls: 0.11701 | 1 cls: 0.17338 | 2 cls: 0.30141\n"
     ]
    },
    {
     "name": "stderr",
     "output_type": "stream",
     "text": [
      "Epoch 59, lr 0.0008: 100% 21/21 [00:11<00:00,  1.90it/s, 0 cls=0.18699, 1 cls=0.27043, 2 cls=0.37421, bce=0.07857, dice=0.83574, loss=-0.78295]\n"
     ]
    },
    {
     "name": "stdout",
     "output_type": "stream",
     "text": [
      "loss: -0.85328 | bce: 0.03734 | dice: 0.86305 | 0 cls: 0.12038 | 1 cls: 0.17079 | 2 cls: 0.30269\n"
     ]
    },
    {
     "name": "stderr",
     "output_type": "stream",
     "text": [
      "Epoch 60, lr 0.0008: 100% 21/21 [00:10<00:00,  1.91it/s, 0 cls=0.18719, 1 cls=0.26935, 2 cls=0.37368, bce=0.07876, dice=0.83583, loss=-0.78305]\n"
     ]
    },
    {
     "name": "stdout",
     "output_type": "stream",
     "text": [
      "loss: -0.85478 | bce: 0.03781 | dice: 0.86511 | 0 cls: 0.11772 | 1 cls: 0.17137 | 2 cls: 0.30050\n"
     ]
    },
    {
     "name": "stderr",
     "output_type": "stream",
     "text": [
      "Epoch 61, lr 0.0008: 100% 21/21 [00:10<00:00,  1.92it/s, 0 cls=0.19092, 1 cls=0.27334, 2 cls=0.37766, bce=0.08001, dice=0.83386, loss=-0.77962]\n"
     ]
    },
    {
     "name": "stdout",
     "output_type": "stream",
     "text": [
      "loss: -0.85264 | bce: 0.04063 | dice: 0.86699 | 0 cls: 0.12004 | 1 cls: 0.17287 | 2 cls: 0.29868\n"
     ]
    },
    {
     "name": "stderr",
     "output_type": "stream",
     "text": [
      "Epoch 62, lr 0.0008: 100% 21/21 [00:10<00:00,  1.93it/s, 0 cls=0.18802, 1 cls=0.27380, 2 cls=0.37446, bce=0.07973, dice=0.83549, loss=-0.78142]\n"
     ]
    },
    {
     "name": "stdout",
     "output_type": "stream",
     "text": [
      "loss: -0.85088 | bce: 0.03808 | dice: 0.86168 | 0 cls: 0.12158 | 1 cls: 0.17516 | 2 cls: 0.31065\n"
     ]
    },
    {
     "name": "stderr",
     "output_type": "stream",
     "text": [
      "Epoch 63, lr 0.0008: 100% 21/21 [00:11<00:00,  1.88it/s, 0 cls=0.18285, 1 cls=0.26802, 2 cls=0.37013, bce=0.07818, dice=0.83801, loss=-0.78597]\n"
     ]
    },
    {
     "name": "stdout",
     "output_type": "stream",
     "text": [
      "loss: -0.85514 | bce: 0.03879 | dice: 0.86690 | 0 cls: 0.11651 | 1 cls: 0.17233 | 2 cls: 0.30201\n"
     ]
    },
    {
     "name": "stderr",
     "output_type": "stream",
     "text": [
      "Epoch 64, lr 0.0008: 100% 21/21 [00:10<00:00,  1.95it/s, 0 cls=0.18774, 1 cls=0.26995, 2 cls=0.37536, bce=0.07900, dice=0.83546, loss=-0.78247]\n"
     ]
    },
    {
     "name": "stdout",
     "output_type": "stream",
     "text": [
      "loss: -0.85381 | bce: 0.03784 | dice: 0.86441 | 0 cls: 0.11865 | 1 cls: 0.17269 | 2 cls: 0.30164\n"
     ]
    },
    {
     "name": "stderr",
     "output_type": "stream",
     "text": [
      "Epoch 65, lr 0.0008: 100% 21/21 [00:10<00:00,  1.91it/s, 0 cls=0.17922, 1 cls=0.26222, 2 cls=0.36376, bce=0.07627, dice=0.84072, loss=-0.79024]\n"
     ]
    },
    {
     "name": "stdout",
     "output_type": "stream",
     "text": [
      "loss: -0.85552 | bce: 0.03815 | dice: 0.86669 | 0 cls: 0.11646 | 1 cls: 0.17181 | 2 cls: 0.29818\n"
     ]
    },
    {
     "name": "stderr",
     "output_type": "stream",
     "text": [
      "Epoch 66, lr 0.0008: 100% 21/21 [00:11<00:00,  1.88it/s, 0 cls=0.18605, 1 cls=0.26577, 2 cls=0.37051, bce=0.07818, dice=0.83747, loss=-0.78492]\n"
     ]
    },
    {
     "name": "stdout",
     "output_type": "stream",
     "text": [
      "loss: -0.85479 | bce: 0.03905 | dice: 0.86670 | 0 cls: 0.11741 | 1 cls: 0.17217 | 2 cls: 0.29980\n"
     ]
    },
    {
     "name": "stderr",
     "output_type": "stream",
     "text": [
      "Epoch 67, lr 0.0008: 100% 21/21 [00:10<00:00,  1.91it/s, 0 cls=0.19165, 1 cls=0.27053, 2 cls=0.37788, bce=0.07962, dice=0.83372, loss=-0.78010]\n"
     ]
    },
    {
     "name": "stdout",
     "output_type": "stream",
     "text": [
      "loss: -0.85551 | bce: 0.03909 | dice: 0.86772 | 0 cls: 0.11688 | 1 cls: 0.17056 | 2 cls: 0.29888\n"
     ]
    },
    {
     "name": "stderr",
     "output_type": "stream",
     "text": [
      "Epoch 68, lr 0.0008: 100% 21/21 [00:10<00:00,  1.92it/s, 0 cls=0.18381, 1 cls=0.26618, 2 cls=0.36656, bce=0.07839, dice=0.83924, loss=-0.78632]\n"
     ]
    },
    {
     "name": "stdout",
     "output_type": "stream",
     "text": [
      "loss: -0.84977 | bce: 0.04166 | dice: 0.86278 | 0 cls: 0.12011 | 1 cls: 0.18161 | 2 cls: 0.30857\n"
     ]
    },
    {
     "name": "stderr",
     "output_type": "stream",
     "text": [
      "Epoch 69, lr 0.0008: 100% 21/21 [00:10<00:00,  1.95it/s, 0 cls=0.18340, 1 cls=0.26485, 2 cls=0.36837, bce=0.07696, dice=0.83803, loss=-0.78686]\n"
     ]
    },
    {
     "name": "stdout",
     "output_type": "stream",
     "text": [
      "loss: -0.85232 | bce: 0.03798 | dice: 0.86182 | 0 cls: 0.11890 | 1 cls: 0.17586 | 2 cls: 0.30677\n"
     ]
    },
    {
     "name": "stderr",
     "output_type": "stream",
     "text": [
      "Epoch 70, lr 0.0008: 100% 21/21 [00:11<00:00,  1.88it/s, 0 cls=0.17835, 1 cls=0.26023, 2 cls=0.36247, bce=0.07653, dice=0.84179, loss=-0.79113]\n"
     ]
    },
    {
     "name": "stdout",
     "output_type": "stream",
     "text": [
      "loss: -0.85547 | bce: 0.04101 | dice: 0.86957 | 0 cls: 0.11548 | 1 cls: 0.17357 | 2 cls: 0.29630\n"
     ]
    },
    {
     "name": "stderr",
     "output_type": "stream",
     "text": [
      "Epoch 71, lr 0.0008: 100% 21/21 [00:11<00:00,  1.89it/s, 0 cls=0.18505, 1 cls=0.27317, 2 cls=0.37200, bce=0.07728, dice=0.83552, loss=-0.78388]\n"
     ]
    },
    {
     "name": "stdout",
     "output_type": "stream",
     "text": [
      "loss: -0.85348 | bce: 0.04046 | dice: 0.86577 | 0 cls: 0.11759 | 1 cls: 0.17488 | 2 cls: 0.30506\n"
     ]
    },
    {
     "name": "stderr",
     "output_type": "stream",
     "text": [
      "Epoch 72, lr 0.0008: 100% 21/21 [00:11<00:00,  1.87it/s, 0 cls=0.17781, 1 cls=0.26369, 2 cls=0.36479, bce=0.07729, dice=0.84148, loss=-0.79036]\n"
     ]
    },
    {
     "name": "stdout",
     "output_type": "stream",
     "text": [
      "loss: -0.85568 | bce: 0.04010 | dice: 0.86849 | 0 cls: 0.11551 | 1 cls: 0.17342 | 2 cls: 0.29598\n"
     ]
    },
    {
     "name": "stderr",
     "output_type": "stream",
     "text": [
      "Epoch 73, lr 0.0008: 100% 21/21 [00:10<00:00,  1.92it/s, 0 cls=0.17779, 1 cls=0.25988, 2 cls=0.36371, bce=0.07615, dice=0.84153, loss=-0.79159]\n"
     ]
    },
    {
     "name": "stdout",
     "output_type": "stream",
     "text": [
      "loss: -0.85517 | bce: 0.03913 | dice: 0.86742 | 0 cls: 0.11753 | 1 cls: 0.17059 | 2 cls: 0.29678\n"
     ]
    },
    {
     "name": "stderr",
     "output_type": "stream",
     "text": [
      "Epoch 74, lr 0.0008: 100% 21/21 [00:11<00:00,  1.91it/s, 0 cls=0.17883, 1 cls=0.26076, 2 cls=0.36314, bce=0.07616, dice=0.84115, loss=-0.79083]\n"
     ]
    },
    {
     "name": "stdout",
     "output_type": "stream",
     "text": [
      "loss: -0.85472 | bce: 0.03865 | dice: 0.86627 | 0 cls: 0.11774 | 1 cls: 0.17154 | 2 cls: 0.29848\n"
     ]
    },
    {
     "name": "stderr",
     "output_type": "stream",
     "text": [
      "Epoch 75, lr 0.0008: 100% 21/21 [00:10<00:00,  1.92it/s, 0 cls=0.19504, 1 cls=0.27018, 2 cls=0.37890, bce=0.08198, dice=0.83422, loss=-0.77793]\n"
     ]
    },
    {
     "name": "stdout",
     "output_type": "stream",
     "text": [
      "loss: -0.85428 | bce: 0.04156 | dice: 0.86819 | 0 cls: 0.11857 | 1 cls: 0.17149 | 2 cls: 0.30065\n"
     ]
    },
    {
     "name": "stderr",
     "output_type": "stream",
     "text": [
      "Epoch 76, lr 0.0008: 100% 21/21 [00:11<00:00,  1.90it/s, 0 cls=0.18345, 1 cls=0.26572, 2 cls=0.36982, bce=0.07884, dice=0.83900, loss=-0.78620]\n"
     ]
    },
    {
     "name": "stdout",
     "output_type": "stream",
     "text": [
      "loss: -0.85530 | bce: 0.03672 | dice: 0.86519 | 0 cls: 0.11663 | 1 cls: 0.17197 | 2 cls: 0.30112\n"
     ]
    },
    {
     "name": "stderr",
     "output_type": "stream",
     "text": [
      "Epoch 77, lr 0.0008: 100% 21/21 [00:11<00:00,  1.90it/s, 0 cls=0.18647, 1 cls=0.26634, 2 cls=0.37255, bce=0.07857, dice=0.83691, loss=-0.78434]\n"
     ]
    },
    {
     "name": "stdout",
     "output_type": "stream",
     "text": [
      "loss: -0.85251 | bce: 0.03662 | dice: 0.86153 | 0 cls: 0.12256 | 1 cls: 0.16989 | 2 cls: 0.30395\n"
     ]
    },
    {
     "name": "stderr",
     "output_type": "stream",
     "text": [
      "Epoch 78, lr 0.0008: 100% 21/21 [00:10<00:00,  1.92it/s, 0 cls=0.17880, 1 cls=0.26097, 2 cls=0.36435, bce=0.07615, dice=0.84093, loss=-0.79073]\n"
     ]
    },
    {
     "name": "stdout",
     "output_type": "stream",
     "text": [
      "loss: -0.85238 | bce: 0.04133 | dice: 0.86602 | 0 cls: 0.11910 | 1 cls: 0.17714 | 2 cls: 0.30286\n"
     ]
    },
    {
     "name": "stderr",
     "output_type": "stream",
     "text": [
      "Epoch 79, lr 0.0008: 100% 21/21 [00:10<00:00,  1.92it/s, 0 cls=0.19745, 1 cls=0.27445, 2 cls=0.38111, bce=0.08416, dice=0.83391, loss=-0.77505]\n"
     ]
    },
    {
     "name": "stdout",
     "output_type": "stream",
     "text": [
      "loss: -0.85674 | bce: 0.03743 | dice: 0.86767 | 0 cls: 0.11562 | 1 cls: 0.17005 | 2 cls: 0.29513\n"
     ]
    },
    {
     "name": "stderr",
     "output_type": "stream",
     "text": [
      "Epoch 80, lr 0.0008: 100% 21/21 [00:11<00:00,  1.88it/s, 0 cls=0.18008, 1 cls=0.26000, 2 cls=0.36337, bce=0.07704, dice=0.84145, loss=-0.79014]\n"
     ]
    },
    {
     "name": "stdout",
     "output_type": "stream",
     "text": [
      "loss: -0.85115 | bce: 0.04245 | dice: 0.86550 | 0 cls: 0.12353 | 1 cls: 0.17009 | 2 cls: 0.30430\n"
     ]
    },
    {
     "name": "stderr",
     "output_type": "stream",
     "text": [
      "Epoch 81, lr 0.0008: 100% 21/21 [00:11<00:00,  1.90it/s, 0 cls=0.19201, 1 cls=0.27272, 2 cls=0.37789, bce=0.07972, dice=0.83322, loss=-0.77933]\n"
     ]
    },
    {
     "name": "stdout",
     "output_type": "stream",
     "text": [
      "loss: -0.85586 | bce: 0.03788 | dice: 0.86689 | 0 cls: 0.11599 | 1 cls: 0.17168 | 2 cls: 0.30031\n"
     ]
    },
    {
     "name": "stderr",
     "output_type": "stream",
     "text": [
      "Epoch 82, lr 0.0008: 100% 21/21 [00:11<00:00,  1.90it/s, 0 cls=0.18073, 1 cls=0.26186, 2 cls=0.36526, bce=0.07694, dice=0.84027, loss=-0.78918]\n"
     ]
    },
    {
     "name": "stdout",
     "output_type": "stream",
     "text": [
      "loss: -0.84938 | bce: 0.04216 | dice: 0.86276 | 0 cls: 0.12029 | 1 cls: 0.18228 | 2 cls: 0.31204\n"
     ]
    },
    {
     "name": "stderr",
     "output_type": "stream",
     "text": [
      "Epoch 83, lr 0.0008: 100% 21/21 [00:11<00:00,  1.89it/s, 0 cls=0.18337, 1 cls=0.26196, 2 cls=0.36590, bce=0.07844, dice=0.84039, loss=-0.78753]\n"
     ]
    },
    {
     "name": "stdout",
     "output_type": "stream",
     "text": [
      "loss: -0.85686 | bce: 0.03890 | dice: 0.86917 | 0 cls: 0.11593 | 1 cls: 0.16892 | 2 cls: 0.29481\n"
     ]
    },
    {
     "name": "stderr",
     "output_type": "stream",
     "text": [
      "Epoch 84, lr 0.0008: 100% 21/21 [00:11<00:00,  1.89it/s, 0 cls=0.18522, 1 cls=0.26861, 2 cls=0.37257, bce=0.07917, dice=0.83743, loss=-0.78437]\n"
     ]
    },
    {
     "name": "stdout",
     "output_type": "stream",
     "text": [
      "loss: -0.85252 | bce: 0.03710 | dice: 0.86217 | 0 cls: 0.11941 | 1 cls: 0.17510 | 2 cls: 0.30551\n"
     ]
    },
    {
     "name": "stderr",
     "output_type": "stream",
     "text": [
      "Epoch 85, lr 0.0008: 100% 21/21 [00:11<00:00,  1.90it/s, 0 cls=0.18396, 1 cls=0.26367, 2 cls=0.36793, bce=0.07840, dice=0.83908, loss=-0.78663]\n"
     ]
    },
    {
     "name": "stdout",
     "output_type": "stream",
     "text": [
      "loss: -0.85617 | bce: 0.03725 | dice: 0.86697 | 0 cls: 0.11568 | 1 cls: 0.17156 | 2 cls: 0.29806\n"
     ]
    },
    {
     "name": "stderr",
     "output_type": "stream",
     "text": [
      "Epoch 86, lr 0.0008: 100% 21/21 [00:10<00:00,  1.92it/s, 0 cls=0.18520, 1 cls=0.26647, 2 cls=0.37074, bce=0.07817, dice=0.83735, loss=-0.78508]\n"
     ]
    },
    {
     "name": "stdout",
     "output_type": "stream",
     "text": [
      "loss: -0.85489 | bce: 0.03777 | dice: 0.86515 | 0 cls: 0.11745 | 1 cls: 0.17254 | 2 cls: 0.30049\n"
     ]
    },
    {
     "name": "stderr",
     "output_type": "stream",
     "text": [
      "Epoch 87, lr 0.0008: 100% 21/21 [00:10<00:00,  1.93it/s, 0 cls=0.17095, 1 cls=0.25418, 2 cls=0.35384, bce=0.07521, dice=0.84699, loss=-0.79756]\n"
     ]
    },
    {
     "name": "stdout",
     "output_type": "stream",
     "text": [
      "loss: -0.85401 | bce: 0.03689 | dice: 0.86263 | 0 cls: 0.11946 | 1 cls: 0.17157 | 2 cls: 0.30292\n"
     ]
    },
    {
     "name": "stderr",
     "output_type": "stream",
     "text": [
      "Epoch 88, lr 0.0008: 100% 21/21 [00:10<00:00,  1.92it/s, 0 cls=0.17388, 1 cls=0.25714, 2 cls=0.35861, bce=0.07506, dice=0.84366, loss=-0.79482]\n"
     ]
    },
    {
     "name": "stdout",
     "output_type": "stream",
     "text": [
      "loss: -0.85948 | bce: 0.03907 | dice: 0.87193 | 0 cls: 0.11281 | 1 cls: 0.16715 | 2 cls: 0.29045\n"
     ]
    },
    {
     "name": "stderr",
     "output_type": "stream",
     "text": [
      "Epoch 89, lr 0.0008: 100% 21/21 [00:11<00:00,  1.89it/s, 0 cls=0.17563, 1 cls=0.25816, 2 cls=0.35982, bce=0.07643, dice=0.84388, loss=-0.79344]\n"
     ]
    },
    {
     "name": "stdout",
     "output_type": "stream",
     "text": [
      "loss: -0.85621 | bce: 0.03711 | dice: 0.86621 | 0 cls: 0.11657 | 1 cls: 0.16901 | 2 cls: 0.29763\n"
     ]
    },
    {
     "name": "stderr",
     "output_type": "stream",
     "text": [
      "Epoch 90, lr 0.002: 100% 21/21 [00:11<00:00,  1.91it/s, 0 cls=0.19107, 1 cls=0.27612, 2 cls=0.38013, bce=0.08050, dice=0.83317, loss=-0.77869]\n"
     ]
    },
    {
     "name": "stdout",
     "output_type": "stream",
     "text": [
      "loss: -0.84913 | bce: 0.03971 | dice: 0.86123 | 0 cls: 0.12547 | 1 cls: 0.17478 | 2 cls: 0.30722\n"
     ]
    },
    {
     "name": "stderr",
     "output_type": "stream",
     "text": [
      "Epoch 91, lr 0.002: 100% 21/21 [00:10<00:00,  1.91it/s, 0 cls=0.19776, 1 cls=0.28704, 2 cls=0.39058, bce=0.08438, dice=0.82912, loss=-0.77105]\n"
     ]
    },
    {
     "name": "stdout",
     "output_type": "stream",
     "text": [
      "loss: -0.85197 | bce: 0.04133 | dice: 0.86604 | 0 cls: 0.12052 | 1 cls: 0.17241 | 2 cls: 0.30407\n"
     ]
    },
    {
     "name": "stderr",
     "output_type": "stream",
     "text": [
      "Epoch 92, lr 0.0006: 100% 21/21 [00:10<00:00,  1.93it/s, 0 cls=0.19138, 1 cls=0.28004, 2 cls=0.38556, bce=0.08159, dice=0.83191, loss=-0.77693]\n"
     ]
    },
    {
     "name": "stdout",
     "output_type": "stream",
     "text": [
      "loss: -0.85392 | bce: 0.03918 | dice: 0.86601 | 0 cls: 0.11973 | 1 cls: 0.16988 | 2 cls: 0.29928\n"
     ]
    },
    {
     "name": "stderr",
     "output_type": "stream",
     "text": [
      "Epoch 93, lr 0.0006: 100% 21/21 [00:10<00:00,  1.94it/s, 0 cls=0.18264, 1 cls=0.26572, 2 cls=0.36610, bce=0.07794, dice=0.83950, loss=-0.78704]\n"
     ]
    },
    {
     "name": "stdout",
     "output_type": "stream",
     "text": [
      "loss: -0.85331 | bce: 0.03900 | dice: 0.86564 | 0 cls: 0.12013 | 1 cls: 0.16952 | 2 cls: 0.29980\n"
     ]
    },
    {
     "name": "stderr",
     "output_type": "stream",
     "text": [
      "Epoch 94, lr 0.00017999999999999998: 100% 21/21 [00:11<00:00,  1.90it/s, 0 cls=0.18568, 1 cls=0.26701, 2 cls=0.36909, bce=0.07803, dice=0.83729, loss=-0.78492]\n"
     ]
    },
    {
     "name": "stdout",
     "output_type": "stream",
     "text": [
      "loss: -0.85594 | bce: 0.03807 | dice: 0.86696 | 0 cls: 0.11616 | 1 cls: 0.16996 | 2 cls: 0.29806\n"
     ]
    },
    {
     "name": "stderr",
     "output_type": "stream",
     "text": [
      "Epoch 95, lr 0.002: 100% 21/21 [00:10<00:00,  1.92it/s, 0 cls=0.21733, 1 cls=0.28937, 2 cls=0.40073, bce=0.08959, dice=0.82334, loss=-0.75860]\n"
     ]
    },
    {
     "name": "stdout",
     "output_type": "stream",
     "text": [
      "loss: -0.80269 | bce: 0.05982 | dice: 0.82688 | 0 cls: 0.18578 | 1 cls: 0.18564 | 2 cls: 0.40055\n"
     ]
    },
    {
     "name": "stderr",
     "output_type": "stream",
     "text": [
      "Epoch 96, lr 0.002: 100% 21/21 [00:11<00:00,  1.86it/s, 0 cls=0.28157, 1 cls=0.37857, 2 cls=0.47861, bce=0.11139, dice=0.78415, loss=-0.69652]\n"
     ]
    },
    {
     "name": "stdout",
     "output_type": "stream",
     "text": [
      "loss: -0.82674 | bce: 0.04709 | dice: 0.84465 | 0 cls: 0.14519 | 1 cls: 0.19905 | 2 cls: 0.34149\n"
     ]
    },
    {
     "name": "stderr",
     "output_type": "stream",
     "text": [
      "Epoch 97, lr 0.0006: 100% 21/21 [00:11<00:00,  1.91it/s, 0 cls=0.21444, 1 cls=0.30007, 2 cls=0.40865, bce=0.08960, dice=0.82036, loss=-0.75700]\n"
     ]
    },
    {
     "name": "stdout",
     "output_type": "stream",
     "text": [
      "loss: -0.85004 | bce: 0.04194 | dice: 0.86490 | 0 cls: 0.12132 | 1 cls: 0.17765 | 2 cls: 0.30475\n"
     ]
    },
    {
     "name": "stderr",
     "output_type": "stream",
     "text": [
      "Epoch 98, lr 0.0006: 100% 21/21 [00:18<00:00,  1.16it/s, 0 cls=0.20533, 1 cls=0.28303, 2 cls=0.39356, bce=0.08429, dice=0.82644, loss=-0.76786]\n"
     ]
    },
    {
     "name": "stdout",
     "output_type": "stream",
     "text": [
      "loss: -0.85058 | bce: 0.04124 | dice: 0.86474 | 0 cls: 0.12017 | 1 cls: 0.17774 | 2 cls: 0.30582\n"
     ]
    },
    {
     "name": "stderr",
     "output_type": "stream",
     "text": [
      "Epoch 99, lr 0.00017999999999999998: 100% 21/21 [00:10<00:00,  1.94it/s, 0 cls=0.19200, 1 cls=0.27919, 2 cls=0.38173, bce=0.08104, dice=0.83232, loss=-0.77721]\n"
     ]
    },
    {
     "name": "stdout",
     "output_type": "stream",
     "text": [
      "loss: -0.85198 | bce: 0.03820 | dice: 0.86323 | 0 cls: 0.12032 | 1 cls: 0.17361 | 2 cls: 0.30443\n"
     ]
    },
    {
     "name": "stderr",
     "output_type": "stream",
     "text": [
      "Epoch 100, lr 0.00048: 100% 21/21 [00:11<00:00,  1.88it/s, 0 cls=0.17746, 1 cls=0.26100, 2 cls=0.36315, bce=0.07710, dice=0.84227, loss=-0.79135]\n"
     ]
    },
    {
     "name": "stdout",
     "output_type": "stream",
     "text": [
      "loss: -0.85151 | bce: 0.03782 | dice: 0.86249 | 0 cls: 0.12166 | 1 cls: 0.17249 | 2 cls: 0.30562\n"
     ]
    },
    {
     "name": "stderr",
     "output_type": "stream",
     "text": [
      "Epoch 101, lr 0.00048: 100% 21/21 [00:11<00:00,  1.90it/s, 0 cls=0.17845, 1 cls=0.25821, 2 cls=0.36274, bce=0.07640, dice=0.84195, loss=-0.79161]\n"
     ]
    },
    {
     "name": "stdout",
     "output_type": "stream",
     "text": [
      "loss: -0.85481 | bce: 0.03916 | dice: 0.86728 | 0 cls: 0.11691 | 1 cls: 0.17253 | 2 cls: 0.29874\n"
     ]
    },
    {
     "name": "stderr",
     "output_type": "stream",
     "text": [
      "Epoch 102, lr 0.00048: 100% 21/21 [00:11<00:00,  1.89it/s, 0 cls=0.18265, 1 cls=0.26235, 2 cls=0.36557, bce=0.07720, dice=0.83970, loss=-0.78806]\n"
     ]
    },
    {
     "name": "stdout",
     "output_type": "stream",
     "text": [
      "loss: -0.85314 | bce: 0.03972 | dice: 0.86499 | 0 cls: 0.11771 | 1 cls: 0.17586 | 2 cls: 0.30272\n"
     ]
    },
    {
     "name": "stderr",
     "output_type": "stream",
     "text": [
      "Epoch 103, lr 0.00048: 100% 21/21 [00:10<00:00,  1.93it/s, 0 cls=0.18226, 1 cls=0.26370, 2 cls=0.36721, bce=0.07763, dice=0.83938, loss=-0.78769]\n"
     ]
    },
    {
     "name": "stdout",
     "output_type": "stream",
     "text": [
      "loss: -0.85560 | bce: 0.03873 | dice: 0.86737 | 0 cls: 0.11596 | 1 cls: 0.17215 | 2 cls: 0.29744\n"
     ]
    },
    {
     "name": "stderr",
     "output_type": "stream",
     "text": [
      "Epoch 104, lr 0.00048: 100% 21/21 [00:10<00:00,  1.92it/s, 0 cls=0.17697, 1 cls=0.25816, 2 cls=0.35965, bce=0.07698, dice=0.84395, loss=-0.79265]\n"
     ]
    },
    {
     "name": "stdout",
     "output_type": "stream",
     "text": [
      "loss: -0.85395 | bce: 0.03749 | dice: 0.86459 | 0 cls: 0.11796 | 1 cls: 0.17348 | 2 cls: 0.30127\n"
     ]
    },
    {
     "name": "stderr",
     "output_type": "stream",
     "text": [
      "Epoch 105, lr 0.00048: 100% 21/21 [00:11<00:00,  1.79it/s, 0 cls=0.18099, 1 cls=0.26775, 2 cls=0.36919, bce=0.07748, dice=0.83855, loss=-0.78740]\n"
     ]
    },
    {
     "name": "stdout",
     "output_type": "stream",
     "text": [
      "loss: -0.85749 | bce: 0.03737 | dice: 0.86870 | 0 cls: 0.11462 | 1 cls: 0.16851 | 2 cls: 0.29395\n"
     ]
    },
    {
     "name": "stderr",
     "output_type": "stream",
     "text": [
      "Epoch 106, lr 0.00048: 100% 21/21 [00:18<00:00,  1.16it/s, 0 cls=0.17952, 1 cls=0.26204, 2 cls=0.36396, bce=0.07629, dice=0.84055, loss=-0.79009]\n"
     ]
    },
    {
     "name": "stdout",
     "output_type": "stream",
     "text": [
      "loss: -0.85629 | bce: 0.03790 | dice: 0.86743 | 0 cls: 0.11686 | 1 cls: 0.16838 | 2 cls: 0.29571\n"
     ]
    },
    {
     "name": "stderr",
     "output_type": "stream",
     "text": [
      "Epoch 107, lr 0.00048: 100% 21/21 [00:12<00:00,  1.66it/s, 0 cls=0.18351, 1 cls=0.26341, 2 cls=0.37036, bce=0.07744, dice=0.83812, loss=-0.78703]\n"
     ]
    },
    {
     "name": "stdout",
     "output_type": "stream",
     "text": [
      "loss: -0.85463 | bce: 0.03948 | dice: 0.86725 | 0 cls: 0.11722 | 1 cls: 0.17224 | 2 cls: 0.29976\n"
     ]
    },
    {
     "name": "stderr",
     "output_type": "stream",
     "text": [
      "Epoch 108, lr 0.00048: 100% 21/21 [00:18<00:00,  1.14it/s, 0 cls=0.17710, 1 cls=0.25980, 2 cls=0.36160, bce=0.07636, dice=0.84249, loss=-0.79207]\n"
     ]
    },
    {
     "name": "stdout",
     "output_type": "stream",
     "text": [
      "loss: -0.85634 | bce: 0.03815 | dice: 0.86802 | 0 cls: 0.11629 | 1 cls: 0.16908 | 2 cls: 0.29485\n"
     ]
    },
    {
     "name": "stderr",
     "output_type": "stream",
     "text": [
      "Epoch 109, lr 0.00048: 100% 21/21 [00:18<00:00,  1.14it/s, 0 cls=0.17404, 1 cls=0.25862, 2 cls=0.35865, bce=0.07576, dice=0.84400, loss=-0.79430]\n"
     ]
    },
    {
     "name": "stdout",
     "output_type": "stream",
     "text": [
      "loss: -0.85686 | bce: 0.03827 | dice: 0.86849 | 0 cls: 0.11487 | 1 cls: 0.16964 | 2 cls: 0.29476\n"
     ]
    },
    {
     "name": "stderr",
     "output_type": "stream",
     "text": [
      "Epoch 110, lr 0.00048: 100% 21/21 [00:11<00:00,  1.83it/s, 0 cls=0.17586, 1 cls=0.25757, 2 cls=0.35864, bce=0.07532, dice=0.84313, loss=-0.79359]\n"
     ]
    },
    {
     "name": "stdout",
     "output_type": "stream",
     "text": [
      "loss: -0.85580 | bce: 0.03885 | dice: 0.86761 | 0 cls: 0.11477 | 1 cls: 0.17307 | 2 cls: 0.29822\n"
     ]
    },
    {
     "name": "stderr",
     "output_type": "stream",
     "text": [
      "Epoch 111, lr 0.00048: 100% 21/21 [00:10<00:00,  1.92it/s, 0 cls=0.17463, 1 cls=0.25390, 2 cls=0.35718, bce=0.07507, dice=0.84456, loss=-0.79541]\n"
     ]
    },
    {
     "name": "stdout",
     "output_type": "stream",
     "text": [
      "loss: -0.85512 | bce: 0.03661 | dice: 0.86497 | 0 cls: 0.11721 | 1 cls: 0.17088 | 2 cls: 0.29914\n"
     ]
    },
    {
     "name": "stderr",
     "output_type": "stream",
     "text": [
      "Epoch 112, lr 0.00048: 100% 21/21 [00:11<00:00,  1.90it/s, 0 cls=0.17547, 1 cls=0.25396, 2 cls=0.35485, bce=0.07585, dice=0.84535, loss=-0.79494]\n"
     ]
    },
    {
     "name": "stdout",
     "output_type": "stream",
     "text": [
      "loss: -0.85402 | bce: 0.03920 | dice: 0.86622 | 0 cls: 0.11816 | 1 cls: 0.17275 | 2 cls: 0.29881\n"
     ]
    },
    {
     "name": "stderr",
     "output_type": "stream",
     "text": [
      "Epoch 113, lr 0.00048: 100% 21/21 [00:11<00:00,  1.87it/s, 0 cls=0.18254, 1 cls=0.26833, 2 cls=0.36764, bce=0.07778, dice=0.83871, loss=-0.78641]\n"
     ]
    },
    {
     "name": "stdout",
     "output_type": "stream",
     "text": [
      "loss: -0.85756 | bce: 0.04055 | dice: 0.87089 | 0 cls: 0.11425 | 1 cls: 0.16815 | 2 cls: 0.29337\n"
     ]
    },
    {
     "name": "stderr",
     "output_type": "stream",
     "text": [
      "Epoch 114, lr 0.00048: 100% 21/21 [00:11<00:00,  1.86it/s, 0 cls=0.17064, 1 cls=0.25179, 2 cls=0.34833, bce=0.07396, dice=0.84768, loss=-0.79875]\n"
     ]
    },
    {
     "name": "stdout",
     "output_type": "stream",
     "text": [
      "loss: -0.85677 | bce: 0.03735 | dice: 0.86767 | 0 cls: 0.11617 | 1 cls: 0.16821 | 2 cls: 0.29529\n"
     ]
    },
    {
     "name": "stderr",
     "output_type": "stream",
     "text": [
      "Epoch 115, lr 0.00048: 100% 21/21 [00:10<00:00,  1.95it/s, 0 cls=0.17601, 1 cls=0.25180, 2 cls=0.35464, bce=0.07575, dice=0.84549, loss=-0.79522]\n"
     ]
    },
    {
     "name": "stdout",
     "output_type": "stream",
     "text": [
      "loss: -0.85800 | bce: 0.03823 | dice: 0.86994 | 0 cls: 0.11429 | 1 cls: 0.16847 | 2 cls: 0.29296\n"
     ]
    },
    {
     "name": "stderr",
     "output_type": "stream",
     "text": [
      "Epoch 116, lr 0.00048: 100% 21/21 [00:11<00:00,  1.90it/s, 0 cls=0.16953, 1 cls=0.25322, 2 cls=0.34939, bce=0.07312, dice=0.84684, loss=-0.79909]\n"
     ]
    },
    {
     "name": "stdout",
     "output_type": "stream",
     "text": [
      "loss: -0.85379 | bce: 0.03821 | dice: 0.86512 | 0 cls: 0.11853 | 1 cls: 0.17168 | 2 cls: 0.30233\n"
     ]
    },
    {
     "name": "stderr",
     "output_type": "stream",
     "text": [
      "Epoch 117, lr 0.00048: 100% 21/21 [00:10<00:00,  1.95it/s, 0 cls=0.17191, 1 cls=0.25244, 2 cls=0.35290, bce=0.07362, dice=0.84577, loss=-0.79774]\n"
     ]
    },
    {
     "name": "stdout",
     "output_type": "stream",
     "text": [
      "loss: -0.85319 | bce: 0.03818 | dice: 0.86531 | 0 cls: 0.12093 | 1 cls: 0.16996 | 2 cls: 0.29765\n"
     ]
    },
    {
     "name": "stderr",
     "output_type": "stream",
     "text": [
      "Epoch 118, lr 0.00048: 100% 21/21 [00:10<00:00,  1.93it/s, 0 cls=0.17654, 1 cls=0.25899, 2 cls=0.35771, bce=0.07697, dice=0.84440, loss=-0.79279]\n"
     ]
    },
    {
     "name": "stdout",
     "output_type": "stream",
     "text": [
      "loss: -0.85493 | bce: 0.03769 | dice: 0.86582 | 0 cls: 0.11717 | 1 cls: 0.17105 | 2 cls: 0.29943\n"
     ]
    },
    {
     "name": "stderr",
     "output_type": "stream",
     "text": [
      "Epoch 119, lr 0.00048: 100% 21/21 [00:11<00:00,  1.83it/s, 0 cls=0.17589, 1 cls=0.25884, 2 cls=0.35952, bce=0.07598, dice=0.84331, loss=-0.79324]\n"
     ]
    },
    {
     "name": "stdout",
     "output_type": "stream",
     "text": [
      "loss: -0.85749 | bce: 0.03843 | dice: 0.86926 | 0 cls: 0.11472 | 1 cls: 0.16757 | 2 cls: 0.29427\n"
     ]
    },
    {
     "name": "stderr",
     "output_type": "stream",
     "text": [
      "Epoch 120, lr 0.00048: 100% 21/21 [00:11<00:00,  1.90it/s, 0 cls=0.17577, 1 cls=0.25830, 2 cls=0.35763, bce=0.07516, dice=0.84336, loss=-0.79370]\n"
     ]
    },
    {
     "name": "stdout",
     "output_type": "stream",
     "text": [
      "loss: -0.85581 | bce: 0.03872 | dice: 0.86782 | 0 cls: 0.11542 | 1 cls: 0.17159 | 2 cls: 0.29694\n"
     ]
    },
    {
     "name": "stderr",
     "output_type": "stream",
     "text": [
      "Epoch 121, lr 0.00048: 100% 21/21 [00:11<00:00,  1.90it/s, 0 cls=0.17461, 1 cls=0.26030, 2 cls=0.35575, bce=0.07478, dice=0.84346, loss=-0.79395]\n"
     ]
    },
    {
     "name": "stdout",
     "output_type": "stream",
     "text": [
      "loss: -0.85358 | bce: 0.03952 | dice: 0.86526 | 0 cls: 0.11472 | 1 cls: 0.18042 | 2 cls: 0.30188\n"
     ]
    },
    {
     "name": "stderr",
     "output_type": "stream",
     "text": [
      "Epoch 122, lr 0.00048: 100% 21/21 [00:10<00:00,  1.93it/s, 0 cls=0.17452, 1 cls=0.25651, 2 cls=0.35569, bce=0.07592, dice=0.84509, loss=-0.79474]\n"
     ]
    },
    {
     "name": "stdout",
     "output_type": "stream",
     "text": [
      "loss: -0.85631 | bce: 0.03759 | dice: 0.86764 | 0 cls: 0.11670 | 1 cls: 0.16781 | 2 cls: 0.29458\n"
     ]
    },
    {
     "name": "stderr",
     "output_type": "stream",
     "text": [
      "Epoch 123, lr 0.00048: 100% 21/21 [00:11<00:00,  1.90it/s, 0 cls=0.17817, 1 cls=0.25925, 2 cls=0.36100, bce=0.07658, dice=0.84248, loss=-0.79170]\n"
     ]
    },
    {
     "name": "stdout",
     "output_type": "stream",
     "text": [
      "loss: -0.85534 | bce: 0.03796 | dice: 0.86624 | 0 cls: 0.11670 | 1 cls: 0.17105 | 2 cls: 0.29816\n"
     ]
    },
    {
     "name": "stderr",
     "output_type": "stream",
     "text": [
      "Epoch 124, lr 0.00048: 100% 21/21 [00:10<00:00,  1.91it/s, 0 cls=0.17695, 1 cls=0.25770, 2 cls=0.36034, bce=0.07604, dice=0.84295, loss=-0.79286]\n"
     ]
    },
    {
     "name": "stdout",
     "output_type": "stream",
     "text": [
      "loss: -0.85258 | bce: 0.03827 | dice: 0.86352 | 0 cls: 0.12214 | 1 cls: 0.16800 | 2 cls: 0.30265\n"
     ]
    },
    {
     "name": "stderr",
     "output_type": "stream",
     "text": [
      "Epoch 125, lr 0.00048: 100% 21/21 [00:10<00:00,  1.92it/s, 0 cls=0.17446, 1 cls=0.25760, 2 cls=0.35964, bce=0.07427, dice=0.84269, loss=-0.79456]\n"
     ]
    },
    {
     "name": "stdout",
     "output_type": "stream",
     "text": [
      "loss: -0.85591 | bce: 0.03899 | dice: 0.86797 | 0 cls: 0.11619 | 1 cls: 0.17039 | 2 cls: 0.29562\n"
     ]
    },
    {
     "name": "stderr",
     "output_type": "stream",
     "text": [
      "Epoch 126, lr 0.00048: 100% 21/21 [00:10<00:00,  1.94it/s, 0 cls=0.17252, 1 cls=0.25134, 2 cls=0.35362, bce=0.07388, dice=0.84557, loss=-0.79751]\n"
     ]
    },
    {
     "name": "stdout",
     "output_type": "stream",
     "text": [
      "loss: -0.85725 | bce: 0.03761 | dice: 0.86831 | 0 cls: 0.11571 | 1 cls: 0.16803 | 2 cls: 0.29380\n"
     ]
    },
    {
     "name": "stderr",
     "output_type": "stream",
     "text": [
      "Epoch 127, lr 0.00048: 100% 21/21 [00:10<00:00,  1.91it/s, 0 cls=0.17371, 1 cls=0.25325, 2 cls=0.35366, bce=0.07466, dice=0.84549, loss=-0.79629]\n"
     ]
    },
    {
     "name": "stdout",
     "output_type": "stream",
     "text": [
      "loss: -0.85712 | bce: 0.03767 | dice: 0.86859 | 0 cls: 0.11656 | 1 cls: 0.16576 | 2 cls: 0.29276\n"
     ]
    },
    {
     "name": "stderr",
     "output_type": "stream",
     "text": [
      "Epoch 128, lr 0.00048: 100% 21/21 [00:11<00:00,  1.89it/s, 0 cls=0.17276, 1 cls=0.25304, 2 cls=0.35467, bce=0.07411, dice=0.84517, loss=-0.79692]\n"
     ]
    },
    {
     "name": "stdout",
     "output_type": "stream",
     "text": [
      "loss: -0.85761 | bce: 0.03815 | dice: 0.86986 | 0 cls: 0.11553 | 1 cls: 0.16643 | 2 cls: 0.29218\n"
     ]
    },
    {
     "name": "stderr",
     "output_type": "stream",
     "text": [
      "Epoch 129, lr 0.00048: 100% 21/21 [00:10<00:00,  1.91it/s, 0 cls=0.17312, 1 cls=0.25645, 2 cls=0.35418, bce=0.07407, dice=0.84464, loss=-0.79595]\n"
     ]
    },
    {
     "name": "stdout",
     "output_type": "stream",
     "text": [
      "loss: -0.85606 | bce: 0.03706 | dice: 0.86679 | 0 cls: 0.11594 | 1 cls: 0.17091 | 2 cls: 0.29697\n"
     ]
    },
    {
     "name": "stderr",
     "output_type": "stream",
     "text": [
      "Epoch 130, lr 0.00048: 100% 21/21 [00:11<00:00,  1.90it/s, 0 cls=0.17324, 1 cls=0.25568, 2 cls=0.35406, bce=0.07405, dice=0.84471, loss=-0.79617]\n"
     ]
    },
    {
     "name": "stdout",
     "output_type": "stream",
     "text": [
      "loss: -0.85842 | bce: 0.03910 | dice: 0.87169 | 0 cls: 0.11350 | 1 cls: 0.16722 | 2 cls: 0.29134\n"
     ]
    },
    {
     "name": "stderr",
     "output_type": "stream",
     "text": [
      "Epoch 131, lr 0.00048: 100% 21/21 [00:10<00:00,  1.91it/s, 0 cls=0.17244, 1 cls=0.25643, 2 cls=0.35501, bce=0.07469, dice=0.84528, loss=-0.79625]\n"
     ]
    },
    {
     "name": "stdout",
     "output_type": "stream",
     "text": [
      "loss: -0.85855 | bce: 0.03853 | dice: 0.87045 | 0 cls: 0.11322 | 1 cls: 0.16788 | 2 cls: 0.29233\n"
     ]
    },
    {
     "name": "stderr",
     "output_type": "stream",
     "text": [
      "Epoch 132, lr 0.00048: 100% 21/21 [00:10<00:00,  1.93it/s, 0 cls=0.17113, 1 cls=0.25192, 2 cls=0.34968, bce=0.07360, dice=0.84693, loss=-0.79849]\n"
     ]
    },
    {
     "name": "stdout",
     "output_type": "stream",
     "text": [
      "loss: -0.85605 | bce: 0.03911 | dice: 0.86853 | 0 cls: 0.11464 | 1 cls: 0.17235 | 2 cls: 0.29564\n"
     ]
    },
    {
     "name": "stderr",
     "output_type": "stream",
     "text": [
      "Epoch 133, lr 0.00048: 100% 21/21 [00:11<00:00,  1.90it/s, 0 cls=0.17189, 1 cls=0.25384, 2 cls=0.35399, bce=0.07479, dice=0.84603, loss=-0.79713]\n"
     ]
    },
    {
     "name": "stdout",
     "output_type": "stream",
     "text": [
      "loss: -0.85665 | bce: 0.03826 | dice: 0.86819 | 0 cls: 0.11434 | 1 cls: 0.17163 | 2 cls: 0.29525\n"
     ]
    },
    {
     "name": "stderr",
     "output_type": "stream",
     "text": [
      "Epoch 134, lr 0.00048: 100% 21/21 [00:11<00:00,  1.90it/s, 0 cls=0.16910, 1 cls=0.25005, 2 cls=0.34904, bce=0.07274, dice=0.84741, loss=-0.80028]\n"
     ]
    },
    {
     "name": "stdout",
     "output_type": "stream",
     "text": [
      "loss: -0.85711 | bce: 0.03745 | dice: 0.86776 | 0 cls: 0.11465 | 1 cls: 0.16871 | 2 cls: 0.29692\n"
     ]
    },
    {
     "name": "stderr",
     "output_type": "stream",
     "text": [
      "Epoch 135, lr 0.00048: 100% 21/21 [00:11<00:00,  1.91it/s, 0 cls=0.16896, 1 cls=0.24864, 2 cls=0.34824, bce=0.07316, dice=0.84830, loss=-0.80061]\n"
     ]
    },
    {
     "name": "stdout",
     "output_type": "stream",
     "text": [
      "loss: -0.85700 | bce: 0.03696 | dice: 0.86748 | 0 cls: 0.11500 | 1 cls: 0.16887 | 2 cls: 0.29520\n"
     ]
    },
    {
     "name": "stderr",
     "output_type": "stream",
     "text": [
      "Epoch 136, lr 0.00048: 100% 21/21 [00:10<00:00,  1.94it/s, 0 cls=0.17351, 1 cls=0.25652, 2 cls=0.35413, bce=0.07437, dice=0.84454, loss=-0.79559]\n"
     ]
    },
    {
     "name": "stdout",
     "output_type": "stream",
     "text": [
      "loss: -0.85604 | bce: 0.04099 | dice: 0.87030 | 0 cls: 0.11454 | 1 cls: 0.17202 | 2 cls: 0.29440\n"
     ]
    },
    {
     "name": "stderr",
     "output_type": "stream",
     "text": [
      "Epoch 137, lr 0.00048: 100% 21/21 [00:11<00:00,  1.87it/s, 0 cls=0.17321, 1 cls=0.25630, 2 cls=0.35455, bce=0.07480, dice=0.84509, loss=-0.79583]\n"
     ]
    },
    {
     "name": "stdout",
     "output_type": "stream",
     "text": [
      "loss: -0.85702 | bce: 0.03699 | dice: 0.86744 | 0 cls: 0.11556 | 1 cls: 0.16750 | 2 cls: 0.29556\n"
     ]
    },
    {
     "name": "stderr",
     "output_type": "stream",
     "text": [
      "Epoch 138, lr 0.00048:  67% 14/21 [00:07<00:03,  1.84it/s, 0 cls=0.16340, 1 cls=0.24339, 2 cls=0.34100, bce=0.07030, dice=0.85070, loss=-0.80590]"
     ]
    }
   ],
   "source": [
    "train_args = {\n",
    "    'model_name': 'TernausNet34_with_scale_05_vgg11_800',\n",
    "    'network': 'UNet11',\n",
    "    'nb_epoch': 800,\n",
    "    'loss': 'BCEDiceLossMultiWithoutLog',\n",
    "    'lr_args': {\n",
    "        'adjust_init_lr': 0.0008,\n",
    "        'adjust_lr_decay_factor': 0.6,\n",
    "        'cycle_epochs_decay': 2,\n",
    "        'cycle_init_lr': 0.002,\n",
    "        'cycle_lr_decay_factor': 0.3,\n",
    "        'global_cycle_lr_decay_factor': 0.9,\n",
    "        'global_num_epochs_per_cycle': 100,\n",
    "        'num_epochs_per_cycle': 5,\n",
    "        'num_epochs_per_decay': 100\n",
    "    }, \n",
    "    'model_dir': 'models', \n",
    "    'log_dir': 'logs', \n",
    "    'network_args': {\n",
    "        'num_classes': 3, \n",
    "        'num_filters': 32, \n",
    "        'pretrained': True\n",
    "    }, \n",
    "    'loss_args': {\n",
    "        'weights': [0.6, 0.3, 0.1],\n",
    "        'num_classes': 3\n",
    "    },       \n",
    "    'optimizer': 'Adam'\n",
    "}\n",
    "\n",
    "train(\n",
    "    train_args, train_ids + val_ids, val_ids[:1], \n",
    "    \"../output_data/with_scale_05/scaled_images/{}.png\", \"../output_data/with_scale_05/scaled_masks/{}.png\", \n",
    "    32, 1, train_transforms, val_transforms, period=64\n",
    ")"
   ]
  },
  {
   "cell_type": "code",
   "execution_count": null,
   "metadata": {},
   "outputs": [],
   "source": [
    "train_args = {\n",
    "    'model_name': 'TernausNet34_with_scale_05_vgg11_centers_800',\n",
    "    'network': 'UNet11',\n",
    "    'nb_epoch': 800,\n",
    "    'loss': 'BCEDiceLossMultiWithoutLog',\n",
    "    'lr_args': {\n",
    "        'adjust_init_lr': 0.0008,\n",
    "        'adjust_lr_decay_factor': 0.6,\n",
    "        'cycle_epochs_decay': 2,\n",
    "        'cycle_init_lr': 0.002,\n",
    "        'cycle_lr_decay_factor': 0.3,\n",
    "        'global_cycle_lr_decay_factor': 0.9,\n",
    "        'global_num_epochs_per_cycle': 100,\n",
    "        'num_epochs_per_cycle': 5,\n",
    "        'num_epochs_per_decay': 100\n",
    "    }, \n",
    "    'model_dir': 'models', \n",
    "    'log_dir': 'logs', \n",
    "    'network_args': {\n",
    "        'num_classes': 3, \n",
    "        'num_filters': 32, \n",
    "        'pretrained': True\n",
    "    }, \n",
    "    'loss_args': {\n",
    "        'weights': [0.6, 0.3, 0.1],\n",
    "        'num_classes': 3\n",
    "    },       \n",
    "    'optimizer': 'Adam'\n",
    "}\n",
    "\n",
    "train(\n",
    "    train_args, train_ids + val_ids, val_ids[:1], \n",
    "    \"../output_data/with_scale_05_03_only_centers/scaled_images/{}.png\", \"../output_data/with_scale_05_03_only_centers/scaled_masks/{}.png\", \n",
    "    32, 1, train_transforms, val_transforms, period=64\n",
    ")"
   ]
  },
  {
   "cell_type": "code",
   "execution_count": null,
   "metadata": {},
   "outputs": [],
   "source": []
  }
 ],
 "metadata": {
  "kernelspec": {
   "display_name": "Environment (conda_pytorch_p36)",
   "language": "python",
   "name": "conda_pytorch_p36"
  },
  "language_info": {
   "codemirror_mode": {
    "name": "ipython",
    "version": 3
   },
   "file_extension": ".py",
   "mimetype": "text/x-python",
   "name": "python",
   "nbconvert_exporter": "python",
   "pygments_lexer": "ipython3",
   "version": "3.6.4"
  }
 },
 "nbformat": 4,
 "nbformat_minor": 2
}
