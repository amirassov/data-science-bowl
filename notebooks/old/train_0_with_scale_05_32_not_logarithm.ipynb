{
 "cells": [
  {
   "cell_type": "code",
   "execution_count": 1,
   "metadata": {},
   "outputs": [
    {
     "data": {
      "text/html": [
       "<style>.container { width:95% !important; }</style>"
      ],
      "text/plain": [
       "<IPython.core.display.HTML object>"
      ]
     },
     "metadata": {},
     "output_type": "display_data"
    }
   ],
   "source": [
    "from IPython.core.display import display, HTML\n",
    "display(HTML(\"<style>.container { width:95% !important; }</style>\"))"
   ]
  },
  {
   "cell_type": "code",
   "execution_count": 7,
   "metadata": {},
   "outputs": [],
   "source": [
    "import warnings\n",
    "warnings.simplefilter(\"ignore\", UserWarning)\n",
    "warnings.simplefilter(\"ignore\", FutureWarning)\n",
    "warnings.simplefilter(\"ignore\", RuntimeWarning)\n",
    "\n",
    "import sys\n",
    "sys.path.append('../../dstorch/')\n",
    "\n",
    "import matplotlib.pyplot as plt\n",
    "%matplotlib inline\n",
    "%reload_ext autoreload\n",
    "%autoreload 2"
   ]
  },
  {
   "cell_type": "code",
   "execution_count": 8,
   "metadata": {},
   "outputs": [],
   "source": [
    "import os\n",
    "import pandas as pd\n",
    "from dstorch import transforms\n",
    "from dstorch.train import train\n",
    "import torch.backends.cudnn as cudnn"
   ]
  },
  {
   "cell_type": "code",
   "execution_count": 9,
   "metadata": {},
   "outputs": [],
   "source": [
    "ids = list([x.split('.')[0] for x in list(next(os.walk(\"../output_data/with_scale_05/images/\"))[2])])\n",
    "classes = pd.read_csv(\"../data/classes.csv\")\n",
    "val_ids = list(classes.loc[classes['type'] == 'val', 'id'])\n",
    "train_ids = list(set(ids) - set(val_ids))"
   ]
  },
  {
   "cell_type": "code",
   "execution_count": 10,
   "metadata": {},
   "outputs": [],
   "source": [
    "train_transforms = transforms.DualCompose(\n",
    "    [\n",
    "        transforms.RandomCrop((256, 256)),\n",
    "        transforms.VerticalFlip(),\n",
    "        transforms.HorizontalFlip(),\n",
    "        transforms.Transpose(),\n",
    "        transforms.ShiftScaleRotate(scale_limit=0.3, shift_limit=0.2),\n",
    "        transforms.Distort1(0.4, 0.4),\n",
    "        transforms.ImageOnly(transforms.RandomBrightness(0.5)),\n",
    "        transforms.ImageOnly(transforms.RandomContrast(0.5)),\n",
    "        transforms.ImageOnly(transforms.RandomSaturation(0.5)),\n",
    "        transforms.ImageOnly(transforms.Normalize(\n",
    "            mean=[0.485, 0.456, 0.406],\n",
    "            std=[0.229, 0.224, 0.225]\n",
    "        ))\n",
    "    ]\n",
    ")\n",
    "\n",
    "val_transforms = transforms.DualCompose(\n",
    "    [\n",
    "        transforms.ImageOnly(transforms.Normalize(\n",
    "            mean=[0.485, 0.456, 0.406],\n",
    "            std=[0.229, 0.224, 0.225]\n",
    "        ))\n",
    "    ]\n",
    ")"
   ]
  },
  {
   "cell_type": "code",
   "execution_count": 11,
   "metadata": {},
   "outputs": [],
   "source": [
    "cudnn.benchmark = True"
   ]
  },
  {
   "cell_type": "code",
   "execution_count": 12,
   "metadata": {
    "scrolled": true
   },
   "outputs": [
    {
     "name": "stderr",
     "output_type": "stream",
     "text": [
      "Epoch 0, lr 0.0003: 100% 21/21 [00:16<00:00,  1.25it/s, 0 cls=0.38232, 1 cls=0.25739, 2 cls=0.27598, bce=0.47895, dice=0.18800, loss=0.31108]\n"
     ]
    },
    {
     "name": "stdout",
     "output_type": "stream",
     "text": [
      "loss: 0.07360 | bce: 0.19905 | dice: 0.13442 | 0 cls: 0.09452 | 1 cls: 0.05809 | 2 cls: 0.07524\n"
     ]
    },
    {
     "name": "stderr",
     "output_type": "stream",
     "text": [
      "Epoch 1, lr 0.0003: 100% 21/21 [00:11<00:00,  1.88it/s, 0 cls=-0.18896, 1 cls=-0.16552, 2 cls=-0.08482, bce=0.19217, dice=0.35377, loss=-0.15876]\n"
     ]
    },
    {
     "name": "stdout",
     "output_type": "stream",
     "text": [
      "loss: -0.39990 | bce: 0.08661 | dice: 0.47449 | 0 cls: -0.46730 | 1 cls: -0.42025 | 2 cls: -0.24468\n"
     ]
    },
    {
     "name": "stderr",
     "output_type": "stream",
     "text": [
      "Epoch 2, lr 0.0003: 100% 21/21 [00:10<00:00,  1.91it/s, 0 cls=-0.42641, 1 cls=-0.35990, 2 cls=-0.23098, bce=0.14869, dice=0.50296, loss=-0.36072]\n"
     ]
    },
    {
     "name": "stdout",
     "output_type": "stream",
     "text": [
      "loss: -0.61520 | bce: 0.08020 | dice: 0.68873 | 0 cls: -0.73327 | 1 cls: -0.62756 | 2 cls: -0.39494\n"
     ]
    },
    {
     "name": "stderr",
     "output_type": "stream",
     "text": [
      "Epoch 3, lr 0.0003: 100% 21/21 [00:10<00:00,  1.91it/s, 0 cls=-0.63463, 1 cls=-0.50757, 2 cls=-0.31388, bce=0.17219, dice=0.67236, loss=-0.51965]\n"
     ]
    },
    {
     "name": "stdout",
     "output_type": "stream",
     "text": [
      "loss: -0.67640 | bce: 0.07356 | dice: 0.72385 | 0 cls: -0.78864 | 1 cls: -0.69971 | 2 cls: -0.42479\n"
     ]
    },
    {
     "name": "stderr",
     "output_type": "stream",
     "text": [
      "Epoch 4, lr 0.0003: 100% 21/21 [00:10<00:00,  1.92it/s, 0 cls=-0.67844, 1 cls=-0.55176, 2 cls=-0.40333, bce=0.13884, dice=0.70211, loss=-0.57275]\n"
     ]
    },
    {
     "name": "stdout",
     "output_type": "stream",
     "text": [
      "loss: -0.70695 | bce: 0.06932 | dice: 0.76009 | 0 cls: -0.78750 | 1 cls: -0.73206 | 2 cls: -0.51314\n"
     ]
    },
    {
     "name": "stderr",
     "output_type": "stream",
     "text": [
      "Epoch 5, lr 0.0003: 100% 21/21 [00:11<00:00,  1.90it/s, 0 cls=-0.69783, 1 cls=-0.59104, 2 cls=-0.45826, bce=0.12750, dice=0.72996, loss=-0.60720]\n"
     ]
    },
    {
     "name": "stdout",
     "output_type": "stream",
     "text": [
      "loss: -0.72262 | bce: 0.06124 | dice: 0.77470 | 0 cls: -0.79971 | 1 cls: -0.74089 | 2 cls: -0.55763\n"
     ]
    },
    {
     "name": "stderr",
     "output_type": "stream",
     "text": [
      "Epoch 6, lr 0.0003: 100% 21/21 [00:11<00:00,  1.90it/s, 0 cls=-0.69164, 1 cls=-0.60621, 2 cls=-0.45693, bce=0.12918, dice=0.73191, loss=-0.61053]\n"
     ]
    },
    {
     "name": "stdout",
     "output_type": "stream",
     "text": [
      "loss: -0.72878 | bce: 0.06322 | dice: 0.77980 | 0 cls: -0.80294 | 1 cls: -0.74603 | 2 cls: -0.56403\n"
     ]
    },
    {
     "name": "stderr",
     "output_type": "stream",
     "text": [
      "Epoch 7, lr 0.0003: 100% 21/21 [00:10<00:00,  1.91it/s, 0 cls=-0.71515, 1 cls=-0.62172, 2 cls=-0.48895, bce=0.11913, dice=0.74654, loss=-0.63253]\n"
     ]
    },
    {
     "name": "stdout",
     "output_type": "stream",
     "text": [
      "loss: -0.73801 | bce: 0.06102 | dice: 0.78755 | 0 cls: -0.81150 | 1 cls: -0.75312 | 2 cls: -0.57812\n"
     ]
    },
    {
     "name": "stderr",
     "output_type": "stream",
     "text": [
      "Epoch 8, lr 0.0003: 100% 21/21 [00:11<00:00,  1.91it/s, 0 cls=-0.72220, 1 cls=-0.62867, 2 cls=-0.50439, bce=0.11814, dice=0.75475, loss=-0.64122]\n"
     ]
    },
    {
     "name": "stdout",
     "output_type": "stream",
     "text": [
      "loss: -0.75198 | bce: 0.06309 | dice: 0.80236 | 0 cls: -0.81690 | 1 cls: -0.77664 | 2 cls: -0.59635\n"
     ]
    },
    {
     "name": "stderr",
     "output_type": "stream",
     "text": [
      "Epoch 9, lr 0.0003: 100% 21/21 [00:10<00:00,  1.91it/s, 0 cls=-0.74197, 1 cls=-0.64864, 2 cls=-0.52820, bce=0.10984, dice=0.76782, loss=-0.66188]\n"
     ]
    },
    {
     "name": "stdout",
     "output_type": "stream",
     "text": [
      "loss: -0.78245 | bce: 0.04790 | dice: 0.82246 | 0 cls: -0.84612 | 1 cls: -0.79756 | 2 cls: -0.64780\n"
     ]
    },
    {
     "name": "stderr",
     "output_type": "stream",
     "text": [
      "Epoch 10, lr 0.0003: 100% 21/21 [00:10<00:00,  1.92it/s, 0 cls=-0.74853, 1 cls=-0.65733, 2 cls=-0.53836, bce=0.10664, dice=0.77262, loss=-0.67002]\n"
     ]
    },
    {
     "name": "stdout",
     "output_type": "stream",
     "text": [
      "loss: -0.79151 | bce: 0.04808 | dice: 0.83350 | 0 cls: -0.85563 | 1 cls: -0.80334 | 2 cls: -0.66508\n"
     ]
    },
    {
     "name": "stderr",
     "output_type": "stream",
     "text": [
      "Epoch 11, lr 0.0003: 100% 21/21 [00:11<00:00,  1.86it/s, 0 cls=-0.75776, 1 cls=-0.66479, 2 cls=-0.55537, bce=0.10365, dice=0.78096, loss=-0.68009]\n"
     ]
    },
    {
     "name": "stdout",
     "output_type": "stream",
     "text": [
      "loss: -0.78825 | bce: 0.04657 | dice: 0.82897 | 0 cls: -0.85052 | 1 cls: -0.80173 | 2 cls: -0.66131\n"
     ]
    },
    {
     "name": "stderr",
     "output_type": "stream",
     "text": [
      "Epoch 12, lr 0.0003: 100% 21/21 [00:11<00:00,  1.86it/s, 0 cls=-0.75535, 1 cls=-0.66367, 2 cls=-0.54823, bce=0.10401, dice=0.77748, loss=-0.67725]\n"
     ]
    },
    {
     "name": "stdout",
     "output_type": "stream",
     "text": [
      "loss: -0.78882 | bce: 0.05156 | dice: 0.83442 | 0 cls: -0.86582 | 1 cls: -0.78724 | 2 cls: -0.65868\n"
     ]
    },
    {
     "name": "stderr",
     "output_type": "stream",
     "text": [
      "Epoch 13, lr 0.0003: 100% 21/21 [00:11<00:00,  1.88it/s, 0 cls=-0.75810, 1 cls=-0.66639, 2 cls=-0.54978, bce=0.10783, dice=0.78400, loss=-0.67975]\n"
     ]
    },
    {
     "name": "stdout",
     "output_type": "stream",
     "text": [
      "loss: -0.79824 | bce: 0.04732 | dice: 0.83956 | 0 cls: -0.86462 | 1 cls: -0.80451 | 2 cls: -0.67436\n"
     ]
    },
    {
     "name": "stderr",
     "output_type": "stream",
     "text": [
      "Epoch 14, lr 0.0003: 100% 21/21 [00:10<00:00,  1.91it/s, 0 cls=-0.76668, 1 cls=-0.68124, 2 cls=-0.56729, bce=0.09920, dice=0.78758, loss=-0.69263]\n"
     ]
    },
    {
     "name": "stdout",
     "output_type": "stream",
     "text": [
      "loss: -0.81130 | bce: 0.04309 | dice: 0.84892 | 0 cls: -0.87089 | 1 cls: -0.82110 | 2 cls: -0.69362\n"
     ]
    },
    {
     "name": "stderr",
     "output_type": "stream",
     "text": [
      "Epoch 15, lr 0.0003: 100% 21/21 [00:11<00:00,  1.89it/s, 0 cls=-0.76652, 1 cls=-0.67864, 2 cls=-0.56944, bce=0.10021, dice=0.78924, loss=-0.69195]\n"
     ]
    },
    {
     "name": "stdout",
     "output_type": "stream",
     "text": [
      "loss: -0.80497 | bce: 0.04726 | dice: 0.85015 | 0 cls: -0.87172 | 1 cls: -0.80758 | 2 cls: -0.69004\n"
     ]
    },
    {
     "name": "stderr",
     "output_type": "stream",
     "text": [
      "Epoch 16, lr 0.0003: 100% 21/21 [00:11<00:00,  1.89it/s, 0 cls=-0.77861, 1 cls=-0.68642, 2 cls=-0.58037, bce=0.09731, dice=0.79648, loss=-0.70209]\n"
     ]
    },
    {
     "name": "stdout",
     "output_type": "stream",
     "text": [
      "loss: -0.78352 | bce: 0.05280 | dice: 0.83385 | 0 cls: -0.86472 | 1 cls: -0.77223 | 2 cls: -0.66135\n"
     ]
    },
    {
     "name": "stderr",
     "output_type": "stream",
     "text": [
      "Epoch 17, lr 0.0003: 100% 21/21 [00:10<00:00,  1.92it/s, 0 cls=-0.77438, 1 cls=-0.69252, 2 cls=-0.58004, bce=0.09652, dice=0.79526, loss=-0.70277]\n"
     ]
    },
    {
     "name": "stdout",
     "output_type": "stream",
     "text": [
      "loss: -0.81202 | bce: 0.04279 | dice: 0.85044 | 0 cls: -0.87407 | 1 cls: -0.81731 | 2 cls: -0.69398\n"
     ]
    },
    {
     "name": "stderr",
     "output_type": "stream",
     "text": [
      "Epoch 18, lr 0.0003: 100% 21/21 [00:11<00:00,  1.90it/s, 0 cls=-0.78653, 1 cls=-0.70321, 2 cls=-0.59553, bce=0.09298, dice=0.80427, loss=-0.71500]\n"
     ]
    },
    {
     "name": "stdout",
     "output_type": "stream",
     "text": [
      "loss: -0.81448 | bce: 0.04161 | dice: 0.85324 | 0 cls: -0.87670 | 1 cls: -0.81912 | 2 cls: -0.70038\n"
     ]
    },
    {
     "name": "stderr",
     "output_type": "stream",
     "text": [
      "Epoch 19, lr 0.0003: 100% 21/21 [00:11<00:00,  1.90it/s, 0 cls=-0.78314, 1 cls=-0.69545, 2 cls=-0.59300, bce=0.09539, dice=0.80290, loss=-0.71003]\n"
     ]
    },
    {
     "name": "stdout",
     "output_type": "stream",
     "text": [
      "loss: -0.81119 | bce: 0.04173 | dice: 0.84629 | 0 cls: -0.86969 | 1 cls: -0.82129 | 2 cls: -0.68955\n"
     ]
    },
    {
     "name": "stderr",
     "output_type": "stream",
     "text": [
      "Epoch 20, lr 0.0003: 100% 21/21 [00:11<00:00,  1.89it/s, 0 cls=-0.77375, 1 cls=-0.69595, 2 cls=-0.58169, bce=0.09759, dice=0.79755, loss=-0.70422]\n"
     ]
    },
    {
     "name": "stdout",
     "output_type": "stream",
     "text": [
      "loss: -0.80038 | bce: 0.04864 | dice: 0.84451 | 0 cls: -0.87648 | 1 cls: -0.79149 | 2 cls: -0.68109\n"
     ]
    },
    {
     "name": "stderr",
     "output_type": "stream",
     "text": [
      "Epoch 21, lr 0.0003: 100% 21/21 [00:11<00:00,  1.86it/s, 0 cls=-0.78350, 1 cls=-0.70061, 2 cls=-0.59214, bce=0.09313, dice=0.80126, loss=-0.71207]\n"
     ]
    },
    {
     "name": "stdout",
     "output_type": "stream",
     "text": [
      "loss: -0.80998 | bce: 0.04398 | dice: 0.84830 | 0 cls: -0.87188 | 1 cls: -0.81652 | 2 cls: -0.68997\n"
     ]
    },
    {
     "name": "stderr",
     "output_type": "stream",
     "text": [
      "Epoch 22, lr 0.0003: 100% 21/21 [00:11<00:00,  1.89it/s, 0 cls=-0.77575, 1 cls=-0.69960, 2 cls=-0.58973, bce=0.09603, dice=0.80015, loss=-0.70808]\n"
     ]
    },
    {
     "name": "stdout",
     "output_type": "stream",
     "text": [
      "loss: -0.80801 | bce: 0.04437 | dice: 0.84561 | 0 cls: -0.86960 | 1 cls: -0.81343 | 2 cls: -0.69023\n"
     ]
    },
    {
     "name": "stderr",
     "output_type": "stream",
     "text": [
      "Epoch 23, lr 0.0003: 100% 21/21 [00:11<00:00,  1.89it/s, 0 cls=-0.77119, 1 cls=-0.69864, 2 cls=-0.58878, bce=0.09671, dice=0.79859, loss=-0.70569]\n"
     ]
    },
    {
     "name": "stdout",
     "output_type": "stream",
     "text": [
      "loss: -0.81465 | bce: 0.04315 | dice: 0.85149 | 0 cls: -0.87471 | 1 cls: -0.81942 | 2 cls: -0.70060\n"
     ]
    },
    {
     "name": "stderr",
     "output_type": "stream",
     "text": [
      "Epoch 24, lr 0.0003: 100% 21/21 [00:11<00:00,  1.86it/s, 0 cls=-0.77885, 1 cls=-0.70089, 2 cls=-0.59124, bce=0.09605, dice=0.80218, loss=-0.71014]\n"
     ]
    },
    {
     "name": "stdout",
     "output_type": "stream",
     "text": [
      "loss: -0.81461 | bce: 0.04286 | dice: 0.85201 | 0 cls: -0.87467 | 1 cls: -0.81875 | 2 cls: -0.70144\n"
     ]
    },
    {
     "name": "stderr",
     "output_type": "stream",
     "text": [
      "Epoch 25, lr 0.0003: 100% 21/21 [00:11<00:00,  1.88it/s, 0 cls=-0.79434, 1 cls=-0.71506, 2 cls=-0.61081, bce=0.08953, dice=0.81171, loss=-0.72592]\n"
     ]
    },
    {
     "name": "stdout",
     "output_type": "stream",
     "text": [
      "loss: -0.82324 | bce: 0.04220 | dice: 0.85995 | 0 cls: -0.87841 | 1 cls: -0.83094 | 2 cls: -0.71152\n"
     ]
    },
    {
     "name": "stderr",
     "output_type": "stream",
     "text": [
      "Epoch 26, lr 0.0003: 100% 21/21 [00:11<00:00,  1.89it/s, 0 cls=-0.78822, 1 cls=-0.70799, 2 cls=-0.60587, bce=0.09124, dice=0.80784, loss=-0.71966]\n"
     ]
    },
    {
     "name": "stdout",
     "output_type": "stream",
     "text": [
      "loss: -0.81852 | bce: 0.04320 | dice: 0.85539 | 0 cls: -0.87371 | 1 cls: -0.82812 | 2 cls: -0.70375\n"
     ]
    },
    {
     "name": "stderr",
     "output_type": "stream",
     "text": [
      "Epoch 27, lr 0.0003: 100% 21/21 [00:10<00:00,  1.91it/s, 0 cls=-0.78800, 1 cls=-0.70808, 2 cls=-0.60357, bce=0.09091, dice=0.80647, loss=-0.71914]\n"
     ]
    },
    {
     "name": "stdout",
     "output_type": "stream",
     "text": [
      "loss: -0.79902 | bce: 0.05375 | dice: 0.84672 | 0 cls: -0.85328 | 1 cls: -0.80993 | 2 cls: -0.68507\n"
     ]
    },
    {
     "name": "stderr",
     "output_type": "stream",
     "text": [
      "Epoch 28, lr 0.0003: 100% 21/21 [00:10<00:00,  1.91it/s, 0 cls=-0.78072, 1 cls=-0.71058, 2 cls=-0.60095, bce=0.09459, dice=0.80697, loss=-0.71671]\n"
     ]
    },
    {
     "name": "stdout",
     "output_type": "stream",
     "text": [
      "loss: -0.81478 | bce: 0.04332 | dice: 0.85167 | 0 cls: -0.87734 | 1 cls: -0.81668 | 2 cls: -0.69936\n"
     ]
    },
    {
     "name": "stderr",
     "output_type": "stream",
     "text": [
      "Epoch 29, lr 0.0003: 100% 21/21 [00:10<00:00,  1.91it/s, 0 cls=-0.79440, 1 cls=-0.71467, 2 cls=-0.61520, bce=0.08952, dice=0.81335, loss=-0.72667]\n"
     ]
    },
    {
     "name": "stdout",
     "output_type": "stream",
     "text": [
      "loss: -0.82305 | bce: 0.04384 | dice: 0.86245 | 0 cls: -0.88059 | 1 cls: -0.82773 | 2 cls: -0.71278\n"
     ]
    },
    {
     "name": "stderr",
     "output_type": "stream",
     "text": [
      "Epoch 30, lr 0.0003: 100% 21/21 [00:10<00:00,  1.93it/s, 0 cls=-0.79323, 1 cls=-0.71693, 2 cls=-0.61451, bce=0.08995, dice=0.81357, loss=-0.72697]\n"
     ]
    },
    {
     "name": "stdout",
     "output_type": "stream",
     "text": [
      "loss: -0.80924 | bce: 0.04725 | dice: 0.84846 | 0 cls: -0.85870 | 1 cls: -0.82385 | 2 cls: -0.69186\n"
     ]
    },
    {
     "name": "stderr",
     "output_type": "stream",
     "text": [
      "Epoch 31, lr 0.0003: 100% 21/21 [00:11<00:00,  1.88it/s, 0 cls=-0.79353, 1 cls=-0.71319, 2 cls=-0.60872, bce=0.08982, dice=0.81078, loss=-0.72443]\n"
     ]
    },
    {
     "name": "stdout",
     "output_type": "stream",
     "text": [
      "loss: -0.81047 | bce: 0.04295 | dice: 0.84714 | 0 cls: -0.86706 | 1 cls: -0.81850 | 2 cls: -0.69236\n"
     ]
    },
    {
     "name": "stderr",
     "output_type": "stream",
     "text": [
      "Epoch 32, lr 0.0003: 100% 21/21 [00:11<00:00,  1.89it/s, 0 cls=-0.78223, 1 cls=-0.70769, 2 cls=-0.60495, bce=0.09404, dice=0.80763, loss=-0.71696]\n"
     ]
    },
    {
     "name": "stdout",
     "output_type": "stream",
     "text": [
      "loss: -0.81753 | bce: 0.04472 | dice: 0.85588 | 0 cls: -0.87305 | 1 cls: -0.82684 | 2 cls: -0.70165\n"
     ]
    },
    {
     "name": "stderr",
     "output_type": "stream",
     "text": [
      "Epoch 33, lr 0.0003: 100% 21/21 [00:11<00:00,  1.88it/s, 0 cls=-0.79838, 1 cls=-0.72507, 2 cls=-0.61822, bce=0.08751, dice=0.81625, loss=-0.73303]\n"
     ]
    },
    {
     "name": "stdout",
     "output_type": "stream",
     "text": [
      "loss: -0.81408 | bce: 0.04856 | dice: 0.85423 | 0 cls: -0.86333 | 1 cls: -0.83043 | 2 cls: -0.69782\n"
     ]
    },
    {
     "name": "stderr",
     "output_type": "stream",
     "text": [
      "Epoch 34, lr 0.0003: 100% 21/21 [00:11<00:00,  1.90it/s, 0 cls=-0.78990, 1 cls=-0.71425, 2 cls=-0.61041, bce=0.09109, dice=0.81112, loss=-0.72375]\n"
     ]
    },
    {
     "name": "stdout",
     "output_type": "stream",
     "text": [
      "loss: -0.82042 | bce: 0.04009 | dice: 0.85513 | 0 cls: -0.87597 | 1 cls: -0.82947 | 2 cls: -0.70559\n"
     ]
    },
    {
     "name": "stderr",
     "output_type": "stream",
     "text": [
      "Epoch 35, lr 0.0003: 100% 21/21 [00:11<00:00,  1.90it/s, 0 cls=-0.79476, 1 cls=-0.72077, 2 cls=-0.61496, bce=0.08949, dice=0.81474, loss=-0.72920]\n"
     ]
    },
    {
     "name": "stdout",
     "output_type": "stream",
     "text": [
      "loss: -0.81707 | bce: 0.04228 | dice: 0.85263 | 0 cls: -0.87494 | 1 cls: -0.82169 | 2 cls: -0.70233\n"
     ]
    },
    {
     "name": "stderr",
     "output_type": "stream",
     "text": [
      "Epoch 36, lr 0.0003: 100% 21/21 [00:11<00:00,  1.88it/s, 0 cls=-0.79773, 1 cls=-0.72187, 2 cls=-0.62112, bce=0.08721, dice=0.81595, loss=-0.73206]\n"
     ]
    },
    {
     "name": "stdout",
     "output_type": "stream",
     "text": [
      "loss: -0.81201 | bce: 0.04393 | dice: 0.85016 | 0 cls: -0.87416 | 1 cls: -0.81421 | 2 cls: -0.69497\n"
     ]
    },
    {
     "name": "stderr",
     "output_type": "stream",
     "text": [
      "Epoch 37, lr 0.0003: 100% 21/21 [00:11<00:00,  1.90it/s, 0 cls=-0.79996, 1 cls=-0.72224, 2 cls=-0.61933, bce=0.08736, dice=0.81664, loss=-0.73275]\n"
     ]
    },
    {
     "name": "stdout",
     "output_type": "stream",
     "text": [
      "loss: -0.81970 | bce: 0.04130 | dice: 0.85504 | 0 cls: -0.87221 | 1 cls: -0.82980 | 2 cls: -0.71039\n"
     ]
    },
    {
     "name": "stderr",
     "output_type": "stream",
     "text": [
      "Epoch 38, lr 0.0003: 100% 21/21 [00:10<00:00,  1.93it/s, 0 cls=-0.80390, 1 cls=-0.72960, 2 cls=-0.62947, bce=0.08489, dice=0.82059, loss=-0.73929]\n"
     ]
    },
    {
     "name": "stdout",
     "output_type": "stream",
     "text": [
      "loss: -0.82524 | bce: 0.04031 | dice: 0.85942 | 0 cls: -0.87968 | 1 cls: -0.83196 | 2 cls: -0.71419\n"
     ]
    },
    {
     "name": "stderr",
     "output_type": "stream",
     "text": [
      "Epoch 39, lr 0.0003: 100% 21/21 [00:11<00:00,  1.88it/s, 0 cls=-0.79975, 1 cls=-0.72146, 2 cls=-0.62146, bce=0.08735, dice=0.81698, loss=-0.73278]\n"
     ]
    },
    {
     "name": "stdout",
     "output_type": "stream",
     "text": [
      "loss: -0.82686 | bce: 0.04276 | dice: 0.86297 | 0 cls: -0.88110 | 1 cls: -0.83286 | 2 cls: -0.71547\n"
     ]
    },
    {
     "name": "stderr",
     "output_type": "stream",
     "text": [
      "Epoch 40, lr 0.0003: 100% 21/21 [00:11<00:00,  1.90it/s, 0 cls=-0.79306, 1 cls=-0.71247, 2 cls=-0.61393, bce=0.08944, dice=0.81163, loss=-0.72500]\n"
     ]
    },
    {
     "name": "stdout",
     "output_type": "stream",
     "text": [
      "loss: -0.82237 | bce: 0.04461 | dice: 0.85845 | 0 cls: -0.87058 | 1 cls: -0.83554 | 2 cls: -0.70835\n"
     ]
    },
    {
     "name": "stderr",
     "output_type": "stream",
     "text": [
      "Epoch 41, lr 0.0003: 100% 21/21 [00:11<00:00,  1.89it/s, 0 cls=-0.80164, 1 cls=-0.72684, 2 cls=-0.62607, bce=0.08585, dice=0.81909, loss=-0.73660]\n"
     ]
    },
    {
     "name": "stdout",
     "output_type": "stream",
     "text": [
      "loss: -0.82430 | bce: 0.04024 | dice: 0.85766 | 0 cls: -0.87913 | 1 cls: -0.83057 | 2 cls: -0.71106\n"
     ]
    },
    {
     "name": "stderr",
     "output_type": "stream",
     "text": [
      "Epoch 42, lr 0.0003: 100% 21/21 [00:11<00:00,  1.90it/s, 0 cls=-0.80872, 1 cls=-0.73285, 2 cls=-0.63416, bce=0.08454, dice=0.82466, loss=-0.74346]\n"
     ]
    },
    {
     "name": "stdout",
     "output_type": "stream",
     "text": [
      "loss: -0.82252 | bce: 0.04312 | dice: 0.86005 | 0 cls: -0.88129 | 1 cls: -0.82473 | 2 cls: -0.71195\n"
     ]
    },
    {
     "name": "stderr",
     "output_type": "stream",
     "text": [
      "Epoch 43, lr 0.0003: 100% 21/21 [00:11<00:00,  1.87it/s, 0 cls=-0.80131, 1 cls=-0.72773, 2 cls=-0.62587, bce=0.08595, dice=0.81900, loss=-0.73679]\n"
     ]
    },
    {
     "name": "stdout",
     "output_type": "stream",
     "text": [
      "loss: -0.81639 | bce: 0.04107 | dice: 0.84757 | 0 cls: -0.86611 | 1 cls: -0.83056 | 2 cls: -0.69583\n"
     ]
    },
    {
     "name": "stderr",
     "output_type": "stream",
     "text": [
      "Epoch 44, lr 0.0003: 100% 21/21 [00:11<00:00,  1.89it/s, 0 cls=-0.80799, 1 cls=-0.72922, 2 cls=-0.63263, bce=0.08460, dice=0.82312, loss=-0.74141]\n"
     ]
    },
    {
     "name": "stdout",
     "output_type": "stream",
     "text": [
      "loss: -0.82230 | bce: 0.04233 | dice: 0.85658 | 0 cls: -0.87215 | 1 cls: -0.83366 | 2 cls: -0.70802\n"
     ]
    },
    {
     "name": "stderr",
     "output_type": "stream",
     "text": [
      "Epoch 45, lr 0.0003: 100% 21/21 [00:10<00:00,  1.91it/s, 0 cls=-0.80407, 1 cls=-0.72742, 2 cls=-0.62819, bce=0.08555, dice=0.82073, loss=-0.73824]\n"
     ]
    },
    {
     "name": "stdout",
     "output_type": "stream",
     "text": [
      "loss: -0.81852 | bce: 0.04557 | dice: 0.85799 | 0 cls: -0.87429 | 1 cls: -0.82322 | 2 cls: -0.70837\n"
     ]
    },
    {
     "name": "stderr",
     "output_type": "stream",
     "text": [
      "Epoch 46, lr 0.0003: 100% 21/21 [00:11<00:00,  1.90it/s, 0 cls=-0.80674, 1 cls=-0.73247, 2 cls=-0.63382, bce=0.08378, dice=0.82286, loss=-0.74245]\n"
     ]
    },
    {
     "name": "stdout",
     "output_type": "stream",
     "text": [
      "loss: -0.82452 | bce: 0.04353 | dice: 0.86015 | 0 cls: -0.87710 | 1 cls: -0.83318 | 2 cls: -0.71033\n"
     ]
    },
    {
     "name": "stderr",
     "output_type": "stream",
     "text": [
      "Epoch 47, lr 0.0003: 100% 21/21 [00:11<00:00,  1.90it/s, 0 cls=-0.80786, 1 cls=-0.73260, 2 cls=-0.63693, bce=0.08390, dice=0.82441, loss=-0.74357]\n"
     ]
    },
    {
     "name": "stdout",
     "output_type": "stream",
     "text": [
      "loss: -0.82172 | bce: 0.04012 | dice: 0.85476 | 0 cls: -0.87492 | 1 cls: -0.83206 | 2 cls: -0.70339\n"
     ]
    },
    {
     "name": "stderr",
     "output_type": "stream",
     "text": [
      "Epoch 48, lr 0.0003: 100% 21/21 [00:11<00:00,  1.87it/s, 0 cls=-0.80522, 1 cls=-0.73185, 2 cls=-0.63479, bce=0.08418, dice=0.82284, loss=-0.74178]\n"
     ]
    },
    {
     "name": "stdout",
     "output_type": "stream",
     "text": [
      "loss: -0.82266 | bce: 0.04295 | dice: 0.85913 | 0 cls: -0.87564 | 1 cls: -0.82928 | 2 cls: -0.71155\n"
     ]
    },
    {
     "name": "stderr",
     "output_type": "stream",
     "text": [
      "Epoch 49, lr 0.0003: 100% 21/21 [00:10<00:00,  1.92it/s, 0 cls=-0.80743, 1 cls=-0.73155, 2 cls=-0.63241, bce=0.08433, dice=0.82316, loss=-0.74207]\n"
     ]
    },
    {
     "name": "stdout",
     "output_type": "stream",
     "text": [
      "loss: -0.82380 | bce: 0.03876 | dice: 0.85548 | 0 cls: -0.87702 | 1 cls: -0.83182 | 2 cls: -0.71060\n"
     ]
    },
    {
     "name": "stderr",
     "output_type": "stream",
     "text": [
      "Epoch 50, lr 0.0003: 100% 21/21 [00:10<00:00,  1.91it/s, 0 cls=-0.80970, 1 cls=-0.73462, 2 cls=-0.63774, bce=0.08286, dice=0.82508, loss=-0.74527]\n"
     ]
    },
    {
     "name": "stdout",
     "output_type": "stream",
     "text": [
      "loss: -0.82031 | bce: 0.04712 | dice: 0.86012 | 0 cls: -0.87176 | 1 cls: -0.82948 | 2 cls: -0.70833\n"
     ]
    },
    {
     "name": "stderr",
     "output_type": "stream",
     "text": [
      "Epoch 51, lr 0.0003: 100% 21/21 [00:10<00:00,  1.93it/s, 0 cls=-0.80235, 1 cls=-0.72816, 2 cls=-0.63108, bce=0.08639, dice=0.82179, loss=-0.73842]\n"
     ]
    },
    {
     "name": "stdout",
     "output_type": "stream",
     "text": [
      "loss: -0.81798 | bce: 0.04059 | dice: 0.85127 | 0 cls: -0.87501 | 1 cls: -0.82383 | 2 cls: -0.70066\n"
     ]
    },
    {
     "name": "stderr",
     "output_type": "stream",
     "text": [
      "Epoch 52, lr 0.0003: 100% 21/21 [00:11<00:00,  1.89it/s, 0 cls=-0.80898, 1 cls=-0.73732, 2 cls=-0.63668, bce=0.08394, dice=0.82596, loss=-0.74586]\n"
     ]
    },
    {
     "name": "stdout",
     "output_type": "stream",
     "text": [
      "loss: -0.82429 | bce: 0.04031 | dice: 0.85784 | 0 cls: -0.87653 | 1 cls: -0.83186 | 2 cls: -0.71210\n"
     ]
    },
    {
     "name": "stderr",
     "output_type": "stream",
     "text": [
      "Epoch 53, lr 0.0003: 100% 21/21 [00:11<00:00,  1.88it/s, 0 cls=-0.79698, 1 cls=-0.72880, 2 cls=-0.63002, bce=0.08683, dice=0.81973, loss=-0.73631]\n"
     ]
    },
    {
     "name": "stdout",
     "output_type": "stream",
     "text": [
      "loss: -0.81208 | bce: 0.04741 | dice: 0.84941 | 0 cls: -0.85509 | 1 cls: -0.83184 | 2 cls: -0.69506\n"
     ]
    },
    {
     "name": "stderr",
     "output_type": "stream",
     "text": [
      "Epoch 54, lr 0.0003: 100% 21/21 [00:10<00:00,  1.91it/s, 0 cls=-0.79719, 1 cls=-0.72697, 2 cls=-0.62495, bce=0.08714, dice=0.81829, loss=-0.73465]\n"
     ]
    },
    {
     "name": "stdout",
     "output_type": "stream",
     "text": [
      "loss: -0.81803 | bce: 0.04459 | dice: 0.85546 | 0 cls: -0.86828 | 1 cls: -0.82995 | 2 cls: -0.70493\n"
     ]
    },
    {
     "name": "stderr",
     "output_type": "stream",
     "text": [
      "Epoch 55, lr 0.0003: 100% 21/21 [00:11<00:00,  1.91it/s, 0 cls=-0.80979, 1 cls=-0.73466, 2 cls=-0.63708, bce=0.08282, dice=0.82474, loss=-0.74520]\n"
     ]
    },
    {
     "name": "stdout",
     "output_type": "stream",
     "text": [
      "loss: -0.79999 | bce: 0.04727 | dice: 0.84020 | 0 cls: -0.86154 | 1 cls: -0.80412 | 2 cls: -0.67704\n"
     ]
    },
    {
     "name": "stderr",
     "output_type": "stream",
     "text": [
      "Epoch 56, lr 0.0003: 100% 21/21 [00:11<00:00,  1.89it/s, 0 cls=-0.80293, 1 cls=-0.72998, 2 cls=-0.63318, bce=0.08619, dice=0.82316, loss=-0.73980]\n"
     ]
    },
    {
     "name": "stdout",
     "output_type": "stream",
     "text": [
      "loss: -0.81829 | bce: 0.04434 | dice: 0.85536 | 0 cls: -0.87358 | 1 cls: -0.82361 | 2 cls: -0.70632\n"
     ]
    },
    {
     "name": "stderr",
     "output_type": "stream",
     "text": [
      "Epoch 57, lr 0.0003: 100% 21/21 [00:10<00:00,  1.91it/s, 0 cls=-0.81126, 1 cls=-0.73729, 2 cls=-0.63728, bce=0.08291, dice=0.82626, loss=-0.74688]\n"
     ]
    },
    {
     "name": "stdout",
     "output_type": "stream",
     "text": [
      "loss: -0.82738 | bce: 0.04211 | dice: 0.86295 | 0 cls: -0.87847 | 1 cls: -0.83451 | 2 cls: -0.71888\n"
     ]
    },
    {
     "name": "stderr",
     "output_type": "stream",
     "text": [
      "Epoch 58, lr 0.0003: 100% 21/21 [00:11<00:00,  1.89it/s, 0 cls=-0.79661, 1 cls=-0.73064, 2 cls=-0.62480, bce=0.08712, dice=0.81856, loss=-0.73586]\n"
     ]
    },
    {
     "name": "stdout",
     "output_type": "stream",
     "text": [
      "loss: -0.82616 | bce: 0.04624 | dice: 0.86587 | 0 cls: -0.88107 | 1 cls: -0.83069 | 2 cls: -0.71517\n"
     ]
    },
    {
     "name": "stderr",
     "output_type": "stream",
     "text": [
      "Epoch 59, lr 0.0003: 100% 21/21 [00:10<00:00,  1.92it/s, 0 cls=-0.81402, 1 cls=-0.74030, 2 cls=-0.64259, bce=0.08237, dice=0.82925, loss=-0.75025]\n"
     ]
    },
    {
     "name": "stdout",
     "output_type": "stream",
     "text": [
      "loss: -0.82715 | bce: 0.04049 | dice: 0.86032 | 0 cls: -0.87979 | 1 cls: -0.83462 | 2 cls: -0.71462\n"
     ]
    },
    {
     "name": "stderr",
     "output_type": "stream",
     "text": [
      "Epoch 60, lr 0.0003: 100% 21/21 [00:11<00:00,  1.84it/s, 0 cls=-0.80727, 1 cls=-0.73988, 2 cls=-0.63897, bce=0.08295, dice=0.82550, loss=-0.74665]\n"
     ]
    },
    {
     "name": "stdout",
     "output_type": "stream",
     "text": [
      "loss: -0.80607 | bce: 0.04858 | dice: 0.84738 | 0 cls: -0.86409 | 1 cls: -0.81269 | 2 cls: -0.68472\n"
     ]
    },
    {
     "name": "stderr",
     "output_type": "stream",
     "text": [
      "Epoch 61, lr 0.0003: 100% 21/21 [00:11<00:00,  1.90it/s, 0 cls=-0.79893, 1 cls=-0.71660, 2 cls=-0.62048, bce=0.08821, dice=0.81614, loss=-0.73031]\n"
     ]
    },
    {
     "name": "stdout",
     "output_type": "stream",
     "text": [
      "loss: -0.82527 | bce: 0.03940 | dice: 0.85713 | 0 cls: -0.87785 | 1 cls: -0.83533 | 2 cls: -0.70912\n"
     ]
    },
    {
     "name": "stderr",
     "output_type": "stream",
     "text": [
      "Epoch 62, lr 0.0003: 100% 21/21 [00:11<00:00,  1.89it/s, 0 cls=-0.80558, 1 cls=-0.73274, 2 cls=-0.63421, bce=0.08388, dice=0.82280, loss=-0.74217]\n"
     ]
    },
    {
     "name": "stdout",
     "output_type": "stream",
     "text": [
      "loss: -0.81982 | bce: 0.04316 | dice: 0.85638 | 0 cls: -0.87606 | 1 cls: -0.82307 | 2 cls: -0.70877\n"
     ]
    },
    {
     "name": "stderr",
     "output_type": "stream",
     "text": [
      "Epoch 63, lr 0.0003: 100% 21/21 [00:10<00:00,  1.93it/s, 0 cls=-0.81241, 1 cls=-0.73865, 2 cls=-0.64328, bce=0.08225, dice=0.82827, loss=-0.74908]\n"
     ]
    },
    {
     "name": "stdout",
     "output_type": "stream",
     "text": [
      "loss: -0.82679 | bce: 0.04391 | dice: 0.86380 | 0 cls: -0.88079 | 1 cls: -0.83274 | 2 cls: -0.71550\n"
     ]
    },
    {
     "name": "stderr",
     "output_type": "stream",
     "text": [
      "Epoch 64, lr 0.0003: 100% 21/21 [00:11<00:00,  1.89it/s, 0 cls=-0.81295, 1 cls=-0.73715, 2 cls=-0.64037, bce=0.08273, dice=0.82774, loss=-0.74811]\n"
     ]
    },
    {
     "name": "stdout",
     "output_type": "stream",
     "text": [
      "loss: -0.82981 | bce: 0.04220 | dice: 0.86552 | 0 cls: -0.88314 | 1 cls: -0.83528 | 2 cls: -0.72054\n"
     ]
    },
    {
     "name": "stderr",
     "output_type": "stream",
     "text": [
      "Epoch 65, lr 0.0003: 100% 21/21 [00:11<00:00,  1.91it/s, 0 cls=-0.81319, 1 cls=-0.74033, 2 cls=-0.64393, bce=0.08174, dice=0.82874, loss=-0.75019]\n"
     ]
    },
    {
     "name": "stdout",
     "output_type": "stream",
     "text": [
      "loss: -0.82283 | bce: 0.04169 | dice: 0.85703 | 0 cls: -0.87725 | 1 cls: -0.82929 | 2 cls: -0.70905\n"
     ]
    },
    {
     "name": "stderr",
     "output_type": "stream",
     "text": [
      "Epoch 66, lr 0.0003: 100% 21/21 [00:11<00:00,  1.90it/s, 0 cls=-0.80512, 1 cls=-0.73488, 2 cls=-0.63629, bce=0.08484, dice=0.82455, loss=-0.74326]\n"
     ]
    },
    {
     "name": "stdout",
     "output_type": "stream",
     "text": [
      "loss: -0.82420 | bce: 0.04105 | dice: 0.85865 | 0 cls: -0.87559 | 1 cls: -0.83056 | 2 cls: -0.71646\n"
     ]
    },
    {
     "name": "stderr",
     "output_type": "stream",
     "text": [
      "Epoch 67, lr 0.0003: 100% 21/21 [00:11<00:00,  1.88it/s, 0 cls=-0.81532, 1 cls=-0.74339, 2 cls=-0.64571, bce=0.08174, dice=0.83081, loss=-0.75263]\n"
     ]
    },
    {
     "name": "stdout",
     "output_type": "stream",
     "text": [
      "loss: -0.82336 | bce: 0.04177 | dice: 0.85795 | 0 cls: -0.87924 | 1 cls: -0.82793 | 2 cls: -0.71018\n"
     ]
    },
    {
     "name": "stderr",
     "output_type": "stream",
     "text": [
      "Epoch 68, lr 0.0003: 100% 21/21 [00:11<00:00,  1.90it/s, 0 cls=-0.81248, 1 cls=-0.73729, 2 cls=-0.64250, bce=0.08264, dice=0.82820, loss=-0.74841]\n"
     ]
    },
    {
     "name": "stdout",
     "output_type": "stream",
     "text": [
      "loss: -0.82378 | bce: 0.04095 | dice: 0.85533 | 0 cls: -0.87316 | 1 cls: -0.83657 | 2 cls: -0.70731\n"
     ]
    },
    {
     "name": "stderr",
     "output_type": "stream",
     "text": [
      "Epoch 69, lr 0.0003: 100% 21/21 [00:10<00:00,  1.93it/s, 0 cls=-0.81034, 1 cls=-0.74150, 2 cls=-0.64148, bce=0.08271, dice=0.82786, loss=-0.74903]\n"
     ]
    },
    {
     "name": "stdout",
     "output_type": "stream",
     "text": [
      "loss: -0.82645 | bce: 0.03974 | dice: 0.85916 | 0 cls: -0.87781 | 1 cls: -0.83570 | 2 cls: -0.71376\n"
     ]
    },
    {
     "name": "stderr",
     "output_type": "stream",
     "text": [
      "Epoch 70, lr 0.0003: 100% 21/21 [00:11<00:00,  1.89it/s, 0 cls=-0.81056, 1 cls=-0.74032, 2 cls=-0.64128, bce=0.08295, dice=0.82778, loss=-0.74861]\n"
     ]
    },
    {
     "name": "stdout",
     "output_type": "stream",
     "text": [
      "loss: -0.82874 | bce: 0.04142 | dice: 0.86254 | 0 cls: -0.88005 | 1 cls: -0.83674 | 2 cls: -0.71714\n"
     ]
    },
    {
     "name": "stderr",
     "output_type": "stream",
     "text": [
      "Epoch 71, lr 0.0003: 100% 21/21 [00:11<00:00,  1.90it/s, 0 cls=-0.81696, 1 cls=-0.74346, 2 cls=-0.64659, bce=0.08108, dice=0.83124, loss=-0.75349]\n"
     ]
    },
    {
     "name": "stdout",
     "output_type": "stream",
     "text": [
      "loss: -0.82721 | bce: 0.04172 | dice: 0.86187 | 0 cls: -0.87882 | 1 cls: -0.83580 | 2 cls: -0.71574\n"
     ]
    },
    {
     "name": "stderr",
     "output_type": "stream",
     "text": [
      "Epoch 72, lr 0.0003: 100% 21/21 [00:10<00:00,  1.91it/s, 0 cls=-0.81092, 1 cls=-0.74052, 2 cls=-0.64352, bce=0.08190, dice=0.82774, loss=-0.74928]\n"
     ]
    },
    {
     "name": "stdout",
     "output_type": "stream",
     "text": [
      "loss: -0.82831 | bce: 0.04166 | dice: 0.86218 | 0 cls: -0.87623 | 1 cls: -0.83964 | 2 cls: -0.71901\n"
     ]
    },
    {
     "name": "stderr",
     "output_type": "stream",
     "text": [
      "Epoch 73, lr 0.0003: 100% 21/21 [00:10<00:00,  1.92it/s, 0 cls=-0.81741, 1 cls=-0.74174, 2 cls=-0.65060, bce=0.08035, dice=0.83162, loss=-0.75378]\n"
     ]
    },
    {
     "name": "stdout",
     "output_type": "stream",
     "text": [
      "loss: -0.82465 | bce: 0.04496 | dice: 0.86282 | 0 cls: -0.87954 | 1 cls: -0.82947 | 2 cls: -0.71279\n"
     ]
    },
    {
     "name": "stderr",
     "output_type": "stream",
     "text": [
      "Epoch 74, lr 0.0003: 100% 21/21 [00:10<00:00,  1.92it/s, 0 cls=-0.81816, 1 cls=-0.74455, 2 cls=-0.65038, bce=0.08018, dice=0.83226, loss=-0.75516]\n"
     ]
    },
    {
     "name": "stdout",
     "output_type": "stream",
     "text": [
      "loss: -0.82761 | bce: 0.03997 | dice: 0.86080 | 0 cls: -0.88051 | 1 cls: -0.83331 | 2 cls: -0.71694\n"
     ]
    },
    {
     "name": "stderr",
     "output_type": "stream",
     "text": [
      "Epoch 75, lr 0.0003: 100% 21/21 [00:11<00:00,  1.91it/s, 0 cls=-0.81552, 1 cls=-0.74390, 2 cls=-0.64948, bce=0.08128, dice=0.83182, loss=-0.75367]\n"
     ]
    },
    {
     "name": "stdout",
     "output_type": "stream",
     "text": [
      "loss: -0.82666 | bce: 0.04368 | dice: 0.86314 | 0 cls: -0.87645 | 1 cls: -0.83516 | 2 cls: -0.71651\n"
     ]
    },
    {
     "name": "stderr",
     "output_type": "stream",
     "text": [
      "Epoch 76, lr 0.0003: 100% 21/21 [00:11<00:00,  1.90it/s, 0 cls=-0.80958, 1 cls=-0.73935, 2 cls=-0.64315, bce=0.08202, dice=0.82695, loss=-0.74820]\n"
     ]
    },
    {
     "name": "stdout",
     "output_type": "stream",
     "text": [
      "loss: -0.82860 | bce: 0.04324 | dice: 0.86572 | 0 cls: -0.88157 | 1 cls: -0.83461 | 2 cls: -0.71926\n"
     ]
    },
    {
     "name": "stderr",
     "output_type": "stream",
     "text": [
      "Epoch 77, lr 0.0003: 100% 21/21 [00:11<00:00,  1.89it/s, 0 cls=-0.81490, 1 cls=-0.74134, 2 cls=-0.64518, bce=0.08104, dice=0.82933, loss=-0.75153]\n"
     ]
    },
    {
     "name": "stdout",
     "output_type": "stream",
     "text": [
      "loss: -0.82507 | bce: 0.04396 | dice: 0.86168 | 0 cls: -0.88183 | 1 cls: -0.82864 | 2 cls: -0.71270\n"
     ]
    },
    {
     "name": "stderr",
     "output_type": "stream",
     "text": [
      "Epoch 78, lr 0.0003: 100% 21/21 [00:10<00:00,  1.92it/s, 0 cls=-0.81821, 1 cls=-0.74483, 2 cls=-0.64907, bce=0.08117, dice=0.83294, loss=-0.75503]\n"
     ]
    },
    {
     "name": "stdout",
     "output_type": "stream",
     "text": [
      "loss: -0.82056 | bce: 0.04322 | dice: 0.85655 | 0 cls: -0.86937 | 1 cls: -0.83084 | 2 cls: -0.70998\n"
     ]
    },
    {
     "name": "stderr",
     "output_type": "stream",
     "text": [
      "Epoch 79, lr 0.0003: 100% 21/21 [00:11<00:00,  1.90it/s, 0 cls=-0.80923, 1 cls=-0.73844, 2 cls=-0.64114, bce=0.08250, dice=0.82641, loss=-0.74730]\n"
     ]
    },
    {
     "name": "stdout",
     "output_type": "stream",
     "text": [
      "loss: -0.81176 | bce: 0.04632 | dice: 0.85123 | 0 cls: -0.87193 | 1 cls: -0.81367 | 2 cls: -0.69441\n"
     ]
    },
    {
     "name": "stderr",
     "output_type": "stream",
     "text": [
      "Epoch 80, lr 0.0003: 100% 21/21 [00:10<00:00,  1.91it/s, 0 cls=-0.82010, 1 cls=-0.74474, 2 cls=-0.65235, bce=0.07941, dice=0.83297, loss=-0.75640]\n"
     ]
    },
    {
     "name": "stdout",
     "output_type": "stream",
     "text": [
      "loss: -0.82464 | bce: 0.04101 | dice: 0.85763 | 0 cls: -0.87574 | 1 cls: -0.83381 | 2 cls: -0.71044\n"
     ]
    },
    {
     "name": "stderr",
     "output_type": "stream",
     "text": [
      "Epoch 81, lr 0.0003: 100% 21/21 [00:11<00:00,  1.90it/s, 0 cls=-0.81747, 1 cls=-0.74686, 2 cls=-0.65076, bce=0.07957, dice=0.83196, loss=-0.75588]\n"
     ]
    },
    {
     "name": "stdout",
     "output_type": "stream",
     "text": [
      "loss: -0.82949 | bce: 0.04237 | dice: 0.86442 | 0 cls: -0.88090 | 1 cls: -0.83614 | 2 cls: -0.71905\n"
     ]
    },
    {
     "name": "stderr",
     "output_type": "stream",
     "text": [
      "Epoch 82, lr 0.0003: 100% 21/21 [00:11<00:00,  1.85it/s, 0 cls=-0.81240, 1 cls=-0.74085, 2 cls=-0.64443, bce=0.08184, dice=0.82876, loss=-0.75018]\n"
     ]
    },
    {
     "name": "stdout",
     "output_type": "stream",
     "text": [
      "loss: -0.82853 | bce: 0.04238 | dice: 0.86345 | 0 cls: -0.87946 | 1 cls: -0.83621 | 2 cls: -0.71680\n"
     ]
    },
    {
     "name": "stderr",
     "output_type": "stream",
     "text": [
      "Epoch 83, lr 0.0003: 100% 21/21 [00:10<00:00,  1.91it/s, 0 cls=-0.81978, 1 cls=-0.74996, 2 cls=-0.65430, bce=0.08002, dice=0.83523, loss=-0.75876]\n"
     ]
    },
    {
     "name": "stdout",
     "output_type": "stream",
     "text": [
      "loss: -0.82624 | bce: 0.04194 | dice: 0.86209 | 0 cls: -0.88293 | 1 cls: -0.82799 | 2 cls: -0.71672\n"
     ]
    },
    {
     "name": "stderr",
     "output_type": "stream",
     "text": [
      "Epoch 84, lr 0.0003: 100% 21/21 [00:10<00:00,  1.93it/s, 0 cls=-0.81743, 1 cls=-0.74803, 2 cls=-0.64965, bce=0.07950, dice=0.83176, loss=-0.75612]\n"
     ]
    },
    {
     "name": "stdout",
     "output_type": "stream",
     "text": [
      "loss: -0.82338 | bce: 0.04546 | dice: 0.85906 | 0 cls: -0.87129 | 1 cls: -0.83668 | 2 cls: -0.70732\n"
     ]
    },
    {
     "name": "stderr",
     "output_type": "stream",
     "text": [
      "Epoch 85, lr 0.0003: 100% 21/21 [00:11<00:00,  1.90it/s, 0 cls=-0.81759, 1 cls=-0.74622, 2 cls=-0.65053, bce=0.08062, dice=0.83287, loss=-0.75563]\n"
     ]
    },
    {
     "name": "stdout",
     "output_type": "stream",
     "text": [
      "loss: -0.82538 | bce: 0.04492 | dice: 0.86388 | 0 cls: -0.87963 | 1 cls: -0.83004 | 2 cls: -0.71560\n"
     ]
    },
    {
     "name": "stderr",
     "output_type": "stream",
     "text": [
      "Epoch 86, lr 0.0003: 100% 21/21 [00:11<00:00,  1.90it/s, 0 cls=-0.81639, 1 cls=-0.74460, 2 cls=-0.64759, bce=0.08041, dice=0.83087, loss=-0.75392]\n"
     ]
    },
    {
     "name": "stdout",
     "output_type": "stream",
     "text": [
      "loss: -0.82381 | bce: 0.03971 | dice: 0.85361 | 0 cls: -0.87019 | 1 cls: -0.83763 | 2 cls: -0.70830\n"
     ]
    },
    {
     "name": "stderr",
     "output_type": "stream",
     "text": [
      "Epoch 87, lr 0.0003: 100% 21/21 [00:11<00:00,  1.90it/s, 0 cls=-0.81931, 1 cls=-0.74642, 2 cls=-0.65002, bce=0.08022, dice=0.83300, loss=-0.75630]\n"
     ]
    },
    {
     "name": "stdout",
     "output_type": "stream",
     "text": [
      "loss: -0.82434 | bce: 0.04402 | dice: 0.86135 | 0 cls: -0.87700 | 1 cls: -0.83175 | 2 cls: -0.71163\n"
     ]
    },
    {
     "name": "stderr",
     "output_type": "stream",
     "text": [
      "Epoch 88, lr 0.0003: 100% 21/21 [00:11<00:00,  1.88it/s, 0 cls=-0.81534, 1 cls=-0.74328, 2 cls=-0.64703, bce=0.08077, dice=0.83027, loss=-0.75286]\n"
     ]
    },
    {
     "name": "stdout",
     "output_type": "stream",
     "text": [
      "loss: -0.82337 | bce: 0.04646 | dice: 0.86275 | 0 cls: -0.87814 | 1 cls: -0.82868 | 2 cls: -0.71135\n"
     ]
    },
    {
     "name": "stderr",
     "output_type": "stream",
     "text": [
      "Epoch 89, lr 0.0003: 100% 21/21 [00:11<00:00,  1.86it/s, 0 cls=-0.81425, 1 cls=-0.74106, 2 cls=-0.64652, bce=0.08122, dice=0.82956, loss=-0.75143]\n"
     ]
    },
    {
     "name": "stdout",
     "output_type": "stream",
     "text": [
      "loss: -0.81691 | bce: 0.04429 | dice: 0.84997 | 0 cls: -0.86594 | 1 cls: -0.83278 | 2 cls: -0.69512\n"
     ]
    },
    {
     "name": "stderr",
     "output_type": "stream",
     "text": [
      "Epoch 90, lr 0.001: 100% 21/21 [00:11<00:00,  1.90it/s, 0 cls=-0.78164, 1 cls=-0.71654, 2 cls=-0.59605, bce=0.09605, dice=0.80879, loss=-0.71848]\n"
     ]
    },
    {
     "name": "stdout",
     "output_type": "stream",
     "text": [
      "loss: -0.78613 | bce: 0.06421 | dice: 0.84151 | 0 cls: -0.85134 | 1 cls: -0.79055 | 2 cls: -0.65158\n"
     ]
    },
    {
     "name": "stderr",
     "output_type": "stream",
     "text": [
      "Epoch 91, lr 0.001: 100% 21/21 [00:11<00:00,  1.89it/s, 0 cls=-0.77903, 1 cls=-0.71255, 2 cls=-0.60379, bce=0.09455, dice=0.80763, loss=-0.71739]\n"
     ]
    },
    {
     "name": "stdout",
     "output_type": "stream",
     "text": [
      "loss: -0.77770 | bce: 0.05179 | dice: 0.81868 | 0 cls: -0.83468 | 1 cls: -0.78880 | 2 cls: -0.64695\n"
     ]
    },
    {
     "name": "stderr",
     "output_type": "stream",
     "text": [
      "Epoch 92, lr 0.0003: 100% 21/21 [00:11<00:00,  1.89it/s, 0 cls=-0.78221, 1 cls=-0.71932, 2 cls=-0.61192, bce=0.09295, dice=0.81143, loss=-0.72300]\n"
     ]
    },
    {
     "name": "stdout",
     "output_type": "stream",
     "text": [
      "loss: -0.81601 | bce: 0.04685 | dice: 0.85580 | 0 cls: -0.86999 | 1 cls: -0.82455 | 2 cls: -0.70043\n"
     ]
    },
    {
     "name": "stderr",
     "output_type": "stream",
     "text": [
      "Epoch 93, lr 0.0003: 100% 21/21 [00:11<00:00,  1.89it/s, 0 cls=-0.81204, 1 cls=-0.74191, 2 cls=-0.64726, bce=0.08083, dice=0.82869, loss=-0.75103]\n"
     ]
    },
    {
     "name": "stdout",
     "output_type": "stream",
     "text": [
      "loss: -0.82516 | bce: 0.04374 | dice: 0.86272 | 0 cls: -0.87909 | 1 cls: -0.83090 | 2 cls: -0.71451\n"
     ]
    },
    {
     "name": "stderr",
     "output_type": "stream",
     "text": [
      "Epoch 94, lr 8.999999999999999e-05: 100% 21/21 [00:11<00:00,  1.90it/s, 0 cls=-0.81670, 1 cls=-0.74745, 2 cls=-0.64956, bce=0.08018, dice=0.83201, loss=-0.75557]\n"
     ]
    },
    {
     "name": "stdout",
     "output_type": "stream",
     "text": [
      "loss: -0.82861 | bce: 0.04282 | dice: 0.86441 | 0 cls: -0.88018 | 1 cls: -0.83621 | 2 cls: -0.71874\n"
     ]
    },
    {
     "name": "stderr",
     "output_type": "stream",
     "text": [
      "Epoch 95, lr 0.001: 100% 21/21 [00:10<00:00,  1.92it/s, 0 cls=-0.77754, 1 cls=-0.70283, 2 cls=-0.59753, bce=0.09583, dice=0.80417, loss=-0.71165]\n"
     ]
    },
    {
     "name": "stdout",
     "output_type": "stream",
     "text": [
      "loss: -0.80922 | bce: 0.04548 | dice: 0.84595 | 0 cls: -0.86798 | 1 cls: -0.81668 | 2 cls: -0.68739\n"
     ]
    },
    {
     "name": "stderr",
     "output_type": "stream",
     "text": [
      "Epoch 96, lr 0.001: 100% 21/21 [00:11<00:00,  1.91it/s, 0 cls=-0.79457, 1 cls=-0.72467, 2 cls=-0.62010, bce=0.09004, dice=0.81764, loss=-0.73172]\n"
     ]
    },
    {
     "name": "stdout",
     "output_type": "stream",
     "text": [
      "loss: -0.82191 | bce: 0.04124 | dice: 0.85569 | 0 cls: -0.87224 | 1 cls: -0.83407 | 2 cls: -0.70874\n"
     ]
    },
    {
     "name": "stderr",
     "output_type": "stream",
     "text": [
      "Epoch 97, lr 0.0003: 100% 21/21 [00:11<00:00,  1.90it/s, 0 cls=-0.80616, 1 cls=-0.73411, 2 cls=-0.63425, bce=0.08601, dice=0.82551, loss=-0.74296]\n"
     ]
    },
    {
     "name": "stdout",
     "output_type": "stream",
     "text": [
      "loss: -0.81674 | bce: 0.04247 | dice: 0.85351 | 0 cls: -0.87528 | 1 cls: -0.81874 | 2 cls: -0.70511\n"
     ]
    },
    {
     "name": "stderr",
     "output_type": "stream",
     "text": [
      "Epoch 98, lr 0.0003: 100% 21/21 [00:11<00:00,  1.90it/s, 0 cls=-0.81150, 1 cls=-0.74146, 2 cls=-0.64243, bce=0.08250, dice=0.82839, loss=-0.74967]\n"
     ]
    },
    {
     "name": "stdout",
     "output_type": "stream",
     "text": [
      "loss: -0.82643 | bce: 0.04148 | dice: 0.86090 | 0 cls: -0.88035 | 1 cls: -0.83169 | 2 cls: -0.71615\n"
     ]
    },
    {
     "name": "stderr",
     "output_type": "stream",
     "text": [
      "Epoch 99, lr 8.999999999999999e-05: 100% 21/21 [00:11<00:00,  1.88it/s, 0 cls=-0.81141, 1 cls=-0.74279, 2 cls=-0.64521, bce=0.08178, dice=0.82888, loss=-0.75072]\n"
     ]
    },
    {
     "name": "stdout",
     "output_type": "stream",
     "text": [
      "loss: -0.82903 | bce: 0.04144 | dice: 0.86381 | 0 cls: -0.88135 | 1 cls: -0.83510 | 2 cls: -0.72007\n"
     ]
    },
    {
     "name": "stderr",
     "output_type": "stream",
     "text": [
      "Epoch 100, lr 0.00017999999999999998: 100% 21/21 [00:10<00:00,  1.91it/s, 0 cls=-0.81627, 1 cls=-0.75005, 2 cls=-0.65349, bce=0.07996, dice=0.83350, loss=-0.75723]\n"
     ]
    },
    {
     "name": "stdout",
     "output_type": "stream",
     "text": [
      "loss: -0.82782 | bce: 0.04063 | dice: 0.86114 | 0 cls: -0.87943 | 1 cls: -0.83501 | 2 cls: -0.71793\n"
     ]
    },
    {
     "name": "stderr",
     "output_type": "stream",
     "text": [
      "Epoch 101, lr 0.00017999999999999998: 100% 21/21 [00:11<00:00,  1.90it/s, 0 cls=-0.81101, 1 cls=-0.74367, 2 cls=-0.64962, bce=0.08197, dice=0.83052, loss=-0.75180]\n"
     ]
    },
    {
     "name": "stdout",
     "output_type": "stream",
     "text": [
      "loss: -0.82793 | bce: 0.03889 | dice: 0.85978 | 0 cls: -0.87983 | 1 cls: -0.83459 | 2 cls: -0.71745\n"
     ]
    },
    {
     "name": "stderr",
     "output_type": "stream",
     "text": [
      "Epoch 102, lr 0.00017999999999999998: 100% 21/21 [00:10<00:00,  1.92it/s, 0 cls=-0.81979, 1 cls=-0.74844, 2 cls=-0.65258, bce=0.07984, dice=0.83425, loss=-0.75781]\n"
     ]
    },
    {
     "name": "stdout",
     "output_type": "stream",
     "text": [
      "loss: -0.82325 | bce: 0.04375 | dice: 0.86110 | 0 cls: -0.88165 | 1 cls: -0.82273 | 2 cls: -0.71369\n"
     ]
    },
    {
     "name": "stderr",
     "output_type": "stream",
     "text": [
      "Epoch 103, lr 0.00017999999999999998: 100% 21/21 [00:11<00:00,  1.90it/s, 0 cls=-0.82187, 1 cls=-0.75053, 2 cls=-0.65680, bce=0.07900, dice=0.83608, loss=-0.76032]\n"
     ]
    },
    {
     "name": "stdout",
     "output_type": "stream",
     "text": [
      "loss: -0.83430 | bce: 0.03996 | dice: 0.86784 | 0 cls: -0.88455 | 1 cls: -0.84066 | 2 cls: -0.72831\n"
     ]
    },
    {
     "name": "stderr",
     "output_type": "stream",
     "text": [
      "Epoch 104, lr 0.00017999999999999998: 100% 21/21 [00:11<00:00,  1.87it/s, 0 cls=-0.82235, 1 cls=-0.75244, 2 cls=-0.65885, bce=0.07790, dice=0.83633, loss=-0.76169]\n"
     ]
    },
    {
     "name": "stdout",
     "output_type": "stream",
     "text": [
      "loss: -0.83206 | bce: 0.04033 | dice: 0.86498 | 0 cls: -0.87987 | 1 cls: -0.84136 | 2 cls: -0.72411\n"
     ]
    },
    {
     "name": "stderr",
     "output_type": "stream",
     "text": [
      "Epoch 105, lr 0.00017999999999999998: 100% 21/21 [00:11<00:00,  1.88it/s, 0 cls=-0.82110, 1 cls=-0.74954, 2 cls=-0.65401, bce=0.07873, dice=0.83435, loss=-0.75906]\n"
     ]
    },
    {
     "name": "stdout",
     "output_type": "stream",
     "text": [
      "loss: -0.83176 | bce: 0.04105 | dice: 0.86542 | 0 cls: -0.88139 | 1 cls: -0.83936 | 2 cls: -0.72310\n"
     ]
    },
    {
     "name": "stderr",
     "output_type": "stream",
     "text": [
      "Epoch 106, lr 0.00017999999999999998: 100% 21/21 [00:11<00:00,  1.90it/s, 0 cls=-0.82177, 1 cls=-0.75068, 2 cls=-0.65559, bce=0.07931, dice=0.83594, loss=-0.76010]\n"
     ]
    },
    {
     "name": "stdout",
     "output_type": "stream",
     "text": [
      "loss: -0.83004 | bce: 0.04190 | dice: 0.86500 | 0 cls: -0.88235 | 1 cls: -0.83560 | 2 cls: -0.72146\n"
     ]
    },
    {
     "name": "stderr",
     "output_type": "stream",
     "text": [
      "Epoch 107, lr 0.00017999999999999998: 100% 21/21 [00:11<00:00,  1.90it/s, 0 cls=-0.82563, 1 cls=-0.75757, 2 cls=-0.66486, bce=0.07627, dice=0.83923, loss=-0.76625]\n"
     ]
    },
    {
     "name": "stdout",
     "output_type": "stream",
     "text": [
      "loss: -0.83393 | bce: 0.04059 | dice: 0.86776 | 0 cls: -0.88373 | 1 cls: -0.84113 | 2 cls: -0.72727\n"
     ]
    },
    {
     "name": "stderr",
     "output_type": "stream",
     "text": [
      "Epoch 108, lr 0.00017999999999999998: 100% 21/21 [00:11<00:00,  1.87it/s, 0 cls=-0.82294, 1 cls=-0.75608, 2 cls=-0.66099, bce=0.07808, dice=0.83821, loss=-0.76381]\n"
     ]
    },
    {
     "name": "stdout",
     "output_type": "stream",
     "text": [
      "loss: -0.82862 | bce: 0.04276 | dice: 0.86491 | 0 cls: -0.88199 | 1 cls: -0.83267 | 2 cls: -0.72008\n"
     ]
    },
    {
     "name": "stderr",
     "output_type": "stream",
     "text": [
      "Epoch 109, lr 0.00017999999999999998: 100% 21/21 [00:11<00:00,  1.87it/s, 0 cls=-0.82376, 1 cls=-0.75459, 2 cls=-0.66162, bce=0.07778, dice=0.83808, loss=-0.76367]\n"
     ]
    },
    {
     "name": "stdout",
     "output_type": "stream",
     "text": [
      "loss: -0.82985 | bce: 0.04126 | dice: 0.86401 | 0 cls: -0.88134 | 1 cls: -0.83582 | 2 cls: -0.72036\n"
     ]
    },
    {
     "name": "stderr",
     "output_type": "stream",
     "text": [
      "Epoch 110, lr 0.00017999999999999998: 100% 21/21 [00:11<00:00,  1.87it/s, 0 cls=-0.81438, 1 cls=-0.74652, 2 cls=-0.65185, bce=0.08042, dice=0.83187, loss=-0.75473]\n"
     ]
    },
    {
     "name": "stdout",
     "output_type": "stream",
     "text": [
      "loss: -0.83006 | bce: 0.04042 | dice: 0.86282 | 0 cls: -0.87970 | 1 cls: -0.83844 | 2 cls: -0.71958\n"
     ]
    },
    {
     "name": "stderr",
     "output_type": "stream",
     "text": [
      "Epoch 111, lr 0.00017999999999999998: 100% 21/21 [00:11<00:00,  1.88it/s, 0 cls=-0.82034, 1 cls=-0.75097, 2 cls=-0.65684, bce=0.07842, dice=0.83480, loss=-0.75989]\n"
     ]
    },
    {
     "name": "stdout",
     "output_type": "stream",
     "text": [
      "loss: -0.83114 | bce: 0.04231 | dice: 0.86643 | 0 cls: -0.88127 | 1 cls: -0.83893 | 2 cls: -0.72174\n"
     ]
    },
    {
     "name": "stderr",
     "output_type": "stream",
     "text": [
      "Epoch 112, lr 0.00017999999999999998: 100% 21/21 [00:11<00:00,  1.90it/s, 0 cls=-0.82779, 1 cls=-0.75866, 2 cls=-0.66538, bce=0.07732, dice=0.84170, loss=-0.76766]\n"
     ]
    },
    {
     "name": "stdout",
     "output_type": "stream",
     "text": [
      "loss: -0.83047 | bce: 0.03893 | dice: 0.86241 | 0 cls: -0.88121 | 1 cls: -0.83745 | 2 cls: -0.72143\n"
     ]
    },
    {
     "name": "stderr",
     "output_type": "stream",
     "text": [
      "Epoch 113, lr 0.00017999999999999998: 100% 21/21 [00:11<00:00,  1.86it/s, 0 cls=-0.82333, 1 cls=-0.75343, 2 cls=-0.65925, bce=0.07807, dice=0.83712, loss=-0.76256]\n"
     ]
    },
    {
     "name": "stdout",
     "output_type": "stream",
     "text": [
      "loss: -0.83137 | bce: 0.03999 | dice: 0.86373 | 0 cls: -0.87905 | 1 cls: -0.84143 | 2 cls: -0.72323\n"
     ]
    },
    {
     "name": "stderr",
     "output_type": "stream",
     "text": [
      "Epoch 114, lr 0.00017999999999999998: 100% 21/21 [00:11<00:00,  1.89it/s, 0 cls=-0.82955, 1 cls=-0.75669, 2 cls=-0.66599, bce=0.07574, dice=0.84040, loss=-0.76769]\n"
     ]
    },
    {
     "name": "stdout",
     "output_type": "stream",
     "text": [
      "loss: -0.83016 | bce: 0.03954 | dice: 0.86297 | 0 cls: -0.88280 | 1 cls: -0.83478 | 2 cls: -0.72176\n"
     ]
    },
    {
     "name": "stderr",
     "output_type": "stream",
     "text": [
      "Epoch 115, lr 0.00017999999999999998: 100% 21/21 [00:11<00:00,  1.90it/s, 0 cls=-0.82766, 1 cls=-0.75699, 2 cls=-0.66359, bce=0.07687, dice=0.84016, loss=-0.76658]\n"
     ]
    },
    {
     "name": "stdout",
     "output_type": "stream",
     "text": [
      "loss: -0.82583 | bce: 0.04196 | dice: 0.86095 | 0 cls: -0.88004 | 1 cls: -0.82962 | 2 cls: -0.71547\n"
     ]
    },
    {
     "name": "stderr",
     "output_type": "stream",
     "text": [
      "Epoch 116, lr 0.00017999999999999998: 100% 21/21 [00:10<00:00,  1.94it/s, 0 cls=-0.82482, 1 cls=-0.75371, 2 cls=-0.66215, bce=0.07774, dice=0.83853, loss=-0.76384]\n"
     ]
    },
    {
     "name": "stdout",
     "output_type": "stream",
     "text": [
      "loss: -0.83182 | bce: 0.04151 | dice: 0.86645 | 0 cls: -0.88361 | 1 cls: -0.83634 | 2 cls: -0.72512\n"
     ]
    },
    {
     "name": "stderr",
     "output_type": "stream",
     "text": [
      "Epoch 117, lr 0.00017999999999999998: 100% 21/21 [00:11<00:00,  1.88it/s, 0 cls=-0.82482, 1 cls=-0.75398, 2 cls=-0.66058, bce=0.07740, dice=0.83773, loss=-0.76364]\n"
     ]
    },
    {
     "name": "stdout",
     "output_type": "stream",
     "text": [
      "loss: -0.83421 | bce: 0.03926 | dice: 0.86616 | 0 cls: -0.88271 | 1 cls: -0.84249 | 2 cls: -0.72703\n"
     ]
    },
    {
     "name": "stderr",
     "output_type": "stream",
     "text": [
      "Epoch 118, lr 0.00017999999999999998: 100% 21/21 [00:10<00:00,  1.91it/s, 0 cls=-0.82267, 1 cls=-0.75259, 2 cls=-0.65954, bce=0.07772, dice=0.83646, loss=-0.76201]\n"
     ]
    },
    {
     "name": "stdout",
     "output_type": "stream",
     "text": [
      "loss: -0.83371 | bce: 0.03958 | dice: 0.86626 | 0 cls: -0.88289 | 1 cls: -0.84139 | 2 cls: -0.72547\n"
     ]
    },
    {
     "name": "stderr",
     "output_type": "stream",
     "text": [
      "Epoch 119, lr 0.00017999999999999998: 100% 21/21 [00:11<00:00,  1.89it/s, 0 cls=-0.82584, 1 cls=-0.75406, 2 cls=-0.66188, bce=0.07776, dice=0.83896, loss=-0.76434]\n"
     ]
    },
    {
     "name": "stdout",
     "output_type": "stream",
     "text": [
      "loss: -0.83000 | bce: 0.03887 | dice: 0.86162 | 0 cls: -0.87900 | 1 cls: -0.83824 | 2 cls: -0.72055\n"
     ]
    },
    {
     "name": "stderr",
     "output_type": "stream",
     "text": [
      "Epoch 120, lr 0.00017999999999999998: 100% 21/21 [00:11<00:00,  1.86it/s, 0 cls=-0.81992, 1 cls=-0.75196, 2 cls=-0.65546, bce=0.07885, dice=0.83500, loss=-0.75984]\n"
     ]
    },
    {
     "name": "stdout",
     "output_type": "stream",
     "text": [
      "loss: -0.82905 | bce: 0.04124 | dice: 0.86311 | 0 cls: -0.87981 | 1 cls: -0.83533 | 2 cls: -0.72072\n"
     ]
    },
    {
     "name": "stderr",
     "output_type": "stream",
     "text": [
      "Epoch 121, lr 0.00017999999999999998: 100% 21/21 [00:11<00:00,  1.88it/s, 0 cls=-0.82765, 1 cls=-0.75810, 2 cls=-0.66419, bce=0.07650, dice=0.84009, loss=-0.76714]\n"
     ]
    },
    {
     "name": "stdout",
     "output_type": "stream",
     "text": [
      "loss: -0.83239 | bce: 0.03856 | dice: 0.86404 | 0 cls: -0.88247 | 1 cls: -0.83944 | 2 cls: -0.72366\n"
     ]
    },
    {
     "name": "stderr",
     "output_type": "stream",
     "text": [
      "Epoch 122, lr 0.00017999999999999998: 100% 21/21 [00:11<00:00,  1.88it/s, 0 cls=-0.83169, 1 cls=-0.75997, 2 cls=-0.67130, bce=0.07535, dice=0.84354, loss=-0.77093]\n"
     ]
    },
    {
     "name": "stdout",
     "output_type": "stream",
     "text": [
      "loss: -0.83274 | bce: 0.04081 | dice: 0.86630 | 0 cls: -0.88259 | 1 cls: -0.83969 | 2 cls: -0.72441\n"
     ]
    },
    {
     "name": "stderr",
     "output_type": "stream",
     "text": [
      "Epoch 123, lr 0.00017999999999999998: 100% 21/21 [00:11<00:00,  1.90it/s, 0 cls=-0.82648, 1 cls=-0.75711, 2 cls=-0.66438, bce=0.07730, dice=0.84022, loss=-0.76631]\n"
     ]
    },
    {
     "name": "stdout",
     "output_type": "stream",
     "text": [
      "loss: -0.83033 | bce: 0.04055 | dice: 0.86359 | 0 cls: -0.88128 | 1 cls: -0.83678 | 2 cls: -0.72105\n"
     ]
    },
    {
     "name": "stderr",
     "output_type": "stream",
     "text": [
      "Epoch 124, lr 0.00017999999999999998: 100% 21/21 [00:11<00:00,  1.90it/s, 0 cls=-0.82315, 1 cls=-0.75488, 2 cls=-0.65919, bce=0.07774, dice=0.83712, loss=-0.76305]\n"
     ]
    },
    {
     "name": "stdout",
     "output_type": "stream",
     "text": [
      "loss: -0.82642 | bce: 0.04188 | dice: 0.86184 | 0 cls: -0.88249 | 1 cls: -0.82802 | 2 cls: -0.71826\n"
     ]
    },
    {
     "name": "stderr",
     "output_type": "stream",
     "text": [
      "Epoch 125, lr 0.00017999999999999998: 100% 21/21 [00:11<00:00,  1.91it/s, 0 cls=-0.82097, 1 cls=-0.74874, 2 cls=-0.65611, bce=0.07873, dice=0.83478, loss=-0.75911]\n"
     ]
    },
    {
     "name": "stdout",
     "output_type": "stream",
     "text": [
      "loss: -0.83145 | bce: 0.04094 | dice: 0.86456 | 0 cls: -0.88229 | 1 cls: -0.83857 | 2 cls: -0.72200\n"
     ]
    },
    {
     "name": "stderr",
     "output_type": "stream",
     "text": [
      "Epoch 126, lr 0.00017999999999999998: 100% 21/21 [00:11<00:00,  1.89it/s, 0 cls=-0.82374, 1 cls=-0.75468, 2 cls=-0.66068, bce=0.07806, dice=0.83813, loss=-0.76350]\n"
     ]
    },
    {
     "name": "stdout",
     "output_type": "stream",
     "text": [
      "loss: -0.83206 | bce: 0.04181 | dice: 0.86695 | 0 cls: -0.88198 | 1 cls: -0.83844 | 2 cls: -0.72508\n"
     ]
    },
    {
     "name": "stderr",
     "output_type": "stream",
     "text": [
      "Epoch 127, lr 0.00017999999999999998: 100% 21/21 [00:11<00:00,  1.90it/s, 0 cls=-0.82677, 1 cls=-0.75620, 2 cls=-0.66439, bce=0.07670, dice=0.83959, loss=-0.76606]\n"
     ]
    },
    {
     "name": "stdout",
     "output_type": "stream",
     "text": [
      "loss: -0.83018 | bce: 0.03961 | dice: 0.86234 | 0 cls: -0.87832 | 1 cls: -0.83905 | 2 cls: -0.72156\n"
     ]
    },
    {
     "name": "stderr",
     "output_type": "stream",
     "text": [
      "Epoch 128, lr 0.00017999999999999998: 100% 21/21 [00:10<00:00,  1.91it/s, 0 cls=-0.82130, 1 cls=-0.75401, 2 cls=-0.66186, bce=0.07758, dice=0.83678, loss=-0.76249]\n"
     ]
    },
    {
     "name": "stdout",
     "output_type": "stream",
     "text": [
      "loss: -0.83002 | bce: 0.04022 | dice: 0.86370 | 0 cls: -0.88208 | 1 cls: -0.83478 | 2 cls: -0.72082\n"
     ]
    },
    {
     "name": "stderr",
     "output_type": "stream",
     "text": [
      "Epoch 129, lr 0.00017999999999999998: 100% 21/21 [00:10<00:00,  1.91it/s, 0 cls=-0.83254, 1 cls=-0.76230, 2 cls=-0.67004, bce=0.07525, dice=0.84379, loss=-0.77194]\n"
     ]
    },
    {
     "name": "stdout",
     "output_type": "stream",
     "text": [
      "loss: -0.83096 | bce: 0.03941 | dice: 0.86307 | 0 cls: -0.88110 | 1 cls: -0.83790 | 2 cls: -0.72146\n"
     ]
    },
    {
     "name": "stderr",
     "output_type": "stream",
     "text": [
      "Epoch 130, lr 0.00017999999999999998: 100% 21/21 [00:10<00:00,  1.91it/s, 0 cls=-0.82896, 1 cls=-0.75799, 2 cls=-0.66740, bce=0.07647, dice=0.84173, loss=-0.76826]\n"
     ]
    },
    {
     "name": "stdout",
     "output_type": "stream",
     "text": [
      "loss: -0.83260 | bce: 0.03913 | dice: 0.86445 | 0 cls: -0.88258 | 1 cls: -0.83902 | 2 cls: -0.72420\n"
     ]
    },
    {
     "name": "stderr",
     "output_type": "stream",
     "text": [
      "Epoch 131, lr 0.00017999999999999998: 100% 21/21 [00:11<00:00,  1.89it/s, 0 cls=-0.82593, 1 cls=-0.75395, 2 cls=-0.66222, bce=0.07774, dice=0.83904, loss=-0.76440]\n"
     ]
    },
    {
     "name": "stdout",
     "output_type": "stream",
     "text": [
      "loss: -0.82950 | bce: 0.03879 | dice: 0.86097 | 0 cls: -0.87935 | 1 cls: -0.83766 | 2 cls: -0.71907\n"
     ]
    },
    {
     "name": "stderr",
     "output_type": "stream",
     "text": [
      "Epoch 132, lr 0.00017999999999999998: 100% 21/21 [00:11<00:00,  1.86it/s, 0 cls=-0.83210, 1 cls=-0.75947, 2 cls=-0.67035, bce=0.07493, dice=0.84283, loss=-0.77070]\n"
     ]
    },
    {
     "name": "stdout",
     "output_type": "stream",
     "text": [
      "loss: -0.83214 | bce: 0.04017 | dice: 0.86519 | 0 cls: -0.88159 | 1 cls: -0.83908 | 2 cls: -0.72451\n"
     ]
    },
    {
     "name": "stderr",
     "output_type": "stream",
     "text": [
      "Epoch 133, lr 0.00017999999999999998: 100% 21/21 [00:11<00:00,  1.86it/s, 0 cls=-0.82593, 1 cls=-0.75469, 2 cls=-0.66222, bce=0.07645, dice=0.83798, loss=-0.76469]\n"
     ]
    },
    {
     "name": "stdout",
     "output_type": "stream",
     "text": [
      "loss: -0.83185 | bce: 0.04077 | dice: 0.86535 | 0 cls: -0.88174 | 1 cls: -0.83832 | 2 cls: -0.72358\n"
     ]
    },
    {
     "name": "stderr",
     "output_type": "stream",
     "text": [
      "Epoch 134, lr 0.00017999999999999998: 100% 21/21 [00:10<00:00,  1.92it/s, 0 cls=-0.82672, 1 cls=-0.75469, 2 cls=-0.66122, bce=0.07730, dice=0.83870, loss=-0.76481]\n"
     ]
    },
    {
     "name": "stdout",
     "output_type": "stream",
     "text": [
      "loss: -0.82972 | bce: 0.03967 | dice: 0.86234 | 0 cls: -0.88183 | 1 cls: -0.83468 | 2 cls: -0.72126\n"
     ]
    },
    {
     "name": "stderr",
     "output_type": "stream",
     "text": [
      "Epoch 135, lr 0.00017999999999999998: 100% 21/21 [00:11<00:00,  1.90it/s, 0 cls=-0.82564, 1 cls=-0.75402, 2 cls=-0.66200, bce=0.07785, dice=0.83904, loss=-0.76427]\n"
     ]
    },
    {
     "name": "stdout",
     "output_type": "stream",
     "text": [
      "loss: -0.82888 | bce: 0.04290 | dice: 0.86559 | 0 cls: -0.88336 | 1 cls: -0.83106 | 2 cls: -0.72139\n"
     ]
    },
    {
     "name": "stderr",
     "output_type": "stream",
     "text": [
      "Epoch 136, lr 0.00017999999999999998: 100% 21/21 [00:11<00:00,  1.87it/s, 0 cls=-0.82771, 1 cls=-0.75585, 2 cls=-0.66496, bce=0.07670, dice=0.84017, loss=-0.76642]\n"
     ]
    },
    {
     "name": "stdout",
     "output_type": "stream",
     "text": [
      "loss: -0.82638 | bce: 0.04078 | dice: 0.85830 | 0 cls: -0.87396 | 1 cls: -0.83841 | 2 cls: -0.71280\n"
     ]
    },
    {
     "name": "stderr",
     "output_type": "stream",
     "text": [
      "Epoch 137, lr 0.00017999999999999998: 100% 21/21 [00:10<00:00,  1.92it/s, 0 cls=-0.82670, 1 cls=-0.75567, 2 cls=-0.66347, bce=0.07660, dice=0.83912, loss=-0.76564]\n"
     ]
    },
    {
     "name": "stdout",
     "output_type": "stream",
     "text": [
      "loss: -0.83032 | bce: 0.04269 | dice: 0.86570 | 0 cls: -0.88243 | 1 cls: -0.83504 | 2 cls: -0.72228\n"
     ]
    },
    {
     "name": "stderr",
     "output_type": "stream",
     "text": [
      "Epoch 138, lr 0.00017999999999999998: 100% 21/21 [00:11<00:00,  1.87it/s, 0 cls=-0.82928, 1 cls=-0.75954, 2 cls=-0.66724, bce=0.07498, dice=0.84058, loss=-0.76898]\n"
     ]
    },
    {
     "name": "stdout",
     "output_type": "stream",
     "text": [
      "loss: -0.83333 | bce: 0.03866 | dice: 0.86460 | 0 cls: -0.88296 | 1 cls: -0.84078 | 2 cls: -0.72407\n"
     ]
    },
    {
     "name": "stderr",
     "output_type": "stream",
     "text": [
      "Epoch 139, lr 0.00017999999999999998: 100% 21/21 [00:11<00:00,  1.90it/s, 0 cls=-0.82683, 1 cls=-0.75843, 2 cls=-0.66562, bce=0.07692, dice=0.84075, loss=-0.76723]\n"
     ]
    },
    {
     "name": "stdout",
     "output_type": "stream",
     "text": [
      "loss: -0.83253 | bce: 0.04092 | dice: 0.86602 | 0 cls: -0.88226 | 1 cls: -0.83974 | 2 cls: -0.72391\n"
     ]
    },
    {
     "name": "stderr",
     "output_type": "stream",
     "text": [
      "Epoch 140, lr 0.00017999999999999998: 100% 21/21 [00:11<00:00,  1.90it/s, 0 cls=-0.82916, 1 cls=-0.75776, 2 cls=-0.66772, bce=0.07583, dice=0.84116, loss=-0.76831]\n"
     ]
    },
    {
     "name": "stdout",
     "output_type": "stream",
     "text": [
      "loss: -0.83163 | bce: 0.04059 | dice: 0.86466 | 0 cls: -0.88087 | 1 cls: -0.83926 | 2 cls: -0.72203\n"
     ]
    },
    {
     "name": "stderr",
     "output_type": "stream",
     "text": [
      "Epoch 141, lr 0.00017999999999999998: 100% 21/21 [00:10<00:00,  1.92it/s, 0 cls=-0.83162, 1 cls=-0.76270, 2 cls=-0.67248, bce=0.07480, dice=0.84389, loss=-0.77222]\n"
     ]
    },
    {
     "name": "stdout",
     "output_type": "stream",
     "text": [
      "loss: -0.83265 | bce: 0.03991 | dice: 0.86496 | 0 cls: -0.88054 | 1 cls: -0.84154 | 2 cls: -0.72434\n"
     ]
    },
    {
     "name": "stderr",
     "output_type": "stream",
     "text": [
      "Epoch 142, lr 0.00017999999999999998: 100% 21/21 [00:11<00:00,  1.88it/s, 0 cls=-0.82458, 1 cls=-0.75806, 2 cls=-0.66861, bce=0.07646, dice=0.84006, loss=-0.76678]\n"
     ]
    },
    {
     "name": "stdout",
     "output_type": "stream",
     "text": [
      "loss: -0.83465 | bce: 0.04226 | dice: 0.86957 | 0 cls: -0.88351 | 1 cls: -0.84187 | 2 cls: -0.72752\n"
     ]
    },
    {
     "name": "stderr",
     "output_type": "stream",
     "text": [
      "Epoch 143, lr 0.00017999999999999998: 100% 21/21 [00:11<00:00,  1.86it/s, 0 cls=-0.81955, 1 cls=-0.75148, 2 cls=-0.65826, bce=0.07886, dice=0.83558, loss=-0.76006]\n"
     ]
    },
    {
     "name": "stdout",
     "output_type": "stream",
     "text": [
      "loss: -0.82765 | bce: 0.04278 | dice: 0.86378 | 0 cls: -0.88232 | 1 cls: -0.83038 | 2 cls: -0.71936\n"
     ]
    },
    {
     "name": "stderr",
     "output_type": "stream",
     "text": [
      "Epoch 144, lr 0.00017999999999999998: 100% 21/21 [00:11<00:00,  1.89it/s, 0 cls=-0.82972, 1 cls=-0.75734, 2 cls=-0.66798, bce=0.07628, dice=0.84186, loss=-0.76842]\n"
     ]
    },
    {
     "name": "stdout",
     "output_type": "stream",
     "text": [
      "loss: -0.83211 | bce: 0.04151 | dice: 0.86617 | 0 cls: -0.88097 | 1 cls: -0.84016 | 2 cls: -0.72317\n"
     ]
    },
    {
     "name": "stderr",
     "output_type": "stream",
     "text": [
      "Epoch 145, lr 0.00017999999999999998: 100% 21/21 [00:11<00:00,  1.89it/s, 0 cls=-0.82731, 1 cls=-0.75660, 2 cls=-0.66736, bce=0.07675, dice=0.84104, loss=-0.76704]\n"
     ]
    },
    {
     "name": "stdout",
     "output_type": "stream",
     "text": [
      "loss: -0.83420 | bce: 0.04129 | dice: 0.86911 | 0 cls: -0.88550 | 1 cls: -0.83842 | 2 cls: -0.72748\n"
     ]
    },
    {
     "name": "stderr",
     "output_type": "stream",
     "text": [
      "Epoch 146, lr 0.00017999999999999998: 100% 21/21 [00:10<00:00,  1.92it/s, 0 cls=-0.83019, 1 cls=-0.75862, 2 cls=-0.66718, bce=0.07621, dice=0.84195, loss=-0.76896]\n"
     ]
    },
    {
     "name": "stdout",
     "output_type": "stream",
     "text": [
      "loss: -0.83188 | bce: 0.03956 | dice: 0.86434 | 0 cls: -0.88298 | 1 cls: -0.83720 | 2 cls: -0.72400\n"
     ]
    },
    {
     "name": "stderr",
     "output_type": "stream",
     "text": [
      "Epoch 147, lr 0.00017999999999999998: 100% 21/21 [00:11<00:00,  1.90it/s, 0 cls=-0.82765, 1 cls=-0.75842, 2 cls=-0.66823, bce=0.07621, dice=0.84134, loss=-0.76807]\n"
     ]
    },
    {
     "name": "stdout",
     "output_type": "stream",
     "text": [
      "loss: -0.82854 | bce: 0.04070 | dice: 0.86228 | 0 cls: -0.88152 | 1 cls: -0.83237 | 2 cls: -0.72030\n"
     ]
    },
    {
     "name": "stderr",
     "output_type": "stream",
     "text": [
      "Epoch 148, lr 0.00017999999999999998: 100% 21/21 [00:10<00:00,  1.92it/s, 0 cls=-0.82659, 1 cls=-0.75636, 2 cls=-0.66470, bce=0.07700, dice=0.83987, loss=-0.76612]\n"
     ]
    },
    {
     "name": "stdout",
     "output_type": "stream",
     "text": [
      "loss: -0.82312 | bce: 0.04360 | dice: 0.85830 | 0 cls: -0.87227 | 1 cls: -0.83384 | 2 cls: -0.70880\n"
     ]
    },
    {
     "name": "stderr",
     "output_type": "stream",
     "text": [
      "Epoch 149, lr 0.00017999999999999998: 100% 21/21 [00:11<00:00,  1.87it/s, 0 cls=-0.82588, 1 cls=-0.75542, 2 cls=-0.66426, bce=0.07739, dice=0.83976, loss=-0.76537]\n"
     ]
    },
    {
     "name": "stdout",
     "output_type": "stream",
     "text": [
      "loss: -0.83159 | bce: 0.04234 | dice: 0.86655 | 0 cls: -0.88200 | 1 cls: -0.83749 | 2 cls: -0.72378\n"
     ]
    },
    {
     "name": "stderr",
     "output_type": "stream",
     "text": [
      "Epoch 150, lr 0.00017999999999999998: 100% 21/21 [00:11<00:00,  1.89it/s, 0 cls=-0.82574, 1 cls=-0.75851, 2 cls=-0.66677, bce=0.07672, dice=0.84035, loss=-0.76705]\n"
     ]
    },
    {
     "name": "stdout",
     "output_type": "stream",
     "text": [
      "loss: -0.83195 | bce: 0.03970 | dice: 0.86448 | 0 cls: -0.88213 | 1 cls: -0.83902 | 2 cls: -0.72355\n"
     ]
    },
    {
     "name": "stderr",
     "output_type": "stream",
     "text": [
      "Epoch 151, lr 0.00017999999999999998: 100% 21/21 [00:11<00:00,  1.87it/s, 0 cls=-0.82448, 1 cls=-0.75345, 2 cls=-0.66112, bce=0.07788, dice=0.83816, loss=-0.76339]\n"
     ]
    },
    {
     "name": "stdout",
     "output_type": "stream",
     "text": [
      "loss: -0.83189 | bce: 0.03797 | dice: 0.86195 | 0 cls: -0.88121 | 1 cls: -0.83989 | 2 cls: -0.72213\n"
     ]
    },
    {
     "name": "stderr",
     "output_type": "stream",
     "text": [
      "Epoch 152, lr 0.00017999999999999998: 100% 21/21 [00:11<00:00,  1.90it/s, 0 cls=-0.83157, 1 cls=-0.76177, 2 cls=-0.67166, bce=0.07432, dice=0.84284, loss=-0.77167]\n"
     ]
    },
    {
     "name": "stdout",
     "output_type": "stream",
     "text": [
      "loss: -0.83253 | bce: 0.03870 | dice: 0.86402 | 0 cls: -0.88244 | 1 cls: -0.83910 | 2 cls: -0.72462\n"
     ]
    },
    {
     "name": "stderr",
     "output_type": "stream",
     "text": [
      "Epoch 153, lr 0.00017999999999999998: 100% 21/21 [00:10<00:00,  1.94it/s, 0 cls=-0.83096, 1 cls=-0.75889, 2 cls=-0.66726, bce=0.07546, dice=0.84163, loss=-0.76939]\n"
     ]
    },
    {
     "name": "stdout",
     "output_type": "stream",
     "text": [
      "loss: -0.83117 | bce: 0.03956 | dice: 0.86361 | 0 cls: -0.88206 | 1 cls: -0.83749 | 2 cls: -0.72236\n"
     ]
    },
    {
     "name": "stderr",
     "output_type": "stream",
     "text": [
      "Epoch 154, lr 0.00017999999999999998: 100% 21/21 [00:11<00:00,  1.89it/s, 0 cls=-0.82474, 1 cls=-0.75773, 2 cls=-0.66289, bce=0.07747, dice=0.83939, loss=-0.76557]\n"
     ]
    },
    {
     "name": "stdout",
     "output_type": "stream",
     "text": [
      "loss: -0.83048 | bce: 0.04069 | dice: 0.86295 | 0 cls: -0.87909 | 1 cls: -0.83936 | 2 cls: -0.72071\n"
     ]
    },
    {
     "name": "stderr",
     "output_type": "stream",
     "text": [
      "Epoch 155, lr 0.00017999999999999998: 100% 21/21 [00:10<00:00,  1.93it/s, 0 cls=-0.82992, 1 cls=-0.76040, 2 cls=-0.67146, bce=0.07563, dice=0.84301, loss=-0.77042]\n"
     ]
    },
    {
     "name": "stdout",
     "output_type": "stream",
     "text": [
      "loss: -0.82909 | bce: 0.03924 | dice: 0.86070 | 0 cls: -0.87785 | 1 cls: -0.83755 | 2 cls: -0.71908\n"
     ]
    },
    {
     "name": "stderr",
     "output_type": "stream",
     "text": [
      "Epoch 156, lr 0.00017999999999999998: 100% 21/21 [00:11<00:00,  1.89it/s, 0 cls=-0.82390, 1 cls=-0.75541, 2 cls=-0.66352, bce=0.07760, dice=0.83888, loss=-0.76443]\n"
     ]
    },
    {
     "name": "stdout",
     "output_type": "stream",
     "text": [
      "loss: -0.83297 | bce: 0.04025 | dice: 0.86578 | 0 cls: -0.88127 | 1 cls: -0.84134 | 2 cls: -0.72539\n"
     ]
    },
    {
     "name": "stderr",
     "output_type": "stream",
     "text": [
      "Epoch 157, lr 0.00017999999999999998: 100% 21/21 [00:11<00:00,  1.89it/s, 0 cls=-0.83106, 1 cls=-0.76049, 2 cls=-0.67061, bce=0.07519, dice=0.84283, loss=-0.77074]\n"
     ]
    },
    {
     "name": "stdout",
     "output_type": "stream",
     "text": [
      "loss: -0.83349 | bce: 0.03931 | dice: 0.86575 | 0 cls: -0.88282 | 1 cls: -0.84045 | 2 cls: -0.72546\n"
     ]
    },
    {
     "name": "stderr",
     "output_type": "stream",
     "text": [
      "Epoch 158, lr 0.00017999999999999998: 100% 21/21 [00:11<00:00,  1.87it/s, 0 cls=-0.82575, 1 cls=-0.75736, 2 cls=-0.66302, bce=0.07750, dice=0.83974, loss=-0.76585]\n"
     ]
    },
    {
     "name": "stdout",
     "output_type": "stream",
     "text": [
      "loss: -0.83013 | bce: 0.04086 | dice: 0.86435 | 0 cls: -0.88266 | 1 cls: -0.83443 | 2 cls: -0.72257\n"
     ]
    },
    {
     "name": "stderr",
     "output_type": "stream",
     "text": [
      "Epoch 159, lr 0.00017999999999999998: 100% 21/21 [00:11<00:00,  1.88it/s, 0 cls=-0.82967, 1 cls=-0.75817, 2 cls=-0.67110, bce=0.07465, dice=0.84148, loss=-0.76936]\n"
     ]
    },
    {
     "name": "stdout",
     "output_type": "stream",
     "text": [
      "loss: -0.83248 | bce: 0.04101 | dice: 0.86628 | 0 cls: -0.88339 | 1 cls: -0.83808 | 2 cls: -0.72444\n"
     ]
    },
    {
     "name": "stderr",
     "output_type": "stream",
     "text": [
      "Epoch 160, lr 0.00017999999999999998: 100% 21/21 [00:10<00:00,  1.92it/s, 0 cls=-0.82589, 1 cls=-0.75710, 2 cls=-0.66650, bce=0.07710, dice=0.84052, loss=-0.76650]\n"
     ]
    },
    {
     "name": "stdout",
     "output_type": "stream",
     "text": [
      "loss: -0.83291 | bce: 0.04223 | dice: 0.86811 | 0 cls: -0.88163 | 1 cls: -0.84045 | 2 cls: -0.72630\n"
     ]
    },
    {
     "name": "stderr",
     "output_type": "stream",
     "text": [
      "Epoch 161, lr 0.00017999999999999998: 100% 21/21 [00:11<00:00,  1.86it/s, 0 cls=-0.83188, 1 cls=-0.75965, 2 cls=-0.67099, bce=0.07535, dice=0.84339, loss=-0.77081]\n"
     ]
    },
    {
     "name": "stdout",
     "output_type": "stream",
     "text": [
      "loss: -0.82898 | bce: 0.04125 | dice: 0.86315 | 0 cls: -0.88125 | 1 cls: -0.83431 | 2 cls: -0.71896\n"
     ]
    },
    {
     "name": "stderr",
     "output_type": "stream",
     "text": [
      "Epoch 162, lr 0.00017999999999999998: 100% 21/21 [00:11<00:00,  1.84it/s, 0 cls=-0.82685, 1 cls=-0.76030, 2 cls=-0.66868, bce=0.07561, dice=0.84081, loss=-0.76860]\n"
     ]
    },
    {
     "name": "stdout",
     "output_type": "stream",
     "text": [
      "loss: -0.83129 | bce: 0.04029 | dice: 0.86381 | 0 cls: -0.88080 | 1 cls: -0.83853 | 2 cls: -0.72352\n"
     ]
    },
    {
     "name": "stderr",
     "output_type": "stream",
     "text": [
      "Epoch 163, lr 0.00017999999999999998: 100% 21/21 [00:11<00:00,  1.89it/s, 0 cls=-0.82670, 1 cls=-0.75629, 2 cls=-0.66570, bce=0.07636, dice=0.83963, loss=-0.76634]\n"
     ]
    },
    {
     "name": "stdout",
     "output_type": "stream",
     "text": [
      "loss: -0.82979 | bce: 0.03881 | dice: 0.86068 | 0 cls: -0.87763 | 1 cls: -0.83937 | 2 cls: -0.72069\n"
     ]
    },
    {
     "name": "stderr",
     "output_type": "stream",
     "text": [
      "Epoch 164, lr 0.00017999999999999998: 100% 21/21 [00:10<00:00,  1.92it/s, 0 cls=-0.83224, 1 cls=-0.76424, 2 cls=-0.67187, bce=0.07394, dice=0.84340, loss=-0.77297]\n"
     ]
    },
    {
     "name": "stdout",
     "output_type": "stream",
     "text": [
      "loss: -0.83213 | bce: 0.04085 | dice: 0.86597 | 0 cls: -0.88194 | 1 cls: -0.83905 | 2 cls: -0.72407\n"
     ]
    },
    {
     "name": "stderr",
     "output_type": "stream",
     "text": [
      "Epoch 165, lr 0.00017999999999999998: 100% 21/21 [00:11<00:00,  1.89it/s, 0 cls=-0.82089, 1 cls=-0.75430, 2 cls=-0.66267, bce=0.07917, dice=0.83862, loss=-0.76261]\n"
     ]
    },
    {
     "name": "stdout",
     "output_type": "stream",
     "text": [
      "loss: -0.83244 | bce: 0.04085 | dice: 0.86701 | 0 cls: -0.88528 | 1 cls: -0.83544 | 2 cls: -0.72639\n"
     ]
    },
    {
     "name": "stderr",
     "output_type": "stream",
     "text": [
      "Epoch 166, lr 0.00017999999999999998: 100% 21/21 [00:10<00:00,  1.93it/s, 0 cls=-0.83056, 1 cls=-0.76176, 2 cls=-0.67140, bce=0.07591, dice=0.84407, loss=-0.77121]\n"
     ]
    },
    {
     "name": "stdout",
     "output_type": "stream",
     "text": [
      "loss: -0.82841 | bce: 0.03988 | dice: 0.86162 | 0 cls: -0.88069 | 1 cls: -0.83384 | 2 cls: -0.71760\n"
     ]
    },
    {
     "name": "stderr",
     "output_type": "stream",
     "text": [
      "Epoch 167, lr 0.00017999999999999998: 100% 21/21 [00:11<00:00,  1.88it/s, 0 cls=-0.82674, 1 cls=-0.75718, 2 cls=-0.66571, bce=0.07595, dice=0.83947, loss=-0.76671]\n"
     ]
    },
    {
     "name": "stdout",
     "output_type": "stream",
     "text": [
      "loss: -0.82988 | bce: 0.04002 | dice: 0.86288 | 0 cls: -0.88078 | 1 cls: -0.83695 | 2 cls: -0.72092\n"
     ]
    },
    {
     "name": "stderr",
     "output_type": "stream",
     "text": [
      "Epoch 168, lr 0.00017999999999999998: 100% 21/21 [00:11<00:00,  1.89it/s, 0 cls=-0.83103, 1 cls=-0.76251, 2 cls=-0.66996, bce=0.07508, dice=0.84294, loss=-0.77141]\n"
     ]
    },
    {
     "name": "stdout",
     "output_type": "stream",
     "text": [
      "loss: -0.83421 | bce: 0.03990 | dice: 0.86709 | 0 cls: -0.88462 | 1 cls: -0.83990 | 2 cls: -0.72708\n"
     ]
    },
    {
     "name": "stderr",
     "output_type": "stream",
     "text": [
      "Epoch 169, lr 0.00017999999999999998: 100% 21/21 [00:11<00:00,  1.86it/s, 0 cls=-0.82780, 1 cls=-0.75804, 2 cls=-0.66866, bce=0.07638, dice=0.84151, loss=-0.76807]\n"
     ]
    },
    {
     "name": "stdout",
     "output_type": "stream",
     "text": [
      "loss: -0.82967 | bce: 0.03905 | dice: 0.86140 | 0 cls: -0.88064 | 1 cls: -0.83651 | 2 cls: -0.71976\n"
     ]
    },
    {
     "name": "stderr",
     "output_type": "stream",
     "text": [
      "Epoch 170, lr 0.00017999999999999998: 100% 21/21 [00:11<00:00,  1.90it/s, 0 cls=-0.82592, 1 cls=-0.75841, 2 cls=-0.66716, bce=0.07707, dice=0.84099, loss=-0.76716]\n"
     ]
    },
    {
     "name": "stdout",
     "output_type": "stream",
     "text": [
      "loss: -0.82763 | bce: 0.04088 | dice: 0.86162 | 0 cls: -0.87837 | 1 cls: -0.83639 | 2 cls: -0.71766\n"
     ]
    },
    {
     "name": "stderr",
     "output_type": "stream",
     "text": [
      "Epoch 171, lr 0.00017999999999999998: 100% 21/21 [00:11<00:00,  1.90it/s, 0 cls=-0.83073, 1 cls=-0.76220, 2 cls=-0.67228, bce=0.07504, dice=0.84362, loss=-0.77163]\n"
     ]
    },
    {
     "name": "stdout",
     "output_type": "stream",
     "text": [
      "loss: -0.83154 | bce: 0.03753 | dice: 0.86192 | 0 cls: -0.88190 | 1 cls: -0.83857 | 2 cls: -0.72147\n"
     ]
    },
    {
     "name": "stderr",
     "output_type": "stream",
     "text": [
      "Epoch 172, lr 0.00017999999999999998: 100% 21/21 [00:11<00:00,  1.88it/s, 0 cls=-0.82576, 1 cls=-0.75291, 2 cls=-0.66068, bce=0.07749, dice=0.83793, loss=-0.76360]\n"
     ]
    },
    {
     "name": "stdout",
     "output_type": "stream",
     "text": [
      "loss: -0.83040 | bce: 0.03913 | dice: 0.86174 | 0 cls: -0.88075 | 1 cls: -0.83743 | 2 cls: -0.72090\n"
     ]
    },
    {
     "name": "stderr",
     "output_type": "stream",
     "text": [
      "Epoch 173, lr 0.00017999999999999998: 100% 21/21 [00:11<00:00,  1.91it/s, 0 cls=-0.83020, 1 cls=-0.75753, 2 cls=-0.66925, bce=0.07596, dice=0.84224, loss=-0.76894]\n"
     ]
    },
    {
     "name": "stdout",
     "output_type": "stream",
     "text": [
      "loss: -0.83464 | bce: 0.03780 | dice: 0.86499 | 0 cls: -0.88354 | 1 cls: -0.84214 | 2 cls: -0.72705\n"
     ]
    },
    {
     "name": "stderr",
     "output_type": "stream",
     "text": [
      "Epoch 174, lr 0.00017999999999999998: 100% 21/21 [00:11<00:00,  1.87it/s, 0 cls=-0.83044, 1 cls=-0.75848, 2 cls=-0.66809, bce=0.07623, dice=0.84236, loss=-0.76919]\n"
     ]
    },
    {
     "name": "stdout",
     "output_type": "stream",
     "text": [
      "loss: -0.83313 | bce: 0.04008 | dice: 0.86642 | 0 cls: -0.88344 | 1 cls: -0.83951 | 2 cls: -0.72591\n"
     ]
    },
    {
     "name": "stderr",
     "output_type": "stream",
     "text": [
      "Epoch 175, lr 0.00017999999999999998: 100% 21/21 [00:11<00:00,  1.89it/s, 0 cls=-0.83394, 1 cls=-0.76533, 2 cls=-0.67529, bce=0.07427, dice=0.84588, loss=-0.77476]\n"
     ]
    },
    {
     "name": "stdout",
     "output_type": "stream",
     "text": [
      "loss: -0.83351 | bce: 0.03941 | dice: 0.86597 | 0 cls: -0.88416 | 1 cls: -0.83949 | 2 cls: -0.72639\n"
     ]
    },
    {
     "name": "stderr",
     "output_type": "stream",
     "text": [
      "Epoch 176, lr 0.00017999999999999998: 100% 21/21 [00:11<00:00,  1.87it/s, 0 cls=-0.83121, 1 cls=-0.76224, 2 cls=-0.67194, bce=0.07539, dice=0.84393, loss=-0.77177]\n"
     ]
    },
    {
     "name": "stdout",
     "output_type": "stream",
     "text": [
      "loss: -0.82923 | bce: 0.03935 | dice: 0.86077 | 0 cls: -0.87882 | 1 cls: -0.83694 | 2 cls: -0.71906\n"
     ]
    },
    {
     "name": "stderr",
     "output_type": "stream",
     "text": [
      "Epoch 177, lr 0.00017999999999999998: 100% 21/21 [00:11<00:00,  1.89it/s, 0 cls=-0.83031, 1 cls=-0.75805, 2 cls=-0.66600, bce=0.07652, dice=0.84191, loss=-0.76854]\n"
     ]
    },
    {
     "name": "stdout",
     "output_type": "stream",
     "text": [
      "loss: -0.83127 | bce: 0.03874 | dice: 0.86246 | 0 cls: -0.88114 | 1 cls: -0.83848 | 2 cls: -0.72135\n"
     ]
    },
    {
     "name": "stderr",
     "output_type": "stream",
     "text": [
      "Epoch 178, lr 0.00017999999999999998: 100% 21/21 [00:10<00:00,  1.91it/s, 0 cls=-0.83010, 1 cls=-0.76309, 2 cls=-0.67245, bce=0.07409, dice=0.84249, loss=-0.77177]\n"
     ]
    },
    {
     "name": "stdout",
     "output_type": "stream",
     "text": [
      "loss: -0.83078 | bce: 0.04019 | dice: 0.86297 | 0 cls: -0.88136 | 1 cls: -0.83772 | 2 cls: -0.72012\n"
     ]
    },
    {
     "name": "stderr",
     "output_type": "stream",
     "text": [
      "Epoch 179, lr 0.00017999999999999998: 100% 21/21 [00:11<00:00,  1.86it/s, 0 cls=-0.83111, 1 cls=-0.76692, 2 cls=-0.67419, bce=0.07456, dice=0.84485, loss=-0.77405]\n"
     ]
    },
    {
     "name": "stdout",
     "output_type": "stream",
     "text": [
      "loss: -0.82684 | bce: 0.04378 | dice: 0.86350 | 0 cls: -0.87763 | 1 cls: -0.83426 | 2 cls: -0.71634\n"
     ]
    },
    {
     "name": "stderr",
     "output_type": "stream",
     "text": [
      "Epoch 180, lr 0.00017999999999999998: 100% 21/21 [00:11<00:00,  1.89it/s, 0 cls=-0.83125, 1 cls=-0.76247, 2 cls=-0.67039, bce=0.07571, dice=0.84386, loss=-0.77157]\n"
     ]
    },
    {
     "name": "stdout",
     "output_type": "stream",
     "text": [
      "loss: -0.83210 | bce: 0.03839 | dice: 0.86282 | 0 cls: -0.88150 | 1 cls: -0.84048 | 2 cls: -0.72189\n"
     ]
    },
    {
     "name": "stderr",
     "output_type": "stream",
     "text": [
      "Epoch 181, lr 0.00017999999999999998: 100% 21/21 [00:11<00:00,  1.89it/s, 0 cls=-0.82746, 1 cls=-0.75768, 2 cls=-0.66634, bce=0.07665, dice=0.84086, loss=-0.76732]\n"
     ]
    },
    {
     "name": "stdout",
     "output_type": "stream",
     "text": [
      "loss: -0.82867 | bce: 0.03936 | dice: 0.85987 | 0 cls: -0.87768 | 1 cls: -0.83686 | 2 cls: -0.71883\n"
     ]
    },
    {
     "name": "stderr",
     "output_type": "stream",
     "text": [
      "Epoch 182, lr 0.00017999999999999998: 100% 21/21 [00:10<00:00,  1.94it/s, 0 cls=-0.82972, 1 cls=-0.76007, 2 cls=-0.66869, bce=0.07602, dice=0.84241, loss=-0.76966]\n"
     ]
    },
    {
     "name": "stdout",
     "output_type": "stream",
     "text": [
      "loss: -0.82812 | bce: 0.04057 | dice: 0.86176 | 0 cls: -0.88152 | 1 cls: -0.83302 | 2 cls: -0.71717\n"
     ]
    },
    {
     "name": "stderr",
     "output_type": "stream",
     "text": [
      "Epoch 183, lr 0.00017999999999999998: 100% 21/21 [00:11<00:00,  1.90it/s, 0 cls=-0.82720, 1 cls=-0.75651, 2 cls=-0.66526, bce=0.07671, dice=0.84013, loss=-0.76654]\n"
     ]
    },
    {
     "name": "stdout",
     "output_type": "stream",
     "text": [
      "loss: -0.83073 | bce: 0.04072 | dice: 0.86278 | 0 cls: -0.87731 | 1 cls: -0.84162 | 2 cls: -0.72088\n"
     ]
    },
    {
     "name": "stderr",
     "output_type": "stream",
     "text": [
      "Epoch 184, lr 0.00017999999999999998: 100% 21/21 [00:11<00:00,  1.86it/s, 0 cls=-0.82835, 1 cls=-0.76018, 2 cls=-0.66623, bce=0.07667, dice=0.84172, loss=-0.76866]\n"
     ]
    },
    {
     "name": "stdout",
     "output_type": "stream",
     "text": [
      "loss: -0.83249 | bce: 0.04114 | dice: 0.86608 | 0 cls: -0.88326 | 1 cls: -0.83878 | 2 cls: -0.72432\n"
     ]
    },
    {
     "name": "stderr",
     "output_type": "stream",
     "text": [
      "Epoch 185, lr 0.00017999999999999998: 100% 21/21 [00:11<00:00,  1.86it/s, 0 cls=-0.83260, 1 cls=-0.76246, 2 cls=-0.67208, bce=0.07598, dice=0.84531, loss=-0.77244]\n"
     ]
    },
    {
     "name": "stdout",
     "output_type": "stream",
     "text": [
      "loss: -0.83253 | bce: 0.03885 | dice: 0.86416 | 0 cls: -0.88230 | 1 cls: -0.83944 | 2 cls: -0.72355\n"
     ]
    },
    {
     "name": "stderr",
     "output_type": "stream",
     "text": [
      "Epoch 186, lr 0.00017999999999999998: 100% 21/21 [00:11<00:00,  1.89it/s, 0 cls=-0.82318, 1 cls=-0.75526, 2 cls=-0.66423, bce=0.07731, dice=0.83831, loss=-0.76422]\n"
     ]
    },
    {
     "name": "stdout",
     "output_type": "stream",
     "text": [
      "loss: -0.82884 | bce: 0.04106 | dice: 0.86275 | 0 cls: -0.88042 | 1 cls: -0.83427 | 2 cls: -0.71994\n"
     ]
    },
    {
     "name": "stderr",
     "output_type": "stream",
     "text": [
      "Epoch 187, lr 0.00017999999999999998: 100% 21/21 [00:11<00:00,  1.90it/s, 0 cls=-0.83068, 1 cls=-0.76127, 2 cls=-0.67088, bce=0.07545, dice=0.84329, loss=-0.77095]\n"
     ]
    },
    {
     "name": "stdout",
     "output_type": "stream",
     "text": [
      "loss: -0.82694 | bce: 0.04218 | dice: 0.85996 | 0 cls: -0.87434 | 1 cls: -0.83842 | 2 cls: -0.71457\n"
     ]
    },
    {
     "name": "stderr",
     "output_type": "stream",
     "text": [
      "Epoch 188, lr 0.00017999999999999998: 100% 21/21 [00:10<00:00,  1.92it/s, 0 cls=-0.83351, 1 cls=-0.76369, 2 cls=-0.67436, bce=0.07507, dice=0.84571, loss=-0.77375]\n"
     ]
    },
    {
     "name": "stdout",
     "output_type": "stream",
     "text": [
      "loss: -0.82965 | bce: 0.03881 | dice: 0.86055 | 0 cls: -0.87792 | 1 cls: -0.83855 | 2 cls: -0.72000\n"
     ]
    },
    {
     "name": "stderr",
     "output_type": "stream",
     "text": [
      "Epoch 189, lr 0.00017999999999999998: 100% 21/21 [00:11<00:00,  1.89it/s, 0 cls=-0.82622, 1 cls=-0.75822, 2 cls=-0.66657, bce=0.07616, dice=0.83995, loss=-0.76709]\n"
     ]
    },
    {
     "name": "stdout",
     "output_type": "stream",
     "text": [
      "loss: -0.83231 | bce: 0.03986 | dice: 0.86525 | 0 cls: -0.88328 | 1 cls: -0.83906 | 2 cls: -0.72306\n"
     ]
    },
    {
     "name": "stderr",
     "output_type": "stream",
     "text": [
      "Epoch 190, lr 0.0008: 100% 21/21 [00:11<00:00,  1.88it/s, 0 cls=-0.80908, 1 cls=-0.74055, 2 cls=-0.64029, bce=0.08280, dice=0.82666, loss=-0.74791]\n"
     ]
    },
    {
     "name": "stdout",
     "output_type": "stream",
     "text": [
      "loss: -0.82875 | bce: 0.04461 | dice: 0.86573 | 0 cls: -0.87756 | 1 cls: -0.83814 | 2 cls: -0.72002\n"
     ]
    },
    {
     "name": "stderr",
     "output_type": "stream",
     "text": [
      "Epoch 191, lr 0.0008: 100% 21/21 [00:10<00:00,  1.92it/s, 0 cls=-0.79771, 1 cls=-0.72994, 2 cls=-0.62905, bce=0.08833, dice=0.82163, loss=-0.73687]\n"
     ]
    },
    {
     "name": "stdout",
     "output_type": "stream",
     "text": [
      "loss: -0.79949 | bce: 0.04587 | dice: 0.83221 | 0 cls: -0.83906 | 1 cls: -0.82595 | 2 cls: -0.67602\n"
     ]
    },
    {
     "name": "stderr",
     "output_type": "stream",
     "text": [
      "Epoch 192, lr 0.00024: 100% 21/21 [00:11<00:00,  1.89it/s, 0 cls=-0.81448, 1 cls=-0.74940, 2 cls=-0.65024, bce=0.08032, dice=0.83175, loss=-0.75560]\n"
     ]
    },
    {
     "name": "stdout",
     "output_type": "stream",
     "text": [
      "loss: -0.82826 | bce: 0.04318 | dice: 0.86476 | 0 cls: -0.88211 | 1 cls: -0.83198 | 2 cls: -0.71993\n"
     ]
    },
    {
     "name": "stderr",
     "output_type": "stream",
     "text": [
      "Epoch 193, lr 0.00024: 100% 21/21 [00:10<00:00,  1.91it/s, 0 cls=-0.81885, 1 cls=-0.75331, 2 cls=-0.65927, bce=0.08043, dice=0.83754, loss=-0.76072]\n"
     ]
    },
    {
     "name": "stdout",
     "output_type": "stream",
     "text": [
      "loss: -0.82808 | bce: 0.04003 | dice: 0.86137 | 0 cls: -0.88134 | 1 cls: -0.83307 | 2 cls: -0.71926\n"
     ]
    },
    {
     "name": "stderr",
     "output_type": "stream",
     "text": [
      "Epoch 194, lr 7.2e-05: 100% 21/21 [00:10<00:00,  1.93it/s, 0 cls=-0.82859, 1 cls=-0.75810, 2 cls=-0.66803, bce=0.07556, dice=0.84071, loss=-0.76828]\n"
     ]
    },
    {
     "name": "stdout",
     "output_type": "stream",
     "text": [
      "loss: -0.83090 | bce: 0.04189 | dice: 0.86587 | 0 cls: -0.88285 | 1 cls: -0.83653 | 2 cls: -0.72285\n"
     ]
    },
    {
     "name": "stderr",
     "output_type": "stream",
     "text": [
      "Epoch 195, lr 0.0008: 100% 21/21 [00:10<00:00,  1.93it/s, 0 cls=-0.80649, 1 cls=-0.73679, 2 cls=-0.63249, bce=0.08495, dice=0.82445, loss=-0.74381]\n"
     ]
    },
    {
     "name": "stdout",
     "output_type": "stream",
     "text": [
      "loss: -0.80957 | bce: 0.04165 | dice: 0.84281 | 0 cls: -0.86301 | 1 cls: -0.82261 | 2 cls: -0.68552\n"
     ]
    },
    {
     "name": "stderr",
     "output_type": "stream",
     "text": [
      "Epoch 196, lr 0.0008: 100% 21/21 [00:10<00:00,  1.92it/s, 0 cls=-0.80105, 1 cls=-0.73858, 2 cls=-0.63746, bce=0.08487, dice=0.82391, loss=-0.74335]\n"
     ]
    },
    {
     "name": "stdout",
     "output_type": "stream",
     "text": [
      "loss: -0.79842 | bce: 0.05076 | dice: 0.84556 | 0 cls: -0.87595 | 1 cls: -0.78216 | 2 cls: -0.68226\n"
     ]
    },
    {
     "name": "stderr",
     "output_type": "stream",
     "text": [
      "Epoch 197, lr 0.00024: 100% 21/21 [00:11<00:00,  1.89it/s, 0 cls=-0.80846, 1 cls=-0.74127, 2 cls=-0.64610, bce=0.08309, dice=0.82877, loss=-0.74911]\n"
     ]
    },
    {
     "name": "stdout",
     "output_type": "stream",
     "text": [
      "loss: -0.82633 | bce: 0.03928 | dice: 0.85821 | 0 cls: -0.87778 | 1 cls: -0.83371 | 2 cls: -0.71401\n"
     ]
    },
    {
     "name": "stderr",
     "output_type": "stream",
     "text": [
      "Epoch 198, lr 0.00024: 100% 21/21 [00:10<00:00,  1.92it/s, 0 cls=-0.82880, 1 cls=-0.75813, 2 cls=-0.66712, bce=0.07654, dice=0.84162, loss=-0.76820]\n"
     ]
    },
    {
     "name": "stdout",
     "output_type": "stream",
     "text": [
      "loss: -0.83380 | bce: 0.03944 | dice: 0.86572 | 0 cls: -0.88269 | 1 cls: -0.84228 | 2 cls: -0.72519\n"
     ]
    },
    {
     "name": "stderr",
     "output_type": "stream",
     "text": [
      "Epoch 199, lr 7.2e-05: 100% 21/21 [00:11<00:00,  1.88it/s, 0 cls=-0.82759, 1 cls=-0.76062, 2 cls=-0.66684, bce=0.07669, dice=0.84163, loss=-0.76865]\n"
     ]
    },
    {
     "name": "stdout",
     "output_type": "stream",
     "text": [
      "loss: -0.83423 | bce: 0.03895 | dice: 0.86586 | 0 cls: -0.88305 | 1 cls: -0.84222 | 2 cls: -0.72601\n"
     ]
    },
    {
     "name": "stderr",
     "output_type": "stream",
     "text": [
      "Epoch 200, lr 0.00010799999999999998: 100% 21/21 [00:11<00:00,  1.90it/s, 0 cls=-0.82881, 1 cls=-0.76180, 2 cls=-0.66898, bce=0.07557, dice=0.84201, loss=-0.77004]\n"
     ]
    },
    {
     "name": "stdout",
     "output_type": "stream",
     "text": [
      "loss: -0.83461 | bce: 0.04085 | dice: 0.86835 | 0 cls: -0.88368 | 1 cls: -0.84253 | 2 cls: -0.72718\n"
     ]
    },
    {
     "name": "stderr",
     "output_type": "stream",
     "text": [
      "Epoch 201, lr 0.00010799999999999998: 100% 21/21 [00:10<00:00,  1.92it/s, 0 cls=-0.82690, 1 cls=-0.76216, 2 cls=-0.66923, bce=0.07639, dice=0.84227, loss=-0.76947]\n"
     ]
    },
    {
     "name": "stdout",
     "output_type": "stream",
     "text": [
      "loss: -0.83226 | bce: 0.03878 | dice: 0.86284 | 0 cls: -0.87982 | 1 cls: -0.84216 | 2 cls: -0.72249\n"
     ]
    },
    {
     "name": "stderr",
     "output_type": "stream",
     "text": [
      "Epoch 202, lr 0.00010799999999999998: 100% 21/21 [00:11<00:00,  1.91it/s, 0 cls=-0.82445, 1 cls=-0.75780, 2 cls=-0.66728, bce=0.07698, dice=0.84007, loss=-0.76636]\n"
     ]
    },
    {
     "name": "stdout",
     "output_type": "stream",
     "text": [
      "loss: -0.83155 | bce: 0.04010 | dice: 0.86430 | 0 cls: -0.88140 | 1 cls: -0.83961 | 2 cls: -0.72166\n"
     ]
    },
    {
     "name": "stderr",
     "output_type": "stream",
     "text": [
      "Epoch 203, lr 0.00010799999999999998: 100% 21/21 [00:11<00:00,  1.89it/s, 0 cls=-0.83181, 1 cls=-0.76452, 2 cls=-0.67361, bce=0.07529, dice=0.84514, loss=-0.77326]\n"
     ]
    },
    {
     "name": "stdout",
     "output_type": "stream",
     "text": [
      "loss: -0.83328 | bce: 0.03991 | dice: 0.86616 | 0 cls: -0.88249 | 1 cls: -0.84031 | 2 cls: -0.72549\n"
     ]
    },
    {
     "name": "stderr",
     "output_type": "stream",
     "text": [
      "Epoch 204, lr 0.00010799999999999998: 100% 21/21 [00:11<00:00,  1.87it/s, 0 cls=-0.82817, 1 cls=-0.76303, 2 cls=-0.67163, bce=0.07569, dice=0.84292, loss=-0.77080]\n"
     ]
    },
    {
     "name": "stdout",
     "output_type": "stream",
     "text": [
      "loss: -0.83331 | bce: 0.03987 | dice: 0.86565 | 0 cls: -0.88197 | 1 cls: -0.84140 | 2 cls: -0.72506\n"
     ]
    },
    {
     "name": "stderr",
     "output_type": "stream",
     "text": [
      "Epoch 205, lr 0.00010799999999999998: 100% 21/21 [00:11<00:00,  1.85it/s, 0 cls=-0.83199, 1 cls=-0.76526, 2 cls=-0.67284, bce=0.07466, dice=0.84454, loss=-0.77347]\n"
     ]
    },
    {
     "name": "stdout",
     "output_type": "stream",
     "text": [
      "loss: -0.83450 | bce: 0.04059 | dice: 0.86795 | 0 cls: -0.88387 | 1 cls: -0.84160 | 2 cls: -0.72673\n"
     ]
    },
    {
     "name": "stderr",
     "output_type": "stream",
     "text": [
      "Epoch 206, lr 0.00010799999999999998: 100% 21/21 [00:11<00:00,  1.90it/s, 0 cls=-0.82198, 1 cls=-0.75716, 2 cls=-0.66432, bce=0.07774, dice=0.83868, loss=-0.76452]\n"
     ]
    },
    {
     "name": "stdout",
     "output_type": "stream",
     "text": [
      "loss: -0.83201 | bce: 0.03990 | dice: 0.86454 | 0 cls: -0.88280 | 1 cls: -0.83892 | 2 cls: -0.72244\n"
     ]
    },
    {
     "name": "stderr",
     "output_type": "stream",
     "text": [
      "Epoch 207, lr 0.00010799999999999998: 100% 21/21 [00:11<00:00,  1.86it/s, 0 cls=-0.83311, 1 cls=-0.76431, 2 cls=-0.67627, bce=0.07435, dice=0.84561, loss=-0.77422]\n"
     ]
    },
    {
     "name": "stdout",
     "output_type": "stream",
     "text": [
      "loss: -0.83318 | bce: 0.03917 | dice: 0.86482 | 0 cls: -0.88160 | 1 cls: -0.84155 | 2 cls: -0.72493\n"
     ]
    },
    {
     "name": "stderr",
     "output_type": "stream",
     "text": [
      "Epoch 208, lr 0.00010799999999999998: 100% 21/21 [00:11<00:00,  1.88it/s, 0 cls=-0.82766, 1 cls=-0.75983, 2 cls=-0.66918, bce=0.07595, dice=0.84157, loss=-0.76883]\n"
     ]
    },
    {
     "name": "stdout",
     "output_type": "stream",
     "text": [
      "loss: -0.83174 | bce: 0.03934 | dice: 0.86370 | 0 cls: -0.88174 | 1 cls: -0.83896 | 2 cls: -0.72278\n"
     ]
    },
    {
     "name": "stderr",
     "output_type": "stream",
     "text": [
      "Epoch 209, lr 0.00010799999999999998: 100% 21/21 [00:11<00:00,  1.91it/s, 0 cls=-0.83033, 1 cls=-0.76018, 2 cls=-0.66940, bce=0.07575, dice=0.84265, loss=-0.77009]\n"
     ]
    },
    {
     "name": "stdout",
     "output_type": "stream",
     "text": [
      "loss: -0.83110 | bce: 0.03966 | dice: 0.86351 | 0 cls: -0.88116 | 1 cls: -0.83947 | 2 cls: -0.72031\n"
     ]
    },
    {
     "name": "stderr",
     "output_type": "stream",
     "text": [
      "Epoch 210, lr 0.00010799999999999998: 100% 21/21 [00:11<00:00,  1.89it/s, 0 cls=-0.83299, 1 cls=-0.76324, 2 cls=-0.67400, bce=0.07501, dice=0.84529, loss=-0.77329]\n"
     ]
    },
    {
     "name": "stdout",
     "output_type": "stream",
     "text": [
      "loss: -0.83346 | bce: 0.03877 | dice: 0.86473 | 0 cls: -0.88239 | 1 cls: -0.84151 | 2 cls: -0.72432\n"
     ]
    },
    {
     "name": "stderr",
     "output_type": "stream",
     "text": [
      "Epoch 211, lr 0.00010799999999999998: 100% 21/21 [00:11<00:00,  1.90it/s, 0 cls=-0.83511, 1 cls=-0.76728, 2 cls=-0.67780, bce=0.07353, dice=0.84679, loss=-0.77651]\n"
     ]
    },
    {
     "name": "stdout",
     "output_type": "stream",
     "text": [
      "loss: -0.83235 | bce: 0.03896 | dice: 0.86413 | 0 cls: -0.88203 | 1 cls: -0.83990 | 2 cls: -0.72328\n"
     ]
    },
    {
     "name": "stderr",
     "output_type": "stream",
     "text": [
      "Epoch 212, lr 0.00010799999999999998: 100% 21/21 [00:10<00:00,  1.92it/s, 0 cls=-0.83205, 1 cls=-0.75969, 2 cls=-0.67067, bce=0.07543, dice=0.84334, loss=-0.77083]\n"
     ]
    },
    {
     "name": "stdout",
     "output_type": "stream",
     "text": [
      "loss: -0.83223 | bce: 0.03940 | dice: 0.86481 | 0 cls: -0.88268 | 1 cls: -0.83901 | 2 cls: -0.72352\n"
     ]
    },
    {
     "name": "stderr",
     "output_type": "stream",
     "text": [
      "Epoch 213, lr 0.00010799999999999998: 100% 21/21 [00:10<00:00,  1.93it/s, 0 cls=-0.83269, 1 cls=-0.76390, 2 cls=-0.67323, bce=0.07446, dice=0.84450, loss=-0.77328]\n"
     ]
    },
    {
     "name": "stdout",
     "output_type": "stream",
     "text": [
      "loss: -0.83192 | bce: 0.03920 | dice: 0.86380 | 0 cls: -0.88248 | 1 cls: -0.83918 | 2 cls: -0.72235\n"
     ]
    },
    {
     "name": "stderr",
     "output_type": "stream",
     "text": [
      "Epoch 214, lr 0.00010799999999999998: 100% 21/21 [00:11<00:00,  1.89it/s, 0 cls=-0.83739, 1 cls=-0.76854, 2 cls=-0.67888, bce=0.07282, dice=0.84758, loss=-0.77815]\n"
     ]
    },
    {
     "name": "stdout",
     "output_type": "stream",
     "text": [
      "loss: -0.83412 | bce: 0.04051 | dice: 0.86759 | 0 cls: -0.88325 | 1 cls: -0.84203 | 2 cls: -0.72627\n"
     ]
    },
    {
     "name": "stderr",
     "output_type": "stream",
     "text": [
      "Epoch 215, lr 0.00010799999999999998: 100% 21/21 [00:10<00:00,  1.92it/s, 0 cls=-0.83172, 1 cls=-0.76372, 2 cls=-0.67451, bce=0.07504, dice=0.84504, loss=-0.77308]\n"
     ]
    },
    {
     "name": "stdout",
     "output_type": "stream",
     "text": [
      "loss: -0.83233 | bce: 0.03893 | dice: 0.86412 | 0 cls: -0.88219 | 1 cls: -0.84059 | 2 cls: -0.72245\n"
     ]
    },
    {
     "name": "stderr",
     "output_type": "stream",
     "text": [
      "Epoch 216, lr 0.00010799999999999998: 100% 21/21 [00:11<00:00,  1.89it/s, 0 cls=-0.83543, 1 cls=-0.76544, 2 cls=-0.67833, bce=0.07318, dice=0.84632, loss=-0.77601]\n"
     ]
    },
    {
     "name": "stdout",
     "output_type": "stream",
     "text": [
      "loss: -0.83505 | bce: 0.03972 | dice: 0.86775 | 0 cls: -0.88415 | 1 cls: -0.84244 | 2 cls: -0.72798\n"
     ]
    },
    {
     "name": "stderr",
     "output_type": "stream",
     "text": [
      "Epoch 217, lr 0.00010799999999999998: 100% 21/21 [00:11<00:00,  1.89it/s, 0 cls=-0.83397, 1 cls=-0.76601, 2 cls=-0.67683, bce=0.07398, dice=0.84625, loss=-0.77536]\n"
     ]
    },
    {
     "name": "stdout",
     "output_type": "stream",
     "text": [
      "loss: -0.83289 | bce: 0.04071 | dice: 0.86607 | 0 cls: -0.88166 | 1 cls: -0.84086 | 2 cls: -0.72476\n"
     ]
    },
    {
     "name": "stderr",
     "output_type": "stream",
     "text": [
      "Epoch 218, lr 0.00010799999999999998: 100% 21/21 [00:10<00:00,  1.91it/s, 0 cls=-0.83619, 1 cls=-0.76648, 2 cls=-0.67983, bce=0.07392, dice=0.84813, loss=-0.77703]\n"
     ]
    },
    {
     "name": "stdout",
     "output_type": "stream",
     "text": [
      "loss: -0.82848 | bce: 0.03873 | dice: 0.86015 | 0 cls: -0.87872 | 1 cls: -0.83837 | 2 cls: -0.71526\n"
     ]
    },
    {
     "name": "stderr",
     "output_type": "stream",
     "text": [
      "Epoch 219, lr 0.00010799999999999998: 100% 21/21 [00:11<00:00,  1.90it/s, 0 cls=-0.83737, 1 cls=-0.76810, 2 cls=-0.67895, bce=0.07344, dice=0.84830, loss=-0.77798]\n"
     ]
    },
    {
     "name": "stdout",
     "output_type": "stream",
     "text": [
      "loss: -0.83211 | bce: 0.04032 | dice: 0.86550 | 0 cls: -0.88260 | 1 cls: -0.83897 | 2 cls: -0.72369\n"
     ]
    },
    {
     "name": "stderr",
     "output_type": "stream",
     "text": [
      "Epoch 220, lr 0.00010799999999999998: 100% 21/21 [00:11<00:00,  1.90it/s, 0 cls=-0.83717, 1 cls=-0.76862, 2 cls=-0.68190, bce=0.07227, dice=0.84804, loss=-0.77870]\n"
     ]
    },
    {
     "name": "stdout",
     "output_type": "stream",
     "text": [
      "loss: -0.83357 | bce: 0.03986 | dice: 0.86648 | 0 cls: -0.88262 | 1 cls: -0.84127 | 2 cls: -0.72616\n"
     ]
    },
    {
     "name": "stderr",
     "output_type": "stream",
     "text": [
      "Epoch 221, lr 0.00010799999999999998: 100% 21/21 [00:10<00:00,  1.92it/s, 0 cls=-0.83071, 1 cls=-0.76228, 2 cls=-0.67229, bce=0.07493, dice=0.84351, loss=-0.77165]\n"
     ]
    },
    {
     "name": "stdout",
     "output_type": "stream",
     "text": [
      "loss: -0.83244 | bce: 0.04122 | dice: 0.86647 | 0 cls: -0.88222 | 1 cls: -0.83950 | 2 cls: -0.72430\n"
     ]
    },
    {
     "name": "stderr",
     "output_type": "stream",
     "text": [
      "Epoch 222, lr 0.00010799999999999998: 100% 21/21 [00:11<00:00,  1.90it/s, 0 cls=-0.83538, 1 cls=-0.76549, 2 cls=-0.67636, bce=0.07397, dice=0.84640, loss=-0.77562]\n"
     ]
    },
    {
     "name": "stdout",
     "output_type": "stream",
     "text": [
      "loss: -0.83352 | bce: 0.03942 | dice: 0.86590 | 0 cls: -0.88325 | 1 cls: -0.84138 | 2 cls: -0.72493\n"
     ]
    },
    {
     "name": "stderr",
     "output_type": "stream",
     "text": [
      "Epoch 223, lr 0.00010799999999999998: 100% 21/21 [00:11<00:00,  1.90it/s, 0 cls=-0.82724, 1 cls=-0.76000, 2 cls=-0.67066, bce=0.07562, dice=0.84159, loss=-0.76903]\n"
     ]
    },
    {
     "name": "stdout",
     "output_type": "stream",
     "text": [
      "loss: -0.83372 | bce: 0.03916 | dice: 0.86589 | 0 cls: -0.88338 | 1 cls: -0.84134 | 2 cls: -0.72526\n"
     ]
    },
    {
     "name": "stderr",
     "output_type": "stream",
     "text": [
      "Epoch 224, lr 0.00010799999999999998: 100% 21/21 [00:10<00:00,  1.95it/s, 0 cls=-0.83661, 1 cls=-0.76769, 2 cls=-0.67948, bce=0.07265, dice=0.84717, loss=-0.77762]\n"
     ]
    },
    {
     "name": "stdout",
     "output_type": "stream",
     "text": [
      "loss: -0.83316 | bce: 0.03999 | dice: 0.86618 | 0 cls: -0.88324 | 1 cls: -0.83976 | 2 cls: -0.72475\n"
     ]
    },
    {
     "name": "stderr",
     "output_type": "stream",
     "text": [
      "Epoch 225, lr 0.00010799999999999998: 100% 21/21 [00:11<00:00,  1.88it/s, 0 cls=-0.82676, 1 cls=-0.76043, 2 cls=-0.66996, bce=0.07684, dice=0.84241, loss=-0.76887]\n"
     ]
    },
    {
     "name": "stdout",
     "output_type": "stream",
     "text": [
      "loss: -0.83302 | bce: 0.03932 | dice: 0.86496 | 0 cls: -0.88192 | 1 cls: -0.84116 | 2 cls: -0.72480\n"
     ]
    },
    {
     "name": "stderr",
     "output_type": "stream",
     "text": [
      "Epoch 226, lr 0.00010799999999999998: 100% 21/21 [00:10<00:00,  1.94it/s, 0 cls=-0.83518, 1 cls=-0.76504, 2 cls=-0.67485, bce=0.07378, dice=0.84565, loss=-0.77506]\n"
     ]
    },
    {
     "name": "stdout",
     "output_type": "stream",
     "text": [
      "loss: -0.83433 | bce: 0.03990 | dice: 0.86712 | 0 cls: -0.88367 | 1 cls: -0.84176 | 2 cls: -0.72636\n"
     ]
    },
    {
     "name": "stderr",
     "output_type": "stream",
     "text": [
      "Epoch 227, lr 0.00010799999999999998: 100% 21/21 [00:10<00:00,  1.92it/s, 0 cls=-0.84071, 1 cls=-0.77030, 2 cls=-0.68267, bce=0.07228, dice=0.85016, loss=-0.78094]\n"
     ]
    },
    {
     "name": "stdout",
     "output_type": "stream",
     "text": [
      "loss: -0.83141 | bce: 0.04123 | dice: 0.86538 | 0 cls: -0.88137 | 1 cls: -0.83897 | 2 cls: -0.72183\n"
     ]
    },
    {
     "name": "stderr",
     "output_type": "stream",
     "text": [
      "Epoch 228, lr 0.00010799999999999998: 100% 21/21 [00:10<00:00,  1.93it/s, 0 cls=-0.83479, 1 cls=-0.76594, 2 cls=-0.67805, bce=0.07374, dice=0.84666, loss=-0.77590]\n"
     ]
    },
    {
     "name": "stdout",
     "output_type": "stream",
     "text": [
      "loss: -0.83556 | bce: 0.03958 | dice: 0.86786 | 0 cls: -0.88390 | 1 cls: -0.84330 | 2 cls: -0.72897\n"
     ]
    },
    {
     "name": "stderr",
     "output_type": "stream",
     "text": [
      "Epoch 229, lr 0.00010799999999999998: 100% 21/21 [00:11<00:00,  1.90it/s, 0 cls=-0.83942, 1 cls=-0.76899, 2 cls=-0.68188, bce=0.07279, dice=0.84961, loss=-0.77974]\n"
     ]
    },
    {
     "name": "stdout",
     "output_type": "stream",
     "text": [
      "loss: -0.83366 | bce: 0.03942 | dice: 0.86643 | 0 cls: -0.88308 | 1 cls: -0.84120 | 2 cls: -0.72575\n"
     ]
    },
    {
     "name": "stderr",
     "output_type": "stream",
     "text": [
      "Epoch 230, lr 0.00010799999999999998: 100% 21/21 [00:11<00:00,  1.89it/s, 0 cls=-0.83570, 1 cls=-0.76564, 2 cls=-0.67749, bce=0.07327, dice=0.84635, loss=-0.77603]\n"
     ]
    },
    {
     "name": "stdout",
     "output_type": "stream",
     "text": [
      "loss: -0.83394 | bce: 0.03843 | dice: 0.86499 | 0 cls: -0.88303 | 1 cls: -0.84167 | 2 cls: -0.72512\n"
     ]
    },
    {
     "name": "stderr",
     "output_type": "stream",
     "text": [
      "Epoch 231, lr 0.00010799999999999998: 100% 21/21 [00:11<00:00,  1.88it/s, 0 cls=-0.83892, 1 cls=-0.77081, 2 cls=-0.68224, bce=0.07324, dice=0.85042, loss=-0.78034]\n"
     ]
    },
    {
     "name": "stdout",
     "output_type": "stream",
     "text": [
      "loss: -0.83117 | bce: 0.03959 | dice: 0.86340 | 0 cls: -0.88073 | 1 cls: -0.83964 | 2 cls: -0.72109\n"
     ]
    },
    {
     "name": "stderr",
     "output_type": "stream",
     "text": [
      "Epoch 232, lr 0.00010799999999999998: 100% 21/21 [00:11<00:00,  1.89it/s, 0 cls=-0.83698, 1 cls=-0.76892, 2 cls=-0.68150, bce=0.07274, dice=0.84831, loss=-0.77866]\n"
     ]
    },
    {
     "name": "stdout",
     "output_type": "stream",
     "text": [
      "loss: -0.82891 | bce: 0.03970 | dice: 0.86082 | 0 cls: -0.87881 | 1 cls: -0.83829 | 2 cls: -0.71573\n"
     ]
    },
    {
     "name": "stderr",
     "output_type": "stream",
     "text": [
      "Epoch 233, lr 0.00010799999999999998: 100% 21/21 [00:11<00:00,  1.88it/s, 0 cls=-0.83222, 1 cls=-0.76345, 2 cls=-0.67465, bce=0.07469, dice=0.84483, loss=-0.77320]\n"
     ]
    },
    {
     "name": "stdout",
     "output_type": "stream",
     "text": [
      "loss: -0.82939 | bce: 0.03977 | dice: 0.86151 | 0 cls: -0.87988 | 1 cls: -0.83821 | 2 cls: -0.71679\n"
     ]
    },
    {
     "name": "stderr",
     "output_type": "stream",
     "text": [
      "Epoch 234, lr 0.00010799999999999998: 100% 21/21 [00:11<00:00,  1.89it/s, 0 cls=-0.83695, 1 cls=-0.76567, 2 cls=-0.67814, bce=0.07388, dice=0.84769, loss=-0.77668]\n"
     ]
    },
    {
     "name": "stdout",
     "output_type": "stream",
     "text": [
      "loss: -0.83026 | bce: 0.04163 | dice: 0.86516 | 0 cls: -0.88226 | 1 cls: -0.83651 | 2 cls: -0.72141\n"
     ]
    },
    {
     "name": "stderr",
     "output_type": "stream",
     "text": [
      "Epoch 235, lr 0.00010799999999999998: 100% 21/21 [00:11<00:00,  1.83it/s, 0 cls=-0.83495, 1 cls=-0.76569, 2 cls=-0.67711, bce=0.07328, dice=0.84589, loss=-0.77568]\n"
     ]
    },
    {
     "name": "stdout",
     "output_type": "stream",
     "text": [
      "loss: -0.83289 | bce: 0.03893 | dice: 0.86489 | 0 cls: -0.88299 | 1 cls: -0.83931 | 2 cls: -0.72517\n"
     ]
    },
    {
     "name": "stderr",
     "output_type": "stream",
     "text": [
      "Epoch 236, lr 0.00010799999999999998: 100% 21/21 [00:11<00:00,  1.88it/s, 0 cls=-0.83818, 1 cls=-0.76715, 2 cls=-0.67925, bce=0.07365, dice=0.84870, loss=-0.77798]\n"
     ]
    },
    {
     "name": "stdout",
     "output_type": "stream",
     "text": [
      "loss: -0.83423 | bce: 0.03851 | dice: 0.86546 | 0 cls: -0.88327 | 1 cls: -0.84207 | 2 cls: -0.72597\n"
     ]
    },
    {
     "name": "stderr",
     "output_type": "stream",
     "text": [
      "Epoch 237, lr 0.00010799999999999998: 100% 21/21 [00:11<00:00,  1.90it/s, 0 cls=-0.83656, 1 cls=-0.76606, 2 cls=-0.67851, bce=0.07323, dice=0.84713, loss=-0.77675]\n"
     ]
    },
    {
     "name": "stdout",
     "output_type": "stream",
     "text": [
      "loss: -0.83336 | bce: 0.04008 | dice: 0.86631 | 0 cls: -0.88313 | 1 cls: -0.84058 | 2 cls: -0.72458\n"
     ]
    },
    {
     "name": "stderr",
     "output_type": "stream",
     "text": [
      "Epoch 238, lr 0.00010799999999999998: 100% 21/21 [00:11<00:00,  1.89it/s, 0 cls=-0.83062, 1 cls=-0.76435, 2 cls=-0.67756, bce=0.07393, dice=0.84458, loss=-0.77350]\n"
     ]
    },
    {
     "name": "stdout",
     "output_type": "stream",
     "text": [
      "loss: -0.83125 | bce: 0.04137 | dice: 0.86558 | 0 cls: -0.88242 | 1 cls: -0.83767 | 2 cls: -0.72249\n"
     ]
    },
    {
     "name": "stderr",
     "output_type": "stream",
     "text": [
      "Epoch 239, lr 0.00010799999999999998: 100% 21/21 [00:11<00:00,  1.88it/s, 0 cls=-0.83688, 1 cls=-0.76698, 2 cls=-0.68092, bce=0.07316, dice=0.84806, loss=-0.77773]\n"
     ]
    },
    {
     "name": "stdout",
     "output_type": "stream",
     "text": [
      "loss: -0.83349 | bce: 0.04021 | dice: 0.86701 | 0 cls: -0.88390 | 1 cls: -0.84048 | 2 cls: -0.72606\n"
     ]
    },
    {
     "name": "stderr",
     "output_type": "stream",
     "text": [
      "Epoch 240, lr 0.00010799999999999998: 100% 21/21 [00:11<00:00,  1.90it/s, 0 cls=-0.83531, 1 cls=-0.76645, 2 cls=-0.67958, bce=0.07269, dice=0.84648, loss=-0.77662]\n"
     ]
    },
    {
     "name": "stdout",
     "output_type": "stream",
     "text": [
      "loss: -0.83295 | bce: 0.03988 | dice: 0.86578 | 0 cls: -0.88413 | 1 cls: -0.83898 | 2 cls: -0.72488\n"
     ]
    },
    {
     "name": "stderr",
     "output_type": "stream",
     "text": [
      "Epoch 241, lr 0.00010799999999999998: 100% 21/21 [00:10<00:00,  1.93it/s, 0 cls=-0.83888, 1 cls=-0.77318, 2 cls=-0.68430, bce=0.07243, dice=0.85077, loss=-0.78168]\n"
     ]
    },
    {
     "name": "stdout",
     "output_type": "stream",
     "text": [
      "loss: -0.83328 | bce: 0.04016 | dice: 0.86677 | 0 cls: -0.88386 | 1 cls: -0.83935 | 2 cls: -0.72568\n"
     ]
    },
    {
     "name": "stderr",
     "output_type": "stream",
     "text": [
      "Epoch 242, lr 0.00010799999999999998: 100% 21/21 [00:10<00:00,  1.92it/s, 0 cls=-0.83738, 1 cls=-0.76803, 2 cls=-0.67867, bce=0.07311, dice=0.84773, loss=-0.77790]\n"
     ]
    },
    {
     "name": "stdout",
     "output_type": "stream",
     "text": [
      "loss: -0.82985 | bce: 0.04049 | dice: 0.86279 | 0 cls: -0.88082 | 1 cls: -0.83733 | 2 cls: -0.71853\n"
     ]
    },
    {
     "name": "stderr",
     "output_type": "stream",
     "text": [
      "Epoch 243, lr 0.00010799999999999998: 100% 21/21 [00:11<00:00,  1.86it/s, 0 cls=-0.83609, 1 cls=-0.76864, 2 cls=-0.67890, bce=0.07294, dice=0.84721, loss=-0.77767]\n"
     ]
    },
    {
     "name": "stdout",
     "output_type": "stream",
     "text": [
      "loss: -0.83036 | bce: 0.04126 | dice: 0.86455 | 0 cls: -0.88044 | 1 cls: -0.83882 | 2 cls: -0.71976\n"
     ]
    },
    {
     "name": "stderr",
     "output_type": "stream",
     "text": [
      "Epoch 244, lr 0.00010799999999999998: 100% 21/21 [00:11<00:00,  1.87it/s, 0 cls=-0.83509, 1 cls=-0.76723, 2 cls=-0.67854, bce=0.07357, dice=0.84711, loss=-0.77664]\n"
     ]
    },
    {
     "name": "stdout",
     "output_type": "stream",
     "text": [
      "loss: -0.83221 | bce: 0.04003 | dice: 0.86541 | 0 cls: -0.88297 | 1 cls: -0.83862 | 2 cls: -0.72320\n"
     ]
    },
    {
     "name": "stderr",
     "output_type": "stream",
     "text": [
      "Epoch 245, lr 0.00010799999999999998: 100% 21/21 [00:11<00:00,  1.89it/s, 0 cls=-0.83914, 1 cls=-0.77144, 2 cls=-0.68352, bce=0.07221, dice=0.84993, loss=-0.78094]\n"
     ]
    },
    {
     "name": "stdout",
     "output_type": "stream",
     "text": [
      "loss: -0.83343 | bce: 0.03950 | dice: 0.86612 | 0 cls: -0.88334 | 1 cls: -0.84090 | 2 cls: -0.72507\n"
     ]
    },
    {
     "name": "stderr",
     "output_type": "stream",
     "text": [
      "Epoch 246, lr 0.00010799999999999998: 100% 21/21 [00:11<00:00,  1.90it/s, 0 cls=-0.83453, 1 cls=-0.76354, 2 cls=-0.67573, bce=0.07419, dice=0.84568, loss=-0.77437]\n"
     ]
    },
    {
     "name": "stdout",
     "output_type": "stream",
     "text": [
      "loss: -0.83222 | bce: 0.03852 | dice: 0.86358 | 0 cls: -0.88313 | 1 cls: -0.83900 | 2 cls: -0.72351\n"
     ]
    },
    {
     "name": "stderr",
     "output_type": "stream",
     "text": [
      "Epoch 247, lr 0.00010799999999999998: 100% 21/21 [00:10<00:00,  1.95it/s, 0 cls=-0.83249, 1 cls=-0.76596, 2 cls=-0.67693, bce=0.07338, dice=0.84494, loss=-0.77477]\n"
     ]
    },
    {
     "name": "stdout",
     "output_type": "stream",
     "text": [
      "loss: -0.83055 | bce: 0.04038 | dice: 0.86369 | 0 cls: -0.88117 | 1 cls: -0.83816 | 2 cls: -0.72030\n"
     ]
    },
    {
     "name": "stderr",
     "output_type": "stream",
     "text": [
      "Epoch 248, lr 0.00010799999999999998: 100% 21/21 [00:11<00:00,  1.87it/s, 0 cls=-0.83581, 1 cls=-0.76345, 2 cls=-0.67639, bce=0.07427, dice=0.84657, loss=-0.77499]\n"
     ]
    },
    {
     "name": "stdout",
     "output_type": "stream",
     "text": [
      "loss: -0.83070 | bce: 0.03920 | dice: 0.86262 | 0 cls: -0.88076 | 1 cls: -0.83911 | 2 cls: -0.71872\n"
     ]
    },
    {
     "name": "stderr",
     "output_type": "stream",
     "text": [
      "Epoch 249, lr 0.00010799999999999998: 100% 21/21 [00:10<00:00,  1.91it/s, 0 cls=-0.83601, 1 cls=-0.76770, 2 cls=-0.67976, bce=0.07284, dice=0.84718, loss=-0.77743]\n"
     ]
    },
    {
     "name": "stdout",
     "output_type": "stream",
     "text": [
      "loss: -0.83226 | bce: 0.04003 | dice: 0.86507 | 0 cls: -0.88235 | 1 cls: -0.83939 | 2 cls: -0.72342\n"
     ]
    },
    {
     "name": "stderr",
     "output_type": "stream",
     "text": [
      "Epoch 250, lr 0.00010799999999999998: 100% 21/21 [00:10<00:00,  1.93it/s, 0 cls=-0.84223, 1 cls=-0.77251, 2 cls=-0.68748, bce=0.07053, dice=0.85115, loss=-0.78339]\n"
     ]
    },
    {
     "name": "stdout",
     "output_type": "stream",
     "text": [
      "loss: -0.83313 | bce: 0.03900 | dice: 0.86513 | 0 cls: -0.88283 | 1 cls: -0.84070 | 2 cls: -0.72435\n"
     ]
    },
    {
     "name": "stderr",
     "output_type": "stream",
     "text": [
      "Epoch 251, lr 0.00010799999999999998: 100% 21/21 [00:11<00:00,  1.90it/s, 0 cls=-0.84355, 1 cls=-0.77223, 2 cls=-0.68596, bce=0.07145, dice=0.85208, loss=-0.78350]\n"
     ]
    },
    {
     "name": "stdout",
     "output_type": "stream",
     "text": [
      "loss: -0.83211 | bce: 0.03944 | dice: 0.86435 | 0 cls: -0.88189 | 1 cls: -0.83965 | 2 cls: -0.72346\n"
     ]
    },
    {
     "name": "stderr",
     "output_type": "stream",
     "text": [
      "Epoch 252, lr 0.00010799999999999998: 100% 21/21 [00:11<00:00,  1.88it/s, 0 cls=-0.83397, 1 cls=-0.76621, 2 cls=-0.67726, bce=0.07382, dice=0.84622, loss=-0.77552]\n"
     ]
    },
    {
     "name": "stdout",
     "output_type": "stream",
     "text": [
      "loss: -0.83123 | bce: 0.03972 | dice: 0.86393 | 0 cls: -0.88245 | 1 cls: -0.83747 | 2 cls: -0.72240\n"
     ]
    },
    {
     "name": "stderr",
     "output_type": "stream",
     "text": [
      "Epoch 253, lr 0.00010799999999999998: 100% 21/21 [00:10<00:00,  1.92it/s, 0 cls=-0.84178, 1 cls=-0.77425, 2 cls=-0.68707, bce=0.07102, dice=0.85168, loss=-0.78383]\n"
     ]
    },
    {
     "name": "stdout",
     "output_type": "stream",
     "text": [
      "loss: -0.83412 | bce: 0.04037 | dice: 0.86764 | 0 cls: -0.88416 | 1 cls: -0.84050 | 2 cls: -0.72736\n"
     ]
    },
    {
     "name": "stderr",
     "output_type": "stream",
     "text": [
      "Epoch 254, lr 0.00010799999999999998: 100% 21/21 [00:11<00:00,  1.90it/s, 0 cls=-0.83872, 1 cls=-0.76979, 2 cls=-0.68088, bce=0.07327, dice=0.84967, loss=-0.77958]\n"
     ]
    },
    {
     "name": "stdout",
     "output_type": "stream",
     "text": [
      "loss: -0.83204 | bce: 0.03846 | dice: 0.86356 | 0 cls: -0.88253 | 1 cls: -0.83926 | 2 cls: -0.72253\n"
     ]
    },
    {
     "name": "stderr",
     "output_type": "stream",
     "text": [
      "Epoch 255, lr 0.00010799999999999998: 100% 21/21 [00:11<00:00,  1.87it/s, 0 cls=-0.84083, 1 cls=-0.77085, 2 cls=-0.68523, bce=0.07175, dice=0.85057, loss=-0.78172]\n"
     ]
    },
    {
     "name": "stdout",
     "output_type": "stream",
     "text": [
      "loss: -0.83276 | bce: 0.03997 | dice: 0.86600 | 0 cls: -0.88325 | 1 cls: -0.83910 | 2 cls: -0.72461\n"
     ]
    },
    {
     "name": "stderr",
     "output_type": "stream",
     "text": [
      "Epoch 256, lr 0.00010799999999999998: 100% 21/21 [00:10<00:00,  1.91it/s, 0 cls=-0.83821, 1 cls=-0.77102, 2 cls=-0.68278, bce=0.07213, dice=0.84928, loss=-0.78025]\n"
     ]
    },
    {
     "name": "stdout",
     "output_type": "stream",
     "text": [
      "loss: -0.83116 | bce: 0.03927 | dice: 0.86347 | 0 cls: -0.88170 | 1 cls: -0.83781 | 2 cls: -0.72176\n"
     ]
    },
    {
     "name": "stderr",
     "output_type": "stream",
     "text": [
      "Epoch 257, lr 0.00010799999999999998: 100% 21/21 [00:11<00:00,  1.89it/s, 0 cls=-0.83106, 1 cls=-0.76078, 2 cls=-0.67447, bce=0.07577, dice=0.84481, loss=-0.77163]\n"
     ]
    },
    {
     "name": "stdout",
     "output_type": "stream",
     "text": [
      "loss: -0.83173 | bce: 0.04018 | dice: 0.86485 | 0 cls: -0.88231 | 1 cls: -0.83859 | 2 cls: -0.72233\n"
     ]
    },
    {
     "name": "stderr",
     "output_type": "stream",
     "text": [
      "Epoch 258, lr 0.00010799999999999998: 100% 21/21 [00:10<00:00,  1.91it/s, 0 cls=-0.83904, 1 cls=-0.77150, 2 cls=-0.68312, bce=0.07179, dice=0.84934, loss=-0.78084]\n"
     ]
    },
    {
     "name": "stdout",
     "output_type": "stream",
     "text": [
      "loss: -0.83384 | bce: 0.04115 | dice: 0.86794 | 0 cls: -0.88364 | 1 cls: -0.84060 | 2 cls: -0.72655\n"
     ]
    },
    {
     "name": "stderr",
     "output_type": "stream",
     "text": [
      "Epoch 259, lr 0.00010799999999999998: 100% 21/21 [00:11<00:00,  1.88it/s, 0 cls=-0.83721, 1 cls=-0.76880, 2 cls=-0.68080, bce=0.07237, dice=0.84789, loss=-0.77856]\n"
     ]
    },
    {
     "name": "stdout",
     "output_type": "stream",
     "text": [
      "loss: -0.83065 | bce: 0.03897 | dice: 0.86178 | 0 cls: -0.87934 | 1 cls: -0.84038 | 2 cls: -0.71930\n"
     ]
    },
    {
     "name": "stderr",
     "output_type": "stream",
     "text": [
      "Epoch 260, lr 0.00010799999999999998: 100% 21/21 [00:11<00:00,  1.91it/s, 0 cls=-0.83461, 1 cls=-0.76669, 2 cls=-0.67917, bce=0.07392, dice=0.84728, loss=-0.77635]\n"
     ]
    },
    {
     "name": "stdout",
     "output_type": "stream",
     "text": [
      "loss: -0.83194 | bce: 0.03999 | dice: 0.86490 | 0 cls: -0.88233 | 1 cls: -0.83838 | 2 cls: -0.72448\n"
     ]
    },
    {
     "name": "stderr",
     "output_type": "stream",
     "text": [
      "Epoch 261, lr 0.00010799999999999998: 100% 21/21 [00:11<00:00,  1.88it/s, 0 cls=-0.83591, 1 cls=-0.76768, 2 cls=-0.68119, bce=0.07335, dice=0.84816, loss=-0.77768]\n"
     ]
    },
    {
     "name": "stdout",
     "output_type": "stream",
     "text": [
      "loss: -0.83293 | bce: 0.04000 | dice: 0.86586 | 0 cls: -0.88289 | 1 cls: -0.83966 | 2 cls: -0.72464\n"
     ]
    },
    {
     "name": "stderr",
     "output_type": "stream",
     "text": [
      "Epoch 262, lr 0.00010799999999999998: 100% 21/21 [00:11<00:00,  1.88it/s, 0 cls=-0.84045, 1 cls=-0.77366, 2 cls=-0.68375, bce=0.07216, dice=0.85104, loss=-0.78239]\n"
     ]
    },
    {
     "name": "stdout",
     "output_type": "stream",
     "text": [
      "loss: -0.83061 | bce: 0.04023 | dice: 0.86323 | 0 cls: -0.87973 | 1 cls: -0.83947 | 2 cls: -0.72017\n"
     ]
    },
    {
     "name": "stderr",
     "output_type": "stream",
     "text": [
      "Epoch 263, lr 0.00010799999999999998: 100% 21/21 [00:11<00:00,  1.90it/s, 0 cls=-0.84086, 1 cls=-0.77359, 2 cls=-0.68568, bce=0.07151, dice=0.85111, loss=-0.78292]\n"
     ]
    },
    {
     "name": "stdout",
     "output_type": "stream",
     "text": [
      "loss: -0.82837 | bce: 0.03944 | dice: 0.86025 | 0 cls: -0.87823 | 1 cls: -0.83766 | 2 cls: -0.71578\n"
     ]
    },
    {
     "name": "stderr",
     "output_type": "stream",
     "text": [
      "Epoch 264, lr 0.00010799999999999998: 100% 21/21 [00:10<00:00,  1.92it/s, 0 cls=-0.84087, 1 cls=-0.77394, 2 cls=-0.68609, bce=0.07135, dice=0.85125, loss=-0.78314]\n"
     ]
    },
    {
     "name": "stdout",
     "output_type": "stream",
     "text": [
      "loss: -0.83272 | bce: 0.03959 | dice: 0.86500 | 0 cls: -0.88214 | 1 cls: -0.84069 | 2 cls: -0.72393\n"
     ]
    },
    {
     "name": "stderr",
     "output_type": "stream",
     "text": [
      "Epoch 265, lr 0.00010799999999999998: 100% 21/21 [00:11<00:00,  1.90it/s, 0 cls=-0.83323, 1 cls=-0.76554, 2 cls=-0.67718, bce=0.07509, dice=0.84702, loss=-0.77495]\n"
     ]
    },
    {
     "name": "stdout",
     "output_type": "stream",
     "text": [
      "loss: -0.83403 | bce: 0.03907 | dice: 0.86599 | 0 cls: -0.88340 | 1 cls: -0.84196 | 2 cls: -0.72585\n"
     ]
    },
    {
     "name": "stderr",
     "output_type": "stream",
     "text": [
      "Epoch 266, lr 0.00010799999999999998: 100% 21/21 [00:10<00:00,  1.91it/s, 0 cls=-0.83611, 1 cls=-0.77090, 2 cls=-0.68155, bce=0.07317, dice=0.84891, loss=-0.77912]\n"
     ]
    },
    {
     "name": "stdout",
     "output_type": "stream",
     "text": [
      "loss: -0.83036 | bce: 0.04099 | dice: 0.86416 | 0 cls: -0.88079 | 1 cls: -0.83895 | 2 cls: -0.71987\n"
     ]
    },
    {
     "name": "stderr",
     "output_type": "stream",
     "text": [
      "Epoch 267, lr 0.00010799999999999998: 100% 21/21 [00:11<00:00,  1.88it/s, 0 cls=-0.83786, 1 cls=-0.76764, 2 cls=-0.68120, bce=0.07239, dice=0.84796, loss=-0.77844]\n"
     ]
    },
    {
     "name": "stdout",
     "output_type": "stream",
     "text": [
      "loss: -0.83287 | bce: 0.03978 | dice: 0.86521 | 0 cls: -0.88275 | 1 cls: -0.84034 | 2 cls: -0.72434\n"
     ]
    },
    {
     "name": "stderr",
     "output_type": "stream",
     "text": [
      "Epoch 268, lr 0.00010799999999999998: 100% 21/21 [00:11<00:00,  1.90it/s, 0 cls=-0.83776, 1 cls=-0.76819, 2 cls=-0.68014, bce=0.07311, dice=0.84845, loss=-0.77841]\n"
     ]
    },
    {
     "name": "stdout",
     "output_type": "stream",
     "text": [
      "loss: -0.82988 | bce: 0.03872 | dice: 0.86117 | 0 cls: -0.87915 | 1 cls: -0.83968 | 2 cls: -0.71769\n"
     ]
    },
    {
     "name": "stderr",
     "output_type": "stream",
     "text": [
      "Epoch 269, lr 0.00010799999999999998: 100% 21/21 [00:11<00:00,  1.90it/s, 0 cls=-0.83844, 1 cls=-0.77148, 2 cls=-0.68109, bce=0.07267, dice=0.84936, loss=-0.78018]\n"
     ]
    },
    {
     "name": "stdout",
     "output_type": "stream",
     "text": [
      "loss: -0.83177 | bce: 0.03837 | dice: 0.86262 | 0 cls: -0.88065 | 1 cls: -0.84118 | 2 cls: -0.72124\n"
     ]
    },
    {
     "name": "stderr",
     "output_type": "stream",
     "text": [
      "Epoch 270, lr 0.00010799999999999998: 100% 21/21 [00:11<00:00,  1.91it/s, 0 cls=-0.83839, 1 cls=-0.77299, 2 cls=-0.68242, bce=0.07260, dice=0.84988, loss=-0.78103]\n"
     ]
    },
    {
     "name": "stdout",
     "output_type": "stream",
     "text": [
      "loss: -0.83155 | bce: 0.03909 | dice: 0.86339 | 0 cls: -0.88154 | 1 cls: -0.83940 | 2 cls: -0.72198\n"
     ]
    },
    {
     "name": "stderr",
     "output_type": "stream",
     "text": [
      "Epoch 271, lr 0.00010799999999999998: 100% 21/21 [00:11<00:00,  1.89it/s, 0 cls=-0.83898, 1 cls=-0.77164, 2 cls=-0.68402, bce=0.07193, dice=0.84989, loss=-0.78105]\n"
     ]
    },
    {
     "name": "stdout",
     "output_type": "stream",
     "text": [
      "loss: -0.82895 | bce: 0.03949 | dice: 0.86033 | 0 cls: -0.87790 | 1 cls: -0.83843 | 2 cls: -0.71728\n"
     ]
    },
    {
     "name": "stderr",
     "output_type": "stream",
     "text": [
      "Epoch 272, lr 0.00010799999999999998: 100% 21/21 [00:11<00:00,  1.89it/s, 0 cls=-0.84138, 1 cls=-0.77317, 2 cls=-0.68782, bce=0.07189, dice=0.85235, loss=-0.78338]\n"
     ]
    },
    {
     "name": "stdout",
     "output_type": "stream",
     "text": [
      "loss: -0.83211 | bce: 0.03897 | dice: 0.86379 | 0 cls: -0.88105 | 1 cls: -0.84124 | 2 cls: -0.72158\n"
     ]
    },
    {
     "name": "stderr",
     "output_type": "stream",
     "text": [
      "Epoch 273, lr 0.00010799999999999998: 100% 21/21 [00:11<00:00,  1.88it/s, 0 cls=-0.83903, 1 cls=-0.76867, 2 cls=-0.68221, bce=0.07219, dice=0.84888, loss=-0.77952]\n"
     ]
    },
    {
     "name": "stdout",
     "output_type": "stream",
     "text": [
      "loss: -0.82905 | bce: 0.04080 | dice: 0.86284 | 0 cls: -0.87995 | 1 cls: -0.83532 | 2 cls: -0.71929\n"
     ]
    },
    {
     "name": "stderr",
     "output_type": "stream",
     "text": [
      "Epoch 274, lr 0.00010799999999999998: 100% 21/21 [00:11<00:00,  1.88it/s, 0 cls=-0.83782, 1 cls=-0.76823, 2 cls=-0.68051, bce=0.07326, dice=0.84880, loss=-0.77852]\n"
     ]
    },
    {
     "name": "stdout",
     "output_type": "stream",
     "text": [
      "loss: -0.83217 | bce: 0.03921 | dice: 0.86408 | 0 cls: -0.88078 | 1 cls: -0.84052 | 2 cls: -0.72366\n"
     ]
    },
    {
     "name": "stderr",
     "output_type": "stream",
     "text": [
      "Epoch 275, lr 0.00010799999999999998: 100% 21/21 [00:10<00:00,  1.94it/s, 0 cls=-0.83526, 1 cls=-0.76774, 2 cls=-0.67987, bce=0.07327, dice=0.84730, loss=-0.77717]\n"
     ]
    },
    {
     "name": "stdout",
     "output_type": "stream",
     "text": [
      "loss: -0.83120 | bce: 0.03964 | dice: 0.86347 | 0 cls: -0.88081 | 1 cls: -0.83935 | 2 cls: -0.72171\n"
     ]
    },
    {
     "name": "stderr",
     "output_type": "stream",
     "text": [
      "Epoch 276, lr 0.00010799999999999998: 100% 21/21 [00:11<00:00,  1.90it/s, 0 cls=-0.83891, 1 cls=-0.76950, 2 cls=-0.68055, bce=0.07337, dice=0.84966, loss=-0.77947]\n"
     ]
    },
    {
     "name": "stdout",
     "output_type": "stream",
     "text": [
      "loss: -0.83057 | bce: 0.03855 | dice: 0.86199 | 0 cls: -0.88052 | 1 cls: -0.83813 | 2 cls: -0.72042\n"
     ]
    },
    {
     "name": "stderr",
     "output_type": "stream",
     "text": [
      "Epoch 277, lr 0.00010799999999999998: 100% 21/21 [00:11<00:00,  1.89it/s, 0 cls=-0.83884, 1 cls=-0.77097, 2 cls=-0.68327, bce=0.07205, dice=0.84955, loss=-0.78058]\n"
     ]
    },
    {
     "name": "stdout",
     "output_type": "stream",
     "text": [
      "loss: -0.83288 | bce: 0.04002 | dice: 0.86533 | 0 cls: -0.88163 | 1 cls: -0.84136 | 2 cls: -0.72378\n"
     ]
    },
    {
     "name": "stderr",
     "output_type": "stream",
     "text": [
      "Epoch 278, lr 0.00010799999999999998: 100% 21/21 [00:11<00:00,  1.88it/s, 0 cls=-0.83983, 1 cls=-0.77265, 2 cls=-0.68414, bce=0.07156, dice=0.85003, loss=-0.78182]\n"
     ]
    },
    {
     "name": "stdout",
     "output_type": "stream",
     "text": [
      "loss: -0.83275 | bce: 0.03860 | dice: 0.86429 | 0 cls: -0.88138 | 1 cls: -0.84142 | 2 cls: -0.72455\n"
     ]
    },
    {
     "name": "stderr",
     "output_type": "stream",
     "text": [
      "Epoch 279, lr 0.00010799999999999998: 100% 21/21 [00:10<00:00,  1.91it/s, 0 cls=-0.83899, 1 cls=-0.77369, 2 cls=-0.68396, bce=0.07223, dice=0.85058, loss=-0.78187]\n"
     ]
    },
    {
     "name": "stdout",
     "output_type": "stream",
     "text": [
      "loss: -0.82941 | bce: 0.03933 | dice: 0.86088 | 0 cls: -0.87859 | 1 cls: -0.83846 | 2 cls: -0.71848\n"
     ]
    },
    {
     "name": "stderr",
     "output_type": "stream",
     "text": [
      "Epoch 280, lr 0.00010799999999999998: 100% 21/21 [00:11<00:00,  1.90it/s, 0 cls=-0.83791, 1 cls=-0.76851, 2 cls=-0.68100, bce=0.07285, dice=0.84860, loss=-0.77877]\n"
     ]
    },
    {
     "name": "stdout",
     "output_type": "stream",
     "text": [
      "loss: -0.82541 | bce: 0.04020 | dice: 0.85764 | 0 cls: -0.87543 | 1 cls: -0.83621 | 2 cls: -0.71053\n"
     ]
    },
    {
     "name": "stderr",
     "output_type": "stream",
     "text": [
      "Epoch 281, lr 0.00010799999999999998: 100% 21/21 [00:11<00:00,  1.87it/s, 0 cls=-0.83713, 1 cls=-0.76893, 2 cls=-0.68160, bce=0.07256, dice=0.84818, loss=-0.77874]\n"
     ]
    },
    {
     "name": "stdout",
     "output_type": "stream",
     "text": [
      "loss: -0.83195 | bce: 0.04080 | dice: 0.86533 | 0 cls: -0.88201 | 1 cls: -0.83944 | 2 cls: -0.72258\n"
     ]
    },
    {
     "name": "stderr",
     "output_type": "stream",
     "text": [
      "Epoch 282, lr 0.00010799999999999998: 100% 21/21 [00:11<00:00,  1.89it/s, 0 cls=-0.83459, 1 cls=-0.76554, 2 cls=-0.67979, bce=0.07367, dice=0.84699, loss=-0.77601]\n"
     ]
    },
    {
     "name": "stdout",
     "output_type": "stream",
     "text": [
      "loss: -0.83073 | bce: 0.03999 | dice: 0.86277 | 0 cls: -0.87992 | 1 cls: -0.83936 | 2 cls: -0.72012\n"
     ]
    },
    {
     "name": "stderr",
     "output_type": "stream",
     "text": [
      "Epoch 283, lr 0.00010799999999999998: 100% 21/21 [00:10<00:00,  1.92it/s, 0 cls=-0.83806, 1 cls=-0.76954, 2 cls=-0.68017, bce=0.07368, dice=0.84937, loss=-0.77907]\n"
     ]
    },
    {
     "name": "stdout",
     "output_type": "stream",
     "text": [
      "loss: -0.83170 | bce: 0.04018 | dice: 0.86451 | 0 cls: -0.88081 | 1 cls: -0.84077 | 2 cls: -0.72227\n"
     ]
    },
    {
     "name": "stderr",
     "output_type": "stream",
     "text": [
      "Epoch 284, lr 0.00010799999999999998: 100% 21/21 [00:11<00:00,  1.89it/s, 0 cls=-0.83779, 1 cls=-0.76842, 2 cls=-0.68016, bce=0.07256, dice=0.84792, loss=-0.77852]\n"
     ]
    },
    {
     "name": "stdout",
     "output_type": "stream",
     "text": [
      "loss: -0.83206 | bce: 0.03833 | dice: 0.86285 | 0 cls: -0.88119 | 1 cls: -0.84092 | 2 cls: -0.72225\n"
     ]
    },
    {
     "name": "stderr",
     "output_type": "stream",
     "text": [
      "Epoch 285, lr 0.00010799999999999998: 100% 21/21 [00:11<00:00,  1.91it/s, 0 cls=-0.84057, 1 cls=-0.77139, 2 cls=-0.68468, bce=0.07255, dice=0.85136, loss=-0.78172]\n"
     ]
    },
    {
     "name": "stdout",
     "output_type": "stream",
     "text": [
      "loss: -0.83140 | bce: 0.03826 | dice: 0.86197 | 0 cls: -0.88013 | 1 cls: -0.84094 | 2 cls: -0.72069\n"
     ]
    },
    {
     "name": "stderr",
     "output_type": "stream",
     "text": [
      "Epoch 286, lr 0.00010799999999999998: 100% 21/21 [00:11<00:00,  1.89it/s, 0 cls=-0.84275, 1 cls=-0.77140, 2 cls=-0.68643, bce=0.07118, dice=0.85138, loss=-0.78295]\n"
     ]
    },
    {
     "name": "stdout",
     "output_type": "stream",
     "text": [
      "loss: -0.83295 | bce: 0.03903 | dice: 0.86436 | 0 cls: -0.88215 | 1 cls: -0.84102 | 2 cls: -0.72395\n"
     ]
    },
    {
     "name": "stderr",
     "output_type": "stream",
     "text": [
      "Epoch 287, lr 0.00010799999999999998: 100% 21/21 [00:10<00:00,  1.92it/s, 0 cls=-0.84276, 1 cls=-0.77415, 2 cls=-0.68664, bce=0.07106, dice=0.85194, loss=-0.78409]\n"
     ]
    },
    {
     "name": "stdout",
     "output_type": "stream",
     "text": [
      "loss: -0.82937 | bce: 0.04067 | dice: 0.86229 | 0 cls: -0.87829 | 1 cls: -0.83935 | 2 cls: -0.71725\n"
     ]
    },
    {
     "name": "stderr",
     "output_type": "stream",
     "text": [
      "Epoch 288, lr 0.00010799999999999998: 100% 21/21 [00:11<00:00,  1.88it/s, 0 cls=-0.83869, 1 cls=-0.77207, 2 cls=-0.68477, bce=0.07199, dice=0.85017, loss=-0.78126]\n"
     ]
    },
    {
     "name": "stdout",
     "output_type": "stream",
     "text": [
      "loss: -0.83107 | bce: 0.03761 | dice: 0.86060 | 0 cls: -0.87960 | 1 cls: -0.84061 | 2 cls: -0.71984\n"
     ]
    },
    {
     "name": "stderr",
     "output_type": "stream",
     "text": [
      "Epoch 289, lr 0.00010799999999999998: 100% 21/21 [00:10<00:00,  1.93it/s, 0 cls=-0.83931, 1 cls=-0.76996, 2 cls=-0.68381, bce=0.07159, dice=0.84914, loss=-0.78047]\n"
     ]
    },
    {
     "name": "stdout",
     "output_type": "stream",
     "text": [
      "loss: -0.82637 | bce: 0.04097 | dice: 0.85971 | 0 cls: -0.87778 | 1 cls: -0.83460 | 2 cls: -0.71362\n"
     ]
    },
    {
     "name": "stderr",
     "output_type": "stream",
     "text": [
      "Epoch 290, lr 0.0006400000000000002: 100% 21/21 [00:10<00:00,  1.93it/s, 0 cls=-0.80919, 1 cls=-0.74586, 2 cls=-0.64898, bce=0.08459, dice=0.83274, loss=-0.75182]\n"
     ]
    },
    {
     "name": "stdout",
     "output_type": "stream",
     "text": [
      "loss: -0.71559 | bce: 0.07027 | dice: 0.75592 | 0 cls: -0.71925 | 1 cls: -0.78952 | 2 cls: -0.56205\n"
     ]
    },
    {
     "name": "stderr",
     "output_type": "stream",
     "text": [
      "Epoch 291, lr 0.0006400000000000002: 100% 21/21 [00:11<00:00,  1.89it/s, 0 cls=-0.80651, 1 cls=-0.73237, 2 cls=-0.63240, bce=0.08490, dice=0.82332, loss=-0.74203]\n"
     ]
    },
    {
     "name": "stdout",
     "output_type": "stream",
     "text": [
      "loss: -0.73661 | bce: 0.07021 | dice: 0.78289 | 0 cls: -0.76679 | 1 cls: -0.78893 | 2 cls: -0.56996\n"
     ]
    },
    {
     "name": "stderr",
     "output_type": "stream",
     "text": [
      "Epoch 292, lr 0.00019200000000000003: 100% 21/21 [00:11<00:00,  1.90it/s, 0 cls=-0.82129, 1 cls=-0.75522, 2 cls=-0.65983, bce=0.07761, dice=0.83628, loss=-0.76257]\n"
     ]
    },
    {
     "name": "stdout",
     "output_type": "stream",
     "text": [
      "loss: -0.83103 | bce: 0.04276 | dice: 0.86739 | 0 cls: -0.88434 | 1 cls: -0.83531 | 2 cls: -0.72377\n"
     ]
    },
    {
     "name": "stderr",
     "output_type": "stream",
     "text": [
      "Epoch 293, lr 0.00019200000000000003: 100% 21/21 [00:11<00:00,  1.89it/s, 0 cls=-0.82716, 1 cls=-0.76169, 2 cls=-0.66818, bce=0.07662, dice=0.84203, loss=-0.76918]\n"
     ]
    },
    {
     "name": "stdout",
     "output_type": "stream",
     "text": [
      "loss: -0.83062 | bce: 0.04236 | dice: 0.86620 | 0 cls: -0.88274 | 1 cls: -0.83613 | 2 cls: -0.72239\n"
     ]
    },
    {
     "name": "stderr",
     "output_type": "stream",
     "text": [
      "Epoch 294, lr 5.760000000000001e-05: 100% 21/21 [00:11<00:00,  1.91it/s, 0 cls=-0.82900, 1 cls=-0.76280, 2 cls=-0.67350, bce=0.07475, dice=0.84308, loss=-0.77142]\n"
     ]
    },
    {
     "name": "stdout",
     "output_type": "stream",
     "text": [
      "loss: -0.83209 | bce: 0.04095 | dice: 0.86618 | 0 cls: -0.88325 | 1 cls: -0.83813 | 2 cls: -0.72392\n"
     ]
    },
    {
     "name": "stderr",
     "output_type": "stream",
     "text": [
      "Epoch 295, lr 0.0006400000000000002: 100% 21/21 [00:11<00:00,  1.90it/s, 0 cls=-0.81632, 1 cls=-0.75102, 2 cls=-0.65262, bce=0.08042, dice=0.83379, loss=-0.75746]\n"
     ]
    },
    {
     "name": "stdout",
     "output_type": "stream",
     "text": [
      "loss: -0.82646 | bce: 0.04218 | dice: 0.86146 | 0 cls: -0.88278 | 1 cls: -0.82743 | 2 cls: -0.71700\n"
     ]
    },
    {
     "name": "stderr",
     "output_type": "stream",
     "text": [
      "Epoch 296, lr 0.0006400000000000002: 100% 21/21 [00:11<00:00,  1.90it/s, 0 cls=-0.82790, 1 cls=-0.75736, 2 cls=-0.66511, bce=0.07696, dice=0.84069, loss=-0.76713]\n"
     ]
    },
    {
     "name": "stdout",
     "output_type": "stream",
     "text": [
      "loss: -0.83026 | bce: 0.04223 | dice: 0.86563 | 0 cls: -0.88249 | 1 cls: -0.83620 | 2 cls: -0.72024\n"
     ]
    },
    {
     "name": "stderr",
     "output_type": "stream",
     "text": [
      "Epoch 297, lr 0.00019200000000000003: 100% 21/21 [00:11<00:00,  1.86it/s, 0 cls=-0.83318, 1 cls=-0.76610, 2 cls=-0.67578, bce=0.07398, dice=0.84553, loss=-0.77487]\n"
     ]
    },
    {
     "name": "stdout",
     "output_type": "stream",
     "text": [
      "loss: -0.83204 | bce: 0.03950 | dice: 0.86412 | 0 cls: -0.88138 | 1 cls: -0.84019 | 2 cls: -0.72347\n"
     ]
    },
    {
     "name": "stderr",
     "output_type": "stream",
     "text": [
      "Epoch 298, lr 0.00019200000000000003: 100% 21/21 [00:11<00:00,  1.91it/s, 0 cls=-0.83405, 1 cls=-0.76552, 2 cls=-0.67738, bce=0.07411, dice=0.84639, loss=-0.77531]\n"
     ]
    },
    {
     "name": "stdout",
     "output_type": "stream",
     "text": [
      "loss: -0.83029 | bce: 0.04220 | dice: 0.86574 | 0 cls: -0.88146 | 1 cls: -0.83778 | 2 cls: -0.72148\n"
     ]
    },
    {
     "name": "stderr",
     "output_type": "stream",
     "text": [
      "Epoch 299, lr 5.760000000000001e-05: 100% 21/21 [00:10<00:00,  1.92it/s, 0 cls=-0.83306, 1 cls=-0.76627, 2 cls=-0.67654, bce=0.07528, dice=0.84700, loss=-0.77504]\n"
     ]
    },
    {
     "name": "stdout",
     "output_type": "stream",
     "text": [
      "loss: -0.83334 | bce: 0.03796 | dice: 0.86390 | 0 cls: -0.88201 | 1 cls: -0.84233 | 2 cls: -0.72460\n"
     ]
    },
    {
     "name": "stderr",
     "output_type": "stream",
     "text": [
      "Epoch 300, lr 6.479999999999999e-05: 100% 21/21 [00:11<00:00,  1.88it/s, 0 cls=-0.83359, 1 cls=-0.76874, 2 cls=-0.68099, bce=0.07329, dice=0.84723, loss=-0.77713]\n"
     ]
    },
    {
     "name": "stdout",
     "output_type": "stream",
     "text": [
      "loss: -0.83525 | bce: 0.03933 | dice: 0.86779 | 0 cls: -0.88410 | 1 cls: -0.84301 | 2 cls: -0.72907\n"
     ]
    },
    {
     "name": "stderr",
     "output_type": "stream",
     "text": [
      "Epoch 301, lr 6.479999999999999e-05: 100% 21/21 [00:10<00:00,  1.94it/s, 0 cls=-0.83698, 1 cls=-0.76736, 2 cls=-0.68123, bce=0.07311, dice=0.84818, loss=-0.77798]\n"
     ]
    },
    {
     "name": "stdout",
     "output_type": "stream",
     "text": [
      "loss: -0.83513 | bce: 0.03892 | dice: 0.86712 | 0 cls: -0.88385 | 1 cls: -0.84297 | 2 cls: -0.72899\n"
     ]
    },
    {
     "name": "stderr",
     "output_type": "stream",
     "text": [
      "Epoch 302, lr 6.479999999999999e-05: 100% 21/21 [00:11<00:00,  1.85it/s, 0 cls=-0.83354, 1 cls=-0.76428, 2 cls=-0.67651, bce=0.07417, dice=0.84576, loss=-0.77443]\n"
     ]
    },
    {
     "name": "stdout",
     "output_type": "stream",
     "text": [
      "loss: -0.83468 | bce: 0.03957 | dice: 0.86718 | 0 cls: -0.88395 | 1 cls: -0.84233 | 2 cls: -0.72773\n"
     ]
    },
    {
     "name": "stderr",
     "output_type": "stream",
     "text": [
      "Epoch 303, lr 6.479999999999999e-05: 100% 21/21 [00:11<00:00,  1.87it/s, 0 cls=-0.83295, 1 cls=-0.76622, 2 cls=-0.67737, bce=0.07352, dice=0.84541, loss=-0.77514]\n"
     ]
    },
    {
     "name": "stdout",
     "output_type": "stream",
     "text": [
      "loss: -0.83689 | bce: 0.03842 | dice: 0.86822 | 0 cls: -0.88478 | 1 cls: -0.84543 | 2 cls: -0.73093\n"
     ]
    },
    {
     "name": "stderr",
     "output_type": "stream",
     "text": [
      "Epoch 304, lr 6.479999999999999e-05: 100% 21/21 [00:11<00:00,  1.88it/s, 0 cls=-0.82699, 1 cls=-0.76329, 2 cls=-0.67377, bce=0.07520, dice=0.84269, loss=-0.77086]\n"
     ]
    },
    {
     "name": "stdout",
     "output_type": "stream",
     "text": [
      "loss: -0.83549 | bce: 0.03782 | dice: 0.86624 | 0 cls: -0.88422 | 1 cls: -0.84335 | 2 cls: -0.72893\n"
     ]
    },
    {
     "name": "stderr",
     "output_type": "stream",
     "text": [
      "Epoch 305, lr 6.479999999999999e-05: 100% 21/21 [00:11<00:00,  1.88it/s, 0 cls=-0.84005, 1 cls=-0.77082, 2 cls=-0.68373, bce=0.07241, dice=0.85037, loss=-0.78109]\n"
     ]
    },
    {
     "name": "stdout",
     "output_type": "stream",
     "text": [
      "loss: -0.83551 | bce: 0.03895 | dice: 0.86750 | 0 cls: -0.88423 | 1 cls: -0.84310 | 2 cls: -0.72957\n"
     ]
    },
    {
     "name": "stderr",
     "output_type": "stream",
     "text": [
      "Epoch 306, lr 6.479999999999999e-05: 100% 21/21 [00:10<00:00,  1.92it/s, 0 cls=-0.83644, 1 cls=-0.77080, 2 cls=-0.68216, bce=0.07304, dice=0.84903, loss=-0.77933]\n"
     ]
    },
    {
     "name": "stdout",
     "output_type": "stream",
     "text": [
      "loss: -0.83462 | bce: 0.03944 | dice: 0.86700 | 0 cls: -0.88321 | 1 cls: -0.84312 | 2 cls: -0.72766\n"
     ]
    },
    {
     "name": "stderr",
     "output_type": "stream",
     "text": [
      "Epoch 307, lr 6.479999999999999e-05: 100% 21/21 [00:11<00:00,  1.85it/s, 0 cls=-0.84190, 1 cls=-0.77346, 2 cls=-0.68588, bce=0.07176, dice=0.85189, loss=-0.78332]\n"
     ]
    },
    {
     "name": "stdout",
     "output_type": "stream",
     "text": [
      "loss: -0.83484 | bce: 0.03839 | dice: 0.86637 | 0 cls: -0.88405 | 1 cls: -0.84267 | 2 cls: -0.72824\n"
     ]
    },
    {
     "name": "stderr",
     "output_type": "stream",
     "text": [
      "Epoch 308, lr 6.479999999999999e-05: 100% 21/21 [00:11<00:00,  1.88it/s, 0 cls=-0.83833, 1 cls=-0.77138, 2 cls=-0.68359, bce=0.07286, dice=0.85029, loss=-0.78060]\n"
     ]
    },
    {
     "name": "stdout",
     "output_type": "stream",
     "text": [
      "loss: -0.83416 | bce: 0.04057 | dice: 0.86764 | 0 cls: -0.88341 | 1 cls: -0.84236 | 2 cls: -0.72716\n"
     ]
    },
    {
     "name": "stderr",
     "output_type": "stream",
     "text": [
      "Epoch 309, lr 6.479999999999999e-05: 100% 21/21 [00:11<00:00,  1.89it/s, 0 cls=-0.83889, 1 cls=-0.77014, 2 cls=-0.68217, bce=0.07248, dice=0.84941, loss=-0.78004]\n"
     ]
    },
    {
     "name": "stdout",
     "output_type": "stream",
     "text": [
      "loss: -0.83514 | bce: 0.03876 | dice: 0.86666 | 0 cls: -0.88401 | 1 cls: -0.84318 | 2 cls: -0.72806\n"
     ]
    },
    {
     "name": "stderr",
     "output_type": "stream",
     "text": [
      "Epoch 310, lr 6.479999999999999e-05: 100% 21/21 [00:10<00:00,  1.91it/s, 0 cls=-0.83972, 1 cls=-0.77063, 2 cls=-0.68295, bce=0.07292, dice=0.85058, loss=-0.78073]\n"
     ]
    },
    {
     "name": "stdout",
     "output_type": "stream",
     "text": [
      "loss: -0.83595 | bce: 0.03812 | dice: 0.86696 | 0 cls: -0.88453 | 1 cls: -0.84399 | 2 cls: -0.72904\n"
     ]
    },
    {
     "name": "stderr",
     "output_type": "stream",
     "text": [
      "Epoch 311, lr 6.479999999999999e-05: 100% 21/21 [00:10<00:00,  1.92it/s, 0 cls=-0.83331, 1 cls=-0.76667, 2 cls=-0.67836, bce=0.07445, dice=0.84697, loss=-0.77566]\n"
     ]
    },
    {
     "name": "stdout",
     "output_type": "stream",
     "text": [
      "loss: -0.83508 | bce: 0.03830 | dice: 0.86655 | 0 cls: -0.88446 | 1 cls: -0.84234 | 2 cls: -0.72826\n"
     ]
    },
    {
     "name": "stderr",
     "output_type": "stream",
     "text": [
      "Epoch 312, lr 6.479999999999999e-05: 100% 21/21 [00:10<00:00,  1.91it/s, 0 cls=-0.83802, 1 cls=-0.76803, 2 cls=-0.68061, bce=0.07308, dice=0.84864, loss=-0.77854]\n"
     ]
    },
    {
     "name": "stdout",
     "output_type": "stream",
     "text": [
      "loss: -0.83400 | bce: 0.03947 | dice: 0.86648 | 0 cls: -0.88364 | 1 cls: -0.84149 | 2 cls: -0.72665\n"
     ]
    },
    {
     "name": "stderr",
     "output_type": "stream",
     "text": [
      "Epoch 313, lr 6.479999999999999e-05: 100% 21/21 [00:11<00:00,  1.89it/s, 0 cls=-0.83775, 1 cls=-0.76856, 2 cls=-0.67956, bce=0.07271, dice=0.84795, loss=-0.77844]\n"
     ]
    },
    {
     "name": "stdout",
     "output_type": "stream",
     "text": [
      "loss: -0.83458 | bce: 0.03916 | dice: 0.86695 | 0 cls: -0.88407 | 1 cls: -0.84144 | 2 cls: -0.72801\n"
     ]
    },
    {
     "name": "stderr",
     "output_type": "stream",
     "text": [
      "Epoch 314, lr 6.479999999999999e-05: 100% 21/21 [00:11<00:00,  1.86it/s, 0 cls=-0.83904, 1 cls=-0.77119, 2 cls=-0.68406, bce=0.07188, dice=0.84977, loss=-0.78091]\n"
     ]
    },
    {
     "name": "stdout",
     "output_type": "stream",
     "text": [
      "loss: -0.83519 | bce: 0.03864 | dice: 0.86699 | 0 cls: -0.88487 | 1 cls: -0.84234 | 2 cls: -0.72879\n"
     ]
    },
    {
     "name": "stderr",
     "output_type": "stream",
     "text": [
      "Epoch 315, lr 6.479999999999999e-05: 100% 21/21 [00:11<00:00,  1.88it/s, 0 cls=-0.84181, 1 cls=-0.77371, 2 cls=-0.68815, bce=0.07182, dice=0.85266, loss=-0.78384]\n"
     ]
    },
    {
     "name": "stdout",
     "output_type": "stream",
     "text": [
      "loss: -0.83495 | bce: 0.03899 | dice: 0.86706 | 0 cls: -0.88459 | 1 cls: -0.84222 | 2 cls: -0.72790\n"
     ]
    },
    {
     "name": "stderr",
     "output_type": "stream",
     "text": [
      "Epoch 316, lr 6.479999999999999e-05: 100% 21/21 [00:11<00:00,  1.88it/s, 0 cls=-0.84010, 1 cls=-0.77003, 2 cls=-0.68339, bce=0.07176, dice=0.84963, loss=-0.78073]\n"
     ]
    },
    {
     "name": "stdout",
     "output_type": "stream",
     "text": [
      "loss: -0.83345 | bce: 0.03970 | dice: 0.86612 | 0 cls: -0.88344 | 1 cls: -0.84086 | 2 cls: -0.72539\n"
     ]
    },
    {
     "name": "stderr",
     "output_type": "stream",
     "text": [
      "Epoch 317, lr 6.479999999999999e-05: 100% 21/21 [00:11<00:00,  1.85it/s, 0 cls=-0.83811, 1 cls=-0.76888, 2 cls=-0.68198, bce=0.07305, dice=0.84930, loss=-0.77919]\n"
     ]
    },
    {
     "name": "stdout",
     "output_type": "stream",
     "text": [
      "loss: -0.83378 | bce: 0.03881 | dice: 0.86550 | 0 cls: -0.88319 | 1 cls: -0.84151 | 2 cls: -0.72598\n"
     ]
    },
    {
     "name": "stderr",
     "output_type": "stream",
     "text": [
      "Epoch 318, lr 6.479999999999999e-05: 100% 21/21 [00:11<00:00,  1.90it/s, 0 cls=-0.84025, 1 cls=-0.77190, 2 cls=-0.68489, bce=0.07220, dice=0.85097, loss=-0.78184]\n"
     ]
    },
    {
     "name": "stdout",
     "output_type": "stream",
     "text": [
      "loss: -0.83425 | bce: 0.03845 | dice: 0.86533 | 0 cls: -0.88275 | 1 cls: -0.84301 | 2 cls: -0.72598\n"
     ]
    },
    {
     "name": "stderr",
     "output_type": "stream",
     "text": [
      "Epoch 319, lr 6.479999999999999e-05: 100% 21/21 [00:11<00:00,  1.86it/s, 0 cls=-0.83931, 1 cls=-0.77093, 2 cls=-0.68460, bce=0.07171, dice=0.84978, loss=-0.78102]\n"
     ]
    },
    {
     "name": "stdout",
     "output_type": "stream",
     "text": [
      "loss: -0.83382 | bce: 0.03966 | dice: 0.86623 | 0 cls: -0.88304 | 1 cls: -0.84224 | 2 cls: -0.72524\n"
     ]
    },
    {
     "name": "stderr",
     "output_type": "stream",
     "text": [
      "Epoch 320, lr 6.479999999999999e-05: 100% 21/21 [00:11<00:00,  1.85it/s, 0 cls=-0.84249, 1 cls=-0.77265, 2 cls=-0.68750, bce=0.07148, dice=0.85228, loss=-0.78356]\n"
     ]
    },
    {
     "name": "stdout",
     "output_type": "stream",
     "text": [
      "loss: -0.83396 | bce: 0.03837 | dice: 0.86519 | 0 cls: -0.88340 | 1 cls: -0.84181 | 2 cls: -0.72569\n"
     ]
    },
    {
     "name": "stderr",
     "output_type": "stream",
     "text": [
      "Epoch 321, lr 6.479999999999999e-05: 100% 21/21 [00:11<00:00,  1.87it/s, 0 cls=-0.83323, 1 cls=-0.76628, 2 cls=-0.67886, bce=0.07427, dice=0.84690, loss=-0.77558]\n"
     ]
    },
    {
     "name": "stdout",
     "output_type": "stream",
     "text": [
      "loss: -0.83151 | bce: 0.03798 | dice: 0.86210 | 0 cls: -0.88076 | 1 cls: -0.84036 | 2 cls: -0.72138\n"
     ]
    },
    {
     "name": "stderr",
     "output_type": "stream",
     "text": [
      "Epoch 322, lr 6.479999999999999e-05: 100% 21/21 [00:11<00:00,  1.91it/s, 0 cls=-0.83897, 1 cls=-0.77072, 2 cls=-0.68392, bce=0.07094, dice=0.84856, loss=-0.78066]\n"
     ]
    },
    {
     "name": "stdout",
     "output_type": "stream",
     "text": [
      "loss: -0.83471 | bce: 0.03973 | dice: 0.86771 | 0 cls: -0.88438 | 1 cls: -0.84253 | 2 cls: -0.72745\n"
     ]
    },
    {
     "name": "stderr",
     "output_type": "stream",
     "text": [
      "Epoch 323, lr 6.479999999999999e-05: 100% 21/21 [00:11<00:00,  1.89it/s, 0 cls=-0.84421, 1 cls=-0.77702, 2 cls=-0.69090, bce=0.07091, dice=0.85451, loss=-0.78667]\n"
     ]
    },
    {
     "name": "stdout",
     "output_type": "stream",
     "text": [
      "loss: -0.83433 | bce: 0.03867 | dice: 0.86633 | 0 cls: -0.88377 | 1 cls: -0.84180 | 2 cls: -0.72743\n"
     ]
    },
    {
     "name": "stderr",
     "output_type": "stream",
     "text": [
      "Epoch 324, lr 6.479999999999999e-05: 100% 21/21 [00:11<00:00,  1.90it/s, 0 cls=-0.83802, 1 cls=-0.77088, 2 cls=-0.68362, bce=0.07213, dice=0.84936, loss=-0.78029]\n"
     ]
    },
    {
     "name": "stdout",
     "output_type": "stream",
     "text": [
      "loss: -0.83401 | bce: 0.03899 | dice: 0.86595 | 0 cls: -0.88378 | 1 cls: -0.84188 | 2 cls: -0.72630\n"
     ]
    },
    {
     "name": "stderr",
     "output_type": "stream",
     "text": [
      "Epoch 325, lr 6.479999999999999e-05: 100% 21/21 [00:11<00:00,  1.89it/s, 0 cls=-0.84029, 1 cls=-0.77337, 2 cls=-0.68656, bce=0.07186, dice=0.85154, loss=-0.78277]\n"
     ]
    },
    {
     "name": "stdout",
     "output_type": "stream",
     "text": [
      "loss: -0.83404 | bce: 0.03919 | dice: 0.86630 | 0 cls: -0.88370 | 1 cls: -0.84166 | 2 cls: -0.72656\n"
     ]
    },
    {
     "name": "stderr",
     "output_type": "stream",
     "text": [
      "Epoch 326, lr 6.479999999999999e-05: 100% 21/21 [00:10<00:00,  1.93it/s, 0 cls=-0.84073, 1 cls=-0.77280, 2 cls=-0.68549, bce=0.07130, dice=0.85068, loss=-0.78251]\n"
     ]
    },
    {
     "name": "stdout",
     "output_type": "stream",
     "text": [
      "loss: -0.83371 | bce: 0.03888 | dice: 0.86546 | 0 cls: -0.88310 | 1 cls: -0.84178 | 2 cls: -0.72591\n"
     ]
    },
    {
     "name": "stderr",
     "output_type": "stream",
     "text": [
      "Epoch 327, lr 6.479999999999999e-05: 100% 21/21 [00:11<00:00,  1.88it/s, 0 cls=-0.83744, 1 cls=-0.76852, 2 cls=-0.68035, bce=0.07290, dice=0.84828, loss=-0.77845]\n"
     ]
    },
    {
     "name": "stdout",
     "output_type": "stream",
     "text": [
      "loss: -0.83296 | bce: 0.03847 | dice: 0.86432 | 0 cls: -0.88225 | 1 cls: -0.84134 | 2 cls: -0.72491\n"
     ]
    },
    {
     "name": "stderr",
     "output_type": "stream",
     "text": [
      "Epoch 328, lr 6.479999999999999e-05: 100% 21/21 [00:11<00:00,  1.89it/s, 0 cls=-0.84264, 1 cls=-0.77339, 2 cls=-0.68750, bce=0.07090, dice=0.85181, loss=-0.78391]\n"
     ]
    },
    {
     "name": "stdout",
     "output_type": "stream",
     "text": [
      "loss: -0.83323 | bce: 0.03972 | dice: 0.86614 | 0 cls: -0.88312 | 1 cls: -0.84127 | 2 cls: -0.72509\n"
     ]
    },
    {
     "name": "stderr",
     "output_type": "stream",
     "text": [
      "Epoch 329, lr 6.479999999999999e-05: 100% 21/21 [00:11<00:00,  1.88it/s, 0 cls=-0.83593, 1 cls=-0.76848, 2 cls=-0.68128, bce=0.07333, dice=0.84834, loss=-0.77802]\n"
     ]
    },
    {
     "name": "stdout",
     "output_type": "stream",
     "text": [
      "loss: -0.83281 | bce: 0.03844 | dice: 0.86440 | 0 cls: -0.88266 | 1 cls: -0.84111 | 2 cls: -0.72415\n"
     ]
    },
    {
     "name": "stderr",
     "output_type": "stream",
     "text": [
      "Epoch 330, lr 6.479999999999999e-05: 100% 21/21 [00:11<00:00,  1.88it/s, 0 cls=-0.83993, 1 cls=-0.77231, 2 cls=-0.68613, bce=0.07120, dice=0.85031, loss=-0.78212]\n"
     ]
    },
    {
     "name": "stdout",
     "output_type": "stream",
     "text": [
      "loss: -0.83193 | bce: 0.03825 | dice: 0.86282 | 0 cls: -0.88175 | 1 cls: -0.84030 | 2 cls: -0.72215\n"
     ]
    },
    {
     "name": "stderr",
     "output_type": "stream",
     "text": [
      "Epoch 331, lr 6.479999999999999e-05: 100% 21/21 [00:11<00:00,  1.90it/s, 0 cls=-0.84244, 1 cls=-0.77269, 2 cls=-0.68736, bce=0.07146, dice=0.85224, loss=-0.78353]\n"
     ]
    },
    {
     "name": "stdout",
     "output_type": "stream",
     "text": [
      "loss: -0.83250 | bce: 0.03922 | dice: 0.86487 | 0 cls: -0.88232 | 1 cls: -0.84060 | 2 cls: -0.72343\n"
     ]
    },
    {
     "name": "stderr",
     "output_type": "stream",
     "text": [
      "Epoch 332, lr 6.479999999999999e-05: 100% 21/21 [00:11<00:00,  1.87it/s, 0 cls=-0.84090, 1 cls=-0.77225, 2 cls=-0.68404, bce=0.07200, dice=0.85080, loss=-0.78207]\n"
     ]
    },
    {
     "name": "stdout",
     "output_type": "stream",
     "text": [
      "loss: -0.83103 | bce: 0.03870 | dice: 0.86221 | 0 cls: -0.88075 | 1 cls: -0.83939 | 2 cls: -0.72093\n"
     ]
    },
    {
     "name": "stderr",
     "output_type": "stream",
     "text": [
      "Epoch 333, lr 6.479999999999999e-05: 100% 21/21 [00:11<00:00,  1.89it/s, 0 cls=-0.83983, 1 cls=-0.77311, 2 cls=-0.68461, bce=0.07144, dice=0.85026, loss=-0.78210]\n"
     ]
    },
    {
     "name": "stdout",
     "output_type": "stream",
     "text": [
      "loss: -0.83318 | bce: 0.03940 | dice: 0.86545 | 0 cls: -0.88262 | 1 cls: -0.84108 | 2 cls: -0.72502\n"
     ]
    },
    {
     "name": "stderr",
     "output_type": "stream",
     "text": [
      "Epoch 334, lr 6.479999999999999e-05: 100% 21/21 [00:11<00:00,  1.91it/s, 0 cls=-0.84481, 1 cls=-0.77806, 2 cls=-0.69283, bce=0.07005, dice=0.85474, loss=-0.78772]\n"
     ]
    },
    {
     "name": "stdout",
     "output_type": "stream",
     "text": [
      "loss: -0.82968 | bce: 0.03948 | dice: 0.86184 | 0 cls: -0.87984 | 1 cls: -0.83865 | 2 cls: -0.71864\n"
     ]
    },
    {
     "name": "stderr",
     "output_type": "stream",
     "text": [
      "Epoch 335, lr 6.479999999999999e-05: 100% 21/21 [00:10<00:00,  1.94it/s, 0 cls=-0.84594, 1 cls=-0.77422, 2 cls=-0.69223, bce=0.06985, dice=0.85400, loss=-0.78651]\n"
     ]
    },
    {
     "name": "stdout",
     "output_type": "stream",
     "text": [
      "loss: -0.83356 | bce: 0.03967 | dice: 0.86635 | 0 cls: -0.88315 | 1 cls: -0.84129 | 2 cls: -0.72569\n"
     ]
    },
    {
     "name": "stderr",
     "output_type": "stream",
     "text": [
      "Epoch 336, lr 6.479999999999999e-05: 100% 21/21 [00:11<00:00,  1.89it/s, 0 cls=-0.84235, 1 cls=-0.77379, 2 cls=-0.68650, bce=0.07123, dice=0.85186, loss=-0.78376]\n"
     ]
    },
    {
     "name": "stdout",
     "output_type": "stream",
     "text": [
      "loss: -0.83300 | bce: 0.03930 | dice: 0.86526 | 0 cls: -0.88290 | 1 cls: -0.84070 | 2 cls: -0.72464\n"
     ]
    },
    {
     "name": "stderr",
     "output_type": "stream",
     "text": [
      "Epoch 337, lr 6.479999999999999e-05: 100% 21/21 [00:10<00:00,  1.91it/s, 0 cls=-0.84134, 1 cls=-0.77209, 2 cls=-0.68694, bce=0.07166, dice=0.85161, loss=-0.78276]\n"
     ]
    },
    {
     "name": "stdout",
     "output_type": "stream",
     "text": [
      "loss: -0.83206 | bce: 0.03970 | dice: 0.86476 | 0 cls: -0.88221 | 1 cls: -0.84018 | 2 cls: -0.72248\n"
     ]
    },
    {
     "name": "stderr",
     "output_type": "stream",
     "text": [
      "Epoch 338, lr 6.479999999999999e-05: 100% 21/21 [00:11<00:00,  1.90it/s, 0 cls=-0.84365, 1 cls=-0.77754, 2 cls=-0.69095, bce=0.07113, dice=0.85465, loss=-0.78667]\n"
     ]
    },
    {
     "name": "stdout",
     "output_type": "stream",
     "text": [
      "loss: -0.83264 | bce: 0.03895 | dice: 0.86456 | 0 cls: -0.88235 | 1 cls: -0.84085 | 2 cls: -0.72324\n"
     ]
    },
    {
     "name": "stderr",
     "output_type": "stream",
     "text": [
      "Epoch 339, lr 6.479999999999999e-05: 100% 21/21 [00:11<00:00,  1.88it/s, 0 cls=-0.84630, 1 cls=-0.77610, 2 cls=-0.69153, bce=0.07057, dice=0.85501, loss=-0.78727]\n"
     ]
    },
    {
     "name": "stdout",
     "output_type": "stream",
     "text": [
      "loss: -0.83251 | bce: 0.03896 | dice: 0.86428 | 0 cls: -0.88210 | 1 cls: -0.84088 | 2 cls: -0.72353\n"
     ]
    },
    {
     "name": "stderr",
     "output_type": "stream",
     "text": [
      "Epoch 340, lr 6.479999999999999e-05: 100% 21/21 [00:11<00:00,  1.89it/s, 0 cls=-0.83953, 1 cls=-0.77231, 2 cls=-0.68599, bce=0.07222, dice=0.85122, loss=-0.78194]\n"
     ]
    },
    {
     "name": "stdout",
     "output_type": "stream",
     "text": [
      "loss: -0.83121 | bce: 0.03967 | dice: 0.86329 | 0 cls: -0.88004 | 1 cls: -0.84051 | 2 cls: -0.72170\n"
     ]
    },
    {
     "name": "stderr",
     "output_type": "stream",
     "text": [
      "Epoch 341, lr 6.479999999999999e-05: 100% 21/21 [00:11<00:00,  1.91it/s, 0 cls=-0.83873, 1 cls=-0.77132, 2 cls=-0.68331, bce=0.07224, dice=0.84973, loss=-0.78068]\n"
     ]
    },
    {
     "name": "stdout",
     "output_type": "stream",
     "text": [
      "loss: -0.83196 | bce: 0.03829 | dice: 0.86319 | 0 cls: -0.88164 | 1 cls: -0.84037 | 2 cls: -0.72243\n"
     ]
    },
    {
     "name": "stderr",
     "output_type": "stream",
     "text": [
      "Epoch 342, lr 6.479999999999999e-05: 100% 21/21 [00:11<00:00,  1.90it/s, 0 cls=-0.83974, 1 cls=-0.77310, 2 cls=-0.68565, bce=0.07210, dice=0.85119, loss=-0.78227]\n"
     ]
    },
    {
     "name": "stdout",
     "output_type": "stream",
     "text": [
      "loss: -0.83229 | bce: 0.03867 | dice: 0.86340 | 0 cls: -0.88123 | 1 cls: -0.84127 | 2 cls: -0.72268\n"
     ]
    },
    {
     "name": "stderr",
     "output_type": "stream",
     "text": [
      "Epoch 343, lr 6.479999999999999e-05: 100% 21/21 [00:11<00:00,  1.85it/s, 0 cls=-0.83913, 1 cls=-0.77290, 2 cls=-0.68652, bce=0.07168, dice=0.85071, loss=-0.78211]\n"
     ]
    },
    {
     "name": "stdout",
     "output_type": "stream",
     "text": [
      "loss: -0.83356 | bce: 0.03840 | dice: 0.86457 | 0 cls: -0.88222 | 1 cls: -0.84289 | 2 cls: -0.72458\n"
     ]
    },
    {
     "name": "stderr",
     "output_type": "stream",
     "text": [
      "Epoch 344, lr 6.479999999999999e-05: 100% 21/21 [00:11<00:00,  1.90it/s, 0 cls=-0.84142, 1 cls=-0.77290, 2 cls=-0.68658, bce=0.07200, dice=0.85202, loss=-0.78304]\n"
     ]
    },
    {
     "name": "stdout",
     "output_type": "stream",
     "text": [
      "loss: -0.83111 | bce: 0.03897 | dice: 0.86256 | 0 cls: -0.88066 | 1 cls: -0.84029 | 2 cls: -0.72034\n"
     ]
    },
    {
     "name": "stderr",
     "output_type": "stream",
     "text": [
      "Epoch 345, lr 6.479999999999999e-05: 100% 21/21 [00:11<00:00,  1.88it/s, 0 cls=-0.84226, 1 cls=-0.77657, 2 cls=-0.68900, bce=0.07029, dice=0.85230, loss=-0.78534]\n"
     ]
    },
    {
     "name": "stdout",
     "output_type": "stream",
     "text": [
      "loss: -0.82733 | bce: 0.03980 | dice: 0.85896 | 0 cls: -0.87625 | 1 cls: -0.83877 | 2 cls: -0.71266\n"
     ]
    },
    {
     "name": "stderr",
     "output_type": "stream",
     "text": [
      "Epoch 346, lr 6.479999999999999e-05: 100% 21/21 [00:10<00:00,  1.92it/s, 0 cls=-0.84444, 1 cls=-0.77618, 2 cls=-0.68995, bce=0.07001, dice=0.85316, loss=-0.78624]\n"
     ]
    },
    {
     "name": "stdout",
     "output_type": "stream",
     "text": [
      "loss: -0.83252 | bce: 0.03979 | dice: 0.86511 | 0 cls: -0.88160 | 1 cls: -0.84131 | 2 cls: -0.72362\n"
     ]
    },
    {
     "name": "stderr",
     "output_type": "stream",
     "text": [
      "Epoch 347, lr 6.479999999999999e-05: 100% 21/21 [00:11<00:00,  1.89it/s, 0 cls=-0.84186, 1 cls=-0.77509, 2 cls=-0.68764, bce=0.07242, dice=0.85358, loss=-0.78431]\n"
     ]
    },
    {
     "name": "stdout",
     "output_type": "stream",
     "text": [
      "loss: -0.83214 | bce: 0.03925 | dice: 0.86449 | 0 cls: -0.88185 | 1 cls: -0.84059 | 2 cls: -0.72300\n"
     ]
    },
    {
     "name": "stderr",
     "output_type": "stream",
     "text": [
      "Epoch 348, lr 6.479999999999999e-05: 100% 21/21 [00:11<00:00,  1.91it/s, 0 cls=-0.84029, 1 cls=-0.77217, 2 cls=-0.68657, bce=0.07139, dice=0.85071, loss=-0.78230]\n"
     ]
    },
    {
     "name": "stdout",
     "output_type": "stream",
     "text": [
      "loss: -0.83372 | bce: 0.03973 | dice: 0.86634 | 0 cls: -0.88290 | 1 cls: -0.84197 | 2 cls: -0.72548\n"
     ]
    },
    {
     "name": "stderr",
     "output_type": "stream",
     "text": [
      "Epoch 349, lr 6.479999999999999e-05: 100% 21/21 [00:11<00:00,  1.91it/s, 0 cls=-0.84146, 1 cls=-0.77160, 2 cls=-0.68639, bce=0.07232, dice=0.85209, loss=-0.78250]\n"
     ]
    },
    {
     "name": "stdout",
     "output_type": "stream",
     "text": [
      "loss: -0.83131 | bce: 0.04023 | dice: 0.86468 | 0 cls: -0.88174 | 1 cls: -0.83953 | 2 cls: -0.72194\n"
     ]
    },
    {
     "name": "stderr",
     "output_type": "stream",
     "text": [
      "Epoch 350, lr 6.479999999999999e-05: 100% 21/21 [00:11<00:00,  1.88it/s, 0 cls=-0.84016, 1 cls=-0.77222, 2 cls=-0.68436, bce=0.07203, dice=0.85067, loss=-0.78182]\n"
     ]
    },
    {
     "name": "stdout",
     "output_type": "stream",
     "text": [
      "loss: -0.83101 | bce: 0.03885 | dice: 0.86232 | 0 cls: -0.87984 | 1 cls: -0.84081 | 2 cls: -0.72026\n"
     ]
    },
    {
     "name": "stderr",
     "output_type": "stream",
     "text": [
      "Epoch 351, lr 6.479999999999999e-05: 100% 21/21 [00:11<00:00,  1.88it/s, 0 cls=-0.84129, 1 cls=-0.77222, 2 cls=-0.68652, bce=0.07078, dice=0.85065, loss=-0.78271]\n"
     ]
    },
    {
     "name": "stdout",
     "output_type": "stream",
     "text": [
      "loss: -0.83290 | bce: 0.03950 | dice: 0.86521 | 0 cls: -0.88225 | 1 cls: -0.84148 | 2 cls: -0.72367\n"
     ]
    },
    {
     "name": "stderr",
     "output_type": "stream",
     "text": [
      "Epoch 352, lr 6.479999999999999e-05: 100% 21/21 [00:11<00:00,  1.88it/s, 0 cls=-0.83569, 1 cls=-0.76966, 2 cls=-0.68196, bce=0.07345, dice=0.84878, loss=-0.77853]\n"
     ]
    },
    {
     "name": "stdout",
     "output_type": "stream",
     "text": [
      "loss: -0.83182 | bce: 0.03954 | dice: 0.86380 | 0 cls: -0.88089 | 1 cls: -0.84139 | 2 cls: -0.72161\n"
     ]
    },
    {
     "name": "stderr",
     "output_type": "stream",
     "text": [
      "Epoch 353, lr 6.479999999999999e-05: 100% 21/21 [00:11<00:00,  1.89it/s, 0 cls=-0.84112, 1 cls=-0.77569, 2 cls=-0.68815, bce=0.07116, dice=0.85214, loss=-0.78435]\n"
     ]
    },
    {
     "name": "stdout",
     "output_type": "stream",
     "text": [
      "loss: -0.83158 | bce: 0.03981 | dice: 0.86377 | 0 cls: -0.88010 | 1 cls: -0.84131 | 2 cls: -0.72211\n"
     ]
    },
    {
     "name": "stderr",
     "output_type": "stream",
     "text": [
      "Epoch 354, lr 6.479999999999999e-05: 100% 21/21 [00:11<00:00,  1.89it/s, 0 cls=-0.84155, 1 cls=-0.77486, 2 cls=-0.68794, bce=0.07104, dice=0.85204, loss=-0.78415]\n"
     ]
    },
    {
     "name": "stdout",
     "output_type": "stream",
     "text": [
      "loss: -0.83219 | bce: 0.03922 | dice: 0.86422 | 0 cls: -0.88172 | 1 cls: -0.84042 | 2 cls: -0.72273\n"
     ]
    },
    {
     "name": "stderr",
     "output_type": "stream",
     "text": [
      "Epoch 355, lr 6.479999999999999e-05: 100% 21/21 [00:11<00:00,  1.88it/s, 0 cls=-0.84301, 1 cls=-0.77626, 2 cls=-0.68905, bce=0.07073, dice=0.85302, loss=-0.78552]\n"
     ]
    },
    {
     "name": "stdout",
     "output_type": "stream",
     "text": [
      "loss: -0.83270 | bce: 0.03954 | dice: 0.86501 | 0 cls: -0.88205 | 1 cls: -0.84109 | 2 cls: -0.72418\n"
     ]
    },
    {
     "name": "stderr",
     "output_type": "stream",
     "text": [
      "Epoch 356, lr 6.479999999999999e-05: 100% 21/21 [00:11<00:00,  1.87it/s, 0 cls=-0.84454, 1 cls=-0.77922, 2 cls=-0.69264, bce=0.06998, dice=0.85472, loss=-0.78803]\n"
     ]
    },
    {
     "name": "stdout",
     "output_type": "stream",
     "text": [
      "loss: -0.83192 | bce: 0.03889 | dice: 0.86326 | 0 cls: -0.88110 | 1 cls: -0.84083 | 2 cls: -0.72194\n"
     ]
    },
    {
     "name": "stderr",
     "output_type": "stream",
     "text": [
      "Epoch 357, lr 6.479999999999999e-05: 100% 21/21 [00:11<00:00,  1.86it/s, 0 cls=-0.84315, 1 cls=-0.77417, 2 cls=-0.68903, bce=0.07077, dice=0.85270, loss=-0.78473]\n"
     ]
    },
    {
     "name": "stdout",
     "output_type": "stream",
     "text": [
      "loss: -0.83193 | bce: 0.03839 | dice: 0.86297 | 0 cls: -0.88095 | 1 cls: -0.84126 | 2 cls: -0.72156\n"
     ]
    },
    {
     "name": "stderr",
     "output_type": "stream",
     "text": [
      "Epoch 358, lr 6.479999999999999e-05: 100% 21/21 [00:11<00:00,  1.85it/s, 0 cls=-0.84239, 1 cls=-0.77369, 2 cls=-0.68928, bce=0.07075, dice=0.85228, loss=-0.78429]\n"
     ]
    },
    {
     "name": "stdout",
     "output_type": "stream",
     "text": [
      "loss: -0.83152 | bce: 0.03991 | dice: 0.86368 | 0 cls: -0.88015 | 1 cls: -0.84149 | 2 cls: -0.72046\n"
     ]
    },
    {
     "name": "stderr",
     "output_type": "stream",
     "text": [
      "Epoch 359, lr 6.479999999999999e-05: 100% 21/21 [00:11<00:00,  1.89it/s, 0 cls=-0.83977, 1 cls=-0.77423, 2 cls=-0.68760, bce=0.07175, dice=0.85174, loss=-0.78312]\n"
     ]
    },
    {
     "name": "stdout",
     "output_type": "stream",
     "text": [
      "loss: -0.83107 | bce: 0.03915 | dice: 0.86242 | 0 cls: -0.88028 | 1 cls: -0.84040 | 2 cls: -0.72041\n"
     ]
    },
    {
     "name": "stderr",
     "output_type": "stream",
     "text": [
      "Epoch 360, lr 6.479999999999999e-05: 100% 21/21 [00:11<00:00,  1.91it/s, 0 cls=-0.84170, 1 cls=-0.77433, 2 cls=-0.68754, bce=0.07080, dice=0.85158, loss=-0.78392]\n"
     ]
    },
    {
     "name": "stdout",
     "output_type": "stream",
     "text": [
      "loss: -0.83366 | bce: 0.04084 | dice: 0.86736 | 0 cls: -0.88248 | 1 cls: -0.84263 | 2 cls: -0.72484\n"
     ]
    },
    {
     "name": "stderr",
     "output_type": "stream",
     "text": [
      "Epoch 361, lr 6.479999999999999e-05: 100% 21/21 [00:11<00:00,  1.91it/s, 0 cls=-0.84251, 1 cls=-0.77230, 2 cls=-0.68771, bce=0.07144, dice=0.85224, loss=-0.78347]\n"
     ]
    },
    {
     "name": "stdout",
     "output_type": "stream",
     "text": [
      "loss: -0.83394 | bce: 0.03808 | dice: 0.86445 | 0 cls: -0.88250 | 1 cls: -0.84327 | 2 cls: -0.72465\n"
     ]
    },
    {
     "name": "stderr",
     "output_type": "stream",
     "text": [
      "Epoch 362, lr 6.479999999999999e-05: 100% 21/21 [00:11<00:00,  1.89it/s, 0 cls=-0.84168, 1 cls=-0.77269, 2 cls=-0.68714, bce=0.07133, dice=0.85164, loss=-0.78318]\n"
     ]
    },
    {
     "name": "stdout",
     "output_type": "stream",
     "text": [
      "loss: -0.83107 | bce: 0.03906 | dice: 0.86266 | 0 cls: -0.88058 | 1 cls: -0.84021 | 2 cls: -0.72045\n"
     ]
    },
    {
     "name": "stderr",
     "output_type": "stream",
     "text": [
      "Epoch 363, lr 6.479999999999999e-05: 100% 21/21 [00:10<00:00,  1.92it/s, 0 cls=-0.84068, 1 cls=-0.77374, 2 cls=-0.68705, bce=0.07107, dice=0.85113, loss=-0.78318]\n"
     ]
    },
    {
     "name": "stdout",
     "output_type": "stream",
     "text": [
      "loss: -0.83160 | bce: 0.03925 | dice: 0.86334 | 0 cls: -0.88037 | 1 cls: -0.84132 | 2 cls: -0.72104\n"
     ]
    },
    {
     "name": "stderr",
     "output_type": "stream",
     "text": [
      "Epoch 364, lr 6.479999999999999e-05: 100% 21/21 [00:11<00:00,  1.91it/s, 0 cls=-0.84127, 1 cls=-0.77427, 2 cls=-0.68760, bce=0.07210, dice=0.85268, loss=-0.78373]\n"
     ]
    },
    {
     "name": "stdout",
     "output_type": "stream",
     "text": [
      "loss: -0.82997 | bce: 0.03870 | dice: 0.86078 | 0 cls: -0.87883 | 1 cls: -0.83980 | 2 cls: -0.71844\n"
     ]
    },
    {
     "name": "stderr",
     "output_type": "stream",
     "text": [
      "Epoch 365, lr 6.479999999999999e-05: 100% 21/21 [00:11<00:00,  1.87it/s, 0 cls=-0.84666, 1 cls=-0.77792, 2 cls=-0.69324, bce=0.06966, dice=0.85521, loss=-0.78848]\n"
     ]
    },
    {
     "name": "stdout",
     "output_type": "stream",
     "text": [
      "loss: -0.83060 | bce: 0.03926 | dice: 0.86251 | 0 cls: -0.88030 | 1 cls: -0.83891 | 2 cls: -0.71991\n"
     ]
    },
    {
     "name": "stderr",
     "output_type": "stream",
     "text": [
      "Epoch 366, lr 6.479999999999999e-05: 100% 21/21 [00:11<00:00,  1.88it/s, 0 cls=-0.83678, 1 cls=-0.77104, 2 cls=-0.68580, bce=0.07160, dice=0.84896, loss=-0.78029]\n"
     ]
    },
    {
     "name": "stdout",
     "output_type": "stream",
     "text": [
      "loss: -0.83097 | bce: 0.04066 | dice: 0.86410 | 0 cls: -0.88099 | 1 cls: -0.83941 | 2 cls: -0.72051\n"
     ]
    },
    {
     "name": "stderr",
     "output_type": "stream",
     "text": [
      "Epoch 367, lr 6.479999999999999e-05: 100% 21/21 [00:11<00:00,  1.90it/s, 0 cls=-0.84190, 1 cls=-0.77404, 2 cls=-0.68960, bce=0.07090, dice=0.85235, loss=-0.78429]\n"
     ]
    },
    {
     "name": "stdout",
     "output_type": "stream",
     "text": [
      "loss: -0.83176 | bce: 0.03875 | dice: 0.86270 | 0 cls: -0.88041 | 1 cls: -0.84138 | 2 cls: -0.72123\n"
     ]
    },
    {
     "name": "stderr",
     "output_type": "stream",
     "text": [
      "Epoch 368, lr 6.479999999999999e-05: 100% 21/21 [00:11<00:00,  1.91it/s, 0 cls=-0.84249, 1 cls=-0.77326, 2 cls=-0.68806, bce=0.07187, dice=0.85295, loss=-0.78391]\n"
     ]
    },
    {
     "name": "stdout",
     "output_type": "stream",
     "text": [
      "loss: -0.83043 | bce: 0.03827 | dice: 0.86092 | 0 cls: -0.87905 | 1 cls: -0.84071 | 2 cls: -0.71814\n"
     ]
    },
    {
     "name": "stderr",
     "output_type": "stream",
     "text": [
      "Epoch 369, lr 6.479999999999999e-05: 100% 21/21 [00:11<00:00,  1.88it/s, 0 cls=-0.84775, 1 cls=-0.77956, 2 cls=-0.69454, bce=0.06935, dice=0.85621, loss=-0.78983]\n"
     ]
    },
    {
     "name": "stdout",
     "output_type": "stream",
     "text": [
      "loss: -0.83350 | bce: 0.03988 | dice: 0.86605 | 0 cls: -0.88232 | 1 cls: -0.84207 | 2 cls: -0.72467\n"
     ]
    },
    {
     "name": "stderr",
     "output_type": "stream",
     "text": [
      "Epoch 370, lr 6.479999999999999e-05: 100% 21/21 [00:11<00:00,  1.88it/s, 0 cls=-0.84346, 1 cls=-0.77554, 2 cls=-0.69137, bce=0.07007, dice=0.85314, loss=-0.78587]\n"
     ]
    },
    {
     "name": "stdout",
     "output_type": "stream",
     "text": [
      "loss: -0.83247 | bce: 0.03911 | dice: 0.86416 | 0 cls: -0.88159 | 1 cls: -0.84148 | 2 cls: -0.72336\n"
     ]
    },
    {
     "name": "stderr",
     "output_type": "stream",
     "text": [
      "Epoch 371, lr 6.479999999999999e-05: 100% 21/21 [00:11<00:00,  1.88it/s, 0 cls=-0.84588, 1 cls=-0.77747, 2 cls=-0.69121, bce=0.07013, dice=0.85460, loss=-0.78758]\n"
     ]
    },
    {
     "name": "stdout",
     "output_type": "stream",
     "text": [
      "loss: -0.83246 | bce: 0.03864 | dice: 0.86385 | 0 cls: -0.88158 | 1 cls: -0.84171 | 2 cls: -0.72242\n"
     ]
    },
    {
     "name": "stderr",
     "output_type": "stream",
     "text": [
      "Epoch 372, lr 6.479999999999999e-05: 100% 21/21 [00:11<00:00,  1.85it/s, 0 cls=-0.84341, 1 cls=-0.77469, 2 cls=-0.69061, bce=0.07020, dice=0.85281, loss=-0.78536]\n"
     ]
    },
    {
     "name": "stdout",
     "output_type": "stream",
     "text": [
      "loss: -0.83174 | bce: 0.03902 | dice: 0.86329 | 0 cls: -0.88117 | 1 cls: -0.84082 | 2 cls: -0.72150\n"
     ]
    },
    {
     "name": "stderr",
     "output_type": "stream",
     "text": [
      "Epoch 373, lr 6.479999999999999e-05: 100% 21/21 [00:11<00:00,  1.79it/s, 0 cls=-0.84223, 1 cls=-0.77477, 2 cls=-0.68785, bce=0.07102, dice=0.85231, loss=-0.78437]\n"
     ]
    },
    {
     "name": "stdout",
     "output_type": "stream",
     "text": [
      "loss: -0.82978 | bce: 0.03883 | dice: 0.86118 | 0 cls: -0.87932 | 1 cls: -0.83941 | 2 cls: -0.71762\n"
     ]
    },
    {
     "name": "stderr",
     "output_type": "stream",
     "text": [
      "Epoch 374, lr 6.479999999999999e-05: 100% 21/21 [00:11<00:00,  1.89it/s, 0 cls=-0.83891, 1 cls=-0.77331, 2 cls=-0.68439, bce=0.07165, dice=0.84991, loss=-0.78177]\n"
     ]
    },
    {
     "name": "stdout",
     "output_type": "stream",
     "text": [
      "loss: -0.83240 | bce: 0.03947 | dice: 0.86449 | 0 cls: -0.88233 | 1 cls: -0.84026 | 2 cls: -0.72361\n"
     ]
    },
    {
     "name": "stderr",
     "output_type": "stream",
     "text": [
      "Epoch 375, lr 6.479999999999999e-05: 100% 21/21 [00:11<00:00,  1.84it/s, 0 cls=-0.84404, 1 cls=-0.77750, 2 cls=-0.69381, bce=0.06986, dice=0.85435, loss=-0.78738]\n"
     ]
    },
    {
     "name": "stdout",
     "output_type": "stream",
     "text": [
      "loss: -0.83226 | bce: 0.03787 | dice: 0.86250 | 0 cls: -0.88099 | 1 cls: -0.84143 | 2 cls: -0.72157\n"
     ]
    },
    {
     "name": "stderr",
     "output_type": "stream",
     "text": [
      "Epoch 376, lr 6.479999999999999e-05: 100% 21/21 [00:11<00:00,  1.90it/s, 0 cls=-0.84343, 1 cls=-0.77327, 2 cls=-0.68909, bce=0.07148, dice=0.85329, loss=-0.78450]\n"
     ]
    },
    {
     "name": "stdout",
     "output_type": "stream",
     "text": [
      "loss: -0.83064 | bce: 0.03912 | dice: 0.86226 | 0 cls: -0.88029 | 1 cls: -0.83962 | 2 cls: -0.71970\n"
     ]
    },
    {
     "name": "stderr",
     "output_type": "stream",
     "text": [
      "Epoch 377, lr 6.479999999999999e-05: 100% 21/21 [00:11<00:00,  1.83it/s, 0 cls=-0.84675, 1 cls=-0.77916, 2 cls=-0.69378, bce=0.06994, dice=0.85607, loss=-0.78912]\n"
     ]
    },
    {
     "name": "stdout",
     "output_type": "stream",
     "text": [
      "loss: -0.83155 | bce: 0.03835 | dice: 0.86263 | 0 cls: -0.88070 | 1 cls: -0.84085 | 2 cls: -0.72089\n"
     ]
    },
    {
     "name": "stderr",
     "output_type": "stream",
     "text": [
      "Epoch 378, lr 6.479999999999999e-05: 100% 21/21 [00:11<00:00,  1.84it/s, 0 cls=-0.84530, 1 cls=-0.77618, 2 cls=-0.68990, bce=0.07001, dice=0.85356, loss=-0.78657]\n"
     ]
    },
    {
     "name": "stdout",
     "output_type": "stream",
     "text": [
      "loss: -0.83161 | bce: 0.03940 | dice: 0.86353 | 0 cls: -0.88063 | 1 cls: -0.84130 | 2 cls: -0.72077\n"
     ]
    },
    {
     "name": "stderr",
     "output_type": "stream",
     "text": [
      "Epoch 379, lr 6.479999999999999e-05: 100% 21/21 [00:11<00:00,  1.87it/s, 0 cls=-0.84515, 1 cls=-0.77528, 2 cls=-0.69090, bce=0.07060, dice=0.85416, loss=-0.78635]\n"
     ]
    },
    {
     "name": "stdout",
     "output_type": "stream",
     "text": [
      "loss: -0.83365 | bce: 0.03967 | dice: 0.86630 | 0 cls: -0.88298 | 1 cls: -0.84161 | 2 cls: -0.72499\n"
     ]
    },
    {
     "name": "stderr",
     "output_type": "stream",
     "text": [
      "Epoch 380, lr 6.479999999999999e-05: 100% 21/21 [00:11<00:00,  1.89it/s, 0 cls=-0.84441, 1 cls=-0.77773, 2 cls=-0.69264, bce=0.06979, dice=0.85426, loss=-0.78738]\n"
     ]
    },
    {
     "name": "stdout",
     "output_type": "stream",
     "text": [
      "loss: -0.83143 | bce: 0.04000 | dice: 0.86381 | 0 cls: -0.88079 | 1 cls: -0.84040 | 2 cls: -0.72078\n"
     ]
    },
    {
     "name": "stderr",
     "output_type": "stream",
     "text": [
      "Epoch 381, lr 6.479999999999999e-05: 100% 21/21 [00:10<00:00,  1.94it/s, 0 cls=-0.84401, 1 cls=-0.77588, 2 cls=-0.69051, bce=0.07070, dice=0.85373, loss=-0.78606]\n"
     ]
    },
    {
     "name": "stdout",
     "output_type": "stream",
     "text": [
      "loss: -0.83334 | bce: 0.03908 | dice: 0.86519 | 0 cls: -0.88258 | 1 cls: -0.84141 | 2 cls: -0.72439\n"
     ]
    },
    {
     "name": "stderr",
     "output_type": "stream",
     "text": [
      "Epoch 382, lr 6.479999999999999e-05: 100% 21/21 [00:11<00:00,  1.90it/s, 0 cls=-0.83995, 1 cls=-0.77336, 2 cls=-0.68822, bce=0.07169, dice=0.85176, loss=-0.78297]\n"
     ]
    },
    {
     "name": "stdout",
     "output_type": "stream",
     "text": [
      "loss: -0.83277 | bce: 0.03890 | dice: 0.86432 | 0 cls: -0.88170 | 1 cls: -0.84189 | 2 cls: -0.72293\n"
     ]
    },
    {
     "name": "stderr",
     "output_type": "stream",
     "text": [
      "Epoch 383, lr 6.479999999999999e-05: 100% 21/21 [00:10<00:00,  1.93it/s, 0 cls=-0.84428, 1 cls=-0.77833, 2 cls=-0.69223, bce=0.07065, dice=0.85495, loss=-0.78749]\n"
     ]
    },
    {
     "name": "stdout",
     "output_type": "stream",
     "text": [
      "loss: -0.83336 | bce: 0.03846 | dice: 0.86408 | 0 cls: -0.88171 | 1 cls: -0.84280 | 2 cls: -0.72369\n"
     ]
    },
    {
     "name": "stderr",
     "output_type": "stream",
     "text": [
      "Epoch 384, lr 6.479999999999999e-05: 100% 21/21 [00:11<00:00,  1.88it/s, 0 cls=-0.84759, 1 cls=-0.77764, 2 cls=-0.69573, bce=0.06894, dice=0.85561, loss=-0.78924]\n"
     ]
    },
    {
     "name": "stdout",
     "output_type": "stream",
     "text": [
      "loss: -0.83301 | bce: 0.03944 | dice: 0.86503 | 0 cls: -0.88199 | 1 cls: -0.84203 | 2 cls: -0.72363\n"
     ]
    },
    {
     "name": "stderr",
     "output_type": "stream",
     "text": [
      "Epoch 385, lr 6.479999999999999e-05: 100% 21/21 [00:11<00:00,  1.89it/s, 0 cls=-0.84308, 1 cls=-0.77442, 2 cls=-0.68906, bce=0.07159, dice=0.85358, loss=-0.78481]\n"
     ]
    },
    {
     "name": "stdout",
     "output_type": "stream",
     "text": [
      "loss: -0.83100 | bce: 0.03855 | dice: 0.86168 | 0 cls: -0.87910 | 1 cls: -0.84159 | 2 cls: -0.71946\n"
     ]
    },
    {
     "name": "stderr",
     "output_type": "stream",
     "text": [
      "Epoch 386, lr 6.479999999999999e-05: 100% 21/21 [00:11<00:00,  1.85it/s, 0 cls=-0.84492, 1 cls=-0.77747, 2 cls=-0.69136, bce=0.07011, dice=0.85414, loss=-0.78723]\n"
     ]
    },
    {
     "name": "stdout",
     "output_type": "stream",
     "text": [
      "loss: -0.83067 | bce: 0.03954 | dice: 0.86271 | 0 cls: -0.88007 | 1 cls: -0.84038 | 2 cls: -0.71969\n"
     ]
    },
    {
     "name": "stderr",
     "output_type": "stream",
     "text": [
      "Epoch 387, lr 6.479999999999999e-05: 100% 21/21 [00:11<00:00,  1.79it/s, 0 cls=-0.84137, 1 cls=-0.77261, 2 cls=-0.68786, bce=0.07153, dice=0.85202, loss=-0.78316]\n"
     ]
    },
    {
     "name": "stdout",
     "output_type": "stream",
     "text": [
      "loss: -0.83160 | bce: 0.03859 | dice: 0.86291 | 0 cls: -0.88075 | 1 cls: -0.84114 | 2 cls: -0.72095\n"
     ]
    },
    {
     "name": "stderr",
     "output_type": "stream",
     "text": [
      "Epoch 388, lr 6.479999999999999e-05: 100% 21/21 [00:11<00:00,  1.88it/s, 0 cls=-0.84245, 1 cls=-0.77449, 2 cls=-0.68779, bce=0.07144, dice=0.85259, loss=-0.78434]\n"
     ]
    },
    {
     "name": "stdout",
     "output_type": "stream",
     "text": [
      "loss: -0.83112 | bce: 0.03807 | dice: 0.86125 | 0 cls: -0.87942 | 1 cls: -0.84120 | 2 cls: -0.72035\n"
     ]
    },
    {
     "name": "stderr",
     "output_type": "stream",
     "text": [
      "Epoch 389, lr 6.479999999999999e-05: 100% 21/21 [00:11<00:00,  1.88it/s, 0 cls=-0.84603, 1 cls=-0.77622, 2 cls=-0.69193, bce=0.06972, dice=0.85425, loss=-0.78729]\n"
     ]
    },
    {
     "name": "stdout",
     "output_type": "stream",
     "text": [
      "loss: -0.83190 | bce: 0.03896 | dice: 0.86375 | 0 cls: -0.88155 | 1 cls: -0.84032 | 2 cls: -0.72222\n"
     ]
    },
    {
     "name": "stderr",
     "output_type": "stream",
     "text": [
      "Epoch 390, lr 0.0005120000000000001: 100% 21/21 [00:11<00:00,  1.87it/s, 0 cls=-0.83281, 1 cls=-0.76366, 2 cls=-0.67317, bce=0.07429, dice=0.84432, loss=-0.77322]\n"
     ]
    },
    {
     "name": "stdout",
     "output_type": "stream",
     "text": [
      "loss: -0.82855 | bce: 0.04403 | dice: 0.86320 | 0 cls: -0.87486 | 1 cls: -0.84134 | 2 cls: -0.71693\n"
     ]
    },
    {
     "name": "stderr",
     "output_type": "stream",
     "text": [
      "Epoch 391, lr 0.0005120000000000001: 100% 21/21 [00:10<00:00,  1.91it/s, 0 cls=-0.82096, 1 cls=-0.75284, 2 cls=-0.65837, bce=0.08029, dice=0.83801, loss=-0.76119]\n"
     ]
    },
    {
     "name": "stdout",
     "output_type": "stream",
     "text": [
      "loss: -0.82309 | bce: 0.03981 | dice: 0.85402 | 0 cls: -0.87253 | 1 cls: -0.83552 | 2 cls: -0.70711\n"
     ]
    },
    {
     "name": "stderr",
     "output_type": "stream",
     "text": [
      "Epoch 392, lr 0.00015360000000000002: 100% 21/21 [00:11<00:00,  1.91it/s, 0 cls=-0.82686, 1 cls=-0.75972, 2 cls=-0.66836, bce=0.07553, dice=0.84034, loss=-0.76830]\n"
     ]
    },
    {
     "name": "stdout",
     "output_type": "stream",
     "text": [
      "loss: -0.82819 | bce: 0.03798 | dice: 0.85872 | 0 cls: -0.87849 | 1 cls: -0.83773 | 2 cls: -0.71479\n"
     ]
    },
    {
     "name": "stderr",
     "output_type": "stream",
     "text": [
      "Epoch 393, lr 0.00015360000000000002: 100% 21/21 [00:11<00:00,  1.89it/s, 0 cls=-0.83910, 1 cls=-0.77324, 2 cls=-0.68642, bce=0.07192, dice=0.85102, loss=-0.78222]\n"
     ]
    },
    {
     "name": "stdout",
     "output_type": "stream",
     "text": [
      "loss: -0.83301 | bce: 0.03885 | dice: 0.86472 | 0 cls: -0.88292 | 1 cls: -0.84078 | 2 cls: -0.72427\n"
     ]
    },
    {
     "name": "stderr",
     "output_type": "stream",
     "text": [
      "Epoch 394, lr 4.6080000000000006e-05: 100% 21/21 [00:11<00:00,  1.86it/s, 0 cls=-0.83655, 1 cls=-0.76889, 2 cls=-0.68127, bce=0.07338, dice=0.84881, loss=-0.77843]\n"
     ]
    },
    {
     "name": "stdout",
     "output_type": "stream",
     "text": [
      "loss: -0.83383 | bce: 0.03866 | dice: 0.86517 | 0 cls: -0.88249 | 1 cls: -0.84269 | 2 cls: -0.72579\n"
     ]
    },
    {
     "name": "stderr",
     "output_type": "stream",
     "text": [
      "Epoch 395, lr 0.0005120000000000001: 100% 21/21 [00:10<00:00,  1.91it/s, 0 cls=-0.82944, 1 cls=-0.76294, 2 cls=-0.67177, bce=0.07532, dice=0.84316, loss=-0.77130]\n"
     ]
    },
    {
     "name": "stdout",
     "output_type": "stream",
     "text": [
      "loss: -0.82765 | bce: 0.03871 | dice: 0.85961 | 0 cls: -0.87935 | 1 cls: -0.83519 | 2 cls: -0.71773\n"
     ]
    },
    {
     "name": "stderr",
     "output_type": "stream",
     "text": [
      "Epoch 396, lr 0.0005120000000000001: 100% 21/21 [00:11<00:00,  1.88it/s, 0 cls=-0.82614, 1 cls=-0.75780, 2 cls=-0.66838, bce=0.07696, dice=0.84110, loss=-0.76725]\n"
     ]
    },
    {
     "name": "stdout",
     "output_type": "stream",
     "text": [
      "loss: -0.83148 | bce: 0.04018 | dice: 0.86452 | 0 cls: -0.88311 | 1 cls: -0.83811 | 2 cls: -0.72287\n"
     ]
    },
    {
     "name": "stderr",
     "output_type": "stream",
     "text": [
      "Epoch 397, lr 0.00015360000000000002: 100% 21/21 [00:10<00:00,  1.92it/s, 0 cls=-0.83083, 1 cls=-0.76357, 2 cls=-0.67472, bce=0.07497, dice=0.84455, loss=-0.77270]\n"
     ]
    },
    {
     "name": "stdout",
     "output_type": "stream",
     "text": [
      "loss: -0.83271 | bce: 0.03820 | dice: 0.86418 | 0 cls: -0.88261 | 1 cls: -0.84118 | 2 cls: -0.72386\n"
     ]
    },
    {
     "name": "stderr",
     "output_type": "stream",
     "text": [
      "Epoch 398, lr 0.00015360000000000002: 100% 21/21 [00:11<00:00,  1.85it/s, 0 cls=-0.83539, 1 cls=-0.76964, 2 cls=-0.68159, bce=0.07305, dice=0.84816, loss=-0.77833]\n"
     ]
    },
    {
     "name": "stdout",
     "output_type": "stream",
     "text": [
      "loss: -0.83102 | bce: 0.03877 | dice: 0.86216 | 0 cls: -0.88097 | 1 cls: -0.83933 | 2 cls: -0.72109\n"
     ]
    },
    {
     "name": "stderr",
     "output_type": "stream",
     "text": [
      "Epoch 399, lr 4.6080000000000006e-05: 100% 21/21 [00:11<00:00,  1.87it/s, 0 cls=-0.84007, 1 cls=-0.77237, 2 cls=-0.68755, bce=0.07145, dice=0.85111, loss=-0.78249]\n"
     ]
    },
    {
     "name": "stdout",
     "output_type": "stream",
     "text": [
      "loss: -0.83356 | bce: 0.03931 | dice: 0.86591 | 0 cls: -0.88344 | 1 cls: -0.84175 | 2 cls: -0.72517\n"
     ]
    },
    {
     "name": "stderr",
     "output_type": "stream",
     "text": [
      "Epoch 400, lr 3.8879999999999994e-05: 100% 21/21 [00:11<00:00,  1.90it/s, 0 cls=-0.84019, 1 cls=-0.76907, 2 cls=-0.68293, bce=0.07246, dice=0.85005, loss=-0.78029]\n"
     ]
    },
    {
     "name": "stdout",
     "output_type": "stream",
     "text": [
      "loss: -0.83421 | bce: 0.03869 | dice: 0.86618 | 0 cls: -0.88420 | 1 cls: -0.84173 | 2 cls: -0.72617\n"
     ]
    },
    {
     "name": "stderr",
     "output_type": "stream",
     "text": [
      "Epoch 401, lr 3.8879999999999994e-05: 100% 21/21 [00:11<00:00,  1.80it/s, 0 cls=-0.83686, 1 cls=-0.77069, 2 cls=-0.68434, bce=0.07229, dice=0.84915, loss=-0.77989]\n"
     ]
    },
    {
     "name": "stdout",
     "output_type": "stream",
     "text": [
      "loss: -0.83252 | bce: 0.03881 | dice: 0.86439 | 0 cls: -0.88246 | 1 cls: -0.84117 | 2 cls: -0.72352\n"
     ]
    },
    {
     "name": "stderr",
     "output_type": "stream",
     "text": [
      "Epoch 402, lr 3.8879999999999994e-05: 100% 21/21 [00:11<00:00,  1.89it/s, 0 cls=-0.84267, 1 cls=-0.77199, 2 cls=-0.68774, bce=0.07141, dice=0.85217, loss=-0.78341]\n"
     ]
    },
    {
     "name": "stdout",
     "output_type": "stream",
     "text": [
      "loss: -0.83379 | bce: 0.03853 | dice: 0.86566 | 0 cls: -0.88407 | 1 cls: -0.84168 | 2 cls: -0.72557\n"
     ]
    },
    {
     "name": "stderr",
     "output_type": "stream",
     "text": [
      "Epoch 403, lr 3.8879999999999994e-05: 100% 21/21 [00:11<00:00,  1.91it/s, 0 cls=-0.84719, 1 cls=-0.77872, 2 cls=-0.69523, bce=0.06883, dice=0.85547, loss=-0.78941]\n"
     ]
    },
    {
     "name": "stdout",
     "output_type": "stream",
     "text": [
      "loss: -0.83400 | bce: 0.03895 | dice: 0.86616 | 0 cls: -0.88430 | 1 cls: -0.84117 | 2 cls: -0.72586\n"
     ]
    },
    {
     "name": "stderr",
     "output_type": "stream",
     "text": [
      "Epoch 404, lr 3.8879999999999994e-05: 100% 21/21 [00:11<00:00,  1.90it/s, 0 cls=-0.84269, 1 cls=-0.77346, 2 cls=-0.68742, bce=0.07177, dice=0.85279, loss=-0.78394]\n"
     ]
    },
    {
     "name": "stdout",
     "output_type": "stream",
     "text": [
      "loss: -0.83287 | bce: 0.03823 | dice: 0.86405 | 0 cls: -0.88287 | 1 cls: -0.84100 | 2 cls: -0.72341\n"
     ]
    },
    {
     "name": "stderr",
     "output_type": "stream",
     "text": [
      "Epoch 405, lr 3.8879999999999994e-05: 100% 21/21 [00:21<00:00,  1.04s/it, 0 cls=-0.84141, 1 cls=-0.77232, 2 cls=-0.68819, bce=0.07024, dice=0.85073, loss=-0.78313]\n"
     ]
    },
    {
     "name": "stdout",
     "output_type": "stream",
     "text": [
      "loss: -0.83463 | bce: 0.03868 | dice: 0.86658 | 0 cls: -0.88486 | 1 cls: -0.84191 | 2 cls: -0.72688\n"
     ]
    },
    {
     "name": "stderr",
     "output_type": "stream",
     "text": [
      "Epoch 406, lr 3.8879999999999994e-05: 100% 21/21 [00:25<00:00,  1.22s/it, 0 cls=-0.84099, 1 cls=-0.77571, 2 cls=-0.68976, bce=0.07152, dice=0.85316, loss=-0.78463]\n"
     ]
    },
    {
     "name": "stdout",
     "output_type": "stream",
     "text": [
      "loss: -0.83397 | bce: 0.03765 | dice: 0.86474 | 0 cls: -0.88329 | 1 cls: -0.84277 | 2 cls: -0.72554\n"
     ]
    },
    {
     "name": "stderr",
     "output_type": "stream",
     "text": [
      "Epoch 407, lr 3.8879999999999994e-05: 100% 21/21 [00:11<00:00,  1.89it/s, 0 cls=-0.84197, 1 cls=-0.77344, 2 cls=-0.68681, bce=0.07194, dice=0.85237, loss=-0.78353]\n"
     ]
    },
    {
     "name": "stdout",
     "output_type": "stream",
     "text": [
      "loss: -0.83360 | bce: 0.03801 | dice: 0.86465 | 0 cls: -0.88315 | 1 cls: -0.84196 | 2 cls: -0.72433\n"
     ]
    },
    {
     "name": "stderr",
     "output_type": "stream",
     "text": [
      "Epoch 408, lr 3.8879999999999994e-05: 100% 21/21 [00:11<00:00,  1.86it/s, 0 cls=-0.83735, 1 cls=-0.76910, 2 cls=-0.68415, bce=0.07198, dice=0.84860, loss=-0.77941]\n"
     ]
    },
    {
     "name": "stdout",
     "output_type": "stream",
     "text": [
      "loss: -0.83374 | bce: 0.03867 | dice: 0.86543 | 0 cls: -0.88385 | 1 cls: -0.84096 | 2 cls: -0.72529\n"
     ]
    },
    {
     "name": "stderr",
     "output_type": "stream",
     "text": [
      "Epoch 409, lr 3.8879999999999994e-05: 100% 21/21 [00:11<00:00,  1.88it/s, 0 cls=-0.84084, 1 cls=-0.77332, 2 cls=-0.68792, bce=0.07208, dice=0.85245, loss=-0.78325]\n"
     ]
    },
    {
     "name": "stdout",
     "output_type": "stream",
     "text": [
      "loss: -0.83309 | bce: 0.03904 | dice: 0.86527 | 0 cls: -0.88322 | 1 cls: -0.84082 | 2 cls: -0.72434\n"
     ]
    },
    {
     "name": "stderr",
     "output_type": "stream",
     "text": [
      "Epoch 410, lr 3.8879999999999994e-05: 100% 21/21 [00:11<00:00,  1.87it/s, 0 cls=-0.84094, 1 cls=-0.77327, 2 cls=-0.68920, bce=0.07138, dice=0.85219, loss=-0.78352]\n"
     ]
    },
    {
     "name": "stdout",
     "output_type": "stream",
     "text": [
      "loss: -0.83326 | bce: 0.03877 | dice: 0.86519 | 0 cls: -0.88341 | 1 cls: -0.84133 | 2 cls: -0.72457\n"
     ]
    },
    {
     "name": "stderr",
     "output_type": "stream",
     "text": [
      "Epoch 411, lr 3.8879999999999994e-05: 100% 21/21 [00:10<00:00,  1.91it/s, 0 cls=-0.84179, 1 cls=-0.77425, 2 cls=-0.68708, bce=0.07105, dice=0.85173, loss=-0.78383]\n"
     ]
    },
    {
     "name": "stdout",
     "output_type": "stream",
     "text": [
      "loss: -0.83413 | bce: 0.03881 | dice: 0.86585 | 0 cls: -0.88386 | 1 cls: -0.84207 | 2 cls: -0.72561\n"
     ]
    },
    {
     "name": "stderr",
     "output_type": "stream",
     "text": [
      "Epoch 412, lr 3.8879999999999994e-05: 100% 21/21 [00:10<00:00,  1.91it/s, 0 cls=-0.84760, 1 cls=-0.77698, 2 cls=-0.69476, bce=0.06873, dice=0.85499, loss=-0.78879]\n"
     ]
    },
    {
     "name": "stdout",
     "output_type": "stream",
     "text": [
      "loss: -0.83486 | bce: 0.03962 | dice: 0.86767 | 0 cls: -0.88477 | 1 cls: -0.84244 | 2 cls: -0.72736\n"
     ]
    },
    {
     "name": "stderr",
     "output_type": "stream",
     "text": [
      "Epoch 413, lr 3.8879999999999994e-05: 100% 21/21 [00:11<00:00,  1.89it/s, 0 cls=-0.84154, 1 cls=-0.77404, 2 cls=-0.68878, bce=0.07178, dice=0.85285, loss=-0.78399]\n"
     ]
    },
    {
     "name": "stdout",
     "output_type": "stream",
     "text": [
      "loss: -0.83115 | bce: 0.03882 | dice: 0.86278 | 0 cls: -0.88130 | 1 cls: -0.84000 | 2 cls: -0.72051\n"
     ]
    },
    {
     "name": "stderr",
     "output_type": "stream",
     "text": [
      "Epoch 414, lr 3.8879999999999994e-05: 100% 21/21 [00:11<00:00,  1.90it/s, 0 cls=-0.84303, 1 cls=-0.77584, 2 cls=-0.68988, bce=0.07108, dice=0.85359, loss=-0.78552]\n"
     ]
    },
    {
     "name": "stdout",
     "output_type": "stream",
     "text": [
      "loss: -0.83452 | bce: 0.03877 | dice: 0.86644 | 0 cls: -0.88435 | 1 cls: -0.84195 | 2 cls: -0.72652\n"
     ]
    },
    {
     "name": "stderr",
     "output_type": "stream",
     "text": [
      "Epoch 415, lr 3.8879999999999994e-05: 100% 21/21 [00:11<00:00,  1.87it/s, 0 cls=-0.84574, 1 cls=-0.77749, 2 cls=-0.69195, bce=0.07000, dice=0.85472, loss=-0.78768]\n"
     ]
    },
    {
     "name": "stdout",
     "output_type": "stream",
     "text": [
      "loss: -0.83397 | bce: 0.03874 | dice: 0.86595 | 0 cls: -0.88408 | 1 cls: -0.84152 | 2 cls: -0.72585\n"
     ]
    },
    {
     "name": "stderr",
     "output_type": "stream",
     "text": [
      "Epoch 416, lr 3.8879999999999994e-05: 100% 21/21 [00:11<00:00,  1.81it/s, 0 cls=-0.84621, 1 cls=-0.77734, 2 cls=-0.69354, bce=0.07040, dice=0.85578, loss=-0.78813]\n"
     ]
    },
    {
     "name": "stdout",
     "output_type": "stream",
     "text": [
      "loss: -0.83258 | bce: 0.03872 | dice: 0.86419 | 0 cls: -0.88250 | 1 cls: -0.84101 | 2 cls: -0.72286\n"
     ]
    },
    {
     "name": "stderr",
     "output_type": "stream",
     "text": [
      "Epoch 417, lr 3.8879999999999994e-05: 100% 21/21 [00:11<00:00,  1.88it/s, 0 cls=-0.84277, 1 cls=-0.77284, 2 cls=-0.68795, bce=0.07142, dice=0.85249, loss=-0.78384]\n"
     ]
    },
    {
     "name": "stdout",
     "output_type": "stream",
     "text": [
      "loss: -0.83409 | bce: 0.03815 | dice: 0.86543 | 0 cls: -0.88420 | 1 cls: -0.84131 | 2 cls: -0.72592\n"
     ]
    },
    {
     "name": "stderr",
     "output_type": "stream",
     "text": [
      "Epoch 418, lr 3.8879999999999994e-05: 100% 21/21 [00:11<00:00,  1.89it/s, 0 cls=-0.84211, 1 cls=-0.77204, 2 cls=-0.68736, bce=0.07115, dice=0.85164, loss=-0.78313]\n"
     ]
    },
    {
     "name": "stdout",
     "output_type": "stream",
     "text": [
      "loss: -0.83421 | bce: 0.03867 | dice: 0.86594 | 0 cls: -0.88437 | 1 cls: -0.84106 | 2 cls: -0.72589\n"
     ]
    },
    {
     "name": "stderr",
     "output_type": "stream",
     "text": [
      "Epoch 419, lr 3.8879999999999994e-05: 100% 21/21 [00:11<00:00,  1.85it/s, 0 cls=-0.84402, 1 cls=-0.77418, 2 cls=-0.68985, bce=0.07116, dice=0.85372, loss=-0.78525]\n"
     ]
    },
    {
     "name": "stdout",
     "output_type": "stream",
     "text": [
      "loss: -0.83478 | bce: 0.03803 | dice: 0.86602 | 0 cls: -0.88478 | 1 cls: -0.84185 | 2 cls: -0.72723\n"
     ]
    },
    {
     "name": "stderr",
     "output_type": "stream",
     "text": [
      "Epoch 420, lr 3.8879999999999994e-05: 100% 21/21 [00:11<00:00,  1.89it/s, 0 cls=-0.84502, 1 cls=-0.77718, 2 cls=-0.69277, bce=0.07028, dice=0.85487, loss=-0.78743]\n"
     ]
    },
    {
     "name": "stdout",
     "output_type": "stream",
     "text": [
      "loss: -0.83320 | bce: 0.03873 | dice: 0.86490 | 0 cls: -0.88327 | 1 cls: -0.84085 | 2 cls: -0.72433\n"
     ]
    },
    {
     "name": "stderr",
     "output_type": "stream",
     "text": [
      "Epoch 421, lr 3.8879999999999994e-05: 100% 21/21 [00:11<00:00,  1.89it/s, 0 cls=-0.84553, 1 cls=-0.77669, 2 cls=-0.69183, bce=0.06996, dice=0.85433, loss=-0.78725]\n"
     ]
    },
    {
     "name": "stdout",
     "output_type": "stream",
     "text": [
      "loss: -0.83129 | bce: 0.03855 | dice: 0.86268 | 0 cls: -0.88187 | 1 cls: -0.83839 | 2 cls: -0.72124\n"
     ]
    },
    {
     "name": "stderr",
     "output_type": "stream",
     "text": [
      "Epoch 422, lr 3.8879999999999994e-05: 100% 21/21 [00:11<00:00,  1.90it/s, 0 cls=-0.84734, 1 cls=-0.77765, 2 cls=-0.69384, bce=0.06980, dice=0.85578, loss=-0.78876]\n"
     ]
    },
    {
     "name": "stdout",
     "output_type": "stream",
     "text": [
      "loss: -0.83337 | bce: 0.03834 | dice: 0.86447 | 0 cls: -0.88281 | 1 cls: -0.84183 | 2 cls: -0.72403\n"
     ]
    },
    {
     "name": "stderr",
     "output_type": "stream",
     "text": [
      "Epoch 423, lr 3.8879999999999994e-05: 100% 21/21 [00:11<00:00,  1.89it/s, 0 cls=-0.84122, 1 cls=-0.77371, 2 cls=-0.68753, bce=0.07185, dice=0.85245, loss=-0.78348]\n"
     ]
    },
    {
     "name": "stdout",
     "output_type": "stream",
     "text": [
      "loss: -0.83202 | bce: 0.03837 | dice: 0.86288 | 0 cls: -0.88151 | 1 cls: -0.84062 | 2 cls: -0.72195\n"
     ]
    },
    {
     "name": "stderr",
     "output_type": "stream",
     "text": [
      "Epoch 424, lr 3.8879999999999994e-05: 100% 21/21 [00:11<00:00,  1.90it/s, 0 cls=-0.84641, 1 cls=-0.77925, 2 cls=-0.69578, bce=0.06916, dice=0.85568, loss=-0.78942]\n"
     ]
    },
    {
     "name": "stdout",
     "output_type": "stream",
     "text": [
      "loss: -0.83224 | bce: 0.03880 | dice: 0.86402 | 0 cls: -0.88212 | 1 cls: -0.84065 | 2 cls: -0.72262\n"
     ]
    },
    {
     "name": "stderr",
     "output_type": "stream",
     "text": [
      "Epoch 425, lr 3.8879999999999994e-05: 100% 21/21 [00:11<00:00,  1.89it/s, 0 cls=-0.84963, 1 cls=-0.78230, 2 cls=-0.69949, bce=0.06821, dice=0.85808, loss=-0.79267]\n"
     ]
    },
    {
     "name": "stdout",
     "output_type": "stream",
     "text": [
      "loss: -0.83239 | bce: 0.03922 | dice: 0.86477 | 0 cls: -0.88287 | 1 cls: -0.83976 | 2 cls: -0.72322\n"
     ]
    },
    {
     "name": "stderr",
     "output_type": "stream",
     "text": [
      "Epoch 426, lr 3.8879999999999994e-05: 100% 21/21 [00:11<00:00,  1.86it/s, 0 cls=-0.84604, 1 cls=-0.77791, 2 cls=-0.69289, bce=0.07083, dice=0.85606, loss=-0.78816]\n"
     ]
    },
    {
     "name": "stdout",
     "output_type": "stream",
     "text": [
      "loss: -0.83148 | bce: 0.03846 | dice: 0.86259 | 0 cls: -0.88137 | 1 cls: -0.83988 | 2 cls: -0.72085\n"
     ]
    },
    {
     "name": "stderr",
     "output_type": "stream",
     "text": [
      "Epoch 427, lr 3.8879999999999994e-05: 100% 21/21 [00:11<00:00,  1.85it/s, 0 cls=-0.83881, 1 cls=-0.77230, 2 cls=-0.68498, bce=0.07272, dice=0.85097, loss=-0.78144]\n"
     ]
    },
    {
     "name": "stdout",
     "output_type": "stream",
     "text": [
      "loss: -0.83301 | bce: 0.03862 | dice: 0.86444 | 0 cls: -0.88273 | 1 cls: -0.84074 | 2 cls: -0.72377\n"
     ]
    },
    {
     "name": "stderr",
     "output_type": "stream",
     "text": [
      "Epoch 428, lr 3.8879999999999994e-05: 100% 21/21 [00:11<00:00,  1.85it/s, 0 cls=-0.84236, 1 cls=-0.77308, 2 cls=-0.68862, bce=0.07041, dice=0.85148, loss=-0.78390]\n"
     ]
    },
    {
     "name": "stdout",
     "output_type": "stream",
     "text": [
      "loss: -0.83316 | bce: 0.04005 | dice: 0.86606 | 0 cls: -0.88337 | 1 cls: -0.84033 | 2 cls: -0.72437\n"
     ]
    },
    {
     "name": "stderr",
     "output_type": "stream",
     "text": [
      "Epoch 429, lr 3.8879999999999994e-05: 100% 21/21 [00:11<00:00,  1.84it/s, 0 cls=-0.84583, 1 cls=-0.77889, 2 cls=-0.69433, bce=0.07047, dice=0.85621, loss=-0.78876]\n"
     ]
    },
    {
     "name": "stdout",
     "output_type": "stream",
     "text": [
      "loss: -0.83120 | bce: 0.03903 | dice: 0.86277 | 0 cls: -0.88108 | 1 cls: -0.83985 | 2 cls: -0.72001\n"
     ]
    },
    {
     "name": "stderr",
     "output_type": "stream",
     "text": [
      "Epoch 430, lr 3.8879999999999994e-05: 100% 21/21 [00:10<00:00,  1.92it/s, 0 cls=-0.84321, 1 cls=-0.77474, 2 cls=-0.68990, bce=0.07087, dice=0.85317, loss=-0.78516]\n"
     ]
    },
    {
     "name": "stdout",
     "output_type": "stream",
     "text": [
      "loss: -0.83231 | bce: 0.03920 | dice: 0.86442 | 0 cls: -0.88241 | 1 cls: -0.83978 | 2 cls: -0.72292\n"
     ]
    },
    {
     "name": "stderr",
     "output_type": "stream",
     "text": [
      "Epoch 431, lr 3.8879999999999994e-05: 100% 21/21 [00:11<00:00,  1.91it/s, 0 cls=-0.84413, 1 cls=-0.77591, 2 cls=-0.68963, bce=0.07041, dice=0.85337, loss=-0.78594]\n"
     ]
    },
    {
     "name": "stdout",
     "output_type": "stream",
     "text": [
      "loss: -0.83239 | bce: 0.03861 | dice: 0.86381 | 0 cls: -0.88228 | 1 cls: -0.83982 | 2 cls: -0.72296\n"
     ]
    },
    {
     "name": "stderr",
     "output_type": "stream",
     "text": [
      "Epoch 432, lr 3.8879999999999994e-05: 100% 21/21 [00:11<00:00,  1.89it/s, 0 cls=-0.84476, 1 cls=-0.77877, 2 cls=-0.69385, bce=0.07032, dice=0.85543, loss=-0.78818]\n"
     ]
    },
    {
     "name": "stdout",
     "output_type": "stream",
     "text": [
      "loss: -0.83180 | bce: 0.03894 | dice: 0.86328 | 0 cls: -0.88156 | 1 cls: -0.84018 | 2 cls: -0.72139\n"
     ]
    },
    {
     "name": "stderr",
     "output_type": "stream",
     "text": [
      "Epoch 433, lr 3.8879999999999994e-05: 100% 21/21 [00:11<00:00,  1.91it/s, 0 cls=-0.84443, 1 cls=-0.77470, 2 cls=-0.68960, bce=0.07004, dice=0.85272, loss=-0.78557]\n"
     ]
    },
    {
     "name": "stdout",
     "output_type": "stream",
     "text": [
      "loss: -0.83295 | bce: 0.03931 | dice: 0.86494 | 0 cls: -0.88299 | 1 cls: -0.84079 | 2 cls: -0.72374\n"
     ]
    },
    {
     "name": "stderr",
     "output_type": "stream",
     "text": [
      "Epoch 434, lr 3.8879999999999994e-05: 100% 21/21 [00:11<00:00,  1.89it/s, 0 cls=-0.84631, 1 cls=-0.78020, 2 cls=-0.69697, bce=0.06910, dice=0.85625, loss=-0.79000]\n"
     ]
    },
    {
     "name": "stdout",
     "output_type": "stream",
     "text": [
      "loss: -0.83235 | bce: 0.03925 | dice: 0.86430 | 0 cls: -0.88224 | 1 cls: -0.84040 | 2 cls: -0.72225\n"
     ]
    },
    {
     "name": "stderr",
     "output_type": "stream",
     "text": [
      "Epoch 435, lr 3.8879999999999994e-05: 100% 21/21 [00:11<00:00,  1.85it/s, 0 cls=-0.84431, 1 cls=-0.77709, 2 cls=-0.69322, bce=0.07000, dice=0.85439, loss=-0.78721]\n"
     ]
    },
    {
     "name": "stdout",
     "output_type": "stream",
     "text": [
      "loss: -0.83205 | bce: 0.03954 | dice: 0.86428 | 0 cls: -0.88215 | 1 cls: -0.84007 | 2 cls: -0.72240\n"
     ]
    },
    {
     "name": "stderr",
     "output_type": "stream",
     "text": [
      "Epoch 436, lr 3.8879999999999994e-05: 100% 21/21 [00:11<00:00,  1.90it/s, 0 cls=-0.84646, 1 cls=-0.77916, 2 cls=-0.69442, bce=0.06930, dice=0.85543, loss=-0.78913]\n"
     ]
    },
    {
     "name": "stdout",
     "output_type": "stream",
     "text": [
      "loss: -0.83176 | bce: 0.03969 | dice: 0.86411 | 0 cls: -0.88176 | 1 cls: -0.83970 | 2 cls: -0.72183\n"
     ]
    },
    {
     "name": "stderr",
     "output_type": "stream",
     "text": [
      "Epoch 437, lr 3.8879999999999994e-05: 100% 21/21 [00:11<00:00,  1.88it/s, 0 cls=-0.84142, 1 cls=-0.77532, 2 cls=-0.68929, bce=0.07202, dice=0.85353, loss=-0.78455]\n"
     ]
    },
    {
     "name": "stdout",
     "output_type": "stream",
     "text": [
      "loss: -0.83124 | bce: 0.03881 | dice: 0.86258 | 0 cls: -0.88105 | 1 cls: -0.84006 | 2 cls: -0.72071\n"
     ]
    },
    {
     "name": "stderr",
     "output_type": "stream",
     "text": [
      "Epoch 438, lr 3.8879999999999994e-05: 100% 21/21 [00:11<00:00,  1.87it/s, 0 cls=-0.84753, 1 cls=-0.77900, 2 cls=-0.69515, bce=0.06930, dice=0.85608, loss=-0.78964]\n"
     ]
    },
    {
     "name": "stdout",
     "output_type": "stream",
     "text": [
      "loss: -0.83227 | bce: 0.03934 | dice: 0.86449 | 0 cls: -0.88257 | 1 cls: -0.83982 | 2 cls: -0.72278\n"
     ]
    },
    {
     "name": "stderr",
     "output_type": "stream",
     "text": [
      "Epoch 439, lr 3.8879999999999994e-05: 100% 21/21 [00:11<00:00,  1.86it/s, 0 cls=-0.84659, 1 cls=-0.78010, 2 cls=-0.69566, bce=0.06980, dice=0.85658, loss=-0.78981]\n"
     ]
    },
    {
     "name": "stdout",
     "output_type": "stream",
     "text": [
      "loss: -0.83136 | bce: 0.03955 | dice: 0.86365 | 0 cls: -0.88142 | 1 cls: -0.83964 | 2 cls: -0.72069\n"
     ]
    },
    {
     "name": "stderr",
     "output_type": "stream",
     "text": [
      "Epoch 440, lr 3.8879999999999994e-05: 100% 21/21 [00:11<00:00,  1.82it/s, 0 cls=-0.84501, 1 cls=-0.77799, 2 cls=-0.69255, bce=0.06993, dice=0.85461, loss=-0.78771]\n"
     ]
    },
    {
     "name": "stdout",
     "output_type": "stream",
     "text": [
      "loss: -0.83093 | bce: 0.03886 | dice: 0.86236 | 0 cls: -0.88107 | 1 cls: -0.83894 | 2 cls: -0.72041\n"
     ]
    },
    {
     "name": "stderr",
     "output_type": "stream",
     "text": [
      "Epoch 441, lr 3.8879999999999994e-05: 100% 21/21 [00:11<00:00,  1.88it/s, 0 cls=-0.84152, 1 cls=-0.77531, 2 cls=-0.69203, bce=0.07143, dice=0.85374, loss=-0.78514]\n"
     ]
    },
    {
     "name": "stdout",
     "output_type": "stream",
     "text": [
      "loss: -0.83140 | bce: 0.03873 | dice: 0.86281 | 0 cls: -0.88159 | 1 cls: -0.83963 | 2 cls: -0.72106\n"
     ]
    },
    {
     "name": "stderr",
     "output_type": "stream",
     "text": [
      "Epoch 442, lr 3.8879999999999994e-05: 100% 21/21 [00:11<00:00,  1.90it/s, 0 cls=-0.84569, 1 cls=-0.77695, 2 cls=-0.69303, bce=0.06994, dice=0.85484, loss=-0.78766]\n"
     ]
    },
    {
     "name": "stdout",
     "output_type": "stream",
     "text": [
      "loss: -0.83351 | bce: 0.03951 | dice: 0.86563 | 0 cls: -0.88307 | 1 cls: -0.84133 | 2 cls: -0.72484\n"
     ]
    },
    {
     "name": "stderr",
     "output_type": "stream",
     "text": [
      "Epoch 443, lr 3.8879999999999994e-05: 100% 21/21 [00:11<00:00,  1.87it/s, 0 cls=-0.84228, 1 cls=-0.77509, 2 cls=-0.68978, bce=0.07130, dice=0.85328, loss=-0.78490]\n"
     ]
    },
    {
     "name": "stdout",
     "output_type": "stream",
     "text": [
      "loss: -0.82997 | bce: 0.03973 | dice: 0.86211 | 0 cls: -0.88001 | 1 cls: -0.83878 | 2 cls: -0.71841\n"
     ]
    },
    {
     "name": "stderr",
     "output_type": "stream",
     "text": [
      "Epoch 444, lr 3.8879999999999994e-05: 100% 21/21 [00:10<00:00,  1.93it/s, 0 cls=-0.84944, 1 cls=-0.78262, 2 cls=-0.69813, bce=0.06814, dice=0.85758, loss=-0.79245]\n"
     ]
    },
    {
     "name": "stdout",
     "output_type": "stream",
     "text": [
      "loss: -0.83168 | bce: 0.03922 | dice: 0.86333 | 0 cls: -0.88118 | 1 cls: -0.84047 | 2 cls: -0.72076\n"
     ]
    },
    {
     "name": "stderr",
     "output_type": "stream",
     "text": [
      "Epoch 445, lr 3.8879999999999994e-05: 100% 21/21 [00:11<00:00,  1.91it/s, 0 cls=-0.84703, 1 cls=-0.77868, 2 cls=-0.69488, bce=0.06892, dice=0.85538, loss=-0.78926]\n"
     ]
    },
    {
     "name": "stdout",
     "output_type": "stream",
     "text": [
      "loss: -0.83145 | bce: 0.03878 | dice: 0.86283 | 0 cls: -0.88131 | 1 cls: -0.84019 | 2 cls: -0.72065\n"
     ]
    },
    {
     "name": "stderr",
     "output_type": "stream",
     "text": [
      "Epoch 446, lr 3.8879999999999994e-05: 100% 21/21 [00:10<00:00,  1.91it/s, 0 cls=-0.84868, 1 cls=-0.78150, 2 cls=-0.69855, bce=0.06840, dice=0.85734, loss=-0.79178]\n"
     ]
    },
    {
     "name": "stdout",
     "output_type": "stream",
     "text": [
      "loss: -0.83411 | bce: 0.03896 | dice: 0.86592 | 0 cls: -0.88368 | 1 cls: -0.84187 | 2 cls: -0.72576\n"
     ]
    },
    {
     "name": "stderr",
     "output_type": "stream",
     "text": [
      "Epoch 447, lr 3.8879999999999994e-05: 100% 21/21 [00:11<00:00,  1.85it/s, 0 cls=-0.84743, 1 cls=-0.78048, 2 cls=-0.69611, bce=0.06921, dice=0.85666, loss=-0.79038]\n"
     ]
    },
    {
     "name": "stdout",
     "output_type": "stream",
     "text": [
      "loss: -0.83262 | bce: 0.03879 | dice: 0.86414 | 0 cls: -0.88238 | 1 cls: -0.84054 | 2 cls: -0.72320\n"
     ]
    },
    {
     "name": "stderr",
     "output_type": "stream",
     "text": [
      "Epoch 448, lr 3.8879999999999994e-05: 100% 21/21 [00:11<00:00,  1.88it/s, 0 cls=-0.84915, 1 cls=-0.77823, 2 cls=-0.69763, bce=0.06884, dice=0.85699, loss=-0.79048]\n"
     ]
    },
    {
     "name": "stdout",
     "output_type": "stream",
     "text": [
      "loss: -0.83313 | bce: 0.03914 | dice: 0.86498 | 0 cls: -0.88293 | 1 cls: -0.84082 | 2 cls: -0.72410\n"
     ]
    },
    {
     "name": "stderr",
     "output_type": "stream",
     "text": [
      "Epoch 449, lr 3.8879999999999994e-05: 100% 21/21 [00:11<00:00,  1.88it/s, 0 cls=-0.84522, 1 cls=-0.77507, 2 cls=-0.69127, bce=0.07003, dice=0.85379, loss=-0.78637]\n"
     ]
    },
    {
     "name": "stdout",
     "output_type": "stream",
     "text": [
      "loss: -0.83223 | bce: 0.03816 | dice: 0.86297 | 0 cls: -0.88172 | 1 cls: -0.84084 | 2 cls: -0.72187\n"
     ]
    },
    {
     "name": "stderr",
     "output_type": "stream",
     "text": [
      "Epoch 450, lr 3.8879999999999994e-05: 100% 21/21 [00:11<00:00,  1.89it/s, 0 cls=-0.84617, 1 cls=-0.77768, 2 cls=-0.69645, bce=0.06930, dice=0.85567, loss=-0.78883]\n"
     ]
    },
    {
     "name": "stdout",
     "output_type": "stream",
     "text": [
      "loss: -0.83325 | bce: 0.03852 | dice: 0.86439 | 0 cls: -0.88256 | 1 cls: -0.84143 | 2 cls: -0.72379\n"
     ]
    },
    {
     "name": "stderr",
     "output_type": "stream",
     "text": [
      "Epoch 451, lr 3.8879999999999994e-05: 100% 21/21 [00:10<00:00,  1.91it/s, 0 cls=-0.84549, 1 cls=-0.77589, 2 cls=-0.69256, bce=0.07000, dice=0.85443, loss=-0.78706]\n"
     ]
    },
    {
     "name": "stdout",
     "output_type": "stream",
     "text": [
      "loss: -0.83075 | bce: 0.04033 | dice: 0.86361 | 0 cls: -0.88093 | 1 cls: -0.83920 | 2 cls: -0.71970\n"
     ]
    },
    {
     "name": "stderr",
     "output_type": "stream",
     "text": [
      "Epoch 452, lr 3.8879999999999994e-05: 100% 21/21 [00:10<00:00,  1.92it/s, 0 cls=-0.84506, 1 cls=-0.77621, 2 cls=-0.69089, bce=0.07027, dice=0.85406, loss=-0.78669]\n"
     ]
    },
    {
     "name": "stdout",
     "output_type": "stream",
     "text": [
      "loss: -0.83297 | bce: 0.03893 | dice: 0.86458 | 0 cls: -0.88231 | 1 cls: -0.84165 | 2 cls: -0.72333\n"
     ]
    },
    {
     "name": "stderr",
     "output_type": "stream",
     "text": [
      "Epoch 453, lr 3.8879999999999994e-05: 100% 21/21 [00:11<00:00,  1.88it/s, 0 cls=-0.84678, 1 cls=-0.77872, 2 cls=-0.69451, bce=0.06990, dice=0.85615, loss=-0.78910]\n"
     ]
    },
    {
     "name": "stdout",
     "output_type": "stream",
     "text": [
      "loss: -0.83271 | bce: 0.03868 | dice: 0.86419 | 0 cls: -0.88227 | 1 cls: -0.84102 | 2 cls: -0.72287\n"
     ]
    },
    {
     "name": "stderr",
     "output_type": "stream",
     "text": [
      "Epoch 454, lr 3.8879999999999994e-05: 100% 21/21 [00:11<00:00,  1.90it/s, 0 cls=-0.84447, 1 cls=-0.77594, 2 cls=-0.69298, bce=0.06997, dice=0.85409, loss=-0.78676]\n"
     ]
    },
    {
     "name": "stdout",
     "output_type": "stream",
     "text": [
      "loss: -0.83232 | bce: 0.03831 | dice: 0.86314 | 0 cls: -0.88173 | 1 cls: -0.84127 | 2 cls: -0.72174\n"
     ]
    },
    {
     "name": "stderr",
     "output_type": "stream",
     "text": [
      "Epoch 455, lr 3.8879999999999994e-05: 100% 21/21 [00:10<00:00,  1.92it/s, 0 cls=-0.84733, 1 cls=-0.77926, 2 cls=-0.69691, bce=0.06841, dice=0.85585, loss=-0.79002]\n"
     ]
    },
    {
     "name": "stdout",
     "output_type": "stream",
     "text": [
      "loss: -0.83258 | bce: 0.03885 | dice: 0.86447 | 0 cls: -0.88288 | 1 cls: -0.83993 | 2 cls: -0.72331\n"
     ]
    },
    {
     "name": "stderr",
     "output_type": "stream",
     "text": [
      "Epoch 456, lr 3.8879999999999994e-05: 100% 21/21 [00:10<00:00,  1.91it/s, 0 cls=-0.85209, 1 cls=-0.78331, 2 cls=-0.70103, bce=0.06729, dice=0.85895, loss=-0.79436]\n"
     ]
    },
    {
     "name": "stdout",
     "output_type": "stream",
     "text": [
      "loss: -0.83256 | bce: 0.04022 | dice: 0.86568 | 0 cls: -0.88263 | 1 cls: -0.84024 | 2 cls: -0.72325\n"
     ]
    },
    {
     "name": "stderr",
     "output_type": "stream",
     "text": [
      "Epoch 457, lr 3.8879999999999994e-05: 100% 21/21 [00:11<00:00,  1.87it/s, 0 cls=-0.84417, 1 cls=-0.77314, 2 cls=-0.68988, bce=0.07047, dice=0.85286, loss=-0.78490]\n"
     ]
    },
    {
     "name": "stdout",
     "output_type": "stream",
     "text": [
      "loss: -0.83082 | bce: 0.03901 | dice: 0.86231 | 0 cls: -0.88074 | 1 cls: -0.83963 | 2 cls: -0.71980\n"
     ]
    },
    {
     "name": "stderr",
     "output_type": "stream",
     "text": [
      "Epoch 458, lr 3.8879999999999994e-05: 100% 21/21 [00:11<00:00,  1.85it/s, 0 cls=-0.84484, 1 cls=-0.77899, 2 cls=-0.69403, bce=0.07000, dice=0.85525, loss=-0.78834]\n"
     ]
    },
    {
     "name": "stdout",
     "output_type": "stream",
     "text": [
      "loss: -0.83205 | bce: 0.03970 | dice: 0.86438 | 0 cls: -0.88198 | 1 cls: -0.84005 | 2 cls: -0.72270\n"
     ]
    },
    {
     "name": "stderr",
     "output_type": "stream",
     "text": [
      "Epoch 459, lr 3.8879999999999994e-05: 100% 21/21 [00:11<00:00,  1.90it/s, 0 cls=-0.84644, 1 cls=-0.77708, 2 cls=-0.69560, bce=0.06918, dice=0.85523, loss=-0.78852]\n"
     ]
    },
    {
     "name": "stdout",
     "output_type": "stream",
     "text": [
      "loss: -0.83077 | bce: 0.03895 | dice: 0.86219 | 0 cls: -0.88058 | 1 cls: -0.83971 | 2 cls: -0.71975\n"
     ]
    },
    {
     "name": "stderr",
     "output_type": "stream",
     "text": [
      "Epoch 460, lr 3.8879999999999994e-05: 100% 21/21 [00:13<00:00,  1.51it/s, 0 cls=-0.84712, 1 cls=-0.77868, 2 cls=-0.69459, bce=0.06927, dice=0.85563, loss=-0.78924]\n"
     ]
    },
    {
     "name": "stdout",
     "output_type": "stream",
     "text": [
      "loss: -0.83257 | bce: 0.03860 | dice: 0.86360 | 0 cls: -0.88194 | 1 cls: -0.84135 | 2 cls: -0.72216\n"
     ]
    },
    {
     "name": "stderr",
     "output_type": "stream",
     "text": [
      "Epoch 461, lr 3.8879999999999994e-05: 100% 21/21 [00:10<00:00,  1.91it/s, 0 cls=-0.84840, 1 cls=-0.77935, 2 cls=-0.69681, bce=0.06924, dice=0.85706, loss=-0.79046]\n"
     ]
    },
    {
     "name": "stdout",
     "output_type": "stream",
     "text": [
      "loss: -0.83239 | bce: 0.03830 | dice: 0.86304 | 0 cls: -0.88148 | 1 cls: -0.84147 | 2 cls: -0.72181\n"
     ]
    },
    {
     "name": "stderr",
     "output_type": "stream",
     "text": [
      "Epoch 462, lr 3.8879999999999994e-05: 100% 21/21 [00:11<00:00,  1.86it/s, 0 cls=-0.84474, 1 cls=-0.77816, 2 cls=-0.69384, bce=0.06944, dice=0.85446, loss=-0.78793]\n"
     ]
    },
    {
     "name": "stdout",
     "output_type": "stream",
     "text": [
      "loss: -0.83177 | bce: 0.03942 | dice: 0.86359 | 0 cls: -0.88137 | 1 cls: -0.84026 | 2 cls: -0.72107\n"
     ]
    },
    {
     "name": "stderr",
     "output_type": "stream",
     "text": [
      "Epoch 463, lr 3.8879999999999994e-05: 100% 21/21 [00:11<00:00,  1.89it/s, 0 cls=-0.84241, 1 cls=-0.77508, 2 cls=-0.68995, bce=0.07148, dice=0.85351, loss=-0.78499]\n"
     ]
    },
    {
     "name": "stdout",
     "output_type": "stream",
     "text": [
      "loss: -0.83300 | bce: 0.03899 | dice: 0.86463 | 0 cls: -0.88247 | 1 cls: -0.84093 | 2 cls: -0.72371\n"
     ]
    },
    {
     "name": "stderr",
     "output_type": "stream",
     "text": [
      "Epoch 464, lr 3.8879999999999994e-05: 100% 21/21 [00:11<00:00,  1.91it/s, 0 cls=-0.85037, 1 cls=-0.78126, 2 cls=-0.69963, bce=0.06768, dice=0.85767, loss=-0.79258]\n"
     ]
    },
    {
     "name": "stdout",
     "output_type": "stream",
     "text": [
      "loss: -0.83159 | bce: 0.03836 | dice: 0.86254 | 0 cls: -0.88130 | 1 cls: -0.83987 | 2 cls: -0.72086\n"
     ]
    },
    {
     "name": "stderr",
     "output_type": "stream",
     "text": [
      "Epoch 465, lr 3.8879999999999994e-05: 100% 21/21 [00:11<00:00,  1.84it/s, 0 cls=-0.84817, 1 cls=-0.78268, 2 cls=-0.69880, bce=0.06853, dice=0.85765, loss=-0.79210]\n"
     ]
    },
    {
     "name": "stdout",
     "output_type": "stream",
     "text": [
      "loss: -0.83198 | bce: 0.03886 | dice: 0.86326 | 0 cls: -0.88070 | 1 cls: -0.84195 | 2 cls: -0.72071\n"
     ]
    },
    {
     "name": "stderr",
     "output_type": "stream",
     "text": [
      "Epoch 466, lr 3.8879999999999994e-05: 100% 21/21 [00:11<00:00,  1.87it/s, 0 cls=-0.84693, 1 cls=-0.78017, 2 cls=-0.69574, bce=0.06955, dice=0.85654, loss=-0.78999]\n"
     ]
    },
    {
     "name": "stdout",
     "output_type": "stream",
     "text": [
      "loss: -0.83006 | bce: 0.03899 | dice: 0.86143 | 0 cls: -0.87982 | 1 cls: -0.83913 | 2 cls: -0.71815\n"
     ]
    },
    {
     "name": "stderr",
     "output_type": "stream",
     "text": [
      "Epoch 467, lr 3.8879999999999994e-05: 100% 21/21 [00:11<00:00,  1.90it/s, 0 cls=-0.85097, 1 cls=-0.78040, 2 cls=-0.69808, bce=0.06867, dice=0.85818, loss=-0.79216]\n"
     ]
    },
    {
     "name": "stdout",
     "output_type": "stream",
     "text": [
      "loss: -0.83141 | bce: 0.03970 | dice: 0.86377 | 0 cls: -0.88124 | 1 cls: -0.83980 | 2 cls: -0.72112\n"
     ]
    },
    {
     "name": "stderr",
     "output_type": "stream",
     "text": [
      "Epoch 468, lr 3.8879999999999994e-05: 100% 21/21 [00:11<00:00,  1.85it/s, 0 cls=-0.84918, 1 cls=-0.78202, 2 cls=-0.69897, bce=0.06894, dice=0.85834, loss=-0.79227]\n"
     ]
    },
    {
     "name": "stdout",
     "output_type": "stream",
     "text": [
      "loss: -0.83249 | bce: 0.03885 | dice: 0.86386 | 0 cls: -0.88176 | 1 cls: -0.84132 | 2 cls: -0.72248\n"
     ]
    },
    {
     "name": "stderr",
     "output_type": "stream",
     "text": [
      "Epoch 469, lr 3.8879999999999994e-05: 100% 21/21 [00:11<00:00,  1.91it/s, 0 cls=-0.84754, 1 cls=-0.77970, 2 cls=-0.69458, bce=0.06960, dice=0.85637, loss=-0.78981]\n"
     ]
    },
    {
     "name": "stdout",
     "output_type": "stream",
     "text": [
      "loss: -0.83297 | bce: 0.03901 | dice: 0.86461 | 0 cls: -0.88228 | 1 cls: -0.84147 | 2 cls: -0.72335\n"
     ]
    },
    {
     "name": "stderr",
     "output_type": "stream",
     "text": [
      "Epoch 470, lr 3.8879999999999994e-05: 100% 21/21 [00:11<00:00,  1.85it/s, 0 cls=-0.84470, 1 cls=-0.77692, 2 cls=-0.69239, bce=0.07045, dice=0.85479, loss=-0.78712]\n"
     ]
    },
    {
     "name": "stdout",
     "output_type": "stream",
     "text": [
      "loss: -0.83401 | bce: 0.03891 | dice: 0.86571 | 0 cls: -0.88348 | 1 cls: -0.84180 | 2 cls: -0.72559\n"
     ]
    },
    {
     "name": "stderr",
     "output_type": "stream",
     "text": [
      "Epoch 471, lr 3.8879999999999994e-05: 100% 21/21 [00:11<00:00,  1.91it/s, 0 cls=-0.84730, 1 cls=-0.77773, 2 cls=-0.69380, bce=0.06879, dice=0.85474, loss=-0.78877]\n"
     ]
    },
    {
     "name": "stdout",
     "output_type": "stream",
     "text": [
      "loss: -0.83127 | bce: 0.04082 | dice: 0.86499 | 0 cls: -0.88214 | 1 cls: -0.83882 | 2 cls: -0.72175\n"
     ]
    },
    {
     "name": "stderr",
     "output_type": "stream",
     "text": [
      "Epoch 472, lr 3.8879999999999994e-05: 100% 21/21 [00:11<00:00,  1.89it/s, 0 cls=-0.84340, 1 cls=-0.77695, 2 cls=-0.69316, bce=0.07014, dice=0.85409, loss=-0.78677]\n"
     ]
    },
    {
     "name": "stdout",
     "output_type": "stream",
     "text": [
      "loss: -0.83182 | bce: 0.03893 | dice: 0.86343 | 0 cls: -0.88173 | 1 cls: -0.84009 | 2 cls: -0.72128\n"
     ]
    },
    {
     "name": "stderr",
     "output_type": "stream",
     "text": [
      "Epoch 473, lr 3.8879999999999994e-05: 100% 21/21 [00:11<00:00,  1.90it/s, 0 cls=-0.84785, 1 cls=-0.77691, 2 cls=-0.69530, bce=0.06929, dice=0.85585, loss=-0.78896]\n"
     ]
    },
    {
     "name": "stdout",
     "output_type": "stream",
     "text": [
      "loss: -0.83194 | bce: 0.03840 | dice: 0.86280 | 0 cls: -0.88137 | 1 cls: -0.84059 | 2 cls: -0.72120\n"
     ]
    },
    {
     "name": "stderr",
     "output_type": "stream",
     "text": [
      "Epoch 474, lr 3.8879999999999994e-05: 100% 21/21 [00:11<00:00,  1.90it/s, 0 cls=-0.84610, 1 cls=-0.77784, 2 cls=-0.69456, bce=0.07001, dice=0.85574, loss=-0.78849]\n"
     ]
    },
    {
     "name": "stdout",
     "output_type": "stream",
     "text": [
      "loss: -0.83046 | bce: 0.03954 | dice: 0.86263 | 0 cls: -0.88064 | 1 cls: -0.83865 | 2 cls: -0.71922\n"
     ]
    },
    {
     "name": "stderr",
     "output_type": "stream",
     "text": [
      "Epoch 475, lr 3.8879999999999994e-05: 100% 21/21 [00:11<00:00,  1.84it/s, 0 cls=-0.84842, 1 cls=-0.78188, 2 cls=-0.69764, bce=0.06888, dice=0.85749, loss=-0.79165]\n"
     ]
    },
    {
     "name": "stdout",
     "output_type": "stream",
     "text": [
      "loss: -0.83171 | bce: 0.03877 | dice: 0.86340 | 0 cls: -0.88181 | 1 cls: -0.83986 | 2 cls: -0.72155\n"
     ]
    },
    {
     "name": "stderr",
     "output_type": "stream",
     "text": [
      "Epoch 476, lr 3.8879999999999994e-05: 100% 21/21 [00:11<00:00,  1.90it/s, 0 cls=-0.84699, 1 cls=-0.77945, 2 cls=-0.69503, bce=0.06910, dice=0.85576, loss=-0.78958]\n"
     ]
    },
    {
     "name": "stdout",
     "output_type": "stream",
     "text": [
      "loss: -0.83385 | bce: 0.03898 | dice: 0.86582 | 0 cls: -0.88375 | 1 cls: -0.84129 | 2 cls: -0.72530\n"
     ]
    },
    {
     "name": "stderr",
     "output_type": "stream",
     "text": [
      "Epoch 477, lr 3.8879999999999994e-05: 100% 21/21 [00:12<00:00,  1.72it/s, 0 cls=-0.85101, 1 cls=-0.78239, 2 cls=-0.69952, bce=0.06859, dice=0.85909, loss=-0.79326]\n"
     ]
    },
    {
     "name": "stdout",
     "output_type": "stream",
     "text": [
      "loss: -0.83174 | bce: 0.03903 | dice: 0.86348 | 0 cls: -0.88176 | 1 cls: -0.83937 | 2 cls: -0.72147\n"
     ]
    },
    {
     "name": "stderr",
     "output_type": "stream",
     "text": [
      "Epoch 478, lr 3.8879999999999994e-05: 100% 21/21 [00:11<00:00,  1.80it/s, 0 cls=-0.84875, 1 cls=-0.77891, 2 cls=-0.69708, bce=0.06900, dice=0.85695, loss=-0.79048]\n"
     ]
    },
    {
     "name": "stdout",
     "output_type": "stream",
     "text": [
      "loss: -0.83246 | bce: 0.03976 | dice: 0.86486 | 0 cls: -0.88227 | 1 cls: -0.84033 | 2 cls: -0.72279\n"
     ]
    },
    {
     "name": "stderr",
     "output_type": "stream",
     "text": [
      "Epoch 479, lr 3.8879999999999994e-05: 100% 21/21 [00:11<00:00,  1.90it/s, 0 cls=-0.84674, 1 cls=-0.78037, 2 cls=-0.69850, bce=0.06915, dice=0.85707, loss=-0.79055]\n"
     ]
    },
    {
     "name": "stdout",
     "output_type": "stream",
     "text": [
      "loss: -0.83384 | bce: 0.03922 | dice: 0.86589 | 0 cls: -0.88403 | 1 cls: -0.84071 | 2 cls: -0.72531\n"
     ]
    },
    {
     "name": "stderr",
     "output_type": "stream",
     "text": [
      "Epoch 480, lr 3.8879999999999994e-05: 100% 21/21 [00:11<00:00,  1.84it/s, 0 cls=-0.84500, 1 cls=-0.77684, 2 cls=-0.69392, bce=0.07047, dice=0.85541, loss=-0.78752]\n"
     ]
    },
    {
     "name": "stdout",
     "output_type": "stream",
     "text": [
      "loss: -0.83337 | bce: 0.03863 | dice: 0.86471 | 0 cls: -0.88284 | 1 cls: -0.84141 | 2 cls: -0.72425\n"
     ]
    },
    {
     "name": "stderr",
     "output_type": "stream",
     "text": [
      "Epoch 481, lr 3.8879999999999994e-05: 100% 21/21 [00:11<00:00,  1.89it/s, 0 cls=-0.84708, 1 cls=-0.78056, 2 cls=-0.69788, bce=0.06923, dice=0.85705, loss=-0.79063]\n"
     ]
    },
    {
     "name": "stdout",
     "output_type": "stream",
     "text": [
      "loss: -0.83173 | bce: 0.03881 | dice: 0.86322 | 0 cls: -0.88183 | 1 cls: -0.83954 | 2 cls: -0.72140\n"
     ]
    },
    {
     "name": "stderr",
     "output_type": "stream",
     "text": [
      "Epoch 482, lr 3.8879999999999994e-05: 100% 21/21 [00:11<00:00,  1.79it/s, 0 cls=-0.84721, 1 cls=-0.78147, 2 cls=-0.69652, bce=0.06872, dice=0.85641, loss=-0.79078]\n"
     ]
    },
    {
     "name": "stdout",
     "output_type": "stream",
     "text": [
      "loss: -0.83228 | bce: 0.03978 | dice: 0.86477 | 0 cls: -0.88223 | 1 cls: -0.84029 | 2 cls: -0.72233\n"
     ]
    },
    {
     "name": "stderr",
     "output_type": "stream",
     "text": [
      "Epoch 483, lr 3.8879999999999994e-05: 100% 21/21 [00:11<00:00,  1.80it/s, 0 cls=-0.84956, 1 cls=-0.78027, 2 cls=-0.69672, bce=0.06937, dice=0.85785, loss=-0.79128]\n"
     ]
    },
    {
     "name": "stdout",
     "output_type": "stream",
     "text": [
      "loss: -0.83213 | bce: 0.03988 | dice: 0.86497 | 0 cls: -0.88265 | 1 cls: -0.83958 | 2 cls: -0.72288\n"
     ]
    },
    {
     "name": "stderr",
     "output_type": "stream",
     "text": [
      "Epoch 484, lr 3.8879999999999994e-05: 100% 21/21 [00:11<00:00,  1.89it/s, 0 cls=-0.84546, 1 cls=-0.77460, 2 cls=-0.69191, bce=0.06977, dice=0.85372, loss=-0.78641]\n"
     ]
    },
    {
     "name": "stdout",
     "output_type": "stream",
     "text": [
      "loss: -0.83329 | bce: 0.04024 | dice: 0.86660 | 0 cls: -0.88366 | 1 cls: -0.84018 | 2 cls: -0.72475\n"
     ]
    },
    {
     "name": "stderr",
     "output_type": "stream",
     "text": [
      "Epoch 485, lr 3.8879999999999994e-05: 100% 21/21 [00:11<00:00,  1.89it/s, 0 cls=-0.84465, 1 cls=-0.77723, 2 cls=-0.69468, bce=0.07018, dice=0.85523, loss=-0.78769]\n"
     ]
    },
    {
     "name": "stdout",
     "output_type": "stream",
     "text": [
      "loss: -0.83041 | bce: 0.03906 | dice: 0.86210 | 0 cls: -0.88017 | 1 cls: -0.83964 | 2 cls: -0.71860\n"
     ]
    },
    {
     "name": "stderr",
     "output_type": "stream",
     "text": [
      "Epoch 486, lr 3.8879999999999994e-05: 100% 21/21 [00:11<00:00,  1.76it/s, 0 cls=-0.84574, 1 cls=-0.77832, 2 cls=-0.69439, bce=0.07000, dice=0.85563, loss=-0.78850]\n"
     ]
    },
    {
     "name": "stdout",
     "output_type": "stream",
     "text": [
      "loss: -0.83230 | bce: 0.03858 | dice: 0.86343 | 0 cls: -0.88186 | 1 cls: -0.84036 | 2 cls: -0.72229\n"
     ]
    },
    {
     "name": "stderr",
     "output_type": "stream",
     "text": [
      "Epoch 487, lr 3.8879999999999994e-05: 100% 21/21 [00:11<00:00,  1.89it/s, 0 cls=-0.84943, 1 cls=-0.78032, 2 cls=-0.69720, bce=0.06911, dice=0.85775, loss=-0.79134]\n"
     ]
    },
    {
     "name": "stdout",
     "output_type": "stream",
     "text": [
      "loss: -0.83181 | bce: 0.03864 | dice: 0.86283 | 0 cls: -0.88107 | 1 cls: -0.84058 | 2 cls: -0.72124\n"
     ]
    },
    {
     "name": "stderr",
     "output_type": "stream",
     "text": [
      "Epoch 488, lr 3.8879999999999994e-05: 100% 21/21 [00:11<00:00,  1.91it/s, 0 cls=-0.84215, 1 cls=-0.77443, 2 cls=-0.68779, bce=0.07170, dice=0.85280, loss=-0.78419]\n"
     ]
    },
    {
     "name": "stdout",
     "output_type": "stream",
     "text": [
      "loss: -0.83242 | bce: 0.03917 | dice: 0.86432 | 0 cls: -0.88224 | 1 cls: -0.84037 | 2 cls: -0.72313\n"
     ]
    },
    {
     "name": "stderr",
     "output_type": "stream",
     "text": [
      "Epoch 489, lr 3.8879999999999994e-05: 100% 21/21 [00:10<00:00,  1.91it/s, 0 cls=-0.84935, 1 cls=-0.78111, 2 cls=-0.69971, bce=0.06859, dice=0.85810, loss=-0.79212]\n"
     ]
    },
    {
     "name": "stdout",
     "output_type": "stream",
     "text": [
      "loss: -0.83277 | bce: 0.03940 | dice: 0.86484 | 0 cls: -0.88241 | 1 cls: -0.84075 | 2 cls: -0.72294\n"
     ]
    },
    {
     "name": "stderr",
     "output_type": "stream",
     "text": [
      "Epoch 490, lr 0.0004096000000000001: 100% 21/21 [00:11<00:00,  1.90it/s, 0 cls=-0.82956, 1 cls=-0.76081, 2 cls=-0.66884, bce=0.07559, dice=0.84215, loss=-0.76991]\n"
     ]
    },
    {
     "name": "stdout",
     "output_type": "stream",
     "text": [
      "loss: -0.82055 | bce: 0.04897 | dice: 0.86236 | 0 cls: -0.87672 | 1 cls: -0.82607 | 2 cls: -0.70693\n"
     ]
    },
    {
     "name": "stderr",
     "output_type": "stream",
     "text": [
      "Epoch 491, lr 0.0004096000000000001: 100% 21/21 [00:10<00:00,  1.92it/s, 0 cls=-0.83722, 1 cls=-0.76665, 2 cls=-0.67867, bce=0.07348, dice=0.84781, loss=-0.77728]\n"
     ]
    },
    {
     "name": "stdout",
     "output_type": "stream",
     "text": [
      "loss: -0.82972 | bce: 0.04207 | dice: 0.86396 | 0 cls: -0.88114 | 1 cls: -0.83744 | 2 cls: -0.71955\n"
     ]
    },
    {
     "name": "stderr",
     "output_type": "stream",
     "text": [
      "Epoch 492, lr 0.00012288000000000002: 100% 21/21 [00:11<00:00,  1.86it/s, 0 cls=-0.83041, 1 cls=-0.76605, 2 cls=-0.67542, bce=0.07435, dice=0.84441, loss=-0.77367]\n"
     ]
    },
    {
     "name": "stdout",
     "output_type": "stream",
     "text": [
      "loss: -0.83472 | bce: 0.04192 | dice: 0.87022 | 0 cls: -0.88460 | 1 cls: -0.84076 | 2 cls: -0.72894\n"
     ]
    },
    {
     "name": "stderr",
     "output_type": "stream",
     "text": [
      "Epoch 493, lr 0.00012288000000000002: 100% 21/21 [00:11<00:00,  1.90it/s, 0 cls=-0.84529, 1 cls=-0.77544, 2 cls=-0.69216, bce=0.07003, dice=0.85415, loss=-0.78672]\n"
     ]
    },
    {
     "name": "stdout",
     "output_type": "stream",
     "text": [
      "loss: -0.83171 | bce: 0.03901 | dice: 0.86372 | 0 cls: -0.88164 | 1 cls: -0.84026 | 2 cls: -0.72118\n"
     ]
    },
    {
     "name": "stderr",
     "output_type": "stream",
     "text": [
      "Epoch 494, lr 3.6864000000000005e-05: 100% 21/21 [00:11<00:00,  1.79it/s, 0 cls=-0.84271, 1 cls=-0.77542, 2 cls=-0.68953, bce=0.07104, dice=0.85326, loss=-0.78516]\n"
     ]
    },
    {
     "name": "stdout",
     "output_type": "stream",
     "text": [
      "loss: -0.83216 | bce: 0.03885 | dice: 0.86380 | 0 cls: -0.88211 | 1 cls: -0.84034 | 2 cls: -0.72203\n"
     ]
    },
    {
     "name": "stderr",
     "output_type": "stream",
     "text": [
      "Epoch 495, lr 0.0004096000000000001: 100% 21/21 [00:11<00:00,  1.82it/s, 0 cls=-0.83713, 1 cls=-0.77048, 2 cls=-0.68152, bce=0.07310, dice=0.84908, loss=-0.77935]\n"
     ]
    },
    {
     "name": "stdout",
     "output_type": "stream",
     "text": [
      "loss: -0.82567 | bce: 0.03790 | dice: 0.85512 | 0 cls: -0.87524 | 1 cls: -0.83568 | 2 cls: -0.71092\n"
     ]
    },
    {
     "name": "stderr",
     "output_type": "stream",
     "text": [
      "Epoch 496, lr 0.0004096000000000001: 100% 21/21 [00:11<00:00,  1.91it/s, 0 cls=-0.83033, 1 cls=-0.76264, 2 cls=-0.67204, bce=0.07589, dice=0.84415, loss=-0.77159]\n"
     ]
    },
    {
     "name": "stdout",
     "output_type": "stream",
     "text": [
      "loss: -0.82930 | bce: 0.04162 | dice: 0.86442 | 0 cls: -0.88358 | 1 cls: -0.83216 | 2 cls: -0.72099\n"
     ]
    },
    {
     "name": "stderr",
     "output_type": "stream",
     "text": [
      "Epoch 497, lr 0.00012288000000000002: 100% 21/21 [00:11<00:00,  1.81it/s, 0 cls=-0.83867, 1 cls=-0.77016, 2 cls=-0.68428, bce=0.07209, dice=0.84960, loss=-0.78039]\n"
     ]
    },
    {
     "name": "stdout",
     "output_type": "stream",
     "text": [
      "loss: -0.83212 | bce: 0.03897 | dice: 0.86405 | 0 cls: -0.88250 | 1 cls: -0.83941 | 2 cls: -0.72329\n"
     ]
    },
    {
     "name": "stderr",
     "output_type": "stream",
     "text": [
      "Epoch 498, lr 0.00012288000000000002: 100% 21/21 [00:10<00:00,  1.92it/s, 0 cls=-0.84597, 1 cls=-0.77828, 2 cls=-0.69291, bce=0.06972, dice=0.85491, loss=-0.78828]\n"
     ]
    },
    {
     "name": "stdout",
     "output_type": "stream",
     "text": [
      "loss: -0.83188 | bce: 0.03994 | dice: 0.86485 | 0 cls: -0.88242 | 1 cls: -0.83963 | 2 cls: -0.72289\n"
     ]
    },
    {
     "name": "stderr",
     "output_type": "stream",
     "text": [
      "Epoch 499, lr 3.6864000000000005e-05: 100% 21/21 [00:10<00:00,  1.93it/s, 0 cls=-0.84348, 1 cls=-0.77596, 2 cls=-0.68975, bce=0.07176, dice=0.85449, loss=-0.78573]\n"
     ]
    },
    {
     "name": "stdout",
     "output_type": "stream",
     "text": [
      "loss: -0.83090 | bce: 0.03852 | dice: 0.86202 | 0 cls: -0.88080 | 1 cls: -0.83967 | 2 cls: -0.71984\n"
     ]
    },
    {
     "name": "stderr",
     "output_type": "stream",
     "text": [
      "Epoch 500, lr 2.3327999999999994e-05: 100% 21/21 [00:12<00:00,  1.73it/s, 0 cls=-0.84171, 1 cls=-0.77335, 2 cls=-0.68908, bce=0.07077, dice=0.85186, loss=-0.78384]\n"
     ]
    },
    {
     "name": "stdout",
     "output_type": "stream",
     "text": [
      "loss: -0.83147 | bce: 0.03860 | dice: 0.86312 | 0 cls: -0.88235 | 1 cls: -0.83834 | 2 cls: -0.72182\n"
     ]
    },
    {
     "name": "stderr",
     "output_type": "stream",
     "text": [
      "Epoch 501, lr 2.3327999999999994e-05: 100% 21/21 [00:10<00:00,  1.91it/s, 0 cls=-0.84576, 1 cls=-0.77557, 2 cls=-0.69115, bce=0.07075, dice=0.85471, loss=-0.78676]\n"
     ]
    },
    {
     "name": "stdout",
     "output_type": "stream",
     "text": [
      "loss: -0.83034 | bce: 0.03846 | dice: 0.86154 | 0 cls: -0.88080 | 1 cls: -0.83833 | 2 cls: -0.71942\n"
     ]
    },
    {
     "name": "stderr",
     "output_type": "stream",
     "text": [
      "Epoch 502, lr 2.3327999999999994e-05: 100% 21/21 [00:11<00:00,  1.76it/s, 0 cls=-0.84096, 1 cls=-0.77413, 2 cls=-0.68872, bce=0.07150, dice=0.85235, loss=-0.78378]\n"
     ]
    },
    {
     "name": "stdout",
     "output_type": "stream",
     "text": [
      "loss: -0.83155 | bce: 0.03902 | dice: 0.86347 | 0 cls: -0.88196 | 1 cls: -0.83926 | 2 cls: -0.72195\n"
     ]
    },
    {
     "name": "stderr",
     "output_type": "stream",
     "text": [
      "Epoch 503, lr 2.3327999999999994e-05: 100% 21/21 [00:11<00:00,  1.81it/s, 0 cls=-0.84216, 1 cls=-0.77290, 2 cls=-0.68857, bce=0.07108, dice=0.85208, loss=-0.78374]\n"
     ]
    },
    {
     "name": "stdout",
     "output_type": "stream",
     "text": [
      "loss: -0.83274 | bce: 0.03877 | dice: 0.86444 | 0 cls: -0.88257 | 1 cls: -0.84050 | 2 cls: -0.72369\n"
     ]
    },
    {
     "name": "stderr",
     "output_type": "stream",
     "text": [
      "Epoch 504, lr 2.3327999999999994e-05: 100% 21/21 [00:11<00:00,  1.90it/s, 0 cls=-0.84484, 1 cls=-0.77990, 2 cls=-0.69608, bce=0.06939, dice=0.85549, loss=-0.78911]\n"
     ]
    },
    {
     "name": "stdout",
     "output_type": "stream",
     "text": [
      "loss: -0.83270 | bce: 0.03858 | dice: 0.86422 | 0 cls: -0.88233 | 1 cls: -0.84077 | 2 cls: -0.72334\n"
     ]
    },
    {
     "name": "stderr",
     "output_type": "stream",
     "text": [
      "Epoch 505, lr 2.3327999999999994e-05: 100% 21/21 [00:11<00:00,  1.90it/s, 0 cls=-0.84996, 1 cls=-0.77978, 2 cls=-0.69809, bce=0.06920, dice=0.85816, loss=-0.79152]\n"
     ]
    },
    {
     "name": "stdout",
     "output_type": "stream",
     "text": [
      "loss: -0.83192 | bce: 0.03908 | dice: 0.86371 | 0 cls: -0.88146 | 1 cls: -0.84066 | 2 cls: -0.72182\n"
     ]
    },
    {
     "name": "stderr",
     "output_type": "stream",
     "text": [
      "Epoch 506, lr 2.3327999999999994e-05: 100% 21/21 [00:14<00:00,  1.48it/s, 0 cls=-0.84346, 1 cls=-0.77654, 2 cls=-0.69140, bce=0.07031, dice=0.85365, loss=-0.78628]\n"
     ]
    },
    {
     "name": "stdout",
     "output_type": "stream",
     "text": [
      "loss: -0.83226 | bce: 0.03929 | dice: 0.86433 | 0 cls: -0.88207 | 1 cls: -0.84024 | 2 cls: -0.72291\n"
     ]
    },
    {
     "name": "stderr",
     "output_type": "stream",
     "text": [
      "Epoch 507, lr 2.3327999999999994e-05: 100% 21/21 [00:19<00:00,  1.05it/s, 0 cls=-0.84762, 1 cls=-0.78181, 2 cls=-0.69780, bce=0.06847, dice=0.85682, loss=-0.79133]\n"
     ]
    },
    {
     "name": "stdout",
     "output_type": "stream",
     "text": [
      "loss: -0.83290 | bce: 0.03919 | dice: 0.86491 | 0 cls: -0.88227 | 1 cls: -0.84114 | 2 cls: -0.72362\n"
     ]
    },
    {
     "name": "stderr",
     "output_type": "stream",
     "text": [
      "Epoch 508, lr 2.3327999999999994e-05: 100% 21/21 [00:11<00:00,  1.87it/s, 0 cls=-0.84702, 1 cls=-0.77895, 2 cls=-0.69397, bce=0.06970, dice=0.85589, loss=-0.78918]\n"
     ]
    },
    {
     "name": "stdout",
     "output_type": "stream",
     "text": [
      "loss: -0.83242 | bce: 0.03848 | dice: 0.86359 | 0 cls: -0.88196 | 1 cls: -0.84060 | 2 cls: -0.72298\n"
     ]
    },
    {
     "name": "stderr",
     "output_type": "stream",
     "text": [
      "Epoch 509, lr 2.3327999999999994e-05: 100% 21/21 [00:11<00:00,  1.77it/s, 0 cls=-0.84711, 1 cls=-0.78088, 2 cls=-0.69647, bce=0.06950, dice=0.85698, loss=-0.79049]\n"
     ]
    },
    {
     "name": "stdout",
     "output_type": "stream",
     "text": [
      "loss: -0.83182 | bce: 0.03851 | dice: 0.86279 | 0 cls: -0.88104 | 1 cls: -0.84081 | 2 cls: -0.72119\n"
     ]
    },
    {
     "name": "stderr",
     "output_type": "stream",
     "text": [
      "Epoch 510, lr 2.3327999999999994e-05: 100% 21/21 [00:11<00:00,  1.83it/s, 0 cls=-0.84909, 1 cls=-0.78262, 2 cls=-0.69923, bce=0.06804, dice=0.85760, loss=-0.79253]\n"
     ]
    },
    {
     "name": "stdout",
     "output_type": "stream",
     "text": [
      "loss: -0.83203 | bce: 0.03936 | dice: 0.86413 | 0 cls: -0.88122 | 1 cls: -0.84114 | 2 cls: -0.72203\n"
     ]
    },
    {
     "name": "stderr",
     "output_type": "stream",
     "text": [
      "Epoch 511, lr 2.3327999999999994e-05: 100% 21/21 [00:11<00:00,  1.91it/s, 0 cls=-0.85006, 1 cls=-0.78236, 2 cls=-0.69911, bce=0.06887, dice=0.85875, loss=-0.79279]\n"
     ]
    },
    {
     "name": "stdout",
     "output_type": "stream",
     "text": [
      "loss: -0.83270 | bce: 0.03864 | dice: 0.86400 | 0 cls: -0.88199 | 1 cls: -0.84124 | 2 cls: -0.72313\n"
     ]
    },
    {
     "name": "stderr",
     "output_type": "stream",
     "text": [
      "Epoch 512, lr 2.3327999999999994e-05: 100% 21/21 [00:10<00:00,  1.92it/s, 0 cls=-0.84726, 1 cls=-0.77904, 2 cls=-0.69577, bce=0.06897, dice=0.85588, loss=-0.78968]\n"
     ]
    },
    {
     "name": "stdout",
     "output_type": "stream",
     "text": [
      "loss: -0.83330 | bce: 0.03958 | dice: 0.86589 | 0 cls: -0.88285 | 1 cls: -0.84144 | 2 cls: -0.72476\n"
     ]
    },
    {
     "name": "stderr",
     "output_type": "stream",
     "text": [
      "Epoch 513, lr 2.3327999999999994e-05: 100% 21/21 [00:10<00:00,  1.92it/s, 0 cls=-0.84687, 1 cls=-0.77925, 2 cls=-0.69491, bce=0.07021, dice=0.85669, loss=-0.78943]\n"
     ]
    },
    {
     "name": "stdout",
     "output_type": "stream",
     "text": [
      "loss: -0.83085 | bce: 0.03911 | dice: 0.86226 | 0 cls: -0.87968 | 1 cls: -0.84108 | 2 cls: -0.71923\n"
     ]
    },
    {
     "name": "stderr",
     "output_type": "stream",
     "text": [
      "Epoch 514, lr 2.3327999999999994e-05: 100% 21/21 [00:11<00:00,  1.79it/s, 0 cls=-0.84941, 1 cls=-0.78085, 2 cls=-0.69726, bce=0.06843, dice=0.85716, loss=-0.79155]\n"
     ]
    },
    {
     "name": "stdout",
     "output_type": "stream",
     "text": [
      "loss: -0.83349 | bce: 0.03877 | dice: 0.86478 | 0 cls: -0.88243 | 1 cls: -0.84223 | 2 cls: -0.72445\n"
     ]
    },
    {
     "name": "stderr",
     "output_type": "stream",
     "text": [
      "Epoch 515, lr 2.3327999999999994e-05: 100% 21/21 [00:11<00:00,  1.83it/s, 0 cls=-0.84788, 1 cls=-0.77788, 2 cls=-0.69580, bce=0.06927, dice=0.85617, loss=-0.78946]\n"
     ]
    },
    {
     "name": "stdout",
     "output_type": "stream",
     "text": [
      "loss: -0.83170 | bce: 0.03873 | dice: 0.86296 | 0 cls: -0.88076 | 1 cls: -0.84114 | 2 cls: -0.72090\n"
     ]
    },
    {
     "name": "stderr",
     "output_type": "stream",
     "text": [
      "Epoch 516, lr 2.3327999999999994e-05: 100% 21/21 [00:11<00:00,  1.80it/s, 0 cls=-0.84533, 1 cls=-0.77694, 2 cls=-0.69151, bce=0.07073, dice=0.85505, loss=-0.78721]\n"
     ]
    },
    {
     "name": "stdout",
     "output_type": "stream",
     "text": [
      "loss: -0.83345 | bce: 0.03810 | dice: 0.86438 | 0 cls: -0.88276 | 1 cls: -0.84166 | 2 cls: -0.72449\n"
     ]
    },
    {
     "name": "stderr",
     "output_type": "stream",
     "text": [
      "Epoch 517, lr 2.3327999999999994e-05: 100% 21/21 [00:10<00:00,  1.92it/s, 0 cls=-0.84405, 1 cls=-0.77759, 2 cls=-0.69365, bce=0.07024, dice=0.85473, loss=-0.78739]\n"
     ]
    },
    {
     "name": "stdout",
     "output_type": "stream",
     "text": [
      "loss: -0.83396 | bce: 0.03856 | dice: 0.86542 | 0 cls: -0.88309 | 1 cls: -0.84191 | 2 cls: -0.72582\n"
     ]
    },
    {
     "name": "stderr",
     "output_type": "stream",
     "text": [
      "Epoch 518, lr 2.3327999999999994e-05: 100% 21/21 [00:11<00:00,  1.80it/s, 0 cls=-0.84163, 1 cls=-0.77081, 2 cls=-0.68769, bce=0.07090, dice=0.85098, loss=-0.78251]\n"
     ]
    },
    {
     "name": "stdout",
     "output_type": "stream",
     "text": [
      "loss: -0.83280 | bce: 0.03827 | dice: 0.86372 | 0 cls: -0.88214 | 1 cls: -0.84091 | 2 cls: -0.72346\n"
     ]
    },
    {
     "name": "stderr",
     "output_type": "stream",
     "text": [
      "Epoch 519, lr 2.3327999999999994e-05: 100% 21/21 [00:11<00:00,  1.79it/s, 0 cls=-0.84705, 1 cls=-0.78010, 2 cls=-0.69554, bce=0.06929, dice=0.85623, loss=-0.78997]\n"
     ]
    },
    {
     "name": "stdout",
     "output_type": "stream",
     "text": [
      "loss: -0.83280 | bce: 0.03852 | dice: 0.86426 | 0 cls: -0.88273 | 1 cls: -0.84034 | 2 cls: -0.72373\n"
     ]
    },
    {
     "name": "stderr",
     "output_type": "stream",
     "text": [
      "Epoch 520, lr 2.3327999999999994e-05: 100% 21/21 [00:11<00:00,  1.87it/s, 0 cls=-0.84545, 1 cls=-0.77794, 2 cls=-0.69421, bce=0.07022, dice=0.85559, loss=-0.78820]\n"
     ]
    },
    {
     "name": "stdout",
     "output_type": "stream",
     "text": [
      "loss: -0.83229 | bce: 0.03890 | dice: 0.86407 | 0 cls: -0.88198 | 1 cls: -0.84040 | 2 cls: -0.72261\n"
     ]
    },
    {
     "name": "stderr",
     "output_type": "stream",
     "text": [
      "Epoch 521, lr 2.3327999999999994e-05: 100% 21/21 [00:11<00:00,  1.90it/s, 0 cls=-0.84752, 1 cls=-0.78095, 2 cls=-0.69646, bce=0.06968, dice=0.85732, loss=-0.79068]\n"
     ]
    },
    {
     "name": "stdout",
     "output_type": "stream",
     "text": [
      "loss: -0.83162 | bce: 0.03906 | dice: 0.86337 | 0 cls: -0.88139 | 1 cls: -0.84009 | 2 cls: -0.72139\n"
     ]
    },
    {
     "name": "stderr",
     "output_type": "stream",
     "text": [
      "Epoch 522, lr 2.3327999999999994e-05: 100% 21/21 [00:11<00:00,  1.87it/s, 0 cls=-0.85045, 1 cls=-0.78224, 2 cls=-0.69833, bce=0.06827, dice=0.85811, loss=-0.79274]\n"
     ]
    },
    {
     "name": "stdout",
     "output_type": "stream",
     "text": [
      "loss: -0.83095 | bce: 0.03903 | dice: 0.86240 | 0 cls: -0.88039 | 1 cls: -0.84025 | 2 cls: -0.71957\n"
     ]
    },
    {
     "name": "stderr",
     "output_type": "stream",
     "text": [
      "Epoch 523, lr 2.3327999999999994e-05: 100% 21/21 [00:11<00:00,  1.89it/s, 0 cls=-0.83815, 1 cls=-0.77240, 2 cls=-0.68808, bce=0.07319, dice=0.85218, loss=-0.78184]\n"
     ]
    },
    {
     "name": "stdout",
     "output_type": "stream",
     "text": [
      "loss: -0.83238 | bce: 0.03899 | dice: 0.86414 | 0 cls: -0.88212 | 1 cls: -0.84049 | 2 cls: -0.72277\n"
     ]
    },
    {
     "name": "stderr",
     "output_type": "stream",
     "text": [
      "Epoch 524, lr 2.3327999999999994e-05: 100% 21/21 [00:20<00:00,  1.01it/s, 0 cls=-0.84617, 1 cls=-0.77966, 2 cls=-0.69553, bce=0.06980, dice=0.85634, loss=-0.78944]\n"
     ]
    },
    {
     "name": "stdout",
     "output_type": "stream",
     "text": [
      "loss: -0.83189 | bce: 0.03867 | dice: 0.86325 | 0 cls: -0.88152 | 1 cls: -0.84030 | 2 cls: -0.72208\n"
     ]
    },
    {
     "name": "stderr",
     "output_type": "stream",
     "text": [
      "Epoch 525, lr 2.3327999999999994e-05: 100% 21/21 [00:12<00:00,  1.71it/s, 0 cls=-0.84433, 1 cls=-0.77773, 2 cls=-0.69277, bce=0.06981, dice=0.85413, loss=-0.78738]\n"
     ]
    },
    {
     "name": "stdout",
     "output_type": "stream",
     "text": [
      "loss: -0.83255 | bce: 0.03888 | dice: 0.86422 | 0 cls: -0.88232 | 1 cls: -0.84031 | 2 cls: -0.72325\n"
     ]
    },
    {
     "name": "stderr",
     "output_type": "stream",
     "text": [
      "Epoch 526, lr 2.3327999999999994e-05: 100% 21/21 [00:11<00:00,  1.89it/s, 0 cls=-0.84817, 1 cls=-0.78106, 2 cls=-0.69716, bce=0.06890, dice=0.85707, loss=-0.79112]\n"
     ]
    },
    {
     "name": "stdout",
     "output_type": "stream",
     "text": [
      "loss: -0.83166 | bce: 0.03852 | dice: 0.86285 | 0 cls: -0.88130 | 1 cls: -0.84033 | 2 cls: -0.72116\n"
     ]
    },
    {
     "name": "stderr",
     "output_type": "stream",
     "text": [
      "Epoch 527, lr 2.3327999999999994e-05: 100% 21/21 [00:11<00:00,  1.90it/s, 0 cls=-0.84768, 1 cls=-0.77944, 2 cls=-0.69572, bce=0.06981, dice=0.85696, loss=-0.78999]\n"
     ]
    },
    {
     "name": "stdout",
     "output_type": "stream",
     "text": [
      "loss: -0.83262 | bce: 0.03891 | dice: 0.86425 | 0 cls: -0.88245 | 1 cls: -0.84052 | 2 cls: -0.72342\n"
     ]
    },
    {
     "name": "stderr",
     "output_type": "stream",
     "text": [
      "Epoch 528, lr 2.3327999999999994e-05: 100% 21/21 [00:11<00:00,  1.89it/s, 0 cls=-0.84649, 1 cls=-0.77817, 2 cls=-0.69658, bce=0.06936, dice=0.85599, loss=-0.78918]\n"
     ]
    },
    {
     "name": "stdout",
     "output_type": "stream",
     "text": [
      "loss: -0.83302 | bce: 0.03885 | dice: 0.86475 | 0 cls: -0.88279 | 1 cls: -0.84080 | 2 cls: -0.72397\n"
     ]
    },
    {
     "name": "stderr",
     "output_type": "stream",
     "text": [
      "Epoch 529, lr 2.3327999999999994e-05: 100% 21/21 [00:11<00:00,  1.89it/s, 0 cls=-0.84948, 1 cls=-0.78214, 2 cls=-0.69910, bce=0.06814, dice=0.85783, loss=-0.79247]\n"
     ]
    },
    {
     "name": "stdout",
     "output_type": "stream",
     "text": [
      "loss: -0.83239 | bce: 0.03884 | dice: 0.86408 | 0 cls: -0.88247 | 1 cls: -0.83985 | 2 cls: -0.72309\n"
     ]
    },
    {
     "name": "stderr",
     "output_type": "stream",
     "text": [
      "Epoch 530, lr 2.3327999999999994e-05: 100% 21/21 [00:11<00:00,  1.90it/s, 0 cls=-0.85017, 1 cls=-0.78208, 2 cls=-0.69970, bce=0.06810, dice=0.85823, loss=-0.79284]\n"
     ]
    },
    {
     "name": "stdout",
     "output_type": "stream",
     "text": [
      "loss: -0.83188 | bce: 0.03893 | dice: 0.86369 | 0 cls: -0.88134 | 1 cls: -0.84064 | 2 cls: -0.72174\n"
     ]
    },
    {
     "name": "stderr",
     "output_type": "stream",
     "text": [
      "Epoch 531, lr 2.3327999999999994e-05: 100% 21/21 [00:11<00:00,  1.88it/s, 0 cls=-0.84606, 1 cls=-0.77895, 2 cls=-0.69497, bce=0.07001, dice=0.85611, loss=-0.78900]\n"
     ]
    },
    {
     "name": "stdout",
     "output_type": "stream",
     "text": [
      "loss: -0.83182 | bce: 0.03908 | dice: 0.86363 | 0 cls: -0.88174 | 1 cls: -0.83988 | 2 cls: -0.72191\n"
     ]
    },
    {
     "name": "stderr",
     "output_type": "stream",
     "text": [
      "Epoch 532, lr 2.3327999999999994e-05: 100% 21/21 [00:11<00:00,  1.91it/s, 0 cls=-0.84951, 1 cls=-0.78104, 2 cls=-0.69797, bce=0.06820, dice=0.85722, loss=-0.79182]\n"
     ]
    },
    {
     "name": "stdout",
     "output_type": "stream",
     "text": [
      "loss: -0.83215 | bce: 0.03893 | dice: 0.86401 | 0 cls: -0.88216 | 1 cls: -0.84006 | 2 cls: -0.72256\n"
     ]
    },
    {
     "name": "stderr",
     "output_type": "stream",
     "text": [
      "Epoch 533, lr 2.3327999999999994e-05: 100% 21/21 [00:11<00:00,  1.90it/s, 0 cls=-0.84657, 1 cls=-0.78037, 2 cls=-0.69688, bce=0.06916, dice=0.85645, loss=-0.79015]\n"
     ]
    },
    {
     "name": "stdout",
     "output_type": "stream",
     "text": [
      "loss: -0.83231 | bce: 0.03903 | dice: 0.86449 | 0 cls: -0.88264 | 1 cls: -0.83978 | 2 cls: -0.72317\n"
     ]
    },
    {
     "name": "stderr",
     "output_type": "stream",
     "text": [
      "Epoch 534, lr 2.3327999999999994e-05: 100% 21/21 [00:11<00:00,  1.90it/s, 0 cls=-0.84932, 1 cls=-0.78123, 2 cls=-0.69809, bce=0.06887, dice=0.85792, loss=-0.79184]\n"
     ]
    },
    {
     "name": "stdout",
     "output_type": "stream",
     "text": [
      "loss: -0.83218 | bce: 0.03902 | dice: 0.86411 | 0 cls: -0.88220 | 1 cls: -0.83993 | 2 cls: -0.72269\n"
     ]
    },
    {
     "name": "stderr",
     "output_type": "stream",
     "text": [
      "Epoch 535, lr 2.3327999999999994e-05: 100% 21/21 [00:10<00:00,  1.92it/s, 0 cls=-0.84185, 1 cls=-0.77586, 2 cls=-0.69099, bce=0.07072, dice=0.85306, loss=-0.78528]\n"
     ]
    },
    {
     "name": "stdout",
     "output_type": "stream",
     "text": [
      "loss: -0.83300 | bce: 0.03849 | dice: 0.86436 | 0 cls: -0.88251 | 1 cls: -0.84108 | 2 cls: -0.72394\n"
     ]
    },
    {
     "name": "stderr",
     "output_type": "stream",
     "text": [
      "Epoch 536, lr 2.3327999999999994e-05: 100% 21/21 [00:11<00:00,  1.89it/s, 0 cls=-0.84908, 1 cls=-0.78101, 2 cls=-0.69830, bce=0.06808, dice=0.85699, loss=-0.79170]\n"
     ]
    },
    {
     "name": "stdout",
     "output_type": "stream",
     "text": [
      "loss: -0.83248 | bce: 0.03912 | dice: 0.86464 | 0 cls: -0.88247 | 1 cls: -0.84013 | 2 cls: -0.72336\n"
     ]
    },
    {
     "name": "stderr",
     "output_type": "stream",
     "text": [
      "Epoch 537, lr 2.3327999999999994e-05: 100% 21/21 [00:11<00:00,  1.89it/s, 0 cls=-0.85105, 1 cls=-0.78178, 2 cls=-0.69989, bce=0.06838, dice=0.85887, loss=-0.79311]\n"
     ]
    },
    {
     "name": "stdout",
     "output_type": "stream",
     "text": [
      "loss: -0.83214 | bce: 0.03914 | dice: 0.86428 | 0 cls: -0.88229 | 1 cls: -0.83988 | 2 cls: -0.72263\n"
     ]
    },
    {
     "name": "stderr",
     "output_type": "stream",
     "text": [
      "Epoch 538, lr 2.3327999999999994e-05: 100% 21/21 [00:11<00:00,  1.87it/s, 0 cls=-0.84741, 1 cls=-0.77963, 2 cls=-0.69704, bce=0.06959, dice=0.85715, loss=-0.79022]\n"
     ]
    },
    {
     "name": "stdout",
     "output_type": "stream",
     "text": [
      "loss: -0.83224 | bce: 0.03843 | dice: 0.86335 | 0 cls: -0.88178 | 1 cls: -0.84065 | 2 cls: -0.72220\n"
     ]
    },
    {
     "name": "stderr",
     "output_type": "stream",
     "text": [
      "Epoch 539, lr 2.3327999999999994e-05: 100% 21/21 [00:11<00:00,  1.78it/s, 0 cls=-0.84759, 1 cls=-0.77906, 2 cls=-0.69832, bce=0.06880, dice=0.85668, loss=-0.79032]\n"
     ]
    },
    {
     "name": "stdout",
     "output_type": "stream",
     "text": [
      "loss: -0.83319 | bce: 0.03911 | dice: 0.86517 | 0 cls: -0.88312 | 1 cls: -0.84070 | 2 cls: -0.72431\n"
     ]
    },
    {
     "name": "stderr",
     "output_type": "stream",
     "text": [
      "Epoch 540, lr 2.3327999999999994e-05: 100% 21/21 [00:21<00:00,  1.02s/it, 0 cls=-0.84646, 1 cls=-0.77819, 2 cls=-0.69615, bce=0.06988, dice=0.85636, loss=-0.78909]\n"
     ]
    },
    {
     "name": "stdout",
     "output_type": "stream",
     "text": [
      "loss: -0.83180 | bce: 0.03868 | dice: 0.86305 | 0 cls: -0.88159 | 1 cls: -0.83993 | 2 cls: -0.72145\n"
     ]
    },
    {
     "name": "stderr",
     "output_type": "stream",
     "text": [
      "Epoch 541, lr 2.3327999999999994e-05: 100% 21/21 [00:22<00:00,  1.07s/it, 0 cls=-0.85111, 1 cls=-0.78381, 2 cls=-0.70141, bce=0.06801, dice=0.85946, loss=-0.79425]\n"
     ]
    },
    {
     "name": "stdout",
     "output_type": "stream",
     "text": [
      "loss: -0.83099 | bce: 0.03940 | dice: 0.86286 | 0 cls: -0.88066 | 1 cls: -0.83965 | 2 cls: -0.72029\n"
     ]
    },
    {
     "name": "stderr",
     "output_type": "stream",
     "text": [
      "Epoch 542, lr 2.3327999999999994e-05: 100% 21/21 [00:14<00:00,  1.42it/s, 0 cls=-0.84773, 1 cls=-0.77868, 2 cls=-0.69576, bce=0.06982, dice=0.85684, loss=-0.78972]\n"
     ]
    },
    {
     "name": "stdout",
     "output_type": "stream",
     "text": [
      "loss: -0.83142 | bce: 0.03930 | dice: 0.86357 | 0 cls: -0.88150 | 1 cls: -0.83957 | 2 cls: -0.72142\n"
     ]
    },
    {
     "name": "stderr",
     "output_type": "stream",
     "text": [
      "Epoch 543, lr 2.3327999999999994e-05: 100% 21/21 [00:17<00:00,  1.19it/s, 0 cls=-0.84309, 1 cls=-0.77651, 2 cls=-0.69212, bce=0.06993, dice=0.85332, loss=-0.78627]\n"
     ]
    },
    {
     "name": "stdout",
     "output_type": "stream",
     "text": [
      "loss: -0.83119 | bce: 0.03903 | dice: 0.86276 | 0 cls: -0.88115 | 1 cls: -0.83962 | 2 cls: -0.72065\n"
     ]
    },
    {
     "name": "stderr",
     "output_type": "stream",
     "text": [
      "Epoch 544, lr 2.3327999999999994e-05: 100% 21/21 [00:14<00:00,  1.47it/s, 0 cls=-0.84785, 1 cls=-0.78025, 2 cls=-0.69631, bce=0.06897, dice=0.85660, loss=-0.79050]\n"
     ]
    },
    {
     "name": "stdout",
     "output_type": "stream",
     "text": [
      "loss: -0.83221 | bce: 0.03856 | dice: 0.86347 | 0 cls: -0.88200 | 1 cls: -0.84023 | 2 cls: -0.72222\n"
     ]
    },
    {
     "name": "stderr",
     "output_type": "stream",
     "text": [
      "Epoch 545, lr 2.3327999999999994e-05: 100% 21/21 [00:12<00:00,  1.65it/s, 0 cls=-0.84929, 1 cls=-0.77919, 2 cls=-0.69756, bce=0.06891, dice=0.85730, loss=-0.79091]\n"
     ]
    },
    {
     "name": "stdout",
     "output_type": "stream",
     "text": [
      "loss: -0.83290 | bce: 0.03874 | dice: 0.86451 | 0 cls: -0.88279 | 1 cls: -0.84050 | 2 cls: -0.72370\n"
     ]
    },
    {
     "name": "stderr",
     "output_type": "stream",
     "text": [
      "Epoch 546, lr 2.3327999999999994e-05: 100% 21/21 [00:11<00:00,  1.88it/s, 0 cls=-0.84714, 1 cls=-0.77946, 2 cls=-0.69651, bce=0.06914, dice=0.85635, loss=-0.78994]\n"
     ]
    },
    {
     "name": "stdout",
     "output_type": "stream",
     "text": [
      "loss: -0.83149 | bce: 0.03909 | dice: 0.86326 | 0 cls: -0.88139 | 1 cls: -0.83990 | 2 cls: -0.72088\n"
     ]
    },
    {
     "name": "stderr",
     "output_type": "stream",
     "text": [
      "Epoch 547, lr 2.3327999999999994e-05: 100% 21/21 [00:11<00:00,  1.89it/s, 0 cls=-0.85176, 1 cls=-0.78426, 2 cls=-0.70030, bce=0.06807, dice=0.85949, loss=-0.79447]\n"
     ]
    },
    {
     "name": "stdout",
     "output_type": "stream",
     "text": [
      "loss: -0.83205 | bce: 0.03887 | dice: 0.86360 | 0 cls: -0.88180 | 1 cls: -0.84045 | 2 cls: -0.72195\n"
     ]
    },
    {
     "name": "stderr",
     "output_type": "stream",
     "text": [
      "Epoch 548, lr 2.3327999999999994e-05: 100% 21/21 [00:11<00:00,  1.89it/s, 0 cls=-0.84299, 1 cls=-0.77667, 2 cls=-0.69411, bce=0.06995, dice=0.85399, loss=-0.78669]\n"
     ]
    },
    {
     "name": "stdout",
     "output_type": "stream",
     "text": [
      "loss: -0.83229 | bce: 0.03867 | dice: 0.86376 | 0 cls: -0.88259 | 1 cls: -0.83996 | 2 cls: -0.72297\n"
     ]
    },
    {
     "name": "stderr",
     "output_type": "stream",
     "text": [
      "Epoch 549, lr 2.3327999999999994e-05: 100% 21/21 [00:11<00:00,  1.77it/s, 0 cls=-0.84968, 1 cls=-0.77973, 2 cls=-0.69810, bce=0.06870, dice=0.85762, loss=-0.79139]\n"
     ]
    },
    {
     "name": "stdout",
     "output_type": "stream",
     "text": [
      "loss: -0.83161 | bce: 0.03869 | dice: 0.86293 | 0 cls: -0.88170 | 1 cls: -0.83961 | 2 cls: -0.72158\n"
     ]
    },
    {
     "name": "stderr",
     "output_type": "stream",
     "text": [
      "Epoch 550, lr 2.3327999999999994e-05: 100% 21/21 [00:11<00:00,  1.85it/s, 0 cls=-0.84777, 1 cls=-0.77987, 2 cls=-0.69767, bce=0.06886, dice=0.85676, loss=-0.79059]\n"
     ]
    },
    {
     "name": "stdout",
     "output_type": "stream",
     "text": [
      "loss: -0.83145 | bce: 0.03916 | dice: 0.86343 | 0 cls: -0.88132 | 1 cls: -0.84007 | 2 cls: -0.72113\n"
     ]
    },
    {
     "name": "stderr",
     "output_type": "stream",
     "text": [
      "Epoch 551, lr 2.3327999999999994e-05: 100% 21/21 [00:11<00:00,  1.81it/s, 0 cls=-0.84922, 1 cls=-0.78088, 2 cls=-0.69818, bce=0.06939, dice=0.85832, loss=-0.79168]\n"
     ]
    },
    {
     "name": "stdout",
     "output_type": "stream",
     "text": [
      "loss: -0.83188 | bce: 0.03826 | dice: 0.86295 | 0 cls: -0.88183 | 1 cls: -0.84019 | 2 cls: -0.72165\n"
     ]
    },
    {
     "name": "stderr",
     "output_type": "stream",
     "text": [
      "Epoch 552, lr 2.3327999999999994e-05: 100% 21/21 [00:11<00:00,  1.81it/s, 0 cls=-0.84918, 1 cls=-0.78223, 2 cls=-0.69848, bce=0.06810, dice=0.85747, loss=-0.79226]\n"
     ]
    },
    {
     "name": "stdout",
     "output_type": "stream",
     "text": [
      "loss: -0.83151 | bce: 0.03864 | dice: 0.86277 | 0 cls: -0.88116 | 1 cls: -0.84015 | 2 cls: -0.72105\n"
     ]
    },
    {
     "name": "stderr",
     "output_type": "stream",
     "text": [
      "Epoch 553, lr 2.3327999999999994e-05: 100% 21/21 [00:11<00:00,  1.79it/s, 0 cls=-0.85122, 1 cls=-0.78363, 2 cls=-0.70070, bce=0.06747, dice=0.85862, loss=-0.79408]\n"
     ]
    },
    {
     "name": "stdout",
     "output_type": "stream",
     "text": [
      "loss: -0.83175 | bce: 0.03882 | dice: 0.86307 | 0 cls: -0.88126 | 1 cls: -0.84047 | 2 cls: -0.72137\n"
     ]
    },
    {
     "name": "stderr",
     "output_type": "stream",
     "text": [
      "Epoch 554, lr 2.3327999999999994e-05: 100% 21/21 [00:11<00:00,  1.89it/s, 0 cls=-0.84877, 1 cls=-0.78410, 2 cls=-0.70106, bce=0.06823, dice=0.85857, loss=-0.79336]\n"
     ]
    },
    {
     "name": "stdout",
     "output_type": "stream",
     "text": [
      "loss: -0.83096 | bce: 0.03889 | dice: 0.86236 | 0 cls: -0.88063 | 1 cls: -0.83988 | 2 cls: -0.71969\n"
     ]
    },
    {
     "name": "stderr",
     "output_type": "stream",
     "text": [
      "Epoch 555, lr 2.3327999999999994e-05: 100% 21/21 [00:11<00:00,  1.81it/s, 0 cls=-0.84693, 1 cls=-0.77934, 2 cls=-0.69640, bce=0.06950, dice=0.85650, loss=-0.78979]\n"
     ]
    },
    {
     "name": "stdout",
     "output_type": "stream",
     "text": [
      "loss: -0.83069 | bce: 0.03932 | dice: 0.86254 | 0 cls: -0.88050 | 1 cls: -0.83958 | 2 cls: -0.71949\n"
     ]
    },
    {
     "name": "stderr",
     "output_type": "stream",
     "text": [
      "Epoch 556, lr 2.3327999999999994e-05: 100% 21/21 [00:11<00:00,  1.90it/s, 0 cls=-0.85387, 1 cls=-0.78405, 2 cls=-0.70300, bce=0.06689, dice=0.86008, loss=-0.79577]\n"
     ]
    },
    {
     "name": "stdout",
     "output_type": "stream",
     "text": [
      "loss: -0.83202 | bce: 0.03940 | dice: 0.86402 | 0 cls: -0.88221 | 1 cls: -0.83975 | 2 cls: -0.72236\n"
     ]
    },
    {
     "name": "stderr",
     "output_type": "stream",
     "text": [
      "Epoch 557, lr 2.3327999999999994e-05: 100% 21/21 [00:11<00:00,  1.89it/s, 0 cls=-0.85073, 1 cls=-0.78192, 2 cls=-0.69964, bce=0.06904, dice=0.85937, loss=-0.79299]\n"
     ]
    },
    {
     "name": "stdout",
     "output_type": "stream",
     "text": [
      "loss: -0.83163 | bce: 0.03882 | dice: 0.86298 | 0 cls: -0.88147 | 1 cls: -0.84003 | 2 cls: -0.72114\n"
     ]
    },
    {
     "name": "stderr",
     "output_type": "stream",
     "text": [
      "Epoch 558, lr 2.3327999999999994e-05: 100% 21/21 [00:11<00:00,  1.84it/s, 0 cls=-0.84282, 1 cls=-0.77636, 2 cls=-0.69158, bce=0.07085, dice=0.85397, loss=-0.78599]\n"
     ]
    },
    {
     "name": "stdout",
     "output_type": "stream",
     "text": [
      "loss: -0.83306 | bce: 0.03837 | dice: 0.86418 | 0 cls: -0.88238 | 1 cls: -0.84142 | 2 cls: -0.72365\n"
     ]
    },
    {
     "name": "stderr",
     "output_type": "stream",
     "text": [
      "Epoch 559, lr 2.3327999999999994e-05: 100% 21/21 [00:11<00:00,  1.89it/s, 0 cls=-0.84377, 1 cls=-0.77607, 2 cls=-0.69155, bce=0.07076, dice=0.85416, loss=-0.78625]\n"
     ]
    },
    {
     "name": "stdout",
     "output_type": "stream",
     "text": [
      "loss: -0.83126 | bce: 0.03887 | dice: 0.86296 | 0 cls: -0.88110 | 1 cls: -0.83987 | 2 cls: -0.72036\n"
     ]
    },
    {
     "name": "stderr",
     "output_type": "stream",
     "text": [
      "Epoch 560, lr 2.3327999999999994e-05: 100% 21/21 [00:11<00:00,  1.89it/s, 0 cls=-0.85115, 1 cls=-0.78389, 2 cls=-0.69983, bce=0.06782, dice=0.85869, loss=-0.79399]\n"
     ]
    },
    {
     "name": "stdout",
     "output_type": "stream",
     "text": [
      "loss: -0.83008 | bce: 0.03929 | dice: 0.86177 | 0 cls: -0.88002 | 1 cls: -0.83899 | 2 cls: -0.71820\n"
     ]
    },
    {
     "name": "stderr",
     "output_type": "stream",
     "text": [
      "Epoch 561, lr 2.3327999999999994e-05: 100% 21/21 [00:11<00:00,  1.88it/s, 0 cls=-0.84662, 1 cls=-0.77891, 2 cls=-0.69648, bce=0.07013, dice=0.85705, loss=-0.78951]\n"
     ]
    },
    {
     "name": "stdout",
     "output_type": "stream",
     "text": [
      "loss: -0.83187 | bce: 0.03909 | dice: 0.86345 | 0 cls: -0.88139 | 1 cls: -0.84058 | 2 cls: -0.72121\n"
     ]
    },
    {
     "name": "stderr",
     "output_type": "stream",
     "text": [
      "Epoch 562, lr 2.3327999999999994e-05: 100% 21/21 [00:11<00:00,  1.81it/s, 0 cls=-0.84821, 1 cls=-0.78191, 2 cls=-0.69915, bce=0.06900, dice=0.85807, loss=-0.79188]\n"
     ]
    },
    {
     "name": "stdout",
     "output_type": "stream",
     "text": [
      "loss: -0.83131 | bce: 0.03871 | dice: 0.86254 | 0 cls: -0.88071 | 1 cls: -0.84020 | 2 cls: -0.72070\n"
     ]
    },
    {
     "name": "stderr",
     "output_type": "stream",
     "text": [
      "Epoch 563, lr 2.3327999999999994e-05: 100% 21/21 [00:11<00:00,  1.90it/s, 0 cls=-0.84961, 1 cls=-0.78056, 2 cls=-0.69902, bce=0.06817, dice=0.85748, loss=-0.79188]\n"
     ]
    },
    {
     "name": "stdout",
     "output_type": "stream",
     "text": [
      "loss: -0.82981 | bce: 0.03971 | dice: 0.86185 | 0 cls: -0.87891 | 1 cls: -0.83997 | 2 cls: -0.71753\n"
     ]
    },
    {
     "name": "stderr",
     "output_type": "stream",
     "text": [
      "Epoch 564, lr 2.3327999999999994e-05: 100% 21/21 [00:11<00:00,  1.86it/s, 0 cls=-0.84838, 1 cls=-0.77924, 2 cls=-0.69659, bce=0.06947, dice=0.85722, loss=-0.79036]\n"
     ]
    },
    {
     "name": "stdout",
     "output_type": "stream",
     "text": [
      "loss: -0.83080 | bce: 0.03859 | dice: 0.86176 | 0 cls: -0.88052 | 1 cls: -0.83956 | 2 cls: -0.71943\n"
     ]
    },
    {
     "name": "stderr",
     "output_type": "stream",
     "text": [
      "Epoch 565, lr 2.3327999999999994e-05: 100% 21/21 [00:11<00:00,  1.84it/s, 0 cls=-0.85201, 1 cls=-0.78463, 2 cls=-0.70157, bce=0.06733, dice=0.85941, loss=-0.79497]\n"
     ]
    },
    {
     "name": "stdout",
     "output_type": "stream",
     "text": [
      "loss: -0.83173 | bce: 0.03860 | dice: 0.86309 | 0 cls: -0.88167 | 1 cls: -0.83996 | 2 cls: -0.72133\n"
     ]
    },
    {
     "name": "stderr",
     "output_type": "stream",
     "text": [
      "Epoch 566, lr 2.3327999999999994e-05: 100% 21/21 [00:11<00:00,  1.81it/s, 0 cls=-0.85220, 1 cls=-0.78353, 2 cls=-0.70276, bce=0.06741, dice=0.85971, loss=-0.79484]\n"
     ]
    },
    {
     "name": "stdout",
     "output_type": "stream",
     "text": [
      "loss: -0.83131 | bce: 0.03887 | dice: 0.86290 | 0 cls: -0.88119 | 1 cls: -0.84006 | 2 cls: -0.72072\n"
     ]
    },
    {
     "name": "stderr",
     "output_type": "stream",
     "text": [
      "Epoch 567, lr 2.3327999999999994e-05: 100% 21/21 [00:10<00:00,  1.91it/s, 0 cls=-0.85163, 1 cls=-0.78498, 2 cls=-0.70140, bce=0.06726, dice=0.85917, loss=-0.79493]\n"
     ]
    },
    {
     "name": "stdout",
     "output_type": "stream",
     "text": [
      "loss: -0.83217 | bce: 0.03867 | dice: 0.86356 | 0 cls: -0.88208 | 1 cls: -0.84032 | 2 cls: -0.72234\n"
     ]
    },
    {
     "name": "stderr",
     "output_type": "stream",
     "text": [
      "Epoch 568, lr 2.3327999999999994e-05: 100% 21/21 [00:10<00:00,  1.92it/s, 0 cls=-0.84844, 1 cls=-0.78141, 2 cls=-0.69741, bce=0.06892, dice=0.85736, loss=-0.79142]\n"
     ]
    },
    {
     "name": "stdout",
     "output_type": "stream",
     "text": [
      "loss: -0.83297 | bce: 0.03873 | dice: 0.86439 | 0 cls: -0.88260 | 1 cls: -0.84106 | 2 cls: -0.72372\n"
     ]
    },
    {
     "name": "stderr",
     "output_type": "stream",
     "text": [
      "Epoch 569, lr 2.3327999999999994e-05: 100% 21/21 [00:10<00:00,  1.92it/s, 0 cls=-0.84970, 1 cls=-0.78345, 2 cls=-0.69927, bce=0.06828, dice=0.85836, loss=-0.79311]\n"
     ]
    },
    {
     "name": "stdout",
     "output_type": "stream",
     "text": [
      "loss: -0.83319 | bce: 0.03860 | dice: 0.86451 | 0 cls: -0.88259 | 1 cls: -0.84134 | 2 cls: -0.72397\n"
     ]
    },
    {
     "name": "stderr",
     "output_type": "stream",
     "text": [
      "Epoch 570, lr 2.3327999999999994e-05: 100% 21/21 [00:11<00:00,  1.91it/s, 0 cls=-0.84278, 1 cls=-0.77553, 2 cls=-0.69256, bce=0.07096, dice=0.85417, loss=-0.78584]\n"
     ]
    },
    {
     "name": "stdout",
     "output_type": "stream",
     "text": [
      "loss: -0.83196 | bce: 0.03838 | dice: 0.86298 | 0 cls: -0.88163 | 1 cls: -0.84024 | 2 cls: -0.72195\n"
     ]
    },
    {
     "name": "stderr",
     "output_type": "stream",
     "text": [
      "Epoch 571, lr 2.3327999999999994e-05: 100% 21/21 [00:11<00:00,  1.89it/s, 0 cls=-0.85250, 1 cls=-0.78307, 2 cls=-0.70161, bce=0.06777, dice=0.85968, loss=-0.79455]\n"
     ]
    },
    {
     "name": "stdout",
     "output_type": "stream",
     "text": [
      "loss: -0.83290 | bce: 0.03909 | dice: 0.86478 | 0 cls: -0.88248 | 1 cls: -0.84087 | 2 cls: -0.72342\n"
     ]
    },
    {
     "name": "stderr",
     "output_type": "stream",
     "text": [
      "Epoch 572, lr 2.3327999999999994e-05: 100% 21/21 [00:11<00:00,  1.90it/s, 0 cls=-0.84500, 1 cls=-0.77688, 2 cls=-0.69323, bce=0.07042, dice=0.85512, loss=-0.78740]\n"
     ]
    },
    {
     "name": "stdout",
     "output_type": "stream",
     "text": [
      "loss: -0.83193 | bce: 0.03892 | dice: 0.86359 | 0 cls: -0.88150 | 1 cls: -0.84052 | 2 cls: -0.72152\n"
     ]
    },
    {
     "name": "stderr",
     "output_type": "stream",
     "text": [
      "Epoch 573, lr 2.3327999999999994e-05: 100% 21/21 [00:10<00:00,  1.91it/s, 0 cls=-0.85101, 1 cls=-0.78516, 2 cls=-0.70391, bce=0.06607, dice=0.85860, loss=-0.79525]\n"
     ]
    },
    {
     "name": "stdout",
     "output_type": "stream",
     "text": [
      "loss: -0.83062 | bce: 0.04030 | dice: 0.86379 | 0 cls: -0.88060 | 1 cls: -0.83923 | 2 cls: -0.72009\n"
     ]
    },
    {
     "name": "stderr",
     "output_type": "stream",
     "text": [
      "Epoch 574, lr 2.3327999999999994e-05: 100% 21/21 [00:11<00:00,  1.87it/s, 0 cls=-0.84765, 1 cls=-0.78020, 2 cls=-0.69779, bce=0.06941, dice=0.85742, loss=-0.79070]\n"
     ]
    },
    {
     "name": "stdout",
     "output_type": "stream",
     "text": [
      "loss: -0.83016 | bce: 0.03889 | dice: 0.86156 | 0 cls: -0.88010 | 1 cls: -0.83908 | 2 cls: -0.71846\n"
     ]
    },
    {
     "name": "stderr",
     "output_type": "stream",
     "text": [
      "Epoch 575, lr 2.3327999999999994e-05: 100% 21/21 [00:10<00:00,  1.92it/s, 0 cls=-0.84932, 1 cls=-0.78192, 2 cls=-0.69913, bce=0.06857, dice=0.85813, loss=-0.79232]\n"
     ]
    },
    {
     "name": "stdout",
     "output_type": "stream",
     "text": [
      "loss: -0.82964 | bce: 0.03981 | dice: 0.86193 | 0 cls: -0.87945 | 1 cls: -0.83892 | 2 cls: -0.71780\n"
     ]
    },
    {
     "name": "stderr",
     "output_type": "stream",
     "text": [
      "Epoch 576, lr 2.3327999999999994e-05: 100% 21/21 [00:11<00:00,  1.81it/s, 0 cls=-0.84740, 1 cls=-0.77808, 2 cls=-0.69640, bce=0.06965, dice=0.85663, loss=-0.78947]\n"
     ]
    },
    {
     "name": "stdout",
     "output_type": "stream",
     "text": [
      "loss: -0.82979 | bce: 0.03904 | dice: 0.86110 | 0 cls: -0.87950 | 1 cls: -0.83905 | 2 cls: -0.71781\n"
     ]
    },
    {
     "name": "stderr",
     "output_type": "stream",
     "text": [
      "Epoch 577, lr 2.3327999999999994e-05: 100% 21/21 [00:11<00:00,  1.79it/s, 0 cls=-0.85059, 1 cls=-0.78201, 2 cls=-0.69878, bce=0.06853, dice=0.85847, loss=-0.79280]\n"
     ]
    },
    {
     "name": "stdout",
     "output_type": "stream",
     "text": [
      "loss: -0.83019 | bce: 0.03943 | dice: 0.86230 | 0 cls: -0.87996 | 1 cls: -0.83953 | 2 cls: -0.71908\n"
     ]
    },
    {
     "name": "stderr",
     "output_type": "stream",
     "text": [
      "Epoch 578, lr 2.3327999999999994e-05: 100% 21/21 [00:11<00:00,  1.77it/s, 0 cls=-0.84810, 1 cls=-0.78206, 2 cls=-0.69927, bce=0.06863, dice=0.85767, loss=-0.79192]\n"
     ]
    },
    {
     "name": "stdout",
     "output_type": "stream",
     "text": [
      "loss: -0.83141 | bce: 0.03938 | dice: 0.86354 | 0 cls: -0.88125 | 1 cls: -0.84014 | 2 cls: -0.72073\n"
     ]
    },
    {
     "name": "stderr",
     "output_type": "stream",
     "text": [
      "Epoch 579, lr 2.3327999999999994e-05: 100% 21/21 [00:11<00:00,  1.81it/s, 0 cls=-0.84943, 1 cls=-0.78250, 2 cls=-0.70067, bce=0.06776, dice=0.85795, loss=-0.79291]\n"
     ]
    },
    {
     "name": "stdout",
     "output_type": "stream",
     "text": [
      "loss: -0.83073 | bce: 0.03920 | dice: 0.86251 | 0 cls: -0.88105 | 1 cls: -0.83887 | 2 cls: -0.71983\n"
     ]
    },
    {
     "name": "stderr",
     "output_type": "stream",
     "text": [
      "Epoch 580, lr 2.3327999999999994e-05: 100% 21/21 [00:11<00:00,  1.88it/s, 0 cls=-0.85151, 1 cls=-0.78389, 2 cls=-0.70037, bce=0.06835, dice=0.85963, loss=-0.79423]\n"
     ]
    },
    {
     "name": "stdout",
     "output_type": "stream",
     "text": [
      "loss: -0.83021 | bce: 0.03914 | dice: 0.86202 | 0 cls: -0.88040 | 1 cls: -0.83871 | 2 cls: -0.71889\n"
     ]
    },
    {
     "name": "stderr",
     "output_type": "stream",
     "text": [
      "Epoch 581, lr 2.3327999999999994e-05: 100% 21/21 [00:11<00:00,  1.87it/s, 0 cls=-0.84858, 1 cls=-0.77886, 2 cls=-0.69672, bce=0.06899, dice=0.85676, loss=-0.79032]\n"
     ]
    },
    {
     "name": "stdout",
     "output_type": "stream",
     "text": [
      "loss: -0.83061 | bce: 0.03844 | dice: 0.86161 | 0 cls: -0.88045 | 1 cls: -0.83939 | 2 cls: -0.71907\n"
     ]
    },
    {
     "name": "stderr",
     "output_type": "stream",
     "text": [
      "Epoch 582, lr 2.3327999999999994e-05: 100% 21/21 [00:10<00:00,  1.91it/s, 0 cls=-0.85010, 1 cls=-0.78123, 2 cls=-0.70021, bce=0.06890, dice=0.85900, loss=-0.79258]\n"
     ]
    },
    {
     "name": "stdout",
     "output_type": "stream",
     "text": [
      "loss: -0.83097 | bce: 0.03921 | dice: 0.86301 | 0 cls: -0.88140 | 1 cls: -0.83872 | 2 cls: -0.72026\n"
     ]
    },
    {
     "name": "stderr",
     "output_type": "stream",
     "text": [
      "Epoch 583, lr 2.3327999999999994e-05: 100% 21/21 [00:11<00:00,  1.77it/s, 0 cls=-0.84385, 1 cls=-0.77567, 2 cls=-0.69349, bce=0.06976, dice=0.85369, loss=-0.78651]\n"
     ]
    },
    {
     "name": "stdout",
     "output_type": "stream",
     "text": [
      "loss: -0.83136 | bce: 0.03879 | dice: 0.86292 | 0 cls: -0.88146 | 1 cls: -0.83947 | 2 cls: -0.72075\n"
     ]
    },
    {
     "name": "stderr",
     "output_type": "stream",
     "text": [
      "Epoch 584, lr 2.3327999999999994e-05: 100% 21/21 [00:10<00:00,  1.92it/s, 0 cls=-0.85020, 1 cls=-0.78275, 2 cls=-0.69963, bce=0.06841, dice=0.85871, loss=-0.79311]\n"
     ]
    },
    {
     "name": "stdout",
     "output_type": "stream",
     "text": [
      "loss: -0.83197 | bce: 0.03886 | dice: 0.86377 | 0 cls: -0.88220 | 1 cls: -0.83947 | 2 cls: -0.72246\n"
     ]
    },
    {
     "name": "stderr",
     "output_type": "stream",
     "text": [
      "Epoch 585, lr 2.3327999999999994e-05: 100% 21/21 [00:10<00:00,  1.92it/s, 0 cls=-0.85061, 1 cls=-0.78029, 2 cls=-0.70084, bce=0.06743, dice=0.85774, loss=-0.79253]\n"
     ]
    },
    {
     "name": "stdout",
     "output_type": "stream",
     "text": [
      "loss: -0.83136 | bce: 0.03905 | dice: 0.86319 | 0 cls: -0.88165 | 1 cls: -0.83892 | 2 cls: -0.72105\n"
     ]
    },
    {
     "name": "stderr",
     "output_type": "stream",
     "text": [
      "Epoch 586, lr 2.3327999999999994e-05: 100% 21/21 [00:11<00:00,  1.81it/s, 0 cls=-0.84651, 1 cls=-0.77993, 2 cls=-0.69527, bce=0.06979, dice=0.85644, loss=-0.78963]\n"
     ]
    },
    {
     "name": "stdout",
     "output_type": "stream",
     "text": [
      "loss: -0.83225 | bce: 0.03907 | dice: 0.86422 | 0 cls: -0.88210 | 1 cls: -0.84018 | 2 cls: -0.72241\n"
     ]
    },
    {
     "name": "stderr",
     "output_type": "stream",
     "text": [
      "Epoch 587, lr 2.3327999999999994e-05: 100% 21/21 [00:11<00:00,  1.88it/s, 0 cls=-0.85210, 1 cls=-0.78195, 2 cls=-0.70081, bce=0.06830, dice=0.85960, loss=-0.79378]\n"
     ]
    },
    {
     "name": "stdout",
     "output_type": "stream",
     "text": [
      "loss: -0.83056 | bce: 0.03855 | dice: 0.86148 | 0 cls: -0.88005 | 1 cls: -0.83958 | 2 cls: -0.71885\n"
     ]
    },
    {
     "name": "stderr",
     "output_type": "stream",
     "text": [
      "Epoch 588, lr 2.3327999999999994e-05: 100% 21/21 [00:10<00:00,  1.91it/s, 0 cls=-0.84855, 1 cls=-0.77907, 2 cls=-0.69711, bce=0.06874, dice=0.85667, loss=-0.79047]\n"
     ]
    },
    {
     "name": "stdout",
     "output_type": "stream",
     "text": [
      "loss: -0.83120 | bce: 0.03889 | dice: 0.86283 | 0 cls: -0.88097 | 1 cls: -0.83988 | 2 cls: -0.72014\n"
     ]
    },
    {
     "name": "stderr",
     "output_type": "stream",
     "text": [
      "Epoch 589, lr 2.3327999999999994e-05: 100% 21/21 [00:10<00:00,  1.92it/s, 0 cls=-0.84492, 1 cls=-0.77597, 2 cls=-0.69366, bce=0.07013, dice=0.85470, loss=-0.78709]\n"
     ]
    },
    {
     "name": "stdout",
     "output_type": "stream",
     "text": [
      "loss: -0.83233 | bce: 0.03862 | dice: 0.86373 | 0 cls: -0.88207 | 1 cls: -0.84049 | 2 cls: -0.72261\n"
     ]
    },
    {
     "name": "stderr",
     "output_type": "stream",
     "text": [
      "Epoch 590, lr 0.0003276800000000001: 100% 21/21 [00:11<00:00,  1.79it/s, 0 cls=-0.84459, 1 cls=-0.77407, 2 cls=-0.68704, bce=0.07123, dice=0.85304, loss=-0.78487]\n"
     ]
    },
    {
     "name": "stdout",
     "output_type": "stream",
     "text": [
      "loss: -0.83048 | bce: 0.03773 | dice: 0.86064 | 0 cls: -0.87958 | 1 cls: -0.83992 | 2 cls: -0.72034\n"
     ]
    },
    {
     "name": "stderr",
     "output_type": "stream",
     "text": [
      "Epoch 591, lr 0.0003276800000000001: 100% 21/21 [00:11<00:00,  1.88it/s, 0 cls=-0.82924, 1 cls=-0.76016, 2 cls=-0.66842, bce=0.07580, dice=0.84193, loss=-0.76944]\n"
     ]
    },
    {
     "name": "stdout",
     "output_type": "stream",
     "text": [
      "loss: -0.82895 | bce: 0.04128 | dice: 0.86432 | 0 cls: -0.88403 | 1 cls: -0.83014 | 2 cls: -0.72384\n"
     ]
    },
    {
     "name": "stderr",
     "output_type": "stream",
     "text": [
      "Epoch 592, lr 9.830400000000003e-05: 100% 21/21 [00:14<00:00,  1.49it/s, 0 cls=-0.84030, 1 cls=-0.77289, 2 cls=-0.68566, bce=0.07174, dice=0.85081, loss=-0.78241]\n"
     ]
    },
    {
     "name": "stdout",
     "output_type": "stream",
     "text": [
      "loss: -0.82796 | bce: 0.03852 | dice: 0.85889 | 0 cls: -0.87812 | 1 cls: -0.83768 | 2 cls: -0.71596\n"
     ]
    },
    {
     "name": "stderr",
     "output_type": "stream",
     "text": [
      "Epoch 593, lr 9.830400000000003e-05: 100% 21/21 [00:15<00:00,  1.39it/s, 0 cls=-0.84157, 1 cls=-0.77432, 2 cls=-0.68705, bce=0.07114, dice=0.85177, loss=-0.78377]\n"
     ]
    },
    {
     "name": "stdout",
     "output_type": "stream",
     "text": [
      "loss: -0.82980 | bce: 0.03832 | dice: 0.86084 | 0 cls: -0.87969 | 1 cls: -0.83854 | 2 cls: -0.71853\n"
     ]
    },
    {
     "name": "stderr",
     "output_type": "stream",
     "text": [
      "Epoch 594, lr 2.949120000000001e-05: 100% 21/21 [00:11<00:00,  1.87it/s, 0 cls=-0.84254, 1 cls=-0.77505, 2 cls=-0.69069, bce=0.07020, dice=0.85255, loss=-0.78517]\n"
     ]
    },
    {
     "name": "stdout",
     "output_type": "stream",
     "text": [
      "loss: -0.83263 | bce: 0.03964 | dice: 0.86541 | 0 cls: -0.88279 | 1 cls: -0.83994 | 2 cls: -0.72420\n"
     ]
    },
    {
     "name": "stderr",
     "output_type": "stream",
     "text": [
      "Epoch 595, lr 0.0003276800000000001: 100% 21/21 [00:11<00:00,  1.79it/s, 0 cls=-0.83301, 1 cls=-0.76912, 2 cls=-0.68043, bce=0.07306, dice=0.84669, loss=-0.77694]\n"
     ]
    },
    {
     "name": "stdout",
     "output_type": "stream",
     "text": [
      "loss: -0.81985 | bce: 0.05009 | dice: 0.86268 | 0 cls: -0.88100 | 1 cls: -0.81964 | 2 cls: -0.70460\n"
     ]
    },
    {
     "name": "stderr",
     "output_type": "stream",
     "text": [
      "Epoch 596, lr 0.0003276800000000001: 100% 21/21 [00:10<00:00,  1.92it/s, 0 cls=-0.84150, 1 cls=-0.77380, 2 cls=-0.68549, bce=0.07274, dice=0.85259, loss=-0.78322]\n"
     ]
    },
    {
     "name": "stdout",
     "output_type": "stream",
     "text": [
      "loss: -0.82680 | bce: 0.04065 | dice: 0.86055 | 0 cls: -0.87899 | 1 cls: -0.83336 | 2 cls: -0.71423\n"
     ]
    },
    {
     "name": "stderr",
     "output_type": "stream",
     "text": [
      "Epoch 597, lr 9.830400000000003e-05: 100% 21/21 [00:10<00:00,  1.93it/s, 0 cls=-0.84301, 1 cls=-0.77560, 2 cls=-0.68860, bce=0.07114, dice=0.85322, loss=-0.78516]\n"
     ]
    },
    {
     "name": "stdout",
     "output_type": "stream",
     "text": [
      "loss: -0.83187 | bce: 0.03921 | dice: 0.86335 | 0 cls: -0.88026 | 1 cls: -0.84074 | 2 cls: -0.72333\n"
     ]
    },
    {
     "name": "stderr",
     "output_type": "stream",
     "text": [
      "Epoch 598, lr 9.830400000000003e-05: 100% 21/21 [00:11<00:00,  1.90it/s, 0 cls=-0.84080, 1 cls=-0.77536, 2 cls=-0.68969, bce=0.07100, dice=0.85221, loss=-0.78441]\n"
     ]
    },
    {
     "name": "stdout",
     "output_type": "stream",
     "text": [
      "loss: -0.82965 | bce: 0.03967 | dice: 0.86215 | 0 cls: -0.87954 | 1 cls: -0.83818 | 2 cls: -0.71889\n"
     ]
    },
    {
     "name": "stderr",
     "output_type": "stream",
     "text": [
      "Epoch 599, lr 2.949120000000001e-05: 100% 21/21 [00:10<00:00,  1.92it/s, 0 cls=-0.84449, 1 cls=-0.77835, 2 cls=-0.69282, bce=0.07048, dice=0.85508, loss=-0.78770]\n"
     ]
    },
    {
     "name": "stdout",
     "output_type": "stream",
     "text": [
      "loss: -0.83033 | bce: 0.03971 | dice: 0.86247 | 0 cls: -0.87907 | 1 cls: -0.84006 | 2 cls: -0.71925\n",
      "Finished: best loss -0.83689 on epoch 303\n"
     ]
    }
   ],
   "source": [
    "train_args = {\n",
    "    'model_name': 'TernausNet34_with_scale_05_epoch_600_not_logarithm',\n",
    "    'network': 'TernausNet34',\n",
    "    'nb_epoch': 600,\n",
    "    'loss': 'BCEDiceLossMultiWithoutLog',\n",
    "    'lr_args': {\n",
    "        'adjust_init_lr': 0.0003,\n",
    "        'adjust_lr_decay_factor': 0.6,\n",
    "        'cycle_epochs_decay': 2,\n",
    "        'cycle_init_lr': 0.001,\n",
    "        'cycle_lr_decay_factor': 0.3,\n",
    "        'global_cycle_lr_decay_factor': 0.8,\n",
    "        'global_num_epochs_per_cycle': 100,\n",
    "        'num_epochs_per_cycle': 5,\n",
    "        'num_epochs_per_decay': 100\n",
    "    }, \n",
    "    'model_dir': 'models', \n",
    "    'log_dir': 'logs', \n",
    "    'network_args': {\n",
    "        'num_classes': 3, \n",
    "        'num_filters': 32, \n",
    "        'pretrained': True\n",
    "    }, \n",
    "    'loss_args': {\n",
    "        'weights': [0.4, 0.4, 0.2],\n",
    "        'num_classes': 3\n",
    "    },       \n",
    "    'optimizer': 'Adam'\n",
    "}\n",
    "\n",
    "train(\n",
    "    train_args, train_ids + val_ids, val_ids[:1], \n",
    "    \"../output_data/with_scale_05/scaled_images/{}.png\", \"../output_data/with_scale_05/scaled_masks/{}.png\", \n",
    "    32, 1, train_transforms, val_transforms, period=64\n",
    ")"
   ]
  }
 ],
 "metadata": {
  "kernelspec": {
   "display_name": "Environment (conda_pytorch_p36)",
   "language": "python",
   "name": "conda_pytorch_p36"
  },
  "language_info": {
   "codemirror_mode": {
    "name": "ipython",
    "version": 3
   },
   "file_extension": ".py",
   "mimetype": "text/x-python",
   "name": "python",
   "nbconvert_exporter": "python",
   "pygments_lexer": "ipython3",
   "version": "3.6.4"
  }
 },
 "nbformat": 4,
 "nbformat_minor": 2
}
