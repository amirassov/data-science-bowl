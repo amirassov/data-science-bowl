{
 "cells": [
  {
   "cell_type": "code",
   "execution_count": 1,
   "metadata": {},
   "outputs": [
    {
     "data": {
      "text/html": [
       "<style>.container { width:95% !important; }</style>"
      ],
      "text/plain": [
       "<IPython.core.display.HTML object>"
      ]
     },
     "metadata": {},
     "output_type": "display_data"
    }
   ],
   "source": [
    "from IPython.core.display import display, HTML\n",
    "display(HTML(\"<style>.container { width:95% !important; }</style>\"))"
   ]
  },
  {
   "cell_type": "code",
   "execution_count": 2,
   "metadata": {},
   "outputs": [],
   "source": [
    "import warnings\n",
    "warnings.simplefilter(\"ignore\", UserWarning)\n",
    "warnings.simplefilter(\"ignore\", FutureWarning)\n",
    "warnings.simplefilter(\"ignore\", RuntimeWarning)\n",
    "\n",
    "import sys\n",
    "sys.path.append('../../dstorch/')\n",
    "\n",
    "import matplotlib.pyplot as plt\n",
    "%matplotlib inline\n",
    "%reload_ext autoreload\n",
    "%autoreload 2"
   ]
  },
  {
   "cell_type": "code",
   "execution_count": 3,
   "metadata": {},
   "outputs": [],
   "source": [
    "import os\n",
    "import pandas as pd\n",
    "from dstorch import transforms\n",
    "from dstorch.train import train\n",
    "import torch.backends.cudnn as cudnn"
   ]
  },
  {
   "cell_type": "code",
   "execution_count": 4,
   "metadata": {},
   "outputs": [],
   "source": [
    "ids = list([x.split('.')[0] for x in list(next(os.walk(\"../output_data/with_scale_05_03_only_centers/images/\"))[2])])\n",
    "classes = pd.read_csv(\"../data/classes.csv\")\n",
    "val_ids = list(classes.loc[classes['type'] == 'val', 'id'])\n",
    "train_ids = list(set(ids) - set(val_ids))"
   ]
  },
  {
   "cell_type": "code",
   "execution_count": 5,
   "metadata": {},
   "outputs": [],
   "source": [
    "train_transforms = transforms.DualCompose(\n",
    "    [\n",
    "        transforms.RandomCrop((256, 256)),\n",
    "        transforms.VerticalFlip(),\n",
    "        transforms.HorizontalFlip(),\n",
    "        transforms.Transpose(),\n",
    "        transforms.ShiftScaleRotate(scale_limit=0.4, shift_limit=0.2),\n",
    "        transforms.ImageOnly(transforms.RandomBrightness(0.6)),\n",
    "        transforms.ImageOnly(transforms.RandomContrast(0.6)),\n",
    "        transforms.ImageOnly(transforms.RandomSaturation(0.6)),\n",
    "        transforms.ImageOnly(transforms.Normalize(\n",
    "            mean=[0.485, 0.456, 0.406],\n",
    "            std=[0.229, 0.224, 0.225]\n",
    "        ))\n",
    "    ]\n",
    ")\n",
    "\n",
    "val_transforms = transforms.DualCompose(\n",
    "    [\n",
    "        transforms.ImageOnly(transforms.Normalize(\n",
    "            mean=[0.485, 0.456, 0.406],\n",
    "            std=[0.229, 0.224, 0.225]\n",
    "        ))\n",
    "    ]\n",
    ")"
   ]
  },
  {
   "cell_type": "code",
   "execution_count": 6,
   "metadata": {},
   "outputs": [],
   "source": [
    "cudnn.benchmark = True"
   ]
  },
  {
   "cell_type": "code",
   "execution_count": 7,
   "metadata": {},
   "outputs": [
    {
     "name": "stderr",
     "output_type": "stream",
     "text": [
      "Epoch 0, lr 0.0004: 100% 43/43 [00:15<00:00,  2.73it/s, 0 cls=1.10675, 1 cls=1.57050, 2 cls=1.29073, bce=0.37043, dice=0.47588, loss=1.32905]\n"
     ]
    },
    {
     "name": "stdout",
     "output_type": "stream",
     "text": [
      "loss: 0.30401 | bce: 0.06281 | dice: 0.80112 | 0 cls: 0.29618 | 1 cls: 0.31284 | 2 cls: 0.26261\n"
     ]
    },
    {
     "name": "stderr",
     "output_type": "stream",
     "text": [
      "Epoch 1, lr 0.0004: 100% 43/43 [00:12<00:00,  3.53it/s, 0 cls=0.45911, 1 cls=0.59827, 2 cls=0.48507, bce=0.14953, dice=0.71721, loss=0.51997]\n"
     ]
    },
    {
     "name": "stdout",
     "output_type": "stream",
     "text": [
      "loss: 0.40715 | bce: 0.07922 | dice: 0.77849 | 0 cls: 0.27270 | 1 cls: 0.58145 | 2 cls: 0.30516\n"
     ]
    },
    {
     "name": "stderr",
     "output_type": "stream",
     "text": [
      "Epoch 2, lr 0.0004: 100% 43/43 [00:12<00:00,  3.53it/s, 0 cls=0.40193, 1 cls=0.52128, 2 cls=0.42672, bce=0.13621, dice=0.75360, loss=0.45463]\n"
     ]
    },
    {
     "name": "stdout",
     "output_type": "stream",
     "text": [
      "loss: 0.25704 | bce: 0.05320 | dice: 0.83207 | 0 cls: 0.21717 | 1 cls: 0.29275 | 2 cls: 0.24265\n"
     ]
    },
    {
     "name": "stderr",
     "output_type": "stream",
     "text": [
      "Epoch 3, lr 0.0004: 100% 43/43 [00:12<00:00,  3.52it/s, 0 cls=0.35228, 1 cls=0.46003, 2 cls=0.38537, bce=0.11511, dice=0.77402, loss=0.40200]\n"
     ]
    },
    {
     "name": "stdout",
     "output_type": "stream",
     "text": [
      "loss: 0.22760 | bce: 0.04530 | dice: 0.84910 | 0 cls: 0.18707 | 1 cls: 0.26246 | 2 cls: 0.21520\n"
     ]
    },
    {
     "name": "stderr",
     "output_type": "stream",
     "text": [
      "Epoch 4, lr 0.0004: 100% 43/43 [00:12<00:00,  3.49it/s, 0 cls=0.31878, 1 cls=0.42795, 2 cls=0.35327, bce=0.10651, dice=0.79117, loss=0.36934]\n"
     ]
    },
    {
     "name": "stdout",
     "output_type": "stream",
     "text": [
      "loss: 0.24102 | bce: 0.05394 | dice: 0.85325 | 0 cls: 0.17001 | 1 cls: 0.30505 | 2 cls: 0.22923\n"
     ]
    },
    {
     "name": "stderr",
     "output_type": "stream",
     "text": [
      "Epoch 5, lr 0.0004: 100% 43/43 [00:12<00:00,  3.50it/s, 0 cls=0.29713, 1 cls=0.42438, 2 cls=0.34382, bce=0.10104, dice=0.79796, loss=0.35737]\n"
     ]
    },
    {
     "name": "stdout",
     "output_type": "stream",
     "text": [
      "loss: 0.21680 | bce: 0.04579 | dice: 0.86134 | 0 cls: 0.16327 | 1 cls: 0.26357 | 2 cls: 0.20882\n"
     ]
    },
    {
     "name": "stderr",
     "output_type": "stream",
     "text": [
      "Epoch 6, lr 0.0004: 100% 43/43 [00:12<00:00,  3.51it/s, 0 cls=0.30064, 1 cls=0.39472, 2 cls=0.33417, bce=0.10050, dice=0.80338, loss=0.34498]\n"
     ]
    },
    {
     "name": "stdout",
     "output_type": "stream",
     "text": [
      "loss: 0.19736 | bce: 0.04270 | dice: 0.87639 | 0 cls: 0.14650 | 1 cls: 0.24514 | 2 cls: 0.17990\n"
     ]
    },
    {
     "name": "stderr",
     "output_type": "stream",
     "text": [
      "Epoch 7, lr 0.0004: 100% 43/43 [00:12<00:00,  3.51it/s, 0 cls=0.27109, 1 cls=0.37255, 2 cls=0.30620, bce=0.09296, dice=0.81891, loss=0.31870]\n"
     ]
    },
    {
     "name": "stdout",
     "output_type": "stream",
     "text": [
      "loss: 0.18871 | bce: 0.03712 | dice: 0.87332 | 0 cls: 0.15334 | 1 cls: 0.21924 | 2 cls: 0.17635\n"
     ]
    },
    {
     "name": "stderr",
     "output_type": "stream",
     "text": [
      "Epoch 8, lr 0.0004: 100% 43/43 [00:12<00:00,  3.49it/s, 0 cls=0.27353, 1 cls=0.37933, 2 cls=0.31055, bce=0.09393, dice=0.81596, loss=0.32325]\n"
     ]
    },
    {
     "name": "stdout",
     "output_type": "stream",
     "text": [
      "loss: 0.18823 | bce: 0.03840 | dice: 0.87423 | 0 cls: 0.15627 | 1 cls: 0.21948 | 2 cls: 0.17186\n"
     ]
    },
    {
     "name": "stderr",
     "output_type": "stream",
     "text": [
      "Epoch 9, lr 0.0004: 100% 43/43 [00:12<00:00,  3.49it/s, 0 cls=0.27947, 1 cls=0.36961, 2 cls=0.31209, bce=0.09489, dice=0.81581, loss=0.32205]\n"
     ]
    },
    {
     "name": "stdout",
     "output_type": "stream",
     "text": [
      "loss: 0.18518 | bce: 0.03675 | dice: 0.87709 | 0 cls: 0.14424 | 1 cls: 0.22180 | 2 cls: 0.17481\n"
     ]
    },
    {
     "name": "stderr",
     "output_type": "stream",
     "text": [
      "Epoch 10, lr 0.0004: 100% 43/43 [00:12<00:00,  3.50it/s, 0 cls=0.25975, 1 cls=0.35618, 2 cls=0.29606, bce=0.09039, dice=0.82583, loss=0.30558]\n"
     ]
    },
    {
     "name": "stdout",
     "output_type": "stream",
     "text": [
      "loss: 0.19033 | bce: 0.03909 | dice: 0.86950 | 0 cls: 0.18575 | 1 cls: 0.19845 | 2 cls: 0.16512\n"
     ]
    },
    {
     "name": "stderr",
     "output_type": "stream",
     "text": [
      "Epoch 11, lr 0.0004: 100% 43/43 [00:12<00:00,  3.46it/s, 0 cls=0.24340, 1 cls=0.34341, 2 cls=0.28309, bce=0.08468, dice=0.83268, loss=0.29134]\n"
     ]
    },
    {
     "name": "stdout",
     "output_type": "stream",
     "text": [
      "loss: 0.17346 | bce: 0.03659 | dice: 0.88300 | 0 cls: 0.15467 | 1 cls: 0.19070 | 2 cls: 0.15828\n"
     ]
    },
    {
     "name": "stderr",
     "output_type": "stream",
     "text": [
      "Epoch 12, lr 0.0004: 100% 43/43 [00:12<00:00,  3.44it/s, 0 cls=0.25108, 1 cls=0.33617, 2 cls=0.28374, bce=0.08554, dice=0.83158, loss=0.29165]\n"
     ]
    },
    {
     "name": "stdout",
     "output_type": "stream",
     "text": [
      "loss: 0.16208 | bce: 0.03171 | dice: 0.88914 | 0 cls: 0.13401 | 1 cls: 0.18620 | 2 cls: 0.15196\n"
     ]
    },
    {
     "name": "stderr",
     "output_type": "stream",
     "text": [
      "Epoch 13, lr 0.0004: 100% 43/43 [00:12<00:00,  3.45it/s, 0 cls=0.24437, 1 cls=0.32950, 2 cls=0.27429, bce=0.08521, dice=0.83737, loss=0.28440]\n"
     ]
    },
    {
     "name": "stdout",
     "output_type": "stream",
     "text": [
      "loss: 0.17798 | bce: 0.03985 | dice: 0.88361 | 0 cls: 0.14434 | 1 cls: 0.21224 | 2 cls: 0.16343\n"
     ]
    },
    {
     "name": "stderr",
     "output_type": "stream",
     "text": [
      "Epoch 14, lr 0.0004: 100% 43/43 [00:12<00:00,  3.44it/s, 0 cls=0.25435, 1 cls=0.34600, 2 cls=0.28662, bce=0.08616, dice=0.82849, loss=0.29746]\n"
     ]
    },
    {
     "name": "stdout",
     "output_type": "stream",
     "text": [
      "loss: 0.15946 | bce: 0.03395 | dice: 0.89366 | 0 cls: 0.12961 | 1 cls: 0.18770 | 2 cls: 0.14833\n"
     ]
    },
    {
     "name": "stderr",
     "output_type": "stream",
     "text": [
      "Epoch 15, lr 0.0004: 100% 43/43 [00:12<00:00,  3.44it/s, 0 cls=0.23576, 1 cls=0.32716, 2 cls=0.27268, bce=0.08151, dice=0.83808, loss=0.27971]\n"
     ]
    },
    {
     "name": "stdout",
     "output_type": "stream",
     "text": [
      "loss: 0.17637 | bce: 0.04006 | dice: 0.88484 | 0 cls: 0.14578 | 1 cls: 0.20434 | 2 cls: 0.16693\n"
     ]
    },
    {
     "name": "stderr",
     "output_type": "stream",
     "text": [
      "Epoch 16, lr 0.0004: 100% 43/43 [00:12<00:00,  3.45it/s, 0 cls=0.24207, 1 cls=0.32418, 2 cls=0.27320, bce=0.08336, dice=0.83770, loss=0.28114]\n"
     ]
    },
    {
     "name": "stdout",
     "output_type": "stream",
     "text": [
      "loss: 0.16378 | bce: 0.03276 | dice: 0.89011 | 0 cls: 0.12957 | 1 cls: 0.19577 | 2 cls: 0.15428\n"
     ]
    },
    {
     "name": "stderr",
     "output_type": "stream",
     "text": [
      "Epoch 17, lr 0.0004: 100% 43/43 [00:12<00:00,  3.45it/s, 0 cls=0.23281, 1 cls=0.32491, 2 cls=0.27047, bce=0.08039, dice=0.83918, loss=0.27718]\n"
     ]
    },
    {
     "name": "stdout",
     "output_type": "stream",
     "text": [
      "loss: 0.15795 | bce: 0.03111 | dice: 0.89291 | 0 cls: 0.12853 | 1 cls: 0.18564 | 2 cls: 0.14517\n"
     ]
    },
    {
     "name": "stderr",
     "output_type": "stream",
     "text": [
      "Epoch 18, lr 0.0004: 100% 43/43 [00:12<00:00,  3.43it/s, 0 cls=0.23557, 1 cls=0.32039, 2 cls=0.26913, bce=0.08186, dice=0.84054, loss=0.27621]\n"
     ]
    },
    {
     "name": "stdout",
     "output_type": "stream",
     "text": [
      "loss: 0.16072 | bce: 0.03406 | dice: 0.89267 | 0 cls: 0.13417 | 1 cls: 0.18569 | 2 cls: 0.14871\n"
     ]
    },
    {
     "name": "stderr",
     "output_type": "stream",
     "text": [
      "Epoch 19, lr 0.0004: 100% 43/43 [00:12<00:00,  3.43it/s, 0 cls=0.22839, 1 cls=0.31318, 2 cls=0.26187, bce=0.07843, dice=0.84344, loss=0.26901]\n"
     ]
    },
    {
     "name": "stdout",
     "output_type": "stream",
     "text": [
      "loss: 0.16711 | bce: 0.03416 | dice: 0.88907 | 0 cls: 0.12861 | 1 cls: 0.20166 | 2 cls: 0.16002\n"
     ]
    },
    {
     "name": "stderr",
     "output_type": "stream",
     "text": [
      "Epoch 20, lr 0.0004: 100% 43/43 [00:12<00:00,  3.44it/s, 0 cls=0.24148, 1 cls=0.32679, 2 cls=0.27536, bce=0.08366, dice=0.83705, loss=0.28238]\n"
     ]
    },
    {
     "name": "stdout",
     "output_type": "stream",
     "text": [
      "loss: 0.17126 | bce: 0.03395 | dice: 0.88377 | 0 cls: 0.14542 | 1 cls: 0.19703 | 2 cls: 0.15675\n"
     ]
    },
    {
     "name": "stderr",
     "output_type": "stream",
     "text": [
      "Epoch 21, lr 0.0004: 100% 43/43 [00:12<00:00,  3.44it/s, 0 cls=0.23645, 1 cls=0.31863, 2 cls=0.26705, bce=0.08159, dice=0.84097, loss=0.27544]\n"
     ]
    },
    {
     "name": "stdout",
     "output_type": "stream",
     "text": [
      "loss: 0.15694 | bce: 0.03478 | dice: 0.89649 | 0 cls: 0.12742 | 1 cls: 0.18438 | 2 cls: 0.14726\n"
     ]
    },
    {
     "name": "stderr",
     "output_type": "stream",
     "text": [
      "Epoch 22, lr 0.0004: 100% 43/43 [00:12<00:00,  3.44it/s, 0 cls=0.23109, 1 cls=0.31046, 2 cls=0.26166, bce=0.07889, dice=0.84355, loss=0.26895]\n"
     ]
    },
    {
     "name": "stdout",
     "output_type": "stream",
     "text": [
      "loss: 0.15642 | bce: 0.03207 | dice: 0.89401 | 0 cls: 0.12832 | 1 cls: 0.18287 | 2 cls: 0.14734\n"
     ]
    },
    {
     "name": "stderr",
     "output_type": "stream",
     "text": [
      "Epoch 23, lr 0.0004: 100% 43/43 [00:12<00:00,  3.44it/s, 0 cls=0.23306, 1 cls=0.31915, 2 cls=0.26835, bce=0.08038, dice=0.84078, loss=0.27455]\n"
     ]
    },
    {
     "name": "stdout",
     "output_type": "stream",
     "text": [
      "loss: 0.15858 | bce: 0.03319 | dice: 0.89305 | 0 cls: 0.13408 | 1 cls: 0.18382 | 2 cls: 0.14468\n"
     ]
    },
    {
     "name": "stderr",
     "output_type": "stream",
     "text": [
      "Epoch 24, lr 0.0004: 100% 43/43 [00:12<00:00,  3.42it/s, 0 cls=0.21795, 1 cls=0.30273, 2 cls=0.25249, bce=0.07551, dice=0.84923, loss=0.25877]\n"
     ]
    },
    {
     "name": "stdout",
     "output_type": "stream",
     "text": [
      "loss: 0.15728 | bce: 0.03343 | dice: 0.89478 | 0 cls: 0.12844 | 1 cls: 0.18785 | 2 cls: 0.14420\n"
     ]
    },
    {
     "name": "stderr",
     "output_type": "stream",
     "text": [
      "Epoch 25, lr 0.0004: 100% 43/43 [00:12<00:00,  3.43it/s, 0 cls=0.22305, 1 cls=0.30431, 2 cls=0.25632, bce=0.07790, dice=0.84802, loss=0.26221]\n"
     ]
    },
    {
     "name": "stdout",
     "output_type": "stream",
     "text": [
      "loss: 0.15634 | bce: 0.03149 | dice: 0.89523 | 0 cls: 0.12417 | 1 cls: 0.18749 | 2 cls: 0.14588\n"
     ]
    },
    {
     "name": "stderr",
     "output_type": "stream",
     "text": [
      "Epoch 26, lr 0.0004: 100% 43/43 [00:12<00:00,  3.43it/s, 0 cls=0.24142, 1 cls=0.31229, 2 cls=0.26740, bce=0.08433, dice=0.84270, loss=0.27496]\n"
     ]
    },
    {
     "name": "stdout",
     "output_type": "stream",
     "text": [
      "loss: 0.16387 | bce: 0.03383 | dice: 0.88954 | 0 cls: 0.13458 | 1 cls: 0.19187 | 2 cls: 0.15206\n"
     ]
    },
    {
     "name": "stderr",
     "output_type": "stream",
     "text": [
      "Epoch 27, lr 0.0004: 100% 43/43 [00:12<00:00,  3.44it/s, 0 cls=0.22387, 1 cls=0.30159, 2 cls=0.25410, bce=0.07653, dice=0.84757, loss=0.26100]\n"
     ]
    },
    {
     "name": "stdout",
     "output_type": "stream",
     "text": [
      "loss: 0.16137 | bce: 0.03529 | dice: 0.89314 | 0 cls: 0.13968 | 1 cls: 0.18612 | 2 cls: 0.14364\n"
     ]
    },
    {
     "name": "stderr",
     "output_type": "stream",
     "text": [
      "Epoch 28, lr 0.0004: 100% 43/43 [00:12<00:00,  3.43it/s, 0 cls=0.21693, 1 cls=0.30250, 2 cls=0.25363, bce=0.07643, dice=0.85016, loss=0.25850]\n"
     ]
    },
    {
     "name": "stdout",
     "output_type": "stream",
     "text": [
      "loss: 0.15294 | bce: 0.03167 | dice: 0.89728 | 0 cls: 0.12407 | 1 cls: 0.18236 | 2 cls: 0.14078\n"
     ]
    },
    {
     "name": "stderr",
     "output_type": "stream",
     "text": [
      "Epoch 29, lr 0.0004: 100% 43/43 [00:12<00:00,  3.40it/s, 0 cls=0.21741, 1 cls=0.30272, 2 cls=0.25206, bce=0.07548, dice=0.84942, loss=0.25846]\n"
     ]
    },
    {
     "name": "stdout",
     "output_type": "stream",
     "text": [
      "loss: 0.16576 | bce: 0.03213 | dice: 0.88682 | 0 cls: 0.13298 | 1 cls: 0.19639 | 2 cls: 0.15880\n"
     ]
    },
    {
     "name": "stderr",
     "output_type": "stream",
     "text": [
      "Epoch 30, lr 0.0004: 100% 43/43 [00:12<00:00,  3.44it/s, 0 cls=0.22202, 1 cls=0.29983, 2 cls=0.25443, bce=0.07579, dice=0.84795, loss=0.25962]\n"
     ]
    },
    {
     "name": "stdout",
     "output_type": "stream",
     "text": [
      "loss: 0.17238 | bce: 0.04110 | dice: 0.88771 | 0 cls: 0.15635 | 1 cls: 0.19338 | 2 cls: 0.15290\n"
     ]
    },
    {
     "name": "stderr",
     "output_type": "stream",
     "text": [
      "Epoch 31, lr 0.0004: 100% 43/43 [00:12<00:00,  3.42it/s, 0 cls=0.21665, 1 cls=0.30049, 2 cls=0.25262, bce=0.07702, dice=0.85126, loss=0.25738]\n"
     ]
    },
    {
     "name": "stdout",
     "output_type": "stream",
     "text": [
      "loss: 0.15677 | bce: 0.03388 | dice: 0.89439 | 0 cls: 0.13436 | 1 cls: 0.18110 | 2 cls: 0.14443\n"
     ]
    },
    {
     "name": "stderr",
     "output_type": "stream",
     "text": [
      "Epoch 32, lr 0.0004: 100% 43/43 [00:12<00:00,  3.42it/s, 0 cls=0.21745, 1 cls=0.30228, 2 cls=0.25386, bce=0.07554, dice=0.84937, loss=0.25866]\n"
     ]
    },
    {
     "name": "stdout",
     "output_type": "stream",
     "text": [
      "loss: 0.15408 | bce: 0.03383 | dice: 0.89792 | 0 cls: 0.12494 | 1 cls: 0.18106 | 2 cls: 0.14547\n"
     ]
    },
    {
     "name": "stderr",
     "output_type": "stream",
     "text": [
      "Epoch 33, lr 0.0004: 100% 43/43 [00:12<00:00,  3.43it/s, 0 cls=0.23159, 1 cls=0.30878, 2 cls=0.26350, bce=0.08139, dice=0.84544, loss=0.26885]\n"
     ]
    },
    {
     "name": "stdout",
     "output_type": "stream",
     "text": [
      "loss: 0.17179 | bce: 0.03909 | dice: 0.88598 | 0 cls: 0.15052 | 1 cls: 0.19683 | 2 cls: 0.15636\n"
     ]
    },
    {
     "name": "stderr",
     "output_type": "stream",
     "text": [
      "Epoch 34, lr 0.0004: 100% 43/43 [00:12<00:00,  3.43it/s, 0 cls=0.20798, 1 cls=0.29585, 2 cls=0.24582, bce=0.07229, dice=0.85317, loss=0.25070]\n"
     ]
    },
    {
     "name": "stdout",
     "output_type": "stream",
     "text": [
      "loss: 0.15592 | bce: 0.03313 | dice: 0.89554 | 0 cls: 0.13439 | 1 cls: 0.17925 | 2 cls: 0.14029\n"
     ]
    },
    {
     "name": "stderr",
     "output_type": "stream",
     "text": [
      "Epoch 35, lr 0.0004: 100% 43/43 [00:12<00:00,  3.42it/s, 0 cls=0.21795, 1 cls=0.29307, 2 cls=0.24816, bce=0.07431, dice=0.85126, loss=0.25404]\n"
     ]
    },
    {
     "name": "stdout",
     "output_type": "stream",
     "text": [
      "loss: 0.16462 | bce: 0.03098 | dice: 0.88746 | 0 cls: 0.13028 | 1 cls: 0.19736 | 2 cls: 0.15577\n"
     ]
    },
    {
     "name": "stderr",
     "output_type": "stream",
     "text": [
      "Epoch 36, lr 0.0004: 100% 43/43 [00:12<00:00,  3.42it/s, 0 cls=0.22274, 1 cls=0.30534, 2 cls=0.25710, bce=0.07894, dice=0.84883, loss=0.26265]\n"
     ]
    },
    {
     "name": "stdout",
     "output_type": "stream",
     "text": [
      "loss: 0.16174 | bce: 0.03186 | dice: 0.88998 | 0 cls: 0.13466 | 1 cls: 0.18819 | 2 cls: 0.14968\n"
     ]
    },
    {
     "name": "stderr",
     "output_type": "stream",
     "text": [
      "Epoch 37, lr 0.0004: 100% 43/43 [00:12<00:00,  3.43it/s, 0 cls=0.21256, 1 cls=0.29097, 2 cls=0.24513, bce=0.07488, dice=0.85488, loss=0.25044]\n"
     ]
    },
    {
     "name": "stdout",
     "output_type": "stream",
     "text": [
      "loss: 0.15269 | bce: 0.03075 | dice: 0.89616 | 0 cls: 0.12734 | 1 cls: 0.17790 | 2 cls: 0.14087\n"
     ]
    },
    {
     "name": "stderr",
     "output_type": "stream",
     "text": [
      "Epoch 38, lr 0.0004: 100% 43/43 [00:12<00:00,  3.44it/s, 0 cls=0.21578, 1 cls=0.29503, 2 cls=0.24824, bce=0.07537, dice=0.85266, loss=0.25397]\n"
     ]
    },
    {
     "name": "stdout",
     "output_type": "stream",
     "text": [
      "loss: 0.15481 | bce: 0.03180 | dice: 0.89516 | 0 cls: 0.12607 | 1 cls: 0.18241 | 2 cls: 0.14621\n"
     ]
    },
    {
     "name": "stderr",
     "output_type": "stream",
     "text": [
      "Epoch 39, lr 0.0004: 100% 43/43 [00:12<00:00,  3.44it/s, 0 cls=0.21826, 1 cls=0.29987, 2 cls=0.25455, bce=0.07561, dice=0.84939, loss=0.25816]\n"
     ]
    },
    {
     "name": "stdout",
     "output_type": "stream",
     "text": [
      "loss: 0.15099 | bce: 0.03190 | dice: 0.89871 | 0 cls: 0.12334 | 1 cls: 0.17677 | 2 cls: 0.14177\n"
     ]
    },
    {
     "name": "stderr",
     "output_type": "stream",
     "text": [
      "Epoch 40, lr 0.0004: 100% 43/43 [00:12<00:00,  3.43it/s, 0 cls=0.21065, 1 cls=0.28804, 2 cls=0.24148, bce=0.07371, dice=0.85622, loss=0.24777]\n"
     ]
    },
    {
     "name": "stdout",
     "output_type": "stream",
     "text": [
      "loss: 0.16170 | bce: 0.03376 | dice: 0.88968 | 0 cls: 0.14356 | 1 cls: 0.18176 | 2 cls: 0.14667\n"
     ]
    },
    {
     "name": "stderr",
     "output_type": "stream",
     "text": [
      "Epoch 41, lr 0.0004: 100% 43/43 [00:12<00:00,  3.40it/s, 0 cls=0.21261, 1 cls=0.29018, 2 cls=0.24387, bce=0.07309, dice=0.85349, loss=0.24989]\n"
     ]
    },
    {
     "name": "stdout",
     "output_type": "stream",
     "text": [
      "loss: 0.15758 | bce: 0.03200 | dice: 0.89285 | 0 cls: 0.13270 | 1 cls: 0.18320 | 2 cls: 0.14543\n"
     ]
    },
    {
     "name": "stderr",
     "output_type": "stream",
     "text": [
      "Epoch 42, lr 0.0004: 100% 43/43 [00:12<00:00,  3.43it/s, 0 cls=0.22121, 1 cls=0.29737, 2 cls=0.25223, bce=0.07695, dice=0.84999, loss=0.25788]\n"
     ]
    },
    {
     "name": "stdout",
     "output_type": "stream",
     "text": [
      "loss: 0.15423 | bce: 0.03281 | dice: 0.89532 | 0 cls: 0.13670 | 1 cls: 0.17271 | 2 cls: 0.14115\n"
     ]
    },
    {
     "name": "stderr",
     "output_type": "stream",
     "text": [
      "Epoch 43, lr 0.0004: 100% 43/43 [00:12<00:00,  3.45it/s, 0 cls=0.21872, 1 cls=0.29513, 2 cls=0.24976, bce=0.07686, dice=0.85225, loss=0.25549]\n"
     ]
    },
    {
     "name": "stdout",
     "output_type": "stream",
     "text": [
      "loss: 0.15654 | bce: 0.03143 | dice: 0.89293 | 0 cls: 0.13255 | 1 cls: 0.18010 | 2 cls: 0.14411\n"
     ]
    },
    {
     "name": "stderr",
     "output_type": "stream",
     "text": [
      "Epoch 44, lr 0.0004: 100% 43/43 [00:12<00:00,  3.41it/s, 0 cls=0.20649, 1 cls=0.28974, 2 cls=0.24203, bce=0.07209, dice=0.85583, loss=0.24690]\n"
     ]
    },
    {
     "name": "stdout",
     "output_type": "stream",
     "text": [
      "loss: 0.15407 | bce: 0.02978 | dice: 0.89356 | 0 cls: 0.13111 | 1 cls: 0.17510 | 2 cls: 0.14350\n"
     ]
    },
    {
     "name": "stderr",
     "output_type": "stream",
     "text": [
      "Epoch 45, lr 0.0004: 100% 43/43 [00:12<00:00,  3.44it/s, 0 cls=0.21304, 1 cls=0.28836, 2 cls=0.24468, bce=0.07441, dice=0.85479, loss=0.24949]\n"
     ]
    },
    {
     "name": "stdout",
     "output_type": "stream",
     "text": [
      "loss: 0.15757 | bce: 0.03381 | dice: 0.89341 | 0 cls: 0.13420 | 1 cls: 0.18211 | 2 cls: 0.14674\n"
     ]
    },
    {
     "name": "stderr",
     "output_type": "stream",
     "text": [
      "Epoch 46, lr 0.0004: 100% 43/43 [00:12<00:00,  3.43it/s, 0 cls=0.20404, 1 cls=0.28212, 2 cls=0.23804, bce=0.07136, dice=0.85852, loss=0.24207]\n"
     ]
    },
    {
     "name": "stdout",
     "output_type": "stream",
     "text": [
      "loss: 0.17834 | bce: 0.04171 | dice: 0.88177 | 0 cls: 0.16021 | 1 cls: 0.19577 | 2 cls: 0.16870\n"
     ]
    },
    {
     "name": "stderr",
     "output_type": "stream",
     "text": [
      "Epoch 47, lr 0.0004: 100% 43/43 [00:12<00:00,  3.44it/s, 0 cls=0.20325, 1 cls=0.28354, 2 cls=0.23817, bce=0.07137, dice=0.85836, loss=0.24235]\n"
     ]
    },
    {
     "name": "stdout",
     "output_type": "stream",
     "text": [
      "loss: 0.17936 | bce: 0.04038 | dice: 0.88396 | 0 cls: 0.13831 | 1 cls: 0.21714 | 2 cls: 0.17445\n"
     ]
    },
    {
     "name": "stderr",
     "output_type": "stream",
     "text": [
      "Epoch 48, lr 0.0004: 100% 43/43 [00:12<00:00,  3.43it/s, 0 cls=0.21273, 1 cls=0.29230, 2 cls=0.24570, bce=0.07487, dice=0.85434, loss=0.25115]\n"
     ]
    },
    {
     "name": "stdout",
     "output_type": "stream",
     "text": [
      "loss: 0.15378 | bce: 0.03426 | dice: 0.89825 | 0 cls: 0.12522 | 1 cls: 0.18288 | 2 cls: 0.14276\n"
     ]
    },
    {
     "name": "stderr",
     "output_type": "stream",
     "text": [
      "Epoch 49, lr 0.0004: 100% 43/43 [00:12<00:00,  3.43it/s, 0 cls=0.20533, 1 cls=0.27872, 2 cls=0.23678, bce=0.07154, dice=0.85892, loss=0.24098]\n"
     ]
    },
    {
     "name": "stdout",
     "output_type": "stream",
     "text": [
      "loss: 0.16023 | bce: 0.03573 | dice: 0.89435 | 0 cls: 0.12554 | 1 cls: 0.19235 | 2 cls: 0.15648\n"
     ]
    },
    {
     "name": "stderr",
     "output_type": "stream",
     "text": [
      "Epoch 50, lr 0.0004: 100% 43/43 [00:12<00:00,  3.43it/s, 0 cls=0.21288, 1 cls=0.28712, 2 cls=0.24383, bce=0.07384, dice=0.85484, loss=0.24876]\n"
     ]
    },
    {
     "name": "stdout",
     "output_type": "stream",
     "text": [
      "loss: 0.15491 | bce: 0.03524 | dice: 0.89713 | 0 cls: 0.12959 | 1 cls: 0.17867 | 2 cls: 0.14751\n"
     ]
    },
    {
     "name": "stderr",
     "output_type": "stream",
     "text": [
      "Epoch 51, lr 0.0004: 100% 43/43 [00:12<00:00,  3.42it/s, 0 cls=0.21673, 1 cls=0.29111, 2 cls=0.24758, bce=0.07509, dice=0.85252, loss=0.25265]\n"
     ]
    },
    {
     "name": "stdout",
     "output_type": "stream",
     "text": [
      "loss: 0.15429 | bce: 0.03474 | dice: 0.89821 | 0 cls: 0.12953 | 1 cls: 0.17781 | 2 cls: 0.14229\n"
     ]
    },
    {
     "name": "stderr",
     "output_type": "stream",
     "text": [
      "Epoch 52, lr 0.0004: 100% 43/43 [00:12<00:00,  3.43it/s, 0 cls=0.21334, 1 cls=0.29352, 2 cls=0.24692, bce=0.07425, dice=0.85277, loss=0.25213]\n"
     ]
    },
    {
     "name": "stdout",
     "output_type": "stream",
     "text": [
      "loss: 0.16317 | bce: 0.03701 | dice: 0.89494 | 0 cls: 0.12344 | 1 cls: 0.20096 | 2 cls: 0.15580\n"
     ]
    },
    {
     "name": "stderr",
     "output_type": "stream",
     "text": [
      "Epoch 53, lr 0.0004: 100% 43/43 [00:12<00:00,  3.43it/s, 0 cls=0.19807, 1 cls=0.27579, 2 cls=0.23172, bce=0.06986, dice=0.86229, loss=0.23589]\n"
     ]
    },
    {
     "name": "stdout",
     "output_type": "stream",
     "text": [
      "loss: 0.17196 | bce: 0.03622 | dice: 0.88280 | 0 cls: 0.15424 | 1 cls: 0.19197 | 2 cls: 0.15720\n"
     ]
    },
    {
     "name": "stderr",
     "output_type": "stream",
     "text": [
      "Epoch 54, lr 0.0004: 100% 43/43 [00:12<00:00,  3.42it/s, 0 cls=0.21800, 1 cls=0.28960, 2 cls=0.24810, bce=0.07545, dice=0.85249, loss=0.25266]\n"
     ]
    },
    {
     "name": "stdout",
     "output_type": "stream",
     "text": [
      "loss: 0.15927 | bce: 0.03431 | dice: 0.89397 | 0 cls: 0.13411 | 1 cls: 0.18623 | 2 cls: 0.14475\n"
     ]
    },
    {
     "name": "stderr",
     "output_type": "stream",
     "text": [
      "Epoch 55, lr 0.0004: 100% 43/43 [00:12<00:00,  3.44it/s, 0 cls=0.20207, 1 cls=0.27973, 2 cls=0.23660, bce=0.07206, dice=0.86041, loss=0.24004]\n"
     ]
    },
    {
     "name": "stdout",
     "output_type": "stream",
     "text": [
      "loss: 0.16089 | bce: 0.03278 | dice: 0.89005 | 0 cls: 0.14035 | 1 cls: 0.18299 | 2 cls: 0.14726\n"
     ]
    },
    {
     "name": "stderr",
     "output_type": "stream",
     "text": [
      "Epoch 56, lr 0.0004: 100% 43/43 [00:12<00:00,  3.43it/s, 0 cls=0.20644, 1 cls=0.27870, 2 cls=0.23668, bce=0.07196, dice=0.85893, loss=0.24139]\n"
     ]
    },
    {
     "name": "stdout",
     "output_type": "stream",
     "text": [
      "loss: 0.17489 | bce: 0.03569 | dice: 0.88233 | 0 cls: 0.14626 | 1 cls: 0.19604 | 2 cls: 0.16786\n"
     ]
    },
    {
     "name": "stderr",
     "output_type": "stream",
     "text": [
      "Epoch 57, lr 0.0004: 100% 43/43 [00:12<00:00,  3.43it/s, 0 cls=0.20572, 1 cls=0.28010, 2 cls=0.23626, bce=0.07085, dice=0.85818, loss=0.24158]\n"
     ]
    },
    {
     "name": "stdout",
     "output_type": "stream",
     "text": [
      "loss: 0.14937 | bce: 0.03424 | dice: 0.90206 | 0 cls: 0.12251 | 1 cls: 0.17599 | 2 cls: 0.13856\n"
     ]
    },
    {
     "name": "stderr",
     "output_type": "stream",
     "text": [
      "Epoch 58, lr 0.0004: 100% 43/43 [00:12<00:00,  3.40it/s, 0 cls=0.19622, 1 cls=0.27579, 2 cls=0.23089, bce=0.06985, dice=0.86302, loss=0.23498]\n"
     ]
    },
    {
     "name": "stdout",
     "output_type": "stream",
     "text": [
      "loss: 0.16517 | bce: 0.03375 | dice: 0.88700 | 0 cls: 0.14696 | 1 cls: 0.18518 | 2 cls: 0.15082\n"
     ]
    },
    {
     "name": "stderr",
     "output_type": "stream",
     "text": [
      "Epoch 59, lr 0.0004: 100% 43/43 [00:12<00:00,  3.43it/s, 0 cls=0.20247, 1 cls=0.27921, 2 cls=0.23591, bce=0.07051, dice=0.85918, loss=0.23985]\n"
     ]
    },
    {
     "name": "stdout",
     "output_type": "stream",
     "text": [
      "loss: 0.14959 | bce: 0.03102 | dice: 0.89860 | 0 cls: 0.12213 | 1 cls: 0.17616 | 2 cls: 0.14177\n"
     ]
    },
    {
     "name": "stderr",
     "output_type": "stream",
     "text": [
      "Epoch 60, lr 0.0004: 100% 43/43 [00:12<00:00,  3.43it/s, 0 cls=0.20249, 1 cls=0.27767, 2 cls=0.23528, bce=0.07010, dice=0.85946, loss=0.23912]\n"
     ]
    },
    {
     "name": "stdout",
     "output_type": "stream",
     "text": [
      "loss: 0.14830 | bce: 0.03139 | dice: 0.89984 | 0 cls: 0.12220 | 1 cls: 0.17318 | 2 cls: 0.13913\n"
     ]
    },
    {
     "name": "stderr",
     "output_type": "stream",
     "text": [
      "Epoch 61, lr 0.0004: 100% 43/43 [00:12<00:00,  3.44it/s, 0 cls=0.19877, 1 cls=0.27972, 2 cls=0.23446, bce=0.07009, dice=0.86072, loss=0.23829]\n"
     ]
    },
    {
     "name": "stdout",
     "output_type": "stream",
     "text": [
      "loss: 0.16514 | bce: 0.03654 | dice: 0.88818 | 0 cls: 0.15431 | 1 cls: 0.17942 | 2 cls: 0.14830\n"
     ]
    },
    {
     "name": "stderr",
     "output_type": "stream",
     "text": [
      "Epoch 62, lr 0.0004: 100% 43/43 [00:12<00:00,  3.43it/s, 0 cls=0.20145, 1 cls=0.28060, 2 cls=0.23652, bce=0.07085, dice=0.85973, loss=0.24012]\n"
     ]
    },
    {
     "name": "stdout",
     "output_type": "stream",
     "text": [
      "loss: 0.14576 | bce: 0.03028 | dice: 0.90121 | 0 cls: 0.12015 | 1 cls: 0.16983 | 2 cls: 0.13658\n"
     ]
    },
    {
     "name": "stderr",
     "output_type": "stream",
     "text": [
      "Epoch 63, lr 0.0004: 100% 43/43 [00:12<00:00,  3.42it/s, 0 cls=0.19601, 1 cls=0.27641, 2 cls=0.23208, bce=0.06960, dice=0.86270, loss=0.23538]\n"
     ]
    },
    {
     "name": "stdout",
     "output_type": "stream",
     "text": [
      "loss: 0.15163 | bce: 0.03173 | dice: 0.89780 | 0 cls: 0.12922 | 1 cls: 0.17309 | 2 cls: 0.13922\n"
     ]
    },
    {
     "name": "stderr",
     "output_type": "stream",
     "text": [
      "Epoch 64, lr 0.0004: 100% 43/43 [00:12<00:00,  3.44it/s, 0 cls=0.19862, 1 cls=0.26887, 2 cls=0.22906, bce=0.06972, dice=0.86392, loss=0.23281]\n"
     ]
    },
    {
     "name": "stdout",
     "output_type": "stream",
     "text": [
      "loss: 0.15660 | bce: 0.03388 | dice: 0.89597 | 0 cls: 0.13254 | 1 cls: 0.18074 | 2 cls: 0.14254\n"
     ]
    },
    {
     "name": "stderr",
     "output_type": "stream",
     "text": [
      "Epoch 65, lr 0.0004: 100% 43/43 [00:12<00:00,  3.42it/s, 0 cls=0.20497, 1 cls=0.28327, 2 cls=0.23853, bce=0.07184, dice=0.85825, loss=0.24300]\n"
     ]
    },
    {
     "name": "stdout",
     "output_type": "stream",
     "text": [
      "loss: 0.14998 | bce: 0.03185 | dice: 0.89896 | 0 cls: 0.12360 | 1 cls: 0.17532 | 2 cls: 0.13976\n"
     ]
    },
    {
     "name": "stderr",
     "output_type": "stream",
     "text": [
      "Epoch 66, lr 0.0004: 100% 43/43 [00:12<00:00,  3.40it/s, 0 cls=0.20388, 1 cls=0.27746, 2 cls=0.23603, bce=0.07068, dice=0.85905, loss=0.23974]\n"
     ]
    },
    {
     "name": "stdout",
     "output_type": "stream",
     "text": [
      "loss: 0.15466 | bce: 0.03464 | dice: 0.89755 | 0 cls: 0.12763 | 1 cls: 0.18037 | 2 cls: 0.14667\n"
     ]
    },
    {
     "name": "stderr",
     "output_type": "stream",
     "text": [
      "Epoch 67, lr 0.0004: 100% 43/43 [00:12<00:00,  3.44it/s, 0 cls=0.20049, 1 cls=0.27584, 2 cls=0.23283, bce=0.07044, dice=0.86142, loss=0.23710]\n"
     ]
    },
    {
     "name": "stdout",
     "output_type": "stream",
     "text": [
      "loss: 0.17252 | bce: 0.03989 | dice: 0.88831 | 0 cls: 0.13972 | 1 cls: 0.20412 | 2 cls: 0.16353\n"
     ]
    },
    {
     "name": "stderr",
     "output_type": "stream",
     "text": [
      "Epoch 68, lr 0.0004: 100% 43/43 [00:12<00:00,  3.43it/s, 0 cls=0.20260, 1 cls=0.28118, 2 cls=0.23685, bce=0.07059, dice=0.85866, loss=0.24088]\n"
     ]
    },
    {
     "name": "stdout",
     "output_type": "stream",
     "text": [
      "loss: 0.15763 | bce: 0.03344 | dice: 0.89488 | 0 cls: 0.12818 | 1 cls: 0.18398 | 2 cls: 0.14892\n"
     ]
    },
    {
     "name": "stderr",
     "output_type": "stream",
     "text": [
      "Epoch 69, lr 0.0004: 100% 43/43 [00:12<00:00,  3.43it/s, 0 cls=0.20667, 1 cls=0.27723, 2 cls=0.23609, bce=0.07138, dice=0.85885, loss=0.24078]\n"
     ]
    },
    {
     "name": "stdout",
     "output_type": "stream",
     "text": [
      "loss: 0.17269 | bce: 0.03708 | dice: 0.88350 | 0 cls: 0.14382 | 1 cls: 0.20248 | 2 cls: 0.16263\n"
     ]
    },
    {
     "name": "stderr",
     "output_type": "stream",
     "text": [
      "Epoch 70, lr 0.0004: 100% 43/43 [00:12<00:00,  3.44it/s, 0 cls=0.19960, 1 cls=0.27803, 2 cls=0.23379, bce=0.07056, dice=0.86100, loss=0.23781]\n"
     ]
    },
    {
     "name": "stdout",
     "output_type": "stream",
     "text": [
      "loss: 0.15168 | bce: 0.03103 | dice: 0.89716 | 0 cls: 0.12327 | 1 cls: 0.17852 | 2 cls: 0.14323\n"
     ]
    },
    {
     "name": "stderr",
     "output_type": "stream",
     "text": [
      "Epoch 71, lr 0.0004: 100% 43/43 [00:12<00:00,  3.43it/s, 0 cls=0.19916, 1 cls=0.27326, 2 cls=0.23201, bce=0.06994, dice=0.86229, loss=0.23537]\n"
     ]
    },
    {
     "name": "stdout",
     "output_type": "stream",
     "text": [
      "loss: 0.14996 | bce: 0.03271 | dice: 0.90083 | 0 cls: 0.12221 | 1 cls: 0.17699 | 2 cls: 0.13887\n"
     ]
    },
    {
     "name": "stderr",
     "output_type": "stream",
     "text": [
      "Epoch 72, lr 0.0004: 100% 43/43 [00:12<00:00,  3.44it/s, 0 cls=0.19470, 1 cls=0.27229, 2 cls=0.22932, bce=0.06854, dice=0.86374, loss=0.23266]\n"
     ]
    },
    {
     "name": "stdout",
     "output_type": "stream",
     "text": [
      "loss: 0.15209 | bce: 0.03466 | dice: 0.90005 | 0 cls: 0.12188 | 1 cls: 0.18156 | 2 cls: 0.14385\n"
     ]
    },
    {
     "name": "stderr",
     "output_type": "stream",
     "text": [
      "Epoch 73, lr 0.0004: 100% 43/43 [00:12<00:00,  3.44it/s, 0 cls=0.19453, 1 cls=0.27065, 2 cls=0.22736, bce=0.06882, dice=0.86472, loss=0.23155]\n"
     ]
    },
    {
     "name": "stdout",
     "output_type": "stream",
     "text": [
      "loss: 0.15094 | bce: 0.03255 | dice: 0.89910 | 0 cls: 0.12466 | 1 cls: 0.17691 | 2 cls: 0.14062\n"
     ]
    },
    {
     "name": "stderr",
     "output_type": "stream",
     "text": [
      "Epoch 74, lr 0.0004: 100% 43/43 [00:12<00:00,  3.42it/s, 0 cls=0.19988, 1 cls=0.26793, 2 cls=0.22842, bce=0.07047, dice=0.86426, loss=0.23281]\n"
     ]
    },
    {
     "name": "stdout",
     "output_type": "stream",
     "text": [
      "loss: 0.14602 | bce: 0.03108 | dice: 0.90229 | 0 cls: 0.11911 | 1 cls: 0.17260 | 2 cls: 0.13495\n"
     ]
    },
    {
     "name": "stderr",
     "output_type": "stream",
     "text": [
      "Epoch 75, lr 0.0004: 100% 43/43 [00:12<00:00,  3.43it/s, 0 cls=0.19998, 1 cls=0.27349, 2 cls=0.23064, bce=0.06931, dice=0.86179, loss=0.23552]\n"
     ]
    },
    {
     "name": "stdout",
     "output_type": "stream",
     "text": [
      "loss: 0.15197 | bce: 0.03059 | dice: 0.89654 | 0 cls: 0.12438 | 1 cls: 0.17918 | 2 cls: 0.14176\n"
     ]
    },
    {
     "name": "stderr",
     "output_type": "stream",
     "text": [
      "Epoch 76, lr 0.0004: 100% 43/43 [00:12<00:00,  3.41it/s, 0 cls=0.20781, 1 cls=0.27823, 2 cls=0.23743, bce=0.07231, dice=0.85867, loss=0.24190]\n"
     ]
    },
    {
     "name": "stdout",
     "output_type": "stream",
     "text": [
      "loss: 0.16425 | bce: 0.03664 | dice: 0.88945 | 0 cls: 0.15827 | 1 cls: 0.17501 | 2 cls: 0.14231\n"
     ]
    },
    {
     "name": "stderr",
     "output_type": "stream",
     "text": [
      "Epoch 77, lr 0.0004: 100% 43/43 [00:12<00:00,  3.43it/s, 0 cls=0.20076, 1 cls=0.27560, 2 cls=0.23398, bce=0.06982, dice=0.86051, loss=0.23734]\n"
     ]
    },
    {
     "name": "stdout",
     "output_type": "stream",
     "text": [
      "loss: 0.15096 | bce: 0.03158 | dice: 0.89828 | 0 cls: 0.12718 | 1 cls: 0.17492 | 2 cls: 0.13815\n"
     ]
    },
    {
     "name": "stderr",
     "output_type": "stream",
     "text": [
      "Epoch 78, lr 0.0004: 100% 43/43 [00:12<00:00,  3.43it/s, 0 cls=0.19144, 1 cls=0.26853, 2 cls=0.22534, bce=0.06744, dice=0.86561, loss=0.22906]\n"
     ]
    },
    {
     "name": "stdout",
     "output_type": "stream",
     "text": [
      "loss: 0.15367 | bce: 0.03175 | dice: 0.89710 | 0 cls: 0.12325 | 1 cls: 0.18214 | 2 cls: 0.14453\n"
     ]
    },
    {
     "name": "stderr",
     "output_type": "stream",
     "text": [
      "Epoch 79, lr 0.0004: 100% 43/43 [00:12<00:00,  3.42it/s, 0 cls=0.19568, 1 cls=0.26846, 2 cls=0.22734, bce=0.06797, dice=0.86386, loss=0.23112]\n"
     ]
    },
    {
     "name": "stdout",
     "output_type": "stream",
     "text": [
      "loss: 0.15238 | bce: 0.03333 | dice: 0.89891 | 0 cls: 0.12213 | 1 cls: 0.18072 | 2 cls: 0.14510\n"
     ]
    },
    {
     "name": "stderr",
     "output_type": "stream",
     "text": [
      "Epoch 80, lr 0.0004: 100% 43/43 [00:12<00:00,  3.42it/s, 0 cls=0.19367, 1 cls=0.26870, 2 cls=0.22677, bce=0.06835, dice=0.86526, loss=0.23030]\n"
     ]
    },
    {
     "name": "stdout",
     "output_type": "stream",
     "text": [
      "loss: 0.14752 | bce: 0.03199 | dice: 0.90163 | 0 cls: 0.12348 | 1 cls: 0.17159 | 2 cls: 0.13550\n"
     ]
    },
    {
     "name": "stderr",
     "output_type": "stream",
     "text": [
      "Epoch 81, lr 0.0004: 100% 43/43 [00:12<00:00,  3.43it/s, 0 cls=0.19323, 1 cls=0.27095, 2 cls=0.22808, bce=0.06843, dice=0.86462, loss=0.23129]\n"
     ]
    },
    {
     "name": "stdout",
     "output_type": "stream",
     "text": [
      "loss: 0.16119 | bce: 0.03605 | dice: 0.89513 | 0 cls: 0.12639 | 1 cls: 0.19376 | 2 cls: 0.15302\n"
     ]
    },
    {
     "name": "stderr",
     "output_type": "stream",
     "text": [
      "Epoch 82, lr 0.0004: 100% 43/43 [00:12<00:00,  3.43it/s, 0 cls=0.21433, 1 cls=0.29020, 2 cls=0.24707, bce=0.07533, dice=0.85436, loss=0.25123]\n"
     ]
    },
    {
     "name": "stdout",
     "output_type": "stream",
     "text": [
      "loss: 0.15577 | bce: 0.03285 | dice: 0.89467 | 0 cls: 0.13101 | 1 cls: 0.18044 | 2 cls: 0.14473\n"
     ]
    },
    {
     "name": "stderr",
     "output_type": "stream",
     "text": [
      "Epoch 83, lr 0.0004: 100% 43/43 [00:12<00:00,  3.44it/s, 0 cls=0.20159, 1 cls=0.27865, 2 cls=0.23599, bce=0.06991, dice=0.85936, loss=0.23929]\n"
     ]
    },
    {
     "name": "stdout",
     "output_type": "stream",
     "text": [
      "loss: 0.14943 | bce: 0.03204 | dice: 0.90019 | 0 cls: 0.12033 | 1 cls: 0.17820 | 2 cls: 0.13982\n"
     ]
    },
    {
     "name": "stderr",
     "output_type": "stream",
     "text": [
      "Epoch 84, lr 0.0004: 100% 43/43 [00:12<00:00,  3.44it/s, 0 cls=0.19109, 1 cls=0.27099, 2 cls=0.22774, bce=0.06806, dice=0.86538, loss=0.23038]\n"
     ]
    },
    {
     "name": "stdout",
     "output_type": "stream",
     "text": [
      "loss: 0.15103 | bce: 0.03232 | dice: 0.89979 | 0 cls: 0.11968 | 1 cls: 0.18030 | 2 cls: 0.14321\n"
     ]
    },
    {
     "name": "stderr",
     "output_type": "stream",
     "text": [
      "Epoch 85, lr 0.0004: 100% 43/43 [00:12<00:00,  3.42it/s, 0 cls=0.19786, 1 cls=0.27212, 2 cls=0.23106, bce=0.06979, dice=0.86306, loss=0.23420]\n"
     ]
    },
    {
     "name": "stdout",
     "output_type": "stream",
     "text": [
      "loss: 0.14764 | bce: 0.03089 | dice: 0.90045 | 0 cls: 0.12130 | 1 cls: 0.17337 | 2 cls: 0.13676\n"
     ]
    },
    {
     "name": "stderr",
     "output_type": "stream",
     "text": [
      "Epoch 86, lr 0.0004: 100% 43/43 [00:12<00:00,  3.44it/s, 0 cls=0.18997, 1 cls=0.26613, 2 cls=0.22498, bce=0.06725, dice=0.86650, loss=0.22744]\n"
     ]
    },
    {
     "name": "stdout",
     "output_type": "stream",
     "text": [
      "loss: 0.14624 | bce: 0.03060 | dice: 0.90177 | 0 cls: 0.11862 | 1 cls: 0.17224 | 2 cls: 0.13676\n"
     ]
    },
    {
     "name": "stderr",
     "output_type": "stream",
     "text": [
      "Epoch 87, lr 0.0004: 100% 43/43 [00:12<00:00,  3.42it/s, 0 cls=0.18863, 1 cls=0.26730, 2 cls=0.22497, bce=0.06633, dice=0.86602, loss=0.22737]\n"
     ]
    },
    {
     "name": "stdout",
     "output_type": "stream",
     "text": [
      "loss: 0.14638 | bce: 0.03052 | dice: 0.90172 | 0 cls: 0.11763 | 1 cls: 0.17286 | 2 cls: 0.13802\n"
     ]
    },
    {
     "name": "stderr",
     "output_type": "stream",
     "text": [
      "Epoch 88, lr 0.0004: 100% 43/43 [00:12<00:00,  3.42it/s, 0 cls=0.18627, 1 cls=0.26229, 2 cls=0.22045, bce=0.06575, dice=0.86856, loss=0.22351]\n"
     ]
    },
    {
     "name": "stdout",
     "output_type": "stream",
     "text": [
      "loss: 0.14544 | bce: 0.03177 | dice: 0.90295 | 0 cls: 0.11983 | 1 cls: 0.16820 | 2 cls: 0.13749\n"
     ]
    },
    {
     "name": "stderr",
     "output_type": "stream",
     "text": [
      "Epoch 89, lr 0.0004: 100% 43/43 [00:12<00:00,  3.42it/s, 0 cls=0.19244, 1 cls=0.26782, 2 cls=0.22554, bce=0.06826, dice=0.86609, loss=0.22921]\n"
     ]
    },
    {
     "name": "stdout",
     "output_type": "stream",
     "text": [
      "loss: 0.14823 | bce: 0.03033 | dice: 0.89900 | 0 cls: 0.12500 | 1 cls: 0.17135 | 2 cls: 0.13827\n"
     ]
    },
    {
     "name": "stderr",
     "output_type": "stream",
     "text": [
      "Epoch 90, lr 0.001: 100% 43/43 [00:12<00:00,  3.42it/s, 0 cls=0.22389, 1 cls=0.29570, 2 cls=0.25164, bce=0.07640, dice=0.84927, loss=0.25816]\n"
     ]
    },
    {
     "name": "stdout",
     "output_type": "stream",
     "text": [
      "loss: 0.15261 | bce: 0.03343 | dice: 0.89971 | 0 cls: 0.12350 | 1 cls: 0.18086 | 2 cls: 0.13997\n"
     ]
    },
    {
     "name": "stderr",
     "output_type": "stream",
     "text": [
      "Epoch 91, lr 0.001: 100% 43/43 [00:12<00:00,  3.43it/s, 0 cls=0.21990, 1 cls=0.30303, 2 cls=0.25541, bce=0.07645, dice=0.84878, loss=0.26025]\n"
     ]
    },
    {
     "name": "stdout",
     "output_type": "stream",
     "text": [
      "loss: 0.19088 | bce: 0.03802 | dice: 0.87203 | 0 cls: 0.15194 | 1 cls: 0.23030 | 2 cls: 0.18142\n"
     ]
    },
    {
     "name": "stderr",
     "output_type": "stream",
     "text": [
      "Epoch 92, lr 0.0003: 100% 43/43 [00:12<00:00,  3.44it/s, 0 cls=0.20984, 1 cls=0.28207, 2 cls=0.23981, bce=0.07326, dice=0.85731, loss=0.24473]\n"
     ]
    },
    {
     "name": "stdout",
     "output_type": "stream",
     "text": [
      "loss: 0.15480 | bce: 0.03427 | dice: 0.89669 | 0 cls: 0.13365 | 1 cls: 0.17670 | 2 cls: 0.14186\n"
     ]
    },
    {
     "name": "stderr",
     "output_type": "stream",
     "text": [
      "Epoch 93, lr 0.0003: 100% 43/43 [00:12<00:00,  3.44it/s, 0 cls=0.21494, 1 cls=0.28464, 2 cls=0.24514, bce=0.07410, dice=0.85437, loss=0.24886]\n"
     ]
    },
    {
     "name": "stdout",
     "output_type": "stream",
     "text": [
      "loss: 0.15610 | bce: 0.03414 | dice: 0.89734 | 0 cls: 0.12368 | 1 cls: 0.18642 | 2 cls: 0.14736\n"
     ]
    },
    {
     "name": "stderr",
     "output_type": "stream",
     "text": [
      "Epoch 94, lr 8.999999999999999e-05: 100% 43/43 [00:12<00:00,  3.43it/s, 0 cls=0.18881, 1 cls=0.26486, 2 cls=0.22419, bce=0.06608, dice=0.86630, loss=0.22631]\n"
     ]
    },
    {
     "name": "stdout",
     "output_type": "stream",
     "text": [
      "loss: 0.14692 | bce: 0.03218 | dice: 0.90295 | 0 cls: 0.11742 | 1 cls: 0.17521 | 2 cls: 0.13770\n"
     ]
    },
    {
     "name": "stderr",
     "output_type": "stream",
     "text": [
      "Epoch 95, lr 0.001: 100% 43/43 [00:12<00:00,  3.44it/s, 0 cls=0.20518, 1 cls=0.28014, 2 cls=0.23520, bce=0.07146, dice=0.85914, loss=0.24117]\n"
     ]
    },
    {
     "name": "stdout",
     "output_type": "stream",
     "text": [
      "loss: 0.17729 | bce: 0.04164 | dice: 0.88976 | 0 cls: 0.12663 | 1 cls: 0.22594 | 2 cls: 0.17030\n"
     ]
    },
    {
     "name": "stderr",
     "output_type": "stream",
     "text": [
      "Epoch 96, lr 0.001: 100% 43/43 [00:12<00:00,  3.44it/s, 0 cls=0.22128, 1 cls=0.29634, 2 cls=0.25059, bce=0.07795, dice=0.85173, loss=0.25717]\n"
     ]
    },
    {
     "name": "stdout",
     "output_type": "stream",
     "text": [
      "loss: 0.16139 | bce: 0.03350 | dice: 0.89058 | 0 cls: 0.13680 | 1 cls: 0.18648 | 2 cls: 0.14890\n"
     ]
    },
    {
     "name": "stderr",
     "output_type": "stream",
     "text": [
      "Epoch 97, lr 0.0003: 100% 43/43 [00:12<00:00,  3.43it/s, 0 cls=0.20744, 1 cls=0.28497, 2 cls=0.24210, bce=0.07215, dice=0.85615, loss=0.24538]\n"
     ]
    },
    {
     "name": "stdout",
     "output_type": "stream",
     "text": [
      "loss: 0.15162 | bce: 0.03133 | dice: 0.89733 | 0 cls: 0.12625 | 1 cls: 0.17716 | 2 cls: 0.14038\n"
     ]
    },
    {
     "name": "stderr",
     "output_type": "stream",
     "text": [
      "Epoch 98, lr 0.0003: 100% 43/43 [00:12<00:00,  3.44it/s, 0 cls=0.20113, 1 cls=0.27600, 2 cls=0.23475, bce=0.07083, dice=0.86097, loss=0.23780]\n"
     ]
    },
    {
     "name": "stdout",
     "output_type": "stream",
     "text": [
      "loss: 0.15251 | bce: 0.03172 | dice: 0.89707 | 0 cls: 0.12419 | 1 cls: 0.18087 | 2 cls: 0.14294\n"
     ]
    },
    {
     "name": "stderr",
     "output_type": "stream",
     "text": [
      "Epoch 99, lr 8.999999999999999e-05: 100% 43/43 [00:12<00:00,  3.43it/s, 0 cls=0.19626, 1 cls=0.26724, 2 cls=0.22901, bce=0.06796, dice=0.86352, loss=0.23120]\n"
     ]
    },
    {
     "name": "stdout",
     "output_type": "stream",
     "text": [
      "loss: 0.14760 | bce: 0.03152 | dice: 0.90120 | 0 cls: 0.12070 | 1 cls: 0.17349 | 2 cls: 0.13786\n"
     ]
    },
    {
     "name": "stderr",
     "output_type": "stream",
     "text": [
      "Epoch 100, lr 0.0002: 100% 43/43 [00:12<00:00,  3.44it/s, 0 cls=0.19075, 1 cls=0.26307, 2 cls=0.22440, bce=0.06648, dice=0.86628, loss=0.22641]\n"
     ]
    },
    {
     "name": "stdout",
     "output_type": "stream",
     "text": [
      "loss: 0.15114 | bce: 0.03272 | dice: 0.90015 | 0 cls: 0.11980 | 1 cls: 0.18013 | 2 cls: 0.14275\n"
     ]
    },
    {
     "name": "stderr",
     "output_type": "stream",
     "text": [
      "Epoch 101, lr 0.0002: 100% 43/43 [00:12<00:00,  3.44it/s, 0 cls=0.19822, 1 cls=0.27015, 2 cls=0.23095, bce=0.07045, dice=0.86406, loss=0.23354]\n"
     ]
    },
    {
     "name": "stdout",
     "output_type": "stream",
     "text": [
      "loss: 0.15160 | bce: 0.03340 | dice: 0.90025 | 0 cls: 0.12107 | 1 cls: 0.17973 | 2 cls: 0.14320\n"
     ]
    },
    {
     "name": "stderr",
     "output_type": "stream",
     "text": [
      "Epoch 102, lr 0.0002: 100% 43/43 [00:12<00:00,  3.42it/s, 0 cls=0.19389, 1 cls=0.26485, 2 cls=0.22691, bce=0.06870, dice=0.86618, loss=0.22888]\n"
     ]
    },
    {
     "name": "stdout",
     "output_type": "stream",
     "text": [
      "loss: 0.14909 | bce: 0.03299 | dice: 0.90167 | 0 cls: 0.11984 | 1 cls: 0.17659 | 2 cls: 0.14001\n"
     ]
    },
    {
     "name": "stderr",
     "output_type": "stream",
     "text": [
      "Epoch 103, lr 0.0002: 100% 43/43 [00:12<00:00,  3.44it/s, 0 cls=0.19172, 1 cls=0.26611, 2 cls=0.22649, bce=0.06823, dice=0.86639, loss=0.22843]\n"
     ]
    },
    {
     "name": "stdout",
     "output_type": "stream",
     "text": [
      "loss: 0.14728 | bce: 0.03196 | dice: 0.90195 | 0 cls: 0.12067 | 1 cls: 0.17356 | 2 cls: 0.13649\n"
     ]
    },
    {
     "name": "stderr",
     "output_type": "stream",
     "text": [
      "Epoch 104, lr 0.0002: 100% 43/43 [00:12<00:00,  3.45it/s, 0 cls=0.19786, 1 cls=0.26998, 2 cls=0.23105, bce=0.06972, dice=0.86343, loss=0.23335]\n"
     ]
    },
    {
     "name": "stdout",
     "output_type": "stream",
     "text": [
      "loss: 0.14726 | bce: 0.03175 | dice: 0.90129 | 0 cls: 0.12107 | 1 cls: 0.17301 | 2 cls: 0.13710\n"
     ]
    },
    {
     "name": "stderr",
     "output_type": "stream",
     "text": [
      "Epoch 105, lr 0.0002: 100% 43/43 [00:12<00:00,  3.43it/s, 0 cls=0.18575, 1 cls=0.25941, 2 cls=0.21956, bce=0.06603, dice=0.86990, loss=0.22198]\n"
     ]
    },
    {
     "name": "stdout",
     "output_type": "stream",
     "text": [
      "loss: 0.14780 | bce: 0.03214 | dice: 0.90151 | 0 cls: 0.11974 | 1 cls: 0.17465 | 2 cls: 0.13910\n"
     ]
    },
    {
     "name": "stderr",
     "output_type": "stream",
     "text": [
      "Epoch 106, lr 0.0002: 100% 43/43 [00:12<00:00,  3.45it/s, 0 cls=0.18371, 1 cls=0.25628, 2 cls=0.21701, bce=0.06479, dice=0.87066, loss=0.21940]\n"
     ]
    },
    {
     "name": "stdout",
     "output_type": "stream",
     "text": [
      "loss: 0.14776 | bce: 0.03305 | dice: 0.90250 | 0 cls: 0.11950 | 1 cls: 0.17469 | 2 cls: 0.13930\n"
     ]
    },
    {
     "name": "stderr",
     "output_type": "stream",
     "text": [
      "Epoch 107, lr 0.0002: 100% 43/43 [00:12<00:00,  3.43it/s, 0 cls=0.18601, 1 cls=0.25929, 2 cls=0.21925, bce=0.06688, dice=0.87061, loss=0.22197]\n"
     ]
    },
    {
     "name": "stdout",
     "output_type": "stream",
     "text": [
      "loss: 0.14923 | bce: 0.03168 | dice: 0.90051 | 0 cls: 0.11900 | 1 cls: 0.17834 | 2 cls: 0.14053\n"
     ]
    },
    {
     "name": "stderr",
     "output_type": "stream",
     "text": [
      "Epoch 108, lr 0.0002: 100% 43/43 [00:12<00:00,  3.43it/s, 0 cls=0.18513, 1 cls=0.25930, 2 cls=0.21973, bce=0.06528, dice=0.86934, loss=0.22172]\n"
     ]
    },
    {
     "name": "stdout",
     "output_type": "stream",
     "text": [
      "loss: 0.14644 | bce: 0.03219 | dice: 0.90258 | 0 cls: 0.11976 | 1 cls: 0.17275 | 2 cls: 0.13701\n"
     ]
    },
    {
     "name": "stderr",
     "output_type": "stream",
     "text": [
      "Epoch 109, lr 0.0002: 100% 43/43 [00:12<00:00,  3.46it/s, 0 cls=0.18345, 1 cls=0.25952, 2 cls=0.21884, bce=0.06504, dice=0.86998, loss=0.22095]\n"
     ]
    },
    {
     "name": "stdout",
     "output_type": "stream",
     "text": [
      "loss: 0.14752 | bce: 0.03176 | dice: 0.90129 | 0 cls: 0.11915 | 1 cls: 0.17504 | 2 cls: 0.13951\n"
     ]
    },
    {
     "name": "stderr",
     "output_type": "stream",
     "text": [
      "Epoch 110, lr 0.0002: 100% 43/43 [00:12<00:00,  3.44it/s, 0 cls=0.18436, 1 cls=0.25739, 2 cls=0.21764, bce=0.06503, dice=0.87043, loss=0.22023]\n"
     ]
    },
    {
     "name": "stdout",
     "output_type": "stream",
     "text": [
      "loss: 0.15060 | bce: 0.03266 | dice: 0.89922 | 0 cls: 0.12470 | 1 cls: 0.17729 | 2 cls: 0.13915\n"
     ]
    },
    {
     "name": "stderr",
     "output_type": "stream",
     "text": [
      "Epoch 111, lr 0.0002: 100% 43/43 [00:12<00:00,  3.42it/s, 0 cls=0.17792, 1 cls=0.25456, 2 cls=0.21349, bce=0.06299, dice=0.87270, loss=0.21569]\n"
     ]
    },
    {
     "name": "stdout",
     "output_type": "stream",
     "text": [
      "loss: 0.14781 | bce: 0.03275 | dice: 0.90210 | 0 cls: 0.12190 | 1 cls: 0.17420 | 2 cls: 0.13580\n"
     ]
    },
    {
     "name": "stderr",
     "output_type": "stream",
     "text": [
      "Epoch 112, lr 0.0002: 100% 43/43 [00:12<00:00,  3.44it/s, 0 cls=0.19291, 1 cls=0.26610, 2 cls=0.22691, bce=0.06744, dice=0.86515, loss=0.22898]\n"
     ]
    },
    {
     "name": "stdout",
     "output_type": "stream",
     "text": [
      "loss: 0.14645 | bce: 0.03189 | dice: 0.90187 | 0 cls: 0.12120 | 1 cls: 0.17114 | 2 cls: 0.13748\n"
     ]
    },
    {
     "name": "stderr",
     "output_type": "stream",
     "text": [
      "Epoch 113, lr 0.0002: 100% 43/43 [00:12<00:00,  3.43it/s, 0 cls=0.18163, 1 cls=0.25701, 2 cls=0.21581, bce=0.06439, dice=0.87130, loss=0.21862]\n"
     ]
    },
    {
     "name": "stdout",
     "output_type": "stream",
     "text": [
      "loss: 0.14571 | bce: 0.03011 | dice: 0.90091 | 0 cls: 0.11996 | 1 cls: 0.16997 | 2 cls: 0.13726\n"
     ]
    },
    {
     "name": "stderr",
     "output_type": "stream",
     "text": [
      "Epoch 114, lr 0.0002: 100% 43/43 [00:12<00:00,  3.41it/s, 0 cls=0.17711, 1 cls=0.24993, 2 cls=0.21142, bce=0.06354, dice=0.87484, loss=0.21310]\n"
     ]
    },
    {
     "name": "stdout",
     "output_type": "stream",
     "text": [
      "loss: 0.14738 | bce: 0.03295 | dice: 0.90217 | 0 cls: 0.12526 | 1 cls: 0.17086 | 2 cls: 0.13494\n"
     ]
    },
    {
     "name": "stderr",
     "output_type": "stream",
     "text": [
      "Epoch 115, lr 0.0002: 100% 43/43 [00:12<00:00,  3.43it/s, 0 cls=0.19031, 1 cls=0.26163, 2 cls=0.22258, bce=0.06683, dice=0.86758, loss=0.22530]\n"
     ]
    },
    {
     "name": "stdout",
     "output_type": "stream",
     "text": [
      "loss: 0.14789 | bce: 0.03221 | dice: 0.90127 | 0 cls: 0.11991 | 1 cls: 0.17424 | 2 cls: 0.14053\n"
     ]
    },
    {
     "name": "stderr",
     "output_type": "stream",
     "text": [
      "Epoch 116, lr 0.0002: 100% 43/43 [00:12<00:00,  3.45it/s, 0 cls=0.18187, 1 cls=0.25572, 2 cls=0.21502, bce=0.06415, dice=0.87167, loss=0.21804]\n"
     ]
    },
    {
     "name": "stdout",
     "output_type": "stream",
     "text": [
      "loss: 0.14405 | bce: 0.03078 | dice: 0.90252 | 0 cls: 0.11940 | 1 cls: 0.16866 | 2 cls: 0.13525\n"
     ]
    },
    {
     "name": "stderr",
     "output_type": "stream",
     "text": [
      "Epoch 117, lr 0.0002: 100% 43/43 [00:12<00:00,  3.43it/s, 0 cls=0.19143, 1 cls=0.26391, 2 cls=0.22421, bce=0.06794, dice=0.86719, loss=0.22698]\n"
     ]
    },
    {
     "name": "stdout",
     "output_type": "stream",
     "text": [
      "loss: 0.14877 | bce: 0.03236 | dice: 0.89973 | 0 cls: 0.12671 | 1 cls: 0.17118 | 2 cls: 0.13810\n"
     ]
    },
    {
     "name": "stderr",
     "output_type": "stream",
     "text": [
      "Epoch 118, lr 0.0002: 100% 43/43 [00:12<00:00,  3.44it/s, 0 cls=0.18314, 1 cls=0.25867, 2 cls=0.21765, bce=0.06503, dice=0.87063, loss=0.22025]\n"
     ]
    },
    {
     "name": "stdout",
     "output_type": "stream",
     "text": [
      "loss: 0.14601 | bce: 0.03097 | dice: 0.90184 | 0 cls: 0.11935 | 1 cls: 0.17255 | 2 cls: 0.13653\n"
     ]
    },
    {
     "name": "stderr",
     "output_type": "stream",
     "text": [
      "Epoch 119, lr 0.0002: 100% 43/43 [00:12<00:00,  3.44it/s, 0 cls=0.18752, 1 cls=0.25858, 2 cls=0.22100, bce=0.06533, dice=0.86812, loss=0.22264]\n"
     ]
    },
    {
     "name": "stdout",
     "output_type": "stream",
     "text": [
      "loss: 0.14403 | bce: 0.03108 | dice: 0.90351 | 0 cls: 0.11846 | 1 cls: 0.16936 | 2 cls: 0.13491\n"
     ]
    },
    {
     "name": "stderr",
     "output_type": "stream",
     "text": [
      "Epoch 120, lr 0.0002: 100% 43/43 [00:12<00:00,  3.44it/s, 0 cls=0.18435, 1 cls=0.25474, 2 cls=0.21653, bce=0.06443, dice=0.87055, loss=0.21894]\n"
     ]
    },
    {
     "name": "stdout",
     "output_type": "stream",
     "text": [
      "loss: 0.14679 | bce: 0.03028 | dice: 0.90008 | 0 cls: 0.12359 | 1 cls: 0.17017 | 2 cls: 0.13626\n"
     ]
    },
    {
     "name": "stderr",
     "output_type": "stream",
     "text": [
      "Epoch 121, lr 0.0002: 100% 43/43 [00:12<00:00,  3.41it/s, 0 cls=0.17916, 1 cls=0.25371, 2 cls=0.21367, bce=0.06362, dice=0.87290, loss=0.21588]\n"
     ]
    },
    {
     "name": "stdout",
     "output_type": "stream",
     "text": [
      "loss: 0.14694 | bce: 0.02993 | dice: 0.89938 | 0 cls: 0.12320 | 1 cls: 0.17061 | 2 cls: 0.13782\n"
     ]
    },
    {
     "name": "stderr",
     "output_type": "stream",
     "text": [
      "Epoch 122, lr 0.0002: 100% 43/43 [00:12<00:00,  3.43it/s, 0 cls=0.18550, 1 cls=0.26170, 2 cls=0.22067, bce=0.06555, dice=0.86888, loss=0.22301]\n"
     ]
    },
    {
     "name": "stdout",
     "output_type": "stream",
     "text": [
      "loss: 0.14513 | bce: 0.03187 | dice: 0.90376 | 0 cls: 0.11880 | 1 cls: 0.17233 | 2 cls: 0.13400\n"
     ]
    },
    {
     "name": "stderr",
     "output_type": "stream",
     "text": [
      "Epoch 123, lr 0.0002: 100% 43/43 [00:12<00:00,  3.43it/s, 0 cls=0.17725, 1 cls=0.25353, 2 cls=0.21255, bce=0.06311, dice=0.87351, loss=0.21482]\n"
     ]
    },
    {
     "name": "stdout",
     "output_type": "stream",
     "text": [
      "loss: 0.14513 | bce: 0.03100 | dice: 0.90263 | 0 cls: 0.11826 | 1 cls: 0.17222 | 2 cls: 0.13580\n"
     ]
    },
    {
     "name": "stderr",
     "output_type": "stream",
     "text": [
      "Epoch 124, lr 0.0002: 100% 43/43 [00:12<00:00,  3.42it/s, 0 cls=0.19264, 1 cls=0.26616, 2 cls=0.22637, bce=0.06667, dice=0.86467, loss=0.22879]\n"
     ]
    },
    {
     "name": "stdout",
     "output_type": "stream",
     "text": [
      "loss: 0.14639 | bce: 0.03147 | dice: 0.90193 | 0 cls: 0.12019 | 1 cls: 0.17174 | 2 cls: 0.13724\n"
     ]
    },
    {
     "name": "stderr",
     "output_type": "stream",
     "text": [
      "Epoch 125, lr 0.0002: 100% 43/43 [00:12<00:00,  3.44it/s, 0 cls=0.18344, 1 cls=0.25950, 2 cls=0.21824, bce=0.06468, dice=0.86981, loss=0.22083]\n"
     ]
    },
    {
     "name": "stdout",
     "output_type": "stream",
     "text": [
      "loss: 0.14827 | bce: 0.03257 | dice: 0.90089 | 0 cls: 0.12485 | 1 cls: 0.17089 | 2 cls: 0.13837\n"
     ]
    },
    {
     "name": "stderr",
     "output_type": "stream",
     "text": [
      "Epoch 126, lr 0.0002: 100% 43/43 [00:12<00:00,  3.42it/s, 0 cls=0.18657, 1 cls=0.25862, 2 cls=0.21940, bce=0.06588, dice=0.86949, loss=0.22195]\n"
     ]
    },
    {
     "name": "stdout",
     "output_type": "stream",
     "text": [
      "loss: 0.14978 | bce: 0.03028 | dice: 0.89765 | 0 cls: 0.12179 | 1 cls: 0.17854 | 2 cls: 0.14018\n"
     ]
    },
    {
     "name": "stderr",
     "output_type": "stream",
     "text": [
      "Epoch 127, lr 0.0002: 100% 43/43 [00:12<00:00,  3.44it/s, 0 cls=0.17973, 1 cls=0.25302, 2 cls=0.21364, bce=0.06376, dice=0.87295, loss=0.21583]\n"
     ]
    },
    {
     "name": "stdout",
     "output_type": "stream",
     "text": [
      "loss: 0.14492 | bce: 0.03225 | dice: 0.90431 | 0 cls: 0.11770 | 1 cls: 0.17207 | 2 cls: 0.13495\n"
     ]
    },
    {
     "name": "stderr",
     "output_type": "stream",
     "text": [
      "Epoch 128, lr 0.0002: 100% 43/43 [00:12<00:00,  3.45it/s, 0 cls=0.18260, 1 cls=0.25886, 2 cls=0.21797, bce=0.06517, dice=0.87077, loss=0.22018]\n"
     ]
    },
    {
     "name": "stdout",
     "output_type": "stream",
     "text": [
      "loss: 0.15167 | bce: 0.03464 | dice: 0.89957 | 0 cls: 0.12626 | 1 cls: 0.17762 | 2 cls: 0.14146\n"
     ]
    },
    {
     "name": "stderr",
     "output_type": "stream",
     "text": [
      "Epoch 129, lr 0.0002: 100% 43/43 [00:12<00:00,  3.43it/s, 0 cls=0.18609, 1 cls=0.26113, 2 cls=0.22206, bce=0.06592, dice=0.86873, loss=0.22330]\n"
     ]
    },
    {
     "name": "stdout",
     "output_type": "stream",
     "text": [
      "loss: 0.14451 | bce: 0.03159 | dice: 0.90395 | 0 cls: 0.11717 | 1 cls: 0.17099 | 2 cls: 0.13574\n"
     ]
    },
    {
     "name": "stderr",
     "output_type": "stream",
     "text": [
      "Epoch 130, lr 0.0002: 100% 43/43 [00:12<00:00,  3.43it/s, 0 cls=0.19026, 1 cls=0.26147, 2 cls=0.22307, bce=0.06542, dice=0.86657, loss=0.22530]\n"
     ]
    },
    {
     "name": "stdout",
     "output_type": "stream",
     "text": [
      "loss: 0.15497 | bce: 0.03515 | dice: 0.89644 | 0 cls: 0.13250 | 1 cls: 0.17884 | 2 cls: 0.14437\n"
     ]
    },
    {
     "name": "stderr",
     "output_type": "stream",
     "text": [
      "Epoch 131, lr 0.0002: 100% 43/43 [00:12<00:00,  3.43it/s, 0 cls=0.18726, 1 cls=0.25839, 2 cls=0.22041, bce=0.06565, dice=0.86898, loss=0.22234]\n"
     ]
    },
    {
     "name": "stdout",
     "output_type": "stream",
     "text": [
      "loss: 0.14433 | bce: 0.03083 | dice: 0.90328 | 0 cls: 0.11777 | 1 cls: 0.17004 | 2 cls: 0.13523\n"
     ]
    },
    {
     "name": "stderr",
     "output_type": "stream",
     "text": [
      "Epoch 132, lr 0.0002: 100% 43/43 [00:12<00:00,  3.44it/s, 0 cls=0.18070, 1 cls=0.25465, 2 cls=0.21539, bce=0.06430, dice=0.87210, loss=0.21722]\n"
     ]
    },
    {
     "name": "stdout",
     "output_type": "stream",
     "text": [
      "loss: 0.14653 | bce: 0.03209 | dice: 0.90213 | 0 cls: 0.12282 | 1 cls: 0.17109 | 2 cls: 0.13497\n"
     ]
    },
    {
     "name": "stderr",
     "output_type": "stream",
     "text": [
      "Epoch 133, lr 0.0002: 100% 43/43 [00:12<00:00,  3.43it/s, 0 cls=0.17543, 1 cls=0.24909, 2 cls=0.20994, bce=0.06227, dice=0.87496, loss=0.21180]\n"
     ]
    },
    {
     "name": "stdout",
     "output_type": "stream",
     "text": [
      "loss: 0.14512 | bce: 0.03073 | dice: 0.90176 | 0 cls: 0.12205 | 1 cls: 0.16878 | 2 cls: 0.13484\n"
     ]
    },
    {
     "name": "stderr",
     "output_type": "stream",
     "text": [
      "Epoch 134, lr 0.0002: 100% 43/43 [00:12<00:00,  3.43it/s, 0 cls=0.18224, 1 cls=0.25506, 2 cls=0.21600, bce=0.06387, dice=0.87115, loss=0.21812]\n"
     ]
    },
    {
     "name": "stdout",
     "output_type": "stream",
     "text": [
      "loss: 0.14539 | bce: 0.03046 | dice: 0.90159 | 0 cls: 0.11983 | 1 cls: 0.17170 | 2 cls: 0.13515\n"
     ]
    },
    {
     "name": "stderr",
     "output_type": "stream",
     "text": [
      "Epoch 135, lr 0.0002: 100% 43/43 [00:12<00:00,  3.43it/s, 0 cls=0.17414, 1 cls=0.25093, 2 cls=0.21026, bce=0.06233, dice=0.87514, loss=0.21208]\n"
     ]
    },
    {
     "name": "stdout",
     "output_type": "stream",
     "text": [
      "loss: 0.14411 | bce: 0.03159 | dice: 0.90390 | 0 cls: 0.11759 | 1 cls: 0.17089 | 2 cls: 0.13431\n"
     ]
    },
    {
     "name": "stderr",
     "output_type": "stream",
     "text": [
      "Epoch 136, lr 0.0002: 100% 43/43 [00:12<00:00,  3.44it/s, 0 cls=0.18556, 1 cls=0.25642, 2 cls=0.21857, bce=0.06558, dice=0.87038, loss=0.22051]\n"
     ]
    },
    {
     "name": "stdout",
     "output_type": "stream",
     "text": [
      "loss: 0.14487 | bce: 0.02968 | dice: 0.90083 | 0 cls: 0.12032 | 1 cls: 0.17018 | 2 cls: 0.13598\n"
     ]
    },
    {
     "name": "stderr",
     "output_type": "stream",
     "text": [
      "Epoch 137, lr 0.0002: 100% 43/43 [00:12<00:00,  3.42it/s, 0 cls=0.18295, 1 cls=0.25504, 2 cls=0.21619, bce=0.06470, dice=0.87143, loss=0.21843]\n"
     ]
    },
    {
     "name": "stdout",
     "output_type": "stream",
     "text": [
      "loss: 0.14685 | bce: 0.03200 | dice: 0.90249 | 0 cls: 0.11782 | 1 cls: 0.17535 | 2 cls: 0.13823\n"
     ]
    },
    {
     "name": "stderr",
     "output_type": "stream",
     "text": [
      "Epoch 138, lr 0.0002: 100% 43/43 [00:12<00:00,  3.43it/s, 0 cls=0.19232, 1 cls=0.26223, 2 cls=0.22479, bce=0.06670, dice=0.86602, loss=0.22678]\n"
     ]
    },
    {
     "name": "stdout",
     "output_type": "stream",
     "text": [
      "loss: 0.14836 | bce: 0.03212 | dice: 0.89979 | 0 cls: 0.12627 | 1 cls: 0.17086 | 2 cls: 0.13889\n"
     ]
    },
    {
     "name": "stderr",
     "output_type": "stream",
     "text": [
      "Epoch 139, lr 0.0002: 100% 43/43 [00:12<00:00,  3.43it/s, 0 cls=0.18663, 1 cls=0.25585, 2 cls=0.21847, bce=0.06562, dice=0.86978, loss=0.22068]\n"
     ]
    },
    {
     "name": "stdout",
     "output_type": "stream",
     "text": [
      "loss: 0.15260 | bce: 0.03160 | dice: 0.89508 | 0 cls: 0.13357 | 1 cls: 0.17287 | 2 cls: 0.14205\n"
     ]
    },
    {
     "name": "stderr",
     "output_type": "stream",
     "text": [
      "Epoch 140, lr 0.0002: 100% 43/43 [00:12<00:00,  3.44it/s, 0 cls=0.18715, 1 cls=0.25543, 2 cls=0.21766, bce=0.06597, dice=0.87053, loss=0.22056]\n"
     ]
    },
    {
     "name": "stdout",
     "output_type": "stream",
     "text": [
      "loss: 0.14760 | bce: 0.02913 | dice: 0.89830 | 0 cls: 0.12234 | 1 cls: 0.17306 | 2 cls: 0.13894\n"
     ]
    },
    {
     "name": "stderr",
     "output_type": "stream",
     "text": [
      "Epoch 141, lr 0.0002: 100% 43/43 [00:12<00:00,  3.41it/s, 0 cls=0.18142, 1 cls=0.25678, 2 cls=0.21591, bce=0.06428, dice=0.87139, loss=0.21846]\n"
     ]
    },
    {
     "name": "stdout",
     "output_type": "stream",
     "text": [
      "loss: 0.14598 | bce: 0.03066 | dice: 0.90116 | 0 cls: 0.12353 | 1 cls: 0.16965 | 2 cls: 0.13426\n"
     ]
    },
    {
     "name": "stderr",
     "output_type": "stream",
     "text": [
      "Epoch 142, lr 0.0002: 100% 43/43 [00:12<00:00,  3.42it/s, 0 cls=0.18976, 1 cls=0.25966, 2 cls=0.22221, bce=0.06574, dice=0.86741, loss=0.22421]\n"
     ]
    },
    {
     "name": "stdout",
     "output_type": "stream",
     "text": [
      "loss: 0.15135 | bce: 0.03429 | dice: 0.89901 | 0 cls: 0.13189 | 1 cls: 0.17183 | 2 cls: 0.13957\n"
     ]
    },
    {
     "name": "stderr",
     "output_type": "stream",
     "text": [
      "Epoch 143, lr 0.0002: 100% 43/43 [00:12<00:00,  3.43it/s, 0 cls=0.18033, 1 cls=0.25733, 2 cls=0.21633, bce=0.06465, dice=0.87177, loss=0.21833]\n"
     ]
    },
    {
     "name": "stdout",
     "output_type": "stream",
     "text": [
      "loss: 0.14758 | bce: 0.03182 | dice: 0.90138 | 0 cls: 0.12105 | 1 cls: 0.17384 | 2 cls: 0.13804\n"
     ]
    },
    {
     "name": "stderr",
     "output_type": "stream",
     "text": [
      "Epoch 144, lr 0.0002: 100% 43/43 [00:12<00:00,  3.42it/s, 0 cls=0.17742, 1 cls=0.25204, 2 cls=0.21152, bce=0.06322, dice=0.87412, loss=0.21408]\n"
     ]
    },
    {
     "name": "stdout",
     "output_type": "stream",
     "text": [
      "loss: 0.14712 | bce: 0.03186 | dice: 0.90150 | 0 cls: 0.12092 | 1 cls: 0.17323 | 2 cls: 0.13684\n"
     ]
    },
    {
     "name": "stderr",
     "output_type": "stream",
     "text": [
      "Epoch 145, lr 0.0002: 100% 43/43 [00:12<00:00,  3.44it/s, 0 cls=0.17767, 1 cls=0.25144, 2 cls=0.21186, bce=0.06304, dice=0.87377, loss=0.21401]\n"
     ]
    },
    {
     "name": "stdout",
     "output_type": "stream",
     "text": [
      "loss: 0.14678 | bce: 0.03164 | dice: 0.90135 | 0 cls: 0.12114 | 1 cls: 0.17203 | 2 cls: 0.13775\n"
     ]
    },
    {
     "name": "stderr",
     "output_type": "stream",
     "text": [
      "Epoch 146, lr 0.0002: 100% 43/43 [00:12<00:00,  3.41it/s, 0 cls=0.18037, 1 cls=0.25762, 2 cls=0.21682, bce=0.06471, dice=0.87184, loss=0.21856]\n"
     ]
    },
    {
     "name": "stdout",
     "output_type": "stream",
     "text": [
      "loss: 0.14810 | bce: 0.03061 | dice: 0.89862 | 0 cls: 0.12873 | 1 cls: 0.16897 | 2 cls: 0.13594\n"
     ]
    },
    {
     "name": "stderr",
     "output_type": "stream",
     "text": [
      "Epoch 147, lr 0.0002: 100% 43/43 [00:12<00:00,  3.43it/s, 0 cls=0.17994, 1 cls=0.25245, 2 cls=0.21336, bce=0.06370, dice=0.87278, loss=0.21563]\n"
     ]
    },
    {
     "name": "stdout",
     "output_type": "stream",
     "text": [
      "loss: 0.14524 | bce: 0.03111 | dice: 0.90307 | 0 cls: 0.11821 | 1 cls: 0.17206 | 2 cls: 0.13538\n"
     ]
    },
    {
     "name": "stderr",
     "output_type": "stream",
     "text": [
      "Epoch 148, lr 0.0002: 100% 43/43 [00:12<00:00,  3.43it/s, 0 cls=0.18984, 1 cls=0.25849, 2 cls=0.22238, bce=0.06590, dice=0.86756, loss=0.22381]\n"
     ]
    },
    {
     "name": "stdout",
     "output_type": "stream",
     "text": [
      "loss: 0.14821 | bce: 0.03234 | dice: 0.90022 | 0 cls: 0.12971 | 1 cls: 0.16788 | 2 cls: 0.13561\n"
     ]
    },
    {
     "name": "stderr",
     "output_type": "stream",
     "text": [
      "Epoch 149, lr 0.0002: 100% 43/43 [00:12<00:00,  3.45it/s, 0 cls=0.18070, 1 cls=0.25624, 2 cls=0.21588, bce=0.06407, dice=0.87161, loss=0.21795]\n"
     ]
    },
    {
     "name": "stdout",
     "output_type": "stream",
     "text": [
      "loss: 0.15394 | bce: 0.03403 | dice: 0.89624 | 0 cls: 0.13989 | 1 cls: 0.17127 | 2 cls: 0.13845\n"
     ]
    },
    {
     "name": "stderr",
     "output_type": "stream",
     "text": [
      "Epoch 150, lr 0.0002: 100% 43/43 [00:12<00:00,  3.41it/s, 0 cls=0.17680, 1 cls=0.24748, 2 cls=0.20936, bce=0.06313, dice=0.87578, loss=0.21159]\n"
     ]
    },
    {
     "name": "stdout",
     "output_type": "stream",
     "text": [
      "loss: 0.14490 | bce: 0.03023 | dice: 0.90121 | 0 cls: 0.12130 | 1 cls: 0.16784 | 2 cls: 0.13640\n"
     ]
    },
    {
     "name": "stderr",
     "output_type": "stream",
     "text": [
      "Epoch 151, lr 0.0002: 100% 43/43 [00:12<00:00,  3.44it/s, 0 cls=0.18631, 1 cls=0.26059, 2 cls=0.22102, bce=0.06545, dice=0.86844, loss=0.22296]\n"
     ]
    },
    {
     "name": "stdout",
     "output_type": "stream",
     "text": [
      "loss: 0.14713 | bce: 0.03220 | dice: 0.90153 | 0 cls: 0.12177 | 1 cls: 0.17315 | 2 cls: 0.13662\n"
     ]
    },
    {
     "name": "stderr",
     "output_type": "stream",
     "text": [
      "Epoch 152, lr 0.0002: 100% 43/43 [00:12<00:00,  3.44it/s, 0 cls=0.18014, 1 cls=0.25654, 2 cls=0.21518, bce=0.06423, dice=0.87200, loss=0.21771]\n"
     ]
    },
    {
     "name": "stdout",
     "output_type": "stream",
     "text": [
      "loss: 0.14678 | bce: 0.03052 | dice: 0.90029 | 0 cls: 0.12187 | 1 cls: 0.17144 | 2 cls: 0.13748\n"
     ]
    },
    {
     "name": "stderr",
     "output_type": "stream",
     "text": [
      "Epoch 153, lr 0.0002: 100% 43/43 [00:12<00:00,  3.45it/s, 0 cls=0.17981, 1 cls=0.25616, 2 cls=0.21544, bce=0.06374, dice=0.87182, loss=0.21748]\n"
     ]
    },
    {
     "name": "stdout",
     "output_type": "stream",
     "text": [
      "loss: 0.15567 | bce: 0.03396 | dice: 0.89528 | 0 cls: 0.13151 | 1 cls: 0.17895 | 2 cls: 0.14801\n"
     ]
    },
    {
     "name": "stderr",
     "output_type": "stream",
     "text": [
      "Epoch 154, lr 0.0002: 100% 43/43 [00:12<00:00,  3.42it/s, 0 cls=0.17649, 1 cls=0.24953, 2 cls=0.21037, bce=0.06240, dice=0.87439, loss=0.21248]\n"
     ]
    },
    {
     "name": "stdout",
     "output_type": "stream",
     "text": [
      "loss: 0.14366 | bce: 0.03055 | dice: 0.90287 | 0 cls: 0.12001 | 1 cls: 0.16766 | 2 cls: 0.13387\n"
     ]
    },
    {
     "name": "stderr",
     "output_type": "stream",
     "text": [
      "Epoch 155, lr 0.0002: 100% 43/43 [00:12<00:00,  3.44it/s, 0 cls=0.18400, 1 cls=0.25605, 2 cls=0.21688, bce=0.06516, dice=0.87111, loss=0.21940]\n"
     ]
    },
    {
     "name": "stdout",
     "output_type": "stream",
     "text": [
      "loss: 0.14930 | bce: 0.03190 | dice: 0.89959 | 0 cls: 0.12378 | 1 cls: 0.17679 | 2 cls: 0.13655\n"
     ]
    },
    {
     "name": "stderr",
     "output_type": "stream",
     "text": [
      "Epoch 156, lr 0.0002: 100% 43/43 [00:12<00:00,  3.43it/s, 0 cls=0.17917, 1 cls=0.25482, 2 cls=0.21435, bce=0.06357, dice=0.87244, loss=0.21647]\n"
     ]
    },
    {
     "name": "stdout",
     "output_type": "stream",
     "text": [
      "loss: 0.14590 | bce: 0.03150 | dice: 0.90227 | 0 cls: 0.12080 | 1 cls: 0.17202 | 2 cls: 0.13521\n"
     ]
    },
    {
     "name": "stderr",
     "output_type": "stream",
     "text": [
      "Epoch 157, lr 0.0002: 100% 43/43 [00:12<00:00,  3.43it/s, 0 cls=0.17657, 1 cls=0.25123, 2 cls=0.21200, bce=0.06279, dice=0.87422, loss=0.21352]\n"
     ]
    },
    {
     "name": "stdout",
     "output_type": "stream",
     "text": [
      "loss: 0.14692 | bce: 0.03206 | dice: 0.90229 | 0 cls: 0.11930 | 1 cls: 0.17531 | 2 cls: 0.13743\n"
     ]
    },
    {
     "name": "stderr",
     "output_type": "stream",
     "text": [
      "Epoch 158, lr 0.0002: 100% 43/43 [00:12<00:00,  3.44it/s, 0 cls=0.17777, 1 cls=0.25162, 2 cls=0.21218, bce=0.06403, dice=0.87445, loss=0.21419]\n"
     ]
    },
    {
     "name": "stdout",
     "output_type": "stream",
     "text": [
      "loss: 0.14446 | bce: 0.02929 | dice: 0.90130 | 0 cls: 0.11989 | 1 cls: 0.17006 | 2 cls: 0.13429\n"
     ]
    },
    {
     "name": "stderr",
     "output_type": "stream",
     "text": [
      "Epoch 159, lr 0.0002: 100% 43/43 [00:12<00:00,  3.43it/s, 0 cls=0.18022, 1 cls=0.25296, 2 cls=0.21370, bce=0.06362, dice=0.87275, loss=0.21601]\n"
     ]
    },
    {
     "name": "stdout",
     "output_type": "stream",
     "text": [
      "loss: 0.14409 | bce: 0.03124 | dice: 0.90381 | 0 cls: 0.11655 | 1 cls: 0.17108 | 2 cls: 0.13551\n"
     ]
    },
    {
     "name": "stderr",
     "output_type": "stream",
     "text": [
      "Epoch 160, lr 0.0002: 100% 43/43 [00:12<00:00,  3.44it/s, 0 cls=0.18886, 1 cls=0.26076, 2 cls=0.22197, bce=0.06560, dice=0.86751, loss=0.22424]\n"
     ]
    },
    {
     "name": "stdout",
     "output_type": "stream",
     "text": [
      "loss: 0.15585 | bce: 0.03386 | dice: 0.89406 | 0 cls: 0.14118 | 1 cls: 0.17188 | 2 cls: 0.14191\n"
     ]
    },
    {
     "name": "stderr",
     "output_type": "stream",
     "text": [
      "Epoch 161, lr 0.0002: 100% 43/43 [00:12<00:00,  3.44it/s, 0 cls=0.17498, 1 cls=0.24631, 2 cls=0.20814, bce=0.06226, dice=0.87618, loss=0.21015]\n"
     ]
    },
    {
     "name": "stdout",
     "output_type": "stream",
     "text": [
      "loss: 0.14412 | bce: 0.03063 | dice: 0.90247 | 0 cls: 0.12018 | 1 cls: 0.16835 | 2 cls: 0.13486\n"
     ]
    },
    {
     "name": "stderr",
     "output_type": "stream",
     "text": [
      "Epoch 162, lr 0.0002: 100% 43/43 [00:12<00:00,  3.43it/s, 0 cls=0.18750, 1 cls=0.25809, 2 cls=0.22072, bce=0.06506, dice=0.86873, loss=0.22238]\n"
     ]
    },
    {
     "name": "stdout",
     "output_type": "stream",
     "text": [
      "loss: 0.14352 | bce: 0.03062 | dice: 0.90374 | 0 cls: 0.11591 | 1 cls: 0.17037 | 2 cls: 0.13544\n"
     ]
    },
    {
     "name": "stderr",
     "output_type": "stream",
     "text": [
      "Epoch 163, lr 0.0002: 100% 43/43 [00:12<00:00,  3.45it/s, 0 cls=0.18725, 1 cls=0.25664, 2 cls=0.22018, bce=0.06457, dice=0.86826, loss=0.22159]\n"
     ]
    },
    {
     "name": "stdout",
     "output_type": "stream",
     "text": [
      "loss: 0.15014 | bce: 0.03342 | dice: 0.90083 | 0 cls: 0.12010 | 1 cls: 0.17853 | 2 cls: 0.14312\n"
     ]
    },
    {
     "name": "stderr",
     "output_type": "stream",
     "text": [
      "Epoch 164, lr 0.0002: 100% 43/43 [00:12<00:00,  3.43it/s, 0 cls=0.17441, 1 cls=0.24923, 2 cls=0.20921, bce=0.06245, dice=0.87558, loss=0.21130]\n"
     ]
    },
    {
     "name": "stdout",
     "output_type": "stream",
     "text": [
      "loss: 0.14641 | bce: 0.03042 | dice: 0.90094 | 0 cls: 0.11979 | 1 cls: 0.17297 | 2 cls: 0.13731\n"
     ]
    },
    {
     "name": "stderr",
     "output_type": "stream",
     "text": [
      "Epoch 165, lr 0.0002: 100% 43/43 [00:12<00:00,  3.44it/s, 0 cls=0.17746, 1 cls=0.24848, 2 cls=0.21031, bce=0.06218, dice=0.87407, loss=0.21244]\n"
     ]
    },
    {
     "name": "stdout",
     "output_type": "stream",
     "text": [
      "loss: 0.14773 | bce: 0.03091 | dice: 0.90000 | 0 cls: 0.12109 | 1 cls: 0.17477 | 2 cls: 0.13900\n"
     ]
    },
    {
     "name": "stderr",
     "output_type": "stream",
     "text": [
      "Epoch 166, lr 0.0002: 100% 43/43 [00:12<00:00,  3.41it/s, 0 cls=0.17949, 1 cls=0.25137, 2 cls=0.21262, bce=0.06344, dice=0.87321, loss=0.21487]\n"
     ]
    },
    {
     "name": "stdout",
     "output_type": "stream",
     "text": [
      "loss: 0.14463 | bce: 0.03071 | dice: 0.90249 | 0 cls: 0.11918 | 1 cls: 0.17015 | 2 cls: 0.13539\n"
     ]
    },
    {
     "name": "stderr",
     "output_type": "stream",
     "text": [
      "Epoch 167, lr 0.0002: 100% 43/43 [00:12<00:00,  3.43it/s, 0 cls=0.17689, 1 cls=0.24839, 2 cls=0.21007, bce=0.06220, dice=0.87449, loss=0.21213]\n"
     ]
    },
    {
     "name": "stdout",
     "output_type": "stream",
     "text": [
      "loss: 0.14189 | bce: 0.03014 | dice: 0.90436 | 0 cls: 0.11538 | 1 cls: 0.16784 | 2 cls: 0.13401\n"
     ]
    },
    {
     "name": "stderr",
     "output_type": "stream",
     "text": [
      "Epoch 168, lr 0.0002: 100% 43/43 [00:12<00:00,  3.42it/s, 0 cls=0.19071, 1 cls=0.26012, 2 cls=0.22228, bce=0.06874, dice=0.86977, loss=0.22479]\n"
     ]
    },
    {
     "name": "stdout",
     "output_type": "stream",
     "text": [
      "loss: 0.14428 | bce: 0.03064 | dice: 0.90272 | 0 cls: 0.11743 | 1 cls: 0.17019 | 2 cls: 0.13664\n"
     ]
    },
    {
     "name": "stderr",
     "output_type": "stream",
     "text": [
      "Epoch 169, lr 0.0002: 100% 43/43 [00:12<00:00,  3.42it/s, 0 cls=0.18076, 1 cls=0.25358, 2 cls=0.21391, bce=0.06466, dice=0.87321, loss=0.21652]\n"
     ]
    },
    {
     "name": "stdout",
     "output_type": "stream",
     "text": [
      "loss: 0.14259 | bce: 0.03047 | dice: 0.90368 | 0 cls: 0.11803 | 1 cls: 0.16722 | 2 cls: 0.13328\n"
     ]
    },
    {
     "name": "stderr",
     "output_type": "stream",
     "text": [
      "Epoch 170, lr 0.0002: 100% 43/43 [00:12<00:00,  3.42it/s, 0 cls=0.18042, 1 cls=0.25028, 2 cls=0.21277, bce=0.06362, dice=0.87334, loss=0.21484]\n"
     ]
    },
    {
     "name": "stdout",
     "output_type": "stream",
     "text": [
      "loss: 0.14226 | bce: 0.03045 | dice: 0.90407 | 0 cls: 0.11668 | 1 cls: 0.16736 | 2 cls: 0.13415\n"
     ]
    },
    {
     "name": "stderr",
     "output_type": "stream",
     "text": [
      "Epoch 171, lr 0.0002: 100% 43/43 [00:12<00:00,  3.43it/s, 0 cls=0.17652, 1 cls=0.24617, 2 cls=0.20913, bce=0.06230, dice=0.87523, loss=0.21090]\n"
     ]
    },
    {
     "name": "stdout",
     "output_type": "stream",
     "text": [
      "loss: 0.14689 | bce: 0.03089 | dice: 0.90042 | 0 cls: 0.12157 | 1 cls: 0.17279 | 2 cls: 0.13780\n"
     ]
    },
    {
     "name": "stderr",
     "output_type": "stream",
     "text": [
      "Epoch 172, lr 0.0002: 100% 43/43 [00:12<00:00,  3.42it/s, 0 cls=0.17423, 1 cls=0.24674, 2 cls=0.20779, bce=0.06146, dice=0.87578, loss=0.20994]\n"
     ]
    },
    {
     "name": "stdout",
     "output_type": "stream",
     "text": [
      "loss: 0.14457 | bce: 0.03106 | dice: 0.90265 | 0 cls: 0.11949 | 1 cls: 0.16960 | 2 cls: 0.13570\n"
     ]
    },
    {
     "name": "stderr",
     "output_type": "stream",
     "text": [
      "Epoch 173, lr 0.0002: 100% 43/43 [00:12<00:00,  3.44it/s, 0 cls=0.17594, 1 cls=0.24464, 2 cls=0.20808, bce=0.06178, dice=0.87554, loss=0.20985]\n"
     ]
    },
    {
     "name": "stdout",
     "output_type": "stream",
     "text": [
      "loss: 0.14386 | bce: 0.03130 | dice: 0.90346 | 0 cls: 0.11993 | 1 cls: 0.16858 | 2 cls: 0.13334\n"
     ]
    },
    {
     "name": "stderr",
     "output_type": "stream",
     "text": [
      "Epoch 174, lr 0.0002: 100% 43/43 [00:12<00:00,  3.42it/s, 0 cls=0.17824, 1 cls=0.25024, 2 cls=0.21129, bce=0.06314, dice=0.87398, loss=0.21365]\n"
     ]
    },
    {
     "name": "stdout",
     "output_type": "stream",
     "text": [
      "loss: 0.14351 | bce: 0.03116 | dice: 0.90368 | 0 cls: 0.11836 | 1 cls: 0.16898 | 2 cls: 0.13449\n"
     ]
    },
    {
     "name": "stderr",
     "output_type": "stream",
     "text": [
      "Epoch 175, lr 0.0002: 100% 43/43 [00:12<00:00,  3.43it/s, 0 cls=0.17712, 1 cls=0.24856, 2 cls=0.21028, bce=0.06274, dice=0.87477, loss=0.21233]\n"
     ]
    },
    {
     "name": "stdout",
     "output_type": "stream",
     "text": [
      "loss: 0.15710 | bce: 0.03514 | dice: 0.89390 | 0 cls: 0.14191 | 1 cls: 0.17520 | 2 cls: 0.14368\n"
     ]
    },
    {
     "name": "stderr",
     "output_type": "stream",
     "text": [
      "Epoch 176, lr 0.0002: 100% 43/43 [00:12<00:00,  3.43it/s, 0 cls=0.17967, 1 cls=0.24958, 2 cls=0.21233, bce=0.06260, dice=0.87297, loss=0.21417]\n"
     ]
    },
    {
     "name": "stdout",
     "output_type": "stream",
     "text": [
      "loss: 0.14896 | bce: 0.03246 | dice: 0.90124 | 0 cls: 0.11898 | 1 cls: 0.17811 | 2 cls: 0.14056\n"
     ]
    },
    {
     "name": "stderr",
     "output_type": "stream",
     "text": [
      "Epoch 177, lr 0.0002: 100% 43/43 [00:12<00:00,  3.44it/s, 0 cls=0.18074, 1 cls=0.25344, 2 cls=0.21480, bce=0.06383, dice=0.87219, loss=0.21663]\n"
     ]
    },
    {
     "name": "stdout",
     "output_type": "stream",
     "text": [
      "loss: 0.14443 | bce: 0.03259 | dice: 0.90488 | 0 cls: 0.11832 | 1 cls: 0.17140 | 2 cls: 0.13304\n"
     ]
    },
    {
     "name": "stderr",
     "output_type": "stream",
     "text": [
      "Epoch 178, lr 0.0002: 100% 43/43 [00:12<00:00,  3.43it/s, 0 cls=0.18190, 1 cls=0.25196, 2 cls=0.21339, bce=0.06330, dice=0.87198, loss=0.21622]\n"
     ]
    },
    {
     "name": "stdout",
     "output_type": "stream",
     "text": [
      "loss: 0.14599 | bce: 0.03161 | dice: 0.90240 | 0 cls: 0.12050 | 1 cls: 0.17213 | 2 cls: 0.13574\n"
     ]
    },
    {
     "name": "stderr",
     "output_type": "stream",
     "text": [
      "Epoch 179, lr 0.0002: 100% 43/43 [00:12<00:00,  3.42it/s, 0 cls=0.17766, 1 cls=0.25354, 2 cls=0.21274, bce=0.06290, dice=0.87311, loss=0.21503]\n"
     ]
    },
    {
     "name": "stdout",
     "output_type": "stream",
     "text": [
      "loss: 0.14848 | bce: 0.03415 | dice: 0.90266 | 0 cls: 0.11946 | 1 cls: 0.17655 | 2 cls: 0.14149\n"
     ]
    },
    {
     "name": "stderr",
     "output_type": "stream",
     "text": [
      "Epoch 180, lr 0.0002: 100% 43/43 [00:12<00:00,  3.43it/s, 0 cls=0.17930, 1 cls=0.25021, 2 cls=0.21210, bce=0.06318, dice=0.87372, loss=0.21423]\n"
     ]
    },
    {
     "name": "stdout",
     "output_type": "stream",
     "text": [
      "loss: 0.14389 | bce: 0.02972 | dice: 0.90181 | 0 cls: 0.11977 | 1 cls: 0.16824 | 2 cls: 0.13465\n"
     ]
    },
    {
     "name": "stderr",
     "output_type": "stream",
     "text": [
      "Epoch 181, lr 0.0002: 100% 43/43 [00:12<00:00,  3.40it/s, 0 cls=0.17594, 1 cls=0.24863, 2 cls=0.20918, bce=0.06234, dice=0.87513, loss=0.21166]\n"
     ]
    },
    {
     "name": "stdout",
     "output_type": "stream",
     "text": [
      "loss: 0.14637 | bce: 0.03100 | dice: 0.90145 | 0 cls: 0.11935 | 1 cls: 0.17310 | 2 cls: 0.13753\n"
     ]
    },
    {
     "name": "stderr",
     "output_type": "stream",
     "text": [
      "Epoch 182, lr 0.0002: 100% 43/43 [00:12<00:00,  3.41it/s, 0 cls=0.18016, 1 cls=0.24882, 2 cls=0.21176, bce=0.06312, dice=0.87355, loss=0.21394]\n"
     ]
    },
    {
     "name": "stdout",
     "output_type": "stream",
     "text": [
      "loss: 0.14631 | bce: 0.02961 | dice: 0.89922 | 0 cls: 0.12456 | 1 cls: 0.16993 | 2 cls: 0.13549\n"
     ]
    },
    {
     "name": "stderr",
     "output_type": "stream",
     "text": [
      "Epoch 183, lr 0.0002: 100% 43/43 [00:12<00:00,  3.43it/s, 0 cls=0.18129, 1 cls=0.24822, 2 cls=0.21122, bce=0.06341, dice=0.87351, loss=0.21405]\n"
     ]
    },
    {
     "name": "stdout",
     "output_type": "stream",
     "text": [
      "loss: 0.15066 | bce: 0.03102 | dice: 0.89791 | 0 cls: 0.12330 | 1 cls: 0.17890 | 2 cls: 0.14065\n"
     ]
    },
    {
     "name": "stderr",
     "output_type": "stream",
     "text": [
      "Epoch 184, lr 0.0002: 100% 43/43 [00:12<00:00,  3.43it/s, 0 cls=0.17818, 1 cls=0.24904, 2 cls=0.21153, bce=0.06350, dice=0.87456, loss=0.21319]\n"
     ]
    },
    {
     "name": "stdout",
     "output_type": "stream",
     "text": [
      "loss: 0.14583 | bce: 0.03219 | dice: 0.90352 | 0 cls: 0.11752 | 1 cls: 0.17401 | 2 cls: 0.13662\n"
     ]
    },
    {
     "name": "stderr",
     "output_type": "stream",
     "text": [
      "Epoch 185, lr 0.0002: 100% 43/43 [00:12<00:00,  3.44it/s, 0 cls=0.17538, 1 cls=0.24941, 2 cls=0.20979, bce=0.06174, dice=0.87456, loss=0.21187]\n"
     ]
    },
    {
     "name": "stdout",
     "output_type": "stream",
     "text": [
      "loss: 0.14357 | bce: 0.02953 | dice: 0.90220 | 0 cls: 0.11721 | 1 cls: 0.16926 | 2 cls: 0.13558\n"
     ]
    },
    {
     "name": "stderr",
     "output_type": "stream",
     "text": [
      "Epoch 186, lr 0.0002: 100% 43/43 [00:12<00:00,  3.43it/s, 0 cls=0.17368, 1 cls=0.24720, 2 cls=0.20801, bce=0.06210, dice=0.87634, loss=0.20995]\n"
     ]
    },
    {
     "name": "stdout",
     "output_type": "stream",
     "text": [
      "loss: 0.14608 | bce: 0.03040 | dice: 0.90106 | 0 cls: 0.12012 | 1 cls: 0.17248 | 2 cls: 0.13616\n"
     ]
    },
    {
     "name": "stderr",
     "output_type": "stream",
     "text": [
      "Epoch 187, lr 0.0002: 100% 43/43 [00:12<00:00,  3.42it/s, 0 cls=0.18694, 1 cls=0.25845, 2 cls=0.21910, bce=0.06568, dice=0.86953, loss=0.22198]\n"
     ]
    },
    {
     "name": "stdout",
     "output_type": "stream",
     "text": [
      "loss: 0.14617 | bce: 0.03032 | dice: 0.90048 | 0 cls: 0.11946 | 1 cls: 0.17259 | 2 cls: 0.13818\n"
     ]
    },
    {
     "name": "stderr",
     "output_type": "stream",
     "text": [
      "Epoch 188, lr 0.0002: 100% 43/43 [00:12<00:00,  3.44it/s, 0 cls=0.16938, 1 cls=0.24349, 2 cls=0.20478, bce=0.06073, dice=0.87846, loss=0.20610]\n"
     ]
    },
    {
     "name": "stdout",
     "output_type": "stream",
     "text": [
      "loss: 0.14825 | bce: 0.03314 | dice: 0.90198 | 0 cls: 0.12228 | 1 cls: 0.17450 | 2 cls: 0.13828\n"
     ]
    },
    {
     "name": "stderr",
     "output_type": "stream",
     "text": [
      "Epoch 189, lr 0.0002: 100% 43/43 [00:12<00:00,  3.44it/s, 0 cls=0.17115, 1 cls=0.24380, 2 cls=0.20523, bce=0.06137, dice=0.87805, loss=0.20703]\n"
     ]
    },
    {
     "name": "stdout",
     "output_type": "stream",
     "text": [
      "loss: 0.14330 | bce: 0.02978 | dice: 0.90313 | 0 cls: 0.11710 | 1 cls: 0.16969 | 2 cls: 0.13338\n"
     ]
    },
    {
     "name": "stderr",
     "output_type": "stream",
     "text": [
      "Epoch 190, lr 0.0008: 100% 43/43 [00:12<00:00,  3.44it/s, 0 cls=0.20045, 1 cls=0.26704, 2 cls=0.22480, bce=0.06941, dice=0.86452, loss=0.23196]\n"
     ]
    },
    {
     "name": "stdout",
     "output_type": "stream",
     "text": [
      "loss: 0.20043 | bce: 0.04689 | dice: 0.86189 | 0 cls: 0.22956 | 1 cls: 0.18423 | 2 cls: 0.16928\n"
     ]
    },
    {
     "name": "stderr",
     "output_type": "stream",
     "text": [
      "Epoch 191, lr 0.0008: 100% 43/43 [00:12<00:00,  3.44it/s, 0 cls=0.21566, 1 cls=0.29150, 2 cls=0.24712, bce=0.07595, dice=0.85353, loss=0.25229]\n"
     ]
    },
    {
     "name": "stdout",
     "output_type": "stream",
     "text": [
      "loss: 0.16042 | bce: 0.03325 | dice: 0.89208 | 0 cls: 0.13329 | 1 cls: 0.18935 | 2 cls: 0.14804\n"
     ]
    },
    {
     "name": "stderr",
     "output_type": "stream",
     "text": [
      "Epoch 192, lr 0.00024: 100% 43/43 [00:12<00:00,  3.45it/s, 0 cls=0.19505, 1 cls=0.26831, 2 cls=0.22759, bce=0.06798, dice=0.86433, loss=0.23086]\n"
     ]
    },
    {
     "name": "stdout",
     "output_type": "stream",
     "text": [
      "loss: 0.14576 | bce: 0.03218 | dice: 0.90302 | 0 cls: 0.11943 | 1 cls: 0.17275 | 2 cls: 0.13543\n"
     ]
    },
    {
     "name": "stderr",
     "output_type": "stream",
     "text": [
      "Epoch 193, lr 0.00024: 100% 43/43 [00:12<00:00,  3.42it/s, 0 cls=0.19156, 1 cls=0.26421, 2 cls=0.22390, bce=0.06741, dice=0.86660, loss=0.22709]\n"
     ]
    },
    {
     "name": "stdout",
     "output_type": "stream",
     "text": [
      "loss: 0.14539 | bce: 0.03077 | dice: 0.90202 | 0 cls: 0.11941 | 1 cls: 0.17306 | 2 cls: 0.13421\n"
     ]
    },
    {
     "name": "stderr",
     "output_type": "stream",
     "text": [
      "Epoch 194, lr 7.2e-05: 100% 43/43 [00:12<00:00,  3.45it/s, 0 cls=0.18285, 1 cls=0.25498, 2 cls=0.21613, bce=0.06487, dice=0.87169, loss=0.21836]\n"
     ]
    },
    {
     "name": "stdout",
     "output_type": "stream",
     "text": [
      "loss: 0.14511 | bce: 0.03093 | dice: 0.90271 | 0 cls: 0.11837 | 1 cls: 0.17268 | 2 cls: 0.13476\n"
     ]
    },
    {
     "name": "stderr",
     "output_type": "stream",
     "text": [
      "Epoch 195, lr 0.0008: 100% 43/43 [00:12<00:00,  3.42it/s, 0 cls=0.20167, 1 cls=0.27231, 2 cls=0.23223, bce=0.06976, dice=0.86148, loss=0.23603]\n"
     ]
    },
    {
     "name": "stdout",
     "output_type": "stream",
     "text": [
      "loss: 0.16109 | bce: 0.03354 | dice: 0.88995 | 0 cls: 0.13881 | 1 cls: 0.18661 | 2 cls: 0.14632\n"
     ]
    },
    {
     "name": "stderr",
     "output_type": "stream",
     "text": [
      "Epoch 196, lr 0.0008: 100% 43/43 [00:12<00:00,  3.45it/s, 0 cls=0.20146, 1 cls=0.27314, 2 cls=0.23186, bce=0.07229, dice=0.86337, loss=0.23621]\n"
     ]
    },
    {
     "name": "stdout",
     "output_type": "stream",
     "text": [
      "loss: 0.16081 | bce: 0.03186 | dice: 0.88969 | 0 cls: 0.14067 | 1 cls: 0.18499 | 2 cls: 0.14333\n"
     ]
    },
    {
     "name": "stderr",
     "output_type": "stream",
     "text": [
      "Epoch 197, lr 0.00024: 100% 43/43 [00:12<00:00,  3.44it/s, 0 cls=0.19241, 1 cls=0.26274, 2 cls=0.22362, bce=0.06768, dice=0.86692, loss=0.22678]\n"
     ]
    },
    {
     "name": "stdout",
     "output_type": "stream",
     "text": [
      "loss: 0.14905 | bce: 0.03225 | dice: 0.89996 | 0 cls: 0.12339 | 1 cls: 0.17478 | 2 cls: 0.13909\n"
     ]
    },
    {
     "name": "stderr",
     "output_type": "stream",
     "text": [
      "Epoch 198, lr 0.00024: 100% 43/43 [00:12<00:00,  3.44it/s, 0 cls=0.18681, 1 cls=0.25664, 2 cls=0.21860, bce=0.06511, dice=0.86930, loss=0.22110]\n"
     ]
    },
    {
     "name": "stdout",
     "output_type": "stream",
     "text": [
      "loss: 0.14555 | bce: 0.03078 | dice: 0.90169 | 0 cls: 0.12113 | 1 cls: 0.17068 | 2 cls: 0.13485\n"
     ]
    },
    {
     "name": "stderr",
     "output_type": "stream",
     "text": [
      "Epoch 199, lr 7.2e-05: 100% 43/43 [00:12<00:00,  3.45it/s, 0 cls=0.17928, 1 cls=0.25025, 2 cls=0.21210, bce=0.06311, dice=0.87339, loss=0.21423]\n"
     ]
    },
    {
     "name": "stdout",
     "output_type": "stream",
     "text": [
      "loss: 0.14394 | bce: 0.03072 | dice: 0.90300 | 0 cls: 0.11740 | 1 cls: 0.17115 | 2 cls: 0.13452\n"
     ]
    },
    {
     "name": "stderr",
     "output_type": "stream",
     "text": [
      "Epoch 200, lr 0.0001: 100% 43/43 [00:12<00:00,  3.44it/s, 0 cls=0.17900, 1 cls=0.25009, 2 cls=0.21211, bce=0.06387, dice=0.87427, loss=0.21406]\n"
     ]
    },
    {
     "name": "stdout",
     "output_type": "stream",
     "text": [
      "loss: 0.14449 | bce: 0.03144 | dice: 0.90336 | 0 cls: 0.11783 | 1 cls: 0.17105 | 2 cls: 0.13599\n"
     ]
    },
    {
     "name": "stderr",
     "output_type": "stream",
     "text": [
      "Epoch 201, lr 0.0001: 100% 43/43 [00:12<00:00,  3.41it/s, 0 cls=0.17728, 1 cls=0.24866, 2 cls=0.21062, bce=0.06234, dice=0.87415, loss=0.21250]\n"
     ]
    },
    {
     "name": "stdout",
     "output_type": "stream",
     "text": [
      "loss: 0.14648 | bce: 0.03141 | dice: 0.90189 | 0 cls: 0.11895 | 1 cls: 0.17341 | 2 cls: 0.13819\n"
     ]
    },
    {
     "name": "stderr",
     "output_type": "stream",
     "text": [
      "Epoch 202, lr 0.0001: 100% 43/43 [00:12<00:00,  3.43it/s, 0 cls=0.17401, 1 cls=0.24703, 2 cls=0.20816, bce=0.06242, dice=0.87650, loss=0.21005]\n"
     ]
    },
    {
     "name": "stdout",
     "output_type": "stream",
     "text": [
      "loss: 0.14464 | bce: 0.03099 | dice: 0.90280 | 0 cls: 0.11799 | 1 cls: 0.17155 | 2 cls: 0.13558\n"
     ]
    },
    {
     "name": "stderr",
     "output_type": "stream",
     "text": [
      "Epoch 203, lr 0.0001: 100% 43/43 [00:12<00:00,  3.42it/s, 0 cls=0.17303, 1 cls=0.24700, 2 cls=0.20830, bce=0.06135, dice=0.87601, loss=0.20967]\n"
     ]
    },
    {
     "name": "stdout",
     "output_type": "stream",
     "text": [
      "loss: 0.14501 | bce: 0.03112 | dice: 0.90250 | 0 cls: 0.11966 | 1 cls: 0.17068 | 2 cls: 0.13559\n"
     ]
    },
    {
     "name": "stderr",
     "output_type": "stream",
     "text": [
      "Epoch 204, lr 0.0001: 100% 43/43 [00:12<00:00,  3.44it/s, 0 cls=0.18199, 1 cls=0.25449, 2 cls=0.21606, bce=0.06466, dice=0.87176, loss=0.21780]\n"
     ]
    },
    {
     "name": "stdout",
     "output_type": "stream",
     "text": [
      "loss: 0.14590 | bce: 0.03020 | dice: 0.90057 | 0 cls: 0.11939 | 1 cls: 0.17220 | 2 cls: 0.13822\n"
     ]
    },
    {
     "name": "stderr",
     "output_type": "stream",
     "text": [
      "Epoch 205, lr 0.0001: 100% 43/43 [00:12<00:00,  3.44it/s, 0 cls=0.17490, 1 cls=0.24570, 2 cls=0.20757, bce=0.06175, dice=0.87600, loss=0.20976]\n"
     ]
    },
    {
     "name": "stdout",
     "output_type": "stream",
     "text": [
      "loss: 0.14430 | bce: 0.03273 | dice: 0.90474 | 0 cls: 0.11901 | 1 cls: 0.17029 | 2 cls: 0.13387\n"
     ]
    },
    {
     "name": "stderr",
     "output_type": "stream",
     "text": [
      "Epoch 206, lr 0.0001: 100% 43/43 [00:12<00:00,  3.43it/s, 0 cls=0.18108, 1 cls=0.25286, 2 cls=0.21470, bce=0.06428, dice=0.87262, loss=0.21651]\n"
     ]
    },
    {
     "name": "stdout",
     "output_type": "stream",
     "text": [
      "loss: 0.14495 | bce: 0.03061 | dice: 0.90204 | 0 cls: 0.11947 | 1 cls: 0.17040 | 2 cls: 0.13601\n"
     ]
    },
    {
     "name": "stderr",
     "output_type": "stream",
     "text": [
      "Epoch 207, lr 0.0001: 100% 43/43 [00:12<00:00,  3.44it/s, 0 cls=0.17704, 1 cls=0.24767, 2 cls=0.20993, bce=0.06265, dice=0.87498, loss=0.21187]\n"
     ]
    },
    {
     "name": "stdout",
     "output_type": "stream",
     "text": [
      "loss: 0.14391 | bce: 0.03123 | dice: 0.90360 | 0 cls: 0.11808 | 1 cls: 0.16995 | 2 cls: 0.13447\n"
     ]
    },
    {
     "name": "stderr",
     "output_type": "stream",
     "text": [
      "Epoch 208, lr 0.0001: 100% 43/43 [00:12<00:00,  3.44it/s, 0 cls=0.17901, 1 cls=0.25025, 2 cls=0.21283, bce=0.06320, dice=0.87348, loss=0.21427]\n"
     ]
    },
    {
     "name": "stdout",
     "output_type": "stream",
     "text": [
      "loss: 0.14377 | bce: 0.03124 | dice: 0.90381 | 0 cls: 0.11806 | 1 cls: 0.16964 | 2 cls: 0.13422\n"
     ]
    },
    {
     "name": "stderr",
     "output_type": "stream",
     "text": [
      "Epoch 209, lr 0.0001: 100% 43/43 [00:12<00:00,  3.44it/s, 0 cls=0.17096, 1 cls=0.24526, 2 cls=0.20570, bce=0.06161, dice=0.87795, loss=0.20763]\n"
     ]
    },
    {
     "name": "stdout",
     "output_type": "stream",
     "text": [
      "loss: 0.14262 | bce: 0.03103 | dice: 0.90448 | 0 cls: 0.11806 | 1 cls: 0.16728 | 2 cls: 0.13292\n"
     ]
    },
    {
     "name": "stderr",
     "output_type": "stream",
     "text": [
      "Epoch 210, lr 0.0001: 100% 43/43 [00:12<00:00,  3.44it/s, 0 cls=0.17651, 1 cls=0.24548, 2 cls=0.20863, bce=0.06233, dice=0.87584, loss=0.21052]\n"
     ]
    },
    {
     "name": "stdout",
     "output_type": "stream",
     "text": [
      "loss: 0.14197 | bce: 0.03084 | dice: 0.90481 | 0 cls: 0.11704 | 1 cls: 0.16699 | 2 cls: 0.13266\n"
     ]
    },
    {
     "name": "stderr",
     "output_type": "stream",
     "text": [
      "Epoch 211, lr 0.0001: 100% 43/43 [00:12<00:00,  3.43it/s, 0 cls=0.17361, 1 cls=0.24698, 2 cls=0.20850, bce=0.06170, dice=0.87595, loss=0.20994]\n"
     ]
    },
    {
     "name": "stdout",
     "output_type": "stream",
     "text": [
      "loss: 0.14391 | bce: 0.03108 | dice: 0.90355 | 0 cls: 0.11852 | 1 cls: 0.16886 | 2 cls: 0.13478\n"
     ]
    },
    {
     "name": "stderr",
     "output_type": "stream",
     "text": [
      "Epoch 212, lr 0.0001: 100% 43/43 [00:12<00:00,  3.43it/s, 0 cls=0.17023, 1 cls=0.24121, 2 cls=0.20359, bce=0.06124, dice=0.87921, loss=0.20530]\n"
     ]
    },
    {
     "name": "stdout",
     "output_type": "stream",
     "text": [
      "loss: 0.14522 | bce: 0.03090 | dice: 0.90191 | 0 cls: 0.12081 | 1 cls: 0.16908 | 2 cls: 0.13633\n"
     ]
    },
    {
     "name": "stderr",
     "output_type": "stream",
     "text": [
      "Epoch 213, lr 0.0001: 100% 43/43 [00:12<00:00,  3.44it/s, 0 cls=0.17574, 1 cls=0.24637, 2 cls=0.20958, bce=0.06252, dice=0.87569, loss=0.21076]\n"
     ]
    },
    {
     "name": "stdout",
     "output_type": "stream",
     "text": [
      "loss: 0.14990 | bce: 0.03227 | dice: 0.89791 | 0 cls: 0.13013 | 1 cls: 0.17018 | 2 cls: 0.14059\n"
     ]
    },
    {
     "name": "stderr",
     "output_type": "stream",
     "text": [
      "Epoch 214, lr 0.0001: 100% 43/43 [00:12<00:00,  3.41it/s, 0 cls=0.17840, 1 cls=0.25290, 2 cls=0.21328, bce=0.06357, dice=0.87332, loss=0.21518]\n"
     ]
    },
    {
     "name": "stdout",
     "output_type": "stream",
     "text": [
      "loss: 0.14306 | bce: 0.03078 | dice: 0.90404 | 0 cls: 0.11713 | 1 cls: 0.16865 | 2 cls: 0.13430\n"
     ]
    },
    {
     "name": "stderr",
     "output_type": "stream",
     "text": [
      "Epoch 215, lr 0.0001: 100% 43/43 [00:12<00:00,  3.44it/s, 0 cls=0.17491, 1 cls=0.24781, 2 cls=0.20920, bce=0.06227, dice=0.87557, loss=0.21093]\n"
     ]
    },
    {
     "name": "stdout",
     "output_type": "stream",
     "text": [
      "loss: 0.14630 | bce: 0.03058 | dice: 0.90091 | 0 cls: 0.12084 | 1 cls: 0.17164 | 2 cls: 0.13715\n"
     ]
    },
    {
     "name": "stderr",
     "output_type": "stream",
     "text": [
      "Epoch 216, lr 0.0001: 100% 43/43 [00:12<00:00,  3.45it/s, 0 cls=0.17489, 1 cls=0.24931, 2 cls=0.21027, bce=0.06209, dice=0.87485, loss=0.21173]\n"
     ]
    },
    {
     "name": "stdout",
     "output_type": "stream",
     "text": [
      "loss: 0.14355 | bce: 0.03205 | dice: 0.90481 | 0 cls: 0.11788 | 1 cls: 0.16895 | 2 cls: 0.13435\n"
     ]
    },
    {
     "name": "stderr",
     "output_type": "stream",
     "text": [
      "Epoch 217, lr 0.0001: 100% 43/43 [00:12<00:00,  3.44it/s, 0 cls=0.17821, 1 cls=0.24990, 2 cls=0.21190, bce=0.06381, dice=0.87450, loss=0.21362]\n"
     ]
    },
    {
     "name": "stdout",
     "output_type": "stream",
     "text": [
      "loss: 0.14479 | bce: 0.03051 | dice: 0.90219 | 0 cls: 0.12062 | 1 cls: 0.16967 | 2 cls: 0.13430\n"
     ]
    },
    {
     "name": "stderr",
     "output_type": "stream",
     "text": [
      "Epoch 218, lr 0.0001: 100% 43/43 [00:12<00:00,  3.44it/s, 0 cls=0.17557, 1 cls=0.24645, 2 cls=0.20882, bce=0.06155, dice=0.87514, loss=0.21058]\n"
     ]
    },
    {
     "name": "stdout",
     "output_type": "stream",
     "text": [
      "loss: 0.14466 | bce: 0.03107 | dice: 0.90287 | 0 cls: 0.11859 | 1 cls: 0.17060 | 2 cls: 0.13533\n"
     ]
    },
    {
     "name": "stderr",
     "output_type": "stream",
     "text": [
      "Epoch 219, lr 0.0001: 100% 43/43 [00:12<00:00,  3.42it/s, 0 cls=0.16901, 1 cls=0.24222, 2 cls=0.20337, bce=0.06077, dice=0.87913, loss=0.20517]\n"
     ]
    },
    {
     "name": "stdout",
     "output_type": "stream",
     "text": [
      "loss: 0.14489 | bce: 0.03068 | dice: 0.90227 | 0 cls: 0.12059 | 1 cls: 0.16964 | 2 cls: 0.13461\n"
     ]
    },
    {
     "name": "stderr",
     "output_type": "stream",
     "text": [
      "Epoch 220, lr 0.0001: 100% 43/43 [00:12<00:00,  3.43it/s, 0 cls=0.17652, 1 cls=0.24534, 2 cls=0.20858, bce=0.06188, dice=0.87531, loss=0.21046]\n"
     ]
    },
    {
     "name": "stdout",
     "output_type": "stream",
     "text": [
      "loss: 0.14531 | bce: 0.03160 | dice: 0.90323 | 0 cls: 0.11896 | 1 cls: 0.17186 | 2 cls: 0.13534\n"
     ]
    },
    {
     "name": "stderr",
     "output_type": "stream",
     "text": [
      "Epoch 221, lr 0.0001: 100% 43/43 [00:12<00:00,  3.42it/s, 0 cls=0.17054, 1 cls=0.24426, 2 cls=0.20522, bce=0.06099, dice=0.87795, loss=0.20696]\n"
     ]
    },
    {
     "name": "stdout",
     "output_type": "stream",
     "text": [
      "loss: 0.14388 | bce: 0.03180 | dice: 0.90409 | 0 cls: 0.11981 | 1 cls: 0.16811 | 2 cls: 0.13397\n"
     ]
    },
    {
     "name": "stderr",
     "output_type": "stream",
     "text": [
      "Epoch 222, lr 0.0001: 100% 43/43 [00:12<00:00,  3.42it/s, 0 cls=0.17474, 1 cls=0.24851, 2 cls=0.20949, bce=0.06244, dice=0.87556, loss=0.21120]\n"
     ]
    },
    {
     "name": "stdout",
     "output_type": "stream",
     "text": [
      "loss: 0.14434 | bce: 0.03097 | dice: 0.90291 | 0 cls: 0.11886 | 1 cls: 0.16977 | 2 cls: 0.13543\n"
     ]
    },
    {
     "name": "stderr",
     "output_type": "stream",
     "text": [
      "Epoch 223, lr 0.0001: 100% 43/43 [00:12<00:00,  3.41it/s, 0 cls=0.17529, 1 cls=0.24662, 2 cls=0.20874, bce=0.06217, dice=0.87591, loss=0.21052]\n"
     ]
    },
    {
     "name": "stdout",
     "output_type": "stream",
     "text": [
      "loss: 0.14425 | bce: 0.03078 | dice: 0.90285 | 0 cls: 0.11799 | 1 cls: 0.17002 | 2 cls: 0.13599\n"
     ]
    },
    {
     "name": "stderr",
     "output_type": "stream",
     "text": [
      "Epoch 224, lr 0.0001: 100% 43/43 [00:12<00:00,  3.43it/s, 0 cls=0.16724, 1 cls=0.24114, 2 cls=0.20171, bce=0.06087, dice=0.88051, loss=0.20369]\n"
     ]
    },
    {
     "name": "stdout",
     "output_type": "stream",
     "text": [
      "loss: 0.14567 | bce: 0.03141 | dice: 0.90207 | 0 cls: 0.12371 | 1 cls: 0.16862 | 2 cls: 0.13428\n"
     ]
    },
    {
     "name": "stderr",
     "output_type": "stream",
     "text": [
      "Epoch 225, lr 0.0001: 100% 43/43 [00:12<00:00,  3.43it/s, 0 cls=0.17299, 1 cls=0.24429, 2 cls=0.20676, bce=0.06123, dice=0.87677, loss=0.20826]\n"
     ]
    },
    {
     "name": "stdout",
     "output_type": "stream",
     "text": [
      "loss: 0.14554 | bce: 0.03128 | dice: 0.90224 | 0 cls: 0.12003 | 1 cls: 0.17081 | 2 cls: 0.13684\n"
     ]
    },
    {
     "name": "stderr",
     "output_type": "stream",
     "text": [
      "Epoch 226, lr 0.0001: 100% 43/43 [00:12<00:00,  3.43it/s, 0 cls=0.17247, 1 cls=0.24405, 2 cls=0.20612, bce=0.06216, dice=0.87797, loss=0.20783]\n"
     ]
    },
    {
     "name": "stdout",
     "output_type": "stream",
     "text": [
      "loss: 0.14599 | bce: 0.03145 | dice: 0.90204 | 0 cls: 0.11943 | 1 cls: 0.17189 | 2 cls: 0.13774\n"
     ]
    },
    {
     "name": "stderr",
     "output_type": "stream",
     "text": [
      "Epoch 227, lr 0.0001: 100% 43/43 [00:12<00:00,  3.43it/s, 0 cls=0.16761, 1 cls=0.23933, 2 cls=0.20181, bce=0.06023, dice=0.88015, loss=0.20314]\n"
     ]
    },
    {
     "name": "stdout",
     "output_type": "stream",
     "text": [
      "loss: 0.14469 | bce: 0.03085 | dice: 0.90255 | 0 cls: 0.11957 | 1 cls: 0.17013 | 2 cls: 0.13479\n"
     ]
    },
    {
     "name": "stderr",
     "output_type": "stream",
     "text": [
      "Epoch 228, lr 0.0001: 100% 43/43 [00:12<00:00,  3.41it/s, 0 cls=0.16978, 1 cls=0.24080, 2 cls=0.20333, bce=0.06102, dice=0.87945, loss=0.20490]\n"
     ]
    },
    {
     "name": "stdout",
     "output_type": "stream",
     "text": [
      "loss: 0.14535 | bce: 0.03058 | dice: 0.90110 | 0 cls: 0.12358 | 1 cls: 0.16797 | 2 cls: 0.13469\n"
     ]
    },
    {
     "name": "stderr",
     "output_type": "stream",
     "text": [
      "Epoch 229, lr 0.0001: 100% 43/43 [00:12<00:00,  3.43it/s, 0 cls=0.17973, 1 cls=0.25334, 2 cls=0.21468, bce=0.06360, dice=0.87236, loss=0.21617]\n"
     ]
    },
    {
     "name": "stdout",
     "output_type": "stream",
     "text": [
      "loss: 0.14408 | bce: 0.03143 | dice: 0.90348 | 0 cls: 0.11933 | 1 cls: 0.16877 | 2 cls: 0.13455\n"
     ]
    },
    {
     "name": "stderr",
     "output_type": "stream",
     "text": [
      "Epoch 230, lr 0.0001: 100% 43/43 [00:12<00:00,  3.43it/s, 0 cls=0.16880, 1 cls=0.23939, 2 cls=0.20172, bce=0.06069, dice=0.88031, loss=0.20362]\n"
     ]
    },
    {
     "name": "stdout",
     "output_type": "stream",
     "text": [
      "loss: 0.14504 | bce: 0.03154 | dice: 0.90276 | 0 cls: 0.12041 | 1 cls: 0.16976 | 2 cls: 0.13547\n"
     ]
    },
    {
     "name": "stderr",
     "output_type": "stream",
     "text": [
      "Epoch 231, lr 0.0001: 100% 43/43 [00:12<00:00,  3.43it/s, 0 cls=0.17788, 1 cls=0.24601, 2 cls=0.20953, bce=0.06276, dice=0.87526, loss=0.21146]\n"
     ]
    },
    {
     "name": "stdout",
     "output_type": "stream",
     "text": [
      "loss: 0.14504 | bce: 0.03023 | dice: 0.90157 | 0 cls: 0.11915 | 1 cls: 0.17067 | 2 cls: 0.13629\n"
     ]
    },
    {
     "name": "stderr",
     "output_type": "stream",
     "text": [
      "Epoch 232, lr 0.0001: 100% 43/43 [00:12<00:00,  3.45it/s, 0 cls=0.16693, 1 cls=0.23798, 2 cls=0.19974, bce=0.05997, dice=0.88105, loss=0.20191]\n"
     ]
    },
    {
     "name": "stdout",
     "output_type": "stream",
     "text": [
      "loss: 0.14313 | bce: 0.03139 | dice: 0.90428 | 0 cls: 0.11793 | 1 cls: 0.16779 | 2 cls: 0.13473\n"
     ]
    },
    {
     "name": "stderr",
     "output_type": "stream",
     "text": [
      "Epoch 233, lr 0.0001: 100% 43/43 [00:12<00:00,  3.42it/s, 0 cls=0.17186, 1 cls=0.24267, 2 cls=0.20579, bce=0.06110, dice=0.87763, loss=0.20697]\n"
     ]
    },
    {
     "name": "stdout",
     "output_type": "stream",
     "text": [
      "loss: 0.14326 | bce: 0.03007 | dice: 0.90306 | 0 cls: 0.11807 | 1 cls: 0.16809 | 2 cls: 0.13432\n"
     ]
    },
    {
     "name": "stderr",
     "output_type": "stream",
     "text": [
      "Epoch 234, lr 0.0001: 100% 43/43 [00:12<00:00,  3.42it/s, 0 cls=0.17416, 1 cls=0.24851, 2 cls=0.20945, bce=0.06146, dice=0.87498, loss=0.21096]\n"
     ]
    },
    {
     "name": "stdout",
     "output_type": "stream",
     "text": [
      "loss: 0.14543 | bce: 0.03112 | dice: 0.90238 | 0 cls: 0.11820 | 1 cls: 0.17181 | 2 cls: 0.13762\n"
     ]
    },
    {
     "name": "stderr",
     "output_type": "stream",
     "text": [
      "Epoch 235, lr 0.0001: 100% 43/43 [00:12<00:00,  3.43it/s, 0 cls=0.17594, 1 cls=0.24739, 2 cls=0.20957, bce=0.06315, dice=0.87588, loss=0.21125]\n"
     ]
    },
    {
     "name": "stdout",
     "output_type": "stream",
     "text": [
      "loss: 0.14326 | bce: 0.03121 | dice: 0.90396 | 0 cls: 0.11727 | 1 cls: 0.16889 | 2 cls: 0.13494\n"
     ]
    },
    {
     "name": "stderr",
     "output_type": "stream",
     "text": [
      "Epoch 236, lr 0.0001: 100% 43/43 [00:12<00:00,  3.44it/s, 0 cls=0.16880, 1 cls=0.24509, 2 cls=0.20529, bce=0.06117, dice=0.87863, loss=0.20661]\n"
     ]
    },
    {
     "name": "stdout",
     "output_type": "stream",
     "text": [
      "loss: 0.14243 | bce: 0.03098 | dice: 0.90446 | 0 cls: 0.11740 | 1 cls: 0.16710 | 2 cls: 0.13400\n"
     ]
    },
    {
     "name": "stderr",
     "output_type": "stream",
     "text": [
      "Epoch 237, lr 0.0001: 100% 43/43 [00:12<00:00,  3.43it/s, 0 cls=0.17554, 1 cls=0.24543, 2 cls=0.20855, bce=0.06310, dice=0.87693, loss=0.21010]\n"
     ]
    },
    {
     "name": "stdout",
     "output_type": "stream",
     "text": [
      "loss: 0.14606 | bce: 0.03112 | dice: 0.90222 | 0 cls: 0.11818 | 1 cls: 0.17345 | 2 cls: 0.13745\n"
     ]
    },
    {
     "name": "stderr",
     "output_type": "stream",
     "text": [
      "Epoch 238, lr 0.0001: 100% 43/43 [00:12<00:00,  3.43it/s, 0 cls=0.17223, 1 cls=0.24370, 2 cls=0.20564, bce=0.06136, dice=0.87768, loss=0.20750]\n"
     ]
    },
    {
     "name": "stdout",
     "output_type": "stream",
     "text": [
      "loss: 0.14439 | bce: 0.03092 | dice: 0.90291 | 0 cls: 0.11805 | 1 cls: 0.16979 | 2 cls: 0.13630\n"
     ]
    },
    {
     "name": "stderr",
     "output_type": "stream",
     "text": [
      "Epoch 239, lr 0.0001: 100% 43/43 [00:12<00:00,  3.44it/s, 0 cls=0.16847, 1 cls=0.23862, 2 cls=0.20151, bce=0.06010, dice=0.87999, loss=0.20314]\n"
     ]
    },
    {
     "name": "stdout",
     "output_type": "stream",
     "text": [
      "loss: 0.14409 | bce: 0.03084 | dice: 0.90290 | 0 cls: 0.11880 | 1 cls: 0.16918 | 2 cls: 0.13514\n"
     ]
    },
    {
     "name": "stderr",
     "output_type": "stream",
     "text": [
      "Epoch 240, lr 0.0001: 100% 43/43 [00:12<00:00,  3.43it/s, 0 cls=0.17188, 1 cls=0.24431, 2 cls=0.20578, bce=0.06120, dice=0.87754, loss=0.20763]\n"
     ]
    },
    {
     "name": "stdout",
     "output_type": "stream",
     "text": [
      "loss: 0.14369 | bce: 0.03047 | dice: 0.90309 | 0 cls: 0.11749 | 1 cls: 0.16950 | 2 cls: 0.13542\n"
     ]
    },
    {
     "name": "stderr",
     "output_type": "stream",
     "text": [
      "Epoch 241, lr 0.0001: 100% 43/43 [00:12<00:00,  3.41it/s, 0 cls=0.17503, 1 cls=0.24722, 2 cls=0.20925, bce=0.06296, dice=0.87637, loss=0.21075]\n"
     ]
    },
    {
     "name": "stdout",
     "output_type": "stream",
     "text": [
      "loss: 0.14568 | bce: 0.03098 | dice: 0.90152 | 0 cls: 0.11961 | 1 cls: 0.17152 | 2 cls: 0.13772\n"
     ]
    },
    {
     "name": "stderr",
     "output_type": "stream",
     "text": [
      "Epoch 242, lr 0.0001: 100% 43/43 [00:12<00:00,  3.43it/s, 0 cls=0.17274, 1 cls=0.24235, 2 cls=0.20552, bce=0.06104, dice=0.87738, loss=0.20714]\n"
     ]
    },
    {
     "name": "stdout",
     "output_type": "stream",
     "text": [
      "loss: 0.14461 | bce: 0.03171 | dice: 0.90335 | 0 cls: 0.11870 | 1 cls: 0.17045 | 2 cls: 0.13579\n"
     ]
    },
    {
     "name": "stderr",
     "output_type": "stream",
     "text": [
      "Epoch 243, lr 0.0001: 100% 43/43 [00:12<00:00,  3.43it/s, 0 cls=0.16614, 1 cls=0.23857, 2 cls=0.20075, bce=0.05906, dice=0.88020, loss=0.20203]\n"
     ]
    },
    {
     "name": "stdout",
     "output_type": "stream",
     "text": [
      "loss: 0.14381 | bce: 0.03026 | dice: 0.90249 | 0 cls: 0.11827 | 1 cls: 0.16911 | 2 cls: 0.13543\n"
     ]
    },
    {
     "name": "stderr",
     "output_type": "stream",
     "text": [
      "Epoch 244, lr 0.0001: 100% 43/43 [00:12<00:00,  3.42it/s, 0 cls=0.16687, 1 cls=0.23925, 2 cls=0.20138, bce=0.06023, dice=0.88060, loss=0.20272]\n"
     ]
    },
    {
     "name": "stdout",
     "output_type": "stream",
     "text": [
      "loss: 0.14330 | bce: 0.03097 | dice: 0.90378 | 0 cls: 0.11798 | 1 cls: 0.16845 | 2 cls: 0.13453\n"
     ]
    },
    {
     "name": "stderr",
     "output_type": "stream",
     "text": [
      "Epoch 245, lr 0.0001: 100% 43/43 [00:12<00:00,  3.43it/s, 0 cls=0.16782, 1 cls=0.24193, 2 cls=0.20360, bce=0.06029, dice=0.87917, loss=0.20462]\n"
     ]
    },
    {
     "name": "stdout",
     "output_type": "stream",
     "text": [
      "loss: 0.14487 | bce: 0.03162 | dice: 0.90331 | 0 cls: 0.11796 | 1 cls: 0.17114 | 2 cls: 0.13665\n"
     ]
    },
    {
     "name": "stderr",
     "output_type": "stream",
     "text": [
      "Epoch 246, lr 0.0001: 100% 43/43 [00:12<00:00,  3.44it/s, 0 cls=0.16691, 1 cls=0.23887, 2 cls=0.20145, bce=0.05982, dice=0.88057, loss=0.20260]\n"
     ]
    },
    {
     "name": "stdout",
     "output_type": "stream",
     "text": [
      "loss: 0.14394 | bce: 0.03011 | dice: 0.90233 | 0 cls: 0.11854 | 1 cls: 0.16932 | 2 cls: 0.13474\n"
     ]
    },
    {
     "name": "stderr",
     "output_type": "stream",
     "text": [
      "Epoch 247, lr 0.0001: 100% 43/43 [00:12<00:00,  3.43it/s, 0 cls=0.16723, 1 cls=0.23798, 2 cls=0.20041, bce=0.05979, dice=0.88056, loss=0.20216]\n"
     ]
    },
    {
     "name": "stdout",
     "output_type": "stream",
     "text": [
      "loss: 0.14540 | bce: 0.03011 | dice: 0.90067 | 0 cls: 0.12032 | 1 cls: 0.17042 | 2 cls: 0.13742\n"
     ]
    },
    {
     "name": "stderr",
     "output_type": "stream",
     "text": [
      "Epoch 248, lr 0.0001: 100% 43/43 [00:12<00:00,  3.44it/s, 0 cls=0.17064, 1 cls=0.24581, 2 cls=0.20661, bce=0.06070, dice=0.87701, loss=0.20790]\n"
     ]
    },
    {
     "name": "stdout",
     "output_type": "stream",
     "text": [
      "loss: 0.14322 | bce: 0.03056 | dice: 0.90340 | 0 cls: 0.11794 | 1 cls: 0.16845 | 2 cls: 0.13470\n"
     ]
    },
    {
     "name": "stderr",
     "output_type": "stream",
     "text": [
      "Epoch 249, lr 0.0001: 100% 43/43 [00:12<00:00,  3.42it/s, 0 cls=0.18511, 1 cls=0.25801, 2 cls=0.21945, bce=0.06553, dice=0.86995, loss=0.22114]\n"
     ]
    },
    {
     "name": "stdout",
     "output_type": "stream",
     "text": [
      "loss: 0.14869 | bce: 0.03061 | dice: 0.89802 | 0 cls: 0.12343 | 1 cls: 0.17381 | 2 cls: 0.14085\n"
     ]
    },
    {
     "name": "stderr",
     "output_type": "stream",
     "text": [
      "Epoch 250, lr 0.0001: 100% 43/43 [00:12<00:00,  3.43it/s, 0 cls=0.16832, 1 cls=0.24137, 2 cls=0.20249, bce=0.05972, dice=0.87897, loss=0.20437]\n"
     ]
    },
    {
     "name": "stdout",
     "output_type": "stream",
     "text": [
      "loss: 0.14550 | bce: 0.03354 | dice: 0.90461 | 0 cls: 0.11856 | 1 cls: 0.17150 | 2 cls: 0.13742\n"
     ]
    },
    {
     "name": "stderr",
     "output_type": "stream",
     "text": [
      "Epoch 251, lr 0.0001: 100% 43/43 [00:12<00:00,  3.44it/s, 0 cls=0.17203, 1 cls=0.24203, 2 cls=0.20475, bce=0.06151, dice=0.87835, loss=0.20657]\n"
     ]
    },
    {
     "name": "stdout",
     "output_type": "stream",
     "text": [
      "loss: 0.14368 | bce: 0.03120 | dice: 0.90329 | 0 cls: 0.12002 | 1 cls: 0.16806 | 2 cls: 0.13407\n"
     ]
    },
    {
     "name": "stderr",
     "output_type": "stream",
     "text": [
      "Epoch 252, lr 0.0001: 100% 43/43 [00:12<00:00,  3.44it/s, 0 cls=0.16919, 1 cls=0.24149, 2 cls=0.20381, bce=0.06074, dice=0.87910, loss=0.20503]\n"
     ]
    },
    {
     "name": "stdout",
     "output_type": "stream",
     "text": [
      "loss: 0.14276 | bce: 0.03079 | dice: 0.90360 | 0 cls: 0.11861 | 1 cls: 0.16779 | 2 cls: 0.13350\n"
     ]
    },
    {
     "name": "stderr",
     "output_type": "stream",
     "text": [
      "Epoch 253, lr 0.0001: 100% 43/43 [00:12<00:00,  3.44it/s, 0 cls=0.17376, 1 cls=0.24854, 2 cls=0.20886, bce=0.06192, dice=0.87572, loss=0.21069]\n"
     ]
    },
    {
     "name": "stdout",
     "output_type": "stream",
     "text": [
      "loss: 0.14771 | bce: 0.03221 | dice: 0.90071 | 0 cls: 0.12352 | 1 cls: 0.17246 | 2 cls: 0.13780\n"
     ]
    },
    {
     "name": "stderr",
     "output_type": "stream",
     "text": [
      "Epoch 254, lr 0.0001: 100% 43/43 [00:12<00:00,  3.43it/s, 0 cls=0.16545, 1 cls=0.23850, 2 cls=0.19987, bce=0.05886, dice=0.88053, loss=0.20156]\n"
     ]
    },
    {
     "name": "stdout",
     "output_type": "stream",
     "text": [
      "loss: 0.14364 | bce: 0.03112 | dice: 0.90362 | 0 cls: 0.11816 | 1 cls: 0.16909 | 2 cls: 0.13489\n"
     ]
    },
    {
     "name": "stderr",
     "output_type": "stream",
     "text": [
      "Epoch 255, lr 0.0001: 100% 43/43 [00:12<00:00,  3.43it/s, 0 cls=0.18376, 1 cls=0.25161, 2 cls=0.21506, bce=0.06672, dice=0.87422, loss=0.21716]\n"
     ]
    },
    {
     "name": "stdout",
     "output_type": "stream",
     "text": [
      "loss: 0.14270 | bce: 0.03067 | dice: 0.90426 | 0 cls: 0.11670 | 1 cls: 0.16892 | 2 cls: 0.13342\n"
     ]
    },
    {
     "name": "stderr",
     "output_type": "stream",
     "text": [
      "Epoch 256, lr 0.0001: 100% 43/43 [00:12<00:00,  3.44it/s, 0 cls=0.16687, 1 cls=0.23753, 2 cls=0.20022, bce=0.05955, dice=0.88063, loss=0.20181]\n"
     ]
    },
    {
     "name": "stdout",
     "output_type": "stream",
     "text": [
      "loss: 0.14495 | bce: 0.03143 | dice: 0.90285 | 0 cls: 0.11881 | 1 cls: 0.17142 | 2 cls: 0.13561\n"
     ]
    },
    {
     "name": "stderr",
     "output_type": "stream",
     "text": [
      "Epoch 257, lr 0.0001: 100% 43/43 [00:12<00:00,  3.45it/s, 0 cls=0.16192, 1 cls=0.23398, 2 cls=0.19625, bce=0.05801, dice=0.88297, loss=0.19761]\n"
     ]
    },
    {
     "name": "stdout",
     "output_type": "stream",
     "text": [
      "loss: 0.14345 | bce: 0.03020 | dice: 0.90276 | 0 cls: 0.11853 | 1 cls: 0.16841 | 2 cls: 0.13473\n"
     ]
    },
    {
     "name": "stderr",
     "output_type": "stream",
     "text": [
      "Epoch 258, lr 0.0001: 100% 43/43 [00:12<00:00,  3.42it/s, 0 cls=0.16616, 1 cls=0.23768, 2 cls=0.20043, bce=0.05986, dice=0.88111, loss=0.20162]\n"
     ]
    },
    {
     "name": "stdout",
     "output_type": "stream",
     "text": [
      "loss: 0.14287 | bce: 0.03076 | dice: 0.90374 | 0 cls: 0.11778 | 1 cls: 0.16803 | 2 cls: 0.13434\n"
     ]
    },
    {
     "name": "stderr",
     "output_type": "stream",
     "text": [
      "Epoch 259, lr 0.0001: 100% 43/43 [00:12<00:00,  3.43it/s, 0 cls=0.17160, 1 cls=0.23973, 2 cls=0.20341, bce=0.06053, dice=0.87842, loss=0.20522]\n"
     ]
    },
    {
     "name": "stdout",
     "output_type": "stream",
     "text": [
      "loss: 0.14379 | bce: 0.03121 | dice: 0.90312 | 0 cls: 0.12036 | 1 cls: 0.16827 | 2 cls: 0.13375\n"
     ]
    },
    {
     "name": "stderr",
     "output_type": "stream",
     "text": [
      "Epoch 260, lr 0.0001: 100% 43/43 [00:12<00:00,  3.43it/s, 0 cls=0.16768, 1 cls=0.23923, 2 cls=0.20136, bce=0.06023, dice=0.88035, loss=0.20304]\n"
     ]
    },
    {
     "name": "stdout",
     "output_type": "stream",
     "text": [
      "loss: 0.14429 | bce: 0.03065 | dice: 0.90261 | 0 cls: 0.11940 | 1 cls: 0.16928 | 2 cls: 0.13458\n"
     ]
    },
    {
     "name": "stderr",
     "output_type": "stream",
     "text": [
      "Epoch 261, lr 0.0001: 100% 43/43 [00:12<00:00,  3.44it/s, 0 cls=0.17027, 1 cls=0.24314, 2 cls=0.20571, bce=0.06104, dice=0.87834, loss=0.20651]\n"
     ]
    },
    {
     "name": "stdout",
     "output_type": "stream",
     "text": [
      "loss: 0.14601 | bce: 0.03133 | dice: 0.90175 | 0 cls: 0.11999 | 1 cls: 0.17226 | 2 cls: 0.13638\n"
     ]
    },
    {
     "name": "stderr",
     "output_type": "stream",
     "text": [
      "Epoch 262, lr 0.0001: 100% 43/43 [00:12<00:00,  3.45it/s, 0 cls=0.17851, 1 cls=0.25101, 2 cls=0.21348, bce=0.06298, dice=0.87321, loss=0.21450]\n"
     ]
    },
    {
     "name": "stdout",
     "output_type": "stream",
     "text": [
      "loss: 0.14554 | bce: 0.03199 | dice: 0.90336 | 0 cls: 0.11741 | 1 cls: 0.17356 | 2 cls: 0.13673\n"
     ]
    },
    {
     "name": "stderr",
     "output_type": "stream",
     "text": [
      "Epoch 263, lr 0.0001: 100% 43/43 [00:12<00:00,  3.46it/s, 0 cls=0.17408, 1 cls=0.24379, 2 cls=0.20698, bce=0.06232, dice=0.87722, loss=0.20855]\n"
     ]
    },
    {
     "name": "stdout",
     "output_type": "stream",
     "text": [
      "loss: 0.14502 | bce: 0.03075 | dice: 0.90168 | 0 cls: 0.12077 | 1 cls: 0.16936 | 2 cls: 0.13597\n"
     ]
    },
    {
     "name": "stderr",
     "output_type": "stream",
     "text": [
      "Epoch 264, lr 0.0001: 100% 43/43 [00:12<00:00,  3.43it/s, 0 cls=0.16895, 1 cls=0.24160, 2 cls=0.20337, bce=0.06066, dice=0.87935, loss=0.20489]\n"
     ]
    },
    {
     "name": "stdout",
     "output_type": "stream",
     "text": [
      "loss: 0.14189 | bce: 0.03037 | dice: 0.90424 | 0 cls: 0.11715 | 1 cls: 0.16604 | 2 cls: 0.13324\n"
     ]
    },
    {
     "name": "stderr",
     "output_type": "stream",
     "text": [
      "Epoch 265, lr 0.0001: 100% 43/43 [00:12<00:00,  3.44it/s, 0 cls=0.16873, 1 cls=0.24379, 2 cls=0.20410, bce=0.06067, dice=0.87878, loss=0.20583]\n"
     ]
    },
    {
     "name": "stdout",
     "output_type": "stream",
     "text": [
      "loss: 0.14548 | bce: 0.03136 | dice: 0.90215 | 0 cls: 0.11948 | 1 cls: 0.17121 | 2 cls: 0.13660\n"
     ]
    },
    {
     "name": "stderr",
     "output_type": "stream",
     "text": [
      "Epoch 266, lr 0.0001: 100% 43/43 [00:12<00:00,  3.44it/s, 0 cls=0.17171, 1 cls=0.24198, 2 cls=0.20520, bce=0.06101, dice=0.87797, loss=0.20651]\n"
     ]
    },
    {
     "name": "stdout",
     "output_type": "stream",
     "text": [
      "loss: 0.14301 | bce: 0.03017 | dice: 0.90343 | 0 cls: 0.11723 | 1 cls: 0.16867 | 2 cls: 0.13396\n"
     ]
    },
    {
     "name": "stderr",
     "output_type": "stream",
     "text": [
      "Epoch 267, lr 0.0001: 100% 43/43 [00:12<00:00,  3.44it/s, 0 cls=0.16989, 1 cls=0.24228, 2 cls=0.20497, bce=0.06069, dice=0.87828, loss=0.20586]\n"
     ]
    },
    {
     "name": "stdout",
     "output_type": "stream",
     "text": [
      "loss: 0.14466 | bce: 0.03188 | dice: 0.90341 | 0 cls: 0.11748 | 1 cls: 0.17168 | 2 cls: 0.13597\n"
     ]
    },
    {
     "name": "stderr",
     "output_type": "stream",
     "text": [
      "Epoch 268, lr 0.0001: 100% 43/43 [00:12<00:00,  3.45it/s, 0 cls=0.17106, 1 cls=0.24053, 2 cls=0.20382, bce=0.06079, dice=0.87855, loss=0.20540]\n"
     ]
    },
    {
     "name": "stdout",
     "output_type": "stream",
     "text": [
      "loss: 0.14402 | bce: 0.03015 | dice: 0.90238 | 0 cls: 0.11821 | 1 cls: 0.16993 | 2 cls: 0.13514\n"
     ]
    },
    {
     "name": "stderr",
     "output_type": "stream",
     "text": [
      "Epoch 269, lr 0.0001: 100% 43/43 [00:12<00:00,  3.42it/s, 0 cls=0.17367, 1 cls=0.24533, 2 cls=0.20787, bce=0.06168, dice=0.87638, loss=0.20917]\n"
     ]
    },
    {
     "name": "stdout",
     "output_type": "stream",
     "text": [
      "loss: 0.14345 | bce: 0.03162 | dice: 0.90432 | 0 cls: 0.11783 | 1 cls: 0.16903 | 2 cls: 0.13421\n"
     ]
    },
    {
     "name": "stderr",
     "output_type": "stream",
     "text": [
      "Epoch 270, lr 0.0001: 100% 43/43 [00:12<00:00,  3.42it/s, 0 cls=0.16573, 1 cls=0.23871, 2 cls=0.20015, bce=0.05960, dice=0.88086, loss=0.20180]\n"
     ]
    },
    {
     "name": "stdout",
     "output_type": "stream",
     "text": [
      "loss: 0.14567 | bce: 0.03053 | dice: 0.90199 | 0 cls: 0.11803 | 1 cls: 0.17283 | 2 cls: 0.13701\n"
     ]
    },
    {
     "name": "stderr",
     "output_type": "stream",
     "text": [
      "Epoch 271, lr 0.0001: 100% 43/43 [00:12<00:00,  3.44it/s, 0 cls=0.16515, 1 cls=0.23617, 2 cls=0.19878, bce=0.05930, dice=0.88180, loss=0.20028]\n"
     ]
    },
    {
     "name": "stdout",
     "output_type": "stream",
     "text": [
      "loss: 0.14382 | bce: 0.02982 | dice: 0.90212 | 0 cls: 0.11891 | 1 cls: 0.16835 | 2 cls: 0.13489\n"
     ]
    },
    {
     "name": "stderr",
     "output_type": "stream",
     "text": [
      "Epoch 272, lr 0.0001: 100% 43/43 [00:12<00:00,  3.41it/s, 0 cls=0.17247, 1 cls=0.24298, 2 cls=0.20598, bce=0.06156, dice=0.87767, loss=0.20738]\n"
     ]
    },
    {
     "name": "stdout",
     "output_type": "stream",
     "text": [
      "loss: 0.14373 | bce: 0.03133 | dice: 0.90392 | 0 cls: 0.11762 | 1 cls: 0.16983 | 2 cls: 0.13427\n"
     ]
    },
    {
     "name": "stderr",
     "output_type": "stream",
     "text": [
      "Epoch 273, lr 0.0001: 100% 43/43 [00:12<00:00,  3.43it/s, 0 cls=0.16960, 1 cls=0.23971, 2 cls=0.20277, bce=0.06030, dice=0.87910, loss=0.20428]\n"
     ]
    },
    {
     "name": "stdout",
     "output_type": "stream",
     "text": [
      "loss: 0.14429 | bce: 0.03171 | dice: 0.90395 | 0 cls: 0.11711 | 1 cls: 0.17066 | 2 cls: 0.13607\n"
     ]
    },
    {
     "name": "stderr",
     "output_type": "stream",
     "text": [
      "Epoch 274, lr 0.0001: 100% 43/43 [00:12<00:00,  3.43it/s, 0 cls=0.16974, 1 cls=0.24156, 2 cls=0.20362, bce=0.06106, dice=0.87925, loss=0.20524]\n"
     ]
    },
    {
     "name": "stdout",
     "output_type": "stream",
     "text": [
      "loss: 0.14388 | bce: 0.03026 | dice: 0.90275 | 0 cls: 0.11848 | 1 cls: 0.16872 | 2 cls: 0.13485\n"
     ]
    },
    {
     "name": "stderr",
     "output_type": "stream",
     "text": [
      "Epoch 275, lr 0.0001: 100% 43/43 [00:12<00:00,  3.44it/s, 0 cls=0.16716, 1 cls=0.23887, 2 cls=0.20152, bce=0.06052, dice=0.88069, loss=0.20272]\n"
     ]
    },
    {
     "name": "stdout",
     "output_type": "stream",
     "text": [
      "loss: 0.14854 | bce: 0.03144 | dice: 0.89906 | 0 cls: 0.12580 | 1 cls: 0.17186 | 2 cls: 0.13853\n"
     ]
    },
    {
     "name": "stderr",
     "output_type": "stream",
     "text": [
      "Epoch 276, lr 0.0001: 100% 43/43 [00:12<00:00,  3.44it/s, 0 cls=0.16678, 1 cls=0.23956, 2 cls=0.20175, bce=0.05956, dice=0.87990, loss=0.20288]\n"
     ]
    },
    {
     "name": "stdout",
     "output_type": "stream",
     "text": [
      "loss: 0.14396 | bce: 0.03138 | dice: 0.90367 | 0 cls: 0.11782 | 1 cls: 0.16948 | 2 cls: 0.13533\n"
     ]
    },
    {
     "name": "stderr",
     "output_type": "stream",
     "text": [
      "Epoch 277, lr 0.0001: 100% 43/43 [00:12<00:00,  3.43it/s, 0 cls=0.16454, 1 cls=0.23419, 2 cls=0.19752, bce=0.05914, dice=0.88248, loss=0.19899]\n"
     ]
    },
    {
     "name": "stdout",
     "output_type": "stream",
     "text": [
      "loss: 0.14345 | bce: 0.03058 | dice: 0.90324 | 0 cls: 0.11843 | 1 cls: 0.16882 | 2 cls: 0.13368\n"
     ]
    },
    {
     "name": "stderr",
     "output_type": "stream",
     "text": [
      "Epoch 278, lr 0.0001: 100% 43/43 [00:12<00:00,  3.45it/s, 0 cls=0.16029, 1 cls=0.23433, 2 cls=0.19623, bce=0.05780, dice=0.88339, loss=0.19709]\n"
     ]
    },
    {
     "name": "stdout",
     "output_type": "stream",
     "text": [
      "loss: 0.14477 | bce: 0.03094 | dice: 0.90267 | 0 cls: 0.11974 | 1 cls: 0.17017 | 2 cls: 0.13446\n"
     ]
    },
    {
     "name": "stderr",
     "output_type": "stream",
     "text": [
      "Epoch 279, lr 0.0001: 100% 43/43 [00:12<00:00,  3.44it/s, 0 cls=0.16673, 1 cls=0.23934, 2 cls=0.20111, bce=0.05944, dice=0.88008, loss=0.20265]\n"
     ]
    },
    {
     "name": "stdout",
     "output_type": "stream",
     "text": [
      "loss: 0.14384 | bce: 0.03136 | dice: 0.90378 | 0 cls: 0.11734 | 1 cls: 0.17056 | 2 cls: 0.13445\n"
     ]
    },
    {
     "name": "stderr",
     "output_type": "stream",
     "text": [
      "Epoch 280, lr 0.0001: 100% 43/43 [00:12<00:00,  3.43it/s, 0 cls=0.16863, 1 cls=0.23930, 2 cls=0.20214, bce=0.05975, dice=0.87946, loss=0.20360]\n"
     ]
    },
    {
     "name": "stdout",
     "output_type": "stream",
     "text": [
      "loss: 0.14401 | bce: 0.03093 | dice: 0.90313 | 0 cls: 0.11777 | 1 cls: 0.17000 | 2 cls: 0.13535\n"
     ]
    },
    {
     "name": "stderr",
     "output_type": "stream",
     "text": [
      "Epoch 281, lr 0.0001: 100% 43/43 [00:12<00:00,  3.44it/s, 0 cls=0.17338, 1 cls=0.24363, 2 cls=0.20676, bce=0.06155, dice=0.87701, loss=0.20815]\n"
     ]
    },
    {
     "name": "stdout",
     "output_type": "stream",
     "text": [
      "loss: 0.14411 | bce: 0.03049 | dice: 0.90258 | 0 cls: 0.11815 | 1 cls: 0.16972 | 2 cls: 0.13537\n"
     ]
    },
    {
     "name": "stderr",
     "output_type": "stream",
     "text": [
      "Epoch 282, lr 0.0001: 100% 43/43 [00:12<00:00,  3.42it/s, 0 cls=0.18328, 1 cls=0.24803, 2 cls=0.21466, bce=0.06362, dice=0.87209, loss=0.21546]\n"
     ]
    },
    {
     "name": "stdout",
     "output_type": "stream",
     "text": [
      "loss: 0.14487 | bce: 0.03127 | dice: 0.90270 | 0 cls: 0.11996 | 1 cls: 0.16986 | 2 cls: 0.13516\n"
     ]
    },
    {
     "name": "stderr",
     "output_type": "stream",
     "text": [
      "Epoch 283, lr 0.0001: 100% 43/43 [00:12<00:00,  3.45it/s, 0 cls=0.17198, 1 cls=0.24248, 2 cls=0.20602, bce=0.06068, dice=0.87724, loss=0.20699]\n"
     ]
    },
    {
     "name": "stdout",
     "output_type": "stream",
     "text": [
      "loss: 0.14518 | bce: 0.03095 | dice: 0.90221 | 0 cls: 0.11945 | 1 cls: 0.17091 | 2 cls: 0.13595\n"
     ]
    },
    {
     "name": "stderr",
     "output_type": "stream",
     "text": [
      "Epoch 284, lr 0.0001: 100% 43/43 [00:12<00:00,  3.42it/s, 0 cls=0.16670, 1 cls=0.23922, 2 cls=0.20161, bce=0.05961, dice=0.88004, loss=0.20269]\n"
     ]
    },
    {
     "name": "stdout",
     "output_type": "stream",
     "text": [
      "loss: 0.14300 | bce: 0.03177 | dice: 0.90489 | 0 cls: 0.11712 | 1 cls: 0.16828 | 2 cls: 0.13443\n"
     ]
    },
    {
     "name": "stderr",
     "output_type": "stream",
     "text": [
      "Epoch 285, lr 0.0001: 100% 43/43 [00:12<00:00,  3.42it/s, 0 cls=0.16405, 1 cls=0.23390, 2 cls=0.19782, bce=0.05905, dice=0.88271, loss=0.19875]\n"
     ]
    },
    {
     "name": "stdout",
     "output_type": "stream",
     "text": [
      "loss: 0.14398 | bce: 0.03062 | dice: 0.90293 | 0 cls: 0.11860 | 1 cls: 0.16915 | 2 cls: 0.13478\n"
     ]
    },
    {
     "name": "stderr",
     "output_type": "stream",
     "text": [
      "Epoch 286, lr 0.0001: 100% 43/43 [00:12<00:00,  3.45it/s, 0 cls=0.16767, 1 cls=0.23785, 2 cls=0.20114, bce=0.05944, dice=0.88001, loss=0.20244]\n"
     ]
    },
    {
     "name": "stdout",
     "output_type": "stream",
     "text": [
      "loss: 0.14509 | bce: 0.03144 | dice: 0.90310 | 0 cls: 0.11781 | 1 cls: 0.17185 | 2 cls: 0.13653\n"
     ]
    },
    {
     "name": "stderr",
     "output_type": "stream",
     "text": [
      "Epoch 287, lr 0.0001: 100% 43/43 [00:12<00:00,  3.43it/s, 0 cls=0.17453, 1 cls=0.24330, 2 cls=0.20686, bce=0.06198, dice=0.87710, loss=0.20850]\n"
     ]
    },
    {
     "name": "stdout",
     "output_type": "stream",
     "text": [
      "loss: 0.14334 | bce: 0.03029 | dice: 0.90292 | 0 cls: 0.11855 | 1 cls: 0.16787 | 2 cls: 0.13444\n"
     ]
    },
    {
     "name": "stderr",
     "output_type": "stream",
     "text": [
      "Epoch 288, lr 0.0001: 100% 43/43 [00:12<00:00,  3.45it/s, 0 cls=0.17200, 1 cls=0.24137, 2 cls=0.20512, bce=0.06162, dice=0.87846, loss=0.20638]\n"
     ]
    },
    {
     "name": "stdout",
     "output_type": "stream",
     "text": [
      "loss: 0.14353 | bce: 0.03139 | dice: 0.90368 | 0 cls: 0.11876 | 1 cls: 0.16783 | 2 cls: 0.13479\n"
     ]
    },
    {
     "name": "stderr",
     "output_type": "stream",
     "text": [
      "Epoch 289, lr 0.0001: 100% 43/43 [00:12<00:00,  3.44it/s, 0 cls=0.17282, 1 cls=0.24032, 2 cls=0.20467, bce=0.06155, dice=0.87855, loss=0.20619]\n"
     ]
    },
    {
     "name": "stdout",
     "output_type": "stream",
     "text": [
      "loss: 0.14599 | bce: 0.03007 | dice: 0.90005 | 0 cls: 0.12341 | 1 cls: 0.16909 | 2 cls: 0.13583\n"
     ]
    },
    {
     "name": "stderr",
     "output_type": "stream",
     "text": [
      "Epoch 290, lr 0.0006400000000000002: 100% 43/43 [00:12<00:00,  3.43it/s, 0 cls=0.20361, 1 cls=0.27607, 2 cls=0.23584, bce=0.07164, dice=0.86065, loss=0.23904]\n"
     ]
    },
    {
     "name": "stdout",
     "output_type": "stream",
     "text": [
      "loss: 0.15418 | bce: 0.03417 | dice: 0.89973 | 0 cls: 0.12902 | 1 cls: 0.17911 | 2 cls: 0.13785\n"
     ]
    },
    {
     "name": "stderr",
     "output_type": "stream",
     "text": [
      "Epoch 291, lr 0.0006400000000000002: 100% 43/43 [00:12<00:00,  3.43it/s, 0 cls=0.23120, 1 cls=0.29474, 2 cls=0.25524, bce=0.07906, dice=0.84817, loss=0.26142]\n"
     ]
    },
    {
     "name": "stdout",
     "output_type": "stream",
     "text": [
      "loss: 0.14614 | bce: 0.03322 | dice: 0.90339 | 0 cls: 0.12014 | 1 cls: 0.17098 | 2 cls: 0.13703\n"
     ]
    },
    {
     "name": "stderr",
     "output_type": "stream",
     "text": [
      "Epoch 292, lr 0.00019200000000000003: 100% 43/43 [00:12<00:00,  3.44it/s, 0 cls=0.18724, 1 cls=0.26448, 2 cls=0.22184, bce=0.06682, dice=0.86827, loss=0.22505]\n"
     ]
    },
    {
     "name": "stdout",
     "output_type": "stream",
     "text": [
      "loss: 0.14864 | bce: 0.03227 | dice: 0.90150 | 0 cls: 0.11973 | 1 cls: 0.17782 | 2 cls: 0.13834\n"
     ]
    },
    {
     "name": "stderr",
     "output_type": "stream",
     "text": [
      "Epoch 293, lr 0.00019200000000000003: 100% 43/43 [00:12<00:00,  3.45it/s, 0 cls=0.18484, 1 cls=0.25977, 2 cls=0.21932, bce=0.06654, dice=0.87079, loss=0.22171]\n"
     ]
    },
    {
     "name": "stdout",
     "output_type": "stream",
     "text": [
      "loss: 0.14568 | bce: 0.03066 | dice: 0.90163 | 0 cls: 0.11893 | 1 cls: 0.17229 | 2 cls: 0.13658\n"
     ]
    },
    {
     "name": "stderr",
     "output_type": "stream",
     "text": [
      "Epoch 294, lr 5.760000000000001e-05: 100% 43/43 [00:12<00:00,  3.42it/s, 0 cls=0.17763, 1 cls=0.24780, 2 cls=0.21026, bce=0.06310, dice=0.87494, loss=0.21222]\n"
     ]
    },
    {
     "name": "stdout",
     "output_type": "stream",
     "text": [
      "loss: 0.14412 | bce: 0.03070 | dice: 0.90287 | 0 cls: 0.11839 | 1 cls: 0.16988 | 2 cls: 0.13493\n"
     ]
    },
    {
     "name": "stderr",
     "output_type": "stream",
     "text": [
      "Epoch 295, lr 0.0006400000000000002: 100% 43/43 [00:12<00:00,  3.44it/s, 0 cls=0.19006, 1 cls=0.26514, 2 cls=0.22259, bce=0.06756, dice=0.86778, loss=0.22660]\n"
     ]
    },
    {
     "name": "stdout",
     "output_type": "stream",
     "text": [
      "loss: 0.15739 | bce: 0.03365 | dice: 0.89445 | 0 cls: 0.12833 | 1 cls: 0.18606 | 2 cls: 0.14890\n"
     ]
    },
    {
     "name": "stderr",
     "output_type": "stream",
     "text": [
      "Epoch 296, lr 0.0006400000000000002: 100% 43/43 [00:12<00:00,  3.44it/s, 0 cls=0.19752, 1 cls=0.27498, 2 cls=0.23267, bce=0.07034, dice=0.86251, loss=0.23554]\n"
     ]
    },
    {
     "name": "stdout",
     "output_type": "stream",
     "text": [
      "loss: 0.14832 | bce: 0.03073 | dice: 0.89975 | 0 cls: 0.12139 | 1 cls: 0.17728 | 2 cls: 0.13696\n"
     ]
    },
    {
     "name": "stderr",
     "output_type": "stream",
     "text": [
      "Epoch 297, lr 0.00019200000000000003: 100% 43/43 [00:12<00:00,  3.45it/s, 0 cls=0.19487, 1 cls=0.27014, 2 cls=0.22989, bce=0.06974, dice=0.86474, loss=0.23198]\n"
     ]
    },
    {
     "name": "stdout",
     "output_type": "stream",
     "text": [
      "loss: 0.15275 | bce: 0.03296 | dice: 0.89865 | 0 cls: 0.12082 | 1 cls: 0.18386 | 2 cls: 0.14508\n"
     ]
    },
    {
     "name": "stderr",
     "output_type": "stream",
     "text": [
      "Epoch 298, lr 0.00019200000000000003: 100% 43/43 [00:12<00:00,  3.45it/s, 0 cls=0.17920, 1 cls=0.25132, 2 cls=0.21267, bce=0.06304, dice=0.87314, loss=0.21474]\n"
     ]
    },
    {
     "name": "stdout",
     "output_type": "stream",
     "text": [
      "loss: 0.14497 | bce: 0.03275 | dice: 0.90428 | 0 cls: 0.11986 | 1 cls: 0.17131 | 2 cls: 0.13383\n"
     ]
    },
    {
     "name": "stderr",
     "output_type": "stream",
     "text": [
      "Epoch 299, lr 5.760000000000001e-05: 100% 43/43 [00:12<00:00,  3.42it/s, 0 cls=0.17675, 1 cls=0.25159, 2 cls=0.21186, bce=0.06311, dice=0.87432, loss=0.21371]\n"
     ]
    },
    {
     "name": "stdout",
     "output_type": "stream",
     "text": [
      "loss: 0.14531 | bce: 0.03070 | dice: 0.90188 | 0 cls: 0.11899 | 1 cls: 0.17175 | 2 cls: 0.13656\n"
     ]
    },
    {
     "name": "stderr",
     "output_type": "stream",
     "text": [
      "Epoch 300, lr 5e-05: 100% 43/43 [00:12<00:00,  3.45it/s, 0 cls=0.17615, 1 cls=0.24769, 2 cls=0.20988, bce=0.06257, dice=0.87536, loss=0.21151]\n"
     ]
    },
    {
     "name": "stdout",
     "output_type": "stream",
     "text": [
      "loss: 0.14275 | bce: 0.03125 | dice: 0.90449 | 0 cls: 0.11781 | 1 cls: 0.16866 | 2 cls: 0.13259\n"
     ]
    },
    {
     "name": "stderr",
     "output_type": "stream",
     "text": [
      "Epoch 301, lr 5e-05: 100% 43/43 [00:12<00:00,  3.44it/s, 0 cls=0.17467, 1 cls=0.24636, 2 cls=0.20876, bce=0.06194, dice=0.87582, loss=0.21016]\n"
     ]
    },
    {
     "name": "stdout",
     "output_type": "stream",
     "text": [
      "loss: 0.14365 | bce: 0.03060 | dice: 0.90340 | 0 cls: 0.11746 | 1 cls: 0.17026 | 2 cls: 0.13416\n"
     ]
    },
    {
     "name": "stderr",
     "output_type": "stream",
     "text": [
      "Epoch 302, lr 5e-05: 100% 43/43 [00:12<00:00,  3.45it/s, 0 cls=0.17012, 1 cls=0.24623, 2 cls=0.20703, bce=0.06127, dice=0.87754, loss=0.20795]\n"
     ]
    },
    {
     "name": "stdout",
     "output_type": "stream",
     "text": [
      "loss: 0.14350 | bce: 0.03135 | dice: 0.90400 | 0 cls: 0.11746 | 1 cls: 0.16988 | 2 cls: 0.13441\n"
     ]
    },
    {
     "name": "stderr",
     "output_type": "stream",
     "text": [
      "Epoch 303, lr 5e-05: 100% 43/43 [00:12<00:00,  3.43it/s, 0 cls=0.16759, 1 cls=0.24192, 2 cls=0.20270, bce=0.06023, dice=0.87962, loss=0.20434]\n"
     ]
    },
    {
     "name": "stdout",
     "output_type": "stream",
     "text": [
      "loss: 0.14287 | bce: 0.03109 | dice: 0.90457 | 0 cls: 0.11651 | 1 cls: 0.16987 | 2 cls: 0.13314\n"
     ]
    },
    {
     "name": "stderr",
     "output_type": "stream",
     "text": [
      "Epoch 304, lr 5e-05: 100% 43/43 [00:12<00:00,  3.45it/s, 0 cls=0.18419, 1 cls=0.25105, 2 cls=0.21475, bce=0.06422, dice=0.87153, loss=0.21704]\n"
     ]
    },
    {
     "name": "stdout",
     "output_type": "stream",
     "text": [
      "loss: 0.14352 | bce: 0.03086 | dice: 0.90364 | 0 cls: 0.11740 | 1 cls: 0.17044 | 2 cls: 0.13379\n"
     ]
    },
    {
     "name": "stderr",
     "output_type": "stream",
     "text": [
      "Epoch 305, lr 5e-05: 100% 43/43 [00:12<00:00,  3.44it/s, 0 cls=0.17748, 1 cls=0.25159, 2 cls=0.21311, bce=0.06315, dice=0.87378, loss=0.21425]\n"
     ]
    },
    {
     "name": "stdout",
     "output_type": "stream",
     "text": [
      "loss: 0.14334 | bce: 0.03080 | dice: 0.90367 | 0 cls: 0.11781 | 1 cls: 0.16946 | 2 cls: 0.13370\n"
     ]
    },
    {
     "name": "stderr",
     "output_type": "stream",
     "text": [
      "Epoch 306, lr 5e-05: 100% 43/43 [00:12<00:00,  3.44it/s, 0 cls=0.16816, 1 cls=0.24206, 2 cls=0.20321, bce=0.06028, dice=0.87928, loss=0.20473]\n"
     ]
    },
    {
     "name": "stdout",
     "output_type": "stream",
     "text": [
      "loss: 0.14307 | bce: 0.03051 | dice: 0.90363 | 0 cls: 0.11718 | 1 cls: 0.16959 | 2 cls: 0.13371\n"
     ]
    },
    {
     "name": "stderr",
     "output_type": "stream",
     "text": [
      "Epoch 307, lr 5e-05: 100% 43/43 [00:12<00:00,  3.44it/s, 0 cls=0.17081, 1 cls=0.24433, 2 cls=0.20637, bce=0.06098, dice=0.87758, loss=0.20733]\n"
     ]
    },
    {
     "name": "stdout",
     "output_type": "stream",
     "text": [
      "loss: 0.14343 | bce: 0.03090 | dice: 0.90366 | 0 cls: 0.11725 | 1 cls: 0.16994 | 2 cls: 0.13454\n"
     ]
    },
    {
     "name": "stderr",
     "output_type": "stream",
     "text": [
      "Epoch 308, lr 5e-05: 100% 43/43 [00:12<00:00,  3.43it/s, 0 cls=0.17067, 1 cls=0.24230, 2 cls=0.20473, bce=0.06048, dice=0.87781, loss=0.20614]\n"
     ]
    },
    {
     "name": "stdout",
     "output_type": "stream",
     "text": [
      "loss: 0.14297 | bce: 0.03107 | dice: 0.90434 | 0 cls: 0.11675 | 1 cls: 0.16970 | 2 cls: 0.13391\n"
     ]
    },
    {
     "name": "stderr",
     "output_type": "stream",
     "text": [
      "Epoch 309, lr 5e-05: 100% 43/43 [00:12<00:00,  3.45it/s, 0 cls=0.17690, 1 cls=0.24680, 2 cls=0.21007, bce=0.06317, dice=0.87577, loss=0.21150]\n"
     ]
    },
    {
     "name": "stdout",
     "output_type": "stream",
     "text": [
      "loss: 0.14322 | bce: 0.03042 | dice: 0.90318 | 0 cls: 0.11847 | 1 cls: 0.16884 | 2 cls: 0.13371\n"
     ]
    },
    {
     "name": "stderr",
     "output_type": "stream",
     "text": [
      "Epoch 310, lr 5e-05: 100% 43/43 [00:12<00:00,  3.43it/s, 0 cls=0.16747, 1 cls=0.23980, 2 cls=0.20208, bce=0.05987, dice=0.87982, loss=0.20332]\n"
     ]
    },
    {
     "name": "stdout",
     "output_type": "stream",
     "text": [
      "loss: 0.14384 | bce: 0.03185 | dice: 0.90430 | 0 cls: 0.11740 | 1 cls: 0.17064 | 2 cls: 0.13470\n"
     ]
    },
    {
     "name": "stderr",
     "output_type": "stream",
     "text": [
      "Epoch 311, lr 5e-05: 100% 43/43 [00:12<00:00,  3.46it/s, 0 cls=0.17860, 1 cls=0.24761, 2 cls=0.21139, bce=0.06349, dice=0.87460, loss=0.21276]\n"
     ]
    },
    {
     "name": "stdout",
     "output_type": "stream",
     "text": [
      "loss: 0.14341 | bce: 0.03083 | dice: 0.90364 | 0 cls: 0.11726 | 1 cls: 0.17041 | 2 cls: 0.13407\n"
     ]
    },
    {
     "name": "stderr",
     "output_type": "stream",
     "text": [
      "Epoch 312, lr 5e-05: 100% 43/43 [00:12<00:00,  3.45it/s, 0 cls=0.16609, 1 cls=0.23832, 2 cls=0.20039, bce=0.06003, dice=0.88116, loss=0.20184]\n"
     ]
    },
    {
     "name": "stdout",
     "output_type": "stream",
     "text": [
      "loss: 0.14456 | bce: 0.03089 | dice: 0.90294 | 0 cls: 0.11737 | 1 cls: 0.17186 | 2 cls: 0.13598\n"
     ]
    },
    {
     "name": "stderr",
     "output_type": "stream",
     "text": [
      "Epoch 313, lr 5e-05: 100% 43/43 [00:12<00:00,  3.43it/s, 0 cls=0.17804, 1 cls=0.24733, 2 cls=0.21131, bce=0.06246, dice=0.87406, loss=0.21241]\n"
     ]
    },
    {
     "name": "stdout",
     "output_type": "stream",
     "text": [
      "loss: 0.14260 | bce: 0.03089 | dice: 0.90432 | 0 cls: 0.11666 | 1 cls: 0.16895 | 2 cls: 0.13371\n"
     ]
    },
    {
     "name": "stderr",
     "output_type": "stream",
     "text": [
      "Epoch 314, lr 5e-05: 100% 43/43 [00:12<00:00,  3.44it/s, 0 cls=0.16515, 1 cls=0.23852, 2 cls=0.20036, bce=0.05970, dice=0.88118, loss=0.20154]\n"
     ]
    },
    {
     "name": "stdout",
     "output_type": "stream",
     "text": [
      "loss: 0.14286 | bce: 0.03052 | dice: 0.90381 | 0 cls: 0.11710 | 1 cls: 0.16898 | 2 cls: 0.13392\n"
     ]
    },
    {
     "name": "stderr",
     "output_type": "stream",
     "text": [
      "Epoch 315, lr 5e-05: 100% 43/43 [00:12<00:00,  3.44it/s, 0 cls=0.17072, 1 cls=0.24278, 2 cls=0.20497, bce=0.06166, dice=0.87891, loss=0.20639]\n"
     ]
    },
    {
     "name": "stdout",
     "output_type": "stream",
     "text": [
      "loss: 0.14349 | bce: 0.02993 | dice: 0.90265 | 0 cls: 0.11746 | 1 cls: 0.16975 | 2 cls: 0.13487\n"
     ]
    },
    {
     "name": "stderr",
     "output_type": "stream",
     "text": [
      "Epoch 316, lr 5e-05: 100% 43/43 [00:12<00:00,  3.45it/s, 0 cls=0.17028, 1 cls=0.24285, 2 cls=0.20495, bce=0.06028, dice=0.87774, loss=0.20624]\n"
     ]
    },
    {
     "name": "stdout",
     "output_type": "stream",
     "text": [
      "loss: 0.14302 | bce: 0.03076 | dice: 0.90365 | 0 cls: 0.11789 | 1 cls: 0.16922 | 2 cls: 0.13329\n"
     ]
    },
    {
     "name": "stderr",
     "output_type": "stream",
     "text": [
      "Epoch 317, lr 5e-05: 100% 43/43 [00:12<00:00,  3.43it/s, 0 cls=0.17245, 1 cls=0.24565, 2 cls=0.20700, bce=0.06226, dice=0.87766, loss=0.20864]\n"
     ]
    },
    {
     "name": "stdout",
     "output_type": "stream",
     "text": [
      "loss: 0.14465 | bce: 0.02975 | dice: 0.90131 | 0 cls: 0.11976 | 1 cls: 0.17044 | 2 cls: 0.13503\n"
     ]
    },
    {
     "name": "stderr",
     "output_type": "stream",
     "text": [
      "Epoch 318, lr 5e-05: 100% 43/43 [00:12<00:00,  3.42it/s, 0 cls=0.16968, 1 cls=0.24257, 2 cls=0.20458, bce=0.06058, dice=0.87822, loss=0.20582]\n"
     ]
    },
    {
     "name": "stdout",
     "output_type": "stream",
     "text": [
      "loss: 0.14356 | bce: 0.03063 | dice: 0.90325 | 0 cls: 0.11833 | 1 cls: 0.16977 | 2 cls: 0.13369\n"
     ]
    },
    {
     "name": "stderr",
     "output_type": "stream",
     "text": [
      "Epoch 319, lr 5e-05: 100% 43/43 [00:12<00:00,  3.45it/s, 0 cls=0.17170, 1 cls=0.23791, 2 cls=0.20288, bce=0.06105, dice=0.87929, loss=0.20442]\n"
     ]
    },
    {
     "name": "stdout",
     "output_type": "stream",
     "text": [
      "loss: 0.14297 | bce: 0.03051 | dice: 0.90349 | 0 cls: 0.11805 | 1 cls: 0.16882 | 2 cls: 0.13348\n"
     ]
    },
    {
     "name": "stderr",
     "output_type": "stream",
     "text": [
      "Epoch 320, lr 5e-05: 100% 43/43 [00:12<00:00,  3.44it/s, 0 cls=0.16822, 1 cls=0.23768, 2 cls=0.20170, bce=0.05918, dice=0.87940, loss=0.20270]\n"
     ]
    },
    {
     "name": "stdout",
     "output_type": "stream",
     "text": [
      "loss: 0.14363 | bce: 0.03062 | dice: 0.90310 | 0 cls: 0.11809 | 1 cls: 0.16972 | 2 cls: 0.13448\n"
     ]
    },
    {
     "name": "stderr",
     "output_type": "stream",
     "text": [
      "Epoch 321, lr 5e-05: 100% 43/43 [00:12<00:00,  3.42it/s, 0 cls=0.16817, 1 cls=0.24022, 2 cls=0.20284, bce=0.06088, dice=0.88027, loss=0.20392]\n"
     ]
    },
    {
     "name": "stdout",
     "output_type": "stream",
     "text": [
      "loss: 0.14289 | bce: 0.03069 | dice: 0.90365 | 0 cls: 0.11775 | 1 cls: 0.16848 | 2 cls: 0.13401\n"
     ]
    },
    {
     "name": "stderr",
     "output_type": "stream",
     "text": [
      "Epoch 322, lr 5e-05: 100% 43/43 [00:12<00:00,  3.43it/s, 0 cls=0.16816, 1 cls=0.24016, 2 cls=0.20260, bce=0.06034, dice=0.87968, loss=0.20385]\n"
     ]
    },
    {
     "name": "stdout",
     "output_type": "stream",
     "text": [
      "loss: 0.14447 | bce: 0.03129 | dice: 0.90292 | 0 cls: 0.11890 | 1 cls: 0.17102 | 2 cls: 0.13485\n"
     ]
    },
    {
     "name": "stderr",
     "output_type": "stream",
     "text": [
      "Epoch 323, lr 5e-05: 100% 43/43 [00:12<00:00,  3.45it/s, 0 cls=0.16601, 1 cls=0.23549, 2 cls=0.19905, bce=0.05956, dice=0.88167, loss=0.20041]\n"
     ]
    },
    {
     "name": "stdout",
     "output_type": "stream",
     "text": [
      "loss: 0.14345 | bce: 0.03034 | dice: 0.90300 | 0 cls: 0.11786 | 1 cls: 0.16967 | 2 cls: 0.13457\n"
     ]
    },
    {
     "name": "stderr",
     "output_type": "stream",
     "text": [
      "Epoch 324, lr 5e-05: 100% 43/43 [00:12<00:00,  3.43it/s, 0 cls=0.16983, 1 cls=0.24343, 2 cls=0.20504, bce=0.06085, dice=0.87828, loss=0.20631]\n"
     ]
    },
    {
     "name": "stdout",
     "output_type": "stream",
     "text": [
      "loss: 0.14216 | bce: 0.03106 | dice: 0.90487 | 0 cls: 0.11659 | 1 cls: 0.16850 | 2 cls: 0.13274\n"
     ]
    },
    {
     "name": "stderr",
     "output_type": "stream",
     "text": [
      "Epoch 325, lr 5e-05: 100% 43/43 [00:12<00:00,  3.45it/s, 0 cls=0.17200, 1 cls=0.24338, 2 cls=0.20646, bce=0.06170, dice=0.87771, loss=0.20745]\n"
     ]
    },
    {
     "name": "stdout",
     "output_type": "stream",
     "text": [
      "loss: 0.14449 | bce: 0.03052 | dice: 0.90194 | 0 cls: 0.12156 | 1 cls: 0.16877 | 2 cls: 0.13405\n"
     ]
    },
    {
     "name": "stderr",
     "output_type": "stream",
     "text": [
      "Epoch 326, lr 5e-05: 100% 43/43 [00:12<00:00,  3.44it/s, 0 cls=0.16865, 1 cls=0.24141, 2 cls=0.20346, bce=0.06021, dice=0.87901, loss=0.20472]\n"
     ]
    },
    {
     "name": "stdout",
     "output_type": "stream",
     "text": [
      "loss: 0.14315 | bce: 0.02996 | dice: 0.90289 | 0 cls: 0.11830 | 1 cls: 0.16887 | 2 cls: 0.13334\n"
     ]
    },
    {
     "name": "stderr",
     "output_type": "stream",
     "text": [
      "Epoch 327, lr 5e-05: 100% 43/43 [00:12<00:00,  3.44it/s, 0 cls=0.16293, 1 cls=0.23597, 2 cls=0.19752, bce=0.05828, dice=0.88224, loss=0.19906]\n"
     ]
    },
    {
     "name": "stdout",
     "output_type": "stream",
     "text": [
      "loss: 0.14264 | bce: 0.03036 | dice: 0.90380 | 0 cls: 0.11720 | 1 cls: 0.16869 | 2 cls: 0.13326\n"
     ]
    },
    {
     "name": "stderr",
     "output_type": "stream",
     "text": [
      "Epoch 328, lr 5e-05: 100% 43/43 [00:12<00:00,  3.45it/s, 0 cls=0.16751, 1 cls=0.23727, 2 cls=0.20094, bce=0.06003, dice=0.88074, loss=0.20210]\n"
     ]
    },
    {
     "name": "stdout",
     "output_type": "stream",
     "text": [
      "loss: 0.14248 | bce: 0.03058 | dice: 0.90374 | 0 cls: 0.11857 | 1 cls: 0.16718 | 2 cls: 0.13296\n"
     ]
    },
    {
     "name": "stderr",
     "output_type": "stream",
     "text": [
      "Epoch 329, lr 5e-05: 100% 43/43 [00:12<00:00,  3.42it/s, 0 cls=0.16973, 1 cls=0.24391, 2 cls=0.20568, bce=0.06153, dice=0.87849, loss=0.20659]\n"
     ]
    },
    {
     "name": "stdout",
     "output_type": "stream",
     "text": [
      "loss: 0.14377 | bce: 0.03094 | dice: 0.90345 | 0 cls: 0.11759 | 1 cls: 0.17020 | 2 cls: 0.13514\n"
     ]
    },
    {
     "name": "stderr",
     "output_type": "stream",
     "text": [
      "Epoch 330, lr 5e-05: 100% 43/43 [00:12<00:00,  3.45it/s, 0 cls=0.16527, 1 cls=0.23880, 2 cls=0.20063, bce=0.05947, dice=0.88088, loss=0.20175]\n"
     ]
    },
    {
     "name": "stdout",
     "output_type": "stream",
     "text": [
      "loss: 0.14226 | bce: 0.03043 | dice: 0.90409 | 0 cls: 0.11685 | 1 cls: 0.16828 | 2 cls: 0.13319\n"
     ]
    },
    {
     "name": "stderr",
     "output_type": "stream",
     "text": [
      "Epoch 331, lr 5e-05: 100% 43/43 [00:12<00:00,  3.44it/s, 0 cls=0.16910, 1 cls=0.24192, 2 cls=0.20372, bce=0.06099, dice=0.87934, loss=0.20515]\n"
     ]
    },
    {
     "name": "stdout",
     "output_type": "stream",
     "text": [
      "loss: 0.14278 | bce: 0.03046 | dice: 0.90365 | 0 cls: 0.11784 | 1 cls: 0.16837 | 2 cls: 0.13348\n"
     ]
    },
    {
     "name": "stderr",
     "output_type": "stream",
     "text": [
      "Epoch 332, lr 5e-05: 100% 43/43 [00:12<00:00,  3.45it/s, 0 cls=0.16857, 1 cls=0.24097, 2 cls=0.20338, bce=0.06072, dice=0.87947, loss=0.20449]\n"
     ]
    },
    {
     "name": "stdout",
     "output_type": "stream",
     "text": [
      "loss: 0.14341 | bce: 0.02992 | dice: 0.90252 | 0 cls: 0.11799 | 1 cls: 0.16910 | 2 cls: 0.13498\n"
     ]
    },
    {
     "name": "stderr",
     "output_type": "stream",
     "text": [
      "Epoch 333, lr 5e-05: 100% 43/43 [00:12<00:00,  3.42it/s, 0 cls=0.16244, 1 cls=0.23411, 2 cls=0.19706, bce=0.05851, dice=0.88296, loss=0.19803]\n"
     ]
    },
    {
     "name": "stdout",
     "output_type": "stream",
     "text": [
      "loss: 0.14353 | bce: 0.03065 | dice: 0.90344 | 0 cls: 0.11675 | 1 cls: 0.17053 | 2 cls: 0.13520\n"
     ]
    },
    {
     "name": "stderr",
     "output_type": "stream",
     "text": [
      "Epoch 334, lr 5e-05: 100% 43/43 [00:12<00:00,  3.42it/s, 0 cls=0.17218, 1 cls=0.24103, 2 cls=0.20481, bce=0.06105, dice=0.87813, loss=0.20625]\n"
     ]
    },
    {
     "name": "stdout",
     "output_type": "stream",
     "text": [
      "loss: 0.14276 | bce: 0.03061 | dice: 0.90353 | 0 cls: 0.11818 | 1 cls: 0.16805 | 2 cls: 0.13392\n"
     ]
    },
    {
     "name": "stderr",
     "output_type": "stream",
     "text": [
      "Epoch 335, lr 5e-05: 100% 43/43 [00:12<00:00,  3.44it/s, 0 cls=0.16881, 1 cls=0.24201, 2 cls=0.20314, bce=0.06105, dice=0.87965, loss=0.20496]\n"
     ]
    },
    {
     "name": "stdout",
     "output_type": "stream",
     "text": [
      "loss: 0.14245 | bce: 0.03027 | dice: 0.90361 | 0 cls: 0.11760 | 1 cls: 0.16765 | 2 cls: 0.13370\n"
     ]
    },
    {
     "name": "stderr",
     "output_type": "stream",
     "text": [
      "Epoch 336, lr 5e-05: 100% 43/43 [00:12<00:00,  3.43it/s, 0 cls=0.16780, 1 cls=0.23888, 2 cls=0.20206, bce=0.06005, dice=0.87991, loss=0.20308]\n"
     ]
    },
    {
     "name": "stdout",
     "output_type": "stream",
     "text": [
      "loss: 0.14295 | bce: 0.03032 | dice: 0.90347 | 0 cls: 0.11667 | 1 cls: 0.16936 | 2 cls: 0.13483\n"
     ]
    },
    {
     "name": "stderr",
     "output_type": "stream",
     "text": [
      "Epoch 337, lr 5e-05: 100% 43/43 [00:12<00:00,  3.44it/s, 0 cls=0.16817, 1 cls=0.23769, 2 cls=0.20061, bce=0.06024, dice=0.88071, loss=0.20247]\n"
     ]
    },
    {
     "name": "stdout",
     "output_type": "stream",
     "text": [
      "loss: 0.14223 | bce: 0.03021 | dice: 0.90378 | 0 cls: 0.11696 | 1 cls: 0.16801 | 2 cls: 0.13374\n"
     ]
    },
    {
     "name": "stderr",
     "output_type": "stream",
     "text": [
      "Epoch 338, lr 5e-05: 100% 43/43 [00:12<00:00,  3.44it/s, 0 cls=0.16615, 1 cls=0.23734, 2 cls=0.20038, bce=0.05944, dice=0.88103, loss=0.20147]\n"
     ]
    },
    {
     "name": "stdout",
     "output_type": "stream",
     "text": [
      "loss: 0.14285 | bce: 0.03078 | dice: 0.90374 | 0 cls: 0.11731 | 1 cls: 0.16867 | 2 cls: 0.13451\n"
     ]
    },
    {
     "name": "stderr",
     "output_type": "stream",
     "text": [
      "Epoch 339, lr 5e-05: 100% 43/43 [00:12<00:00,  3.45it/s, 0 cls=0.16787, 1 cls=0.23790, 2 cls=0.20173, bce=0.06023, dice=0.88037, loss=0.20265]\n"
     ]
    },
    {
     "name": "stdout",
     "output_type": "stream",
     "text": [
      "loss: 0.14303 | bce: 0.03052 | dice: 0.90312 | 0 cls: 0.11920 | 1 cls: 0.16775 | 2 cls: 0.13389\n"
     ]
    },
    {
     "name": "stderr",
     "output_type": "stream",
     "text": [
      "Epoch 340, lr 5e-05: 100% 43/43 [00:12<00:00,  3.44it/s, 0 cls=0.16207, 1 cls=0.23447, 2 cls=0.19668, bce=0.05870, dice=0.88325, loss=0.19795]\n"
     ]
    },
    {
     "name": "stdout",
     "output_type": "stream",
     "text": [
      "loss: 0.14221 | bce: 0.03066 | dice: 0.90419 | 0 cls: 0.11752 | 1 cls: 0.16769 | 2 cls: 0.13293\n"
     ]
    },
    {
     "name": "stderr",
     "output_type": "stream",
     "text": [
      "Epoch 341, lr 5e-05: 100% 43/43 [00:12<00:00,  3.43it/s, 0 cls=0.16867, 1 cls=0.23927, 2 cls=0.20176, bce=0.06060, dice=0.88022, loss=0.20353]\n"
     ]
    },
    {
     "name": "stdout",
     "output_type": "stream",
     "text": [
      "loss: 0.14276 | bce: 0.03013 | dice: 0.90301 | 0 cls: 0.11811 | 1 cls: 0.16788 | 2 cls: 0.13428\n"
     ]
    },
    {
     "name": "stderr",
     "output_type": "stream",
     "text": [
      "Epoch 342, lr 5e-05: 100% 43/43 [00:12<00:00,  3.43it/s, 0 cls=0.16525, 1 cls=0.23536, 2 cls=0.19904, bce=0.05881, dice=0.88148, loss=0.20005]\n"
     ]
    },
    {
     "name": "stdout",
     "output_type": "stream",
     "text": [
      "loss: 0.14228 | bce: 0.03099 | dice: 0.90448 | 0 cls: 0.11661 | 1 cls: 0.16849 | 2 cls: 0.13365\n"
     ]
    },
    {
     "name": "stderr",
     "output_type": "stream",
     "text": [
      "Epoch 343, lr 5e-05: 100% 43/43 [00:12<00:00,  3.44it/s, 0 cls=0.16359, 1 cls=0.23402, 2 cls=0.19691, bce=0.05906, dice=0.88299, loss=0.19842]\n"
     ]
    },
    {
     "name": "stdout",
     "output_type": "stream",
     "text": [
      "loss: 0.14356 | bce: 0.03030 | dice: 0.90289 | 0 cls: 0.11846 | 1 cls: 0.16948 | 2 cls: 0.13414\n"
     ]
    },
    {
     "name": "stderr",
     "output_type": "stream",
     "text": [
      "Epoch 344, lr 5e-05: 100% 43/43 [00:12<00:00,  3.45it/s, 0 cls=0.16954, 1 cls=0.24021, 2 cls=0.20349, bce=0.06079, dice=0.87941, loss=0.20460]\n"
     ]
    },
    {
     "name": "stdout",
     "output_type": "stream",
     "text": [
      "loss: 0.14284 | bce: 0.03036 | dice: 0.90329 | 0 cls: 0.11884 | 1 cls: 0.16776 | 2 cls: 0.13344\n"
     ]
    },
    {
     "name": "stderr",
     "output_type": "stream",
     "text": [
      "Epoch 345, lr 5e-05: 100% 43/43 [00:12<00:00,  3.44it/s, 0 cls=0.16715, 1 cls=0.23683, 2 cls=0.20051, bce=0.06052, dice=0.88146, loss=0.20170]\n"
     ]
    },
    {
     "name": "stdout",
     "output_type": "stream",
     "text": [
      "loss: 0.14240 | bce: 0.03010 | dice: 0.90352 | 0 cls: 0.11776 | 1 cls: 0.16780 | 2 cls: 0.13330\n"
     ]
    },
    {
     "name": "stderr",
     "output_type": "stream",
     "text": [
      "Epoch 346, lr 5e-05: 100% 43/43 [00:12<00:00,  3.44it/s, 0 cls=0.16607, 1 cls=0.23748, 2 cls=0.20003, bce=0.05970, dice=0.88120, loss=0.20143]\n"
     ]
    },
    {
     "name": "stdout",
     "output_type": "stream",
     "text": [
      "loss: 0.14381 | bce: 0.03017 | dice: 0.90206 | 0 cls: 0.12019 | 1 cls: 0.16840 | 2 cls: 0.13452\n"
     ]
    },
    {
     "name": "stderr",
     "output_type": "stream",
     "text": [
      "Epoch 347, lr 5e-05: 100% 43/43 [00:12<00:00,  3.43it/s, 0 cls=0.16609, 1 cls=0.23726, 2 cls=0.20045, bce=0.05961, dice=0.88095, loss=0.20143]\n"
     ]
    },
    {
     "name": "stdout",
     "output_type": "stream",
     "text": [
      "loss: 0.14228 | bce: 0.03026 | dice: 0.90360 | 0 cls: 0.11836 | 1 cls: 0.16677 | 2 cls: 0.13323\n"
     ]
    },
    {
     "name": "stderr",
     "output_type": "stream",
     "text": [
      "Epoch 348, lr 5e-05: 100% 43/43 [00:12<00:00,  3.44it/s, 0 cls=0.17183, 1 cls=0.24039, 2 cls=0.20454, bce=0.06097, dice=0.87835, loss=0.20580]\n"
     ]
    },
    {
     "name": "stdout",
     "output_type": "stream",
     "text": [
      "loss: 0.14195 | bce: 0.03036 | dice: 0.90403 | 0 cls: 0.11713 | 1 cls: 0.16694 | 2 cls: 0.13359\n"
     ]
    },
    {
     "name": "stderr",
     "output_type": "stream",
     "text": [
      "Epoch 349, lr 5e-05: 100% 43/43 [00:12<00:00,  3.43it/s, 0 cls=0.17217, 1 cls=0.24219, 2 cls=0.20535, bce=0.06015, dice=0.87709, loss=0.20681]\n"
     ]
    },
    {
     "name": "stdout",
     "output_type": "stream",
     "text": [
      "loss: 0.14305 | bce: 0.03070 | dice: 0.90345 | 0 cls: 0.11835 | 1 cls: 0.16824 | 2 cls: 0.13418\n"
     ]
    },
    {
     "name": "stderr",
     "output_type": "stream",
     "text": [
      "Epoch 350, lr 5e-05: 100% 43/43 [00:12<00:00,  3.44it/s, 0 cls=0.17547, 1 cls=0.24418, 2 cls=0.20926, bce=0.06239, dice=0.87627, loss=0.20971]\n"
     ]
    },
    {
     "name": "stdout",
     "output_type": "stream",
     "text": [
      "loss: 0.14289 | bce: 0.03005 | dice: 0.90289 | 0 cls: 0.11872 | 1 cls: 0.16743 | 2 cls: 0.13420\n"
     ]
    },
    {
     "name": "stderr",
     "output_type": "stream",
     "text": [
      "Epoch 351, lr 5e-05: 100% 43/43 [00:12<00:00,  3.43it/s, 0 cls=0.16483, 1 cls=0.23626, 2 cls=0.19950, bce=0.05873, dice=0.88128, loss=0.20034]\n"
     ]
    },
    {
     "name": "stdout",
     "output_type": "stream",
     "text": [
      "loss: 0.14346 | bce: 0.03066 | dice: 0.90304 | 0 cls: 0.11962 | 1 cls: 0.16803 | 2 cls: 0.13409\n"
     ]
    },
    {
     "name": "stderr",
     "output_type": "stream",
     "text": [
      "Epoch 352, lr 5e-05: 100% 43/43 [00:12<00:00,  3.45it/s, 0 cls=0.16392, 1 cls=0.23355, 2 cls=0.19739, bce=0.05921, dice=0.88300, loss=0.19847]\n"
     ]
    },
    {
     "name": "stdout",
     "output_type": "stream",
     "text": [
      "loss: 0.14379 | bce: 0.03046 | dice: 0.90247 | 0 cls: 0.11927 | 1 cls: 0.16921 | 2 cls: 0.13444\n"
     ]
    },
    {
     "name": "stderr",
     "output_type": "stream",
     "text": [
      "Epoch 353, lr 5e-05: 100% 43/43 [00:12<00:00,  3.44it/s, 0 cls=0.16682, 1 cls=0.23688, 2 cls=0.20045, bce=0.05962, dice=0.88086, loss=0.20157]\n"
     ]
    },
    {
     "name": "stdout",
     "output_type": "stream",
     "text": [
      "loss: 0.14275 | bce: 0.03104 | dice: 0.90439 | 0 cls: 0.11694 | 1 cls: 0.16901 | 2 cls: 0.13371\n"
     ]
    },
    {
     "name": "stderr",
     "output_type": "stream",
     "text": [
      "Epoch 354, lr 5e-05: 100% 43/43 [00:12<00:00,  3.43it/s, 0 cls=0.16623, 1 cls=0.23967, 2 cls=0.20160, bce=0.05985, dice=0.88034, loss=0.20268]\n"
     ]
    },
    {
     "name": "stdout",
     "output_type": "stream",
     "text": [
      "loss: 0.14296 | bce: 0.03044 | dice: 0.90314 | 0 cls: 0.11790 | 1 cls: 0.16871 | 2 cls: 0.13437\n"
     ]
    },
    {
     "name": "stderr",
     "output_type": "stream",
     "text": [
      "Epoch 355, lr 5e-05: 100% 43/43 [00:12<00:00,  3.46it/s, 0 cls=0.16429, 1 cls=0.23641, 2 cls=0.19859, bce=0.05888, dice=0.88182, loss=0.19999]\n"
     ]
    },
    {
     "name": "stdout",
     "output_type": "stream",
     "text": [
      "loss: 0.14229 | bce: 0.03067 | dice: 0.90408 | 0 cls: 0.11714 | 1 cls: 0.16805 | 2 cls: 0.13368\n"
     ]
    },
    {
     "name": "stderr",
     "output_type": "stream",
     "text": [
      "Epoch 356, lr 5e-05: 100% 43/43 [00:12<00:00,  3.43it/s, 0 cls=0.16697, 1 cls=0.23817, 2 cls=0.20104, bce=0.05987, dice=0.88059, loss=0.20226]\n"
     ]
    },
    {
     "name": "stdout",
     "output_type": "stream",
     "text": [
      "loss: 0.14277 | bce: 0.03056 | dice: 0.90363 | 0 cls: 0.11806 | 1 cls: 0.16821 | 2 cls: 0.13373\n"
     ]
    },
    {
     "name": "stderr",
     "output_type": "stream",
     "text": [
      "Epoch 357, lr 5e-05: 100% 43/43 [00:12<00:00,  3.44it/s, 0 cls=0.16911, 1 cls=0.24036, 2 cls=0.20370, bce=0.06065, dice=0.87921, loss=0.20453]\n"
     ]
    },
    {
     "name": "stdout",
     "output_type": "stream",
     "text": [
      "loss: 0.14344 | bce: 0.03079 | dice: 0.90287 | 0 cls: 0.12053 | 1 cls: 0.16779 | 2 cls: 0.13367\n"
     ]
    },
    {
     "name": "stderr",
     "output_type": "stream",
     "text": [
      "Epoch 358, lr 5e-05: 100% 43/43 [00:12<00:00,  3.43it/s, 0 cls=0.16540, 1 cls=0.23386, 2 cls=0.19823, bce=0.05891, dice=0.88187, loss=0.19935]\n"
     ]
    },
    {
     "name": "stdout",
     "output_type": "stream",
     "text": [
      "loss: 0.14291 | bce: 0.03055 | dice: 0.90354 | 0 cls: 0.11748 | 1 cls: 0.16839 | 2 cls: 0.13463\n"
     ]
    },
    {
     "name": "stderr",
     "output_type": "stream",
     "text": [
      "Epoch 359, lr 5e-05: 100% 43/43 [00:12<00:00,  3.44it/s, 0 cls=0.17279, 1 cls=0.24352, 2 cls=0.20607, bce=0.06274, dice=0.87853, loss=0.20774]\n"
     ]
    },
    {
     "name": "stdout",
     "output_type": "stream",
     "text": [
      "loss: 0.14175 | bce: 0.03022 | dice: 0.90419 | 0 cls: 0.11735 | 1 cls: 0.16697 | 2 cls: 0.13246\n"
     ]
    },
    {
     "name": "stderr",
     "output_type": "stream",
     "text": [
      "Epoch 360, lr 5e-05: 100% 43/43 [00:12<00:00,  3.44it/s, 0 cls=0.16540, 1 cls=0.23657, 2 cls=0.19890, bce=0.05914, dice=0.88134, loss=0.20057]\n"
     ]
    },
    {
     "name": "stdout",
     "output_type": "stream",
     "text": [
      "loss: 0.14207 | bce: 0.03079 | dice: 0.90453 | 0 cls: 0.11710 | 1 cls: 0.16769 | 2 cls: 0.13272\n"
     ]
    },
    {
     "name": "stderr",
     "output_type": "stream",
     "text": [
      "Epoch 361, lr 5e-05: 100% 43/43 [00:12<00:00,  3.46it/s, 0 cls=0.16849, 1 cls=0.23903, 2 cls=0.20200, bce=0.06007, dice=0.87979, loss=0.20341]\n"
     ]
    },
    {
     "name": "stdout",
     "output_type": "stream",
     "text": [
      "loss: 0.14430 | bce: 0.03126 | dice: 0.90282 | 0 cls: 0.11998 | 1 cls: 0.16991 | 2 cls: 0.13425\n"
     ]
    },
    {
     "name": "stderr",
     "output_type": "stream",
     "text": [
      "Epoch 362, lr 5e-05: 100% 43/43 [00:12<00:00,  3.44it/s, 0 cls=0.16713, 1 cls=0.23618, 2 cls=0.20005, bce=0.05945, dice=0.88066, loss=0.20133]\n"
     ]
    },
    {
     "name": "stdout",
     "output_type": "stream",
     "text": [
      "loss: 0.14455 | bce: 0.03092 | dice: 0.90209 | 0 cls: 0.12118 | 1 cls: 0.16947 | 2 cls: 0.13434\n"
     ]
    },
    {
     "name": "stderr",
     "output_type": "stream",
     "text": [
      "Epoch 363, lr 5e-05: 100% 43/43 [00:12<00:00,  3.44it/s, 0 cls=0.16085, 1 cls=0.23259, 2 cls=0.19529, bce=0.05811, dice=0.88407, loss=0.19643]\n"
     ]
    },
    {
     "name": "stdout",
     "output_type": "stream",
     "text": [
      "loss: 0.14166 | bce: 0.03054 | dice: 0.90471 | 0 cls: 0.11646 | 1 cls: 0.16729 | 2 cls: 0.13269\n"
     ]
    },
    {
     "name": "stderr",
     "output_type": "stream",
     "text": [
      "Epoch 364, lr 5e-05: 100% 43/43 [00:12<00:00,  3.46it/s, 0 cls=0.16500, 1 cls=0.23764, 2 cls=0.19964, bce=0.05977, dice=0.88181, loss=0.20099]\n"
     ]
    },
    {
     "name": "stdout",
     "output_type": "stream",
     "text": [
      "loss: 0.14357 | bce: 0.03111 | dice: 0.90358 | 0 cls: 0.11842 | 1 cls: 0.16993 | 2 cls: 0.13348\n"
     ]
    },
    {
     "name": "stderr",
     "output_type": "stream",
     "text": [
      "Epoch 365, lr 5e-05: 100% 43/43 [00:12<00:00,  3.44it/s, 0 cls=0.16658, 1 cls=0.23895, 2 cls=0.20088, bce=0.05906, dice=0.88001, loss=0.20239]\n"
     ]
    },
    {
     "name": "stdout",
     "output_type": "stream",
     "text": [
      "loss: 0.14424 | bce: 0.03220 | dice: 0.90377 | 0 cls: 0.11979 | 1 cls: 0.16989 | 2 cls: 0.13404\n"
     ]
    },
    {
     "name": "stderr",
     "output_type": "stream",
     "text": [
      "Epoch 366, lr 5e-05: 100% 43/43 [00:12<00:00,  3.43it/s, 0 cls=0.17174, 1 cls=0.24430, 2 cls=0.20581, bce=0.06077, dice=0.87720, loss=0.20758]\n"
     ]
    },
    {
     "name": "stdout",
     "output_type": "stream",
     "text": [
      "loss: 0.14376 | bce: 0.03155 | dice: 0.90381 | 0 cls: 0.11802 | 1 cls: 0.17033 | 2 cls: 0.13465\n"
     ]
    },
    {
     "name": "stderr",
     "output_type": "stream",
     "text": [
      "Epoch 367, lr 5e-05: 100% 43/43 [00:12<00:00,  3.44it/s, 0 cls=0.16712, 1 cls=0.23660, 2 cls=0.20005, bce=0.05912, dice=0.88037, loss=0.20150]\n"
     ]
    },
    {
     "name": "stdout",
     "output_type": "stream",
     "text": [
      "loss: 0.14477 | bce: 0.03095 | dice: 0.90220 | 0 cls: 0.11960 | 1 cls: 0.17134 | 2 cls: 0.13504\n"
     ]
    },
    {
     "name": "stderr",
     "output_type": "stream",
     "text": [
      "Epoch 368, lr 5e-05: 100% 43/43 [00:12<00:00,  3.42it/s, 0 cls=0.16647, 1 cls=0.24078, 2 cls=0.20219, bce=0.05994, dice=0.88011, loss=0.20334]\n"
     ]
    },
    {
     "name": "stdout",
     "output_type": "stream",
     "text": [
      "loss: 0.14362 | bce: 0.03128 | dice: 0.90340 | 0 cls: 0.11937 | 1 cls: 0.16908 | 2 cls: 0.13396\n"
     ]
    },
    {
     "name": "stderr",
     "output_type": "stream",
     "text": [
      "Epoch 369, lr 5e-05: 100% 43/43 [00:12<00:00,  3.43it/s, 0 cls=0.16193, 1 cls=0.23627, 2 cls=0.19799, bce=0.05832, dice=0.88232, loss=0.19888]\n"
     ]
    },
    {
     "name": "stdout",
     "output_type": "stream",
     "text": [
      "loss: 0.14406 | bce: 0.03108 | dice: 0.90343 | 0 cls: 0.11782 | 1 cls: 0.17008 | 2 cls: 0.13539\n"
     ]
    },
    {
     "name": "stderr",
     "output_type": "stream",
     "text": [
      "Epoch 370, lr 5e-05: 100% 43/43 [00:12<00:00,  3.45it/s, 0 cls=0.16732, 1 cls=0.24026, 2 cls=0.20234, bce=0.06075, dice=0.88062, loss=0.20350]\n"
     ]
    },
    {
     "name": "stdout",
     "output_type": "stream",
     "text": [
      "loss: 0.14250 | bce: 0.03087 | dice: 0.90414 | 0 cls: 0.11787 | 1 cls: 0.16767 | 2 cls: 0.13329\n"
     ]
    },
    {
     "name": "stderr",
     "output_type": "stream",
     "text": [
      "Epoch 371, lr 5e-05: 100% 43/43 [00:12<00:00,  3.44it/s, 0 cls=0.16484, 1 cls=0.23523, 2 cls=0.19862, bce=0.05949, dice=0.88235, loss=0.19975]\n"
     ]
    },
    {
     "name": "stdout",
     "output_type": "stream",
     "text": [
      "loss: 0.14383 | bce: 0.03052 | dice: 0.90218 | 0 cls: 0.12016 | 1 cls: 0.16849 | 2 cls: 0.13471\n"
     ]
    },
    {
     "name": "stderr",
     "output_type": "stream",
     "text": [
      "Epoch 372, lr 5e-05: 100% 43/43 [00:12<00:00,  3.43it/s, 0 cls=0.17265, 1 cls=0.24413, 2 cls=0.20632, bce=0.06164, dice=0.87734, loss=0.20797]\n"
     ]
    },
    {
     "name": "stdout",
     "output_type": "stream",
     "text": [
      "loss: 0.14381 | bce: 0.03024 | dice: 0.90220 | 0 cls: 0.11929 | 1 cls: 0.16898 | 2 cls: 0.13509\n"
     ]
    },
    {
     "name": "stderr",
     "output_type": "stream",
     "text": [
      "Epoch 373, lr 5e-05: 100% 43/43 [00:12<00:00,  3.43it/s, 0 cls=0.16514, 1 cls=0.23685, 2 cls=0.19921, bce=0.05886, dice=0.88107, loss=0.20064]\n"
     ]
    },
    {
     "name": "stdout",
     "output_type": "stream",
     "text": [
      "loss: 0.14408 | bce: 0.03071 | dice: 0.90248 | 0 cls: 0.11965 | 1 cls: 0.16918 | 2 cls: 0.13496\n"
     ]
    },
    {
     "name": "stderr",
     "output_type": "stream",
     "text": [
      "Epoch 374, lr 5e-05: 100% 43/43 [00:12<00:00,  3.46it/s, 0 cls=0.16742, 1 cls=0.23813, 2 cls=0.20113, bce=0.05989, dice=0.88046, loss=0.20244]\n"
     ]
    },
    {
     "name": "stdout",
     "output_type": "stream",
     "text": [
      "loss: 0.14303 | bce: 0.03057 | dice: 0.90319 | 0 cls: 0.11929 | 1 cls: 0.16748 | 2 cls: 0.13361\n"
     ]
    },
    {
     "name": "stderr",
     "output_type": "stream",
     "text": [
      "Epoch 375, lr 5e-05: 100% 43/43 [00:12<00:00,  3.44it/s, 0 cls=0.16325, 1 cls=0.23433, 2 cls=0.19741, bce=0.05900, dice=0.88302, loss=0.19852]\n"
     ]
    },
    {
     "name": "stdout",
     "output_type": "stream",
     "text": [
      "loss: 0.14267 | bce: 0.03087 | dice: 0.90390 | 0 cls: 0.11864 | 1 cls: 0.16716 | 2 cls: 0.13353\n"
     ]
    },
    {
     "name": "stderr",
     "output_type": "stream",
     "text": [
      "Epoch 376, lr 5e-05: 100% 43/43 [00:12<00:00,  3.43it/s, 0 cls=0.16480, 1 cls=0.23619, 2 cls=0.19930, bce=0.05842, dice=0.88096, loss=0.20026]\n"
     ]
    },
    {
     "name": "stdout",
     "output_type": "stream",
     "text": [
      "loss: 0.14247 | bce: 0.03071 | dice: 0.90398 | 0 cls: 0.11780 | 1 cls: 0.16749 | 2 cls: 0.13380\n"
     ]
    },
    {
     "name": "stderr",
     "output_type": "stream",
     "text": [
      "Epoch 377, lr 5e-05: 100% 43/43 [00:12<00:00,  3.43it/s, 0 cls=0.16365, 1 cls=0.23147, 2 cls=0.19603, bce=0.05864, dice=0.88348, loss=0.19726]\n"
     ]
    },
    {
     "name": "stdout",
     "output_type": "stream",
     "text": [
      "loss: 0.14290 | bce: 0.03022 | dice: 0.90320 | 0 cls: 0.11810 | 1 cls: 0.16751 | 2 cls: 0.13448\n"
     ]
    },
    {
     "name": "stderr",
     "output_type": "stream",
     "text": [
      "Epoch 378, lr 5e-05: 100% 43/43 [00:12<00:00,  3.43it/s, 0 cls=0.16317, 1 cls=0.23418, 2 cls=0.19739, bce=0.05886, dice=0.88289, loss=0.19842]\n"
     ]
    },
    {
     "name": "stdout",
     "output_type": "stream",
     "text": [
      "loss: 0.14275 | bce: 0.03005 | dice: 0.90306 | 0 cls: 0.11890 | 1 cls: 0.16701 | 2 cls: 0.13372\n"
     ]
    },
    {
     "name": "stderr",
     "output_type": "stream",
     "text": [
      "Epoch 379, lr 5e-05: 100% 43/43 [00:12<00:00,  3.45it/s, 0 cls=0.16407, 1 cls=0.23312, 2 cls=0.19758, bce=0.05874, dice=0.88249, loss=0.19839]\n"
     ]
    },
    {
     "name": "stdout",
     "output_type": "stream",
     "text": [
      "loss: 0.14329 | bce: 0.03015 | dice: 0.90267 | 0 cls: 0.11907 | 1 cls: 0.16757 | 2 cls: 0.13458\n"
     ]
    },
    {
     "name": "stderr",
     "output_type": "stream",
     "text": [
      "Epoch 380, lr 5e-05: 100% 43/43 [00:12<00:00,  3.42it/s, 0 cls=0.16752, 1 cls=0.23905, 2 cls=0.20238, bce=0.06046, dice=0.88045, loss=0.20310]\n"
     ]
    },
    {
     "name": "stdout",
     "output_type": "stream",
     "text": [
      "loss: 0.14373 | bce: 0.03045 | dice: 0.90247 | 0 cls: 0.11885 | 1 cls: 0.16886 | 2 cls: 0.13534\n"
     ]
    },
    {
     "name": "stderr",
     "output_type": "stream",
     "text": [
      "Epoch 381, lr 5e-05: 100% 43/43 [00:12<00:00,  3.44it/s, 0 cls=0.16691, 1 cls=0.23797, 2 cls=0.20100, bce=0.05935, dice=0.88010, loss=0.20215]\n"
     ]
    },
    {
     "name": "stdout",
     "output_type": "stream",
     "text": [
      "loss: 0.14310 | bce: 0.03113 | dice: 0.90371 | 0 cls: 0.11870 | 1 cls: 0.16800 | 2 cls: 0.13413\n"
     ]
    },
    {
     "name": "stderr",
     "output_type": "stream",
     "text": [
      "Epoch 382, lr 5e-05: 100% 43/43 [00:12<00:00,  3.41it/s, 0 cls=0.16223, 1 cls=0.23509, 2 cls=0.19776, bce=0.05876, dice=0.88292, loss=0.19848]\n"
     ]
    },
    {
     "name": "stdout",
     "output_type": "stream",
     "text": [
      "loss: 0.14468 | bce: 0.03040 | dice: 0.90150 | 0 cls: 0.12088 | 1 cls: 0.16932 | 2 cls: 0.13532\n"
     ]
    },
    {
     "name": "stderr",
     "output_type": "stream",
     "text": [
      "Epoch 383, lr 5e-05: 100% 43/43 [00:12<00:00,  3.44it/s, 0 cls=0.16667, 1 cls=0.23453, 2 cls=0.19921, bce=0.05925, dice=0.88136, loss=0.20032]\n"
     ]
    },
    {
     "name": "stdout",
     "output_type": "stream",
     "text": [
      "loss: 0.14521 | bce: 0.03034 | dice: 0.90082 | 0 cls: 0.12244 | 1 cls: 0.16914 | 2 cls: 0.13558\n"
     ]
    },
    {
     "name": "stderr",
     "output_type": "stream",
     "text": [
      "Epoch 384, lr 5e-05: 100% 43/43 [00:12<00:00,  3.42it/s, 0 cls=0.17043, 1 cls=0.24041, 2 cls=0.20421, bce=0.06025, dice=0.87836, loss=0.20518]\n"
     ]
    },
    {
     "name": "stdout",
     "output_type": "stream",
     "text": [
      "loss: 0.14375 | bce: 0.03055 | dice: 0.90279 | 0 cls: 0.11892 | 1 cls: 0.16906 | 2 cls: 0.13448\n"
     ]
    },
    {
     "name": "stderr",
     "output_type": "stream",
     "text": [
      "Epoch 385, lr 5e-05: 100% 43/43 [00:12<00:00,  3.43it/s, 0 cls=0.16490, 1 cls=0.23593, 2 cls=0.19907, bce=0.05938, dice=0.88189, loss=0.20015]\n"
     ]
    },
    {
     "name": "stdout",
     "output_type": "stream",
     "text": [
      "loss: 0.14386 | bce: 0.03089 | dice: 0.90296 | 0 cls: 0.11897 | 1 cls: 0.16863 | 2 cls: 0.13517\n"
     ]
    },
    {
     "name": "stderr",
     "output_type": "stream",
     "text": [
      "Epoch 386, lr 5e-05: 100% 43/43 [00:12<00:00,  3.44it/s, 0 cls=0.16727, 1 cls=0.23874, 2 cls=0.20196, bce=0.05981, dice=0.88001, loss=0.20280]\n"
     ]
    },
    {
     "name": "stdout",
     "output_type": "stream",
     "text": [
      "loss: 0.14436 | bce: 0.03021 | dice: 0.90174 | 0 cls: 0.11997 | 1 cls: 0.16901 | 2 cls: 0.13577\n"
     ]
    },
    {
     "name": "stderr",
     "output_type": "stream",
     "text": [
      "Epoch 387, lr 5e-05: 100% 43/43 [00:12<00:00,  3.45it/s, 0 cls=0.16066, 1 cls=0.23102, 2 cls=0.19431, bce=0.05778, dice=0.88435, loss=0.19553]\n"
     ]
    },
    {
     "name": "stdout",
     "output_type": "stream",
     "text": [
      "loss: 0.14313 | bce: 0.02982 | dice: 0.90240 | 0 cls: 0.11863 | 1 cls: 0.16765 | 2 cls: 0.13481\n"
     ]
    },
    {
     "name": "stderr",
     "output_type": "stream",
     "text": [
      "Epoch 388, lr 5e-05: 100% 43/43 [00:12<00:00,  3.42it/s, 0 cls=0.17336, 1 cls=0.24436, 2 cls=0.20713, bce=0.06175, dice=0.87705, loss=0.20851]\n"
     ]
    },
    {
     "name": "stdout",
     "output_type": "stream",
     "text": [
      "loss: 0.14887 | bce: 0.03149 | dice: 0.89865 | 0 cls: 0.12452 | 1 cls: 0.17429 | 2 cls: 0.13964\n"
     ]
    },
    {
     "name": "stderr",
     "output_type": "stream",
     "text": [
      "Epoch 389, lr 5e-05: 100% 43/43 [00:12<00:00,  3.44it/s, 0 cls=0.16736, 1 cls=0.23915, 2 cls=0.20273, bce=0.05929, dice=0.87964, loss=0.20315]\n"
     ]
    },
    {
     "name": "stdout",
     "output_type": "stream",
     "text": [
      "loss: 0.14342 | bce: 0.03017 | dice: 0.90229 | 0 cls: 0.12036 | 1 cls: 0.16715 | 2 cls: 0.13417\n"
     ]
    },
    {
     "name": "stderr",
     "output_type": "stream",
     "text": [
      "Epoch 390, lr 0.0005120000000000001: 100% 43/43 [00:12<00:00,  3.45it/s, 0 cls=0.17745, 1 cls=0.25433, 2 cls=0.21226, bce=0.06319, dice=0.87337, loss=0.21517]\n"
     ]
    },
    {
     "name": "stdout",
     "output_type": "stream",
     "text": [
      "loss: 0.14988 | bce: 0.03269 | dice: 0.89911 | 0 cls: 0.12670 | 1 cls: 0.17271 | 2 cls: 0.14066\n"
     ]
    },
    {
     "name": "stderr",
     "output_type": "stream",
     "text": [
      "Epoch 391, lr 0.0005120000000000001: 100% 43/43 [00:12<00:00,  3.44it/s, 0 cls=0.18071, 1 cls=0.25124, 2 cls=0.21208, bce=0.06423, dice=0.87377, loss=0.21520]\n"
     ]
    },
    {
     "name": "stdout",
     "output_type": "stream",
     "text": [
      "loss: 0.16009 | bce: 0.03341 | dice: 0.88917 | 0 cls: 0.14665 | 1 cls: 0.17626 | 2 cls: 0.14756\n"
     ]
    },
    {
     "name": "stderr",
     "output_type": "stream",
     "text": [
      "Epoch 392, lr 0.00015360000000000002: 100% 43/43 [00:12<00:00,  3.45it/s, 0 cls=0.17653, 1 cls=0.24615, 2 cls=0.20858, bce=0.06278, dice=0.87594, loss=0.21079]\n"
     ]
    },
    {
     "name": "stdout",
     "output_type": "stream",
     "text": [
      "loss: 0.14488 | bce: 0.03075 | dice: 0.90198 | 0 cls: 0.12007 | 1 cls: 0.17021 | 2 cls: 0.13538\n"
     ]
    },
    {
     "name": "stderr",
     "output_type": "stream",
     "text": [
      "Epoch 393, lr 0.00015360000000000002: 100% 43/43 [00:12<00:00,  3.44it/s, 0 cls=0.17277, 1 cls=0.24402, 2 cls=0.20646, bce=0.06137, dice=0.87713, loss=0.20801]\n"
     ]
    },
    {
     "name": "stdout",
     "output_type": "stream",
     "text": [
      "loss: 0.14539 | bce: 0.02972 | dice: 0.90065 | 0 cls: 0.11915 | 1 cls: 0.17130 | 2 cls: 0.13777\n"
     ]
    },
    {
     "name": "stderr",
     "output_type": "stream",
     "text": [
      "Epoch 394, lr 4.6080000000000006e-05: 100% 43/43 [00:12<00:00,  3.44it/s, 0 cls=0.17169, 1 cls=0.24216, 2 cls=0.20520, bce=0.06044, dice=0.87737, loss=0.20658]\n"
     ]
    },
    {
     "name": "stdout",
     "output_type": "stream",
     "text": [
      "loss: 0.14360 | bce: 0.03073 | dice: 0.90333 | 0 cls: 0.11752 | 1 cls: 0.16951 | 2 cls: 0.13523\n"
     ]
    },
    {
     "name": "stderr",
     "output_type": "stream",
     "text": [
      "Epoch 395, lr 0.0005120000000000001: 100% 43/43 [00:12<00:00,  3.43it/s, 0 cls=0.17495, 1 cls=0.24930, 2 cls=0.20741, bce=0.06264, dice=0.87600, loss=0.21118]\n"
     ]
    },
    {
     "name": "stdout",
     "output_type": "stream",
     "text": [
      "loss: 0.14486 | bce: 0.03101 | dice: 0.90256 | 0 cls: 0.11755 | 1 cls: 0.17320 | 2 cls: 0.13497\n"
     ]
    },
    {
     "name": "stderr",
     "output_type": "stream",
     "text": [
      "Epoch 396, lr 0.0005120000000000001: 100% 43/43 [00:12<00:00,  3.44it/s, 0 cls=0.18086, 1 cls=0.25283, 2 cls=0.21323, bce=0.06397, dice=0.87279, loss=0.21612]\n"
     ]
    },
    {
     "name": "stdout",
     "output_type": "stream",
     "text": [
      "loss: 0.14997 | bce: 0.03294 | dice: 0.89972 | 0 cls: 0.12133 | 1 cls: 0.17998 | 2 cls: 0.14058\n"
     ]
    },
    {
     "name": "stderr",
     "output_type": "stream",
     "text": [
      "Epoch 397, lr 0.00015360000000000002: 100% 43/43 [00:12<00:00,  3.44it/s, 0 cls=0.17716, 1 cls=0.24856, 2 cls=0.21068, bce=0.06229, dice=0.87426, loss=0.21243]\n"
     ]
    },
    {
     "name": "stdout",
     "output_type": "stream",
     "text": [
      "loss: 0.14872 | bce: 0.03211 | dice: 0.89916 | 0 cls: 0.12666 | 1 cls: 0.17207 | 2 cls: 0.13903\n"
     ]
    },
    {
     "name": "stderr",
     "output_type": "stream",
     "text": [
      "Epoch 398, lr 0.00015360000000000002: 100% 43/43 [00:12<00:00,  3.43it/s, 0 cls=0.16579, 1 cls=0.23621, 2 cls=0.19949, bce=0.05941, dice=0.88145, loss=0.20070]\n"
     ]
    },
    {
     "name": "stdout",
     "output_type": "stream",
     "text": [
      "loss: 0.14451 | bce: 0.03111 | dice: 0.90255 | 0 cls: 0.11889 | 1 cls: 0.17083 | 2 cls: 0.13545\n"
     ]
    },
    {
     "name": "stderr",
     "output_type": "stream",
     "text": [
      "Epoch 399, lr 4.6080000000000006e-05: 100% 43/43 [00:12<00:00,  3.42it/s, 0 cls=0.17361, 1 cls=0.24461, 2 cls=0.20708, bce=0.06218, dice=0.87715, loss=0.20870]\n"
     ]
    },
    {
     "name": "stdout",
     "output_type": "stream",
     "text": [
      "loss: 0.14333 | bce: 0.03009 | dice: 0.90246 | 0 cls: 0.11866 | 1 cls: 0.16793 | 2 cls: 0.13548\n"
     ]
    },
    {
     "name": "stderr",
     "output_type": "stream",
     "text": [
      "Epoch 400, lr 2.5e-05: 100% 43/43 [00:12<00:00,  3.44it/s, 0 cls=0.17841, 1 cls=0.24391, 2 cls=0.20903, bce=0.06264, dice=0.87542, loss=0.21073]\n"
     ]
    },
    {
     "name": "stdout",
     "output_type": "stream",
     "text": [
      "loss: 0.14329 | bce: 0.03063 | dice: 0.90293 | 0 cls: 0.11839 | 1 cls: 0.16797 | 2 cls: 0.13581\n"
     ]
    },
    {
     "name": "stderr",
     "output_type": "stream",
     "text": [
      "Epoch 401, lr 2.5e-05: 100% 43/43 [00:12<00:00,  3.44it/s, 0 cls=0.16722, 1 cls=0.23938, 2 cls=0.20165, bce=0.05983, dice=0.88005, loss=0.20297]\n"
     ]
    },
    {
     "name": "stdout",
     "output_type": "stream",
     "text": [
      "loss: 0.14299 | bce: 0.03082 | dice: 0.90355 | 0 cls: 0.11744 | 1 cls: 0.16826 | 2 cls: 0.13548\n"
     ]
    },
    {
     "name": "stderr",
     "output_type": "stream",
     "text": [
      "Epoch 402, lr 2.5e-05: 100% 43/43 [00:12<00:00,  3.46it/s, 0 cls=0.16754, 1 cls=0.23972, 2 cls=0.20169, bce=0.06039, dice=0.88022, loss=0.20324]\n"
     ]
    },
    {
     "name": "stdout",
     "output_type": "stream",
     "text": [
      "loss: 0.14239 | bce: 0.03028 | dice: 0.90346 | 0 cls: 0.11750 | 1 cls: 0.16731 | 2 cls: 0.13437\n"
     ]
    },
    {
     "name": "stderr",
     "output_type": "stream",
     "text": [
      "Epoch 403, lr 2.5e-05: 100% 43/43 [00:12<00:00,  3.43it/s, 0 cls=0.16800, 1 cls=0.23775, 2 cls=0.20136, bce=0.05950, dice=0.87992, loss=0.20257]\n"
     ]
    },
    {
     "name": "stdout",
     "output_type": "stream",
     "text": [
      "loss: 0.14213 | bce: 0.03081 | dice: 0.90430 | 0 cls: 0.11694 | 1 cls: 0.16718 | 2 cls: 0.13416\n"
     ]
    },
    {
     "name": "stderr",
     "output_type": "stream",
     "text": [
      "Epoch 404, lr 2.5e-05: 100% 43/43 [00:12<00:00,  3.42it/s, 0 cls=0.17259, 1 cls=0.24412, 2 cls=0.20745, bce=0.06218, dice=0.87754, loss=0.20817]\n"
     ]
    },
    {
     "name": "stdout",
     "output_type": "stream",
     "text": [
      "loss: 0.14318 | bce: 0.03027 | dice: 0.90272 | 0 cls: 0.11845 | 1 cls: 0.16794 | 2 cls: 0.13510\n"
     ]
    },
    {
     "name": "stderr",
     "output_type": "stream",
     "text": [
      "Epoch 405, lr 2.5e-05: 100% 43/43 [00:12<00:00,  3.45it/s, 0 cls=0.17550, 1 cls=0.24723, 2 cls=0.20941, bce=0.06125, dice=0.87459, loss=0.21097]\n"
     ]
    },
    {
     "name": "stdout",
     "output_type": "stream",
     "text": [
      "loss: 0.14252 | bce: 0.03013 | dice: 0.90318 | 0 cls: 0.11740 | 1 cls: 0.16765 | 2 cls: 0.13463\n"
     ]
    },
    {
     "name": "stderr",
     "output_type": "stream",
     "text": [
      "Epoch 406, lr 2.5e-05: 100% 43/43 [00:12<00:00,  3.44it/s, 0 cls=0.16451, 1 cls=0.23722, 2 cls=0.19965, bce=0.05919, dice=0.88145, loss=0.20062]\n"
     ]
    },
    {
     "name": "stdout",
     "output_type": "stream",
     "text": [
      "loss: 0.14235 | bce: 0.03027 | dice: 0.90351 | 0 cls: 0.11741 | 1 cls: 0.16723 | 2 cls: 0.13427\n"
     ]
    },
    {
     "name": "stderr",
     "output_type": "stream",
     "text": [
      "Epoch 407, lr 2.5e-05: 100% 43/43 [00:12<00:00,  3.43it/s, 0 cls=0.16336, 1 cls=0.23300, 2 cls=0.19682, bce=0.05816, dice=0.88247, loss=0.19791]\n"
     ]
    },
    {
     "name": "stdout",
     "output_type": "stream",
     "text": [
      "loss: 0.14306 | bce: 0.03078 | dice: 0.90359 | 0 cls: 0.11758 | 1 cls: 0.16793 | 2 cls: 0.13528\n"
     ]
    },
    {
     "name": "stderr",
     "output_type": "stream",
     "text": [
      "Epoch 408, lr 2.5e-05: 100% 43/43 [00:12<00:00,  3.44it/s, 0 cls=0.16606, 1 cls=0.23601, 2 cls=0.19959, bce=0.05949, dice=0.88139, loss=0.20074]\n"
     ]
    },
    {
     "name": "stdout",
     "output_type": "stream",
     "text": [
      "loss: 0.14274 | bce: 0.03073 | dice: 0.90361 | 0 cls: 0.11754 | 1 cls: 0.16761 | 2 cls: 0.13506\n"
     ]
    },
    {
     "name": "stderr",
     "output_type": "stream",
     "text": [
      "Epoch 409, lr 2.5e-05: 100% 43/43 [00:12<00:00,  3.46it/s, 0 cls=0.17059, 1 cls=0.23983, 2 cls=0.20346, bce=0.06136, dice=0.87957, loss=0.20486]\n"
     ]
    },
    {
     "name": "stdout",
     "output_type": "stream",
     "text": [
      "loss: 0.14289 | bce: 0.03040 | dice: 0.90322 | 0 cls: 0.11755 | 1 cls: 0.16776 | 2 cls: 0.13541\n"
     ]
    },
    {
     "name": "stderr",
     "output_type": "stream",
     "text": [
      "Epoch 410, lr 2.5e-05: 100% 43/43 [00:12<00:00,  3.44it/s, 0 cls=0.16399, 1 cls=0.23339, 2 cls=0.19685, bce=0.05826, dice=0.88225, loss=0.19832]\n"
     ]
    },
    {
     "name": "stdout",
     "output_type": "stream",
     "text": [
      "loss: 0.14321 | bce: 0.03082 | dice: 0.90329 | 0 cls: 0.11833 | 1 cls: 0.16832 | 2 cls: 0.13481\n"
     ]
    },
    {
     "name": "stderr",
     "output_type": "stream",
     "text": [
      "Epoch 411, lr 2.5e-05: 100% 43/43 [00:12<00:00,  3.43it/s, 0 cls=0.16766, 1 cls=0.23403, 2 cls=0.19905, bce=0.05945, dice=0.88123, loss=0.20049]\n"
     ]
    },
    {
     "name": "stdout",
     "output_type": "stream",
     "text": [
      "loss: 0.14273 | bce: 0.03034 | dice: 0.90322 | 0 cls: 0.11800 | 1 cls: 0.16747 | 2 cls: 0.13460\n"
     ]
    },
    {
     "name": "stderr",
     "output_type": "stream",
     "text": [
      "Epoch 412, lr 2.5e-05: 100% 43/43 [00:12<00:00,  3.45it/s, 0 cls=0.16404, 1 cls=0.23187, 2 cls=0.19630, bce=0.05970, dice=0.88408, loss=0.19762]\n"
     ]
    },
    {
     "name": "stdout",
     "output_type": "stream",
     "text": [
      "loss: 0.14286 | bce: 0.03053 | dice: 0.90342 | 0 cls: 0.11746 | 1 cls: 0.16800 | 2 cls: 0.13507\n"
     ]
    },
    {
     "name": "stderr",
     "output_type": "stream",
     "text": [
      "Epoch 413, lr 2.5e-05: 100% 43/43 [00:12<00:00,  3.45it/s, 0 cls=0.16214, 1 cls=0.23579, 2 cls=0.19720, bce=0.05842, dice=0.88268, loss=0.19861]\n"
     ]
    },
    {
     "name": "stdout",
     "output_type": "stream",
     "text": [
      "loss: 0.14245 | bce: 0.03044 | dice: 0.90357 | 0 cls: 0.11729 | 1 cls: 0.16739 | 2 cls: 0.13475\n"
     ]
    },
    {
     "name": "stderr",
     "output_type": "stream",
     "text": [
      "Epoch 414, lr 2.5e-05: 100% 43/43 [00:12<00:00,  3.45it/s, 0 cls=0.16166, 1 cls=0.23166, 2 cls=0.19524, bce=0.05748, dice=0.88336, loss=0.19638]\n"
     ]
    },
    {
     "name": "stdout",
     "output_type": "stream",
     "text": [
      "loss: 0.14295 | bce: 0.03051 | dice: 0.90337 | 0 cls: 0.11713 | 1 cls: 0.16807 | 2 cls: 0.13562\n"
     ]
    },
    {
     "name": "stderr",
     "output_type": "stream",
     "text": [
      "Epoch 415, lr 2.5e-05: 100% 43/43 [00:12<00:00,  3.44it/s, 0 cls=0.16630, 1 cls=0.23615, 2 cls=0.19953, bce=0.05957, dice=0.88141, loss=0.20088]\n"
     ]
    },
    {
     "name": "stdout",
     "output_type": "stream",
     "text": [
      "loss: 0.14300 | bce: 0.03029 | dice: 0.90307 | 0 cls: 0.11744 | 1 cls: 0.16798 | 2 cls: 0.13560\n"
     ]
    },
    {
     "name": "stderr",
     "output_type": "stream",
     "text": [
      "Epoch 416, lr 2.5e-05: 100% 43/43 [00:12<00:00,  3.42it/s, 0 cls=0.16085, 1 cls=0.23260, 2 cls=0.19565, bce=0.05789, dice=0.88365, loss=0.19651]\n"
     ]
    },
    {
     "name": "stdout",
     "output_type": "stream",
     "text": [
      "loss: 0.14250 | bce: 0.03060 | dice: 0.90378 | 0 cls: 0.11710 | 1 cls: 0.16769 | 2 cls: 0.13475\n"
     ]
    },
    {
     "name": "stderr",
     "output_type": "stream",
     "text": [
      "Epoch 417, lr 2.5e-05: 100% 43/43 [00:12<00:00,  3.45it/s, 0 cls=0.16956, 1 cls=0.23881, 2 cls=0.20209, bce=0.06030, dice=0.87943, loss=0.20377]\n"
     ]
    },
    {
     "name": "stdout",
     "output_type": "stream",
     "text": [
      "loss: 0.14242 | bce: 0.03046 | dice: 0.90344 | 0 cls: 0.11837 | 1 cls: 0.16665 | 2 cls: 0.13416\n"
     ]
    },
    {
     "name": "stderr",
     "output_type": "stream",
     "text": [
      "Epoch 418, lr 2.5e-05: 100% 43/43 [00:12<00:00,  3.44it/s, 0 cls=0.16351, 1 cls=0.23655, 2 cls=0.19854, bce=0.05892, dice=0.88219, loss=0.19973]\n"
     ]
    },
    {
     "name": "stdout",
     "output_type": "stream",
     "text": [
      "loss: 0.14274 | bce: 0.02995 | dice: 0.90278 | 0 cls: 0.11808 | 1 cls: 0.16728 | 2 cls: 0.13504\n"
     ]
    },
    {
     "name": "stderr",
     "output_type": "stream",
     "text": [
      "Epoch 419, lr 2.5e-05: 100% 43/43 [00:12<00:00,  3.45it/s, 0 cls=0.16431, 1 cls=0.23218, 2 cls=0.19686, bce=0.05861, dice=0.88278, loss=0.19797]\n"
     ]
    },
    {
     "name": "stdout",
     "output_type": "stream",
     "text": [
      "loss: 0.14263 | bce: 0.03064 | dice: 0.90376 | 0 cls: 0.11705 | 1 cls: 0.16751 | 2 cls: 0.13521\n"
     ]
    },
    {
     "name": "stderr",
     "output_type": "stream",
     "text": [
      "Epoch 420, lr 2.5e-05: 100% 43/43 [00:12<00:00,  3.43it/s, 0 cls=0.16128, 1 cls=0.23275, 2 cls=0.19543, bce=0.05824, dice=0.88390, loss=0.19670]\n"
     ]
    },
    {
     "name": "stdout",
     "output_type": "stream",
     "text": [
      "loss: 0.14245 | bce: 0.03077 | dice: 0.90395 | 0 cls: 0.11751 | 1 cls: 0.16717 | 2 cls: 0.13453\n"
     ]
    },
    {
     "name": "stderr",
     "output_type": "stream",
     "text": [
      "Epoch 421, lr 2.5e-05: 100% 43/43 [00:12<00:00,  3.44it/s, 0 cls=0.16941, 1 cls=0.24003, 2 cls=0.20377, bce=0.06068, dice=0.87928, loss=0.20453]\n"
     ]
    },
    {
     "name": "stdout",
     "output_type": "stream",
     "text": [
      "loss: 0.14283 | bce: 0.03050 | dice: 0.90317 | 0 cls: 0.11844 | 1 cls: 0.16728 | 2 cls: 0.13480\n"
     ]
    },
    {
     "name": "stderr",
     "output_type": "stream",
     "text": [
      "Epoch 422, lr 2.5e-05: 100% 43/43 [00:12<00:00,  3.43it/s, 0 cls=0.16957, 1 cls=0.23788, 2 cls=0.20249, bce=0.06009, dice=0.87955, loss=0.20348]\n"
     ]
    },
    {
     "name": "stdout",
     "output_type": "stream",
     "text": [
      "loss: 0.14322 | bce: 0.03093 | dice: 0.90346 | 0 cls: 0.11798 | 1 cls: 0.16855 | 2 cls: 0.13480\n"
     ]
    },
    {
     "name": "stderr",
     "output_type": "stream",
     "text": [
      "Epoch 423, lr 2.5e-05: 100% 43/43 [00:12<00:00,  3.45it/s, 0 cls=0.16454, 1 cls=0.23559, 2 cls=0.19893, bce=0.05923, dice=0.88193, loss=0.19984]\n"
     ]
    },
    {
     "name": "stdout",
     "output_type": "stream",
     "text": [
      "loss: 0.14242 | bce: 0.03053 | dice: 0.90383 | 0 cls: 0.11706 | 1 cls: 0.16758 | 2 cls: 0.13443\n"
     ]
    },
    {
     "name": "stderr",
     "output_type": "stream",
     "text": [
      "Epoch 424, lr 2.5e-05: 100% 43/43 [00:12<00:00,  3.43it/s, 0 cls=0.16394, 1 cls=0.23476, 2 cls=0.19811, bce=0.05870, dice=0.88208, loss=0.19910]\n"
     ]
    },
    {
     "name": "stdout",
     "output_type": "stream",
     "text": [
      "loss: 0.14305 | bce: 0.03040 | dice: 0.90315 | 0 cls: 0.11789 | 1 cls: 0.16794 | 2 cls: 0.13497\n"
     ]
    },
    {
     "name": "stderr",
     "output_type": "stream",
     "text": [
      "Epoch 425, lr 2.5e-05: 100% 43/43 [00:12<00:00,  3.44it/s, 0 cls=0.16773, 1 cls=0.24038, 2 cls=0.20307, bce=0.06036, dice=0.87985, loss=0.20386]\n"
     ]
    },
    {
     "name": "stdout",
     "output_type": "stream",
     "text": [
      "loss: 0.14239 | bce: 0.03014 | dice: 0.90324 | 0 cls: 0.11788 | 1 cls: 0.16682 | 2 cls: 0.13446\n"
     ]
    },
    {
     "name": "stderr",
     "output_type": "stream",
     "text": [
      "Epoch 426, lr 2.5e-05: 100% 43/43 [00:12<00:00,  3.42it/s, 0 cls=0.16418, 1 cls=0.23184, 2 cls=0.19626, bce=0.05873, dice=0.88313, loss=0.19766]\n"
     ]
    },
    {
     "name": "stdout",
     "output_type": "stream",
     "text": [
      "loss: 0.14275 | bce: 0.03055 | dice: 0.90344 | 0 cls: 0.11741 | 1 cls: 0.16777 | 2 cls: 0.13522\n"
     ]
    },
    {
     "name": "stderr",
     "output_type": "stream",
     "text": [
      "Epoch 427, lr 2.5e-05: 100% 43/43 [00:12<00:00,  3.44it/s, 0 cls=0.16135, 1 cls=0.23199, 2 cls=0.19567, bce=0.05830, dice=0.88397, loss=0.19647]\n"
     ]
    },
    {
     "name": "stdout",
     "output_type": "stream",
     "text": [
      "loss: 0.14212 | bce: 0.03040 | dice: 0.90395 | 0 cls: 0.11717 | 1 cls: 0.16672 | 2 cls: 0.13427\n"
     ]
    },
    {
     "name": "stderr",
     "output_type": "stream",
     "text": [
      "Epoch 428, lr 2.5e-05: 100% 43/43 [00:12<00:00,  3.45it/s, 0 cls=0.16340, 1 cls=0.23419, 2 cls=0.19734, bce=0.05831, dice=0.88241, loss=0.19850]\n"
     ]
    },
    {
     "name": "stdout",
     "output_type": "stream",
     "text": [
      "loss: 0.14215 | bce: 0.03026 | dice: 0.90369 | 0 cls: 0.11753 | 1 cls: 0.16683 | 2 cls: 0.13405\n"
     ]
    },
    {
     "name": "stderr",
     "output_type": "stream",
     "text": [
      "Epoch 429, lr 2.5e-05: 100% 43/43 [00:12<00:00,  3.44it/s, 0 cls=0.16624, 1 cls=0.23611, 2 cls=0.19938, bce=0.05986, dice=0.88186, loss=0.20081]\n"
     ]
    },
    {
     "name": "stdout",
     "output_type": "stream",
     "text": [
      "loss: 0.14193 | bce: 0.03019 | dice: 0.90376 | 0 cls: 0.11690 | 1 cls: 0.16680 | 2 cls: 0.13416\n"
     ]
    },
    {
     "name": "stderr",
     "output_type": "stream",
     "text": [
      "Epoch 430, lr 2.5e-05: 100% 43/43 [00:12<00:00,  3.43it/s, 0 cls=0.16173, 1 cls=0.23152, 2 cls=0.19485, bce=0.05810, dice=0.88409, loss=0.19627]\n"
     ]
    },
    {
     "name": "stdout",
     "output_type": "stream",
     "text": [
      "loss: 0.14344 | bce: 0.03093 | dice: 0.90323 | 0 cls: 0.11847 | 1 cls: 0.16841 | 2 cls: 0.13528\n"
     ]
    },
    {
     "name": "stderr",
     "output_type": "stream",
     "text": [
      "Epoch 431, lr 2.5e-05: 100% 43/43 [00:12<00:00,  3.43it/s, 0 cls=0.16350, 1 cls=0.23657, 2 cls=0.19858, bce=0.05865, dice=0.88184, loss=0.19975]\n"
     ]
    },
    {
     "name": "stdout",
     "output_type": "stream",
     "text": [
      "loss: 0.14266 | bce: 0.03048 | dice: 0.90358 | 0 cls: 0.11719 | 1 cls: 0.16777 | 2 cls: 0.13506\n"
     ]
    },
    {
     "name": "stderr",
     "output_type": "stream",
     "text": [
      "Epoch 432, lr 2.5e-05: 100% 43/43 [00:12<00:00,  3.43it/s, 0 cls=0.15745, 1 cls=0.22968, 2 cls=0.19253, bce=0.05702, dice=0.88565, loss=0.19336]\n"
     ]
    },
    {
     "name": "stdout",
     "output_type": "stream",
     "text": [
      "loss: 0.14335 | bce: 0.03077 | dice: 0.90347 | 0 cls: 0.11743 | 1 cls: 0.16868 | 2 cls: 0.13550\n"
     ]
    },
    {
     "name": "stderr",
     "output_type": "stream",
     "text": [
      "Epoch 433, lr 2.5e-05: 100% 43/43 [00:12<00:00,  3.44it/s, 0 cls=0.17670, 1 cls=0.24240, 2 cls=0.20862, bce=0.06203, dice=0.87594, loss=0.20936]\n"
     ]
    },
    {
     "name": "stdout",
     "output_type": "stream",
     "text": [
      "loss: 0.14298 | bce: 0.03033 | dice: 0.90307 | 0 cls: 0.11797 | 1 cls: 0.16803 | 2 cls: 0.13472\n"
     ]
    },
    {
     "name": "stderr",
     "output_type": "stream",
     "text": [
      "Epoch 434, lr 2.5e-05: 100% 43/43 [00:12<00:00,  3.41it/s, 0 cls=0.16016, 1 cls=0.23179, 2 cls=0.19459, bce=0.05777, dice=0.88429, loss=0.19570]\n"
     ]
    },
    {
     "name": "stdout",
     "output_type": "stream",
     "text": [
      "loss: 0.14311 | bce: 0.03035 | dice: 0.90295 | 0 cls: 0.11805 | 1 cls: 0.16805 | 2 cls: 0.13522\n"
     ]
    },
    {
     "name": "stderr",
     "output_type": "stream",
     "text": [
      "Epoch 435, lr 2.5e-05: 100% 43/43 [00:12<00:00,  3.44it/s, 0 cls=0.16623, 1 cls=0.23652, 2 cls=0.19992, bce=0.05849, dice=0.88028, loss=0.20109]\n"
     ]
    },
    {
     "name": "stdout",
     "output_type": "stream",
     "text": [
      "loss: 0.14197 | bce: 0.02955 | dice: 0.90305 | 0 cls: 0.11734 | 1 cls: 0.16650 | 2 cls: 0.13433\n"
     ]
    },
    {
     "name": "stderr",
     "output_type": "stream",
     "text": [
      "Epoch 436, lr 2.5e-05: 100% 43/43 [00:12<00:00,  3.43it/s, 0 cls=0.16339, 1 cls=0.23317, 2 cls=0.19764, bce=0.05932, dice=0.88332, loss=0.19816]\n"
     ]
    },
    {
     "name": "stdout",
     "output_type": "stream",
     "text": [
      "loss: 0.14297 | bce: 0.03024 | dice: 0.90304 | 0 cls: 0.11829 | 1 cls: 0.16752 | 2 cls: 0.13481\n"
     ]
    },
    {
     "name": "stderr",
     "output_type": "stream",
     "text": [
      "Epoch 437, lr 2.5e-05: 100% 43/43 [00:12<00:00,  3.42it/s, 0 cls=0.16555, 1 cls=0.23847, 2 cls=0.20070, bce=0.05934, dice=0.88075, loss=0.20175]\n"
     ]
    },
    {
     "name": "stdout",
     "output_type": "stream",
     "text": [
      "loss: 0.14226 | bce: 0.03054 | dice: 0.90390 | 0 cls: 0.11760 | 1 cls: 0.16672 | 2 cls: 0.13420\n"
     ]
    },
    {
     "name": "stderr",
     "output_type": "stream",
     "text": [
      "Epoch 438, lr 2.5e-05: 100% 43/43 [00:12<00:00,  3.43it/s, 0 cls=0.16068, 1 cls=0.22888, 2 cls=0.19379, bce=0.05733, dice=0.88455, loss=0.19458]\n"
     ]
    },
    {
     "name": "stdout",
     "output_type": "stream",
     "text": [
      "loss: 0.14223 | bce: 0.03021 | dice: 0.90355 | 0 cls: 0.11809 | 1 cls: 0.16622 | 2 cls: 0.13397\n"
     ]
    },
    {
     "name": "stderr",
     "output_type": "stream",
     "text": [
      "Epoch 439, lr 2.5e-05: 100% 43/43 [00:12<00:00,  3.44it/s, 0 cls=0.16965, 1 cls=0.23857, 2 cls=0.20232, bce=0.06033, dice=0.87960, loss=0.20375]\n"
     ]
    },
    {
     "name": "stdout",
     "output_type": "stream",
     "text": [
      "loss: 0.14201 | bce: 0.03008 | dice: 0.90366 | 0 cls: 0.11750 | 1 cls: 0.16621 | 2 cls: 0.13407\n"
     ]
    },
    {
     "name": "stderr",
     "output_type": "stream",
     "text": [
      "Epoch 440, lr 2.5e-05: 100% 43/43 [00:12<00:00,  3.42it/s, 0 cls=0.16971, 1 cls=0.23874, 2 cls=0.20315, bce=0.06041, dice=0.87928, loss=0.20401]\n"
     ]
    },
    {
     "name": "stdout",
     "output_type": "stream",
     "text": [
      "loss: 0.14282 | bce: 0.03073 | dice: 0.90365 | 0 cls: 0.11806 | 1 cls: 0.16727 | 2 cls: 0.13466\n"
     ]
    },
    {
     "name": "stderr",
     "output_type": "stream",
     "text": [
      "Epoch 441, lr 2.5e-05: 100% 43/43 [00:12<00:00,  3.45it/s, 0 cls=0.16838, 1 cls=0.23713, 2 cls=0.20139, bce=0.06061, dice=0.88074, loss=0.20248]\n"
     ]
    },
    {
     "name": "stdout",
     "output_type": "stream",
     "text": [
      "loss: 0.14356 | bce: 0.03050 | dice: 0.90241 | 0 cls: 0.11982 | 1 cls: 0.16747 | 2 cls: 0.13533\n"
     ]
    },
    {
     "name": "stderr",
     "output_type": "stream",
     "text": [
      "Epoch 442, lr 2.5e-05: 100% 43/43 [00:12<00:00,  3.44it/s, 0 cls=0.16617, 1 cls=0.23658, 2 cls=0.19974, bce=0.05897, dice=0.88065, loss=0.20105]\n"
     ]
    },
    {
     "name": "stdout",
     "output_type": "stream",
     "text": [
      "loss: 0.14168 | bce: 0.03033 | dice: 0.90417 | 0 cls: 0.11696 | 1 cls: 0.16588 | 2 cls: 0.13390\n"
     ]
    },
    {
     "name": "stderr",
     "output_type": "stream",
     "text": [
      "Epoch 443, lr 2.5e-05: 100% 43/43 [00:12<00:00,  3.43it/s, 0 cls=0.15973, 1 cls=0.23023, 2 cls=0.19391, bce=0.05792, dice=0.88506, loss=0.19477]\n"
     ]
    },
    {
     "name": "stdout",
     "output_type": "stream",
     "text": [
      "loss: 0.14307 | bce: 0.03024 | dice: 0.90285 | 0 cls: 0.11786 | 1 cls: 0.16792 | 2 cls: 0.13568\n"
     ]
    },
    {
     "name": "stderr",
     "output_type": "stream",
     "text": [
      "Epoch 444, lr 2.5e-05: 100% 43/43 [00:12<00:00,  3.44it/s, 0 cls=0.17557, 1 cls=0.24129, 2 cls=0.20673, bce=0.06177, dice=0.87699, loss=0.20809]\n"
     ]
    },
    {
     "name": "stdout",
     "output_type": "stream",
     "text": [
      "loss: 0.14192 | bce: 0.03090 | dice: 0.90455 | 0 cls: 0.11706 | 1 cls: 0.16666 | 2 cls: 0.13385\n"
     ]
    },
    {
     "name": "stderr",
     "output_type": "stream",
     "text": [
      "Epoch 445, lr 2.5e-05: 100% 43/43 [00:12<00:00,  3.44it/s, 0 cls=0.16317, 1 cls=0.23389, 2 cls=0.19738, bce=0.05860, dice=0.88283, loss=0.19830]\n"
     ]
    },
    {
     "name": "stdout",
     "output_type": "stream",
     "text": [
      "loss: 0.14236 | bce: 0.03061 | dice: 0.90394 | 0 cls: 0.11725 | 1 cls: 0.16714 | 2 cls: 0.13441\n"
     ]
    },
    {
     "name": "stderr",
     "output_type": "stream",
     "text": [
      "Epoch 446, lr 2.5e-05: 100% 43/43 [00:12<00:00,  3.42it/s, 0 cls=0.16454, 1 cls=0.23296, 2 cls=0.19686, bce=0.05900, dice=0.88290, loss=0.19837]\n"
     ]
    },
    {
     "name": "stdout",
     "output_type": "stream",
     "text": [
      "loss: 0.14249 | bce: 0.03033 | dice: 0.90351 | 0 cls: 0.11785 | 1 cls: 0.16709 | 2 cls: 0.13413\n"
     ]
    },
    {
     "name": "stderr",
     "output_type": "stream",
     "text": [
      "Epoch 447, lr 2.5e-05: 100% 43/43 [00:12<00:00,  3.46it/s, 0 cls=0.15632, 1 cls=0.22817, 2 cls=0.19123, bce=0.05677, dice=0.88658, loss=0.19204]\n"
     ]
    },
    {
     "name": "stdout",
     "output_type": "stream",
     "text": [
      "loss: 0.14219 | bce: 0.03062 | dice: 0.90403 | 0 cls: 0.11791 | 1 cls: 0.16637 | 2 cls: 0.13381\n"
     ]
    },
    {
     "name": "stderr",
     "output_type": "stream",
     "text": [
      "Epoch 448, lr 2.5e-05: 100% 43/43 [00:12<00:00,  3.43it/s, 0 cls=0.16639, 1 cls=0.23880, 2 cls=0.20172, bce=0.06024, dice=0.88087, loss=0.20242]\n"
     ]
    },
    {
     "name": "stdout",
     "output_type": "stream",
     "text": [
      "loss: 0.14215 | bce: 0.03019 | dice: 0.90386 | 0 cls: 0.11725 | 1 cls: 0.16671 | 2 cls: 0.13386\n"
     ]
    },
    {
     "name": "stderr",
     "output_type": "stream",
     "text": [
      "Epoch 449, lr 2.5e-05: 100% 43/43 [00:12<00:00,  3.43it/s, 0 cls=0.16704, 1 cls=0.23457, 2 cls=0.19975, bce=0.05961, dice=0.88138, loss=0.20060]\n"
     ]
    },
    {
     "name": "stdout",
     "output_type": "stream",
     "text": [
      "loss: 0.14207 | bce: 0.03060 | dice: 0.90412 | 0 cls: 0.11752 | 1 cls: 0.16667 | 2 cls: 0.13366\n"
     ]
    },
    {
     "name": "stderr",
     "output_type": "stream",
     "text": [
      "Epoch 450, lr 2.5e-05: 100% 43/43 [00:12<00:00,  3.45it/s, 0 cls=0.16636, 1 cls=0.23964, 2 cls=0.20165, bce=0.05938, dice=0.87989, loss=0.20273]\n"
     ]
    },
    {
     "name": "stdout",
     "output_type": "stream",
     "text": [
      "loss: 0.14374 | bce: 0.03103 | dice: 0.90297 | 0 cls: 0.11944 | 1 cls: 0.16838 | 2 cls: 0.13505\n"
     ]
    },
    {
     "name": "stderr",
     "output_type": "stream",
     "text": [
      "Epoch 451, lr 2.5e-05: 100% 43/43 [00:12<00:00,  3.42it/s, 0 cls=0.16627, 1 cls=0.23686, 2 cls=0.19977, bce=0.05937, dice=0.88107, loss=0.20120]\n"
     ]
    },
    {
     "name": "stdout",
     "output_type": "stream",
     "text": [
      "loss: 0.14179 | bce: 0.03028 | dice: 0.90393 | 0 cls: 0.11781 | 1 cls: 0.16575 | 2 cls: 0.13357\n"
     ]
    },
    {
     "name": "stderr",
     "output_type": "stream",
     "text": [
      "Epoch 452, lr 2.5e-05: 100% 43/43 [00:12<00:00,  3.43it/s, 0 cls=0.17292, 1 cls=0.24066, 2 cls=0.20558, bce=0.06080, dice=0.87745, loss=0.20654]\n"
     ]
    },
    {
     "name": "stdout",
     "output_type": "stream",
     "text": [
      "loss: 0.14267 | bce: 0.03038 | dice: 0.90335 | 0 cls: 0.11850 | 1 cls: 0.16675 | 2 cls: 0.13428\n"
     ]
    },
    {
     "name": "stderr",
     "output_type": "stream",
     "text": [
      "Epoch 453, lr 2.5e-05: 100% 43/43 [00:12<00:00,  3.44it/s, 0 cls=0.16546, 1 cls=0.23809, 2 cls=0.20050, bce=0.06026, dice=0.88172, loss=0.20152]\n"
     ]
    },
    {
     "name": "stdout",
     "output_type": "stream",
     "text": [
      "loss: 0.14356 | bce: 0.03096 | dice: 0.90300 | 0 cls: 0.11976 | 1 cls: 0.16784 | 2 cls: 0.13469\n"
     ]
    },
    {
     "name": "stderr",
     "output_type": "stream",
     "text": [
      "Epoch 454, lr 2.5e-05: 100% 43/43 [00:12<00:00,  3.46it/s, 0 cls=0.16001, 1 cls=0.22929, 2 cls=0.19361, bce=0.05789, dice=0.88531, loss=0.19444]\n"
     ]
    },
    {
     "name": "stdout",
     "output_type": "stream",
     "text": [
      "loss: 0.14470 | bce: 0.03082 | dice: 0.90179 | 0 cls: 0.12126 | 1 cls: 0.16882 | 2 cls: 0.13553\n"
     ]
    },
    {
     "name": "stderr",
     "output_type": "stream",
     "text": [
      "Epoch 455, lr 2.5e-05: 100% 43/43 [00:12<00:00,  3.43it/s, 0 cls=0.15676, 1 cls=0.22906, 2 cls=0.19166, bce=0.05670, dice=0.88601, loss=0.19266]\n"
     ]
    },
    {
     "name": "stdout",
     "output_type": "stream",
     "text": [
      "loss: 0.14308 | bce: 0.03112 | dice: 0.90356 | 0 cls: 0.11956 | 1 cls: 0.16675 | 2 cls: 0.13447\n"
     ]
    },
    {
     "name": "stderr",
     "output_type": "stream",
     "text": [
      "Epoch 456, lr 2.5e-05: 100% 43/43 [00:12<00:00,  3.44it/s, 0 cls=0.16350, 1 cls=0.23293, 2 cls=0.19655, bce=0.05846, dice=0.88293, loss=0.19788]\n"
     ]
    },
    {
     "name": "stdout",
     "output_type": "stream",
     "text": [
      "loss: 0.14329 | bce: 0.03066 | dice: 0.90295 | 0 cls: 0.11856 | 1 cls: 0.16804 | 2 cls: 0.13522\n"
     ]
    },
    {
     "name": "stderr",
     "output_type": "stream",
     "text": [
      "Epoch 457, lr 2.5e-05: 100% 43/43 [00:12<00:00,  3.43it/s, 0 cls=0.16513, 1 cls=0.23571, 2 cls=0.19935, bce=0.05926, dice=0.88175, loss=0.20020]\n"
     ]
    },
    {
     "name": "stdout",
     "output_type": "stream",
     "text": [
      "loss: 0.14252 | bce: 0.03081 | dice: 0.90378 | 0 cls: 0.11877 | 1 cls: 0.16639 | 2 cls: 0.13395\n"
     ]
    },
    {
     "name": "stderr",
     "output_type": "stream",
     "text": [
      "Epoch 458, lr 2.5e-05: 100% 43/43 [00:12<00:00,  3.44it/s, 0 cls=0.16382, 1 cls=0.23478, 2 cls=0.19753, bce=0.05869, dice=0.88235, loss=0.19894]\n"
     ]
    },
    {
     "name": "stdout",
     "output_type": "stream",
     "text": [
      "loss: 0.14200 | bce: 0.03055 | dice: 0.90388 | 0 cls: 0.11784 | 1 cls: 0.16628 | 2 cls: 0.13399\n"
     ]
    },
    {
     "name": "stderr",
     "output_type": "stream",
     "text": [
      "Epoch 459, lr 2.5e-05: 100% 43/43 [00:12<00:00,  3.43it/s, 0 cls=0.15843, 1 cls=0.23176, 2 cls=0.19389, bce=0.05718, dice=0.88471, loss=0.19486]\n"
     ]
    },
    {
     "name": "stdout",
     "output_type": "stream",
     "text": [
      "loss: 0.14236 | bce: 0.03066 | dice: 0.90375 | 0 cls: 0.11826 | 1 cls: 0.16649 | 2 cls: 0.13402\n"
     ]
    },
    {
     "name": "stderr",
     "output_type": "stream",
     "text": [
      "Epoch 460, lr 2.5e-05: 100% 43/43 [00:12<00:00,  3.43it/s, 0 cls=0.16096, 1 cls=0.23160, 2 cls=0.19497, bce=0.05798, dice=0.88411, loss=0.19602]\n"
     ]
    },
    {
     "name": "stdout",
     "output_type": "stream",
     "text": [
      "loss: 0.14409 | bce: 0.03116 | dice: 0.90252 | 0 cls: 0.12077 | 1 cls: 0.16760 | 2 cls: 0.13573\n"
     ]
    },
    {
     "name": "stderr",
     "output_type": "stream",
     "text": [
      "Epoch 461, lr 2.5e-05: 100% 43/43 [00:12<00:00,  3.44it/s, 0 cls=0.16568, 1 cls=0.23711, 2 cls=0.19969, bce=0.05957, dice=0.88138, loss=0.20106]\n"
     ]
    },
    {
     "name": "stdout",
     "output_type": "stream",
     "text": [
      "loss: 0.14241 | bce: 0.03018 | dice: 0.90339 | 0 cls: 0.11818 | 1 cls: 0.16628 | 2 cls: 0.13444\n"
     ]
    },
    {
     "name": "stderr",
     "output_type": "stream",
     "text": [
      "Epoch 462, lr 2.5e-05: 100% 43/43 [00:12<00:00,  3.43it/s, 0 cls=0.16368, 1 cls=0.23337, 2 cls=0.19738, bce=0.05867, dice=0.88283, loss=0.19830]\n"
     ]
    },
    {
     "name": "stdout",
     "output_type": "stream",
     "text": [
      "loss: 0.14352 | bce: 0.03097 | dice: 0.90299 | 0 cls: 0.11996 | 1 cls: 0.16718 | 2 cls: 0.13502\n"
     ]
    },
    {
     "name": "stderr",
     "output_type": "stream",
     "text": [
      "Epoch 463, lr 2.5e-05: 100% 43/43 [00:12<00:00,  3.41it/s, 0 cls=0.16284, 1 cls=0.23310, 2 cls=0.19642, bce=0.05835, dice=0.88301, loss=0.19766]\n"
     ]
    },
    {
     "name": "stdout",
     "output_type": "stream",
     "text": [
      "loss: 0.14379 | bce: 0.03077 | dice: 0.90257 | 0 cls: 0.12035 | 1 cls: 0.16740 | 2 cls: 0.13518\n"
     ]
    },
    {
     "name": "stderr",
     "output_type": "stream",
     "text": [
      "Epoch 464, lr 2.5e-05: 100% 43/43 [00:12<00:00,  3.42it/s, 0 cls=0.16159, 1 cls=0.23356, 2 cls=0.19608, bce=0.05812, dice=0.88340, loss=0.19728]\n"
     ]
    },
    {
     "name": "stdout",
     "output_type": "stream",
     "text": [
      "loss: 0.14317 | bce: 0.03068 | dice: 0.90303 | 0 cls: 0.11903 | 1 cls: 0.16728 | 2 cls: 0.13522\n"
     ]
    },
    {
     "name": "stderr",
     "output_type": "stream",
     "text": [
      "Epoch 465, lr 2.5e-05: 100% 43/43 [00:12<00:00,  3.44it/s, 0 cls=0.15773, 1 cls=0.22923, 2 cls=0.19207, bce=0.05722, dice=0.88586, loss=0.19320]\n"
     ]
    },
    {
     "name": "stdout",
     "output_type": "stream",
     "text": [
      "loss: 0.14283 | bce: 0.03040 | dice: 0.90328 | 0 cls: 0.11775 | 1 cls: 0.16750 | 2 cls: 0.13526\n"
     ]
    },
    {
     "name": "stderr",
     "output_type": "stream",
     "text": [
      "Epoch 466, lr 2.5e-05: 100% 43/43 [00:12<00:00,  3.44it/s, 0 cls=0.15734, 1 cls=0.22701, 2 cls=0.19079, bce=0.05701, dice=0.88666, loss=0.19190]\n"
     ]
    },
    {
     "name": "stdout",
     "output_type": "stream",
     "text": [
      "loss: 0.14246 | bce: 0.03049 | dice: 0.90366 | 0 cls: 0.11811 | 1 cls: 0.16663 | 2 cls: 0.13420\n"
     ]
    },
    {
     "name": "stderr",
     "output_type": "stream",
     "text": [
      "Epoch 467, lr 2.5e-05: 100% 43/43 [00:12<00:00,  3.44it/s, 0 cls=0.15926, 1 cls=0.22965, 2 cls=0.19275, bce=0.05841, dice=0.88603, loss=0.19412]\n"
     ]
    },
    {
     "name": "stdout",
     "output_type": "stream",
     "text": [
      "loss: 0.14336 | bce: 0.03031 | dice: 0.90252 | 0 cls: 0.11996 | 1 cls: 0.16712 | 2 cls: 0.13468\n"
     ]
    },
    {
     "name": "stderr",
     "output_type": "stream",
     "text": [
      "Epoch 468, lr 2.5e-05: 100% 43/43 [00:12<00:00,  3.45it/s, 0 cls=0.16888, 1 cls=0.24074, 2 cls=0.20401, bce=0.05981, dice=0.87873, loss=0.20465]\n"
     ]
    },
    {
     "name": "stdout",
     "output_type": "stream",
     "text": [
      "loss: 0.14377 | bce: 0.03097 | dice: 0.90297 | 0 cls: 0.11963 | 1 cls: 0.16818 | 2 cls: 0.13497\n"
     ]
    },
    {
     "name": "stderr",
     "output_type": "stream",
     "text": [
      "Epoch 469, lr 2.5e-05: 100% 43/43 [00:12<00:00,  3.44it/s, 0 cls=0.15968, 1 cls=0.23039, 2 cls=0.19344, bce=0.05724, dice=0.88461, loss=0.19471]\n"
     ]
    },
    {
     "name": "stdout",
     "output_type": "stream",
     "text": [
      "loss: 0.14265 | bce: 0.03068 | dice: 0.90373 | 0 cls: 0.11794 | 1 cls: 0.16701 | 2 cls: 0.13468\n"
     ]
    },
    {
     "name": "stderr",
     "output_type": "stream",
     "text": [
      "Epoch 470, lr 2.5e-05: 100% 43/43 [00:12<00:00,  3.43it/s, 0 cls=0.15871, 1 cls=0.23169, 2 cls=0.19405, bce=0.05712, dice=0.88440, loss=0.19497]\n"
     ]
    },
    {
     "name": "stdout",
     "output_type": "stream",
     "text": [
      "loss: 0.14287 | bce: 0.03085 | dice: 0.90359 | 0 cls: 0.11833 | 1 cls: 0.16760 | 2 cls: 0.13458\n"
     ]
    },
    {
     "name": "stderr",
     "output_type": "stream",
     "text": [
      "Epoch 471, lr 2.5e-05: 100% 43/43 [00:12<00:00,  3.44it/s, 0 cls=0.16797, 1 cls=0.23631, 2 cls=0.20045, bce=0.06019, dice=0.88103, loss=0.20180]\n"
     ]
    },
    {
     "name": "stdout",
     "output_type": "stream",
     "text": [
      "loss: 0.14455 | bce: 0.03073 | dice: 0.90181 | 0 cls: 0.12104 | 1 cls: 0.16847 | 2 cls: 0.13591\n"
     ]
    },
    {
     "name": "stderr",
     "output_type": "stream",
     "text": [
      "Epoch 472, lr 2.5e-05: 100% 43/43 [00:12<00:00,  3.45it/s, 0 cls=0.16012, 1 cls=0.23128, 2 cls=0.19423, bce=0.05758, dice=0.88434, loss=0.19541]\n"
     ]
    },
    {
     "name": "stdout",
     "output_type": "stream",
     "text": [
      "loss: 0.14221 | bce: 0.03052 | dice: 0.90397 | 0 cls: 0.11775 | 1 cls: 0.16654 | 2 cls: 0.13388\n"
     ]
    },
    {
     "name": "stderr",
     "output_type": "stream",
     "text": [
      "Epoch 473, lr 2.5e-05: 100% 43/43 [00:12<00:00,  3.45it/s, 0 cls=0.16249, 1 cls=0.23367, 2 cls=0.19670, bce=0.05857, dice=0.88327, loss=0.19780]\n"
     ]
    },
    {
     "name": "stdout",
     "output_type": "stream",
     "text": [
      "loss: 0.14302 | bce: 0.03044 | dice: 0.90313 | 0 cls: 0.11809 | 1 cls: 0.16797 | 2 cls: 0.13479\n"
     ]
    },
    {
     "name": "stderr",
     "output_type": "stream",
     "text": [
      "Epoch 474, lr 2.5e-05: 100% 43/43 [00:12<00:00,  3.43it/s, 0 cls=0.16581, 1 cls=0.23478, 2 cls=0.19905, bce=0.05897, dice=0.88151, loss=0.20004]\n"
     ]
    },
    {
     "name": "stdout",
     "output_type": "stream",
     "text": [
      "loss: 0.14193 | bce: 0.03052 | dice: 0.90410 | 0 cls: 0.11756 | 1 cls: 0.16629 | 2 cls: 0.13358\n"
     ]
    },
    {
     "name": "stderr",
     "output_type": "stream",
     "text": [
      "Epoch 475, lr 2.5e-05: 100% 43/43 [00:12<00:00,  3.43it/s, 0 cls=0.16214, 1 cls=0.23460, 2 cls=0.19730, bce=0.05859, dice=0.88300, loss=0.19816]\n"
     ]
    },
    {
     "name": "stdout",
     "output_type": "stream",
     "text": [
      "loss: 0.14239 | bce: 0.03067 | dice: 0.90385 | 0 cls: 0.11762 | 1 cls: 0.16728 | 2 cls: 0.13409\n"
     ]
    },
    {
     "name": "stderr",
     "output_type": "stream",
     "text": [
      "Epoch 476, lr 2.5e-05: 100% 43/43 [00:12<00:00,  3.43it/s, 0 cls=0.17149, 1 cls=0.23954, 2 cls=0.20422, bce=0.06117, dice=0.87887, loss=0.20526]\n"
     ]
    },
    {
     "name": "stdout",
     "output_type": "stream",
     "text": [
      "loss: 0.14437 | bce: 0.03078 | dice: 0.90179 | 0 cls: 0.12167 | 1 cls: 0.16769 | 2 cls: 0.13550\n"
     ]
    },
    {
     "name": "stderr",
     "output_type": "stream",
     "text": [
      "Epoch 477, lr 2.5e-05: 100% 43/43 [00:12<00:00,  3.44it/s, 0 cls=0.16876, 1 cls=0.23840, 2 cls=0.20203, bce=0.06003, dice=0.87965, loss=0.20327]\n"
     ]
    },
    {
     "name": "stdout",
     "output_type": "stream",
     "text": [
      "loss: 0.14353 | bce: 0.03047 | dice: 0.90257 | 0 cls: 0.11895 | 1 cls: 0.16812 | 2 cls: 0.13567\n"
     ]
    },
    {
     "name": "stderr",
     "output_type": "stream",
     "text": [
      "Epoch 478, lr 2.5e-05: 100% 43/43 [00:12<00:00,  3.44it/s, 0 cls=0.16050, 1 cls=0.22989, 2 cls=0.19391, bce=0.05755, dice=0.88449, loss=0.19494]\n"
     ]
    },
    {
     "name": "stdout",
     "output_type": "stream",
     "text": [
      "loss: 0.14331 | bce: 0.03055 | dice: 0.90268 | 0 cls: 0.11955 | 1 cls: 0.16730 | 2 cls: 0.13516\n"
     ]
    },
    {
     "name": "stderr",
     "output_type": "stream",
     "text": [
      "Epoch 479, lr 2.5e-05: 100% 43/43 [00:12<00:00,  3.43it/s, 0 cls=0.16209, 1 cls=0.23097, 2 cls=0.19550, bce=0.05840, dice=0.88398, loss=0.19632]\n"
     ]
    },
    {
     "name": "stdout",
     "output_type": "stream",
     "text": [
      "loss: 0.14352 | bce: 0.03110 | dice: 0.90313 | 0 cls: 0.11952 | 1 cls: 0.16795 | 2 cls: 0.13486\n"
     ]
    },
    {
     "name": "stderr",
     "output_type": "stream",
     "text": [
      "Epoch 480, lr 2.5e-05: 100% 43/43 [00:12<00:00,  3.46it/s, 0 cls=0.15856, 1 cls=0.23009, 2 cls=0.19327, bce=0.05720, dice=0.88508, loss=0.19411]\n"
     ]
    },
    {
     "name": "stdout",
     "output_type": "stream",
     "text": [
      "loss: 0.14253 | bce: 0.03042 | dice: 0.90350 | 0 cls: 0.11776 | 1 cls: 0.16731 | 2 cls: 0.13449\n"
     ]
    },
    {
     "name": "stderr",
     "output_type": "stream",
     "text": [
      "Epoch 481, lr 2.5e-05: 100% 43/43 [00:12<00:00,  3.44it/s, 0 cls=0.15762, 1 cls=0.22905, 2 cls=0.19210, bce=0.05703, dice=0.88583, loss=0.19309]\n"
     ]
    },
    {
     "name": "stdout",
     "output_type": "stream",
     "text": [
      "loss: 0.14290 | bce: 0.03077 | dice: 0.90336 | 0 cls: 0.11848 | 1 cls: 0.16787 | 2 cls: 0.13429\n"
     ]
    },
    {
     "name": "stderr",
     "output_type": "stream",
     "text": [
      "Epoch 482, lr 2.5e-05: 100% 43/43 [00:12<00:00,  3.42it/s, 0 cls=0.16050, 1 cls=0.23172, 2 cls=0.19493, bce=0.05842, dice=0.88466, loss=0.19588]\n"
     ]
    },
    {
     "name": "stdout",
     "output_type": "stream",
     "text": [
      "loss: 0.14280 | bce: 0.03060 | dice: 0.90342 | 0 cls: 0.11835 | 1 cls: 0.16756 | 2 cls: 0.13434\n"
     ]
    },
    {
     "name": "stderr",
     "output_type": "stream",
     "text": [
      "Epoch 483, lr 2.5e-05: 100% 43/43 [00:12<00:00,  3.45it/s, 0 cls=0.16364, 1 cls=0.23416, 2 cls=0.19761, bce=0.05843, dice=0.88227, loss=0.19864]\n"
     ]
    },
    {
     "name": "stdout",
     "output_type": "stream",
     "text": [
      "loss: 0.14431 | bce: 0.03079 | dice: 0.90188 | 0 cls: 0.12139 | 1 cls: 0.16790 | 2 cls: 0.13556\n"
     ]
    },
    {
     "name": "stderr",
     "output_type": "stream",
     "text": [
      "Epoch 484, lr 2.5e-05: 100% 43/43 [00:12<00:00,  3.42it/s, 0 cls=0.15726, 1 cls=0.22861, 2 cls=0.19173, bce=0.05684, dice=0.88603, loss=0.19269]\n"
     ]
    },
    {
     "name": "stdout",
     "output_type": "stream",
     "text": [
      "loss: 0.14269 | bce: 0.02995 | dice: 0.90279 | 0 cls: 0.11901 | 1 cls: 0.16663 | 2 cls: 0.13424\n"
     ]
    },
    {
     "name": "stderr",
     "output_type": "stream",
     "text": [
      "Epoch 485, lr 2.5e-05: 100% 43/43 [00:12<00:00,  3.43it/s, 0 cls=0.16773, 1 cls=0.23169, 2 cls=0.19786, bce=0.06188, dice=0.88439, loss=0.19934]\n"
     ]
    },
    {
     "name": "stdout",
     "output_type": "stream",
     "text": [
      "loss: 0.14266 | bce: 0.03037 | dice: 0.90305 | 0 cls: 0.11955 | 1 cls: 0.16627 | 2 cls: 0.13398\n"
     ]
    },
    {
     "name": "stderr",
     "output_type": "stream",
     "text": [
      "Epoch 486, lr 2.5e-05: 100% 43/43 [00:12<00:00,  3.44it/s, 0 cls=0.16237, 1 cls=0.23459, 2 cls=0.19775, bce=0.05884, dice=0.88312, loss=0.19834]\n"
     ]
    },
    {
     "name": "stdout",
     "output_type": "stream",
     "text": [
      "loss: 0.14274 | bce: 0.03058 | dice: 0.90331 | 0 cls: 0.11906 | 1 cls: 0.16673 | 2 cls: 0.13426\n"
     ]
    },
    {
     "name": "stderr",
     "output_type": "stream",
     "text": [
      "Epoch 487, lr 2.5e-05: 100% 43/43 [00:12<00:00,  3.43it/s, 0 cls=0.16611, 1 cls=0.23659, 2 cls=0.20009, bce=0.05980, dice=0.88143, loss=0.20110]\n"
     ]
    },
    {
     "name": "stdout",
     "output_type": "stream",
     "text": [
      "loss: 0.14306 | bce: 0.03039 | dice: 0.90289 | 0 cls: 0.11943 | 1 cls: 0.16701 | 2 cls: 0.13442\n"
     ]
    },
    {
     "name": "stderr",
     "output_type": "stream",
     "text": [
      "Epoch 488, lr 2.5e-05: 100% 43/43 [00:12<00:00,  3.45it/s, 0 cls=0.16284, 1 cls=0.23281, 2 cls=0.19616, bce=0.05811, dice=0.88306, loss=0.19749]\n"
     ]
    },
    {
     "name": "stdout",
     "output_type": "stream",
     "text": [
      "loss: 0.14324 | bce: 0.03053 | dice: 0.90295 | 0 cls: 0.11903 | 1 cls: 0.16737 | 2 cls: 0.13500\n"
     ]
    },
    {
     "name": "stderr",
     "output_type": "stream",
     "text": [
      "Epoch 489, lr 2.5e-05: 100% 43/43 [00:12<00:00,  3.44it/s, 0 cls=0.16071, 1 cls=0.23124, 2 cls=0.19473, bce=0.05823, dice=0.88457, loss=0.19572]\n"
     ]
    },
    {
     "name": "stdout",
     "output_type": "stream",
     "text": [
      "loss: 0.14264 | bce: 0.03059 | dice: 0.90378 | 0 cls: 0.11779 | 1 cls: 0.16729 | 2 cls: 0.13435\n"
     ]
    },
    {
     "name": "stderr",
     "output_type": "stream",
     "text": [
      "Epoch 490, lr 0.0004096000000000001: 100% 43/43 [00:12<00:00,  3.44it/s, 0 cls=0.19095, 1 cls=0.26360, 2 cls=0.22309, bce=0.06712, dice=0.86709, loss=0.22644]\n"
     ]
    },
    {
     "name": "stdout",
     "output_type": "stream",
     "text": [
      "loss: 0.15467 | bce: 0.03261 | dice: 0.89636 | 0 cls: 0.12290 | 1 cls: 0.18535 | 2 cls: 0.14761\n"
     ]
    },
    {
     "name": "stderr",
     "output_type": "stream",
     "text": [
      "Epoch 491, lr 0.0004096000000000001: 100% 43/43 [00:12<00:00,  3.42it/s, 0 cls=0.19391, 1 cls=0.26280, 2 cls=0.22525, bce=0.06878, dice=0.86707, loss=0.22773]\n"
     ]
    },
    {
     "name": "stdout",
     "output_type": "stream",
     "text": [
      "loss: 0.14624 | bce: 0.03107 | dice: 0.90156 | 0 cls: 0.12198 | 1 cls: 0.16947 | 2 cls: 0.13700\n"
     ]
    },
    {
     "name": "stderr",
     "output_type": "stream",
     "text": [
      "Epoch 492, lr 0.00012288000000000002: 100% 43/43 [00:12<00:00,  3.43it/s, 0 cls=0.17470, 1 cls=0.24849, 2 cls=0.20905, bce=0.06189, dice=0.87516, loss=0.21109]\n"
     ]
    },
    {
     "name": "stdout",
     "output_type": "stream",
     "text": [
      "loss: 0.14368 | bce: 0.03072 | dice: 0.90310 | 0 cls: 0.11870 | 1 cls: 0.16909 | 2 cls: 0.13406\n"
     ]
    },
    {
     "name": "stderr",
     "output_type": "stream",
     "text": [
      "Epoch 493, lr 0.00012288000000000002: 100% 43/43 [00:12<00:00,  3.46it/s, 0 cls=0.16843, 1 cls=0.23852, 2 cls=0.20183, bce=0.06005, dice=0.87995, loss=0.20315]\n"
     ]
    },
    {
     "name": "stdout",
     "output_type": "stream",
     "text": [
      "loss: 0.14412 | bce: 0.03068 | dice: 0.90291 | 0 cls: 0.11901 | 1 cls: 0.16956 | 2 cls: 0.13463\n"
     ]
    },
    {
     "name": "stderr",
     "output_type": "stream",
     "text": [
      "Epoch 494, lr 3.6864000000000005e-05: 100% 43/43 [00:12<00:00,  3.43it/s, 0 cls=0.16908, 1 cls=0.23633, 2 cls=0.20038, bce=0.05978, dice=0.88027, loss=0.20224]\n"
     ]
    },
    {
     "name": "stdout",
     "output_type": "stream",
     "text": [
      "loss: 0.14341 | bce: 0.03042 | dice: 0.90275 | 0 cls: 0.11915 | 1 cls: 0.16810 | 2 cls: 0.13428\n"
     ]
    },
    {
     "name": "stderr",
     "output_type": "stream",
     "text": [
      "Epoch 495, lr 0.0004096000000000001: 100% 43/43 [00:12<00:00,  3.43it/s, 0 cls=0.17147, 1 cls=0.24156, 2 cls=0.20338, bce=0.06120, dice=0.87880, loss=0.20589]\n"
     ]
    },
    {
     "name": "stdout",
     "output_type": "stream",
     "text": [
      "loss: 0.14577 | bce: 0.03142 | dice: 0.90172 | 0 cls: 0.12208 | 1 cls: 0.17076 | 2 cls: 0.13588\n"
     ]
    },
    {
     "name": "stderr",
     "output_type": "stream",
     "text": [
      "Epoch 496, lr 0.0004096000000000001: 100% 43/43 [00:12<00:00,  3.43it/s, 0 cls=0.17665, 1 cls=0.24583, 2 cls=0.20869, bce=0.06326, dice=0.87619, loss=0.21073]\n"
     ]
    },
    {
     "name": "stdout",
     "output_type": "stream",
     "text": [
      "loss: 0.14496 | bce: 0.03366 | dice: 0.90488 | 0 cls: 0.11846 | 1 cls: 0.17164 | 2 cls: 0.13612\n"
     ]
    },
    {
     "name": "stderr",
     "output_type": "stream",
     "text": [
      "Epoch 497, lr 0.00012288000000000002: 100% 43/43 [00:12<00:00,  3.44it/s, 0 cls=0.17411, 1 cls=0.24879, 2 cls=0.20933, bce=0.06319, dice=0.87662, loss=0.21102]\n"
     ]
    },
    {
     "name": "stdout",
     "output_type": "stream",
     "text": [
      "loss: 0.14949 | bce: 0.03178 | dice: 0.89830 | 0 cls: 0.13098 | 1 cls: 0.16930 | 2 cls: 0.13761\n"
     ]
    },
    {
     "name": "stderr",
     "output_type": "stream",
     "text": [
      "Epoch 498, lr 0.00012288000000000002: 100% 43/43 [00:12<00:00,  3.41it/s, 0 cls=0.16830, 1 cls=0.23839, 2 cls=0.20096, bce=0.06032, dice=0.88032, loss=0.20287]\n"
     ]
    },
    {
     "name": "stdout",
     "output_type": "stream",
     "text": [
      "loss: 0.14343 | bce: 0.03148 | dice: 0.90416 | 0 cls: 0.11767 | 1 cls: 0.16877 | 2 cls: 0.13481\n"
     ]
    },
    {
     "name": "stderr",
     "output_type": "stream",
     "text": [
      "Epoch 499, lr 3.6864000000000005e-05: 100% 43/43 [00:12<00:00,  3.45it/s, 0 cls=0.16277, 1 cls=0.23240, 2 cls=0.19589, bce=0.05791, dice=0.88313, loss=0.19724]\n"
     ]
    },
    {
     "name": "stdout",
     "output_type": "stream",
     "text": [
      "loss: 0.14249 | bce: 0.03115 | dice: 0.90470 | 0 cls: 0.11656 | 1 cls: 0.16777 | 2 cls: 0.13427\n"
     ]
    },
    {
     "name": "stderr",
     "output_type": "stream",
     "text": [
      "Epoch 500, lr 1.25e-05: 100% 43/43 [00:12<00:00,  3.43it/s, 0 cls=0.17101, 1 cls=0.23928, 2 cls=0.20324, bce=0.06119, dice=0.87929, loss=0.20477]\n"
     ]
    },
    {
     "name": "stdout",
     "output_type": "stream",
     "text": [
      "loss: 0.14254 | bce: 0.03110 | dice: 0.90452 | 0 cls: 0.11667 | 1 cls: 0.16804 | 2 cls: 0.13414\n"
     ]
    },
    {
     "name": "stderr",
     "output_type": "stream",
     "text": [
      "Epoch 501, lr 1.25e-05: 100% 43/43 [00:12<00:00,  3.44it/s, 0 cls=0.16567, 1 cls=0.23489, 2 cls=0.19884, bce=0.05957, dice=0.88219, loss=0.19999]\n"
     ]
    },
    {
     "name": "stdout",
     "output_type": "stream",
     "text": [
      "loss: 0.14287 | bce: 0.03087 | dice: 0.90391 | 0 cls: 0.11724 | 1 cls: 0.16840 | 2 cls: 0.13432\n"
     ]
    },
    {
     "name": "stderr",
     "output_type": "stream",
     "text": [
      "Epoch 502, lr 1.25e-05: 100% 43/43 [00:12<00:00,  3.44it/s, 0 cls=0.16942, 1 cls=0.23734, 2 cls=0.20221, bce=0.06118, dice=0.88068, loss=0.20315]\n"
     ]
    },
    {
     "name": "stdout",
     "output_type": "stream",
     "text": [
      "loss: 0.14238 | bce: 0.03063 | dice: 0.90415 | 0 cls: 0.11688 | 1 cls: 0.16749 | 2 cls: 0.13398\n"
     ]
    },
    {
     "name": "stderr",
     "output_type": "stream",
     "text": [
      "Epoch 503, lr 1.25e-05: 100% 43/43 [00:12<00:00,  3.45it/s, 0 cls=0.17355, 1 cls=0.24054, 2 cls=0.20544, bce=0.06169, dice=0.87799, loss=0.20673]\n"
     ]
    },
    {
     "name": "stdout",
     "output_type": "stream",
     "text": [
      "loss: 0.14260 | bce: 0.03057 | dice: 0.90403 | 0 cls: 0.11698 | 1 cls: 0.16778 | 2 cls: 0.13401\n"
     ]
    },
    {
     "name": "stderr",
     "output_type": "stream",
     "text": [
      "Epoch 504, lr 1.25e-05: 100% 43/43 [00:12<00:00,  3.44it/s, 0 cls=0.16549, 1 cls=0.23795, 2 cls=0.20021, bce=0.05978, dice=0.88129, loss=0.20142]\n"
     ]
    },
    {
     "name": "stdout",
     "output_type": "stream",
     "text": [
      "loss: 0.14267 | bce: 0.03044 | dice: 0.90383 | 0 cls: 0.11677 | 1 cls: 0.16799 | 2 cls: 0.13442\n"
     ]
    },
    {
     "name": "stderr",
     "output_type": "stream",
     "text": [
      "Epoch 505, lr 1.25e-05: 100% 43/43 [00:12<00:00,  3.44it/s, 0 cls=0.16822, 1 cls=0.23998, 2 cls=0.20287, bce=0.06020, dice=0.87968, loss=0.20385]\n"
     ]
    },
    {
     "name": "stdout",
     "output_type": "stream",
     "text": [
      "loss: 0.14258 | bce: 0.03067 | dice: 0.90400 | 0 cls: 0.11710 | 1 cls: 0.16760 | 2 cls: 0.13427\n"
     ]
    },
    {
     "name": "stderr",
     "output_type": "stream",
     "text": [
      "Epoch 506, lr 1.25e-05: 100% 43/43 [00:12<00:00,  3.45it/s, 0 cls=0.17433, 1 cls=0.23996, 2 cls=0.20524, bce=0.06209, dice=0.87828, loss=0.20676]\n"
     ]
    },
    {
     "name": "stdout",
     "output_type": "stream",
     "text": [
      "loss: 0.14312 | bce: 0.03073 | dice: 0.90363 | 0 cls: 0.11767 | 1 cls: 0.16829 | 2 cls: 0.13454\n"
     ]
    },
    {
     "name": "stderr",
     "output_type": "stream",
     "text": [
      "Epoch 507, lr 1.25e-05: 100% 43/43 [00:12<00:00,  3.44it/s, 0 cls=0.16437, 1 cls=0.23754, 2 cls=0.19907, bce=0.05914, dice=0.88162, loss=0.20058]\n"
     ]
    },
    {
     "name": "stdout",
     "output_type": "stream",
     "text": [
      "loss: 0.14319 | bce: 0.03082 | dice: 0.90362 | 0 cls: 0.11798 | 1 cls: 0.16807 | 2 cls: 0.13456\n"
     ]
    },
    {
     "name": "stderr",
     "output_type": "stream",
     "text": [
      "Epoch 508, lr 1.25e-05: 100% 43/43 [00:12<00:00,  3.41it/s, 0 cls=0.17195, 1 cls=0.24352, 2 cls=0.20637, bce=0.06115, dice=0.87754, loss=0.20746]\n"
     ]
    },
    {
     "name": "stdout",
     "output_type": "stream",
     "text": [
      "loss: 0.14294 | bce: 0.03062 | dice: 0.90369 | 0 cls: 0.11737 | 1 cls: 0.16800 | 2 cls: 0.13463\n"
     ]
    },
    {
     "name": "stderr",
     "output_type": "stream",
     "text": [
      "Epoch 509, lr 1.25e-05: 100% 43/43 [00:12<00:00,  3.44it/s, 0 cls=0.16500, 1 cls=0.23484, 2 cls=0.19874, bce=0.05841, dice=0.88139, loss=0.19968]\n"
     ]
    },
    {
     "name": "stdout",
     "output_type": "stream",
     "text": [
      "loss: 0.14265 | bce: 0.03107 | dice: 0.90438 | 0 cls: 0.11682 | 1 cls: 0.16783 | 2 cls: 0.13453\n"
     ]
    },
    {
     "name": "stderr",
     "output_type": "stream",
     "text": [
      "Epoch 510, lr 1.25e-05: 100% 43/43 [00:12<00:00,  3.42it/s, 0 cls=0.17011, 1 cls=0.24220, 2 cls=0.20463, bce=0.06120, dice=0.87894, loss=0.20585]\n"
     ]
    },
    {
     "name": "stdout",
     "output_type": "stream",
     "text": [
      "loss: 0.14277 | bce: 0.03063 | dice: 0.90395 | 0 cls: 0.11682 | 1 cls: 0.16801 | 2 cls: 0.13472\n"
     ]
    },
    {
     "name": "stderr",
     "output_type": "stream",
     "text": [
      "Epoch 511, lr 1.25e-05: 100% 43/43 [00:12<00:00,  3.43it/s, 0 cls=0.16653, 1 cls=0.23412, 2 cls=0.19905, bce=0.05940, dice=0.88169, loss=0.20007]\n"
     ]
    },
    {
     "name": "stdout",
     "output_type": "stream",
     "text": [
      "loss: 0.14245 | bce: 0.03104 | dice: 0.90448 | 0 cls: 0.11704 | 1 cls: 0.16725 | 2 cls: 0.13422\n"
     ]
    },
    {
     "name": "stderr",
     "output_type": "stream",
     "text": [
      "Epoch 512, lr 1.25e-05: 100% 43/43 [00:12<00:00,  3.41it/s, 0 cls=0.16847, 1 cls=0.23697, 2 cls=0.20102, bce=0.05996, dice=0.88041, loss=0.20238]\n"
     ]
    },
    {
     "name": "stdout",
     "output_type": "stream",
     "text": [
      "loss: 0.14331 | bce: 0.03030 | dice: 0.90292 | 0 cls: 0.11842 | 1 cls: 0.16786 | 2 cls: 0.13481\n"
     ]
    },
    {
     "name": "stderr",
     "output_type": "stream",
     "text": [
      "Epoch 513, lr 1.25e-05: 100% 43/43 [00:12<00:00,  3.42it/s, 0 cls=0.16358, 1 cls=0.23303, 2 cls=0.19687, bce=0.05857, dice=0.88285, loss=0.19802]\n"
     ]
    },
    {
     "name": "stdout",
     "output_type": "stream",
     "text": [
      "loss: 0.14252 | bce: 0.03106 | dice: 0.90444 | 0 cls: 0.11701 | 1 cls: 0.16749 | 2 cls: 0.13422\n"
     ]
    },
    {
     "name": "stderr",
     "output_type": "stream",
     "text": [
      "Epoch 514, lr 1.25e-05: 100% 43/43 [00:12<00:00,  3.43it/s, 0 cls=0.15916, 1 cls=0.22994, 2 cls=0.19326, bce=0.05752, dice=0.88514, loss=0.19429]\n"
     ]
    },
    {
     "name": "stdout",
     "output_type": "stream",
     "text": [
      "loss: 0.14259 | bce: 0.03054 | dice: 0.90378 | 0 cls: 0.11739 | 1 cls: 0.16719 | 2 cls: 0.13452\n"
     ]
    },
    {
     "name": "stderr",
     "output_type": "stream",
     "text": [
      "Epoch 515, lr 1.25e-05: 100% 43/43 [00:12<00:00,  3.41it/s, 0 cls=0.16223, 1 cls=0.23175, 2 cls=0.19576, bce=0.05846, dice=0.88390, loss=0.19674]\n"
     ]
    },
    {
     "name": "stdout",
     "output_type": "stream",
     "text": [
      "loss: 0.14244 | bce: 0.03073 | dice: 0.90415 | 0 cls: 0.11672 | 1 cls: 0.16757 | 2 cls: 0.13448\n"
     ]
    },
    {
     "name": "stderr",
     "output_type": "stream",
     "text": [
      "Epoch 516, lr 1.25e-05: 100% 43/43 [00:12<00:00,  3.42it/s, 0 cls=0.16915, 1 cls=0.23919, 2 cls=0.20314, bce=0.06035, dice=0.87936, loss=0.20396]\n"
     ]
    },
    {
     "name": "stdout",
     "output_type": "stream",
     "text": [
      "loss: 0.14261 | bce: 0.03051 | dice: 0.90370 | 0 cls: 0.11766 | 1 cls: 0.16715 | 2 cls: 0.13432\n"
     ]
    },
    {
     "name": "stderr",
     "output_type": "stream",
     "text": [
      "Epoch 517, lr 1.25e-05: 100% 43/43 [00:12<00:00,  3.45it/s, 0 cls=0.17143, 1 cls=0.24244, 2 cls=0.20588, bce=0.06163, dice=0.87822, loss=0.20672]\n"
     ]
    },
    {
     "name": "stdout",
     "output_type": "stream",
     "text": [
      "loss: 0.14306 | bce: 0.03057 | dice: 0.90343 | 0 cls: 0.11784 | 1 cls: 0.16785 | 2 cls: 0.13480\n"
     ]
    },
    {
     "name": "stderr",
     "output_type": "stream",
     "text": [
      "Epoch 518, lr 1.25e-05: 100% 43/43 [00:12<00:00,  3.44it/s, 0 cls=0.16495, 1 cls=0.23622, 2 cls=0.19915, bce=0.05889, dice=0.88141, loss=0.20030]\n"
     ]
    },
    {
     "name": "stdout",
     "output_type": "stream",
     "text": [
      "loss: 0.14293 | bce: 0.03045 | dice: 0.90341 | 0 cls: 0.11761 | 1 cls: 0.16774 | 2 cls: 0.13479\n"
     ]
    },
    {
     "name": "stderr",
     "output_type": "stream",
     "text": [
      "Epoch 519, lr 1.25e-05: 100% 43/43 [00:12<00:00,  3.46it/s, 0 cls=0.16370, 1 cls=0.23510, 2 cls=0.19821, bce=0.05887, dice=0.88228, loss=0.19916]\n"
     ]
    },
    {
     "name": "stdout",
     "output_type": "stream",
     "text": [
      "loss: 0.14231 | bce: 0.03069 | dice: 0.90411 | 0 cls: 0.11722 | 1 cls: 0.16687 | 2 cls: 0.13425\n"
     ]
    },
    {
     "name": "stderr",
     "output_type": "stream",
     "text": [
      "Epoch 520, lr 1.25e-05: 100% 43/43 [00:12<00:00,  3.41it/s, 0 cls=0.16129, 1 cls=0.23443, 2 cls=0.19677, bce=0.05829, dice=0.88331, loss=0.19764]\n"
     ]
    },
    {
     "name": "stdout",
     "output_type": "stream",
     "text": [
      "loss: 0.14251 | bce: 0.03082 | dice: 0.90407 | 0 cls: 0.11771 | 1 cls: 0.16682 | 2 cls: 0.13419\n"
     ]
    },
    {
     "name": "stderr",
     "output_type": "stream",
     "text": [
      "Epoch 521, lr 1.25e-05: 100% 43/43 [00:12<00:00,  3.43it/s, 0 cls=0.16885, 1 cls=0.24237, 2 cls=0.20434, bce=0.06098, dice=0.87938, loss=0.20535]\n"
     ]
    },
    {
     "name": "stdout",
     "output_type": "stream",
     "text": [
      "loss: 0.14248 | bce: 0.03076 | dice: 0.90404 | 0 cls: 0.11739 | 1 cls: 0.16716 | 2 cls: 0.13428\n"
     ]
    },
    {
     "name": "stderr",
     "output_type": "stream",
     "text": [
      "Epoch 522, lr 1.25e-05: 100% 43/43 [00:12<00:00,  3.42it/s, 0 cls=0.16007, 1 cls=0.23156, 2 cls=0.19449, bce=0.05783, dice=0.88446, loss=0.19555]\n"
     ]
    },
    {
     "name": "stdout",
     "output_type": "stream",
     "text": [
      "loss: 0.14281 | bce: 0.03054 | dice: 0.90353 | 0 cls: 0.11754 | 1 cls: 0.16763 | 2 cls: 0.13472\n"
     ]
    },
    {
     "name": "stderr",
     "output_type": "stream",
     "text": [
      "Epoch 523, lr 1.25e-05: 100% 43/43 [00:12<00:00,  3.44it/s, 0 cls=0.15876, 1 cls=0.22934, 2 cls=0.19285, bce=0.05688, dice=0.88492, loss=0.19381]\n"
     ]
    },
    {
     "name": "stdout",
     "output_type": "stream",
     "text": [
      "loss: 0.14253 | bce: 0.03076 | dice: 0.90403 | 0 cls: 0.11707 | 1 cls: 0.16740 | 2 cls: 0.13465\n"
     ]
    },
    {
     "name": "stderr",
     "output_type": "stream",
     "text": [
      "Epoch 524, lr 1.25e-05: 100% 43/43 [00:12<00:00,  3.45it/s, 0 cls=0.17103, 1 cls=0.24258, 2 cls=0.20528, bce=0.06129, dice=0.87842, loss=0.20650]\n"
     ]
    },
    {
     "name": "stdout",
     "output_type": "stream",
     "text": [
      "loss: 0.14260 | bce: 0.03033 | dice: 0.90348 | 0 cls: 0.11774 | 1 cls: 0.16683 | 2 cls: 0.13462\n"
     ]
    },
    {
     "name": "stderr",
     "output_type": "stream",
     "text": [
      "Epoch 525, lr 1.25e-05: 100% 43/43 [00:12<00:00,  3.44it/s, 0 cls=0.15883, 1 cls=0.22888, 2 cls=0.19259, bce=0.05666, dice=0.88485, loss=0.19360]\n"
     ]
    },
    {
     "name": "stdout",
     "output_type": "stream",
     "text": [
      "loss: 0.14282 | bce: 0.03085 | dice: 0.90373 | 0 cls: 0.11793 | 1 cls: 0.16741 | 2 cls: 0.13464\n"
     ]
    },
    {
     "name": "stderr",
     "output_type": "stream",
     "text": [
      "Epoch 526, lr 1.25e-05: 100% 43/43 [00:12<00:00,  3.43it/s, 0 cls=0.15637, 1 cls=0.22675, 2 cls=0.19013, bce=0.05673, dice=0.88707, loss=0.19127]\n"
     ]
    },
    {
     "name": "stdout",
     "output_type": "stream",
     "text": [
      "loss: 0.14204 | bce: 0.03051 | dice: 0.90426 | 0 cls: 0.11651 | 1 cls: 0.16671 | 2 cls: 0.13447\n"
     ]
    },
    {
     "name": "stderr",
     "output_type": "stream",
     "text": [
      "Epoch 527, lr 1.25e-05: 100% 43/43 [00:12<00:00,  3.44it/s, 0 cls=0.16582, 1 cls=0.23822, 2 cls=0.20140, bce=0.05957, dice=0.88058, loss=0.20190]\n"
     ]
    },
    {
     "name": "stdout",
     "output_type": "stream",
     "text": [
      "loss: 0.14234 | bce: 0.03081 | dice: 0.90417 | 0 cls: 0.11730 | 1 cls: 0.16706 | 2 cls: 0.13412\n"
     ]
    },
    {
     "name": "stderr",
     "output_type": "stream",
     "text": [
      "Epoch 528, lr 1.25e-05: 100% 43/43 [00:12<00:00,  3.44it/s, 0 cls=0.16700, 1 cls=0.23357, 2 cls=0.19881, bce=0.05913, dice=0.88159, loss=0.19999]\n"
     ]
    },
    {
     "name": "stdout",
     "output_type": "stream",
     "text": [
      "loss: 0.14262 | bce: 0.03067 | dice: 0.90378 | 0 cls: 0.11779 | 1 cls: 0.16699 | 2 cls: 0.13446\n"
     ]
    },
    {
     "name": "stderr",
     "output_type": "stream",
     "text": [
      "Epoch 529, lr 1.25e-05: 100% 43/43 [00:12<00:00,  3.45it/s, 0 cls=0.16467, 1 cls=0.23257, 2 cls=0.19717, bce=0.05887, dice=0.88268, loss=0.19833]\n"
     ]
    },
    {
     "name": "stdout",
     "output_type": "stream",
     "text": [
      "loss: 0.14234 | bce: 0.03057 | dice: 0.90397 | 0 cls: 0.11727 | 1 cls: 0.16669 | 2 cls: 0.13447\n"
     ]
    },
    {
     "name": "stderr",
     "output_type": "stream",
     "text": [
      "Epoch 530, lr 1.25e-05: 100% 43/43 [00:12<00:00,  3.44it/s, 0 cls=0.16480, 1 cls=0.23610, 2 cls=0.19934, bce=0.05956, dice=0.88197, loss=0.20023]\n"
     ]
    },
    {
     "name": "stdout",
     "output_type": "stream",
     "text": [
      "loss: 0.14280 | bce: 0.03021 | dice: 0.90331 | 0 cls: 0.11746 | 1 cls: 0.16748 | 2 cls: 0.13483\n"
     ]
    },
    {
     "name": "stderr",
     "output_type": "stream",
     "text": [
      "Epoch 531, lr 1.25e-05: 100% 43/43 [00:12<00:00,  3.43it/s, 0 cls=0.16045, 1 cls=0.22973, 2 cls=0.19400, bce=0.05745, dice=0.88437, loss=0.19487]\n"
     ]
    },
    {
     "name": "stdout",
     "output_type": "stream",
     "text": [
      "loss: 0.14242 | bce: 0.03041 | dice: 0.90381 | 0 cls: 0.11704 | 1 cls: 0.16724 | 2 cls: 0.13443\n"
     ]
    },
    {
     "name": "stderr",
     "output_type": "stream",
     "text": [
      "Epoch 532, lr 1.25e-05: 100% 43/43 [00:12<00:00,  3.43it/s, 0 cls=0.17447, 1 cls=0.24334, 2 cls=0.20698, bce=0.06195, dice=0.87721, loss=0.20852]\n"
     ]
    },
    {
     "name": "stdout",
     "output_type": "stream",
     "text": [
      "loss: 0.14254 | bce: 0.03051 | dice: 0.90368 | 0 cls: 0.11762 | 1 cls: 0.16687 | 2 cls: 0.13461\n"
     ]
    },
    {
     "name": "stderr",
     "output_type": "stream",
     "text": [
      "Epoch 533, lr 1.25e-05: 100% 43/43 [00:12<00:00,  3.44it/s, 0 cls=0.16765, 1 cls=0.23648, 2 cls=0.20090, bce=0.05985, dice=0.88071, loss=0.20183]\n"
     ]
    },
    {
     "name": "stdout",
     "output_type": "stream",
     "text": [
      "loss: 0.14193 | bce: 0.03033 | dice: 0.90401 | 0 cls: 0.11726 | 1 cls: 0.16610 | 2 cls: 0.13399\n"
     ]
    },
    {
     "name": "stderr",
     "output_type": "stream",
     "text": [
      "Epoch 534, lr 1.25e-05: 100% 43/43 [00:12<00:00,  3.44it/s, 0 cls=0.16225, 1 cls=0.23084, 2 cls=0.19501, bce=0.05849, dice=0.88412, loss=0.19624]\n"
     ]
    },
    {
     "name": "stdout",
     "output_type": "stream",
     "text": [
      "loss: 0.14251 | bce: 0.03025 | dice: 0.90343 | 0 cls: 0.11744 | 1 cls: 0.16701 | 2 cls: 0.13477\n"
     ]
    },
    {
     "name": "stderr",
     "output_type": "stream",
     "text": [
      "Epoch 535, lr 1.25e-05: 100% 43/43 [00:12<00:00,  3.45it/s, 0 cls=0.16264, 1 cls=0.23133, 2 cls=0.19618, bce=0.05841, dice=0.88361, loss=0.19682]\n"
     ]
    },
    {
     "name": "stdout",
     "output_type": "stream",
     "text": [
      "loss: 0.14216 | bce: 0.03038 | dice: 0.90388 | 0 cls: 0.11735 | 1 cls: 0.16635 | 2 cls: 0.13432\n"
     ]
    },
    {
     "name": "stderr",
     "output_type": "stream",
     "text": [
      "Epoch 536, lr 1.25e-05: 100% 43/43 [00:12<00:00,  3.42it/s, 0 cls=0.16452, 1 cls=0.23267, 2 cls=0.19731, bce=0.05864, dice=0.88247, loss=0.19834]\n"
     ]
    },
    {
     "name": "stdout",
     "output_type": "stream",
     "text": [
      "loss: 0.14227 | bce: 0.03038 | dice: 0.90368 | 0 cls: 0.11731 | 1 cls: 0.16646 | 2 cls: 0.13478\n"
     ]
    },
    {
     "name": "stderr",
     "output_type": "stream",
     "text": [
      "Epoch 537, lr 1.25e-05: 100% 43/43 [00:12<00:00,  3.44it/s, 0 cls=0.16200, 1 cls=0.23095, 2 cls=0.19524, bce=0.05867, dice=0.88436, loss=0.19623]\n"
     ]
    },
    {
     "name": "stdout",
     "output_type": "stream",
     "text": [
      "loss: 0.14270 | bce: 0.03079 | dice: 0.90365 | 0 cls: 0.11872 | 1 cls: 0.16634 | 2 cls: 0.13449\n"
     ]
    },
    {
     "name": "stderr",
     "output_type": "stream",
     "text": [
      "Epoch 538, lr 1.25e-05: 100% 43/43 [00:12<00:00,  3.43it/s, 0 cls=0.16329, 1 cls=0.23254, 2 cls=0.19647, bce=0.05805, dice=0.88260, loss=0.19763]\n"
     ]
    },
    {
     "name": "stdout",
     "output_type": "stream",
     "text": [
      "loss: 0.14266 | bce: 0.03085 | dice: 0.90378 | 0 cls: 0.11823 | 1 cls: 0.16687 | 2 cls: 0.13445\n"
     ]
    },
    {
     "name": "stderr",
     "output_type": "stream",
     "text": [
      "Epoch 539, lr 1.25e-05: 100% 43/43 [00:12<00:00,  3.44it/s, 0 cls=0.16578, 1 cls=0.23532, 2 cls=0.19919, bce=0.05972, dice=0.88205, loss=0.20028]\n"
     ]
    },
    {
     "name": "stdout",
     "output_type": "stream",
     "text": [
      "loss: 0.14228 | bce: 0.03056 | dice: 0.90402 | 0 cls: 0.11696 | 1 cls: 0.16689 | 2 cls: 0.13461\n"
     ]
    },
    {
     "name": "stderr",
     "output_type": "stream",
     "text": [
      "Epoch 540, lr 1.25e-05: 100% 43/43 [00:12<00:00,  3.42it/s, 0 cls=0.16454, 1 cls=0.23445, 2 cls=0.19822, bce=0.05883, dice=0.88204, loss=0.19924]\n"
     ]
    },
    {
     "name": "stdout",
     "output_type": "stream",
     "text": [
      "loss: 0.14227 | bce: 0.03023 | dice: 0.90370 | 0 cls: 0.11714 | 1 cls: 0.16678 | 2 cls: 0.13457\n"
     ]
    },
    {
     "name": "stderr",
     "output_type": "stream",
     "text": [
      "Epoch 541, lr 1.25e-05: 100% 43/43 [00:12<00:00,  3.43it/s, 0 cls=0.16558, 1 cls=0.23719, 2 cls=0.20041, bce=0.05907, dice=0.88083, loss=0.20119]\n"
     ]
    },
    {
     "name": "stdout",
     "output_type": "stream",
     "text": [
      "loss: 0.14288 | bce: 0.03062 | dice: 0.90349 | 0 cls: 0.11795 | 1 cls: 0.16733 | 2 cls: 0.13485\n"
     ]
    },
    {
     "name": "stderr",
     "output_type": "stream",
     "text": [
      "Epoch 542, lr 1.25e-05: 100% 43/43 [00:12<00:00,  3.44it/s, 0 cls=0.16317, 1 cls=0.23338, 2 cls=0.19650, bce=0.05842, dice=0.88296, loss=0.19792]\n"
     ]
    },
    {
     "name": "stdout",
     "output_type": "stream",
     "text": [
      "loss: 0.14269 | bce: 0.03033 | dice: 0.90331 | 0 cls: 0.11781 | 1 cls: 0.16706 | 2 cls: 0.13498\n"
     ]
    },
    {
     "name": "stderr",
     "output_type": "stream",
     "text": [
      "Epoch 543, lr 1.25e-05: 100% 43/43 [00:12<00:00,  3.44it/s, 0 cls=0.16906, 1 cls=0.23439, 2 cls=0.19958, bce=0.06094, dice=0.88202, loss=0.20129]\n"
     ]
    },
    {
     "name": "stdout",
     "output_type": "stream",
     "text": [
      "loss: 0.14345 | bce: 0.03027 | dice: 0.90250 | 0 cls: 0.11869 | 1 cls: 0.16766 | 2 cls: 0.13576\n"
     ]
    },
    {
     "name": "stderr",
     "output_type": "stream",
     "text": [
      "Epoch 544, lr 1.25e-05: 100% 43/43 [00:12<00:00,  3.43it/s, 0 cls=0.16685, 1 cls=0.23643, 2 cls=0.20015, bce=0.05994, dice=0.88125, loss=0.20134]\n"
     ]
    },
    {
     "name": "stdout",
     "output_type": "stream",
     "text": [
      "loss: 0.14255 | bce: 0.03061 | dice: 0.90372 | 0 cls: 0.11794 | 1 cls: 0.16677 | 2 cls: 0.13453\n"
     ]
    },
    {
     "name": "stderr",
     "output_type": "stream",
     "text": [
      "Epoch 545, lr 1.25e-05: 100% 43/43 [00:12<00:00,  3.45it/s, 0 cls=0.16169, 1 cls=0.23369, 2 cls=0.19643, bce=0.05879, dice=0.88372, loss=0.19744]\n"
     ]
    },
    {
     "name": "stdout",
     "output_type": "stream",
     "text": [
      "loss: 0.14288 | bce: 0.03069 | dice: 0.90353 | 0 cls: 0.11808 | 1 cls: 0.16730 | 2 cls: 0.13489\n"
     ]
    },
    {
     "name": "stderr",
     "output_type": "stream",
     "text": [
      "Epoch 546, lr 1.25e-05: 100% 43/43 [00:12<00:00,  3.43it/s, 0 cls=0.16552, 1 cls=0.23350, 2 cls=0.19811, bce=0.05905, dice=0.88212, loss=0.19923]\n"
     ]
    },
    {
     "name": "stdout",
     "output_type": "stream",
     "text": [
      "loss: 0.14326 | bce: 0.03071 | dice: 0.90327 | 0 cls: 0.11789 | 1 cls: 0.16811 | 2 cls: 0.13553\n"
     ]
    },
    {
     "name": "stderr",
     "output_type": "stream",
     "text": [
      "Epoch 547, lr 1.25e-05: 100% 43/43 [00:12<00:00,  3.44it/s, 0 cls=0.16721, 1 cls=0.23590, 2 cls=0.20032, bce=0.06035, dice=0.88154, loss=0.20131]\n"
     ]
    },
    {
     "name": "stdout",
     "output_type": "stream",
     "text": [
      "loss: 0.14264 | bce: 0.03048 | dice: 0.90355 | 0 cls: 0.11773 | 1 cls: 0.16725 | 2 cls: 0.13456\n"
     ]
    },
    {
     "name": "stderr",
     "output_type": "stream",
     "text": [
      "Epoch 548, lr 1.25e-05: 100% 43/43 [00:12<00:00,  3.43it/s, 0 cls=0.16829, 1 cls=0.23955, 2 cls=0.20255, bce=0.06005, dice=0.87970, loss=0.20365]\n"
     ]
    },
    {
     "name": "stdout",
     "output_type": "stream",
     "text": [
      "loss: 0.14315 | bce: 0.03031 | dice: 0.90277 | 0 cls: 0.11871 | 1 cls: 0.16726 | 2 cls: 0.13525\n"
     ]
    },
    {
     "name": "stderr",
     "output_type": "stream",
     "text": [
      "Epoch 549, lr 1.25e-05: 100% 43/43 [00:12<00:00,  3.46it/s, 0 cls=0.15766, 1 cls=0.22763, 2 cls=0.19226, bce=0.05699, dice=0.88594, loss=0.19257]\n"
     ]
    },
    {
     "name": "stdout",
     "output_type": "stream",
     "text": [
      "loss: 0.14356 | bce: 0.03057 | dice: 0.90275 | 0 cls: 0.11874 | 1 cls: 0.16838 | 2 cls: 0.13533\n"
     ]
    },
    {
     "name": "stderr",
     "output_type": "stream",
     "text": [
      "Epoch 550, lr 1.25e-05: 100% 43/43 [00:12<00:00,  3.42it/s, 0 cls=0.16453, 1 cls=0.23566, 2 cls=0.19850, bce=0.05950, dice=0.88245, loss=0.19978]\n"
     ]
    },
    {
     "name": "stdout",
     "output_type": "stream",
     "text": [
      "loss: 0.14271 | bce: 0.03035 | dice: 0.90336 | 0 cls: 0.11784 | 1 cls: 0.16723 | 2 cls: 0.13468\n"
     ]
    },
    {
     "name": "stderr",
     "output_type": "stream",
     "text": [
      "Epoch 551, lr 1.25e-05: 100% 43/43 [00:12<00:00,  3.43it/s, 0 cls=0.16213, 1 cls=0.23032, 2 cls=0.19431, bce=0.05808, dice=0.88433, loss=0.19584]\n"
     ]
    },
    {
     "name": "stdout",
     "output_type": "stream",
     "text": [
      "loss: 0.14268 | bce: 0.03043 | dice: 0.90338 | 0 cls: 0.11788 | 1 cls: 0.16741 | 2 cls: 0.13455\n"
     ]
    },
    {
     "name": "stderr",
     "output_type": "stream",
     "text": [
      "Epoch 552, lr 1.25e-05: 100% 43/43 [00:12<00:00,  3.43it/s, 0 cls=0.15895, 1 cls=0.23129, 2 cls=0.19330, bce=0.05762, dice=0.88508, loss=0.19476]\n"
     ]
    },
    {
     "name": "stdout",
     "output_type": "stream",
     "text": [
      "loss: 0.14264 | bce: 0.03093 | dice: 0.90399 | 0 cls: 0.11757 | 1 cls: 0.16739 | 2 cls: 0.13465\n"
     ]
    },
    {
     "name": "stderr",
     "output_type": "stream",
     "text": [
      "Epoch 553, lr 1.25e-05: 100% 43/43 [00:12<00:00,  3.44it/s, 0 cls=0.16835, 1 cls=0.23835, 2 cls=0.20157, bce=0.06033, dice=0.88023, loss=0.20299]\n"
     ]
    },
    {
     "name": "stdout",
     "output_type": "stream",
     "text": [
      "loss: 0.14275 | bce: 0.03054 | dice: 0.90345 | 0 cls: 0.11802 | 1 cls: 0.16725 | 2 cls: 0.13469\n"
     ]
    },
    {
     "name": "stderr",
     "output_type": "stream",
     "text": [
      "Epoch 554, lr 1.25e-05: 100% 43/43 [00:12<00:00,  3.44it/s, 0 cls=0.15660, 1 cls=0.22803, 2 cls=0.19076, bce=0.05628, dice=0.88615, loss=0.19200]\n"
     ]
    },
    {
     "name": "stdout",
     "output_type": "stream",
     "text": [
      "loss: 0.14268 | bce: 0.03041 | dice: 0.90337 | 0 cls: 0.11787 | 1 cls: 0.16718 | 2 cls: 0.13479\n"
     ]
    },
    {
     "name": "stderr",
     "output_type": "stream",
     "text": [
      "Epoch 555, lr 1.25e-05: 100% 43/43 [00:12<00:00,  3.45it/s, 0 cls=0.16837, 1 cls=0.23619, 2 cls=0.20105, bce=0.05972, dice=0.88040, loss=0.20204]\n"
     ]
    },
    {
     "name": "stdout",
     "output_type": "stream",
     "text": [
      "loss: 0.14214 | bce: 0.03053 | dice: 0.90400 | 0 cls: 0.11731 | 1 cls: 0.16668 | 2 cls: 0.13427\n"
     ]
    },
    {
     "name": "stderr",
     "output_type": "stream",
     "text": [
      "Epoch 556, lr 1.25e-05: 100% 43/43 [00:12<00:00,  3.43it/s, 0 cls=0.17047, 1 cls=0.23840, 2 cls=0.20360, bce=0.06036, dice=0.87888, loss=0.20427]\n"
     ]
    },
    {
     "name": "stdout",
     "output_type": "stream",
     "text": [
      "loss: 0.14212 | bce: 0.03088 | dice: 0.90451 | 0 cls: 0.11737 | 1 cls: 0.16669 | 2 cls: 0.13376\n"
     ]
    },
    {
     "name": "stderr",
     "output_type": "stream",
     "text": [
      "Epoch 557, lr 1.25e-05: 100% 43/43 [00:12<00:00,  3.42it/s, 0 cls=0.16067, 1 cls=0.23144, 2 cls=0.19431, bce=0.05805, dice=0.88444, loss=0.19570]\n"
     ]
    },
    {
     "name": "stdout",
     "output_type": "stream",
     "text": [
      "loss: 0.14310 | bce: 0.03099 | dice: 0.90357 | 0 cls: 0.11883 | 1 cls: 0.16732 | 2 cls: 0.13470\n"
     ]
    },
    {
     "name": "stderr",
     "output_type": "stream",
     "text": [
      "Epoch 558, lr 1.25e-05: 100% 43/43 [00:12<00:00,  3.44it/s, 0 cls=0.16169, 1 cls=0.23313, 2 cls=0.19641, bce=0.05806, dice=0.88323, loss=0.19721]\n"
     ]
    },
    {
     "name": "stdout",
     "output_type": "stream",
     "text": [
      "loss: 0.14283 | bce: 0.03072 | dice: 0.90350 | 0 cls: 0.11812 | 1 cls: 0.16722 | 2 cls: 0.13498\n"
     ]
    },
    {
     "name": "stderr",
     "output_type": "stream",
     "text": [
      "Epoch 559, lr 1.25e-05: 100% 43/43 [00:12<00:00,  3.45it/s, 0 cls=0.16757, 1 cls=0.23603, 2 cls=0.20026, bce=0.05965, dice=0.88096, loss=0.20149]\n"
     ]
    },
    {
     "name": "stdout",
     "output_type": "stream",
     "text": [
      "loss: 0.14280 | bce: 0.03001 | dice: 0.90290 | 0 cls: 0.11786 | 1 cls: 0.16748 | 2 cls: 0.13501\n"
     ]
    },
    {
     "name": "stderr",
     "output_type": "stream",
     "text": [
      "Epoch 560, lr 1.25e-05: 100% 43/43 [00:12<00:00,  3.45it/s, 0 cls=0.16389, 1 cls=0.23139, 2 cls=0.19643, bce=0.05859, dice=0.88310, loss=0.19740]\n"
     ]
    },
    {
     "name": "stdout",
     "output_type": "stream",
     "text": [
      "loss: 0.14196 | bce: 0.03067 | dice: 0.90428 | 0 cls: 0.11711 | 1 cls: 0.16651 | 2 cls: 0.13405\n"
     ]
    },
    {
     "name": "stderr",
     "output_type": "stream",
     "text": [
      "Epoch 561, lr 1.25e-05: 100% 43/43 [00:12<00:00,  3.43it/s, 0 cls=0.15705, 1 cls=0.22779, 2 cls=0.19164, bce=0.05699, dice=0.88621, loss=0.19226]\n"
     ]
    },
    {
     "name": "stdout",
     "output_type": "stream",
     "text": [
      "loss: 0.14243 | bce: 0.03053 | dice: 0.90369 | 0 cls: 0.11772 | 1 cls: 0.16707 | 2 cls: 0.13428\n"
     ]
    },
    {
     "name": "stderr",
     "output_type": "stream",
     "text": [
      "Epoch 562, lr 1.25e-05: 100% 43/43 [00:12<00:00,  3.43it/s, 0 cls=0.15917, 1 cls=0.22814, 2 cls=0.19211, bce=0.05702, dice=0.88541, loss=0.19335]\n"
     ]
    },
    {
     "name": "stdout",
     "output_type": "stream",
     "text": [
      "loss: 0.14213 | bce: 0.03047 | dice: 0.90388 | 0 cls: 0.11737 | 1 cls: 0.16656 | 2 cls: 0.13435\n"
     ]
    },
    {
     "name": "stderr",
     "output_type": "stream",
     "text": [
      "Epoch 563, lr 1.25e-05: 100% 43/43 [00:12<00:00,  3.39it/s, 0 cls=0.16231, 1 cls=0.23585, 2 cls=0.19787, bce=0.05938, dice=0.88318, loss=0.19884]\n"
     ]
    },
    {
     "name": "stdout",
     "output_type": "stream",
     "text": [
      "loss: 0.14232 | bce: 0.03003 | dice: 0.90326 | 0 cls: 0.11819 | 1 cls: 0.16621 | 2 cls: 0.13433\n"
     ]
    },
    {
     "name": "stderr",
     "output_type": "stream",
     "text": [
      "Epoch 564, lr 1.25e-05: 100% 43/43 [00:12<00:00,  3.44it/s, 0 cls=0.16205, 1 cls=0.22945, 2 cls=0.19459, bce=0.05765, dice=0.88400, loss=0.19552]\n"
     ]
    },
    {
     "name": "stdout",
     "output_type": "stream",
     "text": [
      "loss: 0.14303 | bce: 0.03036 | dice: 0.90297 | 0 cls: 0.11831 | 1 cls: 0.16740 | 2 cls: 0.13526\n"
     ]
    },
    {
     "name": "stderr",
     "output_type": "stream",
     "text": [
      "Epoch 565, lr 1.25e-05: 100% 43/43 [00:12<00:00,  3.44it/s, 0 cls=0.16576, 1 cls=0.23600, 2 cls=0.19985, bce=0.05899, dice=0.88106, loss=0.20067]\n"
     ]
    },
    {
     "name": "stdout",
     "output_type": "stream",
     "text": [
      "loss: 0.14272 | bce: 0.03030 | dice: 0.90327 | 0 cls: 0.11774 | 1 cls: 0.16726 | 2 cls: 0.13508\n"
     ]
    },
    {
     "name": "stderr",
     "output_type": "stream",
     "text": [
      "Epoch 566, lr 1.25e-05: 100% 43/43 [00:12<00:00,  3.44it/s, 0 cls=0.16106, 1 cls=0.23286, 2 cls=0.19561, bce=0.05783, dice=0.88353, loss=0.19669]\n"
     ]
    },
    {
     "name": "stdout",
     "output_type": "stream",
     "text": [
      "loss: 0.14248 | bce: 0.03050 | dice: 0.90366 | 0 cls: 0.11769 | 1 cls: 0.16691 | 2 cls: 0.13461\n"
     ]
    },
    {
     "name": "stderr",
     "output_type": "stream",
     "text": [
      "Epoch 567, lr 1.25e-05: 100% 43/43 [00:12<00:00,  3.38it/s, 0 cls=0.16275, 1 cls=0.23451, 2 cls=0.19782, bce=0.05870, dice=0.88278, loss=0.19847]\n"
     ]
    },
    {
     "name": "stdout",
     "output_type": "stream",
     "text": [
      "loss: 0.14265 | bce: 0.03044 | dice: 0.90344 | 0 cls: 0.11792 | 1 cls: 0.16716 | 2 cls: 0.13470\n"
     ]
    },
    {
     "name": "stderr",
     "output_type": "stream",
     "text": [
      "Epoch 568, lr 1.25e-05: 100% 43/43 [00:12<00:00,  3.45it/s, 0 cls=0.16238, 1 cls=0.23223, 2 cls=0.19578, bce=0.05886, dice=0.88406, loss=0.19700]\n"
     ]
    },
    {
     "name": "stdout",
     "output_type": "stream",
     "text": [
      "loss: 0.14213 | bce: 0.03036 | dice: 0.90376 | 0 cls: 0.11742 | 1 cls: 0.16650 | 2 cls: 0.13434\n"
     ]
    },
    {
     "name": "stderr",
     "output_type": "stream",
     "text": [
      "Epoch 569, lr 1.25e-05: 100% 43/43 [00:12<00:00,  3.44it/s, 0 cls=0.16354, 1 cls=0.23632, 2 cls=0.19843, bce=0.05862, dice=0.88182, loss=0.19963]\n"
     ]
    },
    {
     "name": "stdout",
     "output_type": "stream",
     "text": [
      "loss: 0.14313 | bce: 0.03045 | dice: 0.90294 | 0 cls: 0.11820 | 1 cls: 0.16777 | 2 cls: 0.13544\n"
     ]
    },
    {
     "name": "stderr",
     "output_type": "stream",
     "text": [
      "Epoch 570, lr 1.25e-05: 100% 43/43 [00:12<00:00,  3.43it/s, 0 cls=0.16066, 1 cls=0.23369, 2 cls=0.19543, bce=0.05814, dice=0.88384, loss=0.19682]\n"
     ]
    },
    {
     "name": "stdout",
     "output_type": "stream",
     "text": [
      "loss: 0.14227 | bce: 0.03032 | dice: 0.90363 | 0 cls: 0.11764 | 1 cls: 0.16645 | 2 cls: 0.13456\n"
     ]
    },
    {
     "name": "stderr",
     "output_type": "stream",
     "text": [
      "Epoch 571, lr 1.25e-05: 100% 43/43 [00:12<00:00,  3.43it/s, 0 cls=0.16085, 1 cls=0.23357, 2 cls=0.19662, bce=0.05852, dice=0.88383, loss=0.19709]\n"
     ]
    },
    {
     "name": "stdout",
     "output_type": "stream",
     "text": [
      "loss: 0.14230 | bce: 0.03081 | dice: 0.90413 | 0 cls: 0.11733 | 1 cls: 0.16668 | 2 cls: 0.13469\n"
     ]
    },
    {
     "name": "stderr",
     "output_type": "stream",
     "text": [
      "Epoch 572, lr 1.25e-05: 100% 43/43 [00:12<00:00,  3.44it/s, 0 cls=0.16474, 1 cls=0.23392, 2 cls=0.19788, bce=0.05901, dice=0.88239, loss=0.19904]\n"
     ]
    },
    {
     "name": "stdout",
     "output_type": "stream",
     "text": [
      "loss: 0.14291 | bce: 0.03056 | dice: 0.90323 | 0 cls: 0.11882 | 1 cls: 0.16658 | 2 cls: 0.13492\n"
     ]
    },
    {
     "name": "stderr",
     "output_type": "stream",
     "text": [
      "Epoch 573, lr 1.25e-05: 100% 43/43 [00:12<00:00,  3.45it/s, 0 cls=0.16325, 1 cls=0.23321, 2 cls=0.19692, bce=0.05878, dice=0.88314, loss=0.19797]\n"
     ]
    },
    {
     "name": "stdout",
     "output_type": "stream",
     "text": [
      "loss: 0.14269 | bce: 0.03026 | dice: 0.90319 | 0 cls: 0.11796 | 1 cls: 0.16677 | 2 cls: 0.13519\n"
     ]
    },
    {
     "name": "stderr",
     "output_type": "stream",
     "text": [
      "Epoch 574, lr 1.25e-05: 100% 43/43 [00:12<00:00,  3.44it/s, 0 cls=0.15595, 1 cls=0.22629, 2 cls=0.19026, bce=0.05665, dice=0.88719, loss=0.19095]\n"
     ]
    },
    {
     "name": "stdout",
     "output_type": "stream",
     "text": [
      "loss: 0.14231 | bce: 0.03047 | dice: 0.90371 | 0 cls: 0.11765 | 1 cls: 0.16647 | 2 cls: 0.13465\n"
     ]
    },
    {
     "name": "stderr",
     "output_type": "stream",
     "text": [
      "Epoch 575, lr 1.25e-05: 100% 43/43 [00:12<00:00,  3.45it/s, 0 cls=0.16366, 1 cls=0.23260, 2 cls=0.19679, bce=0.05854, dice=0.88275, loss=0.19786]\n"
     ]
    },
    {
     "name": "stdout",
     "output_type": "stream",
     "text": [
      "loss: 0.14299 | bce: 0.03059 | dice: 0.90339 | 0 cls: 0.11838 | 1 cls: 0.16707 | 2 cls: 0.13496\n"
     ]
    },
    {
     "name": "stderr",
     "output_type": "stream",
     "text": [
      "Epoch 576, lr 1.25e-05: 100% 43/43 [00:12<00:00,  3.43it/s, 0 cls=0.16656, 1 cls=0.23843, 2 cls=0.20089, bce=0.05976, dice=0.88074, loss=0.20218]\n"
     ]
    },
    {
     "name": "stdout",
     "output_type": "stream",
     "text": [
      "loss: 0.14311 | bce: 0.03063 | dice: 0.90315 | 0 cls: 0.11862 | 1 cls: 0.16740 | 2 cls: 0.13500\n"
     ]
    },
    {
     "name": "stderr",
     "output_type": "stream",
     "text": [
      "Epoch 577, lr 1.25e-05: 100% 43/43 [00:12<00:00,  3.45it/s, 0 cls=0.15766, 1 cls=0.23001, 2 cls=0.19243, bce=0.05782, dice=0.88619, loss=0.19356]\n"
     ]
    },
    {
     "name": "stdout",
     "output_type": "stream",
     "text": [
      "loss: 0.14253 | bce: 0.03051 | dice: 0.90360 | 0 cls: 0.11752 | 1 cls: 0.16710 | 2 cls: 0.13485\n"
     ]
    },
    {
     "name": "stderr",
     "output_type": "stream",
     "text": [
      "Epoch 578, lr 1.25e-05: 100% 43/43 [00:12<00:00,  3.43it/s, 0 cls=0.16593, 1 cls=0.23304, 2 cls=0.19763, bce=0.06051, dice=0.88381, loss=0.19911]\n"
     ]
    },
    {
     "name": "stdout",
     "output_type": "stream",
     "text": [
      "loss: 0.14221 | bce: 0.03046 | dice: 0.90379 | 0 cls: 0.11754 | 1 cls: 0.16643 | 2 cls: 0.13444\n"
     ]
    },
    {
     "name": "stderr",
     "output_type": "stream",
     "text": [
      "Epoch 579, lr 1.25e-05: 100% 43/43 [00:12<00:00,  3.45it/s, 0 cls=0.16058, 1 cls=0.23348, 2 cls=0.19623, bce=0.05798, dice=0.88362, loss=0.19687]\n"
     ]
    },
    {
     "name": "stdout",
     "output_type": "stream",
     "text": [
      "loss: 0.14231 | bce: 0.03054 | dice: 0.90379 | 0 cls: 0.11754 | 1 cls: 0.16660 | 2 cls: 0.13461\n"
     ]
    },
    {
     "name": "stderr",
     "output_type": "stream",
     "text": [
      "Epoch 580, lr 1.25e-05: 100% 43/43 [00:12<00:00,  3.43it/s, 0 cls=0.16001, 1 cls=0.22986, 2 cls=0.19333, bce=0.05773, dice=0.88521, loss=0.19461]\n"
     ]
    },
    {
     "name": "stdout",
     "output_type": "stream",
     "text": [
      "loss: 0.14296 | bce: 0.03038 | dice: 0.90304 | 0 cls: 0.11823 | 1 cls: 0.16728 | 2 cls: 0.13518\n"
     ]
    },
    {
     "name": "stderr",
     "output_type": "stream",
     "text": [
      "Epoch 581, lr 1.25e-05: 100% 43/43 [00:12<00:00,  3.43it/s, 0 cls=0.16764, 1 cls=0.23614, 2 cls=0.20062, bce=0.05885, dice=0.88009, loss=0.20164]\n"
     ]
    },
    {
     "name": "stdout",
     "output_type": "stream",
     "text": [
      "loss: 0.14260 | bce: 0.03052 | dice: 0.90340 | 0 cls: 0.11871 | 1 cls: 0.16632 | 2 cls: 0.13441\n"
     ]
    },
    {
     "name": "stderr",
     "output_type": "stream",
     "text": [
      "Epoch 582, lr 1.25e-05: 100% 43/43 [00:12<00:00,  3.42it/s, 0 cls=0.15903, 1 cls=0.23008, 2 cls=0.19355, bce=0.05761, dice=0.88527, loss=0.19435]\n"
     ]
    },
    {
     "name": "stdout",
     "output_type": "stream",
     "text": [
      "loss: 0.14177 | bce: 0.03086 | dice: 0.90455 | 0 cls: 0.11752 | 1 cls: 0.16588 | 2 cls: 0.13373\n"
     ]
    },
    {
     "name": "stderr",
     "output_type": "stream",
     "text": [
      "Epoch 583, lr 1.25e-05: 100% 43/43 [00:12<00:00,  3.45it/s, 0 cls=0.16213, 1 cls=0.23337, 2 cls=0.19602, bce=0.05848, dice=0.88352, loss=0.19740]\n"
     ]
    },
    {
     "name": "stdout",
     "output_type": "stream",
     "text": [
      "loss: 0.14223 | bce: 0.03078 | dice: 0.90401 | 0 cls: 0.11772 | 1 cls: 0.16649 | 2 cls: 0.13448\n"
     ]
    },
    {
     "name": "stderr",
     "output_type": "stream",
     "text": [
      "Epoch 584, lr 1.25e-05: 100% 43/43 [00:12<00:00,  3.42it/s, 0 cls=0.16485, 1 cls=0.23588, 2 cls=0.19973, bce=0.05960, dice=0.88193, loss=0.20024]\n"
     ]
    },
    {
     "name": "stdout",
     "output_type": "stream",
     "text": [
      "loss: 0.14207 | bce: 0.03053 | dice: 0.90410 | 0 cls: 0.11706 | 1 cls: 0.16679 | 2 cls: 0.13415\n"
     ]
    },
    {
     "name": "stderr",
     "output_type": "stream",
     "text": [
      "Epoch 585, lr 1.25e-05: 100% 43/43 [00:12<00:00,  3.45it/s, 0 cls=0.16656, 1 cls=0.23741, 2 cls=0.20054, bce=0.05989, dice=0.88112, loss=0.20170]\n"
     ]
    },
    {
     "name": "stdout",
     "output_type": "stream",
     "text": [
      "loss: 0.14256 | bce: 0.03093 | dice: 0.90397 | 0 cls: 0.11802 | 1 cls: 0.16678 | 2 cls: 0.13464\n"
     ]
    },
    {
     "name": "stderr",
     "output_type": "stream",
     "text": [
      "Epoch 586, lr 1.25e-05: 100% 43/43 [00:12<00:00,  3.44it/s, 0 cls=0.16452, 1 cls=0.23184, 2 cls=0.19732, bce=0.05870, dice=0.88274, loss=0.19801]\n"
     ]
    },
    {
     "name": "stdout",
     "output_type": "stream",
     "text": [
      "loss: 0.14255 | bce: 0.03056 | dice: 0.90361 | 0 cls: 0.11757 | 1 cls: 0.16737 | 2 cls: 0.13459\n"
     ]
    },
    {
     "name": "stderr",
     "output_type": "stream",
     "text": [
      "Epoch 587, lr 1.25e-05: 100% 43/43 [00:12<00:00,  3.44it/s, 0 cls=0.16877, 1 cls=0.23942, 2 cls=0.20303, bce=0.06033, dice=0.87957, loss=0.20388]\n"
     ]
    },
    {
     "name": "stdout",
     "output_type": "stream",
     "text": [
      "loss: 0.14404 | bce: 0.03019 | dice: 0.90168 | 0 cls: 0.12030 | 1 cls: 0.16755 | 2 cls: 0.13617\n"
     ]
    },
    {
     "name": "stderr",
     "output_type": "stream",
     "text": [
      "Epoch 588, lr 1.25e-05: 100% 43/43 [00:12<00:00,  3.44it/s, 0 cls=0.16189, 1 cls=0.23367, 2 cls=0.19649, bce=0.05810, dice=0.88318, loss=0.19752]\n"
     ]
    },
    {
     "name": "stdout",
     "output_type": "stream",
     "text": [
      "loss: 0.14285 | bce: 0.03053 | dice: 0.90322 | 0 cls: 0.11848 | 1 cls: 0.16696 | 2 cls: 0.13505\n"
     ]
    },
    {
     "name": "stderr",
     "output_type": "stream",
     "text": [
      "Epoch 589, lr 1.25e-05: 100% 43/43 [00:12<00:00,  3.43it/s, 0 cls=0.16402, 1 cls=0.23706, 2 cls=0.19957, bce=0.05952, dice=0.88187, loss=0.20035]\n"
     ]
    },
    {
     "name": "stdout",
     "output_type": "stream",
     "text": [
      "loss: 0.14301 | bce: 0.03055 | dice: 0.90314 | 0 cls: 0.11860 | 1 cls: 0.16732 | 2 cls: 0.13495\n"
     ]
    },
    {
     "name": "stderr",
     "output_type": "stream",
     "text": [
      "Epoch 590, lr 0.0003276800000000001: 100% 43/43 [00:12<00:00,  3.41it/s, 0 cls=0.16693, 1 cls=0.23734, 2 cls=0.20057, bce=0.06053, dice=0.88130, loss=0.20182]\n"
     ]
    },
    {
     "name": "stdout",
     "output_type": "stream",
     "text": [
      "loss: 0.15087 | bce: 0.03204 | dice: 0.89825 | 0 cls: 0.12349 | 1 cls: 0.17788 | 2 cls: 0.14212\n"
     ]
    },
    {
     "name": "stderr",
     "output_type": "stream",
     "text": [
      "Epoch 591, lr 0.0003276800000000001: 100% 43/43 [00:12<00:00,  3.44it/s, 0 cls=0.18079, 1 cls=0.25044, 2 cls=0.21326, bce=0.06378, dice=0.87312, loss=0.21514]\n"
     ]
    },
    {
     "name": "stdout",
     "output_type": "stream",
     "text": [
      "loss: 0.14832 | bce: 0.03044 | dice: 0.89851 | 0 cls: 0.12410 | 1 cls: 0.17212 | 2 cls: 0.13950\n"
     ]
    },
    {
     "name": "stderr",
     "output_type": "stream",
     "text": [
      "Epoch 592, lr 9.830400000000003e-05: 100% 43/43 [00:12<00:00,  3.46it/s, 0 cls=0.15931, 1 cls=0.22800, 2 cls=0.19115, bce=0.05715, dice=0.88572, loss=0.19315]\n"
     ]
    },
    {
     "name": "stdout",
     "output_type": "stream",
     "text": [
      "loss: 0.14360 | bce: 0.03140 | dice: 0.90383 | 0 cls: 0.11809 | 1 cls: 0.16937 | 2 cls: 0.13416\n"
     ]
    },
    {
     "name": "stderr",
     "output_type": "stream",
     "text": [
      "Epoch 593, lr 9.830400000000003e-05: 100% 43/43 [00:12<00:00,  3.44it/s, 0 cls=0.16948, 1 cls=0.23893, 2 cls=0.20265, bce=0.06091, dice=0.87992, loss=0.20389]\n"
     ]
    },
    {
     "name": "stdout",
     "output_type": "stream",
     "text": [
      "loss: 0.14503 | bce: 0.03026 | dice: 0.90171 | 0 cls: 0.11988 | 1 cls: 0.17055 | 2 cls: 0.13529\n"
     ]
    },
    {
     "name": "stderr",
     "output_type": "stream",
     "text": [
      "Epoch 594, lr 2.949120000000001e-05: 100% 43/43 [00:12<00:00,  3.45it/s, 0 cls=0.17052, 1 cls=0.24011, 2 cls=0.20353, bce=0.06017, dice=0.87838, loss=0.20496]\n"
     ]
    },
    {
     "name": "stdout",
     "output_type": "stream",
     "text": [
      "loss: 0.14285 | bce: 0.03070 | dice: 0.90389 | 0 cls: 0.11737 | 1 cls: 0.16859 | 2 cls: 0.13376\n"
     ]
    },
    {
     "name": "stderr",
     "output_type": "stream",
     "text": [
      "Epoch 595, lr 0.0003276800000000001: 100% 43/43 [00:12<00:00,  3.46it/s, 0 cls=0.17831, 1 cls=0.24873, 2 cls=0.21105, bce=0.06382, dice=0.87535, loss=0.21303]\n"
     ]
    },
    {
     "name": "stdout",
     "output_type": "stream",
     "text": [
      "loss: 0.20825 | bce: 0.04679 | dice: 0.85429 | 0 cls: 0.22326 | 1 cls: 0.19533 | 2 cls: 0.19623\n"
     ]
    },
    {
     "name": "stderr",
     "output_type": "stream",
     "text": [
      "Epoch 596, lr 0.0003276800000000001: 100% 43/43 [00:12<00:00,  3.44it/s, 0 cls=0.18320, 1 cls=0.25355, 2 cls=0.21524, bce=0.06451, dice=0.87167, loss=0.21775]\n"
     ]
    },
    {
     "name": "stdout",
     "output_type": "stream",
     "text": [
      "loss: 0.15102 | bce: 0.03334 | dice: 0.89976 | 0 cls: 0.12650 | 1 cls: 0.17559 | 2 cls: 0.14017\n"
     ]
    },
    {
     "name": "stderr",
     "output_type": "stream",
     "text": [
      "Epoch 597, lr 9.830400000000003e-05: 100% 43/43 [00:12<00:00,  3.43it/s, 0 cls=0.16635, 1 cls=0.23739, 2 cls=0.20003, bce=0.05950, dice=0.88091, loss=0.20150]\n"
     ]
    },
    {
     "name": "stdout",
     "output_type": "stream",
     "text": [
      "loss: 0.14642 | bce: 0.03035 | dice: 0.89988 | 0 cls: 0.12170 | 1 cls: 0.17156 | 2 cls: 0.13808\n"
     ]
    },
    {
     "name": "stderr",
     "output_type": "stream",
     "text": [
      "Epoch 598, lr 9.830400000000003e-05: 100% 43/43 [00:12<00:00,  3.45it/s, 0 cls=0.17910, 1 cls=0.24699, 2 cls=0.21115, bce=0.06292, dice=0.87403, loss=0.21267]\n"
     ]
    },
    {
     "name": "stdout",
     "output_type": "stream",
     "text": [
      "loss: 0.14375 | bce: 0.03167 | dice: 0.90393 | 0 cls: 0.11742 | 1 cls: 0.16993 | 2 cls: 0.13591\n"
     ]
    },
    {
     "name": "stderr",
     "output_type": "stream",
     "text": [
      "Epoch 599, lr 2.949120000000001e-05: 100% 43/43 [00:12<00:00,  3.45it/s, 0 cls=0.16062, 1 cls=0.23122, 2 cls=0.19415, bce=0.05806, dice=0.88459, loss=0.19557]\n"
     ]
    },
    {
     "name": "stdout",
     "output_type": "stream",
     "text": [
      "loss: 0.14400 | bce: 0.03093 | dice: 0.90282 | 0 cls: 0.11902 | 1 cls: 0.16955 | 2 cls: 0.13523\n"
     ]
    },
    {
     "name": "stderr",
     "output_type": "stream",
     "text": [
      "Epoch 600, lr 6.25e-06: 100% 43/43 [00:12<00:00,  3.44it/s, 0 cls=0.16465, 1 cls=0.23327, 2 cls=0.19738, bce=0.05880, dice=0.88249, loss=0.19864]\n"
     ]
    },
    {
     "name": "stdout",
     "output_type": "stream",
     "text": [
      "loss: 0.14251 | bce: 0.03073 | dice: 0.90400 | 0 cls: 0.11690 | 1 cls: 0.16834 | 2 cls: 0.13433\n"
     ]
    },
    {
     "name": "stderr",
     "output_type": "stream",
     "text": [
      "Epoch 601, lr 6.25e-06: 100% 43/43 [00:12<00:00,  3.44it/s, 0 cls=0.16448, 1 cls=0.23437, 2 cls=0.19791, bce=0.05896, dice=0.88229, loss=0.19912]\n"
     ]
    },
    {
     "name": "stdout",
     "output_type": "stream",
     "text": [
      "loss: 0.14278 | bce: 0.03043 | dice: 0.90347 | 0 cls: 0.11741 | 1 cls: 0.16835 | 2 cls: 0.13445\n"
     ]
    },
    {
     "name": "stderr",
     "output_type": "stream",
     "text": [
      "Epoch 602, lr 6.25e-06: 100% 43/43 [00:12<00:00,  3.43it/s, 0 cls=0.17610, 1 cls=0.24542, 2 cls=0.20931, bce=0.06126, dice=0.87466, loss=0.21047]\n"
     ]
    },
    {
     "name": "stdout",
     "output_type": "stream",
     "text": [
      "loss: 0.14229 | bce: 0.03074 | dice: 0.90419 | 0 cls: 0.11677 | 1 cls: 0.16797 | 2 cls: 0.13411\n"
     ]
    },
    {
     "name": "stderr",
     "output_type": "stream",
     "text": [
      "Epoch 603, lr 6.25e-06: 100% 43/43 [00:12<00:00,  3.44it/s, 0 cls=0.16422, 1 cls=0.23023, 2 cls=0.19568, bce=0.05888, dice=0.88378, loss=0.19692]\n"
     ]
    },
    {
     "name": "stdout",
     "output_type": "stream",
     "text": [
      "loss: 0.14265 | bce: 0.03083 | dice: 0.90395 | 0 cls: 0.11728 | 1 cls: 0.16824 | 2 cls: 0.13422\n"
     ]
    },
    {
     "name": "stderr",
     "output_type": "stream",
     "text": [
      "Epoch 604, lr 6.25e-06: 100% 43/43 [00:12<00:00,  3.44it/s, 0 cls=0.16520, 1 cls=0.23746, 2 cls=0.19954, bce=0.05955, dice=0.88142, loss=0.20097]\n"
     ]
    },
    {
     "name": "stdout",
     "output_type": "stream",
     "text": [
      "loss: 0.14269 | bce: 0.03085 | dice: 0.90406 | 0 cls: 0.11709 | 1 cls: 0.16857 | 2 cls: 0.13411\n"
     ]
    },
    {
     "name": "stderr",
     "output_type": "stream",
     "text": [
      "Epoch 605, lr 6.25e-06: 100% 43/43 [00:12<00:00,  3.44it/s, 0 cls=0.16959, 1 cls=0.23882, 2 cls=0.20309, bce=0.06032, dice=0.87925, loss=0.20398]\n"
     ]
    },
    {
     "name": "stdout",
     "output_type": "stream",
     "text": [
      "loss: 0.14265 | bce: 0.03083 | dice: 0.90392 | 0 cls: 0.11759 | 1 cls: 0.16809 | 2 cls: 0.13400\n"
     ]
    },
    {
     "name": "stderr",
     "output_type": "stream",
     "text": [
      "Epoch 606, lr 6.25e-06: 100% 43/43 [00:12<00:00,  3.44it/s, 0 cls=0.16531, 1 cls=0.23715, 2 cls=0.19999, bce=0.05958, dice=0.88148, loss=0.20098]\n"
     ]
    },
    {
     "name": "stdout",
     "output_type": "stream",
     "text": [
      "loss: 0.14305 | bce: 0.03078 | dice: 0.90351 | 0 cls: 0.11799 | 1 cls: 0.16844 | 2 cls: 0.13449\n"
     ]
    },
    {
     "name": "stderr",
     "output_type": "stream",
     "text": [
      "Epoch 607, lr 6.25e-06: 100% 43/43 [00:12<00:00,  3.45it/s, 0 cls=0.17370, 1 cls=0.24172, 2 cls=0.20657, bce=0.06179, dice=0.87761, loss=0.20748]\n"
     ]
    },
    {
     "name": "stdout",
     "output_type": "stream",
     "text": [
      "loss: 0.14329 | bce: 0.03071 | dice: 0.90330 | 0 cls: 0.11801 | 1 cls: 0.16873 | 2 cls: 0.13492\n"
     ]
    },
    {
     "name": "stderr",
     "output_type": "stream",
     "text": [
      "Epoch 608, lr 6.25e-06: 100% 43/43 [00:12<00:00,  3.45it/s, 0 cls=0.16424, 1 cls=0.23331, 2 cls=0.19751, bce=0.05837, dice=0.88224, loss=0.19852]\n"
     ]
    },
    {
     "name": "stdout",
     "output_type": "stream",
     "text": [
      "loss: 0.14325 | bce: 0.03065 | dice: 0.90328 | 0 cls: 0.11779 | 1 cls: 0.16892 | 2 cls: 0.13485\n"
     ]
    },
    {
     "name": "stderr",
     "output_type": "stream",
     "text": [
      "Epoch 609, lr 6.25e-06: 100% 43/43 [00:12<00:00,  3.43it/s, 0 cls=0.16504, 1 cls=0.23390, 2 cls=0.19887, bce=0.05868, dice=0.88174, loss=0.19935]\n"
     ]
    },
    {
     "name": "stdout",
     "output_type": "stream",
     "text": [
      "loss: 0.14288 | bce: 0.03103 | dice: 0.90396 | 0 cls: 0.11765 | 1 cls: 0.16836 | 2 cls: 0.13438\n"
     ]
    },
    {
     "name": "stderr",
     "output_type": "stream",
     "text": [
      "Epoch 610, lr 6.25e-06: 100% 43/43 [00:12<00:00,  3.44it/s, 0 cls=0.16551, 1 cls=0.23575, 2 cls=0.19927, bce=0.05963, dice=0.88197, loss=0.20036]\n"
     ]
    },
    {
     "name": "stdout",
     "output_type": "stream",
     "text": [
      "loss: 0.14283 | bce: 0.03071 | dice: 0.90370 | 0 cls: 0.11757 | 1 cls: 0.16835 | 2 cls: 0.13439\n"
     ]
    },
    {
     "name": "stderr",
     "output_type": "stream",
     "text": [
      "Epoch 611, lr 6.25e-06: 100% 43/43 [00:12<00:00,  3.45it/s, 0 cls=0.16011, 1 cls=0.23019, 2 cls=0.19364, bce=0.05768, dice=0.88471, loss=0.19485]\n"
     ]
    },
    {
     "name": "stdout",
     "output_type": "stream",
     "text": [
      "loss: 0.14291 | bce: 0.03068 | dice: 0.90355 | 0 cls: 0.11770 | 1 cls: 0.16822 | 2 cls: 0.13466\n"
     ]
    },
    {
     "name": "stderr",
     "output_type": "stream",
     "text": [
      "Epoch 612, lr 6.25e-06: 100% 43/43 [00:12<00:00,  3.44it/s, 0 cls=0.16239, 1 cls=0.23211, 2 cls=0.19591, bce=0.05826, dice=0.88334, loss=0.19698]\n"
     ]
    },
    {
     "name": "stdout",
     "output_type": "stream",
     "text": [
      "loss: 0.14270 | bce: 0.03068 | dice: 0.90370 | 0 cls: 0.11778 | 1 cls: 0.16801 | 2 cls: 0.13413\n"
     ]
    },
    {
     "name": "stderr",
     "output_type": "stream",
     "text": [
      "Epoch 613, lr 6.25e-06: 100% 43/43 [00:12<00:00,  3.41it/s, 0 cls=0.16227, 1 cls=0.22827, 2 cls=0.19347, bce=0.05735, dice=0.88387, loss=0.19491]\n"
     ]
    },
    {
     "name": "stdout",
     "output_type": "stream",
     "text": [
      "loss: 0.14258 | bce: 0.03072 | dice: 0.90384 | 0 cls: 0.11749 | 1 cls: 0.16795 | 2 cls: 0.13421\n"
     ]
    },
    {
     "name": "stderr",
     "output_type": "stream",
     "text": [
      "Epoch 614, lr 6.25e-06: 100% 43/43 [00:12<00:00,  3.45it/s, 0 cls=0.16501, 1 cls=0.23574, 2 cls=0.19924, bce=0.06074, dice=0.88302, loss=0.20015]\n"
     ]
    },
    {
     "name": "stdout",
     "output_type": "stream",
     "text": [
      "loss: 0.14297 | bce: 0.03075 | dice: 0.90355 | 0 cls: 0.11792 | 1 cls: 0.16830 | 2 cls: 0.13444\n"
     ]
    },
    {
     "name": "stderr",
     "output_type": "stream",
     "text": [
      "Epoch 615, lr 6.25e-06: 100% 43/43 [00:12<00:00,  3.43it/s, 0 cls=0.16096, 1 cls=0.23226, 2 cls=0.19546, bce=0.05836, dice=0.88420, loss=0.19638]\n"
     ]
    },
    {
     "name": "stdout",
     "output_type": "stream",
     "text": [
      "loss: 0.14301 | bce: 0.03080 | dice: 0.90355 | 0 cls: 0.11794 | 1 cls: 0.16831 | 2 cls: 0.13466\n"
     ]
    },
    {
     "name": "stderr",
     "output_type": "stream",
     "text": [
      "Epoch 616, lr 6.25e-06: 100% 43/43 [00:12<00:00,  3.44it/s, 0 cls=0.16918, 1 cls=0.23693, 2 cls=0.20174, bce=0.05956, dice=0.87939, loss=0.20279]\n"
     ]
    },
    {
     "name": "stdout",
     "output_type": "stream",
     "text": [
      "loss: 0.14285 | bce: 0.03073 | dice: 0.90362 | 0 cls: 0.11780 | 1 cls: 0.16818 | 2 cls: 0.13437\n"
     ]
    },
    {
     "name": "stderr",
     "output_type": "stream",
     "text": [
      "Epoch 617, lr 6.25e-06: 100% 43/43 [00:12<00:00,  3.45it/s, 0 cls=0.16511, 1 cls=0.23660, 2 cls=0.19978, bce=0.05997, dice=0.88201, loss=0.20064]\n"
     ]
    },
    {
     "name": "stdout",
     "output_type": "stream",
     "text": [
      "loss: 0.14320 | bce: 0.03077 | dice: 0.90339 | 0 cls: 0.11801 | 1 cls: 0.16851 | 2 cls: 0.13487\n"
     ]
    },
    {
     "name": "stderr",
     "output_type": "stream",
     "text": [
      "Epoch 618, lr 6.25e-06: 100% 43/43 [00:12<00:00,  3.45it/s, 0 cls=0.15826, 1 cls=0.23012, 2 cls=0.19276, bce=0.05672, dice=0.88495, loss=0.19391]\n"
     ]
    },
    {
     "name": "stdout",
     "output_type": "stream",
     "text": [
      "loss: 0.14242 | bce: 0.03084 | dice: 0.90415 | 0 cls: 0.11754 | 1 cls: 0.16752 | 2 cls: 0.13386\n"
     ]
    },
    {
     "name": "stderr",
     "output_type": "stream",
     "text": [
      "Epoch 619, lr 6.25e-06: 100% 43/43 [00:12<00:00,  3.44it/s, 0 cls=0.16156, 1 cls=0.23305, 2 cls=0.19608, bce=0.05859, dice=0.88392, loss=0.19706]\n"
     ]
    },
    {
     "name": "stdout",
     "output_type": "stream",
     "text": [
      "loss: 0.14311 | bce: 0.03065 | dice: 0.90326 | 0 cls: 0.11829 | 1 cls: 0.16815 | 2 cls: 0.13471\n"
     ]
    },
    {
     "name": "stderr",
     "output_type": "stream",
     "text": [
      "Epoch 620, lr 6.25e-06: 100% 43/43 [00:12<00:00,  3.45it/s, 0 cls=0.16582, 1 cls=0.23191, 2 cls=0.19786, bce=0.05934, dice=0.88260, loss=0.19866]\n"
     ]
    },
    {
     "name": "stdout",
     "output_type": "stream",
     "text": [
      "loss: 0.14282 | bce: 0.03105 | dice: 0.90404 | 0 cls: 0.11759 | 1 cls: 0.16830 | 2 cls: 0.13431\n"
     ]
    },
    {
     "name": "stderr",
     "output_type": "stream",
     "text": [
      "Epoch 621, lr 6.25e-06: 100% 43/43 [00:12<00:00,  3.44it/s, 0 cls=0.17074, 1 cls=0.23941, 2 cls=0.20417, bce=0.06007, dice=0.87821, loss=0.20489]\n"
     ]
    },
    {
     "name": "stdout",
     "output_type": "stream",
     "text": [
      "loss: 0.14304 | bce: 0.03081 | dice: 0.90354 | 0 cls: 0.11792 | 1 cls: 0.16845 | 2 cls: 0.13464\n"
     ]
    },
    {
     "name": "stderr",
     "output_type": "stream",
     "text": [
      "Epoch 622, lr 6.25e-06: 100% 43/43 [00:12<00:00,  3.44it/s, 0 cls=0.16215, 1 cls=0.23221, 2 cls=0.19615, bce=0.05797, dice=0.88320, loss=0.19697]\n"
     ]
    },
    {
     "name": "stdout",
     "output_type": "stream",
     "text": [
      "loss: 0.14330 | bce: 0.03091 | dice: 0.90334 | 0 cls: 0.11841 | 1 cls: 0.16855 | 2 cls: 0.13474\n"
     ]
    },
    {
     "name": "stderr",
     "output_type": "stream",
     "text": [
      "Epoch 623, lr 6.25e-06: 100% 43/43 [00:12<00:00,  3.42it/s, 0 cls=0.16435, 1 cls=0.23294, 2 cls=0.19735, bce=0.05905, dice=0.88280, loss=0.19839]\n"
     ]
    },
    {
     "name": "stdout",
     "output_type": "stream",
     "text": [
      "loss: 0.14298 | bce: 0.03070 | dice: 0.90349 | 0 cls: 0.11797 | 1 cls: 0.16815 | 2 cls: 0.13468\n"
     ]
    },
    {
     "name": "stderr",
     "output_type": "stream",
     "text": [
      "Epoch 624, lr 6.25e-06: 100% 43/43 [00:12<00:00,  3.45it/s, 0 cls=0.16094, 1 cls=0.23069, 2 cls=0.19442, bce=0.05768, dice=0.88426, loss=0.19554]\n"
     ]
    },
    {
     "name": "stdout",
     "output_type": "stream",
     "text": [
      "loss: 0.14252 | bce: 0.03073 | dice: 0.90388 | 0 cls: 0.11765 | 1 cls: 0.16756 | 2 cls: 0.13419\n"
     ]
    },
    {
     "name": "stderr",
     "output_type": "stream",
     "text": [
      "Epoch 625, lr 6.25e-06: 100% 43/43 [00:12<00:00,  3.39it/s, 0 cls=0.16114, 1 cls=0.23083, 2 cls=0.19471, bce=0.05803, dice=0.88429, loss=0.19573]\n"
     ]
    },
    {
     "name": "stdout",
     "output_type": "stream",
     "text": [
      "loss: 0.14341 | bce: 0.03065 | dice: 0.90299 | 0 cls: 0.11869 | 1 cls: 0.16834 | 2 cls: 0.13506\n"
     ]
    },
    {
     "name": "stderr",
     "output_type": "stream",
     "text": [
      "Epoch 626, lr 6.25e-06: 100% 43/43 [00:12<00:00,  3.44it/s, 0 cls=0.15919, 1 cls=0.23066, 2 cls=0.19408, bce=0.05705, dice=0.88452, loss=0.19476]\n"
     ]
    },
    {
     "name": "stdout",
     "output_type": "stream",
     "text": [
      "loss: 0.14285 | bce: 0.03074 | dice: 0.90361 | 0 cls: 0.11809 | 1 cls: 0.16782 | 2 cls: 0.13435\n"
     ]
    },
    {
     "name": "stderr",
     "output_type": "stream",
     "text": [
      "Epoch 627, lr 6.25e-06: 100% 43/43 [00:12<00:00,  3.43it/s, 0 cls=0.16556, 1 cls=0.23452, 2 cls=0.19850, bce=0.05985, dice=0.88256, loss=0.19973]\n"
     ]
    },
    {
     "name": "stdout",
     "output_type": "stream",
     "text": [
      "loss: 0.14270 | bce: 0.03078 | dice: 0.90370 | 0 cls: 0.11796 | 1 cls: 0.16772 | 2 cls: 0.13431\n"
     ]
    },
    {
     "name": "stderr",
     "output_type": "stream",
     "text": [
      "Epoch 628, lr 6.25e-06: 100% 43/43 [00:12<00:00,  3.43it/s, 0 cls=0.16510, 1 cls=0.23282, 2 cls=0.19778, bce=0.05895, dice=0.88245, loss=0.19872]\n"
     ]
    },
    {
     "name": "stdout",
     "output_type": "stream",
     "text": [
      "loss: 0.14327 | bce: 0.03058 | dice: 0.90304 | 0 cls: 0.11832 | 1 cls: 0.16844 | 2 cls: 0.13503\n"
     ]
    },
    {
     "name": "stderr",
     "output_type": "stream",
     "text": [
      "Epoch 629, lr 6.25e-06: 100% 43/43 [00:12<00:00,  3.44it/s, 0 cls=0.16166, 1 cls=0.23246, 2 cls=0.19590, bce=0.05816, dice=0.88363, loss=0.19683]\n"
     ]
    },
    {
     "name": "stdout",
     "output_type": "stream",
     "text": [
      "loss: 0.14276 | bce: 0.03101 | dice: 0.90390 | 0 cls: 0.11778 | 1 cls: 0.16790 | 2 cls: 0.13452\n"
     ]
    },
    {
     "name": "stderr",
     "output_type": "stream",
     "text": [
      "Epoch 630, lr 6.25e-06: 100% 43/43 [00:12<00:00,  3.44it/s, 0 cls=0.16725, 1 cls=0.23768, 2 cls=0.20116, bce=0.05936, dice=0.88012, loss=0.20220]\n"
     ]
    },
    {
     "name": "stdout",
     "output_type": "stream",
     "text": [
      "loss: 0.14316 | bce: 0.03067 | dice: 0.90325 | 0 cls: 0.11839 | 1 cls: 0.16812 | 2 cls: 0.13490\n"
     ]
    },
    {
     "name": "stderr",
     "output_type": "stream",
     "text": [
      "Epoch 631, lr 6.25e-06: 100% 43/43 [00:12<00:00,  3.43it/s, 0 cls=0.16915, 1 cls=0.24212, 2 cls=0.20459, bce=0.06033, dice=0.87843, loss=0.20543]\n"
     ]
    },
    {
     "name": "stdout",
     "output_type": "stream",
     "text": [
      "loss: 0.14359 | bce: 0.03048 | dice: 0.90263 | 0 cls: 0.11902 | 1 cls: 0.16853 | 2 cls: 0.13500\n"
     ]
    },
    {
     "name": "stderr",
     "output_type": "stream",
     "text": [
      "Epoch 632, lr 6.25e-06: 100% 43/43 [00:12<00:00,  3.44it/s, 0 cls=0.16284, 1 cls=0.23302, 2 cls=0.19641, bce=0.05840, dice=0.88311, loss=0.19762]\n"
     ]
    },
    {
     "name": "stdout",
     "output_type": "stream",
     "text": [
      "loss: 0.14270 | bce: 0.03101 | dice: 0.90401 | 0 cls: 0.11774 | 1 cls: 0.16782 | 2 cls: 0.13436\n"
     ]
    },
    {
     "name": "stderr",
     "output_type": "stream",
     "text": [
      "Epoch 633, lr 6.25e-06: 100% 43/43 [00:12<00:00,  3.42it/s, 0 cls=0.16189, 1 cls=0.23388, 2 cls=0.19625, bce=0.05797, dice=0.88298, loss=0.19756]\n"
     ]
    },
    {
     "name": "stdout",
     "output_type": "stream",
     "text": [
      "loss: 0.14295 | bce: 0.03085 | dice: 0.90359 | 0 cls: 0.11803 | 1 cls: 0.16806 | 2 cls: 0.13462\n"
     ]
    },
    {
     "name": "stderr",
     "output_type": "stream",
     "text": [
      "Epoch 634, lr 6.25e-06: 100% 43/43 [00:12<00:00,  3.45it/s, 0 cls=0.16901, 1 cls=0.23623, 2 cls=0.20138, bce=0.06019, dice=0.88050, loss=0.20237]\n"
     ]
    },
    {
     "name": "stdout",
     "output_type": "stream",
     "text": [
      "loss: 0.14296 | bce: 0.03059 | dice: 0.90328 | 0 cls: 0.11836 | 1 cls: 0.16784 | 2 cls: 0.13454\n"
     ]
    },
    {
     "name": "stderr",
     "output_type": "stream",
     "text": [
      "Epoch 635, lr 6.25e-06: 100% 43/43 [00:12<00:00,  3.45it/s, 0 cls=0.16102, 1 cls=0.23134, 2 cls=0.19471, bce=0.05713, dice=0.88347, loss=0.19589]\n"
     ]
    },
    {
     "name": "stdout",
     "output_type": "stream",
     "text": [
      "loss: 0.14268 | bce: 0.03095 | dice: 0.90395 | 0 cls: 0.11772 | 1 cls: 0.16810 | 2 cls: 0.13412\n"
     ]
    },
    {
     "name": "stderr",
     "output_type": "stream",
     "text": [
      "Epoch 636, lr 6.25e-06: 100% 43/43 [00:12<00:00,  3.43it/s, 0 cls=0.16598, 1 cls=0.23508, 2 cls=0.19989, bce=0.05998, dice=0.88188, loss=0.20040]\n"
     ]
    },
    {
     "name": "stdout",
     "output_type": "stream",
     "text": [
      "loss: 0.14331 | bce: 0.03083 | dice: 0.90317 | 0 cls: 0.11877 | 1 cls: 0.16819 | 2 cls: 0.13484\n"
     ]
    },
    {
     "name": "stderr",
     "output_type": "stream",
     "text": [
      "Epoch 637, lr 6.25e-06: 100% 43/43 [00:12<00:00,  3.45it/s, 0 cls=0.17252, 1 cls=0.24154, 2 cls=0.20589, bce=0.06021, dice=0.87682, loss=0.20680]\n"
     ]
    },
    {
     "name": "stdout",
     "output_type": "stream",
     "text": [
      "loss: 0.14336 | bce: 0.03053 | dice: 0.90284 | 0 cls: 0.11884 | 1 cls: 0.16814 | 2 cls: 0.13495\n"
     ]
    },
    {
     "name": "stderr",
     "output_type": "stream",
     "text": [
      "Epoch 638, lr 6.25e-06: 100% 43/43 [00:12<00:00,  3.45it/s, 0 cls=0.16066, 1 cls=0.22876, 2 cls=0.19374, bce=0.05808, dice=0.88534, loss=0.19452]\n"
     ]
    },
    {
     "name": "stdout",
     "output_type": "stream",
     "text": [
      "loss: 0.14327 | bce: 0.03080 | dice: 0.90331 | 0 cls: 0.11828 | 1 cls: 0.16848 | 2 cls: 0.13499\n"
     ]
    },
    {
     "name": "stderr",
     "output_type": "stream",
     "text": [
      "Epoch 639, lr 6.25e-06: 100% 43/43 [00:12<00:00,  3.45it/s, 0 cls=0.17348, 1 cls=0.24040, 2 cls=0.20578, bce=0.06218, dice=0.87852, loss=0.20671]\n"
     ]
    },
    {
     "name": "stdout",
     "output_type": "stream",
     "text": [
      "loss: 0.14348 | bce: 0.03079 | dice: 0.90295 | 0 cls: 0.11912 | 1 cls: 0.16824 | 2 cls: 0.13495\n"
     ]
    },
    {
     "name": "stderr",
     "output_type": "stream",
     "text": [
      "Epoch 640, lr 6.25e-06: 100% 43/43 [00:12<00:00,  3.43it/s, 0 cls=0.16502, 1 cls=0.23471, 2 cls=0.19908, bce=0.05838, dice=0.88107, loss=0.19971]\n"
     ]
    },
    {
     "name": "stdout",
     "output_type": "stream",
     "text": [
      "loss: 0.14295 | bce: 0.03071 | dice: 0.90345 | 0 cls: 0.11812 | 1 cls: 0.16793 | 2 cls: 0.13471\n"
     ]
    },
    {
     "name": "stderr",
     "output_type": "stream",
     "text": [
      "Epoch 641, lr 6.25e-06: 100% 43/43 [00:12<00:00,  3.43it/s, 0 cls=0.17047, 1 cls=0.24017, 2 cls=0.20399, bce=0.06065, dice=0.87878, loss=0.20506]\n"
     ]
    },
    {
     "name": "stdout",
     "output_type": "stream",
     "text": [
      "loss: 0.14278 | bce: 0.03053 | dice: 0.90350 | 0 cls: 0.11776 | 1 cls: 0.16795 | 2 cls: 0.13452\n"
     ]
    },
    {
     "name": "stderr",
     "output_type": "stream",
     "text": [
      "Epoch 642, lr 6.25e-06: 100% 43/43 [00:12<00:00,  3.44it/s, 0 cls=0.16689, 1 cls=0.23533, 2 cls=0.19925, bce=0.05913, dice=0.88093, loss=0.20074]\n"
     ]
    },
    {
     "name": "stdout",
     "output_type": "stream",
     "text": [
      "loss: 0.14290 | bce: 0.03058 | dice: 0.90332 | 0 cls: 0.11834 | 1 cls: 0.16782 | 2 cls: 0.13440\n"
     ]
    },
    {
     "name": "stderr",
     "output_type": "stream",
     "text": [
      "Epoch 643, lr 6.25e-06: 100% 43/43 [00:12<00:00,  3.45it/s, 0 cls=0.16443, 1 cls=0.23346, 2 cls=0.19780, bce=0.05859, dice=0.88232, loss=0.19871]\n"
     ]
    },
    {
     "name": "stdout",
     "output_type": "stream",
     "text": [
      "loss: 0.14337 | bce: 0.03061 | dice: 0.90292 | 0 cls: 0.11887 | 1 cls: 0.16825 | 2 cls: 0.13487\n"
     ]
    },
    {
     "name": "stderr",
     "output_type": "stream",
     "text": [
      "Epoch 644, lr 6.25e-06: 100% 43/43 [00:12<00:00,  3.42it/s, 0 cls=0.16677, 1 cls=0.23610, 2 cls=0.19985, bce=0.05924, dice=0.88092, loss=0.20112]\n"
     ]
    },
    {
     "name": "stdout",
     "output_type": "stream",
     "text": [
      "loss: 0.14324 | bce: 0.03068 | dice: 0.90311 | 0 cls: 0.11846 | 1 cls: 0.16832 | 2 cls: 0.13489\n"
     ]
    },
    {
     "name": "stderr",
     "output_type": "stream",
     "text": [
      "Epoch 645, lr 6.25e-06: 100% 43/43 [00:12<00:00,  3.45it/s, 0 cls=0.16560, 1 cls=0.23473, 2 cls=0.19921, bce=0.05861, dice=0.88106, loss=0.19998]\n"
     ]
    },
    {
     "name": "stdout",
     "output_type": "stream",
     "text": [
      "loss: 0.14331 | bce: 0.03087 | dice: 0.90319 | 0 cls: 0.11875 | 1 cls: 0.16822 | 2 cls: 0.13490\n"
     ]
    },
    {
     "name": "stderr",
     "output_type": "stream",
     "text": [
      "Epoch 646, lr 6.25e-06: 100% 43/43 [00:12<00:00,  3.44it/s, 0 cls=0.16082, 1 cls=0.23262, 2 cls=0.19550, bce=0.05799, dice=0.88398, loss=0.19647]\n"
     ]
    },
    {
     "name": "stdout",
     "output_type": "stream",
     "text": [
      "loss: 0.14265 | bce: 0.03070 | dice: 0.90369 | 0 cls: 0.11795 | 1 cls: 0.16764 | 2 cls: 0.13426\n"
     ]
    },
    {
     "name": "stderr",
     "output_type": "stream",
     "text": [
      "Epoch 647, lr 6.25e-06: 100% 43/43 [00:12<00:00,  3.43it/s, 0 cls=0.16083, 1 cls=0.22773, 2 cls=0.19280, bce=0.05721, dice=0.88479, loss=0.19399]\n"
     ]
    },
    {
     "name": "stdout",
     "output_type": "stream",
     "text": [
      "loss: 0.14301 | bce: 0.03053 | dice: 0.90322 | 0 cls: 0.11817 | 1 cls: 0.16815 | 2 cls: 0.13468\n"
     ]
    },
    {
     "name": "stderr",
     "output_type": "stream",
     "text": [
      "Epoch 648, lr 6.25e-06: 100% 43/43 [00:12<00:00,  3.44it/s, 0 cls=0.16675, 1 cls=0.23684, 2 cls=0.20074, bce=0.05934, dice=0.88074, loss=0.20158]\n"
     ]
    },
    {
     "name": "stdout",
     "output_type": "stream",
     "text": [
      "loss: 0.14266 | bce: 0.03099 | dice: 0.90402 | 0 cls: 0.11766 | 1 cls: 0.16799 | 2 cls: 0.13428\n"
     ]
    },
    {
     "name": "stderr",
     "output_type": "stream",
     "text": [
      "Epoch 649, lr 6.25e-06: 100% 43/43 [00:12<00:00,  3.45it/s, 0 cls=0.16514, 1 cls=0.23664, 2 cls=0.20037, bce=0.05846, dice=0.88068, loss=0.20079]\n"
     ]
    },
    {
     "name": "stdout",
     "output_type": "stream",
     "text": [
      "loss: 0.14277 | bce: 0.03073 | dice: 0.90365 | 0 cls: 0.11815 | 1 cls: 0.16782 | 2 cls: 0.13413\n"
     ]
    },
    {
     "name": "stderr",
     "output_type": "stream",
     "text": [
      "Epoch 650, lr 6.25e-06: 100% 43/43 [00:12<00:00,  3.44it/s, 0 cls=0.15893, 1 cls=0.22938, 2 cls=0.19324, bce=0.05772, dice=0.88555, loss=0.19397]\n"
     ]
    },
    {
     "name": "stdout",
     "output_type": "stream",
     "text": [
      "loss: 0.14267 | bce: 0.03077 | dice: 0.90374 | 0 cls: 0.11786 | 1 cls: 0.16784 | 2 cls: 0.13429\n"
     ]
    },
    {
     "name": "stderr",
     "output_type": "stream",
     "text": [
      "Epoch 651, lr 6.25e-06: 100% 43/43 [00:12<00:00,  3.41it/s, 0 cls=0.16409, 1 cls=0.23357, 2 cls=0.19763, bce=0.05920, dice=0.88291, loss=0.19859]\n"
     ]
    },
    {
     "name": "stdout",
     "output_type": "stream",
     "text": [
      "loss: 0.14255 | bce: 0.03077 | dice: 0.90385 | 0 cls: 0.11797 | 1 cls: 0.16757 | 2 cls: 0.13397\n"
     ]
    },
    {
     "name": "stderr",
     "output_type": "stream",
     "text": [
      "Epoch 652, lr 6.25e-06: 100% 43/43 [00:12<00:00,  3.43it/s, 0 cls=0.16388, 1 cls=0.23251, 2 cls=0.19677, bce=0.05952, dice=0.88370, loss=0.19791]\n"
     ]
    },
    {
     "name": "stdout",
     "output_type": "stream",
     "text": [
      "loss: 0.14310 | bce: 0.03059 | dice: 0.90317 | 0 cls: 0.11867 | 1 cls: 0.16793 | 2 cls: 0.13449\n"
     ]
    },
    {
     "name": "stderr",
     "output_type": "stream",
     "text": [
      "Epoch 653, lr 6.25e-06: 100% 43/43 [00:12<00:00,  3.44it/s, 0 cls=0.16570, 1 cls=0.23638, 2 cls=0.20020, bce=0.05915, dice=0.88089, loss=0.20087]\n"
     ]
    },
    {
     "name": "stdout",
     "output_type": "stream",
     "text": [
      "loss: 0.14290 | bce: 0.03069 | dice: 0.90343 | 0 cls: 0.11837 | 1 cls: 0.16772 | 2 cls: 0.13457\n"
     ]
    },
    {
     "name": "stderr",
     "output_type": "stream",
     "text": [
      "Epoch 654, lr 6.25e-06: 100% 43/43 [00:12<00:00,  3.44it/s, 0 cls=0.16567, 1 cls=0.23545, 2 cls=0.19958, bce=0.05957, dice=0.88171, loss=0.20036]\n"
     ]
    },
    {
     "name": "stdout",
     "output_type": "stream",
     "text": [
      "loss: 0.14292 | bce: 0.03052 | dice: 0.90323 | 0 cls: 0.11820 | 1 cls: 0.16790 | 2 cls: 0.13476\n"
     ]
    },
    {
     "name": "stderr",
     "output_type": "stream",
     "text": [
      "Epoch 655, lr 6.25e-06: 100% 43/43 [00:12<00:00,  3.45it/s, 0 cls=0.16084, 1 cls=0.22984, 2 cls=0.19410, bce=0.05772, dice=0.88453, loss=0.19509]\n"
     ]
    },
    {
     "name": "stdout",
     "output_type": "stream",
     "text": [
      "loss: 0.14281 | bce: 0.03072 | dice: 0.90351 | 0 cls: 0.11816 | 1 cls: 0.16774 | 2 cls: 0.13456\n"
     ]
    },
    {
     "name": "stderr",
     "output_type": "stream",
     "text": [
      "Epoch 656, lr 6.25e-06: 100% 43/43 [00:12<00:00,  3.42it/s, 0 cls=0.16286, 1 cls=0.23640, 2 cls=0.19873, bce=0.05832, dice=0.88196, loss=0.19945]\n"
     ]
    },
    {
     "name": "stdout",
     "output_type": "stream",
     "text": [
      "loss: 0.14338 | bce: 0.03059 | dice: 0.90295 | 0 cls: 0.11856 | 1 cls: 0.16848 | 2 cls: 0.13514\n"
     ]
    },
    {
     "name": "stderr",
     "output_type": "stream",
     "text": [
      "Epoch 657, lr 6.25e-06: 100% 43/43 [00:12<00:00,  3.44it/s, 0 cls=0.16497, 1 cls=0.23339, 2 cls=0.19774, bce=0.05896, dice=0.88236, loss=0.19889]\n"
     ]
    },
    {
     "name": "stdout",
     "output_type": "stream",
     "text": [
      "loss: 0.14272 | bce: 0.03056 | dice: 0.90348 | 0 cls: 0.11807 | 1 cls: 0.16753 | 2 cls: 0.13450\n"
     ]
    },
    {
     "name": "stderr",
     "output_type": "stream",
     "text": [
      "Epoch 658, lr 6.25e-06: 100% 43/43 [00:12<00:00,  3.44it/s, 0 cls=0.15842, 1 cls=0.22817, 2 cls=0.19257, bce=0.05742, dice=0.88587, loss=0.19315]\n"
     ]
    },
    {
     "name": "stdout",
     "output_type": "stream",
     "text": [
      "loss: 0.14293 | bce: 0.03081 | dice: 0.90347 | 0 cls: 0.11827 | 1 cls: 0.16790 | 2 cls: 0.13469\n"
     ]
    },
    {
     "name": "stderr",
     "output_type": "stream",
     "text": [
      "Epoch 659, lr 6.25e-06: 100% 43/43 [00:12<00:00,  3.41it/s, 0 cls=0.16714, 1 cls=0.23625, 2 cls=0.20089, bce=0.05935, dice=0.88066, loss=0.20153]\n"
     ]
    },
    {
     "name": "stdout",
     "output_type": "stream",
     "text": [
      "loss: 0.14284 | bce: 0.03067 | dice: 0.90352 | 0 cls: 0.11797 | 1 cls: 0.16801 | 2 cls: 0.13440\n"
     ]
    },
    {
     "name": "stderr",
     "output_type": "stream",
     "text": [
      "Epoch 660, lr 6.25e-06: 100% 43/43 [00:12<00:00,  3.43it/s, 0 cls=0.15984, 1 cls=0.22994, 2 cls=0.19362, bce=0.05775, dice=0.88509, loss=0.19463]\n"
     ]
    },
    {
     "name": "stdout",
     "output_type": "stream",
     "text": [
      "loss: 0.14307 | bce: 0.03088 | dice: 0.90349 | 0 cls: 0.11820 | 1 cls: 0.16826 | 2 cls: 0.13482\n"
     ]
    },
    {
     "name": "stderr",
     "output_type": "stream",
     "text": [
      "Epoch 661, lr 6.25e-06: 100% 43/43 [00:12<00:00,  3.44it/s, 0 cls=0.16148, 1 cls=0.23038, 2 cls=0.19487, bce=0.05864, dice=0.88485, loss=0.19572]\n"
     ]
    },
    {
     "name": "stdout",
     "output_type": "stream",
     "text": [
      "loss: 0.14297 | bce: 0.03055 | dice: 0.90324 | 0 cls: 0.11822 | 1 cls: 0.16801 | 2 cls: 0.13472\n"
     ]
    },
    {
     "name": "stderr",
     "output_type": "stream",
     "text": [
      "Epoch 662, lr 6.25e-06: 100% 43/43 [00:12<00:00,  3.44it/s, 0 cls=0.15872, 1 cls=0.22904, 2 cls=0.19250, bce=0.05746, dice=0.88567, loss=0.19360]\n"
     ]
    },
    {
     "name": "stdout",
     "output_type": "stream",
     "text": [
      "loss: 0.14288 | bce: 0.03086 | dice: 0.90362 | 0 cls: 0.11802 | 1 cls: 0.16798 | 2 cls: 0.13471\n"
     ]
    },
    {
     "name": "stderr",
     "output_type": "stream",
     "text": [
      "Epoch 663, lr 6.25e-06: 100% 43/43 [00:12<00:00,  3.44it/s, 0 cls=0.16684, 1 cls=0.23696, 2 cls=0.20106, bce=0.05949, dice=0.88056, loss=0.20173]\n"
     ]
    },
    {
     "name": "stdout",
     "output_type": "stream",
     "text": [
      "loss: 0.14315 | bce: 0.03089 | dice: 0.90334 | 0 cls: 0.11865 | 1 cls: 0.16809 | 2 cls: 0.13479\n"
     ]
    },
    {
     "name": "stderr",
     "output_type": "stream",
     "text": [
      "Epoch 664, lr 6.25e-06: 100% 43/43 [00:12<00:00,  3.44it/s, 0 cls=0.16003, 1 cls=0.22994, 2 cls=0.19405, bce=0.05810, dice=0.88522, loss=0.19480]\n"
     ]
    },
    {
     "name": "stdout",
     "output_type": "stream",
     "text": [
      "loss: 0.14337 | bce: 0.03058 | dice: 0.90288 | 0 cls: 0.11871 | 1 cls: 0.16847 | 2 cls: 0.13499\n"
     ]
    },
    {
     "name": "stderr",
     "output_type": "stream",
     "text": [
      "Epoch 665, lr 6.25e-06: 100% 43/43 [00:12<00:00,  3.43it/s, 0 cls=0.16400, 1 cls=0.23688, 2 cls=0.20002, bce=0.05919, dice=0.88185, loss=0.20036]\n"
     ]
    },
    {
     "name": "stdout",
     "output_type": "stream",
     "text": [
      "loss: 0.14313 | bce: 0.03075 | dice: 0.90331 | 0 cls: 0.11826 | 1 cls: 0.16833 | 2 cls: 0.13478\n"
     ]
    },
    {
     "name": "stderr",
     "output_type": "stream",
     "text": [
      "Epoch 666, lr 6.25e-06: 100% 43/43 [00:12<00:00,  3.43it/s, 0 cls=0.16713, 1 cls=0.23302, 2 cls=0.19887, bce=0.05928, dice=0.88147, loss=0.19983]\n"
     ]
    },
    {
     "name": "stdout",
     "output_type": "stream",
     "text": [
      "loss: 0.14301 | bce: 0.03049 | dice: 0.90312 | 0 cls: 0.11836 | 1 cls: 0.16798 | 2 cls: 0.13467\n"
     ]
    },
    {
     "name": "stderr",
     "output_type": "stream",
     "text": [
      "Epoch 667, lr 6.25e-06: 100% 43/43 [00:12<00:00,  3.44it/s, 0 cls=0.16718, 1 cls=0.23678, 2 cls=0.20079, bce=0.06014, dice=0.88107, loss=0.20174]\n"
     ]
    },
    {
     "name": "stdout",
     "output_type": "stream",
     "text": [
      "loss: 0.14316 | bce: 0.03055 | dice: 0.90309 | 0 cls: 0.11839 | 1 cls: 0.16819 | 2 cls: 0.13494\n"
     ]
    },
    {
     "name": "stderr",
     "output_type": "stream",
     "text": [
      "Epoch 668, lr 6.25e-06: 100% 43/43 [00:12<00:00,  3.44it/s, 0 cls=0.15897, 1 cls=0.23008, 2 cls=0.19319, bce=0.05697, dice=0.88483, loss=0.19426]\n"
     ]
    },
    {
     "name": "stdout",
     "output_type": "stream",
     "text": [
      "loss: 0.14294 | bce: 0.03054 | dice: 0.90326 | 0 cls: 0.11797 | 1 cls: 0.16821 | 2 cls: 0.13479\n"
     ]
    },
    {
     "name": "stderr",
     "output_type": "stream",
     "text": [
      "Epoch 669, lr 6.25e-06: 100% 43/43 [00:12<00:00,  3.45it/s, 0 cls=0.16294, 1 cls=0.23518, 2 cls=0.19787, bce=0.05894, dice=0.88273, loss=0.19882]\n"
     ]
    },
    {
     "name": "stdout",
     "output_type": "stream",
     "text": [
      "loss: 0.14351 | bce: 0.03045 | dice: 0.90269 | 0 cls: 0.11876 | 1 cls: 0.16861 | 2 cls: 0.13516\n"
     ]
    },
    {
     "name": "stderr",
     "output_type": "stream",
     "text": [
      "Epoch 670, lr 6.25e-06: 100% 43/43 [00:12<00:00,  3.43it/s, 0 cls=0.16230, 1 cls=0.23306, 2 cls=0.19661, bce=0.05792, dice=0.88287, loss=0.19747]\n"
     ]
    },
    {
     "name": "stdout",
     "output_type": "stream",
     "text": [
      "loss: 0.14292 | bce: 0.03077 | dice: 0.90356 | 0 cls: 0.11797 | 1 cls: 0.16814 | 2 cls: 0.13454\n"
     ]
    },
    {
     "name": "stderr",
     "output_type": "stream",
     "text": [
      "Epoch 671, lr 6.25e-06: 100% 43/43 [00:12<00:00,  3.44it/s, 0 cls=0.15980, 1 cls=0.23018, 2 cls=0.19371, bce=0.05834, dice=0.88553, loss=0.19474]\n"
     ]
    },
    {
     "name": "stdout",
     "output_type": "stream",
     "text": [
      "loss: 0.14293 | bce: 0.03067 | dice: 0.90339 | 0 cls: 0.11812 | 1 cls: 0.16810 | 2 cls: 0.13472\n"
     ]
    },
    {
     "name": "stderr",
     "output_type": "stream",
     "text": [
      "Epoch 672, lr 6.25e-06: 100% 43/43 [00:12<00:00,  3.45it/s, 0 cls=0.16320, 1 cls=0.23299, 2 cls=0.19643, bce=0.05854, dice=0.88300, loss=0.19777]\n"
     ]
    },
    {
     "name": "stdout",
     "output_type": "stream",
     "text": [
      "loss: 0.14230 | bce: 0.03093 | dice: 0.90423 | 0 cls: 0.11746 | 1 cls: 0.16737 | 2 cls: 0.13407\n"
     ]
    },
    {
     "name": "stderr",
     "output_type": "stream",
     "text": [
      "Epoch 673, lr 6.25e-06: 100% 43/43 [00:12<00:00,  3.43it/s, 0 cls=0.16110, 1 cls=0.22858, 2 cls=0.19349, bce=0.05807, dice=0.88518, loss=0.19457]\n"
     ]
    },
    {
     "name": "stdout",
     "output_type": "stream",
     "text": [
      "loss: 0.14348 | bce: 0.03058 | dice: 0.90282 | 0 cls: 0.11856 | 1 cls: 0.16880 | 2 cls: 0.13522\n"
     ]
    },
    {
     "name": "stderr",
     "output_type": "stream",
     "text": [
      "Epoch 674, lr 6.25e-06: 100% 43/43 [00:12<00:00,  3.42it/s, 0 cls=0.16528, 1 cls=0.23550, 2 cls=0.19940, bce=0.05812, dice=0.88062, loss=0.20019]\n"
     ]
    },
    {
     "name": "stdout",
     "output_type": "stream",
     "text": [
      "loss: 0.14322 | bce: 0.03060 | dice: 0.90300 | 0 cls: 0.11850 | 1 cls: 0.16817 | 2 cls: 0.13522\n"
     ]
    },
    {
     "name": "stderr",
     "output_type": "stream",
     "text": [
      "Epoch 675, lr 6.25e-06: 100% 43/43 [00:12<00:00,  3.43it/s, 0 cls=0.15984, 1 cls=0.23173, 2 cls=0.19441, bce=0.05778, dice=0.88455, loss=0.19551]\n"
     ]
    },
    {
     "name": "stdout",
     "output_type": "stream",
     "text": [
      "loss: 0.14315 | bce: 0.03063 | dice: 0.90312 | 0 cls: 0.11847 | 1 cls: 0.16818 | 2 cls: 0.13482\n"
     ]
    },
    {
     "name": "stderr",
     "output_type": "stream",
     "text": [
      "Epoch 676, lr 6.25e-06: 100% 43/43 [00:12<00:00,  3.44it/s, 0 cls=0.17100, 1 cls=0.24112, 2 cls=0.20517, bce=0.06088, dice=0.87827, loss=0.20588]\n"
     ]
    },
    {
     "name": "stdout",
     "output_type": "stream",
     "text": [
      "loss: 0.14277 | bce: 0.03077 | dice: 0.90352 | 0 cls: 0.11826 | 1 cls: 0.16762 | 2 cls: 0.13460\n"
     ]
    },
    {
     "name": "stderr",
     "output_type": "stream",
     "text": [
      "Epoch 677, lr 6.25e-06: 100% 43/43 [00:12<00:00,  3.44it/s, 0 cls=0.16173, 1 cls=0.23371, 2 cls=0.19667, bce=0.05826, dice=0.88317, loss=0.19751]\n"
     ]
    },
    {
     "name": "stdout",
     "output_type": "stream",
     "text": [
      "loss: 0.14287 | bce: 0.03058 | dice: 0.90340 | 0 cls: 0.11798 | 1 cls: 0.16812 | 2 cls: 0.13456\n"
     ]
    },
    {
     "name": "stderr",
     "output_type": "stream",
     "text": [
      "Epoch 678, lr 6.25e-06: 100% 43/43 [00:12<00:00,  3.44it/s, 0 cls=0.16156, 1 cls=0.23050, 2 cls=0.19461, bce=0.05828, dice=0.88443, loss=0.19574]\n"
     ]
    },
    {
     "name": "stdout",
     "output_type": "stream",
     "text": [
      "loss: 0.14296 | bce: 0.03061 | dice: 0.90334 | 0 cls: 0.11824 | 1 cls: 0.16803 | 2 cls: 0.13460\n"
     ]
    },
    {
     "name": "stderr",
     "output_type": "stream",
     "text": [
      "Epoch 679, lr 6.25e-06: 100% 43/43 [00:12<00:00,  3.43it/s, 0 cls=0.16029, 1 cls=0.23054, 2 cls=0.19361, bce=0.05812, dice=0.88517, loss=0.19505]\n"
     ]
    },
    {
     "name": "stdout",
     "output_type": "stream",
     "text": [
      "loss: 0.14309 | bce: 0.03056 | dice: 0.90319 | 0 cls: 0.11826 | 1 cls: 0.16819 | 2 cls: 0.13488\n"
     ]
    },
    {
     "name": "stderr",
     "output_type": "stream",
     "text": [
      "Epoch 680, lr 6.25e-06: 100% 43/43 [00:12<00:00,  3.44it/s, 0 cls=0.16816, 1 cls=0.24045, 2 cls=0.20343, bce=0.06000, dice=0.87928, loss=0.20413]\n"
     ]
    },
    {
     "name": "stdout",
     "output_type": "stream",
     "text": [
      "loss: 0.14287 | bce: 0.03081 | dice: 0.90369 | 0 cls: 0.11789 | 1 cls: 0.16822 | 2 cls: 0.13436\n"
     ]
    },
    {
     "name": "stderr",
     "output_type": "stream",
     "text": [
      "Epoch 681, lr 6.25e-06: 100% 43/43 [00:12<00:00,  3.44it/s, 0 cls=0.15822, 1 cls=0.22926, 2 cls=0.19231, bce=0.05677, dice=0.88525, loss=0.19345]\n"
     ]
    },
    {
     "name": "stdout",
     "output_type": "stream",
     "text": [
      "loss: 0.14292 | bce: 0.03066 | dice: 0.90341 | 0 cls: 0.11801 | 1 cls: 0.16814 | 2 cls: 0.13469\n"
     ]
    },
    {
     "name": "stderr",
     "output_type": "stream",
     "text": [
      "Epoch 682, lr 6.25e-06: 100% 43/43 [00:12<00:00,  3.44it/s, 0 cls=0.16316, 1 cls=0.22990, 2 cls=0.19525, bce=0.05903, dice=0.88442, loss=0.19627]\n"
     ]
    },
    {
     "name": "stdout",
     "output_type": "stream",
     "text": [
      "loss: 0.14277 | bce: 0.03067 | dice: 0.90361 | 0 cls: 0.11776 | 1 cls: 0.16805 | 2 cls: 0.13447\n"
     ]
    },
    {
     "name": "stderr",
     "output_type": "stream",
     "text": [
      "Epoch 683, lr 6.25e-06: 100% 43/43 [00:12<00:00,  3.42it/s, 0 cls=0.15962, 1 cls=0.22729, 2 cls=0.19198, bce=0.05758, dice=0.88596, loss=0.19316]\n"
     ]
    },
    {
     "name": "stdout",
     "output_type": "stream",
     "text": [
      "loss: 0.14340 | bce: 0.03075 | dice: 0.90306 | 0 cls: 0.11859 | 1 cls: 0.16862 | 2 cls: 0.13495\n"
     ]
    },
    {
     "name": "stderr",
     "output_type": "stream",
     "text": [
      "Epoch 684, lr 6.25e-06: 100% 43/43 [00:12<00:00,  3.44it/s, 0 cls=0.16118, 1 cls=0.23338, 2 cls=0.19673, bce=0.05814, dice=0.88340, loss=0.19717]\n"
     ]
    },
    {
     "name": "stdout",
     "output_type": "stream",
     "text": [
      "loss: 0.14308 | bce: 0.03058 | dice: 0.90315 | 0 cls: 0.11818 | 1 cls: 0.16836 | 2 cls: 0.13485\n"
     ]
    },
    {
     "name": "stderr",
     "output_type": "stream",
     "text": [
      "Epoch 685, lr 6.25e-06: 100% 43/43 [00:12<00:00,  3.43it/s, 0 cls=0.16362, 1 cls=0.23332, 2 cls=0.19729, bce=0.05984, dice=0.88395, loss=0.19823]\n"
     ]
    },
    {
     "name": "stdout",
     "output_type": "stream",
     "text": [
      "loss: 0.14272 | bce: 0.03082 | dice: 0.90377 | 0 cls: 0.11801 | 1 cls: 0.16769 | 2 cls: 0.13431\n"
     ]
    },
    {
     "name": "stderr",
     "output_type": "stream",
     "text": [
      "Epoch 686, lr 6.25e-06: 100% 43/43 [00:12<00:00,  3.45it/s, 0 cls=0.15846, 1 cls=0.22873, 2 cls=0.19300, bce=0.05752, dice=0.88578, loss=0.19348]\n"
     ]
    },
    {
     "name": "stdout",
     "output_type": "stream",
     "text": [
      "loss: 0.14268 | bce: 0.03099 | dice: 0.90397 | 0 cls: 0.11775 | 1 cls: 0.16785 | 2 cls: 0.13439\n"
     ]
    },
    {
     "name": "stderr",
     "output_type": "stream",
     "text": [
      "Epoch 687, lr 6.25e-06: 100% 43/43 [00:12<00:00,  3.44it/s, 0 cls=0.16008, 1 cls=0.23089, 2 cls=0.19466, bce=0.05715, dice=0.88395, loss=0.19532]\n"
     ]
    },
    {
     "name": "stdout",
     "output_type": "stream",
     "text": [
      "loss: 0.14335 | bce: 0.03065 | dice: 0.90306 | 0 cls: 0.11852 | 1 cls: 0.16844 | 2 cls: 0.13494\n"
     ]
    },
    {
     "name": "stderr",
     "output_type": "stream",
     "text": [
      "Epoch 688, lr 6.25e-06: 100% 43/43 [00:12<00:00,  3.43it/s, 0 cls=0.15809, 1 cls=0.22545, 2 cls=0.19069, bce=0.05698, dice=0.88677, loss=0.19156]\n"
     ]
    },
    {
     "name": "stdout",
     "output_type": "stream",
     "text": [
      "loss: 0.14269 | bce: 0.03089 | dice: 0.90379 | 0 cls: 0.11806 | 1 cls: 0.16758 | 2 cls: 0.13436\n"
     ]
    },
    {
     "name": "stderr",
     "output_type": "stream",
     "text": [
      "Epoch 689, lr 6.25e-06: 100% 43/43 [00:12<00:00,  3.46it/s, 0 cls=0.16588, 1 cls=0.23510, 2 cls=0.19933, bce=0.05944, dice=0.88172, loss=0.20025]\n"
     ]
    },
    {
     "name": "stdout",
     "output_type": "stream",
     "text": [
      "loss: 0.14326 | bce: 0.03054 | dice: 0.90295 | 0 cls: 0.11853 | 1 cls: 0.16826 | 2 cls: 0.13501\n"
     ]
    },
    {
     "name": "stderr",
     "output_type": "stream",
     "text": [
      "Epoch 690, lr 0.0002621440000000001: 100% 43/43 [00:12<00:00,  3.45it/s, 0 cls=0.17811, 1 cls=0.24479, 2 cls=0.20859, bce=0.06333, dice=0.87605, loss=0.21088]\n"
     ]
    },
    {
     "name": "stdout",
     "output_type": "stream",
     "text": [
      "loss: 0.14572 | bce: 0.03259 | dice: 0.90303 | 0 cls: 0.12310 | 1 cls: 0.16989 | 2 cls: 0.13358\n"
     ]
    },
    {
     "name": "stderr",
     "output_type": "stream",
     "text": [
      "Epoch 691, lr 0.0002621440000000001: 100% 43/43 [00:12<00:00,  3.45it/s, 0 cls=0.16629, 1 cls=0.23677, 2 cls=0.19912, bce=0.05968, dice=0.88139, loss=0.20104]\n"
     ]
    },
    {
     "name": "stdout",
     "output_type": "stream",
     "text": [
      "loss: 0.14776 | bce: 0.03222 | dice: 0.90037 | 0 cls: 0.12704 | 1 cls: 0.16919 | 2 cls: 0.13717\n"
     ]
    },
    {
     "name": "stderr",
     "output_type": "stream",
     "text": [
      "Epoch 692, lr 7.864320000000004e-05: 100% 43/43 [00:12<00:00,  3.44it/s, 0 cls=0.16762, 1 cls=0.23765, 2 cls=0.20102, bce=0.05954, dice=0.88020, loss=0.20231]\n"
     ]
    },
    {
     "name": "stdout",
     "output_type": "stream",
     "text": [
      "loss: 0.14460 | bce: 0.03078 | dice: 0.90239 | 0 cls: 0.11875 | 1 cls: 0.17001 | 2 cls: 0.13679\n"
     ]
    },
    {
     "name": "stderr",
     "output_type": "stream",
     "text": [
      "Epoch 693, lr 7.864320000000004e-05: 100% 43/43 [00:12<00:00,  3.44it/s, 0 cls=0.16276, 1 cls=0.23376, 2 cls=0.19725, bce=0.05834, dice=0.88272, loss=0.19806]\n"
     ]
    },
    {
     "name": "stdout",
     "output_type": "stream",
     "text": [
      "loss: 0.14357 | bce: 0.03042 | dice: 0.90287 | 0 cls: 0.11893 | 1 cls: 0.16784 | 2 cls: 0.13496\n"
     ]
    },
    {
     "name": "stderr",
     "output_type": "stream",
     "text": [
      "Epoch 694, lr 2.359296000000001e-05: 100% 43/43 [00:12<00:00,  3.44it/s, 0 cls=0.16437, 1 cls=0.23092, 2 cls=0.19654, bce=0.05912, dice=0.88362, loss=0.19742]\n"
     ]
    },
    {
     "name": "stdout",
     "output_type": "stream",
     "text": [
      "loss: 0.14279 | bce: 0.03033 | dice: 0.90348 | 0 cls: 0.11765 | 1 cls: 0.16753 | 2 cls: 0.13431\n"
     ]
    },
    {
     "name": "stderr",
     "output_type": "stream",
     "text": [
      "Epoch 695, lr 0.0002621440000000001: 100% 43/43 [00:12<00:00,  3.43it/s, 0 cls=0.17191, 1 cls=0.24559, 2 cls=0.20645, bce=0.06208, dice=0.87771, loss=0.20829]\n"
     ]
    },
    {
     "name": "stdout",
     "output_type": "stream",
     "text": [
      "loss: 0.15537 | bce: 0.03372 | dice: 0.89535 | 0 cls: 0.13055 | 1 cls: 0.18214 | 2 cls: 0.14423\n"
     ]
    },
    {
     "name": "stderr",
     "output_type": "stream",
     "text": [
      "Epoch 696, lr 0.0002621440000000001: 100% 43/43 [00:12<00:00,  3.44it/s, 0 cls=0.17097, 1 cls=0.24328, 2 cls=0.20498, bce=0.06095, dice=0.87784, loss=0.20670]\n"
     ]
    },
    {
     "name": "stdout",
     "output_type": "stream",
     "text": [
      "loss: 0.14487 | bce: 0.03268 | dice: 0.90413 | 0 cls: 0.12135 | 1 cls: 0.16867 | 2 cls: 0.13517\n"
     ]
    },
    {
     "name": "stderr",
     "output_type": "stream",
     "text": [
      "Epoch 697, lr 7.864320000000004e-05: 100% 43/43 [00:12<00:00,  3.43it/s, 0 cls=0.16726, 1 cls=0.23828, 2 cls=0.20057, bce=0.05981, dice=0.88066, loss=0.20233]\n"
     ]
    },
    {
     "name": "stdout",
     "output_type": "stream",
     "text": [
      "loss: 0.14520 | bce: 0.03035 | dice: 0.90119 | 0 cls: 0.11968 | 1 cls: 0.17063 | 2 cls: 0.13779\n"
     ]
    },
    {
     "name": "stderr",
     "output_type": "stream",
     "text": [
      "Epoch 698, lr 7.864320000000004e-05: 100% 43/43 [00:12<00:00,  3.44it/s, 0 cls=0.16749, 1 cls=0.23869, 2 cls=0.20125, bce=0.06027, dice=0.88063, loss=0.20272]\n"
     ]
    },
    {
     "name": "stdout",
     "output_type": "stream",
     "text": [
      "loss: 0.14389 | bce: 0.03035 | dice: 0.90239 | 0 cls: 0.11914 | 1 cls: 0.16885 | 2 cls: 0.13525\n"
     ]
    },
    {
     "name": "stderr",
     "output_type": "stream",
     "text": [
      "Epoch 699, lr 2.359296000000001e-05: 100% 43/43 [00:12<00:00,  3.42it/s, 0 cls=0.17252, 1 cls=0.24015, 2 cls=0.20474, bce=0.06127, dice=0.87845, loss=0.20601]\n"
     ]
    },
    {
     "name": "stdout",
     "output_type": "stream",
     "text": [
      "loss: 0.14325 | bce: 0.03078 | dice: 0.90339 | 0 cls: 0.11815 | 1 cls: 0.16828 | 2 cls: 0.13471\n",
      "Finished: best loss 0.14166 on epoch 363\n"
     ]
    }
   ],
   "source": [
    "train_args = {\n",
    "    'model_name': 'TernausNet34_with_scale_05_03_only_centers_700',\n",
    "    'network': 'TernausNet34',\n",
    "    'nb_epoch': 700,\n",
    "    'loss': 'BCEDiceLossMulti',\n",
    "    'lr_args': {\n",
    "        'adjust_init_lr': 0.0004,\n",
    "        'adjust_lr_decay_factor': 0.5,\n",
    "        'cycle_epochs_decay': 2,\n",
    "        'cycle_init_lr': 0.001,\n",
    "        'cycle_lr_decay_factor': 0.3,\n",
    "        'global_cycle_lr_decay_factor': 0.8,\n",
    "        'global_num_epochs_per_cycle': 100,\n",
    "        'num_epochs_per_cycle': 5,\n",
    "        'num_epochs_per_decay': 100\n",
    "    }, \n",
    "    'model_dir': 'models', \n",
    "    'log_dir': 'logs', \n",
    "    'network_args': {\n",
    "        'num_classes': 3, \n",
    "        'num_filters': 16, \n",
    "        'pretrained': True\n",
    "    }, \n",
    "    'loss_args': {\n",
    "        'weights': [0.4, 0.4, 0.2],\n",
    "        'num_classes': 3\n",
    "    },       \n",
    "    'cycle_start_epoch': 5\n",
    "}\n",
    "\n",
    "train(\n",
    "    train_args, train_ids + val_ids, val_ids[:1], \n",
    "    \"../output_data/with_scale_05_03_only_centers/scaled_images/{}.png\", \"../output_data/with_scale_05_03_only_centers/scaled_masks/{}.png\", \n",
    "    16, 1, train_transforms, val_transforms, period=64\n",
    ")"
   ]
  }
 ],
 "metadata": {
  "kernelspec": {
   "display_name": "Python 3",
   "language": "python",
   "name": "python3"
  },
  "language_info": {
   "codemirror_mode": {
    "name": "ipython",
    "version": 3
   },
   "file_extension": ".py",
   "mimetype": "text/x-python",
   "name": "python",
   "nbconvert_exporter": "python",
   "pygments_lexer": "ipython3",
   "version": "3.6.3"
  }
 },
 "nbformat": 4,
 "nbformat_minor": 2
}
