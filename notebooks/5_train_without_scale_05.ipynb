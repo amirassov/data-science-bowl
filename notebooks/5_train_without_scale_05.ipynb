{
 "cells": [
  {
   "cell_type": "code",
   "execution_count": 1,
   "metadata": {},
   "outputs": [
    {
     "data": {
      "text/html": [
       "<style>.container { width:95% !important; }</style>"
      ],
      "text/plain": [
       "<IPython.core.display.HTML object>"
      ]
     },
     "metadata": {},
     "output_type": "display_data"
    }
   ],
   "source": [
    "from IPython.core.display import display, HTML\n",
    "display(HTML(\"<style>.container { width:95% !important; }</style>\"))"
   ]
  },
  {
   "cell_type": "code",
   "execution_count": 2,
   "metadata": {},
   "outputs": [],
   "source": [
    "import warnings\n",
    "warnings.simplefilter(\"ignore\", UserWarning)\n",
    "warnings.simplefilter(\"ignore\", FutureWarning)\n",
    "warnings.simplefilter(\"ignore\", RuntimeWarning)\n",
    "\n",
    "import sys\n",
    "sys.path.append('../../dstorch/')\n",
    "\n",
    "import matplotlib.pyplot as plt\n",
    "%matplotlib inline\n",
    "%reload_ext autoreload\n",
    "%autoreload 2"
   ]
  },
  {
   "cell_type": "code",
   "execution_count": 3,
   "metadata": {},
   "outputs": [],
   "source": [
    "import os\n",
    "import pandas as pd\n",
    "from dstorch import transforms\n",
    "from dstorch.train import train\n",
    "import torch.backends.cudnn as cudnn\n",
    "import cv2"
   ]
  },
  {
   "cell_type": "code",
   "execution_count": 4,
   "metadata": {},
   "outputs": [],
   "source": [
    "ids = list([x.split('.')[0] for x in list(next(os.walk(\"../output_data/without_scale_05/images/\"))[2])])\n",
    "classes = pd.read_csv(\"../data/classes.csv\")\n",
    "val_ids = list(classes.loc[classes['type'] == 'val', 'id'])\n",
    "train_ids = list(set(ids) - set(val_ids))"
   ]
  },
  {
   "cell_type": "code",
   "execution_count": 5,
   "metadata": {},
   "outputs": [],
   "source": [
    "train_transforms = transforms.DualCompose(\n",
    "    [\n",
    "        transforms.RandomCrop((256, 256)),\n",
    "        transforms.VerticalFlip(),\n",
    "        transforms.HorizontalFlip(),\n",
    "        transforms.Transpose(),\n",
    "        transforms.ShiftScaleRotate(scale_limit=0.6, shift_limit=0.2),\n",
    "        transforms.Distort1(0.5, 0.5),\n",
    "        transforms.ImageOnly(transforms.RandomBrightness(0.5)),\n",
    "        transforms.ImageOnly(transforms.RandomContrast(0.5)),\n",
    "        transforms.ImageOnly(transforms.RandomSaturation(0.5)),\n",
    "        transforms.ImageOnly(transforms.Normalize(\n",
    "            mean=[0.485, 0.456, 0.406],\n",
    "            std=[0.229, 0.224, 0.225]\n",
    "        ))\n",
    "    ]\n",
    ")\n",
    "\n",
    "val_transforms = transforms.DualCompose(\n",
    "    [\n",
    "        transforms.ImageOnly(transforms.Normalize(\n",
    "            mean=[0.485, 0.456, 0.406],\n",
    "            std=[0.229, 0.224, 0.225]\n",
    "        ))\n",
    "    ]\n",
    ")"
   ]
  },
  {
   "cell_type": "code",
   "execution_count": 6,
   "metadata": {},
   "outputs": [],
   "source": [
    "cudnn.benchmark = True"
   ]
  },
  {
   "cell_type": "code",
   "execution_count": null,
   "metadata": {
    "scrolled": true
   },
   "outputs": [
    {
     "name": "stderr",
     "output_type": "stream",
     "text": [
      "Epoch 0, lr 0.0003: 100% 43/43 [00:15<00:00,  2.73it/s, 0 cls=1.83971, 1 cls=2.30308, 2 cls=1.91570, bce=0.70261, dice=0.31282, loss=2.03266]\n"
     ]
    },
    {
     "name": "stdout",
     "output_type": "stream",
     "text": [
      "loss: 0.97826 | bce: 0.15700 | dice: 0.34177 | 0 cls: 0.76355 | 1 cls: 0.99904 | 2 cls: 1.96862\n"
     ]
    },
    {
     "name": "stderr",
     "output_type": "stream",
     "text": [
      "Epoch 1, lr 0.0003: 100% 43/43 [00:12<00:00,  3.51it/s, 0 cls=0.48009, 1 cls=0.76802, 2 cls=0.99818, bce=0.20551, dice=0.61789, loss=0.64707]\n"
     ]
    },
    {
     "name": "stdout",
     "output_type": "stream",
     "text": [
      "loss: 0.49340 | bce: 0.10278 | dice: 0.61748 | 0 cls: 0.36784 | 1 cls: 0.52997 | 2 cls: 0.97488\n"
     ]
    },
    {
     "name": "stderr",
     "output_type": "stream",
     "text": [
      "Epoch 2, lr 0.0003: 100% 43/43 [00:12<00:00,  3.50it/s, 0 cls=0.38324, 1 cls=0.59276, 2 cls=0.82037, bce=0.17034, dice=0.67799, loss=0.51076]\n"
     ]
    },
    {
     "name": "stdout",
     "output_type": "stream",
     "text": [
      "loss: 0.54598 | bce: 0.10266 | dice: 0.61576 | 0 cls: 0.35615 | 1 cls: 0.68543 | 2 cls: 0.93735\n"
     ]
    },
    {
     "name": "stderr",
     "output_type": "stream",
     "text": [
      "Epoch 3, lr 0.0003: 100% 43/43 [00:12<00:00,  3.49it/s, 0 cls=0.33656, 1 cls=0.52644, 2 cls=0.70603, bce=0.14361, dice=0.71099, loss=0.44946]\n"
     ]
    },
    {
     "name": "stdout",
     "output_type": "stream",
     "text": [
      "loss: 0.43016 | bce: 0.08516 | dice: 0.67083 | 0 cls: 0.31168 | 1 cls: 0.48843 | 2 cls: 0.78953\n"
     ]
    },
    {
     "name": "stderr",
     "output_type": "stream",
     "text": [
      "Epoch 4, lr 0.0003: 100% 43/43 [00:12<00:00,  3.49it/s, 0 cls=0.33172, 1 cls=0.48171, 2 cls=0.62847, bce=0.13455, dice=0.73207, loss=0.42139]\n"
     ]
    },
    {
     "name": "stdout",
     "output_type": "stream",
     "text": [
      "loss: 0.41196 | bce: 0.07662 | dice: 0.67868 | 0 cls: 0.32079 | 1 cls: 0.43384 | 2 cls: 0.78031\n"
     ]
    },
    {
     "name": "stderr",
     "output_type": "stream",
     "text": [
      "Epoch 5, lr 0.0003: 100% 43/43 [00:12<00:00,  3.47it/s, 0 cls=0.31266, 1 cls=0.44201, 2 cls=0.59332, bce=0.12477, dice=0.74555, loss=0.39247]\n"
     ]
    },
    {
     "name": "stdout",
     "output_type": "stream",
     "text": [
      "loss: 0.40423 | bce: 0.08465 | dice: 0.69539 | 0 cls: 0.28358 | 1 cls: 0.47788 | 2 cls: 0.71287\n"
     ]
    },
    {
     "name": "stderr",
     "output_type": "stream",
     "text": [
      "Epoch 6, lr 0.0003: 100% 43/43 [00:12<00:00,  3.48it/s, 0 cls=0.30514, 1 cls=0.42747, 2 cls=0.57711, bce=0.12468, dice=0.75433, loss=0.38127]\n"
     ]
    },
    {
     "name": "stdout",
     "output_type": "stream",
     "text": [
      "loss: 0.36729 | bce: 0.07230 | dice: 0.70790 | 0 cls: 0.27672 | 1 cls: 0.40104 | 2 cls: 0.68522\n"
     ]
    },
    {
     "name": "stderr",
     "output_type": "stream",
     "text": [
      "Epoch 7, lr 0.0003: 100% 43/43 [00:12<00:00,  3.49it/s, 0 cls=0.28751, 1 cls=0.42080, 2 cls=0.55441, bce=0.11902, dice=0.76188, loss=0.36751]\n"
     ]
    },
    {
     "name": "stdout",
     "output_type": "stream",
     "text": [
      "loss: 0.34211 | bce: 0.06950 | dice: 0.72379 | 0 cls: 0.25584 | 1 cls: 0.36818 | 2 cls: 0.66922\n"
     ]
    },
    {
     "name": "stderr",
     "output_type": "stream",
     "text": [
      "Epoch 8, lr 0.0003: 100% 43/43 [00:12<00:00,  3.50it/s, 0 cls=0.27291, 1 cls=0.39253, 2 cls=0.53207, bce=0.11505, dice=0.77400, loss=0.34667]\n"
     ]
    },
    {
     "name": "stdout",
     "output_type": "stream",
     "text": [
      "loss: 0.35685 | bce: 0.08022 | dice: 0.72213 | 0 cls: 0.28462 | 1 cls: 0.37690 | 2 cls: 0.63779\n"
     ]
    },
    {
     "name": "stderr",
     "output_type": "stream",
     "text": [
      "Epoch 9, lr 0.0003: 100% 43/43 [00:12<00:00,  3.44it/s, 0 cls=0.28924, 1 cls=0.40609, 2 cls=0.53985, bce=0.11826, dice=0.76717, loss=0.36104]\n"
     ]
    },
    {
     "name": "stdout",
     "output_type": "stream",
     "text": [
      "loss: 0.33179 | bce: 0.06996 | dice: 0.73474 | 0 cls: 0.25908 | 1 cls: 0.35119 | 2 cls: 0.61780\n"
     ]
    },
    {
     "name": "stderr",
     "output_type": "stream",
     "text": [
      "Epoch 10, lr 0.0003: 100% 43/43 [00:12<00:00,  3.45it/s, 0 cls=0.27905, 1 cls=0.38441, 2 cls=0.51474, bce=0.11569, dice=0.77824, loss=0.34476]\n"
     ]
    },
    {
     "name": "stdout",
     "output_type": "stream",
     "text": [
      "loss: 0.30259 | bce: 0.07079 | dice: 0.75822 | 0 cls: 0.22668 | 1 cls: 0.33084 | 2 cls: 0.56911\n"
     ]
    },
    {
     "name": "stderr",
     "output_type": "stream",
     "text": [
      "Epoch 11, lr 0.0003: 100% 43/43 [00:12<00:00,  3.44it/s, 0 cls=0.25446, 1 cls=0.37085, 2 cls=0.49607, bce=0.10928, dice=0.78836, loss=0.32518]\n"
     ]
    },
    {
     "name": "stdout",
     "output_type": "stream",
     "text": [
      "loss: 0.32303 | bce: 0.06671 | dice: 0.74112 | 0 cls: 0.24710 | 1 cls: 0.34524 | 2 cls: 0.61383\n"
     ]
    },
    {
     "name": "stderr",
     "output_type": "stream",
     "text": [
      "Epoch 12, lr 0.0003: 100% 43/43 [00:12<00:00,  3.44it/s, 0 cls=0.25835, 1 cls=0.36823, 2 cls=0.49582, bce=0.10868, dice=0.78679, loss=0.32605]\n"
     ]
    },
    {
     "name": "stdout",
     "output_type": "stream",
     "text": [
      "loss: 0.29296 | bce: 0.06177 | dice: 0.76064 | 0 cls: 0.23177 | 1 cls: 0.30694 | 2 cls: 0.54302\n"
     ]
    },
    {
     "name": "stderr",
     "output_type": "stream",
     "text": [
      "Epoch 13, lr 0.0003: 100% 43/43 [00:12<00:00,  3.44it/s, 0 cls=0.25365, 1 cls=0.36965, 2 cls=0.48951, bce=0.10616, dice=0.78797, loss=0.32363]\n"
     ]
    },
    {
     "name": "stdout",
     "output_type": "stream",
     "text": [
      "loss: 0.30552 | bce: 0.06223 | dice: 0.74261 | 0 cls: 0.24093 | 1 cls: 0.30556 | 2 cls: 0.62830\n"
     ]
    },
    {
     "name": "stderr",
     "output_type": "stream",
     "text": [
      "Epoch 14, lr 0.0003: 100% 43/43 [00:12<00:00,  3.43it/s, 0 cls=0.25232, 1 cls=0.35924, 2 cls=0.49025, bce=0.10617, dice=0.78976, loss=0.31888]\n"
     ]
    },
    {
     "name": "stdout",
     "output_type": "stream",
     "text": [
      "loss: 0.26240 | bce: 0.05517 | dice: 0.78049 | 0 cls: 0.19579 | 1 cls: 0.28328 | 2 cls: 0.51189\n"
     ]
    },
    {
     "name": "stderr",
     "output_type": "stream",
     "text": [
      "Epoch 15, lr 0.0003: 100% 43/43 [00:12<00:00,  3.41it/s, 0 cls=0.26056, 1 cls=0.36168, 2 cls=0.49467, bce=0.10784, dice=0.78668, loss=0.32442]\n"
     ]
    },
    {
     "name": "stdout",
     "output_type": "stream",
     "text": [
      "loss: 0.28181 | bce: 0.05829 | dice: 0.76462 | 0 cls: 0.21067 | 1 cls: 0.30638 | 2 cls: 0.53922\n"
     ]
    },
    {
     "name": "stderr",
     "output_type": "stream",
     "text": [
      "Epoch 16, lr 0.0003: 100% 43/43 [00:12<00:00,  3.42it/s, 0 cls=0.24343, 1 cls=0.34542, 2 cls=0.46769, bce=0.10295, dice=0.79837, loss=0.30665]\n"
     ]
    },
    {
     "name": "stdout",
     "output_type": "stream",
     "text": [
      "loss: 0.26814 | bce: 0.05734 | dice: 0.77704 | 0 cls: 0.19787 | 1 cls: 0.29133 | 2 cls: 0.52675\n"
     ]
    },
    {
     "name": "stderr",
     "output_type": "stream",
     "text": [
      "Epoch 17, lr 0.0003: 100% 43/43 [00:12<00:00,  3.42it/s, 0 cls=0.25592, 1 cls=0.35976, 2 cls=0.48193, bce=0.10624, dice=0.79117, loss=0.32006]\n"
     ]
    },
    {
     "name": "stdout",
     "output_type": "stream",
     "text": [
      "loss: 0.25540 | bce: 0.05444 | dice: 0.78557 | 0 cls: 0.18898 | 1 cls: 0.27398 | 2 cls: 0.51325\n"
     ]
    },
    {
     "name": "stderr",
     "output_type": "stream",
     "text": [
      "Epoch 18, lr 0.0003: 100% 43/43 [00:12<00:00,  3.42it/s, 0 cls=0.24233, 1 cls=0.34329, 2 cls=0.46455, bce=0.10238, dice=0.80016, loss=0.30494]\n"
     ]
    },
    {
     "name": "stdout",
     "output_type": "stream",
     "text": [
      "loss: 0.25028 | bce: 0.05182 | dice: 0.78835 | 0 cls: 0.18694 | 1 cls: 0.26821 | 2 cls: 0.49519\n"
     ]
    },
    {
     "name": "stderr",
     "output_type": "stream",
     "text": [
      "Epoch 19, lr 0.0003: 100% 43/43 [00:12<00:00,  3.43it/s, 0 cls=0.24033, 1 cls=0.34605, 2 cls=0.46455, bce=0.10084, dice=0.79841, loss=0.30504]\n"
     ]
    },
    {
     "name": "stdout",
     "output_type": "stream",
     "text": [
      "loss: 0.27395 | bce: 0.05984 | dice: 0.77090 | 0 cls: 0.20151 | 1 cls: 0.29739 | 2 cls: 0.54234\n"
     ]
    },
    {
     "name": "stderr",
     "output_type": "stream",
     "text": [
      "Epoch 20, lr 0.0003: 100% 43/43 [00:12<00:00,  3.41it/s, 0 cls=0.24069, 1 cls=0.34519, 2 cls=0.46395, bce=0.10340, dice=0.80077, loss=0.30481]\n"
     ]
    },
    {
     "name": "stdout",
     "output_type": "stream",
     "text": [
      "loss: 0.25552 | bce: 0.06313 | dice: 0.79727 | 0 cls: 0.18407 | 1 cls: 0.28806 | 2 cls: 0.48265\n"
     ]
    },
    {
     "name": "stderr",
     "output_type": "stream",
     "text": [
      "Epoch 21, lr 0.0003: 100% 43/43 [00:12<00:00,  3.43it/s, 0 cls=0.23773, 1 cls=0.33486, 2 cls=0.45719, bce=0.10023, dice=0.80269, loss=0.29853]\n"
     ]
    },
    {
     "name": "stdout",
     "output_type": "stream",
     "text": [
      "loss: 0.26540 | bce: 0.05938 | dice: 0.77418 | 0 cls: 0.20177 | 1 cls: 0.27497 | 2 cls: 0.54525\n"
     ]
    },
    {
     "name": "stderr",
     "output_type": "stream",
     "text": [
      "Epoch 22, lr 0.0003: 100% 43/43 [00:12<00:00,  3.41it/s, 0 cls=0.23179, 1 cls=0.32648, 2 cls=0.44894, bce=0.09849, dice=0.80664, loss=0.29138]\n"
     ]
    },
    {
     "name": "stdout",
     "output_type": "stream",
     "text": [
      "loss: 0.28771 | bce: 0.06821 | dice: 0.75823 | 0 cls: 0.23284 | 1 cls: 0.27647 | 2 cls: 0.60704\n"
     ]
    },
    {
     "name": "stderr",
     "output_type": "stream",
     "text": [
      "Epoch 23, lr 0.0003: 100% 43/43 [00:12<00:00,  3.41it/s, 0 cls=0.23706, 1 cls=0.32957, 2 cls=0.44910, bce=0.09809, dice=0.80426, loss=0.29527]\n"
     ]
    },
    {
     "name": "stdout",
     "output_type": "stream",
     "text": [
      "loss: 0.22632 | bce: 0.04895 | dice: 0.80182 | 0 cls: 0.17686 | 1 cls: 0.22475 | 2 cls: 0.47992\n"
     ]
    },
    {
     "name": "stderr",
     "output_type": "stream",
     "text": [
      "Epoch 24, lr 0.0003: 100% 43/43 [00:12<00:00,  3.42it/s, 0 cls=0.21774, 1 cls=0.32317, 2 cls=0.43220, bce=0.09488, dice=0.81375, loss=0.28136]\n"
     ]
    },
    {
     "name": "stdout",
     "output_type": "stream",
     "text": [
      "loss: 0.22675 | bce: 0.05169 | dice: 0.80679 | 0 cls: 0.16546 | 1 cls: 0.24644 | 2 cls: 0.45438\n"
     ]
    },
    {
     "name": "stderr",
     "output_type": "stream",
     "text": [
      "Epoch 25, lr 0.0003: 100% 43/43 [00:12<00:00,  3.42it/s, 0 cls=0.23398, 1 cls=0.33457, 2 cls=0.45028, bce=0.09937, dice=0.80524, loss=0.29585]\n"
     ]
    },
    {
     "name": "stdout",
     "output_type": "stream",
     "text": [
      "loss: 0.22799 | bce: 0.05318 | dice: 0.80067 | 0 cls: 0.17588 | 1 cls: 0.22021 | 2 cls: 0.51961\n"
     ]
    },
    {
     "name": "stderr",
     "output_type": "stream",
     "text": [
      "Epoch 26, lr 0.0003: 100% 43/43 [00:12<00:00,  3.41it/s, 0 cls=0.22455, 1 cls=0.32803, 2 cls=0.44825, bce=0.09770, dice=0.80829, loss=0.28831]\n"
     ]
    },
    {
     "name": "stdout",
     "output_type": "stream",
     "text": [
      "loss: 0.21902 | bce: 0.04953 | dice: 0.80815 | 0 cls: 0.16737 | 1 cls: 0.22451 | 2 cls: 0.45531\n"
     ]
    },
    {
     "name": "stderr",
     "output_type": "stream",
     "text": [
      "Epoch 27, lr 0.0003: 100% 43/43 [00:12<00:00,  3.40it/s, 0 cls=0.23438, 1 cls=0.32481, 2 cls=0.44614, bce=0.09828, dice=0.80668, loss=0.29173]\n"
     ]
    },
    {
     "name": "stdout",
     "output_type": "stream",
     "text": [
      "loss: 0.23148 | bce: 0.05657 | dice: 0.80177 | 0 cls: 0.17129 | 1 cls: 0.24045 | 2 cls: 0.49659\n"
     ]
    },
    {
     "name": "stderr",
     "output_type": "stream",
     "text": [
      "Epoch 28, lr 0.0003: 100% 43/43 [00:12<00:00,  3.41it/s, 0 cls=0.22989, 1 cls=0.32092, 2 cls=0.44115, bce=0.10045, dice=0.81202, loss=0.28743]\n"
     ]
    },
    {
     "name": "stdout",
     "output_type": "stream",
     "text": [
      "loss: 0.21996 | bce: 0.04873 | dice: 0.80731 | 0 cls: 0.16831 | 1 cls: 0.22526 | 2 cls: 0.45700\n"
     ]
    },
    {
     "name": "stderr",
     "output_type": "stream",
     "text": [
      "Epoch 29, lr 0.0003: 100% 43/43 [00:12<00:00,  3.43it/s, 0 cls=0.21619, 1 cls=0.30889, 2 cls=0.42615, bce=0.09245, dice=0.81592, loss=0.27426]\n"
     ]
    },
    {
     "name": "stdout",
     "output_type": "stream",
     "text": [
      "loss: 0.21323 | bce: 0.05141 | dice: 0.82312 | 0 cls: 0.15575 | 1 cls: 0.23402 | 2 cls: 0.41746\n"
     ]
    },
    {
     "name": "stderr",
     "output_type": "stream",
     "text": [
      "Epoch 30, lr 0.0003: 100% 43/43 [00:12<00:00,  3.41it/s, 0 cls=0.22965, 1 cls=0.32299, 2 cls=0.44201, bce=0.09706, dice=0.80882, loss=0.28822]\n"
     ]
    },
    {
     "name": "stdout",
     "output_type": "stream",
     "text": [
      "loss: 0.20941 | bce: 0.04666 | dice: 0.81736 | 0 cls: 0.16057 | 1 cls: 0.21482 | 2 cls: 0.43199\n"
     ]
    },
    {
     "name": "stderr",
     "output_type": "stream",
     "text": [
      "Epoch 31, lr 0.0003: 100% 43/43 [00:12<00:00,  3.43it/s, 0 cls=0.21914, 1 cls=0.31535, 2 cls=0.42707, bce=0.09379, dice=0.81499, loss=0.27842]\n"
     ]
    },
    {
     "name": "stdout",
     "output_type": "stream",
     "text": [
      "loss: 0.21438 | bce: 0.05528 | dice: 0.82331 | 0 cls: 0.17413 | 1 cls: 0.21713 | 2 cls: 0.40465\n"
     ]
    },
    {
     "name": "stderr",
     "output_type": "stream",
     "text": [
      "Epoch 32, lr 0.0003: 100% 43/43 [00:12<00:00,  3.40it/s, 0 cls=0.21770, 1 cls=0.31634, 2 cls=0.42790, bce=0.09417, dice=0.81534, loss=0.27818]\n"
     ]
    },
    {
     "name": "stdout",
     "output_type": "stream",
     "text": [
      "loss: 0.20247 | bce: 0.04491 | dice: 0.82270 | 0 cls: 0.15293 | 1 cls: 0.21311 | 2 cls: 0.40763\n"
     ]
    },
    {
     "name": "stderr",
     "output_type": "stream",
     "text": [
      "Epoch 33, lr 0.0003: 100% 43/43 [00:12<00:00,  3.42it/s, 0 cls=0.22331, 1 cls=0.31635, 2 cls=0.43392, bce=0.09498, dice=0.81259, loss=0.28158]\n"
     ]
    },
    {
     "name": "stdout",
     "output_type": "stream",
     "text": [
      "loss: 0.20013 | bce: 0.04768 | dice: 0.82839 | 0 cls: 0.14770 | 1 cls: 0.21574 | 2 cls: 0.39985\n"
     ]
    },
    {
     "name": "stderr",
     "output_type": "stream",
     "text": [
      "Epoch 34, lr 0.0003: 100% 43/43 [00:12<00:00,  3.40it/s, 0 cls=0.21291, 1 cls=0.30769, 2 cls=0.42019, bce=0.09088, dice=0.81760, loss=0.27155]\n"
     ]
    },
    {
     "name": "stdout",
     "output_type": "stream",
     "text": [
      "loss: 0.19278 | bce: 0.04560 | dice: 0.83377 | 0 cls: 0.14555 | 1 cls: 0.20471 | 2 cls: 0.38121\n"
     ]
    },
    {
     "name": "stderr",
     "output_type": "stream",
     "text": [
      "Epoch 35, lr 0.0003: 100% 43/43 [00:12<00:00,  3.41it/s, 0 cls=0.21654, 1 cls=0.31360, 2 cls=0.42874, bce=0.09312, dice=0.81503, loss=0.27658]\n"
     ]
    },
    {
     "name": "stdout",
     "output_type": "stream",
     "text": [
      "loss: 0.23357 | bce: 0.05549 | dice: 0.80169 | 0 cls: 0.17906 | 1 cls: 0.24246 | 2 cls: 0.47061\n"
     ]
    },
    {
     "name": "stderr",
     "output_type": "stream",
     "text": [
      "Epoch 36, lr 0.0003: 100% 43/43 [00:12<00:00,  3.41it/s, 0 cls=0.20817, 1 cls=0.29382, 2 cls=0.40982, bce=0.09042, dice=0.82435, loss=0.26260]\n"
     ]
    },
    {
     "name": "stdout",
     "output_type": "stream",
     "text": [
      "loss: 0.19055 | bce: 0.04294 | dice: 0.83402 | 0 cls: 0.14346 | 1 cls: 0.20018 | 2 cls: 0.38750\n"
     ]
    },
    {
     "name": "stderr",
     "output_type": "stream",
     "text": [
      "Epoch 37, lr 0.0003: 100% 43/43 [00:12<00:00,  3.42it/s, 0 cls=0.21003, 1 cls=0.29657, 2 cls=0.40948, bce=0.09000, dice=0.82281, loss=0.26459]\n"
     ]
    },
    {
     "name": "stdout",
     "output_type": "stream",
     "text": [
      "loss: 0.18796 | bce: 0.04378 | dice: 0.83928 | 0 cls: 0.14447 | 1 cls: 0.19935 | 2 cls: 0.35982\n"
     ]
    },
    {
     "name": "stderr",
     "output_type": "stream",
     "text": [
      "Epoch 38, lr 0.0003: 100% 43/43 [00:12<00:00,  3.43it/s, 0 cls=0.20036, 1 cls=0.29531, 2 cls=0.40543, bce=0.08839, dice=0.82609, loss=0.25885]\n"
     ]
    },
    {
     "name": "stdout",
     "output_type": "stream",
     "text": [
      "loss: 0.20491 | bce: 0.04577 | dice: 0.82094 | 0 cls: 0.16112 | 1 cls: 0.20631 | 2 cls: 0.41828\n"
     ]
    },
    {
     "name": "stderr",
     "output_type": "stream",
     "text": [
      "Epoch 39, lr 0.0003: 100% 43/43 [00:12<00:00,  3.40it/s, 0 cls=0.21499, 1 cls=0.30318, 2 cls=0.42088, bce=0.09212, dice=0.81886, loss=0.27086]\n"
     ]
    },
    {
     "name": "stdout",
     "output_type": "stream",
     "text": [
      "loss: 0.19012 | bce: 0.04107 | dice: 0.83211 | 0 cls: 0.14616 | 1 cls: 0.19711 | 2 cls: 0.38191\n"
     ]
    },
    {
     "name": "stderr",
     "output_type": "stream",
     "text": [
      "Epoch 40, lr 0.0003: 100% 43/43 [00:12<00:00,  3.40it/s, 0 cls=0.21168, 1 cls=0.30844, 2 cls=0.41960, bce=0.09290, dice=0.81983, loss=0.27118]\n"
     ]
    },
    {
     "name": "stdout",
     "output_type": "stream",
     "text": [
      "loss: 0.19085 | bce: 0.04600 | dice: 0.83523 | 0 cls: 0.14054 | 1 cls: 0.20654 | 2 cls: 0.37964\n"
     ]
    },
    {
     "name": "stderr",
     "output_type": "stream",
     "text": [
      "Epoch 41, lr 0.0003: 100% 43/43 [00:12<00:00,  3.38it/s, 0 cls=0.20996, 1 cls=0.30368, 2 cls=0.41945, bce=0.09159, dice=0.82019, loss=0.26839]\n"
     ]
    },
    {
     "name": "stdout",
     "output_type": "stream",
     "text": [
      "loss: 0.19327 | bce: 0.04339 | dice: 0.83475 | 0 cls: 0.14179 | 1 cls: 0.21149 | 2 cls: 0.37775\n"
     ]
    },
    {
     "name": "stderr",
     "output_type": "stream",
     "text": [
      "Epoch 42, lr 0.0003: 100% 43/43 [00:12<00:00,  3.42it/s, 0 cls=0.20639, 1 cls=0.30005, 2 cls=0.41262, bce=0.08916, dice=0.82214, loss=0.26447]\n"
     ]
    },
    {
     "name": "stdout",
     "output_type": "stream",
     "text": [
      "loss: 0.19675 | bce: 0.04641 | dice: 0.83594 | 0 cls: 0.14145 | 1 cls: 0.21983 | 2 cls: 0.38096\n"
     ]
    },
    {
     "name": "stderr",
     "output_type": "stream",
     "text": [
      "Epoch 43, lr 0.0003: 100% 43/43 [00:12<00:00,  3.41it/s, 0 cls=0.22039, 1 cls=0.30839, 2 cls=0.42303, bce=0.09455, dice=0.81759, loss=0.27585]\n"
     ]
    },
    {
     "name": "stdout",
     "output_type": "stream",
     "text": [
      "loss: 0.18822 | bce: 0.04421 | dice: 0.83711 | 0 cls: 0.14687 | 1 cls: 0.19278 | 2 cls: 0.37673\n"
     ]
    },
    {
     "name": "stderr",
     "output_type": "stream",
     "text": [
      "Epoch 44, lr 0.0003: 100% 43/43 [00:12<00:00,  3.42it/s, 0 cls=0.21512, 1 cls=0.30701, 2 cls=0.41848, bce=0.09268, dice=0.81892, loss=0.27221]\n"
     ]
    },
    {
     "name": "stdout",
     "output_type": "stream",
     "text": [
      "loss: 0.19332 | bce: 0.04853 | dice: 0.83450 | 0 cls: 0.15830 | 1 cls: 0.19163 | 2 cls: 0.37511\n"
     ]
    },
    {
     "name": "stderr",
     "output_type": "stream",
     "text": [
      "Epoch 45, lr 0.0003: 100% 43/43 [00:12<00:00,  3.41it/s, 0 cls=0.21572, 1 cls=0.30279, 2 cls=0.41521, bce=0.09235, dice=0.82022, loss=0.27050]\n"
     ]
    },
    {
     "name": "stdout",
     "output_type": "stream",
     "text": [
      "loss: 0.18315 | bce: 0.04464 | dice: 0.84235 | 0 cls: 0.13738 | 1 cls: 0.19596 | 2 cls: 0.36070\n"
     ]
    },
    {
     "name": "stderr",
     "output_type": "stream",
     "text": [
      "Epoch 46, lr 0.0003: 100% 43/43 [00:12<00:00,  3.40it/s, 0 cls=0.20766, 1 cls=0.29779, 2 cls=0.41059, bce=0.09037, dice=0.82333, loss=0.26400]\n"
     ]
    },
    {
     "name": "stdout",
     "output_type": "stream",
     "text": [
      "loss: 0.23685 | bce: 0.05765 | dice: 0.80405 | 0 cls: 0.18412 | 1 cls: 0.24827 | 2 cls: 0.45478\n"
     ]
    },
    {
     "name": "stderr",
     "output_type": "stream",
     "text": [
      "Epoch 47, lr 0.0003: 100% 43/43 [00:12<00:00,  3.40it/s, 0 cls=0.21179, 1 cls=0.29876, 2 cls=0.41217, bce=0.09118, dice=0.82172, loss=0.26662]\n"
     ]
    },
    {
     "name": "stdout",
     "output_type": "stream",
     "text": [
      "loss: 0.18149 | bce: 0.04066 | dice: 0.84018 | 0 cls: 0.14004 | 1 cls: 0.18765 | 2 cls: 0.36408\n"
     ]
    },
    {
     "name": "stderr",
     "output_type": "stream",
     "text": [
      "Epoch 48, lr 0.0003: 100% 43/43 [00:12<00:00,  3.42it/s, 0 cls=0.21035, 1 cls=0.29208, 2 cls=0.41037, bce=0.08935, dice=0.82275, loss=0.26304]\n"
     ]
    },
    {
     "name": "stdout",
     "output_type": "stream",
     "text": [
      "loss: 0.18245 | bce: 0.04467 | dice: 0.84472 | 0 cls: 0.13925 | 1 cls: 0.19143 | 2 cls: 0.36253\n"
     ]
    },
    {
     "name": "stderr",
     "output_type": "stream",
     "text": [
      "Epoch 49, lr 0.0003: 100% 43/43 [00:12<00:00,  3.41it/s, 0 cls=0.20897, 1 cls=0.29475, 2 cls=0.40871, bce=0.08903, dice=0.82268, loss=0.26326]\n"
     ]
    },
    {
     "name": "stdout",
     "output_type": "stream",
     "text": [
      "loss: 0.17773 | bce: 0.04164 | dice: 0.84570 | 0 cls: 0.13191 | 1 cls: 0.19074 | 2 cls: 0.35476\n"
     ]
    },
    {
     "name": "stderr",
     "output_type": "stream",
     "text": [
      "Epoch 50, lr 0.0003: 100% 43/43 [00:12<00:00,  3.41it/s, 0 cls=0.20974, 1 cls=0.28974, 2 cls=0.40884, bce=0.08998, dice=0.82392, loss=0.26165]\n"
     ]
    },
    {
     "name": "stdout",
     "output_type": "stream",
     "text": [
      "loss: 0.17309 | bce: 0.04109 | dice: 0.84845 | 0 cls: 0.13196 | 1 cls: 0.18205 | 2 cls: 0.34291\n"
     ]
    },
    {
     "name": "stderr",
     "output_type": "stream",
     "text": [
      "Epoch 51, lr 0.0003: 100% 43/43 [00:12<00:00,  3.41it/s, 0 cls=0.20267, 1 cls=0.29649, 2 cls=0.40188, bce=0.08885, dice=0.82646, loss=0.26012]\n"
     ]
    },
    {
     "name": "stdout",
     "output_type": "stream",
     "text": [
      "loss: 0.17814 | bce: 0.04114 | dice: 0.84309 | 0 cls: 0.13597 | 1 cls: 0.18589 | 2 cls: 0.35801\n"
     ]
    },
    {
     "name": "stderr",
     "output_type": "stream",
     "text": [
      "Epoch 52, lr 0.0003: 100% 43/43 [00:12<00:00,  3.41it/s, 0 cls=0.21606, 1 cls=0.30004, 2 cls=0.41482, bce=0.09388, dice=0.82170, loss=0.26953]\n"
     ]
    },
    {
     "name": "stdout",
     "output_type": "stream",
     "text": [
      "loss: 0.24228 | bce: 0.06089 | dice: 0.80481 | 0 cls: 0.19871 | 1 cls: 0.24530 | 2 cls: 0.44799\n"
     ]
    },
    {
     "name": "stderr",
     "output_type": "stream",
     "text": [
      "Epoch 53, lr 0.0003: 100% 43/43 [00:12<00:00,  3.43it/s, 0 cls=0.20795, 1 cls=0.29585, 2 cls=0.40843, bce=0.08813, dice=0.82269, loss=0.26315]\n"
     ]
    },
    {
     "name": "stdout",
     "output_type": "stream",
     "text": [
      "loss: 0.17676 | bce: 0.04084 | dice: 0.84432 | 0 cls: 0.13715 | 1 cls: 0.18283 | 2 cls: 0.35057\n"
     ]
    },
    {
     "name": "stderr",
     "output_type": "stream",
     "text": [
      "Epoch 54, lr 0.0003: 100% 43/43 [00:12<00:00,  3.42it/s, 0 cls=0.20205, 1 cls=0.28731, 2 cls=0.39808, bce=0.08625, dice=0.82706, loss=0.25576]\n"
     ]
    },
    {
     "name": "stdout",
     "output_type": "stream",
     "text": [
      "loss: 0.19277 | bce: 0.04648 | dice: 0.83632 | 0 cls: 0.13358 | 1 cls: 0.22041 | 2 cls: 0.37822\n"
     ]
    },
    {
     "name": "stderr",
     "output_type": "stream",
     "text": [
      "Epoch 55, lr 0.0003: 100% 43/43 [00:12<00:00,  3.42it/s, 0 cls=0.21437, 1 cls=0.30081, 2 cls=0.41493, bce=0.09250, dice=0.82117, loss=0.26900]\n"
     ]
    },
    {
     "name": "stdout",
     "output_type": "stream",
     "text": [
      "loss: 0.17626 | bce: 0.04482 | dice: 0.84627 | 0 cls: 0.12889 | 1 cls: 0.19066 | 2 cls: 0.35556\n"
     ]
    },
    {
     "name": "stderr",
     "output_type": "stream",
     "text": [
      "Epoch 56, lr 0.0003: 100% 43/43 [00:12<00:00,  3.41it/s, 0 cls=0.20879, 1 cls=0.29797, 2 cls=0.41015, bce=0.09079, dice=0.82351, loss=0.26460]\n"
     ]
    },
    {
     "name": "stdout",
     "output_type": "stream",
     "text": [
      "loss: 0.17618 | bce: 0.04161 | dice: 0.84592 | 0 cls: 0.13084 | 1 cls: 0.18931 | 2 cls: 0.35032\n"
     ]
    },
    {
     "name": "stderr",
     "output_type": "stream",
     "text": [
      "Epoch 57, lr 0.0003: 100% 43/43 [00:12<00:00,  3.41it/s, 0 cls=0.19772, 1 cls=0.28254, 2 cls=0.39667, bce=0.08612, dice=0.82975, loss=0.25154]\n"
     ]
    },
    {
     "name": "stdout",
     "output_type": "stream",
     "text": [
      "loss: 0.17143 | bce: 0.04353 | dice: 0.85357 | 0 cls: 0.12676 | 1 cls: 0.18603 | 2 cls: 0.33641\n"
     ]
    },
    {
     "name": "stderr",
     "output_type": "stream",
     "text": [
      "Epoch 58, lr 0.0003: 100% 43/43 [00:12<00:00,  3.41it/s, 0 cls=0.20646, 1 cls=0.29075, 2 cls=0.40111, bce=0.08948, dice=0.82663, loss=0.25964]\n"
     ]
    },
    {
     "name": "stdout",
     "output_type": "stream",
     "text": [
      "loss: 0.17534 | bce: 0.04179 | dice: 0.84810 | 0 cls: 0.13327 | 1 cls: 0.18452 | 2 cls: 0.34901\n"
     ]
    },
    {
     "name": "stderr",
     "output_type": "stream",
     "text": [
      "Epoch 59, lr 0.0003: 100% 43/43 [00:12<00:00,  3.38it/s, 0 cls=0.20058, 1 cls=0.28802, 2 cls=0.39888, bce=0.08723, dice=0.82824, loss=0.25539]\n"
     ]
    },
    {
     "name": "stdout",
     "output_type": "stream",
     "text": [
      "loss: 0.16878 | bce: 0.03922 | dice: 0.85341 | 0 cls: 0.12474 | 1 cls: 0.18321 | 2 cls: 0.33123\n"
     ]
    },
    {
     "name": "stderr",
     "output_type": "stream",
     "text": [
      "Epoch 60, lr 0.0003: 100% 43/43 [00:12<00:00,  3.40it/s, 0 cls=0.20573, 1 cls=0.29332, 2 cls=0.40002, bce=0.08868, dice=0.82626, loss=0.26019]\n"
     ]
    },
    {
     "name": "stdout",
     "output_type": "stream",
     "text": [
      "loss: 0.18380 | bce: 0.04373 | dice: 0.84437 | 0 cls: 0.13946 | 1 cls: 0.19702 | 2 cls: 0.35265\n"
     ]
    },
    {
     "name": "stderr",
     "output_type": "stream",
     "text": [
      "Epoch 61, lr 0.0003: 100% 43/43 [00:12<00:00,  3.41it/s, 0 cls=0.20343, 1 cls=0.29067, 2 cls=0.40309, bce=0.08796, dice=0.82622, loss=0.25830]\n"
     ]
    },
    {
     "name": "stdout",
     "output_type": "stream",
     "text": [
      "loss: 0.17283 | bce: 0.03919 | dice: 0.84718 | 0 cls: 0.13250 | 1 cls: 0.18095 | 2 cls: 0.34198\n"
     ]
    },
    {
     "name": "stderr",
     "output_type": "stream",
     "text": [
      "Epoch 62, lr 0.0003: 100% 43/43 [00:12<00:00,  3.41it/s, 0 cls=0.19041, 1 cls=0.27526, 2 cls=0.38427, bce=0.08372, dice=0.83475, loss=0.24374]\n"
     ]
    },
    {
     "name": "stdout",
     "output_type": "stream",
     "text": [
      "loss: 0.16487 | bce: 0.03869 | dice: 0.85536 | 0 cls: 0.12307 | 1 cls: 0.17627 | 2 cls: 0.32824\n"
     ]
    },
    {
     "name": "stderr",
     "output_type": "stream",
     "text": [
      "Epoch 63, lr 0.0003: 100% 43/43 [00:12<00:00,  3.42it/s, 0 cls=0.20587, 1 cls=0.28762, 2 cls=0.40379, bce=0.08888, dice=0.82639, loss=0.25836]\n"
     ]
    },
    {
     "name": "stdout",
     "output_type": "stream",
     "text": [
      "loss: 0.19978 | bce: 0.05102 | dice: 0.83120 | 0 cls: 0.15669 | 1 cls: 0.20539 | 2 cls: 0.39277\n"
     ]
    },
    {
     "name": "stderr",
     "output_type": "stream",
     "text": [
      "Epoch 64, lr 0.0003: 100% 43/43 [00:12<00:00,  3.42it/s, 0 cls=0.20163, 1 cls=0.28746, 2 cls=0.39477, bce=0.08778, dice=0.82907, loss=0.25528]\n"
     ]
    },
    {
     "name": "stdout",
     "output_type": "stream",
     "text": [
      "loss: 0.17011 | bce: 0.03795 | dice: 0.84942 | 0 cls: 0.13103 | 1 cls: 0.17674 | 2 cls: 0.33894\n"
     ]
    },
    {
     "name": "stderr",
     "output_type": "stream",
     "text": [
      "Epoch 65, lr 0.0003: 100% 43/43 [00:12<00:00,  3.41it/s, 0 cls=0.20157, 1 cls=0.28550, 2 cls=0.39805, bce=0.08781, dice=0.82919, loss=0.25479]\n"
     ]
    },
    {
     "name": "stdout",
     "output_type": "stream",
     "text": [
      "loss: 0.17727 | bce: 0.04415 | dice: 0.84830 | 0 cls: 0.13131 | 1 cls: 0.19192 | 2 cls: 0.34848\n"
     ]
    },
    {
     "name": "stderr",
     "output_type": "stream",
     "text": [
      "Epoch 66, lr 0.0003: 100% 43/43 [00:12<00:00,  3.42it/s, 0 cls=0.19389, 1 cls=0.27235, 2 cls=0.38600, bce=0.08342, dice=0.83363, loss=0.24449]\n"
     ]
    },
    {
     "name": "stdout",
     "output_type": "stream",
     "text": [
      "loss: 0.20034 | bce: 0.04793 | dice: 0.82900 | 0 cls: 0.16214 | 1 cls: 0.20150 | 2 cls: 0.38671\n"
     ]
    },
    {
     "name": "stderr",
     "output_type": "stream",
     "text": [
      "Epoch 67, lr 0.0003: 100% 43/43 [00:12<00:00,  3.41it/s, 0 cls=0.20760, 1 cls=0.28528, 2 cls=0.40008, bce=0.08885, dice=0.82712, loss=0.25792]\n"
     ]
    },
    {
     "name": "stdout",
     "output_type": "stream",
     "text": [
      "loss: 0.18777 | bce: 0.04974 | dice: 0.84422 | 0 cls: 0.14788 | 1 cls: 0.19523 | 2 cls: 0.35735\n"
     ]
    },
    {
     "name": "stderr",
     "output_type": "stream",
     "text": [
      "Epoch 68, lr 0.0003: 100% 43/43 [00:12<00:00,  3.40it/s, 0 cls=0.19731, 1 cls=0.27976, 2 cls=0.39080, bce=0.08462, dice=0.83086, loss=0.24964]\n"
     ]
    },
    {
     "name": "stdout",
     "output_type": "stream",
     "text": [
      "loss: 0.17144 | bce: 0.04161 | dice: 0.85048 | 0 cls: 0.13328 | 1 cls: 0.17661 | 2 cls: 0.34162\n"
     ]
    },
    {
     "name": "stderr",
     "output_type": "stream",
     "text": [
      "Epoch 69, lr 0.0003: 100% 43/43 [00:12<00:00,  3.42it/s, 0 cls=0.18892, 1 cls=0.27465, 2 cls=0.37973, bce=0.08340, dice=0.83638, loss=0.24229]\n"
     ]
    },
    {
     "name": "stdout",
     "output_type": "stream",
     "text": [
      "loss: 0.16952 | bce: 0.04264 | dice: 0.85475 | 0 cls: 0.12880 | 1 cls: 0.18053 | 2 cls: 0.32904\n"
     ]
    },
    {
     "name": "stderr",
     "output_type": "stream",
     "text": [
      "Epoch 70, lr 0.0003: 100% 43/43 [00:12<00:00,  3.42it/s, 0 cls=0.20654, 1 cls=0.28548, 2 cls=0.39741, bce=0.08792, dice=0.82731, loss=0.25720]\n"
     ]
    },
    {
     "name": "stdout",
     "output_type": "stream",
     "text": [
      "loss: 0.16870 | bce: 0.03826 | dice: 0.85338 | 0 cls: 0.12537 | 1 cls: 0.18288 | 2 cls: 0.32861\n"
     ]
    },
    {
     "name": "stderr",
     "output_type": "stream",
     "text": [
      "Epoch 71, lr 0.0003: 100% 43/43 [00:12<00:00,  3.40it/s, 0 cls=0.19684, 1 cls=0.27806, 2 cls=0.38515, bce=0.08481, dice=0.83259, loss=0.24816]\n"
     ]
    },
    {
     "name": "stdout",
     "output_type": "stream",
     "text": [
      "loss: 0.18452 | bce: 0.04474 | dice: 0.84198 | 0 cls: 0.13932 | 1 cls: 0.19706 | 2 cls: 0.36037\n"
     ]
    },
    {
     "name": "stderr",
     "output_type": "stream",
     "text": [
      "Epoch 72, lr 0.0003: 100% 43/43 [00:12<00:00,  3.42it/s, 0 cls=0.19946, 1 cls=0.28819, 2 cls=0.39780, bce=0.08871, dice=0.82992, loss=0.25479]\n"
     ]
    },
    {
     "name": "stdout",
     "output_type": "stream",
     "text": [
      "loss: 0.18435 | bce: 0.04260 | dice: 0.84027 | 0 cls: 0.14029 | 1 cls: 0.19547 | 2 cls: 0.36013\n"
     ]
    },
    {
     "name": "stderr",
     "output_type": "stream",
     "text": [
      "Epoch 73, lr 0.0003: 100% 43/43 [00:12<00:00,  3.40it/s, 0 cls=0.20212, 1 cls=0.29000, 2 cls=0.39808, bce=0.08758, dice=0.82784, loss=0.25687]\n"
     ]
    },
    {
     "name": "stdout",
     "output_type": "stream",
     "text": [
      "loss: 0.19257 | bce: 0.04883 | dice: 0.83546 | 0 cls: 0.14660 | 1 cls: 0.20272 | 2 cls: 0.38181\n"
     ]
    },
    {
     "name": "stderr",
     "output_type": "stream",
     "text": [
      "Epoch 74, lr 0.0003: 100% 43/43 [00:12<00:00,  3.42it/s, 0 cls=0.19653, 1 cls=0.27890, 2 cls=0.38609, bce=0.08480, dice=0.83235, loss=0.24843]\n"
     ]
    },
    {
     "name": "stdout",
     "output_type": "stream",
     "text": [
      "loss: 0.17099 | bce: 0.04076 | dice: 0.85103 | 0 cls: 0.12809 | 1 cls: 0.18332 | 2 cls: 0.33620\n"
     ]
    },
    {
     "name": "stderr",
     "output_type": "stream",
     "text": [
      "Epoch 75, lr 0.0003: 100% 43/43 [00:12<00:00,  3.42it/s, 0 cls=0.19575, 1 cls=0.27863, 2 cls=0.38792, bce=0.08523, dice=0.83274, loss=0.24812]\n"
     ]
    },
    {
     "name": "stdout",
     "output_type": "stream",
     "text": [
      "loss: 0.16218 | bce: 0.03877 | dice: 0.85698 | 0 cls: 0.11993 | 1 cls: 0.17438 | 2 cls: 0.32458\n"
     ]
    },
    {
     "name": "stderr",
     "output_type": "stream",
     "text": [
      "Epoch 76, lr 0.0003: 100% 43/43 [00:12<00:00,  3.42it/s, 0 cls=0.19452, 1 cls=0.27725, 2 cls=0.38399, bce=0.08440, dice=0.83386, loss=0.24656]\n"
     ]
    },
    {
     "name": "stdout",
     "output_type": "stream",
     "text": [
      "loss: 0.17065 | bce: 0.04214 | dice: 0.85378 | 0 cls: 0.13182 | 1 cls: 0.18003 | 2 cls: 0.32727\n"
     ]
    },
    {
     "name": "stderr",
     "output_type": "stream",
     "text": [
      "Epoch 77, lr 0.0003: 100% 43/43 [00:12<00:00,  3.42it/s, 0 cls=0.19881, 1 cls=0.27731, 2 cls=0.39156, bce=0.08584, dice=0.83141, loss=0.24948]\n"
     ]
    },
    {
     "name": "stdout",
     "output_type": "stream",
     "text": [
      "loss: 0.16720 | bce: 0.04208 | dice: 0.85506 | 0 cls: 0.13076 | 1 cls: 0.17247 | 2 cls: 0.32826\n"
     ]
    },
    {
     "name": "stderr",
     "output_type": "stream",
     "text": [
      "Epoch 78, lr 0.0003: 100% 43/43 [00:12<00:00,  3.39it/s, 0 cls=0.19842, 1 cls=0.27802, 2 cls=0.38970, bce=0.08554, dice=0.83174, loss=0.24938]\n"
     ]
    },
    {
     "name": "stdout",
     "output_type": "stream",
     "text": [
      "loss: 0.17829 | bce: 0.04464 | dice: 0.84670 | 0 cls: 0.14517 | 1 cls: 0.17768 | 2 cls: 0.34631\n"
     ]
    },
    {
     "name": "stderr",
     "output_type": "stream",
     "text": [
      "Epoch 79, lr 0.0003: 100% 43/43 [00:12<00:00,  3.42it/s, 0 cls=0.19982, 1 cls=0.28601, 2 cls=0.39327, bce=0.08596, dice=0.82927, loss=0.25364]\n"
     ]
    },
    {
     "name": "stdout",
     "output_type": "stream",
     "text": [
      "loss: 0.16423 | bce: 0.03681 | dice: 0.85704 | 0 cls: 0.12255 | 1 cls: 0.17794 | 2 cls: 0.31779\n"
     ]
    },
    {
     "name": "stderr",
     "output_type": "stream",
     "text": [
      "Epoch 80, lr 0.0003: 100% 43/43 [00:12<00:00,  3.41it/s, 0 cls=0.19890, 1 cls=0.28306, 2 cls=0.38853, bce=0.08575, dice=0.83099, loss=0.25153]\n"
     ]
    },
    {
     "name": "stdout",
     "output_type": "stream",
     "text": [
      "loss: 0.16854 | bce: 0.03804 | dice: 0.85190 | 0 cls: 0.13457 | 1 cls: 0.17224 | 2 cls: 0.32358\n"
     ]
    },
    {
     "name": "stderr",
     "output_type": "stream",
     "text": [
      "Epoch 81, lr 0.0003: 100% 43/43 [00:12<00:00,  3.43it/s, 0 cls=0.19701, 1 cls=0.28383, 2 cls=0.39044, bce=0.08661, dice=0.83198, loss=0.25108]\n"
     ]
    },
    {
     "name": "stdout",
     "output_type": "stream",
     "text": [
      "loss: 0.16623 | bce: 0.03828 | dice: 0.85368 | 0 cls: 0.12751 | 1 cls: 0.17437 | 2 cls: 0.32727\n"
     ]
    },
    {
     "name": "stderr",
     "output_type": "stream",
     "text": [
      "Epoch 82, lr 0.0003: 100% 43/43 [00:12<00:00,  3.42it/s, 0 cls=0.19383, 1 cls=0.27298, 2 cls=0.38409, bce=0.08436, dice=0.83471, loss=0.24451]\n"
     ]
    },
    {
     "name": "stdout",
     "output_type": "stream",
     "text": [
      "loss: 0.17793 | bce: 0.04149 | dice: 0.84270 | 0 cls: 0.13799 | 1 cls: 0.18467 | 2 cls: 0.35068\n"
     ]
    },
    {
     "name": "stderr",
     "output_type": "stream",
     "text": [
      "Epoch 83, lr 0.0003: 100% 43/43 [00:12<00:00,  3.40it/s, 0 cls=0.20052, 1 cls=0.28481, 2 cls=0.39430, bce=0.08701, dice=0.82963, loss=0.25361]\n"
     ]
    },
    {
     "name": "stdout",
     "output_type": "stream",
     "text": [
      "loss: 0.17541 | bce: 0.04097 | dice: 0.84727 | 0 cls: 0.13066 | 1 cls: 0.18867 | 2 cls: 0.34613\n"
     ]
    },
    {
     "name": "stderr",
     "output_type": "stream",
     "text": [
      "Epoch 84, lr 0.0003: 100% 43/43 [00:12<00:00,  3.41it/s, 0 cls=0.19416, 1 cls=0.27649, 2 cls=0.38249, bce=0.08463, dice=0.83477, loss=0.24592]\n"
     ]
    },
    {
     "name": "stdout",
     "output_type": "stream",
     "text": [
      "loss: 0.15741 | bce: 0.03548 | dice: 0.86035 | 0 cls: 0.11909 | 1 cls: 0.16722 | 2 cls: 0.30984\n"
     ]
    },
    {
     "name": "stderr",
     "output_type": "stream",
     "text": [
      "Epoch 85, lr 0.0003: 100% 43/43 [00:12<00:00,  3.43it/s, 0 cls=0.18904, 1 cls=0.27068, 2 cls=0.37697, bce=0.08304, dice=0.83770, loss=0.24049]\n"
     ]
    },
    {
     "name": "stdout",
     "output_type": "stream",
     "text": [
      "loss: 0.17883 | bce: 0.04296 | dice: 0.84493 | 0 cls: 0.15000 | 1 cls: 0.17364 | 2 cls: 0.34370\n"
     ]
    },
    {
     "name": "stderr",
     "output_type": "stream",
     "text": [
      "Epoch 86, lr 0.0003: 100% 43/43 [00:12<00:00,  3.41it/s, 0 cls=0.19138, 1 cls=0.27416, 2 cls=0.38572, bce=0.08275, dice=0.83346, loss=0.24393]\n"
     ]
    },
    {
     "name": "stdout",
     "output_type": "stream",
     "text": [
      "loss: 0.16318 | bce: 0.04001 | dice: 0.85764 | 0 cls: 0.12573 | 1 cls: 0.17024 | 2 cls: 0.32215\n"
     ]
    },
    {
     "name": "stderr",
     "output_type": "stream",
     "text": [
      "Epoch 87, lr 0.0003: 100% 43/43 [00:12<00:00,  3.41it/s, 0 cls=0.19444, 1 cls=0.27432, 2 cls=0.38350, bce=0.08335, dice=0.83383, loss=0.24530]\n"
     ]
    },
    {
     "name": "stdout",
     "output_type": "stream",
     "text": [
      "loss: 0.18003 | bce: 0.04128 | dice: 0.84233 | 0 cls: 0.13297 | 1 cls: 0.19462 | 2 cls: 0.35692\n"
     ]
    },
    {
     "name": "stderr",
     "output_type": "stream",
     "text": [
      "Epoch 88, lr 0.0003: 100% 43/43 [00:12<00:00,  3.42it/s, 0 cls=0.19745, 1 cls=0.28143, 2 cls=0.38987, bce=0.08441, dice=0.83051, loss=0.25028]\n"
     ]
    },
    {
     "name": "stdout",
     "output_type": "stream",
     "text": [
      "loss: 0.15944 | bce: 0.03910 | dice: 0.86169 | 0 cls: 0.12200 | 1 cls: 0.16715 | 2 cls: 0.31577\n"
     ]
    },
    {
     "name": "stderr",
     "output_type": "stream",
     "text": [
      "Epoch 89, lr 0.0003: 100% 43/43 [00:12<00:00,  3.41it/s, 0 cls=0.18962, 1 cls=0.27389, 2 cls=0.38013, bce=0.08269, dice=0.83557, loss=0.24238]\n"
     ]
    },
    {
     "name": "stdout",
     "output_type": "stream",
     "text": [
      "loss: 0.16193 | bce: 0.04029 | dice: 0.85965 | 0 cls: 0.12070 | 1 cls: 0.17390 | 2 cls: 0.32025\n"
     ]
    },
    {
     "name": "stderr",
     "output_type": "stream",
     "text": [
      "Epoch 90, lr 0.001: 100% 43/43 [00:12<00:00,  3.41it/s, 0 cls=0.22021, 1 cls=0.31691, 2 cls=0.42803, bce=0.09485, dice=0.81491, loss=0.27967]\n"
     ]
    },
    {
     "name": "stdout",
     "output_type": "stream",
     "text": [
      "loss: 0.22673 | bce: 0.05717 | dice: 0.81947 | 0 cls: 0.14832 | 1 cls: 0.27832 | 2 cls: 0.41244\n"
     ]
    },
    {
     "name": "stderr",
     "output_type": "stream",
     "text": [
      "Epoch 91, lr 0.001: 100% 43/43 [00:12<00:00,  3.42it/s, 0 cls=0.24003, 1 cls=0.33329, 2 cls=0.44671, bce=0.10277, dice=0.80670, loss=0.29800]\n"
     ]
    },
    {
     "name": "stdout",
     "output_type": "stream",
     "text": [
      "loss: 0.26655 | bce: 0.05782 | dice: 0.77497 | 0 cls: 0.21321 | 1 cls: 0.27088 | 2 cls: 0.51591\n"
     ]
    },
    {
     "name": "stderr",
     "output_type": "stream",
     "text": [
      "Epoch 92, lr 0.0003: 100% 43/43 [00:12<00:00,  3.41it/s, 0 cls=0.21294, 1 cls=0.30073, 2 cls=0.41230, bce=0.09088, dice=0.82108, loss=0.26799]\n"
     ]
    },
    {
     "name": "stdout",
     "output_type": "stream",
     "text": [
      "loss: 0.16166 | bce: 0.03696 | dice: 0.85839 | 0 cls: 0.12297 | 1 cls: 0.17127 | 2 cls: 0.31665\n"
     ]
    },
    {
     "name": "stderr",
     "output_type": "stream",
     "text": [
      "Epoch 93, lr 0.0003: 100% 43/43 [00:12<00:00,  3.40it/s, 0 cls=0.20212, 1 cls=0.28435, 2 cls=0.39508, bce=0.08687, dice=0.82946, loss=0.25431]\n"
     ]
    },
    {
     "name": "stdout",
     "output_type": "stream",
     "text": [
      "loss: 0.16627 | bce: 0.04160 | dice: 0.85661 | 0 cls: 0.12685 | 1 cls: 0.17492 | 2 cls: 0.32875\n"
     ]
    },
    {
     "name": "stderr",
     "output_type": "stream",
     "text": [
      "Epoch 94, lr 8.999999999999999e-05: 100% 43/43 [00:12<00:00,  3.40it/s, 0 cls=0.19392, 1 cls=0.27629, 2 cls=0.38016, bce=0.08437, dice=0.83525, loss=0.24549]\n"
     ]
    },
    {
     "name": "stdout",
     "output_type": "stream",
     "text": [
      "loss: 0.15547 | bce: 0.03630 | dice: 0.86300 | 0 cls: 0.11743 | 1 cls: 0.16498 | 2 cls: 0.30759\n"
     ]
    },
    {
     "name": "stderr",
     "output_type": "stream",
     "text": [
      "Epoch 95, lr 0.001: 100% 43/43 [00:12<00:00,  3.41it/s, 0 cls=0.22133, 1 cls=0.31064, 2 cls=0.42733, bce=0.09519, dice=0.81595, loss=0.27765]\n"
     ]
    },
    {
     "name": "stdout",
     "output_type": "stream",
     "text": [
      "loss: 0.16733 | bce: 0.03776 | dice: 0.85305 | 0 cls: 0.12675 | 1 cls: 0.17801 | 2 cls: 0.32748\n"
     ]
    },
    {
     "name": "stderr",
     "output_type": "stream",
     "text": [
      "Epoch 96, lr 0.001: 100% 43/43 [00:12<00:00,  3.41it/s, 0 cls=0.26531, 1 cls=0.35450, 2 cls=0.47269, bce=0.11575, dice=0.79893, loss=0.32173]\n"
     ]
    },
    {
     "name": "stdout",
     "output_type": "stream",
     "text": [
      "loss: 0.22067 | bce: 0.05399 | dice: 0.81144 | 0 cls: 0.17283 | 1 cls: 0.22848 | 2 cls: 0.42864\n"
     ]
    },
    {
     "name": "stderr",
     "output_type": "stream",
     "text": [
      "Epoch 97, lr 0.0003: 100% 43/43 [00:12<00:00,  3.42it/s, 0 cls=0.22682, 1 cls=0.31173, 2 cls=0.42676, bce=0.09580, dice=0.81443, loss=0.28077]\n"
     ]
    },
    {
     "name": "stdout",
     "output_type": "stream",
     "text": [
      "loss: 0.17244 | bce: 0.04058 | dice: 0.84919 | 0 cls: 0.13325 | 1 cls: 0.17925 | 2 cls: 0.34117\n"
     ]
    },
    {
     "name": "stderr",
     "output_type": "stream",
     "text": [
      "Epoch 98, lr 0.0003: 100% 43/43 [00:12<00:00,  3.43it/s, 0 cls=0.19998, 1 cls=0.28752, 2 cls=0.39430, bce=0.08747, dice=0.82983, loss=0.25443]\n"
     ]
    },
    {
     "name": "stdout",
     "output_type": "stream",
     "text": [
      "loss: 0.16418 | bce: 0.04224 | dice: 0.85764 | 0 cls: 0.12431 | 1 cls: 0.17351 | 2 cls: 0.32618\n"
     ]
    },
    {
     "name": "stderr",
     "output_type": "stream",
     "text": [
      "Epoch 99, lr 8.999999999999999e-05: 100% 43/43 [00:12<00:00,  3.42it/s, 0 cls=0.20047, 1 cls=0.28433, 2 cls=0.39478, bce=0.08661, dice=0.82932, loss=0.25345]\n"
     ]
    },
    {
     "name": "stdout",
     "output_type": "stream",
     "text": [
      "loss: 0.16960 | bce: 0.04095 | dice: 0.85189 | 0 cls: 0.13182 | 1 cls: 0.17519 | 2 cls: 0.33618\n"
     ]
    },
    {
     "name": "stderr",
     "output_type": "stream",
     "text": [
      "Epoch 100, lr 0.00015: 100% 43/43 [00:12<00:00,  3.41it/s, 0 cls=0.19232, 1 cls=0.27637, 2 cls=0.38178, bce=0.08332, dice=0.83448, loss=0.24489]\n"
     ]
    },
    {
     "name": "stdout",
     "output_type": "stream",
     "text": [
      "loss: 0.15737 | bce: 0.03765 | dice: 0.86220 | 0 cls: 0.11859 | 1 cls: 0.16786 | 2 cls: 0.30934\n"
     ]
    },
    {
     "name": "stderr",
     "output_type": "stream",
     "text": [
      "Epoch 101, lr 0.00015: 100% 43/43 [00:12<00:00,  3.43it/s, 0 cls=0.18801, 1 cls=0.27128, 2 cls=0.37602, bce=0.08236, dice=0.83742, loss=0.24012]\n"
     ]
    },
    {
     "name": "stdout",
     "output_type": "stream",
     "text": [
      "loss: 0.15156 | bce: 0.03722 | dice: 0.86799 | 0 cls: 0.11364 | 1 cls: 0.16245 | 2 cls: 0.29759\n"
     ]
    },
    {
     "name": "stderr",
     "output_type": "stream",
     "text": [
      "Epoch 102, lr 0.00015: 100% 43/43 [00:12<00:00,  3.42it/s, 0 cls=0.19421, 1 cls=0.28032, 2 cls=0.38484, bce=0.08463, dice=0.83368, loss=0.24771]\n"
     ]
    },
    {
     "name": "stdout",
     "output_type": "stream",
     "text": [
      "loss: 0.15252 | bce: 0.03688 | dice: 0.86638 | 0 cls: 0.11457 | 1 cls: 0.16301 | 2 cls: 0.30033\n"
     ]
    },
    {
     "name": "stderr",
     "output_type": "stream",
     "text": [
      "Epoch 103, lr 0.00015: 100% 43/43 [00:12<00:00,  3.43it/s, 0 cls=0.18579, 1 cls=0.27213, 2 cls=0.37621, bce=0.08243, dice=0.83826, loss=0.23937]\n"
     ]
    },
    {
     "name": "stdout",
     "output_type": "stream",
     "text": [
      "loss: 0.15956 | bce: 0.03821 | dice: 0.85998 | 0 cls: 0.12050 | 1 cls: 0.16926 | 2 cls: 0.31607\n"
     ]
    },
    {
     "name": "stderr",
     "output_type": "stream",
     "text": [
      "Epoch 104, lr 0.00015: 100% 43/43 [00:12<00:00,  3.42it/s, 0 cls=0.18756, 1 cls=0.27110, 2 cls=0.37650, bce=0.08349, dice=0.83890, loss=0.23987]\n"
     ]
    },
    {
     "name": "stdout",
     "output_type": "stream",
     "text": [
      "loss: 0.15616 | bce: 0.03632 | dice: 0.86319 | 0 cls: 0.11964 | 1 cls: 0.16519 | 2 cls: 0.30268\n"
     ]
    },
    {
     "name": "stderr",
     "output_type": "stream",
     "text": [
      "Epoch 105, lr 0.00015: 100% 43/43 [00:12<00:00,  3.42it/s, 0 cls=0.18454, 1 cls=0.26630, 2 cls=0.37328, bce=0.08101, dice=0.83931, loss=0.23612]\n"
     ]
    },
    {
     "name": "stdout",
     "output_type": "stream",
     "text": [
      "loss: 0.15483 | bce: 0.03735 | dice: 0.86446 | 0 cls: 0.11789 | 1 cls: 0.16345 | 2 cls: 0.30509\n"
     ]
    },
    {
     "name": "stderr",
     "output_type": "stream",
     "text": [
      "Epoch 106, lr 0.00015: 100% 43/43 [00:12<00:00,  3.42it/s, 0 cls=0.19123, 1 cls=0.27113, 2 cls=0.37373, bce=0.08222, dice=0.83736, loss=0.24144]\n"
     ]
    },
    {
     "name": "stdout",
     "output_type": "stream",
     "text": [
      "loss: 0.15151 | bce: 0.03654 | dice: 0.86774 | 0 cls: 0.11383 | 1 cls: 0.16225 | 2 cls: 0.29692\n"
     ]
    },
    {
     "name": "stderr",
     "output_type": "stream",
     "text": [
      "Epoch 107, lr 0.00015: 100% 43/43 [00:12<00:00,  3.41it/s, 0 cls=0.18788, 1 cls=0.26647, 2 cls=0.36946, bce=0.08138, dice=0.83950, loss=0.23748]\n"
     ]
    },
    {
     "name": "stdout",
     "output_type": "stream",
     "text": [
      "loss: 0.15336 | bce: 0.03698 | dice: 0.86575 | 0 cls: 0.11641 | 1 cls: 0.16239 | 2 cls: 0.30201\n"
     ]
    },
    {
     "name": "stderr",
     "output_type": "stream",
     "text": [
      "Epoch 108, lr 0.00015: 100% 43/43 [00:12<00:00,  3.41it/s, 0 cls=0.18579, 1 cls=0.26380, 2 cls=0.36960, bce=0.08196, dice=0.84112, loss=0.23537]\n"
     ]
    },
    {
     "name": "stdout",
     "output_type": "stream",
     "text": [
      "loss: 0.14996 | bce: 0.03768 | dice: 0.87101 | 0 cls: 0.11113 | 1 cls: 0.16306 | 2 cls: 0.29174\n"
     ]
    },
    {
     "name": "stderr",
     "output_type": "stream",
     "text": [
      "Epoch 109, lr 0.00015: 100% 43/43 [00:12<00:00,  3.42it/s, 0 cls=0.19212, 1 cls=0.27172, 2 cls=0.37497, bce=0.08268, dice=0.83640, loss=0.24224]\n"
     ]
    },
    {
     "name": "stdout",
     "output_type": "stream",
     "text": [
      "loss: 0.14798 | bce: 0.03684 | dice: 0.87237 | 0 cls: 0.11049 | 1 cls: 0.15987 | 2 cls: 0.28788\n"
     ]
    },
    {
     "name": "stderr",
     "output_type": "stream",
     "text": [
      "Epoch 110, lr 0.00015: 100% 43/43 [00:12<00:00,  3.42it/s, 0 cls=0.17840, 1 cls=0.26098, 2 cls=0.36189, bce=0.07885, dice=0.84375, loss=0.22978]\n"
     ]
    },
    {
     "name": "stdout",
     "output_type": "stream",
     "text": [
      "loss: 0.14968 | bce: 0.03649 | dice: 0.87052 | 0 cls: 0.11068 | 1 cls: 0.16314 | 2 cls: 0.29082\n"
     ]
    },
    {
     "name": "stderr",
     "output_type": "stream",
     "text": [
      "Epoch 111, lr 0.00015: 100% 43/43 [00:12<00:00,  3.43it/s, 0 cls=0.18575, 1 cls=0.26330, 2 cls=0.37040, bce=0.08150, dice=0.84061, loss=0.23524]\n"
     ]
    },
    {
     "name": "stdout",
     "output_type": "stream",
     "text": [
      "loss: 0.15921 | bce: 0.03619 | dice: 0.85908 | 0 cls: 0.12077 | 1 cls: 0.16878 | 2 cls: 0.31310\n"
     ]
    },
    {
     "name": "stderr",
     "output_type": "stream",
     "text": [
      "Epoch 112, lr 0.00015: 100% 43/43 [00:12<00:00,  3.41it/s, 0 cls=0.19175, 1 cls=0.27461, 2 cls=0.37780, bce=0.08252, dice=0.83519, loss=0.24350]\n"
     ]
    },
    {
     "name": "stdout",
     "output_type": "stream",
     "text": [
      "loss: 0.15044 | bce: 0.03625 | dice: 0.86847 | 0 cls: 0.11314 | 1 cls: 0.16089 | 2 cls: 0.29507\n"
     ]
    },
    {
     "name": "stderr",
     "output_type": "stream",
     "text": [
      "Epoch 113, lr 0.00015: 100% 43/43 [00:12<00:00,  3.40it/s, 0 cls=0.18531, 1 cls=0.26643, 2 cls=0.36963, bce=0.08037, dice=0.83956, loss=0.23619]\n"
     ]
    },
    {
     "name": "stdout",
     "output_type": "stream",
     "text": [
      "loss: 0.15715 | bce: 0.03856 | dice: 0.86289 | 0 cls: 0.11652 | 1 cls: 0.16990 | 2 cls: 0.30927\n"
     ]
    },
    {
     "name": "stderr",
     "output_type": "stream",
     "text": [
      "Epoch 114, lr 0.00015: 100% 43/43 [00:12<00:00,  3.41it/s, 0 cls=0.18249, 1 cls=0.26412, 2 cls=0.36625, bce=0.08085, dice=0.84232, loss=0.23352]\n"
     ]
    },
    {
     "name": "stdout",
     "output_type": "stream",
     "text": [
      "loss: 0.15069 | bce: 0.03666 | dice: 0.86912 | 0 cls: 0.11318 | 1 cls: 0.16153 | 2 cls: 0.29480\n"
     ]
    },
    {
     "name": "stderr",
     "output_type": "stream",
     "text": [
      "Epoch 115, lr 0.00015: 100% 43/43 [00:12<00:00,  3.43it/s, 0 cls=0.17973, 1 cls=0.25835, 2 cls=0.36030, bce=0.07800, dice=0.84353, loss=0.22924]\n"
     ]
    },
    {
     "name": "stdout",
     "output_type": "stream",
     "text": [
      "loss: 0.15134 | bce: 0.03565 | dice: 0.86686 | 0 cls: 0.11481 | 1 cls: 0.16011 | 2 cls: 0.29893\n"
     ]
    },
    {
     "name": "stderr",
     "output_type": "stream",
     "text": [
      "Epoch 116, lr 0.00015: 100% 43/43 [00:12<00:00,  3.41it/s, 0 cls=0.18712, 1 cls=0.26413, 2 cls=0.37358, bce=0.08067, dice=0.83856, loss=0.23657]\n"
     ]
    },
    {
     "name": "stdout",
     "output_type": "stream",
     "text": [
      "loss: 0.15232 | bce: 0.03544 | dice: 0.86546 | 0 cls: 0.11442 | 1 cls: 0.16304 | 2 cls: 0.29896\n"
     ]
    },
    {
     "name": "stderr",
     "output_type": "stream",
     "text": [
      "Epoch 117, lr 0.00015: 100% 43/43 [00:12<00:00,  3.41it/s, 0 cls=0.18451, 1 cls=0.26571, 2 cls=0.36967, bce=0.08068, dice=0.84018, loss=0.23551]\n"
     ]
    },
    {
     "name": "stdout",
     "output_type": "stream",
     "text": [
      "loss: 0.15743 | bce: 0.03807 | dice: 0.86241 | 0 cls: 0.11896 | 1 cls: 0.16751 | 2 cls: 0.30947\n"
     ]
    },
    {
     "name": "stderr",
     "output_type": "stream",
     "text": [
      "Epoch 118, lr 0.00015: 100% 43/43 [00:12<00:00,  3.42it/s, 0 cls=0.18792, 1 cls=0.26691, 2 cls=0.37172, bce=0.08277, dice=0.83998, loss=0.23790]\n"
     ]
    },
    {
     "name": "stdout",
     "output_type": "stream",
     "text": [
      "loss: 0.15060 | bce: 0.03618 | dice: 0.86873 | 0 cls: 0.11446 | 1 cls: 0.16053 | 2 cls: 0.29162\n"
     ]
    },
    {
     "name": "stderr",
     "output_type": "stream",
     "text": [
      "Epoch 119, lr 0.00015: 100% 43/43 [00:12<00:00,  3.42it/s, 0 cls=0.18751, 1 cls=0.26422, 2 cls=0.36939, bce=0.08140, dice=0.84000, loss=0.23638]\n"
     ]
    },
    {
     "name": "stdout",
     "output_type": "stream",
     "text": [
      "loss: 0.15260 | bce: 0.03586 | dice: 0.86637 | 0 cls: 0.11564 | 1 cls: 0.16253 | 2 cls: 0.29768\n"
     ]
    },
    {
     "name": "stderr",
     "output_type": "stream",
     "text": [
      "Epoch 120, lr 0.00015: 100% 43/43 [00:12<00:00,  3.41it/s, 0 cls=0.17738, 1 cls=0.25697, 2 cls=0.36044, bce=0.07909, dice=0.84530, loss=0.22752]\n"
     ]
    },
    {
     "name": "stdout",
     "output_type": "stream",
     "text": [
      "loss: 0.15918 | bce: 0.03683 | dice: 0.85966 | 0 cls: 0.12034 | 1 cls: 0.16880 | 2 cls: 0.31491\n"
     ]
    },
    {
     "name": "stderr",
     "output_type": "stream",
     "text": [
      "Epoch 121, lr 0.00015: 100% 43/43 [00:12<00:00,  3.43it/s, 0 cls=0.18236, 1 cls=0.26112, 2 cls=0.36750, bce=0.07900, dice=0.84086, loss=0.23238]\n"
     ]
    },
    {
     "name": "stdout",
     "output_type": "stream",
     "text": [
      "loss: 0.15898 | bce: 0.03858 | dice: 0.86160 | 0 cls: 0.12106 | 1 cls: 0.16780 | 2 cls: 0.31335\n"
     ]
    },
    {
     "name": "stderr",
     "output_type": "stream",
     "text": [
      "Epoch 122, lr 0.00015: 100% 43/43 [00:12<00:00,  3.39it/s, 0 cls=0.18429, 1 cls=0.26174, 2 cls=0.36688, bce=0.08109, dice=0.84200, loss=0.23353]\n"
     ]
    },
    {
     "name": "stdout",
     "output_type": "stream",
     "text": [
      "loss: 0.15417 | bce: 0.03805 | dice: 0.86691 | 0 cls: 0.11616 | 1 cls: 0.16490 | 2 cls: 0.30126\n"
     ]
    },
    {
     "name": "stderr",
     "output_type": "stream",
     "text": [
      "Epoch 123, lr 0.00015: 100% 43/43 [00:12<00:00,  3.41it/s, 0 cls=0.18330, 1 cls=0.26156, 2 cls=0.36622, bce=0.08015, dice=0.84183, loss=0.23290]\n"
     ]
    },
    {
     "name": "stdout",
     "output_type": "stream",
     "text": [
      "loss: 0.15882 | bce: 0.03812 | dice: 0.86044 | 0 cls: 0.12145 | 1 cls: 0.16605 | 2 cls: 0.31675\n"
     ]
    },
    {
     "name": "stderr",
     "output_type": "stream",
     "text": [
      "Epoch 124, lr 0.00015: 100% 43/43 [00:12<00:00,  3.40it/s, 0 cls=0.18033, 1 cls=0.26374, 2 cls=0.36626, bce=0.08049, dice=0.84290, loss=0.23229]\n"
     ]
    },
    {
     "name": "stdout",
     "output_type": "stream",
     "text": [
      "loss: 0.14927 | bce: 0.03539 | dice: 0.86940 | 0 cls: 0.11110 | 1 cls: 0.16169 | 2 cls: 0.29044\n"
     ]
    },
    {
     "name": "stderr",
     "output_type": "stream",
     "text": [
      "Epoch 125, lr 0.00015: 100% 43/43 [00:12<00:00,  3.41it/s, 0 cls=0.18833, 1 cls=0.26434, 2 cls=0.36975, bce=0.08163, dice=0.83975, loss=0.23688]\n"
     ]
    },
    {
     "name": "stdout",
     "output_type": "stream",
     "text": [
      "loss: 0.15323 | bce: 0.03608 | dice: 0.86832 | 0 cls: 0.11441 | 1 cls: 0.16766 | 2 cls: 0.28963\n"
     ]
    },
    {
     "name": "stderr",
     "output_type": "stream",
     "text": [
      "Epoch 126, lr 0.00015: 100% 43/43 [00:12<00:00,  3.40it/s, 0 cls=0.18096, 1 cls=0.26001, 2 cls=0.36642, bce=0.07936, dice=0.84230, loss=0.23113]\n"
     ]
    },
    {
     "name": "stdout",
     "output_type": "stream",
     "text": [
      "loss: 0.16161 | bce: 0.03833 | dice: 0.85909 | 0 cls: 0.12091 | 1 cls: 0.17388 | 2 cls: 0.31597\n"
     ]
    },
    {
     "name": "stderr",
     "output_type": "stream",
     "text": [
      "Epoch 127, lr 0.00015: 100% 43/43 [00:12<00:00,  3.41it/s, 0 cls=0.18082, 1 cls=0.26249, 2 cls=0.36409, bce=0.07898, dice=0.84196, loss=0.23181]\n"
     ]
    },
    {
     "name": "stdout",
     "output_type": "stream",
     "text": [
      "loss: 0.15492 | bce: 0.03754 | dice: 0.86478 | 0 cls: 0.11728 | 1 cls: 0.16414 | 2 cls: 0.30623\n"
     ]
    },
    {
     "name": "stderr",
     "output_type": "stream",
     "text": [
      "Epoch 128, lr 0.00015:  70% 30/43 [00:08<00:03,  3.39it/s, 0 cls=0.17754, 1 cls=0.24853, 2 cls=0.35337, bce=0.07735, dice=0.84717, loss=0.22352]"
     ]
    }
   ],
   "source": [
    "train_args = {\n",
    "    'model_name': 'TernausNet34_without_scale_05_epoch_500',\n",
    "    'network': 'TernausNet34',\n",
    "    'nb_epoch': 500,\n",
    "    'loss': 'BCEDiceLossMulti',\n",
    "    'lr_args': {\n",
    "        'adjust_init_lr': 0.0003,\n",
    "        'adjust_lr_decay_factor': 0.5,\n",
    "        'cycle_epochs_decay': 2,\n",
    "        'cycle_init_lr': 0.001,\n",
    "        'cycle_lr_decay_factor': 0.3,\n",
    "        'global_cycle_lr_decay_factor': 0.7,\n",
    "        'global_num_epochs_per_cycle': 100,\n",
    "        'num_epochs_per_cycle': 5,\n",
    "        'num_epochs_per_decay': 100\n",
    "    }, \n",
    "    'model_dir': 'models', \n",
    "    'log_dir': 'logs', \n",
    "    'network_args': {\n",
    "        'num_classes': 3, \n",
    "        'num_filters': 16, \n",
    "        'pretrained': True\n",
    "    }, \n",
    "    'loss_args': {\n",
    "        'weights': [0.5, 0.4, 0.1],\n",
    "        'num_classes': 3\n",
    "    },       \n",
    "    'optimizer': 'Adam'\n",
    "}\n",
    "\n",
    "train(\n",
    "    train_args, train_ids + val_ids, val_ids[:1], \n",
    "    \"../output_data/without_scale_05/images/{}.png\", \"../output_data/without_scale_05/masks/{}.png\", \n",
    "    16, 1, train_transforms, val_transforms, period=64\n",
    ")"
   ]
  },
  {
   "cell_type": "code",
   "execution_count": null,
   "metadata": {},
   "outputs": [],
   "source": []
  }
 ],
 "metadata": {
  "kernelspec": {
   "display_name": "Python 3",
   "language": "python",
   "name": "python3"
  },
  "language_info": {
   "codemirror_mode": {
    "name": "ipython",
    "version": 3
   },
   "file_extension": ".py",
   "mimetype": "text/x-python",
   "name": "python",
   "nbconvert_exporter": "python",
   "pygments_lexer": "ipython3",
   "version": "3.6.4"
  }
 },
 "nbformat": 4,
 "nbformat_minor": 2
}
